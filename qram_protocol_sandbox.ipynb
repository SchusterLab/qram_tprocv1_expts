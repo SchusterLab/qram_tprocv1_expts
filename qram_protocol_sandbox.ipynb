{
 "cells": [
  {
   "cell_type": "code",
   "execution_count": 1,
   "metadata": {},
   "outputs": [],
   "source": [
    "# %matplotlib widget\n",
    "%matplotlib qt5"
   ]
  },
  {
   "cell_type": "code",
   "execution_count": 2,
   "metadata": {},
   "outputs": [
    {
     "name": "stdout",
     "output_type": "stream",
     "text": [
      "Could not import QickInstrument (will only work if running on rfsoc). If running on rfsoc, try install/update qick package\n",
      "Warning failed to import AWG81180A\n",
      "Warning failed to import Tek5014\n",
      "Warning failed to import Tek70001\n",
      "Warning failed to import M8195A\n"
     ]
    },
    {
     "name": "stderr",
     "output_type": "stream",
     "text": [
      "c:\\ProgramData\\Anaconda3\\lib\\site-packages\\IPython\\qt.py:12: ShimWarning: The `IPython.qt` package has been deprecated since IPython 4.0. You should import from qtconsole instead.\n",
      "  warn(\"The `IPython.qt` package has been deprecated since IPython 4.0. \"\n"
     ]
    },
    {
     "name": "stdout",
     "output_type": "stream",
     "text": [
      "Could not load InstrumentManagerWindow\n",
      "Could not load labbrick\n",
      "Could not load Autonics TM4 Driver\n",
      "Could not load Oxford Trition driver\n"
     ]
    }
   ],
   "source": [
    "%load_ext autoreload\n",
    "%autoreload 2\n",
    "\n",
    "import numpy as np\n",
    "import matplotlib.pyplot as plt\n",
    "\n",
    "from qick import *\n",
    "from qick.helpers import gauss\n",
    "from tqdm import tqdm_notebook as tqdm\n",
    "\n",
    "import time\n",
    "import os\n",
    "import sys\n",
    "sys.path.append('/home/xilinx/jupyter_notebooks/')\n",
    "import scipy as sp\n",
    "from scipy.fft import fft, fftfreq\n",
    "import json\n",
    "\n",
    "from slab.instruments import *\n",
    "from slab.experiment import Experiment\n",
    "from slab.datamanagement import SlabFile\n",
    "from slab import get_next_filename, AttrDict\n",
    "\n",
    "# Figure params\n",
    "plt.rcParams['figure.figsize'] = [10,6]\n",
    "plt.rcParams.update({'font.size': 14})"
   ]
  },
  {
   "cell_type": "markdown",
   "metadata": {},
   "source": [
    "# Load experiments"
   ]
  },
  {
   "cell_type": "code",
   "execution_count": 3,
   "metadata": {},
   "outputs": [
    {
     "name": "stdout",
     "output_type": "stream",
     "text": [
      "imported experiments.clifford_averager_program\n",
      "imported experiments.fitting\n",
      "imported experiments.four_qubit.fourQ_state_tomo\n",
      "imported experiments.qram_protocol_timestepped\n",
      "imported experiments.single_qubit.acstarkshift_spectroscopy\n",
      "imported experiments.single_qubit.amplitude_rabi\n",
      "imported experiments.single_qubit.length_rabi\n",
      "imported experiments.single_qubit.pulse_probe_spectroscopy\n",
      "imported experiments.single_qubit.resonator_spectroscopy\n",
      "imported experiments.single_qubit.rfsoc_tof_calibration\n",
      "imported experiments.single_qubit.single_shot\n",
      "imported experiments.single_qubit.t1\n",
      "imported experiments.single_qubit.t2_ramsey\n",
      "imported experiments.three_qubit.threeQ_state_tomo\n",
      "imported experiments.two_qubit.amplitude_rabi_EgGf\n",
      "imported experiments.two_qubit.amplitude_rabi_f0g1\n",
      "imported experiments.two_qubit.amprabi_opt_ctrl_state_prep\n",
      "imported experiments.two_qubit.crosstalk_echo_calib\n",
      "imported experiments.two_qubit.length_rabi_EgGf\n",
      "imported experiments.two_qubit.length_rabi_F0G1\n",
      "imported experiments.two_qubit.phase_calib_EgGf\n",
      "imported experiments.two_qubit.pulse_probe_EgGf_spectroscopy\n",
      "imported experiments.two_qubit.randbench\n",
      "imported experiments.two_qubit.random_test_pulses\n",
      "imported experiments.two_qubit.twoqutrit_state_tomography\n",
      "imported experiments.two_qubit.twoQ_state_tomography\n"
     ]
    }
   ],
   "source": [
    "# %aimport experiments\n",
    "import experiments as meas"
   ]
  },
  {
   "cell_type": "code",
   "execution_count": 4,
   "metadata": {},
   "outputs": [],
   "source": [
    "\"\"\"Reopen saved data\"\"\"\n",
    "def prev_data(expt_path, filename):\n",
    "    temp_data_file = expt_path\n",
    "    if filename is not None: temp_data_file = os.path.join(expt_path, filename)\n",
    "    with SlabFile(temp_data_file) as a:\n",
    "        attrs = dict()\n",
    "        for key in list(a.attrs):\n",
    "            attrs.update({key:json.loads(a.attrs[key])})\n",
    "        keys = list(a)\n",
    "        temp_data = dict()\n",
    "        for key in keys:\n",
    "            temp_data.update({key:np.array(a[key])})\n",
    "        print(f'Extracted data and attrs {list(a.attrs)}')\n",
    "    return temp_data, attrs"
   ]
  },
  {
   "cell_type": "code",
   "execution_count": 5,
   "metadata": {},
   "outputs": [
    {
     "name": "stdout",
     "output_type": "stream",
     "text": [
      "Data will be stored in S:\\QRAM\\qram_4QR2\\data\\data_241025\n"
     ]
    }
   ],
   "source": [
    "data_path = 'S:\\\\QRAM\\\\qram_4QR2\\\\'\n",
    "expt_path = os.path.join(data_path, 'data', 'data_241025')\n",
    "print('Data will be stored in', expt_path)"
   ]
  },
  {
   "cell_type": "code",
   "execution_count": 6,
   "metadata": {},
   "outputs": [
    {
     "name": "stdout",
     "output_type": "stream",
     "text": [
      "Config will be s:\\Connie\\experiments\\qram_tprocv1_expts\\configs\\config_q3diamond_full688and638_reset.yml\n"
     ]
    }
   ],
   "source": [
    "# config_file = 'config_zcu216.yml'\n",
    "# config_file = 'config_q3diamond.yml'\n",
    "config_file = 'config_q3diamond_full688and638_reset.yml'\n",
    "config_path = os.path.join('s:\\\\Connie\\\\experiments\\\\qram_tprocv1_expts\\\\configs\\\\', config_file)\n",
    "print('Config will be', config_path)"
   ]
  },
  {
   "cell_type": "markdown",
   "metadata": {},
   "source": [
    "# Setup experiment hardware\n",
    "\n",
    "Set in config:\n",
    "- LO alias, frequency, power\n",
    "- SOC dac channels, nyquist zones"
   ]
  },
  {
   "cell_type": "code",
   "execution_count": 7,
   "metadata": {},
   "outputs": [],
   "source": [
    "import yaml\n",
    "with open(config_path, 'r') as cfg_file:\n",
    "    yaml_cfg = yaml.safe_load(cfg_file)\n",
    "yaml_cfg = AttrDict(yaml_cfg)"
   ]
  },
  {
   "cell_type": "code",
   "execution_count": 8,
   "metadata": {},
   "outputs": [],
   "source": [
    "# im = InstrumentManager(ns_address='192.168.14.1') # Chicago lab\n",
    "# im = InstrumentManager(ns_address='192.168.137.1') # SLAC lab\n",
    "# im = InstrumentManager(ns_address='10.108.30.56') # Spilker Fermium\n",
    "im = InstrumentManager(ns_address='10.108.30.75') # Spilker Vibranium"
   ]
  },
  {
   "cell_type": "code",
   "execution_count": 9,
   "metadata": {},
   "outputs": [
    {
     "name": "stdout",
     "output_type": "stream",
     "text": [
      "QICK running on ZCU216, software version 0.2.272\n",
      "\n",
      "Firmware configuration (built Sat Oct  5 10:21:47 2024):\n",
      "\n",
      "\tGlobal clocks (MHz): tProcessor 430.080, RF reference 245.760\n",
      "\n",
      "\t7 signal generator channels:\n",
      "\t0:\taxis_signal_gen_v6 - envelope memory 32768 samples (5.128 us)\n",
      "\t\tfs=6389.760 MHz, fabric=399.360 MHz, 32-bit DDS, range=6389.760 MHz\n",
      "\t\tDAC tile 2, blk 0 is 0_230, on JHC3\n",
      "\t1:\taxis_signal_gen_v6 - envelope memory 32768 samples (5.128 us)\n",
      "\t\tfs=6389.760 MHz, fabric=399.360 MHz, 32-bit DDS, range=6389.760 MHz\n",
      "\t\tDAC tile 2, blk 1 is 1_230, on JHC4\n",
      "\t2:\taxis_signal_gen_v6 - envelope memory 32768 samples (5.128 us)\n",
      "\t\tfs=6389.760 MHz, fabric=399.360 MHz, 32-bit DDS, range=6389.760 MHz\n",
      "\t\tDAC tile 2, blk 2 is 2_230, on JHC3\n",
      "\t3:\taxis_signal_gen_v6 - envelope memory 32768 samples (5.128 us)\n",
      "\t\tfs=6389.760 MHz, fabric=399.360 MHz, 32-bit DDS, range=6389.760 MHz\n",
      "\t\tDAC tile 2, blk 3 is 3_230, on JHC4\n",
      "\t4:\taxis_signal_gen_v6 - envelope memory 32768 samples (4.762 us)\n",
      "\t\tfs=6881.280 MHz, fabric=430.080 MHz, 32-bit DDS, range=6881.280 MHz\n",
      "\t\tDAC tile 3, blk 0 is 0_231, on JHC3\n",
      "\t5:\taxis_signal_gen_v6 - envelope memory 32768 samples (4.762 us)\n",
      "\t\tfs=6881.280 MHz, fabric=430.080 MHz, 32-bit DDS, range=6881.280 MHz\n",
      "\t\tDAC tile 3, blk 1 is 1_231, on JHC4\n",
      "\t6:\taxis_sg_mux4_v2 - envelope memory 0 samples (0.000 us)\n",
      "\t\tfs=6881.280 MHz, fabric=430.080 MHz, 32-bit DDS, range=1720.320 MHz\n",
      "\t\tDAC tile 0, blk 0 is 0_228, on JHC1\n",
      "\n",
      "\t4 constant-IQ outputs:\n",
      "\t0:\tfs=6881.280 MHz\n",
      "\t\tDAC tile 1, blk 0 is 0_229, on JHC1\n",
      "\t1:\tfs=6881.280 MHz\n",
      "\t\tDAC tile 1, blk 1 is 1_229, on JHC2\n",
      "\t2:\tfs=6881.280 MHz\n",
      "\t\tDAC tile 1, blk 2 is 2_229, on JHC1\n",
      "\t3:\tfs=6881.280 MHz\n",
      "\t\tDAC tile 1, blk 3 is 3_229, on JHC2\n",
      "\n",
      "\t4 readout channels:\n",
      "\t0:\taxis_pfb_readout_v2 - configured by PYNQ\n",
      "\t\tfs=2457.600 MHz, decimated=307.200 MHz, 32-bit DDS, range=307.200 MHz\n",
      "\t\tmaxlen 16384 accumulated, 1024 decimated (3.333 us)\n",
      "\t\ttriggered by output 7, pin 8, feedback to tProc input 0\n",
      "\t\tADC tile 2, blk 0 is 0_226, on JHC7\n",
      "\t1:\taxis_pfb_readout_v2 - configured by PYNQ\n",
      "\t\tfs=2457.600 MHz, decimated=307.200 MHz, 32-bit DDS, range=307.200 MHz\n",
      "\t\tmaxlen 16384 accumulated, 1024 decimated (3.333 us)\n",
      "\t\ttriggered by output 7, pin 9, feedback to tProc input 1\n",
      "\t\tADC tile 2, blk 0 is 0_226, on JHC7\n",
      "\t2:\taxis_pfb_readout_v2 - configured by PYNQ\n",
      "\t\tfs=2457.600 MHz, decimated=307.200 MHz, 32-bit DDS, range=307.200 MHz\n",
      "\t\tmaxlen 16384 accumulated, 1024 decimated (3.333 us)\n",
      "\t\ttriggered by output 7, pin 10, feedback to tProc input 2\n",
      "\t\tADC tile 2, blk 0 is 0_226, on JHC7\n",
      "\t3:\taxis_pfb_readout_v2 - configured by PYNQ\n",
      "\t\tfs=2457.600 MHz, decimated=307.200 MHz, 32-bit DDS, range=307.200 MHz\n",
      "\t\tmaxlen 16384 accumulated, 1024 decimated (3.333 us)\n",
      "\t\ttriggered by output 7, pin 11, feedback to tProc input 3\n",
      "\t\tADC tile 2, blk 0 is 0_226, on JHC7\n",
      "\n",
      "\t8 digital output pins:\n",
      "\t0:\tPMOD0_0_LS\n",
      "\t1:\tPMOD0_1_LS\n",
      "\t2:\tPMOD0_2_LS\n",
      "\t3:\tPMOD0_3_LS\n",
      "\t4:\tPMOD0_4_LS\n",
      "\t5:\tPMOD0_5_LS\n",
      "\t6:\tPMOD0_6_LS\n",
      "\t7:\tPMOD0_7_LS\n",
      "\n",
      "\ttProc axis_tproc64x32_x8 (\"v1\") rev 4: program memory 16384 words, data memory 4096 words\n",
      "\t\texternal start pin: PMOD1_0_LS\n"
     ]
    }
   ],
   "source": [
    "soc = QickConfig(im[yaml_cfg['aliases']['soc']].get_cfg())\n",
    "print(soc)\n",
    "# print(soc.description())\n",
    "# print(soc.dump_cfg())"
   ]
  },
  {
   "cell_type": "code",
   "execution_count": null,
   "metadata": {},
   "outputs": [],
   "source": [
    "lo1 = im[yaml_cfg.aliases.readout_LO]\n",
    "lo1.open_device()\n",
    "print(lo1.get_id())\n",
    "\n",
    "# TURN OFF\n",
    "lo1.set_standby(True)\n",
    "lo1.set_output_state(False)\n",
    "\n",
    "# # TURN ON\n",
    "# lo1.set_standby(False)\n",
    "# lo1.set_output_state(True)\n",
    "# lo_freq = float(yaml_cfg.hw.lo.readout.frequency)\n",
    "# lo_power = float(yaml_cfg.hw.lo.readout.power)\n",
    "# lo1.set_frequency(lo_freq) # Set LO frequency\n",
    "# print('set freq to', lo_freq)\n",
    "# lo1.set_power(lo_power) # Set LO power\n",
    "# print('set power to', lo_power)"
   ]
  },
  {
   "cell_type": "markdown",
   "metadata": {},
   "source": [
    "# QRAM t1 experiments"
   ]
  },
  {
   "cell_type": "code",
   "execution_count": null,
   "metadata": {},
   "outputs": [],
   "source": [
    "qramExpt = meas.QramVariantsT1Experiment(\n",
    "    soccfg=soc,\n",
    "    path=expt_path,\n",
    "    config_file=config_path,\n",
    ")\n",
    "\n",
    "span = 350\n",
    "npts = 151\n",
    "\n",
    "qramExpt.cfg.expt = dict(\n",
    "    start=0, # wait time [us]\n",
    "    step=span/npts,\n",
    "    expts=npts,\n",
    "    reps=1000, # number of reps per time step,\n",
    ")\n",
    "\n",
    "# qramExpt.cfg.device.readout.relax_delay = [10, 10, 10, 10] # Wait time between experiments [us]\n",
    "\n",
    "# print(qramExpt.cfg)\n",
    "\n",
    "import Pyro4.util\n",
    "try:\n",
    "    qramExpt.go(analyze=False, display=False, progress=True, save=False)\n",
    "except Exception:\n",
    "    print(\"Pyro traceback:\")\n",
    "    print(\"\".join(Pyro4.util.getPyroTraceback()))"
   ]
  },
  {
   "cell_type": "code",
   "execution_count": null,
   "metadata": {},
   "outputs": [],
   "source": [
    "qubit = 2\n",
    "qramExpt.analyze(qubit=qubit, fit=True)\n",
    "qramExpt.display(qubit=qubit, fit=True)"
   ]
  },
  {
   "cell_type": "code",
   "execution_count": null,
   "metadata": {},
   "outputs": [],
   "source": [
    "# print(qramExpt.data)\n",
    "qramExpt.save_data()"
   ]
  },
  {
   "cell_type": "markdown",
   "metadata": {},
   "source": [
    "# Single shot multi hist experiments"
   ]
  },
  {
   "cell_type": "code",
   "execution_count": 10,
   "metadata": {},
   "outputs": [
    {
     "name": "stdout",
     "output_type": "stream",
     "text": [
      "['Q2Q1_|0>|0>', 'Q2Q1_|0>|1>', 'Q2Q1_|1>|0>', 'Q2Q1_|2>|0>', '|0>|1>', '|0>|1>', '|0>|1>', '|0>|1>']\n",
      "[[0], [0], [0], [0], [1], [2, 1], [1, 3], [2, 1, 4, 3]]\n",
      "{'device': {'readout': {'trig_offset': 150, 'lo_sideband': [1, 1, 1, 1], 'frequency': [-439.97500000000036, 0.0, 452.3682333333336, -278.89999999999964], 'gain': [0.1, 0.025, 0.25, 0.17], 'kappa_ext': [0.157, 0.065, 0.182, 0.104], 'kerr': [-0.0045, 0, 0.008, -0.003], 't_rise_reset': [0.5, 1, 0.5, 0.5], 'readout_length': [4, 4, 4, 4], 'frequency_ef': [-439.97500000000036, 0.0, 450.44439227373095, -280.30732891832196], 'readout_length_ef': 4, 'relax_delay': [450, 450, 450, 450]}, 'qubit': {'f_ge': [4111.141143385073, 4105.786145933962, 4110.958153299016, 4110.546407850519, 3442.9770233041277, 3448.328289144873, 3447.060317317807, 3446.4929792801067, 4762.761504132457, 4761.823567235975, 4762.898928901032, 4762.369813422167, 4380.698604555338, 4379.604868123916, 4380.717837106693, 4381.175711440575], 'f_ef': [3884.6269161242526, 0.0, 0.0, 0.0, 0.0, 3348.085433174199, 0.0, 0.0, 4571.9056482340775, 4570.996526541673, 4573.168610947125, 0.0, 4211.566315930455, 4205.61697813965, 0.0, 4209.925086260656], 'f_EgGf': [2686.53594683, 0, 2017.3, 2414.92850999], 'f_EgGf_Q': [0, 0, 5885.340063874975, 5133.519916163953], 'f_f0g1': [1184.4, 999.8, 1632.9833333333333, 1620.9166666666665], 'gs': [52.40296404695958, 54.81794456602636, 43.49513117058557, 4.930653352423196, 2.6415018214608046, 6.386231497692186], 'pulses': {'pi_ge': {'sigma': [0.02, 0.02, 0.02, 0.02, 0.025, 0.025, 0.025, 0.025, 0.015, 0.015, 0.015, 0.015, 0.025, 0.025, 0.025, 0.025], 'gain': [1849, 1914, 0, 1855, 2834, 2504, 2648, 2631, 9155, 9155, 9155, 9155, 599, 599, 599, 599], 'half_gain': [1850, 1835, 1873, 1867, 2382, 2186, 2248, 2289, 9253, 9253, 9253, 9253, 524, 524, 524, 524], 'half_correction_phase': [0, 0, 0, 0, 0, 0, 0, 0, 0, 0, 0, 0, 0, 0, 0, 0], 'half_gain_pi_sigma': [927, 0, 0, 0, 0, 1315, 0, 0, 0, 0, 7212, 0, 0, 0, 0, 460], 'type': 'gauss'}, 'pi_ef': {'sigma': [0.02, 0.02, 0.02, 0.02, 0.025, 0.025, 0.025, 0.025, 0.015, 0.015, 0.015, 0.015, 0.03, 0.03, 0.03, 0.03], 'gain': [1280, 0, 0, 0, 0, 1912, 0, 0, 0, 0, 0, 0, 300, 300, 0, 300], 'half_gain': [1261, 0, 0, 0, 0, 1941, 0, 0, 0, 0, 6385, 0, 334, 334, 0, 320], 'half_gain_pi_sigma': [673, 0, 0, 0, 0, 975, 0, 0, 0, 0, 5049, 0, 340, 0, 0, 337], 'type': 'gauss'}, 'pi_EgGf': {'gain': [32000, 0, 30000, 16000], 'sigma': [0.586, 0, 0.8, 0.44643], 'type': 'flat_top'}, 'pi_EgGf_Q': {'gain': [0, 0, 12147, 24647], 'sigma': [0, 0, 0.438, 0.158], 'phase': [0, 0, 18.0, 24.0], 'half_sigma': [0, 0, 0.212, 0.172], 'half_phase': [0, 0, 18.0, 21.0], 'type': 'flat_top'}, 'pi_f0g1': {'gain': [32000, 32000, 32000, 32000], 'sigma': [0.536, 0.585, 1.54, 1.04], 'idle': [3, 6, 12, 8], 'type': 'flat_top'}, 'pulse_pp': {'gain': [1750, 3550, 0, 0], 'filename': '240920_3_qram_4q_2qubit_++gg'}, 'pulse_1p': {'gain': [3500, 4375, 0, 0], 'filename': '240920_qram_4q_2qubit_e+gg'}, 'pulse_p1': {'gain': [3000, 5530, 0, 0], 'filename': '240920_qram_4q_2qubit_+egg'}, 'pihalf_ge_robust': {'gain': [7468, 7620, 7559, 7559, 4824, 4456, 4462, 4144, 20111, 20111, 19951, 20111, 2375, 2375, 2375, 2344], 'correction_phase': [12.87392109927516, 10.05593135477756, 0, 0, 0.11174784781734694, 0.014858645143556864, 0, 0, 0, 0, 3.1921849227174155, 0, 0, 0, 0, 15.41270139026534], 'filename': ['X_2_Q0', 'X_2_Q1', 'X_2_Q2', 'X_2_Q3']}, 'pi_ge_slow': {'gain': [-1, 100, -1, -1], 'sigma': [-1, 0.25, -1, -1], 'type': 'gauss'}, 'pi_Q1_ZZ_slow': {'gain': [100, 0, -1, -1], 'sigma': [0.25, 0, -1, -1], 'type': 'gauss'}}}}, 'hw': {'soc': {'dacs': {'qubit': {'ch': [0, 1, 2, 3], 'type': 'full', 'nyquist': [2, 1, 2, 2], 'mixer_freq': [0, 0, 0, 0]}, 'swap': {'ch': 1, 'type': 'full', 'nyquist': 1, 'mixer_freq': 0}, 'swap_f0g1': {'ch': [1, 1, 5, 5], 'type': ['full', 'full', 'full', 'full'], 'nyquist': 1, 'mixer_freq': 0}, 'swap_Q': {'ch': [0, -1, 2, 3], 'type': ['full', 'None', 'full', 'full'], 'nyquist': [2, 0, 2, 2], 'mixer_freq': 0}, 'readout': {'ch': [6, 4, 6, 6], 'full_mux_chs': [5, 4, 5, 5], 'type': ['mux4', 'full', 'mux4', 'mux4'], 'mixer_freq': [7250, 5795.8115578931565, 7250, 7250], 'nyquist': [2, 2, 2, 2]}, 'res_pump': {'ch': 4, 'type': 'full', 'mixer_freq': 0, 'nyquist': 2}, 'delay_chs': {'ch': [0, 1, 2, 3, 4, 5, 6], 'delay_ns': [4.0, 0.0, 5.0, 3.0, 25, 60, 71]}}, 'adcs': {'readout': {'ch': [0, 1, 2, 3]}}}, 'lo': {'twpa': {'frequency': '8210.0e6', 'power': -1.5}, 'readout': {'frequency': 0, 'power': 0}}}, 'aliases': {'readout_LO': 'SC_20A1', 'twpa_LO': 'SC_26C1', 'soc': 'Qick_QRAM'}, 'expt': {'check_states': ['Q2Q1_|0>|0>', 'Q2Q1_|0>|1>', 'Q2Q1_|1>|0>', 'Q2Q1_|2>|0>', '|0>|1>', '|0>|1>', '|0>|1>', '|0>|1>'], 'play_pulses_list': [[0], [0], [0], [0], [1], [2, 1], [1, 3], [2, 1, 4, 3]], 'reps': 15000, 'q_other': 2, 'readout_cool': False, 'n_init_readout': 1, 'n_trig': 1, 'init_read_wait_us': 2, 'use_robust_pulses': True, 'full_mux_expt': True, 'resonator_reset': [0, 2, 3]}}\n"
     ]
    },
    {
     "data": {
      "application/vnd.jupyter.widget-view+json": {
       "model_id": "83abfa0c8c814b688bd547d8fc35e914",
       "version_major": 2,
       "version_minor": 0
      },
      "text/plain": [
       "  0%|          | 0/15000 [00:00<?, ?it/s]"
      ]
     },
     "metadata": {},
     "output_type": "display_data"
    },
    {
     "data": {
      "application/vnd.jupyter.widget-view+json": {
       "model_id": "bc2d04ac8adc42feb53eb134f1bc3c8f",
       "version_major": 2,
       "version_minor": 0
      },
      "text/plain": [
       "  0%|          | 0/15000 [00:00<?, ?it/s]"
      ]
     },
     "metadata": {},
     "output_type": "display_data"
    },
    {
     "data": {
      "application/vnd.jupyter.widget-view+json": {
       "model_id": "8f9b89d707d244ce871edc7326c62b2c",
       "version_major": 2,
       "version_minor": 0
      },
      "text/plain": [
       "  0%|          | 0/15000 [00:00<?, ?it/s]"
      ]
     },
     "metadata": {},
     "output_type": "display_data"
    },
    {
     "data": {
      "application/vnd.jupyter.widget-view+json": {
       "model_id": "cfb031f059544d879b49a499abc93adf",
       "version_major": 2,
       "version_minor": 0
      },
      "text/plain": [
       "  0%|          | 0/15000 [00:00<?, ?it/s]"
      ]
     },
     "metadata": {},
     "output_type": "display_data"
    },
    {
     "data": {
      "application/vnd.jupyter.widget-view+json": {
       "model_id": "432a77f5c834497fb812adf59b961961",
       "version_major": 2,
       "version_minor": 0
      },
      "text/plain": [
       "  0%|          | 0/15000 [00:00<?, ?it/s]"
      ]
     },
     "metadata": {},
     "output_type": "display_data"
    },
    {
     "data": {
      "application/vnd.jupyter.widget-view+json": {
       "model_id": "ac401e5539c649419a12a3e7f414edef",
       "version_major": 2,
       "version_minor": 0
      },
      "text/plain": [
       "  0%|          | 0/15000 [00:00<?, ?it/s]"
      ]
     },
     "metadata": {},
     "output_type": "display_data"
    },
    {
     "data": {
      "application/vnd.jupyter.widget-view+json": {
       "model_id": "b6cc76de5d1440c69ce91114d74edbff",
       "version_major": 2,
       "version_minor": 0
      },
      "text/plain": [
       "  0%|          | 0/15000 [00:00<?, ?it/s]"
      ]
     },
     "metadata": {},
     "output_type": "display_data"
    },
    {
     "data": {
      "application/vnd.jupyter.widget-view+json": {
       "model_id": "d5b405036c0d48cfa20eb3285a069837",
       "version_major": 2,
       "version_minor": 0
      },
      "text/plain": [
       "  0%|          | 0/15000 [00:00<?, ?it/s]"
      ]
     },
     "metadata": {},
     "output_type": "display_data"
    }
   ],
   "source": [
    "qramExpt = meas.QramProtocolSingleShotExperiment(\n",
    "    soccfg=soc,\n",
    "    path=expt_path,\n",
    "    config_file=config_path,\n",
    ")\n",
    "\n",
    "# always going to check |Qx>|Q1>\n",
    "q_other = 2 # Qx\n",
    "\n",
    "check_states = ['|0>|0>', '|0>|1>',  '|1>|0>', '|2>|0>'] # for calibration angle: prepare variations on Qx and Q1\n",
    "# check_states = ['|0>|0>', '|0>|1>',  '|2>|0>'] # for calibration angle: prepare variations on Qx and Q1\n",
    "# check_states = ['|0>|0>', '|0>|1>',  '|2>|0>', '|0>|2>', '|2>|1>'] # for calibration angle: prepare variations on Qx and Q1\n",
    "# check_states = ['|0>|0>', '|1>|0>',  '|2>|0>'] # for calibration angle: prepare variations on Qx and Q1\n",
    "if q_other != 0:\n",
    "    for i in range(len(check_states)):\n",
    "        check_states[i] = f'Q{q_other}Q1_' + check_states[i] \n",
    "play_pulses_list = [[0] for i in range(len(check_states))]\n",
    "\n",
    "# check_states = ['|0>|0>', '|0>|1>', '|1>|0>', '|1>|1>', '|0+1>|0>', '|0+1>|1>', '|0>|0+1>', '|1>|0+1>']\n",
    "# check_states_with_init = ['|0>|1>']*4\n",
    "check_states_with_init = ['|0>|1>']*4\n",
    "# check_states_with_init = ['|1>|1>']*4\n",
    "# check_states_with_init = ['|1>|0>', 'Q0Q3_|1>|1>']\n",
    "# check_states_with_init = ['Q0Q1_|testY>', 'Q0Q1_|testX>']\n",
    "# check_states_with_init = ['|0>|0a>', '|0>|0b>']\n",
    "# check_states_with_init = [f'Q{q_other}Q1_|2T>|0>']\n",
    "check_states += check_states_with_init # initialize on Q0, Q1\n",
    "# play_pulses_list += [[0] for i in range(len(check_states_with_init))]\n",
    "# play_pulses_list += [[1], [1]*2, [1]*3, [1]*5]\n",
    "play_pulses_list += [[1], [2, 1], [1, 3], [2, 1, 4, 3]]\n",
    "# play_pulses_list += [[2], [2]*2, [2]*3, [2]*5]\n",
    "\n",
    "\n",
    "# check_states = ['|0>|1>', '|1>|1>', '|0>|0>']\n",
    "print(check_states)\n",
    "print(play_pulses_list)\n",
    "\n",
    "\n",
    "qramExpt.cfg.expt = dict(\n",
    "    check_states=check_states,\n",
    "    # play_pulses=[1, 3],\n",
    "    # play_pulses=[2, 4],\n",
    "    play_pulses_list=play_pulses_list,\n",
    "    reps=15000, # number of reps per time step,\n",
    "    q_other=q_other,\n",
    "\n",
    "    # cool_qubits=[0, 1, 2],\n",
    "    # cool_qubits=None,\n",
    "    readout_cool=False,\n",
    "    n_init_readout=1,\n",
    "    n_trig=1,\n",
    "    # init_read_wait_us=5,\n",
    "    init_read_wait_us=2,\n",
    "\n",
    "    use_robust_pulses=True,\n",
    "    \n",
    "    full_mux_expt=True,\n",
    "    resonator_reset=[0, 2, 3],\n",
    ")\n",
    "\n",
    "# print('using readout frequency for ef distinguishing')\n",
    "# qramExpt.cfg.device.readout.frequency[q_other] = qramExpt.cfg.device.readout.frequency_ef[q_other]\n",
    "# qramExpt.cfg.device.readout.readout_length[q_other] = qramExpt.cfg.device.readout.readout_length_ef[q_other]\n",
    "\n",
    "# qramExpt.cfg.device.readout.relax_delay = [10, 10, 10, 10] # Wait time between experiments [us]\n",
    "# qramExpt.cfg.device.readout.gain[1] = 1e-4\n",
    "\n",
    "print(qramExpt.cfg)\n",
    "\n",
    "import Pyro4.util\n",
    "try:\n",
    "    qramExpt.go(analyze=False, display=False, progress=True, save=False)\n",
    "except Exception:\n",
    "    print(\"Pyro traceback:\")\n",
    "    print(\"\".join(Pyro4.util.getPyroTraceback()))"
   ]
  },
  {
   "cell_type": "code",
   "execution_count": 11,
   "metadata": {},
   "outputs": [
    {
     "name": "stdout",
     "output_type": "stream",
     "text": [
      "Q2, Q1\n",
      "['Q2Q1_|0>|0>', 'Q2Q1_|0>|1>', 'Q2Q1_|1>|0>', 'Q2Q1_|2>|0>', '|0>|1>', '|0>|1>', '|0>|1>', '|0>|1>']\n",
      "[[0], [0], [0], [0], [1], [2, 1], [1, 3], [2, 1, 4, 3]]\n",
      "Q2Q1_|0>|0> unrotated averages:\n",
      "Amps 569.4221048481784 +/- 279.04011882256634\n",
      "Q2Q1_|0>|1> unrotated averages:\n",
      "Amps 576.5889417636896 +/- 273.3476287208213\n",
      "Q2Q1_|1>|0> unrotated averages:\n",
      "Amps 1328.433716922072 +/- 330.74396779544054\n",
      "Q2Q1_|2>|0> unrotated averages:\n",
      "Amps 1328.4281867065667 +/- 313.94650157980885\n",
      "|0>|1> play [1] unrotated averages:\n",
      "Amps 1201.3608733823617 +/- 417.4230738060417\n",
      "|0>|1> play [2, 1] unrotated averages:\n",
      "Amps 1193.7189145206792 +/- 421.34629532720675\n",
      "|0>|1> play [1, 3] unrotated averages:\n",
      "Amps 1209.4486504367069 +/- 420.89765455988925\n",
      "|0>|1> play [2, 1, 4, 3] unrotated averages:\n",
      "Amps 1197.1155505149693 +/- 421.51714061415584\n",
      "[0.7974000000000001] [910.2182143967278] 0.0\n",
      "Q2Q1_|0>|0> unrotated averages:\n",
      "Amps 569.4221048481784 +/- 279.04011882256634\n",
      "Q2Q1_|0>|1> unrotated averages:\n",
      "Amps 576.5889417636896 +/- 273.3476287208213\n",
      "Q2Q1_|1>|0> unrotated averages:\n",
      "Amps 1328.433716922072 +/- 330.74396779544054\n",
      "Q2Q1_|2>|0> unrotated averages:\n",
      "Amps 1328.4281867065667 +/- 313.94650157980885\n",
      "|0>|1> play [1] unrotated averages:\n",
      "Amps 1201.3608733823617 +/- 417.4230738060417\n",
      "|0>|1> play [2, 1] unrotated averages:\n",
      "Amps 1193.7189145206792 +/- 421.34629532720675\n",
      "|0>|1> play [1, 3] unrotated averages:\n",
      "Amps 1209.4486504367069 +/- 420.89765455988925\n",
      "|0>|1> play [2, 1, 4, 3] unrotated averages:\n",
      "Amps 1197.1155505149693 +/- 421.51714061415584\n",
      "average ge fidelity (%): 79.74000000000001\n",
      "rotation angle (deg): 0.0\n",
      "threshold ge: 910.2182143967278\n"
     ]
    },
    {
     "name": "stderr",
     "output_type": "stream",
     "text": [
      "UserWarning: Creating legend with loc=\"best\" can be slow with large amounts of data.\n",
      " c:\\ProgramData\\Anaconda3\\lib\\site-packages\\ipykernel\\eventloops.py: 107"
     ]
    }
   ],
   "source": [
    "# TESTING\n",
    "# qramExpt = meas.QramProtocolSingleShotExperiment(config_file=config_path,)\n",
    "# temp_data, attrs = prev_data(expt_path, '00000_QramSingleShotHist.h5')\n",
    "# qramExpt.data = temp_data\n",
    "# qramExpt.cfg = AttrDict(attrs['config'])\n",
    "# check_states = qramExpt.cfg.expt.check_states\n",
    "# if check_states[0][2:5] == 'Q1_': q_other = int(check_states[0][1])\n",
    "# else: q_other = 0\n",
    "\n",
    "\n",
    "check_qubit = q_other\n",
    "# check_qubit = 1\n",
    "\n",
    "# Define the states to use for the rotation of g/e\n",
    "if check_qubit == 1:\n",
    "    g_states = [0]\n",
    "    e_states = [1]\n",
    "else:\n",
    "    g_states = [0]\n",
    "    e_states = [2]\n",
    "\n",
    "\n",
    "print(f'Q{q_other}, Q1')\n",
    "print(check_states)\n",
    "print(play_pulses_list)\n",
    "\n",
    "apply_ps = False\n",
    "ps_qubits = [2]\n",
    "ps_adjust = [0]*4\n",
    "ps_check_states_list = [4, 5, 6, 7]\n",
    "\n",
    "play_pulses_list, check_states, data = qramExpt.analyze(check_qubit=check_qubit, play_pulses_list=qramExpt.cfg.expt.play_pulses_list, check_states=check_states, g_states=g_states, e_states=e_states, apply_ps=False, ps_qubits=ps_qubits, ps_adjust=ps_adjust, ps_check_states_list=ps_check_states_list)\n",
    "\n",
    "qramExpt.display(data=data, check_qubit=check_qubit, qubits=[q_other, 1], play_pulses_list=play_pulses_list, theta=None, check_states=check_states, g_states=g_states, e_states=e_states, apply_ps=False, verbose=True)"
   ]
  },
  {
   "cell_type": "code",
   "execution_count": null,
   "metadata": {},
   "outputs": [],
   "source": [
    "qramExpt.analyze(data=None, qubits=[q_other, 1], play_pulses_list=qramExpt.cfg.expt.play_pulses_list, check_states=check_states, verbose=True)\n"
   ]
  },
  {
   "cell_type": "code",
   "execution_count": null,
   "metadata": {},
   "outputs": [],
   "source": [
    "tpts = np.linspace(0, 50*np.pi, 500)\n",
    "a = 100\n",
    "b = 30\n",
    "t_offset = 50\n",
    "def gaussian(x, sigma):\n",
    "    return np.exp(-x**2/2/sigma**2)\n",
    "\n",
    "y1 = a*np.sin(tpts)*gaussian(tpts-60, 20)\n",
    "y2 = b*np.sin(tpts - t_offset)*gaussian(tpts-60-t_offset, 20)\n",
    "plt.plot(tpts, y1, '--')\n",
    "plt.plot(tpts, y2, '--')\n",
    "plt.plot(tpts, y1+y2)\n",
    "plt.show()"
   ]
  },
  {
   "cell_type": "code",
   "execution_count": null,
   "metadata": {},
   "outputs": [],
   "source": [
    "# print(qramExpt.data)\n",
    "qramExpt.save_data()"
   ]
  },
  {
   "cell_type": "markdown",
   "metadata": {},
   "source": [
    "# Run protocol with 3Q calibration"
   ]
  },
  {
   "cell_type": "code",
   "execution_count": null,
   "metadata": {},
   "outputs": [],
   "source": [
    "qramExpt = meas.QramProtocol3QTomoExperiment(\n",
    "    soccfg=soc,\n",
    "    path=expt_path,\n",
    "    config_file=config_path,\n",
    "    prefix=f\"qram_protocol_timestepped_4Q_calib\",\n",
    ")\n",
    "\n",
    "span = 0.5 # total time [us]\n",
    "npts = 2\n",
    "print('time step size [cycles]:', soc.us2cycles(span/npts))\n",
    "\n",
    "qramExpt.cfg.expt = dict(\n",
    "    init_state='|0+1>|1>',\n",
    "    start=0, # start protocol time [us],\n",
    "    step=span/(npts-1), # time step [us], \n",
    "    expts=npts, # number of different time experiments, \n",
    "    reps=10000, # number of reps per time step,\n",
    "    singleshot_reps=10000, # reps per state for singleshot calibration\n",
    "    measure_f=[2, 3],\n",
    "    setup_q1_e=True,\n",
    "    # measure_f=None,\n",
    "    tomo_3q=False,\n",
    "    tomo_qubits=[0,2,3],\n",
    "    post_process='threshold', # scale, threshold\n",
    "    # thresholds=[-32.64691949520454, 0, 31.3188836125708, 86.06777840545668],\n",
    "    # angles=[162.4329570249908, 0, 64.32474484855494, 135.66318585876542],\n",
    "    # ge_avgs=[[59.504379895901096, -11.582164866623291, 23.711639297332464, -22.922088223812626], 0, [17.739780351333767, -26.9960761223162, 32.536323812621994, -55.67121184124919], [-60.43007885491217, -30.232965972674045, -89.79383272608978, -59.152381457384514]],\n",
    "    # counts_calib=[array([3189,  426, 3176,  519, 1176,  198, 1110,  206]), array([ 580, 3047,  582, 3015,  207, 1148,  221, 1200]), array([1963,  289, 4456,  583,  721,   97, 1661,  230]), array([ 390, 1850,  812, 4372,  130,  683,  269, 1494]), array([1336,  209, 1293,  232, 2954,  473, 2981,  522]), array([ 256, 1341,  226, 1320,  512, 2924,  557, 2864]), array([ 809,  118, 1892,  295, 1810,  262, 4215,  599]), array([ 167,  796,  352, 1830,  325, 1776,  781, 3973])]\n",
    ")\n",
    "\n",
    "# qramExpt.cfg.device.readout.relax_delay = [10, 10, 10, 10] # Wait time between experiments [us]\n",
    "\n",
    "# print(qramExpt.cfg)\n",
    "\n",
    "import Pyro4.util\n",
    "try:\n",
    "    qramExpt.go(analyze=False, display=False, progress=True, save=False)\n",
    "except Exception:\n",
    "    print(\"Pyro traceback:\")\n",
    "    print(\"\".join(Pyro4.util.getPyroTraceback()))"
   ]
  },
  {
   "cell_type": "code",
   "execution_count": null,
   "metadata": {},
   "outputs": [],
   "source": [
    "print(qramExpt.calib_order)\n",
    "print(qramExpt.data['counts_calib'])\n",
    "print(qramExpt.data['counts_raw'][0])\n",
    "print(qramExpt.data['counts_raw'][1])\n",
    "qramExpt.analyze(data=None)\n",
    "qramExpt.display(data=None)"
   ]
  },
  {
   "cell_type": "markdown",
   "metadata": {},
   "source": [
    "# Run protocol with 4Q calibration"
   ]
  },
  {
   "cell_type": "code",
   "execution_count": null,
   "metadata": {},
   "outputs": [],
   "source": [
    "counts = np.array([[-750, -250, 1000, 500]])\n",
    "for i_n, n in enumerate(counts):\n",
    "    if len(n[n<0]) == 0: continue\n",
    "    old_sum = sum(n)\n",
    "    assert old_sum > 0, 'Negative sum of counts somehow'\n",
    "    neg_indices = np.where(n<0)[0]\n",
    "    for i in neg_indices: n[i] = 0\n",
    "    new_sum = sum(n)\n",
    "    for i in range(len(n)): # we don't want to scale the previously negative indices because in the ideal case, you would only have positive counts in a few elements. if there were negative counts somewhere, those could not have had population (i think?)\n",
    "        if i not in neg_indices: n[i] *= old_sum/new_sum\n",
    "print(counts)"
   ]
  },
  {
   "cell_type": "code",
   "execution_count": null,
   "metadata": {},
   "outputs": [],
   "source": [
    "qramExpt = meas.QramProtocolExperiment4Q(\n",
    "    soccfg=soc,\n",
    "    path=expt_path,\n",
    "    config_file=config_path,\n",
    "    prefix=f\"qram_protocol_timestepped_4Q_calib\",\n",
    ")\n",
    "\n",
    "span = 0.5 # total time [us]\n",
    "npts = 2\n",
    "print('time step size [cycles]:', soc.us2cycles(span/npts))\n",
    "\n",
    "qramExpt.cfg.expt = dict(\n",
    "    init_state='|1>|1>',\n",
    "    start=0, # start protocol time [us],\n",
    "    step=span/npts, # time step [us], \n",
    "    expts=npts, # number of different time experiments, \n",
    "    reps=100000, # number of reps per time step,\n",
    "    singleshot_reps=100000, # reps per state for singleshot calibration\n",
    "    measure_f=None, # [2, 3],\n",
    "    post_process='threshold', # scale, threshold\n",
    "    thresholds=[-32.34393077808804, -429.93280953050476, 41.34693486551805, 83.15004309885798],\n",
    "    angles=[161.59121494290602, -164.62581598368104, 60.47284033980248, 136.22050345385662],\n",
    "    ge_avgs=[[58.42829931034483, -9.812820748210802, 24.027274703968768, -21.28550835393624], [212.06976247234877, -1554.7151353675995, -177.73544549772282, -1441.9476171177616], [17.0924195575797, -26.717151698113206, 29.271657241379305, -48.4234194209499], [-59.81379383214054, -28.74510220559532, -89.75425539362394, -57.60756237475602]],\n",
    "    counts_calib=[array([25082,  3858, 19263,  2979,  9946,  1798,  7874,  1576,  9074,\n",
    "        1513,  7032,  1332,  3847,   858,  3150,   818]), array([ 4169, 24918,  3177, 18767,  1692, 10407,  1343,  8250,  1474,\n",
    "        8884,  1197,  6967,   660,  4026,   525,  3544]), array([18142,  2752, 26683,  4037,  7415,  1228, 10913,  1713,  6596,\n",
    "        1083,  9634,  1564,  2790,   528,  4110,   812]), array([ 3135, 17711,  4457, 25485,  1398,  7922,  1993, 11664,  1078,\n",
    "        6202,  1552,  8910,   508,  3000,   718,  4267]), array([ 9727,  1446,  7392,  1180, 27327,  3550, 20440,  2670,  3578,\n",
    "         564,  2750,   432,  9544,  1335,  7069,   996]), array([ 1714,  9551,  1290,  7079,  4299, 26715,  3168, 20058,   645,\n",
    "        3516,   489,  2686,  1516,  9138,  1089,  7047]), array([ 6718,   976, 10239,  1537, 19066,  2472, 29145,  3817,  2444,\n",
    "         346,  3767,   606,  6646,   880, 10010,  1331]), array([ 1290,  6498,  1791, 10017,  3379, 18231,  4675, 27856,   460,\n",
    "        2454,   681,  3567,  1211,  6449,  1639,  9802]), array([10214,  1838,  7947,  1463,  4925,  1029,  3966,   937, 21569,\n",
    "        3737, 16574,  3247, 10241,  2269,  8032,  2012]), array([ 1530, 10289,  1254,  8021,   758,  5252,   669,  4172,  3428,\n",
    "       21749,  2763, 17004,  1628, 11056,  1346,  9081]), array([ 7502,  1224, 10895,  1973,  3551,   701,  5470,  1027, 15651,\n",
    "        2676, 22965,  4052,  7449,  1465, 11218,  2181]), array([ 1206,  7689,  1757, 10971,   609,  3979,   914,  5958,  2466,\n",
    "       15752,  3318, 21817,  1284,  8448,  1836, 11996]), array([ 5361,   811,  4164,   633, 14071,  1981, 10539,  1529,  8017,\n",
    "        1269,  6077,  1128, 22330,  3255, 16474,  2361]), array([  800,  4997,   624,  3801,  2102, 13214,  1571,  9852,  1351,\n",
    "        8233,  1008,  6178,  3413, 22971,  2606, 17279]), array([ 3872,   617,  5603,   842, 10336,  1459, 14796,  1991,  5773,\n",
    "         970,  8368,  1308, 15866,  2206, 22774,  3219]), array([ 4651,   692,  5034,   746, 11964,  1677, 13583,  1875,  6560,\n",
    "        1074,  7382,  1152, 18031,  2517, 20231,  2831])]\n",
    ")\n",
    "\n",
    "# qramExpt.cfg.device.readout.relax_delay = [10, 10, 10, 10] # Wait time between experiments [us]\n",
    "\n",
    "# print(qramExpt.cfg)\n",
    "\n",
    "import Pyro4.util\n",
    "try:\n",
    "    qramExpt.go(analyze=False, display=False, progress=True, save=False)\n",
    "except Exception:\n",
    "    print(\"Pyro traceback:\")\n",
    "    print(\"\".join(Pyro4.util.getPyroTraceback()))"
   ]
  },
  {
   "cell_type": "code",
   "execution_count": null,
   "metadata": {},
   "outputs": [],
   "source": [
    "# counts_calib=[array([5209,  749, 3627,  586, 2129,  364, 1434,  282, 1983,  305, 1372,\n",
    "#         249,  791,  184,  578,  158]), array([ 881, 5234,  564, 3498,  325, 2126,  245, 1568,  333, 1962,  218,\n",
    "#        1371,  130,  824,  100,  621]), array([3672,  564, 5221,  793, 1506,  238, 2166,  346, 1372,  221, 1904,\n",
    "#         327,  618,   97,  829,  126]), array([ 615, 3675,  874, 4971,  284, 1595,  353, 2280,  218, 1302,  306,\n",
    "#        1759,  106,  640,  150,  872]), array([1860,  252, 1209,  191, 5999,  750, 3911,  453,  682,  110,  452,\n",
    "#          71, 2118,  272, 1492,  178]), array([ 309, 1794,  213, 1283,  935, 5725,  613, 3801,  109,  668,   82,\n",
    "#         429,  332, 2040,  240, 1427]), array([1339,  197, 1735,  247, 4119,  534, 5869,  708,  498,   61,  643,\n",
    "#          82, 1511,  161, 2072,  224]), array([ 272, 1282,  361, 1674,  796, 4042,  918, 5366,   91,  450,  123,\n",
    "#         615,  262, 1424,  343, 1981]), array([2287,  351, 1644,  255, 1031,  196,  691,  154, 4618,  754, 3046,\n",
    "#         578, 2075,  449, 1514,  357]), array([ 366, 2200,  257, 1495,  147, 1048,  102,  730,  734, 4481,  486,\n",
    "#        3252,  340, 2403,  275, 1684]), array([1647,  239, 2276,  335,  751,  137, 1056,  166, 3233,  466, 4532,\n",
    "#         715, 1591,  273, 2186,  397]), array([ 238, 1469,  338, 2092,  134,  805,  187, 1079,  542, 3252,  726,\n",
    "#        4277,  280, 1690,  408, 2483]), array([ 875,  130,  596,   91, 2579,  304, 1632,  224, 1653,  228, 1164,\n",
    "#         163, 5543,  673, 3689,  456]), array([ 143,  883,  102,  582,  391, 2383,  240, 1529,  340, 1611,  207,\n",
    "#        1133,  907, 5455,  603, 3491]), array([ 592,   75,  914,  130, 1721,  213, 2287,  294, 1210,  174, 1630,\n",
    "#         212, 3896,  496, 5497,  659]), array([ 733,  102,  751,  123, 2015,  252, 2190,  214, 1399,  198, 1453,\n",
    "#         192, 4411,  582, 4785,  600])]\n",
    "# from experiments.two_qubit.twoQ_state_tomography import AbstractStateTomo2QProgram, ErrorMitigationStateTomo2QProgram, sort_counts, correct_readout_err, fix_neg_counts, infer_gef_popln\n",
    "\n",
    "# # counts_calib = np.array(counts_calib)\n",
    "# # counts_calib //= 200\n",
    "# # print(counts_calib)\n",
    "\n",
    "# # introduce gaussian noise\n",
    "# print(0)\n",
    "# n = np.copy([counts_calib[12]])\n",
    "# print(n, sum(n))\n",
    "# n0 = correct_readout_err(n, n_conf=counts_calib)\n",
    "# print(n0)\n",
    "# print(fix_neg_counts(n0))\n",
    "\n",
    "# np.random.seed(0)\n",
    "# noise = 5.0\n",
    "# if noise is not None:\n",
    "#     for n_psi in n:\n",
    "#         n_meas = sum(n_psi)\n",
    "#         new_nlast = -1\n",
    "#         while new_nlast < 0:\n",
    "#                 new_n_uptolast = np.random.normal(loc=n_psi[:-1], scale=noise*np.sqrt(n_psi[:-1]))\n",
    "#                 # new_n_uptolast *= 1 - np.isnan(new_n_uptolast) # 0 out the nans\n",
    "#                 # print('here', new_n_uptolast)\n",
    "#                 # preserve original total count per measurement\n",
    "#                 new_nlast = n_meas - sum(new_n_uptolast)\n",
    "#                 n_psi[:-1] = np.round(new_n_uptolast)\n",
    "#                 n_psi[-1] = np.round(new_nlast)\n",
    "\n",
    "# print(1)\n",
    "# print(n, sum(n))\n",
    "# print(type(n))\n",
    "# print(np.shape(n))\n",
    "# print(n[0].dtype)\n",
    "# n1 = np.array(n, dtype=float)\n",
    "# n1 = correct_readout_err(n, n_conf=counts_calib)\n",
    "# print(n1)\n",
    "# print(fix_neg_counts(n1))\n",
    "\n",
    "# print(2)\n",
    "# n2 = [array([1029,  147,  560,  -13, 2715,    2, 1935,  368, 1030,  412,  942,\n",
    "#         158, 5627,  870, 4122,   95])]\n",
    "# print(n2)\n",
    "# n2 = correct_readout_err(n2, n_conf=counts_calib)\n",
    "# print(n2)\n",
    "# print(fix_neg_counts(n2))\n",
    "\n",
    "# print('n1-n2')\n",
    "# print(n1-n2)\n",
    "\n",
    "# print(3)\n",
    "# n = [array([1014,  147 , 707   ,99, 2497,  336, 1675,  261, 1795,  282, 1139,  161, 5264,  716,\n",
    "#    3449,  458], dtype=float)]\n",
    "# print(n)\n",
    "# n = correct_readout_err(n, n_conf=counts_calib)\n",
    "# print(n)\n",
    "# print(fix_neg_counts(n))\n",
    "\n",
    "# print(4)\n",
    "# correct_readout_err(counts_calib, counts_calib)"
   ]
  },
  {
   "cell_type": "code",
   "execution_count": null,
   "metadata": {},
   "outputs": [],
   "source": [
    "# # Open old data\n",
    "# data, attrs = prev_data(expt_path, '00000_qram_protocol_timestepped_4Q_calib.h5')"
   ]
  },
  {
   "cell_type": "code",
   "execution_count": null,
   "metadata": {},
   "outputs": [],
   "source": [
    "qramExpt.analyze(data=None)\n",
    "qramExpt.display(data=None)"
   ]
  },
  {
   "cell_type": "code",
   "execution_count": null,
   "metadata": {},
   "outputs": [],
   "source": [
    "# qramExpt.save_data()"
   ]
  },
  {
   "cell_type": "code",
   "execution_count": null,
   "metadata": {},
   "outputs": [],
   "source": [
    "data, attrs = prev_data(expt_path, '00000_qram_protocol_timestepped_4Q_calib.h5')\n",
    "\n",
    "xpts_ns = data['xpts']*1e3\n",
    "\n",
    "# ---- Subtract off baseline for when there are no coupled qubits in excited state ---- #\n",
    "ti = np.argmin(np.abs(xpts_ns - 1250))\n",
    "tf = -1\n",
    "\n",
    "for q in range(4):\n",
    "    q_baseline = np.average(data['avgi'][q][ti:tf])\n",
    "    # plt.axhline(q_baseline, color='0.6', linestyle='--')\n",
    "    print(q, ti, tf, q_baseline)\n",
    "    data['avgi'][q] -= q_baseline\n",
    "\n",
    "data_q0_raw = data[\"avgi\"][0]\n",
    "data_q1_raw = data[\"avgi\"][1]\n",
    "data_q2_raw = data[\"avgi\"][2]\n",
    "data_q3_raw = data[\"avgi\"][3]\n",
    "\n",
    "\n",
    "data_q = ([], [], [], [])\n",
    "xpts_ns_smoothed = []\n",
    "\n",
    "# test = np.arange(len(data_q0_raw))\n",
    "# print(len(data_q0_raw))\n",
    "\n",
    "window_size = 1\n",
    "start_window = 0\n",
    "for q, data_raw in enumerate((data_q0_raw, data_q1_raw, data_q2_raw, data_q3_raw)):\n",
    "    # smoothing over window\n",
    "    if start_window > 0:\n",
    "        data_q[q].append(data_raw[:start_window])\n",
    "        if q == 0: xpts_ns_smoothed.append(xpts_ns[:start_window])\n",
    "    for n in range(1, (len(data_raw) - start_window)//window_size + 1):\n",
    "        # print(n, test[(n-1)*window_size+start_window:n*window_size+start_window])\n",
    "        if q == 0: xpts_ns_smoothed.append(np.average(xpts_ns[(n-1)*window_size+start_window:n*window_size+start_window]))\n",
    "        data_q[q].append(np.average(data_raw[(n-1)*window_size+start_window:n*window_size+start_window]))\n",
    "    if (len(data_raw) - start_window) % window_size > 0:\n",
    "        n = (len(data_raw) - start_window)//window_size\n",
    "        print(test[n*window_size+start_window:])\n",
    "        if q == 0: xpts_ns_smoothed.append(np.average(xpts_ns[n*window_size+start_window:]))\n",
    "        data_q[q].append(np.average(data_raw[n*window_size+start_window:]))\n",
    "\n",
    "plt.plot(xpts_ns_smoothed, data_q[0], '-', marker='o', markersize=4, label='Q0')\n",
    "plt.plot(xpts_ns_smoothed, data_q[1], '-', marker='*', markersize=6, label='Q1')\n",
    "plt.plot(xpts_ns_smoothed, data_q[2], '-', marker='s', markersize=3, label='Q2')\n",
    "plt.plot(xpts_ns_smoothed, data_q[3], '-', marker='^', markersize=4, label='Q3')\n",
    "plt.axhline(0, color='0.6', linestyle='--')\n",
    "plt.axhline(1, color='0.6', linestyle='--')\n",
    "\n",
    "plt.legend(fontsize=20, loc='upper right')\n",
    "plt.xticks([0, 500, 1000, 1500], fontsize=18)\n",
    "plt.yticks([0, 0.25, 0.5, 0.75, 1], labels=['0', '0.25', '0.5', '0.75', '1'], fontsize=16)\n",
    "plt.xlabel('Time (ns)', fontsize=20)\n",
    "plt.ylabel(\"Population\", fontsize=20)\n",
    "\n",
    "plt.savefig('mux_readout_expt.pdf')\n",
    "plt.show()\n"
   ]
  },
  {
   "cell_type": "code",
   "execution_count": null,
   "metadata": {},
   "outputs": [],
   "source": []
  }
 ],
 "metadata": {
  "kernelspec": {
   "display_name": "base",
   "language": "python",
   "name": "python3"
  },
  "language_info": {
   "codemirror_mode": {
    "name": "ipython",
    "version": 3
   },
   "file_extension": ".py",
   "mimetype": "text/x-python",
   "name": "python",
   "nbconvert_exporter": "python",
   "pygments_lexer": "ipython3",
   "version": "3.9.13"
  }
 },
 "nbformat": 4,
 "nbformat_minor": 4
}
