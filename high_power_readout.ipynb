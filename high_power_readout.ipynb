{
 "cells": [
  {
   "cell_type": "code",
   "execution_count": 1,
   "metadata": {},
   "outputs": [],
   "source": [
    "%matplotlib widget\n",
    "# %matplotlib inline"
   ]
  },
  {
   "cell_type": "code",
   "execution_count": 2,
   "metadata": {},
   "outputs": [
    {
     "name": "stdout",
     "output_type": "stream",
     "text": [
      "Could not import QickInstrument (will only work if running on rfsoc). If running on rfsoc, try install/update qick package\n",
      "Warning failed to import AWG81180A\n",
      "Warning failed to import Tek5014\n",
      "Warning failed to import Tek70001\n",
      "Warning failed to import M8195A\n"
     ]
    }
   ],
   "source": [
    "%load_ext autoreload\n",
    "%autoreload 2\n",
    "\n",
    "import numpy as np\n",
    "import matplotlib.pyplot as plt\n",
    "from copy import deepcopy\n",
    "\n",
    "from qick import *\n",
    "from qick.helpers import gauss\n",
    "\n",
    "import time\n",
    "import os\n",
    "import sys\n",
    "sys.path.append('/home/xilinx/jupyter_notebooks/')\n",
    "import scipy as sp\n",
    "import json\n",
    "from scipy.fft import fft, fftfreq\n",
    "import Pyro4.util\n",
    "\n",
    "from slab.instruments import *\n",
    "from slab.experiment import Experiment\n",
    "from slab.datamanagement import SlabFile\n",
    "from slab import get_next_filename, AttrDict\n",
    "\n",
    "# Figure params\n",
    "import matplotlib as mpl\n",
    "mpl.rcParams['figure.figsize'] = [10,6]\n",
    "plt.rcParams.update({'font.size': 14})\n",
    "mpl.rcParams['figure.dpi'] = 150\n",
    "\n",
    "\n",
    "default_colors = plt.rcParams['axes.prop_cycle'].by_key()['color']\n",
    "linestyle_cycle=['solid', 'dashed', 'dotted', 'dashdot']\n",
    "marker_cycle = ['o', '*', 's', '^']"
   ]
  },
  {
   "cell_type": "markdown",
   "metadata": {},
   "source": [
    "# Load experiments"
   ]
  },
  {
   "cell_type": "code",
   "execution_count": 3,
   "metadata": {},
   "outputs": [
    {
     "name": "stdout",
     "output_type": "stream",
     "text": [
      "imported experiments.clifford_averager_program\n",
      "imported experiments.fitting\n",
      "imported experiments.four_qubit.fourQ_state_tomo\n",
      "imported experiments.qram_protocol_timestepped\n",
      "imported experiments.single_qubit.acstarkshift_spectroscopy\n",
      "imported experiments.single_qubit.amplitude_rabi\n",
      "imported experiments.single_qubit.length_rabi\n",
      "imported experiments.single_qubit.pulse_probe_spectroscopy\n",
      "imported experiments.single_qubit.resonator_spectroscopy\n",
      "imported experiments.single_qubit.rfsoc_tof_calibration\n",
      "imported experiments.single_qubit.single_shot\n",
      "imported experiments.single_qubit.t1\n",
      "imported experiments.single_qubit.t2_ramsey\n",
      "imported experiments.three_qubit.threeQ_state_tomo\n",
      "imported experiments.two_qubit.amplitude_rabi_EgGf\n",
      "imported experiments.two_qubit.amplitude_rabi_f0g1\n",
      "imported experiments.two_qubit.amprabi_opt_ctrl_state_prep\n",
      "imported experiments.two_qubit.crosstalk_echo_calib\n",
      "imported experiments.two_qubit.length_rabi_EgGf\n",
      "imported experiments.two_qubit.length_rabi_F0G1\n",
      "imported experiments.two_qubit.phase_calib_EgGf\n",
      "imported experiments.two_qubit.pulse_probe_EgGf_spectroscopy\n",
      "imported experiments.two_qubit.randbench\n",
      "imported experiments.two_qubit.random_test_pulses\n",
      "imported experiments.two_qubit.twoqutrit_state_tomography\n",
      "imported experiments.two_qubit.twoQ_state_tomography\n"
     ]
    }
   ],
   "source": [
    "# %aimport experiments\n",
    "# NOTE: ADDING NEW METHODS WILL NOT BE UPDATED\n",
    "import experiments as meas"
   ]
  },
  {
   "cell_type": "markdown",
   "metadata": {},
   "source": [
    "### Set save data"
   ]
  },
  {
   "cell_type": "code",
   "execution_count": 4,
   "metadata": {},
   "outputs": [],
   "source": [
    "save_data = False"
   ]
  },
  {
   "cell_type": "code",
   "execution_count": 5,
   "metadata": {},
   "outputs": [],
   "source": [
    "def prev_data(expt_path, filename=None):\n",
    "    \"\"\"Reopen saved data\"\"\"\n",
    "    temp_data_file = expt_path\n",
    "    if filename is not None: temp_data_file = os.path.join(expt_path, filename)\n",
    "    print(temp_data_file)\n",
    "    with SlabFile(temp_data_file) as a:\n",
    "        attrs = dict()\n",
    "        for key in list(a.attrs):\n",
    "            attrs.update({key:json.loads(a.attrs[key])})\n",
    "        keys = list(a)\n",
    "        temp_data = dict()\n",
    "        for key in keys:\n",
    "            temp_data.update({key:np.array(a[key])})\n",
    "        print(f'Extracted data and attrs {list(a.attrs)}')\n",
    "    return temp_data, attrs"
   ]
  },
  {
   "cell_type": "code",
   "execution_count": 53,
   "metadata": {},
   "outputs": [
    {
     "name": "stdout",
     "output_type": "stream",
     "text": [
      "Data will be stored in S:\\QRAM\\qram_4QR2\\data\\data_240617\n"
     ]
    }
   ],
   "source": [
    "# expt_path=os.path.join(os.getcwd(), 'data', 'data_240617')\n",
    "data_path = 'S:\\\\QRAM\\\\qram_4QR2\\\\'\n",
    "expt_path = os.path.join(data_path, 'data', 'data_240617')\n",
    "print('Data will be stored in', expt_path)"
   ]
  },
  {
   "cell_type": "code",
   "execution_count": 54,
   "metadata": {},
   "outputs": [
    {
     "name": "stdout",
     "output_type": "stream",
     "text": [
      "Config will be s:\\Connie\\experiments\\qram_tprocv1_expts\\configs\\config_q3diamond_full688and638_reset.yml\n"
     ]
    }
   ],
   "source": [
    "# config_file = 'config_zcu216.yml'\n",
    "# config_file = 'config_q3diamond.yml'\n",
    "# config_file = 'config_q3diamond_full688_reset.yml'\n",
    "config_file = 'config_q3diamond_full688and638_reset.yml'\n",
    "config_path = os.path.join('s:\\\\Connie\\\\experiments\\\\qram_tprocv1_expts\\\\configs\\\\', config_file)\n",
    "# config_path = os.path.join('S:\\Seb\\experiements\\qram_tprocv1_expts\\configs', config_file)\n",
    "print('Config will be', config_path)"
   ]
  },
  {
   "cell_type": "markdown",
   "metadata": {},
   "source": [
    "# Load config"
   ]
  },
  {
   "cell_type": "code",
   "execution_count": 67,
   "metadata": {},
   "outputs": [],
   "source": [
    "import yaml\n",
    "with open(config_path, 'r') as cfg_file:\n",
    "    yaml_cfg = yaml.safe_load(cfg_file)\n",
    "yaml_cfg = AttrDict(yaml_cfg)"
   ]
  },
  {
   "cell_type": "markdown",
   "metadata": {},
   "source": [
    "# Setup experiment hardware\n",
    "\n",
    "Set in config:\n",
    "- LO alias, frequency, power\n",
    "- SOC dac channels, nyquist zones"
   ]
  },
  {
   "cell_type": "code",
   "execution_count": 25,
   "metadata": {},
   "outputs": [
    {
     "name": "stdout",
     "output_type": "stream",
     "text": [
      "['Pyro.NameServer', 'Heman', 'qdac', 'bkp', 'Qick60', 'SC_26C1', 'SC_2FF1', 'scqubA', 'scredA', 'scqubB', 'scredB', 'YOKO4', 'RS', 'Qick_QRAM', 'NeonFilament']\n"
     ]
    }
   ],
   "source": [
    "# im = InstrumentManager(ns_address='192.168.14.1') # Chicago lab\n",
    "# im = InstrumentManager(ns_address='192.168.137.1') # SLAC lab\n",
    "im = InstrumentManager(ns_address='10.108.30.56') # Spilker Fermium\n",
    "\n",
    "print(list(im))\n",
    "# print(im)"
   ]
  },
  {
   "cell_type": "code",
   "execution_count": 26,
   "metadata": {},
   "outputs": [
    {
     "name": "stdout",
     "output_type": "stream",
     "text": [
      "QICK running on ZCU216, software version 0.2.272\n",
      "\n",
      "Firmware configuration (built Sat Oct  5 10:21:47 2024):\n",
      "\n",
      "\tGlobal clocks (MHz): tProcessor 430.080, RF reference 245.760\n",
      "\n",
      "\t7 signal generator channels:\n",
      "\t0:\taxis_signal_gen_v6 - envelope memory 32768 samples (5.128 us)\n",
      "\t\tfs=6389.760 MHz, fabric=399.360 MHz, 32-bit DDS, range=6389.760 MHz\n",
      "\t\tDAC tile 2, blk 0 is 0_230, on JHC3\n",
      "\t1:\taxis_signal_gen_v6 - envelope memory 32768 samples (5.128 us)\n",
      "\t\tfs=6389.760 MHz, fabric=399.360 MHz, 32-bit DDS, range=6389.760 MHz\n",
      "\t\tDAC tile 2, blk 1 is 1_230, on JHC4\n",
      "\t2:\taxis_signal_gen_v6 - envelope memory 32768 samples (5.128 us)\n",
      "\t\tfs=6389.760 MHz, fabric=399.360 MHz, 32-bit DDS, range=6389.760 MHz\n",
      "\t\tDAC tile 2, blk 2 is 2_230, on JHC3\n",
      "\t3:\taxis_signal_gen_v6 - envelope memory 32768 samples (5.128 us)\n",
      "\t\tfs=6389.760 MHz, fabric=399.360 MHz, 32-bit DDS, range=6389.760 MHz\n",
      "\t\tDAC tile 2, blk 3 is 3_230, on JHC4\n",
      "\t4:\taxis_signal_gen_v6 - envelope memory 32768 samples (4.762 us)\n",
      "\t\tfs=6881.280 MHz, fabric=430.080 MHz, 32-bit DDS, range=6881.280 MHz\n",
      "\t\tDAC tile 3, blk 0 is 0_231, on JHC3\n",
      "\t5:\taxis_signal_gen_v6 - envelope memory 32768 samples (4.762 us)\n",
      "\t\tfs=6881.280 MHz, fabric=430.080 MHz, 32-bit DDS, range=6881.280 MHz\n",
      "\t\tDAC tile 3, blk 1 is 1_231, on JHC4\n",
      "\t6:\taxis_sg_mux4_v2 - envelope memory 0 samples (0.000 us)\n",
      "\t\tfs=6881.280 MHz, fabric=430.080 MHz, 32-bit DDS, range=1720.320 MHz\n",
      "\t\tDAC tile 0, blk 0 is 0_228, on JHC1\n",
      "\n",
      "\t4 constant-IQ outputs:\n",
      "\t0:\tfs=6881.280 MHz\n",
      "\t\tDAC tile 1, blk 0 is 0_229, on JHC1\n",
      "\t1:\tfs=6881.280 MHz\n",
      "\t\tDAC tile 1, blk 1 is 1_229, on JHC2\n",
      "\t2:\tfs=6881.280 MHz\n",
      "\t\tDAC tile 1, blk 2 is 2_229, on JHC1\n",
      "\t3:\tfs=6881.280 MHz\n",
      "\t\tDAC tile 1, blk 3 is 3_229, on JHC2\n",
      "\n",
      "\t4 readout channels:\n",
      "\t0:\taxis_pfb_readout_v2 - configured by PYNQ\n",
      "\t\tfs=2457.600 MHz, decimated=307.200 MHz, 32-bit DDS, range=307.200 MHz\n",
      "\t\tmaxlen 16384 accumulated, 1024 decimated (3.333 us)\n",
      "\t\ttriggered by output 7, pin 8, feedback to tProc input 0\n",
      "\t\tADC tile 2, blk 0 is 0_226, on JHC7\n",
      "\t1:\taxis_pfb_readout_v2 - configured by PYNQ\n",
      "\t\tfs=2457.600 MHz, decimated=307.200 MHz, 32-bit DDS, range=307.200 MHz\n",
      "\t\tmaxlen 16384 accumulated, 1024 decimated (3.333 us)\n",
      "\t\ttriggered by output 7, pin 9, feedback to tProc input 1\n",
      "\t\tADC tile 2, blk 0 is 0_226, on JHC7\n",
      "\t2:\taxis_pfb_readout_v2 - configured by PYNQ\n",
      "\t\tfs=2457.600 MHz, decimated=307.200 MHz, 32-bit DDS, range=307.200 MHz\n",
      "\t\tmaxlen 16384 accumulated, 1024 decimated (3.333 us)\n",
      "\t\ttriggered by output 7, pin 10, feedback to tProc input 2\n",
      "\t\tADC tile 2, blk 0 is 0_226, on JHC7\n",
      "\t3:\taxis_pfb_readout_v2 - configured by PYNQ\n",
      "\t\tfs=2457.600 MHz, decimated=307.200 MHz, 32-bit DDS, range=307.200 MHz\n",
      "\t\tmaxlen 16384 accumulated, 1024 decimated (3.333 us)\n",
      "\t\ttriggered by output 7, pin 11, feedback to tProc input 3\n",
      "\t\tADC tile 2, blk 0 is 0_226, on JHC7\n",
      "\n",
      "\t8 digital output pins:\n",
      "\t0:\tPMOD0_0_LS\n",
      "\t1:\tPMOD0_1_LS\n",
      "\t2:\tPMOD0_2_LS\n",
      "\t3:\tPMOD0_3_LS\n",
      "\t4:\tPMOD0_4_LS\n",
      "\t5:\tPMOD0_5_LS\n",
      "\t6:\tPMOD0_6_LS\n",
      "\t7:\tPMOD0_7_LS\n",
      "\n",
      "\ttProc axis_tproc64x32_x8 (\"v1\") rev 4: program memory 16384 words, data memory 4096 words\n",
      "\t\texternal start pin: PMOD1_0_LS\n"
     ]
    }
   ],
   "source": [
    "soc = QickConfig(im[yaml_cfg['aliases']['soc']].get_cfg())\n",
    "print(soc)\n",
    "# print(soc.description())\n",
    "# print(soc.dump_cfg())\n",
    "\n",
    "# soc = QickConfig(im['Qick187'].get_cfg())"
   ]
  },
  {
   "cell_type": "markdown",
   "metadata": {},
   "source": [
    "# Qubit/resonator to probe"
   ]
  },
  {
   "cell_type": "code",
   "execution_count": 11,
   "metadata": {},
   "outputs": [],
   "source": [
    "all_results = [dict(), dict(), dict(), dict()]\n",
    "saved_files = []"
   ]
  },
  {
   "cell_type": "code",
   "execution_count": 12,
   "metadata": {},
   "outputs": [],
   "source": [
    "qubit_i = 1\n",
    "results_Qi = all_results[qubit_i]"
   ]
  },
  {
   "cell_type": "markdown",
   "metadata": {},
   "source": [
    "## Set reps and rounds"
   ]
  },
  {
   "cell_type": "code",
   "execution_count": 748,
   "metadata": {},
   "outputs": [],
   "source": [
    "reps = 100\n",
    "rounds = 10"
   ]
  },
  {
   "cell_type": "markdown",
   "metadata": {},
   "source": [
    "# Resonator spectro"
   ]
  },
  {
   "cell_type": "code",
   "execution_count": null,
   "metadata": {},
   "outputs": [],
   "source": [
    "rspec = meas.ResonatorSpectroscopyExperiment(\n",
    "    soccfg=soc,\n",
    "    path=expt_path,\n",
    "    prefix=f\"resonator_spectroscopy_qubit{qubit_i}\",\n",
    "    config_file=config_path,\n",
    ")\n",
    "rspec.cfg = AttrDict(deepcopy(yaml_cfg))\n",
    "\n",
    "\n",
    "\n",
    "span = 15 # MHz\n",
    "npts = 200\n",
    "rspec.cfg.expt = dict(\n",
    "    start= 5794.96-0.5*span, # [MHz]\n",
    "    step=span/npts,\n",
    "    expts=npts,\n",
    "    reps=reps*rounds,\n",
    "    pulse_e=False, # add ge pi pulse prior to measurement\n",
    "    pulse_f=False, # add ef pi pulse prior to measurement\n",
    "    qTest=qubit_i,\n",
    "    qZZ=None,\n",
    ")\n",
    "rspec.cfg.device.readout.gain[qubit_i] = 0.8\n",
    "rspec.cfg.device.readout.readout_length = 3\n",
    "rspec.cfg.device.readout.relax_delay = 300 # Wait time between experiments [us] - should be 5x resonator lifetime for good shape\n",
    "\n",
    "import Pyro4.util\n",
    "try:\n",
    "    rspec.go(analyze=False, display=False, progress=True, save=False)\n",
    "except Exception:\n",
    "    print(\"Pyro traceback:\")\n",
    "    print(\"\".join(Pyro4.util.getPyroTraceback()))"
   ]
  },
  {
   "cell_type": "code",
   "execution_count": null,
   "metadata": {},
   "outputs": [],
   "source": [
    "# TESTING\n",
    "# # rspec = meas.ResonatorSpectroscopyExperiment(config_file=config_path,) \n",
    "# temp_data, attrs = prev_data(expt_path, '00001_resonator_spectroscopy_qubit2.h5')\n",
    "# rspec.data = temp_data\n",
    "\n",
    "rspec.data = rspec.analyze(fit=True)\n",
    "rspec_fit = rspec.data['fit']\n",
    "# if not isinstance(rspec_fit, (list, np.ndarray)):\n",
    "#     rspec.display(fit=False)\n",
    "#     assert False, 'Fit failed, please manually fix!'\n",
    "rspec.display(fit=False)\n",
    "# yaml_cfg.device.readout.frequency[qubit_i] = rspec_fit[0]\n",
    "\n",
    "res_freq_g = rspec.data['xpts'][np.argmin(rspec.data['amps'])]\n",
    "# res_freq_g = rspec.data['xpts'][np.argmax(rspec.data['amps'])]\n",
    "yaml_cfg.device.readout.frequency[qubit_i] = res_freq_g\n",
    "\n",
    "yaml_cfg.device.readout.gain[qubit_i] = rspec.cfg.device.readout.gain[qubit_i]\n",
    "print(f'*Set cfg res {qubit_i} freq to {yaml_cfg.device.readout.frequency[qubit_i]}*')\n",
    "print(f'*Set cfg res {qubit_i} gain to {yaml_cfg.device.readout.gain[qubit_i]}*')\n",
    "results_Qi.update({'Res freq':float(yaml_cfg.hw.lo.readout.frequency)*1e-6 + yaml_cfg.device.readout.lo_sideband[qubit_i]*(yaml_cfg.device.readout.frequency[qubit_i] + yaml_cfg.hw.soc.dacs.readout.mixer_freq[qubit_i])})\n",
    "results_Qi.update({'Res freq (yaml)':yaml_cfg.device.readout.frequency[qubit_i]})\n",
    "results_Qi.update({'Res kappa':abs(rspec_fit[0]*(1/rspec_fit[1] + 1/rspec_fit[2]))})\n",
    "print(f'qubit {qubit_i}', results_Qi)"
   ]
  },
  {
   "cell_type": "markdown",
   "metadata": {},
   "source": [
    "# Spectro versus power"
   ]
  },
  {
   "cell_type": "code",
   "execution_count": 792,
   "metadata": {},
   "outputs": [],
   "source": [
    "span_f = 6 # MHz\n",
    "npts_f = 200\n",
    "\n",
    "stop_gain = 0.01\n",
    "start_gain = 0.6\n",
    "npts_gain = 10\n",
    "\n",
    "step_gain = (stop_gain - start_gain)/npts_gain\n",
    "\n",
    "reps = 100\n",
    "\n"
   ]
  },
  {
   "cell_type": "markdown",
   "metadata": {},
   "source": [
    "### Ground state"
   ]
  },
  {
   "cell_type": "code",
   "execution_count": null,
   "metadata": {},
   "outputs": [],
   "source": [
    "rpowspec = meas.ResonatorPowerSweepSpectroscopyExperiment(\n",
    "    soccfg=soc,\n",
    "    path=expt_path,\n",
    "    prefix=f\"power_sweep_resonator_spectroscopy_qubit{qubit_i}\",\n",
    "    config_file=config_path,\n",
    ")\n",
    "\n",
    "rpowspec.cfg.expt = dict(\n",
    "    start_f=rpowspec.cfg.device.readout.frequency[qubit_i]-span_f*0.5, # sweep frequency [MHz]\n",
    "    step_f=span_f/npts_f, # min step ~1 Hz\n",
    "    expts_f=npts_f, # Number experiments stepping freq from start\n",
    "    start_gain=start_gain, # Gain start value\n",
    "    step_gain=step_gain, # Gain step size\n",
    "    expts_gain=npts_gain+1, # Number experiments stepping gain from start\n",
    "    reps=reps, # Number averages per point\n",
    "    pulse_e=False, # add ge pi pulse before measurement\n",
    "    pulse_f=False, # add ef pi pulse before measurement\n",
    "    qTest=qubit_i,\n",
    ")\n",
    "rpowspec.cfg.device.readout.relax_delay = 300 # Wait time between experiments [us]\n",
    "rpowspec.cfg.device.readout.readout_length = 3\n",
    "\n",
    "print(rpowspec.cfg)\n",
    "\n",
    "rpowspec.go(analyze=False, display=False, progress=True, save=False)"
   ]
  },
  {
   "cell_type": "code",
   "execution_count": null,
   "metadata": {},
   "outputs": [],
   "source": [
    "# # TESTING\n",
    "# rpowspec = meas.ResonatorPowerSweepSpectroscopyExperiment(config_file=config_path)\n",
    "# temp_data, attrs = prev_data(expt_path, '00000_power_sweep_resonator_spectroscopy_qubit1.h5')\n",
    "# rpowspec.display(data=temp_data, fit=False)\n",
    "\n",
    "print('qubit', rpowspec.cfg.expt.qTest)\n",
    "rpowspec.analyze(fit=False, lowgain=None, highgain=None)\n",
    "rpowspec.display(fit=False, select=[0.6, 0.7, 0.8, 0.85])  \n",
    "\n",
    "rpowspec.save_data() "
   ]
  },
  {
   "cell_type": "code",
   "execution_count": null,
   "metadata": {},
   "outputs": [],
   "source": [
    "rpowspec_e.data.keys()"
   ]
  },
  {
   "cell_type": "code",
   "execution_count": 796,
   "metadata": {},
   "outputs": [],
   "source": [
    "data_g = rpowspec.data\n",
    "amp_g = rpowspec.data['amps']\n",
    "avgi_g = rpowspec.data['avgi']\n",
    "avgq_g = rpowspec.data['avgq']"
   ]
  },
  {
   "cell_type": "markdown",
   "metadata": {},
   "source": [
    "### E state"
   ]
  },
  {
   "cell_type": "code",
   "execution_count": null,
   "metadata": {},
   "outputs": [],
   "source": [
    "rpowspec_e = meas.ResonatorPowerSweepSpectroscopyExperiment(\n",
    "    soccfg=soc,\n",
    "    path=expt_path,\n",
    "    prefix=f\"power_sweep_resonator_spectroscopy_qubit{qubit_i}\",\n",
    "    config_file=config_path,\n",
    ")\n",
    "\n",
    "rpowspec_e.cfg.expt = dict(\n",
    "    start_f=rpowspec.cfg.device.readout.frequency[qubit_i]-span_f*0.66, # sweep frequency [MHz]\n",
    "    step_f=span_f/npts_f, # min step ~1 Hz\n",
    "    expts_f=npts_f, # Number experiments stepping freq from start\n",
    "    start_gain=start_gain, # Gain start value\n",
    "    step_gain=step_gain, # Gain step size\n",
    "    expts_gain=npts_gain+1, # Number experiments stepping gain from start\n",
    "    reps=reps, # Number averages per point\n",
    "    pulse_e=True, # add ge pi pulse before measurement\n",
    "    pulse_f=False, # add ef pi pulse before measurement\n",
    "    qTest=qubit_i,\n",
    ")\n",
    "rpowspec_e.cfg.device.readout.relax_delay = 400 # Wait time between experiments [us]\n",
    "rpowspec_e.cfg.device.readout.readout_length = 3\n",
    "\n",
    "print(rpowspec_e.cfg)\n",
    "\n",
    "rpowspec_e.go(analyze=False, display=False, progress=True, save=False)"
   ]
  },
  {
   "cell_type": "code",
   "execution_count": null,
   "metadata": {},
   "outputs": [],
   "source": [
    "# # TESTING\n",
    "# rpowspec = meas.ResonatorPowerSweepSpectroscopyExperiment(config_file=config_path)\n",
    "# temp_data, attrs = prev_data(expt_path, '00000_power_sweep_resonator_spectroscopy_qubit1.h5')\n",
    "# rpowspec.display(data=temp_data, fit=False)\n",
    "\n",
    "print('qubit', rpowspec_e.cfg.expt.qTest)\n",
    "rpowspec_e.analyze(fit=False, lowgain=None, highgain=None)\n",
    "rpowspec_e.display(fit=False, select=[0.01, 0.05, 0.1, 0.2, 0.3, 0.6, 0.9])\n",
    "\n",
    "rpowspec_e.save_data()"
   ]
  },
  {
   "cell_type": "code",
   "execution_count": 799,
   "metadata": {},
   "outputs": [],
   "source": [
    "data_e = rpowspec_e.data\n",
    "amp_e = rpowspec_e.data['amps']\n",
    "\n",
    "avgi_e = rpowspec_e.data['avgi']\n",
    "avgq_e = rpowspec_e.data['avgq']"
   ]
  },
  {
   "cell_type": "code",
   "execution_count": null,
   "metadata": {},
   "outputs": [],
   "source": [
    "fig, ax = plt.subplots(1, 1, figsize=(5, 3))\n",
    "contrast = np.abs(amp_e - amp_g)\n",
    "contrast = np.sqrt((avgi_g - avgi_e)**2 + (avgq_g - avgq_e)**2)\n",
    "\n",
    "gain_plot = np.array([0.01])\n",
    "idx_plot = np.array([np.argmin(np.abs(data_e['gainpts'] - g)) for g in gain_plot])\n",
    "\n",
    "# nb_plot = 10\n",
    "# idx_plot = np.linspace(0, len(data_e['gainpts'])-1, nb_plot).astype(int)\n",
    "\n",
    "\n",
    "\n",
    "[ax.plot(data_e['xpts'], contrast[i], label=f'{data_e[\"gainpts\"][i]:.2f}') for i in (idx_plot)]\n",
    "\n",
    "ax.set_xlabel('Frequency [MHz]')\n",
    "ax.set_ylabel('Contrast')\n",
    "\n",
    "ax.legend(title='Gain')\n",
    "\n",
    "fig.tight_layout()"
   ]
  },
  {
   "cell_type": "markdown",
   "metadata": {},
   "source": [
    "# Single shots"
   ]
  },
  {
   "cell_type": "code",
   "execution_count": null,
   "metadata": {},
   "outputs": [],
   "source": [
    "qubit_i = 3\n",
    "\n",
    "shot = meas.HistogramExperiment(\n",
    "    soccfg=soc,\n",
    "    path=expt_path,\n",
    "    prefix=f\"single_shot_qubit{qubit_i}\",\n",
    "    config_file=config_path,\n",
    ")\n",
    "\n",
    "shot.cfg.expt = dict(\n",
    "    reps=20000,\n",
    "    check_e=True,\n",
    "    check_f=False,\n",
    "    qTest=qubit_i,\n",
    ")\n",
    "\n",
    "\n",
    "\n",
    "\n",
    "# shot.cfg.device.readout.frequency[qubit_i]= 5794.52\n",
    "# shot.cfg.device.readout.gain[qubit_i]= 0.16\n",
    "# shot.cfg.device.readout.readout_length[qubit_i] = 1\n",
    "shot.cfg.device.readout.relax_delay = 500  # Wait time between experiments [us]\n",
    "# set the gains \n",
    "\n",
    "print('qubit', shot.cfg.expt.qTest)\n",
    "print('readout params', shot.cfg.device.readout)\n",
    "\n",
    "shot.go(analyze=False, display=False, progress=True, save=False)"
   ]
  },
  {
   "cell_type": "code",
   "execution_count": null,
   "metadata": {},
   "outputs": [],
   "source": [
    "print(shot.cfg)\n",
    "shot.display(fit=False) "
   ]
  },
  {
   "cell_type": "markdown",
   "metadata": {},
   "source": [
    "## sweeps"
   ]
  },
  {
   "cell_type": "code",
   "execution_count": null,
   "metadata": {},
   "outputs": [],
   "source": [
    "shotopt = meas.SingleShotOptExperiment(\n",
    "    soccfg=soc,\n",
    "    path=expt_path,\n",
    "    prefix=f\"single_shot_opt_qubit{qubit_i}\",\n",
    "    config_file=config_path,\n",
    ")\n",
    "shotopt.cfg = AttrDict(deepcopy(yaml_cfg))\n",
    "\n",
    "\n",
    "qubit_i = 3\n",
    "\n",
    "span_f = 1\n",
    "npts_f = 50\n",
    "start_f = shotopt.cfg.device.readout.frequency[qubit_i]-span_f*0.5\n",
    "\n",
    "\n",
    "start_gain = 0.15\n",
    "stop_gain = 0.30\n",
    "npts_gain = 10\n",
    "step_gain = (stop_gain - start_gain) / npts_gain\n",
    "\n",
    "span_len = 6 # us\n",
    "npts_len = 1\n",
    "\n",
    "shotopt.cfg.expt = dict(\n",
    "    reps=1000,\n",
    "    qTest=qubit_i,\n",
    "    start_f=start_f, # [MHz]\n",
    "    step_f=span_f/npts_f,\n",
    "    expts_f=npts_f,\n",
    "    start_gain=start_gain,\n",
    "    step_gain=step_gain,\n",
    "    expts_gain=npts_gain + 1,\n",
    "    start_len=3,\n",
    "    step_len=span_len/npts_len,\n",
    "    expts_len=npts_len,\n",
    ")\n",
    "\n",
    "shotopt.go(analyze=False, display=False, progress=True, save=False)"
   ]
  },
  {
   "cell_type": "code",
   "execution_count": null,
   "metadata": {},
   "outputs": [],
   "source": [
    "imax = shotopt.analyze()\n",
    "\n",
    "print(f'Optimal gain {shotopt.data[\"gainpts\"][imax[1]]},  frequency {shotopt.data[\"fpts\"][imax[0]]} MHz' and f'Optimal readout length {shotopt.data[\"lenpts\"][imax[2]]} us')\n",
    "\n",
    "\n",
    "# shotopt.display()\n",
    "fid = shotopt.data['fid']\n",
    "gain = shotopt.data['gainpts']\n",
    "fpts = shotopt.data['fpts']\n",
    "lenpts = shotopt.data['lenpts']\n",
    "\n",
    "print(fid.shape, gain.shape, fpts.shape, lenpts.shape)\n",
    "\n",
    "\n",
    "# print 2d plot of the fidelity versus gain and frequency for each readout length\n",
    "# fid is a 3d array with shape (len(fpts), len(gain), len(lenpts))\n",
    "\n",
    "for i in range(len(lenpts)):\n",
    "    fig, ax = plt.subplots(1, 1, figsize=(7, 4))\n",
    "    ax.imshow(fid[:, ::-1, i].T, aspect='auto', extent=[fpts[0], fpts[-1], gain[0], gain[-1]])\n",
    "    ax.set_xlabel('Frequency [MHz]')\n",
    "    ax.set_ylabel('Gain [ua]')\n",
    "    ax.set_title(f'Readout length {lenpts[i]:.2f} us')\n",
    "    # add colorbar\n",
    "    ax.figure.colorbar(ax.images[0], ax=ax)\n",
    "    fig.tight_layout()\n",
    "\n"
   ]
  },
  {
   "cell_type": "code",
   "execution_count": null,
   "metadata": {},
   "outputs": [],
   "source": [
    "# plot the slice for the longest readout length\n",
    "\n",
    "\n",
    "for l in lenpts:\n",
    "    fig, ax = plt.subplots(1, 1, figsize=(6, 5))\n",
    "    [ax.plot(fpts, fid[:, i, np.argmin(np.abs(lenpts - l))], label=f'{gain[i]:.2f}') for i in range(len(gain))]\n",
    "\n",
    "    ax.set_xlabel('Frequency [MHz]')\n",
    "    ax.set_ylabel('Fidelity')\n",
    "    ax.legend(title='Gain')\n",
    "    ax.set_title(f'Readout length {l:.2f} us')\n",
    "    fig.tight_layout()\n",
    "\n",
    "# fig, ax = plt.subplots(1, 1, figsize=(7, 5))\n",
    "# [ax.plot(fpts, fid[:, i, -1], label=f'{gain[i]:.2f}') for i in range(len(gain))]\n",
    "\n",
    "# ax.set_xlabel('Frequency [MHz]')\n",
    "# ax.set_ylabel('Fidelity')\n",
    "# ax.legend(title='Gain')\n",
    "\n",
    "# fig.tight_layout()"
   ]
  },
  {
   "cell_type": "code",
   "execution_count": null,
   "metadata": {},
   "outputs": [],
   "source": [
    "shotopt.save_data()"
   ]
  },
  {
   "cell_type": "markdown",
   "metadata": {},
   "source": [
    "## Multi-readout"
   ]
  },
  {
   "cell_type": "code",
   "execution_count": 60,
   "metadata": {},
   "outputs": [],
   "source": [
    "qubit_i = 1"
   ]
  },
  {
   "cell_type": "code",
   "execution_count": 68,
   "metadata": {},
   "outputs": [
    {
     "name": "stdout",
     "output_type": "stream",
     "text": [
      "-706.1633333999998\n"
     ]
    },
    {
     "data": {
      "application/vnd.jupyter.widget-view+json": {
       "model_id": "b32bea75f9c24bc4a9307e9f20473143",
       "version_major": 2,
       "version_minor": 0
      },
      "text/plain": [
       "  0%|          | 0/40 [00:00<?, ?it/s]"
      ]
     },
     "metadata": {},
     "output_type": "display_data"
    },
    {
     "ename": "RuntimeError",
     "evalue": "requested frequency 1201.288233 is outside of [-range/2, range/2]",
     "output_type": "error",
     "traceback": [
      "\u001b[1;31m---------------------------------------------------------------------------\u001b[0m",
      "\u001b[1;31mRuntimeError\u001b[0m                              Traceback (most recent call last)",
      "Cell \u001b[1;32mIn[68], line 58\u001b[0m\n\u001b[0;32m     51\u001b[0m     multishotopt\u001b[38;5;241m.\u001b[39mcfg\u001b[38;5;241m.\u001b[39mexpt\u001b[38;5;241m.\u001b[39mmask \u001b[38;5;241m=\u001b[39m [\u001b[38;5;241m0\u001b[39m,\u001b[38;5;241m1\u001b[39m,\u001b[38;5;241m2\u001b[39m,\u001b[38;5;241m3\u001b[39m]\n\u001b[0;32m     52\u001b[0m     multishotopt\u001b[38;5;241m.\u001b[39mcfg\u001b[38;5;241m.\u001b[39mexpt\u001b[38;5;241m.\u001b[39mfull_mux_ch \u001b[38;5;241m=\u001b[39m \u001b[38;5;241m4\u001b[39m\n\u001b[1;32m---> 58\u001b[0m \u001b[43mmultishotopt\u001b[49m\u001b[38;5;241;43m.\u001b[39;49m\u001b[43mgo\u001b[49m\u001b[43m(\u001b[49m\u001b[43manalyze\u001b[49m\u001b[38;5;241;43m=\u001b[39;49m\u001b[38;5;28;43;01mFalse\u001b[39;49;00m\u001b[43m,\u001b[49m\u001b[43m \u001b[49m\u001b[43mdisplay\u001b[49m\u001b[38;5;241;43m=\u001b[39;49m\u001b[38;5;28;43;01mFalse\u001b[39;49;00m\u001b[43m,\u001b[49m\u001b[43m \u001b[49m\u001b[43mprogress\u001b[49m\u001b[38;5;241;43m=\u001b[39;49m\u001b[38;5;28;43;01mTrue\u001b[39;49;00m\u001b[43m,\u001b[49m\u001b[43m \u001b[49m\u001b[43msave\u001b[49m\u001b[38;5;241;43m=\u001b[39;49m\u001b[38;5;28;43;01mFalse\u001b[39;49;00m\u001b[43m)\u001b[49m\n\u001b[0;32m     59\u001b[0m multishotopt\u001b[38;5;241m.\u001b[39msave_data()\n\u001b[0;32m     60\u001b[0m multishotopt\u001b[38;5;241m.\u001b[39mdisplay()\n",
      "File \u001b[1;32m~\\slab\\experiment.py:115\u001b[0m, in \u001b[0;36mExperiment.go\u001b[1;34m(self, save, analyze, display, progress)\u001b[0m\n\u001b[0;32m    112\u001b[0m \u001b[38;5;28;01mdef\u001b[39;00m \u001b[38;5;21mgo\u001b[39m(\u001b[38;5;28mself\u001b[39m, save\u001b[38;5;241m=\u001b[39m\u001b[38;5;28;01mFalse\u001b[39;00m, analyze\u001b[38;5;241m=\u001b[39m\u001b[38;5;28;01mFalse\u001b[39;00m, display\u001b[38;5;241m=\u001b[39m\u001b[38;5;28;01mFalse\u001b[39;00m, progress\u001b[38;5;241m=\u001b[39m\u001b[38;5;28;01mFalse\u001b[39;00m):\n\u001b[0;32m    113\u001b[0m     \u001b[38;5;66;03m# get data\u001b[39;00m\n\u001b[1;32m--> 115\u001b[0m     data\u001b[38;5;241m=\u001b[39m\u001b[38;5;28;43mself\u001b[39;49m\u001b[38;5;241;43m.\u001b[39;49m\u001b[43macquire\u001b[49m\u001b[43m(\u001b[49m\u001b[43mprogress\u001b[49m\u001b[43m)\u001b[49m\n\u001b[0;32m    116\u001b[0m     \u001b[38;5;28;01mif\u001b[39;00m analyze:\n\u001b[0;32m    117\u001b[0m         data\u001b[38;5;241m=\u001b[39m\u001b[38;5;28mself\u001b[39m\u001b[38;5;241m.\u001b[39manalyze(data)\n",
      "File \u001b[1;32ms:\\Seb\\experiements\\qram_tprocv1_expts\\experiments\\single_qubit\\single_shot.py:1774\u001b[0m, in \u001b[0;36mMultiReadoutOptExperiment.acquire\u001b[1;34m(self, progress)\u001b[0m\n\u001b[0;32m   1771\u001b[0m \u001b[38;5;28;01mif\u001b[39;00m \u001b[38;5;124m\"\u001b[39m\u001b[38;5;124mamplitude_mode\u001b[39m\u001b[38;5;124m\"\u001b[39m \u001b[38;5;129;01min\u001b[39;00m \u001b[38;5;28mself\u001b[39m\u001b[38;5;241m.\u001b[39mcfg\u001b[38;5;241m.\u001b[39mexpt:\n\u001b[0;32m   1772\u001b[0m     amplitude_mode \u001b[38;5;241m=\u001b[39m \u001b[38;5;28mself\u001b[39m\u001b[38;5;241m.\u001b[39mcfg\u001b[38;5;241m.\u001b[39mexpt\u001b[38;5;241m.\u001b[39mamplitude_mode\n\u001b[1;32m-> 1774\u001b[0m \u001b[43mmultihist\u001b[49m\u001b[38;5;241;43m.\u001b[39;49m\u001b[43mgo\u001b[49m\u001b[43m(\u001b[49m\u001b[43manalyze\u001b[49m\u001b[38;5;241;43m=\u001b[39;49m\u001b[38;5;28;43;01mFalse\u001b[39;49;00m\u001b[43m,\u001b[49m\u001b[43m \u001b[49m\u001b[43mdisplay\u001b[49m\u001b[38;5;241;43m=\u001b[39;49m\u001b[38;5;28;43;01mFalse\u001b[39;49;00m\u001b[43m,\u001b[49m\u001b[43m \u001b[49m\u001b[43mprogress\u001b[49m\u001b[38;5;241;43m=\u001b[39;49m\u001b[38;5;28;43;01mFalse\u001b[39;49;00m\u001b[43m,\u001b[49m\n\u001b[0;32m   1775\u001b[0m \u001b[43m             \u001b[49m\u001b[43msave\u001b[49m\u001b[38;5;241;43m=\u001b[39;49m\u001b[38;5;28;43;01mFalse\u001b[39;49;00m\u001b[43m)\u001b[49m\n\u001b[0;32m   1776\u001b[0m result \u001b[38;5;241m=\u001b[39m multihist\u001b[38;5;241m.\u001b[39manalyze(check_readouts\u001b[38;5;241m=\u001b[39m[\u001b[38;5;241m0\u001b[39m], fit\u001b[38;5;241m=\u001b[39m\u001b[38;5;28;01mFalse\u001b[39;00m, post_select\u001b[38;5;241m=\u001b[39m\u001b[38;5;28;01mFalse\u001b[39;00m, data\u001b[38;5;241m=\u001b[39mmultihist\u001b[38;5;241m.\u001b[39mdata, verbose\u001b[38;5;241m=\u001b[39m\u001b[38;5;28;01mFalse\u001b[39;00m, amplitude_mode\u001b[38;5;241m=\u001b[39mamplitude_mode, plot\u001b[38;5;241m=\u001b[39m\u001b[38;5;28;01mFalse\u001b[39;00m)\n\u001b[0;32m   1778\u001b[0m fid[i_f, i_g, i_l] \u001b[38;5;241m=\u001b[39m (result[\u001b[38;5;124m\"\u001b[39m\u001b[38;5;124mfids\u001b[39m\u001b[38;5;124m\"\u001b[39m][\u001b[38;5;241m0\u001b[39m]\n\u001b[0;32m   1779\u001b[0m \u001b[38;5;28;01mif\u001b[39;00m \u001b[38;5;129;01mnot\u001b[39;00m check_f \u001b[38;5;28;01melse\u001b[39;00m result[\u001b[38;5;124m\"\u001b[39m\u001b[38;5;124mfids\u001b[39m\u001b[38;5;124m\"\u001b[39m][\u001b[38;5;241m1\u001b[39m])\n",
      "File \u001b[1;32m~\\slab\\experiment.py:115\u001b[0m, in \u001b[0;36mExperiment.go\u001b[1;34m(self, save, analyze, display, progress)\u001b[0m\n\u001b[0;32m    112\u001b[0m \u001b[38;5;28;01mdef\u001b[39;00m \u001b[38;5;21mgo\u001b[39m(\u001b[38;5;28mself\u001b[39m, save\u001b[38;5;241m=\u001b[39m\u001b[38;5;28;01mFalse\u001b[39;00m, analyze\u001b[38;5;241m=\u001b[39m\u001b[38;5;28;01mFalse\u001b[39;00m, display\u001b[38;5;241m=\u001b[39m\u001b[38;5;28;01mFalse\u001b[39;00m, progress\u001b[38;5;241m=\u001b[39m\u001b[38;5;28;01mFalse\u001b[39;00m):\n\u001b[0;32m    113\u001b[0m     \u001b[38;5;66;03m# get data\u001b[39;00m\n\u001b[1;32m--> 115\u001b[0m     data\u001b[38;5;241m=\u001b[39m\u001b[38;5;28;43mself\u001b[39;49m\u001b[38;5;241;43m.\u001b[39;49m\u001b[43macquire\u001b[49m\u001b[43m(\u001b[49m\u001b[43mprogress\u001b[49m\u001b[43m)\u001b[49m\n\u001b[0;32m    116\u001b[0m     \u001b[38;5;28;01mif\u001b[39;00m analyze:\n\u001b[0;32m    117\u001b[0m         data\u001b[38;5;241m=\u001b[39m\u001b[38;5;28mself\u001b[39m\u001b[38;5;241m.\u001b[39manalyze(data)\n",
      "File \u001b[1;32ms:\\Seb\\experiements\\qram_tprocv1_expts\\experiments\\single_qubit\\single_shot.py:1197\u001b[0m, in \u001b[0;36mMultiReadoutExperiment.acquire\u001b[1;34m(self, progress)\u001b[0m\n\u001b[0;32m   1195\u001b[0m cfg\u001b[38;5;241m.\u001b[39mexpt\u001b[38;5;241m.\u001b[39mpulse_e \u001b[38;5;241m=\u001b[39m \u001b[38;5;28;01mFalse\u001b[39;00m\n\u001b[0;32m   1196\u001b[0m cfg\u001b[38;5;241m.\u001b[39mexpt\u001b[38;5;241m.\u001b[39mpulse_f \u001b[38;5;241m=\u001b[39m \u001b[38;5;28;01mFalse\u001b[39;00m\n\u001b[1;32m-> 1197\u001b[0m histpro \u001b[38;5;241m=\u001b[39m \u001b[43mMultiReadoutProgram\u001b[49m\u001b[43m(\u001b[49m\u001b[43msoccfg\u001b[49m\u001b[38;5;241;43m=\u001b[39;49m\u001b[38;5;28;43mself\u001b[39;49m\u001b[38;5;241;43m.\u001b[39;49m\u001b[43msoccfg\u001b[49m\u001b[43m,\u001b[49m\u001b[43m \u001b[49m\u001b[43mcfg\u001b[49m\u001b[38;5;241;43m=\u001b[39;49m\u001b[43mcfg\u001b[49m\u001b[43m)\u001b[49m\n\u001b[0;32m   1198\u001b[0m avgi, avgq \u001b[38;5;241m=\u001b[39m histpro\u001b[38;5;241m.\u001b[39macquire(\u001b[38;5;28mself\u001b[39m\u001b[38;5;241m.\u001b[39mim[\u001b[38;5;28mself\u001b[39m\u001b[38;5;241m.\u001b[39mcfg\u001b[38;5;241m.\u001b[39maliases\u001b[38;5;241m.\u001b[39msoc], progress\u001b[38;5;241m=\u001b[39mprogress)\n\u001b[0;32m   1199\u001b[0m \u001b[38;5;28mself\u001b[39m\u001b[38;5;241m.\u001b[39mprog \u001b[38;5;241m=\u001b[39m histpro\n",
      "File \u001b[1;32ms:\\Seb\\experiements\\qram_tprocv1_expts\\experiments\\clifford_averager_program.py:201\u001b[0m, in \u001b[0;36mCliffordAveragerProgram.__init__\u001b[1;34m(self, soccfg, cfg)\u001b[0m\n\u001b[0;32m    198\u001b[0m \u001b[38;5;66;03m# copy over parameters for the acquire method\u001b[39;00m\n\u001b[0;32m    199\u001b[0m \u001b[38;5;28mself\u001b[39m\u001b[38;5;241m.\u001b[39mcfg\u001b[38;5;241m.\u001b[39mreps \u001b[38;5;241m=\u001b[39m cfg\u001b[38;5;241m.\u001b[39mexpt\u001b[38;5;241m.\u001b[39mreps\n\u001b[1;32m--> 201\u001b[0m \u001b[38;5;28;43msuper\u001b[39;49m\u001b[43m(\u001b[49m\u001b[43m)\u001b[49m\u001b[38;5;241;43m.\u001b[39;49m\u001b[38;5;21;43m__init__\u001b[39;49m\u001b[43m(\u001b[49m\u001b[43msoccfg\u001b[49m\u001b[43m,\u001b[49m\u001b[43m \u001b[49m\u001b[38;5;28;43mself\u001b[39;49m\u001b[38;5;241;43m.\u001b[39;49m\u001b[43mcfg\u001b[49m\u001b[43m)\u001b[49m\n",
      "File \u001b[1;32mc:\\users\\slab\\qick\\qick_lib\\qick\\averager_program.py:29\u001b[0m, in \u001b[0;36mAveragerProgram.__init__\u001b[1;34m(self, soccfg, cfg)\u001b[0m\n\u001b[0;32m     27\u001b[0m \u001b[38;5;28msuper\u001b[39m()\u001b[38;5;241m.\u001b[39m\u001b[38;5;21m__init__\u001b[39m(soccfg)\n\u001b[0;32m     28\u001b[0m \u001b[38;5;28mself\u001b[39m\u001b[38;5;241m.\u001b[39mcfg \u001b[38;5;241m=\u001b[39m cfg\n\u001b[1;32m---> 29\u001b[0m \u001b[38;5;28;43mself\u001b[39;49m\u001b[38;5;241;43m.\u001b[39;49m\u001b[43mmake_program\u001b[49m\u001b[43m(\u001b[49m\u001b[43m)\u001b[49m\n\u001b[0;32m     30\u001b[0m \u001b[38;5;28mself\u001b[39m\u001b[38;5;241m.\u001b[39msoft_avgs \u001b[38;5;241m=\u001b[39m \u001b[38;5;241m1\u001b[39m\n\u001b[0;32m     31\u001b[0m \u001b[38;5;28;01mif\u001b[39;00m \u001b[38;5;124m\"\u001b[39m\u001b[38;5;124msoft_avgs\u001b[39m\u001b[38;5;124m\"\u001b[39m \u001b[38;5;129;01min\u001b[39;00m cfg:\n",
      "File \u001b[1;32mc:\\users\\slab\\qick\\qick_lib\\qick\\averager_program.py:60\u001b[0m, in \u001b[0;36mAveragerProgram.make_program\u001b[1;34m(self)\u001b[0m\n\u001b[0;32m     58\u001b[0m rjj \u001b[38;5;241m=\u001b[39m \u001b[38;5;241m14\u001b[39m\n\u001b[0;32m     59\u001b[0m rcount \u001b[38;5;241m=\u001b[39m \u001b[38;5;241m15\u001b[39m\n\u001b[1;32m---> 60\u001b[0m \u001b[43mp\u001b[49m\u001b[38;5;241;43m.\u001b[39;49m\u001b[43minitialize\u001b[49m\u001b[43m(\u001b[49m\u001b[43m)\u001b[49m\n\u001b[0;32m     61\u001b[0m p\u001b[38;5;241m.\u001b[39mregwi(\u001b[38;5;241m0\u001b[39m, rcount, \u001b[38;5;241m0\u001b[39m)\n\u001b[0;32m     62\u001b[0m p\u001b[38;5;241m.\u001b[39mregwi(\u001b[38;5;241m0\u001b[39m, rjj, \u001b[38;5;28mself\u001b[39m\u001b[38;5;241m.\u001b[39mcfg[\u001b[38;5;124m'\u001b[39m\u001b[38;5;124mreps\u001b[39m\u001b[38;5;124m'\u001b[39m]\u001b[38;5;241m-\u001b[39m\u001b[38;5;241m1\u001b[39m)\n",
      "File \u001b[1;32ms:\\Seb\\experiements\\qram_tprocv1_expts\\experiments\\clifford_averager_program.py:1896\u001b[0m, in \u001b[0;36mQutritAveragerProgram.initialize\u001b[1;34m(self)\u001b[0m\n\u001b[0;32m   1895\u001b[0m \u001b[38;5;28;01mdef\u001b[39;00m \u001b[38;5;21minitialize\u001b[39m(\u001b[38;5;28mself\u001b[39m):\n\u001b[1;32m-> 1896\u001b[0m     \u001b[38;5;28;43msuper\u001b[39;49m\u001b[43m(\u001b[49m\u001b[43m)\u001b[49m\u001b[38;5;241;43m.\u001b[39;49m\u001b[43minitialize\u001b[49m\u001b[43m(\u001b[49m\u001b[43m)\u001b[49m\n\u001b[0;32m   1897\u001b[0m     \u001b[38;5;28mself\u001b[39m\u001b[38;5;241m.\u001b[39moverall_phase_ef \u001b[38;5;241m=\u001b[39m [\u001b[38;5;241m0\u001b[39m] \u001b[38;5;241m*\u001b[39m \u001b[38;5;28mself\u001b[39m\u001b[38;5;241m.\u001b[39mnum_qubits_sample\n\u001b[0;32m   1898\u001b[0m     \u001b[38;5;66;03m# declare qubit ef pulses\u001b[39;00m\n\u001b[0;32m   1899\u001b[0m     \u001b[38;5;66;03m# print(self.gen_chs)\u001b[39;00m\n",
      "File \u001b[1;32ms:\\Seb\\experiements\\qram_tprocv1_expts\\experiments\\clifford_averager_program.py:1585\u001b[0m, in \u001b[0;36mCliffordAveragerProgram.initialize\u001b[1;34m(self)\u001b[0m\n\u001b[0;32m   1582\u001b[0m \u001b[38;5;28mself\u001b[39m\u001b[38;5;241m.\u001b[39mpi_ge_types \u001b[38;5;241m=\u001b[39m \u001b[38;5;28mself\u001b[39m\u001b[38;5;241m.\u001b[39mcfg\u001b[38;5;241m.\u001b[39mdevice\u001b[38;5;241m.\u001b[39mqubit\u001b[38;5;241m.\u001b[39mpulses\u001b[38;5;241m.\u001b[39mpi_ge\u001b[38;5;241m.\u001b[39mtype\n\u001b[0;32m   1583\u001b[0m \u001b[38;5;28mself\u001b[39m\u001b[38;5;241m.\u001b[39mpi_ef_types \u001b[38;5;241m=\u001b[39m \u001b[38;5;28mself\u001b[39m\u001b[38;5;241m.\u001b[39mcfg\u001b[38;5;241m.\u001b[39mdevice\u001b[38;5;241m.\u001b[39mqubit\u001b[38;5;241m.\u001b[39mpulses\u001b[38;5;241m.\u001b[39mpi_ef\u001b[38;5;241m.\u001b[39mtype\n\u001b[1;32m-> 1585\u001b[0m \u001b[38;5;28mself\u001b[39m\u001b[38;5;241m.\u001b[39mf_res_regs \u001b[38;5;241m=\u001b[39m [\n\u001b[0;32m   1586\u001b[0m     \u001b[38;5;28mself\u001b[39m\u001b[38;5;241m.\u001b[39mfreq2reg(f, gen_ch\u001b[38;5;241m=\u001b[39mgen_ch, ro_ch\u001b[38;5;241m=\u001b[39madc_ch)\n\u001b[0;32m   1587\u001b[0m     \u001b[38;5;28;01mfor\u001b[39;00m f, gen_ch, adc_ch \u001b[38;5;129;01min\u001b[39;00m \u001b[38;5;28mzip\u001b[39m(\u001b[38;5;28mself\u001b[39m\u001b[38;5;241m.\u001b[39mcfg\u001b[38;5;241m.\u001b[39mdevice\u001b[38;5;241m.\u001b[39mreadout\u001b[38;5;241m.\u001b[39mfrequency, \u001b[38;5;28mself\u001b[39m\u001b[38;5;241m.\u001b[39mres_chs, \u001b[38;5;28mself\u001b[39m\u001b[38;5;241m.\u001b[39madc_chs)\n\u001b[0;32m   1588\u001b[0m ]\n\u001b[0;32m   1589\u001b[0m \u001b[38;5;28;01mif\u001b[39;00m \u001b[38;5;28mself\u001b[39m\u001b[38;5;241m.\u001b[39mcool_qubits:\n\u001b[0;32m   1590\u001b[0m     \u001b[38;5;28mself\u001b[39m\u001b[38;5;241m.\u001b[39mf_f0g1_regs \u001b[38;5;241m=\u001b[39m [\n\u001b[0;32m   1591\u001b[0m         \u001b[38;5;28mself\u001b[39m\u001b[38;5;241m.\u001b[39mfreq2reg(f, gen_ch\u001b[38;5;241m=\u001b[39mch) \u001b[38;5;28;01mfor\u001b[39;00m f, ch \u001b[38;5;129;01min\u001b[39;00m \u001b[38;5;28mzip\u001b[39m(\u001b[38;5;28mself\u001b[39m\u001b[38;5;241m.\u001b[39mcfg\u001b[38;5;241m.\u001b[39mdevice\u001b[38;5;241m.\u001b[39mqubit\u001b[38;5;241m.\u001b[39mf_f0g1, \u001b[38;5;28mself\u001b[39m\u001b[38;5;241m.\u001b[39mqubit_chs)\n\u001b[0;32m   1592\u001b[0m     ]\n",
      "File \u001b[1;32ms:\\Seb\\experiements\\qram_tprocv1_expts\\experiments\\clifford_averager_program.py:1586\u001b[0m, in \u001b[0;36m<listcomp>\u001b[1;34m(.0)\u001b[0m\n\u001b[0;32m   1582\u001b[0m \u001b[38;5;28mself\u001b[39m\u001b[38;5;241m.\u001b[39mpi_ge_types \u001b[38;5;241m=\u001b[39m \u001b[38;5;28mself\u001b[39m\u001b[38;5;241m.\u001b[39mcfg\u001b[38;5;241m.\u001b[39mdevice\u001b[38;5;241m.\u001b[39mqubit\u001b[38;5;241m.\u001b[39mpulses\u001b[38;5;241m.\u001b[39mpi_ge\u001b[38;5;241m.\u001b[39mtype\n\u001b[0;32m   1583\u001b[0m \u001b[38;5;28mself\u001b[39m\u001b[38;5;241m.\u001b[39mpi_ef_types \u001b[38;5;241m=\u001b[39m \u001b[38;5;28mself\u001b[39m\u001b[38;5;241m.\u001b[39mcfg\u001b[38;5;241m.\u001b[39mdevice\u001b[38;5;241m.\u001b[39mqubit\u001b[38;5;241m.\u001b[39mpulses\u001b[38;5;241m.\u001b[39mpi_ef\u001b[38;5;241m.\u001b[39mtype\n\u001b[0;32m   1585\u001b[0m \u001b[38;5;28mself\u001b[39m\u001b[38;5;241m.\u001b[39mf_res_regs \u001b[38;5;241m=\u001b[39m [\n\u001b[1;32m-> 1586\u001b[0m     \u001b[38;5;28;43mself\u001b[39;49m\u001b[38;5;241;43m.\u001b[39;49m\u001b[43mfreq2reg\u001b[49m\u001b[43m(\u001b[49m\u001b[43mf\u001b[49m\u001b[43m,\u001b[49m\u001b[43m \u001b[49m\u001b[43mgen_ch\u001b[49m\u001b[38;5;241;43m=\u001b[39;49m\u001b[43mgen_ch\u001b[49m\u001b[43m,\u001b[49m\u001b[43m \u001b[49m\u001b[43mro_ch\u001b[49m\u001b[38;5;241;43m=\u001b[39;49m\u001b[43madc_ch\u001b[49m\u001b[43m)\u001b[49m\n\u001b[0;32m   1587\u001b[0m     \u001b[38;5;28;01mfor\u001b[39;00m f, gen_ch, adc_ch \u001b[38;5;129;01min\u001b[39;00m \u001b[38;5;28mzip\u001b[39m(\u001b[38;5;28mself\u001b[39m\u001b[38;5;241m.\u001b[39mcfg\u001b[38;5;241m.\u001b[39mdevice\u001b[38;5;241m.\u001b[39mreadout\u001b[38;5;241m.\u001b[39mfrequency, \u001b[38;5;28mself\u001b[39m\u001b[38;5;241m.\u001b[39mres_chs, \u001b[38;5;28mself\u001b[39m\u001b[38;5;241m.\u001b[39madc_chs)\n\u001b[0;32m   1588\u001b[0m ]\n\u001b[0;32m   1589\u001b[0m \u001b[38;5;28;01mif\u001b[39;00m \u001b[38;5;28mself\u001b[39m\u001b[38;5;241m.\u001b[39mcool_qubits:\n\u001b[0;32m   1590\u001b[0m     \u001b[38;5;28mself\u001b[39m\u001b[38;5;241m.\u001b[39mf_f0g1_regs \u001b[38;5;241m=\u001b[39m [\n\u001b[0;32m   1591\u001b[0m         \u001b[38;5;28mself\u001b[39m\u001b[38;5;241m.\u001b[39mfreq2reg(f, gen_ch\u001b[38;5;241m=\u001b[39mch) \u001b[38;5;28;01mfor\u001b[39;00m f, ch \u001b[38;5;129;01min\u001b[39;00m \u001b[38;5;28mzip\u001b[39m(\u001b[38;5;28mself\u001b[39m\u001b[38;5;241m.\u001b[39mcfg\u001b[38;5;241m.\u001b[39mdevice\u001b[38;5;241m.\u001b[39mqubit\u001b[38;5;241m.\u001b[39mf_f0g1, \u001b[38;5;28mself\u001b[39m\u001b[38;5;241m.\u001b[39mqubit_chs)\n\u001b[0;32m   1592\u001b[0m     ]\n",
      "File \u001b[1;32mc:\\users\\slab\\qick\\qick_lib\\qick\\qick_asm.py:365\u001b[0m, in \u001b[0;36mQickConfig.freq2reg\u001b[1;34m(self, f, gen_ch, ro_ch)\u001b[0m\n\u001b[0;32m    360\u001b[0m \u001b[38;5;28;01mif\u001b[39;00m gencfg[\u001b[38;5;124m'\u001b[39m\u001b[38;5;124minterpolation\u001b[39m\u001b[38;5;124m'\u001b[39m] \u001b[38;5;241m!=\u001b[39m \u001b[38;5;241m1\u001b[39m:\n\u001b[0;32m    361\u001b[0m     \u001b[38;5;66;03m# because of the interpolation filter, there is no output power in the higher nyquist zones\u001b[39;00m\n\u001b[0;32m    362\u001b[0m     \u001b[38;5;66;03m# TODO: what matters here is not the RF-DAC interpolation, but the internal generator interpolation\u001b[39;00m\n\u001b[0;32m    363\u001b[0m     \u001b[38;5;66;03m# (but they are the same for all current generators)\u001b[39;00m\n\u001b[0;32m    364\u001b[0m     \u001b[38;5;28;01mif\u001b[39;00m f \u001b[38;5;241m>\u001b[39m gencfg[\u001b[38;5;124m'\u001b[39m\u001b[38;5;124mf_dds\u001b[39m\u001b[38;5;124m'\u001b[39m]\u001b[38;5;241m/\u001b[39m\u001b[38;5;241m2\u001b[39m \u001b[38;5;129;01mor\u001b[39;00m f \u001b[38;5;241m<\u001b[39m \u001b[38;5;241m-\u001b[39mgencfg[\u001b[38;5;124m'\u001b[39m\u001b[38;5;124mf_dds\u001b[39m\u001b[38;5;124m'\u001b[39m]\u001b[38;5;241m/\u001b[39m\u001b[38;5;241m2\u001b[39m:\n\u001b[1;32m--> 365\u001b[0m         \u001b[38;5;28;01mraise\u001b[39;00m \u001b[38;5;167;01mRuntimeError\u001b[39;00m(\u001b[38;5;124m\"\u001b[39m\u001b[38;5;124mrequested frequency \u001b[39m\u001b[38;5;132;01m%f\u001b[39;00m\u001b[38;5;124m is outside of [-range/2, range/2]\u001b[39m\u001b[38;5;124m\"\u001b[39m\u001b[38;5;241m%\u001b[39m(f))\n\u001b[0;32m    366\u001b[0m \u001b[38;5;28;01mreturn\u001b[39;00m \u001b[38;5;28mself\u001b[39m\u001b[38;5;241m.\u001b[39mfreq2int(f, gencfg, rocfg) \u001b[38;5;241m%\u001b[39m \u001b[38;5;241m2\u001b[39m\u001b[38;5;241m*\u001b[39m\u001b[38;5;241m*\u001b[39mgencfg[\u001b[38;5;124m'\u001b[39m\u001b[38;5;124mb_dds\u001b[39m\u001b[38;5;124m'\u001b[39m]\n",
      "\u001b[1;31mRuntimeError\u001b[0m: requested frequency 1201.288233 is outside of [-range/2, range/2]"
     ]
    }
   ],
   "source": [
    "\n",
    "for qubit_i in [1]:\n",
    "\n",
    "\n",
    "    multishotopt = meas.MultiReadoutOptExperiment(\n",
    "        soccfg=soc,\n",
    "        path=expt_path,\n",
    "        prefix=f\"multi_readout_opt_qubit{qubit_i}\",\n",
    "        config_file=config_path,\n",
    "    )\n",
    "\n",
    "    multishotopt.cfg = AttrDict(deepcopy(yaml_cfg))\n",
    "\n",
    "    span_f = 1.5\n",
    "    npts_f = 40\n",
    "    start_f = multishotopt.cfg.device.readout.frequency[qubit_i]-span_f*0.75\n",
    "    print(start_f)\n",
    "\n",
    "    start_gain = 0.01\n",
    "    stop_gain = 0.1\n",
    "    npts_gain = 2\n",
    "    step_gain = (stop_gain - start_gain) / npts_gain\n",
    "\n",
    "    start_len = 4\n",
    "    span_len = 2 # us\n",
    "    npts_len = 1\n",
    "\n",
    "    multishotopt.cfg.expt = dict(\n",
    "        reps=1000,\n",
    "        qTest=qubit_i,\n",
    "        start_f=start_f, # [MHz]\n",
    "        step_f=span_f/npts_f,\n",
    "        expts_f=npts_f,\n",
    "        start_gain=start_gain,\n",
    "        step_gain=step_gain,\n",
    "        expts_gain=npts_gain,\n",
    "        start_len=start_len,\n",
    "        step_len=span_len/npts_len,\n",
    "        expts_len=npts_len,\n",
    "        check_e=True,\n",
    "        check_f=False,\n",
    "        readout_cool = True, \n",
    "        n_init_readout = 1, \n",
    "        n_trig = 1,\n",
    "        init_read_wait_us = 10, \n",
    "        avg_trigs = True,\n",
    "        amplitude_mode = True,\n",
    "        full_mux_expt = True, \n",
    "        )\n",
    "\n",
    "    if multishotopt.cfg.expt.full_mux_expt:\n",
    "        multishotopt.cfg.expt.mask = [0,1,2,3]\n",
    "        multishotopt.cfg.expt.full_mux_ch = 4\n",
    "\n",
    "\n",
    "\n",
    "\n",
    "\n",
    "    multishotopt.go(analyze=False, display=False, progress=True, save=False)\n",
    "    multishotopt.save_data()\n",
    "    multishotopt.display()\n",
    "\n",
    "\n"
   ]
  },
  {
   "cell_type": "code",
   "execution_count": null,
   "metadata": {},
   "outputs": [],
   "source": [
    "multishotopt.display()"
   ]
  },
  {
   "cell_type": "code",
   "execution_count": null,
   "metadata": {},
   "outputs": [],
   "source": [
    "imax = multishotopt.analyze()\n",
    "\n",
    "print(f'Optimal gain {multishotopt.data[\"gainpts\"][imax[1]]}')\n",
    "print(f'Optimal frequency {multishotopt.data[\"fpts\"][imax[0]]} MHz')\n",
    "print(f'Optimal readout length {multishotopt.data[\"lenpts\"][imax[2]]} us')\n",
    "print(f'Fidelity {multishotopt.data[\"fid\"][imax[0], imax[1], imax[2]]}')\n"
   ]
  },
  {
   "cell_type": "code",
   "execution_count": null,
   "metadata": {},
   "outputs": [],
   "source": [
    "imax"
   ]
  },
  {
   "cell_type": "code",
   "execution_count": 19,
   "metadata": {},
   "outputs": [
    {
     "name": "stdout",
     "output_type": "stream",
     "text": [
      "gain 0.5 readout length 4.0\n",
      "qubit 1\n"
     ]
    },
    {
     "data": {
      "application/vnd.jupyter.widget-view+json": {
       "model_id": "874fdd3f24e14582995cda35eee66b5d",
       "version_major": 2,
       "version_minor": 0
      },
      "text/plain": [
       "  0%|          | 0/10000 [00:00<?, ?it/s]"
      ]
     },
     "metadata": {},
     "output_type": "display_data"
    },
    {
     "data": {
      "application/vnd.jupyter.widget-view+json": {
       "model_id": "a9e87429efa6471e8ff8097ed72199b1",
       "version_major": 2,
       "version_minor": 0
      },
      "text/plain": [
       "  0%|          | 0/10000 [00:00<?, ?it/s]"
      ]
     },
     "metadata": {},
     "output_type": "display_data"
    },
    {
     "data": {
      "application/vnd.jupyter.widget-view+json": {
       "model_id": "5a2cc8324b7b49e5b478c85465f1942a",
       "version_major": 2,
       "version_minor": 0
      },
      "text/plain": [
       "  0%|          | 0/10000 [00:00<?, ?it/s]"
      ]
     },
     "metadata": {},
     "output_type": "display_data"
    },
    {
     "data": {
      "application/vnd.jupyter.widget-view+json": {
       "model_id": "b72cc5da5075436aba5305138e172f8f",
       "version_major": 2,
       "version_minor": 0
      },
      "text/plain": [
       "  0%|          | 0/10000 [00:00<?, ?it/s]"
      ]
     },
     "metadata": {},
     "output_type": "display_data"
    },
    {
     "name": "stdout",
     "output_type": "stream",
     "text": [
      "Saving S:\\QRAM\\qram_4QR2\\data\\data_240617\\00179_multi_readout_qubit1.h5\n"
     ]
    },
    {
     "data": {
      "application/vnd.jupyter.widget-view+json": {
       "model_id": "04e336f828e84e69807b8daaf7ba5785",
       "version_major": 2,
       "version_minor": 0
      },
      "image/png": "[encoded data removed]",
      "text/html": [
       "\n",
       "            <div style=\"display: inline-block;\">\n",
       "                <div class=\"jupyter-widgets widget-label\" style=\"text-align: center;\">\n",
       "                    Figure\n",
       "                </div>\n",
       "                <img src='data:image/png;base64,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' width=600.0/>\n",
       "            </div>\n",
       "        "
      ],
      "text/plain": [
       "Canvas(toolbar=Toolbar(toolitems=[('Home', 'Reset original view', 'home', 'home'), ('Back', 'Back to previous …"
      ]
     },
     "metadata": {},
     "output_type": "display_data"
    }
   ],
   "source": [
    "qubit_i = 1\n",
    "gain_vec = np.array([0.5])\n",
    "readout_vec = np.array([4.0])\n",
    "wait_vec = np.array([10])\n",
    "n_trig = np.array([1])\n",
    "# freq = -229.94910723\n",
    "# freq = -229.866\n",
    "# freq = -231\n",
    "freq =  multishotopt.cfg.device.readout.frequency[qubit_i]\n",
    "\n",
    "for t in n_trig:\n",
    "    for w in wait_vec:\n",
    "        for r in readout_vec:\n",
    "            for g in gain_vec:\n",
    "                print('gain', g, 'readout length', r)\n",
    "                \n",
    "                shot = meas.MultiReadoutExperiment(\n",
    "                    soccfg=soc,\n",
    "                    path=expt_path,\n",
    "                    prefix=f\"multi_readout_qubit{qubit_i}\",\n",
    "                    config_file=config_path,\n",
    "                )\n",
    "\n",
    "                shot.cfg.expt = dict(\n",
    "                    reps=10000,\n",
    "                    check_e=True,\n",
    "                    check_f=False,\n",
    "                    qTest=qubit_i,\n",
    "                    readout_cool=True,\n",
    "                    n_init_readout=1, # number of readout blocks prior to final readout\n",
    "                    n_trig=t, # extend readout by triggering this many times in a row\n",
    "                    init_read_wait_us=w, # wait between readout blocks\n",
    "                    use_gf_readout=False,\n",
    "                    avg_trigs=True, # whether to combine data from trigger stacks into 1 averaged histogram\n",
    "                    full_mux_expt = True, \n",
    "  \n",
    "                )\n",
    "                if shot.cfg.expt.full_mux_expt:\n",
    "                    shot.cfg.expt.lengths = [r]*4\n",
    "                    shot.cfg.device.readout.readout_length = shot.cfg.expt.lengths\n",
    "                    shot.cfg.expt.mask = [0,1,2,3]\n",
    "                    shot.cfg.expt.full_mux_ch = 4\n",
    "                else:\n",
    "                    for q in range(4):\n",
    "                        shot.cfg.device.readout.readout_length[q] = r\n",
    "                shot.cfg.device.readout.frequency[qubit_i]= freq\n",
    "                shot.cfg.device.readout.gain[qubit_i] = g\n",
    "                print('qubit', shot.cfg.expt.qTest)\n",
    "\n",
    "                try:\n",
    "                    shot.go(analyze=False, display=False, progress=True, save=False)\n",
    "                except Exception:\n",
    "                    print(\"Pyro traceback:\")\n",
    "                    print(\"\".join(Pyro4.util.getPyroTraceback()))\n",
    "                    \n",
    "                shot.analyze(fit=False, check_readouts=[0, 1], post_select=False, verbose=False, amplitude_mode=True, plot=True)\n",
    "                # shot.display(fit=False, post_select=False, verbose=False, export=False)\n",
    "                \n",
    "                shot.save_data()\n",
    "                "
   ]
  },
  {
   "cell_type": "code",
   "execution_count": 24,
   "metadata": {},
   "outputs": [],
   "source": [
    "sidebands = np.array(multishotopt.cfg.device.readout.frequency)\n",
    "mux = 7200"
   ]
  },
  {
   "cell_type": "code",
   "execution_count": 27,
   "metadata": {},
   "outputs": [
    {
     "name": "stdout",
     "output_type": "stream",
     "text": [
      "[ -391.02527175 -1405.0383334    501.28823333  -229.94910723]\n",
      "[6808.97472825 5794.9616666  7701.28823333 6970.05089277] [7591.02527175 8605.0383334  6698.71176667 7429.94910723]\n"
     ]
    }
   ],
   "source": [
    "gen_freqs_up = mux + sidebands\n",
    "gen_freqs_down = mux - sidebands\n",
    "print(sidebands)\n",
    "print(gen_freqs_up, gen_freqs_down)"
   ]
  },
  {
   "cell_type": "code",
   "execution_count": 32,
   "metadata": {},
   "outputs": [
    {
     "name": "stdout",
     "output_type": "stream",
     "text": [
      "[ 208.97472825 -805.0383334  1101.28823333  370.05089277]\n"
     ]
    }
   ],
   "source": [
    "# shift the sideband by -400 and compute the new desired sideband frequencies so that the gen_freqs_up are the same\n",
    "\n",
    "mux = 6600\n",
    "sidebands = gen_freqs_up - mux\n",
    "print(sidebands)"
   ]
  },
  {
   "cell_type": "code",
   "execution_count": null,
   "metadata": {},
   "outputs": [],
   "source": []
  }
 ],
 "metadata": {
  "kernelspec": {
   "display_name": "slab",
   "language": "python",
   "name": "python3"
  },
  "language_info": {
   "codemirror_mode": {
    "name": "ipython",
    "version": 3
   },
   "file_extension": ".py",
   "mimetype": "text/x-python",
   "name": "python",
   "nbconvert_exporter": "python",
   "pygments_lexer": "ipython3",
   "version": "3.9.19"
  }
 },
 "nbformat": 4,
 "nbformat_minor": 2
}
