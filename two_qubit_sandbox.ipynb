{
 "cells": [
  {
   "cell_type": "code",
   "execution_count": 1,
   "metadata": {},
   "outputs": [],
   "source": [
    "# %matplotlib widget\n",
    "# %matplotlib inline\n",
    "%matplotlib qt5"
   ]
  },
  {
   "cell_type": "code",
   "execution_count": 2,
   "metadata": {},
   "outputs": [
    {
     "name": "stdout",
     "output_type": "stream",
     "text": [
      "Could not import QickInstrument (will only work if running on rfsoc). If running on rfsoc, try install/update qick package\n",
      "Warning failed to import AWG81180A\n",
      "Warning failed to import Tek5014\n",
      "Warning failed to import Tek70001\n",
      "Warning failed to import M8195A\n"
     ]
    },
    {
     "name": "stderr",
     "output_type": "stream",
     "text": [
      "c:\\ProgramData\\Anaconda3\\lib\\site-packages\\IPython\\qt.py:12: ShimWarning: The `IPython.qt` package has been deprecated since IPython 4.0. You should import from qtconsole instead.\n",
      "  warn(\"The `IPython.qt` package has been deprecated since IPython 4.0. \"\n"
     ]
    },
    {
     "name": "stdout",
     "output_type": "stream",
     "text": [
      "Could not load InstrumentManagerWindow\n",
      "Could not load labbrick\n",
      "Could not load Autonics TM4 Driver\n",
      "Could not load Oxford Trition driver\n"
     ]
    }
   ],
   "source": [
    "%load_ext autoreload\n",
    "%autoreload 2\n",
    "\n",
    "import numpy as np\n",
    "import matplotlib.pyplot as plt\n",
    "import matplotlib.style as style\n",
    "from mpl_toolkits.axes_grid1 import make_axes_locatable\n",
    "\n",
    "from qick import *\n",
    "from qick.helpers import gauss\n",
    "from tqdm import tqdm_notebook as tqdm\n",
    "\n",
    "import time\n",
    "import os\n",
    "import sys\n",
    "sys.path.append('/home/xilinx/jupyter_notebooks/')\n",
    "import scipy as sp\n",
    "from scipy.fft import fft, fftfreq\n",
    "import json\n",
    "from copy import deepcopy\n",
    "\n",
    "from slab.instruments import *\n",
    "from slab.experiment import Experiment\n",
    "from slab.datamanagement import SlabFile\n",
    "from slab import get_next_filename, AttrDict\n",
    "\n",
    "# Figure params\n",
    "plt.rcParams['figure.figsize'] = [10,6]\n",
    "plt.rcParams.update({'font.size': 14})\n",
    "default_colors = plt.rcParams['axes.prop_cycle'].by_key()['color']\n",
    "# style.use('default')\n",
    "style.use('S:\\Connie\\prx.mplstyle')\n",
    "\n",
    "import Pyro4.util"
   ]
  },
  {
   "cell_type": "markdown",
   "metadata": {},
   "source": [
    "# Load experiments"
   ]
  },
  {
   "cell_type": "code",
   "execution_count": 3,
   "metadata": {},
   "outputs": [
    {
     "name": "stdout",
     "output_type": "stream",
     "text": [
      "imported experiments.clifford_averager_program\n",
      "imported experiments.fitting\n",
      "imported experiments.four_qubit.fourQ_state_tomo\n",
      "imported experiments.qram_protocol_timestepped\n",
      "imported experiments.single_qubit.acstarkshift_spectroscopy\n",
      "imported experiments.single_qubit.amplitude_rabi\n",
      "imported experiments.single_qubit.length_rabi\n",
      "imported experiments.single_qubit.pulse_probe_spectroscopy\n",
      "imported experiments.single_qubit.resonator_spectroscopy\n",
      "imported experiments.single_qubit.rfsoc_tof_calibration\n",
      "imported experiments.single_qubit.single_shot\n",
      "imported experiments.single_qubit.t1\n",
      "imported experiments.single_qubit.t2_ramsey\n",
      "imported experiments.three_qubit.threeQ_state_tomo\n",
      "imported experiments.two_qubit.amplitude_rabi_EgGf\n",
      "imported experiments.two_qubit.amplitude_rabi_f0g1\n",
      "imported experiments.two_qubit.amprabi_opt_ctrl_state_prep\n",
      "imported experiments.two_qubit.crosstalk_echo_calib\n",
      "imported experiments.two_qubit.length_rabi_EgGf\n",
      "imported experiments.two_qubit.length_rabi_F0G1\n",
      "imported experiments.two_qubit.phase_calib_EgGf\n",
      "imported experiments.two_qubit.pulse_probe_EgGf_spectroscopy\n",
      "imported experiments.two_qubit.randbench\n",
      "imported experiments.two_qubit.random_test_pulses\n",
      "imported experiments.two_qubit.twoqutrit_state_tomography\n",
      "imported experiments.two_qubit.twoQ_state_tomography\n"
     ]
    }
   ],
   "source": [
    "# %aimport experiments\n",
    "import experiments as meas"
   ]
  },
  {
   "cell_type": "code",
   "execution_count": 4,
   "metadata": {},
   "outputs": [],
   "source": [
    "\"\"\"Reopen saved data\"\"\"\n",
    "def prev_data(expt_path, filename=None):\n",
    "    temp_data_file = expt_path\n",
    "    if filename is not None: temp_data_file = os.path.join(expt_path, filename)\n",
    "    print(temp_data_file)\n",
    "    with SlabFile(temp_data_file) as a:\n",
    "        attrs = dict()\n",
    "        for key in list(a.attrs):\n",
    "            attrs.update({key:json.loads(a.attrs[key])})\n",
    "        keys = list(a)\n",
    "        temp_data = dict()\n",
    "        for key in keys:\n",
    "            temp_data.update({key:np.array(a[key])})\n",
    "        print(f'Extracted data and attrs {list(a.attrs)}')\n",
    "    return temp_data, attrs"
   ]
  },
  {
   "cell_type": "code",
   "execution_count": 5,
   "metadata": {},
   "outputs": [
    {
     "name": "stdout",
     "output_type": "stream",
     "text": [
      "Data will be stored in S:\\QRAM\\qram_4QR2\\data\\data_241025\n"
     ]
    }
   ],
   "source": [
    "data_path = 'S:\\\\QRAM\\\\qram_4QR2\\\\'\n",
    "expt_path = os.path.join(data_path, 'data', 'data_241025')\n",
    "print('Data will be stored in', expt_path)"
   ]
  },
  {
   "cell_type": "code",
   "execution_count": 6,
   "metadata": {},
   "outputs": [
    {
     "name": "stdout",
     "output_type": "stream",
     "text": [
      "Config will be s:\\Connie\\experiments\\qram_tprocv1_expts\\configs\\config_q3diamond_full688and638_reset.yml\n"
     ]
    }
   ],
   "source": [
    "# config_file = 'config_zcu216.yml'\n",
    "# config_file = 'config_q3diamond.yml'\n",
    "config_file = 'config_q3diamond_full688and638_reset.yml'\n",
    "config_path = os.path.join('s:\\\\Connie\\\\experiments\\\\qram_tprocv1_expts\\\\configs\\\\', config_file)\n",
    "print('Config will be', config_path)"
   ]
  },
  {
   "cell_type": "markdown",
   "metadata": {},
   "source": [
    "# Set the qubits/resonators to probe"
   ]
  },
  {
   "cell_type": "markdown",
   "metadata": {},
   "source": [
    "## [Auto0] SET 2Q QUBIT SWAP PARAMETERS"
   ]
  },
  {
   "cell_type": "code",
   "execution_count": 135,
   "metadata": {},
   "outputs": [],
   "source": [
    "qubits = [2, 1] # order doesn't matter if you specify qDrive correctly\n",
    "init_state = '|0>|1>'\n",
    "wrong_init_state = '|1>|1>'\n",
    "setup_ZZ = None\n",
    "# measure_qubits = [qubits[0], qubits[1], 3]\n",
    "measure_qubits = qubits\n",
    "qDrive = qubits[0] # normal new protocol\n",
    "\n",
    "# qubits = [3, 1] # order doesn't matter if you specify qDrive correctly\n",
    "# init_state = '|1>|1>' # for everything else\n",
    "# wrong_init_state = '|0>|1>'\n",
    "# setup_ZZ = 0 # for the amp rabi chevron\n",
    "# # measure_qubits = [qubits[0], qubits[1], 2]\n",
    "# measure_qubits = qubits\n",
    "# qDrive = qubits[0] # normal new protocol\n",
    "\n",
    "# init_state = '|0>|2>'\n",
    "# qDrive = qubits[1]\n",
    "\n",
    "\n",
    "# f0-g1\n",
    "# # init_state = '|0>|0>'\n",
    "# # qDrive = 1 # resonator f0-g1"
   ]
  },
  {
   "cell_type": "markdown",
   "metadata": {},
   "source": [
    "# Setup experiment hardware\n",
    "\n",
    "Set in config:\n",
    "- LO alias, frequency, power\n",
    "- SOC dac channels, nyquist zones"
   ]
  },
  {
   "cell_type": "code",
   "execution_count": 8,
   "metadata": {},
   "outputs": [],
   "source": [
    "import yaml\n",
    "with open(config_path, 'r') as cfg_file:\n",
    "    yaml_cfg = yaml.safe_load(cfg_file)\n",
    "yaml_cfg = AttrDict(yaml_cfg)"
   ]
  },
  {
   "cell_type": "code",
   "execution_count": 9,
   "metadata": {},
   "outputs": [],
   "source": [
    "# im = InstrumentManager(ns_address='192.168.14.1') # Chicago lab\n",
    "# im = InstrumentManager(ns_address='192.168.137.1') # SLAC lab\n",
    "# im = InstrumentManager(ns_address='10.108.30.56') # Spilker Fermium\n",
    "im = InstrumentManager(ns_address='10.108.30.75') # Spilker Vibranium"
   ]
  },
  {
   "cell_type": "code",
   "execution_count": 10,
   "metadata": {},
   "outputs": [
    {
     "name": "stdout",
     "output_type": "stream",
     "text": [
      "QICK running on ZCU216, software version 0.2.272\n",
      "\n",
      "Firmware configuration (built Sat Oct  5 10:21:47 2024):\n",
      "\n",
      "\tGlobal clocks (MHz): tProcessor 430.080, RF reference 245.760\n",
      "\n",
      "\t7 signal generator channels:\n",
      "\t0:\taxis_signal_gen_v6 - envelope memory 32768 samples (5.128 us)\n",
      "\t\tfs=6389.760 MHz, fabric=399.360 MHz, 32-bit DDS, range=6389.760 MHz\n",
      "\t\tDAC tile 2, blk 0 is 0_230, on JHC3\n",
      "\t1:\taxis_signal_gen_v6 - envelope memory 32768 samples (5.128 us)\n",
      "\t\tfs=6389.760 MHz, fabric=399.360 MHz, 32-bit DDS, range=6389.760 MHz\n",
      "\t\tDAC tile 2, blk 1 is 1_230, on JHC4\n",
      "\t2:\taxis_signal_gen_v6 - envelope memory 32768 samples (5.128 us)\n",
      "\t\tfs=6389.760 MHz, fabric=399.360 MHz, 32-bit DDS, range=6389.760 MHz\n",
      "\t\tDAC tile 2, blk 2 is 2_230, on JHC3\n",
      "\t3:\taxis_signal_gen_v6 - envelope memory 32768 samples (5.128 us)\n",
      "\t\tfs=6389.760 MHz, fabric=399.360 MHz, 32-bit DDS, range=6389.760 MHz\n",
      "\t\tDAC tile 2, blk 3 is 3_230, on JHC4\n",
      "\t4:\taxis_signal_gen_v6 - envelope memory 32768 samples (4.762 us)\n",
      "\t\tfs=6881.280 MHz, fabric=430.080 MHz, 32-bit DDS, range=6881.280 MHz\n",
      "\t\tDAC tile 3, blk 0 is 0_231, on JHC3\n",
      "\t5:\taxis_signal_gen_v6 - envelope memory 32768 samples (4.762 us)\n",
      "\t\tfs=6881.280 MHz, fabric=430.080 MHz, 32-bit DDS, range=6881.280 MHz\n",
      "\t\tDAC tile 3, blk 1 is 1_231, on JHC4\n",
      "\t6:\taxis_sg_mux4_v2 - envelope memory 0 samples (0.000 us)\n",
      "\t\tfs=6881.280 MHz, fabric=430.080 MHz, 32-bit DDS, range=1720.320 MHz\n",
      "\t\tDAC tile 0, blk 0 is 0_228, on JHC1\n",
      "\n",
      "\t4 constant-IQ outputs:\n",
      "\t0:\tfs=6881.280 MHz\n",
      "\t\tDAC tile 1, blk 0 is 0_229, on JHC1\n",
      "\t1:\tfs=6881.280 MHz\n",
      "\t\tDAC tile 1, blk 1 is 1_229, on JHC2\n",
      "\t2:\tfs=6881.280 MHz\n",
      "\t\tDAC tile 1, blk 2 is 2_229, on JHC1\n",
      "\t3:\tfs=6881.280 MHz\n",
      "\t\tDAC tile 1, blk 3 is 3_229, on JHC2\n",
      "\n",
      "\t4 readout channels:\n",
      "\t0:\taxis_pfb_readout_v2 - configured by PYNQ\n",
      "\t\tfs=2457.600 MHz, decimated=307.200 MHz, 32-bit DDS, range=307.200 MHz\n",
      "\t\tmaxlen 16384 accumulated, 1024 decimated (3.333 us)\n",
      "\t\ttriggered by output 7, pin 8, feedback to tProc input 0\n",
      "\t\tADC tile 2, blk 0 is 0_226, on JHC7\n",
      "\t1:\taxis_pfb_readout_v2 - configured by PYNQ\n",
      "\t\tfs=2457.600 MHz, decimated=307.200 MHz, 32-bit DDS, range=307.200 MHz\n",
      "\t\tmaxlen 16384 accumulated, 1024 decimated (3.333 us)\n",
      "\t\ttriggered by output 7, pin 9, feedback to tProc input 1\n",
      "\t\tADC tile 2, blk 0 is 0_226, on JHC7\n",
      "\t2:\taxis_pfb_readout_v2 - configured by PYNQ\n",
      "\t\tfs=2457.600 MHz, decimated=307.200 MHz, 32-bit DDS, range=307.200 MHz\n",
      "\t\tmaxlen 16384 accumulated, 1024 decimated (3.333 us)\n",
      "\t\ttriggered by output 7, pin 10, feedback to tProc input 2\n",
      "\t\tADC tile 2, blk 0 is 0_226, on JHC7\n",
      "\t3:\taxis_pfb_readout_v2 - configured by PYNQ\n",
      "\t\tfs=2457.600 MHz, decimated=307.200 MHz, 32-bit DDS, range=307.200 MHz\n",
      "\t\tmaxlen 16384 accumulated, 1024 decimated (3.333 us)\n",
      "\t\ttriggered by output 7, pin 11, feedback to tProc input 3\n",
      "\t\tADC tile 2, blk 0 is 0_226, on JHC7\n",
      "\n",
      "\t8 digital output pins:\n",
      "\t0:\tPMOD0_0_LS\n",
      "\t1:\tPMOD0_1_LS\n",
      "\t2:\tPMOD0_2_LS\n",
      "\t3:\tPMOD0_3_LS\n",
      "\t4:\tPMOD0_4_LS\n",
      "\t5:\tPMOD0_5_LS\n",
      "\t6:\tPMOD0_6_LS\n",
      "\t7:\tPMOD0_7_LS\n",
      "\n",
      "\ttProc axis_tproc64x32_x8 (\"v1\") rev 4: program memory 16384 words, data memory 4096 words\n",
      "\t\texternal start pin: PMOD1_0_LS\n"
     ]
    }
   ],
   "source": [
    "soc = QickConfig(im[yaml_cfg['aliases']['soc']].get_cfg())\n",
    "print(soc)\n",
    "# print(soc.description())\n",
    "# print(soc.dump_cfg())"
   ]
  },
  {
   "cell_type": "code",
   "execution_count": null,
   "metadata": {},
   "outputs": [],
   "source": [
    "lo1 = im[yaml_cfg.aliases.readout_LO]\n",
    "lo1.open_device()\n",
    "print(lo1.get_id())\n",
    "\n",
    "# TURN OFF\n",
    "lo1.set_standby(True)\n",
    "lo1.set_output_state(False)\n",
    "\n",
    "# # TURN ON\n",
    "# lo1.set_standby(False)\n",
    "# lo1.set_output_state(True)\n",
    "# lo_freq = float(yaml_cfg.hw.lo.readout.frequency)\n",
    "# lo_power = float(yaml_cfg.hw.lo.readout.power)\n",
    "# lo1.set_frequency(lo_freq) # Set LO frequency\n",
    "# print('set freq to', lo_freq)\n",
    "# lo1.set_power(lo_power) # Set LO power\n",
    "# print('set power to', lo_power)"
   ]
  },
  {
   "cell_type": "markdown",
   "metadata": {},
   "source": [
    "# ZZ shifted pi pulses"
   ]
  },
  {
   "cell_type": "markdown",
   "metadata": {},
   "source": [
    "## Pulse probe coupling spectroscopy\n",
    "\n",
    "Sweep qubit A frequency after applying pi pulse to qubit B."
   ]
  },
  {
   "cell_type": "code",
   "execution_count": 101,
   "metadata": {},
   "outputs": [],
   "source": [
    "qubits = [1, 2] # for eg-gf swap, always list the 2nd qubit here as the 2nd qubit in the order eg-gf"
   ]
  },
  {
   "cell_type": "code",
   "execution_count": null,
   "metadata": {},
   "outputs": [],
   "source": [
    "qZZspec = meas.PulseProbeCouplingSpectroscopyExperiment(\n",
    "    soccfg=soc,\n",
    "    path=expt_path,\n",
    "    prefix=f\"qubit_coupling_spectroscopy_qubit{qubits[0]}{qubits[1]}\",\n",
    "    config_file=config_path,\n",
    ")\n",
    "\n",
    "span = 1\n",
    "npts = 100\n",
    "\n",
    "qZZspec.cfg.expt = dict(\n",
    "    start=qZZspec.cfg.device.qubit.f_Q1_ZZ[qubits[1]]-span/2,\n",
    "    # start=qZZspec.cfg.device.qubit.f_ge[qubits[0]]-span/2,\n",
    "    # start=3458.5-span/2,\n",
    "    step=span/npts,\n",
    "    expts=npts, # Number of experiments stepping from start\n",
    "    reps=100, # Number of averages per point\n",
    "    rounds=10, # Number of start to finish sweeps to average over\n",
    "    pulseB=True, # Whether to apply pi pulse to qubit B\n",
    "    length=1, # qubit 0 probe constant pulse length [us]\n",
    "    gain=100, # qubit 0 const pulse gain\n",
    "    pulse_type='gauss',\n",
    "    qubits=qubits,\n",
    ")\n",
    "\n",
    "# qZZspec.cfg.device.readout.relax_delay = [10, 10, 10, 10] # Wait time between experiments [us]\n",
    "\n",
    "print(qZZspec.cfg)\n",
    "\n",
    "qZZspec.go(analyze=False, display=False, progress=True, save=False)"
   ]
  },
  {
   "cell_type": "code",
   "execution_count": null,
   "metadata": {},
   "outputs": [],
   "source": [
    "# # TESTING\n",
    "# qZZspec = meas.PulseProbeEgGfSpectroscopyExperiment(config_file=config_path)\n",
    "# temp_data, attrs = prev_data(expt_path, '00002_qubit_coupling_spectroscopy_qubit01.h5')\n",
    "# data = qZZspec.analyze(data=temp_data, fit=True, sign=[[1, -1], [-1, -1]])\n",
    "# qZZspec.display(data=data, fit=True)\n",
    "\n",
    "qZZspec.analyze(fit=True, signs=[1, -1, 1])\n",
    "qZZspec.display(fit=True, signs=[1, -1, 1])"
   ]
  },
  {
   "cell_type": "code",
   "execution_count": null,
   "metadata": {},
   "outputs": [],
   "source": [
    "qZZspec.save_data()"
   ]
  },
  {
   "cell_type": "markdown",
   "metadata": {},
   "source": [
    "## Length rabi for Q1 with QA in e"
   ]
  },
  {
   "cell_type": "code",
   "execution_count": null,
   "metadata": {},
   "outputs": [],
   "source": [
    "lengthrabiZZ = meas.LengthRabiPiZZExperiment(\n",
    "    soccfg=soc,\n",
    "    path=expt_path,\n",
    "    prefix=f\"length_rabi_ZZ_qubit{qubits[0]}{qubits[1]}\",\n",
    "    config_file=config_path,\n",
    ")\n",
    "\n",
    "lengthrabiZZ.cfg.expt = dict(\n",
    "    start=0, # pulse length (sigma) [us]\n",
    "    step=soc.cycles2us(1), # [us]\n",
    "    # step=0.001,\n",
    "    expts=101,\n",
    "    reps=1000,\n",
    "    gain=20000, # qubit gain [DAC units],\n",
    "    pulse_type='gauss',\n",
    "    qubits=qubits,\n",
    ")\n",
    "# lengthrabiZZ.cfg.device.readout.relax_delay = 100 # Wait time between experiments [us]\n",
    "\n",
    "print(lengthrabiZZ.cfg)\n",
    "# lengthrabi.im[lengthrabi.cfg.aliases.soc].reset()\n",
    "lengthrabiZZ.go(analyze=False, display=False, progress=True, save=False)"
   ]
  },
  {
   "cell_type": "code",
   "execution_count": null,
   "metadata": {},
   "outputs": [],
   "source": [
    "# # TESTING\n",
    "# temp_data, attrs = prev_data(expt_path, '00000_voltage_sweep_qubit_spectroscopy_qubit3.h5')\n",
    "# data = lengthrabiZZ.analyze(data=temp_data, fit=True)\n",
    "\n",
    "lengthrabiZZ.analyze(fit=True)\n",
    "lengthrabiZZ.display(fit=True)"
   ]
  },
  {
   "cell_type": "code",
   "execution_count": null,
   "metadata": {},
   "outputs": [],
   "source": [
    "lengthrabiZZ.save_data()"
   ]
  },
  {
   "cell_type": "markdown",
   "metadata": {},
   "source": [
    "# 2Q swap frequencies"
   ]
  },
  {
   "cell_type": "markdown",
   "metadata": {},
   "source": [
    "Estimate 2Q swap frequencies analytically"
   ]
  },
  {
   "cell_type": "code",
   "execution_count": null,
   "metadata": {},
   "outputs": [],
   "source": [
    "f_ge = np.array(yaml_cfg.device.qubit.f_ge) + np.array(yaml_cfg.hw.soc.dacs.qubit.mixer_freq)\n",
    "f_Q1_ZZ = np.array(yaml_cfg.device.qubit.f_Q1_ZZ) + np.array(yaml_cfg.hw.soc.dacs.qubit.mixer_freq)\n",
    "f_ef = np.array(yaml_cfg.device.qubit.f_ef) + np.array(yaml_cfg.hw.soc.dacs.qubit.mixer_freq)\n",
    "\n",
    "print('f_EgGf: need indices 0, 2, 3')\n",
    "print(f_ge[1] + f_ef[1] - f_ge)\n",
    "print('f_EgGf_Q: indices 2, 3')\n",
    "print(f_ge[2] + f_ef[2] - f_ge[1])\n",
    "print(f_ge[3] + f_ef[3] - f_Q1_ZZ[0])\n",
    "print('f_EgGf for Q3 if switch is in g')\n",
    "print(f_ge[3] + f_ef[3] - f_ge[1])\n",
    "print('f_EgGf for Q2 if switch is in 3')\n",
    "print(f_ge[2] + f_ef[2] - f_Q1_ZZ[0])"
   ]
  },
  {
   "cell_type": "markdown",
   "metadata": {},
   "source": [
    "## Pulse probe eg-gf spectroscopy"
   ]
  },
  {
   "cell_type": "code",
   "execution_count": null,
   "metadata": {},
   "outputs": [],
   "source": [
    "qEgGfspec = meas.PulseProbeEgGfSpectroscopyExperiment(\n",
    "    soccfg=soc,\n",
    "    path=expt_path,\n",
    "    prefix=f\"qubit_EgGf_spectroscopy_qubit{qubits[0]}{qubits[1]}\",\n",
    "    config_file=config_path,\n",
    ")\n",
    "\n",
    "span = 40\n",
    "npts = 150\n",
    "\n",
    "qEgGfspec.cfg.expt = dict(\n",
    "    # start=qEgGfspec.cfg.device.qubit.f_ge[1] - span/2, # Eg-Gf probe frequency [MHz]\n",
    "    start=qEgGfspec.cfg.device.qubit.f_EgGf[qubits[0]] - span/2, # Eg-Gf probe frequency [MHz]\n",
    "    # start=1900,\n",
    "    step=span/npts,\n",
    "    expts=npts, # Number of experiments stepping from start\n",
    "    reps=100, # Number of averages per point\n",
    "    rounds=10, # Number of start to finish sweeps to average over\n",
    "    length=2, # Eg-Gf probe constant pulse length [us]\n",
    "    gain=3000, # Eg-Gf const pulse gain\n",
    "    qubits=qubits,\n",
    ")\n",
    "# qEgGfspec.cfg.device.readout.relax_delay = [50]*4\n",
    "# qEgGfspec.cfg.device.readout.relax_delay = [100, 100, 100, 100]\n",
    "# qEgGfspec.cfg.device.readout.length = [5, 5, 5, 5]\n",
    "\n",
    "print(qEgGfspec.cfg)\n",
    "\n",
    "qEgGfspec.go(analyze=False, display=False, progress=True, save=False)"
   ]
  },
  {
   "cell_type": "code",
   "execution_count": null,
   "metadata": {},
   "outputs": [],
   "source": [
    "# # TESTING\n",
    "# qEgGfspec = meas.PulseProbeEgGfSpectroscopyExperiment(config_file=config_path)\n",
    "# temp_data, attrs = prev_data(expt_path, '00002_qubit_EgGf_spectroscopy_qubit01.h5')\n",
    "# data = qEgGfspec.analyze(data=temp_data, fit=True, sign=[[1, -1], [-1, -1]])\n",
    "# qEgGfspec.display(data=data, fit=True)\n",
    "\n",
    "# qEgGfspec.analyze(fit=False)\n",
    "sign = [[1, -1], [-1, 1]] # [iA, qA], [iB, qB]\n",
    "qEgGfspec.analyze(fit=True, sign=sign)\n",
    "qEgGfspec.display(fit=True, sign=sign)"
   ]
  },
  {
   "cell_type": "code",
   "execution_count": null,
   "metadata": {},
   "outputs": [],
   "source": [
    "qEgGfspec.save_data()"
   ]
  },
  {
   "cell_type": "markdown",
   "metadata": {},
   "source": [
    "### Pulse probe EgGF power sweep"
   ]
  },
  {
   "cell_type": "code",
   "execution_count": null,
   "metadata": {
    "scrolled": true
   },
   "outputs": [],
   "source": [
    "sweepspecEgGf = meas.PulseProbeEgGfSweepSpectroscopyExperiment(\n",
    "    soccfg=soc,\n",
    "    path=expt_path,\n",
    "    prefix=f\"pulse_probe_ef_len_sweep_spectroscopy_qubit{qubits[0]}{qubits[1]}\",\n",
    "    config_file=config_path,\n",
    ")\n",
    "\n",
    "span_f = 75\n",
    "npts_f = 150\n",
    "# npts_f = 10\n",
    "\n",
    "span_len = 20\n",
    "npts_len = 10\n",
    "# npts_len = 3\n",
    "\n",
    "sweepspecEgGf.cfg.expt = dict(\n",
    "    start_f=sweepspecEgGf.cfg.device.qubit.f_EgGf[qubits[0]] - span_f/2, # Eg-Gf probe frequency [MHz]\n",
    "    step_f=span_f/npts_f, # min step ~1 Hz\n",
    "    expts_f=npts_f, # Number experiments stepping freq from start\n",
    "    start_len=1,\n",
    "    step_len=int(span_len/npts_len), # len step size\n",
    "    expts_len=npts_len, # Number experiments stepping len from start\n",
    "    reps=500,\n",
    "    rounds=40, # Number averages per point\n",
    "    gain=30000, # ef const pulse length [us]\n",
    "    qubits=qubits,\n",
    ")\n",
    "sweepspecEgGf.cfg.device.readout.relax_delay = [100, 100, 100, 100]\n",
    "sweepspecEgGf.cfg.device.readout.length = [5, 5, 5, 5]\n",
    "sweepspecEgGf.go(analyze=False, display=False, progress=True, save=False)"
   ]
  },
  {
   "cell_type": "code",
   "execution_count": null,
   "metadata": {},
   "outputs": [],
   "source": [
    "# # TESTING\n",
    "# temp_data, attrs = prev_data(expt_path, '00000_voltage_sweep_qubit_spectroscopy_qubit3.h5')\n",
    "# data = rpowspec.analyze(data=temp_data, lowgain=2000, highgain=18000)\n",
    "\n",
    "sweepspecEgGf.analyze()\n",
    "sweepspecEgGf.display()"
   ]
  },
  {
   "cell_type": "code",
   "execution_count": null,
   "metadata": {},
   "outputs": [],
   "source": [
    "3452+3318-4763"
   ]
  },
  {
   "cell_type": "markdown",
   "metadata": {},
   "source": [
    "## [Auto1] Rabi eg-gf chevron (freq vs. amplitude)"
   ]
  },
  {
   "cell_type": "code",
   "execution_count": 91,
   "metadata": {},
   "outputs": [
    {
     "name": "stdout",
     "output_type": "stream",
     "text": [
      "qDrive 3\n",
      "{'device': {'readout': {'trig_offset': 150, 'lo_sideband': [1, 1, 1, 1], 'frequency': [-439.97500000000036, 0.0, 452.3682333333336, -278.89999999999964], 'gain': [0.17, 0.035, 0.25, 0.17], 'kappa_ext': [0.157, 0.065, 0.182, 0.104], 'kerr': [-0.0045, 0, 0.008, -0.003], 't_rise_reset': [0.5, 1, 0.5, 0.5], 'readout_length': [4, 4, 4, 4], 'frequency_ef': [-440.97500000000036, 0.0, 453.3682333333336, -280.35364238410557], 'readout_length_ef': [10.0, 7.0, 4.0, 8.0], 'relax_delay': [450, 450, 450, 450]}, 'qubit': {'f_ge': [4111.097866562327, 4105.838904759637, 4110.958153299016, 4110.546407850519, 3442.8755721075536, 3448.5530242338505, 3447.060317317807, 3446.4929792801067, 4762.761504132457, 4761.823567235975, 4762.909473544484, 4762.369813422167, 4380.698604555338, 4379.604868123916, 4380.717837106693, 4381.248121020163], 'f_ge_robust': [4114.313815659153, 4108.147701523904, 4114.310372455052, 4114.310372455052, 3443.0032303441935, 3448.345849629168, 0, 0, 4763.941, 4763.941, 4763.941, 4763.941, 4384.25034225973, 4384.25034225973, 4384.25034225973, 4384.25034225973], 'f_ef': [3884.6269161242526, 0.0, 0.0, 0.0, 0.0, 3348.085433174199, 0.0, 0.0, 4571.9056482340775, 4570.996526541673, 4573.280687567687, 0.0, 4211.617732525247, 4205.61697813965, 0.0, 4209.925086260656], 'f_EgGf': [2686.53594683, 0, 2017.3, 2414.92850999], 'f_EgGf_Q': [0, 0, 5885.585546008087, 5130.652181460643], 'f_f0g1': [1184.4, 999.8, 1632.9833333333333, 1620.9166666666665], 'gs': [52.40296404695958, 54.81794456602636, 43.49513117058557, 4.930653352423196, 2.6415018214608046, 6.386231497692186], 'pulses': {'pi_ge': {'sigma': [0.02, 0.02, 0.02, 0.02, 0.025, 0.025, 0.025, 0.025, 0.015, 0.015, 0.015, 0.015, 0.025, 0.025, 0.025, 0.025], 'gain': [1849, 1914, 0, 1855, 2834, 2504, 2648, 2631, 9155, 9155, 9155, 9155, 599, 599, 599, 599], 'half_gain': [1856, 1835, 1873, 1867, 2382, 2186, 2248, 2289, 9253, 9253, 9253, 9253, 524, 524, 524, 524], 'half_correction_phase': [0, 0, 0, 0, 0, 0, 0, 0, 0, 0, 0, 0, 0, 0, 0, 0, 0], 'half_gain_pi_sigma': [927, 0, 0, 0, 0, 1315, 0, 0, 0, 0, 7212, 0, 0, 0, 0, 460], 'type': 'gauss'}, 'pi_ef': {'sigma': [0.02, 0.02, 0.02, 0.02, 0.025, 0.025, 0.025, 0.025, 0.015, 0.015, 0.015, 0.015, 0.03, 0.03, 0.03, 0.03], 'gain': [1280, 0, 0, 0, 0, 1912, 0, 0, 10000, 10079, 10015, 0, 300, 300, 0, 300], 'half_gain': [1261, 0, 0, 0, 0, 1941, 0, 0, 0, 10147, 9845, 9979, 340, 340, 0, 320], 'half_gain_pi_sigma': [673, 0, 0, 0, 0, 975, 0, 0, 0, 0, 5049, 0, 340, 0, 0, 337], 'type': 'gauss'}, 'pi_EgGf': {'gain': [32000, 0, 30000, 16000], 'sigma': [0.586, 0, 0.8, 0.44643], 'type': 'flat_top'}, 'pi_EgGf_Q': {'gain': [0, 0, 12147, 26117], 'sigma': [0, 0, 0.44193131519875684, 0.1470793351774547], 'phase': [0, 0, 18.0, 24.0], 'half_sigma': [0, 0, 0.212, 0.172], 'half_phase': [0, 0, 18.0, 21.0], 'type': 'flat_top'}, 'pi_f0g1': {'gain': [32000, 32000, 32000, 32000], 'sigma': [0.536, 0.585, 1.54, 1.04], 'idle': [3, 6, 12, 8], 'type': 'flat_top'}, 'pulse_pp': {'gain': [1750, 3550, 0, 0], 'filename': '240920_3_qram_4q_2qubit_++gg'}, 'pulse_1p': {'gain': [3500, 4375, 0, 0], 'filename': '240920_qram_4q_2qubit_e+gg'}, 'pulse_p1': {'gain': [3000, 5530, 0, 0], 'filename': '240920_qram_4q_2qubit_+egg'}, 'pihalf_ge_robust': {'gain': [7559, 7660, 7559, 7559, 4843, 4462, 4462, 4144, 20111, 20111, 20111, 20111, 2375, 2375, 2375, 2375], 'filename': ['X_2_Q0', 'X_2_Q1', 'X_2_Q2', 'X_2_Q3']}, 'pi_ge_slow': {'gain': [-1, 100, -1, -1], 'sigma': [-1, 0.25, -1, -1], 'type': 'gauss'}, 'pi_Q1_ZZ_slow': {'gain': [100, 0, -1, -1], 'sigma': [0.25, 0, -1, -1], 'type': 'gauss'}}}}, 'hw': {'soc': {'dacs': {'qubit': {'ch': [0, 1, 2, 3], 'type': 'full', 'nyquist': [2, 1, 2, 2], 'mixer_freq': [0, 0, 0, 0]}, 'swap': {'ch': 1, 'type': 'full', 'nyquist': 1, 'mixer_freq': 0}, 'swap_f0g1': {'ch': [1, 1, 5, 5], 'type': ['full', 'full', 'full', 'full'], 'nyquist': 1, 'mixer_freq': 0}, 'swap_Q': {'ch': [0, -1, 2, 3], 'type': ['full', 'None', 'full', 'full'], 'nyquist': [2, 0, 2, 2], 'mixer_freq': 0}, 'readout': {'ch': [6, 4, 6, 6], 'full_mux_chs': [5, 4, 5, 5], 'type': ['mux4', 'full', 'mux4', 'mux4'], 'mixer_freq': [7250, 5795.8115578931565, 7250, 7250], 'nyquist': [2, 2, 2, 2]}, 'res_pump': {'ch': 4, 'type': 'full', 'mixer_freq': 0, 'nyquist': 2}, 'delay_chs': {'ch': [0, 1, 2, 3, 4, 5, 6], 'delay_ns': [4.0, 0.0, 5.0, 3.0, 25, 60, 71]}}, 'adcs': {'readout': {'ch': [0, 1, 2, 3]}}}, 'lo': {'twpa': {'frequency': '8210.0e6', 'power': -1.5}, 'readout': {'frequency': 0, 'power': 0}}}, 'aliases': {'readout_LO': 'SC_20A1', 'twpa_LO': 'SC_26C1', 'soc': 'Qick_QRAM'}, 'expt': {'start_gain': 7000, 'step_gain': 1250, 'expts_gain': 20, 'start_f': 5122, 'step_f': 0.52, 'expts_f': 50, 'reps': 40, 'rounds': 10, 'pi_EgGf_sigma': 0.2, 'pulse_type': 'flat_top', 'setup_ZZ': 0, 'qDrive': 3, 'qubits': [3, 1], 'measure_qubits': [3, 1]}}\n"
     ]
    },
    {
     "data": {
      "application/vnd.jupyter.widget-view+json": {
       "model_id": "27d7a0333cca404980feddecc4d11d01",
       "version_major": 2,
       "version_minor": 0
      },
      "text/plain": [
       "  0%|          | 0/50 [00:00<?, ?it/s]"
      ]
     },
     "metadata": {},
     "output_type": "display_data"
    }
   ],
   "source": [
    "rabiEgGfFreqGainChevron = meas.EgGfFreqGainChevronExperiment(\n",
    "    soccfg=soc,\n",
    "    path=expt_path,\n",
    "    prefix=f\"rabi_EgGf_freqgain_chevron_qubit{qubits[0]}{qubits[1]}\",\n",
    "    config_file=config_path,\n",
    ")\n",
    "\n",
    "span_gain = 25000\n",
    "# span_gain = 7000\n",
    "# npts_gain = 10\n",
    "# span_gain = 0\n",
    "# npts_gain = 25\n",
    "npts_gain = 20\n",
    "\n",
    "span_f = 26 # MHz\n",
    "# npts_f = 5\n",
    "# span_f = 0\n",
    "# npts_f = 100\n",
    "npts_f = 50\n",
    "# npts_f = 15\n",
    "\n",
    "rabiEgGfFreqGainChevron.cfg.expt = dict(\n",
    "    start_gain=7000, # qubit gain [dac level]\n",
    "    # start_gain=18000, # qubit gain [dac level]\n",
    "    step_gain=int(span_gain/npts_gain), # [dac level]\n",
    "    expts_gain=npts_gain,\n",
    "    # start_f=2012 - span_f/2, # start freq [MHz],\n",
    "    # start_f=rabiEgGfFreqGainChevron.cfg.device.qubit.f_EgGf[qubits[0]] - span_f/2, # start freq [MHz],\n",
    "    # start_f=rabiEgGfFreqGainChevron.cfg.device.qubit.f_EgGf_Q[qubits[0]] - span_f/2, # start freq [MHz],\n",
    "    # start_f=rabiEgGfFreqGainChevron.cfg.device.qubit.f_EgGf_Q[qubits[0]] - 5 - span_f/2, # start freq [MHz],\n",
    "    start_f=5122,\n",
    "    step_f=span_f/npts_f, # freq step, \n",
    "    expts_f=npts_f, # number of different freq experiments, \n",
    "    reps=40,\n",
    "    rounds=10,\n",
    "    pi_EgGf_sigma=0.200, # gaussian sigma/const pulse length, overrides config [us]\n",
    "    pulse_type='flat_top',\n",
    "    # pulse_type='const',\n",
    "    setup_ZZ=setup_ZZ,\n",
    "    # setup_ZZ=None,\n",
    "    qDrive=qDrive,\n",
    "    # qDrive=1,\n",
    "    qubits=qubits,\n",
    "    measure_qubits=measure_qubits,\n",
    "\n",
    "    # full_mux_expt=True,\n",
    "    # resonator_reset=[0, 2, 3],\n",
    ")\n",
    "\n",
    "# rabiEgGfFreqGainChevron.cfg.device.readout.readout_length = [15, 15] # [us]\n",
    "# rabiEgGfFreqGainChevron.cfg.device.readout.relax_delay = [600, 50] # Wait time between experiments [us]\n",
    "\n",
    "print('qDrive', qDrive)\n",
    "print(rabiEgGfFreqGainChevron.cfg)\n",
    "\n",
    "rabiEgGfFreqGainChevron.go(analyze=False, display=False, progress=True, save=False)"
   ]
  },
  {
   "cell_type": "code",
   "execution_count": 96,
   "metadata": {},
   "outputs": [
    {
     "name": "stdout",
     "output_type": "stream",
     "text": [
      "Warning: fit failed with error: Optimal parameters not found: The maximum number of function evaluations is exceeded.\n",
      "QA: max at gain 18250 freq 5141.24\n",
      "QB: min at gain 27000 freq 5139.68\n",
      "fit_gain_sweep = [7000, 8250, 9500, 10750, 12000, 13250, 14500, 15750, 17000, 18250, 19500, 20750, 22000, 23250, 24500, 25750, 27000, 28250, 29500, 30750]\n",
      "fit_freqs = [5147.125542274293, 5147.049197312618, 5146.832384247643, 5146.475103079366, 5145.977353807789, 5145.339136432911, 5144.560450954733, 5143.641297373253, 5142.581675688473, 5141.3815859003935, 5140.041028009012, 5138.56000201433, 5136.938507916348, 5135.176545715065, 5133.2741154104815, 5131.231217002597, 5129.047850491412, 5126.724015876926, 5124.25971315914, 5121.654942338053]\n"
     ]
    },
    {
     "name": "stderr",
     "output_type": "stream",
     "text": [
      "UserWarning: Tight layout not applied. tight_layout cannot make axes height small enough to accommodate all axes decorations.\n",
      " C:\\Users\\slab\\AppData\\Local\\Temp\\ipykernel_8888\\3957768405.py: 40"
     ]
    }
   ],
   "source": [
    "# # TESTING\n",
    "# rabiEgGfFreqGainChevron = meas.EgGfFreqGainChevronExperiment(config_file=config_path)\n",
    "# temp_data, attrs = prev_data('s:\\QRAM\\qram_4QR2\\data\\data_240508\\\\00001_rabi_EgGf_freqgain_chevron_qubit31.h5')\n",
    "# rabiEgGfFreqGainChevron.cfg.expt = attrs['config']['expt']\n",
    "# # print(temp_data.keys())\n",
    "# # rabiEgGfFreqGainChevron.display(data=temp_data, saveplot=True) #, plot_freq=2024.5, plot_gain=2125)\n",
    "# data = rabiEgGfFreqGainChevron.analyze(data=temp_data, fit=True)\n",
    "# rabiEgGfFreqGainChevron.display(data=data, fit=True)\n",
    "\n",
    "data = rabiEgGfFreqGainChevron.analyze(data=None, fit=True)\n",
    "rabiEgGfFreqGainChevron.display(fit=True, data=data) #, plot_freq=5883.9, plot_gain=21000)\n",
    "\n",
    "\n",
    "plt.figure()\n",
    "plot_gain = 15000\n",
    "# plot_gain = rabiEgGfFreqGainChevron.cfg.device.qubit.pulses.pi_EgGf_Q.gain[qubits[0]]\n",
    "gain_ind = np.argmin(np.abs(data['gainpts']-plot_gain))\n",
    "# for i in range(len(data['lenpts'])):\n",
    "#     plt.plot(data['freqpts'], data['avgi'][0][:, i])\n",
    "\n",
    "amps_freq_cut_qA = data['amps'][0][:, gain_ind]\n",
    "amps_freq_cut_qB = data['amps'][1][:, gain_ind]\n",
    "\n",
    "p_ampsA = data['fitamps'][0][gain_ind]\n",
    "# print(p_ampsA)\n",
    "fit_amps_freq_cut_qA = meas.fitting.rabifunc(data['freqpts'], *p_ampsA)\n",
    "plt.suptitle(f\"Cut through gain {data['gainpts'][gain_ind]} us\")\n",
    "plt.subplot(211, title=f'QA ({qubits[0]})')\n",
    "plt.plot(data['freqpts'], amps_freq_cut_qA, '.-', label='qA', color=default_colors[0])\n",
    "plt.plot(data['freqpts'], fit_amps_freq_cut_qA, color=default_colors[0])\n",
    "# plt.axvline(freq_max_amp_qA, color=default_colors[0], linestyle='--')\n",
    "plt.ylabel('Amplitude [ADC units]')\n",
    "\n",
    "plt.subplot(212, title=f'QB ({qubits[1]})')\n",
    "plt.plot(data['freqpts'], amps_freq_cut_qB, '.-', label='qB', color=default_colors[1])\n",
    "# plt.plot(data['freqpts'], meas.fitting.quadraticfunc(data['freqpts'], *p_ampsB), color=default_colors[1])\n",
    "# plt.axvline(freq_min_amp_qB, color=default_colors[1], linestyle='--')\n",
    "plt.xlabel('Frequency [MHz]')\n",
    "plt.ylabel('Amplitude [ADC units]')\n",
    "plt.tight_layout()\n",
    "plt.show()\n"
   ]
  },
  {
   "cell_type": "code",
   "execution_count": 246,
   "metadata": {},
   "outputs": [
    {
     "name": "stdout",
     "output_type": "stream",
     "text": [
      "Saving S:\\QRAM\\qram_4QR2\\data\\data_241025\\00002_rabi_EgGf_freqgain_chevron_qubit31.h5\n"
     ]
    },
    {
     "data": {
      "text/plain": [
       "'S:\\\\QRAM\\\\qram_4QR2\\\\data\\\\data_241025\\\\00002_rabi_EgGf_freqgain_chevron_qubit31.h5'"
      ]
     },
     "execution_count": 246,
     "metadata": {},
     "output_type": "execute_result"
    }
   ],
   "source": [
    "rabiEgGfFreqGainChevron.save_data()"
   ]
  },
  {
   "cell_type": "markdown",
   "metadata": {},
   "source": [
    "## Length rabi chevron eg-gf (freq vs. len)"
   ]
  },
  {
   "cell_type": "markdown",
   "metadata": {},
   "source": [
    "1. Once picked a good gain/len/freq, make sure the freq is really dialed in by doing a cut through the length.\n",
    "2. Calibrate simultaneous pulses by doing the same thing while playing the other pulse"
   ]
  },
  {
   "cell_type": "code",
   "execution_count": null,
   "metadata": {},
   "outputs": [],
   "source": [
    "rabiEgGfFreqLenChevron = meas.EgGfFreqLenChevronExperiment(\n",
    "    soccfg=soc,\n",
    "    path=expt_path,\n",
    "    prefix=f\"rabi_EgGf_freqlen_chevron_qubit{qubits[0]}{qubits[1]}\",\n",
    "    config_file=config_path,\n",
    ")\n",
    "\n",
    "# span_f = 10 # MHz\n",
    "span_f = 1.5 # MHz\n",
    "npts_f = 100\n",
    "# npts_f = 25\n",
    "\n",
    "# start_len = 0.0\n",
    "# span_len = 1.5*rabiEgGfFreqLenChevron.cfg.device.qubit.pulses.pi_EgGf_Q.sigma[qubits[0]]\n",
    "# npts_len = 15\n",
    "start_len = rabiEgGfFreqLenChevron.cfg.device.qubit.pulses.pi_EgGf_Q.sigma[qubits[0]]\n",
    "span_len = 0\n",
    "npts_len = 1\n",
    "\n",
    "print(measure_qubits)\n",
    "print(qubits)\n",
    "  \n",
    "rabiEgGfFreqLenChevron.cfg.expt = dict(\n",
    "    # start_f=rabiEgGfFreqLenChevron.cfg.device.qubit.f_EgGf[qubits[0]] - span_f/2 - 20, # start freq [MHz],\n",
    "    start_f=rabiEgGfFreqLenChevron.cfg.device.qubit.f_EgGf_Q[qubits[0]] - 0.5*span_f, # start freq [MHz],\n",
    "    step_f=span_f/npts_f, # freq step, \n",
    "    expts_f=npts_f+1, # number of different freq experiments, \n",
    "    start_len=start_len, # pulse length (sigma) [us]\n",
    "    step_len=span_len/npts_len, # [us]\n",
    "    expts_len=npts_len,\n",
    "    # gain=30000,\n",
    "    # reps=800,\n",
    "    reps=2000,\n",
    "    loops=1,\n",
    "    pulse_type='flat_top',\n",
    "    post_process=None, #'threshold',\n",
    "    # singleshot_reps=10000,\n",
    "    # sigma_ramp_cycles=10,\n",
    "    measure_f=None,\n",
    "    init_state=init_state,\n",
    "    qDrive=qDrive,\n",
    "    qubits=qubits,\n",
    "    measure_qubits=measure_qubits,\n",
    "\n",
    "    # qubits_simulswap=[2, 1],\n",
    "    # qDrive_simul=2,\n",
    ")\n",
    "\n",
    "# rabiEgGfFreqLenChevron.cfg.device.readout.readout_length = [15, 15] # [us]\n",
    "# rabiEgGfFreqLenChevron.cfg.device.readout.relax_delay = [600, 50] # Wait time between experiments [us]\n",
    "\n",
    "print(rabiEgGfFreqLenChevron.cfg)\n",
    "\n",
    "try:\n",
    "    rabiEgGfFreqLenChevron.go(analyze=False, display=False, progress=True, save=False)\n",
    "except Exception:\n",
    "    print(\"Pyro traceback:\")\n",
    "    print(\"\".join(Pyro4.util.getPyroTraceback()))"
   ]
  },
  {
   "cell_type": "code",
   "execution_count": null,
   "metadata": {},
   "outputs": [],
   "source": [
    "data = rabiEgGfFreqLenChevron.analyze(data=None, fit=False)\n",
    "rabiEgGfFreqLenChevron.display(data=data, fit=False, signs=[-1, -1, -1, 1])\n",
    "\n",
    "rabiEgGfFreqLenChevron.data = data\n",
    "\n",
    "# print('Saved', rabiEgGfFreqLenChevron.save_data())\n",
    "\n",
    "plt.figure(figsize=(9, 8))\n",
    "if qubits[0] == 3: sign = 1\n",
    "elif qubits[0] == 2: sign = -1\n",
    "good_ZZ_freq = rabiEgGfFreqLenChevron.cfg.device.qubit.f_EgGf_Q[qubits[0]]\n",
    "# bad_ZZ_freq = rabiEgGfFreqLenChevron.cfg.device.qubit.f_EgGf_Q[qubits[0]]+sign*rabiEgGfFreqLenChevron.cfg.device.qubit.ZZs[1]\n",
    "\n",
    "plot_len = rabiEgGfFreqLenChevron.cfg.device.qubit.pulses.pi_EgGf_Q.sigma[qubits[0]]\n",
    "# plot_len = rabiEgGfFreqLenChevron.cfg.device.qubit.pulses.pi_EgGf.sigma[qubits[0]]\n",
    "len_ind = np.argmin(np.abs(data['lenpts']-plot_len))\n",
    "# for i in range(len(data['lenpts'])):\n",
    "#     plt.plot(data['freqpts'], data['avgi'][0][:, i])\n",
    "\n",
    "amps_freq_cut_qA = data['amps'][0][:, len_ind]\n",
    "amps_freq_cut_qB = data['amps'][1][:, len_ind]\n",
    "p_ampsA, pCov_ampsA = meas.fitting.fitquadratic(data['freqpts'], amps_freq_cut_qA)\n",
    "p_ampsB, pCov_ampsB = meas.fitting.fitquadratic(data['freqpts'], amps_freq_cut_qB)\n",
    "fit_amps_freq_cut_qA = meas.fitting.quadraticfunc(data['freqpts'], *p_ampsA)\n",
    "fit_amps_freq_cut_qB = meas.fitting.quadraticfunc(data['freqpts'], *p_ampsB)\n",
    "freq_max_amp_qA = data['freqpts'][np.argmax(fit_amps_freq_cut_qA)]\n",
    "freq_min_amp_qB = data['freqpts'][np.argmin(fit_amps_freq_cut_qB)]\n",
    "print('QA freq with max amp', freq_max_amp_qA)\n",
    "print('QB freq with min amp', freq_min_amp_qB)\n",
    "plt.suptitle(f\"Cut through length {data['lenpts'][len_ind]:.3} us\")\n",
    "plt.subplot(211, title=f'QA ({qubits[0]})')\n",
    "plt.plot(data['freqpts'], amps_freq_cut_qA, '.-', label='qA', color=default_colors[0])\n",
    "plt.plot(data['freqpts'], fit_amps_freq_cut_qA, color=default_colors[0])\n",
    "plt.axvline(freq_max_amp_qA, color=default_colors[0], linestyle='--')\n",
    "plt.ylabel('Amplitude [ADC units]')\n",
    "\n",
    "plt.subplot(212, title=f'QB ({qubits[1]})')\n",
    "plt.plot(data['freqpts'], amps_freq_cut_qB, '.-', label='qB', color=default_colors[1])\n",
    "plt.plot(data['freqpts'], meas.fitting.quadraticfunc(data['freqpts'], *p_ampsB), color=default_colors[1])\n",
    "plt.axvline(freq_min_amp_qB, color=default_colors[1], linestyle='--')\n",
    "# plt.axvline(5890.45, color='r', linestyle='--')\n",
    "# plt.axvline(bad_ZZ_freq, color='r', linestyle='--')\n",
    "plt.xlabel('Frequency [MHz]')\n",
    "plt.ylabel('Amplitude [ADC units]')\n",
    "plt.tight_layout()\n",
    "plt.show()\n",
    "\n",
    "fig, ax = plt.subplots(1, 1, figsize=(6, 6))\n",
    "\n",
    "ax.plot(data['freqpts'], amps_freq_cut_qA+amps_freq_cut_qB, '.-', label='qA+qB', color=default_colors[0])\n"
   ]
  },
  {
   "cell_type": "code",
   "execution_count": null,
   "metadata": {},
   "outputs": [],
   "source": [
    "filename = 's:\\Connie\\experiments\\qramLL_4QR2\\data\\data_240218\\\\00123_rabi_EgGf_freqlen_chevron_qubit21.h5'\n",
    "# filename = 's:\\Connie\\experiments\\qramLL_4QR2\\data\\data_240218\\\\00025_rabi_EgGf_freqlen_chevron_qubit31.h5'\n",
    "\n",
    "rabiEgGfFreqLenChevron = meas.EgGfFreqLenChevronExperiment(\n",
    "    soccfg=None,\n",
    "    path=expt_path,\n",
    "    prefix=f\"rabi_EgGf_freqlen_chevron_qubit{qubits[0]}{qubits[1]}\",\n",
    "    config_file=config_path,\n",
    ")\n",
    "temp_data, attrs = prev_data(filename, None)\n",
    "data = temp_data\n",
    "data = deepcopy(data)\n",
    "\n",
    "# # print(temp_data['amps'].shape)\n",
    "# # print(data['amps'].shape)\n",
    "# for fit_axis in ['amps', 'avgi', 'avgq']:\n",
    "#     data[fit_axis] = np.concatenate((temp_data[fit_axis], data[fit_axis]), axis=1)\n",
    "# data['freqpts'] = np.concatenate((temp_data['freqpts'], data['freqpts']), axis=None)\n",
    "\n",
    "# print(data['freqpts'])\n",
    "# rabiEgGfFreqLenChevron.display(data=data, fit=False, signs=[-1, 1, -1, 1])\n",
    "\n",
    "rabiEgGfFreqLenChevron.data = data\n",
    "rabiEgGfFreqLenChevron.cfg = AttrDict(attrs['config'])\n",
    "qubits = rabiEgGfFreqLenChevron.cfg.expt.qubits\n",
    "if qubits[0] == 3: sign = 1\n",
    "elif qubits[0] == 2: sign = -1\n",
    "good_ZZ_freq = rabiEgGfFreqLenChevron.cfg.device.qubit.f_EgGf_Q[qubits[0]]\n",
    "bad_ZZ_freq = rabiEgGfFreqLenChevron.cfg.device.qubit.f_EgGf_Q[qubits[0]]+sign*rabiEgGfFreqLenChevron.cfg.device.qubit.ZZs[1]\n",
    "\n",
    "plt.style.use('dark_background')\n",
    "\n",
    "rows = 2\n",
    "cols = 1\n",
    "index = rows*100 + cols*10\n",
    "fig, axs = plt.subplots(rows, cols, figsize=(9*cols, 7), gridspec_kw={'height_ratios': [1, 1]}, sharex='col')\n",
    "ax1, ax2 = axs\n",
    "plt.suptitle(\"$|eg\\\\rangle-|gf\\\\rangle$\"+ f\" Frequency vs. Length (Q{qubits[0]}/Q{qubits[1]})\")\n",
    "\n",
    "plt.sca(ax1)\n",
    "data['amps'][0] = (data['amps'][0] - min(data['amps'][0])) / (max(data['amps'][0]) - min(data['amps'][0]))\n",
    "rabiEgGfFreqLenChevron.plot_rabi_chevron(data, 'amps', plot_xpts=1000*data['lenpts'], plot_ypts=data['freqpts'], plot_rabi=False, q_index=0, show_cbar=False)\n",
    "# plt.axhline(bad_ZZ_freq, color='r', linestyle='--')\n",
    "# print(((data['freqpts'][-1] - data['freqpts'][0])//4))\n",
    "# yticks = int(np.average(data['freqpts'])) + (data['freqpts'][-1] - data['freqpts'][0])//3*np.arange(-1, 2) \n",
    "yticks = [round(good_ZZ_freq), round(bad_ZZ_freq)] \n",
    "plt.yticks(ticks=yticks, fontsize=24)\n",
    "plt.ylabel('Frequency\\n(MHz)', fontsize=24)\n",
    "divider = make_axes_locatable(ax1)\n",
    "cax = divider.append_axes(\"right\", size=\"5%\", pad=0.05)\n",
    "cbar = plt.colorbar(cax=cax, ticks=[0, 0.5, 1])\n",
    "cbar.ax.tick_params(labelsize=16)\n",
    "cbar.set_label(f'Population (Scaled)', size='large')\n",
    "# cbar.ax.set_title(f'Q{qubits[0]}')\n",
    "\n",
    "plt.sca(ax2)\n",
    "# data['amps'][1] = (data['amps'][1] - min(data['amps'][1])) / (max(data['amps'][1]) - min(data['amps'][1]))\n",
    "data['amps'][1] = (data['amps'][1] - max(data['amps'][1])) / (min(data['amps'][1]) - max(data['amps'][1]))\n",
    "rabiEgGfFreqLenChevron.plot_rabi_chevron(data, 'amps', plot_xpts=1000*data['lenpts'], plot_ypts=data['freqpts'], plot_rabi=False, q_index=1, show_cbar=False)\n",
    "# plt.axhline(bad_ZZ_freq, color='r', linestyle='--')\n",
    "# yticks = int(np.average(data['freqpts'])) + (data['freqpts'][-1] - data['freqpts'][0])//3*np.arange(-1, 2) \n",
    "yticks = [round(good_ZZ_freq), round(bad_ZZ_freq)] \n",
    "plt.ylabel('Frequency\\n(MHz)', fontsize=24)\n",
    "plt.xlabel('Length (ns)', fontsize=24)\n",
    "plt.yticks(ticks=yticks, fontsize=24)\n",
    "plt.xticks(fontsize=24)\n",
    "divider = make_axes_locatable(ax2)\n",
    "cax = divider.append_axes(\"right\", size=\"5%\", pad=0.05)\n",
    "cbar = plt.colorbar(cax=cax, ticks=[0, 0.5, 1])\n",
    "cbar.ax.tick_params(labelsize=16)\n",
    "cbar.set_label(f'Population (Scaled)', size='large')\n",
    "# cbar.ax.set_title(f'Q{qubits[1]}')\n",
    "\n",
    "plt.subplots_adjust(hspace=0.07)\n",
    "# plt.tight_layout()\n",
    "\n",
    "plot_filename = filename[:-3]+'.svg'\n",
    "plt.savefig(plot_filename, format='svg', bbox_inches='tight', transparent=True)\n",
    "print('Saved', plot_filename)\n",
    "\n",
    "plt.show()\n",
    "\n",
    "\n",
    "\n",
    "\n",
    "# # filename = 's:\\Connie\\experiments\\qramLL_4QR2\\data\\data_240218\\\\00122_rabi_EgGf_freqlen_chevron_qubit21.h5'\n",
    "# # temp_data, attrs = prev_data(filename, None)\n",
    "# # data = temp_data\n",
    "# # data = deepcopy(data)\n",
    "\n",
    "# # # print(temp_data['amps'].shape)\n",
    "# # # print(data['amps'].shape)\n",
    "# # for fit_axis in ['amps', 'avgi', 'avgq']:\n",
    "# #     data[fit_axis] = np.concatenate((temp_data[fit_axis], data[fit_axis]), axis=1)\n",
    "# # data['freqpts'] = np.concatenate((temp_data['freqpts'], data['freqpts']), axis=None)\n",
    "\n",
    "# # print(data['freqpts'])\n",
    "# # rabiEgGfFreqLenChevron.display(data=data, fit=False, signs=[-1, 1, -1, 1])\n",
    "\n",
    "# rabiEgGfFreqLenChevron.data = data\n",
    "# rabiEgGfFreqLenChevron.cfg = AttrDict(attrs['config'])\n",
    "# qubits = rabiEgGfFreqLenChevron.cfg.expt.qubits\n",
    "# if qubits[0] == 3: sign = 1\n",
    "# elif qubits[0] == 2: sign = -1\n",
    "# good_ZZ_freq = rabiEgGfFreqLenChevron.cfg.device.qubit.f_EgGf_Q[qubits[0]]\n",
    "# bad_ZZ_freq = rabiEgGfFreqLenChevron.cfg.device.qubit.f_EgGf_Q[qubits[0]]+sign*rabiEgGfFreqLenChevron.cfg.device.qubit.ZZs[1]\n",
    "\n",
    "# plot_len = rabiEgGfFreqLenChevron.cfg.device.qubit.pulses.pi_EgGf_Q.sigma[qubits[0]]\n",
    "# len_ind = np.argmin(np.abs(data['lenpts']-plot_len))\n",
    "\n",
    "\n",
    "# fig, axs = plt.subplots(rows, cols, figsize=(6*cols, 7), gridspec_kw={'height_ratios': [1, 1]}, sharex='col')\n",
    "# ax1, ax2 = axs\n",
    "# plt.suptitle(f\"Q{qubits[0]} Cut Through Length {data['lenpts'][len_ind]:.3} ns\")\n",
    "\n",
    "# plt.sca(ax1)\n",
    "# data['amps'][0] = (data['amps'][0] - min(data['amps'][0])) / (max(data['amps'][0]) - min(data['amps'][0]))\n",
    "# plt.plot(data['freqpts'], data['amps'][0][:, len_ind], '.-')\n",
    "# # plt.axvline(bad_ZZ_freq, color='r', linestyle='--')\n",
    "# plt.ylabel('Population\\n(Scaled)', fontsize=24)\n",
    "# plt.yticks(ticks=[0, 0.5, 1.0], fontsize=24)\n",
    "\n",
    "# plt.sca(ax2)\n",
    "# data['amps'][1] = (data['amps'][1] - min(data['amps'][1])) / (max(data['amps'][1]) - min(data['amps'][1]))\n",
    "# plt.plot(data['freqpts'], data['amps'][1][:, len_ind], '.-')\n",
    "# # plt.axvline(bad_ZZ_freq, color='r', linestyle='--')\n",
    "# plt.ylabel('Population\\n(Scaled)', fontsize=24)\n",
    "# plt.xlabel('Frequency (MHz)', fontsize=24)\n",
    "# plt.yticks(ticks=[0, 0.5, 1.0], fontsize=24)\n",
    "# # xticks = int(np.average(data['freqpts'])) + (data['freqpts'][-1] - data['freqpts'][0])//3*np.arange(-1, 2) \n",
    "# xticks = [round(good_ZZ_freq), round(bad_ZZ_freq)] \n",
    "# plt.xticks(ticks=xticks, fontsize=24)\n",
    "\n",
    "# plt.subplots_adjust(hspace=0.07)\n",
    "\n",
    "# plot_filename = filename[:-3]+f'_cut.svg'\n",
    "# plt.savefig(plot_filename, format='svg', bbox_inches='tight', transparent=True)\n",
    "# print('Saved', plot_filename)\n",
    "\n",
    "# plt.show()"
   ]
  },
  {
   "cell_type": "markdown",
   "metadata": {},
   "source": [
    "## Length Rabi eg-gf single sweep"
   ]
  },
  {
   "cell_type": "code",
   "execution_count": 16,
   "metadata": {},
   "outputs": [
    {
     "name": "stdout",
     "output_type": "stream",
     "text": [
      "{'device': {'readout': {'trig_offset': 150, 'lo_sideband': [1, 1, 1, 1], 'frequency': [-389.9452717544333, 5795.711666663333, 502.368233333334, -228.85410723], 'gain': [0.3, 0.3, 0.85, 0.85], 'readout_length': [15.0, 10.0, 5.0, 15.0], 'frequency_ef': [-391.80446161500305, 5794.287237348879, 500.35983051204073, -230.41370987900663], 'readout_length_ef': [10.0, 7.0, 4.0, 8.0], 'relax_delay': [450, 450, 450, 450]}, 'qubit': {'f_ge': [4111.097866562327, 4105.838904759637, 4110.958153299016, 4110.546407850519, 3442.8755721075536, 3448.1402562265434, 3447.060317317807, 3446.4929792801067, 4762.761504132457, 4761.823567235975, 4762.909473544484, 4762.369813422167, 4380.698604555338, 4379.604868123916, 4380.717837106693, 4381.248121020163], 'f_ge_robust': [4111.097866562327, 4105.838904759637, 4110.958153299016, 4110.546407850519, 3442.8755721075536, 3448.1402562265434, 3447.060317317807, 3446.4929792801067, 4762.761504132457, 4761.823567235975, 4762.909473544484, 4762.369813422167, 4380.698604555338, 4379.604868123916, 4380.717837106693, 4381.248121020163], 'f_ge_half_robust': [4111.097866562327, 4105.838904759637, 4110.958153299016, 4110.546407850519, 3442.8755721075536, 3448.1402562265434, 3447.060317317807, 3446.4929792801067, 4762.761504132457, 4761.823567235975, 4762.909473544484, 4762.369813422167, 4380.698604555338, 4379.604868123916, 4380.717837106693, 4381.248121020163], 'f_ef': [3884.6269161242526, 0.0, 0.0, 0.0, 0.0, 3348.085433174199, 0.0, 0.0, 4571.9056482340775, 4570.996526541673, 4573.058329968845, 0.0, 4209.8719428597715, 4205.61697813965, 0.0, 4208.990881064611], 'f_EgGf': [2686.53594683, 0, 2017.3, 2414.92850999], 'f_EgGf_Q': [0, 0, 5885.901151259104, 5145.713528156371], 'f_f0g1': [1184.4, 999.8, 1632.9833333333333, 1620.9166666666665], 'gs': [52.40296404695958, 54.81794456602636, 43.49513117058557, 4.930653352423196, 2.6415018214608046, 6.386231497692186], 'pulses': {'pi_ge': {'sigma': [0.02, 0.02, 0.02, 0.02, 0.025, 0.025, 0.025, 0.025, 0.015, 0.015, 0.015, 0.015, 0.025, 0.025, 0.025, 0.025], 'gain': [1849, 1914, 0, 1855, 2834, 2504, 2648, 2631, 14489, 14572, 14736, 14639, 963, 959, 974, 935], 'half_gain': [1856, 1835, 1873, 1867, 2382, 2242, 2248, 2289, 14616, 14662, 14508, 14535, 819, 819, 816, 819], 'half_correction_phase': [0, 0, 0, 0, 0, 0, 0, 0, 0, 0, 0, 0, 0, 0, 0, 0, 0], 'half_gain_pi_sigma': [927, 0, 0, 0, 0, 1315, 0, 0, 0, 0, 7212, 0, 0, 0, 0, 460], 'type': 'gauss'}, 'pi_ef': {'sigma': [0.02, 0.02, 0.02, 0.02, 0.025, 0.025, 0.025, 0.025, 0.015, 0.015, 0.015, 0.015, 0.03, 0.03, 0.03, 0.03], 'gain': [1280, 0, 0, 0, 0, 1912, 0, 0, 10000, 10079, 10015, 0, 734, 718, 0, 523], 'half_gain': [1261, 0, 0, 0, 0, 1941, 0, 0, 0, 10147, 9921, 9979, 535, 528, 0, 518], 'half_gain_pi_sigma': [673, 0, 0, 0, 0, 975, 0, 0, 0, 0, 5049, 0, 350, 0, 0, 337], 'type': 'gauss'}, 'pi_EgGf': {'gain': [32000, 0, 30000, 16000], 'sigma': [0.586, 0, 0.8, 0.44643], 'type': 'flat_top'}, 'pi_EgGf_Q': {'gain': [0, 0, 19500, 15088], 'sigma': [0, 0, 0.4524085976144402, 0.3229981046477775], 'phase': [0, 0, 18.0, 24.0], 'half_sigma': [0, 0, 0.212, 0.172], 'half_phase': [0, 0, 18.0, 21.0], 'type': 'flat_top'}, 'pi_f0g1': {'gain': [32000, 32000, 32000, 32000], 'sigma': [0.536, 0.585, 1.54, 1.04], 'idle': [3, 6, 12, 8], 'type': 'flat_top'}, 'pulse_pp': {'gain': [1750, 3550, 0, 0], 'filename': '240920_3_qram_4q_2qubit_++gg'}, 'pulse_1p': {'gain': [3500, 4375, 0, 0], 'filename': '240920_qram_4q_2qubit_e+gg'}, 'pulse_p1': {'gain': [3000, 5530, 0, 0], 'filename': '240920_qram_4q_2qubit_+egg'}, 'pihalf_ge_robust': {'gain_q0': [0, 0, 0, 0], 'gain_q1': [0, 0, 0, 0], 'gain_q2': [0, 0, 0, 0], 'gain_q3': [0, 0, 0, 0], 'filename': ['X_2_Q0', 'X_2_Q1', 'X_2_Q2', 'X_2_Q3']}, 'pi_ge_slow': {'gain': [-1, 100, -1, -1], 'sigma': [-1, 0.25, -1, -1], 'type': 'gauss'}, 'pi_Q1_ZZ_slow': {'gain': [100, 0, -1, -1], 'sigma': [0.25, 0, -1, -1], 'type': 'gauss'}}}}, 'hw': {'soc': {'dacs': {'qubit': {'ch': [0, 1, 2, 3], 'type': 'full', 'nyquist': [2, 1, 2, 2], 'mixer_freq': [0, 0, 0, 0]}, 'swap': {'ch': 1, 'type': 'full', 'nyquist': 1, 'mixer_freq': 0}, 'swap_f0g1': {'ch': [1, 1, 5, 5], 'type': ['full', 'full', 'full', 'full'], 'nyquist': 1, 'mixer_freq': 0}, 'swap_Q': {'ch': [0, -1, 2, 3], 'type': ['full', 'None', 'full', 'full'], 'nyquist': [2, 0, 2, 2], 'mixer_freq': 0}, 'readout': {'ch': [6, 4, 6, 6], 'type': ['mux4', 'full', 'mux4', 'mux4'], 'mixer_freq': [7200, 0, 7200, 7200], 'nyquist': [2, 2, 2, 2]}, 'res_pump': {'ch': 4, 'type': 'full', 'mixer_freq': 0, 'nyquist': 2}, 'delay_chs': {'ch': [0, 1, 2, 3, 4, 5, 6], 'delay_ns': [8.7, 8.5, 0, 7.6, 24, 20, 104.5]}}, 'adcs': {'readout': {'ch': [0, 1, 2, 3]}}}, 'lo': {'twpa': {'frequency': '8240.0e6', 'power': -0.65}, 'readout': {'frequency': 0, 'power': 0}}}, 'aliases': {'readout_LO': 'SC_20A1', 'twpa_LO': 'SC_26C1', 'soc': 'Qick_QRAM'}, 'expt': {'start': 0, 'step': 0.018096343904577608, 'expts': 51, 'reps': 4000, 'loops': 5, 'pulse_type': 'flat_top', 'post_process': None, 'measure_f': None, 'init_state': '|0>|1>', 'qDrive': 2, 'qubits': [2, 1], 'measure_qubits': [2, 1], 'test_pi_half': False, 'readout_cool': False}}\n"
     ]
    },
    {
     "data": {
      "application/vnd.jupyter.widget-view+json": {
       "model_id": "38b222600bfa45838921e2e89fda4d4f",
       "version_major": 2,
       "version_minor": 0
      },
      "text/plain": [
       "  0%|          | 0/5 [00:00<?, ?it/s]"
      ]
     },
     "metadata": {},
     "output_type": "display_data"
    },
    {
     "data": {
      "application/vnd.jupyter.widget-view+json": {
       "model_id": "a0e9b177f7fd4a5aac504500044429f8",
       "version_major": 2,
       "version_minor": 0
      },
      "text/plain": [
       "  0%|          | 0/51 [00:00<?, ?it/s]"
      ]
     },
     "metadata": {},
     "output_type": "display_data"
    },
    {
     "data": {
      "application/vnd.jupyter.widget-view+json": {
       "model_id": "0ba4fb64745f4a0bac020e63cee05ffe",
       "version_major": 2,
       "version_minor": 0
      },
      "text/plain": [
       "  0%|          | 0/51 [00:00<?, ?it/s]"
      ]
     },
     "metadata": {},
     "output_type": "display_data"
    },
    {
     "data": {
      "application/vnd.jupyter.widget-view+json": {
       "model_id": "5c540bf094f14d9f9163157683486e94",
       "version_major": 2,
       "version_minor": 0
      },
      "text/plain": [
       "  0%|          | 0/51 [00:00<?, ?it/s]"
      ]
     },
     "metadata": {},
     "output_type": "display_data"
    },
    {
     "data": {
      "application/vnd.jupyter.widget-view+json": {
       "model_id": "8060b8cbf6cd49e0ab2c7229e7e8cd1b",
       "version_major": 2,
       "version_minor": 0
      },
      "text/plain": [
       "  0%|          | 0/51 [00:00<?, ?it/s]"
      ]
     },
     "metadata": {},
     "output_type": "display_data"
    },
    {
     "data": {
      "application/vnd.jupyter.widget-view+json": {
       "model_id": "2ded9388e00b481aa934889b8a097d77",
       "version_major": 2,
       "version_minor": 0
      },
      "text/plain": [
       "  0%|          | 0/51 [00:00<?, ?it/s]"
      ]
     },
     "metadata": {},
     "output_type": "display_data"
    }
   ],
   "source": [
    "lengthrabiEgGf = meas.LengthRabiEgGfExperiment(\n",
    "    soccfg=soc,\n",
    "    path=expt_path,\n",
    "    prefix=f\"length_rabi_EgGf_qubit{qubits[0]}{qubits[1]}\",\n",
    "    config_file=config_path,\n",
    ")\n",
    "\n",
    "# start_len = lengthrabiEgGf.cfg.device.qubit.pulses.pi_EgGf_Q.sigma[qDrive]\n",
    "# span_len = 0\n",
    "# npts_len = 10\n",
    "\n",
    "start_len = 0\n",
    "# span_len = 3.75*lengthrabiEgGf.cfg.device.qubit.pulses.pi_EgGf_Q.sigma[qDrive]\n",
    "span_len = 2*lengthrabiEgGf.cfg.device.qubit.pulses.pi_EgGf_Q.sigma[qDrive]\n",
    "# npts_len = 15\n",
    "# start_len = 0.999*lengthrabiEgGf.cfg.device.qubit.pulses.pi_EgGf_Q.sigma[qDrive]\n",
    "# span_len = 0.001*lengthrabiEgGf.cfg.device.qubit.pulses.pi_EgGf_Q.sigma[qDrive]\n",
    "npts_len = 50\n",
    "\n",
    "\n",
    "lengthrabiEgGf.cfg.expt = dict(\n",
    "    start=start_len, # pulse length (sigma) [us]\n",
    "    # step=0,\n",
    "    # expts=1,\n",
    "    step=span_len/npts_len, # [us]\n",
    "    expts=npts_len+1,\n",
    "    # reps=15000,\n",
    "    # reps_f=25000,\n",
    "    reps=4000,\n",
    "    # reps_f=1000,\n",
    "    loops=5,\n",
    "    pulse_type='flat_top',\n",
    "    post_process=None,\n",
    "    # post_process=None,\n",
    "  \n",
    "    # singleshot_reps=40000,\n",
    "    # singleshot_reps=1000,\n",
    "    measure_f=None,\n",
    "    # measure_f=[qDrive],\n",
    "    init_state=init_state,\n",
    "    # init_state=wrong_init_state,\n",
    "    qDrive=qDrive,\n",
    "    qubits=qubits,\n",
    "    measure_qubits=measure_qubits,\n",
    "\n",
    "    test_pi_half=False,\n",
    "    readout_cool=False,\n",
    ")\n",
    "\n",
    "# lengthrabiEgGf.cfg.device.readout.readout_length = [10,5] # [us]\n",
    "print(lengthrabiEgGf.cfg)\n",
    "# lengthrabiEgGf.im[lengthrabiEgGf.cfg.aliases.soc].reset()\n",
    "try:\n",
    "    lengthrabiEgGf.acquire(progress=True, debug=False)\n",
    "except Exception:\n",
    "    print(\"Pyro traceback:\")\n",
    "    print(\"\".join(Pyro4.util.getPyroTraceback()))"
   ]
  },
  {
   "cell_type": "code",
   "execution_count": 17,
   "metadata": {},
   "outputs": [
    {
     "name": "stdout",
     "output_type": "stream",
     "text": [
      "Saving S:\\QRAM\\qram_4QR2\\data\\data_241025\\00038_length_rabi_EgGf_qubit21.h5\n"
     ]
    },
    {
     "data": {
      "text/plain": [
       "'S:\\\\QRAM\\\\qram_4QR2\\\\data\\\\data_241025\\\\00038_length_rabi_EgGf_qubit21.h5'"
      ]
     },
     "execution_count": 17,
     "metadata": {},
     "output_type": "execute_result"
    }
   ],
   "source": [
    "lengthrabiEgGf.save_data()"
   ]
  },
  {
   "cell_type": "code",
   "execution_count": 18,
   "metadata": {},
   "outputs": [
    {
     "name": "stdout",
     "output_type": "stream",
     "text": [
      "max QA amp: 2497.3601865907235\n",
      "min QA amp: 1473.1046422472596\n",
      "max QB amp: 662.2861424676338\n",
      "min QB amp: 440.8415926730564\n"
     ]
    },
    {
     "data": {
      "text/plain": [
       "[None, None, None, None]"
      ]
     },
     "execution_count": 18,
     "metadata": {},
     "output_type": "execute_result"
    }
   ],
   "source": [
    "# # TESTING\n",
    "# lengthrabiEgGf = meas.LengthRabiEgGfExperiment(config_file=config_path)\n",
    "# temp_data, attrs = prev_data(expt_path, '00000_length_rabi_qubit01.h5')\n",
    "# data = lengthrabiEgGf.analyze(data=temp_data, fit=True)\n",
    "# lengthrabiEgGf.display(data=data, fit=False)\n",
    "\n",
    "lengthrabiEgGf.analyze(fit=True, post_select_calib=False, post_select_experiment=False, separate_correction=False, ps_qubits=[0, 1, 2], verbose=False)\n",
    "\n",
    "# plt.figure()\n",
    "# print(lengthrabiEgGf.cfg.expt.measure_qubits)\n",
    "# plt.plot(lengthrabiEgGf.data['xpts'], lengthrabiEgGf.data['amps'][0], label='q1')\n",
    "# plt.plot(lengthrabiEgGf.data['xpts'], lengthrabiEgGf.data['amps'][1], label='q2')\n",
    "# plt.ylabel('rotated amplitude')\n",
    "# plt.legend()\n",
    "# plt.show()\n",
    "\n",
    "# plt.figure()\n",
    "# # 00, 01, 10, 11\n",
    "# plt.plot(lengthrabiEgGf.data['xpts'], np.average(lengthrabiEgGf.data['counts_raw'][0, :, :, 2], axis=0) + np.average(lengthrabiEgGf.data['counts_raw'][0, :, :, 3], axis=0), label='q1 e counts')\n",
    "# plt.plot(lengthrabiEgGf.data['xpts'], np.average(lengthrabiEgGf.data['counts_raw'][0, :, :, 1], axis=0) + np.average(lengthrabiEgGf.data['counts_raw'][0, :, :, 3], axis=0), label='q2 e counts')\n",
    "# plt.plot(lengthrabiEgGf.data['xpts'], np.average(lengthrabiEgGf.data['counts_raw'][0, :, :, 0], axis=0) + np.average(lengthrabiEgGf.data['counts_raw'][0, :, :, 2], axis=0), label='q2 g counts')\n",
    "# plt.ylabel('counts measurement 0')\n",
    "# plt.legend()\n",
    "# plt.show()\n",
    "\n",
    "# plt.figure()\n",
    "# # 00, 02, 10, 12\n",
    "# plt.plot(lengthrabiEgGf.data['xpts'], np.average(lengthrabiEgGf.data['counts_raw'][1, :, :, 2], axis=0) + np.average(lengthrabiEgGf.data['counts_raw'][1, :, :, 3], axis=0), label='q1 e counts')\n",
    "# plt.plot(lengthrabiEgGf.data['xpts'], np.average(lengthrabiEgGf.data['counts_raw'][1, :, :, 1], axis=0) + np.average(lengthrabiEgGf.data['counts_raw'][1, :, :, 3], axis=0), label='q2 f counts')\n",
    "# plt.plot(lengthrabiEgGf.data['xpts'], np.average(lengthrabiEgGf.data['counts_raw'][1, :, :, 0], axis=0) + np.average(lengthrabiEgGf.data['counts_raw'][1, :, :, 2], axis=0), label='q2 g counts')\n",
    "# plt.plot(lengthrabiEgGf.data['xpts'], np.average(lengthrabiEgGf.data['counts_raw'][1, :, :, 1], axis=0), label='gf counts')\n",
    "# plt.ylabel('counts measurement 1')\n",
    "# plt.legend()\n",
    "# plt.show()\n",
    "\n",
    "lengthrabiEgGf.display(fit=False)\n",
    "\n",
    "# print(lengthrabiEgGf.data['counts_calib'])"
   ]
  },
  {
   "cell_type": "markdown",
   "metadata": {},
   "source": [
    "### Length rabi with post selection"
   ]
  },
  {
   "cell_type": "code",
   "execution_count": 340,
   "metadata": {},
   "outputs": [
    {
     "name": "stdout",
     "output_type": "stream",
     "text": [
      "{'device': {'readout': {'trig_offset': 150, 'lo_sideband': [1, 1, 1, 1], 'frequency': [-439.97500000000036, 0.0, 452.3682333333336, -278.89999999999964], 'gain': [0.17, 0.0001, 0.25, 0.17], 'kappa_ext': [0.157, 0.065, 0.182, 0.104], 'kerr': [-0.0045, 0, 0.008, -0.003], 't_rise_reset': [0.5, 1, 0.5, 0.5], 'readout_length': [4, 4, 4, 4], 'frequency_ef': [-440.97500000000036, 0.0, 453.3682333333336, -280.35364238410557], 'readout_length_ef': [10.0, 7.0, 4.0, 8.0], 'relax_delay': [450, 450, 450, 450]}, 'qubit': {'f_ge': [4111.097866562327, 4105.838904759637, 4110.958153299016, 4110.546407850519, 3442.8755721075536, 3448.5530242338505, 3447.060317317807, 3446.4929792801067, 4762.761504132457, 4761.823567235975, 4762.909473544484, 4762.369813422167, 4380.698604555338, 4379.604868123916, 4380.717837106693, 4381.248121020163], 'f_ge_robust': [4114.313815659153, 4108.147701523904, 4114.310372455052, 4114.310372455052, 3450.0540893078382, 3448.3222547596297, 3450.0540893078382, 3450.0540893078382, 4763.941, 4763.941, 4763.941, 4763.941, 4384.25034225973, 4384.25034225973, 4384.25034225973, 4384.25034225973], 'f_ef': [3884.6269161242526, 0.0, 0.0, 0.0, 0.0, 3348.085433174199, 0.0, 0.0, 4571.9056482340775, 4570.996526541673, 4573.280687567687, 0.0, 4211.617732525247, 4205.61697813965, 0.0, 4209.925086260656], 'f_EgGf': [2686.53594683, 0, 2017.3, 2414.92850999], 'f_EgGf_Q': [0, 0, 5885.585546008087, 5131.757175800325], 'f_f0g1': [1184.4, 999.8, 1632.9833333333333, 1620.9166666666665], 'gs': [52.40296404695958, 54.81794456602636, 43.49513117058557, 4.930653352423196, 2.6415018214608046, 6.386231497692186], 'pulses': {'pi_ge': {'sigma': [0.02, 0.02, 0.02, 0.02, 0.025, 0.025, 0.025, 0.025, 0.015, 0.015, 0.015, 0.015, 0.025, 0.025, 0.025, 0.025], 'gain': [1849, 1914, 0, 1855, 2834, 2504, 2648, 2631, 9155, 9155, 9155, 9155, 599, 599, 599, 599], 'half_gain': [1856, 1835, 1873, 1867, 2382, 2186, 2248, 2289, 9253, 9253, 9253, 9253, 524, 524, 524, 524], 'half_correction_phase': [0, 0, 0, 0, 0, 0, 0, 0, 0, 0, 0, 0, 0, 0, 0, 0, 0], 'half_gain_pi_sigma': [927, 0, 0, 0, 0, 1315, 0, 0, 0, 0, 7212, 0, 0, 0, 0, 460], 'type': 'gauss'}, 'pi_ef': {'sigma': [0.02, 0.02, 0.02, 0.02, 0.025, 0.025, 0.025, 0.025, 0.015, 0.015, 0.015, 0.015, 0.03, 0.03, 0.03, 0.03], 'gain': [1280, 0, 0, 0, 0, 1912, 0, 0, 10000, 10079, 10015, 0, 300, 300, 0, 300], 'half_gain': [1261, 0, 0, 0, 0, 1941, 0, 0, 0, 10147, 9845, 9979, 340, 340, 0, 320], 'half_gain_pi_sigma': [673, 0, 0, 0, 0, 975, 0, 0, 0, 0, 5049, 0, 340, 0, 0, 337], 'type': 'gauss'}, 'pi_EgGf': {'gain': [32000, 0, 30000, 16000], 'sigma': [0.586, 0, 0.8, 0.44643], 'type': 'flat_top'}, 'pi_EgGf_Q': {'gain': [0, 0, 12147, 26117], 'sigma': [0, 0, 0.44193131519875684, 0.1470793351774547], 'phase': [0, 0, 18.0, 24.0], 'half_sigma': [0, 0, 0.212, 0.172], 'half_phase': [0, 0, 18.0, 21.0], 'type': 'flat_top'}, 'pi_f0g1': {'gain': [32000, 32000, 32000, 32000], 'sigma': [0.536, 0.585, 1.54, 1.04], 'idle': [3, 6, 12, 8], 'type': 'flat_top'}, 'pulse_pp': {'gain': [1750, 3550, 0, 0], 'filename': '240920_3_qram_4q_2qubit_++gg'}, 'pulse_1p': {'gain': [3500, 4375, 0, 0], 'filename': '240920_qram_4q_2qubit_e+gg'}, 'pulse_p1': {'gain': [3000, 5530, 0, 0], 'filename': '240920_qram_4q_2qubit_+egg'}, 'pihalf_ge_robust': {'gain': [7559, 7559, 7559, 7559, 4144, 4144, 4144, 4144, 20111, 20111, 20111, 20111, 2375, 2375, 2375, 2375], 'filename': ['X_2_Q0', 'X_2_Q1', 'X_2_Q2', 'X_2_Q3']}, 'pi_ge_slow': {'gain': [-1, 100, -1, -1], 'sigma': [-1, 0.25, -1, -1], 'type': 'gauss'}, 'pi_Q1_ZZ_slow': {'gain': [100, 0, -1, -1], 'sigma': [0.25, 0, -1, -1], 'type': 'gauss'}}}}, 'hw': {'soc': {'dacs': {'qubit': {'ch': [0, 1, 2, 3], 'type': 'full', 'nyquist': [2, 1, 2, 2], 'mixer_freq': [0, 0, 0, 0]}, 'swap': {'ch': 1, 'type': 'full', 'nyquist': 1, 'mixer_freq': 0}, 'swap_f0g1': {'ch': [1, 1, 5, 5], 'type': ['full', 'full', 'full', 'full'], 'nyquist': 1, 'mixer_freq': 0}, 'swap_Q': {'ch': [0, -1, 2, 3], 'type': ['full', 'None', 'full', 'full'], 'nyquist': [2, 0, 2, 2], 'mixer_freq': 0}, 'readout': {'ch': [6, 4, 6, 6], 'full_mux_chs': [5, 4, 5, 5], 'type': ['mux4', 'full', 'mux4', 'mux4'], 'mixer_freq': [7250, 5795.8115578931565, 7250, 7250], 'nyquist': [2, 2, 2, 2]}, 'res_pump': {'ch': 4, 'type': 'full', 'mixer_freq': 0, 'nyquist': 2}, 'delay_chs': {'ch': [0, 1, 2, 3, 4, 5, 6], 'delay_ns': [4.0, 0.0, 5.0, 3.0, 25, 60, 71]}}, 'adcs': {'readout': {'ch': [0, 1, 2, 3]}}}, 'lo': {'twpa': {'frequency': '8210.0e6', 'power': -1.5}, 'readout': {'frequency': 0, 'power': 0}}}, 'aliases': {'readout_LO': 'SC_20A1', 'twpa_LO': 'SC_26C1', 'soc': 'Qick_QRAM'}, 'expt': {'start': 0, 'step': 0.44193131519875684, 'expts': 2, 'reps': 20000, 'reps_f': 10, 'loops': 1, 'pulse_type': 'flat_top', 'post_process': 'threshold', 'singleshot_reps': 20000, 'singleshot_reps_f': 10, 'measure_f': [2], 'init_state': '|0>|1>', 'qDrive': 2, 'qubits': [2, 1], 'measure_qubits': [2, 1], 'test_pi_half': False, 'readout_cool': True, 'n_init_readout': 1, 'n_trig': 1, 'init_read_wait_us': 2, 'resonator_reset': [0, 2, 3], 'full_mux_expt': True, 'use_robust_pulses': True, 'n_cycles': 3, 'skip_first_pi2': True}}\n"
     ]
    },
    {
     "data": {
      "application/vnd.jupyter.widget-view+json": {
       "model_id": "49cf9dae24f148bbb8835bc71d6dcb0c",
       "version_major": 2,
       "version_minor": 0
      },
      "text/plain": [
       "  0%|          | 0/6 [00:00<?, ?it/s]"
      ]
     },
     "metadata": {},
     "output_type": "display_data"
    },
    {
     "name": "stdout",
     "output_type": "stream",
     "text": [
      "Qubit (1) ge\n",
      "ge fidelity (%): 1.1373618680934061 \t angle (deg): 0.0 \t threshold ge: 65.30879839340793\n",
      "Qubit (2) ge\n",
      "ge fidelity (%): 82.41461973098656 \t angle (deg): 0.0 \t threshold ge: 182.40361437614436\n"
     ]
    },
    {
     "data": {
      "application/vnd.jupyter.widget-view+json": {
       "model_id": "956ec54c86064b57b26cab40fdaa8728",
       "version_major": 2,
       "version_minor": 0
      },
      "text/plain": [
       "  0%|          | 0/2 [00:00<?, ?it/s]"
      ]
     },
     "metadata": {},
     "output_type": "display_data"
    },
    {
     "name": "stdout",
     "output_type": "stream",
     "text": [
      "Qubit (0) ge\n",
      "ge fidelity (%): 83.42999999999998 \t angle (deg): 0.0 \t threshold ge: 194.8369290303377\n"
     ]
    },
    {
     "data": {
      "application/vnd.jupyter.widget-view+json": {
       "model_id": "515fff29454c4358bf7cc231b1136254",
       "version_major": 2,
       "version_minor": 0
      },
      "text/plain": [
       "  0%|          | 0/2 [00:00<?, ?it/s]"
      ]
     },
     "metadata": {},
     "output_type": "display_data"
    },
    {
     "name": "stdout",
     "output_type": "stream",
     "text": [
      "Qubit (3) ge\n",
      "ge fidelity (%): 88.70477098854946 \t angle (deg): 0.0 \t threshold ge: 154.58295741523511\n"
     ]
    },
    {
     "data": {
      "application/vnd.jupyter.widget-view+json": {
       "model_id": "8294517ed23a43448e8679f54f38f150",
       "version_major": 2,
       "version_minor": 0
      },
      "text/plain": [
       "  0%|          | 0/2 [00:00<?, ?it/s]"
      ]
     },
     "metadata": {},
     "output_type": "display_data"
    },
    {
     "name": "stdout",
     "output_type": "stream",
     "text": [
      "q measure_f 2\n"
     ]
    },
    {
     "data": {
      "application/vnd.jupyter.widget-view+json": {
       "model_id": "86ad305f1d3b444fa3c22bc82612be2b",
       "version_major": 2,
       "version_minor": 0
      },
      "text/plain": [
       "  0%|          | 0/6 [00:00<?, ?it/s]"
      ]
     },
     "metadata": {},
     "output_type": "display_data"
    },
    {
     "name": "stdout",
     "output_type": "stream",
     "text": [
      "Qubit (1) ge\n",
      "ge fidelity (%): 1.9715533276663644 \t angle (deg): 0.0 \t threshold gf: 90.41321657496057\n",
      "Qubit (2) gf\n",
      "gf fidelity (%): 4.464999999999996 \t angle (deg): 0.0 \t threshold gf: 269.71953252568005\n"
     ]
    },
    {
     "data": {
      "application/vnd.jupyter.widget-view+json": {
       "model_id": "820e41c1ba1d400bac1da12b7c213506",
       "version_major": 2,
       "version_minor": 0
      },
      "text/plain": [
       "  0%|          | 0/2 [00:00<?, ?it/s]"
      ]
     },
     "metadata": {},
     "output_type": "display_data"
    },
    {
     "name": "stdout",
     "output_type": "stream",
     "text": [
      "Qubit (0) ge\n",
      "ge fidelity (%): 82.66999999999999 \t angle (deg): 0.0 \t threshold ge: 193.9230352861762\n"
     ]
    },
    {
     "data": {
      "application/vnd.jupyter.widget-view+json": {
       "model_id": "7391bf504003435ab5ecec791c0034a4",
       "version_major": 2,
       "version_minor": 0
      },
      "text/plain": [
       "  0%|          | 0/2 [00:00<?, ?it/s]"
      ]
     },
     "metadata": {},
     "output_type": "display_data"
    },
    {
     "name": "stdout",
     "output_type": "stream",
     "text": [
      "Qubit (3) ge\n",
      "ge fidelity (%): 88.73979623981202 \t angle (deg): 0.0 \t threshold ge: 155.9392555039\n",
      "thresholds_f=[193.9230352861762, 90.41321657496057, 269.71953252568005, 155.9392555039],\n",
      "angles_f=[0.0, 0.0, 0.0, 0.0],\n",
      "gf_avgs=[array([110.84428158,   0.        , 287.39802642,   0.        ]), array([73.63995055,  0.        , 75.28038023,  0.        ]), array([264.90995294,   0.        , 258.94048429,   0.        ]), array([ 73.82709541,   0.        , 268.70268844,   0.        ])],\n",
      "counts_calib_f=[[7521, 6401, 3164, 2914], [8150, 5914, 3374, 2562], [7520, 6031, 3593, 2856], [7727, 5903, 3527, 2843], [7974, 5863, 3581, 2582], [8131, 5418, 3853, 2598]]\n"
     ]
    },
    {
     "data": {
      "application/vnd.jupyter.widget-view+json": {
       "model_id": "877da0f2ae22434e9e1917382f63a7f4",
       "version_major": 2,
       "version_minor": 0
      },
      "text/plain": [
       "  0%|          | 0/2 [00:00<?, ?it/s]"
      ]
     },
     "metadata": {},
     "output_type": "display_data"
    }
   ],
   "source": [
    "lengthrabiEgGf = meas.LengthRabiEgGfExperiment(\n",
    "    soccfg=soc,\n",
    "    path=expt_path,\n",
    "    prefix=f\"length_rabi_EgGf_qubit{qubits[0]}{qubits[1]}\",\n",
    "    config_file=config_path,\n",
    ")\n",
    "\n",
    "# start_len = lengthrabiEgGf.cfg.device.qubit.pulses.pi_EgGf_Q.sigma[qDrive]\n",
    "# span_len = 0\n",
    "# npts_len = 10\n",
    "\n",
    "start_len = 0\n",
    "# span_len = 3.75*lengthrabiEgGf.cfg.device.qubit.pulses.pi_EgGf_Q.sigma[qDrive]\n",
    "span_len = 1.0*lengthrabiEgGf.cfg.device.qubit.pulses.pi_EgGf_Q.sigma[qDrive]\n",
    "# npts_len = 15\n",
    "# start_len = 0.999*lengthrabiEgGf.cfg.device.qubit.pulses.pi_EgGf_Q.sigma[qDrive]\n",
    "# span_len = 2*lengthrabiEgGf.cfg.device.qubit.pulses.pi_EgGf_Q.sigma[qDrive]\n",
    "# npts_len = 50\n",
    "npts_len = 1\n",
    "\n",
    "lengthrabiEgGf.cfg.expt = dict(\n",
    "    start=start_len, # pulse length (sigma) [us]\n",
    "    # step=0,\n",
    "    # expts=1,\n",
    "    step=span_len/npts_len, # [us]\n",
    "    expts=npts_len+1,\n",
    "    reps=20000,\n",
    "    # reps_f=20000,\n",
    "    # reps=100,\n",
    "    reps_f=10,\n",
    "    loops=1,\n",
    "    pulse_type='flat_top',\n",
    "    post_process='threshold',\n",
    "    # post_process=None,\n",
    "  \n",
    "    # singleshot_reps=500,\n",
    "    singleshot_reps=20000,\n",
    "    singleshot_reps_f=10,\n",
    "    # singleshot_reps=100,\n",
    "    # measure_f=None,\n",
    "    measure_f=[qDrive],\n",
    "    init_state=init_state,\n",
    "    # init_state='test',\n",
    "    # init_state='|1+0>|1>',\n",
    "    # init_state='|1>|0+1>',\n",
    "    # init_state='Q2Q1_|2>|0>',\n",
    "    qDrive=qDrive,\n",
    "    qubits=qubits,\n",
    "    measure_qubits=measure_qubits,\n",
    "    \n",
    "    # setup_measure='qDrive_ef',\n",
    "\n",
    "    test_pi_half=False,\n",
    "    # cool_qubits=[0, 1],\n",
    "    # cool_idle=[5, 5],\n",
    "    \n",
    "    readout_cool=True,\n",
    "    n_init_readout=1,\n",
    "    n_trig=1,\n",
    "    init_read_wait_us=2,\n",
    "\n",
    "    resonator_reset=[0, 2, 3],\n",
    "    full_mux_expt=True,\n",
    "\n",
    "    use_robust_pulses=True,\n",
    "\n",
    "    n_cycles=3,\n",
    "    skip_first_pi2=True,\n",
    "    # plot_IQ=True,\n",
    "    # init_read_wait_us=2,\n",
    "    # use_gf_readout=True,\n",
    "    \n",
    "    # thresholds=[0, 403.4255711140312, 356.93670935384887, 0],\n",
    "    # angles=[0, -15.164283291744868, 107.2178024864672, 0],\n",
    "    # ge_avgs=[array([0., 0., 0., 0.]), [332.72639357096347, -312.0792793945312, 663.0205369628906, -231.3194316731771], [-55.472186757526444, -160.28748716436127, -169.05275673311635, -537.4039020748576], array([0., 0., 0., 0.])],\n",
    "    # counts_calib=[[16091, 2293, 1360, 256], [2287, 16108, 208, 1397], [2399, 307, 14988, 2306], [414, 2510, 2206, 14870]]\n",
    "\n",
    ")\n",
    "\n",
    "lengthrabiEgGf.cfg.device.readout.gain[1] = 1e-4\n",
    "\n",
    "print(lengthrabiEgGf.cfg)\n",
    "# lengthrabiEgGf.im[lengthrabiEgGf.cfg.aliases.soc].reset()\n",
    "try:\n",
    "    lengthrabiEgGf.acquire(progress=True, debug=False)\n",
    "except Exception:\n",
    "    print(\"Pyro traceback:\")\n",
    "    print(\"\".join(Pyro4.util.getPyroTraceback()))"
   ]
  },
  {
   "cell_type": "code",
   "execution_count": null,
   "metadata": {},
   "outputs": [],
   "source": [
    "lengthrabiEgGf.save_data()"
   ]
  },
  {
   "cell_type": "code",
   "execution_count": 345,
   "metadata": {
    "tags": []
   },
   "outputs": [
    {
     "name": "stdout",
     "output_type": "stream",
     "text": [
      "thresholds [194.83692903  65.30879839 182.40361438 154.58295742]\n",
      "ps thresholds [186.89321688          inf 174.90859887 146.70555208]\n",
      "keep 76.115 %\n",
      "g unrotated averages:\n",
      "Amps 107.45345928918337 +/- 54.006474543085204\n",
      "e unrotated averages:\n",
      "Amps 269.81977512959674 +/- 67.99275466446812\n",
      "f unrotated averages:\n",
      "Amps 259.88840449653713 +/- 66.50218076866992\n",
      "test unrotated averages:\n",
      "Amps 218.02962128194906 +/- 92.66811585772865\n",
      "g_0 unrotated averages:\n",
      "Amps 110.76531783237006 +/- 54.09540730247016\n",
      "test_ps unrotated averages:\n",
      "Amps 225.76078366023427 +/- 89.58449892507826\n",
      "g_ps unrotated averages:\n",
      "Amps 104.37315494470423 +/- 49.09497489551927\n",
      "e_ps unrotated averages:\n",
      "Amps 273.50512985813975 +/- 62.938430093359365\n",
      "f_ps unrotated averages:\n",
      "Amps 262.2669119699758 +/- 62.602164039320165\n"
     ]
    },
    {
     "data": {
      "text/plain": [
       "[[0.824196057302865], [180.8972396236952], 0.0]"
      ]
     },
     "execution_count": 345,
     "metadata": {},
     "output_type": "execute_result"
    },
    {
     "name": "stderr",
     "output_type": "stream",
     "text": [
      "UserWarning: Creating legend with loc=\"best\" can be slow with large amounts of data.\n",
      " c:\\ProgramData\\Anaconda3\\lib\\site-packages\\ipykernel\\eventloops.py: 107"
     ]
    }
   ],
   "source": [
    "# # TESTING\n",
    "# lengthrabiEgGf = meas.LengthRabiEgGfExperiment(config_file=config_path)\n",
    "# temp_data, attrs = prev_data(expt_path, '00000_length_rabi_qubit01.h5')\n",
    "# lengthrabiEgGf.data = temp_data\n",
    "# lengthrabiEgGf.cfg = AttrDict(attrs['config'])\n",
    "# data = lengthrabiEgGf.analyze(data=temp_data, fit=True)\n",
    "# lengthrabiEgGf.display(data=data, fit=False)\n",
    "\n",
    "ps_qubits = [0, 2, 3]\n",
    "\n",
    "ps_adjust = [-0.1, np.inf, -0.1, -0.1]\n",
    "\n",
    "# ps_adjust = [-1.2, -1.0, -1.7, 0.0]\n",
    "# ps_adjust_f = [-1.0, -1.0, -1.0, 0.0]\n",
    "# ps_adjust_f = [-1, -1, np.inf, -1]\n",
    "ps_adjust_f = [np.inf]*4\n",
    "\n",
    "# ps_adjust = [np.inf]*4\n",
    "# ps_adjust = None\n",
    "\n",
    "apply_ps = True\n",
    "\n",
    "# lengthrabiEgGf.analyze(fit=False, post_select_calib=apply_ps, post_select_experiment=apply_ps, separate_correction=False, ps_qubits=ps_qubits, ps_adjust=ps_adjust, ps_adjust_f=ps_adjust_f)\n",
    "\n",
    "# lengthrabiEgGf.display(fit=False)\n",
    "\n",
    "# plt.figure()\n",
    "# print(lengthrabiEgGf.cfg.expt.measure_qubits)\n",
    "# plt.plot(lengthrabiEgGf.data['xpts'], lengthrabiEgGf.data['amps'][0], label='q1')\n",
    "# plt.plot(lengthrabiEgGf.data['xpts'], lengthrabiEgGf.data['amps'][1], label='q2')\n",
    "# plt.ylabel('rotated amplitude')\n",
    "# plt.legend()\n",
    "# plt.show()\n",
    "\n",
    "# plt.figure()\n",
    "# # 00, 01, 10, 11\n",
    "# plt.plot(lengthrabiEgGf.data['xpts'], np.average(lengthrabiEgGf.data['counts_raw'][0, :, :, 2], axis=0) + np.average(lengthrabiEgGf.data['counts_raw'][0, :, :, 3], axis=0), label='q1 e counts')\n",
    "# plt.plot(lengthrabiEgGf.data['xpts'], np.average(lengthrabiEgGf.data['counts_raw'][0, :, :, 1], axis=0) + np.average(lengthrabiEgGf.data['counts_raw'][0, :, :, 3], axis=0), label='q2 e counts')\n",
    "# plt.plot(lengthrabiEgGf.data['xpts'], np.average(lengthrabiEgGf.data['counts_raw'][0, :, :, 0], axis=0) + np.average(lengthrabiEgGf.data['counts_raw'][0, :, :, 2], axis=0), label='q2 g counts')\n",
    "# plt.ylabel('counts measurement 0')\n",
    "# plt.legend()\n",
    "# plt.show()\n",
    "\n",
    "# plt.figure()\n",
    "# # 00, 02, 10, 12\n",
    "# plt.plot(lengthrabiEgGf.data['xpts'], np.average(lengthrabiEgGf.data['counts_raw'][1, :, :, 2], axis=0) + np.average(lengthrabiEgGf.data['counts_raw'][1, :, :, 3], axis=0), label='q1 e counts')\n",
    "# plt.plot(lengthrabiEgGf.data['xpts'], np.average(lengthrabiEgGf.data['counts_raw'][1, :, :, 1], axis=0) + np.average(lengthrabiEgGf.data['counts_raw'][1, :, :, 3], axis=0), label='q2 f counts')\n",
    "# plt.plot(lengthrabiEgGf.data['xpts'], np.average(lengthrabiEgGf.data['counts_raw'][1, :, :, 0], axis=0) + np.average(lengthrabiEgGf.data['counts_raw'][1, :, :, 2], axis=0), label='q2 g counts')\n",
    "# plt.plot(lengthrabiEgGf.data['xpts'], np.average(lengthrabiEgGf.data['counts_raw'][1, :, :, 1], axis=0), label='gf counts')\n",
    "# plt.ylabel('counts measurement 1')\n",
    "# plt.legend()\n",
    "# plt.show()\n",
    "\n",
    "\n",
    "data = lengthrabiEgGf.data\n",
    "histdata = dict(iqshots=[])\n",
    "check_states = []\n",
    "# gg, ge, eg, ee, gf, ef q1/q2(q3), g(q0), e(q0), g(q2/3), e(q2/3)\n",
    "loop = 0\n",
    "imeasure = 0\n",
    "ilen = -1\n",
    "\n",
    "q = 2\n",
    "if q in [2, 3]:\n",
    "    if lengthrabiEgGf.measure_f:\n",
    "        if q == lengthrabiEgGf.cfg.expt.measure_f[0]:\n",
    "            iprep_g = 0\n",
    "            iprep_e = 1\n",
    "            iprep_f = 4\n",
    "        else:\n",
    "            iprep_g = 8\n",
    "            iprep_e = 9\n",
    "            iprep_f = None\n",
    "    else:\n",
    "        iprep_g = 0\n",
    "        iprep_e = 2\n",
    "        iprep_f = None\n",
    "elif q == 1:\n",
    "    iprep_g = 0\n",
    "    iprep_e = 2\n",
    "    iprep_f = None\n",
    "elif q == 0:\n",
    "    iprep_g = 6\n",
    "    iprep_e = 7\n",
    "    iprep_f = None\n",
    "\n",
    "\n",
    "histdata['iqshots'].append((data[f'calib_ishots_raw_loops'][loop, imeasure, iprep_g, :, -1, :], data[f'calib_qshots_raw_loops'][loop, imeasure, iprep_g, :, -1, :]))\n",
    "check_states.append('g')\n",
    "histdata['iqshots'].append((data[f'calib_ishots_raw_loops'][loop, imeasure, iprep_e, :, -1, :], data[f'calib_qshots_raw_loops'][loop, imeasure, iprep_e, :, -1, :]))\n",
    "check_states.append('e')\n",
    "if q in [2, 3] and lengthrabiEgGf.measure_f and q == lengthrabiEgGf.cfg.expt.measure_f[0]:\n",
    "    histdata['iqshots'].append((data[f'calib_ishots_raw_loops'][loop, imeasure, iprep_f, :, -1, :], data[f'calib_qshots_raw_loops'][loop, imeasure, iprep_f, :, -1, :]))\n",
    "    check_states.append('f')\n",
    "histdata['iqshots'].append((data[f'ishots_raw_{imeasure}'][loop, ilen, :, -1, :], data[f'qshots_raw_{imeasure}'][loop, ilen, :, -1, :]))\n",
    "check_states.append('test')\n",
    "\n",
    "if lengthrabiEgGf.cfg.expt.readout_cool:\n",
    "    histdata['iqshots'].append((data[f'calib_ishots_raw_loops'][loop, imeasure, iprep_g, :, 0, :], data[f'calib_qshots_raw_loops'][loop, imeasure, iprep_g, :, 0, :]))\n",
    "    check_states.append('g_0')\n",
    "\n",
    "if imeasure == 0:\n",
    "    thresholds = data['thresholds_loops'][loop]\n",
    "    angles = data['angles_loops'][loop]\n",
    "    ge_avgs = data['ge_avgs_loops'][loop]\n",
    "    if ps_adjust is None: ps_thresholds = thresholds\n",
    "    else: ps_thresholds = meas.clifford_averager_program.ps_threshold_adjust(ps_thresholds_init=thresholds, adjust=ps_adjust, ge_avgs=ge_avgs, angles=angles, amplitude_mode=lengthrabiEgGf.cfg.expt.full_mux_expt)\n",
    "    print('thresholds', thresholds)\n",
    "    print('ps thresholds', ps_thresholds)\n",
    "else:\n",
    "    thresholds = data['thresholds_f_loops'][loop]\n",
    "    angles = data['angles_f_loops'][loop]\n",
    "    ge_avgs = data['gf_avgs_loops'][loop]\n",
    "    if ps_adjust_f is None: ps_thresholds = thresholds\n",
    "    else: ps_thresholds = meas.clifford_averager_program.ps_threshold_adjust(ps_thresholds_init=thresholds, adjust=ps_adjust_f, ge_avgs=ge_avgs, angles=angles, amplitude_mode=lengthrabiEgGf.cfg.expt.full_mux_expt)\n",
    "\n",
    "_, keep_indices = meas.clifford_averager_program.post_select_shots(\n",
    "    final_qubit=q,\n",
    "    all_ishots_raw_q=data[f'ishots_raw_{imeasure}'][loop, ilen, :, :, :],\n",
    "    all_qshots_raw_q=data[f'qshots_raw_{imeasure}'][loop, ilen, :, :, :],\n",
    "    angles=angles, \n",
    "    ps_thresholds=ps_thresholds, ps_qubits=ps_qubits,\n",
    "    n_init_readout=lengthrabiEgGf.cfg.expt.n_init_readout,\n",
    "    post_process=None, verbose=False, return_keep_indices=True,\n",
    "    amplitude_mode=lengthrabiEgGf.cfg.expt.full_mux_expt)\n",
    "\n",
    "ishots_unrot = data[f'ishots_raw_{imeasure}'][loop, ilen, :, -1, :]\n",
    "qshots_unrot = data[f'qshots_raw_{imeasure}'][loop, ilen, :, -1, :]\n",
    "ishots_ps_unrot = ishots_unrot[:, keep_indices]\n",
    "qshots_ps_unrot = qshots_unrot[:, keep_indices]\n",
    "print('keep', 100*np.sum(keep_indices)/len(ishots_unrot[q]), '%')\n",
    "if apply_ps:\n",
    "    histdata['iqshots'].append((ishots_ps_unrot, qshots_ps_unrot))\n",
    "    check_states.append('test_ps')\n",
    "\n",
    "    _, g_keep_indices = meas.clifford_averager_program.post_select_shots(\n",
    "        final_qubit=q,\n",
    "        all_ishots_raw_q=data[f'calib_ishots_raw_loops'][loop, imeasure, iprep_g, :, :, :],\n",
    "        all_qshots_raw_q=data[f'calib_qshots_raw_loops'][loop, imeasure, iprep_g, :, :, :],\n",
    "        angles=angles, \n",
    "        ps_thresholds=ps_thresholds, ps_qubits=ps_qubits,\n",
    "        n_init_readout=lengthrabiEgGf.cfg.expt.n_init_readout,\n",
    "        post_process=None, verbose=False, return_keep_indices=True,\n",
    "        amplitude_mode=lengthrabiEgGf.cfg.expt.full_mux_expt)\n",
    "    g_ishots_unrot = data[f'calib_ishots_raw_loops'][loop, imeasure, iprep_g, :, -1, :]\n",
    "    g_qshots_unrot = data[f'calib_qshots_raw_loops'][loop, imeasure, iprep_g, :, -1, :]\n",
    "    g_ishots_ps_unrot = g_ishots_unrot[:, g_keep_indices]\n",
    "    g_qshots_ps_unrot = g_qshots_unrot[:, g_keep_indices]\n",
    "    histdata['iqshots'].append((g_ishots_ps_unrot, g_qshots_ps_unrot))\n",
    "    check_states.append('g_ps')\n",
    "\n",
    "    _, e_keep_indices = meas.clifford_averager_program.post_select_shots(\n",
    "        final_qubit=q,\n",
    "        all_ishots_raw_q=data[f'calib_ishots_raw_loops'][loop, imeasure, iprep_e, :, :, :],\n",
    "        all_qshots_raw_q=data[f'calib_qshots_raw_loops'][loop, imeasure, iprep_e, :, :, :],\n",
    "        angles=angles, \n",
    "        ps_thresholds=ps_thresholds, ps_qubits=ps_qubits,\n",
    "        n_init_readout=lengthrabiEgGf.cfg.expt.n_init_readout,\n",
    "        post_process=None, verbose=False, return_keep_indices=True,\n",
    "        amplitude_mode=lengthrabiEgGf.cfg.expt.full_mux_expt)\n",
    "    e_ishots_unrot = data[f'calib_ishots_raw_loops'][loop, imeasure, iprep_e, :, -1, :]\n",
    "    e_qshots_unrot = data[f'calib_qshots_raw_loops'][loop, imeasure, iprep_e, :, -1, :]\n",
    "    e_ishots_ps_unrot = e_ishots_unrot[:, e_keep_indices]\n",
    "    e_qshots_ps_unrot = e_qshots_unrot[:, e_keep_indices]\n",
    "    histdata['iqshots'].append((e_ishots_ps_unrot, e_qshots_ps_unrot))\n",
    "    check_states.append('e_ps')\n",
    "\n",
    "\n",
    "    if q in [2, 3] and lengthrabiEgGf.measure_f and q == lengthrabiEgGf.cfg.expt.measure_f[0]:\n",
    "        _, f_keep_indices = meas.clifford_averager_program.post_select_shots(\n",
    "            final_qubit=q,\n",
    "            all_ishots_raw_q=data[f'calib_ishots_raw_loops'][loop, imeasure, iprep_f, :, :, :],\n",
    "            all_qshots_raw_q=data[f'calib_qshots_raw_loops'][loop, imeasure, iprep_f, :, :, :],\n",
    "            angles=angles, \n",
    "            ps_thresholds=ps_thresholds, ps_qubits=ps_qubits,\n",
    "            n_init_readout=lengthrabiEgGf.cfg.expt.n_init_readout,\n",
    "            post_process=None, verbose=False, return_keep_indices=True,\n",
    "            amplitude_mode=lengthrabiEgGf.cfg.expt.full_mux_expt)\n",
    "        f_ishots_unrot = data[f'calib_ishots_raw_loops'][loop, imeasure, iprep_f, :, -1, :]\n",
    "        f_qshots_unrot = data[f'calib_qshots_raw_loops'][loop, imeasure, iprep_f, :, -1, :]\n",
    "        f_ishots_ps_unrot = f_ishots_unrot[:, f_keep_indices]\n",
    "        f_qshots_ps_unrot = f_qshots_unrot[:, f_keep_indices]\n",
    "        histdata['iqshots'].append((f_ishots_ps_unrot, f_qshots_ps_unrot))\n",
    "        check_states.append('f_ps')\n",
    "\n",
    "play_pulses_list = [] # this is just so we don't print play pulses in the multihist\n",
    "for check_state in check_states:\n",
    "    play_pulses_list.append([0])\n",
    "g_states = [0]\n",
    "e_states = [1]\n",
    "if imeasure == 1 and q != 1: e_states = [2]\n",
    "\n",
    "meas.single_qubit.single_shot.multihist(\n",
    "    title=f'Single Shot Q{q} with Multi Readout',\n",
    "    data=histdata, check_qubit=q, check_states=check_states, play_pulses_list=play_pulses_list, g_states=g_states, e_states=e_states,\n",
    "    amplitude_mode=lengthrabiEgGf.cfg.expt.full_mux_expt, plot=True, export=False, log_mode=True)\n",
    "\n",
    "# print(lengthrabiEgGf.data['counts_calib'])"
   ]
  },
  {
   "cell_type": "code",
   "execution_count": null,
   "metadata": {},
   "outputs": [],
   "source": [
    "I2 = lengthrabiEgGf.data['avgi'][0]\n",
    "Q2 = lengthrabiEgGf.data['avgq'][0]\n",
    "\n",
    "\n",
    "print('I2 min:', min(I2))\n",
    "print('I2 max:', max(I2))\n",
    "print('Q2 min:', min(Q2))\n",
    "print('Q2 max:', max(Q2))\n"
   ]
  },
  {
   "cell_type": "markdown",
   "metadata": {},
   "source": [
    "F0 --> G1"
   ]
  },
  {
   "cell_type": "code",
   "execution_count": null,
   "metadata": {},
   "outputs": [],
   "source": [
    "lengthrabiF0G1 = meas.LengthRabiF0G1Experiment(\n",
    "    soccfg=soc,\n",
    "    path=expt_path,\n",
    "    prefix=f\"length_rabi_F0G1_qubit{qubits[0]}{qubits[1]}\",\n",
    "    config_file=config_path,\n",
    ")\n",
    "\n",
    "start_len = 0\n",
    "span_len = 1.0\n",
    "npts_len = 100\n",
    "\n",
    "lengthrabiF0G1.cfg.expt = dict(\n",
    "    start=start_len, # pulse length (sigma) [us]\n",
    "    step=span_len/npts_len, # [us]\n",
    "    expts=npts_len,\n",
    "    reps=1000,\n",
    "    # gain=4250, # qubit gain [DAC units],\n",
    "    pulse_type='flat_top',\n",
    "    # post_process='threshold',\n",
    "    post_process=None,\n",
    "    # singleshot_reps=20000,\n",
    "    measure_f=False,\n",
    "    init_state=init_state,\n",
    "    qDrive=qDrive,\n",
    "    qubits=qubits,\n",
    "    measure_qubits=measure_qubits,\n",
    ")\n",
    "\n",
    "# lengthrabiF0G1.cfg.device.readout.readout_length = [10,5] # [us]\n",
    "print(lengthrabiF0G1.cfg)\n",
    "# lengthrabiF0G1.im[lengthrabiF0G1.cfg.aliases.soc].reset()\n",
    "try:\n",
    "    lengthrabiF0G1.acquire(progress=True, debug=True)\n",
    "except Exception:\n",
    "    print(\"Pyro traceback:\")\n",
    "    print(\"\".join(Pyro4.util.getPyroTraceback()))"
   ]
  },
  {
   "cell_type": "code",
   "execution_count": null,
   "metadata": {},
   "outputs": [],
   "source": [
    "# # TESTING\n",
    "# lengthrabiF0G1 = meas.LengthRabiF0G1Experiment(config_file=config_path)\n",
    "# temp_data, attrs = prev_data(expt_path, '00000_length_rabi_qubit01.h5')\n",
    "# data = lengthrabiF0G1.analyze(data=temp_data, fit=True)\n",
    "# lengthrabiF0G1.display(data=data, fit=False)\n",
    "\n",
    "lengthrabiF0G1.analyze(fit=True)\n",
    "lengthrabiF0G1.display(fit=True)\n",
    "# print(lengthrabiF0G1.data['counts_calib'])"
   ]
  },
  {
   "cell_type": "code",
   "execution_count": null,
   "metadata": {},
   "outputs": [],
   "source": [
    "lengthrabiF0G1.save_data()"
   ]
  },
  {
   "cell_type": "markdown",
   "metadata": {},
   "source": [
    "## Pi Minus Pi"
   ]
  },
  {
   "cell_type": "code",
   "execution_count": 136,
   "metadata": {},
   "outputs": [
    {
     "name": "stdout",
     "output_type": "stream",
     "text": [
      "{'device': {'readout': {'trig_offset': 150, 'lo_sideband': [1, 1, 1, 1], 'frequency': [-439.97500000000036, 0.0, 452.3682333333336, -278.89999999999964], 'gain': [0.17, 0.0001, 0.25, 0.17], 'kappa_ext': [0.157, 0.065, 0.182, 0.104], 'kerr': [-0.0045, 0, 0.008, -0.003], 't_rise_reset': [0.5, 1, 0.5, 0.5], 'readout_length': [4, 4, 4, 4], 'frequency_ef': [-440.97500000000036, 0.0, 453.3682333333336, -280.35364238410557], 'readout_length_ef': [10.0, 7.0, 4.0, 8.0], 'relax_delay': [450, 450, 450, 450]}, 'qubit': {'f_ge': [4111.097866562327, 4105.838904759637, 4110.958153299016, 4110.546407850519, 3442.8755721075536, 3448.5530242338505, 3447.060317317807, 3446.4929792801067, 4762.761504132457, 4761.823567235975, 4762.909473544484, 4762.369813422167, 4380.698604555338, 4379.604868123916, 4380.717837106693, 4381.248121020163], 'f_ge_robust': [4114.313815659153, 4108.147701523904, 4114.310372455052, 4114.310372455052, 3443.0032303441935, 3448.345849629168, 0, 0, 4763.941, 4763.941, 4763.941, 4763.941, 4384.25034225973, 4384.25034225973, 4384.25034225973, 4384.25034225973], 'f_ef': [3884.6269161242526, 0.0, 0.0, 0.0, 0.0, 3348.085433174199, 0.0, 0.0, 4571.9056482340775, 4570.996526541673, 4573.280687567687, 0.0, 4211.617732525247, 4205.61697813965, 0.0, 4209.925086260656], 'f_EgGf': [2686.53594683, 0, 2017.3, 2414.92850999], 'f_EgGf_Q': [0, 0, 5885.585546008087, 5123.077273756315], 'f_f0g1': [1184.4, 999.8, 1632.9833333333333, 1620.9166666666665], 'gs': [52.40296404695958, 54.81794456602636, 43.49513117058557, 4.930653352423196, 2.6415018214608046, 6.386231497692186], 'pulses': {'pi_ge': {'sigma': [0.02, 0.02, 0.02, 0.02, 0.025, 0.025, 0.025, 0.025, 0.015, 0.015, 0.015, 0.015, 0.025, 0.025, 0.025, 0.025], 'gain': [1849, 1914, 0, 1855, 2834, 2504, 2648, 2631, 9155, 9155, 9155, 9155, 599, 599, 599, 599], 'half_gain': [1856, 1835, 1873, 1867, 2382, 2186, 2248, 2289, 9253, 9253, 9253, 9253, 524, 524, 524, 524], 'half_correction_phase': [0, 0, 0, 0, 0, 0, 0, 0, 0, 0, 0, 0, 0, 0, 0, 0, 0], 'half_gain_pi_sigma': [927, 0, 0, 0, 0, 1315, 0, 0, 0, 0, 7212, 0, 0, 0, 0, 460], 'type': 'gauss'}, 'pi_ef': {'sigma': [0.02, 0.02, 0.02, 0.02, 0.025, 0.025, 0.025, 0.025, 0.015, 0.015, 0.015, 0.015, 0.03, 0.03, 0.03, 0.03], 'gain': [1280, 0, 0, 0, 0, 1912, 0, 0, 10000, 10079, 10015, 0, 300, 300, 0, 300], 'half_gain': [1261, 0, 0, 0, 0, 1941, 0, 0, 0, 10147, 9845, 9979, 340, 340, 0, 320], 'half_gain_pi_sigma': [673, 0, 0, 0, 0, 975, 0, 0, 0, 0, 5049, 0, 340, 0, 0, 337], 'type': 'gauss'}, 'pi_EgGf': {'gain': [32000, 0, 30000, 16000], 'sigma': [0.586, 0, 0.8, 0.44643], 'type': 'flat_top'}, 'pi_EgGf_Q': {'gain': [0, 0, 12147, 26117], 'sigma': [0, 0, 0.44193131519875684, 0.11959440453657395], 'phase': [0, 0, 18.0, 24.0], 'half_sigma': [0, 0, 0.212, 0.172], 'half_phase': [0, 0, 18.0, 21.0], 'type': 'flat_top'}, 'pi_f0g1': {'gain': [32000, 32000, 32000, 32000], 'sigma': [0.536, 0.585, 1.54, 1.04], 'idle': [3, 6, 12, 8], 'type': 'flat_top'}, 'pulse_pp': {'gain': [1750, 3550, 0, 0], 'filename': '240920_3_qram_4q_2qubit_++gg'}, 'pulse_1p': {'gain': [3500, 4375, 0, 0], 'filename': '240920_qram_4q_2qubit_e+gg'}, 'pulse_p1': {'gain': [3000, 5530, 0, 0], 'filename': '240920_qram_4q_2qubit_+egg'}, 'pihalf_ge_robust': {'gain': [7559, 7660, 7559, 7559, 4843, 4462, 4462, 4144, 20111, 20111, 20111, 20111, 2375, 2375, 2375, 2375], 'filename': ['X_2_Q0', 'X_2_Q1', 'X_2_Q2', 'X_2_Q3']}, 'pi_ge_slow': {'gain': [-1, 100, -1, -1], 'sigma': [-1, 0.25, -1, -1], 'type': 'gauss'}, 'pi_Q1_ZZ_slow': {'gain': [100, 0, -1, -1], 'sigma': [0.25, 0, -1, -1], 'type': 'gauss'}}}}, 'hw': {'soc': {'dacs': {'qubit': {'ch': [0, 1, 2, 3], 'type': 'full', 'nyquist': [2, 1, 2, 2], 'mixer_freq': [0, 0, 0, 0]}, 'swap': {'ch': 1, 'type': 'full', 'nyquist': 1, 'mixer_freq': 0}, 'swap_f0g1': {'ch': [1, 1, 5, 5], 'type': ['full', 'full', 'full', 'full'], 'nyquist': 1, 'mixer_freq': 0}, 'swap_Q': {'ch': [0, -1, 2, 3], 'type': ['full', 'None', 'full', 'full'], 'nyquist': [2, 0, 2, 2], 'mixer_freq': 0}, 'readout': {'ch': [6, 4, 6, 6], 'full_mux_chs': [5, 4, 5, 5], 'type': ['mux4', 'full', 'mux4', 'mux4'], 'mixer_freq': [7250, 5795.8115578931565, 7250, 7250], 'nyquist': [2, 2, 2, 2]}, 'res_pump': {'ch': 4, 'type': 'full', 'mixer_freq': 0, 'nyquist': 2}, 'delay_chs': {'ch': [0, 1, 2, 3, 4, 5, 6], 'delay_ns': [4.0, 0.0, 5.0, 3.0, 25, 60, 71]}}, 'adcs': {'readout': {'ch': [0, 1, 2, 3]}}}, 'lo': {'twpa': {'frequency': '8210.0e6', 'power': -1.5}, 'readout': {'frequency': 0, 'power': 0}}}, 'aliases': {'readout_LO': 'SC_20A1', 'twpa_LO': 'SC_26C1', 'soc': 'Qick_QRAM'}, 'expt': {'start_N': 0, 'step_N': 1, 'expts_N': 10, 'start_f': 5884.585546008087, 'step_f': 0.03333333333333333, 'expts_f': 31, 'reps': 700, 'loops': 1, 'pulse_type': 'flat_top', 'post_process': 'scale', 'singleshot_reps': 15000, 'measure_f': False, 'init_state': '|0>|1>', 'qDrive': 2, 'qubits': [2, 1], 'measure_qubits': [2, 1], 'readout_cool': False, 'n_init_readout': 1, 'n_trig': 1, 'init_read_wait_us': 2, 'full_mux_expt': True, 'resonator_reset': [0, 2, 3]}}\n"
     ]
    },
    {
     "data": {
      "application/vnd.jupyter.widget-view+json": {
       "model_id": "ec9d7c76489a44a1b8f95ccd7a2bb153",
       "version_major": 2,
       "version_minor": 0
      },
      "text/plain": [
       "  0%|          | 0/4 [00:00<?, ?it/s]"
      ]
     },
     "metadata": {},
     "output_type": "display_data"
    },
    {
     "name": "stdout",
     "output_type": "stream",
     "text": [
      "Qubit  (2)\n",
      "ge fidelity (%): 76.50000000000001 \t angle (deg): 0.0 \t threshold ge: 174.17868823092715\n",
      "Qubit  (1)\n",
      "ge fidelity (%): 1.336635775718381 \t angle (deg): 0.0 \t threshold ge: 68.27165630399442\n"
     ]
    },
    {
     "data": {
      "application/vnd.jupyter.widget-view+json": {
       "model_id": "1fde54efd913412790b75d665600709b",
       "version_major": 2,
       "version_minor": 0
      },
      "text/plain": [
       "  0%|          | 0/10 [00:00<?, ?it/s]"
      ]
     },
     "metadata": {},
     "output_type": "display_data"
    },
    {
     "name": "stderr",
     "output_type": "stream",
     "text": [
      "RuntimeWarning: divide by zero encountered in divide\n",
      " s:\\Connie\\experiments\\qram_tprocv1_expts\\experiments\\clifford_averager_program.py: 1817"
     ]
    }
   ],
   "source": [
    "piminuspi = meas.PiMinusPiEgGfExperiment(\n",
    "    soccfg=soc,\n",
    "    path=expt_path,\n",
    "    prefix=f\"PiMinusPiEgGfExptQ{qubits[0]}{qubits[1]}\",\n",
    "    config_file=config_path,\n",
    ")\n",
    "\n",
    "piminuspi.cfg = AttrDict(deepcopy(yaml_cfg))\n",
    "\n",
    "good_data = False\n",
    "\n",
    "span_f = 1.0\n",
    "# npts_f = 70\n",
    "npts_f = 30 if not good_data else 75\n",
    "\n",
    "piminuspi.cfg.expt = dict(\n",
    "    start_N=0, # number gate repetitions\n",
    "    # step_N=2,\n",
    "    step_N=1,\n",
    "    expts_N=10 if not good_data else 20,\n",
    "    start_f=piminuspi.cfg.device.qubit.f_EgGf_Q[qDrive]-span_f/2-0.5,\n",
    "    step_f=span_f/npts_f,\n",
    "    expts_f=npts_f+1,\n",
    "\n",
    "    reps=700 if not good_data else 6000,\n",
    "    loops=1,\n",
    "\n",
    "    pulse_type='flat_top',\n",
    "    post_process='scale',\n",
    "    singleshot_reps=15000,\n",
    "    # singleshot_reps=5000,\n",
    "    measure_f=False,\n",
    "    init_state=init_state,\n",
    "    qDrive=qDrive,\n",
    "    qubits=qubits,\n",
    "    measure_qubits=measure_qubits,\n",
    "\n",
    "    readout_cool=False,\n",
    "    n_init_readout=1,\n",
    "    n_trig=1,\n",
    "    # init_read_wait_us=5,\n",
    "    init_read_wait_us=2,\n",
    "    \n",
    "    full_mux_expt=full_mux_expt,\n",
    "    resonator_reset=[0, 2, 3],\n",
    ")\n",
    "piminuspi.cfg.device.readout.gain[1] = 1e-4\n",
    "\n",
    "print(piminuspi.cfg)\n",
    "try:\n",
    "    piminuspi.acquire(progress=True, debug=False)\n",
    "except Exception:\n",
    "    print(\"Pyro traceback:\")\n",
    "    print(\"\".join(Pyro4.util.getPyroTraceback()))"
   ]
  },
  {
   "cell_type": "code",
   "execution_count": 137,
   "metadata": {},
   "outputs": [
    {
     "name": "stdout",
     "output_type": "stream",
     "text": [
      "Attempted to init fitparam 3 to 0.0, which is out of bounds 0 to 0.34895799724287496. Instead init to 0.17447899862143748\n",
      "Fit best freq (qA) 5885.340063874975 which is -0.2454821331111816 away from old freq 5885.585546008087\n",
      "Best freq from pi/-pi on Q2 5885.340063874975\n",
      "Attempted to init fitparam 3 to 0.0, which is out of bounds 0 to 0.0833851424415962. Instead init to 0.0416925712207981\n",
      "Fit best freq (qA) 5884.717107594416 which is -0.8684384136704466 away from old freq 5885.585546008087\n",
      "Best freq from pi/-pi on Q1 5884.717107594416\n",
      "best 0 0.037091289227114105\n",
      "5885.340063874975\n"
     ]
    }
   ],
   "source": [
    "data = piminuspi.data\n",
    "piminuspi.analyze(fit=True)\n",
    "piminuspi.display(fit=True)\n",
    "print(piminuspi.data['best_freq'])"
   ]
  },
  {
   "cell_type": "markdown",
   "metadata": {},
   "source": [
    "## Error amplification"
   ]
  },
  {
   "cell_type": "code",
   "execution_count": null,
   "metadata": {},
   "outputs": [
    {
     "name": "stdout",
     "output_type": "stream",
     "text": [
      "{'device': {'readout': {'trig_offset': 150, 'lo_sideband': [1, 1, 1, 1], 'frequency': [-439.97500000000036, 0.0, 452.3682333333336, -278.89999999999964], 'gain': [0.17, 0.035, 0.25, 0.17], 'kappa_ext': [0.157, 0.065, 0.182, 0.104], 'kerr': [-0.0045, 0, 0.008, -0.003], 't_rise_reset': [0.5, 1, 0.5, 0.5], 'readout_length': [4, 4, 4, 4], 'frequency_ef': [-440.97500000000036, 0.0, 453.3682333333336, -280.35364238410557], 'readout_length_ef': [10.0, 7.0, 4.0, 8.0], 'relax_delay': [450, 450, 450, 450]}, 'qubit': {'f_ge': [4111.097866562327, 4105.838904759637, 4110.958153299016, 4110.546407850519, 3442.8755721075536, 3448.5530242338505, 3447.060317317807, 3446.4929792801067, 4762.761504132457, 4761.823567235975, 4762.909473544484, 4762.369813422167, 4380.698604555338, 4379.604868123916, 4380.717837106693, 4381.248121020163], 'f_ge_robust': [4114.313815659153, 4108.147701523904, 4114.310372455052, 4114.310372455052, 3443.0032303441935, 3448.345849629168, 0, 0, 4763.941, 4763.941, 4763.941, 4763.941, 4384.25034225973, 4384.25034225973, 4384.25034225973, 4384.25034225973], 'f_ef': [3884.6269161242526, 0.0, 0.0, 0.0, 0.0, 3348.085433174199, 0.0, 0.0, 4571.9056482340775, 4570.996526541673, 4573.280687567687, 0.0, 4211.617732525247, 4205.61697813965, 0.0, 4209.925086260656], 'f_EgGf': [2686.53594683, 0, 2017.3, 2414.92850999], 'f_EgGf_Q': [0, 0, 5885.585546008087, 5133.519916163953], 'f_f0g1': [1184.4, 999.8, 1632.9833333333333, 1620.9166666666665], 'gs': [52.40296404695958, 54.81794456602636, 43.49513117058557, 4.930653352423196, 2.6415018214608046, 6.386231497692186], 'pulses': {'pi_ge': {'sigma': [0.02, 0.02, 0.02, 0.02, 0.025, 0.025, 0.025, 0.025, 0.015, 0.015, 0.015, 0.015, 0.025, 0.025, 0.025, 0.025], 'gain': [1849, 1914, 0, 1855, 2834, 2504, 2648, 2631, 9155, 9155, 9155, 9155, 599, 599, 599, 599], 'half_gain': [1856, 1835, 1873, 1867, 2382, 2186, 2248, 2289, 9253, 9253, 9253, 9253, 524, 524, 524, 524], 'half_correction_phase': [0, 0, 0, 0, 0, 0, 0, 0, 0, 0, 0, 0, 0, 0, 0, 0, 0], 'half_gain_pi_sigma': [927, 0, 0, 0, 0, 1315, 0, 0, 0, 0, 7212, 0, 0, 0, 0, 460], 'type': 'gauss'}, 'pi_ef': {'sigma': [0.02, 0.02, 0.02, 0.02, 0.025, 0.025, 0.025, 0.025, 0.015, 0.015, 0.015, 0.015, 0.03, 0.03, 0.03, 0.03], 'gain': [1280, 0, 0, 0, 0, 1912, 0, 0, 10000, 10079, 10015, 0, 300, 300, 0, 300], 'half_gain': [1261, 0, 0, 0, 0, 1941, 0, 0, 0, 10147, 9845, 9979, 340, 340, 0, 320], 'half_gain_pi_sigma': [673, 0, 0, 0, 0, 975, 0, 0, 0, 0, 5049, 0, 340, 0, 0, 337], 'type': 'gauss'}, 'pi_EgGf': {'gain': [32000, 0, 30000, 16000], 'sigma': [0.586, 0, 0.8, 0.44643], 'type': 'flat_top'}, 'pi_EgGf_Q': {'gain': [0, 0, 12147, 24647], 'sigma': [0, 0, 0.44193131519875684, 0.14820077518166286], 'phase': [0, 0, 18.0, 24.0], 'half_sigma': [0, 0, 0.212, 0.172], 'half_phase': [0, 0, 18.0, 21.0], 'type': 'flat_top'}, 'pi_f0g1': {'gain': [32000, 32000, 32000, 32000], 'sigma': [0.536, 0.585, 1.54, 1.04], 'idle': [3, 6, 12, 8], 'type': 'flat_top'}, 'pulse_pp': {'gain': [1750, 3550, 0, 0], 'filename': '240920_3_qram_4q_2qubit_++gg'}, 'pulse_1p': {'gain': [3500, 4375, 0, 0], 'filename': '240920_qram_4q_2qubit_e+gg'}, 'pulse_p1': {'gain': [3000, 5530, 0, 0], 'filename': '240920_qram_4q_2qubit_+egg'}, 'pihalf_ge_robust': {'gain': [7559, 7660, 7559, 7559, 4843, 4462, 4462, 4144, 20111, 20111, 20111, 20111, 2375, 2375, 2375, 2375], 'filename': ['X_2_Q0', 'X_2_Q1', 'X_2_Q2', 'X_2_Q3']}, 'pi_ge_slow': {'gain': [-1, 100, -1, -1], 'sigma': [-1, 0.25, -1, -1], 'type': 'gauss'}, 'pi_Q1_ZZ_slow': {'gain': [100, 0, -1, -1], 'sigma': [0.25, 0, -1, -1], 'type': 'gauss'}}}}, 'hw': {'soc': {'dacs': {'qubit': {'ch': [0, 1, 2, 3], 'type': 'full', 'nyquist': [2, 1, 2, 2], 'mixer_freq': [0, 0, 0, 0]}, 'swap': {'ch': 1, 'type': 'full', 'nyquist': 1, 'mixer_freq': 0}, 'swap_f0g1': {'ch': [1, 1, 5, 5], 'type': ['full', 'full', 'full', 'full'], 'nyquist': 1, 'mixer_freq': 0}, 'swap_Q': {'ch': [0, -1, 2, 3], 'type': ['full', 'None', 'full', 'full'], 'nyquist': [2, 0, 2, 2], 'mixer_freq': 0}, 'readout': {'ch': [6, 4, 6, 6], 'full_mux_chs': [5, 4, 5, 5], 'type': ['mux4', 'full', 'mux4', 'mux4'], 'mixer_freq': [7250, 5795.8115578931565, 7250, 7250], 'nyquist': [2, 2, 2, 2]}, 'res_pump': {'ch': 4, 'type': 'full', 'mixer_freq': 0, 'nyquist': 2}, 'delay_chs': {'ch': [0, 1, 2, 3, 4, 5, 6], 'delay_ns': [4.0, 0.0, 5.0, 3.0, 25, 60, 71]}}, 'adcs': {'readout': {'ch': [0, 1, 2, 3]}}}, 'lo': {'twpa': {'frequency': '8210.0e6', 'power': -1.5}, 'readout': {'frequency': 0, 'power': 0}}}, 'aliases': {'readout_LO': 'SC_20A1', 'twpa_LO': 'SC_26C1', 'soc': 'Qick_QRAM'}, 'expt': {'start': 1, 'step': 1, 'expts': 20, 'reps': 2000, 'loops': 5, 'pulse_type': 'flat_top', 'post_process': 'threshold', 'singleshot_reps': 20000, 'measure_f': False, 'init_state': '|1>|1>', 'qDrive': 3, 'qubits': [3, 1], 'measure_qubits': [3, 1], 'full_mux_expt': True, 'resonator_reset': [0, 2, 3]}}\n"
     ]
    },
    {
     "data": {
      "application/vnd.jupyter.widget-view+json": {
       "model_id": "c098140579fa4e178fdc59dff58850fb",
       "version_major": 2,
       "version_minor": 0
      },
      "text/plain": [
       "  0%|          | 0/4 [00:00<?, ?it/s]"
      ]
     },
     "metadata": {},
     "output_type": "display_data"
    },
    {
     "name": "stdout",
     "output_type": "stream",
     "text": [
      "Qubit  (3)\n",
      "ge fidelity (%): 73.36 \t angle (deg): 0.0 \t threshold ge: 160.03226541432713\n",
      "Qubit  (1)\n",
      "ge fidelity (%): 54.22500000000001 \t angle (deg): 0.0 \t threshold ge: 310.8319152886595\n",
      "thresholds=[0, 310.8319152886595, 0, 160.03226541432713],\n",
      "angles=[0, 0.0, 0, 0.0],\n",
      "ge_avgs=[array([0., 0., 0., 0.]), array([262.33014961,   0.        , 355.70338708,   0.        ]), array([0., 0., 0., 0.]), array([ 97.47370872,   0.        , 259.75407896,   0.        ])],\n",
      "counts_calib=[[13650, 3617, 2035, 698], [4064, 13292, 803, 1841], [2081, 530, 13760, 3629], [853, 1775, 4505, 12867]]\n"
     ]
    },
    {
     "data": {
      "application/vnd.jupyter.widget-view+json": {
       "model_id": "0b690d1eb8d94bd2a6d17e7af3a74496",
       "version_major": 2,
       "version_minor": 0
      },
      "text/plain": [
       "  0%|          | 0/5 [00:00<?, ?it/s]"
      ]
     },
     "metadata": {},
     "output_type": "display_data"
    }
   ],
   "source": [
    "npulsecalib = meas.NPulseEgGfExperiment(\n",
    "    soccfg=soc,\n",
    "    path=expt_path,\n",
    "    prefix=f\"NPulseExptEgGfQ{qubits[0]}{qubits[1]}\",\n",
    "    config_file=config_path,\n",
    ")\n",
    "\n",
    "npulsecalib.cfg.expt = dict(\n",
    "    start=1, # number gate repetitions\n",
    "    step=1,\n",
    "    expts=20,\n",
    "    reps=2000,\n",
    "    loops=5,\n",
    "\n",
    "    pulse_type='flat_top',\n",
    "    post_process='threshold',\n",
    "    # post_process='scale',\n",
    "    singleshot_reps=20000,\n",
    "    measure_f=False,\n",
    "    init_state=init_state,\n",
    "    qDrive=qDrive,\n",
    "    qubits=qubits,\n",
    "    measure_qubits=measure_qubits,\n",
    "\n",
    "    full_mux_expt=full_mux_expt,\n",
    "    resonator_reset=[0, 2, 3],\n",
    "\n",
    "    # test_pi_half=False,\n",
    "\n",
    "    # thresholds=[0, 43.41811611277916, 10.392971620466497, 0],\n",
    "    # angles=[0, -101.73981388813908, 141.40196686195807, 0],\n",
    "    # ge_avgs=[array([0., 0., 0., 0.]), [-17.911846226415093, 35.64949229017567, -20.07804817826936, 45.928960572543915], [-4.966982513216755, -4.092012810085401, -10.202727938186255, -8.330811813745425], array([0., 0., 0., 0.])],\n",
    "    # counts_calib=[[11285, 4713, 2839, 1163], [4149, 11780, 1119, 2952], [4335, 1723, 9750, 4192], [1394, 3570, 3963, 11073]]\n",
    ")\n",
    "\n",
    "print(npulsecalib.cfg)\n",
    "try:\n",
    "    npulsecalib.go(analyze=False, display=False, progress=True, save=False)\n",
    "except Exception:\n",
    "    print(\"Pyro traceback:\")\n",
    "    print(\"\".join(Pyro4.util.getPyroTraceback()))"
   ]
  },
  {
   "cell_type": "code",
   "execution_count": 112,
   "metadata": {},
   "outputs": [
    {
     "name": "stdout",
     "output_type": "stream",
     "text": [
      "[ 0.5002707   2.96830286 10.17894614]\n",
      "Attempted to init fitparam 0 to 0.0, which is out of bounds 0.0 to 0.0. Instead init to 0.0\n",
      "Warning: fit failed with error: Each lower bound must be strictly less than each upper bound.\n",
      "[0.0, 0.0, 10]\n",
      "Warning: fit failed with error: Optimal parameters not found: The maximum number of function evaluations is exceeded.\n",
      "[176.7739418585515, 0.0, 10]\n",
      "[ 0.58666425 -1.36067064  7.03893621]\n",
      "Attempted to init fitparam 0 to 0.0, which is out of bounds 0.0 to 0.0. Instead init to 0.0\n",
      "Warning: fit failed with error: Each lower bound must be strictly less than each upper bound.\n",
      "[0.0, 0.0, 10]\n",
      "Warning: fit failed with error: Optimal parameters not found: The maximum number of function evaluations is exceeded.\n",
      "[326.8114402454431, 0.0, 10]\n",
      "From QA: adjust length to 0.15068566795182642\n",
      "\tadjust ratio 0.9835094285744682\n",
      "\n",
      "From QB: adjust length to 0.14932959963941808\n",
      "\tadjust ratio 0.992440718648674\n",
      "best 0 0.04094201431722189\n",
      "3\n",
      "0.15068566795182642\n"
     ]
    }
   ],
   "source": [
    "# # TESTING\n",
    "# temp_data, attrs = prev_data(expt_path, '00000_voltage_sweep_qubit_spectroscopy_qubit3.h5')\n",
    "# data = lengthrabi.analyze(data=temp_data, fit=True)\n",
    "\n",
    "data = npulsecalib.data\n",
    "npulsecalib.analyze(fit=True)\n",
    "npulsecalib.display(fit=True)\n",
    "\n",
    "npulsecalib_fit, npulsecalib_fit_err = meas.fitting.get_best_fit(npulsecalib.data, prefixes=['fitA', 'fitB'], check_measures=['avgi'])\n",
    "\n",
    "if np.all(npulsecalib_fit == data['fitA_avgi']): use_q =  npulsecalib.cfg.expt.measure_qubits[0]\n",
    "else: use_q = npulsecalib.cfg.expt.measure_qubits[1]\n",
    "if use_q == qDrive: sign = 1\n",
    "else: sign = -1\n",
    "print(use_q)\n",
    "angle_err = npulsecalib_fit[1]\n",
    "amp_ratio = (180 - sign*angle_err) / 180\n",
    "new_opt_len = npulsecalib.cfg.device.qubit.pulses.pi_EgGf_Q.sigma[qDrive] / amp_ratio\n",
    "print(new_opt_len)"
   ]
  },
  {
   "cell_type": "code",
   "execution_count": null,
   "metadata": {},
   "outputs": [],
   "source": [
    "npulsecalib.save_data()"
   ]
  },
  {
   "cell_type": "markdown",
   "metadata": {},
   "source": [
    "## Pi pulse train\n",
    "\n",
    "https://arxiv.org/pdf/2304.06087"
   ]
  },
  {
   "cell_type": "code",
   "execution_count": null,
   "metadata": {},
   "outputs": [
    {
     "name": "stderr",
     "output_type": "stream",
     "text": [
      "  0%|          | 0/4 [00:00<?, ?it/s]DeprecationWarning: Conversion of an array with ndim > 0 to a scalar is deprecated, and will error in future. Ensure you extract a single element from your array before performing this operation. (Deprecated NumPy 1.25.)\n",
      "100%|██████████| 41/41 [05:37<00:00,  8.22s/it]8\\3733630012.py: 83\n",
      " 25%|██▌       | 1/4 [05:37<16:51, 337.21s/it]"
     ]
    }
   ],
   "source": [
    "train_expt = Experiment(\n",
    "    soccfg=soc,\n",
    "    path=expt_path,\n",
    "    prefix=f\"eggf_train_Q{qubits[0]}{qubits[1]}\",\n",
    "    config_file=config_path,\n",
    ")\n",
    "\n",
    "# span_len = 0.010\n",
    "span_len = 0.1\n",
    "npts_len = 40\n",
    "# start_len = train_expt.cfg.device.qubit.pulses.pi_EgGf_Q.sigma[qDrive] - span_len/2\n",
    "start_len = 0.35\n",
    "# start_len = 0.152 - span_len/2\n",
    "len_sweep = np.linspace(start_len, start_len + span_len, npts_len+1)\n",
    "\n",
    "# train_lens = [5, 11, 21]\n",
    "train_lens = [3, 5, 11, 21]\n",
    "\n",
    "train_expt.cfg.expt = dict(\n",
    "    train_lens=train_lens,\n",
    "    len_sweep=len_sweep,\n",
    "\n",
    "    reps=3000,\n",
    "    loops=5,\n",
    "\n",
    "    pulse_type='flat_top',\n",
    "    # post_process='threshold',\n",
    "    post_process=None,\n",
    "    # singleshot_reps=20000,\n",
    "    measure_f=False,\n",
    "    init_state=init_state,\n",
    "    qDrive=qDrive,\n",
    "    qubits=qubits,\n",
    "    measure_qubits=measure_qubits,\n",
    "\n",
    "    full_mux_expt=full_mux_expt,\n",
    "    resonator_reset=[0, 2, 3],\n",
    ")\n",
    "\n",
    "train_expt.data = dict(\n",
    "    avgi = np.zeros((2, len(train_lens), len(len_sweep))),\n",
    "    avgq = np.zeros((2, len(train_lens), len(len_sweep))),\n",
    "    amps = np.zeros((2, len(train_lens), len(len_sweep))),\n",
    ")\n",
    "\n",
    "thresholds = None\n",
    "angles = None\n",
    "ge_avgs = None\n",
    "counts_calib = None\n",
    "\n",
    "for i_npulses, npulses in enumerate(tqdm(train_lens)):\n",
    "    for i_swap_len, swap_len in enumerate(tqdm(len_sweep)):\n",
    "        npulsecalib = meas.NPulseEgGfExperiment(\n",
    "            soccfg=soc,\n",
    "            path=expt_path,\n",
    "            prefix=f\"NPulseExptEgGfQ{qubits[0]}{qubits[1]}\",\n",
    "            config_file=config_path,\n",
    "        )\n",
    "\n",
    "        npulsecalib.cfg.expt = dict(\n",
    "            start=npulses, # number gate repetitions\n",
    "            step=0,\n",
    "            expts=1,\n",
    "            # thresholds=thresholds,\n",
    "            # angles=angles,\n",
    "            # ge_avgs=ge_avgs,\n",
    "            # counts_calib=counts_calib,\n",
    "            skip_first_pi2=True,\n",
    "            \n",
    "        )\n",
    "        npulsecalib.cfg.expt.update(train_expt.cfg.expt)\n",
    "\n",
    "        npulsecalib.cfg.device.qubit.pulses.pi_EgGf_Q.sigma[qDrive] = swap_len\n",
    "\n",
    "        try:\n",
    "            npulsecalib.acquire(progress=False, debug=False)\n",
    "        except Exception:\n",
    "            print(\"Pyro traceback:\")\n",
    "            print(\"\".join(Pyro4.util.getPyroTraceback()))\n",
    "        \n",
    "        for data_name in ['avgi', 'avgq', 'amps']:\n",
    "            for q in range(2):\n",
    "                train_expt.data[data_name][q, i_npulses, i_swap_len] = npulsecalib.data[data_name][q]\n",
    "        \n",
    "        # thresholds = npulsecalib.data['thresholds']\n",
    "        # angles = npulsecalib.data['angles']\n",
    "        # ge_avgs = npulsecalib.data['ge_avgs']\n",
    "        # counts_calib = npulsecalib.data['counts_calib']"
   ]
  },
  {
   "cell_type": "code",
   "execution_count": null,
   "metadata": {},
   "outputs": [],
   "source": [
    "data_name = \"amps\"\n",
    "\n",
    "for q in range(2):\n",
    "    plt.figure()\n",
    "    for i_npulses, npulses in enumerate(train_lens):\n",
    "        plt.plot(len_sweep, train_expt.data[data_name][q, i_npulses, :], '.-', label=f'{npulses} pulses')\n",
    "    plt.xlabel(\"Swap Length [us]\")\n",
    "    plt.ylabel(data_name)\n",
    "    plt.legend()\n",
    "    plt.title(f\"Q{train_expt.cfg.expt.qubits[q]} {data_name}\")\n",
    "    # plt.axvline(0.425)\n",
    "    plt.show()\n"
   ]
  },
  {
   "cell_type": "code",
   "execution_count": 150,
   "metadata": {},
   "outputs": [
    {
     "name": "stdout",
     "output_type": "stream",
     "text": [
      "S:\\QRAM\\qram_4QR2\\data\\data_241025\\00002_eggf_train_Q21.h5\n"
     ]
    }
   ],
   "source": [
    "print(train_expt.save_data())"
   ]
  },
  {
   "cell_type": "markdown",
   "metadata": {},
   "source": [
    "## Amplitude Rabi eg-gf single sweep"
   ]
  },
  {
   "cell_type": "code",
   "execution_count": null,
   "metadata": {},
   "outputs": [],
   "source": [
    "amprabiEgGf = meas.AmplitudeRabiEgGfExperiment(\n",
    "    soccfg=soc,\n",
    "    path=expt_path,\n",
    "    prefix=f\"amp_rabi_EgGf_qubit{qubits[0]}{qubits[1]}\",\n",
    "    config_file=config_path,\n",
    ")\n",
    "\n",
    "span = 1000\n",
    "npts = 101\n",
    "   \n",
    "amprabiEgGf.cfg.expt = dict(\n",
    "    start=0, # qubit gain [dac level]\n",
    "    step=int(span/npts), # [dac level]\n",
    "    expts=npts,\n",
    "    # step=0.001,\n",
    "    rounds=10,\n",
    "    reps=500,\n",
    "    # pi_EgGf_sigma=0.600, # gaussian sigma/const pulse length, overrides config [us]\n",
    "    pulse_type='const',\n",
    "    qubits=qubits,\n",
    "    singleshot=False,\n",
    ")\n",
    "\n",
    "# amprabiEgGf.cfg.device.readout.readout_length = [15, 15] # [us]\n",
    "# amprabiEgGf.cfg.device.readout.relax_delay = [600, 50] # Wait time between experiments [us]\n",
    "\n",
    "print(amprabiEgGf.cfg)\n",
    "\n",
    "try:\n",
    "    amprabiEgGf.go(analyze=False, display=False, progress=True, save=False)\n",
    "except Exception:\n",
    "    print(\"Pyro traceback:\")\n",
    "    print(\"\".join(Pyro4.util.getPyroTraceback()))"
   ]
  },
  {
   "cell_type": "code",
   "execution_count": null,
   "metadata": {},
   "outputs": [],
   "source": [
    "# # TESTING\n",
    "# amprabiEgGf = meas.AmplitudeRabiEgGfExperiment(config_file=config_path)\n",
    "# amprabiEgGf.cfg.expt = dict(sigma_test=0.400, singleshot=False,)\n",
    "# temp_data, attrs = prev_data(expt_path, '00000_amp_rabi_EgGf_qubit01.h5')\n",
    "# data = amprabiEgGf.analyze(data=temp_data, fit=True)\n",
    "# amprabiEgGf.display(data=data, fit=True)\n",
    "\n",
    "# # apply mask onto data\n",
    "# temp_data = dict()\n",
    "# for key, value in amprabiEgGf.data.items():\n",
    "#     if len(np.shape(value)) > 1:\n",
    "#         temp_data.update({key:np.array([value[0][:50], value[1][:50]])})\n",
    "#     else: temp_data.update({key:value[:50]})\n",
    "\n",
    "amprabiEgGf.analyze(data=None, fit=True)\n",
    "amprabiEgGf.display(data=None, fit=False)"
   ]
  },
  {
   "cell_type": "code",
   "execution_count": null,
   "metadata": {},
   "outputs": [],
   "source": [
    "amprabiEgGf.save_data()"
   ]
  },
  {
   "cell_type": "code",
   "execution_count": null,
   "metadata": {},
   "outputs": [],
   "source": [
    "prog = amprabiEgGf.prog\n",
    "shot_avg = 10\n",
    "threshold = amprabiEgGf.cfg.device.readout.threshold\n",
    "bufi = np.array([prog.di_buf[i] for i, ch in enumerate(prog.ro_chs)])\n",
    "avgi = []\n",
    "for bufi_ch in bufi:\n",
    "    # drop extra shots that aren't divisible into averages\n",
    "    new_bufi_ch = bufi_ch[:len(bufi_ch) - (len(bufi_ch) % shot_avg)]\n",
    "    # average over shots_avg number of consecutive shots\n",
    "    new_bufi_ch = np.reshape(new_bufi_ch, (len(new_bufi_ch)//shot_avg, shot_avg))\n",
    "    new_bufi_ch = np.average(new_bufi_ch, axis=1)\n",
    "    avgi.append(new_bufi_ch)\n",
    "avgi = np.array(avgi)\n",
    "shots = np.array([np.heaviside(avgi[i]/prog.ro_chs[ch].length-threshold[i], 0) for i, ch in enumerate(prog.ro_chs)])\n",
    "\n",
    "qubits = prog.cfg.expt.qubits\n",
    "# get the shots for the qubits we care about\n",
    "shots = np.array([shots[prog.adc_chs[q]] for q in qubits])\n",
    "\n",
    "# data is returned as n00, n01, n10, n11 measured for the two qubits\n",
    "n00 = np.sum(np.logical_and(np.logical_not(shots[0]), np.logical_not(shots[1])))\n",
    "n01 = np.sum(np.logical_and(np.logical_not(shots[0]), shots[1]))\n",
    "n10 = np.sum(np.logical_and(shots[0], np.logical_not(shots[1])))\n",
    "n11 = np.sum(np.logical_and(shots[0], shots[1]))\n",
    "print(n00, n01, n10, n11)"
   ]
  },
  {
   "cell_type": "markdown",
   "metadata": {},
   "source": [
    "## [Auto2] Optimal amplitude sweep with freq + len calibration"
   ]
  },
  {
   "cell_type": "code",
   "execution_count": 131,
   "metadata": {},
   "outputs": [
    {
     "name": "stdout",
     "output_type": "stream",
     "text": [
      "gain_sweep\n",
      " [ 7000.          7735.29411765  8470.58823529  9205.88235294\n",
      "  9941.17647059 10676.47058824 11411.76470588 12147.05882353\n",
      " 12882.35294118 13617.64705882 14352.94117647 15088.23529412\n",
      " 15823.52941176 16558.82352941 17294.11764706 18029.41176471\n",
      " 18764.70588235 19500.         20235.29411765 20970.58823529\n",
      " 21705.88235294 22441.17647059 23176.47058824 23911.76470588\n",
      " 24647.05882353 25382.35294118 26117.64705882 26852.94117647\n",
      " 27588.23529412 28323.52941176 29058.82352941 29794.11764706\n",
      " 30529.41176471 31264.70588235 32000.        ]\n",
      "max len for each gain (us)\n",
      " [1.5        1.46779412 1.43558824 1.40338235 1.37117647 1.33897059\n",
      " 1.30676471 1.27455882 1.24235294 1.21014706 1.17794118 1.14573529\n",
      " 1.11352941 1.08132353 1.04911765 1.01691176 0.98470588 0.9525\n",
      " 0.92029412 0.88808824 0.85588235 0.82367647 0.79147059 0.75926471\n",
      " 0.72705882 0.69485294 0.66264706 0.63044118 0.59823529 0.56602941\n",
      " 0.53382353 0.50161765 0.46941176 0.43720588 0.405     ]\n",
      "approx freq for each gain\n",
      " [5147.83726019 5147.71066973 5147.57188972 5147.42092016 5147.25776107\n",
      " 5147.08241243 5146.89487425 5146.69514652 5146.48322925 5146.25912244\n",
      " 5146.02282609 5145.77434019 5145.51366475 5145.24079977 5144.95574524\n",
      " 5144.65850117 5144.34906756 5144.0274444  5143.69363171 5143.34762946\n",
      " 5142.98943768 5142.61905635 5142.23648548 5141.84172507 5141.43477511\n",
      " 5141.01563561 5140.58430657 5140.14078798 5139.68507986 5139.21718218\n",
      " 5138.73709497 5138.24481821 5137.74035191 5137.22369607 5136.69485068]\n",
      "qubits [3, 1]\n"
     ]
    }
   ],
   "source": [
    "npts = 35\n",
    "\n",
    "gain_sweep = np.linspace(7000, 32000, npts) # Q3/Q1\n",
    "# gain_sweep = np.linspace(5000, 30000, npts) # Q2/Q1\n",
    "print('gain_sweep\\n', gain_sweep)\n",
    "\n",
    "len_approx_gains = 1.5*np.linspace(1.00, 0.270, npts) # Q3/Q1\n",
    "# len_approx_gains = 1.5*np.linspace(1.5, 0.300, npts) # Q2/Q1\n",
    "print('max len for each gain (us)\\n', len_approx_gains)\n",
    "\n",
    "freq_approx_gains = meas.fitting.quadraticfunc(gain_sweep, *p)\n",
    "\n",
    "print('approx freq for each gain\\n', freq_approx_gains)\n",
    "print('qubits', qubits)\n",
    "\n",
    "opt_lens = []\n",
    "opt_freqs = []\n",
    "saved_files = []\n",
    "save_files = True\n",
    "\n",
    "# opt_fit_index = 1 # index of [QA I, QA Q, QB I, QB Q] to use as saved optimal\n",
    "signs = [1, 1, 1, 1] # whether the period occurs at the max (1) or min (-1)\n",
    "\n",
    "opt_fit_index = 0 # index of [QA amps, QB amps] to use as saved optimal"
   ]
  },
  {
   "cell_type": "code",
   "execution_count": 131,
   "metadata": {},
   "outputs": [
    {
     "name": "stdout",
     "output_type": "stream",
     "text": [
      "gain 15088 stop_len 0.44879889395723266 approx freq 5146.504052659203\n"
     ]
    },
    {
     "data": {
      "application/vnd.jupyter.widget-view+json": {
       "model_id": "1e366c1334a44c9ea60ece217fe6274b",
       "version_major": 2,
       "version_minor": 0
      },
      "text/plain": [
       "  0%|          | 0/20 [00:00<?, ?it/s]"
      ]
     },
     "metadata": {},
     "output_type": "display_data"
    },
    {
     "name": "stdout",
     "output_type": "stream",
     "text": [
      "Saving S:\\QRAM\\qram_4QR2\\data\\data_241025\\00001_rabi_EgGf_freqlen_chevron_qubit31.h5\n",
      "Attempted to init fitparam 1 to 12.533453347895332, which is out of bounds 0.4456338968140563 to 11.140847420351406. Instead init to 5.793240658582731\n",
      "Attempted to init fitparam 1 to 12.533453347895332, which is out of bounds 0.4456338968140563 to 11.140847420351406. Instead init to 5.793240658582731\n",
      "Attempted to init fitparam 1 to 12.533453347895332, which is out of bounds 0.4456338968140563 to 11.140847420351406. Instead init to 5.793240658582731\n",
      "Attempted to init fitparam 1 to 12.533453347895332, which is out of bounds 0.4456338968140563 to 11.140847420351406. Instead init to 5.793240658582731\n",
      "Attempted to init fitparam 1 to 14.62236223921122, which is out of bounds 0.4456338968140563 to 11.140847420351406. Instead init to 5.793240658582731\n",
      "Attempted to init fitparam 1 to 12.533453347895332, which is out of bounds 0.4456338968140563 to 11.140847420351406. Instead init to 5.793240658582731\n",
      "Attempted to init fitparam 1 to 12.533453347895332, which is out of bounds 0.4456338968140563 to 11.140847420351406. Instead init to 5.793240658582731\n",
      "Attempted to init fitparam 1 to 12.533453347895332, which is out of bounds 0.4456338968140563 to 11.140847420351406. Instead init to 5.793240658582731\n",
      "Attempted to init fitparam 1 to 12.533453347895332, which is out of bounds 0.4456338968140563 to 11.140847420351406. Instead init to 5.793240658582731\n",
      "Attempted to init fitparam 1 to 14.62236223921122, which is out of bounds 0.4456338968140563 to 11.140847420351406. Instead init to 5.793240658582731\n",
      "Attempted to init fitparam 1 to 16.71127113052711, which is out of bounds 0.4456338968140563 to 11.140847420351406. Instead init to 5.793240658582731\n",
      "Attempted to init fitparam 1 to 14.62236223921122, which is out of bounds 0.4456338968140563 to 11.140847420351406. Instead init to 5.793240658582731\n",
      "Attempted to init fitparam 1 to 16.71127113052711, which is out of bounds 0.4456338968140563 to 11.140847420351406. Instead init to 5.793240658582731\n",
      "Attempted to init fitparam 1 to 16.71127113052711, which is out of bounds 0.4456338968140563 to 11.140847420351406. Instead init to 5.793240658582731\n",
      "Attempted to init fitparam 1 to 16.71127113052711, which is out of bounds 0.4456338968140563 to 11.140847420351406. Instead init to 5.793240658582731\n",
      "Attempted to init fitparam 1 to 16.71127113052711, which is out of bounds 0.4456338968140563 to 11.140847420351406. Instead init to 5.793240658582731\n",
      "Attempted to init fitparam 1 to 12.533453347895332, which is out of bounds 0.4456338968140563 to 11.140847420351406. Instead init to 5.793240658582731\n",
      "Attempted to init fitparam 1 to 14.62236223921122, which is out of bounds 0.4456338968140563 to 11.140847420351406. Instead init to 5.793240658582731\n",
      "Attempted to init fitparam 1 to 12.533453347895332, which is out of bounds 0.4456338968140563 to 11.140847420351406. Instead init to 5.793240658582731\n"
     ]
    },
    {
     "name": "stderr",
     "output_type": "stream",
     "text": [
      "RuntimeWarning: More than 20 figures have been opened. Figures created through the pyplot interface (`matplotlib.pyplot.figure`) are retained until explicitly closed and may consume too much memory. (To control this warning, see the rcParam `figure.max_open_warning`). Consider using `matplotlib.pyplot.close()`.\n",
      " s:\\Connie\\experiments\\qram_tprocv1_expts\\experiments\\two_qubit\\length_rabi_EgGf.py: 2031"
     ]
    },
    {
     "name": "stdout",
     "output_type": "stream",
     "text": [
      "opt freq 5146.879052659203 opt len 0.3590391151657861\n"
     ]
    }
   ],
   "source": [
    "for gain, stop_len, approx_freq in zip(gain_sweep, len_approx_gains, freq_approx_gains):\n",
    "    # if gain < 27900: continue\n",
    "    print('gain', gain, 'stop_len', stop_len, 'approx freq', approx_freq)\n",
    "    rabiEgGfFreqLenChevron = meas.EgGfFreqLenChevronExperiment(\n",
    "        soccfg=soc,\n",
    "        path=expt_path,\n",
    "        prefix=f\"rabi_EgGf_freqlen_chevron_qubit{qubits[0]}{qubits[1]}\",\n",
    "        config_file=config_path,\n",
    "    )\n",
    "\n",
    "    span_f = 2.5 # MHz\n",
    "    npts_f = 20\n",
    "    # npts_f = 60\n",
    "\n",
    "    start_len = 0\n",
    "    span_len = stop_len - start_len\n",
    "    npts_len = 15\n",
    "    \n",
    "    rabiEgGfFreqLenChevron.cfg.expt = dict(\n",
    "        start_f=approx_freq - 0.5*span_f, # start freq [MHz],\n",
    "        step_f=span_f/npts_f, # freq step, \n",
    "        expts_f=npts_f, # number of different freq experiments, \n",
    "        start_len=start_len, # pulse length (sigma) [us]\n",
    "        step_len=span_len/npts_len, # [us]\n",
    "        expts_len=npts_len+1,\n",
    "        gain=int(gain),\n",
    "        reps=800,\n",
    "        # reps=2000,\n",
    "        # reps=10,\n",
    "        pulse_type='flat_top',\n",
    "        measure_f=None,\n",
    "        post_process=None,\n",
    "        init_state=init_state,\n",
    "        qDrive=qDrive,\n",
    "        qubits=qubits,\n",
    "        measure_qubits=measure_qubits,\n",
    "    )\n",
    "\n",
    "    success = False\n",
    "    while not success:\n",
    "        try:\n",
    "            rabiEgGfFreqLenChevron.go(analyze=False, display=False, progress=True, save=False)\n",
    "            success = True\n",
    "        except Exception:\n",
    "            print(\"Pyro traceback:\")\n",
    "            print(\"\".join(Pyro4.util.getPyroTraceback()))\n",
    "\n",
    "    if save_files: saved_files.append(rabiEgGfFreqLenChevron.save_data())\n",
    "    data = rabiEgGfFreqLenChevron.analyze(data=None)\n",
    "    plot_freqs, plot_lens = rabiEgGfFreqLenChevron.display(data=data, fit=True, signs=signs, verbose=False)\n",
    "\n",
    "    opt_freqs.append(plot_freqs[opt_fit_index])\n",
    "    opt_lens.append(plot_lens[opt_fit_index])\n",
    "    print('opt freq', opt_freqs[-1], 'opt len', opt_lens[-1])"
   ]
  },
  {
   "cell_type": "code",
   "execution_count": null,
   "metadata": {},
   "outputs": [],
   "source": [
    "print(saved_files)"
   ]
  },
  {
   "cell_type": "code",
   "execution_count": 62,
   "metadata": {},
   "outputs": [
    {
     "name": "stdout",
     "output_type": "stream",
     "text": [
      "gain sweep\n",
      " [5000.0, 5862.068965517241, 6724.137931034483, 7586.206896551725, 8448.275862068966, 9310.344827586207, 10172.41379310345, 11034.48275862069, 11896.551724137931, 12758.620689655172, 13620.689655172413, 14482.758620689656, 15344.827586206897, 16206.896551724138, 17068.96551724138, 17931.034482758623, 18793.103448275862, 19655.1724137931, 20517.241379310344, 21379.310344827587, 22241.379310344826, 23103.44827586207, 23965.51724137931, 24827.58620689655, 25689.655172413793, 26551.724137931036, 27413.793103448275, 28275.862068965518, 29137.93103448276, 30000.0]\n",
      "optimal lens\n",
      " [1.5, 1.3127586206896553, 1.133793103448276, 0.963103448275862]\n",
      "optimal freqs\n",
      " [5885.5, 5885.452586206897, 5885.4051724137935, 5885.357758620689]\n",
      "saved files\n",
      " ['S:\\\\QRAM\\\\qram_4QR2\\\\data\\\\data_241007\\\\00030_rabi_EgGf_freqlen_chevron_qubit21.h5', 'S:\\\\QRAM\\\\qram_4QR2\\\\data\\\\data_241007\\\\00031_rabi_EgGf_freqlen_chevron_qubit21.h5', 'S:\\\\QRAM\\\\qram_4QR2\\\\data\\\\data_241007\\\\00032_rabi_EgGf_freqlen_chevron_qubit21.h5', 'S:\\\\QRAM\\\\qram_4QR2\\\\data\\\\data_241007\\\\00033_rabi_EgGf_freqlen_chevron_qubit21.h5']\n"
     ]
    },
    {
     "ename": "ValueError",
     "evalue": "x and y must have same first dimension, but have shapes (30,) and (4,)",
     "output_type": "error",
     "traceback": [
      "\u001b[1;31m---------------------------------------------------------------------------\u001b[0m",
      "\u001b[1;31mValueError\u001b[0m                                Traceback (most recent call last)",
      "\u001b[1;32m~\\AppData\\Local\\Temp\\ipykernel_18852\\2772900708.py\u001b[0m in \u001b[0;36m<module>\u001b[1;34m\u001b[0m\n\u001b[0;32m      4\u001b[0m \u001b[0mprint\u001b[0m\u001b[1;33m(\u001b[0m\u001b[1;34m'saved files\\n'\u001b[0m\u001b[1;33m,\u001b[0m \u001b[0msaved_files\u001b[0m\u001b[1;33m)\u001b[0m\u001b[1;33m\u001b[0m\u001b[1;33m\u001b[0m\u001b[0m\n\u001b[0;32m      5\u001b[0m \u001b[1;33m\u001b[0m\u001b[0m\n\u001b[1;32m----> 6\u001b[1;33m \u001b[0mplt\u001b[0m\u001b[1;33m.\u001b[0m\u001b[0mplot\u001b[0m\u001b[1;33m(\u001b[0m\u001b[0mgain_sweep\u001b[0m\u001b[1;33m,\u001b[0m \u001b[0mopt_lens\u001b[0m\u001b[1;33m,\u001b[0m \u001b[1;34m'.-'\u001b[0m\u001b[1;33m)\u001b[0m\u001b[1;33m\u001b[0m\u001b[1;33m\u001b[0m\u001b[0m\n\u001b[0m\u001b[0;32m      7\u001b[0m \u001b[0mplt\u001b[0m\u001b[1;33m.\u001b[0m\u001b[0mxlabel\u001b[0m\u001b[1;33m(\u001b[0m\u001b[1;34m'Gain'\u001b[0m\u001b[1;33m)\u001b[0m\u001b[1;33m\u001b[0m\u001b[1;33m\u001b[0m\u001b[0m\n\u001b[0;32m      8\u001b[0m \u001b[0mplt\u001b[0m\u001b[1;33m.\u001b[0m\u001b[0mylabel\u001b[0m\u001b[1;33m(\u001b[0m\u001b[1;34m'Length (us)'\u001b[0m\u001b[1;33m)\u001b[0m\u001b[1;33m\u001b[0m\u001b[1;33m\u001b[0m\u001b[0m\n",
      "\u001b[1;32m~\\AppData\\Roaming\\Python\\Python39\\site-packages\\matplotlib\\pyplot.py\u001b[0m in \u001b[0;36mplot\u001b[1;34m(scalex, scaley, data, *args, **kwargs)\u001b[0m\n\u001b[0;32m   2810\u001b[0m \u001b[1;33m@\u001b[0m\u001b[0m_copy_docstring_and_deprecators\u001b[0m\u001b[1;33m(\u001b[0m\u001b[0mAxes\u001b[0m\u001b[1;33m.\u001b[0m\u001b[0mplot\u001b[0m\u001b[1;33m)\u001b[0m\u001b[1;33m\u001b[0m\u001b[1;33m\u001b[0m\u001b[0m\n\u001b[0;32m   2811\u001b[0m \u001b[1;32mdef\u001b[0m \u001b[0mplot\u001b[0m\u001b[1;33m(\u001b[0m\u001b[1;33m*\u001b[0m\u001b[0margs\u001b[0m\u001b[1;33m,\u001b[0m \u001b[0mscalex\u001b[0m\u001b[1;33m=\u001b[0m\u001b[1;32mTrue\u001b[0m\u001b[1;33m,\u001b[0m \u001b[0mscaley\u001b[0m\u001b[1;33m=\u001b[0m\u001b[1;32mTrue\u001b[0m\u001b[1;33m,\u001b[0m \u001b[0mdata\u001b[0m\u001b[1;33m=\u001b[0m\u001b[1;32mNone\u001b[0m\u001b[1;33m,\u001b[0m \u001b[1;33m**\u001b[0m\u001b[0mkwargs\u001b[0m\u001b[1;33m)\u001b[0m\u001b[1;33m:\u001b[0m\u001b[1;33m\u001b[0m\u001b[1;33m\u001b[0m\u001b[0m\n\u001b[1;32m-> 2812\u001b[1;33m     return gca().plot(\n\u001b[0m\u001b[0;32m   2813\u001b[0m         \u001b[1;33m*\u001b[0m\u001b[0margs\u001b[0m\u001b[1;33m,\u001b[0m \u001b[0mscalex\u001b[0m\u001b[1;33m=\u001b[0m\u001b[0mscalex\u001b[0m\u001b[1;33m,\u001b[0m \u001b[0mscaley\u001b[0m\u001b[1;33m=\u001b[0m\u001b[0mscaley\u001b[0m\u001b[1;33m,\u001b[0m\u001b[1;33m\u001b[0m\u001b[1;33m\u001b[0m\u001b[0m\n\u001b[0;32m   2814\u001b[0m         **({\"data\": data} if data is not None else {}), **kwargs)\n",
      "\u001b[1;32m~\\AppData\\Roaming\\Python\\Python39\\site-packages\\matplotlib\\axes\\_axes.py\u001b[0m in \u001b[0;36mplot\u001b[1;34m(self, scalex, scaley, data, *args, **kwargs)\u001b[0m\n\u001b[0;32m   1686\u001b[0m         \"\"\"\n\u001b[0;32m   1687\u001b[0m         \u001b[0mkwargs\u001b[0m \u001b[1;33m=\u001b[0m \u001b[0mcbook\u001b[0m\u001b[1;33m.\u001b[0m\u001b[0mnormalize_kwargs\u001b[0m\u001b[1;33m(\u001b[0m\u001b[0mkwargs\u001b[0m\u001b[1;33m,\u001b[0m \u001b[0mmlines\u001b[0m\u001b[1;33m.\u001b[0m\u001b[0mLine2D\u001b[0m\u001b[1;33m)\u001b[0m\u001b[1;33m\u001b[0m\u001b[1;33m\u001b[0m\u001b[0m\n\u001b[1;32m-> 1688\u001b[1;33m         \u001b[0mlines\u001b[0m \u001b[1;33m=\u001b[0m \u001b[1;33m[\u001b[0m\u001b[1;33m*\u001b[0m\u001b[0mself\u001b[0m\u001b[1;33m.\u001b[0m\u001b[0m_get_lines\u001b[0m\u001b[1;33m(\u001b[0m\u001b[1;33m*\u001b[0m\u001b[0margs\u001b[0m\u001b[1;33m,\u001b[0m \u001b[0mdata\u001b[0m\u001b[1;33m=\u001b[0m\u001b[0mdata\u001b[0m\u001b[1;33m,\u001b[0m \u001b[1;33m**\u001b[0m\u001b[0mkwargs\u001b[0m\u001b[1;33m)\u001b[0m\u001b[1;33m]\u001b[0m\u001b[1;33m\u001b[0m\u001b[1;33m\u001b[0m\u001b[0m\n\u001b[0m\u001b[0;32m   1689\u001b[0m         \u001b[1;32mfor\u001b[0m \u001b[0mline\u001b[0m \u001b[1;32min\u001b[0m \u001b[0mlines\u001b[0m\u001b[1;33m:\u001b[0m\u001b[1;33m\u001b[0m\u001b[1;33m\u001b[0m\u001b[0m\n\u001b[0;32m   1690\u001b[0m             \u001b[0mself\u001b[0m\u001b[1;33m.\u001b[0m\u001b[0madd_line\u001b[0m\u001b[1;33m(\u001b[0m\u001b[0mline\u001b[0m\u001b[1;33m)\u001b[0m\u001b[1;33m\u001b[0m\u001b[1;33m\u001b[0m\u001b[0m\n",
      "\u001b[1;32m~\\AppData\\Roaming\\Python\\Python39\\site-packages\\matplotlib\\axes\\_base.py\u001b[0m in \u001b[0;36m__call__\u001b[1;34m(self, data, *args, **kwargs)\u001b[0m\n\u001b[0;32m    309\u001b[0m                 \u001b[0mthis\u001b[0m \u001b[1;33m+=\u001b[0m \u001b[0margs\u001b[0m\u001b[1;33m[\u001b[0m\u001b[1;36m0\u001b[0m\u001b[1;33m]\u001b[0m\u001b[1;33m,\u001b[0m\u001b[1;33m\u001b[0m\u001b[1;33m\u001b[0m\u001b[0m\n\u001b[0;32m    310\u001b[0m                 \u001b[0margs\u001b[0m \u001b[1;33m=\u001b[0m \u001b[0margs\u001b[0m\u001b[1;33m[\u001b[0m\u001b[1;36m1\u001b[0m\u001b[1;33m:\u001b[0m\u001b[1;33m]\u001b[0m\u001b[1;33m\u001b[0m\u001b[1;33m\u001b[0m\u001b[0m\n\u001b[1;32m--> 311\u001b[1;33m             yield from self._plot_args(\n\u001b[0m\u001b[0;32m    312\u001b[0m                 this, kwargs, ambiguous_fmt_datakey=ambiguous_fmt_datakey)\n\u001b[0;32m    313\u001b[0m \u001b[1;33m\u001b[0m\u001b[0m\n",
      "\u001b[1;32m~\\AppData\\Roaming\\Python\\Python39\\site-packages\\matplotlib\\axes\\_base.py\u001b[0m in \u001b[0;36m_plot_args\u001b[1;34m(self, tup, kwargs, return_kwargs, ambiguous_fmt_datakey)\u001b[0m\n\u001b[0;32m    502\u001b[0m \u001b[1;33m\u001b[0m\u001b[0m\n\u001b[0;32m    503\u001b[0m         \u001b[1;32mif\u001b[0m \u001b[0mx\u001b[0m\u001b[1;33m.\u001b[0m\u001b[0mshape\u001b[0m\u001b[1;33m[\u001b[0m\u001b[1;36m0\u001b[0m\u001b[1;33m]\u001b[0m \u001b[1;33m!=\u001b[0m \u001b[0my\u001b[0m\u001b[1;33m.\u001b[0m\u001b[0mshape\u001b[0m\u001b[1;33m[\u001b[0m\u001b[1;36m0\u001b[0m\u001b[1;33m]\u001b[0m\u001b[1;33m:\u001b[0m\u001b[1;33m\u001b[0m\u001b[1;33m\u001b[0m\u001b[0m\n\u001b[1;32m--> 504\u001b[1;33m             raise ValueError(f\"x and y must have same first dimension, but \"\n\u001b[0m\u001b[0;32m    505\u001b[0m                              f\"have shapes {x.shape} and {y.shape}\")\n\u001b[0;32m    506\u001b[0m         \u001b[1;32mif\u001b[0m \u001b[0mx\u001b[0m\u001b[1;33m.\u001b[0m\u001b[0mndim\u001b[0m \u001b[1;33m>\u001b[0m \u001b[1;36m2\u001b[0m \u001b[1;32mor\u001b[0m \u001b[0my\u001b[0m\u001b[1;33m.\u001b[0m\u001b[0mndim\u001b[0m \u001b[1;33m>\u001b[0m \u001b[1;36m2\u001b[0m\u001b[1;33m:\u001b[0m\u001b[1;33m\u001b[0m\u001b[1;33m\u001b[0m\u001b[0m\n",
      "\u001b[1;31mValueError\u001b[0m: x and y must have same first dimension, but have shapes (30,) and (4,)"
     ]
    },
    {
     "data": {
      "application/pdf": "[encoded data removed]",
      "image/svg+xml": [
       "<?xml version=\"1.0\" encoding=\"utf-8\" standalone=\"no\"?>\n",
       "<!DOCTYPE svg PUBLIC \"-//W3C//DTD SVG 1.1//EN\"\n",
       "  \"http://www.w3.org/Graphics/SVG/1.1/DTD/svg11.dtd\">\n",
       "<svg xmlns:xlink=\"http://www.w3.org/1999/xlink\" width=\"402.374687pt\" height=\"300.989344pt\" viewBox=\"0 0 402.374687 300.989344\" xmlns=\"http://www.w3.org/2000/svg\" version=\"1.1\">\n",
       " <metadata>\n",
       "  <rdf:RDF xmlns:dc=\"http://purl.org/dc/elements/1.1/\" xmlns:cc=\"http://creativecommons.org/ns#\" xmlns:rdf=\"http://www.w3.org/1999/02/22-rdf-syntax-ns#\">\n",
       "   <cc:Work>\n",
       "    <dc:type rdf:resource=\"http://purl.org/dc/dcmitype/StillImage\"/>\n",
       "    <dc:date>2024-10-11T11:02:03.743575</dc:date>\n",
       "    <dc:format>image/svg+xml</dc:format>\n",
       "    <dc:creator>\n",
       "     <cc:Agent>\n",
       "      <dc:title>Matplotlib v3.7.2, https://matplotlib.org/</dc:title>\n",
       "     </cc:Agent>\n",
       "    </dc:creator>\n",
       "   </cc:Work>\n",
       "  </rdf:RDF>\n",
       " </metadata>\n",
       " <defs>\n",
       "  <style type=\"text/css\">*{stroke-linejoin: round; stroke-linecap: butt}</style>\n",
       " </defs>\n",
       " <g id=\"figure_1\">\n",
       "  <g id=\"patch_1\">\n",
       "   <path d=\"M 0 300.989344 \n",
       "L 402.374687 300.989344 \n",
       "L 402.374687 0 \n",
       "L 0 0 \n",
       "z\n",
       "\" style=\"fill: #ffffff\"/>\n",
       "  </g>\n",
       "  <g id=\"axes_1\">\n",
       "   <g id=\"patch_2\">\n",
       "    <path d=\"M 30.103125 277.111219 \n",
       "L 387.223125 277.111219 \n",
       "L 387.223125 10.999219 \n",
       "L 30.103125 10.999219 \n",
       "z\n",
       "\" style=\"fill: #ffffff\"/>\n",
       "   </g>\n",
       "   <g id=\"matplotlib.axis_1\">\n",
       "    <g id=\"xtick_1\">\n",
       "     <g id=\"line2d_1\">\n",
       "      <defs>\n",
       "       <path id=\"m79935ca2aa\" d=\"M 0 0 \n",
       "L 0 3.5 \n",
       "\" style=\"stroke: #000000; stroke-width: 0.8\"/>\n",
       "      </defs>\n",
       "      <g>\n",
       "       <use xlink:href=\"#m79935ca2aa\" x=\"30.103125\" y=\"277.111219\" style=\"stroke: #000000; stroke-width: 0.8\"/>\n",
       "      </g>\n",
       "     </g>\n",
       "     <g id=\"text_1\">\n",
       "      <!-- 0.0 -->\n",
       "      <g transform=\"translate(22.151563 291.709656) scale(0.1 -0.1)\">\n",
       "       <defs>\n",
       "        <path id=\"DejaVuSans-30\" d=\"M 2034 4250 \n",
       "Q 1547 4250 1301 3770 \n",
       "Q 1056 3291 1056 2328 \n",
       "Q 1056 1369 1301 889 \n",
       "Q 1547 409 2034 409 \n",
       "Q 2525 409 2770 889 \n",
       "Q 3016 1369 3016 2328 \n",
       "Q 3016 3291 2770 3770 \n",
       "Q 2525 4250 2034 4250 \n",
       "z\n",
       "M 2034 4750 \n",
       "Q 2819 4750 3233 4129 \n",
       "Q 3647 3509 3647 2328 \n",
       "Q 3647 1150 3233 529 \n",
       "Q 2819 -91 2034 -91 \n",
       "Q 1250 -91 836 529 \n",
       "Q 422 1150 422 2328 \n",
       "Q 422 3509 836 4129 \n",
       "Q 1250 4750 2034 4750 \n",
       "z\n",
       "\" transform=\"scale(0.015625)\"/>\n",
       "        <path id=\"DejaVuSans-2e\" d=\"M 684 794 \n",
       "L 1344 794 \n",
       "L 1344 0 \n",
       "L 684 0 \n",
       "L 684 794 \n",
       "z\n",
       "\" transform=\"scale(0.015625)\"/>\n",
       "       </defs>\n",
       "       <use xlink:href=\"#DejaVuSans-30\"/>\n",
       "       <use xlink:href=\"#DejaVuSans-2e\" x=\"63.623047\"/>\n",
       "       <use xlink:href=\"#DejaVuSans-30\" x=\"95.410156\"/>\n",
       "      </g>\n",
       "     </g>\n",
       "    </g>\n",
       "    <g id=\"xtick_2\">\n",
       "     <g id=\"line2d_2\">\n",
       "      <g>\n",
       "       <use xlink:href=\"#m79935ca2aa\" x=\"101.527125\" y=\"277.111219\" style=\"stroke: #000000; stroke-width: 0.8\"/>\n",
       "      </g>\n",
       "     </g>\n",
       "     <g id=\"text_2\">\n",
       "      <!-- 0.2 -->\n",
       "      <g transform=\"translate(93.575563 291.709656) scale(0.1 -0.1)\">\n",
       "       <defs>\n",
       "        <path id=\"DejaVuSans-32\" d=\"M 1228 531 \n",
       "L 3431 531 \n",
       "L 3431 0 \n",
       "L 469 0 \n",
       "L 469 531 \n",
       "Q 828 903 1448 1529 \n",
       "Q 2069 2156 2228 2338 \n",
       "Q 2531 2678 2651 2914 \n",
       "Q 2772 3150 2772 3378 \n",
       "Q 2772 3750 2511 3984 \n",
       "Q 2250 4219 1831 4219 \n",
       "Q 1534 4219 1204 4116 \n",
       "Q 875 4013 500 3803 \n",
       "L 500 4441 \n",
       "Q 881 4594 1212 4672 \n",
       "Q 1544 4750 1819 4750 \n",
       "Q 2544 4750 2975 4387 \n",
       "Q 3406 4025 3406 3419 \n",
       "Q 3406 3131 3298 2873 \n",
       "Q 3191 2616 2906 2266 \n",
       "Q 2828 2175 2409 1742 \n",
       "Q 1991 1309 1228 531 \n",
       "z\n",
       "\" transform=\"scale(0.015625)\"/>\n",
       "       </defs>\n",
       "       <use xlink:href=\"#DejaVuSans-30\"/>\n",
       "       <use xlink:href=\"#DejaVuSans-2e\" x=\"63.623047\"/>\n",
       "       <use xlink:href=\"#DejaVuSans-32\" x=\"95.410156\"/>\n",
       "      </g>\n",
       "     </g>\n",
       "    </g>\n",
       "    <g id=\"xtick_3\">\n",
       "     <g id=\"line2d_3\">\n",
       "      <g>\n",
       "       <use xlink:href=\"#m79935ca2aa\" x=\"172.951125\" y=\"277.111219\" style=\"stroke: #000000; stroke-width: 0.8\"/>\n",
       "      </g>\n",
       "     </g>\n",
       "     <g id=\"text_3\">\n",
       "      <!-- 0.4 -->\n",
       "      <g transform=\"translate(164.999563 291.709656) scale(0.1 -0.1)\">\n",
       "       <defs>\n",
       "        <path id=\"DejaVuSans-34\" d=\"M 2419 4116 \n",
       "L 825 1625 \n",
       "L 2419 1625 \n",
       "L 2419 4116 \n",
       "z\n",
       "M 2253 4666 \n",
       "L 3047 4666 \n",
       "L 3047 1625 \n",
       "L 3713 1625 \n",
       "L 3713 1100 \n",
       "L 3047 1100 \n",
       "L 3047 0 \n",
       "L 2419 0 \n",
       "L 2419 1100 \n",
       "L 313 1100 \n",
       "L 313 1709 \n",
       "L 2253 4666 \n",
       "z\n",
       "\" transform=\"scale(0.015625)\"/>\n",
       "       </defs>\n",
       "       <use xlink:href=\"#DejaVuSans-30\"/>\n",
       "       <use xlink:href=\"#DejaVuSans-2e\" x=\"63.623047\"/>\n",
       "       <use xlink:href=\"#DejaVuSans-34\" x=\"95.410156\"/>\n",
       "      </g>\n",
       "     </g>\n",
       "    </g>\n",
       "    <g id=\"xtick_4\">\n",
       "     <g id=\"line2d_4\">\n",
       "      <g>\n",
       "       <use xlink:href=\"#m79935ca2aa\" x=\"244.375125\" y=\"277.111219\" style=\"stroke: #000000; stroke-width: 0.8\"/>\n",
       "      </g>\n",
       "     </g>\n",
       "     <g id=\"text_4\">\n",
       "      <!-- 0.6 -->\n",
       "      <g transform=\"translate(236.423563 291.709656) scale(0.1 -0.1)\">\n",
       "       <defs>\n",
       "        <path id=\"DejaVuSans-36\" d=\"M 2113 2584 \n",
       "Q 1688 2584 1439 2293 \n",
       "Q 1191 2003 1191 1497 \n",
       "Q 1191 994 1439 701 \n",
       "Q 1688 409 2113 409 \n",
       "Q 2538 409 2786 701 \n",
       "Q 3034 994 3034 1497 \n",
       "Q 3034 2003 2786 2293 \n",
       "Q 2538 2584 2113 2584 \n",
       "z\n",
       "M 3366 4563 \n",
       "L 3366 3988 \n",
       "Q 3128 4100 2886 4159 \n",
       "Q 2644 4219 2406 4219 \n",
       "Q 1781 4219 1451 3797 \n",
       "Q 1122 3375 1075 2522 \n",
       "Q 1259 2794 1537 2939 \n",
       "Q 1816 3084 2150 3084 \n",
       "Q 2853 3084 3261 2657 \n",
       "Q 3669 2231 3669 1497 \n",
       "Q 3669 778 3244 343 \n",
       "Q 2819 -91 2113 -91 \n",
       "Q 1303 -91 875 529 \n",
       "Q 447 1150 447 2328 \n",
       "Q 447 3434 972 4092 \n",
       "Q 1497 4750 2381 4750 \n",
       "Q 2619 4750 2861 4703 \n",
       "Q 3103 4656 3366 4563 \n",
       "z\n",
       "\" transform=\"scale(0.015625)\"/>\n",
       "       </defs>\n",
       "       <use xlink:href=\"#DejaVuSans-30\"/>\n",
       "       <use xlink:href=\"#DejaVuSans-2e\" x=\"63.623047\"/>\n",
       "       <use xlink:href=\"#DejaVuSans-36\" x=\"95.410156\"/>\n",
       "      </g>\n",
       "     </g>\n",
       "    </g>\n",
       "    <g id=\"xtick_5\">\n",
       "     <g id=\"line2d_5\">\n",
       "      <g>\n",
       "       <use xlink:href=\"#m79935ca2aa\" x=\"315.799125\" y=\"277.111219\" style=\"stroke: #000000; stroke-width: 0.8\"/>\n",
       "      </g>\n",
       "     </g>\n",
       "     <g id=\"text_5\">\n",
       "      <!-- 0.8 -->\n",
       "      <g transform=\"translate(307.847562 291.709656) scale(0.1 -0.1)\">\n",
       "       <defs>\n",
       "        <path id=\"DejaVuSans-38\" d=\"M 2034 2216 \n",
       "Q 1584 2216 1326 1975 \n",
       "Q 1069 1734 1069 1313 \n",
       "Q 1069 891 1326 650 \n",
       "Q 1584 409 2034 409 \n",
       "Q 2484 409 2743 651 \n",
       "Q 3003 894 3003 1313 \n",
       "Q 3003 1734 2745 1975 \n",
       "Q 2488 2216 2034 2216 \n",
       "z\n",
       "M 1403 2484 \n",
       "Q 997 2584 770 2862 \n",
       "Q 544 3141 544 3541 \n",
       "Q 544 4100 942 4425 \n",
       "Q 1341 4750 2034 4750 \n",
       "Q 2731 4750 3128 4425 \n",
       "Q 3525 4100 3525 3541 \n",
       "Q 3525 3141 3298 2862 \n",
       "Q 3072 2584 2669 2484 \n",
       "Q 3125 2378 3379 2068 \n",
       "Q 3634 1759 3634 1313 \n",
       "Q 3634 634 3220 271 \n",
       "Q 2806 -91 2034 -91 \n",
       "Q 1263 -91 848 271 \n",
       "Q 434 634 434 1313 \n",
       "Q 434 1759 690 2068 \n",
       "Q 947 2378 1403 2484 \n",
       "z\n",
       "M 1172 3481 \n",
       "Q 1172 3119 1398 2916 \n",
       "Q 1625 2713 2034 2713 \n",
       "Q 2441 2713 2670 2916 \n",
       "Q 2900 3119 2900 3481 \n",
       "Q 2900 3844 2670 4047 \n",
       "Q 2441 4250 2034 4250 \n",
       "Q 1625 4250 1398 4047 \n",
       "Q 1172 3844 1172 3481 \n",
       "z\n",
       "\" transform=\"scale(0.015625)\"/>\n",
       "       </defs>\n",
       "       <use xlink:href=\"#DejaVuSans-30\"/>\n",
       "       <use xlink:href=\"#DejaVuSans-2e\" x=\"63.623047\"/>\n",
       "       <use xlink:href=\"#DejaVuSans-38\" x=\"95.410156\"/>\n",
       "      </g>\n",
       "     </g>\n",
       "    </g>\n",
       "    <g id=\"xtick_6\">\n",
       "     <g id=\"line2d_6\">\n",
       "      <g>\n",
       "       <use xlink:href=\"#m79935ca2aa\" x=\"387.223125\" y=\"277.111219\" style=\"stroke: #000000; stroke-width: 0.8\"/>\n",
       "      </g>\n",
       "     </g>\n",
       "     <g id=\"text_6\">\n",
       "      <!-- 1.0 -->\n",
       "      <g transform=\"translate(379.271562 291.709656) scale(0.1 -0.1)\">\n",
       "       <defs>\n",
       "        <path id=\"DejaVuSans-31\" d=\"M 794 531 \n",
       "L 1825 531 \n",
       "L 1825 4091 \n",
       "L 703 3866 \n",
       "L 703 4441 \n",
       "L 1819 4666 \n",
       "L 2450 4666 \n",
       "L 2450 531 \n",
       "L 3481 531 \n",
       "L 3481 0 \n",
       "L 794 0 \n",
       "L 794 531 \n",
       "z\n",
       "\" transform=\"scale(0.015625)\"/>\n",
       "       </defs>\n",
       "       <use xlink:href=\"#DejaVuSans-31\"/>\n",
       "       <use xlink:href=\"#DejaVuSans-2e\" x=\"63.623047\"/>\n",
       "       <use xlink:href=\"#DejaVuSans-30\" x=\"95.410156\"/>\n",
       "      </g>\n",
       "     </g>\n",
       "    </g>\n",
       "   </g>\n",
       "   <g id=\"matplotlib.axis_2\">\n",
       "    <g id=\"ytick_1\">\n",
       "     <g id=\"line2d_7\">\n",
       "      <defs>\n",
       "       <path id=\"m9a5f55b875\" d=\"M 0 0 \n",
       "L -3.5 0 \n",
       "\" style=\"stroke: #000000; stroke-width: 0.8\"/>\n",
       "      </defs>\n",
       "      <g>\n",
       "       <use xlink:href=\"#m9a5f55b875\" x=\"30.103125\" y=\"277.111219\" style=\"stroke: #000000; stroke-width: 0.8\"/>\n",
       "      </g>\n",
       "     </g>\n",
       "     <g id=\"text_7\">\n",
       "      <!-- 0.0 -->\n",
       "      <g transform=\"translate(7.2 280.910437) scale(0.1 -0.1)\">\n",
       "       <use xlink:href=\"#DejaVuSans-30\"/>\n",
       "       <use xlink:href=\"#DejaVuSans-2e\" x=\"63.623047\"/>\n",
       "       <use xlink:href=\"#DejaVuSans-30\" x=\"95.410156\"/>\n",
       "      </g>\n",
       "     </g>\n",
       "    </g>\n",
       "    <g id=\"ytick_2\">\n",
       "     <g id=\"line2d_8\">\n",
       "      <g>\n",
       "       <use xlink:href=\"#m9a5f55b875\" x=\"30.103125\" y=\"223.888819\" style=\"stroke: #000000; stroke-width: 0.8\"/>\n",
       "      </g>\n",
       "     </g>\n",
       "     <g id=\"text_8\">\n",
       "      <!-- 0.2 -->\n",
       "      <g transform=\"translate(7.2 227.688037) scale(0.1 -0.1)\">\n",
       "       <use xlink:href=\"#DejaVuSans-30\"/>\n",
       "       <use xlink:href=\"#DejaVuSans-2e\" x=\"63.623047\"/>\n",
       "       <use xlink:href=\"#DejaVuSans-32\" x=\"95.410156\"/>\n",
       "      </g>\n",
       "     </g>\n",
       "    </g>\n",
       "    <g id=\"ytick_3\">\n",
       "     <g id=\"line2d_9\">\n",
       "      <g>\n",
       "       <use xlink:href=\"#m9a5f55b875\" x=\"30.103125\" y=\"170.666419\" style=\"stroke: #000000; stroke-width: 0.8\"/>\n",
       "      </g>\n",
       "     </g>\n",
       "     <g id=\"text_9\">\n",
       "      <!-- 0.4 -->\n",
       "      <g transform=\"translate(7.2 174.465637) scale(0.1 -0.1)\">\n",
       "       <use xlink:href=\"#DejaVuSans-30\"/>\n",
       "       <use xlink:href=\"#DejaVuSans-2e\" x=\"63.623047\"/>\n",
       "       <use xlink:href=\"#DejaVuSans-34\" x=\"95.410156\"/>\n",
       "      </g>\n",
       "     </g>\n",
       "    </g>\n",
       "    <g id=\"ytick_4\">\n",
       "     <g id=\"line2d_10\">\n",
       "      <g>\n",
       "       <use xlink:href=\"#m9a5f55b875\" x=\"30.103125\" y=\"117.444019\" style=\"stroke: #000000; stroke-width: 0.8\"/>\n",
       "      </g>\n",
       "     </g>\n",
       "     <g id=\"text_10\">\n",
       "      <!-- 0.6 -->\n",
       "      <g transform=\"translate(7.2 121.243237) scale(0.1 -0.1)\">\n",
       "       <use xlink:href=\"#DejaVuSans-30\"/>\n",
       "       <use xlink:href=\"#DejaVuSans-2e\" x=\"63.623047\"/>\n",
       "       <use xlink:href=\"#DejaVuSans-36\" x=\"95.410156\"/>\n",
       "      </g>\n",
       "     </g>\n",
       "    </g>\n",
       "    <g id=\"ytick_5\">\n",
       "     <g id=\"line2d_11\">\n",
       "      <g>\n",
       "       <use xlink:href=\"#m9a5f55b875\" x=\"30.103125\" y=\"64.221619\" style=\"stroke: #000000; stroke-width: 0.8\"/>\n",
       "      </g>\n",
       "     </g>\n",
       "     <g id=\"text_11\">\n",
       "      <!-- 0.8 -->\n",
       "      <g transform=\"translate(7.2 68.020837) scale(0.1 -0.1)\">\n",
       "       <use xlink:href=\"#DejaVuSans-30\"/>\n",
       "       <use xlink:href=\"#DejaVuSans-2e\" x=\"63.623047\"/>\n",
       "       <use xlink:href=\"#DejaVuSans-38\" x=\"95.410156\"/>\n",
       "      </g>\n",
       "     </g>\n",
       "    </g>\n",
       "    <g id=\"ytick_6\">\n",
       "     <g id=\"line2d_12\">\n",
       "      <g>\n",
       "       <use xlink:href=\"#m9a5f55b875\" x=\"30.103125\" y=\"10.999219\" style=\"stroke: #000000; stroke-width: 0.8\"/>\n",
       "      </g>\n",
       "     </g>\n",
       "     <g id=\"text_12\">\n",
       "      <!-- 1.0 -->\n",
       "      <g transform=\"translate(7.2 14.798437) scale(0.1 -0.1)\">\n",
       "       <use xlink:href=\"#DejaVuSans-31\"/>\n",
       "       <use xlink:href=\"#DejaVuSans-2e\" x=\"63.623047\"/>\n",
       "       <use xlink:href=\"#DejaVuSans-30\" x=\"95.410156\"/>\n",
       "      </g>\n",
       "     </g>\n",
       "    </g>\n",
       "   </g>\n",
       "   <g id=\"patch_3\">\n",
       "    <path d=\"M 30.103125 277.111219 \n",
       "L 30.103125 10.999219 \n",
       "\" style=\"fill: none; stroke: #000000; stroke-width: 0.8; stroke-linejoin: miter; stroke-linecap: square\"/>\n",
       "   </g>\n",
       "   <g id=\"patch_4\">\n",
       "    <path d=\"M 387.223125 277.111219 \n",
       "L 387.223125 10.999219 \n",
       "\" style=\"fill: none; stroke: #000000; stroke-width: 0.8; stroke-linejoin: miter; stroke-linecap: square\"/>\n",
       "   </g>\n",
       "   <g id=\"patch_5\">\n",
       "    <path d=\"M 30.103125 277.111219 \n",
       "L 387.223125 277.111219 \n",
       "\" style=\"fill: none; stroke: #000000; stroke-width: 0.8; stroke-linejoin: miter; stroke-linecap: square\"/>\n",
       "   </g>\n",
       "   <g id=\"patch_6\">\n",
       "    <path d=\"M 30.103125 10.999219 \n",
       "L 387.223125 10.999219 \n",
       "\" style=\"fill: none; stroke: #000000; stroke-width: 0.8; stroke-linejoin: miter; stroke-linecap: square\"/>\n",
       "   </g>\n",
       "  </g>\n",
       " </g>\n",
       "</svg>\n"
      ],
      "text/plain": [
       "<Figure size 640x480 with 1 Axes>"
      ]
     },
     "metadata": {},
     "output_type": "display_data"
    }
   ],
   "source": [
    "print('gain sweep\\n', gain_sweep.tolist())\n",
    "print('optimal lens\\n', opt_lens)\n",
    "print('optimal freqs\\n', opt_freqs)\n",
    "print('saved files\\n', saved_files)\n",
    "\n",
    "plt.plot(gain_sweep, opt_lens, '.-')\n",
    "plt.xlabel('Gain')\n",
    "plt.ylabel('Length (us)')\n",
    "plt.show()\n",
    "\n",
    "plt.plot(gain_sweep, opt_freqs, '.-')\n",
    "plt.xlabel('Gain')\n",
    "plt.ylabel('Frequecy (MHz)')\n",
    "plt.show()\n"
   ]
  },
  {
   "cell_type": "markdown",
   "metadata": {},
   "source": [
    "Replot data above"
   ]
  },
  {
   "cell_type": "code",
   "execution_count": 16,
   "metadata": {},
   "outputs": [],
   "source": [
    "signs = [-1, -1, 1, 1] # whether the period occurs at the max (1) or min (-1)\n",
    "opt_fit_index = 0"
   ]
  },
  {
   "cell_type": "code",
   "execution_count": 17,
   "metadata": {},
   "outputs": [],
   "source": [
    "# saved_files = [\n",
    "#    's:\\\\Connie\\\\experiments\\\\qramLL_4QR2\\\\data\\\\data_240617\\\\00165_rabi_EgGf_freqlen_chevron_qubit21.h5',\n",
    "#    's:\\\\Connie\\\\experiments\\\\qramLL_4QR2\\\\data\\\\data_240617\\\\00166_rabi_EgGf_freqlen_chevron_qubit21.h5',\n",
    "#    's:\\\\Connie\\\\experiments\\\\qramLL_4QR2\\\\data\\\\data_240617\\\\00167_rabi_EgGf_freqlen_chevron_qubit21.h5',\n",
    "#    's:\\\\Connie\\\\experiments\\\\qramLL_4QR2\\\\data\\\\data_240617\\\\00168_rabi_EgGf_freqlen_chevron_qubit21.h5',\n",
    "#    's:\\\\Connie\\\\experiments\\\\qramLL_4QR2\\\\data\\\\data_240617\\\\00169_rabi_EgGf_freqlen_chevron_qubit21.h5',\n",
    "#    's:\\\\Connie\\\\experiments\\\\qramLL_4QR2\\\\data\\\\data_240617\\\\00170_rabi_EgGf_freqlen_chevron_qubit21.h5',\n",
    "#    's:\\\\Connie\\\\experiments\\\\qramLL_4QR2\\\\data\\\\data_240617\\\\00171_rabi_EgGf_freqlen_chevron_qubit21.h5',\n",
    "#    's:\\\\Connie\\\\experiments\\\\qramLL_4QR2\\\\data\\\\data_240617\\\\00172_rabi_EgGf_freqlen_chevron_qubit21.h5',\n",
    "#    's:\\\\Connie\\\\experiments\\\\qramLL_4QR2\\\\data\\\\data_240617\\\\00173_rabi_EgGf_freqlen_chevron_qubit21.h5',\n",
    "#    's:\\\\Connie\\\\experiments\\\\qramLL_4QR2\\\\data\\\\data_240617\\\\00174_rabi_EgGf_freqlen_chevron_qubit21.h5',\n",
    "#    's:\\\\Connie\\\\experiments\\\\qramLL_4QR2\\\\data\\\\data_240617\\\\00175_rabi_EgGf_freqlen_chevron_qubit21.h5',\n",
    "#    's:\\\\Connie\\\\experiments\\\\qramLL_4QR2\\\\data\\\\data_240617\\\\00176_rabi_EgGf_freqlen_chevron_qubit21.h5',\n",
    "#    's:\\\\Connie\\\\experiments\\\\qramLL_4QR2\\\\data\\\\data_240617\\\\00186_rabi_EgGf_freqlen_chevron_qubit21.h5',\n",
    "#    's:\\\\Connie\\\\experiments\\\\qramLL_4QR2\\\\data\\\\data_240617\\\\00187_rabi_EgGf_freqlen_chevron_qubit21.h5',\n",
    "#    's:\\\\Connie\\\\experiments\\\\qramLL_4QR2\\\\data\\\\data_240617\\\\00188_rabi_EgGf_freqlen_chevron_qubit21.h5',\n",
    "#    's:\\\\Connie\\\\experiments\\\\qramLL_4QR2\\\\data\\\\data_240617\\\\00189_rabi_EgGf_freqlen_chevron_qubit21.h5',\n",
    "#    's:\\\\Connie\\\\experiments\\\\qramLL_4QR2\\\\data\\\\data_240617\\\\00190_rabi_EgGf_freqlen_chevron_qubit21.h5',\n",
    "#    's:\\\\Connie\\\\experiments\\\\qramLL_4QR2\\\\data\\\\data_240617\\\\00191_rabi_EgGf_freqlen_chevron_qubit21.h5',\n",
    "#    's:\\\\Connie\\\\experiments\\\\qramLL_4QR2\\\\data\\\\data_240617\\\\00192_rabi_EgGf_freqlen_chevron_qubit21.h5',\n",
    "#    's:\\\\Connie\\\\experiments\\\\qramLL_4QR2\\\\data\\\\data_240617\\\\00193_rabi_EgGf_freqlen_chevron_qubit21.h5',\n",
    "#    's:\\\\Connie\\\\experiments\\\\qramLL_4QR2\\\\data\\\\data_240617\\\\00194_rabi_EgGf_freqlen_chevron_qubit21.h5',\n",
    "#    's:\\\\Connie\\\\experiments\\\\qramLL_4QR2\\\\data\\\\data_240617\\\\00195_rabi_EgGf_freqlen_chevron_qubit21.h5',\n",
    "#    's:\\\\Connie\\\\experiments\\\\qramLL_4QR2\\\\data\\\\data_240617\\\\00196_rabi_EgGf_freqlen_chevron_qubit21.h5',\n",
    "#    's:\\\\Connie\\\\experiments\\\\qramLL_4QR2\\\\data\\\\data_240617\\\\00197_rabi_EgGf_freqlen_chevron_qubit21.h5',\n",
    "#    's:\\\\Connie\\\\experiments\\\\qramLL_4QR2\\\\data\\\\data_240617\\\\00198_rabi_EgGf_freqlen_chevron_qubit21.h5',\n",
    "# ]\n",
    "\n",
    "gain_sweep = [0]*len(saved_files)\n",
    "opt_freqs = [0]*len(saved_files)\n",
    "opt_lens = [0]*len(saved_files)"
   ]
  },
  {
   "cell_type": "code",
   "execution_count": null,
   "metadata": {},
   "outputs": [],
   "source": [
    "# going through files again to get opt lens, freqs\n",
    "for i_file, saved_file in enumerate(saved_files):\n",
    "    file_name = saved_file.split('\\\\')[-1]\n",
    "    print(file_name)\n",
    "\n",
    "    rabiEgGfLenChevron = meas.EgGfFreqLenChevronExperiment(config_file=config_path)\n",
    "    temp_data, attrs = prev_data(expt_path, file_name)\n",
    "    rabiEgGfLenChevron.cfg.expt = AttrDict(attrs['config']['expt'])\n",
    "    # print(temp_data.keys())\n",
    "\n",
    "    # if file_name != '00013_rabi_EgGf_freqlen_chevron_qubit21.h5': continue\n",
    "    fitparams=[None, 1/temp_data['lenpts'][-1], None, None]\n",
    "\n",
    "    data = rabiEgGfFreqLenChevron.analyze(data=temp_data, fitparams=fitparams)\n",
    "    plot_freqs, plot_lens = rabiEgGfFreqLenChevron.display(data=data, fit=True, signs=signs)\n",
    "\n",
    "    print('gain', rabiEgGfLenChevron.cfg.expt.gain)\n",
    "    print('plot freq', plot_freqs[opt_fit_index])\n",
    "    print('plot len', plot_lens[opt_fit_index])\n",
    "    gain_sweep[i_file] = rabiEgGfLenChevron.cfg.expt.gain\n",
    "    opt_freqs[i_file] = plot_freqs[opt_fit_index]\n",
    "    opt_lens[i_file] = plot_lens[opt_fit_index]"
   ]
  },
  {
   "cell_type": "code",
   "execution_count": null,
   "metadata": {},
   "outputs": [],
   "source": [
    "print('gain sweep\\n', gain_sweep)\n",
    "print('optimal lens\\n', opt_lens)\n",
    "print('optimal freqs\\n', opt_freqs)\n",
    "print('saved files\\n', saved_files)\n",
    "\n",
    "print(len(gain_sweep))\n",
    "print(len(opt_lens))\n",
    "print(len(opt_freqs))\n",
    "\n",
    "plt.plot(gain_sweep, opt_lens, '.-')\n",
    "plt.xlabel('Gain')\n",
    "plt.ylabel('Length (us)')\n",
    "plt.show()\n",
    "\n",
    "plt.plot(gain_sweep, opt_freqs, '.-')\n",
    "plt.xlabel('Gain')\n",
    "plt.ylabel('Frequecy (MHz)')\n",
    "plt.show()\n"
   ]
  },
  {
   "cell_type": "markdown",
   "metadata": {},
   "source": [
    "### Alternative: fine gain vs freq sweep setup"
   ]
  },
  {
   "cell_type": "code",
   "execution_count": null,
   "metadata": {},
   "outputs": [],
   "source": [
    "npts = 15\n",
    "\n",
    "gain_sweep = np.linspace(14000, 18500, npts) # Q3/Q1\n",
    "# gain_sweep = np.linspace(5000, 30000, npts) # Q2/Q1\n",
    "print('gain_sweep\\n', gain_sweep)\n",
    "\n",
    "len_approx_gains = 1.5*np.linspace(0.350, 0.250, npts) # Q3/Q1\n",
    "# len_approx_gains = 1.5*np.linspace(1.00, 0.300, npts) # Q2/Q1\n",
    "print('max len for each gain (us)\\n', len_approx_gains)\n",
    "\n",
    "freq_approx_gains = np.linspace(5148.0, 5145.0, npts) # approx freq for each gain # Q3/Q1\n",
    "# freq_approx_gains = np.linspace(5887.0, 5883, npts) # approx freq for each gain # Q2/Q1\n",
    "\n",
    "print('approx freq for each gain\\n', freq_approx_gains)\n",
    "print('qubits', qubits)\n",
    "\n",
    "opt_lens = len_approx_gains/1.5\n",
    "opt_freqs = []\n",
    "saved_files = []\n",
    "save_files = True"
   ]
  },
  {
   "cell_type": "code",
   "execution_count": 128,
   "metadata": {},
   "outputs": [],
   "source": [
    "len_approx_gains = 1.5*np.array(opt_lens)\n",
    "freq_approx_gains = np.array(opt_freqs)\n",
    "saved_files = []"
   ]
  },
  {
   "cell_type": "code",
   "execution_count": 130,
   "metadata": {
    "collapsed": true,
    "jupyter": {
     "outputs_hidden": true
    },
    "tags": []
   },
   "outputs": [
    {
     "name": "stdout",
     "output_type": "stream",
     "text": [
      "gain 15088 stop_len 0.44879889395723266 approx freq 5146.504052659203\n"
     ]
    },
    {
     "data": {
      "application/vnd.jupyter.widget-view+json": {
       "model_id": "2b99c37b82494882ab132c840e29ec3c",
       "version_major": 2,
       "version_minor": 0
      },
      "text/plain": [
       "  0%|          | 0/21 [00:00<?, ?it/s]"
      ]
     },
     "metadata": {},
     "output_type": "display_data"
    },
    {
     "ename": "KeyboardInterrupt",
     "evalue": "",
     "output_type": "error",
     "traceback": [
      "\u001b[1;31m---------------------------------------------------------------------------\u001b[0m",
      "\u001b[1;31mKeyboardInterrupt\u001b[0m                         Traceback (most recent call last)",
      "\u001b[1;32m~\\AppData\\Local\\Temp\\ipykernel_37540\\3880468854.py\u001b[0m in \u001b[0;36m<module>\u001b[1;34m\u001b[0m\n\u001b[0;32m     47\u001b[0m     \u001b[1;32mwhile\u001b[0m \u001b[1;32mnot\u001b[0m \u001b[0msuccess\u001b[0m\u001b[1;33m:\u001b[0m\u001b[1;33m\u001b[0m\u001b[1;33m\u001b[0m\u001b[0m\n\u001b[0;32m     48\u001b[0m         \u001b[1;32mtry\u001b[0m\u001b[1;33m:\u001b[0m\u001b[1;33m\u001b[0m\u001b[1;33m\u001b[0m\u001b[0m\n\u001b[1;32m---> 49\u001b[1;33m             \u001b[0mrabiEgGfFreqLenChevron\u001b[0m\u001b[1;33m.\u001b[0m\u001b[0mgo\u001b[0m\u001b[1;33m(\u001b[0m\u001b[0manalyze\u001b[0m\u001b[1;33m=\u001b[0m\u001b[1;32mFalse\u001b[0m\u001b[1;33m,\u001b[0m \u001b[0mdisplay\u001b[0m\u001b[1;33m=\u001b[0m\u001b[1;32mFalse\u001b[0m\u001b[1;33m,\u001b[0m \u001b[0mprogress\u001b[0m\u001b[1;33m=\u001b[0m\u001b[1;32mTrue\u001b[0m\u001b[1;33m,\u001b[0m \u001b[0msave\u001b[0m\u001b[1;33m=\u001b[0m\u001b[1;32mFalse\u001b[0m\u001b[1;33m)\u001b[0m\u001b[1;33m\u001b[0m\u001b[1;33m\u001b[0m\u001b[0m\n\u001b[0m\u001b[0;32m     50\u001b[0m             \u001b[0msuccess\u001b[0m \u001b[1;33m=\u001b[0m \u001b[1;32mTrue\u001b[0m\u001b[1;33m\u001b[0m\u001b[1;33m\u001b[0m\u001b[0m\n\u001b[0;32m     51\u001b[0m         \u001b[1;32mexcept\u001b[0m \u001b[0mException\u001b[0m\u001b[1;33m:\u001b[0m\u001b[1;33m\u001b[0m\u001b[1;33m\u001b[0m\u001b[0m\n",
      "\u001b[1;32mC:\\_Lib\\python\\slab\\experiment.py\u001b[0m in \u001b[0;36mgo\u001b[1;34m(self, save, analyze, display, progress)\u001b[0m\n\u001b[0;32m    113\u001b[0m         \u001b[1;31m# get data\u001b[0m\u001b[1;33m\u001b[0m\u001b[1;33m\u001b[0m\u001b[0m\n\u001b[0;32m    114\u001b[0m \u001b[1;33m\u001b[0m\u001b[0m\n\u001b[1;32m--> 115\u001b[1;33m         \u001b[0mdata\u001b[0m\u001b[1;33m=\u001b[0m\u001b[0mself\u001b[0m\u001b[1;33m.\u001b[0m\u001b[0macquire\u001b[0m\u001b[1;33m(\u001b[0m\u001b[0mprogress\u001b[0m\u001b[1;33m)\u001b[0m\u001b[1;33m\u001b[0m\u001b[1;33m\u001b[0m\u001b[0m\n\u001b[0m\u001b[0;32m    116\u001b[0m         \u001b[1;32mif\u001b[0m \u001b[0manalyze\u001b[0m\u001b[1;33m:\u001b[0m\u001b[1;33m\u001b[0m\u001b[1;33m\u001b[0m\u001b[0m\n\u001b[0;32m    117\u001b[0m             \u001b[0mdata\u001b[0m\u001b[1;33m=\u001b[0m\u001b[0mself\u001b[0m\u001b[1;33m.\u001b[0m\u001b[0manalyze\u001b[0m\u001b[1;33m(\u001b[0m\u001b[0mdata\u001b[0m\u001b[1;33m)\u001b[0m\u001b[1;33m\u001b[0m\u001b[1;33m\u001b[0m\u001b[0m\n",
      "\u001b[1;32ms:\\Connie\\experiments\\qram_tprocv1_expts\\experiments\\two_qubit\\length_rabi_EgGf.py\u001b[0m in \u001b[0;36macquire\u001b[1;34m(self, progress, debug)\u001b[0m\n\u001b[0;32m   1839\u001b[0m             \u001b[1;32melse\u001b[0m\u001b[1;33m:\u001b[0m\u001b[1;33m\u001b[0m\u001b[1;33m\u001b[0m\u001b[0m\n\u001b[0;32m   1840\u001b[0m                 \u001b[0mexpt_prog\u001b[0m\u001b[1;33m.\u001b[0m\u001b[0mcfg\u001b[0m\u001b[1;33m.\u001b[0m\u001b[0mdevice\u001b[0m\u001b[1;33m.\u001b[0m\u001b[0mqubit\u001b[0m\u001b[1;33m.\u001b[0m\u001b[0mf_EgGf_Q\u001b[0m\u001b[1;33m[\u001b[0m\u001b[0mqSort\u001b[0m\u001b[1;33m]\u001b[0m \u001b[1;33m=\u001b[0m \u001b[0mfloat\u001b[0m\u001b[1;33m(\u001b[0m\u001b[0mfreq\u001b[0m\u001b[1;33m)\u001b[0m\u001b[1;33m\u001b[0m\u001b[1;33m\u001b[0m\u001b[0m\n\u001b[1;32m-> 1841\u001b[1;33m             \u001b[0mexpt_prog\u001b[0m\u001b[1;33m.\u001b[0m\u001b[0mgo\u001b[0m\u001b[1;33m(\u001b[0m\u001b[0manalyze\u001b[0m\u001b[1;33m=\u001b[0m\u001b[1;32mFalse\u001b[0m\u001b[1;33m,\u001b[0m \u001b[0mdisplay\u001b[0m\u001b[1;33m=\u001b[0m\u001b[1;32mFalse\u001b[0m\u001b[1;33m,\u001b[0m \u001b[0mprogress\u001b[0m\u001b[1;33m=\u001b[0m\u001b[1;32mFalse\u001b[0m\u001b[1;33m,\u001b[0m \u001b[0msave\u001b[0m\u001b[1;33m=\u001b[0m\u001b[1;32mFalse\u001b[0m\u001b[1;33m)\u001b[0m\u001b[1;33m\u001b[0m\u001b[1;33m\u001b[0m\u001b[0m\n\u001b[0m\u001b[0;32m   1842\u001b[0m             \u001b[1;32mfor\u001b[0m \u001b[0mq_ind\u001b[0m\u001b[1;33m,\u001b[0m \u001b[0mq\u001b[0m \u001b[1;32min\u001b[0m \u001b[0menumerate\u001b[0m\u001b[1;33m(\u001b[0m\u001b[0mself\u001b[0m\u001b[1;33m.\u001b[0m\u001b[0mcfg\u001b[0m\u001b[1;33m.\u001b[0m\u001b[0mexpt\u001b[0m\u001b[1;33m.\u001b[0m\u001b[0mmeasure_qubits\u001b[0m\u001b[1;33m)\u001b[0m\u001b[1;33m:\u001b[0m\u001b[1;33m\u001b[0m\u001b[1;33m\u001b[0m\u001b[0m\n\u001b[0;32m   1843\u001b[0m                 \u001b[0mdata\u001b[0m\u001b[1;33m[\u001b[0m\u001b[1;34m\"avgi\"\u001b[0m\u001b[1;33m]\u001b[0m\u001b[1;33m[\u001b[0m\u001b[0mq_ind\u001b[0m\u001b[1;33m]\u001b[0m\u001b[1;33m.\u001b[0m\u001b[0mappend\u001b[0m\u001b[1;33m(\u001b[0m\u001b[0mexpt_prog\u001b[0m\u001b[1;33m.\u001b[0m\u001b[0mdata\u001b[0m\u001b[1;33m[\u001b[0m\u001b[1;34m\"avgi\"\u001b[0m\u001b[1;33m]\u001b[0m\u001b[1;33m[\u001b[0m\u001b[0mq_ind\u001b[0m\u001b[1;33m]\u001b[0m\u001b[1;33m)\u001b[0m\u001b[1;33m\u001b[0m\u001b[1;33m\u001b[0m\u001b[0m\n",
      "\u001b[1;32mC:\\_Lib\\python\\slab\\experiment.py\u001b[0m in \u001b[0;36mgo\u001b[1;34m(self, save, analyze, display, progress)\u001b[0m\n\u001b[0;32m    113\u001b[0m         \u001b[1;31m# get data\u001b[0m\u001b[1;33m\u001b[0m\u001b[1;33m\u001b[0m\u001b[0m\n\u001b[0;32m    114\u001b[0m \u001b[1;33m\u001b[0m\u001b[0m\n\u001b[1;32m--> 115\u001b[1;33m         \u001b[0mdata\u001b[0m\u001b[1;33m=\u001b[0m\u001b[0mself\u001b[0m\u001b[1;33m.\u001b[0m\u001b[0macquire\u001b[0m\u001b[1;33m(\u001b[0m\u001b[0mprogress\u001b[0m\u001b[1;33m)\u001b[0m\u001b[1;33m\u001b[0m\u001b[1;33m\u001b[0m\u001b[0m\n\u001b[0m\u001b[0;32m    116\u001b[0m         \u001b[1;32mif\u001b[0m \u001b[0manalyze\u001b[0m\u001b[1;33m:\u001b[0m\u001b[1;33m\u001b[0m\u001b[1;33m\u001b[0m\u001b[0m\n\u001b[0;32m    117\u001b[0m             \u001b[0mdata\u001b[0m\u001b[1;33m=\u001b[0m\u001b[0mself\u001b[0m\u001b[1;33m.\u001b[0m\u001b[0manalyze\u001b[0m\u001b[1;33m(\u001b[0m\u001b[0mdata\u001b[0m\u001b[1;33m)\u001b[0m\u001b[1;33m\u001b[0m\u001b[1;33m\u001b[0m\u001b[0m\n",
      "\u001b[1;32ms:\\Connie\\experiments\\qram_tprocv1_expts\\experiments\\two_qubit\\length_rabi_EgGf.py\u001b[0m in \u001b[0;36macquire\u001b[1;34m(self, progress, debug)\u001b[0m\n\u001b[0;32m    823\u001b[0m                 \u001b[1;31m# from qick.helpers import progs2json\u001b[0m\u001b[1;33m\u001b[0m\u001b[1;33m\u001b[0m\u001b[0m\n\u001b[0;32m    824\u001b[0m                 \u001b[1;31m# print(progs2json([lengthrabi.dump_prog()]))\u001b[0m\u001b[1;33m\u001b[0m\u001b[1;33m\u001b[0m\u001b[0m\n\u001b[1;32m--> 825\u001b[1;33m                 avgi, avgq = lengthrabi.acquire_rotated(\n\u001b[0m\u001b[0;32m    826\u001b[0m                     \u001b[0mself\u001b[0m\u001b[1;33m.\u001b[0m\u001b[0mim\u001b[0m\u001b[1;33m[\u001b[0m\u001b[0mself\u001b[0m\u001b[1;33m.\u001b[0m\u001b[0mcfg\u001b[0m\u001b[1;33m.\u001b[0m\u001b[0maliases\u001b[0m\u001b[1;33m.\u001b[0m\u001b[0msoc\u001b[0m\u001b[1;33m]\u001b[0m\u001b[1;33m,\u001b[0m\u001b[1;33m\u001b[0m\u001b[1;33m\u001b[0m\u001b[0m\n\u001b[0;32m    827\u001b[0m                     \u001b[0mangle\u001b[0m\u001b[1;33m=\u001b[0m\u001b[0mangles_q\u001b[0m\u001b[1;33m,\u001b[0m\u001b[1;33m\u001b[0m\u001b[1;33m\u001b[0m\u001b[0m\n",
      "\u001b[1;32ms:\\Connie\\experiments\\qram_tprocv1_expts\\experiments\\clifford_averager_program.py\u001b[0m in \u001b[0;36macquire_rotated\u001b[1;34m(self, soc, progress, angle, threshold, ge_avgs, amplitude_mode, post_process, verbose)\u001b[0m\n\u001b[0;32m   1794\u001b[0m         \u001b[0mIf\u001b[0m \u001b[0mpost_process\u001b[0m \u001b[1;33m==\u001b[0m \u001b[1;32mNone\u001b[0m\u001b[1;33m:\u001b[0m \u001b[0muses\u001b[0m \u001b[0mangle\u001b[0m \u001b[0mto\u001b[0m \u001b[0mrotate\u001b[0m \u001b[0mthe\u001b[0m \u001b[0mi\u001b[0m \u001b[1;32mand\u001b[0m \u001b[0mq\u001b[0m \u001b[1;32mand\u001b[0m \u001b[0mthen\u001b[0m \u001b[0mreturns\u001b[0m \u001b[0mthe\u001b[0m \u001b[0mavg\u001b[0m \u001b[0mi\u001b[0m \u001b[1;32mand\u001b[0m \u001b[0mq\u001b[0m\u001b[1;33m\u001b[0m\u001b[1;33m\u001b[0m\u001b[0m\n\u001b[0;32m   1795\u001b[0m         \"\"\"\n\u001b[1;32m-> 1796\u001b[1;33m         \u001b[0mavgi\u001b[0m\u001b[1;33m,\u001b[0m \u001b[0mavgq\u001b[0m \u001b[1;33m=\u001b[0m \u001b[0mself\u001b[0m\u001b[1;33m.\u001b[0m\u001b[0macquire\u001b[0m\u001b[1;33m(\u001b[0m\u001b[0msoc\u001b[0m\u001b[1;33m,\u001b[0m \u001b[0mload_pulses\u001b[0m\u001b[1;33m=\u001b[0m\u001b[1;32mTrue\u001b[0m\u001b[1;33m,\u001b[0m \u001b[0mprogress\u001b[0m\u001b[1;33m=\u001b[0m\u001b[0mprogress\u001b[0m\u001b[1;33m)\u001b[0m\u001b[1;33m\u001b[0m\u001b[1;33m\u001b[0m\u001b[0m\n\u001b[0m\u001b[0;32m   1797\u001b[0m         \u001b[1;32mif\u001b[0m \u001b[0mpost_process\u001b[0m \u001b[1;33m==\u001b[0m \u001b[1;34m\"threshold\"\u001b[0m\u001b[1;33m:\u001b[0m\u001b[1;33m\u001b[0m\u001b[1;33m\u001b[0m\u001b[0m\n\u001b[0;32m   1798\u001b[0m             \u001b[1;32massert\u001b[0m \u001b[0mthreshold\u001b[0m \u001b[1;32mis\u001b[0m \u001b[1;32mnot\u001b[0m \u001b[1;32mNone\u001b[0m\u001b[1;33m\u001b[0m\u001b[1;33m\u001b[0m\u001b[0m\n",
      "\u001b[1;32ms:\\Connie\\experiments\\qram_tprocv1_expts\\experiments\\clifford_averager_program.py\u001b[0m in \u001b[0;36macquire\u001b[1;34m(self, soc, load_pulses, progress, save_experiments)\u001b[0m\n\u001b[0;32m   1770\u001b[0m             \u001b[0mself\u001b[0m\u001b[1;33m.\u001b[0m\u001b[0mcfg\u001b[0m\u001b[1;33m.\u001b[0m\u001b[0mexpt\u001b[0m\u001b[1;33m.\u001b[0m\u001b[0mn_trig\u001b[0m \u001b[1;33m=\u001b[0m \u001b[1;36m1\u001b[0m\u001b[1;33m\u001b[0m\u001b[1;33m\u001b[0m\u001b[0m\n\u001b[0;32m   1771\u001b[0m             \u001b[0mself\u001b[0m\u001b[1;33m.\u001b[0m\u001b[0mcfg\u001b[0m\u001b[1;33m.\u001b[0m\u001b[0mexpt\u001b[0m\u001b[1;33m.\u001b[0m\u001b[0mn_init_readout\u001b[0m \u001b[1;33m=\u001b[0m \u001b[1;36m0\u001b[0m\u001b[1;33m\u001b[0m\u001b[1;33m\u001b[0m\u001b[0m\n\u001b[1;32m-> 1772\u001b[1;33m         return super().acquire(\n\u001b[0m\u001b[0;32m   1773\u001b[0m             \u001b[0msoc\u001b[0m\u001b[1;33m,\u001b[0m\u001b[1;33m\u001b[0m\u001b[1;33m\u001b[0m\u001b[0m\n\u001b[0;32m   1774\u001b[0m             \u001b[0mload_pulses\u001b[0m\u001b[1;33m=\u001b[0m\u001b[0mload_pulses\u001b[0m\u001b[1;33m,\u001b[0m\u001b[1;33m\u001b[0m\u001b[1;33m\u001b[0m\u001b[0m\n",
      "\u001b[1;32m~\\AppData\\Roaming\\Python\\Python39\\site-packages\\qick\\averager_program.py\u001b[0m in \u001b[0;36macquire\u001b[1;34m(self, soc, threshold, angle, readouts_per_experiment, save_experiments, load_pulses, start_src, progress, remove_offset)\u001b[0m\n\u001b[0;32m    104\u001b[0m             \u001b[0mself\u001b[0m\u001b[1;33m.\u001b[0m\u001b[0mset_reads_per_shot\u001b[0m\u001b[1;33m(\u001b[0m\u001b[0mreadouts_per_experiment\u001b[0m\u001b[1;33m)\u001b[0m\u001b[1;33m\u001b[0m\u001b[1;33m\u001b[0m\u001b[0m\n\u001b[0;32m    105\u001b[0m \u001b[1;33m\u001b[0m\u001b[0m\n\u001b[1;32m--> 106\u001b[1;33m         \u001b[0mavg_d\u001b[0m \u001b[1;33m=\u001b[0m \u001b[0msuper\u001b[0m\u001b[1;33m(\u001b[0m\u001b[1;33m)\u001b[0m\u001b[1;33m.\u001b[0m\u001b[0macquire\u001b[0m\u001b[1;33m(\u001b[0m\u001b[0msoc\u001b[0m\u001b[1;33m,\u001b[0m \u001b[0msoft_avgs\u001b[0m\u001b[1;33m=\u001b[0m\u001b[0mself\u001b[0m\u001b[1;33m.\u001b[0m\u001b[0msoft_avgs\u001b[0m\u001b[1;33m,\u001b[0m \u001b[0mload_pulses\u001b[0m\u001b[1;33m=\u001b[0m\u001b[0mload_pulses\u001b[0m\u001b[1;33m,\u001b[0m \u001b[0mstart_src\u001b[0m\u001b[1;33m=\u001b[0m\u001b[0mstart_src\u001b[0m\u001b[1;33m,\u001b[0m \u001b[0mthreshold\u001b[0m\u001b[1;33m=\u001b[0m\u001b[0mthreshold\u001b[0m\u001b[1;33m,\u001b[0m \u001b[0mangle\u001b[0m\u001b[1;33m=\u001b[0m\u001b[0mangle\u001b[0m\u001b[1;33m,\u001b[0m \u001b[0mprogress\u001b[0m\u001b[1;33m=\u001b[0m\u001b[0mprogress\u001b[0m\u001b[1;33m,\u001b[0m \u001b[0mremove_offset\u001b[0m\u001b[1;33m=\u001b[0m\u001b[0mremove_offset\u001b[0m\u001b[1;33m)\u001b[0m\u001b[1;33m\u001b[0m\u001b[1;33m\u001b[0m\u001b[0m\n\u001b[0m\u001b[0;32m    107\u001b[0m \u001b[1;33m\u001b[0m\u001b[0m\n\u001b[0;32m    108\u001b[0m         \u001b[1;31m# reformat the data into separate I and Q arrays\u001b[0m\u001b[1;33m\u001b[0m\u001b[1;33m\u001b[0m\u001b[0m\n",
      "\u001b[1;32m~\\AppData\\Roaming\\Python\\Python39\\site-packages\\qick\\qick_asm.py\u001b[0m in \u001b[0;36macquire\u001b[1;34m(self, soc, soft_avgs, load_pulses, start_src, threshold, angle, progress, remove_offset)\u001b[0m\n\u001b[0;32m   1699\u001b[0m                                        ch_list=list(self.ro_chs), reads_per_shot=self.reads_per_shot)\n\u001b[0;32m   1700\u001b[0m                 \u001b[1;32mwhile\u001b[0m \u001b[0mcount\u001b[0m\u001b[1;33m<\u001b[0m\u001b[0mtotal_count\u001b[0m\u001b[1;33m:\u001b[0m\u001b[1;33m\u001b[0m\u001b[1;33m\u001b[0m\u001b[0m\n\u001b[1;32m-> 1701\u001b[1;33m                     \u001b[0mnew_data\u001b[0m \u001b[1;33m=\u001b[0m \u001b[0mobtain\u001b[0m\u001b[1;33m(\u001b[0m\u001b[0msoc\u001b[0m\u001b[1;33m.\u001b[0m\u001b[0mpoll_data\u001b[0m\u001b[1;33m(\u001b[0m\u001b[1;33m)\u001b[0m\u001b[1;33m)\u001b[0m\u001b[1;33m\u001b[0m\u001b[1;33m\u001b[0m\u001b[0m\n\u001b[0m\u001b[0;32m   1702\u001b[0m                     \u001b[1;32mfor\u001b[0m \u001b[0mnew_points\u001b[0m\u001b[1;33m,\u001b[0m \u001b[1;33m(\u001b[0m\u001b[0md\u001b[0m\u001b[1;33m,\u001b[0m \u001b[0ms\u001b[0m\u001b[1;33m)\u001b[0m \u001b[1;32min\u001b[0m \u001b[0mnew_data\u001b[0m\u001b[1;33m:\u001b[0m\u001b[1;33m\u001b[0m\u001b[1;33m\u001b[0m\u001b[0m\n\u001b[0;32m   1703\u001b[0m                         \u001b[1;32mfor\u001b[0m \u001b[0mii\u001b[0m\u001b[1;33m,\u001b[0m \u001b[0mnreads\u001b[0m \u001b[1;32min\u001b[0m \u001b[0menumerate\u001b[0m\u001b[1;33m(\u001b[0m\u001b[0mself\u001b[0m\u001b[1;33m.\u001b[0m\u001b[0mreads_per_shot\u001b[0m\u001b[1;33m)\u001b[0m\u001b[1;33m:\u001b[0m\u001b[1;33m\u001b[0m\u001b[1;33m\u001b[0m\u001b[0m\n",
      "\u001b[1;32mc:\\ProgramData\\Anaconda3\\lib\\site-packages\\Pyro4\\core.py\u001b[0m in \u001b[0;36m__call__\u001b[1;34m(self, *args, **kwargs)\u001b[0m\n\u001b[0;32m    183\u001b[0m         \u001b[1;32mfor\u001b[0m \u001b[0mattempt\u001b[0m \u001b[1;32min\u001b[0m \u001b[0mrange\u001b[0m\u001b[1;33m(\u001b[0m\u001b[0mself\u001b[0m\u001b[1;33m.\u001b[0m\u001b[0m__max_retries\u001b[0m \u001b[1;33m+\u001b[0m \u001b[1;36m1\u001b[0m\u001b[1;33m)\u001b[0m\u001b[1;33m:\u001b[0m\u001b[1;33m\u001b[0m\u001b[1;33m\u001b[0m\u001b[0m\n\u001b[0;32m    184\u001b[0m             \u001b[1;32mtry\u001b[0m\u001b[1;33m:\u001b[0m\u001b[1;33m\u001b[0m\u001b[1;33m\u001b[0m\u001b[0m\n\u001b[1;32m--> 185\u001b[1;33m                 \u001b[1;32mreturn\u001b[0m \u001b[0mself\u001b[0m\u001b[1;33m.\u001b[0m\u001b[0m__send\u001b[0m\u001b[1;33m(\u001b[0m\u001b[0mself\u001b[0m\u001b[1;33m.\u001b[0m\u001b[0m__name\u001b[0m\u001b[1;33m,\u001b[0m \u001b[0margs\u001b[0m\u001b[1;33m,\u001b[0m \u001b[0mkwargs\u001b[0m\u001b[1;33m)\u001b[0m\u001b[1;33m\u001b[0m\u001b[1;33m\u001b[0m\u001b[0m\n\u001b[0m\u001b[0;32m    186\u001b[0m             \u001b[1;32mexcept\u001b[0m \u001b[1;33m(\u001b[0m\u001b[0merrors\u001b[0m\u001b[1;33m.\u001b[0m\u001b[0mConnectionClosedError\u001b[0m\u001b[1;33m,\u001b[0m \u001b[0merrors\u001b[0m\u001b[1;33m.\u001b[0m\u001b[0mTimeoutError\u001b[0m\u001b[1;33m)\u001b[0m\u001b[1;33m:\u001b[0m\u001b[1;33m\u001b[0m\u001b[1;33m\u001b[0m\u001b[0m\n\u001b[0;32m    187\u001b[0m                 \u001b[1;31m# only retry for recoverable network errors\u001b[0m\u001b[1;33m\u001b[0m\u001b[1;33m\u001b[0m\u001b[0m\n",
      "\u001b[1;32mc:\\ProgramData\\Anaconda3\\lib\\site-packages\\Pyro4\\core.py\u001b[0m in \u001b[0;36m_pyroInvoke\u001b[1;34m(self, methodname, vargs, kwargs, flags, objectId)\u001b[0m\n\u001b[0;32m    451\u001b[0m                     \u001b[1;32mreturn\u001b[0m \u001b[1;32mNone\u001b[0m  \u001b[1;31m# oneway call, no response data\u001b[0m\u001b[1;33m\u001b[0m\u001b[1;33m\u001b[0m\u001b[0m\n\u001b[0;32m    452\u001b[0m                 \u001b[1;32melse\u001b[0m\u001b[1;33m:\u001b[0m\u001b[1;33m\u001b[0m\u001b[1;33m\u001b[0m\u001b[0m\n\u001b[1;32m--> 453\u001b[1;33m                     \u001b[0mmsg\u001b[0m \u001b[1;33m=\u001b[0m \u001b[0mmessage\u001b[0m\u001b[1;33m.\u001b[0m\u001b[0mMessage\u001b[0m\u001b[1;33m.\u001b[0m\u001b[0mrecv\u001b[0m\u001b[1;33m(\u001b[0m\u001b[0mself\u001b[0m\u001b[1;33m.\u001b[0m\u001b[0m_pyroConnection\u001b[0m\u001b[1;33m,\u001b[0m \u001b[1;33m[\u001b[0m\u001b[0mmessage\u001b[0m\u001b[1;33m.\u001b[0m\u001b[0mMSG_RESULT\u001b[0m\u001b[1;33m]\u001b[0m\u001b[1;33m,\u001b[0m \u001b[0mhmac_key\u001b[0m\u001b[1;33m=\u001b[0m\u001b[0mself\u001b[0m\u001b[1;33m.\u001b[0m\u001b[0m_pyroHmacKey\u001b[0m\u001b[1;33m)\u001b[0m\u001b[1;33m\u001b[0m\u001b[1;33m\u001b[0m\u001b[0m\n\u001b[0m\u001b[0;32m    454\u001b[0m                     \u001b[1;32mif\u001b[0m \u001b[0mconfig\u001b[0m\u001b[1;33m.\u001b[0m\u001b[0mLOGWIRE\u001b[0m\u001b[1;33m:\u001b[0m\u001b[1;33m\u001b[0m\u001b[1;33m\u001b[0m\u001b[0m\n\u001b[0;32m    455\u001b[0m                         \u001b[0m_log_wiredata\u001b[0m\u001b[1;33m(\u001b[0m\u001b[0mlog\u001b[0m\u001b[1;33m,\u001b[0m \u001b[1;34m\"proxy wiredata received\"\u001b[0m\u001b[1;33m,\u001b[0m \u001b[0mmsg\u001b[0m\u001b[1;33m)\u001b[0m\u001b[1;33m\u001b[0m\u001b[1;33m\u001b[0m\u001b[0m\n",
      "\u001b[1;32mc:\\ProgramData\\Anaconda3\\lib\\site-packages\\Pyro4\\message.py\u001b[0m in \u001b[0;36mrecv\u001b[1;34m(cls, connection, requiredMsgTypes, hmac_key)\u001b[0m\n\u001b[0;32m    166\u001b[0m         \u001b[0mValidates\u001b[0m \u001b[0ma\u001b[0m \u001b[0mHMAC\u001b[0m \u001b[0mchunk\u001b[0m \u001b[1;32mif\u001b[0m \u001b[0mpresent\u001b[0m\u001b[1;33m.\u001b[0m\u001b[1;33m\u001b[0m\u001b[1;33m\u001b[0m\u001b[0m\n\u001b[0;32m    167\u001b[0m         \"\"\"\n\u001b[1;32m--> 168\u001b[1;33m         \u001b[0mmsg\u001b[0m \u001b[1;33m=\u001b[0m \u001b[0mcls\u001b[0m\u001b[1;33m.\u001b[0m\u001b[0mfrom_header\u001b[0m\u001b[1;33m(\u001b[0m\u001b[0mconnection\u001b[0m\u001b[1;33m.\u001b[0m\u001b[0mrecv\u001b[0m\u001b[1;33m(\u001b[0m\u001b[0mcls\u001b[0m\u001b[1;33m.\u001b[0m\u001b[0mheader_size\u001b[0m\u001b[1;33m)\u001b[0m\u001b[1;33m)\u001b[0m\u001b[1;33m\u001b[0m\u001b[1;33m\u001b[0m\u001b[0m\n\u001b[0m\u001b[0;32m    169\u001b[0m         \u001b[0mmsg\u001b[0m\u001b[1;33m.\u001b[0m\u001b[0mhmac_key\u001b[0m \u001b[1;33m=\u001b[0m \u001b[0mhmac_key\u001b[0m\u001b[1;33m\u001b[0m\u001b[1;33m\u001b[0m\u001b[0m\n\u001b[0;32m    170\u001b[0m         \u001b[1;32mif\u001b[0m \u001b[1;36m0\u001b[0m \u001b[1;33m<\u001b[0m \u001b[0mconfig\u001b[0m\u001b[1;33m.\u001b[0m\u001b[0mMAX_MESSAGE_SIZE\u001b[0m \u001b[1;33m<\u001b[0m \u001b[1;33m(\u001b[0m\u001b[0mmsg\u001b[0m\u001b[1;33m.\u001b[0m\u001b[0mdata_size\u001b[0m \u001b[1;33m+\u001b[0m \u001b[0mmsg\u001b[0m\u001b[1;33m.\u001b[0m\u001b[0mannotations_size\u001b[0m\u001b[1;33m)\u001b[0m\u001b[1;33m:\u001b[0m\u001b[1;33m\u001b[0m\u001b[1;33m\u001b[0m\u001b[0m\n",
      "\u001b[1;32mc:\\ProgramData\\Anaconda3\\lib\\site-packages\\Pyro4\\socketutil.py\u001b[0m in \u001b[0;36mrecv\u001b[1;34m(self, size)\u001b[0m\n\u001b[0;32m    461\u001b[0m \u001b[1;33m\u001b[0m\u001b[0m\n\u001b[0;32m    462\u001b[0m     \u001b[1;32mdef\u001b[0m \u001b[0mrecv\u001b[0m\u001b[1;33m(\u001b[0m\u001b[0mself\u001b[0m\u001b[1;33m,\u001b[0m \u001b[0msize\u001b[0m\u001b[1;33m)\u001b[0m\u001b[1;33m:\u001b[0m\u001b[1;33m\u001b[0m\u001b[1;33m\u001b[0m\u001b[0m\n\u001b[1;32m--> 463\u001b[1;33m         \u001b[1;32mreturn\u001b[0m \u001b[0mreceiveData\u001b[0m\u001b[1;33m(\u001b[0m\u001b[0mself\u001b[0m\u001b[1;33m.\u001b[0m\u001b[0msock\u001b[0m\u001b[1;33m,\u001b[0m \u001b[0msize\u001b[0m\u001b[1;33m)\u001b[0m\u001b[1;33m\u001b[0m\u001b[1;33m\u001b[0m\u001b[0m\n\u001b[0m\u001b[0;32m    464\u001b[0m \u001b[1;33m\u001b[0m\u001b[0m\n\u001b[0;32m    465\u001b[0m     \u001b[1;32mdef\u001b[0m \u001b[0mclose\u001b[0m\u001b[1;33m(\u001b[0m\u001b[0mself\u001b[0m\u001b[1;33m)\u001b[0m\u001b[1;33m:\u001b[0m\u001b[1;33m\u001b[0m\u001b[1;33m\u001b[0m\u001b[0m\n",
      "\u001b[1;32mc:\\ProgramData\\Anaconda3\\lib\\site-packages\\Pyro4\\socketutil.py\u001b[0m in \u001b[0;36mreceiveData\u001b[1;34m(sock, size)\u001b[0m\n\u001b[0;32m    169\u001b[0m                 \u001b[1;32mwhile\u001b[0m \u001b[0mmsglen\u001b[0m \u001b[1;33m<\u001b[0m \u001b[0msize\u001b[0m\u001b[1;33m:\u001b[0m\u001b[1;33m\u001b[0m\u001b[1;33m\u001b[0m\u001b[0m\n\u001b[0;32m    170\u001b[0m                     \u001b[1;31m# 60k buffer limit avoids problems on certain OSes like VMS, Windows\u001b[0m\u001b[1;33m\u001b[0m\u001b[1;33m\u001b[0m\u001b[0m\n\u001b[1;32m--> 171\u001b[1;33m                     \u001b[0mchunk\u001b[0m \u001b[1;33m=\u001b[0m \u001b[0msock\u001b[0m\u001b[1;33m.\u001b[0m\u001b[0mrecv\u001b[0m\u001b[1;33m(\u001b[0m\u001b[0mmin\u001b[0m\u001b[1;33m(\u001b[0m\u001b[1;36m60000\u001b[0m\u001b[1;33m,\u001b[0m \u001b[0msize\u001b[0m \u001b[1;33m-\u001b[0m \u001b[0mmsglen\u001b[0m\u001b[1;33m)\u001b[0m\u001b[1;33m)\u001b[0m\u001b[1;33m\u001b[0m\u001b[1;33m\u001b[0m\u001b[0m\n\u001b[0m\u001b[0;32m    172\u001b[0m                     \u001b[1;32mif\u001b[0m \u001b[1;32mnot\u001b[0m \u001b[0mchunk\u001b[0m\u001b[1;33m:\u001b[0m\u001b[1;33m\u001b[0m\u001b[1;33m\u001b[0m\u001b[0m\n\u001b[0;32m    173\u001b[0m                         \u001b[1;32mbreak\u001b[0m\u001b[1;33m\u001b[0m\u001b[1;33m\u001b[0m\u001b[0m\n",
      "\u001b[1;31mKeyboardInterrupt\u001b[0m: "
     ]
    }
   ],
   "source": [
    "for gain, stop_len, approx_freq in zip(gain_sweep, len_approx_gains, freq_approx_gains):\n",
    "    # if gain < 27900: continue\n",
    "    print('gain', int(gain), 'stop_len', stop_len, 'approx freq', approx_freq)\n",
    "    rabiEgGfFreqLenChevron = meas.EgGfFreqLenChevronExperiment(\n",
    "        soccfg=soc,\n",
    "        path=expt_path,\n",
    "        prefix=f\"rabi_EgGf_freqlen_chevron_qubit{qubits[0]}{qubits[1]}\",\n",
    "        config_file=config_path,\n",
    "    )\n",
    "\n",
    "    span_f = 2.5 # MHz\n",
    "    npts_f = 20\n",
    "    # npts_f = 60\n",
    "\n",
    "    # start_len = stop_len/1.5\n",
    "    # span_len = 0\n",
    "    # expts_len = 1\n",
    "\n",
    "    start_len = 0\n",
    "    span_len = stop_len\n",
    "    expts_len = 15\n",
    "\n",
    "    rabiEgGfFreqLenChevron.cfg.expt = dict(\n",
    "        start_f=approx_freq - 0.5*span_f, # start freq [MHz],\n",
    "        step_f=span_f/npts_f, # freq step, \n",
    "        expts_f=npts_f+1, # number of different freq experiments, \n",
    "        start_len=start_len, # pulse length (sigma) [us]\n",
    "        step_len=span_len/npts_len, # [us]\n",
    "        expts_len=expts_len,\n",
    "        gain=int(gain),\n",
    "        reps=1000,\n",
    "        # reps=2000,\n",
    "        # reps=10,\n",
    "        pulse_type='flat_top',\n",
    "        measure_f=None,\n",
    "        post_process=None,\n",
    "        init_state=init_state,\n",
    "        qDrive=qDrive,\n",
    "        qubits=qubits,\n",
    "        measure_qubits=measure_qubits,\n",
    "\n",
    "        full_mux_expt=full_mux_expt,\n",
    "        resonator_reset=[0, 2, 3],\n",
    "    )\n",
    "\n",
    "    success = False\n",
    "    while not success:\n",
    "        try:\n",
    "            rabiEgGfFreqLenChevron.go(analyze=False, display=False, progress=True, save=False)\n",
    "            success = True\n",
    "        except Exception:\n",
    "            print(\"Pyro traceback:\")\n",
    "            print(\"\".join(Pyro4.util.getPyroTraceback()))\n",
    "\n",
    "    if save_files: saved_files.append(rabiEgGfFreqLenChevron.save_data())\n",
    "    \n",
    "    plt.figure(figsize=(9, 8))\n",
    "    data = rabiEgGfFreqLenChevron.data\n",
    "    plot_len = rabiEgGfFreqLenChevron.cfg.device.qubit.pulses.pi_EgGf_Q.sigma[qubits[0]]\n",
    "    # plot_len = rabiEgGfFreqLenChevron.cfg.device.qubit.pulses.pi_EgGf.sigma[qubits[0]]\n",
    "    len_ind = np.argmin(np.abs(data['lenpts']-plot_len))\n",
    "    \n",
    "    amps_freq_cut_qA = data['amps'][0][:, len_ind]\n",
    "    amps_freq_cut_qB = data['amps'][1][:, len_ind]\n",
    "    p_ampsA, pCov_ampsA = meas.fitting.fitquadratic(data['freqpts'], amps_freq_cut_qA)\n",
    "    p_ampsB, pCov_ampsB = meas.fitting.fitquadratic(data['freqpts'], amps_freq_cut_qB)\n",
    "    fit_amps_freq_cut_qA = meas.fitting.quadraticfunc(data['freqpts'], *p_ampsA)\n",
    "    fit_amps_freq_cut_qB = meas.fitting.quadraticfunc(data['freqpts'], *p_ampsB)\n",
    "    freq_max_amp_qA = data['freqpts'][np.argmax(fit_amps_freq_cut_qA)]\n",
    "    freq_min_amp_qB = data['freqpts'][np.argmin(fit_amps_freq_cut_qB)]\n",
    "    print('QA freq with max amp', freq_max_amp_qA)\n",
    "    print('QB freq with min amp', freq_min_amp_qB)\n",
    "    plt.suptitle(f\"Cut through length {data['lenpts'][len_ind]:.3} us\")\n",
    "    plt.subplot(211, title=f'QA ({qubits[0]})')\n",
    "    plt.plot(data['freqpts'], amps_freq_cut_qA, '.-', label='qA', color=default_colors[0])\n",
    "    plt.plot(data['freqpts'], fit_amps_freq_cut_qA, color=default_colors[0])\n",
    "    plt.axvline(freq_max_amp_qA, color=default_colors[0], linestyle='--')\n",
    "    plt.ylabel('Amplitude [ADC units]')\n",
    "    \n",
    "    plt.subplot(212, title=f'QB ({qubits[1]})')\n",
    "    plt.plot(data['freqpts'], amps_freq_cut_qB, '.-', label='qB', color=default_colors[1])\n",
    "    plt.plot(data['freqpts'], meas.fitting.quadraticfunc(data['freqpts'], *p_ampsB), color=default_colors[1])\n",
    "    plt.axvline(freq_min_amp_qB, color=default_colors[1], linestyle='--')\n",
    "    # plt.axvline(5890.45, color='r', linestyle='--')\n",
    "    # plt.axvline(bad_ZZ_freq, color='r', linestyle='--')\n",
    "    plt.xlabel('Frequency [MHz]')\n",
    "    plt.ylabel('Amplitude [ADC units]')\n",
    "    plt.tight_layout()\n",
    "    plt.show()\n",
    "\n",
    "    opt_freqs.append((freq_max_amp_qA + freq_max_amp_qB)/2)\n",
    "    print('opt freq', opt_freqs[-1])"
   ]
  },
  {
   "cell_type": "code",
   "execution_count": null,
   "metadata": {},
   "outputs": [],
   "source": [
    "print(saved_files)"
   ]
  },
  {
   "cell_type": "code",
   "execution_count": null,
   "metadata": {},
   "outputs": [],
   "source": [
    "print('gain sweep\\n', gain_sweep.tolist())\n",
    "print('optimal freqs\\n', opt_freqs)\n",
    "print('saved files\\n', saved_files)\n",
    "\n",
    "plt.plot(gain_sweep, opt_freqs, '.-')\n",
    "plt.xlabel('Gain')\n",
    "plt.ylabel('Frequecy (MHz)')\n",
    "plt.show()\n"
   ]
  },
  {
   "cell_type": "code",
   "execution_count": 65,
   "metadata": {},
   "outputs": [],
   "source": [
    "['S:\\\\Connie\\\\experiments\\\\qramLL_4QR2\\\\data\\\\data_240617\\\\00086_rabi_EgGf_freqlen_chevron_qubit31.h5', 'S:\\\\Connie\\\\experiments\\\\qramLL_4QR2\\\\data\\\\data_240617\\\\00087_rabi_EgGf_freqlen_chevron_qubit31.h5', 'S:\\\\Connie\\\\experiments\\\\qramLL_4QR2\\\\data\\\\data_240617\\\\00088_rabi_EgGf_freqlen_chevron_qubit31.h5', 'S:\\\\Connie\\\\experiments\\\\qramLL_4QR2\\\\data\\\\data_240617\\\\00089_rabi_EgGf_freqlen_chevron_qubit31.h5', 'S:\\\\Connie\\\\experiments\\\\qramLL_4QR2\\\\data\\\\data_240617\\\\00090_rabi_EgGf_freqlen_chevron_qubit31.h5', 'S:\\\\Connie\\\\experiments\\\\qramLL_4QR2\\\\data\\\\data_240617\\\\00091_rabi_EgGf_freqlen_chevron_qubit31.h5', 'S:\\\\Connie\\\\experiments\\\\qramLL_4QR2\\\\data\\\\data_240617\\\\00092_rabi_EgGf_freqlen_chevron_qubit31.h5', 'S:\\\\Connie\\\\experiments\\\\qramLL_4QR2\\\\data\\\\data_240617\\\\00093_rabi_EgGf_freqlen_chevron_qubit31.h5', 'S:\\\\Connie\\\\experiments\\\\qramLL_4QR2\\\\data\\\\data_240617\\\\00094_rabi_EgGf_freqlen_chevron_qubit31.h5', 'S:\\\\Connie\\\\experiments\\\\qramLL_4QR2\\\\data\\\\data_240617\\\\00095_rabi_EgGf_freqlen_chevron_qubit31.h5', 'S:\\\\Connie\\\\experiments\\\\qramLL_4QR2\\\\data\\\\data_240617\\\\00096_rabi_EgGf_freqlen_chevron_qubit31.h5', 'S:\\\\Connie\\\\experiments\\\\qramLL_4QR2\\\\data\\\\data_240617\\\\00097_rabi_EgGf_freqlen_chevron_qubit31.h5', 'S:\\\\Connie\\\\experiments\\\\qramLL_4QR2\\\\data\\\\data_240617\\\\00098_rabi_EgGf_freqlen_chevron_qubit31.h5']\n",
    "gain_sweep = [0]*len(saved_files)\n",
    "opt_freqs = [0]*len(saved_files)"
   ]
  },
  {
   "cell_type": "code",
   "execution_count": null,
   "metadata": {
    "collapsed": true,
    "jupyter": {
     "outputs_hidden": true
    },
    "tags": []
   },
   "outputs": [],
   "source": [
    "# going through files again to get opt lens, freqs\n",
    "for i_file, saved_file in enumerate(saved_files):\n",
    "    file_name = saved_file.split('\\\\')[-1]\n",
    "    print(file_name)\n",
    "\n",
    "    rabiEgGfLenChevron = meas.EgGfFreqLenChevronExperiment(config_file=config_path)\n",
    "    temp_data, attrs = prev_data(expt_path, file_name)\n",
    "    rabiEgGfLenChevron.cfg.expt = AttrDict(attrs['config']['expt'])\n",
    "    # print(temp_data.keys())\n",
    "    \n",
    "    plt.figure(figsize=(9, 8))\n",
    "    data = temp_data\n",
    "    plot_len = rabiEgGfFreqLenChevron.cfg.device.qubit.pulses.pi_EgGf_Q.sigma[qubits[0]]\n",
    "    # plot_len = rabiEgGfFreqLenChevron.cfg.device.qubit.pulses.pi_EgGf.sigma[qubits[0]]\n",
    "    len_ind = np.argmin(np.abs(data['lenpts']-plot_len))\n",
    "    \n",
    "    amps_freq_cut_qA = data['amps'][0][:, len_ind]\n",
    "    amps_freq_cut_qB = data['amps'][1][:, len_ind]\n",
    "    p_ampsA, pCov_ampsA = meas.fitting.fitquadratic(data['freqpts'], amps_freq_cut_qA)\n",
    "    p_ampsB, pCov_ampsB = meas.fitting.fitquadratic(data['freqpts'], amps_freq_cut_qB)\n",
    "    fit_amps_freq_cut_qA = meas.fitting.quadraticfunc(data['freqpts'], *p_ampsA)\n",
    "    fit_amps_freq_cut_qB = meas.fitting.quadraticfunc(data['freqpts'], *p_ampsB)\n",
    "    freq_max_amp_qA = data['freqpts'][np.argmax(fit_amps_freq_cut_qA)]\n",
    "    freq_min_amp_qB = data['freqpts'][np.argmin(fit_amps_freq_cut_qB)]\n",
    "    print('QA freq with max amp', freq_max_amp_qA)\n",
    "    print('QB freq with min amp', freq_min_amp_qB)\n",
    "    plt.suptitle(f\"Cut through length {data['lenpts'][len_ind]:.3} us\")\n",
    "    plt.subplot(211, title=f'QA ({qubits[0]})')\n",
    "    plt.plot(data['freqpts'], amps_freq_cut_qA, '.-', label='qA', color=default_colors[0])\n",
    "    plt.plot(data['freqpts'], fit_amps_freq_cut_qA, color=default_colors[0])\n",
    "    plt.axvline(freq_max_amp_qA, color=default_colors[0], linestyle='--')\n",
    "    plt.ylabel('Amplitude [ADC units]')\n",
    "    \n",
    "    plt.subplot(212, title=f'QB ({qubits[1]})')\n",
    "    plt.plot(data['freqpts'], amps_freq_cut_qB, '.-', label='qB', color=default_colors[1])\n",
    "    plt.plot(data['freqpts'], meas.fitting.quadraticfunc(data['freqpts'], *p_ampsB), color=default_colors[1])\n",
    "    plt.axvline(freq_min_amp_qB, color=default_colors[1], linestyle='--')\n",
    "    # plt.axvline(5890.45, color='r', linestyle='--')\n",
    "    # plt.axvline(bad_ZZ_freq, color='r', linestyle='--')\n",
    "    plt.xlabel('Frequency [MHz]')\n",
    "    plt.ylabel('Amplitude [ADC units]')\n",
    "    plt.tight_layout()\n",
    "    plt.show()\n",
    "\n",
    "    print('gain', rabiEgGfLenChevron.cfg.expt.gain)\n",
    "    print('plot freq', plot_freqs[opt_fit_index])\n",
    "    \n",
    "    gain_sweep[i_file] = rabiEgGfLenChevron.cfg.expt.gain\n",
    "    opt_freqs[i_file] = (freq_max_amp_qA + freq_min_amp_qB)/2"
   ]
  },
  {
   "cell_type": "code",
   "execution_count": null,
   "metadata": {},
   "outputs": [],
   "source": [
    "print('gain sweep\\n', gain_sweep)\n",
    "print('optimal freqs\\n', opt_freqs)\n",
    "print('saved files\\n', saved_files)\n",
    "\n",
    "print(len(gain_sweep))\n",
    "print(len(opt_freqs))\n",
    "\n",
    "plt.plot(gain_sweep, opt_freqs, '.-')\n",
    "plt.xlabel('Gain')\n",
    "plt.ylabel('Frequecy (MHz)')\n",
    "plt.show()\n"
   ]
  },
  {
   "cell_type": "markdown",
   "metadata": {},
   "source": [
    "## [Auto3] Run again with length rabi and error amplification on selected frequencies"
   ]
  },
  {
   "cell_type": "markdown",
   "metadata": {},
   "source": [
    "### Functions for fine calibration experiments"
   ]
  },
  {
   "cell_type": "code",
   "execution_count": 75,
   "metadata": {},
   "outputs": [],
   "source": [
    "def run_swap_length_rabi(sweep2Q_q, yaml_cfg, gain, opt_len, opt_freq, save_data=True, saved_files=None, good_data=False):\n",
    "    print(f\"-------- swap length rabi --------\")\n",
    "    lengthrabiEgGf = meas.LengthRabiEgGfExperiment(\n",
    "        soccfg=soc,\n",
    "        path=expt_path,\n",
    "        prefix=f\"length_rabi_EgGf_qubit{qubits[0]}{qubits[1]}\",\n",
    "        config_file=config_path,\n",
    "    )\n",
    "    \n",
    "    lengthrabiEgGf.cfg = AttrDict(deepcopy(yaml_cfg))\n",
    "    \n",
    "    stop_len = opt_len*2\n",
    "    start_len = 0\n",
    "    span_len = stop_len - start_len\n",
    "    npts_len = 101\n",
    "    # npts_len = 50\n",
    "\n",
    "    sweep2Q_q = qubits[0]\n",
    "    lengthrabiEgGf.cfg.device.qubit.pulses.pi_EgGf_Q.gain[sweep2Q_q] = int(gain)\n",
    "    lengthrabiEgGf.cfg.device.qubit.f_EgGf_Q[sweep2Q_q] = opt_freq\n",
    "    print('gain', lengthrabiEgGf.cfg.device.qubit.pulses.pi_EgGf_Q.gain[sweep2Q_q],\n",
    "          'freq', lengthrabiEgGf.cfg.device.qubit.f_EgGf_Q[sweep2Q_q])\n",
    "\n",
    "    lengthrabiEgGf.cfg.expt = dict(\n",
    "        start=start_len, # pulse length (sigma) [us]\n",
    "        step=span_len/npts_len, # [us]\n",
    "        expts=npts_len,\n",
    "        # reps=60,\n",
    "        # loops=10,\n",
    "        reps=1000 if not good_data else 3000,\n",
    "        # loops=3,\n",
    "        # post_process='threshold',\n",
    "        post_process=None,\n",
    "        singleshot_reps=20000,\n",
    "        measure_f=None,\n",
    "        init_state=init_state,\n",
    "        qDrive=qDrive,\n",
    "        qubits=qubits,\n",
    "        measure_qubits=measure_qubits,\n",
    "\n",
    "        full_mux_expt=full_mux_expt,\n",
    "        resonator_reset=[0, 2, 3],\n",
    "    )\n",
    "\n",
    "    try:\n",
    "        lengthrabiEgGf.acquire(progress=True, debug=True)\n",
    "        success = True\n",
    "    except Exception:\n",
    "        print(\"Pyro traceback:\")\n",
    "        print(\"\".join(Pyro4.util.getPyroTraceback()))\n",
    "\n",
    "    if save_data:\n",
    "        assert saved_files is not None\n",
    "        saved_files.append(lengthrabiEgGf.save_data())\n",
    "        print('Saved', saved_files[-1])\n",
    "    data = lengthrabiEgGf.analyze(data=None, fit=True)\n",
    "    p, pcov = meas.fitting.get_best_fit(data, prefixes=['fitA', 'fitB'], check_measures=['amps'])\n",
    "    if p[2] > 180:\n",
    "        p[2] = p[2] - 360\n",
    "    elif p[2] < -180:\n",
    "        p[2] = p[2] + 360\n",
    "    if p[2] < 0:\n",
    "        pi_len = (1 / 2 - p[2] / 180) / 2 / p[1]\n",
    "    else:\n",
    "        pi_len = (3 / 2 - p[2] / 180) / 2 / p[1]\n",
    "\n",
    "    lengthrabiEgGf.display(data=data, fit=True)\n",
    "    # new_opt_len = pi_lens[opt_fit_index]\n",
    "    new_opt_len = pi_len\n",
    "\n",
    "    return new_opt_len"
   ]
  },
  {
   "cell_type": "code",
   "execution_count": 81,
   "metadata": {},
   "outputs": [],
   "source": [
    "def run_swap_piminuspi(sweep2Q_q, yaml_cfg, gain, opt_len, opt_freq, save_data=True, saved_files=None, good_data=False):\n",
    "    print(f\"-------- swap pi minus pi --------\")\n",
    "    piminuspi = meas.PiMinusPiEgGfExperiment(\n",
    "        soccfg=soc,\n",
    "        path=expt_path,\n",
    "        prefix=f\"PiMinusPiEgGfExptQ{qubits[0]}{qubits[1]}\",\n",
    "        config_file=config_path,\n",
    "    )\n",
    "\n",
    "    piminuspi.cfg = AttrDict(deepcopy(yaml_cfg))\n",
    "\n",
    "    piminuspi.cfg.device.qubit.pulses.pi_EgGf_Q.gain[sweep2Q_q] = int(gain)\n",
    "    piminuspi.cfg.device.qubit.pulses.pi_EgGf_Q.sigma[sweep2Q_q] = opt_len\n",
    "    piminuspi.cfg.device.qubit.f_EgGf_Q[sweep2Q_q] = opt_freq\n",
    "\n",
    "    span_f = 1.0\n",
    "    # npts_f = 70\n",
    "    npts_f = 30 if not good_data else 75\n",
    "\n",
    "    piminuspi.cfg.expt = dict(\n",
    "        start_N=0, # number gate repetitions\n",
    "        # step_N=2,\n",
    "        step_N=1,\n",
    "        expts_N=10 if not good_data else 20,\n",
    "        start_f=opt_freq-span_f/2,\n",
    "        step_f=span_f/npts_f,\n",
    "        expts_f=npts_f+1,\n",
    "\n",
    "        reps=1000 if not good_data else 6000,\n",
    "        loops=1,\n",
    "\n",
    "        pulse_type='flat_top',\n",
    "        post_process='scale',\n",
    "        singleshot_reps=15000,\n",
    "        # singleshot_reps=5000,\n",
    "        measure_f=False,\n",
    "        init_state=init_state,\n",
    "        qDrive=qDrive,\n",
    "        qubits=qubits,\n",
    "        measure_qubits=measure_qubits,\n",
    "\n",
    "        readout_cool=False,\n",
    "        n_init_readout=1,\n",
    "        n_trig=1,\n",
    "        # init_read_wait_us=5,\n",
    "        init_read_wait_us=2,\n",
    "        \n",
    "        full_mux_expt=full_mux_expt,\n",
    "        resonator_reset=[0, 2, 3],\n",
    "    )\n",
    "    piminuspi.cfg.device.readout.gain[1] = 1e-4\n",
    "\n",
    "    print(piminuspi.cfg)\n",
    "    try:\n",
    "        piminuspi.acquire(progress=True, debug=False)\n",
    "    except Exception:\n",
    "        print(\"Pyro traceback:\")\n",
    "        print(\"\".join(Pyro4.util.getPyroTraceback()))\n",
    "\n",
    "    data = piminuspi.data\n",
    "    piminuspi.analyze(fit=True)\n",
    "    piminuspi.display(fit=True)\n",
    "\n",
    "    if save_data:\n",
    "        assert saved_files is not None\n",
    "        saved_files.append(piminuspi.save_data())\n",
    "        print('Saved', saved_files[-1])\n",
    "\n",
    "    return data['best_freq']"
   ]
  },
  {
   "cell_type": "code",
   "execution_count": 82,
   "metadata": {},
   "outputs": [],
   "source": [
    "def run_swap_error_amp(sweep2Q_q, yaml_cfg, gain, opt_len, opt_freq, save_data=True, saved_files=None, good_data=False):\n",
    "    print(f\"-------- swap error amplification --------\")\n",
    "    npulsecalib = meas.NPulseEgGfExperiment(\n",
    "        soccfg=soc,\n",
    "        path=expt_path,\n",
    "        prefix=f\"NPulseExptEgGfQ{qubits[0]}{qubits[1]}\",\n",
    "        config_file=config_path,\n",
    "    )\n",
    "\n",
    "    npulsecalib.cfg = AttrDict(deepcopy(yaml_cfg))\n",
    "\n",
    "    npulsecalib.cfg.device.qubit.pulses.pi_EgGf_Q.gain[sweep2Q_q] = int(gain)\n",
    "    npulsecalib.cfg.device.qubit.pulses.pi_EgGf_Q.sigma[sweep2Q_q] = opt_len\n",
    "    npulsecalib.cfg.device.qubit.f_EgGf_Q[sweep2Q_q] = opt_freq\n",
    "\n",
    "    npulsecalib.cfg.expt = dict(\n",
    "        start=0, # number gate repetitions\n",
    "        step=1,\n",
    "        expts=10 if not good_data else 15,\n",
    "        reps=2000,\n",
    "        loops=10,\n",
    "        # reps=1000,\n",
    "        # loops=2,\n",
    "\n",
    "        pulse_type='flat_top',\n",
    "        # post_process='threshold',\n",
    "        post_process='scale',\n",
    "        singleshot_reps=15000,\n",
    "        measure_f=False,\n",
    "        init_state=init_state,\n",
    "        qDrive=qDrive,\n",
    "        qubits=qubits,\n",
    "        measure_qubits=measure_qubits,\n",
    "\n",
    "        full_mux_expt=full_mux_expt,\n",
    "        resonator_reset=[0, 2, 3],\n",
    "    )\n",
    "\n",
    "    print(npulsecalib.cfg)\n",
    "    try:\n",
    "        npulsecalib.acquire(progress=True, debug=False)\n",
    "    except Exception:\n",
    "        print(\"Pyro traceback:\")\n",
    "        print(\"\".join(Pyro4.util.getPyroTraceback()))\n",
    "    if save_data:\n",
    "        assert saved_files is not None\n",
    "        saved_files.append(npulsecalib.save_data())\n",
    "        print('Saved', saved_files[-1])\n",
    "\n",
    "    data = npulsecalib.data\n",
    "    npulsecalib.analyze(fit=True)\n",
    "    npulsecalib.display(fit=True)\n",
    "\n",
    "    npulsecalib_fit, npulsecalib_fit_err = meas.fitting.get_best_fit(npulsecalib.data, prefixes=['fitA', 'fitB'], check_measures=['amps'])\n",
    "\n",
    "    if np.all(npulsecalib_fit == data['fitA_avgi']): use_q =  npulsecalib.cfg.expt.measure_qubits[0]\n",
    "    else: use_q = npulsecalib.cfg.expt.measure_qubits[1]\n",
    "    if use_q == qDrive: sign = 1\n",
    "    else: sign = -1\n",
    "    angle_err = npulsecalib_fit[1]\n",
    "    amp_ratio = (180 - sign*angle_err)/180\n",
    "    new_opt_len = npulsecalib.cfg.device.qubit.pulses.pi_EgGf_Q.sigma[sweep2Q_q] / amp_ratio\n",
    "\n",
    "    print('pi len precise', new_opt_len, f'adjustment ratio {amp_ratio} from Q{use_q}')\n",
    "    return new_opt_len"
   ]
  },
  {
   "cell_type": "markdown",
   "metadata": {},
   "source": [
    "### Start the fine calibration"
   ]
  },
  {
   "cell_type": "markdown",
   "metadata": {},
   "source": [
    "#### Q3/Q1"
   ]
  },
  {
   "cell_type": "code",
   "execution_count": 97,
   "metadata": {},
   "outputs": [],
   "source": [
    "qubits = [3, 1] # order doesn't matter if you specify qDrive correctly\n",
    "init_state = '|1>|1>' # for everything else\n",
    "wrong_init_state = '|0>|1>'\n",
    "setup_ZZ = 0 # for the amp rabi chevron\n",
    "# measure_qubits = [qubits[0], qubits[1], 2]\n",
    "measure_qubits = qubits\n",
    "qDrive = qubits[0] # normal new protocol"
   ]
  },
  {
   "cell_type": "code",
   "execution_count": 98,
   "metadata": {},
   "outputs": [],
   "source": [
    "do_length_rabi = do_piminuspi = do_error_amp = False\n",
    "\n",
    "do_length_rabi = True\n",
    "do_piminuspi = True\n",
    "do_error_amp = True\n",
    "\n",
    "# put an override=True flag to force skipping certain qubits\n",
    "\n",
    "save_files = True\n",
    "\n",
    "good_data = False\n",
    "\n",
    "full_mux_expt = True"
   ]
  },
  {
   "cell_type": "code",
   "execution_count": 99,
   "metadata": {},
   "outputs": [],
   "source": [
    "import yaml\n",
    "with open(config_path, 'r') as cfg_file:\n",
    "    yaml_cfg = yaml.safe_load(cfg_file)\n",
    "yaml_cfg = AttrDict(yaml_cfg)"
   ]
  },
  {
   "cell_type": "code",
   "execution_count": 100,
   "metadata": {},
   "outputs": [],
   "source": [
    "# Input the freqs fitted from the amp rabi chevron and the gain sweep used in that chevron\n",
    "\n",
    "fit_gain_sweep = [7000, 8250, 9500, 10750, 12000, 13250, 14500, 15750, 17000, 18250, 19500, 20750, 22000, 23250, 24500, 25750, 27000, 28250, 29500, 30750]\n",
    "fit_freqs = [5147.908620853933, 5147.446833987711, 5146.894169693789, 5146.250627972168, 5145.6854219684565, 5144.861819906756, 5143.957537110906, 5142.972573580907, 5141.9069293167595, 5140.760604318461, 5139.533598586016, 5138.22591211942, 5136.837544918675, 5135.368496983781, 5133.818768314738, 5132.188358911546, 5130.477268774204, 5128.685497902714, 5126.813046297074, 5124.859913957285]\n",
    "\n",
    "\n",
    "# Fit those to a quadratic function and use this to extrapolate frequencies for the gain sweep of the actual experiment\n",
    "fitparams = [fit_gain_sweep[0], fit_freqs[0], fit_freqs[-1] - fit_freqs[0]]\n",
    "p, pCov = meas.fitting.fitquadratic(fit_gain_sweep, fit_freqs, fitparams=fitparams)"
   ]
  },
  {
   "cell_type": "code",
   "execution_count": 101,
   "metadata": {},
   "outputs": [
    {
     "name": "stdout",
     "output_type": "stream",
     "text": [
      "gain_sweep\n",
      " [ 7000.          7735.29411765  8470.58823529  9205.88235294\n",
      "  9941.17647059 10676.47058824 11411.76470588 12147.05882353\n",
      " 12882.35294118 13617.64705882 14352.94117647 15088.23529412\n",
      " 15823.52941176 16558.82352941 17294.11764706 18029.41176471\n",
      " 18764.70588235 19500.         20235.29411765 20970.58823529\n",
      " 21705.88235294 22441.17647059 23176.47058824 23911.76470588\n",
      " 24647.05882353 25382.35294118 26117.64705882 26852.94117647\n",
      " 27588.23529412 28323.52941176 29058.82352941 29794.11764706\n",
      " 30529.41176471 31264.70588235 32000.        ]\n",
      "approx len for each gain (us)\n",
      " [0.8        0.78235294 0.76470588 0.74705882 0.72941176 0.71176471\n",
      " 0.69411765 0.67647059 0.65882353 0.64117647 0.62352941 0.60588235\n",
      " 0.58823529 0.57058824 0.55294118 0.53529412 0.51764706 0.5\n",
      " 0.48235294 0.46470588 0.44705882 0.42941176 0.41176471 0.39411765\n",
      " 0.37647059 0.35882353 0.34117647 0.32352941 0.30588235 0.28823529\n",
      " 0.27058824 0.25294118 0.23529412 0.21764706 0.2       ]\n",
      "approx freq for each gain\n",
      " [5147.931720795898, 5147.671589641677, 5147.382359692795, 5147.064030949251, 5146.716603411045, 5146.340077078177, 5145.934451950648, 5145.499728028457, 5145.035905311605, 5144.542983800091, 5144.020963493916, 5143.469844393078, 5142.88962649758, 5142.280309807419, 5141.641894322597, 5140.974380043114, 5140.2777669689685, 5139.552055100162, 5138.797244436693, 5138.013334978564, 5137.200326725772, 5136.358219678319, 5135.487013836205, 5134.586709199428, 5133.65730576799, 5132.698803541891, 5131.711202521129, 5130.694502705706, 5129.648704095623, 5128.573806690876, 5127.469810491469, 5126.336715497399, 5125.174521708669, 5123.983229125276, 5122.762837747223]\n",
      "qubits [3, 1]\n"
     ]
    }
   ],
   "source": [
    "npts = 35\n",
    "\n",
    "gain_sweep = np.linspace(7000, 32000, npts)\n",
    "print('gain_sweep\\n', gain_sweep)\n",
    "\n",
    "# Guess the approximate lengths corresponding to the gain sweep\n",
    "opt_lens = np.linspace(0.8, 0.200, npts)\n",
    "print('approx len for each gain (us)\\n', opt_lens)\n",
    "\n",
    "# Calculate the approximate frequencies corresponding to the gain sweep using the fit \n",
    "opt_freqs = meas.fitting.quadraticfunc(gain_sweep, *p)\n",
    "print('approx freq for each gain\\n', opt_freqs.tolist())\n",
    "\n",
    "print('qubits', qubits)\n",
    "\n",
    "save_files = True\n",
    "new_opt_lens = []\n",
    "new_opt_lens2 = []\n",
    "new_opt_freqs = []\n",
    "\n",
    "saved_files_lengthrabi = []\n",
    "saved_files_piminuspi = []\n",
    "saved_files_error_amp = []\n",
    "\n",
    "# opt_fit_index = 1 # index of [QA I, QA Q, QB I, QB Q] to use as saved optimal\n",
    "signs = [1, 1, 1, 1] # whether the period occurs at the max (1) or min (-1)\n",
    "\n",
    "opt_fit_index = 0 # index of [QA amps, QB amps] to use as saved optimal"
   ]
  },
  {
   "cell_type": "code",
   "execution_count": null,
   "metadata": {},
   "outputs": [],
   "source": [
    "# save_files = True\n",
    "# new_opt_lens = []\n",
    "# new_opt_lens2 = []\n",
    "# new_opt_freqs = []\n",
    "\n",
    "# saved_files_lengthrabi = []\n",
    "# saved_files_piminuspi = []\n",
    "# saved_files_error_amp = []\n",
    "\n",
    "# # opt_fit_index = 1 # index of [QA I, QA Q, QB I, QB Q] to use as saved optimal\n",
    "# signs = [1, 1, 1, 1] # whether the period occurs at the max (1) or min (-1)\n",
    "\n",
    "# opt_fit_index = 0 # index of [QA amps, QB amps] to use as saved optimal\n",
    "\n",
    "# gain_sweep = [yaml_cfg.device.qubit.pulses.pi_EgGf_Q.gain[qubits[0]]]\n",
    "# opt_lens = [yaml_cfg.device.qubit.pulses.pi_EgGf_Q.sigma[qubits[0]]]\n",
    "# opt_freqs = [yaml_cfg.device.qubit.f_EgGf_Q[qubits[0]]]"
   ]
  },
  {
   "cell_type": "code",
   "execution_count": 102,
   "metadata": {},
   "outputs": [
    {
     "name": "stdout",
     "output_type": "stream",
     "text": [
      "----------- STARTING GAIN 7000.0 -----------\n",
      "-------- swap length rabi --------\n",
      "gain 7000 freq 5147.931720795898\n"
     ]
    },
    {
     "data": {
      "application/vnd.jupyter.widget-view+json": {
       "model_id": "68b3e85e750f40eda6b1e9a13d69d7c6",
       "version_major": 2,
       "version_minor": 0
      },
      "text/plain": [
       "  0%|          | 0/101 [00:00<?, ?it/s]"
      ]
     },
     "metadata": {},
     "output_type": "display_data"
    },
    {
     "name": "stdout",
     "output_type": "stream",
     "text": [
      "Saving S:\\QRAM\\qram_4QR2\\data\\data_241025\\00075_length_rabi_EgGf_qubit31.h5\n",
      "Saved S:\\QRAM\\qram_4QR2\\data\\data_241025\\00075_length_rabi_EgGf_qubit31.h5\n",
      "Attempted to init fitparam 0 to 0.0, which is out of bounds 0.0 to 0.0. Instead init to 0.0\n",
      "Attempted to init fitparam 4 to 0.0, which is out of bounds 0.0 to 0.0. Instead init to 0.0\n",
      "Warning: fit failed with error: Each lower bound must be strictly less than each upper bound.\n",
      "Attempted to init fitparam 0 to 0.0, which is out of bounds 0.0 to 0.0. Instead init to 0.0\n",
      "Attempted to init fitparam 4 to 0.0, which is out of bounds 0.0 to 0.0. Instead init to 0.0\n",
      "Warning: fit failed with error: Each lower bound must be strictly less than each upper bound.\n",
      "best 1 0.06169059393980484\n",
      "Pi length from amps data (qubit A) [us]: 0.4737868781203163\n",
      "\tPi/2 length from avgq data (qubit A) [us]: 0.23689343906015814\n",
      "\tDecay time [us]: 21.591767276783386\n",
      "Pi length from avgq data (qubit A) [us]: 0.594059405940594\n",
      "\tPi/2 length from avgq data (qubit A) [us]: 0.297029702970297\n",
      "\tDecay time [us]: 1.5841584158415842\n",
      "Pi length from amps data (qubit B) [us]: 0.47200285304219325\n",
      "\tPi/2 length from avgq data (qubit B) [us]: 0.23600142652109662\n",
      "\tDecay time [us]: 3.591981838282065\n",
      "Pi length from avgq data (qubit B) [us]: 0.594059405940594\n",
      "\tPi/2 length from avgq data (qubit B) [us]: 0.297029702970297\n",
      "\tDecay time [us]: 1.5841584158415842\n",
      "max QA amp: 244.56896360046161\n",
      "min QA amp: 90.43635465566761\n",
      "max QB amp: 361.69386146242795\n",
      "min QB amp: 298.32241485729327\n",
      "for gain 7000.0 added swap pi len from length rabi 0.47200285304219325\n",
      "-------- swap pi minus pi --------\n",
      "{'device': {'readout': {'trig_offset': 150, 'lo_sideband': [1, 1, 1, 1], 'frequency': [-439.97500000000036, 0.0, 452.3682333333336, -278.89999999999964], 'gain': [0.17, 0.0001, 0.25, 0.17], 'kappa_ext': [0.157, 0.065, 0.182, 0.104], 'kerr': [-0.0045, 0, 0.008, -0.003], 't_rise_reset': [0.5, 1, 0.5, 0.5], 'readout_length': [4, 4, 4, 4], 'frequency_ef': [-440.97500000000036, 0.0, 453.3682333333336, -280.35364238410557], 'readout_length_ef': [10.0, 7.0, 4.0, 8.0], 'relax_delay': [450, 450, 450, 450]}, 'qubit': {'f_ge': [4111.097866562327, 4105.838904759637, 4110.958153299016, 4110.546407850519, 3442.8755721075536, 3448.5530242338505, 3447.060317317807, 3446.4929792801067, 4762.761504132457, 4761.823567235975, 4762.909473544484, 4762.369813422167, 4380.698604555338, 4379.604868123916, 4380.717837106693, 4381.248121020163], 'f_ge_robust': [4114.313815659153, 4108.147701523904, 4114.310372455052, 4114.310372455052, 3443.0032303441935, 3448.345849629168, 0, 0, 4763.941, 4763.941, 4763.941, 4763.941, 4384.25034225973, 4384.25034225973, 4384.25034225973, 4384.25034225973], 'f_ef': [3884.6269161242526, 0.0, 0.0, 0.0, 0.0, 3348.085433174199, 0.0, 0.0, 4571.9056482340775, 4570.996526541673, 4573.280687567687, 0.0, 4211.617732525247, 4205.61697813965, 0.0, 4209.925086260656], 'f_EgGf': [2686.53594683, 0, 2017.3, 2414.92850999], 'f_EgGf_Q': [0, 0, 5885.585546008087, 5147.931720795898], 'f_f0g1': [1184.4, 999.8, 1632.9833333333333, 1620.9166666666665], 'gs': [52.40296404695958, 54.81794456602636, 43.49513117058557, 4.930653352423196, 2.6415018214608046, 6.386231497692186], 'pulses': {'pi_ge': {'sigma': [0.02, 0.02, 0.02, 0.02, 0.025, 0.025, 0.025, 0.025, 0.015, 0.015, 0.015, 0.015, 0.025, 0.025, 0.025, 0.025], 'gain': [1849, 1914, 0, 1855, 2834, 2504, 2648, 2631, 9155, 9155, 9155, 9155, 599, 599, 599, 599], 'half_gain': [1856, 1835, 1873, 1867, 2382, 2186, 2248, 2289, 9253, 9253, 9253, 9253, 524, 524, 524, 524], 'half_correction_phase': [0, 0, 0, 0, 0, 0, 0, 0, 0, 0, 0, 0, 0, 0, 0, 0, 0], 'half_gain_pi_sigma': [927, 0, 0, 0, 0, 1315, 0, 0, 0, 0, 7212, 0, 0, 0, 0, 460], 'type': 'gauss'}, 'pi_ef': {'sigma': [0.02, 0.02, 0.02, 0.02, 0.025, 0.025, 0.025, 0.025, 0.015, 0.015, 0.015, 0.015, 0.03, 0.03, 0.03, 0.03], 'gain': [1280, 0, 0, 0, 0, 1912, 0, 0, 10000, 10079, 10015, 0, 300, 300, 0, 300], 'half_gain': [1261, 0, 0, 0, 0, 1941, 0, 0, 0, 10147, 9845, 9979, 340, 340, 0, 320], 'half_gain_pi_sigma': [673, 0, 0, 0, 0, 975, 0, 0, 0, 0, 5049, 0, 340, 0, 0, 337], 'type': 'gauss'}, 'pi_EgGf': {'gain': [32000, 0, 30000, 16000], 'sigma': [0.586, 0, 0.8, 0.44643], 'type': 'flat_top'}, 'pi_EgGf_Q': {'gain': [0, 0, 12147, 7000], 'sigma': [0, 0, 0.44193131519875684, 0.47200285304219325], 'phase': [0, 0, 18.0, 24.0], 'half_sigma': [0, 0, 0.212, 0.172], 'half_phase': [0, 0, 18.0, 21.0], 'type': 'flat_top'}, 'pi_f0g1': {'gain': [32000, 32000, 32000, 32000], 'sigma': [0.536, 0.585, 1.54, 1.04], 'idle': [3, 6, 12, 8], 'type': 'flat_top'}, 'pulse_pp': {'gain': [1750, 3550, 0, 0], 'filename': '240920_3_qram_4q_2qubit_++gg'}, 'pulse_1p': {'gain': [3500, 4375, 0, 0], 'filename': '240920_qram_4q_2qubit_e+gg'}, 'pulse_p1': {'gain': [3000, 5530, 0, 0], 'filename': '240920_qram_4q_2qubit_+egg'}, 'pihalf_ge_robust': {'gain': [7559, 7660, 7559, 7559, 4843, 4462, 4462, 4144, 20111, 20111, 20111, 20111, 2375, 2375, 2375, 2375], 'filename': ['X_2_Q0', 'X_2_Q1', 'X_2_Q2', 'X_2_Q3']}, 'pi_ge_slow': {'gain': [-1, 100, -1, -1], 'sigma': [-1, 0.25, -1, -1], 'type': 'gauss'}, 'pi_Q1_ZZ_slow': {'gain': [100, 0, -1, -1], 'sigma': [0.25, 0, -1, -1], 'type': 'gauss'}}}}, 'hw': {'soc': {'dacs': {'qubit': {'ch': [0, 1, 2, 3], 'type': 'full', 'nyquist': [2, 1, 2, 2], 'mixer_freq': [0, 0, 0, 0]}, 'swap': {'ch': 1, 'type': 'full', 'nyquist': 1, 'mixer_freq': 0}, 'swap_f0g1': {'ch': [1, 1, 5, 5], 'type': ['full', 'full', 'full', 'full'], 'nyquist': 1, 'mixer_freq': 0}, 'swap_Q': {'ch': [0, -1, 2, 3], 'type': ['full', 'None', 'full', 'full'], 'nyquist': [2, 0, 2, 2], 'mixer_freq': 0}, 'readout': {'ch': [6, 4, 6, 6], 'full_mux_chs': [5, 4, 5, 5], 'type': ['mux4', 'full', 'mux4', 'mux4'], 'mixer_freq': [7250, 5795.8115578931565, 7250, 7250], 'nyquist': [2, 2, 2, 2]}, 'res_pump': {'ch': 4, 'type': 'full', 'mixer_freq': 0, 'nyquist': 2}, 'delay_chs': {'ch': [0, 1, 2, 3, 4, 5, 6], 'delay_ns': [4.0, 0.0, 5.0, 3.0, 25, 60, 71]}}, 'adcs': {'readout': {'ch': [0, 1, 2, 3]}}}, 'lo': {'twpa': {'frequency': '8210.0e6', 'power': -1.5}, 'readout': {'frequency': 0, 'power': 0}}}, 'aliases': {'readout_LO': 'SC_20A1', 'twpa_LO': 'SC_26C1', 'soc': 'Qick_QRAM'}, 'expt': {'start_N': 0, 'step_N': 1, 'expts_N': 10, 'start_f': 5147.431720795898, 'step_f': 0.03333333333333333, 'expts_f': 31, 'reps': 1000, 'loops': 1, 'pulse_type': 'flat_top', 'post_process': 'scale', 'singleshot_reps': 15000, 'measure_f': False, 'init_state': '|1>|1>', 'qDrive': 3, 'qubits': [3, 1], 'measure_qubits': [3, 1], 'readout_cool': False, 'n_init_readout': 1, 'n_trig': 1, 'init_read_wait_us': 2, 'full_mux_expt': True, 'resonator_reset': [0, 2, 3]}}\n"
     ]
    },
    {
     "data": {
      "application/vnd.jupyter.widget-view+json": {
       "model_id": "505bb1f2425c4c4bac0d9fb665810ea7",
       "version_major": 2,
       "version_minor": 0
      },
      "text/plain": [
       "  0%|          | 0/4 [00:00<?, ?it/s]"
      ]
     },
     "metadata": {},
     "output_type": "display_data"
    },
    {
     "name": "stdout",
     "output_type": "stream",
     "text": [
      "Qubit  (3)\n",
      "ge fidelity (%): 80.8794168500122 \t angle (deg): 0.0 \t threshold ge: 157.65710690648837\n",
      "Qubit  (1)\n",
      "ge fidelity (%): 2.088710358468343 \t angle (deg): 0.0 \t threshold ge: 48.310279617592265\n"
     ]
    },
    {
     "data": {
      "application/vnd.jupyter.widget-view+json": {
       "model_id": "92cd762d2b4e4878be7cad2dabe7c244",
       "version_major": 2,
       "version_minor": 0
      },
      "text/plain": [
       "  0%|          | 0/10 [00:00<?, ?it/s]"
      ]
     },
     "metadata": {},
     "output_type": "display_data"
    },
    {
     "name": "stdout",
     "output_type": "stream",
     "text": [
      "Attempted to init fitparam 3 to 0.0, which is out of bounds 0 to 0.24737575122322134. Instead init to 0.12368787561161067\n",
      "Fit best freq (qA) 5147.99318202018 which is 0.061461224281629256 away from old freq 5147.931720795898\n",
      "Best freq from pi/-pi on Q3 5147.99318202018\n",
      "Attempted to init fitparam 3 to 0.0, which is out of bounds 0 to 0.0968771251006228. Instead init to 0.0484385625503114\n",
      "Fit best freq (qA) 5148.169185130601 which is 0.23746433470296324 away from old freq 5147.931720795898\n",
      "Best freq from pi/-pi on Q1 5148.169185130601\n",
      "best 0 0.0443093216701433\n",
      "Saving S:\\QRAM\\qram_4QR2\\data\\data_241025\\00080_PiMinusPiEgGfExptQ31.h5\n",
      "Saved S:\\QRAM\\qram_4QR2\\data\\data_241025\\00080_PiMinusPiEgGfExptQ31.h5\n",
      "for gain 7000.0 added swap pi freq from pi minus pi 5147.99318202018\n",
      "using opt freq 5147.99318202018\n",
      "-------- swap error amplification --------\n",
      "{'device': {'readout': {'trig_offset': 150, 'lo_sideband': [1, 1, 1, 1], 'frequency': [-439.97500000000036, 0.0, 452.3682333333336, -278.89999999999964], 'gain': [0.17, 0.035, 0.25, 0.17], 'kappa_ext': [0.157, 0.065, 0.182, 0.104], 'kerr': [-0.0045, 0, 0.008, -0.003], 't_rise_reset': [0.5, 1, 0.5, 0.5], 'readout_length': [4, 4, 4, 4], 'frequency_ef': [-440.97500000000036, 0.0, 453.3682333333336, -280.35364238410557], 'readout_length_ef': [10.0, 7.0, 4.0, 8.0], 'relax_delay': [450, 450, 450, 450]}, 'qubit': {'f_ge': [4111.097866562327, 4105.838904759637, 4110.958153299016, 4110.546407850519, 3442.8755721075536, 3448.5530242338505, 3447.060317317807, 3446.4929792801067, 4762.761504132457, 4761.823567235975, 4762.909473544484, 4762.369813422167, 4380.698604555338, 4379.604868123916, 4380.717837106693, 4381.248121020163], 'f_ge_robust': [4114.313815659153, 4108.147701523904, 4114.310372455052, 4114.310372455052, 3443.0032303441935, 3448.345849629168, 0, 0, 4763.941, 4763.941, 4763.941, 4763.941, 4384.25034225973, 4384.25034225973, 4384.25034225973, 4384.25034225973], 'f_ef': [3884.6269161242526, 0.0, 0.0, 0.0, 0.0, 3348.085433174199, 0.0, 0.0, 4571.9056482340775, 4570.996526541673, 4573.280687567687, 0.0, 4211.617732525247, 4205.61697813965, 0.0, 4209.925086260656], 'f_EgGf': [2686.53594683, 0, 2017.3, 2414.92850999], 'f_EgGf_Q': [0, 0, 5885.585546008087, 5147.99318202018], 'f_f0g1': [1184.4, 999.8, 1632.9833333333333, 1620.9166666666665], 'gs': [52.40296404695958, 54.81794456602636, 43.49513117058557, 4.930653352423196, 2.6415018214608046, 6.386231497692186], 'pulses': {'pi_ge': {'sigma': [0.02, 0.02, 0.02, 0.02, 0.025, 0.025, 0.025, 0.025, 0.015, 0.015, 0.015, 0.015, 0.025, 0.025, 0.025, 0.025], 'gain': [1849, 1914, 0, 1855, 2834, 2504, 2648, 2631, 9155, 9155, 9155, 9155, 599, 599, 599, 599], 'half_gain': [1856, 1835, 1873, 1867, 2382, 2186, 2248, 2289, 9253, 9253, 9253, 9253, 524, 524, 524, 524], 'half_correction_phase': [0, 0, 0, 0, 0, 0, 0, 0, 0, 0, 0, 0, 0, 0, 0, 0, 0], 'half_gain_pi_sigma': [927, 0, 0, 0, 0, 1315, 0, 0, 0, 0, 7212, 0, 0, 0, 0, 460], 'type': 'gauss'}, 'pi_ef': {'sigma': [0.02, 0.02, 0.02, 0.02, 0.025, 0.025, 0.025, 0.025, 0.015, 0.015, 0.015, 0.015, 0.03, 0.03, 0.03, 0.03], 'gain': [1280, 0, 0, 0, 0, 1912, 0, 0, 10000, 10079, 10015, 0, 300, 300, 0, 300], 'half_gain': [1261, 0, 0, 0, 0, 1941, 0, 0, 0, 10147, 9845, 9979, 340, 340, 0, 320], 'half_gain_pi_sigma': [673, 0, 0, 0, 0, 975, 0, 0, 0, 0, 5049, 0, 340, 0, 0, 337], 'type': 'gauss'}, 'pi_EgGf': {'gain': [32000, 0, 30000, 16000], 'sigma': [0.586, 0, 0.8, 0.44643], 'type': 'flat_top'}, 'pi_EgGf_Q': {'gain': [0, 0, 12147, 7000], 'sigma': [0, 0, 0.44193131519875684, 0.47200285304219325], 'phase': [0, 0, 18.0, 24.0], 'half_sigma': [0, 0, 0.212, 0.172], 'half_phase': [0, 0, 18.0, 21.0], 'type': 'flat_top'}, 'pi_f0g1': {'gain': [32000, 32000, 32000, 32000], 'sigma': [0.536, 0.585, 1.54, 1.04], 'idle': [3, 6, 12, 8], 'type': 'flat_top'}, 'pulse_pp': {'gain': [1750, 3550, 0, 0], 'filename': '240920_3_qram_4q_2qubit_++gg'}, 'pulse_1p': {'gain': [3500, 4375, 0, 0], 'filename': '240920_qram_4q_2qubit_e+gg'}, 'pulse_p1': {'gain': [3000, 5530, 0, 0], 'filename': '240920_qram_4q_2qubit_+egg'}, 'pihalf_ge_robust': {'gain': [7559, 7660, 7559, 7559, 4843, 4462, 4462, 4144, 20111, 20111, 20111, 20111, 2375, 2375, 2375, 2375], 'filename': ['X_2_Q0', 'X_2_Q1', 'X_2_Q2', 'X_2_Q3']}, 'pi_ge_slow': {'gain': [-1, 100, -1, -1], 'sigma': [-1, 0.25, -1, -1], 'type': 'gauss'}, 'pi_Q1_ZZ_slow': {'gain': [100, 0, -1, -1], 'sigma': [0.25, 0, -1, -1], 'type': 'gauss'}}}}, 'hw': {'soc': {'dacs': {'qubit': {'ch': [0, 1, 2, 3], 'type': 'full', 'nyquist': [2, 1, 2, 2], 'mixer_freq': [0, 0, 0, 0]}, 'swap': {'ch': 1, 'type': 'full', 'nyquist': 1, 'mixer_freq': 0}, 'swap_f0g1': {'ch': [1, 1, 5, 5], 'type': ['full', 'full', 'full', 'full'], 'nyquist': 1, 'mixer_freq': 0}, 'swap_Q': {'ch': [0, -1, 2, 3], 'type': ['full', 'None', 'full', 'full'], 'nyquist': [2, 0, 2, 2], 'mixer_freq': 0}, 'readout': {'ch': [6, 4, 6, 6], 'full_mux_chs': [5, 4, 5, 5], 'type': ['mux4', 'full', 'mux4', 'mux4'], 'mixer_freq': [7250, 5795.8115578931565, 7250, 7250], 'nyquist': [2, 2, 2, 2]}, 'res_pump': {'ch': 4, 'type': 'full', 'mixer_freq': 0, 'nyquist': 2}, 'delay_chs': {'ch': [0, 1, 2, 3, 4, 5, 6], 'delay_ns': [4.0, 0.0, 5.0, 3.0, 25, 60, 71]}}, 'adcs': {'readout': {'ch': [0, 1, 2, 3]}}}, 'lo': {'twpa': {'frequency': '8210.0e6', 'power': -1.5}, 'readout': {'frequency': 0, 'power': 0}}}, 'aliases': {'readout_LO': 'SC_20A1', 'twpa_LO': 'SC_26C1', 'soc': 'Qick_QRAM'}, 'expt': {'start': 0, 'step': 1, 'expts': 10, 'reps': 2000, 'loops': 10, 'pulse_type': 'flat_top', 'post_process': 'scale', 'singleshot_reps': 15000, 'measure_f': False, 'init_state': '|1>|1>', 'qDrive': 3, 'qubits': [3, 1], 'measure_qubits': [3, 1], 'full_mux_expt': True, 'resonator_reset': [0, 2, 3]}}\n"
     ]
    },
    {
     "data": {
      "application/vnd.jupyter.widget-view+json": {
       "model_id": "21789963973149f3a20145964c483f1f",
       "version_major": 2,
       "version_minor": 0
      },
      "text/plain": [
       "  0%|          | 0/4 [00:00<?, ?it/s]"
      ]
     },
     "metadata": {},
     "output_type": "display_data"
    },
    {
     "name": "stdout",
     "output_type": "stream",
     "text": [
      "Qubit  (3)\n",
      "ge fidelity (%): 83.82000000000002 \t angle (deg): 0.0 \t threshold ge: 162.0401054783253\n",
      "Qubit  (1)\n",
      "ge fidelity (%): 57.24 \t angle (deg): 0.0 \t threshold ge: 306.6406091639821\n"
     ]
    },
    {
     "data": {
      "application/vnd.jupyter.widget-view+json": {
       "model_id": "2d0f17d6685a49c48217542b59b76192",
       "version_major": 2,
       "version_minor": 0
      },
      "text/plain": [
       "  0%|          | 0/10 [00:00<?, ?it/s]"
      ]
     },
     "metadata": {},
     "output_type": "display_data"
    },
    {
     "name": "stdout",
     "output_type": "stream",
     "text": [
      "Saving S:\\QRAM\\qram_4QR2\\data\\data_241025\\00074_NPulseExptEgGfQ31.h5\n",
      "Saved S:\\QRAM\\qram_4QR2\\data\\data_241025\\00074_NPulseExptEgGfQ31.h5\n",
      "[ 0.4779223   0.98328719 46.80568712]\n",
      "Attempted to init fitparam 0 to 0.0, which is out of bounds 0.0 to 0.0. Instead init to 0.0\n",
      "Warning: fit failed with error: Each lower bound must be strictly less than each upper bound.\n",
      "[0.0, 0.0, 10]\n",
      "Warning: fit failed with error: Optimal parameters not found: The maximum number of function evaluations is exceeded.\n",
      "[175.74567348976078, 0.0, 10]\n",
      "[ 0.58612549 -0.97052661 25.56043081]\n",
      "Attempted to init fitparam 0 to 0.0, which is out of bounds 0.0 to 0.0. Instead init to 0.0\n",
      "Warning: fit failed with error: Each lower bound must be strictly less than each upper bound.\n",
      "[0.0, 0.0, 10]\n",
      "Warning: fit failed with error: Optimal parameters not found: The maximum number of function evaluations is exceeded.\n",
      "[317.1143407497712, 0.0, 10]\n",
      "From QA: adjust length to 0.4745954286407827\n",
      "\tadjust ratio 0.9945372933616018\n",
      "\n",
      "From QB: adjust length to 0.4745616011735297\n",
      "\tadjust ratio 0.9946081854810651\n",
      "best 0 inf\n",
      "pi len precise 0.47200285304219325 adjustment ratio 1.0 from Q1\n",
      "for gain 7000.0 added swap pi len from error amplification 0.47200285304219325\n",
      "----------- STARTING GAIN 7735.294117647059 -----------\n",
      "-------- swap length rabi --------\n",
      "gain 7735 freq 5147.671589641677\n"
     ]
    },
    {
     "data": {
      "application/vnd.jupyter.widget-view+json": {
       "model_id": "18509f5f82ce47188423466330a14fff",
       "version_major": 2,
       "version_minor": 0
      },
      "text/plain": [
       "  0%|          | 0/101 [00:00<?, ?it/s]"
      ]
     },
     "metadata": {},
     "output_type": "display_data"
    },
    {
     "name": "stdout",
     "output_type": "stream",
     "text": [
      "Saving S:\\QRAM\\qram_4QR2\\data\\data_241025\\00076_length_rabi_EgGf_qubit31.h5\n",
      "Saved S:\\QRAM\\qram_4QR2\\data\\data_241025\\00076_length_rabi_EgGf_qubit31.h5\n",
      "Attempted to init fitparam 0 to 0.0, which is out of bounds 0.0 to 0.0. Instead init to 0.0\n",
      "Attempted to init fitparam 4 to 0.0, which is out of bounds 0.0 to 0.0. Instead init to 0.0\n",
      "Warning: fit failed with error: Each lower bound must be strictly less than each upper bound.\n",
      "Attempted to init fitparam 0 to 0.0, which is out of bounds 0.0 to 0.0. Instead init to 0.0\n",
      "Attempted to init fitparam 4 to 0.0, which is out of bounds 0.0 to 0.0. Instead init to 0.0\n",
      "Warning: fit failed with error: Each lower bound must be strictly less than each upper bound.\n",
      "best 1 0.012896917817094053\n",
      "Pi length from amps data (qubit A) [us]: 0.4320913639052098\n",
      "\tPi/2 length from avgq data (qubit A) [us]: 0.2160456819526049\n",
      "\tDecay time [us]: 14.106881132398334\n",
      "Pi length from avgq data (qubit A) [us]: 0.5809551543389633\n",
      "\tPi/2 length from avgq data (qubit A) [us]: 0.29047757716948164\n",
      "\tDecay time [us]: 1.549213744903902\n",
      "Pi length from amps data (qubit B) [us]: 0.4462483335766198\n",
      "\tPi/2 length from avgq data (qubit B) [us]: 0.2231241667883099\n",
      "\tDecay time [us]: 8727568.331638675\n",
      "Pi length from avgq data (qubit B) [us]: 0.5809551543389633\n",
      "\tPi/2 length from avgq data (qubit B) [us]: 0.29047757716948164\n",
      "\tDecay time [us]: 1.549213744903902\n",
      "max QA amp: 257.2817806589195\n",
      "min QA amp: 87.86169919751087\n",
      "max QB amp: 356.7205474639731\n",
      "min QB amp: 287.55348425395175\n",
      "for gain 7735.294117647059 added swap pi len from length rabi 0.4462483335766198\n",
      "-------- swap pi minus pi --------\n",
      "{'device': {'readout': {'trig_offset': 150, 'lo_sideband': [1, 1, 1, 1], 'frequency': [-439.97500000000036, 0.0, 452.3682333333336, -278.89999999999964], 'gain': [0.17, 0.0001, 0.25, 0.17], 'kappa_ext': [0.157, 0.065, 0.182, 0.104], 'kerr': [-0.0045, 0, 0.008, -0.003], 't_rise_reset': [0.5, 1, 0.5, 0.5], 'readout_length': [4, 4, 4, 4], 'frequency_ef': [-440.97500000000036, 0.0, 453.3682333333336, -280.35364238410557], 'readout_length_ef': [10.0, 7.0, 4.0, 8.0], 'relax_delay': [450, 450, 450, 450]}, 'qubit': {'f_ge': [4111.097866562327, 4105.838904759637, 4110.958153299016, 4110.546407850519, 3442.8755721075536, 3448.5530242338505, 3447.060317317807, 3446.4929792801067, 4762.761504132457, 4761.823567235975, 4762.909473544484, 4762.369813422167, 4380.698604555338, 4379.604868123916, 4380.717837106693, 4381.248121020163], 'f_ge_robust': [4114.313815659153, 4108.147701523904, 4114.310372455052, 4114.310372455052, 3443.0032303441935, 3448.345849629168, 0, 0, 4763.941, 4763.941, 4763.941, 4763.941, 4384.25034225973, 4384.25034225973, 4384.25034225973, 4384.25034225973], 'f_ef': [3884.6269161242526, 0.0, 0.0, 0.0, 0.0, 3348.085433174199, 0.0, 0.0, 4571.9056482340775, 4570.996526541673, 4573.280687567687, 0.0, 4211.617732525247, 4205.61697813965, 0.0, 4209.925086260656], 'f_EgGf': [2686.53594683, 0, 2017.3, 2414.92850999], 'f_EgGf_Q': [0, 0, 5885.585546008087, 5147.671589641677], 'f_f0g1': [1184.4, 999.8, 1632.9833333333333, 1620.9166666666665], 'gs': [52.40296404695958, 54.81794456602636, 43.49513117058557, 4.930653352423196, 2.6415018214608046, 6.386231497692186], 'pulses': {'pi_ge': {'sigma': [0.02, 0.02, 0.02, 0.02, 0.025, 0.025, 0.025, 0.025, 0.015, 0.015, 0.015, 0.015, 0.025, 0.025, 0.025, 0.025], 'gain': [1849, 1914, 0, 1855, 2834, 2504, 2648, 2631, 9155, 9155, 9155, 9155, 599, 599, 599, 599], 'half_gain': [1856, 1835, 1873, 1867, 2382, 2186, 2248, 2289, 9253, 9253, 9253, 9253, 524, 524, 524, 524], 'half_correction_phase': [0, 0, 0, 0, 0, 0, 0, 0, 0, 0, 0, 0, 0, 0, 0, 0, 0], 'half_gain_pi_sigma': [927, 0, 0, 0, 0, 1315, 0, 0, 0, 0, 7212, 0, 0, 0, 0, 460], 'type': 'gauss'}, 'pi_ef': {'sigma': [0.02, 0.02, 0.02, 0.02, 0.025, 0.025, 0.025, 0.025, 0.015, 0.015, 0.015, 0.015, 0.03, 0.03, 0.03, 0.03], 'gain': [1280, 0, 0, 0, 0, 1912, 0, 0, 10000, 10079, 10015, 0, 300, 300, 0, 300], 'half_gain': [1261, 0, 0, 0, 0, 1941, 0, 0, 0, 10147, 9845, 9979, 340, 340, 0, 320], 'half_gain_pi_sigma': [673, 0, 0, 0, 0, 975, 0, 0, 0, 0, 5049, 0, 340, 0, 0, 337], 'type': 'gauss'}, 'pi_EgGf': {'gain': [32000, 0, 30000, 16000], 'sigma': [0.586, 0, 0.8, 0.44643], 'type': 'flat_top'}, 'pi_EgGf_Q': {'gain': [0, 0, 12147, 7735], 'sigma': [0, 0, 0.44193131519875684, 0.4462483335766198], 'phase': [0, 0, 18.0, 24.0], 'half_sigma': [0, 0, 0.212, 0.172], 'half_phase': [0, 0, 18.0, 21.0], 'type': 'flat_top'}, 'pi_f0g1': {'gain': [32000, 32000, 32000, 32000], 'sigma': [0.536, 0.585, 1.54, 1.04], 'idle': [3, 6, 12, 8], 'type': 'flat_top'}, 'pulse_pp': {'gain': [1750, 3550, 0, 0], 'filename': '240920_3_qram_4q_2qubit_++gg'}, 'pulse_1p': {'gain': [3500, 4375, 0, 0], 'filename': '240920_qram_4q_2qubit_e+gg'}, 'pulse_p1': {'gain': [3000, 5530, 0, 0], 'filename': '240920_qram_4q_2qubit_+egg'}, 'pihalf_ge_robust': {'gain': [7559, 7660, 7559, 7559, 4843, 4462, 4462, 4144, 20111, 20111, 20111, 20111, 2375, 2375, 2375, 2375], 'filename': ['X_2_Q0', 'X_2_Q1', 'X_2_Q2', 'X_2_Q3']}, 'pi_ge_slow': {'gain': [-1, 100, -1, -1], 'sigma': [-1, 0.25, -1, -1], 'type': 'gauss'}, 'pi_Q1_ZZ_slow': {'gain': [100, 0, -1, -1], 'sigma': [0.25, 0, -1, -1], 'type': 'gauss'}}}}, 'hw': {'soc': {'dacs': {'qubit': {'ch': [0, 1, 2, 3], 'type': 'full', 'nyquist': [2, 1, 2, 2], 'mixer_freq': [0, 0, 0, 0]}, 'swap': {'ch': 1, 'type': 'full', 'nyquist': 1, 'mixer_freq': 0}, 'swap_f0g1': {'ch': [1, 1, 5, 5], 'type': ['full', 'full', 'full', 'full'], 'nyquist': 1, 'mixer_freq': 0}, 'swap_Q': {'ch': [0, -1, 2, 3], 'type': ['full', 'None', 'full', 'full'], 'nyquist': [2, 0, 2, 2], 'mixer_freq': 0}, 'readout': {'ch': [6, 4, 6, 6], 'full_mux_chs': [5, 4, 5, 5], 'type': ['mux4', 'full', 'mux4', 'mux4'], 'mixer_freq': [7250, 5795.8115578931565, 7250, 7250], 'nyquist': [2, 2, 2, 2]}, 'res_pump': {'ch': 4, 'type': 'full', 'mixer_freq': 0, 'nyquist': 2}, 'delay_chs': {'ch': [0, 1, 2, 3, 4, 5, 6], 'delay_ns': [4.0, 0.0, 5.0, 3.0, 25, 60, 71]}}, 'adcs': {'readout': {'ch': [0, 1, 2, 3]}}}, 'lo': {'twpa': {'frequency': '8210.0e6', 'power': -1.5}, 'readout': {'frequency': 0, 'power': 0}}}, 'aliases': {'readout_LO': 'SC_20A1', 'twpa_LO': 'SC_26C1', 'soc': 'Qick_QRAM'}, 'expt': {'start_N': 0, 'step_N': 1, 'expts_N': 10, 'start_f': 5147.171589641677, 'step_f': 0.03333333333333333, 'expts_f': 31, 'reps': 1000, 'loops': 1, 'pulse_type': 'flat_top', 'post_process': 'scale', 'singleshot_reps': 15000, 'measure_f': False, 'init_state': '|1>|1>', 'qDrive': 3, 'qubits': [3, 1], 'measure_qubits': [3, 1], 'readout_cool': False, 'n_init_readout': 1, 'n_trig': 1, 'init_read_wait_us': 2, 'full_mux_expt': True, 'resonator_reset': [0, 2, 3]}}\n"
     ]
    },
    {
     "data": {
      "application/vnd.jupyter.widget-view+json": {
       "model_id": "a43994c8ae534fb3b7b6eaeb1f273fb3",
       "version_major": 2,
       "version_minor": 0
      },
      "text/plain": [
       "  0%|          | 0/4 [00:00<?, ?it/s]"
      ]
     },
     "metadata": {},
     "output_type": "display_data"
    },
    {
     "name": "stdout",
     "output_type": "stream",
     "text": [
      "Qubit  (3)\n",
      "ge fidelity (%): 82.03947463164212 \t angle (deg): 0.0 \t threshold ge: 159.01070652765765\n",
      "Qubit  (1)\n",
      "ge fidelity (%): 2.42 \t angle (deg): 0.0 \t threshold ge: 82.88375581093764\n"
     ]
    },
    {
     "data": {
      "application/vnd.jupyter.widget-view+json": {
       "model_id": "5ae063b2ab3e470aad29b65d74bcfb71",
       "version_major": 2,
       "version_minor": 0
      },
      "text/plain": [
       "  0%|          | 0/10 [00:00<?, ?it/s]"
      ]
     },
     "metadata": {},
     "output_type": "display_data"
    },
    {
     "name": "stderr",
     "output_type": "stream",
     "text": [
      "RuntimeWarning: More than 20 figures have been opened. Figures created through the pyplot interface (`matplotlib.pyplot.figure`) are retained until explicitly closed and may consume too much memory. (To control this warning, see the rcParam `figure.max_open_warning`). Consider using `matplotlib.pyplot.close()`.\n",
      " s:\\Connie\\experiments\\qram_tprocv1_expts\\experiments\\two_qubit\\length_rabi_EgGf.py: 2788"
     ]
    },
    {
     "name": "stdout",
     "output_type": "stream",
     "text": [
      "Attempted to init fitparam 3 to 0.0, which is out of bounds 0 to 0.22081938255284636. Instead init to 0.11040969127642318\n",
      "Fit best freq (qA) 5147.6827919025 which is 0.011202260822756216 away from old freq 5147.671589641677\n",
      "Best freq from pi/-pi on Q3 5147.6827919025\n",
      "Attempted to init fitparam 3 to 0.0, which is out of bounds 0 to 0.07462684883262954. Instead init to 0.03731342441631477\n",
      "Fit best freq (qA) 5147.689297355942 which is 0.01770771426436113 away from old freq 5147.671589641677\n",
      "Best freq from pi/-pi on Q1 5147.689297355942\n",
      "best 0 0.04661369926438431\n",
      "Saving S:\\QRAM\\qram_4QR2\\data\\data_241025\\00081_PiMinusPiEgGfExptQ31.h5\n",
      "Saved S:\\QRAM\\qram_4QR2\\data\\data_241025\\00081_PiMinusPiEgGfExptQ31.h5\n",
      "for gain 7735.294117647059 added swap pi freq from pi minus pi 5147.6827919025\n",
      "using opt freq 5147.6827919025\n",
      "-------- swap error amplification --------\n",
      "{'device': {'readout': {'trig_offset': 150, 'lo_sideband': [1, 1, 1, 1], 'frequency': [-439.97500000000036, 0.0, 452.3682333333336, -278.89999999999964], 'gain': [0.17, 0.035, 0.25, 0.17], 'kappa_ext': [0.157, 0.065, 0.182, 0.104], 'kerr': [-0.0045, 0, 0.008, -0.003], 't_rise_reset': [0.5, 1, 0.5, 0.5], 'readout_length': [4, 4, 4, 4], 'frequency_ef': [-440.97500000000036, 0.0, 453.3682333333336, -280.35364238410557], 'readout_length_ef': [10.0, 7.0, 4.0, 8.0], 'relax_delay': [450, 450, 450, 450]}, 'qubit': {'f_ge': [4111.097866562327, 4105.838904759637, 4110.958153299016, 4110.546407850519, 3442.8755721075536, 3448.5530242338505, 3447.060317317807, 3446.4929792801067, 4762.761504132457, 4761.823567235975, 4762.909473544484, 4762.369813422167, 4380.698604555338, 4379.604868123916, 4380.717837106693, 4381.248121020163], 'f_ge_robust': [4114.313815659153, 4108.147701523904, 4114.310372455052, 4114.310372455052, 3443.0032303441935, 3448.345849629168, 0, 0, 4763.941, 4763.941, 4763.941, 4763.941, 4384.25034225973, 4384.25034225973, 4384.25034225973, 4384.25034225973], 'f_ef': [3884.6269161242526, 0.0, 0.0, 0.0, 0.0, 3348.085433174199, 0.0, 0.0, 4571.9056482340775, 4570.996526541673, 4573.280687567687, 0.0, 4211.617732525247, 4205.61697813965, 0.0, 4209.925086260656], 'f_EgGf': [2686.53594683, 0, 2017.3, 2414.92850999], 'f_EgGf_Q': [0, 0, 5885.585546008087, 5147.6827919025], 'f_f0g1': [1184.4, 999.8, 1632.9833333333333, 1620.9166666666665], 'gs': [52.40296404695958, 54.81794456602636, 43.49513117058557, 4.930653352423196, 2.6415018214608046, 6.386231497692186], 'pulses': {'pi_ge': {'sigma': [0.02, 0.02, 0.02, 0.02, 0.025, 0.025, 0.025, 0.025, 0.015, 0.015, 0.015, 0.015, 0.025, 0.025, 0.025, 0.025], 'gain': [1849, 1914, 0, 1855, 2834, 2504, 2648, 2631, 9155, 9155, 9155, 9155, 599, 599, 599, 599], 'half_gain': [1856, 1835, 1873, 1867, 2382, 2186, 2248, 2289, 9253, 9253, 9253, 9253, 524, 524, 524, 524], 'half_correction_phase': [0, 0, 0, 0, 0, 0, 0, 0, 0, 0, 0, 0, 0, 0, 0, 0, 0], 'half_gain_pi_sigma': [927, 0, 0, 0, 0, 1315, 0, 0, 0, 0, 7212, 0, 0, 0, 0, 460], 'type': 'gauss'}, 'pi_ef': {'sigma': [0.02, 0.02, 0.02, 0.02, 0.025, 0.025, 0.025, 0.025, 0.015, 0.015, 0.015, 0.015, 0.03, 0.03, 0.03, 0.03], 'gain': [1280, 0, 0, 0, 0, 1912, 0, 0, 10000, 10079, 10015, 0, 300, 300, 0, 300], 'half_gain': [1261, 0, 0, 0, 0, 1941, 0, 0, 0, 10147, 9845, 9979, 340, 340, 0, 320], 'half_gain_pi_sigma': [673, 0, 0, 0, 0, 975, 0, 0, 0, 0, 5049, 0, 340, 0, 0, 337], 'type': 'gauss'}, 'pi_EgGf': {'gain': [32000, 0, 30000, 16000], 'sigma': [0.586, 0, 0.8, 0.44643], 'type': 'flat_top'}, 'pi_EgGf_Q': {'gain': [0, 0, 12147, 7735], 'sigma': [0, 0, 0.44193131519875684, 0.4462483335766198], 'phase': [0, 0, 18.0, 24.0], 'half_sigma': [0, 0, 0.212, 0.172], 'half_phase': [0, 0, 18.0, 21.0], 'type': 'flat_top'}, 'pi_f0g1': {'gain': [32000, 32000, 32000, 32000], 'sigma': [0.536, 0.585, 1.54, 1.04], 'idle': [3, 6, 12, 8], 'type': 'flat_top'}, 'pulse_pp': {'gain': [1750, 3550, 0, 0], 'filename': '240920_3_qram_4q_2qubit_++gg'}, 'pulse_1p': {'gain': [3500, 4375, 0, 0], 'filename': '240920_qram_4q_2qubit_e+gg'}, 'pulse_p1': {'gain': [3000, 5530, 0, 0], 'filename': '240920_qram_4q_2qubit_+egg'}, 'pihalf_ge_robust': {'gain': [7559, 7660, 7559, 7559, 4843, 4462, 4462, 4144, 20111, 20111, 20111, 20111, 2375, 2375, 2375, 2375], 'filename': ['X_2_Q0', 'X_2_Q1', 'X_2_Q2', 'X_2_Q3']}, 'pi_ge_slow': {'gain': [-1, 100, -1, -1], 'sigma': [-1, 0.25, -1, -1], 'type': 'gauss'}, 'pi_Q1_ZZ_slow': {'gain': [100, 0, -1, -1], 'sigma': [0.25, 0, -1, -1], 'type': 'gauss'}}}}, 'hw': {'soc': {'dacs': {'qubit': {'ch': [0, 1, 2, 3], 'type': 'full', 'nyquist': [2, 1, 2, 2], 'mixer_freq': [0, 0, 0, 0]}, 'swap': {'ch': 1, 'type': 'full', 'nyquist': 1, 'mixer_freq': 0}, 'swap_f0g1': {'ch': [1, 1, 5, 5], 'type': ['full', 'full', 'full', 'full'], 'nyquist': 1, 'mixer_freq': 0}, 'swap_Q': {'ch': [0, -1, 2, 3], 'type': ['full', 'None', 'full', 'full'], 'nyquist': [2, 0, 2, 2], 'mixer_freq': 0}, 'readout': {'ch': [6, 4, 6, 6], 'full_mux_chs': [5, 4, 5, 5], 'type': ['mux4', 'full', 'mux4', 'mux4'], 'mixer_freq': [7250, 5795.8115578931565, 7250, 7250], 'nyquist': [2, 2, 2, 2]}, 'res_pump': {'ch': 4, 'type': 'full', 'mixer_freq': 0, 'nyquist': 2}, 'delay_chs': {'ch': [0, 1, 2, 3, 4, 5, 6], 'delay_ns': [4.0, 0.0, 5.0, 3.0, 25, 60, 71]}}, 'adcs': {'readout': {'ch': [0, 1, 2, 3]}}}, 'lo': {'twpa': {'frequency': '8210.0e6', 'power': -1.5}, 'readout': {'frequency': 0, 'power': 0}}}, 'aliases': {'readout_LO': 'SC_20A1', 'twpa_LO': 'SC_26C1', 'soc': 'Qick_QRAM'}, 'expt': {'start': 0, 'step': 1, 'expts': 10, 'reps': 2000, 'loops': 10, 'pulse_type': 'flat_top', 'post_process': 'scale', 'singleshot_reps': 15000, 'measure_f': False, 'init_state': '|1>|1>', 'qDrive': 3, 'qubits': [3, 1], 'measure_qubits': [3, 1], 'full_mux_expt': True, 'resonator_reset': [0, 2, 3]}}\n"
     ]
    },
    {
     "data": {
      "application/vnd.jupyter.widget-view+json": {
       "model_id": "6f57b20187b047d0b425375a6e3a734f",
       "version_major": 2,
       "version_minor": 0
      },
      "text/plain": [
       "  0%|          | 0/4 [00:00<?, ?it/s]"
      ]
     },
     "metadata": {},
     "output_type": "display_data"
    },
    {
     "name": "stdout",
     "output_type": "stream",
     "text": [
      "Qubit  (3)\n",
      "ge fidelity (%): 78.8993488454786 \t angle (deg): 0.0 \t threshold ge: 164.68758110153064\n",
      "Qubit  (1)\n",
      "ge fidelity (%): 52.69333333333335 \t angle (deg): 0.0 \t threshold ge: 317.1823328068115\n"
     ]
    },
    {
     "data": {
      "application/vnd.jupyter.widget-view+json": {
       "model_id": "a104cfa1e04f4d38979f9ffe8351bc2e",
       "version_major": 2,
       "version_minor": 0
      },
      "text/plain": [
       "  0%|          | 0/10 [00:00<?, ?it/s]"
      ]
     },
     "metadata": {},
     "output_type": "display_data"
    },
    {
     "name": "stdout",
     "output_type": "stream",
     "text": [
      "Saving S:\\QRAM\\qram_4QR2\\data\\data_241025\\00075_NPulseExptEgGfQ31.h5\n",
      "Saved S:\\QRAM\\qram_4QR2\\data\\data_241025\\00075_NPulseExptEgGfQ31.h5\n",
      "[ 0.51255894 -3.57069971 11.13420449]\n",
      "Attempted to init fitparam 0 to 0.0, which is out of bounds 0.0 to 0.0. Instead init to 0.0\n",
      "Warning: fit failed with error: Each lower bound must be strictly less than each upper bound.\n",
      "[0.0, 0.0, 10]\n",
      "Warning: fit failed with error: Optimal parameters not found: The maximum number of function evaluations is exceeded.\n",
      "[176.9536295675278, 0.0, 10]\n",
      "[0.69154567 2.35657714 7.80806541]\n",
      "Attempted to init fitparam 0 to 0.0, which is out of bounds 0.0 to 0.0. Instead init to 0.0\n",
      "Warning: fit failed with error: Each lower bound must be strictly less than each upper bound.\n",
      "[0.0, 0.0, 10]\n",
      "Warning: fit failed with error: Optimal parameters not found: The maximum number of function evaluations is exceeded.\n",
      "[330.9628461337509, 0.0, 10]\n",
      "From QA: adjust length to 0.4375681967341979\n",
      "\tadjust ratio 1.019837220591456\n",
      "\n",
      "From QB: adjust length to 0.4404815077294232\n",
      "\tadjust ratio 1.0130920952321545\n",
      "best 0 inf\n",
      "pi len precise 0.4462483335766198 adjustment ratio 1.0 from Q1\n",
      "for gain 7735.294117647059 added swap pi len from error amplification 0.4462483335766198\n",
      "----------- STARTING GAIN 8470.588235294117 -----------\n",
      "-------- swap length rabi --------\n",
      "gain 8470 freq 5147.382359692795\n"
     ]
    },
    {
     "data": {
      "application/vnd.jupyter.widget-view+json": {
       "model_id": "66ae3a34b6804bdda1fea647a41044a2",
       "version_major": 2,
       "version_minor": 0
      },
      "text/plain": [
       "  0%|          | 0/101 [00:00<?, ?it/s]"
      ]
     },
     "metadata": {},
     "output_type": "display_data"
    },
    {
     "name": "stdout",
     "output_type": "stream",
     "text": [
      "Saving S:\\QRAM\\qram_4QR2\\data\\data_241025\\00077_length_rabi_EgGf_qubit31.h5\n",
      "Saved S:\\QRAM\\qram_4QR2\\data\\data_241025\\00077_length_rabi_EgGf_qubit31.h5\n",
      "Attempted to init fitparam 0 to 0.0, which is out of bounds 0.0 to 0.0. Instead init to 0.0\n",
      "Attempted to init fitparam 4 to 0.0, which is out of bounds 0.0 to 0.0. Instead init to 0.0\n",
      "Warning: fit failed with error: Each lower bound must be strictly less than each upper bound.\n",
      "Attempted to init fitparam 0 to 0.0, which is out of bounds 0.0 to 0.0. Instead init to 0.0\n",
      "Attempted to init fitparam 4 to 0.0, which is out of bounds 0.0 to 0.0. Instead init to 0.0\n",
      "Warning: fit failed with error: Each lower bound must be strictly less than each upper bound.\n",
      "best 0 0.029924742177384202\n",
      "Pi length from amps data (qubit A) [us]: 0.3935770171685791\n",
      "\tPi/2 length from avgq data (qubit A) [us]: 0.19678850858428956\n",
      "\tDecay time [us]: 6.465797711517277\n",
      "Pi length from avgq data (qubit A) [us]: 0.5678509027373326\n",
      "\tPi/2 length from avgq data (qubit A) [us]: 0.2839254513686663\n",
      "\tDecay time [us]: 1.5142690739662203\n",
      "Pi length from amps data (qubit B) [us]: 0.39828993188519957\n",
      "\tPi/2 length from avgq data (qubit B) [us]: 0.19914496594259978\n",
      "\tDecay time [us]: 2.44519910996211\n",
      "Pi length from avgq data (qubit B) [us]: 0.5678509027373326\n",
      "\tPi/2 length from avgq data (qubit B) [us]: 0.2839254513686663\n",
      "\tDecay time [us]: 1.5142690739662203\n",
      "max QA amp: 266.51361759127144\n",
      "min QA amp: 89.51831241879039\n",
      "max QB amp: 361.9842181238629\n",
      "min QB amp: 289.89528508745775\n",
      "for gain 8470.588235294117 added swap pi len from length rabi 0.3935770171685791\n",
      "-------- swap pi minus pi --------\n",
      "{'device': {'readout': {'trig_offset': 150, 'lo_sideband': [1, 1, 1, 1], 'frequency': [-439.97500000000036, 0.0, 452.3682333333336, -278.89999999999964], 'gain': [0.17, 0.0001, 0.25, 0.17], 'kappa_ext': [0.157, 0.065, 0.182, 0.104], 'kerr': [-0.0045, 0, 0.008, -0.003], 't_rise_reset': [0.5, 1, 0.5, 0.5], 'readout_length': [4, 4, 4, 4], 'frequency_ef': [-440.97500000000036, 0.0, 453.3682333333336, -280.35364238410557], 'readout_length_ef': [10.0, 7.0, 4.0, 8.0], 'relax_delay': [450, 450, 450, 450]}, 'qubit': {'f_ge': [4111.097866562327, 4105.838904759637, 4110.958153299016, 4110.546407850519, 3442.8755721075536, 3448.5530242338505, 3447.060317317807, 3446.4929792801067, 4762.761504132457, 4761.823567235975, 4762.909473544484, 4762.369813422167, 4380.698604555338, 4379.604868123916, 4380.717837106693, 4381.248121020163], 'f_ge_robust': [4114.313815659153, 4108.147701523904, 4114.310372455052, 4114.310372455052, 3443.0032303441935, 3448.345849629168, 0, 0, 4763.941, 4763.941, 4763.941, 4763.941, 4384.25034225973, 4384.25034225973, 4384.25034225973, 4384.25034225973], 'f_ef': [3884.6269161242526, 0.0, 0.0, 0.0, 0.0, 3348.085433174199, 0.0, 0.0, 4571.9056482340775, 4570.996526541673, 4573.280687567687, 0.0, 4211.617732525247, 4205.61697813965, 0.0, 4209.925086260656], 'f_EgGf': [2686.53594683, 0, 2017.3, 2414.92850999], 'f_EgGf_Q': [0, 0, 5885.585546008087, 5147.382359692795], 'f_f0g1': [1184.4, 999.8, 1632.9833333333333, 1620.9166666666665], 'gs': [52.40296404695958, 54.81794456602636, 43.49513117058557, 4.930653352423196, 2.6415018214608046, 6.386231497692186], 'pulses': {'pi_ge': {'sigma': [0.02, 0.02, 0.02, 0.02, 0.025, 0.025, 0.025, 0.025, 0.015, 0.015, 0.015, 0.015, 0.025, 0.025, 0.025, 0.025], 'gain': [1849, 1914, 0, 1855, 2834, 2504, 2648, 2631, 9155, 9155, 9155, 9155, 599, 599, 599, 599], 'half_gain': [1856, 1835, 1873, 1867, 2382, 2186, 2248, 2289, 9253, 9253, 9253, 9253, 524, 524, 524, 524], 'half_correction_phase': [0, 0, 0, 0, 0, 0, 0, 0, 0, 0, 0, 0, 0, 0, 0, 0, 0], 'half_gain_pi_sigma': [927, 0, 0, 0, 0, 1315, 0, 0, 0, 0, 7212, 0, 0, 0, 0, 460], 'type': 'gauss'}, 'pi_ef': {'sigma': [0.02, 0.02, 0.02, 0.02, 0.025, 0.025, 0.025, 0.025, 0.015, 0.015, 0.015, 0.015, 0.03, 0.03, 0.03, 0.03], 'gain': [1280, 0, 0, 0, 0, 1912, 0, 0, 10000, 10079, 10015, 0, 300, 300, 0, 300], 'half_gain': [1261, 0, 0, 0, 0, 1941, 0, 0, 0, 10147, 9845, 9979, 340, 340, 0, 320], 'half_gain_pi_sigma': [673, 0, 0, 0, 0, 975, 0, 0, 0, 0, 5049, 0, 340, 0, 0, 337], 'type': 'gauss'}, 'pi_EgGf': {'gain': [32000, 0, 30000, 16000], 'sigma': [0.586, 0, 0.8, 0.44643], 'type': 'flat_top'}, 'pi_EgGf_Q': {'gain': [0, 0, 12147, 8470], 'sigma': [0, 0, 0.44193131519875684, 0.3935770171685791], 'phase': [0, 0, 18.0, 24.0], 'half_sigma': [0, 0, 0.212, 0.172], 'half_phase': [0, 0, 18.0, 21.0], 'type': 'flat_top'}, 'pi_f0g1': {'gain': [32000, 32000, 32000, 32000], 'sigma': [0.536, 0.585, 1.54, 1.04], 'idle': [3, 6, 12, 8], 'type': 'flat_top'}, 'pulse_pp': {'gain': [1750, 3550, 0, 0], 'filename': '240920_3_qram_4q_2qubit_++gg'}, 'pulse_1p': {'gain': [3500, 4375, 0, 0], 'filename': '240920_qram_4q_2qubit_e+gg'}, 'pulse_p1': {'gain': [3000, 5530, 0, 0], 'filename': '240920_qram_4q_2qubit_+egg'}, 'pihalf_ge_robust': {'gain': [7559, 7660, 7559, 7559, 4843, 4462, 4462, 4144, 20111, 20111, 20111, 20111, 2375, 2375, 2375, 2375], 'filename': ['X_2_Q0', 'X_2_Q1', 'X_2_Q2', 'X_2_Q3']}, 'pi_ge_slow': {'gain': [-1, 100, -1, -1], 'sigma': [-1, 0.25, -1, -1], 'type': 'gauss'}, 'pi_Q1_ZZ_slow': {'gain': [100, 0, -1, -1], 'sigma': [0.25, 0, -1, -1], 'type': 'gauss'}}}}, 'hw': {'soc': {'dacs': {'qubit': {'ch': [0, 1, 2, 3], 'type': 'full', 'nyquist': [2, 1, 2, 2], 'mixer_freq': [0, 0, 0, 0]}, 'swap': {'ch': 1, 'type': 'full', 'nyquist': 1, 'mixer_freq': 0}, 'swap_f0g1': {'ch': [1, 1, 5, 5], 'type': ['full', 'full', 'full', 'full'], 'nyquist': 1, 'mixer_freq': 0}, 'swap_Q': {'ch': [0, -1, 2, 3], 'type': ['full', 'None', 'full', 'full'], 'nyquist': [2, 0, 2, 2], 'mixer_freq': 0}, 'readout': {'ch': [6, 4, 6, 6], 'full_mux_chs': [5, 4, 5, 5], 'type': ['mux4', 'full', 'mux4', 'mux4'], 'mixer_freq': [7250, 5795.8115578931565, 7250, 7250], 'nyquist': [2, 2, 2, 2]}, 'res_pump': {'ch': 4, 'type': 'full', 'mixer_freq': 0, 'nyquist': 2}, 'delay_chs': {'ch': [0, 1, 2, 3, 4, 5, 6], 'delay_ns': [4.0, 0.0, 5.0, 3.0, 25, 60, 71]}}, 'adcs': {'readout': {'ch': [0, 1, 2, 3]}}}, 'lo': {'twpa': {'frequency': '8210.0e6', 'power': -1.5}, 'readout': {'frequency': 0, 'power': 0}}}, 'aliases': {'readout_LO': 'SC_20A1', 'twpa_LO': 'SC_26C1', 'soc': 'Qick_QRAM'}, 'expt': {'start_N': 0, 'step_N': 1, 'expts_N': 10, 'start_f': 5146.882359692795, 'step_f': 0.03333333333333333, 'expts_f': 31, 'reps': 1000, 'loops': 1, 'pulse_type': 'flat_top', 'post_process': 'scale', 'singleshot_reps': 15000, 'measure_f': False, 'init_state': '|1>|1>', 'qDrive': 3, 'qubits': [3, 1], 'measure_qubits': [3, 1], 'readout_cool': False, 'n_init_readout': 1, 'n_trig': 1, 'init_read_wait_us': 2, 'full_mux_expt': True, 'resonator_reset': [0, 2, 3]}}\n"
     ]
    },
    {
     "data": {
      "application/vnd.jupyter.widget-view+json": {
       "model_id": "86e49f6ef44843c489a852d20c7fdb3d",
       "version_major": 2,
       "version_minor": 0
      },
      "text/plain": [
       "  0%|          | 0/4 [00:00<?, ?it/s]"
      ]
     },
     "metadata": {},
     "output_type": "display_data"
    },
    {
     "name": "stdout",
     "output_type": "stream",
     "text": [
      "Qubit  (3)\n",
      "ge fidelity (%): 80.49939329288615 \t angle (deg): 0.0 \t threshold ge: 161.96292744663015\n",
      "Qubit  (1)\n",
      "ge fidelity (%): 2.7599999999999514 \t angle (deg): 0.0 \t threshold ge: 88.37785670166745\n"
     ]
    },
    {
     "data": {
      "application/vnd.jupyter.widget-view+json": {
       "model_id": "b92ccfb57bcf42459efc50a6096b6a5c",
       "version_major": 2,
       "version_minor": 0
      },
      "text/plain": [
       "  0%|          | 0/10 [00:00<?, ?it/s]"
      ]
     },
     "metadata": {},
     "output_type": "display_data"
    },
    {
     "name": "stdout",
     "output_type": "stream",
     "text": [
      "Attempted to init fitparam 3 to 0.0, which is out of bounds 0 to 0.2361794630228345. Instead init to 0.11808973151141725\n",
      "Fit best freq (qA) 5147.369818306699 which is -0.012541386096017959 away from old freq 5147.382359692795\n",
      "Best freq from pi/-pi on Q3 5147.369818306699\n",
      "Attempted to init fitparam 3 to 0.0, which is out of bounds 0 to 0.09962341105279314. Instead init to 0.04981170552639657\n",
      "Fit best freq (qA) 5147.347639540882 which is -0.03472015191346145 away from old freq 5147.382359692795\n",
      "Best freq from pi/-pi on Q1 5147.347639540882\n",
      "best 0 0.0476517306195593\n",
      "Saving S:\\QRAM\\qram_4QR2\\data\\data_241025\\00082_PiMinusPiEgGfExptQ31.h5\n",
      "Saved S:\\QRAM\\qram_4QR2\\data\\data_241025\\00082_PiMinusPiEgGfExptQ31.h5\n",
      "for gain 8470.588235294117 added swap pi freq from pi minus pi 5147.369818306699\n",
      "using opt freq 5147.369818306699\n",
      "-------- swap error amplification --------\n",
      "{'device': {'readout': {'trig_offset': 150, 'lo_sideband': [1, 1, 1, 1], 'frequency': [-439.97500000000036, 0.0, 452.3682333333336, -278.89999999999964], 'gain': [0.17, 0.035, 0.25, 0.17], 'kappa_ext': [0.157, 0.065, 0.182, 0.104], 'kerr': [-0.0045, 0, 0.008, -0.003], 't_rise_reset': [0.5, 1, 0.5, 0.5], 'readout_length': [4, 4, 4, 4], 'frequency_ef': [-440.97500000000036, 0.0, 453.3682333333336, -280.35364238410557], 'readout_length_ef': [10.0, 7.0, 4.0, 8.0], 'relax_delay': [450, 450, 450, 450]}, 'qubit': {'f_ge': [4111.097866562327, 4105.838904759637, 4110.958153299016, 4110.546407850519, 3442.8755721075536, 3448.5530242338505, 3447.060317317807, 3446.4929792801067, 4762.761504132457, 4761.823567235975, 4762.909473544484, 4762.369813422167, 4380.698604555338, 4379.604868123916, 4380.717837106693, 4381.248121020163], 'f_ge_robust': [4114.313815659153, 4108.147701523904, 4114.310372455052, 4114.310372455052, 3443.0032303441935, 3448.345849629168, 0, 0, 4763.941, 4763.941, 4763.941, 4763.941, 4384.25034225973, 4384.25034225973, 4384.25034225973, 4384.25034225973], 'f_ef': [3884.6269161242526, 0.0, 0.0, 0.0, 0.0, 3348.085433174199, 0.0, 0.0, 4571.9056482340775, 4570.996526541673, 4573.280687567687, 0.0, 4211.617732525247, 4205.61697813965, 0.0, 4209.925086260656], 'f_EgGf': [2686.53594683, 0, 2017.3, 2414.92850999], 'f_EgGf_Q': [0, 0, 5885.585546008087, 5147.369818306699], 'f_f0g1': [1184.4, 999.8, 1632.9833333333333, 1620.9166666666665], 'gs': [52.40296404695958, 54.81794456602636, 43.49513117058557, 4.930653352423196, 2.6415018214608046, 6.386231497692186], 'pulses': {'pi_ge': {'sigma': [0.02, 0.02, 0.02, 0.02, 0.025, 0.025, 0.025, 0.025, 0.015, 0.015, 0.015, 0.015, 0.025, 0.025, 0.025, 0.025], 'gain': [1849, 1914, 0, 1855, 2834, 2504, 2648, 2631, 9155, 9155, 9155, 9155, 599, 599, 599, 599], 'half_gain': [1856, 1835, 1873, 1867, 2382, 2186, 2248, 2289, 9253, 9253, 9253, 9253, 524, 524, 524, 524], 'half_correction_phase': [0, 0, 0, 0, 0, 0, 0, 0, 0, 0, 0, 0, 0, 0, 0, 0, 0], 'half_gain_pi_sigma': [927, 0, 0, 0, 0, 1315, 0, 0, 0, 0, 7212, 0, 0, 0, 0, 460], 'type': 'gauss'}, 'pi_ef': {'sigma': [0.02, 0.02, 0.02, 0.02, 0.025, 0.025, 0.025, 0.025, 0.015, 0.015, 0.015, 0.015, 0.03, 0.03, 0.03, 0.03], 'gain': [1280, 0, 0, 0, 0, 1912, 0, 0, 10000, 10079, 10015, 0, 300, 300, 0, 300], 'half_gain': [1261, 0, 0, 0, 0, 1941, 0, 0, 0, 10147, 9845, 9979, 340, 340, 0, 320], 'half_gain_pi_sigma': [673, 0, 0, 0, 0, 975, 0, 0, 0, 0, 5049, 0, 340, 0, 0, 337], 'type': 'gauss'}, 'pi_EgGf': {'gain': [32000, 0, 30000, 16000], 'sigma': [0.586, 0, 0.8, 0.44643], 'type': 'flat_top'}, 'pi_EgGf_Q': {'gain': [0, 0, 12147, 8470], 'sigma': [0, 0, 0.44193131519875684, 0.3935770171685791], 'phase': [0, 0, 18.0, 24.0], 'half_sigma': [0, 0, 0.212, 0.172], 'half_phase': [0, 0, 18.0, 21.0], 'type': 'flat_top'}, 'pi_f0g1': {'gain': [32000, 32000, 32000, 32000], 'sigma': [0.536, 0.585, 1.54, 1.04], 'idle': [3, 6, 12, 8], 'type': 'flat_top'}, 'pulse_pp': {'gain': [1750, 3550, 0, 0], 'filename': '240920_3_qram_4q_2qubit_++gg'}, 'pulse_1p': {'gain': [3500, 4375, 0, 0], 'filename': '240920_qram_4q_2qubit_e+gg'}, 'pulse_p1': {'gain': [3000, 5530, 0, 0], 'filename': '240920_qram_4q_2qubit_+egg'}, 'pihalf_ge_robust': {'gain': [7559, 7660, 7559, 7559, 4843, 4462, 4462, 4144, 20111, 20111, 20111, 20111, 2375, 2375, 2375, 2375], 'filename': ['X_2_Q0', 'X_2_Q1', 'X_2_Q2', 'X_2_Q3']}, 'pi_ge_slow': {'gain': [-1, 100, -1, -1], 'sigma': [-1, 0.25, -1, -1], 'type': 'gauss'}, 'pi_Q1_ZZ_slow': {'gain': [100, 0, -1, -1], 'sigma': [0.25, 0, -1, -1], 'type': 'gauss'}}}}, 'hw': {'soc': {'dacs': {'qubit': {'ch': [0, 1, 2, 3], 'type': 'full', 'nyquist': [2, 1, 2, 2], 'mixer_freq': [0, 0, 0, 0]}, 'swap': {'ch': 1, 'type': 'full', 'nyquist': 1, 'mixer_freq': 0}, 'swap_f0g1': {'ch': [1, 1, 5, 5], 'type': ['full', 'full', 'full', 'full'], 'nyquist': 1, 'mixer_freq': 0}, 'swap_Q': {'ch': [0, -1, 2, 3], 'type': ['full', 'None', 'full', 'full'], 'nyquist': [2, 0, 2, 2], 'mixer_freq': 0}, 'readout': {'ch': [6, 4, 6, 6], 'full_mux_chs': [5, 4, 5, 5], 'type': ['mux4', 'full', 'mux4', 'mux4'], 'mixer_freq': [7250, 5795.8115578931565, 7250, 7250], 'nyquist': [2, 2, 2, 2]}, 'res_pump': {'ch': 4, 'type': 'full', 'mixer_freq': 0, 'nyquist': 2}, 'delay_chs': {'ch': [0, 1, 2, 3, 4, 5, 6], 'delay_ns': [4.0, 0.0, 5.0, 3.0, 25, 60, 71]}}, 'adcs': {'readout': {'ch': [0, 1, 2, 3]}}}, 'lo': {'twpa': {'frequency': '8210.0e6', 'power': -1.5}, 'readout': {'frequency': 0, 'power': 0}}}, 'aliases': {'readout_LO': 'SC_20A1', 'twpa_LO': 'SC_26C1', 'soc': 'Qick_QRAM'}, 'expt': {'start': 0, 'step': 1, 'expts': 10, 'reps': 2000, 'loops': 10, 'pulse_type': 'flat_top', 'post_process': 'scale', 'singleshot_reps': 15000, 'measure_f': False, 'init_state': '|1>|1>', 'qDrive': 3, 'qubits': [3, 1], 'measure_qubits': [3, 1], 'full_mux_expt': True, 'resonator_reset': [0, 2, 3]}}\n"
     ]
    },
    {
     "data": {
      "application/vnd.jupyter.widget-view+json": {
       "model_id": "3e41a423593e40e7b487928f65430f12",
       "version_major": 2,
       "version_minor": 0
      },
      "text/plain": [
       "  0%|          | 0/4 [00:00<?, ?it/s]"
      ]
     },
     "metadata": {},
     "output_type": "display_data"
    },
    {
     "name": "stdout",
     "output_type": "stream",
     "text": [
      "Qubit  (3)\n",
      "ge fidelity (%): 80.12607284930104 \t angle (deg): 0.0 \t threshold ge: 167.50972988051328\n",
      "Qubit  (1)\n",
      "ge fidelity (%): 55.42000000000002 \t angle (deg): 0.0 \t threshold ge: 311.7390258231403\n"
     ]
    },
    {
     "data": {
      "application/vnd.jupyter.widget-view+json": {
       "model_id": "4518ab535370460bb6f5e6058f52c7db",
       "version_major": 2,
       "version_minor": 0
      },
      "text/plain": [
       "  0%|          | 0/10 [00:00<?, ?it/s]"
      ]
     },
     "metadata": {},
     "output_type": "display_data"
    },
    {
     "name": "stdout",
     "output_type": "stream",
     "text": [
      "Saving S:\\QRAM\\qram_4QR2\\data\\data_241025\\00076_NPulseExptEgGfQ31.h5\n",
      "Saved S:\\QRAM\\qram_4QR2\\data\\data_241025\\00076_NPulseExptEgGfQ31.h5\n",
      "[ 0.50530439  0.82578173 14.16418376]\n",
      "Attempted to init fitparam 0 to 0.0, which is out of bounds 0.0 to 0.0. Instead init to 0.0\n",
      "Warning: fit failed with error: Each lower bound must be strictly less than each upper bound.\n",
      "[0.0, 0.0, 10]\n",
      "Warning: fit failed with error: Optimal parameters not found: The maximum number of function evaluations is exceeded.\n",
      "[179.6000261734069, 0.0, 10]\n",
      "[ 0.60804069 -0.76478207 10.78109641]\n",
      "Attempted to init fitparam 0 to 0.0, which is out of bounds 0.0 to 0.0. Instead init to 0.0\n",
      "Warning: fit failed with error: Each lower bound must be strictly less than each upper bound.\n",
      "[0.0, 0.0, 10]\n",
      "Warning: fit failed with error: Optimal parameters not found: The maximum number of function evaluations is exceeded.\n",
      "[319.92318950866445, 0.0, 10]\n",
      "From QA: adjust length to 0.39539094282703197\n",
      "\tadjust ratio 0.9954123236979499\n",
      "\n",
      "From QB: adjust length to 0.3952563782337439\n",
      "\tadjust ratio 0.9957512107137418\n",
      "best 0 inf\n",
      "pi len precise 0.3935770171685791 adjustment ratio 1.0 from Q1\n",
      "for gain 8470.588235294117 added swap pi len from error amplification 0.3935770171685791\n",
      "----------- STARTING GAIN 9205.882352941177 -----------\n",
      "-------- swap length rabi --------\n",
      "gain 9205 freq 5147.064030949251\n"
     ]
    },
    {
     "data": {
      "application/vnd.jupyter.widget-view+json": {
       "model_id": "bb70eef602ac46d2bfc72473dab306da",
       "version_major": 2,
       "version_minor": 0
      },
      "text/plain": [
       "  0%|          | 0/101 [00:00<?, ?it/s]"
      ]
     },
     "metadata": {},
     "output_type": "display_data"
    },
    {
     "name": "stdout",
     "output_type": "stream",
     "text": [
      "Saving S:\\QRAM\\qram_4QR2\\data\\data_241025\\00078_length_rabi_EgGf_qubit31.h5\n",
      "Saved S:\\QRAM\\qram_4QR2\\data\\data_241025\\00078_length_rabi_EgGf_qubit31.h5\n",
      "Attempted to init fitparam 0 to 0.0, which is out of bounds 0.0 to 0.0. Instead init to 0.0\n",
      "Attempted to init fitparam 4 to 0.0, which is out of bounds 0.0 to 0.0. Instead init to 0.0\n",
      "Warning: fit failed with error: Each lower bound must be strictly less than each upper bound.\n",
      "Attempted to init fitparam 0 to 0.0, which is out of bounds 0.0 to 0.0. Instead init to 0.0\n",
      "Attempted to init fitparam 4 to 0.0, which is out of bounds 0.0 to 0.0. Instead init to 0.0\n",
      "Warning: fit failed with error: Each lower bound must be strictly less than each upper bound.\n",
      "best 0 0.03389353538785265\n",
      "Pi length from amps data (qubit A) [us]: 0.3661172064234872\n",
      "\tPi/2 length from avgq data (qubit A) [us]: 0.1830586032117436\n",
      "\tDecay time [us]: 6.35535882230171\n",
      "Pi length from avgq data (qubit A) [us]: 0.5547466511357019\n",
      "\tPi/2 length from avgq data (qubit A) [us]: 0.27737332556785094\n",
      "\tDecay time [us]: 1.4793244030285382\n",
      "Pi length from amps data (qubit B) [us]: 0.37001861136435815\n",
      "\tPi/2 length from avgq data (qubit B) [us]: 0.18500930568217908\n",
      "\tDecay time [us]: 6.266041878191322\n",
      "Pi length from avgq data (qubit B) [us]: 0.5547466511357019\n",
      "\tPi/2 length from avgq data (qubit B) [us]: 0.27737332556785094\n",
      "\tDecay time [us]: 1.4793244030285382\n",
      "max QA amp: 262.1487778899215\n",
      "min QA amp: 90.53705956428429\n",
      "max QB amp: 361.78144808289875\n",
      "min QB amp: 285.2266886145766\n",
      "for gain 9205.882352941177 added swap pi len from length rabi 0.3661172064234872\n",
      "-------- swap pi minus pi --------\n",
      "{'device': {'readout': {'trig_offset': 150, 'lo_sideband': [1, 1, 1, 1], 'frequency': [-439.97500000000036, 0.0, 452.3682333333336, -278.89999999999964], 'gain': [0.17, 0.0001, 0.25, 0.17], 'kappa_ext': [0.157, 0.065, 0.182, 0.104], 'kerr': [-0.0045, 0, 0.008, -0.003], 't_rise_reset': [0.5, 1, 0.5, 0.5], 'readout_length': [4, 4, 4, 4], 'frequency_ef': [-440.97500000000036, 0.0, 453.3682333333336, -280.35364238410557], 'readout_length_ef': [10.0, 7.0, 4.0, 8.0], 'relax_delay': [450, 450, 450, 450]}, 'qubit': {'f_ge': [4111.097866562327, 4105.838904759637, 4110.958153299016, 4110.546407850519, 3442.8755721075536, 3448.5530242338505, 3447.060317317807, 3446.4929792801067, 4762.761504132457, 4761.823567235975, 4762.909473544484, 4762.369813422167, 4380.698604555338, 4379.604868123916, 4380.717837106693, 4381.248121020163], 'f_ge_robust': [4114.313815659153, 4108.147701523904, 4114.310372455052, 4114.310372455052, 3443.0032303441935, 3448.345849629168, 0, 0, 4763.941, 4763.941, 4763.941, 4763.941, 4384.25034225973, 4384.25034225973, 4384.25034225973, 4384.25034225973], 'f_ef': [3884.6269161242526, 0.0, 0.0, 0.0, 0.0, 3348.085433174199, 0.0, 0.0, 4571.9056482340775, 4570.996526541673, 4573.280687567687, 0.0, 4211.617732525247, 4205.61697813965, 0.0, 4209.925086260656], 'f_EgGf': [2686.53594683, 0, 2017.3, 2414.92850999], 'f_EgGf_Q': [0, 0, 5885.585546008087, 5147.064030949251], 'f_f0g1': [1184.4, 999.8, 1632.9833333333333, 1620.9166666666665], 'gs': [52.40296404695958, 54.81794456602636, 43.49513117058557, 4.930653352423196, 2.6415018214608046, 6.386231497692186], 'pulses': {'pi_ge': {'sigma': [0.02, 0.02, 0.02, 0.02, 0.025, 0.025, 0.025, 0.025, 0.015, 0.015, 0.015, 0.015, 0.025, 0.025, 0.025, 0.025], 'gain': [1849, 1914, 0, 1855, 2834, 2504, 2648, 2631, 9155, 9155, 9155, 9155, 599, 599, 599, 599], 'half_gain': [1856, 1835, 1873, 1867, 2382, 2186, 2248, 2289, 9253, 9253, 9253, 9253, 524, 524, 524, 524], 'half_correction_phase': [0, 0, 0, 0, 0, 0, 0, 0, 0, 0, 0, 0, 0, 0, 0, 0, 0], 'half_gain_pi_sigma': [927, 0, 0, 0, 0, 1315, 0, 0, 0, 0, 7212, 0, 0, 0, 0, 460], 'type': 'gauss'}, 'pi_ef': {'sigma': [0.02, 0.02, 0.02, 0.02, 0.025, 0.025, 0.025, 0.025, 0.015, 0.015, 0.015, 0.015, 0.03, 0.03, 0.03, 0.03], 'gain': [1280, 0, 0, 0, 0, 1912, 0, 0, 10000, 10079, 10015, 0, 300, 300, 0, 300], 'half_gain': [1261, 0, 0, 0, 0, 1941, 0, 0, 0, 10147, 9845, 9979, 340, 340, 0, 320], 'half_gain_pi_sigma': [673, 0, 0, 0, 0, 975, 0, 0, 0, 0, 5049, 0, 340, 0, 0, 337], 'type': 'gauss'}, 'pi_EgGf': {'gain': [32000, 0, 30000, 16000], 'sigma': [0.586, 0, 0.8, 0.44643], 'type': 'flat_top'}, 'pi_EgGf_Q': {'gain': [0, 0, 12147, 9205], 'sigma': [0, 0, 0.44193131519875684, 0.3661172064234872], 'phase': [0, 0, 18.0, 24.0], 'half_sigma': [0, 0, 0.212, 0.172], 'half_phase': [0, 0, 18.0, 21.0], 'type': 'flat_top'}, 'pi_f0g1': {'gain': [32000, 32000, 32000, 32000], 'sigma': [0.536, 0.585, 1.54, 1.04], 'idle': [3, 6, 12, 8], 'type': 'flat_top'}, 'pulse_pp': {'gain': [1750, 3550, 0, 0], 'filename': '240920_3_qram_4q_2qubit_++gg'}, 'pulse_1p': {'gain': [3500, 4375, 0, 0], 'filename': '240920_qram_4q_2qubit_e+gg'}, 'pulse_p1': {'gain': [3000, 5530, 0, 0], 'filename': '240920_qram_4q_2qubit_+egg'}, 'pihalf_ge_robust': {'gain': [7559, 7660, 7559, 7559, 4843, 4462, 4462, 4144, 20111, 20111, 20111, 20111, 2375, 2375, 2375, 2375], 'filename': ['X_2_Q0', 'X_2_Q1', 'X_2_Q2', 'X_2_Q3']}, 'pi_ge_slow': {'gain': [-1, 100, -1, -1], 'sigma': [-1, 0.25, -1, -1], 'type': 'gauss'}, 'pi_Q1_ZZ_slow': {'gain': [100, 0, -1, -1], 'sigma': [0.25, 0, -1, -1], 'type': 'gauss'}}}}, 'hw': {'soc': {'dacs': {'qubit': {'ch': [0, 1, 2, 3], 'type': 'full', 'nyquist': [2, 1, 2, 2], 'mixer_freq': [0, 0, 0, 0]}, 'swap': {'ch': 1, 'type': 'full', 'nyquist': 1, 'mixer_freq': 0}, 'swap_f0g1': {'ch': [1, 1, 5, 5], 'type': ['full', 'full', 'full', 'full'], 'nyquist': 1, 'mixer_freq': 0}, 'swap_Q': {'ch': [0, -1, 2, 3], 'type': ['full', 'None', 'full', 'full'], 'nyquist': [2, 0, 2, 2], 'mixer_freq': 0}, 'readout': {'ch': [6, 4, 6, 6], 'full_mux_chs': [5, 4, 5, 5], 'type': ['mux4', 'full', 'mux4', 'mux4'], 'mixer_freq': [7250, 5795.8115578931565, 7250, 7250], 'nyquist': [2, 2, 2, 2]}, 'res_pump': {'ch': 4, 'type': 'full', 'mixer_freq': 0, 'nyquist': 2}, 'delay_chs': {'ch': [0, 1, 2, 3, 4, 5, 6], 'delay_ns': [4.0, 0.0, 5.0, 3.0, 25, 60, 71]}}, 'adcs': {'readout': {'ch': [0, 1, 2, 3]}}}, 'lo': {'twpa': {'frequency': '8210.0e6', 'power': -1.5}, 'readout': {'frequency': 0, 'power': 0}}}, 'aliases': {'readout_LO': 'SC_20A1', 'twpa_LO': 'SC_26C1', 'soc': 'Qick_QRAM'}, 'expt': {'start_N': 0, 'step_N': 1, 'expts_N': 10, 'start_f': 5146.564030949251, 'step_f': 0.03333333333333333, 'expts_f': 31, 'reps': 1000, 'loops': 1, 'pulse_type': 'flat_top', 'post_process': 'scale', 'singleshot_reps': 15000, 'measure_f': False, 'init_state': '|1>|1>', 'qDrive': 3, 'qubits': [3, 1], 'measure_qubits': [3, 1], 'readout_cool': False, 'n_init_readout': 1, 'n_trig': 1, 'init_read_wait_us': 2, 'full_mux_expt': True, 'resonator_reset': [0, 2, 3]}}\n"
     ]
    },
    {
     "data": {
      "application/vnd.jupyter.widget-view+json": {
       "model_id": "966488c10d7f444ea2f80e5f3d218a85",
       "version_major": 2,
       "version_minor": 0
      },
      "text/plain": [
       "  0%|          | 0/4 [00:00<?, ?it/s]"
      ]
     },
     "metadata": {},
     "output_type": "display_data"
    },
    {
     "name": "stdout",
     "output_type": "stream",
     "text": [
      "Qubit  (3)\n",
      "ge fidelity (%): 78.41921372535947 \t angle (deg): 0.0 \t threshold ge: 163.33340284340142\n",
      "Qubit  (1)\n",
      "ge fidelity (%): 1.7533333333333068 \t angle (deg): 0.0 \t threshold ge: 111.00348250533938\n"
     ]
    },
    {
     "data": {
      "application/vnd.jupyter.widget-view+json": {
       "model_id": "032a6e1a1a71409cb09df7c531d45c45",
       "version_major": 2,
       "version_minor": 0
      },
      "text/plain": [
       "  0%|          | 0/10 [00:00<?, ?it/s]"
      ]
     },
     "metadata": {},
     "output_type": "display_data"
    },
    {
     "name": "stdout",
     "output_type": "stream",
     "text": [
      "Attempted to init fitparam 3 to 0.0, which is out of bounds 0 to 0.2906995687180247. Instead init to 0.14534978435901236\n",
      "Fit best freq (qA) 5147.0095936948965 which is -0.054437254354525066 away from old freq 5147.064030949251\n",
      "Best freq from pi/-pi on Q3 5147.0095936948965\n",
      "Attempted to init fitparam 3 to 0.0, which is out of bounds 0 to 0.09577776848147873. Instead init to 0.047888884240739366\n",
      "Fit best freq (qA) 5146.727550037072 which is -0.33648091217855836 away from old freq 5147.064030949251\n",
      "Best freq from pi/-pi on Q1 5146.727550037072\n",
      "best 0 0.032050463803614676\n",
      "Saving S:\\QRAM\\qram_4QR2\\data\\data_241025\\00083_PiMinusPiEgGfExptQ31.h5\n",
      "Saved S:\\QRAM\\qram_4QR2\\data\\data_241025\\00083_PiMinusPiEgGfExptQ31.h5\n",
      "for gain 9205.882352941177 added swap pi freq from pi minus pi 5147.0095936948965\n",
      "using opt freq 5147.0095936948965\n",
      "-------- swap error amplification --------\n",
      "{'device': {'readout': {'trig_offset': 150, 'lo_sideband': [1, 1, 1, 1], 'frequency': [-439.97500000000036, 0.0, 452.3682333333336, -278.89999999999964], 'gain': [0.17, 0.035, 0.25, 0.17], 'kappa_ext': [0.157, 0.065, 0.182, 0.104], 'kerr': [-0.0045, 0, 0.008, -0.003], 't_rise_reset': [0.5, 1, 0.5, 0.5], 'readout_length': [4, 4, 4, 4], 'frequency_ef': [-440.97500000000036, 0.0, 453.3682333333336, -280.35364238410557], 'readout_length_ef': [10.0, 7.0, 4.0, 8.0], 'relax_delay': [450, 450, 450, 450]}, 'qubit': {'f_ge': [4111.097866562327, 4105.838904759637, 4110.958153299016, 4110.546407850519, 3442.8755721075536, 3448.5530242338505, 3447.060317317807, 3446.4929792801067, 4762.761504132457, 4761.823567235975, 4762.909473544484, 4762.369813422167, 4380.698604555338, 4379.604868123916, 4380.717837106693, 4381.248121020163], 'f_ge_robust': [4114.313815659153, 4108.147701523904, 4114.310372455052, 4114.310372455052, 3443.0032303441935, 3448.345849629168, 0, 0, 4763.941, 4763.941, 4763.941, 4763.941, 4384.25034225973, 4384.25034225973, 4384.25034225973, 4384.25034225973], 'f_ef': [3884.6269161242526, 0.0, 0.0, 0.0, 0.0, 3348.085433174199, 0.0, 0.0, 4571.9056482340775, 4570.996526541673, 4573.280687567687, 0.0, 4211.617732525247, 4205.61697813965, 0.0, 4209.925086260656], 'f_EgGf': [2686.53594683, 0, 2017.3, 2414.92850999], 'f_EgGf_Q': [0, 0, 5885.585546008087, 5147.0095936948965], 'f_f0g1': [1184.4, 999.8, 1632.9833333333333, 1620.9166666666665], 'gs': [52.40296404695958, 54.81794456602636, 43.49513117058557, 4.930653352423196, 2.6415018214608046, 6.386231497692186], 'pulses': {'pi_ge': {'sigma': [0.02, 0.02, 0.02, 0.02, 0.025, 0.025, 0.025, 0.025, 0.015, 0.015, 0.015, 0.015, 0.025, 0.025, 0.025, 0.025], 'gain': [1849, 1914, 0, 1855, 2834, 2504, 2648, 2631, 9155, 9155, 9155, 9155, 599, 599, 599, 599], 'half_gain': [1856, 1835, 1873, 1867, 2382, 2186, 2248, 2289, 9253, 9253, 9253, 9253, 524, 524, 524, 524], 'half_correction_phase': [0, 0, 0, 0, 0, 0, 0, 0, 0, 0, 0, 0, 0, 0, 0, 0, 0], 'half_gain_pi_sigma': [927, 0, 0, 0, 0, 1315, 0, 0, 0, 0, 7212, 0, 0, 0, 0, 460], 'type': 'gauss'}, 'pi_ef': {'sigma': [0.02, 0.02, 0.02, 0.02, 0.025, 0.025, 0.025, 0.025, 0.015, 0.015, 0.015, 0.015, 0.03, 0.03, 0.03, 0.03], 'gain': [1280, 0, 0, 0, 0, 1912, 0, 0, 10000, 10079, 10015, 0, 300, 300, 0, 300], 'half_gain': [1261, 0, 0, 0, 0, 1941, 0, 0, 0, 10147, 9845, 9979, 340, 340, 0, 320], 'half_gain_pi_sigma': [673, 0, 0, 0, 0, 975, 0, 0, 0, 0, 5049, 0, 340, 0, 0, 337], 'type': 'gauss'}, 'pi_EgGf': {'gain': [32000, 0, 30000, 16000], 'sigma': [0.586, 0, 0.8, 0.44643], 'type': 'flat_top'}, 'pi_EgGf_Q': {'gain': [0, 0, 12147, 9205], 'sigma': [0, 0, 0.44193131519875684, 0.3661172064234872], 'phase': [0, 0, 18.0, 24.0], 'half_sigma': [0, 0, 0.212, 0.172], 'half_phase': [0, 0, 18.0, 21.0], 'type': 'flat_top'}, 'pi_f0g1': {'gain': [32000, 32000, 32000, 32000], 'sigma': [0.536, 0.585, 1.54, 1.04], 'idle': [3, 6, 12, 8], 'type': 'flat_top'}, 'pulse_pp': {'gain': [1750, 3550, 0, 0], 'filename': '240920_3_qram_4q_2qubit_++gg'}, 'pulse_1p': {'gain': [3500, 4375, 0, 0], 'filename': '240920_qram_4q_2qubit_e+gg'}, 'pulse_p1': {'gain': [3000, 5530, 0, 0], 'filename': '240920_qram_4q_2qubit_+egg'}, 'pihalf_ge_robust': {'gain': [7559, 7660, 7559, 7559, 4843, 4462, 4462, 4144, 20111, 20111, 20111, 20111, 2375, 2375, 2375, 2375], 'filename': ['X_2_Q0', 'X_2_Q1', 'X_2_Q2', 'X_2_Q3']}, 'pi_ge_slow': {'gain': [-1, 100, -1, -1], 'sigma': [-1, 0.25, -1, -1], 'type': 'gauss'}, 'pi_Q1_ZZ_slow': {'gain': [100, 0, -1, -1], 'sigma': [0.25, 0, -1, -1], 'type': 'gauss'}}}}, 'hw': {'soc': {'dacs': {'qubit': {'ch': [0, 1, 2, 3], 'type': 'full', 'nyquist': [2, 1, 2, 2], 'mixer_freq': [0, 0, 0, 0]}, 'swap': {'ch': 1, 'type': 'full', 'nyquist': 1, 'mixer_freq': 0}, 'swap_f0g1': {'ch': [1, 1, 5, 5], 'type': ['full', 'full', 'full', 'full'], 'nyquist': 1, 'mixer_freq': 0}, 'swap_Q': {'ch': [0, -1, 2, 3], 'type': ['full', 'None', 'full', 'full'], 'nyquist': [2, 0, 2, 2], 'mixer_freq': 0}, 'readout': {'ch': [6, 4, 6, 6], 'full_mux_chs': [5, 4, 5, 5], 'type': ['mux4', 'full', 'mux4', 'mux4'], 'mixer_freq': [7250, 5795.8115578931565, 7250, 7250], 'nyquist': [2, 2, 2, 2]}, 'res_pump': {'ch': 4, 'type': 'full', 'mixer_freq': 0, 'nyquist': 2}, 'delay_chs': {'ch': [0, 1, 2, 3, 4, 5, 6], 'delay_ns': [4.0, 0.0, 5.0, 3.0, 25, 60, 71]}}, 'adcs': {'readout': {'ch': [0, 1, 2, 3]}}}, 'lo': {'twpa': {'frequency': '8210.0e6', 'power': -1.5}, 'readout': {'frequency': 0, 'power': 0}}}, 'aliases': {'readout_LO': 'SC_20A1', 'twpa_LO': 'SC_26C1', 'soc': 'Qick_QRAM'}, 'expt': {'start': 0, 'step': 1, 'expts': 10, 'reps': 2000, 'loops': 10, 'pulse_type': 'flat_top', 'post_process': 'scale', 'singleshot_reps': 15000, 'measure_f': False, 'init_state': '|1>|1>', 'qDrive': 3, 'qubits': [3, 1], 'measure_qubits': [3, 1], 'full_mux_expt': True, 'resonator_reset': [0, 2, 3]}}\n"
     ]
    },
    {
     "data": {
      "application/vnd.jupyter.widget-view+json": {
       "model_id": "04e893b069bb4530b584cac3679a4ad6",
       "version_major": 2,
       "version_minor": 0
      },
      "text/plain": [
       "  0%|          | 0/4 [00:00<?, ?it/s]"
      ]
     },
     "metadata": {},
     "output_type": "display_data"
    },
    {
     "name": "stdout",
     "output_type": "stream",
     "text": [
      "Qubit  (3)\n",
      "ge fidelity (%): 79.1466666666667 \t angle (deg): 0.0 \t threshold ge: 166.38829778758858\n",
      "Qubit  (1)\n",
      "ge fidelity (%): 56.81333333333336 \t angle (deg): 0.0 \t threshold ge: 313.0461750950032\n"
     ]
    },
    {
     "data": {
      "application/vnd.jupyter.widget-view+json": {
       "model_id": "5c0c1e00da5c43598cc5b6d3db231740",
       "version_major": 2,
       "version_minor": 0
      },
      "text/plain": [
       "  0%|          | 0/10 [00:00<?, ?it/s]"
      ]
     },
     "metadata": {},
     "output_type": "display_data"
    },
    {
     "name": "stdout",
     "output_type": "stream",
     "text": [
      "Saving S:\\QRAM\\qram_4QR2\\data\\data_241025\\00077_NPulseExptEgGfQ31.h5\n",
      "Saved S:\\QRAM\\qram_4QR2\\data\\data_241025\\00077_NPulseExptEgGfQ31.h5\n",
      "[ 0.51078817 -0.13297444 22.59406829]\n",
      "Attempted to init fitparam 0 to 0.0, which is out of bounds 0.0 to 0.0. Instead init to 0.0\n",
      "Warning: fit failed with error: Each lower bound must be strictly less than each upper bound.\n",
      "[0.0, 0.0, 10]\n",
      "Warning: fit failed with error: Optimal parameters not found: The maximum number of function evaluations is exceeded.\n",
      "[179.17048599871947, 0.0, 10]\n",
      "[0.61872228 0.07848097 4.27710211]\n",
      "Attempted to init fitparam 0 to 0.0, which is out of bounds 0.0 to 0.0. Instead init to 0.0\n",
      "Warning: fit failed with error: Each lower bound must be strictly less than each upper bound.\n",
      "[0.0, 0.0, 10]\n",
      "[322.63131032  11.29473155  99.99470441]\n",
      "From QA: adjust length to 0.36584693812781033\n",
      "\tadjust ratio 1.0007387469116455\n",
      "\n",
      "From QB: adjust length to 0.36595764691461535\n",
      "\tadjust ratio 1.0004360053962995\n",
      "best 1 20.037085225236844\n",
      "pi len precise 0.3445003248172285 adjustment ratio 1.0627485086341424 from Q1\n",
      "for gain 9205.882352941177 added swap pi len from error amplification 0.3445003248172285\n",
      "----------- STARTING GAIN 9941.176470588234 -----------\n",
      "-------- swap length rabi --------\n",
      "gain 9941 freq 5146.716603411045\n"
     ]
    },
    {
     "data": {
      "application/vnd.jupyter.widget-view+json": {
       "model_id": "65d53b57a6f343dfb71c2f5239dd7962",
       "version_major": 2,
       "version_minor": 0
      },
      "text/plain": [
       "  0%|          | 0/101 [00:00<?, ?it/s]"
      ]
     },
     "metadata": {},
     "output_type": "display_data"
    },
    {
     "name": "stdout",
     "output_type": "stream",
     "text": [
      "Saving S:\\QRAM\\qram_4QR2\\data\\data_241025\\00079_length_rabi_EgGf_qubit31.h5\n",
      "Saved S:\\QRAM\\qram_4QR2\\data\\data_241025\\00079_length_rabi_EgGf_qubit31.h5\n",
      "Attempted to init fitparam 0 to 0.0, which is out of bounds 0.0 to 0.0. Instead init to 0.0\n",
      "Attempted to init fitparam 4 to 0.0, which is out of bounds 0.0 to 0.0. Instead init to 0.0\n",
      "Warning: fit failed with error: Each lower bound must be strictly less than each upper bound.\n",
      "Attempted to init fitparam 0 to 0.0, which is out of bounds 0.0 to 0.0. Instead init to 0.0\n",
      "Attempted to init fitparam 4 to 0.0, which is out of bounds 0.0 to 0.0. Instead init to 0.0\n",
      "Warning: fit failed with error: Each lower bound must be strictly less than each upper bound.\n",
      "best 0 0.07906549151280665\n",
      "Pi length from amps data (qubit A) [us]: 0.3392260760342203\n",
      "\tPi/2 length from avgq data (qubit A) [us]: 0.16961303801711014\n",
      "\tDecay time [us]: 15.599778627571327\n",
      "Pi length from avgq data (qubit A) [us]: 0.5416423995340711\n",
      "\tPi/2 length from avgq data (qubit A) [us]: 0.27082119976703556\n",
      "\tDecay time [us]: 1.4443797320908562\n",
      "Pi length from amps data (qubit B) [us]: 0.3378683053100482\n",
      "\tPi/2 length from avgq data (qubit B) [us]: 0.1689341526550241\n",
      "\tDecay time [us]: 5.5701697889539314\n",
      "Pi length from avgq data (qubit B) [us]: 0.5416423995340711\n",
      "\tPi/2 length from avgq data (qubit B) [us]: 0.27082119976703556\n",
      "\tDecay time [us]: 1.4443797320908562\n",
      "max QA amp: 256.8468596864304\n",
      "min QA amp: 93.73104556125305\n",
      "max QB amp: 360.5088755482418\n",
      "min QB amp: 294.6007953919306\n",
      "for gain 9941.176470588234 added swap pi len from length rabi 0.3392260760342203\n",
      "-------- swap pi minus pi --------\n",
      "{'device': {'readout': {'trig_offset': 150, 'lo_sideband': [1, 1, 1, 1], 'frequency': [-439.97500000000036, 0.0, 452.3682333333336, -278.89999999999964], 'gain': [0.17, 0.0001, 0.25, 0.17], 'kappa_ext': [0.157, 0.065, 0.182, 0.104], 'kerr': [-0.0045, 0, 0.008, -0.003], 't_rise_reset': [0.5, 1, 0.5, 0.5], 'readout_length': [4, 4, 4, 4], 'frequency_ef': [-440.97500000000036, 0.0, 453.3682333333336, -280.35364238410557], 'readout_length_ef': [10.0, 7.0, 4.0, 8.0], 'relax_delay': [450, 450, 450, 450]}, 'qubit': {'f_ge': [4111.097866562327, 4105.838904759637, 4110.958153299016, 4110.546407850519, 3442.8755721075536, 3448.5530242338505, 3447.060317317807, 3446.4929792801067, 4762.761504132457, 4761.823567235975, 4762.909473544484, 4762.369813422167, 4380.698604555338, 4379.604868123916, 4380.717837106693, 4381.248121020163], 'f_ge_robust': [4114.313815659153, 4108.147701523904, 4114.310372455052, 4114.310372455052, 3443.0032303441935, 3448.345849629168, 0, 0, 4763.941, 4763.941, 4763.941, 4763.941, 4384.25034225973, 4384.25034225973, 4384.25034225973, 4384.25034225973], 'f_ef': [3884.6269161242526, 0.0, 0.0, 0.0, 0.0, 3348.085433174199, 0.0, 0.0, 4571.9056482340775, 4570.996526541673, 4573.280687567687, 0.0, 4211.617732525247, 4205.61697813965, 0.0, 4209.925086260656], 'f_EgGf': [2686.53594683, 0, 2017.3, 2414.92850999], 'f_EgGf_Q': [0, 0, 5885.585546008087, 5146.716603411045], 'f_f0g1': [1184.4, 999.8, 1632.9833333333333, 1620.9166666666665], 'gs': [52.40296404695958, 54.81794456602636, 43.49513117058557, 4.930653352423196, 2.6415018214608046, 6.386231497692186], 'pulses': {'pi_ge': {'sigma': [0.02, 0.02, 0.02, 0.02, 0.025, 0.025, 0.025, 0.025, 0.015, 0.015, 0.015, 0.015, 0.025, 0.025, 0.025, 0.025], 'gain': [1849, 1914, 0, 1855, 2834, 2504, 2648, 2631, 9155, 9155, 9155, 9155, 599, 599, 599, 599], 'half_gain': [1856, 1835, 1873, 1867, 2382, 2186, 2248, 2289, 9253, 9253, 9253, 9253, 524, 524, 524, 524], 'half_correction_phase': [0, 0, 0, 0, 0, 0, 0, 0, 0, 0, 0, 0, 0, 0, 0, 0, 0], 'half_gain_pi_sigma': [927, 0, 0, 0, 0, 1315, 0, 0, 0, 0, 7212, 0, 0, 0, 0, 460], 'type': 'gauss'}, 'pi_ef': {'sigma': [0.02, 0.02, 0.02, 0.02, 0.025, 0.025, 0.025, 0.025, 0.015, 0.015, 0.015, 0.015, 0.03, 0.03, 0.03, 0.03], 'gain': [1280, 0, 0, 0, 0, 1912, 0, 0, 10000, 10079, 10015, 0, 300, 300, 0, 300], 'half_gain': [1261, 0, 0, 0, 0, 1941, 0, 0, 0, 10147, 9845, 9979, 340, 340, 0, 320], 'half_gain_pi_sigma': [673, 0, 0, 0, 0, 975, 0, 0, 0, 0, 5049, 0, 340, 0, 0, 337], 'type': 'gauss'}, 'pi_EgGf': {'gain': [32000, 0, 30000, 16000], 'sigma': [0.586, 0, 0.8, 0.44643], 'type': 'flat_top'}, 'pi_EgGf_Q': {'gain': [0, 0, 12147, 9941], 'sigma': [0, 0, 0.44193131519875684, 0.3392260760342203], 'phase': [0, 0, 18.0, 24.0], 'half_sigma': [0, 0, 0.212, 0.172], 'half_phase': [0, 0, 18.0, 21.0], 'type': 'flat_top'}, 'pi_f0g1': {'gain': [32000, 32000, 32000, 32000], 'sigma': [0.536, 0.585, 1.54, 1.04], 'idle': [3, 6, 12, 8], 'type': 'flat_top'}, 'pulse_pp': {'gain': [1750, 3550, 0, 0], 'filename': '240920_3_qram_4q_2qubit_++gg'}, 'pulse_1p': {'gain': [3500, 4375, 0, 0], 'filename': '240920_qram_4q_2qubit_e+gg'}, 'pulse_p1': {'gain': [3000, 5530, 0, 0], 'filename': '240920_qram_4q_2qubit_+egg'}, 'pihalf_ge_robust': {'gain': [7559, 7660, 7559, 7559, 4843, 4462, 4462, 4144, 20111, 20111, 20111, 20111, 2375, 2375, 2375, 2375], 'filename': ['X_2_Q0', 'X_2_Q1', 'X_2_Q2', 'X_2_Q3']}, 'pi_ge_slow': {'gain': [-1, 100, -1, -1], 'sigma': [-1, 0.25, -1, -1], 'type': 'gauss'}, 'pi_Q1_ZZ_slow': {'gain': [100, 0, -1, -1], 'sigma': [0.25, 0, -1, -1], 'type': 'gauss'}}}}, 'hw': {'soc': {'dacs': {'qubit': {'ch': [0, 1, 2, 3], 'type': 'full', 'nyquist': [2, 1, 2, 2], 'mixer_freq': [0, 0, 0, 0]}, 'swap': {'ch': 1, 'type': 'full', 'nyquist': 1, 'mixer_freq': 0}, 'swap_f0g1': {'ch': [1, 1, 5, 5], 'type': ['full', 'full', 'full', 'full'], 'nyquist': 1, 'mixer_freq': 0}, 'swap_Q': {'ch': [0, -1, 2, 3], 'type': ['full', 'None', 'full', 'full'], 'nyquist': [2, 0, 2, 2], 'mixer_freq': 0}, 'readout': {'ch': [6, 4, 6, 6], 'full_mux_chs': [5, 4, 5, 5], 'type': ['mux4', 'full', 'mux4', 'mux4'], 'mixer_freq': [7250, 5795.8115578931565, 7250, 7250], 'nyquist': [2, 2, 2, 2]}, 'res_pump': {'ch': 4, 'type': 'full', 'mixer_freq': 0, 'nyquist': 2}, 'delay_chs': {'ch': [0, 1, 2, 3, 4, 5, 6], 'delay_ns': [4.0, 0.0, 5.0, 3.0, 25, 60, 71]}}, 'adcs': {'readout': {'ch': [0, 1, 2, 3]}}}, 'lo': {'twpa': {'frequency': '8210.0e6', 'power': -1.5}, 'readout': {'frequency': 0, 'power': 0}}}, 'aliases': {'readout_LO': 'SC_20A1', 'twpa_LO': 'SC_26C1', 'soc': 'Qick_QRAM'}, 'expt': {'start_N': 0, 'step_N': 1, 'expts_N': 10, 'start_f': 5146.216603411045, 'step_f': 0.03333333333333333, 'expts_f': 31, 'reps': 1000, 'loops': 1, 'pulse_type': 'flat_top', 'post_process': 'scale', 'singleshot_reps': 15000, 'measure_f': False, 'init_state': '|1>|1>', 'qDrive': 3, 'qubits': [3, 1], 'measure_qubits': [3, 1], 'readout_cool': False, 'n_init_readout': 1, 'n_trig': 1, 'init_read_wait_us': 2, 'full_mux_expt': True, 'resonator_reset': [0, 2, 3]}}\n"
     ]
    },
    {
     "data": {
      "application/vnd.jupyter.widget-view+json": {
       "model_id": "6ba1c315841743899c83629e198a66ac",
       "version_major": 2,
       "version_minor": 0
      },
      "text/plain": [
       "  0%|          | 0/4 [00:00<?, ?it/s]"
      ]
     },
     "metadata": {},
     "output_type": "display_data"
    },
    {
     "name": "stdout",
     "output_type": "stream",
     "text": [
      "Qubit  (3)\n",
      "ge fidelity (%): 77.75263373113765 \t angle (deg): 0.0 \t threshold ge: 166.82734042364322\n",
      "Qubit  (1)\n",
      "ge fidelity (%): 1.7799999999999927 \t angle (deg): 0.0 \t threshold ge: 93.68743782452331\n"
     ]
    },
    {
     "data": {
      "application/vnd.jupyter.widget-view+json": {
       "model_id": "de937d80597f4f35822c639aaa502679",
       "version_major": 2,
       "version_minor": 0
      },
      "text/plain": [
       "  0%|          | 0/10 [00:00<?, ?it/s]"
      ]
     },
     "metadata": {},
     "output_type": "display_data"
    },
    {
     "name": "stdout",
     "output_type": "stream",
     "text": [
      "Attempted to init fitparam 3 to 0.0, which is out of bounds 0 to 0.25919104024755385. Instead init to 0.12959552012377692\n",
      "Fit best freq (qA) 5146.649493923319 which is -0.06710948772615666 away from old freq 5146.716603411045\n",
      "Best freq from pi/-pi on Q3 5146.649493923319\n",
      "Attempted to init fitparam 3 to 0.0, which is out of bounds 0 to 0.0284598732985829. Instead init to 0.01422993664929145\n",
      "Fit best freq (qA) 5146.605016570355 which is -0.1115868406905065 away from old freq 5146.716603411045\n",
      "Best freq from pi/-pi on Q1 5146.605016570355\n",
      "best 0 0.11145008630537201\n",
      "Saving S:\\QRAM\\qram_4QR2\\data\\data_241025\\00084_PiMinusPiEgGfExptQ31.h5\n",
      "Saved S:\\QRAM\\qram_4QR2\\data\\data_241025\\00084_PiMinusPiEgGfExptQ31.h5\n",
      "for gain 9941.176470588234 added swap pi freq from pi minus pi 5146.649493923319\n",
      "using opt freq 5146.649493923319\n",
      "-------- swap error amplification --------\n",
      "{'device': {'readout': {'trig_offset': 150, 'lo_sideband': [1, 1, 1, 1], 'frequency': [-439.97500000000036, 0.0, 452.3682333333336, -278.89999999999964], 'gain': [0.17, 0.035, 0.25, 0.17], 'kappa_ext': [0.157, 0.065, 0.182, 0.104], 'kerr': [-0.0045, 0, 0.008, -0.003], 't_rise_reset': [0.5, 1, 0.5, 0.5], 'readout_length': [4, 4, 4, 4], 'frequency_ef': [-440.97500000000036, 0.0, 453.3682333333336, -280.35364238410557], 'readout_length_ef': [10.0, 7.0, 4.0, 8.0], 'relax_delay': [450, 450, 450, 450]}, 'qubit': {'f_ge': [4111.097866562327, 4105.838904759637, 4110.958153299016, 4110.546407850519, 3442.8755721075536, 3448.5530242338505, 3447.060317317807, 3446.4929792801067, 4762.761504132457, 4761.823567235975, 4762.909473544484, 4762.369813422167, 4380.698604555338, 4379.604868123916, 4380.717837106693, 4381.248121020163], 'f_ge_robust': [4114.313815659153, 4108.147701523904, 4114.310372455052, 4114.310372455052, 3443.0032303441935, 3448.345849629168, 0, 0, 4763.941, 4763.941, 4763.941, 4763.941, 4384.25034225973, 4384.25034225973, 4384.25034225973, 4384.25034225973], 'f_ef': [3884.6269161242526, 0.0, 0.0, 0.0, 0.0, 3348.085433174199, 0.0, 0.0, 4571.9056482340775, 4570.996526541673, 4573.280687567687, 0.0, 4211.617732525247, 4205.61697813965, 0.0, 4209.925086260656], 'f_EgGf': [2686.53594683, 0, 2017.3, 2414.92850999], 'f_EgGf_Q': [0, 0, 5885.585546008087, 5146.649493923319], 'f_f0g1': [1184.4, 999.8, 1632.9833333333333, 1620.9166666666665], 'gs': [52.40296404695958, 54.81794456602636, 43.49513117058557, 4.930653352423196, 2.6415018214608046, 6.386231497692186], 'pulses': {'pi_ge': {'sigma': [0.02, 0.02, 0.02, 0.02, 0.025, 0.025, 0.025, 0.025, 0.015, 0.015, 0.015, 0.015, 0.025, 0.025, 0.025, 0.025], 'gain': [1849, 1914, 0, 1855, 2834, 2504, 2648, 2631, 9155, 9155, 9155, 9155, 599, 599, 599, 599], 'half_gain': [1856, 1835, 1873, 1867, 2382, 2186, 2248, 2289, 9253, 9253, 9253, 9253, 524, 524, 524, 524], 'half_correction_phase': [0, 0, 0, 0, 0, 0, 0, 0, 0, 0, 0, 0, 0, 0, 0, 0, 0], 'half_gain_pi_sigma': [927, 0, 0, 0, 0, 1315, 0, 0, 0, 0, 7212, 0, 0, 0, 0, 460], 'type': 'gauss'}, 'pi_ef': {'sigma': [0.02, 0.02, 0.02, 0.02, 0.025, 0.025, 0.025, 0.025, 0.015, 0.015, 0.015, 0.015, 0.03, 0.03, 0.03, 0.03], 'gain': [1280, 0, 0, 0, 0, 1912, 0, 0, 10000, 10079, 10015, 0, 300, 300, 0, 300], 'half_gain': [1261, 0, 0, 0, 0, 1941, 0, 0, 0, 10147, 9845, 9979, 340, 340, 0, 320], 'half_gain_pi_sigma': [673, 0, 0, 0, 0, 975, 0, 0, 0, 0, 5049, 0, 340, 0, 0, 337], 'type': 'gauss'}, 'pi_EgGf': {'gain': [32000, 0, 30000, 16000], 'sigma': [0.586, 0, 0.8, 0.44643], 'type': 'flat_top'}, 'pi_EgGf_Q': {'gain': [0, 0, 12147, 9941], 'sigma': [0, 0, 0.44193131519875684, 0.3392260760342203], 'phase': [0, 0, 18.0, 24.0], 'half_sigma': [0, 0, 0.212, 0.172], 'half_phase': [0, 0, 18.0, 21.0], 'type': 'flat_top'}, 'pi_f0g1': {'gain': [32000, 32000, 32000, 32000], 'sigma': [0.536, 0.585, 1.54, 1.04], 'idle': [3, 6, 12, 8], 'type': 'flat_top'}, 'pulse_pp': {'gain': [1750, 3550, 0, 0], 'filename': '240920_3_qram_4q_2qubit_++gg'}, 'pulse_1p': {'gain': [3500, 4375, 0, 0], 'filename': '240920_qram_4q_2qubit_e+gg'}, 'pulse_p1': {'gain': [3000, 5530, 0, 0], 'filename': '240920_qram_4q_2qubit_+egg'}, 'pihalf_ge_robust': {'gain': [7559, 7660, 7559, 7559, 4843, 4462, 4462, 4144, 20111, 20111, 20111, 20111, 2375, 2375, 2375, 2375], 'filename': ['X_2_Q0', 'X_2_Q1', 'X_2_Q2', 'X_2_Q3']}, 'pi_ge_slow': {'gain': [-1, 100, -1, -1], 'sigma': [-1, 0.25, -1, -1], 'type': 'gauss'}, 'pi_Q1_ZZ_slow': {'gain': [100, 0, -1, -1], 'sigma': [0.25, 0, -1, -1], 'type': 'gauss'}}}}, 'hw': {'soc': {'dacs': {'qubit': {'ch': [0, 1, 2, 3], 'type': 'full', 'nyquist': [2, 1, 2, 2], 'mixer_freq': [0, 0, 0, 0]}, 'swap': {'ch': 1, 'type': 'full', 'nyquist': 1, 'mixer_freq': 0}, 'swap_f0g1': {'ch': [1, 1, 5, 5], 'type': ['full', 'full', 'full', 'full'], 'nyquist': 1, 'mixer_freq': 0}, 'swap_Q': {'ch': [0, -1, 2, 3], 'type': ['full', 'None', 'full', 'full'], 'nyquist': [2, 0, 2, 2], 'mixer_freq': 0}, 'readout': {'ch': [6, 4, 6, 6], 'full_mux_chs': [5, 4, 5, 5], 'type': ['mux4', 'full', 'mux4', 'mux4'], 'mixer_freq': [7250, 5795.8115578931565, 7250, 7250], 'nyquist': [2, 2, 2, 2]}, 'res_pump': {'ch': 4, 'type': 'full', 'mixer_freq': 0, 'nyquist': 2}, 'delay_chs': {'ch': [0, 1, 2, 3, 4, 5, 6], 'delay_ns': [4.0, 0.0, 5.0, 3.0, 25, 60, 71]}}, 'adcs': {'readout': {'ch': [0, 1, 2, 3]}}}, 'lo': {'twpa': {'frequency': '8210.0e6', 'power': -1.5}, 'readout': {'frequency': 0, 'power': 0}}}, 'aliases': {'readout_LO': 'SC_20A1', 'twpa_LO': 'SC_26C1', 'soc': 'Qick_QRAM'}, 'expt': {'start': 0, 'step': 1, 'expts': 10, 'reps': 2000, 'loops': 10, 'pulse_type': 'flat_top', 'post_process': 'scale', 'singleshot_reps': 15000, 'measure_f': False, 'init_state': '|1>|1>', 'qDrive': 3, 'qubits': [3, 1], 'measure_qubits': [3, 1], 'full_mux_expt': True, 'resonator_reset': [0, 2, 3]}}\n"
     ]
    },
    {
     "data": {
      "application/vnd.jupyter.widget-view+json": {
       "model_id": "a7cb4d5bccc6452586cd899ae9ac2525",
       "version_major": 2,
       "version_minor": 0
      },
      "text/plain": [
       "  0%|          | 0/4 [00:00<?, ?it/s]"
      ]
     },
     "metadata": {},
     "output_type": "display_data"
    },
    {
     "name": "stdout",
     "output_type": "stream",
     "text": [
      "Qubit  (3)\n",
      "ge fidelity (%): 76.04000000000003 \t angle (deg): 0.0 \t threshold ge: 164.33482201254495\n",
      "Qubit  (1)\n",
      "ge fidelity (%): 57.37999999999999 \t angle (deg): 0.0 \t threshold ge: 311.75936185858046\n"
     ]
    },
    {
     "data": {
      "application/vnd.jupyter.widget-view+json": {
       "model_id": "d02f623bad8c4df494e6752fc36931bf",
       "version_major": 2,
       "version_minor": 0
      },
      "text/plain": [
       "  0%|          | 0/10 [00:00<?, ?it/s]"
      ]
     },
     "metadata": {},
     "output_type": "display_data"
    },
    {
     "name": "stdout",
     "output_type": "stream",
     "text": [
      "Saving S:\\QRAM\\qram_4QR2\\data\\data_241025\\00078_NPulseExptEgGfQ31.h5\n",
      "Saved S:\\QRAM\\qram_4QR2\\data\\data_241025\\00078_NPulseExptEgGfQ31.h5\n",
      "[ 0.5090761   0.89079273 10.96748414]\n",
      "Attempted to init fitparam 0 to 0.0, which is out of bounds 0.0 to 0.0. Instead init to 0.0\n",
      "Warning: fit failed with error: Each lower bound must be strictly less than each upper bound.\n",
      "[0.0, 0.0, 10]\n",
      "Warning: fit failed with error: Optimal parameters not found: The maximum number of function evaluations is exceeded.\n",
      "[179.90611330778876, 0.0, 10]\n",
      "[ 0.63000911 -1.09760761  5.42217994]\n",
      "Attempted to init fitparam 0 to 0.0, which is out of bounds 0.0 to 0.0. Instead init to 0.0\n",
      "Warning: fit failed with error: Each lower bound must be strictly less than each upper bound.\n",
      "[0.0, 0.0, 10]\n",
      "Warning: fit failed with error: Optimal parameters not found: The maximum number of function evaluations is exceeded.\n",
      "[323.0538681132258, 0.0, 10]\n",
      "From QA: adjust length to 0.3409132038242258\n",
      "\tadjust ratio 0.995051151521619\n",
      "\n",
      "From QB: adjust length to 0.34130730656539354\n",
      "\tadjust ratio 0.9939021799676167\n",
      "best 0 inf\n",
      "pi len precise 0.3392260760342203 adjustment ratio 1.0 from Q1\n",
      "for gain 9941.176470588234 added swap pi len from error amplification 0.3392260760342203\n",
      "----------- STARTING GAIN 10676.470588235294 -----------\n",
      "-------- swap length rabi --------\n",
      "gain 10676 freq 5146.340077078177\n"
     ]
    },
    {
     "data": {
      "application/vnd.jupyter.widget-view+json": {
       "model_id": "2b6ff5464c794b51a4831c2257e437d8",
       "version_major": 2,
       "version_minor": 0
      },
      "text/plain": [
       "  0%|          | 0/101 [00:00<?, ?it/s]"
      ]
     },
     "metadata": {},
     "output_type": "display_data"
    },
    {
     "name": "stdout",
     "output_type": "stream",
     "text": [
      "Saving S:\\QRAM\\qram_4QR2\\data\\data_241025\\00080_length_rabi_EgGf_qubit31.h5\n",
      "Saved S:\\QRAM\\qram_4QR2\\data\\data_241025\\00080_length_rabi_EgGf_qubit31.h5\n",
      "Attempted to init fitparam 0 to 0.0, which is out of bounds 0.0 to 0.0. Instead init to 0.0\n",
      "Attempted to init fitparam 4 to 0.0, which is out of bounds 0.0 to 0.0. Instead init to 0.0\n",
      "Warning: fit failed with error: Each lower bound must be strictly less than each upper bound.\n",
      "Attempted to init fitparam 0 to 0.0, which is out of bounds 0.0 to 0.0. Instead init to 0.0\n",
      "Attempted to init fitparam 4 to 0.0, which is out of bounds 0.0 to 0.0. Instead init to 0.0\n",
      "Warning: fit failed with error: Each lower bound must be strictly less than each upper bound.\n",
      "best 0 0.04124530823731055\n",
      "Pi length from amps data (qubit A) [us]: 0.3197021004429004\n",
      "\tPi/2 length from avgq data (qubit A) [us]: 0.1598510502214502\n",
      "\tDecay time [us]: 8.317544522094444\n",
      "Pi length from avgq data (qubit A) [us]: 0.5285381479324404\n",
      "\tPi/2 length from avgq data (qubit A) [us]: 0.2642690739662202\n",
      "\tDecay time [us]: 1.4094350611531743\n",
      "Pi length from amps data (qubit B) [us]: 0.7156265907773681\n",
      "\tPi/2 length from avgq data (qubit B) [us]: 0.35781329538868406\n",
      "\tDecay time [us]: 0.4228305183465559\n",
      "Pi length from avgq data (qubit B) [us]: 0.5285381479324404\n",
      "\tPi/2 length from avgq data (qubit B) [us]: 0.2642690739662202\n",
      "\tDecay time [us]: 1.4094350611531743\n",
      "max QA amp: 259.45245953009334\n",
      "min QA amp: 87.7573511428597\n",
      "max QB amp: 358.19364661964596\n",
      "min QB amp: 280.73387574511764\n",
      "for gain 10676.470588235294 added swap pi len from length rabi 0.3197021004429004\n",
      "-------- swap pi minus pi --------\n",
      "{'device': {'readout': {'trig_offset': 150, 'lo_sideband': [1, 1, 1, 1], 'frequency': [-439.97500000000036, 0.0, 452.3682333333336, -278.89999999999964], 'gain': [0.17, 0.0001, 0.25, 0.17], 'kappa_ext': [0.157, 0.065, 0.182, 0.104], 'kerr': [-0.0045, 0, 0.008, -0.003], 't_rise_reset': [0.5, 1, 0.5, 0.5], 'readout_length': [4, 4, 4, 4], 'frequency_ef': [-440.97500000000036, 0.0, 453.3682333333336, -280.35364238410557], 'readout_length_ef': [10.0, 7.0, 4.0, 8.0], 'relax_delay': [450, 450, 450, 450]}, 'qubit': {'f_ge': [4111.097866562327, 4105.838904759637, 4110.958153299016, 4110.546407850519, 3442.8755721075536, 3448.5530242338505, 3447.060317317807, 3446.4929792801067, 4762.761504132457, 4761.823567235975, 4762.909473544484, 4762.369813422167, 4380.698604555338, 4379.604868123916, 4380.717837106693, 4381.248121020163], 'f_ge_robust': [4114.313815659153, 4108.147701523904, 4114.310372455052, 4114.310372455052, 3443.0032303441935, 3448.345849629168, 0, 0, 4763.941, 4763.941, 4763.941, 4763.941, 4384.25034225973, 4384.25034225973, 4384.25034225973, 4384.25034225973], 'f_ef': [3884.6269161242526, 0.0, 0.0, 0.0, 0.0, 3348.085433174199, 0.0, 0.0, 4571.9056482340775, 4570.996526541673, 4573.280687567687, 0.0, 4211.617732525247, 4205.61697813965, 0.0, 4209.925086260656], 'f_EgGf': [2686.53594683, 0, 2017.3, 2414.92850999], 'f_EgGf_Q': [0, 0, 5885.585546008087, 5146.340077078177], 'f_f0g1': [1184.4, 999.8, 1632.9833333333333, 1620.9166666666665], 'gs': [52.40296404695958, 54.81794456602636, 43.49513117058557, 4.930653352423196, 2.6415018214608046, 6.386231497692186], 'pulses': {'pi_ge': {'sigma': [0.02, 0.02, 0.02, 0.02, 0.025, 0.025, 0.025, 0.025, 0.015, 0.015, 0.015, 0.015, 0.025, 0.025, 0.025, 0.025], 'gain': [1849, 1914, 0, 1855, 2834, 2504, 2648, 2631, 9155, 9155, 9155, 9155, 599, 599, 599, 599], 'half_gain': [1856, 1835, 1873, 1867, 2382, 2186, 2248, 2289, 9253, 9253, 9253, 9253, 524, 524, 524, 524], 'half_correction_phase': [0, 0, 0, 0, 0, 0, 0, 0, 0, 0, 0, 0, 0, 0, 0, 0, 0], 'half_gain_pi_sigma': [927, 0, 0, 0, 0, 1315, 0, 0, 0, 0, 7212, 0, 0, 0, 0, 460], 'type': 'gauss'}, 'pi_ef': {'sigma': [0.02, 0.02, 0.02, 0.02, 0.025, 0.025, 0.025, 0.025, 0.015, 0.015, 0.015, 0.015, 0.03, 0.03, 0.03, 0.03], 'gain': [1280, 0, 0, 0, 0, 1912, 0, 0, 10000, 10079, 10015, 0, 300, 300, 0, 300], 'half_gain': [1261, 0, 0, 0, 0, 1941, 0, 0, 0, 10147, 9845, 9979, 340, 340, 0, 320], 'half_gain_pi_sigma': [673, 0, 0, 0, 0, 975, 0, 0, 0, 0, 5049, 0, 340, 0, 0, 337], 'type': 'gauss'}, 'pi_EgGf': {'gain': [32000, 0, 30000, 16000], 'sigma': [0.586, 0, 0.8, 0.44643], 'type': 'flat_top'}, 'pi_EgGf_Q': {'gain': [0, 0, 12147, 10676], 'sigma': [0, 0, 0.44193131519875684, 0.3197021004429004], 'phase': [0, 0, 18.0, 24.0], 'half_sigma': [0, 0, 0.212, 0.172], 'half_phase': [0, 0, 18.0, 21.0], 'type': 'flat_top'}, 'pi_f0g1': {'gain': [32000, 32000, 32000, 32000], 'sigma': [0.536, 0.585, 1.54, 1.04], 'idle': [3, 6, 12, 8], 'type': 'flat_top'}, 'pulse_pp': {'gain': [1750, 3550, 0, 0], 'filename': '240920_3_qram_4q_2qubit_++gg'}, 'pulse_1p': {'gain': [3500, 4375, 0, 0], 'filename': '240920_qram_4q_2qubit_e+gg'}, 'pulse_p1': {'gain': [3000, 5530, 0, 0], 'filename': '240920_qram_4q_2qubit_+egg'}, 'pihalf_ge_robust': {'gain': [7559, 7660, 7559, 7559, 4843, 4462, 4462, 4144, 20111, 20111, 20111, 20111, 2375, 2375, 2375, 2375], 'filename': ['X_2_Q0', 'X_2_Q1', 'X_2_Q2', 'X_2_Q3']}, 'pi_ge_slow': {'gain': [-1, 100, -1, -1], 'sigma': [-1, 0.25, -1, -1], 'type': 'gauss'}, 'pi_Q1_ZZ_slow': {'gain': [100, 0, -1, -1], 'sigma': [0.25, 0, -1, -1], 'type': 'gauss'}}}}, 'hw': {'soc': {'dacs': {'qubit': {'ch': [0, 1, 2, 3], 'type': 'full', 'nyquist': [2, 1, 2, 2], 'mixer_freq': [0, 0, 0, 0]}, 'swap': {'ch': 1, 'type': 'full', 'nyquist': 1, 'mixer_freq': 0}, 'swap_f0g1': {'ch': [1, 1, 5, 5], 'type': ['full', 'full', 'full', 'full'], 'nyquist': 1, 'mixer_freq': 0}, 'swap_Q': {'ch': [0, -1, 2, 3], 'type': ['full', 'None', 'full', 'full'], 'nyquist': [2, 0, 2, 2], 'mixer_freq': 0}, 'readout': {'ch': [6, 4, 6, 6], 'full_mux_chs': [5, 4, 5, 5], 'type': ['mux4', 'full', 'mux4', 'mux4'], 'mixer_freq': [7250, 5795.8115578931565, 7250, 7250], 'nyquist': [2, 2, 2, 2]}, 'res_pump': {'ch': 4, 'type': 'full', 'mixer_freq': 0, 'nyquist': 2}, 'delay_chs': {'ch': [0, 1, 2, 3, 4, 5, 6], 'delay_ns': [4.0, 0.0, 5.0, 3.0, 25, 60, 71]}}, 'adcs': {'readout': {'ch': [0, 1, 2, 3]}}}, 'lo': {'twpa': {'frequency': '8210.0e6', 'power': -1.5}, 'readout': {'frequency': 0, 'power': 0}}}, 'aliases': {'readout_LO': 'SC_20A1', 'twpa_LO': 'SC_26C1', 'soc': 'Qick_QRAM'}, 'expt': {'start_N': 0, 'step_N': 1, 'expts_N': 10, 'start_f': 5145.840077078177, 'step_f': 0.03333333333333333, 'expts_f': 31, 'reps': 1000, 'loops': 1, 'pulse_type': 'flat_top', 'post_process': 'scale', 'singleshot_reps': 15000, 'measure_f': False, 'init_state': '|1>|1>', 'qDrive': 3, 'qubits': [3, 1], 'measure_qubits': [3, 1], 'readout_cool': False, 'n_init_readout': 1, 'n_trig': 1, 'init_read_wait_us': 2, 'full_mux_expt': True, 'resonator_reset': [0, 2, 3]}}\n"
     ]
    },
    {
     "data": {
      "application/vnd.jupyter.widget-view+json": {
       "model_id": "edeb8b64b87c42049718c2e9ccd595f9",
       "version_major": 2,
       "version_minor": 0
      },
      "text/plain": [
       "  0%|          | 0/4 [00:00<?, ?it/s]"
      ]
     },
     "metadata": {},
     "output_type": "display_data"
    },
    {
     "name": "stdout",
     "output_type": "stream",
     "text": [
      "Qubit  (3)\n",
      "ge fidelity (%): 76.66586394648532 \t angle (deg): 0.0 \t threshold ge: 161.62173185845222\n",
      "Qubit  (1)\n",
      "ge fidelity (%): 2.22278418561237 \t angle (deg): 0.0 \t threshold ge: 78.23178487487836\n"
     ]
    },
    {
     "data": {
      "application/vnd.jupyter.widget-view+json": {
       "model_id": "f9a905d75e5c4b69bfb2303d98d44f19",
       "version_major": 2,
       "version_minor": 0
      },
      "text/plain": [
       "  0%|          | 0/10 [00:00<?, ?it/s]"
      ]
     },
     "metadata": {},
     "output_type": "display_data"
    },
    {
     "name": "stdout",
     "output_type": "stream",
     "text": [
      "Attempted to init fitparam 3 to 0.0, which is out of bounds 0 to 0.23374145063571494. Instead init to 0.11687072531785747\n",
      "Fit best freq (qA) 5146.2282856729535 which is -0.11179140522381203 away from old freq 5146.340077078177\n",
      "Best freq from pi/-pi on Q3 5146.2282856729535\n",
      "Attempted to init fitparam 3 to 0.0, which is out of bounds 0 to 0.01693274348655997. Instead init to 0.008466371743279985\n",
      "Fit best freq (qA) 5146.3262410831 which is -0.013835995076988183 away from old freq 5146.340077078177\n",
      "Best freq from pi/-pi on Q1 5146.3262410831\n",
      "best 0 0.1117739679434497\n",
      "Saving S:\\QRAM\\qram_4QR2\\data\\data_241025\\00085_PiMinusPiEgGfExptQ31.h5\n",
      "Saved S:\\QRAM\\qram_4QR2\\data\\data_241025\\00085_PiMinusPiEgGfExptQ31.h5\n",
      "for gain 10676.470588235294 added swap pi freq from pi minus pi 5146.2282856729535\n",
      "using opt freq 5146.2282856729535\n",
      "-------- swap error amplification --------\n",
      "{'device': {'readout': {'trig_offset': 150, 'lo_sideband': [1, 1, 1, 1], 'frequency': [-439.97500000000036, 0.0, 452.3682333333336, -278.89999999999964], 'gain': [0.17, 0.035, 0.25, 0.17], 'kappa_ext': [0.157, 0.065, 0.182, 0.104], 'kerr': [-0.0045, 0, 0.008, -0.003], 't_rise_reset': [0.5, 1, 0.5, 0.5], 'readout_length': [4, 4, 4, 4], 'frequency_ef': [-440.97500000000036, 0.0, 453.3682333333336, -280.35364238410557], 'readout_length_ef': [10.0, 7.0, 4.0, 8.0], 'relax_delay': [450, 450, 450, 450]}, 'qubit': {'f_ge': [4111.097866562327, 4105.838904759637, 4110.958153299016, 4110.546407850519, 3442.8755721075536, 3448.5530242338505, 3447.060317317807, 3446.4929792801067, 4762.761504132457, 4761.823567235975, 4762.909473544484, 4762.369813422167, 4380.698604555338, 4379.604868123916, 4380.717837106693, 4381.248121020163], 'f_ge_robust': [4114.313815659153, 4108.147701523904, 4114.310372455052, 4114.310372455052, 3443.0032303441935, 3448.345849629168, 0, 0, 4763.941, 4763.941, 4763.941, 4763.941, 4384.25034225973, 4384.25034225973, 4384.25034225973, 4384.25034225973], 'f_ef': [3884.6269161242526, 0.0, 0.0, 0.0, 0.0, 3348.085433174199, 0.0, 0.0, 4571.9056482340775, 4570.996526541673, 4573.280687567687, 0.0, 4211.617732525247, 4205.61697813965, 0.0, 4209.925086260656], 'f_EgGf': [2686.53594683, 0, 2017.3, 2414.92850999], 'f_EgGf_Q': [0, 0, 5885.585546008087, 5146.2282856729535], 'f_f0g1': [1184.4, 999.8, 1632.9833333333333, 1620.9166666666665], 'gs': [52.40296404695958, 54.81794456602636, 43.49513117058557, 4.930653352423196, 2.6415018214608046, 6.386231497692186], 'pulses': {'pi_ge': {'sigma': [0.02, 0.02, 0.02, 0.02, 0.025, 0.025, 0.025, 0.025, 0.015, 0.015, 0.015, 0.015, 0.025, 0.025, 0.025, 0.025], 'gain': [1849, 1914, 0, 1855, 2834, 2504, 2648, 2631, 9155, 9155, 9155, 9155, 599, 599, 599, 599], 'half_gain': [1856, 1835, 1873, 1867, 2382, 2186, 2248, 2289, 9253, 9253, 9253, 9253, 524, 524, 524, 524], 'half_correction_phase': [0, 0, 0, 0, 0, 0, 0, 0, 0, 0, 0, 0, 0, 0, 0, 0, 0], 'half_gain_pi_sigma': [927, 0, 0, 0, 0, 1315, 0, 0, 0, 0, 7212, 0, 0, 0, 0, 460], 'type': 'gauss'}, 'pi_ef': {'sigma': [0.02, 0.02, 0.02, 0.02, 0.025, 0.025, 0.025, 0.025, 0.015, 0.015, 0.015, 0.015, 0.03, 0.03, 0.03, 0.03], 'gain': [1280, 0, 0, 0, 0, 1912, 0, 0, 10000, 10079, 10015, 0, 300, 300, 0, 300], 'half_gain': [1261, 0, 0, 0, 0, 1941, 0, 0, 0, 10147, 9845, 9979, 340, 340, 0, 320], 'half_gain_pi_sigma': [673, 0, 0, 0, 0, 975, 0, 0, 0, 0, 5049, 0, 340, 0, 0, 337], 'type': 'gauss'}, 'pi_EgGf': {'gain': [32000, 0, 30000, 16000], 'sigma': [0.586, 0, 0.8, 0.44643], 'type': 'flat_top'}, 'pi_EgGf_Q': {'gain': [0, 0, 12147, 10676], 'sigma': [0, 0, 0.44193131519875684, 0.3197021004429004], 'phase': [0, 0, 18.0, 24.0], 'half_sigma': [0, 0, 0.212, 0.172], 'half_phase': [0, 0, 18.0, 21.0], 'type': 'flat_top'}, 'pi_f0g1': {'gain': [32000, 32000, 32000, 32000], 'sigma': [0.536, 0.585, 1.54, 1.04], 'idle': [3, 6, 12, 8], 'type': 'flat_top'}, 'pulse_pp': {'gain': [1750, 3550, 0, 0], 'filename': '240920_3_qram_4q_2qubit_++gg'}, 'pulse_1p': {'gain': [3500, 4375, 0, 0], 'filename': '240920_qram_4q_2qubit_e+gg'}, 'pulse_p1': {'gain': [3000, 5530, 0, 0], 'filename': '240920_qram_4q_2qubit_+egg'}, 'pihalf_ge_robust': {'gain': [7559, 7660, 7559, 7559, 4843, 4462, 4462, 4144, 20111, 20111, 20111, 20111, 2375, 2375, 2375, 2375], 'filename': ['X_2_Q0', 'X_2_Q1', 'X_2_Q2', 'X_2_Q3']}, 'pi_ge_slow': {'gain': [-1, 100, -1, -1], 'sigma': [-1, 0.25, -1, -1], 'type': 'gauss'}, 'pi_Q1_ZZ_slow': {'gain': [100, 0, -1, -1], 'sigma': [0.25, 0, -1, -1], 'type': 'gauss'}}}}, 'hw': {'soc': {'dacs': {'qubit': {'ch': [0, 1, 2, 3], 'type': 'full', 'nyquist': [2, 1, 2, 2], 'mixer_freq': [0, 0, 0, 0]}, 'swap': {'ch': 1, 'type': 'full', 'nyquist': 1, 'mixer_freq': 0}, 'swap_f0g1': {'ch': [1, 1, 5, 5], 'type': ['full', 'full', 'full', 'full'], 'nyquist': 1, 'mixer_freq': 0}, 'swap_Q': {'ch': [0, -1, 2, 3], 'type': ['full', 'None', 'full', 'full'], 'nyquist': [2, 0, 2, 2], 'mixer_freq': 0}, 'readout': {'ch': [6, 4, 6, 6], 'full_mux_chs': [5, 4, 5, 5], 'type': ['mux4', 'full', 'mux4', 'mux4'], 'mixer_freq': [7250, 5795.8115578931565, 7250, 7250], 'nyquist': [2, 2, 2, 2]}, 'res_pump': {'ch': 4, 'type': 'full', 'mixer_freq': 0, 'nyquist': 2}, 'delay_chs': {'ch': [0, 1, 2, 3, 4, 5, 6], 'delay_ns': [4.0, 0.0, 5.0, 3.0, 25, 60, 71]}}, 'adcs': {'readout': {'ch': [0, 1, 2, 3]}}}, 'lo': {'twpa': {'frequency': '8210.0e6', 'power': -1.5}, 'readout': {'frequency': 0, 'power': 0}}}, 'aliases': {'readout_LO': 'SC_20A1', 'twpa_LO': 'SC_26C1', 'soc': 'Qick_QRAM'}, 'expt': {'start': 0, 'step': 1, 'expts': 10, 'reps': 2000, 'loops': 10, 'pulse_type': 'flat_top', 'post_process': 'scale', 'singleshot_reps': 15000, 'measure_f': False, 'init_state': '|1>|1>', 'qDrive': 3, 'qubits': [3, 1], 'measure_qubits': [3, 1], 'full_mux_expt': True, 'resonator_reset': [0, 2, 3]}}\n"
     ]
    },
    {
     "data": {
      "application/vnd.jupyter.widget-view+json": {
       "model_id": "f895cc78bc8049e5a4bec0c204bb1e5c",
       "version_major": 2,
       "version_minor": 0
      },
      "text/plain": [
       "  0%|          | 0/4 [00:00<?, ?it/s]"
      ]
     },
     "metadata": {},
     "output_type": "display_data"
    },
    {
     "name": "stdout",
     "output_type": "stream",
     "text": [
      "Qubit  (3)\n",
      "ge fidelity (%): 76.13261017401157 \t angle (deg): 0.0 \t threshold ge: 166.14351081065962\n",
      "Qubit  (1)\n",
      "ge fidelity (%): 54.87333333333333 \t angle (deg): 0.0 \t threshold ge: 311.67252720028137\n"
     ]
    },
    {
     "data": {
      "application/vnd.jupyter.widget-view+json": {
       "model_id": "17c32e07e86a4e7c98ecfec28cf089ec",
       "version_major": 2,
       "version_minor": 0
      },
      "text/plain": [
       "  0%|          | 0/10 [00:00<?, ?it/s]"
      ]
     },
     "metadata": {},
     "output_type": "display_data"
    },
    {
     "name": "stdout",
     "output_type": "stream",
     "text": [
      "Saving S:\\QRAM\\qram_4QR2\\data\\data_241025\\00079_NPulseExptEgGfQ31.h5\n",
      "Saved S:\\QRAM\\qram_4QR2\\data\\data_241025\\00079_NPulseExptEgGfQ31.h5\n",
      "[ 0.52459621 -0.85452495 63.1410713 ]\n",
      "Attempted to init fitparam 0 to 0.0, which is out of bounds 0.0 to 0.0. Instead init to 0.0\n",
      "Warning: fit failed with error: Each lower bound must be strictly less than each upper bound.\n",
      "[0.0, 0.0, 10]\n",
      "Warning: fit failed with error: Optimal parameters not found: The maximum number of function evaluations is exceeded.\n",
      "[180.03308114233113, 0.0, 10]\n",
      "[0.77048356 0.74975498 6.04265375]\n",
      "Attempted to init fitparam 0 to 0.0, which is out of bounds 0.0 to 0.0. Instead init to 0.0\n",
      "Warning: fit failed with error: Each lower bound must be strictly less than each upper bound.\n",
      "[0.0, 0.0, 10]\n",
      "Warning: fit failed with error: Optimal parameters not found: The maximum number of function evaluations is exceeded.\n",
      "[338.0973089008826, 0.0, 10]\n",
      "From QA: adjust length to 0.31819153044156046\n",
      "\tadjust ratio 1.004747360808893\n",
      "\n",
      "From QB: adjust length to 0.3183759672932947\n",
      "\tadjust ratio 1.0041653054433723\n",
      "best 0 inf\n",
      "pi len precise 0.3197021004429004 adjustment ratio 1.0 from Q1\n",
      "for gain 10676.470588235294 added swap pi len from error amplification 0.3197021004429004\n",
      "----------- STARTING GAIN 11411.764705882353 -----------\n",
      "-------- swap length rabi --------\n",
      "gain 11411 freq 5145.934451950648\n"
     ]
    },
    {
     "data": {
      "application/vnd.jupyter.widget-view+json": {
       "model_id": "fdc911db316d4e059c10690dc10be2d8",
       "version_major": 2,
       "version_minor": 0
      },
      "text/plain": [
       "  0%|          | 0/101 [00:00<?, ?it/s]"
      ]
     },
     "metadata": {},
     "output_type": "display_data"
    },
    {
     "name": "stdout",
     "output_type": "stream",
     "text": [
      "Saving S:\\QRAM\\qram_4QR2\\data\\data_241025\\00081_length_rabi_EgGf_qubit31.h5\n",
      "Saved S:\\QRAM\\qram_4QR2\\data\\data_241025\\00081_length_rabi_EgGf_qubit31.h5\n",
      "Attempted to init fitparam 0 to 0.0, which is out of bounds 0.0 to 0.0. Instead init to 0.0\n",
      "Attempted to init fitparam 4 to 0.0, which is out of bounds 0.0 to 0.0. Instead init to 0.0\n",
      "Warning: fit failed with error: Each lower bound must be strictly less than each upper bound.\n",
      "Attempted to init fitparam 0 to 0.0, which is out of bounds 0.0 to 0.0. Instead init to 0.0\n",
      "Attempted to init fitparam 4 to 0.0, which is out of bounds 0.0 to 0.0. Instead init to 0.0\n",
      "Warning: fit failed with error: Each lower bound must be strictly less than each upper bound.\n",
      "best 0 0.0784243641109308\n",
      "Pi length from amps data (qubit A) [us]: 0.2961380879096939\n",
      "\tPi/2 length from avgq data (qubit A) [us]: 0.14806904395484696\n",
      "\tDecay time [us]: 14.959694148323527\n",
      "Pi length from avgq data (qubit A) [us]: 0.5154338963308096\n",
      "\tPi/2 length from avgq data (qubit A) [us]: 0.2577169481654048\n",
      "\tDecay time [us]: 1.3744903902154921\n",
      "Pi length from amps data (qubit B) [us]: 0.2861253568737148\n",
      "\tPi/2 length from avgq data (qubit B) [us]: 0.1430626784368574\n",
      "\tDecay time [us]: 3.7700751061160958\n",
      "Pi length from avgq data (qubit B) [us]: 0.5154338963308096\n",
      "\tPi/2 length from avgq data (qubit B) [us]: 0.2577169481654048\n",
      "\tDecay time [us]: 1.3744903902154921\n",
      "max QA amp: 258.9135048750181\n",
      "min QA amp: 98.17961381232412\n",
      "max QB amp: 362.0862960857921\n",
      "min QB amp: 314.9233393189499\n",
      "for gain 11411.764705882353 added swap pi len from length rabi 0.2961380879096939\n",
      "-------- swap pi minus pi --------\n",
      "{'device': {'readout': {'trig_offset': 150, 'lo_sideband': [1, 1, 1, 1], 'frequency': [-439.97500000000036, 0.0, 452.3682333333336, -278.89999999999964], 'gain': [0.17, 0.0001, 0.25, 0.17], 'kappa_ext': [0.157, 0.065, 0.182, 0.104], 'kerr': [-0.0045, 0, 0.008, -0.003], 't_rise_reset': [0.5, 1, 0.5, 0.5], 'readout_length': [4, 4, 4, 4], 'frequency_ef': [-440.97500000000036, 0.0, 453.3682333333336, -280.35364238410557], 'readout_length_ef': [10.0, 7.0, 4.0, 8.0], 'relax_delay': [450, 450, 450, 450]}, 'qubit': {'f_ge': [4111.097866562327, 4105.838904759637, 4110.958153299016, 4110.546407850519, 3442.8755721075536, 3448.5530242338505, 3447.060317317807, 3446.4929792801067, 4762.761504132457, 4761.823567235975, 4762.909473544484, 4762.369813422167, 4380.698604555338, 4379.604868123916, 4380.717837106693, 4381.248121020163], 'f_ge_robust': [4114.313815659153, 4108.147701523904, 4114.310372455052, 4114.310372455052, 3443.0032303441935, 3448.345849629168, 0, 0, 4763.941, 4763.941, 4763.941, 4763.941, 4384.25034225973, 4384.25034225973, 4384.25034225973, 4384.25034225973], 'f_ef': [3884.6269161242526, 0.0, 0.0, 0.0, 0.0, 3348.085433174199, 0.0, 0.0, 4571.9056482340775, 4570.996526541673, 4573.280687567687, 0.0, 4211.617732525247, 4205.61697813965, 0.0, 4209.925086260656], 'f_EgGf': [2686.53594683, 0, 2017.3, 2414.92850999], 'f_EgGf_Q': [0, 0, 5885.585546008087, 5145.934451950648], 'f_f0g1': [1184.4, 999.8, 1632.9833333333333, 1620.9166666666665], 'gs': [52.40296404695958, 54.81794456602636, 43.49513117058557, 4.930653352423196, 2.6415018214608046, 6.386231497692186], 'pulses': {'pi_ge': {'sigma': [0.02, 0.02, 0.02, 0.02, 0.025, 0.025, 0.025, 0.025, 0.015, 0.015, 0.015, 0.015, 0.025, 0.025, 0.025, 0.025], 'gain': [1849, 1914, 0, 1855, 2834, 2504, 2648, 2631, 9155, 9155, 9155, 9155, 599, 599, 599, 599], 'half_gain': [1856, 1835, 1873, 1867, 2382, 2186, 2248, 2289, 9253, 9253, 9253, 9253, 524, 524, 524, 524], 'half_correction_phase': [0, 0, 0, 0, 0, 0, 0, 0, 0, 0, 0, 0, 0, 0, 0, 0, 0], 'half_gain_pi_sigma': [927, 0, 0, 0, 0, 1315, 0, 0, 0, 0, 7212, 0, 0, 0, 0, 460], 'type': 'gauss'}, 'pi_ef': {'sigma': [0.02, 0.02, 0.02, 0.02, 0.025, 0.025, 0.025, 0.025, 0.015, 0.015, 0.015, 0.015, 0.03, 0.03, 0.03, 0.03], 'gain': [1280, 0, 0, 0, 0, 1912, 0, 0, 10000, 10079, 10015, 0, 300, 300, 0, 300], 'half_gain': [1261, 0, 0, 0, 0, 1941, 0, 0, 0, 10147, 9845, 9979, 340, 340, 0, 320], 'half_gain_pi_sigma': [673, 0, 0, 0, 0, 975, 0, 0, 0, 0, 5049, 0, 340, 0, 0, 337], 'type': 'gauss'}, 'pi_EgGf': {'gain': [32000, 0, 30000, 16000], 'sigma': [0.586, 0, 0.8, 0.44643], 'type': 'flat_top'}, 'pi_EgGf_Q': {'gain': [0, 0, 12147, 11411], 'sigma': [0, 0, 0.44193131519875684, 0.2961380879096939], 'phase': [0, 0, 18.0, 24.0], 'half_sigma': [0, 0, 0.212, 0.172], 'half_phase': [0, 0, 18.0, 21.0], 'type': 'flat_top'}, 'pi_f0g1': {'gain': [32000, 32000, 32000, 32000], 'sigma': [0.536, 0.585, 1.54, 1.04], 'idle': [3, 6, 12, 8], 'type': 'flat_top'}, 'pulse_pp': {'gain': [1750, 3550, 0, 0], 'filename': '240920_3_qram_4q_2qubit_++gg'}, 'pulse_1p': {'gain': [3500, 4375, 0, 0], 'filename': '240920_qram_4q_2qubit_e+gg'}, 'pulse_p1': {'gain': [3000, 5530, 0, 0], 'filename': '240920_qram_4q_2qubit_+egg'}, 'pihalf_ge_robust': {'gain': [7559, 7660, 7559, 7559, 4843, 4462, 4462, 4144, 20111, 20111, 20111, 20111, 2375, 2375, 2375, 2375], 'filename': ['X_2_Q0', 'X_2_Q1', 'X_2_Q2', 'X_2_Q3']}, 'pi_ge_slow': {'gain': [-1, 100, -1, -1], 'sigma': [-1, 0.25, -1, -1], 'type': 'gauss'}, 'pi_Q1_ZZ_slow': {'gain': [100, 0, -1, -1], 'sigma': [0.25, 0, -1, -1], 'type': 'gauss'}}}}, 'hw': {'soc': {'dacs': {'qubit': {'ch': [0, 1, 2, 3], 'type': 'full', 'nyquist': [2, 1, 2, 2], 'mixer_freq': [0, 0, 0, 0]}, 'swap': {'ch': 1, 'type': 'full', 'nyquist': 1, 'mixer_freq': 0}, 'swap_f0g1': {'ch': [1, 1, 5, 5], 'type': ['full', 'full', 'full', 'full'], 'nyquist': 1, 'mixer_freq': 0}, 'swap_Q': {'ch': [0, -1, 2, 3], 'type': ['full', 'None', 'full', 'full'], 'nyquist': [2, 0, 2, 2], 'mixer_freq': 0}, 'readout': {'ch': [6, 4, 6, 6], 'full_mux_chs': [5, 4, 5, 5], 'type': ['mux4', 'full', 'mux4', 'mux4'], 'mixer_freq': [7250, 5795.8115578931565, 7250, 7250], 'nyquist': [2, 2, 2, 2]}, 'res_pump': {'ch': 4, 'type': 'full', 'mixer_freq': 0, 'nyquist': 2}, 'delay_chs': {'ch': [0, 1, 2, 3, 4, 5, 6], 'delay_ns': [4.0, 0.0, 5.0, 3.0, 25, 60, 71]}}, 'adcs': {'readout': {'ch': [0, 1, 2, 3]}}}, 'lo': {'twpa': {'frequency': '8210.0e6', 'power': -1.5}, 'readout': {'frequency': 0, 'power': 0}}}, 'aliases': {'readout_LO': 'SC_20A1', 'twpa_LO': 'SC_26C1', 'soc': 'Qick_QRAM'}, 'expt': {'start_N': 0, 'step_N': 1, 'expts_N': 10, 'start_f': 5145.434451950648, 'step_f': 0.03333333333333333, 'expts_f': 31, 'reps': 1000, 'loops': 1, 'pulse_type': 'flat_top', 'post_process': 'scale', 'singleshot_reps': 15000, 'measure_f': False, 'init_state': '|1>|1>', 'qDrive': 3, 'qubits': [3, 1], 'measure_qubits': [3, 1], 'readout_cool': False, 'n_init_readout': 1, 'n_trig': 1, 'init_read_wait_us': 2, 'full_mux_expt': True, 'resonator_reset': [0, 2, 3]}}\n"
     ]
    },
    {
     "data": {
      "application/vnd.jupyter.widget-view+json": {
       "model_id": "8c6f6a47a4cb497583cde834268aea5d",
       "version_major": 2,
       "version_minor": 0
      },
      "text/plain": [
       "  0%|          | 0/4 [00:00<?, ?it/s]"
      ]
     },
     "metadata": {},
     "output_type": "display_data"
    },
    {
     "name": "stdout",
     "output_type": "stream",
     "text": [
      "Qubit  (3)\n",
      "ge fidelity (%): 75.43920794719645 \t angle (deg): 0.0 \t threshold ge: 163.74769125144877\n",
      "Qubit  (1)\n",
      "ge fidelity (%): 2.5430762050803524 \t angle (deg): 0.0 \t threshold ge: 73.5013061459199\n"
     ]
    },
    {
     "data": {
      "application/vnd.jupyter.widget-view+json": {
       "model_id": "4a0d9fdf3dc14f5fb2258fec0b516148",
       "version_major": 2,
       "version_minor": 0
      },
      "text/plain": [
       "  0%|          | 0/10 [00:00<?, ?it/s]"
      ]
     },
     "metadata": {},
     "output_type": "display_data"
    },
    {
     "name": "stdout",
     "output_type": "stream",
     "text": [
      "Attempted to init fitparam 3 to 0.0, which is out of bounds 0 to 0.25682770990851006. Instead init to 0.12841385495425503\n",
      "Fit best freq (qA) 5145.807622120507 which is -0.12682983014019555 away from old freq 5145.934451950648\n",
      "Best freq from pi/-pi on Q3 5145.807622120507\n",
      "Attempted to init fitparam 3 to 0.0, which is out of bounds 0 to 0.04703991956324116. Instead init to 0.02351995978162058\n",
      "Fit best freq (qA) 5145.813280134272 which is -0.12117181637586327 away from old freq 5145.934451950648\n",
      "Best freq from pi/-pi on Q1 5145.813280134272\n",
      "best 0 0.1160648859839535\n",
      "Saving S:\\QRAM\\qram_4QR2\\data\\data_241025\\00086_PiMinusPiEgGfExptQ31.h5\n",
      "Saved S:\\QRAM\\qram_4QR2\\data\\data_241025\\00086_PiMinusPiEgGfExptQ31.h5\n",
      "for gain 11411.764705882353 added swap pi freq from pi minus pi 5145.807622120507\n",
      "using opt freq 5145.807622120507\n",
      "-------- swap error amplification --------\n",
      "{'device': {'readout': {'trig_offset': 150, 'lo_sideband': [1, 1, 1, 1], 'frequency': [-439.97500000000036, 0.0, 452.3682333333336, -278.89999999999964], 'gain': [0.17, 0.035, 0.25, 0.17], 'kappa_ext': [0.157, 0.065, 0.182, 0.104], 'kerr': [-0.0045, 0, 0.008, -0.003], 't_rise_reset': [0.5, 1, 0.5, 0.5], 'readout_length': [4, 4, 4, 4], 'frequency_ef': [-440.97500000000036, 0.0, 453.3682333333336, -280.35364238410557], 'readout_length_ef': [10.0, 7.0, 4.0, 8.0], 'relax_delay': [450, 450, 450, 450]}, 'qubit': {'f_ge': [4111.097866562327, 4105.838904759637, 4110.958153299016, 4110.546407850519, 3442.8755721075536, 3448.5530242338505, 3447.060317317807, 3446.4929792801067, 4762.761504132457, 4761.823567235975, 4762.909473544484, 4762.369813422167, 4380.698604555338, 4379.604868123916, 4380.717837106693, 4381.248121020163], 'f_ge_robust': [4114.313815659153, 4108.147701523904, 4114.310372455052, 4114.310372455052, 3443.0032303441935, 3448.345849629168, 0, 0, 4763.941, 4763.941, 4763.941, 4763.941, 4384.25034225973, 4384.25034225973, 4384.25034225973, 4384.25034225973], 'f_ef': [3884.6269161242526, 0.0, 0.0, 0.0, 0.0, 3348.085433174199, 0.0, 0.0, 4571.9056482340775, 4570.996526541673, 4573.280687567687, 0.0, 4211.617732525247, 4205.61697813965, 0.0, 4209.925086260656], 'f_EgGf': [2686.53594683, 0, 2017.3, 2414.92850999], 'f_EgGf_Q': [0, 0, 5885.585546008087, 5145.807622120507], 'f_f0g1': [1184.4, 999.8, 1632.9833333333333, 1620.9166666666665], 'gs': [52.40296404695958, 54.81794456602636, 43.49513117058557, 4.930653352423196, 2.6415018214608046, 6.386231497692186], 'pulses': {'pi_ge': {'sigma': [0.02, 0.02, 0.02, 0.02, 0.025, 0.025, 0.025, 0.025, 0.015, 0.015, 0.015, 0.015, 0.025, 0.025, 0.025, 0.025], 'gain': [1849, 1914, 0, 1855, 2834, 2504, 2648, 2631, 9155, 9155, 9155, 9155, 599, 599, 599, 599], 'half_gain': [1856, 1835, 1873, 1867, 2382, 2186, 2248, 2289, 9253, 9253, 9253, 9253, 524, 524, 524, 524], 'half_correction_phase': [0, 0, 0, 0, 0, 0, 0, 0, 0, 0, 0, 0, 0, 0, 0, 0, 0], 'half_gain_pi_sigma': [927, 0, 0, 0, 0, 1315, 0, 0, 0, 0, 7212, 0, 0, 0, 0, 460], 'type': 'gauss'}, 'pi_ef': {'sigma': [0.02, 0.02, 0.02, 0.02, 0.025, 0.025, 0.025, 0.025, 0.015, 0.015, 0.015, 0.015, 0.03, 0.03, 0.03, 0.03], 'gain': [1280, 0, 0, 0, 0, 1912, 0, 0, 10000, 10079, 10015, 0, 300, 300, 0, 300], 'half_gain': [1261, 0, 0, 0, 0, 1941, 0, 0, 0, 10147, 9845, 9979, 340, 340, 0, 320], 'half_gain_pi_sigma': [673, 0, 0, 0, 0, 975, 0, 0, 0, 0, 5049, 0, 340, 0, 0, 337], 'type': 'gauss'}, 'pi_EgGf': {'gain': [32000, 0, 30000, 16000], 'sigma': [0.586, 0, 0.8, 0.44643], 'type': 'flat_top'}, 'pi_EgGf_Q': {'gain': [0, 0, 12147, 11411], 'sigma': [0, 0, 0.44193131519875684, 0.2961380879096939], 'phase': [0, 0, 18.0, 24.0], 'half_sigma': [0, 0, 0.212, 0.172], 'half_phase': [0, 0, 18.0, 21.0], 'type': 'flat_top'}, 'pi_f0g1': {'gain': [32000, 32000, 32000, 32000], 'sigma': [0.536, 0.585, 1.54, 1.04], 'idle': [3, 6, 12, 8], 'type': 'flat_top'}, 'pulse_pp': {'gain': [1750, 3550, 0, 0], 'filename': '240920_3_qram_4q_2qubit_++gg'}, 'pulse_1p': {'gain': [3500, 4375, 0, 0], 'filename': '240920_qram_4q_2qubit_e+gg'}, 'pulse_p1': {'gain': [3000, 5530, 0, 0], 'filename': '240920_qram_4q_2qubit_+egg'}, 'pihalf_ge_robust': {'gain': [7559, 7660, 7559, 7559, 4843, 4462, 4462, 4144, 20111, 20111, 20111, 20111, 2375, 2375, 2375, 2375], 'filename': ['X_2_Q0', 'X_2_Q1', 'X_2_Q2', 'X_2_Q3']}, 'pi_ge_slow': {'gain': [-1, 100, -1, -1], 'sigma': [-1, 0.25, -1, -1], 'type': 'gauss'}, 'pi_Q1_ZZ_slow': {'gain': [100, 0, -1, -1], 'sigma': [0.25, 0, -1, -1], 'type': 'gauss'}}}}, 'hw': {'soc': {'dacs': {'qubit': {'ch': [0, 1, 2, 3], 'type': 'full', 'nyquist': [2, 1, 2, 2], 'mixer_freq': [0, 0, 0, 0]}, 'swap': {'ch': 1, 'type': 'full', 'nyquist': 1, 'mixer_freq': 0}, 'swap_f0g1': {'ch': [1, 1, 5, 5], 'type': ['full', 'full', 'full', 'full'], 'nyquist': 1, 'mixer_freq': 0}, 'swap_Q': {'ch': [0, -1, 2, 3], 'type': ['full', 'None', 'full', 'full'], 'nyquist': [2, 0, 2, 2], 'mixer_freq': 0}, 'readout': {'ch': [6, 4, 6, 6], 'full_mux_chs': [5, 4, 5, 5], 'type': ['mux4', 'full', 'mux4', 'mux4'], 'mixer_freq': [7250, 5795.8115578931565, 7250, 7250], 'nyquist': [2, 2, 2, 2]}, 'res_pump': {'ch': 4, 'type': 'full', 'mixer_freq': 0, 'nyquist': 2}, 'delay_chs': {'ch': [0, 1, 2, 3, 4, 5, 6], 'delay_ns': [4.0, 0.0, 5.0, 3.0, 25, 60, 71]}}, 'adcs': {'readout': {'ch': [0, 1, 2, 3]}}}, 'lo': {'twpa': {'frequency': '8210.0e6', 'power': -1.5}, 'readout': {'frequency': 0, 'power': 0}}}, 'aliases': {'readout_LO': 'SC_20A1', 'twpa_LO': 'SC_26C1', 'soc': 'Qick_QRAM'}, 'expt': {'start': 0, 'step': 1, 'expts': 10, 'reps': 2000, 'loops': 10, 'pulse_type': 'flat_top', 'post_process': 'scale', 'singleshot_reps': 15000, 'measure_f': False, 'init_state': '|1>|1>', 'qDrive': 3, 'qubits': [3, 1], 'measure_qubits': [3, 1], 'full_mux_expt': True, 'resonator_reset': [0, 2, 3]}}\n"
     ]
    },
    {
     "data": {
      "application/vnd.jupyter.widget-view+json": {
       "model_id": "31537d7df23a406bab04df05d217d537",
       "version_major": 2,
       "version_minor": 0
      },
      "text/plain": [
       "  0%|          | 0/4 [00:00<?, ?it/s]"
      ]
     },
     "metadata": {},
     "output_type": "display_data"
    },
    {
     "name": "stdout",
     "output_type": "stream",
     "text": [
      "Qubit  (3)\n",
      "ge fidelity (%): 75.06584394515188 \t angle (deg): 0.0 \t threshold ge: 161.82428041081636\n",
      "Qubit  (1)\n",
      "ge fidelity (%): 54.22 \t angle (deg): 0.0 \t threshold ge: 310.08521587109266\n"
     ]
    },
    {
     "data": {
      "application/vnd.jupyter.widget-view+json": {
       "model_id": "29337d3ce228429f891b2a135efbfa0a",
       "version_major": 2,
       "version_minor": 0
      },
      "text/plain": [
       "  0%|          | 0/10 [00:00<?, ?it/s]"
      ]
     },
     "metadata": {},
     "output_type": "display_data"
    },
    {
     "name": "stdout",
     "output_type": "stream",
     "text": [
      "Saving S:\\QRAM\\qram_4QR2\\data\\data_241025\\00080_NPulseExptEgGfQ31.h5\n",
      "Saved S:\\QRAM\\qram_4QR2\\data\\data_241025\\00080_NPulseExptEgGfQ31.h5\n",
      "[0.50140719 1.64347432 8.58578333]\n",
      "Attempted to init fitparam 0 to 0.0, which is out of bounds 0.0 to 0.0. Instead init to 0.0\n",
      "Warning: fit failed with error: Each lower bound must be strictly less than each upper bound.\n",
      "[0.0, 0.0, 10]\n",
      "Warning: fit failed with error: Optimal parameters not found: The maximum number of function evaluations is exceeded.\n",
      "[180.01894284513796, 0.0, 10]\n",
      "[ 0.77355457 -0.65935105 11.91978892]\n",
      "Attempted to init fitparam 0 to 0.0, which is out of bounds 0.0 to 0.0. Instead init to 0.0\n",
      "Warning: fit failed with error: Each lower bound must be strictly less than each upper bound.\n",
      "[0.0, 0.0, 10]\n",
      "Warning: fit failed with error: Optimal parameters not found: The maximum number of function evaluations is exceeded.\n",
      "[337.2751796017767, 0.0, 10]\n",
      "From QA: adjust length to 0.2988668657886043\n",
      "\tadjust ratio 0.9908695871263278\n",
      "\n",
      "From QB: adjust length to 0.29722684810369093\n",
      "\tadjust ratio 0.996336938601128\n",
      "best 0 inf\n",
      "pi len precise 0.2961380879096939 adjustment ratio 1.0 from Q1\n",
      "for gain 11411.764705882353 added swap pi len from error amplification 0.2961380879096939\n",
      "----------- STARTING GAIN 12147.058823529413 -----------\n",
      "-------- swap length rabi --------\n",
      "gain 12147 freq 5145.499728028457\n"
     ]
    },
    {
     "data": {
      "application/vnd.jupyter.widget-view+json": {
       "model_id": "78da675fce0542f3a67fd32169c74eab",
       "version_major": 2,
       "version_minor": 0
      },
      "text/plain": [
       "  0%|          | 0/101 [00:00<?, ?it/s]"
      ]
     },
     "metadata": {},
     "output_type": "display_data"
    },
    {
     "name": "stdout",
     "output_type": "stream",
     "text": [
      "Saving S:\\QRAM\\qram_4QR2\\data\\data_241025\\00082_length_rabi_EgGf_qubit31.h5\n",
      "Saved S:\\QRAM\\qram_4QR2\\data\\data_241025\\00082_length_rabi_EgGf_qubit31.h5\n",
      "Attempted to init fitparam 0 to 0.0, which is out of bounds 0.0 to 0.0. Instead init to 0.0\n",
      "Attempted to init fitparam 4 to 0.0, which is out of bounds 0.0 to 0.0. Instead init to 0.0\n",
      "Warning: fit failed with error: Each lower bound must be strictly less than each upper bound.\n",
      "Attempted to init fitparam 0 to 0.0, which is out of bounds 0.0 to 0.0. Instead init to 0.0\n",
      "Attempted to init fitparam 4 to 0.0, which is out of bounds 0.0 to 0.0. Instead init to 0.0\n",
      "Warning: fit failed with error: Each lower bound must be strictly less than each upper bound.\n",
      "best 0 0.03086589728861025\n",
      "Pi length from amps data (qubit A) [us]: 0.2805061186736545\n",
      "\tPi/2 length from avgq data (qubit A) [us]: 0.14025305933682725\n",
      "\tDecay time [us]: 5.695408108590071\n",
      "Pi length from avgq data (qubit A) [us]: 0.5023296447291788\n",
      "\tPi/2 length from avgq data (qubit A) [us]: 0.2511648223645894\n",
      "\tDecay time [us]: 1.3395457192778102\n",
      "Pi length from amps data (qubit B) [us]: 8.204763608797972\n",
      "\tPi/2 length from avgq data (qubit B) [us]: 4.102381804398986\n",
      "\tDecay time [us]: 0.4018637157833431\n",
      "Pi length from avgq data (qubit B) [us]: 0.5023296447291788\n",
      "\tPi/2 length from avgq data (qubit B) [us]: 0.2511648223645894\n",
      "\tDecay time [us]: 1.3395457192778102\n",
      "max QA amp: 262.72620978449237\n",
      "min QA amp: 92.85237998042466\n",
      "max QB amp: 359.008470674433\n",
      "min QB amp: 296.1338101032712\n",
      "for gain 12147.058823529413 added swap pi len from length rabi 0.2805061186736545\n",
      "-------- swap pi minus pi --------\n",
      "{'device': {'readout': {'trig_offset': 150, 'lo_sideband': [1, 1, 1, 1], 'frequency': [-439.97500000000036, 0.0, 452.3682333333336, -278.89999999999964], 'gain': [0.17, 0.0001, 0.25, 0.17], 'kappa_ext': [0.157, 0.065, 0.182, 0.104], 'kerr': [-0.0045, 0, 0.008, -0.003], 't_rise_reset': [0.5, 1, 0.5, 0.5], 'readout_length': [4, 4, 4, 4], 'frequency_ef': [-440.97500000000036, 0.0, 453.3682333333336, -280.35364238410557], 'readout_length_ef': [10.0, 7.0, 4.0, 8.0], 'relax_delay': [450, 450, 450, 450]}, 'qubit': {'f_ge': [4111.097866562327, 4105.838904759637, 4110.958153299016, 4110.546407850519, 3442.8755721075536, 3448.5530242338505, 3447.060317317807, 3446.4929792801067, 4762.761504132457, 4761.823567235975, 4762.909473544484, 4762.369813422167, 4380.698604555338, 4379.604868123916, 4380.717837106693, 4381.248121020163], 'f_ge_robust': [4114.313815659153, 4108.147701523904, 4114.310372455052, 4114.310372455052, 3443.0032303441935, 3448.345849629168, 0, 0, 4763.941, 4763.941, 4763.941, 4763.941, 4384.25034225973, 4384.25034225973, 4384.25034225973, 4384.25034225973], 'f_ef': [3884.6269161242526, 0.0, 0.0, 0.0, 0.0, 3348.085433174199, 0.0, 0.0, 4571.9056482340775, 4570.996526541673, 4573.280687567687, 0.0, 4211.617732525247, 4205.61697813965, 0.0, 4209.925086260656], 'f_EgGf': [2686.53594683, 0, 2017.3, 2414.92850999], 'f_EgGf_Q': [0, 0, 5885.585546008087, 5145.499728028457], 'f_f0g1': [1184.4, 999.8, 1632.9833333333333, 1620.9166666666665], 'gs': [52.40296404695958, 54.81794456602636, 43.49513117058557, 4.930653352423196, 2.6415018214608046, 6.386231497692186], 'pulses': {'pi_ge': {'sigma': [0.02, 0.02, 0.02, 0.02, 0.025, 0.025, 0.025, 0.025, 0.015, 0.015, 0.015, 0.015, 0.025, 0.025, 0.025, 0.025], 'gain': [1849, 1914, 0, 1855, 2834, 2504, 2648, 2631, 9155, 9155, 9155, 9155, 599, 599, 599, 599], 'half_gain': [1856, 1835, 1873, 1867, 2382, 2186, 2248, 2289, 9253, 9253, 9253, 9253, 524, 524, 524, 524], 'half_correction_phase': [0, 0, 0, 0, 0, 0, 0, 0, 0, 0, 0, 0, 0, 0, 0, 0, 0], 'half_gain_pi_sigma': [927, 0, 0, 0, 0, 1315, 0, 0, 0, 0, 7212, 0, 0, 0, 0, 460], 'type': 'gauss'}, 'pi_ef': {'sigma': [0.02, 0.02, 0.02, 0.02, 0.025, 0.025, 0.025, 0.025, 0.015, 0.015, 0.015, 0.015, 0.03, 0.03, 0.03, 0.03], 'gain': [1280, 0, 0, 0, 0, 1912, 0, 0, 10000, 10079, 10015, 0, 300, 300, 0, 300], 'half_gain': [1261, 0, 0, 0, 0, 1941, 0, 0, 0, 10147, 9845, 9979, 340, 340, 0, 320], 'half_gain_pi_sigma': [673, 0, 0, 0, 0, 975, 0, 0, 0, 0, 5049, 0, 340, 0, 0, 337], 'type': 'gauss'}, 'pi_EgGf': {'gain': [32000, 0, 30000, 16000], 'sigma': [0.586, 0, 0.8, 0.44643], 'type': 'flat_top'}, 'pi_EgGf_Q': {'gain': [0, 0, 12147, 12147], 'sigma': [0, 0, 0.44193131519875684, 0.2805061186736545], 'phase': [0, 0, 18.0, 24.0], 'half_sigma': [0, 0, 0.212, 0.172], 'half_phase': [0, 0, 18.0, 21.0], 'type': 'flat_top'}, 'pi_f0g1': {'gain': [32000, 32000, 32000, 32000], 'sigma': [0.536, 0.585, 1.54, 1.04], 'idle': [3, 6, 12, 8], 'type': 'flat_top'}, 'pulse_pp': {'gain': [1750, 3550, 0, 0], 'filename': '240920_3_qram_4q_2qubit_++gg'}, 'pulse_1p': {'gain': [3500, 4375, 0, 0], 'filename': '240920_qram_4q_2qubit_e+gg'}, 'pulse_p1': {'gain': [3000, 5530, 0, 0], 'filename': '240920_qram_4q_2qubit_+egg'}, 'pihalf_ge_robust': {'gain': [7559, 7660, 7559, 7559, 4843, 4462, 4462, 4144, 20111, 20111, 20111, 20111, 2375, 2375, 2375, 2375], 'filename': ['X_2_Q0', 'X_2_Q1', 'X_2_Q2', 'X_2_Q3']}, 'pi_ge_slow': {'gain': [-1, 100, -1, -1], 'sigma': [-1, 0.25, -1, -1], 'type': 'gauss'}, 'pi_Q1_ZZ_slow': {'gain': [100, 0, -1, -1], 'sigma': [0.25, 0, -1, -1], 'type': 'gauss'}}}}, 'hw': {'soc': {'dacs': {'qubit': {'ch': [0, 1, 2, 3], 'type': 'full', 'nyquist': [2, 1, 2, 2], 'mixer_freq': [0, 0, 0, 0]}, 'swap': {'ch': 1, 'type': 'full', 'nyquist': 1, 'mixer_freq': 0}, 'swap_f0g1': {'ch': [1, 1, 5, 5], 'type': ['full', 'full', 'full', 'full'], 'nyquist': 1, 'mixer_freq': 0}, 'swap_Q': {'ch': [0, -1, 2, 3], 'type': ['full', 'None', 'full', 'full'], 'nyquist': [2, 0, 2, 2], 'mixer_freq': 0}, 'readout': {'ch': [6, 4, 6, 6], 'full_mux_chs': [5, 4, 5, 5], 'type': ['mux4', 'full', 'mux4', 'mux4'], 'mixer_freq': [7250, 5795.8115578931565, 7250, 7250], 'nyquist': [2, 2, 2, 2]}, 'res_pump': {'ch': 4, 'type': 'full', 'mixer_freq': 0, 'nyquist': 2}, 'delay_chs': {'ch': [0, 1, 2, 3, 4, 5, 6], 'delay_ns': [4.0, 0.0, 5.0, 3.0, 25, 60, 71]}}, 'adcs': {'readout': {'ch': [0, 1, 2, 3]}}}, 'lo': {'twpa': {'frequency': '8210.0e6', 'power': -1.5}, 'readout': {'frequency': 0, 'power': 0}}}, 'aliases': {'readout_LO': 'SC_20A1', 'twpa_LO': 'SC_26C1', 'soc': 'Qick_QRAM'}, 'expt': {'start_N': 0, 'step_N': 1, 'expts_N': 10, 'start_f': 5144.999728028457, 'step_f': 0.03333333333333333, 'expts_f': 31, 'reps': 1000, 'loops': 1, 'pulse_type': 'flat_top', 'post_process': 'scale', 'singleshot_reps': 15000, 'measure_f': False, 'init_state': '|1>|1>', 'qDrive': 3, 'qubits': [3, 1], 'measure_qubits': [3, 1], 'readout_cool': False, 'n_init_readout': 1, 'n_trig': 1, 'init_read_wait_us': 2, 'full_mux_expt': True, 'resonator_reset': [0, 2, 3]}}\n"
     ]
    },
    {
     "data": {
      "application/vnd.jupyter.widget-view+json": {
       "model_id": "9d5207a17c7c456897df6bb838dbd06c",
       "version_major": 2,
       "version_minor": 0
      },
      "text/plain": [
       "  0%|          | 0/4 [00:00<?, ?it/s]"
      ]
     },
     "metadata": {},
     "output_type": "display_data"
    },
    {
     "name": "stdout",
     "output_type": "stream",
     "text": [
      "Qubit  (3)\n",
      "ge fidelity (%): 76.66666666666666 \t angle (deg): 0.0 \t threshold ge: 164.1286970926037\n",
      "Qubit  (1)\n",
      "ge fidelity (%): 3.11685090117117 \t angle (deg): 0.0 \t threshold ge: 69.49984084139344\n"
     ]
    },
    {
     "data": {
      "application/vnd.jupyter.widget-view+json": {
       "model_id": "be553bf5dbb54d7cbe3cf3f8285d6647",
       "version_major": 2,
       "version_minor": 0
      },
      "text/plain": [
       "  0%|          | 0/10 [00:00<?, ?it/s]"
      ]
     },
     "metadata": {},
     "output_type": "display_data"
    },
    {
     "name": "stdout",
     "output_type": "stream",
     "text": [
      "Attempted to init fitparam 3 to 0.0, which is out of bounds 0 to 0.20289022333587634. Instead init to 0.10144511166793817\n",
      "Fit best freq (qA) 5145.343359864123 which is -0.15636816433379863 away from old freq 5145.499728028457\n",
      "Best freq from pi/-pi on Q3 5145.343359864123\n",
      "Attempted to init fitparam 3 to 0.0, which is out of bounds 0 to 0.17958376086315414. Instead init to 0.08979188043157707\n",
      "Fit best freq (qA) 5145.127150809775 which is -0.37257721868172666 away from old freq 5145.499728028457\n",
      "Best freq from pi/-pi on Q1 5145.127150809775\n",
      "best 0 0.15801675996518535\n",
      "Saving S:\\QRAM\\qram_4QR2\\data\\data_241025\\00087_PiMinusPiEgGfExptQ31.h5\n",
      "Saved S:\\QRAM\\qram_4QR2\\data\\data_241025\\00087_PiMinusPiEgGfExptQ31.h5\n",
      "for gain 12147.058823529413 added swap pi freq from pi minus pi 5145.343359864123\n",
      "using opt freq 5145.343359864123\n",
      "-------- swap error amplification --------\n",
      "{'device': {'readout': {'trig_offset': 150, 'lo_sideband': [1, 1, 1, 1], 'frequency': [-439.97500000000036, 0.0, 452.3682333333336, -278.89999999999964], 'gain': [0.17, 0.035, 0.25, 0.17], 'kappa_ext': [0.157, 0.065, 0.182, 0.104], 'kerr': [-0.0045, 0, 0.008, -0.003], 't_rise_reset': [0.5, 1, 0.5, 0.5], 'readout_length': [4, 4, 4, 4], 'frequency_ef': [-440.97500000000036, 0.0, 453.3682333333336, -280.35364238410557], 'readout_length_ef': [10.0, 7.0, 4.0, 8.0], 'relax_delay': [450, 450, 450, 450]}, 'qubit': {'f_ge': [4111.097866562327, 4105.838904759637, 4110.958153299016, 4110.546407850519, 3442.8755721075536, 3448.5530242338505, 3447.060317317807, 3446.4929792801067, 4762.761504132457, 4761.823567235975, 4762.909473544484, 4762.369813422167, 4380.698604555338, 4379.604868123916, 4380.717837106693, 4381.248121020163], 'f_ge_robust': [4114.313815659153, 4108.147701523904, 4114.310372455052, 4114.310372455052, 3443.0032303441935, 3448.345849629168, 0, 0, 4763.941, 4763.941, 4763.941, 4763.941, 4384.25034225973, 4384.25034225973, 4384.25034225973, 4384.25034225973], 'f_ef': [3884.6269161242526, 0.0, 0.0, 0.0, 0.0, 3348.085433174199, 0.0, 0.0, 4571.9056482340775, 4570.996526541673, 4573.280687567687, 0.0, 4211.617732525247, 4205.61697813965, 0.0, 4209.925086260656], 'f_EgGf': [2686.53594683, 0, 2017.3, 2414.92850999], 'f_EgGf_Q': [0, 0, 5885.585546008087, 5145.343359864123], 'f_f0g1': [1184.4, 999.8, 1632.9833333333333, 1620.9166666666665], 'gs': [52.40296404695958, 54.81794456602636, 43.49513117058557, 4.930653352423196, 2.6415018214608046, 6.386231497692186], 'pulses': {'pi_ge': {'sigma': [0.02, 0.02, 0.02, 0.02, 0.025, 0.025, 0.025, 0.025, 0.015, 0.015, 0.015, 0.015, 0.025, 0.025, 0.025, 0.025], 'gain': [1849, 1914, 0, 1855, 2834, 2504, 2648, 2631, 9155, 9155, 9155, 9155, 599, 599, 599, 599], 'half_gain': [1856, 1835, 1873, 1867, 2382, 2186, 2248, 2289, 9253, 9253, 9253, 9253, 524, 524, 524, 524], 'half_correction_phase': [0, 0, 0, 0, 0, 0, 0, 0, 0, 0, 0, 0, 0, 0, 0, 0, 0], 'half_gain_pi_sigma': [927, 0, 0, 0, 0, 1315, 0, 0, 0, 0, 7212, 0, 0, 0, 0, 460], 'type': 'gauss'}, 'pi_ef': {'sigma': [0.02, 0.02, 0.02, 0.02, 0.025, 0.025, 0.025, 0.025, 0.015, 0.015, 0.015, 0.015, 0.03, 0.03, 0.03, 0.03], 'gain': [1280, 0, 0, 0, 0, 1912, 0, 0, 10000, 10079, 10015, 0, 300, 300, 0, 300], 'half_gain': [1261, 0, 0, 0, 0, 1941, 0, 0, 0, 10147, 9845, 9979, 340, 340, 0, 320], 'half_gain_pi_sigma': [673, 0, 0, 0, 0, 975, 0, 0, 0, 0, 5049, 0, 340, 0, 0, 337], 'type': 'gauss'}, 'pi_EgGf': {'gain': [32000, 0, 30000, 16000], 'sigma': [0.586, 0, 0.8, 0.44643], 'type': 'flat_top'}, 'pi_EgGf_Q': {'gain': [0, 0, 12147, 12147], 'sigma': [0, 0, 0.44193131519875684, 0.2805061186736545], 'phase': [0, 0, 18.0, 24.0], 'half_sigma': [0, 0, 0.212, 0.172], 'half_phase': [0, 0, 18.0, 21.0], 'type': 'flat_top'}, 'pi_f0g1': {'gain': [32000, 32000, 32000, 32000], 'sigma': [0.536, 0.585, 1.54, 1.04], 'idle': [3, 6, 12, 8], 'type': 'flat_top'}, 'pulse_pp': {'gain': [1750, 3550, 0, 0], 'filename': '240920_3_qram_4q_2qubit_++gg'}, 'pulse_1p': {'gain': [3500, 4375, 0, 0], 'filename': '240920_qram_4q_2qubit_e+gg'}, 'pulse_p1': {'gain': [3000, 5530, 0, 0], 'filename': '240920_qram_4q_2qubit_+egg'}, 'pihalf_ge_robust': {'gain': [7559, 7660, 7559, 7559, 4843, 4462, 4462, 4144, 20111, 20111, 20111, 20111, 2375, 2375, 2375, 2375], 'filename': ['X_2_Q0', 'X_2_Q1', 'X_2_Q2', 'X_2_Q3']}, 'pi_ge_slow': {'gain': [-1, 100, -1, -1], 'sigma': [-1, 0.25, -1, -1], 'type': 'gauss'}, 'pi_Q1_ZZ_slow': {'gain': [100, 0, -1, -1], 'sigma': [0.25, 0, -1, -1], 'type': 'gauss'}}}}, 'hw': {'soc': {'dacs': {'qubit': {'ch': [0, 1, 2, 3], 'type': 'full', 'nyquist': [2, 1, 2, 2], 'mixer_freq': [0, 0, 0, 0]}, 'swap': {'ch': 1, 'type': 'full', 'nyquist': 1, 'mixer_freq': 0}, 'swap_f0g1': {'ch': [1, 1, 5, 5], 'type': ['full', 'full', 'full', 'full'], 'nyquist': 1, 'mixer_freq': 0}, 'swap_Q': {'ch': [0, -1, 2, 3], 'type': ['full', 'None', 'full', 'full'], 'nyquist': [2, 0, 2, 2], 'mixer_freq': 0}, 'readout': {'ch': [6, 4, 6, 6], 'full_mux_chs': [5, 4, 5, 5], 'type': ['mux4', 'full', 'mux4', 'mux4'], 'mixer_freq': [7250, 5795.8115578931565, 7250, 7250], 'nyquist': [2, 2, 2, 2]}, 'res_pump': {'ch': 4, 'type': 'full', 'mixer_freq': 0, 'nyquist': 2}, 'delay_chs': {'ch': [0, 1, 2, 3, 4, 5, 6], 'delay_ns': [4.0, 0.0, 5.0, 3.0, 25, 60, 71]}}, 'adcs': {'readout': {'ch': [0, 1, 2, 3]}}}, 'lo': {'twpa': {'frequency': '8210.0e6', 'power': -1.5}, 'readout': {'frequency': 0, 'power': 0}}}, 'aliases': {'readout_LO': 'SC_20A1', 'twpa_LO': 'SC_26C1', 'soc': 'Qick_QRAM'}, 'expt': {'start': 0, 'step': 1, 'expts': 10, 'reps': 2000, 'loops': 10, 'pulse_type': 'flat_top', 'post_process': 'scale', 'singleshot_reps': 15000, 'measure_f': False, 'init_state': '|1>|1>', 'qDrive': 3, 'qubits': [3, 1], 'measure_qubits': [3, 1], 'full_mux_expt': True, 'resonator_reset': [0, 2, 3]}}\n"
     ]
    },
    {
     "data": {
      "application/vnd.jupyter.widget-view+json": {
       "model_id": "eeecdf5a01bb4146a6b16318665d8fc5",
       "version_major": 2,
       "version_minor": 0
      },
      "text/plain": [
       "  0%|          | 0/4 [00:00<?, ?it/s]"
      ]
     },
     "metadata": {},
     "output_type": "display_data"
    },
    {
     "name": "stdout",
     "output_type": "stream",
     "text": [
      "Qubit  (3)\n",
      "ge fidelity (%): 75.70000000000002 \t angle (deg): 0.0 \t threshold ge: 167.82539873824916\n",
      "Qubit  (1)\n",
      "ge fidelity (%): 55.13174167166702 \t angle (deg): 0.0 \t threshold ge: 311.1832235270679\n"
     ]
    },
    {
     "data": {
      "application/vnd.jupyter.widget-view+json": {
       "model_id": "01a355610a924cc7ac064b30aadd45bf",
       "version_major": 2,
       "version_minor": 0
      },
      "text/plain": [
       "  0%|          | 0/10 [00:00<?, ?it/s]"
      ]
     },
     "metadata": {},
     "output_type": "display_data"
    },
    {
     "name": "stdout",
     "output_type": "stream",
     "text": [
      "Saving S:\\QRAM\\qram_4QR2\\data\\data_241025\\00081_NPulseExptEgGfQ31.h5\n",
      "Saved S:\\QRAM\\qram_4QR2\\data\\data_241025\\00081_NPulseExptEgGfQ31.h5\n",
      "[0.50603718 1.07937385 5.09622698]\n",
      "Attempted to init fitparam 0 to 0.0, which is out of bounds 0.0 to 0.0. Instead init to 0.0\n",
      "Warning: fit failed with error: Each lower bound must be strictly less than each upper bound.\n",
      "[0.0, 0.0, 10]\n",
      "Warning: fit failed with error: Optimal parameters not found: The maximum number of function evaluations is exceeded.\n",
      "[181.43940352328735, 0.0, 10]\n",
      "[ 0.75545501 -0.96739438  4.25927014]\n",
      "Attempted to init fitparam 0 to 0.0, which is out of bounds 0.0 to 0.0. Instead init to 0.0\n",
      "Warning: fit failed with error: Each lower bound must be strictly less than each upper bound.\n",
      "[0.0, 0.0, 10]\n",
      "Warning: fit failed with error: Optimal parameters not found: The maximum number of function evaluations is exceeded.\n",
      "[334.87667533884985, 0.0, 10]\n",
      "From QA: adjust length to 0.28219832697186886\n",
      "\tadjust ratio 0.9940034786301797\n",
      "\n",
      "From QB: adjust length to 0.2820218204697158\n",
      "\tadjust ratio 0.9946255867948911\n",
      "best 0 inf\n",
      "pi len precise 0.2805061186736545 adjustment ratio 1.0 from Q1\n",
      "for gain 12147.058823529413 added swap pi len from error amplification 0.2805061186736545\n",
      "----------- STARTING GAIN 12882.35294117647 -----------\n",
      "-------- swap length rabi --------\n",
      "gain 12882 freq 5145.035905311605\n"
     ]
    },
    {
     "data": {
      "application/vnd.jupyter.widget-view+json": {
       "model_id": "171344de9d584d368d7fbe298794310d",
       "version_major": 2,
       "version_minor": 0
      },
      "text/plain": [
       "  0%|          | 0/101 [00:00<?, ?it/s]"
      ]
     },
     "metadata": {},
     "output_type": "display_data"
    },
    {
     "name": "stdout",
     "output_type": "stream",
     "text": [
      "Saving S:\\QRAM\\qram_4QR2\\data\\data_241025\\00083_length_rabi_EgGf_qubit31.h5\n",
      "Saved S:\\QRAM\\qram_4QR2\\data\\data_241025\\00083_length_rabi_EgGf_qubit31.h5\n",
      "Attempted to init fitparam 0 to 0.0, which is out of bounds 0.0 to 0.0. Instead init to 0.0\n",
      "Attempted to init fitparam 4 to 0.0, which is out of bounds 0.0 to 0.0. Instead init to 0.0\n",
      "Warning: fit failed with error: Each lower bound must be strictly less than each upper bound.\n",
      "Attempted to init fitparam 0 to 0.0, which is out of bounds 0.0 to 0.0. Instead init to 0.0\n",
      "Attempted to init fitparam 4 to 0.0, which is out of bounds 0.0 to 0.0. Instead init to 0.0\n",
      "Warning: fit failed with error: Each lower bound must be strictly less than each upper bound.\n",
      "best 0 0.08121760714139317\n",
      "Pi length from amps data (qubit A) [us]: 0.2636938615611933\n",
      "\tPi/2 length from avgq data (qubit A) [us]: 0.13184693078059664\n",
      "\tDecay time [us]: 12.213958332641555\n",
      "Pi length from avgq data (qubit A) [us]: 0.489225393127548\n",
      "\tPi/2 length from avgq data (qubit A) [us]: 0.244612696563774\n",
      "\tDecay time [us]: 1.304601048340128\n",
      "Pi length from amps data (qubit B) [us]: 0.26862745496251744\n",
      "\tPi/2 length from avgq data (qubit B) [us]: 0.13431372748125872\n",
      "\tDecay time [us]: 4.666714973119105\n",
      "Pi length from avgq data (qubit B) [us]: 0.489225393127548\n",
      "\tPi/2 length from avgq data (qubit B) [us]: 0.244612696563774\n",
      "\tDecay time [us]: 1.304601048340128\n",
      "max QA amp: 260.47908958449585\n",
      "min QA amp: 100.09790901553875\n",
      "max QB amp: 361.09662432297506\n",
      "min QB amp: 309.44810918983745\n",
      "for gain 12882.35294117647 added swap pi len from length rabi 0.2636938615611933\n",
      "-------- swap pi minus pi --------\n",
      "{'device': {'readout': {'trig_offset': 150, 'lo_sideband': [1, 1, 1, 1], 'frequency': [-439.97500000000036, 0.0, 452.3682333333336, -278.89999999999964], 'gain': [0.17, 0.0001, 0.25, 0.17], 'kappa_ext': [0.157, 0.065, 0.182, 0.104], 'kerr': [-0.0045, 0, 0.008, -0.003], 't_rise_reset': [0.5, 1, 0.5, 0.5], 'readout_length': [4, 4, 4, 4], 'frequency_ef': [-440.97500000000036, 0.0, 453.3682333333336, -280.35364238410557], 'readout_length_ef': [10.0, 7.0, 4.0, 8.0], 'relax_delay': [450, 450, 450, 450]}, 'qubit': {'f_ge': [4111.097866562327, 4105.838904759637, 4110.958153299016, 4110.546407850519, 3442.8755721075536, 3448.5530242338505, 3447.060317317807, 3446.4929792801067, 4762.761504132457, 4761.823567235975, 4762.909473544484, 4762.369813422167, 4380.698604555338, 4379.604868123916, 4380.717837106693, 4381.248121020163], 'f_ge_robust': [4114.313815659153, 4108.147701523904, 4114.310372455052, 4114.310372455052, 3443.0032303441935, 3448.345849629168, 0, 0, 4763.941, 4763.941, 4763.941, 4763.941, 4384.25034225973, 4384.25034225973, 4384.25034225973, 4384.25034225973], 'f_ef': [3884.6269161242526, 0.0, 0.0, 0.0, 0.0, 3348.085433174199, 0.0, 0.0, 4571.9056482340775, 4570.996526541673, 4573.280687567687, 0.0, 4211.617732525247, 4205.61697813965, 0.0, 4209.925086260656], 'f_EgGf': [2686.53594683, 0, 2017.3, 2414.92850999], 'f_EgGf_Q': [0, 0, 5885.585546008087, 5145.035905311605], 'f_f0g1': [1184.4, 999.8, 1632.9833333333333, 1620.9166666666665], 'gs': [52.40296404695958, 54.81794456602636, 43.49513117058557, 4.930653352423196, 2.6415018214608046, 6.386231497692186], 'pulses': {'pi_ge': {'sigma': [0.02, 0.02, 0.02, 0.02, 0.025, 0.025, 0.025, 0.025, 0.015, 0.015, 0.015, 0.015, 0.025, 0.025, 0.025, 0.025], 'gain': [1849, 1914, 0, 1855, 2834, 2504, 2648, 2631, 9155, 9155, 9155, 9155, 599, 599, 599, 599], 'half_gain': [1856, 1835, 1873, 1867, 2382, 2186, 2248, 2289, 9253, 9253, 9253, 9253, 524, 524, 524, 524], 'half_correction_phase': [0, 0, 0, 0, 0, 0, 0, 0, 0, 0, 0, 0, 0, 0, 0, 0, 0], 'half_gain_pi_sigma': [927, 0, 0, 0, 0, 1315, 0, 0, 0, 0, 7212, 0, 0, 0, 0, 460], 'type': 'gauss'}, 'pi_ef': {'sigma': [0.02, 0.02, 0.02, 0.02, 0.025, 0.025, 0.025, 0.025, 0.015, 0.015, 0.015, 0.015, 0.03, 0.03, 0.03, 0.03], 'gain': [1280, 0, 0, 0, 0, 1912, 0, 0, 10000, 10079, 10015, 0, 300, 300, 0, 300], 'half_gain': [1261, 0, 0, 0, 0, 1941, 0, 0, 0, 10147, 9845, 9979, 340, 340, 0, 320], 'half_gain_pi_sigma': [673, 0, 0, 0, 0, 975, 0, 0, 0, 0, 5049, 0, 340, 0, 0, 337], 'type': 'gauss'}, 'pi_EgGf': {'gain': [32000, 0, 30000, 16000], 'sigma': [0.586, 0, 0.8, 0.44643], 'type': 'flat_top'}, 'pi_EgGf_Q': {'gain': [0, 0, 12147, 12882], 'sigma': [0, 0, 0.44193131519875684, 0.2636938615611933], 'phase': [0, 0, 18.0, 24.0], 'half_sigma': [0, 0, 0.212, 0.172], 'half_phase': [0, 0, 18.0, 21.0], 'type': 'flat_top'}, 'pi_f0g1': {'gain': [32000, 32000, 32000, 32000], 'sigma': [0.536, 0.585, 1.54, 1.04], 'idle': [3, 6, 12, 8], 'type': 'flat_top'}, 'pulse_pp': {'gain': [1750, 3550, 0, 0], 'filename': '240920_3_qram_4q_2qubit_++gg'}, 'pulse_1p': {'gain': [3500, 4375, 0, 0], 'filename': '240920_qram_4q_2qubit_e+gg'}, 'pulse_p1': {'gain': [3000, 5530, 0, 0], 'filename': '240920_qram_4q_2qubit_+egg'}, 'pihalf_ge_robust': {'gain': [7559, 7660, 7559, 7559, 4843, 4462, 4462, 4144, 20111, 20111, 20111, 20111, 2375, 2375, 2375, 2375], 'filename': ['X_2_Q0', 'X_2_Q1', 'X_2_Q2', 'X_2_Q3']}, 'pi_ge_slow': {'gain': [-1, 100, -1, -1], 'sigma': [-1, 0.25, -1, -1], 'type': 'gauss'}, 'pi_Q1_ZZ_slow': {'gain': [100, 0, -1, -1], 'sigma': [0.25, 0, -1, -1], 'type': 'gauss'}}}}, 'hw': {'soc': {'dacs': {'qubit': {'ch': [0, 1, 2, 3], 'type': 'full', 'nyquist': [2, 1, 2, 2], 'mixer_freq': [0, 0, 0, 0]}, 'swap': {'ch': 1, 'type': 'full', 'nyquist': 1, 'mixer_freq': 0}, 'swap_f0g1': {'ch': [1, 1, 5, 5], 'type': ['full', 'full', 'full', 'full'], 'nyquist': 1, 'mixer_freq': 0}, 'swap_Q': {'ch': [0, -1, 2, 3], 'type': ['full', 'None', 'full', 'full'], 'nyquist': [2, 0, 2, 2], 'mixer_freq': 0}, 'readout': {'ch': [6, 4, 6, 6], 'full_mux_chs': [5, 4, 5, 5], 'type': ['mux4', 'full', 'mux4', 'mux4'], 'mixer_freq': [7250, 5795.8115578931565, 7250, 7250], 'nyquist': [2, 2, 2, 2]}, 'res_pump': {'ch': 4, 'type': 'full', 'mixer_freq': 0, 'nyquist': 2}, 'delay_chs': {'ch': [0, 1, 2, 3, 4, 5, 6], 'delay_ns': [4.0, 0.0, 5.0, 3.0, 25, 60, 71]}}, 'adcs': {'readout': {'ch': [0, 1, 2, 3]}}}, 'lo': {'twpa': {'frequency': '8210.0e6', 'power': -1.5}, 'readout': {'frequency': 0, 'power': 0}}}, 'aliases': {'readout_LO': 'SC_20A1', 'twpa_LO': 'SC_26C1', 'soc': 'Qick_QRAM'}, 'expt': {'start_N': 0, 'step_N': 1, 'expts_N': 10, 'start_f': 5144.535905311605, 'step_f': 0.03333333333333333, 'expts_f': 31, 'reps': 1000, 'loops': 1, 'pulse_type': 'flat_top', 'post_process': 'scale', 'singleshot_reps': 15000, 'measure_f': False, 'init_state': '|1>|1>', 'qDrive': 3, 'qubits': [3, 1], 'measure_qubits': [3, 1], 'readout_cool': False, 'n_init_readout': 1, 'n_trig': 1, 'init_read_wait_us': 2, 'full_mux_expt': True, 'resonator_reset': [0, 2, 3]}}\n"
     ]
    },
    {
     "data": {
      "application/vnd.jupyter.widget-view+json": {
       "model_id": "3d3954d982834b01961a07fcfd47dd93",
       "version_major": 2,
       "version_minor": 0
      },
      "text/plain": [
       "  0%|          | 0/4 [00:00<?, ?it/s]"
      ]
     },
     "metadata": {},
     "output_type": "display_data"
    },
    {
     "name": "stdout",
     "output_type": "stream",
     "text": [
      "Qubit  (3)\n",
      "ge fidelity (%): 76.47924039380405 \t angle (deg): 0.0 \t threshold ge: 168.612335516065\n",
      "Qubit  (1)\n",
      "ge fidelity (%): 2.0902011245194196 \t angle (deg): 0.0 \t threshold ge: 65.57620738351389\n"
     ]
    },
    {
     "data": {
      "application/vnd.jupyter.widget-view+json": {
       "model_id": "6f889b0434d64d8bb3269dd55f679bb2",
       "version_major": 2,
       "version_minor": 0
      },
      "text/plain": [
       "  0%|          | 0/10 [00:00<?, ?it/s]"
      ]
     },
     "metadata": {},
     "output_type": "display_data"
    },
    {
     "name": "stdout",
     "output_type": "stream",
     "text": [
      "Attempted to init fitparam 3 to 0.0, which is out of bounds 0 to 0.2657016362740509. Instead init to 0.13285081813702546\n",
      "Fit best freq (qA) 5144.862303940162 which is -0.1736013714435103 away from old freq 5145.035905311605\n",
      "Best freq from pi/-pi on Q3 5144.862303940162\n",
      "Attempted to init fitparam 3 to 0.0, which is out of bounds 0 to 0.03634209654682929. Instead init to 0.018171048273414644\n",
      "Fit best freq (qA) 5144.89514907717 which is -0.14075623443568475 away from old freq 5145.035905311605\n",
      "Best freq from pi/-pi on Q1 5144.89514907717\n",
      "best 1 0.17212446105190235\n",
      "Saving S:\\QRAM\\qram_4QR2\\data\\data_241025\\00088_PiMinusPiEgGfExptQ31.h5\n",
      "Saved S:\\QRAM\\qram_4QR2\\data\\data_241025\\00088_PiMinusPiEgGfExptQ31.h5\n",
      "for gain 12882.35294117647 added swap pi freq from pi minus pi 5144.89514907717\n",
      "using opt freq 5144.89514907717\n",
      "-------- swap error amplification --------\n",
      "{'device': {'readout': {'trig_offset': 150, 'lo_sideband': [1, 1, 1, 1], 'frequency': [-439.97500000000036, 0.0, 452.3682333333336, -278.89999999999964], 'gain': [0.17, 0.035, 0.25, 0.17], 'kappa_ext': [0.157, 0.065, 0.182, 0.104], 'kerr': [-0.0045, 0, 0.008, -0.003], 't_rise_reset': [0.5, 1, 0.5, 0.5], 'readout_length': [4, 4, 4, 4], 'frequency_ef': [-440.97500000000036, 0.0, 453.3682333333336, -280.35364238410557], 'readout_length_ef': [10.0, 7.0, 4.0, 8.0], 'relax_delay': [450, 450, 450, 450]}, 'qubit': {'f_ge': [4111.097866562327, 4105.838904759637, 4110.958153299016, 4110.546407850519, 3442.8755721075536, 3448.5530242338505, 3447.060317317807, 3446.4929792801067, 4762.761504132457, 4761.823567235975, 4762.909473544484, 4762.369813422167, 4380.698604555338, 4379.604868123916, 4380.717837106693, 4381.248121020163], 'f_ge_robust': [4114.313815659153, 4108.147701523904, 4114.310372455052, 4114.310372455052, 3443.0032303441935, 3448.345849629168, 0, 0, 4763.941, 4763.941, 4763.941, 4763.941, 4384.25034225973, 4384.25034225973, 4384.25034225973, 4384.25034225973], 'f_ef': [3884.6269161242526, 0.0, 0.0, 0.0, 0.0, 3348.085433174199, 0.0, 0.0, 4571.9056482340775, 4570.996526541673, 4573.280687567687, 0.0, 4211.617732525247, 4205.61697813965, 0.0, 4209.925086260656], 'f_EgGf': [2686.53594683, 0, 2017.3, 2414.92850999], 'f_EgGf_Q': [0, 0, 5885.585546008087, 5144.89514907717], 'f_f0g1': [1184.4, 999.8, 1632.9833333333333, 1620.9166666666665], 'gs': [52.40296404695958, 54.81794456602636, 43.49513117058557, 4.930653352423196, 2.6415018214608046, 6.386231497692186], 'pulses': {'pi_ge': {'sigma': [0.02, 0.02, 0.02, 0.02, 0.025, 0.025, 0.025, 0.025, 0.015, 0.015, 0.015, 0.015, 0.025, 0.025, 0.025, 0.025], 'gain': [1849, 1914, 0, 1855, 2834, 2504, 2648, 2631, 9155, 9155, 9155, 9155, 599, 599, 599, 599], 'half_gain': [1856, 1835, 1873, 1867, 2382, 2186, 2248, 2289, 9253, 9253, 9253, 9253, 524, 524, 524, 524], 'half_correction_phase': [0, 0, 0, 0, 0, 0, 0, 0, 0, 0, 0, 0, 0, 0, 0, 0, 0], 'half_gain_pi_sigma': [927, 0, 0, 0, 0, 1315, 0, 0, 0, 0, 7212, 0, 0, 0, 0, 460], 'type': 'gauss'}, 'pi_ef': {'sigma': [0.02, 0.02, 0.02, 0.02, 0.025, 0.025, 0.025, 0.025, 0.015, 0.015, 0.015, 0.015, 0.03, 0.03, 0.03, 0.03], 'gain': [1280, 0, 0, 0, 0, 1912, 0, 0, 10000, 10079, 10015, 0, 300, 300, 0, 300], 'half_gain': [1261, 0, 0, 0, 0, 1941, 0, 0, 0, 10147, 9845, 9979, 340, 340, 0, 320], 'half_gain_pi_sigma': [673, 0, 0, 0, 0, 975, 0, 0, 0, 0, 5049, 0, 340, 0, 0, 337], 'type': 'gauss'}, 'pi_EgGf': {'gain': [32000, 0, 30000, 16000], 'sigma': [0.586, 0, 0.8, 0.44643], 'type': 'flat_top'}, 'pi_EgGf_Q': {'gain': [0, 0, 12147, 12882], 'sigma': [0, 0, 0.44193131519875684, 0.2636938615611933], 'phase': [0, 0, 18.0, 24.0], 'half_sigma': [0, 0, 0.212, 0.172], 'half_phase': [0, 0, 18.0, 21.0], 'type': 'flat_top'}, 'pi_f0g1': {'gain': [32000, 32000, 32000, 32000], 'sigma': [0.536, 0.585, 1.54, 1.04], 'idle': [3, 6, 12, 8], 'type': 'flat_top'}, 'pulse_pp': {'gain': [1750, 3550, 0, 0], 'filename': '240920_3_qram_4q_2qubit_++gg'}, 'pulse_1p': {'gain': [3500, 4375, 0, 0], 'filename': '240920_qram_4q_2qubit_e+gg'}, 'pulse_p1': {'gain': [3000, 5530, 0, 0], 'filename': '240920_qram_4q_2qubit_+egg'}, 'pihalf_ge_robust': {'gain': [7559, 7660, 7559, 7559, 4843, 4462, 4462, 4144, 20111, 20111, 20111, 20111, 2375, 2375, 2375, 2375], 'filename': ['X_2_Q0', 'X_2_Q1', 'X_2_Q2', 'X_2_Q3']}, 'pi_ge_slow': {'gain': [-1, 100, -1, -1], 'sigma': [-1, 0.25, -1, -1], 'type': 'gauss'}, 'pi_Q1_ZZ_slow': {'gain': [100, 0, -1, -1], 'sigma': [0.25, 0, -1, -1], 'type': 'gauss'}}}}, 'hw': {'soc': {'dacs': {'qubit': {'ch': [0, 1, 2, 3], 'type': 'full', 'nyquist': [2, 1, 2, 2], 'mixer_freq': [0, 0, 0, 0]}, 'swap': {'ch': 1, 'type': 'full', 'nyquist': 1, 'mixer_freq': 0}, 'swap_f0g1': {'ch': [1, 1, 5, 5], 'type': ['full', 'full', 'full', 'full'], 'nyquist': 1, 'mixer_freq': 0}, 'swap_Q': {'ch': [0, -1, 2, 3], 'type': ['full', 'None', 'full', 'full'], 'nyquist': [2, 0, 2, 2], 'mixer_freq': 0}, 'readout': {'ch': [6, 4, 6, 6], 'full_mux_chs': [5, 4, 5, 5], 'type': ['mux4', 'full', 'mux4', 'mux4'], 'mixer_freq': [7250, 5795.8115578931565, 7250, 7250], 'nyquist': [2, 2, 2, 2]}, 'res_pump': {'ch': 4, 'type': 'full', 'mixer_freq': 0, 'nyquist': 2}, 'delay_chs': {'ch': [0, 1, 2, 3, 4, 5, 6], 'delay_ns': [4.0, 0.0, 5.0, 3.0, 25, 60, 71]}}, 'adcs': {'readout': {'ch': [0, 1, 2, 3]}}}, 'lo': {'twpa': {'frequency': '8210.0e6', 'power': -1.5}, 'readout': {'frequency': 0, 'power': 0}}}, 'aliases': {'readout_LO': 'SC_20A1', 'twpa_LO': 'SC_26C1', 'soc': 'Qick_QRAM'}, 'expt': {'start': 0, 'step': 1, 'expts': 10, 'reps': 2000, 'loops': 10, 'pulse_type': 'flat_top', 'post_process': 'scale', 'singleshot_reps': 15000, 'measure_f': False, 'init_state': '|1>|1>', 'qDrive': 3, 'qubits': [3, 1], 'measure_qubits': [3, 1], 'full_mux_expt': True, 'resonator_reset': [0, 2, 3]}}\n"
     ]
    },
    {
     "data": {
      "application/vnd.jupyter.widget-view+json": {
       "model_id": "c6b89021eb2941a5b7e2a24cad6a0793",
       "version_major": 2,
       "version_minor": 0
      },
      "text/plain": [
       "  0%|          | 0/4 [00:00<?, ?it/s]"
      ]
     },
     "metadata": {},
     "output_type": "display_data"
    },
    {
     "name": "stdout",
     "output_type": "stream",
     "text": [
      "Qubit  (3)\n",
      "ge fidelity (%): 76.74666666666666 \t angle (deg): 0.0 \t threshold ge: 161.20431428860567\n",
      "Qubit  (1)\n",
      "ge fidelity (%): 55.56000000000001 \t angle (deg): 0.0 \t threshold ge: 310.2925583412393\n"
     ]
    },
    {
     "data": {
      "application/vnd.jupyter.widget-view+json": {
       "model_id": "08af09fb6378412f8b907fdedde96e37",
       "version_major": 2,
       "version_minor": 0
      },
      "text/plain": [
       "  0%|          | 0/10 [00:00<?, ?it/s]"
      ]
     },
     "metadata": {},
     "output_type": "display_data"
    },
    {
     "name": "stdout",
     "output_type": "stream",
     "text": [
      "Saving S:\\QRAM\\qram_4QR2\\data\\data_241025\\00082_NPulseExptEgGfQ31.h5\n",
      "Saved S:\\QRAM\\qram_4QR2\\data\\data_241025\\00082_NPulseExptEgGfQ31.h5\n",
      "[ 0.48643921  3.04605053 10.8048969 ]\n",
      "Attempted to init fitparam 0 to 0.0, which is out of bounds 0.0 to 0.0. Instead init to 0.0\n",
      "Warning: fit failed with error: Each lower bound must be strictly less than each upper bound.\n",
      "[0.0, 0.0, 10]\n",
      "Warning: fit failed with error: Optimal parameters not found: The maximum number of function evaluations is exceeded.\n",
      "[180.1166604228078, 0.0, 10]\n",
      "[ 0.66226697 -1.39877283 18.49593242]\n",
      "Attempted to init fitparam 0 to 0.0, which is out of bounds 0.0 to 0.0. Instead init to 0.0\n",
      "Warning: fit failed with error: Each lower bound must be strictly less than each upper bound.\n",
      "[0.0, 0.0, 10]\n",
      "Warning: fit failed with error: Optimal parameters not found: The maximum number of function evaluations is exceeded.\n",
      "[326.6938163555467, 0.0, 10]\n",
      "From QA: adjust length to 0.2682330359006877\n",
      "\tadjust ratio 0.9830774970567943\n",
      "\n",
      "From QB: adjust length to 0.2657590646681351\n",
      "\tadjust ratio 0.9922290398277828\n",
      "best 0 inf\n",
      "pi len precise 0.2636938615611933 adjustment ratio 1.0 from Q1\n",
      "for gain 12882.35294117647 added swap pi len from error amplification 0.2636938615611933\n",
      "----------- STARTING GAIN 13617.647058823528 -----------\n",
      "-------- swap length rabi --------\n",
      "gain 13617 freq 5144.542983800091\n"
     ]
    },
    {
     "data": {
      "application/vnd.jupyter.widget-view+json": {
       "model_id": "b7b0d459a5644fc791c76d40e3a33276",
       "version_major": 2,
       "version_minor": 0
      },
      "text/plain": [
       "  0%|          | 0/101 [00:00<?, ?it/s]"
      ]
     },
     "metadata": {},
     "output_type": "display_data"
    },
    {
     "name": "stdout",
     "output_type": "stream",
     "text": [
      "Saving S:\\QRAM\\qram_4QR2\\data\\data_241025\\00084_length_rabi_EgGf_qubit31.h5\n",
      "Saved S:\\QRAM\\qram_4QR2\\data\\data_241025\\00084_length_rabi_EgGf_qubit31.h5\n",
      "Attempted to init fitparam 0 to 0.0, which is out of bounds 0.0 to 0.0. Instead init to 0.0\n",
      "Attempted to init fitparam 4 to 0.0, which is out of bounds 0.0 to 0.0. Instead init to 0.0\n",
      "Warning: fit failed with error: Each lower bound must be strictly less than each upper bound.\n",
      "Attempted to init fitparam 0 to 0.0, which is out of bounds 0.0 to 0.0. Instead init to 0.0\n",
      "Attempted to init fitparam 4 to 0.0, which is out of bounds 0.0 to 0.0. Instead init to 0.0\n",
      "Warning: fit failed with error: Each lower bound must be strictly less than each upper bound.\n",
      "best 0 0.07746967669330534\n",
      "Pi length from amps data (qubit A) [us]: 0.25335798809866994\n",
      "\tPi/2 length from avgq data (qubit A) [us]: 0.12667899404933497\n",
      "\tDecay time [us]: 13.261204839636406\n",
      "Pi length from avgq data (qubit A) [us]: 0.47612114152591734\n",
      "\tPi/2 length from avgq data (qubit A) [us]: 0.23806057076295867\n",
      "\tDecay time [us]: 1.269656377402446\n",
      "Pi length from amps data (qubit B) [us]: 0.2715469043542701\n",
      "\tPi/2 length from avgq data (qubit B) [us]: 0.13577345217713505\n",
      "\tDecay time [us]: 11.89128054358537\n",
      "Pi length from avgq data (qubit B) [us]: 0.47612114152591734\n",
      "\tPi/2 length from avgq data (qubit B) [us]: 0.23806057076295867\n",
      "\tDecay time [us]: 1.269656377402446\n",
      "max QA amp: 260.7500726620635\n",
      "min QA amp: 93.37935778433794\n",
      "max QB amp: 360.71366055961886\n",
      "min QB amp: 289.7757080804366\n",
      "for gain 13617.647058823528 added swap pi len from length rabi 0.25335798809866994\n",
      "-------- swap pi minus pi --------\n",
      "{'device': {'readout': {'trig_offset': 150, 'lo_sideband': [1, 1, 1, 1], 'frequency': [-439.97500000000036, 0.0, 452.3682333333336, -278.89999999999964], 'gain': [0.17, 0.0001, 0.25, 0.17], 'kappa_ext': [0.157, 0.065, 0.182, 0.104], 'kerr': [-0.0045, 0, 0.008, -0.003], 't_rise_reset': [0.5, 1, 0.5, 0.5], 'readout_length': [4, 4, 4, 4], 'frequency_ef': [-440.97500000000036, 0.0, 453.3682333333336, -280.35364238410557], 'readout_length_ef': [10.0, 7.0, 4.0, 8.0], 'relax_delay': [450, 450, 450, 450]}, 'qubit': {'f_ge': [4111.097866562327, 4105.838904759637, 4110.958153299016, 4110.546407850519, 3442.8755721075536, 3448.5530242338505, 3447.060317317807, 3446.4929792801067, 4762.761504132457, 4761.823567235975, 4762.909473544484, 4762.369813422167, 4380.698604555338, 4379.604868123916, 4380.717837106693, 4381.248121020163], 'f_ge_robust': [4114.313815659153, 4108.147701523904, 4114.310372455052, 4114.310372455052, 3443.0032303441935, 3448.345849629168, 0, 0, 4763.941, 4763.941, 4763.941, 4763.941, 4384.25034225973, 4384.25034225973, 4384.25034225973, 4384.25034225973], 'f_ef': [3884.6269161242526, 0.0, 0.0, 0.0, 0.0, 3348.085433174199, 0.0, 0.0, 4571.9056482340775, 4570.996526541673, 4573.280687567687, 0.0, 4211.617732525247, 4205.61697813965, 0.0, 4209.925086260656], 'f_EgGf': [2686.53594683, 0, 2017.3, 2414.92850999], 'f_EgGf_Q': [0, 0, 5885.585546008087, 5144.542983800091], 'f_f0g1': [1184.4, 999.8, 1632.9833333333333, 1620.9166666666665], 'gs': [52.40296404695958, 54.81794456602636, 43.49513117058557, 4.930653352423196, 2.6415018214608046, 6.386231497692186], 'pulses': {'pi_ge': {'sigma': [0.02, 0.02, 0.02, 0.02, 0.025, 0.025, 0.025, 0.025, 0.015, 0.015, 0.015, 0.015, 0.025, 0.025, 0.025, 0.025], 'gain': [1849, 1914, 0, 1855, 2834, 2504, 2648, 2631, 9155, 9155, 9155, 9155, 599, 599, 599, 599], 'half_gain': [1856, 1835, 1873, 1867, 2382, 2186, 2248, 2289, 9253, 9253, 9253, 9253, 524, 524, 524, 524], 'half_correction_phase': [0, 0, 0, 0, 0, 0, 0, 0, 0, 0, 0, 0, 0, 0, 0, 0, 0], 'half_gain_pi_sigma': [927, 0, 0, 0, 0, 1315, 0, 0, 0, 0, 7212, 0, 0, 0, 0, 460], 'type': 'gauss'}, 'pi_ef': {'sigma': [0.02, 0.02, 0.02, 0.02, 0.025, 0.025, 0.025, 0.025, 0.015, 0.015, 0.015, 0.015, 0.03, 0.03, 0.03, 0.03], 'gain': [1280, 0, 0, 0, 0, 1912, 0, 0, 10000, 10079, 10015, 0, 300, 300, 0, 300], 'half_gain': [1261, 0, 0, 0, 0, 1941, 0, 0, 0, 10147, 9845, 9979, 340, 340, 0, 320], 'half_gain_pi_sigma': [673, 0, 0, 0, 0, 975, 0, 0, 0, 0, 5049, 0, 340, 0, 0, 337], 'type': 'gauss'}, 'pi_EgGf': {'gain': [32000, 0, 30000, 16000], 'sigma': [0.586, 0, 0.8, 0.44643], 'type': 'flat_top'}, 'pi_EgGf_Q': {'gain': [0, 0, 12147, 13617], 'sigma': [0, 0, 0.44193131519875684, 0.25335798809866994], 'phase': [0, 0, 18.0, 24.0], 'half_sigma': [0, 0, 0.212, 0.172], 'half_phase': [0, 0, 18.0, 21.0], 'type': 'flat_top'}, 'pi_f0g1': {'gain': [32000, 32000, 32000, 32000], 'sigma': [0.536, 0.585, 1.54, 1.04], 'idle': [3, 6, 12, 8], 'type': 'flat_top'}, 'pulse_pp': {'gain': [1750, 3550, 0, 0], 'filename': '240920_3_qram_4q_2qubit_++gg'}, 'pulse_1p': {'gain': [3500, 4375, 0, 0], 'filename': '240920_qram_4q_2qubit_e+gg'}, 'pulse_p1': {'gain': [3000, 5530, 0, 0], 'filename': '240920_qram_4q_2qubit_+egg'}, 'pihalf_ge_robust': {'gain': [7559, 7660, 7559, 7559, 4843, 4462, 4462, 4144, 20111, 20111, 20111, 20111, 2375, 2375, 2375, 2375], 'filename': ['X_2_Q0', 'X_2_Q1', 'X_2_Q2', 'X_2_Q3']}, 'pi_ge_slow': {'gain': [-1, 100, -1, -1], 'sigma': [-1, 0.25, -1, -1], 'type': 'gauss'}, 'pi_Q1_ZZ_slow': {'gain': [100, 0, -1, -1], 'sigma': [0.25, 0, -1, -1], 'type': 'gauss'}}}}, 'hw': {'soc': {'dacs': {'qubit': {'ch': [0, 1, 2, 3], 'type': 'full', 'nyquist': [2, 1, 2, 2], 'mixer_freq': [0, 0, 0, 0]}, 'swap': {'ch': 1, 'type': 'full', 'nyquist': 1, 'mixer_freq': 0}, 'swap_f0g1': {'ch': [1, 1, 5, 5], 'type': ['full', 'full', 'full', 'full'], 'nyquist': 1, 'mixer_freq': 0}, 'swap_Q': {'ch': [0, -1, 2, 3], 'type': ['full', 'None', 'full', 'full'], 'nyquist': [2, 0, 2, 2], 'mixer_freq': 0}, 'readout': {'ch': [6, 4, 6, 6], 'full_mux_chs': [5, 4, 5, 5], 'type': ['mux4', 'full', 'mux4', 'mux4'], 'mixer_freq': [7250, 5795.8115578931565, 7250, 7250], 'nyquist': [2, 2, 2, 2]}, 'res_pump': {'ch': 4, 'type': 'full', 'mixer_freq': 0, 'nyquist': 2}, 'delay_chs': {'ch': [0, 1, 2, 3, 4, 5, 6], 'delay_ns': [4.0, 0.0, 5.0, 3.0, 25, 60, 71]}}, 'adcs': {'readout': {'ch': [0, 1, 2, 3]}}}, 'lo': {'twpa': {'frequency': '8210.0e6', 'power': -1.5}, 'readout': {'frequency': 0, 'power': 0}}}, 'aliases': {'readout_LO': 'SC_20A1', 'twpa_LO': 'SC_26C1', 'soc': 'Qick_QRAM'}, 'expt': {'start_N': 0, 'step_N': 1, 'expts_N': 10, 'start_f': 5144.042983800091, 'step_f': 0.03333333333333333, 'expts_f': 31, 'reps': 1000, 'loops': 1, 'pulse_type': 'flat_top', 'post_process': 'scale', 'singleshot_reps': 15000, 'measure_f': False, 'init_state': '|1>|1>', 'qDrive': 3, 'qubits': [3, 1], 'measure_qubits': [3, 1], 'readout_cool': False, 'n_init_readout': 1, 'n_trig': 1, 'init_read_wait_us': 2, 'full_mux_expt': True, 'resonator_reset': [0, 2, 3]}}\n"
     ]
    },
    {
     "data": {
      "application/vnd.jupyter.widget-view+json": {
       "model_id": "56fd1f6b25274dd7a05b9b90f8bc6b46",
       "version_major": 2,
       "version_minor": 0
      },
      "text/plain": [
       "  0%|          | 0/4 [00:00<?, ?it/s]"
      ]
     },
     "metadata": {},
     "output_type": "display_data"
    },
    {
     "name": "stdout",
     "output_type": "stream",
     "text": [
      "Qubit  (3)\n",
      "ge fidelity (%): 76.79914438740362 \t angle (deg): 0.0 \t threshold ge: 166.21323807135346\n",
      "Qubit  (1)\n",
      "ge fidelity (%): 2.4599999999999844 \t angle (deg): 0.0 \t threshold ge: 96.67507030509297\n"
     ]
    },
    {
     "data": {
      "application/vnd.jupyter.widget-view+json": {
       "model_id": "502cf8e93e61435a93a716dc2c6417cc",
       "version_major": 2,
       "version_minor": 0
      },
      "text/plain": [
       "  0%|          | 0/10 [00:00<?, ?it/s]"
      ]
     },
     "metadata": {},
     "output_type": "display_data"
    },
    {
     "name": "stdout",
     "output_type": "stream",
     "text": [
      "Attempted to init fitparam 3 to 0.0, which is out of bounds 0 to 0.3630348204096054. Instead init to 0.1815174102048027\n",
      "Fit best freq (qA) 5144.340271588578 which is -0.20271221151324426 away from old freq 5144.542983800091\n",
      "Best freq from pi/-pi on Q3 5144.340271588578\n",
      "Attempted to init fitparam 3 to 0.0, which is out of bounds 0 to 0.057584754275325986. Instead init to 0.028792377137662993\n",
      "Fit best freq (qA) 5144.538874621837 which is -0.004109178254111612 away from old freq 5144.542983800091\n",
      "Best freq from pi/-pi on Q1 5144.538874621837\n",
      "best 0 0.06802577702465452\n",
      "Saving S:\\QRAM\\qram_4QR2\\data\\data_241025\\00089_PiMinusPiEgGfExptQ31.h5\n",
      "Saved S:\\QRAM\\qram_4QR2\\data\\data_241025\\00089_PiMinusPiEgGfExptQ31.h5\n",
      "for gain 13617.647058823528 added swap pi freq from pi minus pi 5144.340271588578\n",
      "using opt freq 5144.340271588578\n",
      "-------- swap error amplification --------\n",
      "{'device': {'readout': {'trig_offset': 150, 'lo_sideband': [1, 1, 1, 1], 'frequency': [-439.97500000000036, 0.0, 452.3682333333336, -278.89999999999964], 'gain': [0.17, 0.035, 0.25, 0.17], 'kappa_ext': [0.157, 0.065, 0.182, 0.104], 'kerr': [-0.0045, 0, 0.008, -0.003], 't_rise_reset': [0.5, 1, 0.5, 0.5], 'readout_length': [4, 4, 4, 4], 'frequency_ef': [-440.97500000000036, 0.0, 453.3682333333336, -280.35364238410557], 'readout_length_ef': [10.0, 7.0, 4.0, 8.0], 'relax_delay': [450, 450, 450, 450]}, 'qubit': {'f_ge': [4111.097866562327, 4105.838904759637, 4110.958153299016, 4110.546407850519, 3442.8755721075536, 3448.5530242338505, 3447.060317317807, 3446.4929792801067, 4762.761504132457, 4761.823567235975, 4762.909473544484, 4762.369813422167, 4380.698604555338, 4379.604868123916, 4380.717837106693, 4381.248121020163], 'f_ge_robust': [4114.313815659153, 4108.147701523904, 4114.310372455052, 4114.310372455052, 3443.0032303441935, 3448.345849629168, 0, 0, 4763.941, 4763.941, 4763.941, 4763.941, 4384.25034225973, 4384.25034225973, 4384.25034225973, 4384.25034225973], 'f_ef': [3884.6269161242526, 0.0, 0.0, 0.0, 0.0, 3348.085433174199, 0.0, 0.0, 4571.9056482340775, 4570.996526541673, 4573.280687567687, 0.0, 4211.617732525247, 4205.61697813965, 0.0, 4209.925086260656], 'f_EgGf': [2686.53594683, 0, 2017.3, 2414.92850999], 'f_EgGf_Q': [0, 0, 5885.585546008087, 5144.340271588578], 'f_f0g1': [1184.4, 999.8, 1632.9833333333333, 1620.9166666666665], 'gs': [52.40296404695958, 54.81794456602636, 43.49513117058557, 4.930653352423196, 2.6415018214608046, 6.386231497692186], 'pulses': {'pi_ge': {'sigma': [0.02, 0.02, 0.02, 0.02, 0.025, 0.025, 0.025, 0.025, 0.015, 0.015, 0.015, 0.015, 0.025, 0.025, 0.025, 0.025], 'gain': [1849, 1914, 0, 1855, 2834, 2504, 2648, 2631, 9155, 9155, 9155, 9155, 599, 599, 599, 599], 'half_gain': [1856, 1835, 1873, 1867, 2382, 2186, 2248, 2289, 9253, 9253, 9253, 9253, 524, 524, 524, 524], 'half_correction_phase': [0, 0, 0, 0, 0, 0, 0, 0, 0, 0, 0, 0, 0, 0, 0, 0, 0], 'half_gain_pi_sigma': [927, 0, 0, 0, 0, 1315, 0, 0, 0, 0, 7212, 0, 0, 0, 0, 460], 'type': 'gauss'}, 'pi_ef': {'sigma': [0.02, 0.02, 0.02, 0.02, 0.025, 0.025, 0.025, 0.025, 0.015, 0.015, 0.015, 0.015, 0.03, 0.03, 0.03, 0.03], 'gain': [1280, 0, 0, 0, 0, 1912, 0, 0, 10000, 10079, 10015, 0, 300, 300, 0, 300], 'half_gain': [1261, 0, 0, 0, 0, 1941, 0, 0, 0, 10147, 9845, 9979, 340, 340, 0, 320], 'half_gain_pi_sigma': [673, 0, 0, 0, 0, 975, 0, 0, 0, 0, 5049, 0, 340, 0, 0, 337], 'type': 'gauss'}, 'pi_EgGf': {'gain': [32000, 0, 30000, 16000], 'sigma': [0.586, 0, 0.8, 0.44643], 'type': 'flat_top'}, 'pi_EgGf_Q': {'gain': [0, 0, 12147, 13617], 'sigma': [0, 0, 0.44193131519875684, 0.25335798809866994], 'phase': [0, 0, 18.0, 24.0], 'half_sigma': [0, 0, 0.212, 0.172], 'half_phase': [0, 0, 18.0, 21.0], 'type': 'flat_top'}, 'pi_f0g1': {'gain': [32000, 32000, 32000, 32000], 'sigma': [0.536, 0.585, 1.54, 1.04], 'idle': [3, 6, 12, 8], 'type': 'flat_top'}, 'pulse_pp': {'gain': [1750, 3550, 0, 0], 'filename': '240920_3_qram_4q_2qubit_++gg'}, 'pulse_1p': {'gain': [3500, 4375, 0, 0], 'filename': '240920_qram_4q_2qubit_e+gg'}, 'pulse_p1': {'gain': [3000, 5530, 0, 0], 'filename': '240920_qram_4q_2qubit_+egg'}, 'pihalf_ge_robust': {'gain': [7559, 7660, 7559, 7559, 4843, 4462, 4462, 4144, 20111, 20111, 20111, 20111, 2375, 2375, 2375, 2375], 'filename': ['X_2_Q0', 'X_2_Q1', 'X_2_Q2', 'X_2_Q3']}, 'pi_ge_slow': {'gain': [-1, 100, -1, -1], 'sigma': [-1, 0.25, -1, -1], 'type': 'gauss'}, 'pi_Q1_ZZ_slow': {'gain': [100, 0, -1, -1], 'sigma': [0.25, 0, -1, -1], 'type': 'gauss'}}}}, 'hw': {'soc': {'dacs': {'qubit': {'ch': [0, 1, 2, 3], 'type': 'full', 'nyquist': [2, 1, 2, 2], 'mixer_freq': [0, 0, 0, 0]}, 'swap': {'ch': 1, 'type': 'full', 'nyquist': 1, 'mixer_freq': 0}, 'swap_f0g1': {'ch': [1, 1, 5, 5], 'type': ['full', 'full', 'full', 'full'], 'nyquist': 1, 'mixer_freq': 0}, 'swap_Q': {'ch': [0, -1, 2, 3], 'type': ['full', 'None', 'full', 'full'], 'nyquist': [2, 0, 2, 2], 'mixer_freq': 0}, 'readout': {'ch': [6, 4, 6, 6], 'full_mux_chs': [5, 4, 5, 5], 'type': ['mux4', 'full', 'mux4', 'mux4'], 'mixer_freq': [7250, 5795.8115578931565, 7250, 7250], 'nyquist': [2, 2, 2, 2]}, 'res_pump': {'ch': 4, 'type': 'full', 'mixer_freq': 0, 'nyquist': 2}, 'delay_chs': {'ch': [0, 1, 2, 3, 4, 5, 6], 'delay_ns': [4.0, 0.0, 5.0, 3.0, 25, 60, 71]}}, 'adcs': {'readout': {'ch': [0, 1, 2, 3]}}}, 'lo': {'twpa': {'frequency': '8210.0e6', 'power': -1.5}, 'readout': {'frequency': 0, 'power': 0}}}, 'aliases': {'readout_LO': 'SC_20A1', 'twpa_LO': 'SC_26C1', 'soc': 'Qick_QRAM'}, 'expt': {'start': 0, 'step': 1, 'expts': 10, 'reps': 2000, 'loops': 10, 'pulse_type': 'flat_top', 'post_process': 'scale', 'singleshot_reps': 15000, 'measure_f': False, 'init_state': '|1>|1>', 'qDrive': 3, 'qubits': [3, 1], 'measure_qubits': [3, 1], 'full_mux_expt': True, 'resonator_reset': [0, 2, 3]}}\n"
     ]
    },
    {
     "data": {
      "application/vnd.jupyter.widget-view+json": {
       "model_id": "62c0c58dec4840ba8294e0fc612af457",
       "version_major": 2,
       "version_minor": 0
      },
      "text/plain": [
       "  0%|          | 0/4 [00:00<?, ?it/s]"
      ]
     },
     "metadata": {},
     "output_type": "display_data"
    },
    {
     "name": "stdout",
     "output_type": "stream",
     "text": [
      "Qubit  (3)\n",
      "ge fidelity (%): 81.3666666666667 \t angle (deg): 0.0 \t threshold ge: 166.45086799639253\n",
      "Qubit  (1)\n",
      "ge fidelity (%): 56.29333333333334 \t angle (deg): 0.0 \t threshold ge: 307.1367696757441\n"
     ]
    },
    {
     "data": {
      "application/vnd.jupyter.widget-view+json": {
       "model_id": "ed2e7e506ea94a09bd69650983648e64",
       "version_major": 2,
       "version_minor": 0
      },
      "text/plain": [
       "  0%|          | 0/10 [00:00<?, ?it/s]"
      ]
     },
     "metadata": {},
     "output_type": "display_data"
    },
    {
     "name": "stdout",
     "output_type": "stream",
     "text": [
      "Saving S:\\QRAM\\qram_4QR2\\data\\data_241025\\00083_NPulseExptEgGfQ31.h5\n",
      "Saved S:\\QRAM\\qram_4QR2\\data\\data_241025\\00083_NPulseExptEgGfQ31.h5\n",
      "[0.48615996 1.81978827 4.24748946]\n",
      "Attempted to init fitparam 0 to 0.0, which is out of bounds 0.0 to 0.0. Instead init to 0.0\n",
      "Warning: fit failed with error: Each lower bound must be strictly less than each upper bound.\n",
      "[0.0, 0.0, 10]\n",
      "Warning: fit failed with error: Optimal parameters not found: The maximum number of function evaluations is exceeded.\n",
      "[176.2686547979222, 0.0, 10]\n",
      "[ 0.68804835 -0.77868891  7.05185517]\n",
      "Attempted to init fitparam 0 to 0.0, which is out of bounds 0.0 to 0.0. Instead init to 0.0\n",
      "Warning: fit failed with error: Each lower bound must be strictly less than each upper bound.\n",
      "[0.0, 0.0, 10]\n",
      "Warning: fit failed with error: Optimal parameters not found: The maximum number of function evaluations is exceeded.\n",
      "[326.93028953310636, 0.0, 10]\n",
      "From QA: adjust length to 0.2559455812392132\n",
      "\tadjust ratio 0.9898900651927067\n",
      "\n",
      "From QB: adjust length to 0.2544587894126831\n",
      "\tadjust ratio 0.9956739505184558\n",
      "best 0 inf\n",
      "pi len precise 0.25335798809866994 adjustment ratio 1.0 from Q1\n",
      "for gain 13617.647058823528 added swap pi len from error amplification 0.25335798809866994\n",
      "----------- STARTING GAIN 14352.941176470587 -----------\n",
      "-------- swap length rabi --------\n",
      "gain 14352 freq 5144.020963493916\n"
     ]
    },
    {
     "data": {
      "application/vnd.jupyter.widget-view+json": {
       "model_id": "818b53fbf71d46f0803f7790ad53d11c",
       "version_major": 2,
       "version_minor": 0
      },
      "text/plain": [
       "  0%|          | 0/101 [00:00<?, ?it/s]"
      ]
     },
     "metadata": {},
     "output_type": "display_data"
    },
    {
     "name": "stdout",
     "output_type": "stream",
     "text": [
      "Saving S:\\QRAM\\qram_4QR2\\data\\data_241025\\00085_length_rabi_EgGf_qubit31.h5\n",
      "Saved S:\\QRAM\\qram_4QR2\\data\\data_241025\\00085_length_rabi_EgGf_qubit31.h5\n",
      "Attempted to init fitparam 0 to 0.0, which is out of bounds 0.0 to 0.0. Instead init to 0.0\n",
      "Attempted to init fitparam 4 to 0.0, which is out of bounds 0.0 to 0.0. Instead init to 0.0\n",
      "Warning: fit failed with error: Each lower bound must be strictly less than each upper bound.\n",
      "Attempted to init fitparam 0 to 0.0, which is out of bounds 0.0 to 0.0. Instead init to 0.0\n",
      "Attempted to init fitparam 4 to 0.0, which is out of bounds 0.0 to 0.0. Instead init to 0.0\n",
      "Warning: fit failed with error: Each lower bound must be strictly less than each upper bound.\n",
      "best 0 0.053673942333759585\n",
      "Pi length from amps data (qubit A) [us]: 0.237356076571024\n",
      "\tPi/2 length from avgq data (qubit A) [us]: 0.118678038285512\n",
      "\tDecay time [us]: 7.351119623824522\n",
      "Pi length from avgq data (qubit A) [us]: 0.4630168899242866\n",
      "\tPi/2 length from avgq data (qubit A) [us]: 0.2315084449621433\n",
      "\tDecay time [us]: 1.2347117064647641\n",
      "Pi length from amps data (qubit B) [us]: 3.5142924877834743\n",
      "\tPi/2 length from avgq data (qubit B) [us]: 1.7571462438917371\n",
      "\tDecay time [us]: 950221.4393032467\n",
      "Pi length from avgq data (qubit B) [us]: 0.4630168899242866\n",
      "\tPi/2 length from avgq data (qubit B) [us]: 0.2315084449621433\n",
      "\tDecay time [us]: 1.2347117064647641\n",
      "max QA amp: 254.84863762912596\n",
      "min QA amp: 92.17930455340755\n",
      "max QB amp: 359.73695836664575\n",
      "min QB amp: 295.7959829628508\n",
      "for gain 14352.941176470587 added swap pi len from length rabi 0.237356076571024\n",
      "-------- swap pi minus pi --------\n",
      "{'device': {'readout': {'trig_offset': 150, 'lo_sideband': [1, 1, 1, 1], 'frequency': [-439.97500000000036, 0.0, 452.3682333333336, -278.89999999999964], 'gain': [0.17, 0.0001, 0.25, 0.17], 'kappa_ext': [0.157, 0.065, 0.182, 0.104], 'kerr': [-0.0045, 0, 0.008, -0.003], 't_rise_reset': [0.5, 1, 0.5, 0.5], 'readout_length': [4, 4, 4, 4], 'frequency_ef': [-440.97500000000036, 0.0, 453.3682333333336, -280.35364238410557], 'readout_length_ef': [10.0, 7.0, 4.0, 8.0], 'relax_delay': [450, 450, 450, 450]}, 'qubit': {'f_ge': [4111.097866562327, 4105.838904759637, 4110.958153299016, 4110.546407850519, 3442.8755721075536, 3448.5530242338505, 3447.060317317807, 3446.4929792801067, 4762.761504132457, 4761.823567235975, 4762.909473544484, 4762.369813422167, 4380.698604555338, 4379.604868123916, 4380.717837106693, 4381.248121020163], 'f_ge_robust': [4114.313815659153, 4108.147701523904, 4114.310372455052, 4114.310372455052, 3443.0032303441935, 3448.345849629168, 0, 0, 4763.941, 4763.941, 4763.941, 4763.941, 4384.25034225973, 4384.25034225973, 4384.25034225973, 4384.25034225973], 'f_ef': [3884.6269161242526, 0.0, 0.0, 0.0, 0.0, 3348.085433174199, 0.0, 0.0, 4571.9056482340775, 4570.996526541673, 4573.280687567687, 0.0, 4211.617732525247, 4205.61697813965, 0.0, 4209.925086260656], 'f_EgGf': [2686.53594683, 0, 2017.3, 2414.92850999], 'f_EgGf_Q': [0, 0, 5885.585546008087, 5144.020963493916], 'f_f0g1': [1184.4, 999.8, 1632.9833333333333, 1620.9166666666665], 'gs': [52.40296404695958, 54.81794456602636, 43.49513117058557, 4.930653352423196, 2.6415018214608046, 6.386231497692186], 'pulses': {'pi_ge': {'sigma': [0.02, 0.02, 0.02, 0.02, 0.025, 0.025, 0.025, 0.025, 0.015, 0.015, 0.015, 0.015, 0.025, 0.025, 0.025, 0.025], 'gain': [1849, 1914, 0, 1855, 2834, 2504, 2648, 2631, 9155, 9155, 9155, 9155, 599, 599, 599, 599], 'half_gain': [1856, 1835, 1873, 1867, 2382, 2186, 2248, 2289, 9253, 9253, 9253, 9253, 524, 524, 524, 524], 'half_correction_phase': [0, 0, 0, 0, 0, 0, 0, 0, 0, 0, 0, 0, 0, 0, 0, 0, 0], 'half_gain_pi_sigma': [927, 0, 0, 0, 0, 1315, 0, 0, 0, 0, 7212, 0, 0, 0, 0, 460], 'type': 'gauss'}, 'pi_ef': {'sigma': [0.02, 0.02, 0.02, 0.02, 0.025, 0.025, 0.025, 0.025, 0.015, 0.015, 0.015, 0.015, 0.03, 0.03, 0.03, 0.03], 'gain': [1280, 0, 0, 0, 0, 1912, 0, 0, 10000, 10079, 10015, 0, 300, 300, 0, 300], 'half_gain': [1261, 0, 0, 0, 0, 1941, 0, 0, 0, 10147, 9845, 9979, 340, 340, 0, 320], 'half_gain_pi_sigma': [673, 0, 0, 0, 0, 975, 0, 0, 0, 0, 5049, 0, 340, 0, 0, 337], 'type': 'gauss'}, 'pi_EgGf': {'gain': [32000, 0, 30000, 16000], 'sigma': [0.586, 0, 0.8, 0.44643], 'type': 'flat_top'}, 'pi_EgGf_Q': {'gain': [0, 0, 12147, 14352], 'sigma': [0, 0, 0.44193131519875684, 0.237356076571024], 'phase': [0, 0, 18.0, 24.0], 'half_sigma': [0, 0, 0.212, 0.172], 'half_phase': [0, 0, 18.0, 21.0], 'type': 'flat_top'}, 'pi_f0g1': {'gain': [32000, 32000, 32000, 32000], 'sigma': [0.536, 0.585, 1.54, 1.04], 'idle': [3, 6, 12, 8], 'type': 'flat_top'}, 'pulse_pp': {'gain': [1750, 3550, 0, 0], 'filename': '240920_3_qram_4q_2qubit_++gg'}, 'pulse_1p': {'gain': [3500, 4375, 0, 0], 'filename': '240920_qram_4q_2qubit_e+gg'}, 'pulse_p1': {'gain': [3000, 5530, 0, 0], 'filename': '240920_qram_4q_2qubit_+egg'}, 'pihalf_ge_robust': {'gain': [7559, 7660, 7559, 7559, 4843, 4462, 4462, 4144, 20111, 20111, 20111, 20111, 2375, 2375, 2375, 2375], 'filename': ['X_2_Q0', 'X_2_Q1', 'X_2_Q2', 'X_2_Q3']}, 'pi_ge_slow': {'gain': [-1, 100, -1, -1], 'sigma': [-1, 0.25, -1, -1], 'type': 'gauss'}, 'pi_Q1_ZZ_slow': {'gain': [100, 0, -1, -1], 'sigma': [0.25, 0, -1, -1], 'type': 'gauss'}}}}, 'hw': {'soc': {'dacs': {'qubit': {'ch': [0, 1, 2, 3], 'type': 'full', 'nyquist': [2, 1, 2, 2], 'mixer_freq': [0, 0, 0, 0]}, 'swap': {'ch': 1, 'type': 'full', 'nyquist': 1, 'mixer_freq': 0}, 'swap_f0g1': {'ch': [1, 1, 5, 5], 'type': ['full', 'full', 'full', 'full'], 'nyquist': 1, 'mixer_freq': 0}, 'swap_Q': {'ch': [0, -1, 2, 3], 'type': ['full', 'None', 'full', 'full'], 'nyquist': [2, 0, 2, 2], 'mixer_freq': 0}, 'readout': {'ch': [6, 4, 6, 6], 'full_mux_chs': [5, 4, 5, 5], 'type': ['mux4', 'full', 'mux4', 'mux4'], 'mixer_freq': [7250, 5795.8115578931565, 7250, 7250], 'nyquist': [2, 2, 2, 2]}, 'res_pump': {'ch': 4, 'type': 'full', 'mixer_freq': 0, 'nyquist': 2}, 'delay_chs': {'ch': [0, 1, 2, 3, 4, 5, 6], 'delay_ns': [4.0, 0.0, 5.0, 3.0, 25, 60, 71]}}, 'adcs': {'readout': {'ch': [0, 1, 2, 3]}}}, 'lo': {'twpa': {'frequency': '8210.0e6', 'power': -1.5}, 'readout': {'frequency': 0, 'power': 0}}}, 'aliases': {'readout_LO': 'SC_20A1', 'twpa_LO': 'SC_26C1', 'soc': 'Qick_QRAM'}, 'expt': {'start_N': 0, 'step_N': 1, 'expts_N': 10, 'start_f': 5143.520963493916, 'step_f': 0.03333333333333333, 'expts_f': 31, 'reps': 1000, 'loops': 1, 'pulse_type': 'flat_top', 'post_process': 'scale', 'singleshot_reps': 15000, 'measure_f': False, 'init_state': '|1>|1>', 'qDrive': 3, 'qubits': [3, 1], 'measure_qubits': [3, 1], 'readout_cool': False, 'n_init_readout': 1, 'n_trig': 1, 'init_read_wait_us': 2, 'full_mux_expt': True, 'resonator_reset': [0, 2, 3]}}\n"
     ]
    },
    {
     "data": {
      "application/vnd.jupyter.widget-view+json": {
       "model_id": "5f55ef5379914cc4a2ba6cdb3d4f8a4e",
       "version_major": 2,
       "version_minor": 0
      },
      "text/plain": [
       "  0%|          | 0/4 [00:00<?, ?it/s]"
      ]
     },
     "metadata": {},
     "output_type": "display_data"
    },
    {
     "name": "stdout",
     "output_type": "stream",
     "text": [
      "Qubit  (3)\n",
      "ge fidelity (%): 80.87333333333333 \t angle (deg): 0.0 \t threshold ge: 159.6301923032287\n",
      "Qubit  (1)\n",
      "ge fidelity (%): 1.8233646687556948 \t angle (deg): 0.0 \t threshold ge: 67.16974552498131\n"
     ]
    },
    {
     "data": {
      "application/vnd.jupyter.widget-view+json": {
       "model_id": "9dfcf092acf540848b1c4f7a182e9635",
       "version_major": 2,
       "version_minor": 0
      },
      "text/plain": [
       "  0%|          | 0/10 [00:00<?, ?it/s]"
      ]
     },
     "metadata": {},
     "output_type": "display_data"
    },
    {
     "name": "stdout",
     "output_type": "stream",
     "text": [
      "Attempted to init fitparam 3 to 0.0, which is out of bounds 0 to 0.2793380938094408. Instead init to 0.1396690469047204\n",
      "Fit best freq (qA) 5143.808568684189 which is -0.21239480972690217 away from old freq 5144.020963493916\n",
      "Best freq from pi/-pi on Q3 5143.808568684189\n",
      "Attempted to init fitparam 3 to 0.0, which is out of bounds 0 to 0.03913169365315116. Instead init to 0.01956584682657558\n",
      "Fit best freq (qA) 5143.829123776181 which is -0.19183971773418307 away from old freq 5144.020963493916\n",
      "Best freq from pi/-pi on Q1 5143.829123776181\n",
      "best 1 0.19304869410956388\n",
      "Saving S:\\QRAM\\qram_4QR2\\data\\data_241025\\00090_PiMinusPiEgGfExptQ31.h5\n",
      "Saved S:\\QRAM\\qram_4QR2\\data\\data_241025\\00090_PiMinusPiEgGfExptQ31.h5\n",
      "for gain 14352.941176470587 added swap pi freq from pi minus pi 5143.829123776181\n",
      "using opt freq 5143.829123776181\n",
      "-------- swap error amplification --------\n",
      "{'device': {'readout': {'trig_offset': 150, 'lo_sideband': [1, 1, 1, 1], 'frequency': [-439.97500000000036, 0.0, 452.3682333333336, -278.89999999999964], 'gain': [0.17, 0.035, 0.25, 0.17], 'kappa_ext': [0.157, 0.065, 0.182, 0.104], 'kerr': [-0.0045, 0, 0.008, -0.003], 't_rise_reset': [0.5, 1, 0.5, 0.5], 'readout_length': [4, 4, 4, 4], 'frequency_ef': [-440.97500000000036, 0.0, 453.3682333333336, -280.35364238410557], 'readout_length_ef': [10.0, 7.0, 4.0, 8.0], 'relax_delay': [450, 450, 450, 450]}, 'qubit': {'f_ge': [4111.097866562327, 4105.838904759637, 4110.958153299016, 4110.546407850519, 3442.8755721075536, 3448.5530242338505, 3447.060317317807, 3446.4929792801067, 4762.761504132457, 4761.823567235975, 4762.909473544484, 4762.369813422167, 4380.698604555338, 4379.604868123916, 4380.717837106693, 4381.248121020163], 'f_ge_robust': [4114.313815659153, 4108.147701523904, 4114.310372455052, 4114.310372455052, 3443.0032303441935, 3448.345849629168, 0, 0, 4763.941, 4763.941, 4763.941, 4763.941, 4384.25034225973, 4384.25034225973, 4384.25034225973, 4384.25034225973], 'f_ef': [3884.6269161242526, 0.0, 0.0, 0.0, 0.0, 3348.085433174199, 0.0, 0.0, 4571.9056482340775, 4570.996526541673, 4573.280687567687, 0.0, 4211.617732525247, 4205.61697813965, 0.0, 4209.925086260656], 'f_EgGf': [2686.53594683, 0, 2017.3, 2414.92850999], 'f_EgGf_Q': [0, 0, 5885.585546008087, 5143.829123776181], 'f_f0g1': [1184.4, 999.8, 1632.9833333333333, 1620.9166666666665], 'gs': [52.40296404695958, 54.81794456602636, 43.49513117058557, 4.930653352423196, 2.6415018214608046, 6.386231497692186], 'pulses': {'pi_ge': {'sigma': [0.02, 0.02, 0.02, 0.02, 0.025, 0.025, 0.025, 0.025, 0.015, 0.015, 0.015, 0.015, 0.025, 0.025, 0.025, 0.025], 'gain': [1849, 1914, 0, 1855, 2834, 2504, 2648, 2631, 9155, 9155, 9155, 9155, 599, 599, 599, 599], 'half_gain': [1856, 1835, 1873, 1867, 2382, 2186, 2248, 2289, 9253, 9253, 9253, 9253, 524, 524, 524, 524], 'half_correction_phase': [0, 0, 0, 0, 0, 0, 0, 0, 0, 0, 0, 0, 0, 0, 0, 0, 0], 'half_gain_pi_sigma': [927, 0, 0, 0, 0, 1315, 0, 0, 0, 0, 7212, 0, 0, 0, 0, 460], 'type': 'gauss'}, 'pi_ef': {'sigma': [0.02, 0.02, 0.02, 0.02, 0.025, 0.025, 0.025, 0.025, 0.015, 0.015, 0.015, 0.015, 0.03, 0.03, 0.03, 0.03], 'gain': [1280, 0, 0, 0, 0, 1912, 0, 0, 10000, 10079, 10015, 0, 300, 300, 0, 300], 'half_gain': [1261, 0, 0, 0, 0, 1941, 0, 0, 0, 10147, 9845, 9979, 340, 340, 0, 320], 'half_gain_pi_sigma': [673, 0, 0, 0, 0, 975, 0, 0, 0, 0, 5049, 0, 340, 0, 0, 337], 'type': 'gauss'}, 'pi_EgGf': {'gain': [32000, 0, 30000, 16000], 'sigma': [0.586, 0, 0.8, 0.44643], 'type': 'flat_top'}, 'pi_EgGf_Q': {'gain': [0, 0, 12147, 14352], 'sigma': [0, 0, 0.44193131519875684, 0.237356076571024], 'phase': [0, 0, 18.0, 24.0], 'half_sigma': [0, 0, 0.212, 0.172], 'half_phase': [0, 0, 18.0, 21.0], 'type': 'flat_top'}, 'pi_f0g1': {'gain': [32000, 32000, 32000, 32000], 'sigma': [0.536, 0.585, 1.54, 1.04], 'idle': [3, 6, 12, 8], 'type': 'flat_top'}, 'pulse_pp': {'gain': [1750, 3550, 0, 0], 'filename': '240920_3_qram_4q_2qubit_++gg'}, 'pulse_1p': {'gain': [3500, 4375, 0, 0], 'filename': '240920_qram_4q_2qubit_e+gg'}, 'pulse_p1': {'gain': [3000, 5530, 0, 0], 'filename': '240920_qram_4q_2qubit_+egg'}, 'pihalf_ge_robust': {'gain': [7559, 7660, 7559, 7559, 4843, 4462, 4462, 4144, 20111, 20111, 20111, 20111, 2375, 2375, 2375, 2375], 'filename': ['X_2_Q0', 'X_2_Q1', 'X_2_Q2', 'X_2_Q3']}, 'pi_ge_slow': {'gain': [-1, 100, -1, -1], 'sigma': [-1, 0.25, -1, -1], 'type': 'gauss'}, 'pi_Q1_ZZ_slow': {'gain': [100, 0, -1, -1], 'sigma': [0.25, 0, -1, -1], 'type': 'gauss'}}}}, 'hw': {'soc': {'dacs': {'qubit': {'ch': [0, 1, 2, 3], 'type': 'full', 'nyquist': [2, 1, 2, 2], 'mixer_freq': [0, 0, 0, 0]}, 'swap': {'ch': 1, 'type': 'full', 'nyquist': 1, 'mixer_freq': 0}, 'swap_f0g1': {'ch': [1, 1, 5, 5], 'type': ['full', 'full', 'full', 'full'], 'nyquist': 1, 'mixer_freq': 0}, 'swap_Q': {'ch': [0, -1, 2, 3], 'type': ['full', 'None', 'full', 'full'], 'nyquist': [2, 0, 2, 2], 'mixer_freq': 0}, 'readout': {'ch': [6, 4, 6, 6], 'full_mux_chs': [5, 4, 5, 5], 'type': ['mux4', 'full', 'mux4', 'mux4'], 'mixer_freq': [7250, 5795.8115578931565, 7250, 7250], 'nyquist': [2, 2, 2, 2]}, 'res_pump': {'ch': 4, 'type': 'full', 'mixer_freq': 0, 'nyquist': 2}, 'delay_chs': {'ch': [0, 1, 2, 3, 4, 5, 6], 'delay_ns': [4.0, 0.0, 5.0, 3.0, 25, 60, 71]}}, 'adcs': {'readout': {'ch': [0, 1, 2, 3]}}}, 'lo': {'twpa': {'frequency': '8210.0e6', 'power': -1.5}, 'readout': {'frequency': 0, 'power': 0}}}, 'aliases': {'readout_LO': 'SC_20A1', 'twpa_LO': 'SC_26C1', 'soc': 'Qick_QRAM'}, 'expt': {'start': 0, 'step': 1, 'expts': 10, 'reps': 2000, 'loops': 10, 'pulse_type': 'flat_top', 'post_process': 'scale', 'singleshot_reps': 15000, 'measure_f': False, 'init_state': '|1>|1>', 'qDrive': 3, 'qubits': [3, 1], 'measure_qubits': [3, 1], 'full_mux_expt': True, 'resonator_reset': [0, 2, 3]}}\n"
     ]
    },
    {
     "data": {
      "application/vnd.jupyter.widget-view+json": {
       "model_id": "1a96cd6c764040578a5543db16d15f5c",
       "version_major": 2,
       "version_minor": 0
      },
      "text/plain": [
       "  0%|          | 0/4 [00:00<?, ?it/s]"
      ]
     },
     "metadata": {},
     "output_type": "display_data"
    },
    {
     "name": "stdout",
     "output_type": "stream",
     "text": [
      "Qubit  (3)\n",
      "ge fidelity (%): 78.83267106695997 \t angle (deg): 0.0 \t threshold ge: 163.35259202737294\n",
      "Qubit  (1)\n",
      "ge fidelity (%): 55.625397693179536 \t angle (deg): 0.0 \t threshold ge: 312.75125057441187\n"
     ]
    },
    {
     "data": {
      "application/vnd.jupyter.widget-view+json": {
       "model_id": "d10729ab678c409a982d151296d61180",
       "version_major": 2,
       "version_minor": 0
      },
      "text/plain": [
       "  0%|          | 0/10 [00:00<?, ?it/s]"
      ]
     },
     "metadata": {},
     "output_type": "display_data"
    },
    {
     "name": "stdout",
     "output_type": "stream",
     "text": [
      "Saving S:\\QRAM\\qram_4QR2\\data\\data_241025\\00084_NPulseExptEgGfQ31.h5\n",
      "Saved S:\\QRAM\\qram_4QR2\\data\\data_241025\\00084_NPulseExptEgGfQ31.h5\n",
      "[ 0.49440934  3.25281256 10.63263857]\n",
      "Attempted to init fitparam 0 to 0.0, which is out of bounds 0.0 to 0.0. Instead init to 0.0\n",
      "Warning: fit failed with error: Each lower bound must be strictly less than each upper bound.\n",
      "[0.0, 0.0, 10]\n",
      "Warning: fit failed with error: Optimal parameters not found: The maximum number of function evaluations is exceeded.\n",
      "[176.9542914516979, 0.0, 10]\n",
      "[ 0.67362945 -2.4112417   8.95532564]\n",
      "Attempted to init fitparam 0 to 0.0, which is out of bounds 0.0 to 0.0. Instead init to 0.0\n",
      "Warning: fit failed with error: Each lower bound must be strictly less than each upper bound.\n",
      "[0.0, 0.0, 10]\n",
      "Warning: fit failed with error: Optimal parameters not found: The maximum number of function evaluations is exceeded.\n",
      "[324.76439323412455, 0.0, 10]\n",
      "From QA: adjust length to 0.24172432048791337\n",
      "\tadjust ratio 0.9819288191272099\n",
      "\n",
      "From QB: adjust length to 0.24057881924111352\n",
      "\tadjust ratio 0.9866042127887427\n",
      "best 0 inf\n",
      "pi len precise 0.237356076571024 adjustment ratio 1.0 from Q1\n",
      "for gain 14352.941176470587 added swap pi len from error amplification 0.237356076571024\n",
      "----------- STARTING GAIN 15088.235294117647 -----------\n",
      "-------- swap length rabi --------\n",
      "gain 15088 freq 5143.469844393078\n"
     ]
    },
    {
     "data": {
      "application/vnd.jupyter.widget-view+json": {
       "model_id": "e1d298f2dc414d418e03b4b6f6cd3b01",
       "version_major": 2,
       "version_minor": 0
      },
      "text/plain": [
       "  0%|          | 0/101 [00:00<?, ?it/s]"
      ]
     },
     "metadata": {},
     "output_type": "display_data"
    },
    {
     "name": "stdout",
     "output_type": "stream",
     "text": [
      "Saving S:\\QRAM\\qram_4QR2\\data\\data_241025\\00086_length_rabi_EgGf_qubit31.h5\n",
      "Saved S:\\QRAM\\qram_4QR2\\data\\data_241025\\00086_length_rabi_EgGf_qubit31.h5\n",
      "Attempted to init fitparam 0 to 0.0, which is out of bounds 0.0 to 0.0. Instead init to 0.0\n",
      "Attempted to init fitparam 4 to 0.0, which is out of bounds 0.0 to 0.0. Instead init to 0.0\n",
      "Warning: fit failed with error: Each lower bound must be strictly less than each upper bound.\n",
      "Attempted to init fitparam 0 to 0.0, which is out of bounds 0.0 to 0.0. Instead init to 0.0\n",
      "Attempted to init fitparam 4 to 0.0, which is out of bounds 0.0 to 0.0. Instead init to 0.0\n",
      "Warning: fit failed with error: Each lower bound must be strictly less than each upper bound.\n",
      "best 0 0.08670899461309543\n",
      "Pi length from amps data (qubit A) [us]: 0.22966955817886023\n",
      "\tPi/2 length from avgq data (qubit A) [us]: 0.11483477908943011\n",
      "\tDecay time [us]: 13.446293778236885\n",
      "Pi length from avgq data (qubit A) [us]: 0.44991263832265593\n",
      "\tPi/2 length from avgq data (qubit A) [us]: 0.22495631916132797\n",
      "\tDecay time [us]: 1.1997670355270824\n",
      "Pi length from amps data (qubit B) [us]: 0.23293219969582538\n",
      "\tPi/2 length from avgq data (qubit B) [us]: 0.11646609984791269\n",
      "\tDecay time [us]: 11.676126607569469\n",
      "Pi length from avgq data (qubit B) [us]: 0.44991263832265593\n",
      "\tPi/2 length from avgq data (qubit B) [us]: 0.22495631916132797\n",
      "\tDecay time [us]: 1.1997670355270824\n",
      "max QA amp: 250.41755206383664\n",
      "min QA amp: 96.47014983029369\n",
      "max QB amp: 361.17023042563056\n",
      "min QB amp: 301.7239646754181\n",
      "for gain 15088.235294117647 added swap pi len from length rabi 0.22966955817886023\n",
      "-------- swap pi minus pi --------\n",
      "{'device': {'readout': {'trig_offset': 150, 'lo_sideband': [1, 1, 1, 1], 'frequency': [-439.97500000000036, 0.0, 452.3682333333336, -278.89999999999964], 'gain': [0.17, 0.0001, 0.25, 0.17], 'kappa_ext': [0.157, 0.065, 0.182, 0.104], 'kerr': [-0.0045, 0, 0.008, -0.003], 't_rise_reset': [0.5, 1, 0.5, 0.5], 'readout_length': [4, 4, 4, 4], 'frequency_ef': [-440.97500000000036, 0.0, 453.3682333333336, -280.35364238410557], 'readout_length_ef': [10.0, 7.0, 4.0, 8.0], 'relax_delay': [450, 450, 450, 450]}, 'qubit': {'f_ge': [4111.097866562327, 4105.838904759637, 4110.958153299016, 4110.546407850519, 3442.8755721075536, 3448.5530242338505, 3447.060317317807, 3446.4929792801067, 4762.761504132457, 4761.823567235975, 4762.909473544484, 4762.369813422167, 4380.698604555338, 4379.604868123916, 4380.717837106693, 4381.248121020163], 'f_ge_robust': [4114.313815659153, 4108.147701523904, 4114.310372455052, 4114.310372455052, 3443.0032303441935, 3448.345849629168, 0, 0, 4763.941, 4763.941, 4763.941, 4763.941, 4384.25034225973, 4384.25034225973, 4384.25034225973, 4384.25034225973], 'f_ef': [3884.6269161242526, 0.0, 0.0, 0.0, 0.0, 3348.085433174199, 0.0, 0.0, 4571.9056482340775, 4570.996526541673, 4573.280687567687, 0.0, 4211.617732525247, 4205.61697813965, 0.0, 4209.925086260656], 'f_EgGf': [2686.53594683, 0, 2017.3, 2414.92850999], 'f_EgGf_Q': [0, 0, 5885.585546008087, 5143.469844393078], 'f_f0g1': [1184.4, 999.8, 1632.9833333333333, 1620.9166666666665], 'gs': [52.40296404695958, 54.81794456602636, 43.49513117058557, 4.930653352423196, 2.6415018214608046, 6.386231497692186], 'pulses': {'pi_ge': {'sigma': [0.02, 0.02, 0.02, 0.02, 0.025, 0.025, 0.025, 0.025, 0.015, 0.015, 0.015, 0.015, 0.025, 0.025, 0.025, 0.025], 'gain': [1849, 1914, 0, 1855, 2834, 2504, 2648, 2631, 9155, 9155, 9155, 9155, 599, 599, 599, 599], 'half_gain': [1856, 1835, 1873, 1867, 2382, 2186, 2248, 2289, 9253, 9253, 9253, 9253, 524, 524, 524, 524], 'half_correction_phase': [0, 0, 0, 0, 0, 0, 0, 0, 0, 0, 0, 0, 0, 0, 0, 0, 0], 'half_gain_pi_sigma': [927, 0, 0, 0, 0, 1315, 0, 0, 0, 0, 7212, 0, 0, 0, 0, 460], 'type': 'gauss'}, 'pi_ef': {'sigma': [0.02, 0.02, 0.02, 0.02, 0.025, 0.025, 0.025, 0.025, 0.015, 0.015, 0.015, 0.015, 0.03, 0.03, 0.03, 0.03], 'gain': [1280, 0, 0, 0, 0, 1912, 0, 0, 10000, 10079, 10015, 0, 300, 300, 0, 300], 'half_gain': [1261, 0, 0, 0, 0, 1941, 0, 0, 0, 10147, 9845, 9979, 340, 340, 0, 320], 'half_gain_pi_sigma': [673, 0, 0, 0, 0, 975, 0, 0, 0, 0, 5049, 0, 340, 0, 0, 337], 'type': 'gauss'}, 'pi_EgGf': {'gain': [32000, 0, 30000, 16000], 'sigma': [0.586, 0, 0.8, 0.44643], 'type': 'flat_top'}, 'pi_EgGf_Q': {'gain': [0, 0, 12147, 15088], 'sigma': [0, 0, 0.44193131519875684, 0.22966955817886023], 'phase': [0, 0, 18.0, 24.0], 'half_sigma': [0, 0, 0.212, 0.172], 'half_phase': [0, 0, 18.0, 21.0], 'type': 'flat_top'}, 'pi_f0g1': {'gain': [32000, 32000, 32000, 32000], 'sigma': [0.536, 0.585, 1.54, 1.04], 'idle': [3, 6, 12, 8], 'type': 'flat_top'}, 'pulse_pp': {'gain': [1750, 3550, 0, 0], 'filename': '240920_3_qram_4q_2qubit_++gg'}, 'pulse_1p': {'gain': [3500, 4375, 0, 0], 'filename': '240920_qram_4q_2qubit_e+gg'}, 'pulse_p1': {'gain': [3000, 5530, 0, 0], 'filename': '240920_qram_4q_2qubit_+egg'}, 'pihalf_ge_robust': {'gain': [7559, 7660, 7559, 7559, 4843, 4462, 4462, 4144, 20111, 20111, 20111, 20111, 2375, 2375, 2375, 2375], 'filename': ['X_2_Q0', 'X_2_Q1', 'X_2_Q2', 'X_2_Q3']}, 'pi_ge_slow': {'gain': [-1, 100, -1, -1], 'sigma': [-1, 0.25, -1, -1], 'type': 'gauss'}, 'pi_Q1_ZZ_slow': {'gain': [100, 0, -1, -1], 'sigma': [0.25, 0, -1, -1], 'type': 'gauss'}}}}, 'hw': {'soc': {'dacs': {'qubit': {'ch': [0, 1, 2, 3], 'type': 'full', 'nyquist': [2, 1, 2, 2], 'mixer_freq': [0, 0, 0, 0]}, 'swap': {'ch': 1, 'type': 'full', 'nyquist': 1, 'mixer_freq': 0}, 'swap_f0g1': {'ch': [1, 1, 5, 5], 'type': ['full', 'full', 'full', 'full'], 'nyquist': 1, 'mixer_freq': 0}, 'swap_Q': {'ch': [0, -1, 2, 3], 'type': ['full', 'None', 'full', 'full'], 'nyquist': [2, 0, 2, 2], 'mixer_freq': 0}, 'readout': {'ch': [6, 4, 6, 6], 'full_mux_chs': [5, 4, 5, 5], 'type': ['mux4', 'full', 'mux4', 'mux4'], 'mixer_freq': [7250, 5795.8115578931565, 7250, 7250], 'nyquist': [2, 2, 2, 2]}, 'res_pump': {'ch': 4, 'type': 'full', 'mixer_freq': 0, 'nyquist': 2}, 'delay_chs': {'ch': [0, 1, 2, 3, 4, 5, 6], 'delay_ns': [4.0, 0.0, 5.0, 3.0, 25, 60, 71]}}, 'adcs': {'readout': {'ch': [0, 1, 2, 3]}}}, 'lo': {'twpa': {'frequency': '8210.0e6', 'power': -1.5}, 'readout': {'frequency': 0, 'power': 0}}}, 'aliases': {'readout_LO': 'SC_20A1', 'twpa_LO': 'SC_26C1', 'soc': 'Qick_QRAM'}, 'expt': {'start_N': 0, 'step_N': 1, 'expts_N': 10, 'start_f': 5142.969844393078, 'step_f': 0.03333333333333333, 'expts_f': 31, 'reps': 1000, 'loops': 1, 'pulse_type': 'flat_top', 'post_process': 'scale', 'singleshot_reps': 15000, 'measure_f': False, 'init_state': '|1>|1>', 'qDrive': 3, 'qubits': [3, 1], 'measure_qubits': [3, 1], 'readout_cool': False, 'n_init_readout': 1, 'n_trig': 1, 'init_read_wait_us': 2, 'full_mux_expt': True, 'resonator_reset': [0, 2, 3]}}\n"
     ]
    },
    {
     "data": {
      "application/vnd.jupyter.widget-view+json": {
       "model_id": "99369648e327492fac6daffd08fd899a",
       "version_major": 2,
       "version_minor": 0
      },
      "text/plain": [
       "  0%|          | 0/4 [00:00<?, ?it/s]"
      ]
     },
     "metadata": {},
     "output_type": "display_data"
    },
    {
     "name": "stdout",
     "output_type": "stream",
     "text": [
      "Qubit  (3)\n",
      "ge fidelity (%): 80.76000000000003 \t angle (deg): 0.0 \t threshold ge: 161.63140165992513\n",
      "Qubit  (1)\n",
      "ge fidelity (%): 2.4733333333333607 \t angle (deg): 0.0 \t threshold ge: 73.13379599949089\n"
     ]
    },
    {
     "data": {
      "application/vnd.jupyter.widget-view+json": {
       "model_id": "8831543516aa469895f8292b55382b6a",
       "version_major": 2,
       "version_minor": 0
      },
      "text/plain": [
       "  0%|          | 0/10 [00:00<?, ?it/s]"
      ]
     },
     "metadata": {},
     "output_type": "display_data"
    },
    {
     "name": "stdout",
     "output_type": "stream",
     "text": [
      "Attempted to init fitparam 3 to 0.0, which is out of bounds 0 to 0.2347107961824329. Instead init to 0.11735539809121645\n",
      "Fit best freq (qA) 5143.212857950753 which is -0.2569864423257968 away from old freq 5143.469844393078\n",
      "Best freq from pi/-pi on Q3 5143.212857950753\n",
      "Attempted to init fitparam 3 to 0.0, which is out of bounds 0 to 0.0761975218559288. Instead init to 0.0380987609279644\n",
      "Fit best freq (qA) 5143.1227174717715 which is -0.34712692130688083 away from old freq 5143.469844393078\n",
      "Best freq from pi/-pi on Q1 5143.1227174717715\n",
      "best 0 0.11561639194161248\n",
      "Saving S:\\QRAM\\qram_4QR2\\data\\data_241025\\00091_PiMinusPiEgGfExptQ31.h5\n",
      "Saved S:\\QRAM\\qram_4QR2\\data\\data_241025\\00091_PiMinusPiEgGfExptQ31.h5\n",
      "for gain 15088.235294117647 added swap pi freq from pi minus pi 5143.212857950753\n",
      "using opt freq 5143.212857950753\n",
      "-------- swap error amplification --------\n",
      "{'device': {'readout': {'trig_offset': 150, 'lo_sideband': [1, 1, 1, 1], 'frequency': [-439.97500000000036, 0.0, 452.3682333333336, -278.89999999999964], 'gain': [0.17, 0.035, 0.25, 0.17], 'kappa_ext': [0.157, 0.065, 0.182, 0.104], 'kerr': [-0.0045, 0, 0.008, -0.003], 't_rise_reset': [0.5, 1, 0.5, 0.5], 'readout_length': [4, 4, 4, 4], 'frequency_ef': [-440.97500000000036, 0.0, 453.3682333333336, -280.35364238410557], 'readout_length_ef': [10.0, 7.0, 4.0, 8.0], 'relax_delay': [450, 450, 450, 450]}, 'qubit': {'f_ge': [4111.097866562327, 4105.838904759637, 4110.958153299016, 4110.546407850519, 3442.8755721075536, 3448.5530242338505, 3447.060317317807, 3446.4929792801067, 4762.761504132457, 4761.823567235975, 4762.909473544484, 4762.369813422167, 4380.698604555338, 4379.604868123916, 4380.717837106693, 4381.248121020163], 'f_ge_robust': [4114.313815659153, 4108.147701523904, 4114.310372455052, 4114.310372455052, 3443.0032303441935, 3448.345849629168, 0, 0, 4763.941, 4763.941, 4763.941, 4763.941, 4384.25034225973, 4384.25034225973, 4384.25034225973, 4384.25034225973], 'f_ef': [3884.6269161242526, 0.0, 0.0, 0.0, 0.0, 3348.085433174199, 0.0, 0.0, 4571.9056482340775, 4570.996526541673, 4573.280687567687, 0.0, 4211.617732525247, 4205.61697813965, 0.0, 4209.925086260656], 'f_EgGf': [2686.53594683, 0, 2017.3, 2414.92850999], 'f_EgGf_Q': [0, 0, 5885.585546008087, 5143.212857950753], 'f_f0g1': [1184.4, 999.8, 1632.9833333333333, 1620.9166666666665], 'gs': [52.40296404695958, 54.81794456602636, 43.49513117058557, 4.930653352423196, 2.6415018214608046, 6.386231497692186], 'pulses': {'pi_ge': {'sigma': [0.02, 0.02, 0.02, 0.02, 0.025, 0.025, 0.025, 0.025, 0.015, 0.015, 0.015, 0.015, 0.025, 0.025, 0.025, 0.025], 'gain': [1849, 1914, 0, 1855, 2834, 2504, 2648, 2631, 9155, 9155, 9155, 9155, 599, 599, 599, 599], 'half_gain': [1856, 1835, 1873, 1867, 2382, 2186, 2248, 2289, 9253, 9253, 9253, 9253, 524, 524, 524, 524], 'half_correction_phase': [0, 0, 0, 0, 0, 0, 0, 0, 0, 0, 0, 0, 0, 0, 0, 0, 0], 'half_gain_pi_sigma': [927, 0, 0, 0, 0, 1315, 0, 0, 0, 0, 7212, 0, 0, 0, 0, 460], 'type': 'gauss'}, 'pi_ef': {'sigma': [0.02, 0.02, 0.02, 0.02, 0.025, 0.025, 0.025, 0.025, 0.015, 0.015, 0.015, 0.015, 0.03, 0.03, 0.03, 0.03], 'gain': [1280, 0, 0, 0, 0, 1912, 0, 0, 10000, 10079, 10015, 0, 300, 300, 0, 300], 'half_gain': [1261, 0, 0, 0, 0, 1941, 0, 0, 0, 10147, 9845, 9979, 340, 340, 0, 320], 'half_gain_pi_sigma': [673, 0, 0, 0, 0, 975, 0, 0, 0, 0, 5049, 0, 340, 0, 0, 337], 'type': 'gauss'}, 'pi_EgGf': {'gain': [32000, 0, 30000, 16000], 'sigma': [0.586, 0, 0.8, 0.44643], 'type': 'flat_top'}, 'pi_EgGf_Q': {'gain': [0, 0, 12147, 15088], 'sigma': [0, 0, 0.44193131519875684, 0.22966955817886023], 'phase': [0, 0, 18.0, 24.0], 'half_sigma': [0, 0, 0.212, 0.172], 'half_phase': [0, 0, 18.0, 21.0], 'type': 'flat_top'}, 'pi_f0g1': {'gain': [32000, 32000, 32000, 32000], 'sigma': [0.536, 0.585, 1.54, 1.04], 'idle': [3, 6, 12, 8], 'type': 'flat_top'}, 'pulse_pp': {'gain': [1750, 3550, 0, 0], 'filename': '240920_3_qram_4q_2qubit_++gg'}, 'pulse_1p': {'gain': [3500, 4375, 0, 0], 'filename': '240920_qram_4q_2qubit_e+gg'}, 'pulse_p1': {'gain': [3000, 5530, 0, 0], 'filename': '240920_qram_4q_2qubit_+egg'}, 'pihalf_ge_robust': {'gain': [7559, 7660, 7559, 7559, 4843, 4462, 4462, 4144, 20111, 20111, 20111, 20111, 2375, 2375, 2375, 2375], 'filename': ['X_2_Q0', 'X_2_Q1', 'X_2_Q2', 'X_2_Q3']}, 'pi_ge_slow': {'gain': [-1, 100, -1, -1], 'sigma': [-1, 0.25, -1, -1], 'type': 'gauss'}, 'pi_Q1_ZZ_slow': {'gain': [100, 0, -1, -1], 'sigma': [0.25, 0, -1, -1], 'type': 'gauss'}}}}, 'hw': {'soc': {'dacs': {'qubit': {'ch': [0, 1, 2, 3], 'type': 'full', 'nyquist': [2, 1, 2, 2], 'mixer_freq': [0, 0, 0, 0]}, 'swap': {'ch': 1, 'type': 'full', 'nyquist': 1, 'mixer_freq': 0}, 'swap_f0g1': {'ch': [1, 1, 5, 5], 'type': ['full', 'full', 'full', 'full'], 'nyquist': 1, 'mixer_freq': 0}, 'swap_Q': {'ch': [0, -1, 2, 3], 'type': ['full', 'None', 'full', 'full'], 'nyquist': [2, 0, 2, 2], 'mixer_freq': 0}, 'readout': {'ch': [6, 4, 6, 6], 'full_mux_chs': [5, 4, 5, 5], 'type': ['mux4', 'full', 'mux4', 'mux4'], 'mixer_freq': [7250, 5795.8115578931565, 7250, 7250], 'nyquist': [2, 2, 2, 2]}, 'res_pump': {'ch': 4, 'type': 'full', 'mixer_freq': 0, 'nyquist': 2}, 'delay_chs': {'ch': [0, 1, 2, 3, 4, 5, 6], 'delay_ns': [4.0, 0.0, 5.0, 3.0, 25, 60, 71]}}, 'adcs': {'readout': {'ch': [0, 1, 2, 3]}}}, 'lo': {'twpa': {'frequency': '8210.0e6', 'power': -1.5}, 'readout': {'frequency': 0, 'power': 0}}}, 'aliases': {'readout_LO': 'SC_20A1', 'twpa_LO': 'SC_26C1', 'soc': 'Qick_QRAM'}, 'expt': {'start': 0, 'step': 1, 'expts': 10, 'reps': 2000, 'loops': 10, 'pulse_type': 'flat_top', 'post_process': 'scale', 'singleshot_reps': 15000, 'measure_f': False, 'init_state': '|1>|1>', 'qDrive': 3, 'qubits': [3, 1], 'measure_qubits': [3, 1], 'full_mux_expt': True, 'resonator_reset': [0, 2, 3]}}\n"
     ]
    },
    {
     "data": {
      "application/vnd.jupyter.widget-view+json": {
       "model_id": "28c2e15c6ff348baa7ba0064c20e26e1",
       "version_major": 2,
       "version_minor": 0
      },
      "text/plain": [
       "  0%|          | 0/4 [00:00<?, ?it/s]"
      ]
     },
     "metadata": {},
     "output_type": "display_data"
    },
    {
     "name": "stdout",
     "output_type": "stream",
     "text": [
      "Qubit  (3)\n",
      "ge fidelity (%): 81.39943774029383 \t angle (deg): 0.0 \t threshold ge: 164.3788422369787\n",
      "Qubit  (1)\n",
      "ge fidelity (%): 55.013333333333335 \t angle (deg): 0.0 \t threshold ge: 307.5066404799482\n"
     ]
    },
    {
     "data": {
      "application/vnd.jupyter.widget-view+json": {
       "model_id": "50f9fc805ba34253bc7290f5a10d2ee3",
       "version_major": 2,
       "version_minor": 0
      },
      "text/plain": [
       "  0%|          | 0/10 [00:00<?, ?it/s]"
      ]
     },
     "metadata": {},
     "output_type": "display_data"
    },
    {
     "name": "stdout",
     "output_type": "stream",
     "text": [
      "Saving S:\\QRAM\\qram_4QR2\\data\\data_241025\\00085_NPulseExptEgGfQ31.h5\n",
      "Saved S:\\QRAM\\qram_4QR2\\data\\data_241025\\00085_NPulseExptEgGfQ31.h5\n",
      "[0.49011599 2.09584528 3.42666911]\n",
      "Attempted to init fitparam 0 to 0.0, which is out of bounds 0.0 to 0.0. Instead init to 0.0\n",
      "Warning: fit failed with error: Each lower bound must be strictly less than each upper bound.\n",
      "[0.0, 0.0, 10]\n",
      "Warning: fit failed with error: Optimal parameters not found: The maximum number of function evaluations is exceeded.\n",
      "[175.7365685909303, 0.0, 10]\n",
      "[ 0.74541704 -0.74930893  5.28900969]\n",
      "Attempted to init fitparam 0 to 0.0, which is out of bounds 0.0 to 0.0. Instead init to 0.0\n",
      "Warning: fit failed with error: Each lower bound must be strictly less than each upper bound.\n",
      "[0.0, 0.0, 10]\n",
      "Warning: fit failed with error: Optimal parameters not found: The maximum number of function evaluations is exceeded.\n",
      "[332.2508302293186, 0.0, 10]\n",
      "From QA: adjust length to 0.23237523899659207\n",
      "\tadjust ratio 0.9883564151266069\n",
      "\n",
      "From QB: adjust length to 0.23062962952290475\n",
      "\tadjust ratio 0.9958371725869283\n",
      "best 0 inf\n",
      "pi len precise 0.22966955817886023 adjustment ratio 1.0 from Q1\n",
      "for gain 15088.235294117647 added swap pi len from error amplification 0.22966955817886023\n",
      "----------- STARTING GAIN 15823.529411764706 -----------\n",
      "-------- swap length rabi --------\n",
      "gain 15823 freq 5142.88962649758\n"
     ]
    },
    {
     "data": {
      "application/vnd.jupyter.widget-view+json": {
       "model_id": "a1775f4885bc46d680674a65de443653",
       "version_major": 2,
       "version_minor": 0
      },
      "text/plain": [
       "  0%|          | 0/101 [00:00<?, ?it/s]"
      ]
     },
     "metadata": {},
     "output_type": "display_data"
    },
    {
     "name": "stdout",
     "output_type": "stream",
     "text": [
      "Saving S:\\QRAM\\qram_4QR2\\data\\data_241025\\00087_length_rabi_EgGf_qubit31.h5\n",
      "Saved S:\\QRAM\\qram_4QR2\\data\\data_241025\\00087_length_rabi_EgGf_qubit31.h5\n",
      "Attempted to init fitparam 0 to 0.0, which is out of bounds 0.0 to 0.0. Instead init to 0.0\n",
      "Attempted to init fitparam 4 to 0.0, which is out of bounds 0.0 to 0.0. Instead init to 0.0\n",
      "Warning: fit failed with error: Each lower bound must be strictly less than each upper bound.\n",
      "Attempted to init fitparam 0 to 0.0, which is out of bounds 0.0 to 0.0. Instead init to 0.0\n",
      "Attempted to init fitparam 4 to 0.0, which is out of bounds 0.0 to 0.0. Instead init to 0.0\n",
      "Warning: fit failed with error: Each lower bound must be strictly less than each upper bound.\n",
      "best 0 0.05672794164584001\n",
      "Pi length from amps data (qubit A) [us]: 0.21757555901250342\n",
      "\tPi/2 length from avgq data (qubit A) [us]: 0.10878777950625171\n",
      "\tDecay time [us]: 7.723437807550742\n",
      "Pi length from avgq data (qubit A) [us]: 0.436808386721025\n",
      "\tPi/2 length from avgq data (qubit A) [us]: 0.2184041933605125\n",
      "\tDecay time [us]: 1.1648223645894\n",
      "Pi length from amps data (qubit B) [us]: 0.22072969146597532\n",
      "\tPi/2 length from avgq data (qubit B) [us]: 0.11036484573298766\n",
      "\tDecay time [us]: 5.161226671156021\n",
      "Pi length from avgq data (qubit B) [us]: 0.436808386721025\n",
      "\tPi/2 length from avgq data (qubit B) [us]: 0.2184041933605125\n",
      "\tDecay time [us]: 1.1648223645894\n",
      "max QA amp: 249.16066823716642\n",
      "min QA amp: 100.1025776703402\n",
      "max QB amp: 361.0639177304278\n",
      "min QB amp: 306.2859410789447\n",
      "for gain 15823.529411764706 added swap pi len from length rabi 0.21757555901250342\n",
      "-------- swap pi minus pi --------\n",
      "{'device': {'readout': {'trig_offset': 150, 'lo_sideband': [1, 1, 1, 1], 'frequency': [-439.97500000000036, 0.0, 452.3682333333336, -278.89999999999964], 'gain': [0.17, 0.0001, 0.25, 0.17], 'kappa_ext': [0.157, 0.065, 0.182, 0.104], 'kerr': [-0.0045, 0, 0.008, -0.003], 't_rise_reset': [0.5, 1, 0.5, 0.5], 'readout_length': [4, 4, 4, 4], 'frequency_ef': [-440.97500000000036, 0.0, 453.3682333333336, -280.35364238410557], 'readout_length_ef': [10.0, 7.0, 4.0, 8.0], 'relax_delay': [450, 450, 450, 450]}, 'qubit': {'f_ge': [4111.097866562327, 4105.838904759637, 4110.958153299016, 4110.546407850519, 3442.8755721075536, 3448.5530242338505, 3447.060317317807, 3446.4929792801067, 4762.761504132457, 4761.823567235975, 4762.909473544484, 4762.369813422167, 4380.698604555338, 4379.604868123916, 4380.717837106693, 4381.248121020163], 'f_ge_robust': [4114.313815659153, 4108.147701523904, 4114.310372455052, 4114.310372455052, 3443.0032303441935, 3448.345849629168, 0, 0, 4763.941, 4763.941, 4763.941, 4763.941, 4384.25034225973, 4384.25034225973, 4384.25034225973, 4384.25034225973], 'f_ef': [3884.6269161242526, 0.0, 0.0, 0.0, 0.0, 3348.085433174199, 0.0, 0.0, 4571.9056482340775, 4570.996526541673, 4573.280687567687, 0.0, 4211.617732525247, 4205.61697813965, 0.0, 4209.925086260656], 'f_EgGf': [2686.53594683, 0, 2017.3, 2414.92850999], 'f_EgGf_Q': [0, 0, 5885.585546008087, 5142.88962649758], 'f_f0g1': [1184.4, 999.8, 1632.9833333333333, 1620.9166666666665], 'gs': [52.40296404695958, 54.81794456602636, 43.49513117058557, 4.930653352423196, 2.6415018214608046, 6.386231497692186], 'pulses': {'pi_ge': {'sigma': [0.02, 0.02, 0.02, 0.02, 0.025, 0.025, 0.025, 0.025, 0.015, 0.015, 0.015, 0.015, 0.025, 0.025, 0.025, 0.025], 'gain': [1849, 1914, 0, 1855, 2834, 2504, 2648, 2631, 9155, 9155, 9155, 9155, 599, 599, 599, 599], 'half_gain': [1856, 1835, 1873, 1867, 2382, 2186, 2248, 2289, 9253, 9253, 9253, 9253, 524, 524, 524, 524], 'half_correction_phase': [0, 0, 0, 0, 0, 0, 0, 0, 0, 0, 0, 0, 0, 0, 0, 0, 0], 'half_gain_pi_sigma': [927, 0, 0, 0, 0, 1315, 0, 0, 0, 0, 7212, 0, 0, 0, 0, 460], 'type': 'gauss'}, 'pi_ef': {'sigma': [0.02, 0.02, 0.02, 0.02, 0.025, 0.025, 0.025, 0.025, 0.015, 0.015, 0.015, 0.015, 0.03, 0.03, 0.03, 0.03], 'gain': [1280, 0, 0, 0, 0, 1912, 0, 0, 10000, 10079, 10015, 0, 300, 300, 0, 300], 'half_gain': [1261, 0, 0, 0, 0, 1941, 0, 0, 0, 10147, 9845, 9979, 340, 340, 0, 320], 'half_gain_pi_sigma': [673, 0, 0, 0, 0, 975, 0, 0, 0, 0, 5049, 0, 340, 0, 0, 337], 'type': 'gauss'}, 'pi_EgGf': {'gain': [32000, 0, 30000, 16000], 'sigma': [0.586, 0, 0.8, 0.44643], 'type': 'flat_top'}, 'pi_EgGf_Q': {'gain': [0, 0, 12147, 15823], 'sigma': [0, 0, 0.44193131519875684, 0.21757555901250342], 'phase': [0, 0, 18.0, 24.0], 'half_sigma': [0, 0, 0.212, 0.172], 'half_phase': [0, 0, 18.0, 21.0], 'type': 'flat_top'}, 'pi_f0g1': {'gain': [32000, 32000, 32000, 32000], 'sigma': [0.536, 0.585, 1.54, 1.04], 'idle': [3, 6, 12, 8], 'type': 'flat_top'}, 'pulse_pp': {'gain': [1750, 3550, 0, 0], 'filename': '240920_3_qram_4q_2qubit_++gg'}, 'pulse_1p': {'gain': [3500, 4375, 0, 0], 'filename': '240920_qram_4q_2qubit_e+gg'}, 'pulse_p1': {'gain': [3000, 5530, 0, 0], 'filename': '240920_qram_4q_2qubit_+egg'}, 'pihalf_ge_robust': {'gain': [7559, 7660, 7559, 7559, 4843, 4462, 4462, 4144, 20111, 20111, 20111, 20111, 2375, 2375, 2375, 2375], 'filename': ['X_2_Q0', 'X_2_Q1', 'X_2_Q2', 'X_2_Q3']}, 'pi_ge_slow': {'gain': [-1, 100, -1, -1], 'sigma': [-1, 0.25, -1, -1], 'type': 'gauss'}, 'pi_Q1_ZZ_slow': {'gain': [100, 0, -1, -1], 'sigma': [0.25, 0, -1, -1], 'type': 'gauss'}}}}, 'hw': {'soc': {'dacs': {'qubit': {'ch': [0, 1, 2, 3], 'type': 'full', 'nyquist': [2, 1, 2, 2], 'mixer_freq': [0, 0, 0, 0]}, 'swap': {'ch': 1, 'type': 'full', 'nyquist': 1, 'mixer_freq': 0}, 'swap_f0g1': {'ch': [1, 1, 5, 5], 'type': ['full', 'full', 'full', 'full'], 'nyquist': 1, 'mixer_freq': 0}, 'swap_Q': {'ch': [0, -1, 2, 3], 'type': ['full', 'None', 'full', 'full'], 'nyquist': [2, 0, 2, 2], 'mixer_freq': 0}, 'readout': {'ch': [6, 4, 6, 6], 'full_mux_chs': [5, 4, 5, 5], 'type': ['mux4', 'full', 'mux4', 'mux4'], 'mixer_freq': [7250, 5795.8115578931565, 7250, 7250], 'nyquist': [2, 2, 2, 2]}, 'res_pump': {'ch': 4, 'type': 'full', 'mixer_freq': 0, 'nyquist': 2}, 'delay_chs': {'ch': [0, 1, 2, 3, 4, 5, 6], 'delay_ns': [4.0, 0.0, 5.0, 3.0, 25, 60, 71]}}, 'adcs': {'readout': {'ch': [0, 1, 2, 3]}}}, 'lo': {'twpa': {'frequency': '8210.0e6', 'power': -1.5}, 'readout': {'frequency': 0, 'power': 0}}}, 'aliases': {'readout_LO': 'SC_20A1', 'twpa_LO': 'SC_26C1', 'soc': 'Qick_QRAM'}, 'expt': {'start_N': 0, 'step_N': 1, 'expts_N': 10, 'start_f': 5142.38962649758, 'step_f': 0.03333333333333333, 'expts_f': 31, 'reps': 1000, 'loops': 1, 'pulse_type': 'flat_top', 'post_process': 'scale', 'singleshot_reps': 15000, 'measure_f': False, 'init_state': '|1>|1>', 'qDrive': 3, 'qubits': [3, 1], 'measure_qubits': [3, 1], 'readout_cool': False, 'n_init_readout': 1, 'n_trig': 1, 'init_read_wait_us': 2, 'full_mux_expt': True, 'resonator_reset': [0, 2, 3]}}\n"
     ]
    },
    {
     "data": {
      "application/vnd.jupyter.widget-view+json": {
       "model_id": "809f16f0428d428a9cad640dededdd4e",
       "version_major": 2,
       "version_minor": 0
      },
      "text/plain": [
       "  0%|          | 0/4 [00:00<?, ?it/s]"
      ]
     },
     "metadata": {},
     "output_type": "display_data"
    },
    {
     "name": "stdout",
     "output_type": "stream",
     "text": [
      "Qubit  (3)\n",
      "ge fidelity (%): 74.0258141653888 \t angle (deg): 0.0 \t threshold ge: 163.42509738384376\n",
      "Qubit  (1)\n",
      "ge fidelity (%): 2.3066666666666458 \t angle (deg): 0.0 \t threshold ge: 103.19975332858495\n"
     ]
    },
    {
     "data": {
      "application/vnd.jupyter.widget-view+json": {
       "model_id": "8d0052e2a22842ad85a8f1f9770fae19",
       "version_major": 2,
       "version_minor": 0
      },
      "text/plain": [
       "  0%|          | 0/10 [00:00<?, ?it/s]"
      ]
     },
     "metadata": {},
     "output_type": "display_data"
    },
    {
     "name": "stdout",
     "output_type": "stream",
     "text": [
      "Attempted to init fitparam 3 to 0.0, which is out of bounds 0 to 0.29108218826395466. Instead init to 0.14554109413197733\n",
      "Fit best freq (qA) 5142.648323761926 which is -0.24130273565424432 away from old freq 5142.88962649758\n",
      "Best freq from pi/-pi on Q3 5142.648323761926\n",
      "Attempted to init fitparam 3 to 0.0, which is out of bounds 0 to 0.08506888867535792. Instead init to 0.04253444433767896\n",
      "Fit best freq (qA) 5142.564017285258 which is -0.3256092123219787 away from old freq 5142.88962649758\n",
      "Best freq from pi/-pi on Q1 5142.564017285258\n",
      "best 0 0.05281458437539725\n",
      "Saving S:\\QRAM\\qram_4QR2\\data\\data_241025\\00092_PiMinusPiEgGfExptQ31.h5\n",
      "Saved S:\\QRAM\\qram_4QR2\\data\\data_241025\\00092_PiMinusPiEgGfExptQ31.h5\n",
      "for gain 15823.529411764706 added swap pi freq from pi minus pi 5142.648323761926\n",
      "using opt freq 5142.648323761926\n",
      "-------- swap error amplification --------\n",
      "{'device': {'readout': {'trig_offset': 150, 'lo_sideband': [1, 1, 1, 1], 'frequency': [-439.97500000000036, 0.0, 452.3682333333336, -278.89999999999964], 'gain': [0.17, 0.035, 0.25, 0.17], 'kappa_ext': [0.157, 0.065, 0.182, 0.104], 'kerr': [-0.0045, 0, 0.008, -0.003], 't_rise_reset': [0.5, 1, 0.5, 0.5], 'readout_length': [4, 4, 4, 4], 'frequency_ef': [-440.97500000000036, 0.0, 453.3682333333336, -280.35364238410557], 'readout_length_ef': [10.0, 7.0, 4.0, 8.0], 'relax_delay': [450, 450, 450, 450]}, 'qubit': {'f_ge': [4111.097866562327, 4105.838904759637, 4110.958153299016, 4110.546407850519, 3442.8755721075536, 3448.5530242338505, 3447.060317317807, 3446.4929792801067, 4762.761504132457, 4761.823567235975, 4762.909473544484, 4762.369813422167, 4380.698604555338, 4379.604868123916, 4380.717837106693, 4381.248121020163], 'f_ge_robust': [4114.313815659153, 4108.147701523904, 4114.310372455052, 4114.310372455052, 3443.0032303441935, 3448.345849629168, 0, 0, 4763.941, 4763.941, 4763.941, 4763.941, 4384.25034225973, 4384.25034225973, 4384.25034225973, 4384.25034225973], 'f_ef': [3884.6269161242526, 0.0, 0.0, 0.0, 0.0, 3348.085433174199, 0.0, 0.0, 4571.9056482340775, 4570.996526541673, 4573.280687567687, 0.0, 4211.617732525247, 4205.61697813965, 0.0, 4209.925086260656], 'f_EgGf': [2686.53594683, 0, 2017.3, 2414.92850999], 'f_EgGf_Q': [0, 0, 5885.585546008087, 5142.648323761926], 'f_f0g1': [1184.4, 999.8, 1632.9833333333333, 1620.9166666666665], 'gs': [52.40296404695958, 54.81794456602636, 43.49513117058557, 4.930653352423196, 2.6415018214608046, 6.386231497692186], 'pulses': {'pi_ge': {'sigma': [0.02, 0.02, 0.02, 0.02, 0.025, 0.025, 0.025, 0.025, 0.015, 0.015, 0.015, 0.015, 0.025, 0.025, 0.025, 0.025], 'gain': [1849, 1914, 0, 1855, 2834, 2504, 2648, 2631, 9155, 9155, 9155, 9155, 599, 599, 599, 599], 'half_gain': [1856, 1835, 1873, 1867, 2382, 2186, 2248, 2289, 9253, 9253, 9253, 9253, 524, 524, 524, 524], 'half_correction_phase': [0, 0, 0, 0, 0, 0, 0, 0, 0, 0, 0, 0, 0, 0, 0, 0, 0], 'half_gain_pi_sigma': [927, 0, 0, 0, 0, 1315, 0, 0, 0, 0, 7212, 0, 0, 0, 0, 460], 'type': 'gauss'}, 'pi_ef': {'sigma': [0.02, 0.02, 0.02, 0.02, 0.025, 0.025, 0.025, 0.025, 0.015, 0.015, 0.015, 0.015, 0.03, 0.03, 0.03, 0.03], 'gain': [1280, 0, 0, 0, 0, 1912, 0, 0, 10000, 10079, 10015, 0, 300, 300, 0, 300], 'half_gain': [1261, 0, 0, 0, 0, 1941, 0, 0, 0, 10147, 9845, 9979, 340, 340, 0, 320], 'half_gain_pi_sigma': [673, 0, 0, 0, 0, 975, 0, 0, 0, 0, 5049, 0, 340, 0, 0, 337], 'type': 'gauss'}, 'pi_EgGf': {'gain': [32000, 0, 30000, 16000], 'sigma': [0.586, 0, 0.8, 0.44643], 'type': 'flat_top'}, 'pi_EgGf_Q': {'gain': [0, 0, 12147, 15823], 'sigma': [0, 0, 0.44193131519875684, 0.21757555901250342], 'phase': [0, 0, 18.0, 24.0], 'half_sigma': [0, 0, 0.212, 0.172], 'half_phase': [0, 0, 18.0, 21.0], 'type': 'flat_top'}, 'pi_f0g1': {'gain': [32000, 32000, 32000, 32000], 'sigma': [0.536, 0.585, 1.54, 1.04], 'idle': [3, 6, 12, 8], 'type': 'flat_top'}, 'pulse_pp': {'gain': [1750, 3550, 0, 0], 'filename': '240920_3_qram_4q_2qubit_++gg'}, 'pulse_1p': {'gain': [3500, 4375, 0, 0], 'filename': '240920_qram_4q_2qubit_e+gg'}, 'pulse_p1': {'gain': [3000, 5530, 0, 0], 'filename': '240920_qram_4q_2qubit_+egg'}, 'pihalf_ge_robust': {'gain': [7559, 7660, 7559, 7559, 4843, 4462, 4462, 4144, 20111, 20111, 20111, 20111, 2375, 2375, 2375, 2375], 'filename': ['X_2_Q0', 'X_2_Q1', 'X_2_Q2', 'X_2_Q3']}, 'pi_ge_slow': {'gain': [-1, 100, -1, -1], 'sigma': [-1, 0.25, -1, -1], 'type': 'gauss'}, 'pi_Q1_ZZ_slow': {'gain': [100, 0, -1, -1], 'sigma': [0.25, 0, -1, -1], 'type': 'gauss'}}}}, 'hw': {'soc': {'dacs': {'qubit': {'ch': [0, 1, 2, 3], 'type': 'full', 'nyquist': [2, 1, 2, 2], 'mixer_freq': [0, 0, 0, 0]}, 'swap': {'ch': 1, 'type': 'full', 'nyquist': 1, 'mixer_freq': 0}, 'swap_f0g1': {'ch': [1, 1, 5, 5], 'type': ['full', 'full', 'full', 'full'], 'nyquist': 1, 'mixer_freq': 0}, 'swap_Q': {'ch': [0, -1, 2, 3], 'type': ['full', 'None', 'full', 'full'], 'nyquist': [2, 0, 2, 2], 'mixer_freq': 0}, 'readout': {'ch': [6, 4, 6, 6], 'full_mux_chs': [5, 4, 5, 5], 'type': ['mux4', 'full', 'mux4', 'mux4'], 'mixer_freq': [7250, 5795.8115578931565, 7250, 7250], 'nyquist': [2, 2, 2, 2]}, 'res_pump': {'ch': 4, 'type': 'full', 'mixer_freq': 0, 'nyquist': 2}, 'delay_chs': {'ch': [0, 1, 2, 3, 4, 5, 6], 'delay_ns': [4.0, 0.0, 5.0, 3.0, 25, 60, 71]}}, 'adcs': {'readout': {'ch': [0, 1, 2, 3]}}}, 'lo': {'twpa': {'frequency': '8210.0e6', 'power': -1.5}, 'readout': {'frequency': 0, 'power': 0}}}, 'aliases': {'readout_LO': 'SC_20A1', 'twpa_LO': 'SC_26C1', 'soc': 'Qick_QRAM'}, 'expt': {'start': 0, 'step': 1, 'expts': 10, 'reps': 2000, 'loops': 10, 'pulse_type': 'flat_top', 'post_process': 'scale', 'singleshot_reps': 15000, 'measure_f': False, 'init_state': '|1>|1>', 'qDrive': 3, 'qubits': [3, 1], 'measure_qubits': [3, 1], 'full_mux_expt': True, 'resonator_reset': [0, 2, 3]}}\n"
     ]
    },
    {
     "data": {
      "application/vnd.jupyter.widget-view+json": {
       "model_id": "22b724b1a84a40a0a48e406cd2c00637",
       "version_major": 2,
       "version_minor": 0
      },
      "text/plain": [
       "  0%|          | 0/4 [00:00<?, ?it/s]"
      ]
     },
     "metadata": {},
     "output_type": "display_data"
    },
    {
     "name": "stdout",
     "output_type": "stream",
     "text": [
      "Qubit  (3)\n",
      "ge fidelity (%): 78.28000000000003 \t angle (deg): 0.0 \t threshold ge: 164.52474074336516\n",
      "Qubit  (1)\n",
      "ge fidelity (%): 54.63333333333333 \t angle (deg): 0.0 \t threshold ge: 305.61954689062384\n"
     ]
    },
    {
     "data": {
      "application/vnd.jupyter.widget-view+json": {
       "model_id": "3f703116411c4cd48dda530c325b1c01",
       "version_major": 2,
       "version_minor": 0
      },
      "text/plain": [
       "  0%|          | 0/10 [00:00<?, ?it/s]"
      ]
     },
     "metadata": {},
     "output_type": "display_data"
    },
    {
     "name": "stdout",
     "output_type": "stream",
     "text": [
      "Saving S:\\QRAM\\qram_4QR2\\data\\data_241025\\00086_NPulseExptEgGfQ31.h5\n",
      "Saved S:\\QRAM\\qram_4QR2\\data\\data_241025\\00086_NPulseExptEgGfQ31.h5\n",
      "[0.44415761 3.02058171 8.71123379]\n",
      "Attempted to init fitparam 0 to 0.0, which is out of bounds 0.0 to 0.0. Instead init to 0.0\n",
      "Warning: fit failed with error: Each lower bound must be strictly less than each upper bound.\n",
      "[0.0, 0.0, 10]\n",
      "Warning: fit failed with error: Optimal parameters not found: The maximum number of function evaluations is exceeded.\n",
      "[169.86334191434122, 0.0, 10]\n",
      "[ 0.72813386 -1.44040618 12.26037153]\n",
      "Attempted to init fitparam 0 to 0.0, which is out of bounds 0.0 to 0.0. Instead init to 0.0\n",
      "Warning: fit failed with error: Each lower bound must be strictly less than each upper bound.\n",
      "[0.0, 0.0, 10]\n",
      "Warning: fit failed with error: Optimal parameters not found: The maximum number of function evaluations is exceeded.\n",
      "[330.43879578476026, 0.0, 10]\n",
      "From QA: adjust length to 0.2212890120231551\n",
      "\tadjust ratio 0.9832189905106399\n",
      "\n",
      "From QB: adjust length to 0.21933069953824452\n",
      "\tadjust ratio 0.9919977434557214\n",
      "best 0 inf\n",
      "pi len precise 0.21757555901250342 adjustment ratio 1.0 from Q1\n",
      "for gain 15823.529411764706 added swap pi len from error amplification 0.21757555901250342\n",
      "----------- STARTING GAIN 16558.823529411762 -----------\n",
      "-------- swap length rabi --------\n",
      "gain 16558 freq 5142.280309807419\n"
     ]
    },
    {
     "data": {
      "application/vnd.jupyter.widget-view+json": {
       "model_id": "905b2139fd2c4e80863d7a2e9cb13667",
       "version_major": 2,
       "version_minor": 0
      },
      "text/plain": [
       "  0%|          | 0/101 [00:00<?, ?it/s]"
      ]
     },
     "metadata": {},
     "output_type": "display_data"
    },
    {
     "name": "stdout",
     "output_type": "stream",
     "text": [
      "Saving S:\\QRAM\\qram_4QR2\\data\\data_241025\\00088_length_rabi_EgGf_qubit31.h5\n",
      "Saved S:\\QRAM\\qram_4QR2\\data\\data_241025\\00088_length_rabi_EgGf_qubit31.h5\n",
      "Attempted to init fitparam 0 to 0.0, which is out of bounds 0.0 to 0.0. Instead init to 0.0\n",
      "Attempted to init fitparam 4 to 0.0, which is out of bounds 0.0 to 0.0. Instead init to 0.0\n",
      "Warning: fit failed with error: Each lower bound must be strictly less than each upper bound.\n",
      "Attempted to init fitparam 0 to 0.0, which is out of bounds 0.0 to 0.0. Instead init to 0.0\n",
      "Attempted to init fitparam 4 to 0.0, which is out of bounds 0.0 to 0.0. Instead init to 0.0\n",
      "Warning: fit failed with error: Each lower bound must be strictly less than each upper bound.\n",
      "best 0 0.03814727200456602\n",
      "Pi length from amps data (qubit A) [us]: 0.21082829572908218\n",
      "\tPi/2 length from avgq data (qubit A) [us]: 0.10541414786454109\n",
      "\tDecay time [us]: 3.963150978433896\n",
      "Pi length from avgq data (qubit A) [us]: 0.4237041351193942\n",
      "\tPi/2 length from avgq data (qubit A) [us]: 0.2118520675596971\n",
      "\tDecay time [us]: 1.1298776936517179\n",
      "Pi length from amps data (qubit B) [us]: 0.20593518262534952\n",
      "\tPi/2 length from avgq data (qubit B) [us]: 0.10296759131267476\n",
      "\tDecay time [us]: 1.5375228986477574\n",
      "Pi length from avgq data (qubit B) [us]: 0.4237041351193942\n",
      "\tPi/2 length from avgq data (qubit B) [us]: 0.2118520675596971\n",
      "\tDecay time [us]: 1.1298776936517179\n",
      "max QA amp: 252.17261847365177\n",
      "min QA amp: 97.75789386593259\n",
      "max QB amp: 359.20220587348416\n",
      "min QB amp: 308.11935748920916\n",
      "for gain 16558.823529411762 added swap pi len from length rabi 0.21082829572908218\n",
      "-------- swap pi minus pi --------\n",
      "{'device': {'readout': {'trig_offset': 150, 'lo_sideband': [1, 1, 1, 1], 'frequency': [-439.97500000000036, 0.0, 452.3682333333336, -278.89999999999964], 'gain': [0.17, 0.0001, 0.25, 0.17], 'kappa_ext': [0.157, 0.065, 0.182, 0.104], 'kerr': [-0.0045, 0, 0.008, -0.003], 't_rise_reset': [0.5, 1, 0.5, 0.5], 'readout_length': [4, 4, 4, 4], 'frequency_ef': [-440.97500000000036, 0.0, 453.3682333333336, -280.35364238410557], 'readout_length_ef': [10.0, 7.0, 4.0, 8.0], 'relax_delay': [450, 450, 450, 450]}, 'qubit': {'f_ge': [4111.097866562327, 4105.838904759637, 4110.958153299016, 4110.546407850519, 3442.8755721075536, 3448.5530242338505, 3447.060317317807, 3446.4929792801067, 4762.761504132457, 4761.823567235975, 4762.909473544484, 4762.369813422167, 4380.698604555338, 4379.604868123916, 4380.717837106693, 4381.248121020163], 'f_ge_robust': [4114.313815659153, 4108.147701523904, 4114.310372455052, 4114.310372455052, 3443.0032303441935, 3448.345849629168, 0, 0, 4763.941, 4763.941, 4763.941, 4763.941, 4384.25034225973, 4384.25034225973, 4384.25034225973, 4384.25034225973], 'f_ef': [3884.6269161242526, 0.0, 0.0, 0.0, 0.0, 3348.085433174199, 0.0, 0.0, 4571.9056482340775, 4570.996526541673, 4573.280687567687, 0.0, 4211.617732525247, 4205.61697813965, 0.0, 4209.925086260656], 'f_EgGf': [2686.53594683, 0, 2017.3, 2414.92850999], 'f_EgGf_Q': [0, 0, 5885.585546008087, 5142.280309807419], 'f_f0g1': [1184.4, 999.8, 1632.9833333333333, 1620.9166666666665], 'gs': [52.40296404695958, 54.81794456602636, 43.49513117058557, 4.930653352423196, 2.6415018214608046, 6.386231497692186], 'pulses': {'pi_ge': {'sigma': [0.02, 0.02, 0.02, 0.02, 0.025, 0.025, 0.025, 0.025, 0.015, 0.015, 0.015, 0.015, 0.025, 0.025, 0.025, 0.025], 'gain': [1849, 1914, 0, 1855, 2834, 2504, 2648, 2631, 9155, 9155, 9155, 9155, 599, 599, 599, 599], 'half_gain': [1856, 1835, 1873, 1867, 2382, 2186, 2248, 2289, 9253, 9253, 9253, 9253, 524, 524, 524, 524], 'half_correction_phase': [0, 0, 0, 0, 0, 0, 0, 0, 0, 0, 0, 0, 0, 0, 0, 0, 0], 'half_gain_pi_sigma': [927, 0, 0, 0, 0, 1315, 0, 0, 0, 0, 7212, 0, 0, 0, 0, 460], 'type': 'gauss'}, 'pi_ef': {'sigma': [0.02, 0.02, 0.02, 0.02, 0.025, 0.025, 0.025, 0.025, 0.015, 0.015, 0.015, 0.015, 0.03, 0.03, 0.03, 0.03], 'gain': [1280, 0, 0, 0, 0, 1912, 0, 0, 10000, 10079, 10015, 0, 300, 300, 0, 300], 'half_gain': [1261, 0, 0, 0, 0, 1941, 0, 0, 0, 10147, 9845, 9979, 340, 340, 0, 320], 'half_gain_pi_sigma': [673, 0, 0, 0, 0, 975, 0, 0, 0, 0, 5049, 0, 340, 0, 0, 337], 'type': 'gauss'}, 'pi_EgGf': {'gain': [32000, 0, 30000, 16000], 'sigma': [0.586, 0, 0.8, 0.44643], 'type': 'flat_top'}, 'pi_EgGf_Q': {'gain': [0, 0, 12147, 16558], 'sigma': [0, 0, 0.44193131519875684, 0.21082829572908218], 'phase': [0, 0, 18.0, 24.0], 'half_sigma': [0, 0, 0.212, 0.172], 'half_phase': [0, 0, 18.0, 21.0], 'type': 'flat_top'}, 'pi_f0g1': {'gain': [32000, 32000, 32000, 32000], 'sigma': [0.536, 0.585, 1.54, 1.04], 'idle': [3, 6, 12, 8], 'type': 'flat_top'}, 'pulse_pp': {'gain': [1750, 3550, 0, 0], 'filename': '240920_3_qram_4q_2qubit_++gg'}, 'pulse_1p': {'gain': [3500, 4375, 0, 0], 'filename': '240920_qram_4q_2qubit_e+gg'}, 'pulse_p1': {'gain': [3000, 5530, 0, 0], 'filename': '240920_qram_4q_2qubit_+egg'}, 'pihalf_ge_robust': {'gain': [7559, 7660, 7559, 7559, 4843, 4462, 4462, 4144, 20111, 20111, 20111, 20111, 2375, 2375, 2375, 2375], 'filename': ['X_2_Q0', 'X_2_Q1', 'X_2_Q2', 'X_2_Q3']}, 'pi_ge_slow': {'gain': [-1, 100, -1, -1], 'sigma': [-1, 0.25, -1, -1], 'type': 'gauss'}, 'pi_Q1_ZZ_slow': {'gain': [100, 0, -1, -1], 'sigma': [0.25, 0, -1, -1], 'type': 'gauss'}}}}, 'hw': {'soc': {'dacs': {'qubit': {'ch': [0, 1, 2, 3], 'type': 'full', 'nyquist': [2, 1, 2, 2], 'mixer_freq': [0, 0, 0, 0]}, 'swap': {'ch': 1, 'type': 'full', 'nyquist': 1, 'mixer_freq': 0}, 'swap_f0g1': {'ch': [1, 1, 5, 5], 'type': ['full', 'full', 'full', 'full'], 'nyquist': 1, 'mixer_freq': 0}, 'swap_Q': {'ch': [0, -1, 2, 3], 'type': ['full', 'None', 'full', 'full'], 'nyquist': [2, 0, 2, 2], 'mixer_freq': 0}, 'readout': {'ch': [6, 4, 6, 6], 'full_mux_chs': [5, 4, 5, 5], 'type': ['mux4', 'full', 'mux4', 'mux4'], 'mixer_freq': [7250, 5795.8115578931565, 7250, 7250], 'nyquist': [2, 2, 2, 2]}, 'res_pump': {'ch': 4, 'type': 'full', 'mixer_freq': 0, 'nyquist': 2}, 'delay_chs': {'ch': [0, 1, 2, 3, 4, 5, 6], 'delay_ns': [4.0, 0.0, 5.0, 3.0, 25, 60, 71]}}, 'adcs': {'readout': {'ch': [0, 1, 2, 3]}}}, 'lo': {'twpa': {'frequency': '8210.0e6', 'power': -1.5}, 'readout': {'frequency': 0, 'power': 0}}}, 'aliases': {'readout_LO': 'SC_20A1', 'twpa_LO': 'SC_26C1', 'soc': 'Qick_QRAM'}, 'expt': {'start_N': 0, 'step_N': 1, 'expts_N': 10, 'start_f': 5141.780309807419, 'step_f': 0.03333333333333333, 'expts_f': 31, 'reps': 1000, 'loops': 1, 'pulse_type': 'flat_top', 'post_process': 'scale', 'singleshot_reps': 15000, 'measure_f': False, 'init_state': '|1>|1>', 'qDrive': 3, 'qubits': [3, 1], 'measure_qubits': [3, 1], 'readout_cool': False, 'n_init_readout': 1, 'n_trig': 1, 'init_read_wait_us': 2, 'full_mux_expt': True, 'resonator_reset': [0, 2, 3]}}\n"
     ]
    },
    {
     "data": {
      "application/vnd.jupyter.widget-view+json": {
       "model_id": "8cbab01de10c406ba61e41d92a971e4b",
       "version_major": 2,
       "version_minor": 0
      },
      "text/plain": [
       "  0%|          | 0/4 [00:00<?, ?it/s]"
      ]
     },
     "metadata": {},
     "output_type": "display_data"
    },
    {
     "name": "stdout",
     "output_type": "stream",
     "text": [
      "Qubit  (3)\n",
      "ge fidelity (%): 75.54666666666667 \t angle (deg): 0.0 \t threshold ge: 161.0157310922137\n",
      "Qubit  (1)\n",
      "ge fidelity (%): 1.3933333333333353 \t angle (deg): 0.0 \t threshold ge: 60.4124358707753\n"
     ]
    },
    {
     "data": {
      "application/vnd.jupyter.widget-view+json": {
       "model_id": "d055bff5c6ab41e292e3df530298b222",
       "version_major": 2,
       "version_minor": 0
      },
      "text/plain": [
       "  0%|          | 0/10 [00:00<?, ?it/s]"
      ]
     },
     "metadata": {},
     "output_type": "display_data"
    },
    {
     "name": "stdout",
     "output_type": "stream",
     "text": [
      "Attempted to init fitparam 3 to 0.0, which is out of bounds 0 to 0.38391651529225973. Instead init to 0.19195825764612987\n",
      "Fit best freq (qA) 5142.032496978786 which is -0.24781282863295928 away from old freq 5142.280309807419\n",
      "Best freq from pi/-pi on Q3 5142.032496978786\n",
      "Attempted to init fitparam 3 to 0.0, which is out of bounds 0 to 0.05669136147302389. Instead init to 0.028345680736511943\n",
      "Fit best freq (qA) 5141.997615530977 which is -0.2826942764422711 away from old freq 5142.280309807419\n",
      "Best freq from pi/-pi on Q1 5141.997615530977\n",
      "best 0 0.07971153739124118\n",
      "Saving S:\\QRAM\\qram_4QR2\\data\\data_241025\\00093_PiMinusPiEgGfExptQ31.h5\n",
      "Saved S:\\QRAM\\qram_4QR2\\data\\data_241025\\00093_PiMinusPiEgGfExptQ31.h5\n",
      "for gain 16558.823529411762 added swap pi freq from pi minus pi 5142.032496978786\n",
      "using opt freq 5142.032496978786\n",
      "-------- swap error amplification --------\n",
      "{'device': {'readout': {'trig_offset': 150, 'lo_sideband': [1, 1, 1, 1], 'frequency': [-439.97500000000036, 0.0, 452.3682333333336, -278.89999999999964], 'gain': [0.17, 0.035, 0.25, 0.17], 'kappa_ext': [0.157, 0.065, 0.182, 0.104], 'kerr': [-0.0045, 0, 0.008, -0.003], 't_rise_reset': [0.5, 1, 0.5, 0.5], 'readout_length': [4, 4, 4, 4], 'frequency_ef': [-440.97500000000036, 0.0, 453.3682333333336, -280.35364238410557], 'readout_length_ef': [10.0, 7.0, 4.0, 8.0], 'relax_delay': [450, 450, 450, 450]}, 'qubit': {'f_ge': [4111.097866562327, 4105.838904759637, 4110.958153299016, 4110.546407850519, 3442.8755721075536, 3448.5530242338505, 3447.060317317807, 3446.4929792801067, 4762.761504132457, 4761.823567235975, 4762.909473544484, 4762.369813422167, 4380.698604555338, 4379.604868123916, 4380.717837106693, 4381.248121020163], 'f_ge_robust': [4114.313815659153, 4108.147701523904, 4114.310372455052, 4114.310372455052, 3443.0032303441935, 3448.345849629168, 0, 0, 4763.941, 4763.941, 4763.941, 4763.941, 4384.25034225973, 4384.25034225973, 4384.25034225973, 4384.25034225973], 'f_ef': [3884.6269161242526, 0.0, 0.0, 0.0, 0.0, 3348.085433174199, 0.0, 0.0, 4571.9056482340775, 4570.996526541673, 4573.280687567687, 0.0, 4211.617732525247, 4205.61697813965, 0.0, 4209.925086260656], 'f_EgGf': [2686.53594683, 0, 2017.3, 2414.92850999], 'f_EgGf_Q': [0, 0, 5885.585546008087, 5142.032496978786], 'f_f0g1': [1184.4, 999.8, 1632.9833333333333, 1620.9166666666665], 'gs': [52.40296404695958, 54.81794456602636, 43.49513117058557, 4.930653352423196, 2.6415018214608046, 6.386231497692186], 'pulses': {'pi_ge': {'sigma': [0.02, 0.02, 0.02, 0.02, 0.025, 0.025, 0.025, 0.025, 0.015, 0.015, 0.015, 0.015, 0.025, 0.025, 0.025, 0.025], 'gain': [1849, 1914, 0, 1855, 2834, 2504, 2648, 2631, 9155, 9155, 9155, 9155, 599, 599, 599, 599], 'half_gain': [1856, 1835, 1873, 1867, 2382, 2186, 2248, 2289, 9253, 9253, 9253, 9253, 524, 524, 524, 524], 'half_correction_phase': [0, 0, 0, 0, 0, 0, 0, 0, 0, 0, 0, 0, 0, 0, 0, 0, 0], 'half_gain_pi_sigma': [927, 0, 0, 0, 0, 1315, 0, 0, 0, 0, 7212, 0, 0, 0, 0, 460], 'type': 'gauss'}, 'pi_ef': {'sigma': [0.02, 0.02, 0.02, 0.02, 0.025, 0.025, 0.025, 0.025, 0.015, 0.015, 0.015, 0.015, 0.03, 0.03, 0.03, 0.03], 'gain': [1280, 0, 0, 0, 0, 1912, 0, 0, 10000, 10079, 10015, 0, 300, 300, 0, 300], 'half_gain': [1261, 0, 0, 0, 0, 1941, 0, 0, 0, 10147, 9845, 9979, 340, 340, 0, 320], 'half_gain_pi_sigma': [673, 0, 0, 0, 0, 975, 0, 0, 0, 0, 5049, 0, 340, 0, 0, 337], 'type': 'gauss'}, 'pi_EgGf': {'gain': [32000, 0, 30000, 16000], 'sigma': [0.586, 0, 0.8, 0.44643], 'type': 'flat_top'}, 'pi_EgGf_Q': {'gain': [0, 0, 12147, 16558], 'sigma': [0, 0, 0.44193131519875684, 0.21082829572908218], 'phase': [0, 0, 18.0, 24.0], 'half_sigma': [0, 0, 0.212, 0.172], 'half_phase': [0, 0, 18.0, 21.0], 'type': 'flat_top'}, 'pi_f0g1': {'gain': [32000, 32000, 32000, 32000], 'sigma': [0.536, 0.585, 1.54, 1.04], 'idle': [3, 6, 12, 8], 'type': 'flat_top'}, 'pulse_pp': {'gain': [1750, 3550, 0, 0], 'filename': '240920_3_qram_4q_2qubit_++gg'}, 'pulse_1p': {'gain': [3500, 4375, 0, 0], 'filename': '240920_qram_4q_2qubit_e+gg'}, 'pulse_p1': {'gain': [3000, 5530, 0, 0], 'filename': '240920_qram_4q_2qubit_+egg'}, 'pihalf_ge_robust': {'gain': [7559, 7660, 7559, 7559, 4843, 4462, 4462, 4144, 20111, 20111, 20111, 20111, 2375, 2375, 2375, 2375], 'filename': ['X_2_Q0', 'X_2_Q1', 'X_2_Q2', 'X_2_Q3']}, 'pi_ge_slow': {'gain': [-1, 100, -1, -1], 'sigma': [-1, 0.25, -1, -1], 'type': 'gauss'}, 'pi_Q1_ZZ_slow': {'gain': [100, 0, -1, -1], 'sigma': [0.25, 0, -1, -1], 'type': 'gauss'}}}}, 'hw': {'soc': {'dacs': {'qubit': {'ch': [0, 1, 2, 3], 'type': 'full', 'nyquist': [2, 1, 2, 2], 'mixer_freq': [0, 0, 0, 0]}, 'swap': {'ch': 1, 'type': 'full', 'nyquist': 1, 'mixer_freq': 0}, 'swap_f0g1': {'ch': [1, 1, 5, 5], 'type': ['full', 'full', 'full', 'full'], 'nyquist': 1, 'mixer_freq': 0}, 'swap_Q': {'ch': [0, -1, 2, 3], 'type': ['full', 'None', 'full', 'full'], 'nyquist': [2, 0, 2, 2], 'mixer_freq': 0}, 'readout': {'ch': [6, 4, 6, 6], 'full_mux_chs': [5, 4, 5, 5], 'type': ['mux4', 'full', 'mux4', 'mux4'], 'mixer_freq': [7250, 5795.8115578931565, 7250, 7250], 'nyquist': [2, 2, 2, 2]}, 'res_pump': {'ch': 4, 'type': 'full', 'mixer_freq': 0, 'nyquist': 2}, 'delay_chs': {'ch': [0, 1, 2, 3, 4, 5, 6], 'delay_ns': [4.0, 0.0, 5.0, 3.0, 25, 60, 71]}}, 'adcs': {'readout': {'ch': [0, 1, 2, 3]}}}, 'lo': {'twpa': {'frequency': '8210.0e6', 'power': -1.5}, 'readout': {'frequency': 0, 'power': 0}}}, 'aliases': {'readout_LO': 'SC_20A1', 'twpa_LO': 'SC_26C1', 'soc': 'Qick_QRAM'}, 'expt': {'start': 0, 'step': 1, 'expts': 10, 'reps': 2000, 'loops': 10, 'pulse_type': 'flat_top', 'post_process': 'scale', 'singleshot_reps': 15000, 'measure_f': False, 'init_state': '|1>|1>', 'qDrive': 3, 'qubits': [3, 1], 'measure_qubits': [3, 1], 'full_mux_expt': True, 'resonator_reset': [0, 2, 3]}}\n"
     ]
    },
    {
     "data": {
      "application/vnd.jupyter.widget-view+json": {
       "model_id": "28a1198ca36c4af4b6c99f22b43cc541",
       "version_major": 2,
       "version_minor": 0
      },
      "text/plain": [
       "  0%|          | 0/4 [00:00<?, ?it/s]"
      ]
     },
     "metadata": {},
     "output_type": "display_data"
    },
    {
     "name": "stdout",
     "output_type": "stream",
     "text": [
      "Qubit  (3)\n",
      "ge fidelity (%): 74.63333333333335 \t angle (deg): 0.0 \t threshold ge: 160.8219386702268\n",
      "Qubit  (1)\n",
      "ge fidelity (%): 56.04666666666665 \t angle (deg): 0.0 \t threshold ge: 305.4779349357417\n"
     ]
    },
    {
     "data": {
      "application/vnd.jupyter.widget-view+json": {
       "model_id": "7124dcc0c9b2405cb2216bdcd01b2aa9",
       "version_major": 2,
       "version_minor": 0
      },
      "text/plain": [
       "  0%|          | 0/10 [00:00<?, ?it/s]"
      ]
     },
     "metadata": {},
     "output_type": "display_data"
    },
    {
     "name": "stdout",
     "output_type": "stream",
     "text": [
      "Saving S:\\QRAM\\qram_4QR2\\data\\data_241025\\00087_NPulseExptEgGfQ31.h5\n",
      "Saved S:\\QRAM\\qram_4QR2\\data\\data_241025\\00087_NPulseExptEgGfQ31.h5\n",
      "[0.44299195 3.07741659 7.22187024]\n",
      "Attempted to init fitparam 0 to 0.0, which is out of bounds 0.0 to 0.0. Instead init to 0.0\n",
      "Warning: fit failed with error: Each lower bound must be strictly less than each upper bound.\n",
      "[0.0, 0.0, 10]\n",
      "Warning: fit failed with error: Optimal parameters not found: The maximum number of function evaluations is exceeded.\n",
      "[168.10302416019067, 0.0, 10]\n",
      "[ 0.64013208 -2.13213786  6.73976895]\n",
      "Attempted to init fitparam 0 to 0.0, which is out of bounds 0.0 to 0.0. Instead init to 0.0\n",
      "Warning: fit failed with error: Each lower bound must be strictly less than each upper bound.\n",
      "[0.0, 0.0, 10]\n",
      "Warning: fit failed with error: Optimal parameters not found: The maximum number of function evaluations is exceeded.\n",
      "[321.23999425575596, 0.0, 10]\n",
      "From QA: adjust length to 0.21449547310762784\n",
      "\tadjust ratio 0.9829032411480983\n",
      "\n",
      "From QB: adjust length to 0.21335553693465742\n",
      "\tadjust ratio 0.9881547896910253\n",
      "best 0 inf\n",
      "pi len precise 0.21082829572908218 adjustment ratio 1.0 from Q1\n",
      "for gain 16558.823529411762 added swap pi len from error amplification 0.21082829572908218\n",
      "----------- STARTING GAIN 17294.117647058825 -----------\n",
      "-------- swap length rabi --------\n",
      "gain 17294 freq 5141.641894322597\n"
     ]
    },
    {
     "data": {
      "application/vnd.jupyter.widget-view+json": {
       "model_id": "fb48d5de173843c5873c95d76fd6ba6b",
       "version_major": 2,
       "version_minor": 0
      },
      "text/plain": [
       "  0%|          | 0/101 [00:00<?, ?it/s]"
      ]
     },
     "metadata": {},
     "output_type": "display_data"
    },
    {
     "name": "stdout",
     "output_type": "stream",
     "text": [
      "Saving S:\\QRAM\\qram_4QR2\\data\\data_241025\\00089_length_rabi_EgGf_qubit31.h5\n",
      "Saved S:\\QRAM\\qram_4QR2\\data\\data_241025\\00089_length_rabi_EgGf_qubit31.h5\n",
      "Attempted to init fitparam 0 to 0.0, which is out of bounds 0.0 to 0.0. Instead init to 0.0\n",
      "Attempted to init fitparam 4 to 0.0, which is out of bounds 0.0 to 0.0. Instead init to 0.0\n",
      "Warning: fit failed with error: Each lower bound must be strictly less than each upper bound.\n",
      "Attempted to init fitparam 0 to 0.0, which is out of bounds 0.0 to 0.0. Instead init to 0.0\n",
      "Attempted to init fitparam 4 to 0.0, which is out of bounds 0.0 to 0.0. Instead init to 0.0\n",
      "Warning: fit failed with error: Each lower bound must be strictly less than each upper bound.\n",
      "best 0 0.029453057483477613\n",
      "Pi length from amps data (qubit A) [us]: 0.19942680930794082\n",
      "\tPi/2 length from avgq data (qubit A) [us]: 0.09971340465397041\n",
      "\tDecay time [us]: 2.523865136169139\n",
      "Pi length from avgq data (qubit A) [us]: 0.41059988351776355\n",
      "\tPi/2 length from avgq data (qubit A) [us]: 0.20529994175888178\n",
      "\tDecay time [us]: 1.0949330227140361\n",
      "Pi length from amps data (qubit B) [us]: 0.20310419225219298\n",
      "\tPi/2 length from avgq data (qubit B) [us]: 0.10155209612609649\n",
      "\tDecay time [us]: 2.0413933559125605\n",
      "Pi length from avgq data (qubit B) [us]: 0.41059988351776355\n",
      "\tPi/2 length from avgq data (qubit B) [us]: 0.20529994175888178\n",
      "\tDecay time [us]: 1.0949330227140361\n",
      "max QA amp: 251.07191786479763\n",
      "min QA amp: 93.68379368720984\n",
      "max QB amp: 352.16829725251756\n",
      "min QB amp: 287.45801744685997\n",
      "for gain 17294.117647058825 added swap pi len from length rabi 0.19942680930794082\n",
      "-------- swap pi minus pi --------\n",
      "{'device': {'readout': {'trig_offset': 150, 'lo_sideband': [1, 1, 1, 1], 'frequency': [-439.97500000000036, 0.0, 452.3682333333336, -278.89999999999964], 'gain': [0.17, 0.0001, 0.25, 0.17], 'kappa_ext': [0.157, 0.065, 0.182, 0.104], 'kerr': [-0.0045, 0, 0.008, -0.003], 't_rise_reset': [0.5, 1, 0.5, 0.5], 'readout_length': [4, 4, 4, 4], 'frequency_ef': [-440.97500000000036, 0.0, 453.3682333333336, -280.35364238410557], 'readout_length_ef': [10.0, 7.0, 4.0, 8.0], 'relax_delay': [450, 450, 450, 450]}, 'qubit': {'f_ge': [4111.097866562327, 4105.838904759637, 4110.958153299016, 4110.546407850519, 3442.8755721075536, 3448.5530242338505, 3447.060317317807, 3446.4929792801067, 4762.761504132457, 4761.823567235975, 4762.909473544484, 4762.369813422167, 4380.698604555338, 4379.604868123916, 4380.717837106693, 4381.248121020163], 'f_ge_robust': [4114.313815659153, 4108.147701523904, 4114.310372455052, 4114.310372455052, 3443.0032303441935, 3448.345849629168, 0, 0, 4763.941, 4763.941, 4763.941, 4763.941, 4384.25034225973, 4384.25034225973, 4384.25034225973, 4384.25034225973], 'f_ef': [3884.6269161242526, 0.0, 0.0, 0.0, 0.0, 3348.085433174199, 0.0, 0.0, 4571.9056482340775, 4570.996526541673, 4573.280687567687, 0.0, 4211.617732525247, 4205.61697813965, 0.0, 4209.925086260656], 'f_EgGf': [2686.53594683, 0, 2017.3, 2414.92850999], 'f_EgGf_Q': [0, 0, 5885.585546008087, 5141.641894322597], 'f_f0g1': [1184.4, 999.8, 1632.9833333333333, 1620.9166666666665], 'gs': [52.40296404695958, 54.81794456602636, 43.49513117058557, 4.930653352423196, 2.6415018214608046, 6.386231497692186], 'pulses': {'pi_ge': {'sigma': [0.02, 0.02, 0.02, 0.02, 0.025, 0.025, 0.025, 0.025, 0.015, 0.015, 0.015, 0.015, 0.025, 0.025, 0.025, 0.025], 'gain': [1849, 1914, 0, 1855, 2834, 2504, 2648, 2631, 9155, 9155, 9155, 9155, 599, 599, 599, 599], 'half_gain': [1856, 1835, 1873, 1867, 2382, 2186, 2248, 2289, 9253, 9253, 9253, 9253, 524, 524, 524, 524], 'half_correction_phase': [0, 0, 0, 0, 0, 0, 0, 0, 0, 0, 0, 0, 0, 0, 0, 0, 0], 'half_gain_pi_sigma': [927, 0, 0, 0, 0, 1315, 0, 0, 0, 0, 7212, 0, 0, 0, 0, 460], 'type': 'gauss'}, 'pi_ef': {'sigma': [0.02, 0.02, 0.02, 0.02, 0.025, 0.025, 0.025, 0.025, 0.015, 0.015, 0.015, 0.015, 0.03, 0.03, 0.03, 0.03], 'gain': [1280, 0, 0, 0, 0, 1912, 0, 0, 10000, 10079, 10015, 0, 300, 300, 0, 300], 'half_gain': [1261, 0, 0, 0, 0, 1941, 0, 0, 0, 10147, 9845, 9979, 340, 340, 0, 320], 'half_gain_pi_sigma': [673, 0, 0, 0, 0, 975, 0, 0, 0, 0, 5049, 0, 340, 0, 0, 337], 'type': 'gauss'}, 'pi_EgGf': {'gain': [32000, 0, 30000, 16000], 'sigma': [0.586, 0, 0.8, 0.44643], 'type': 'flat_top'}, 'pi_EgGf_Q': {'gain': [0, 0, 12147, 17294], 'sigma': [0, 0, 0.44193131519875684, 0.19942680930794082], 'phase': [0, 0, 18.0, 24.0], 'half_sigma': [0, 0, 0.212, 0.172], 'half_phase': [0, 0, 18.0, 21.0], 'type': 'flat_top'}, 'pi_f0g1': {'gain': [32000, 32000, 32000, 32000], 'sigma': [0.536, 0.585, 1.54, 1.04], 'idle': [3, 6, 12, 8], 'type': 'flat_top'}, 'pulse_pp': {'gain': [1750, 3550, 0, 0], 'filename': '240920_3_qram_4q_2qubit_++gg'}, 'pulse_1p': {'gain': [3500, 4375, 0, 0], 'filename': '240920_qram_4q_2qubit_e+gg'}, 'pulse_p1': {'gain': [3000, 5530, 0, 0], 'filename': '240920_qram_4q_2qubit_+egg'}, 'pihalf_ge_robust': {'gain': [7559, 7660, 7559, 7559, 4843, 4462, 4462, 4144, 20111, 20111, 20111, 20111, 2375, 2375, 2375, 2375], 'filename': ['X_2_Q0', 'X_2_Q1', 'X_2_Q2', 'X_2_Q3']}, 'pi_ge_slow': {'gain': [-1, 100, -1, -1], 'sigma': [-1, 0.25, -1, -1], 'type': 'gauss'}, 'pi_Q1_ZZ_slow': {'gain': [100, 0, -1, -1], 'sigma': [0.25, 0, -1, -1], 'type': 'gauss'}}}}, 'hw': {'soc': {'dacs': {'qubit': {'ch': [0, 1, 2, 3], 'type': 'full', 'nyquist': [2, 1, 2, 2], 'mixer_freq': [0, 0, 0, 0]}, 'swap': {'ch': 1, 'type': 'full', 'nyquist': 1, 'mixer_freq': 0}, 'swap_f0g1': {'ch': [1, 1, 5, 5], 'type': ['full', 'full', 'full', 'full'], 'nyquist': 1, 'mixer_freq': 0}, 'swap_Q': {'ch': [0, -1, 2, 3], 'type': ['full', 'None', 'full', 'full'], 'nyquist': [2, 0, 2, 2], 'mixer_freq': 0}, 'readout': {'ch': [6, 4, 6, 6], 'full_mux_chs': [5, 4, 5, 5], 'type': ['mux4', 'full', 'mux4', 'mux4'], 'mixer_freq': [7250, 5795.8115578931565, 7250, 7250], 'nyquist': [2, 2, 2, 2]}, 'res_pump': {'ch': 4, 'type': 'full', 'mixer_freq': 0, 'nyquist': 2}, 'delay_chs': {'ch': [0, 1, 2, 3, 4, 5, 6], 'delay_ns': [4.0, 0.0, 5.0, 3.0, 25, 60, 71]}}, 'adcs': {'readout': {'ch': [0, 1, 2, 3]}}}, 'lo': {'twpa': {'frequency': '8210.0e6', 'power': -1.5}, 'readout': {'frequency': 0, 'power': 0}}}, 'aliases': {'readout_LO': 'SC_20A1', 'twpa_LO': 'SC_26C1', 'soc': 'Qick_QRAM'}, 'expt': {'start_N': 0, 'step_N': 1, 'expts_N': 10, 'start_f': 5141.141894322597, 'step_f': 0.03333333333333333, 'expts_f': 31, 'reps': 1000, 'loops': 1, 'pulse_type': 'flat_top', 'post_process': 'scale', 'singleshot_reps': 15000, 'measure_f': False, 'init_state': '|1>|1>', 'qDrive': 3, 'qubits': [3, 1], 'measure_qubits': [3, 1], 'readout_cool': False, 'n_init_readout': 1, 'n_trig': 1, 'init_read_wait_us': 2, 'full_mux_expt': True, 'resonator_reset': [0, 2, 3]}}\n"
     ]
    },
    {
     "data": {
      "application/vnd.jupyter.widget-view+json": {
       "model_id": "d5f5f09cf38c4b07ba13c8e0df5e84ab",
       "version_major": 2,
       "version_minor": 0
      },
      "text/plain": [
       "  0%|          | 0/4 [00:00<?, ?it/s]"
      ]
     },
     "metadata": {},
     "output_type": "display_data"
    },
    {
     "name": "stdout",
     "output_type": "stream",
     "text": [
      "Qubit  (3)\n",
      "ge fidelity (%): 74.67333333333333 \t angle (deg): 0.0 \t threshold ge: 159.2686548799519\n",
      "Qubit  (1)\n",
      "ge fidelity (%): 1.860000000000006 \t angle (deg): 0.0 \t threshold ge: 71.70696047084344\n"
     ]
    },
    {
     "data": {
      "application/vnd.jupyter.widget-view+json": {
       "model_id": "6c2bc71cd36341daa22bde7ef0ad3e0d",
       "version_major": 2,
       "version_minor": 0
      },
      "text/plain": [
       "  0%|          | 0/10 [00:00<?, ?it/s]"
      ]
     },
     "metadata": {},
     "output_type": "display_data"
    },
    {
     "name": "stdout",
     "output_type": "stream",
     "text": [
      "Attempted to init fitparam 3 to 0.0, which is out of bounds 0 to 0.4251966439354273. Instead init to 0.21259832196771364\n",
      "Fit best freq (qA) 5141.42603268382 which is -0.21586163877691433 away from old freq 5141.641894322597\n",
      "Best freq from pi/-pi on Q3 5141.42603268382\n",
      "Attempted to init fitparam 3 to 0.0, which is out of bounds 0 to 0.06165512482209626. Instead init to 0.03082756241104813\n",
      "Fit best freq (qA) 5142.028469771364 which is 0.3865754487669619 away from old freq 5141.641894322597\n",
      "Best freq from pi/-pi on Q1 5142.028469771364\n",
      "best 0 0.13940229644527236\n",
      "Saving S:\\QRAM\\qram_4QR2\\data\\data_241025\\00094_PiMinusPiEgGfExptQ31.h5\n",
      "Saved S:\\QRAM\\qram_4QR2\\data\\data_241025\\00094_PiMinusPiEgGfExptQ31.h5\n",
      "for gain 17294.117647058825 added swap pi freq from pi minus pi 5141.42603268382\n",
      "using opt freq 5141.42603268382\n",
      "-------- swap error amplification --------\n",
      "{'device': {'readout': {'trig_offset': 150, 'lo_sideband': [1, 1, 1, 1], 'frequency': [-439.97500000000036, 0.0, 452.3682333333336, -278.89999999999964], 'gain': [0.17, 0.035, 0.25, 0.17], 'kappa_ext': [0.157, 0.065, 0.182, 0.104], 'kerr': [-0.0045, 0, 0.008, -0.003], 't_rise_reset': [0.5, 1, 0.5, 0.5], 'readout_length': [4, 4, 4, 4], 'frequency_ef': [-440.97500000000036, 0.0, 453.3682333333336, -280.35364238410557], 'readout_length_ef': [10.0, 7.0, 4.0, 8.0], 'relax_delay': [450, 450, 450, 450]}, 'qubit': {'f_ge': [4111.097866562327, 4105.838904759637, 4110.958153299016, 4110.546407850519, 3442.8755721075536, 3448.5530242338505, 3447.060317317807, 3446.4929792801067, 4762.761504132457, 4761.823567235975, 4762.909473544484, 4762.369813422167, 4380.698604555338, 4379.604868123916, 4380.717837106693, 4381.248121020163], 'f_ge_robust': [4114.313815659153, 4108.147701523904, 4114.310372455052, 4114.310372455052, 3443.0032303441935, 3448.345849629168, 0, 0, 4763.941, 4763.941, 4763.941, 4763.941, 4384.25034225973, 4384.25034225973, 4384.25034225973, 4384.25034225973], 'f_ef': [3884.6269161242526, 0.0, 0.0, 0.0, 0.0, 3348.085433174199, 0.0, 0.0, 4571.9056482340775, 4570.996526541673, 4573.280687567687, 0.0, 4211.617732525247, 4205.61697813965, 0.0, 4209.925086260656], 'f_EgGf': [2686.53594683, 0, 2017.3, 2414.92850999], 'f_EgGf_Q': [0, 0, 5885.585546008087, 5141.42603268382], 'f_f0g1': [1184.4, 999.8, 1632.9833333333333, 1620.9166666666665], 'gs': [52.40296404695958, 54.81794456602636, 43.49513117058557, 4.930653352423196, 2.6415018214608046, 6.386231497692186], 'pulses': {'pi_ge': {'sigma': [0.02, 0.02, 0.02, 0.02, 0.025, 0.025, 0.025, 0.025, 0.015, 0.015, 0.015, 0.015, 0.025, 0.025, 0.025, 0.025], 'gain': [1849, 1914, 0, 1855, 2834, 2504, 2648, 2631, 9155, 9155, 9155, 9155, 599, 599, 599, 599], 'half_gain': [1856, 1835, 1873, 1867, 2382, 2186, 2248, 2289, 9253, 9253, 9253, 9253, 524, 524, 524, 524], 'half_correction_phase': [0, 0, 0, 0, 0, 0, 0, 0, 0, 0, 0, 0, 0, 0, 0, 0, 0], 'half_gain_pi_sigma': [927, 0, 0, 0, 0, 1315, 0, 0, 0, 0, 7212, 0, 0, 0, 0, 460], 'type': 'gauss'}, 'pi_ef': {'sigma': [0.02, 0.02, 0.02, 0.02, 0.025, 0.025, 0.025, 0.025, 0.015, 0.015, 0.015, 0.015, 0.03, 0.03, 0.03, 0.03], 'gain': [1280, 0, 0, 0, 0, 1912, 0, 0, 10000, 10079, 10015, 0, 300, 300, 0, 300], 'half_gain': [1261, 0, 0, 0, 0, 1941, 0, 0, 0, 10147, 9845, 9979, 340, 340, 0, 320], 'half_gain_pi_sigma': [673, 0, 0, 0, 0, 975, 0, 0, 0, 0, 5049, 0, 340, 0, 0, 337], 'type': 'gauss'}, 'pi_EgGf': {'gain': [32000, 0, 30000, 16000], 'sigma': [0.586, 0, 0.8, 0.44643], 'type': 'flat_top'}, 'pi_EgGf_Q': {'gain': [0, 0, 12147, 17294], 'sigma': [0, 0, 0.44193131519875684, 0.19942680930794082], 'phase': [0, 0, 18.0, 24.0], 'half_sigma': [0, 0, 0.212, 0.172], 'half_phase': [0, 0, 18.0, 21.0], 'type': 'flat_top'}, 'pi_f0g1': {'gain': [32000, 32000, 32000, 32000], 'sigma': [0.536, 0.585, 1.54, 1.04], 'idle': [3, 6, 12, 8], 'type': 'flat_top'}, 'pulse_pp': {'gain': [1750, 3550, 0, 0], 'filename': '240920_3_qram_4q_2qubit_++gg'}, 'pulse_1p': {'gain': [3500, 4375, 0, 0], 'filename': '240920_qram_4q_2qubit_e+gg'}, 'pulse_p1': {'gain': [3000, 5530, 0, 0], 'filename': '240920_qram_4q_2qubit_+egg'}, 'pihalf_ge_robust': {'gain': [7559, 7660, 7559, 7559, 4843, 4462, 4462, 4144, 20111, 20111, 20111, 20111, 2375, 2375, 2375, 2375], 'filename': ['X_2_Q0', 'X_2_Q1', 'X_2_Q2', 'X_2_Q3']}, 'pi_ge_slow': {'gain': [-1, 100, -1, -1], 'sigma': [-1, 0.25, -1, -1], 'type': 'gauss'}, 'pi_Q1_ZZ_slow': {'gain': [100, 0, -1, -1], 'sigma': [0.25, 0, -1, -1], 'type': 'gauss'}}}}, 'hw': {'soc': {'dacs': {'qubit': {'ch': [0, 1, 2, 3], 'type': 'full', 'nyquist': [2, 1, 2, 2], 'mixer_freq': [0, 0, 0, 0]}, 'swap': {'ch': 1, 'type': 'full', 'nyquist': 1, 'mixer_freq': 0}, 'swap_f0g1': {'ch': [1, 1, 5, 5], 'type': ['full', 'full', 'full', 'full'], 'nyquist': 1, 'mixer_freq': 0}, 'swap_Q': {'ch': [0, -1, 2, 3], 'type': ['full', 'None', 'full', 'full'], 'nyquist': [2, 0, 2, 2], 'mixer_freq': 0}, 'readout': {'ch': [6, 4, 6, 6], 'full_mux_chs': [5, 4, 5, 5], 'type': ['mux4', 'full', 'mux4', 'mux4'], 'mixer_freq': [7250, 5795.8115578931565, 7250, 7250], 'nyquist': [2, 2, 2, 2]}, 'res_pump': {'ch': 4, 'type': 'full', 'mixer_freq': 0, 'nyquist': 2}, 'delay_chs': {'ch': [0, 1, 2, 3, 4, 5, 6], 'delay_ns': [4.0, 0.0, 5.0, 3.0, 25, 60, 71]}}, 'adcs': {'readout': {'ch': [0, 1, 2, 3]}}}, 'lo': {'twpa': {'frequency': '8210.0e6', 'power': -1.5}, 'readout': {'frequency': 0, 'power': 0}}}, 'aliases': {'readout_LO': 'SC_20A1', 'twpa_LO': 'SC_26C1', 'soc': 'Qick_QRAM'}, 'expt': {'start': 0, 'step': 1, 'expts': 10, 'reps': 2000, 'loops': 10, 'pulse_type': 'flat_top', 'post_process': 'scale', 'singleshot_reps': 15000, 'measure_f': False, 'init_state': '|1>|1>', 'qDrive': 3, 'qubits': [3, 1], 'measure_qubits': [3, 1], 'full_mux_expt': True, 'resonator_reset': [0, 2, 3]}}\n"
     ]
    },
    {
     "data": {
      "application/vnd.jupyter.widget-view+json": {
       "model_id": "0b6b269f75eb4510b80baf51f18c3468",
       "version_major": 2,
       "version_minor": 0
      },
      "text/plain": [
       "  0%|          | 0/4 [00:00<?, ?it/s]"
      ]
     },
     "metadata": {},
     "output_type": "display_data"
    },
    {
     "name": "stdout",
     "output_type": "stream",
     "text": [
      "Qubit  (3)\n",
      "ge fidelity (%): 74.84666666666666 \t angle (deg): 0.0 \t threshold ge: 157.15507605859057\n",
      "Qubit  (1)\n",
      "ge fidelity (%): 55.02666666666666 \t angle (deg): 0.0 \t threshold ge: 302.59486266166306\n"
     ]
    },
    {
     "data": {
      "application/vnd.jupyter.widget-view+json": {
       "model_id": "ce475b7ecb704a16bdf547930d50730f",
       "version_major": 2,
       "version_minor": 0
      },
      "text/plain": [
       "  0%|          | 0/10 [00:00<?, ?it/s]"
      ]
     },
     "metadata": {},
     "output_type": "display_data"
    },
    {
     "name": "stdout",
     "output_type": "stream",
     "text": [
      "Saving S:\\QRAM\\qram_4QR2\\data\\data_241025\\00088_NPulseExptEgGfQ31.h5\n",
      "Saved S:\\QRAM\\qram_4QR2\\data\\data_241025\\00088_NPulseExptEgGfQ31.h5\n",
      "[0.41436192 4.07333897 9.05383609]\n",
      "Attempted to init fitparam 0 to 0.0, which is out of bounds 0.0 to 0.0. Instead init to 0.0\n",
      "Warning: fit failed with error: Each lower bound must be strictly less than each upper bound.\n",
      "[0.0, 0.0, 10]\n",
      "Warning: fit failed with error: Optimal parameters not found: The maximum number of function evaluations is exceeded.\n",
      "[165.89479349326618, 0.0, 10]\n",
      "[ 0.53960444 -2.87032328 10.75210676]\n",
      "Attempted to init fitparam 0 to 0.0, which is out of bounds 0.0 to 0.0. Instead init to 0.0\n",
      "Warning: fit failed with error: Each lower bound must be strictly less than each upper bound.\n",
      "[0.0, 0.0, 10]\n",
      "Warning: fit failed with error: Optimal parameters not found: The maximum number of function evaluations is exceeded.\n",
      "[311.66432385439737, 0.0, 10]\n",
      "From QA: adjust length to 0.20404426177230459\n",
      "\tadjust ratio 0.9773703390418476\n",
      "\n",
      "From QB: adjust length to 0.202658449676335\n",
      "\tadjust ratio 0.9840537595468858\n",
      "best 0 inf\n",
      "pi len precise 0.19942680930794082 adjustment ratio 1.0 from Q1\n",
      "for gain 17294.117647058825 added swap pi len from error amplification 0.19942680930794082\n",
      "----------- STARTING GAIN 18029.41176470588 -----------\n",
      "-------- swap length rabi --------\n",
      "gain 18029 freq 5140.974380043114\n"
     ]
    },
    {
     "data": {
      "application/vnd.jupyter.widget-view+json": {
       "model_id": "11e8053e7a3a43e28d543286273d6793",
       "version_major": 2,
       "version_minor": 0
      },
      "text/plain": [
       "  0%|          | 0/101 [00:00<?, ?it/s]"
      ]
     },
     "metadata": {},
     "output_type": "display_data"
    },
    {
     "name": "stdout",
     "output_type": "stream",
     "text": [
      "Saving S:\\QRAM\\qram_4QR2\\data\\data_241025\\00090_length_rabi_EgGf_qubit31.h5\n",
      "Saved S:\\QRAM\\qram_4QR2\\data\\data_241025\\00090_length_rabi_EgGf_qubit31.h5\n",
      "Attempted to init fitparam 0 to 0.0, which is out of bounds 0.0 to 0.0. Instead init to 0.0\n",
      "Attempted to init fitparam 4 to 0.0, which is out of bounds 0.0 to 0.0. Instead init to 0.0\n",
      "Warning: fit failed with error: Each lower bound must be strictly less than each upper bound.\n",
      "Attempted to init fitparam 0 to 0.0, which is out of bounds 0.0 to 0.0. Instead init to 0.0\n",
      "Attempted to init fitparam 4 to 0.0, which is out of bounds 0.0 to 0.0. Instead init to 0.0\n",
      "Warning: fit failed with error: Each lower bound must be strictly less than each upper bound.\n",
      "best 0 0.029522640440498238\n",
      "Pi length from amps data (qubit A) [us]: 0.19304159020342734\n",
      "\tPi/2 length from avgq data (qubit A) [us]: 0.09652079510171367\n",
      "\tDecay time [us]: 2.687427275664544\n",
      "Pi length from avgq data (qubit A) [us]: 0.39749563191613285\n",
      "\tPi/2 length from avgq data (qubit A) [us]: 0.19874781595806643\n",
      "\tDecay time [us]: 1.0599883517763542\n",
      "Pi length from amps data (qubit B) [us]: 0.19728362388165477\n",
      "\tPi/2 length from avgq data (qubit B) [us]: 0.09864181194082738\n",
      "\tDecay time [us]: 2.7863327859829017\n",
      "Pi length from avgq data (qubit B) [us]: 0.39749563191613285\n",
      "\tPi/2 length from avgq data (qubit B) [us]: 0.19874781595806643\n",
      "\tDecay time [us]: 1.0599883517763542\n",
      "max QA amp: 248.75217303528376\n",
      "min QA amp: 90.2994818393698\n",
      "max QB amp: 355.66192389979005\n",
      "min QB amp: 277.0349379459982\n",
      "for gain 18029.41176470588 added swap pi len from length rabi 0.19304159020342734\n",
      "-------- swap pi minus pi --------\n",
      "{'device': {'readout': {'trig_offset': 150, 'lo_sideband': [1, 1, 1, 1], 'frequency': [-439.97500000000036, 0.0, 452.3682333333336, -278.89999999999964], 'gain': [0.17, 0.0001, 0.25, 0.17], 'kappa_ext': [0.157, 0.065, 0.182, 0.104], 'kerr': [-0.0045, 0, 0.008, -0.003], 't_rise_reset': [0.5, 1, 0.5, 0.5], 'readout_length': [4, 4, 4, 4], 'frequency_ef': [-440.97500000000036, 0.0, 453.3682333333336, -280.35364238410557], 'readout_length_ef': [10.0, 7.0, 4.0, 8.0], 'relax_delay': [450, 450, 450, 450]}, 'qubit': {'f_ge': [4111.097866562327, 4105.838904759637, 4110.958153299016, 4110.546407850519, 3442.8755721075536, 3448.5530242338505, 3447.060317317807, 3446.4929792801067, 4762.761504132457, 4761.823567235975, 4762.909473544484, 4762.369813422167, 4380.698604555338, 4379.604868123916, 4380.717837106693, 4381.248121020163], 'f_ge_robust': [4114.313815659153, 4108.147701523904, 4114.310372455052, 4114.310372455052, 3443.0032303441935, 3448.345849629168, 0, 0, 4763.941, 4763.941, 4763.941, 4763.941, 4384.25034225973, 4384.25034225973, 4384.25034225973, 4384.25034225973], 'f_ef': [3884.6269161242526, 0.0, 0.0, 0.0, 0.0, 3348.085433174199, 0.0, 0.0, 4571.9056482340775, 4570.996526541673, 4573.280687567687, 0.0, 4211.617732525247, 4205.61697813965, 0.0, 4209.925086260656], 'f_EgGf': [2686.53594683, 0, 2017.3, 2414.92850999], 'f_EgGf_Q': [0, 0, 5885.585546008087, 5140.974380043114], 'f_f0g1': [1184.4, 999.8, 1632.9833333333333, 1620.9166666666665], 'gs': [52.40296404695958, 54.81794456602636, 43.49513117058557, 4.930653352423196, 2.6415018214608046, 6.386231497692186], 'pulses': {'pi_ge': {'sigma': [0.02, 0.02, 0.02, 0.02, 0.025, 0.025, 0.025, 0.025, 0.015, 0.015, 0.015, 0.015, 0.025, 0.025, 0.025, 0.025], 'gain': [1849, 1914, 0, 1855, 2834, 2504, 2648, 2631, 9155, 9155, 9155, 9155, 599, 599, 599, 599], 'half_gain': [1856, 1835, 1873, 1867, 2382, 2186, 2248, 2289, 9253, 9253, 9253, 9253, 524, 524, 524, 524], 'half_correction_phase': [0, 0, 0, 0, 0, 0, 0, 0, 0, 0, 0, 0, 0, 0, 0, 0, 0], 'half_gain_pi_sigma': [927, 0, 0, 0, 0, 1315, 0, 0, 0, 0, 7212, 0, 0, 0, 0, 460], 'type': 'gauss'}, 'pi_ef': {'sigma': [0.02, 0.02, 0.02, 0.02, 0.025, 0.025, 0.025, 0.025, 0.015, 0.015, 0.015, 0.015, 0.03, 0.03, 0.03, 0.03], 'gain': [1280, 0, 0, 0, 0, 1912, 0, 0, 10000, 10079, 10015, 0, 300, 300, 0, 300], 'half_gain': [1261, 0, 0, 0, 0, 1941, 0, 0, 0, 10147, 9845, 9979, 340, 340, 0, 320], 'half_gain_pi_sigma': [673, 0, 0, 0, 0, 975, 0, 0, 0, 0, 5049, 0, 340, 0, 0, 337], 'type': 'gauss'}, 'pi_EgGf': {'gain': [32000, 0, 30000, 16000], 'sigma': [0.586, 0, 0.8, 0.44643], 'type': 'flat_top'}, 'pi_EgGf_Q': {'gain': [0, 0, 12147, 18029], 'sigma': [0, 0, 0.44193131519875684, 0.19304159020342734], 'phase': [0, 0, 18.0, 24.0], 'half_sigma': [0, 0, 0.212, 0.172], 'half_phase': [0, 0, 18.0, 21.0], 'type': 'flat_top'}, 'pi_f0g1': {'gain': [32000, 32000, 32000, 32000], 'sigma': [0.536, 0.585, 1.54, 1.04], 'idle': [3, 6, 12, 8], 'type': 'flat_top'}, 'pulse_pp': {'gain': [1750, 3550, 0, 0], 'filename': '240920_3_qram_4q_2qubit_++gg'}, 'pulse_1p': {'gain': [3500, 4375, 0, 0], 'filename': '240920_qram_4q_2qubit_e+gg'}, 'pulse_p1': {'gain': [3000, 5530, 0, 0], 'filename': '240920_qram_4q_2qubit_+egg'}, 'pihalf_ge_robust': {'gain': [7559, 7660, 7559, 7559, 4843, 4462, 4462, 4144, 20111, 20111, 20111, 20111, 2375, 2375, 2375, 2375], 'filename': ['X_2_Q0', 'X_2_Q1', 'X_2_Q2', 'X_2_Q3']}, 'pi_ge_slow': {'gain': [-1, 100, -1, -1], 'sigma': [-1, 0.25, -1, -1], 'type': 'gauss'}, 'pi_Q1_ZZ_slow': {'gain': [100, 0, -1, -1], 'sigma': [0.25, 0, -1, -1], 'type': 'gauss'}}}}, 'hw': {'soc': {'dacs': {'qubit': {'ch': [0, 1, 2, 3], 'type': 'full', 'nyquist': [2, 1, 2, 2], 'mixer_freq': [0, 0, 0, 0]}, 'swap': {'ch': 1, 'type': 'full', 'nyquist': 1, 'mixer_freq': 0}, 'swap_f0g1': {'ch': [1, 1, 5, 5], 'type': ['full', 'full', 'full', 'full'], 'nyquist': 1, 'mixer_freq': 0}, 'swap_Q': {'ch': [0, -1, 2, 3], 'type': ['full', 'None', 'full', 'full'], 'nyquist': [2, 0, 2, 2], 'mixer_freq': 0}, 'readout': {'ch': [6, 4, 6, 6], 'full_mux_chs': [5, 4, 5, 5], 'type': ['mux4', 'full', 'mux4', 'mux4'], 'mixer_freq': [7250, 5795.8115578931565, 7250, 7250], 'nyquist': [2, 2, 2, 2]}, 'res_pump': {'ch': 4, 'type': 'full', 'mixer_freq': 0, 'nyquist': 2}, 'delay_chs': {'ch': [0, 1, 2, 3, 4, 5, 6], 'delay_ns': [4.0, 0.0, 5.0, 3.0, 25, 60, 71]}}, 'adcs': {'readout': {'ch': [0, 1, 2, 3]}}}, 'lo': {'twpa': {'frequency': '8210.0e6', 'power': -1.5}, 'readout': {'frequency': 0, 'power': 0}}}, 'aliases': {'readout_LO': 'SC_20A1', 'twpa_LO': 'SC_26C1', 'soc': 'Qick_QRAM'}, 'expt': {'start_N': 0, 'step_N': 1, 'expts_N': 10, 'start_f': 5140.474380043114, 'step_f': 0.03333333333333333, 'expts_f': 31, 'reps': 1000, 'loops': 1, 'pulse_type': 'flat_top', 'post_process': 'scale', 'singleshot_reps': 15000, 'measure_f': False, 'init_state': '|1>|1>', 'qDrive': 3, 'qubits': [3, 1], 'measure_qubits': [3, 1], 'readout_cool': False, 'n_init_readout': 1, 'n_trig': 1, 'init_read_wait_us': 2, 'full_mux_expt': True, 'resonator_reset': [0, 2, 3]}}\n"
     ]
    },
    {
     "data": {
      "application/vnd.jupyter.widget-view+json": {
       "model_id": "ae975e280a184e24bb55e8a760202083",
       "version_major": 2,
       "version_minor": 0
      },
      "text/plain": [
       "  0%|          | 0/4 [00:00<?, ?it/s]"
      ]
     },
     "metadata": {},
     "output_type": "display_data"
    },
    {
     "name": "stdout",
     "output_type": "stream",
     "text": [
      "Qubit  (3)\n",
      "ge fidelity (%): 75.15921328088535 \t angle (deg): 0.0 \t threshold ge: 154.61398800093428\n",
      "Qubit  (1)\n",
      "ge fidelity (%): 1.4409942885081795 \t angle (deg): 0.0 \t threshold ge: 114.7358137357097\n"
     ]
    },
    {
     "data": {
      "application/vnd.jupyter.widget-view+json": {
       "model_id": "6488e33aca02465288381e9c3d14d382",
       "version_major": 2,
       "version_minor": 0
      },
      "text/plain": [
       "  0%|          | 0/10 [00:00<?, ?it/s]"
      ]
     },
     "metadata": {},
     "output_type": "display_data"
    },
    {
     "name": "stdout",
     "output_type": "stream",
     "text": [
      "Attempted to init fitparam 3 to 0.0, which is out of bounds 0 to 0.280515722191232. Instead init to 0.140257861095616\n",
      "Fit best freq (qA) 5140.74136130339 which is -0.23301873972468456 away from old freq 5140.974380043114\n",
      "Best freq from pi/-pi on Q3 5140.74136130339\n",
      "Attempted to init fitparam 3 to 0.0, which is out of bounds 0 to 0.048666713099868385. Instead init to 0.024333356549934192\n",
      "Fit best freq (qA) 5140.721776489351 which is -0.2526035537630378 away from old freq 5140.974380043114\n",
      "Best freq from pi/-pi on Q1 5140.721776489351\n",
      "best 0 0.10965764329556217\n",
      "Saving S:\\QRAM\\qram_4QR2\\data\\data_241025\\00095_PiMinusPiEgGfExptQ31.h5\n",
      "Saved S:\\QRAM\\qram_4QR2\\data\\data_241025\\00095_PiMinusPiEgGfExptQ31.h5\n",
      "for gain 18029.41176470588 added swap pi freq from pi minus pi 5140.74136130339\n",
      "using opt freq 5140.74136130339\n",
      "-------- swap error amplification --------\n",
      "{'device': {'readout': {'trig_offset': 150, 'lo_sideband': [1, 1, 1, 1], 'frequency': [-439.97500000000036, 0.0, 452.3682333333336, -278.89999999999964], 'gain': [0.17, 0.035, 0.25, 0.17], 'kappa_ext': [0.157, 0.065, 0.182, 0.104], 'kerr': [-0.0045, 0, 0.008, -0.003], 't_rise_reset': [0.5, 1, 0.5, 0.5], 'readout_length': [4, 4, 4, 4], 'frequency_ef': [-440.97500000000036, 0.0, 453.3682333333336, -280.35364238410557], 'readout_length_ef': [10.0, 7.0, 4.0, 8.0], 'relax_delay': [450, 450, 450, 450]}, 'qubit': {'f_ge': [4111.097866562327, 4105.838904759637, 4110.958153299016, 4110.546407850519, 3442.8755721075536, 3448.5530242338505, 3447.060317317807, 3446.4929792801067, 4762.761504132457, 4761.823567235975, 4762.909473544484, 4762.369813422167, 4380.698604555338, 4379.604868123916, 4380.717837106693, 4381.248121020163], 'f_ge_robust': [4114.313815659153, 4108.147701523904, 4114.310372455052, 4114.310372455052, 3443.0032303441935, 3448.345849629168, 0, 0, 4763.941, 4763.941, 4763.941, 4763.941, 4384.25034225973, 4384.25034225973, 4384.25034225973, 4384.25034225973], 'f_ef': [3884.6269161242526, 0.0, 0.0, 0.0, 0.0, 3348.085433174199, 0.0, 0.0, 4571.9056482340775, 4570.996526541673, 4573.280687567687, 0.0, 4211.617732525247, 4205.61697813965, 0.0, 4209.925086260656], 'f_EgGf': [2686.53594683, 0, 2017.3, 2414.92850999], 'f_EgGf_Q': [0, 0, 5885.585546008087, 5140.74136130339], 'f_f0g1': [1184.4, 999.8, 1632.9833333333333, 1620.9166666666665], 'gs': [52.40296404695958, 54.81794456602636, 43.49513117058557, 4.930653352423196, 2.6415018214608046, 6.386231497692186], 'pulses': {'pi_ge': {'sigma': [0.02, 0.02, 0.02, 0.02, 0.025, 0.025, 0.025, 0.025, 0.015, 0.015, 0.015, 0.015, 0.025, 0.025, 0.025, 0.025], 'gain': [1849, 1914, 0, 1855, 2834, 2504, 2648, 2631, 9155, 9155, 9155, 9155, 599, 599, 599, 599], 'half_gain': [1856, 1835, 1873, 1867, 2382, 2186, 2248, 2289, 9253, 9253, 9253, 9253, 524, 524, 524, 524], 'half_correction_phase': [0, 0, 0, 0, 0, 0, 0, 0, 0, 0, 0, 0, 0, 0, 0, 0, 0], 'half_gain_pi_sigma': [927, 0, 0, 0, 0, 1315, 0, 0, 0, 0, 7212, 0, 0, 0, 0, 460], 'type': 'gauss'}, 'pi_ef': {'sigma': [0.02, 0.02, 0.02, 0.02, 0.025, 0.025, 0.025, 0.025, 0.015, 0.015, 0.015, 0.015, 0.03, 0.03, 0.03, 0.03], 'gain': [1280, 0, 0, 0, 0, 1912, 0, 0, 10000, 10079, 10015, 0, 300, 300, 0, 300], 'half_gain': [1261, 0, 0, 0, 0, 1941, 0, 0, 0, 10147, 9845, 9979, 340, 340, 0, 320], 'half_gain_pi_sigma': [673, 0, 0, 0, 0, 975, 0, 0, 0, 0, 5049, 0, 340, 0, 0, 337], 'type': 'gauss'}, 'pi_EgGf': {'gain': [32000, 0, 30000, 16000], 'sigma': [0.586, 0, 0.8, 0.44643], 'type': 'flat_top'}, 'pi_EgGf_Q': {'gain': [0, 0, 12147, 18029], 'sigma': [0, 0, 0.44193131519875684, 0.19304159020342734], 'phase': [0, 0, 18.0, 24.0], 'half_sigma': [0, 0, 0.212, 0.172], 'half_phase': [0, 0, 18.0, 21.0], 'type': 'flat_top'}, 'pi_f0g1': {'gain': [32000, 32000, 32000, 32000], 'sigma': [0.536, 0.585, 1.54, 1.04], 'idle': [3, 6, 12, 8], 'type': 'flat_top'}, 'pulse_pp': {'gain': [1750, 3550, 0, 0], 'filename': '240920_3_qram_4q_2qubit_++gg'}, 'pulse_1p': {'gain': [3500, 4375, 0, 0], 'filename': '240920_qram_4q_2qubit_e+gg'}, 'pulse_p1': {'gain': [3000, 5530, 0, 0], 'filename': '240920_qram_4q_2qubit_+egg'}, 'pihalf_ge_robust': {'gain': [7559, 7660, 7559, 7559, 4843, 4462, 4462, 4144, 20111, 20111, 20111, 20111, 2375, 2375, 2375, 2375], 'filename': ['X_2_Q0', 'X_2_Q1', 'X_2_Q2', 'X_2_Q3']}, 'pi_ge_slow': {'gain': [-1, 100, -1, -1], 'sigma': [-1, 0.25, -1, -1], 'type': 'gauss'}, 'pi_Q1_ZZ_slow': {'gain': [100, 0, -1, -1], 'sigma': [0.25, 0, -1, -1], 'type': 'gauss'}}}}, 'hw': {'soc': {'dacs': {'qubit': {'ch': [0, 1, 2, 3], 'type': 'full', 'nyquist': [2, 1, 2, 2], 'mixer_freq': [0, 0, 0, 0]}, 'swap': {'ch': 1, 'type': 'full', 'nyquist': 1, 'mixer_freq': 0}, 'swap_f0g1': {'ch': [1, 1, 5, 5], 'type': ['full', 'full', 'full', 'full'], 'nyquist': 1, 'mixer_freq': 0}, 'swap_Q': {'ch': [0, -1, 2, 3], 'type': ['full', 'None', 'full', 'full'], 'nyquist': [2, 0, 2, 2], 'mixer_freq': 0}, 'readout': {'ch': [6, 4, 6, 6], 'full_mux_chs': [5, 4, 5, 5], 'type': ['mux4', 'full', 'mux4', 'mux4'], 'mixer_freq': [7250, 5795.8115578931565, 7250, 7250], 'nyquist': [2, 2, 2, 2]}, 'res_pump': {'ch': 4, 'type': 'full', 'mixer_freq': 0, 'nyquist': 2}, 'delay_chs': {'ch': [0, 1, 2, 3, 4, 5, 6], 'delay_ns': [4.0, 0.0, 5.0, 3.0, 25, 60, 71]}}, 'adcs': {'readout': {'ch': [0, 1, 2, 3]}}}, 'lo': {'twpa': {'frequency': '8210.0e6', 'power': -1.5}, 'readout': {'frequency': 0, 'power': 0}}}, 'aliases': {'readout_LO': 'SC_20A1', 'twpa_LO': 'SC_26C1', 'soc': 'Qick_QRAM'}, 'expt': {'start': 0, 'step': 1, 'expts': 10, 'reps': 2000, 'loops': 10, 'pulse_type': 'flat_top', 'post_process': 'scale', 'singleshot_reps': 15000, 'measure_f': False, 'init_state': '|1>|1>', 'qDrive': 3, 'qubits': [3, 1], 'measure_qubits': [3, 1], 'full_mux_expt': True, 'resonator_reset': [0, 2, 3]}}\n"
     ]
    },
    {
     "data": {
      "application/vnd.jupyter.widget-view+json": {
       "model_id": "e268acef484c43edb292a6ba27ed335a",
       "version_major": 2,
       "version_minor": 0
      },
      "text/plain": [
       "  0%|          | 0/4 [00:00<?, ?it/s]"
      ]
     },
     "metadata": {},
     "output_type": "display_data"
    },
    {
     "name": "stdout",
     "output_type": "stream",
     "text": [
      "Qubit  (3)\n",
      "ge fidelity (%): 75.41920572482613 \t angle (deg): 0.0 \t threshold ge: 168.425480051414\n",
      "Qubit  (1)\n",
      "ge fidelity (%): 54.66524390514926 \t angle (deg): 0.0 \t threshold ge: 308.9182258095612\n"
     ]
    },
    {
     "data": {
      "application/vnd.jupyter.widget-view+json": {
       "model_id": "584d562309d4457abc9b875b5b164c7d",
       "version_major": 2,
       "version_minor": 0
      },
      "text/plain": [
       "  0%|          | 0/10 [00:00<?, ?it/s]"
      ]
     },
     "metadata": {},
     "output_type": "display_data"
    },
    {
     "name": "stdout",
     "output_type": "stream",
     "text": [
      "Saving S:\\QRAM\\qram_4QR2\\data\\data_241025\\00089_NPulseExptEgGfQ31.h5\n",
      "Saved S:\\QRAM\\qram_4QR2\\data\\data_241025\\00089_NPulseExptEgGfQ31.h5\n",
      "[0.39017648 4.28639705 6.04169954]\n",
      "Attempted to init fitparam 0 to 0.0, which is out of bounds 0.0 to 0.0. Instead init to 0.0\n",
      "Warning: fit failed with error: Each lower bound must be strictly less than each upper bound.\n",
      "[0.0, 0.0, 10]\n",
      "Warning: fit failed with error: Optimal parameters not found: The maximum number of function evaluations is exceeded.\n",
      "[163.07942496512013, 0.0, 10]\n",
      "[ 0.65704087 -2.02180194  7.65758853]\n",
      "Attempted to init fitparam 0 to 0.0, which is out of bounds 0.0 to 0.0. Instead init to 0.0\n",
      "Warning: fit failed with error: Each lower bound must be strictly less than each upper bound.\n",
      "[0.0, 0.0, 10]\n",
      "Warning: fit failed with error: Optimal parameters not found: The maximum number of function evaluations is exceeded.\n",
      "[324.20847914028474, 0.0, 10]\n",
      "From QA: adjust length to 0.19775069005947576\n",
      "\tadjust ratio 0.97618668306729\n",
      "\n",
      "From QB: adjust length to 0.19523450970331857\n",
      "\tadjust ratio 0.9887677670140201\n",
      "best 0 inf\n",
      "pi len precise 0.19304159020342734 adjustment ratio 1.0 from Q1\n",
      "for gain 18029.41176470588 added swap pi len from error amplification 0.19304159020342734\n",
      "----------- STARTING GAIN 18764.70588235294 -----------\n",
      "-------- swap length rabi --------\n",
      "gain 18764 freq 5140.2777669689685\n"
     ]
    },
    {
     "data": {
      "application/vnd.jupyter.widget-view+json": {
       "model_id": "d2a98112399d4891bd5f31aa1f99ac11",
       "version_major": 2,
       "version_minor": 0
      },
      "text/plain": [
       "  0%|          | 0/101 [00:00<?, ?it/s]"
      ]
     },
     "metadata": {},
     "output_type": "display_data"
    },
    {
     "name": "stdout",
     "output_type": "stream",
     "text": [
      "Saving S:\\QRAM\\qram_4QR2\\data\\data_241025\\00091_length_rabi_EgGf_qubit31.h5\n",
      "Saved S:\\QRAM\\qram_4QR2\\data\\data_241025\\00091_length_rabi_EgGf_qubit31.h5\n",
      "Attempted to init fitparam 0 to 0.0, which is out of bounds 0.0 to 0.0. Instead init to 0.0\n",
      "Attempted to init fitparam 4 to 0.0, which is out of bounds 0.0 to 0.0. Instead init to 0.0\n",
      "Warning: fit failed with error: Each lower bound must be strictly less than each upper bound.\n",
      "Attempted to init fitparam 0 to 0.0, which is out of bounds 0.0 to 0.0. Instead init to 0.0\n",
      "Attempted to init fitparam 4 to 0.0, which is out of bounds 0.0 to 0.0. Instead init to 0.0\n",
      "Warning: fit failed with error: Each lower bound must be strictly less than each upper bound.\n",
      "best 0 0.033725231262523955\n",
      "Pi length from amps data (qubit A) [us]: 0.18530539250720215\n",
      "\tPi/2 length from avgq data (qubit A) [us]: 0.09265269625360108\n",
      "\tDecay time [us]: 3.937975146452085\n",
      "Pi length from avgq data (qubit A) [us]: 0.38439138031450204\n",
      "\tPi/2 length from avgq data (qubit A) [us]: 0.19219569015725102\n",
      "\tDecay time [us]: 1.025043680838672\n",
      "Pi length from amps data (qubit B) [us]: 0.19459404850423492\n",
      "\tPi/2 length from avgq data (qubit B) [us]: 0.09729702425211746\n",
      "\tDecay time [us]: 2.1444301742021477\n",
      "Pi length from avgq data (qubit B) [us]: 0.38439138031450204\n",
      "\tPi/2 length from avgq data (qubit B) [us]: 0.19219569015725102\n",
      "\tDecay time [us]: 1.025043680838672\n",
      "max QA amp: 256.7946116100791\n",
      "min QA amp: 93.34158069658899\n",
      "max QB amp: 359.1119210614083\n",
      "min QB amp: 307.18361195739976\n",
      "for gain 18764.70588235294 added swap pi len from length rabi 0.18530539250720215\n",
      "-------- swap pi minus pi --------\n",
      "{'device': {'readout': {'trig_offset': 150, 'lo_sideband': [1, 1, 1, 1], 'frequency': [-439.97500000000036, 0.0, 452.3682333333336, -278.89999999999964], 'gain': [0.17, 0.0001, 0.25, 0.17], 'kappa_ext': [0.157, 0.065, 0.182, 0.104], 'kerr': [-0.0045, 0, 0.008, -0.003], 't_rise_reset': [0.5, 1, 0.5, 0.5], 'readout_length': [4, 4, 4, 4], 'frequency_ef': [-440.97500000000036, 0.0, 453.3682333333336, -280.35364238410557], 'readout_length_ef': [10.0, 7.0, 4.0, 8.0], 'relax_delay': [450, 450, 450, 450]}, 'qubit': {'f_ge': [4111.097866562327, 4105.838904759637, 4110.958153299016, 4110.546407850519, 3442.8755721075536, 3448.5530242338505, 3447.060317317807, 3446.4929792801067, 4762.761504132457, 4761.823567235975, 4762.909473544484, 4762.369813422167, 4380.698604555338, 4379.604868123916, 4380.717837106693, 4381.248121020163], 'f_ge_robust': [4114.313815659153, 4108.147701523904, 4114.310372455052, 4114.310372455052, 3443.0032303441935, 3448.345849629168, 0, 0, 4763.941, 4763.941, 4763.941, 4763.941, 4384.25034225973, 4384.25034225973, 4384.25034225973, 4384.25034225973], 'f_ef': [3884.6269161242526, 0.0, 0.0, 0.0, 0.0, 3348.085433174199, 0.0, 0.0, 4571.9056482340775, 4570.996526541673, 4573.280687567687, 0.0, 4211.617732525247, 4205.61697813965, 0.0, 4209.925086260656], 'f_EgGf': [2686.53594683, 0, 2017.3, 2414.92850999], 'f_EgGf_Q': [0, 0, 5885.585546008087, 5140.2777669689685], 'f_f0g1': [1184.4, 999.8, 1632.9833333333333, 1620.9166666666665], 'gs': [52.40296404695958, 54.81794456602636, 43.49513117058557, 4.930653352423196, 2.6415018214608046, 6.386231497692186], 'pulses': {'pi_ge': {'sigma': [0.02, 0.02, 0.02, 0.02, 0.025, 0.025, 0.025, 0.025, 0.015, 0.015, 0.015, 0.015, 0.025, 0.025, 0.025, 0.025], 'gain': [1849, 1914, 0, 1855, 2834, 2504, 2648, 2631, 9155, 9155, 9155, 9155, 599, 599, 599, 599], 'half_gain': [1856, 1835, 1873, 1867, 2382, 2186, 2248, 2289, 9253, 9253, 9253, 9253, 524, 524, 524, 524], 'half_correction_phase': [0, 0, 0, 0, 0, 0, 0, 0, 0, 0, 0, 0, 0, 0, 0, 0, 0], 'half_gain_pi_sigma': [927, 0, 0, 0, 0, 1315, 0, 0, 0, 0, 7212, 0, 0, 0, 0, 460], 'type': 'gauss'}, 'pi_ef': {'sigma': [0.02, 0.02, 0.02, 0.02, 0.025, 0.025, 0.025, 0.025, 0.015, 0.015, 0.015, 0.015, 0.03, 0.03, 0.03, 0.03], 'gain': [1280, 0, 0, 0, 0, 1912, 0, 0, 10000, 10079, 10015, 0, 300, 300, 0, 300], 'half_gain': [1261, 0, 0, 0, 0, 1941, 0, 0, 0, 10147, 9845, 9979, 340, 340, 0, 320], 'half_gain_pi_sigma': [673, 0, 0, 0, 0, 975, 0, 0, 0, 0, 5049, 0, 340, 0, 0, 337], 'type': 'gauss'}, 'pi_EgGf': {'gain': [32000, 0, 30000, 16000], 'sigma': [0.586, 0, 0.8, 0.44643], 'type': 'flat_top'}, 'pi_EgGf_Q': {'gain': [0, 0, 12147, 18764], 'sigma': [0, 0, 0.44193131519875684, 0.18530539250720215], 'phase': [0, 0, 18.0, 24.0], 'half_sigma': [0, 0, 0.212, 0.172], 'half_phase': [0, 0, 18.0, 21.0], 'type': 'flat_top'}, 'pi_f0g1': {'gain': [32000, 32000, 32000, 32000], 'sigma': [0.536, 0.585, 1.54, 1.04], 'idle': [3, 6, 12, 8], 'type': 'flat_top'}, 'pulse_pp': {'gain': [1750, 3550, 0, 0], 'filename': '240920_3_qram_4q_2qubit_++gg'}, 'pulse_1p': {'gain': [3500, 4375, 0, 0], 'filename': '240920_qram_4q_2qubit_e+gg'}, 'pulse_p1': {'gain': [3000, 5530, 0, 0], 'filename': '240920_qram_4q_2qubit_+egg'}, 'pihalf_ge_robust': {'gain': [7559, 7660, 7559, 7559, 4843, 4462, 4462, 4144, 20111, 20111, 20111, 20111, 2375, 2375, 2375, 2375], 'filename': ['X_2_Q0', 'X_2_Q1', 'X_2_Q2', 'X_2_Q3']}, 'pi_ge_slow': {'gain': [-1, 100, -1, -1], 'sigma': [-1, 0.25, -1, -1], 'type': 'gauss'}, 'pi_Q1_ZZ_slow': {'gain': [100, 0, -1, -1], 'sigma': [0.25, 0, -1, -1], 'type': 'gauss'}}}}, 'hw': {'soc': {'dacs': {'qubit': {'ch': [0, 1, 2, 3], 'type': 'full', 'nyquist': [2, 1, 2, 2], 'mixer_freq': [0, 0, 0, 0]}, 'swap': {'ch': 1, 'type': 'full', 'nyquist': 1, 'mixer_freq': 0}, 'swap_f0g1': {'ch': [1, 1, 5, 5], 'type': ['full', 'full', 'full', 'full'], 'nyquist': 1, 'mixer_freq': 0}, 'swap_Q': {'ch': [0, -1, 2, 3], 'type': ['full', 'None', 'full', 'full'], 'nyquist': [2, 0, 2, 2], 'mixer_freq': 0}, 'readout': {'ch': [6, 4, 6, 6], 'full_mux_chs': [5, 4, 5, 5], 'type': ['mux4', 'full', 'mux4', 'mux4'], 'mixer_freq': [7250, 5795.8115578931565, 7250, 7250], 'nyquist': [2, 2, 2, 2]}, 'res_pump': {'ch': 4, 'type': 'full', 'mixer_freq': 0, 'nyquist': 2}, 'delay_chs': {'ch': [0, 1, 2, 3, 4, 5, 6], 'delay_ns': [4.0, 0.0, 5.0, 3.0, 25, 60, 71]}}, 'adcs': {'readout': {'ch': [0, 1, 2, 3]}}}, 'lo': {'twpa': {'frequency': '8210.0e6', 'power': -1.5}, 'readout': {'frequency': 0, 'power': 0}}}, 'aliases': {'readout_LO': 'SC_20A1', 'twpa_LO': 'SC_26C1', 'soc': 'Qick_QRAM'}, 'expt': {'start_N': 0, 'step_N': 1, 'expts_N': 10, 'start_f': 5139.7777669689685, 'step_f': 0.03333333333333333, 'expts_f': 31, 'reps': 1000, 'loops': 1, 'pulse_type': 'flat_top', 'post_process': 'scale', 'singleshot_reps': 15000, 'measure_f': False, 'init_state': '|1>|1>', 'qDrive': 3, 'qubits': [3, 1], 'measure_qubits': [3, 1], 'readout_cool': False, 'n_init_readout': 1, 'n_trig': 1, 'init_read_wait_us': 2, 'full_mux_expt': True, 'resonator_reset': [0, 2, 3]}}\n"
     ]
    },
    {
     "data": {
      "application/vnd.jupyter.widget-view+json": {
       "model_id": "0e6aac2721e2435e8309a61e4781161d",
       "version_major": 2,
       "version_minor": 0
      },
      "text/plain": [
       "  0%|          | 0/4 [00:00<?, ?it/s]"
      ]
     },
     "metadata": {},
     "output_type": "display_data"
    },
    {
     "name": "stdout",
     "output_type": "stream",
     "text": [
      "Qubit  (3)\n",
      "ge fidelity (%): 75.9992430606485 \t angle (deg): 0.0 \t threshold ge: 167.49928611914706\n",
      "Qubit  (1)\n",
      "ge fidelity (%): 2.143577127364027 \t angle (deg): 0.0 \t threshold ge: 71.12111070956392\n"
     ]
    },
    {
     "data": {
      "application/vnd.jupyter.widget-view+json": {
       "model_id": "cec0832016c54a10aa3588ea401ab9b6",
       "version_major": 2,
       "version_minor": 0
      },
      "text/plain": [
       "  0%|          | 0/10 [00:00<?, ?it/s]"
      ]
     },
     "metadata": {},
     "output_type": "display_data"
    },
    {
     "name": "stdout",
     "output_type": "stream",
     "text": [
      "Attempted to init fitparam 3 to 0.0, which is out of bounds 0 to 0.22698290888442177. Instead init to 0.11349145444221088\n",
      "Fit best freq (qA) 5140.050826982874 which is -0.226939986094294 away from old freq 5140.2777669689685\n",
      "Best freq from pi/-pi on Q3 5140.050826982874\n",
      "Attempted to init fitparam 3 to 0.0, which is out of bounds 0 to 0.06402868759425272. Instead init to 0.03201434379712636\n",
      "Fit best freq (qA) 5140.62607254195 which is 0.34830557298118947 away from old freq 5140.2777669689685\n",
      "Best freq from pi/-pi on Q1 5140.62607254195\n",
      "best 0 0.0721184692270034\n",
      "Saving S:\\QRAM\\qram_4QR2\\data\\data_241025\\00096_PiMinusPiEgGfExptQ31.h5\n",
      "Saved S:\\QRAM\\qram_4QR2\\data\\data_241025\\00096_PiMinusPiEgGfExptQ31.h5\n",
      "for gain 18764.70588235294 added swap pi freq from pi minus pi 5140.050826982874\n",
      "using opt freq 5140.050826982874\n",
      "-------- swap error amplification --------\n",
      "{'device': {'readout': {'trig_offset': 150, 'lo_sideband': [1, 1, 1, 1], 'frequency': [-439.97500000000036, 0.0, 452.3682333333336, -278.89999999999964], 'gain': [0.17, 0.035, 0.25, 0.17], 'kappa_ext': [0.157, 0.065, 0.182, 0.104], 'kerr': [-0.0045, 0, 0.008, -0.003], 't_rise_reset': [0.5, 1, 0.5, 0.5], 'readout_length': [4, 4, 4, 4], 'frequency_ef': [-440.97500000000036, 0.0, 453.3682333333336, -280.35364238410557], 'readout_length_ef': [10.0, 7.0, 4.0, 8.0], 'relax_delay': [450, 450, 450, 450]}, 'qubit': {'f_ge': [4111.097866562327, 4105.838904759637, 4110.958153299016, 4110.546407850519, 3442.8755721075536, 3448.5530242338505, 3447.060317317807, 3446.4929792801067, 4762.761504132457, 4761.823567235975, 4762.909473544484, 4762.369813422167, 4380.698604555338, 4379.604868123916, 4380.717837106693, 4381.248121020163], 'f_ge_robust': [4114.313815659153, 4108.147701523904, 4114.310372455052, 4114.310372455052, 3443.0032303441935, 3448.345849629168, 0, 0, 4763.941, 4763.941, 4763.941, 4763.941, 4384.25034225973, 4384.25034225973, 4384.25034225973, 4384.25034225973], 'f_ef': [3884.6269161242526, 0.0, 0.0, 0.0, 0.0, 3348.085433174199, 0.0, 0.0, 4571.9056482340775, 4570.996526541673, 4573.280687567687, 0.0, 4211.617732525247, 4205.61697813965, 0.0, 4209.925086260656], 'f_EgGf': [2686.53594683, 0, 2017.3, 2414.92850999], 'f_EgGf_Q': [0, 0, 5885.585546008087, 5140.050826982874], 'f_f0g1': [1184.4, 999.8, 1632.9833333333333, 1620.9166666666665], 'gs': [52.40296404695958, 54.81794456602636, 43.49513117058557, 4.930653352423196, 2.6415018214608046, 6.386231497692186], 'pulses': {'pi_ge': {'sigma': [0.02, 0.02, 0.02, 0.02, 0.025, 0.025, 0.025, 0.025, 0.015, 0.015, 0.015, 0.015, 0.025, 0.025, 0.025, 0.025], 'gain': [1849, 1914, 0, 1855, 2834, 2504, 2648, 2631, 9155, 9155, 9155, 9155, 599, 599, 599, 599], 'half_gain': [1856, 1835, 1873, 1867, 2382, 2186, 2248, 2289, 9253, 9253, 9253, 9253, 524, 524, 524, 524], 'half_correction_phase': [0, 0, 0, 0, 0, 0, 0, 0, 0, 0, 0, 0, 0, 0, 0, 0, 0], 'half_gain_pi_sigma': [927, 0, 0, 0, 0, 1315, 0, 0, 0, 0, 7212, 0, 0, 0, 0, 460], 'type': 'gauss'}, 'pi_ef': {'sigma': [0.02, 0.02, 0.02, 0.02, 0.025, 0.025, 0.025, 0.025, 0.015, 0.015, 0.015, 0.015, 0.03, 0.03, 0.03, 0.03], 'gain': [1280, 0, 0, 0, 0, 1912, 0, 0, 10000, 10079, 10015, 0, 300, 300, 0, 300], 'half_gain': [1261, 0, 0, 0, 0, 1941, 0, 0, 0, 10147, 9845, 9979, 340, 340, 0, 320], 'half_gain_pi_sigma': [673, 0, 0, 0, 0, 975, 0, 0, 0, 0, 5049, 0, 340, 0, 0, 337], 'type': 'gauss'}, 'pi_EgGf': {'gain': [32000, 0, 30000, 16000], 'sigma': [0.586, 0, 0.8, 0.44643], 'type': 'flat_top'}, 'pi_EgGf_Q': {'gain': [0, 0, 12147, 18764], 'sigma': [0, 0, 0.44193131519875684, 0.18530539250720215], 'phase': [0, 0, 18.0, 24.0], 'half_sigma': [0, 0, 0.212, 0.172], 'half_phase': [0, 0, 18.0, 21.0], 'type': 'flat_top'}, 'pi_f0g1': {'gain': [32000, 32000, 32000, 32000], 'sigma': [0.536, 0.585, 1.54, 1.04], 'idle': [3, 6, 12, 8], 'type': 'flat_top'}, 'pulse_pp': {'gain': [1750, 3550, 0, 0], 'filename': '240920_3_qram_4q_2qubit_++gg'}, 'pulse_1p': {'gain': [3500, 4375, 0, 0], 'filename': '240920_qram_4q_2qubit_e+gg'}, 'pulse_p1': {'gain': [3000, 5530, 0, 0], 'filename': '240920_qram_4q_2qubit_+egg'}, 'pihalf_ge_robust': {'gain': [7559, 7660, 7559, 7559, 4843, 4462, 4462, 4144, 20111, 20111, 20111, 20111, 2375, 2375, 2375, 2375], 'filename': ['X_2_Q0', 'X_2_Q1', 'X_2_Q2', 'X_2_Q3']}, 'pi_ge_slow': {'gain': [-1, 100, -1, -1], 'sigma': [-1, 0.25, -1, -1], 'type': 'gauss'}, 'pi_Q1_ZZ_slow': {'gain': [100, 0, -1, -1], 'sigma': [0.25, 0, -1, -1], 'type': 'gauss'}}}}, 'hw': {'soc': {'dacs': {'qubit': {'ch': [0, 1, 2, 3], 'type': 'full', 'nyquist': [2, 1, 2, 2], 'mixer_freq': [0, 0, 0, 0]}, 'swap': {'ch': 1, 'type': 'full', 'nyquist': 1, 'mixer_freq': 0}, 'swap_f0g1': {'ch': [1, 1, 5, 5], 'type': ['full', 'full', 'full', 'full'], 'nyquist': 1, 'mixer_freq': 0}, 'swap_Q': {'ch': [0, -1, 2, 3], 'type': ['full', 'None', 'full', 'full'], 'nyquist': [2, 0, 2, 2], 'mixer_freq': 0}, 'readout': {'ch': [6, 4, 6, 6], 'full_mux_chs': [5, 4, 5, 5], 'type': ['mux4', 'full', 'mux4', 'mux4'], 'mixer_freq': [7250, 5795.8115578931565, 7250, 7250], 'nyquist': [2, 2, 2, 2]}, 'res_pump': {'ch': 4, 'type': 'full', 'mixer_freq': 0, 'nyquist': 2}, 'delay_chs': {'ch': [0, 1, 2, 3, 4, 5, 6], 'delay_ns': [4.0, 0.0, 5.0, 3.0, 25, 60, 71]}}, 'adcs': {'readout': {'ch': [0, 1, 2, 3]}}}, 'lo': {'twpa': {'frequency': '8210.0e6', 'power': -1.5}, 'readout': {'frequency': 0, 'power': 0}}}, 'aliases': {'readout_LO': 'SC_20A1', 'twpa_LO': 'SC_26C1', 'soc': 'Qick_QRAM'}, 'expt': {'start': 0, 'step': 1, 'expts': 10, 'reps': 2000, 'loops': 10, 'pulse_type': 'flat_top', 'post_process': 'scale', 'singleshot_reps': 15000, 'measure_f': False, 'init_state': '|1>|1>', 'qDrive': 3, 'qubits': [3, 1], 'measure_qubits': [3, 1], 'full_mux_expt': True, 'resonator_reset': [0, 2, 3]}}\n"
     ]
    },
    {
     "data": {
      "application/vnd.jupyter.widget-view+json": {
       "model_id": "f48493e3b392487db07f353a8be42527",
       "version_major": 2,
       "version_minor": 0
      },
      "text/plain": [
       "  0%|          | 0/4 [00:00<?, ?it/s]"
      ]
     },
     "metadata": {},
     "output_type": "display_data"
    },
    {
     "name": "stdout",
     "output_type": "stream",
     "text": [
      "Qubit  (3)\n",
      "ge fidelity (%): 76.96000000000001 \t angle (deg): 0.0 \t threshold ge: 164.0293210426148\n",
      "Qubit  (1)\n",
      "ge fidelity (%): 41.25150476698447 \t angle (deg): 0.0 \t threshold ge: 322.27347507555197\n"
     ]
    },
    {
     "data": {
      "application/vnd.jupyter.widget-view+json": {
       "model_id": "1e613e0b9b284125b5bc752887e9a84c",
       "version_major": 2,
       "version_minor": 0
      },
      "text/plain": [
       "  0%|          | 0/10 [00:00<?, ?it/s]"
      ]
     },
     "metadata": {},
     "output_type": "display_data"
    },
    {
     "name": "stdout",
     "output_type": "stream",
     "text": [
      "Saving S:\\QRAM\\qram_4QR2\\data\\data_241025\\00090_NPulseExptEgGfQ31.h5\n",
      "Saved S:\\QRAM\\qram_4QR2\\data\\data_241025\\00090_NPulseExptEgGfQ31.h5\n",
      "[0.4313036  3.48920534 6.38397429]\n",
      "Attempted to init fitparam 0 to 0.0, which is out of bounds 0.0 to 0.0. Instead init to 0.0\n",
      "Warning: fit failed with error: Each lower bound must be strictly less than each upper bound.\n",
      "[0.0, 0.0, 10]\n",
      "Warning: fit failed with error: Optimal parameters not found: The maximum number of function evaluations is exceeded.\n",
      "[168.04778278563174, 0.0, 10]\n",
      "[ 0.5971419  -3.32952807  5.53159669]\n",
      "Attempted to init fitparam 0 to 0.0, which is out of bounds 0.0 to 0.0. Instead init to 0.0\n",
      "Warning: fit failed with error: Each lower bound must be strictly less than each upper bound.\n",
      "[0.0, 0.0, 10]\n",
      "Warning: fit failed with error: Optimal parameters not found: The maximum number of function evaluations is exceeded.\n",
      "[327.439344954646, 0.0, 10]\n",
      "From QA: adjust length to 0.18896844646867458\n",
      "\tadjust ratio 0.9806155258725713\n",
      "\n",
      "From QB: adjust length to 0.18879765411135738\n",
      "\tadjust ratio 0.9815026218382173\n",
      "best 0 inf\n",
      "pi len precise 0.18530539250720215 adjustment ratio 1.0 from Q1\n",
      "for gain 18764.70588235294 added swap pi len from error amplification 0.18530539250720215\n",
      "----------- STARTING GAIN 19500.0 -----------\n",
      "-------- swap length rabi --------\n",
      "gain 19500 freq 5139.552055100162\n"
     ]
    },
    {
     "data": {
      "application/vnd.jupyter.widget-view+json": {
       "model_id": "57b284a86fd647c28db690f479fa34ae",
       "version_major": 2,
       "version_minor": 0
      },
      "text/plain": [
       "  0%|          | 0/101 [00:00<?, ?it/s]"
      ]
     },
     "metadata": {},
     "output_type": "display_data"
    },
    {
     "name": "stdout",
     "output_type": "stream",
     "text": [
      "Saving S:\\QRAM\\qram_4QR2\\data\\data_241025\\00092_length_rabi_EgGf_qubit31.h5\n",
      "Saved S:\\QRAM\\qram_4QR2\\data\\data_241025\\00092_length_rabi_EgGf_qubit31.h5\n",
      "Attempted to init fitparam 0 to 0.0, which is out of bounds 0.0 to 0.0. Instead init to 0.0\n",
      "Attempted to init fitparam 4 to 0.0, which is out of bounds 0.0 to 0.0. Instead init to 0.0\n",
      "Warning: fit failed with error: Each lower bound must be strictly less than each upper bound.\n",
      "Attempted to init fitparam 0 to 0.0, which is out of bounds 0.0 to 0.0. Instead init to 0.0\n",
      "Attempted to init fitparam 4 to 0.0, which is out of bounds 0.0 to 0.0. Instead init to 0.0\n",
      "Warning: fit failed with error: Each lower bound must be strictly less than each upper bound.\n",
      "best 0 0.04130953404001757\n",
      "Pi length from amps data (qubit A) [us]: 0.17853124431578662\n",
      "\tPi/2 length from avgq data (qubit A) [us]: 0.08926562215789331\n",
      "\tDecay time [us]: 4.0128599211506915\n",
      "Pi length from avgq data (qubit A) [us]: 0.3712871287128713\n",
      "\tPi/2 length from avgq data (qubit A) [us]: 0.18564356435643564\n",
      "\tDecay time [us]: 0.9900990099009901\n",
      "Pi length from amps data (qubit B) [us]: 0.18358767606823773\n",
      "\tPi/2 length from avgq data (qubit B) [us]: 0.09179383803411886\n",
      "\tDecay time [us]: 2.9975848852273344\n",
      "Pi length from avgq data (qubit B) [us]: 0.3712871287128713\n",
      "\tPi/2 length from avgq data (qubit B) [us]: 0.18564356435643564\n",
      "\tDecay time [us]: 0.9900990099009901\n",
      "max QA amp: 248.7313247011327\n",
      "min QA amp: 95.02677628276713\n",
      "max QB amp: 360.6304412745139\n",
      "min QB amp: 297.1382458049745\n",
      "for gain 19500.0 added swap pi len from length rabi 0.17853124431578662\n",
      "-------- swap pi minus pi --------\n",
      "{'device': {'readout': {'trig_offset': 150, 'lo_sideband': [1, 1, 1, 1], 'frequency': [-439.97500000000036, 0.0, 452.3682333333336, -278.89999999999964], 'gain': [0.17, 0.0001, 0.25, 0.17], 'kappa_ext': [0.157, 0.065, 0.182, 0.104], 'kerr': [-0.0045, 0, 0.008, -0.003], 't_rise_reset': [0.5, 1, 0.5, 0.5], 'readout_length': [4, 4, 4, 4], 'frequency_ef': [-440.97500000000036, 0.0, 453.3682333333336, -280.35364238410557], 'readout_length_ef': [10.0, 7.0, 4.0, 8.0], 'relax_delay': [450, 450, 450, 450]}, 'qubit': {'f_ge': [4111.097866562327, 4105.838904759637, 4110.958153299016, 4110.546407850519, 3442.8755721075536, 3448.5530242338505, 3447.060317317807, 3446.4929792801067, 4762.761504132457, 4761.823567235975, 4762.909473544484, 4762.369813422167, 4380.698604555338, 4379.604868123916, 4380.717837106693, 4381.248121020163], 'f_ge_robust': [4114.313815659153, 4108.147701523904, 4114.310372455052, 4114.310372455052, 3443.0032303441935, 3448.345849629168, 0, 0, 4763.941, 4763.941, 4763.941, 4763.941, 4384.25034225973, 4384.25034225973, 4384.25034225973, 4384.25034225973], 'f_ef': [3884.6269161242526, 0.0, 0.0, 0.0, 0.0, 3348.085433174199, 0.0, 0.0, 4571.9056482340775, 4570.996526541673, 4573.280687567687, 0.0, 4211.617732525247, 4205.61697813965, 0.0, 4209.925086260656], 'f_EgGf': [2686.53594683, 0, 2017.3, 2414.92850999], 'f_EgGf_Q': [0, 0, 5885.585546008087, 5139.552055100162], 'f_f0g1': [1184.4, 999.8, 1632.9833333333333, 1620.9166666666665], 'gs': [52.40296404695958, 54.81794456602636, 43.49513117058557, 4.930653352423196, 2.6415018214608046, 6.386231497692186], 'pulses': {'pi_ge': {'sigma': [0.02, 0.02, 0.02, 0.02, 0.025, 0.025, 0.025, 0.025, 0.015, 0.015, 0.015, 0.015, 0.025, 0.025, 0.025, 0.025], 'gain': [1849, 1914, 0, 1855, 2834, 2504, 2648, 2631, 9155, 9155, 9155, 9155, 599, 599, 599, 599], 'half_gain': [1856, 1835, 1873, 1867, 2382, 2186, 2248, 2289, 9253, 9253, 9253, 9253, 524, 524, 524, 524], 'half_correction_phase': [0, 0, 0, 0, 0, 0, 0, 0, 0, 0, 0, 0, 0, 0, 0, 0, 0], 'half_gain_pi_sigma': [927, 0, 0, 0, 0, 1315, 0, 0, 0, 0, 7212, 0, 0, 0, 0, 460], 'type': 'gauss'}, 'pi_ef': {'sigma': [0.02, 0.02, 0.02, 0.02, 0.025, 0.025, 0.025, 0.025, 0.015, 0.015, 0.015, 0.015, 0.03, 0.03, 0.03, 0.03], 'gain': [1280, 0, 0, 0, 0, 1912, 0, 0, 10000, 10079, 10015, 0, 300, 300, 0, 300], 'half_gain': [1261, 0, 0, 0, 0, 1941, 0, 0, 0, 10147, 9845, 9979, 340, 340, 0, 320], 'half_gain_pi_sigma': [673, 0, 0, 0, 0, 975, 0, 0, 0, 0, 5049, 0, 340, 0, 0, 337], 'type': 'gauss'}, 'pi_EgGf': {'gain': [32000, 0, 30000, 16000], 'sigma': [0.586, 0, 0.8, 0.44643], 'type': 'flat_top'}, 'pi_EgGf_Q': {'gain': [0, 0, 12147, 19500], 'sigma': [0, 0, 0.44193131519875684, 0.17853124431578662], 'phase': [0, 0, 18.0, 24.0], 'half_sigma': [0, 0, 0.212, 0.172], 'half_phase': [0, 0, 18.0, 21.0], 'type': 'flat_top'}, 'pi_f0g1': {'gain': [32000, 32000, 32000, 32000], 'sigma': [0.536, 0.585, 1.54, 1.04], 'idle': [3, 6, 12, 8], 'type': 'flat_top'}, 'pulse_pp': {'gain': [1750, 3550, 0, 0], 'filename': '240920_3_qram_4q_2qubit_++gg'}, 'pulse_1p': {'gain': [3500, 4375, 0, 0], 'filename': '240920_qram_4q_2qubit_e+gg'}, 'pulse_p1': {'gain': [3000, 5530, 0, 0], 'filename': '240920_qram_4q_2qubit_+egg'}, 'pihalf_ge_robust': {'gain': [7559, 7660, 7559, 7559, 4843, 4462, 4462, 4144, 20111, 20111, 20111, 20111, 2375, 2375, 2375, 2375], 'filename': ['X_2_Q0', 'X_2_Q1', 'X_2_Q2', 'X_2_Q3']}, 'pi_ge_slow': {'gain': [-1, 100, -1, -1], 'sigma': [-1, 0.25, -1, -1], 'type': 'gauss'}, 'pi_Q1_ZZ_slow': {'gain': [100, 0, -1, -1], 'sigma': [0.25, 0, -1, -1], 'type': 'gauss'}}}}, 'hw': {'soc': {'dacs': {'qubit': {'ch': [0, 1, 2, 3], 'type': 'full', 'nyquist': [2, 1, 2, 2], 'mixer_freq': [0, 0, 0, 0]}, 'swap': {'ch': 1, 'type': 'full', 'nyquist': 1, 'mixer_freq': 0}, 'swap_f0g1': {'ch': [1, 1, 5, 5], 'type': ['full', 'full', 'full', 'full'], 'nyquist': 1, 'mixer_freq': 0}, 'swap_Q': {'ch': [0, -1, 2, 3], 'type': ['full', 'None', 'full', 'full'], 'nyquist': [2, 0, 2, 2], 'mixer_freq': 0}, 'readout': {'ch': [6, 4, 6, 6], 'full_mux_chs': [5, 4, 5, 5], 'type': ['mux4', 'full', 'mux4', 'mux4'], 'mixer_freq': [7250, 5795.8115578931565, 7250, 7250], 'nyquist': [2, 2, 2, 2]}, 'res_pump': {'ch': 4, 'type': 'full', 'mixer_freq': 0, 'nyquist': 2}, 'delay_chs': {'ch': [0, 1, 2, 3, 4, 5, 6], 'delay_ns': [4.0, 0.0, 5.0, 3.0, 25, 60, 71]}}, 'adcs': {'readout': {'ch': [0, 1, 2, 3]}}}, 'lo': {'twpa': {'frequency': '8210.0e6', 'power': -1.5}, 'readout': {'frequency': 0, 'power': 0}}}, 'aliases': {'readout_LO': 'SC_20A1', 'twpa_LO': 'SC_26C1', 'soc': 'Qick_QRAM'}, 'expt': {'start_N': 0, 'step_N': 1, 'expts_N': 10, 'start_f': 5139.052055100162, 'step_f': 0.03333333333333333, 'expts_f': 31, 'reps': 1000, 'loops': 1, 'pulse_type': 'flat_top', 'post_process': 'scale', 'singleshot_reps': 15000, 'measure_f': False, 'init_state': '|1>|1>', 'qDrive': 3, 'qubits': [3, 1], 'measure_qubits': [3, 1], 'readout_cool': False, 'n_init_readout': 1, 'n_trig': 1, 'init_read_wait_us': 2, 'full_mux_expt': True, 'resonator_reset': [0, 2, 3]}}\n"
     ]
    },
    {
     "data": {
      "application/vnd.jupyter.widget-view+json": {
       "model_id": "e9c4d78206234bf98e3c0a9ce6ed2394",
       "version_major": 2,
       "version_minor": 0
      },
      "text/plain": [
       "  0%|          | 0/4 [00:00<?, ?it/s]"
      ]
     },
     "metadata": {},
     "output_type": "display_data"
    },
    {
     "name": "stdout",
     "output_type": "stream",
     "text": [
      "Qubit  (3)\n",
      "ge fidelity (%): 75.80000000000003 \t angle (deg): 0.0 \t threshold ge: 163.65489657635715\n",
      "Qubit  (1)\n",
      "ge fidelity (%): 1.046666666666679 \t angle (deg): 0.0 \t threshold ge: 64.50485678031163\n"
     ]
    },
    {
     "data": {
      "application/vnd.jupyter.widget-view+json": {
       "model_id": "95dcd228d301489096fed26bf7a0c72a",
       "version_major": 2,
       "version_minor": 0
      },
      "text/plain": [
       "  0%|          | 0/10 [00:00<?, ?it/s]"
      ]
     },
     "metadata": {},
     "output_type": "display_data"
    },
    {
     "name": "stdout",
     "output_type": "stream",
     "text": [
      "Attempted to init fitparam 3 to 0.0, which is out of bounds 0 to 0.18098612083682183. Instead init to 0.09049306041841092\n",
      "Fit best freq (qA) 5139.240261999657 which is -0.31179310050447384 away from old freq 5139.552055100162\n",
      "Best freq from pi/-pi on Q3 5139.240261999657\n",
      "Attempted to init fitparam 3 to 0.0, which is out of bounds 0 to 0.07022628428254862. Instead init to 0.03511314214127431\n",
      "Fit best freq (qA) 5139.324354015778 which is -0.22770108438362513 away from old freq 5139.552055100162\n",
      "Best freq from pi/-pi on Q1 5139.324354015778\n",
      "best 0 0.0771206958619909\n",
      "Saving S:\\QRAM\\qram_4QR2\\data\\data_241025\\00097_PiMinusPiEgGfExptQ31.h5\n",
      "Saved S:\\QRAM\\qram_4QR2\\data\\data_241025\\00097_PiMinusPiEgGfExptQ31.h5\n",
      "for gain 19500.0 added swap pi freq from pi minus pi 5139.240261999657\n",
      "using opt freq 5139.240261999657\n",
      "-------- swap error amplification --------\n",
      "{'device': {'readout': {'trig_offset': 150, 'lo_sideband': [1, 1, 1, 1], 'frequency': [-439.97500000000036, 0.0, 452.3682333333336, -278.89999999999964], 'gain': [0.17, 0.035, 0.25, 0.17], 'kappa_ext': [0.157, 0.065, 0.182, 0.104], 'kerr': [-0.0045, 0, 0.008, -0.003], 't_rise_reset': [0.5, 1, 0.5, 0.5], 'readout_length': [4, 4, 4, 4], 'frequency_ef': [-440.97500000000036, 0.0, 453.3682333333336, -280.35364238410557], 'readout_length_ef': [10.0, 7.0, 4.0, 8.0], 'relax_delay': [450, 450, 450, 450]}, 'qubit': {'f_ge': [4111.097866562327, 4105.838904759637, 4110.958153299016, 4110.546407850519, 3442.8755721075536, 3448.5530242338505, 3447.060317317807, 3446.4929792801067, 4762.761504132457, 4761.823567235975, 4762.909473544484, 4762.369813422167, 4380.698604555338, 4379.604868123916, 4380.717837106693, 4381.248121020163], 'f_ge_robust': [4114.313815659153, 4108.147701523904, 4114.310372455052, 4114.310372455052, 3443.0032303441935, 3448.345849629168, 0, 0, 4763.941, 4763.941, 4763.941, 4763.941, 4384.25034225973, 4384.25034225973, 4384.25034225973, 4384.25034225973], 'f_ef': [3884.6269161242526, 0.0, 0.0, 0.0, 0.0, 3348.085433174199, 0.0, 0.0, 4571.9056482340775, 4570.996526541673, 4573.280687567687, 0.0, 4211.617732525247, 4205.61697813965, 0.0, 4209.925086260656], 'f_EgGf': [2686.53594683, 0, 2017.3, 2414.92850999], 'f_EgGf_Q': [0, 0, 5885.585546008087, 5139.240261999657], 'f_f0g1': [1184.4, 999.8, 1632.9833333333333, 1620.9166666666665], 'gs': [52.40296404695958, 54.81794456602636, 43.49513117058557, 4.930653352423196, 2.6415018214608046, 6.386231497692186], 'pulses': {'pi_ge': {'sigma': [0.02, 0.02, 0.02, 0.02, 0.025, 0.025, 0.025, 0.025, 0.015, 0.015, 0.015, 0.015, 0.025, 0.025, 0.025, 0.025], 'gain': [1849, 1914, 0, 1855, 2834, 2504, 2648, 2631, 9155, 9155, 9155, 9155, 599, 599, 599, 599], 'half_gain': [1856, 1835, 1873, 1867, 2382, 2186, 2248, 2289, 9253, 9253, 9253, 9253, 524, 524, 524, 524], 'half_correction_phase': [0, 0, 0, 0, 0, 0, 0, 0, 0, 0, 0, 0, 0, 0, 0, 0, 0], 'half_gain_pi_sigma': [927, 0, 0, 0, 0, 1315, 0, 0, 0, 0, 7212, 0, 0, 0, 0, 460], 'type': 'gauss'}, 'pi_ef': {'sigma': [0.02, 0.02, 0.02, 0.02, 0.025, 0.025, 0.025, 0.025, 0.015, 0.015, 0.015, 0.015, 0.03, 0.03, 0.03, 0.03], 'gain': [1280, 0, 0, 0, 0, 1912, 0, 0, 10000, 10079, 10015, 0, 300, 300, 0, 300], 'half_gain': [1261, 0, 0, 0, 0, 1941, 0, 0, 0, 10147, 9845, 9979, 340, 340, 0, 320], 'half_gain_pi_sigma': [673, 0, 0, 0, 0, 975, 0, 0, 0, 0, 5049, 0, 340, 0, 0, 337], 'type': 'gauss'}, 'pi_EgGf': {'gain': [32000, 0, 30000, 16000], 'sigma': [0.586, 0, 0.8, 0.44643], 'type': 'flat_top'}, 'pi_EgGf_Q': {'gain': [0, 0, 12147, 19500], 'sigma': [0, 0, 0.44193131519875684, 0.17853124431578662], 'phase': [0, 0, 18.0, 24.0], 'half_sigma': [0, 0, 0.212, 0.172], 'half_phase': [0, 0, 18.0, 21.0], 'type': 'flat_top'}, 'pi_f0g1': {'gain': [32000, 32000, 32000, 32000], 'sigma': [0.536, 0.585, 1.54, 1.04], 'idle': [3, 6, 12, 8], 'type': 'flat_top'}, 'pulse_pp': {'gain': [1750, 3550, 0, 0], 'filename': '240920_3_qram_4q_2qubit_++gg'}, 'pulse_1p': {'gain': [3500, 4375, 0, 0], 'filename': '240920_qram_4q_2qubit_e+gg'}, 'pulse_p1': {'gain': [3000, 5530, 0, 0], 'filename': '240920_qram_4q_2qubit_+egg'}, 'pihalf_ge_robust': {'gain': [7559, 7660, 7559, 7559, 4843, 4462, 4462, 4144, 20111, 20111, 20111, 20111, 2375, 2375, 2375, 2375], 'filename': ['X_2_Q0', 'X_2_Q1', 'X_2_Q2', 'X_2_Q3']}, 'pi_ge_slow': {'gain': [-1, 100, -1, -1], 'sigma': [-1, 0.25, -1, -1], 'type': 'gauss'}, 'pi_Q1_ZZ_slow': {'gain': [100, 0, -1, -1], 'sigma': [0.25, 0, -1, -1], 'type': 'gauss'}}}}, 'hw': {'soc': {'dacs': {'qubit': {'ch': [0, 1, 2, 3], 'type': 'full', 'nyquist': [2, 1, 2, 2], 'mixer_freq': [0, 0, 0, 0]}, 'swap': {'ch': 1, 'type': 'full', 'nyquist': 1, 'mixer_freq': 0}, 'swap_f0g1': {'ch': [1, 1, 5, 5], 'type': ['full', 'full', 'full', 'full'], 'nyquist': 1, 'mixer_freq': 0}, 'swap_Q': {'ch': [0, -1, 2, 3], 'type': ['full', 'None', 'full', 'full'], 'nyquist': [2, 0, 2, 2], 'mixer_freq': 0}, 'readout': {'ch': [6, 4, 6, 6], 'full_mux_chs': [5, 4, 5, 5], 'type': ['mux4', 'full', 'mux4', 'mux4'], 'mixer_freq': [7250, 5795.8115578931565, 7250, 7250], 'nyquist': [2, 2, 2, 2]}, 'res_pump': {'ch': 4, 'type': 'full', 'mixer_freq': 0, 'nyquist': 2}, 'delay_chs': {'ch': [0, 1, 2, 3, 4, 5, 6], 'delay_ns': [4.0, 0.0, 5.0, 3.0, 25, 60, 71]}}, 'adcs': {'readout': {'ch': [0, 1, 2, 3]}}}, 'lo': {'twpa': {'frequency': '8210.0e6', 'power': -1.5}, 'readout': {'frequency': 0, 'power': 0}}}, 'aliases': {'readout_LO': 'SC_20A1', 'twpa_LO': 'SC_26C1', 'soc': 'Qick_QRAM'}, 'expt': {'start': 0, 'step': 1, 'expts': 10, 'reps': 2000, 'loops': 10, 'pulse_type': 'flat_top', 'post_process': 'scale', 'singleshot_reps': 15000, 'measure_f': False, 'init_state': '|1>|1>', 'qDrive': 3, 'qubits': [3, 1], 'measure_qubits': [3, 1], 'full_mux_expt': True, 'resonator_reset': [0, 2, 3]}}\n"
     ]
    },
    {
     "data": {
      "application/vnd.jupyter.widget-view+json": {
       "model_id": "e261cc32490f4621b0b7c9e5b4429d22",
       "version_major": 2,
       "version_minor": 0
      },
      "text/plain": [
       "  0%|          | 0/4 [00:00<?, ?it/s]"
      ]
     },
     "metadata": {},
     "output_type": "display_data"
    },
    {
     "name": "stdout",
     "output_type": "stream",
     "text": [
      "Qubit  (3)\n",
      "ge fidelity (%): 76.44598439895994 \t angle (deg): 0.0 \t threshold ge: 165.95546112613482\n",
      "Qubit  (1)\n",
      "ge fidelity (%): 44.47999999999998 \t angle (deg): 0.0 \t threshold ge: 317.5926905238897\n"
     ]
    },
    {
     "data": {
      "application/vnd.jupyter.widget-view+json": {
       "model_id": "200fb39237b4490ab4149a56c2519f3a",
       "version_major": 2,
       "version_minor": 0
      },
      "text/plain": [
       "  0%|          | 0/10 [00:00<?, ?it/s]"
      ]
     },
     "metadata": {},
     "output_type": "display_data"
    },
    {
     "name": "stdout",
     "output_type": "stream",
     "text": [
      "Saving S:\\QRAM\\qram_4QR2\\data\\data_241025\\00091_NPulseExptEgGfQ31.h5\n",
      "Saved S:\\QRAM\\qram_4QR2\\data\\data_241025\\00091_NPulseExptEgGfQ31.h5\n",
      "[0.46488268 5.06551732 4.65407744]\n",
      "Attempted to init fitparam 0 to 0.0, which is out of bounds 0.0 to 0.0. Instead init to 0.0\n",
      "Warning: fit failed with error: Each lower bound must be strictly less than each upper bound.\n",
      "[0.0, 0.0, 10]\n",
      "Warning: fit failed with error: Optimal parameters not found: The maximum number of function evaluations is exceeded.\n",
      "[171.05165057209055, 0.0, 10]\n",
      "[ 0.47491045 -4.16818863  5.59504797]\n",
      "Attempted to init fitparam 0 to 0.0, which is out of bounds 0.0 to 0.0. Instead init to 0.0\n",
      "Warning: fit failed with error: Each lower bound must be strictly less than each upper bound.\n",
      "[0.0, 0.0, 10]\n",
      "Warning: fit failed with error: Optimal parameters not found: The maximum number of function evaluations is exceeded.\n",
      "[315.9714780254939, 0.0, 10]\n",
      "From QA: adjust length to 0.1837009118204034\n",
      "\tadjust ratio 0.971858237101888\n",
      "\n",
      "From QB: adjust length to 0.1827634244699497\n",
      "\tadjust ratio 0.9768433965032268\n",
      "best 0 inf\n",
      "pi len precise 0.17853124431578662 adjustment ratio 1.0 from Q1\n",
      "for gain 19500.0 added swap pi len from error amplification 0.17853124431578662\n",
      "----------- STARTING GAIN 20235.294117647056 -----------\n",
      "-------- swap length rabi --------\n",
      "gain 20235 freq 5138.797244436693\n"
     ]
    },
    {
     "data": {
      "application/vnd.jupyter.widget-view+json": {
       "model_id": "a592b938cba545bc80173f0ede583166",
       "version_major": 2,
       "version_minor": 0
      },
      "text/plain": [
       "  0%|          | 0/101 [00:00<?, ?it/s]"
      ]
     },
     "metadata": {},
     "output_type": "display_data"
    },
    {
     "name": "stdout",
     "output_type": "stream",
     "text": [
      "Saving S:\\QRAM\\qram_4QR2\\data\\data_241025\\00093_length_rabi_EgGf_qubit31.h5\n",
      "Saved S:\\QRAM\\qram_4QR2\\data\\data_241025\\00093_length_rabi_EgGf_qubit31.h5\n",
      "Attempted to init fitparam 0 to 0.0, which is out of bounds 0.0 to 0.0. Instead init to 0.0\n",
      "Attempted to init fitparam 4 to 0.0, which is out of bounds 0.0 to 0.0. Instead init to 0.0\n",
      "Warning: fit failed with error: Each lower bound must be strictly less than each upper bound.\n",
      "Attempted to init fitparam 0 to 0.0, which is out of bounds 0.0 to 0.0. Instead init to 0.0\n",
      "Attempted to init fitparam 4 to 0.0, which is out of bounds 0.0 to 0.0. Instead init to 0.0\n",
      "Warning: fit failed with error: Each lower bound must be strictly less than each upper bound.\n",
      "best 0 0.04043542636619056\n",
      "Pi length from amps data (qubit A) [us]: 0.17535741535123753\n",
      "\tPi/2 length from avgq data (qubit A) [us]: 0.08767870767561876\n",
      "\tDecay time [us]: 3.2315805579404606\n",
      "Pi length from avgq data (qubit A) [us]: 0.3581828771112406\n",
      "\tPi/2 length from avgq data (qubit A) [us]: 0.1790914385556203\n",
      "\tDecay time [us]: 0.9551543389633081\n",
      "Pi length from amps data (qubit B) [us]: 0.17658467389982005\n",
      "\tPi/2 length from avgq data (qubit B) [us]: 0.08829233694991002\n",
      "\tDecay time [us]: 1.9502864874362749\n",
      "Pi length from avgq data (qubit B) [us]: 0.3581828771112406\n",
      "\tPi/2 length from avgq data (qubit B) [us]: 0.1790914385556203\n",
      "\tDecay time [us]: 0.9551543389633081\n",
      "max QA amp: 259.1107743361434\n",
      "min QA amp: 93.52132260195235\n",
      "max QB amp: 357.74756227792335\n",
      "min QB amp: 278.21081415789547\n",
      "for gain 20235.294117647056 added swap pi len from length rabi 0.17535741535123753\n",
      "-------- swap pi minus pi --------\n",
      "{'device': {'readout': {'trig_offset': 150, 'lo_sideband': [1, 1, 1, 1], 'frequency': [-439.97500000000036, 0.0, 452.3682333333336, -278.89999999999964], 'gain': [0.17, 0.0001, 0.25, 0.17], 'kappa_ext': [0.157, 0.065, 0.182, 0.104], 'kerr': [-0.0045, 0, 0.008, -0.003], 't_rise_reset': [0.5, 1, 0.5, 0.5], 'readout_length': [4, 4, 4, 4], 'frequency_ef': [-440.97500000000036, 0.0, 453.3682333333336, -280.35364238410557], 'readout_length_ef': [10.0, 7.0, 4.0, 8.0], 'relax_delay': [450, 450, 450, 450]}, 'qubit': {'f_ge': [4111.097866562327, 4105.838904759637, 4110.958153299016, 4110.546407850519, 3442.8755721075536, 3448.5530242338505, 3447.060317317807, 3446.4929792801067, 4762.761504132457, 4761.823567235975, 4762.909473544484, 4762.369813422167, 4380.698604555338, 4379.604868123916, 4380.717837106693, 4381.248121020163], 'f_ge_robust': [4114.313815659153, 4108.147701523904, 4114.310372455052, 4114.310372455052, 3443.0032303441935, 3448.345849629168, 0, 0, 4763.941, 4763.941, 4763.941, 4763.941, 4384.25034225973, 4384.25034225973, 4384.25034225973, 4384.25034225973], 'f_ef': [3884.6269161242526, 0.0, 0.0, 0.0, 0.0, 3348.085433174199, 0.0, 0.0, 4571.9056482340775, 4570.996526541673, 4573.280687567687, 0.0, 4211.617732525247, 4205.61697813965, 0.0, 4209.925086260656], 'f_EgGf': [2686.53594683, 0, 2017.3, 2414.92850999], 'f_EgGf_Q': [0, 0, 5885.585546008087, 5138.797244436693], 'f_f0g1': [1184.4, 999.8, 1632.9833333333333, 1620.9166666666665], 'gs': [52.40296404695958, 54.81794456602636, 43.49513117058557, 4.930653352423196, 2.6415018214608046, 6.386231497692186], 'pulses': {'pi_ge': {'sigma': [0.02, 0.02, 0.02, 0.02, 0.025, 0.025, 0.025, 0.025, 0.015, 0.015, 0.015, 0.015, 0.025, 0.025, 0.025, 0.025], 'gain': [1849, 1914, 0, 1855, 2834, 2504, 2648, 2631, 9155, 9155, 9155, 9155, 599, 599, 599, 599], 'half_gain': [1856, 1835, 1873, 1867, 2382, 2186, 2248, 2289, 9253, 9253, 9253, 9253, 524, 524, 524, 524], 'half_correction_phase': [0, 0, 0, 0, 0, 0, 0, 0, 0, 0, 0, 0, 0, 0, 0, 0, 0], 'half_gain_pi_sigma': [927, 0, 0, 0, 0, 1315, 0, 0, 0, 0, 7212, 0, 0, 0, 0, 460], 'type': 'gauss'}, 'pi_ef': {'sigma': [0.02, 0.02, 0.02, 0.02, 0.025, 0.025, 0.025, 0.025, 0.015, 0.015, 0.015, 0.015, 0.03, 0.03, 0.03, 0.03], 'gain': [1280, 0, 0, 0, 0, 1912, 0, 0, 10000, 10079, 10015, 0, 300, 300, 0, 300], 'half_gain': [1261, 0, 0, 0, 0, 1941, 0, 0, 0, 10147, 9845, 9979, 340, 340, 0, 320], 'half_gain_pi_sigma': [673, 0, 0, 0, 0, 975, 0, 0, 0, 0, 5049, 0, 340, 0, 0, 337], 'type': 'gauss'}, 'pi_EgGf': {'gain': [32000, 0, 30000, 16000], 'sigma': [0.586, 0, 0.8, 0.44643], 'type': 'flat_top'}, 'pi_EgGf_Q': {'gain': [0, 0, 12147, 20235], 'sigma': [0, 0, 0.44193131519875684, 0.17535741535123753], 'phase': [0, 0, 18.0, 24.0], 'half_sigma': [0, 0, 0.212, 0.172], 'half_phase': [0, 0, 18.0, 21.0], 'type': 'flat_top'}, 'pi_f0g1': {'gain': [32000, 32000, 32000, 32000], 'sigma': [0.536, 0.585, 1.54, 1.04], 'idle': [3, 6, 12, 8], 'type': 'flat_top'}, 'pulse_pp': {'gain': [1750, 3550, 0, 0], 'filename': '240920_3_qram_4q_2qubit_++gg'}, 'pulse_1p': {'gain': [3500, 4375, 0, 0], 'filename': '240920_qram_4q_2qubit_e+gg'}, 'pulse_p1': {'gain': [3000, 5530, 0, 0], 'filename': '240920_qram_4q_2qubit_+egg'}, 'pihalf_ge_robust': {'gain': [7559, 7660, 7559, 7559, 4843, 4462, 4462, 4144, 20111, 20111, 20111, 20111, 2375, 2375, 2375, 2375], 'filename': ['X_2_Q0', 'X_2_Q1', 'X_2_Q2', 'X_2_Q3']}, 'pi_ge_slow': {'gain': [-1, 100, -1, -1], 'sigma': [-1, 0.25, -1, -1], 'type': 'gauss'}, 'pi_Q1_ZZ_slow': {'gain': [100, 0, -1, -1], 'sigma': [0.25, 0, -1, -1], 'type': 'gauss'}}}}, 'hw': {'soc': {'dacs': {'qubit': {'ch': [0, 1, 2, 3], 'type': 'full', 'nyquist': [2, 1, 2, 2], 'mixer_freq': [0, 0, 0, 0]}, 'swap': {'ch': 1, 'type': 'full', 'nyquist': 1, 'mixer_freq': 0}, 'swap_f0g1': {'ch': [1, 1, 5, 5], 'type': ['full', 'full', 'full', 'full'], 'nyquist': 1, 'mixer_freq': 0}, 'swap_Q': {'ch': [0, -1, 2, 3], 'type': ['full', 'None', 'full', 'full'], 'nyquist': [2, 0, 2, 2], 'mixer_freq': 0}, 'readout': {'ch': [6, 4, 6, 6], 'full_mux_chs': [5, 4, 5, 5], 'type': ['mux4', 'full', 'mux4', 'mux4'], 'mixer_freq': [7250, 5795.8115578931565, 7250, 7250], 'nyquist': [2, 2, 2, 2]}, 'res_pump': {'ch': 4, 'type': 'full', 'mixer_freq': 0, 'nyquist': 2}, 'delay_chs': {'ch': [0, 1, 2, 3, 4, 5, 6], 'delay_ns': [4.0, 0.0, 5.0, 3.0, 25, 60, 71]}}, 'adcs': {'readout': {'ch': [0, 1, 2, 3]}}}, 'lo': {'twpa': {'frequency': '8210.0e6', 'power': -1.5}, 'readout': {'frequency': 0, 'power': 0}}}, 'aliases': {'readout_LO': 'SC_20A1', 'twpa_LO': 'SC_26C1', 'soc': 'Qick_QRAM'}, 'expt': {'start_N': 0, 'step_N': 1, 'expts_N': 10, 'start_f': 5138.297244436693, 'step_f': 0.03333333333333333, 'expts_f': 31, 'reps': 1000, 'loops': 1, 'pulse_type': 'flat_top', 'post_process': 'scale', 'singleshot_reps': 15000, 'measure_f': False, 'init_state': '|1>|1>', 'qDrive': 3, 'qubits': [3, 1], 'measure_qubits': [3, 1], 'readout_cool': False, 'n_init_readout': 1, 'n_trig': 1, 'init_read_wait_us': 2, 'full_mux_expt': True, 'resonator_reset': [0, 2, 3]}}\n"
     ]
    },
    {
     "data": {
      "application/vnd.jupyter.widget-view+json": {
       "model_id": "c65895e0cae74c49bc33fb129aa31908",
       "version_major": 2,
       "version_minor": 0
      },
      "text/plain": [
       "  0%|          | 0/4 [00:00<?, ?it/s]"
      ]
     },
     "metadata": {},
     "output_type": "display_data"
    },
    {
     "name": "stdout",
     "output_type": "stream",
     "text": [
      "Qubit  (3)\n",
      "ge fidelity (%): 79.34607907193818 \t angle (deg): 0.0 \t threshold ge: 167.99027120729474\n",
      "Qubit  (1)\n",
      "ge fidelity (%): 0.715473476009565 \t angle (deg): 0.0 \t threshold ge: 89.69410420337996\n"
     ]
    },
    {
     "data": {
      "application/vnd.jupyter.widget-view+json": {
       "model_id": "30530534723b44758cd42d43433cf684",
       "version_major": 2,
       "version_minor": 0
      },
      "text/plain": [
       "  0%|          | 0/10 [00:00<?, ?it/s]"
      ]
     },
     "metadata": {},
     "output_type": "display_data"
    },
    {
     "name": "stdout",
     "output_type": "stream",
     "text": [
      "Attempted to init fitparam 3 to 0.0, which is out of bounds 0 to 0.29552905182408945. Instead init to 0.14776452591204473\n",
      "Fit best freq (qA) 5138.36554460062 which is -0.4316998360736761 away from old freq 5138.797244436693\n",
      "Best freq from pi/-pi on Q3 5138.36554460062\n",
      "Attempted to init fitparam 3 to 0.0, which is out of bounds 0 to 0.028120131150831854. Instead init to 0.014060065575415927\n",
      "Fit best freq (qA) 5138.323284922704 which is -0.4739595139890298 away from old freq 5138.797244436693\n",
      "Best freq from pi/-pi on Q1 5138.323284922704\n",
      "best 0 0.10258131027346482\n",
      "Saving S:\\QRAM\\qram_4QR2\\data\\data_241025\\00098_PiMinusPiEgGfExptQ31.h5\n",
      "Saved S:\\QRAM\\qram_4QR2\\data\\data_241025\\00098_PiMinusPiEgGfExptQ31.h5\n",
      "for gain 20235.294117647056 added swap pi freq from pi minus pi 5138.36554460062\n",
      "using opt freq 5138.36554460062\n",
      "-------- swap error amplification --------\n",
      "{'device': {'readout': {'trig_offset': 150, 'lo_sideband': [1, 1, 1, 1], 'frequency': [-439.97500000000036, 0.0, 452.3682333333336, -278.89999999999964], 'gain': [0.17, 0.035, 0.25, 0.17], 'kappa_ext': [0.157, 0.065, 0.182, 0.104], 'kerr': [-0.0045, 0, 0.008, -0.003], 't_rise_reset': [0.5, 1, 0.5, 0.5], 'readout_length': [4, 4, 4, 4], 'frequency_ef': [-440.97500000000036, 0.0, 453.3682333333336, -280.35364238410557], 'readout_length_ef': [10.0, 7.0, 4.0, 8.0], 'relax_delay': [450, 450, 450, 450]}, 'qubit': {'f_ge': [4111.097866562327, 4105.838904759637, 4110.958153299016, 4110.546407850519, 3442.8755721075536, 3448.5530242338505, 3447.060317317807, 3446.4929792801067, 4762.761504132457, 4761.823567235975, 4762.909473544484, 4762.369813422167, 4380.698604555338, 4379.604868123916, 4380.717837106693, 4381.248121020163], 'f_ge_robust': [4114.313815659153, 4108.147701523904, 4114.310372455052, 4114.310372455052, 3443.0032303441935, 3448.345849629168, 0, 0, 4763.941, 4763.941, 4763.941, 4763.941, 4384.25034225973, 4384.25034225973, 4384.25034225973, 4384.25034225973], 'f_ef': [3884.6269161242526, 0.0, 0.0, 0.0, 0.0, 3348.085433174199, 0.0, 0.0, 4571.9056482340775, 4570.996526541673, 4573.280687567687, 0.0, 4211.617732525247, 4205.61697813965, 0.0, 4209.925086260656], 'f_EgGf': [2686.53594683, 0, 2017.3, 2414.92850999], 'f_EgGf_Q': [0, 0, 5885.585546008087, 5138.36554460062], 'f_f0g1': [1184.4, 999.8, 1632.9833333333333, 1620.9166666666665], 'gs': [52.40296404695958, 54.81794456602636, 43.49513117058557, 4.930653352423196, 2.6415018214608046, 6.386231497692186], 'pulses': {'pi_ge': {'sigma': [0.02, 0.02, 0.02, 0.02, 0.025, 0.025, 0.025, 0.025, 0.015, 0.015, 0.015, 0.015, 0.025, 0.025, 0.025, 0.025], 'gain': [1849, 1914, 0, 1855, 2834, 2504, 2648, 2631, 9155, 9155, 9155, 9155, 599, 599, 599, 599], 'half_gain': [1856, 1835, 1873, 1867, 2382, 2186, 2248, 2289, 9253, 9253, 9253, 9253, 524, 524, 524, 524], 'half_correction_phase': [0, 0, 0, 0, 0, 0, 0, 0, 0, 0, 0, 0, 0, 0, 0, 0, 0], 'half_gain_pi_sigma': [927, 0, 0, 0, 0, 1315, 0, 0, 0, 0, 7212, 0, 0, 0, 0, 460], 'type': 'gauss'}, 'pi_ef': {'sigma': [0.02, 0.02, 0.02, 0.02, 0.025, 0.025, 0.025, 0.025, 0.015, 0.015, 0.015, 0.015, 0.03, 0.03, 0.03, 0.03], 'gain': [1280, 0, 0, 0, 0, 1912, 0, 0, 10000, 10079, 10015, 0, 300, 300, 0, 300], 'half_gain': [1261, 0, 0, 0, 0, 1941, 0, 0, 0, 10147, 9845, 9979, 340, 340, 0, 320], 'half_gain_pi_sigma': [673, 0, 0, 0, 0, 975, 0, 0, 0, 0, 5049, 0, 340, 0, 0, 337], 'type': 'gauss'}, 'pi_EgGf': {'gain': [32000, 0, 30000, 16000], 'sigma': [0.586, 0, 0.8, 0.44643], 'type': 'flat_top'}, 'pi_EgGf_Q': {'gain': [0, 0, 12147, 20235], 'sigma': [0, 0, 0.44193131519875684, 0.17535741535123753], 'phase': [0, 0, 18.0, 24.0], 'half_sigma': [0, 0, 0.212, 0.172], 'half_phase': [0, 0, 18.0, 21.0], 'type': 'flat_top'}, 'pi_f0g1': {'gain': [32000, 32000, 32000, 32000], 'sigma': [0.536, 0.585, 1.54, 1.04], 'idle': [3, 6, 12, 8], 'type': 'flat_top'}, 'pulse_pp': {'gain': [1750, 3550, 0, 0], 'filename': '240920_3_qram_4q_2qubit_++gg'}, 'pulse_1p': {'gain': [3500, 4375, 0, 0], 'filename': '240920_qram_4q_2qubit_e+gg'}, 'pulse_p1': {'gain': [3000, 5530, 0, 0], 'filename': '240920_qram_4q_2qubit_+egg'}, 'pihalf_ge_robust': {'gain': [7559, 7660, 7559, 7559, 4843, 4462, 4462, 4144, 20111, 20111, 20111, 20111, 2375, 2375, 2375, 2375], 'filename': ['X_2_Q0', 'X_2_Q1', 'X_2_Q2', 'X_2_Q3']}, 'pi_ge_slow': {'gain': [-1, 100, -1, -1], 'sigma': [-1, 0.25, -1, -1], 'type': 'gauss'}, 'pi_Q1_ZZ_slow': {'gain': [100, 0, -1, -1], 'sigma': [0.25, 0, -1, -1], 'type': 'gauss'}}}}, 'hw': {'soc': {'dacs': {'qubit': {'ch': [0, 1, 2, 3], 'type': 'full', 'nyquist': [2, 1, 2, 2], 'mixer_freq': [0, 0, 0, 0]}, 'swap': {'ch': 1, 'type': 'full', 'nyquist': 1, 'mixer_freq': 0}, 'swap_f0g1': {'ch': [1, 1, 5, 5], 'type': ['full', 'full', 'full', 'full'], 'nyquist': 1, 'mixer_freq': 0}, 'swap_Q': {'ch': [0, -1, 2, 3], 'type': ['full', 'None', 'full', 'full'], 'nyquist': [2, 0, 2, 2], 'mixer_freq': 0}, 'readout': {'ch': [6, 4, 6, 6], 'full_mux_chs': [5, 4, 5, 5], 'type': ['mux4', 'full', 'mux4', 'mux4'], 'mixer_freq': [7250, 5795.8115578931565, 7250, 7250], 'nyquist': [2, 2, 2, 2]}, 'res_pump': {'ch': 4, 'type': 'full', 'mixer_freq': 0, 'nyquist': 2}, 'delay_chs': {'ch': [0, 1, 2, 3, 4, 5, 6], 'delay_ns': [4.0, 0.0, 5.0, 3.0, 25, 60, 71]}}, 'adcs': {'readout': {'ch': [0, 1, 2, 3]}}}, 'lo': {'twpa': {'frequency': '8210.0e6', 'power': -1.5}, 'readout': {'frequency': 0, 'power': 0}}}, 'aliases': {'readout_LO': 'SC_20A1', 'twpa_LO': 'SC_26C1', 'soc': 'Qick_QRAM'}, 'expt': {'start': 0, 'step': 1, 'expts': 10, 'reps': 2000, 'loops': 10, 'pulse_type': 'flat_top', 'post_process': 'scale', 'singleshot_reps': 15000, 'measure_f': False, 'init_state': '|1>|1>', 'qDrive': 3, 'qubits': [3, 1], 'measure_qubits': [3, 1], 'full_mux_expt': True, 'resonator_reset': [0, 2, 3]}}\n"
     ]
    },
    {
     "data": {
      "application/vnd.jupyter.widget-view+json": {
       "model_id": "c01a7e94b0974a3bbb66aa87c1de7877",
       "version_major": 2,
       "version_minor": 0
      },
      "text/plain": [
       "  0%|          | 0/4 [00:00<?, ?it/s]"
      ]
     },
     "metadata": {},
     "output_type": "display_data"
    },
    {
     "name": "stdout",
     "output_type": "stream",
     "text": [
      "Qubit  (3)\n",
      "ge fidelity (%): 78.83333333333333 \t angle (deg): 0.0 \t threshold ge: 166.68159059316852\n",
      "Qubit  (1)\n",
      "ge fidelity (%): 46.03843545125231 \t angle (deg): 0.0 \t threshold ge: 318.37356203379915\n"
     ]
    },
    {
     "data": {
      "application/vnd.jupyter.widget-view+json": {
       "model_id": "00ce64a3c1c144b6acdde778f60bbf99",
       "version_major": 2,
       "version_minor": 0
      },
      "text/plain": [
       "  0%|          | 0/10 [00:00<?, ?it/s]"
      ]
     },
     "metadata": {},
     "output_type": "display_data"
    },
    {
     "name": "stdout",
     "output_type": "stream",
     "text": [
      "Saving S:\\QRAM\\qram_4QR2\\data\\data_241025\\00092_NPulseExptEgGfQ31.h5\n",
      "Saved S:\\QRAM\\qram_4QR2\\data\\data_241025\\00092_NPulseExptEgGfQ31.h5\n",
      "[0.45094228 8.47112915 1.44036162]\n",
      "Attempted to init fitparam 0 to 0.0, which is out of bounds 0.0 to 0.0. Instead init to 0.0\n",
      "Warning: fit failed with error: Each lower bound must be strictly less than each upper bound.\n",
      "[0.0, 0.0, 10]\n",
      "[170.94797415  14.32054005  99.98256539]\n",
      "[ 0.56051299 -5.04588514  2.07826675]\n",
      "Attempted to init fitparam 0 to 0.0, which is out of bounds 0.0 to 0.0. Instead init to 0.0\n",
      "Warning: fit failed with error: Each lower bound must be strictly less than each upper bound.\n",
      "[0.0, 0.0, 10]\n",
      "Warning: fit failed with error: Optimal parameters not found: The maximum number of function evaluations is exceeded.\n",
      "[319.195654942659, 0.0, 10]\n",
      "From QA: adjust length to 0.1840176210933625\n",
      "\tadjust ratio 0.9529381714062527\n",
      "\n",
      "From QB: adjust length to 0.18041493215308546\n",
      "\tadjust ratio 0.9719673048040363\n",
      "best 0 53.44728213527238\n",
      "pi len precise 0.16243437135173172 adjustment ratio 1.0795585558152747 from Q1\n",
      "for gain 20235.294117647056 added swap pi len from error amplification 0.16243437135173172\n",
      "----------- STARTING GAIN 20970.58823529412 -----------\n",
      "-------- swap length rabi --------\n",
      "gain 20970 freq 5138.013334978564\n"
     ]
    },
    {
     "data": {
      "application/vnd.jupyter.widget-view+json": {
       "model_id": "5496f0bbb5e945b482480a9c758e44dd",
       "version_major": 2,
       "version_minor": 0
      },
      "text/plain": [
       "  0%|          | 0/101 [00:00<?, ?it/s]"
      ]
     },
     "metadata": {},
     "output_type": "display_data"
    },
    {
     "name": "stdout",
     "output_type": "stream",
     "text": [
      "Saving S:\\QRAM\\qram_4QR2\\data\\data_241025\\00094_length_rabi_EgGf_qubit31.h5\n",
      "Saved S:\\QRAM\\qram_4QR2\\data\\data_241025\\00094_length_rabi_EgGf_qubit31.h5\n",
      "Attempted to init fitparam 0 to 0.0, which is out of bounds 0.0 to 0.0. Instead init to 0.0\n",
      "Attempted to init fitparam 4 to 0.0, which is out of bounds 0.0 to 0.0. Instead init to 0.0\n",
      "Warning: fit failed with error: Each lower bound must be strictly less than each upper bound.\n",
      "Attempted to init fitparam 0 to 0.0, which is out of bounds 0.0 to 0.0. Instead init to 0.0\n",
      "Attempted to init fitparam 4 to 0.0, which is out of bounds 0.0 to 0.0. Instead init to 0.0\n",
      "Warning: fit failed with error: Each lower bound must be strictly less than each upper bound.\n",
      "best 0 0.04432707903819779\n",
      "Pi length from amps data (qubit A) [us]: 0.16758423597388725\n",
      "\tPi/2 length from avgq data (qubit A) [us]: 0.08379211798694362\n",
      "\tDecay time [us]: 5.1621333228976845\n",
      "Pi length from avgq data (qubit A) [us]: 0.34507862550960977\n",
      "\tPi/2 length from avgq data (qubit A) [us]: 0.17253931275480489\n",
      "\tDecay time [us]: 0.9202096680256261\n",
      "Pi length from amps data (qubit B) [us]: 0.16904441978840887\n",
      "\tPi/2 length from avgq data (qubit B) [us]: 0.08452220989420443\n",
      "\tDecay time [us]: 1.9643444882494467\n",
      "Pi length from avgq data (qubit B) [us]: 0.34507862550960977\n",
      "\tPi/2 length from avgq data (qubit B) [us]: 0.17253931275480489\n",
      "\tDecay time [us]: 0.9202096680256261\n",
      "max QA amp: 252.08252284273556\n",
      "min QA amp: 94.09761994533281\n",
      "max QB amp: 358.1802912026829\n",
      "min QB amp: 281.1418837010385\n",
      "for gain 20970.58823529412 added swap pi len from length rabi 0.16758423597388725\n",
      "-------- swap pi minus pi --------\n",
      "{'device': {'readout': {'trig_offset': 150, 'lo_sideband': [1, 1, 1, 1], 'frequency': [-439.97500000000036, 0.0, 452.3682333333336, -278.89999999999964], 'gain': [0.17, 0.0001, 0.25, 0.17], 'kappa_ext': [0.157, 0.065, 0.182, 0.104], 'kerr': [-0.0045, 0, 0.008, -0.003], 't_rise_reset': [0.5, 1, 0.5, 0.5], 'readout_length': [4, 4, 4, 4], 'frequency_ef': [-440.97500000000036, 0.0, 453.3682333333336, -280.35364238410557], 'readout_length_ef': [10.0, 7.0, 4.0, 8.0], 'relax_delay': [450, 450, 450, 450]}, 'qubit': {'f_ge': [4111.097866562327, 4105.838904759637, 4110.958153299016, 4110.546407850519, 3442.8755721075536, 3448.5530242338505, 3447.060317317807, 3446.4929792801067, 4762.761504132457, 4761.823567235975, 4762.909473544484, 4762.369813422167, 4380.698604555338, 4379.604868123916, 4380.717837106693, 4381.248121020163], 'f_ge_robust': [4114.313815659153, 4108.147701523904, 4114.310372455052, 4114.310372455052, 3443.0032303441935, 3448.345849629168, 0, 0, 4763.941, 4763.941, 4763.941, 4763.941, 4384.25034225973, 4384.25034225973, 4384.25034225973, 4384.25034225973], 'f_ef': [3884.6269161242526, 0.0, 0.0, 0.0, 0.0, 3348.085433174199, 0.0, 0.0, 4571.9056482340775, 4570.996526541673, 4573.280687567687, 0.0, 4211.617732525247, 4205.61697813965, 0.0, 4209.925086260656], 'f_EgGf': [2686.53594683, 0, 2017.3, 2414.92850999], 'f_EgGf_Q': [0, 0, 5885.585546008087, 5138.013334978564], 'f_f0g1': [1184.4, 999.8, 1632.9833333333333, 1620.9166666666665], 'gs': [52.40296404695958, 54.81794456602636, 43.49513117058557, 4.930653352423196, 2.6415018214608046, 6.386231497692186], 'pulses': {'pi_ge': {'sigma': [0.02, 0.02, 0.02, 0.02, 0.025, 0.025, 0.025, 0.025, 0.015, 0.015, 0.015, 0.015, 0.025, 0.025, 0.025, 0.025], 'gain': [1849, 1914, 0, 1855, 2834, 2504, 2648, 2631, 9155, 9155, 9155, 9155, 599, 599, 599, 599], 'half_gain': [1856, 1835, 1873, 1867, 2382, 2186, 2248, 2289, 9253, 9253, 9253, 9253, 524, 524, 524, 524], 'half_correction_phase': [0, 0, 0, 0, 0, 0, 0, 0, 0, 0, 0, 0, 0, 0, 0, 0, 0], 'half_gain_pi_sigma': [927, 0, 0, 0, 0, 1315, 0, 0, 0, 0, 7212, 0, 0, 0, 0, 460], 'type': 'gauss'}, 'pi_ef': {'sigma': [0.02, 0.02, 0.02, 0.02, 0.025, 0.025, 0.025, 0.025, 0.015, 0.015, 0.015, 0.015, 0.03, 0.03, 0.03, 0.03], 'gain': [1280, 0, 0, 0, 0, 1912, 0, 0, 10000, 10079, 10015, 0, 300, 300, 0, 300], 'half_gain': [1261, 0, 0, 0, 0, 1941, 0, 0, 0, 10147, 9845, 9979, 340, 340, 0, 320], 'half_gain_pi_sigma': [673, 0, 0, 0, 0, 975, 0, 0, 0, 0, 5049, 0, 340, 0, 0, 337], 'type': 'gauss'}, 'pi_EgGf': {'gain': [32000, 0, 30000, 16000], 'sigma': [0.586, 0, 0.8, 0.44643], 'type': 'flat_top'}, 'pi_EgGf_Q': {'gain': [0, 0, 12147, 20970], 'sigma': [0, 0, 0.44193131519875684, 0.16758423597388725], 'phase': [0, 0, 18.0, 24.0], 'half_sigma': [0, 0, 0.212, 0.172], 'half_phase': [0, 0, 18.0, 21.0], 'type': 'flat_top'}, 'pi_f0g1': {'gain': [32000, 32000, 32000, 32000], 'sigma': [0.536, 0.585, 1.54, 1.04], 'idle': [3, 6, 12, 8], 'type': 'flat_top'}, 'pulse_pp': {'gain': [1750, 3550, 0, 0], 'filename': '240920_3_qram_4q_2qubit_++gg'}, 'pulse_1p': {'gain': [3500, 4375, 0, 0], 'filename': '240920_qram_4q_2qubit_e+gg'}, 'pulse_p1': {'gain': [3000, 5530, 0, 0], 'filename': '240920_qram_4q_2qubit_+egg'}, 'pihalf_ge_robust': {'gain': [7559, 7660, 7559, 7559, 4843, 4462, 4462, 4144, 20111, 20111, 20111, 20111, 2375, 2375, 2375, 2375], 'filename': ['X_2_Q0', 'X_2_Q1', 'X_2_Q2', 'X_2_Q3']}, 'pi_ge_slow': {'gain': [-1, 100, -1, -1], 'sigma': [-1, 0.25, -1, -1], 'type': 'gauss'}, 'pi_Q1_ZZ_slow': {'gain': [100, 0, -1, -1], 'sigma': [0.25, 0, -1, -1], 'type': 'gauss'}}}}, 'hw': {'soc': {'dacs': {'qubit': {'ch': [0, 1, 2, 3], 'type': 'full', 'nyquist': [2, 1, 2, 2], 'mixer_freq': [0, 0, 0, 0]}, 'swap': {'ch': 1, 'type': 'full', 'nyquist': 1, 'mixer_freq': 0}, 'swap_f0g1': {'ch': [1, 1, 5, 5], 'type': ['full', 'full', 'full', 'full'], 'nyquist': 1, 'mixer_freq': 0}, 'swap_Q': {'ch': [0, -1, 2, 3], 'type': ['full', 'None', 'full', 'full'], 'nyquist': [2, 0, 2, 2], 'mixer_freq': 0}, 'readout': {'ch': [6, 4, 6, 6], 'full_mux_chs': [5, 4, 5, 5], 'type': ['mux4', 'full', 'mux4', 'mux4'], 'mixer_freq': [7250, 5795.8115578931565, 7250, 7250], 'nyquist': [2, 2, 2, 2]}, 'res_pump': {'ch': 4, 'type': 'full', 'mixer_freq': 0, 'nyquist': 2}, 'delay_chs': {'ch': [0, 1, 2, 3, 4, 5, 6], 'delay_ns': [4.0, 0.0, 5.0, 3.0, 25, 60, 71]}}, 'adcs': {'readout': {'ch': [0, 1, 2, 3]}}}, 'lo': {'twpa': {'frequency': '8210.0e6', 'power': -1.5}, 'readout': {'frequency': 0, 'power': 0}}}, 'aliases': {'readout_LO': 'SC_20A1', 'twpa_LO': 'SC_26C1', 'soc': 'Qick_QRAM'}, 'expt': {'start_N': 0, 'step_N': 1, 'expts_N': 10, 'start_f': 5137.513334978564, 'step_f': 0.03333333333333333, 'expts_f': 31, 'reps': 1000, 'loops': 1, 'pulse_type': 'flat_top', 'post_process': 'scale', 'singleshot_reps': 15000, 'measure_f': False, 'init_state': '|1>|1>', 'qDrive': 3, 'qubits': [3, 1], 'measure_qubits': [3, 1], 'readout_cool': False, 'n_init_readout': 1, 'n_trig': 1, 'init_read_wait_us': 2, 'full_mux_expt': True, 'resonator_reset': [0, 2, 3]}}\n"
     ]
    },
    {
     "data": {
      "application/vnd.jupyter.widget-view+json": {
       "model_id": "b30df85da78f403eb11fee6614b528a4",
       "version_major": 2,
       "version_minor": 0
      },
      "text/plain": [
       "  0%|          | 0/4 [00:00<?, ?it/s]"
      ]
     },
     "metadata": {},
     "output_type": "display_data"
    },
    {
     "name": "stdout",
     "output_type": "stream",
     "text": [
      "Qubit  (3)\n",
      "ge fidelity (%): 75.34666666666664 \t angle (deg): 0.0 \t threshold ge: 159.39262345193816\n",
      "Qubit  (1)\n",
      "ge fidelity (%): 0.6666666666666654 \t angle (deg): 0.0 \t threshold ge: 58.3351689727238\n"
     ]
    },
    {
     "data": {
      "application/vnd.jupyter.widget-view+json": {
       "model_id": "40d74922ab2646db81d2200c28901fa9",
       "version_major": 2,
       "version_minor": 0
      },
      "text/plain": [
       "  0%|          | 0/10 [00:00<?, ?it/s]"
      ]
     },
     "metadata": {},
     "output_type": "display_data"
    },
    {
     "name": "stdout",
     "output_type": "stream",
     "text": [
      "Attempted to init fitparam 3 to 0.0, which is out of bounds 0 to 0.4311197636869975. Instead init to 0.21555988184349875\n",
      "Fit best freq (qA) 5137.619711613276 which is -0.39362336528756714 away from old freq 5138.013334978564\n",
      "Best freq from pi/-pi on Q3 5137.619711613276\n",
      "Attempted to init fitparam 3 to 0.0, which is out of bounds 0 to 0.03449006944707966. Instead init to 0.01724503472353983\n",
      "Fit best freq (qA) 5138.062446470323 which is 0.04911149175950413 away from old freq 5138.013334978564\n",
      "Best freq from pi/-pi on Q1 5138.062446470323\n",
      "best 0 0.05040647019698979\n",
      "Saving S:\\QRAM\\qram_4QR2\\data\\data_241025\\00099_PiMinusPiEgGfExptQ31.h5\n",
      "Saved S:\\QRAM\\qram_4QR2\\data\\data_241025\\00099_PiMinusPiEgGfExptQ31.h5\n",
      "for gain 20970.58823529412 added swap pi freq from pi minus pi 5137.619711613276\n",
      "using opt freq 5137.619711613276\n",
      "-------- swap error amplification --------\n",
      "{'device': {'readout': {'trig_offset': 150, 'lo_sideband': [1, 1, 1, 1], 'frequency': [-439.97500000000036, 0.0, 452.3682333333336, -278.89999999999964], 'gain': [0.17, 0.035, 0.25, 0.17], 'kappa_ext': [0.157, 0.065, 0.182, 0.104], 'kerr': [-0.0045, 0, 0.008, -0.003], 't_rise_reset': [0.5, 1, 0.5, 0.5], 'readout_length': [4, 4, 4, 4], 'frequency_ef': [-440.97500000000036, 0.0, 453.3682333333336, -280.35364238410557], 'readout_length_ef': [10.0, 7.0, 4.0, 8.0], 'relax_delay': [450, 450, 450, 450]}, 'qubit': {'f_ge': [4111.097866562327, 4105.838904759637, 4110.958153299016, 4110.546407850519, 3442.8755721075536, 3448.5530242338505, 3447.060317317807, 3446.4929792801067, 4762.761504132457, 4761.823567235975, 4762.909473544484, 4762.369813422167, 4380.698604555338, 4379.604868123916, 4380.717837106693, 4381.248121020163], 'f_ge_robust': [4114.313815659153, 4108.147701523904, 4114.310372455052, 4114.310372455052, 3443.0032303441935, 3448.345849629168, 0, 0, 4763.941, 4763.941, 4763.941, 4763.941, 4384.25034225973, 4384.25034225973, 4384.25034225973, 4384.25034225973], 'f_ef': [3884.6269161242526, 0.0, 0.0, 0.0, 0.0, 3348.085433174199, 0.0, 0.0, 4571.9056482340775, 4570.996526541673, 4573.280687567687, 0.0, 4211.617732525247, 4205.61697813965, 0.0, 4209.925086260656], 'f_EgGf': [2686.53594683, 0, 2017.3, 2414.92850999], 'f_EgGf_Q': [0, 0, 5885.585546008087, 5137.619711613276], 'f_f0g1': [1184.4, 999.8, 1632.9833333333333, 1620.9166666666665], 'gs': [52.40296404695958, 54.81794456602636, 43.49513117058557, 4.930653352423196, 2.6415018214608046, 6.386231497692186], 'pulses': {'pi_ge': {'sigma': [0.02, 0.02, 0.02, 0.02, 0.025, 0.025, 0.025, 0.025, 0.015, 0.015, 0.015, 0.015, 0.025, 0.025, 0.025, 0.025], 'gain': [1849, 1914, 0, 1855, 2834, 2504, 2648, 2631, 9155, 9155, 9155, 9155, 599, 599, 599, 599], 'half_gain': [1856, 1835, 1873, 1867, 2382, 2186, 2248, 2289, 9253, 9253, 9253, 9253, 524, 524, 524, 524], 'half_correction_phase': [0, 0, 0, 0, 0, 0, 0, 0, 0, 0, 0, 0, 0, 0, 0, 0, 0], 'half_gain_pi_sigma': [927, 0, 0, 0, 0, 1315, 0, 0, 0, 0, 7212, 0, 0, 0, 0, 460], 'type': 'gauss'}, 'pi_ef': {'sigma': [0.02, 0.02, 0.02, 0.02, 0.025, 0.025, 0.025, 0.025, 0.015, 0.015, 0.015, 0.015, 0.03, 0.03, 0.03, 0.03], 'gain': [1280, 0, 0, 0, 0, 1912, 0, 0, 10000, 10079, 10015, 0, 300, 300, 0, 300], 'half_gain': [1261, 0, 0, 0, 0, 1941, 0, 0, 0, 10147, 9845, 9979, 340, 340, 0, 320], 'half_gain_pi_sigma': [673, 0, 0, 0, 0, 975, 0, 0, 0, 0, 5049, 0, 340, 0, 0, 337], 'type': 'gauss'}, 'pi_EgGf': {'gain': [32000, 0, 30000, 16000], 'sigma': [0.586, 0, 0.8, 0.44643], 'type': 'flat_top'}, 'pi_EgGf_Q': {'gain': [0, 0, 12147, 20970], 'sigma': [0, 0, 0.44193131519875684, 0.16758423597388725], 'phase': [0, 0, 18.0, 24.0], 'half_sigma': [0, 0, 0.212, 0.172], 'half_phase': [0, 0, 18.0, 21.0], 'type': 'flat_top'}, 'pi_f0g1': {'gain': [32000, 32000, 32000, 32000], 'sigma': [0.536, 0.585, 1.54, 1.04], 'idle': [3, 6, 12, 8], 'type': 'flat_top'}, 'pulse_pp': {'gain': [1750, 3550, 0, 0], 'filename': '240920_3_qram_4q_2qubit_++gg'}, 'pulse_1p': {'gain': [3500, 4375, 0, 0], 'filename': '240920_qram_4q_2qubit_e+gg'}, 'pulse_p1': {'gain': [3000, 5530, 0, 0], 'filename': '240920_qram_4q_2qubit_+egg'}, 'pihalf_ge_robust': {'gain': [7559, 7660, 7559, 7559, 4843, 4462, 4462, 4144, 20111, 20111, 20111, 20111, 2375, 2375, 2375, 2375], 'filename': ['X_2_Q0', 'X_2_Q1', 'X_2_Q2', 'X_2_Q3']}, 'pi_ge_slow': {'gain': [-1, 100, -1, -1], 'sigma': [-1, 0.25, -1, -1], 'type': 'gauss'}, 'pi_Q1_ZZ_slow': {'gain': [100, 0, -1, -1], 'sigma': [0.25, 0, -1, -1], 'type': 'gauss'}}}}, 'hw': {'soc': {'dacs': {'qubit': {'ch': [0, 1, 2, 3], 'type': 'full', 'nyquist': [2, 1, 2, 2], 'mixer_freq': [0, 0, 0, 0]}, 'swap': {'ch': 1, 'type': 'full', 'nyquist': 1, 'mixer_freq': 0}, 'swap_f0g1': {'ch': [1, 1, 5, 5], 'type': ['full', 'full', 'full', 'full'], 'nyquist': 1, 'mixer_freq': 0}, 'swap_Q': {'ch': [0, -1, 2, 3], 'type': ['full', 'None', 'full', 'full'], 'nyquist': [2, 0, 2, 2], 'mixer_freq': 0}, 'readout': {'ch': [6, 4, 6, 6], 'full_mux_chs': [5, 4, 5, 5], 'type': ['mux4', 'full', 'mux4', 'mux4'], 'mixer_freq': [7250, 5795.8115578931565, 7250, 7250], 'nyquist': [2, 2, 2, 2]}, 'res_pump': {'ch': 4, 'type': 'full', 'mixer_freq': 0, 'nyquist': 2}, 'delay_chs': {'ch': [0, 1, 2, 3, 4, 5, 6], 'delay_ns': [4.0, 0.0, 5.0, 3.0, 25, 60, 71]}}, 'adcs': {'readout': {'ch': [0, 1, 2, 3]}}}, 'lo': {'twpa': {'frequency': '8210.0e6', 'power': -1.5}, 'readout': {'frequency': 0, 'power': 0}}}, 'aliases': {'readout_LO': 'SC_20A1', 'twpa_LO': 'SC_26C1', 'soc': 'Qick_QRAM'}, 'expt': {'start': 0, 'step': 1, 'expts': 10, 'reps': 2000, 'loops': 10, 'pulse_type': 'flat_top', 'post_process': 'scale', 'singleshot_reps': 15000, 'measure_f': False, 'init_state': '|1>|1>', 'qDrive': 3, 'qubits': [3, 1], 'measure_qubits': [3, 1], 'full_mux_expt': True, 'resonator_reset': [0, 2, 3]}}\n"
     ]
    },
    {
     "data": {
      "application/vnd.jupyter.widget-view+json": {
       "model_id": "1c30f4a32e3640eeacb41a7a702cc72a",
       "version_major": 2,
       "version_minor": 0
      },
      "text/plain": [
       "  0%|          | 0/4 [00:00<?, ?it/s]"
      ]
     },
     "metadata": {},
     "output_type": "display_data"
    },
    {
     "name": "stdout",
     "output_type": "stream",
     "text": [
      "Qubit  (3)\n",
      "ge fidelity (%): 78.78599951107851 \t angle (deg): 0.0 \t threshold ge: 172.14852719228355\n",
      "Qubit  (1)\n",
      "ge fidelity (%): 45.75333333333334 \t angle (deg): 0.0 \t threshold ge: 318.1744410009318\n"
     ]
    },
    {
     "data": {
      "application/vnd.jupyter.widget-view+json": {
       "model_id": "10f158d7272f4efd9e0bf166d92dbeb4",
       "version_major": 2,
       "version_minor": 0
      },
      "text/plain": [
       "  0%|          | 0/10 [00:00<?, ?it/s]"
      ]
     },
     "metadata": {},
     "output_type": "display_data"
    },
    {
     "name": "stdout",
     "output_type": "stream",
     "text": [
      "Saving S:\\QRAM\\qram_4QR2\\data\\data_241025\\00093_NPulseExptEgGfQ31.h5\n",
      "Saved S:\\QRAM\\qram_4QR2\\data\\data_241025\\00093_NPulseExptEgGfQ31.h5\n",
      "[0.4532697  4.49329517 5.67986973]\n",
      "Attempted to init fitparam 0 to 0.0, which is out of bounds 0.0 to 0.0. Instead init to 0.0\n",
      "Warning: fit failed with error: Each lower bound must be strictly less than each upper bound.\n",
      "[0.0, 0.0, 10]\n",
      "Warning: fit failed with error: Optimal parameters not found: The maximum number of function evaluations is exceeded.\n",
      "[173.67871520104558, 0.0, 10]\n",
      "[ 0.53254009 -4.69724115  5.35182157]\n",
      "Attempted to init fitparam 0 to 0.0, which is out of bounds 0.0 to 0.0. Instead init to 0.0\n",
      "Warning: fit failed with error: Each lower bound must be strictly less than each upper bound.\n",
      "[0.0, 0.0, 10]\n",
      "Warning: fit failed with error: Optimal parameters not found: The maximum number of function evaluations is exceeded.\n",
      "[320.53892283899586, 0.0, 10]\n",
      "From QA: adjust length to 0.17187470133916014\n",
      "\tadjust ratio 0.9750372490433801\n",
      "\n",
      "From QB: adjust length to 0.17207465913824663\n",
      "\tadjust ratio 0.9739042158395228\n",
      "best 0 inf\n",
      "pi len precise 0.16758423597388725 adjustment ratio 1.0 from Q1\n",
      "for gain 20970.58823529412 added swap pi len from error amplification 0.16758423597388725\n",
      "----------- STARTING GAIN 21705.882352941175 -----------\n",
      "-------- swap length rabi --------\n",
      "gain 21705 freq 5137.200326725772\n"
     ]
    },
    {
     "data": {
      "application/vnd.jupyter.widget-view+json": {
       "model_id": "cc45c90822c841578786399a4af73cdc",
       "version_major": 2,
       "version_minor": 0
      },
      "text/plain": [
       "  0%|          | 0/101 [00:00<?, ?it/s]"
      ]
     },
     "metadata": {},
     "output_type": "display_data"
    },
    {
     "name": "stdout",
     "output_type": "stream",
     "text": [
      "Saving S:\\QRAM\\qram_4QR2\\data\\data_241025\\00095_length_rabi_EgGf_qubit31.h5\n",
      "Saved S:\\QRAM\\qram_4QR2\\data\\data_241025\\00095_length_rabi_EgGf_qubit31.h5\n",
      "Attempted to init fitparam 0 to 0.0, which is out of bounds 0.0 to 0.0. Instead init to 0.0\n",
      "Attempted to init fitparam 4 to 0.0, which is out of bounds 0.0 to 0.0. Instead init to 0.0\n",
      "Warning: fit failed with error: Each lower bound must be strictly less than each upper bound.\n",
      "Attempted to init fitparam 0 to 0.0, which is out of bounds 0.0 to 0.0. Instead init to 0.0\n",
      "Attempted to init fitparam 4 to 0.0, which is out of bounds 0.0 to 0.0. Instead init to 0.0\n",
      "Warning: fit failed with error: Each lower bound must be strictly less than each upper bound.\n",
      "best 0 0.05262250546607666\n",
      "Pi length from amps data (qubit A) [us]: 0.16388394269244386\n",
      "\tPi/2 length from avgq data (qubit A) [us]: 0.08194197134622193\n",
      "\tDecay time [us]: 5.8504331388453155\n",
      "Pi length from avgq data (qubit A) [us]: 0.331974373907979\n",
      "\tPi/2 length from avgq data (qubit A) [us]: 0.1659871869539895\n",
      "\tDecay time [us]: 0.885264997087944\n",
      "Pi length from amps data (qubit B) [us]: 0.7622872055138735\n",
      "\tPi/2 length from avgq data (qubit B) [us]: 0.38114360275693676\n",
      "\tDecay time [us]: 0.26557949912638323\n",
      "Pi length from avgq data (qubit B) [us]: 0.331974373907979\n",
      "\tPi/2 length from avgq data (qubit B) [us]: 0.1659871869539895\n",
      "\tDecay time [us]: 0.885264997087944\n",
      "max QA amp: 255.72630308305048\n",
      "min QA amp: 88.70867505721345\n",
      "max QB amp: 361.2498442076931\n",
      "min QB amp: 279.30699027217884\n",
      "for gain 21705.882352941175 added swap pi len from length rabi 0.16388394269244386\n",
      "-------- swap pi minus pi --------\n",
      "{'device': {'readout': {'trig_offset': 150, 'lo_sideband': [1, 1, 1, 1], 'frequency': [-439.97500000000036, 0.0, 452.3682333333336, -278.89999999999964], 'gain': [0.17, 0.0001, 0.25, 0.17], 'kappa_ext': [0.157, 0.065, 0.182, 0.104], 'kerr': [-0.0045, 0, 0.008, -0.003], 't_rise_reset': [0.5, 1, 0.5, 0.5], 'readout_length': [4, 4, 4, 4], 'frequency_ef': [-440.97500000000036, 0.0, 453.3682333333336, -280.35364238410557], 'readout_length_ef': [10.0, 7.0, 4.0, 8.0], 'relax_delay': [450, 450, 450, 450]}, 'qubit': {'f_ge': [4111.097866562327, 4105.838904759637, 4110.958153299016, 4110.546407850519, 3442.8755721075536, 3448.5530242338505, 3447.060317317807, 3446.4929792801067, 4762.761504132457, 4761.823567235975, 4762.909473544484, 4762.369813422167, 4380.698604555338, 4379.604868123916, 4380.717837106693, 4381.248121020163], 'f_ge_robust': [4114.313815659153, 4108.147701523904, 4114.310372455052, 4114.310372455052, 3443.0032303441935, 3448.345849629168, 0, 0, 4763.941, 4763.941, 4763.941, 4763.941, 4384.25034225973, 4384.25034225973, 4384.25034225973, 4384.25034225973], 'f_ef': [3884.6269161242526, 0.0, 0.0, 0.0, 0.0, 3348.085433174199, 0.0, 0.0, 4571.9056482340775, 4570.996526541673, 4573.280687567687, 0.0, 4211.617732525247, 4205.61697813965, 0.0, 4209.925086260656], 'f_EgGf': [2686.53594683, 0, 2017.3, 2414.92850999], 'f_EgGf_Q': [0, 0, 5885.585546008087, 5137.200326725772], 'f_f0g1': [1184.4, 999.8, 1632.9833333333333, 1620.9166666666665], 'gs': [52.40296404695958, 54.81794456602636, 43.49513117058557, 4.930653352423196, 2.6415018214608046, 6.386231497692186], 'pulses': {'pi_ge': {'sigma': [0.02, 0.02, 0.02, 0.02, 0.025, 0.025, 0.025, 0.025, 0.015, 0.015, 0.015, 0.015, 0.025, 0.025, 0.025, 0.025], 'gain': [1849, 1914, 0, 1855, 2834, 2504, 2648, 2631, 9155, 9155, 9155, 9155, 599, 599, 599, 599], 'half_gain': [1856, 1835, 1873, 1867, 2382, 2186, 2248, 2289, 9253, 9253, 9253, 9253, 524, 524, 524, 524], 'half_correction_phase': [0, 0, 0, 0, 0, 0, 0, 0, 0, 0, 0, 0, 0, 0, 0, 0, 0], 'half_gain_pi_sigma': [927, 0, 0, 0, 0, 1315, 0, 0, 0, 0, 7212, 0, 0, 0, 0, 460], 'type': 'gauss'}, 'pi_ef': {'sigma': [0.02, 0.02, 0.02, 0.02, 0.025, 0.025, 0.025, 0.025, 0.015, 0.015, 0.015, 0.015, 0.03, 0.03, 0.03, 0.03], 'gain': [1280, 0, 0, 0, 0, 1912, 0, 0, 10000, 10079, 10015, 0, 300, 300, 0, 300], 'half_gain': [1261, 0, 0, 0, 0, 1941, 0, 0, 0, 10147, 9845, 9979, 340, 340, 0, 320], 'half_gain_pi_sigma': [673, 0, 0, 0, 0, 975, 0, 0, 0, 0, 5049, 0, 340, 0, 0, 337], 'type': 'gauss'}, 'pi_EgGf': {'gain': [32000, 0, 30000, 16000], 'sigma': [0.586, 0, 0.8, 0.44643], 'type': 'flat_top'}, 'pi_EgGf_Q': {'gain': [0, 0, 12147, 21705], 'sigma': [0, 0, 0.44193131519875684, 0.16388394269244386], 'phase': [0, 0, 18.0, 24.0], 'half_sigma': [0, 0, 0.212, 0.172], 'half_phase': [0, 0, 18.0, 21.0], 'type': 'flat_top'}, 'pi_f0g1': {'gain': [32000, 32000, 32000, 32000], 'sigma': [0.536, 0.585, 1.54, 1.04], 'idle': [3, 6, 12, 8], 'type': 'flat_top'}, 'pulse_pp': {'gain': [1750, 3550, 0, 0], 'filename': '240920_3_qram_4q_2qubit_++gg'}, 'pulse_1p': {'gain': [3500, 4375, 0, 0], 'filename': '240920_qram_4q_2qubit_e+gg'}, 'pulse_p1': {'gain': [3000, 5530, 0, 0], 'filename': '240920_qram_4q_2qubit_+egg'}, 'pihalf_ge_robust': {'gain': [7559, 7660, 7559, 7559, 4843, 4462, 4462, 4144, 20111, 20111, 20111, 20111, 2375, 2375, 2375, 2375], 'filename': ['X_2_Q0', 'X_2_Q1', 'X_2_Q2', 'X_2_Q3']}, 'pi_ge_slow': {'gain': [-1, 100, -1, -1], 'sigma': [-1, 0.25, -1, -1], 'type': 'gauss'}, 'pi_Q1_ZZ_slow': {'gain': [100, 0, -1, -1], 'sigma': [0.25, 0, -1, -1], 'type': 'gauss'}}}}, 'hw': {'soc': {'dacs': {'qubit': {'ch': [0, 1, 2, 3], 'type': 'full', 'nyquist': [2, 1, 2, 2], 'mixer_freq': [0, 0, 0, 0]}, 'swap': {'ch': 1, 'type': 'full', 'nyquist': 1, 'mixer_freq': 0}, 'swap_f0g1': {'ch': [1, 1, 5, 5], 'type': ['full', 'full', 'full', 'full'], 'nyquist': 1, 'mixer_freq': 0}, 'swap_Q': {'ch': [0, -1, 2, 3], 'type': ['full', 'None', 'full', 'full'], 'nyquist': [2, 0, 2, 2], 'mixer_freq': 0}, 'readout': {'ch': [6, 4, 6, 6], 'full_mux_chs': [5, 4, 5, 5], 'type': ['mux4', 'full', 'mux4', 'mux4'], 'mixer_freq': [7250, 5795.8115578931565, 7250, 7250], 'nyquist': [2, 2, 2, 2]}, 'res_pump': {'ch': 4, 'type': 'full', 'mixer_freq': 0, 'nyquist': 2}, 'delay_chs': {'ch': [0, 1, 2, 3, 4, 5, 6], 'delay_ns': [4.0, 0.0, 5.0, 3.0, 25, 60, 71]}}, 'adcs': {'readout': {'ch': [0, 1, 2, 3]}}}, 'lo': {'twpa': {'frequency': '8210.0e6', 'power': -1.5}, 'readout': {'frequency': 0, 'power': 0}}}, 'aliases': {'readout_LO': 'SC_20A1', 'twpa_LO': 'SC_26C1', 'soc': 'Qick_QRAM'}, 'expt': {'start_N': 0, 'step_N': 1, 'expts_N': 10, 'start_f': 5136.700326725772, 'step_f': 0.03333333333333333, 'expts_f': 31, 'reps': 1000, 'loops': 1, 'pulse_type': 'flat_top', 'post_process': 'scale', 'singleshot_reps': 15000, 'measure_f': False, 'init_state': '|1>|1>', 'qDrive': 3, 'qubits': [3, 1], 'measure_qubits': [3, 1], 'readout_cool': False, 'n_init_readout': 1, 'n_trig': 1, 'init_read_wait_us': 2, 'full_mux_expt': True, 'resonator_reset': [0, 2, 3]}}\n"
     ]
    },
    {
     "data": {
      "application/vnd.jupyter.widget-view+json": {
       "model_id": "5390bac52b22445e91cafbcaa433f519",
       "version_major": 2,
       "version_minor": 0
      },
      "text/plain": [
       "  0%|          | 0/4 [00:00<?, ?it/s]"
      ]
     },
     "metadata": {},
     "output_type": "display_data"
    },
    {
     "name": "stdout",
     "output_type": "stream",
     "text": [
      "Qubit  (3)\n",
      "ge fidelity (%): 79.35265506589329 \t angle (deg): 0.0 \t threshold ge: 159.95799244627472\n",
      "Qubit  (1)\n",
      "ge fidelity (%): 0.7333333333333358 \t angle (deg): 0.0 \t threshold ge: 52.7140170451736\n"
     ]
    },
    {
     "data": {
      "application/vnd.jupyter.widget-view+json": {
       "model_id": "4cba3630fdd34320ab51aa877a1c0ad2",
       "version_major": 2,
       "version_minor": 0
      },
      "text/plain": [
       "  0%|          | 0/10 [00:00<?, ?it/s]"
      ]
     },
     "metadata": {},
     "output_type": "display_data"
    },
    {
     "name": "stdout",
     "output_type": "stream",
     "text": [
      "Attempted to init fitparam 3 to 0.0, which is out of bounds 0 to 0.3958952940433577. Instead init to 0.19794764702167886\n",
      "Fit best freq (qA) 5136.819259335623 which is -0.3810673901489281 away from old freq 5137.200326725772\n",
      "Best freq from pi/-pi on Q3 5136.819259335623\n",
      "Attempted to init fitparam 3 to 0.0, which is out of bounds 0 to 0.1764936412253439. Instead init to 0.08824682061267194\n",
      "Fit best freq (qA) 5137.021541898905 which is -0.17878482686774078 away from old freq 5137.200326725772\n",
      "Best freq from pi/-pi on Q1 5137.021541898905\n",
      "best 0 0.19219374887134216\n",
      "Saving S:\\QRAM\\qram_4QR2\\data\\data_241025\\00100_PiMinusPiEgGfExptQ31.h5\n",
      "Saved S:\\QRAM\\qram_4QR2\\data\\data_241025\\00100_PiMinusPiEgGfExptQ31.h5\n",
      "for gain 21705.882352941175 added swap pi freq from pi minus pi 5136.819259335623\n",
      "using opt freq 5136.819259335623\n",
      "-------- swap error amplification --------\n",
      "{'device': {'readout': {'trig_offset': 150, 'lo_sideband': [1, 1, 1, 1], 'frequency': [-439.97500000000036, 0.0, 452.3682333333336, -278.89999999999964], 'gain': [0.17, 0.035, 0.25, 0.17], 'kappa_ext': [0.157, 0.065, 0.182, 0.104], 'kerr': [-0.0045, 0, 0.008, -0.003], 't_rise_reset': [0.5, 1, 0.5, 0.5], 'readout_length': [4, 4, 4, 4], 'frequency_ef': [-440.97500000000036, 0.0, 453.3682333333336, -280.35364238410557], 'readout_length_ef': [10.0, 7.0, 4.0, 8.0], 'relax_delay': [450, 450, 450, 450]}, 'qubit': {'f_ge': [4111.097866562327, 4105.838904759637, 4110.958153299016, 4110.546407850519, 3442.8755721075536, 3448.5530242338505, 3447.060317317807, 3446.4929792801067, 4762.761504132457, 4761.823567235975, 4762.909473544484, 4762.369813422167, 4380.698604555338, 4379.604868123916, 4380.717837106693, 4381.248121020163], 'f_ge_robust': [4114.313815659153, 4108.147701523904, 4114.310372455052, 4114.310372455052, 3443.0032303441935, 3448.345849629168, 0, 0, 4763.941, 4763.941, 4763.941, 4763.941, 4384.25034225973, 4384.25034225973, 4384.25034225973, 4384.25034225973], 'f_ef': [3884.6269161242526, 0.0, 0.0, 0.0, 0.0, 3348.085433174199, 0.0, 0.0, 4571.9056482340775, 4570.996526541673, 4573.280687567687, 0.0, 4211.617732525247, 4205.61697813965, 0.0, 4209.925086260656], 'f_EgGf': [2686.53594683, 0, 2017.3, 2414.92850999], 'f_EgGf_Q': [0, 0, 5885.585546008087, 5136.819259335623], 'f_f0g1': [1184.4, 999.8, 1632.9833333333333, 1620.9166666666665], 'gs': [52.40296404695958, 54.81794456602636, 43.49513117058557, 4.930653352423196, 2.6415018214608046, 6.386231497692186], 'pulses': {'pi_ge': {'sigma': [0.02, 0.02, 0.02, 0.02, 0.025, 0.025, 0.025, 0.025, 0.015, 0.015, 0.015, 0.015, 0.025, 0.025, 0.025, 0.025], 'gain': [1849, 1914, 0, 1855, 2834, 2504, 2648, 2631, 9155, 9155, 9155, 9155, 599, 599, 599, 599], 'half_gain': [1856, 1835, 1873, 1867, 2382, 2186, 2248, 2289, 9253, 9253, 9253, 9253, 524, 524, 524, 524], 'half_correction_phase': [0, 0, 0, 0, 0, 0, 0, 0, 0, 0, 0, 0, 0, 0, 0, 0, 0], 'half_gain_pi_sigma': [927, 0, 0, 0, 0, 1315, 0, 0, 0, 0, 7212, 0, 0, 0, 0, 460], 'type': 'gauss'}, 'pi_ef': {'sigma': [0.02, 0.02, 0.02, 0.02, 0.025, 0.025, 0.025, 0.025, 0.015, 0.015, 0.015, 0.015, 0.03, 0.03, 0.03, 0.03], 'gain': [1280, 0, 0, 0, 0, 1912, 0, 0, 10000, 10079, 10015, 0, 300, 300, 0, 300], 'half_gain': [1261, 0, 0, 0, 0, 1941, 0, 0, 0, 10147, 9845, 9979, 340, 340, 0, 320], 'half_gain_pi_sigma': [673, 0, 0, 0, 0, 975, 0, 0, 0, 0, 5049, 0, 340, 0, 0, 337], 'type': 'gauss'}, 'pi_EgGf': {'gain': [32000, 0, 30000, 16000], 'sigma': [0.586, 0, 0.8, 0.44643], 'type': 'flat_top'}, 'pi_EgGf_Q': {'gain': [0, 0, 12147, 21705], 'sigma': [0, 0, 0.44193131519875684, 0.16388394269244386], 'phase': [0, 0, 18.0, 24.0], 'half_sigma': [0, 0, 0.212, 0.172], 'half_phase': [0, 0, 18.0, 21.0], 'type': 'flat_top'}, 'pi_f0g1': {'gain': [32000, 32000, 32000, 32000], 'sigma': [0.536, 0.585, 1.54, 1.04], 'idle': [3, 6, 12, 8], 'type': 'flat_top'}, 'pulse_pp': {'gain': [1750, 3550, 0, 0], 'filename': '240920_3_qram_4q_2qubit_++gg'}, 'pulse_1p': {'gain': [3500, 4375, 0, 0], 'filename': '240920_qram_4q_2qubit_e+gg'}, 'pulse_p1': {'gain': [3000, 5530, 0, 0], 'filename': '240920_qram_4q_2qubit_+egg'}, 'pihalf_ge_robust': {'gain': [7559, 7660, 7559, 7559, 4843, 4462, 4462, 4144, 20111, 20111, 20111, 20111, 2375, 2375, 2375, 2375], 'filename': ['X_2_Q0', 'X_2_Q1', 'X_2_Q2', 'X_2_Q3']}, 'pi_ge_slow': {'gain': [-1, 100, -1, -1], 'sigma': [-1, 0.25, -1, -1], 'type': 'gauss'}, 'pi_Q1_ZZ_slow': {'gain': [100, 0, -1, -1], 'sigma': [0.25, 0, -1, -1], 'type': 'gauss'}}}}, 'hw': {'soc': {'dacs': {'qubit': {'ch': [0, 1, 2, 3], 'type': 'full', 'nyquist': [2, 1, 2, 2], 'mixer_freq': [0, 0, 0, 0]}, 'swap': {'ch': 1, 'type': 'full', 'nyquist': 1, 'mixer_freq': 0}, 'swap_f0g1': {'ch': [1, 1, 5, 5], 'type': ['full', 'full', 'full', 'full'], 'nyquist': 1, 'mixer_freq': 0}, 'swap_Q': {'ch': [0, -1, 2, 3], 'type': ['full', 'None', 'full', 'full'], 'nyquist': [2, 0, 2, 2], 'mixer_freq': 0}, 'readout': {'ch': [6, 4, 6, 6], 'full_mux_chs': [5, 4, 5, 5], 'type': ['mux4', 'full', 'mux4', 'mux4'], 'mixer_freq': [7250, 5795.8115578931565, 7250, 7250], 'nyquist': [2, 2, 2, 2]}, 'res_pump': {'ch': 4, 'type': 'full', 'mixer_freq': 0, 'nyquist': 2}, 'delay_chs': {'ch': [0, 1, 2, 3, 4, 5, 6], 'delay_ns': [4.0, 0.0, 5.0, 3.0, 25, 60, 71]}}, 'adcs': {'readout': {'ch': [0, 1, 2, 3]}}}, 'lo': {'twpa': {'frequency': '8210.0e6', 'power': -1.5}, 'readout': {'frequency': 0, 'power': 0}}}, 'aliases': {'readout_LO': 'SC_20A1', 'twpa_LO': 'SC_26C1', 'soc': 'Qick_QRAM'}, 'expt': {'start': 0, 'step': 1, 'expts': 10, 'reps': 2000, 'loops': 10, 'pulse_type': 'flat_top', 'post_process': 'scale', 'singleshot_reps': 15000, 'measure_f': False, 'init_state': '|1>|1>', 'qDrive': 3, 'qubits': [3, 1], 'measure_qubits': [3, 1], 'full_mux_expt': True, 'resonator_reset': [0, 2, 3]}}\n"
     ]
    },
    {
     "data": {
      "application/vnd.jupyter.widget-view+json": {
       "model_id": "1bd124e58aa247dab133476013ca056f",
       "version_major": 2,
       "version_minor": 0
      },
      "text/plain": [
       "  0%|          | 0/4 [00:00<?, ?it/s]"
      ]
     },
     "metadata": {},
     "output_type": "display_data"
    },
    {
     "name": "stdout",
     "output_type": "stream",
     "text": [
      "Qubit  (3)\n",
      "ge fidelity (%): 78.16591728337447 \t angle (deg): 0.0 \t threshold ge: 162.77598798262864\n",
      "Qubit  (1)\n",
      "ge fidelity (%): 43.899999999999984 \t angle (deg): 0.0 \t threshold ge: 321.4888629733686\n"
     ]
    },
    {
     "data": {
      "application/vnd.jupyter.widget-view+json": {
       "model_id": "3eba086ca0dc4d97bbe983ca12d2236d",
       "version_major": 2,
       "version_minor": 0
      },
      "text/plain": [
       "  0%|          | 0/10 [00:00<?, ?it/s]"
      ]
     },
     "metadata": {},
     "output_type": "display_data"
    },
    {
     "name": "stdout",
     "output_type": "stream",
     "text": [
      "Saving S:\\QRAM\\qram_4QR2\\data\\data_241025\\00094_NPulseExptEgGfQ31.h5\n",
      "Saved S:\\QRAM\\qram_4QR2\\data\\data_241025\\00094_NPulseExptEgGfQ31.h5\n",
      "[0.45635489 4.67677071 6.92955059]\n",
      "Attempted to init fitparam 0 to 0.0, which is out of bounds 0.0 to 0.0. Instead init to 0.0\n",
      "Warning: fit failed with error: Each lower bound must be strictly less than each upper bound.\n",
      "[0.0, 0.0, 10]\n",
      "Warning: fit failed with error: Optimal parameters not found: The maximum number of function evaluations is exceeded.\n",
      "[173.66129708710957, 0.0, 10]\n",
      "[ 0.58908052 -4.27596245  6.98218455]\n",
      "Attempted to init fitparam 0 to 0.0, which is out of bounds 0.0 to 0.0. Instead init to 0.0\n",
      "Warning: fit failed with error: Each lower bound must be strictly less than each upper bound.\n",
      "[0.0, 0.0, 10]\n",
      "Warning: fit failed with error: Optimal parameters not found: The maximum number of function evaluations is exceeded.\n",
      "[323.7708271467822, 0.0, 10]\n",
      "From QA: adjust length to 0.1682555688912971\n",
      "\tadjust ratio 0.9740179405195344\n",
      "\n",
      "From QB: adjust length to 0.16787179543246547\n",
      "\tadjust ratio 0.9762446530714213\n",
      "best 0 inf\n",
      "pi len precise 0.16388394269244386 adjustment ratio 1.0 from Q1\n",
      "for gain 21705.882352941175 added swap pi len from error amplification 0.16388394269244386\n",
      "----------- STARTING GAIN 22441.176470588234 -----------\n",
      "-------- swap length rabi --------\n",
      "gain 22441 freq 5136.358219678319\n"
     ]
    },
    {
     "data": {
      "application/vnd.jupyter.widget-view+json": {
       "model_id": "d74d92e0c95544e29b5bef96d8832339",
       "version_major": 2,
       "version_minor": 0
      },
      "text/plain": [
       "  0%|          | 0/101 [00:00<?, ?it/s]"
      ]
     },
     "metadata": {},
     "output_type": "display_data"
    },
    {
     "name": "stdout",
     "output_type": "stream",
     "text": [
      "Saving S:\\QRAM\\qram_4QR2\\data\\data_241025\\00096_length_rabi_EgGf_qubit31.h5\n",
      "Saved S:\\QRAM\\qram_4QR2\\data\\data_241025\\00096_length_rabi_EgGf_qubit31.h5\n",
      "Attempted to init fitparam 0 to 0.0, which is out of bounds 0.0 to 0.0. Instead init to 0.0\n",
      "Attempted to init fitparam 4 to 0.0, which is out of bounds 0.0 to 0.0. Instead init to 0.0\n",
      "Warning: fit failed with error: Each lower bound must be strictly less than each upper bound.\n",
      "Attempted to init fitparam 0 to 0.0, which is out of bounds 0.0 to 0.0. Instead init to 0.0\n",
      "Attempted to init fitparam 4 to 0.0, which is out of bounds 0.0 to 0.0. Instead init to 0.0\n",
      "Warning: fit failed with error: Each lower bound must be strictly less than each upper bound.\n",
      "best 0 0.16575153330137377\n",
      "Pi length from amps data (qubit A) [us]: 0.1583632755769038\n",
      "\tPi/2 length from avgq data (qubit A) [us]: 0.0791816377884519\n",
      "\tDecay time [us]: 20.836835564383925\n",
      "Pi length from avgq data (qubit A) [us]: 0.3188701223063483\n",
      "\tPi/2 length from avgq data (qubit A) [us]: 0.15943506115317416\n",
      "\tDecay time [us]: 0.8503203261502621\n",
      "Pi length from amps data (qubit B) [us]: 0.7992731026365124\n",
      "\tPi/2 length from avgq data (qubit B) [us]: 0.3996365513182562\n",
      "\tDecay time [us]: 0.25509609784508175\n",
      "Pi length from avgq data (qubit B) [us]: 0.3188701223063483\n",
      "\tPi/2 length from avgq data (qubit B) [us]: 0.15943506115317416\n",
      "\tDecay time [us]: 0.8503203261502621\n",
      "max QA amp: 256.5596102243384\n",
      "min QA amp: 90.23402044553511\n",
      "max QB amp: 365.51295151347455\n",
      "min QB amp: 290.89496335892596\n",
      "for gain 22441.176470588234 added swap pi len from length rabi 0.1583632755769038\n",
      "-------- swap pi minus pi --------\n",
      "{'device': {'readout': {'trig_offset': 150, 'lo_sideband': [1, 1, 1, 1], 'frequency': [-439.97500000000036, 0.0, 452.3682333333336, -278.89999999999964], 'gain': [0.17, 0.0001, 0.25, 0.17], 'kappa_ext': [0.157, 0.065, 0.182, 0.104], 'kerr': [-0.0045, 0, 0.008, -0.003], 't_rise_reset': [0.5, 1, 0.5, 0.5], 'readout_length': [4, 4, 4, 4], 'frequency_ef': [-440.97500000000036, 0.0, 453.3682333333336, -280.35364238410557], 'readout_length_ef': [10.0, 7.0, 4.0, 8.0], 'relax_delay': [450, 450, 450, 450]}, 'qubit': {'f_ge': [4111.097866562327, 4105.838904759637, 4110.958153299016, 4110.546407850519, 3442.8755721075536, 3448.5530242338505, 3447.060317317807, 3446.4929792801067, 4762.761504132457, 4761.823567235975, 4762.909473544484, 4762.369813422167, 4380.698604555338, 4379.604868123916, 4380.717837106693, 4381.248121020163], 'f_ge_robust': [4114.313815659153, 4108.147701523904, 4114.310372455052, 4114.310372455052, 3443.0032303441935, 3448.345849629168, 0, 0, 4763.941, 4763.941, 4763.941, 4763.941, 4384.25034225973, 4384.25034225973, 4384.25034225973, 4384.25034225973], 'f_ef': [3884.6269161242526, 0.0, 0.0, 0.0, 0.0, 3348.085433174199, 0.0, 0.0, 4571.9056482340775, 4570.996526541673, 4573.280687567687, 0.0, 4211.617732525247, 4205.61697813965, 0.0, 4209.925086260656], 'f_EgGf': [2686.53594683, 0, 2017.3, 2414.92850999], 'f_EgGf_Q': [0, 0, 5885.585546008087, 5136.358219678319], 'f_f0g1': [1184.4, 999.8, 1632.9833333333333, 1620.9166666666665], 'gs': [52.40296404695958, 54.81794456602636, 43.49513117058557, 4.930653352423196, 2.6415018214608046, 6.386231497692186], 'pulses': {'pi_ge': {'sigma': [0.02, 0.02, 0.02, 0.02, 0.025, 0.025, 0.025, 0.025, 0.015, 0.015, 0.015, 0.015, 0.025, 0.025, 0.025, 0.025], 'gain': [1849, 1914, 0, 1855, 2834, 2504, 2648, 2631, 9155, 9155, 9155, 9155, 599, 599, 599, 599], 'half_gain': [1856, 1835, 1873, 1867, 2382, 2186, 2248, 2289, 9253, 9253, 9253, 9253, 524, 524, 524, 524], 'half_correction_phase': [0, 0, 0, 0, 0, 0, 0, 0, 0, 0, 0, 0, 0, 0, 0, 0, 0], 'half_gain_pi_sigma': [927, 0, 0, 0, 0, 1315, 0, 0, 0, 0, 7212, 0, 0, 0, 0, 460], 'type': 'gauss'}, 'pi_ef': {'sigma': [0.02, 0.02, 0.02, 0.02, 0.025, 0.025, 0.025, 0.025, 0.015, 0.015, 0.015, 0.015, 0.03, 0.03, 0.03, 0.03], 'gain': [1280, 0, 0, 0, 0, 1912, 0, 0, 10000, 10079, 10015, 0, 300, 300, 0, 300], 'half_gain': [1261, 0, 0, 0, 0, 1941, 0, 0, 0, 10147, 9845, 9979, 340, 340, 0, 320], 'half_gain_pi_sigma': [673, 0, 0, 0, 0, 975, 0, 0, 0, 0, 5049, 0, 340, 0, 0, 337], 'type': 'gauss'}, 'pi_EgGf': {'gain': [32000, 0, 30000, 16000], 'sigma': [0.586, 0, 0.8, 0.44643], 'type': 'flat_top'}, 'pi_EgGf_Q': {'gain': [0, 0, 12147, 22441], 'sigma': [0, 0, 0.44193131519875684, 0.1583632755769038], 'phase': [0, 0, 18.0, 24.0], 'half_sigma': [0, 0, 0.212, 0.172], 'half_phase': [0, 0, 18.0, 21.0], 'type': 'flat_top'}, 'pi_f0g1': {'gain': [32000, 32000, 32000, 32000], 'sigma': [0.536, 0.585, 1.54, 1.04], 'idle': [3, 6, 12, 8], 'type': 'flat_top'}, 'pulse_pp': {'gain': [1750, 3550, 0, 0], 'filename': '240920_3_qram_4q_2qubit_++gg'}, 'pulse_1p': {'gain': [3500, 4375, 0, 0], 'filename': '240920_qram_4q_2qubit_e+gg'}, 'pulse_p1': {'gain': [3000, 5530, 0, 0], 'filename': '240920_qram_4q_2qubit_+egg'}, 'pihalf_ge_robust': {'gain': [7559, 7660, 7559, 7559, 4843, 4462, 4462, 4144, 20111, 20111, 20111, 20111, 2375, 2375, 2375, 2375], 'filename': ['X_2_Q0', 'X_2_Q1', 'X_2_Q2', 'X_2_Q3']}, 'pi_ge_slow': {'gain': [-1, 100, -1, -1], 'sigma': [-1, 0.25, -1, -1], 'type': 'gauss'}, 'pi_Q1_ZZ_slow': {'gain': [100, 0, -1, -1], 'sigma': [0.25, 0, -1, -1], 'type': 'gauss'}}}}, 'hw': {'soc': {'dacs': {'qubit': {'ch': [0, 1, 2, 3], 'type': 'full', 'nyquist': [2, 1, 2, 2], 'mixer_freq': [0, 0, 0, 0]}, 'swap': {'ch': 1, 'type': 'full', 'nyquist': 1, 'mixer_freq': 0}, 'swap_f0g1': {'ch': [1, 1, 5, 5], 'type': ['full', 'full', 'full', 'full'], 'nyquist': 1, 'mixer_freq': 0}, 'swap_Q': {'ch': [0, -1, 2, 3], 'type': ['full', 'None', 'full', 'full'], 'nyquist': [2, 0, 2, 2], 'mixer_freq': 0}, 'readout': {'ch': [6, 4, 6, 6], 'full_mux_chs': [5, 4, 5, 5], 'type': ['mux4', 'full', 'mux4', 'mux4'], 'mixer_freq': [7250, 5795.8115578931565, 7250, 7250], 'nyquist': [2, 2, 2, 2]}, 'res_pump': {'ch': 4, 'type': 'full', 'mixer_freq': 0, 'nyquist': 2}, 'delay_chs': {'ch': [0, 1, 2, 3, 4, 5, 6], 'delay_ns': [4.0, 0.0, 5.0, 3.0, 25, 60, 71]}}, 'adcs': {'readout': {'ch': [0, 1, 2, 3]}}}, 'lo': {'twpa': {'frequency': '8210.0e6', 'power': -1.5}, 'readout': {'frequency': 0, 'power': 0}}}, 'aliases': {'readout_LO': 'SC_20A1', 'twpa_LO': 'SC_26C1', 'soc': 'Qick_QRAM'}, 'expt': {'start_N': 0, 'step_N': 1, 'expts_N': 10, 'start_f': 5135.858219678319, 'step_f': 0.03333333333333333, 'expts_f': 31, 'reps': 1000, 'loops': 1, 'pulse_type': 'flat_top', 'post_process': 'scale', 'singleshot_reps': 15000, 'measure_f': False, 'init_state': '|1>|1>', 'qDrive': 3, 'qubits': [3, 1], 'measure_qubits': [3, 1], 'readout_cool': False, 'n_init_readout': 1, 'n_trig': 1, 'init_read_wait_us': 2, 'full_mux_expt': True, 'resonator_reset': [0, 2, 3]}}\n"
     ]
    },
    {
     "data": {
      "application/vnd.jupyter.widget-view+json": {
       "model_id": "d7e6e672e98d4ff9a10efa96a3b71fec",
       "version_major": 2,
       "version_minor": 0
      },
      "text/plain": [
       "  0%|          | 0/4 [00:00<?, ?it/s]"
      ]
     },
     "metadata": {},
     "output_type": "display_data"
    },
    {
     "name": "stdout",
     "output_type": "stream",
     "text": [
      "Qubit  (3)\n",
      "ge fidelity (%): 79.20596528657464 \t angle (deg): 0.0 \t threshold ge: 155.86871851537447\n",
      "Qubit  (1)\n",
      "ge fidelity (%): 1.0266666666666702 \t angle (deg): 0.0 \t threshold ge: 41.02524222023665\n"
     ]
    },
    {
     "data": {
      "application/vnd.jupyter.widget-view+json": {
       "model_id": "7094824cf8da4148b782539a65b4811c",
       "version_major": 2,
       "version_minor": 0
      },
      "text/plain": [
       "  0%|          | 0/10 [00:00<?, ?it/s]"
      ]
     },
     "metadata": {},
     "output_type": "display_data"
    },
    {
     "name": "stdout",
     "output_type": "stream",
     "text": [
      "Attempted to init fitparam 3 to 0.0, which is out of bounds 0 to 0.3983207628959272. Instead init to 0.1991603814479636\n",
      "Fit best freq (qA) 5136.024659214541 which is -0.33356046377775783 away from old freq 5136.358219678319\n",
      "Best freq from pi/-pi on Q3 5136.024659214541\n",
      "Attempted to init fitparam 3 to 0.0, which is out of bounds 0 to 0.08211864307498978. Instead init to 0.04105932153749489\n",
      "Fit best freq (qA) 5136.308146400125 which is -0.050073278193849546 away from old freq 5136.358219678319\n",
      "Best freq from pi/-pi on Q1 5136.308146400125\n",
      "best 1 0.20137245901735856\n",
      "Saving S:\\QRAM\\qram_4QR2\\data\\data_241025\\00101_PiMinusPiEgGfExptQ31.h5\n",
      "Saved S:\\QRAM\\qram_4QR2\\data\\data_241025\\00101_PiMinusPiEgGfExptQ31.h5\n",
      "for gain 22441.176470588234 added swap pi freq from pi minus pi 5136.308146400125\n",
      "using opt freq 5136.308146400125\n",
      "-------- swap error amplification --------\n",
      "{'device': {'readout': {'trig_offset': 150, 'lo_sideband': [1, 1, 1, 1], 'frequency': [-439.97500000000036, 0.0, 452.3682333333336, -278.89999999999964], 'gain': [0.17, 0.035, 0.25, 0.17], 'kappa_ext': [0.157, 0.065, 0.182, 0.104], 'kerr': [-0.0045, 0, 0.008, -0.003], 't_rise_reset': [0.5, 1, 0.5, 0.5], 'readout_length': [4, 4, 4, 4], 'frequency_ef': [-440.97500000000036, 0.0, 453.3682333333336, -280.35364238410557], 'readout_length_ef': [10.0, 7.0, 4.0, 8.0], 'relax_delay': [450, 450, 450, 450]}, 'qubit': {'f_ge': [4111.097866562327, 4105.838904759637, 4110.958153299016, 4110.546407850519, 3442.8755721075536, 3448.5530242338505, 3447.060317317807, 3446.4929792801067, 4762.761504132457, 4761.823567235975, 4762.909473544484, 4762.369813422167, 4380.698604555338, 4379.604868123916, 4380.717837106693, 4381.248121020163], 'f_ge_robust': [4114.313815659153, 4108.147701523904, 4114.310372455052, 4114.310372455052, 3443.0032303441935, 3448.345849629168, 0, 0, 4763.941, 4763.941, 4763.941, 4763.941, 4384.25034225973, 4384.25034225973, 4384.25034225973, 4384.25034225973], 'f_ef': [3884.6269161242526, 0.0, 0.0, 0.0, 0.0, 3348.085433174199, 0.0, 0.0, 4571.9056482340775, 4570.996526541673, 4573.280687567687, 0.0, 4211.617732525247, 4205.61697813965, 0.0, 4209.925086260656], 'f_EgGf': [2686.53594683, 0, 2017.3, 2414.92850999], 'f_EgGf_Q': [0, 0, 5885.585546008087, 5136.308146400125], 'f_f0g1': [1184.4, 999.8, 1632.9833333333333, 1620.9166666666665], 'gs': [52.40296404695958, 54.81794456602636, 43.49513117058557, 4.930653352423196, 2.6415018214608046, 6.386231497692186], 'pulses': {'pi_ge': {'sigma': [0.02, 0.02, 0.02, 0.02, 0.025, 0.025, 0.025, 0.025, 0.015, 0.015, 0.015, 0.015, 0.025, 0.025, 0.025, 0.025], 'gain': [1849, 1914, 0, 1855, 2834, 2504, 2648, 2631, 9155, 9155, 9155, 9155, 599, 599, 599, 599], 'half_gain': [1856, 1835, 1873, 1867, 2382, 2186, 2248, 2289, 9253, 9253, 9253, 9253, 524, 524, 524, 524], 'half_correction_phase': [0, 0, 0, 0, 0, 0, 0, 0, 0, 0, 0, 0, 0, 0, 0, 0, 0], 'half_gain_pi_sigma': [927, 0, 0, 0, 0, 1315, 0, 0, 0, 0, 7212, 0, 0, 0, 0, 460], 'type': 'gauss'}, 'pi_ef': {'sigma': [0.02, 0.02, 0.02, 0.02, 0.025, 0.025, 0.025, 0.025, 0.015, 0.015, 0.015, 0.015, 0.03, 0.03, 0.03, 0.03], 'gain': [1280, 0, 0, 0, 0, 1912, 0, 0, 10000, 10079, 10015, 0, 300, 300, 0, 300], 'half_gain': [1261, 0, 0, 0, 0, 1941, 0, 0, 0, 10147, 9845, 9979, 340, 340, 0, 320], 'half_gain_pi_sigma': [673, 0, 0, 0, 0, 975, 0, 0, 0, 0, 5049, 0, 340, 0, 0, 337], 'type': 'gauss'}, 'pi_EgGf': {'gain': [32000, 0, 30000, 16000], 'sigma': [0.586, 0, 0.8, 0.44643], 'type': 'flat_top'}, 'pi_EgGf_Q': {'gain': [0, 0, 12147, 22441], 'sigma': [0, 0, 0.44193131519875684, 0.1583632755769038], 'phase': [0, 0, 18.0, 24.0], 'half_sigma': [0, 0, 0.212, 0.172], 'half_phase': [0, 0, 18.0, 21.0], 'type': 'flat_top'}, 'pi_f0g1': {'gain': [32000, 32000, 32000, 32000], 'sigma': [0.536, 0.585, 1.54, 1.04], 'idle': [3, 6, 12, 8], 'type': 'flat_top'}, 'pulse_pp': {'gain': [1750, 3550, 0, 0], 'filename': '240920_3_qram_4q_2qubit_++gg'}, 'pulse_1p': {'gain': [3500, 4375, 0, 0], 'filename': '240920_qram_4q_2qubit_e+gg'}, 'pulse_p1': {'gain': [3000, 5530, 0, 0], 'filename': '240920_qram_4q_2qubit_+egg'}, 'pihalf_ge_robust': {'gain': [7559, 7660, 7559, 7559, 4843, 4462, 4462, 4144, 20111, 20111, 20111, 20111, 2375, 2375, 2375, 2375], 'filename': ['X_2_Q0', 'X_2_Q1', 'X_2_Q2', 'X_2_Q3']}, 'pi_ge_slow': {'gain': [-1, 100, -1, -1], 'sigma': [-1, 0.25, -1, -1], 'type': 'gauss'}, 'pi_Q1_ZZ_slow': {'gain': [100, 0, -1, -1], 'sigma': [0.25, 0, -1, -1], 'type': 'gauss'}}}}, 'hw': {'soc': {'dacs': {'qubit': {'ch': [0, 1, 2, 3], 'type': 'full', 'nyquist': [2, 1, 2, 2], 'mixer_freq': [0, 0, 0, 0]}, 'swap': {'ch': 1, 'type': 'full', 'nyquist': 1, 'mixer_freq': 0}, 'swap_f0g1': {'ch': [1, 1, 5, 5], 'type': ['full', 'full', 'full', 'full'], 'nyquist': 1, 'mixer_freq': 0}, 'swap_Q': {'ch': [0, -1, 2, 3], 'type': ['full', 'None', 'full', 'full'], 'nyquist': [2, 0, 2, 2], 'mixer_freq': 0}, 'readout': {'ch': [6, 4, 6, 6], 'full_mux_chs': [5, 4, 5, 5], 'type': ['mux4', 'full', 'mux4', 'mux4'], 'mixer_freq': [7250, 5795.8115578931565, 7250, 7250], 'nyquist': [2, 2, 2, 2]}, 'res_pump': {'ch': 4, 'type': 'full', 'mixer_freq': 0, 'nyquist': 2}, 'delay_chs': {'ch': [0, 1, 2, 3, 4, 5, 6], 'delay_ns': [4.0, 0.0, 5.0, 3.0, 25, 60, 71]}}, 'adcs': {'readout': {'ch': [0, 1, 2, 3]}}}, 'lo': {'twpa': {'frequency': '8210.0e6', 'power': -1.5}, 'readout': {'frequency': 0, 'power': 0}}}, 'aliases': {'readout_LO': 'SC_20A1', 'twpa_LO': 'SC_26C1', 'soc': 'Qick_QRAM'}, 'expt': {'start': 0, 'step': 1, 'expts': 10, 'reps': 2000, 'loops': 10, 'pulse_type': 'flat_top', 'post_process': 'scale', 'singleshot_reps': 15000, 'measure_f': False, 'init_state': '|1>|1>', 'qDrive': 3, 'qubits': [3, 1], 'measure_qubits': [3, 1], 'full_mux_expt': True, 'resonator_reset': [0, 2, 3]}}\n"
     ]
    },
    {
     "data": {
      "application/vnd.jupyter.widget-view+json": {
       "model_id": "aee7b29ac17f4f43af53877acfe649bd",
       "version_major": 2,
       "version_minor": 0
      },
      "text/plain": [
       "  0%|          | 0/4 [00:00<?, ?it/s]"
      ]
     },
     "metadata": {},
     "output_type": "display_data"
    },
    {
     "name": "stdout",
     "output_type": "stream",
     "text": [
      "Qubit  (3)\n",
      "ge fidelity (%): 76.88596173078209 \t angle (deg): 0.0 \t threshold ge: 154.3530642901435\n",
      "Qubit  (1)\n",
      "ge fidelity (%): 42.57135897948752 \t angle (deg): 0.0 \t threshold ge: 314.8297001952455\n"
     ]
    },
    {
     "data": {
      "application/vnd.jupyter.widget-view+json": {
       "model_id": "1db948764b7c43d18736951e13c64471",
       "version_major": 2,
       "version_minor": 0
      },
      "text/plain": [
       "  0%|          | 0/10 [00:00<?, ?it/s]"
      ]
     },
     "metadata": {},
     "output_type": "display_data"
    },
    {
     "name": "stdout",
     "output_type": "stream",
     "text": [
      "Saving S:\\QRAM\\qram_4QR2\\data\\data_241025\\00095_NPulseExptEgGfQ31.h5\n",
      "Saved S:\\QRAM\\qram_4QR2\\data\\data_241025\\00095_NPulseExptEgGfQ31.h5\n",
      "[ 0.53547863  7.6596713  11.91258503]\n",
      "Attempted to init fitparam 0 to 0.0, which is out of bounds 0.0 to 0.0. Instead init to 0.0\n",
      "Warning: fit failed with error: Each lower bound must be strictly less than each upper bound.\n",
      "[0.0, 0.0, 10]\n",
      "Warning: fit failed with error: Optimal parameters not found: The maximum number of function evaluations is exceeded.\n",
      "[180.26021461028034, 0.0, 10]\n",
      "[ 0.58541769 -7.33466135 11.81981421]\n",
      "Attempted to init fitparam 0 to 0.0, which is out of bounds 0.0 to 0.0. Instead init to 0.0\n",
      "Warning: fit failed with error: Each lower bound must be strictly less than each upper bound.\n",
      "[0.0, 0.0, 10]\n",
      "Warning: fit failed with error: Optimal parameters not found: The maximum number of function evaluations is exceeded.\n",
      "[322.27687966047813, 0.0, 10]\n",
      "From QA: adjust length to 0.1654017363094108\n",
      "\tadjust ratio 0.9574462705800113\n",
      "\n",
      "From QB: adjust length to 0.16509039872915485\n",
      "\tadjust ratio 0.9592518813690221\n",
      "best 0 inf\n",
      "pi len precise 0.1583632755769038 adjustment ratio 1.0 from Q1\n",
      "for gain 22441.176470588234 added swap pi len from error amplification 0.1583632755769038\n",
      "----------- STARTING GAIN 23176.470588235294 -----------\n",
      "-------- swap length rabi --------\n",
      "gain 23176 freq 5135.487013836205\n"
     ]
    },
    {
     "data": {
      "application/vnd.jupyter.widget-view+json": {
       "model_id": "5e02ece439484166a186a7ec8f887ffb",
       "version_major": 2,
       "version_minor": 0
      },
      "text/plain": [
       "  0%|          | 0/101 [00:00<?, ?it/s]"
      ]
     },
     "metadata": {},
     "output_type": "display_data"
    },
    {
     "name": "stdout",
     "output_type": "stream",
     "text": [
      "Saving S:\\QRAM\\qram_4QR2\\data\\data_241025\\00097_length_rabi_EgGf_qubit31.h5\n",
      "Saved S:\\QRAM\\qram_4QR2\\data\\data_241025\\00097_length_rabi_EgGf_qubit31.h5\n",
      "Attempted to init fitparam 0 to 0.0, which is out of bounds 0.0 to 0.0. Instead init to 0.0\n",
      "Attempted to init fitparam 4 to 0.0, which is out of bounds 0.0 to 0.0. Instead init to 0.0\n",
      "Warning: fit failed with error: Each lower bound must be strictly less than each upper bound.\n",
      "Attempted to init fitparam 0 to 0.0, which is out of bounds 0.0 to 0.0. Instead init to 0.0\n",
      "Attempted to init fitparam 4 to 0.0, which is out of bounds 0.0 to 0.0. Instead init to 0.0\n",
      "Warning: fit failed with error: Each lower bound must be strictly less than each upper bound.\n",
      "best 0 0.049576877670626136\n",
      "Pi length from amps data (qubit A) [us]: 0.1552121470900272\n",
      "\tPi/2 length from avgq data (qubit A) [us]: 0.0776060735450136\n",
      "\tDecay time [us]: 6.082015383823591\n",
      "Pi length from avgq data (qubit A) [us]: 0.3057658707047175\n",
      "\tPi/2 length from avgq data (qubit A) [us]: 0.15288293535235875\n",
      "\tDecay time [us]: 0.8153756552125799\n",
      "Pi length from amps data (qubit B) [us]: 0.1552902390204349\n",
      "\tPi/2 length from avgq data (qubit B) [us]: 0.07764511951021745\n",
      "\tDecay time [us]: 6.744701804804637\n",
      "Pi length from avgq data (qubit B) [us]: 0.3057658707047175\n",
      "\tPi/2 length from avgq data (qubit B) [us]: 0.15288293535235875\n",
      "\tDecay time [us]: 0.8153756552125799\n",
      "max QA amp: 254.5508070041005\n",
      "min QA amp: 91.61423777024041\n",
      "max QB amp: 359.9274893686214\n",
      "min QB amp: 271.3878777767308\n",
      "for gain 23176.470588235294 added swap pi len from length rabi 0.1552121470900272\n",
      "-------- swap pi minus pi --------\n",
      "{'device': {'readout': {'trig_offset': 150, 'lo_sideband': [1, 1, 1, 1], 'frequency': [-439.97500000000036, 0.0, 452.3682333333336, -278.89999999999964], 'gain': [0.17, 0.0001, 0.25, 0.17], 'kappa_ext': [0.157, 0.065, 0.182, 0.104], 'kerr': [-0.0045, 0, 0.008, -0.003], 't_rise_reset': [0.5, 1, 0.5, 0.5], 'readout_length': [4, 4, 4, 4], 'frequency_ef': [-440.97500000000036, 0.0, 453.3682333333336, -280.35364238410557], 'readout_length_ef': [10.0, 7.0, 4.0, 8.0], 'relax_delay': [450, 450, 450, 450]}, 'qubit': {'f_ge': [4111.097866562327, 4105.838904759637, 4110.958153299016, 4110.546407850519, 3442.8755721075536, 3448.5530242338505, 3447.060317317807, 3446.4929792801067, 4762.761504132457, 4761.823567235975, 4762.909473544484, 4762.369813422167, 4380.698604555338, 4379.604868123916, 4380.717837106693, 4381.248121020163], 'f_ge_robust': [4114.313815659153, 4108.147701523904, 4114.310372455052, 4114.310372455052, 3443.0032303441935, 3448.345849629168, 0, 0, 4763.941, 4763.941, 4763.941, 4763.941, 4384.25034225973, 4384.25034225973, 4384.25034225973, 4384.25034225973], 'f_ef': [3884.6269161242526, 0.0, 0.0, 0.0, 0.0, 3348.085433174199, 0.0, 0.0, 4571.9056482340775, 4570.996526541673, 4573.280687567687, 0.0, 4211.617732525247, 4205.61697813965, 0.0, 4209.925086260656], 'f_EgGf': [2686.53594683, 0, 2017.3, 2414.92850999], 'f_EgGf_Q': [0, 0, 5885.585546008087, 5135.487013836205], 'f_f0g1': [1184.4, 999.8, 1632.9833333333333, 1620.9166666666665], 'gs': [52.40296404695958, 54.81794456602636, 43.49513117058557, 4.930653352423196, 2.6415018214608046, 6.386231497692186], 'pulses': {'pi_ge': {'sigma': [0.02, 0.02, 0.02, 0.02, 0.025, 0.025, 0.025, 0.025, 0.015, 0.015, 0.015, 0.015, 0.025, 0.025, 0.025, 0.025], 'gain': [1849, 1914, 0, 1855, 2834, 2504, 2648, 2631, 9155, 9155, 9155, 9155, 599, 599, 599, 599], 'half_gain': [1856, 1835, 1873, 1867, 2382, 2186, 2248, 2289, 9253, 9253, 9253, 9253, 524, 524, 524, 524], 'half_correction_phase': [0, 0, 0, 0, 0, 0, 0, 0, 0, 0, 0, 0, 0, 0, 0, 0, 0], 'half_gain_pi_sigma': [927, 0, 0, 0, 0, 1315, 0, 0, 0, 0, 7212, 0, 0, 0, 0, 460], 'type': 'gauss'}, 'pi_ef': {'sigma': [0.02, 0.02, 0.02, 0.02, 0.025, 0.025, 0.025, 0.025, 0.015, 0.015, 0.015, 0.015, 0.03, 0.03, 0.03, 0.03], 'gain': [1280, 0, 0, 0, 0, 1912, 0, 0, 10000, 10079, 10015, 0, 300, 300, 0, 300], 'half_gain': [1261, 0, 0, 0, 0, 1941, 0, 0, 0, 10147, 9845, 9979, 340, 340, 0, 320], 'half_gain_pi_sigma': [673, 0, 0, 0, 0, 975, 0, 0, 0, 0, 5049, 0, 340, 0, 0, 337], 'type': 'gauss'}, 'pi_EgGf': {'gain': [32000, 0, 30000, 16000], 'sigma': [0.586, 0, 0.8, 0.44643], 'type': 'flat_top'}, 'pi_EgGf_Q': {'gain': [0, 0, 12147, 23176], 'sigma': [0, 0, 0.44193131519875684, 0.1552121470900272], 'phase': [0, 0, 18.0, 24.0], 'half_sigma': [0, 0, 0.212, 0.172], 'half_phase': [0, 0, 18.0, 21.0], 'type': 'flat_top'}, 'pi_f0g1': {'gain': [32000, 32000, 32000, 32000], 'sigma': [0.536, 0.585, 1.54, 1.04], 'idle': [3, 6, 12, 8], 'type': 'flat_top'}, 'pulse_pp': {'gain': [1750, 3550, 0, 0], 'filename': '240920_3_qram_4q_2qubit_++gg'}, 'pulse_1p': {'gain': [3500, 4375, 0, 0], 'filename': '240920_qram_4q_2qubit_e+gg'}, 'pulse_p1': {'gain': [3000, 5530, 0, 0], 'filename': '240920_qram_4q_2qubit_+egg'}, 'pihalf_ge_robust': {'gain': [7559, 7660, 7559, 7559, 4843, 4462, 4462, 4144, 20111, 20111, 20111, 20111, 2375, 2375, 2375, 2375], 'filename': ['X_2_Q0', 'X_2_Q1', 'X_2_Q2', 'X_2_Q3']}, 'pi_ge_slow': {'gain': [-1, 100, -1, -1], 'sigma': [-1, 0.25, -1, -1], 'type': 'gauss'}, 'pi_Q1_ZZ_slow': {'gain': [100, 0, -1, -1], 'sigma': [0.25, 0, -1, -1], 'type': 'gauss'}}}}, 'hw': {'soc': {'dacs': {'qubit': {'ch': [0, 1, 2, 3], 'type': 'full', 'nyquist': [2, 1, 2, 2], 'mixer_freq': [0, 0, 0, 0]}, 'swap': {'ch': 1, 'type': 'full', 'nyquist': 1, 'mixer_freq': 0}, 'swap_f0g1': {'ch': [1, 1, 5, 5], 'type': ['full', 'full', 'full', 'full'], 'nyquist': 1, 'mixer_freq': 0}, 'swap_Q': {'ch': [0, -1, 2, 3], 'type': ['full', 'None', 'full', 'full'], 'nyquist': [2, 0, 2, 2], 'mixer_freq': 0}, 'readout': {'ch': [6, 4, 6, 6], 'full_mux_chs': [5, 4, 5, 5], 'type': ['mux4', 'full', 'mux4', 'mux4'], 'mixer_freq': [7250, 5795.8115578931565, 7250, 7250], 'nyquist': [2, 2, 2, 2]}, 'res_pump': {'ch': 4, 'type': 'full', 'mixer_freq': 0, 'nyquist': 2}, 'delay_chs': {'ch': [0, 1, 2, 3, 4, 5, 6], 'delay_ns': [4.0, 0.0, 5.0, 3.0, 25, 60, 71]}}, 'adcs': {'readout': {'ch': [0, 1, 2, 3]}}}, 'lo': {'twpa': {'frequency': '8210.0e6', 'power': -1.5}, 'readout': {'frequency': 0, 'power': 0}}}, 'aliases': {'readout_LO': 'SC_20A1', 'twpa_LO': 'SC_26C1', 'soc': 'Qick_QRAM'}, 'expt': {'start_N': 0, 'step_N': 1, 'expts_N': 10, 'start_f': 5134.987013836205, 'step_f': 0.03333333333333333, 'expts_f': 31, 'reps': 1000, 'loops': 1, 'pulse_type': 'flat_top', 'post_process': 'scale', 'singleshot_reps': 15000, 'measure_f': False, 'init_state': '|1>|1>', 'qDrive': 3, 'qubits': [3, 1], 'measure_qubits': [3, 1], 'readout_cool': False, 'n_init_readout': 1, 'n_trig': 1, 'init_read_wait_us': 2, 'full_mux_expt': True, 'resonator_reset': [0, 2, 3]}}\n"
     ]
    },
    {
     "data": {
      "application/vnd.jupyter.widget-view+json": {
       "model_id": "d8874233664d45728425ad1e7fd6f720",
       "version_major": 2,
       "version_minor": 0
      },
      "text/plain": [
       "  0%|          | 0/4 [00:00<?, ?it/s]"
      ]
     },
     "metadata": {},
     "output_type": "display_data"
    },
    {
     "name": "stdout",
     "output_type": "stream",
     "text": [
      "Qubit  (3)\n",
      "ge fidelity (%): 73.94666666666666 \t angle (deg): 0.0 \t threshold ge: 159.9343591525275\n",
      "Qubit  (1)\n",
      "ge fidelity (%): 0.9866666666666912 \t angle (deg): 0.0 \t threshold ge: 95.46626110236224\n"
     ]
    },
    {
     "data": {
      "application/vnd.jupyter.widget-view+json": {
       "model_id": "fdf7354c77904194aef8c9e7282c396d",
       "version_major": 2,
       "version_minor": 0
      },
      "text/plain": [
       "  0%|          | 0/10 [00:00<?, ?it/s]"
      ]
     },
     "metadata": {},
     "output_type": "display_data"
    },
    {
     "name": "stdout",
     "output_type": "stream",
     "text": [
      "Attempted to init fitparam 3 to 0.0, which is out of bounds 0 to 0.4339588001855184. Instead init to 0.2169794000927592\n",
      "Fit best freq (qA) 5135.096981377383 which is -0.3900324588221338 away from old freq 5135.487013836205\n",
      "Best freq from pi/-pi on Q3 5135.096981377383\n",
      "Attempted to init fitparam 3 to 0.0, which is out of bounds 0 to 0.06060256670226982. Instead init to 0.03030128335113491\n",
      "Fit best freq (qA) 5135.06204091515 which is -0.42497292105508677 away from old freq 5135.487013836205\n",
      "Best freq from pi/-pi on Q1 5135.06204091515\n",
      "best 0 0.3644234647989444\n",
      "Saving S:\\QRAM\\qram_4QR2\\data\\data_241025\\00102_PiMinusPiEgGfExptQ31.h5\n",
      "Saved S:\\QRAM\\qram_4QR2\\data\\data_241025\\00102_PiMinusPiEgGfExptQ31.h5\n",
      "for gain 23176.470588235294 added swap pi freq from pi minus pi 5135.096981377383\n",
      "using opt freq 5135.096981377383\n",
      "-------- swap error amplification --------\n",
      "{'device': {'readout': {'trig_offset': 150, 'lo_sideband': [1, 1, 1, 1], 'frequency': [-439.97500000000036, 0.0, 452.3682333333336, -278.89999999999964], 'gain': [0.17, 0.035, 0.25, 0.17], 'kappa_ext': [0.157, 0.065, 0.182, 0.104], 'kerr': [-0.0045, 0, 0.008, -0.003], 't_rise_reset': [0.5, 1, 0.5, 0.5], 'readout_length': [4, 4, 4, 4], 'frequency_ef': [-440.97500000000036, 0.0, 453.3682333333336, -280.35364238410557], 'readout_length_ef': [10.0, 7.0, 4.0, 8.0], 'relax_delay': [450, 450, 450, 450]}, 'qubit': {'f_ge': [4111.097866562327, 4105.838904759637, 4110.958153299016, 4110.546407850519, 3442.8755721075536, 3448.5530242338505, 3447.060317317807, 3446.4929792801067, 4762.761504132457, 4761.823567235975, 4762.909473544484, 4762.369813422167, 4380.698604555338, 4379.604868123916, 4380.717837106693, 4381.248121020163], 'f_ge_robust': [4114.313815659153, 4108.147701523904, 4114.310372455052, 4114.310372455052, 3443.0032303441935, 3448.345849629168, 0, 0, 4763.941, 4763.941, 4763.941, 4763.941, 4384.25034225973, 4384.25034225973, 4384.25034225973, 4384.25034225973], 'f_ef': [3884.6269161242526, 0.0, 0.0, 0.0, 0.0, 3348.085433174199, 0.0, 0.0, 4571.9056482340775, 4570.996526541673, 4573.280687567687, 0.0, 4211.617732525247, 4205.61697813965, 0.0, 4209.925086260656], 'f_EgGf': [2686.53594683, 0, 2017.3, 2414.92850999], 'f_EgGf_Q': [0, 0, 5885.585546008087, 5135.096981377383], 'f_f0g1': [1184.4, 999.8, 1632.9833333333333, 1620.9166666666665], 'gs': [52.40296404695958, 54.81794456602636, 43.49513117058557, 4.930653352423196, 2.6415018214608046, 6.386231497692186], 'pulses': {'pi_ge': {'sigma': [0.02, 0.02, 0.02, 0.02, 0.025, 0.025, 0.025, 0.025, 0.015, 0.015, 0.015, 0.015, 0.025, 0.025, 0.025, 0.025], 'gain': [1849, 1914, 0, 1855, 2834, 2504, 2648, 2631, 9155, 9155, 9155, 9155, 599, 599, 599, 599], 'half_gain': [1856, 1835, 1873, 1867, 2382, 2186, 2248, 2289, 9253, 9253, 9253, 9253, 524, 524, 524, 524], 'half_correction_phase': [0, 0, 0, 0, 0, 0, 0, 0, 0, 0, 0, 0, 0, 0, 0, 0, 0], 'half_gain_pi_sigma': [927, 0, 0, 0, 0, 1315, 0, 0, 0, 0, 7212, 0, 0, 0, 0, 460], 'type': 'gauss'}, 'pi_ef': {'sigma': [0.02, 0.02, 0.02, 0.02, 0.025, 0.025, 0.025, 0.025, 0.015, 0.015, 0.015, 0.015, 0.03, 0.03, 0.03, 0.03], 'gain': [1280, 0, 0, 0, 0, 1912, 0, 0, 10000, 10079, 10015, 0, 300, 300, 0, 300], 'half_gain': [1261, 0, 0, 0, 0, 1941, 0, 0, 0, 10147, 9845, 9979, 340, 340, 0, 320], 'half_gain_pi_sigma': [673, 0, 0, 0, 0, 975, 0, 0, 0, 0, 5049, 0, 340, 0, 0, 337], 'type': 'gauss'}, 'pi_EgGf': {'gain': [32000, 0, 30000, 16000], 'sigma': [0.586, 0, 0.8, 0.44643], 'type': 'flat_top'}, 'pi_EgGf_Q': {'gain': [0, 0, 12147, 23176], 'sigma': [0, 0, 0.44193131519875684, 0.1552121470900272], 'phase': [0, 0, 18.0, 24.0], 'half_sigma': [0, 0, 0.212, 0.172], 'half_phase': [0, 0, 18.0, 21.0], 'type': 'flat_top'}, 'pi_f0g1': {'gain': [32000, 32000, 32000, 32000], 'sigma': [0.536, 0.585, 1.54, 1.04], 'idle': [3, 6, 12, 8], 'type': 'flat_top'}, 'pulse_pp': {'gain': [1750, 3550, 0, 0], 'filename': '240920_3_qram_4q_2qubit_++gg'}, 'pulse_1p': {'gain': [3500, 4375, 0, 0], 'filename': '240920_qram_4q_2qubit_e+gg'}, 'pulse_p1': {'gain': [3000, 5530, 0, 0], 'filename': '240920_qram_4q_2qubit_+egg'}, 'pihalf_ge_robust': {'gain': [7559, 7660, 7559, 7559, 4843, 4462, 4462, 4144, 20111, 20111, 20111, 20111, 2375, 2375, 2375, 2375], 'filename': ['X_2_Q0', 'X_2_Q1', 'X_2_Q2', 'X_2_Q3']}, 'pi_ge_slow': {'gain': [-1, 100, -1, -1], 'sigma': [-1, 0.25, -1, -1], 'type': 'gauss'}, 'pi_Q1_ZZ_slow': {'gain': [100, 0, -1, -1], 'sigma': [0.25, 0, -1, -1], 'type': 'gauss'}}}}, 'hw': {'soc': {'dacs': {'qubit': {'ch': [0, 1, 2, 3], 'type': 'full', 'nyquist': [2, 1, 2, 2], 'mixer_freq': [0, 0, 0, 0]}, 'swap': {'ch': 1, 'type': 'full', 'nyquist': 1, 'mixer_freq': 0}, 'swap_f0g1': {'ch': [1, 1, 5, 5], 'type': ['full', 'full', 'full', 'full'], 'nyquist': 1, 'mixer_freq': 0}, 'swap_Q': {'ch': [0, -1, 2, 3], 'type': ['full', 'None', 'full', 'full'], 'nyquist': [2, 0, 2, 2], 'mixer_freq': 0}, 'readout': {'ch': [6, 4, 6, 6], 'full_mux_chs': [5, 4, 5, 5], 'type': ['mux4', 'full', 'mux4', 'mux4'], 'mixer_freq': [7250, 5795.8115578931565, 7250, 7250], 'nyquist': [2, 2, 2, 2]}, 'res_pump': {'ch': 4, 'type': 'full', 'mixer_freq': 0, 'nyquist': 2}, 'delay_chs': {'ch': [0, 1, 2, 3, 4, 5, 6], 'delay_ns': [4.0, 0.0, 5.0, 3.0, 25, 60, 71]}}, 'adcs': {'readout': {'ch': [0, 1, 2, 3]}}}, 'lo': {'twpa': {'frequency': '8210.0e6', 'power': -1.5}, 'readout': {'frequency': 0, 'power': 0}}}, 'aliases': {'readout_LO': 'SC_20A1', 'twpa_LO': 'SC_26C1', 'soc': 'Qick_QRAM'}, 'expt': {'start': 0, 'step': 1, 'expts': 10, 'reps': 2000, 'loops': 10, 'pulse_type': 'flat_top', 'post_process': 'scale', 'singleshot_reps': 15000, 'measure_f': False, 'init_state': '|1>|1>', 'qDrive': 3, 'qubits': [3, 1], 'measure_qubits': [3, 1], 'full_mux_expt': True, 'resonator_reset': [0, 2, 3]}}\n"
     ]
    },
    {
     "data": {
      "application/vnd.jupyter.widget-view+json": {
       "model_id": "0c9eea9a246941d0bb93ac813e927c89",
       "version_major": 2,
       "version_minor": 0
      },
      "text/plain": [
       "  0%|          | 0/4 [00:00<?, ?it/s]"
      ]
     },
     "metadata": {},
     "output_type": "display_data"
    },
    {
     "name": "stdout",
     "output_type": "stream",
     "text": [
      "Qubit  (3)\n",
      "ge fidelity (%): 76.10666666666667 \t angle (deg): 0.0 \t threshold ge: 164.86674439759256\n",
      "Qubit  (1)\n",
      "ge fidelity (%): 48.17999999999999 \t angle (deg): 0.0 \t threshold ge: 310.30727641659234\n"
     ]
    },
    {
     "data": {
      "application/vnd.jupyter.widget-view+json": {
       "model_id": "14fb21dc7a8c44bf8f20e6998c3c1232",
       "version_major": 2,
       "version_minor": 0
      },
      "text/plain": [
       "  0%|          | 0/10 [00:00<?, ?it/s]"
      ]
     },
     "metadata": {},
     "output_type": "display_data"
    },
    {
     "name": "stdout",
     "output_type": "stream",
     "text": [
      "Saving S:\\QRAM\\qram_4QR2\\data\\data_241025\\00096_NPulseExptEgGfQ31.h5\n",
      "Saved S:\\QRAM\\qram_4QR2\\data\\data_241025\\00096_NPulseExptEgGfQ31.h5\n",
      "[0.48856394 4.06583513 7.54725865]\n",
      "Attempted to init fitparam 0 to 0.0, which is out of bounds 0.0 to 0.0. Instead init to 0.0\n",
      "Warning: fit failed with error: Each lower bound must be strictly less than each upper bound.\n",
      "[0.0, 0.0, 10]\n",
      "Warning: fit failed with error: Optimal parameters not found: The maximum number of function evaluations is exceeded.\n",
      "[178.98678832619947, 0.0, 10]\n",
      "[ 0.50907645 -4.06159506  8.38898379]\n",
      "Attempted to init fitparam 0 to 0.0, which is out of bounds 0.0 to 0.0. Instead init to 0.0\n",
      "Warning: fit failed with error: Each lower bound must be strictly less than each upper bound.\n",
      "[0.0, 0.0, 10]\n",
      "Warning: fit failed with error: Optimal parameters not found: The maximum number of function evaluations is exceeded.\n",
      "[313.14199950429355, 0.0, 10]\n",
      "From QA: adjust length to 0.1587990967957487\n",
      "\tadjust ratio 0.9774120270322751\n",
      "\n",
      "From QB: adjust length to 0.15879526977319855\n",
      "\tadjust ratio 0.977435583010193\n",
      "best 0 inf\n",
      "pi len precise 0.1552121470900272 adjustment ratio 1.0 from Q1\n",
      "for gain 23176.470588235294 added swap pi len from error amplification 0.1552121470900272\n",
      "----------- STARTING GAIN 23911.764705882353 -----------\n",
      "-------- swap length rabi --------\n",
      "gain 23911 freq 5134.586709199428\n"
     ]
    },
    {
     "data": {
      "application/vnd.jupyter.widget-view+json": {
       "model_id": "dcc42cbb9aef484a9392b7bef505d661",
       "version_major": 2,
       "version_minor": 0
      },
      "text/plain": [
       "  0%|          | 0/101 [00:00<?, ?it/s]"
      ]
     },
     "metadata": {},
     "output_type": "display_data"
    },
    {
     "name": "stdout",
     "output_type": "stream",
     "text": [
      "Saving S:\\QRAM\\qram_4QR2\\data\\data_241025\\00098_length_rabi_EgGf_qubit31.h5\n",
      "Saved S:\\QRAM\\qram_4QR2\\data\\data_241025\\00098_length_rabi_EgGf_qubit31.h5\n",
      "Attempted to init fitparam 0 to 0.0, which is out of bounds 0.0 to 0.0. Instead init to 0.0\n",
      "Attempted to init fitparam 4 to 0.0, which is out of bounds 0.0 to 0.0. Instead init to 0.0\n",
      "Warning: fit failed with error: Each lower bound must be strictly less than each upper bound.\n",
      "Attempted to init fitparam 0 to 0.0, which is out of bounds 0.0 to 0.0. Instead init to 0.0\n",
      "Attempted to init fitparam 4 to 0.0, which is out of bounds 0.0 to 0.0. Instead init to 0.0\n",
      "Warning: fit failed with error: Each lower bound must be strictly less than each upper bound.\n",
      "best 0 0.05343712347679306\n",
      "Pi length from amps data (qubit A) [us]: 0.1504628462909928\n",
      "\tPi/2 length from avgq data (qubit A) [us]: 0.0752314231454964\n",
      "\tDecay time [us]: 5.5191700379450515\n",
      "Pi length from avgq data (qubit A) [us]: 0.2926616191030868\n",
      "\tPi/2 length from avgq data (qubit A) [us]: 0.1463308095515434\n",
      "\tDecay time [us]: 0.7804309842748981\n",
      "Pi length from amps data (qubit B) [us]: 0.15050985484148982\n",
      "\tPi/2 length from avgq data (qubit B) [us]: 0.07525492742074491\n",
      "\tDecay time [us]: 9.991120375974429\n",
      "Pi length from avgq data (qubit B) [us]: 0.2926616191030868\n",
      "\tPi/2 length from avgq data (qubit B) [us]: 0.1463308095515434\n",
      "\tDecay time [us]: 0.7804309842748981\n",
      "max QA amp: 267.38725735657744\n",
      "min QA amp: 91.7864222227633\n",
      "max QB amp: 361.46659034701264\n",
      "min QB amp: 274.2166009480216\n",
      "for gain 23911.764705882353 added swap pi len from length rabi 0.1504628462909928\n",
      "-------- swap pi minus pi --------\n",
      "{'device': {'readout': {'trig_offset': 150, 'lo_sideband': [1, 1, 1, 1], 'frequency': [-439.97500000000036, 0.0, 452.3682333333336, -278.89999999999964], 'gain': [0.17, 0.0001, 0.25, 0.17], 'kappa_ext': [0.157, 0.065, 0.182, 0.104], 'kerr': [-0.0045, 0, 0.008, -0.003], 't_rise_reset': [0.5, 1, 0.5, 0.5], 'readout_length': [4, 4, 4, 4], 'frequency_ef': [-440.97500000000036, 0.0, 453.3682333333336, -280.35364238410557], 'readout_length_ef': [10.0, 7.0, 4.0, 8.0], 'relax_delay': [450, 450, 450, 450]}, 'qubit': {'f_ge': [4111.097866562327, 4105.838904759637, 4110.958153299016, 4110.546407850519, 3442.8755721075536, 3448.5530242338505, 3447.060317317807, 3446.4929792801067, 4762.761504132457, 4761.823567235975, 4762.909473544484, 4762.369813422167, 4380.698604555338, 4379.604868123916, 4380.717837106693, 4381.248121020163], 'f_ge_robust': [4114.313815659153, 4108.147701523904, 4114.310372455052, 4114.310372455052, 3443.0032303441935, 3448.345849629168, 0, 0, 4763.941, 4763.941, 4763.941, 4763.941, 4384.25034225973, 4384.25034225973, 4384.25034225973, 4384.25034225973], 'f_ef': [3884.6269161242526, 0.0, 0.0, 0.0, 0.0, 3348.085433174199, 0.0, 0.0, 4571.9056482340775, 4570.996526541673, 4573.280687567687, 0.0, 4211.617732525247, 4205.61697813965, 0.0, 4209.925086260656], 'f_EgGf': [2686.53594683, 0, 2017.3, 2414.92850999], 'f_EgGf_Q': [0, 0, 5885.585546008087, 5134.586709199428], 'f_f0g1': [1184.4, 999.8, 1632.9833333333333, 1620.9166666666665], 'gs': [52.40296404695958, 54.81794456602636, 43.49513117058557, 4.930653352423196, 2.6415018214608046, 6.386231497692186], 'pulses': {'pi_ge': {'sigma': [0.02, 0.02, 0.02, 0.02, 0.025, 0.025, 0.025, 0.025, 0.015, 0.015, 0.015, 0.015, 0.025, 0.025, 0.025, 0.025], 'gain': [1849, 1914, 0, 1855, 2834, 2504, 2648, 2631, 9155, 9155, 9155, 9155, 599, 599, 599, 599], 'half_gain': [1856, 1835, 1873, 1867, 2382, 2186, 2248, 2289, 9253, 9253, 9253, 9253, 524, 524, 524, 524], 'half_correction_phase': [0, 0, 0, 0, 0, 0, 0, 0, 0, 0, 0, 0, 0, 0, 0, 0, 0], 'half_gain_pi_sigma': [927, 0, 0, 0, 0, 1315, 0, 0, 0, 0, 7212, 0, 0, 0, 0, 460], 'type': 'gauss'}, 'pi_ef': {'sigma': [0.02, 0.02, 0.02, 0.02, 0.025, 0.025, 0.025, 0.025, 0.015, 0.015, 0.015, 0.015, 0.03, 0.03, 0.03, 0.03], 'gain': [1280, 0, 0, 0, 0, 1912, 0, 0, 10000, 10079, 10015, 0, 300, 300, 0, 300], 'half_gain': [1261, 0, 0, 0, 0, 1941, 0, 0, 0, 10147, 9845, 9979, 340, 340, 0, 320], 'half_gain_pi_sigma': [673, 0, 0, 0, 0, 975, 0, 0, 0, 0, 5049, 0, 340, 0, 0, 337], 'type': 'gauss'}, 'pi_EgGf': {'gain': [32000, 0, 30000, 16000], 'sigma': [0.586, 0, 0.8, 0.44643], 'type': 'flat_top'}, 'pi_EgGf_Q': {'gain': [0, 0, 12147, 23911], 'sigma': [0, 0, 0.44193131519875684, 0.1504628462909928], 'phase': [0, 0, 18.0, 24.0], 'half_sigma': [0, 0, 0.212, 0.172], 'half_phase': [0, 0, 18.0, 21.0], 'type': 'flat_top'}, 'pi_f0g1': {'gain': [32000, 32000, 32000, 32000], 'sigma': [0.536, 0.585, 1.54, 1.04], 'idle': [3, 6, 12, 8], 'type': 'flat_top'}, 'pulse_pp': {'gain': [1750, 3550, 0, 0], 'filename': '240920_3_qram_4q_2qubit_++gg'}, 'pulse_1p': {'gain': [3500, 4375, 0, 0], 'filename': '240920_qram_4q_2qubit_e+gg'}, 'pulse_p1': {'gain': [3000, 5530, 0, 0], 'filename': '240920_qram_4q_2qubit_+egg'}, 'pihalf_ge_robust': {'gain': [7559, 7660, 7559, 7559, 4843, 4462, 4462, 4144, 20111, 20111, 20111, 20111, 2375, 2375, 2375, 2375], 'filename': ['X_2_Q0', 'X_2_Q1', 'X_2_Q2', 'X_2_Q3']}, 'pi_ge_slow': {'gain': [-1, 100, -1, -1], 'sigma': [-1, 0.25, -1, -1], 'type': 'gauss'}, 'pi_Q1_ZZ_slow': {'gain': [100, 0, -1, -1], 'sigma': [0.25, 0, -1, -1], 'type': 'gauss'}}}}, 'hw': {'soc': {'dacs': {'qubit': {'ch': [0, 1, 2, 3], 'type': 'full', 'nyquist': [2, 1, 2, 2], 'mixer_freq': [0, 0, 0, 0]}, 'swap': {'ch': 1, 'type': 'full', 'nyquist': 1, 'mixer_freq': 0}, 'swap_f0g1': {'ch': [1, 1, 5, 5], 'type': ['full', 'full', 'full', 'full'], 'nyquist': 1, 'mixer_freq': 0}, 'swap_Q': {'ch': [0, -1, 2, 3], 'type': ['full', 'None', 'full', 'full'], 'nyquist': [2, 0, 2, 2], 'mixer_freq': 0}, 'readout': {'ch': [6, 4, 6, 6], 'full_mux_chs': [5, 4, 5, 5], 'type': ['mux4', 'full', 'mux4', 'mux4'], 'mixer_freq': [7250, 5795.8115578931565, 7250, 7250], 'nyquist': [2, 2, 2, 2]}, 'res_pump': {'ch': 4, 'type': 'full', 'mixer_freq': 0, 'nyquist': 2}, 'delay_chs': {'ch': [0, 1, 2, 3, 4, 5, 6], 'delay_ns': [4.0, 0.0, 5.0, 3.0, 25, 60, 71]}}, 'adcs': {'readout': {'ch': [0, 1, 2, 3]}}}, 'lo': {'twpa': {'frequency': '8210.0e6', 'power': -1.5}, 'readout': {'frequency': 0, 'power': 0}}}, 'aliases': {'readout_LO': 'SC_20A1', 'twpa_LO': 'SC_26C1', 'soc': 'Qick_QRAM'}, 'expt': {'start_N': 0, 'step_N': 1, 'expts_N': 10, 'start_f': 5134.086709199428, 'step_f': 0.03333333333333333, 'expts_f': 31, 'reps': 1000, 'loops': 1, 'pulse_type': 'flat_top', 'post_process': 'scale', 'singleshot_reps': 15000, 'measure_f': False, 'init_state': '|1>|1>', 'qDrive': 3, 'qubits': [3, 1], 'measure_qubits': [3, 1], 'readout_cool': False, 'n_init_readout': 1, 'n_trig': 1, 'init_read_wait_us': 2, 'full_mux_expt': True, 'resonator_reset': [0, 2, 3]}}\n"
     ]
    },
    {
     "data": {
      "application/vnd.jupyter.widget-view+json": {
       "model_id": "1c7f325a914542e88a3d1699cfa0acba",
       "version_major": 2,
       "version_minor": 0
      },
      "text/plain": [
       "  0%|          | 0/4 [00:00<?, ?it/s]"
      ]
     },
     "metadata": {},
     "output_type": "display_data"
    },
    {
     "name": "stdout",
     "output_type": "stream",
     "text": [
      "Qubit  (3)\n",
      "ge fidelity (%): 75.37333333333332 \t angle (deg): 0.0 \t threshold ge: 166.73538684235527\n",
      "Qubit  (1)\n",
      "ge fidelity (%): 0.7533333333333392 \t angle (deg): 0.0 \t threshold ge: 102.6774752992314\n"
     ]
    },
    {
     "data": {
      "application/vnd.jupyter.widget-view+json": {
       "model_id": "64014ac193044dea8a9eda6cc036808b",
       "version_major": 2,
       "version_minor": 0
      },
      "text/plain": [
       "  0%|          | 0/10 [00:00<?, ?it/s]"
      ]
     },
     "metadata": {},
     "output_type": "display_data"
    },
    {
     "name": "stdout",
     "output_type": "stream",
     "text": [
      "Attempted to init fitparam 3 to 0.0, which is out of bounds 0 to 0.40556904460795185. Instead init to 0.20278452230397592\n",
      "Fit best freq (qA) 5134.31522456792 which is -0.2714846315075192 away from old freq 5134.586709199428\n",
      "Best freq from pi/-pi on Q3 5134.31522456792\n",
      "Attempted to init fitparam 3 to 0.0, which is out of bounds 0 to 0.11476501834009732. Instead init to 0.05738250917004866\n",
      "Fit best freq (qA) 5134.38590192772 which is -0.20080727170807222 away from old freq 5134.586709199428\n",
      "Best freq from pi/-pi on Q1 5134.38590192772\n",
      "best 0 974.012902242773\n",
      "Saving S:\\QRAM\\qram_4QR2\\data\\data_241025\\00103_PiMinusPiEgGfExptQ31.h5\n",
      "Saved S:\\QRAM\\qram_4QR2\\data\\data_241025\\00103_PiMinusPiEgGfExptQ31.h5\n",
      "for gain 23911.764705882353 added swap pi freq from pi minus pi 5134.31522456792\n",
      "using opt freq 5134.31522456792\n",
      "-------- swap error amplification --------\n",
      "{'device': {'readout': {'trig_offset': 150, 'lo_sideband': [1, 1, 1, 1], 'frequency': [-439.97500000000036, 0.0, 452.3682333333336, -278.89999999999964], 'gain': [0.17, 0.035, 0.25, 0.17], 'kappa_ext': [0.157, 0.065, 0.182, 0.104], 'kerr': [-0.0045, 0, 0.008, -0.003], 't_rise_reset': [0.5, 1, 0.5, 0.5], 'readout_length': [4, 4, 4, 4], 'frequency_ef': [-440.97500000000036, 0.0, 453.3682333333336, -280.35364238410557], 'readout_length_ef': [10.0, 7.0, 4.0, 8.0], 'relax_delay': [450, 450, 450, 450]}, 'qubit': {'f_ge': [4111.097866562327, 4105.838904759637, 4110.958153299016, 4110.546407850519, 3442.8755721075536, 3448.5530242338505, 3447.060317317807, 3446.4929792801067, 4762.761504132457, 4761.823567235975, 4762.909473544484, 4762.369813422167, 4380.698604555338, 4379.604868123916, 4380.717837106693, 4381.248121020163], 'f_ge_robust': [4114.313815659153, 4108.147701523904, 4114.310372455052, 4114.310372455052, 3443.0032303441935, 3448.345849629168, 0, 0, 4763.941, 4763.941, 4763.941, 4763.941, 4384.25034225973, 4384.25034225973, 4384.25034225973, 4384.25034225973], 'f_ef': [3884.6269161242526, 0.0, 0.0, 0.0, 0.0, 3348.085433174199, 0.0, 0.0, 4571.9056482340775, 4570.996526541673, 4573.280687567687, 0.0, 4211.617732525247, 4205.61697813965, 0.0, 4209.925086260656], 'f_EgGf': [2686.53594683, 0, 2017.3, 2414.92850999], 'f_EgGf_Q': [0, 0, 5885.585546008087, 5134.31522456792], 'f_f0g1': [1184.4, 999.8, 1632.9833333333333, 1620.9166666666665], 'gs': [52.40296404695958, 54.81794456602636, 43.49513117058557, 4.930653352423196, 2.6415018214608046, 6.386231497692186], 'pulses': {'pi_ge': {'sigma': [0.02, 0.02, 0.02, 0.02, 0.025, 0.025, 0.025, 0.025, 0.015, 0.015, 0.015, 0.015, 0.025, 0.025, 0.025, 0.025], 'gain': [1849, 1914, 0, 1855, 2834, 2504, 2648, 2631, 9155, 9155, 9155, 9155, 599, 599, 599, 599], 'half_gain': [1856, 1835, 1873, 1867, 2382, 2186, 2248, 2289, 9253, 9253, 9253, 9253, 524, 524, 524, 524], 'half_correction_phase': [0, 0, 0, 0, 0, 0, 0, 0, 0, 0, 0, 0, 0, 0, 0, 0, 0], 'half_gain_pi_sigma': [927, 0, 0, 0, 0, 1315, 0, 0, 0, 0, 7212, 0, 0, 0, 0, 460], 'type': 'gauss'}, 'pi_ef': {'sigma': [0.02, 0.02, 0.02, 0.02, 0.025, 0.025, 0.025, 0.025, 0.015, 0.015, 0.015, 0.015, 0.03, 0.03, 0.03, 0.03], 'gain': [1280, 0, 0, 0, 0, 1912, 0, 0, 10000, 10079, 10015, 0, 300, 300, 0, 300], 'half_gain': [1261, 0, 0, 0, 0, 1941, 0, 0, 0, 10147, 9845, 9979, 340, 340, 0, 320], 'half_gain_pi_sigma': [673, 0, 0, 0, 0, 975, 0, 0, 0, 0, 5049, 0, 340, 0, 0, 337], 'type': 'gauss'}, 'pi_EgGf': {'gain': [32000, 0, 30000, 16000], 'sigma': [0.586, 0, 0.8, 0.44643], 'type': 'flat_top'}, 'pi_EgGf_Q': {'gain': [0, 0, 12147, 23911], 'sigma': [0, 0, 0.44193131519875684, 0.1504628462909928], 'phase': [0, 0, 18.0, 24.0], 'half_sigma': [0, 0, 0.212, 0.172], 'half_phase': [0, 0, 18.0, 21.0], 'type': 'flat_top'}, 'pi_f0g1': {'gain': [32000, 32000, 32000, 32000], 'sigma': [0.536, 0.585, 1.54, 1.04], 'idle': [3, 6, 12, 8], 'type': 'flat_top'}, 'pulse_pp': {'gain': [1750, 3550, 0, 0], 'filename': '240920_3_qram_4q_2qubit_++gg'}, 'pulse_1p': {'gain': [3500, 4375, 0, 0], 'filename': '240920_qram_4q_2qubit_e+gg'}, 'pulse_p1': {'gain': [3000, 5530, 0, 0], 'filename': '240920_qram_4q_2qubit_+egg'}, 'pihalf_ge_robust': {'gain': [7559, 7660, 7559, 7559, 4843, 4462, 4462, 4144, 20111, 20111, 20111, 20111, 2375, 2375, 2375, 2375], 'filename': ['X_2_Q0', 'X_2_Q1', 'X_2_Q2', 'X_2_Q3']}, 'pi_ge_slow': {'gain': [-1, 100, -1, -1], 'sigma': [-1, 0.25, -1, -1], 'type': 'gauss'}, 'pi_Q1_ZZ_slow': {'gain': [100, 0, -1, -1], 'sigma': [0.25, 0, -1, -1], 'type': 'gauss'}}}}, 'hw': {'soc': {'dacs': {'qubit': {'ch': [0, 1, 2, 3], 'type': 'full', 'nyquist': [2, 1, 2, 2], 'mixer_freq': [0, 0, 0, 0]}, 'swap': {'ch': 1, 'type': 'full', 'nyquist': 1, 'mixer_freq': 0}, 'swap_f0g1': {'ch': [1, 1, 5, 5], 'type': ['full', 'full', 'full', 'full'], 'nyquist': 1, 'mixer_freq': 0}, 'swap_Q': {'ch': [0, -1, 2, 3], 'type': ['full', 'None', 'full', 'full'], 'nyquist': [2, 0, 2, 2], 'mixer_freq': 0}, 'readout': {'ch': [6, 4, 6, 6], 'full_mux_chs': [5, 4, 5, 5], 'type': ['mux4', 'full', 'mux4', 'mux4'], 'mixer_freq': [7250, 5795.8115578931565, 7250, 7250], 'nyquist': [2, 2, 2, 2]}, 'res_pump': {'ch': 4, 'type': 'full', 'mixer_freq': 0, 'nyquist': 2}, 'delay_chs': {'ch': [0, 1, 2, 3, 4, 5, 6], 'delay_ns': [4.0, 0.0, 5.0, 3.0, 25, 60, 71]}}, 'adcs': {'readout': {'ch': [0, 1, 2, 3]}}}, 'lo': {'twpa': {'frequency': '8210.0e6', 'power': -1.5}, 'readout': {'frequency': 0, 'power': 0}}}, 'aliases': {'readout_LO': 'SC_20A1', 'twpa_LO': 'SC_26C1', 'soc': 'Qick_QRAM'}, 'expt': {'start': 0, 'step': 1, 'expts': 10, 'reps': 2000, 'loops': 10, 'pulse_type': 'flat_top', 'post_process': 'scale', 'singleshot_reps': 15000, 'measure_f': False, 'init_state': '|1>|1>', 'qDrive': 3, 'qubits': [3, 1], 'measure_qubits': [3, 1], 'full_mux_expt': True, 'resonator_reset': [0, 2, 3]}}\n"
     ]
    },
    {
     "data": {
      "application/vnd.jupyter.widget-view+json": {
       "model_id": "e199f1413f2c444caab578c6f323aa45",
       "version_major": 2,
       "version_minor": 0
      },
      "text/plain": [
       "  0%|          | 0/4 [00:00<?, ?it/s]"
      ]
     },
     "metadata": {},
     "output_type": "display_data"
    },
    {
     "name": "stdout",
     "output_type": "stream",
     "text": [
      "Qubit  (3)\n",
      "ge fidelity (%): 74.99915949952218 \t angle (deg): 0.0 \t threshold ge: 161.8871482107508\n",
      "Qubit  (1)\n",
      "ge fidelity (%): 42.90666666666668 \t angle (deg): 0.0 \t threshold ge: 316.6400536243071\n"
     ]
    },
    {
     "data": {
      "application/vnd.jupyter.widget-view+json": {
       "model_id": "805f15f998a94f8ebedbf36b1efeaa58",
       "version_major": 2,
       "version_minor": 0
      },
      "text/plain": [
       "  0%|          | 0/10 [00:00<?, ?it/s]"
      ]
     },
     "metadata": {},
     "output_type": "display_data"
    },
    {
     "name": "stdout",
     "output_type": "stream",
     "text": [
      "Saving S:\\QRAM\\qram_4QR2\\data\\data_241025\\00097_NPulseExptEgGfQ31.h5\n",
      "Saved S:\\QRAM\\qram_4QR2\\data\\data_241025\\00097_NPulseExptEgGfQ31.h5\n",
      "[0.48410556 4.88140874 9.35044707]\n",
      "Attempted to init fitparam 0 to 0.0, which is out of bounds 0.0 to 0.0. Instead init to 0.0\n",
      "Warning: fit failed with error: Each lower bound must be strictly less than each upper bound.\n",
      "[0.0, 0.0, 10]\n",
      "Warning: fit failed with error: Optimal parameters not found: The maximum number of function evaluations is exceeded.\n",
      "[178.77529044487696, 0.0, 10]\n",
      "[ 0.51796689 -5.05057262 10.65627396]\n",
      "Attempted to init fitparam 0 to 0.0, which is out of bounds 0.0 to 0.0. Instead init to 0.0\n",
      "Warning: fit failed with error: Each lower bound must be strictly less than each upper bound.\n",
      "[0.0, 0.0, 10]\n",
      "Warning: fit failed with error: Optimal parameters not found: The maximum number of function evaluations is exceeded.\n",
      "[316.8055721738991, 0.0, 10]\n",
      "From QA: adjust length to 0.15465697923701435\n",
      "\tadjust ratio 0.9728810625507306\n",
      "\n",
      "From QB: adjust length to 0.15480652173415482\n",
      "\tadjust ratio 0.9719412632329449\n",
      "best 0 inf\n",
      "pi len precise 0.1504628462909928 adjustment ratio 1.0 from Q1\n",
      "for gain 23911.764705882353 added swap pi len from error amplification 0.1504628462909928\n",
      "----------- STARTING GAIN 24647.058823529413 -----------\n",
      "-------- swap length rabi --------\n",
      "gain 24647 freq 5133.65730576799\n"
     ]
    },
    {
     "data": {
      "application/vnd.jupyter.widget-view+json": {
       "model_id": "d4ef9be988b4492abe98ddbfa75a3349",
       "version_major": 2,
       "version_minor": 0
      },
      "text/plain": [
       "  0%|          | 0/101 [00:00<?, ?it/s]"
      ]
     },
     "metadata": {},
     "output_type": "display_data"
    },
    {
     "name": "stdout",
     "output_type": "stream",
     "text": [
      "Saving S:\\QRAM\\qram_4QR2\\data\\data_241025\\00099_length_rabi_EgGf_qubit31.h5\n",
      "Saved S:\\QRAM\\qram_4QR2\\data\\data_241025\\00099_length_rabi_EgGf_qubit31.h5\n",
      "Attempted to init fitparam 0 to 0.0, which is out of bounds 0.0 to 0.0. Instead init to 0.0\n",
      "Attempted to init fitparam 4 to 0.0, which is out of bounds 0.0 to 0.0. Instead init to 0.0\n",
      "Warning: fit failed with error: Each lower bound must be strictly less than each upper bound.\n",
      "Attempted to init fitparam 0 to 0.0, which is out of bounds 0.0 to 0.0. Instead init to 0.0\n",
      "Attempted to init fitparam 4 to 0.0, which is out of bounds 0.0 to 0.0. Instead init to 0.0\n",
      "Warning: fit failed with error: Each lower bound must be strictly less than each upper bound.\n",
      "best 0 0.07936216390346582\n",
      "Pi length from amps data (qubit A) [us]: 0.14532062321917064\n",
      "\tPi/2 length from avgq data (qubit A) [us]: 0.07266031160958532\n",
      "\tDecay time [us]: 8.120167132623429\n",
      "Pi length from avgq data (qubit A) [us]: 0.279557367501456\n",
      "\tPi/2 length from avgq data (qubit A) [us]: 0.139778683750728\n",
      "\tDecay time [us]: 0.745486313337216\n",
      "Pi length from amps data (qubit B) [us]: 0.1490071145047073\n",
      "\tPi/2 length from avgq data (qubit B) [us]: 0.07450355725235365\n",
      "\tDecay time [us]: 6.08662776890922\n",
      "Pi length from avgq data (qubit B) [us]: 0.279557367501456\n",
      "\tPi/2 length from avgq data (qubit B) [us]: 0.139778683750728\n",
      "\tDecay time [us]: 0.745486313337216\n",
      "max QA amp: 263.485776092796\n",
      "min QA amp: 94.49199034874665\n",
      "max QB amp: 361.8567454801041\n",
      "min QB amp: 268.42303559809307\n",
      "for gain 24647.058823529413 added swap pi len from length rabi 0.14532062321917064\n",
      "-------- swap pi minus pi --------\n",
      "{'device': {'readout': {'trig_offset': 150, 'lo_sideband': [1, 1, 1, 1], 'frequency': [-439.97500000000036, 0.0, 452.3682333333336, -278.89999999999964], 'gain': [0.17, 0.0001, 0.25, 0.17], 'kappa_ext': [0.157, 0.065, 0.182, 0.104], 'kerr': [-0.0045, 0, 0.008, -0.003], 't_rise_reset': [0.5, 1, 0.5, 0.5], 'readout_length': [4, 4, 4, 4], 'frequency_ef': [-440.97500000000036, 0.0, 453.3682333333336, -280.35364238410557], 'readout_length_ef': [10.0, 7.0, 4.0, 8.0], 'relax_delay': [450, 450, 450, 450]}, 'qubit': {'f_ge': [4111.097866562327, 4105.838904759637, 4110.958153299016, 4110.546407850519, 3442.8755721075536, 3448.5530242338505, 3447.060317317807, 3446.4929792801067, 4762.761504132457, 4761.823567235975, 4762.909473544484, 4762.369813422167, 4380.698604555338, 4379.604868123916, 4380.717837106693, 4381.248121020163], 'f_ge_robust': [4114.313815659153, 4108.147701523904, 4114.310372455052, 4114.310372455052, 3443.0032303441935, 3448.345849629168, 0, 0, 4763.941, 4763.941, 4763.941, 4763.941, 4384.25034225973, 4384.25034225973, 4384.25034225973, 4384.25034225973], 'f_ef': [3884.6269161242526, 0.0, 0.0, 0.0, 0.0, 3348.085433174199, 0.0, 0.0, 4571.9056482340775, 4570.996526541673, 4573.280687567687, 0.0, 4211.617732525247, 4205.61697813965, 0.0, 4209.925086260656], 'f_EgGf': [2686.53594683, 0, 2017.3, 2414.92850999], 'f_EgGf_Q': [0, 0, 5885.585546008087, 5133.65730576799], 'f_f0g1': [1184.4, 999.8, 1632.9833333333333, 1620.9166666666665], 'gs': [52.40296404695958, 54.81794456602636, 43.49513117058557, 4.930653352423196, 2.6415018214608046, 6.386231497692186], 'pulses': {'pi_ge': {'sigma': [0.02, 0.02, 0.02, 0.02, 0.025, 0.025, 0.025, 0.025, 0.015, 0.015, 0.015, 0.015, 0.025, 0.025, 0.025, 0.025], 'gain': [1849, 1914, 0, 1855, 2834, 2504, 2648, 2631, 9155, 9155, 9155, 9155, 599, 599, 599, 599], 'half_gain': [1856, 1835, 1873, 1867, 2382, 2186, 2248, 2289, 9253, 9253, 9253, 9253, 524, 524, 524, 524], 'half_correction_phase': [0, 0, 0, 0, 0, 0, 0, 0, 0, 0, 0, 0, 0, 0, 0, 0, 0], 'half_gain_pi_sigma': [927, 0, 0, 0, 0, 1315, 0, 0, 0, 0, 7212, 0, 0, 0, 0, 460], 'type': 'gauss'}, 'pi_ef': {'sigma': [0.02, 0.02, 0.02, 0.02, 0.025, 0.025, 0.025, 0.025, 0.015, 0.015, 0.015, 0.015, 0.03, 0.03, 0.03, 0.03], 'gain': [1280, 0, 0, 0, 0, 1912, 0, 0, 10000, 10079, 10015, 0, 300, 300, 0, 300], 'half_gain': [1261, 0, 0, 0, 0, 1941, 0, 0, 0, 10147, 9845, 9979, 340, 340, 0, 320], 'half_gain_pi_sigma': [673, 0, 0, 0, 0, 975, 0, 0, 0, 0, 5049, 0, 340, 0, 0, 337], 'type': 'gauss'}, 'pi_EgGf': {'gain': [32000, 0, 30000, 16000], 'sigma': [0.586, 0, 0.8, 0.44643], 'type': 'flat_top'}, 'pi_EgGf_Q': {'gain': [0, 0, 12147, 24647], 'sigma': [0, 0, 0.44193131519875684, 0.14532062321917064], 'phase': [0, 0, 18.0, 24.0], 'half_sigma': [0, 0, 0.212, 0.172], 'half_phase': [0, 0, 18.0, 21.0], 'type': 'flat_top'}, 'pi_f0g1': {'gain': [32000, 32000, 32000, 32000], 'sigma': [0.536, 0.585, 1.54, 1.04], 'idle': [3, 6, 12, 8], 'type': 'flat_top'}, 'pulse_pp': {'gain': [1750, 3550, 0, 0], 'filename': '240920_3_qram_4q_2qubit_++gg'}, 'pulse_1p': {'gain': [3500, 4375, 0, 0], 'filename': '240920_qram_4q_2qubit_e+gg'}, 'pulse_p1': {'gain': [3000, 5530, 0, 0], 'filename': '240920_qram_4q_2qubit_+egg'}, 'pihalf_ge_robust': {'gain': [7559, 7660, 7559, 7559, 4843, 4462, 4462, 4144, 20111, 20111, 20111, 20111, 2375, 2375, 2375, 2375], 'filename': ['X_2_Q0', 'X_2_Q1', 'X_2_Q2', 'X_2_Q3']}, 'pi_ge_slow': {'gain': [-1, 100, -1, -1], 'sigma': [-1, 0.25, -1, -1], 'type': 'gauss'}, 'pi_Q1_ZZ_slow': {'gain': [100, 0, -1, -1], 'sigma': [0.25, 0, -1, -1], 'type': 'gauss'}}}}, 'hw': {'soc': {'dacs': {'qubit': {'ch': [0, 1, 2, 3], 'type': 'full', 'nyquist': [2, 1, 2, 2], 'mixer_freq': [0, 0, 0, 0]}, 'swap': {'ch': 1, 'type': 'full', 'nyquist': 1, 'mixer_freq': 0}, 'swap_f0g1': {'ch': [1, 1, 5, 5], 'type': ['full', 'full', 'full', 'full'], 'nyquist': 1, 'mixer_freq': 0}, 'swap_Q': {'ch': [0, -1, 2, 3], 'type': ['full', 'None', 'full', 'full'], 'nyquist': [2, 0, 2, 2], 'mixer_freq': 0}, 'readout': {'ch': [6, 4, 6, 6], 'full_mux_chs': [5, 4, 5, 5], 'type': ['mux4', 'full', 'mux4', 'mux4'], 'mixer_freq': [7250, 5795.8115578931565, 7250, 7250], 'nyquist': [2, 2, 2, 2]}, 'res_pump': {'ch': 4, 'type': 'full', 'mixer_freq': 0, 'nyquist': 2}, 'delay_chs': {'ch': [0, 1, 2, 3, 4, 5, 6], 'delay_ns': [4.0, 0.0, 5.0, 3.0, 25, 60, 71]}}, 'adcs': {'readout': {'ch': [0, 1, 2, 3]}}}, 'lo': {'twpa': {'frequency': '8210.0e6', 'power': -1.5}, 'readout': {'frequency': 0, 'power': 0}}}, 'aliases': {'readout_LO': 'SC_20A1', 'twpa_LO': 'SC_26C1', 'soc': 'Qick_QRAM'}, 'expt': {'start_N': 0, 'step_N': 1, 'expts_N': 10, 'start_f': 5133.15730576799, 'step_f': 0.03333333333333333, 'expts_f': 31, 'reps': 1000, 'loops': 1, 'pulse_type': 'flat_top', 'post_process': 'scale', 'singleshot_reps': 15000, 'measure_f': False, 'init_state': '|1>|1>', 'qDrive': 3, 'qubits': [3, 1], 'measure_qubits': [3, 1], 'readout_cool': False, 'n_init_readout': 1, 'n_trig': 1, 'init_read_wait_us': 2, 'full_mux_expt': True, 'resonator_reset': [0, 2, 3]}}\n"
     ]
    },
    {
     "data": {
      "application/vnd.jupyter.widget-view+json": {
       "model_id": "eaf34d18896443a592ad86571f3a89f0",
       "version_major": 2,
       "version_minor": 0
      },
      "text/plain": [
       "  0%|          | 0/4 [00:00<?, ?it/s]"
      ]
     },
     "metadata": {},
     "output_type": "display_data"
    },
    {
     "name": "stdout",
     "output_type": "stream",
     "text": [
      "Qubit  (3)\n",
      "ge fidelity (%): 74.96000000000001 \t angle (deg): 0.0 \t threshold ge: 158.26573006534096\n",
      "Qubit  (1)\n",
      "ge fidelity (%): 0.7000000000000117 \t angle (deg): 0.0 \t threshold ge: 138.52299738992542\n"
     ]
    },
    {
     "data": {
      "application/vnd.jupyter.widget-view+json": {
       "model_id": "86b3084de38b4bb7a9f07194e8e824b9",
       "version_major": 2,
       "version_minor": 0
      },
      "text/plain": [
       "  0%|          | 0/10 [00:00<?, ?it/s]"
      ]
     },
     "metadata": {},
     "output_type": "display_data"
    },
    {
     "name": "stdout",
     "output_type": "stream",
     "text": [
      "Attempted to init fitparam 3 to 0.0, which is out of bounds 0 to 0.44099076168479995. Instead init to 0.22049538084239997\n",
      "Fit best freq (qA) 5133.519916163953 which is -0.13738960403679812 away from old freq 5133.65730576799\n",
      "Best freq from pi/-pi on Q3 5133.519916163953\n",
      "Attempted to init fitparam 3 to 0.0, which is out of bounds 0 to 0.07841642900755642. Instead init to 0.03920821450377821\n",
      "Fit best freq (qA) 5133.696066602609 which is 0.038760834619097295 away from old freq 5133.65730576799\n",
      "Best freq from pi/-pi on Q1 5133.696066602609\n",
      "best 1 0.18010379816078745\n",
      "Saving S:\\QRAM\\qram_4QR2\\data\\data_241025\\00104_PiMinusPiEgGfExptQ31.h5\n",
      "Saved S:\\QRAM\\qram_4QR2\\data\\data_241025\\00104_PiMinusPiEgGfExptQ31.h5\n",
      "for gain 24647.058823529413 added swap pi freq from pi minus pi 5133.696066602609\n",
      "using opt freq 5133.696066602609\n",
      "-------- swap error amplification --------\n",
      "{'device': {'readout': {'trig_offset': 150, 'lo_sideband': [1, 1, 1, 1], 'frequency': [-439.97500000000036, 0.0, 452.3682333333336, -278.89999999999964], 'gain': [0.17, 0.035, 0.25, 0.17], 'kappa_ext': [0.157, 0.065, 0.182, 0.104], 'kerr': [-0.0045, 0, 0.008, -0.003], 't_rise_reset': [0.5, 1, 0.5, 0.5], 'readout_length': [4, 4, 4, 4], 'frequency_ef': [-440.97500000000036, 0.0, 453.3682333333336, -280.35364238410557], 'readout_length_ef': [10.0, 7.0, 4.0, 8.0], 'relax_delay': [450, 450, 450, 450]}, 'qubit': {'f_ge': [4111.097866562327, 4105.838904759637, 4110.958153299016, 4110.546407850519, 3442.8755721075536, 3448.5530242338505, 3447.060317317807, 3446.4929792801067, 4762.761504132457, 4761.823567235975, 4762.909473544484, 4762.369813422167, 4380.698604555338, 4379.604868123916, 4380.717837106693, 4381.248121020163], 'f_ge_robust': [4114.313815659153, 4108.147701523904, 4114.310372455052, 4114.310372455052, 3443.0032303441935, 3448.345849629168, 0, 0, 4763.941, 4763.941, 4763.941, 4763.941, 4384.25034225973, 4384.25034225973, 4384.25034225973, 4384.25034225973], 'f_ef': [3884.6269161242526, 0.0, 0.0, 0.0, 0.0, 3348.085433174199, 0.0, 0.0, 4571.9056482340775, 4570.996526541673, 4573.280687567687, 0.0, 4211.617732525247, 4205.61697813965, 0.0, 4209.925086260656], 'f_EgGf': [2686.53594683, 0, 2017.3, 2414.92850999], 'f_EgGf_Q': [0, 0, 5885.585546008087, 5133.696066602609], 'f_f0g1': [1184.4, 999.8, 1632.9833333333333, 1620.9166666666665], 'gs': [52.40296404695958, 54.81794456602636, 43.49513117058557, 4.930653352423196, 2.6415018214608046, 6.386231497692186], 'pulses': {'pi_ge': {'sigma': [0.02, 0.02, 0.02, 0.02, 0.025, 0.025, 0.025, 0.025, 0.015, 0.015, 0.015, 0.015, 0.025, 0.025, 0.025, 0.025], 'gain': [1849, 1914, 0, 1855, 2834, 2504, 2648, 2631, 9155, 9155, 9155, 9155, 599, 599, 599, 599], 'half_gain': [1856, 1835, 1873, 1867, 2382, 2186, 2248, 2289, 9253, 9253, 9253, 9253, 524, 524, 524, 524], 'half_correction_phase': [0, 0, 0, 0, 0, 0, 0, 0, 0, 0, 0, 0, 0, 0, 0, 0, 0], 'half_gain_pi_sigma': [927, 0, 0, 0, 0, 1315, 0, 0, 0, 0, 7212, 0, 0, 0, 0, 460], 'type': 'gauss'}, 'pi_ef': {'sigma': [0.02, 0.02, 0.02, 0.02, 0.025, 0.025, 0.025, 0.025, 0.015, 0.015, 0.015, 0.015, 0.03, 0.03, 0.03, 0.03], 'gain': [1280, 0, 0, 0, 0, 1912, 0, 0, 10000, 10079, 10015, 0, 300, 300, 0, 300], 'half_gain': [1261, 0, 0, 0, 0, 1941, 0, 0, 0, 10147, 9845, 9979, 340, 340, 0, 320], 'half_gain_pi_sigma': [673, 0, 0, 0, 0, 975, 0, 0, 0, 0, 5049, 0, 340, 0, 0, 337], 'type': 'gauss'}, 'pi_EgGf': {'gain': [32000, 0, 30000, 16000], 'sigma': [0.586, 0, 0.8, 0.44643], 'type': 'flat_top'}, 'pi_EgGf_Q': {'gain': [0, 0, 12147, 24647], 'sigma': [0, 0, 0.44193131519875684, 0.14532062321917064], 'phase': [0, 0, 18.0, 24.0], 'half_sigma': [0, 0, 0.212, 0.172], 'half_phase': [0, 0, 18.0, 21.0], 'type': 'flat_top'}, 'pi_f0g1': {'gain': [32000, 32000, 32000, 32000], 'sigma': [0.536, 0.585, 1.54, 1.04], 'idle': [3, 6, 12, 8], 'type': 'flat_top'}, 'pulse_pp': {'gain': [1750, 3550, 0, 0], 'filename': '240920_3_qram_4q_2qubit_++gg'}, 'pulse_1p': {'gain': [3500, 4375, 0, 0], 'filename': '240920_qram_4q_2qubit_e+gg'}, 'pulse_p1': {'gain': [3000, 5530, 0, 0], 'filename': '240920_qram_4q_2qubit_+egg'}, 'pihalf_ge_robust': {'gain': [7559, 7660, 7559, 7559, 4843, 4462, 4462, 4144, 20111, 20111, 20111, 20111, 2375, 2375, 2375, 2375], 'filename': ['X_2_Q0', 'X_2_Q1', 'X_2_Q2', 'X_2_Q3']}, 'pi_ge_slow': {'gain': [-1, 100, -1, -1], 'sigma': [-1, 0.25, -1, -1], 'type': 'gauss'}, 'pi_Q1_ZZ_slow': {'gain': [100, 0, -1, -1], 'sigma': [0.25, 0, -1, -1], 'type': 'gauss'}}}}, 'hw': {'soc': {'dacs': {'qubit': {'ch': [0, 1, 2, 3], 'type': 'full', 'nyquist': [2, 1, 2, 2], 'mixer_freq': [0, 0, 0, 0]}, 'swap': {'ch': 1, 'type': 'full', 'nyquist': 1, 'mixer_freq': 0}, 'swap_f0g1': {'ch': [1, 1, 5, 5], 'type': ['full', 'full', 'full', 'full'], 'nyquist': 1, 'mixer_freq': 0}, 'swap_Q': {'ch': [0, -1, 2, 3], 'type': ['full', 'None', 'full', 'full'], 'nyquist': [2, 0, 2, 2], 'mixer_freq': 0}, 'readout': {'ch': [6, 4, 6, 6], 'full_mux_chs': [5, 4, 5, 5], 'type': ['mux4', 'full', 'mux4', 'mux4'], 'mixer_freq': [7250, 5795.8115578931565, 7250, 7250], 'nyquist': [2, 2, 2, 2]}, 'res_pump': {'ch': 4, 'type': 'full', 'mixer_freq': 0, 'nyquist': 2}, 'delay_chs': {'ch': [0, 1, 2, 3, 4, 5, 6], 'delay_ns': [4.0, 0.0, 5.0, 3.0, 25, 60, 71]}}, 'adcs': {'readout': {'ch': [0, 1, 2, 3]}}}, 'lo': {'twpa': {'frequency': '8210.0e6', 'power': -1.5}, 'readout': {'frequency': 0, 'power': 0}}}, 'aliases': {'readout_LO': 'SC_20A1', 'twpa_LO': 'SC_26C1', 'soc': 'Qick_QRAM'}, 'expt': {'start': 0, 'step': 1, 'expts': 10, 'reps': 2000, 'loops': 10, 'pulse_type': 'flat_top', 'post_process': 'scale', 'singleshot_reps': 15000, 'measure_f': False, 'init_state': '|1>|1>', 'qDrive': 3, 'qubits': [3, 1], 'measure_qubits': [3, 1], 'full_mux_expt': True, 'resonator_reset': [0, 2, 3]}}\n"
     ]
    },
    {
     "data": {
      "application/vnd.jupyter.widget-view+json": {
       "model_id": "7009b45318b34652aeeb4eb3478d1b98",
       "version_major": 2,
       "version_minor": 0
      },
      "text/plain": [
       "  0%|          | 0/4 [00:00<?, ?it/s]"
      ]
     },
     "metadata": {},
     "output_type": "display_data"
    },
    {
     "name": "stdout",
     "output_type": "stream",
     "text": [
      "Qubit  (3)\n",
      "ge fidelity (%): 74.90580794275174 \t angle (deg): 0.0 \t threshold ge: 162.61767831211586\n",
      "Qubit  (1)\n",
      "ge fidelity (%): 51.506666666666675 \t angle (deg): 0.0 \t threshold ge: 308.6610485353764\n"
     ]
    },
    {
     "data": {
      "application/vnd.jupyter.widget-view+json": {
       "model_id": "72775594700b45c2b04223f27e408559",
       "version_major": 2,
       "version_minor": 0
      },
      "text/plain": [
       "  0%|          | 0/10 [00:00<?, ?it/s]"
      ]
     },
     "metadata": {},
     "output_type": "display_data"
    },
    {
     "name": "stdout",
     "output_type": "stream",
     "text": [
      "Saving S:\\QRAM\\qram_4QR2\\data\\data_241025\\00098_NPulseExptEgGfQ31.h5\n",
      "Saved S:\\QRAM\\qram_4QR2\\data\\data_241025\\00098_NPulseExptEgGfQ31.h5\n",
      "[0.48332362 7.66568771 8.64277418]\n",
      "Attempted to init fitparam 0 to 0.0, which is out of bounds 0.0 to 0.0. Instead init to 0.0\n",
      "Warning: fit failed with error: Each lower bound must be strictly less than each upper bound.\n",
      "[0.0, 0.0, 10]\n",
      "Warning: fit failed with error: Optimal parameters not found: The maximum number of function evaluations is exceeded.\n",
      "[179.17708740879428, 0.0, 10]\n",
      "[ 0.58076373 -6.99071444  8.00890833]\n",
      "Attempted to init fitparam 0 to 0.0, which is out of bounds 0.0 to 0.0. Instead init to 0.0\n",
      "Warning: fit failed with error: Each lower bound must be strictly less than each upper bound.\n",
      "[0.0, 0.0, 10]\n",
      "Warning: fit failed with error: Optimal parameters not found: The maximum number of function evaluations is exceeded.\n",
      "[313.1500429207989, 0.0, 10]\n",
      "From QA: adjust length to 0.15178470167339028\n",
      "\tadjust ratio 0.9574128460710816\n",
      "\n",
      "From QB: adjust length to 0.1511925333684777\n",
      "\tadjust ratio 0.961162697532183\n",
      "best 0 inf\n",
      "pi len precise 0.14532062321917064 adjustment ratio 1.0 from Q1\n",
      "for gain 24647.058823529413 added swap pi len from error amplification 0.14532062321917064\n",
      "----------- STARTING GAIN 25382.35294117647 -----------\n",
      "-------- swap length rabi --------\n",
      "gain 25382 freq 5132.698803541891\n"
     ]
    },
    {
     "data": {
      "application/vnd.jupyter.widget-view+json": {
       "model_id": "7b4e1df95b3246029f10b6ea6fd66b71",
       "version_major": 2,
       "version_minor": 0
      },
      "text/plain": [
       "  0%|          | 0/101 [00:00<?, ?it/s]"
      ]
     },
     "metadata": {},
     "output_type": "display_data"
    },
    {
     "name": "stdout",
     "output_type": "stream",
     "text": [
      "Saving S:\\QRAM\\qram_4QR2\\data\\data_241025\\00100_length_rabi_EgGf_qubit31.h5\n",
      "Saved S:\\QRAM\\qram_4QR2\\data\\data_241025\\00100_length_rabi_EgGf_qubit31.h5\n",
      "Attempted to init fitparam 0 to 0.0, which is out of bounds 0.0 to 0.0. Instead init to 0.0\n",
      "Attempted to init fitparam 4 to 0.0, which is out of bounds 0.0 to 0.0. Instead init to 0.0\n",
      "Warning: fit failed with error: Each lower bound must be strictly less than each upper bound.\n",
      "Attempted to init fitparam 0 to 0.0, which is out of bounds 0.0 to 0.0. Instead init to 0.0\n",
      "Attempted to init fitparam 4 to 0.0, which is out of bounds 0.0 to 0.0. Instead init to 0.0\n",
      "Warning: fit failed with error: Each lower bound must be strictly less than each upper bound.\n",
      "best 0 0.20097110775770166\n",
      "Pi length from amps data (qubit A) [us]: 0.14367011071809124\n",
      "\tPi/2 length from avgq data (qubit A) [us]: 0.07183505535904562\n",
      "\tDecay time [us]: 22.356143647576985\n",
      "Pi length from avgq data (qubit A) [us]: 0.26645311589982523\n",
      "\tPi/2 length from avgq data (qubit A) [us]: 0.13322655794991262\n",
      "\tDecay time [us]: 0.710541642399534\n",
      "Pi length from amps data (qubit B) [us]: 0.14625246212070928\n",
      "\tPi/2 length from avgq data (qubit B) [us]: 0.07312623106035464\n",
      "\tDecay time [us]: 1414246.415624417\n",
      "Pi length from avgq data (qubit B) [us]: 0.26645311589982523\n",
      "\tPi/2 length from avgq data (qubit B) [us]: 0.13322655794991262\n",
      "\tDecay time [us]: 0.710541642399534\n",
      "max QA amp: 263.44475789305346\n",
      "min QA amp: 89.72080543936859\n",
      "max QB amp: 360.6035001897305\n",
      "min QB amp: 272.8839392364389\n",
      "for gain 25382.35294117647 added swap pi len from length rabi 0.14367011071809124\n",
      "-------- swap pi minus pi --------\n",
      "{'device': {'readout': {'trig_offset': 150, 'lo_sideband': [1, 1, 1, 1], 'frequency': [-439.97500000000036, 0.0, 452.3682333333336, -278.89999999999964], 'gain': [0.17, 0.0001, 0.25, 0.17], 'kappa_ext': [0.157, 0.065, 0.182, 0.104], 'kerr': [-0.0045, 0, 0.008, -0.003], 't_rise_reset': [0.5, 1, 0.5, 0.5], 'readout_length': [4, 4, 4, 4], 'frequency_ef': [-440.97500000000036, 0.0, 453.3682333333336, -280.35364238410557], 'readout_length_ef': [10.0, 7.0, 4.0, 8.0], 'relax_delay': [450, 450, 450, 450]}, 'qubit': {'f_ge': [4111.097866562327, 4105.838904759637, 4110.958153299016, 4110.546407850519, 3442.8755721075536, 3448.5530242338505, 3447.060317317807, 3446.4929792801067, 4762.761504132457, 4761.823567235975, 4762.909473544484, 4762.369813422167, 4380.698604555338, 4379.604868123916, 4380.717837106693, 4381.248121020163], 'f_ge_robust': [4114.313815659153, 4108.147701523904, 4114.310372455052, 4114.310372455052, 3443.0032303441935, 3448.345849629168, 0, 0, 4763.941, 4763.941, 4763.941, 4763.941, 4384.25034225973, 4384.25034225973, 4384.25034225973, 4384.25034225973], 'f_ef': [3884.6269161242526, 0.0, 0.0, 0.0, 0.0, 3348.085433174199, 0.0, 0.0, 4571.9056482340775, 4570.996526541673, 4573.280687567687, 0.0, 4211.617732525247, 4205.61697813965, 0.0, 4209.925086260656], 'f_EgGf': [2686.53594683, 0, 2017.3, 2414.92850999], 'f_EgGf_Q': [0, 0, 5885.585546008087, 5132.698803541891], 'f_f0g1': [1184.4, 999.8, 1632.9833333333333, 1620.9166666666665], 'gs': [52.40296404695958, 54.81794456602636, 43.49513117058557, 4.930653352423196, 2.6415018214608046, 6.386231497692186], 'pulses': {'pi_ge': {'sigma': [0.02, 0.02, 0.02, 0.02, 0.025, 0.025, 0.025, 0.025, 0.015, 0.015, 0.015, 0.015, 0.025, 0.025, 0.025, 0.025], 'gain': [1849, 1914, 0, 1855, 2834, 2504, 2648, 2631, 9155, 9155, 9155, 9155, 599, 599, 599, 599], 'half_gain': [1856, 1835, 1873, 1867, 2382, 2186, 2248, 2289, 9253, 9253, 9253, 9253, 524, 524, 524, 524], 'half_correction_phase': [0, 0, 0, 0, 0, 0, 0, 0, 0, 0, 0, 0, 0, 0, 0, 0, 0], 'half_gain_pi_sigma': [927, 0, 0, 0, 0, 1315, 0, 0, 0, 0, 7212, 0, 0, 0, 0, 460], 'type': 'gauss'}, 'pi_ef': {'sigma': [0.02, 0.02, 0.02, 0.02, 0.025, 0.025, 0.025, 0.025, 0.015, 0.015, 0.015, 0.015, 0.03, 0.03, 0.03, 0.03], 'gain': [1280, 0, 0, 0, 0, 1912, 0, 0, 10000, 10079, 10015, 0, 300, 300, 0, 300], 'half_gain': [1261, 0, 0, 0, 0, 1941, 0, 0, 0, 10147, 9845, 9979, 340, 340, 0, 320], 'half_gain_pi_sigma': [673, 0, 0, 0, 0, 975, 0, 0, 0, 0, 5049, 0, 340, 0, 0, 337], 'type': 'gauss'}, 'pi_EgGf': {'gain': [32000, 0, 30000, 16000], 'sigma': [0.586, 0, 0.8, 0.44643], 'type': 'flat_top'}, 'pi_EgGf_Q': {'gain': [0, 0, 12147, 25382], 'sigma': [0, 0, 0.44193131519875684, 0.14367011071809124], 'phase': [0, 0, 18.0, 24.0], 'half_sigma': [0, 0, 0.212, 0.172], 'half_phase': [0, 0, 18.0, 21.0], 'type': 'flat_top'}, 'pi_f0g1': {'gain': [32000, 32000, 32000, 32000], 'sigma': [0.536, 0.585, 1.54, 1.04], 'idle': [3, 6, 12, 8], 'type': 'flat_top'}, 'pulse_pp': {'gain': [1750, 3550, 0, 0], 'filename': '240920_3_qram_4q_2qubit_++gg'}, 'pulse_1p': {'gain': [3500, 4375, 0, 0], 'filename': '240920_qram_4q_2qubit_e+gg'}, 'pulse_p1': {'gain': [3000, 5530, 0, 0], 'filename': '240920_qram_4q_2qubit_+egg'}, 'pihalf_ge_robust': {'gain': [7559, 7660, 7559, 7559, 4843, 4462, 4462, 4144, 20111, 20111, 20111, 20111, 2375, 2375, 2375, 2375], 'filename': ['X_2_Q0', 'X_2_Q1', 'X_2_Q2', 'X_2_Q3']}, 'pi_ge_slow': {'gain': [-1, 100, -1, -1], 'sigma': [-1, 0.25, -1, -1], 'type': 'gauss'}, 'pi_Q1_ZZ_slow': {'gain': [100, 0, -1, -1], 'sigma': [0.25, 0, -1, -1], 'type': 'gauss'}}}}, 'hw': {'soc': {'dacs': {'qubit': {'ch': [0, 1, 2, 3], 'type': 'full', 'nyquist': [2, 1, 2, 2], 'mixer_freq': [0, 0, 0, 0]}, 'swap': {'ch': 1, 'type': 'full', 'nyquist': 1, 'mixer_freq': 0}, 'swap_f0g1': {'ch': [1, 1, 5, 5], 'type': ['full', 'full', 'full', 'full'], 'nyquist': 1, 'mixer_freq': 0}, 'swap_Q': {'ch': [0, -1, 2, 3], 'type': ['full', 'None', 'full', 'full'], 'nyquist': [2, 0, 2, 2], 'mixer_freq': 0}, 'readout': {'ch': [6, 4, 6, 6], 'full_mux_chs': [5, 4, 5, 5], 'type': ['mux4', 'full', 'mux4', 'mux4'], 'mixer_freq': [7250, 5795.8115578931565, 7250, 7250], 'nyquist': [2, 2, 2, 2]}, 'res_pump': {'ch': 4, 'type': 'full', 'mixer_freq': 0, 'nyquist': 2}, 'delay_chs': {'ch': [0, 1, 2, 3, 4, 5, 6], 'delay_ns': [4.0, 0.0, 5.0, 3.0, 25, 60, 71]}}, 'adcs': {'readout': {'ch': [0, 1, 2, 3]}}}, 'lo': {'twpa': {'frequency': '8210.0e6', 'power': -1.5}, 'readout': {'frequency': 0, 'power': 0}}}, 'aliases': {'readout_LO': 'SC_20A1', 'twpa_LO': 'SC_26C1', 'soc': 'Qick_QRAM'}, 'expt': {'start_N': 0, 'step_N': 1, 'expts_N': 10, 'start_f': 5132.198803541891, 'step_f': 0.03333333333333333, 'expts_f': 31, 'reps': 1000, 'loops': 1, 'pulse_type': 'flat_top', 'post_process': 'scale', 'singleshot_reps': 15000, 'measure_f': False, 'init_state': '|1>|1>', 'qDrive': 3, 'qubits': [3, 1], 'measure_qubits': [3, 1], 'readout_cool': False, 'n_init_readout': 1, 'n_trig': 1, 'init_read_wait_us': 2, 'full_mux_expt': True, 'resonator_reset': [0, 2, 3]}}\n"
     ]
    },
    {
     "data": {
      "application/vnd.jupyter.widget-view+json": {
       "model_id": "3fb4bfad50cf4c5894ce57e0a1f6cd70",
       "version_major": 2,
       "version_minor": 0
      },
      "text/plain": [
       "  0%|          | 0/4 [00:00<?, ?it/s]"
      ]
     },
     "metadata": {},
     "output_type": "display_data"
    },
    {
     "name": "stdout",
     "output_type": "stream",
     "text": [
      "Qubit  (3)\n",
      "ge fidelity (%): 75.77255728159655 \t angle (deg): 0.0 \t threshold ge: 162.87219487676856\n",
      "Qubit  (1)\n",
      "ge fidelity (%): 2.3466666666666636 \t angle (deg): 0.0 \t threshold ge: 58.962942686785816\n"
     ]
    },
    {
     "data": {
      "application/vnd.jupyter.widget-view+json": {
       "model_id": "38c49ae867a6479da6f01b7ca2e9426e",
       "version_major": 2,
       "version_minor": 0
      },
      "text/plain": [
       "  0%|          | 0/10 [00:00<?, ?it/s]"
      ]
     },
     "metadata": {},
     "output_type": "display_data"
    },
    {
     "name": "stdout",
     "output_type": "stream",
     "text": [
      "Attempted to init fitparam 3 to 0.0, which is out of bounds 0 to 0.5106866999875753. Instead init to 0.25534334999378766\n",
      "Fit best freq (qA) 5132.572277302013 which is -0.12652623987742118 away from old freq 5132.698803541891\n",
      "Best freq from pi/-pi on Q3 5132.572277302013\n",
      "Attempted to init fitparam 3 to 0.0, which is out of bounds 0 to 0.11419677418684013. Instead init to 0.057098387093420064\n",
      "Fit best freq (qA) 5132.2795445243155 which is -0.4192590175753139 away from old freq 5132.698803541891\n",
      "Best freq from pi/-pi on Q1 5132.2795445243155\n",
      "best 1 0.12760171771648846\n",
      "Saving S:\\QRAM\\qram_4QR2\\data\\data_241025\\00105_PiMinusPiEgGfExptQ31.h5\n",
      "Saved S:\\QRAM\\qram_4QR2\\data\\data_241025\\00105_PiMinusPiEgGfExptQ31.h5\n",
      "for gain 25382.35294117647 added swap pi freq from pi minus pi 5132.2795445243155\n",
      "using opt freq 5132.2795445243155\n",
      "-------- swap error amplification --------\n",
      "{'device': {'readout': {'trig_offset': 150, 'lo_sideband': [1, 1, 1, 1], 'frequency': [-439.97500000000036, 0.0, 452.3682333333336, -278.89999999999964], 'gain': [0.17, 0.035, 0.25, 0.17], 'kappa_ext': [0.157, 0.065, 0.182, 0.104], 'kerr': [-0.0045, 0, 0.008, -0.003], 't_rise_reset': [0.5, 1, 0.5, 0.5], 'readout_length': [4, 4, 4, 4], 'frequency_ef': [-440.97500000000036, 0.0, 453.3682333333336, -280.35364238410557], 'readout_length_ef': [10.0, 7.0, 4.0, 8.0], 'relax_delay': [450, 450, 450, 450]}, 'qubit': {'f_ge': [4111.097866562327, 4105.838904759637, 4110.958153299016, 4110.546407850519, 3442.8755721075536, 3448.5530242338505, 3447.060317317807, 3446.4929792801067, 4762.761504132457, 4761.823567235975, 4762.909473544484, 4762.369813422167, 4380.698604555338, 4379.604868123916, 4380.717837106693, 4381.248121020163], 'f_ge_robust': [4114.313815659153, 4108.147701523904, 4114.310372455052, 4114.310372455052, 3443.0032303441935, 3448.345849629168, 0, 0, 4763.941, 4763.941, 4763.941, 4763.941, 4384.25034225973, 4384.25034225973, 4384.25034225973, 4384.25034225973], 'f_ef': [3884.6269161242526, 0.0, 0.0, 0.0, 0.0, 3348.085433174199, 0.0, 0.0, 4571.9056482340775, 4570.996526541673, 4573.280687567687, 0.0, 4211.617732525247, 4205.61697813965, 0.0, 4209.925086260656], 'f_EgGf': [2686.53594683, 0, 2017.3, 2414.92850999], 'f_EgGf_Q': [0, 0, 5885.585546008087, 5132.2795445243155], 'f_f0g1': [1184.4, 999.8, 1632.9833333333333, 1620.9166666666665], 'gs': [52.40296404695958, 54.81794456602636, 43.49513117058557, 4.930653352423196, 2.6415018214608046, 6.386231497692186], 'pulses': {'pi_ge': {'sigma': [0.02, 0.02, 0.02, 0.02, 0.025, 0.025, 0.025, 0.025, 0.015, 0.015, 0.015, 0.015, 0.025, 0.025, 0.025, 0.025], 'gain': [1849, 1914, 0, 1855, 2834, 2504, 2648, 2631, 9155, 9155, 9155, 9155, 599, 599, 599, 599], 'half_gain': [1856, 1835, 1873, 1867, 2382, 2186, 2248, 2289, 9253, 9253, 9253, 9253, 524, 524, 524, 524], 'half_correction_phase': [0, 0, 0, 0, 0, 0, 0, 0, 0, 0, 0, 0, 0, 0, 0, 0, 0], 'half_gain_pi_sigma': [927, 0, 0, 0, 0, 1315, 0, 0, 0, 0, 7212, 0, 0, 0, 0, 460], 'type': 'gauss'}, 'pi_ef': {'sigma': [0.02, 0.02, 0.02, 0.02, 0.025, 0.025, 0.025, 0.025, 0.015, 0.015, 0.015, 0.015, 0.03, 0.03, 0.03, 0.03], 'gain': [1280, 0, 0, 0, 0, 1912, 0, 0, 10000, 10079, 10015, 0, 300, 300, 0, 300], 'half_gain': [1261, 0, 0, 0, 0, 1941, 0, 0, 0, 10147, 9845, 9979, 340, 340, 0, 320], 'half_gain_pi_sigma': [673, 0, 0, 0, 0, 975, 0, 0, 0, 0, 5049, 0, 340, 0, 0, 337], 'type': 'gauss'}, 'pi_EgGf': {'gain': [32000, 0, 30000, 16000], 'sigma': [0.586, 0, 0.8, 0.44643], 'type': 'flat_top'}, 'pi_EgGf_Q': {'gain': [0, 0, 12147, 25382], 'sigma': [0, 0, 0.44193131519875684, 0.14367011071809124], 'phase': [0, 0, 18.0, 24.0], 'half_sigma': [0, 0, 0.212, 0.172], 'half_phase': [0, 0, 18.0, 21.0], 'type': 'flat_top'}, 'pi_f0g1': {'gain': [32000, 32000, 32000, 32000], 'sigma': [0.536, 0.585, 1.54, 1.04], 'idle': [3, 6, 12, 8], 'type': 'flat_top'}, 'pulse_pp': {'gain': [1750, 3550, 0, 0], 'filename': '240920_3_qram_4q_2qubit_++gg'}, 'pulse_1p': {'gain': [3500, 4375, 0, 0], 'filename': '240920_qram_4q_2qubit_e+gg'}, 'pulse_p1': {'gain': [3000, 5530, 0, 0], 'filename': '240920_qram_4q_2qubit_+egg'}, 'pihalf_ge_robust': {'gain': [7559, 7660, 7559, 7559, 4843, 4462, 4462, 4144, 20111, 20111, 20111, 20111, 2375, 2375, 2375, 2375], 'filename': ['X_2_Q0', 'X_2_Q1', 'X_2_Q2', 'X_2_Q3']}, 'pi_ge_slow': {'gain': [-1, 100, -1, -1], 'sigma': [-1, 0.25, -1, -1], 'type': 'gauss'}, 'pi_Q1_ZZ_slow': {'gain': [100, 0, -1, -1], 'sigma': [0.25, 0, -1, -1], 'type': 'gauss'}}}}, 'hw': {'soc': {'dacs': {'qubit': {'ch': [0, 1, 2, 3], 'type': 'full', 'nyquist': [2, 1, 2, 2], 'mixer_freq': [0, 0, 0, 0]}, 'swap': {'ch': 1, 'type': 'full', 'nyquist': 1, 'mixer_freq': 0}, 'swap_f0g1': {'ch': [1, 1, 5, 5], 'type': ['full', 'full', 'full', 'full'], 'nyquist': 1, 'mixer_freq': 0}, 'swap_Q': {'ch': [0, -1, 2, 3], 'type': ['full', 'None', 'full', 'full'], 'nyquist': [2, 0, 2, 2], 'mixer_freq': 0}, 'readout': {'ch': [6, 4, 6, 6], 'full_mux_chs': [5, 4, 5, 5], 'type': ['mux4', 'full', 'mux4', 'mux4'], 'mixer_freq': [7250, 5795.8115578931565, 7250, 7250], 'nyquist': [2, 2, 2, 2]}, 'res_pump': {'ch': 4, 'type': 'full', 'mixer_freq': 0, 'nyquist': 2}, 'delay_chs': {'ch': [0, 1, 2, 3, 4, 5, 6], 'delay_ns': [4.0, 0.0, 5.0, 3.0, 25, 60, 71]}}, 'adcs': {'readout': {'ch': [0, 1, 2, 3]}}}, 'lo': {'twpa': {'frequency': '8210.0e6', 'power': -1.5}, 'readout': {'frequency': 0, 'power': 0}}}, 'aliases': {'readout_LO': 'SC_20A1', 'twpa_LO': 'SC_26C1', 'soc': 'Qick_QRAM'}, 'expt': {'start': 0, 'step': 1, 'expts': 10, 'reps': 2000, 'loops': 10, 'pulse_type': 'flat_top', 'post_process': 'scale', 'singleshot_reps': 15000, 'measure_f': False, 'init_state': '|1>|1>', 'qDrive': 3, 'qubits': [3, 1], 'measure_qubits': [3, 1], 'full_mux_expt': True, 'resonator_reset': [0, 2, 3]}}\n"
     ]
    },
    {
     "data": {
      "application/vnd.jupyter.widget-view+json": {
       "model_id": "f4f99fb57db44e86a534725afe10284c",
       "version_major": 2,
       "version_minor": 0
      },
      "text/plain": [
       "  0%|          | 0/4 [00:00<?, ?it/s]"
      ]
     },
     "metadata": {},
     "output_type": "display_data"
    },
    {
     "name": "stdout",
     "output_type": "stream",
     "text": [
      "Qubit  (3)\n",
      "ge fidelity (%): 74.84666666666666 \t angle (deg): 0.0 \t threshold ge: 162.54028385616598\n",
      "Qubit  (1)\n",
      "ge fidelity (%): 51.38537102473497 \t angle (deg): 0.0 \t threshold ge: 310.19357266014197\n"
     ]
    },
    {
     "data": {
      "application/vnd.jupyter.widget-view+json": {
       "model_id": "0aff4ceb92fc45eeada75a3b66bf3e31",
       "version_major": 2,
       "version_minor": 0
      },
      "text/plain": [
       "  0%|          | 0/10 [00:00<?, ?it/s]"
      ]
     },
     "metadata": {},
     "output_type": "display_data"
    },
    {
     "name": "stdout",
     "output_type": "stream",
     "text": [
      "Saving S:\\QRAM\\qram_4QR2\\data\\data_241025\\00099_NPulseExptEgGfQ31.h5\n",
      "Saved S:\\QRAM\\qram_4QR2\\data\\data_241025\\00099_NPulseExptEgGfQ31.h5\n",
      "[0.455577   6.22150096 3.37165181]\n",
      "Attempted to init fitparam 0 to 0.0, which is out of bounds 0.0 to 0.0. Instead init to 0.0\n",
      "Warning: fit failed with error: Each lower bound must be strictly less than each upper bound.\n",
      "[0.0, 0.0, 10]\n",
      "Warning: fit failed with error: Optimal parameters not found: The maximum number of function evaluations is exceeded.\n",
      "[171.82833372137705, 0.0, 10]\n",
      "[ 0.60259307 -4.80514194  3.59743712]\n",
      "Attempted to init fitparam 0 to 0.0, which is out of bounds 0.0 to 0.0. Instead init to 0.0\n",
      "Warning: fit failed with error: Each lower bound must be strictly less than each upper bound.\n",
      "[0.0, 0.0, 10]\n",
      "Warning: fit failed with error: Optimal parameters not found: The maximum number of function evaluations is exceeded.\n",
      "[313.40368358440014, 0.0, 10]\n",
      "From QA: adjust length to 0.14881369140400283\n",
      "\tadjust ratio 0.9654361057952142\n",
      "\n",
      "From QB: adjust length to 0.14761061035300893\n",
      "\tadjust ratio 0.9733047670117072\n",
      "best 0 inf\n",
      "pi len precise 0.14367011071809124 adjustment ratio 1.0 from Q1\n",
      "for gain 25382.35294117647 added swap pi len from error amplification 0.14367011071809124\n",
      "----------- STARTING GAIN 26117.647058823528 -----------\n",
      "-------- swap length rabi --------\n",
      "gain 26117 freq 5131.711202521129\n"
     ]
    },
    {
     "data": {
      "application/vnd.jupyter.widget-view+json": {
       "model_id": "09960549cf2e473aa335d4c911b5e2f5",
       "version_major": 2,
       "version_minor": 0
      },
      "text/plain": [
       "  0%|          | 0/101 [00:00<?, ?it/s]"
      ]
     },
     "metadata": {},
     "output_type": "display_data"
    },
    {
     "name": "stdout",
     "output_type": "stream",
     "text": [
      "Saving S:\\QRAM\\qram_4QR2\\data\\data_241025\\00101_length_rabi_EgGf_qubit31.h5\n",
      "Saved S:\\QRAM\\qram_4QR2\\data\\data_241025\\00101_length_rabi_EgGf_qubit31.h5\n",
      "Attempted to init fitparam 0 to 0.0, which is out of bounds 0.0 to 0.0. Instead init to 0.0\n",
      "Attempted to init fitparam 4 to 0.0, which is out of bounds 0.0 to 0.0. Instead init to 0.0\n",
      "Warning: fit failed with error: Each lower bound must be strictly less than each upper bound.\n",
      "Attempted to init fitparam 0 to 0.0, which is out of bounds 0.0 to 0.0. Instead init to 0.0\n",
      "Attempted to init fitparam 4 to 0.0, which is out of bounds 0.0 to 0.0. Instead init to 0.0\n",
      "Warning: fit failed with error: Each lower bound must be strictly less than each upper bound.\n",
      "best 0 0.04065524422809021\n",
      "Pi length from amps data (qubit A) [us]: 0.1401874263524681\n",
      "\tPi/2 length from avgq data (qubit A) [us]: 0.07009371317623404\n",
      "\tDecay time [us]: 4.086889860877597\n",
      "Pi length from avgq data (qubit A) [us]: 0.2533488642981945\n",
      "\tPi/2 length from avgq data (qubit A) [us]: 0.12667443214909724\n",
      "\tDecay time [us]: 0.6755969714618519\n",
      "Pi length from amps data (qubit B) [us]: 0.14343917382106908\n",
      "\tPi/2 length from avgq data (qubit B) [us]: 0.07171958691053454\n",
      "\tDecay time [us]: 8.258727570352168\n",
      "Pi length from avgq data (qubit B) [us]: 0.2533488642981945\n",
      "\tPi/2 length from avgq data (qubit B) [us]: 0.12667443214909724\n",
      "\tDecay time [us]: 0.6755969714618519\n",
      "max QA amp: 265.87137477407884\n",
      "min QA amp: 86.55994176198661\n",
      "max QB amp: 365.3521961133717\n",
      "min QB amp: 271.2869400754654\n",
      "for gain 26117.647058823528 added swap pi len from length rabi 0.1401874263524681\n",
      "-------- swap pi minus pi --------\n",
      "{'device': {'readout': {'trig_offset': 150, 'lo_sideband': [1, 1, 1, 1], 'frequency': [-439.97500000000036, 0.0, 452.3682333333336, -278.89999999999964], 'gain': [0.17, 0.0001, 0.25, 0.17], 'kappa_ext': [0.157, 0.065, 0.182, 0.104], 'kerr': [-0.0045, 0, 0.008, -0.003], 't_rise_reset': [0.5, 1, 0.5, 0.5], 'readout_length': [4, 4, 4, 4], 'frequency_ef': [-440.97500000000036, 0.0, 453.3682333333336, -280.35364238410557], 'readout_length_ef': [10.0, 7.0, 4.0, 8.0], 'relax_delay': [450, 450, 450, 450]}, 'qubit': {'f_ge': [4111.097866562327, 4105.838904759637, 4110.958153299016, 4110.546407850519, 3442.8755721075536, 3448.5530242338505, 3447.060317317807, 3446.4929792801067, 4762.761504132457, 4761.823567235975, 4762.909473544484, 4762.369813422167, 4380.698604555338, 4379.604868123916, 4380.717837106693, 4381.248121020163], 'f_ge_robust': [4114.313815659153, 4108.147701523904, 4114.310372455052, 4114.310372455052, 3443.0032303441935, 3448.345849629168, 0, 0, 4763.941, 4763.941, 4763.941, 4763.941, 4384.25034225973, 4384.25034225973, 4384.25034225973, 4384.25034225973], 'f_ef': [3884.6269161242526, 0.0, 0.0, 0.0, 0.0, 3348.085433174199, 0.0, 0.0, 4571.9056482340775, 4570.996526541673, 4573.280687567687, 0.0, 4211.617732525247, 4205.61697813965, 0.0, 4209.925086260656], 'f_EgGf': [2686.53594683, 0, 2017.3, 2414.92850999], 'f_EgGf_Q': [0, 0, 5885.585546008087, 5131.711202521129], 'f_f0g1': [1184.4, 999.8, 1632.9833333333333, 1620.9166666666665], 'gs': [52.40296404695958, 54.81794456602636, 43.49513117058557, 4.930653352423196, 2.6415018214608046, 6.386231497692186], 'pulses': {'pi_ge': {'sigma': [0.02, 0.02, 0.02, 0.02, 0.025, 0.025, 0.025, 0.025, 0.015, 0.015, 0.015, 0.015, 0.025, 0.025, 0.025, 0.025], 'gain': [1849, 1914, 0, 1855, 2834, 2504, 2648, 2631, 9155, 9155, 9155, 9155, 599, 599, 599, 599], 'half_gain': [1856, 1835, 1873, 1867, 2382, 2186, 2248, 2289, 9253, 9253, 9253, 9253, 524, 524, 524, 524], 'half_correction_phase': [0, 0, 0, 0, 0, 0, 0, 0, 0, 0, 0, 0, 0, 0, 0, 0, 0], 'half_gain_pi_sigma': [927, 0, 0, 0, 0, 1315, 0, 0, 0, 0, 7212, 0, 0, 0, 0, 460], 'type': 'gauss'}, 'pi_ef': {'sigma': [0.02, 0.02, 0.02, 0.02, 0.025, 0.025, 0.025, 0.025, 0.015, 0.015, 0.015, 0.015, 0.03, 0.03, 0.03, 0.03], 'gain': [1280, 0, 0, 0, 0, 1912, 0, 0, 10000, 10079, 10015, 0, 300, 300, 0, 300], 'half_gain': [1261, 0, 0, 0, 0, 1941, 0, 0, 0, 10147, 9845, 9979, 340, 340, 0, 320], 'half_gain_pi_sigma': [673, 0, 0, 0, 0, 975, 0, 0, 0, 0, 5049, 0, 340, 0, 0, 337], 'type': 'gauss'}, 'pi_EgGf': {'gain': [32000, 0, 30000, 16000], 'sigma': [0.586, 0, 0.8, 0.44643], 'type': 'flat_top'}, 'pi_EgGf_Q': {'gain': [0, 0, 12147, 26117], 'sigma': [0, 0, 0.44193131519875684, 0.1401874263524681], 'phase': [0, 0, 18.0, 24.0], 'half_sigma': [0, 0, 0.212, 0.172], 'half_phase': [0, 0, 18.0, 21.0], 'type': 'flat_top'}, 'pi_f0g1': {'gain': [32000, 32000, 32000, 32000], 'sigma': [0.536, 0.585, 1.54, 1.04], 'idle': [3, 6, 12, 8], 'type': 'flat_top'}, 'pulse_pp': {'gain': [1750, 3550, 0, 0], 'filename': '240920_3_qram_4q_2qubit_++gg'}, 'pulse_1p': {'gain': [3500, 4375, 0, 0], 'filename': '240920_qram_4q_2qubit_e+gg'}, 'pulse_p1': {'gain': [3000, 5530, 0, 0], 'filename': '240920_qram_4q_2qubit_+egg'}, 'pihalf_ge_robust': {'gain': [7559, 7660, 7559, 7559, 4843, 4462, 4462, 4144, 20111, 20111, 20111, 20111, 2375, 2375, 2375, 2375], 'filename': ['X_2_Q0', 'X_2_Q1', 'X_2_Q2', 'X_2_Q3']}, 'pi_ge_slow': {'gain': [-1, 100, -1, -1], 'sigma': [-1, 0.25, -1, -1], 'type': 'gauss'}, 'pi_Q1_ZZ_slow': {'gain': [100, 0, -1, -1], 'sigma': [0.25, 0, -1, -1], 'type': 'gauss'}}}}, 'hw': {'soc': {'dacs': {'qubit': {'ch': [0, 1, 2, 3], 'type': 'full', 'nyquist': [2, 1, 2, 2], 'mixer_freq': [0, 0, 0, 0]}, 'swap': {'ch': 1, 'type': 'full', 'nyquist': 1, 'mixer_freq': 0}, 'swap_f0g1': {'ch': [1, 1, 5, 5], 'type': ['full', 'full', 'full', 'full'], 'nyquist': 1, 'mixer_freq': 0}, 'swap_Q': {'ch': [0, -1, 2, 3], 'type': ['full', 'None', 'full', 'full'], 'nyquist': [2, 0, 2, 2], 'mixer_freq': 0}, 'readout': {'ch': [6, 4, 6, 6], 'full_mux_chs': [5, 4, 5, 5], 'type': ['mux4', 'full', 'mux4', 'mux4'], 'mixer_freq': [7250, 5795.8115578931565, 7250, 7250], 'nyquist': [2, 2, 2, 2]}, 'res_pump': {'ch': 4, 'type': 'full', 'mixer_freq': 0, 'nyquist': 2}, 'delay_chs': {'ch': [0, 1, 2, 3, 4, 5, 6], 'delay_ns': [4.0, 0.0, 5.0, 3.0, 25, 60, 71]}}, 'adcs': {'readout': {'ch': [0, 1, 2, 3]}}}, 'lo': {'twpa': {'frequency': '8210.0e6', 'power': -1.5}, 'readout': {'frequency': 0, 'power': 0}}}, 'aliases': {'readout_LO': 'SC_20A1', 'twpa_LO': 'SC_26C1', 'soc': 'Qick_QRAM'}, 'expt': {'start_N': 0, 'step_N': 1, 'expts_N': 10, 'start_f': 5131.211202521129, 'step_f': 0.03333333333333333, 'expts_f': 31, 'reps': 1000, 'loops': 1, 'pulse_type': 'flat_top', 'post_process': 'scale', 'singleshot_reps': 15000, 'measure_f': False, 'init_state': '|1>|1>', 'qDrive': 3, 'qubits': [3, 1], 'measure_qubits': [3, 1], 'readout_cool': False, 'n_init_readout': 1, 'n_trig': 1, 'init_read_wait_us': 2, 'full_mux_expt': True, 'resonator_reset': [0, 2, 3]}}\n"
     ]
    },
    {
     "data": {
      "application/vnd.jupyter.widget-view+json": {
       "model_id": "6b1a6a4b547542f8afae040eb627124d",
       "version_major": 2,
       "version_minor": 0
      },
      "text/plain": [
       "  0%|          | 0/4 [00:00<?, ?it/s]"
      ]
     },
     "metadata": {},
     "output_type": "display_data"
    },
    {
     "name": "stdout",
     "output_type": "stream",
     "text": [
      "Qubit  (3)\n",
      "ge fidelity (%): 74.50666666666672 \t angle (deg): 0.0 \t threshold ge: 155.59786569977516\n",
      "Qubit  (1)\n",
      "ge fidelity (%): 1.213333333333333 \t angle (deg): 0.0 \t threshold ge: 73.0594469866394\n"
     ]
    },
    {
     "data": {
      "application/vnd.jupyter.widget-view+json": {
       "model_id": "5afee2c394d541b9bbbcc22532763a18",
       "version_major": 2,
       "version_minor": 0
      },
      "text/plain": [
       "  0%|          | 0/10 [00:00<?, ?it/s]"
      ]
     },
     "metadata": {},
     "output_type": "display_data"
    },
    {
     "name": "stdout",
     "output_type": "stream",
     "text": [
      "Attempted to init fitparam 3 to 0.0, which is out of bounds 0 to 0.6736986893825616. Instead init to 0.3368493446912808\n",
      "Fit best freq (qA) 5131.606969684239 which is -0.10423283689033269 away from old freq 5131.711202521129\n",
      "Best freq from pi/-pi on Q3 5131.606969684239\n",
      "Attempted to init fitparam 3 to 0.0, which is out of bounds 0 to 0.06202442300104438. Instead init to 0.03101221150052219\n",
      "Fit best freq (qA) 5131.764052253434 which is 0.05284973230482137 away from old freq 5131.711202521129\n",
      "Best freq from pi/-pi on Q1 5131.764052253434\n",
      "best 1 9.708834976344976\n",
      "Saving S:\\QRAM\\qram_4QR2\\data\\data_241025\\00106_PiMinusPiEgGfExptQ31.h5\n",
      "Saved S:\\QRAM\\qram_4QR2\\data\\data_241025\\00106_PiMinusPiEgGfExptQ31.h5\n",
      "for gain 26117.647058823528 added swap pi freq from pi minus pi 5131.764052253434\n",
      "using opt freq 5131.764052253434\n",
      "-------- swap error amplification --------\n",
      "{'device': {'readout': {'trig_offset': 150, 'lo_sideband': [1, 1, 1, 1], 'frequency': [-439.97500000000036, 0.0, 452.3682333333336, -278.89999999999964], 'gain': [0.17, 0.035, 0.25, 0.17], 'kappa_ext': [0.157, 0.065, 0.182, 0.104], 'kerr': [-0.0045, 0, 0.008, -0.003], 't_rise_reset': [0.5, 1, 0.5, 0.5], 'readout_length': [4, 4, 4, 4], 'frequency_ef': [-440.97500000000036, 0.0, 453.3682333333336, -280.35364238410557], 'readout_length_ef': [10.0, 7.0, 4.0, 8.0], 'relax_delay': [450, 450, 450, 450]}, 'qubit': {'f_ge': [4111.097866562327, 4105.838904759637, 4110.958153299016, 4110.546407850519, 3442.8755721075536, 3448.5530242338505, 3447.060317317807, 3446.4929792801067, 4762.761504132457, 4761.823567235975, 4762.909473544484, 4762.369813422167, 4380.698604555338, 4379.604868123916, 4380.717837106693, 4381.248121020163], 'f_ge_robust': [4114.313815659153, 4108.147701523904, 4114.310372455052, 4114.310372455052, 3443.0032303441935, 3448.345849629168, 0, 0, 4763.941, 4763.941, 4763.941, 4763.941, 4384.25034225973, 4384.25034225973, 4384.25034225973, 4384.25034225973], 'f_ef': [3884.6269161242526, 0.0, 0.0, 0.0, 0.0, 3348.085433174199, 0.0, 0.0, 4571.9056482340775, 4570.996526541673, 4573.280687567687, 0.0, 4211.617732525247, 4205.61697813965, 0.0, 4209.925086260656], 'f_EgGf': [2686.53594683, 0, 2017.3, 2414.92850999], 'f_EgGf_Q': [0, 0, 5885.585546008087, 5131.764052253434], 'f_f0g1': [1184.4, 999.8, 1632.9833333333333, 1620.9166666666665], 'gs': [52.40296404695958, 54.81794456602636, 43.49513117058557, 4.930653352423196, 2.6415018214608046, 6.386231497692186], 'pulses': {'pi_ge': {'sigma': [0.02, 0.02, 0.02, 0.02, 0.025, 0.025, 0.025, 0.025, 0.015, 0.015, 0.015, 0.015, 0.025, 0.025, 0.025, 0.025], 'gain': [1849, 1914, 0, 1855, 2834, 2504, 2648, 2631, 9155, 9155, 9155, 9155, 599, 599, 599, 599], 'half_gain': [1856, 1835, 1873, 1867, 2382, 2186, 2248, 2289, 9253, 9253, 9253, 9253, 524, 524, 524, 524], 'half_correction_phase': [0, 0, 0, 0, 0, 0, 0, 0, 0, 0, 0, 0, 0, 0, 0, 0, 0], 'half_gain_pi_sigma': [927, 0, 0, 0, 0, 1315, 0, 0, 0, 0, 7212, 0, 0, 0, 0, 460], 'type': 'gauss'}, 'pi_ef': {'sigma': [0.02, 0.02, 0.02, 0.02, 0.025, 0.025, 0.025, 0.025, 0.015, 0.015, 0.015, 0.015, 0.03, 0.03, 0.03, 0.03], 'gain': [1280, 0, 0, 0, 0, 1912, 0, 0, 10000, 10079, 10015, 0, 300, 300, 0, 300], 'half_gain': [1261, 0, 0, 0, 0, 1941, 0, 0, 0, 10147, 9845, 9979, 340, 340, 0, 320], 'half_gain_pi_sigma': [673, 0, 0, 0, 0, 975, 0, 0, 0, 0, 5049, 0, 340, 0, 0, 337], 'type': 'gauss'}, 'pi_EgGf': {'gain': [32000, 0, 30000, 16000], 'sigma': [0.586, 0, 0.8, 0.44643], 'type': 'flat_top'}, 'pi_EgGf_Q': {'gain': [0, 0, 12147, 26117], 'sigma': [0, 0, 0.44193131519875684, 0.1401874263524681], 'phase': [0, 0, 18.0, 24.0], 'half_sigma': [0, 0, 0.212, 0.172], 'half_phase': [0, 0, 18.0, 21.0], 'type': 'flat_top'}, 'pi_f0g1': {'gain': [32000, 32000, 32000, 32000], 'sigma': [0.536, 0.585, 1.54, 1.04], 'idle': [3, 6, 12, 8], 'type': 'flat_top'}, 'pulse_pp': {'gain': [1750, 3550, 0, 0], 'filename': '240920_3_qram_4q_2qubit_++gg'}, 'pulse_1p': {'gain': [3500, 4375, 0, 0], 'filename': '240920_qram_4q_2qubit_e+gg'}, 'pulse_p1': {'gain': [3000, 5530, 0, 0], 'filename': '240920_qram_4q_2qubit_+egg'}, 'pihalf_ge_robust': {'gain': [7559, 7660, 7559, 7559, 4843, 4462, 4462, 4144, 20111, 20111, 20111, 20111, 2375, 2375, 2375, 2375], 'filename': ['X_2_Q0', 'X_2_Q1', 'X_2_Q2', 'X_2_Q3']}, 'pi_ge_slow': {'gain': [-1, 100, -1, -1], 'sigma': [-1, 0.25, -1, -1], 'type': 'gauss'}, 'pi_Q1_ZZ_slow': {'gain': [100, 0, -1, -1], 'sigma': [0.25, 0, -1, -1], 'type': 'gauss'}}}}, 'hw': {'soc': {'dacs': {'qubit': {'ch': [0, 1, 2, 3], 'type': 'full', 'nyquist': [2, 1, 2, 2], 'mixer_freq': [0, 0, 0, 0]}, 'swap': {'ch': 1, 'type': 'full', 'nyquist': 1, 'mixer_freq': 0}, 'swap_f0g1': {'ch': [1, 1, 5, 5], 'type': ['full', 'full', 'full', 'full'], 'nyquist': 1, 'mixer_freq': 0}, 'swap_Q': {'ch': [0, -1, 2, 3], 'type': ['full', 'None', 'full', 'full'], 'nyquist': [2, 0, 2, 2], 'mixer_freq': 0}, 'readout': {'ch': [6, 4, 6, 6], 'full_mux_chs': [5, 4, 5, 5], 'type': ['mux4', 'full', 'mux4', 'mux4'], 'mixer_freq': [7250, 5795.8115578931565, 7250, 7250], 'nyquist': [2, 2, 2, 2]}, 'res_pump': {'ch': 4, 'type': 'full', 'mixer_freq': 0, 'nyquist': 2}, 'delay_chs': {'ch': [0, 1, 2, 3, 4, 5, 6], 'delay_ns': [4.0, 0.0, 5.0, 3.0, 25, 60, 71]}}, 'adcs': {'readout': {'ch': [0, 1, 2, 3]}}}, 'lo': {'twpa': {'frequency': '8210.0e6', 'power': -1.5}, 'readout': {'frequency': 0, 'power': 0}}}, 'aliases': {'readout_LO': 'SC_20A1', 'twpa_LO': 'SC_26C1', 'soc': 'Qick_QRAM'}, 'expt': {'start': 0, 'step': 1, 'expts': 10, 'reps': 2000, 'loops': 10, 'pulse_type': 'flat_top', 'post_process': 'scale', 'singleshot_reps': 15000, 'measure_f': False, 'init_state': '|1>|1>', 'qDrive': 3, 'qubits': [3, 1], 'measure_qubits': [3, 1], 'full_mux_expt': True, 'resonator_reset': [0, 2, 3]}}\n"
     ]
    },
    {
     "data": {
      "application/vnd.jupyter.widget-view+json": {
       "model_id": "48f0118578ff47c6b0a230aebc4cf7ea",
       "version_major": 2,
       "version_minor": 0
      },
      "text/plain": [
       "  0%|          | 0/4 [00:00<?, ?it/s]"
      ]
     },
     "metadata": {},
     "output_type": "display_data"
    },
    {
     "name": "stdout",
     "output_type": "stream",
     "text": [
      "Qubit  (3)\n",
      "ge fidelity (%): 73.43333333333331 \t angle (deg): 0.0 \t threshold ge: 161.4732730495986\n",
      "Qubit  (1)\n",
      "ge fidelity (%): 52.400000000000006 \t angle (deg): 0.0 \t threshold ge: 308.36889372529686\n"
     ]
    },
    {
     "data": {
      "application/vnd.jupyter.widget-view+json": {
       "model_id": "9983dafe78e241d380950ff2504f90dc",
       "version_major": 2,
       "version_minor": 0
      },
      "text/plain": [
       "  0%|          | 0/10 [00:00<?, ?it/s]"
      ]
     },
     "metadata": {},
     "output_type": "display_data"
    },
    {
     "name": "stdout",
     "output_type": "stream",
     "text": [
      "Saving S:\\QRAM\\qram_4QR2\\data\\data_241025\\00100_NPulseExptEgGfQ31.h5\n",
      "Saved S:\\QRAM\\qram_4QR2\\data\\data_241025\\00100_NPulseExptEgGfQ31.h5\n",
      "[0.50044054 5.75008687 8.36102963]\n",
      "Attempted to init fitparam 0 to 0.0, which is out of bounds 0.0 to 0.0. Instead init to 0.0\n",
      "Warning: fit failed with error: Each lower bound must be strictly less than each upper bound.\n",
      "[0.0, 0.0, 10]\n",
      "Warning: fit failed with error: Optimal parameters not found: The maximum number of function evaluations is exceeded.\n",
      "[179.57222982147658, 0.0, 10]\n",
      "[ 0.58936683 -5.79634319  7.60201376]\n",
      "Attempted to init fitparam 0 to 0.0, which is out of bounds 0.0 to 0.0. Instead init to 0.0\n",
      "Warning: fit failed with error: Each lower bound must be strictly less than each upper bound.\n",
      "[0.0, 0.0, 10]\n",
      "Warning: fit failed with error: Optimal parameters not found: The maximum number of function evaluations is exceeded.\n",
      "[312.74693504037333, 0.0, 10]\n",
      "From QA: adjust length to 0.14481348248548795\n",
      "\tadjust ratio 0.9680550729557694\n",
      "\n",
      "From QB: adjust length to 0.14485193482908693\n",
      "\tadjust ratio 0.9677980933970777\n",
      "best 0 inf\n",
      "pi len precise 0.1401874263524681 adjustment ratio 1.0 from Q1\n",
      "for gain 26117.647058823528 added swap pi len from error amplification 0.1401874263524681\n",
      "----------- STARTING GAIN 26852.941176470587 -----------\n",
      "-------- swap length rabi --------\n",
      "gain 26852 freq 5130.694502705706\n"
     ]
    },
    {
     "data": {
      "application/vnd.jupyter.widget-view+json": {
       "model_id": "11949fb5f98d42269c8f9fe62ce9cc01",
       "version_major": 2,
       "version_minor": 0
      },
      "text/plain": [
       "  0%|          | 0/101 [00:00<?, ?it/s]"
      ]
     },
     "metadata": {},
     "output_type": "display_data"
    },
    {
     "name": "stdout",
     "output_type": "stream",
     "text": [
      "Saving S:\\QRAM\\qram_4QR2\\data\\data_241025\\00102_length_rabi_EgGf_qubit31.h5\n",
      "Saved S:\\QRAM\\qram_4QR2\\data\\data_241025\\00102_length_rabi_EgGf_qubit31.h5\n",
      "Attempted to init fitparam 0 to 0.0, which is out of bounds 0.0 to 0.0. Instead init to 0.0\n",
      "Attempted to init fitparam 4 to 0.0, which is out of bounds 0.0 to 0.0. Instead init to 0.0\n",
      "Warning: fit failed with error: Each lower bound must be strictly less than each upper bound.\n",
      "Attempted to init fitparam 0 to 0.0, which is out of bounds 0.0 to 0.0. Instead init to 0.0\n",
      "Attempted to init fitparam 4 to 0.0, which is out of bounds 0.0 to 0.0. Instead init to 0.0\n",
      "Warning: fit failed with error: Each lower bound must be strictly less than each upper bound.\n",
      "best 0 0.06923843537995451\n",
      "Pi length from amps data (qubit A) [us]: 0.13800939138023388\n",
      "\tPi/2 length from avgq data (qubit A) [us]: 0.06900469569011694\n",
      "\tDecay time [us]: 6.744992591754138\n",
      "Pi length from avgq data (qubit A) [us]: 0.24024461269656375\n",
      "\tPi/2 length from avgq data (qubit A) [us]: 0.12012230634828187\n",
      "\tDecay time [us]: 0.64065230052417\n",
      "Pi length from amps data (qubit B) [us]: 0.572215293064285\n",
      "\tPi/2 length from avgq data (qubit B) [us]: 0.2861076465321425\n",
      "\tDecay time [us]: 0.19219569015725102\n",
      "Pi length from avgq data (qubit B) [us]: 0.24024461269656375\n",
      "\tPi/2 length from avgq data (qubit B) [us]: 0.12012230634828187\n",
      "\tDecay time [us]: 0.64065230052417\n",
      "max QA amp: 264.26198555133266\n",
      "min QA amp: 92.65527982090556\n",
      "max QB amp: 363.9679245280776\n",
      "min QB amp: 268.18050805887725\n",
      "for gain 26852.941176470587 added swap pi len from length rabi 0.13800939138023388\n",
      "-------- swap pi minus pi --------\n",
      "{'device': {'readout': {'trig_offset': 150, 'lo_sideband': [1, 1, 1, 1], 'frequency': [-439.97500000000036, 0.0, 452.3682333333336, -278.89999999999964], 'gain': [0.17, 0.0001, 0.25, 0.17], 'kappa_ext': [0.157, 0.065, 0.182, 0.104], 'kerr': [-0.0045, 0, 0.008, -0.003], 't_rise_reset': [0.5, 1, 0.5, 0.5], 'readout_length': [4, 4, 4, 4], 'frequency_ef': [-440.97500000000036, 0.0, 453.3682333333336, -280.35364238410557], 'readout_length_ef': [10.0, 7.0, 4.0, 8.0], 'relax_delay': [450, 450, 450, 450]}, 'qubit': {'f_ge': [4111.097866562327, 4105.838904759637, 4110.958153299016, 4110.546407850519, 3442.8755721075536, 3448.5530242338505, 3447.060317317807, 3446.4929792801067, 4762.761504132457, 4761.823567235975, 4762.909473544484, 4762.369813422167, 4380.698604555338, 4379.604868123916, 4380.717837106693, 4381.248121020163], 'f_ge_robust': [4114.313815659153, 4108.147701523904, 4114.310372455052, 4114.310372455052, 3443.0032303441935, 3448.345849629168, 0, 0, 4763.941, 4763.941, 4763.941, 4763.941, 4384.25034225973, 4384.25034225973, 4384.25034225973, 4384.25034225973], 'f_ef': [3884.6269161242526, 0.0, 0.0, 0.0, 0.0, 3348.085433174199, 0.0, 0.0, 4571.9056482340775, 4570.996526541673, 4573.280687567687, 0.0, 4211.617732525247, 4205.61697813965, 0.0, 4209.925086260656], 'f_EgGf': [2686.53594683, 0, 2017.3, 2414.92850999], 'f_EgGf_Q': [0, 0, 5885.585546008087, 5130.694502705706], 'f_f0g1': [1184.4, 999.8, 1632.9833333333333, 1620.9166666666665], 'gs': [52.40296404695958, 54.81794456602636, 43.49513117058557, 4.930653352423196, 2.6415018214608046, 6.386231497692186], 'pulses': {'pi_ge': {'sigma': [0.02, 0.02, 0.02, 0.02, 0.025, 0.025, 0.025, 0.025, 0.015, 0.015, 0.015, 0.015, 0.025, 0.025, 0.025, 0.025], 'gain': [1849, 1914, 0, 1855, 2834, 2504, 2648, 2631, 9155, 9155, 9155, 9155, 599, 599, 599, 599], 'half_gain': [1856, 1835, 1873, 1867, 2382, 2186, 2248, 2289, 9253, 9253, 9253, 9253, 524, 524, 524, 524], 'half_correction_phase': [0, 0, 0, 0, 0, 0, 0, 0, 0, 0, 0, 0, 0, 0, 0, 0, 0], 'half_gain_pi_sigma': [927, 0, 0, 0, 0, 1315, 0, 0, 0, 0, 7212, 0, 0, 0, 0, 460], 'type': 'gauss'}, 'pi_ef': {'sigma': [0.02, 0.02, 0.02, 0.02, 0.025, 0.025, 0.025, 0.025, 0.015, 0.015, 0.015, 0.015, 0.03, 0.03, 0.03, 0.03], 'gain': [1280, 0, 0, 0, 0, 1912, 0, 0, 10000, 10079, 10015, 0, 300, 300, 0, 300], 'half_gain': [1261, 0, 0, 0, 0, 1941, 0, 0, 0, 10147, 9845, 9979, 340, 340, 0, 320], 'half_gain_pi_sigma': [673, 0, 0, 0, 0, 975, 0, 0, 0, 0, 5049, 0, 340, 0, 0, 337], 'type': 'gauss'}, 'pi_EgGf': {'gain': [32000, 0, 30000, 16000], 'sigma': [0.586, 0, 0.8, 0.44643], 'type': 'flat_top'}, 'pi_EgGf_Q': {'gain': [0, 0, 12147, 26852], 'sigma': [0, 0, 0.44193131519875684, 0.13800939138023388], 'phase': [0, 0, 18.0, 24.0], 'half_sigma': [0, 0, 0.212, 0.172], 'half_phase': [0, 0, 18.0, 21.0], 'type': 'flat_top'}, 'pi_f0g1': {'gain': [32000, 32000, 32000, 32000], 'sigma': [0.536, 0.585, 1.54, 1.04], 'idle': [3, 6, 12, 8], 'type': 'flat_top'}, 'pulse_pp': {'gain': [1750, 3550, 0, 0], 'filename': '240920_3_qram_4q_2qubit_++gg'}, 'pulse_1p': {'gain': [3500, 4375, 0, 0], 'filename': '240920_qram_4q_2qubit_e+gg'}, 'pulse_p1': {'gain': [3000, 5530, 0, 0], 'filename': '240920_qram_4q_2qubit_+egg'}, 'pihalf_ge_robust': {'gain': [7559, 7660, 7559, 7559, 4843, 4462, 4462, 4144, 20111, 20111, 20111, 20111, 2375, 2375, 2375, 2375], 'filename': ['X_2_Q0', 'X_2_Q1', 'X_2_Q2', 'X_2_Q3']}, 'pi_ge_slow': {'gain': [-1, 100, -1, -1], 'sigma': [-1, 0.25, -1, -1], 'type': 'gauss'}, 'pi_Q1_ZZ_slow': {'gain': [100, 0, -1, -1], 'sigma': [0.25, 0, -1, -1], 'type': 'gauss'}}}}, 'hw': {'soc': {'dacs': {'qubit': {'ch': [0, 1, 2, 3], 'type': 'full', 'nyquist': [2, 1, 2, 2], 'mixer_freq': [0, 0, 0, 0]}, 'swap': {'ch': 1, 'type': 'full', 'nyquist': 1, 'mixer_freq': 0}, 'swap_f0g1': {'ch': [1, 1, 5, 5], 'type': ['full', 'full', 'full', 'full'], 'nyquist': 1, 'mixer_freq': 0}, 'swap_Q': {'ch': [0, -1, 2, 3], 'type': ['full', 'None', 'full', 'full'], 'nyquist': [2, 0, 2, 2], 'mixer_freq': 0}, 'readout': {'ch': [6, 4, 6, 6], 'full_mux_chs': [5, 4, 5, 5], 'type': ['mux4', 'full', 'mux4', 'mux4'], 'mixer_freq': [7250, 5795.8115578931565, 7250, 7250], 'nyquist': [2, 2, 2, 2]}, 'res_pump': {'ch': 4, 'type': 'full', 'mixer_freq': 0, 'nyquist': 2}, 'delay_chs': {'ch': [0, 1, 2, 3, 4, 5, 6], 'delay_ns': [4.0, 0.0, 5.0, 3.0, 25, 60, 71]}}, 'adcs': {'readout': {'ch': [0, 1, 2, 3]}}}, 'lo': {'twpa': {'frequency': '8210.0e6', 'power': -1.5}, 'readout': {'frequency': 0, 'power': 0}}}, 'aliases': {'readout_LO': 'SC_20A1', 'twpa_LO': 'SC_26C1', 'soc': 'Qick_QRAM'}, 'expt': {'start_N': 0, 'step_N': 1, 'expts_N': 10, 'start_f': 5130.194502705706, 'step_f': 0.03333333333333333, 'expts_f': 31, 'reps': 1000, 'loops': 1, 'pulse_type': 'flat_top', 'post_process': 'scale', 'singleshot_reps': 15000, 'measure_f': False, 'init_state': '|1>|1>', 'qDrive': 3, 'qubits': [3, 1], 'measure_qubits': [3, 1], 'readout_cool': False, 'n_init_readout': 1, 'n_trig': 1, 'init_read_wait_us': 2, 'full_mux_expt': True, 'resonator_reset': [0, 2, 3]}}\n"
     ]
    },
    {
     "data": {
      "application/vnd.jupyter.widget-view+json": {
       "model_id": "18c1459de1694a44be75283ff1effdec",
       "version_major": 2,
       "version_minor": 0
      },
      "text/plain": [
       "  0%|          | 0/4 [00:00<?, ?it/s]"
      ]
     },
     "metadata": {},
     "output_type": "display_data"
    },
    {
     "name": "stdout",
     "output_type": "stream",
     "text": [
      "Qubit  (3)\n",
      "ge fidelity (%): 74.76583372224813 \t angle (deg): 0.0 \t threshold ge: 160.61647230032736\n",
      "Qubit  (1)\n",
      "ge fidelity (%): 0.3933333333333233 \t angle (deg): 0.0 \t threshold ge: 105.25845481434028\n"
     ]
    },
    {
     "data": {
      "application/vnd.jupyter.widget-view+json": {
       "model_id": "3b9816d456a64e66b3a8107dddaf62c5",
       "version_major": 2,
       "version_minor": 0
      },
      "text/plain": [
       "  0%|          | 0/10 [00:00<?, ?it/s]"
      ]
     },
     "metadata": {},
     "output_type": "display_data"
    },
    {
     "name": "stdout",
     "output_type": "stream",
     "text": [
      "Attempted to init fitparam 3 to 0.0, which is out of bounds 0 to 0.3838680691318882. Instead init to 0.1919340345659441\n",
      "Fit best freq (qA) 5130.58333621911 which is -0.11116648659663042 away from old freq 5130.694502705706\n",
      "Best freq from pi/-pi on Q3 5130.58333621911\n",
      "Attempted to init fitparam 3 to 0.0, which is out of bounds 0 to 0.04658028666153103. Instead init to 0.023290143330765515\n",
      "Fit best freq (qA) 5130.860289965018 which is 0.1657872593114007 away from old freq 5130.694502705706\n",
      "Best freq from pi/-pi on Q1 5130.860289965018\n",
      "best 1 0.44062963411043066\n",
      "Saving S:\\QRAM\\qram_4QR2\\data\\data_241025\\00107_PiMinusPiEgGfExptQ31.h5\n",
      "Saved S:\\QRAM\\qram_4QR2\\data\\data_241025\\00107_PiMinusPiEgGfExptQ31.h5\n",
      "for gain 26852.941176470587 added swap pi freq from pi minus pi 5130.860289965018\n",
      "using opt freq 5130.860289965018\n",
      "-------- swap error amplification --------\n",
      "{'device': {'readout': {'trig_offset': 150, 'lo_sideband': [1, 1, 1, 1], 'frequency': [-439.97500000000036, 0.0, 452.3682333333336, -278.89999999999964], 'gain': [0.17, 0.035, 0.25, 0.17], 'kappa_ext': [0.157, 0.065, 0.182, 0.104], 'kerr': [-0.0045, 0, 0.008, -0.003], 't_rise_reset': [0.5, 1, 0.5, 0.5], 'readout_length': [4, 4, 4, 4], 'frequency_ef': [-440.97500000000036, 0.0, 453.3682333333336, -280.35364238410557], 'readout_length_ef': [10.0, 7.0, 4.0, 8.0], 'relax_delay': [450, 450, 450, 450]}, 'qubit': {'f_ge': [4111.097866562327, 4105.838904759637, 4110.958153299016, 4110.546407850519, 3442.8755721075536, 3448.5530242338505, 3447.060317317807, 3446.4929792801067, 4762.761504132457, 4761.823567235975, 4762.909473544484, 4762.369813422167, 4380.698604555338, 4379.604868123916, 4380.717837106693, 4381.248121020163], 'f_ge_robust': [4114.313815659153, 4108.147701523904, 4114.310372455052, 4114.310372455052, 3443.0032303441935, 3448.345849629168, 0, 0, 4763.941, 4763.941, 4763.941, 4763.941, 4384.25034225973, 4384.25034225973, 4384.25034225973, 4384.25034225973], 'f_ef': [3884.6269161242526, 0.0, 0.0, 0.0, 0.0, 3348.085433174199, 0.0, 0.0, 4571.9056482340775, 4570.996526541673, 4573.280687567687, 0.0, 4211.617732525247, 4205.61697813965, 0.0, 4209.925086260656], 'f_EgGf': [2686.53594683, 0, 2017.3, 2414.92850999], 'f_EgGf_Q': [0, 0, 5885.585546008087, 5130.860289965018], 'f_f0g1': [1184.4, 999.8, 1632.9833333333333, 1620.9166666666665], 'gs': [52.40296404695958, 54.81794456602636, 43.49513117058557, 4.930653352423196, 2.6415018214608046, 6.386231497692186], 'pulses': {'pi_ge': {'sigma': [0.02, 0.02, 0.02, 0.02, 0.025, 0.025, 0.025, 0.025, 0.015, 0.015, 0.015, 0.015, 0.025, 0.025, 0.025, 0.025], 'gain': [1849, 1914, 0, 1855, 2834, 2504, 2648, 2631, 9155, 9155, 9155, 9155, 599, 599, 599, 599], 'half_gain': [1856, 1835, 1873, 1867, 2382, 2186, 2248, 2289, 9253, 9253, 9253, 9253, 524, 524, 524, 524], 'half_correction_phase': [0, 0, 0, 0, 0, 0, 0, 0, 0, 0, 0, 0, 0, 0, 0, 0, 0], 'half_gain_pi_sigma': [927, 0, 0, 0, 0, 1315, 0, 0, 0, 0, 7212, 0, 0, 0, 0, 460], 'type': 'gauss'}, 'pi_ef': {'sigma': [0.02, 0.02, 0.02, 0.02, 0.025, 0.025, 0.025, 0.025, 0.015, 0.015, 0.015, 0.015, 0.03, 0.03, 0.03, 0.03], 'gain': [1280, 0, 0, 0, 0, 1912, 0, 0, 10000, 10079, 10015, 0, 300, 300, 0, 300], 'half_gain': [1261, 0, 0, 0, 0, 1941, 0, 0, 0, 10147, 9845, 9979, 340, 340, 0, 320], 'half_gain_pi_sigma': [673, 0, 0, 0, 0, 975, 0, 0, 0, 0, 5049, 0, 340, 0, 0, 337], 'type': 'gauss'}, 'pi_EgGf': {'gain': [32000, 0, 30000, 16000], 'sigma': [0.586, 0, 0.8, 0.44643], 'type': 'flat_top'}, 'pi_EgGf_Q': {'gain': [0, 0, 12147, 26852], 'sigma': [0, 0, 0.44193131519875684, 0.13800939138023388], 'phase': [0, 0, 18.0, 24.0], 'half_sigma': [0, 0, 0.212, 0.172], 'half_phase': [0, 0, 18.0, 21.0], 'type': 'flat_top'}, 'pi_f0g1': {'gain': [32000, 32000, 32000, 32000], 'sigma': [0.536, 0.585, 1.54, 1.04], 'idle': [3, 6, 12, 8], 'type': 'flat_top'}, 'pulse_pp': {'gain': [1750, 3550, 0, 0], 'filename': '240920_3_qram_4q_2qubit_++gg'}, 'pulse_1p': {'gain': [3500, 4375, 0, 0], 'filename': '240920_qram_4q_2qubit_e+gg'}, 'pulse_p1': {'gain': [3000, 5530, 0, 0], 'filename': '240920_qram_4q_2qubit_+egg'}, 'pihalf_ge_robust': {'gain': [7559, 7660, 7559, 7559, 4843, 4462, 4462, 4144, 20111, 20111, 20111, 20111, 2375, 2375, 2375, 2375], 'filename': ['X_2_Q0', 'X_2_Q1', 'X_2_Q2', 'X_2_Q3']}, 'pi_ge_slow': {'gain': [-1, 100, -1, -1], 'sigma': [-1, 0.25, -1, -1], 'type': 'gauss'}, 'pi_Q1_ZZ_slow': {'gain': [100, 0, -1, -1], 'sigma': [0.25, 0, -1, -1], 'type': 'gauss'}}}}, 'hw': {'soc': {'dacs': {'qubit': {'ch': [0, 1, 2, 3], 'type': 'full', 'nyquist': [2, 1, 2, 2], 'mixer_freq': [0, 0, 0, 0]}, 'swap': {'ch': 1, 'type': 'full', 'nyquist': 1, 'mixer_freq': 0}, 'swap_f0g1': {'ch': [1, 1, 5, 5], 'type': ['full', 'full', 'full', 'full'], 'nyquist': 1, 'mixer_freq': 0}, 'swap_Q': {'ch': [0, -1, 2, 3], 'type': ['full', 'None', 'full', 'full'], 'nyquist': [2, 0, 2, 2], 'mixer_freq': 0}, 'readout': {'ch': [6, 4, 6, 6], 'full_mux_chs': [5, 4, 5, 5], 'type': ['mux4', 'full', 'mux4', 'mux4'], 'mixer_freq': [7250, 5795.8115578931565, 7250, 7250], 'nyquist': [2, 2, 2, 2]}, 'res_pump': {'ch': 4, 'type': 'full', 'mixer_freq': 0, 'nyquist': 2}, 'delay_chs': {'ch': [0, 1, 2, 3, 4, 5, 6], 'delay_ns': [4.0, 0.0, 5.0, 3.0, 25, 60, 71]}}, 'adcs': {'readout': {'ch': [0, 1, 2, 3]}}}, 'lo': {'twpa': {'frequency': '8210.0e6', 'power': -1.5}, 'readout': {'frequency': 0, 'power': 0}}}, 'aliases': {'readout_LO': 'SC_20A1', 'twpa_LO': 'SC_26C1', 'soc': 'Qick_QRAM'}, 'expt': {'start': 0, 'step': 1, 'expts': 10, 'reps': 2000, 'loops': 10, 'pulse_type': 'flat_top', 'post_process': 'scale', 'singleshot_reps': 15000, 'measure_f': False, 'init_state': '|1>|1>', 'qDrive': 3, 'qubits': [3, 1], 'measure_qubits': [3, 1], 'full_mux_expt': True, 'resonator_reset': [0, 2, 3]}}\n"
     ]
    },
    {
     "data": {
      "application/vnd.jupyter.widget-view+json": {
       "model_id": "accb9d7e6a0d4934bbcd90b5de7b1307",
       "version_major": 2,
       "version_minor": 0
      },
      "text/plain": [
       "  0%|          | 0/4 [00:00<?, ?it/s]"
      ]
     },
     "metadata": {},
     "output_type": "display_data"
    },
    {
     "name": "stdout",
     "output_type": "stream",
     "text": [
      "Qubit  (3)\n",
      "ge fidelity (%): 74.97333333333331 \t angle (deg): 0.0 \t threshold ge: 162.27475017443626\n",
      "Qubit  (1)\n",
      "ge fidelity (%): 51.411427872969305 \t angle (deg): 0.0 \t threshold ge: 308.2263218401995\n"
     ]
    },
    {
     "data": {
      "application/vnd.jupyter.widget-view+json": {
       "model_id": "1b2e544512b54c50b81462c249173170",
       "version_major": 2,
       "version_minor": 0
      },
      "text/plain": [
       "  0%|          | 0/10 [00:00<?, ?it/s]"
      ]
     },
     "metadata": {},
     "output_type": "display_data"
    },
    {
     "name": "stdout",
     "output_type": "stream",
     "text": [
      "Saving S:\\QRAM\\qram_4QR2\\data\\data_241025\\00101_NPulseExptEgGfQ31.h5\n",
      "Saved S:\\QRAM\\qram_4QR2\\data\\data_241025\\00101_NPulseExptEgGfQ31.h5\n",
      "[0.4999594  5.83961002 6.5102176 ]\n",
      "Attempted to init fitparam 0 to 0.0, which is out of bounds 0.0 to 0.0. Instead init to 0.0\n",
      "Warning: fit failed with error: Each lower bound must be strictly less than each upper bound.\n",
      "[0.0, 0.0, 10]\n",
      "Warning: fit failed with error: Optimal parameters not found: The maximum number of function evaluations is exceeded.\n",
      "[178.7316019526442, 0.0, 10]\n",
      "[ 0.79807148 -4.65634064  4.72314527]\n",
      "Attempted to init fitparam 0 to 0.0, which is out of bounds 0.0 to 0.0. Instead init to 0.0\n",
      "Warning: fit failed with error: Each lower bound must be strictly less than each upper bound.\n",
      "[0.0, 0.0, 10]\n",
      "Warning: fit failed with error: Optimal parameters not found: The maximum number of function evaluations is exceeded.\n",
      "[329.7629107242109, 0.0, 10]\n",
      "From QA: adjust length to 0.14263685589263062\n",
      "\tadjust ratio 0.9675577221368366\n",
      "\n",
      "From QB: adjust length to 0.14167430142240842\n",
      "\tadjust ratio 0.9741314408796875\n",
      "best 0 inf\n",
      "pi len precise 0.13800939138023388 adjustment ratio 1.0 from Q1\n",
      "for gain 26852.941176470587 added swap pi len from error amplification 0.13800939138023388\n",
      "----------- STARTING GAIN 27588.235294117647 -----------\n",
      "-------- swap length rabi --------\n",
      "gain 27588 freq 5129.648704095623\n"
     ]
    },
    {
     "data": {
      "application/vnd.jupyter.widget-view+json": {
       "model_id": "40c49cb30c374db59699b2f10a0e629f",
       "version_major": 2,
       "version_minor": 0
      },
      "text/plain": [
       "  0%|          | 0/101 [00:00<?, ?it/s]"
      ]
     },
     "metadata": {},
     "output_type": "display_data"
    },
    {
     "name": "stdout",
     "output_type": "stream",
     "text": [
      "Saving S:\\QRAM\\qram_4QR2\\data\\data_241025\\00103_length_rabi_EgGf_qubit31.h5\n",
      "Saved S:\\QRAM\\qram_4QR2\\data\\data_241025\\00103_length_rabi_EgGf_qubit31.h5\n",
      "Attempted to init fitparam 0 to 0.0, which is out of bounds 0.0 to 0.0. Instead init to 0.0\n",
      "Attempted to init fitparam 4 to 0.0, which is out of bounds 0.0 to 0.0. Instead init to 0.0\n",
      "Warning: fit failed with error: Each lower bound must be strictly less than each upper bound.\n",
      "Attempted to init fitparam 0 to 0.0, which is out of bounds 0.0 to 0.0. Instead init to 0.0\n",
      "Attempted to init fitparam 4 to 0.0, which is out of bounds 0.0 to 0.0. Instead init to 0.0\n",
      "Warning: fit failed with error: Each lower bound must be strictly less than each upper bound.\n",
      "best 0 0.05663228297574215\n",
      "Pi length from amps data (qubit A) [us]: 0.13499047922088145\n",
      "\tPi/2 length from avgq data (qubit A) [us]: 0.06749523961044072\n",
      "\tDecay time [us]: 4.977409464368118\n",
      "Pi length from avgq data (qubit A) [us]: 0.227140361094933\n",
      "\tPi/2 length from avgq data (qubit A) [us]: 0.1135701805474665\n",
      "\tDecay time [us]: 0.605707629586488\n",
      "Pi length from amps data (qubit B) [us]: 4.087950767777372\n",
      "\tPi/2 length from avgq data (qubit B) [us]: 2.043975383888686\n",
      "\tDecay time [us]: 0.18171228887746874\n",
      "Pi length from avgq data (qubit B) [us]: 0.227140361094933\n",
      "\tPi/2 length from avgq data (qubit B) [us]: 0.1135701805474665\n",
      "\tDecay time [us]: 0.605707629586488\n",
      "max QA amp: 260.32389968211976\n",
      "min QA amp: 97.0671002729096\n",
      "max QB amp: 360.1896013166601\n",
      "min QB amp: 296.84149873525104\n",
      "for gain 27588.235294117647 added swap pi len from length rabi 0.13499047922088145\n",
      "-------- swap pi minus pi --------\n",
      "{'device': {'readout': {'trig_offset': 150, 'lo_sideband': [1, 1, 1, 1], 'frequency': [-439.97500000000036, 0.0, 452.3682333333336, -278.89999999999964], 'gain': [0.17, 0.0001, 0.25, 0.17], 'kappa_ext': [0.157, 0.065, 0.182, 0.104], 'kerr': [-0.0045, 0, 0.008, -0.003], 't_rise_reset': [0.5, 1, 0.5, 0.5], 'readout_length': [4, 4, 4, 4], 'frequency_ef': [-440.97500000000036, 0.0, 453.3682333333336, -280.35364238410557], 'readout_length_ef': [10.0, 7.0, 4.0, 8.0], 'relax_delay': [450, 450, 450, 450]}, 'qubit': {'f_ge': [4111.097866562327, 4105.838904759637, 4110.958153299016, 4110.546407850519, 3442.8755721075536, 3448.5530242338505, 3447.060317317807, 3446.4929792801067, 4762.761504132457, 4761.823567235975, 4762.909473544484, 4762.369813422167, 4380.698604555338, 4379.604868123916, 4380.717837106693, 4381.248121020163], 'f_ge_robust': [4114.313815659153, 4108.147701523904, 4114.310372455052, 4114.310372455052, 3443.0032303441935, 3448.345849629168, 0, 0, 4763.941, 4763.941, 4763.941, 4763.941, 4384.25034225973, 4384.25034225973, 4384.25034225973, 4384.25034225973], 'f_ef': [3884.6269161242526, 0.0, 0.0, 0.0, 0.0, 3348.085433174199, 0.0, 0.0, 4571.9056482340775, 4570.996526541673, 4573.280687567687, 0.0, 4211.617732525247, 4205.61697813965, 0.0, 4209.925086260656], 'f_EgGf': [2686.53594683, 0, 2017.3, 2414.92850999], 'f_EgGf_Q': [0, 0, 5885.585546008087, 5129.648704095623], 'f_f0g1': [1184.4, 999.8, 1632.9833333333333, 1620.9166666666665], 'gs': [52.40296404695958, 54.81794456602636, 43.49513117058557, 4.930653352423196, 2.6415018214608046, 6.386231497692186], 'pulses': {'pi_ge': {'sigma': [0.02, 0.02, 0.02, 0.02, 0.025, 0.025, 0.025, 0.025, 0.015, 0.015, 0.015, 0.015, 0.025, 0.025, 0.025, 0.025], 'gain': [1849, 1914, 0, 1855, 2834, 2504, 2648, 2631, 9155, 9155, 9155, 9155, 599, 599, 599, 599], 'half_gain': [1856, 1835, 1873, 1867, 2382, 2186, 2248, 2289, 9253, 9253, 9253, 9253, 524, 524, 524, 524], 'half_correction_phase': [0, 0, 0, 0, 0, 0, 0, 0, 0, 0, 0, 0, 0, 0, 0, 0, 0], 'half_gain_pi_sigma': [927, 0, 0, 0, 0, 1315, 0, 0, 0, 0, 7212, 0, 0, 0, 0, 460], 'type': 'gauss'}, 'pi_ef': {'sigma': [0.02, 0.02, 0.02, 0.02, 0.025, 0.025, 0.025, 0.025, 0.015, 0.015, 0.015, 0.015, 0.03, 0.03, 0.03, 0.03], 'gain': [1280, 0, 0, 0, 0, 1912, 0, 0, 10000, 10079, 10015, 0, 300, 300, 0, 300], 'half_gain': [1261, 0, 0, 0, 0, 1941, 0, 0, 0, 10147, 9845, 9979, 340, 340, 0, 320], 'half_gain_pi_sigma': [673, 0, 0, 0, 0, 975, 0, 0, 0, 0, 5049, 0, 340, 0, 0, 337], 'type': 'gauss'}, 'pi_EgGf': {'gain': [32000, 0, 30000, 16000], 'sigma': [0.586, 0, 0.8, 0.44643], 'type': 'flat_top'}, 'pi_EgGf_Q': {'gain': [0, 0, 12147, 27588], 'sigma': [0, 0, 0.44193131519875684, 0.13499047922088145], 'phase': [0, 0, 18.0, 24.0], 'half_sigma': [0, 0, 0.212, 0.172], 'half_phase': [0, 0, 18.0, 21.0], 'type': 'flat_top'}, 'pi_f0g1': {'gain': [32000, 32000, 32000, 32000], 'sigma': [0.536, 0.585, 1.54, 1.04], 'idle': [3, 6, 12, 8], 'type': 'flat_top'}, 'pulse_pp': {'gain': [1750, 3550, 0, 0], 'filename': '240920_3_qram_4q_2qubit_++gg'}, 'pulse_1p': {'gain': [3500, 4375, 0, 0], 'filename': '240920_qram_4q_2qubit_e+gg'}, 'pulse_p1': {'gain': [3000, 5530, 0, 0], 'filename': '240920_qram_4q_2qubit_+egg'}, 'pihalf_ge_robust': {'gain': [7559, 7660, 7559, 7559, 4843, 4462, 4462, 4144, 20111, 20111, 20111, 20111, 2375, 2375, 2375, 2375], 'filename': ['X_2_Q0', 'X_2_Q1', 'X_2_Q2', 'X_2_Q3']}, 'pi_ge_slow': {'gain': [-1, 100, -1, -1], 'sigma': [-1, 0.25, -1, -1], 'type': 'gauss'}, 'pi_Q1_ZZ_slow': {'gain': [100, 0, -1, -1], 'sigma': [0.25, 0, -1, -1], 'type': 'gauss'}}}}, 'hw': {'soc': {'dacs': {'qubit': {'ch': [0, 1, 2, 3], 'type': 'full', 'nyquist': [2, 1, 2, 2], 'mixer_freq': [0, 0, 0, 0]}, 'swap': {'ch': 1, 'type': 'full', 'nyquist': 1, 'mixer_freq': 0}, 'swap_f0g1': {'ch': [1, 1, 5, 5], 'type': ['full', 'full', 'full', 'full'], 'nyquist': 1, 'mixer_freq': 0}, 'swap_Q': {'ch': [0, -1, 2, 3], 'type': ['full', 'None', 'full', 'full'], 'nyquist': [2, 0, 2, 2], 'mixer_freq': 0}, 'readout': {'ch': [6, 4, 6, 6], 'full_mux_chs': [5, 4, 5, 5], 'type': ['mux4', 'full', 'mux4', 'mux4'], 'mixer_freq': [7250, 5795.8115578931565, 7250, 7250], 'nyquist': [2, 2, 2, 2]}, 'res_pump': {'ch': 4, 'type': 'full', 'mixer_freq': 0, 'nyquist': 2}, 'delay_chs': {'ch': [0, 1, 2, 3, 4, 5, 6], 'delay_ns': [4.0, 0.0, 5.0, 3.0, 25, 60, 71]}}, 'adcs': {'readout': {'ch': [0, 1, 2, 3]}}}, 'lo': {'twpa': {'frequency': '8210.0e6', 'power': -1.5}, 'readout': {'frequency': 0, 'power': 0}}}, 'aliases': {'readout_LO': 'SC_20A1', 'twpa_LO': 'SC_26C1', 'soc': 'Qick_QRAM'}, 'expt': {'start_N': 0, 'step_N': 1, 'expts_N': 10, 'start_f': 5129.148704095623, 'step_f': 0.03333333333333333, 'expts_f': 31, 'reps': 1000, 'loops': 1, 'pulse_type': 'flat_top', 'post_process': 'scale', 'singleshot_reps': 15000, 'measure_f': False, 'init_state': '|1>|1>', 'qDrive': 3, 'qubits': [3, 1], 'measure_qubits': [3, 1], 'readout_cool': False, 'n_init_readout': 1, 'n_trig': 1, 'init_read_wait_us': 2, 'full_mux_expt': True, 'resonator_reset': [0, 2, 3]}}\n"
     ]
    },
    {
     "data": {
      "application/vnd.jupyter.widget-view+json": {
       "model_id": "c68014dd7e98447ba1e8ed148d5bb9b4",
       "version_major": 2,
       "version_minor": 0
      },
      "text/plain": [
       "  0%|          | 0/4 [00:00<?, ?it/s]"
      ]
     },
     "metadata": {},
     "output_type": "display_data"
    },
    {
     "name": "stdout",
     "output_type": "stream",
     "text": [
      "Qubit  (3)\n",
      "ge fidelity (%): 76.61333333333336 \t angle (deg): 0.0 \t threshold ge: 165.18401741616728\n",
      "Qubit  (1)\n",
      "ge fidelity (%): 0.9972469275729534 \t angle (deg): 0.0 \t threshold ge: 60.146493507927175\n"
     ]
    },
    {
     "data": {
      "application/vnd.jupyter.widget-view+json": {
       "model_id": "da557f9d35a94488bed13321b4595ec5",
       "version_major": 2,
       "version_minor": 0
      },
      "text/plain": [
       "  0%|          | 0/10 [00:00<?, ?it/s]"
      ]
     },
     "metadata": {},
     "output_type": "display_data"
    },
    {
     "name": "stdout",
     "output_type": "stream",
     "text": [
      "Attempted to init fitparam 3 to 0.0, which is out of bounds 0 to 0.4250964170587134. Instead init to 0.2125482085293567\n",
      "Fit best freq (qA) 5129.5119282549895 which is -0.13677584063316317 away from old freq 5129.648704095623\n",
      "Best freq from pi/-pi on Q3 5129.5119282549895\n",
      "Attempted to init fitparam 3 to 0.0, which is out of bounds 0 to 0.021124738300255845. Instead init to 0.010562369150127923\n",
      "Fit best freq (qA) 5129.585923132024 which is -0.06278096359892515 away from old freq 5129.648704095623\n",
      "Best freq from pi/-pi on Q1 5129.585923132024\n",
      "best 1 0.2612413552389256\n",
      "Saving S:\\QRAM\\qram_4QR2\\data\\data_241025\\00108_PiMinusPiEgGfExptQ31.h5\n",
      "Saved S:\\QRAM\\qram_4QR2\\data\\data_241025\\00108_PiMinusPiEgGfExptQ31.h5\n",
      "for gain 27588.235294117647 added swap pi freq from pi minus pi 5129.585923132024\n",
      "using opt freq 5129.585923132024\n",
      "-------- swap error amplification --------\n",
      "{'device': {'readout': {'trig_offset': 150, 'lo_sideband': [1, 1, 1, 1], 'frequency': [-439.97500000000036, 0.0, 452.3682333333336, -278.89999999999964], 'gain': [0.17, 0.035, 0.25, 0.17], 'kappa_ext': [0.157, 0.065, 0.182, 0.104], 'kerr': [-0.0045, 0, 0.008, -0.003], 't_rise_reset': [0.5, 1, 0.5, 0.5], 'readout_length': [4, 4, 4, 4], 'frequency_ef': [-440.97500000000036, 0.0, 453.3682333333336, -280.35364238410557], 'readout_length_ef': [10.0, 7.0, 4.0, 8.0], 'relax_delay': [450, 450, 450, 450]}, 'qubit': {'f_ge': [4111.097866562327, 4105.838904759637, 4110.958153299016, 4110.546407850519, 3442.8755721075536, 3448.5530242338505, 3447.060317317807, 3446.4929792801067, 4762.761504132457, 4761.823567235975, 4762.909473544484, 4762.369813422167, 4380.698604555338, 4379.604868123916, 4380.717837106693, 4381.248121020163], 'f_ge_robust': [4114.313815659153, 4108.147701523904, 4114.310372455052, 4114.310372455052, 3443.0032303441935, 3448.345849629168, 0, 0, 4763.941, 4763.941, 4763.941, 4763.941, 4384.25034225973, 4384.25034225973, 4384.25034225973, 4384.25034225973], 'f_ef': [3884.6269161242526, 0.0, 0.0, 0.0, 0.0, 3348.085433174199, 0.0, 0.0, 4571.9056482340775, 4570.996526541673, 4573.280687567687, 0.0, 4211.617732525247, 4205.61697813965, 0.0, 4209.925086260656], 'f_EgGf': [2686.53594683, 0, 2017.3, 2414.92850999], 'f_EgGf_Q': [0, 0, 5885.585546008087, 5129.585923132024], 'f_f0g1': [1184.4, 999.8, 1632.9833333333333, 1620.9166666666665], 'gs': [52.40296404695958, 54.81794456602636, 43.49513117058557, 4.930653352423196, 2.6415018214608046, 6.386231497692186], 'pulses': {'pi_ge': {'sigma': [0.02, 0.02, 0.02, 0.02, 0.025, 0.025, 0.025, 0.025, 0.015, 0.015, 0.015, 0.015, 0.025, 0.025, 0.025, 0.025], 'gain': [1849, 1914, 0, 1855, 2834, 2504, 2648, 2631, 9155, 9155, 9155, 9155, 599, 599, 599, 599], 'half_gain': [1856, 1835, 1873, 1867, 2382, 2186, 2248, 2289, 9253, 9253, 9253, 9253, 524, 524, 524, 524], 'half_correction_phase': [0, 0, 0, 0, 0, 0, 0, 0, 0, 0, 0, 0, 0, 0, 0, 0, 0], 'half_gain_pi_sigma': [927, 0, 0, 0, 0, 1315, 0, 0, 0, 0, 7212, 0, 0, 0, 0, 460], 'type': 'gauss'}, 'pi_ef': {'sigma': [0.02, 0.02, 0.02, 0.02, 0.025, 0.025, 0.025, 0.025, 0.015, 0.015, 0.015, 0.015, 0.03, 0.03, 0.03, 0.03], 'gain': [1280, 0, 0, 0, 0, 1912, 0, 0, 10000, 10079, 10015, 0, 300, 300, 0, 300], 'half_gain': [1261, 0, 0, 0, 0, 1941, 0, 0, 0, 10147, 9845, 9979, 340, 340, 0, 320], 'half_gain_pi_sigma': [673, 0, 0, 0, 0, 975, 0, 0, 0, 0, 5049, 0, 340, 0, 0, 337], 'type': 'gauss'}, 'pi_EgGf': {'gain': [32000, 0, 30000, 16000], 'sigma': [0.586, 0, 0.8, 0.44643], 'type': 'flat_top'}, 'pi_EgGf_Q': {'gain': [0, 0, 12147, 27588], 'sigma': [0, 0, 0.44193131519875684, 0.13499047922088145], 'phase': [0, 0, 18.0, 24.0], 'half_sigma': [0, 0, 0.212, 0.172], 'half_phase': [0, 0, 18.0, 21.0], 'type': 'flat_top'}, 'pi_f0g1': {'gain': [32000, 32000, 32000, 32000], 'sigma': [0.536, 0.585, 1.54, 1.04], 'idle': [3, 6, 12, 8], 'type': 'flat_top'}, 'pulse_pp': {'gain': [1750, 3550, 0, 0], 'filename': '240920_3_qram_4q_2qubit_++gg'}, 'pulse_1p': {'gain': [3500, 4375, 0, 0], 'filename': '240920_qram_4q_2qubit_e+gg'}, 'pulse_p1': {'gain': [3000, 5530, 0, 0], 'filename': '240920_qram_4q_2qubit_+egg'}, 'pihalf_ge_robust': {'gain': [7559, 7660, 7559, 7559, 4843, 4462, 4462, 4144, 20111, 20111, 20111, 20111, 2375, 2375, 2375, 2375], 'filename': ['X_2_Q0', 'X_2_Q1', 'X_2_Q2', 'X_2_Q3']}, 'pi_ge_slow': {'gain': [-1, 100, -1, -1], 'sigma': [-1, 0.25, -1, -1], 'type': 'gauss'}, 'pi_Q1_ZZ_slow': {'gain': [100, 0, -1, -1], 'sigma': [0.25, 0, -1, -1], 'type': 'gauss'}}}}, 'hw': {'soc': {'dacs': {'qubit': {'ch': [0, 1, 2, 3], 'type': 'full', 'nyquist': [2, 1, 2, 2], 'mixer_freq': [0, 0, 0, 0]}, 'swap': {'ch': 1, 'type': 'full', 'nyquist': 1, 'mixer_freq': 0}, 'swap_f0g1': {'ch': [1, 1, 5, 5], 'type': ['full', 'full', 'full', 'full'], 'nyquist': 1, 'mixer_freq': 0}, 'swap_Q': {'ch': [0, -1, 2, 3], 'type': ['full', 'None', 'full', 'full'], 'nyquist': [2, 0, 2, 2], 'mixer_freq': 0}, 'readout': {'ch': [6, 4, 6, 6], 'full_mux_chs': [5, 4, 5, 5], 'type': ['mux4', 'full', 'mux4', 'mux4'], 'mixer_freq': [7250, 5795.8115578931565, 7250, 7250], 'nyquist': [2, 2, 2, 2]}, 'res_pump': {'ch': 4, 'type': 'full', 'mixer_freq': 0, 'nyquist': 2}, 'delay_chs': {'ch': [0, 1, 2, 3, 4, 5, 6], 'delay_ns': [4.0, 0.0, 5.0, 3.0, 25, 60, 71]}}, 'adcs': {'readout': {'ch': [0, 1, 2, 3]}}}, 'lo': {'twpa': {'frequency': '8210.0e6', 'power': -1.5}, 'readout': {'frequency': 0, 'power': 0}}}, 'aliases': {'readout_LO': 'SC_20A1', 'twpa_LO': 'SC_26C1', 'soc': 'Qick_QRAM'}, 'expt': {'start': 0, 'step': 1, 'expts': 10, 'reps': 2000, 'loops': 10, 'pulse_type': 'flat_top', 'post_process': 'scale', 'singleshot_reps': 15000, 'measure_f': False, 'init_state': '|1>|1>', 'qDrive': 3, 'qubits': [3, 1], 'measure_qubits': [3, 1], 'full_mux_expt': True, 'resonator_reset': [0, 2, 3]}}\n"
     ]
    },
    {
     "data": {
      "application/vnd.jupyter.widget-view+json": {
       "model_id": "c275db7eaac24aaaaf9207c08dd9537e",
       "version_major": 2,
       "version_minor": 0
      },
      "text/plain": [
       "  0%|          | 0/4 [00:00<?, ?it/s]"
      ]
     },
     "metadata": {},
     "output_type": "display_data"
    },
    {
     "name": "stdout",
     "output_type": "stream",
     "text": [
      "Qubit  (3)\n",
      "ge fidelity (%): 75.08000000000001 \t angle (deg): 0.0 \t threshold ge: 159.50825708393353\n",
      "Qubit  (1)\n",
      "ge fidelity (%): 51.74538258106094 \t angle (deg): 0.0 \t threshold ge: 308.5762437016139\n"
     ]
    },
    {
     "data": {
      "application/vnd.jupyter.widget-view+json": {
       "model_id": "2b550ee17e924db2a6679f117eaf3882",
       "version_major": 2,
       "version_minor": 0
      },
      "text/plain": [
       "  0%|          | 0/10 [00:00<?, ?it/s]"
      ]
     },
     "metadata": {},
     "output_type": "display_data"
    },
    {
     "name": "stdout",
     "output_type": "stream",
     "text": [
      "Saving S:\\QRAM\\qram_4QR2\\data\\data_241025\\00102_NPulseExptEgGfQ31.h5\n",
      "Saved S:\\QRAM\\qram_4QR2\\data\\data_241025\\00102_NPulseExptEgGfQ31.h5\n",
      "[0.48761243 4.59559375 4.32035467]\n",
      "Attempted to init fitparam 0 to 0.0, which is out of bounds 0.0 to 0.0. Instead init to 0.0\n",
      "Warning: fit failed with error: Each lower bound must be strictly less than each upper bound.\n",
      "[0.0, 0.0, 10]\n",
      "Warning: fit failed with error: Optimal parameters not found: The maximum number of function evaluations is exceeded.\n",
      "[176.6110638278194, 0.0, 10]\n",
      "[ 0.82524674 -3.82952796  3.40545164]\n",
      "Attempted to init fitparam 0 to 0.0, which is out of bounds 0.0 to 0.0. Instead init to 0.0\n",
      "Warning: fit failed with error: Each lower bound must be strictly less than each upper bound.\n",
      "[0.0, 0.0, 10]\n",
      "Warning: fit failed with error: Optimal parameters not found: The maximum number of function evaluations is exceeded.\n",
      "[330.61269388271467, 0.0, 10]\n",
      "From QA: adjust length to 0.13852722847466947\n",
      "\tadjust ratio 0.9744689235991267\n",
      "\n",
      "From QB: adjust length to 0.13792485187077316\n",
      "\tadjust ratio 0.9787248446520643\n",
      "best 0 inf\n",
      "pi len precise 0.13499047922088145 adjustment ratio 1.0 from Q1\n",
      "for gain 27588.235294117647 added swap pi len from error amplification 0.13499047922088145\n",
      "----------- STARTING GAIN 28323.529411764706 -----------\n",
      "-------- swap length rabi --------\n",
      "gain 28323 freq 5128.573806690876\n"
     ]
    },
    {
     "data": {
      "application/vnd.jupyter.widget-view+json": {
       "model_id": "d54ae1c6bffd49dd8cd96ed81cbf2131",
       "version_major": 2,
       "version_minor": 0
      },
      "text/plain": [
       "  0%|          | 0/101 [00:00<?, ?it/s]"
      ]
     },
     "metadata": {},
     "output_type": "display_data"
    },
    {
     "name": "stdout",
     "output_type": "stream",
     "text": [
      "Saving S:\\QRAM\\qram_4QR2\\data\\data_241025\\00104_length_rabi_EgGf_qubit31.h5\n",
      "Saved S:\\QRAM\\qram_4QR2\\data\\data_241025\\00104_length_rabi_EgGf_qubit31.h5\n",
      "Attempted to init fitparam 0 to 0.0, which is out of bounds 0.0 to 0.0. Instead init to 0.0\n",
      "Attempted to init fitparam 4 to 0.0, which is out of bounds 0.0 to 0.0. Instead init to 0.0\n",
      "Warning: fit failed with error: Each lower bound must be strictly less than each upper bound.\n",
      "Attempted to init fitparam 0 to 0.0, which is out of bounds 0.0 to 0.0. Instead init to 0.0\n",
      "Attempted to init fitparam 4 to 0.0, which is out of bounds 0.0 to 0.0. Instead init to 0.0\n",
      "Warning: fit failed with error: Each lower bound must be strictly less than each upper bound.\n",
      "best 0 0.05294634883564463\n",
      "Pi length from amps data (qubit A) [us]: 0.13176217034566462\n",
      "\tPi/2 length from avgq data (qubit A) [us]: 0.06588108517283231\n",
      "\tDecay time [us]: 4.817630016320284\n",
      "Pi length from avgq data (qubit A) [us]: 0.21403610949330223\n",
      "\tPi/2 length from avgq data (qubit A) [us]: 0.10701805474665112\n",
      "\tDecay time [us]: 0.570762958648806\n",
      "Pi length from amps data (qubit B) [us]: 0.3061917285749397\n",
      "\tPi/2 length from avgq data (qubit B) [us]: 0.15309586428746985\n",
      "\tDecay time [us]: 0.17122888759464203\n",
      "Pi length from avgq data (qubit B) [us]: 0.21403610949330223\n",
      "\tPi/2 length from avgq data (qubit B) [us]: 0.10701805474665112\n",
      "\tDecay time [us]: 0.570762958648806\n",
      "max QA amp: 257.1505961872362\n",
      "min QA amp: 100.48771959805204\n",
      "max QB amp: 362.1905087797191\n",
      "min QB amp: 295.6142930187938\n",
      "for gain 28323.529411764706 added swap pi len from length rabi 0.13176217034566462\n",
      "-------- swap pi minus pi --------\n",
      "{'device': {'readout': {'trig_offset': 150, 'lo_sideband': [1, 1, 1, 1], 'frequency': [-439.97500000000036, 0.0, 452.3682333333336, -278.89999999999964], 'gain': [0.17, 0.0001, 0.25, 0.17], 'kappa_ext': [0.157, 0.065, 0.182, 0.104], 'kerr': [-0.0045, 0, 0.008, -0.003], 't_rise_reset': [0.5, 1, 0.5, 0.5], 'readout_length': [4, 4, 4, 4], 'frequency_ef': [-440.97500000000036, 0.0, 453.3682333333336, -280.35364238410557], 'readout_length_ef': [10.0, 7.0, 4.0, 8.0], 'relax_delay': [450, 450, 450, 450]}, 'qubit': {'f_ge': [4111.097866562327, 4105.838904759637, 4110.958153299016, 4110.546407850519, 3442.8755721075536, 3448.5530242338505, 3447.060317317807, 3446.4929792801067, 4762.761504132457, 4761.823567235975, 4762.909473544484, 4762.369813422167, 4380.698604555338, 4379.604868123916, 4380.717837106693, 4381.248121020163], 'f_ge_robust': [4114.313815659153, 4108.147701523904, 4114.310372455052, 4114.310372455052, 3443.0032303441935, 3448.345849629168, 0, 0, 4763.941, 4763.941, 4763.941, 4763.941, 4384.25034225973, 4384.25034225973, 4384.25034225973, 4384.25034225973], 'f_ef': [3884.6269161242526, 0.0, 0.0, 0.0, 0.0, 3348.085433174199, 0.0, 0.0, 4571.9056482340775, 4570.996526541673, 4573.280687567687, 0.0, 4211.617732525247, 4205.61697813965, 0.0, 4209.925086260656], 'f_EgGf': [2686.53594683, 0, 2017.3, 2414.92850999], 'f_EgGf_Q': [0, 0, 5885.585546008087, 5128.573806690876], 'f_f0g1': [1184.4, 999.8, 1632.9833333333333, 1620.9166666666665], 'gs': [52.40296404695958, 54.81794456602636, 43.49513117058557, 4.930653352423196, 2.6415018214608046, 6.386231497692186], 'pulses': {'pi_ge': {'sigma': [0.02, 0.02, 0.02, 0.02, 0.025, 0.025, 0.025, 0.025, 0.015, 0.015, 0.015, 0.015, 0.025, 0.025, 0.025, 0.025], 'gain': [1849, 1914, 0, 1855, 2834, 2504, 2648, 2631, 9155, 9155, 9155, 9155, 599, 599, 599, 599], 'half_gain': [1856, 1835, 1873, 1867, 2382, 2186, 2248, 2289, 9253, 9253, 9253, 9253, 524, 524, 524, 524], 'half_correction_phase': [0, 0, 0, 0, 0, 0, 0, 0, 0, 0, 0, 0, 0, 0, 0, 0, 0], 'half_gain_pi_sigma': [927, 0, 0, 0, 0, 1315, 0, 0, 0, 0, 7212, 0, 0, 0, 0, 460], 'type': 'gauss'}, 'pi_ef': {'sigma': [0.02, 0.02, 0.02, 0.02, 0.025, 0.025, 0.025, 0.025, 0.015, 0.015, 0.015, 0.015, 0.03, 0.03, 0.03, 0.03], 'gain': [1280, 0, 0, 0, 0, 1912, 0, 0, 10000, 10079, 10015, 0, 300, 300, 0, 300], 'half_gain': [1261, 0, 0, 0, 0, 1941, 0, 0, 0, 10147, 9845, 9979, 340, 340, 0, 320], 'half_gain_pi_sigma': [673, 0, 0, 0, 0, 975, 0, 0, 0, 0, 5049, 0, 340, 0, 0, 337], 'type': 'gauss'}, 'pi_EgGf': {'gain': [32000, 0, 30000, 16000], 'sigma': [0.586, 0, 0.8, 0.44643], 'type': 'flat_top'}, 'pi_EgGf_Q': {'gain': [0, 0, 12147, 28323], 'sigma': [0, 0, 0.44193131519875684, 0.13176217034566462], 'phase': [0, 0, 18.0, 24.0], 'half_sigma': [0, 0, 0.212, 0.172], 'half_phase': [0, 0, 18.0, 21.0], 'type': 'flat_top'}, 'pi_f0g1': {'gain': [32000, 32000, 32000, 32000], 'sigma': [0.536, 0.585, 1.54, 1.04], 'idle': [3, 6, 12, 8], 'type': 'flat_top'}, 'pulse_pp': {'gain': [1750, 3550, 0, 0], 'filename': '240920_3_qram_4q_2qubit_++gg'}, 'pulse_1p': {'gain': [3500, 4375, 0, 0], 'filename': '240920_qram_4q_2qubit_e+gg'}, 'pulse_p1': {'gain': [3000, 5530, 0, 0], 'filename': '240920_qram_4q_2qubit_+egg'}, 'pihalf_ge_robust': {'gain': [7559, 7660, 7559, 7559, 4843, 4462, 4462, 4144, 20111, 20111, 20111, 20111, 2375, 2375, 2375, 2375], 'filename': ['X_2_Q0', 'X_2_Q1', 'X_2_Q2', 'X_2_Q3']}, 'pi_ge_slow': {'gain': [-1, 100, -1, -1], 'sigma': [-1, 0.25, -1, -1], 'type': 'gauss'}, 'pi_Q1_ZZ_slow': {'gain': [100, 0, -1, -1], 'sigma': [0.25, 0, -1, -1], 'type': 'gauss'}}}}, 'hw': {'soc': {'dacs': {'qubit': {'ch': [0, 1, 2, 3], 'type': 'full', 'nyquist': [2, 1, 2, 2], 'mixer_freq': [0, 0, 0, 0]}, 'swap': {'ch': 1, 'type': 'full', 'nyquist': 1, 'mixer_freq': 0}, 'swap_f0g1': {'ch': [1, 1, 5, 5], 'type': ['full', 'full', 'full', 'full'], 'nyquist': 1, 'mixer_freq': 0}, 'swap_Q': {'ch': [0, -1, 2, 3], 'type': ['full', 'None', 'full', 'full'], 'nyquist': [2, 0, 2, 2], 'mixer_freq': 0}, 'readout': {'ch': [6, 4, 6, 6], 'full_mux_chs': [5, 4, 5, 5], 'type': ['mux4', 'full', 'mux4', 'mux4'], 'mixer_freq': [7250, 5795.8115578931565, 7250, 7250], 'nyquist': [2, 2, 2, 2]}, 'res_pump': {'ch': 4, 'type': 'full', 'mixer_freq': 0, 'nyquist': 2}, 'delay_chs': {'ch': [0, 1, 2, 3, 4, 5, 6], 'delay_ns': [4.0, 0.0, 5.0, 3.0, 25, 60, 71]}}, 'adcs': {'readout': {'ch': [0, 1, 2, 3]}}}, 'lo': {'twpa': {'frequency': '8210.0e6', 'power': -1.5}, 'readout': {'frequency': 0, 'power': 0}}}, 'aliases': {'readout_LO': 'SC_20A1', 'twpa_LO': 'SC_26C1', 'soc': 'Qick_QRAM'}, 'expt': {'start_N': 0, 'step_N': 1, 'expts_N': 10, 'start_f': 5128.073806690876, 'step_f': 0.03333333333333333, 'expts_f': 31, 'reps': 1000, 'loops': 1, 'pulse_type': 'flat_top', 'post_process': 'scale', 'singleshot_reps': 15000, 'measure_f': False, 'init_state': '|1>|1>', 'qDrive': 3, 'qubits': [3, 1], 'measure_qubits': [3, 1], 'readout_cool': False, 'n_init_readout': 1, 'n_trig': 1, 'init_read_wait_us': 2, 'full_mux_expt': True, 'resonator_reset': [0, 2, 3]}}\n"
     ]
    },
    {
     "data": {
      "application/vnd.jupyter.widget-view+json": {
       "model_id": "b6ef61af9195475a8aaba9ea337080cf",
       "version_major": 2,
       "version_minor": 0
      },
      "text/plain": [
       "  0%|          | 0/4 [00:00<?, ?it/s]"
      ]
     },
     "metadata": {},
     "output_type": "display_data"
    },
    {
     "name": "stdout",
     "output_type": "stream",
     "text": [
      "Qubit  (3)\n",
      "ge fidelity (%): 75.56000000000003 \t angle (deg): 0.0 \t threshold ge: 158.08487353489974\n",
      "Qubit  (1)\n",
      "ge fidelity (%): 0.45708202769073614 \t angle (deg): 0.0 \t threshold ge: 62.72458630707857\n"
     ]
    },
    {
     "data": {
      "application/vnd.jupyter.widget-view+json": {
       "model_id": "e38ab5d6019e408c8b64a0fb176f53db",
       "version_major": 2,
       "version_minor": 0
      },
      "text/plain": [
       "  0%|          | 0/10 [00:00<?, ?it/s]"
      ]
     },
     "metadata": {},
     "output_type": "display_data"
    },
    {
     "name": "stdout",
     "output_type": "stream",
     "text": [
      "Attempted to init fitparam 3 to 0.0, which is out of bounds 0 to 0.2530912745587585. Instead init to 0.12654563727937926\n",
      "Fit best freq (qA) 5128.427135676792 which is -0.14667101408394956 away from old freq 5128.573806690876\n",
      "Best freq from pi/-pi on Q3 5128.427135676792\n",
      "Attempted to init fitparam 3 to 0.0, which is out of bounds 0 to 0.11623847572221926. Instead init to 0.05811923786110963\n",
      "Fit best freq (qA) 5128.905555535576 which is 0.3317488447000869 away from old freq 5128.573806690876\n",
      "Best freq from pi/-pi on Q1 5128.905555535576\n",
      "best 1 0.3651433911217463\n",
      "Saving S:\\QRAM\\qram_4QR2\\data\\data_241025\\00109_PiMinusPiEgGfExptQ31.h5\n",
      "Saved S:\\QRAM\\qram_4QR2\\data\\data_241025\\00109_PiMinusPiEgGfExptQ31.h5\n",
      "for gain 28323.529411764706 added swap pi freq from pi minus pi 5128.905555535576\n",
      "using opt freq 5128.905555535576\n",
      "-------- swap error amplification --------\n",
      "{'device': {'readout': {'trig_offset': 150, 'lo_sideband': [1, 1, 1, 1], 'frequency': [-439.97500000000036, 0.0, 452.3682333333336, -278.89999999999964], 'gain': [0.17, 0.035, 0.25, 0.17], 'kappa_ext': [0.157, 0.065, 0.182, 0.104], 'kerr': [-0.0045, 0, 0.008, -0.003], 't_rise_reset': [0.5, 1, 0.5, 0.5], 'readout_length': [4, 4, 4, 4], 'frequency_ef': [-440.97500000000036, 0.0, 453.3682333333336, -280.35364238410557], 'readout_length_ef': [10.0, 7.0, 4.0, 8.0], 'relax_delay': [450, 450, 450, 450]}, 'qubit': {'f_ge': [4111.097866562327, 4105.838904759637, 4110.958153299016, 4110.546407850519, 3442.8755721075536, 3448.5530242338505, 3447.060317317807, 3446.4929792801067, 4762.761504132457, 4761.823567235975, 4762.909473544484, 4762.369813422167, 4380.698604555338, 4379.604868123916, 4380.717837106693, 4381.248121020163], 'f_ge_robust': [4114.313815659153, 4108.147701523904, 4114.310372455052, 4114.310372455052, 3443.0032303441935, 3448.345849629168, 0, 0, 4763.941, 4763.941, 4763.941, 4763.941, 4384.25034225973, 4384.25034225973, 4384.25034225973, 4384.25034225973], 'f_ef': [3884.6269161242526, 0.0, 0.0, 0.0, 0.0, 3348.085433174199, 0.0, 0.0, 4571.9056482340775, 4570.996526541673, 4573.280687567687, 0.0, 4211.617732525247, 4205.61697813965, 0.0, 4209.925086260656], 'f_EgGf': [2686.53594683, 0, 2017.3, 2414.92850999], 'f_EgGf_Q': [0, 0, 5885.585546008087, 5128.905555535576], 'f_f0g1': [1184.4, 999.8, 1632.9833333333333, 1620.9166666666665], 'gs': [52.40296404695958, 54.81794456602636, 43.49513117058557, 4.930653352423196, 2.6415018214608046, 6.386231497692186], 'pulses': {'pi_ge': {'sigma': [0.02, 0.02, 0.02, 0.02, 0.025, 0.025, 0.025, 0.025, 0.015, 0.015, 0.015, 0.015, 0.025, 0.025, 0.025, 0.025], 'gain': [1849, 1914, 0, 1855, 2834, 2504, 2648, 2631, 9155, 9155, 9155, 9155, 599, 599, 599, 599], 'half_gain': [1856, 1835, 1873, 1867, 2382, 2186, 2248, 2289, 9253, 9253, 9253, 9253, 524, 524, 524, 524], 'half_correction_phase': [0, 0, 0, 0, 0, 0, 0, 0, 0, 0, 0, 0, 0, 0, 0, 0, 0], 'half_gain_pi_sigma': [927, 0, 0, 0, 0, 1315, 0, 0, 0, 0, 7212, 0, 0, 0, 0, 460], 'type': 'gauss'}, 'pi_ef': {'sigma': [0.02, 0.02, 0.02, 0.02, 0.025, 0.025, 0.025, 0.025, 0.015, 0.015, 0.015, 0.015, 0.03, 0.03, 0.03, 0.03], 'gain': [1280, 0, 0, 0, 0, 1912, 0, 0, 10000, 10079, 10015, 0, 300, 300, 0, 300], 'half_gain': [1261, 0, 0, 0, 0, 1941, 0, 0, 0, 10147, 9845, 9979, 340, 340, 0, 320], 'half_gain_pi_sigma': [673, 0, 0, 0, 0, 975, 0, 0, 0, 0, 5049, 0, 340, 0, 0, 337], 'type': 'gauss'}, 'pi_EgGf': {'gain': [32000, 0, 30000, 16000], 'sigma': [0.586, 0, 0.8, 0.44643], 'type': 'flat_top'}, 'pi_EgGf_Q': {'gain': [0, 0, 12147, 28323], 'sigma': [0, 0, 0.44193131519875684, 0.13176217034566462], 'phase': [0, 0, 18.0, 24.0], 'half_sigma': [0, 0, 0.212, 0.172], 'half_phase': [0, 0, 18.0, 21.0], 'type': 'flat_top'}, 'pi_f0g1': {'gain': [32000, 32000, 32000, 32000], 'sigma': [0.536, 0.585, 1.54, 1.04], 'idle': [3, 6, 12, 8], 'type': 'flat_top'}, 'pulse_pp': {'gain': [1750, 3550, 0, 0], 'filename': '240920_3_qram_4q_2qubit_++gg'}, 'pulse_1p': {'gain': [3500, 4375, 0, 0], 'filename': '240920_qram_4q_2qubit_e+gg'}, 'pulse_p1': {'gain': [3000, 5530, 0, 0], 'filename': '240920_qram_4q_2qubit_+egg'}, 'pihalf_ge_robust': {'gain': [7559, 7660, 7559, 7559, 4843, 4462, 4462, 4144, 20111, 20111, 20111, 20111, 2375, 2375, 2375, 2375], 'filename': ['X_2_Q0', 'X_2_Q1', 'X_2_Q2', 'X_2_Q3']}, 'pi_ge_slow': {'gain': [-1, 100, -1, -1], 'sigma': [-1, 0.25, -1, -1], 'type': 'gauss'}, 'pi_Q1_ZZ_slow': {'gain': [100, 0, -1, -1], 'sigma': [0.25, 0, -1, -1], 'type': 'gauss'}}}}, 'hw': {'soc': {'dacs': {'qubit': {'ch': [0, 1, 2, 3], 'type': 'full', 'nyquist': [2, 1, 2, 2], 'mixer_freq': [0, 0, 0, 0]}, 'swap': {'ch': 1, 'type': 'full', 'nyquist': 1, 'mixer_freq': 0}, 'swap_f0g1': {'ch': [1, 1, 5, 5], 'type': ['full', 'full', 'full', 'full'], 'nyquist': 1, 'mixer_freq': 0}, 'swap_Q': {'ch': [0, -1, 2, 3], 'type': ['full', 'None', 'full', 'full'], 'nyquist': [2, 0, 2, 2], 'mixer_freq': 0}, 'readout': {'ch': [6, 4, 6, 6], 'full_mux_chs': [5, 4, 5, 5], 'type': ['mux4', 'full', 'mux4', 'mux4'], 'mixer_freq': [7250, 5795.8115578931565, 7250, 7250], 'nyquist': [2, 2, 2, 2]}, 'res_pump': {'ch': 4, 'type': 'full', 'mixer_freq': 0, 'nyquist': 2}, 'delay_chs': {'ch': [0, 1, 2, 3, 4, 5, 6], 'delay_ns': [4.0, 0.0, 5.0, 3.0, 25, 60, 71]}}, 'adcs': {'readout': {'ch': [0, 1, 2, 3]}}}, 'lo': {'twpa': {'frequency': '8210.0e6', 'power': -1.5}, 'readout': {'frequency': 0, 'power': 0}}}, 'aliases': {'readout_LO': 'SC_20A1', 'twpa_LO': 'SC_26C1', 'soc': 'Qick_QRAM'}, 'expt': {'start': 0, 'step': 1, 'expts': 10, 'reps': 2000, 'loops': 10, 'pulse_type': 'flat_top', 'post_process': 'scale', 'singleshot_reps': 15000, 'measure_f': False, 'init_state': '|1>|1>', 'qDrive': 3, 'qubits': [3, 1], 'measure_qubits': [3, 1], 'full_mux_expt': True, 'resonator_reset': [0, 2, 3]}}\n"
     ]
    },
    {
     "data": {
      "application/vnd.jupyter.widget-view+json": {
       "model_id": "953190855b924eed9e2a816b1d22d1c3",
       "version_major": 2,
       "version_minor": 0
      },
      "text/plain": [
       "  0%|          | 0/4 [00:00<?, ?it/s]"
      ]
     },
     "metadata": {},
     "output_type": "display_data"
    },
    {
     "name": "stdout",
     "output_type": "stream",
     "text": [
      "Qubit  (3)\n",
      "ge fidelity (%): 73.74666666666667 \t angle (deg): 0.0 \t threshold ge: 162.46453338122785\n",
      "Qubit  (1)\n",
      "ge fidelity (%): 48.92536302420163 \t angle (deg): 0.0 \t threshold ge: 311.4282207674915\n"
     ]
    },
    {
     "data": {
      "application/vnd.jupyter.widget-view+json": {
       "model_id": "53082bb626e6455b9b5b250b0616d508",
       "version_major": 2,
       "version_minor": 0
      },
      "text/plain": [
       "  0%|          | 0/10 [00:00<?, ?it/s]"
      ]
     },
     "metadata": {},
     "output_type": "display_data"
    },
    {
     "name": "stdout",
     "output_type": "stream",
     "text": [
      "Saving S:\\QRAM\\qram_4QR2\\data\\data_241025\\00103_NPulseExptEgGfQ31.h5\n",
      "Saved S:\\QRAM\\qram_4QR2\\data\\data_241025\\00103_NPulseExptEgGfQ31.h5\n",
      "[0.4867779  6.46462903 5.35229198]\n",
      "Attempted to init fitparam 0 to 0.0, which is out of bounds 0.0 to 0.0. Instead init to 0.0\n",
      "Warning: fit failed with error: Each lower bound must be strictly less than each upper bound.\n",
      "[0.0, 0.0, 10]\n",
      "Warning: fit failed with error: Optimal parameters not found: The maximum number of function evaluations is exceeded.\n",
      "[176.59843489750887, 0.0, 10]\n",
      "[ 0.72087322 -5.66298171  4.73205858]\n",
      "Attempted to init fitparam 0 to 0.0, which is out of bounds 0.0 to 0.0. Instead init to 0.0\n",
      "Warning: fit failed with error: Each lower bound must be strictly less than each upper bound.\n",
      "[0.0, 0.0, 10]\n",
      "Warning: fit failed with error: Optimal parameters not found: The maximum number of function evaluations is exceeded.\n",
      "[321.732922925599, 0.0, 10]\n",
      "From QA: adjust length to 0.136670642586976\n",
      "\tadjust ratio 0.9640853942851138\n",
      "\n",
      "From QB: adjust length to 0.13604219514070817\n",
      "\tadjust ratio 0.9685389904902907\n",
      "best 0 inf\n",
      "pi len precise 0.13176217034566462 adjustment ratio 1.0 from Q1\n",
      "for gain 28323.529411764706 added swap pi len from error amplification 0.13176217034566462\n",
      "----------- STARTING GAIN 29058.823529411762 -----------\n",
      "-------- swap length rabi --------\n",
      "gain 29058 freq 5127.469810491469\n"
     ]
    },
    {
     "data": {
      "application/vnd.jupyter.widget-view+json": {
       "model_id": "104205850f9944faa03f1ec9022eafd4",
       "version_major": 2,
       "version_minor": 0
      },
      "text/plain": [
       "  0%|          | 0/101 [00:00<?, ?it/s]"
      ]
     },
     "metadata": {},
     "output_type": "display_data"
    },
    {
     "name": "stdout",
     "output_type": "stream",
     "text": [
      "Saving S:\\QRAM\\qram_4QR2\\data\\data_241025\\00105_length_rabi_EgGf_qubit31.h5\n",
      "Saved S:\\QRAM\\qram_4QR2\\data\\data_241025\\00105_length_rabi_EgGf_qubit31.h5\n",
      "Attempted to init fitparam 0 to 0.0, which is out of bounds 0.0 to 0.0. Instead init to 0.0\n",
      "Attempted to init fitparam 4 to 0.0, which is out of bounds 0.0 to 0.0. Instead init to 0.0\n",
      "Warning: fit failed with error: Each lower bound must be strictly less than each upper bound.\n",
      "Attempted to init fitparam 0 to 0.0, which is out of bounds 0.0 to 0.0. Instead init to 0.0\n",
      "Attempted to init fitparam 4 to 0.0, which is out of bounds 0.0 to 0.0. Instead init to 0.0\n",
      "Warning: fit failed with error: Each lower bound must be strictly less than each upper bound.\n",
      "best 0 0.04735567745465971\n",
      "Pi length from amps data (qubit A) [us]: 0.13116632738422024\n",
      "\tPi/2 length from avgq data (qubit A) [us]: 0.06558316369211012\n",
      "\tDecay time [us]: 4.202918633628122\n",
      "Pi length from avgq data (qubit A) [us]: 0.20093185789167148\n",
      "\tPi/2 length from avgq data (qubit A) [us]: 0.10046592894583574\n",
      "\tDecay time [us]: 0.5358182877111239\n",
      "Pi length from amps data (qubit B) [us]: 0.13253502912532322\n",
      "\tPi/2 length from avgq data (qubit B) [us]: 0.06626751456266161\n",
      "\tDecay time [us]: 1.1983678356634653\n",
      "Pi length from avgq data (qubit B) [us]: 0.20093185789167148\n",
      "\tPi/2 length from avgq data (qubit B) [us]: 0.10046592894583574\n",
      "\tDecay time [us]: 0.5358182877111239\n",
      "max QA amp: 264.8034697432983\n",
      "min QA amp: 93.1895158698064\n",
      "max QB amp: 363.56881475932744\n",
      "min QB amp: 275.6515306786903\n",
      "for gain 29058.823529411762 added swap pi len from length rabi 0.13116632738422024\n",
      "-------- swap pi minus pi --------\n",
      "{'device': {'readout': {'trig_offset': 150, 'lo_sideband': [1, 1, 1, 1], 'frequency': [-439.97500000000036, 0.0, 452.3682333333336, -278.89999999999964], 'gain': [0.17, 0.0001, 0.25, 0.17], 'kappa_ext': [0.157, 0.065, 0.182, 0.104], 'kerr': [-0.0045, 0, 0.008, -0.003], 't_rise_reset': [0.5, 1, 0.5, 0.5], 'readout_length': [4, 4, 4, 4], 'frequency_ef': [-440.97500000000036, 0.0, 453.3682333333336, -280.35364238410557], 'readout_length_ef': [10.0, 7.0, 4.0, 8.0], 'relax_delay': [450, 450, 450, 450]}, 'qubit': {'f_ge': [4111.097866562327, 4105.838904759637, 4110.958153299016, 4110.546407850519, 3442.8755721075536, 3448.5530242338505, 3447.060317317807, 3446.4929792801067, 4762.761504132457, 4761.823567235975, 4762.909473544484, 4762.369813422167, 4380.698604555338, 4379.604868123916, 4380.717837106693, 4381.248121020163], 'f_ge_robust': [4114.313815659153, 4108.147701523904, 4114.310372455052, 4114.310372455052, 3443.0032303441935, 3448.345849629168, 0, 0, 4763.941, 4763.941, 4763.941, 4763.941, 4384.25034225973, 4384.25034225973, 4384.25034225973, 4384.25034225973], 'f_ef': [3884.6269161242526, 0.0, 0.0, 0.0, 0.0, 3348.085433174199, 0.0, 0.0, 4571.9056482340775, 4570.996526541673, 4573.280687567687, 0.0, 4211.617732525247, 4205.61697813965, 0.0, 4209.925086260656], 'f_EgGf': [2686.53594683, 0, 2017.3, 2414.92850999], 'f_EgGf_Q': [0, 0, 5885.585546008087, 5127.469810491469], 'f_f0g1': [1184.4, 999.8, 1632.9833333333333, 1620.9166666666665], 'gs': [52.40296404695958, 54.81794456602636, 43.49513117058557, 4.930653352423196, 2.6415018214608046, 6.386231497692186], 'pulses': {'pi_ge': {'sigma': [0.02, 0.02, 0.02, 0.02, 0.025, 0.025, 0.025, 0.025, 0.015, 0.015, 0.015, 0.015, 0.025, 0.025, 0.025, 0.025], 'gain': [1849, 1914, 0, 1855, 2834, 2504, 2648, 2631, 9155, 9155, 9155, 9155, 599, 599, 599, 599], 'half_gain': [1856, 1835, 1873, 1867, 2382, 2186, 2248, 2289, 9253, 9253, 9253, 9253, 524, 524, 524, 524], 'half_correction_phase': [0, 0, 0, 0, 0, 0, 0, 0, 0, 0, 0, 0, 0, 0, 0, 0, 0], 'half_gain_pi_sigma': [927, 0, 0, 0, 0, 1315, 0, 0, 0, 0, 7212, 0, 0, 0, 0, 460], 'type': 'gauss'}, 'pi_ef': {'sigma': [0.02, 0.02, 0.02, 0.02, 0.025, 0.025, 0.025, 0.025, 0.015, 0.015, 0.015, 0.015, 0.03, 0.03, 0.03, 0.03], 'gain': [1280, 0, 0, 0, 0, 1912, 0, 0, 10000, 10079, 10015, 0, 300, 300, 0, 300], 'half_gain': [1261, 0, 0, 0, 0, 1941, 0, 0, 0, 10147, 9845, 9979, 340, 340, 0, 320], 'half_gain_pi_sigma': [673, 0, 0, 0, 0, 975, 0, 0, 0, 0, 5049, 0, 340, 0, 0, 337], 'type': 'gauss'}, 'pi_EgGf': {'gain': [32000, 0, 30000, 16000], 'sigma': [0.586, 0, 0.8, 0.44643], 'type': 'flat_top'}, 'pi_EgGf_Q': {'gain': [0, 0, 12147, 29058], 'sigma': [0, 0, 0.44193131519875684, 0.13116632738422024], 'phase': [0, 0, 18.0, 24.0], 'half_sigma': [0, 0, 0.212, 0.172], 'half_phase': [0, 0, 18.0, 21.0], 'type': 'flat_top'}, 'pi_f0g1': {'gain': [32000, 32000, 32000, 32000], 'sigma': [0.536, 0.585, 1.54, 1.04], 'idle': [3, 6, 12, 8], 'type': 'flat_top'}, 'pulse_pp': {'gain': [1750, 3550, 0, 0], 'filename': '240920_3_qram_4q_2qubit_++gg'}, 'pulse_1p': {'gain': [3500, 4375, 0, 0], 'filename': '240920_qram_4q_2qubit_e+gg'}, 'pulse_p1': {'gain': [3000, 5530, 0, 0], 'filename': '240920_qram_4q_2qubit_+egg'}, 'pihalf_ge_robust': {'gain': [7559, 7660, 7559, 7559, 4843, 4462, 4462, 4144, 20111, 20111, 20111, 20111, 2375, 2375, 2375, 2375], 'filename': ['X_2_Q0', 'X_2_Q1', 'X_2_Q2', 'X_2_Q3']}, 'pi_ge_slow': {'gain': [-1, 100, -1, -1], 'sigma': [-1, 0.25, -1, -1], 'type': 'gauss'}, 'pi_Q1_ZZ_slow': {'gain': [100, 0, -1, -1], 'sigma': [0.25, 0, -1, -1], 'type': 'gauss'}}}}, 'hw': {'soc': {'dacs': {'qubit': {'ch': [0, 1, 2, 3], 'type': 'full', 'nyquist': [2, 1, 2, 2], 'mixer_freq': [0, 0, 0, 0]}, 'swap': {'ch': 1, 'type': 'full', 'nyquist': 1, 'mixer_freq': 0}, 'swap_f0g1': {'ch': [1, 1, 5, 5], 'type': ['full', 'full', 'full', 'full'], 'nyquist': 1, 'mixer_freq': 0}, 'swap_Q': {'ch': [0, -1, 2, 3], 'type': ['full', 'None', 'full', 'full'], 'nyquist': [2, 0, 2, 2], 'mixer_freq': 0}, 'readout': {'ch': [6, 4, 6, 6], 'full_mux_chs': [5, 4, 5, 5], 'type': ['mux4', 'full', 'mux4', 'mux4'], 'mixer_freq': [7250, 5795.8115578931565, 7250, 7250], 'nyquist': [2, 2, 2, 2]}, 'res_pump': {'ch': 4, 'type': 'full', 'mixer_freq': 0, 'nyquist': 2}, 'delay_chs': {'ch': [0, 1, 2, 3, 4, 5, 6], 'delay_ns': [4.0, 0.0, 5.0, 3.0, 25, 60, 71]}}, 'adcs': {'readout': {'ch': [0, 1, 2, 3]}}}, 'lo': {'twpa': {'frequency': '8210.0e6', 'power': -1.5}, 'readout': {'frequency': 0, 'power': 0}}}, 'aliases': {'readout_LO': 'SC_20A1', 'twpa_LO': 'SC_26C1', 'soc': 'Qick_QRAM'}, 'expt': {'start_N': 0, 'step_N': 1, 'expts_N': 10, 'start_f': 5126.969810491469, 'step_f': 0.03333333333333333, 'expts_f': 31, 'reps': 1000, 'loops': 1, 'pulse_type': 'flat_top', 'post_process': 'scale', 'singleshot_reps': 15000, 'measure_f': False, 'init_state': '|1>|1>', 'qDrive': 3, 'qubits': [3, 1], 'measure_qubits': [3, 1], 'readout_cool': False, 'n_init_readout': 1, 'n_trig': 1, 'init_read_wait_us': 2, 'full_mux_expt': True, 'resonator_reset': [0, 2, 3]}}\n"
     ]
    },
    {
     "data": {
      "application/vnd.jupyter.widget-view+json": {
       "model_id": "a51b21cabc6c402b9ab59f311a457942",
       "version_major": 2,
       "version_minor": 0
      },
      "text/plain": [
       "  0%|          | 0/4 [00:00<?, ?it/s]"
      ]
     },
     "metadata": {},
     "output_type": "display_data"
    },
    {
     "name": "stdout",
     "output_type": "stream",
     "text": [
      "Qubit  (3)\n",
      "ge fidelity (%): 76.26593995155233 \t angle (deg): 0.0 \t threshold ge: 161.92579486846319\n",
      "Qubit  (1)\n",
      "ge fidelity (%): 1.5799999999999592 \t angle (deg): 0.0 \t threshold ge: 96.90593727785037\n"
     ]
    },
    {
     "data": {
      "application/vnd.jupyter.widget-view+json": {
       "model_id": "83f2c8e3e882462280cdec6dd2083fca",
       "version_major": 2,
       "version_minor": 0
      },
      "text/plain": [
       "  0%|          | 0/10 [00:00<?, ?it/s]"
      ]
     },
     "metadata": {},
     "output_type": "display_data"
    },
    {
     "name": "stdout",
     "output_type": "stream",
     "text": [
      "Attempted to init fitparam 3 to 0.0, which is out of bounds 0 to 0.1180740703525503. Instead init to 0.05903703517627515\n",
      "Fit best freq (qA) 5127.389211066479 which is -0.08059942498948658 away from old freq 5127.469810491469\n",
      "Best freq from pi/-pi on Q3 5127.389211066479\n",
      "Attempted to init fitparam 3 to 0.0, which is out of bounds 0 to 0.026801863351118543. Instead init to 0.013400931675559271\n",
      "Fit best freq (qA) 5127.702625251956 which is 0.23281476048759941 away from old freq 5127.469810491469\n",
      "Best freq from pi/-pi on Q1 5127.702625251956\n",
      "best 1 0.3920572303841269\n",
      "Saving S:\\QRAM\\qram_4QR2\\data\\data_241025\\00110_PiMinusPiEgGfExptQ31.h5\n",
      "Saved S:\\QRAM\\qram_4QR2\\data\\data_241025\\00110_PiMinusPiEgGfExptQ31.h5\n",
      "for gain 29058.823529411762 added swap pi freq from pi minus pi 5127.702625251956\n",
      "using opt freq 5127.702625251956\n",
      "-------- swap error amplification --------\n",
      "{'device': {'readout': {'trig_offset': 150, 'lo_sideband': [1, 1, 1, 1], 'frequency': [-439.97500000000036, 0.0, 452.3682333333336, -278.89999999999964], 'gain': [0.17, 0.035, 0.25, 0.17], 'kappa_ext': [0.157, 0.065, 0.182, 0.104], 'kerr': [-0.0045, 0, 0.008, -0.003], 't_rise_reset': [0.5, 1, 0.5, 0.5], 'readout_length': [4, 4, 4, 4], 'frequency_ef': [-440.97500000000036, 0.0, 453.3682333333336, -280.35364238410557], 'readout_length_ef': [10.0, 7.0, 4.0, 8.0], 'relax_delay': [450, 450, 450, 450]}, 'qubit': {'f_ge': [4111.097866562327, 4105.838904759637, 4110.958153299016, 4110.546407850519, 3442.8755721075536, 3448.5530242338505, 3447.060317317807, 3446.4929792801067, 4762.761504132457, 4761.823567235975, 4762.909473544484, 4762.369813422167, 4380.698604555338, 4379.604868123916, 4380.717837106693, 4381.248121020163], 'f_ge_robust': [4114.313815659153, 4108.147701523904, 4114.310372455052, 4114.310372455052, 3443.0032303441935, 3448.345849629168, 0, 0, 4763.941, 4763.941, 4763.941, 4763.941, 4384.25034225973, 4384.25034225973, 4384.25034225973, 4384.25034225973], 'f_ef': [3884.6269161242526, 0.0, 0.0, 0.0, 0.0, 3348.085433174199, 0.0, 0.0, 4571.9056482340775, 4570.996526541673, 4573.280687567687, 0.0, 4211.617732525247, 4205.61697813965, 0.0, 4209.925086260656], 'f_EgGf': [2686.53594683, 0, 2017.3, 2414.92850999], 'f_EgGf_Q': [0, 0, 5885.585546008087, 5127.702625251956], 'f_f0g1': [1184.4, 999.8, 1632.9833333333333, 1620.9166666666665], 'gs': [52.40296404695958, 54.81794456602636, 43.49513117058557, 4.930653352423196, 2.6415018214608046, 6.386231497692186], 'pulses': {'pi_ge': {'sigma': [0.02, 0.02, 0.02, 0.02, 0.025, 0.025, 0.025, 0.025, 0.015, 0.015, 0.015, 0.015, 0.025, 0.025, 0.025, 0.025], 'gain': [1849, 1914, 0, 1855, 2834, 2504, 2648, 2631, 9155, 9155, 9155, 9155, 599, 599, 599, 599], 'half_gain': [1856, 1835, 1873, 1867, 2382, 2186, 2248, 2289, 9253, 9253, 9253, 9253, 524, 524, 524, 524], 'half_correction_phase': [0, 0, 0, 0, 0, 0, 0, 0, 0, 0, 0, 0, 0, 0, 0, 0, 0], 'half_gain_pi_sigma': [927, 0, 0, 0, 0, 1315, 0, 0, 0, 0, 7212, 0, 0, 0, 0, 460], 'type': 'gauss'}, 'pi_ef': {'sigma': [0.02, 0.02, 0.02, 0.02, 0.025, 0.025, 0.025, 0.025, 0.015, 0.015, 0.015, 0.015, 0.03, 0.03, 0.03, 0.03], 'gain': [1280, 0, 0, 0, 0, 1912, 0, 0, 10000, 10079, 10015, 0, 300, 300, 0, 300], 'half_gain': [1261, 0, 0, 0, 0, 1941, 0, 0, 0, 10147, 9845, 9979, 340, 340, 0, 320], 'half_gain_pi_sigma': [673, 0, 0, 0, 0, 975, 0, 0, 0, 0, 5049, 0, 340, 0, 0, 337], 'type': 'gauss'}, 'pi_EgGf': {'gain': [32000, 0, 30000, 16000], 'sigma': [0.586, 0, 0.8, 0.44643], 'type': 'flat_top'}, 'pi_EgGf_Q': {'gain': [0, 0, 12147, 29058], 'sigma': [0, 0, 0.44193131519875684, 0.13116632738422024], 'phase': [0, 0, 18.0, 24.0], 'half_sigma': [0, 0, 0.212, 0.172], 'half_phase': [0, 0, 18.0, 21.0], 'type': 'flat_top'}, 'pi_f0g1': {'gain': [32000, 32000, 32000, 32000], 'sigma': [0.536, 0.585, 1.54, 1.04], 'idle': [3, 6, 12, 8], 'type': 'flat_top'}, 'pulse_pp': {'gain': [1750, 3550, 0, 0], 'filename': '240920_3_qram_4q_2qubit_++gg'}, 'pulse_1p': {'gain': [3500, 4375, 0, 0], 'filename': '240920_qram_4q_2qubit_e+gg'}, 'pulse_p1': {'gain': [3000, 5530, 0, 0], 'filename': '240920_qram_4q_2qubit_+egg'}, 'pihalf_ge_robust': {'gain': [7559, 7660, 7559, 7559, 4843, 4462, 4462, 4144, 20111, 20111, 20111, 20111, 2375, 2375, 2375, 2375], 'filename': ['X_2_Q0', 'X_2_Q1', 'X_2_Q2', 'X_2_Q3']}, 'pi_ge_slow': {'gain': [-1, 100, -1, -1], 'sigma': [-1, 0.25, -1, -1], 'type': 'gauss'}, 'pi_Q1_ZZ_slow': {'gain': [100, 0, -1, -1], 'sigma': [0.25, 0, -1, -1], 'type': 'gauss'}}}}, 'hw': {'soc': {'dacs': {'qubit': {'ch': [0, 1, 2, 3], 'type': 'full', 'nyquist': [2, 1, 2, 2], 'mixer_freq': [0, 0, 0, 0]}, 'swap': {'ch': 1, 'type': 'full', 'nyquist': 1, 'mixer_freq': 0}, 'swap_f0g1': {'ch': [1, 1, 5, 5], 'type': ['full', 'full', 'full', 'full'], 'nyquist': 1, 'mixer_freq': 0}, 'swap_Q': {'ch': [0, -1, 2, 3], 'type': ['full', 'None', 'full', 'full'], 'nyquist': [2, 0, 2, 2], 'mixer_freq': 0}, 'readout': {'ch': [6, 4, 6, 6], 'full_mux_chs': [5, 4, 5, 5], 'type': ['mux4', 'full', 'mux4', 'mux4'], 'mixer_freq': [7250, 5795.8115578931565, 7250, 7250], 'nyquist': [2, 2, 2, 2]}, 'res_pump': {'ch': 4, 'type': 'full', 'mixer_freq': 0, 'nyquist': 2}, 'delay_chs': {'ch': [0, 1, 2, 3, 4, 5, 6], 'delay_ns': [4.0, 0.0, 5.0, 3.0, 25, 60, 71]}}, 'adcs': {'readout': {'ch': [0, 1, 2, 3]}}}, 'lo': {'twpa': {'frequency': '8210.0e6', 'power': -1.5}, 'readout': {'frequency': 0, 'power': 0}}}, 'aliases': {'readout_LO': 'SC_20A1', 'twpa_LO': 'SC_26C1', 'soc': 'Qick_QRAM'}, 'expt': {'start': 0, 'step': 1, 'expts': 10, 'reps': 2000, 'loops': 10, 'pulse_type': 'flat_top', 'post_process': 'scale', 'singleshot_reps': 15000, 'measure_f': False, 'init_state': '|1>|1>', 'qDrive': 3, 'qubits': [3, 1], 'measure_qubits': [3, 1], 'full_mux_expt': True, 'resonator_reset': [0, 2, 3]}}\n"
     ]
    },
    {
     "data": {
      "application/vnd.jupyter.widget-view+json": {
       "model_id": "dcb77d6b7d224949aa9d3a40258cf854",
       "version_major": 2,
       "version_minor": 0
      },
      "text/plain": [
       "  0%|          | 0/4 [00:00<?, ?it/s]"
      ]
     },
     "metadata": {},
     "output_type": "display_data"
    },
    {
     "name": "stdout",
     "output_type": "stream",
     "text": [
      "Qubit  (3)\n",
      "ge fidelity (%): 75.85253772473719 \t angle (deg): 0.0 \t threshold ge: 163.3520503182401\n",
      "Qubit  (1)\n",
      "ge fidelity (%): 50.83333333333335 \t angle (deg): 0.0 \t threshold ge: 304.61979632065226\n"
     ]
    },
    {
     "data": {
      "application/vnd.jupyter.widget-view+json": {
       "model_id": "5ce51616f7df4bde98b71bd70fc91906",
       "version_major": 2,
       "version_minor": 0
      },
      "text/plain": [
       "  0%|          | 0/10 [00:00<?, ?it/s]"
      ]
     },
     "metadata": {},
     "output_type": "display_data"
    },
    {
     "name": "stdout",
     "output_type": "stream",
     "text": [
      "Saving S:\\QRAM\\qram_4QR2\\data\\data_241025\\00104_NPulseExptEgGfQ31.h5\n",
      "Saved S:\\QRAM\\qram_4QR2\\data\\data_241025\\00104_NPulseExptEgGfQ31.h5\n",
      "[0.46127521 5.07705395 4.49989703]\n",
      "Attempted to init fitparam 0 to 0.0, which is out of bounds 0.0 to 0.0. Instead init to 0.0\n",
      "Warning: fit failed with error: Each lower bound must be strictly less than each upper bound.\n",
      "[0.0, 0.0, 10]\n",
      "Warning: fit failed with error: Optimal parameters not found: The maximum number of function evaluations is exceeded.\n",
      "[174.04111871012606, 0.0, 10]\n",
      "[ 0.74447716 -4.27763211  4.60364999]\n",
      "Attempted to init fitparam 0 to 0.0, which is out of bounds 0.0 to 0.0. Instead init to 0.0\n",
      "Warning: fit failed with error: Each lower bound must be strictly less than each upper bound.\n",
      "[0.0, 0.0, 10]\n",
      "Warning: fit failed with error: Optimal parameters not found: The maximum number of function evaluations is exceeded.\n",
      "[319.1682413466016, 0.0, 10]\n",
      "From QA: adjust length to 0.1349733666281228\n",
      "\tadjust ratio 0.971794144733815\n",
      "\n",
      "From QB: adjust length to 0.1343593260899916\n",
      "\tadjust ratio 0.9762353771882366\n",
      "best 0 inf\n",
      "pi len precise 0.13116632738422024 adjustment ratio 1.0 from Q1\n",
      "for gain 29058.823529411762 added swap pi len from error amplification 0.13116632738422024\n",
      "----------- STARTING GAIN 29794.11764705882 -----------\n",
      "-------- swap length rabi --------\n",
      "gain 29794 freq 5126.336715497399\n"
     ]
    },
    {
     "data": {
      "application/vnd.jupyter.widget-view+json": {
       "model_id": "acab18f5c97240e9afa92f293adacd4f",
       "version_major": 2,
       "version_minor": 0
      },
      "text/plain": [
       "  0%|          | 0/101 [00:00<?, ?it/s]"
      ]
     },
     "metadata": {},
     "output_type": "display_data"
    },
    {
     "name": "stdout",
     "output_type": "stream",
     "text": [
      "Saving S:\\QRAM\\qram_4QR2\\data\\data_241025\\00106_length_rabi_EgGf_qubit31.h5\n",
      "Saved S:\\QRAM\\qram_4QR2\\data\\data_241025\\00106_length_rabi_EgGf_qubit31.h5\n",
      "Attempted to init fitparam 0 to 0.0, which is out of bounds 0.0 to 0.0. Instead init to 0.0\n",
      "Attempted to init fitparam 4 to 0.0, which is out of bounds 0.0 to 0.0. Instead init to 0.0\n",
      "Warning: fit failed with error: Each lower bound must be strictly less than each upper bound.\n",
      "Attempted to init fitparam 0 to 0.0, which is out of bounds 0.0 to 0.0. Instead init to 0.0\n",
      "Attempted to init fitparam 4 to 0.0, which is out of bounds 0.0 to 0.0. Instead init to 0.0\n",
      "Warning: fit failed with error: Each lower bound must be strictly less than each upper bound.\n",
      "best 0 0.05794148897519665\n",
      "Pi length from amps data (qubit A) [us]: 0.12663711487670318\n",
      "\tPi/2 length from avgq data (qubit A) [us]: 0.06331855743835159\n",
      "\tDecay time [us]: 4.626019919472062\n",
      "Pi length from avgq data (qubit A) [us]: 0.18782760629004078\n",
      "\tPi/2 length from avgq data (qubit A) [us]: 0.09391380314502039\n",
      "\tDecay time [us]: 0.5008736167734421\n",
      "Pi length from amps data (qubit B) [us]: 0.12489740294401533\n",
      "\tPi/2 length from avgq data (qubit B) [us]: 0.062448701472007664\n",
      "\tDecay time [us]: 25.87287315471594\n",
      "Pi length from avgq data (qubit B) [us]: 0.18782760629004078\n",
      "\tPi/2 length from avgq data (qubit B) [us]: 0.09391380314502039\n",
      "\tDecay time [us]: 0.5008736167734421\n",
      "max QA amp: 260.81695126560584\n",
      "min QA amp: 93.69966705448995\n",
      "max QB amp: 359.29592689870145\n",
      "min QB amp: 269.2347216066637\n",
      "for gain 29794.11764705882 added swap pi len from length rabi 0.12663711487670318\n",
      "-------- swap pi minus pi --------\n",
      "{'device': {'readout': {'trig_offset': 150, 'lo_sideband': [1, 1, 1, 1], 'frequency': [-439.97500000000036, 0.0, 452.3682333333336, -278.89999999999964], 'gain': [0.17, 0.0001, 0.25, 0.17], 'kappa_ext': [0.157, 0.065, 0.182, 0.104], 'kerr': [-0.0045, 0, 0.008, -0.003], 't_rise_reset': [0.5, 1, 0.5, 0.5], 'readout_length': [4, 4, 4, 4], 'frequency_ef': [-440.97500000000036, 0.0, 453.3682333333336, -280.35364238410557], 'readout_length_ef': [10.0, 7.0, 4.0, 8.0], 'relax_delay': [450, 450, 450, 450]}, 'qubit': {'f_ge': [4111.097866562327, 4105.838904759637, 4110.958153299016, 4110.546407850519, 3442.8755721075536, 3448.5530242338505, 3447.060317317807, 3446.4929792801067, 4762.761504132457, 4761.823567235975, 4762.909473544484, 4762.369813422167, 4380.698604555338, 4379.604868123916, 4380.717837106693, 4381.248121020163], 'f_ge_robust': [4114.313815659153, 4108.147701523904, 4114.310372455052, 4114.310372455052, 3443.0032303441935, 3448.345849629168, 0, 0, 4763.941, 4763.941, 4763.941, 4763.941, 4384.25034225973, 4384.25034225973, 4384.25034225973, 4384.25034225973], 'f_ef': [3884.6269161242526, 0.0, 0.0, 0.0, 0.0, 3348.085433174199, 0.0, 0.0, 4571.9056482340775, 4570.996526541673, 4573.280687567687, 0.0, 4211.617732525247, 4205.61697813965, 0.0, 4209.925086260656], 'f_EgGf': [2686.53594683, 0, 2017.3, 2414.92850999], 'f_EgGf_Q': [0, 0, 5885.585546008087, 5126.336715497399], 'f_f0g1': [1184.4, 999.8, 1632.9833333333333, 1620.9166666666665], 'gs': [52.40296404695958, 54.81794456602636, 43.49513117058557, 4.930653352423196, 2.6415018214608046, 6.386231497692186], 'pulses': {'pi_ge': {'sigma': [0.02, 0.02, 0.02, 0.02, 0.025, 0.025, 0.025, 0.025, 0.015, 0.015, 0.015, 0.015, 0.025, 0.025, 0.025, 0.025], 'gain': [1849, 1914, 0, 1855, 2834, 2504, 2648, 2631, 9155, 9155, 9155, 9155, 599, 599, 599, 599], 'half_gain': [1856, 1835, 1873, 1867, 2382, 2186, 2248, 2289, 9253, 9253, 9253, 9253, 524, 524, 524, 524], 'half_correction_phase': [0, 0, 0, 0, 0, 0, 0, 0, 0, 0, 0, 0, 0, 0, 0, 0, 0], 'half_gain_pi_sigma': [927, 0, 0, 0, 0, 1315, 0, 0, 0, 0, 7212, 0, 0, 0, 0, 460], 'type': 'gauss'}, 'pi_ef': {'sigma': [0.02, 0.02, 0.02, 0.02, 0.025, 0.025, 0.025, 0.025, 0.015, 0.015, 0.015, 0.015, 0.03, 0.03, 0.03, 0.03], 'gain': [1280, 0, 0, 0, 0, 1912, 0, 0, 10000, 10079, 10015, 0, 300, 300, 0, 300], 'half_gain': [1261, 0, 0, 0, 0, 1941, 0, 0, 0, 10147, 9845, 9979, 340, 340, 0, 320], 'half_gain_pi_sigma': [673, 0, 0, 0, 0, 975, 0, 0, 0, 0, 5049, 0, 340, 0, 0, 337], 'type': 'gauss'}, 'pi_EgGf': {'gain': [32000, 0, 30000, 16000], 'sigma': [0.586, 0, 0.8, 0.44643], 'type': 'flat_top'}, 'pi_EgGf_Q': {'gain': [0, 0, 12147, 29794], 'sigma': [0, 0, 0.44193131519875684, 0.12663711487670318], 'phase': [0, 0, 18.0, 24.0], 'half_sigma': [0, 0, 0.212, 0.172], 'half_phase': [0, 0, 18.0, 21.0], 'type': 'flat_top'}, 'pi_f0g1': {'gain': [32000, 32000, 32000, 32000], 'sigma': [0.536, 0.585, 1.54, 1.04], 'idle': [3, 6, 12, 8], 'type': 'flat_top'}, 'pulse_pp': {'gain': [1750, 3550, 0, 0], 'filename': '240920_3_qram_4q_2qubit_++gg'}, 'pulse_1p': {'gain': [3500, 4375, 0, 0], 'filename': '240920_qram_4q_2qubit_e+gg'}, 'pulse_p1': {'gain': [3000, 5530, 0, 0], 'filename': '240920_qram_4q_2qubit_+egg'}, 'pihalf_ge_robust': {'gain': [7559, 7660, 7559, 7559, 4843, 4462, 4462, 4144, 20111, 20111, 20111, 20111, 2375, 2375, 2375, 2375], 'filename': ['X_2_Q0', 'X_2_Q1', 'X_2_Q2', 'X_2_Q3']}, 'pi_ge_slow': {'gain': [-1, 100, -1, -1], 'sigma': [-1, 0.25, -1, -1], 'type': 'gauss'}, 'pi_Q1_ZZ_slow': {'gain': [100, 0, -1, -1], 'sigma': [0.25, 0, -1, -1], 'type': 'gauss'}}}}, 'hw': {'soc': {'dacs': {'qubit': {'ch': [0, 1, 2, 3], 'type': 'full', 'nyquist': [2, 1, 2, 2], 'mixer_freq': [0, 0, 0, 0]}, 'swap': {'ch': 1, 'type': 'full', 'nyquist': 1, 'mixer_freq': 0}, 'swap_f0g1': {'ch': [1, 1, 5, 5], 'type': ['full', 'full', 'full', 'full'], 'nyquist': 1, 'mixer_freq': 0}, 'swap_Q': {'ch': [0, -1, 2, 3], 'type': ['full', 'None', 'full', 'full'], 'nyquist': [2, 0, 2, 2], 'mixer_freq': 0}, 'readout': {'ch': [6, 4, 6, 6], 'full_mux_chs': [5, 4, 5, 5], 'type': ['mux4', 'full', 'mux4', 'mux4'], 'mixer_freq': [7250, 5795.8115578931565, 7250, 7250], 'nyquist': [2, 2, 2, 2]}, 'res_pump': {'ch': 4, 'type': 'full', 'mixer_freq': 0, 'nyquist': 2}, 'delay_chs': {'ch': [0, 1, 2, 3, 4, 5, 6], 'delay_ns': [4.0, 0.0, 5.0, 3.0, 25, 60, 71]}}, 'adcs': {'readout': {'ch': [0, 1, 2, 3]}}}, 'lo': {'twpa': {'frequency': '8210.0e6', 'power': -1.5}, 'readout': {'frequency': 0, 'power': 0}}}, 'aliases': {'readout_LO': 'SC_20A1', 'twpa_LO': 'SC_26C1', 'soc': 'Qick_QRAM'}, 'expt': {'start_N': 0, 'step_N': 1, 'expts_N': 10, 'start_f': 5125.836715497399, 'step_f': 0.03333333333333333, 'expts_f': 31, 'reps': 1000, 'loops': 1, 'pulse_type': 'flat_top', 'post_process': 'scale', 'singleshot_reps': 15000, 'measure_f': False, 'init_state': '|1>|1>', 'qDrive': 3, 'qubits': [3, 1], 'measure_qubits': [3, 1], 'readout_cool': False, 'n_init_readout': 1, 'n_trig': 1, 'init_read_wait_us': 2, 'full_mux_expt': True, 'resonator_reset': [0, 2, 3]}}\n"
     ]
    },
    {
     "data": {
      "application/vnd.jupyter.widget-view+json": {
       "model_id": "b470e60a8cab4bbd9b3d626739ff4649",
       "version_major": 2,
       "version_minor": 0
      },
      "text/plain": [
       "  0%|          | 0/4 [00:00<?, ?it/s]"
      ]
     },
     "metadata": {},
     "output_type": "display_data"
    },
    {
     "name": "stdout",
     "output_type": "stream",
     "text": [
      "Qubit  (3)\n",
      "ge fidelity (%): 74.63916927795186 \t angle (deg): 0.0 \t threshold ge: 159.07159588930222\n",
      "Qubit  (1)\n",
      "ge fidelity (%): 1.153333333333334 \t angle (deg): 0.0 \t threshold ge: 66.38882223699596\n"
     ]
    },
    {
     "data": {
      "application/vnd.jupyter.widget-view+json": {
       "model_id": "31f3d68a181247f19f9d0b3422c852d1",
       "version_major": 2,
       "version_minor": 0
      },
      "text/plain": [
       "  0%|          | 0/10 [00:00<?, ?it/s]"
      ]
     },
     "metadata": {},
     "output_type": "display_data"
    },
    {
     "name": "stdout",
     "output_type": "stream",
     "text": [
      "Attempted to init fitparam 3 to 0.0, which is out of bounds 0 to 0.12076253304220368. Instead init to 0.06038126652110184\n",
      "Fit best freq (qA) 5126.33057464852 which is -0.006140848879113037 away from old freq 5126.336715497399\n",
      "Best freq from pi/-pi on Q3 5126.33057464852\n",
      "Attempted to init fitparam 3 to 0.0, which is out of bounds 0 to 0.025800377303878633. Instead init to 0.012900188651939317\n",
      "Fit best freq (qA) 5126.594404292688 which is 0.25768879528823163 away from old freq 5126.336715497399\n",
      "Best freq from pi/-pi on Q1 5126.594404292688\n",
      "best 0 0.17180990661137238\n",
      "Saving S:\\QRAM\\qram_4QR2\\data\\data_241025\\00111_PiMinusPiEgGfExptQ31.h5\n",
      "Saved S:\\QRAM\\qram_4QR2\\data\\data_241025\\00111_PiMinusPiEgGfExptQ31.h5\n",
      "for gain 29794.11764705882 added swap pi freq from pi minus pi 5126.33057464852\n",
      "using opt freq 5126.33057464852\n",
      "-------- swap error amplification --------\n",
      "{'device': {'readout': {'trig_offset': 150, 'lo_sideband': [1, 1, 1, 1], 'frequency': [-439.97500000000036, 0.0, 452.3682333333336, -278.89999999999964], 'gain': [0.17, 0.035, 0.25, 0.17], 'kappa_ext': [0.157, 0.065, 0.182, 0.104], 'kerr': [-0.0045, 0, 0.008, -0.003], 't_rise_reset': [0.5, 1, 0.5, 0.5], 'readout_length': [4, 4, 4, 4], 'frequency_ef': [-440.97500000000036, 0.0, 453.3682333333336, -280.35364238410557], 'readout_length_ef': [10.0, 7.0, 4.0, 8.0], 'relax_delay': [450, 450, 450, 450]}, 'qubit': {'f_ge': [4111.097866562327, 4105.838904759637, 4110.958153299016, 4110.546407850519, 3442.8755721075536, 3448.5530242338505, 3447.060317317807, 3446.4929792801067, 4762.761504132457, 4761.823567235975, 4762.909473544484, 4762.369813422167, 4380.698604555338, 4379.604868123916, 4380.717837106693, 4381.248121020163], 'f_ge_robust': [4114.313815659153, 4108.147701523904, 4114.310372455052, 4114.310372455052, 3443.0032303441935, 3448.345849629168, 0, 0, 4763.941, 4763.941, 4763.941, 4763.941, 4384.25034225973, 4384.25034225973, 4384.25034225973, 4384.25034225973], 'f_ef': [3884.6269161242526, 0.0, 0.0, 0.0, 0.0, 3348.085433174199, 0.0, 0.0, 4571.9056482340775, 4570.996526541673, 4573.280687567687, 0.0, 4211.617732525247, 4205.61697813965, 0.0, 4209.925086260656], 'f_EgGf': [2686.53594683, 0, 2017.3, 2414.92850999], 'f_EgGf_Q': [0, 0, 5885.585546008087, 5126.33057464852], 'f_f0g1': [1184.4, 999.8, 1632.9833333333333, 1620.9166666666665], 'gs': [52.40296404695958, 54.81794456602636, 43.49513117058557, 4.930653352423196, 2.6415018214608046, 6.386231497692186], 'pulses': {'pi_ge': {'sigma': [0.02, 0.02, 0.02, 0.02, 0.025, 0.025, 0.025, 0.025, 0.015, 0.015, 0.015, 0.015, 0.025, 0.025, 0.025, 0.025], 'gain': [1849, 1914, 0, 1855, 2834, 2504, 2648, 2631, 9155, 9155, 9155, 9155, 599, 599, 599, 599], 'half_gain': [1856, 1835, 1873, 1867, 2382, 2186, 2248, 2289, 9253, 9253, 9253, 9253, 524, 524, 524, 524], 'half_correction_phase': [0, 0, 0, 0, 0, 0, 0, 0, 0, 0, 0, 0, 0, 0, 0, 0, 0], 'half_gain_pi_sigma': [927, 0, 0, 0, 0, 1315, 0, 0, 0, 0, 7212, 0, 0, 0, 0, 460], 'type': 'gauss'}, 'pi_ef': {'sigma': [0.02, 0.02, 0.02, 0.02, 0.025, 0.025, 0.025, 0.025, 0.015, 0.015, 0.015, 0.015, 0.03, 0.03, 0.03, 0.03], 'gain': [1280, 0, 0, 0, 0, 1912, 0, 0, 10000, 10079, 10015, 0, 300, 300, 0, 300], 'half_gain': [1261, 0, 0, 0, 0, 1941, 0, 0, 0, 10147, 9845, 9979, 340, 340, 0, 320], 'half_gain_pi_sigma': [673, 0, 0, 0, 0, 975, 0, 0, 0, 0, 5049, 0, 340, 0, 0, 337], 'type': 'gauss'}, 'pi_EgGf': {'gain': [32000, 0, 30000, 16000], 'sigma': [0.586, 0, 0.8, 0.44643], 'type': 'flat_top'}, 'pi_EgGf_Q': {'gain': [0, 0, 12147, 29794], 'sigma': [0, 0, 0.44193131519875684, 0.12663711487670318], 'phase': [0, 0, 18.0, 24.0], 'half_sigma': [0, 0, 0.212, 0.172], 'half_phase': [0, 0, 18.0, 21.0], 'type': 'flat_top'}, 'pi_f0g1': {'gain': [32000, 32000, 32000, 32000], 'sigma': [0.536, 0.585, 1.54, 1.04], 'idle': [3, 6, 12, 8], 'type': 'flat_top'}, 'pulse_pp': {'gain': [1750, 3550, 0, 0], 'filename': '240920_3_qram_4q_2qubit_++gg'}, 'pulse_1p': {'gain': [3500, 4375, 0, 0], 'filename': '240920_qram_4q_2qubit_e+gg'}, 'pulse_p1': {'gain': [3000, 5530, 0, 0], 'filename': '240920_qram_4q_2qubit_+egg'}, 'pihalf_ge_robust': {'gain': [7559, 7660, 7559, 7559, 4843, 4462, 4462, 4144, 20111, 20111, 20111, 20111, 2375, 2375, 2375, 2375], 'filename': ['X_2_Q0', 'X_2_Q1', 'X_2_Q2', 'X_2_Q3']}, 'pi_ge_slow': {'gain': [-1, 100, -1, -1], 'sigma': [-1, 0.25, -1, -1], 'type': 'gauss'}, 'pi_Q1_ZZ_slow': {'gain': [100, 0, -1, -1], 'sigma': [0.25, 0, -1, -1], 'type': 'gauss'}}}}, 'hw': {'soc': {'dacs': {'qubit': {'ch': [0, 1, 2, 3], 'type': 'full', 'nyquist': [2, 1, 2, 2], 'mixer_freq': [0, 0, 0, 0]}, 'swap': {'ch': 1, 'type': 'full', 'nyquist': 1, 'mixer_freq': 0}, 'swap_f0g1': {'ch': [1, 1, 5, 5], 'type': ['full', 'full', 'full', 'full'], 'nyquist': 1, 'mixer_freq': 0}, 'swap_Q': {'ch': [0, -1, 2, 3], 'type': ['full', 'None', 'full', 'full'], 'nyquist': [2, 0, 2, 2], 'mixer_freq': 0}, 'readout': {'ch': [6, 4, 6, 6], 'full_mux_chs': [5, 4, 5, 5], 'type': ['mux4', 'full', 'mux4', 'mux4'], 'mixer_freq': [7250, 5795.8115578931565, 7250, 7250], 'nyquist': [2, 2, 2, 2]}, 'res_pump': {'ch': 4, 'type': 'full', 'mixer_freq': 0, 'nyquist': 2}, 'delay_chs': {'ch': [0, 1, 2, 3, 4, 5, 6], 'delay_ns': [4.0, 0.0, 5.0, 3.0, 25, 60, 71]}}, 'adcs': {'readout': {'ch': [0, 1, 2, 3]}}}, 'lo': {'twpa': {'frequency': '8210.0e6', 'power': -1.5}, 'readout': {'frequency': 0, 'power': 0}}}, 'aliases': {'readout_LO': 'SC_20A1', 'twpa_LO': 'SC_26C1', 'soc': 'Qick_QRAM'}, 'expt': {'start': 0, 'step': 1, 'expts': 10, 'reps': 2000, 'loops': 10, 'pulse_type': 'flat_top', 'post_process': 'scale', 'singleshot_reps': 15000, 'measure_f': False, 'init_state': '|1>|1>', 'qDrive': 3, 'qubits': [3, 1], 'measure_qubits': [3, 1], 'full_mux_expt': True, 'resonator_reset': [0, 2, 3]}}\n"
     ]
    },
    {
     "data": {
      "application/vnd.jupyter.widget-view+json": {
       "model_id": "37324beef014405f94ad8c5175658c45",
       "version_major": 2,
       "version_minor": 0
      },
      "text/plain": [
       "  0%|          | 0/4 [00:00<?, ?it/s]"
      ]
     },
     "metadata": {},
     "output_type": "display_data"
    },
    {
     "name": "stdout",
     "output_type": "stream",
     "text": [
      "Qubit  (3)\n",
      "ge fidelity (%): 75.75333333333336 \t angle (deg): 0.0 \t threshold ge: 167.35865235728022\n",
      "Qubit  (1)\n",
      "ge fidelity (%): 51.43882969975777 \t angle (deg): 0.0 \t threshold ge: 309.88196390257644\n"
     ]
    },
    {
     "data": {
      "application/vnd.jupyter.widget-view+json": {
       "model_id": "cb4e0f30795046a7a33f08869f7c3f52",
       "version_major": 2,
       "version_minor": 0
      },
      "text/plain": [
       "  0%|          | 0/10 [00:00<?, ?it/s]"
      ]
     },
     "metadata": {},
     "output_type": "display_data"
    },
    {
     "name": "stdout",
     "output_type": "stream",
     "text": [
      "Saving S:\\QRAM\\qram_4QR2\\data\\data_241025\\00105_NPulseExptEgGfQ31.h5\n",
      "Saved S:\\QRAM\\qram_4QR2\\data\\data_241025\\00105_NPulseExptEgGfQ31.h5\n",
      "[0.44450146 5.83102648 4.11547696]\n",
      "Attempted to init fitparam 0 to 0.0, which is out of bounds 0.0 to 0.0. Instead init to 0.0\n",
      "Warning: fit failed with error: Each lower bound must be strictly less than each upper bound.\n",
      "[0.0, 0.0, 10]\n",
      "Warning: fit failed with error: Optimal parameters not found: The maximum number of function evaluations is exceeded.\n",
      "[170.5414168427423, 0.0, 10]\n",
      "[ 0.72696154 -5.39440458  3.5640628 ]\n",
      "Attempted to init fitparam 0 to 0.0, which is out of bounds 0.0 to 0.0. Instead init to 0.0\n",
      "Warning: fit failed with error: Each lower bound must be strictly less than each upper bound.\n",
      "[0.0, 0.0, 10]\n",
      "Warning: fit failed with error: Optimal parameters not found: The maximum number of function evaluations is exceeded.\n",
      "[320.3008638515222, 0.0, 10]\n",
      "From QA: adjust length to 0.13087681587132521\n",
      "\tadjust ratio 0.9676054084415501\n",
      "\n",
      "From QB: adjust length to 0.1305495429450449\n",
      "\tadjust ratio 0.9700310856699923\n",
      "best 0 inf\n",
      "pi len precise 0.12663711487670318 adjustment ratio 1.0 from Q1\n",
      "for gain 29794.11764705882 added swap pi len from error amplification 0.12663711487670318\n",
      "----------- STARTING GAIN 30529.41176470588 -----------\n",
      "-------- swap length rabi --------\n",
      "gain 30529 freq 5125.174521708669\n"
     ]
    },
    {
     "data": {
      "application/vnd.jupyter.widget-view+json": {
       "model_id": "6925a38e14ce4dc89e586f9c3a04f58b",
       "version_major": 2,
       "version_minor": 0
      },
      "text/plain": [
       "  0%|          | 0/101 [00:00<?, ?it/s]"
      ]
     },
     "metadata": {},
     "output_type": "display_data"
    },
    {
     "name": "stdout",
     "output_type": "stream",
     "text": [
      "Saving S:\\QRAM\\qram_4QR2\\data\\data_241025\\00107_length_rabi_EgGf_qubit31.h5\n",
      "Saved S:\\QRAM\\qram_4QR2\\data\\data_241025\\00107_length_rabi_EgGf_qubit31.h5\n",
      "Attempted to init fitparam 0 to 0.0, which is out of bounds 0.0 to 0.0. Instead init to 0.0\n",
      "Attempted to init fitparam 4 to 0.0, which is out of bounds 0.0 to 0.0. Instead init to 0.0\n",
      "Warning: fit failed with error: Each lower bound must be strictly less than each upper bound.\n",
      "Attempted to init fitparam 0 to 0.0, which is out of bounds 0.0 to 0.0. Instead init to 0.0\n",
      "Attempted to init fitparam 4 to 0.0, which is out of bounds 0.0 to 0.0. Instead init to 0.0\n",
      "Warning: fit failed with error: Each lower bound must be strictly less than each upper bound.\n",
      "best 0 0.06486770938200635\n",
      "Pi length from amps data (qubit A) [us]: 0.12529014926169998\n",
      "\tPi/2 length from avgq data (qubit A) [us]: 0.06264507463084999\n",
      "\tDecay time [us]: 3.920077905885678\n",
      "Pi length from avgq data (qubit A) [us]: 0.17472335468840997\n",
      "\tPi/2 length from avgq data (qubit A) [us]: 0.08736167734420498\n",
      "\tDecay time [us]: 0.4659289458357599\n",
      "Pi length from amps data (qubit B) [us]: 0.12701017542060986\n",
      "\tPi/2 length from avgq data (qubit B) [us]: 0.06350508771030493\n",
      "\tDecay time [us]: 2.5983589257127213\n",
      "Pi length from avgq data (qubit B) [us]: 0.17472335468840997\n",
      "\tPi/2 length from avgq data (qubit B) [us]: 0.08736167734420498\n",
      "\tDecay time [us]: 0.4659289458357599\n",
      "max QA amp: 263.871290458948\n",
      "min QA amp: 93.38659051500795\n",
      "max QB amp: 361.1248421269797\n",
      "min QB amp: 281.14444161001416\n",
      "for gain 30529.41176470588 added swap pi len from length rabi 0.12529014926169998\n",
      "-------- swap pi minus pi --------\n",
      "{'device': {'readout': {'trig_offset': 150, 'lo_sideband': [1, 1, 1, 1], 'frequency': [-439.97500000000036, 0.0, 452.3682333333336, -278.89999999999964], 'gain': [0.17, 0.0001, 0.25, 0.17], 'kappa_ext': [0.157, 0.065, 0.182, 0.104], 'kerr': [-0.0045, 0, 0.008, -0.003], 't_rise_reset': [0.5, 1, 0.5, 0.5], 'readout_length': [4, 4, 4, 4], 'frequency_ef': [-440.97500000000036, 0.0, 453.3682333333336, -280.35364238410557], 'readout_length_ef': [10.0, 7.0, 4.0, 8.0], 'relax_delay': [450, 450, 450, 450]}, 'qubit': {'f_ge': [4111.097866562327, 4105.838904759637, 4110.958153299016, 4110.546407850519, 3442.8755721075536, 3448.5530242338505, 3447.060317317807, 3446.4929792801067, 4762.761504132457, 4761.823567235975, 4762.909473544484, 4762.369813422167, 4380.698604555338, 4379.604868123916, 4380.717837106693, 4381.248121020163], 'f_ge_robust': [4114.313815659153, 4108.147701523904, 4114.310372455052, 4114.310372455052, 3443.0032303441935, 3448.345849629168, 0, 0, 4763.941, 4763.941, 4763.941, 4763.941, 4384.25034225973, 4384.25034225973, 4384.25034225973, 4384.25034225973], 'f_ef': [3884.6269161242526, 0.0, 0.0, 0.0, 0.0, 3348.085433174199, 0.0, 0.0, 4571.9056482340775, 4570.996526541673, 4573.280687567687, 0.0, 4211.617732525247, 4205.61697813965, 0.0, 4209.925086260656], 'f_EgGf': [2686.53594683, 0, 2017.3, 2414.92850999], 'f_EgGf_Q': [0, 0, 5885.585546008087, 5125.174521708669], 'f_f0g1': [1184.4, 999.8, 1632.9833333333333, 1620.9166666666665], 'gs': [52.40296404695958, 54.81794456602636, 43.49513117058557, 4.930653352423196, 2.6415018214608046, 6.386231497692186], 'pulses': {'pi_ge': {'sigma': [0.02, 0.02, 0.02, 0.02, 0.025, 0.025, 0.025, 0.025, 0.015, 0.015, 0.015, 0.015, 0.025, 0.025, 0.025, 0.025], 'gain': [1849, 1914, 0, 1855, 2834, 2504, 2648, 2631, 9155, 9155, 9155, 9155, 599, 599, 599, 599], 'half_gain': [1856, 1835, 1873, 1867, 2382, 2186, 2248, 2289, 9253, 9253, 9253, 9253, 524, 524, 524, 524], 'half_correction_phase': [0, 0, 0, 0, 0, 0, 0, 0, 0, 0, 0, 0, 0, 0, 0, 0, 0], 'half_gain_pi_sigma': [927, 0, 0, 0, 0, 1315, 0, 0, 0, 0, 7212, 0, 0, 0, 0, 460], 'type': 'gauss'}, 'pi_ef': {'sigma': [0.02, 0.02, 0.02, 0.02, 0.025, 0.025, 0.025, 0.025, 0.015, 0.015, 0.015, 0.015, 0.03, 0.03, 0.03, 0.03], 'gain': [1280, 0, 0, 0, 0, 1912, 0, 0, 10000, 10079, 10015, 0, 300, 300, 0, 300], 'half_gain': [1261, 0, 0, 0, 0, 1941, 0, 0, 0, 10147, 9845, 9979, 340, 340, 0, 320], 'half_gain_pi_sigma': [673, 0, 0, 0, 0, 975, 0, 0, 0, 0, 5049, 0, 340, 0, 0, 337], 'type': 'gauss'}, 'pi_EgGf': {'gain': [32000, 0, 30000, 16000], 'sigma': [0.586, 0, 0.8, 0.44643], 'type': 'flat_top'}, 'pi_EgGf_Q': {'gain': [0, 0, 12147, 30529], 'sigma': [0, 0, 0.44193131519875684, 0.12529014926169998], 'phase': [0, 0, 18.0, 24.0], 'half_sigma': [0, 0, 0.212, 0.172], 'half_phase': [0, 0, 18.0, 21.0], 'type': 'flat_top'}, 'pi_f0g1': {'gain': [32000, 32000, 32000, 32000], 'sigma': [0.536, 0.585, 1.54, 1.04], 'idle': [3, 6, 12, 8], 'type': 'flat_top'}, 'pulse_pp': {'gain': [1750, 3550, 0, 0], 'filename': '240920_3_qram_4q_2qubit_++gg'}, 'pulse_1p': {'gain': [3500, 4375, 0, 0], 'filename': '240920_qram_4q_2qubit_e+gg'}, 'pulse_p1': {'gain': [3000, 5530, 0, 0], 'filename': '240920_qram_4q_2qubit_+egg'}, 'pihalf_ge_robust': {'gain': [7559, 7660, 7559, 7559, 4843, 4462, 4462, 4144, 20111, 20111, 20111, 20111, 2375, 2375, 2375, 2375], 'filename': ['X_2_Q0', 'X_2_Q1', 'X_2_Q2', 'X_2_Q3']}, 'pi_ge_slow': {'gain': [-1, 100, -1, -1], 'sigma': [-1, 0.25, -1, -1], 'type': 'gauss'}, 'pi_Q1_ZZ_slow': {'gain': [100, 0, -1, -1], 'sigma': [0.25, 0, -1, -1], 'type': 'gauss'}}}}, 'hw': {'soc': {'dacs': {'qubit': {'ch': [0, 1, 2, 3], 'type': 'full', 'nyquist': [2, 1, 2, 2], 'mixer_freq': [0, 0, 0, 0]}, 'swap': {'ch': 1, 'type': 'full', 'nyquist': 1, 'mixer_freq': 0}, 'swap_f0g1': {'ch': [1, 1, 5, 5], 'type': ['full', 'full', 'full', 'full'], 'nyquist': 1, 'mixer_freq': 0}, 'swap_Q': {'ch': [0, -1, 2, 3], 'type': ['full', 'None', 'full', 'full'], 'nyquist': [2, 0, 2, 2], 'mixer_freq': 0}, 'readout': {'ch': [6, 4, 6, 6], 'full_mux_chs': [5, 4, 5, 5], 'type': ['mux4', 'full', 'mux4', 'mux4'], 'mixer_freq': [7250, 5795.8115578931565, 7250, 7250], 'nyquist': [2, 2, 2, 2]}, 'res_pump': {'ch': 4, 'type': 'full', 'mixer_freq': 0, 'nyquist': 2}, 'delay_chs': {'ch': [0, 1, 2, 3, 4, 5, 6], 'delay_ns': [4.0, 0.0, 5.0, 3.0, 25, 60, 71]}}, 'adcs': {'readout': {'ch': [0, 1, 2, 3]}}}, 'lo': {'twpa': {'frequency': '8210.0e6', 'power': -1.5}, 'readout': {'frequency': 0, 'power': 0}}}, 'aliases': {'readout_LO': 'SC_20A1', 'twpa_LO': 'SC_26C1', 'soc': 'Qick_QRAM'}, 'expt': {'start_N': 0, 'step_N': 1, 'expts_N': 10, 'start_f': 5124.674521708669, 'step_f': 0.03333333333333333, 'expts_f': 31, 'reps': 1000, 'loops': 1, 'pulse_type': 'flat_top', 'post_process': 'scale', 'singleshot_reps': 15000, 'measure_f': False, 'init_state': '|1>|1>', 'qDrive': 3, 'qubits': [3, 1], 'measure_qubits': [3, 1], 'readout_cool': False, 'n_init_readout': 1, 'n_trig': 1, 'init_read_wait_us': 2, 'full_mux_expt': True, 'resonator_reset': [0, 2, 3]}}\n"
     ]
    },
    {
     "data": {
      "application/vnd.jupyter.widget-view+json": {
       "model_id": "849f43db21414613ae0affde187a8283",
       "version_major": 2,
       "version_minor": 0
      },
      "text/plain": [
       "  0%|          | 0/4 [00:00<?, ?it/s]"
      ]
     },
     "metadata": {},
     "output_type": "display_data"
    },
    {
     "name": "stdout",
     "output_type": "stream",
     "text": [
      "Qubit  (3)\n",
      "ge fidelity (%): 76.02 \t angle (deg): 0.0 \t threshold ge: 160.21327268363765\n",
      "Qubit  (1)\n",
      "ge fidelity (%): 0.9588861479653987 \t angle (deg): 0.0 \t threshold ge: 110.0239196697586\n"
     ]
    },
    {
     "data": {
      "application/vnd.jupyter.widget-view+json": {
       "model_id": "4a63537fe3d74197aec574bba54ad4b4",
       "version_major": 2,
       "version_minor": 0
      },
      "text/plain": [
       "  0%|          | 0/10 [00:00<?, ?it/s]"
      ]
     },
     "metadata": {},
     "output_type": "display_data"
    },
    {
     "name": "stdout",
     "output_type": "stream",
     "text": [
      "Attempted to init fitparam 3 to 0.0, which is out of bounds 0 to 0.2007263024962485. Instead init to 0.10036315124812425\n",
      "Fit best freq (qA) 5125.492106685199 which is 0.31758497653027007 away from old freq 5125.174521708669\n",
      "Best freq from pi/-pi on Q3 5125.492106685199\n",
      "Attempted to init fitparam 3 to 0.0, which is out of bounds 0 to 0.10228798011154691. Instead init to 0.051143990055773456\n",
      "Fit best freq (qA) 5124.876083467402 which is -0.298438241266922 away from old freq 5125.174521708669\n",
      "Best freq from pi/-pi on Q1 5124.876083467402\n",
      "best 1 0.43468974266053423\n",
      "Saving S:\\QRAM\\qram_4QR2\\data\\data_241025\\00112_PiMinusPiEgGfExptQ31.h5\n",
      "Saved S:\\QRAM\\qram_4QR2\\data\\data_241025\\00112_PiMinusPiEgGfExptQ31.h5\n",
      "for gain 30529.41176470588 added swap pi freq from pi minus pi 5124.876083467402\n",
      "using opt freq 5124.876083467402\n",
      "-------- swap error amplification --------\n",
      "{'device': {'readout': {'trig_offset': 150, 'lo_sideband': [1, 1, 1, 1], 'frequency': [-439.97500000000036, 0.0, 452.3682333333336, -278.89999999999964], 'gain': [0.17, 0.035, 0.25, 0.17], 'kappa_ext': [0.157, 0.065, 0.182, 0.104], 'kerr': [-0.0045, 0, 0.008, -0.003], 't_rise_reset': [0.5, 1, 0.5, 0.5], 'readout_length': [4, 4, 4, 4], 'frequency_ef': [-440.97500000000036, 0.0, 453.3682333333336, -280.35364238410557], 'readout_length_ef': [10.0, 7.0, 4.0, 8.0], 'relax_delay': [450, 450, 450, 450]}, 'qubit': {'f_ge': [4111.097866562327, 4105.838904759637, 4110.958153299016, 4110.546407850519, 3442.8755721075536, 3448.5530242338505, 3447.060317317807, 3446.4929792801067, 4762.761504132457, 4761.823567235975, 4762.909473544484, 4762.369813422167, 4380.698604555338, 4379.604868123916, 4380.717837106693, 4381.248121020163], 'f_ge_robust': [4114.313815659153, 4108.147701523904, 4114.310372455052, 4114.310372455052, 3443.0032303441935, 3448.345849629168, 0, 0, 4763.941, 4763.941, 4763.941, 4763.941, 4384.25034225973, 4384.25034225973, 4384.25034225973, 4384.25034225973], 'f_ef': [3884.6269161242526, 0.0, 0.0, 0.0, 0.0, 3348.085433174199, 0.0, 0.0, 4571.9056482340775, 4570.996526541673, 4573.280687567687, 0.0, 4211.617732525247, 4205.61697813965, 0.0, 4209.925086260656], 'f_EgGf': [2686.53594683, 0, 2017.3, 2414.92850999], 'f_EgGf_Q': [0, 0, 5885.585546008087, 5124.876083467402], 'f_f0g1': [1184.4, 999.8, 1632.9833333333333, 1620.9166666666665], 'gs': [52.40296404695958, 54.81794456602636, 43.49513117058557, 4.930653352423196, 2.6415018214608046, 6.386231497692186], 'pulses': {'pi_ge': {'sigma': [0.02, 0.02, 0.02, 0.02, 0.025, 0.025, 0.025, 0.025, 0.015, 0.015, 0.015, 0.015, 0.025, 0.025, 0.025, 0.025], 'gain': [1849, 1914, 0, 1855, 2834, 2504, 2648, 2631, 9155, 9155, 9155, 9155, 599, 599, 599, 599], 'half_gain': [1856, 1835, 1873, 1867, 2382, 2186, 2248, 2289, 9253, 9253, 9253, 9253, 524, 524, 524, 524], 'half_correction_phase': [0, 0, 0, 0, 0, 0, 0, 0, 0, 0, 0, 0, 0, 0, 0, 0, 0], 'half_gain_pi_sigma': [927, 0, 0, 0, 0, 1315, 0, 0, 0, 0, 7212, 0, 0, 0, 0, 460], 'type': 'gauss'}, 'pi_ef': {'sigma': [0.02, 0.02, 0.02, 0.02, 0.025, 0.025, 0.025, 0.025, 0.015, 0.015, 0.015, 0.015, 0.03, 0.03, 0.03, 0.03], 'gain': [1280, 0, 0, 0, 0, 1912, 0, 0, 10000, 10079, 10015, 0, 300, 300, 0, 300], 'half_gain': [1261, 0, 0, 0, 0, 1941, 0, 0, 0, 10147, 9845, 9979, 340, 340, 0, 320], 'half_gain_pi_sigma': [673, 0, 0, 0, 0, 975, 0, 0, 0, 0, 5049, 0, 340, 0, 0, 337], 'type': 'gauss'}, 'pi_EgGf': {'gain': [32000, 0, 30000, 16000], 'sigma': [0.586, 0, 0.8, 0.44643], 'type': 'flat_top'}, 'pi_EgGf_Q': {'gain': [0, 0, 12147, 30529], 'sigma': [0, 0, 0.44193131519875684, 0.12529014926169998], 'phase': [0, 0, 18.0, 24.0], 'half_sigma': [0, 0, 0.212, 0.172], 'half_phase': [0, 0, 18.0, 21.0], 'type': 'flat_top'}, 'pi_f0g1': {'gain': [32000, 32000, 32000, 32000], 'sigma': [0.536, 0.585, 1.54, 1.04], 'idle': [3, 6, 12, 8], 'type': 'flat_top'}, 'pulse_pp': {'gain': [1750, 3550, 0, 0], 'filename': '240920_3_qram_4q_2qubit_++gg'}, 'pulse_1p': {'gain': [3500, 4375, 0, 0], 'filename': '240920_qram_4q_2qubit_e+gg'}, 'pulse_p1': {'gain': [3000, 5530, 0, 0], 'filename': '240920_qram_4q_2qubit_+egg'}, 'pihalf_ge_robust': {'gain': [7559, 7660, 7559, 7559, 4843, 4462, 4462, 4144, 20111, 20111, 20111, 20111, 2375, 2375, 2375, 2375], 'filename': ['X_2_Q0', 'X_2_Q1', 'X_2_Q2', 'X_2_Q3']}, 'pi_ge_slow': {'gain': [-1, 100, -1, -1], 'sigma': [-1, 0.25, -1, -1], 'type': 'gauss'}, 'pi_Q1_ZZ_slow': {'gain': [100, 0, -1, -1], 'sigma': [0.25, 0, -1, -1], 'type': 'gauss'}}}}, 'hw': {'soc': {'dacs': {'qubit': {'ch': [0, 1, 2, 3], 'type': 'full', 'nyquist': [2, 1, 2, 2], 'mixer_freq': [0, 0, 0, 0]}, 'swap': {'ch': 1, 'type': 'full', 'nyquist': 1, 'mixer_freq': 0}, 'swap_f0g1': {'ch': [1, 1, 5, 5], 'type': ['full', 'full', 'full', 'full'], 'nyquist': 1, 'mixer_freq': 0}, 'swap_Q': {'ch': [0, -1, 2, 3], 'type': ['full', 'None', 'full', 'full'], 'nyquist': [2, 0, 2, 2], 'mixer_freq': 0}, 'readout': {'ch': [6, 4, 6, 6], 'full_mux_chs': [5, 4, 5, 5], 'type': ['mux4', 'full', 'mux4', 'mux4'], 'mixer_freq': [7250, 5795.8115578931565, 7250, 7250], 'nyquist': [2, 2, 2, 2]}, 'res_pump': {'ch': 4, 'type': 'full', 'mixer_freq': 0, 'nyquist': 2}, 'delay_chs': {'ch': [0, 1, 2, 3, 4, 5, 6], 'delay_ns': [4.0, 0.0, 5.0, 3.0, 25, 60, 71]}}, 'adcs': {'readout': {'ch': [0, 1, 2, 3]}}}, 'lo': {'twpa': {'frequency': '8210.0e6', 'power': -1.5}, 'readout': {'frequency': 0, 'power': 0}}}, 'aliases': {'readout_LO': 'SC_20A1', 'twpa_LO': 'SC_26C1', 'soc': 'Qick_QRAM'}, 'expt': {'start': 0, 'step': 1, 'expts': 10, 'reps': 2000, 'loops': 10, 'pulse_type': 'flat_top', 'post_process': 'scale', 'singleshot_reps': 15000, 'measure_f': False, 'init_state': '|1>|1>', 'qDrive': 3, 'qubits': [3, 1], 'measure_qubits': [3, 1], 'full_mux_expt': True, 'resonator_reset': [0, 2, 3]}}\n"
     ]
    },
    {
     "data": {
      "application/vnd.jupyter.widget-view+json": {
       "model_id": "892365f7b0a84a54a9d75355cb2376ad",
       "version_major": 2,
       "version_minor": 0
      },
      "text/plain": [
       "  0%|          | 0/4 [00:00<?, ?it/s]"
      ]
     },
     "metadata": {},
     "output_type": "display_data"
    },
    {
     "name": "stdout",
     "output_type": "stream",
     "text": [
      "Qubit  (3)\n",
      "ge fidelity (%): 73.65910794052937 \t angle (deg): 0.0 \t threshold ge: 153.75245331666355\n",
      "Qubit  (1)\n",
      "ge fidelity (%): 56.72666666666666 \t angle (deg): 0.0 \t threshold ge: 303.56469776071003\n"
     ]
    },
    {
     "data": {
      "application/vnd.jupyter.widget-view+json": {
       "model_id": "2d6e0ef142d34b548fcee345793d06e8",
       "version_major": 2,
       "version_minor": 0
      },
      "text/plain": [
       "  0%|          | 0/10 [00:00<?, ?it/s]"
      ]
     },
     "metadata": {},
     "output_type": "display_data"
    },
    {
     "name": "stdout",
     "output_type": "stream",
     "text": [
      "Saving S:\\QRAM\\qram_4QR2\\data\\data_241025\\00106_NPulseExptEgGfQ31.h5\n",
      "Saved S:\\QRAM\\qram_4QR2\\data\\data_241025\\00106_NPulseExptEgGfQ31.h5\n",
      "[ 0.47455213 10.60860788  3.09282084]\n",
      "Attempted to init fitparam 0 to 0.0, which is out of bounds 0.0 to 0.0. Instead init to 0.0\n",
      "Warning: fit failed with error: Each lower bound must be strictly less than each upper bound.\n",
      "[0.0, 0.0, 10]\n",
      "Warning: fit failed with error: Optimal parameters not found: The maximum number of function evaluations is exceeded.\n",
      "[170.36788578106385, 0.0, 10]\n",
      "[ 0.5970852  -8.25890409  2.5607722 ]\n",
      "Attempted to init fitparam 0 to 0.0, which is out of bounds 0.0 to 0.0. Instead init to 0.0\n",
      "Warning: fit failed with error: Each lower bound must be strictly less than each upper bound.\n",
      "[0.0, 0.0, 10]\n",
      "Warning: fit failed with error: Optimal parameters not found: The maximum number of function evaluations is exceeded.\n",
      "[315.5070255926491, 0.0, 10]\n",
      "From QA: adjust length to 0.1331367939326722\n",
      "\tadjust ratio 0.9410632895746288\n",
      "\n",
      "From QB: adjust length to 0.13131526119581816\n",
      "\tadjust ratio 0.954117199484274\n",
      "best 0 inf\n",
      "pi len precise 0.12529014926169998 adjustment ratio 1.0 from Q1\n",
      "for gain 30529.41176470588 added swap pi len from error amplification 0.12529014926169998\n",
      "----------- STARTING GAIN 31264.70588235294 -----------\n",
      "-------- swap length rabi --------\n",
      "gain 31264 freq 5123.983229125276\n"
     ]
    },
    {
     "data": {
      "application/vnd.jupyter.widget-view+json": {
       "model_id": "e0a8cea8ed314bf0ae6b493f9b8c8ca1",
       "version_major": 2,
       "version_minor": 0
      },
      "text/plain": [
       "  0%|          | 0/101 [00:00<?, ?it/s]"
      ]
     },
     "metadata": {},
     "output_type": "display_data"
    },
    {
     "name": "stdout",
     "output_type": "stream",
     "text": [
      "Saving S:\\QRAM\\qram_4QR2\\data\\data_241025\\00108_length_rabi_EgGf_qubit31.h5\n",
      "Saved S:\\QRAM\\qram_4QR2\\data\\data_241025\\00108_length_rabi_EgGf_qubit31.h5\n",
      "Attempted to init fitparam 0 to 0.0, which is out of bounds 0.0 to 0.0. Instead init to 0.0\n",
      "Attempted to init fitparam 4 to 0.0, which is out of bounds 0.0 to 0.0. Instead init to 0.0\n",
      "Warning: fit failed with error: Each lower bound must be strictly less than each upper bound.\n",
      "Attempted to init fitparam 0 to 0.0, which is out of bounds 0.0 to 0.0. Instead init to 0.0\n",
      "Attempted to init fitparam 4 to 0.0, which is out of bounds 0.0 to 0.0. Instead init to 0.0\n",
      "Warning: fit failed with error: Each lower bound must be strictly less than each upper bound.\n",
      "best 0 0.051949958098604435\n",
      "Pi length from amps data (qubit A) [us]: 0.1227017779371818\n",
      "\tPi/2 length from avgq data (qubit A) [us]: 0.0613508889685909\n",
      "\tDecay time [us]: 2.785026184299159\n",
      "Pi length from avgq data (qubit A) [us]: 0.16161910308677915\n",
      "\tPi/2 length from avgq data (qubit A) [us]: 0.08080955154338958\n",
      "\tDecay time [us]: 0.4309842748980778\n",
      "Pi length from amps data (qubit B) [us]: 0.12096310862286734\n",
      "\tPi/2 length from avgq data (qubit B) [us]: 0.06048155431143367\n",
      "\tDecay time [us]: 0.6341988779996922\n",
      "Pi length from avgq data (qubit B) [us]: 0.16161910308677915\n",
      "\tPi/2 length from avgq data (qubit B) [us]: 0.08080955154338958\n",
      "\tDecay time [us]: 0.4309842748980778\n",
      "max QA amp: 264.6302355115515\n",
      "min QA amp: 94.23538621828739\n",
      "max QB amp: 360.19959039931973\n",
      "min QB amp: 270.89321898595745\n",
      "for gain 31264.70588235294 added swap pi len from length rabi 0.1227017779371818\n",
      "-------- swap pi minus pi --------\n",
      "{'device': {'readout': {'trig_offset': 150, 'lo_sideband': [1, 1, 1, 1], 'frequency': [-439.97500000000036, 0.0, 452.3682333333336, -278.89999999999964], 'gain': [0.17, 0.0001, 0.25, 0.17], 'kappa_ext': [0.157, 0.065, 0.182, 0.104], 'kerr': [-0.0045, 0, 0.008, -0.003], 't_rise_reset': [0.5, 1, 0.5, 0.5], 'readout_length': [4, 4, 4, 4], 'frequency_ef': [-440.97500000000036, 0.0, 453.3682333333336, -280.35364238410557], 'readout_length_ef': [10.0, 7.0, 4.0, 8.0], 'relax_delay': [450, 450, 450, 450]}, 'qubit': {'f_ge': [4111.097866562327, 4105.838904759637, 4110.958153299016, 4110.546407850519, 3442.8755721075536, 3448.5530242338505, 3447.060317317807, 3446.4929792801067, 4762.761504132457, 4761.823567235975, 4762.909473544484, 4762.369813422167, 4380.698604555338, 4379.604868123916, 4380.717837106693, 4381.248121020163], 'f_ge_robust': [4114.313815659153, 4108.147701523904, 4114.310372455052, 4114.310372455052, 3443.0032303441935, 3448.345849629168, 0, 0, 4763.941, 4763.941, 4763.941, 4763.941, 4384.25034225973, 4384.25034225973, 4384.25034225973, 4384.25034225973], 'f_ef': [3884.6269161242526, 0.0, 0.0, 0.0, 0.0, 3348.085433174199, 0.0, 0.0, 4571.9056482340775, 4570.996526541673, 4573.280687567687, 0.0, 4211.617732525247, 4205.61697813965, 0.0, 4209.925086260656], 'f_EgGf': [2686.53594683, 0, 2017.3, 2414.92850999], 'f_EgGf_Q': [0, 0, 5885.585546008087, 5123.983229125276], 'f_f0g1': [1184.4, 999.8, 1632.9833333333333, 1620.9166666666665], 'gs': [52.40296404695958, 54.81794456602636, 43.49513117058557, 4.930653352423196, 2.6415018214608046, 6.386231497692186], 'pulses': {'pi_ge': {'sigma': [0.02, 0.02, 0.02, 0.02, 0.025, 0.025, 0.025, 0.025, 0.015, 0.015, 0.015, 0.015, 0.025, 0.025, 0.025, 0.025], 'gain': [1849, 1914, 0, 1855, 2834, 2504, 2648, 2631, 9155, 9155, 9155, 9155, 599, 599, 599, 599], 'half_gain': [1856, 1835, 1873, 1867, 2382, 2186, 2248, 2289, 9253, 9253, 9253, 9253, 524, 524, 524, 524], 'half_correction_phase': [0, 0, 0, 0, 0, 0, 0, 0, 0, 0, 0, 0, 0, 0, 0, 0, 0], 'half_gain_pi_sigma': [927, 0, 0, 0, 0, 1315, 0, 0, 0, 0, 7212, 0, 0, 0, 0, 460], 'type': 'gauss'}, 'pi_ef': {'sigma': [0.02, 0.02, 0.02, 0.02, 0.025, 0.025, 0.025, 0.025, 0.015, 0.015, 0.015, 0.015, 0.03, 0.03, 0.03, 0.03], 'gain': [1280, 0, 0, 0, 0, 1912, 0, 0, 10000, 10079, 10015, 0, 300, 300, 0, 300], 'half_gain': [1261, 0, 0, 0, 0, 1941, 0, 0, 0, 10147, 9845, 9979, 340, 340, 0, 320], 'half_gain_pi_sigma': [673, 0, 0, 0, 0, 975, 0, 0, 0, 0, 5049, 0, 340, 0, 0, 337], 'type': 'gauss'}, 'pi_EgGf': {'gain': [32000, 0, 30000, 16000], 'sigma': [0.586, 0, 0.8, 0.44643], 'type': 'flat_top'}, 'pi_EgGf_Q': {'gain': [0, 0, 12147, 31264], 'sigma': [0, 0, 0.44193131519875684, 0.1227017779371818], 'phase': [0, 0, 18.0, 24.0], 'half_sigma': [0, 0, 0.212, 0.172], 'half_phase': [0, 0, 18.0, 21.0], 'type': 'flat_top'}, 'pi_f0g1': {'gain': [32000, 32000, 32000, 32000], 'sigma': [0.536, 0.585, 1.54, 1.04], 'idle': [3, 6, 12, 8], 'type': 'flat_top'}, 'pulse_pp': {'gain': [1750, 3550, 0, 0], 'filename': '240920_3_qram_4q_2qubit_++gg'}, 'pulse_1p': {'gain': [3500, 4375, 0, 0], 'filename': '240920_qram_4q_2qubit_e+gg'}, 'pulse_p1': {'gain': [3000, 5530, 0, 0], 'filename': '240920_qram_4q_2qubit_+egg'}, 'pihalf_ge_robust': {'gain': [7559, 7660, 7559, 7559, 4843, 4462, 4462, 4144, 20111, 20111, 20111, 20111, 2375, 2375, 2375, 2375], 'filename': ['X_2_Q0', 'X_2_Q1', 'X_2_Q2', 'X_2_Q3']}, 'pi_ge_slow': {'gain': [-1, 100, -1, -1], 'sigma': [-1, 0.25, -1, -1], 'type': 'gauss'}, 'pi_Q1_ZZ_slow': {'gain': [100, 0, -1, -1], 'sigma': [0.25, 0, -1, -1], 'type': 'gauss'}}}}, 'hw': {'soc': {'dacs': {'qubit': {'ch': [0, 1, 2, 3], 'type': 'full', 'nyquist': [2, 1, 2, 2], 'mixer_freq': [0, 0, 0, 0]}, 'swap': {'ch': 1, 'type': 'full', 'nyquist': 1, 'mixer_freq': 0}, 'swap_f0g1': {'ch': [1, 1, 5, 5], 'type': ['full', 'full', 'full', 'full'], 'nyquist': 1, 'mixer_freq': 0}, 'swap_Q': {'ch': [0, -1, 2, 3], 'type': ['full', 'None', 'full', 'full'], 'nyquist': [2, 0, 2, 2], 'mixer_freq': 0}, 'readout': {'ch': [6, 4, 6, 6], 'full_mux_chs': [5, 4, 5, 5], 'type': ['mux4', 'full', 'mux4', 'mux4'], 'mixer_freq': [7250, 5795.8115578931565, 7250, 7250], 'nyquist': [2, 2, 2, 2]}, 'res_pump': {'ch': 4, 'type': 'full', 'mixer_freq': 0, 'nyquist': 2}, 'delay_chs': {'ch': [0, 1, 2, 3, 4, 5, 6], 'delay_ns': [4.0, 0.0, 5.0, 3.0, 25, 60, 71]}}, 'adcs': {'readout': {'ch': [0, 1, 2, 3]}}}, 'lo': {'twpa': {'frequency': '8210.0e6', 'power': -1.5}, 'readout': {'frequency': 0, 'power': 0}}}, 'aliases': {'readout_LO': 'SC_20A1', 'twpa_LO': 'SC_26C1', 'soc': 'Qick_QRAM'}, 'expt': {'start_N': 0, 'step_N': 1, 'expts_N': 10, 'start_f': 5123.483229125276, 'step_f': 0.03333333333333333, 'expts_f': 31, 'reps': 1000, 'loops': 1, 'pulse_type': 'flat_top', 'post_process': 'scale', 'singleshot_reps': 15000, 'measure_f': False, 'init_state': '|1>|1>', 'qDrive': 3, 'qubits': [3, 1], 'measure_qubits': [3, 1], 'readout_cool': False, 'n_init_readout': 1, 'n_trig': 1, 'init_read_wait_us': 2, 'full_mux_expt': True, 'resonator_reset': [0, 2, 3]}}\n"
     ]
    },
    {
     "data": {
      "application/vnd.jupyter.widget-view+json": {
       "model_id": "d7ad28b438804408995d9e0458f66ba8",
       "version_major": 2,
       "version_minor": 0
      },
      "text/plain": [
       "  0%|          | 0/4 [00:00<?, ?it/s]"
      ]
     },
     "metadata": {},
     "output_type": "display_data"
    },
    {
     "name": "stdout",
     "output_type": "stream",
     "text": [
      "Qubit  (3)\n",
      "ge fidelity (%): 74.6792017245594 \t angle (deg): 0.0 \t threshold ge: 162.54639240713604\n",
      "Qubit  (1)\n",
      "ge fidelity (%): 1.2799999999999812 \t angle (deg): 0.0 \t threshold ge: 106.65967510257677\n"
     ]
    },
    {
     "data": {
      "application/vnd.jupyter.widget-view+json": {
       "model_id": "94068cc725e24df597345fce7e47b3d6",
       "version_major": 2,
       "version_minor": 0
      },
      "text/plain": [
       "  0%|          | 0/10 [00:00<?, ?it/s]"
      ]
     },
     "metadata": {},
     "output_type": "display_data"
    },
    {
     "name": "stdout",
     "output_type": "stream",
     "text": [
      "Attempted to init fitparam 3 to 0.0, which is out of bounds 0 to 0.5276289827988666. Instead init to 0.2638144913994333\n",
      "Fit best freq (qA) 5124.293955306696 which is 0.3107261814202502 away from old freq 5123.983229125276\n",
      "Best freq from pi/-pi on Q3 5124.293955306696\n",
      "Attempted to init fitparam 3 to 0.0, which is out of bounds 0 to 0.05259360624579937. Instead init to 0.026296803122899684\n",
      "Fit best freq (qA) 5123.65698890857 which is -0.326240216705628 away from old freq 5123.983229125276\n",
      "Best freq from pi/-pi on Q1 5123.65698890857\n",
      "best 1 1.503135405167789\n",
      "Saving S:\\QRAM\\qram_4QR2\\data\\data_241025\\00113_PiMinusPiEgGfExptQ31.h5\n",
      "Saved S:\\QRAM\\qram_4QR2\\data\\data_241025\\00113_PiMinusPiEgGfExptQ31.h5\n",
      "for gain 31264.70588235294 added swap pi freq from pi minus pi 5123.65698890857\n",
      "using opt freq 5123.65698890857\n",
      "-------- swap error amplification --------\n",
      "{'device': {'readout': {'trig_offset': 150, 'lo_sideband': [1, 1, 1, 1], 'frequency': [-439.97500000000036, 0.0, 452.3682333333336, -278.89999999999964], 'gain': [0.17, 0.035, 0.25, 0.17], 'kappa_ext': [0.157, 0.065, 0.182, 0.104], 'kerr': [-0.0045, 0, 0.008, -0.003], 't_rise_reset': [0.5, 1, 0.5, 0.5], 'readout_length': [4, 4, 4, 4], 'frequency_ef': [-440.97500000000036, 0.0, 453.3682333333336, -280.35364238410557], 'readout_length_ef': [10.0, 7.0, 4.0, 8.0], 'relax_delay': [450, 450, 450, 450]}, 'qubit': {'f_ge': [4111.097866562327, 4105.838904759637, 4110.958153299016, 4110.546407850519, 3442.8755721075536, 3448.5530242338505, 3447.060317317807, 3446.4929792801067, 4762.761504132457, 4761.823567235975, 4762.909473544484, 4762.369813422167, 4380.698604555338, 4379.604868123916, 4380.717837106693, 4381.248121020163], 'f_ge_robust': [4114.313815659153, 4108.147701523904, 4114.310372455052, 4114.310372455052, 3443.0032303441935, 3448.345849629168, 0, 0, 4763.941, 4763.941, 4763.941, 4763.941, 4384.25034225973, 4384.25034225973, 4384.25034225973, 4384.25034225973], 'f_ef': [3884.6269161242526, 0.0, 0.0, 0.0, 0.0, 3348.085433174199, 0.0, 0.0, 4571.9056482340775, 4570.996526541673, 4573.280687567687, 0.0, 4211.617732525247, 4205.61697813965, 0.0, 4209.925086260656], 'f_EgGf': [2686.53594683, 0, 2017.3, 2414.92850999], 'f_EgGf_Q': [0, 0, 5885.585546008087, 5123.65698890857], 'f_f0g1': [1184.4, 999.8, 1632.9833333333333, 1620.9166666666665], 'gs': [52.40296404695958, 54.81794456602636, 43.49513117058557, 4.930653352423196, 2.6415018214608046, 6.386231497692186], 'pulses': {'pi_ge': {'sigma': [0.02, 0.02, 0.02, 0.02, 0.025, 0.025, 0.025, 0.025, 0.015, 0.015, 0.015, 0.015, 0.025, 0.025, 0.025, 0.025], 'gain': [1849, 1914, 0, 1855, 2834, 2504, 2648, 2631, 9155, 9155, 9155, 9155, 599, 599, 599, 599], 'half_gain': [1856, 1835, 1873, 1867, 2382, 2186, 2248, 2289, 9253, 9253, 9253, 9253, 524, 524, 524, 524], 'half_correction_phase': [0, 0, 0, 0, 0, 0, 0, 0, 0, 0, 0, 0, 0, 0, 0, 0, 0], 'half_gain_pi_sigma': [927, 0, 0, 0, 0, 1315, 0, 0, 0, 0, 7212, 0, 0, 0, 0, 460], 'type': 'gauss'}, 'pi_ef': {'sigma': [0.02, 0.02, 0.02, 0.02, 0.025, 0.025, 0.025, 0.025, 0.015, 0.015, 0.015, 0.015, 0.03, 0.03, 0.03, 0.03], 'gain': [1280, 0, 0, 0, 0, 1912, 0, 0, 10000, 10079, 10015, 0, 300, 300, 0, 300], 'half_gain': [1261, 0, 0, 0, 0, 1941, 0, 0, 0, 10147, 9845, 9979, 340, 340, 0, 320], 'half_gain_pi_sigma': [673, 0, 0, 0, 0, 975, 0, 0, 0, 0, 5049, 0, 340, 0, 0, 337], 'type': 'gauss'}, 'pi_EgGf': {'gain': [32000, 0, 30000, 16000], 'sigma': [0.586, 0, 0.8, 0.44643], 'type': 'flat_top'}, 'pi_EgGf_Q': {'gain': [0, 0, 12147, 31264], 'sigma': [0, 0, 0.44193131519875684, 0.1227017779371818], 'phase': [0, 0, 18.0, 24.0], 'half_sigma': [0, 0, 0.212, 0.172], 'half_phase': [0, 0, 18.0, 21.0], 'type': 'flat_top'}, 'pi_f0g1': {'gain': [32000, 32000, 32000, 32000], 'sigma': [0.536, 0.585, 1.54, 1.04], 'idle': [3, 6, 12, 8], 'type': 'flat_top'}, 'pulse_pp': {'gain': [1750, 3550, 0, 0], 'filename': '240920_3_qram_4q_2qubit_++gg'}, 'pulse_1p': {'gain': [3500, 4375, 0, 0], 'filename': '240920_qram_4q_2qubit_e+gg'}, 'pulse_p1': {'gain': [3000, 5530, 0, 0], 'filename': '240920_qram_4q_2qubit_+egg'}, 'pihalf_ge_robust': {'gain': [7559, 7660, 7559, 7559, 4843, 4462, 4462, 4144, 20111, 20111, 20111, 20111, 2375, 2375, 2375, 2375], 'filename': ['X_2_Q0', 'X_2_Q1', 'X_2_Q2', 'X_2_Q3']}, 'pi_ge_slow': {'gain': [-1, 100, -1, -1], 'sigma': [-1, 0.25, -1, -1], 'type': 'gauss'}, 'pi_Q1_ZZ_slow': {'gain': [100, 0, -1, -1], 'sigma': [0.25, 0, -1, -1], 'type': 'gauss'}}}}, 'hw': {'soc': {'dacs': {'qubit': {'ch': [0, 1, 2, 3], 'type': 'full', 'nyquist': [2, 1, 2, 2], 'mixer_freq': [0, 0, 0, 0]}, 'swap': {'ch': 1, 'type': 'full', 'nyquist': 1, 'mixer_freq': 0}, 'swap_f0g1': {'ch': [1, 1, 5, 5], 'type': ['full', 'full', 'full', 'full'], 'nyquist': 1, 'mixer_freq': 0}, 'swap_Q': {'ch': [0, -1, 2, 3], 'type': ['full', 'None', 'full', 'full'], 'nyquist': [2, 0, 2, 2], 'mixer_freq': 0}, 'readout': {'ch': [6, 4, 6, 6], 'full_mux_chs': [5, 4, 5, 5], 'type': ['mux4', 'full', 'mux4', 'mux4'], 'mixer_freq': [7250, 5795.8115578931565, 7250, 7250], 'nyquist': [2, 2, 2, 2]}, 'res_pump': {'ch': 4, 'type': 'full', 'mixer_freq': 0, 'nyquist': 2}, 'delay_chs': {'ch': [0, 1, 2, 3, 4, 5, 6], 'delay_ns': [4.0, 0.0, 5.0, 3.0, 25, 60, 71]}}, 'adcs': {'readout': {'ch': [0, 1, 2, 3]}}}, 'lo': {'twpa': {'frequency': '8210.0e6', 'power': -1.5}, 'readout': {'frequency': 0, 'power': 0}}}, 'aliases': {'readout_LO': 'SC_20A1', 'twpa_LO': 'SC_26C1', 'soc': 'Qick_QRAM'}, 'expt': {'start': 0, 'step': 1, 'expts': 10, 'reps': 2000, 'loops': 10, 'pulse_type': 'flat_top', 'post_process': 'scale', 'singleshot_reps': 15000, 'measure_f': False, 'init_state': '|1>|1>', 'qDrive': 3, 'qubits': [3, 1], 'measure_qubits': [3, 1], 'full_mux_expt': True, 'resonator_reset': [0, 2, 3]}}\n"
     ]
    },
    {
     "data": {
      "application/vnd.jupyter.widget-view+json": {
       "model_id": "d2279b60118e45d79c9ebcbece1f793e",
       "version_major": 2,
       "version_minor": 0
      },
      "text/plain": [
       "  0%|          | 0/4 [00:00<?, ?it/s]"
      ]
     },
     "metadata": {},
     "output_type": "display_data"
    },
    {
     "name": "stdout",
     "output_type": "stream",
     "text": [
      "Qubit  (3)\n",
      "ge fidelity (%): 73.53999999999998 \t angle (deg): 0.0 \t threshold ge: 164.34325717528648\n",
      "Qubit  (1)\n",
      "ge fidelity (%): 51.773333333333326 \t angle (deg): 0.0 \t threshold ge: 301.09772132547585\n"
     ]
    },
    {
     "data": {
      "application/vnd.jupyter.widget-view+json": {
       "model_id": "0cd4d33f7e0242d1a23a769bae00e820",
       "version_major": 2,
       "version_minor": 0
      },
      "text/plain": [
       "  0%|          | 0/10 [00:00<?, ?it/s]"
      ]
     },
     "metadata": {},
     "output_type": "display_data"
    },
    {
     "name": "stdout",
     "output_type": "stream",
     "text": [
      "Saving S:\\QRAM\\qram_4QR2\\data\\data_241025\\00107_NPulseExptEgGfQ31.h5\n",
      "Saved S:\\QRAM\\qram_4QR2\\data\\data_241025\\00107_NPulseExptEgGfQ31.h5\n",
      "[ 0.49720563 12.85804144  3.94244854]\n",
      "Attempted to init fitparam 0 to 0.0, which is out of bounds 0.0 to 0.0. Instead init to 0.0\n",
      "Warning: fit failed with error: Each lower bound must be strictly less than each upper bound.\n",
      "[0.0, 0.0, 10]\n",
      "Warning: fit failed with error: Optimal parameters not found: The maximum number of function evaluations is exceeded.\n",
      "[176.91294573088248, 0.0, 10]\n",
      "[  0.66421208 -12.52066239   3.5425069 ]\n",
      "Attempted to init fitparam 0 to 0.0, which is out of bounds 0.0 to 0.0. Instead init to 0.0\n",
      "Warning: fit failed with error: Each lower bound must be strictly less than each upper bound.\n",
      "[0.0, 0.0, 10]\n",
      "Warning: fit failed with error: Optimal parameters not found: The maximum number of function evaluations is exceeded.\n",
      "[312.74978038864936, 0.0, 10]\n",
      "From QA: adjust length to 0.13214108665089572\n",
      "\tadjust ratio 0.9285664364282725\n",
      "\n",
      "From QB: adjust length to 0.13187489479806672\n",
      "\tadjust ratio 0.9304407645220779\n",
      "best 0 inf\n",
      "pi len precise 0.1227017779371818 adjustment ratio 1.0 from Q1\n",
      "for gain 31264.70588235294 added swap pi len from error amplification 0.1227017779371818\n",
      "----------- STARTING GAIN 32000.0 -----------\n",
      "-------- swap length rabi --------\n",
      "gain 32000 freq 5122.762837747223\n"
     ]
    },
    {
     "data": {
      "application/vnd.jupyter.widget-view+json": {
       "model_id": "823a4d350b1a4622b0160ce07b42631f",
       "version_major": 2,
       "version_minor": 0
      },
      "text/plain": [
       "  0%|          | 0/101 [00:00<?, ?it/s]"
      ]
     },
     "metadata": {},
     "output_type": "display_data"
    },
    {
     "name": "stdout",
     "output_type": "stream",
     "text": [
      "Saving S:\\QRAM\\qram_4QR2\\data\\data_241025\\00109_length_rabi_EgGf_qubit31.h5\n",
      "Saved S:\\QRAM\\qram_4QR2\\data\\data_241025\\00109_length_rabi_EgGf_qubit31.h5\n",
      "Attempted to init fitparam 0 to 0.0, which is out of bounds 0.0 to 0.0. Instead init to 0.0\n",
      "Attempted to init fitparam 4 to 0.0, which is out of bounds 0.0 to 0.0. Instead init to 0.0\n",
      "Warning: fit failed with error: Each lower bound must be strictly less than each upper bound.\n",
      "Attempted to init fitparam 0 to 0.0, which is out of bounds 0.0 to 0.0. Instead init to 0.0\n",
      "Attempted to init fitparam 4 to 0.0, which is out of bounds 0.0 to 0.0. Instead init to 0.0\n",
      "Warning: fit failed with error: Each lower bound must be strictly less than each upper bound.\n",
      "best 0 0.07138050340126972\n",
      "Pi length from amps data (qubit A) [us]: 0.11959440453657395\n",
      "\tPi/2 length from avgq data (qubit A) [us]: 0.05979720226828698\n",
      "\tDecay time [us]: 3.6575470642624905\n",
      "Pi length from avgq data (qubit A) [us]: 0.1485148514851485\n",
      "\tPi/2 length from avgq data (qubit A) [us]: 0.07425742574257425\n",
      "\tDecay time [us]: 0.39603960396039606\n",
      "Pi length from amps data (qubit B) [us]: 0.12072756054682181\n",
      "\tPi/2 length from avgq data (qubit B) [us]: 0.060363780273410904\n",
      "\tDecay time [us]: 4.3764304416525155\n",
      "Pi length from avgq data (qubit B) [us]: 0.1485148514851485\n",
      "\tPi/2 length from avgq data (qubit B) [us]: 0.07425742574257425\n",
      "\tDecay time [us]: 0.39603960396039606\n",
      "max QA amp: 261.34755859884723\n",
      "min QA amp: 91.43301303336534\n",
      "max QB amp: 359.2725785862543\n",
      "min QB amp: 263.11084483862976\n",
      "for gain 32000.0 added swap pi len from length rabi 0.11959440453657395\n",
      "-------- swap pi minus pi --------\n",
      "{'device': {'readout': {'trig_offset': 150, 'lo_sideband': [1, 1, 1, 1], 'frequency': [-439.97500000000036, 0.0, 452.3682333333336, -278.89999999999964], 'gain': [0.17, 0.0001, 0.25, 0.17], 'kappa_ext': [0.157, 0.065, 0.182, 0.104], 'kerr': [-0.0045, 0, 0.008, -0.003], 't_rise_reset': [0.5, 1, 0.5, 0.5], 'readout_length': [4, 4, 4, 4], 'frequency_ef': [-440.97500000000036, 0.0, 453.3682333333336, -280.35364238410557], 'readout_length_ef': [10.0, 7.0, 4.0, 8.0], 'relax_delay': [450, 450, 450, 450]}, 'qubit': {'f_ge': [4111.097866562327, 4105.838904759637, 4110.958153299016, 4110.546407850519, 3442.8755721075536, 3448.5530242338505, 3447.060317317807, 3446.4929792801067, 4762.761504132457, 4761.823567235975, 4762.909473544484, 4762.369813422167, 4380.698604555338, 4379.604868123916, 4380.717837106693, 4381.248121020163], 'f_ge_robust': [4114.313815659153, 4108.147701523904, 4114.310372455052, 4114.310372455052, 3443.0032303441935, 3448.345849629168, 0, 0, 4763.941, 4763.941, 4763.941, 4763.941, 4384.25034225973, 4384.25034225973, 4384.25034225973, 4384.25034225973], 'f_ef': [3884.6269161242526, 0.0, 0.0, 0.0, 0.0, 3348.085433174199, 0.0, 0.0, 4571.9056482340775, 4570.996526541673, 4573.280687567687, 0.0, 4211.617732525247, 4205.61697813965, 0.0, 4209.925086260656], 'f_EgGf': [2686.53594683, 0, 2017.3, 2414.92850999], 'f_EgGf_Q': [0, 0, 5885.585546008087, 5122.762837747223], 'f_f0g1': [1184.4, 999.8, 1632.9833333333333, 1620.9166666666665], 'gs': [52.40296404695958, 54.81794456602636, 43.49513117058557, 4.930653352423196, 2.6415018214608046, 6.386231497692186], 'pulses': {'pi_ge': {'sigma': [0.02, 0.02, 0.02, 0.02, 0.025, 0.025, 0.025, 0.025, 0.015, 0.015, 0.015, 0.015, 0.025, 0.025, 0.025, 0.025], 'gain': [1849, 1914, 0, 1855, 2834, 2504, 2648, 2631, 9155, 9155, 9155, 9155, 599, 599, 599, 599], 'half_gain': [1856, 1835, 1873, 1867, 2382, 2186, 2248, 2289, 9253, 9253, 9253, 9253, 524, 524, 524, 524], 'half_correction_phase': [0, 0, 0, 0, 0, 0, 0, 0, 0, 0, 0, 0, 0, 0, 0, 0, 0], 'half_gain_pi_sigma': [927, 0, 0, 0, 0, 1315, 0, 0, 0, 0, 7212, 0, 0, 0, 0, 460], 'type': 'gauss'}, 'pi_ef': {'sigma': [0.02, 0.02, 0.02, 0.02, 0.025, 0.025, 0.025, 0.025, 0.015, 0.015, 0.015, 0.015, 0.03, 0.03, 0.03, 0.03], 'gain': [1280, 0, 0, 0, 0, 1912, 0, 0, 10000, 10079, 10015, 0, 300, 300, 0, 300], 'half_gain': [1261, 0, 0, 0, 0, 1941, 0, 0, 0, 10147, 9845, 9979, 340, 340, 0, 320], 'half_gain_pi_sigma': [673, 0, 0, 0, 0, 975, 0, 0, 0, 0, 5049, 0, 340, 0, 0, 337], 'type': 'gauss'}, 'pi_EgGf': {'gain': [32000, 0, 30000, 16000], 'sigma': [0.586, 0, 0.8, 0.44643], 'type': 'flat_top'}, 'pi_EgGf_Q': {'gain': [0, 0, 12147, 32000], 'sigma': [0, 0, 0.44193131519875684, 0.11959440453657395], 'phase': [0, 0, 18.0, 24.0], 'half_sigma': [0, 0, 0.212, 0.172], 'half_phase': [0, 0, 18.0, 21.0], 'type': 'flat_top'}, 'pi_f0g1': {'gain': [32000, 32000, 32000, 32000], 'sigma': [0.536, 0.585, 1.54, 1.04], 'idle': [3, 6, 12, 8], 'type': 'flat_top'}, 'pulse_pp': {'gain': [1750, 3550, 0, 0], 'filename': '240920_3_qram_4q_2qubit_++gg'}, 'pulse_1p': {'gain': [3500, 4375, 0, 0], 'filename': '240920_qram_4q_2qubit_e+gg'}, 'pulse_p1': {'gain': [3000, 5530, 0, 0], 'filename': '240920_qram_4q_2qubit_+egg'}, 'pihalf_ge_robust': {'gain': [7559, 7660, 7559, 7559, 4843, 4462, 4462, 4144, 20111, 20111, 20111, 20111, 2375, 2375, 2375, 2375], 'filename': ['X_2_Q0', 'X_2_Q1', 'X_2_Q2', 'X_2_Q3']}, 'pi_ge_slow': {'gain': [-1, 100, -1, -1], 'sigma': [-1, 0.25, -1, -1], 'type': 'gauss'}, 'pi_Q1_ZZ_slow': {'gain': [100, 0, -1, -1], 'sigma': [0.25, 0, -1, -1], 'type': 'gauss'}}}}, 'hw': {'soc': {'dacs': {'qubit': {'ch': [0, 1, 2, 3], 'type': 'full', 'nyquist': [2, 1, 2, 2], 'mixer_freq': [0, 0, 0, 0]}, 'swap': {'ch': 1, 'type': 'full', 'nyquist': 1, 'mixer_freq': 0}, 'swap_f0g1': {'ch': [1, 1, 5, 5], 'type': ['full', 'full', 'full', 'full'], 'nyquist': 1, 'mixer_freq': 0}, 'swap_Q': {'ch': [0, -1, 2, 3], 'type': ['full', 'None', 'full', 'full'], 'nyquist': [2, 0, 2, 2], 'mixer_freq': 0}, 'readout': {'ch': [6, 4, 6, 6], 'full_mux_chs': [5, 4, 5, 5], 'type': ['mux4', 'full', 'mux4', 'mux4'], 'mixer_freq': [7250, 5795.8115578931565, 7250, 7250], 'nyquist': [2, 2, 2, 2]}, 'res_pump': {'ch': 4, 'type': 'full', 'mixer_freq': 0, 'nyquist': 2}, 'delay_chs': {'ch': [0, 1, 2, 3, 4, 5, 6], 'delay_ns': [4.0, 0.0, 5.0, 3.0, 25, 60, 71]}}, 'adcs': {'readout': {'ch': [0, 1, 2, 3]}}}, 'lo': {'twpa': {'frequency': '8210.0e6', 'power': -1.5}, 'readout': {'frequency': 0, 'power': 0}}}, 'aliases': {'readout_LO': 'SC_20A1', 'twpa_LO': 'SC_26C1', 'soc': 'Qick_QRAM'}, 'expt': {'start_N': 0, 'step_N': 1, 'expts_N': 10, 'start_f': 5122.262837747223, 'step_f': 0.03333333333333333, 'expts_f': 31, 'reps': 1000, 'loops': 1, 'pulse_type': 'flat_top', 'post_process': 'scale', 'singleshot_reps': 15000, 'measure_f': False, 'init_state': '|1>|1>', 'qDrive': 3, 'qubits': [3, 1], 'measure_qubits': [3, 1], 'readout_cool': False, 'n_init_readout': 1, 'n_trig': 1, 'init_read_wait_us': 2, 'full_mux_expt': True, 'resonator_reset': [0, 2, 3]}}\n"
     ]
    },
    {
     "data": {
      "application/vnd.jupyter.widget-view+json": {
       "model_id": "f7b94e8981d04595a32283b7a8259b89",
       "version_major": 2,
       "version_minor": 0
      },
      "text/plain": [
       "  0%|          | 0/4 [00:00<?, ?it/s]"
      ]
     },
     "metadata": {},
     "output_type": "display_data"
    },
    {
     "name": "stdout",
     "output_type": "stream",
     "text": [
      "Qubit  (3)\n",
      "ge fidelity (%): 75.68000000000004 \t angle (deg): 0.0 \t threshold ge: 157.5762491751908\n",
      "Qubit  (1)\n",
      "ge fidelity (%): 0.5235695713047495 \t angle (deg): 0.0 \t threshold ge: 65.30522825764196\n"
     ]
    },
    {
     "data": {
      "application/vnd.jupyter.widget-view+json": {
       "model_id": "6b0f102f3455403084f1591a10d764d5",
       "version_major": 2,
       "version_minor": 0
      },
      "text/plain": [
       "  0%|          | 0/10 [00:00<?, ?it/s]"
      ]
     },
     "metadata": {},
     "output_type": "display_data"
    },
    {
     "name": "stdout",
     "output_type": "stream",
     "text": [
      "Attempted to init fitparam 3 to 0.0, which is out of bounds 0 to 0.5062411008438875. Instead init to 0.25312055042194376\n",
      "Fit best freq (qA) 5123.124216292294 which is 0.3613785450706928 away from old freq 5122.762837747223\n",
      "Best freq from pi/-pi on Q3 5123.124216292294\n",
      "Attempted to init fitparam 3 to 0.0, which is out of bounds 0 to 0.13135221327824517. Instead init to 0.06567610663912259\n",
      "Fit best freq (qA) 5123.077273756315 which is 0.3144360090918781 away from old freq 5122.762837747223\n",
      "Best freq from pi/-pi on Q1 5123.077273756315\n",
      "best 1 7.249446331370305\n",
      "Saving S:\\QRAM\\qram_4QR2\\data\\data_241025\\00114_PiMinusPiEgGfExptQ31.h5\n",
      "Saved S:\\QRAM\\qram_4QR2\\data\\data_241025\\00114_PiMinusPiEgGfExptQ31.h5\n",
      "for gain 32000.0 added swap pi freq from pi minus pi 5123.077273756315\n",
      "using opt freq 5123.077273756315\n",
      "-------- swap error amplification --------\n",
      "{'device': {'readout': {'trig_offset': 150, 'lo_sideband': [1, 1, 1, 1], 'frequency': [-439.97500000000036, 0.0, 452.3682333333336, -278.89999999999964], 'gain': [0.17, 0.035, 0.25, 0.17], 'kappa_ext': [0.157, 0.065, 0.182, 0.104], 'kerr': [-0.0045, 0, 0.008, -0.003], 't_rise_reset': [0.5, 1, 0.5, 0.5], 'readout_length': [4, 4, 4, 4], 'frequency_ef': [-440.97500000000036, 0.0, 453.3682333333336, -280.35364238410557], 'readout_length_ef': [10.0, 7.0, 4.0, 8.0], 'relax_delay': [450, 450, 450, 450]}, 'qubit': {'f_ge': [4111.097866562327, 4105.838904759637, 4110.958153299016, 4110.546407850519, 3442.8755721075536, 3448.5530242338505, 3447.060317317807, 3446.4929792801067, 4762.761504132457, 4761.823567235975, 4762.909473544484, 4762.369813422167, 4380.698604555338, 4379.604868123916, 4380.717837106693, 4381.248121020163], 'f_ge_robust': [4114.313815659153, 4108.147701523904, 4114.310372455052, 4114.310372455052, 3443.0032303441935, 3448.345849629168, 0, 0, 4763.941, 4763.941, 4763.941, 4763.941, 4384.25034225973, 4384.25034225973, 4384.25034225973, 4384.25034225973], 'f_ef': [3884.6269161242526, 0.0, 0.0, 0.0, 0.0, 3348.085433174199, 0.0, 0.0, 4571.9056482340775, 4570.996526541673, 4573.280687567687, 0.0, 4211.617732525247, 4205.61697813965, 0.0, 4209.925086260656], 'f_EgGf': [2686.53594683, 0, 2017.3, 2414.92850999], 'f_EgGf_Q': [0, 0, 5885.585546008087, 5123.077273756315], 'f_f0g1': [1184.4, 999.8, 1632.9833333333333, 1620.9166666666665], 'gs': [52.40296404695958, 54.81794456602636, 43.49513117058557, 4.930653352423196, 2.6415018214608046, 6.386231497692186], 'pulses': {'pi_ge': {'sigma': [0.02, 0.02, 0.02, 0.02, 0.025, 0.025, 0.025, 0.025, 0.015, 0.015, 0.015, 0.015, 0.025, 0.025, 0.025, 0.025], 'gain': [1849, 1914, 0, 1855, 2834, 2504, 2648, 2631, 9155, 9155, 9155, 9155, 599, 599, 599, 599], 'half_gain': [1856, 1835, 1873, 1867, 2382, 2186, 2248, 2289, 9253, 9253, 9253, 9253, 524, 524, 524, 524], 'half_correction_phase': [0, 0, 0, 0, 0, 0, 0, 0, 0, 0, 0, 0, 0, 0, 0, 0, 0], 'half_gain_pi_sigma': [927, 0, 0, 0, 0, 1315, 0, 0, 0, 0, 7212, 0, 0, 0, 0, 460], 'type': 'gauss'}, 'pi_ef': {'sigma': [0.02, 0.02, 0.02, 0.02, 0.025, 0.025, 0.025, 0.025, 0.015, 0.015, 0.015, 0.015, 0.03, 0.03, 0.03, 0.03], 'gain': [1280, 0, 0, 0, 0, 1912, 0, 0, 10000, 10079, 10015, 0, 300, 300, 0, 300], 'half_gain': [1261, 0, 0, 0, 0, 1941, 0, 0, 0, 10147, 9845, 9979, 340, 340, 0, 320], 'half_gain_pi_sigma': [673, 0, 0, 0, 0, 975, 0, 0, 0, 0, 5049, 0, 340, 0, 0, 337], 'type': 'gauss'}, 'pi_EgGf': {'gain': [32000, 0, 30000, 16000], 'sigma': [0.586, 0, 0.8, 0.44643], 'type': 'flat_top'}, 'pi_EgGf_Q': {'gain': [0, 0, 12147, 32000], 'sigma': [0, 0, 0.44193131519875684, 0.11959440453657395], 'phase': [0, 0, 18.0, 24.0], 'half_sigma': [0, 0, 0.212, 0.172], 'half_phase': [0, 0, 18.0, 21.0], 'type': 'flat_top'}, 'pi_f0g1': {'gain': [32000, 32000, 32000, 32000], 'sigma': [0.536, 0.585, 1.54, 1.04], 'idle': [3, 6, 12, 8], 'type': 'flat_top'}, 'pulse_pp': {'gain': [1750, 3550, 0, 0], 'filename': '240920_3_qram_4q_2qubit_++gg'}, 'pulse_1p': {'gain': [3500, 4375, 0, 0], 'filename': '240920_qram_4q_2qubit_e+gg'}, 'pulse_p1': {'gain': [3000, 5530, 0, 0], 'filename': '240920_qram_4q_2qubit_+egg'}, 'pihalf_ge_robust': {'gain': [7559, 7660, 7559, 7559, 4843, 4462, 4462, 4144, 20111, 20111, 20111, 20111, 2375, 2375, 2375, 2375], 'filename': ['X_2_Q0', 'X_2_Q1', 'X_2_Q2', 'X_2_Q3']}, 'pi_ge_slow': {'gain': [-1, 100, -1, -1], 'sigma': [-1, 0.25, -1, -1], 'type': 'gauss'}, 'pi_Q1_ZZ_slow': {'gain': [100, 0, -1, -1], 'sigma': [0.25, 0, -1, -1], 'type': 'gauss'}}}}, 'hw': {'soc': {'dacs': {'qubit': {'ch': [0, 1, 2, 3], 'type': 'full', 'nyquist': [2, 1, 2, 2], 'mixer_freq': [0, 0, 0, 0]}, 'swap': {'ch': 1, 'type': 'full', 'nyquist': 1, 'mixer_freq': 0}, 'swap_f0g1': {'ch': [1, 1, 5, 5], 'type': ['full', 'full', 'full', 'full'], 'nyquist': 1, 'mixer_freq': 0}, 'swap_Q': {'ch': [0, -1, 2, 3], 'type': ['full', 'None', 'full', 'full'], 'nyquist': [2, 0, 2, 2], 'mixer_freq': 0}, 'readout': {'ch': [6, 4, 6, 6], 'full_mux_chs': [5, 4, 5, 5], 'type': ['mux4', 'full', 'mux4', 'mux4'], 'mixer_freq': [7250, 5795.8115578931565, 7250, 7250], 'nyquist': [2, 2, 2, 2]}, 'res_pump': {'ch': 4, 'type': 'full', 'mixer_freq': 0, 'nyquist': 2}, 'delay_chs': {'ch': [0, 1, 2, 3, 4, 5, 6], 'delay_ns': [4.0, 0.0, 5.0, 3.0, 25, 60, 71]}}, 'adcs': {'readout': {'ch': [0, 1, 2, 3]}}}, 'lo': {'twpa': {'frequency': '8210.0e6', 'power': -1.5}, 'readout': {'frequency': 0, 'power': 0}}}, 'aliases': {'readout_LO': 'SC_20A1', 'twpa_LO': 'SC_26C1', 'soc': 'Qick_QRAM'}, 'expt': {'start': 0, 'step': 1, 'expts': 10, 'reps': 2000, 'loops': 10, 'pulse_type': 'flat_top', 'post_process': 'scale', 'singleshot_reps': 15000, 'measure_f': False, 'init_state': '|1>|1>', 'qDrive': 3, 'qubits': [3, 1], 'measure_qubits': [3, 1], 'full_mux_expt': True, 'resonator_reset': [0, 2, 3]}}\n"
     ]
    },
    {
     "data": {
      "application/vnd.jupyter.widget-view+json": {
       "model_id": "28fe5be2e36448928c350a79b1ca2608",
       "version_major": 2,
       "version_minor": 0
      },
      "text/plain": [
       "  0%|          | 0/4 [00:00<?, ?it/s]"
      ]
     },
     "metadata": {},
     "output_type": "display_data"
    },
    {
     "name": "stdout",
     "output_type": "stream",
     "text": [
      "Qubit  (3)\n",
      "ge fidelity (%): 75.60666666666668 \t angle (deg): 0.0 \t threshold ge: 161.91669091972614\n",
      "Qubit  (1)\n",
      "ge fidelity (%): 51.233333333333306 \t angle (deg): 0.0 \t threshold ge: 306.8838970489164\n"
     ]
    },
    {
     "data": {
      "application/vnd.jupyter.widget-view+json": {
       "model_id": "964a7ad94d484815a2f7e0687b10f832",
       "version_major": 2,
       "version_minor": 0
      },
      "text/plain": [
       "  0%|          | 0/10 [00:00<?, ?it/s]"
      ]
     },
     "metadata": {},
     "output_type": "display_data"
    },
    {
     "name": "stdout",
     "output_type": "stream",
     "text": [
      "Saving S:\\QRAM\\qram_4QR2\\data\\data_241025\\00108_NPulseExptEgGfQ31.h5\n",
      "Saved S:\\QRAM\\qram_4QR2\\data\\data_241025\\00108_NPulseExptEgGfQ31.h5\n",
      "[0.47346287 4.95142635 5.79563014]\n",
      "Attempted to init fitparam 0 to 0.0, which is out of bounds 0.0 to 0.0. Instead init to 0.0\n",
      "Warning: fit failed with error: Each lower bound must be strictly less than each upper bound.\n",
      "[0.0, 0.0, 10]\n",
      "Warning: fit failed with error: Optimal parameters not found: The maximum number of function evaluations is exceeded.\n",
      "[175.4377844468046, 0.0, 10]\n",
      "[ 0.81903098 -3.01905135  5.64048272]\n",
      "Attempted to init fitparam 0 to 0.0, which is out of bounds 0.0 to 0.0. Instead init to 0.0\n",
      "Warning: fit failed with error: Each lower bound must be strictly less than each upper bound.\n",
      "[0.0, 0.0, 10]\n",
      "Warning: fit failed with error: Optimal parameters not found: The maximum number of function evaluations is exceeded.\n",
      "[328.71145957412045, 0.0, 10]\n",
      "From QA: adjust length to 0.12297725349971433\n",
      "\tadjust ratio 0.9724920758362177\n",
      "\n",
      "From QB: adjust length to 0.12163452044211248\n",
      "\tadjust ratio 0.9832274925068707\n",
      "best 0 inf\n",
      "pi len precise 0.11959440453657395 adjustment ratio 1.0 from Q1\n",
      "for gain 32000.0 added swap pi len from error amplification 0.11959440453657395\n"
     ]
    }
   ],
   "source": [
    "# signs = [1, -1, -1, 1] # whether the period occurs at the max (1) or min (-1)\n",
    "# opt_fit_index = 1\n",
    "\n",
    "if not save_files: print('WARNING: NOT SAVING FILES!')\n",
    "for i_gain, gain in enumerate(gain_sweep):\n",
    "    # if i_gain != 7 and i_gain != 12: continue \n",
    "    # if gain < 15822: continue\n",
    "    # if i_gain not in [3]: continue\n",
    "\n",
    "    override = False\n",
    "\n",
    "    print(f'----------- STARTING GAIN {gain} -----------')\n",
    "    pi_len = opt_lens[i_gain]\n",
    "    pi_freq = opt_freqs[i_gain]\n",
    "\n",
    "    # ----- Length rabi ----- #\n",
    "    # if gain > 15822 and gain < 15830:\n",
    "    #     override = True\n",
    "    #     pi_len = yaml_cfg.device.qubit.pulses.pi_EgGf_Q.sigma[qDrive]\n",
    "    if do_length_rabi and not override:\n",
    "        pi_len = run_swap_length_rabi(qDrive, yaml_cfg, gain=gain, opt_len=pi_len, opt_freq=pi_freq, save_data=save_files, saved_files=saved_files_lengthrabi, good_data=good_data)\n",
    "        yaml_cfg.device.qubit.pulses.pi_EgGf_Q.sigma[qDrive] = pi_len\n",
    "        if len(new_opt_lens) > i_gain:\n",
    "            new_opt_lens[i_gain] = pi_len\n",
    "            print(f'for gain {gain} updated swap pi len from length rabi', pi_len)\n",
    "        else:\n",
    "            new_opt_lens.append(pi_len)\n",
    "            print(f'for gain {gain} added swap pi len from length rabi', pi_len)\n",
    "    override = False\n",
    "\n",
    "    # ----- Pi minus pi----- #\n",
    "    # if gain > 15822 and gain < 15830:\n",
    "    #     override = True\n",
    "    #     pi_freq = yaml_cfg.device.qubit.f_EgGf_Q[qDrive]\n",
    "    if do_piminuspi and not override:\n",
    "        pi_freq = run_swap_piminuspi(qDrive, yaml_cfg, gain=gain, opt_len=pi_len, opt_freq=pi_freq, save_data=save_files, saved_files=saved_files_piminuspi, good_data=good_data)\n",
    "        yaml_cfg.device.qubit.f_EgGf_Q[qDrive] = pi_freq\n",
    "        if len(new_opt_freqs) > i_gain:\n",
    "            new_opt_freqs[i_gain] = pi_freq\n",
    "            print(f'for gain {gain} updated swap pi freq from pi minus pi', pi_freq)\n",
    "        else:\n",
    "            new_opt_freqs.append(pi_freq)\n",
    "            print(f'for gain {gain} added swap pi freq from pi minus pi', pi_freq)\n",
    "    override = False\n",
    "\n",
    "    # ----- Error amplification ----- #\n",
    "    if do_error_amp and not override:\n",
    "        print('using opt freq', pi_freq)\n",
    "        pi_len = run_swap_error_amp(qDrive, yaml_cfg, gain=gain, opt_len=pi_len, opt_freq=pi_freq, save_data=save_files, saved_files=saved_files_error_amp, good_data=good_data)\n",
    "        yaml_cfg.device.qubit.pulses.pi_EgGf_Q.sigma[qDrive] = pi_len\n",
    "        if len(new_opt_lens2) > i_gain:\n",
    "            new_opt_lens2[i_gain] = pi_len\n",
    "            print(f'for gain {gain} updated swap pi len from error amplification', pi_len)\n",
    "        else:\n",
    "            new_opt_lens2.append(pi_len)\n",
    "            print(f'for gain {gain} added swap pi len from error amplification', pi_len)\n",
    "    override = False"
   ]
  },
  {
   "cell_type": "code",
   "execution_count": 105,
   "metadata": {},
   "outputs": [
    {
     "name": "stdout",
     "output_type": "stream",
     "text": [
      "gain_sweep=[7000.0, 7735.294117647059, 8470.588235294117, 9205.882352941177, 9941.176470588234, 10676.470588235294, 11411.764705882353, 12147.058823529413, 12882.35294117647, 13617.647058823528, 14352.941176470587, 15088.235294117647, 15823.529411764706, 16558.823529411762, 17294.117647058825, 18029.41176470588, 18764.70588235294, 19500.0, 20235.294117647056, 20970.58823529412, 21705.882352941175, 22441.176470588234, 23176.470588235294, 23911.764705882353, 24647.058823529413, 25382.35294117647, 26117.647058823528, 26852.941176470587, 27588.235294117647, 28323.529411764706, 29058.823529411762, 29794.11764705882, 30529.41176470588, 31264.70588235294, 32000.0]\n",
      "new_opt_lens (fine length rabi)=[0.47200285304219325, 0.4462483335766198, 0.3935770171685791, 0.3661172064234872, 0.3392260760342203, 0.3197021004429004, 0.2961380879096939, 0.2805061186736545, 0.2636938615611933, 0.25335798809866994, 0.237356076571024, 0.22966955817886023, 0.21757555901250342, 0.21082829572908218, 0.19942680930794082, 0.19304159020342734, 0.18530539250720215, 0.17853124431578662, 0.17535741535123753, 0.16758423597388725, 0.16388394269244386, 0.1583632755769038, 0.1552121470900272, 0.1504628462909928, 0.14532062321917064, 0.14367011071809124, 0.1401874263524681, 0.13800939138023388, 0.13499047922088145, 0.13176217034566462, 0.13116632738422024, 0.12663711487670318, 0.12529014926169998, 0.1227017779371818, 0.11959440453657395]\n",
      "new_opt_lens2 (error amp)=[0.47200285304219325, 0.4462483335766198, 0.3935770171685791, 0.3445003248172285, 0.3392260760342203, 0.3197021004429004, 0.2961380879096939, 0.2805061186736545, 0.2636938615611933, 0.25335798809866994, 0.237356076571024, 0.22966955817886023, 0.21757555901250342, 0.21082829572908218, 0.19942680930794082, 0.19304159020342734, 0.18530539250720215, 0.17853124431578662, 0.16243437135173172, 0.16758423597388725, 0.16388394269244386, 0.1583632755769038, 0.1552121470900272, 0.1504628462909928, 0.14532062321917064, 0.14367011071809124, 0.1401874263524681, 0.13800939138023388, 0.13499047922088145, 0.13176217034566462, 0.13116632738422024, 0.12663711487670318, 0.12529014926169998, 0.1227017779371818, 0.11959440453657395]\n",
      "opt_freqs (initial guess)=[5147.9317208  5147.67158964 5147.38235969 5147.06403095 5146.71660341\n",
      " 5146.34007708 5145.93445195 5145.49972803 5145.03590531 5144.5429838\n",
      " 5144.02096349 5143.46984439 5142.8896265  5142.28030981 5141.64189432\n",
      " 5140.97438004 5140.27776697 5139.5520551  5138.79724444 5138.01333498\n",
      " 5137.20032673 5136.35821968 5135.48701384 5134.5867092  5133.65730577\n",
      " 5132.69880354 5131.71120252 5130.69450271 5129.6487041  5128.57380669\n",
      " 5127.46981049 5126.3367155  5125.17452171 5123.98322913 5122.76283775]\n",
      "new_opt_freqs=[5147.99318202018, 5147.6827919025, 5147.369818306699, 5147.0095936948965, 5146.649493923319, 5146.2282856729535, 5145.807622120507, 5145.343359864123, 5144.89514907717, 5144.340271588578, 5143.829123776181, 5143.212857950753, 5142.648323761926, 5142.032496978786, 5141.42603268382, 5140.74136130339, 5140.050826982874, 5139.240261999657, 5138.36554460062, 5137.619711613276, 5136.819259335623, 5136.308146400125, 5135.096981377383, 5134.31522456792, 5133.696066602609, 5132.2795445243155, 5131.764052253434, 5130.860289965018, 5129.585923132024, 5128.905555535576, 5127.702625251956, 5126.33057464852, 5124.876083467402, 5123.65698890857, 5123.077273756315]\n",
      "saved_files_lengthrabi=['S:\\\\QRAM\\\\qram_4QR2\\\\data\\\\data_241025\\\\00075_length_rabi_EgGf_qubit31.h5', 'S:\\\\QRAM\\\\qram_4QR2\\\\data\\\\data_241025\\\\00076_length_rabi_EgGf_qubit31.h5', 'S:\\\\QRAM\\\\qram_4QR2\\\\data\\\\data_241025\\\\00077_length_rabi_EgGf_qubit31.h5', 'S:\\\\QRAM\\\\qram_4QR2\\\\data\\\\data_241025\\\\00078_length_rabi_EgGf_qubit31.h5', 'S:\\\\QRAM\\\\qram_4QR2\\\\data\\\\data_241025\\\\00079_length_rabi_EgGf_qubit31.h5', 'S:\\\\QRAM\\\\qram_4QR2\\\\data\\\\data_241025\\\\00080_length_rabi_EgGf_qubit31.h5', 'S:\\\\QRAM\\\\qram_4QR2\\\\data\\\\data_241025\\\\00081_length_rabi_EgGf_qubit31.h5', 'S:\\\\QRAM\\\\qram_4QR2\\\\data\\\\data_241025\\\\00082_length_rabi_EgGf_qubit31.h5', 'S:\\\\QRAM\\\\qram_4QR2\\\\data\\\\data_241025\\\\00083_length_rabi_EgGf_qubit31.h5', 'S:\\\\QRAM\\\\qram_4QR2\\\\data\\\\data_241025\\\\00084_length_rabi_EgGf_qubit31.h5', 'S:\\\\QRAM\\\\qram_4QR2\\\\data\\\\data_241025\\\\00085_length_rabi_EgGf_qubit31.h5', 'S:\\\\QRAM\\\\qram_4QR2\\\\data\\\\data_241025\\\\00086_length_rabi_EgGf_qubit31.h5', 'S:\\\\QRAM\\\\qram_4QR2\\\\data\\\\data_241025\\\\00087_length_rabi_EgGf_qubit31.h5', 'S:\\\\QRAM\\\\qram_4QR2\\\\data\\\\data_241025\\\\00088_length_rabi_EgGf_qubit31.h5', 'S:\\\\QRAM\\\\qram_4QR2\\\\data\\\\data_241025\\\\00089_length_rabi_EgGf_qubit31.h5', 'S:\\\\QRAM\\\\qram_4QR2\\\\data\\\\data_241025\\\\00090_length_rabi_EgGf_qubit31.h5', 'S:\\\\QRAM\\\\qram_4QR2\\\\data\\\\data_241025\\\\00091_length_rabi_EgGf_qubit31.h5', 'S:\\\\QRAM\\\\qram_4QR2\\\\data\\\\data_241025\\\\00092_length_rabi_EgGf_qubit31.h5', 'S:\\\\QRAM\\\\qram_4QR2\\\\data\\\\data_241025\\\\00093_length_rabi_EgGf_qubit31.h5', 'S:\\\\QRAM\\\\qram_4QR2\\\\data\\\\data_241025\\\\00094_length_rabi_EgGf_qubit31.h5', 'S:\\\\QRAM\\\\qram_4QR2\\\\data\\\\data_241025\\\\00095_length_rabi_EgGf_qubit31.h5', 'S:\\\\QRAM\\\\qram_4QR2\\\\data\\\\data_241025\\\\00096_length_rabi_EgGf_qubit31.h5', 'S:\\\\QRAM\\\\qram_4QR2\\\\data\\\\data_241025\\\\00097_length_rabi_EgGf_qubit31.h5', 'S:\\\\QRAM\\\\qram_4QR2\\\\data\\\\data_241025\\\\00098_length_rabi_EgGf_qubit31.h5', 'S:\\\\QRAM\\\\qram_4QR2\\\\data\\\\data_241025\\\\00099_length_rabi_EgGf_qubit31.h5', 'S:\\\\QRAM\\\\qram_4QR2\\\\data\\\\data_241025\\\\00100_length_rabi_EgGf_qubit31.h5', 'S:\\\\QRAM\\\\qram_4QR2\\\\data\\\\data_241025\\\\00101_length_rabi_EgGf_qubit31.h5', 'S:\\\\QRAM\\\\qram_4QR2\\\\data\\\\data_241025\\\\00102_length_rabi_EgGf_qubit31.h5', 'S:\\\\QRAM\\\\qram_4QR2\\\\data\\\\data_241025\\\\00103_length_rabi_EgGf_qubit31.h5', 'S:\\\\QRAM\\\\qram_4QR2\\\\data\\\\data_241025\\\\00104_length_rabi_EgGf_qubit31.h5', 'S:\\\\QRAM\\\\qram_4QR2\\\\data\\\\data_241025\\\\00105_length_rabi_EgGf_qubit31.h5', 'S:\\\\QRAM\\\\qram_4QR2\\\\data\\\\data_241025\\\\00106_length_rabi_EgGf_qubit31.h5', 'S:\\\\QRAM\\\\qram_4QR2\\\\data\\\\data_241025\\\\00107_length_rabi_EgGf_qubit31.h5', 'S:\\\\QRAM\\\\qram_4QR2\\\\data\\\\data_241025\\\\00108_length_rabi_EgGf_qubit31.h5', 'S:\\\\QRAM\\\\qram_4QR2\\\\data\\\\data_241025\\\\00109_length_rabi_EgGf_qubit31.h5']\n",
      "saved_files_piminuspi=['S:\\\\QRAM\\\\qram_4QR2\\\\data\\\\data_241025\\\\00080_PiMinusPiEgGfExptQ31.h5', 'S:\\\\QRAM\\\\qram_4QR2\\\\data\\\\data_241025\\\\00081_PiMinusPiEgGfExptQ31.h5', 'S:\\\\QRAM\\\\qram_4QR2\\\\data\\\\data_241025\\\\00082_PiMinusPiEgGfExptQ31.h5', 'S:\\\\QRAM\\\\qram_4QR2\\\\data\\\\data_241025\\\\00083_PiMinusPiEgGfExptQ31.h5', 'S:\\\\QRAM\\\\qram_4QR2\\\\data\\\\data_241025\\\\00084_PiMinusPiEgGfExptQ31.h5', 'S:\\\\QRAM\\\\qram_4QR2\\\\data\\\\data_241025\\\\00085_PiMinusPiEgGfExptQ31.h5', 'S:\\\\QRAM\\\\qram_4QR2\\\\data\\\\data_241025\\\\00086_PiMinusPiEgGfExptQ31.h5', 'S:\\\\QRAM\\\\qram_4QR2\\\\data\\\\data_241025\\\\00087_PiMinusPiEgGfExptQ31.h5', 'S:\\\\QRAM\\\\qram_4QR2\\\\data\\\\data_241025\\\\00088_PiMinusPiEgGfExptQ31.h5', 'S:\\\\QRAM\\\\qram_4QR2\\\\data\\\\data_241025\\\\00089_PiMinusPiEgGfExptQ31.h5', 'S:\\\\QRAM\\\\qram_4QR2\\\\data\\\\data_241025\\\\00090_PiMinusPiEgGfExptQ31.h5', 'S:\\\\QRAM\\\\qram_4QR2\\\\data\\\\data_241025\\\\00091_PiMinusPiEgGfExptQ31.h5', 'S:\\\\QRAM\\\\qram_4QR2\\\\data\\\\data_241025\\\\00092_PiMinusPiEgGfExptQ31.h5', 'S:\\\\QRAM\\\\qram_4QR2\\\\data\\\\data_241025\\\\00093_PiMinusPiEgGfExptQ31.h5', 'S:\\\\QRAM\\\\qram_4QR2\\\\data\\\\data_241025\\\\00094_PiMinusPiEgGfExptQ31.h5', 'S:\\\\QRAM\\\\qram_4QR2\\\\data\\\\data_241025\\\\00095_PiMinusPiEgGfExptQ31.h5', 'S:\\\\QRAM\\\\qram_4QR2\\\\data\\\\data_241025\\\\00096_PiMinusPiEgGfExptQ31.h5', 'S:\\\\QRAM\\\\qram_4QR2\\\\data\\\\data_241025\\\\00097_PiMinusPiEgGfExptQ31.h5', 'S:\\\\QRAM\\\\qram_4QR2\\\\data\\\\data_241025\\\\00098_PiMinusPiEgGfExptQ31.h5', 'S:\\\\QRAM\\\\qram_4QR2\\\\data\\\\data_241025\\\\00099_PiMinusPiEgGfExptQ31.h5', 'S:\\\\QRAM\\\\qram_4QR2\\\\data\\\\data_241025\\\\00100_PiMinusPiEgGfExptQ31.h5', 'S:\\\\QRAM\\\\qram_4QR2\\\\data\\\\data_241025\\\\00101_PiMinusPiEgGfExptQ31.h5', 'S:\\\\QRAM\\\\qram_4QR2\\\\data\\\\data_241025\\\\00102_PiMinusPiEgGfExptQ31.h5', 'S:\\\\QRAM\\\\qram_4QR2\\\\data\\\\data_241025\\\\00103_PiMinusPiEgGfExptQ31.h5', 'S:\\\\QRAM\\\\qram_4QR2\\\\data\\\\data_241025\\\\00104_PiMinusPiEgGfExptQ31.h5', 'S:\\\\QRAM\\\\qram_4QR2\\\\data\\\\data_241025\\\\00105_PiMinusPiEgGfExptQ31.h5', 'S:\\\\QRAM\\\\qram_4QR2\\\\data\\\\data_241025\\\\00106_PiMinusPiEgGfExptQ31.h5', 'S:\\\\QRAM\\\\qram_4QR2\\\\data\\\\data_241025\\\\00107_PiMinusPiEgGfExptQ31.h5', 'S:\\\\QRAM\\\\qram_4QR2\\\\data\\\\data_241025\\\\00108_PiMinusPiEgGfExptQ31.h5', 'S:\\\\QRAM\\\\qram_4QR2\\\\data\\\\data_241025\\\\00109_PiMinusPiEgGfExptQ31.h5', 'S:\\\\QRAM\\\\qram_4QR2\\\\data\\\\data_241025\\\\00110_PiMinusPiEgGfExptQ31.h5', 'S:\\\\QRAM\\\\qram_4QR2\\\\data\\\\data_241025\\\\00111_PiMinusPiEgGfExptQ31.h5', 'S:\\\\QRAM\\\\qram_4QR2\\\\data\\\\data_241025\\\\00112_PiMinusPiEgGfExptQ31.h5', 'S:\\\\QRAM\\\\qram_4QR2\\\\data\\\\data_241025\\\\00113_PiMinusPiEgGfExptQ31.h5', 'S:\\\\QRAM\\\\qram_4QR2\\\\data\\\\data_241025\\\\00114_PiMinusPiEgGfExptQ31.h5']\n",
      "saved_files_error_amp=['S:\\\\QRAM\\\\qram_4QR2\\\\data\\\\data_241025\\\\00074_NPulseExptEgGfQ31.h5', 'S:\\\\QRAM\\\\qram_4QR2\\\\data\\\\data_241025\\\\00075_NPulseExptEgGfQ31.h5', 'S:\\\\QRAM\\\\qram_4QR2\\\\data\\\\data_241025\\\\00076_NPulseExptEgGfQ31.h5', 'S:\\\\QRAM\\\\qram_4QR2\\\\data\\\\data_241025\\\\00077_NPulseExptEgGfQ31.h5', 'S:\\\\QRAM\\\\qram_4QR2\\\\data\\\\data_241025\\\\00078_NPulseExptEgGfQ31.h5', 'S:\\\\QRAM\\\\qram_4QR2\\\\data\\\\data_241025\\\\00079_NPulseExptEgGfQ31.h5', 'S:\\\\QRAM\\\\qram_4QR2\\\\data\\\\data_241025\\\\00080_NPulseExptEgGfQ31.h5', 'S:\\\\QRAM\\\\qram_4QR2\\\\data\\\\data_241025\\\\00081_NPulseExptEgGfQ31.h5', 'S:\\\\QRAM\\\\qram_4QR2\\\\data\\\\data_241025\\\\00082_NPulseExptEgGfQ31.h5', 'S:\\\\QRAM\\\\qram_4QR2\\\\data\\\\data_241025\\\\00083_NPulseExptEgGfQ31.h5', 'S:\\\\QRAM\\\\qram_4QR2\\\\data\\\\data_241025\\\\00084_NPulseExptEgGfQ31.h5', 'S:\\\\QRAM\\\\qram_4QR2\\\\data\\\\data_241025\\\\00085_NPulseExptEgGfQ31.h5', 'S:\\\\QRAM\\\\qram_4QR2\\\\data\\\\data_241025\\\\00086_NPulseExptEgGfQ31.h5', 'S:\\\\QRAM\\\\qram_4QR2\\\\data\\\\data_241025\\\\00087_NPulseExptEgGfQ31.h5', 'S:\\\\QRAM\\\\qram_4QR2\\\\data\\\\data_241025\\\\00088_NPulseExptEgGfQ31.h5', 'S:\\\\QRAM\\\\qram_4QR2\\\\data\\\\data_241025\\\\00089_NPulseExptEgGfQ31.h5', 'S:\\\\QRAM\\\\qram_4QR2\\\\data\\\\data_241025\\\\00090_NPulseExptEgGfQ31.h5', 'S:\\\\QRAM\\\\qram_4QR2\\\\data\\\\data_241025\\\\00091_NPulseExptEgGfQ31.h5', 'S:\\\\QRAM\\\\qram_4QR2\\\\data\\\\data_241025\\\\00092_NPulseExptEgGfQ31.h5', 'S:\\\\QRAM\\\\qram_4QR2\\\\data\\\\data_241025\\\\00093_NPulseExptEgGfQ31.h5', 'S:\\\\QRAM\\\\qram_4QR2\\\\data\\\\data_241025\\\\00094_NPulseExptEgGfQ31.h5', 'S:\\\\QRAM\\\\qram_4QR2\\\\data\\\\data_241025\\\\00095_NPulseExptEgGfQ31.h5', 'S:\\\\QRAM\\\\qram_4QR2\\\\data\\\\data_241025\\\\00096_NPulseExptEgGfQ31.h5', 'S:\\\\QRAM\\\\qram_4QR2\\\\data\\\\data_241025\\\\00097_NPulseExptEgGfQ31.h5', 'S:\\\\QRAM\\\\qram_4QR2\\\\data\\\\data_241025\\\\00098_NPulseExptEgGfQ31.h5', 'S:\\\\QRAM\\\\qram_4QR2\\\\data\\\\data_241025\\\\00099_NPulseExptEgGfQ31.h5', 'S:\\\\QRAM\\\\qram_4QR2\\\\data\\\\data_241025\\\\00100_NPulseExptEgGfQ31.h5', 'S:\\\\QRAM\\\\qram_4QR2\\\\data\\\\data_241025\\\\00101_NPulseExptEgGfQ31.h5', 'S:\\\\QRAM\\\\qram_4QR2\\\\data\\\\data_241025\\\\00102_NPulseExptEgGfQ31.h5', 'S:\\\\QRAM\\\\qram_4QR2\\\\data\\\\data_241025\\\\00103_NPulseExptEgGfQ31.h5', 'S:\\\\QRAM\\\\qram_4QR2\\\\data\\\\data_241025\\\\00104_NPulseExptEgGfQ31.h5', 'S:\\\\QRAM\\\\qram_4QR2\\\\data\\\\data_241025\\\\00105_NPulseExptEgGfQ31.h5', 'S:\\\\QRAM\\\\qram_4QR2\\\\data\\\\data_241025\\\\00106_NPulseExptEgGfQ31.h5', 'S:\\\\QRAM\\\\qram_4QR2\\\\data\\\\data_241025\\\\00107_NPulseExptEgGfQ31.h5', 'S:\\\\QRAM\\\\qram_4QR2\\\\data\\\\data_241025\\\\00108_NPulseExptEgGfQ31.h5']\n"
     ]
    }
   ],
   "source": [
    "print(f'gain_sweep={np.array(gain_sweep).tolist()}')\n",
    "print(f'new_opt_lens (fine length rabi)={new_opt_lens}')\n",
    "print(f'new_opt_lens2 (error amp)={new_opt_lens2}')\n",
    "print(f'opt_freqs (initial guess)={opt_freqs}')\n",
    "print(f'new_opt_freqs={new_opt_freqs}')\n",
    "print(f'saved_files_lengthrabi={saved_files_lengthrabi}')\n",
    "print(f'saved_files_piminuspi={saved_files_piminuspi}')\n",
    "print(f'saved_files_error_amp={saved_files_error_amp}')\n",
    "\n",
    "plt.figure(figsize=(8, 6))\n",
    "plt.plot(gain_sweep, new_opt_lens, '.-', label='Length Rabi Fine')\n",
    "plt.plot(gain_sweep, new_opt_lens2, '.-', label='Error Amplfication')\n",
    "plt.xlabel('Gain')\n",
    "plt.ylabel('Length (us)')\n",
    "plt.legend()\n",
    "plt.title(f'Q{qubits[0]}Q{qubits[1]}')\n",
    "plt.show()\n",
    "\n",
    "plt.figure(figsize=(8, 6))\n",
    "plt.plot(gain_sweep, opt_freqs, '.-', label='Guess freq')\n",
    "plt.plot(gain_sweep, new_opt_freqs, '.-', label='$\\pi/-\\pi$ freq')\n",
    "plt.xlabel('Gain')\n",
    "plt.ylabel('Frequency (MHz)')\n",
    "plt.legend()\n",
    "plt.title(f'Q{qubits[0]}Q{qubits[1]}')\n",
    "plt.show()\n"
   ]
  },
  {
   "cell_type": "markdown",
   "metadata": {},
   "source": [
    "#### Q2/Q1"
   ]
  },
  {
   "cell_type": "code",
   "execution_count": 281,
   "metadata": {},
   "outputs": [],
   "source": [
    "qubits = [2, 1] # order doesn't matter if you specify qDrive correctly\n",
    "init_state = '|0>|1>'\n",
    "wrong_init_state = '|1>|1>'\n",
    "setup_ZZ = None\n",
    "# measure_qubits = [qubits[0], qubits[1], 3]\n",
    "measure_qubits = qubits\n",
    "qDrive = qubits[0] # normal new protocol"
   ]
  },
  {
   "cell_type": "code",
   "execution_count": 256,
   "metadata": {},
   "outputs": [],
   "source": [
    "do_length_rabi = do_piminuspi = do_error_amp = False\n",
    "\n",
    "do_length_rabi = True\n",
    "do_piminuspi = True\n",
    "do_error_amp = True\n",
    "\n",
    "# put an override=True flag to force skipping certain qubits\n",
    "\n",
    "save_files = True\n",
    "\n",
    "good_data = False\n",
    "\n",
    "full_mux_expt = True"
   ]
  },
  {
   "cell_type": "code",
   "execution_count": 257,
   "metadata": {},
   "outputs": [],
   "source": [
    "import yaml\n",
    "with open(config_path, 'r') as cfg_file:\n",
    "    yaml_cfg = yaml.safe_load(cfg_file)\n",
    "yaml_cfg = AttrDict(yaml_cfg)"
   ]
  },
  {
   "cell_type": "code",
   "execution_count": 282,
   "metadata": {},
   "outputs": [],
   "source": [
    "# Input the freqs fitted from the amp rabi chevron and the gain sweep used in that chevron\n",
    "\n",
    "fit_gain_sweep = [7000, 8250, 9500, 10750, 12000, 13250, 14500, 15750, 17000, 18250, 19500, 20750, 22000, 23250, 24500, 25750, 27000, 28250, 29500, 30750]\n",
    "fit_freqs = [5886.920812812547, 5886.574424656669, 5886.216904980197, 5885.8482537831305, 5885.468471065471, 5885.077556827218, 5884.675511068372, 5884.262333788931, 5883.838024988897, 5883.40258466827, 5882.956012827049, 5882.498309465234, 5882.029474582826, 5881.549508179824, 5881.058410256229, 5880.55618081204, 5880.042819847257, 5879.518327361881, 5878.982703355911, 5878.435947829348]\n",
    "\n",
    "\n",
    "# Fit those to a quadratic function and use this to extrapolate frequencies for the gain sweep of the actual experiment\n",
    "fitparams = [fit_gain_sweep[0], fit_freqs[0], fit_freqs[-1] - fit_freqs[0]]\n",
    "p, pCov = meas.fitting.fitquadratic(fit_gain_sweep, fit_freqs, fitparams=fitparams)"
   ]
  },
  {
   "cell_type": "code",
   "execution_count": 283,
   "metadata": {},
   "outputs": [
    {
     "name": "stdout",
     "output_type": "stream",
     "text": [
      "gain_sweep\n",
      " [ 7000.          7735.29411765  8470.58823529  9205.88235294\n",
      "  9941.17647059 10676.47058824 11411.76470588 12147.05882353\n",
      " 12882.35294118 13617.64705882 14352.94117647 15088.23529412\n",
      " 15823.52941176 16558.82352941 17294.11764706 18029.41176471\n",
      " 18764.70588235 19500.         20235.29411765 20970.58823529\n",
      " 21705.88235294 22441.17647059 23176.47058824 23911.76470588\n",
      " 24647.05882353 25382.35294118 26117.64705882 26852.94117647\n",
      " 27588.23529412 28323.52941176 29058.82352941 29794.11764706\n",
      " 30529.41176471 31264.70588235 32000.        ]\n",
      "approx len for each gain (us)\n",
      " [0.8        0.78235294 0.76470588 0.74705882 0.72941176 0.71176471\n",
      " 0.69411765 0.67647059 0.65882353 0.64117647 0.62352941 0.60588235\n",
      " 0.58823529 0.57058824 0.55294118 0.53529412 0.51764706 0.5\n",
      " 0.48235294 0.46470588 0.44705882 0.42941176 0.41176471 0.39411765\n",
      " 0.37647059 0.35882353 0.34117647 0.32352941 0.30588235 0.28823529\n",
      " 0.27058824 0.25294118 0.23529412 0.21764706 0.2       ]\n",
      "approx freq for each gain\n",
      " [5886.920812812548, 5886.718403181826, 5886.512141813874, 5886.302028708694, 5886.088063866283, 5885.870247286643, 5885.648578969773, 5885.423058915673, 5885.193687124344, 5884.960463595785, 5884.723388329997, 5884.482461326978, 5884.237682586731, 5883.989052109254, 5883.736569894547, 5883.48023594261, 5883.220050253444, 5882.956012827049, 5882.6881236634235, 5882.416382762569, 5882.140790124484, 5881.86134574917, 5881.578049636626, 5881.290901786853, 5880.99990219985, 5880.705050875617, 5880.406347814155, 5880.103793015463, 5879.797386479542, 5879.4871282063905, 5879.17301819601, 5878.8550564484, 5878.53324296356, 5878.20757774149, 5877.878060782192]\n",
      "qubits [2, 1]\n"
     ]
    }
   ],
   "source": [
    "npts = 35\n",
    "# npts = 3\n",
    "\n",
    "gain_sweep = np.linspace(7000, 32000, npts)\n",
    "print('gain_sweep\\n', gain_sweep)\n",
    "\n",
    "# Guess the approximate lengths corresponding to the gain sweep\n",
    "opt_lens = np.linspace(0.8, 0.200, npts)\n",
    "print('approx len for each gain (us)\\n', opt_lens)\n",
    "\n",
    "# Calculate the approximate frequencies corresponding to the gain sweep using the fit \n",
    "opt_freqs = meas.fitting.quadraticfunc(gain_sweep, *p)\n",
    "print('approx freq for each gain\\n', opt_freqs.tolist())\n",
    "\n",
    "print('qubits', qubits)\n",
    "\n",
    "save_files = True\n",
    "new_opt_lens = []\n",
    "new_opt_lens2 = []\n",
    "new_opt_freqs = []\n",
    "\n",
    "saved_files_lengthrabi = []\n",
    "saved_files_piminuspi = []\n",
    "saved_files_error_amp = []\n",
    "\n",
    "# opt_fit_index = 1 # index of [QA I, QA Q, QB I, QB Q] to use as saved optimal\n",
    "signs = [1, 1, 1, 1] # whether the period occurs at the max (1) or min (-1)\n",
    "\n",
    "opt_fit_index = 0 # index of [QA amps, QB amps] to use as saved optimal"
   ]
  },
  {
   "cell_type": "code",
   "execution_count": null,
   "metadata": {},
   "outputs": [],
   "source": [
    "# signs = [1, -1, -1, 1] # whether the period occurs at the max (1) or min (-1)\n",
    "# opt_fit_index = 1\n",
    "\n",
    "if not save_files: print('WARNING: NOT SAVING FILES!')\n",
    "for i_gain, gain in enumerate(gain_sweep):\n",
    "    # if i_gain != 7 and i_gain != 12: continue \n",
    "    # if gain < 15822: continue\n",
    "    # if i_gain not in [3]: continue\n",
    "\n",
    "    override = False\n",
    "\n",
    "    print(f'----------- STARTING GAIN {gain} -----------')\n",
    "    pi_len = opt_lens[i_gain]\n",
    "    pi_freq = opt_freqs[i_gain]\n",
    "\n",
    "    # ----- Length rabi ----- #\n",
    "    # if gain > 15822 and gain < 15830:\n",
    "    #     override = True\n",
    "    #     pi_len = yaml_cfg.device.qubit.pulses.pi_EgGf_Q.sigma[qDrive]\n",
    "    if do_length_rabi and not override:\n",
    "        pi_len = run_swap_length_rabi(qDrive, yaml_cfg, gain=gain, opt_len=pi_len, opt_freq=pi_freq, save_data=save_files, saved_files=saved_files_lengthrabi, good_data=good_data)\n",
    "        yaml_cfg.device.qubit.pulses.pi_EgGf_Q.sigma[qDrive] = pi_len\n",
    "        if len(new_opt_lens) > i_gain:\n",
    "            new_opt_lens[i_gain] = pi_len\n",
    "            print(f'for gain {gain} updated swap pi len from length rabi', pi_len)\n",
    "        else:\n",
    "            new_opt_lens.append(pi_len)\n",
    "            print(f'for gain {gain} added swap pi len from length rabi', pi_len)\n",
    "    override = False\n",
    "\n",
    "    # ----- Pi minus pi----- #\n",
    "    # if gain > 15822 and gain < 15830:\n",
    "    #     override = True\n",
    "    #     pi_freq = yaml_cfg.device.qubit.f_EgGf_Q[qDrive]\n",
    "    if do_piminuspi and not override:\n",
    "        pi_freq = run_swap_piminuspi(qDrive, yaml_cfg, gain=gain, opt_len=pi_len, opt_freq=pi_freq, save_data=save_files, saved_files=saved_files_piminuspi, good_data=good_data)\n",
    "        yaml_cfg.device.qubit.f_EgGf_Q[qDrive] = pi_freq\n",
    "        if len(new_opt_freqs) > i_gain:\n",
    "            new_opt_freqs[i_gain] = pi_freq\n",
    "            print(f'for gain {gain} updated swap pi freq from pi minus pi', pi_freq)\n",
    "        else:\n",
    "            new_opt_freqs.append(pi_freq)\n",
    "            print(f'for gain {gain} added swap pi freq from pi minus pi', pi_freq)\n",
    "    override = False\n",
    "\n",
    "    # ----- Error amplification ----- #\n",
    "    if do_error_amp and not override:\n",
    "        pi_len = run_swap_error_amp(qDrive, yaml_cfg, gain=gain, opt_len=pi_len, opt_freq=pi_freq, save_data=save_files, saved_files=saved_files_error_amp, good_data=good_data)\n",
    "        yaml_cfg.device.qubit.pulses.pi_EgGf_Q.sigma[qDrive] = pi_len\n",
    "        if len(new_opt_lens2) > i_gain:\n",
    "            new_opt_lens2[i_gain] = pi_len\n",
    "            print(f'for gain {gain} updated swap pi len from error amplification', pi_len)\n",
    "        else:\n",
    "            new_opt_lens2.append(pi_len)\n",
    "            print(f'for gain {gain} added swap pi len from error amplification', pi_len)\n",
    "    override = False"
   ]
  },
  {
   "cell_type": "code",
   "execution_count": 285,
   "metadata": {},
   "outputs": [
    {
     "name": "stdout",
     "output_type": "stream",
     "text": [
      "gain_sweep=[7000.0, 7735.294117647059, 8470.588235294117, 9205.882352941177, 9941.176470588234, 10676.470588235294, 11411.764705882353, 12147.058823529413, 12882.35294117647, 13617.647058823528, 14352.941176470587, 15088.235294117647, 15823.529411764706, 16558.823529411762, 17294.117647058825, 18029.41176470588, 18764.70588235294, 19500.0, 20235.294117647056, 20970.58823529412, 21705.882352941175, 22441.176470588234, 23176.470588235294, 23911.764705882353, 24647.058823529413, 25382.35294117647, 26117.647058823528, 26852.941176470587, 27588.235294117647, 28323.529411764706, 29058.823529411762, 29794.11764705882, 30529.41176470588, 31264.70588235294, 32000.0]\n",
      "new_opt_lens (fine length rabi)=[0.7551239093046654, 0.6841479731244767, 0.6275001503092276, 0.5669566522159952, 0.5308897893476424, 0.4978362712054547, 0.4643897587775583, 0.43786703113732595, 0.416922617082625, 0.38595555696084344, 0.37614621627789785, 0.35692815474218886, 0.3491386237382832, 0.33709539769594443, 0.31154678056477986, 0.31491770611885694, 0.3013771258416878, 0.28994852008540145, 0.28122361946807545, 0.26948614003814264, 0.26495506681952924, 0.258642681296945, 0.2550232806632605, 0.24963686361685353, 0.24370994384587785, 0.24065139570587557, 0.23481317377514577, 0.23280041446169028, 0.22814965896961012, 0.22742813898209824, 0.22466524500343352, 0.21983211020512344, 0.21832471014016167, 0.21511976893834667, 0.2132779318984891]\n",
      "new_opt_lens2 (error amp)=[0.7483775522510219, 0.6810580910473285, 0.6232488874237956, 0.5710811563305859, 0.5336321373105744, 0.502477763400806, 0.46827546441539536, 0.44193131519875684, 0.4192130834099241, 0.39319056406800096, 0.37979579309938755, 0.3621777716832878, 0.35354293858873814, 0.33682379587539135, 0.32147346568431867, 0.3145046495873327, 0.30616661142363955, 0.2953218350964056, 0.28722930240555794, 0.2766293763842703, 0.27193328273050726, 0.26636580698161355, 0.2615788689124485, 0.25544388051556954, 0.2513829023888658, 0.2482639260947562, 0.24195126335430306, 0.23941970191389847, 0.23596914189911483, 0.23419778982563877, 0.23487397113550215, 0.22671506108674308, 0.2265472992033885, 0.2231754286391354, 0.22381249781504373]\n",
      "opt_freqs (initial guess)=[5886.920812812548, 5886.718403181826, 5886.512141813874, 5886.302028708694, 5886.088063866283, 5885.870247286643, 5885.648578969773, 5885.423058915673, 5885.193687124344, 5884.960463595785, 5884.723388329997, 5884.482461326978, 5884.237682586731, 5883.989052109254, 5883.736569894547, 5883.48023594261, 5883.220050253444, 5882.956012827049, 5882.6881236634235, 5882.416382762569, 5882.140790124484, 5881.86134574917, 5881.578049636626, 5881.290901786853, 5880.99990219985, 5880.705050875617, 5880.406347814155, 5880.103793015463, 5879.797386479542, 5879.4871282063905, 5879.17301819601, 5878.8550564484, 5878.53324296356, 5878.20757774149, 5877.878060782192]\n",
      "new_opt_freqs=[5886.902822953964, 5886.754089017005, 5886.589402755899, 5886.416056171995, 5886.224764171905, 5886.019080915752, 5885.808738920236, 5885.585546008087, 5885.346520098976, 5885.109291119816, 5884.837917049513, 5884.57419755289, 5884.29812359889, 5884.017408547941, 5883.771504855529, 5883.450186203751, 5883.164664527816, 5882.872121678602, 5882.5805042052525, 5882.301417346907, 5881.995219708142, 5881.719092371096, 5881.407520434077, 5881.117006614939, 5880.835595481339, 5880.533920726679, 5880.243370036971, 5879.930616524965, 5879.62410518735, 5879.276838436835, 5878.961950563587, 5878.665728998478, 5878.348229475893, 5878.064804949598, 5877.762643213729]\n",
      "saved_files_lengthrabi=['S:\\\\QRAM\\\\qram_4QR2\\\\data\\\\data_241025\\\\00048_length_rabi_EgGf_qubit21.h5', 'S:\\\\QRAM\\\\qram_4QR2\\\\data\\\\data_241025\\\\00049_length_rabi_EgGf_qubit21.h5', 'S:\\\\QRAM\\\\qram_4QR2\\\\data\\\\data_241025\\\\00050_length_rabi_EgGf_qubit21.h5', 'S:\\\\QRAM\\\\qram_4QR2\\\\data\\\\data_241025\\\\00051_length_rabi_EgGf_qubit21.h5', 'S:\\\\QRAM\\\\qram_4QR2\\\\data\\\\data_241025\\\\00052_length_rabi_EgGf_qubit21.h5', 'S:\\\\QRAM\\\\qram_4QR2\\\\data\\\\data_241025\\\\00053_length_rabi_EgGf_qubit21.h5', 'S:\\\\QRAM\\\\qram_4QR2\\\\data\\\\data_241025\\\\00054_length_rabi_EgGf_qubit21.h5', 'S:\\\\QRAM\\\\qram_4QR2\\\\data\\\\data_241025\\\\00055_length_rabi_EgGf_qubit21.h5', 'S:\\\\QRAM\\\\qram_4QR2\\\\data\\\\data_241025\\\\00056_length_rabi_EgGf_qubit21.h5', 'S:\\\\QRAM\\\\qram_4QR2\\\\data\\\\data_241025\\\\00057_length_rabi_EgGf_qubit21.h5', 'S:\\\\QRAM\\\\qram_4QR2\\\\data\\\\data_241025\\\\00058_length_rabi_EgGf_qubit21.h5', 'S:\\\\QRAM\\\\qram_4QR2\\\\data\\\\data_241025\\\\00059_length_rabi_EgGf_qubit21.h5', 'S:\\\\QRAM\\\\qram_4QR2\\\\data\\\\data_241025\\\\00060_length_rabi_EgGf_qubit21.h5', 'S:\\\\QRAM\\\\qram_4QR2\\\\data\\\\data_241025\\\\00061_length_rabi_EgGf_qubit21.h5', 'S:\\\\QRAM\\\\qram_4QR2\\\\data\\\\data_241025\\\\00062_length_rabi_EgGf_qubit21.h5', 'S:\\\\QRAM\\\\qram_4QR2\\\\data\\\\data_241025\\\\00063_length_rabi_EgGf_qubit21.h5', 'S:\\\\QRAM\\\\qram_4QR2\\\\data\\\\data_241025\\\\00064_length_rabi_EgGf_qubit21.h5', 'S:\\\\QRAM\\\\qram_4QR2\\\\data\\\\data_241025\\\\00065_length_rabi_EgGf_qubit21.h5', 'S:\\\\QRAM\\\\qram_4QR2\\\\data\\\\data_241025\\\\00066_length_rabi_EgGf_qubit21.h5', 'S:\\\\QRAM\\\\qram_4QR2\\\\data\\\\data_241025\\\\00067_length_rabi_EgGf_qubit21.h5', 'S:\\\\QRAM\\\\qram_4QR2\\\\data\\\\data_241025\\\\00068_length_rabi_EgGf_qubit21.h5', 'S:\\\\QRAM\\\\qram_4QR2\\\\data\\\\data_241025\\\\00069_length_rabi_EgGf_qubit21.h5', 'S:\\\\QRAM\\\\qram_4QR2\\\\data\\\\data_241025\\\\00070_length_rabi_EgGf_qubit21.h5', 'S:\\\\QRAM\\\\qram_4QR2\\\\data\\\\data_241025\\\\00071_length_rabi_EgGf_qubit21.h5', 'S:\\\\QRAM\\\\qram_4QR2\\\\data\\\\data_241025\\\\00072_length_rabi_EgGf_qubit21.h5', 'S:\\\\QRAM\\\\qram_4QR2\\\\data\\\\data_241025\\\\00073_length_rabi_EgGf_qubit21.h5', 'S:\\\\QRAM\\\\qram_4QR2\\\\data\\\\data_241025\\\\00074_length_rabi_EgGf_qubit21.h5', 'S:\\\\QRAM\\\\qram_4QR2\\\\data\\\\data_241025\\\\00075_length_rabi_EgGf_qubit21.h5', 'S:\\\\QRAM\\\\qram_4QR2\\\\data\\\\data_241025\\\\00076_length_rabi_EgGf_qubit21.h5', 'S:\\\\QRAM\\\\qram_4QR2\\\\data\\\\data_241025\\\\00077_length_rabi_EgGf_qubit21.h5', 'S:\\\\QRAM\\\\qram_4QR2\\\\data\\\\data_241025\\\\00078_length_rabi_EgGf_qubit21.h5', 'S:\\\\QRAM\\\\qram_4QR2\\\\data\\\\data_241025\\\\00079_length_rabi_EgGf_qubit21.h5', 'S:\\\\QRAM\\\\qram_4QR2\\\\data\\\\data_241025\\\\00080_length_rabi_EgGf_qubit21.h5', 'S:\\\\QRAM\\\\qram_4QR2\\\\data\\\\data_241025\\\\00081_length_rabi_EgGf_qubit21.h5', 'S:\\\\QRAM\\\\qram_4QR2\\\\data\\\\data_241025\\\\00082_length_rabi_EgGf_qubit21.h5']\n",
      "saved_files_piminuspi=['S:\\\\QRAM\\\\qram_4QR2\\\\data\\\\data_241025\\\\00040_PiMinusPiEgGfExptQ21.h5', 'S:\\\\QRAM\\\\qram_4QR2\\\\data\\\\data_241025\\\\00041_PiMinusPiEgGfExptQ21.h5', 'S:\\\\QRAM\\\\qram_4QR2\\\\data\\\\data_241025\\\\00042_PiMinusPiEgGfExptQ21.h5', 'S:\\\\QRAM\\\\qram_4QR2\\\\data\\\\data_241025\\\\00043_PiMinusPiEgGfExptQ21.h5', 'S:\\\\QRAM\\\\qram_4QR2\\\\data\\\\data_241025\\\\00044_PiMinusPiEgGfExptQ21.h5', 'S:\\\\QRAM\\\\qram_4QR2\\\\data\\\\data_241025\\\\00045_PiMinusPiEgGfExptQ21.h5', 'S:\\\\QRAM\\\\qram_4QR2\\\\data\\\\data_241025\\\\00046_PiMinusPiEgGfExptQ21.h5', 'S:\\\\QRAM\\\\qram_4QR2\\\\data\\\\data_241025\\\\00047_PiMinusPiEgGfExptQ21.h5', 'S:\\\\QRAM\\\\qram_4QR2\\\\data\\\\data_241025\\\\00048_PiMinusPiEgGfExptQ21.h5', 'S:\\\\QRAM\\\\qram_4QR2\\\\data\\\\data_241025\\\\00049_PiMinusPiEgGfExptQ21.h5', 'S:\\\\QRAM\\\\qram_4QR2\\\\data\\\\data_241025\\\\00050_PiMinusPiEgGfExptQ21.h5', 'S:\\\\QRAM\\\\qram_4QR2\\\\data\\\\data_241025\\\\00051_PiMinusPiEgGfExptQ21.h5', 'S:\\\\QRAM\\\\qram_4QR2\\\\data\\\\data_241025\\\\00052_PiMinusPiEgGfExptQ21.h5', 'S:\\\\QRAM\\\\qram_4QR2\\\\data\\\\data_241025\\\\00053_PiMinusPiEgGfExptQ21.h5', 'S:\\\\QRAM\\\\qram_4QR2\\\\data\\\\data_241025\\\\00054_PiMinusPiEgGfExptQ21.h5', 'S:\\\\QRAM\\\\qram_4QR2\\\\data\\\\data_241025\\\\00055_PiMinusPiEgGfExptQ21.h5', 'S:\\\\QRAM\\\\qram_4QR2\\\\data\\\\data_241025\\\\00056_PiMinusPiEgGfExptQ21.h5', 'S:\\\\QRAM\\\\qram_4QR2\\\\data\\\\data_241025\\\\00057_PiMinusPiEgGfExptQ21.h5', 'S:\\\\QRAM\\\\qram_4QR2\\\\data\\\\data_241025\\\\00058_PiMinusPiEgGfExptQ21.h5', 'S:\\\\QRAM\\\\qram_4QR2\\\\data\\\\data_241025\\\\00059_PiMinusPiEgGfExptQ21.h5', 'S:\\\\QRAM\\\\qram_4QR2\\\\data\\\\data_241025\\\\00060_PiMinusPiEgGfExptQ21.h5', 'S:\\\\QRAM\\\\qram_4QR2\\\\data\\\\data_241025\\\\00061_PiMinusPiEgGfExptQ21.h5', 'S:\\\\QRAM\\\\qram_4QR2\\\\data\\\\data_241025\\\\00062_PiMinusPiEgGfExptQ21.h5', 'S:\\\\QRAM\\\\qram_4QR2\\\\data\\\\data_241025\\\\00063_PiMinusPiEgGfExptQ21.h5', 'S:\\\\QRAM\\\\qram_4QR2\\\\data\\\\data_241025\\\\00064_PiMinusPiEgGfExptQ21.h5', 'S:\\\\QRAM\\\\qram_4QR2\\\\data\\\\data_241025\\\\00065_PiMinusPiEgGfExptQ21.h5', 'S:\\\\QRAM\\\\qram_4QR2\\\\data\\\\data_241025\\\\00066_PiMinusPiEgGfExptQ21.h5', 'S:\\\\QRAM\\\\qram_4QR2\\\\data\\\\data_241025\\\\00067_PiMinusPiEgGfExptQ21.h5', 'S:\\\\QRAM\\\\qram_4QR2\\\\data\\\\data_241025\\\\00068_PiMinusPiEgGfExptQ21.h5', 'S:\\\\QRAM\\\\qram_4QR2\\\\data\\\\data_241025\\\\00069_PiMinusPiEgGfExptQ21.h5', 'S:\\\\QRAM\\\\qram_4QR2\\\\data\\\\data_241025\\\\00070_PiMinusPiEgGfExptQ21.h5', 'S:\\\\QRAM\\\\qram_4QR2\\\\data\\\\data_241025\\\\00071_PiMinusPiEgGfExptQ21.h5', 'S:\\\\QRAM\\\\qram_4QR2\\\\data\\\\data_241025\\\\00072_PiMinusPiEgGfExptQ21.h5', 'S:\\\\QRAM\\\\qram_4QR2\\\\data\\\\data_241025\\\\00073_PiMinusPiEgGfExptQ21.h5', 'S:\\\\QRAM\\\\qram_4QR2\\\\data\\\\data_241025\\\\00074_PiMinusPiEgGfExptQ21.h5']\n",
      "saved_files_error_amp=['S:\\\\QRAM\\\\qram_4QR2\\\\data\\\\data_241025\\\\00048_NPulseExptEgGfQ21.h5', 'S:\\\\QRAM\\\\qram_4QR2\\\\data\\\\data_241025\\\\00049_NPulseExptEgGfQ21.h5', 'S:\\\\QRAM\\\\qram_4QR2\\\\data\\\\data_241025\\\\00050_NPulseExptEgGfQ21.h5', 'S:\\\\QRAM\\\\qram_4QR2\\\\data\\\\data_241025\\\\00051_NPulseExptEgGfQ21.h5', 'S:\\\\QRAM\\\\qram_4QR2\\\\data\\\\data_241025\\\\00052_NPulseExptEgGfQ21.h5', 'S:\\\\QRAM\\\\qram_4QR2\\\\data\\\\data_241025\\\\00053_NPulseExptEgGfQ21.h5', 'S:\\\\QRAM\\\\qram_4QR2\\\\data\\\\data_241025\\\\00054_NPulseExptEgGfQ21.h5', 'S:\\\\QRAM\\\\qram_4QR2\\\\data\\\\data_241025\\\\00055_NPulseExptEgGfQ21.h5', 'S:\\\\QRAM\\\\qram_4QR2\\\\data\\\\data_241025\\\\00056_NPulseExptEgGfQ21.h5', 'S:\\\\QRAM\\\\qram_4QR2\\\\data\\\\data_241025\\\\00057_NPulseExptEgGfQ21.h5', 'S:\\\\QRAM\\\\qram_4QR2\\\\data\\\\data_241025\\\\00058_NPulseExptEgGfQ21.h5', 'S:\\\\QRAM\\\\qram_4QR2\\\\data\\\\data_241025\\\\00059_NPulseExptEgGfQ21.h5', 'S:\\\\QRAM\\\\qram_4QR2\\\\data\\\\data_241025\\\\00060_NPulseExptEgGfQ21.h5', 'S:\\\\QRAM\\\\qram_4QR2\\\\data\\\\data_241025\\\\00061_NPulseExptEgGfQ21.h5', 'S:\\\\QRAM\\\\qram_4QR2\\\\data\\\\data_241025\\\\00062_NPulseExptEgGfQ21.h5', 'S:\\\\QRAM\\\\qram_4QR2\\\\data\\\\data_241025\\\\00063_NPulseExptEgGfQ21.h5', 'S:\\\\QRAM\\\\qram_4QR2\\\\data\\\\data_241025\\\\00064_NPulseExptEgGfQ21.h5', 'S:\\\\QRAM\\\\qram_4QR2\\\\data\\\\data_241025\\\\00065_NPulseExptEgGfQ21.h5', 'S:\\\\QRAM\\\\qram_4QR2\\\\data\\\\data_241025\\\\00066_NPulseExptEgGfQ21.h5', 'S:\\\\QRAM\\\\qram_4QR2\\\\data\\\\data_241025\\\\00067_NPulseExptEgGfQ21.h5', 'S:\\\\QRAM\\\\qram_4QR2\\\\data\\\\data_241025\\\\00068_NPulseExptEgGfQ21.h5', 'S:\\\\QRAM\\\\qram_4QR2\\\\data\\\\data_241025\\\\00069_NPulseExptEgGfQ21.h5', 'S:\\\\QRAM\\\\qram_4QR2\\\\data\\\\data_241025\\\\00070_NPulseExptEgGfQ21.h5', 'S:\\\\QRAM\\\\qram_4QR2\\\\data\\\\data_241025\\\\00071_NPulseExptEgGfQ21.h5', 'S:\\\\QRAM\\\\qram_4QR2\\\\data\\\\data_241025\\\\00072_NPulseExptEgGfQ21.h5', 'S:\\\\QRAM\\\\qram_4QR2\\\\data\\\\data_241025\\\\00073_NPulseExptEgGfQ21.h5', 'S:\\\\QRAM\\\\qram_4QR2\\\\data\\\\data_241025\\\\00074_NPulseExptEgGfQ21.h5', 'S:\\\\QRAM\\\\qram_4QR2\\\\data\\\\data_241025\\\\00075_NPulseExptEgGfQ21.h5', 'S:\\\\QRAM\\\\qram_4QR2\\\\data\\\\data_241025\\\\00076_NPulseExptEgGfQ21.h5', 'S:\\\\QRAM\\\\qram_4QR2\\\\data\\\\data_241025\\\\00077_NPulseExptEgGfQ21.h5', 'S:\\\\QRAM\\\\qram_4QR2\\\\data\\\\data_241025\\\\00078_NPulseExptEgGfQ21.h5', 'S:\\\\QRAM\\\\qram_4QR2\\\\data\\\\data_241025\\\\00079_NPulseExptEgGfQ21.h5', 'S:\\\\QRAM\\\\qram_4QR2\\\\data\\\\data_241025\\\\00080_NPulseExptEgGfQ21.h5', 'S:\\\\QRAM\\\\qram_4QR2\\\\data\\\\data_241025\\\\00081_NPulseExptEgGfQ21.h5', 'S:\\\\QRAM\\\\qram_4QR2\\\\data\\\\data_241025\\\\00082_NPulseExptEgGfQ21.h5']\n"
     ]
    }
   ],
   "source": [
    "print(f'gain_sweep={np.array(gain_sweep).tolist()}')\n",
    "print(f'new_opt_lens (fine length rabi)={new_opt_lens}')\n",
    "print(f'new_opt_lens2 (error amp)={new_opt_lens2}')\n",
    "print(f'opt_freqs (initial guess)={opt_freqs}')\n",
    "print(f'new_opt_freqs={new_opt_freqs}')\n",
    "print(f'saved_files_lengthrabi={saved_files_lengthrabi}')\n",
    "print(f'saved_files_piminuspi={saved_files_piminuspi}')\n",
    "print(f'saved_files_error_amp={saved_files_error_amp}')\n",
    "\n",
    "plt.figure(figsize=(8, 6))\n",
    "plt.plot(gain_sweep, new_opt_lens, '.-', label='Length Rabi Fine')\n",
    "plt.plot(gain_sweep, new_opt_lens2, '.-', label='Error Amplfication')\n",
    "plt.xlabel('Gain')\n",
    "plt.ylabel('Length (us)')\n",
    "plt.legend()\n",
    "plt.title(f'Q{qubits[0]}Q{qubits[1]}')\n",
    "plt.show()\n",
    "\n",
    "plt.figure(figsize=(8, 6))\n",
    "plt.plot(gain_sweep, opt_freqs, '.-', label='Guess freq')\n",
    "plt.plot(gain_sweep, new_opt_freqs, '.-', label='$\\pi/-\\pi$ freq')\n",
    "plt.xlabel('Gain')\n",
    "plt.ylabel('Frequency (MHz)')\n",
    "plt.legend()\n",
    "plt.title(f'Q{qubits[0]}Q{qubits[1]}')\n",
    "plt.show()\n"
   ]
  },
  {
   "cell_type": "markdown",
   "metadata": {},
   "source": [
    "### Replot data above"
   ]
  },
  {
   "cell_type": "code",
   "execution_count": 106,
   "metadata": {},
   "outputs": [],
   "source": [
    "saved_files_lengthrabi = saved_files_lengthrabi[20:26]\n",
    "saved_files_piminuspi = saved_files_piminuspi[20:26]\n",
    "saved_files_error_amp = saved_files_error_amp[20:26]"
   ]
  },
  {
   "cell_type": "code",
   "execution_count": 42,
   "metadata": {},
   "outputs": [],
   "source": [
    "# Reconstruct saved files list\n",
    "saved_files_lengthrabi = []\n",
    "saved_files_piminuspi = []\n",
    "saved_files_error_amp = []\n",
    "\n",
    "qubits = [3, 1]\n",
    "\n",
    "start_i = 10\n",
    "stop_i = 14\n",
    "base_path = 's:\\QRAM\\qram_4QR2\\data\\data_241025'\n",
    "filename = f'length_rabi_EgGf_qubit{qubits[0]}{qubits[1]}.h5'\n",
    "for i in range(start_i, stop_i+1):\n",
    "    if i < 10:\n",
    "        saved_files_lengthrabi.append(f'{base_path}\\\\0000{i}_{filename}')\n",
    "    elif i < 100:\n",
    "        saved_files_lengthrabi.append(f'{base_path}\\\\000{i}_{filename}')\n",
    "    else:\n",
    "        saved_files_lengthrabi.append(f'{base_path}\\\\00{i}_{filename}')\n",
    "\n",
    "start_i = 10\n",
    "stop_i = 14\n",
    "filename = f'PiMinusPiEgGfExptQ{qubits[0]}{qubits[1]}.h5'\n",
    "for i in range(start_i, stop_i+1):\n",
    "    if i < 10:\n",
    "        saved_files_piminuspi.append(f'{base_path}\\\\0000{i}_{filename}')\n",
    "    elif i < 100:\n",
    "        saved_files_piminuspi.append(f'{base_path}\\\\000{i}_{filename}')\n",
    "    else:\n",
    "        saved_files_piminuspi.append(f'{base_path}\\\\00{i}_{filename}')\n",
    "\n",
    "start_i = 10\n",
    "stop_i = 14\n",
    "filename = f'NPulseExptEgGfQ{qubits[0]}{qubits[1]}.h5'\n",
    "for i in range(start_i, stop_i+1):\n",
    "    if i < 10:\n",
    "        saved_files_error_amp.append(f'{base_path}\\\\0000{i}_{filename}')\n",
    "    elif i < 100:\n",
    "        saved_files_error_amp.append(f'{base_path}\\\\000{i}_{filename}')\n",
    "    else:\n",
    "        saved_files_error_amp.append(f'{base_path}\\\\00{i}_{filename}')"
   ]
  },
  {
   "cell_type": "code",
   "execution_count": 107,
   "metadata": {
    "tags": []
   },
   "outputs": [
    {
     "name": "stdout",
     "output_type": "stream",
     "text": [
      "00095_length_rabi_EgGf_qubit31.h5\n",
      "S:\\QRAM\\qram_4QR2\\data\\data_241025\\00095_length_rabi_EgGf_qubit31.h5\n"
     ]
    },
    {
     "name": "stderr",
     "output_type": "stream",
     "text": [
      "DeprecationWarning: `product` is deprecated as of NumPy 1.25.0, and will be removed in NumPy 2.0. Please use `prod` instead.\n",
      " C:\\Users\\slab\\AppData\\Local\\Temp\\ipykernel_8888\\1939458940.py: 13"
     ]
    },
    {
     "name": "stdout",
     "output_type": "stream",
     "text": [
      "Extracted data and attrs ['calib_order', 'config']\n",
      "Attempted to init fitparam 0 to 0.0, which is out of bounds 0.0 to 0.0. Instead init to 0.0\n",
      "Attempted to init fitparam 4 to 0.0, which is out of bounds 0.0 to 0.0. Instead init to 0.0\n",
      "Warning: fit failed with error: Each lower bound must be strictly less than each upper bound.\n",
      "Attempted to init fitparam 0 to 0.0, which is out of bounds 0.0 to 0.0. Instead init to 0.0\n",
      "Attempted to init fitparam 4 to 0.0, which is out of bounds 0.0 to 0.0. Instead init to 0.0\n",
      "Warning: fit failed with error: Each lower bound must be strictly less than each upper bound.\n",
      "Pi length from amps data (qubit A) [us]: 0.16388394269244386\n",
      "\tPi/2 length from avgq data (qubit A) [us]: 0.08194197134622193\n",
      "\tDecay time [us]: 5.8504331388453155\n",
      "Pi length from avgq data (qubit A) [us]: 0.331974373907979\n",
      "\tPi/2 length from avgq data (qubit A) [us]: 0.1659871869539895\n",
      "\tDecay time [us]: 0.885264997087944\n",
      "Pi length from amps data (qubit B) [us]: 0.7622872055138735\n",
      "\tPi/2 length from avgq data (qubit B) [us]: 0.38114360275693676\n",
      "\tDecay time [us]: 0.26557949912638323\n",
      "Pi length from avgq data (qubit B) [us]: 0.331974373907979\n",
      "\tPi/2 length from avgq data (qubit B) [us]: 0.1659871869539895\n",
      "\tDecay time [us]: 0.885264997087944\n",
      "max QA amp: 255.72630308305048\n",
      "min QA amp: 88.70867505721345\n",
      "max QB amp: 361.2498442076931\n",
      "min QB amp: 279.30699027217884\n",
      "best 0 0.05262250546607666\n",
      "pi len 0.16388394269244386\n",
      "00096_length_rabi_EgGf_qubit31.h5\n",
      "S:\\QRAM\\qram_4QR2\\data\\data_241025\\00096_length_rabi_EgGf_qubit31.h5\n",
      "Extracted data and attrs ['calib_order', 'config']\n",
      "Attempted to init fitparam 0 to 0.0, which is out of bounds 0.0 to 0.0. Instead init to 0.0\n",
      "Attempted to init fitparam 4 to 0.0, which is out of bounds 0.0 to 0.0. Instead init to 0.0\n",
      "Warning: fit failed with error: Each lower bound must be strictly less than each upper bound.\n",
      "Attempted to init fitparam 0 to 0.0, which is out of bounds 0.0 to 0.0. Instead init to 0.0\n",
      "Attempted to init fitparam 4 to 0.0, which is out of bounds 0.0 to 0.0. Instead init to 0.0\n",
      "Warning: fit failed with error: Each lower bound must be strictly less than each upper bound.\n",
      "Pi length from amps data (qubit A) [us]: 0.1583632755769038\n",
      "\tPi/2 length from avgq data (qubit A) [us]: 0.0791816377884519\n",
      "\tDecay time [us]: 20.836835564383925\n",
      "Pi length from avgq data (qubit A) [us]: 0.3188701223063483\n",
      "\tPi/2 length from avgq data (qubit A) [us]: 0.15943506115317416\n",
      "\tDecay time [us]: 0.8503203261502621\n",
      "Pi length from amps data (qubit B) [us]: 0.7992731026365124\n",
      "\tPi/2 length from avgq data (qubit B) [us]: 0.3996365513182562\n",
      "\tDecay time [us]: 0.25509609784508175\n",
      "Pi length from avgq data (qubit B) [us]: 0.3188701223063483\n",
      "\tPi/2 length from avgq data (qubit B) [us]: 0.15943506115317416\n",
      "\tDecay time [us]: 0.8503203261502621\n",
      "max QA amp: 256.5596102243384\n",
      "min QA amp: 90.23402044553511\n",
      "max QB amp: 365.51295151347455\n",
      "min QB amp: 290.89496335892596\n",
      "best 0 0.16575153330137377\n",
      "pi len 0.1583632755769038\n",
      "00097_length_rabi_EgGf_qubit31.h5\n",
      "S:\\QRAM\\qram_4QR2\\data\\data_241025\\00097_length_rabi_EgGf_qubit31.h5\n",
      "Extracted data and attrs ['calib_order', 'config']\n",
      "Attempted to init fitparam 0 to 0.0, which is out of bounds 0.0 to 0.0. Instead init to 0.0\n",
      "Attempted to init fitparam 4 to 0.0, which is out of bounds 0.0 to 0.0. Instead init to 0.0\n",
      "Warning: fit failed with error: Each lower bound must be strictly less than each upper bound.\n",
      "Attempted to init fitparam 0 to 0.0, which is out of bounds 0.0 to 0.0. Instead init to 0.0\n",
      "Attempted to init fitparam 4 to 0.0, which is out of bounds 0.0 to 0.0. Instead init to 0.0\n",
      "Warning: fit failed with error: Each lower bound must be strictly less than each upper bound.\n",
      "Pi length from amps data (qubit A) [us]: 0.1552121470900272\n",
      "\tPi/2 length from avgq data (qubit A) [us]: 0.0776060735450136\n",
      "\tDecay time [us]: 6.082015383823591\n",
      "Pi length from avgq data (qubit A) [us]: 0.3057658707047175\n",
      "\tPi/2 length from avgq data (qubit A) [us]: 0.15288293535235875\n",
      "\tDecay time [us]: 0.8153756552125799\n",
      "Pi length from amps data (qubit B) [us]: 0.1552902390204349\n",
      "\tPi/2 length from avgq data (qubit B) [us]: 0.07764511951021745\n",
      "\tDecay time [us]: 6.744701804804637\n",
      "Pi length from avgq data (qubit B) [us]: 0.3057658707047175\n",
      "\tPi/2 length from avgq data (qubit B) [us]: 0.15288293535235875\n",
      "\tDecay time [us]: 0.8153756552125799\n",
      "max QA amp: 254.5508070041005\n",
      "min QA amp: 91.61423777024041\n",
      "max QB amp: 359.9274893686214\n",
      "min QB amp: 271.3878777767308\n",
      "best 0 0.049576877670626136\n",
      "pi len 0.1552121470900272\n",
      "00098_length_rabi_EgGf_qubit31.h5\n",
      "S:\\QRAM\\qram_4QR2\\data\\data_241025\\00098_length_rabi_EgGf_qubit31.h5\n",
      "Extracted data and attrs ['calib_order', 'config']\n",
      "Attempted to init fitparam 0 to 0.0, which is out of bounds 0.0 to 0.0. Instead init to 0.0\n",
      "Attempted to init fitparam 4 to 0.0, which is out of bounds 0.0 to 0.0. Instead init to 0.0\n",
      "Warning: fit failed with error: Each lower bound must be strictly less than each upper bound.\n",
      "Attempted to init fitparam 0 to 0.0, which is out of bounds 0.0 to 0.0. Instead init to 0.0\n",
      "Attempted to init fitparam 4 to 0.0, which is out of bounds 0.0 to 0.0. Instead init to 0.0\n",
      "Warning: fit failed with error: Each lower bound must be strictly less than each upper bound.\n",
      "Pi length from amps data (qubit A) [us]: 0.1504628462909928\n",
      "\tPi/2 length from avgq data (qubit A) [us]: 0.0752314231454964\n",
      "\tDecay time [us]: 5.5191700379450515\n",
      "Pi length from avgq data (qubit A) [us]: 0.2926616191030868\n",
      "\tPi/2 length from avgq data (qubit A) [us]: 0.1463308095515434\n",
      "\tDecay time [us]: 0.7804309842748981\n",
      "Pi length from amps data (qubit B) [us]: 0.15050985484148982\n",
      "\tPi/2 length from avgq data (qubit B) [us]: 0.07525492742074491\n",
      "\tDecay time [us]: 9.991120375974429\n",
      "Pi length from avgq data (qubit B) [us]: 0.2926616191030868\n",
      "\tPi/2 length from avgq data (qubit B) [us]: 0.1463308095515434\n",
      "\tDecay time [us]: 0.7804309842748981\n",
      "max QA amp: 267.38725735657744\n",
      "min QA amp: 91.7864222227633\n",
      "max QB amp: 361.46659034701264\n",
      "min QB amp: 274.2166009480216\n",
      "best 0 0.05343712347679306\n",
      "pi len 0.1504628462909928\n",
      "00099_length_rabi_EgGf_qubit31.h5\n",
      "S:\\QRAM\\qram_4QR2\\data\\data_241025\\00099_length_rabi_EgGf_qubit31.h5\n",
      "Extracted data and attrs ['calib_order', 'config']\n",
      "Attempted to init fitparam 0 to 0.0, which is out of bounds 0.0 to 0.0. Instead init to 0.0\n",
      "Attempted to init fitparam 4 to 0.0, which is out of bounds 0.0 to 0.0. Instead init to 0.0\n",
      "Warning: fit failed with error: Each lower bound must be strictly less than each upper bound.\n",
      "Attempted to init fitparam 0 to 0.0, which is out of bounds 0.0 to 0.0. Instead init to 0.0\n",
      "Attempted to init fitparam 4 to 0.0, which is out of bounds 0.0 to 0.0. Instead init to 0.0\n",
      "Warning: fit failed with error: Each lower bound must be strictly less than each upper bound.\n",
      "Pi length from amps data (qubit A) [us]: 0.14532062321917064\n",
      "\tPi/2 length from avgq data (qubit A) [us]: 0.07266031160958532\n",
      "\tDecay time [us]: 8.120167132623429\n",
      "Pi length from avgq data (qubit A) [us]: 0.279557367501456\n",
      "\tPi/2 length from avgq data (qubit A) [us]: 0.139778683750728\n",
      "\tDecay time [us]: 0.745486313337216\n",
      "Pi length from amps data (qubit B) [us]: 0.1490071145047073\n",
      "\tPi/2 length from avgq data (qubit B) [us]: 0.07450355725235365\n",
      "\tDecay time [us]: 6.08662776890922\n",
      "Pi length from avgq data (qubit B) [us]: 0.279557367501456\n",
      "\tPi/2 length from avgq data (qubit B) [us]: 0.139778683750728\n",
      "\tDecay time [us]: 0.745486313337216\n",
      "max QA amp: 263.485776092796\n",
      "min QA amp: 94.49199034874665\n",
      "max QB amp: 361.8567454801041\n",
      "min QB amp: 268.42303559809307\n",
      "best 0 0.07936216390346582\n",
      "pi len 0.14532062321917064\n",
      "00100_length_rabi_EgGf_qubit31.h5\n",
      "S:\\QRAM\\qram_4QR2\\data\\data_241025\\00100_length_rabi_EgGf_qubit31.h5\n",
      "Extracted data and attrs ['calib_order', 'config']\n",
      "Attempted to init fitparam 0 to 0.0, which is out of bounds 0.0 to 0.0. Instead init to 0.0\n",
      "Attempted to init fitparam 4 to 0.0, which is out of bounds 0.0 to 0.0. Instead init to 0.0\n",
      "Warning: fit failed with error: Each lower bound must be strictly less than each upper bound.\n",
      "Attempted to init fitparam 0 to 0.0, which is out of bounds 0.0 to 0.0. Instead init to 0.0\n",
      "Attempted to init fitparam 4 to 0.0, which is out of bounds 0.0 to 0.0. Instead init to 0.0\n",
      "Warning: fit failed with error: Each lower bound must be strictly less than each upper bound.\n",
      "Pi length from amps data (qubit A) [us]: 0.14367011071809124\n",
      "\tPi/2 length from avgq data (qubit A) [us]: 0.07183505535904562\n",
      "\tDecay time [us]: 22.356143647576985\n",
      "Pi length from avgq data (qubit A) [us]: 0.26645311589982523\n",
      "\tPi/2 length from avgq data (qubit A) [us]: 0.13322655794991262\n",
      "\tDecay time [us]: 0.710541642399534\n",
      "Pi length from amps data (qubit B) [us]: 0.14625246212070928\n",
      "\tPi/2 length from avgq data (qubit B) [us]: 0.07312623106035464\n",
      "\tDecay time [us]: 1414246.415624417\n",
      "Pi length from avgq data (qubit B) [us]: 0.26645311589982523\n",
      "\tPi/2 length from avgq data (qubit B) [us]: 0.13322655794991262\n",
      "\tDecay time [us]: 0.710541642399534\n",
      "max QA amp: 263.44475789305346\n",
      "min QA amp: 89.72080543936859\n",
      "max QB amp: 360.6035001897305\n",
      "min QB amp: 272.8839392364389\n",
      "best 0 0.20097110775770166\n",
      "pi len 0.14367011071809124\n",
      "00100_PiMinusPiEgGfExptQ31.h5\n",
      "S:\\QRAM\\qram_4QR2\\data\\data_241025\\00100_PiMinusPiEgGfExptQ31.h5\n",
      "Extracted data and attrs ['config']\n",
      "Attempted to init fitparam 3 to 0.0, which is out of bounds 0 to 0.3958952940433577. Instead init to 0.19794764702167886\n",
      "Fit best freq (qA) 5136.819259335623 which is -0.3810673901489281 away from old freq 5137.200326725772\n",
      "Best freq from pi/-pi on Q3 5136.819259335623\n",
      "Attempted to init fitparam 3 to 0.0, which is out of bounds 0 to 0.1764936412253439. Instead init to 0.08824682061267194\n",
      "Fit best freq (qA) 5137.021541898905 which is -0.17878482686774078 away from old freq 5137.200326725772\n",
      "Best freq from pi/-pi on Q1 5137.021541898905\n",
      "best 0 0.19219374887134216\n",
      "best freq 5136.819259335623\n",
      "00101_PiMinusPiEgGfExptQ31.h5\n",
      "S:\\QRAM\\qram_4QR2\\data\\data_241025\\00101_PiMinusPiEgGfExptQ31.h5\n",
      "Extracted data and attrs ['config']\n",
      "Attempted to init fitparam 3 to 0.0, which is out of bounds 0 to 0.3983207628959272. Instead init to 0.1991603814479636\n",
      "Fit best freq (qA) 5136.024659214541 which is -0.33356046377775783 away from old freq 5136.358219678319\n",
      "Best freq from pi/-pi on Q3 5136.024659214541\n",
      "Attempted to init fitparam 3 to 0.0, which is out of bounds 0 to 0.08211864307498978. Instead init to 0.04105932153749489\n",
      "Fit best freq (qA) 5136.308146400125 which is -0.050073278193849546 away from old freq 5136.358219678319\n",
      "Best freq from pi/-pi on Q1 5136.308146400125\n",
      "best 1 0.20137245901735856\n",
      "best freq 5136.308146400125\n",
      "00102_PiMinusPiEgGfExptQ31.h5\n",
      "S:\\QRAM\\qram_4QR2\\data\\data_241025\\00102_PiMinusPiEgGfExptQ31.h5\n",
      "Extracted data and attrs ['config']\n",
      "Attempted to init fitparam 3 to 0.0, which is out of bounds 0 to 0.4339588001855184. Instead init to 0.2169794000927592\n",
      "Fit best freq (qA) 5135.096981377383 which is -0.3900324588221338 away from old freq 5135.487013836205\n",
      "Best freq from pi/-pi on Q3 5135.096981377383\n",
      "Attempted to init fitparam 3 to 0.0, which is out of bounds 0 to 0.06060256670226982. Instead init to 0.03030128335113491\n",
      "Fit best freq (qA) 5135.06204091515 which is -0.42497292105508677 away from old freq 5135.487013836205\n",
      "Best freq from pi/-pi on Q1 5135.06204091515\n",
      "best 0 0.3644234647989444\n",
      "best freq 5135.096981377383\n",
      "00103_PiMinusPiEgGfExptQ31.h5\n",
      "S:\\QRAM\\qram_4QR2\\data\\data_241025\\00103_PiMinusPiEgGfExptQ31.h5\n",
      "Extracted data and attrs ['config']\n",
      "Attempted to init fitparam 3 to 0.0, which is out of bounds 0 to 0.40556904460795185. Instead init to 0.20278452230397592\n",
      "Fit best freq (qA) 5134.31522456792 which is -0.2714846315075192 away from old freq 5134.586709199428\n",
      "Best freq from pi/-pi on Q3 5134.31522456792\n",
      "Attempted to init fitparam 3 to 0.0, which is out of bounds 0 to 0.11476501834009732. Instead init to 0.05738250917004866\n",
      "Fit best freq (qA) 5134.38590192772 which is -0.20080727170807222 away from old freq 5134.586709199428\n",
      "Best freq from pi/-pi on Q1 5134.38590192772\n",
      "best 0 974.012902242773\n",
      "best freq 5134.31522456792\n",
      "00104_PiMinusPiEgGfExptQ31.h5\n",
      "S:\\QRAM\\qram_4QR2\\data\\data_241025\\00104_PiMinusPiEgGfExptQ31.h5\n",
      "Extracted data and attrs ['config']\n",
      "Attempted to init fitparam 3 to 0.0, which is out of bounds 0 to 0.44099076168479995. Instead init to 0.22049538084239997\n",
      "Fit best freq (qA) 5133.519916163953 which is -0.13738960403679812 away from old freq 5133.65730576799\n",
      "Best freq from pi/-pi on Q3 5133.519916163953\n",
      "Attempted to init fitparam 3 to 0.0, which is out of bounds 0 to 0.07841642900755642. Instead init to 0.03920821450377821\n",
      "Fit best freq (qA) 5133.696066602609 which is 0.038760834619097295 away from old freq 5133.65730576799\n",
      "Best freq from pi/-pi on Q1 5133.696066602609\n",
      "best 1 0.18010379816078745\n",
      "best freq 5133.696066602609\n",
      "00105_PiMinusPiEgGfExptQ31.h5\n",
      "S:\\QRAM\\qram_4QR2\\data\\data_241025\\00105_PiMinusPiEgGfExptQ31.h5\n",
      "Extracted data and attrs ['config']\n",
      "Attempted to init fitparam 3 to 0.0, which is out of bounds 0 to 0.5106866999875753. Instead init to 0.25534334999378766\n",
      "Fit best freq (qA) 5132.572277302013 which is -0.12652623987742118 away from old freq 5132.698803541891\n",
      "Best freq from pi/-pi on Q3 5132.572277302013\n",
      "Attempted to init fitparam 3 to 0.0, which is out of bounds 0 to 0.11419677418684013. Instead init to 0.057098387093420064\n",
      "Fit best freq (qA) 5132.2795445243155 which is -0.4192590175753139 away from old freq 5132.698803541891\n",
      "Best freq from pi/-pi on Q1 5132.2795445243155\n",
      "best 1 0.12760171771648846\n"
     ]
    },
    {
     "name": "stderr",
     "output_type": "stream",
     "text": [
      "RuntimeWarning: More than 20 figures have been opened. Figures created through the pyplot interface (`matplotlib.pyplot.figure`) are retained until explicitly closed and may consume too much memory. (To control this warning, see the rcParam `figure.max_open_warning`). Consider using `matplotlib.pyplot.close()`.\n",
      " s:\\Connie\\experiments\\qram_tprocv1_expts\\experiments\\two_qubit\\length_rabi_EgGf.py: 2858"
     ]
    },
    {
     "name": "stdout",
     "output_type": "stream",
     "text": [
      "best freq 5132.2795445243155\n",
      "00094_NPulseExptEgGfQ31.h5\n",
      "S:\\QRAM\\qram_4QR2\\data\\data_241025\\00094_NPulseExptEgGfQ31.h5\n",
      "Extracted data and attrs ['config']\n",
      "[0.45635489 4.67677071 6.92955059]\n",
      "Attempted to init fitparam 0 to 0.0, which is out of bounds 0.0 to 0.0. Instead init to 0.0\n",
      "Warning: fit failed with error: Each lower bound must be strictly less than each upper bound.\n",
      "[0.0, 0.0, 10]\n",
      "Warning: fit failed with error: Optimal parameters not found: The maximum number of function evaluations is exceeded.\n",
      "[173.66129708710957, 0.0, 10]\n",
      "[ 0.58908052 -4.27596245  6.98218455]\n",
      "Attempted to init fitparam 0 to 0.0, which is out of bounds 0.0 to 0.0. Instead init to 0.0\n",
      "Warning: fit failed with error: Each lower bound must be strictly less than each upper bound.\n",
      "[0.0, 0.0, 10]\n",
      "Warning: fit failed with error: Optimal parameters not found: The maximum number of function evaluations is exceeded.\n",
      "[323.7708271467822, 0.0, 10]\n",
      "From QA: adjust length to 0.1682555688912971\n",
      "\tadjust ratio 0.9740179405195344\n",
      "\n",
      "From QB: adjust length to 0.16787179543246547\n",
      "\tadjust ratio 0.9762446530714213\n",
      "best 0 0.1455563970308238\n",
      "pi len precise 0.1682555688912971 adjustment ratio 0.9740179405195344 from Q3\n",
      "00095_NPulseExptEgGfQ31.h5\n",
      "S:\\QRAM\\qram_4QR2\\data\\data_241025\\00095_NPulseExptEgGfQ31.h5\n",
      "Extracted data and attrs ['config']\n",
      "[ 0.53547863  7.6596713  11.91258503]\n",
      "Attempted to init fitparam 0 to 0.0, which is out of bounds 0.0 to 0.0. Instead init to 0.0\n",
      "Warning: fit failed with error: Each lower bound must be strictly less than each upper bound.\n",
      "[0.0, 0.0, 10]\n",
      "Warning: fit failed with error: Optimal parameters not found: The maximum number of function evaluations is exceeded.\n",
      "[180.26021461028034, 0.0, 10]\n",
      "[ 0.58541769 -7.33466135 11.81981421]\n",
      "Attempted to init fitparam 0 to 0.0, which is out of bounds 0.0 to 0.0. Instead init to 0.0\n",
      "Warning: fit failed with error: Each lower bound must be strictly less than each upper bound.\n",
      "[0.0, 0.0, 10]\n",
      "Warning: fit failed with error: Optimal parameters not found: The maximum number of function evaluations is exceeded.\n",
      "[322.27687966047813, 0.0, 10]\n",
      "From QA: adjust length to 0.1654017363094108\n",
      "\tadjust ratio 0.9574462705800113\n",
      "\n",
      "From QB: adjust length to 0.16509039872915485\n",
      "\tadjust ratio 0.9592518813690221\n",
      "best 0 0.11446157530806085\n",
      "pi len precise 0.1654017363094108 adjustment ratio 0.9574462705800113 from Q3\n",
      "00096_NPulseExptEgGfQ31.h5\n",
      "S:\\QRAM\\qram_4QR2\\data\\data_241025\\00096_NPulseExptEgGfQ31.h5\n",
      "Extracted data and attrs ['config']\n",
      "[0.48856394 4.06583513 7.54725865]\n",
      "Attempted to init fitparam 0 to 0.0, which is out of bounds 0.0 to 0.0. Instead init to 0.0\n",
      "Warning: fit failed with error: Each lower bound must be strictly less than each upper bound.\n",
      "[0.0, 0.0, 10]\n",
      "Warning: fit failed with error: Optimal parameters not found: The maximum number of function evaluations is exceeded.\n",
      "[178.98678832619947, 0.0, 10]\n",
      "[ 0.50907645 -4.06159506  8.38898379]\n",
      "Attempted to init fitparam 0 to 0.0, which is out of bounds 0.0 to 0.0. Instead init to 0.0\n",
      "Warning: fit failed with error: Each lower bound must be strictly less than each upper bound.\n",
      "[0.0, 0.0, 10]\n",
      "Warning: fit failed with error: Optimal parameters not found: The maximum number of function evaluations is exceeded.\n",
      "[313.14199950429355, 0.0, 10]\n",
      "From QA: adjust length to 0.1587990967957487\n",
      "\tadjust ratio 0.9774120270322751\n",
      "\n",
      "From QB: adjust length to 0.15879526977319855\n",
      "\tadjust ratio 0.977435583010193\n",
      "best 0 0.180991248654467\n",
      "pi len precise 0.1587990967957487 adjustment ratio 0.9774120270322751 from Q3\n",
      "00097_NPulseExptEgGfQ31.h5\n",
      "S:\\QRAM\\qram_4QR2\\data\\data_241025\\00097_NPulseExptEgGfQ31.h5\n",
      "Extracted data and attrs ['config']\n",
      "[0.48410556 4.88140874 9.35044707]\n",
      "Attempted to init fitparam 0 to 0.0, which is out of bounds 0.0 to 0.0. Instead init to 0.0\n",
      "Warning: fit failed with error: Each lower bound must be strictly less than each upper bound.\n",
      "[0.0, 0.0, 10]\n",
      "Warning: fit failed with error: Optimal parameters not found: The maximum number of function evaluations is exceeded.\n",
      "[178.77529044487696, 0.0, 10]\n",
      "[ 0.51796689 -5.05057262 10.65627396]\n",
      "Attempted to init fitparam 0 to 0.0, which is out of bounds 0.0 to 0.0. Instead init to 0.0\n",
      "Warning: fit failed with error: Each lower bound must be strictly less than each upper bound.\n",
      "[0.0, 0.0, 10]\n",
      "Warning: fit failed with error: Optimal parameters not found: The maximum number of function evaluations is exceeded.\n",
      "[316.8055721738991, 0.0, 10]\n",
      "From QA: adjust length to 0.15465697923701435\n",
      "\tadjust ratio 0.9728810625507306\n",
      "\n",
      "From QB: adjust length to 0.15480652173415482\n",
      "\tadjust ratio 0.9719412632329449\n",
      "best 0 0.1396169002829216\n",
      "pi len precise 0.15465697923701435 adjustment ratio 0.9728810625507306 from Q3\n",
      "00098_NPulseExptEgGfQ31.h5\n",
      "S:\\QRAM\\qram_4QR2\\data\\data_241025\\00098_NPulseExptEgGfQ31.h5\n",
      "Extracted data and attrs ['config']\n",
      "[0.48332362 7.66568771 8.64277418]\n",
      "Attempted to init fitparam 0 to 0.0, which is out of bounds 0.0 to 0.0. Instead init to 0.0\n",
      "Warning: fit failed with error: Each lower bound must be strictly less than each upper bound.\n",
      "[0.0, 0.0, 10]\n",
      "Warning: fit failed with error: Optimal parameters not found: The maximum number of function evaluations is exceeded.\n",
      "[179.17708740879428, 0.0, 10]\n",
      "[ 0.58076373 -6.99071444  8.00890833]\n",
      "Attempted to init fitparam 0 to 0.0, which is out of bounds 0.0 to 0.0. Instead init to 0.0\n",
      "Warning: fit failed with error: Each lower bound must be strictly less than each upper bound.\n",
      "[0.0, 0.0, 10]\n",
      "Warning: fit failed with error: Optimal parameters not found: The maximum number of function evaluations is exceeded.\n",
      "[313.1500429207989, 0.0, 10]\n",
      "From QA: adjust length to 0.15178470167339028\n",
      "\tadjust ratio 0.9574128460710816\n",
      "\n",
      "From QB: adjust length to 0.1511925333684777\n",
      "\tadjust ratio 0.961162697532183\n",
      "best 0 0.09680120994474516\n",
      "pi len precise 0.15178470167339028 adjustment ratio 0.9574128460710816 from Q3\n",
      "00099_NPulseExptEgGfQ31.h5\n",
      "S:\\QRAM\\qram_4QR2\\data\\data_241025\\00099_NPulseExptEgGfQ31.h5\n",
      "Extracted data and attrs ['config']\n",
      "[0.455577   6.22150096 3.37165181]\n",
      "Attempted to init fitparam 0 to 0.0, which is out of bounds 0.0 to 0.0. Instead init to 0.0\n",
      "Warning: fit failed with error: Each lower bound must be strictly less than each upper bound.\n",
      "[0.0, 0.0, 10]\n",
      "Warning: fit failed with error: Optimal parameters not found: The maximum number of function evaluations is exceeded.\n",
      "[171.82833372137705, 0.0, 10]\n",
      "[ 0.60259307 -4.80514194  3.59743712]\n",
      "Attempted to init fitparam 0 to 0.0, which is out of bounds 0.0 to 0.0. Instead init to 0.0\n",
      "Warning: fit failed with error: Each lower bound must be strictly less than each upper bound.\n",
      "[0.0, 0.0, 10]\n",
      "Warning: fit failed with error: Optimal parameters not found: The maximum number of function evaluations is exceeded.\n",
      "[313.40368358440014, 0.0, 10]\n",
      "From QA: adjust length to 0.14881369140400283\n",
      "\tadjust ratio 0.9654361057952142\n",
      "\n",
      "From QB: adjust length to 0.14761061035300893\n",
      "\tadjust ratio 0.9733047670117072\n",
      "best 0 0.15014820093330492\n",
      "pi len precise 0.14881369140400283 adjustment ratio 0.9654361057952142 from Q3\n"
     ]
    }
   ],
   "source": [
    "opt_fit_index = 0\n",
    "\n",
    "new_opt_lens = []\n",
    "new_opt_lens2 = []\n",
    "new_opt_freqs = []\n",
    "\n",
    "# Going through length rabi files again to get opt lens\n",
    "for i_file, saved_file in enumerate(saved_files_lengthrabi):\n",
    "    file_name = saved_file.split('\\\\')[-1]\n",
    "    print(file_name)\n",
    "\n",
    "    lengthrabiEgGf = meas.LengthRabiEgGfExperiment(config_file=config_path)\n",
    "    # # rabiEgGfChevron.cfg.expt = dict(sigma_test=0.400, singleshot=False,)\n",
    "    temp_data, attrs = prev_data(expt_path, file_name)\n",
    "    lengthrabiEgGf.cfg = AttrDict(attrs['config'])\n",
    "    lengthrabiEgGf.data = temp_data\n",
    "\n",
    "    data = lengthrabiEgGf.analyze(fit=True)\n",
    "    lengthrabiEgGf.display(fit=True)\n",
    "    p, pcov = meas.fitting.get_best_fit(data, prefixes=['fitA', 'fitB'], check_measures=['amps'])\n",
    "    if p[2] > 180:\n",
    "        p[2] = p[2] - 360\n",
    "    elif p[2] < -180:\n",
    "        p[2] = p[2] + 360\n",
    "    if p[2] < 0:\n",
    "        pi_len = (1 / 2 - p[2] / 180) / 2 / p[1]\n",
    "    else:\n",
    "        pi_len = (3 / 2 - p[2] / 180) / 2 / p[1]\n",
    "\n",
    "    new_opt_lens.append(pi_len)\n",
    "    print('pi len', new_opt_lens[-1])\n",
    "\n",
    "\n",
    "# Going through piminuspi files again to get opt freqs\n",
    "for i_file, saved_file in enumerate(saved_files_piminuspi):\n",
    "    file_name = saved_file.split('\\\\')[-1]\n",
    "    print(file_name)\n",
    "\n",
    "    piminuspi = meas.PiMinusPiEgGfExperiment(config_file=config_path)\n",
    "    # # rabiEgGfChevron.cfg.expt = dict(sigma_test=0.400, singleshot=False,)\n",
    "    temp_data, attrs = prev_data(expt_path, file_name)\n",
    "    piminuspi.cfg = AttrDict(attrs['config'])\n",
    "    piminuspi.data = temp_data\n",
    "\n",
    "    data = piminuspi.analyze(fit=True)\n",
    "    piminuspi.display(fit=True)\n",
    "    best_freq = data['best_freq']\n",
    "    new_opt_freqs.append(best_freq)\n",
    "    print('best freq', new_opt_freqs[-1])\n",
    "\n",
    "\n",
    "# Going through error amp files again to get opt lens 2\n",
    "for i_file, saved_file in enumerate(saved_files_error_amp):\n",
    "    file_name = saved_file.split('\\\\')[-1]\n",
    "    print(file_name)\n",
    "\n",
    "    npulsecalib = meas.NPulseEgGfExperiment(config_file=config_path)\n",
    "    # # rabiEgGfChevron.cfg.expt = dict(sigma_test=0.400, singleshot=False,)\n",
    "    temp_data, attrs = prev_data(expt_path, file_name)\n",
    "    npulsecalib.cfg = AttrDict(attrs['config'])\n",
    "    npulsecalib.data = temp_data\n",
    "\n",
    "    data = npulsecalib.analyze(fit=True)\n",
    "    npulsecalib.display(fit=True)\n",
    "\n",
    "    npulsecalib_fit, npulsecalib_fit_err = meas.fitting.get_best_fit(npulsecalib.data, prefixes=['fitA', 'fitB'], check_measures=['avgi'])\n",
    "\n",
    "    if np.all(npulsecalib_fit == data['fitA_avgi']): use_q =  npulsecalib.cfg.expt.measure_qubits[0]\n",
    "    else: use_q = npulsecalib.cfg.expt.measure_qubits[1]\n",
    "    if use_q == qDrive: sign = 1\n",
    "    else: sign = -1\n",
    "    angle_err = npulsecalib_fit[1]\n",
    "    amp_ratio = (180 - sign*angle_err)/180\n",
    "    new_opt_len = npulsecalib.cfg.device.qubit.pulses.pi_EgGf_Q.sigma[qDrive] / amp_ratio\n",
    "\n",
    "    print('pi len precise', new_opt_len, f'adjustment ratio {amp_ratio} from Q{use_q}')\n",
    "\n",
    "    new_opt_lens2.append(new_opt_len)"
   ]
  },
  {
   "cell_type": "code",
   "execution_count": null,
   "metadata": {},
   "outputs": [],
   "source": [
    "print(new_opt_lens)\n",
    "print(saved_files)"
   ]
  },
  {
   "cell_type": "code",
   "execution_count": null,
   "metadata": {},
   "outputs": [],
   "source": [
    "new_opt_lens[1] = 1.1987019004033739\n",
    "new_opt_lens[4] = 0.4716335769416996"
   ]
  },
  {
   "cell_type": "markdown",
   "metadata": {},
   "source": [
    "Sweep ramp times"
   ]
  },
  {
   "cell_type": "code",
   "execution_count": null,
   "metadata": {},
   "outputs": [],
   "source": [
    "gain = 25066\n",
    "freq = 5885.080333333333\n",
    "default_len = 0.28170921764829654\n",
    "default_sigma_ramp_cycles = 3\n",
    "sigma_n = 4\n",
    "\n",
    "# len_approx_gains = 1.5*np.linspace(0.470, 0.210, 25)\n",
    "# # len_approx_gains = 1.5*np.linspace(0.500, 0.300, 21)\n",
    "# print('max len for each gain (us)\\n', len_approx_gains)\n",
    "\n",
    "\n",
    "# freq_approx_gains = np.linspace(5889.675, 5882.583, 25) # approx freq for each gain\n",
    "# # freq_approx_gains = np.linspace(5151.5, 5147, 21) # approx freq for each gain\n",
    "\n",
    "sigma_ramp_cycle_sweep = np.linspace(2, 20, 10)\n",
    "sigma_ramp_us_sweep = np.array([soc.cycles2us(c, gen_ch=yaml_cfg.hw.soc.dacs.swap_Q.ch[sweep2Q_q]) for c in sigma_ramp_cycle_sweep])\n",
    "print('sigma_ramp_cycle_sweep', sigma_ramp_cycle_sweep)\n",
    "print('sigma_ramp in ns', 1e3*sigma_ramp_us_sweep)\n",
    "\n",
    "\n",
    "default_area = default_len * gain + np.sqrt(2*np.pi)*soc.cycles2us(default_sigma_ramp_cycles, gen_ch=yaml_cfg.hw.soc.dacs.swap_Q.ch[sweep2Q_q])*sp.special.erf(sigma_n/2 / np.sqrt(2))\n",
    "expected_flat_len = (default_area - np.sqrt(2*np.pi)*sigma_ramp_us_sweep*sp.special.erf(sigma_n/2 / np.sqrt(2))) / gain\n",
    "\n",
    "print('expected_flat_lens', expected_flat_len)\n",
    "\n",
    "\n",
    "# print('approx freq for each gain\\n', freq_approx_gains)\n",
    "\n",
    "# opt_lens = []\n",
    "# opt_freqs = []\n",
    "# saved_files = []\n",
    "# save_files = True\n",
    "\n",
    "# opt_fit_index = 2 # index of [QA I, QA Q, QB I, QB Q] to use as saved optimal"
   ]
  },
  {
   "cell_type": "code",
   "execution_count": null,
   "metadata": {},
   "outputs": [],
   "source": [
    "saved_files = []\n",
    "save_files = True\n",
    "opt_lens_ramps = []\n",
    "opt_fit_index = 2\n",
    "\n",
    "for i_ramp, ramp_cycles in enumerate(sigma_ramp_cycle_sweep):\n",
    "    lengthrabiEgGf = meas.LengthRabiEgGfExperiment(\n",
    "        soccfg=soc,\n",
    "        path=expt_path,\n",
    "        prefix=f\"length_rabi_EgGf_qubit{qubits[0]}{qubits[1]}\",\n",
    "        config_file=config_path,\n",
    "    )\n",
    "    \n",
    "    stop_len = default_len*1.5\n",
    "\n",
    "    start_len = 0\n",
    "    span_len = stop_len - start_len\n",
    "    npts_len = 151\n",
    "\n",
    "    sweep2Q_q = qubits[0]\n",
    "    lengthrabiEgGf.cfg.device.qubit.pulses.pi_EgGf_Q.gain[sweep2Q_q] = int(gain)\n",
    "    lengthrabiEgGf.cfg.device.qubit.f_EgGf_Q[sweep2Q_q] = freq\n",
    "\n",
    "    lengthrabiEgGf.cfg.expt = dict(\n",
    "        start=start_len, # pulse length (sigma) [us]\n",
    "        step=span_len/npts_len, # [us]\n",
    "        expts=npts_len,\n",
    "        reps=2000,\n",
    "        post_process='threshold',\n",
    "        # post_process=None,\n",
    "        singleshot_reps=20000,\n",
    "        measure_f=False,\n",
    "        init_state=init_state,\n",
    "        qDrive=qDrive,\n",
    "        qubits=qubits,\n",
    "        measure_qubits=measure_qubits,\n",
    "        sigma_ramp_cycles=ramp_cycles,\n",
    "    )\n",
    "    \n",
    "    # lengthrabiEgGf.cfg.device.readout.readout_length = [10,5] # [us]\n",
    "    print(lengthrabiEgGf.cfg)\n",
    "    # lengthrabiEgGf.im[lengthrabiEgGf.cfg.aliases.soc].reset()\n",
    "    try:\n",
    "        lengthrabiEgGf.acquire(progress=True, debug=True)\n",
    "    except Exception:\n",
    "        print(\"Pyro traceback:\")\n",
    "        print(\"\".join(Pyro4.util.getPyroTraceback()))\n",
    "\n",
    "    if save_files: saved_files.append(lengthrabiEgGf.save_data())\n",
    "    print('Saved', saved_files[-1])\n",
    "    data = lengthrabiEgGf.analyze(data=None, fit=True)\n",
    "    pi_lens = lengthrabiEgGf.display(data=data, fit=True)\n",
    "\n",
    "    new_opt_lens.append(pi_lens[opt_fit_index])\n",
    "    print('pi len', new_opt_lens[-1])"
   ]
  },
  {
   "cell_type": "markdown",
   "metadata": {},
   "source": [
    "## Randomized benchmarking"
   ]
  },
  {
   "cell_type": "code",
   "execution_count": null,
   "metadata": {},
   "outputs": [],
   "source": [
    "rbprog = meas.SimultaneousRBEgGfExperiment(\n",
    "    soccfg=soc,\n",
    "    path=expt_path,\n",
    "    prefix=f\"rb_EgGf_qubit{qubits[0]}{qubits[1]}\",\n",
    "    config_file=config_path,\n",
    ")\n",
    "\n",
    "gate_char = None\n",
    "# gate_char = 'X'\n",
    "\n",
    "\n",
    "max_gates = 225\n",
    "expts = 30\n",
    "# expts = 5\n",
    "\n",
    "if gate_char is None: step = max_gates // expts\n",
    "else: step = max_gates // (2*expts)\n",
    "print('step', step)\n",
    "\n",
    "rbprog.cfg.expt = dict(\n",
    "    # start=20,\n",
    "    # step=0,\n",
    "    # expts=1,\n",
    "    # variations=1000,\n",
    "    # variations=10, # number different sequences per depth\n",
    "    start=1, # rb depth start\n",
    "    step=step, # step rb depth\n",
    "    expts=expts+1, # number steps\n",
    "    # variations=3,\n",
    "    variations=20,\n",
    "    reps=2000, # number averages per unique sequence need at least 10,000 for a good amount of error per point!!\n",
    "    loops=5,\n",
    "    # reps=100, # number averages per unique sequence need at least 10,000 for a good amount of error per point!!\n",
    "    gate_char=gate_char, # single qubit clifford gate (str) to characterize. if not None, runs interleaved RB instead of regular RB\n",
    "    qubits=qubits,\n",
    "    qDrive=qDrive,\n",
    "    singleshot_reps=20000, # reps per state for singleshot calibration\n",
    "    # singleshot_reps=100, # reps per state for singleshot calibration\n",
    "    post_process='threshold', # 'threshold' (uses single shot binning), 'scale' (scale by ge_avgs), or None\n",
    "\n",
    "    measure_f=[qDrive],\n",
    "    add_phase=True,\n",
    "\n",
    "    # cool_qubits=[0, 1],\n",
    "\n",
    ")\n",
    "# rbprog.cfg.device.qubit.pulses.pi_ge.gain[qubit_i] = int(0.8*rbprog.cfg.device.qubit.pulses.pi_ge.gain[qubit_i])\n",
    "# rbprog.cfg.device.readout.relax_delay = 1\n",
    "# rbprog.cfg.device.readout.readout_length = 5\n",
    "\n",
    "print(rbprog.cfg)\n",
    "\n",
    "try:\n",
    "    rbprog.go(analyze=False, display=False, progress=True, save=False)\n",
    "except Exception:\n",
    "    print(\"Pyro traceback:\")\n",
    "    print(\"\".join(Pyro4.util.getPyroTraceback()))\n",
    "\n",
    "# rbprog.go(analyze=False, display=False, progress=True, save=False)"
   ]
  },
  {
   "cell_type": "code",
   "execution_count": null,
   "metadata": {},
   "outputs": [],
   "source": [
    "rbprog.save_data()"
   ]
  },
  {
   "cell_type": "code",
   "execution_count": null,
   "metadata": {},
   "outputs": [],
   "source": [
    "# # TESTING\n",
    "rbprog = meas.SimultaneousRBEgGfExperiment(config_file=config_path)\n",
    "temp_data, attrs = prev_data('s:\\Connie\\experiments\\qramLL_4QR2\\data\\data_240617\\\\00011_rb_EgGf_qubit31.h5')\n",
    "rbprog.data = temp_data\n",
    "rbprog.cfg = AttrDict(attrs['config'])\n",
    "rbprog.calib_order = attrs['calib_order']\n",
    "\n",
    "rbprog.analyze(fit=True)\n",
    "# rbprog.display(fit=True, show_all_vars=False)"
   ]
  },
  {
   "cell_type": "code",
   "execution_count": null,
   "metadata": {},
   "outputs": [],
   "source": [
    "rbprog.save_data()"
   ]
  },
  {
   "cell_type": "code",
   "execution_count": null,
   "metadata": {},
   "outputs": [],
   "source": [
    "# p_irb = 0.9590834452029213 \n",
    "# p_irb_err = 0.0002387037509980582\n",
    "# p_rb = 0.9833366468001751 \n",
    "# p_rb_err = 0.00011879294449350527\n",
    "\n",
    "p_irb = 0.9378643954169977\n",
    "p_irb_err = 0.02184963356373672\n",
    "p_rb = 0.9736931040310971\n",
    "p_rb_err = 0.01541381511169818 \n",
    "print(100*meas.fitting.rb_error(p_rb, 2),'% average error')\n",
    "gate_fid, gate_fid_err = meas.fitting.rb_gate_fidelity(p_rb=p_rb, p_irb=p_irb, d=2, p_rb_err=p_rb_err, p_irb_err=p_irb_err)\n",
    "print(100*gate_fid, '+/-', 100*gate_fid_err, '% gate fidelity')"
   ]
  },
  {
   "cell_type": "code",
   "execution_count": null,
   "metadata": {},
   "outputs": [],
   "source": [
    "rbprog = meas.SimultaneousRBEgGfExperiment(\n",
    "    soccfg=soc,\n",
    "    path=expt_path,\n",
    "    prefix=f\"rb_EgGf_qubit{qubits[0]}{qubits[1]}\",\n",
    "    config_file=config_path,\n",
    ")\n",
    "\n",
    "# gate_char = None\n",
    "gate_char = 'X'\n",
    "\n",
    "\n",
    "max_gates = 225\n",
    "expts = 30\n",
    "# expts = 5\n",
    "\n",
    "if gate_char is None: step = max_gates // expts\n",
    "else: step = max_gates // (2*expts)\n",
    "print('step', step)\n",
    "\n",
    "rbprog.cfg.expt = dict(\n",
    "    # start=20,\n",
    "    # step=0,\n",
    "    # expts=1,\n",
    "    # variations=1000,\n",
    "    # variations=10, # number different sequences per depth\n",
    "    start=1, # rb depth start\n",
    "    step=step, # step rb depth\n",
    "    expts=expts+1, # number steps\n",
    "    variations=20,\n",
    "    reps=2000, # number averages per unique sequence need at least 10,000 for a good amount of error per point!!\n",
    "    loops=5,\n",
    "    # reps=5, # number averages per unique sequence need at least 10,000 for a good amount of error per point!!\n",
    "    gate_char=gate_char, # single qubit clifford gate (str) to characterize. if not None, runs interleaved RB instead of regular RB\n",
    "    qubits=qubits,\n",
    "    qDrive=qDrive,\n",
    "    singleshot_reps=20000, # reps per state for singleshot calibration\n",
    "    # singleshot_reps=100, # reps per state for singleshot calibration\n",
    "    post_process='threshold', # 'threshold' (uses single shot binning), 'scale' (scale by ge_avgs), or None\n",
    "\n",
    "    measure_f=[qDrive],\n",
    "    add_phase=True,\n",
    "\n",
    "    # cool_qubits=[0, 1],\n",
    "\n",
    ")\n",
    "# rbprog.cfg.device.qubit.pulses.pi_ge.gain[qubit_i] = int(0.8*rbprog.cfg.device.qubit.pulses.pi_ge.gain[qubit_i])\n",
    "# rbprog.cfg.device.readout.relax_delay = 1\n",
    "# rbprog.cfg.device.readout.readout_length = 5\n",
    "\n",
    "print(rbprog.cfg)\n",
    "\n",
    "try:\n",
    "    rbprog.go(analyze=False, display=False, progress=True, save=False)\n",
    "except Exception:\n",
    "    print(\"Pyro traceback:\")\n",
    "    print(\"\".join(Pyro4.util.getPyroTraceback()))\n",
    "\n",
    "# rbprog.go(analyze=False, display=False, progress=True, save=False)"
   ]
  },
  {
   "cell_type": "code",
   "execution_count": null,
   "metadata": {},
   "outputs": [],
   "source": [
    "rbprog.save_data()"
   ]
  },
  {
   "cell_type": "code",
   "execution_count": null,
   "metadata": {},
   "outputs": [],
   "source": [
    "# # TESTING\n",
    "# rbprog = meas.SimultaneousRBEgGfExperiment(config_file=config_path)\n",
    "# temp_data, attrs = prev_data('s:\\Connie\\experiments\\qramLL_4QR2\\data\\data_240617\\\\00010_rb_EgGf_qubit21.h5')\n",
    "# rbprog.data = temp_data\n",
    "# rbprog.cfg = AttrDict(attrs['config'])\n",
    "# rbprog.calib_order = attrs['calib_order']\n",
    "\n",
    "rbprog.analyze(fit=True)\n",
    "rbprog.display(fit=True, show_all_vars=False)"
   ]
  },
  {
   "cell_type": "markdown",
   "metadata": {},
   "source": [
    "Q2/Q1\n"
   ]
  },
  {
   "cell_type": "code",
   "execution_count": null,
   "metadata": {},
   "outputs": [],
   "source": [
    "qubits = [2, 1] # order doesn't matter if you specify qDrive correctly\n",
    "init_state = '|0>|1>'\n",
    "setup_ZZ = None\n",
    "# measure_qubits = [qubits[0], qubits[1], 3]\n",
    "measure_qubits = qubits\n",
    "qDrive = qubits[0] # normal new protocol"
   ]
  },
  {
   "cell_type": "code",
   "execution_count": null,
   "metadata": {},
   "outputs": [],
   "source": [
    "rbprog = meas.SimultaneousRBEgGfExperiment(\n",
    "    soccfg=soc,\n",
    "    path=expt_path,\n",
    "    prefix=f\"rb_EgGf_qubit{qubits[0]}{qubits[1]}\",\n",
    "    config_file=config_path,\n",
    ")\n",
    "\n",
    "gate_char = None\n",
    "# gate_char = 'X'\n",
    "\n",
    "\n",
    "max_gates = 225\n",
    "expts = 30\n",
    "# expts = 5\n",
    "\n",
    "if gate_char is None: step = max_gates // expts\n",
    "else: step = max_gates // (2*expts)\n",
    "print('step', step)\n",
    "\n",
    "rbprog.cfg.expt = dict(\n",
    "    # start=20,\n",
    "    # step=0,\n",
    "    # expts=1,\n",
    "    # variations=1000,\n",
    "    # variations=10, # number different sequences per depth\n",
    "    start=1, # rb depth start\n",
    "    step=step, # step rb depth\n",
    "    expts=expts+1, # number steps\n",
    "    variations=20,\n",
    "    reps=2000, # number averages per unique sequence need at least 10,000 for a good amount of error per point!!\n",
    "    loops=5,\n",
    "    # reps=5, # number averages per unique sequence need at least 10,000 for a good amount of error per point!!\n",
    "    gate_char=gate_char, # single qubit clifford gate (str) to characterize. if not None, runs interleaved RB instead of regular RB\n",
    "    qubits=qubits,\n",
    "    qDrive=qDrive,\n",
    "    singleshot_reps=20000, # reps per state for singleshot calibration\n",
    "    # singleshot_reps=100, # reps per state for singleshot calibration\n",
    "    post_process='threshold', # 'threshold' (uses single shot binning), 'scale' (scale by ge_avgs), or None\n",
    "\n",
    "    measure_f=[qDrive],\n",
    "    add_phase=True,\n",
    "\n",
    "    # cool_qubits=[0, 1],\n",
    "\n",
    ")\n",
    "# rbprog.cfg.device.qubit.pulses.pi_ge.gain[qubit_i] = int(0.8*rbprog.cfg.device.qubit.pulses.pi_ge.gain[qubit_i])\n",
    "# rbprog.cfg.device.readout.relax_delay = 1\n",
    "# rbprog.cfg.device.readout.readout_length = 5\n",
    "\n",
    "print(rbprog.cfg)\n",
    "\n",
    "try:\n",
    "    rbprog.go(analyze=False, display=False, progress=True, save=False)\n",
    "except Exception:\n",
    "    print(\"Pyro traceback:\")\n",
    "    print(\"\".join(Pyro4.util.getPyroTraceback()))\n",
    "\n",
    "# rbprog.go(analyze=False, display=False, progress=True, save=False)"
   ]
  },
  {
   "cell_type": "code",
   "execution_count": null,
   "metadata": {},
   "outputs": [],
   "source": [
    "rbprog.save_data()"
   ]
  },
  {
   "cell_type": "code",
   "execution_count": null,
   "metadata": {},
   "outputs": [],
   "source": [
    "# # TESTING\n",
    "# rbprog = meas.SimultaneousRBEgGfExperiment(config_file=config_path)\n",
    "# temp_data, attrs = prev_data('s:\\Connie\\experiments\\qramLL_4QR2\\data\\data_240617\\\\00010_rb_EgGf_qubit21.h5')\n",
    "# rbprog.data = temp_data\n",
    "# rbprog.cfg = AttrDict(attrs['config'])\n",
    "# rbprog.calib_order = attrs['calib_order']\n",
    "\n",
    "rbprog.analyze(fit=True)\n",
    "rbprog.display(fit=True, show_all_vars=False)"
   ]
  },
  {
   "cell_type": "code",
   "execution_count": null,
   "metadata": {},
   "outputs": [],
   "source": [
    "rbprog = meas.SimultaneousRBEgGfExperiment(\n",
    "    soccfg=soc,\n",
    "    path=expt_path,\n",
    "    prefix=f\"rb_EgGf_qubit{qubits[0]}{qubits[1]}\",\n",
    "    config_file=config_path,\n",
    ")\n",
    "\n",
    "# gate_char = None\n",
    "gate_char = 'X'\n",
    "\n",
    "\n",
    "max_gates = 225\n",
    "expts = 30\n",
    "# expts = 5\n",
    "\n",
    "if gate_char is None: step = max_gates // expts\n",
    "else: step = max_gates // (2*expts)\n",
    "print('step', step)\n",
    "\n",
    "rbprog.cfg.expt = dict(\n",
    "    # start=20,\n",
    "    # step=0,\n",
    "    # expts=1,\n",
    "    # variations=1000,\n",
    "    # variations=10, # number different sequences per depth\n",
    "    start=1, # rb depth start\n",
    "    step=step, # step rb depth\n",
    "    expts=expts+1, # number steps\n",
    "    variations=20,\n",
    "    reps=2000, # number averages per unique sequence need at least 10,000 for a good amount of error per point!!\n",
    "    loops=5,\n",
    "    # reps=5, # number averages per unique sequence need at least 10,000 for a good amount of error per point!!\n",
    "    gate_char=gate_char, # single qubit clifford gate (str) to characterize. if not None, runs interleaved RB instead of regular RB\n",
    "    qubits=qubits,\n",
    "    qDrive=qDrive,\n",
    "    singleshot_reps=20000, # reps per state for singleshot calibration\n",
    "    # singleshot_reps=100, # reps per state for singleshot calibration\n",
    "    post_process='threshold', # 'threshold' (uses single shot binning), 'scale' (scale by ge_avgs), or None\n",
    "\n",
    "    measure_f=[qDrive],\n",
    "    add_phase=True,\n",
    "\n",
    "    # cool_qubits=[0, 1],\n",
    "\n",
    ")\n",
    "# rbprog.cfg.device.qubit.pulses.pi_ge.gain[qubit_i] = int(0.8*rbprog.cfg.device.qubit.pulses.pi_ge.gain[qubit_i])\n",
    "# rbprog.cfg.device.readout.relax_delay = 1\n",
    "# rbprog.cfg.device.readout.readout_length = 5\n",
    "\n",
    "print(rbprog.cfg)\n",
    "\n",
    "try:\n",
    "    rbprog.go(analyze=False, display=False, progress=True, save=False)\n",
    "except Exception:\n",
    "    print(\"Pyro traceback:\")\n",
    "    print(\"\".join(Pyro4.util.getPyroTraceback()))\n",
    "\n",
    "# rbprog.go(analyze=False, display=False, progress=True, save=False)"
   ]
  },
  {
   "cell_type": "code",
   "execution_count": null,
   "metadata": {},
   "outputs": [],
   "source": [
    "rbprog.save_data()"
   ]
  },
  {
   "cell_type": "code",
   "execution_count": null,
   "metadata": {},
   "outputs": [],
   "source": [
    "# # TESTING\n",
    "# rbprog = meas.SimultaneousRBEgGfExperiment(config_file=config_path)\n",
    "# temp_data, attrs = prev_data('s:\\Connie\\experiments\\qramLL_4QR2\\data\\data_240617\\\\00010_rb_EgGf_qubit21.h5')\n",
    "# rbprog.data = temp_data\n",
    "# rbprog.cfg = AttrDict(attrs['config'])\n",
    "# rbprog.calib_order = attrs['calib_order']\n",
    "\n",
    "rbprog.analyze(fit=True)\n",
    "rbprog.display(fit=True, show_all_vars=False)"
   ]
  },
  {
   "cell_type": "markdown",
   "metadata": {},
   "source": [
    "## 3D sweep to optimize length, gain, freq"
   ]
  },
  {
   "cell_type": "code",
   "execution_count": null,
   "metadata": {},
   "outputs": [],
   "source": [
    "2027 - np.arange(expts_gain)*(10/8000*step_gain)"
   ]
  },
  {
   "cell_type": "code",
   "execution_count": null,
   "metadata": {},
   "outputs": [],
   "source": [
    "start_gain = 2000\n",
    "step_gain = 2000\n",
    "expts_gain = 5\n",
    "gain_sweep = start_gain + step_gain * np.arange(expts_gain)\n",
    "print(gain_sweep)\n",
    "\n",
    "sweep2d_expt_progs = []\n",
    "\n",
    "for ig, gain in enumerate(gain_sweep):\n",
    "    print('Now setting gain to', gain)\n",
    "    rabiEgGfFreqLenChevron = meas.EgGfFreqLenChevronExperiment(\n",
    "        soccfg=soc,\n",
    "        path=expt_path,\n",
    "        prefix=f\"rabi_EgGf_freqlen_chevron_qubit{qubits[0]}{qubits[1]}\",\n",
    "        config_file=config_path,\n",
    "    )\n",
    "\n",
    "    span_f = 6 # MHz\n",
    "    npts_f = 20\n",
    "\n",
    "    freq_center_pts = 2412 - np.arange(expts_gain)*(10/6000*step_gain)\n",
    "    if ig==0: print('Freq sweep will be centered at', freq_center_pts)\n",
    "\n",
    "    rabiEgGfFreqLenChevron.cfg.expt = dict(\n",
    "        start_f=freq_center_pts[ig] - span_f/2,\n",
    "        step_f=span_f/npts_f, # freq step, \n",
    "        expts_f=npts_f, # number of different freq experiments, \n",
    "        start_len=soc.cycles2us(10), # pulse length (sigma) [us]\n",
    "        step_len=soc.cycles2us(12), # [us]\n",
    "        expts_len=30,\n",
    "        gain=gain,\n",
    "        reps=1000,\n",
    "        pulse_type='flat_top',\n",
    "        post_process='scale',\n",
    "        singleshot_reps=15000,\n",
    "        qubits=qubits,\n",
    "    )\n",
    "\n",
    "    # rabiEgGfFreqLenChevron.cfg.device.readout.readout_length = [15, 15] # [us]\n",
    "    # rabiEgGfFreqLenChevron.cfg.device.readout.relax_delay = [600, 50] # Wait time between experiments [us]\n",
    "\n",
    "    # print(rabiEgGfFreqLenChevron.cfg)\n",
    "\n",
    "    try:\n",
    "        rabiEgGfFreqLenChevron.go(analyze=False, display=False, progress=True, save=False)\n",
    "    except Exception:\n",
    "        print(\"Pyro traceback:\")\n",
    "        print(\"\".join(Pyro4.util.getPyroTraceback()))\n",
    "    \n",
    "    rabiEgGfFreqLenChevron.analyze(data=None)\n",
    "    rabiEgGfFreqLenChevron.display(data=None)\n",
    "    sweep2d_expt_progs.append(rabiEgGfFreqLenChevron)"
   ]
  },
  {
   "cell_type": "markdown",
   "metadata": {},
   "source": [
    "# Crosstalk calibrations"
   ]
  },
  {
   "cell_type": "code",
   "execution_count": null,
   "metadata": {},
   "outputs": [],
   "source": [
    "crosstalkEcho = meas.CrosstalkEchoExperiment(\n",
    "    soccfg=soc,\n",
    "    path=expt_path,\n",
    "    config_file=config_path,\n",
    ")\n",
    "\n",
    "crosstalkEcho.cfg.expt = dict(\n",
    "    start=soc.cycles2us(60), # wait time tau [us]\n",
    "    step=soc.cycles2us(90), # [us] make sure nyquist freq = 0.5 * (1/step) > ramsey (signal) freq!\n",
    "    # step=soc.cycles2us(15), # [us] make sure nyquist freq = 0.5 * (1/step) > ramsey (signal) freq!\n",
    "    expts=200,\n",
    "    ramsey_freq=0.0, # [MHz]\n",
    "    cpmg=False, # cp or cpmg\n",
    "    reps=1500,\n",
    "    qTest=1,\n",
    "    qDrives=[2, 3],\n",
    "    gain_x=10000,\n",
    "    gain_y=0,\n",
    ")\n",
    "print(crosstalkEcho.cfg.expt.step)\n",
    "\n",
    "print(crosstalkEcho.cfg)\n",
    "\n",
    "try:\n",
    "    crosstalkEcho.go(analyze=False, display=False, progress=True, save=False)\n",
    "except Exception:\n",
    "    print(\"Pyro traceback:\")\n",
    "    print(\"\".join(Pyro4.util.getPyroTraceback()))"
   ]
  },
  {
   "cell_type": "code",
   "execution_count": null,
   "metadata": {},
   "outputs": [],
   "source": [
    "# # TESTING\n",
    "# crosstalkEcho = meas.RamseyExperiment(config_file=config_path)\n",
    "# crosstalkEcho.cfg.expt = dict(ramsey_freq=1, qubit=qubit_i)\n",
    "# temp_data, attrs = prev_data(expt_path, '00000_ramsey_qubit1.h5')\n",
    "# data = crosstalkEcho.analyze(data=temp_data, fit=True)\n",
    "# crosstalkEcho.display(data=data, fit=True)\n",
    "\n",
    "data = crosstalkEcho.data\n",
    "fitparams=[None, 5/data['xpts'][-1], None, None, None]\n",
    "crosstalkEcho.analyze(fit=False, fit_num_sin=1, fitparams=fitparams)\n",
    "crosstalkEcho.display(fit=False, fit_num_sin=1)\n",
    "\n",
    "qTest = crosstalkEcho.cfg.expt.qTest\n",
    "\n",
    "data = crosstalkEcho.data\n",
    "xpts = data['xpts']\n",
    "fourier = np.fft.fftshift(np.abs(np.fft.fft(data['avgi'])))\n",
    "freqs = np.fft.fftshift(np.fft.fftfreq(len(fourier), d=(xpts[1]-xpts[0])))\n",
    "plt.plot(freqs, fourier)\n",
    "plt.xlabel('Frequency [MHz]')\n",
    "plt.xlim(-6, 6)\n",
    "# plt.ylim(0, 20000)\n",
    "plt.title(f'Fourier Transform of Ramsey Echo on Q{qTest} (Ramsey Freq: {crosstalkEcho.cfg.expt.ramsey_freq})')\n",
    "plt.show()"
   ]
  },
  {
   "cell_type": "code",
   "execution_count": null,
   "metadata": {},
   "outputs": [],
   "source": [
    "# # TESTING\n",
    "# t2r = meas.RamseyExperiment(config_file=config_path)\n",
    "# t2r.cfg.expt = dict(ramsey_freq=2, qubit=qubit_i)\n",
    "# temp_data, attrs = prev_data(expt_path, '00000_ramsey_qubit1.h5')\n",
    "# data = t2r.analyze(data=temp_data, fit=True)\n",
    "# t2r.display(data=data, fit=True)\n",
    "\n",
    "t2r.save_data()"
   ]
  },
  {
   "cell_type": "markdown",
   "metadata": {},
   "source": [
    "## Chevron for gain sweep vs time sweep"
   ]
  },
  {
   "cell_type": "code",
   "execution_count": null,
   "metadata": {},
   "outputs": [],
   "source": [
    "crosstalkEchoTimeChevron = meas.CrosstalkEchoTimeChevronExperiment(\n",
    "    soccfg=soc,\n",
    "    path=expt_path,\n",
    "    config_file=config_path,\n",
    ")\n",
    "\n",
    "span_i = 40000\n",
    "npts_i = 150\n",
    "\n",
    "\n",
    "crosstalkEchoTimeChevron.cfg.expt = dict(\n",
    "    start_i=-span_i//2,\n",
    "    step_i=int(span_i/npts_i), # [dac level]\n",
    "    expts_i=npts_i+1,\n",
    "    # start_t=soc.cycles2us(60), # wait time tau [us]\n",
    "    # step_t=soc.cycles2us(30), # [us] make sure nyquist freq = 0.5 * (1/step) > ramsey (signal) freq!\n",
    "    # expts_t=250,\n",
    "    start_t=3.5,\n",
    "    step_t=0,\n",
    "    expts_t=1,\n",
    "    sweep_axis='x',\n",
    "    ramsey_freq=0.0, # [MHz]\n",
    "    cpmg=False, # cp or cpmg\n",
    "    reps=4000,\n",
    "    qTest=1,\n",
    "    qDrives=[2, 3],\n",
    "    post_process='scale',\n",
    "    singleshot_reps=20000,\n",
    "    thresholds=[0, 42.250179073420334, 0, 0],\n",
    "    angles=[0, -27.653262746238827, 0, 0],\n",
    "    ge_avgs=[array([0., 0., 0., 0.]), [29.582075536759927, 24.37702111255693, 38.68021955107352, 29.11635689655172], array([0., 0., 0., 0.]), array([0., 0., 0., 0.])],\n",
    "    counts_calib=[[8046, 6063, 3431, 2460], [3095, 2322, 8364, 6219]]\n",
    ")\n",
    "\n",
    "print(crosstalkEchoTimeChevron.cfg)\n",
    "\n",
    "try:\n",
    "    crosstalkEchoTimeChevron.go(analyze=False, display=False, progress=True, save=False)\n",
    "except Exception:\n",
    "    print(\"Pyro traceback:\")\n",
    "    print(\"\".join(Pyro4.util.getPyroTraceback()))"
   ]
  },
  {
   "cell_type": "code",
   "execution_count": null,
   "metadata": {},
   "outputs": [],
   "source": [
    "# amprabi = meas.AmplitudeRabiExperiment(config_file=config_path,)\n",
    "temp_data, attrs = prev_data('s:\\Connie\\experiments\\qramLL_4QR2\\data\\data_240218\\\\00002_CrosstalkEchoTime.h5', filename=None)\n",
    "crosstalkEchoTimeChevron.data = temp_data\n",
    "crosstalkEchoTimeChevron.cfg = AttrDict(attrs['config'])\n",
    "print(crosstalkEchoTimeChevron.cfg.expt)\n",
    "\n",
    "crosstalkEchoTimeChevron.analyze(fit=True)\n",
    "crosstalkEchoTimeChevron.display(fit=True)\n",
    "\n",
    "data = crosstalkEchoTimeChevron.data\n",
    "plt.figure()\n",
    "t_ind = np.argmin(np.abs(data['wait_times']-3))\n",
    "# e_val = np.min(data['amps'])\n",
    "# g_val = np.max(data['amps'])\n",
    "plt.plot(data['gain_i_sweep'], data['amps'][:,t_ind], 'o-')\n",
    "plt.title(f'Crosstalk Calibration on Q{crosstalkEchoTimeChevron.qTest} with drive on {crosstalkEchoTimeChevron.qDrives}')\n",
    "plt.xlabel(f'Gains ({crosstalkEchoTimeChevron.cfg.expt.sweep_axis} axis) (DAC units)')\n",
    "plt.ylabel('Population')\n",
    "plt.axvline(0)\n",
    "plt.axvline(12500)\n",
    "plt.axvline(17750)\n",
    "plt.axvline(-12500)\n",
    "plt.axvline(-17750)\n",
    "plt.show()"
   ]
  },
  {
   "cell_type": "code",
   "execution_count": null,
   "metadata": {},
   "outputs": [],
   "source": [
    "crosstalkEchoTimeChevron.save_data()"
   ]
  },
  {
   "cell_type": "markdown",
   "metadata": {},
   "source": [
    "## Chevron for fixed time"
   ]
  },
  {
   "cell_type": "code",
   "execution_count": null,
   "metadata": {},
   "outputs": [],
   "source": [
    "crosstalkEchoChevron = meas.CrosstalkEchoChevronExperiment(\n",
    "    soccfg=soc,\n",
    "    path=expt_path,\n",
    "    config_file=config_path,\n",
    ")\n",
    "\n",
    "span_x = 40000\n",
    "npts_x = 60\n",
    "\n",
    "span_y = 40000\n",
    "npts_y = 60\n",
    "\n",
    "crosstalkEchoChevron.cfg.expt = dict(\n",
    "    start_x=-span_x//2,\n",
    "    step_x=int(span_x/npts_x), # [dac level]\n",
    "    expts_x=npts_x,\n",
    "    start_y=-span_y//2,\n",
    "    step_y=int(span_y/npts_y), # [dac level]\n",
    "    expts_y=npts_y,\n",
    "    ramsey_freq=0.0, # [MHz]\n",
    "    cpmg=False, # cp or cpmg\n",
    "    reps=2000,\n",
    "    qTest=1,\n",
    "    qDrives=[2, 3],\n",
    "    wait_us=4,\n",
    "    post_process='scale',\n",
    ")\n",
    "\n",
    "print(crosstalkEchoChevron.cfg)\n",
    "\n",
    "try:\n",
    "    crosstalkEchoChevron.go(analyze=False, display=False, progress=True, save=False)\n",
    "except Exception:\n",
    "    print(\"Pyro traceback:\")\n",
    "    print(\"\".join(Pyro4.util.getPyroTraceback()))"
   ]
  },
  {
   "cell_type": "code",
   "execution_count": null,
   "metadata": {},
   "outputs": [],
   "source": [
    "data = crosstalkEchoChevron.data\n",
    "for k, a in data.items():\n",
    "    data[k]=np.array(a)\n",
    "    if np.shape(data[k]) == (100,):\n",
    "        data[k] = np.reshape(data[k], (10, 10))\n",
    "crosstalkEchoChevron.analyze(fit=True)\n",
    "crosstalkEchoChevron.display(fit=True)"
   ]
  }
 ],
 "metadata": {
  "kernelspec": {
   "display_name": "base",
   "language": "python",
   "name": "python3"
  },
  "language_info": {
   "codemirror_mode": {
    "name": "ipython",
    "version": 3
   },
   "file_extension": ".py",
   "mimetype": "text/x-python",
   "name": "python",
   "nbconvert_exporter": "python",
   "pygments_lexer": "ipython3",
   "version": "3.9.13"
  },
  "toc": {
   "base_numbering": 1,
   "nav_menu": {},
   "number_sections": true,
   "sideBar": true,
   "skip_h1_title": false,
   "title_cell": "Table of Contents",
   "title_sidebar": "Contents",
   "toc_cell": false,
   "toc_position": {},
   "toc_section_display": true,
   "toc_window_display": false
  }
 },
 "nbformat": 4,
 "nbformat_minor": 4
}
