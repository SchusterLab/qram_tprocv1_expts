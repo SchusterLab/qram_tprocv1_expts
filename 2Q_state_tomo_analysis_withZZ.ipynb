{
 "cells": [
  {
   "cell_type": "code",
   "execution_count": 524,
   "metadata": {},
   "outputs": [
    {
     "name": "stdout",
     "output_type": "stream",
     "text": [
      "The autoreload extension is already loaded. To reload it, use:\n",
      "  %reload_ext autoreload\n"
     ]
    }
   ],
   "source": [
    "%load_ext autoreload\n",
    "%autoreload 2\n",
    "\n",
    "import numpy as np\n",
    "import matplotlib.pyplot as plt\n",
    "from mpl_toolkits.axes_grid1 import make_axes_locatable\n",
    "\n",
    "from qick import *\n",
    "from qick.helpers import gauss\n",
    "from tqdm import tqdm_notebook as tqdm\n",
    "\n",
    "import time\n",
    "import os\n",
    "expt_path=os.getcwd()+'/data'\n",
    "import sys\n",
    "import scipy as sp\n",
    "\n",
    "import qutip as qt\n",
    "import qutip.visualization as qplt\n",
    "\n",
    "from slab.instruments import *\n",
    "from slab.experiment import Experiment\n",
    "from slab.datamanagement import SlabFile\n",
    "from slab import get_next_filename\n",
    "\n",
    "# Figure params\n",
    "plt.rcParams['figure.figsize'] = [10,6]\n",
    "plt.rcParams.update({'font.size': 16})"
   ]
  },
  {
   "cell_type": "markdown",
   "metadata": {},
   "source": [
    "# Load experiments"
   ]
  },
  {
   "cell_type": "code",
   "execution_count": 2,
   "metadata": {},
   "outputs": [
    {
     "name": "stdout",
     "output_type": "stream",
     "text": [
      "experiments.2Q_state_tomography\n",
      "experiments.amplitude_rabi\n",
      "experiments.amplitude_rabi_ef\n",
      "experiments.amplitude_rabi_EgGf\n",
      "experiments.clifford_averager_program\n",
      "experiments.length_rabi\n",
      "experiments.pulse_probe_ef_spectroscopy\n",
      "experiments.pulse_probe_spectroscopy\n",
      "experiments.ramsey_ef\n",
      "experiments.randbench\n",
      "experiments.resonator_spectroscopy\n",
      "experiments.rfsoc_tof_calibration\n",
      "experiments.single_shot\n",
      "experiments.t1\n",
      "experiments.t2_echo\n",
      "experiments.t2_ramsey\n"
     ]
    }
   ],
   "source": [
    "# %aimport experiments\n",
    "# NOTE: ADDING NEW METHODS WILL NOT BE UPDATED\n",
    "import experiments as meas"
   ]
  },
  {
   "cell_type": "code",
   "execution_count": 3,
   "metadata": {},
   "outputs": [
    {
     "name": "stdout",
     "output_type": "stream",
     "text": [
      "Data will be stored in s:\\Connie\\experiments\\slab_rfsoc_expts\\data\n",
      "Config will be s:\\Connie\\experiments\\slab_rfsoc_expts\\config.yml\n"
     ]
    }
   ],
   "source": [
    "expt_path=os.getcwd()+'\\data'\n",
    "print('Data will be stored in', expt_path)\n",
    "config_path = os.getcwd() + '\\config.yml'\n",
    "print('Config will be', config_path)"
   ]
  },
  {
   "cell_type": "code",
   "execution_count": 4,
   "metadata": {},
   "outputs": [],
   "source": [
    "\"\"\"Reopen saved data\"\"\"\n",
    "def prev_data(expt_path, filename):\n",
    "    temp_data_file = expt_path+'/'+filename\n",
    "    with SlabFile(temp_data_file) as a:\n",
    "        keys = list(a)\n",
    "        temp_data = dict()\n",
    "        for key in keys:\n",
    "            temp_data.update({key:np.array(a[key])})\n",
    "    return temp_data"
   ]
  },
  {
   "cell_type": "code",
   "execution_count": 5,
   "metadata": {},
   "outputs": [],
   "source": [
    "qubits = [0, 1] # which qubit/resonator we want to probe"
   ]
  },
  {
   "cell_type": "markdown",
   "metadata": {},
   "source": [
    "# Setup experiment hardware\n",
    "\n",
    "Set in config:\n",
    "- LO alias, frequency, power\n",
    "- SOC dac channels, nyquist zones"
   ]
  },
  {
   "cell_type": "code",
   "execution_count": 6,
   "metadata": {},
   "outputs": [],
   "source": [
    "import yaml\n",
    "with open('config.yml', 'r') as cfg_file:\n",
    "    yaml_cfg = yaml.safe_load(cfg_file)"
   ]
  },
  {
   "cell_type": "code",
   "execution_count": 7,
   "metadata": {},
   "outputs": [],
   "source": [
    "im = InstrumentManager()"
   ]
  },
  {
   "cell_type": "code",
   "execution_count": null,
   "metadata": {},
   "outputs": [
    {
     "data": {
      "text/plain": [
       "0"
      ]
     },
     "metadata": {},
     "output_type": "display_data"
    }
   ],
   "source": [
    "lo1 = im[yaml_cfg['aliases']['readout_LO']]\n",
    "lo1.open_device()\n",
    "# lo1.set_standby(True)\n",
    "# lo1.set_output_state(False) # TURN ON/OFF\n",
    "lo1.set_standby(False)\n",
    "lo1.set_output_state(True) # TURN ON/OFF\n",
    "\n",
    "lo1.set_frequency(float(yaml_cfg['hw']['lo']['readout']['frequency'])) # Set LO frequency\n",
    "lo1.set_power(float(yaml_cfg['hw']['lo']['readout']['power'])) # Set LO power"
   ]
  },
  {
   "cell_type": "code",
   "execution_count": 8,
   "metadata": {},
   "outputs": [],
   "source": [
    "soc = QickConfig(im[yaml_cfg['aliases']['soc']].get_cfg())\n",
    "# print(soc.description())\n",
    "# print(soc.dump_cfg())"
   ]
  },
  {
   "cell_type": "markdown",
   "metadata": {},
   "source": [
    "# Begin state tomography\n",
    "\n",
    "Measurement occurs along 9 axes, each of which can give one of 4 values:\n",
    "\n",
    "ZZ, ZX, ZY, XZ, XX, XY, YZ, YX, YY -> {00, 01, 10, 11}"
   ]
  },
  {
   "cell_type": "markdown",
   "metadata": {},
   "source": [
    "## Run the experiment"
   ]
  },
  {
   "cell_type": "markdown",
   "metadata": {},
   "source": [
    "Run experiment and acquire data"
   ]
  },
  {
   "cell_type": "code",
   "execution_count": 84,
   "metadata": {},
   "outputs": [
    {
     "name": "stdout",
     "output_type": "stream",
     "text": [
      "{'device': {'qubit': {'T1': [130, 45], 'f_ge': [3672.7788, 4565.7], 'f_ef': [3513.592, 4387.126], 'f_EgGf': 5245.152, 'pulses': {'pi_ge': {'gain': [20522, 2012], 'sigma': [0.1, 0.05], 'type': 'gauss'}, 'pi_ef': {'gain': [7195, 1590], 'sigma': [0.3, 0.05], 'type': 'gauss'}, 'pi_EgGf': {'gain': 20439, 'sigma': 1, 'type': 'gauss'}}}, 'readout': {'lo': ['readout', 'readout'], 'trig_offset': 250, 'frequency': [299.6865, 899.6655], 'gain': [60, 120], 'phase': [0, 0.49892147931760106], 'threshold': [0, 0], 'readout_length': [10, 10], 'relax_delay': [600, 200]}}, 'hw': {'lo': {'readout': {'frequency': '6.25e9', 'power': 16}}, 'soc': {'adcs': {'readout': {'ch': [0, 1]}}, 'dacs': {'qubit': {'ch': [4, 5], 'nyquist': [2, 2]}, 'readout': {'ch': [1, 2], 'nyquist': [1, 1]}}}}, 'aliases': {'readout_LO': 'SC26C3', 'soc': 'Qick187'}, 'expt': {'reps': 10, 'qubits': [0, 1]}}\n"
     ]
    },
    {
     "data": {
      "application/vnd.jupyter.widget-view+json": {
       "model_id": "b3c67b772cd7472590ceb80b1d7beb60",
       "version_major": 2,
       "version_minor": 0
      },
      "text/plain": [
       "  0%|          | 0/9 [00:00<?, ?it/s]"
      ]
     },
     "metadata": {},
     "output_type": "display_data"
    },
    {
     "data": {
      "application/vnd.jupyter.widget-view+json": {
       "model_id": "96ee29e8159a47639ce2e1b87ef2790e",
       "version_major": 2,
       "version_minor": 0
      },
      "text/plain": [
       "  0%|          | 0/4 [00:00<?, ?it/s]"
      ]
     },
     "metadata": {},
     "output_type": "display_data"
    }
   ],
   "source": [
    "tomo = meas.EgGfStateTomographyExperiment(\n",
    "    soccfg=soc,\n",
    "    path=expt_path,\n",
    "    prefix=f\"EgGf_state_tomo_{qubits[0]}{qubits[1]}\",\n",
    "    config_file=config_path,\n",
    ")\n",
    "\n",
    "tomo.cfg.expt = dict(\n",
    "    reps=10, # reps per measurement basis\n",
    "    qubits=qubits,\n",
    ")\n",
    "\n",
    "print(tomo.cfg)\n",
    "tomo.go(analyze=False, display=False, progress=True, save=False)"
   ]
  },
  {
   "cell_type": "code",
   "execution_count": 102,
   "metadata": {},
   "outputs": [],
   "source": [
    "# separate out the data from the tomography measurements and the confusion matrix calibration\n",
    "n_tomo = tomo.data['counts_tomo']\n",
    "n_calib = tomo.data['counts_calib']"
   ]
  },
  {
   "cell_type": "code",
   "execution_count": 87,
   "metadata": {},
   "outputs": [],
   "source": [
    "measurement_order = tomo.data['meas_order']\n",
    "calib_order = tomo.data['calib_order']"
   ]
  },
  {
   "cell_type": "markdown",
   "metadata": {},
   "source": [
    "## Get initial rho from meas counts"
   ]
  },
  {
   "cell_type": "markdown",
   "metadata": {},
   "source": [
    "First random helper method stuff for pauli matrices and dealing with the measurement order"
   ]
  },
  {
   "cell_type": "code",
   "execution_count": 74,
   "metadata": {},
   "outputs": [],
   "source": [
    "def pauli(i): return [qt.qeye(2), qt.sigmax(), qt.sigmay(), qt.sigmaz()][i]\n",
    "\n",
    "def s2i(s): # string to pauli matrix index\n",
    "    return int(np.char.find('IXYZ', s))\n",
    "\n",
    "def i2s(i): # pauli matrix index to string\n",
    "    return 'IXYZ'[i]\n",
    "\n",
    "def order(S12): # given 2 pauli matrix names, get the index at which that combo (or equivalent data) was measured\n",
    "    assert S12[0] in 'IXYZ'\n",
    "    assert S12[1] in 'IXYZ'\n",
    "    # for the purposes of getting counts, measuring in I basis and Z basis are interchangeable\n",
    "    if S12[0] == 'I': S12 = 'Z'+S12[1]\n",
    "    if S12[1] == 'I': S12 = S12[0]+'Z'\n",
    "    return np.argwhere(measurement_order == S12)[0][0]\n",
    "# print(order('II'))"
   ]
  },
  {
   "cell_type": "code",
   "execution_count": null,
   "metadata": {},
   "outputs": [],
   "source": [
    "\"\"\"\n",
    "Define basis in to be used when doing MLE\n",
    "\"\"\"\n",
    "# 2 cardinal points on Bloch sphere for each measurement axis\n",
    "psiZ = [qt.basis(2,0), qt.basis(2,1)]\n",
    "psiX = [1/np.sqrt(2)*(psiZ[0]+psiZ[1]), 1/np.sqrt(2)*(psiZ[0]-psiZ[1])]\n",
    "psiY = [1/np.sqrt(2)*(psiZ[0]+1j*psiZ[1]), 1/np.sqrt(2)*(psiZ[0]-1j*psiZ[1])]\n",
    "psi = dict(Z=psiZ, X=psiX, Y=psiY)\n",
    "\n",
    "psi_basis = [] # ordered in the same sequence as the n counts array (36 elements)\n",
    "for S12 in measurement_order:\n",
    "    S1, S2 = S12\n",
    "    psi1 = psi[S1]\n",
    "    psi2 = psi[S2]\n",
    "    psi_basis.append(qt.tensor(psi1[0], psi2[0])) # gg\n",
    "    psi_basis.append(qt.tensor(psi1[0], psi2[1])) # ge\n",
    "    psi_basis.append(qt.tensor(psi1[1], psi2[0])) # eg\n",
    "    psi_basis.append(qt.tensor(psi1[1], psi2[1])) # ee"
   ]
  },
  {
   "cell_type": "markdown",
   "metadata": {},
   "source": [
    "Convert single shot measurements into counts for each of the 9 measurement axes: 4x9=36 elements in the count array, then into the initial rho from experiment which will likely be unphysical."
   ]
  },
  {
   "cell_type": "code",
   "execution_count": 99,
   "metadata": {},
   "outputs": [],
   "source": [
    "# shots = np.array([[0, 1, 0, 1, 0, 0, 1, 0, 1], [1, 1, 0, 0, 0, 1, 1, 1, 1]])\n",
    "# print(shots)\n",
    "# n00 = np.sum(np.logical_and(np.logical_not(shots[0]), np.logical_not(shots[1])))\n",
    "# n01 = np.sum(np.logical_and(np.logical_not(shots[0]), shots[1]))\n",
    "# n10 = np.sum(np.logical_and(shots[0], np.logical_not(shots[1])))\n",
    "# n11 = np.sum(np.logical_and(shots[0], shots[1]))\n",
    "# print([n00, n01, n10, n11])"
   ]
  },
  {
   "cell_type": "code",
   "execution_count": 76,
   "metadata": {},
   "outputs": [],
   "source": [
    "\"\"\"\n",
    "n should be length 4 array containing single shot counts of measuring 00, 01, 10, 11 for measurement along axes i, j\n",
    "Converts n to Tij for use in the T^\\dag T = rho matrix where measurement axes are S1 and S2: I, X, Y, Z\n",
    "\"\"\"\n",
    "def Tij(n, S1, S2):\n",
    "    assert 0 <= S1 <= 3 # S1, S2 represent pauli matrix indices\n",
    "    assert 0 <= S2 <= 3\n",
    "    signs = [1]*4\n",
    "    # eigenvalues of X, Y, Z are +/- 1, eigenvalues of I are +1\n",
    "    if S1 > 0: signs[2] *= -1; signs[3] *= -1\n",
    "    if S2 > 0: signs[1] *= -1; signs[3] *= -1\n",
    "    return np.sum(np.multiply(signs, n))\n"
   ]
  },
  {
   "cell_type": "code",
   "execution_count": 77,
   "metadata": {},
   "outputs": [],
   "source": [
    "\"\"\"\n",
    "Construct rho by adding together Tij for each of the 4^2 = 16 combinations of tensor product of 2 Pauli matrices\n",
    "\"\"\"\n",
    "def rho_from_counts(n):\n",
    "    rho = 0*qt.tensor(qt.qeye(2), qt.qeye(2))\n",
    "    for i in range(4): # loop over pauli matrices for qubit 1\n",
    "        for j in range(4): # loop over pauli matrices for qubit 2\n",
    "            o = order(i2s(i) + i2s(j)) # get the right 4 elements in the n matrix\n",
    "            # print(i2s(i), i2s(j), Tij(n[4*o:4*(o+1)], i, j))\n",
    "            rho += Tij(n[4*o:4*(o+1)], i, j) * qt.tensor(pauli(i), pauli(j))\n",
    "    rho = rho.unit() # normalize\n",
    "    rho = rho.tidyup(1e-10) # remove small elements\n",
    "    return rho.full()"
   ]
  },
  {
   "cell_type": "markdown",
   "metadata": {},
   "source": [
    "### Generating test data"
   ]
  },
  {
   "cell_type": "code",
   "execution_count": 117,
   "metadata": {},
   "outputs": [],
   "source": [
    "def generate_counts(rho_id, n_tot, noise=1.0):\n",
    "    n = []\n",
    "    for psi in psi_basis:\n",
    "        # measure in psi basis\n",
    "        n.append(n_tot * (psi * psi.dag() * rho_id).tr())\n",
    "    n = np.reshape(np.array(n), (len(psi_basis)//4, 4))\n",
    "\n",
    "    # introduce gaussian noise\n",
    "    for n_psi in n:\n",
    "        n_meas = sum(n_psi)\n",
    "        new_n3 = -1\n",
    "        while new_n3 < 0:\n",
    "            new_n012 = np.random.normal(loc=n_psi[:3], scale=noise*np.sqrt(n_psi[:3]))\n",
    "            # preserve original total count per measurement\n",
    "            new_n3 = n_meas - sum(new_n012)\n",
    "        n_psi[:3] = np.round(new_n012)\n",
    "        n_psi[3] = np.round(new_n3)\n",
    "    return n"
   ]
  },
  {
   "cell_type": "markdown",
   "metadata": {},
   "source": [
    "### Error mitigation\n",
    "Readout error means state prepared in |gg> will also have counts in |ge>, |eg>, |ee>; apply inverse of confusion matrix to correct. See qiskit measurement error mitigation procedure: [https://qiskit.org/textbook/ch-quantum-hardware/measurement-error-mitigation.html](https://qiskit.org/textbook/ch-quantum-hardware/measurement-error-mitigation.html)\n",
    "\n",
    "maybe need to do something about fixing negative counts, but for now I will not. it should be automatically resolved in the MLE."
   ]
  },
  {
   "cell_type": "code",
   "execution_count": 511,
   "metadata": {},
   "outputs": [],
   "source": [
    "def correct_readout_err(n, n_conf):\n",
    "    conf_mat = np.array(n_conf, dtype=float)\n",
    "    for r, row in enumerate(conf_mat):\n",
    "        conf_mat[r] /= sum(row) # normalize so counts for each state prep sum to 1\n",
    "    conf_mat = np.transpose(conf_mat) # want counts for each state prep on columns\n",
    "    conf_mat_inv = np.linalg.inv(conf_mat)\n",
    "    # C_id = invM . C_noisy\n",
    "    n = np.array(n, dtype=float)\n",
    "    for r in range(len(n)):\n",
    "        n[r] = (conf_mat_inv @ n[r].T).T\n",
    "    return np.around(n, decimals=5)"
   ]
  },
  {
   "cell_type": "markdown",
   "metadata": {},
   "source": [
    "## Fix rho to a physical density matrix using MLE\n",
    "Initial counts will be unphysical. Use MLE to map counts to a physical density matrix."
   ]
  },
  {
   "cell_type": "markdown",
   "metadata": {},
   "source": [
    "### Cholesky-esque decomposition functions\n",
    "This is taken from [James et al. 2001](https://journals.aps.org/pra/pdf/10.1103/PhysRevA.64.052312), eq. 4.6.\n",
    "\n",
    "I still don't understand why np linalg LDL* decomposition doesn't work, but I think it has something to do with the way I was trying to handle the permutation matrices, but I give up for now."
   ]
  },
  {
   "cell_type": "code",
   "execution_count": 506,
   "metadata": {},
   "outputs": [],
   "source": [
    "def det_ij(rho, i, j):\n",
    "    M = np.delete(rho, i, axis=0)\n",
    "    M = np.delete(M, j, axis=1)\n",
    "    return np.linalg.det(M)\n",
    "\n",
    "def det_ijkl(rho, i, j, k, l):\n",
    "    M = np.delete(rho, [i,k], axis=0)\n",
    "    M = np.delete(M, [j,l], axis=1)\n",
    "    return np.linalg.det(M)\n",
    "        \n",
    "def t_from_rho(rho):\n",
    "    t = []\n",
    "    det = np.linalg.det(rho)\n",
    "    det00 = det_ij(rho, 0, 0)\n",
    "    det01 = det_ij(rho, 0, 1)\n",
    "    det0011 = det_ijkl(rho, 0, 0, 1, 1)\n",
    "    det0012 = det_ijkl(rho, 0, 0, 1, 2)\n",
    "    det0112 = det_ijkl(rho, 0, 1, 1, 2)\n",
    "    t = [np.sqrt(det/det00), np.sqrt(det00/det0011), np.sqrt(det0011/rho[3,3]), np.sqrt(rho[3,3])]\n",
    "    t56 = det01/np.sqrt(det00*det0011)\n",
    "    t.extend([np.real(t56), np.imag(t56)])\n",
    "    t78 = det0012/np.sqrt(rho[3,3]*det0011)\n",
    "    t.extend([np.real(t78), np.imag(t78)])\n",
    "    t910 = rho[3,2]/np.sqrt(rho[3,3])\n",
    "    t.extend([np.real(t910), np.imag(t910)])\n",
    "    t1112 = det0112/np.sqrt(rho[3,3]*det0011)\n",
    "    t.extend([np.real(t1112), np.imag(t1112)])\n",
    "    t1314 = rho[3,1]/np.sqrt(rho[3,3])\n",
    "    t.extend([np.real(t1314), np.imag(t1314)])\n",
    "    t1516 = rho[3,0]/np.sqrt(rho[3,3])\n",
    "    t.extend([np.real(t1516), np.imag(t1516)])\n",
    "    assert(len(t)==16)\n",
    "    return np.real(np.array(t)) # take the real since rho may be slightly non-positive semi definite, so det(rho) may be slightly negative\n",
    "    \n",
    "def T_flat2mat(t):\n",
    "    T_mat = []\n",
    "    T_mat.append(np.array([t[0],           0,              0,               0]))\n",
    "    T_mat.append(np.array([t[4] +1j*t[5],  t[1],           0,               0]))\n",
    "    T_mat.append(np.array([t[10]+1j*t[11], t[6]+1j*t[7],   t[2],            0]))\n",
    "    T_mat.append(np.array([t[14]+1j*t[15], t[12]+1j*t[13], t[8]+1j*t[9], t[3]]))\n",
    "    return np.array(T_mat)\n",
    "        \n",
    "def rho_from_t(t):\n",
    "    T = T_flat2mat(t)\n",
    "    rho = T.conj().T @ T\n",
    "    return rho / np.trace(rho)"
   ]
  },
  {
   "cell_type": "markdown",
   "metadata": {},
   "source": [
    "### ZZ correction\n",
    "Instead of using bare psis in MLE, introduce ZZ coupling in Hamiltonian and use the pulse shapes used in the tomography pulse sequence to simulate the expected final state of each of the psis. Then use these corrected \"evolution matrices\" to match the MLE."
   ]
  },
  {
   "cell_type": "code",
   "execution_count": 113,
   "metadata": {},
   "outputs": [],
   "source": [
    "# need to do this - will take some work\n",
    "evol_matrices = None"
   ]
  },
  {
   "cell_type": "markdown",
   "metadata": {},
   "source": [
    "### MLE functions"
   ]
  },
  {
   "cell_type": "code",
   "execution_count": 509,
   "metadata": {},
   "outputs": [],
   "source": [
    "# See also Niggebaum quantum state tomography (note they use T^\\dag T while I use TT^\\dag)\n",
    "def run_MLE_standard(n, rho_guess=None, method='L-BFGS-B', decimals=10):\n",
    "    # methods = 'Nelder-Mead' 'Powell' 'CG' 'BFGS' 'Newton-CG' 'L-BFGS-B' 'TNC' 'COBYLA' 'SLSQP' 'dogleg' 'trust-ncg'\n",
    "    if rho_guess == None: rho_guess = rho_from_counts(n)\n",
    "    n_tot = sum(n)\n",
    "    def likelihood(t_arr):\n",
    "        rho = rho_from_t(t_arr)\n",
    "        rho = rho / np.trace(rho)\n",
    "        val = 0\n",
    "        for psi, n_val in zip(psi_basis, n.flatten()):\n",
    "            psi = psi.full()\n",
    "            proj = (psi.conj().T @ rho @ psi)[0][0]\n",
    "            if proj != 0:\n",
    "                val += np.real(abs(n_tot * proj - n_val)**2 / (n_tot * proj))\n",
    "        return val\n",
    "    optvals = sp.optimize.minimize(likelihood, t_from_rho(rho_guess), method=method)\n",
    "    print(f'Convergence: {optvals.success}')\n",
    "    return np.around(rho_from_t(optvals.x), decimals=decimals)\n",
    "        "
   ]
  },
  {
   "cell_type": "code",
   "execution_count": 144,
   "metadata": {},
   "outputs": [],
   "source": [
    "def run_MLE_ZZ(n, evol_matrices, rho_guess=None, method='L-BFGS-B', decimals=10):\n",
    "    raise NotImplementedError"
   ]
  },
  {
   "cell_type": "code",
   "execution_count": 82,
   "metadata": {},
   "outputs": [],
   "source": [
    "def run_MLE(n, ZZ_correction=False, evol_matrices=None, rho_guess=None, method='L-BFGS-B'):\n",
    "    if ZZ_correction: return run_MLE_ZZ(n, evol_matrices, rho_guess=rho_guess, method=method)\n",
    "    else: return run_MLE_standard(n, rho_guess=rho_guess, method=method)"
   ]
  },
  {
   "cell_type": "markdown",
   "metadata": {},
   "source": [
    "## Run analysis"
   ]
  },
  {
   "cell_type": "code",
   "execution_count": null,
   "metadata": {},
   "outputs": [],
   "source": [
    "# open data"
   ]
  },
  {
   "cell_type": "markdown",
   "metadata": {},
   "source": [
    "Calculate ideal psi for fidelity calculation. Change this depending on what you want for ideal final state."
   ]
  },
  {
   "cell_type": "code",
   "execution_count": 373,
   "metadata": {},
   "outputs": [],
   "source": [
    "psi_id = qt.tensor(psiZ[1], psiY[1])\n",
    "rho_id = qt.ket2dm(psi_id)"
   ]
  },
  {
   "cell_type": "code",
   "execution_count": 512,
   "metadata": {},
   "outputs": [],
   "source": [
    "# apply confusion matrix correction\n",
    "n_tomo = correct_readout_err(n_tomo, n_calib)"
   ]
  },
  {
   "cell_type": "markdown",
   "metadata": {},
   "source": [
    "Use test data"
   ]
  },
  {
   "cell_type": "code",
   "execution_count": null,
   "metadata": {},
   "outputs": [
    {
     "name": "stdout",
     "output_type": "stream",
     "text": [
      "[[   0.    0.  497.  503.]\n",
      " [   0.    0.  511.  489.]\n",
      " [   0.    0.    0. 1000.]\n",
      " [ 241.  261.  240.  257.]\n",
      " [ 255.  256.  255.  234.]\n",
      " [   0.  498.    0.  502.]\n",
      " [ 267.  236.  247.  250.]\n",
      " [ 247.  257.  260.  237.]\n",
      " [   0.  505.    0.  495.]]\n"
     ]
    }
   ],
   "source": [
    "n_tomo = generate_counts(rho_id=rho_id, n_tot=1000, noise=1)\n",
    "print(n_tomo)"
   ]
  },
  {
   "cell_type": "markdown",
   "metadata": {},
   "source": [
    "Run two stages of MLE, w/o and with ZZ correction."
   ]
  },
  {
   "cell_type": "code",
   "execution_count": 507,
   "metadata": {},
   "outputs": [
    {
     "name": "stdout",
     "output_type": "stream",
     "text": [
      "Convergence: True\n",
      "Fidelity (base): 0.9996504559254457\n",
      "Purity (base): 0.9999998799428209\n"
     ]
    }
   ],
   "source": [
    "# methods = 'Nelder-Mead' 'Powell' 'CG' 'BFGS' 'Newton-CG' 'L-BFGS-B' 'TNC' 'COBYLA' 'SLSQP' 'dogleg' 'trust-ncg'\n",
    "rho_MLE_base = run_MLE(n_tomo, ZZ_correction=False, method='L-BFGS-B')\n",
    "fid_base = qt.fidelity(qt.Qobj(rho_MLE_base, dims=rho_id.dims), rho_id)**2 # qutip uses N&C fidelity which is \"sqrt fidelity\"\n",
    "purity_base = np.real(np.trace(rho_MLE_base @ rho_MLE_base))\n",
    "print(f'Fidelity (base): {fid_base}')\n",
    "print(f'Purity (base): {purity_base}')"
   ]
  },
  {
   "cell_type": "code",
   "execution_count": 508,
   "metadata": {},
   "outputs": [
    {
     "name": "stdout",
     "output_type": "stream",
     "text": [
      "[[ 0.   +0.j    -0.   +0.j    -0.003+0.002j -0.002-0.003j]\n",
      " [-0.   -0.j     0.   +0.j     0.005-0.j     0.   +0.005j]\n",
      " [-0.003-0.002j  0.005+0.j     0.515+0.j    -0.006+0.5j  ]\n",
      " [-0.002+0.003j  0.   -0.005j -0.006-0.5j    0.485+0.j   ]]\n",
      "[[0. +0.j  0. +0.j  0. +0.j  0. +0.j ]\n",
      " [0. +0.j  0. +0.j  0. +0.j  0. +0.j ]\n",
      " [0. +0.j  0. +0.j  0.5+0.j  0. +0.5j]\n",
      " [0. +0.j  0. +0.j  0. -0.5j 0.5+0.j ]]\n"
     ]
    }
   ],
   "source": [
    "print(np.around(rho_MLE_base, decimals=3))\n",
    "print(rho_id.full())"
   ]
  },
  {
   "cell_type": "code",
   "execution_count": null,
   "metadata": {},
   "outputs": [],
   "source": [
    "rho_MLE_ZZ = run_MLE(n_tomo, rho_guess=rho_MLE_base, ZZ_correction=True, evol_matrices=evol_matrices)\n",
    "fid_ZZ = (qt.fidelity(rho_MLE_ZZ, rho_id))**2 # qutip uses N&C fidelity which is \"sqrt fidelity\"\n",
    "purity_ZZ = np.trace(rho_MLE_ZZ @ rho_MLE_ZZ)\n",
    "print(f'Fidelity (with ZZ correction): {fid_ZZ}')\n",
    "print(f'Purity (with ZZ correction): {purity_ZZ}')"
   ]
  },
  {
   "cell_type": "code",
   "execution_count": 540,
   "metadata": {},
   "outputs": [],
   "source": [
    "def show_mat_2d(mat, ax, title, labels, cmax=None, show=True):\n",
    "    \"\"\"\n",
    "    Plot an arbitrary 2D matrix with labels\n",
    "    \"\"\"\n",
    "    plt.sca(ax)\n",
    "    plt.title(title)\n",
    "    plt.imshow(np.real(mat), cmap='RdBu')\n",
    "    plt.xticks(np.arange(len(mat)), labels)\n",
    "    plt.yticks(np.arange(len(mat)), labels)\n",
    "    # Loop over data dimensions and create text annotations.\n",
    "    for ii in range(len(mat)):\n",
    "        for jj in range(len(mat)):\n",
    "            plt.text(ii, jj, round(mat[jj, ii], 3), ha=\"center\", va=\"center\", color=\"w\", size=11)\n",
    "    divider = make_axes_locatable(ax)\n",
    "    cax = divider.append_axes(\"right\", size=\"5%\", pad=0.05)\n",
    "    plt.colorbar(cax=cax)\n",
    "    if cmax == None: cmax = np.max(np.abs(mat))\n",
    "    plt.clim(vmin=-cmax, vmax=cmax)\n",
    "    if show: plt.show()\n",
    "\n",
    "def show_plot_rho_2d(rho_MLE, rho_id=None):\n",
    "    \"\"\"\n",
    "    Plot real and imag parts of rho, optionally also with a comparison ideal rho\n",
    "    \"\"\"\n",
    "    labels = [\"00\", \"01\", \"10\", \"11\"]\n",
    "    if rho_id is None:\n",
    "        fig = plt.figure(figsize=(15, 5))\n",
    "        ax1 = fig.add_subplot(121)\n",
    "        ax2 = fig.add_subplot(122)\n",
    "    else:\n",
    "        fig = plt.figure(figsize=(15, 12))\n",
    "        ax1 = fig.add_subplot(221)\n",
    "        ax2 = fig.add_subplot(222)\n",
    "        ax3 = fig.add_subplot(223)\n",
    "        ax4 = fig.add_subplot(224)\n",
    "    show_mat_2d(np.real(rho_MLE), ax=ax1, title=\"Re[$\\\\rho_{MLE}$]\", labels=labels, show=False)\n",
    "    show_mat_2d(np.imag(rho_MLE), ax=ax2, title=\"Im[$\\\\rho_{MLE}$]\", labels=labels, show=False)\n",
    "    show_mat_2d(np.real(rho_id), ax=ax3, title=\"Re[$\\\\rho_{Ideal}$]\", labels=labels, show=False)\n",
    "    show_mat_2d(np.imag(rho_id), ax=ax4, title=\"Im[$\\\\rho_{Ideal}$]\", labels=labels, show=False)\n",
    "    plt.show()\n",
    "\n",
    "def show_plot_rho_3d(rho_MLE, rho_id=None):\n",
    "    # Author: Ziqian\n",
    "    if rho_id is None:\n",
    "        fig = plt.figure(figsize=(15, 5))\n",
    "        ax1 = fig.add_subplot(121, projection='3d')\n",
    "        ax2 = fig.add_subplot(122, projection='3d')\n",
    "    else:\n",
    "        fig = plt.figure(figsize=(15, 10))\n",
    "        ax1 = fig.add_subplot(221, projection='3d')\n",
    "        ax2 = fig.add_subplot(222, projection='3d')\n",
    "        ax3 = fig.add_subplot(223, projection='3d')\n",
    "        ax4 = fig.add_subplot(224, projection='3d')\n",
    "    \n",
    "    labels = [\"00\", \"01\", \"10\", \"11\"]\n",
    "    qplt.matrix_histogram(np.real(rho_MLE), labels, labels, limits=[-0.5,0.5], ax=ax1)\n",
    "    qplt.matrix_histogram(np.imag(rho_MLE), labels, labels, limits=[-0.5,0.5], ax=ax2)\n",
    "    if rho_id is not None:\n",
    "        qplt.matrix_histogram(np.real(rho_id), labels, labels, limits=[-0.5,0.5], ax=ax3)\n",
    "        qplt.matrix_histogram(np.imag(rho_id), labels, labels, limits=[-0.5,0.5], ax=ax4)\n",
    "    \n",
    "    ax1.view_init(azim=-55, elev=45)\n",
    "    ax2.view_init(azim=-55, elev=45)\n",
    "    ax1.set_title(\"Re[$\\\\rho_{MLE}$]\")\n",
    "    ax2.set_title(\"Im[$\\\\rho_{MLE}$]\")\n",
    "    if rho_id is not None:\n",
    "        ax3.view_init(azim=-55, elev=45)\n",
    "        ax4.view_init(azim=-55, elev=45)\n",
    "        ax3.set_title(\"Re[$\\\\rho_{ideal}$]\")\n",
    "        ax4.set_title(\"Im[$\\\\rho_{ideal}$]\")\n",
    "    plt.show()"
   ]
  },
  {
   "cell_type": "code",
   "execution_count": 541,
   "metadata": {},
   "outputs": [
    {
     "data": {
      "image/png": "[encoded data removed]",
      "text/plain": [
       "<Figure size 1080x864 with 8 Axes>"
      ]
     },
     "metadata": {
      "needs_background": "light"
     },
     "output_type": "display_data"
    }
   ],
   "source": [
    "show_plot_rho_2d(rho_MLE_base, rho_id)"
   ]
  },
  {
   "cell_type": "code",
   "execution_count": null,
   "metadata": {},
   "outputs": [],
   "source": []
  }
 ],
 "metadata": {
  "interpreter": {
   "hash": "8a65d91a9bf71a2f171ce63c6453a48d0c07e1ad90ea4a74680bb3625b5093c7"
  },
  "kernelspec": {
   "display_name": "Python 3.8.8 ('base')",
   "language": "python",
   "name": "python3"
  },
  "language_info": {
   "codemirror_mode": {
    "name": "ipython",
    "version": 3
   },
   "file_extension": ".py",
   "mimetype": "text/x-python",
   "name": "python",
   "nbconvert_exporter": "python",
   "pygments_lexer": "ipython3",
   "version": "3.8.8"
  },
  "orig_nbformat": 4
 },
 "nbformat": 4,
 "nbformat_minor": 2
}
