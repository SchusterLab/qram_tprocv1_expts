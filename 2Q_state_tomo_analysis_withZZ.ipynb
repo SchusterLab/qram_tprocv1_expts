{
 "cells": [
  {
   "cell_type": "code",
   "execution_count": 1,
   "metadata": {},
   "outputs": [
    {
     "name": "stdout",
     "output_type": "stream",
     "text": [
      "Could not import QickSoc: No module named 'pynq'\n"
     ]
    },
    {
     "name": "stderr",
     "output_type": "stream",
     "text": [
      "C:\\Users\\slab\\anaconda3\\lib\\site-packages\\visa.py:13: FutureWarning: The visa module provided by PyVISA is being deprecated. You can replace `import visa` by `import pyvisa as visa` to achieve the same effect.\n",
      "\n",
      "The reason for the deprecation is the possible conflict with the visa package provided by the https://github.com/visa-sdk/visa-python which can result in hard to debug situations.\n",
      "  warnings.warn(\n"
     ]
    },
    {
     "name": "stdout",
     "output_type": "stream",
     "text": [
      "Warning serial library import failed.\n"
     ]
    },
    {
     "name": "stderr",
     "output_type": "stream",
     "text": [
      "C:\\Users\\slab\\anaconda3\\lib\\site-packages\\IPython\\qt.py:12: ShimWarning: The `IPython.qt` package has been deprecated since IPython 4.0. You should import from qtconsole instead.\n",
      "  warn(\"The `IPython.qt` package has been deprecated since IPython 4.0. \"\n"
     ]
    },
    {
     "name": "stdout",
     "output_type": "stream",
     "text": [
      "Could not load InstrumentManagerWindow\n",
      "Could not import QickInstrument, try install qick package\n",
      "Could not load AD5780 dac \n",
      "Could not load labbrick\n",
      "Could not load Autonics TM4 Driver\n",
      "Could not load Oxford Trition driver\n"
     ]
    }
   ],
   "source": [
    "%load_ext autoreload\n",
    "%autoreload 2\n",
    "\n",
    "import numpy as np\n",
    "import matplotlib.pyplot as plt\n",
    "from mpl_toolkits.axes_grid1 import make_axes_locatable\n",
    "\n",
    "from qick import *\n",
    "from qick.helpers import gauss\n",
    "from tqdm import tqdm_notebook as tqdm\n",
    "\n",
    "import time\n",
    "import os\n",
    "expt_path=os.getcwd()+'/data'\n",
    "import sys\n",
    "import scipy as sp\n",
    "import json\n",
    "\n",
    "import qutip as qt\n",
    "import qutip.visualization as qplt\n",
    "\n",
    "from slab.instruments import *\n",
    "from slab.experiment import Experiment\n",
    "from slab.datamanagement import SlabFile\n",
    "from slab import get_next_filename, AttrDict\n",
    "\n",
    "# Figure params\n",
    "plt.rcParams['figure.figsize'] = [10,6]\n",
    "plt.rcParams.update({'font.size': 16})"
   ]
  },
  {
   "cell_type": "code",
   "execution_count": 2,
   "metadata": {},
   "outputs": [],
   "source": [
    "sys.path.append(os.getcwd()+'/../../qutip_sims')\n",
    "from QSwitch import QSwitch\n",
    "from PulseSequence import PulseSequence"
   ]
  },
  {
   "cell_type": "markdown",
   "metadata": {},
   "source": [
    "# State tomography analysis functions\n",
    "\n",
    "Measurement occurs along 9 axes, each of which can give one of 4 values:\n",
    "\n",
    "ZZ, ZX, ZY, XZ, XX, XY, YZ, YX, YY -> {00, 01, 10, 11}"
   ]
  },
  {
   "cell_type": "code",
   "execution_count": 7,
   "metadata": {},
   "outputs": [],
   "source": [
    "meas_order = np.array(['ZZ', 'ZX', 'ZY', 'XZ', 'XX', 'XY', 'YZ', 'YX', 'YY'])\n",
    "calib_order = np.array(['gg', 'ge', 'eg', 'ee'])"
   ]
  },
  {
   "cell_type": "markdown",
   "metadata": {},
   "source": [
    "## Getting rho from meas counts"
   ]
  },
  {
   "cell_type": "markdown",
   "metadata": {},
   "source": [
    "First random helper method stuff for pauli matrices and dealing with the measurement order"
   ]
  },
  {
   "cell_type": "code",
   "execution_count": 8,
   "metadata": {},
   "outputs": [],
   "source": [
    "def pauli(i): return [qt.qeye(2), qt.sigmax(), qt.sigmay(), qt.sigmaz()][i]\n",
    "\n",
    "def s2i(s): # string to pauli matrix index\n",
    "    return int(np.char.find('IXYZ', s))\n",
    "\n",
    "def i2s(i): # pauli matrix index to string\n",
    "    return 'IXYZ'[i]\n",
    "\n",
    "def order(S12): # given 2 pauli matrix names, get the index at which that combo (or equivalent data) was measured\n",
    "    assert S12[0] in 'IXYZ'\n",
    "    assert S12[1] in 'IXYZ'\n",
    "    # for the purposes of getting counts, measuring in I basis and Z basis are interchangeable\n",
    "    if S12[0] == 'I': S12 = 'Z'+S12[1]\n",
    "    if S12[1] == 'I': S12 = S12[0]+'Z'\n",
    "    return np.argwhere(meas_order == S12)[0][0]\n",
    "# print(order('II'))"
   ]
  },
  {
   "cell_type": "code",
   "execution_count": 9,
   "metadata": {},
   "outputs": [],
   "source": [
    "\"\"\"\n",
    "Define basis in to be used when doing MLE\n",
    "\"\"\"\n",
    "# 2 cardinal points on Bloch sphere for each measurement axis\n",
    "psiZ = [qt.basis(2,0), qt.basis(2,1)]\n",
    "psiX = [1/np.sqrt(2)*(psiZ[0]+psiZ[1]), 1/np.sqrt(2)*(psiZ[0]-psiZ[1])]\n",
    "psiY = [1/np.sqrt(2)*(psiZ[0]+1j*psiZ[1]), 1/np.sqrt(2)*(psiZ[0]-1j*psiZ[1])]\n",
    "psi = dict(Z=psiZ, X=psiX, Y=psiY)\n",
    "\n",
    "psi_basis = [] # ordered in the same sequence as the n counts array (36 elements)\n",
    "for S12 in meas_order:\n",
    "    S1, S2 = S12\n",
    "    psi1 = psi[S1]\n",
    "    psi2 = psi[S2]\n",
    "    psi_basis.append(qt.tensor(psi1[0], psi2[0])) # gg\n",
    "    psi_basis.append(qt.tensor(psi1[0], psi2[1])) # ge\n",
    "    psi_basis.append(qt.tensor(psi1[1], psi2[0])) # eg\n",
    "    psi_basis.append(qt.tensor(psi1[1], psi2[1])) # ee"
   ]
  },
  {
   "cell_type": "markdown",
   "metadata": {},
   "source": [
    "Convert single shot measurements into counts for each of the 9 measurement axes: 4x9=36 elements in the count array, then into the initial rho from experiment which will likely be unphysical."
   ]
  },
  {
   "cell_type": "code",
   "execution_count": 10,
   "metadata": {},
   "outputs": [],
   "source": [
    "\"\"\"\n",
    "n should be length 4 array containing single shot counts of measuring 00, 01, 10, 11 for measurement along axes i, j\n",
    "Converts n to Tij for use in the T^\\dag T = rho matrix where measurement axes are S1 and S2: I, X, Y, Z\n",
    "\"\"\"\n",
    "def Tij(n, S1, S2):\n",
    "    assert 0 <= S1 <= 3 # S1, S2 represent pauli matrix indices\n",
    "    assert 0 <= S2 <= 3\n",
    "    signs = [1]*4\n",
    "    # eigenvalues of X, Y, Z are +/- 1, eigenvalues of I are +1\n",
    "    if S1 > 0: signs[2] *= -1; signs[3] *= -1\n",
    "    if S2 > 0: signs[1] *= -1; signs[3] *= -1\n",
    "    return np.sum(np.multiply(signs, n))\n"
   ]
  },
  {
   "cell_type": "code",
   "execution_count": 11,
   "metadata": {},
   "outputs": [],
   "source": [
    "\"\"\"\n",
    "Construct rho by adding together Tij for each of the 4^2 = 16 combinations of tensor product of 2 Pauli matrices\n",
    "\"\"\"\n",
    "def rho_from_counts(n):\n",
    "    rho = 0*qt.tensor(qt.qeye(2), qt.qeye(2))\n",
    "    for i in range(4): # loop over pauli matrices for qubit 1\n",
    "        for j in range(4): # loop over pauli matrices for qubit 2\n",
    "            o = order(i2s(i) + i2s(j)) # get the right 4 elements in the n matrix\n",
    "            # print(i2s(i), i2s(j), Tij(n[4*o:4*(o+1)], i, j))\n",
    "            rho += Tij(n[4*o:4*(o+1)], i, j) * qt.tensor(pauli(i), pauli(j))\n",
    "    rho = rho.unit() # normalize\n",
    "    rho = rho.tidyup(1e-10) # remove small elements\n",
    "    return rho.full()"
   ]
  },
  {
   "cell_type": "markdown",
   "metadata": {},
   "source": [
    "### Generate test data"
   ]
  },
  {
   "cell_type": "code",
   "execution_count": 12,
   "metadata": {},
   "outputs": [],
   "source": [
    "def generate_counts(rho_id, n_tot, noise=1.0):\n",
    "    n = []\n",
    "    for psi in psi_basis:\n",
    "        # measure in psi basis\n",
    "        n.append(n_tot * (psi * psi.dag() * rho_id).tr())\n",
    "    n = np.reshape(np.array(n), (len(psi_basis)//4, 4))\n",
    "\n",
    "    # introduce gaussian noise\n",
    "    for n_psi in n:\n",
    "        n_meas = sum(n_psi)\n",
    "        new_n3 = -1\n",
    "        while new_n3 < 0:\n",
    "            new_n012 = np.random.normal(loc=n_psi[:3], scale=noise*np.sqrt(n_psi[:3]))\n",
    "            # preserve original total count per measurement\n",
    "            new_n3 = n_meas - sum(new_n012)\n",
    "        n_psi[:3] = np.round(new_n012)\n",
    "        n_psi[3] = np.round(new_n3)\n",
    "    return n"
   ]
  },
  {
   "cell_type": "markdown",
   "metadata": {},
   "source": [
    "### Error mitigation\n",
    "Readout error means state prepared in |gg> will also have counts in |ge>, |eg>, |ee>; apply inverse of confusion matrix to correct. See qiskit measurement error mitigation procedure: [https://qiskit.org/textbook/ch-quantum-hardware/measurement-error-mitigation.html](https://qiskit.org/textbook/ch-quantum-hardware/measurement-error-mitigation.html)\n",
    "\n",
    "maybe need to do something about fixing negative counts, but for now I will not. it should be automatically resolved in the MLE."
   ]
  },
  {
   "cell_type": "code",
   "execution_count": 13,
   "metadata": {},
   "outputs": [],
   "source": [
    "def correct_readout_err(n, n_conf):\n",
    "    conf_mat = np.array(n_conf, dtype=float)\n",
    "    for r, row in enumerate(conf_mat):\n",
    "        conf_mat[r] /= sum(row) # normalize so counts for each state prep sum to 1\n",
    "    conf_mat = np.transpose(conf_mat) # want counts for each state prep on columns\n",
    "    conf_mat_inv = np.linalg.inv(conf_mat)\n",
    "    # C_id = invM . C_noisy\n",
    "    n = np.array(n, dtype=float)\n",
    "    for r in range(len(n)):\n",
    "        n[r] = (conf_mat_inv @ n[r].T).T\n",
    "    return np.around(n, decimals=5)"
   ]
  },
  {
   "cell_type": "markdown",
   "metadata": {},
   "source": [
    "## Fix rho to a physical density matrix using MLE\n",
    "Initial counts will be unphysical. Use MLE to map counts to a physical density matrix."
   ]
  },
  {
   "cell_type": "markdown",
   "metadata": {},
   "source": [
    "### Cholesky-esque decomposition functions\n",
    "This is taken from [James et al. 2001](https://journals.aps.org/pra/pdf/10.1103/PhysRevA.64.052312), eq. 4.6.\n",
    "\n",
    "I still don't understand why np linalg LDL* decomposition doesn't work, but I think it has something to do with the way I was trying to handle the permutation matrices, but I give up for now."
   ]
  },
  {
   "cell_type": "code",
   "execution_count": 14,
   "metadata": {},
   "outputs": [],
   "source": [
    "def det_ij(rho, i, j):\n",
    "    M = np.delete(rho, i, axis=0)\n",
    "    M = np.delete(M, j, axis=1)\n",
    "    return np.linalg.det(M)\n",
    "\n",
    "def det_ijkl(rho, i, j, k, l):\n",
    "    M = np.delete(rho, [i,k], axis=0)\n",
    "    M = np.delete(M, [j,l], axis=1)\n",
    "    return np.linalg.det(M)\n",
    "        \n",
    "def t_from_rho(rho):\n",
    "    t = []\n",
    "    det = np.linalg.det(rho)\n",
    "    det00 = det_ij(rho, 0, 0)\n",
    "    det01 = det_ij(rho, 0, 1)\n",
    "    det0011 = det_ijkl(rho, 0, 0, 1, 1)\n",
    "    det0012 = det_ijkl(rho, 0, 0, 1, 2)\n",
    "    det0112 = det_ijkl(rho, 0, 1, 1, 2)\n",
    "    t = [np.sqrt(det/det00), np.sqrt(det00/det0011), np.sqrt(det0011/rho[3,3]), np.sqrt(rho[3,3])]\n",
    "    t56 = det01/np.sqrt(det00*det0011)\n",
    "    t.extend([np.real(t56), np.imag(t56)])\n",
    "    t78 = det0012/np.sqrt(rho[3,3]*det0011)\n",
    "    t.extend([np.real(t78), np.imag(t78)])\n",
    "    t910 = rho[3,2]/np.sqrt(rho[3,3])\n",
    "    t.extend([np.real(t910), np.imag(t910)])\n",
    "    t1112 = det0112/np.sqrt(rho[3,3]*det0011)\n",
    "    t.extend([np.real(t1112), np.imag(t1112)])\n",
    "    t1314 = rho[3,1]/np.sqrt(rho[3,3])\n",
    "    t.extend([np.real(t1314), np.imag(t1314)])\n",
    "    t1516 = rho[3,0]/np.sqrt(rho[3,3])\n",
    "    t.extend([np.real(t1516), np.imag(t1516)])\n",
    "    assert(len(t)==16)\n",
    "    return np.real(np.array(t)) # take the real since rho may be slightly non-positive semi definite, so det(rho) may be slightly negative\n",
    "    \n",
    "def T_flat2mat(t):\n",
    "    T_mat = []\n",
    "    T_mat.append(np.array([t[0],           0,              0,               0]))\n",
    "    T_mat.append(np.array([t[4] +1j*t[5],  t[1],           0,               0]))\n",
    "    T_mat.append(np.array([t[10]+1j*t[11], t[6]+1j*t[7],   t[2],            0]))\n",
    "    T_mat.append(np.array([t[14]+1j*t[15], t[12]+1j*t[13], t[8]+1j*t[9], t[3]]))\n",
    "    return np.array(T_mat)\n",
    "        \n",
    "def rho_from_t(t):\n",
    "    T = T_flat2mat(t)\n",
    "    rho = T.conj().T @ T\n",
    "    return rho / np.trace(rho)"
   ]
  },
  {
   "cell_type": "markdown",
   "metadata": {},
   "source": [
    "### ZZ correction\n",
    "Instead of using bare psis in MLE, introduce ZZ coupling in Hamiltonian and use the pulse shapes used in the tomography pulse sequence to simulate the expected final state of each of the psis. Then use these corrected \"evolution matrices\" to match the MLE.\n",
    "\n",
    "Note: uses QSwitch and related classes"
   ]
  },
  {
   "cell_type": "code",
   "execution_count": 15,
   "metadata": {},
   "outputs": [],
   "source": [
    "\"\"\"\n",
    "Convert dac units to drive strength in GHz\n",
    "\"\"\"\n",
    "def gain_to_freq(dac_units):\n",
    "    # raise NotImplementedError\n",
    "    return dac_units/36000\n",
    "    \n",
    "def get_evoln_mats(qfreqs, alphas, gs, pulse_dict):\n",
    "    assert len(pulse_dict.items()) == len(meas_order)\n",
    "    print(\"WARNING: current gain to freq conversion for rfsoc is very fake!\", flush=True)\n",
    "    evoln_mats = dict()\n",
    "    for pulse, pulse_cfg in tqdm(pulse_dict.items()):\n",
    "        # print(pulse)\n",
    "        device = QSwitch(qubit_freqs=qfreqs, alphas=alphas, gs=gs, cutoffs=[2,2], is2Q=True)\n",
    "        seq = PulseSequence()\n",
    "        q0_params = pulse_cfg['qubit0'].copy()\n",
    "        q1_params = pulse_cfg['qubit1'].copy()\n",
    "\n",
    "        t_offset = 0\n",
    "        for params in (q0_params, q1_params):\n",
    "            params['freq'] = soc.reg2freq(params['freq'], gen_ch=params['ch']) * 1e-3\n",
    "            params['gain'] = gain_to_freq(params['gain'])\n",
    "            params['phase'] = soc.reg2deg(params['phase']) * np.pi/180\n",
    "            type = params['type']\n",
    "            total_length = 0\n",
    "            if type == 'const':\n",
    "                params['length'] = soc.cycles2us(params['length']) * 1e3\n",
    "                total_length = params['length']\n",
    "            elif type == 'gauss': \n",
    "                params['sigma'] = soc.cycles2us(params['sigma']) * 1e3\n",
    "                total_length = 4*params['sigma']\n",
    "            elif type == 'flat_top':\n",
    "                raise NotImplementedError\n",
    "                params['sigma'] = soc.cycles2us(params['sigma']) * 1e3\n",
    "                params['flat_length'] = soc.cycles2us(params['flat_length']) * 1e3\n",
    "                total_length = None\n",
    "            device.add_precise_pi_pulse(seq, 'gg', 'ee', amp=params['gain'], drive_qubit=1, wd=params['freq'], phase=params['phase'], type=type, t_offset=t_offset, t_pulse=total_length)\n",
    "            # t_offset = -total_length # play the pulses on the two qubits at the same time\n",
    "        pulse_index = np.where(np.array(meas_order)==str(pulse))[0][0]\n",
    "        psi0 = psi_basis[pulse_index]\n",
    "        times = np.linspace(0, total_length+10)\n",
    "        evoln_mats.update({pulse:device.evolve(psi0, seq, times, nsteps=10000, use_str_solve=False, progress=False)[-1]})\n",
    "    evoln_mats_in_meas_order = []\n",
    "    for pulse in meas_order: evoln_mats_in_meas_order.append(evoln_mats[pulse])\n",
    "    return evoln_mats_in_meas_order"
   ]
  },
  {
   "cell_type": "markdown",
   "metadata": {},
   "source": [
    "### MLE functions"
   ]
  },
  {
   "cell_type": "code",
   "execution_count": 16,
   "metadata": {},
   "outputs": [],
   "source": [
    "def run_MLE_standard(n, rho_guess=None, method='L-BFGS-B', decimals=10):\n",
    "    # methods = 'Nelder-Mead' 'Powell' 'CG' 'BFGS' 'Newton-CG' 'L-BFGS-B' 'TNC' 'COBYLA' 'SLSQP' 'dogleg' 'trust-ncg'\n",
    "    if rho_guess is None: rho_guess = rho_from_counts(n)\n",
    "    n_tot = sum(n)\n",
    "    def likelihood(t_arr):\n",
    "        rho = rho_from_t(t_arr)\n",
    "        rho = rho / np.trace(rho)\n",
    "        val = 0\n",
    "        for psi, n_val in zip(psi_basis, n.flatten()):\n",
    "            psi = psi.full()\n",
    "            proj = (psi.conj().T @ rho @ psi)[0][0]\n",
    "            if proj != 0:\n",
    "                val += np.real(abs(n_tot * proj - n_val)**2 / (n_tot * proj))\n",
    "        return val\n",
    "    optvals = sp.optimize.minimize(likelihood, t_from_rho(rho_guess), method=method)\n",
    "    print(f'Convergence: {optvals.success}')\n",
    "    return np.around(rho_from_t(optvals.x), decimals=decimals)"
   ]
  },
  {
   "cell_type": "code",
   "execution_count": 17,
   "metadata": {},
   "outputs": [],
   "source": [
    "def run_MLE_ZZ(n, evol_matrices, rho_guess=None, method='L-BFGS-B', decimals=10):\n",
    "    # methods = 'Nelder-Mead' 'Powell' 'CG' 'BFGS' 'Newton-CG' 'L-BFGS-B' 'TNC' 'COBYLA' 'SLSQP' 'dogleg' 'trust-ncg'\n",
    "    if rho_guess is None: rho_guess = rho_from_counts(n)\n",
    "    n_tot = sum(n)\n",
    "    def likelihood(t_arr):\n",
    "        rho = rho_from_t(t_arr)\n",
    "        rho = rho / np.trace(rho)\n",
    "        val = 0\n",
    "        for psi, n_val in zip(evol_matrices, n.flatten()):\n",
    "            psi = psi.full()\n",
    "            proj = (psi.conj().T @ rho @ psi)[0][0]\n",
    "            if proj != 0:\n",
    "                val += np.real(abs(n_tot * proj - n_val)**2 / (n_tot * proj))\n",
    "        return val\n",
    "    optvals = sp.optimize.minimize(likelihood, t_from_rho(rho_guess), method=method)\n",
    "    print(f'Convergence: {optvals.success}')\n",
    "    return np.around(rho_from_t(optvals.x), decimals=decimals)"
   ]
  },
  {
   "cell_type": "code",
   "execution_count": 18,
   "metadata": {},
   "outputs": [],
   "source": [
    "def run_MLE(n, ZZ_correction=False, evol_matrices=None, rho_guess=None, method='L-BFGS-B'):\n",
    "    if ZZ_correction: return run_MLE_ZZ(n, evol_matrices, rho_guess=rho_guess, method=method)\n",
    "    else: return run_MLE_standard(n, rho_guess=rho_guess, method=method)"
   ]
  },
  {
   "cell_type": "markdown",
   "metadata": {},
   "source": [
    "# Run experiment and analysis"
   ]
  },
  {
   "cell_type": "code",
   "execution_count": 19,
   "metadata": {},
   "outputs": [
    {
     "name": "stdout",
     "output_type": "stream",
     "text": [
      "experiments.2Q_state_tomography\n",
      "experiments.amplitude_rabi\n",
      "experiments.amplitude_rabi_ef\n",
      "experiments.amplitude_rabi_EgGf\n",
      "experiments.clifford_averager_program\n",
      "experiments.length_rabi\n",
      "experiments.length_rabi_EgGf\n",
      "experiments.pulse_probe_ef_spectroscopy\n",
      "experiments.pulse_probe_EgGf_spectroscopy\n",
      "experiments.pulse_probe_spectroscopy\n",
      "experiments.ramsey_ef\n",
      "experiments.randbench\n",
      "experiments.resonator_spectroscopy\n",
      "experiments.rfsoc_tof_calibration\n",
      "experiments.single_shot\n",
      "experiments.t1\n",
      "experiments.t2_echo\n",
      "experiments.t2_ramsey\n"
     ]
    }
   ],
   "source": [
    "# %aimport experiments\n",
    "# NOTE: ADDING NEW METHODS WILL NOT BE UPDATED\n",
    "import experiments as meas"
   ]
  },
  {
   "cell_type": "code",
   "execution_count": 20,
   "metadata": {},
   "outputs": [
    {
     "name": "stdout",
     "output_type": "stream",
     "text": [
      "Data will be stored in s:\\Connie\\experiments\\20220430_2Transmon\\data\n",
      "Config will be s:\\Connie\\experiments\\20220430_2Transmon\\config.yml\n"
     ]
    }
   ],
   "source": [
    "expt_path=os.getcwd()+'\\data'\n",
    "print('Data will be stored in', expt_path)\n",
    "config_path = os.getcwd() + '\\config.yml'\n",
    "print('Config will be', config_path)"
   ]
  },
  {
   "cell_type": "code",
   "execution_count": 21,
   "metadata": {},
   "outputs": [],
   "source": [
    "\"\"\"Reopen saved data\"\"\"\n",
    "def prev_data(expt_path, filename):\n",
    "    temp_data_file = expt_path+'/'+filename\n",
    "    with SlabFile(temp_data_file) as a:\n",
    "        attrs = dict()\n",
    "        for key in list(a.attrs):\n",
    "            attrs.update({key:json.loads(a.attrs[key])})\n",
    "        keys = list(a)\n",
    "        temp_data = dict()\n",
    "        for key in keys:\n",
    "            temp_data.update({key:np.array(a[key])})\n",
    "        print(f'Extracted data and attrs {list(a.attrs)}')\n",
    "    return temp_data, attrs"
   ]
  },
  {
   "cell_type": "code",
   "execution_count": 22,
   "metadata": {},
   "outputs": [],
   "source": [
    "qubits = [0, 1] # which qubit/resonator we want to probe"
   ]
  },
  {
   "cell_type": "markdown",
   "metadata": {},
   "source": [
    "## Setup experiment hardware\n",
    "\n",
    "Set in config:\n",
    "- LO alias, frequency, power\n",
    "- SOC dac channels, nyquist zones"
   ]
  },
  {
   "cell_type": "code",
   "execution_count": 23,
   "metadata": {},
   "outputs": [],
   "source": [
    "import yaml\n",
    "with open('config.yml', 'r') as cfg_file:\n",
    "    yaml_cfg = AttrDict(yaml.safe_load(cfg_file))"
   ]
  },
  {
   "cell_type": "code",
   "execution_count": 24,
   "metadata": {},
   "outputs": [],
   "source": [
    "im = InstrumentManager()"
   ]
  },
  {
   "cell_type": "code",
   "execution_count": 27,
   "metadata": {},
   "outputs": [
    {
     "data": {
      "text/plain": [
       "0"
      ]
     },
     "execution_count": 27,
     "metadata": {},
     "output_type": "execute_result"
    }
   ],
   "source": [
    "lo1 = im[yaml_cfg.aliases.readout_LO]\n",
    "lo1.open_device()\n",
    "# lo1.set_standby(True)\n",
    "# lo1.set_output_state(False) # TURN ON/OFF\n",
    "lo1.set_standby(False)\n",
    "lo1.set_output_state(True) # TURN ON/OFF\n",
    "\n",
    "lo1.set_frequency(float(yaml_cfg.hw.lo.readout.frequency)) # Set LO frequency\n",
    "lo1.set_power(float(yaml_cfg.hw.lo.readout.power)) # Set LO power"
   ]
  },
  {
   "cell_type": "code",
   "execution_count": 28,
   "metadata": {},
   "outputs": [],
   "source": [
    "soc = QickConfig(im[yaml_cfg.aliases.soc].get_cfg())\n",
    "# print(soc.description())\n",
    "# print(soc.dump_cfg())"
   ]
  },
  {
   "cell_type": "markdown",
   "metadata": {},
   "source": [
    "## Run experiment and acquire data"
   ]
  },
  {
   "cell_type": "code",
   "execution_count": 29,
   "metadata": {},
   "outputs": [
    {
     "name": "stdout",
     "output_type": "stream",
     "text": [
      "{'device': {'qubit': {'T1': [50, 35], 'T2R': [13, 20], 'f_ge': [3646.7584779001595, 4536.33065792081], 'f_ef': [3487.35, 4354.3124984175265], 'f_EgGf': 5243.181945338396, 'pulses': {'pi_ge': {'gain': [29284, 2154], 'sigma': [0.3, 0.04], 'type': 'gauss'}, 'pi_ef': {'gain': [24292, 3586], 'sigma': [0.5, 0.02], 'type': 'gauss'}, 'pi_EgGf': {'gain': 15170, 'sigma': 0.4, 'type': 'gauss'}}}, 'readout': {'trig_offset': 180, 'frequency': [552.2, 1751.5253727591987], 'gain': [94, 255], 'phase': [15.764565242734866, -104.67511778851885], 'threshold': [71.52376783928284, 3.331430018068307], 'readout_length': [13, 22], 'relax_delay': [200, 150]}}, 'hw': {'lo': {'readout': {'frequency': '5.4e9', 'power': 13}}, 'soc': {'adcs': {'readout': {'ch': [0, 1]}}, 'dacs': {'qubit': {'ch': [3, 1], 'nyquist': [2, 2]}, 'swap': {'ch': 1, 'nyquist': 2}, 'readout': {'ch': [0, 4], 'nyquist': [1, 1]}}}}, 'aliases': {'readout_LO': 'SC26C3', 'soc': 'Qick186'}, 'expt': {'reps': 10000, 'shot_avg': 10, 'qubits': [0, 1]}}\n"
     ]
    },
    {
     "data": {
      "application/vnd.jupyter.widget-view+json": {
       "model_id": "c89b8f8ce9774b92909e9a8ab3c99221",
       "version_major": 2,
       "version_minor": 0
      },
      "text/plain": [
       "  0%|          | 0/9 [00:00<?, ?it/s]"
      ]
     },
     "metadata": {},
     "output_type": "display_data"
    },
    {
     "data": {
      "application/vnd.jupyter.widget-view+json": {
       "model_id": "6dfa9207b6e34d8890f3ac148fa758c4",
       "version_major": 2,
       "version_minor": 0
      },
      "text/plain": [
       "  0%|          | 0/4 [00:00<?, ?it/s]"
      ]
     },
     "metadata": {},
     "output_type": "display_data"
    }
   ],
   "source": [
    "tomo = meas.EgGfStateTomographyExperiment(\n",
    "    soccfg=soc,\n",
    "    path=expt_path,\n",
    "    prefix=f\"EgGf_state_tomo_{qubits[0]}{qubits[1]}\",\n",
    "    config_file=config_path,\n",
    ")\n",
    "\n",
    "tomo.cfg.expt = dict(\n",
    "    reps=10000, # reps per measurement basis\n",
    "    shot_avg=10, # number of shots to average over before sorting via threshold\n",
    "    qubits=qubits,\n",
    ")\n",
    "\n",
    "print(tomo.cfg)\n",
    "tomo.go(analyze=False, display=False, progress=True, save=False)"
   ]
  },
  {
   "cell_type": "code",
   "execution_count": 30,
   "metadata": {},
   "outputs": [
    {
     "name": "stdout",
     "output_type": "stream",
     "text": [
      "Extracted data and attrs ['calib_order', 'config', 'meas_order', 'pulse_dict']\n",
      "Tomography counts\n",
      "[[ 37  85 333 545]\n",
      " [102  33 647 218]\n",
      " [107  30 672 191]\n",
      " [ 78  86 401 435]\n",
      " [106  48 637 209]\n",
      " [106  40 604 250]\n",
      " [ 46  91 373 490]\n",
      " [ 86  41 610 263]\n",
      " [132  39 641 188]]\n",
      "Confusion matrix counts\n",
      "[[715 109 151  25]\n",
      " [329 522  64  85]\n",
      " [ 96  22 791  91]\n",
      " [ 59  67 393 481]]\n",
      "Corrected tomo matrix will be\n",
      "[[ -36.66574   28.13011 -149.79473 1158.33036]\n",
      " [  34.71227  -13.85713  647.84264  331.30222]\n",
      " [  38.90501  -14.41898  712.74162  262.77235]\n",
      " [   5.89261   47.43464   62.89449  883.77826]\n",
      " [  27.15411   19.60369  645.78118  307.46101]\n",
      " [  44.38218   -9.07821  549.63255  415.06347]\n",
      " [ -40.09262   53.43585  -30.45734 1017.11411]\n",
      " [  11.79775   -3.91938  549.15975  442.96188]\n",
      " [  74.72804   -2.52197  666.46849  261.32543]]\n"
     ]
    },
    {
     "name": "stderr",
     "output_type": "stream",
     "text": [
      "H5pyDeprecationWarning: The default file mode will change to 'r' (read-only) in h5py 3.0. To suppress this warning, pass the mode you need to h5py.File(), or set the global default h5.get_config().default_file_mode, or set the environment variable H5PY_DEFAULT_READONLY=1. Available modes are: 'r', 'r+', 'w', 'w-'/'x', 'a'. See the docs for details.\n",
      " C:\\_Lib\\python\\slab\\datamanagement.py: 245"
     ]
    }
   ],
   "source": [
    "data, attrs = prev_data(expt_path, '00000_EgGf_state_tomo_01.h5')\n",
    "pulse_dict = attrs['pulse_dict']\n",
    "assert np.all(np.array(attrs['meas_order']) == meas_order)\n",
    "assert np.all(np.array(attrs['calib_order']) == calib_order)\n",
    "\n",
    "# data = tomo.data\n",
    "# pulse_dict = tomo.pulse_dict\n",
    "# assert np.all(np.array(tomo.meas_order) == meas_order)\n",
    "# assert np.all(np.array(tomo.calib_order) == calib_order)\n",
    "\n",
    "n_tomo = np.array(data['counts_tomo'])\n",
    "n_calib = np.array(data['counts_calib'])\n",
    "\n",
    "print('Tomography counts')\n",
    "print(n_tomo)\n",
    "print('Confusion matrix counts')\n",
    "print(n_calib)\n",
    "print('Corrected tomo matrix will be')\n",
    "print(correct_readout_err(n_tomo, n_calib))"
   ]
  },
  {
   "cell_type": "markdown",
   "metadata": {},
   "source": [
    "## Run analysis"
   ]
  },
  {
   "cell_type": "markdown",
   "metadata": {},
   "source": [
    "Generate test data"
   ]
  },
  {
   "cell_type": "code",
   "execution_count": 23,
   "metadata": {},
   "outputs": [],
   "source": [
    "# n_tomo = generate_counts(rho_id=rho_id, n_tot=1000, noise=1)\n",
    "# print(n_tomo)"
   ]
  },
  {
   "cell_type": "markdown",
   "metadata": {},
   "source": [
    "Calculate ideal psi for fidelity calculation. Change this depending on what you want for ideal final state."
   ]
  },
  {
   "cell_type": "code",
   "execution_count": 31,
   "metadata": {},
   "outputs": [
    {
     "name": "stdout",
     "output_type": "stream",
     "text": [
      "Quantum object: dims = [[2, 2], [2, 2]], shape = (4, 4), type = oper, isherm = True\n",
      "Qobj data =\n",
      "[[0. 0. 0. 0.]\n",
      " [0. 0. 0. 0.]\n",
      " [0. 0. 0. 0.]\n",
      " [0. 0. 0. 1.]]\n"
     ]
    }
   ],
   "source": [
    "# psi_id = qt.tensor(psiZ[0], 1/np.sqrt(2)*(psiZ[0]+psiZ[1]))\n",
    "psi_id = qt.tensor(psiZ[1], psiZ[1])\n",
    "rho_id = qt.ket2dm(psi_id)\n",
    "print(rho_id)"
   ]
  },
  {
   "cell_type": "markdown",
   "metadata": {},
   "source": [
    "##### Run MLE without ZZ correction"
   ]
  },
  {
   "cell_type": "code",
   "execution_count": 259,
   "metadata": {},
   "outputs": [
    {
     "name": "stdout",
     "output_type": "stream",
     "text": [
      "Convergence: False\n",
      "Fidelity (base): 0.6644466039999999\n",
      "Purity (base): 0.5583287068904664\n"
     ]
    }
   ],
   "source": [
    "# methods = 'Nelder-Mead' 'Powell' 'CG' 'BFGS' 'Newton-CG' 'L-BFGS-B' 'TNC' 'COBYLA' 'SLSQP' 'dogleg' 'trust-ncg'\n",
    "rho_MLE_base = run_MLE(correct_readout_err(n_tomo, n_calib), ZZ_correction=False, method='L-BFGS-B')\n",
    "if rho_MLE_base is not None:\n",
    "    fid_base = qt.fidelity(qt.Qobj(rho_MLE_base, dims=rho_id.dims), rho_id)**2 # qutip uses N&C fidelity which is \"sqrt fidelity\"\n",
    "    purity_base = np.real(np.trace(rho_MLE_base @ rho_MLE_base))\n",
    "    print(f'Fidelity (base): {fid_base}')\n",
    "    print(f'Purity (base): {purity_base}')"
   ]
  },
  {
   "cell_type": "code",
   "execution_count": 260,
   "metadata": {},
   "outputs": [
    {
     "name": "stdout",
     "output_type": "stream",
     "text": [
      "[[ 0.018+0.j     0.   +0.j     0.   +0.j     0.   +0.j   ]\n",
      " [ 0.   +0.j     0.   +0.j     0.   +0.j     0.   +0.j   ]\n",
      " [ 0.   +0.j     0.   +0.j     0.318+0.j    -0.086-0.019j]\n",
      " [ 0.   +0.j     0.   +0.j    -0.086+0.019j  0.664+0.j   ]]\n"
     ]
    }
   ],
   "source": [
    "print(np.around(rho_MLE_base, decimals=3))"
   ]
  },
  {
   "cell_type": "markdown",
   "metadata": {},
   "source": [
    "#### Run MLE with ZZ"
   ]
  },
  {
   "cell_type": "markdown",
   "metadata": {},
   "source": [
    "Get evoln matrices for ZZ"
   ]
  },
  {
   "cell_type": "code",
   "execution_count": 32,
   "metadata": {},
   "outputs": [
    {
     "name": "stdout",
     "output_type": "stream",
     "text": [
      "WARNING: current gain to freq conversion for rfsoc is very fake!\n"
     ]
    },
    {
     "name": "stderr",
     "output_type": "stream",
     "text": [
      "100%|██████████| 9/9 [00:01<00:00,  4.92it/s]\n"
     ]
    }
   ],
   "source": [
    "qfreqs = np.array(yaml_cfg.device.qubit.f_ge) # MHz\n",
    "alphas = np.array(yaml_cfg.device.qubit.f_ef) - qfreqs # MHz\n",
    "g = 70 # MHz\n",
    "evol_matrices = get_evoln_mats(qfreqs=qfreqs*1e-3, alphas=alphas*1e-3, gs=g*1e-3, pulse_dict=pulse_dict)"
   ]
  },
  {
   "cell_type": "code",
   "execution_count": 253,
   "metadata": {},
   "outputs": [
    {
     "name": "stdout",
     "output_type": "stream",
     "text": [
      "Convergence: True\n",
      "Fidelity (with ZZ correction): 0.9543960920320858\n",
      "Purity (with ZZ correction): 0.999931978206292\n"
     ]
    }
   ],
   "source": [
    "rho_MLE_ZZ = run_MLE(correct_readout_err(n_tomo, n_calib), rho_guess=None, ZZ_correction=True, evol_matrices=evol_matrices)\n",
    "fid_ZZ = qt.fidelity(qt.Qobj(rho_MLE_ZZ, dims=rho_id.dims), rho_id)**2 # qutip uses N&C fidelity which is \"sqrt fidelity\"\n",
    "purity_ZZ = np.real(np.trace(rho_MLE_ZZ @ rho_MLE_ZZ))\n",
    "print(f'Fidelity (with ZZ correction): {fid_ZZ}')\n",
    "print(f'Purity (with ZZ correction): {purity_ZZ}')"
   ]
  },
  {
   "cell_type": "code",
   "execution_count": 231,
   "metadata": {},
   "outputs": [
    {
     "name": "stdout",
     "output_type": "stream",
     "text": [
      "[[ 0.017+0.j     0.016+0.004j -0.01 -0.002j -0.113+0.059j]\n",
      " [ 0.016-0.004j  0.016+0.j    -0.01 +0.001j -0.094+0.083j]\n",
      " [-0.01 +0.002j -0.01 -0.001j  0.006+0.j     0.061-0.046j]\n",
      " [-0.113-0.059j -0.094-0.083j  0.061+0.046j  0.961+0.j   ]]\n"
     ]
    }
   ],
   "source": [
    "print(np.around(rho_MLE_ZZ, decimals=3))"
   ]
  },
  {
   "cell_type": "markdown",
   "metadata": {},
   "source": [
    "## Plotting"
   ]
  },
  {
   "cell_type": "markdown",
   "metadata": {},
   "source": [
    "#### Plotting functions"
   ]
  },
  {
   "cell_type": "code",
   "execution_count": 161,
   "metadata": {},
   "outputs": [],
   "source": [
    "def show_mat_2d(mat, ax, title, labels, cmax=None, show=True):\n",
    "    \"\"\"\n",
    "    Plot an arbitrary 2D matrix with labels\n",
    "    \"\"\"\n",
    "    plt.sca(ax)\n",
    "    plt.title(title)\n",
    "    plt.imshow(np.real(mat), cmap='RdBu')\n",
    "    plt.xticks(np.arange(len(mat)), labels)\n",
    "    plt.yticks(np.arange(len(mat)), labels)\n",
    "    # Loop over data dimensions and create text annotations.\n",
    "    for ii in range(len(mat)):\n",
    "        for jj in range(len(mat)):\n",
    "            plt.text(ii, jj, round(mat[jj, ii], 3), ha=\"center\", va=\"center\", color=\"w\", size=11)\n",
    "    divider = make_axes_locatable(ax)\n",
    "    cax = divider.append_axes(\"right\", size=\"5%\", pad=0.05)\n",
    "    plt.colorbar(cax=cax)\n",
    "    plt.clim(vmin=-1, vmax=1)\n",
    "    if show: plt.show()\n",
    "\n",
    "def show_plot_rho_2d(rho_MLE, rho_id=None):\n",
    "    \"\"\"\n",
    "    Plot real and imag parts of rho, optionally also with a comparison ideal rho\n",
    "    \"\"\"\n",
    "    labels = [\"00\", \"01\", \"10\", \"11\"]\n",
    "    if rho_id is None:\n",
    "        fig = plt.figure(figsize=(15, 5))\n",
    "        ax1 = fig.add_subplot(121)\n",
    "        ax2 = fig.add_subplot(122)\n",
    "    else:\n",
    "        fig = plt.figure(figsize=(15, 12))\n",
    "        ax1 = fig.add_subplot(221)\n",
    "        ax2 = fig.add_subplot(222)\n",
    "        ax3 = fig.add_subplot(223)\n",
    "        ax4 = fig.add_subplot(224)\n",
    "    show_mat_2d(np.real(rho_MLE), ax=ax1, title=\"Re[$\\\\rho_{MLE}$]\", labels=labels, show=False)\n",
    "    show_mat_2d(np.imag(rho_MLE), ax=ax2, title=\"Im[$\\\\rho_{MLE}$]\", labels=labels, show=False)\n",
    "    show_mat_2d(np.real(rho_id), ax=ax3, title=\"Re[$\\\\rho_{Ideal}$]\", labels=labels, show=False)\n",
    "    show_mat_2d(np.imag(rho_id), ax=ax4, title=\"Im[$\\\\rho_{Ideal}$]\", labels=labels, show=False)\n",
    "    plt.show()"
   ]
  },
  {
   "cell_type": "code",
   "execution_count": 263,
   "metadata": {},
   "outputs": [],
   "source": [
    "# Author: Ziqian\n",
    "def show_plot_rho_3d(rho_MLE, rho_id=None):\n",
    "    if rho_id is None:\n",
    "        fig = plt.figure(figsize=(15, 5))\n",
    "        ax1 = fig.add_subplot(121, projection='3d')\n",
    "        ax2 = fig.add_subplot(122, projection='3d')\n",
    "    else:\n",
    "        fig = plt.figure(figsize=(15, 10))\n",
    "        ax1 = fig.add_subplot(221, projection='3d')\n",
    "        ax2 = fig.add_subplot(222, projection='3d')\n",
    "        ax3 = fig.add_subplot(223, projection='3d')\n",
    "        ax4 = fig.add_subplot(224, projection='3d')\n",
    "    \n",
    "    labels = [\"00\", \"01\", \"10\", \"11\"]\n",
    "    qplt.matrix_histogram(np.real(rho_MLE), labels, labels, limits=[-0.5,0.5], ax=ax1)\n",
    "    qplt.matrix_histogram(np.imag(rho_MLE), labels, labels, limits=[-0.5,0.5], ax=ax2)\n",
    "    if rho_id is not None:\n",
    "        qplt.matrix_histogram(np.real(rho_id), labels, labels, limits=[-0.5,0.5], ax=ax3)\n",
    "        qplt.matrix_histogram(np.imag(rho_id), labels, labels, limits=[-0.5,0.5], ax=ax4)\n",
    "    \n",
    "    ax1.view_init(azim=-55, elev=45)\n",
    "    ax2.view_init(azim=-55, elev=45)\n",
    "    ax1.set_title(\"Re[$\\\\rho_{MLE}$]\")\n",
    "    ax2.set_title(\"Im[$\\\\rho_{MLE}$]\")\n",
    "    if rho_id is not None:\n",
    "        ax3.view_init(azim=-55, elev=45)\n",
    "        ax4.view_init(azim=-55, elev=45)\n",
    "        ax3.set_title(\"Re[$\\\\rho_{ideal}$]\")\n",
    "        ax4.set_title(\"Im[$\\\\rho_{ideal}$]\")\n",
    "    plt.show()"
   ]
  },
  {
   "cell_type": "markdown",
   "metadata": {},
   "source": [
    "#### Plot!"
   ]
  },
  {
   "cell_type": "code",
   "execution_count": 261,
   "metadata": {},
   "outputs": [
    {
     "data": {
      "image/png": "[encoded data removed]",
      "text/plain": [
       "<Figure size 2250x1800 with 8 Axes>"
      ]
     },
     "metadata": {
      "needs_background": "light"
     },
     "output_type": "display_data"
    }
   ],
   "source": [
    "show_plot_rho_2d(rho_MLE_base, rho_id)"
   ]
  },
  {
   "cell_type": "code",
   "execution_count": 262,
   "metadata": {},
   "outputs": [
    {
     "data": {
      "image/png": "[encoded data removed]",
      "text/plain": [
       "<Figure size 2250x1800 with 8 Axes>"
      ]
     },
     "metadata": {
      "needs_background": "light"
     },
     "output_type": "display_data"
    }
   ],
   "source": [
    "show_plot_rho_2d(rho_MLE_ZZ, rho_id)"
   ]
  },
  {
   "cell_type": "code",
   "execution_count": 157,
   "metadata": {},
   "outputs": [
    {
     "name": "stdout",
     "output_type": "stream",
     "text": [
      "Saving s:\\Connie\\experiments\\20220430_2Transmon\\data\\00000_EgGf_state_tomo_01.h5\n"
     ]
    }
   ],
   "source": [
    "tomo.save_data()"
   ]
  },
  {
   "cell_type": "code",
   "execution_count": null,
   "metadata": {},
   "outputs": [],
   "source": []
  }
 ],
 "metadata": {
  "interpreter": {
   "hash": "8a65d91a9bf71a2f171ce63c6453a48d0c07e1ad90ea4a74680bb3625b5093c7"
  },
  "kernelspec": {
   "display_name": "Python 3.8.8 ('base')",
   "language": "python",
   "name": "python3"
  },
  "language_info": {
   "codemirror_mode": {
    "name": "ipython",
    "version": 3
   },
   "file_extension": ".py",
   "mimetype": "text/x-python",
   "name": "python",
   "nbconvert_exporter": "python",
   "pygments_lexer": "ipython3",
   "version": "3.8.8"
  },
  "orig_nbformat": 4
 },
 "nbformat": 4,
 "nbformat_minor": 2
}
