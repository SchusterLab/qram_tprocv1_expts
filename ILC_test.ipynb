{
 "cells": [
  {
   "cell_type": "code",
   "execution_count": 1,
   "metadata": {},
   "outputs": [
    {
     "name": "stdout",
     "output_type": "stream",
     "text": [
      "c:\\Users\\slab\\.conda\\envs\\slab\\python.exe\n"
     ]
    }
   ],
   "source": [
    "import sys\n",
    "print(sys.executable)"
   ]
  },
  {
   "cell_type": "code",
   "execution_count": 2,
   "metadata": {},
   "outputs": [],
   "source": [
    "import _ssl"
   ]
  },
  {
   "cell_type": "code",
   "execution_count": 3,
   "metadata": {},
   "outputs": [
    {
     "name": "stdout",
     "output_type": "stream",
     "text": [
      "Could not import QickInstrument (will only work if running on rfsoc). If running on rfsoc, try install/update qick package\n",
      "Warning failed to import AWG81180A\n",
      "Warning failed to import Tek5014\n",
      "Warning failed to import Tek70001\n",
      "Warning failed to import M8195A\n",
      "imported experiments.clifford_averager_program\n",
      "imported experiments.fitting\n",
      "imported experiments.four_qubit.fourQ_state_tomo\n",
      "imported experiments.qram_protocol_timestepped\n",
      "imported experiments.single_qubit.acstarkshift_spectroscopy\n",
      "imported experiments.single_qubit.amplitude_rabi\n",
      "imported experiments.single_qubit.length_rabi\n",
      "imported experiments.single_qubit.pulse_probe_spectroscopy\n",
      "imported experiments.single_qubit.resonator_spectroscopy\n",
      "imported experiments.single_qubit.rfsoc_tof_calibration\n",
      "imported experiments.single_qubit.single_shot\n",
      "imported experiments.single_qubit.t1\n",
      "imported experiments.single_qubit.t2_ramsey\n",
      "imported experiments.three_qubit.threeQ_state_tomo\n",
      "imported experiments.two_qubit.amplitude_rabi_EgGf\n",
      "imported experiments.two_qubit.amplitude_rabi_f0g1\n",
      "imported experiments.two_qubit.amprabi_opt_ctrl_state_prep\n",
      "imported experiments.two_qubit.crosstalk_echo_calib\n",
      "imported experiments.two_qubit.length_rabi_EgGf\n",
      "imported experiments.two_qubit.length_rabi_F0G1\n",
      "imported experiments.two_qubit.phase_calib_EgGf\n",
      "imported experiments.two_qubit.pulse_probe_EgGf_spectroscopy\n",
      "imported experiments.two_qubit.randbench\n",
      "imported experiments.two_qubit.random_test_pulses\n",
      "imported experiments.two_qubit.twoqutrit_state_tomography\n",
      "imported experiments.two_qubit.twoQ_state_tomography\n"
     ]
    }
   ],
   "source": [
    "%load_ext autoreload\n",
    "%autoreload 2\n",
    "\n",
    "import numpy as np\n",
    "import os\n",
    "import yaml\n",
    "from slab.instruments import *\n",
    "from slab.experiment import Experiment\n",
    "from slab.datamanagement import SlabFile\n",
    "from slab import get_next_filename, AttrDict\n",
    "import qutip as qt\n",
    "import time \n",
    "import matplotlib.pyplot as plt\n",
    "\n",
    "# from TomoAnalysis import TomoAnalysis\n",
    "from TomoILC import TomoILC \n",
    "from tqdm import tqdm_notebook as tqdm\n",
    "%matplotlib widget\n",
    "\n",
    "plt.rcParams['figure.figsize'] = [10,6]\n",
    "plt.rcParams.update({'font.size': 14})\n",
    "plt.rcParams['animation.html'] = 'jshtml'"
   ]
  },
  {
   "cell_type": "code",
   "execution_count": 4,
   "metadata": {},
   "outputs": [],
   "source": [
    "from TomoAnalysis import TomoAnalysis\n",
    "from TomoILC import TomoILC "
   ]
  },
  {
   "cell_type": "markdown",
   "metadata": {},
   "source": [
    "# Parameters"
   ]
  },
  {
   "cell_type": "code",
   "execution_count": 5,
   "metadata": {},
   "outputs": [],
   "source": [
    "config_file = 'config_q3diamond_full688and638_reset.yml'\n",
    "config_path = os.path.join('s:\\\\Connie\\\\experiments\\\\qram_tprocv1_expts\\\\configs\\\\', config_file)\n",
    "\n",
    "with open(config_path, 'r') as cfg_file:\n",
    "    yaml_cfg = yaml.safe_load(cfg_file)\n",
    "yaml_cfg = AttrDict(yaml_cfg)"
   ]
  },
  {
   "cell_type": "code",
   "execution_count": 6,
   "metadata": {},
   "outputs": [],
   "source": [
    "pulse_filename = yaml_cfg.device.qubit.pulses.pulse_pp.filename\n",
    "pulse_filepath = os.path.join(os.getcwd(), pulse_filename + '.npz')\n",
    "pulse_IQ = dict() # open file\n",
    "with np.load(pulse_filepath) as npzfile:\n",
    "    for key in npzfile.keys():\n",
    "        pulse_IQ.update({key:npzfile[key]})"
   ]
  },
  {
   "cell_type": "code",
   "execution_count": 7,
   "metadata": {},
   "outputs": [
    {
     "data": {
      "text/plain": [
       "dict_keys(['times', 'I_0', 'Q_0', 'I_1', 'Q_1'])"
      ]
     },
     "execution_count": 7,
     "metadata": {},
     "output_type": "execute_result"
    }
   ],
   "source": [
    "pulse_IQ.keys()"
   ]
  },
  {
   "cell_type": "code",
   "execution_count": 8,
   "metadata": {},
   "outputs": [],
   "source": [
    "pulse_filename\n",
    "\n",
    "psi_str = pulse_filename.split('_')[-1] \n",
    "q0 = psi_str[0]\n",
    "q1 = psi_str[1]\n",
    "\n",
    "# define the psi_ideal \n",
    "\n",
    "if q0 =='0':\n",
    "    psi0 = qt.basis(2,0)\n",
    "elif q0 == '1':\n",
    "    psi0 = qt.basis(2,1)\n",
    "elif q0 == '+':\n",
    "    psi0 = (qt.basis(2,0) + qt.basis(2,1)).unit()\n",
    "\n",
    "if q1 =='0':\n",
    "    psi1 = qt.basis(2,0)\n",
    "elif q1 == '1':\n",
    "    psi1 = qt.basis(2,1)\n",
    "elif q1 == '+':\n",
    "    psi1 = (qt.basis(2,0) + qt.basis(2,1)).unit()\n",
    "    \n",
    "psi_ideal = qt.tensor(psi0, psi1)\n",
    "rho_ideal = psi_ideal * psi_ideal.dag()"
   ]
  },
  {
   "cell_type": "code",
   "execution_count": 9,
   "metadata": {},
   "outputs": [
    {
     "ename": "KeyError",
     "evalue": "'Qick187'",
     "output_type": "error",
     "traceback": [
      "\u001b[1;31m---------------------------------------------------------------------------\u001b[0m",
      "\u001b[1;31mKeyError\u001b[0m                                  Traceback (most recent call last)",
      "Cell \u001b[1;32mIn[9], line 1\u001b[0m\n\u001b[1;32m----> 1\u001b[0m tomo_ILC \u001b[38;5;241m=\u001b[39m \u001b[43mTomoILC\u001b[49m\u001b[43m(\u001b[49m\n\u001b[0;32m      2\u001b[0m \u001b[43m    \u001b[49m\u001b[43mIQ_pulse_seed\u001b[49m\u001b[38;5;241;43m=\u001b[39;49m\u001b[43mpulse_IQ\u001b[49m\u001b[43m,\u001b[49m\u001b[43m \u001b[49m\n\u001b[0;32m      3\u001b[0m \u001b[43m    \u001b[49m\u001b[43mgains_filename\u001b[49m\u001b[38;5;241;43m=\u001b[39;49m\u001b[43mpulse_filename\u001b[49m\u001b[43m,\u001b[49m\u001b[43m \u001b[49m\n\u001b[0;32m      4\u001b[0m \u001b[43m    \u001b[49m\u001b[43mnb_qubits\u001b[49m\u001b[38;5;241;43m=\u001b[39;49m\u001b[38;5;241;43m2\u001b[39;49m\u001b[43m,\u001b[49m\u001b[43m \u001b[49m\n\u001b[0;32m      5\u001b[0m \u001b[43m    \u001b[49m\u001b[43mn_shot_calib\u001b[49m\u001b[38;5;241;43m=\u001b[39;49m\u001b[38;5;241;43m4000\u001b[39;49m\u001b[43m,\u001b[49m\u001b[43m \u001b[49m\n\u001b[0;32m      6\u001b[0m \u001b[43m    \u001b[49m\u001b[43mn_shot_tomo\u001b[49m\u001b[38;5;241;43m=\u001b[39;49m\u001b[38;5;241;43m4000\u001b[39;49m\u001b[43m,\u001b[49m\u001b[43m \u001b[49m\n\u001b[0;32m      7\u001b[0m \u001b[43m    \u001b[49m\u001b[43mqubit_drive\u001b[49m\u001b[38;5;241;43m=\u001b[39;49m\u001b[43m[\u001b[49m\u001b[38;5;241;43m0\u001b[39;49m\u001b[43m,\u001b[49m\u001b[43m \u001b[49m\u001b[38;5;241;43m1\u001b[39;49m\u001b[43m]\u001b[49m\u001b[43m,\u001b[49m\n\u001b[0;32m      8\u001b[0m \u001b[43m    \u001b[49m\u001b[43mdebug\u001b[49m\u001b[38;5;241;43m=\u001b[39;49m\u001b[38;5;28;43;01mFalse\u001b[39;49;00m\n\u001b[0;32m      9\u001b[0m \u001b[43m)\u001b[49m\n",
      "File \u001b[1;32ms:\\Connie\\experiments\\qramLL_4QR2\\TomoILC.py:75\u001b[0m, in \u001b[0;36mTomoILC.__init__\u001b[1;34m(self, IQ_pulse_seed, gains_filename, nb_qubits, n_shot_calib, n_shot_tomo, qubit_drive, qubit_exp, time_calib, gains, tomo_qubits, ip_address, config_file, save_path, evolv_path, debug, using_LO)\u001b[0m\n\u001b[0;32m     73\u001b[0m     \u001b[38;5;28mprint\u001b[39m(\u001b[38;5;124m'\u001b[39m\u001b[38;5;124mconfig loaded\u001b[39m\u001b[38;5;124m'\u001b[39m)\n\u001b[0;32m     74\u001b[0m     \u001b[38;5;28mprint\u001b[39m(\u001b[38;5;28mself\u001b[39m\u001b[38;5;241m.\u001b[39mconfig_file)\n\u001b[1;32m---> 75\u001b[0m \u001b[38;5;28mself\u001b[39m\u001b[38;5;241m.\u001b[39mrfsoc_config \u001b[38;5;241m=\u001b[39m QickConfig(\u001b[38;5;28;43mself\u001b[39;49m\u001b[38;5;241;43m.\u001b[39;49m\u001b[43mim\u001b[49m\u001b[43m[\u001b[49m\u001b[43myaml_cfg\u001b[49m\u001b[43m[\u001b[49m\u001b[38;5;124;43m'\u001b[39;49m\u001b[38;5;124;43maliases\u001b[39;49m\u001b[38;5;124;43m'\u001b[39;49m\u001b[43m]\u001b[49m\u001b[43m[\u001b[49m\u001b[38;5;124;43m'\u001b[39;49m\u001b[38;5;124;43msoc\u001b[39;49m\u001b[38;5;124;43m'\u001b[39;49m\u001b[43m]\u001b[49m\u001b[43m]\u001b[49m\u001b[38;5;241m.\u001b[39mget_cfg())\n\u001b[0;32m     76\u001b[0m \u001b[38;5;28;01mif\u001b[39;00m \u001b[38;5;28mself\u001b[39m\u001b[38;5;241m.\u001b[39mdebug:\n\u001b[0;32m     77\u001b[0m     \u001b[38;5;28mprint\u001b[39m(\u001b[38;5;124m'\u001b[39m\u001b[38;5;124mrfsoc config loaded\u001b[39m\u001b[38;5;124m'\u001b[39m)\n",
      "\u001b[1;31mKeyError\u001b[0m: 'Qick187'"
     ]
    }
   ],
   "source": [
    "tomo_ILC = TomoILC(\n",
    "    IQ_pulse_seed=pulse_IQ, \n",
    "    gains_filename=pulse_filename, \n",
    "    nb_qubits=2, \n",
    "    n_shot_calib=4000, \n",
    "    n_shot_tomo=4000, \n",
    "    qubit_drive=[0, 1],\n",
    "    debug=False\n",
    ")"
   ]
  },
  {
   "cell_type": "markdown",
   "metadata": {},
   "source": [
    "# 2D map vs amplitude"
   ]
  },
  {
   "cell_type": "code",
   "execution_count": 11,
   "metadata": {},
   "outputs": [],
   "source": [
    "amp_q0_vec = np.linspace(0.99, 1.01, 3)\n",
    "amp_q1_vec = np.linspace(0.99, 1.01, 3)\n",
    "# create a list of pulse dict rescaled by the amplitude\n",
    "pulse_IQ_rescaled = dict()\n",
    "\n",
    "for amp_q0 in amp_q0_vec:\n",
    "    for amp_q1 in amp_q1_vec:\n",
    "        pulse_IQ_rescaled.update({\n",
    "            f'{amp_q0}_{amp_q1}': {\n",
    "                'times': pulse_IQ['times'],\n",
    "                'I_0': pulse_IQ['I_0']*amp_q0,\n",
    "                'Q_0': pulse_IQ['Q_0']*amp_q0,\n",
    "                'I_1': pulse_IQ['I_1']*amp_q1,\n",
    "                'Q_1': pulse_IQ['Q_1']*amp_q1,\n",
    "            }\n",
    "        })"
   ]
  },
  {
   "cell_type": "code",
   "execution_count": 12,
   "metadata": {},
   "outputs": [
    {
     "name": "stdout",
     "output_type": "stream",
     "text": [
      "Running ILC for pulse 0.99_0.99\n",
      "1.4766247272491455\n",
      "gains:  [6500 9750]\n",
      "gainpts Q0 [6500]\n",
      "gainpts Q1 [9750]\n"
     ]
    },
    {
     "data": {
      "application/vnd.jupyter.widget-view+json": {
       "model_id": "61fe64025ab54518b7c31f49db2bef22",
       "version_major": 2,
       "version_minor": 0
      },
      "text/plain": [
       "  0%|          | 0/4 [00:00<?, ?it/s]"
      ]
     },
     "metadata": {},
     "output_type": "display_data"
    },
    {
     "name": "stdout",
     "output_type": "stream",
     "text": [
      "Qubit (0)\n",
      "ge fidelity (%): 75.80947618452306 \t angle (deg): -166.1644517622392 \t threshold ge: 271.3562025305197\n",
      "Qubit (1)\n",
      "ge fidelity (%): 64.025 \t angle (deg): 99.24276405173876 \t threshold ge: 424.7758447081735\n",
      "thresholds=[271.3562025305197, 424.7758447081735, 0, 0],\n",
      "angles=[-166.1644517622392, 99.24276405173876, 0, 0],\n",
      "ge_avgs=[[-160.62401882595486, -168.40305495876737, -520.6244698350695, -75.74818429904512], [105.804689453125, -311.16536507161464, 67.8651258951823, -560.4218952636719], array([0., 0., 0., 0.]), array([0., 0., 0., 0.])],\n",
      "counts_calib=[[3116, 566, 255, 63], [701, 2921, 110, 268], [548, 108, 2676, 668], [184, 426, 579, 2811]]\n"
     ]
    },
    {
     "data": {
      "application/vnd.jupyter.widget-view+json": {
       "model_id": "7661e312b30748f69c772b8e9fc62b0a",
       "version_major": 2,
       "version_minor": 0
      },
      "text/plain": [
       "  0%|          | 0/1 [00:00<?, ?it/s]"
      ]
     },
     "metadata": {},
     "output_type": "display_data"
    },
    {
     "data": {
      "application/vnd.jupyter.widget-view+json": {
       "model_id": "6fa0c79b387b499482067740aa2d6319",
       "version_major": 2,
       "version_minor": 0
      },
      "text/plain": [
       "  0%|          | 0/1 [00:00<?, ?it/s]"
      ]
     },
     "metadata": {},
     "output_type": "display_data"
    },
    {
     "ename": "TypeError",
     "evalue": "__init__() got an unexpected keyword argument 'tomo_qubits'",
     "output_type": "error",
     "traceback": [
      "\u001b[1;31m---------------------------------------------------------------------------\u001b[0m",
      "\u001b[1;31mTypeError\u001b[0m                                 Traceback (most recent call last)",
      "Cell \u001b[1;32mIn[12], line 7\u001b[0m\n\u001b[0;32m      5\u001b[0m \u001b[38;5;28;01mfor\u001b[39;00m key, pulse \u001b[38;5;129;01min\u001b[39;00m pulse_IQ_rescaled\u001b[38;5;241m.\u001b[39mitems():\n\u001b[0;32m      6\u001b[0m     \u001b[38;5;28mprint\u001b[39m(\u001b[38;5;124mf\u001b[39m\u001b[38;5;124m'\u001b[39m\u001b[38;5;124mRunning ILC for pulse \u001b[39m\u001b[38;5;132;01m{\u001b[39;00mkey\u001b[38;5;132;01m}\u001b[39;00m\u001b[38;5;124m'\u001b[39m)\n\u001b[1;32m----> 7\u001b[0m     rho \u001b[38;5;241m=\u001b[39m \u001b[43mtomo_ILC\u001b[49m\u001b[38;5;241;43m.\u001b[39;49m\u001b[43mget_tomo_results\u001b[49m\u001b[43m(\u001b[49m\u001b[43mpulse\u001b[49m\u001b[43m)\u001b[49m\n\u001b[0;32m      8\u001b[0m     rho \u001b[38;5;241m=\u001b[39m qt\u001b[38;5;241m.\u001b[39mQobj(rho)\n\u001b[0;32m      9\u001b[0m     rho\u001b[38;5;241m.\u001b[39mdims \u001b[38;5;241m=\u001b[39m rho_ideal\u001b[38;5;241m.\u001b[39mdims\n",
      "File \u001b[1;32ms:\\Connie\\experiments\\qramLL_4QR2\\TomoILC.py:264\u001b[0m, in \u001b[0;36mTomoILC.get_tomo_results\u001b[1;34m(self, IQ_pulse, ZZ_correction, evolv_mat)\u001b[0m\n\u001b[0;32m    260\u001b[0m \u001b[38;5;28;01mif\u001b[39;00m \u001b[38;5;28mself\u001b[39m\u001b[38;5;241m.\u001b[39mcounts_calib \u001b[38;5;129;01mis\u001b[39;00m \u001b[38;5;28;01mNone\u001b[39;00m:\n\u001b[0;32m    261\u001b[0m     \u001b[38;5;28mself\u001b[39m\u001b[38;5;241m.\u001b[39mcounts_calib \u001b[38;5;241m=\u001b[39m data[\u001b[38;5;124m'\u001b[39m\u001b[38;5;124mcounts_calib\u001b[39m\u001b[38;5;124m'\u001b[39m]\n\u001b[1;32m--> 264\u001b[0m tomo_analysis \u001b[38;5;241m=\u001b[39m \u001b[43mTomoAnalysis\u001b[49m\u001b[43m(\u001b[49m\u001b[43mnb_qubits\u001b[49m\u001b[38;5;241;43m=\u001b[39;49m\u001b[38;5;28;43mself\u001b[39;49m\u001b[38;5;241;43m.\u001b[39;49m\u001b[43mnb_qubits\u001b[49m\u001b[43m,\u001b[49m\n\u001b[0;32m    265\u001b[0m \u001b[43m                             \u001b[49m\u001b[43mtomo_qubits\u001b[49m\u001b[38;5;241;43m=\u001b[39;49m\u001b[38;5;28;43mself\u001b[39;49m\u001b[38;5;241;43m.\u001b[39;49m\u001b[43mtomo_qubits\u001b[49m\u001b[43m,\u001b[49m\n\u001b[0;32m    266\u001b[0m \u001b[43m                            \u001b[49m\u001b[43mrfsoc_config\u001b[49m\u001b[38;5;241;43m=\u001b[39;49m\u001b[38;5;28;43mself\u001b[39;49m\u001b[38;5;241;43m.\u001b[39;49m\u001b[43mrfsoc_config\u001b[49m\u001b[43m,\u001b[49m\u001b[43m \u001b[49m\n\u001b[0;32m    267\u001b[0m \u001b[43m                            \u001b[49m\u001b[43mmeas_order\u001b[49m\u001b[38;5;241;43m=\u001b[39;49m\u001b[38;5;28;43mself\u001b[39;49m\u001b[38;5;241;43m.\u001b[39;49m\u001b[43mtomoExpt\u001b[49m\u001b[38;5;241;43m.\u001b[39;49m\u001b[43mmeas_order\u001b[49m\u001b[43m,\u001b[49m\n\u001b[0;32m    268\u001b[0m \u001b[43m                            \u001b[49m\u001b[43mcalib_order\u001b[49m\u001b[38;5;241;43m=\u001b[39;49m\u001b[38;5;28;43mself\u001b[39;49m\u001b[38;5;241;43m.\u001b[39;49m\u001b[43mtomoExpt\u001b[49m\u001b[38;5;241;43m.\u001b[39;49m\u001b[43mcalib_order\u001b[49m\u001b[43m)\u001b[49m\n\u001b[0;32m    270\u001b[0m rho \u001b[38;5;241m=\u001b[39m tomo_analysis\u001b[38;5;241m.\u001b[39mget_rho_from_counts(n_tomo\u001b[38;5;241m=\u001b[39mn_tomo_raw, n_calib\u001b[38;5;241m=\u001b[39mn_calib, pulse_dict\u001b[38;5;241m=\u001b[39mpulse_dict, ZZ_correction\u001b[38;5;241m=\u001b[39mZZ_correction, evol_mats\u001b[38;5;241m=\u001b[39m\u001b[38;5;28mself\u001b[39m\u001b[38;5;241m.\u001b[39mevolv_mat)\n\u001b[0;32m    272\u001b[0m \u001b[38;5;28;01mreturn\u001b[39;00m rho\n",
      "\u001b[1;31mTypeError\u001b[0m: __init__() got an unexpected keyword argument 'tomo_qubits'"
     ]
    }
   ],
   "source": [
    "# loop over the rescaled pulses\n",
    "\n",
    "rho_dict = {}\n",
    "fidelity_dict = {}\n",
    "for key, pulse in pulse_IQ_rescaled.items():\n",
    "    print(f'Running ILC for pulse {key}')\n",
    "    rho = tomo_ILC.get_tomo_results(pulse)\n",
    "    rho = qt.Qobj(rho)\n",
    "    rho.dims = rho_ideal.dims\n",
    "    fidelity = qt.fidelity(rho, rho_ideal)\n",
    "    \n",
    "    rho_dict[key] = rho\n",
    "    fidelity_dict[key] = fidelity"
   ]
  },
  {
   "cell_type": "code",
   "execution_count": null,
   "metadata": {},
   "outputs": [],
   "source": [
    "# plot the fidelity as a function of the pulse amplitude\n",
    "\n",
    "import matplotlib.pyplot as plt\n",
    "\n",
    "fidelity_mat = np.zeros((len(amp_q0_vec), len(amp_q1_vec)))\n",
    "for i, amp_q0 in enumerate(amp_q0_vec):\n",
    "    for j, amp_q1 in enumerate(amp_q1_vec):\n",
    "        key = f'{amp_q0}_{amp_q1}'\n",
    "        fidelity_mat[i,j] = fidelity_dict[key]\n",
    "        \n",
    "fig, ax = plt.subplots(1, 1, figsize=(5, 5))\n",
    "im = ax.imshow(fidelity_mat, extent=[amp_q0_vec[0], amp_q0_vec[-1], amp_q1_vec[0], amp_q1_vec[-1]])\n",
    "\n",
    "# add the colorbar ranging from 0.9 to 1 \n",
    "\n",
    "plt.colorbar(im, ax=ax)"
   ]
  },
  {
   "cell_type": "code",
   "execution_count": 154,
   "metadata": {},
   "outputs": [],
   "source": [
    "tomo_analysis = TomoAnalysis(nb_qubits=2,\n",
    "                             tomo_qubits=[0, 1],\n",
    "                             rfsoc_config=tomo_ILC.rfsoc_config)                        "
   ]
  },
  {
   "cell_type": "code",
   "execution_count": null,
   "metadata": {},
   "outputs": [],
   "source": [
    "# plot the best fidelity\n",
    "\n",
    "max_fidelity = np.max(fidelity_mat)\n",
    "max_idx = np.where(fidelity_mat == max_fidelity)\n",
    "best_amp_q0 = amp_q0_vec[max_idx[0][0]]\n",
    "best_amp_q1 = amp_q1_vec[max_idx[1][0]]\n",
    "best_key = f'{best_amp_q0}_{best_amp_q1}'\n",
    "rho = rho_dict[best_key]\n",
    "\n",
    "\n",
    "tomo_analysis.show_plot_rho_2d(rho,rho_id=rho_ideal.full(), title='Tomo ILC')"
   ]
  },
  {
   "cell_type": "markdown",
   "metadata": {},
   "source": [
    "# Measure the fidelity versus time"
   ]
  },
  {
   "cell_type": "code",
   "execution_count": 11,
   "metadata": {},
   "outputs": [],
   "source": [
    "max_time = 60*60*3 # seconds\n",
    "\n",
    "time_vec = []\n",
    "fidelity_vec = []\n",
    "start_time = time.time()\n",
    "\n",
    "tomo_ILC = TomoILC(\n",
    "    IQ_pulse_seed=pulse_IQ, \n",
    "    gains_filename=pulse_filename, \n",
    "    nb_qubits=2, \n",
    "    n_shot_calib=20000, \n",
    "    n_shot_tomo=20000, \n",
    "    qubit_drive=[0, 1],\n",
    "    time_calib=60*20,\n",
    "    debug=False\n",
    ")\n",
    "\n"
   ]
  },
  {
   "cell_type": "code",
   "execution_count": 241,
   "metadata": {},
   "outputs": [
    {
     "data": {
      "text/plain": [
       "Text(0, 0.5, 'Fidelity')"
      ]
     },
     "execution_count": 241,
     "metadata": {},
     "output_type": "execute_result"
    },
    {
     "data": {
      "application/vnd.jupyter.widget-view+json": {
       "model_id": "53583e2a4cbe4ba79f35d9cef57fd2b9",
       "version_major": 2,
       "version_minor": 0
      },
      "image/png": "[encoded data removed]",
      "text/html": [
       "\n",
       "            <div style=\"display: inline-block;\">\n",
       "                <div class=\"jupyter-widgets widget-label\" style=\"text-align: center;\">\n",
       "                    Figure\n",
       "                </div>\n",
       "                <img src='data:image/png;base64,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' width=800.0/>\n",
       "            </div>\n",
       "        "
      ],
      "text/plain": [
       "Canvas(toolbar=Toolbar(toolitems=[('Home', 'Reset original view', 'home', 'home'), ('Back', 'Back to previous …"
      ]
     },
     "metadata": {},
     "output_type": "display_data"
    }
   ],
   "source": [
    "fig, ax = plt.subplots(1, 1, figsize=(8, 4))\n",
    "\n",
    "ax.set_xlabel('Time (s)')\n",
    "ax.set_ylabel('Fidelity')"
   ]
  },
  {
   "cell_type": "code",
   "execution_count": 12,
   "metadata": {},
   "outputs": [
    {
     "name": "stdout",
     "output_type": "stream",
     "text": [
      "5.96037483215332\n",
      "gains:  [6500 9750]\n",
      "gainpts Q0 [6500]\n",
      "gainpts Q1 [9750]\n"
     ]
    },
    {
     "data": {
      "application/vnd.jupyter.widget-view+json": {
       "model_id": "73ee4386980d4c3e8f7439ac70336eac",
       "version_major": 2,
       "version_minor": 0
      },
      "text/plain": [
       "  0%|          | 0/4 [00:00<?, ?it/s]"
      ]
     },
     "metadata": {},
     "output_type": "display_data"
    },
    {
     "ename": "KeyboardInterrupt",
     "evalue": "",
     "output_type": "error",
     "traceback": [
      "\u001b[1;31m---------------------------------------------------------------------------\u001b[0m",
      "\u001b[1;31mKeyboardInterrupt\u001b[0m                         Traceback (most recent call last)",
      "Cell \u001b[1;32mIn[12], line 2\u001b[0m\n\u001b[0;32m      1\u001b[0m \u001b[38;5;28;01mwhile\u001b[39;00m time\u001b[38;5;241m.\u001b[39mtime() \u001b[38;5;241m-\u001b[39m start_time \u001b[38;5;241m<\u001b[39m max_time:\n\u001b[1;32m----> 2\u001b[0m     rho \u001b[38;5;241m=\u001b[39m \u001b[43mtomo_ILC\u001b[49m\u001b[38;5;241;43m.\u001b[39;49m\u001b[43mget_tomo_results\u001b[49m\u001b[43m(\u001b[49m\u001b[43mpulse_IQ\u001b[49m\u001b[43m,\u001b[49m\u001b[43m \u001b[49m\u001b[43mZZ_correction\u001b[49m\u001b[38;5;241;43m=\u001b[39;49m\u001b[38;5;28;43;01mTrue\u001b[39;49;00m\u001b[43m)\u001b[49m\n\u001b[0;32m      3\u001b[0m     rho \u001b[38;5;241m=\u001b[39m qt\u001b[38;5;241m.\u001b[39mQobj(rho)\n\u001b[0;32m      4\u001b[0m     rho\u001b[38;5;241m.\u001b[39mdims \u001b[38;5;241m=\u001b[39m rho_ideal\u001b[38;5;241m.\u001b[39mdims\n",
      "File \u001b[1;32ms:\\Connie\\experiments\\qramLL_4QR2\\TomoILC.py:240\u001b[0m, in \u001b[0;36mTomoILC.get_tomo_results\u001b[1;34m(self, IQ_pulse, ZZ_correction, evolv_mat)\u001b[0m\n\u001b[0;32m    237\u001b[0m     \u001b[38;5;28mself\u001b[39m\u001b[38;5;241m.\u001b[39mcounts_calib \u001b[38;5;241m=\u001b[39m \u001b[38;5;28;01mNone\u001b[39;00m\n\u001b[0;32m    238\u001b[0m     \u001b[38;5;28mself\u001b[39m\u001b[38;5;241m.\u001b[39mtime \u001b[38;5;241m=\u001b[39m _t\n\u001b[1;32m--> 240\u001b[0m \u001b[38;5;28;43mself\u001b[39;49m\u001b[38;5;241;43m.\u001b[39;49m\u001b[43mtomo_experiment\u001b[49m\u001b[43m(\u001b[49m\u001b[43mIQ_pulse\u001b[49m\u001b[43m)\u001b[49m\n\u001b[0;32m    241\u001b[0m \u001b[38;5;66;03m# self.tomoExpt.save_data()\u001b[39;00m\n\u001b[0;32m    243\u001b[0m data \u001b[38;5;241m=\u001b[39m \u001b[38;5;28mself\u001b[39m\u001b[38;5;241m.\u001b[39mtomoExpt\u001b[38;5;241m.\u001b[39mdata\n",
      "File \u001b[1;32ms:\\Connie\\experiments\\qramLL_4QR2\\TomoILC.py:224\u001b[0m, in \u001b[0;36mTomoILC.tomo_experiment\u001b[1;34m(self, IQ_pulse)\u001b[0m\n\u001b[0;32m    202\u001b[0m \u001b[38;5;28mself\u001b[39m\u001b[38;5;241m.\u001b[39mtomoExpt\u001b[38;5;241m.\u001b[39mcfg\u001b[38;5;241m.\u001b[39mexpt \u001b[38;5;241m=\u001b[39m \u001b[38;5;28mdict\u001b[39m(\n\u001b[0;32m    203\u001b[0m starts\u001b[38;5;241m=\u001b[39mgains\u001b[38;5;241m.\u001b[39mastype(\u001b[38;5;28mint\u001b[39m), \u001b[38;5;66;03m# start gain for each qubit in IQ_qubits\u001b[39;00m\n\u001b[0;32m    204\u001b[0m steps\u001b[38;5;241m=\u001b[39mnp\u001b[38;5;241m.\u001b[39mzeros(\u001b[38;5;28mlen\u001b[39m(gains))\u001b[38;5;241m.\u001b[39mastype(\u001b[38;5;28mint\u001b[39m),\n\u001b[1;32m   (...)\u001b[0m\n\u001b[0;32m    220\u001b[0m \u001b[38;5;66;03m# plot_IQ=False,\u001b[39;00m\n\u001b[0;32m    221\u001b[0m )\n\u001b[0;32m    223\u001b[0m \u001b[38;5;28;01mtry\u001b[39;00m:\n\u001b[1;32m--> 224\u001b[0m     \u001b[38;5;28;43mself\u001b[39;49m\u001b[38;5;241;43m.\u001b[39;49m\u001b[43mtomoExpt\u001b[49m\u001b[38;5;241;43m.\u001b[39;49m\u001b[43mgo\u001b[49m\u001b[43m(\u001b[49m\u001b[43manalyze\u001b[49m\u001b[38;5;241;43m=\u001b[39;49m\u001b[38;5;28;43;01mFalse\u001b[39;49;00m\u001b[43m,\u001b[49m\u001b[43m \u001b[49m\u001b[43mdisplay\u001b[49m\u001b[38;5;241;43m=\u001b[39;49m\u001b[38;5;28;43;01mFalse\u001b[39;49;00m\u001b[43m,\u001b[49m\u001b[43m \u001b[49m\u001b[43mprogress\u001b[49m\u001b[38;5;241;43m=\u001b[39;49m\u001b[38;5;28;43mself\u001b[39;49m\u001b[38;5;241;43m.\u001b[39;49m\u001b[43mdebug\u001b[49m\u001b[43m,\u001b[49m\u001b[43m \u001b[49m\u001b[43msave\u001b[49m\u001b[38;5;241;43m=\u001b[39;49m\u001b[38;5;28;43;01mFalse\u001b[39;49;00m\u001b[43m)\u001b[49m\n\u001b[0;32m    225\u001b[0m \u001b[38;5;28;01mexcept\u001b[39;00m \u001b[38;5;167;01mException\u001b[39;00m:\n\u001b[0;32m    226\u001b[0m     \u001b[38;5;28mprint\u001b[39m(\u001b[38;5;124m\"\u001b[39m\u001b[38;5;124mPyro traceback:\u001b[39m\u001b[38;5;124m\"\u001b[39m)\n",
      "File \u001b[1;32m~\\slab\\experiment.py:115\u001b[0m, in \u001b[0;36mExperiment.go\u001b[1;34m(self, save, analyze, display, progress)\u001b[0m\n\u001b[0;32m    112\u001b[0m \u001b[38;5;28;01mdef\u001b[39;00m \u001b[38;5;21mgo\u001b[39m(\u001b[38;5;28mself\u001b[39m, save\u001b[38;5;241m=\u001b[39m\u001b[38;5;28;01mFalse\u001b[39;00m, analyze\u001b[38;5;241m=\u001b[39m\u001b[38;5;28;01mFalse\u001b[39;00m, display\u001b[38;5;241m=\u001b[39m\u001b[38;5;28;01mFalse\u001b[39;00m, progress\u001b[38;5;241m=\u001b[39m\u001b[38;5;28;01mFalse\u001b[39;00m):\n\u001b[0;32m    113\u001b[0m     \u001b[38;5;66;03m# get data\u001b[39;00m\n\u001b[1;32m--> 115\u001b[0m     data\u001b[38;5;241m=\u001b[39m\u001b[38;5;28;43mself\u001b[39;49m\u001b[38;5;241;43m.\u001b[39;49m\u001b[43macquire\u001b[49m\u001b[43m(\u001b[49m\u001b[43mprogress\u001b[49m\u001b[43m)\u001b[49m\n\u001b[0;32m    116\u001b[0m     \u001b[38;5;28;01mif\u001b[39;00m analyze:\n\u001b[0;32m    117\u001b[0m         data\u001b[38;5;241m=\u001b[39m\u001b[38;5;28mself\u001b[39m\u001b[38;5;241m.\u001b[39manalyze(data)\n",
      "File \u001b[1;32ms:\\Connie\\experiments\\qramLL_4QR2\\experiments\\two_qubit\\amprabi_opt_ctrl_state_prep.py:784\u001b[0m, in \u001b[0;36mOptimalCtrlTomo2QExperiment.acquire\u001b[1;34m(self, progress)\u001b[0m\n\u001b[0;32m    782\u001b[0m     sscfg\u001b[38;5;241m.\u001b[39mexpt\u001b[38;5;241m.\u001b[39mstate_prep_kwargs \u001b[38;5;241m=\u001b[39m \u001b[38;5;28mdict\u001b[39m(prep_state\u001b[38;5;241m=\u001b[39mprep_state)\n\u001b[0;32m    783\u001b[0m     err_tomo \u001b[38;5;241m=\u001b[39m ErrorMitigationStateTomo2QProgram(soccfg\u001b[38;5;241m=\u001b[39m\u001b[38;5;28mself\u001b[39m\u001b[38;5;241m.\u001b[39msoccfg, cfg\u001b[38;5;241m=\u001b[39msscfg)\n\u001b[1;32m--> 784\u001b[0m     \u001b[43merr_tomo\u001b[49m\u001b[38;5;241;43m.\u001b[39;49m\u001b[43macquire\u001b[49m\u001b[43m(\u001b[49m\u001b[38;5;28;43mself\u001b[39;49m\u001b[38;5;241;43m.\u001b[39;49m\u001b[43mim\u001b[49m\u001b[43m[\u001b[49m\u001b[43msscfg\u001b[49m\u001b[38;5;241;43m.\u001b[39;49m\u001b[43maliases\u001b[49m\u001b[38;5;241;43m.\u001b[39;49m\u001b[43msoc\u001b[49m\u001b[43m]\u001b[49m\u001b[43m,\u001b[49m\u001b[43m \u001b[49m\u001b[43mload_pulses\u001b[49m\u001b[38;5;241;43m=\u001b[39;49m\u001b[38;5;28;43;01mTrue\u001b[39;49;00m\u001b[43m,\u001b[49m\u001b[43m \u001b[49m\u001b[43mprogress\u001b[49m\u001b[38;5;241;43m=\u001b[39;49m\u001b[38;5;28;43;01mFalse\u001b[39;49;00m\u001b[43m)\u001b[49m\n\u001b[0;32m    785\u001b[0m     calib_prog_dict\u001b[38;5;241m.\u001b[39mupdate({prep_state:err_tomo})\n\u001b[0;32m    787\u001b[0m g_prog \u001b[38;5;241m=\u001b[39m calib_prog_dict[\u001b[38;5;124m'\u001b[39m\u001b[38;5;124mgg\u001b[39m\u001b[38;5;124m'\u001b[39m]\n",
      "File \u001b[1;32ms:\\Connie\\experiments\\qramLL_4QR2\\experiments\\clifford_averager_program.py:719\u001b[0m, in \u001b[0;36mCliffordAveragerProgram.acquire\u001b[1;34m(self, soc, load_pulses, progress, save_experiments)\u001b[0m\n\u001b[0;32m    717\u001b[0m     \u001b[38;5;28mself\u001b[39m\u001b[38;5;241m.\u001b[39mcfg\u001b[38;5;241m.\u001b[39mexpt\u001b[38;5;241m.\u001b[39mn_trig \u001b[38;5;241m=\u001b[39m \u001b[38;5;241m1\u001b[39m\n\u001b[0;32m    718\u001b[0m     \u001b[38;5;28mself\u001b[39m\u001b[38;5;241m.\u001b[39mcfg\u001b[38;5;241m.\u001b[39mexpt\u001b[38;5;241m.\u001b[39mn_init_readout \u001b[38;5;241m=\u001b[39m \u001b[38;5;241m0\u001b[39m\n\u001b[1;32m--> 719\u001b[0m \u001b[38;5;28;01mreturn\u001b[39;00m \u001b[38;5;28;43msuper\u001b[39;49m\u001b[43m(\u001b[49m\u001b[43m)\u001b[49m\u001b[38;5;241;43m.\u001b[39;49m\u001b[43macquire\u001b[49m\u001b[43m(\u001b[49m\u001b[43msoc\u001b[49m\u001b[43m,\u001b[49m\u001b[43m \u001b[49m\u001b[43mload_pulses\u001b[49m\u001b[38;5;241;43m=\u001b[39;49m\u001b[43mload_pulses\u001b[49m\u001b[43m,\u001b[49m\u001b[43m \u001b[49m\u001b[43mprogress\u001b[49m\u001b[38;5;241;43m=\u001b[39;49m\u001b[43mprogress\u001b[49m\u001b[43m,\u001b[49m\u001b[43m \u001b[49m\u001b[43mreadouts_per_experiment\u001b[49m\u001b[38;5;241;43m=\u001b[39;49m\u001b[38;5;241;43m1\u001b[39;49m\u001b[38;5;241;43m+\u001b[39;49m\u001b[38;5;28;43mself\u001b[39;49m\u001b[38;5;241;43m.\u001b[39;49m\u001b[43mcfg\u001b[49m\u001b[38;5;241;43m.\u001b[39;49m\u001b[43mexpt\u001b[49m\u001b[38;5;241;43m.\u001b[39;49m\u001b[43mn_trig\u001b[49m\u001b[38;5;241;43m*\u001b[39;49m\u001b[38;5;28;43mself\u001b[39;49m\u001b[38;5;241;43m.\u001b[39;49m\u001b[43mcfg\u001b[49m\u001b[38;5;241;43m.\u001b[39;49m\u001b[43mexpt\u001b[49m\u001b[38;5;241;43m.\u001b[39;49m\u001b[43mn_init_readout\u001b[49m\u001b[43m,\u001b[49m\u001b[43m \u001b[49m\u001b[43msave_experiments\u001b[49m\u001b[38;5;241;43m=\u001b[39;49m\u001b[43msave_experiments\u001b[49m\u001b[43m)\u001b[49m\n",
      "File \u001b[1;32mc:\\users\\slab\\qick\\qick_lib\\qick\\averager_program.py:106\u001b[0m, in \u001b[0;36mAveragerProgram.acquire\u001b[1;34m(self, soc, threshold, angle, readouts_per_experiment, save_experiments, load_pulses, start_src, progress, remove_offset)\u001b[0m\n\u001b[0;32m    103\u001b[0m \u001b[38;5;28;01mif\u001b[39;00m readouts_per_experiment \u001b[38;5;129;01mis\u001b[39;00m \u001b[38;5;129;01mnot\u001b[39;00m \u001b[38;5;28;01mNone\u001b[39;00m:\n\u001b[0;32m    104\u001b[0m     \u001b[38;5;28mself\u001b[39m\u001b[38;5;241m.\u001b[39mset_reads_per_shot(readouts_per_experiment)\n\u001b[1;32m--> 106\u001b[0m avg_d \u001b[38;5;241m=\u001b[39m \u001b[38;5;28;43msuper\u001b[39;49m\u001b[43m(\u001b[49m\u001b[43m)\u001b[49m\u001b[38;5;241;43m.\u001b[39;49m\u001b[43macquire\u001b[49m\u001b[43m(\u001b[49m\u001b[43msoc\u001b[49m\u001b[43m,\u001b[49m\u001b[43m \u001b[49m\u001b[43msoft_avgs\u001b[49m\u001b[38;5;241;43m=\u001b[39;49m\u001b[38;5;28;43mself\u001b[39;49m\u001b[38;5;241;43m.\u001b[39;49m\u001b[43msoft_avgs\u001b[49m\u001b[43m,\u001b[49m\u001b[43m \u001b[49m\u001b[43mload_pulses\u001b[49m\u001b[38;5;241;43m=\u001b[39;49m\u001b[43mload_pulses\u001b[49m\u001b[43m,\u001b[49m\u001b[43m \u001b[49m\u001b[43mstart_src\u001b[49m\u001b[38;5;241;43m=\u001b[39;49m\u001b[43mstart_src\u001b[49m\u001b[43m,\u001b[49m\u001b[43m \u001b[49m\u001b[43mthreshold\u001b[49m\u001b[38;5;241;43m=\u001b[39;49m\u001b[43mthreshold\u001b[49m\u001b[43m,\u001b[49m\u001b[43m \u001b[49m\u001b[43mangle\u001b[49m\u001b[38;5;241;43m=\u001b[39;49m\u001b[43mangle\u001b[49m\u001b[43m,\u001b[49m\u001b[43m \u001b[49m\u001b[43mprogress\u001b[49m\u001b[38;5;241;43m=\u001b[39;49m\u001b[43mprogress\u001b[49m\u001b[43m,\u001b[49m\u001b[43m \u001b[49m\u001b[43mremove_offset\u001b[49m\u001b[38;5;241;43m=\u001b[39;49m\u001b[43mremove_offset\u001b[49m\u001b[43m)\u001b[49m\n\u001b[0;32m    108\u001b[0m \u001b[38;5;66;03m# reformat the data into separate I and Q arrays\u001b[39;00m\n\u001b[0;32m    109\u001b[0m \u001b[38;5;66;03m# save results to class in case you want to look at it later or for analysis\u001b[39;00m\n\u001b[0;32m    110\u001b[0m raw \u001b[38;5;241m=\u001b[39m [d\u001b[38;5;241m.\u001b[39mreshape((\u001b[38;5;241m-\u001b[39m\u001b[38;5;241m1\u001b[39m,\u001b[38;5;241m2\u001b[39m)) \u001b[38;5;28;01mfor\u001b[39;00m d \u001b[38;5;129;01min\u001b[39;00m \u001b[38;5;28mself\u001b[39m\u001b[38;5;241m.\u001b[39mget_raw()]\n",
      "File \u001b[1;32mc:\\users\\slab\\qick\\qick_lib\\qick\\qick_asm.py:1701\u001b[0m, in \u001b[0;36mAcquireMixin.acquire\u001b[1;34m(self, soc, soft_avgs, load_pulses, start_src, threshold, angle, progress, remove_offset)\u001b[0m\n\u001b[0;32m   1698\u001b[0m soc\u001b[38;5;241m.\u001b[39mstart_readout(total_count, counter_addr\u001b[38;5;241m=\u001b[39m\u001b[38;5;28mself\u001b[39m\u001b[38;5;241m.\u001b[39mcounter_addr,\n\u001b[0;32m   1699\u001b[0m                        ch_list\u001b[38;5;241m=\u001b[39m\u001b[38;5;28mlist\u001b[39m(\u001b[38;5;28mself\u001b[39m\u001b[38;5;241m.\u001b[39mro_chs), reads_per_shot\u001b[38;5;241m=\u001b[39m\u001b[38;5;28mself\u001b[39m\u001b[38;5;241m.\u001b[39mreads_per_shot)\n\u001b[0;32m   1700\u001b[0m \u001b[38;5;28;01mwhile\u001b[39;00m count\u001b[38;5;241m<\u001b[39mtotal_count:\n\u001b[1;32m-> 1701\u001b[0m     new_data \u001b[38;5;241m=\u001b[39m obtain(\u001b[43msoc\u001b[49m\u001b[38;5;241;43m.\u001b[39;49m\u001b[43mpoll_data\u001b[49m\u001b[43m(\u001b[49m\u001b[43m)\u001b[49m)\n\u001b[0;32m   1702\u001b[0m     \u001b[38;5;28;01mfor\u001b[39;00m new_points, (d, s) \u001b[38;5;129;01min\u001b[39;00m new_data:\n\u001b[0;32m   1703\u001b[0m         \u001b[38;5;28;01mfor\u001b[39;00m ii, nreads \u001b[38;5;129;01min\u001b[39;00m \u001b[38;5;28menumerate\u001b[39m(\u001b[38;5;28mself\u001b[39m\u001b[38;5;241m.\u001b[39mreads_per_shot):\n\u001b[0;32m   1704\u001b[0m             \u001b[38;5;66;03m#print(count, new_points, nreads, d[ii].shape, total_count)\u001b[39;00m\n",
      "File \u001b[1;32mc:\\Users\\slab\\.conda\\envs\\slab\\lib\\site-packages\\Pyro4\\core.py:185\u001b[0m, in \u001b[0;36m_RemoteMethod.__call__\u001b[1;34m(self, *args, **kwargs)\u001b[0m\n\u001b[0;32m    183\u001b[0m \u001b[38;5;28;01mfor\u001b[39;00m attempt \u001b[38;5;129;01min\u001b[39;00m \u001b[38;5;28mrange\u001b[39m(\u001b[38;5;28mself\u001b[39m\u001b[38;5;241m.\u001b[39m__max_retries \u001b[38;5;241m+\u001b[39m \u001b[38;5;241m1\u001b[39m):\n\u001b[0;32m    184\u001b[0m     \u001b[38;5;28;01mtry\u001b[39;00m:\n\u001b[1;32m--> 185\u001b[0m         \u001b[38;5;28;01mreturn\u001b[39;00m \u001b[38;5;28;43mself\u001b[39;49m\u001b[38;5;241;43m.\u001b[39;49m\u001b[43m__send\u001b[49m\u001b[43m(\u001b[49m\u001b[38;5;28;43mself\u001b[39;49m\u001b[38;5;241;43m.\u001b[39;49m\u001b[43m__name\u001b[49m\u001b[43m,\u001b[49m\u001b[43m \u001b[49m\u001b[43margs\u001b[49m\u001b[43m,\u001b[49m\u001b[43m \u001b[49m\u001b[43mkwargs\u001b[49m\u001b[43m)\u001b[49m\n\u001b[0;32m    186\u001b[0m     \u001b[38;5;28;01mexcept\u001b[39;00m (errors\u001b[38;5;241m.\u001b[39mConnectionClosedError, errors\u001b[38;5;241m.\u001b[39mTimeoutError):\n\u001b[0;32m    187\u001b[0m         \u001b[38;5;66;03m# only retry for recoverable network errors\u001b[39;00m\n\u001b[0;32m    188\u001b[0m         \u001b[38;5;28;01mif\u001b[39;00m attempt \u001b[38;5;241m>\u001b[39m\u001b[38;5;241m=\u001b[39m \u001b[38;5;28mself\u001b[39m\u001b[38;5;241m.\u001b[39m__max_retries:\n\u001b[0;32m    189\u001b[0m             \u001b[38;5;66;03m# last attempt, raise the exception\u001b[39;00m\n",
      "File \u001b[1;32mc:\\Users\\slab\\.conda\\envs\\slab\\lib\\site-packages\\Pyro4\\core.py:453\u001b[0m, in \u001b[0;36mProxy._pyroInvoke\u001b[1;34m(self, methodname, vargs, kwargs, flags, objectId)\u001b[0m\n\u001b[0;32m    451\u001b[0m     \u001b[38;5;28;01mreturn\u001b[39;00m \u001b[38;5;28;01mNone\u001b[39;00m  \u001b[38;5;66;03m# oneway call, no response data\u001b[39;00m\n\u001b[0;32m    452\u001b[0m \u001b[38;5;28;01melse\u001b[39;00m:\n\u001b[1;32m--> 453\u001b[0m     msg \u001b[38;5;241m=\u001b[39m \u001b[43mmessage\u001b[49m\u001b[38;5;241;43m.\u001b[39;49m\u001b[43mMessage\u001b[49m\u001b[38;5;241;43m.\u001b[39;49m\u001b[43mrecv\u001b[49m\u001b[43m(\u001b[49m\u001b[38;5;28;43mself\u001b[39;49m\u001b[38;5;241;43m.\u001b[39;49m\u001b[43m_pyroConnection\u001b[49m\u001b[43m,\u001b[49m\u001b[43m \u001b[49m\u001b[43m[\u001b[49m\u001b[43mmessage\u001b[49m\u001b[38;5;241;43m.\u001b[39;49m\u001b[43mMSG_RESULT\u001b[49m\u001b[43m]\u001b[49m\u001b[43m,\u001b[49m\u001b[43m \u001b[49m\u001b[43mhmac_key\u001b[49m\u001b[38;5;241;43m=\u001b[39;49m\u001b[38;5;28;43mself\u001b[39;49m\u001b[38;5;241;43m.\u001b[39;49m\u001b[43m_pyroHmacKey\u001b[49m\u001b[43m)\u001b[49m\n\u001b[0;32m    454\u001b[0m     \u001b[38;5;28;01mif\u001b[39;00m config\u001b[38;5;241m.\u001b[39mLOGWIRE:\n\u001b[0;32m    455\u001b[0m         _log_wiredata(log, \u001b[38;5;124m\"\u001b[39m\u001b[38;5;124mproxy wiredata received\u001b[39m\u001b[38;5;124m\"\u001b[39m, msg)\n",
      "File \u001b[1;32mc:\\Users\\slab\\.conda\\envs\\slab\\lib\\site-packages\\Pyro4\\message.py:168\u001b[0m, in \u001b[0;36mMessage.recv\u001b[1;34m(cls, connection, requiredMsgTypes, hmac_key)\u001b[0m\n\u001b[0;32m    160\u001b[0m \u001b[38;5;129m@classmethod\u001b[39m\n\u001b[0;32m    161\u001b[0m \u001b[38;5;28;01mdef\u001b[39;00m \u001b[38;5;21mrecv\u001b[39m(\u001b[38;5;28mcls\u001b[39m, connection, requiredMsgTypes\u001b[38;5;241m=\u001b[39m\u001b[38;5;28;01mNone\u001b[39;00m, hmac_key\u001b[38;5;241m=\u001b[39m\u001b[38;5;28;01mNone\u001b[39;00m):\n\u001b[0;32m    162\u001b[0m \u001b[38;5;250m    \u001b[39m\u001b[38;5;124;03m\"\"\"\u001b[39;00m\n\u001b[0;32m    163\u001b[0m \u001b[38;5;124;03m    Receives a pyro message from a given connection.\u001b[39;00m\n\u001b[0;32m    164\u001b[0m \u001b[38;5;124;03m    Accepts the given message types (None=any, or pass a sequence).\u001b[39;00m\n\u001b[0;32m    165\u001b[0m \u001b[38;5;124;03m    Also reads annotation chunks and the actual payload data.\u001b[39;00m\n\u001b[0;32m    166\u001b[0m \u001b[38;5;124;03m    Validates a HMAC chunk if present.\u001b[39;00m\n\u001b[0;32m    167\u001b[0m \u001b[38;5;124;03m    \"\"\"\u001b[39;00m\n\u001b[1;32m--> 168\u001b[0m     msg \u001b[38;5;241m=\u001b[39m \u001b[38;5;28mcls\u001b[39m\u001b[38;5;241m.\u001b[39mfrom_header(\u001b[43mconnection\u001b[49m\u001b[38;5;241;43m.\u001b[39;49m\u001b[43mrecv\u001b[49m\u001b[43m(\u001b[49m\u001b[38;5;28;43mcls\u001b[39;49m\u001b[38;5;241;43m.\u001b[39;49m\u001b[43mheader_size\u001b[49m\u001b[43m)\u001b[49m)\n\u001b[0;32m    169\u001b[0m     msg\u001b[38;5;241m.\u001b[39mhmac_key \u001b[38;5;241m=\u001b[39m hmac_key\n\u001b[0;32m    170\u001b[0m     \u001b[38;5;28;01mif\u001b[39;00m \u001b[38;5;241m0\u001b[39m \u001b[38;5;241m<\u001b[39m config\u001b[38;5;241m.\u001b[39mMAX_MESSAGE_SIZE \u001b[38;5;241m<\u001b[39m (msg\u001b[38;5;241m.\u001b[39mdata_size \u001b[38;5;241m+\u001b[39m msg\u001b[38;5;241m.\u001b[39mannotations_size):\n",
      "File \u001b[1;32mc:\\Users\\slab\\.conda\\envs\\slab\\lib\\site-packages\\Pyro4\\socketutil.py:463\u001b[0m, in \u001b[0;36mSocketConnection.recv\u001b[1;34m(self, size)\u001b[0m\n\u001b[0;32m    462\u001b[0m \u001b[38;5;28;01mdef\u001b[39;00m \u001b[38;5;21mrecv\u001b[39m(\u001b[38;5;28mself\u001b[39m, size):\n\u001b[1;32m--> 463\u001b[0m     \u001b[38;5;28;01mreturn\u001b[39;00m \u001b[43mreceiveData\u001b[49m\u001b[43m(\u001b[49m\u001b[38;5;28;43mself\u001b[39;49m\u001b[38;5;241;43m.\u001b[39;49m\u001b[43msock\u001b[49m\u001b[43m,\u001b[49m\u001b[43m \u001b[49m\u001b[43msize\u001b[49m\u001b[43m)\u001b[49m\n",
      "File \u001b[1;32mc:\\Users\\slab\\.conda\\envs\\slab\\lib\\site-packages\\Pyro4\\socketutil.py:171\u001b[0m, in \u001b[0;36mreceiveData\u001b[1;34m(sock, size)\u001b[0m\n\u001b[0;32m    168\u001b[0m \u001b[38;5;28;01mtry\u001b[39;00m:\n\u001b[0;32m    169\u001b[0m     \u001b[38;5;28;01mwhile\u001b[39;00m msglen \u001b[38;5;241m<\u001b[39m size:\n\u001b[0;32m    170\u001b[0m         \u001b[38;5;66;03m# 60k buffer limit avoids problems on certain OSes like VMS, Windows\u001b[39;00m\n\u001b[1;32m--> 171\u001b[0m         chunk \u001b[38;5;241m=\u001b[39m \u001b[43msock\u001b[49m\u001b[38;5;241;43m.\u001b[39;49m\u001b[43mrecv\u001b[49m\u001b[43m(\u001b[49m\u001b[38;5;28;43mmin\u001b[39;49m\u001b[43m(\u001b[49m\u001b[38;5;241;43m60000\u001b[39;49m\u001b[43m,\u001b[49m\u001b[43m \u001b[49m\u001b[43msize\u001b[49m\u001b[43m \u001b[49m\u001b[38;5;241;43m-\u001b[39;49m\u001b[43m \u001b[49m\u001b[43mmsglen\u001b[49m\u001b[43m)\u001b[49m\u001b[43m)\u001b[49m\n\u001b[0;32m    172\u001b[0m         \u001b[38;5;28;01mif\u001b[39;00m \u001b[38;5;129;01mnot\u001b[39;00m chunk:\n\u001b[0;32m    173\u001b[0m             \u001b[38;5;28;01mbreak\u001b[39;00m\n",
      "\u001b[1;31mKeyboardInterrupt\u001b[0m: "
     ]
    }
   ],
   "source": [
    "while time.time() - start_time < max_time:\n",
    "    rho = tomo_ILC.get_tomo_results(pulse_IQ, ZZ_correction=True)\n",
    "    rho = qt.Qobj(rho)\n",
    "    rho.dims = rho_ideal.dims\n",
    "    fidelity = qt.fidelity(rho, rho_ideal)**2\n",
    "    \n",
    "    time_vec.append(time.time() - start_time)\n",
    "    fidelity_vec.append(fidelity)    \n",
    "    \n",
    "    ax.clear()\n",
    "    ax.plot(time_vec, fidelity_vec, 'o-')\n",
    "    ax.set_xlabel('Time (s)')\n",
    "    ax.set_ylabel('Fidelity')\n",
    "    fig.canvas.draw()"
   ]
  },
  {
   "cell_type": "code",
   "execution_count": 243,
   "metadata": {},
   "outputs": [],
   "source": [
    "shots = tomo_ILC.tomoExpt.data['counts_tomo_gains'][0][0]\n",
    "calib_shots = tomo_ILC.tomoExpt.data['counts_calib']\n",
    "\n",
    "rho = tomo_analysis.get_rho_from_counts(shots, calib_shots)"
   ]
  },
  {
   "cell_type": "code",
   "execution_count": 244,
   "metadata": {},
   "outputs": [
    {
     "data": {
      "application/vnd.jupyter.widget-view+json": {
       "model_id": "a2a18a1876ed471fba26410f0a8bcaa7",
       "version_major": 2,
       "version_minor": 0
      },
      "image/png": "[encoded data removed]",
      "text/html": [
       "\n",
       "            <div style=\"display: inline-block;\">\n",
       "                <div class=\"jupyter-widgets widget-label\" style=\"text-align: center;\">\n",
       "                    Figure\n",
       "                </div>\n",
       "                <img src='data:image/png;base64,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' width=1200.0/>\n",
       "            </div>\n",
       "        "
      ],
      "text/plain": [
       "Canvas(toolbar=Toolbar(toolitems=[('Home', 'Reset original view', 'home', 'home'), ('Back', 'Back to previous …"
      ]
     },
     "metadata": {},
     "output_type": "display_data"
    }
   ],
   "source": [
    "# plot the best fidelity\n",
    "\n",
    "tomo_analysis.show_plot_rho_2d(rho,rho_id=rho_ideal.full(), title='Tomo ILC')"
   ]
  },
  {
   "cell_type": "code",
   "execution_count": null,
   "metadata": {},
   "outputs": [],
   "source": [
    "rho = tomo_analysis.get_rho_from_counts(shots, calib_shots)\n",
    "tomo_analysis.show_plot_rho_2d(rho,rho_id=rho_ideal.full(), title='Tomo ILC')"
   ]
  },
  {
   "cell_type": "code",
   "execution_count": null,
   "metadata": {},
   "outputs": [],
   "source": [
    "tomo_ILC.evolv_mat"
   ]
  },
  {
   "cell_type": "markdown",
   "metadata": {},
   "source": [
    "# Measurement of the fidelity fluctuation versus shots"
   ]
  },
  {
   "cell_type": "code",
   "execution_count": 25,
   "metadata": {},
   "outputs": [],
   "source": [
    "shot_vec = np.array([1000,  5000, 10000, 20000, 50000, 100000])\n",
    "nb_measurment = 20\n",
    "fidelity_vec = np.zeros((len(shot_vec), nb_measurment))"
   ]
  },
  {
   "cell_type": "code",
   "execution_count": 29,
   "metadata": {},
   "outputs": [
    {
     "name": "stderr",
     "output_type": "stream",
     "text": [
      "TqdmDeprecationWarning: This function will be removed in tqdm==5.0.0\n",
      "Please use `tqdm.notebook.tqdm` instead of `tqdm.tqdm_notebook`\n",
      " C:\\Users\\slab\\AppData\\Local\\Temp\\ipykernel_12924\\1449733536.py: 1"
     ]
    },
    {
     "data": {
      "application/vnd.jupyter.widget-view+json": {
       "model_id": "6ded349bf0154114ad386cc3ba570176",
       "version_major": 2,
       "version_minor": 0
      },
      "text/plain": [
       "0it [00:00, ?it/s]"
      ]
     },
     "metadata": {},
     "output_type": "display_data"
    },
    {
     "name": "stdout",
     "output_type": "stream",
     "text": [
      "0.6624648571014404\n",
      "gains:  [6500 9750]\n",
      "gainpts Q0 [6500]\n",
      "gainpts Q1 [9750]\n"
     ]
    },
    {
     "data": {
      "application/vnd.jupyter.widget-view+json": {
       "model_id": "9e27469b94e341909837da4b796198cb",
       "version_major": 2,
       "version_minor": 0
      },
      "text/plain": [
       "  0%|          | 0/4 [00:00<?, ?it/s]"
      ]
     },
     "metadata": {},
     "output_type": "display_data"
    },
    {
     "name": "stdout",
     "output_type": "stream",
     "text": [
      "Qubit (0)\n",
      "ge fidelity (%): 82.19999999999999 \t angle (deg): 108.1592086482249 \t threshold ge: 262.5260383340367\n",
      "Qubit (2)\n",
      "ge fidelity (%): 84.34217108554277 \t angle (deg): 176.54828227288476 \t threshold ge: 526.6744392914735\n",
      "thresholds=[262.5260383340367, 0, 526.6744392914735, 0],\n",
      "angles=[108.1592086482249, 0, 176.54828227288476, 0],\n",
      "ge_avgs=[[151.60121809895833, -168.17153472222225, 21.491721571180555, -548.40348828125], array([0., 0., 0., 0.]), [-287.01199283854163, -78.8366328125, -784.2658190104166, -98.15888216145834], array([0., 0., 0., 0.])],\n",
      "counts_calib=[[871, 63, 59, 7], [84, 834, 5, 77], [112, 6, 822, 60], [7, 110, 60, 823]]\n"
     ]
    },
    {
     "data": {
      "application/vnd.jupyter.widget-view+json": {
       "model_id": "77363e6503d34c9bb2e58c954900abaf",
       "version_major": 2,
       "version_minor": 0
      },
      "text/plain": [
       "  0%|          | 0/1 [00:00<?, ?it/s]"
      ]
     },
     "metadata": {},
     "output_type": "display_data"
    },
    {
     "data": {
      "application/vnd.jupyter.widget-view+json": {
       "model_id": "3ea57f2142404e4fb3eded4ddf97bc7e",
       "version_major": 2,
       "version_minor": 0
      },
      "text/plain": [
       "  0%|          | 0/1 [00:00<?, ?it/s]"
      ]
     },
     "metadata": {},
     "output_type": "display_data"
    },
    {
     "name": "stdout",
     "output_type": "stream",
     "text": [
      "9.008800983428955\n",
      "gains:  [6500 9750]\n",
      "gainpts Q0 [6500]\n",
      "gainpts Q1 [9750]\n",
      "Re-using provided angles, thresholds, ge_avgs, counts_calib\n",
      "thresholds=[262.5260383340367, 0, 526.6744392914735, 0],\n",
      "angles=[108.1592086482249, 0, 176.54828227288476, 0],\n",
      "ge_avgs=[[ 151.6012181  -168.17153472   21.49172157 -548.40348828]\n",
      " [   0.            0.            0.            0.        ]\n",
      " [-287.01199284  -78.83663281 -784.26581901  -98.15888216]\n",
      " [   0.            0.            0.            0.        ]],\n",
      "counts_calib=[[871, 63, 59, 7], [84, 834, 5, 77], [112, 6, 822, 60], [7, 110, 60, 823]]\n"
     ]
    },
    {
     "data": {
      "application/vnd.jupyter.widget-view+json": {
       "model_id": "9de6279878ad4cb1849c26705280d9b9",
       "version_major": 2,
       "version_minor": 0
      },
      "text/plain": [
       "  0%|          | 0/1 [00:00<?, ?it/s]"
      ]
     },
     "metadata": {},
     "output_type": "display_data"
    },
    {
     "data": {
      "application/vnd.jupyter.widget-view+json": {
       "model_id": "1d80e3a454024b7e9cd2a8c6e90e7754",
       "version_major": 2,
       "version_minor": 0
      },
      "text/plain": [
       "  0%|          | 0/1 [00:00<?, ?it/s]"
      ]
     },
     "metadata": {},
     "output_type": "display_data"
    },
    {
     "name": "stdout",
     "output_type": "stream",
     "text": [
      "14.584293842315674\n",
      "gains:  [6500 9750]\n",
      "gainpts Q0 [6500]\n",
      "gainpts Q1 [9750]\n",
      "Re-using provided angles, thresholds, ge_avgs, counts_calib\n",
      "thresholds=[262.5260383340367, 0, 526.6744392914735, 0],\n",
      "angles=[108.1592086482249, 0, 176.54828227288476, 0],\n",
      "ge_avgs=[[ 151.6012181  -168.17153472   21.49172157 -548.40348828]\n",
      " [   0.            0.            0.            0.        ]\n",
      " [-287.01199284  -78.83663281 -784.26581901  -98.15888216]\n",
      " [   0.            0.            0.            0.        ]],\n",
      "counts_calib=[[871, 63, 59, 7], [84, 834, 5, 77], [112, 6, 822, 60], [7, 110, 60, 823]]\n"
     ]
    },
    {
     "data": {
      "application/vnd.jupyter.widget-view+json": {
       "model_id": "76aea6e8cc0c4b0189014b5b489f4514",
       "version_major": 2,
       "version_minor": 0
      },
      "text/plain": [
       "  0%|          | 0/1 [00:00<?, ?it/s]"
      ]
     },
     "metadata": {},
     "output_type": "display_data"
    },
    {
     "data": {
      "application/vnd.jupyter.widget-view+json": {
       "model_id": "e72fef980522447fbaa910df85e33941",
       "version_major": 2,
       "version_minor": 0
      },
      "text/plain": [
       "  0%|          | 0/1 [00:00<?, ?it/s]"
      ]
     },
     "metadata": {},
     "output_type": "display_data"
    },
    {
     "name": "stdout",
     "output_type": "stream",
     "text": [
      "20.11250877380371\n",
      "gains:  [6500 9750]\n",
      "gainpts Q0 [6500]\n",
      "gainpts Q1 [9750]\n",
      "Re-using provided angles, thresholds, ge_avgs, counts_calib\n",
      "thresholds=[262.5260383340367, 0, 526.6744392914735, 0],\n",
      "angles=[108.1592086482249, 0, 176.54828227288476, 0],\n",
      "ge_avgs=[[ 151.6012181  -168.17153472   21.49172157 -548.40348828]\n",
      " [   0.            0.            0.            0.        ]\n",
      " [-287.01199284  -78.83663281 -784.26581901  -98.15888216]\n",
      " [   0.            0.            0.            0.        ]],\n",
      "counts_calib=[[871, 63, 59, 7], [84, 834, 5, 77], [112, 6, 822, 60], [7, 110, 60, 823]]\n"
     ]
    },
    {
     "data": {
      "application/vnd.jupyter.widget-view+json": {
       "model_id": "de62d2cbf54a458b9f55a70557bdece4",
       "version_major": 2,
       "version_minor": 0
      },
      "text/plain": [
       "  0%|          | 0/1 [00:00<?, ?it/s]"
      ]
     },
     "metadata": {},
     "output_type": "display_data"
    },
    {
     "data": {
      "application/vnd.jupyter.widget-view+json": {
       "model_id": "f1fbc8a1a8724ab2be440e06dca547a9",
       "version_major": 2,
       "version_minor": 0
      },
      "text/plain": [
       "  0%|          | 0/1 [00:00<?, ?it/s]"
      ]
     },
     "metadata": {},
     "output_type": "display_data"
    },
    {
     "name": "stdout",
     "output_type": "stream",
     "text": [
      "25.618967294692993\n",
      "gains:  [6500 9750]\n",
      "gainpts Q0 [6500]\n",
      "gainpts Q1 [9750]\n",
      "Re-using provided angles, thresholds, ge_avgs, counts_calib\n",
      "thresholds=[262.5260383340367, 0, 526.6744392914735, 0],\n",
      "angles=[108.1592086482249, 0, 176.54828227288476, 0],\n",
      "ge_avgs=[[ 151.6012181  -168.17153472   21.49172157 -548.40348828]\n",
      " [   0.            0.            0.            0.        ]\n",
      " [-287.01199284  -78.83663281 -784.26581901  -98.15888216]\n",
      " [   0.            0.            0.            0.        ]],\n",
      "counts_calib=[[871, 63, 59, 7], [84, 834, 5, 77], [112, 6, 822, 60], [7, 110, 60, 823]]\n"
     ]
    },
    {
     "data": {
      "application/vnd.jupyter.widget-view+json": {
       "model_id": "31c5479434c54b78a4874c29b3a9ff9d",
       "version_major": 2,
       "version_minor": 0
      },
      "text/plain": [
       "  0%|          | 0/1 [00:00<?, ?it/s]"
      ]
     },
     "metadata": {},
     "output_type": "display_data"
    },
    {
     "data": {
      "application/vnd.jupyter.widget-view+json": {
       "model_id": "1698712b5ce74361a2d2992ea0ec0c79",
       "version_major": 2,
       "version_minor": 0
      },
      "text/plain": [
       "  0%|          | 0/1 [00:00<?, ?it/s]"
      ]
     },
     "metadata": {},
     "output_type": "display_data"
    },
    {
     "name": "stdout",
     "output_type": "stream",
     "text": [
      "31.217790842056274\n",
      "gains:  [6500 9750]\n",
      "gainpts Q0 [6500]\n",
      "gainpts Q1 [9750]\n",
      "Re-using provided angles, thresholds, ge_avgs, counts_calib\n",
      "thresholds=[262.5260383340367, 0, 526.6744392914735, 0],\n",
      "angles=[108.1592086482249, 0, 176.54828227288476, 0],\n",
      "ge_avgs=[[ 151.6012181  -168.17153472   21.49172157 -548.40348828]\n",
      " [   0.            0.            0.            0.        ]\n",
      " [-287.01199284  -78.83663281 -784.26581901  -98.15888216]\n",
      " [   0.            0.            0.            0.        ]],\n",
      "counts_calib=[[871, 63, 59, 7], [84, 834, 5, 77], [112, 6, 822, 60], [7, 110, 60, 823]]\n"
     ]
    },
    {
     "data": {
      "application/vnd.jupyter.widget-view+json": {
       "model_id": "866b3fbd730a4baf8f236b995e6489c7",
       "version_major": 2,
       "version_minor": 0
      },
      "text/plain": [
       "  0%|          | 0/1 [00:00<?, ?it/s]"
      ]
     },
     "metadata": {},
     "output_type": "display_data"
    },
    {
     "data": {
      "application/vnd.jupyter.widget-view+json": {
       "model_id": "ad2b74058cca4167b9d4d2ed12072b13",
       "version_major": 2,
       "version_minor": 0
      },
      "text/plain": [
       "  0%|          | 0/1 [00:00<?, ?it/s]"
      ]
     },
     "metadata": {},
     "output_type": "display_data"
    },
    {
     "name": "stdout",
     "output_type": "stream",
     "text": [
      "36.96940088272095\n",
      "gains:  [6500 9750]\n",
      "gainpts Q0 [6500]\n",
      "gainpts Q1 [9750]\n",
      "Re-using provided angles, thresholds, ge_avgs, counts_calib\n",
      "thresholds=[262.5260383340367, 0, 526.6744392914735, 0],\n",
      "angles=[108.1592086482249, 0, 176.54828227288476, 0],\n",
      "ge_avgs=[[ 151.6012181  -168.17153472   21.49172157 -548.40348828]\n",
      " [   0.            0.            0.            0.        ]\n",
      " [-287.01199284  -78.83663281 -784.26581901  -98.15888216]\n",
      " [   0.            0.            0.            0.        ]],\n",
      "counts_calib=[[871, 63, 59, 7], [84, 834, 5, 77], [112, 6, 822, 60], [7, 110, 60, 823]]\n"
     ]
    },
    {
     "data": {
      "application/vnd.jupyter.widget-view+json": {
       "model_id": "da8636366eb64946bd05eba1c186d806",
       "version_major": 2,
       "version_minor": 0
      },
      "text/plain": [
       "  0%|          | 0/1 [00:00<?, ?it/s]"
      ]
     },
     "metadata": {},
     "output_type": "display_data"
    },
    {
     "data": {
      "application/vnd.jupyter.widget-view+json": {
       "model_id": "55d8f70f7ad24f9ab989e9093dd7b924",
       "version_major": 2,
       "version_minor": 0
      },
      "text/plain": [
       "  0%|          | 0/1 [00:00<?, ?it/s]"
      ]
     },
     "metadata": {},
     "output_type": "display_data"
    },
    {
     "name": "stdout",
     "output_type": "stream",
     "text": [
      "42.48577260971069\n",
      "gains:  [6500 9750]\n",
      "gainpts Q0 [6500]\n",
      "gainpts Q1 [9750]\n",
      "Re-using provided angles, thresholds, ge_avgs, counts_calib\n",
      "thresholds=[262.5260383340367, 0, 526.6744392914735, 0],\n",
      "angles=[108.1592086482249, 0, 176.54828227288476, 0],\n",
      "ge_avgs=[[ 151.6012181  -168.17153472   21.49172157 -548.40348828]\n",
      " [   0.            0.            0.            0.        ]\n",
      " [-287.01199284  -78.83663281 -784.26581901  -98.15888216]\n",
      " [   0.            0.            0.            0.        ]],\n",
      "counts_calib=[[871, 63, 59, 7], [84, 834, 5, 77], [112, 6, 822, 60], [7, 110, 60, 823]]\n"
     ]
    },
    {
     "data": {
      "application/vnd.jupyter.widget-view+json": {
       "model_id": "926633e898044816bacc72e43b4004aa",
       "version_major": 2,
       "version_minor": 0
      },
      "text/plain": [
       "  0%|          | 0/1 [00:00<?, ?it/s]"
      ]
     },
     "metadata": {},
     "output_type": "display_data"
    },
    {
     "data": {
      "application/vnd.jupyter.widget-view+json": {
       "model_id": "78f79355183146339bcc167a79f1368c",
       "version_major": 2,
       "version_minor": 0
      },
      "text/plain": [
       "  0%|          | 0/1 [00:00<?, ?it/s]"
      ]
     },
     "metadata": {},
     "output_type": "display_data"
    },
    {
     "name": "stdout",
     "output_type": "stream",
     "text": [
      "48.15087652206421\n",
      "gains:  [6500 9750]\n",
      "gainpts Q0 [6500]\n",
      "gainpts Q1 [9750]\n",
      "Re-using provided angles, thresholds, ge_avgs, counts_calib\n",
      "thresholds=[262.5260383340367, 0, 526.6744392914735, 0],\n",
      "angles=[108.1592086482249, 0, 176.54828227288476, 0],\n",
      "ge_avgs=[[ 151.6012181  -168.17153472   21.49172157 -548.40348828]\n",
      " [   0.            0.            0.            0.        ]\n",
      " [-287.01199284  -78.83663281 -784.26581901  -98.15888216]\n",
      " [   0.            0.            0.            0.        ]],\n",
      "counts_calib=[[871, 63, 59, 7], [84, 834, 5, 77], [112, 6, 822, 60], [7, 110, 60, 823]]\n"
     ]
    },
    {
     "data": {
      "application/vnd.jupyter.widget-view+json": {
       "model_id": "5a108691bedb438b95b7decb807e10b1",
       "version_major": 2,
       "version_minor": 0
      },
      "text/plain": [
       "  0%|          | 0/1 [00:00<?, ?it/s]"
      ]
     },
     "metadata": {},
     "output_type": "display_data"
    },
    {
     "data": {
      "application/vnd.jupyter.widget-view+json": {
       "model_id": "4b81379279204d75b8bb9a7ad19c9b84",
       "version_major": 2,
       "version_minor": 0
      },
      "text/plain": [
       "  0%|          | 0/1 [00:00<?, ?it/s]"
      ]
     },
     "metadata": {},
     "output_type": "display_data"
    },
    {
     "name": "stdout",
     "output_type": "stream",
     "text": [
      "53.71127700805664\n",
      "gains:  [6500 9750]\n",
      "gainpts Q0 [6500]\n",
      "gainpts Q1 [9750]\n",
      "Re-using provided angles, thresholds, ge_avgs, counts_calib\n",
      "thresholds=[262.5260383340367, 0, 526.6744392914735, 0],\n",
      "angles=[108.1592086482249, 0, 176.54828227288476, 0],\n",
      "ge_avgs=[[ 151.6012181  -168.17153472   21.49172157 -548.40348828]\n",
      " [   0.            0.            0.            0.        ]\n",
      " [-287.01199284  -78.83663281 -784.26581901  -98.15888216]\n",
      " [   0.            0.            0.            0.        ]],\n",
      "counts_calib=[[871, 63, 59, 7], [84, 834, 5, 77], [112, 6, 822, 60], [7, 110, 60, 823]]\n"
     ]
    },
    {
     "data": {
      "application/vnd.jupyter.widget-view+json": {
       "model_id": "c30aca20996b41858d2c102c30cf8414",
       "version_major": 2,
       "version_minor": 0
      },
      "text/plain": [
       "  0%|          | 0/1 [00:00<?, ?it/s]"
      ]
     },
     "metadata": {},
     "output_type": "display_data"
    },
    {
     "data": {
      "application/vnd.jupyter.widget-view+json": {
       "model_id": "f9f6ca8a94f14012917d6fe07d524b05",
       "version_major": 2,
       "version_minor": 0
      },
      "text/plain": [
       "  0%|          | 0/1 [00:00<?, ?it/s]"
      ]
     },
     "metadata": {},
     "output_type": "display_data"
    },
    {
     "name": "stdout",
     "output_type": "stream",
     "text": [
      "59.18806791305542\n",
      "gains:  [6500 9750]\n",
      "gainpts Q0 [6500]\n",
      "gainpts Q1 [9750]\n",
      "Re-using provided angles, thresholds, ge_avgs, counts_calib\n",
      "thresholds=[262.5260383340367, 0, 526.6744392914735, 0],\n",
      "angles=[108.1592086482249, 0, 176.54828227288476, 0],\n",
      "ge_avgs=[[ 151.6012181  -168.17153472   21.49172157 -548.40348828]\n",
      " [   0.            0.            0.            0.        ]\n",
      " [-287.01199284  -78.83663281 -784.26581901  -98.15888216]\n",
      " [   0.            0.            0.            0.        ]],\n",
      "counts_calib=[[871, 63, 59, 7], [84, 834, 5, 77], [112, 6, 822, 60], [7, 110, 60, 823]]\n"
     ]
    },
    {
     "data": {
      "application/vnd.jupyter.widget-view+json": {
       "model_id": "58629a1ae8f64dc885cbcce963189ffa",
       "version_major": 2,
       "version_minor": 0
      },
      "text/plain": [
       "  0%|          | 0/1 [00:00<?, ?it/s]"
      ]
     },
     "metadata": {},
     "output_type": "display_data"
    },
    {
     "data": {
      "application/vnd.jupyter.widget-view+json": {
       "model_id": "11f642d0e51d436294fd2ae07f6db00a",
       "version_major": 2,
       "version_minor": 0
      },
      "text/plain": [
       "  0%|          | 0/1 [00:00<?, ?it/s]"
      ]
     },
     "metadata": {},
     "output_type": "display_data"
    },
    {
     "name": "stdout",
     "output_type": "stream",
     "text": [
      "64.68577766418457\n",
      "gains:  [6500 9750]\n",
      "gainpts Q0 [6500]\n",
      "gainpts Q1 [9750]\n",
      "Re-using provided angles, thresholds, ge_avgs, counts_calib\n",
      "thresholds=[262.5260383340367, 0, 526.6744392914735, 0],\n",
      "angles=[108.1592086482249, 0, 176.54828227288476, 0],\n",
      "ge_avgs=[[ 151.6012181  -168.17153472   21.49172157 -548.40348828]\n",
      " [   0.            0.            0.            0.        ]\n",
      " [-287.01199284  -78.83663281 -784.26581901  -98.15888216]\n",
      " [   0.            0.            0.            0.        ]],\n",
      "counts_calib=[[871, 63, 59, 7], [84, 834, 5, 77], [112, 6, 822, 60], [7, 110, 60, 823]]\n"
     ]
    },
    {
     "data": {
      "application/vnd.jupyter.widget-view+json": {
       "model_id": "03a7cc0fb32a420ea8746ab00e251bbd",
       "version_major": 2,
       "version_minor": 0
      },
      "text/plain": [
       "  0%|          | 0/1 [00:00<?, ?it/s]"
      ]
     },
     "metadata": {},
     "output_type": "display_data"
    },
    {
     "data": {
      "application/vnd.jupyter.widget-view+json": {
       "model_id": "18631e0a1f5d46c4bbd28a8aec9ee158",
       "version_major": 2,
       "version_minor": 0
      },
      "text/plain": [
       "  0%|          | 0/1 [00:00<?, ?it/s]"
      ]
     },
     "metadata": {},
     "output_type": "display_data"
    },
    {
     "name": "stdout",
     "output_type": "stream",
     "text": [
      "70.19017028808594\n",
      "gains:  [6500 9750]\n",
      "gainpts Q0 [6500]\n",
      "gainpts Q1 [9750]\n",
      "Re-using provided angles, thresholds, ge_avgs, counts_calib\n",
      "thresholds=[262.5260383340367, 0, 526.6744392914735, 0],\n",
      "angles=[108.1592086482249, 0, 176.54828227288476, 0],\n",
      "ge_avgs=[[ 151.6012181  -168.17153472   21.49172157 -548.40348828]\n",
      " [   0.            0.            0.            0.        ]\n",
      " [-287.01199284  -78.83663281 -784.26581901  -98.15888216]\n",
      " [   0.            0.            0.            0.        ]],\n",
      "counts_calib=[[871, 63, 59, 7], [84, 834, 5, 77], [112, 6, 822, 60], [7, 110, 60, 823]]\n"
     ]
    },
    {
     "data": {
      "application/vnd.jupyter.widget-view+json": {
       "model_id": "7f7f7ee7e3be49289cc123ad52741fc3",
       "version_major": 2,
       "version_minor": 0
      },
      "text/plain": [
       "  0%|          | 0/1 [00:00<?, ?it/s]"
      ]
     },
     "metadata": {},
     "output_type": "display_data"
    },
    {
     "data": {
      "application/vnd.jupyter.widget-view+json": {
       "model_id": "08b68212456145708b42e6473c86bc3b",
       "version_major": 2,
       "version_minor": 0
      },
      "text/plain": [
       "  0%|          | 0/1 [00:00<?, ?it/s]"
      ]
     },
     "metadata": {},
     "output_type": "display_data"
    },
    {
     "name": "stdout",
     "output_type": "stream",
     "text": [
      "75.95966815948486\n",
      "gains:  [6500 9750]\n",
      "gainpts Q0 [6500]\n",
      "gainpts Q1 [9750]\n",
      "Re-using provided angles, thresholds, ge_avgs, counts_calib\n",
      "thresholds=[262.5260383340367, 0, 526.6744392914735, 0],\n",
      "angles=[108.1592086482249, 0, 176.54828227288476, 0],\n",
      "ge_avgs=[[ 151.6012181  -168.17153472   21.49172157 -548.40348828]\n",
      " [   0.            0.            0.            0.        ]\n",
      " [-287.01199284  -78.83663281 -784.26581901  -98.15888216]\n",
      " [   0.            0.            0.            0.        ]],\n",
      "counts_calib=[[871, 63, 59, 7], [84, 834, 5, 77], [112, 6, 822, 60], [7, 110, 60, 823]]\n"
     ]
    },
    {
     "data": {
      "application/vnd.jupyter.widget-view+json": {
       "model_id": "56114e90269440e4a4c02af9d47cda52",
       "version_major": 2,
       "version_minor": 0
      },
      "text/plain": [
       "  0%|          | 0/1 [00:00<?, ?it/s]"
      ]
     },
     "metadata": {},
     "output_type": "display_data"
    },
    {
     "data": {
      "application/vnd.jupyter.widget-view+json": {
       "model_id": "52af9eb350e0408bba364ec7da3add70",
       "version_major": 2,
       "version_minor": 0
      },
      "text/plain": [
       "  0%|          | 0/1 [00:00<?, ?it/s]"
      ]
     },
     "metadata": {},
     "output_type": "display_data"
    },
    {
     "name": "stdout",
     "output_type": "stream",
     "text": [
      "81.45999717712402\n",
      "gains:  [6500 9750]\n",
      "gainpts Q0 [6500]\n",
      "gainpts Q1 [9750]\n",
      "Re-using provided angles, thresholds, ge_avgs, counts_calib\n",
      "thresholds=[262.5260383340367, 0, 526.6744392914735, 0],\n",
      "angles=[108.1592086482249, 0, 176.54828227288476, 0],\n",
      "ge_avgs=[[ 151.6012181  -168.17153472   21.49172157 -548.40348828]\n",
      " [   0.            0.            0.            0.        ]\n",
      " [-287.01199284  -78.83663281 -784.26581901  -98.15888216]\n",
      " [   0.            0.            0.            0.        ]],\n",
      "counts_calib=[[871, 63, 59, 7], [84, 834, 5, 77], [112, 6, 822, 60], [7, 110, 60, 823]]\n"
     ]
    },
    {
     "data": {
      "application/vnd.jupyter.widget-view+json": {
       "model_id": "f80895b9adeb48e88d7e849e13e16638",
       "version_major": 2,
       "version_minor": 0
      },
      "text/plain": [
       "  0%|          | 0/1 [00:00<?, ?it/s]"
      ]
     },
     "metadata": {},
     "output_type": "display_data"
    },
    {
     "data": {
      "application/vnd.jupyter.widget-view+json": {
       "model_id": "1e652c6cb87f4d55a39201626fc3aaba",
       "version_major": 2,
       "version_minor": 0
      },
      "text/plain": [
       "  0%|          | 0/1 [00:00<?, ?it/s]"
      ]
     },
     "metadata": {},
     "output_type": "display_data"
    },
    {
     "name": "stdout",
     "output_type": "stream",
     "text": [
      "87.20213055610657\n",
      "gains:  [6500 9750]\n",
      "gainpts Q0 [6500]\n",
      "gainpts Q1 [9750]\n",
      "Re-using provided angles, thresholds, ge_avgs, counts_calib\n",
      "thresholds=[262.5260383340367, 0, 526.6744392914735, 0],\n",
      "angles=[108.1592086482249, 0, 176.54828227288476, 0],\n",
      "ge_avgs=[[ 151.6012181  -168.17153472   21.49172157 -548.40348828]\n",
      " [   0.            0.            0.            0.        ]\n",
      " [-287.01199284  -78.83663281 -784.26581901  -98.15888216]\n",
      " [   0.            0.            0.            0.        ]],\n",
      "counts_calib=[[871, 63, 59, 7], [84, 834, 5, 77], [112, 6, 822, 60], [7, 110, 60, 823]]\n"
     ]
    },
    {
     "data": {
      "application/vnd.jupyter.widget-view+json": {
       "model_id": "cb1751055a224d22a90842921cb128d8",
       "version_major": 2,
       "version_minor": 0
      },
      "text/plain": [
       "  0%|          | 0/1 [00:00<?, ?it/s]"
      ]
     },
     "metadata": {},
     "output_type": "display_data"
    },
    {
     "data": {
      "application/vnd.jupyter.widget-view+json": {
       "model_id": "e9b0756c59b14e448e22cb6cdd8d596e",
       "version_major": 2,
       "version_minor": 0
      },
      "text/plain": [
       "  0%|          | 0/1 [00:00<?, ?it/s]"
      ]
     },
     "metadata": {},
     "output_type": "display_data"
    },
    {
     "name": "stdout",
     "output_type": "stream",
     "text": [
      "92.70976948738098\n",
      "gains:  [6500 9750]\n",
      "gainpts Q0 [6500]\n",
      "gainpts Q1 [9750]\n",
      "Re-using provided angles, thresholds, ge_avgs, counts_calib\n",
      "thresholds=[262.5260383340367, 0, 526.6744392914735, 0],\n",
      "angles=[108.1592086482249, 0, 176.54828227288476, 0],\n",
      "ge_avgs=[[ 151.6012181  -168.17153472   21.49172157 -548.40348828]\n",
      " [   0.            0.            0.            0.        ]\n",
      " [-287.01199284  -78.83663281 -784.26581901  -98.15888216]\n",
      " [   0.            0.            0.            0.        ]],\n",
      "counts_calib=[[871, 63, 59, 7], [84, 834, 5, 77], [112, 6, 822, 60], [7, 110, 60, 823]]\n"
     ]
    },
    {
     "data": {
      "application/vnd.jupyter.widget-view+json": {
       "model_id": "9488197d7df9455a934e70ae42f92449",
       "version_major": 2,
       "version_minor": 0
      },
      "text/plain": [
       "  0%|          | 0/1 [00:00<?, ?it/s]"
      ]
     },
     "metadata": {},
     "output_type": "display_data"
    },
    {
     "data": {
      "application/vnd.jupyter.widget-view+json": {
       "model_id": "bcc42c3c2321498c96ca4a3cfc7831c0",
       "version_major": 2,
       "version_minor": 0
      },
      "text/plain": [
       "  0%|          | 0/1 [00:00<?, ?it/s]"
      ]
     },
     "metadata": {},
     "output_type": "display_data"
    },
    {
     "name": "stdout",
     "output_type": "stream",
     "text": [
      "98.2571165561676\n",
      "gains:  [6500 9750]\n",
      "gainpts Q0 [6500]\n",
      "gainpts Q1 [9750]\n",
      "Re-using provided angles, thresholds, ge_avgs, counts_calib\n",
      "thresholds=[262.5260383340367, 0, 526.6744392914735, 0],\n",
      "angles=[108.1592086482249, 0, 176.54828227288476, 0],\n",
      "ge_avgs=[[ 151.6012181  -168.17153472   21.49172157 -548.40348828]\n",
      " [   0.            0.            0.            0.        ]\n",
      " [-287.01199284  -78.83663281 -784.26581901  -98.15888216]\n",
      " [   0.            0.            0.            0.        ]],\n",
      "counts_calib=[[871, 63, 59, 7], [84, 834, 5, 77], [112, 6, 822, 60], [7, 110, 60, 823]]\n"
     ]
    },
    {
     "data": {
      "application/vnd.jupyter.widget-view+json": {
       "model_id": "0ff2d7bc6510480fbdfe8a2367f37a13",
       "version_major": 2,
       "version_minor": 0
      },
      "text/plain": [
       "  0%|          | 0/1 [00:00<?, ?it/s]"
      ]
     },
     "metadata": {},
     "output_type": "display_data"
    },
    {
     "data": {
      "application/vnd.jupyter.widget-view+json": {
       "model_id": "9b85e418514346dd9668f9d60715dcf8",
       "version_major": 2,
       "version_minor": 0
      },
      "text/plain": [
       "  0%|          | 0/1 [00:00<?, ?it/s]"
      ]
     },
     "metadata": {},
     "output_type": "display_data"
    },
    {
     "name": "stdout",
     "output_type": "stream",
     "text": [
      "103.84866857528687\n",
      "gains:  [6500 9750]\n",
      "gainpts Q0 [6500]\n",
      "gainpts Q1 [9750]\n",
      "Re-using provided angles, thresholds, ge_avgs, counts_calib\n",
      "thresholds=[262.5260383340367, 0, 526.6744392914735, 0],\n",
      "angles=[108.1592086482249, 0, 176.54828227288476, 0],\n",
      "ge_avgs=[[ 151.6012181  -168.17153472   21.49172157 -548.40348828]\n",
      " [   0.            0.            0.            0.        ]\n",
      " [-287.01199284  -78.83663281 -784.26581901  -98.15888216]\n",
      " [   0.            0.            0.            0.        ]],\n",
      "counts_calib=[[871, 63, 59, 7], [84, 834, 5, 77], [112, 6, 822, 60], [7, 110, 60, 823]]\n"
     ]
    },
    {
     "data": {
      "application/vnd.jupyter.widget-view+json": {
       "model_id": "428173be5e754be8802a2e508890cdc8",
       "version_major": 2,
       "version_minor": 0
      },
      "text/plain": [
       "  0%|          | 0/1 [00:00<?, ?it/s]"
      ]
     },
     "metadata": {},
     "output_type": "display_data"
    },
    {
     "data": {
      "application/vnd.jupyter.widget-view+json": {
       "model_id": "1ce7dba6c491410cb0edbbc092bd67db",
       "version_major": 2,
       "version_minor": 0
      },
      "text/plain": [
       "  0%|          | 0/1 [00:00<?, ?it/s]"
      ]
     },
     "metadata": {},
     "output_type": "display_data"
    },
    {
     "name": "stdout",
     "output_type": "stream",
     "text": [
      "109.42779231071472\n",
      "gains:  [6500 9750]\n",
      "gainpts Q0 [6500]\n",
      "gainpts Q1 [9750]\n",
      "Re-using provided angles, thresholds, ge_avgs, counts_calib\n",
      "thresholds=[262.5260383340367, 0, 526.6744392914735, 0],\n",
      "angles=[108.1592086482249, 0, 176.54828227288476, 0],\n",
      "ge_avgs=[[ 151.6012181  -168.17153472   21.49172157 -548.40348828]\n",
      " [   0.            0.            0.            0.        ]\n",
      " [-287.01199284  -78.83663281 -784.26581901  -98.15888216]\n",
      " [   0.            0.            0.            0.        ]],\n",
      "counts_calib=[[871, 63, 59, 7], [84, 834, 5, 77], [112, 6, 822, 60], [7, 110, 60, 823]]\n"
     ]
    },
    {
     "data": {
      "application/vnd.jupyter.widget-view+json": {
       "model_id": "7a635735dc6c402592c8278833ebc5a0",
       "version_major": 2,
       "version_minor": 0
      },
      "text/plain": [
       "  0%|          | 0/1 [00:00<?, ?it/s]"
      ]
     },
     "metadata": {},
     "output_type": "display_data"
    },
    {
     "data": {
      "application/vnd.jupyter.widget-view+json": {
       "model_id": "4ab8ed1df22048baa34cd09125042207",
       "version_major": 2,
       "version_minor": 0
      },
      "text/plain": [
       "  0%|          | 0/1 [00:00<?, ?it/s]"
      ]
     },
     "metadata": {},
     "output_type": "display_data"
    },
    {
     "name": "stdout",
     "output_type": "stream",
     "text": [
      "0.6031539440155029\n",
      "gains:  [6500 9750]\n",
      "gainpts Q0 [6500]\n",
      "gainpts Q1 [9750]\n"
     ]
    },
    {
     "data": {
      "application/vnd.jupyter.widget-view+json": {
       "model_id": "16b2dae1f14b4f77b50b6d88fd34c7cb",
       "version_major": 2,
       "version_minor": 0
      },
      "text/plain": [
       "  0%|          | 0/4 [00:00<?, ?it/s]"
      ]
     },
     "metadata": {},
     "output_type": "display_data"
    },
    {
     "name": "stdout",
     "output_type": "stream",
     "text": [
      "Qubit (0)\n",
      "ge fidelity (%): 78.18 \t angle (deg): 107.8730395697497 \t threshold ge: 286.5397788675913\n",
      "Qubit (2)\n",
      "ge fidelity (%): 85.88 \t angle (deg): 177.93264145833504 \t threshold ge: 535.7108534528892\n",
      "thresholds=[286.5397788675913, 0, 535.7108534528892, 0],\n",
      "angles=[107.8730395697497, 0, 177.93264145833504, 0],\n",
      "ge_avgs=[[144.52298480902778, -182.9435375, 24.319591319444445, -553.7549354166666], array([0., 0., 0., 0.]), [-283.201349609375, -76.31983203125, -792.5367259114583, -91.46732408854167], array([0., 0., 0., 0.])],\n",
      "counts_calib=[[4267, 274, 436, 23], [386, 4187, 32, 395], [594, 47, 4072, 287], [37, 634, 375, 3954]]\n"
     ]
    },
    {
     "data": {
      "application/vnd.jupyter.widget-view+json": {
       "model_id": "2bd39716521e461a92ca4ce208834f51",
       "version_major": 2,
       "version_minor": 0
      },
      "text/plain": [
       "  0%|          | 0/1 [00:00<?, ?it/s]"
      ]
     },
     "metadata": {},
     "output_type": "display_data"
    },
    {
     "data": {
      "application/vnd.jupyter.widget-view+json": {
       "model_id": "f63a8814ad5143acb71df47aaabf1aa2",
       "version_major": 2,
       "version_minor": 0
      },
      "text/plain": [
       "  0%|          | 0/1 [00:00<?, ?it/s]"
      ]
     },
     "metadata": {},
     "output_type": "display_data"
    },
    {
     "name": "stdout",
     "output_type": "stream",
     "text": [
      "33.10832357406616\n",
      "gains:  [6500 9750]\n",
      "gainpts Q0 [6500]\n",
      "gainpts Q1 [9750]\n",
      "Re-using provided angles, thresholds, ge_avgs, counts_calib\n",
      "thresholds=[286.5397788675913, 0, 535.7108534528892, 0],\n",
      "angles=[107.8730395697497, 0, 177.93264145833504, 0],\n",
      "ge_avgs=[[ 144.52298481 -182.9435375    24.31959132 -553.75493542]\n",
      " [   0.            0.            0.            0.        ]\n",
      " [-283.20134961  -76.31983203 -792.53672591  -91.46732409]\n",
      " [   0.            0.            0.            0.        ]],\n",
      "counts_calib=[[4267, 274, 436, 23], [386, 4187, 32, 395], [594, 47, 4072, 287], [37, 634, 375, 3954]]\n"
     ]
    },
    {
     "data": {
      "application/vnd.jupyter.widget-view+json": {
       "model_id": "c15aeff96a5b47538803d4d88075cba3",
       "version_major": 2,
       "version_minor": 0
      },
      "text/plain": [
       "  0%|          | 0/1 [00:00<?, ?it/s]"
      ]
     },
     "metadata": {},
     "output_type": "display_data"
    },
    {
     "data": {
      "application/vnd.jupyter.widget-view+json": {
       "model_id": "e29932bd89cf45d5bd1bd60f6ca55659",
       "version_major": 2,
       "version_minor": 0
      },
      "text/plain": [
       "  0%|          | 0/1 [00:00<?, ?it/s]"
      ]
     },
     "metadata": {},
     "output_type": "display_data"
    },
    {
     "name": "stdout",
     "output_type": "stream",
     "text": [
      "55.58064150810242\n",
      "gains:  [6500 9750]\n",
      "gainpts Q0 [6500]\n",
      "gainpts Q1 [9750]\n",
      "Re-using provided angles, thresholds, ge_avgs, counts_calib\n",
      "thresholds=[286.5397788675913, 0, 535.7108534528892, 0],\n",
      "angles=[107.8730395697497, 0, 177.93264145833504, 0],\n",
      "ge_avgs=[[ 144.52298481 -182.9435375    24.31959132 -553.75493542]\n",
      " [   0.            0.            0.            0.        ]\n",
      " [-283.20134961  -76.31983203 -792.53672591  -91.46732409]\n",
      " [   0.            0.            0.            0.        ]],\n",
      "counts_calib=[[4267, 274, 436, 23], [386, 4187, 32, 395], [594, 47, 4072, 287], [37, 634, 375, 3954]]\n"
     ]
    },
    {
     "data": {
      "application/vnd.jupyter.widget-view+json": {
       "model_id": "12b65abd2871489ea43564284fb4e6e5",
       "version_major": 2,
       "version_minor": 0
      },
      "text/plain": [
       "  0%|          | 0/1 [00:00<?, ?it/s]"
      ]
     },
     "metadata": {},
     "output_type": "display_data"
    },
    {
     "data": {
      "application/vnd.jupyter.widget-view+json": {
       "model_id": "bce8f43db04c40dd9aba9ccf4757275a",
       "version_major": 2,
       "version_minor": 0
      },
      "text/plain": [
       "  0%|          | 0/1 [00:00<?, ?it/s]"
      ]
     },
     "metadata": {},
     "output_type": "display_data"
    },
    {
     "name": "stdout",
     "output_type": "stream",
     "text": [
      "78.276442527771\n",
      "gains:  [6500 9750]\n",
      "gainpts Q0 [6500]\n",
      "gainpts Q1 [9750]\n",
      "Re-using provided angles, thresholds, ge_avgs, counts_calib\n",
      "thresholds=[286.5397788675913, 0, 535.7108534528892, 0],\n",
      "angles=[107.8730395697497, 0, 177.93264145833504, 0],\n",
      "ge_avgs=[[ 144.52298481 -182.9435375    24.31959132 -553.75493542]\n",
      " [   0.            0.            0.            0.        ]\n",
      " [-283.20134961  -76.31983203 -792.53672591  -91.46732409]\n",
      " [   0.            0.            0.            0.        ]],\n",
      "counts_calib=[[4267, 274, 436, 23], [386, 4187, 32, 395], [594, 47, 4072, 287], [37, 634, 375, 3954]]\n"
     ]
    },
    {
     "data": {
      "application/vnd.jupyter.widget-view+json": {
       "model_id": "954576b8fc0a4eab89a528ee939fa758",
       "version_major": 2,
       "version_minor": 0
      },
      "text/plain": [
       "  0%|          | 0/1 [00:00<?, ?it/s]"
      ]
     },
     "metadata": {},
     "output_type": "display_data"
    },
    {
     "data": {
      "application/vnd.jupyter.widget-view+json": {
       "model_id": "def22baeffc1454bbc5e314800744787",
       "version_major": 2,
       "version_minor": 0
      },
      "text/plain": [
       "  0%|          | 0/1 [00:00<?, ?it/s]"
      ]
     },
     "metadata": {},
     "output_type": "display_data"
    },
    {
     "name": "stdout",
     "output_type": "stream",
     "text": [
      "101.01275658607483\n",
      "gains:  [6500 9750]\n",
      "gainpts Q0 [6500]\n",
      "gainpts Q1 [9750]\n",
      "Re-using provided angles, thresholds, ge_avgs, counts_calib\n",
      "thresholds=[286.5397788675913, 0, 535.7108534528892, 0],\n",
      "angles=[107.8730395697497, 0, 177.93264145833504, 0],\n",
      "ge_avgs=[[ 144.52298481 -182.9435375    24.31959132 -553.75493542]\n",
      " [   0.            0.            0.            0.        ]\n",
      " [-283.20134961  -76.31983203 -792.53672591  -91.46732409]\n",
      " [   0.            0.            0.            0.        ]],\n",
      "counts_calib=[[4267, 274, 436, 23], [386, 4187, 32, 395], [594, 47, 4072, 287], [37, 634, 375, 3954]]\n"
     ]
    },
    {
     "data": {
      "application/vnd.jupyter.widget-view+json": {
       "model_id": "0c64453f6309412fa96e41d554456774",
       "version_major": 2,
       "version_minor": 0
      },
      "text/plain": [
       "  0%|          | 0/1 [00:00<?, ?it/s]"
      ]
     },
     "metadata": {},
     "output_type": "display_data"
    },
    {
     "data": {
      "application/vnd.jupyter.widget-view+json": {
       "model_id": "7ce1af797cb8480181de8f4815ff0773",
       "version_major": 2,
       "version_minor": 0
      },
      "text/plain": [
       "  0%|          | 0/1 [00:00<?, ?it/s]"
      ]
     },
     "metadata": {},
     "output_type": "display_data"
    },
    {
     "name": "stdout",
     "output_type": "stream",
     "text": [
      "123.86570620536804\n",
      "gains:  [6500 9750]\n",
      "gainpts Q0 [6500]\n",
      "gainpts Q1 [9750]\n",
      "Re-using provided angles, thresholds, ge_avgs, counts_calib\n",
      "thresholds=[286.5397788675913, 0, 535.7108534528892, 0],\n",
      "angles=[107.8730395697497, 0, 177.93264145833504, 0],\n",
      "ge_avgs=[[ 144.52298481 -182.9435375    24.31959132 -553.75493542]\n",
      " [   0.            0.            0.            0.        ]\n",
      " [-283.20134961  -76.31983203 -792.53672591  -91.46732409]\n",
      " [   0.            0.            0.            0.        ]],\n",
      "counts_calib=[[4267, 274, 436, 23], [386, 4187, 32, 395], [594, 47, 4072, 287], [37, 634, 375, 3954]]\n"
     ]
    },
    {
     "data": {
      "application/vnd.jupyter.widget-view+json": {
       "model_id": "65d929b7f47b434493c241f68e80b749",
       "version_major": 2,
       "version_minor": 0
      },
      "text/plain": [
       "  0%|          | 0/1 [00:00<?, ?it/s]"
      ]
     },
     "metadata": {},
     "output_type": "display_data"
    },
    {
     "data": {
      "application/vnd.jupyter.widget-view+json": {
       "model_id": "21901513e0704106a19b5ad65d97bec8",
       "version_major": 2,
       "version_minor": 0
      },
      "text/plain": [
       "  0%|          | 0/1 [00:00<?, ?it/s]"
      ]
     },
     "metadata": {},
     "output_type": "display_data"
    },
    {
     "name": "stdout",
     "output_type": "stream",
     "text": [
      "146.59558200836182\n",
      "gains:  [6500 9750]\n",
      "gainpts Q0 [6500]\n",
      "gainpts Q1 [9750]\n",
      "Re-using provided angles, thresholds, ge_avgs, counts_calib\n",
      "thresholds=[286.5397788675913, 0, 535.7108534528892, 0],\n",
      "angles=[107.8730395697497, 0, 177.93264145833504, 0],\n",
      "ge_avgs=[[ 144.52298481 -182.9435375    24.31959132 -553.75493542]\n",
      " [   0.            0.            0.            0.        ]\n",
      " [-283.20134961  -76.31983203 -792.53672591  -91.46732409]\n",
      " [   0.            0.            0.            0.        ]],\n",
      "counts_calib=[[4267, 274, 436, 23], [386, 4187, 32, 395], [594, 47, 4072, 287], [37, 634, 375, 3954]]\n"
     ]
    },
    {
     "data": {
      "application/vnd.jupyter.widget-view+json": {
       "model_id": "8cf5c8406bb9455388c7f0c6d0c64f8b",
       "version_major": 2,
       "version_minor": 0
      },
      "text/plain": [
       "  0%|          | 0/1 [00:00<?, ?it/s]"
      ]
     },
     "metadata": {},
     "output_type": "display_data"
    },
    {
     "data": {
      "application/vnd.jupyter.widget-view+json": {
       "model_id": "f48ae05e4f984b9babe90c63d30830bb",
       "version_major": 2,
       "version_minor": 0
      },
      "text/plain": [
       "  0%|          | 0/1 [00:00<?, ?it/s]"
      ]
     },
     "metadata": {},
     "output_type": "display_data"
    },
    {
     "name": "stdout",
     "output_type": "stream",
     "text": [
      "169.30637788772583\n",
      "gains:  [6500 9750]\n",
      "gainpts Q0 [6500]\n",
      "gainpts Q1 [9750]\n",
      "Re-using provided angles, thresholds, ge_avgs, counts_calib\n",
      "thresholds=[286.5397788675913, 0, 535.7108534528892, 0],\n",
      "angles=[107.8730395697497, 0, 177.93264145833504, 0],\n",
      "ge_avgs=[[ 144.52298481 -182.9435375    24.31959132 -553.75493542]\n",
      " [   0.            0.            0.            0.        ]\n",
      " [-283.20134961  -76.31983203 -792.53672591  -91.46732409]\n",
      " [   0.            0.            0.            0.        ]],\n",
      "counts_calib=[[4267, 274, 436, 23], [386, 4187, 32, 395], [594, 47, 4072, 287], [37, 634, 375, 3954]]\n"
     ]
    },
    {
     "data": {
      "application/vnd.jupyter.widget-view+json": {
       "model_id": "ef5bc81ff24d486bb258d2e617a325f6",
       "version_major": 2,
       "version_minor": 0
      },
      "text/plain": [
       "  0%|          | 0/1 [00:00<?, ?it/s]"
      ]
     },
     "metadata": {},
     "output_type": "display_data"
    },
    {
     "data": {
      "application/vnd.jupyter.widget-view+json": {
       "model_id": "b3654e3b83ae4798bf231c7847da4d22",
       "version_major": 2,
       "version_minor": 0
      },
      "text/plain": [
       "  0%|          | 0/1 [00:00<?, ?it/s]"
      ]
     },
     "metadata": {},
     "output_type": "display_data"
    },
    {
     "name": "stdout",
     "output_type": "stream",
     "text": [
      "191.94460201263428\n",
      "gains:  [6500 9750]\n",
      "gainpts Q0 [6500]\n",
      "gainpts Q1 [9750]\n",
      "Re-using provided angles, thresholds, ge_avgs, counts_calib\n",
      "thresholds=[286.5397788675913, 0, 535.7108534528892, 0],\n",
      "angles=[107.8730395697497, 0, 177.93264145833504, 0],\n",
      "ge_avgs=[[ 144.52298481 -182.9435375    24.31959132 -553.75493542]\n",
      " [   0.            0.            0.            0.        ]\n",
      " [-283.20134961  -76.31983203 -792.53672591  -91.46732409]\n",
      " [   0.            0.            0.            0.        ]],\n",
      "counts_calib=[[4267, 274, 436, 23], [386, 4187, 32, 395], [594, 47, 4072, 287], [37, 634, 375, 3954]]\n"
     ]
    },
    {
     "data": {
      "application/vnd.jupyter.widget-view+json": {
       "model_id": "febf26014af441f7b76a5115d363f76b",
       "version_major": 2,
       "version_minor": 0
      },
      "text/plain": [
       "  0%|          | 0/1 [00:00<?, ?it/s]"
      ]
     },
     "metadata": {},
     "output_type": "display_data"
    },
    {
     "data": {
      "application/vnd.jupyter.widget-view+json": {
       "model_id": "520fc04d181645599c718212873b0764",
       "version_major": 2,
       "version_minor": 0
      },
      "text/plain": [
       "  0%|          | 0/1 [00:00<?, ?it/s]"
      ]
     },
     "metadata": {},
     "output_type": "display_data"
    },
    {
     "name": "stdout",
     "output_type": "stream",
     "text": [
      "214.68285870552063\n",
      "gains:  [6500 9750]\n",
      "gainpts Q0 [6500]\n",
      "gainpts Q1 [9750]\n",
      "Re-using provided angles, thresholds, ge_avgs, counts_calib\n",
      "thresholds=[286.5397788675913, 0, 535.7108534528892, 0],\n",
      "angles=[107.8730395697497, 0, 177.93264145833504, 0],\n",
      "ge_avgs=[[ 144.52298481 -182.9435375    24.31959132 -553.75493542]\n",
      " [   0.            0.            0.            0.        ]\n",
      " [-283.20134961  -76.31983203 -792.53672591  -91.46732409]\n",
      " [   0.            0.            0.            0.        ]],\n",
      "counts_calib=[[4267, 274, 436, 23], [386, 4187, 32, 395], [594, 47, 4072, 287], [37, 634, 375, 3954]]\n"
     ]
    },
    {
     "data": {
      "application/vnd.jupyter.widget-view+json": {
       "model_id": "3b64373dc14c407aa62536e2ce46c5d8",
       "version_major": 2,
       "version_minor": 0
      },
      "text/plain": [
       "  0%|          | 0/1 [00:00<?, ?it/s]"
      ]
     },
     "metadata": {},
     "output_type": "display_data"
    },
    {
     "data": {
      "application/vnd.jupyter.widget-view+json": {
       "model_id": "17ba1766e8234cdbace04bc8b375492d",
       "version_major": 2,
       "version_minor": 0
      },
      "text/plain": [
       "  0%|          | 0/1 [00:00<?, ?it/s]"
      ]
     },
     "metadata": {},
     "output_type": "display_data"
    },
    {
     "name": "stdout",
     "output_type": "stream",
     "text": [
      "237.37552523612976\n",
      "gains:  [6500 9750]\n",
      "gainpts Q0 [6500]\n",
      "gainpts Q1 [9750]\n",
      "Re-using provided angles, thresholds, ge_avgs, counts_calib\n",
      "thresholds=[286.5397788675913, 0, 535.7108534528892, 0],\n",
      "angles=[107.8730395697497, 0, 177.93264145833504, 0],\n",
      "ge_avgs=[[ 144.52298481 -182.9435375    24.31959132 -553.75493542]\n",
      " [   0.            0.            0.            0.        ]\n",
      " [-283.20134961  -76.31983203 -792.53672591  -91.46732409]\n",
      " [   0.            0.            0.            0.        ]],\n",
      "counts_calib=[[4267, 274, 436, 23], [386, 4187, 32, 395], [594, 47, 4072, 287], [37, 634, 375, 3954]]\n"
     ]
    },
    {
     "data": {
      "application/vnd.jupyter.widget-view+json": {
       "model_id": "088c693eae9d4078ba9269a49da09e28",
       "version_major": 2,
       "version_minor": 0
      },
      "text/plain": [
       "  0%|          | 0/1 [00:00<?, ?it/s]"
      ]
     },
     "metadata": {},
     "output_type": "display_data"
    },
    {
     "data": {
      "application/vnd.jupyter.widget-view+json": {
       "model_id": "47f1199d955546ec9c14dfa489c0a08a",
       "version_major": 2,
       "version_minor": 0
      },
      "text/plain": [
       "  0%|          | 0/1 [00:00<?, ?it/s]"
      ]
     },
     "metadata": {},
     "output_type": "display_data"
    },
    {
     "name": "stdout",
     "output_type": "stream",
     "text": [
      "260.0640950202942\n",
      "gains:  [6500 9750]\n",
      "gainpts Q0 [6500]\n",
      "gainpts Q1 [9750]\n",
      "Re-using provided angles, thresholds, ge_avgs, counts_calib\n",
      "thresholds=[286.5397788675913, 0, 535.7108534528892, 0],\n",
      "angles=[107.8730395697497, 0, 177.93264145833504, 0],\n",
      "ge_avgs=[[ 144.52298481 -182.9435375    24.31959132 -553.75493542]\n",
      " [   0.            0.            0.            0.        ]\n",
      " [-283.20134961  -76.31983203 -792.53672591  -91.46732409]\n",
      " [   0.            0.            0.            0.        ]],\n",
      "counts_calib=[[4267, 274, 436, 23], [386, 4187, 32, 395], [594, 47, 4072, 287], [37, 634, 375, 3954]]\n"
     ]
    },
    {
     "data": {
      "application/vnd.jupyter.widget-view+json": {
       "model_id": "401b5c2731d54415a69e11efd437a74d",
       "version_major": 2,
       "version_minor": 0
      },
      "text/plain": [
       "  0%|          | 0/1 [00:00<?, ?it/s]"
      ]
     },
     "metadata": {},
     "output_type": "display_data"
    },
    {
     "data": {
      "application/vnd.jupyter.widget-view+json": {
       "model_id": "6081b15352ae4f26a2dac1f9ac279641",
       "version_major": 2,
       "version_minor": 0
      },
      "text/plain": [
       "  0%|          | 0/1 [00:00<?, ?it/s]"
      ]
     },
     "metadata": {},
     "output_type": "display_data"
    },
    {
     "name": "stdout",
     "output_type": "stream",
     "text": [
      "282.7678110599518\n",
      "gains:  [6500 9750]\n",
      "gainpts Q0 [6500]\n",
      "gainpts Q1 [9750]\n",
      "Re-using provided angles, thresholds, ge_avgs, counts_calib\n",
      "thresholds=[286.5397788675913, 0, 535.7108534528892, 0],\n",
      "angles=[107.8730395697497, 0, 177.93264145833504, 0],\n",
      "ge_avgs=[[ 144.52298481 -182.9435375    24.31959132 -553.75493542]\n",
      " [   0.            0.            0.            0.        ]\n",
      " [-283.20134961  -76.31983203 -792.53672591  -91.46732409]\n",
      " [   0.            0.            0.            0.        ]],\n",
      "counts_calib=[[4267, 274, 436, 23], [386, 4187, 32, 395], [594, 47, 4072, 287], [37, 634, 375, 3954]]\n"
     ]
    },
    {
     "data": {
      "application/vnd.jupyter.widget-view+json": {
       "model_id": "5ee585214630431ba74737eed9c17603",
       "version_major": 2,
       "version_minor": 0
      },
      "text/plain": [
       "  0%|          | 0/1 [00:00<?, ?it/s]"
      ]
     },
     "metadata": {},
     "output_type": "display_data"
    },
    {
     "data": {
      "application/vnd.jupyter.widget-view+json": {
       "model_id": "d977cd8d3d954c42bb503e40f2585f8c",
       "version_major": 2,
       "version_minor": 0
      },
      "text/plain": [
       "  0%|          | 0/1 [00:00<?, ?it/s]"
      ]
     },
     "metadata": {},
     "output_type": "display_data"
    },
    {
     "name": "stdout",
     "output_type": "stream",
     "text": [
      "305.5233497619629\n",
      "gains:  [6500 9750]\n",
      "gainpts Q0 [6500]\n",
      "gainpts Q1 [9750]\n",
      "Re-using provided angles, thresholds, ge_avgs, counts_calib\n",
      "thresholds=[286.5397788675913, 0, 535.7108534528892, 0],\n",
      "angles=[107.8730395697497, 0, 177.93264145833504, 0],\n",
      "ge_avgs=[[ 144.52298481 -182.9435375    24.31959132 -553.75493542]\n",
      " [   0.            0.            0.            0.        ]\n",
      " [-283.20134961  -76.31983203 -792.53672591  -91.46732409]\n",
      " [   0.            0.            0.            0.        ]],\n",
      "counts_calib=[[4267, 274, 436, 23], [386, 4187, 32, 395], [594, 47, 4072, 287], [37, 634, 375, 3954]]\n"
     ]
    },
    {
     "data": {
      "application/vnd.jupyter.widget-view+json": {
       "model_id": "c543e5d38a844799ad0e47fb7b196c50",
       "version_major": 2,
       "version_minor": 0
      },
      "text/plain": [
       "  0%|          | 0/1 [00:00<?, ?it/s]"
      ]
     },
     "metadata": {},
     "output_type": "display_data"
    },
    {
     "data": {
      "application/vnd.jupyter.widget-view+json": {
       "model_id": "dd733698728b4e1b9cf7c41765eddf48",
       "version_major": 2,
       "version_minor": 0
      },
      "text/plain": [
       "  0%|          | 0/1 [00:00<?, ?it/s]"
      ]
     },
     "metadata": {},
     "output_type": "display_data"
    },
    {
     "name": "stdout",
     "output_type": "stream",
     "text": [
      "328.23892402648926\n",
      "gains:  [6500 9750]\n",
      "gainpts Q0 [6500]\n",
      "gainpts Q1 [9750]\n",
      "Re-using provided angles, thresholds, ge_avgs, counts_calib\n",
      "thresholds=[286.5397788675913, 0, 535.7108534528892, 0],\n",
      "angles=[107.8730395697497, 0, 177.93264145833504, 0],\n",
      "ge_avgs=[[ 144.52298481 -182.9435375    24.31959132 -553.75493542]\n",
      " [   0.            0.            0.            0.        ]\n",
      " [-283.20134961  -76.31983203 -792.53672591  -91.46732409]\n",
      " [   0.            0.            0.            0.        ]],\n",
      "counts_calib=[[4267, 274, 436, 23], [386, 4187, 32, 395], [594, 47, 4072, 287], [37, 634, 375, 3954]]\n"
     ]
    },
    {
     "data": {
      "application/vnd.jupyter.widget-view+json": {
       "model_id": "8c568113aeb247eba222900265c79ccf",
       "version_major": 2,
       "version_minor": 0
      },
      "text/plain": [
       "  0%|          | 0/1 [00:00<?, ?it/s]"
      ]
     },
     "metadata": {},
     "output_type": "display_data"
    },
    {
     "data": {
      "application/vnd.jupyter.widget-view+json": {
       "model_id": "7f88422b318646ab9ca1f38e1d3a2563",
       "version_major": 2,
       "version_minor": 0
      },
      "text/plain": [
       "  0%|          | 0/1 [00:00<?, ?it/s]"
      ]
     },
     "metadata": {},
     "output_type": "display_data"
    },
    {
     "name": "stdout",
     "output_type": "stream",
     "text": [
      "350.9091281890869\n",
      "gains:  [6500 9750]\n",
      "gainpts Q0 [6500]\n",
      "gainpts Q1 [9750]\n",
      "Re-using provided angles, thresholds, ge_avgs, counts_calib\n",
      "thresholds=[286.5397788675913, 0, 535.7108534528892, 0],\n",
      "angles=[107.8730395697497, 0, 177.93264145833504, 0],\n",
      "ge_avgs=[[ 144.52298481 -182.9435375    24.31959132 -553.75493542]\n",
      " [   0.            0.            0.            0.        ]\n",
      " [-283.20134961  -76.31983203 -792.53672591  -91.46732409]\n",
      " [   0.            0.            0.            0.        ]],\n",
      "counts_calib=[[4267, 274, 436, 23], [386, 4187, 32, 395], [594, 47, 4072, 287], [37, 634, 375, 3954]]\n"
     ]
    },
    {
     "data": {
      "application/vnd.jupyter.widget-view+json": {
       "model_id": "2d92065026a94d1ead4403105509af03",
       "version_major": 2,
       "version_minor": 0
      },
      "text/plain": [
       "  0%|          | 0/1 [00:00<?, ?it/s]"
      ]
     },
     "metadata": {},
     "output_type": "display_data"
    },
    {
     "data": {
      "application/vnd.jupyter.widget-view+json": {
       "model_id": "039e7f1d910145d9a88efbee4c1ff72d",
       "version_major": 2,
       "version_minor": 0
      },
      "text/plain": [
       "  0%|          | 0/1 [00:00<?, ?it/s]"
      ]
     },
     "metadata": {},
     "output_type": "display_data"
    },
    {
     "name": "stdout",
     "output_type": "stream",
     "text": [
      "373.59869289398193\n",
      "gains:  [6500 9750]\n",
      "gainpts Q0 [6500]\n",
      "gainpts Q1 [9750]\n",
      "Re-using provided angles, thresholds, ge_avgs, counts_calib\n",
      "thresholds=[286.5397788675913, 0, 535.7108534528892, 0],\n",
      "angles=[107.8730395697497, 0, 177.93264145833504, 0],\n",
      "ge_avgs=[[ 144.52298481 -182.9435375    24.31959132 -553.75493542]\n",
      " [   0.            0.            0.            0.        ]\n",
      " [-283.20134961  -76.31983203 -792.53672591  -91.46732409]\n",
      " [   0.            0.            0.            0.        ]],\n",
      "counts_calib=[[4267, 274, 436, 23], [386, 4187, 32, 395], [594, 47, 4072, 287], [37, 634, 375, 3954]]\n"
     ]
    },
    {
     "data": {
      "application/vnd.jupyter.widget-view+json": {
       "model_id": "5e66ca9f14d74d86816b522461c17ec9",
       "version_major": 2,
       "version_minor": 0
      },
      "text/plain": [
       "  0%|          | 0/1 [00:00<?, ?it/s]"
      ]
     },
     "metadata": {},
     "output_type": "display_data"
    },
    {
     "data": {
      "application/vnd.jupyter.widget-view+json": {
       "model_id": "74bd0aeaf4ba4c7b9e91bd7be48d5848",
       "version_major": 2,
       "version_minor": 0
      },
      "text/plain": [
       "  0%|          | 0/1 [00:00<?, ?it/s]"
      ]
     },
     "metadata": {},
     "output_type": "display_data"
    },
    {
     "name": "stdout",
     "output_type": "stream",
     "text": [
      "396.0896713733673\n",
      "gains:  [6500 9750]\n",
      "gainpts Q0 [6500]\n",
      "gainpts Q1 [9750]\n",
      "Re-using provided angles, thresholds, ge_avgs, counts_calib\n",
      "thresholds=[286.5397788675913, 0, 535.7108534528892, 0],\n",
      "angles=[107.8730395697497, 0, 177.93264145833504, 0],\n",
      "ge_avgs=[[ 144.52298481 -182.9435375    24.31959132 -553.75493542]\n",
      " [   0.            0.            0.            0.        ]\n",
      " [-283.20134961  -76.31983203 -792.53672591  -91.46732409]\n",
      " [   0.            0.            0.            0.        ]],\n",
      "counts_calib=[[4267, 274, 436, 23], [386, 4187, 32, 395], [594, 47, 4072, 287], [37, 634, 375, 3954]]\n"
     ]
    },
    {
     "data": {
      "application/vnd.jupyter.widget-view+json": {
       "model_id": "57b3facac51c4b7f882c531965e8d14b",
       "version_major": 2,
       "version_minor": 0
      },
      "text/plain": [
       "  0%|          | 0/1 [00:00<?, ?it/s]"
      ]
     },
     "metadata": {},
     "output_type": "display_data"
    },
    {
     "data": {
      "application/vnd.jupyter.widget-view+json": {
       "model_id": "fdf3164291024f488bb39d75cd8466d4",
       "version_major": 2,
       "version_minor": 0
      },
      "text/plain": [
       "  0%|          | 0/1 [00:00<?, ?it/s]"
      ]
     },
     "metadata": {},
     "output_type": "display_data"
    },
    {
     "name": "stdout",
     "output_type": "stream",
     "text": [
      "418.8238468170166\n",
      "gains:  [6500 9750]\n",
      "gainpts Q0 [6500]\n",
      "gainpts Q1 [9750]\n",
      "Re-using provided angles, thresholds, ge_avgs, counts_calib\n",
      "thresholds=[286.5397788675913, 0, 535.7108534528892, 0],\n",
      "angles=[107.8730395697497, 0, 177.93264145833504, 0],\n",
      "ge_avgs=[[ 144.52298481 -182.9435375    24.31959132 -553.75493542]\n",
      " [   0.            0.            0.            0.        ]\n",
      " [-283.20134961  -76.31983203 -792.53672591  -91.46732409]\n",
      " [   0.            0.            0.            0.        ]],\n",
      "counts_calib=[[4267, 274, 436, 23], [386, 4187, 32, 395], [594, 47, 4072, 287], [37, 634, 375, 3954]]\n"
     ]
    },
    {
     "data": {
      "application/vnd.jupyter.widget-view+json": {
       "model_id": "d6955e0956594d028f64dbdd39e65a79",
       "version_major": 2,
       "version_minor": 0
      },
      "text/plain": [
       "  0%|          | 0/1 [00:00<?, ?it/s]"
      ]
     },
     "metadata": {},
     "output_type": "display_data"
    },
    {
     "data": {
      "application/vnd.jupyter.widget-view+json": {
       "model_id": "2216dfb8701640b6a63e581d3f0fa01c",
       "version_major": 2,
       "version_minor": 0
      },
      "text/plain": [
       "  0%|          | 0/1 [00:00<?, ?it/s]"
      ]
     },
     "metadata": {},
     "output_type": "display_data"
    },
    {
     "name": "stdout",
     "output_type": "stream",
     "text": [
      "441.3899931907654\n",
      "gains:  [6500 9750]\n",
      "gainpts Q0 [6500]\n",
      "gainpts Q1 [9750]\n",
      "Re-using provided angles, thresholds, ge_avgs, counts_calib\n",
      "thresholds=[286.5397788675913, 0, 535.7108534528892, 0],\n",
      "angles=[107.8730395697497, 0, 177.93264145833504, 0],\n",
      "ge_avgs=[[ 144.52298481 -182.9435375    24.31959132 -553.75493542]\n",
      " [   0.            0.            0.            0.        ]\n",
      " [-283.20134961  -76.31983203 -792.53672591  -91.46732409]\n",
      " [   0.            0.            0.            0.        ]],\n",
      "counts_calib=[[4267, 274, 436, 23], [386, 4187, 32, 395], [594, 47, 4072, 287], [37, 634, 375, 3954]]\n"
     ]
    },
    {
     "data": {
      "application/vnd.jupyter.widget-view+json": {
       "model_id": "b42f8d0609d04349ab51a9e3b2df2315",
       "version_major": 2,
       "version_minor": 0
      },
      "text/plain": [
       "  0%|          | 0/1 [00:00<?, ?it/s]"
      ]
     },
     "metadata": {},
     "output_type": "display_data"
    },
    {
     "data": {
      "application/vnd.jupyter.widget-view+json": {
       "model_id": "0ac08867c49f4df7ac1807aa55d450db",
       "version_major": 2,
       "version_minor": 0
      },
      "text/plain": [
       "  0%|          | 0/1 [00:00<?, ?it/s]"
      ]
     },
     "metadata": {},
     "output_type": "display_data"
    },
    {
     "name": "stdout",
     "output_type": "stream",
     "text": [
      "0.6192567348480225\n",
      "gains:  [6500 9750]\n",
      "gainpts Q0 [6500]\n",
      "gainpts Q1 [9750]\n"
     ]
    },
    {
     "data": {
      "application/vnd.jupyter.widget-view+json": {
       "model_id": "d43c6dbbc13d4e75a21d13fd9dee9a23",
       "version_major": 2,
       "version_minor": 0
      },
      "text/plain": [
       "  0%|          | 0/4 [00:00<?, ?it/s]"
      ]
     },
     "metadata": {},
     "output_type": "display_data"
    },
    {
     "name": "stdout",
     "output_type": "stream",
     "text": [
      "Qubit (0)\n",
      "ge fidelity (%): 76.74767476747675 \t angle (deg): 104.84496685962073 \t threshold ge: 287.8405863928386\n",
      "Qubit (2)\n",
      "ge fidelity (%): 85.5142757137857 \t angle (deg): -177.40860881778494 \t threshold ge: 538.9847183091038\n",
      "thresholds=[287.8405863928386, 0, 538.9847183091038, 0],\n",
      "angles=[104.84496685962073, 0, -177.40860881778494, 0],\n",
      "ge_avgs=[[160.86246751302085, -173.54737628038194, 60.45296961805556, -545.5607557291667], array([0., 0., 0., 0.]), [-293.6551388671875, -57.34626223958334, -789.8586638020832, -34.85032350260417], array([0., 0., 0., 0.])],\n",
      "counts_calib=[[8564, 525, 853, 58], [772, 8400, 97, 731], [1320, 104, 8065, 511], [127, 1299, 704, 7870]]\n"
     ]
    },
    {
     "data": {
      "application/vnd.jupyter.widget-view+json": {
       "model_id": "375bc0d1de1d47eca454e259d54f760a",
       "version_major": 2,
       "version_minor": 0
      },
      "text/plain": [
       "  0%|          | 0/1 [00:00<?, ?it/s]"
      ]
     },
     "metadata": {},
     "output_type": "display_data"
    },
    {
     "data": {
      "application/vnd.jupyter.widget-view+json": {
       "model_id": "0a5f26e0471b417b888b3f4d6ac16ea0",
       "version_major": 2,
       "version_minor": 0
      },
      "text/plain": [
       "  0%|          | 0/1 [00:00<?, ?it/s]"
      ]
     },
     "metadata": {},
     "output_type": "display_data"
    },
    {
     "name": "stdout",
     "output_type": "stream",
     "text": [
      "63.75641894340515\n",
      "gains:  [6500 9750]\n",
      "gainpts Q0 [6500]\n",
      "gainpts Q1 [9750]\n",
      "Re-using provided angles, thresholds, ge_avgs, counts_calib\n",
      "thresholds=[287.8405863928386, 0, 538.9847183091038, 0],\n",
      "angles=[104.84496685962073, 0, -177.40860881778494, 0],\n",
      "ge_avgs=[[ 160.86246751 -173.54737628   60.45296962 -545.56075573]\n",
      " [   0.            0.            0.            0.        ]\n",
      " [-293.65513887  -57.34626224 -789.8586638   -34.8503235 ]\n",
      " [   0.            0.            0.            0.        ]],\n",
      "counts_calib=[[8564, 525, 853, 58], [772, 8400, 97, 731], [1320, 104, 8065, 511], [127, 1299, 704, 7870]]\n"
     ]
    },
    {
     "data": {
      "application/vnd.jupyter.widget-view+json": {
       "model_id": "3722ea8e4cff48a7ab9a5994ad8823e0",
       "version_major": 2,
       "version_minor": 0
      },
      "text/plain": [
       "  0%|          | 0/1 [00:00<?, ?it/s]"
      ]
     },
     "metadata": {},
     "output_type": "display_data"
    },
    {
     "data": {
      "application/vnd.jupyter.widget-view+json": {
       "model_id": "9d3cdb130adf42e793607ca851e55973",
       "version_major": 2,
       "version_minor": 0
      },
      "text/plain": [
       "  0%|          | 0/1 [00:00<?, ?it/s]"
      ]
     },
     "metadata": {},
     "output_type": "display_data"
    },
    {
     "name": "stdout",
     "output_type": "stream",
     "text": [
      "107.65991306304932\n",
      "gains:  [6500 9750]\n",
      "gainpts Q0 [6500]\n",
      "gainpts Q1 [9750]\n",
      "Re-using provided angles, thresholds, ge_avgs, counts_calib\n",
      "thresholds=[287.8405863928386, 0, 538.9847183091038, 0],\n",
      "angles=[104.84496685962073, 0, -177.40860881778494, 0],\n",
      "ge_avgs=[[ 160.86246751 -173.54737628   60.45296962 -545.56075573]\n",
      " [   0.            0.            0.            0.        ]\n",
      " [-293.65513887  -57.34626224 -789.8586638   -34.8503235 ]\n",
      " [   0.            0.            0.            0.        ]],\n",
      "counts_calib=[[8564, 525, 853, 58], [772, 8400, 97, 731], [1320, 104, 8065, 511], [127, 1299, 704, 7870]]\n"
     ]
    },
    {
     "data": {
      "application/vnd.jupyter.widget-view+json": {
       "model_id": "9b243118baa4412184abf1de81f40459",
       "version_major": 2,
       "version_minor": 0
      },
      "text/plain": [
       "  0%|          | 0/1 [00:00<?, ?it/s]"
      ]
     },
     "metadata": {},
     "output_type": "display_data"
    },
    {
     "data": {
      "application/vnd.jupyter.widget-view+json": {
       "model_id": "8dccc109a65242d49a0f1359078e3536",
       "version_major": 2,
       "version_minor": 0
      },
      "text/plain": [
       "  0%|          | 0/1 [00:00<?, ?it/s]"
      ]
     },
     "metadata": {},
     "output_type": "display_data"
    },
    {
     "name": "stdout",
     "output_type": "stream",
     "text": [
      "151.3407711982727\n",
      "gains:  [6500 9750]\n",
      "gainpts Q0 [6500]\n",
      "gainpts Q1 [9750]\n",
      "Re-using provided angles, thresholds, ge_avgs, counts_calib\n",
      "thresholds=[287.8405863928386, 0, 538.9847183091038, 0],\n",
      "angles=[104.84496685962073, 0, -177.40860881778494, 0],\n",
      "ge_avgs=[[ 160.86246751 -173.54737628   60.45296962 -545.56075573]\n",
      " [   0.            0.            0.            0.        ]\n",
      " [-293.65513887  -57.34626224 -789.8586638   -34.8503235 ]\n",
      " [   0.            0.            0.            0.        ]],\n",
      "counts_calib=[[8564, 525, 853, 58], [772, 8400, 97, 731], [1320, 104, 8065, 511], [127, 1299, 704, 7870]]\n"
     ]
    },
    {
     "data": {
      "application/vnd.jupyter.widget-view+json": {
       "model_id": "5ca4711c52934cd49a9409c8894b2a75",
       "version_major": 2,
       "version_minor": 0
      },
      "text/plain": [
       "  0%|          | 0/1 [00:00<?, ?it/s]"
      ]
     },
     "metadata": {},
     "output_type": "display_data"
    },
    {
     "data": {
      "application/vnd.jupyter.widget-view+json": {
       "model_id": "45530cc8086f4f57a3b16d9f538c52d4",
       "version_major": 2,
       "version_minor": 0
      },
      "text/plain": [
       "  0%|          | 0/1 [00:00<?, ?it/s]"
      ]
     },
     "metadata": {},
     "output_type": "display_data"
    },
    {
     "name": "stdout",
     "output_type": "stream",
     "text": [
      "195.01722931861877\n",
      "gains:  [6500 9750]\n",
      "gainpts Q0 [6500]\n",
      "gainpts Q1 [9750]\n",
      "Re-using provided angles, thresholds, ge_avgs, counts_calib\n",
      "thresholds=[287.8405863928386, 0, 538.9847183091038, 0],\n",
      "angles=[104.84496685962073, 0, -177.40860881778494, 0],\n",
      "ge_avgs=[[ 160.86246751 -173.54737628   60.45296962 -545.56075573]\n",
      " [   0.            0.            0.            0.        ]\n",
      " [-293.65513887  -57.34626224 -789.8586638   -34.8503235 ]\n",
      " [   0.            0.            0.            0.        ]],\n",
      "counts_calib=[[8564, 525, 853, 58], [772, 8400, 97, 731], [1320, 104, 8065, 511], [127, 1299, 704, 7870]]\n"
     ]
    },
    {
     "data": {
      "application/vnd.jupyter.widget-view+json": {
       "model_id": "109278aa719c4003a8179bedf061a0e5",
       "version_major": 2,
       "version_minor": 0
      },
      "text/plain": [
       "  0%|          | 0/1 [00:00<?, ?it/s]"
      ]
     },
     "metadata": {},
     "output_type": "display_data"
    },
    {
     "data": {
      "application/vnd.jupyter.widget-view+json": {
       "model_id": "aa2ca47cde9e410db97bf2cf96a0414b",
       "version_major": 2,
       "version_minor": 0
      },
      "text/plain": [
       "  0%|          | 0/1 [00:00<?, ?it/s]"
      ]
     },
     "metadata": {},
     "output_type": "display_data"
    },
    {
     "name": "stdout",
     "output_type": "stream",
     "text": [
      "238.7047896385193\n",
      "gains:  [6500 9750]\n",
      "gainpts Q0 [6500]\n",
      "gainpts Q1 [9750]\n",
      "Re-using provided angles, thresholds, ge_avgs, counts_calib\n",
      "thresholds=[287.8405863928386, 0, 538.9847183091038, 0],\n",
      "angles=[104.84496685962073, 0, -177.40860881778494, 0],\n",
      "ge_avgs=[[ 160.86246751 -173.54737628   60.45296962 -545.56075573]\n",
      " [   0.            0.            0.            0.        ]\n",
      " [-293.65513887  -57.34626224 -789.8586638   -34.8503235 ]\n",
      " [   0.            0.            0.            0.        ]],\n",
      "counts_calib=[[8564, 525, 853, 58], [772, 8400, 97, 731], [1320, 104, 8065, 511], [127, 1299, 704, 7870]]\n"
     ]
    },
    {
     "data": {
      "application/vnd.jupyter.widget-view+json": {
       "model_id": "8f97611981984671be02939d4a44c9dc",
       "version_major": 2,
       "version_minor": 0
      },
      "text/plain": [
       "  0%|          | 0/1 [00:00<?, ?it/s]"
      ]
     },
     "metadata": {},
     "output_type": "display_data"
    },
    {
     "data": {
      "application/vnd.jupyter.widget-view+json": {
       "model_id": "c419477a8ac94f66b33393d32f8ccbb9",
       "version_major": 2,
       "version_minor": 0
      },
      "text/plain": [
       "  0%|          | 0/1 [00:00<?, ?it/s]"
      ]
     },
     "metadata": {},
     "output_type": "display_data"
    },
    {
     "name": "stdout",
     "output_type": "stream",
     "text": [
      "282.3787610530853\n",
      "gains:  [6500 9750]\n",
      "gainpts Q0 [6500]\n",
      "gainpts Q1 [9750]\n",
      "Re-using provided angles, thresholds, ge_avgs, counts_calib\n",
      "thresholds=[287.8405863928386, 0, 538.9847183091038, 0],\n",
      "angles=[104.84496685962073, 0, -177.40860881778494, 0],\n",
      "ge_avgs=[[ 160.86246751 -173.54737628   60.45296962 -545.56075573]\n",
      " [   0.            0.            0.            0.        ]\n",
      " [-293.65513887  -57.34626224 -789.8586638   -34.8503235 ]\n",
      " [   0.            0.            0.            0.        ]],\n",
      "counts_calib=[[8564, 525, 853, 58], [772, 8400, 97, 731], [1320, 104, 8065, 511], [127, 1299, 704, 7870]]\n"
     ]
    },
    {
     "data": {
      "application/vnd.jupyter.widget-view+json": {
       "model_id": "c0714baa62d04e77a350cb2260d935db",
       "version_major": 2,
       "version_minor": 0
      },
      "text/plain": [
       "  0%|          | 0/1 [00:00<?, ?it/s]"
      ]
     },
     "metadata": {},
     "output_type": "display_data"
    },
    {
     "data": {
      "application/vnd.jupyter.widget-view+json": {
       "model_id": "c8c655cb4bf44d258c628c1008770eb5",
       "version_major": 2,
       "version_minor": 0
      },
      "text/plain": [
       "  0%|          | 0/1 [00:00<?, ?it/s]"
      ]
     },
     "metadata": {},
     "output_type": "display_data"
    },
    {
     "name": "stdout",
     "output_type": "stream",
     "text": [
      "325.9785306453705\n",
      "gains:  [6500 9750]\n",
      "gainpts Q0 [6500]\n",
      "gainpts Q1 [9750]\n",
      "Re-using provided angles, thresholds, ge_avgs, counts_calib\n",
      "thresholds=[287.8405863928386, 0, 538.9847183091038, 0],\n",
      "angles=[104.84496685962073, 0, -177.40860881778494, 0],\n",
      "ge_avgs=[[ 160.86246751 -173.54737628   60.45296962 -545.56075573]\n",
      " [   0.            0.            0.            0.        ]\n",
      " [-293.65513887  -57.34626224 -789.8586638   -34.8503235 ]\n",
      " [   0.            0.            0.            0.        ]],\n",
      "counts_calib=[[8564, 525, 853, 58], [772, 8400, 97, 731], [1320, 104, 8065, 511], [127, 1299, 704, 7870]]\n"
     ]
    },
    {
     "data": {
      "application/vnd.jupyter.widget-view+json": {
       "model_id": "04ca33fb4c9a41a59a4a89cbe125fcf0",
       "version_major": 2,
       "version_minor": 0
      },
      "text/plain": [
       "  0%|          | 0/1 [00:00<?, ?it/s]"
      ]
     },
     "metadata": {},
     "output_type": "display_data"
    },
    {
     "data": {
      "application/vnd.jupyter.widget-view+json": {
       "model_id": "15687d7d2f0b4557b342ca1797e35abf",
       "version_major": 2,
       "version_minor": 0
      },
      "text/plain": [
       "  0%|          | 0/1 [00:00<?, ?it/s]"
      ]
     },
     "metadata": {},
     "output_type": "display_data"
    },
    {
     "name": "stdout",
     "output_type": "stream",
     "text": [
      "369.7324194908142\n",
      "gains:  [6500 9750]\n",
      "gainpts Q0 [6500]\n",
      "gainpts Q1 [9750]\n",
      "Re-using provided angles, thresholds, ge_avgs, counts_calib\n",
      "thresholds=[287.8405863928386, 0, 538.9847183091038, 0],\n",
      "angles=[104.84496685962073, 0, -177.40860881778494, 0],\n",
      "ge_avgs=[[ 160.86246751 -173.54737628   60.45296962 -545.56075573]\n",
      " [   0.            0.            0.            0.        ]\n",
      " [-293.65513887  -57.34626224 -789.8586638   -34.8503235 ]\n",
      " [   0.            0.            0.            0.        ]],\n",
      "counts_calib=[[8564, 525, 853, 58], [772, 8400, 97, 731], [1320, 104, 8065, 511], [127, 1299, 704, 7870]]\n"
     ]
    },
    {
     "data": {
      "application/vnd.jupyter.widget-view+json": {
       "model_id": "832163d3d15a4249997c9e773cfb8ebc",
       "version_major": 2,
       "version_minor": 0
      },
      "text/plain": [
       "  0%|          | 0/1 [00:00<?, ?it/s]"
      ]
     },
     "metadata": {},
     "output_type": "display_data"
    },
    {
     "data": {
      "application/vnd.jupyter.widget-view+json": {
       "model_id": "329460471cbf47d8ad4456979cc7fbfb",
       "version_major": 2,
       "version_minor": 0
      },
      "text/plain": [
       "  0%|          | 0/1 [00:00<?, ?it/s]"
      ]
     },
     "metadata": {},
     "output_type": "display_data"
    },
    {
     "name": "stdout",
     "output_type": "stream",
     "text": [
      "413.41130471229553\n",
      "gains:  [6500 9750]\n",
      "gainpts Q0 [6500]\n",
      "gainpts Q1 [9750]\n",
      "Re-using provided angles, thresholds, ge_avgs, counts_calib\n",
      "thresholds=[287.8405863928386, 0, 538.9847183091038, 0],\n",
      "angles=[104.84496685962073, 0, -177.40860881778494, 0],\n",
      "ge_avgs=[[ 160.86246751 -173.54737628   60.45296962 -545.56075573]\n",
      " [   0.            0.            0.            0.        ]\n",
      " [-293.65513887  -57.34626224 -789.8586638   -34.8503235 ]\n",
      " [   0.            0.            0.            0.        ]],\n",
      "counts_calib=[[8564, 525, 853, 58], [772, 8400, 97, 731], [1320, 104, 8065, 511], [127, 1299, 704, 7870]]\n"
     ]
    },
    {
     "data": {
      "application/vnd.jupyter.widget-view+json": {
       "model_id": "a61823b30e2e4bbbab850c3dd1bdf5b3",
       "version_major": 2,
       "version_minor": 0
      },
      "text/plain": [
       "  0%|          | 0/1 [00:00<?, ?it/s]"
      ]
     },
     "metadata": {},
     "output_type": "display_data"
    },
    {
     "data": {
      "application/vnd.jupyter.widget-view+json": {
       "model_id": "975dc3daddb4480c99d6d3eb9ce3c780",
       "version_major": 2,
       "version_minor": 0
      },
      "text/plain": [
       "  0%|          | 0/1 [00:00<?, ?it/s]"
      ]
     },
     "metadata": {},
     "output_type": "display_data"
    },
    {
     "name": "stdout",
     "output_type": "stream",
     "text": [
      "457.0711920261383\n",
      "gains:  [6500 9750]\n",
      "gainpts Q0 [6500]\n",
      "gainpts Q1 [9750]\n",
      "Re-using provided angles, thresholds, ge_avgs, counts_calib\n",
      "thresholds=[287.8405863928386, 0, 538.9847183091038, 0],\n",
      "angles=[104.84496685962073, 0, -177.40860881778494, 0],\n",
      "ge_avgs=[[ 160.86246751 -173.54737628   60.45296962 -545.56075573]\n",
      " [   0.            0.            0.            0.        ]\n",
      " [-293.65513887  -57.34626224 -789.8586638   -34.8503235 ]\n",
      " [   0.            0.            0.            0.        ]],\n",
      "counts_calib=[[8564, 525, 853, 58], [772, 8400, 97, 731], [1320, 104, 8065, 511], [127, 1299, 704, 7870]]\n"
     ]
    },
    {
     "data": {
      "application/vnd.jupyter.widget-view+json": {
       "model_id": "b594cc624aca47b9baa84fe92d2aa9f2",
       "version_major": 2,
       "version_minor": 0
      },
      "text/plain": [
       "  0%|          | 0/1 [00:00<?, ?it/s]"
      ]
     },
     "metadata": {},
     "output_type": "display_data"
    },
    {
     "data": {
      "application/vnd.jupyter.widget-view+json": {
       "model_id": "0d556535b0eb4d13b3aaec16f0929bc2",
       "version_major": 2,
       "version_minor": 0
      },
      "text/plain": [
       "  0%|          | 0/1 [00:00<?, ?it/s]"
      ]
     },
     "metadata": {},
     "output_type": "display_data"
    },
    {
     "name": "stdout",
     "output_type": "stream",
     "text": [
      "500.7980098724365\n",
      "gains:  [6500 9750]\n",
      "gainpts Q0 [6500]\n",
      "gainpts Q1 [9750]\n",
      "Re-using provided angles, thresholds, ge_avgs, counts_calib\n",
      "thresholds=[287.8405863928386, 0, 538.9847183091038, 0],\n",
      "angles=[104.84496685962073, 0, -177.40860881778494, 0],\n",
      "ge_avgs=[[ 160.86246751 -173.54737628   60.45296962 -545.56075573]\n",
      " [   0.            0.            0.            0.        ]\n",
      " [-293.65513887  -57.34626224 -789.8586638   -34.8503235 ]\n",
      " [   0.            0.            0.            0.        ]],\n",
      "counts_calib=[[8564, 525, 853, 58], [772, 8400, 97, 731], [1320, 104, 8065, 511], [127, 1299, 704, 7870]]\n"
     ]
    },
    {
     "data": {
      "application/vnd.jupyter.widget-view+json": {
       "model_id": "b355a3373cc64dccac1839e3669933c6",
       "version_major": 2,
       "version_minor": 0
      },
      "text/plain": [
       "  0%|          | 0/1 [00:00<?, ?it/s]"
      ]
     },
     "metadata": {},
     "output_type": "display_data"
    },
    {
     "data": {
      "application/vnd.jupyter.widget-view+json": {
       "model_id": "d8ed892952f9430381a2ee2c870078f3",
       "version_major": 2,
       "version_minor": 0
      },
      "text/plain": [
       "  0%|          | 0/1 [00:00<?, ?it/s]"
      ]
     },
     "metadata": {},
     "output_type": "display_data"
    },
    {
     "name": "stdout",
     "output_type": "stream",
     "text": [
      "544.4751110076904\n",
      "gains:  [6500 9750]\n",
      "gainpts Q0 [6500]\n",
      "gainpts Q1 [9750]\n",
      "Re-using provided angles, thresholds, ge_avgs, counts_calib\n",
      "thresholds=[287.8405863928386, 0, 538.9847183091038, 0],\n",
      "angles=[104.84496685962073, 0, -177.40860881778494, 0],\n",
      "ge_avgs=[[ 160.86246751 -173.54737628   60.45296962 -545.56075573]\n",
      " [   0.            0.            0.            0.        ]\n",
      " [-293.65513887  -57.34626224 -789.8586638   -34.8503235 ]\n",
      " [   0.            0.            0.            0.        ]],\n",
      "counts_calib=[[8564, 525, 853, 58], [772, 8400, 97, 731], [1320, 104, 8065, 511], [127, 1299, 704, 7870]]\n"
     ]
    },
    {
     "data": {
      "application/vnd.jupyter.widget-view+json": {
       "model_id": "6d128c02cf0845599c4f5e844883b327",
       "version_major": 2,
       "version_minor": 0
      },
      "text/plain": [
       "  0%|          | 0/1 [00:00<?, ?it/s]"
      ]
     },
     "metadata": {},
     "output_type": "display_data"
    },
    {
     "data": {
      "application/vnd.jupyter.widget-view+json": {
       "model_id": "6bbda9d9bcbd458a81ba30d885c0a82d",
       "version_major": 2,
       "version_minor": 0
      },
      "text/plain": [
       "  0%|          | 0/1 [00:00<?, ?it/s]"
      ]
     },
     "metadata": {},
     "output_type": "display_data"
    },
    {
     "name": "stdout",
     "output_type": "stream",
     "text": [
      "588.1452674865723\n",
      "gains:  [6500 9750]\n",
      "gainpts Q0 [6500]\n",
      "gainpts Q1 [9750]\n",
      "Re-using provided angles, thresholds, ge_avgs, counts_calib\n",
      "thresholds=[287.8405863928386, 0, 538.9847183091038, 0],\n",
      "angles=[104.84496685962073, 0, -177.40860881778494, 0],\n",
      "ge_avgs=[[ 160.86246751 -173.54737628   60.45296962 -545.56075573]\n",
      " [   0.            0.            0.            0.        ]\n",
      " [-293.65513887  -57.34626224 -789.8586638   -34.8503235 ]\n",
      " [   0.            0.            0.            0.        ]],\n",
      "counts_calib=[[8564, 525, 853, 58], [772, 8400, 97, 731], [1320, 104, 8065, 511], [127, 1299, 704, 7870]]\n"
     ]
    },
    {
     "data": {
      "application/vnd.jupyter.widget-view+json": {
       "model_id": "30eafeda6c954ecfae77ca769e11d582",
       "version_major": 2,
       "version_minor": 0
      },
      "text/plain": [
       "  0%|          | 0/1 [00:00<?, ?it/s]"
      ]
     },
     "metadata": {},
     "output_type": "display_data"
    },
    {
     "data": {
      "application/vnd.jupyter.widget-view+json": {
       "model_id": "a0ebd1be93334178b150d9affe7f3e76",
       "version_major": 2,
       "version_minor": 0
      },
      "text/plain": [
       "  0%|          | 0/1 [00:00<?, ?it/s]"
      ]
     },
     "metadata": {},
     "output_type": "display_data"
    },
    {
     "name": "stdout",
     "output_type": "stream",
     "text": [
      "631.7982552051544\n",
      "gains:  [6500 9750]\n",
      "gainpts Q0 [6500]\n",
      "gainpts Q1 [9750]\n"
     ]
    },
    {
     "data": {
      "application/vnd.jupyter.widget-view+json": {
       "model_id": "629a0eb6e8b643e796e111a96bc4c09a",
       "version_major": 2,
       "version_minor": 0
      },
      "text/plain": [
       "  0%|          | 0/4 [00:00<?, ?it/s]"
      ]
     },
     "metadata": {},
     "output_type": "display_data"
    },
    {
     "name": "stdout",
     "output_type": "stream",
     "text": [
      "Qubit (0)\n",
      "ge fidelity (%): 75.17 \t angle (deg): 99.3191571268733 \t threshold ge: 286.40736266680847\n",
      "Qubit (2)\n",
      "ge fidelity (%): 85.07425371268563 \t angle (deg): -171.86531411093483 \t threshold ge: 532.9754125828335\n",
      "thresholds=[286.40736266680847, 0, 532.9754125828335, 0],\n",
      "angles=[99.3191571268733, 0, -171.86531411093483, 0],\n",
      "ge_avgs=[[171.07056838107638, -158.86880965711805, 110.20748014322918, -526.8600867621528], array([0., 0., 0., 0.]), [-294.4304810546875, -33.39023294270833, -788.4638260416667, 37.30662630208333], array([0., 0., 0., 0.])],\n",
      "counts_calib=[[8484, 576, 890, 50], [778, 8298, 89, 835], [1440, 120, 7945, 495], [143, 1414, 698, 7745]]\n"
     ]
    },
    {
     "data": {
      "application/vnd.jupyter.widget-view+json": {
       "model_id": "0cd3bed8875c459e8e3099bb8f6e6300",
       "version_major": 2,
       "version_minor": 0
      },
      "text/plain": [
       "  0%|          | 0/1 [00:00<?, ?it/s]"
      ]
     },
     "metadata": {},
     "output_type": "display_data"
    },
    {
     "data": {
      "application/vnd.jupyter.widget-view+json": {
       "model_id": "6f317273ecb9466bad051a6ce5dd0877",
       "version_major": 2,
       "version_minor": 0
      },
      "text/plain": [
       "  0%|          | 0/1 [00:00<?, ?it/s]"
      ]
     },
     "metadata": {},
     "output_type": "display_data"
    },
    {
     "name": "stdout",
     "output_type": "stream",
     "text": [
      "63.05693864822388\n",
      "gains:  [6500 9750]\n",
      "gainpts Q0 [6500]\n",
      "gainpts Q1 [9750]\n",
      "Re-using provided angles, thresholds, ge_avgs, counts_calib\n",
      "thresholds=[286.40736266680847, 0, 532.9754125828335, 0],\n",
      "angles=[99.3191571268733, 0, -171.86531411093483, 0],\n",
      "ge_avgs=[[ 171.07056838 -158.86880966  110.20748014 -526.86008676]\n",
      " [   0.            0.            0.            0.        ]\n",
      " [-294.43048105  -33.39023294 -788.46382604   37.3066263 ]\n",
      " [   0.            0.            0.            0.        ]],\n",
      "counts_calib=[[8484, 576, 890, 50], [778, 8298, 89, 835], [1440, 120, 7945, 495], [143, 1414, 698, 7745]]\n"
     ]
    },
    {
     "data": {
      "application/vnd.jupyter.widget-view+json": {
       "model_id": "4108bed674ff48d885d87b4892fd6ce4",
       "version_major": 2,
       "version_minor": 0
      },
      "text/plain": [
       "  0%|          | 0/1 [00:00<?, ?it/s]"
      ]
     },
     "metadata": {},
     "output_type": "display_data"
    },
    {
     "data": {
      "application/vnd.jupyter.widget-view+json": {
       "model_id": "fe2f2fe8eb864116ba3a2e8f3acf2dab",
       "version_major": 2,
       "version_minor": 0
      },
      "text/plain": [
       "  0%|          | 0/1 [00:00<?, ?it/s]"
      ]
     },
     "metadata": {},
     "output_type": "display_data"
    },
    {
     "name": "stdout",
     "output_type": "stream",
     "text": [
      "110.35529160499573\n",
      "gains:  [6500 9750]\n",
      "gainpts Q0 [6500]\n",
      "gainpts Q1 [9750]\n",
      "Re-using provided angles, thresholds, ge_avgs, counts_calib\n",
      "thresholds=[286.40736266680847, 0, 532.9754125828335, 0],\n",
      "angles=[99.3191571268733, 0, -171.86531411093483, 0],\n",
      "ge_avgs=[[ 171.07056838 -158.86880966  110.20748014 -526.86008676]\n",
      " [   0.            0.            0.            0.        ]\n",
      " [-294.43048105  -33.39023294 -788.46382604   37.3066263 ]\n",
      " [   0.            0.            0.            0.        ]],\n",
      "counts_calib=[[8484, 576, 890, 50], [778, 8298, 89, 835], [1440, 120, 7945, 495], [143, 1414, 698, 7745]]\n"
     ]
    },
    {
     "data": {
      "application/vnd.jupyter.widget-view+json": {
       "model_id": "a75ca4e65a694871af046b515f20b779",
       "version_major": 2,
       "version_minor": 0
      },
      "text/plain": [
       "  0%|          | 0/1 [00:00<?, ?it/s]"
      ]
     },
     "metadata": {},
     "output_type": "display_data"
    },
    {
     "data": {
      "application/vnd.jupyter.widget-view+json": {
       "model_id": "a2e69ab58d7b42ce8348c33854be36d1",
       "version_major": 2,
       "version_minor": 0
      },
      "text/plain": [
       "  0%|          | 0/1 [00:00<?, ?it/s]"
      ]
     },
     "metadata": {},
     "output_type": "display_data"
    },
    {
     "name": "stdout",
     "output_type": "stream",
     "text": [
      "154.05418968200684\n",
      "gains:  [6500 9750]\n",
      "gainpts Q0 [6500]\n",
      "gainpts Q1 [9750]\n",
      "Re-using provided angles, thresholds, ge_avgs, counts_calib\n",
      "thresholds=[286.40736266680847, 0, 532.9754125828335, 0],\n",
      "angles=[99.3191571268733, 0, -171.86531411093483, 0],\n",
      "ge_avgs=[[ 171.07056838 -158.86880966  110.20748014 -526.86008676]\n",
      " [   0.            0.            0.            0.        ]\n",
      " [-294.43048105  -33.39023294 -788.46382604   37.3066263 ]\n",
      " [   0.            0.            0.            0.        ]],\n",
      "counts_calib=[[8484, 576, 890, 50], [778, 8298, 89, 835], [1440, 120, 7945, 495], [143, 1414, 698, 7745]]\n"
     ]
    },
    {
     "data": {
      "application/vnd.jupyter.widget-view+json": {
       "model_id": "47b51f9ce797483c9aa84152b9e27d0f",
       "version_major": 2,
       "version_minor": 0
      },
      "text/plain": [
       "  0%|          | 0/1 [00:00<?, ?it/s]"
      ]
     },
     "metadata": {},
     "output_type": "display_data"
    },
    {
     "data": {
      "application/vnd.jupyter.widget-view+json": {
       "model_id": "f897dc9c334543048d738d0ade9677b8",
       "version_major": 2,
       "version_minor": 0
      },
      "text/plain": [
       "  0%|          | 0/1 [00:00<?, ?it/s]"
      ]
     },
     "metadata": {},
     "output_type": "display_data"
    },
    {
     "name": "stdout",
     "output_type": "stream",
     "text": [
      "197.75558876991272\n",
      "gains:  [6500 9750]\n",
      "gainpts Q0 [6500]\n",
      "gainpts Q1 [9750]\n",
      "Re-using provided angles, thresholds, ge_avgs, counts_calib\n",
      "thresholds=[286.40736266680847, 0, 532.9754125828335, 0],\n",
      "angles=[99.3191571268733, 0, -171.86531411093483, 0],\n",
      "ge_avgs=[[ 171.07056838 -158.86880966  110.20748014 -526.86008676]\n",
      " [   0.            0.            0.            0.        ]\n",
      " [-294.43048105  -33.39023294 -788.46382604   37.3066263 ]\n",
      " [   0.            0.            0.            0.        ]],\n",
      "counts_calib=[[8484, 576, 890, 50], [778, 8298, 89, 835], [1440, 120, 7945, 495], [143, 1414, 698, 7745]]\n"
     ]
    },
    {
     "data": {
      "application/vnd.jupyter.widget-view+json": {
       "model_id": "2213cb481e3f4426b4958afe5bd22103",
       "version_major": 2,
       "version_minor": 0
      },
      "text/plain": [
       "  0%|          | 0/1 [00:00<?, ?it/s]"
      ]
     },
     "metadata": {},
     "output_type": "display_data"
    },
    {
     "data": {
      "application/vnd.jupyter.widget-view+json": {
       "model_id": "ad124cdf066c45aeab6942b99c2862c9",
       "version_major": 2,
       "version_minor": 0
      },
      "text/plain": [
       "  0%|          | 0/1 [00:00<?, ?it/s]"
      ]
     },
     "metadata": {},
     "output_type": "display_data"
    },
    {
     "name": "stdout",
     "output_type": "stream",
     "text": [
      "241.43644523620605\n",
      "gains:  [6500 9750]\n",
      "gainpts Q0 [6500]\n",
      "gainpts Q1 [9750]\n",
      "Re-using provided angles, thresholds, ge_avgs, counts_calib\n",
      "thresholds=[286.40736266680847, 0, 532.9754125828335, 0],\n",
      "angles=[99.3191571268733, 0, -171.86531411093483, 0],\n",
      "ge_avgs=[[ 171.07056838 -158.86880966  110.20748014 -526.86008676]\n",
      " [   0.            0.            0.            0.        ]\n",
      " [-294.43048105  -33.39023294 -788.46382604   37.3066263 ]\n",
      " [   0.            0.            0.            0.        ]],\n",
      "counts_calib=[[8484, 576, 890, 50], [778, 8298, 89, 835], [1440, 120, 7945, 495], [143, 1414, 698, 7745]]\n"
     ]
    },
    {
     "data": {
      "application/vnd.jupyter.widget-view+json": {
       "model_id": "52a1fae0ca7c482db25dd980f83f0ae2",
       "version_major": 2,
       "version_minor": 0
      },
      "text/plain": [
       "  0%|          | 0/1 [00:00<?, ?it/s]"
      ]
     },
     "metadata": {},
     "output_type": "display_data"
    },
    {
     "data": {
      "application/vnd.jupyter.widget-view+json": {
       "model_id": "09e4862d92404607920f277e5aa699b5",
       "version_major": 2,
       "version_minor": 0
      },
      "text/plain": [
       "  0%|          | 0/1 [00:00<?, ?it/s]"
      ]
     },
     "metadata": {},
     "output_type": "display_data"
    },
    {
     "name": "stdout",
     "output_type": "stream",
     "text": [
      "0.6017866134643555\n",
      "gains:  [6500 9750]\n",
      "gainpts Q0 [6500]\n",
      "gainpts Q1 [9750]\n"
     ]
    },
    {
     "data": {
      "application/vnd.jupyter.widget-view+json": {
       "model_id": "371f2937f12e4614bd639a36be2fe213",
       "version_major": 2,
       "version_minor": 0
      },
      "text/plain": [
       "  0%|          | 0/4 [00:00<?, ?it/s]"
      ]
     },
     "metadata": {},
     "output_type": "display_data"
    },
    {
     "name": "stdout",
     "output_type": "stream",
     "text": [
      "Qubit (0)\n",
      "ge fidelity (%): 77.42999999999999 \t angle (deg): 97.0038614545386 \t threshold ge: 298.2917536658919\n",
      "Qubit (2)\n",
      "ge fidelity (%): 85.22 \t angle (deg): -169.14608005647747 \t threshold ge: 531.7182889924542\n",
      "thresholds=[298.2917536658919, 0, 531.7182889924542, 0],\n",
      "angles=[97.0038614545386, 0, -169.14608005647747, 0],\n",
      "ge_avgs=[[182.00758032769096, -147.56824244791667, 133.25386369357636, -530.4039285807291], array([0., 0., 0., 0.]), [-296.29601380208334, -20.870057682291666, -787.3990986979167, 72.53394222005207], array([0., 0., 0., 0.])],\n",
      "counts_calib=[[17309, 1141, 1437, 113], [1587, 17010, 130, 1273], [2767, 200, 15943, 1090], [254, 2978, 1439, 15329]]\n"
     ]
    },
    {
     "data": {
      "application/vnd.jupyter.widget-view+json": {
       "model_id": "bbff68b89cdb46c9ad7a6388f7074118",
       "version_major": 2,
       "version_minor": 0
      },
      "text/plain": [
       "  0%|          | 0/1 [00:00<?, ?it/s]"
      ]
     },
     "metadata": {},
     "output_type": "display_data"
    },
    {
     "data": {
      "application/vnd.jupyter.widget-view+json": {
       "model_id": "365209f3d287466785d836c920849257",
       "version_major": 2,
       "version_minor": 0
      },
      "text/plain": [
       "  0%|          | 0/1 [00:00<?, ?it/s]"
      ]
     },
     "metadata": {},
     "output_type": "display_data"
    },
    {
     "name": "stdout",
     "output_type": "stream",
     "text": [
      "124.85494136810303\n",
      "gains:  [6500 9750]\n",
      "gainpts Q0 [6500]\n",
      "gainpts Q1 [9750]\n",
      "Re-using provided angles, thresholds, ge_avgs, counts_calib\n",
      "thresholds=[298.2917536658919, 0, 531.7182889924542, 0],\n",
      "angles=[97.0038614545386, 0, -169.14608005647747, 0],\n",
      "ge_avgs=[[ 182.00758033 -147.56824245  133.25386369 -530.40392858]\n",
      " [   0.            0.            0.            0.        ]\n",
      " [-296.2960138   -20.87005768 -787.3990987    72.53394222]\n",
      " [   0.            0.            0.            0.        ]],\n",
      "counts_calib=[[17309, 1141, 1437, 113], [1587, 17010, 130, 1273], [2767, 200, 15943, 1090], [254, 2978, 1439, 15329]]\n"
     ]
    },
    {
     "data": {
      "application/vnd.jupyter.widget-view+json": {
       "model_id": "e7184dbd0cf2462fbe18ae6438b3ed3d",
       "version_major": 2,
       "version_minor": 0
      },
      "text/plain": [
       "  0%|          | 0/1 [00:00<?, ?it/s]"
      ]
     },
     "metadata": {},
     "output_type": "display_data"
    },
    {
     "data": {
      "application/vnd.jupyter.widget-view+json": {
       "model_id": "756422dfa8c3484192e8e57c0b243e21",
       "version_major": 2,
       "version_minor": 0
      },
      "text/plain": [
       "  0%|          | 0/1 [00:00<?, ?it/s]"
      ]
     },
     "metadata": {},
     "output_type": "display_data"
    },
    {
     "name": "stdout",
     "output_type": "stream",
     "text": [
      "210.92080664634705\n",
      "gains:  [6500 9750]\n",
      "gainpts Q0 [6500]\n",
      "gainpts Q1 [9750]\n",
      "Re-using provided angles, thresholds, ge_avgs, counts_calib\n",
      "thresholds=[298.2917536658919, 0, 531.7182889924542, 0],\n",
      "angles=[97.0038614545386, 0, -169.14608005647747, 0],\n",
      "ge_avgs=[[ 182.00758033 -147.56824245  133.25386369 -530.40392858]\n",
      " [   0.            0.            0.            0.        ]\n",
      " [-296.2960138   -20.87005768 -787.3990987    72.53394222]\n",
      " [   0.            0.            0.            0.        ]],\n",
      "counts_calib=[[17309, 1141, 1437, 113], [1587, 17010, 130, 1273], [2767, 200, 15943, 1090], [254, 2978, 1439, 15329]]\n"
     ]
    },
    {
     "data": {
      "application/vnd.jupyter.widget-view+json": {
       "model_id": "bf69cec2216942be9f8a5ded657fa496",
       "version_major": 2,
       "version_minor": 0
      },
      "text/plain": [
       "  0%|          | 0/1 [00:00<?, ?it/s]"
      ]
     },
     "metadata": {},
     "output_type": "display_data"
    },
    {
     "data": {
      "application/vnd.jupyter.widget-view+json": {
       "model_id": "38190cf6d4904e9c83ac7c085fef5f2c",
       "version_major": 2,
       "version_minor": 0
      },
      "text/plain": [
       "  0%|          | 0/1 [00:00<?, ?it/s]"
      ]
     },
     "metadata": {},
     "output_type": "display_data"
    },
    {
     "name": "stdout",
     "output_type": "stream",
     "text": [
      "297.00897765159607\n",
      "gains:  [6500 9750]\n",
      "gainpts Q0 [6500]\n",
      "gainpts Q1 [9750]\n",
      "Re-using provided angles, thresholds, ge_avgs, counts_calib\n",
      "thresholds=[298.2917536658919, 0, 531.7182889924542, 0],\n",
      "angles=[97.0038614545386, 0, -169.14608005647747, 0],\n",
      "ge_avgs=[[ 182.00758033 -147.56824245  133.25386369 -530.40392858]\n",
      " [   0.            0.            0.            0.        ]\n",
      " [-296.2960138   -20.87005768 -787.3990987    72.53394222]\n",
      " [   0.            0.            0.            0.        ]],\n",
      "counts_calib=[[17309, 1141, 1437, 113], [1587, 17010, 130, 1273], [2767, 200, 15943, 1090], [254, 2978, 1439, 15329]]\n"
     ]
    },
    {
     "data": {
      "application/vnd.jupyter.widget-view+json": {
       "model_id": "0d1ab49355f7487b9f3437e0df0e4708",
       "version_major": 2,
       "version_minor": 0
      },
      "text/plain": [
       "  0%|          | 0/1 [00:00<?, ?it/s]"
      ]
     },
     "metadata": {},
     "output_type": "display_data"
    },
    {
     "data": {
      "application/vnd.jupyter.widget-view+json": {
       "model_id": "9029f6516f9e48d98ca8a1046b90642f",
       "version_major": 2,
       "version_minor": 0
      },
      "text/plain": [
       "  0%|          | 0/1 [00:00<?, ?it/s]"
      ]
     },
     "metadata": {},
     "output_type": "display_data"
    },
    {
     "name": "stdout",
     "output_type": "stream",
     "text": [
      "383.02788162231445\n",
      "gains:  [6500 9750]\n",
      "gainpts Q0 [6500]\n",
      "gainpts Q1 [9750]\n",
      "Re-using provided angles, thresholds, ge_avgs, counts_calib\n",
      "thresholds=[298.2917536658919, 0, 531.7182889924542, 0],\n",
      "angles=[97.0038614545386, 0, -169.14608005647747, 0],\n",
      "ge_avgs=[[ 182.00758033 -147.56824245  133.25386369 -530.40392858]\n",
      " [   0.            0.            0.            0.        ]\n",
      " [-296.2960138   -20.87005768 -787.3990987    72.53394222]\n",
      " [   0.            0.            0.            0.        ]],\n",
      "counts_calib=[[17309, 1141, 1437, 113], [1587, 17010, 130, 1273], [2767, 200, 15943, 1090], [254, 2978, 1439, 15329]]\n"
     ]
    },
    {
     "data": {
      "application/vnd.jupyter.widget-view+json": {
       "model_id": "ca65bdf936b44029963bd4fab1af3d02",
       "version_major": 2,
       "version_minor": 0
      },
      "text/plain": [
       "  0%|          | 0/1 [00:00<?, ?it/s]"
      ]
     },
     "metadata": {},
     "output_type": "display_data"
    },
    {
     "data": {
      "application/vnd.jupyter.widget-view+json": {
       "model_id": "b060dc5b010c45f5beb1a21b41b143b0",
       "version_major": 2,
       "version_minor": 0
      },
      "text/plain": [
       "  0%|          | 0/1 [00:00<?, ?it/s]"
      ]
     },
     "metadata": {},
     "output_type": "display_data"
    },
    {
     "name": "stdout",
     "output_type": "stream",
     "text": [
      "469.0803871154785\n",
      "gains:  [6500 9750]\n",
      "gainpts Q0 [6500]\n",
      "gainpts Q1 [9750]\n",
      "Re-using provided angles, thresholds, ge_avgs, counts_calib\n",
      "thresholds=[298.2917536658919, 0, 531.7182889924542, 0],\n",
      "angles=[97.0038614545386, 0, -169.14608005647747, 0],\n",
      "ge_avgs=[[ 182.00758033 -147.56824245  133.25386369 -530.40392858]\n",
      " [   0.            0.            0.            0.        ]\n",
      " [-296.2960138   -20.87005768 -787.3990987    72.53394222]\n",
      " [   0.            0.            0.            0.        ]],\n",
      "counts_calib=[[17309, 1141, 1437, 113], [1587, 17010, 130, 1273], [2767, 200, 15943, 1090], [254, 2978, 1439, 15329]]\n"
     ]
    },
    {
     "data": {
      "application/vnd.jupyter.widget-view+json": {
       "model_id": "38895b1d64ee46ad9729fc7f37fff867",
       "version_major": 2,
       "version_minor": 0
      },
      "text/plain": [
       "  0%|          | 0/1 [00:00<?, ?it/s]"
      ]
     },
     "metadata": {},
     "output_type": "display_data"
    },
    {
     "data": {
      "application/vnd.jupyter.widget-view+json": {
       "model_id": "b628115f525a4e0a8f4fef0113ba55a0",
       "version_major": 2,
       "version_minor": 0
      },
      "text/plain": [
       "  0%|          | 0/1 [00:00<?, ?it/s]"
      ]
     },
     "metadata": {},
     "output_type": "display_data"
    },
    {
     "name": "stdout",
     "output_type": "stream",
     "text": [
      "555.0601506233215\n",
      "gains:  [6500 9750]\n",
      "gainpts Q0 [6500]\n",
      "gainpts Q1 [9750]\n",
      "Re-using provided angles, thresholds, ge_avgs, counts_calib\n",
      "thresholds=[298.2917536658919, 0, 531.7182889924542, 0],\n",
      "angles=[97.0038614545386, 0, -169.14608005647747, 0],\n",
      "ge_avgs=[[ 182.00758033 -147.56824245  133.25386369 -530.40392858]\n",
      " [   0.            0.            0.            0.        ]\n",
      " [-296.2960138   -20.87005768 -787.3990987    72.53394222]\n",
      " [   0.            0.            0.            0.        ]],\n",
      "counts_calib=[[17309, 1141, 1437, 113], [1587, 17010, 130, 1273], [2767, 200, 15943, 1090], [254, 2978, 1439, 15329]]\n"
     ]
    },
    {
     "data": {
      "application/vnd.jupyter.widget-view+json": {
       "model_id": "f996b17aee8646e6957f215c314fc3f5",
       "version_major": 2,
       "version_minor": 0
      },
      "text/plain": [
       "  0%|          | 0/1 [00:00<?, ?it/s]"
      ]
     },
     "metadata": {},
     "output_type": "display_data"
    },
    {
     "data": {
      "application/vnd.jupyter.widget-view+json": {
       "model_id": "d1437845c3834733a811d4bb8b5da190",
       "version_major": 2,
       "version_minor": 0
      },
      "text/plain": [
       "  0%|          | 0/1 [00:00<?, ?it/s]"
      ]
     },
     "metadata": {},
     "output_type": "display_data"
    },
    {
     "name": "stdout",
     "output_type": "stream",
     "text": [
      "641.1469829082489\n",
      "gains:  [6500 9750]\n",
      "gainpts Q0 [6500]\n",
      "gainpts Q1 [9750]\n"
     ]
    },
    {
     "data": {
      "application/vnd.jupyter.widget-view+json": {
       "model_id": "0c57c8177f824cbeb8e028770952d3cb",
       "version_major": 2,
       "version_minor": 0
      },
      "text/plain": [
       "  0%|          | 0/4 [00:00<?, ?it/s]"
      ]
     },
     "metadata": {},
     "output_type": "display_data"
    },
    {
     "name": "stdout",
     "output_type": "stream",
     "text": [
      "Qubit (0)\n",
      "ge fidelity (%): 79.86 \t angle (deg): 90.44912122381663 \t threshold ge: 301.0049155063235\n",
      "Qubit (2)\n",
      "ge fidelity (%): 85.3171329283232 \t angle (deg): -163.68552114890252 \t threshold ge: 528.8258323344689\n",
      "thresholds=[301.0049155063235, 0, 528.8258323344689, 0],\n",
      "angles=[90.44912122381663, 0, -163.68552114890252, 0],\n",
      "ge_avgs=[[191.8732441297743, -119.26784599609375, 187.1128000542535, -521.278951421441], array([0., 0., 0., 0.]), [-297.81626748046875, 13.390027408854166, -778.0787215169271, 153.03294166666666], array([0., 0., 0., 0.])],\n",
      "counts_calib=[[17445, 1255, 1195, 105], [1493, 17111, 115, 1281], [2548, 181, 16105, 1166], [260, 2613, 1462, 15665]]\n"
     ]
    },
    {
     "data": {
      "application/vnd.jupyter.widget-view+json": {
       "model_id": "d002a2b6aef14c298263c2c7ae58065c",
       "version_major": 2,
       "version_minor": 0
      },
      "text/plain": [
       "  0%|          | 0/1 [00:00<?, ?it/s]"
      ]
     },
     "metadata": {},
     "output_type": "display_data"
    },
    {
     "data": {
      "application/vnd.jupyter.widget-view+json": {
       "model_id": "27dfffab5b4c43c4b62c3d487ac86105",
       "version_major": 2,
       "version_minor": 0
      },
      "text/plain": [
       "  0%|          | 0/1 [00:00<?, ?it/s]"
      ]
     },
     "metadata": {},
     "output_type": "display_data"
    },
    {
     "name": "stdout",
     "output_type": "stream",
     "text": [
      "124.3804702758789\n",
      "gains:  [6500 9750]\n",
      "gainpts Q0 [6500]\n",
      "gainpts Q1 [9750]\n",
      "Re-using provided angles, thresholds, ge_avgs, counts_calib\n",
      "thresholds=[301.0049155063235, 0, 528.8258323344689, 0],\n",
      "angles=[90.44912122381663, 0, -163.68552114890252, 0],\n",
      "ge_avgs=[[ 191.87324413 -119.267846    187.11280005 -521.27895142]\n",
      " [   0.            0.            0.            0.        ]\n",
      " [-297.81626748   13.39002741 -778.07872152  153.03294167]\n",
      " [   0.            0.            0.            0.        ]],\n",
      "counts_calib=[[17445, 1255, 1195, 105], [1493, 17111, 115, 1281], [2548, 181, 16105, 1166], [260, 2613, 1462, 15665]]\n"
     ]
    },
    {
     "data": {
      "application/vnd.jupyter.widget-view+json": {
       "model_id": "c2f08a0d72f848dca0a9dd95183bb70b",
       "version_major": 2,
       "version_minor": 0
      },
      "text/plain": [
       "  0%|          | 0/1 [00:00<?, ?it/s]"
      ]
     },
     "metadata": {},
     "output_type": "display_data"
    },
    {
     "data": {
      "application/vnd.jupyter.widget-view+json": {
       "model_id": "113dc5677839405fa0b6efdbc2ea033a",
       "version_major": 2,
       "version_minor": 0
      },
      "text/plain": [
       "  0%|          | 0/1 [00:00<?, ?it/s]"
      ]
     },
     "metadata": {},
     "output_type": "display_data"
    },
    {
     "name": "stdout",
     "output_type": "stream",
     "text": [
      "210.43113541603088\n",
      "gains:  [6500 9750]\n",
      "gainpts Q0 [6500]\n",
      "gainpts Q1 [9750]\n",
      "Re-using provided angles, thresholds, ge_avgs, counts_calib\n",
      "thresholds=[301.0049155063235, 0, 528.8258323344689, 0],\n",
      "angles=[90.44912122381663, 0, -163.68552114890252, 0],\n",
      "ge_avgs=[[ 191.87324413 -119.267846    187.11280005 -521.27895142]\n",
      " [   0.            0.            0.            0.        ]\n",
      " [-297.81626748   13.39002741 -778.07872152  153.03294167]\n",
      " [   0.            0.            0.            0.        ]],\n",
      "counts_calib=[[17445, 1255, 1195, 105], [1493, 17111, 115, 1281], [2548, 181, 16105, 1166], [260, 2613, 1462, 15665]]\n"
     ]
    },
    {
     "data": {
      "application/vnd.jupyter.widget-view+json": {
       "model_id": "8ca008a5adca48409f0a81c8652c74cf",
       "version_major": 2,
       "version_minor": 0
      },
      "text/plain": [
       "  0%|          | 0/1 [00:00<?, ?it/s]"
      ]
     },
     "metadata": {},
     "output_type": "display_data"
    },
    {
     "data": {
      "application/vnd.jupyter.widget-view+json": {
       "model_id": "f4a69843ad954ff483bab3894cfbb4bb",
       "version_major": 2,
       "version_minor": 0
      },
      "text/plain": [
       "  0%|          | 0/1 [00:00<?, ?it/s]"
      ]
     },
     "metadata": {},
     "output_type": "display_data"
    },
    {
     "name": "stdout",
     "output_type": "stream",
     "text": [
      "296.58978962898254\n",
      "gains:  [6500 9750]\n",
      "gainpts Q0 [6500]\n",
      "gainpts Q1 [9750]\n",
      "Re-using provided angles, thresholds, ge_avgs, counts_calib\n",
      "thresholds=[301.0049155063235, 0, 528.8258323344689, 0],\n",
      "angles=[90.44912122381663, 0, -163.68552114890252, 0],\n",
      "ge_avgs=[[ 191.87324413 -119.267846    187.11280005 -521.27895142]\n",
      " [   0.            0.            0.            0.        ]\n",
      " [-297.81626748   13.39002741 -778.07872152  153.03294167]\n",
      " [   0.            0.            0.            0.        ]],\n",
      "counts_calib=[[17445, 1255, 1195, 105], [1493, 17111, 115, 1281], [2548, 181, 16105, 1166], [260, 2613, 1462, 15665]]\n"
     ]
    },
    {
     "data": {
      "application/vnd.jupyter.widget-view+json": {
       "model_id": "bc5cab8d425b49e0ab49d32f7f78e017",
       "version_major": 2,
       "version_minor": 0
      },
      "text/plain": [
       "  0%|          | 0/1 [00:00<?, ?it/s]"
      ]
     },
     "metadata": {},
     "output_type": "display_data"
    },
    {
     "data": {
      "application/vnd.jupyter.widget-view+json": {
       "model_id": "94dd73572a4b43c68636e900a9d7bac9",
       "version_major": 2,
       "version_minor": 0
      },
      "text/plain": [
       "  0%|          | 0/1 [00:00<?, ?it/s]"
      ]
     },
     "metadata": {},
     "output_type": "display_data"
    },
    {
     "name": "stdout",
     "output_type": "stream",
     "text": [
      "382.64452147483826\n",
      "gains:  [6500 9750]\n",
      "gainpts Q0 [6500]\n",
      "gainpts Q1 [9750]\n",
      "Re-using provided angles, thresholds, ge_avgs, counts_calib\n",
      "thresholds=[301.0049155063235, 0, 528.8258323344689, 0],\n",
      "angles=[90.44912122381663, 0, -163.68552114890252, 0],\n",
      "ge_avgs=[[ 191.87324413 -119.267846    187.11280005 -521.27895142]\n",
      " [   0.            0.            0.            0.        ]\n",
      " [-297.81626748   13.39002741 -778.07872152  153.03294167]\n",
      " [   0.            0.            0.            0.        ]],\n",
      "counts_calib=[[17445, 1255, 1195, 105], [1493, 17111, 115, 1281], [2548, 181, 16105, 1166], [260, 2613, 1462, 15665]]\n"
     ]
    },
    {
     "data": {
      "application/vnd.jupyter.widget-view+json": {
       "model_id": "ec40b26c389242d59080c19d35e65263",
       "version_major": 2,
       "version_minor": 0
      },
      "text/plain": [
       "  0%|          | 0/1 [00:00<?, ?it/s]"
      ]
     },
     "metadata": {},
     "output_type": "display_data"
    },
    {
     "data": {
      "application/vnd.jupyter.widget-view+json": {
       "model_id": "0e2abe0bf35444dd9f71065921d023a5",
       "version_major": 2,
       "version_minor": 0
      },
      "text/plain": [
       "  0%|          | 0/1 [00:00<?, ?it/s]"
      ]
     },
     "metadata": {},
     "output_type": "display_data"
    },
    {
     "name": "stdout",
     "output_type": "stream",
     "text": [
      "468.7361273765564\n",
      "gains:  [6500 9750]\n",
      "gainpts Q0 [6500]\n",
      "gainpts Q1 [9750]\n",
      "Re-using provided angles, thresholds, ge_avgs, counts_calib\n",
      "thresholds=[301.0049155063235, 0, 528.8258323344689, 0],\n",
      "angles=[90.44912122381663, 0, -163.68552114890252, 0],\n",
      "ge_avgs=[[ 191.87324413 -119.267846    187.11280005 -521.27895142]\n",
      " [   0.            0.            0.            0.        ]\n",
      " [-297.81626748   13.39002741 -778.07872152  153.03294167]\n",
      " [   0.            0.            0.            0.        ]],\n",
      "counts_calib=[[17445, 1255, 1195, 105], [1493, 17111, 115, 1281], [2548, 181, 16105, 1166], [260, 2613, 1462, 15665]]\n"
     ]
    },
    {
     "data": {
      "application/vnd.jupyter.widget-view+json": {
       "model_id": "c12bf2119abd4b649dd5372058abbf41",
       "version_major": 2,
       "version_minor": 0
      },
      "text/plain": [
       "  0%|          | 0/1 [00:00<?, ?it/s]"
      ]
     },
     "metadata": {},
     "output_type": "display_data"
    },
    {
     "data": {
      "application/vnd.jupyter.widget-view+json": {
       "model_id": "fa292144be4e4918aab9d6b0a540d6e3",
       "version_major": 2,
       "version_minor": 0
      },
      "text/plain": [
       "  0%|          | 0/1 [00:00<?, ?it/s]"
      ]
     },
     "metadata": {},
     "output_type": "display_data"
    },
    {
     "name": "stdout",
     "output_type": "stream",
     "text": [
      "554.8344924449921\n",
      "gains:  [6500 9750]\n",
      "gainpts Q0 [6500]\n",
      "gainpts Q1 [9750]\n",
      "Re-using provided angles, thresholds, ge_avgs, counts_calib\n",
      "thresholds=[301.0049155063235, 0, 528.8258323344689, 0],\n",
      "angles=[90.44912122381663, 0, -163.68552114890252, 0],\n",
      "ge_avgs=[[ 191.87324413 -119.267846    187.11280005 -521.27895142]\n",
      " [   0.            0.            0.            0.        ]\n",
      " [-297.81626748   13.39002741 -778.07872152  153.03294167]\n",
      " [   0.            0.            0.            0.        ]],\n",
      "counts_calib=[[17445, 1255, 1195, 105], [1493, 17111, 115, 1281], [2548, 181, 16105, 1166], [260, 2613, 1462, 15665]]\n"
     ]
    },
    {
     "data": {
      "application/vnd.jupyter.widget-view+json": {
       "model_id": "1b8db4bf49454be1a0c9dbf175a16e0f",
       "version_major": 2,
       "version_minor": 0
      },
      "text/plain": [
       "  0%|          | 0/1 [00:00<?, ?it/s]"
      ]
     },
     "metadata": {},
     "output_type": "display_data"
    },
    {
     "data": {
      "application/vnd.jupyter.widget-view+json": {
       "model_id": "fb1bd0d39bf14f43a9795ea4cb841511",
       "version_major": 2,
       "version_minor": 0
      },
      "text/plain": [
       "  0%|          | 0/1 [00:00<?, ?it/s]"
      ]
     },
     "metadata": {},
     "output_type": "display_data"
    },
    {
     "name": "stdout",
     "output_type": "stream",
     "text": [
      "640.9259021282196\n",
      "gains:  [6500 9750]\n",
      "gainpts Q0 [6500]\n",
      "gainpts Q1 [9750]\n"
     ]
    },
    {
     "data": {
      "application/vnd.jupyter.widget-view+json": {
       "model_id": "e940dae786684787b4c79d9f3565c706",
       "version_major": 2,
       "version_minor": 0
      },
      "text/plain": [
       "  0%|          | 0/4 [00:00<?, ?it/s]"
      ]
     },
     "metadata": {},
     "output_type": "display_data"
    },
    {
     "name": "stdout",
     "output_type": "stream",
     "text": [
      "Qubit (0)\n",
      "ge fidelity (%): 81.0 \t angle (deg): 84.8149540750609 \t threshold ge: 289.1494643283736\n",
      "Qubit (2)\n",
      "ge fidelity (%): 84.66 \t angle (deg): -157.40557342979088 \t threshold ge: 533.1583816738495\n",
      "thresholds=[289.1494643283736, 0, 533.1583816738495, 0],\n",
      "angles=[84.8149540750609, 0, -157.40557342979088, 0],\n",
      "ge_avgs=[[203.28539958767362, -96.77633588324653, 240.9712731987847, -502.54959816623267], array([0., 0., 0., 0.]), [-296.37628261718754, 40.33273929036458, -754.3640299804688, 232.236496875], array([0., 0., 0., 0.])],\n",
      "counts_calib=[[17391, 1268, 1259, 82], [1626, 17052, 105, 1217], [2291, 171, 16382, 1156], [236, 2412, 1502, 15850]]\n"
     ]
    },
    {
     "data": {
      "application/vnd.jupyter.widget-view+json": {
       "model_id": "b443a02f970e459ca25e734138e4b727",
       "version_major": 2,
       "version_minor": 0
      },
      "text/plain": [
       "  0%|          | 0/1 [00:00<?, ?it/s]"
      ]
     },
     "metadata": {},
     "output_type": "display_data"
    },
    {
     "data": {
      "application/vnd.jupyter.widget-view+json": {
       "model_id": "389a452398d94e5db80e697d815ac746",
       "version_major": 2,
       "version_minor": 0
      },
      "text/plain": [
       "  0%|          | 0/1 [00:00<?, ?it/s]"
      ]
     },
     "metadata": {},
     "output_type": "display_data"
    },
    {
     "name": "stdout",
     "output_type": "stream",
     "text": [
      "124.33740520477295\n",
      "gains:  [6500 9750]\n",
      "gainpts Q0 [6500]\n",
      "gainpts Q1 [9750]\n",
      "Re-using provided angles, thresholds, ge_avgs, counts_calib\n",
      "thresholds=[289.1494643283736, 0, 533.1583816738495, 0],\n",
      "angles=[84.8149540750609, 0, -157.40557342979088, 0],\n",
      "ge_avgs=[[ 203.28539959  -96.77633588  240.9712732  -502.54959817]\n",
      " [   0.            0.            0.            0.        ]\n",
      " [-296.37628262   40.33273929 -754.36402998  232.23649688]\n",
      " [   0.            0.            0.            0.        ]],\n",
      "counts_calib=[[17391, 1268, 1259, 82], [1626, 17052, 105, 1217], [2291, 171, 16382, 1156], [236, 2412, 1502, 15850]]\n"
     ]
    },
    {
     "data": {
      "application/vnd.jupyter.widget-view+json": {
       "model_id": "44019d89e0564771920a7cdc250ead82",
       "version_major": 2,
       "version_minor": 0
      },
      "text/plain": [
       "  0%|          | 0/1 [00:00<?, ?it/s]"
      ]
     },
     "metadata": {},
     "output_type": "display_data"
    },
    {
     "data": {
      "application/vnd.jupyter.widget-view+json": {
       "model_id": "b3eff1a6b1d54b709fff35cbe09788bc",
       "version_major": 2,
       "version_minor": 0
      },
      "text/plain": [
       "  0%|          | 0/1 [00:00<?, ?it/s]"
      ]
     },
     "metadata": {},
     "output_type": "display_data"
    },
    {
     "name": "stdout",
     "output_type": "stream",
     "text": [
      "210.4622414112091\n",
      "gains:  [6500 9750]\n",
      "gainpts Q0 [6500]\n",
      "gainpts Q1 [9750]\n",
      "Re-using provided angles, thresholds, ge_avgs, counts_calib\n",
      "thresholds=[289.1494643283736, 0, 533.1583816738495, 0],\n",
      "angles=[84.8149540750609, 0, -157.40557342979088, 0],\n",
      "ge_avgs=[[ 203.28539959  -96.77633588  240.9712732  -502.54959817]\n",
      " [   0.            0.            0.            0.        ]\n",
      " [-296.37628262   40.33273929 -754.36402998  232.23649688]\n",
      " [   0.            0.            0.            0.        ]],\n",
      "counts_calib=[[17391, 1268, 1259, 82], [1626, 17052, 105, 1217], [2291, 171, 16382, 1156], [236, 2412, 1502, 15850]]\n"
     ]
    },
    {
     "data": {
      "application/vnd.jupyter.widget-view+json": {
       "model_id": "2af5ba05364f42b7b395e37bbf52870b",
       "version_major": 2,
       "version_minor": 0
      },
      "text/plain": [
       "  0%|          | 0/1 [00:00<?, ?it/s]"
      ]
     },
     "metadata": {},
     "output_type": "display_data"
    },
    {
     "data": {
      "application/vnd.jupyter.widget-view+json": {
       "model_id": "5d0111e4b6764bd5a8d6ef7a2b8630e8",
       "version_major": 2,
       "version_minor": 0
      },
      "text/plain": [
       "  0%|          | 0/1 [00:00<?, ?it/s]"
      ]
     },
     "metadata": {},
     "output_type": "display_data"
    },
    {
     "name": "stdout",
     "output_type": "stream",
     "text": [
      "296.64278292655945\n",
      "gains:  [6500 9750]\n",
      "gainpts Q0 [6500]\n",
      "gainpts Q1 [9750]\n",
      "Re-using provided angles, thresholds, ge_avgs, counts_calib\n",
      "thresholds=[289.1494643283736, 0, 533.1583816738495, 0],\n",
      "angles=[84.8149540750609, 0, -157.40557342979088, 0],\n",
      "ge_avgs=[[ 203.28539959  -96.77633588  240.9712732  -502.54959817]\n",
      " [   0.            0.            0.            0.        ]\n",
      " [-296.37628262   40.33273929 -754.36402998  232.23649688]\n",
      " [   0.            0.            0.            0.        ]],\n",
      "counts_calib=[[17391, 1268, 1259, 82], [1626, 17052, 105, 1217], [2291, 171, 16382, 1156], [236, 2412, 1502, 15850]]\n"
     ]
    },
    {
     "data": {
      "application/vnd.jupyter.widget-view+json": {
       "model_id": "3a3e8a04258b487cb182db1df52e4eaa",
       "version_major": 2,
       "version_minor": 0
      },
      "text/plain": [
       "  0%|          | 0/1 [00:00<?, ?it/s]"
      ]
     },
     "metadata": {},
     "output_type": "display_data"
    },
    {
     "data": {
      "application/vnd.jupyter.widget-view+json": {
       "model_id": "93b424d3f30e414d8f771b2929b3a171",
       "version_major": 2,
       "version_minor": 0
      },
      "text/plain": [
       "  0%|          | 0/1 [00:00<?, ?it/s]"
      ]
     },
     "metadata": {},
     "output_type": "display_data"
    },
    {
     "name": "stdout",
     "output_type": "stream",
     "text": [
      "382.73608469963074\n",
      "gains:  [6500 9750]\n",
      "gainpts Q0 [6500]\n",
      "gainpts Q1 [9750]\n",
      "Re-using provided angles, thresholds, ge_avgs, counts_calib\n",
      "thresholds=[289.1494643283736, 0, 533.1583816738495, 0],\n",
      "angles=[84.8149540750609, 0, -157.40557342979088, 0],\n",
      "ge_avgs=[[ 203.28539959  -96.77633588  240.9712732  -502.54959817]\n",
      " [   0.            0.            0.            0.        ]\n",
      " [-296.37628262   40.33273929 -754.36402998  232.23649688]\n",
      " [   0.            0.            0.            0.        ]],\n",
      "counts_calib=[[17391, 1268, 1259, 82], [1626, 17052, 105, 1217], [2291, 171, 16382, 1156], [236, 2412, 1502, 15850]]\n"
     ]
    },
    {
     "data": {
      "application/vnd.jupyter.widget-view+json": {
       "model_id": "f50272164aca45f9895dd99a5f1392bd",
       "version_major": 2,
       "version_minor": 0
      },
      "text/plain": [
       "  0%|          | 0/1 [00:00<?, ?it/s]"
      ]
     },
     "metadata": {},
     "output_type": "display_data"
    },
    {
     "data": {
      "application/vnd.jupyter.widget-view+json": {
       "model_id": "e7629313eb274058863b022010a1944a",
       "version_major": 2,
       "version_minor": 0
      },
      "text/plain": [
       "  0%|          | 0/1 [00:00<?, ?it/s]"
      ]
     },
     "metadata": {},
     "output_type": "display_data"
    },
    {
     "name": "stdout",
     "output_type": "stream",
     "text": [
      "468.8196346759796\n",
      "gains:  [6500 9750]\n",
      "gainpts Q0 [6500]\n",
      "gainpts Q1 [9750]\n",
      "Re-using provided angles, thresholds, ge_avgs, counts_calib\n",
      "thresholds=[289.1494643283736, 0, 533.1583816738495, 0],\n",
      "angles=[84.8149540750609, 0, -157.40557342979088, 0],\n",
      "ge_avgs=[[ 203.28539959  -96.77633588  240.9712732  -502.54959817]\n",
      " [   0.            0.            0.            0.        ]\n",
      " [-296.37628262   40.33273929 -754.36402998  232.23649688]\n",
      " [   0.            0.            0.            0.        ]],\n",
      "counts_calib=[[17391, 1268, 1259, 82], [1626, 17052, 105, 1217], [2291, 171, 16382, 1156], [236, 2412, 1502, 15850]]\n"
     ]
    },
    {
     "data": {
      "application/vnd.jupyter.widget-view+json": {
       "model_id": "72979467f3bc420fa1aa53d8b007ad73",
       "version_major": 2,
       "version_minor": 0
      },
      "text/plain": [
       "  0%|          | 0/1 [00:00<?, ?it/s]"
      ]
     },
     "metadata": {},
     "output_type": "display_data"
    },
    {
     "data": {
      "application/vnd.jupyter.widget-view+json": {
       "model_id": "f4fd2c94ee0946da94a7158c4dd9e5db",
       "version_major": 2,
       "version_minor": 0
      },
      "text/plain": [
       "  0%|          | 0/1 [00:00<?, ?it/s]"
      ]
     },
     "metadata": {},
     "output_type": "display_data"
    },
    {
     "name": "stdout",
     "output_type": "stream",
     "text": [
      "0.6434757709503174\n",
      "gains:  [6500 9750]\n",
      "gainpts Q0 [6500]\n",
      "gainpts Q1 [9750]\n"
     ]
    },
    {
     "data": {
      "application/vnd.jupyter.widget-view+json": {
       "model_id": "54d51dd6baf0459796367a6ce1b330a4",
       "version_major": 2,
       "version_minor": 0
      },
      "text/plain": [
       "  0%|          | 0/4 [00:00<?, ?it/s]"
      ]
     },
     "metadata": {},
     "output_type": "display_data"
    },
    {
     "name": "stdout",
     "output_type": "stream",
     "text": [
      "Qubit (0)\n",
      "ge fidelity (%): 77.35600000000001 \t angle (deg): 79.39532861248583 \t threshold ge: 292.9465514651779\n",
      "Qubit (2)\n",
      "ge fidelity (%): 85.396 \t angle (deg): -152.01060710461763 \t threshold ge: 529.7916642875549\n",
      "thresholds=[292.9465514651779, 0, 529.7916642875549, 0],\n",
      "angles=[79.39532861248583, 0, -152.01060710461763, 0],\n",
      "ge_avgs=[[213.11516605902779, -86.83413194010416, 286.4788208940972, -470.44326613715276], array([0., 0., 0., 0.]), [-289.84619513020834, 68.0760296484375, -733.1439638541667, 304.44692820312497], array([0., 0., 0., 0.])],\n",
      "counts_calib=[[42812, 2973, 3943, 272], [3743, 41940, 348, 3969], [6602, 518, 39932, 2948], [602, 7175, 3577, 38646]]\n"
     ]
    },
    {
     "data": {
      "application/vnd.jupyter.widget-view+json": {
       "model_id": "b15429689d094652bfa6e9562ac92d2e",
       "version_major": 2,
       "version_minor": 0
      },
      "text/plain": [
       "  0%|          | 0/1 [00:00<?, ?it/s]"
      ]
     },
     "metadata": {},
     "output_type": "display_data"
    },
    {
     "data": {
      "application/vnd.jupyter.widget-view+json": {
       "model_id": "fcff581bd6294400a90555a9dec0d904",
       "version_major": 2,
       "version_minor": 0
      },
      "text/plain": [
       "  0%|          | 0/1 [00:00<?, ?it/s]"
      ]
     },
     "metadata": {},
     "output_type": "display_data"
    },
    {
     "name": "stdout",
     "output_type": "stream",
     "text": [
      "308.64566349983215\n",
      "gains:  [6500 9750]\n",
      "gainpts Q0 [6500]\n",
      "gainpts Q1 [9750]\n",
      "Re-using provided angles, thresholds, ge_avgs, counts_calib\n",
      "thresholds=[292.9465514651779, 0, 529.7916642875549, 0],\n",
      "angles=[79.39532861248583, 0, -152.01060710461763, 0],\n",
      "ge_avgs=[[ 213.11516606  -86.83413194  286.47882089 -470.44326614]\n",
      " [   0.            0.            0.            0.        ]\n",
      " [-289.84619513   68.07602965 -733.14396385  304.4469282 ]\n",
      " [   0.            0.            0.            0.        ]],\n",
      "counts_calib=[[42812, 2973, 3943, 272], [3743, 41940, 348, 3969], [6602, 518, 39932, 2948], [602, 7175, 3577, 38646]]\n"
     ]
    },
    {
     "data": {
      "application/vnd.jupyter.widget-view+json": {
       "model_id": "a3e97ec9f8fc4e0db2657ebb74a66315",
       "version_major": 2,
       "version_minor": 0
      },
      "text/plain": [
       "  0%|          | 0/1 [00:00<?, ?it/s]"
      ]
     },
     "metadata": {},
     "output_type": "display_data"
    },
    {
     "data": {
      "application/vnd.jupyter.widget-view+json": {
       "model_id": "614c0faf5d4044689507e2022e806c92",
       "version_major": 2,
       "version_minor": 0
      },
      "text/plain": [
       "  0%|          | 0/1 [00:00<?, ?it/s]"
      ]
     },
     "metadata": {},
     "output_type": "display_data"
    },
    {
     "name": "stdout",
     "output_type": "stream",
     "text": [
      "521.7932798862457\n",
      "gains:  [6500 9750]\n",
      "gainpts Q0 [6500]\n",
      "gainpts Q1 [9750]\n",
      "Re-using provided angles, thresholds, ge_avgs, counts_calib\n",
      "thresholds=[292.9465514651779, 0, 529.7916642875549, 0],\n",
      "angles=[79.39532861248583, 0, -152.01060710461763, 0],\n",
      "ge_avgs=[[ 213.11516606  -86.83413194  286.47882089 -470.44326614]\n",
      " [   0.            0.            0.            0.        ]\n",
      " [-289.84619513   68.07602965 -733.14396385  304.4469282 ]\n",
      " [   0.            0.            0.            0.        ]],\n",
      "counts_calib=[[42812, 2973, 3943, 272], [3743, 41940, 348, 3969], [6602, 518, 39932, 2948], [602, 7175, 3577, 38646]]\n"
     ]
    },
    {
     "data": {
      "application/vnd.jupyter.widget-view+json": {
       "model_id": "4802a1cd1a18420c992850a02cfa1d91",
       "version_major": 2,
       "version_minor": 0
      },
      "text/plain": [
       "  0%|          | 0/1 [00:00<?, ?it/s]"
      ]
     },
     "metadata": {},
     "output_type": "display_data"
    },
    {
     "data": {
      "application/vnd.jupyter.widget-view+json": {
       "model_id": "7005f85f2d8b49629b31122e9e98d70d",
       "version_major": 2,
       "version_minor": 0
      },
      "text/plain": [
       "  0%|          | 0/1 [00:00<?, ?it/s]"
      ]
     },
     "metadata": {},
     "output_type": "display_data"
    },
    {
     "name": "stdout",
     "output_type": "stream",
     "text": [
      "734.9859576225281\n",
      "gains:  [6500 9750]\n",
      "gainpts Q0 [6500]\n",
      "gainpts Q1 [9750]\n"
     ]
    },
    {
     "data": {
      "application/vnd.jupyter.widget-view+json": {
       "model_id": "6f9c13754b204b7983b60b7b8c06faa3",
       "version_major": 2,
       "version_minor": 0
      },
      "text/plain": [
       "  0%|          | 0/4 [00:00<?, ?it/s]"
      ]
     },
     "metadata": {},
     "output_type": "display_data"
    },
    {
     "name": "stdout",
     "output_type": "stream",
     "text": [
      "Qubit (0)\n",
      "ge fidelity (%): 78.63 \t angle (deg): 73.08789413950652 \t threshold ge: 279.08817589102694\n",
      "Qubit (2)\n",
      "ge fidelity (%): 84.82284822848229 \t angle (deg): -146.00200829278367 \t threshold ge: 535.0232615845348\n",
      "thresholds=[279.08817589102694, 0, 535.0232615845348, 0],\n",
      "angles=[73.08789413950652, 0, -146.00200829278367, 0],\n",
      "ge_avgs=[[221.11564782986108, -58.86886469184028, 336.7551363498264, -435.52281934895836], array([0., 0., 0., 0.]), [-281.8405729036458, 102.68795190104169, -692.2627099609375, 379.8254535156251], array([0., 0., 0., 0.])],\n",
      "counts_calib=[[42868, 2985, 3881, 266], [4031, 42397, 334, 3238], [6122, 473, 40622, 2783], [608, 6834, 3830, 38728]]\n"
     ]
    },
    {
     "data": {
      "application/vnd.jupyter.widget-view+json": {
       "model_id": "0d9269adab9f4d969605932eef57c50e",
       "version_major": 2,
       "version_minor": 0
      },
      "text/plain": [
       "  0%|          | 0/1 [00:00<?, ?it/s]"
      ]
     },
     "metadata": {},
     "output_type": "display_data"
    },
    {
     "data": {
      "application/vnd.jupyter.widget-view+json": {
       "model_id": "3a12da96300f42078e8103cab72c5877",
       "version_major": 2,
       "version_minor": 0
      },
      "text/plain": [
       "  0%|          | 0/1 [00:00<?, ?it/s]"
      ]
     },
     "metadata": {},
     "output_type": "display_data"
    },
    {
     "name": "stdout",
     "output_type": "stream",
     "text": [
      "308.0046877861023\n",
      "gains:  [6500 9750]\n",
      "gainpts Q0 [6500]\n",
      "gainpts Q1 [9750]\n",
      "Re-using provided angles, thresholds, ge_avgs, counts_calib\n",
      "thresholds=[279.08817589102694, 0, 535.0232615845348, 0],\n",
      "angles=[73.08789413950652, 0, -146.00200829278367, 0],\n",
      "ge_avgs=[[ 221.11564783  -58.86886469  336.75513635 -435.52281935]\n",
      " [   0.            0.            0.            0.        ]\n",
      " [-281.8405729   102.6879519  -692.26270996  379.82545352]\n",
      " [   0.            0.            0.            0.        ]],\n",
      "counts_calib=[[42868, 2985, 3881, 266], [4031, 42397, 334, 3238], [6122, 473, 40622, 2783], [608, 6834, 3830, 38728]]\n"
     ]
    },
    {
     "data": {
      "application/vnd.jupyter.widget-view+json": {
       "model_id": "c06023c86e5540b8b28050ba8570b122",
       "version_major": 2,
       "version_minor": 0
      },
      "text/plain": [
       "  0%|          | 0/1 [00:00<?, ?it/s]"
      ]
     },
     "metadata": {},
     "output_type": "display_data"
    },
    {
     "data": {
      "application/vnd.jupyter.widget-view+json": {
       "model_id": "a48d36c004ef480b985c6174840d8bbf",
       "version_major": 2,
       "version_minor": 0
      },
      "text/plain": [
       "  0%|          | 0/1 [00:00<?, ?it/s]"
      ]
     },
     "metadata": {},
     "output_type": "display_data"
    },
    {
     "name": "stdout",
     "output_type": "stream",
     "text": [
      "521.3877956867218\n",
      "gains:  [6500 9750]\n",
      "gainpts Q0 [6500]\n",
      "gainpts Q1 [9750]\n",
      "Re-using provided angles, thresholds, ge_avgs, counts_calib\n",
      "thresholds=[279.08817589102694, 0, 535.0232615845348, 0],\n",
      "angles=[73.08789413950652, 0, -146.00200829278367, 0],\n",
      "ge_avgs=[[ 221.11564783  -58.86886469  336.75513635 -435.52281935]\n",
      " [   0.            0.            0.            0.        ]\n",
      " [-281.8405729   102.6879519  -692.26270996  379.82545352]\n",
      " [   0.            0.            0.            0.        ]],\n",
      "counts_calib=[[42868, 2985, 3881, 266], [4031, 42397, 334, 3238], [6122, 473, 40622, 2783], [608, 6834, 3830, 38728]]\n"
     ]
    },
    {
     "data": {
      "application/vnd.jupyter.widget-view+json": {
       "model_id": "e426f705318540c288dc4ec6e15c9120",
       "version_major": 2,
       "version_minor": 0
      },
      "text/plain": [
       "  0%|          | 0/1 [00:00<?, ?it/s]"
      ]
     },
     "metadata": {},
     "output_type": "display_data"
    },
    {
     "data": {
      "application/vnd.jupyter.widget-view+json": {
       "model_id": "7d9a9a05f30547daaf55a10971ba87dc",
       "version_major": 2,
       "version_minor": 0
      },
      "text/plain": [
       "  0%|          | 0/1 [00:00<?, ?it/s]"
      ]
     },
     "metadata": {},
     "output_type": "display_data"
    },
    {
     "name": "stdout",
     "output_type": "stream",
     "text": [
      "734.6173124313354\n",
      "gains:  [6500 9750]\n",
      "gainpts Q0 [6500]\n",
      "gainpts Q1 [9750]\n"
     ]
    },
    {
     "data": {
      "application/vnd.jupyter.widget-view+json": {
       "model_id": "52b5f129056f4b49bd101eb6200c55af",
       "version_major": 2,
       "version_minor": 0
      },
      "text/plain": [
       "  0%|          | 0/4 [00:00<?, ?it/s]"
      ]
     },
     "metadata": {},
     "output_type": "display_data"
    },
    {
     "name": "stdout",
     "output_type": "stream",
     "text": [
      "Qubit (0)\n",
      "ge fidelity (%): 78.562 \t angle (deg): 66.4746746168656 \t threshold ge: 291.4249297780423\n",
      "Qubit (2)\n",
      "ge fidelity (%): 84.696 \t angle (deg): -139.38389421221925 \t threshold ge: 530.712262372204\n",
      "thresholds=[291.4249297780423, 0, 530.712262372204, 0],\n",
      "angles=[66.4746746168656, 0, -139.38389421221925, 0],\n",
      "ge_avgs=[[222.87944550347223, -34.69688622395834, 383.1422431944444, -398.3383935546875], array([0., 0., 0., 0.]), [-269.08800251302085, 128.8776782421875, -646.4951800390626, 451.59256598958336], array([0., 0., 0., 0.])],\n",
      "counts_calib=[[43136, 3014, 3557, 293], [4017, 42266, 347, 3370], [6405, 479, 40185, 2931], [612, 6386, 3545, 39457]]\n"
     ]
    },
    {
     "data": {
      "application/vnd.jupyter.widget-view+json": {
       "model_id": "e9395624e7d5434aae0537d5105dd3f8",
       "version_major": 2,
       "version_minor": 0
      },
      "text/plain": [
       "  0%|          | 0/1 [00:00<?, ?it/s]"
      ]
     },
     "metadata": {},
     "output_type": "display_data"
    },
    {
     "data": {
      "application/vnd.jupyter.widget-view+json": {
       "model_id": "36d8ef11399546dcbb5bde48fc3214bf",
       "version_major": 2,
       "version_minor": 0
      },
      "text/plain": [
       "  0%|          | 0/1 [00:00<?, ?it/s]"
      ]
     },
     "metadata": {},
     "output_type": "display_data"
    },
    {
     "name": "stdout",
     "output_type": "stream",
     "text": [
      "307.9102032184601\n",
      "gains:  [6500 9750]\n",
      "gainpts Q0 [6500]\n",
      "gainpts Q1 [9750]\n",
      "Re-using provided angles, thresholds, ge_avgs, counts_calib\n",
      "thresholds=[291.4249297780423, 0, 530.712262372204, 0],\n",
      "angles=[66.4746746168656, 0, -139.38389421221925, 0],\n",
      "ge_avgs=[[ 222.8794455   -34.69688622  383.14224319 -398.33839355]\n",
      " [   0.            0.            0.            0.        ]\n",
      " [-269.08800251  128.87767824 -646.49518004  451.59256599]\n",
      " [   0.            0.            0.            0.        ]],\n",
      "counts_calib=[[43136, 3014, 3557, 293], [4017, 42266, 347, 3370], [6405, 479, 40185, 2931], [612, 6386, 3545, 39457]]\n"
     ]
    },
    {
     "data": {
      "application/vnd.jupyter.widget-view+json": {
       "model_id": "4bb381b81b5b49fca3bebd866a33393f",
       "version_major": 2,
       "version_minor": 0
      },
      "text/plain": [
       "  0%|          | 0/1 [00:00<?, ?it/s]"
      ]
     },
     "metadata": {},
     "output_type": "display_data"
    },
    {
     "data": {
      "application/vnd.jupyter.widget-view+json": {
       "model_id": "2483f5c013684ad3900a0834f00d1c5e",
       "version_major": 2,
       "version_minor": 0
      },
      "text/plain": [
       "  0%|          | 0/1 [00:00<?, ?it/s]"
      ]
     },
     "metadata": {},
     "output_type": "display_data"
    },
    {
     "name": "stdout",
     "output_type": "stream",
     "text": [
      "521.0572018623352\n",
      "gains:  [6500 9750]\n",
      "gainpts Q0 [6500]\n",
      "gainpts Q1 [9750]\n",
      "Re-using provided angles, thresholds, ge_avgs, counts_calib\n",
      "thresholds=[291.4249297780423, 0, 530.712262372204, 0],\n",
      "angles=[66.4746746168656, 0, -139.38389421221925, 0],\n",
      "ge_avgs=[[ 222.8794455   -34.69688622  383.14224319 -398.33839355]\n",
      " [   0.            0.            0.            0.        ]\n",
      " [-269.08800251  128.87767824 -646.49518004  451.59256599]\n",
      " [   0.            0.            0.            0.        ]],\n",
      "counts_calib=[[43136, 3014, 3557, 293], [4017, 42266, 347, 3370], [6405, 479, 40185, 2931], [612, 6386, 3545, 39457]]\n"
     ]
    },
    {
     "data": {
      "application/vnd.jupyter.widget-view+json": {
       "model_id": "99e826b2e35c40f1bc3153bdea6541ac",
       "version_major": 2,
       "version_minor": 0
      },
      "text/plain": [
       "  0%|          | 0/1 [00:00<?, ?it/s]"
      ]
     },
     "metadata": {},
     "output_type": "display_data"
    },
    {
     "data": {
      "application/vnd.jupyter.widget-view+json": {
       "model_id": "14129c93d1cb4750a9632522d77ec120",
       "version_major": 2,
       "version_minor": 0
      },
      "text/plain": [
       "  0%|          | 0/1 [00:00<?, ?it/s]"
      ]
     },
     "metadata": {},
     "output_type": "display_data"
    },
    {
     "name": "stdout",
     "output_type": "stream",
     "text": [
      "734.125937461853\n",
      "gains:  [6500 9750]\n",
      "gainpts Q0 [6500]\n",
      "gainpts Q1 [9750]\n"
     ]
    },
    {
     "data": {
      "application/vnd.jupyter.widget-view+json": {
       "model_id": "4c9ef3addf954b26b5417846a10129ed",
       "version_major": 2,
       "version_minor": 0
      },
      "text/plain": [
       "  0%|          | 0/4 [00:00<?, ?it/s]"
      ]
     },
     "metadata": {},
     "output_type": "display_data"
    },
    {
     "name": "stdout",
     "output_type": "stream",
     "text": [
      "Qubit (0)\n",
      "ge fidelity (%): 79.02079020790208 \t angle (deg): 60.261499589033356 \t threshold ge: 295.6319888232015\n",
      "Qubit (2)\n",
      "ge fidelity (%): 84.458 \t angle (deg): -133.61808958495237 \t threshold ge: 522.555139046976\n",
      "thresholds=[295.6319888232015, 0, 522.555139046976, 0],\n",
      "angles=[60.261499589033356, 0, -133.61808958495237, 0],\n",
      "ge_avgs=[[221.6924824522569, -7.540964926215278, 420.39658778645827, -351.21990562065974], array([0., 0., 0., 0.]), [-250.482321171875, 158.93523255208333, -591.2553637369791, 517.5122940104167], array([0., 0., 0., 0.])],\n",
      "counts_calib=[[43333, 3282, 3128, 257], [3920, 41881, 358, 3841], [6621, 494, 39793, 3092], [620, 6735, 3603, 39042]]\n"
     ]
    },
    {
     "data": {
      "application/vnd.jupyter.widget-view+json": {
       "model_id": "2e611d7cb9e44996a730a9a09308adc0",
       "version_major": 2,
       "version_minor": 0
      },
      "text/plain": [
       "  0%|          | 0/1 [00:00<?, ?it/s]"
      ]
     },
     "metadata": {},
     "output_type": "display_data"
    },
    {
     "data": {
      "application/vnd.jupyter.widget-view+json": {
       "model_id": "3cc52f0ea3c0433dbc7ee463800d7631",
       "version_major": 2,
       "version_minor": 0
      },
      "text/plain": [
       "  0%|          | 0/1 [00:00<?, ?it/s]"
      ]
     },
     "metadata": {},
     "output_type": "display_data"
    },
    {
     "name": "stdout",
     "output_type": "stream",
     "text": [
      "308.24659872055054\n",
      "gains:  [6500 9750]\n",
      "gainpts Q0 [6500]\n",
      "gainpts Q1 [9750]\n",
      "Re-using provided angles, thresholds, ge_avgs, counts_calib\n",
      "thresholds=[295.6319888232015, 0, 522.555139046976, 0],\n",
      "angles=[60.261499589033356, 0, -133.61808958495237, 0],\n",
      "ge_avgs=[[ 221.69248245   -7.54096493  420.39658779 -351.21990562]\n",
      " [   0.            0.            0.            0.        ]\n",
      " [-250.48232117  158.93523255 -591.25536374  517.51229401]\n",
      " [   0.            0.            0.            0.        ]],\n",
      "counts_calib=[[43333, 3282, 3128, 257], [3920, 41881, 358, 3841], [6621, 494, 39793, 3092], [620, 6735, 3603, 39042]]\n"
     ]
    },
    {
     "data": {
      "application/vnd.jupyter.widget-view+json": {
       "model_id": "b240c3a637a6404fa4db959e837caed4",
       "version_major": 2,
       "version_minor": 0
      },
      "text/plain": [
       "  0%|          | 0/1 [00:00<?, ?it/s]"
      ]
     },
     "metadata": {},
     "output_type": "display_data"
    },
    {
     "data": {
      "application/vnd.jupyter.widget-view+json": {
       "model_id": "28274b71169640fba38b84068ee795ad",
       "version_major": 2,
       "version_minor": 0
      },
      "text/plain": [
       "  0%|          | 0/1 [00:00<?, ?it/s]"
      ]
     },
     "metadata": {},
     "output_type": "display_data"
    },
    {
     "name": "stdout",
     "output_type": "stream",
     "text": [
      "521.3881225585938\n",
      "gains:  [6500 9750]\n",
      "gainpts Q0 [6500]\n",
      "gainpts Q1 [9750]\n",
      "Re-using provided angles, thresholds, ge_avgs, counts_calib\n",
      "thresholds=[295.6319888232015, 0, 522.555139046976, 0],\n",
      "angles=[60.261499589033356, 0, -133.61808958495237, 0],\n",
      "ge_avgs=[[ 221.69248245   -7.54096493  420.39658779 -351.21990562]\n",
      " [   0.            0.            0.            0.        ]\n",
      " [-250.48232117  158.93523255 -591.25536374  517.51229401]\n",
      " [   0.            0.            0.            0.        ]],\n",
      "counts_calib=[[43333, 3282, 3128, 257], [3920, 41881, 358, 3841], [6621, 494, 39793, 3092], [620, 6735, 3603, 39042]]\n"
     ]
    },
    {
     "data": {
      "application/vnd.jupyter.widget-view+json": {
       "model_id": "cb0f58604a754d2b90d4a57e7a9130aa",
       "version_major": 2,
       "version_minor": 0
      },
      "text/plain": [
       "  0%|          | 0/1 [00:00<?, ?it/s]"
      ]
     },
     "metadata": {},
     "output_type": "display_data"
    },
    {
     "data": {
      "application/vnd.jupyter.widget-view+json": {
       "model_id": "95bf924060cb4c42a0b9219d2b5d6506",
       "version_major": 2,
       "version_minor": 0
      },
      "text/plain": [
       "  0%|          | 0/1 [00:00<?, ?it/s]"
      ]
     },
     "metadata": {},
     "output_type": "display_data"
    },
    {
     "name": "stdout",
     "output_type": "stream",
     "text": [
      "734.4074404239655\n",
      "gains:  [6500 9750]\n",
      "gainpts Q0 [6500]\n",
      "gainpts Q1 [9750]\n"
     ]
    },
    {
     "data": {
      "application/vnd.jupyter.widget-view+json": {
       "model_id": "ea0e9e93a5994d66a8d818dd142bbfd2",
       "version_major": 2,
       "version_minor": 0
      },
      "text/plain": [
       "  0%|          | 0/4 [00:00<?, ?it/s]"
      ]
     },
     "metadata": {},
     "output_type": "display_data"
    },
    {
     "name": "stdout",
     "output_type": "stream",
     "text": [
      "Qubit (0)\n",
      "ge fidelity (%): 76.806 \t angle (deg): 53.80291542972197 \t threshold ge: 301.4278187016188\n",
      "Qubit (2)\n",
      "ge fidelity (%): 84.82884828848289 \t angle (deg): -127.02170553349622 \t threshold ge: 525.7514449420269\n",
      "thresholds=[301.4278187016188, 0, 525.7514449420269, 0],\n",
      "angles=[53.80291542972197, 0, -127.02170553349622, 0],\n",
      "ge_avgs=[[230.49657006944443, 6.853193420138889, 458.37743345486103, -302.6678349739583], array([0., 0., 0., 0.]), [-233.26001302083336, 186.28690473958332, -531.3082434114583, 582.8717184114582], array([0., 0., 0., 0.])],\n",
      "counts_calib=[[42424, 3188, 4056, 332], [3831, 42786, 296, 3087], [6738, 477, 39865, 2920], [651, 6955, 3502, 38892]]\n"
     ]
    },
    {
     "data": {
      "application/vnd.jupyter.widget-view+json": {
       "model_id": "f3a4dac1fb624257b53e512552205eb0",
       "version_major": 2,
       "version_minor": 0
      },
      "text/plain": [
       "  0%|          | 0/1 [00:00<?, ?it/s]"
      ]
     },
     "metadata": {},
     "output_type": "display_data"
    },
    {
     "data": {
      "application/vnd.jupyter.widget-view+json": {
       "model_id": "98406922b4a2422492174a70c44de2de",
       "version_major": 2,
       "version_minor": 0
      },
      "text/plain": [
       "  0%|          | 0/1 [00:00<?, ?it/s]"
      ]
     },
     "metadata": {},
     "output_type": "display_data"
    },
    {
     "name": "stdout",
     "output_type": "stream",
     "text": [
      "307.7901005744934\n",
      "gains:  [6500 9750]\n",
      "gainpts Q0 [6500]\n",
      "gainpts Q1 [9750]\n",
      "Re-using provided angles, thresholds, ge_avgs, counts_calib\n",
      "thresholds=[301.4278187016188, 0, 525.7514449420269, 0],\n",
      "angles=[53.80291542972197, 0, -127.02170553349622, 0],\n",
      "ge_avgs=[[ 230.49657007    6.85319342  458.37743345 -302.66783497]\n",
      " [   0.            0.            0.            0.        ]\n",
      " [-233.26001302  186.28690474 -531.30824341  582.87171841]\n",
      " [   0.            0.            0.            0.        ]],\n",
      "counts_calib=[[42424, 3188, 4056, 332], [3831, 42786, 296, 3087], [6738, 477, 39865, 2920], [651, 6955, 3502, 38892]]\n"
     ]
    },
    {
     "data": {
      "application/vnd.jupyter.widget-view+json": {
       "model_id": "2fb2d66a21bd462984bdd054594c7b1d",
       "version_major": 2,
       "version_minor": 0
      },
      "text/plain": [
       "  0%|          | 0/1 [00:00<?, ?it/s]"
      ]
     },
     "metadata": {},
     "output_type": "display_data"
    },
    {
     "data": {
      "application/vnd.jupyter.widget-view+json": {
       "model_id": "45a05e38e32447ac8da82355968a1a3b",
       "version_major": 2,
       "version_minor": 0
      },
      "text/plain": [
       "  0%|          | 0/1 [00:00<?, ?it/s]"
      ]
     },
     "metadata": {},
     "output_type": "display_data"
    },
    {
     "name": "stdout",
     "output_type": "stream",
     "text": [
      "520.9989552497864\n",
      "gains:  [6500 9750]\n",
      "gainpts Q0 [6500]\n",
      "gainpts Q1 [9750]\n",
      "Re-using provided angles, thresholds, ge_avgs, counts_calib\n",
      "thresholds=[301.4278187016188, 0, 525.7514449420269, 0],\n",
      "angles=[53.80291542972197, 0, -127.02170553349622, 0],\n",
      "ge_avgs=[[ 230.49657007    6.85319342  458.37743345 -302.66783497]\n",
      " [   0.            0.            0.            0.        ]\n",
      " [-233.26001302  186.28690474 -531.30824341  582.87171841]\n",
      " [   0.            0.            0.            0.        ]],\n",
      "counts_calib=[[42424, 3188, 4056, 332], [3831, 42786, 296, 3087], [6738, 477, 39865, 2920], [651, 6955, 3502, 38892]]\n"
     ]
    },
    {
     "data": {
      "application/vnd.jupyter.widget-view+json": {
       "model_id": "daa223f30c754bc588c54de27b0de482",
       "version_major": 2,
       "version_minor": 0
      },
      "text/plain": [
       "  0%|          | 0/1 [00:00<?, ?it/s]"
      ]
     },
     "metadata": {},
     "output_type": "display_data"
    },
    {
     "data": {
      "application/vnd.jupyter.widget-view+json": {
       "model_id": "72c2ec990785475eb1a1ada452966567",
       "version_major": 2,
       "version_minor": 0
      },
      "text/plain": [
       "  0%|          | 0/1 [00:00<?, ?it/s]"
      ]
     },
     "metadata": {},
     "output_type": "display_data"
    },
    {
     "name": "stdout",
     "output_type": "stream",
     "text": [
      "734.0513813495636\n",
      "gains:  [6500 9750]\n",
      "gainpts Q0 [6500]\n",
      "gainpts Q1 [9750]\n"
     ]
    },
    {
     "data": {
      "application/vnd.jupyter.widget-view+json": {
       "model_id": "05c8ca19ba2f4066b5efecf025b84fc5",
       "version_major": 2,
       "version_minor": 0
      },
      "text/plain": [
       "  0%|          | 0/4 [00:00<?, ?it/s]"
      ]
     },
     "metadata": {},
     "output_type": "display_data"
    },
    {
     "name": "stdout",
     "output_type": "stream",
     "text": [
      "Qubit (0)\n",
      "ge fidelity (%): 79.54479544795447 \t angle (deg): 47.35287545283275 \t threshold ge: 287.7851731658124\n",
      "Qubit (2)\n",
      "ge fidelity (%): 85.21600000000001 \t angle (deg): -120.98585062849457 \t threshold ge: 530.607853757787\n",
      "thresholds=[287.7851731658124, 0, 530.607853757787, 0],\n",
      "angles=[47.35287545283275, 0, -120.98585062849457, 0],\n",
      "ge_avgs=[[224.17400821180559, 43.88890827690972, 493.28334694878475, -249.2216772048611], array([0., 0., 0., 0.]), [-202.95019332031245, 213.4181226953125, -460.4639545833333, 640.8108978515625], array([0., 0., 0., 0.])],\n",
      "counts_calib=[[43094, 3055, 3597, 254], [3838, 42784, 278, 3100], [5974, 417, 40810, 2799], [528, 6514, 3560, 39398]]\n"
     ]
    },
    {
     "data": {
      "application/vnd.jupyter.widget-view+json": {
       "model_id": "0832f7f9473343d7b129d1106e8a3d95",
       "version_major": 2,
       "version_minor": 0
      },
      "text/plain": [
       "  0%|          | 0/1 [00:00<?, ?it/s]"
      ]
     },
     "metadata": {},
     "output_type": "display_data"
    },
    {
     "data": {
      "application/vnd.jupyter.widget-view+json": {
       "model_id": "9feb0a535df140d68e2fddf809701ab2",
       "version_major": 2,
       "version_minor": 0
      },
      "text/plain": [
       "  0%|          | 0/1 [00:00<?, ?it/s]"
      ]
     },
     "metadata": {},
     "output_type": "display_data"
    },
    {
     "name": "stdout",
     "output_type": "stream",
     "text": [
      "307.80918312072754\n",
      "gains:  [6500 9750]\n",
      "gainpts Q0 [6500]\n",
      "gainpts Q1 [9750]\n",
      "Re-using provided angles, thresholds, ge_avgs, counts_calib\n",
      "thresholds=[287.7851731658124, 0, 530.607853757787, 0],\n",
      "angles=[47.35287545283275, 0, -120.98585062849457, 0],\n",
      "ge_avgs=[[ 224.17400821   43.88890828  493.28334695 -249.2216772 ]\n",
      " [   0.            0.            0.            0.        ]\n",
      " [-202.95019332  213.4181227  -460.46395458  640.81089785]\n",
      " [   0.            0.            0.            0.        ]],\n",
      "counts_calib=[[43094, 3055, 3597, 254], [3838, 42784, 278, 3100], [5974, 417, 40810, 2799], [528, 6514, 3560, 39398]]\n"
     ]
    },
    {
     "data": {
      "application/vnd.jupyter.widget-view+json": {
       "model_id": "2b6a80bd683442478eddfb570194d44c",
       "version_major": 2,
       "version_minor": 0
      },
      "text/plain": [
       "  0%|          | 0/1 [00:00<?, ?it/s]"
      ]
     },
     "metadata": {},
     "output_type": "display_data"
    },
    {
     "data": {
      "application/vnd.jupyter.widget-view+json": {
       "model_id": "907e5f1658cf4bdbaea77b4f52c580c7",
       "version_major": 2,
       "version_minor": 0
      },
      "text/plain": [
       "  0%|          | 0/1 [00:00<?, ?it/s]"
      ]
     },
     "metadata": {},
     "output_type": "display_data"
    },
    {
     "name": "stdout",
     "output_type": "stream",
     "text": [
      "521.0397012233734\n",
      "gains:  [6500 9750]\n",
      "gainpts Q0 [6500]\n",
      "gainpts Q1 [9750]\n",
      "Re-using provided angles, thresholds, ge_avgs, counts_calib\n",
      "thresholds=[287.7851731658124, 0, 530.607853757787, 0],\n",
      "angles=[47.35287545283275, 0, -120.98585062849457, 0],\n",
      "ge_avgs=[[ 224.17400821   43.88890828  493.28334695 -249.2216772 ]\n",
      " [   0.            0.            0.            0.        ]\n",
      " [-202.95019332  213.4181227  -460.46395458  640.81089785]\n",
      " [   0.            0.            0.            0.        ]],\n",
      "counts_calib=[[43094, 3055, 3597, 254], [3838, 42784, 278, 3100], [5974, 417, 40810, 2799], [528, 6514, 3560, 39398]]\n"
     ]
    },
    {
     "data": {
      "application/vnd.jupyter.widget-view+json": {
       "model_id": "cd57a6b908a941578761f10645c8c28e",
       "version_major": 2,
       "version_minor": 0
      },
      "text/plain": [
       "  0%|          | 0/1 [00:00<?, ?it/s]"
      ]
     },
     "metadata": {},
     "output_type": "display_data"
    },
    {
     "data": {
      "application/vnd.jupyter.widget-view+json": {
       "model_id": "236fc2dae18c4bb39a1ccae9697f0abe",
       "version_major": 2,
       "version_minor": 0
      },
      "text/plain": [
       "  0%|          | 0/1 [00:00<?, ?it/s]"
      ]
     },
     "metadata": {},
     "output_type": "display_data"
    },
    {
     "name": "stdout",
     "output_type": "stream",
     "text": [
      "734.4118819236755\n",
      "gains:  [6500 9750]\n",
      "gainpts Q0 [6500]\n",
      "gainpts Q1 [9750]\n"
     ]
    },
    {
     "data": {
      "application/vnd.jupyter.widget-view+json": {
       "model_id": "d96042c6d73e43dda196276437ee648a",
       "version_major": 2,
       "version_minor": 0
      },
      "text/plain": [
       "  0%|          | 0/4 [00:00<?, ?it/s]"
      ]
     },
     "metadata": {},
     "output_type": "display_data"
    },
    {
     "name": "stdout",
     "output_type": "stream",
     "text": [
      "Qubit (0)\n",
      "ge fidelity (%): 76.972 \t angle (deg): 40.736465856373364 \t threshold ge: 290.01900776188245\n",
      "Qubit (2)\n",
      "ge fidelity (%): 84.812 \t angle (deg): -113.7467199789117 \t threshold ge: 534.7380812606214\n",
      "thresholds=[290.01900776188245, 0, 534.7380812606214, 0],\n",
      "angles=[40.736465856373364, 0, -113.7467199789117, 0],\n",
      "ge_avgs=[[221.75566411024306, 65.350446484375, 512.2747577517362, -185.30084420138888], array([0., 0., 0., 0.]), [-185.335740546875, 234.02564421875, -385.0038555208334, 689.2099254296874], array([0., 0., 0., 0.])],\n",
      "counts_calib=[[42908, 2980, 3862, 250], [4030, 42022, 351, 3597], [6979, 449, 39866, 2706], [676, 6796, 3549, 38979]]\n"
     ]
    },
    {
     "data": {
      "application/vnd.jupyter.widget-view+json": {
       "model_id": "f31366560a1940f490f561b9a6eab2ff",
       "version_major": 2,
       "version_minor": 0
      },
      "text/plain": [
       "  0%|          | 0/1 [00:00<?, ?it/s]"
      ]
     },
     "metadata": {},
     "output_type": "display_data"
    },
    {
     "data": {
      "application/vnd.jupyter.widget-view+json": {
       "model_id": "1b4816f408844aa49906168c35d4f443",
       "version_major": 2,
       "version_minor": 0
      },
      "text/plain": [
       "  0%|          | 0/1 [00:00<?, ?it/s]"
      ]
     },
     "metadata": {},
     "output_type": "display_data"
    },
    {
     "name": "stdout",
     "output_type": "stream",
     "text": [
      "307.9079451560974\n",
      "gains:  [6500 9750]\n",
      "gainpts Q0 [6500]\n",
      "gainpts Q1 [9750]\n",
      "Re-using provided angles, thresholds, ge_avgs, counts_calib\n",
      "thresholds=[290.01900776188245, 0, 534.7380812606214, 0],\n",
      "angles=[40.736465856373364, 0, -113.7467199789117, 0],\n",
      "ge_avgs=[[ 221.75566411   65.35044648  512.27475775 -185.3008442 ]\n",
      " [   0.            0.            0.            0.        ]\n",
      " [-185.33574055  234.02564422 -385.00385552  689.20992543]\n",
      " [   0.            0.            0.            0.        ]],\n",
      "counts_calib=[[42908, 2980, 3862, 250], [4030, 42022, 351, 3597], [6979, 449, 39866, 2706], [676, 6796, 3549, 38979]]\n"
     ]
    },
    {
     "data": {
      "application/vnd.jupyter.widget-view+json": {
       "model_id": "36eb4af65133400e839e9b26dc9e2a36",
       "version_major": 2,
       "version_minor": 0
      },
      "text/plain": [
       "  0%|          | 0/1 [00:00<?, ?it/s]"
      ]
     },
     "metadata": {},
     "output_type": "display_data"
    },
    {
     "data": {
      "application/vnd.jupyter.widget-view+json": {
       "model_id": "0580931929154e6881d6b44b15511f2f",
       "version_major": 2,
       "version_minor": 0
      },
      "text/plain": [
       "  0%|          | 0/1 [00:00<?, ?it/s]"
      ]
     },
     "metadata": {},
     "output_type": "display_data"
    },
    {
     "name": "stdout",
     "output_type": "stream",
     "text": [
      "0.5974700450897217\n",
      "gains:  [6500 9750]\n",
      "gainpts Q0 [6500]\n",
      "gainpts Q1 [9750]\n"
     ]
    },
    {
     "data": {
      "application/vnd.jupyter.widget-view+json": {
       "model_id": "86aca836fda74caa89f9c710fcb993b3",
       "version_major": 2,
       "version_minor": 0
      },
      "text/plain": [
       "  0%|          | 0/4 [00:00<?, ?it/s]"
      ]
     },
     "metadata": {},
     "output_type": "display_data"
    },
    {
     "name": "stdout",
     "output_type": "stream",
     "text": [
      "Qubit (0)\n",
      "ge fidelity (%): 77.37 \t angle (deg): 35.50042898480435 \t threshold ge: 294.81765048040495\n",
      "Qubit (2)\n",
      "ge fidelity (%): 85.095 \t angle (deg): -109.06631012204681 \t threshold ge: 538.0649674497877\n",
      "thresholds=[294.81765048040495, 0, 538.0649674497877, 0],\n",
      "angles=[35.50042898480435, 0, -109.06631012204681, 0],\n",
      "ge_avgs=[[212.93502282118055, 85.54075720052084, 527.0443913302952, -139.85527488498266], array([0., 0., 0., 0.]), [-161.1675740299479, 250.70721253255206, -324.27015805989583, 722.9064583789061], array([0., 0., 0., 0.])],\n",
      "counts_calib=[[86565, 5794, 7138, 503], [7968, 84270, 650, 7112], [14030, 962, 79651, 5357], [1283, 13381, 7482, 77854]]\n"
     ]
    },
    {
     "data": {
      "application/vnd.jupyter.widget-view+json": {
       "model_id": "76a373b6dfba44bf87bad9bc38ad150d",
       "version_major": 2,
       "version_minor": 0
      },
      "text/plain": [
       "  0%|          | 0/1 [00:00<?, ?it/s]"
      ]
     },
     "metadata": {},
     "output_type": "display_data"
    },
    {
     "data": {
      "application/vnd.jupyter.widget-view+json": {
       "model_id": "3bc182c7a1ad485fb8329c71c7dd79db",
       "version_major": 2,
       "version_minor": 0
      },
      "text/plain": [
       "  0%|          | 0/1 [00:00<?, ?it/s]"
      ]
     },
     "metadata": {},
     "output_type": "display_data"
    },
    {
     "ename": "KeyboardInterrupt",
     "evalue": "",
     "output_type": "error",
     "traceback": [
      "\u001b[1;31m---------------------------------------------------------------------------\u001b[0m",
      "\u001b[1;31mKeyboardInterrupt\u001b[0m                         Traceback (most recent call last)",
      "Cell \u001b[1;32mIn[29], line 17\u001b[0m\n\u001b[0;32m      3\u001b[0m tomo_ILC \u001b[38;5;241m=\u001b[39m TomoILC(\n\u001b[0;32m      4\u001b[0m     IQ_pulse_seed\u001b[38;5;241m=\u001b[39mpulse_IQ, \n\u001b[0;32m      5\u001b[0m     gains_filename\u001b[38;5;241m=\u001b[39mpulse_filename, \n\u001b[1;32m   (...)\u001b[0m\n\u001b[0;32m     12\u001b[0m     debug\u001b[38;5;241m=\u001b[39m\u001b[38;5;28;01mFalse\u001b[39;00m\n\u001b[0;32m     13\u001b[0m )\n\u001b[0;32m     15\u001b[0m \u001b[38;5;28;01mfor\u001b[39;00m j \u001b[38;5;129;01min\u001b[39;00m \u001b[38;5;28mrange\u001b[39m(nb_measurment):\n\u001b[1;32m---> 17\u001b[0m     rho \u001b[38;5;241m=\u001b[39m \u001b[43mtomo_ILC\u001b[49m\u001b[38;5;241;43m.\u001b[39;49m\u001b[43mget_tomo_results\u001b[49m\u001b[43m(\u001b[49m\u001b[43mpulse_IQ\u001b[49m\u001b[43m,\u001b[49m\u001b[43m \u001b[49m\u001b[43mZZ_correction\u001b[49m\u001b[38;5;241;43m=\u001b[39;49m\u001b[38;5;28;43;01mFalse\u001b[39;49;00m\u001b[43m)\u001b[49m\n\u001b[0;32m     18\u001b[0m     rho \u001b[38;5;241m=\u001b[39m qt\u001b[38;5;241m.\u001b[39mQobj(rho)\n\u001b[0;32m     19\u001b[0m     rho\u001b[38;5;241m.\u001b[39mdims \u001b[38;5;241m=\u001b[39m rho_ideal\u001b[38;5;241m.\u001b[39mdims\n",
      "File \u001b[1;32ms:\\Connie\\experiments\\qramLL_4QR2\\TomoILC.py:240\u001b[0m, in \u001b[0;36mTomoILC.get_tomo_results\u001b[1;34m(self, IQ_pulse, ZZ_correction, evolv_mat)\u001b[0m\n\u001b[0;32m    237\u001b[0m     \u001b[38;5;28mself\u001b[39m\u001b[38;5;241m.\u001b[39mcounts_calib \u001b[38;5;241m=\u001b[39m \u001b[38;5;28;01mNone\u001b[39;00m\n\u001b[0;32m    238\u001b[0m     \u001b[38;5;28mself\u001b[39m\u001b[38;5;241m.\u001b[39mtime \u001b[38;5;241m=\u001b[39m _t\n\u001b[1;32m--> 240\u001b[0m \u001b[38;5;28;43mself\u001b[39;49m\u001b[38;5;241;43m.\u001b[39;49m\u001b[43mtomo_experiment\u001b[49m\u001b[43m(\u001b[49m\u001b[43mIQ_pulse\u001b[49m\u001b[43m)\u001b[49m\n\u001b[0;32m    241\u001b[0m \u001b[38;5;66;03m# self.tomoExpt.save_data()\u001b[39;00m\n\u001b[0;32m    243\u001b[0m data \u001b[38;5;241m=\u001b[39m \u001b[38;5;28mself\u001b[39m\u001b[38;5;241m.\u001b[39mtomoExpt\u001b[38;5;241m.\u001b[39mdata\n",
      "File \u001b[1;32ms:\\Connie\\experiments\\qramLL_4QR2\\TomoILC.py:224\u001b[0m, in \u001b[0;36mTomoILC.tomo_experiment\u001b[1;34m(self, IQ_pulse)\u001b[0m\n\u001b[0;32m    202\u001b[0m \u001b[38;5;28mself\u001b[39m\u001b[38;5;241m.\u001b[39mtomoExpt\u001b[38;5;241m.\u001b[39mcfg\u001b[38;5;241m.\u001b[39mexpt \u001b[38;5;241m=\u001b[39m \u001b[38;5;28mdict\u001b[39m(\n\u001b[0;32m    203\u001b[0m starts\u001b[38;5;241m=\u001b[39mgains\u001b[38;5;241m.\u001b[39mastype(\u001b[38;5;28mint\u001b[39m), \u001b[38;5;66;03m# start gain for each qubit in IQ_qubits\u001b[39;00m\n\u001b[0;32m    204\u001b[0m steps\u001b[38;5;241m=\u001b[39mnp\u001b[38;5;241m.\u001b[39mzeros(\u001b[38;5;28mlen\u001b[39m(gains))\u001b[38;5;241m.\u001b[39mastype(\u001b[38;5;28mint\u001b[39m),\n\u001b[1;32m   (...)\u001b[0m\n\u001b[0;32m    220\u001b[0m \u001b[38;5;66;03m# plot_IQ=False,\u001b[39;00m\n\u001b[0;32m    221\u001b[0m )\n\u001b[0;32m    223\u001b[0m \u001b[38;5;28;01mtry\u001b[39;00m:\n\u001b[1;32m--> 224\u001b[0m     \u001b[38;5;28;43mself\u001b[39;49m\u001b[38;5;241;43m.\u001b[39;49m\u001b[43mtomoExpt\u001b[49m\u001b[38;5;241;43m.\u001b[39;49m\u001b[43mgo\u001b[49m\u001b[43m(\u001b[49m\u001b[43manalyze\u001b[49m\u001b[38;5;241;43m=\u001b[39;49m\u001b[38;5;28;43;01mFalse\u001b[39;49;00m\u001b[43m,\u001b[49m\u001b[43m \u001b[49m\u001b[43mdisplay\u001b[49m\u001b[38;5;241;43m=\u001b[39;49m\u001b[38;5;28;43;01mFalse\u001b[39;49;00m\u001b[43m,\u001b[49m\u001b[43m \u001b[49m\u001b[43mprogress\u001b[49m\u001b[38;5;241;43m=\u001b[39;49m\u001b[38;5;28;43mself\u001b[39;49m\u001b[38;5;241;43m.\u001b[39;49m\u001b[43mdebug\u001b[49m\u001b[43m,\u001b[49m\u001b[43m \u001b[49m\u001b[43msave\u001b[49m\u001b[38;5;241;43m=\u001b[39;49m\u001b[38;5;28;43;01mFalse\u001b[39;49;00m\u001b[43m)\u001b[49m\n\u001b[0;32m    225\u001b[0m \u001b[38;5;28;01mexcept\u001b[39;00m \u001b[38;5;167;01mException\u001b[39;00m:\n\u001b[0;32m    226\u001b[0m     \u001b[38;5;28mprint\u001b[39m(\u001b[38;5;124m\"\u001b[39m\u001b[38;5;124mPyro traceback:\u001b[39m\u001b[38;5;124m\"\u001b[39m)\n",
      "File \u001b[1;32m~\\slab\\experiment.py:115\u001b[0m, in \u001b[0;36mExperiment.go\u001b[1;34m(self, save, analyze, display, progress)\u001b[0m\n\u001b[0;32m    112\u001b[0m \u001b[38;5;28;01mdef\u001b[39;00m \u001b[38;5;21mgo\u001b[39m(\u001b[38;5;28mself\u001b[39m, save\u001b[38;5;241m=\u001b[39m\u001b[38;5;28;01mFalse\u001b[39;00m, analyze\u001b[38;5;241m=\u001b[39m\u001b[38;5;28;01mFalse\u001b[39;00m, display\u001b[38;5;241m=\u001b[39m\u001b[38;5;28;01mFalse\u001b[39;00m, progress\u001b[38;5;241m=\u001b[39m\u001b[38;5;28;01mFalse\u001b[39;00m):\n\u001b[0;32m    113\u001b[0m     \u001b[38;5;66;03m# get data\u001b[39;00m\n\u001b[1;32m--> 115\u001b[0m     data\u001b[38;5;241m=\u001b[39m\u001b[38;5;28;43mself\u001b[39;49m\u001b[38;5;241;43m.\u001b[39;49m\u001b[43macquire\u001b[49m\u001b[43m(\u001b[49m\u001b[43mprogress\u001b[49m\u001b[43m)\u001b[49m\n\u001b[0;32m    116\u001b[0m     \u001b[38;5;28;01mif\u001b[39;00m analyze:\n\u001b[0;32m    117\u001b[0m         data\u001b[38;5;241m=\u001b[39m\u001b[38;5;28mself\u001b[39m\u001b[38;5;241m.\u001b[39manalyze(data)\n",
      "File \u001b[1;32ms:\\Connie\\experiments\\qramLL_4QR2\\experiments\\two_qubit\\amprabi_opt_ctrl_state_prep.py:840\u001b[0m, in \u001b[0;36mOptimalCtrlTomo2QExperiment.acquire\u001b[1;34m(self, progress)\u001b[0m\n\u001b[0;32m    835\u001b[0m tomo \u001b[38;5;241m=\u001b[39m OptimalCtrlTomo2QProgram(soccfg\u001b[38;5;241m=\u001b[39m\u001b[38;5;28mself\u001b[39m\u001b[38;5;241m.\u001b[39msoccfg, cfg\u001b[38;5;241m=\u001b[39mcfg)\n\u001b[0;32m    836\u001b[0m \u001b[38;5;66;03m# print(tomo)\u001b[39;00m\n\u001b[0;32m    837\u001b[0m \u001b[38;5;66;03m# from qick.helpers import progs2json\u001b[39;00m\n\u001b[0;32m    838\u001b[0m \u001b[38;5;66;03m# print(progs2json([tomo.dump_prog()]))\u001b[39;00m\n\u001b[0;32m    839\u001b[0m \u001b[38;5;66;03m# xpts, avgi, avgq = tomo.acquire(self.im[self.cfg.aliases.soc], load_pulses=True, progress=False)\u001b[39;00m\n\u001b[1;32m--> 840\u001b[0m avgi, avgq \u001b[38;5;241m=\u001b[39m \u001b[43mtomo\u001b[49m\u001b[38;5;241;43m.\u001b[39;49m\u001b[43macquire\u001b[49m\u001b[43m(\u001b[49m\u001b[38;5;28;43mself\u001b[39;49m\u001b[38;5;241;43m.\u001b[39;49m\u001b[43mim\u001b[49m\u001b[43m[\u001b[49m\u001b[38;5;28;43mself\u001b[39;49m\u001b[38;5;241;43m.\u001b[39;49m\u001b[43mcfg\u001b[49m\u001b[38;5;241;43m.\u001b[39;49m\u001b[43maliases\u001b[49m\u001b[38;5;241;43m.\u001b[39;49m\u001b[43msoc\u001b[49m\u001b[43m]\u001b[49m\u001b[43m,\u001b[49m\u001b[43m \u001b[49m\u001b[43mload_pulses\u001b[49m\u001b[38;5;241;43m=\u001b[39;49m\u001b[38;5;28;43;01mTrue\u001b[39;49;00m\u001b[43m,\u001b[49m\u001b[43m \u001b[49m\u001b[43mprogress\u001b[49m\u001b[38;5;241;43m=\u001b[39;49m\u001b[38;5;28;43;01mFalse\u001b[39;49;00m\u001b[43m)\u001b[49m\n\u001b[0;32m    842\u001b[0m \u001b[38;5;66;03m# print(basis)\u001b[39;00m\n\u001b[0;32m    843\u001b[0m adc_chs \u001b[38;5;241m=\u001b[39m \u001b[38;5;28mself\u001b[39m\u001b[38;5;241m.\u001b[39mcfg\u001b[38;5;241m.\u001b[39mhw\u001b[38;5;241m.\u001b[39msoc\u001b[38;5;241m.\u001b[39madcs\u001b[38;5;241m.\u001b[39mreadout\u001b[38;5;241m.\u001b[39mch\n",
      "File \u001b[1;32ms:\\Connie\\experiments\\qramLL_4QR2\\experiments\\clifford_averager_program.py:719\u001b[0m, in \u001b[0;36mCliffordAveragerProgram.acquire\u001b[1;34m(self, soc, load_pulses, progress, save_experiments)\u001b[0m\n\u001b[0;32m    717\u001b[0m     \u001b[38;5;28mself\u001b[39m\u001b[38;5;241m.\u001b[39mcfg\u001b[38;5;241m.\u001b[39mexpt\u001b[38;5;241m.\u001b[39mn_trig \u001b[38;5;241m=\u001b[39m \u001b[38;5;241m1\u001b[39m\n\u001b[0;32m    718\u001b[0m     \u001b[38;5;28mself\u001b[39m\u001b[38;5;241m.\u001b[39mcfg\u001b[38;5;241m.\u001b[39mexpt\u001b[38;5;241m.\u001b[39mn_init_readout \u001b[38;5;241m=\u001b[39m \u001b[38;5;241m0\u001b[39m\n\u001b[1;32m--> 719\u001b[0m \u001b[38;5;28;01mreturn\u001b[39;00m \u001b[38;5;28;43msuper\u001b[39;49m\u001b[43m(\u001b[49m\u001b[43m)\u001b[49m\u001b[38;5;241;43m.\u001b[39;49m\u001b[43macquire\u001b[49m\u001b[43m(\u001b[49m\u001b[43msoc\u001b[49m\u001b[43m,\u001b[49m\u001b[43m \u001b[49m\u001b[43mload_pulses\u001b[49m\u001b[38;5;241;43m=\u001b[39;49m\u001b[43mload_pulses\u001b[49m\u001b[43m,\u001b[49m\u001b[43m \u001b[49m\u001b[43mprogress\u001b[49m\u001b[38;5;241;43m=\u001b[39;49m\u001b[43mprogress\u001b[49m\u001b[43m,\u001b[49m\u001b[43m \u001b[49m\u001b[43mreadouts_per_experiment\u001b[49m\u001b[38;5;241;43m=\u001b[39;49m\u001b[38;5;241;43m1\u001b[39;49m\u001b[38;5;241;43m+\u001b[39;49m\u001b[38;5;28;43mself\u001b[39;49m\u001b[38;5;241;43m.\u001b[39;49m\u001b[43mcfg\u001b[49m\u001b[38;5;241;43m.\u001b[39;49m\u001b[43mexpt\u001b[49m\u001b[38;5;241;43m.\u001b[39;49m\u001b[43mn_trig\u001b[49m\u001b[38;5;241;43m*\u001b[39;49m\u001b[38;5;28;43mself\u001b[39;49m\u001b[38;5;241;43m.\u001b[39;49m\u001b[43mcfg\u001b[49m\u001b[38;5;241;43m.\u001b[39;49m\u001b[43mexpt\u001b[49m\u001b[38;5;241;43m.\u001b[39;49m\u001b[43mn_init_readout\u001b[49m\u001b[43m,\u001b[49m\u001b[43m \u001b[49m\u001b[43msave_experiments\u001b[49m\u001b[38;5;241;43m=\u001b[39;49m\u001b[43msave_experiments\u001b[49m\u001b[43m)\u001b[49m\n",
      "File \u001b[1;32mc:\\users\\slab\\qick\\qick_lib\\qick\\averager_program.py:106\u001b[0m, in \u001b[0;36mAveragerProgram.acquire\u001b[1;34m(self, soc, threshold, angle, readouts_per_experiment, save_experiments, load_pulses, start_src, progress, remove_offset)\u001b[0m\n\u001b[0;32m    103\u001b[0m \u001b[38;5;28;01mif\u001b[39;00m readouts_per_experiment \u001b[38;5;129;01mis\u001b[39;00m \u001b[38;5;129;01mnot\u001b[39;00m \u001b[38;5;28;01mNone\u001b[39;00m:\n\u001b[0;32m    104\u001b[0m     \u001b[38;5;28mself\u001b[39m\u001b[38;5;241m.\u001b[39mset_reads_per_shot(readouts_per_experiment)\n\u001b[1;32m--> 106\u001b[0m avg_d \u001b[38;5;241m=\u001b[39m \u001b[38;5;28;43msuper\u001b[39;49m\u001b[43m(\u001b[49m\u001b[43m)\u001b[49m\u001b[38;5;241;43m.\u001b[39;49m\u001b[43macquire\u001b[49m\u001b[43m(\u001b[49m\u001b[43msoc\u001b[49m\u001b[43m,\u001b[49m\u001b[43m \u001b[49m\u001b[43msoft_avgs\u001b[49m\u001b[38;5;241;43m=\u001b[39;49m\u001b[38;5;28;43mself\u001b[39;49m\u001b[38;5;241;43m.\u001b[39;49m\u001b[43msoft_avgs\u001b[49m\u001b[43m,\u001b[49m\u001b[43m \u001b[49m\u001b[43mload_pulses\u001b[49m\u001b[38;5;241;43m=\u001b[39;49m\u001b[43mload_pulses\u001b[49m\u001b[43m,\u001b[49m\u001b[43m \u001b[49m\u001b[43mstart_src\u001b[49m\u001b[38;5;241;43m=\u001b[39;49m\u001b[43mstart_src\u001b[49m\u001b[43m,\u001b[49m\u001b[43m \u001b[49m\u001b[43mthreshold\u001b[49m\u001b[38;5;241;43m=\u001b[39;49m\u001b[43mthreshold\u001b[49m\u001b[43m,\u001b[49m\u001b[43m \u001b[49m\u001b[43mangle\u001b[49m\u001b[38;5;241;43m=\u001b[39;49m\u001b[43mangle\u001b[49m\u001b[43m,\u001b[49m\u001b[43m \u001b[49m\u001b[43mprogress\u001b[49m\u001b[38;5;241;43m=\u001b[39;49m\u001b[43mprogress\u001b[49m\u001b[43m,\u001b[49m\u001b[43m \u001b[49m\u001b[43mremove_offset\u001b[49m\u001b[38;5;241;43m=\u001b[39;49m\u001b[43mremove_offset\u001b[49m\u001b[43m)\u001b[49m\n\u001b[0;32m    108\u001b[0m \u001b[38;5;66;03m# reformat the data into separate I and Q arrays\u001b[39;00m\n\u001b[0;32m    109\u001b[0m \u001b[38;5;66;03m# save results to class in case you want to look at it later or for analysis\u001b[39;00m\n\u001b[0;32m    110\u001b[0m raw \u001b[38;5;241m=\u001b[39m [d\u001b[38;5;241m.\u001b[39mreshape((\u001b[38;5;241m-\u001b[39m\u001b[38;5;241m1\u001b[39m,\u001b[38;5;241m2\u001b[39m)) \u001b[38;5;28;01mfor\u001b[39;00m d \u001b[38;5;129;01min\u001b[39;00m \u001b[38;5;28mself\u001b[39m\u001b[38;5;241m.\u001b[39mget_raw()]\n",
      "File \u001b[1;32mc:\\users\\slab\\qick\\qick_lib\\qick\\qick_asm.py:1701\u001b[0m, in \u001b[0;36mAcquireMixin.acquire\u001b[1;34m(self, soc, soft_avgs, load_pulses, start_src, threshold, angle, progress, remove_offset)\u001b[0m\n\u001b[0;32m   1698\u001b[0m soc\u001b[38;5;241m.\u001b[39mstart_readout(total_count, counter_addr\u001b[38;5;241m=\u001b[39m\u001b[38;5;28mself\u001b[39m\u001b[38;5;241m.\u001b[39mcounter_addr,\n\u001b[0;32m   1699\u001b[0m                        ch_list\u001b[38;5;241m=\u001b[39m\u001b[38;5;28mlist\u001b[39m(\u001b[38;5;28mself\u001b[39m\u001b[38;5;241m.\u001b[39mro_chs), reads_per_shot\u001b[38;5;241m=\u001b[39m\u001b[38;5;28mself\u001b[39m\u001b[38;5;241m.\u001b[39mreads_per_shot)\n\u001b[0;32m   1700\u001b[0m \u001b[38;5;28;01mwhile\u001b[39;00m count\u001b[38;5;241m<\u001b[39mtotal_count:\n\u001b[1;32m-> 1701\u001b[0m     new_data \u001b[38;5;241m=\u001b[39m obtain(\u001b[43msoc\u001b[49m\u001b[38;5;241;43m.\u001b[39;49m\u001b[43mpoll_data\u001b[49m\u001b[43m(\u001b[49m\u001b[43m)\u001b[49m)\n\u001b[0;32m   1702\u001b[0m     \u001b[38;5;28;01mfor\u001b[39;00m new_points, (d, s) \u001b[38;5;129;01min\u001b[39;00m new_data:\n\u001b[0;32m   1703\u001b[0m         \u001b[38;5;28;01mfor\u001b[39;00m ii, nreads \u001b[38;5;129;01min\u001b[39;00m \u001b[38;5;28menumerate\u001b[39m(\u001b[38;5;28mself\u001b[39m\u001b[38;5;241m.\u001b[39mreads_per_shot):\n\u001b[0;32m   1704\u001b[0m             \u001b[38;5;66;03m#print(count, new_points, nreads, d[ii].shape, total_count)\u001b[39;00m\n",
      "File \u001b[1;32mc:\\Users\\slab\\.conda\\envs\\slab\\lib\\site-packages\\Pyro4\\core.py:185\u001b[0m, in \u001b[0;36m_RemoteMethod.__call__\u001b[1;34m(self, *args, **kwargs)\u001b[0m\n\u001b[0;32m    183\u001b[0m \u001b[38;5;28;01mfor\u001b[39;00m attempt \u001b[38;5;129;01min\u001b[39;00m \u001b[38;5;28mrange\u001b[39m(\u001b[38;5;28mself\u001b[39m\u001b[38;5;241m.\u001b[39m__max_retries \u001b[38;5;241m+\u001b[39m \u001b[38;5;241m1\u001b[39m):\n\u001b[0;32m    184\u001b[0m     \u001b[38;5;28;01mtry\u001b[39;00m:\n\u001b[1;32m--> 185\u001b[0m         \u001b[38;5;28;01mreturn\u001b[39;00m \u001b[38;5;28;43mself\u001b[39;49m\u001b[38;5;241;43m.\u001b[39;49m\u001b[43m__send\u001b[49m\u001b[43m(\u001b[49m\u001b[38;5;28;43mself\u001b[39;49m\u001b[38;5;241;43m.\u001b[39;49m\u001b[43m__name\u001b[49m\u001b[43m,\u001b[49m\u001b[43m \u001b[49m\u001b[43margs\u001b[49m\u001b[43m,\u001b[49m\u001b[43m \u001b[49m\u001b[43mkwargs\u001b[49m\u001b[43m)\u001b[49m\n\u001b[0;32m    186\u001b[0m     \u001b[38;5;28;01mexcept\u001b[39;00m (errors\u001b[38;5;241m.\u001b[39mConnectionClosedError, errors\u001b[38;5;241m.\u001b[39mTimeoutError):\n\u001b[0;32m    187\u001b[0m         \u001b[38;5;66;03m# only retry for recoverable network errors\u001b[39;00m\n\u001b[0;32m    188\u001b[0m         \u001b[38;5;28;01mif\u001b[39;00m attempt \u001b[38;5;241m>\u001b[39m\u001b[38;5;241m=\u001b[39m \u001b[38;5;28mself\u001b[39m\u001b[38;5;241m.\u001b[39m__max_retries:\n\u001b[0;32m    189\u001b[0m             \u001b[38;5;66;03m# last attempt, raise the exception\u001b[39;00m\n",
      "File \u001b[1;32mc:\\Users\\slab\\.conda\\envs\\slab\\lib\\site-packages\\Pyro4\\core.py:453\u001b[0m, in \u001b[0;36mProxy._pyroInvoke\u001b[1;34m(self, methodname, vargs, kwargs, flags, objectId)\u001b[0m\n\u001b[0;32m    451\u001b[0m     \u001b[38;5;28;01mreturn\u001b[39;00m \u001b[38;5;28;01mNone\u001b[39;00m  \u001b[38;5;66;03m# oneway call, no response data\u001b[39;00m\n\u001b[0;32m    452\u001b[0m \u001b[38;5;28;01melse\u001b[39;00m:\n\u001b[1;32m--> 453\u001b[0m     msg \u001b[38;5;241m=\u001b[39m \u001b[43mmessage\u001b[49m\u001b[38;5;241;43m.\u001b[39;49m\u001b[43mMessage\u001b[49m\u001b[38;5;241;43m.\u001b[39;49m\u001b[43mrecv\u001b[49m\u001b[43m(\u001b[49m\u001b[38;5;28;43mself\u001b[39;49m\u001b[38;5;241;43m.\u001b[39;49m\u001b[43m_pyroConnection\u001b[49m\u001b[43m,\u001b[49m\u001b[43m \u001b[49m\u001b[43m[\u001b[49m\u001b[43mmessage\u001b[49m\u001b[38;5;241;43m.\u001b[39;49m\u001b[43mMSG_RESULT\u001b[49m\u001b[43m]\u001b[49m\u001b[43m,\u001b[49m\u001b[43m \u001b[49m\u001b[43mhmac_key\u001b[49m\u001b[38;5;241;43m=\u001b[39;49m\u001b[38;5;28;43mself\u001b[39;49m\u001b[38;5;241;43m.\u001b[39;49m\u001b[43m_pyroHmacKey\u001b[49m\u001b[43m)\u001b[49m\n\u001b[0;32m    454\u001b[0m     \u001b[38;5;28;01mif\u001b[39;00m config\u001b[38;5;241m.\u001b[39mLOGWIRE:\n\u001b[0;32m    455\u001b[0m         _log_wiredata(log, \u001b[38;5;124m\"\u001b[39m\u001b[38;5;124mproxy wiredata received\u001b[39m\u001b[38;5;124m\"\u001b[39m, msg)\n",
      "File \u001b[1;32mc:\\Users\\slab\\.conda\\envs\\slab\\lib\\site-packages\\Pyro4\\message.py:168\u001b[0m, in \u001b[0;36mMessage.recv\u001b[1;34m(cls, connection, requiredMsgTypes, hmac_key)\u001b[0m\n\u001b[0;32m    160\u001b[0m \u001b[38;5;129m@classmethod\u001b[39m\n\u001b[0;32m    161\u001b[0m \u001b[38;5;28;01mdef\u001b[39;00m \u001b[38;5;21mrecv\u001b[39m(\u001b[38;5;28mcls\u001b[39m, connection, requiredMsgTypes\u001b[38;5;241m=\u001b[39m\u001b[38;5;28;01mNone\u001b[39;00m, hmac_key\u001b[38;5;241m=\u001b[39m\u001b[38;5;28;01mNone\u001b[39;00m):\n\u001b[0;32m    162\u001b[0m \u001b[38;5;250m    \u001b[39m\u001b[38;5;124;03m\"\"\"\u001b[39;00m\n\u001b[0;32m    163\u001b[0m \u001b[38;5;124;03m    Receives a pyro message from a given connection.\u001b[39;00m\n\u001b[0;32m    164\u001b[0m \u001b[38;5;124;03m    Accepts the given message types (None=any, or pass a sequence).\u001b[39;00m\n\u001b[0;32m    165\u001b[0m \u001b[38;5;124;03m    Also reads annotation chunks and the actual payload data.\u001b[39;00m\n\u001b[0;32m    166\u001b[0m \u001b[38;5;124;03m    Validates a HMAC chunk if present.\u001b[39;00m\n\u001b[0;32m    167\u001b[0m \u001b[38;5;124;03m    \"\"\"\u001b[39;00m\n\u001b[1;32m--> 168\u001b[0m     msg \u001b[38;5;241m=\u001b[39m \u001b[38;5;28mcls\u001b[39m\u001b[38;5;241m.\u001b[39mfrom_header(\u001b[43mconnection\u001b[49m\u001b[38;5;241;43m.\u001b[39;49m\u001b[43mrecv\u001b[49m\u001b[43m(\u001b[49m\u001b[38;5;28;43mcls\u001b[39;49m\u001b[38;5;241;43m.\u001b[39;49m\u001b[43mheader_size\u001b[49m\u001b[43m)\u001b[49m)\n\u001b[0;32m    169\u001b[0m     msg\u001b[38;5;241m.\u001b[39mhmac_key \u001b[38;5;241m=\u001b[39m hmac_key\n\u001b[0;32m    170\u001b[0m     \u001b[38;5;28;01mif\u001b[39;00m \u001b[38;5;241m0\u001b[39m \u001b[38;5;241m<\u001b[39m config\u001b[38;5;241m.\u001b[39mMAX_MESSAGE_SIZE \u001b[38;5;241m<\u001b[39m (msg\u001b[38;5;241m.\u001b[39mdata_size \u001b[38;5;241m+\u001b[39m msg\u001b[38;5;241m.\u001b[39mannotations_size):\n",
      "File \u001b[1;32mc:\\Users\\slab\\.conda\\envs\\slab\\lib\\site-packages\\Pyro4\\socketutil.py:463\u001b[0m, in \u001b[0;36mSocketConnection.recv\u001b[1;34m(self, size)\u001b[0m\n\u001b[0;32m    462\u001b[0m \u001b[38;5;28;01mdef\u001b[39;00m \u001b[38;5;21mrecv\u001b[39m(\u001b[38;5;28mself\u001b[39m, size):\n\u001b[1;32m--> 463\u001b[0m     \u001b[38;5;28;01mreturn\u001b[39;00m \u001b[43mreceiveData\u001b[49m\u001b[43m(\u001b[49m\u001b[38;5;28;43mself\u001b[39;49m\u001b[38;5;241;43m.\u001b[39;49m\u001b[43msock\u001b[49m\u001b[43m,\u001b[49m\u001b[43m \u001b[49m\u001b[43msize\u001b[49m\u001b[43m)\u001b[49m\n",
      "File \u001b[1;32mc:\\Users\\slab\\.conda\\envs\\slab\\lib\\site-packages\\Pyro4\\socketutil.py:171\u001b[0m, in \u001b[0;36mreceiveData\u001b[1;34m(sock, size)\u001b[0m\n\u001b[0;32m    168\u001b[0m \u001b[38;5;28;01mtry\u001b[39;00m:\n\u001b[0;32m    169\u001b[0m     \u001b[38;5;28;01mwhile\u001b[39;00m msglen \u001b[38;5;241m<\u001b[39m size:\n\u001b[0;32m    170\u001b[0m         \u001b[38;5;66;03m# 60k buffer limit avoids problems on certain OSes like VMS, Windows\u001b[39;00m\n\u001b[1;32m--> 171\u001b[0m         chunk \u001b[38;5;241m=\u001b[39m \u001b[43msock\u001b[49m\u001b[38;5;241;43m.\u001b[39;49m\u001b[43mrecv\u001b[49m\u001b[43m(\u001b[49m\u001b[38;5;28;43mmin\u001b[39;49m\u001b[43m(\u001b[49m\u001b[38;5;241;43m60000\u001b[39;49m\u001b[43m,\u001b[49m\u001b[43m \u001b[49m\u001b[43msize\u001b[49m\u001b[43m \u001b[49m\u001b[38;5;241;43m-\u001b[39;49m\u001b[43m \u001b[49m\u001b[43mmsglen\u001b[49m\u001b[43m)\u001b[49m\u001b[43m)\u001b[49m\n\u001b[0;32m    172\u001b[0m         \u001b[38;5;28;01mif\u001b[39;00m \u001b[38;5;129;01mnot\u001b[39;00m chunk:\n\u001b[0;32m    173\u001b[0m             \u001b[38;5;28;01mbreak\u001b[39;00m\n",
      "\u001b[1;31mKeyboardInterrupt\u001b[0m: "
     ]
    }
   ],
   "source": [
    "for i, shots in tqdm(enumerate(shot_vec)):\n",
    "    \n",
    "    tomo_ILC = TomoILC(\n",
    "        IQ_pulse_seed=pulse_IQ, \n",
    "        gains_filename=pulse_filename, \n",
    "        nb_qubits=2, \n",
    "        n_shot_calib=shots, \n",
    "        n_shot_tomo=shots, \n",
    "        qubit_drive=[0, 1],\n",
    "        tomo_qubits=[0 ,2],\n",
    "        time_calib=60*10,\n",
    "        debug=False\n",
    "    )\n",
    "    \n",
    "    for j in range(nb_measurment):\n",
    "        \n",
    "        rho = tomo_ILC.get_tomo_results(pulse_IQ, ZZ_correction=False)\n",
    "        rho = qt.Qobj(rho)\n",
    "        rho.dims = rho_ideal.dims\n",
    "        fidelity = qt.fidelity(rho, rho_ideal)**2\n",
    "        \n",
    "        fidelity_vec[i,j] = fidelity\n"
   ]
  },
  {
   "cell_type": "code",
   "execution_count": 35,
   "metadata": {},
   "outputs": [
    {
     "data": {
      "application/vnd.jupyter.widget-view+json": {
       "model_id": "a82b1381b7884d0e9478bd314a166429",
       "version_major": 2,
       "version_minor": 0
      },
      "image/png": "[encoded data removed]",
      "text/html": [
       "\n",
       "            <div style=\"display: inline-block;\">\n",
       "                <div class=\"jupyter-widgets widget-label\" style=\"text-align: center;\">\n",
       "                    Figure\n",
       "                </div>\n",
       "                <img src='data:image/png;base64,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' width=800.0/>\n",
       "            </div>\n",
       "        "
      ],
      "text/plain": [
       "Canvas(toolbar=Toolbar(toolitems=[('Home', 'Reset original view', 'home', 'home'), ('Back', 'Back to previous …"
      ]
     },
     "metadata": {},
     "output_type": "display_data"
    }
   ],
   "source": [
    "fig, ax = plt.subplots(1, 1, figsize=(8, 4))\n",
    "\n",
    "# ax.errorbar(shot_vec, np.mean(fidelity_vec, axis=1), yerr=np.std(fidelity_vec, axis=1), fmt='o-', zorder=1)\n",
    "# ax.plot(shot_vec, fidelity_vec, 'o', alpha=0.1, color='black', zorder=0)\n",
    "ax.plot(shot_vec, np.std(fidelity_vec, axis=1)*100, 'o-', zorder=1)\n",
    "\n",
    "ax.set_xlabel('Number of shots')\n",
    "ax.set_ylabel('Fidelity')\n",
    "\n",
    "title = 'gain for post-selection no zz correction'\n",
    "ax.set_title(title)\n",
    "\n",
    "# save \n",
    "\n",
    "filename = f'fidelity_vs_shots_{title}.png'\n",
    "\n",
    "fig.savefig(filename)"
   ]
  },
  {
   "cell_type": "code",
   "execution_count": null,
   "metadata": {},
   "outputs": [],
   "source": []
  },
  {
   "cell_type": "code",
   "execution_count": null,
   "metadata": {},
   "outputs": [],
   "source": []
  }
 ],
 "metadata": {
  "kernelspec": {
   "display_name": "base",
   "language": "python",
   "name": "python3"
  },
  "language_info": {
   "codemirror_mode": {
    "name": "ipython",
    "version": 3
   },
   "file_extension": ".py",
   "mimetype": "text/x-python",
   "name": "python",
   "nbconvert_exporter": "python",
   "pygments_lexer": "ipython3",
   "version": "3.9.19"
  }
 },
 "nbformat": 4,
 "nbformat_minor": 2
}
