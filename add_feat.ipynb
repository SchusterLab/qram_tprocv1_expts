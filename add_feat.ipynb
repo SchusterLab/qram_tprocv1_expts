{
 "cells": [
  {
   "cell_type": "code",
   "execution_count": null,
   "metadata": {},
   "outputs": [],
   "source": [
    "\n",
    "# %% Add second axis, error bar\n",
    "\n",
    "logA = np.mean(np.log(filt5k[1]))+1  # This tries to esimate the impact of imperfect prep \n",
    "def error_prop(x, a): return 1/x/(a+np.log(x)**2)\n",
    "err = error_prop(filt5k[1], logA)\n",
    "T1=1\n",
    "\n",
    "\n",
    "fig, ax1 = plt.subplots()\n",
    "\n",
    "\n",
    "T1_norm = - 1/np.log(filt5k[1]) # Not corrected \n",
    "#plt.plot(T1_norm[skip:])\n",
    "fig, ax1 = plt.subplots()\n",
    "\n",
    "\n",
    "ax1.errorbar(y=T1_norm_corr[skip:], err=err[skip:])\n",
    "ax2 = ax1.twinx()  # instantiate a second axes that shares the same x-axis\n",
    "ax2.set_ylabel('$T_1/\\overline{T_1}$')\n",
    "plot_lim=ax1.get_ylim()\n",
    "ax2.set_ylim(plot_lim[0]/T1, plot_lim[1]/T1)\n"
   ]
  },
  {
   "cell_type": "code",
   "execution_count": null,
   "metadata": {},
   "outputs": [],
   "source": [
    "npoints =len(data)\n",
    "avg_points =5e4\n",
    "\n",
    "param_array=np.array([]).reshape(0,6)\n",
    "for i in range(int(npoints/avg_points)):\n",
    "    d = data[i*int(avg_points):(i+1)*int(avg_points)]\n",
    "    # Create the histogram data\n",
    "    hist, bin_edges = np.histogram(d, bins=100, density=True)\n",
    "    bin_centres = (bin_edges[:-1] + bin_edges[1:]) / 2\n",
    "\n",
    "    # Fit the histogram data to the sum of two Gaussian functions\n",
    "    params, params_covariance = curve_fit(two_gaussians, bin_centres, hist, p0=guess)\n",
    "\n",
    "    # Print the parameters\n",
    "    param_array=np.vstack((param_array,params))\n",
    "\n",
    "\n",
    "plt.plot(param_array[:,1],'.-')\n",
    "plt.xlabel('Data set')\n",
    "plt.ylabel('Mean value 0 gaussian')\n",
    "plt.title('Averaging 50k points per set = 15 min')\n",
    "plt.savefig('mean_gaussian0_v2.png')\n",
    "# %%\n",
    "plt.plot(param_array[:,2],'.-')\n",
    "# %%\n",
    "plt.plot(param_array[:,3],'.-')\n",
    "# %%\n",
    "plt.plot(param_array[:,1],'.-')\n",
    "plt.plot(param_array[:,4],'.-')\n",
    "plt.xlabel('Data set')\n",
    "plt.ylabel('Mean value 0 and 1 gaussians')\n",
    "plt.title('Averaging 50k points per set = 15 min')\n",
    "plt.savefig('mean_gaussian01_v2.png')\n",
    "\n"
   ]
  }
 ],
 "metadata": {
  "language_info": {
   "name": "python"
  }
 },
 "nbformat": 4,
 "nbformat_minor": 2
}
