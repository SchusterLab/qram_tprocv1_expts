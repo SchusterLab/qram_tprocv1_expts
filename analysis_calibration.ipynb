{
 "cells": [
  {
   "cell_type": "code",
   "execution_count": 28,
   "metadata": {},
   "outputs": [
    {
     "name": "stdout",
     "output_type": "stream",
     "text": [
      "The autoreload extension is already loaded. To reload it, use:\n",
      "  %reload_ext autoreload\n"
     ]
    }
   ],
   "source": [
    "%load_ext autoreload\n",
    "%autoreload 2\n",
    "# %matplotlib qt5\n",
    "%matplotlib inline"
   ]
  },
  {
   "cell_type": "code",
   "execution_count": 271,
   "metadata": {},
   "outputs": [],
   "source": [
    "import numpy as np\n",
    "import matplotlib.pyplot as plt\n",
    "from copy import deepcopy\n",
    "from scipy.optimize import curve_fit\n",
    "\n",
    "\n",
    "from qick import *\n",
    "from qick.helpers import gauss\n",
    "\n",
    "import h5py\n",
    "\n",
    "import time\n",
    "import os\n",
    "import sys\n",
    "sys.path.append('/home/xilinx/jupyter_notebooks/')\n",
    "import scipy as sp\n",
    "import json\n",
    "from scipy.fft import fft, fftfreq\n",
    "import Pyro4.util\n",
    "\n",
    "from slab.instruments import *\n",
    "from slab.experiment import Experiment\n",
    "from slab.datamanagement import SlabFile\n",
    "from slab import get_next_filename, AttrDict"
   ]
  },
  {
   "cell_type": "code",
   "execution_count": 2,
   "metadata": {},
   "outputs": [
    {
     "name": "stdout",
     "output_type": "stream",
     "text": [
      "imported experiments.clifford_averager_program\n",
      "imported experiments.fitting\n",
      "imported experiments.four_qubit.fourQ_state_tomo\n",
      "imported experiments.qram_protocol_timestepped\n",
      "imported experiments.single_qubit.acstarkshift_spectroscopy\n",
      "imported experiments.single_qubit.amplitude_rabi\n",
      "imported experiments.single_qubit.length_rabi\n",
      "imported experiments.single_qubit.pulse_probe_spectroscopy\n",
      "imported experiments.single_qubit.resonator_spectroscopy\n",
      "imported experiments.single_qubit.rfsoc_tof_calibration\n",
      "imported experiments.single_qubit.single_shot\n",
      "imported experiments.single_qubit.t1\n",
      "imported experiments.single_qubit.t2_ramsey\n",
      "imported experiments.three_qubit.threeQ_state_tomo\n",
      "imported experiments.two_qubit.amplitude_rabi_EgGf\n",
      "imported experiments.two_qubit.amplitude_rabi_f0g1\n",
      "imported experiments.two_qubit.amprabi_opt_ctrl_state_prep\n",
      "imported experiments.two_qubit.crosstalk_echo_calib\n",
      "imported experiments.two_qubit.length_rabi_EgGf\n",
      "imported experiments.two_qubit.length_rabi_F0G1\n",
      "imported experiments.two_qubit.phase_calib_EgGf\n",
      "imported experiments.two_qubit.pulse_probe_EgGf_spectroscopy\n",
      "imported experiments.two_qubit.randbench\n",
      "imported experiments.two_qubit.random_test_pulses\n",
      "imported experiments.two_qubit.twoqutrit_state_tomography\n",
      "imported experiments.two_qubit.twoQ_state_tomography\n"
     ]
    }
   ],
   "source": [
    "sys.path.append(os.getcwd()+'/../../qutip_sims')\n",
    "from QSwitch import QSwitch\n",
    "from PulseSequence import PulseSequence\n",
    "import experiments as meas\n",
    "from TomoAnalysis import TomoAnalysis\n",
    "tomo_analysis = TomoAnalysis(nb_qubits=3)\n",
    "import qutip as qt\n",
    "import matplotlib.style as style\n",
    "style.use('S:\\Connie\\prx.mplstyle')"
   ]
  },
  {
   "cell_type": "code",
   "execution_count": 3,
   "metadata": {},
   "outputs": [],
   "source": [
    "\"\"\"Reopen saved data\"\"\"\n",
    "def prev_data(expt_path, filename=None):\n",
    "    temp_data_file = expt_path\n",
    "    if filename is not None: temp_data_file = os.path.join(expt_path, filename)\n",
    "    print(temp_data_file)\n",
    "    with SlabFile(temp_data_file) as a:\n",
    "        attrs = dict()\n",
    "        for key in list(a.attrs):\n",
    "            attrs.update({key:json.loads(a.attrs[key])})\n",
    "        keys = list(a)\n",
    "        temp_data = dict()\n",
    "        for key in keys:\n",
    "            temp_data.update({key:np.array(a[key])})\n",
    "        print(f'Extracted data and attrs {list(a.attrs)}')\n",
    "    return temp_data, attrs"
   ]
  },
  {
   "cell_type": "code",
   "execution_count": 5,
   "metadata": {},
   "outputs": [
    {
     "name": "stdout",
     "output_type": "stream",
     "text": [
      "Config will be s:\\Connie\\experiments\\qram_tprocv1_expts\\configs\\config_q3diamond_full688and638_reset.yml\n"
     ]
    }
   ],
   "source": [
    "# config_file = 'config_zcu216.yml'\n",
    "# config_file = 'config_q3diamond.yml'\n",
    "config_file = 'config_q3diamond_full688and638_reset.yml'\n",
    "config_path = os.path.join('s:\\\\Connie\\\\experiments\\\\qram_tprocv1_expts\\\\configs\\\\', config_file)\n",
    "print('Config will be', config_path)"
   ]
  },
  {
   "cell_type": "markdown",
   "metadata": {},
   "source": [
    "# Save paths"
   ]
  },
  {
   "cell_type": "code",
   "execution_count": 162,
   "metadata": {},
   "outputs": [],
   "source": [
    "save_plot_path = 'S:\\\\QRAM\\\\qram_4QR2\\\\plots\\\\paper'"
   ]
  },
  {
   "cell_type": "markdown",
   "metadata": {},
   "source": [
    "# Swap length rabi"
   ]
  },
  {
   "cell_type": "code",
   "execution_count": 294,
   "metadata": {},
   "outputs": [],
   "source": [
    "data_dir = 'S:\\QRAM\\qram_4QR2\\data'"
   ]
  },
  {
   "cell_type": "code",
   "execution_count": 295,
   "metadata": {},
   "outputs": [],
   "source": [
    "filename_q1q3_right = '00071_length_rabi_EgGf_qubit31.h5'\n",
    "filename_q1q3_wrong = '00072_length_rabi_EgGf_qubit31.h5'\n",
    "filename_q1q2_right = '00070_length_rabi_EgGf_qubit21.h5'\n",
    "filename_q1q2_wrong = '00071_length_rabi_EgGf_qubit21.h5'\n",
    "\n",
    "folder = 'data_250119'\n",
    "\n",
    "files = []\n",
    "\n",
    "for f in [filename_q1q3_right, filename_q1q3_wrong, filename_q1q2_right, filename_q1q2_wrong]:\n",
    "    file = h5py.File(data_dir + '/' + folder + '/' + f, 'r')\n",
    "    files.append(file)"
   ]
  },
  {
   "cell_type": "code",
   "execution_count": 296,
   "metadata": {},
   "outputs": [
    {
     "name": "stderr",
     "output_type": "stream",
     "text": [
      "DeprecationWarning: `product` is deprecated as of NumPy 1.25.0, and will be removed in NumPy 2.0. Please use `prod` instead.\n",
      " C:\\Users\\slab\\AppData\\Local\\Temp\\ipykernel_27764\\3192873655.py: 1DeprecationWarning: `product` is deprecated as of NumPy 1.25.0, and will be removed in NumPy 2.0. Please use `prod` instead.\n",
      " C:\\Users\\slab\\AppData\\Local\\Temp\\ipykernel_27764\\3192873655.py: 2DeprecationWarning: `product` is deprecated as of NumPy 1.25.0, and will be removed in NumPy 2.0. Please use `prod` instead.\n",
      " C:\\Users\\slab\\AppData\\Local\\Temp\\ipykernel_27764\\3192873655.py: 3DeprecationWarning: `product` is deprecated as of NumPy 1.25.0, and will be removed in NumPy 2.0. Please use `prod` instead.\n",
      " C:\\Users\\slab\\AppData\\Local\\Temp\\ipykernel_27764\\3192873655.py: 4DeprecationWarning: `product` is deprecated as of NumPy 1.25.0, and will be removed in NumPy 2.0. Please use `prod` instead.\n",
      " C:\\Users\\slab\\AppData\\Local\\Temp\\ipykernel_27764\\3192873655.py: 8DeprecationWarning: `product` is deprecated as of NumPy 1.25.0, and will be removed in NumPy 2.0. Please use `prod` instead.\n",
      " C:\\Users\\slab\\AppData\\Local\\Temp\\ipykernel_27764\\3192873655.py: 9DeprecationWarning: `product` is deprecated as of NumPy 1.25.0, and will be removed in NumPy 2.0. Please use `prod` instead.\n",
      " C:\\Users\\slab\\AppData\\Local\\Temp\\ipykernel_27764\\3192873655.py: 11DeprecationWarning: `product` is deprecated as of NumPy 1.25.0, and will be removed in NumPy 2.0. Please use `prod` instead.\n",
      " C:\\Users\\slab\\AppData\\Local\\Temp\\ipykernel_27764\\3192873655.py: 12"
     ]
    }
   ],
   "source": [
    "t13_right = 2*np.asarray(files[0]['xpts']) # multiply by 2 to get the pi length\n",
    "t13_wrong = 2*np.asarray(files[1]['xpts'])\n",
    "t12_right = 2*np.asarray(files[2]['xpts'])\n",
    "t12_wrong = 2*np.asarray(files[3]['xpts'])\n",
    "\n",
    "# amp_13_right = np.asarray(files[0]['avgi'])\n",
    "# amp_13_wrong = np.asarray(files[1]['avgi'])\n",
    "amp_13_right = np.asarray(files[0]['amps'])\n",
    "amp_13_wrong = np.asarray(files[1]['amps'])\n",
    "\n",
    "amp_12_right = np.asarray(files[2]['avgi'])\n",
    "amp_12_wrong = np.asarray(files[3]['avgi'])\n",
    "\n",
    "# amp_13_right = np.abs(np.asarray(files[0]['avgi']) + 1j*np.asarray(files[0]['avgq']))\n",
    "# amp_13_wrong = np.abs(np.asarray(files[1]['avgi']) + 1j*np.asarray(files[1]['avgq']))\n",
    "# amp_12_right = np.abs(np.asarray(files[2]['avgi']) + 1j*np.asarray(files[2]['avgq']))\n",
    "# amp_12_wrong = np.abs(np.asarray(files[3]['avgi']) + 1j*np.asarray(files[3]['avgq']))"
   ]
  },
  {
   "cell_type": "code",
   "execution_count": 297,
   "metadata": {},
   "outputs": [
    {
     "name": "stdout",
     "output_type": "stream",
     "text": [
      "25011900071_25011900072_25011900070_25011900071__length_rabi_EgGf\n",
      "Saving S:\\QRAM\\qram_4QR2\\plots\\paper\\rabi_eg_gf_25011900071_25011900072_25011900070_25011900071__length_rabi_EgGf.pdf\n",
      "Saving S:\\QRAM\\qram_4QR2\\plots\\paper\\rabi_eg_gf_25011900071_25011900072_25011900070_25011900071__length_rabi_EgGf.svg\n"
     ]
    },
    {
     "data": {
      "image/png": "[encoded data removed]",
      "text/plain": [
       "<Figure size 250x300 with 2 Axes>"
      ]
     },
     "metadata": {},
     "output_type": "display_data"
    }
   ],
   "source": [
    "color_dict = {'q1q3_right': '#5b9faeff', 'q1q3_wrong': '#2f5760ff', 'q1q2_right': '#e5717aff', 'q1q2_wrong': '#a31f29ff'}\n",
    "\n",
    "fig, ax = plt.subplots(2, 1, figsize=(2.5, 3))\n",
    "\n",
    "\n",
    "y3_right = amp_13_right[0]\n",
    "y3_wrong = amp_13_wrong[0]\n",
    "\n",
    "y13_1_scaled = (y3_right - y3_right[0])/(np.max(y3_right) - np.min(y3_right))\n",
    "# y13_2_scaled = (y2 - np.min(y3_right))/(np.max(y3_right) - np.min(y3_right)) \n",
    "y13_2_scaled = (y3_wrong - y3_wrong[0])/(np.max(y3_right) - np.min(y3_right)) \n",
    "\n",
    "# y13_1_scaled = y \n",
    "# y13_2_scaled = y2\n",
    "\n",
    "\n",
    "y2_right = amp_12_right[0]\n",
    "y2_wrong = amp_12_wrong[0]\n",
    "\n",
    "y12_1_scaled = (y2_right - y2_right[0])/(np.max(y2_right) - np.min(y2_right))\n",
    "# y12_2_scaled = (y2 - np.min(y2_right))/(np.max(y2_right) - np.min(y2_right))\n",
    "y12_2_scaled = (y2_wrong - y2_wrong[0])/(np.max(y2_right) - np.min(y2_right))\n",
    "\n",
    "# y12_1_scaled = y \n",
    "# y12_2_scaled = y2\n",
    "\n",
    "\n",
    "# fit both with a sine function\n",
    "\n",
    "# def fit_sin(x, A, B, C, D):\n",
    "#     return A*np.sin(B*x + C) + D\n",
    "\n",
    "# popt1, pcov1 = opt.curve_fit(fit_sin, t13_right, y13_1_scaled, p0=[0.5, 2*np.pi/0.5, np.pi/2, 0.5], maxfev=10000)\n",
    "# popt2, pcov2 = opt.curve_fit(fit_sin, t13_wrong, y13_2_scaled, p0=[0.05, 2*np.pi/4, np.pi/2, 0.01], maxfev=10000)\n",
    "# popt3, pcov3 = opt.curve_fit(fit_sin, t12_right, y12_1_scaled, p0=[0.5, 2*np.pi/0.5, np.pi/2, 0.5], maxfev=10000)\n",
    "# popt4, pcov4 = opt.curve_fit(fit_sin, t12_wrong, y12_2_scaled, p0=[0.05, 2*np.pi/4, np.pi/2, 0.01], maxfev=10000)\n",
    "\n",
    "# y13_1_fit = fit_sin(t13_right, *popt1)\n",
    "# y13_2_fit = fit_sin(t13_wrong, *popt2)\n",
    "# y12_1_fit = fit_sin(t12_right, *popt3)\n",
    "# y12_2_fit = fit_sin(t12_wrong, *popt4)\n",
    "\n",
    "# idx_stop_12 = -1\n",
    "# idx_stop_13 = -1\n",
    "idx_stop_12 = np.argmax(y12_1_scaled)# + 2\n",
    "idx_stop_13 = np.argmax(y13_1_scaled)# + 2\n",
    "\n",
    "ax[1].plot(t13_right[:idx_stop_13], y13_1_scaled[:idx_stop_13], 'o-', label=r'$|e\\rangle$', color=color_dict['q1q3_right'])\n",
    "ax[1].plot(t13_wrong[:idx_stop_13], y13_2_scaled[:idx_stop_13], 'o-', label=r'$|g\\rangle$', color=color_dict['q1q3_wrong'])\n",
    "# ax[1].plot(t13_right[:idx_stop_13], y13_1_fit[:idx_stop_13], color=color_dict['q1q3_right'])\n",
    "# ax[1].plot(t13_wrong[:idx_stop_13], y13_2_fit[:idx_stop_13], color=color_dict['q1q3_wrong'])\n",
    "# set subtitle\n",
    "# ax[1].set_title('input - output 2')\n",
    "\n",
    "ax[0].plot(t12_right[:idx_stop_12], y12_1_scaled[:idx_stop_12], 'o-', label=r'$|g\\rangle$', color=color_dict['q1q2_right'])\n",
    "ax[0].plot(t12_wrong[:idx_stop_12], y12_2_scaled[:idx_stop_12], 'o-', label=r'$|e\\rangle$', color=color_dict['q1q2_wrong'])\n",
    "# ax[0].plot(t12_right[:idx_stop_12], y12_1_fit[:idx_stop_12], color=color_dict['q1q2_right'])\n",
    "# ax[0].plot(t12_wrong[:idx_stop_12], y12_2_fit[:idx_stop_12], color=color_dict['q1q2_wrong'])\n",
    "# set subtitle\n",
    "# ax[0].set_title('input - output 1')\n",
    "\n",
    "ax[0].set_ylabel(r'Pop. $|e\\rangle$ out1')\n",
    "ax[1].set_ylabel(r'Pop. $|e\\rangle$ out2')\n",
    "\n",
    "ax[1].set_xlabel('Pulse Length (us)')\n",
    "\n",
    "ax[0].legend(title='switch state', frameon=False)\n",
    "ax[1].legend(title='switch state', frameon=False)\n",
    "\n",
    "fig.tight_layout()\n",
    "\n",
    "filenames = [filename_q1q3_right, filename_q1q3_wrong, filename_q1q2_right, filename_q1q2_wrong]\n",
    "\n",
    "filepaths_str = '_'.join([folder[5:] + filename[:5] for filename in filenames]) + '_'+filenames[0][5:-11]\n",
    "\n",
    "print(filepaths_str)\n",
    "\n",
    "savename = os.path.join(save_plot_path, f'rabi_eg_gf_{filepaths_str}.pdf')\n",
    "print(\"Saving\", savename)\n",
    "fig.savefig(savename)\n",
    "\n",
    "savename = os.path.join(save_plot_path, f'rabi_eg_gf_{filepaths_str}.svg')\n",
    "print(\"Saving\", savename)\n",
    "fig.savefig(savename)"
   ]
  },
  {
   "cell_type": "markdown",
   "metadata": {},
   "source": [
    "# Chevron right / wrong state"
   ]
  },
  {
   "cell_type": "code",
   "execution_count": 298,
   "metadata": {},
   "outputs": [],
   "source": [
    "chevron_filename_q1q3_right = '00000_rabi_EgGf_freqlen_chevron_qubit31.h5'\n",
    "chevron_filename_q1q3_wrong = '00001_rabi_EgGf_freqlen_chevron_qubit31.h5'\n",
    "chevron_filename_q1q2_right = '00000_rabi_EgGf_freqlen_chevron_qubit21.h5'\n",
    "chevron_filename_q1q2_wrong = '00001_rabi_EgGf_freqlen_chevron_qubit21.h5'\n",
    "\n",
    "\n",
    "folder = 'data_250119'\n",
    "\n",
    "files = []\n",
    "\n",
    "for f in [chevron_filename_q1q3_right, chevron_filename_q1q3_wrong, chevron_filename_q1q2_right, chevron_filename_q1q2_wrong]:\n",
    "    file = h5py.File(data_dir + '/' + folder + '/' + f, 'r')\n",
    "    files.append(file)"
   ]
  },
  {
   "cell_type": "code",
   "execution_count": 299,
   "metadata": {},
   "outputs": [
    {
     "name": "stderr",
     "output_type": "stream",
     "text": [
      "DeprecationWarning: `product` is deprecated as of NumPy 1.25.0, and will be removed in NumPy 2.0. Please use `prod` instead.\n",
      " C:\\Users\\slab\\AppData\\Local\\Temp\\ipykernel_27764\\1392855038.py: 5DeprecationWarning: `product` is deprecated as of NumPy 1.25.0, and will be removed in NumPy 2.0. Please use `prod` instead.\n",
      " C:\\Users\\slab\\AppData\\Local\\Temp\\ipykernel_27764\\1392855038.py: 6DeprecationWarning: `product` is deprecated as of NumPy 1.25.0, and will be removed in NumPy 2.0. Please use `prod` instead.\n",
      " C:\\Users\\slab\\AppData\\Local\\Temp\\ipykernel_27764\\1392855038.py: 7DeprecationWarning: `product` is deprecated as of NumPy 1.25.0, and will be removed in NumPy 2.0. Please use `prod` instead.\n",
      " C:\\Users\\slab\\AppData\\Local\\Temp\\ipykernel_27764\\1392855038.py: 8DeprecationWarning: `product` is deprecated as of NumPy 1.25.0, and will be removed in NumPy 2.0. Please use `prod` instead.\n",
      " C:\\Users\\slab\\AppData\\Local\\Temp\\ipykernel_27764\\1392855038.py: 10DeprecationWarning: `product` is deprecated as of NumPy 1.25.0, and will be removed in NumPy 2.0. Please use `prod` instead.\n",
      " C:\\Users\\slab\\AppData\\Local\\Temp\\ipykernel_27764\\1392855038.py: 11DeprecationWarning: `product` is deprecated as of NumPy 1.25.0, and will be removed in NumPy 2.0. Please use `prod` instead.\n",
      " C:\\Users\\slab\\AppData\\Local\\Temp\\ipykernel_27764\\1392855038.py: 12DeprecationWarning: `product` is deprecated as of NumPy 1.25.0, and will be removed in NumPy 2.0. Please use `prod` instead.\n",
      " C:\\Users\\slab\\AppData\\Local\\Temp\\ipykernel_27764\\1392855038.py: 13DeprecationWarning: `product` is deprecated as of NumPy 1.25.0, and will be removed in NumPy 2.0. Please use `prod` instead.\n",
      " C:\\Users\\slab\\AppData\\Local\\Temp\\ipykernel_27764\\1392855038.py: 15DeprecationWarning: `product` is deprecated as of NumPy 1.25.0, and will be removed in NumPy 2.0. Please use `prod` instead.\n",
      " C:\\Users\\slab\\AppData\\Local\\Temp\\ipykernel_27764\\1392855038.py: 16DeprecationWarning: `product` is deprecated as of NumPy 1.25.0, and will be removed in NumPy 2.0. Please use `prod` instead.\n",
      " C:\\Users\\slab\\AppData\\Local\\Temp\\ipykernel_27764\\1392855038.py: 17DeprecationWarning: `product` is deprecated as of NumPy 1.25.0, and will be removed in NumPy 2.0. Please use `prod` instead.\n",
      " C:\\Users\\slab\\AppData\\Local\\Temp\\ipykernel_27764\\1392855038.py: 18"
     ]
    }
   ],
   "source": [
    "qb_plot = 0\n",
    "data_13 = 'amps'\n",
    "data_12 = 'avgi'\n",
    "\n",
    "amp_13_right = np.asarray(files[0][data_13])\n",
    "amp_13_wrong = np.asarray(files[1][data_13])\n",
    "amp_12_right = np.asarray(files[2][data_12])\n",
    "amp_12_wrong = np.asarray(files[3][data_12])\n",
    "\n",
    "freqs_13_right = np.asarray(files[0]['freqpts'])\n",
    "freqs_13_wrong = np.asarray(files[1]['freqpts'])\n",
    "freqs_12_right = np.asarray(files[2]['freqpts'])\n",
    "freqs_12_wrong = np.asarray(files[3]['freqpts'])\n",
    "\n",
    "t13_right = np.asarray(files[0]['lenpts'])*2*1e-3\n",
    "t13_wrong = np.asarray(files[1]['lenpts'])*2*1e-3\n",
    "t12_right = np.asarray(files[2]['lenpts'])*2*1e-3\n",
    "t12_wrong = np.asarray(files[3]['lenpts'])*2*1e-3\n",
    "\n",
    "\n"
   ]
  },
  {
   "cell_type": "code",
   "execution_count": 300,
   "metadata": {},
   "outputs": [],
   "source": [
    "import matplotlib as mpl"
   ]
  },
  {
   "cell_type": "code",
   "execution_count": 315,
   "metadata": {},
   "outputs": [
    {
     "name": "stdout",
     "output_type": "stream",
     "text": [
      "Saving S:\\QRAM\\qram_4QR2\\plots\\paper\\chevron_25011900000_25011900001__rabi_EgGf_freqlen_chevron_13.pdf\n",
      "Saving S:\\QRAM\\qram_4QR2\\plots\\paper\\chevron_25011900000_25011900001__rabi_EgGf_freqlen_chevron_12.pdf\n",
      "Saving S:\\QRAM\\qram_4QR2\\plots\\paper\\chevron_25011900000_25011900001__rabi_EgGf_freqlen_chevron_13.svg\n"
     ]
    },
    {
     "name": "stderr",
     "output_type": "stream",
     "text": [
      "RuntimeWarning: invalid value encountered in log10\n",
      " C:\\Users\\slab\\AppData\\Roaming\\Python\\Python39\\site-packages\\matplotlib\\ticker.py: 2937"
     ]
    },
    {
     "name": "stdout",
     "output_type": "stream",
     "text": [
      "Saving S:\\QRAM\\qram_4QR2\\plots\\paper\\chevron_25011900000_25011900001__rabi_EgGf_freqlen_chevron_12.svg\n"
     ]
    },
    {
     "data": {
      "image/png": "[encoded data removed]",
      "text/plain": [
       "<Figure size 212.5x285 with 3 Axes>"
      ]
     },
     "metadata": {},
     "output_type": "display_data"
    },
    {
     "data": {
      "image/png": "[encoded data removed]",
      "text/plain": [
       "<Figure size 212.5x285 with 3 Axes>"
      ]
     },
     "metadata": {},
     "output_type": "display_data"
    }
   ],
   "source": [
    "# fig, axes = plt.subplots(gridspec_kw={'height_ratios': [3, 1], 'width_ratios':[1, 0.05]}, figsize=(2.5, 3))\n",
    "\n",
    "fig, ax = plt.subplots(2, 1, figsize=(2.5*0.85, 3*0.95), sharex=True)\n",
    "fig.subplots_adjust(hspace=0.1)\n",
    "\n",
    "f_right_13 = 5139.60\n",
    "f_wrong_13 = f_right_13 - 6.5\n",
    "\n",
    "f_right_12 = 5884.11\n",
    "f_wrong_12 = f_right_12 + 4.8\n",
    "\n",
    "y_12_right = -amp_12_right[qb_plot].T ## minus sign to match the amplitude of the other qubit\n",
    "y_12_wrong = -amp_12_wrong[qb_plot].T\n",
    "\n",
    "y_12_right_scaled = (y_12_right - y_12_right[0])/(np.max(y_12_right) - np.min(y_12_right))\n",
    "y_12_wrong_scaled = (y_12_wrong - y_12_wrong[0])/(np.max(y_12_right) - np.min(y_12_right))\n",
    "\n",
    "y_13_right = amp_13_right[qb_plot].T\n",
    "y_13_wrong = amp_13_wrong[qb_plot].T \n",
    "y_13_right_scaled = (y_13_right - y_13_right[0])/(np.max(y_13_right) - np.min(y_13_right))\n",
    "y_13_wrong_scaled = (y_13_wrong - y_13_wrong[0])/(np.max(y_13_right) - np.min(y_13_right))\n",
    "\n",
    "\n",
    "x_12_right = freqs_12_right # - f_right_12\n",
    "x_12_wrong = freqs_12_wrong # - f_right_12\n",
    "\n",
    "x_13_right = freqs_13_right # - f_right_13\n",
    "x_13_wrong = freqs_13_wrong # - f_right_13\n",
    "\n",
    "\n",
    "ax[0].pcolor(x_13_right, t13_right*1e3,y_13_right_scaled, cmap='viridis')\n",
    "ax[1].pcolor(x_13_wrong, t13_wrong*1e3, y_13_wrong_scaled, cmap='viridis')\n",
    "\n",
    "ax[1].set_ylabel('Pulse Length (us)')\n",
    "ax[0].set_ylabel('Pulse Length (us)')\n",
    "ax[1].set_xticks([f_right_13, f_wrong_13])\n",
    "\n",
    "\n",
    "# add a colorbar\n",
    "\n",
    "cbar = fig.colorbar(mpl.cm.ScalarMappable(norm=mpl.colors.Normalize(vmin=0, vmax=1), cmap='viridis'), ax=ax, location='right', aspect=25, ticks=[0, 0.5, 1], fraction=0.05, pad=0.1)\n",
    "cbar.ax.set_title(r'Pop. $|e\\rangle$' + '\\nout2', fontsize=10)\n",
    "\n",
    "# put the colorbar closer to the figurer\n",
    "\n",
    "cbar.ax.yaxis.set_ticks_position('right')\n",
    "cbar.ax.yaxis.set_label_position('right')\n",
    "\n",
    "# ax[1].set_xlabel('$f - f_\\mathrm{eg-gf}^\\mathrm{in-out2}$ (MHz)')\n",
    "ax[1].set_xlabel('Drive Frequency (MHz)')\n",
    "\n",
    "\n",
    "\n",
    "# fig.tight_layout()\n",
    "\n",
    "\n",
    "fig2, ax2 = plt.subplots(2, 1, figsize=(2.5*0.85, 3*0.95), sharex=True)\n",
    "fig2.subplots_adjust(hspace=0.1)\n",
    "\n",
    "\n",
    "ax2[0].pcolor(x_12_right, t12_right*1e3, y_12_right_scaled, cmap='viridis')\n",
    "ax2[1].pcolor(x_12_wrong, t12_wrong*1e3, y_12_wrong_scaled, cmap='viridis')\n",
    "\n",
    "# ax2[1].set_xlabel('$f - f_\\mathrm{eg-gf}^\\mathrm{in-out1}$ (MHz)')\n",
    "ax2[1].set_xlabel('Drive Frequency (MHz)')\n",
    "ax2[1].set_ylabel('Pulse Length (us)')\n",
    "ax2[0].set_ylabel('Pulse Length (us)')\n",
    "ax2[1].set_xticks([f_right_12, f_wrong_12])\n",
    "\n",
    "\n",
    "\n",
    "cbar = fig.colorbar(mpl.cm.ScalarMappable(norm=mpl.colors.Normalize(vmin=0, vmax=1), cmap='viridis'), ax=ax2, location='right', aspect=25, ticks=[0, 0.5, 1], fraction=0.05, pad=0.1)\n",
    "cbar.ax.set_title(r'Pop. $|e\\rangle$' + '\\nout1', fontsize=10)\n",
    "\n",
    "\n",
    "for filetype in ['pdf', 'svg']:\n",
    "    filenames = [chevron_filename_q1q3_right, chevron_filename_q1q3_wrong]\n",
    "    filepaths_str = '_'.join([folder[5:] + filename[:5] for filename in filenames]) + '_'+filenames[0][5:-11]\n",
    "\n",
    "    savename = os.path.join(save_plot_path, f'chevron_{filepaths_str}_13.{filetype}')\n",
    "    print(\"Saving\", savename)\n",
    "    fig.savefig(savename)\n",
    "\n",
    "\n",
    "    filenames = [chevron_filename_q1q2_right, chevron_filename_q1q2_wrong]\n",
    "    filepaths_str = '_'.join([folder[5:] + filename[:5] for filename in filenames]) + '_'+filenames[0][5:-11]\n",
    "\n",
    "    savename = os.path.join(save_plot_path, f'chevron_{filepaths_str}_12.{filetype}')\n",
    "    print(\"Saving\", savename)\n",
    "    fig2.savefig(savename)"
   ]
  },
  {
   "cell_type": "markdown",
   "metadata": {},
   "source": [
    "# Swap pi/-pi"
   ]
  },
  {
   "cell_type": "code",
   "execution_count": 150,
   "metadata": {},
   "outputs": [
    {
     "name": "stdout",
     "output_type": "stream",
     "text": [
      "Data dir S:\\QRAM\\qram_4QR2\\data\\data_250119\n"
     ]
    }
   ],
   "source": [
    "data_path = 'S:\\\\QRAM\\\\qram_4QR2\\\\'\n",
    "folder = 'data_250119'\n",
    "expt_path = os.path.join(data_path, 'data', folder)\n",
    "print('Data dir', expt_path)"
   ]
  },
  {
   "cell_type": "code",
   "execution_count": 199,
   "metadata": {},
   "outputs": [],
   "source": [
    "pmp_path = \"00072_PiMinusPiEgGfExptQ31\""
   ]
  },
  {
   "cell_type": "code",
   "execution_count": 259,
   "metadata": {},
   "outputs": [
    {
     "name": "stdout",
     "output_type": "stream",
     "text": [
      "S:\\QRAM\\qram_4QR2\\data\\data_250119\\00072_PiMinusPiEgGfExptQ31.h5\n",
      "Extracted data and attrs ['config']\n",
      "dict_keys(['amps', 'angles', 'avgi', 'avgq', 'best_freq', 'counts_calib', 'cycle_sweep', 'fit_q1_amps', 'fit_q1_err_amps', 'fit_q3_amps', 'fit_q3_err_amps', 'freq_sweep', 'ge_avgs', 'phases', 'products', 'thresholds', 'xpts'])\n",
      "Fit best freq (Q3) 5139.587865321054 which is 7.201071570465501 away from old freq 5132.386793750588\n",
      "Fit best freq (Q1) 5139.593983690287 which is 7.207189939698765 away from old freq 5132.386793750588\n",
      "best 0 0.062336200801551625\n",
      "Best freq fitted 5139.587865321054\n"
     ]
    },
    {
     "name": "stderr",
     "output_type": "stream",
     "text": [
      "DeprecationWarning: `product` is deprecated as of NumPy 1.25.0, and will be removed in NumPy 2.0. Please use `prod` instead.\n",
      " C:\\Users\\slab\\AppData\\Local\\Temp\\ipykernel_27764\\1939458940.py: 13"
     ]
    },
    {
     "data": {
      "image/png": "[encoded data removed]",
      "text/plain": [
       "<Figure size 300x250 with 3 Axes>"
      ]
     },
     "metadata": {},
     "output_type": "display_data"
    },
    {
     "name": "stdout",
     "output_type": "stream",
     "text": [
      "25011900072_PiMinusPiEgGfExptQ31\n",
      "Saving S:\\QRAM\\qram_4QR2\\plots\\paper\\piminuspi_25011900072_PiMinusPiEgGfExptQ31.pdf\n",
      "Saving S:\\QRAM\\qram_4QR2\\plots\\paper\\piminuspi_25011900072_PiMinusPiEgGfExptQ31.svg\n"
     ]
    }
   ],
   "source": [
    "from mpl_toolkits.axes_grid1 import make_axes_locatable\n",
    "\n",
    "pmp = meas.PiMinusPiEgGfExperiment(config_file=config_path)\n",
    "data, attrs = prev_data(os.path.join(expt_path, pmp_path+'.h5'))\n",
    "print(data.keys())\n",
    "pmp.cfg = AttrDict(attrs[\"config\"])\n",
    "\n",
    "data = pmp.analyze(data=data, fit=True)\n",
    "\n",
    "qA, qB = pmp.cfg.expt.qubits\n",
    "\n",
    "inner_sweep = data[\"freq_sweep\"]\n",
    "outer_sweep = data[\"cycle_sweep\"]\n",
    "\n",
    "y_sweep = outer_sweep\n",
    "x_sweep = inner_sweep\n",
    "\n",
    "prod_data = data[\"products\"][0] * data[\"products\"][1]\n",
    "x_sweep_fit = np.linspace(x_sweep[0], x_sweep[-1], 300)\n",
    "popt, pcov = meas.fitting.fit_gauss(x_sweep, prod_data)\n",
    "fit_freq = popt[1]\n",
    "\n",
    "x_sweep -= fit_freq\n",
    "popt[1] -= fit_freq\n",
    "x_sweep_fit -= fit_freq\n",
    "fit_freq = 0\n",
    "\n",
    "labelsize = 8\n",
    "cmap = 'magma'\n",
    "\n",
    "fig, axes = plt.subplots(2, 2, gridspec_kw={'height_ratios': [3, 1], 'width_ratios':[1, 0.05]}, figsize=(3.0, 2.5))\n",
    "\n",
    "axes[1,1].remove()\n",
    "\n",
    "a0 = axes[0, 0]\n",
    "plt.sca(a0)\n",
    "a0.set_ylabel(f\"N\", fontsize=labelsize)\n",
    "a0.tick_params(axis=\"both\", which=\"major\", labelbottom=False, labelsize=labelsize, pad=2)\n",
    "data_name = \"amps\"\n",
    "plot_data = data[data_name][0] # 0 for qDrive, 1 for q1\n",
    "scaled_e = np.max(plot_data)\n",
    "scaled_g = np.min(plot_data)\n",
    "scale_ge = scaled_e - scaled_g\n",
    "plot_data = (plot_data - scaled_g) / scale_ge\n",
    "plt.pcolormesh(x_sweep, y_sweep, plot_data, cmap=cmap, shading=\"auto\")\n",
    "plt.axvline(fit_freq, color=\"w\", linestyle=\"--\")\n",
    "\n",
    "acbar = axes[0, 1]\n",
    "# plt.sca(acbar)\n",
    "cbar = plt.colorbar(cax=acbar, ticks=[0, 0.5, 1])\n",
    "cbar.ax.tick_params(labelsize=labelsize)\n",
    "cbar.set_label('Prob. $Q_O=|1\\\\rangle$', size='small')\n",
    "\n",
    "a1 = axes[1, 0]\n",
    "a1.sharex(a0)\n",
    "plt.sca(a1)\n",
    "a1.set_ylabel(\"$M_1$\", fontsize=labelsize)\n",
    "a1.set_xlabel(\"Frequency - Optimal (MHz)\", fontsize=labelsize)\n",
    "a1.tick_params(axis=\"both\", which=\"major\", labelsize=labelsize, pad=2)\n",
    "plt.plot(x_sweep_fit, meas.fitting.gaussian(x_sweep_fit, *popt))\n",
    "plt.plot(x_sweep, prod_data, \".\")\n",
    "plt.axvline(fit_freq, color=\"k\", linestyle=\"--\")\n",
    "# plt.ylim([-0.05, 0.6])\n",
    "plt.xlim([-0.5, 0.5])\n",
    "a1.set_xticks([-0.4, 0, 0.4])\n",
    "\n",
    "plt.tight_layout(pad=0.2)\n",
    "plt.show()\n",
    "\n",
    "\n",
    "filepaths_str = folder[5:] + pmp_path\n",
    "\n",
    "print(filepaths_str)\n",
    "\n",
    "savename = os.path.join(save_plot_path, f'piminuspi_{filepaths_str}.pdf')\n",
    "print(\"Saving\", savename)\n",
    "fig.savefig(savename)\n",
    "\n",
    "savename = os.path.join(save_plot_path, f'piminuspi_{filepaths_str}.svg')\n",
    "print(\"Saving\", savename)\n",
    "fig.savefig(savename)\n",
    "    "
   ]
  },
  {
   "cell_type": "code",
   "execution_count": 201,
   "metadata": {},
   "outputs": [],
   "source": [
    "pmp_sweep_path = \"00006_eggf_piminuspi_gain_sweep_Q31\""
   ]
  },
  {
   "cell_type": "code",
   "execution_count": 260,
   "metadata": {},
   "outputs": [
    {
     "name": "stdout",
     "output_type": "stream",
     "text": [
      "S:\\QRAM\\qram_4QR2\\data\\data_250119\\00006_eggf_piminuspi_gain_sweep_Q31.h5\n",
      "Extracted data and attrs ['config']\n",
      "dict_keys(['amps', 'avgi', 'avgq', 'cycle_sweep', 'freq_sweep', 'gain_sweep', 'products'])\n"
     ]
    },
    {
     "name": "stderr",
     "output_type": "stream",
     "text": [
      "DeprecationWarning: `product` is deprecated as of NumPy 1.25.0, and will be removed in NumPy 2.0. Please use `prod` instead.\n",
      " C:\\Users\\slab\\AppData\\Local\\Temp\\ipykernel_27764\\1939458940.py: 13"
     ]
    },
    {
     "data": {
      "image/png": "[encoded data removed]",
      "text/plain": [
       "<Figure size 250x180 with 2 Axes>"
      ]
     },
     "metadata": {},
     "output_type": "display_data"
    },
    {
     "name": "stdout",
     "output_type": "stream",
     "text": [
      "25011900006_eggf_piminuspi_gain_sweep_Q31\n",
      "Saving S:\\QRAM\\qram_4QR2\\plots\\paper\\piminuspi_sweep_25011900006_eggf_piminuspi_gain_sweep_Q31.pdf\n",
      "Saving S:\\QRAM\\qram_4QR2\\plots\\paper\\piminuspi_sweep_25011900006_eggf_piminuspi_gain_sweep_Q31.svg\n"
     ]
    }
   ],
   "source": [
    "pmp_sweep = meas.Experiment(config_file=config_path)\n",
    "data, attrs = prev_data(os.path.join(expt_path, pmp_sweep_path+'.h5'))\n",
    "pmp_sweep.data = data\n",
    "print(data.keys())\n",
    "cfg = AttrDict(attrs[\"config\"])\n",
    "\n",
    "qA, qB = pmp_sweep_path[-2:]\n",
    "qA = int(qA)\n",
    "qB = int(qB)\n",
    "opt_gain = cfg.device.qubit.pulses.pi_EgGf_Q.half_gain[qA]\n",
    "opt_freq = cfg.device.qubit.f_EgGf_Q_half[qA]\n",
    "\n",
    "cycle_sweep = data[\"cycle_sweep\"]\n",
    "label = \"($X_{\\pi}, X_{-\\pi})^N$\"\n",
    "# label = \"($X_{\\pi/2}, X_{\\pi/2}, X_{-\\pi/2}, X_{-\\pi/2})^N$\"\n",
    "\n",
    "inner_sweep = data[\"freq_sweep\"]\n",
    "outer_sweep = data[\"gain_sweep\"]\n",
    "\n",
    "y_sweep = outer_sweep\n",
    "x_sweep = inner_sweep\n",
    "\n",
    "x_sweep -= opt_freq\n",
    "y_sweep /= opt_gain\n",
    "\n",
    "labelsize = 8\n",
    "\n",
    "fig = plt.figure(figsize=(2.5, 1.8))\n",
    "data_name = \"products\"\n",
    "plot_data = data[data_name][0] * data[data_name][1]\n",
    "\n",
    "a0 = plt.subplot(111)\n",
    "a0.set_ylabel(f\"Drive Amplitude / Optimal\", fontsize=labelsize)\n",
    "a0.tick_params(axis=\"both\", which=\"major\", labelsize=labelsize, pad=2)\n",
    "plt.pcolormesh(x_sweep, y_sweep, plot_data, cmap=\"viridis\", shading=\"auto\")\n",
    "plt.xlabel(\"Frequency - Optimal (MHz)\", fontsize=labelsize)\n",
    "a0.set_xticks([-0.5, 0, 0.5])\n",
    "ymin = np.min(y_sweep)\n",
    "ymax = np.max(y_sweep)\n",
    "ytick_spacing = 0.05\n",
    "ytick_labels = np.round(np.linspace(ymin, ymax, int(np.ceil((ymax-ymin)/ytick_spacing))+1) /ytick_spacing) * ytick_spacing\n",
    "a0.set_yticks(ytick_labels)\n",
    "\n",
    "divider = make_axes_locatable(a0)\n",
    "cax = divider.append_axes(\"right\", size=\"5%\", pad=0.05)\n",
    "cbar = plt.colorbar(cax=cax, ticks=[0, 0.5, 1])\n",
    "cbar.ax.tick_params(labelsize=labelsize)\n",
    "cbar.set_label(\"$M_1$\", size='small')\n",
    "\n",
    "plt.tight_layout(pad=0.0)\n",
    "plt.show()\n",
    "\n",
    "filepaths_str = folder[5:] + pmp_sweep_path\n",
    "\n",
    "print(filepaths_str)\n",
    "\n",
    "savename = os.path.join(save_plot_path, f'piminuspi_sweep_{filepaths_str}.pdf')\n",
    "print(\"Saving\", savename)\n",
    "fig.savefig(savename)\n",
    "\n",
    "savename = os.path.join(save_plot_path, f'piminuspi_sweep_{filepaths_str}.svg')\n",
    "print(\"Saving\", savename)\n",
    "fig.savefig(savename)\n",
    "    \n",
    "    "
   ]
  },
  {
   "cell_type": "markdown",
   "metadata": {},
   "source": [
    "# Swap pi train"
   ]
  },
  {
   "cell_type": "code",
   "execution_count": 217,
   "metadata": {},
   "outputs": [],
   "source": [
    "pp_path = \"00071_eggf_train_Q31\""
   ]
  },
  {
   "cell_type": "code",
   "execution_count": null,
   "metadata": {},
   "outputs": [
    {
     "name": "stdout",
     "output_type": "stream",
     "text": [
      "S:\\QRAM\\qram_4QR2\\data\\data_250119\\00071_eggf_train_Q31.h5\n",
      "Extracted data and attrs ['config']\n",
      "dict_keys(['amps', 'angles', 'avgi', 'avgq', 'best_gain', 'counts_calib', 'cycle_sweep', 'fit_q1_avgi', 'fit_q1_err_avgi', 'fit_q3_avgi', 'fit_q3_err_avgi', 'gain_sweep', 'ge_avgs', 'products', 'thresholds'])\n",
      "6679.170094901057\n"
     ]
    },
    {
     "name": "stderr",
     "output_type": "stream",
     "text": [
      "DeprecationWarning: `product` is deprecated as of NumPy 1.25.0, and will be removed in NumPy 2.0. Please use `prod` instead.\n",
      " C:\\Users\\slab\\AppData\\Local\\Temp\\ipykernel_27764\\1939458940.py: 13"
     ]
    },
    {
     "data": {
      "image/png": "[encoded data removed]",
      "text/plain": [
       "<Figure size 300x250 with 3 Axes>"
      ]
     },
     "metadata": {},
     "output_type": "display_data"
    },
    {
     "name": "stdout",
     "output_type": "stream",
     "text": [
      "25011900071_eggf_train_Q31\n",
      "Saving S:\\QRAM\\qram_4QR2\\plots\\paper\\pipi_25011900071_eggf_train_Q31.pdf\n",
      "Saving S:\\QRAM\\qram_4QR2\\plots\\paper\\pipi_25011900071_eggf_train_Q31.svg\n"
     ]
    }
   ],
   "source": [
    "pp = meas.PiTrainEgGfGainSweepExperiment(config_file=config_path)\n",
    "data, attrs = prev_data(os.path.join(expt_path, pp_path+'.h5'))\n",
    "print(data.keys())\n",
    "pp.cfg = AttrDict(attrs[\"config\"])\n",
    "\n",
    "# pp.analyze(data=data, fit=True)\n",
    "\n",
    "qA, qB = pp.cfg.expt.qubits\n",
    "\n",
    "inner_sweep = data[\"gain_sweep\"]\n",
    "outer_sweep = data[\"cycle_sweep\"]\n",
    "\n",
    "y_sweep = outer_sweep\n",
    "x_sweep = inner_sweep\n",
    "\n",
    "prod_data = data[\"products\"][0] * data[\"products\"][1]\n",
    "x_sweep_fit = np.linspace(x_sweep[0], x_sweep[-1], 300)\n",
    "popt, pcov = meas.fitting.fit_gauss(x_sweep, prod_data)\n",
    "fit_gain = popt[1]\n",
    "print(fit_gain)\n",
    "\n",
    "x_sweep /= fit_gain\n",
    "popt, pcov = meas.fitting.fit_gauss(x_sweep, prod_data)\n",
    "x_sweep_fit = np.linspace(x_sweep[0], x_sweep[-1], 300)\n",
    "fit_gain = 1\n",
    "\n",
    "labelsize = 8\n",
    "cmap = 'magma'\n",
    "\n",
    "fig, axes = plt.subplots(2, 2, gridspec_kw={'height_ratios': [3, 1], 'width_ratios':[1, 0.05]}, figsize=(3.0, 2.5))\n",
    "\n",
    "axes[1,1].remove()\n",
    "\n",
    "a0 = axes[0, 0]\n",
    "plt.sca(a0)\n",
    "a0.set_ylabel(f\"N\", fontsize=labelsize)\n",
    "a0.tick_params(axis=\"both\", which=\"major\", labelbottom=False, labelsize=labelsize, pad=2)\n",
    "data_name = \"amps\"\n",
    "plot_data = data[data_name][0] # 0 for qDrive, 1 for q1\n",
    "scaled_e = np.max(plot_data)\n",
    "scaled_g = np.min(plot_data)\n",
    "scale_ge = scaled_e - scaled_g\n",
    "plot_data = (plot_data - scaled_g) / scale_ge\n",
    "plt.pcolormesh(x_sweep, y_sweep, plot_data, cmap=cmap, shading=\"auto\")\n",
    "plt.axvline(fit_gain, color=\"k\", linestyle=\"--\")\n",
    "\n",
    "acbar = axes[0, 1]\n",
    "# plt.sca(acbar)\n",
    "cbar = plt.colorbar(cax=acbar, ticks=[0, 0.5, 1])\n",
    "cbar.ax.tick_params(labelsize=labelsize)\n",
    "cbar.set_label('Prob. $Q_O=|1\\\\rangle$', size='small')\n",
    "\n",
    "a1 = axes[1, 0]\n",
    "a1.sharex(a0)\n",
    "plt.sca(a1)\n",
    "a1.set_ylabel(\"$M_2$\", fontsize=labelsize)\n",
    "a1.set_xlabel(\"Drive Amplitude / Optimal\", fontsize=labelsize)\n",
    "a1.tick_params(axis=\"both\", which=\"major\", labelsize=labelsize, pad=2)\n",
    "plt.plot(x_sweep_fit, meas.fitting.gaussian(x_sweep_fit, *popt))\n",
    "plt.plot(x_sweep, prod_data, \".\")\n",
    "plt.axvline(fit_gain, color=\"k\", linestyle=\"--\")\n",
    "# plt.ylim([-0.05, 0.4])\n",
    "a1.set_xticks([0.96, 1.0, 1.04, 1.08])\n",
    "\n",
    "plt.tight_layout(pad=0.1)\n",
    "plt.show()\n",
    "\n",
    "\n",
    "filepaths_str = folder[5:] + pp_path\n",
    "\n",
    "print(filepaths_str)\n",
    "\n",
    "savename = os.path.join(save_plot_path, f'pipi_{filepaths_str}.pdf')\n",
    "print(\"Saving\", savename)\n",
    "fig.savefig(savename)\n",
    "\n",
    "savename = os.path.join(save_plot_path, f'pipi_{filepaths_str}.svg')\n",
    "print(\"Saving\", savename)\n",
    "fig.savefig(savename)\n",
    "    "
   ]
  },
  {
   "cell_type": "code",
   "execution_count": 203,
   "metadata": {},
   "outputs": [],
   "source": [
    "pp_sweep_path = \"00008_eggf_pipi_gain_sweep_Q31\""
   ]
  },
  {
   "cell_type": "code",
   "execution_count": 269,
   "metadata": {},
   "outputs": [
    {
     "name": "stdout",
     "output_type": "stream",
     "text": [
      "S:\\QRAM\\qram_4QR2\\data\\data_250119\\00008_eggf_pipi_gain_sweep_Q31.h5\n",
      "Extracted data and attrs ['config']\n",
      "dict_keys(['amps', 'avgi', 'avgq', 'cycle_sweep', 'freq_sweep', 'gain_sweep', 'products'])\n"
     ]
    },
    {
     "name": "stderr",
     "output_type": "stream",
     "text": [
      "DeprecationWarning: `product` is deprecated as of NumPy 1.25.0, and will be removed in NumPy 2.0. Please use `prod` instead.\n",
      " C:\\Users\\slab\\AppData\\Local\\Temp\\ipykernel_27764\\1939458940.py: 13"
     ]
    },
    {
     "data": {
      "image/png": "[encoded data removed]",
      "text/plain": [
       "<Figure size 250x180 with 2 Axes>"
      ]
     },
     "metadata": {},
     "output_type": "display_data"
    },
    {
     "name": "stdout",
     "output_type": "stream",
     "text": [
      "25011900008_eggf_pipi_gain_sweep_Q31\n",
      "Saving S:\\QRAM\\qram_4QR2\\plots\\paper\\pipi_sweep_25011900008_eggf_pipi_gain_sweep_Q31.pdf\n",
      "Saving S:\\QRAM\\qram_4QR2\\plots\\paper\\pipi_sweep_25011900008_eggf_pipi_gain_sweep_Q31.svg\n"
     ]
    }
   ],
   "source": [
    "pp_sweep = meas.Experiment(config_file=config_path)\n",
    "data, attrs = prev_data(os.path.join(expt_path, pp_sweep_path+'.h5'))\n",
    "pp_sweep.data = data\n",
    "print(data.keys())\n",
    "cfg = AttrDict(attrs[\"config\"])\n",
    "\n",
    "qA, qB = pp_sweep_path[-2:]\n",
    "qA = int(qA)\n",
    "qB = int(qB)\n",
    "opt_gain = cfg.device.qubit.pulses.pi_EgGf_Q.half_gain[qA]\n",
    "opt_freq = cfg.device.qubit.f_EgGf_Q_half[qA]\n",
    "\n",
    "cycle_sweep = data[\"cycle_sweep\"]\n",
    "label = \"($X_{\\pi}, X_{-\\pi})^N$\"\n",
    "# label = \"($X_{\\pi/2}, X_{\\pi/2}, X_{-\\pi/2}, X_{-\\pi/2})^N$\"\n",
    "\n",
    "inner_sweep = data[\"freq_sweep\"]\n",
    "outer_sweep = data[\"gain_sweep\"]\n",
    "\n",
    "y_sweep = outer_sweep\n",
    "x_sweep = inner_sweep\n",
    "\n",
    "x_sweep -= opt_freq\n",
    "y_sweep /= opt_gain\n",
    "\n",
    "labelsize = 8\n",
    "\n",
    "fig = plt.figure(figsize=(2.5, 1.8))\n",
    "data_name = \"products\"\n",
    "plot_data = data[data_name][0] * data[data_name][1]\n",
    "\n",
    "a0 = plt.subplot(111)\n",
    "a0.set_ylabel(f\"Drive Amplitude / Optimal\", fontsize=labelsize)\n",
    "a0.tick_params(axis=\"both\", which=\"major\", labelsize=labelsize, pad=2)\n",
    "plt.pcolormesh(x_sweep, y_sweep, plot_data, cmap=\"viridis\", shading=\"auto\")\n",
    "plt.xlabel(\"Frequency - Optimal (MHz)\", fontsize=labelsize)\n",
    "a0.set_xticks([-0.5, 0, 0.5])\n",
    "ymin = np.min(y_sweep)\n",
    "ymax = np.max(y_sweep)\n",
    "ytick_spacing = 0.05\n",
    "ytick_labels = np.round(np.linspace(ymin, ymax, int(np.ceil((ymax-ymin)/ytick_spacing))+1) /ytick_spacing) * ytick_spacing\n",
    "a0.set_yticks(ytick_labels)\n",
    "\n",
    "divider = make_axes_locatable(a0)\n",
    "cax = divider.append_axes(\"right\", size=\"5%\", pad=0.05)\n",
    "cbar = plt.colorbar(cax=cax, ticks=[0, 0.5, 1])\n",
    "cbar.ax.tick_params(labelsize=labelsize)\n",
    "cbar.set_label(\"$M_2$\", size='small')\n",
    "\n",
    "plt.tight_layout(pad=0.0)\n",
    "plt.show()\n",
    "\n",
    "filepaths_str = folder[5:] + pp_sweep_path\n",
    "\n",
    "print(filepaths_str)\n",
    "\n",
    "savename = os.path.join(save_plot_path, f'pipi_sweep_{filepaths_str}.pdf')\n",
    "print(\"Saving\", savename)\n",
    "fig.savefig(savename)\n",
    "\n",
    "savename = os.path.join(save_plot_path, f'pipi_sweep_{filepaths_str}.svg')\n",
    "print(\"Saving\", savename)\n",
    "fig.savefig(savename)\n",
    "    \n",
    "    "
   ]
  },
  {
   "cell_type": "markdown",
   "metadata": {},
   "source": [
    "# Product of pi/-pi and pi/pi"
   ]
  },
  {
   "cell_type": "code",
   "execution_count": 250,
   "metadata": {},
   "outputs": [],
   "source": [
    "def calculate_gain_freq_tuples(qubits, pipi_data, piminuspi_data, opt_len, interpolate=True, plot=True, test_pi_half=True):\n",
    "    if interpolate:\n",
    "        pipi_freq_sweep, pipi_gain_sweep = pipi_data[\"freq_sweep\"], pipi_data[\"gain_sweep\"]\n",
    "        piminuspi_freq_sweep, piminuspi_gain_sweep = piminuspi_data[\"freq_sweep\"], piminuspi_data[\"gain_sweep\"]\n",
    "        reduced_freq_sweep = np.linspace(np.max([pipi_freq_sweep[0], piminuspi_freq_sweep[0]]), np.min([pipi_freq_sweep[-1], piminuspi_freq_sweep[-1]]), 20)\n",
    "        reduced_gain_sweep = np.linspace(np.max([pipi_gain_sweep[0], piminuspi_gain_sweep[0]]), np.min([pipi_gain_sweep[-1], piminuspi_gain_sweep[-1]]), 25)\n",
    "        reduced_y = reduced_gain_sweep\n",
    "        reduced_x = reduced_freq_sweep\n",
    "        \n",
    "        print(\"reduced gain range\", reduced_gain_sweep[0], \"to\", reduced_gain_sweep[-1])\n",
    "        print(\"reduced freq range\", reduced_freq_sweep[0], \"to\", reduced_freq_sweep[-1])\n",
    "\n",
    "        fine_pipi_data = np.zeros((2, len(reduced_y), len(reduced_x)))\n",
    "        fine_piminuspi_data = np.zeros((2, len(reduced_y), len(reduced_x)))\n",
    "        for iq in range (2):\n",
    "            y, x = pipi_gain_sweep, pipi_freq_sweep\n",
    "            pipi_interp = sp.interpolate.RegularGridInterpolator((y, x), pipi_data[\"products\"][iq], bounds_error=False, fill_value=0)\n",
    "\n",
    "            y, x = piminuspi_gain_sweep, piminuspi_freq_sweep\n",
    "            piminuspi_interp = sp.interpolate.RegularGridInterpolator((y, x), piminuspi_data[\"products\"][iq], bounds_error=False, fill_value=0)\n",
    "\n",
    "            yg, xg = np.meshgrid(reduced_y, reduced_x, indexing='ij')\n",
    "            fine_pipi_data[iq] = pipi_interp((yg, xg))\n",
    "            fine_piminuspi_data[iq] = piminuspi_interp((yg, xg))\n",
    "\n",
    "    else:\n",
    "        assert np.all([pipi_data[\"freq_sweep\"][i] == piminuspi_data[\"freq_sweep\"][i] for i in range(len(pipi_data[\"freq_sweep\"]))])\n",
    "        assert np.all([pipi_data[\"gain_sweep\"][i] == piminuspi_data[\"gain_sweep\"][i] for i in range(len(pipi_data[\"gain_sweep\"]))])\n",
    "        assert len(pipi_data[\"freq_sweep\"]) == len(piminuspi_data[\"freq_sweep\"])\n",
    "        assert len(pipi_data[\"gain_sweep\"]) == len(piminuspi_data[\"gain_sweep\"])\n",
    "        fine_pipi_data = pipi_data[\"products\"]\n",
    "        fine_piminuspi_data = piminuspi_data[\"products\"]\n",
    "        reduced_x = pipi_data[\"freq_sweep\"]\n",
    "        reduced_y = pipi_data[\"gain_sweep\"]\n",
    "\n",
    "    x_sweep = reduced_x\n",
    "    y_sweep = reduced_y\n",
    "\n",
    "    prod_of_prods_data_q = np.array([fine_piminuspi_data[i] * fine_pipi_data[i] for i in range(2)])\n",
    "\n",
    "    qA, qB = qubits\n",
    "\n",
    "    # Interpolated pi pi data\n",
    "    label_pipi = \"($X_{\\pi}, X_{\\pi})^N$\"\n",
    "    if test_pi_half:\n",
    "        label_pipi = \"($X_{\\pi/2}, X_{\\pi/2})^{2N}$\"\n",
    "    title = (\n",
    "        f\"Interpolated Q{qA}/Q{qB} Product of Ns for {label_pipi}\\n Len {opt_len:.3f}, Ns={pipi_data['cycle_sweep'].tolist()}\"\n",
    "    )\n",
    "\n",
    "    if plot:\n",
    "        plt.figure(figsize=(8, 9))\n",
    "        plt.suptitle(title, fontsize=20)\n",
    "\n",
    "        ax_qA = plt.subplot(211, title=f\"QA ({qA})\")\n",
    "        ax_qA.set_ylabel(f\"Gain\", fontsize=18)\n",
    "        ax_qA.tick_params(axis=\"both\", which=\"major\", labelsize=16)\n",
    "        plot_data = fine_pipi_data[0]\n",
    "        plt.pcolormesh(x_sweep, y_sweep, plot_data, cmap=\"viridis\", shading=\"auto\")\n",
    "        cbar = plt.colorbar()\n",
    "        cbar.ax.tick_params(labelsize=18)\n",
    "\n",
    "        ax_qB = plt.subplot(212, title=f\"QB ({qB})\")\n",
    "        ax_qB.set_ylabel(f\"Gain\", fontsize=18)\n",
    "        ax_qB.set_xlabel(\"Frequency [MHz]\", fontsize=18)\n",
    "        ax_qB.tick_params(axis=\"both\", which=\"major\", labelsize=16)\n",
    "        plot_data = fine_pipi_data[1]\n",
    "        plt.pcolormesh(x_sweep, y_sweep, plot_data, cmap=\"viridis\", shading=\"auto\")\n",
    "        cbar = plt.colorbar()\n",
    "        cbar.ax.tick_params(labelsize=18)\n",
    "\n",
    "        plt.tight_layout()\n",
    "        plt.show()\n",
    "\n",
    "        # Interpolated pi -pi data\n",
    "        label_piminuspi = \"($X_{\\pi}, X_{-\\pi})^N$\"\n",
    "        if test_pi_half:\n",
    "            # label_piminuspi = \"($X_{\\pi/2}, X_{-\\pi/2})^{N}$\"\n",
    "            label_piminuspi = \"($X_{\\pi/2}, X_{\\pi/2}, X_{-\\pi/2}, X_{-\\pi/2})^N$\"\n",
    "        title = (\n",
    "            f\"Interpolated Q{qA}/Q{qB} Product of Ns for {label_piminuspi}\\n Len {opt_len:.3f}, Ns={piminuspi_data['cycle_sweep'].tolist()}\"\n",
    "        )\n",
    "\n",
    "        plt.figure(figsize=(8, 9))\n",
    "        plt.suptitle(title, fontsize=20)\n",
    "\n",
    "        ax_qA = plt.subplot(211, title=f\"QA ({qA})\")\n",
    "        ax_qA.set_ylabel(f\"Gain\", fontsize=18)\n",
    "        ax_qA.tick_params(axis=\"both\", which=\"major\", labelsize=16)\n",
    "        plot_data = fine_piminuspi_data[0]\n",
    "        plt.pcolormesh(x_sweep, y_sweep, plot_data, cmap=\"viridis\", shading=\"auto\")\n",
    "        cbar = plt.colorbar()\n",
    "        cbar.ax.tick_params(labelsize=18)\n",
    "\n",
    "        ax_qB = plt.subplot(212, title=f\"QB ({qB})\")\n",
    "        ax_qB.set_ylabel(f\"Gain\", fontsize=18)\n",
    "        ax_qB.set_xlabel(\"Frequency [MHz]\", fontsize=18)\n",
    "        ax_qB.tick_params(axis=\"both\", which=\"major\", labelsize=16)\n",
    "        plot_data = fine_piminuspi_data[1]\n",
    "        plt.pcolormesh(x_sweep, y_sweep, plot_data, cmap=\"viridis\", shading=\"auto\")\n",
    "        cbar = plt.colorbar()\n",
    "        cbar.ax.tick_params(labelsize=18)\n",
    "\n",
    "        plt.tight_layout()\n",
    "        plt.show()\n",
    "\n",
    "        # Product of the two inteprolated data sets\n",
    "        title = (\n",
    "            f\"Interpolated Q{qA}/Q{qB} Product {label_piminuspi} $\\\\times$ {label_pipi}\\n Len {opt_len:.3f}\"\n",
    "        )\n",
    "\n",
    "        plt.figure(figsize=(8, 9))\n",
    "        plt.suptitle(title, fontsize=20)\n",
    "\n",
    "        ax_qA = plt.subplot(211, title=f\"QA ({qA})\")\n",
    "        ax_qA.set_ylabel(f\"Gain\", fontsize=18)\n",
    "        ax_qA.tick_params(axis=\"both\", which=\"major\", labelsize=16)\n",
    "        plot_data = prod_of_prods_data_q[0]\n",
    "        plt.pcolormesh(x_sweep, y_sweep, plot_data, cmap=\"viridis\", shading=\"auto\")\n",
    "        cbar = plt.colorbar()\n",
    "        cbar.ax.tick_params(labelsize=18)\n",
    "    \n",
    "        ax_qB = plt.subplot(212, title=f\"QB ({qB})\")\n",
    "        ax_qB.set_ylabel(f\"Gain\", fontsize=18)\n",
    "        ax_qB.set_xlabel(\"Frequency [MHz]\", fontsize=18)\n",
    "        ax_qB.tick_params(axis=\"both\", which=\"major\", labelsize=16)\n",
    "        plot_data = prod_of_prods_data_q[1]\n",
    "        plt.pcolormesh(x_sweep, y_sweep, plot_data, cmap=\"viridis\", shading=\"auto\")\n",
    "        cbar = plt.colorbar()\n",
    "        cbar.ax.tick_params(labelsize=18)\n",
    "\n",
    "        plt.tight_layout()\n",
    "        plt.show()\n",
    "\n",
    "    return np.prod(prod_of_prods_data_q, axis=0), x_sweep, y_sweep"
   ]
  },
  {
   "cell_type": "code",
   "execution_count": 249,
   "metadata": {},
   "outputs": [],
   "source": [
    "from skimage.feature import blob_dog, blob_log, blob_doh\n",
    "from matplotlib.patches import Ellipse\n",
    "\n",
    "def find_blobs(data_2d, x_sweep, y_sweep):\n",
    "    data_2d = (np.copy(data_2d) - np.min(data_2d))/(np.max(data_2d) - np.min(data_2d))\n",
    "    blobs_log = blob_log(data_2d, max_sigma=5, min_sigma=3, num_sigma=10, threshold=0.1, exclude_border=True)\n",
    "\n",
    "    # Compute radii in the 3rd column.\n",
    "    blobs_log[:, 2] = blobs_log[:, 2] * sqrt(2)\n",
    "\n",
    "    blobs_dog = blob_dog(data_2d, max_sigma=5, min_sigma=3, threshold=0.1, exclude_border=True)\n",
    "    blobs_dog[:, 2] = blobs_dog[:, 2] * sqrt(2)\n",
    "\n",
    "    blobs_doh = blob_doh(data_2d, max_sigma=5, min_sigma=3, threshold=0.01)\n",
    "\n",
    "    blobs_list = [blobs_log, blobs_dog, blobs_doh]\n",
    "    colors = ['yellow', 'lime', 'red']\n",
    "    titles = ['Laplacian of Gaussian', 'Difference of Gaussian', 'Determinant of Hessian']\n",
    "    sequence = zip(blobs_list, colors, titles)\n",
    "\n",
    "    idxy = np.argmax(data_2d)\n",
    "    i_ymax, i_xmax = np.unravel_index(idxy, data_2d.shape)\n",
    "    x_max = x_sweep[i_xmax]\n",
    "    y_max = y_sweep[i_ymax]\n",
    "\n",
    "    fig, axes = plt.subplots(1, 3, figsize=(9, 3), sharex=True, sharey=True)\n",
    "    ax = axes.ravel()\n",
    "\n",
    "    for idx, (blobs, color, title) in enumerate(sequence):\n",
    "        ax[idx].set_title(title)\n",
    "        # ax[idx].imshow(data_2d)\n",
    "        plt.sca(ax[idx])\n",
    "        plt.pcolormesh(x_sweep, y_sweep, data_2d, cmap=\"viridis\", shading=\"auto\")\n",
    "        for blob in blobs:\n",
    "            r, c, sigma = blob\n",
    "            opt_freq = x_sweep[int(c)]\n",
    "            opt_gain = y_sweep[int(r)]\n",
    "            sigma_x = sigma * (x_sweep[1] - x_sweep[0])\n",
    "            sigma_y = sigma * (y_sweep[1] - y_sweep[0])\n",
    "            c = Ellipse((opt_freq, opt_gain), width=sigma_x, height=sigma_y, color=color, linewidth=2, fill=False)\n",
    "            ax[idx].add_patch(c)\n",
    "        plt.plot(x_max, y_max, \"o\", markersize=8, markeredgecolor=\"r\", markerfacecolor=\"None\")\n",
    "        plt.colorbar()\n",
    "        # ax[idx].set_axis_off()\n",
    "\n",
    "    plt.tight_layout()\n",
    "    plt.show()\n",
    "\n",
    "    # return blobs_list\n",
    "    return blobs_log\n"
   ]
  },
  {
   "cell_type": "code",
   "execution_count": 264,
   "metadata": {},
   "outputs": [
    {
     "name": "stdout",
     "output_type": "stream",
     "text": [
      "reduced gain range 0.9321021184139054 to 1.073616018845701\n",
      "reduced freq range -0.5 to 0.5\n"
     ]
    },
    {
     "data": {
      "image/png": "[encoded data removed]",
      "text/plain": [
       "<Figure size 900x300 with 6 Axes>"
      ]
     },
     "metadata": {},
     "output_type": "display_data"
    },
    {
     "name": "stdout",
     "output_type": "stream",
     "text": [
      "best freq from max 0.02631578947368418\n",
      "best gain from max 0.9969626561118117\n",
      "num blobs found 1\n",
      "best freq from blob -0.026315789473684237\n",
      "best gain from blob 1.0028590686298031\n"
     ]
    }
   ],
   "source": [
    "pipi_data = pp_sweep.data\n",
    "piminuspi_data = pmp_sweep.data\n",
    "\n",
    "prod_of_prods_data, x_sweep, y_sweep = calculate_gain_freq_tuples([qA, qB], pipi_data, piminuspi_data, opt_len=0, interpolate=True, plot=False)\n",
    "blobs = find_blobs(prod_of_prods_data, x_sweep=x_sweep, y_sweep=y_sweep)\n",
    "\n",
    "idxy = np.argmax(prod_of_prods_data)\n",
    "ymax, xmax = np.unravel_index(idxy, prod_of_prods_data.shape)\n",
    "pi_freq_max = x_sweep[xmax]\n",
    "pi_gain_max = y_sweep[ymax]\n",
    "print(\"best freq from max\", pi_freq_max)\n",
    "print(\"best gain from max\", pi_gain_max)\n",
    "\n",
    "print(\"num blobs found\", len(blobs))\n",
    "if len(blobs) > 0:\n",
    "    r, c, sigma = blobs[0]\n",
    "    pi_freq_blob = x_sweep[int(c)]\n",
    "    pi_gain_blob = y_sweep[int(r)]\n",
    "    sigma_x = sigma * (x_sweep[1] - x_sweep[0])\n",
    "    sigma_y = sigma * (y_sweep[1] - y_sweep[0])\n",
    "    print(\"best freq from blob\", pi_freq_blob)\n",
    "    print(\"best gain from blob\", pi_gain_blob)\n",
    "\n",
    "if len(blobs) == 0:\n",
    "    print(\"WARNING: no blobs found!\")\n",
    "elif np.abs(pi_freq_max - pi_freq_blob) > 2*sigma_x or np.abs(pi_gain_max - pi_gain_blob) > 2*sigma_y:\n",
    "    print('WARNING: max product location is not close to found blob center!')"
   ]
  },
  {
   "cell_type": "code",
   "execution_count": 268,
   "metadata": {},
   "outputs": [
    {
     "data": {
      "image/png": "[encoded data removed]",
      "text/plain": [
       "<Figure size 250x180 with 2 Axes>"
      ]
     },
     "metadata": {},
     "output_type": "display_data"
    },
    {
     "name": "stdout",
     "output_type": "stream",
     "text": [
      "25011900008_eggf_pipi_gain_sweep_Q31\n",
      "Saving S:\\QRAM\\qram_4QR2\\plots\\paper\\ppXpmp_sweep_25011900008_eggf_pipi_gain_sweep_Q31.pdf\n",
      "Saving S:\\QRAM\\qram_4QR2\\plots\\paper\\ppXpmp_sweep_25011900008_eggf_pipi_gain_sweep_Q31.svg\n"
     ]
    }
   ],
   "source": [
    "opt_freq = pi_freq_blob\n",
    "opt_gain = pi_gain_blob\n",
    "# opt_freq = pi_freq_max\n",
    "# opt_gain = pi_gain_max\n",
    "\n",
    "x_sweep -= opt_freq\n",
    "y_sweep /= opt_gain\n",
    "\n",
    "labelsize = 8\n",
    "\n",
    "fig = plt.figure(figsize=(2.5, 1.8))\n",
    "plot_data = prod_of_prods_data\n",
    "\n",
    "a0 = plt.subplot(111)\n",
    "a0.set_ylabel(f\"Drive Amplitude / Optimal\", fontsize=labelsize)\n",
    "a0.tick_params(axis=\"both\", which=\"major\", labelsize=labelsize, pad=2)\n",
    "plt.pcolormesh(x_sweep, y_sweep, plot_data, cmap=\"viridis\", shading=\"auto\")\n",
    "plt.xlabel(\"Frequency - Optimal (MHz)\", fontsize=labelsize)\n",
    "a0.set_xticks([-0.4, 0, 0.4])\n",
    "# ymin = np.min(y_sweep)\n",
    "# ymax = np.max(y_sweep)\n",
    "# ytick_spacing = 0.05\n",
    "# ytick_labels = np.round(np.linspace(ymin, ymax, int(np.ceil((ymax-ymin)/ytick_spacing))+1) /ytick_spacing) * ytick_spacing\n",
    "a0.set_yticks([0.95, 1.0, 1.05])\n",
    "\n",
    "divider = make_axes_locatable(a0)\n",
    "cax = divider.append_axes(\"right\", size=\"5%\", pad=0.05)\n",
    "cbar = plt.colorbar(cax=cax, ticks=[0, 0.5, 1])\n",
    "cbar.ax.tick_params(labelsize=labelsize)\n",
    "cbar.set_label(\"$M_1 \\\\times M_2$\", size='small')\n",
    "\n",
    "plt.tight_layout(pad=0.0)\n",
    "plt.show()\n",
    "\n",
    "filepaths_str = folder[5:] + pp_sweep_path\n",
    "\n",
    "print(filepaths_str)\n",
    "\n",
    "savename = os.path.join(save_plot_path, f'ppXpmp_sweep_{filepaths_str}.pdf')\n",
    "print(\"Saving\", savename)\n",
    "fig.savefig(savename)\n",
    "\n",
    "savename = os.path.join(save_plot_path, f'ppXpmp_sweep_{filepaths_str}.svg')\n",
    "print(\"Saving\", savename)\n",
    "fig.savefig(savename)\n",
    "    \n",
    "    "
   ]
  },
  {
   "cell_type": "code",
   "execution_count": null,
   "metadata": {},
   "outputs": [],
   "source": []
  }
 ],
 "metadata": {
  "kernelspec": {
   "display_name": "base",
   "language": "python",
   "name": "python3"
  },
  "language_info": {
   "codemirror_mode": {
    "name": "ipython",
    "version": 3
   },
   "file_extension": ".py",
   "mimetype": "text/x-python",
   "name": "python",
   "nbconvert_exporter": "python",
   "pygments_lexer": "ipython3",
   "version": "3.9.13"
  }
 },
 "nbformat": 4,
 "nbformat_minor": 2
}
