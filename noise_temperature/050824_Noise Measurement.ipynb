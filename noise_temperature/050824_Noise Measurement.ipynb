{
 "cells": [
  {
   "cell_type": "code",
   "execution_count": 2,
   "metadata": {},
   "outputs": [],
   "source": [
    "import numpy as np \n",
    "import matplotlib.pyplot as plt\n",
    "import scipy.constants as cst \n",
    "\n",
    "# %matplotlib widget\n",
    "%matplotlib inline\n",
    "\n",
    "# use paper style \n",
    "\n",
    "# plt.style.use('paper_2')\n",
    "\n",
    "colors= [\"#264653\", \"#2a9d8f\", \"#8ab17d\", \"#e9c46a\", \"#f4a261\", \"#e76f51\", \"#b43718\"]\n",
    "\n",
    "params = {\"ytick.color\" : \"black\",\n",
    "            \"xtick.color\" : \"black\",\n",
    "            \"axes.labelcolor\" : \"black\",\n",
    "            \"axes.edgecolor\" : \"black\", \n",
    "            \"font.size\": 14}\n",
    "plt.rc('text', usetex=False)\n",
    "font  = {'size' : 14}\n",
    "plt.rc('font', **font)\n",
    "\n",
    "fontsize = 14"
   ]
  },
  {
   "cell_type": "code",
   "execution_count": 3,
   "metadata": {},
   "outputs": [],
   "source": [
    "def pow_to_mW(pow_dBm):\n",
    "    return 10**(pow_dBm/10)*1e-3\n",
    "\n",
    "def W_to_pow(W):\n",
    "    return 10*np.log10(1e3*W)\n",
    "\n",
    "def pow_ratio_to_lin(pow_dB):\n",
    "    return 10**(pow_dB/10)"
   ]
  },
  {
   "cell_type": "markdown",
   "metadata": {},
   "source": [
    "# SNR method\n",
    "\n",
    "Assumes $\\kappa_i$, $\\kappa_e$, $\\bar{n}$ are known"
   ]
  },
  {
   "cell_type": "code",
   "execution_count": 4,
   "metadata": {},
   "outputs": [
    {
     "name": "stdout",
     "output_type": "stream",
     "text": [
      "6.62607015e-34\n"
     ]
    }
   ],
   "source": [
    "print(cst.h)"
   ]
  },
  {
   "cell_type": "code",
   "execution_count": 6,
   "metadata": {},
   "outputs": [],
   "source": [
    "def pow_to_mW(pow_dBm):\n",
    "    return 10**(pow_dBm/10)*1e-3\n",
    "\n",
    "def W_to_pow(W):\n",
    "    return 10*np.log10(1e3*W)\n",
    "\n",
    "def pow_ratio_to_lin(pow_dB):\n",
    "    return 10**(pow_dB/10)"
   ]
  },
  {
   "cell_type": "code",
   "execution_count": 19,
   "metadata": {},
   "outputs": [
    {
     "name": "stdout",
     "output_type": "stream",
     "text": [
      "P_out -140.6438534541583 dBm\n",
      "P_in -137.8172703982289 dBm\n",
      "SNR_sqrd_on_dB 19.39999999999999\n",
      "SNR_sqrd_off_dB 9.299999999999997\n",
      "G_twpa 16.0 dB\n",
      "T_twpa 2.98758403635381 K\n",
      "T_hemt 30.571738082506986 K\n"
     ]
    }
   ],
   "source": [
    "kappa_i = 2*np.pi*0.39e6\n",
    "kappa_e = 2*np.pi*0.15e6\n",
    "nbar = 0.60\n",
    "f0 = 6.808e9\n",
    "f_meas = f0 # + 0.1e6\n",
    "\n",
    "bw = 2400\n",
    "\n",
    "P_out = (kappa_i**2 + 4*(2*np.pi*(f_meas-f0))**2)/ kappa_e * nbar * cst.h * f0/2 # out of sample\n",
    "P_out_dB = W_to_pow(P_out)\n",
    "P_in = ((kappa_i + kappa_e)**2 + 4*(2*np.pi*(f_meas-f0))**2)/ kappa_e * nbar * cst.h * f0/2 # into sample\n",
    "P_in_dB = W_to_pow(P_in)\n",
    "print('P_out', P_out_dB, 'dBm')\n",
    "print('P_in', P_in_dB, 'dBm')\n",
    "\n",
    "\n",
    "N_on = -84.6 # twpa on, noise floor, signal on\n",
    "N_off = -90.5 # twpa off, noise floor, signal on\n",
    "\n",
    "S_on = -65.2\n",
    "S_off = -81.2\n",
    "\n",
    "print('SNR_sqrd_on_dB', S_on - N_on)\n",
    "print('SNR_sqrd_off_dB', S_off - N_off)\n",
    "\n",
    "G_twpa_dB = S_on - S_off\n",
    "G_twpa_lin = 10**(G_twpa_dB/10)\n",
    "print('G_twpa', G_twpa_dB, 'dB')\n",
    "\n",
    "SNR_sqrd_on = pow_ratio_to_lin(S_on - N_on)\n",
    "SNR_sqrd_off = pow_ratio_to_lin(S_off - N_off)\n",
    "\n",
    "T_twpa = P_out / SNR_sqrd_on / cst.k / bw\n",
    "T_hemt = P_out / SNR_sqrd_off / cst.k / bw\n",
    "\n",
    "print('T_twpa', T_twpa, 'K')\n",
    "print('T_hemt', T_hemt, 'K')"
   ]
  },
  {
   "cell_type": "code",
   "execution_count": 5,
   "metadata": {},
   "outputs": [
    {
     "data": {
      "text/plain": [
       "9.313405800996394"
      ]
     },
     "execution_count": 5,
     "metadata": {},
     "output_type": "execute_result"
    }
   ],
   "source": [
    "np.sqrt(P_out / (3) / cst.k / bw)"
   ]
  },
  {
   "cell_type": "code",
   "execution_count": 4,
   "metadata": {},
   "outputs": [],
   "source": [
    "# T_vec = np.array([120, 160, 233, 317, 413, 430, 490, 522, 581, 605, 632, 775])*1e-3\n",
    "\n",
    "# P_off = np.array([-98.98, -98.86, -98.72, -98.92, -98.62, -98.63, -98.42, -98.44, -98.26, -98.15, -98.27, -97.90]) # noise power with twpa on\n",
    "# P_on = np.array([-91.20, -91.58, -90.69, -90.63, -88.45, -87.29, -86.25, -85.63, -84.37, -84.21, -83.90, -83.30]) # noise power with twpa off\n",
    "\n",
    "\n",
    "# P_off_lin = 10**(P_off/10)*1e-3\n",
    "# P_on_lin = 10**(P_on/10)*1e-3\n",
    "\n",
    "# bw = 360\n",
    "\n"
   ]
  },
  {
   "cell_type": "code",
   "execution_count": 5,
   "metadata": {},
   "outputs": [
    {
     "name": "stdout",
     "output_type": "stream",
     "text": [
      "G_off = 71.41202650857733 +/- 0.8108287566125227 dB\n",
      "G_on = 92.74565495955028 +/- 0.9180849183133404 dB\n",
      "T_hemt = 1.8932514157091898 +/- 0.18222120992659888 K\n",
      "T_twpa = 0.08220892312335529 +/- 0.011097874564600891 K\n"
     ]
    }
   ],
   "source": [
    "# T_min_fit = 400*1e-3\n",
    "\n",
    "# popt_off, pcov_off = np.polyfit(T_vec[T_vec > T_min_fit], P_off_lin[T_vec > T_min_fit], 1, cov=True)\n",
    "# popt_on, pcov_on = np.polyfit(T_vec[T_vec > T_min_fit], P_on_lin[T_vec > T_min_fit], 1, cov=True)\n",
    "\n",
    "# G_off = popt_off[0]/cst.k/bw\n",
    "# G_on = popt_on[0]/cst.k/bw\n",
    "\n",
    "# # error bars \n",
    "\n",
    "# perr_off = np.sqrt(np.diag(pcov_off))\n",
    "# perr_on = np.sqrt(np.diag(pcov_on))\n",
    "\n",
    "# G_off_err = perr_off[0]/cst.k/bw\n",
    "# G_on_err = perr_on[0]/cst.k/bw\n",
    "\n",
    "# # print the results in db \n",
    "\n",
    "# G_off_p = G_off + G_off_err\n",
    "# G_off_m = G_off - G_off_err\n",
    "\n",
    "# G_on_p = G_on + G_on_err\n",
    "# G_on_m = G_on - G_on_err\n",
    "\n",
    "# G_off_err_db = 10*np.log10(G_off_p) - 10*np.log10(G_off_m)\n",
    "# G_on_err_db = 10*np.log10(G_on_p) - 10*np.log10(G_on_m)\n",
    "\n",
    "# print(f'G_off = {10*np.log10(G_off)} +/- {G_off_err_db} dB')\n",
    "# print(f'G_on = {10*np.log10(G_on)} +/- {G_on_err_db} dB')\n",
    "\n",
    "# # for the noise temperature only take the first 3 points since it is the flat region \n",
    "\n",
    "# P_hemt = np.mean(P_off_lin[:3])\n",
    "# P_hemt_err = np.std(P_off_lin[:3])\n",
    "\n",
    "# P_twpa = np.mean(P_on_lin[:3])\n",
    "# P_twpa_err = np.std(P_on_lin[:3])\n",
    "\n",
    "# # convert the power in linear units \n",
    "\n",
    "\n",
    "\n",
    "# T_hemt = P_hemt/G_off/bw/cst.k\n",
    "# T_twpa = P_twpa/G_on/bw/cst.k\n",
    "\n",
    "# T_hemt_err = T_hemt*np.sqrt((P_hemt_err/P_hemt)**2 + (G_off_err/G_off)**2)\n",
    "# T_twpa_err = T_twpa*np.sqrt((P_twpa_err/P_twpa)**2 + (G_on_err/G_on)**2)\n",
    "\n",
    "\n",
    "# # print the results in K\n",
    "\n",
    "# print(f'T_hemt = {T_hemt} +/- {T_hemt_err} K')\n",
    "# print(f'T_twpa = {T_twpa} +/- {T_twpa_err} K')\n"
   ]
  },
  {
   "cell_type": "code",
   "execution_count": 19,
   "metadata": {},
   "outputs": [
    {
     "data": {
      "text/plain": [
       "0.39999999999998437"
      ]
     },
     "execution_count": 19,
     "metadata": {},
     "output_type": "execute_result"
    }
   ],
   "source": [
    "-41.6-(-126.1+12.7+71.4)"
   ]
  },
  {
   "cell_type": "code",
   "execution_count": 6,
   "metadata": {},
   "outputs": [
    {
     "data": {
      "text/plain": [
       "9.410096425850918e-21"
      ]
     },
     "execution_count": 6,
     "metadata": {},
     "output_type": "execute_result"
    }
   ],
   "source": [
    "P_hemt/G_off"
   ]
  },
  {
   "cell_type": "code",
   "execution_count": 23,
   "metadata": {},
   "outputs": [
    {
     "data": {
      "image/png": "[encoded data removed]",
      "text/plain": [
       "<Figure size 800x400 with 2 Axes>"
      ]
     },
     "metadata": {},
     "output_type": "display_data"
    }
   ],
   "source": [
    "fig, ax = plt.subplots(1,2 , figsize=(8, 4))\n",
    "\n",
    "plt.sca(ax[0])\n",
    "plt.axvline(cst.h*(6.808e9)/cst.k, label='SQL')\n",
    "ax[0].plot(T_vec, P_off_lin, 'o', label='TWPA Off', color = colors[1])\n",
    "ax[0].plot(T_vec, np.polyval(popt_off, T_vec), '--', color = colors[0], label='Fit')\n",
    "\n",
    "plt.sca(ax[1])\n",
    "plt.axvline(cst.h*(6.808e9)/cst.k, label='SQL')\n",
    "ax[1].plot(T_vec, P_on_lin, 'o', label='TWPA On', color = colors[1])\n",
    "ax[1].plot(T_vec, np.polyval(popt_on, T_vec), '--', color = colors[0], label='Fit')\n",
    "\n",
    "plt.sca(ax[0])\n",
    "plt.legend()\n",
    "plt.xlabel('MXC temperature [K]')\n",
    "plt.ylabel('Noise Power [mW]')\n",
    "\n",
    "plt.sca(ax[1])\n",
    "plt.xlabel('MXC temperature [K]')\n",
    "plt.legend()\n",
    "plt.show()"
   ]
  },
  {
   "cell_type": "markdown",
   "metadata": {},
   "source": [
    "# calibrate again at base temp\n",
    "\n",
    "Assumes gain is known"
   ]
  },
  {
   "cell_type": "code",
   "execution_count": 3,
   "metadata": {},
   "outputs": [
    {
     "name": "stdout",
     "output_type": "stream",
     "text": [
      "G_twpa 16.0 dB\n",
      "T_HEMT 0.002689710111373178\n",
      "T_TWPA 0.00026284848344150806\n"
     ]
    }
   ],
   "source": [
    "bw = 2400\n",
    "# p_off_no_signal = -90.5 # twpa off noise floor signal on\n",
    "p_off_signal = -90.5 # twpa off noise floor signal off\n",
    "# p_on_no_signal = -103.6 # twpa on noise floor signal off\n",
    "p_on_signal = -84.6 # twpa on noise floor signal on\n",
    "\n",
    "S_on = -65.2\n",
    "S_off = -81.2\n",
    "G_twpa_dB = S_on - S_off\n",
    "G_twpa_lin = 10**(G_twpa_dB/10)\n",
    "print('G_twpa', G_twpa_dB, 'dB')\n",
    "\n",
    "# OVERRIDE TOTAL GAIN\n",
    "# G_off_dB = 100\n",
    "# G_on_dB = G_off_dB + G_twpa_dB\n",
    "\n",
    "# TWPA off\n",
    "# T_off_no_signal = pow_to_mW(p_off_no_signal)/pow_ratio_to_lin(G_off_dB)/bw/cst.k\n",
    "T_off_signal = pow_to_mW(p_off_signal)/pow_ratio_to_lin(G_off_dB)/bw/cst.k\n",
    "\n",
    "# TWPA on\n",
    "# T_on_no_signal = pow_to_mW(p_on_no_signal)/pow_ratio_to_lin(G_on_dB)/bw/cst.k\n",
    "T_on_signal = pow_to_mW(p_on_signal)/pow_ratio_to_lin(G_on_dB)/bw/cst.k\n",
    "\n",
    "print('T_HEMT', T_off_signal, 'K')\n",
    "print('T_TWPA', T_on_signal, 'K')"
   ]
  },
  {
   "cell_type": "code",
   "execution_count": 6,
   "metadata": {},
   "outputs": [
    {
     "name": "stdout",
     "output_type": "stream",
     "text": [
      "1918.6687406702872\n",
      "190.1078279923303\n"
     ]
    }
   ],
   "source": [
    "print(pow_to_mW(S_on)/(pow_to_mW(p_on_signal)))\n",
    "print(pow_to_mW(S_off)/(pow_to_mW(p_off_signal)))"
   ]
  },
  {
   "cell_type": "markdown",
   "metadata": {},
   "source": [
    "There is something weird, the noise floor change if I apply or not a signal. \n",
    "If it was only a twpa thing I would expect this not to happen when the twpa is nominally off.\n",
    "\n",
    "If I apply a signal at 400mK I have less attenuation than at base temperature, most likely because of TLS loss in the twpa getting saturated \n",
    "Hence it means that at high temperature the twpa is attenuating less than at low temperature, so that the gain is overestimated, explaining the discrepancy between the two measurements.\n",
    "\n",
    "In practice I measure 3/4dB difference using a singal tone, but it can be that the signal tone is more attuenated somewhere else. \n",
    "\n",
    "Overall, this mean that I can use this technique to measure the HEMT noise temperature, but not for the twpa. \n",
    "\n",
    "The combination of this technique with the previous estimate for the gain, gives a noise temperature of 500mK for the twpa, which is consistent with the state of the art. \n",
    "\n"
   ]
  },
  {
   "cell_type": "code",
   "execution_count": 9,
   "metadata": {},
   "outputs": [
    {
     "name": "stdout",
     "output_type": "stream",
     "text": [
      "T_off_signal = 13.255971622290456 K\n",
      "T_off_no_signal = 1.9607018819849529 K\n",
      "T_on_signal = 2.13328421864228 K\n",
      "T_on_no_signal = 0.04667117346522786 K\n",
      "T_twpa_signal = 15.574408647376895 K\n",
      "T_twpa_no_signal = 0.3407309355443922 K\n"
     ]
    }
   ],
   "source": [
    "print(f'T_off_signal = {T_off_signal} K')\n",
    "print(f'T_off_no_signal = {T_off_no_signal} K')\n",
    "print(f'T_on_signal = {T_on_signal} K')\n",
    "print(f'T_on_no_signal = {T_on_no_signal} K')\n",
    "\n",
    "print(f'T_twpa_signal = {T_twpa_signal} K')\n",
    "print(f'T_twpa_no_signal = {T_twpa_no_signal} K')"
   ]
  },
  {
   "cell_type": "markdown",
   "metadata": {},
   "source": [
    "# Calibration of the twpa noise versus input signal"
   ]
  },
  {
   "cell_type": "code",
   "execution_count": 15,
   "metadata": {},
   "outputs": [],
   "source": [
    "P_cal = np.array([-58.33,-60.8,-62.57, -66.38, -68.03, -74.00, -80.14, -85.93])\n",
    "N_cal = np.array([-87.95,-92.2,-93.92, -97.5, -98.9, -100.1, -100.6, -100.7])\n",
    "\n",
    "# convert in linear units\n",
    "\n",
    "P_cal_lin = 10**(P_cal/10)*1e-3\n",
    "N_cal_lin = 10**(N_cal/10)*1e-3\n",
    "\n",
    "bw_cal = 62 \n",
    "\n",
    "T_cal  = N_cal_lin/(G_twpa_lin*G_off)/bw_cal/cst.k\n",
    "\n",
    "P_cal_in = P_cal - G_twpa - 10*np.log10(G_off)"
   ]
  },
  {
   "cell_type": "code",
   "execution_count": 17,
   "metadata": {},
   "outputs": [
    {
     "data": {
      "image/png": "[encoded data removed]",
      "text/plain": [
       "<Figure size 400x400 with 1 Axes>"
      ]
     },
     "metadata": {},
     "output_type": "display_data"
    }
   ],
   "source": [
    "fig, ax = plt.subplots(1,1, figsize=(4, 4))\n",
    "\n",
    "ax.plot(P_cal_in, T_cal,'o', color = colors[5])\n",
    "ax.set_xlabel('Input power [dBm]')\n",
    "ax.set_ylabel('Noise temperature [K]')\n",
    "\n",
    "plt.show()"
   ]
  },
  {
   "cell_type": "code",
   "execution_count": null,
   "metadata": {},
   "outputs": [],
   "source": []
  }
 ],
 "metadata": {
  "kernelspec": {
   "display_name": "seb",
   "language": "python",
   "name": "python3"
  },
  "language_info": {
   "codemirror_mode": {
    "name": "ipython",
    "version": 3
   },
   "file_extension": ".py",
   "mimetype": "text/x-python",
   "name": "python",
   "nbconvert_exporter": "python",
   "pygments_lexer": "ipython3",
   "version": "3.9.13"
  }
 },
 "nbformat": 4,
 "nbformat_minor": 2
}
