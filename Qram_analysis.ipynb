{
 "cells": [
  {
   "cell_type": "code",
   "execution_count": 5,
   "metadata": {},
   "outputs": [
    {
     "name": "stdout",
     "output_type": "stream",
     "text": [
      "The autoreload extension is already loaded. To reload it, use:\n",
      "  %reload_ext autoreload\n"
     ]
    }
   ],
   "source": [
    "%load_ext autoreload\n",
    "%autoreload 2\n",
    "%matplotlib qt5\n",
    "\n",
    "import numpy as np\n",
    "import matplotlib.pyplot as plt\n",
    "from copy import deepcopy\n",
    "from scipy.optimize import curve_fit\n",
    "\n",
    "\n",
    "from qick import *\n",
    "from qick.helpers import gauss\n",
    "\n",
    "import time\n",
    "import os\n",
    "import sys\n",
    "sys.path.append('/home/xilinx/jupyter_notebooks/')\n",
    "import scipy as sp\n",
    "import json\n",
    "from scipy.fft import fft, fftfreq\n",
    "import Pyro4.util\n",
    "\n",
    "from slab.instruments import *\n",
    "from slab.experiment import Experiment\n",
    "from slab.datamanagement import SlabFile\n",
    "from slab import get_next_filename, AttrDict"
   ]
  },
  {
   "cell_type": "code",
   "execution_count": 6,
   "metadata": {},
   "outputs": [],
   "source": [
    "sys.path.append(os.getcwd()+'/../../qutip_sims')\n",
    "from QSwitch import QSwitch\n",
    "from PulseSequence import PulseSequence\n",
    "from TomoAnalysis import TomoAnalysis\n",
    "tomo_analysis = TomoAnalysis(nb_qubits=3)\n",
    "import qutip as qt\n",
    "import matplotlib.style as style\n",
    "style.use('S:\\Connie\\prx.mplstyle')"
   ]
  },
  {
   "cell_type": "markdown",
   "metadata": {},
   "source": [
    "# Parameters"
   ]
  },
  {
   "cell_type": "code",
   "execution_count": 7,
   "metadata": {},
   "outputs": [],
   "source": [
    "use_init_2q_state = True\n",
    "plot = True\n",
    "rho_MLE_ZZ_2Q_filepath = 'S:\\QRAM\\qram_4QR2\\data\\data_241025\\\\202412091502_init_rhoMLE_ZZ_2Q_01.npz'\n",
    "n_tomo_corrected_filepath = \"S:\\QRAM\\qram_4QR2\\data\\data_241025\\\\202412081553_ntomocorrected_3Q_023.npz\"\n",
    "save_plot_path = 'S:\\\\QRAM\\\\qram_4QR2\\\\plots\\\\tomo'\n",
    "\n",
    "\n",
    "\n",
    "evol_mats_path = \"S:\\\\QRAM\\\\qram_4QR2\\\\evol_mats\"\n",
    "tomo_qubits = [0, 2, 3]\n",
    "phis = [None, None, None] \n",
    "\n",
    "phis[0] = np.linspace(0, 360, 20)\n",
    "phis[1] = np.linspace(0, 360, 20)\n",
    "phis[2] = np.linspace(0, 360, 20)\n",
    "\n",
    "color_routing = '#ff7f50'\n",
    "color_signal = '#468499'\n",
    "color_q2 = '#E16F8F'\n",
    "color_basis = '#66CDAA'\n",
    "color_vec = []\n",
    "\n",
    "rho_qram = {'rho_base': {},\n",
    "            'rho_init': {},\n",
    "            'rho_ZZ': {},\n",
    "            'fidelity_base': {},\n",
    "            'fidelity_ZZ': {},\n",
    "            'purity_base': {},\n",
    "            'purity_ZZ': {},\n",
    "            'rho_base_rotated': {},\n",
    "            'rho_ZZ_rotated': {},\n",
    "            'fidelity_base_rotated': {},\n",
    "            'fidelity_ZZ_rotated': {},\n",
    "            'fidelity_base_avg': {},\n",
    "            'fidelity_ZZ_avg': {},\n",
    "            }\n",
    "\n"
   ]
  },
  {
   "cell_type": "code",
   "execution_count": 8,
   "metadata": {},
   "outputs": [],
   "source": [
    "psiZ = [qt.basis(2,0), qt.basis(2,1)]\n",
    "psiX = [1/np.sqrt(2)*(psiZ[0]+psiZ[1]), 1/np.sqrt(2)*(psiZ[0]-psiZ[1])]\n",
    "psiY = [1/np.sqrt(2)*(psiZ[0]+1j*psiZ[1]), 1/np.sqrt(2)*(psiZ[0]-1j*psiZ[1])]\n",
    "psi_dict = dict(Z=psiZ, X=psiX, Y=psiY)\n",
    "\n",
    "psis = dict() # psis in the ZZZ basis\n",
    "for i, label_numeric in enumerate(tomo_analysis.calib_order_numeric):\n",
    "    psis.update({label_numeric:tomo_analysis.psi_basis['ZZZ'][i]})\n",
    "id3q = qt.tensor(qt.qeye(2), qt.qeye(2), qt.qeye(2))\n",
    "id2q = qt.tensor(qt.qeye(2), qt.qeye(2))"
   ]
  },
  {
   "cell_type": "code",
   "execution_count": 9,
   "metadata": {},
   "outputs": [],
   "source": [
    "def get_qram_qSLR_state_from_rho(init_rho_SI, post_select=False, post_select_state=None):\n",
    "    \"\"\"\n",
    "    init_rho_SI should be a np array\n",
    "    \"\"\"\n",
    "    # in order |00>, |01>, |10>, |11> for Q0 (switch), Q1 (input)\n",
    "    # SI_to_SLR = [psis['000'], -1j*psis['010'], psis['100'], -1j*psis['101']]\n",
    "    SI_to_SLR = [psis['000'], psis['010'], psis['100'], psis['101']]\n",
    "\n",
    "    assert np.shape(init_rho_SI) == id2q.shape\n",
    "    rho_final_SLR = 0*qt.ket2dm(psis['000'])\n",
    "    print('constructing final state on |switch, out1, out2>')\n",
    "    for i in range(len(SI_to_SLR)):\n",
    "        slr_ket_i = SI_to_SLR[i]\n",
    "        for j in range(len(SI_to_SLR)):\n",
    "            slr_ket_j = SI_to_SLR[j]\n",
    "            mat_el = init_rho_SI[i, j]\n",
    "            rho_final_SLR += mat_el * slr_ket_i * slr_ket_j.dag()\n",
    "    return rho_final_SLR.unit()\n",
    "\n",
    "def name_to_state_2q(init_state): # in format |QA>|QB>\n",
    "    Qa, Qb, _ = init_state.split('>')\n",
    "    Qa = Qa[1:]\n",
    "    Qb = Qb[1:]\n",
    "    psi_name_dict = {\n",
    "        '0':psiZ[0],\n",
    "        '1':psiZ[1],\n",
    "        '0+1':(psiZ[0]+psiZ[1]).unit(),\n",
    "        '0-1':(psiZ[0]-psiZ[1]).unit(), \n",
    "        '0+i':(psiZ[0]+1j*psiZ[1]).unit(), \n",
    "        '0-i':(psiZ[0]-1j*psiZ[1]).unit(), \n",
    "    }\n",
    "    try:\n",
    "        psiA = psi_name_dict[Qa]\n",
    "    except:\n",
    "        print(f'QA state {Qa} is not an allowed cardinal state')\n",
    "    try:\n",
    "        psiB = psi_name_dict[Qb]\n",
    "    except:\n",
    "        print(f'QB state {Qb} is not an allowed cardinal state')\n",
    "    return qt.tensor(psiA, psiB)\n"
   ]
  },
  {
   "cell_type": "markdown",
   "metadata": {},
   "source": [
    "### Import 2q tomo"
   ]
  },
  {
   "cell_type": "code",
   "execution_count": 10,
   "metadata": {},
   "outputs": [
    {
     "name": "stdout",
     "output_type": "stream",
     "text": [
      "Using rho_MLE_ZZ for Q0/Q1 from file S:\\QRAM\\qram_4QR2\\data\\data_241025\\202412091502_init_rhoMLE_ZZ_2Q_01.npz\n",
      "rho_MLE_ZZ_dict retrieved with init_states dict_keys(['|0>|0>', '|0>|1>', '|0>|0+1>', '|0>|0+i>', '|1>|0>', '|1>|1>', '|1>|0+1>', '|1>|0+i>', '|0+1>|0>', '|0+1>|1>', '|0+1>|0+1>', '|0+1>|0+i>', '|0+i>|0>', '|0+i>|1>', '|0+i>|0+1>', '|0+i>|0+i>'])\n"
     ]
    }
   ],
   "source": [
    "# RETRIEVE SAVED 2Q TOMO INITIAL STATES FROM MEASUREMENT\n",
    "# rho_MLE_ZZ_2Q_filepath = 'S:\\QRAM\\qram_4QR2\\data\\data_241025\\\\202411051014_init_rhoMLE_ZZ_2Q_01.npz'\n",
    "\n",
    "print(f'Using rho_MLE_ZZ for Q0/Q1 from file {rho_MLE_ZZ_2Q_filepath}')\n",
    "\n",
    "rho_MLE_ZZ_dict = dict()\n",
    "with np.load(rho_MLE_ZZ_2Q_filepath) as npzfile:\n",
    "    for key in npzfile.keys():\n",
    "        rho_MLE_ZZ_dict.update({key:npzfile[key]})\n",
    "print(f'rho_MLE_ZZ_dict retrieved with init_states {rho_MLE_ZZ_dict.keys()}')"
   ]
  },
  {
   "cell_type": "code",
   "execution_count": 11,
   "metadata": {},
   "outputs": [],
   "source": [
    "_tomo_analysis = TomoAnalysis(nb_qubits=2)\n",
    "for init_state in rho_MLE_ZZ_dict.keys():\n",
    "    _tomo_analysis.show_plot_rho_2d(rho_MLE_ZZ_dict[init_state], title=f'Init {init_state}', cmax=0.5, size=(6,6), no_show=True)"
   ]
  },
  {
   "cell_type": "markdown",
   "metadata": {},
   "source": [
    "### Load evolv mats"
   ]
  },
  {
   "cell_type": "code",
   "execution_count": 12,
   "metadata": {},
   "outputs": [
    {
     "name": "stdout",
     "output_type": "stream",
     "text": [
      "Will save evol mats to path S:\\QRAM\\qram_4QR2\\evol_mats\n",
      "Using evol mats from file S:\\QRAM\\qram_4QR2\\evol_mats\\evol_mats_023.npz\n"
     ]
    }
   ],
   "source": [
    "print('Will save evol mats to path', evol_mats_path)\n",
    "qA, qB, qC = tomo_qubits\n",
    "evol_mats_filename = f'evol_mats_{qA}{qB}{qC}.npz'\n",
    "\n",
    "qA, qB, qC = tomo_qubits\n",
    "evol_mats_file_path = os.path.join(evol_mats_path, evol_mats_filename)\n",
    "# evol_mats_file_path = os.path.join(evol_mats_path, f'evol_mats_{qA}{qB}{qC}_test.npz')\n",
    "print(f'Using evol mats from file {evol_mats_file_path}')\n",
    "\n",
    "evol_mats = dict()\n",
    "with np.load(evol_mats_file_path) as npzfile:\n",
    "    for key in npzfile.keys():\n",
    "        evol_mats.update({key:npzfile[key]})"
   ]
  },
  {
   "cell_type": "code",
   "execution_count": 13,
   "metadata": {},
   "outputs": [
    {
     "name": "stdout",
     "output_type": "stream",
     "text": [
      "Using n_tomo_corrected_dict from file S:\\QRAM\\qram_4QR2\\data\\data_241025\\202412081553_ntomocorrected_3Q_023.npz\n",
      "n_tomo_corrected_dict retrieved with init_states\n",
      "['|0>|0>' '|0>|1>' '|0>|0+1>' '|0>|0+i>' '|1>|0>' '|1>|1>' '|1>|0+1>'\n",
      " '|1>|0+i>' '|0+1>|0>' '|0+1>|1>' '|0+1>|0+1>' '|0+1>|0+i>' '|0+i>|0>'\n",
      " '|0+i>|1>' '|0+i>|0+1>' '|0+i>|0+i>']\n",
      "play_pulses [2, 1, 4, 3]\n"
     ]
    }
   ],
   "source": [
    "print(f\"Using n_tomo_corrected_dict from file {n_tomo_corrected_filepath}\")\n",
    "n_tomo_corrected_dict = dict()\n",
    "\n",
    "# n_tomo_corrected_dict.update({\"saved_files\":saved_files})\n",
    "with np.load(n_tomo_corrected_filepath, allow_pickle=True) as npzfile:\n",
    "    for key in npzfile.keys():\n",
    "        n_tomo_corrected_dict.update({key:npzfile[key]})\n",
    "\n",
    "init_states = n_tomo_corrected_dict[\"init_states\"]\n",
    "\n",
    "if 'saved_files' in init_states: init_states = init_states[:-1]\n",
    "\n",
    "print(f'n_tomo_corrected_dict retrieved with init_states\\n{init_states}')\n",
    "all_configs = n_tomo_corrected_dict[\"all_configs\"].item() #[0]\n",
    "# print(all_configs.keys())\n",
    "\n",
    "\n",
    "cfg = AttrDict(all_configs[init_states[0]])\n",
    "play_pulses = cfg.expt.play_pulses\n",
    "tomo_qubits = cfg.expt.tomo_qubits\n",
    "\n",
    "print(\"play_pulses\", play_pulses)"
   ]
  },
  {
   "cell_type": "code",
   "execution_count": 14,
   "metadata": {},
   "outputs": [
    {
     "name": "stdout",
     "output_type": "stream",
     "text": [
      "init state (Q0 (switch) Q1 (input)): |0>|0>\n",
      "constructing final state on |switch, out1, out2>\n",
      "init state (Q0 (switch) Q1 (input)): |0>|1>\n",
      "constructing final state on |switch, out1, out2>\n"
     ]
    },
    {
     "name": "stderr",
     "output_type": "stream",
     "text": [
      "ComplexWarning: Casting complex values to real discards the imaginary part\n",
      " s:\\Seb\\experiements\\qram_tprocv1_expts\\TomoAnalysis.py: 1234ComplexWarning: Casting complex values to real discards the imaginary part\n",
      " s:\\Seb\\experiements\\qram_tprocv1_expts\\TomoAnalysis.py: 1239"
     ]
    },
    {
     "name": "stdout",
     "output_type": "stream",
     "text": [
      "init state (Q0 (switch) Q1 (input)): |0>|0+1>\n",
      "constructing final state on |switch, out1, out2>\n",
      "init state (Q0 (switch) Q1 (input)): |0>|0+i>\n",
      "constructing final state on |switch, out1, out2>\n",
      "init state (Q0 (switch) Q1 (input)): |1>|0>\n",
      "constructing final state on |switch, out1, out2>\n",
      "init state (Q0 (switch) Q1 (input)): |1>|1>\n",
      "constructing final state on |switch, out1, out2>\n",
      "init state (Q0 (switch) Q1 (input)): |1>|0+1>\n",
      "constructing final state on |switch, out1, out2>\n",
      "init state (Q0 (switch) Q1 (input)): |1>|0+i>\n",
      "constructing final state on |switch, out1, out2>\n",
      "init state (Q0 (switch) Q1 (input)): |0+1>|0>\n",
      "constructing final state on |switch, out1, out2>\n",
      "init state (Q0 (switch) Q1 (input)): |0+1>|1>\n",
      "constructing final state on |switch, out1, out2>\n",
      "init state (Q0 (switch) Q1 (input)): |0+1>|0+1>\n",
      "constructing final state on |switch, out1, out2>\n",
      "init state (Q0 (switch) Q1 (input)): |0+1>|0+i>\n",
      "constructing final state on |switch, out1, out2>\n",
      "init state (Q0 (switch) Q1 (input)): |0+i>|0>\n",
      "constructing final state on |switch, out1, out2>\n",
      "init state (Q0 (switch) Q1 (input)): |0+i>|1>\n",
      "constructing final state on |switch, out1, out2>\n",
      "init state (Q0 (switch) Q1 (input)): |0+i>|0+1>\n",
      "constructing final state on |switch, out1, out2>\n",
      "init state (Q0 (switch) Q1 (input)): |0+i>|0+i>\n",
      "constructing final state on |switch, out1, out2>\n"
     ]
    }
   ],
   "source": [
    "for init_state in init_states:\n",
    "    print('init state (Q0 (switch) Q1 (input)):', init_state)\n",
    "    n_tomo_corrected = n_tomo_corrected_dict[init_state]\n",
    "    \n",
    "    if use_init_2q_state: init_rho = rho_MLE_ZZ_dict[init_state]\n",
    "    else: init_rho = qt.ket2dm(name_to_state_2q(init_state)).full()\n",
    "    rho_id = get_qram_qSLR_state_from_rho(init_rho)\n",
    "\n",
    "    # ------------------------------ #\n",
    "    # Base MLE\n",
    "    # ------------------------------ #\n",
    "    \n",
    "    rho_MLE_base = tomo_analysis.get_rho_from_counts(\n",
    "        n_tomo_raw=n_tomo_corrected,\n",
    "        n_calib=None,\n",
    "        correct_readout=False,\n",
    "        correct_neg_counts=True,\n",
    "        method='analytical',\n",
    "        ZZ_correction=False,\n",
    "    )\n",
    " \n",
    "    fid_base = qt.fidelity(qt.Qobj(rho_MLE_base, dims=rho_id.dims), rho_id)**2 # qutip uses N&C fidelity which is \"sqrt fidelity\"\n",
    "    purity_base = np.real(np.trace(rho_MLE_base @ rho_MLE_base))\n",
    "    purity_id = np.real(np.trace(rho_id.full() @ rho_id.full()))\n",
    "    # print(f'Fidelity (base): {fid_base}')\n",
    "    # print(f'Purity (base): {purity_base}')\n",
    "    # print(f'Target purity: {purity_id}')\n",
    "    \n",
    "    # if saveplots: savetitle = saved_file[:-3]+f'_base{save_append}.svg'\n",
    "    # else: savetitle = None\n",
    "    # show_plot_rho_2d(rho_MLE_base, rho_id, title=f'Base MLE (Q{tomo_qubits[0]}, Q{tomo_qubits[1]}, Q{tomo_qubits[2]}), Init {init_state}, Play {play_pulses}', savetitle=savetitle, cmax=0.5)\n",
    "    \n",
    "    # rhos_base.append(rho_MLE_base)\n",
    "    # fidelities_base.append(fid_base)\n",
    "    # purities_base.append(purity_base)\n",
    "    \n",
    "    # tomo_analysis.show_plot_rho_2d(rho_MLE_base, rho_id.full(), title=f'Init {init_state}, Play {play_pulses}', cmax=0.5, size=(6,6), savetitle=save_plot_path+'\\\\' +_init_state+'_base.pdf', no_show=True)\n",
    "    \n",
    "    \n",
    "    rho_qram['rho_base'][init_state] = rho_MLE_base\n",
    "    rho_qram['fidelity_base'][init_state] = fid_base\n",
    "    rho_qram['purity_base'][init_state] = purity_base\n",
    "    rho_qram['rho_init'][init_state] = rho_id\n",
    "        \n",
    "    rho_MLE = rho_MLE_base\n",
    "\n",
    "    # ------------------------------ #\n",
    "    # MLE with ZZ\n",
    "    # ------------------------------ #\n",
    "\n",
    "    rho_MLE_ZZ = tomo_analysis.get_rho_from_counts(\n",
    "        n_tomo_raw=n_tomo_corrected,\n",
    "        n_calib=None,\n",
    "        correct_readout=False,\n",
    "        correct_neg_counts=True,\n",
    "        method='analytical',\n",
    "        ZZ_correction=True,\n",
    "        evol_mats=evol_mats\n",
    "    )\n",
    "\n",
    "    fid_ZZ = qt.fidelity(qt.Qobj(rho_MLE_ZZ, dims=rho_id.dims), rho_id)**2 # qutip uses N&C fidelity which is \"sqrt fidelity\"\n",
    "    purity_ZZ = np.real(np.trace(rho_MLE_ZZ @ rho_MLE_ZZ))\n",
    "    purity_id = np.real(np.trace(rho_id.full() @ rho_id.full()))\n",
    "    # print(f'Fidelity (with ZZ correction): {fid_ZZ}')\n",
    "    # print(f'Purity (with ZZ correction): {purity_ZZ}')\n",
    "    # print(f'Target purity: {purity_id}')\n",
    "    \n",
    "    \n",
    "    _init_state = init_state.replace('|', '')\n",
    "    _init_state = _init_state.replace('>', '')\n",
    "\n",
    "\n",
    "\n",
    "    # tomo_analysis.show_plot_rho_2d(rho_MLE_ZZ, rho_id.full(), title=f'Init {init_state}, Play {play_pulses}', cmax=0.5, size=(6,6), savetitle=save_plot_path+'\\\\' +_init_state+'_ZZ.pdf', no_show=True)\n",
    "    \n",
    "    rho_qram['rho_ZZ'][init_state] = rho_MLE_ZZ\n",
    "    rho_qram['fidelity_ZZ'][init_state] = fid_ZZ\n",
    "    rho_qram['purity_ZZ'][init_state] = purity_ZZ"
   ]
  },
  {
   "cell_type": "markdown",
   "metadata": {},
   "source": [
    "## Rotations"
   ]
  },
  {
   "cell_type": "markdown",
   "metadata": {},
   "source": [
    "### From base"
   ]
  },
  {
   "cell_type": "code",
   "execution_count": 15,
   "metadata": {},
   "outputs": [],
   "source": [
    "fid_grid_base = []"
   ]
  },
  {
   "cell_type": "code",
   "execution_count": 16,
   "metadata": {},
   "outputs": [
    {
     "data": {
      "application/vnd.jupyter.widget-view+json": {
       "model_id": "f883365648454f63955b6be8a430e37b",
       "version_major": 2,
       "version_minor": 0
      },
      "text/plain": [
       "  0%|          | 0/8000 [00:00<?, ?it/s]"
      ]
     },
     "metadata": {},
     "output_type": "display_data"
    },
    {
     "name": "stdout",
     "output_type": "stream",
     "text": [
      "Improved fidelity by (%) 0.03392528653565208\n",
      "State: |0>|0>\n",
      "Best fidelity for base rotated: 0.9873463243349291\n",
      "compared to fidelity without rotation: 0.9870070714695726\n"
     ]
    },
    {
     "data": {
      "application/vnd.jupyter.widget-view+json": {
       "model_id": "9289afb3705846acab9301bc49f9f7e0",
       "version_major": 2,
       "version_minor": 0
      },
      "text/plain": [
       "  0%|          | 0/8000 [00:00<?, ?it/s]"
      ]
     },
     "metadata": {},
     "output_type": "display_data"
    },
    {
     "name": "stdout",
     "output_type": "stream",
     "text": [
      "Improved fidelity by (%) 0.1420038016305747\n",
      "State: |0>|1>\n",
      "Best fidelity for base rotated: 0.9558398200243213\n",
      "compared to fidelity without rotation: 0.9544197820080156\n"
     ]
    },
    {
     "data": {
      "application/vnd.jupyter.widget-view+json": {
       "model_id": "10e7798f92c448868ab2fdfe1ae41675",
       "version_major": 2,
       "version_minor": 0
      },
      "text/plain": [
       "  0%|          | 0/8000 [00:00<?, ?it/s]"
      ]
     },
     "metadata": {},
     "output_type": "display_data"
    },
    {
     "name": "stdout",
     "output_type": "stream",
     "text": [
      "Improved fidelity by (%) 10.100902709296733\n",
      "State: |0>|0+1>\n",
      "Best fidelity for base rotated: 0.9514418802751271\n",
      "compared to fidelity without rotation: 0.8504328531821598\n"
     ]
    },
    {
     "data": {
      "application/vnd.jupyter.widget-view+json": {
       "model_id": "e0366a57b8e14ec3b2a8abf2a3931063",
       "version_major": 2,
       "version_minor": 0
      },
      "text/plain": [
       "  0%|          | 0/8000 [00:00<?, ?it/s]"
      ]
     },
     "metadata": {},
     "output_type": "display_data"
    },
    {
     "name": "stdout",
     "output_type": "stream",
     "text": [
      "Improved fidelity by (%) 7.681491978646438\n",
      "State: |0>|0+i>\n",
      "Best fidelity for base rotated: 0.9605262586385698\n",
      "compared to fidelity without rotation: 0.8837113388521054\n"
     ]
    },
    {
     "data": {
      "application/vnd.jupyter.widget-view+json": {
       "model_id": "1c74a363aff04caf868125d13b4c55ae",
       "version_major": 2,
       "version_minor": 0
      },
      "text/plain": [
       "  0%|          | 0/8000 [00:00<?, ?it/s]"
      ]
     },
     "metadata": {},
     "output_type": "display_data"
    },
    {
     "name": "stdout",
     "output_type": "stream",
     "text": [
      "Improved fidelity by (%) 0.896600940174308\n",
      "State: |1>|0>\n",
      "Best fidelity for base rotated: 0.99117466412185\n",
      "compared to fidelity without rotation: 0.9822086547201069\n"
     ]
    },
    {
     "data": {
      "application/vnd.jupyter.widget-view+json": {
       "model_id": "5bfaaac9acf74e70ba5f36322b5e850b",
       "version_major": 2,
       "version_minor": 0
      },
      "text/plain": [
       "  0%|          | 0/8000 [00:00<?, ?it/s]"
      ]
     },
     "metadata": {},
     "output_type": "display_data"
    },
    {
     "name": "stdout",
     "output_type": "stream",
     "text": [
      "Improved fidelity by (%) 0.4630736467369889\n",
      "State: |1>|1>\n",
      "Best fidelity for base rotated: 0.8655009328303765\n",
      "compared to fidelity without rotation: 0.8608701963630067\n"
     ]
    },
    {
     "data": {
      "application/vnd.jupyter.widget-view+json": {
       "model_id": "c17dc92fb98e43c59530d438ec3923a7",
       "version_major": 2,
       "version_minor": 0
      },
      "text/plain": [
       "  0%|          | 0/8000 [00:00<?, ?it/s]"
      ]
     },
     "metadata": {},
     "output_type": "display_data"
    },
    {
     "name": "stdout",
     "output_type": "stream",
     "text": [
      "Improved fidelity by (%) 42.28929886524987\n",
      "State: |1>|0+1>\n",
      "Best fidelity for base rotated: 0.9501306934916519\n",
      "compared to fidelity without rotation: 0.5272377048391532\n"
     ]
    },
    {
     "data": {
      "application/vnd.jupyter.widget-view+json": {
       "model_id": "2f399715fb404e8089e90ca565a2712c",
       "version_major": 2,
       "version_minor": 0
      },
      "text/plain": [
       "  0%|          | 0/8000 [00:00<?, ?it/s]"
      ]
     },
     "metadata": {},
     "output_type": "display_data"
    },
    {
     "name": "stdout",
     "output_type": "stream",
     "text": [
      "Improved fidelity by (%) 42.01679204083562\n",
      "State: |1>|0+i>\n",
      "Best fidelity for base rotated: 0.9480147253469674\n",
      "compared to fidelity without rotation: 0.5278468049386112\n"
     ]
    },
    {
     "data": {
      "application/vnd.jupyter.widget-view+json": {
       "model_id": "26f786df24fc40c38902223460b8ce09",
       "version_major": 2,
       "version_minor": 0
      },
      "text/plain": [
       "  0%|          | 0/8000 [00:00<?, ?it/s]"
      ]
     },
     "metadata": {},
     "output_type": "display_data"
    },
    {
     "name": "stdout",
     "output_type": "stream",
     "text": [
      "Improved fidelity by (%) 1.0827159083506177\n",
      "State: |0+1>|0>\n",
      "Best fidelity for base rotated: 0.9703618849721399\n",
      "compared to fidelity without rotation: 0.9595347258886338\n"
     ]
    },
    {
     "data": {
      "application/vnd.jupyter.widget-view+json": {
       "model_id": "2c51448ced7c46ab9e645c53066c53c6",
       "version_major": 2,
       "version_minor": 0
      },
      "text/plain": [
       "  0%|          | 0/8000 [00:00<?, ?it/s]"
      ]
     },
     "metadata": {},
     "output_type": "display_data"
    },
    {
     "name": "stdout",
     "output_type": "stream",
     "text": [
      "Improved fidelity by (%) 6.694274277241452\n",
      "State: |0+1>|1>\n",
      "Best fidelity for base rotated: 0.9799942594324734\n",
      "compared to fidelity without rotation: 0.9130515166600589\n"
     ]
    },
    {
     "data": {
      "application/vnd.jupyter.widget-view+json": {
       "model_id": "8c47d46d506d4da292b945db69780bfa",
       "version_major": 2,
       "version_minor": 0
      },
      "text/plain": [
       "  0%|          | 0/8000 [00:00<?, ?it/s]"
      ]
     },
     "metadata": {},
     "output_type": "display_data"
    },
    {
     "name": "stdout",
     "output_type": "stream",
     "text": [
      "Improved fidelity by (%) 53.503093473575404\n",
      "State: |0+1>|0+1>\n",
      "Best fidelity for base rotated: 0.9646115679682372\n",
      "compared to fidelity without rotation: 0.4295806332324832\n"
     ]
    },
    {
     "data": {
      "application/vnd.jupyter.widget-view+json": {
       "model_id": "709ee59af9324cac9f1b8bf9a8e4e847",
       "version_major": 2,
       "version_minor": 0
      },
      "text/plain": [
       "  0%|          | 0/8000 [00:00<?, ?it/s]"
      ]
     },
     "metadata": {},
     "output_type": "display_data"
    },
    {
     "name": "stdout",
     "output_type": "stream",
     "text": [
      "Improved fidelity by (%) 53.457622345674324\n",
      "State: |0+1>|0+i>\n",
      "Best fidelity for base rotated: 0.9755652516775322\n",
      "compared to fidelity without rotation: 0.44098902822078884\n"
     ]
    },
    {
     "data": {
      "application/vnd.jupyter.widget-view+json": {
       "model_id": "b7b1ba23af054046a76d36127cea8643",
       "version_major": 2,
       "version_minor": 0
      },
      "text/plain": [
       "  0%|          | 0/8000 [00:00<?, ?it/s]"
      ]
     },
     "metadata": {},
     "output_type": "display_data"
    },
    {
     "name": "stdout",
     "output_type": "stream",
     "text": [
      "Improved fidelity by (%) 3.190205641206534\n",
      "State: |0+i>|0>\n",
      "Best fidelity for base rotated: 0.9714475187891896\n",
      "compared to fidelity without rotation: 0.9395454623771242\n"
     ]
    },
    {
     "data": {
      "application/vnd.jupyter.widget-view+json": {
       "model_id": "70b88015dccd49919b3830c7fba50d5a",
       "version_major": 2,
       "version_minor": 0
      },
      "text/plain": [
       "  0%|          | 0/8000 [00:00<?, ?it/s]"
      ]
     },
     "metadata": {},
     "output_type": "display_data"
    },
    {
     "name": "stdout",
     "output_type": "stream",
     "text": [
      "Improved fidelity by (%) 4.899849163847502\n",
      "State: |0+i>|1>\n",
      "Best fidelity for base rotated: 0.9678841571977551\n",
      "compared to fidelity without rotation: 0.9188856655592801\n"
     ]
    },
    {
     "data": {
      "application/vnd.jupyter.widget-view+json": {
       "model_id": "0d78d7c39369498d9eea835a7ba6364d",
       "version_major": 2,
       "version_minor": 0
      },
      "text/plain": [
       "  0%|          | 0/8000 [00:00<?, ?it/s]"
      ]
     },
     "metadata": {},
     "output_type": "display_data"
    },
    {
     "name": "stdout",
     "output_type": "stream",
     "text": [
      "Improved fidelity by (%) 54.218997870617855\n",
      "State: |0+i>|0+1>\n",
      "Best fidelity for base rotated: 0.9644675236059627\n",
      "compared to fidelity without rotation: 0.42227754489978414\n"
     ]
    },
    {
     "data": {
      "application/vnd.jupyter.widget-view+json": {
       "model_id": "7062eae3f6c54d94850edac7e95d2aa7",
       "version_major": 2,
       "version_minor": 0
      },
      "text/plain": [
       "  0%|          | 0/8000 [00:00<?, ?it/s]"
      ]
     },
     "metadata": {},
     "output_type": "display_data"
    },
    {
     "name": "stdout",
     "output_type": "stream",
     "text": [
      "Improved fidelity by (%) 48.974087922021056\n",
      "State: |0+i>|0+i>\n",
      "Best fidelity for base rotated: 0.96299024305662\n",
      "compared to fidelity without rotation: 0.47324936383640936\n"
     ]
    }
   ],
   "source": [
    "for init_state in init_states:\n",
    "    _rho_base = rho_qram['rho_base'][init_state]\n",
    "    _rho_id = rho_qram['rho_init'][init_state]\n",
    "    rho_MLE_rot, best_phis, best_fid, fids_grid = tomo_analysis.opt_virtualZ_MLE(qt.Qobj(_rho_base, dims=rho_id.dims), qt.Qobj(_rho_id, dims=id3q.dims), phis=phis, progress=True)\n",
    "    rho_qram['rho_base_rotated'][init_state] = rho_MLE_rot\n",
    "    rho_qram['fidelity_base_rotated'][init_state] = best_fid\n",
    "    print('State:', init_state)\n",
    "    print(f'Best fidelity for base rotated: {best_fid}')\n",
    "    print(f'compared to fidelity without rotation: {rho_qram[\"fidelity_base\"][init_state]}')\n",
    "    \n",
    "    fid_grid_base.append(fids_grid)\n",
    "    \n",
    "    _init_state = init_state.replace('|', '')\n",
    "    _init_state = _init_state.replace('>', '')\n",
    "    \n",
    "\n",
    "    # tomo_analysis.show_plot_rho_2d(rho_MLE_rot.full(), _rho_id.full(), title=f'Init {init_state}, Play {play_pulses}', cmax=0.5, size=(6,6), savetitle=save_plot_path+'\\\\' +_init_state+'_opt_angle_base.pdf', no_show=True)\n",
    "    \n"
   ]
  },
  {
   "cell_type": "code",
   "execution_count": 17,
   "metadata": {},
   "outputs": [],
   "source": [
    "# remove 11 from the init states\n",
    "check_init_states = init_states\n",
    "# check_init_states = init_states[init_states != '|1>|1>']\n"
   ]
  },
  {
   "cell_type": "code",
   "execution_count": 18,
   "metadata": {},
   "outputs": [
    {
     "name": "stdout",
     "output_type": "stream",
     "text": [
      "(16, 20, 20, 20)\n"
     ]
    }
   ],
   "source": [
    "fids_grids_reshaped = []\n",
    "for i_state in range(len(init_states)):\n",
    "    grid_shape = fid_grid_base[i_state].shape\n",
    "    # print(grid_shape)\n",
    "    fids_grid = np.copy(fid_grid_base[i_state]).tolist()\n",
    "    # print(init_states[i_state], grid_shape)\n",
    "    if grid_shape[0] == 1:\n",
    "        for i in range(grid_shape[1]-1):\n",
    "            fids_grid.append(fids_grid[0])\n",
    "    # print(np.array(fids_grid).shape)\n",
    "    fids_grids_reshaped.append(fids_grid)\n",
    "    \n",
    "fids_grids_reshaped = np.array(fids_grids_reshaped)\n",
    "print(fids_grids_reshaped.shape)\n",
    "\n",
    "\n",
    "best_avg_fid = 0\n",
    "best_fids = []\n",
    "best_phis = [0, 0, 0]\n",
    "best_phi_indices = [0, 0, 0]\n",
    "for iphi0, phi0 in enumerate(phis[0]):\n",
    "    for iphi1, phi1 in enumerate(phis[1]):\n",
    "        for iphi2, phi2 in enumerate(phis[2]):\n",
    "            avg_fid = 0\n",
    "            for i_state, init_state in enumerate(init_states):\n",
    "                if init_state not in check_init_states: continue\n",
    "                avg_fid += fids_grids_reshaped[i_state][iphi0, iphi1, iphi2]\n",
    "            avg_fid /= len(check_init_states)\n",
    "            if avg_fid > best_avg_fid:\n",
    "                best_phis = [phi0, phi1, phi2]\n",
    "                best_phi_indices = [iphi0, iphi1, iphi2]\n",
    "                best_avg_fid = avg_fid\n",
    "                \n",
    "                \n",
    "                \n",
    "                \n",
    "for id, init_state in enumerate(init_states):\n",
    "    _fid_avg = fids_grids_reshaped[id][best_phi_indices[0], best_phi_indices[1], best_phi_indices[2]]\n",
    "    rho_qram['fidelity_base_avg'][init_state] = _fid_avg\n",
    "                \n",
    "                \n"
   ]
  },
  {
   "cell_type": "code",
   "execution_count": 19,
   "metadata": {},
   "outputs": [
    {
     "name": "stdout",
     "output_type": "stream",
     "text": [
      "Average fidelity: 0.9381422226418243\n",
      "Best fidelities: 0.9604561066102315\n"
     ]
    }
   ],
   "source": [
    "print('Average fidelity:', best_avg_fid)\n",
    "print('Best fidelities:', np.mean(list(rho_qram['fidelity_base_rotated'].values())))"
   ]
  },
  {
   "cell_type": "markdown",
   "metadata": {},
   "source": [
    "### Plotting"
   ]
  },
  {
   "cell_type": "code",
   "execution_count": 60,
   "metadata": {},
   "outputs": [],
   "source": [
    "color_vec = []\n",
    "\n",
    "for i_state, init_state in enumerate(init_states):\n",
    "    \n",
    "    _init_state = init_state.replace('|', '')\n",
    "    q0, q1 = _init_state[:-1].split('>')\n",
    "    if q0 == '0+1' or q0=='0+i':\n",
    "        if q1 != '0+1' and q1 !='0+i':\n",
    "            color_vec.append(color_routing)\n",
    "        else:\n",
    "            color_vec.append(color_q2)\n",
    "\n",
    "    else: \n",
    "        if q1 == '0+1' or q1=='0+i':\n",
    "            color_vec.append(color_signal)\n",
    "        else:\n",
    "            color_vec.append(color_basis)\n"
   ]
  },
  {
   "cell_type": "code",
   "execution_count": 61,
   "metadata": {},
   "outputs": [
    {
     "name": "stdout",
     "output_type": "stream",
     "text": [
      "[0, 1, 4, 5, 2, 3, 6, 7, 8, 9, 12, 13, 10, 11, 14, 15]\n"
     ]
    }
   ],
   "source": [
    "nb_color = []\n",
    "\n",
    "# sort the data so that the color are together and in the color_basis/color_signal/color_routing/color_q2 order\n",
    "\n",
    "idx_basis = [i for i, color in enumerate(color_vec) if color == color_basis]\n",
    "idx_signal = [i for i, color in enumerate(color_vec) if color == color_signal]\n",
    "idx_routing = [i for i, color in enumerate(color_vec) if color == color_routing]\n",
    "idx_q2 = [i for i, color in enumerate(color_vec) if color == color_q2]\n",
    "\n",
    "idx_order = idx_basis + idx_signal + idx_routing + idx_q2\n",
    "\n",
    "print(idx_order)\n"
   ]
  },
  {
   "cell_type": "code",
   "execution_count": 62,
   "metadata": {},
   "outputs": [],
   "source": [
    "fig, ax = plt.subplots(1, 1, figsize=(10, 3))\n",
    "\n",
    "x_labels = []\n",
    "y_best = []\n",
    "y_avg = []\n",
    "\n",
    "color_plot = []\n",
    "for i in idx_order:\n",
    "    init_state = init_states[i]\n",
    "    _init_state = init_state.replace('>', '\\\\rangle')\n",
    "    x_labels.append(f'${_init_state}$')\n",
    "    y_best.append(rho_qram['fidelity_base_rotated'][init_state])\n",
    "    y_avg.append(rho_qram['fidelity_base_avg'][init_state])\n",
    "    color_plot.append(color_vec[i])\n",
    "    \n",
    "ax.bar(x_labels, y_best, color=color_plot, alpha=0.8, edgecolor=color_plot, linewidth=1, fill=True)\n",
    "ax.bar(x_labels, y_avg, color='white', edgecolor=color_plot, linewidth=1, fill=False)\n",
    "\n",
    "# tilt the x labels by 45 degrees\n",
    "for tick in ax.get_xticklabels():\n",
    "    tick.set_rotation(45)\n",
    "\n",
    "ax.set_ylabel('Fidelity')\n",
    "\n",
    "\n",
    "ax.set_ylim(0.75, 1.01)\n",
    "\n",
    "fig.tight_layout()\n",
    "fig.show()\n"
   ]
  },
  {
   "cell_type": "markdown",
   "metadata": {},
   "source": [
    "### From ZZ"
   ]
  },
  {
   "cell_type": "code",
   "execution_count": 23,
   "metadata": {},
   "outputs": [
    {
     "data": {
      "application/vnd.jupyter.widget-view+json": {
       "model_id": "b0b144d42a2540f6b71b6078c4aa37b3",
       "version_major": 2,
       "version_minor": 0
      },
      "text/plain": [
       "  0%|          | 0/8000 [00:00<?, ?it/s]"
      ]
     },
     "metadata": {},
     "output_type": "display_data"
    },
    {
     "name": "stdout",
     "output_type": "stream",
     "text": [
      "Improved fidelity by (%) 0.020341953724456463\n",
      "State: |0>|0>\n",
      "Best fidelity for base rotated: 0.9874624853880273\n",
      "compared to fidelity without rotation: 0.9870070714695726\n",
      "fid_grid_ZZ (20, 20, 20)\n"
     ]
    },
    {
     "data": {
      "application/vnd.jupyter.widget-view+json": {
       "model_id": "0b5c4e7f0a13457bbe82adb6c7cbd753",
       "version_major": 2,
       "version_minor": 0
      },
      "text/plain": [
       "  0%|          | 0/8000 [00:00<?, ?it/s]"
      ]
     },
     "metadata": {},
     "output_type": "display_data"
    },
    {
     "name": "stdout",
     "output_type": "stream",
     "text": [
      "Improved fidelity by (%) 0.06255913659150014\n",
      "State: |0>|1>\n",
      "Best fidelity for base rotated: 0.9557620736018843\n",
      "compared to fidelity without rotation: 0.9544197820080156\n",
      "fid_grid_ZZ (20, 20, 20)\n"
     ]
    },
    {
     "data": {
      "application/vnd.jupyter.widget-view+json": {
       "model_id": "b023940107a944ba9b1aae939e777997",
       "version_major": 2,
       "version_minor": 0
      },
      "text/plain": [
       "  0%|          | 0/8000 [00:00<?, ?it/s]"
      ]
     },
     "metadata": {},
     "output_type": "display_data"
    },
    {
     "name": "stdout",
     "output_type": "stream",
     "text": [
      "Improved fidelity by (%) 9.973353702756672\n",
      "State: |0>|0+1>\n",
      "Best fidelity for base rotated: 0.9511462254968931\n",
      "compared to fidelity without rotation: 0.8504328531821598\n",
      "fid_grid_ZZ (20, 20, 20)\n"
     ]
    },
    {
     "data": {
      "application/vnd.jupyter.widget-view+json": {
       "model_id": "ff6c5807b7144a8b95469296ff6adec1",
       "version_major": 2,
       "version_minor": 0
      },
      "text/plain": [
       "  0%|          | 0/8000 [00:00<?, ?it/s]"
      ]
     },
     "metadata": {},
     "output_type": "display_data"
    },
    {
     "name": "stdout",
     "output_type": "stream",
     "text": [
      "Improved fidelity by (%) 7.5603086133829045\n",
      "State: |0>|0+i>\n",
      "Best fidelity for base rotated: 0.9597064859195404\n",
      "compared to fidelity without rotation: 0.8837113388521054\n",
      "fid_grid_ZZ (20, 20, 20)\n"
     ]
    },
    {
     "data": {
      "application/vnd.jupyter.widget-view+json": {
       "model_id": "7a02a728d5d9470a8da2df0f3ec4cfff",
       "version_major": 2,
       "version_minor": 0
      },
      "text/plain": [
       "  0%|          | 0/8000 [00:00<?, ?it/s]"
      ]
     },
     "metadata": {},
     "output_type": "display_data"
    },
    {
     "name": "stdout",
     "output_type": "stream",
     "text": [
      "Improved fidelity by (%) 0.7575791322192549\n",
      "State: |1>|0>\n",
      "Best fidelity for base rotated: 0.9915562281196512\n",
      "compared to fidelity without rotation: 0.9822086547201069\n",
      "fid_grid_ZZ (20, 20, 20)\n"
     ]
    },
    {
     "data": {
      "application/vnd.jupyter.widget-view+json": {
       "model_id": "c5d42fa61050419f94e066da11a0c746",
       "version_major": 2,
       "version_minor": 0
      },
      "text/plain": [
       "  0%|          | 0/8000 [00:00<?, ?it/s]"
      ]
     },
     "metadata": {},
     "output_type": "display_data"
    },
    {
     "name": "stdout",
     "output_type": "stream",
     "text": [
      "Improved fidelity by (%) 0.2156308618013969\n",
      "State: |1>|1>\n",
      "Best fidelity for base rotated: 0.8667329803410403\n",
      "compared to fidelity without rotation: 0.8608701963630067\n",
      "fid_grid_ZZ (20, 20, 20)\n"
     ]
    },
    {
     "data": {
      "application/vnd.jupyter.widget-view+json": {
       "model_id": "df9322e2e7914e8e9730d4cd8e0e312c",
       "version_major": 2,
       "version_minor": 0
      },
      "text/plain": [
       "  0%|          | 0/8000 [00:00<?, ?it/s]"
      ]
     },
     "metadata": {},
     "output_type": "display_data"
    },
    {
     "name": "stdout",
     "output_type": "stream",
     "text": [
      "Improved fidelity by (%) 38.20003623359902\n",
      "State: |1>|0+1>\n",
      "Best fidelity for base rotated: 0.9524269875670915\n",
      "compared to fidelity without rotation: 0.5272377048391532\n",
      "fid_grid_ZZ (20, 20, 20)\n"
     ]
    },
    {
     "data": {
      "application/vnd.jupyter.widget-view+json": {
       "model_id": "bf35ab17b02b41228a7f8238e7a8e4f0",
       "version_major": 2,
       "version_minor": 0
      },
      "text/plain": [
       "  0%|          | 0/8000 [00:00<?, ?it/s]"
      ]
     },
     "metadata": {},
     "output_type": "display_data"
    },
    {
     "name": "stdout",
     "output_type": "stream",
     "text": [
      "Improved fidelity by (%) 37.484903638690525\n",
      "State: |1>|0+i>\n",
      "Best fidelity for base rotated: 0.9515285383932627\n",
      "compared to fidelity without rotation: 0.5278468049386112\n",
      "fid_grid_ZZ (20, 20, 20)\n"
     ]
    },
    {
     "data": {
      "application/vnd.jupyter.widget-view+json": {
       "model_id": "25ded78ffaba41e589997e96433b5107",
       "version_major": 2,
       "version_minor": 0
      },
      "text/plain": [
       "  0%|          | 0/8000 [00:00<?, ?it/s]"
      ]
     },
     "metadata": {},
     "output_type": "display_data"
    },
    {
     "name": "stdout",
     "output_type": "stream",
     "text": [
      "Improved fidelity by (%) 1.125995469031582\n",
      "State: |0+1>|0>\n",
      "Best fidelity for base rotated: 0.9710015941052927\n",
      "compared to fidelity without rotation: 0.9595347258886338\n",
      "fid_grid_ZZ (20, 20, 20)\n"
     ]
    },
    {
     "data": {
      "application/vnd.jupyter.widget-view+json": {
       "model_id": "8a4639dc1d814c53a09beee51916ba15",
       "version_major": 2,
       "version_minor": 0
      },
      "text/plain": [
       "  0%|          | 0/8000 [00:00<?, ?it/s]"
      ]
     },
     "metadata": {},
     "output_type": "display_data"
    },
    {
     "name": "stdout",
     "output_type": "stream",
     "text": [
      "Improved fidelity by (%) 2.1657521894295484\n",
      "State: |0+1>|1>\n",
      "Best fidelity for base rotated: 0.9873346511075443\n",
      "compared to fidelity without rotation: 0.9130515166600589\n",
      "fid_grid_ZZ (20, 20, 20)\n"
     ]
    },
    {
     "data": {
      "application/vnd.jupyter.widget-view+json": {
       "model_id": "2ecee85ebd994f8ba520f19a46f4bd97",
       "version_major": 2,
       "version_minor": 0
      },
      "text/plain": [
       "  0%|          | 0/8000 [00:00<?, ?it/s]"
      ]
     },
     "metadata": {},
     "output_type": "display_data"
    },
    {
     "name": "stdout",
     "output_type": "stream",
     "text": [
      "Improved fidelity by (%) 49.27064065029495\n",
      "State: |0+1>|0+1>\n",
      "Best fidelity for base rotated: 0.9744332394553045\n",
      "compared to fidelity without rotation: 0.4295806332324832\n",
      "fid_grid_ZZ (20, 20, 20)\n"
     ]
    },
    {
     "data": {
      "application/vnd.jupyter.widget-view+json": {
       "model_id": "d3c194d599164eb6b88a7cbb81350c08",
       "version_major": 2,
       "version_minor": 0
      },
      "text/plain": [
       "  0%|          | 0/8000 [00:00<?, ?it/s]"
      ]
     },
     "metadata": {},
     "output_type": "display_data"
    },
    {
     "name": "stdout",
     "output_type": "stream",
     "text": [
      "Improved fidelity by (%) 48.152615642676686\n",
      "State: |0+1>|0+i>\n",
      "Best fidelity for base rotated: 0.9847040861332478\n",
      "compared to fidelity without rotation: 0.44098902822078884\n",
      "fid_grid_ZZ (20, 20, 20)\n"
     ]
    },
    {
     "data": {
      "application/vnd.jupyter.widget-view+json": {
       "model_id": "eeb567e3a4134f5ead89dd1fecda3a52",
       "version_major": 2,
       "version_minor": 0
      },
      "text/plain": [
       "  0%|          | 0/8000 [00:00<?, ?it/s]"
      ]
     },
     "metadata": {},
     "output_type": "display_data"
    },
    {
     "name": "stdout",
     "output_type": "stream",
     "text": [
      "Improved fidelity by (%) 2.9880437331892384\n",
      "State: |0+i>|0>\n",
      "Best fidelity for base rotated: 0.9693562824283384\n",
      "compared to fidelity without rotation: 0.9395454623771242\n",
      "fid_grid_ZZ (20, 20, 20)\n"
     ]
    },
    {
     "data": {
      "application/vnd.jupyter.widget-view+json": {
       "model_id": "6bf0bc7ffba14548b64e943e7560d4fe",
       "version_major": 2,
       "version_minor": 0
      },
      "text/plain": [
       "  0%|          | 0/8000 [00:00<?, ?it/s]"
      ]
     },
     "metadata": {},
     "output_type": "display_data"
    },
    {
     "name": "stdout",
     "output_type": "stream",
     "text": [
      "Improved fidelity by (%) 1.4882605307742103\n",
      "State: |0+i>|1>\n",
      "Best fidelity for base rotated: 0.9682061401810317\n",
      "compared to fidelity without rotation: 0.9188856655592801\n",
      "fid_grid_ZZ (20, 20, 20)\n"
     ]
    },
    {
     "data": {
      "application/vnd.jupyter.widget-view+json": {
       "model_id": "a0df71940f1f40eeb81aac22cbf11e1a",
       "version_major": 2,
       "version_minor": 0
      },
      "text/plain": [
       "  0%|          | 0/8000 [00:00<?, ?it/s]"
      ]
     },
     "metadata": {},
     "output_type": "display_data"
    },
    {
     "name": "stdout",
     "output_type": "stream",
     "text": [
      "Improved fidelity by (%) 47.86560060455016\n",
      "State: |0+i>|0+1>\n",
      "Best fidelity for base rotated: 0.943143975514787\n",
      "compared to fidelity without rotation: 0.42227754489978414\n",
      "fid_grid_ZZ (20, 20, 20)\n"
     ]
    },
    {
     "data": {
      "application/vnd.jupyter.widget-view+json": {
       "model_id": "f8a76eeba7bc49f0ade7acfc41352151",
       "version_major": 2,
       "version_minor": 0
      },
      "text/plain": [
       "  0%|          | 0/8000 [00:00<?, ?it/s]"
      ]
     },
     "metadata": {},
     "output_type": "display_data"
    },
    {
     "name": "stdout",
     "output_type": "stream",
     "text": [
      "Improved fidelity by (%) 42.887767182864366\n",
      "State: |0+i>|0+i>\n",
      "Best fidelity for base rotated: 0.9451464537728597\n",
      "compared to fidelity without rotation: 0.47324936383640936\n",
      "fid_grid_ZZ (20, 20, 20)\n"
     ]
    }
   ],
   "source": [
    "fid_grid_ZZ = []\n",
    "\n",
    "for init_state in init_states:\n",
    "    _rho_base = rho_qram['rho_ZZ'][init_state]\n",
    "    _rho_id = rho_qram['rho_init'][init_state]\n",
    "    rho_MLE_rot, best_phis, best_fid, fids_grid = tomo_analysis.opt_virtualZ_MLE(qt.Qobj(_rho_base, dims=rho_id.dims), qt.Qobj(_rho_id, dims=id3q.dims), phis=phis, progress=True)\n",
    "    rho_qram['rho_ZZ_rotated'][init_state] = rho_MLE_rot\n",
    "    rho_qram['fidelity_ZZ_rotated'][init_state] = best_fid\n",
    "    print('State:', init_state)\n",
    "    print(f'Best fidelity for base rotated: {best_fid}')\n",
    "    print(f'compared to fidelity without rotation: {rho_qram[\"fidelity_base\"][init_state]}')\n",
    "    \n",
    "    _init_state = init_state.replace('|', '')\n",
    "    _init_state = _init_state.replace('>', '')\n",
    "    print('fid_grid_ZZ', fids_grid.shape)\n",
    "    fid_grid_ZZ.append(fids_grid)\n",
    "\n",
    "\n",
    "    # tomo_analysis.show_plot_rho_2d(rho_MLE_rot.full(), _rho_id.full(), title=f'Init {init_state}, Play {play_pulses}', cmax=0.5, size=(6,6), savetitle=save_plot_path+'\\\\' +_init_state+'_opt_angle_ZZ.pdf', no_show=True)"
   ]
  },
  {
   "cell_type": "code",
   "execution_count": 56,
   "metadata": {},
   "outputs": [],
   "source": [
    "check_init_states = init_states"
   ]
  },
  {
   "cell_type": "code",
   "execution_count": 57,
   "metadata": {},
   "outputs": [
    {
     "name": "stdout",
     "output_type": "stream",
     "text": [
      "(16, 20, 20, 20)\n"
     ]
    }
   ],
   "source": [
    "fids_grids_reshaped = []\n",
    "for i_state in range(len(init_states)):\n",
    "    grid_shape = fid_grid_ZZ[i_state].shape\n",
    "    # print(grid_shape)\n",
    "    fid_grid = np.copy(fid_grid_ZZ[i_state]).tolist()\n",
    "    # print(init_states[i_state], grid_shape)\n",
    "    if grid_shape[0] == 1:\n",
    "        for i in range(grid_shape[1]-1):\n",
    "            fid_grid.append(fid_grid[0])\n",
    "    # print(np.array(fids_grid).shape)\n",
    "    fids_grids_reshaped.append(fid_grid)\n",
    "    \n",
    "fids_grids_reshaped = np.array(fids_grids_reshaped)\n",
    "print(fids_grids_reshaped.shape)\n",
    "\n",
    "\n",
    "best_avg_fid_zz = 0\n",
    "best_fids_zz = []\n",
    "best_phis_zz = [0, 0, 0]\n",
    "best_phi_indices_zz = [0, 0, 0]\n",
    "for iphi0, phi0 in enumerate(phis[0]):\n",
    "    for iphi1, phi1 in enumerate(phis[1]):\n",
    "        for iphi2, phi2 in enumerate(phis[2]):\n",
    "            avg_fid = 0\n",
    "            for i_state, init_state in enumerate(init_states):\n",
    "                if init_state not in check_init_states: continue\n",
    "                avg_fid += fids_grids_reshaped[i_state][iphi0, iphi1, iphi2]\n",
    "            avg_fid /= len(check_init_states)\n",
    "            if avg_fid > best_avg_fid_zz:\n",
    "                best_phis_zz = [phi0, phi1, phi2]\n",
    "                best_phi_indices_zz = [iphi0, iphi1, iphi2]\n",
    "                best_avg_fid_zz = avg_fid\n",
    "    \n",
    "\n",
    "for id, init_state in enumerate(init_states):\n",
    "    \n",
    "    _fid_avg = fids_grids_reshaped[id][best_phi_indices_zz[0], best_phi_indices_zz[1], best_phi_indices_zz[2]]\n",
    "    rho_qram['fidelity_ZZ_avg'][init_state] = _fid_avg\n"
   ]
  },
  {
   "cell_type": "code",
   "execution_count": 58,
   "metadata": {},
   "outputs": [
    {
     "name": "stdout",
     "output_type": "stream",
     "text": [
      "Average fidelity: 0.9354889418831361\n",
      "Best fidelities: 0.9599780267203624\n"
     ]
    }
   ],
   "source": [
    "print('Average fidelity:', best_avg_fid_zz)\n",
    "print('Best fidelities:', np.mean(list(rho_qram['fidelity_ZZ_rotated'].values())))"
   ]
  },
  {
   "cell_type": "code",
   "execution_count": 63,
   "metadata": {},
   "outputs": [],
   "source": [
    "fig, ax = plt.subplots(1, 1, figsize=(10, 3.5))\n",
    "\n",
    "y_best_zz = []\n",
    "y_avg_zz = []\n",
    "\n",
    "\n",
    "for i in idx_order:\n",
    "    init_state = init_states[i]\n",
    "    y_best_zz.append(rho_qram['fidelity_ZZ_rotated'][init_state])\n",
    "    y_avg_zz.append(rho_qram['fidelity_ZZ_avg'][init_state])\n",
    "    color_plot.append(color_vec[i])\n",
    "    \n",
    "ax.bar(x_labels, y_best_zz, color=color_plot, alpha=0.5, edgecolor=color_plot, linewidth=1.5, fill=False, label = 'ZZ corrected best')\n",
    "ax.bar(x_labels, y_best, color=color_plot, alpha=0.5, edgecolor='black', linewidth=1.5, fill=True, label = 'Base best')\n",
    "ax.bar(x_labels, y_avg_zz, color=color_plot, alpha=0.5, edgecolor='black', linewidth=0, fill=True, label = 'ZZ corrected avg')\n",
    "ax.bar(x_labels, y_avg, color=color_plot, alpha=.4, edgecolor='black', linewidth=1.5, linestyle='--', \n",
    "       fill=False, label = 'Base avg')\n",
    "\n",
    "ax.legend()\n",
    "\n",
    "\n",
    "\n",
    "text= r'$F_\\mathrm{zz, best} = $' + '%.3f'%(np.mean(list(rho_qram['fidelity_ZZ_rotated'].values()))*100) + '%'\n",
    "text+= '\\n'\n",
    "text+= r'$F_\\mathrm{base, best} = $' + '%.3f'%(np.mean(list(rho_qram['fidelity_base_rotated'].values()))*100) + '%'\n",
    "text+= '\\n'\n",
    "text+= r'$F_\\mathrm{zz, avg} = $' + '%.3f'%(best_avg_fid_zz*100) + '%'\n",
    "text+= '\\n'\n",
    "text+= r'$F_\\mathrm{base, avg} = $' + '%.3f'%(best_avg_fid*100) + '%'\n",
    "\n",
    "\n",
    "\n",
    "# f'{_F:.4f}\\n'\n",
    "# text += r'F_{base, best}:' + f'{np.mean(list(rho_qram[\"fidelity_base_rotated\"].values())):.3f}\\n'\n",
    "# text += r'F_{zz, avg}:' + f'{best_avg_fid_zz:.4f}\\n'\n",
    "# text += r'F_{base, avg}:' + f'{best_avg_fid:.4f}\\n'\n",
    "\n",
    "# ax.text(0.5, 0.5, text)\n",
    "ax.text(0.5, 0.5, text, horizontalalignment='center', verticalalignment='center', transform=ax.transAxes, bbox=dict(facecolor='white', alpha=0.5), fontsize=12)\n",
    "\n",
    "# tilt the x labels by 45 degrees\n",
    "for tick in ax.get_xticklabels():\n",
    "    tick.set_rotation(45)\n",
    "\n",
    "ax.set_ylabel('Fidelity')\n",
    "\n",
    "ax.set_ylim(0.75, 1.01)\n",
    "\n",
    "\n",
    "plot_title = f'Fidelity comparison, Play {play_pulses}, Measure init states: {use_init_2q_state}'\n",
    "\n",
    "fig.suptitle(plot_title)\n",
    "fig.tight_layout()\n",
    "fig.show()\n",
    "\n",
    "savename = save_plot_path + f'\\\\fidelity_comparison_{play_pulses}_init_{use_init_2q_state}.pdf'\n",
    "\n",
    "fig.savefig(savename, bbox_inches='tight')\n",
    "\n"
   ]
  },
  {
   "cell_type": "markdown",
   "metadata": {},
   "source": [
    "### Paper figures "
   ]
  },
  {
   "cell_type": "code",
   "execution_count": 34,
   "metadata": {},
   "outputs": [],
   "source": [
    "# for all y average the fidelities with the same color\n",
    "y_qq_avg = {}\n",
    "y_qq_avg['Cr-Cs'] = np.mean([y_avg[i] for i in idx_basis])\n",
    "y_qq_avg['Cr-Qs'] = np.mean([y_avg[i] for i in idx_signal])\n",
    "y_qq_avg['Qr-Cs'] = np.mean([y_avg[i] for i in idx_routing])\n",
    "y_qq_avg['Qr-Qs'] = np.mean([y_avg[i] for i in idx_q2])\n",
    "\n",
    "\n",
    "_color_vec = [color_basis, color_signal, color_routing, color_q2]\n",
    "\n",
    "\n",
    "fig, ax = plt.subplots(1, 1, figsize=(3, 3))\n",
    "\n",
    "x_labels = list(y_qq_avg.keys())\n",
    "y = list(y_qq_avg.values())\n",
    "\n",
    "\n",
    "# break the line between routing and signal\n",
    "\n",
    "\n",
    "# for i in len(x_labels):\n",
    "    \n",
    "\n",
    "\n",
    "ax.bar(x_labels, y, color=_color_vec, alpha=0.75, edgecolor=_color_vec, linewidth=1.5, fill=True)\n",
    "\n",
    "ax.set_ylabel('State Fidelity (%)')\n",
    "\n",
    "ax.set_ylim(0.75, 1.01)\n",
    "\n",
    "fig.tight_layout()\n",
    "\n",
    "\n",
    "fig.show()"
   ]
  },
  {
   "cell_type": "code",
   "execution_count": 29,
   "metadata": {},
   "outputs": [
    {
     "name": "stdout",
     "output_type": "stream",
     "text": [
      "0 0\n",
      "0 1\n",
      "1 0\n",
      "1 1\n",
      "0 0+1\n",
      "0 0+i\n",
      "1 0+1\n",
      "1 0+i\n",
      "0+1 0\n",
      "0+1 1\n",
      "0+i 0\n",
      "0+i 1\n",
      "0+1 0+1\n",
      "0+1 0+i\n",
      "0+i 0+1\n",
      "0+i 0+i\n"
     ]
    }
   ],
   "source": [
    "init_states_order = init_states[idx_order]\n",
    "states_str = ['0', '1', '0+1', '0+i']\n",
    "\n",
    "fid_mat = np.zeros((len(states_str), len(states_str)))\n",
    "\n",
    "for i in range(len(init_states_order)):\n",
    "    _state = init_states_order[i].replace('|', '')\n",
    "    q0, q1 = _state[:-1].split('>') \n",
    "    print(q0, q1)\n",
    "    idx_row = states_str.index(q0)\n",
    "    idx_col = states_str.index(q1)\n",
    "    fid_mat[idx_row, idx_col] = y_avg[i]\n"
   ]
  },
  {
   "cell_type": "code",
   "execution_count": 55,
   "metadata": {},
   "outputs": [
    {
     "name": "stderr",
     "output_type": "stream",
     "text": [
      "UserWarning: set_ticklabels() should only be used with a fixed number of ticks, i.e. after set_ticks() or using a FixedLocator.\n",
      " C:\\Users\\slab\\AppData\\Local\\Temp\\ipykernel_13468\\33364338.py: 20UserWarning: set_ticklabels() should only be used with a fixed number of ticks, i.e. after set_ticks() or using a FixedLocator.\n",
      " C:\\Users\\slab\\AppData\\Local\\Temp\\ipykernel_13468\\33364338.py: 21UserWarning: set_ticklabels() should only be used with a fixed number of ticks, i.e. after set_ticks() or using a FixedLocator.\n",
      " C:\\Users\\slab\\AppData\\Local\\Temp\\ipykernel_13468\\33364338.py: 68UserWarning: set_ticklabels() should only be used with a fixed number of ticks, i.e. after set_ticks() or using a FixedLocator.\n",
      " C:\\Users\\slab\\AppData\\Local\\Temp\\ipykernel_13468\\33364338.py: 69"
     ]
    }
   ],
   "source": [
    "fig, ax = plt.subplots(1, 1, figsize=(3, 3))\n",
    "\n",
    "# plot the value of the matrix in each cell the box size should be proportional to the value\n",
    "\n",
    "ax.matshow(fid_mat, cmap='viridis')\n",
    "\n",
    "\n",
    "\n",
    "for i in range(len(states_str)):\n",
    "    for j in range(len(states_str)):\n",
    "        c = fid_mat[j, i]\n",
    "        ax.text(i, j, f'{c:.2f}', va='center', ha='center')\n",
    "        # set the labels\n",
    "        \n",
    "\n",
    "\n",
    "x_labels = [f'$|{state}\\\\rangle$' for state in states_str]\n",
    "y_labels = [f'$|{state}\\\\rangle$' for state in states_str]\n",
    "\n",
    "ax.set_xticklabels(['']+x_labels)\n",
    "ax.set_yticklabels(['']+y_labels)\n",
    "\n",
    "fig.tight_layout()\n",
    "\n",
    "\n",
    "import matplotlib.patches as patches\n",
    "\n",
    "fig, ax = plt.subplots(1, 1, figsize=(3, 3))\n",
    "\n",
    "for i in range(fid_mat.shape[0]):\n",
    "    for j in range(fid_mat.shape[1]):\n",
    "        # Create a rectangle at the corresponding position (j, -i) with width/height proportional to the matrix value\n",
    "        # width_height = fid_mat[i, j]\n",
    "        width_height = 1\n",
    "        \n",
    "        if i < 2 and j < 2:\n",
    "            color = color_basis\n",
    "        elif i < 2 and j >= 2:\n",
    "            color = color_signal\n",
    "        elif i >= 2 and j < 2:\n",
    "            color = color_routing\n",
    "        else:\n",
    "            color = color_q2\n",
    "        \n",
    "        # Create a rectangle centered at the cell center\n",
    "        rect = patches.Rectangle((j + 0.5 - width_height / 2, -i - 0.5 - width_height / 2),\n",
    "                                 width_height*0.99,\n",
    "                                 width_height*0.99,\n",
    "                                 linewidth=0.1,\n",
    "                                 edgecolor=color,\n",
    "                                 facecolor=color,\n",
    "                                 alpha=0.9)\n",
    "        \n",
    "        # add a contous around the rectangles \n",
    "        \n",
    "        \n",
    "        \n",
    "        # add the value of the matrix in the cell\n",
    "        \n",
    "        ax.text(j + 0.5, -i  - width_height / 2, f'{fid_mat[i,j]:.2f}', va='center', ha='center')\n",
    "        \n",
    "    \n",
    "        ax.add_patch(rect)\n",
    "        \n",
    "    cont = patches.Rectangle((0, -4), 4, 4, linewidth=1, edgecolor='black', facecolor='none')\n",
    "    ax.add_patch(cont)\n",
    "        \n",
    "ax.set_xticklabels(['']+x_labels)\n",
    "ax.set_yticklabels(['']+y_labels)\n",
    "\n",
    "# Set axis limits\n",
    "ax.set_xlim(0, fid_mat.shape[1])\n",
    "ax.set_ylim(-fid_mat.shape[0], 1)\n",
    "ax.set_aspect('equal')\n",
    "ax.axis('off')  # Turn off axes for a cleaner visualization\n",
    "\n",
    "fig.tight_layout()\n",
    "\n",
    "fig.show()\n",
    "\n",
    "fig.savefig(save_plot_path + f'\\\\fidelity_matrix_{play_pulses}_init_{use_init_2q_state}.pdf', bbox_inches='tight')"
   ]
  },
  {
   "cell_type": "code",
   "execution_count": 48,
   "metadata": {},
   "outputs": [
    {
     "data": {
      "text/plain": [
       "['$|0\\\\rangle$', '$|1\\\\rangle$', '$|0+1\\\\rangle$', '$|0+i\\\\rangle$']"
      ]
     },
     "execution_count": 48,
     "metadata": {},
     "output_type": "execute_result"
    }
   ],
   "source": [
    "x_labels"
   ]
  },
  {
   "cell_type": "code",
   "execution_count": null,
   "metadata": {},
   "outputs": [],
   "source": []
  }
 ],
 "metadata": {
  "kernelspec": {
   "display_name": "base",
   "language": "python",
   "name": "python3"
  },
  "language_info": {
   "codemirror_mode": {
    "name": "ipython",
    "version": 3
   },
   "file_extension": ".py",
   "mimetype": "text/x-python",
   "name": "python",
   "nbconvert_exporter": "python",
   "pygments_lexer": "ipython3",
   "version": "3.9.19"
  }
 },
 "nbformat": 4,
 "nbformat_minor": 2
}
