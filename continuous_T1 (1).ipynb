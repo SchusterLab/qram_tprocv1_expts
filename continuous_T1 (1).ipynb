{
 "cells": [
  {
   "cell_type": "markdown",
   "metadata": {},
   "source": [
    "## Continuous T1 \n",
    "\n",
    "This reads out the state of the qubit at t = T1 continuously. We recalibrate the qubit after some variable time. The qubit is assumed to be calibrated and the data saved to the cfg file "
   ]
  },
  {
   "cell_type": "markdown",
   "metadata": {},
   "source": [
    "# ------------ Initializations ------------"
   ]
  },
  {
   "cell_type": "code",
   "execution_count": 2,
   "metadata": {},
   "outputs": [
    {
     "name": "stdout",
     "output_type": "stream",
     "text": [
      "Could not import QickSoc: No module named 'pynq'\n",
      "Could not load InstrumentManagerWindow\n",
      "Could not import QickInstrument, try install qick package\n",
      "Could not load labbrick\n",
      "Could not load Autonics TM4 Driver\n"
     ]
    }
   ],
   "source": [
    "# %matplotlib widget\n",
    "%matplotlib inline\n",
    "\n",
    "%load_ext autoreload\n",
    "%autoreload 2\n",
    "\n",
    "import numpy as np\n",
    "import matplotlib.pyplot as plt\n",
    "\n",
    "from qick import *\n",
    "from qick.helpers import gauss\n",
    "from tqdm import tqdm_notebook as tqdm\n",
    "\n",
    "import time\n",
    "import os\n",
    "import sys\n",
    "import scipy as sp\n",
    "import json\n",
    "import cProfile\n",
    "import re \n",
    "import datetime\n",
    "from timeit import default_timer as timer\n",
    "\n",
    "from scipy.fft import fft, fftfreq\n",
    "\n",
    "from slab.instruments import *\n",
    "from slab.experiment import Experiment\n",
    "from slab.datamanagement import SlabFile\n",
    "from slab import get_next_filename, AttrDict\n",
    "from datetime import datetime\n",
    "import h5py\n",
    "\n",
    "\n",
    "# Figure params\n",
    "plt.rcParams['figure.figsize'] = [10,6]\n",
    "plt.rcParams.update({'font.size': 14})"
   ]
  },
  {
   "cell_type": "code",
   "execution_count": 3,
   "metadata": {},
   "outputs": [
    {
     "name": "stdout",
     "output_type": "stream",
     "text": [
      "imported experiments.clifford_averager_program\n",
      "imported experiments.fitting\n",
      "imported experiments.qram_protocol_timestepped\n",
      "imported experiments.single_qubit.acstarkshift_spectroscopy\n",
      "imported experiments.single_qubit.amplitude_rabi\n",
      "imported experiments.single_qubit.DONOTUSE_ramsey_ef\n",
      "imported experiments.single_qubit.DONOTUSE_randbench\n",
      "imported experiments.single_qubit.length_rabi\n",
      "imported experiments.single_qubit.pulse_probe_ef_spectroscopy\n",
      "imported experiments.single_qubit.pulse_probe_spectroscopy\n",
      "imported experiments.single_qubit.pulse_probe_spectroscopy_test\n",
      "imported experiments.single_qubit.resonator_spectroscopy\n",
      "imported experiments.single_qubit.rfsoc_tof_calibration\n",
      "imported experiments.single_qubit.SingleRB\n",
      "imported experiments.single_qubit.single_shot\n",
      "imported experiments.single_qubit.single_shot_ziqian\n",
      "imported experiments.single_qubit.t1\n",
      "imported experiments.single_qubit.t1_2qb\n",
      "imported experiments.single_qubit.t2_echo\n",
      "imported experiments.single_qubit.t2_ramsey\n",
      "imported experiments.three_qubit.threeQ_state_tomo\n",
      "imported experiments.two_qubit.adiabatic_pulse_calib\n",
      "imported experiments.two_qubit.amplitude_rabi_EgGf\n",
      "imported experiments.two_qubit.length_rabi_EgGf\n",
      "imported experiments.two_qubit.length_rabi_pi_pulse_ZZ\n",
      "imported experiments.two_qubit.pulse_probe_coupling_spectroscopy\n",
      "imported experiments.two_qubit.pulse_probe_EgGf_spectroscopy\n",
      "imported experiments.two_qubit.randbench\n",
      "imported experiments.two_qubit.twoqutrit_state_tomography\n",
      "imported experiments.two_qubit.twoQ_state_tomography\n"
     ]
    }
   ],
   "source": [
    "# %aimport experiments\n",
    "# NOTE: ADDING NEW METHODS WILL NOT BE UPDATED\n",
    "import experiments as meas\n"
   ]
  },
  {
   "cell_type": "code",
   "execution_count": 4,
   "metadata": {},
   "outputs": [],
   "source": [
    "\"\"\"Reopen saved data\"\"\"\n",
    "def prev_data(expt_path, filename):\n",
    "    temp_data_file = expt_path+'/'+filename\n",
    "    with SlabFile(temp_data_file) as a:\n",
    "        attrs = dict()\n",
    "        for key in list(a.attrs):\n",
    "            attrs.update({key:json.loads(a.attrs[key])})\n",
    "        keys = list(a)\n",
    "        temp_data = dict()\n",
    "        for key in keys:\n",
    "            temp_data.update({key:np.array(a[key])})\n",
    "        print(f'Extracted data and attrs {list(a.attrs)}')\n",
    "    return temp_data, attrs"
   ]
  },
  {
   "cell_type": "code",
   "execution_count": 5,
   "metadata": {},
   "outputs": [
    {
     "name": "stdout",
     "output_type": "stream",
     "text": [
      "Continuous T1 Data will be stored in C:\\_Data\\LLqub_contT1\n",
      "SLAB data will be stored in c:\\_Lib\\python\\rfsoc\\elaine_rfsoc\\slab_rfsoc_expts\\data\n"
     ]
    }
   ],
   "source": [
    "expt_path=os.getcwd()+'\\data'\n",
    "data_path = \"C:\\_Data\\LLqub_contT1\"\n",
    "print('Continuous T1 Data will be stored in', data_path)\n",
    "print('SLAB data will be stored in', expt_path) "
   ]
  },
  {
   "cell_type": "markdown",
   "metadata": {},
   "source": [
    "Import the cfg file: "
   ]
  },
  {
   "cell_type": "code",
   "execution_count": 7,
   "metadata": {},
   "outputs": [
    {
     "name": "stdout",
     "output_type": "stream",
     "text": [
      "Results config will be c:\\_Lib\\python\\rfsoc\\elaine_rfsoc\\slab_rfsoc_expts\\autocalibration_cfg.yml\n"
     ]
    }
   ],
   "source": [
    "import yaml\n",
    "# Results config file:\n",
    "results_config_file = 'autocalibration_cfg.yml'\n",
    "results_config_path = os.getcwd() + '\\\\' + results_config_file\n",
    "print('Results config will be', results_config_path)\n",
    "\n",
    "# open the file \n",
    "with open(results_config_file,'r') as file:\n",
    "  auto_cfg=AttrDict(yaml.safe_load(file)) # turn it into an attribute dictionary \n",
    "\n",
    "def save_edits( file_name, edit_config, edit_list, qubit_i,  value):\n",
    "    print('Assumes edit_list is already in edit_config')\n",
    "    print('If it is not, it will not update edit_config')\n",
    "    # open the file \n",
    "    # edit the file\n",
    "    edit_list[qubit_i] = value\n",
    "    # dump it: \n",
    "    edit_config= yaml.safe_dump(edit_config.to_dict(), default_flow_style=  True)\n",
    "\n",
    "    # write it: \n",
    "    with open(file_name, 'w') as modified_file:\n",
    "        modified_file.write(edit_config)\n",
    "\n",
    "    # now, open the modified file again \n",
    "    with open(file_name,'r') as file:\n",
    "      edit_config=AttrDict(yaml.safe_load(file)) # turn it into an attribute dictionary \n",
    "    return edit_config"
   ]
  },
  {
   "cell_type": "code",
   "execution_count": 8,
   "metadata": {},
   "outputs": [
    {
     "name": "stdout",
     "output_type": "stream",
     "text": [
      "\n",
      "QICK configuration:\n",
      "\n",
      "\tBoard: ZCU216\n",
      "\n",
      "\tGlobal clocks (MHz): tProcessor 430.080, RF reference 245.760\n",
      "\n",
      "\t7 signal generator channels:\n",
      "\t0:\taxis_signal_gen_v4 - tProc output 1, envelope memory 65536 samples\n",
      "\t\tDAC tile 2, ch 0, 32-bit DDS, fabric=430.080 MHz, fs=6881.280 MHz\n",
      "\t1:\taxis_signal_gen_v4 - tProc output 2, envelope memory 65536 samples\n",
      "\t\tDAC tile 2, ch 1, 32-bit DDS, fabric=430.080 MHz, fs=6881.280 MHz\n",
      "\t2:\taxis_signal_gen_v4 - tProc output 3, envelope memory 65536 samples\n",
      "\t\tDAC tile 2, ch 2, 32-bit DDS, fabric=430.080 MHz, fs=6881.280 MHz\n",
      "\t3:\taxis_signal_gen_v4 - tProc output 4, envelope memory 65536 samples\n",
      "\t\tDAC tile 2, ch 3, 32-bit DDS, fabric=430.080 MHz, fs=6881.280 MHz\n",
      "\t4:\taxis_signal_gen_v4 - tProc output 5, envelope memory 65536 samples\n",
      "\t\tDAC tile 3, ch 0, 32-bit DDS, fabric=430.080 MHz, fs=6881.280 MHz\n",
      "\t5:\taxis_signal_gen_v4 - tProc output 6, envelope memory 65536 samples\n",
      "\t\tDAC tile 3, ch 1, 32-bit DDS, fabric=430.080 MHz, fs=6881.280 MHz\n",
      "\t6:\taxis_signal_gen_v4 - tProc output 7, envelope memory 65536 samples\n",
      "\t\tDAC tile 3, ch 2, 32-bit DDS, fabric=430.080 MHz, fs=6881.280 MHz\n",
      "\n",
      "\t2 readout channels:\n",
      "\t0:\taxis_readout_v2 - controlled by PYNQ\n",
      "\t\tADC tile 2, ch 0, 32-bit DDS, fabric=307.200 MHz, fs=2457.600 MHz\n",
      "\t\tmaxlen 16384 (avg) 1024 (decimated), trigger bit 14, tProc input 0\n",
      "\t1:\taxis_readout_v2 - controlled by PYNQ\n",
      "\t\tADC tile 2, ch 2, 32-bit DDS, fabric=307.200 MHz, fs=2457.600 MHz\n",
      "\t\tmaxlen 16384 (avg) 1024 (decimated), trigger bit 15, tProc input 1\n",
      "\n",
      "\t7 DACs:\n",
      "\t\tDAC tile 2, ch 0 is 0_230, on JHC3\n",
      "\t\tDAC tile 2, ch 1 is 1_230, on JHC4\n",
      "\t\tDAC tile 2, ch 2 is 2_230, on JHC3\n",
      "\t\tDAC tile 2, ch 3 is 3_230, on JHC4\n",
      "\t\tDAC tile 3, ch 0 is 0_231, on JHC3\n",
      "\t\tDAC tile 3, ch 1 is 1_231, on JHC4\n",
      "\t\tDAC tile 3, ch 2 is 2_231, on JHC3\n",
      "\n",
      "\t2 ADCs:\n",
      "\t\tADC tile 2, ch 0 is 0_226, on JHC7\n",
      "\t\tADC tile 2, ch 2 is 2_226, on JHC7\n",
      "\n",
      "\t4 digital output pins (tProc output 0):\n",
      "\t0:\tPMOD0_0_LS\n",
      "\t1:\tPMOD0_1_LS\n",
      "\t2:\tPMOD0_2_LS\n",
      "\t3:\tPMOD0_3_LS\n",
      "\n",
      "\ttProc: program memory 8192 words, data memory 4096 words\n",
      "\t\texternal start pin: None\n",
      "Qick233\n",
      "\n",
      "QICK configuration:\n",
      "\n",
      "\tBoard: ZCU216\n",
      "\n",
      "\tGlobal clocks (MHz): tProcessor 430.080, RF reference 245.760\n",
      "\n",
      "\t7 signal generator channels:\n",
      "\t0:\taxis_signal_gen_v4 - tProc output 1, envelope memory 65536 samples\n",
      "\t\tDAC tile 2, ch 0, 32-bit DDS, fabric=430.080 MHz, fs=6881.280 MHz\n",
      "\t1:\taxis_signal_gen_v4 - tProc output 2, envelope memory 65536 samples\n",
      "\t\tDAC tile 2, ch 1, 32-bit DDS, fabric=430.080 MHz, fs=6881.280 MHz\n",
      "\t2:\taxis_signal_gen_v4 - tProc output 3, envelope memory 65536 samples\n",
      "\t\tDAC tile 2, ch 2, 32-bit DDS, fabric=430.080 MHz, fs=6881.280 MHz\n",
      "\t3:\taxis_signal_gen_v4 - tProc output 4, envelope memory 65536 samples\n",
      "\t\tDAC tile 2, ch 3, 32-bit DDS, fabric=430.080 MHz, fs=6881.280 MHz\n",
      "\t4:\taxis_signal_gen_v4 - tProc output 5, envelope memory 65536 samples\n",
      "\t\tDAC tile 3, ch 0, 32-bit DDS, fabric=430.080 MHz, fs=6881.280 MHz\n",
      "\t5:\taxis_signal_gen_v4 - tProc output 6, envelope memory 65536 samples\n",
      "\t\tDAC tile 3, ch 1, 32-bit DDS, fabric=430.080 MHz, fs=6881.280 MHz\n",
      "\t6:\taxis_signal_gen_v4 - tProc output 7, envelope memory 65536 samples\n",
      "\t\tDAC tile 3, ch 2, 32-bit DDS, fabric=430.080 MHz, fs=6881.280 MHz\n",
      "\n",
      "\t2 readout channels:\n",
      "\t0:\taxis_readout_v2 - controlled by PYNQ\n",
      "\t\tADC tile 2, ch 0, 32-bit DDS, fabric=307.200 MHz, fs=2457.600 MHz\n",
      "\t\tmaxlen 16384 (avg) 1024 (decimated), trigger bit 14, tProc input 0\n",
      "\t1:\taxis_readout_v2 - controlled by PYNQ\n",
      "\t\tADC tile 2, ch 2, 32-bit DDS, fabric=307.200 MHz, fs=2457.600 MHz\n",
      "\t\tmaxlen 16384 (avg) 1024 (decimated), trigger bit 15, tProc input 1\n",
      "\n",
      "\t7 DACs:\n",
      "\t\tDAC tile 2, ch 0 is 0_230, on JHC3\n",
      "\t\tDAC tile 2, ch 1 is 1_230, on JHC4\n",
      "\t\tDAC tile 2, ch 2 is 2_230, on JHC3\n",
      "\t\tDAC tile 2, ch 3 is 3_230, on JHC4\n",
      "\t\tDAC tile 3, ch 0 is 0_231, on JHC3\n",
      "\t\tDAC tile 3, ch 1 is 1_231, on JHC4\n",
      "\t\tDAC tile 3, ch 2 is 2_231, on JHC3\n",
      "\n",
      "\t2 ADCs:\n",
      "\t\tADC tile 2, ch 0 is 0_226, on JHC7\n",
      "\t\tADC tile 2, ch 2 is 2_226, on JHC7\n",
      "\n",
      "\t4 digital output pins (tProc output 0):\n",
      "\t0:\tPMOD0_0_LS\n",
      "\t1:\tPMOD0_1_LS\n",
      "\t2:\tPMOD0_2_LS\n",
      "\t3:\tPMOD0_3_LS\n",
      "\n",
      "\ttProc: program memory 8192 words, data memory 4096 words\n",
      "\t\texternal start pin: None\n"
     ]
    }
   ],
   "source": [
    "im = InstrumentManager(ns_address='192.168.137.1') # SLAC lab\n",
    "\n",
    "soc = QickConfig(im[auto_cfg['aliases']['soc']].get_cfg())\n",
    "print(soc)\n",
    "print(auto_cfg['aliases']['soc'])\n",
    "print(soc.description())\n"
   ]
  },
  {
   "cell_type": "code",
   "execution_count": 9,
   "metadata": {},
   "outputs": [
    {
     "name": "stdout",
     "output_type": "stream",
     "text": [
      "215 307\n",
      "readout freq 0 +/- 7098.122026730655\n"
     ]
    },
    {
     "data": {
      "application/vnd.jupyter.widget-view+json": {
       "model_id": "5a61391501b346078ba0c6324a948cf7",
       "version_major": 2,
       "version_minor": 0
      },
      "text/plain": [
       "  0%|          | 0/1000 [00:00<?, ?it/s]"
      ]
     },
     "metadata": {},
     "output_type": "display_data"
    },
    {
     "name": "stdout",
     "output_type": "stream",
     "text": [
      "Saving c:\\_Lib\\python\\rfsoc\\elaine_rfsoc\\slab_rfsoc_expts\\data\\00026_adc_trig_offset_calibration_qubit0.h5\n"
     ]
    },
    {
     "data": {
      "image/png": "[encoded data removed]",
      "text/plain": [
       "<Figure size 1000x600 with 1 Axes>"
      ]
     },
     "metadata": {},
     "output_type": "display_data"
    }
   ],
   "source": [
    "qubit_i = 0\n",
    "tof = meas.ToFCalibrationExperiment(\n",
    "    soccfg=soc,\n",
    "    path=expt_path,\n",
    "    prefix=f\"adc_trig_offset_calibration_qubit{qubit_i}\",\n",
    "    config_file=results_config_path,\n",
    ")\n",
    "\n",
    "tof.cfg.expt = dict(\n",
    "    pulse_length=0.5, # [us]\n",
    "    readout_length=1.0, # [us]\n",
    "    trig_offset=0, # [clock ticks]\n",
    "    gain=30000, # blast the power just for the RFSoC calibration\n",
    "    # gain=5000, # [MUX units: -1 to 1]\n",
    "    frequency=tof.cfg.device.readout.frequency[qubit_i], # [MHz]\n",
    "    reps=1000, # Number of averages per point\n",
    "    # qubit=qubit_i,\n",
    "    qubit=qubit_i,\n",
    ")\n",
    "tof.cfg.device.readout.relax_delay=0.1 # wait time between experiments [us]\n",
    "\n",
    "import Pyro4.util\n",
    "try: \n",
    "    tof.go(analyze=False, display=False, progress=True, save=True)\n",
    "except Exception:\n",
    "    print(\"Pyro traceback:\")\n",
    "    print(\"\".join(Pyro4.util.getPyroTraceback()))\n",
    "\n",
    "tof.display(adc_trig_offset=150) "
   ]
  },
  {
   "cell_type": "markdown",
   "metadata": {},
   "source": [
    "## Run the T1 "
   ]
  },
  {
   "cell_type": "code",
   "execution_count": 10,
   "metadata": {},
   "outputs": [
    {
     "data": {
      "application/vnd.jupyter.widget-view+json": {
       "model_id": "33a41c61b9864e18bc9873067785f535",
       "version_major": 2,
       "version_minor": 0
      },
      "text/plain": [
       "  0%|          | 0/1000000 [00:00<?, ?it/s]"
      ]
     },
     "metadata": {},
     "output_type": "display_data"
    },
    {
     "name": "stdout",
     "output_type": "stream",
     "text": [
      "Continuous data appended to C:\\_Data\\LLqub_contT1\\2024-02-28_19-53-47.h5\n"
     ]
    },
    {
     "data": {
      "application/vnd.jupyter.widget-view+json": {
       "model_id": "48ba035feaaf4597a97dc88744e478d1",
       "version_major": 2,
       "version_minor": 0
      },
      "text/plain": [
       "  0%|          | 0/1000000 [00:00<?, ?it/s]"
      ]
     },
     "metadata": {},
     "output_type": "display_data"
    },
    {
     "name": "stdout",
     "output_type": "stream",
     "text": [
      "Continuous data appended to C:\\_Data\\LLqub_contT1\\2024-02-28_19-53-47.h5\n",
      "3343.874548599997 seconds have passed. Running T1 recalibration.\n"
     ]
    },
    {
     "data": {
      "application/vnd.jupyter.widget-view+json": {
       "model_id": "4cbc9d36efbf46f087508546b02c97a0",
       "version_major": 2,
       "version_minor": 0
      },
      "text/plain": [
       "  0%|          | 0/50000 [00:00<?, ?it/s]"
      ]
     },
     "metadata": {},
     "output_type": "display_data"
    },
    {
     "name": "stdout",
     "output_type": "stream",
     "text": [
      "t1_i is better, saving T1_i to results cfg file\n",
      "220.40481218292945 236.3653626484178 219.90913643476676\n",
      "() () ()\n"
     ]
    },
    {
     "data": {
      "application/vnd.jupyter.widget-view+json": {
       "model_id": "7922d3c0eff6444bbc0f6013e37d659a",
       "version_major": 2,
       "version_minor": 0
      },
      "text/plain": [
       "  0%|          | 0/10000 [00:00<?, ?it/s]"
      ]
     },
     "metadata": {},
     "output_type": "display_data"
    },
    {
     "data": {
      "application/vnd.jupyter.widget-view+json": {
       "model_id": "778d49397f8741e8974198d365a81bca",
       "version_major": 2,
       "version_minor": 0
      },
      "text/plain": [
       "  0%|          | 0/10000 [00:00<?, ?it/s]"
      ]
     },
     "metadata": {},
     "output_type": "display_data"
    },
    {
     "name": "stdout",
     "output_type": "stream",
     "text": [
      "Saving c:\\_Lib\\python\\rfsoc\\elaine_rfsoc\\slab_rfsoc_expts\\data\\00052_single_shot_qubit0.h5\n",
      "153.98225207661204\n",
      "8.276742685489621\n",
      "new anle, threshold, and fidelity 153.98225207661204 8.276742685489621 82.17410870543527\n",
      "Recalibration data appended to C:\\_Data\\LLqub_contT1\\2024-02-28_19-53-47.h5\n"
     ]
    },
    {
     "data": {
      "application/vnd.jupyter.widget-view+json": {
       "model_id": "1369ea8f5d424040943ed0cb60895854",
       "version_major": 2,
       "version_minor": 0
      },
      "text/plain": [
       "  0%|          | 0/1000000 [00:00<?, ?it/s]"
      ]
     },
     "metadata": {},
     "output_type": "display_data"
    },
    {
     "name": "stdout",
     "output_type": "stream",
     "text": [
      "Continuous data appended to C:\\_Data\\LLqub_contT1\\2024-02-28_19-53-47.h5\n"
     ]
    },
    {
     "data": {
      "application/vnd.jupyter.widget-view+json": {
       "model_id": "1178f38ed2da4729932e3bb58afb9881",
       "version_major": 2,
       "version_minor": 0
      },
      "text/plain": [
       "  0%|          | 0/1000000 [00:00<?, ?it/s]"
      ]
     },
     "metadata": {},
     "output_type": "display_data"
    },
    {
     "name": "stdout",
     "output_type": "stream",
     "text": [
      "Continuous data appended to C:\\_Data\\LLqub_contT1\\2024-02-28_19-53-47.h5\n",
      "3344.5584412000026 seconds have passed. Running T1 recalibration.\n"
     ]
    },
    {
     "data": {
      "application/vnd.jupyter.widget-view+json": {
       "model_id": "1d520624d2864dcba8ff4321b1cb48b8",
       "version_major": 2,
       "version_minor": 0
      },
      "text/plain": [
       "  0%|          | 0/50000 [00:00<?, ?it/s]"
      ]
     },
     "metadata": {},
     "output_type": "display_data"
    },
    {
     "name": "stdout",
     "output_type": "stream",
     "text": [
      "t1_i is better, saving T1_i to results cfg file\n",
      "105.06693032047717 108.34735710057778 107.0047470190588\n",
      "() () ()\n"
     ]
    },
    {
     "data": {
      "application/vnd.jupyter.widget-view+json": {
       "model_id": "e2d120ba53ba4828999f92fdfc347b40",
       "version_major": 2,
       "version_minor": 0
      },
      "text/plain": [
       "  0%|          | 0/10000 [00:00<?, ?it/s]"
      ]
     },
     "metadata": {},
     "output_type": "display_data"
    },
    {
     "data": {
      "application/vnd.jupyter.widget-view+json": {
       "model_id": "664b9b99e0fc432fb07a1eb49b5e81ca",
       "version_major": 2,
       "version_minor": 0
      },
      "text/plain": [
       "  0%|          | 0/10000 [00:00<?, ?it/s]"
      ]
     },
     "metadata": {},
     "output_type": "display_data"
    },
    {
     "name": "stdout",
     "output_type": "stream",
     "text": [
      "Saving c:\\_Lib\\python\\rfsoc\\elaine_rfsoc\\slab_rfsoc_expts\\data\\00053_single_shot_qubit0.h5\n",
      "151.5290691976432\n",
      "9.375438205481078\n",
      "new anle, threshold, and fidelity 151.5290691976432 9.375438205481078 85.25426271313566\n",
      "Recalibration data appended to C:\\_Data\\LLqub_contT1\\2024-02-28_19-53-47.h5\n"
     ]
    },
    {
     "data": {
      "application/vnd.jupyter.widget-view+json": {
       "model_id": "0ff24f7820de4c13bd47510a9744cf7f",
       "version_major": 2,
       "version_minor": 0
      },
      "text/plain": [
       "  0%|          | 0/1000000 [00:00<?, ?it/s]"
      ]
     },
     "metadata": {},
     "output_type": "display_data"
    },
    {
     "name": "stdout",
     "output_type": "stream",
     "text": [
      "Continuous data appended to C:\\_Data\\LLqub_contT1\\2024-02-28_19-53-47.h5\n"
     ]
    },
    {
     "data": {
      "application/vnd.jupyter.widget-view+json": {
       "model_id": "e9422817337341a193165452026806a4",
       "version_major": 2,
       "version_minor": 0
      },
      "text/plain": [
       "  0%|          | 0/1000000 [00:00<?, ?it/s]"
      ]
     },
     "metadata": {},
     "output_type": "display_data"
    },
    {
     "name": "stdout",
     "output_type": "stream",
     "text": [
      "Continuous data appended to C:\\_Data\\LLqub_contT1\\2024-02-28_19-53-47.h5\n",
      "3343.394994199989 seconds have passed. Running T1 recalibration.\n"
     ]
    },
    {
     "data": {
      "application/vnd.jupyter.widget-view+json": {
       "model_id": "b4d6d625cfec42499b6fdf7221ea43ed",
       "version_major": 2,
       "version_minor": 0
      },
      "text/plain": [
       "  0%|          | 0/50000 [00:00<?, ?it/s]"
      ]
     },
     "metadata": {},
     "output_type": "display_data"
    },
    {
     "name": "stdout",
     "output_type": "stream",
     "text": [
      "t1_q is better, saving t1_q to results cfg file\n",
      "206.81046997837677 187.7648193510022 189.57099831358408\n",
      "() () ()\n"
     ]
    },
    {
     "data": {
      "application/vnd.jupyter.widget-view+json": {
       "model_id": "1116a3fec5a845a191fa16de7ef85b57",
       "version_major": 2,
       "version_minor": 0
      },
      "text/plain": [
       "  0%|          | 0/10000 [00:00<?, ?it/s]"
      ]
     },
     "metadata": {},
     "output_type": "display_data"
    },
    {
     "data": {
      "application/vnd.jupyter.widget-view+json": {
       "model_id": "8891f6e83fff46c5998edec94b11eebd",
       "version_major": 2,
       "version_minor": 0
      },
      "text/plain": [
       "  0%|          | 0/10000 [00:00<?, ?it/s]"
      ]
     },
     "metadata": {},
     "output_type": "display_data"
    },
    {
     "name": "stdout",
     "output_type": "stream",
     "text": [
      "Saving c:\\_Lib\\python\\rfsoc\\elaine_rfsoc\\slab_rfsoc_expts\\data\\00054_single_shot_qubit0.h5\n",
      "149.31170428674972\n",
      "8.70858652891612\n",
      "new anle, threshold, and fidelity 149.31170428674972 8.70858652891612 86.76433821691084\n",
      "Recalibration data appended to C:\\_Data\\LLqub_contT1\\2024-02-28_19-53-47.h5\n"
     ]
    },
    {
     "data": {
      "application/vnd.jupyter.widget-view+json": {
       "model_id": "a7d3a0956b7849fd9cd97e04927bcfaa",
       "version_major": 2,
       "version_minor": 0
      },
      "text/plain": [
       "  0%|          | 0/1000000 [00:00<?, ?it/s]"
      ]
     },
     "metadata": {},
     "output_type": "display_data"
    },
    {
     "name": "stdout",
     "output_type": "stream",
     "text": [
      "Continuous data appended to C:\\_Data\\LLqub_contT1\\2024-02-28_19-53-47.h5\n"
     ]
    },
    {
     "data": {
      "application/vnd.jupyter.widget-view+json": {
       "model_id": "14581aae9d19460b849188c4cefda241",
       "version_major": 2,
       "version_minor": 0
      },
      "text/plain": [
       "  0%|          | 0/1000000 [00:00<?, ?it/s]"
      ]
     },
     "metadata": {},
     "output_type": "display_data"
    },
    {
     "name": "stdout",
     "output_type": "stream",
     "text": [
      "Continuous data appended to C:\\_Data\\LLqub_contT1\\2024-02-28_19-53-47.h5\n",
      "3344.7954862000042 seconds have passed. Running T1 recalibration.\n"
     ]
    },
    {
     "data": {
      "application/vnd.jupyter.widget-view+json": {
       "model_id": "7914017dc1db4ad58de18eb903bb159e",
       "version_major": 2,
       "version_minor": 0
      },
      "text/plain": [
       "  0%|          | 0/50000 [00:00<?, ?it/s]"
      ]
     },
     "metadata": {},
     "output_type": "display_data"
    },
    {
     "name": "stdout",
     "output_type": "stream",
     "text": [
      "t1_q is better, saving t1_q to results cfg file\n",
      "197.78230653444373 200.44602589157705 197.4688947598372\n",
      "() () ()\n"
     ]
    },
    {
     "data": {
      "application/vnd.jupyter.widget-view+json": {
       "model_id": "9e72695bc4bc4e8994f099f609060164",
       "version_major": 2,
       "version_minor": 0
      },
      "text/plain": [
       "  0%|          | 0/10000 [00:00<?, ?it/s]"
      ]
     },
     "metadata": {},
     "output_type": "display_data"
    },
    {
     "data": {
      "application/vnd.jupyter.widget-view+json": {
       "model_id": "e9273cb76e704f6485f2fb9a10156fbc",
       "version_major": 2,
       "version_minor": 0
      },
      "text/plain": [
       "  0%|          | 0/10000 [00:00<?, ?it/s]"
      ]
     },
     "metadata": {},
     "output_type": "display_data"
    },
    {
     "name": "stdout",
     "output_type": "stream",
     "text": [
      "Saving c:\\_Lib\\python\\rfsoc\\elaine_rfsoc\\slab_rfsoc_expts\\data\\00055_single_shot_qubit0.h5\n",
      "146.77351843939397\n",
      "9.134691334296118\n",
      "new anle, threshold, and fidelity 146.77351843939397 9.134691334296118 85.6742837141857\n",
      "Recalibration data appended to C:\\_Data\\LLqub_contT1\\2024-02-28_19-53-47.h5\n"
     ]
    },
    {
     "data": {
      "application/vnd.jupyter.widget-view+json": {
       "model_id": "8f253bd30513493581191eb0b4527194",
       "version_major": 2,
       "version_minor": 0
      },
      "text/plain": [
       "  0%|          | 0/1000000 [00:00<?, ?it/s]"
      ]
     },
     "metadata": {},
     "output_type": "display_data"
    },
    {
     "name": "stdout",
     "output_type": "stream",
     "text": [
      "Continuous data appended to C:\\_Data\\LLqub_contT1\\2024-02-28_19-53-47.h5\n"
     ]
    },
    {
     "data": {
      "application/vnd.jupyter.widget-view+json": {
       "model_id": "dd6c9187247c4113a60dd5036bdb25a9",
       "version_major": 2,
       "version_minor": 0
      },
      "text/plain": [
       "  0%|          | 0/1000000 [00:00<?, ?it/s]"
      ]
     },
     "metadata": {},
     "output_type": "display_data"
    },
    {
     "name": "stdout",
     "output_type": "stream",
     "text": [
      "Continuous data appended to C:\\_Data\\LLqub_contT1\\2024-02-28_19-53-47.h5\n",
      "3344.7656456999975 seconds have passed. Running T1 recalibration.\n"
     ]
    },
    {
     "data": {
      "application/vnd.jupyter.widget-view+json": {
       "model_id": "2da9841d40db4fec943c9ebcdb412c00",
       "version_major": 2,
       "version_minor": 0
      },
      "text/plain": [
       "  0%|          | 0/50000 [00:00<?, ?it/s]"
      ]
     },
     "metadata": {},
     "output_type": "display_data"
    },
    {
     "name": "stdout",
     "output_type": "stream",
     "text": [
      "t1_q is better, saving t1_q to results cfg file\n",
      "150.15380360004798 151.25048108267984 149.435992727033\n",
      "() () ()\n"
     ]
    },
    {
     "data": {
      "application/vnd.jupyter.widget-view+json": {
       "model_id": "d61e0fe573e04f638447c805007b8dd0",
       "version_major": 2,
       "version_minor": 0
      },
      "text/plain": [
       "  0%|          | 0/10000 [00:00<?, ?it/s]"
      ]
     },
     "metadata": {},
     "output_type": "display_data"
    },
    {
     "data": {
      "application/vnd.jupyter.widget-view+json": {
       "model_id": "adb0351b39c14b68970bfd280eaadcf0",
       "version_major": 2,
       "version_minor": 0
      },
      "text/plain": [
       "  0%|          | 0/10000 [00:00<?, ?it/s]"
      ]
     },
     "metadata": {},
     "output_type": "display_data"
    },
    {
     "name": "stdout",
     "output_type": "stream",
     "text": [
      "Saving c:\\_Lib\\python\\rfsoc\\elaine_rfsoc\\slab_rfsoc_expts\\data\\00056_single_shot_qubit0.h5\n",
      "144.62516611343852\n",
      "9.249936935551325\n",
      "new anle, threshold, and fidelity 144.62516611343852 9.249936935551325 85.98429921496074\n",
      "Recalibration data appended to C:\\_Data\\LLqub_contT1\\2024-02-28_19-53-47.h5\n"
     ]
    },
    {
     "data": {
      "application/vnd.jupyter.widget-view+json": {
       "model_id": "f9348682259841aeb33f2b914b90e639",
       "version_major": 2,
       "version_minor": 0
      },
      "text/plain": [
       "  0%|          | 0/1000000 [00:00<?, ?it/s]"
      ]
     },
     "metadata": {},
     "output_type": "display_data"
    },
    {
     "name": "stdout",
     "output_type": "stream",
     "text": [
      "Continuous data appended to C:\\_Data\\LLqub_contT1\\2024-02-28_19-53-47.h5\n"
     ]
    },
    {
     "data": {
      "application/vnd.jupyter.widget-view+json": {
       "model_id": "a739e5b7a02b46a1a2a2ee3448dfbe76",
       "version_major": 2,
       "version_minor": 0
      },
      "text/plain": [
       "  0%|          | 0/1000000 [00:00<?, ?it/s]"
      ]
     },
     "metadata": {},
     "output_type": "display_data"
    },
    {
     "name": "stdout",
     "output_type": "stream",
     "text": [
      "Continuous data appended to C:\\_Data\\LLqub_contT1\\2024-02-28_19-53-47.h5\n",
      "3344.7830104999884 seconds have passed. Running T1 recalibration.\n"
     ]
    },
    {
     "data": {
      "application/vnd.jupyter.widget-view+json": {
       "model_id": "7feb059fb9a548ab9f8cb6f0749604bb",
       "version_major": 2,
       "version_minor": 0
      },
      "text/plain": [
       "  0%|          | 0/50000 [00:00<?, ?it/s]"
      ]
     },
     "metadata": {},
     "output_type": "display_data"
    },
    {
     "name": "stdout",
     "output_type": "stream",
     "text": [
      "t1_q is better, saving t1_q to results cfg file\n",
      "153.62030705492327 186.3117122951013 184.04999508505537\n",
      "() () ()\n"
     ]
    },
    {
     "data": {
      "application/vnd.jupyter.widget-view+json": {
       "model_id": "ce78b3f1a4c04e1083dd05443685c4f8",
       "version_major": 2,
       "version_minor": 0
      },
      "text/plain": [
       "  0%|          | 0/10000 [00:00<?, ?it/s]"
      ]
     },
     "metadata": {},
     "output_type": "display_data"
    },
    {
     "data": {
      "application/vnd.jupyter.widget-view+json": {
       "model_id": "91c21a5c545d4e72b99984487db85370",
       "version_major": 2,
       "version_minor": 0
      },
      "text/plain": [
       "  0%|          | 0/10000 [00:00<?, ?it/s]"
      ]
     },
     "metadata": {},
     "output_type": "display_data"
    },
    {
     "name": "stdout",
     "output_type": "stream",
     "text": [
      "Saving c:\\_Lib\\python\\rfsoc\\elaine_rfsoc\\slab_rfsoc_expts\\data\\00057_single_shot_qubit0.h5\n",
      "141.90264604103487\n",
      "8.860347542816964\n",
      "new anle, threshold, and fidelity 141.90264604103487 8.860347542816964 84.92849284928494\n",
      "Recalibration data appended to C:\\_Data\\LLqub_contT1\\2024-02-28_19-53-47.h5\n"
     ]
    },
    {
     "data": {
      "application/vnd.jupyter.widget-view+json": {
       "model_id": "3c63aac4fe2b48ac93af5eb0a27b673c",
       "version_major": 2,
       "version_minor": 0
      },
      "text/plain": [
       "  0%|          | 0/1000000 [00:00<?, ?it/s]"
      ]
     },
     "metadata": {},
     "output_type": "display_data"
    },
    {
     "name": "stdout",
     "output_type": "stream",
     "text": [
      "Continuous data appended to C:\\_Data\\LLqub_contT1\\2024-02-28_19-53-47.h5\n"
     ]
    },
    {
     "data": {
      "application/vnd.jupyter.widget-view+json": {
       "model_id": "41374ec45587468b8cd9c1cca8695aad",
       "version_major": 2,
       "version_minor": 0
      },
      "text/plain": [
       "  0%|          | 0/1000000 [00:00<?, ?it/s]"
      ]
     },
     "metadata": {},
     "output_type": "display_data"
    },
    {
     "name": "stdout",
     "output_type": "stream",
     "text": [
      "Continuous data appended to C:\\_Data\\LLqub_contT1\\2024-02-28_19-53-47.h5\n",
      "3344.102097799987 seconds have passed. Running T1 recalibration.\n"
     ]
    },
    {
     "data": {
      "application/vnd.jupyter.widget-view+json": {
       "model_id": "cf23133ef6a546d2ac621671ff70b0bd",
       "version_major": 2,
       "version_minor": 0
      },
      "text/plain": [
       "  0%|          | 0/50000 [00:00<?, ?it/s]"
      ]
     },
     "metadata": {},
     "output_type": "display_data"
    },
    {
     "name": "stdout",
     "output_type": "stream",
     "text": [
      "t1_q is better, saving t1_q to results cfg file\n",
      "207.4266765705161 184.45175330782683 182.29036851005932\n",
      "() () ()\n"
     ]
    },
    {
     "data": {
      "application/vnd.jupyter.widget-view+json": {
       "model_id": "aad5cf42028c44e4bb4cd5f3827f451a",
       "version_major": 2,
       "version_minor": 0
      },
      "text/plain": [
       "  0%|          | 0/10000 [00:00<?, ?it/s]"
      ]
     },
     "metadata": {},
     "output_type": "display_data"
    },
    {
     "data": {
      "application/vnd.jupyter.widget-view+json": {
       "model_id": "7c573cdf5a23441c8cd1588ad6868622",
       "version_major": 2,
       "version_minor": 0
      },
      "text/plain": [
       "  0%|          | 0/10000 [00:00<?, ?it/s]"
      ]
     },
     "metadata": {},
     "output_type": "display_data"
    },
    {
     "name": "stdout",
     "output_type": "stream",
     "text": [
      "Saving c:\\_Lib\\python\\rfsoc\\elaine_rfsoc\\slab_rfsoc_expts\\data\\00058_single_shot_qubit0.h5\n",
      "140.5548829209594\n",
      "9.379635384264459\n",
      "new anle, threshold, and fidelity 140.5548829209594 9.379635384264459 86.92869286928693\n",
      "Recalibration data appended to C:\\_Data\\LLqub_contT1\\2024-02-28_19-53-47.h5\n"
     ]
    },
    {
     "data": {
      "application/vnd.jupyter.widget-view+json": {
       "model_id": "8f383174eee04a16a62fcabdcb10a704",
       "version_major": 2,
       "version_minor": 0
      },
      "text/plain": [
       "  0%|          | 0/1000000 [00:00<?, ?it/s]"
      ]
     },
     "metadata": {},
     "output_type": "display_data"
    },
    {
     "name": "stdout",
     "output_type": "stream",
     "text": [
      "Continuous data appended to C:\\_Data\\LLqub_contT1\\2024-02-28_19-53-47.h5\n"
     ]
    },
    {
     "data": {
      "application/vnd.jupyter.widget-view+json": {
       "model_id": "a1048451298c499b891549c9389f4bc1",
       "version_major": 2,
       "version_minor": 0
      },
      "text/plain": [
       "  0%|          | 0/1000000 [00:00<?, ?it/s]"
      ]
     },
     "metadata": {},
     "output_type": "display_data"
    },
    {
     "name": "stdout",
     "output_type": "stream",
     "text": [
      "Continuous data appended to C:\\_Data\\LLqub_contT1\\2024-02-28_19-53-47.h5\n",
      "3344.0891375999927 seconds have passed. Running T1 recalibration.\n"
     ]
    },
    {
     "data": {
      "application/vnd.jupyter.widget-view+json": {
       "model_id": "4b443755f7544f5984e52e058e5a4e19",
       "version_major": 2,
       "version_minor": 0
      },
      "text/plain": [
       "  0%|          | 0/50000 [00:00<?, ?it/s]"
      ]
     },
     "metadata": {},
     "output_type": "display_data"
    },
    {
     "name": "stdout",
     "output_type": "stream",
     "text": [
      "t1_q is better, saving t1_q to results cfg file\n",
      "154.11268726231475 156.8269563126739 155.2823437705167\n",
      "() () ()\n"
     ]
    },
    {
     "data": {
      "application/vnd.jupyter.widget-view+json": {
       "model_id": "f8a7bda7b6b140649ca1645b959d385e",
       "version_major": 2,
       "version_minor": 0
      },
      "text/plain": [
       "  0%|          | 0/10000 [00:00<?, ?it/s]"
      ]
     },
     "metadata": {},
     "output_type": "display_data"
    },
    {
     "data": {
      "application/vnd.jupyter.widget-view+json": {
       "model_id": "023a6416e05342fab665b1168f1d90b3",
       "version_major": 2,
       "version_minor": 0
      },
      "text/plain": [
       "  0%|          | 0/10000 [00:00<?, ?it/s]"
      ]
     },
     "metadata": {},
     "output_type": "display_data"
    },
    {
     "name": "stdout",
     "output_type": "stream",
     "text": [
      "Saving c:\\_Lib\\python\\rfsoc\\elaine_rfsoc\\slab_rfsoc_expts\\data\\00059_single_shot_qubit0.h5\n",
      "138.34217264271604\n",
      "9.206358340471471\n",
      "new anle, threshold, and fidelity 138.34217264271604 9.206358340471471 86.23431171558578\n",
      "Recalibration data appended to C:\\_Data\\LLqub_contT1\\2024-02-28_19-53-47.h5\n"
     ]
    },
    {
     "data": {
      "application/vnd.jupyter.widget-view+json": {
       "model_id": "b564cea140fa409395162080fef37493",
       "version_major": 2,
       "version_minor": 0
      },
      "text/plain": [
       "  0%|          | 0/1000000 [00:00<?, ?it/s]"
      ]
     },
     "metadata": {},
     "output_type": "display_data"
    },
    {
     "name": "stdout",
     "output_type": "stream",
     "text": [
      "Continuous data appended to C:\\_Data\\LLqub_contT1\\2024-02-28_19-53-47.h5\n"
     ]
    },
    {
     "data": {
      "application/vnd.jupyter.widget-view+json": {
       "model_id": "16ecf5eb43704a2f9ac737c979ebd7e1",
       "version_major": 2,
       "version_minor": 0
      },
      "text/plain": [
       "  0%|          | 0/1000000 [00:00<?, ?it/s]"
      ]
     },
     "metadata": {},
     "output_type": "display_data"
    },
    {
     "name": "stdout",
     "output_type": "stream",
     "text": [
      "Continuous data appended to C:\\_Data\\LLqub_contT1\\2024-02-28_19-53-47.h5\n",
      "3344.0861946000077 seconds have passed. Running T1 recalibration.\n"
     ]
    },
    {
     "data": {
      "application/vnd.jupyter.widget-view+json": {
       "model_id": "5d9b47d27ee2492797cfe7e7de37ed66",
       "version_major": 2,
       "version_minor": 0
      },
      "text/plain": [
       "  0%|          | 0/50000 [00:00<?, ?it/s]"
      ]
     },
     "metadata": {},
     "output_type": "display_data"
    },
    {
     "name": "stdout",
     "output_type": "stream",
     "text": [
      "t1_q is better, saving t1_q to results cfg file\n",
      "186.8713794819826 108.71679806723343 107.53769147055105\n",
      "() () ()\n"
     ]
    },
    {
     "data": {
      "application/vnd.jupyter.widget-view+json": {
       "model_id": "c82db3de1b0c4eba9d3cd38b3b7277c9",
       "version_major": 2,
       "version_minor": 0
      },
      "text/plain": [
       "  0%|          | 0/10000 [00:00<?, ?it/s]"
      ]
     },
     "metadata": {},
     "output_type": "display_data"
    },
    {
     "data": {
      "application/vnd.jupyter.widget-view+json": {
       "model_id": "80fb478934cf4ba58b1b6cddadf8bcf4",
       "version_major": 2,
       "version_minor": 0
      },
      "text/plain": [
       "  0%|          | 0/10000 [00:00<?, ?it/s]"
      ]
     },
     "metadata": {},
     "output_type": "display_data"
    },
    {
     "name": "stdout",
     "output_type": "stream",
     "text": [
      "Saving c:\\_Lib\\python\\rfsoc\\elaine_rfsoc\\slab_rfsoc_expts\\data\\00060_single_shot_qubit0.h5\n",
      "138.04637306542273\n",
      "9.308867951826446\n",
      "new anle, threshold, and fidelity 138.04637306542273 9.308867951826446 84.73423671183559\n",
      "Recalibration data appended to C:\\_Data\\LLqub_contT1\\2024-02-28_19-53-47.h5\n"
     ]
    },
    {
     "data": {
      "application/vnd.jupyter.widget-view+json": {
       "model_id": "a86d55ae59404e2c8d2dc41f32aeaa1b",
       "version_major": 2,
       "version_minor": 0
      },
      "text/plain": [
       "  0%|          | 0/1000000 [00:00<?, ?it/s]"
      ]
     },
     "metadata": {},
     "output_type": "display_data"
    },
    {
     "name": "stdout",
     "output_type": "stream",
     "text": [
      "Continuous data appended to C:\\_Data\\LLqub_contT1\\2024-02-28_19-53-47.h5\n"
     ]
    },
    {
     "data": {
      "application/vnd.jupyter.widget-view+json": {
       "model_id": "ff257ca6ff5e4daa969eee4b915ae0b4",
       "version_major": 2,
       "version_minor": 0
      },
      "text/plain": [
       "  0%|          | 0/1000000 [00:00<?, ?it/s]"
      ]
     },
     "metadata": {},
     "output_type": "display_data"
    },
    {
     "name": "stdout",
     "output_type": "stream",
     "text": [
      "Continuous data appended to C:\\_Data\\LLqub_contT1\\2024-02-28_19-53-47.h5\n",
      "3343.804700000008 seconds have passed. Running T1 recalibration.\n"
     ]
    },
    {
     "data": {
      "application/vnd.jupyter.widget-view+json": {
       "model_id": "dc4a83477b2640ee8712fdeb21375f9e",
       "version_major": 2,
       "version_minor": 0
      },
      "text/plain": [
       "  0%|          | 0/50000 [00:00<?, ?it/s]"
      ]
     },
     "metadata": {},
     "output_type": "display_data"
    },
    {
     "name": "stdout",
     "output_type": "stream",
     "text": [
      "t1_q is better, saving t1_q to results cfg file\n",
      "144.10870278754263 216.53035311754547 213.82938769757868\n",
      "() () ()\n"
     ]
    },
    {
     "data": {
      "application/vnd.jupyter.widget-view+json": {
       "model_id": "e43f9ef296aa48fd92119e8fff2f6399",
       "version_major": 2,
       "version_minor": 0
      },
      "text/plain": [
       "  0%|          | 0/10000 [00:00<?, ?it/s]"
      ]
     },
     "metadata": {},
     "output_type": "display_data"
    },
    {
     "data": {
      "application/vnd.jupyter.widget-view+json": {
       "model_id": "f61084061513456d9ff0e257708435e4",
       "version_major": 2,
       "version_minor": 0
      },
      "text/plain": [
       "  0%|          | 0/10000 [00:00<?, ?it/s]"
      ]
     },
     "metadata": {},
     "output_type": "display_data"
    },
    {
     "name": "stdout",
     "output_type": "stream",
     "text": [
      "Saving c:\\_Lib\\python\\rfsoc\\elaine_rfsoc\\slab_rfsoc_expts\\data\\00061_single_shot_qubit0.h5\n",
      "137.39863717921614\n",
      "8.324023528759138\n",
      "new anle, threshold, and fidelity 137.39863717921614 8.324023528759138 79.02790279027903\n",
      "Recalibration data appended to C:\\_Data\\LLqub_contT1\\2024-02-28_19-53-47.h5\n"
     ]
    },
    {
     "data": {
      "application/vnd.jupyter.widget-view+json": {
       "model_id": "872234dc6bed4c05a74e4ed9b229afdb",
       "version_major": 2,
       "version_minor": 0
      },
      "text/plain": [
       "  0%|          | 0/1000000 [00:00<?, ?it/s]"
      ]
     },
     "metadata": {},
     "output_type": "display_data"
    },
    {
     "name": "stdout",
     "output_type": "stream",
     "text": [
      "Continuous data appended to C:\\_Data\\LLqub_contT1\\2024-02-28_19-53-47.h5\n"
     ]
    },
    {
     "data": {
      "application/vnd.jupyter.widget-view+json": {
       "model_id": "831f587550a640aeb86dfa7a892e8b26",
       "version_major": 2,
       "version_minor": 0
      },
      "text/plain": [
       "  0%|          | 0/1000000 [00:00<?, ?it/s]"
      ]
     },
     "metadata": {},
     "output_type": "display_data"
    },
    {
     "name": "stdout",
     "output_type": "stream",
     "text": [
      "Continuous data appended to C:\\_Data\\LLqub_contT1\\2024-02-28_19-53-47.h5\n",
      "3344.3068058000063 seconds have passed. Running T1 recalibration.\n"
     ]
    },
    {
     "data": {
      "application/vnd.jupyter.widget-view+json": {
       "model_id": "c06ba2317d464eeab3c4dd59f0fe1285",
       "version_major": 2,
       "version_minor": 0
      },
      "text/plain": [
       "  0%|          | 0/50000 [00:00<?, ?it/s]"
      ]
     },
     "metadata": {},
     "output_type": "display_data"
    },
    {
     "name": "stdout",
     "output_type": "stream",
     "text": [
      "t1_q is better, saving t1_q to results cfg file\n",
      "117.0531518895029 128.26192864504907 127.32896240038464\n",
      "() () ()\n"
     ]
    },
    {
     "data": {
      "application/vnd.jupyter.widget-view+json": {
       "model_id": "f086cb0b540542dc9d155db536a342c4",
       "version_major": 2,
       "version_minor": 0
      },
      "text/plain": [
       "  0%|          | 0/10000 [00:00<?, ?it/s]"
      ]
     },
     "metadata": {},
     "output_type": "display_data"
    },
    {
     "data": {
      "application/vnd.jupyter.widget-view+json": {
       "model_id": "6583a66c16f64a17be59dcaaa9d2ec33",
       "version_major": 2,
       "version_minor": 0
      },
      "text/plain": [
       "  0%|          | 0/10000 [00:00<?, ?it/s]"
      ]
     },
     "metadata": {},
     "output_type": "display_data"
    },
    {
     "name": "stdout",
     "output_type": "stream",
     "text": [
      "Saving c:\\_Lib\\python\\rfsoc\\elaine_rfsoc\\slab_rfsoc_expts\\data\\00062_single_shot_qubit0.h5\n",
      "136.7660577526172\n",
      "9.775738114605051\n",
      "new anle, threshold, and fidelity 136.7660577526172 9.775738114605051 85.02425121256063\n",
      "Recalibration data appended to C:\\_Data\\LLqub_contT1\\2024-02-28_19-53-47.h5\n"
     ]
    },
    {
     "data": {
      "application/vnd.jupyter.widget-view+json": {
       "model_id": "cc810136faf442e2a6aab5ace2017a26",
       "version_major": 2,
       "version_minor": 0
      },
      "text/plain": [
       "  0%|          | 0/1000000 [00:00<?, ?it/s]"
      ]
     },
     "metadata": {},
     "output_type": "display_data"
    },
    {
     "name": "stdout",
     "output_type": "stream",
     "text": [
      "Continuous data appended to C:\\_Data\\LLqub_contT1\\2024-02-28_19-53-47.h5\n"
     ]
    },
    {
     "data": {
      "application/vnd.jupyter.widget-view+json": {
       "model_id": "ce2f88b56178443eb4ac8ad983e9a8ad",
       "version_major": 2,
       "version_minor": 0
      },
      "text/plain": [
       "  0%|          | 0/1000000 [00:00<?, ?it/s]"
      ]
     },
     "metadata": {},
     "output_type": "display_data"
    },
    {
     "name": "stdout",
     "output_type": "stream",
     "text": [
      "Continuous data appended to C:\\_Data\\LLqub_contT1\\2024-02-28_19-53-47.h5\n",
      "3343.6052111000026 seconds have passed. Running T1 recalibration.\n"
     ]
    },
    {
     "data": {
      "application/vnd.jupyter.widget-view+json": {
       "model_id": "78aef76fb14e41b7af385af3e425f6bd",
       "version_major": 2,
       "version_minor": 0
      },
      "text/plain": [
       "  0%|          | 0/50000 [00:00<?, ?it/s]"
      ]
     },
     "metadata": {},
     "output_type": "display_data"
    },
    {
     "name": "stdout",
     "output_type": "stream",
     "text": [
      "t1_q is better, saving t1_q to results cfg file\n",
      "92.05039017963654 154.89515565004385 153.28967565150103\n",
      "() () ()\n"
     ]
    },
    {
     "data": {
      "application/vnd.jupyter.widget-view+json": {
       "model_id": "c640623f9ca542b4b475e71c543ecd91",
       "version_major": 2,
       "version_minor": 0
      },
      "text/plain": [
       "  0%|          | 0/10000 [00:00<?, ?it/s]"
      ]
     },
     "metadata": {},
     "output_type": "display_data"
    },
    {
     "data": {
      "application/vnd.jupyter.widget-view+json": {
       "model_id": "7b57acba25884974a6b2ad2b382fd84f",
       "version_major": 2,
       "version_minor": 0
      },
      "text/plain": [
       "  0%|          | 0/10000 [00:00<?, ?it/s]"
      ]
     },
     "metadata": {},
     "output_type": "display_data"
    },
    {
     "name": "stdout",
     "output_type": "stream",
     "text": [
      "Saving c:\\_Lib\\python\\rfsoc\\elaine_rfsoc\\slab_rfsoc_expts\\data\\00063_single_shot_qubit0.h5\n",
      "137.21075501033025\n",
      "8.625691789249036\n",
      "new anle, threshold, and fidelity 137.21075501033025 8.625691789249036 83.45251787768166\n",
      "Recalibration data appended to C:\\_Data\\LLqub_contT1\\2024-02-28_19-53-47.h5\n"
     ]
    },
    {
     "data": {
      "application/vnd.jupyter.widget-view+json": {
       "model_id": "88138cce8c39468294431314a74fb620",
       "version_major": 2,
       "version_minor": 0
      },
      "text/plain": [
       "  0%|          | 0/1000000 [00:00<?, ?it/s]"
      ]
     },
     "metadata": {},
     "output_type": "display_data"
    },
    {
     "name": "stdout",
     "output_type": "stream",
     "text": [
      "Continuous data appended to C:\\_Data\\LLqub_contT1\\2024-02-28_19-53-47.h5\n"
     ]
    },
    {
     "data": {
      "application/vnd.jupyter.widget-view+json": {
       "model_id": "adbe9583f1c44368a5789bb277c8d013",
       "version_major": 2,
       "version_minor": 0
      },
      "text/plain": [
       "  0%|          | 0/1000000 [00:00<?, ?it/s]"
      ]
     },
     "metadata": {},
     "output_type": "display_data"
    },
    {
     "name": "stdout",
     "output_type": "stream",
     "text": [
      "Continuous data appended to C:\\_Data\\LLqub_contT1\\2024-02-28_19-53-47.h5\n",
      "3344.7701658000005 seconds have passed. Running T1 recalibration.\n"
     ]
    },
    {
     "data": {
      "application/vnd.jupyter.widget-view+json": {
       "model_id": "69f79141cf304dfe8c7166244a77a1d6",
       "version_major": 2,
       "version_minor": 0
      },
      "text/plain": [
       "  0%|          | 0/50000 [00:00<?, ?it/s]"
      ]
     },
     "metadata": {},
     "output_type": "display_data"
    },
    {
     "name": "stdout",
     "output_type": "stream",
     "text": [
      "t1_q is better, saving t1_q to results cfg file\n",
      "266.40305800882425 231.32645158462378 227.1111279780414\n",
      "() () ()\n"
     ]
    },
    {
     "data": {
      "application/vnd.jupyter.widget-view+json": {
       "model_id": "b644eea30f9c4d6da9afe0533554446d",
       "version_major": 2,
       "version_minor": 0
      },
      "text/plain": [
       "  0%|          | 0/10000 [00:00<?, ?it/s]"
      ]
     },
     "metadata": {},
     "output_type": "display_data"
    },
    {
     "data": {
      "application/vnd.jupyter.widget-view+json": {
       "model_id": "818dc6325d454d4ea9cdd445590a8627",
       "version_major": 2,
       "version_minor": 0
      },
      "text/plain": [
       "  0%|          | 0/10000 [00:00<?, ?it/s]"
      ]
     },
     "metadata": {},
     "output_type": "display_data"
    },
    {
     "name": "stdout",
     "output_type": "stream",
     "text": [
      "Saving c:\\_Lib\\python\\rfsoc\\elaine_rfsoc\\slab_rfsoc_expts\\data\\00064_single_shot_qubit0.h5\n",
      "138.4396446730141\n",
      "8.835887449821401\n",
      "new anle, threshold, and fidelity 138.4396446730141 8.835887449821401 80.8340417020851\n",
      "Recalibration data appended to C:\\_Data\\LLqub_contT1\\2024-02-28_19-53-47.h5\n"
     ]
    },
    {
     "data": {
      "application/vnd.jupyter.widget-view+json": {
       "model_id": "c66ab33e9cea4263beb1ea61ba0fb8a4",
       "version_major": 2,
       "version_minor": 0
      },
      "text/plain": [
       "  0%|          | 0/1000000 [00:00<?, ?it/s]"
      ]
     },
     "metadata": {},
     "output_type": "display_data"
    },
    {
     "name": "stdout",
     "output_type": "stream",
     "text": [
      "Continuous data appended to C:\\_Data\\LLqub_contT1\\2024-02-28_19-53-47.h5\n"
     ]
    },
    {
     "data": {
      "application/vnd.jupyter.widget-view+json": {
       "model_id": "ee6389d8c73a47b697304f5c7a064e0d",
       "version_major": 2,
       "version_minor": 0
      },
      "text/plain": [
       "  0%|          | 0/1000000 [00:00<?, ?it/s]"
      ]
     },
     "metadata": {},
     "output_type": "display_data"
    },
    {
     "name": "stdout",
     "output_type": "stream",
     "text": [
      "Continuous data appended to C:\\_Data\\LLqub_contT1\\2024-02-28_19-53-47.h5\n",
      "3344.321939600006 seconds have passed. Running T1 recalibration.\n"
     ]
    },
    {
     "data": {
      "application/vnd.jupyter.widget-view+json": {
       "model_id": "9f404a1e7d304a24ba1823a287a6da59",
       "version_major": 2,
       "version_minor": 0
      },
      "text/plain": [
       "  0%|          | 0/50000 [00:00<?, ?it/s]"
      ]
     },
     "metadata": {},
     "output_type": "display_data"
    },
    {
     "name": "stdout",
     "output_type": "stream",
     "text": [
      "t1_q is better, saving t1_q to results cfg file\n",
      "35.724365110064625 35.613489661231625 35.28482888102336\n",
      "() () ()\n"
     ]
    },
    {
     "data": {
      "application/vnd.jupyter.widget-view+json": {
       "model_id": "cb63cc5e3708411893531a5677af2a92",
       "version_major": 2,
       "version_minor": 0
      },
      "text/plain": [
       "  0%|          | 0/10000 [00:00<?, ?it/s]"
      ]
     },
     "metadata": {},
     "output_type": "display_data"
    },
    {
     "data": {
      "application/vnd.jupyter.widget-view+json": {
       "model_id": "53488185059f40d1856902a5db1251ab",
       "version_major": 2,
       "version_minor": 0
      },
      "text/plain": [
       "  0%|          | 0/10000 [00:00<?, ?it/s]"
      ]
     },
     "metadata": {},
     "output_type": "display_data"
    },
    {
     "name": "stdout",
     "output_type": "stream",
     "text": [
      "Saving c:\\_Lib\\python\\rfsoc\\elaine_rfsoc\\slab_rfsoc_expts\\data\\00065_single_shot_qubit0.h5\n",
      "137.36136920483295\n",
      "8.769549321409995\n",
      "new anle, threshold, and fidelity 137.36136920483295 8.769549321409995 84.35421771088555\n",
      "Recalibration data appended to C:\\_Data\\LLqub_contT1\\2024-02-28_19-53-47.h5\n"
     ]
    },
    {
     "data": {
      "application/vnd.jupyter.widget-view+json": {
       "model_id": "9677c09b1c57461fa766817474bcbdde",
       "version_major": 2,
       "version_minor": 0
      },
      "text/plain": [
       "  0%|          | 0/1000000 [00:00<?, ?it/s]"
      ]
     },
     "metadata": {},
     "output_type": "display_data"
    },
    {
     "name": "stdout",
     "output_type": "stream",
     "text": [
      "Continuous data appended to C:\\_Data\\LLqub_contT1\\2024-02-28_19-53-47.h5\n"
     ]
    },
    {
     "data": {
      "application/vnd.jupyter.widget-view+json": {
       "model_id": "b937d58ffe2b4aa49831f44f16148019",
       "version_major": 2,
       "version_minor": 0
      },
      "text/plain": [
       "  0%|          | 0/1000000 [00:00<?, ?it/s]"
      ]
     },
     "metadata": {},
     "output_type": "display_data"
    },
    {
     "name": "stdout",
     "output_type": "stream",
     "text": [
      "Continuous data appended to C:\\_Data\\LLqub_contT1\\2024-02-28_19-53-47.h5\n",
      "3344.6220045999944 seconds have passed. Running T1 recalibration.\n"
     ]
    },
    {
     "data": {
      "application/vnd.jupyter.widget-view+json": {
       "model_id": "6c65747763fd4f11b9eb41586cba6145",
       "version_major": 2,
       "version_minor": 0
      },
      "text/plain": [
       "  0%|          | 0/50000 [00:00<?, ?it/s]"
      ]
     },
     "metadata": {},
     "output_type": "display_data"
    },
    {
     "name": "stdout",
     "output_type": "stream",
     "text": [
      "t1_q is better, saving t1_q to results cfg file\n",
      "115.36530328990756 108.05880218549632 106.68227366239161\n",
      "() () ()\n"
     ]
    },
    {
     "data": {
      "application/vnd.jupyter.widget-view+json": {
       "model_id": "a6e6843067b74a8b84e764355e60f21b",
       "version_major": 2,
       "version_minor": 0
      },
      "text/plain": [
       "  0%|          | 0/10000 [00:00<?, ?it/s]"
      ]
     },
     "metadata": {},
     "output_type": "display_data"
    },
    {
     "data": {
      "application/vnd.jupyter.widget-view+json": {
       "model_id": "176e698ab67d4c598d2c182988972801",
       "version_major": 2,
       "version_minor": 0
      },
      "text/plain": [
       "  0%|          | 0/10000 [00:00<?, ?it/s]"
      ]
     },
     "metadata": {},
     "output_type": "display_data"
    },
    {
     "name": "stdout",
     "output_type": "stream",
     "text": [
      "Saving c:\\_Lib\\python\\rfsoc\\elaine_rfsoc\\slab_rfsoc_expts\\data\\00066_single_shot_qubit0.h5\n",
      "139.05562777232612\n",
      "9.094896289759403\n",
      "new anle, threshold, and fidelity 139.05562777232612 9.094896289759403 83.53417670883545\n",
      "Recalibration data appended to C:\\_Data\\LLqub_contT1\\2024-02-28_19-53-47.h5\n"
     ]
    },
    {
     "data": {
      "application/vnd.jupyter.widget-view+json": {
       "model_id": "0af83c21e51e47149601780e676ceddd",
       "version_major": 2,
       "version_minor": 0
      },
      "text/plain": [
       "  0%|          | 0/1000000 [00:00<?, ?it/s]"
      ]
     },
     "metadata": {},
     "output_type": "display_data"
    },
    {
     "name": "stdout",
     "output_type": "stream",
     "text": [
      "Continuous data appended to C:\\_Data\\LLqub_contT1\\2024-02-28_19-53-47.h5\n"
     ]
    },
    {
     "data": {
      "application/vnd.jupyter.widget-view+json": {
       "model_id": "617c42d507cd429f904f67550fb36c35",
       "version_major": 2,
       "version_minor": 0
      },
      "text/plain": [
       "  0%|          | 0/1000000 [00:00<?, ?it/s]"
      ]
     },
     "metadata": {},
     "output_type": "display_data"
    },
    {
     "name": "stdout",
     "output_type": "stream",
     "text": [
      "Continuous data appended to C:\\_Data\\LLqub_contT1\\2024-02-28_19-53-47.h5\n",
      "3344.855566099999 seconds have passed. Running T1 recalibration.\n"
     ]
    },
    {
     "data": {
      "application/vnd.jupyter.widget-view+json": {
       "model_id": "21bf531050a14c06880b86ebbd522c66",
       "version_major": 2,
       "version_minor": 0
      },
      "text/plain": [
       "  0%|          | 0/50000 [00:00<?, ?it/s]"
      ]
     },
     "metadata": {},
     "output_type": "display_data"
    },
    {
     "name": "stdout",
     "output_type": "stream",
     "text": [
      "t1_q is better, saving t1_q to results cfg file\n",
      "113.94984399172861 109.7197173342243 109.31278470790798\n",
      "() () ()\n"
     ]
    },
    {
     "data": {
      "application/vnd.jupyter.widget-view+json": {
       "model_id": "2a5d97f1737144b69ffa720729421196",
       "version_major": 2,
       "version_minor": 0
      },
      "text/plain": [
       "  0%|          | 0/10000 [00:00<?, ?it/s]"
      ]
     },
     "metadata": {},
     "output_type": "display_data"
    },
    {
     "data": {
      "application/vnd.jupyter.widget-view+json": {
       "model_id": "3b981812aab445eeb33c4b66ac8871e4",
       "version_major": 2,
       "version_minor": 0
      },
      "text/plain": [
       "  0%|          | 0/10000 [00:00<?, ?it/s]"
      ]
     },
     "metadata": {},
     "output_type": "display_data"
    },
    {
     "name": "stdout",
     "output_type": "stream",
     "text": [
      "Saving c:\\_Lib\\python\\rfsoc\\elaine_rfsoc\\slab_rfsoc_expts\\data\\00067_single_shot_qubit0.h5\n",
      "140.326608141419\n",
      "8.488206586369133\n",
      "new anle, threshold, and fidelity 140.326608141419 8.488206586369133 84.21421071053553\n",
      "Recalibration data appended to C:\\_Data\\LLqub_contT1\\2024-02-28_19-53-47.h5\n"
     ]
    },
    {
     "data": {
      "application/vnd.jupyter.widget-view+json": {
       "model_id": "0f0647837bbf4cc4b3e7073641a72874",
       "version_major": 2,
       "version_minor": 0
      },
      "text/plain": [
       "  0%|          | 0/1000000 [00:00<?, ?it/s]"
      ]
     },
     "metadata": {},
     "output_type": "display_data"
    },
    {
     "name": "stdout",
     "output_type": "stream",
     "text": [
      "Continuous data appended to C:\\_Data\\LLqub_contT1\\2024-02-28_19-53-47.h5\n"
     ]
    },
    {
     "data": {
      "application/vnd.jupyter.widget-view+json": {
       "model_id": "743115cbb33e4208973f5540d5252dfb",
       "version_major": 2,
       "version_minor": 0
      },
      "text/plain": [
       "  0%|          | 0/1000000 [00:00<?, ?it/s]"
      ]
     },
     "metadata": {},
     "output_type": "display_data"
    },
    {
     "name": "stdout",
     "output_type": "stream",
     "text": [
      "Continuous data appended to C:\\_Data\\LLqub_contT1\\2024-02-28_19-53-47.h5\n",
      "3343.4116629999917 seconds have passed. Running T1 recalibration.\n"
     ]
    },
    {
     "data": {
      "application/vnd.jupyter.widget-view+json": {
       "model_id": "ceb9beff9d0a4658ad3cf6a22a325eba",
       "version_major": 2,
       "version_minor": 0
      },
      "text/plain": [
       "  0%|          | 0/50000 [00:00<?, ?it/s]"
      ]
     },
     "metadata": {},
     "output_type": "display_data"
    },
    {
     "name": "stdout",
     "output_type": "stream",
     "text": [
      "t1_q is better, saving t1_q to results cfg file\n",
      "213.09156315906836 237.86226117094748 232.24953535804053\n",
      "() () ()\n"
     ]
    },
    {
     "data": {
      "application/vnd.jupyter.widget-view+json": {
       "model_id": "65c7d7bb6f85445c831d9d57816e78a9",
       "version_major": 2,
       "version_minor": 0
      },
      "text/plain": [
       "  0%|          | 0/10000 [00:00<?, ?it/s]"
      ]
     },
     "metadata": {},
     "output_type": "display_data"
    },
    {
     "data": {
      "application/vnd.jupyter.widget-view+json": {
       "model_id": "f0505634abc44f7e852963edf5d1a760",
       "version_major": 2,
       "version_minor": 0
      },
      "text/plain": [
       "  0%|          | 0/10000 [00:00<?, ?it/s]"
      ]
     },
     "metadata": {},
     "output_type": "display_data"
    },
    {
     "name": "stdout",
     "output_type": "stream",
     "text": [
      "Saving c:\\_Lib\\python\\rfsoc\\elaine_rfsoc\\slab_rfsoc_expts\\data\\00068_single_shot_qubit0.h5\n",
      "142.07912387739978\n",
      "8.476592042440942\n",
      "new anle, threshold, and fidelity 142.07912387739978 8.476592042440942 85.33426671333567\n",
      "Recalibration data appended to C:\\_Data\\LLqub_contT1\\2024-02-28_19-53-47.h5\n"
     ]
    },
    {
     "data": {
      "application/vnd.jupyter.widget-view+json": {
       "model_id": "c256107e6e464ed3887c50380308137e",
       "version_major": 2,
       "version_minor": 0
      },
      "text/plain": [
       "  0%|          | 0/1000000 [00:00<?, ?it/s]"
      ]
     },
     "metadata": {},
     "output_type": "display_data"
    },
    {
     "name": "stdout",
     "output_type": "stream",
     "text": [
      "Continuous data appended to C:\\_Data\\LLqub_contT1\\2024-02-28_19-53-47.h5\n"
     ]
    },
    {
     "data": {
      "application/vnd.jupyter.widget-view+json": {
       "model_id": "f000e7bda8e64e5596f362a198bc0932",
       "version_major": 2,
       "version_minor": 0
      },
      "text/plain": [
       "  0%|          | 0/1000000 [00:00<?, ?it/s]"
      ]
     },
     "metadata": {},
     "output_type": "display_data"
    },
    {
     "name": "stdout",
     "output_type": "stream",
     "text": [
      "Continuous data appended to C:\\_Data\\LLqub_contT1\\2024-02-28_19-53-47.h5\n",
      "3343.4023767000035 seconds have passed. Running T1 recalibration.\n"
     ]
    },
    {
     "data": {
      "application/vnd.jupyter.widget-view+json": {
       "model_id": "4ebdfd1d13f646d5b933b7d5f7b13f4d",
       "version_major": 2,
       "version_minor": 0
      },
      "text/plain": [
       "  0%|          | 0/50000 [00:00<?, ?it/s]"
      ]
     },
     "metadata": {},
     "output_type": "display_data"
    },
    {
     "name": "stdout",
     "output_type": "stream",
     "text": [
      "t1_q is better, saving t1_q to results cfg file\n",
      "90437.4791937512 2032.0778760541536 1428.550809356724\n",
      "() () ()\n"
     ]
    },
    {
     "data": {
      "application/vnd.jupyter.widget-view+json": {
       "model_id": "73fae898fc1342d7936095a6c494de47",
       "version_major": 2,
       "version_minor": 0
      },
      "text/plain": [
       "  0%|          | 0/10000 [00:00<?, ?it/s]"
      ]
     },
     "metadata": {},
     "output_type": "display_data"
    },
    {
     "data": {
      "application/vnd.jupyter.widget-view+json": {
       "model_id": "dec1c100c3f34f808c838d144663eb38",
       "version_major": 2,
       "version_minor": 0
      },
      "text/plain": [
       "  0%|          | 0/10000 [00:00<?, ?it/s]"
      ]
     },
     "metadata": {},
     "output_type": "display_data"
    },
    {
     "name": "stdout",
     "output_type": "stream",
     "text": [
      "Saving c:\\_Lib\\python\\rfsoc\\elaine_rfsoc\\slab_rfsoc_expts\\data\\00069_single_shot_qubit0.h5\n",
      "144.6139263013169\n",
      "8.665912448587374\n",
      "new anle, threshold, and fidelity 144.6139263013169 8.665912448587374 82.83828382838284\n",
      "Recalibration data appended to C:\\_Data\\LLqub_contT1\\2024-02-28_19-53-47.h5\n"
     ]
    },
    {
     "data": {
      "application/vnd.jupyter.widget-view+json": {
       "model_id": "79cdd9daefd74e68bc3405d874d2078d",
       "version_major": 2,
       "version_minor": 0
      },
      "text/plain": [
       "  0%|          | 0/1000000 [00:00<?, ?it/s]"
      ]
     },
     "metadata": {},
     "output_type": "display_data"
    },
    {
     "name": "stdout",
     "output_type": "stream",
     "text": [
      "Continuous data appended to C:\\_Data\\LLqub_contT1\\2024-02-28_19-53-47.h5\n"
     ]
    },
    {
     "data": {
      "application/vnd.jupyter.widget-view+json": {
       "model_id": "896347735a024ba5958541ec04510e0d",
       "version_major": 2,
       "version_minor": 0
      },
      "text/plain": [
       "  0%|          | 0/1000000 [00:00<?, ?it/s]"
      ]
     },
     "metadata": {},
     "output_type": "display_data"
    },
    {
     "name": "stdout",
     "output_type": "stream",
     "text": [
      "Continuous data appended to C:\\_Data\\LLqub_contT1\\2024-02-28_19-53-47.h5\n",
      "3343.7137895999767 seconds have passed. Running T1 recalibration.\n"
     ]
    },
    {
     "data": {
      "application/vnd.jupyter.widget-view+json": {
       "model_id": "3f579026c1404786a60a96de4e964a22",
       "version_major": 2,
       "version_minor": 0
      },
      "text/plain": [
       "  0%|          | 0/50000 [00:00<?, ?it/s]"
      ]
     },
     "metadata": {},
     "output_type": "display_data"
    },
    {
     "name": "stdout",
     "output_type": "stream",
     "text": [
      "t1_i is better, saving T1_i to results cfg file\n",
      "331.88482485919513 330.1594659912558 319.58708498123565\n",
      "() () ()\n"
     ]
    },
    {
     "data": {
      "application/vnd.jupyter.widget-view+json": {
       "model_id": "1eaf82913d4c4268aa4108a8421b4534",
       "version_major": 2,
       "version_minor": 0
      },
      "text/plain": [
       "  0%|          | 0/10000 [00:00<?, ?it/s]"
      ]
     },
     "metadata": {},
     "output_type": "display_data"
    },
    {
     "data": {
      "application/vnd.jupyter.widget-view+json": {
       "model_id": "b0ec528bdce047e88c42da77670844f6",
       "version_major": 2,
       "version_minor": 0
      },
      "text/plain": [
       "  0%|          | 0/10000 [00:00<?, ?it/s]"
      ]
     },
     "metadata": {},
     "output_type": "display_data"
    },
    {
     "name": "stdout",
     "output_type": "stream",
     "text": [
      "Saving c:\\_Lib\\python\\rfsoc\\elaine_rfsoc\\slab_rfsoc_expts\\data\\00070_single_shot_qubit0.h5\n",
      "147.467490048941\n",
      "8.227831052260713\n",
      "new anle, threshold, and fidelity 147.467490048941 8.227831052260713 78.26391319565978\n",
      "Recalibration data appended to C:\\_Data\\LLqub_contT1\\2024-02-28_19-53-47.h5\n"
     ]
    },
    {
     "data": {
      "application/vnd.jupyter.widget-view+json": {
       "model_id": "8ecc058dbafb4749b7e51b3bc7fe71ad",
       "version_major": 2,
       "version_minor": 0
      },
      "text/plain": [
       "  0%|          | 0/1000000 [00:00<?, ?it/s]"
      ]
     },
     "metadata": {},
     "output_type": "display_data"
    },
    {
     "name": "stdout",
     "output_type": "stream",
     "text": [
      "Continuous data appended to C:\\_Data\\LLqub_contT1\\2024-02-28_19-53-47.h5\n"
     ]
    },
    {
     "data": {
      "application/vnd.jupyter.widget-view+json": {
       "model_id": "05555c1a9ee3437cbb58a0db44ef34eb",
       "version_major": 2,
       "version_minor": 0
      },
      "text/plain": [
       "  0%|          | 0/1000000 [00:00<?, ?it/s]"
      ]
     },
     "metadata": {},
     "output_type": "display_data"
    },
    {
     "name": "stdout",
     "output_type": "stream",
     "text": [
      "Continuous data appended to C:\\_Data\\LLqub_contT1\\2024-02-28_19-53-47.h5\n",
      "3343.656012499996 seconds have passed. Running T1 recalibration.\n"
     ]
    },
    {
     "data": {
      "application/vnd.jupyter.widget-view+json": {
       "model_id": "69745245744c44baa761642d27f4e350",
       "version_major": 2,
       "version_minor": 0
      },
      "text/plain": [
       "  0%|          | 0/50000 [00:00<?, ?it/s]"
      ]
     },
     "metadata": {},
     "output_type": "display_data"
    },
    {
     "name": "stdout",
     "output_type": "stream",
     "text": [
      "t1_i is better, saving T1_i to results cfg file\n",
      "295.8756009292971 341.87701910494724 327.1017293935413\n",
      "() () ()\n"
     ]
    },
    {
     "data": {
      "application/vnd.jupyter.widget-view+json": {
       "model_id": "f65089acd3ac46bf8f2b3f1dc4ab3ca2",
       "version_major": 2,
       "version_minor": 0
      },
      "text/plain": [
       "  0%|          | 0/10000 [00:00<?, ?it/s]"
      ]
     },
     "metadata": {},
     "output_type": "display_data"
    },
    {
     "data": {
      "application/vnd.jupyter.widget-view+json": {
       "model_id": "452a28d2b8ed473eb9e4bd332b6cfcde",
       "version_major": 2,
       "version_minor": 0
      },
      "text/plain": [
       "  0%|          | 0/10000 [00:00<?, ?it/s]"
      ]
     },
     "metadata": {},
     "output_type": "display_data"
    },
    {
     "name": "stdout",
     "output_type": "stream",
     "text": [
      "Saving c:\\_Lib\\python\\rfsoc\\elaine_rfsoc\\slab_rfsoc_expts\\data\\00071_single_shot_qubit0.h5\n",
      "149.42547433243402\n",
      "8.1618058166646\n",
      "new anle, threshold, and fidelity 149.42547433243402 8.1618058166646 77.38386919345967\n",
      "Recalibration data appended to C:\\_Data\\LLqub_contT1\\2024-02-28_19-53-47.h5\n"
     ]
    },
    {
     "data": {
      "application/vnd.jupyter.widget-view+json": {
       "model_id": "33cda65ce11040c2b6688dbcadecf99c",
       "version_major": 2,
       "version_minor": 0
      },
      "text/plain": [
       "  0%|          | 0/1000000 [00:00<?, ?it/s]"
      ]
     },
     "metadata": {},
     "output_type": "display_data"
    },
    {
     "name": "stdout",
     "output_type": "stream",
     "text": [
      "Continuous data appended to C:\\_Data\\LLqub_contT1\\2024-02-28_19-53-47.h5\n"
     ]
    },
    {
     "data": {
      "application/vnd.jupyter.widget-view+json": {
       "model_id": "77962a10ec30421b82db49fcdbb845c1",
       "version_major": 2,
       "version_minor": 0
      },
      "text/plain": [
       "  0%|          | 0/1000000 [00:00<?, ?it/s]"
      ]
     },
     "metadata": {},
     "output_type": "display_data"
    },
    {
     "name": "stdout",
     "output_type": "stream",
     "text": [
      "Continuous data appended to C:\\_Data\\LLqub_contT1\\2024-02-28_19-53-47.h5\n",
      "3344.10538730002 seconds have passed. Running T1 recalibration.\n"
     ]
    },
    {
     "data": {
      "application/vnd.jupyter.widget-view+json": {
       "model_id": "af6eb735ea2e4c2a976766b422ecdd7f",
       "version_major": 2,
       "version_minor": 0
      },
      "text/plain": [
       "  0%|          | 0/50000 [00:00<?, ?it/s]"
      ]
     },
     "metadata": {},
     "output_type": "display_data"
    },
    {
     "name": "stdout",
     "output_type": "stream",
     "text": [
      "t1_q is better, saving t1_q to results cfg file\n",
      "371.44647523347163 337.3748034053751 332.83860958179855\n",
      "() () ()\n"
     ]
    },
    {
     "data": {
      "application/vnd.jupyter.widget-view+json": {
       "model_id": "89e257bcfbeb45c9aa869646ee9355a0",
       "version_major": 2,
       "version_minor": 0
      },
      "text/plain": [
       "  0%|          | 0/10000 [00:00<?, ?it/s]"
      ]
     },
     "metadata": {},
     "output_type": "display_data"
    },
    {
     "data": {
      "application/vnd.jupyter.widget-view+json": {
       "model_id": "7111184c5a9446f29b7e7d30a5f7b9ff",
       "version_major": 2,
       "version_minor": 0
      },
      "text/plain": [
       "  0%|          | 0/10000 [00:00<?, ?it/s]"
      ]
     },
     "metadata": {},
     "output_type": "display_data"
    },
    {
     "name": "stdout",
     "output_type": "stream",
     "text": [
      "Saving c:\\_Lib\\python\\rfsoc\\elaine_rfsoc\\slab_rfsoc_expts\\data\\00072_single_shot_qubit0.h5\n",
      "150.59089159982105\n",
      "9.489391769459367\n",
      "new anle, threshold, and fidelity 150.59089159982105 9.489391769459367 79.90399519975999\n",
      "Recalibration data appended to C:\\_Data\\LLqub_contT1\\2024-02-28_19-53-47.h5\n"
     ]
    },
    {
     "data": {
      "application/vnd.jupyter.widget-view+json": {
       "model_id": "5f1693a256694b6fb02b468e23fa371b",
       "version_major": 2,
       "version_minor": 0
      },
      "text/plain": [
       "  0%|          | 0/1000000 [00:00<?, ?it/s]"
      ]
     },
     "metadata": {},
     "output_type": "display_data"
    },
    {
     "name": "stdout",
     "output_type": "stream",
     "text": [
      "Continuous data appended to C:\\_Data\\LLqub_contT1\\2024-02-28_19-53-47.h5\n"
     ]
    },
    {
     "data": {
      "application/vnd.jupyter.widget-view+json": {
       "model_id": "45e9c5733a5d4d5d8ef54132c685e15c",
       "version_major": 2,
       "version_minor": 0
      },
      "text/plain": [
       "  0%|          | 0/1000000 [00:00<?, ?it/s]"
      ]
     },
     "metadata": {},
     "output_type": "display_data"
    },
    {
     "name": "stdout",
     "output_type": "stream",
     "text": [
      "Continuous data appended to C:\\_Data\\LLqub_contT1\\2024-02-28_19-53-47.h5\n",
      "3344.847624099988 seconds have passed. Running T1 recalibration.\n"
     ]
    },
    {
     "data": {
      "application/vnd.jupyter.widget-view+json": {
       "model_id": "1dedf408caae4084b213b4827116e639",
       "version_major": 2,
       "version_minor": 0
      },
      "text/plain": [
       "  0%|          | 0/50000 [00:00<?, ?it/s]"
      ]
     },
     "metadata": {},
     "output_type": "display_data"
    },
    {
     "name": "stdout",
     "output_type": "stream",
     "text": [
      "t1_q is better, saving t1_q to results cfg file\n",
      "165.01819901523697 173.36123466572687 170.32718913825232\n",
      "() () ()\n"
     ]
    },
    {
     "data": {
      "application/vnd.jupyter.widget-view+json": {
       "model_id": "d4bdad3eed12435dbf41b01d41913006",
       "version_major": 2,
       "version_minor": 0
      },
      "text/plain": [
       "  0%|          | 0/10000 [00:00<?, ?it/s]"
      ]
     },
     "metadata": {},
     "output_type": "display_data"
    },
    {
     "data": {
      "application/vnd.jupyter.widget-view+json": {
       "model_id": "98760f844b23451bacd5dcd56be3741e",
       "version_major": 2,
       "version_minor": 0
      },
      "text/plain": [
       "  0%|          | 0/10000 [00:00<?, ?it/s]"
      ]
     },
     "metadata": {},
     "output_type": "display_data"
    },
    {
     "name": "stdout",
     "output_type": "stream",
     "text": [
      "Saving c:\\_Lib\\python\\rfsoc\\elaine_rfsoc\\slab_rfsoc_expts\\data\\00073_single_shot_qubit0.h5\n",
      "149.52075829615342\n",
      "8.49765436992016\n",
      "new anle, threshold, and fidelity 149.52075829615342 8.49765436992016 85.20852085208521\n",
      "Recalibration data appended to C:\\_Data\\LLqub_contT1\\2024-02-28_19-53-47.h5\n"
     ]
    },
    {
     "data": {
      "application/vnd.jupyter.widget-view+json": {
       "model_id": "3fdeb1e482e848c9abbb9d87ba5a7c1c",
       "version_major": 2,
       "version_minor": 0
      },
      "text/plain": [
       "  0%|          | 0/1000000 [00:00<?, ?it/s]"
      ]
     },
     "metadata": {},
     "output_type": "display_data"
    },
    {
     "name": "stdout",
     "output_type": "stream",
     "text": [
      "Program stopped. HDF5 file closed.\n"
     ]
    }
   ],
   "source": [
    "def run_continuous_t1(qubit_i):\n",
    "    t1_cont = meas.T1Continuous(\n",
    "        soccfg=soc,\n",
    "        path=expt_path,\n",
    "        prefix=f\"t1_continuous_qubit{qubit_i}\",\n",
    "        config_file=results_config_path,\n",
    "    )\n",
    "\n",
    "    span = auto_cfg.device.qubit.T1[qubit_i]\n",
    "    npts = 1\n",
    "\n",
    "    t1_cont.cfg.expt = dict(\n",
    "        start=span / npts,  # wait time [us]\n",
    "        step=0,\n",
    "        expts=npts,\n",
    "        reps=  1000000, #1000000,  # number of times we repeat a time point\n",
    "        rounds=1,  # number of start to finish sweeps to average over\n",
    "        qubit=qubit_i,\n",
    "    )\n",
    "\n",
    "    t1_cont.go(analyze=False, display=False, progress=True, save=False)\n",
    "    t1_raw_i = t1_cont.data['raw_i']\n",
    "    t1_raw_q = t1_cont.data['raw_q']\n",
    "    t1_amps = t1_cont.data['raw_amps']\n",
    "\n",
    "    return t1_raw_i, t1_raw_q, t1_amps\n",
    "pass\n",
    "\n",
    "def run_t1_recalibration(qubit_i):\n",
    "    t1 = meas.T1Experiment(\n",
    "        soccfg=soc,\n",
    "        path=expt_path,\n",
    "        prefix=f\"t1_qubit{qubit_i}\",\n",
    "        config_file=results_config_path,\n",
    "        )\n",
    "\n",
    "    span = 600 \n",
    "    npts = 100 #100\n",
    "\n",
    "    t1.cfg.expt = dict(\n",
    "        start=0,  # wait time [us]\n",
    "        step=int(span / npts),\n",
    "        expts=npts,\n",
    "        reps= 100*5, #100*5,  # number of times we repeat a time point\n",
    "        rounds=1,  # number of start to finish sweeps to average over\n",
    "        qubit=qubit_i,\n",
    "        length_scan=span,  # length of the scan in us\n",
    "        num_saved_points=1,  # number of points to save for the T1 continuous scan\n",
    "        )\n",
    "\n",
    "    t1.go(analyze=False, display=False, progress=True, save=False)\n",
    "    t1.analyze(fit=True)\n",
    "    t1_err_i = np.sqrt(t1.data['fit_err_avgi'][3][3])\n",
    "    t1_fit_i =t1.data['fit_avgi'][3]\n",
    "    err_ratio_i = t1_err_i/t1_fit_i\n",
    "\n",
    "    t1_err_q = np.sqrt(t1.data['fit_err_avgq'][3][3])\n",
    "    t1_fit_q =t1.data['fit_avgq'][3]\n",
    "    err_ratio_q = t1_err_q/t1_fit_q\n",
    "\n",
    "    # open the results config file \n",
    "    with open(results_config_file,'r') as file:\n",
    "        auto_cfg=AttrDict(yaml.safe_load(file)) # turn it into an attribute dictionary\n",
    "\n",
    "    if err_ratio_i< err_ratio_q:\n",
    "        print('t1_i is better, saving T1_i to results cfg file') \n",
    "        auto_cfg.device.qubit.T1[qubit_i] = float(t1_fit_i)  # [DAC units]  \n",
    "\n",
    "    else: \n",
    "        print('t1_q is better, saving t1_q to results cfg file')\n",
    "        auto_cfg.device.qubit.T1[qubit_i] = float(t1_fit_q)  # [DAC units]  \n",
    "\n",
    "    auto_cfg= yaml.safe_dump(auto_cfg.to_dict(), default_flow_style=  True) # dump it \n",
    "\n",
    "    # write it: \n",
    "    with open('autocalibration_cfg.yml', 'w') as modified_file:\n",
    "        modified_file.write(auto_cfg)\n",
    "    # now, open the modified file again \n",
    "    with open('autocalibration_cfg.yml','r') as file:\n",
    "        auto_cfg=AttrDict(yaml.safe_load(file)) # turn it into an attribute dictionary\n",
    "    \n",
    "    t1_i = t1.data['avgi']\n",
    "    t1_q = t1.data['avgq']\n",
    "    t1_amp = t1.data['amps']\n",
    "    t1_i_value = t1.data['fit_avgi'][3]\n",
    "    t1_q_value = t1.data['fit_avgq'][3]\n",
    "    t1_amp_value = t1.data['fit_amps'][3]\n",
    "    t1_i_value_err = t1.data['fit_err_avgi'][3][3]\n",
    "    t1_q_value_err = t1.data['fit_err_avgq'][3][3]\n",
    "    t1_amp_value_err = t1.data['fit_err_amps'][3][3]\n",
    "\n",
    "    return t1_i, t1_q, t1_amp, t1_i_value, t1_q_value, t1_amp_value, t1_i_value_err, t1_q_value_err, t1_amp_value_err\n",
    "pass\n",
    "\n",
    "def run_single_shot(qubit_i):\n",
    "    shot = meas.HistogramExperiment(\n",
    "        soccfg=soc,\n",
    "        path=expt_path,\n",
    "        prefix=f\"single_shot_qubit{qubit_i}\",\n",
    "        config_file= results_config_path,\n",
    "    )\n",
    "\n",
    "    shot.cfg.expt = dict(\n",
    "        reps=10000,\n",
    "        check_e = True, \n",
    "        check_f=False,\n",
    "        qubit=0,\n",
    "    )\n",
    "\n",
    "    shot.go(analyze=False, display=False, progress=True, save=True)\n",
    "    shot.analyze(verbose=False)\n",
    "\n",
    "    rotation_angle = shot.data['angle']\n",
    "    print(rotation_angle)\n",
    "    threshold = shot.data['thresholds'][0]\n",
    "    print(threshold)\n",
    "\n",
    "    fidelity = shot.data['fids'][0]*100\n",
    "    Ig = shot.data['Ig']\n",
    "    Qg = shot.data['Qg']\n",
    "    Ie = shot.data['Ie']\n",
    "    Qe = shot.data['Qe']\n",
    "\n",
    "     # open the results config file \n",
    "    with open(results_config_file,'r') as file:\n",
    "        auto_cfg=AttrDict(yaml.safe_load(file)) # turn it into an attribute dictionary\n",
    "\n",
    "    auto_cfg.device.readout.phase[qubit_i] = float(rotation_angle) # degrees\n",
    "    # auto_cfg.device.readout.threshold[qubit_i] = float(threshold) # [DAC units]\n",
    "\n",
    "    auto_cfg= yaml.safe_dump(auto_cfg.to_dict(), default_flow_style=  True) # dump it \n",
    "\n",
    "    # write it: \n",
    "    with open('autocalibration_cfg.yml', 'w') as modified_file:\n",
    "        modified_file.write(auto_cfg)\n",
    "    # now, open the modified file again \n",
    "    with open('autocalibration_cfg.yml','r') as file:\n",
    "        auto_cfg=AttrDict(yaml.safe_load(file)) # turn it into an attribute dictionary\n",
    "\n",
    "    return rotation_angle, threshold, fidelity, Ig, Qg, Ie, Qe\n",
    "\n",
    "def main():\n",
    "    # Get the current date and time\n",
    "    import datetime\n",
    "    current_datetime = datetime.datetime.now()\n",
    "    formatted_datetime = current_datetime.strftime(\"%Y-%m-%d_%H-%M-%S\")\n",
    "\n",
    "    # Create the filename using the formatted date and time\n",
    "    filename = os.path.join(data_path, f\"{formatted_datetime}.h5\")\n",
    "\n",
    "    # Create an HDF5 file to save all the data\n",
    "    hf = h5py.File(filename, 'a')\n",
    "\n",
    "    if 't1_cont' not in hf:\n",
    "        g1 = hf.create_group('t1_cont')\n",
    "        g1.create_dataset('i', data=np.array([]), maxshape=(None,))\n",
    "        g1.create_dataset('q', data=np.array([]), maxshape=(None,))\n",
    "        g1.create_dataset('amp', data=np.array([]), maxshape=(None,))\n",
    "\n",
    "    if 't1_recal' not in hf:\n",
    "        g2 = hf.create_group('t1_recal')\n",
    "        g2.create_dataset('i', data=np.array([]), maxshape=(None,))\n",
    "        g2.create_dataset('q', data=np.array([]), maxshape=(None,))\n",
    "        g2.create_dataset('amp', data=np.array([]), maxshape=(None,))\n",
    "        g2.create_dataset('i_value', data=np.array([]), maxshape=(None,))\n",
    "        g2.create_dataset('q_value', data=np.array([]), maxshape=(None,))\n",
    "        g2.create_dataset('amp_value', data=np.array([]), maxshape=(None,))\n",
    "        g2.create_dataset('i_value_err', data=np.array([]), maxshape=(None,))\n",
    "        g2.create_dataset('q_value_err', data=np.array([]), maxshape=(None,))\n",
    "        g2.create_dataset('amp_value_err', data=np.array([]), maxshape=(None,))\n",
    "    \n",
    "    if 'single_shot' not in hf:\n",
    "        g3 = hf.create_group('single_shot')\n",
    "        g3.create_dataset('angle', data=np.array([]), maxshape=(None,))\n",
    "        g3.create_dataset('threshold', data=np.array([]), maxshape=(None,))\n",
    "        g3.create_dataset('fidelity', data=np.array([]), maxshape=(None,))\n",
    "        g3.create_dataset('Ig', data=np.array([]), maxshape=(None,))\n",
    "        g3.create_dataset('Qg', data=np.array([]), maxshape=(None,))\n",
    "        g3.create_dataset('Ie', data=np.array([]), maxshape=(None,))\n",
    "        g3.create_dataset('Qe', data=np.array([]), maxshape=(None,))\n",
    "\n",
    "    qubit_i = 0\n",
    "    # Initialize arrays\n",
    "    t1_raw_i_data, t1_raw_q_data, t1_amps_data = np.array([]), np.array([]), np.array([])\n",
    "    \n",
    "    t1_i_recal_data, t1_q_recal_data, t1_amp_recal_data, t1_i_value_recal_data, t1_q_value_recal_data, t1_amp_value_recal_data, t1_i_value_recal_data_err, t1_q_value_recal_data_err, t1_amp_value_recal_data_err= np.array([]), np.array([]), np.array([]), np.array([]), np.array([]), np.array([]), np.array([]), np.array([]), np.array([])  \n",
    "\n",
    "    angle_recal, threshold_recal, fidelity_recal, Ig_recal, Qg_recal, Ie_recal, Qe_recal = np.array([]), np.array([]), np.array([]), np.array([]), np.array([]), np.array([]), np.array([])\n",
    "    start_time = timer()\n",
    "    try:\n",
    "        while True:\n",
    "            # Run the continuous T1 experiment\n",
    "            t1_raw_i_data, t1_raw_q_data, t1_amps_data = run_continuous_t1(qubit_i)\n",
    "\n",
    "            # Append new data to datasets\n",
    "            hf['t1_cont/i'].resize((hf['t1_cont/i'].shape[0] + t1_raw_i_data.shape[0]), axis=0)\n",
    "            hf['t1_cont/i'][-t1_raw_i_data.shape[0]:] = t1_raw_i_data\n",
    "\n",
    "            hf['t1_cont/q'].resize((hf['t1_cont/q'].shape[0] + t1_raw_q_data.shape[0]), axis=0)\n",
    "            hf['t1_cont/q'][-t1_raw_q_data.shape[0]:] = t1_raw_q_data\n",
    "\n",
    "            hf['t1_cont/amp'].resize((hf['t1_cont/amp'].shape[0] + t1_amps_data.shape[0]), axis=0)\n",
    "            hf['t1_cont/amp'][-t1_amps_data.shape[0]:] = t1_amps_data\n",
    "           \n",
    "            print('Continuous data appended to', filename)\n",
    "\n",
    "            end_time = timer()\n",
    "\n",
    "            if end_time - start_time >= 60*30: #60*30\n",
    "                print(f\"{end_time - start_time} seconds have passed. Running T1 recalibration.\")\n",
    "\n",
    "                # Run the T1 recalibration experiment\n",
    "                t1_i_recal_data, t1_q_recal_data, t1_amp_recal_data, t1_i_value_recal_data, t1_q_value_recal_data, t1_amp_value_recal_data, t1_i_value_recal_data_err, t1_q_value_recal_data_err, t1_amp_value_recal_data_err = run_t1_recalibration(qubit_i)\n",
    "\n",
    "                print(t1_i_value_recal_data, t1_q_value_recal_data, t1_amp_value_recal_data)\n",
    "\n",
    "                print(np.shape(t1_i_value_recal_data), np.shape(t1_q_value_recal_data), np.shape(t1_amp_value_recal_data))\n",
    "                hf['t1_recal/i'].resize((hf['t1_recal/i'].shape[0] + t1_i_recal_data.shape[0]), axis=0)\n",
    "                hf['t1_recal/i'][-t1_i_recal_data.shape[0]:] = t1_i_recal_data\n",
    "\n",
    "                hf['t1_recal/q'].resize((hf['t1_recal/q'].shape[0] + t1_q_recal_data.shape[0]), axis=0)\n",
    "                hf['t1_recal/q'][-t1_q_recal_data.shape[0]:] = t1_q_recal_data\n",
    "\n",
    "                hf['t1_recal/amp'].resize((hf['t1_recal/amp'].shape[0] + t1_amp_recal_data.shape[0]), axis=0)\n",
    "                hf['t1_recal/amp'][-t1_amp_recal_data.shape[0]:] = t1_amp_recal_data\n",
    "\n",
    "                # T1 values for I, Q, and amp: \n",
    "                hf['t1_recal/i_value'].resize((hf['t1_recal/i_value'].shape[0] + 1), axis=0)\n",
    "                hf['t1_recal/i_value'][-1:] = t1_i_value_recal_data\n",
    "\n",
    "                hf['t1_recal/q_value'].resize((hf['t1_recal/q_value'].shape[0] + 1), axis=0)\n",
    "                hf['t1_recal/q_value'][-1:] = t1_q_value_recal_data\n",
    "\n",
    "                hf['t1_recal/amp_value'].resize((hf['t1_recal/amp_value'].shape[0] + 1), axis=0)\n",
    "                hf['t1_recal/amp_value'][-1:] = t1_amp_value_recal_data\n",
    "\n",
    "                # T1 errors for I, Q, and amp:  \n",
    "                hf['t1_recal/i_value_err'].resize((hf['t1_recal/i_value_err'].shape[0] + 1), axis=0)\n",
    "                hf['t1_recal/i_value_err'][-1:] = t1_i_value_recal_data_err\n",
    "\n",
    "                hf['t1_recal/q_value_err'].resize((hf['t1_recal/q_value_err'].shape[0] + 1), axis=0)\n",
    "                hf['t1_recal/q_value_err'][-1:] = t1_q_value_recal_data_err\n",
    "\n",
    "                hf['t1_recal/amp_value_err'].resize((hf['t1_recal/amp_value_err'].shape[0] + 1), axis=0)\n",
    "                hf['t1_recal/amp_value_err'][-1:] = t1_amp_value_recal_data_err\n",
    "\n",
    "                # Run the single shot recalibration \n",
    "                angle_recal, threshold_recal, fidelity_recal, Ig_recal, Qg_recal, Ie_recal, Qe_recal  = run_single_shot(qubit_i)\n",
    "\n",
    "                hf['single_shot/angle'].resize((hf['single_shot/angle'].shape[0] + 1), axis=0)\n",
    "                hf['single_shot/angle'][-1:] = angle_recal\n",
    "                hf['single_shot/threshold'].resize((hf['single_shot/threshold'].shape[0] + 1), axis=0)\n",
    "                hf['single_shot/threshold'][-1:] = threshold_recal\n",
    "                hf['single_shot/fidelity'].resize((hf['single_shot/fidelity'].shape[0] + 1), axis=0)\n",
    "                hf['single_shot/fidelity'][-1:] = fidelity_recal\n",
    "                print('new anle, threshold, and fidelity', angle_recal, threshold_recal, fidelity_recal)\n",
    "                \n",
    "                # I and Q values for shots\n",
    "                hf['single_shot/Ig'].resize((hf['single_shot/Ig'].shape[0] + Ig_recal.shape[0]), axis=0)\n",
    "                hf['single_shot/Ig'][-Ig_recal.shape[0]:] = Ig_recal\n",
    "\n",
    "                hf['single_shot/Qg'].resize((hf['single_shot/Qg'].shape[0] + Qg_recal.shape[0]), axis=0)\n",
    "                hf['single_shot/Qg'][-Qg_recal.shape[0]:] = Qg_recal\n",
    "\n",
    "                hf['single_shot/Ie'].resize((hf['single_shot/Ie'].shape[0] + Ie_recal.shape[0]), axis=0)\n",
    "                hf['single_shot/Ie'][-Ie_recal.shape[0]:] = Ie_recal\n",
    "\n",
    "                hf['single_shot/Qe'].resize((hf['single_shot/Qe'].shape[0] + Qe_recal.shape[0]), axis=0)\n",
    "                hf['single_shot/Qe'][-Qe_recal.shape[0]:] = Qe_recal\n",
    "\n",
    "                print('Recalibration data appended to', filename)\n",
    "                start_time = timer()  # Reset the start time\n",
    "\n",
    "    except KeyboardInterrupt:\n",
    "        # If KeyboardInterrupt (Ctrl+C) is detected, close the HDF5 file\n",
    "        hf.close()\n",
    "        print(\"Program stopped. HDF5 file closed.\")\n",
    " \n",
    "if __name__ == \"__main__\":\n",
    "    main()\n"
   ]
  },
  {
   "cell_type": "code",
   "execution_count": 37,
   "metadata": {},
   "outputs": [],
   "source": [
    "with open(results_config_file,'r') as file:\n",
    "    auto_cfg=AttrDict(yaml.safe_load(file)) # turn it into an attribute dictionary\n",
    "\n",
    "auto_cfg.device.readout.phase[qubit_i] = -7.844325608133489 # degrees\n",
    "auto_cfg.device.readout.threshold[qubit_i] = 57.221847452942725 # [DAC units]\n",
    "\n",
    "auto_cfg= yaml.safe_dump(auto_cfg.to_dict(), default_flow_style=  True) # dump it \n",
    "\n",
    "# write it: \n",
    "with open('autocalibration_cfg.yml', 'w') as modified_file:\n",
    "    modified_file.write(auto_cfg)\n",
    "# now, open the modified file again \n",
    "with open('autocalibration_cfg.yml','r') as file:\n",
    "    auto_cfg=AttrDict(yaml.safe_load(file)) # turn it into an attribute dictionary"
   ]
  },
  {
   "cell_type": "code",
   "execution_count": null,
   "metadata": {},
   "outputs": [
    {
     "name": "stdout",
     "output_type": "stream",
     "text": [
      "Results config will be c:\\_Lib\\python\\rfsoc\\elaine_rfsoc\\slab_rfsoc_expts\\autocalibration_cfg.yml\n"
     ]
    }
   ],
   "source": [
    "import yaml\n",
    "\n",
    "# Results config file:\n",
    "results_config_file = 'autocalibration_cfg.yml'\n",
    "results_config_path = os.getcwd() + '\\\\' + results_config_file\n",
    "print('Results config will be', results_config_path)\n",
    "\n",
    "# open the file \n",
    "with open(results_config_file,'r') as file:\n",
    "  auto_cfg=AttrDict(yaml.safe_load(file)) # turn it into an attribute dictionary "
   ]
  },
  {
   "cell_type": "code",
   "execution_count": null,
   "metadata": {},
   "outputs": [
    {
     "name": "stdout",
     "output_type": "stream",
     "text": [
      "Results config will be c:\\_Lib\\python\\rfsoc\\elaine_rfsoc\\slab_rfsoc_expts\\autocalibration_cfg.yml\n"
     ]
    }
   ],
   "source": [
    "import yaml\n",
    "\n",
    "# Results config file:\n",
    "results_config_file = 'autocalibration_cfg.yml'\n",
    "results_config_path = os.getcwd() + '\\\\' + results_config_file\n",
    "print('Results config will be', results_config_path)\n",
    "\n",
    "# open the file \n",
    "with open(results_config_file,'r') as file:\n",
    "  auto_cfg=AttrDict(yaml.safe_load(file)) # turn it into an attribute dictionary "
   ]
  },
  {
   "cell_type": "code",
   "execution_count": null,
   "metadata": {},
   "outputs": [],
   "source": []
  },
  {
   "cell_type": "code",
   "execution_count": null,
   "metadata": {},
   "outputs": [],
   "source": []
  }
 ],
 "metadata": {
  "kernelspec": {
   "display_name": "slab",
   "language": "python",
   "name": "python3"
  },
  "language_info": {
   "codemirror_mode": {
    "name": "ipython",
    "version": 3
   },
   "file_extension": ".py",
   "mimetype": "text/x-python",
   "name": "python",
   "nbconvert_exporter": "python",
   "pygments_lexer": "ipython3",
   "version": "3.10.9"
  }
 },
 "nbformat": 4,
 "nbformat_minor": 2
}
