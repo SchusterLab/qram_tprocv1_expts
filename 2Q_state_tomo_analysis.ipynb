{
 "cells": [
  {
   "cell_type": "code",
   "execution_count": 1,
   "metadata": {},
   "outputs": [],
   "source": [
    "# %matplotlib inline\n",
    "%matplotlib qt5"
   ]
  },
  {
   "cell_type": "code",
   "execution_count": 2,
   "metadata": {},
   "outputs": [
    {
     "name": "stdout",
     "output_type": "stream",
     "text": [
      "Could not import QickInstrument (will only work if running on rfsoc). If running on rfsoc, try install/update qick package\n",
      "Warning failed to import AWG81180A\n",
      "Warning failed to import Tek5014\n",
      "Warning failed to import Tek70001\n",
      "Warning failed to import M8195A\n"
     ]
    },
    {
     "name": "stderr",
     "output_type": "stream",
     "text": [
      "C:\\ProgramData\\Anaconda3\\lib\\site-packages\\IPython\\qt.py:12: ShimWarning: The `IPython.qt` package has been deprecated since IPython 4.0. You should import from qtconsole instead.\n",
      "  warn(\"The `IPython.qt` package has been deprecated since IPython 4.0. \"\n"
     ]
    },
    {
     "name": "stdout",
     "output_type": "stream",
     "text": [
      "Could not load InstrumentManagerWindow\n",
      "Could not load labbrick\n",
      "Could not load Autonics TM4 Driver\n",
      "Could not load Oxford Trition driver\n"
     ]
    }
   ],
   "source": [
    "%load_ext autoreload\n",
    "%autoreload 2\n",
    "\n",
    "import numpy as np\n",
    "import matplotlib.pyplot as plt\n",
    "import matplotlib.style as style\n",
    "from mpl_toolkits.axes_grid1 import make_axes_locatable\n",
    "\n",
    "from qick import *\n",
    "from qick.helpers import gauss\n",
    "from tqdm import tqdm_notebook as tqdm\n",
    "\n",
    "import time\n",
    "import os\n",
    "expt_path=os.getcwd()+'/data'\n",
    "import sys\n",
    "import scipy as sp\n",
    "import json\n",
    "\n",
    "import qutip as qt\n",
    "import qutip.visualization as qplt\n",
    "\n",
    "from slab.instruments import *\n",
    "from slab.experiment import Experiment\n",
    "from slab.datamanagement import SlabFile\n",
    "from slab import get_next_filename, AttrDict\n",
    "\n",
    "# Figure params\n",
    "plt.rcParams['figure.figsize'] = [10,6]\n",
    "plt.rcParams.update({'font.size': 16})\n",
    "# style.use('default')\n",
    "style.use('S:\\Connie\\prx.mplstyle')\n",
    "\n",
    "np.set_printoptions(threshold=sys.maxsize)"
   ]
  },
  {
   "cell_type": "code",
   "execution_count": 3,
   "metadata": {},
   "outputs": [],
   "source": [
    "sys.path.append(os.getcwd()+'/../../qutip_sims')\n",
    "from QSwitch import QSwitch\n",
    "from PulseSequence import PulseSequence"
   ]
  },
  {
   "cell_type": "markdown",
   "metadata": {},
   "source": [
    "# Getting ideal rho"
   ]
  },
  {
   "cell_type": "code",
   "execution_count": 4,
   "metadata": {
    "tags": []
   },
   "outputs": [],
   "source": [
    "# 2 cardinal points on Bloch sphere for each measurement axis\n",
    "psiZ = [qt.basis(2,0), qt.basis(2,1)]\n",
    "psiX = [1/np.sqrt(2)*(psiZ[0]+psiZ[1]), 1/np.sqrt(2)*(psiZ[0]-psiZ[1])]\n",
    "psiY = [1/np.sqrt(2)*(psiZ[0]+1j*psiZ[1]), 1/np.sqrt(2)*(psiZ[0]-1j*psiZ[1])]\n",
    "psi_dict = dict(Z=psiZ, X=psiX, Y=psiY)\n",
    "\n",
    "\"\"\"\n",
    "Define basis in to be used when doing MLE\n",
    "\"\"\"\n",
    "psi00 = qt.tensor(psiZ[0], psiZ[0])\n",
    "psi01 = qt.tensor(psiZ[0], psiZ[1])\n",
    "psi10 = qt.tensor(psiZ[1], psiZ[0])\n",
    "psi11 = qt.tensor(psiZ[1], psiZ[1])\n",
    "id2q = qt.tensor(qt.qeye(2), qt.qeye(2))"
   ]
  },
  {
   "cell_type": "code",
   "execution_count": 5,
   "metadata": {},
   "outputs": [],
   "source": [
    "def name_to_state_2q(init_state): # in format |QA>|QB>\n",
    "    Qa, Qb, _ = init_state.split('>')\n",
    "    Qa = Qa[1:]\n",
    "    Qb = Qb[1:]\n",
    "    psi_name_dict = {\n",
    "        '0':psiZ[0],\n",
    "        '1':psiZ[1],\n",
    "        '0+1':(psiZ[0]+psiZ[1]).unit(),\n",
    "        '0-1':(psiZ[0]-psiZ[1]).unit(), \n",
    "        '0+i':(psiZ[0]+1j*psiZ[1]).unit(), \n",
    "        '0-i':(psiZ[0]-1j*psiZ[1]).unit(), \n",
    "    }\n",
    "    try:\n",
    "        psiA = psi_name_dict[Qa]\n",
    "    except:\n",
    "        print(f'QA state {Qa} is not an allowed cardinal state')\n",
    "    try:\n",
    "        psiB = psi_name_dict[Qb]\n",
    "    except:\n",
    "        print(f'QB state {Qb} is not an allowed cardinal state')\n",
    "    return qt.tensor(psiA, psiB)\n",
    "\n",
    "    \n",
    "psi_basis_3q = dict() # 27*8 elements\n",
    "# psi_tensor = [psiZ[0], psiZ[0], psiZ[0], psiZ[0]]\n",
    "S123 = 'ZZZ'\n",
    "S1, S2, S3 = S123\n",
    "psi1 = psi_dict[S1]\n",
    "psi2 = psi_dict[S2]\n",
    "psi3 = psi_dict[S3]\n",
    "\n",
    "psi_basis_3q.update({S123:[]})\n",
    "\n",
    "for state1 in (0,1):\n",
    "    for state2 in (0,1):\n",
    "        for state3 in (0,1):\n",
    "            psi_basis_3q[S123].append(qt.tensor(psi1[state1], psi2[state2], psi3[state3]).unit())\n",
    "calib_order_numeric_3q = ['000', '001', '010', '011', '100', '101', '110', '111']\n",
    "psis = dict() # psis in the ZZZ basis\n",
    "for i, label_numeric in enumerate(calib_order_numeric_3q):\n",
    "    psis.update({label_numeric:psi_basis_3q['ZZZ'][i]})\n",
    "id3q = qt.tensor(qt.qeye(2), qt.qeye(2), qt.qeye(2))\n",
    "\n",
    "def get_qram_qSLR_state_from_rho(init_rho_IS, output_qubits, post_select=False, post_select_state=None):\n",
    "    \"\"\"\n",
    "    init_rho_IS should be a np array\n",
    "    outputs partial trace of qram output (needs output_qubits to all be in 0, 2, and/or 3 to work)\n",
    "    \"\"\"\n",
    "    # in order |00>, |01>, |10>, |11> for switch, input\n",
    "    SI_to_SLR = [psis['000'], -1j*psis['010'], psis['100'], -1j*psis['101']]\n",
    "\n",
    "    assert np.all([q in [0, 2, 3] for q in output_qubits])\n",
    "    assert np.shape(init_rho_IS) == id2q.shape\n",
    "    rho_final_SLR = 0*qt.ket2dm(psis['000'])\n",
    "    print(f'constructing final state on |Q{output_qubits[0]}, Q{output_qubits[1]}>')\n",
    "    for i in range(len(SI_to_SLR)):\n",
    "        slr_ket_i = SI_to_SLR[i]\n",
    "        for j in range(len(SI_to_SLR)):\n",
    "            slr_ket_j = SI_to_SLR[j]\n",
    "            mat_el = init_rho_IS[i, j]\n",
    "            rho_final_SLR += mat_el * slr_ket_i * slr_ket_j.dag()\n",
    "    output_indices = [[0,2,3].index(q) for q in output_qubits]\n",
    "    return qt.ptrace(rho_final_SLR.unit(), output_indices)"
   ]
  },
  {
   "cell_type": "markdown",
   "metadata": {},
   "source": [
    "# Run experiment and analysis"
   ]
  },
  {
   "cell_type": "code",
   "execution_count": 6,
   "metadata": {},
   "outputs": [
    {
     "name": "stdout",
     "output_type": "stream",
     "text": [
      "imported experiments.clifford_averager_program\n",
      "imported experiments.fitting\n",
      "imported experiments.four_qubit.fourQ_state_tomo\n",
      "imported experiments.qram_protocol_timestepped\n",
      "imported experiments.single_qubit.acstarkshift_spectroscopy\n",
      "imported experiments.single_qubit.amplitude_rabi\n",
      "imported experiments.single_qubit.length_rabi\n",
      "imported experiments.single_qubit.pulse_probe_spectroscopy\n",
      "imported experiments.single_qubit.resonator_spectroscopy\n",
      "imported experiments.single_qubit.rfsoc_tof_calibration\n",
      "imported experiments.single_qubit.single_shot\n",
      "imported experiments.single_qubit.t1\n",
      "imported experiments.single_qubit.t2_ramsey\n",
      "imported experiments.three_qubit.threeQ_state_tomo\n",
      "imported experiments.two_qubit.amplitude_rabi_EgGf\n",
      "imported experiments.two_qubit.amplitude_rabi_f0g1\n",
      "imported experiments.two_qubit.amprabi_opt_ctrl_state_prep\n",
      "imported experiments.two_qubit.crosstalk_echo_calib\n",
      "imported experiments.two_qubit.length_rabi_EgGf\n",
      "imported experiments.two_qubit.length_rabi_F0G1\n",
      "imported experiments.two_qubit.phase_calib_EgGf\n",
      "imported experiments.two_qubit.pulse_probe_EgGf_spectroscopy\n",
      "imported experiments.two_qubit.randbench\n",
      "imported experiments.two_qubit.random_test_pulses\n",
      "imported experiments.two_qubit.twoqutrit_state_tomography\n",
      "imported experiments.two_qubit.twoQ_state_tomography\n"
     ]
    }
   ],
   "source": [
    "# %aimport experiments\n",
    "# NOTE: ADDING NEW METHODS WILL NOT BE UPDATED\n",
    "import experiments as meas"
   ]
  },
  {
   "cell_type": "code",
   "execution_count": 7,
   "metadata": {},
   "outputs": [],
   "source": [
    "\"\"\"Reopen saved data\"\"\"\n",
    "def prev_data(expt_path, filename):\n",
    "    temp_data_file = expt_path\n",
    "    if filename is not None: temp_data_file = os.path.join(expt_path, filename)\n",
    "    print(temp_data_file)\n",
    "    with SlabFile(temp_data_file) as a:\n",
    "        attrs = dict()\n",
    "        for key in list(a.attrs):\n",
    "            attrs.update({key:json.loads(a.attrs[key])})\n",
    "        keys = list(a)\n",
    "        temp_data = dict()\n",
    "        for key in keys:\n",
    "            temp_data.update({key:np.array(a[key])})\n",
    "        print(f'Extracted data and attrs {list(a.attrs)}')\n",
    "    return temp_data, attrs"
   ]
  },
  {
   "cell_type": "code",
   "execution_count": 8,
   "metadata": {},
   "outputs": [
    {
     "name": "stdout",
     "output_type": "stream",
     "text": [
      "Data will be stored in S:\\QRAM\\qram_4QR2\\data\\data_241025\n"
     ]
    }
   ],
   "source": [
    "data_path = 'S:\\\\QRAM\\\\qram_4QR2\\\\'\n",
    "expt_path = os.path.join(data_path, 'data', 'data_250119')\n",
    "print('Data will be stored in', expt_path)"
   ]
  },
  {
   "cell_type": "code",
   "execution_count": 9,
   "metadata": {},
   "outputs": [
    {
     "name": "stdout",
     "output_type": "stream",
     "text": [
      "Config will be s:\\Connie\\experiments\\qram_tprocv1_expts\\configs\\config_q3diamond_full688and638_reset.yml\n"
     ]
    }
   ],
   "source": [
    "# config_file = 'config_zcu216.yml'\n",
    "# config_file = 'config_q3diamond.yml'\n",
    "# config_file = 'config_q3diamond_full688_reset.yml'\n",
    "config_file = 'config_q3diamond_full688and638_reset.yml'\n",
    "# config_path = os.path.join(os.getcwd(), config_file)\n",
    "\n",
    "# config_file = 'config.yml'\n",
    "config_path = os.path.join('s:\\\\Connie\\\\experiments\\\\qram_tprocv1_expts\\\\configs\\\\', config_file)\n",
    "\n",
    "print('Config will be', config_path)"
   ]
  },
  {
   "cell_type": "code",
   "execution_count": 10,
   "metadata": {},
   "outputs": [],
   "source": [
    "import yaml\n",
    "with open(config_path, 'r') as cfg_file:\n",
    "    yaml_cfg = yaml.safe_load(cfg_file)\n",
    "yaml_cfg = AttrDict(yaml_cfg)"
   ]
  },
  {
   "cell_type": "markdown",
   "metadata": {},
   "source": [
    "# Tomo analysis"
   ]
  },
  {
   "cell_type": "code",
   "execution_count": 11,
   "metadata": {},
   "outputs": [],
   "source": [
    "from TomoAnalysis import TomoAnalysis\n",
    "tomo_analysis = TomoAnalysis(nb_qubits=2)"
   ]
  },
  {
   "cell_type": "markdown",
   "metadata": {},
   "source": [
    "# Setup experiment hardware\n",
    "\n",
    "Set in config:\n",
    "- LO alias, frequency, power\n",
    "- SOC dac channels, nyquist zones"
   ]
  },
  {
   "cell_type": "code",
   "execution_count": 12,
   "metadata": {},
   "outputs": [],
   "source": [
    "# ns_address = '10.108.30.56' # Spilker Fermium\n",
    "ns_address = '10.108.30.75' # Spilker Vibranium\n",
    "im = InstrumentManager(ns_address=ns_address)"
   ]
  },
  {
   "cell_type": "code",
   "execution_count": 13,
   "metadata": {},
   "outputs": [
    {
     "name": "stdout",
     "output_type": "stream",
     "text": [
      "QICK running on ZCU216, software version 0.2.272\n",
      "\n",
      "Firmware configuration (built Sat Oct  5 10:21:47 2024):\n",
      "\n",
      "\tGlobal clocks (MHz): tProcessor 430.080, RF reference 245.760\n",
      "\n",
      "\t7 signal generator channels:\n",
      "\t0:\taxis_signal_gen_v6 - envelope memory 32768 samples (5.128 us)\n",
      "\t\tfs=6389.760 MHz, fabric=399.360 MHz, 32-bit DDS, range=6389.760 MHz\n",
      "\t\tDAC tile 2, blk 0 is 0_230, on JHC3\n",
      "\t1:\taxis_signal_gen_v6 - envelope memory 32768 samples (5.128 us)\n",
      "\t\tfs=6389.760 MHz, fabric=399.360 MHz, 32-bit DDS, range=6389.760 MHz\n",
      "\t\tDAC tile 2, blk 1 is 1_230, on JHC4\n",
      "\t2:\taxis_signal_gen_v6 - envelope memory 32768 samples (5.128 us)\n",
      "\t\tfs=6389.760 MHz, fabric=399.360 MHz, 32-bit DDS, range=6389.760 MHz\n",
      "\t\tDAC tile 2, blk 2 is 2_230, on JHC3\n",
      "\t3:\taxis_signal_gen_v6 - envelope memory 32768 samples (5.128 us)\n",
      "\t\tfs=6389.760 MHz, fabric=399.360 MHz, 32-bit DDS, range=6389.760 MHz\n",
      "\t\tDAC tile 2, blk 3 is 3_230, on JHC4\n",
      "\t4:\taxis_signal_gen_v6 - envelope memory 32768 samples (4.762 us)\n",
      "\t\tfs=6881.280 MHz, fabric=430.080 MHz, 32-bit DDS, range=6881.280 MHz\n",
      "\t\tDAC tile 3, blk 0 is 0_231, on JHC3\n",
      "\t5:\taxis_signal_gen_v6 - envelope memory 32768 samples (4.762 us)\n",
      "\t\tfs=6881.280 MHz, fabric=430.080 MHz, 32-bit DDS, range=6881.280 MHz\n",
      "\t\tDAC tile 3, blk 1 is 1_231, on JHC4\n",
      "\t6:\taxis_sg_mux4_v2 - envelope memory 0 samples (0.000 us)\n",
      "\t\tfs=6881.280 MHz, fabric=430.080 MHz, 32-bit DDS, range=1720.320 MHz\n",
      "\t\tDAC tile 0, blk 0 is 0_228, on JHC1\n",
      "\n",
      "\t4 constant-IQ outputs:\n",
      "\t0:\tfs=6881.280 MHz\n",
      "\t\tDAC tile 1, blk 0 is 0_229, on JHC1\n",
      "\t1:\tfs=6881.280 MHz\n",
      "\t\tDAC tile 1, blk 1 is 1_229, on JHC2\n",
      "\t2:\tfs=6881.280 MHz\n",
      "\t\tDAC tile 1, blk 2 is 2_229, on JHC1\n",
      "\t3:\tfs=6881.280 MHz\n",
      "\t\tDAC tile 1, blk 3 is 3_229, on JHC2\n",
      "\n",
      "\t4 readout channels:\n",
      "\t0:\taxis_pfb_readout_v2 - configured by PYNQ\n",
      "\t\tfs=2457.600 MHz, decimated=307.200 MHz, 32-bit DDS, range=307.200 MHz\n",
      "\t\tmaxlen 16384 accumulated, 1024 decimated (3.333 us)\n",
      "\t\ttriggered by output 7, pin 8, feedback to tProc input 0\n",
      "\t\tADC tile 2, blk 0 is 0_226, on JHC7\n",
      "\t1:\taxis_pfb_readout_v2 - configured by PYNQ\n",
      "\t\tfs=2457.600 MHz, decimated=307.200 MHz, 32-bit DDS, range=307.200 MHz\n",
      "\t\tmaxlen 16384 accumulated, 1024 decimated (3.333 us)\n",
      "\t\ttriggered by output 7, pin 9, feedback to tProc input 1\n",
      "\t\tADC tile 2, blk 0 is 0_226, on JHC7\n",
      "\t2:\taxis_pfb_readout_v2 - configured by PYNQ\n",
      "\t\tfs=2457.600 MHz, decimated=307.200 MHz, 32-bit DDS, range=307.200 MHz\n",
      "\t\tmaxlen 16384 accumulated, 1024 decimated (3.333 us)\n",
      "\t\ttriggered by output 7, pin 10, feedback to tProc input 2\n",
      "\t\tADC tile 2, blk 0 is 0_226, on JHC7\n",
      "\t3:\taxis_pfb_readout_v2 - configured by PYNQ\n",
      "\t\tfs=2457.600 MHz, decimated=307.200 MHz, 32-bit DDS, range=307.200 MHz\n",
      "\t\tmaxlen 16384 accumulated, 1024 decimated (3.333 us)\n",
      "\t\ttriggered by output 7, pin 11, feedback to tProc input 3\n",
      "\t\tADC tile 2, blk 0 is 0_226, on JHC7\n",
      "\n",
      "\t8 digital output pins:\n",
      "\t0:\tPMOD0_0_LS\n",
      "\t1:\tPMOD0_1_LS\n",
      "\t2:\tPMOD0_2_LS\n",
      "\t3:\tPMOD0_3_LS\n",
      "\t4:\tPMOD0_4_LS\n",
      "\t5:\tPMOD0_5_LS\n",
      "\t6:\tPMOD0_6_LS\n",
      "\t7:\tPMOD0_7_LS\n",
      "\n",
      "\ttProc axis_tproc64x32_x8 (\"v1\") rev 4: program memory 16384 words, data memory 4096 words\n",
      "\t\texternal start pin: PMOD1_0_LS\n"
     ]
    }
   ],
   "source": [
    "soc = QickConfig(im[yaml_cfg['aliases']['soc']].get_cfg())\n",
    "print(soc)\n",
    "# print(soc.description())\n",
    "# print(soc.dump_cfg())"
   ]
  },
  {
   "cell_type": "code",
   "execution_count": null,
   "metadata": {},
   "outputs": [],
   "source": [
    "lo1 = im[yaml_cfg.aliases.readout_LO]\n",
    "lo1.open_device()\n",
    "print(lo1.get_id())\n",
    "\n",
    "# # TURN OFF\n",
    "# lo1.set_standby(True)\n",
    "# lo1.set_output_state(False)\n",
    "\n",
    "# TURN ON\n",
    "lo1.set_standby(False)\n",
    "lo1.set_output_state(True)\n",
    "lo_freq = float(yaml_cfg.hw.lo.readout.frequency)\n",
    "lo_power = float(yaml_cfg.hw.lo.readout.power)\n",
    "lo1.set_frequency(lo_freq) # Set LO frequency\n",
    "print('set freq to', lo_freq*1e-6, 'MHz')\n",
    "lo1.set_power(lo_power) # Set LO power\n",
    "print('set power to', lo_power, 'dBm')"
   ]
  },
  {
   "cell_type": "markdown",
   "metadata": {},
   "source": [
    "# Run experiment and acquire data"
   ]
  },
  {
   "cell_type": "markdown",
   "metadata": {
    "tags": []
   },
   "source": [
    "## QCTRL stuff"
   ]
  },
  {
   "cell_type": "code",
   "execution_count": null,
   "metadata": {},
   "outputs": [],
   "source": [
    "from qctrl import Qctrl\n",
    "qctrl = Qctrl()"
   ]
  },
  {
   "cell_type": "code",
   "execution_count": null,
   "metadata": {},
   "outputs": [],
   "source": [
    "# ctrl_result = qctrl.get_result(action_id=1761100)\n",
    "# ctrl_result = qctrl.get_result(action_id=1763052)\n",
    "ctrl_result = qctrl.get_result(action_id=1804348)"
   ]
  },
  {
   "cell_type": "code",
   "execution_count": null,
   "metadata": {},
   "outputs": [],
   "source": [
    "print(\"Fidelity:\", 1-ctrl_result.output[\"cost\"][\"value\"])\n",
    "\n",
    "times_us = []\n",
    "I_values_MHz = []\n",
    "Q_values_MHz = []\n",
    "for q in range(4):\n",
    "    if f\"$\\gammaI_{q}$\" not in ctrl_result.output: continue\n",
    "    I_values_q = []\n",
    "    Q_values_q = []\n",
    "    t = 0\n",
    "    for j in range(2): # I, Q\n",
    "        name = f\"$\\gamma{'I' if j==0 else 'Q'}_{q}$\"\n",
    "        control = ctrl_result.output[name]\n",
    "        for step, pulse in enumerate(control):\n",
    "            if q==1 and j==0: times_us.append(t)\n",
    "            t += pulse['duration']\n",
    "            # factor of 1/2, -1, and 2pi due to how their controls are defined relative to ours\n",
    "            if j==0: I_values_q.append(pulse['value'])\n",
    "            else: Q_values_q.append(pulse['value'])\n",
    "\n",
    "    I_values_MHz.append(I_values_q)\n",
    "    Q_values_MHz.append(Q_values_q)\n",
    "\n",
    "times_us = np.array(times_us)*1e-3\n",
    "I_values_MHz = np.array(I_values_MHz)*1e3\n",
    "Q_values_MHz = np.array(Q_values_MHz)*1e3\n",
    "\n",
    "# plt.figure(figsize=(6,8))\n",
    "plt.suptitle('I, Q Controls (qubit drives)', fontsize=14)\n",
    "ymax = 1.1*max(abs(np.concatenate((I_values_MHz.flatten(), Q_values_MHz.flatten()))))\n",
    "\n",
    "controls_index = 0\n",
    "for q in range(4):\n",
    "    if f\"$\\gammaI_{q}$\" not in ctrl_result.output: continue\n",
    "    # plt.subplot(int(f'41{q+1}'))\n",
    "    plt.plot(1e3*times_us, I_values_MHz[controls_index], label=f'$I_{q}$')\n",
    "    plt.plot(1e3*times_us, Q_values_MHz[controls_index], label=f'$Q_{q}$')\n",
    "    plt.ylim(-ymax, ymax)\n",
    "    plt.ylabel(f'$\\gamma_{q}/2\\pi$ [MHz]')\n",
    "    plt.legend()\n",
    "    controls_index += 1\n",
    "\n",
    "plt.xlabel('Times [ns]')\n",
    "# plt.tight_layout()\n",
    "plt.show()"
   ]
  },
  {
   "cell_type": "markdown",
   "metadata": {
    "tags": []
   },
   "source": [
    "## Test 2Q tomo"
   ]
  },
  {
   "cell_type": "code",
   "execution_count": 33,
   "metadata": {},
   "outputs": [],
   "source": [
    "tomo_qubits = [0, 2] # which qubit/resonator we want to probe"
   ]
  },
  {
   "cell_type": "code",
   "execution_count": null,
   "metadata": {},
   "outputs": [],
   "source": [
    "tomoExpt = meas.EgGfStateTomographyExperiment(\n",
    "    soccfg=soc,\n",
    "    path=expt_path,\n",
    "    prefix=f\"EgGf_state_tomo_{tomo_qubits[0]}{tomo_qubits[1]}\",\n",
    "    config_file=config_path,\n",
    ")\n",
    "\n",
    "tomoExpt.cfg.expt = dict(\n",
    "    reps=20000, # reps per measurement basis\n",
    "    singleshot_reps=20000, # reps for single shot calib\n",
    "    tomo_qubits=tomo_qubits,\n",
    "    calib_apply_q1_pi2=False, # initialize Q1 to 0+1 for all calibrations\n",
    "    # Icontrols=I_values_MHz[0],\n",
    "    # Qcontrols=Q_values_MHz[0],\n",
    "    # times_us=times_us,\n",
    ")\n",
    "\n",
    "# print(tomoExpt.cfg)\n",
    "import Pyro4.util\n",
    "try:\n",
    "    tomoExpt.go(analyze=False, display=False, progress=True, save=False)\n",
    "except Exception:\n",
    "    print(\"Pyro traceback:\")\n",
    "    print(\"\".join(Pyro4.util.getPyroTraceback()))"
   ]
  },
  {
   "cell_type": "code",
   "execution_count": null,
   "metadata": {},
   "outputs": [],
   "source": [
    "tomoExpt.save_data()"
   ]
  },
  {
   "cell_type": "code",
   "execution_count": null,
   "metadata": {},
   "outputs": [],
   "source": [
    "apply_ps = True\n",
    "ps_adjust = [-0.3, -1.0, -0.3, -0.3]\n",
    "# ps_adjust = [np.inf]*4\n",
    "ps_qubits = [0, 1, 2, 3]"
   ]
  },
  {
   "cell_type": "code",
   "execution_count": null,
   "metadata": {},
   "outputs": [],
   "source": [
    "tomo = tomoExpt\n",
    "\n",
    "# tomo = qramExpt\n",
    "\n",
    "# data, attrs = prev_data(expt_path, '00062_qram_protocol.h5')\n",
    "# pulse_dict = attrs['pulse_dict']\n",
    "# assert np.all(np.array(attrs['meas_order']) == meas_order)\n",
    "# assert np.all(np.array(attrs['calib_order']) == calib_order)\n",
    "\n",
    "data = tomo.data\n",
    "cfg = tomo.cfg\n",
    "pulse_dict = tomo.pulse_dict\n",
    "assert np.all(np.array(tomo.meas_order) == tomo_analysis.meas_order)\n",
    "assert np.all(np.array(tomo.calib_order) == tomo_analysis.calib_order)\n",
    "\n",
    "n_tomo_raw, n_calib = tomo_analysis.n_tomo_calib_from_data(data, cfg, ps_adjust=ps_adjust, ps_qubits=ps_qubits, apply_ps=apply_ps, verbose=True)\n",
    "\n",
    "np.set_printoptions(suppress=True)\n",
    "\n",
    "print('Tomography counts')\n",
    "print(n_tomo_raw)\n",
    "print('Confusion matrix counts')\n",
    "print(n_calib)\n",
    "print('Confusion matrix corrected tomo matrix will be')\n",
    "print(tomo_analysis.correct_readout_err(n_tomo_raw, n_calib))\n",
    "# print('Negative counts corrected tomo matrix will be')\n",
    "# print(tomo_analysis.fix_neg_counts(correct_readout_err(n_tomo_raw, n_calib)))"
   ]
  },
  {
   "cell_type": "markdown",
   "metadata": {
    "tags": []
   },
   "source": [
    "## Test 2Q optimal control pulses"
   ]
  },
  {
   "cell_type": "code",
   "execution_count": 364,
   "metadata": {},
   "outputs": [
    {
     "name": "stdout",
     "output_type": "stream",
     "text": [
      "Using config file config_q3diamond_full688and638_reset.yml\n"
     ]
    }
   ],
   "source": [
    "import yaml\n",
    "print('Using config file', config_file)\n",
    "with open(config_file, 'r') as cfg_file:\n",
    "    yaml_cfg = yaml.safe_load(cfg_file)\n",
    "yaml_cfg = AttrDict(yaml_cfg)"
   ]
  },
  {
   "cell_type": "code",
   "execution_count": 365,
   "metadata": {},
   "outputs": [
    {
     "name": "stdout",
     "output_type": "stream",
     "text": [
      "240920_qram_4q_2qubit_+egg\n",
      "dict_keys(['times', 'I_0', 'Q_0', 'I_1', 'Q_1'])\n",
      "IQ_qubits [0, 1]\n"
     ]
    },
    {
     "data": {
      "application/pdf": "[encoded data removed]",
      "image/svg+xml": [
       "<?xml version=\"1.0\" encoding=\"utf-8\" standalone=\"no\"?>\n",
       "<!DOCTYPE svg PUBLIC \"-//W3C//DTD SVG 1.1//EN\"\n",
       "  \"http://www.w3.org/Graphics/SVG/1.1/DTD/svg11.dtd\">\n",
       "<svg xmlns:xlink=\"http://www.w3.org/1999/xlink\" width=\"413.302812pt\" height=\"310.86825pt\" viewBox=\"0 0 413.302812 310.86825\" xmlns=\"http://www.w3.org/2000/svg\" version=\"1.1\">\n",
       " <metadata>\n",
       "  <rdf:RDF xmlns:dc=\"http://purl.org/dc/elements/1.1/\" xmlns:cc=\"http://creativecommons.org/ns#\" xmlns:rdf=\"http://www.w3.org/1999/02/22-rdf-syntax-ns#\">\n",
       "   <cc:Work>\n",
       "    <dc:type rdf:resource=\"http://purl.org/dc/dcmitype/StillImage\"/>\n",
       "    <dc:date>2024-09-22T19:29:08.392885</dc:date>\n",
       "    <dc:format>image/svg+xml</dc:format>\n",
       "    <dc:creator>\n",
       "     <cc:Agent>\n",
       "      <dc:title>Matplotlib v3.7.2, https://matplotlib.org/</dc:title>\n",
       "     </cc:Agent>\n",
       "    </dc:creator>\n",
       "   </cc:Work>\n",
       "  </rdf:RDF>\n",
       " </metadata>\n",
       " <defs>\n",
       "  <style type=\"text/css\">*{stroke-linejoin: round; stroke-linecap: butt}</style>\n",
       " </defs>\n",
       " <g id=\"figure_1\">\n",
       "  <g id=\"patch_1\">\n",
       "   <path d=\"M 0 310.86825 \n",
       "L 413.302812 310.86825 \n",
       "L 413.302812 0 \n",
       "L 0 0 \n",
       "z\n",
       "\" style=\"fill: #ffffff\"/>\n",
       "  </g>\n",
       "  <g id=\"axes_1\">\n",
       "   <g id=\"patch_2\">\n",
       "    <path d=\"M 48.982813 273.312 \n",
       "L 406.102813 273.312 \n",
       "L 406.102813 7.2 \n",
       "L 48.982813 7.2 \n",
       "z\n",
       "\" style=\"fill: #ffffff\"/>\n",
       "   </g>\n",
       "   <g id=\"matplotlib.axis_1\">\n",
       "    <g id=\"xtick_1\">\n",
       "     <g id=\"line2d_1\">\n",
       "      <defs>\n",
       "       <path id=\"mac8aa2e59c\" d=\"M 0 0 \n",
       "L 0 3.5 \n",
       "\" style=\"stroke: #000000; stroke-width: 0.8\"/>\n",
       "      </defs>\n",
       "      <g>\n",
       "       <use xlink:href=\"#mac8aa2e59c\" x=\"65.21554\" y=\"273.312\" style=\"stroke: #000000; stroke-width: 0.8\"/>\n",
       "      </g>\n",
       "     </g>\n",
       "     <g id=\"text_1\">\n",
       "      <!-- 0.00 -->\n",
       "      <g transform=\"translate(54.082727 287.910437) scale(0.1 -0.1)\">\n",
       "       <defs>\n",
       "        <path id=\"DejaVuSans-30\" d=\"M 2034 4250 \n",
       "Q 1547 4250 1301 3770 \n",
       "Q 1056 3291 1056 2328 \n",
       "Q 1056 1369 1301 889 \n",
       "Q 1547 409 2034 409 \n",
       "Q 2525 409 2770 889 \n",
       "Q 3016 1369 3016 2328 \n",
       "Q 3016 3291 2770 3770 \n",
       "Q 2525 4250 2034 4250 \n",
       "z\n",
       "M 2034 4750 \n",
       "Q 2819 4750 3233 4129 \n",
       "Q 3647 3509 3647 2328 \n",
       "Q 3647 1150 3233 529 \n",
       "Q 2819 -91 2034 -91 \n",
       "Q 1250 -91 836 529 \n",
       "Q 422 1150 422 2328 \n",
       "Q 422 3509 836 4129 \n",
       "Q 1250 4750 2034 4750 \n",
       "z\n",
       "\" transform=\"scale(0.015625)\"/>\n",
       "        <path id=\"DejaVuSans-2e\" d=\"M 684 794 \n",
       "L 1344 794 \n",
       "L 1344 0 \n",
       "L 684 0 \n",
       "L 684 794 \n",
       "z\n",
       "\" transform=\"scale(0.015625)\"/>\n",
       "       </defs>\n",
       "       <use xlink:href=\"#DejaVuSans-30\"/>\n",
       "       <use xlink:href=\"#DejaVuSans-2e\" x=\"63.623047\"/>\n",
       "       <use xlink:href=\"#DejaVuSans-30\" x=\"95.410156\"/>\n",
       "       <use xlink:href=\"#DejaVuSans-30\" x=\"159.033203\"/>\n",
       "      </g>\n",
       "     </g>\n",
       "    </g>\n",
       "    <g id=\"xtick_2\">\n",
       "     <g id=\"line2d_2\">\n",
       "      <g>\n",
       "       <use xlink:href=\"#mac8aa2e59c\" x=\"137.360994\" y=\"273.312\" style=\"stroke: #000000; stroke-width: 0.8\"/>\n",
       "      </g>\n",
       "     </g>\n",
       "     <g id=\"text_2\">\n",
       "      <!-- 0.01 -->\n",
       "      <g transform=\"translate(126.228182 287.910437) scale(0.1 -0.1)\">\n",
       "       <defs>\n",
       "        <path id=\"DejaVuSans-31\" d=\"M 794 531 \n",
       "L 1825 531 \n",
       "L 1825 4091 \n",
       "L 703 3866 \n",
       "L 703 4441 \n",
       "L 1819 4666 \n",
       "L 2450 4666 \n",
       "L 2450 531 \n",
       "L 3481 531 \n",
       "L 3481 0 \n",
       "L 794 0 \n",
       "L 794 531 \n",
       "z\n",
       "\" transform=\"scale(0.015625)\"/>\n",
       "       </defs>\n",
       "       <use xlink:href=\"#DejaVuSans-30\"/>\n",
       "       <use xlink:href=\"#DejaVuSans-2e\" x=\"63.623047\"/>\n",
       "       <use xlink:href=\"#DejaVuSans-30\" x=\"95.410156\"/>\n",
       "       <use xlink:href=\"#DejaVuSans-31\" x=\"159.033203\"/>\n",
       "      </g>\n",
       "     </g>\n",
       "    </g>\n",
       "    <g id=\"xtick_3\">\n",
       "     <g id=\"line2d_3\">\n",
       "      <g>\n",
       "       <use xlink:href=\"#mac8aa2e59c\" x=\"209.506449\" y=\"273.312\" style=\"stroke: #000000; stroke-width: 0.8\"/>\n",
       "      </g>\n",
       "     </g>\n",
       "     <g id=\"text_3\">\n",
       "      <!-- 0.02 -->\n",
       "      <g transform=\"translate(198.373636 287.910437) scale(0.1 -0.1)\">\n",
       "       <defs>\n",
       "        <path id=\"DejaVuSans-32\" d=\"M 1228 531 \n",
       "L 3431 531 \n",
       "L 3431 0 \n",
       "L 469 0 \n",
       "L 469 531 \n",
       "Q 828 903 1448 1529 \n",
       "Q 2069 2156 2228 2338 \n",
       "Q 2531 2678 2651 2914 \n",
       "Q 2772 3150 2772 3378 \n",
       "Q 2772 3750 2511 3984 \n",
       "Q 2250 4219 1831 4219 \n",
       "Q 1534 4219 1204 4116 \n",
       "Q 875 4013 500 3803 \n",
       "L 500 4441 \n",
       "Q 881 4594 1212 4672 \n",
       "Q 1544 4750 1819 4750 \n",
       "Q 2544 4750 2975 4387 \n",
       "Q 3406 4025 3406 3419 \n",
       "Q 3406 3131 3298 2873 \n",
       "Q 3191 2616 2906 2266 \n",
       "Q 2828 2175 2409 1742 \n",
       "Q 1991 1309 1228 531 \n",
       "z\n",
       "\" transform=\"scale(0.015625)\"/>\n",
       "       </defs>\n",
       "       <use xlink:href=\"#DejaVuSans-30\"/>\n",
       "       <use xlink:href=\"#DejaVuSans-2e\" x=\"63.623047\"/>\n",
       "       <use xlink:href=\"#DejaVuSans-30\" x=\"95.410156\"/>\n",
       "       <use xlink:href=\"#DejaVuSans-32\" x=\"159.033203\"/>\n",
       "      </g>\n",
       "     </g>\n",
       "    </g>\n",
       "    <g id=\"xtick_4\">\n",
       "     <g id=\"line2d_4\">\n",
       "      <g>\n",
       "       <use xlink:href=\"#mac8aa2e59c\" x=\"281.651903\" y=\"273.312\" style=\"stroke: #000000; stroke-width: 0.8\"/>\n",
       "      </g>\n",
       "     </g>\n",
       "     <g id=\"text_4\">\n",
       "      <!-- 0.03 -->\n",
       "      <g transform=\"translate(270.519091 287.910437) scale(0.1 -0.1)\">\n",
       "       <defs>\n",
       "        <path id=\"DejaVuSans-33\" d=\"M 2597 2516 \n",
       "Q 3050 2419 3304 2112 \n",
       "Q 3559 1806 3559 1356 \n",
       "Q 3559 666 3084 287 \n",
       "Q 2609 -91 1734 -91 \n",
       "Q 1441 -91 1130 -33 \n",
       "Q 819 25 488 141 \n",
       "L 488 750 \n",
       "Q 750 597 1062 519 \n",
       "Q 1375 441 1716 441 \n",
       "Q 2309 441 2620 675 \n",
       "Q 2931 909 2931 1356 \n",
       "Q 2931 1769 2642 2001 \n",
       "Q 2353 2234 1838 2234 \n",
       "L 1294 2234 \n",
       "L 1294 2753 \n",
       "L 1863 2753 \n",
       "Q 2328 2753 2575 2939 \n",
       "Q 2822 3125 2822 3475 \n",
       "Q 2822 3834 2567 4026 \n",
       "Q 2313 4219 1838 4219 \n",
       "Q 1578 4219 1281 4162 \n",
       "Q 984 4106 628 3988 \n",
       "L 628 4550 \n",
       "Q 988 4650 1302 4700 \n",
       "Q 1616 4750 1894 4750 \n",
       "Q 2613 4750 3031 4423 \n",
       "Q 3450 4097 3450 3541 \n",
       "Q 3450 3153 3228 2886 \n",
       "Q 3006 2619 2597 2516 \n",
       "z\n",
       "\" transform=\"scale(0.015625)\"/>\n",
       "       </defs>\n",
       "       <use xlink:href=\"#DejaVuSans-30\"/>\n",
       "       <use xlink:href=\"#DejaVuSans-2e\" x=\"63.623047\"/>\n",
       "       <use xlink:href=\"#DejaVuSans-30\" x=\"95.410156\"/>\n",
       "       <use xlink:href=\"#DejaVuSans-33\" x=\"159.033203\"/>\n",
       "      </g>\n",
       "     </g>\n",
       "    </g>\n",
       "    <g id=\"xtick_5\">\n",
       "     <g id=\"line2d_5\">\n",
       "      <g>\n",
       "       <use xlink:href=\"#mac8aa2e59c\" x=\"353.797358\" y=\"273.312\" style=\"stroke: #000000; stroke-width: 0.8\"/>\n",
       "      </g>\n",
       "     </g>\n",
       "     <g id=\"text_5\">\n",
       "      <!-- 0.04 -->\n",
       "      <g transform=\"translate(342.664545 287.910437) scale(0.1 -0.1)\">\n",
       "       <defs>\n",
       "        <path id=\"DejaVuSans-34\" d=\"M 2419 4116 \n",
       "L 825 1625 \n",
       "L 2419 1625 \n",
       "L 2419 4116 \n",
       "z\n",
       "M 2253 4666 \n",
       "L 3047 4666 \n",
       "L 3047 1625 \n",
       "L 3713 1625 \n",
       "L 3713 1100 \n",
       "L 3047 1100 \n",
       "L 3047 0 \n",
       "L 2419 0 \n",
       "L 2419 1100 \n",
       "L 313 1100 \n",
       "L 313 1709 \n",
       "L 2253 4666 \n",
       "z\n",
       "\" transform=\"scale(0.015625)\"/>\n",
       "       </defs>\n",
       "       <use xlink:href=\"#DejaVuSans-30\"/>\n",
       "       <use xlink:href=\"#DejaVuSans-2e\" x=\"63.623047\"/>\n",
       "       <use xlink:href=\"#DejaVuSans-30\" x=\"95.410156\"/>\n",
       "       <use xlink:href=\"#DejaVuSans-34\" x=\"159.033203\"/>\n",
       "      </g>\n",
       "     </g>\n",
       "    </g>\n",
       "    <g id=\"text_6\">\n",
       "     <!-- Times [us] -->\n",
       "     <g transform=\"translate(201.440469 301.588562) scale(0.1 -0.1)\">\n",
       "      <defs>\n",
       "       <path id=\"DejaVuSans-54\" d=\"M -19 4666 \n",
       "L 3928 4666 \n",
       "L 3928 4134 \n",
       "L 2272 4134 \n",
       "L 2272 0 \n",
       "L 1638 0 \n",
       "L 1638 4134 \n",
       "L -19 4134 \n",
       "L -19 4666 \n",
       "z\n",
       "\" transform=\"scale(0.015625)\"/>\n",
       "       <path id=\"DejaVuSans-69\" d=\"M 603 3500 \n",
       "L 1178 3500 \n",
       "L 1178 0 \n",
       "L 603 0 \n",
       "L 603 3500 \n",
       "z\n",
       "M 603 4863 \n",
       "L 1178 4863 \n",
       "L 1178 4134 \n",
       "L 603 4134 \n",
       "L 603 4863 \n",
       "z\n",
       "\" transform=\"scale(0.015625)\"/>\n",
       "       <path id=\"DejaVuSans-6d\" d=\"M 3328 2828 \n",
       "Q 3544 3216 3844 3400 \n",
       "Q 4144 3584 4550 3584 \n",
       "Q 5097 3584 5394 3201 \n",
       "Q 5691 2819 5691 2113 \n",
       "L 5691 0 \n",
       "L 5113 0 \n",
       "L 5113 2094 \n",
       "Q 5113 2597 4934 2840 \n",
       "Q 4756 3084 4391 3084 \n",
       "Q 3944 3084 3684 2787 \n",
       "Q 3425 2491 3425 1978 \n",
       "L 3425 0 \n",
       "L 2847 0 \n",
       "L 2847 2094 \n",
       "Q 2847 2600 2669 2842 \n",
       "Q 2491 3084 2119 3084 \n",
       "Q 1678 3084 1418 2786 \n",
       "Q 1159 2488 1159 1978 \n",
       "L 1159 0 \n",
       "L 581 0 \n",
       "L 581 3500 \n",
       "L 1159 3500 \n",
       "L 1159 2956 \n",
       "Q 1356 3278 1631 3431 \n",
       "Q 1906 3584 2284 3584 \n",
       "Q 2666 3584 2933 3390 \n",
       "Q 3200 3197 3328 2828 \n",
       "z\n",
       "\" transform=\"scale(0.015625)\"/>\n",
       "       <path id=\"DejaVuSans-65\" d=\"M 3597 1894 \n",
       "L 3597 1613 \n",
       "L 953 1613 \n",
       "Q 991 1019 1311 708 \n",
       "Q 1631 397 2203 397 \n",
       "Q 2534 397 2845 478 \n",
       "Q 3156 559 3463 722 \n",
       "L 3463 178 \n",
       "Q 3153 47 2828 -22 \n",
       "Q 2503 -91 2169 -91 \n",
       "Q 1331 -91 842 396 \n",
       "Q 353 884 353 1716 \n",
       "Q 353 2575 817 3079 \n",
       "Q 1281 3584 2069 3584 \n",
       "Q 2775 3584 3186 3129 \n",
       "Q 3597 2675 3597 1894 \n",
       "z\n",
       "M 3022 2063 \n",
       "Q 3016 2534 2758 2815 \n",
       "Q 2500 3097 2075 3097 \n",
       "Q 1594 3097 1305 2825 \n",
       "Q 1016 2553 972 2059 \n",
       "L 3022 2063 \n",
       "z\n",
       "\" transform=\"scale(0.015625)\"/>\n",
       "       <path id=\"DejaVuSans-73\" d=\"M 2834 3397 \n",
       "L 2834 2853 \n",
       "Q 2591 2978 2328 3040 \n",
       "Q 2066 3103 1784 3103 \n",
       "Q 1356 3103 1142 2972 \n",
       "Q 928 2841 928 2578 \n",
       "Q 928 2378 1081 2264 \n",
       "Q 1234 2150 1697 2047 \n",
       "L 1894 2003 \n",
       "Q 2506 1872 2764 1633 \n",
       "Q 3022 1394 3022 966 \n",
       "Q 3022 478 2636 193 \n",
       "Q 2250 -91 1575 -91 \n",
       "Q 1294 -91 989 -36 \n",
       "Q 684 19 347 128 \n",
       "L 347 722 \n",
       "Q 666 556 975 473 \n",
       "Q 1284 391 1588 391 \n",
       "Q 1994 391 2212 530 \n",
       "Q 2431 669 2431 922 \n",
       "Q 2431 1156 2273 1281 \n",
       "Q 2116 1406 1581 1522 \n",
       "L 1381 1569 \n",
       "Q 847 1681 609 1914 \n",
       "Q 372 2147 372 2553 \n",
       "Q 372 3047 722 3315 \n",
       "Q 1072 3584 1716 3584 \n",
       "Q 2034 3584 2315 3537 \n",
       "Q 2597 3491 2834 3397 \n",
       "z\n",
       "\" transform=\"scale(0.015625)\"/>\n",
       "       <path id=\"DejaVuSans-20\" transform=\"scale(0.015625)\"/>\n",
       "       <path id=\"DejaVuSans-5b\" d=\"M 550 4863 \n",
       "L 1875 4863 \n",
       "L 1875 4416 \n",
       "L 1125 4416 \n",
       "L 1125 -397 \n",
       "L 1875 -397 \n",
       "L 1875 -844 \n",
       "L 550 -844 \n",
       "L 550 4863 \n",
       "z\n",
       "\" transform=\"scale(0.015625)\"/>\n",
       "       <path id=\"DejaVuSans-75\" d=\"M 544 1381 \n",
       "L 544 3500 \n",
       "L 1119 3500 \n",
       "L 1119 1403 \n",
       "Q 1119 906 1312 657 \n",
       "Q 1506 409 1894 409 \n",
       "Q 2359 409 2629 706 \n",
       "Q 2900 1003 2900 1516 \n",
       "L 2900 3500 \n",
       "L 3475 3500 \n",
       "L 3475 0 \n",
       "L 2900 0 \n",
       "L 2900 538 \n",
       "Q 2691 219 2414 64 \n",
       "Q 2138 -91 1772 -91 \n",
       "Q 1169 -91 856 284 \n",
       "Q 544 659 544 1381 \n",
       "z\n",
       "M 1991 3584 \n",
       "L 1991 3584 \n",
       "z\n",
       "\" transform=\"scale(0.015625)\"/>\n",
       "       <path id=\"DejaVuSans-5d\" d=\"M 1947 4863 \n",
       "L 1947 -844 \n",
       "L 622 -844 \n",
       "L 622 -397 \n",
       "L 1369 -397 \n",
       "L 1369 4416 \n",
       "L 622 4416 \n",
       "L 622 4863 \n",
       "L 1947 4863 \n",
       "z\n",
       "\" transform=\"scale(0.015625)\"/>\n",
       "      </defs>\n",
       "      <use xlink:href=\"#DejaVuSans-54\"/>\n",
       "      <use xlink:href=\"#DejaVuSans-69\" x=\"57.958984\"/>\n",
       "      <use xlink:href=\"#DejaVuSans-6d\" x=\"85.742188\"/>\n",
       "      <use xlink:href=\"#DejaVuSans-65\" x=\"183.154297\"/>\n",
       "      <use xlink:href=\"#DejaVuSans-73\" x=\"244.677734\"/>\n",
       "      <use xlink:href=\"#DejaVuSans-20\" x=\"296.777344\"/>\n",
       "      <use xlink:href=\"#DejaVuSans-5b\" x=\"328.564453\"/>\n",
       "      <use xlink:href=\"#DejaVuSans-75\" x=\"367.578125\"/>\n",
       "      <use xlink:href=\"#DejaVuSans-73\" x=\"430.957031\"/>\n",
       "      <use xlink:href=\"#DejaVuSans-5d\" x=\"483.056641\"/>\n",
       "     </g>\n",
       "    </g>\n",
       "   </g>\n",
       "   <g id=\"matplotlib.axis_2\">\n",
       "    <g id=\"ytick_1\">\n",
       "     <g id=\"line2d_6\">\n",
       "      <defs>\n",
       "       <path id=\"m828f7babb6\" d=\"M 0 0 \n",
       "L -3.5 0 \n",
       "\" style=\"stroke: #000000; stroke-width: 0.8\"/>\n",
       "      </defs>\n",
       "      <g>\n",
       "       <use xlink:href=\"#m828f7babb6\" x=\"48.982813\" y=\"267.169167\" style=\"stroke: #000000; stroke-width: 0.8\"/>\n",
       "      </g>\n",
       "     </g>\n",
       "     <g id=\"text_7\">\n",
       "      <!-- −10 -->\n",
       "      <g transform=\"translate(20.878125 270.968386) scale(0.1 -0.1)\">\n",
       "       <defs>\n",
       "        <path id=\"DejaVuSans-2212\" d=\"M 678 2272 \n",
       "L 4684 2272 \n",
       "L 4684 1741 \n",
       "L 678 1741 \n",
       "L 678 2272 \n",
       "z\n",
       "\" transform=\"scale(0.015625)\"/>\n",
       "       </defs>\n",
       "       <use xlink:href=\"#DejaVuSans-2212\"/>\n",
       "       <use xlink:href=\"#DejaVuSans-31\" x=\"83.789062\"/>\n",
       "       <use xlink:href=\"#DejaVuSans-30\" x=\"147.412109\"/>\n",
       "      </g>\n",
       "     </g>\n",
       "    </g>\n",
       "    <g id=\"ytick_2\">\n",
       "     <g id=\"line2d_7\">\n",
       "      <g>\n",
       "       <use xlink:href=\"#m828f7babb6\" x=\"48.982813\" y=\"230.741154\" style=\"stroke: #000000; stroke-width: 0.8\"/>\n",
       "      </g>\n",
       "     </g>\n",
       "     <g id=\"text_8\">\n",
       "      <!-- −5 -->\n",
       "      <g transform=\"translate(27.240625 234.540373) scale(0.1 -0.1)\">\n",
       "       <defs>\n",
       "        <path id=\"DejaVuSans-35\" d=\"M 691 4666 \n",
       "L 3169 4666 \n",
       "L 3169 4134 \n",
       "L 1269 4134 \n",
       "L 1269 2991 \n",
       "Q 1406 3038 1543 3061 \n",
       "Q 1681 3084 1819 3084 \n",
       "Q 2600 3084 3056 2656 \n",
       "Q 3513 2228 3513 1497 \n",
       "Q 3513 744 3044 326 \n",
       "Q 2575 -91 1722 -91 \n",
       "Q 1428 -91 1123 -41 \n",
       "Q 819 9 494 109 \n",
       "L 494 744 \n",
       "Q 775 591 1075 516 \n",
       "Q 1375 441 1709 441 \n",
       "Q 2250 441 2565 725 \n",
       "Q 2881 1009 2881 1497 \n",
       "Q 2881 1984 2565 2268 \n",
       "Q 2250 2553 1709 2553 \n",
       "Q 1456 2553 1204 2497 \n",
       "Q 953 2441 691 2322 \n",
       "L 691 4666 \n",
       "z\n",
       "\" transform=\"scale(0.015625)\"/>\n",
       "       </defs>\n",
       "       <use xlink:href=\"#DejaVuSans-2212\"/>\n",
       "       <use xlink:href=\"#DejaVuSans-35\" x=\"83.789062\"/>\n",
       "      </g>\n",
       "     </g>\n",
       "    </g>\n",
       "    <g id=\"ytick_3\">\n",
       "     <g id=\"line2d_8\">\n",
       "      <g>\n",
       "       <use xlink:href=\"#m828f7babb6\" x=\"48.982813\" y=\"194.313141\" style=\"stroke: #000000; stroke-width: 0.8\"/>\n",
       "      </g>\n",
       "     </g>\n",
       "     <g id=\"text_9\">\n",
       "      <!-- 0 -->\n",
       "      <g transform=\"translate(35.620313 198.11236) scale(0.1 -0.1)\">\n",
       "       <use xlink:href=\"#DejaVuSans-30\"/>\n",
       "      </g>\n",
       "     </g>\n",
       "    </g>\n",
       "    <g id=\"ytick_4\">\n",
       "     <g id=\"line2d_9\">\n",
       "      <g>\n",
       "       <use xlink:href=\"#m828f7babb6\" x=\"48.982813\" y=\"157.885128\" style=\"stroke: #000000; stroke-width: 0.8\"/>\n",
       "      </g>\n",
       "     </g>\n",
       "     <g id=\"text_10\">\n",
       "      <!-- 5 -->\n",
       "      <g transform=\"translate(35.620313 161.684347) scale(0.1 -0.1)\">\n",
       "       <use xlink:href=\"#DejaVuSans-35\"/>\n",
       "      </g>\n",
       "     </g>\n",
       "    </g>\n",
       "    <g id=\"ytick_5\">\n",
       "     <g id=\"line2d_10\">\n",
       "      <g>\n",
       "       <use xlink:href=\"#m828f7babb6\" x=\"48.982813\" y=\"121.457115\" style=\"stroke: #000000; stroke-width: 0.8\"/>\n",
       "      </g>\n",
       "     </g>\n",
       "     <g id=\"text_11\">\n",
       "      <!-- 10 -->\n",
       "      <g transform=\"translate(29.257813 125.256333) scale(0.1 -0.1)\">\n",
       "       <use xlink:href=\"#DejaVuSans-31\"/>\n",
       "       <use xlink:href=\"#DejaVuSans-30\" x=\"63.623047\"/>\n",
       "      </g>\n",
       "     </g>\n",
       "    </g>\n",
       "    <g id=\"ytick_6\">\n",
       "     <g id=\"line2d_11\">\n",
       "      <g>\n",
       "       <use xlink:href=\"#m828f7babb6\" x=\"48.982813\" y=\"85.029102\" style=\"stroke: #000000; stroke-width: 0.8\"/>\n",
       "      </g>\n",
       "     </g>\n",
       "     <g id=\"text_12\">\n",
       "      <!-- 15 -->\n",
       "      <g transform=\"translate(29.257813 88.82832) scale(0.1 -0.1)\">\n",
       "       <use xlink:href=\"#DejaVuSans-31\"/>\n",
       "       <use xlink:href=\"#DejaVuSans-35\" x=\"63.623047\"/>\n",
       "      </g>\n",
       "     </g>\n",
       "    </g>\n",
       "    <g id=\"ytick_7\">\n",
       "     <g id=\"line2d_12\">\n",
       "      <g>\n",
       "       <use xlink:href=\"#m828f7babb6\" x=\"48.982813\" y=\"48.601089\" style=\"stroke: #000000; stroke-width: 0.8\"/>\n",
       "      </g>\n",
       "     </g>\n",
       "     <g id=\"text_13\">\n",
       "      <!-- 20 -->\n",
       "      <g transform=\"translate(29.257813 52.400307) scale(0.1 -0.1)\">\n",
       "       <use xlink:href=\"#DejaVuSans-32\"/>\n",
       "       <use xlink:href=\"#DejaVuSans-30\" x=\"63.623047\"/>\n",
       "      </g>\n",
       "     </g>\n",
       "    </g>\n",
       "    <g id=\"ytick_8\">\n",
       "     <g id=\"line2d_13\">\n",
       "      <g>\n",
       "       <use xlink:href=\"#m828f7babb6\" x=\"48.982813\" y=\"12.173075\" style=\"stroke: #000000; stroke-width: 0.8\"/>\n",
       "      </g>\n",
       "     </g>\n",
       "     <g id=\"text_14\">\n",
       "      <!-- 25 -->\n",
       "      <g transform=\"translate(29.257813 15.972294) scale(0.1 -0.1)\">\n",
       "       <use xlink:href=\"#DejaVuSans-32\"/>\n",
       "       <use xlink:href=\"#DejaVuSans-35\" x=\"63.623047\"/>\n",
       "      </g>\n",
       "     </g>\n",
       "    </g>\n",
       "    <g id=\"text_15\">\n",
       "     <!-- Amplitude [MHz] -->\n",
       "     <g transform=\"translate(14.798438 182.067719) rotate(-90) scale(0.1 -0.1)\">\n",
       "      <defs>\n",
       "       <path id=\"DejaVuSans-41\" d=\"M 2188 4044 \n",
       "L 1331 1722 \n",
       "L 3047 1722 \n",
       "L 2188 4044 \n",
       "z\n",
       "M 1831 4666 \n",
       "L 2547 4666 \n",
       "L 4325 0 \n",
       "L 3669 0 \n",
       "L 3244 1197 \n",
       "L 1141 1197 \n",
       "L 716 0 \n",
       "L 50 0 \n",
       "L 1831 4666 \n",
       "z\n",
       "\" transform=\"scale(0.015625)\"/>\n",
       "       <path id=\"DejaVuSans-70\" d=\"M 1159 525 \n",
       "L 1159 -1331 \n",
       "L 581 -1331 \n",
       "L 581 3500 \n",
       "L 1159 3500 \n",
       "L 1159 2969 \n",
       "Q 1341 3281 1617 3432 \n",
       "Q 1894 3584 2278 3584 \n",
       "Q 2916 3584 3314 3078 \n",
       "Q 3713 2572 3713 1747 \n",
       "Q 3713 922 3314 415 \n",
       "Q 2916 -91 2278 -91 \n",
       "Q 1894 -91 1617 61 \n",
       "Q 1341 213 1159 525 \n",
       "z\n",
       "M 3116 1747 \n",
       "Q 3116 2381 2855 2742 \n",
       "Q 2594 3103 2138 3103 \n",
       "Q 1681 3103 1420 2742 \n",
       "Q 1159 2381 1159 1747 \n",
       "Q 1159 1113 1420 752 \n",
       "Q 1681 391 2138 391 \n",
       "Q 2594 391 2855 752 \n",
       "Q 3116 1113 3116 1747 \n",
       "z\n",
       "\" transform=\"scale(0.015625)\"/>\n",
       "       <path id=\"DejaVuSans-6c\" d=\"M 603 4863 \n",
       "L 1178 4863 \n",
       "L 1178 0 \n",
       "L 603 0 \n",
       "L 603 4863 \n",
       "z\n",
       "\" transform=\"scale(0.015625)\"/>\n",
       "       <path id=\"DejaVuSans-74\" d=\"M 1172 4494 \n",
       "L 1172 3500 \n",
       "L 2356 3500 \n",
       "L 2356 3053 \n",
       "L 1172 3053 \n",
       "L 1172 1153 \n",
       "Q 1172 725 1289 603 \n",
       "Q 1406 481 1766 481 \n",
       "L 2356 481 \n",
       "L 2356 0 \n",
       "L 1766 0 \n",
       "Q 1100 0 847 248 \n",
       "Q 594 497 594 1153 \n",
       "L 594 3053 \n",
       "L 172 3053 \n",
       "L 172 3500 \n",
       "L 594 3500 \n",
       "L 594 4494 \n",
       "L 1172 4494 \n",
       "z\n",
       "\" transform=\"scale(0.015625)\"/>\n",
       "       <path id=\"DejaVuSans-64\" d=\"M 2906 2969 \n",
       "L 2906 4863 \n",
       "L 3481 4863 \n",
       "L 3481 0 \n",
       "L 2906 0 \n",
       "L 2906 525 \n",
       "Q 2725 213 2448 61 \n",
       "Q 2172 -91 1784 -91 \n",
       "Q 1150 -91 751 415 \n",
       "Q 353 922 353 1747 \n",
       "Q 353 2572 751 3078 \n",
       "Q 1150 3584 1784 3584 \n",
       "Q 2172 3584 2448 3432 \n",
       "Q 2725 3281 2906 2969 \n",
       "z\n",
       "M 947 1747 \n",
       "Q 947 1113 1208 752 \n",
       "Q 1469 391 1925 391 \n",
       "Q 2381 391 2643 752 \n",
       "Q 2906 1113 2906 1747 \n",
       "Q 2906 2381 2643 2742 \n",
       "Q 2381 3103 1925 3103 \n",
       "Q 1469 3103 1208 2742 \n",
       "Q 947 2381 947 1747 \n",
       "z\n",
       "\" transform=\"scale(0.015625)\"/>\n",
       "       <path id=\"DejaVuSans-4d\" d=\"M 628 4666 \n",
       "L 1569 4666 \n",
       "L 2759 1491 \n",
       "L 3956 4666 \n",
       "L 4897 4666 \n",
       "L 4897 0 \n",
       "L 4281 0 \n",
       "L 4281 4097 \n",
       "L 3078 897 \n",
       "L 2444 897 \n",
       "L 1241 4097 \n",
       "L 1241 0 \n",
       "L 628 0 \n",
       "L 628 4666 \n",
       "z\n",
       "\" transform=\"scale(0.015625)\"/>\n",
       "       <path id=\"DejaVuSans-48\" d=\"M 628 4666 \n",
       "L 1259 4666 \n",
       "L 1259 2753 \n",
       "L 3553 2753 \n",
       "L 3553 4666 \n",
       "L 4184 4666 \n",
       "L 4184 0 \n",
       "L 3553 0 \n",
       "L 3553 2222 \n",
       "L 1259 2222 \n",
       "L 1259 0 \n",
       "L 628 0 \n",
       "L 628 4666 \n",
       "z\n",
       "\" transform=\"scale(0.015625)\"/>\n",
       "       <path id=\"DejaVuSans-7a\" d=\"M 353 3500 \n",
       "L 3084 3500 \n",
       "L 3084 2975 \n",
       "L 922 459 \n",
       "L 3084 459 \n",
       "L 3084 0 \n",
       "L 275 0 \n",
       "L 275 525 \n",
       "L 2438 3041 \n",
       "L 353 3041 \n",
       "L 353 3500 \n",
       "z\n",
       "\" transform=\"scale(0.015625)\"/>\n",
       "      </defs>\n",
       "      <use xlink:href=\"#DejaVuSans-41\"/>\n",
       "      <use xlink:href=\"#DejaVuSans-6d\" x=\"68.408203\"/>\n",
       "      <use xlink:href=\"#DejaVuSans-70\" x=\"165.820312\"/>\n",
       "      <use xlink:href=\"#DejaVuSans-6c\" x=\"229.296875\"/>\n",
       "      <use xlink:href=\"#DejaVuSans-69\" x=\"257.080078\"/>\n",
       "      <use xlink:href=\"#DejaVuSans-74\" x=\"284.863281\"/>\n",
       "      <use xlink:href=\"#DejaVuSans-75\" x=\"324.072266\"/>\n",
       "      <use xlink:href=\"#DejaVuSans-64\" x=\"387.451172\"/>\n",
       "      <use xlink:href=\"#DejaVuSans-65\" x=\"450.927734\"/>\n",
       "      <use xlink:href=\"#DejaVuSans-20\" x=\"512.451172\"/>\n",
       "      <use xlink:href=\"#DejaVuSans-5b\" x=\"544.238281\"/>\n",
       "      <use xlink:href=\"#DejaVuSans-4d\" x=\"583.251953\"/>\n",
       "      <use xlink:href=\"#DejaVuSans-48\" x=\"669.53125\"/>\n",
       "      <use xlink:href=\"#DejaVuSans-7a\" x=\"744.726562\"/>\n",
       "      <use xlink:href=\"#DejaVuSans-5d\" x=\"797.216797\"/>\n",
       "     </g>\n",
       "    </g>\n",
       "   </g>\n",
       "   <g id=\"line2d_14\">\n",
       "    <path d=\"M 65.21554 194.3168 \n",
       "L 69.602763 194.329196 \n",
       "L 73.989987 194.305406 \n",
       "L 78.377211 194.191938 \n",
       "L 82.764434 193.944927 \n",
       "L 87.151658 193.543657 \n",
       "L 91.538881 193.002613 \n",
       "L 95.926105 192.380131 \n",
       "L 100.313328 191.782016 \n",
       "L 104.700552 191.359041 \n",
       "L 109.087776 191.297911 \n",
       "L 113.474999 191.806062 \n",
       "L 117.862223 193.091416 \n",
       "L 122.249446 195.338882 \n",
       "L 126.63667 198.685876 \n",
       "L 131.023894 203.199361 \n",
       "L 135.411117 208.856928 \n",
       "L 139.798341 215.5341 \n",
       "L 144.185564 222.999552 \n",
       "L 148.572788 230.919235 \n",
       "L 152.960012 238.869553 \n",
       "L 157.347235 246.358964 \n",
       "L 161.734459 252.85654 \n",
       "L 166.121682 257.825469 \n",
       "L 170.508906 260.75898 \n",
       "L 174.896129 261.216 \n",
       "L 179.283353 258.853872 \n",
       "L 183.670577 253.455711 \n",
       "L 188.0578 244.950403 \n",
       "L 192.445024 233.423846 \n",
       "L 196.832247 219.120649 \n",
       "L 201.219471 202.43621 \n",
       "L 205.606695 183.8997 \n",
       "L 209.993918 164.149061 \n",
       "L 214.381142 143.899563 \n",
       "L 218.768365 123.90781 \n",
       "L 223.155589 104.93328 \n",
       "L 227.542812 87.699559 \n",
       "L 231.930036 72.857405 \n",
       "L 236.31726 60.951653 \n",
       "L 240.704483 52.393737 \n",
       "L 245.091707 47.441341 \n",
       "L 249.47893 46.186312 \n",
       "L 253.866154 48.551572 \n",
       "L 258.253378 54.297292 \n",
       "L 262.640601 63.036096 \n",
       "L 267.027825 74.256532 \n",
       "L 271.415048 87.353542 \n",
       "L 275.802272 101.664158 \n",
       "L 280.189496 116.50627 \n",
       "L 284.576719 131.217993 \n",
       "L 288.963943 145.195053 \n",
       "L 293.351166 157.923611 \n",
       "L 297.73839 169.006255 \n",
       "L 302.125613 178.179284 \n",
       "L 306.512837 185.320076 \n",
       "L 310.900061 190.444091 \n",
       "L 315.287284 193.691903 \n",
       "L 319.674508 195.307495 \n",
       "L 324.061731 195.609829 \n",
       "L 328.448955 194.960274 \n",
       "L 332.836179 193.728841 \n",
       "L 337.223402 192.262278 \n",
       "L 341.610626 190.856831 \n",
       "L 345.997849 189.737994 \n",
       "L 350.385073 189.048831 \n",
       "L 354.772297 188.847541 \n",
       "L 359.15952 189.113982 \n",
       "L 363.546744 189.763924 \n",
       "L 367.933967 190.669011 \n",
       "L 372.321191 191.679863 \n",
       "L 376.708414 192.649493 \n",
       "L 381.095638 193.454242 \n",
       "L 385.482862 194.009881 \n",
       "L 389.870085 194.281133 \n",
       "\" clip-path=\"url(#pace8ca0fae)\" style=\"fill: none; stroke: #1f77b4; stroke-width: 1.5; stroke-linecap: square\"/>\n",
       "   </g>\n",
       "   <g id=\"line2d_15\">\n",
       "    <path d=\"M 65.21554 194.324818 \n",
       "L 69.602763 194.434623 \n",
       "L 73.989987 194.699573 \n",
       "L 78.377211 195.173418 \n",
       "L 82.764434 195.916132 \n",
       "L 87.151658 196.992175 \n",
       "L 91.538881 198.467271 \n",
       "L 95.926105 200.403599 \n",
       "L 100.313328 202.853566 \n",
       "L 104.700552 205.852535 \n",
       "L 109.087776 209.411088 \n",
       "L 113.474999 213.507589 \n",
       "L 117.862223 218.081853 \n",
       "L 122.249446 223.030747 \n",
       "L 126.63667 228.206415 \n",
       "L 131.023894 233.417636 \n",
       "L 135.411117 238.434558 \n",
       "L 139.798341 242.996746 \n",
       "L 144.185564 246.824189 \n",
       "L 148.572788 249.630615 \n",
       "L 152.960012 251.138269 \n",
       "L 157.347235 251.093156 \n",
       "L 161.734459 249.279715 \n",
       "L 166.121682 245.533949 \n",
       "L 170.508906 239.754175 \n",
       "L 174.896129 231.908746 \n",
       "L 179.283353 222.040359 \n",
       "L 183.670577 210.266812 \n",
       "L 188.0578 196.778292 \n",
       "L 192.445024 181.831501 \n",
       "L 196.832247 165.741045 \n",
       "L 201.219471 148.868619 \n",
       "L 205.606695 131.610523 \n",
       "L 209.993918 114.384068 \n",
       "L 214.381142 97.613357 \n",
       "L 218.768365 81.714884 \n",
       "L 223.155589 67.083364 \n",
       "L 227.542812 54.078177 \n",
       "L 231.930036 43.010787 \n",
       "L 236.31726 34.133567 \n",
       "L 240.704483 27.630436 \n",
       "L 245.091707 23.609792 \n",
       "L 249.47893 22.100188 \n",
       "L 253.866154 23.049179 \n",
       "L 258.253378 26.325671 \n",
       "L 262.640601 31.725932 \n",
       "L 267.027825 38.983218 \n",
       "L 271.415048 47.780711 \n",
       "L 275.802272 57.767177 \n",
       "L 280.189496 68.57448 \n",
       "L 284.576719 79.835898 \n",
       "L 288.963943 91.203982 \n",
       "L 293.351166 102.36674 \n",
       "L 297.73839 113.060916 \n",
       "L 302.125613 123.081434 \n",
       "L 306.512837 132.286298 \n",
       "L 310.900061 140.596703 \n",
       "L 315.287284 147.992513 \n",
       "L 319.674508 154.503697 \n",
       "L 324.061731 160.198701 \n",
       "L 328.448955 165.17101 \n",
       "L 332.836179 169.525302 \n",
       "L 337.223402 173.364596 \n",
       "L 341.610626 176.779625 \n",
       "L 345.997849 179.841386 \n",
       "L 350.385073 182.597414 \n",
       "L 354.772297 185.071864 \n",
       "L 359.15952 187.269043 \n",
       "L 363.546744 189.179615 \n",
       "L 367.933967 190.788424 \n",
       "L 372.321191 192.082697 \n",
       "L 376.708414 193.05941 \n",
       "L 381.095638 193.730726 \n",
       "L 385.482862 194.126761 \n",
       "L 389.870085 194.295253 \n",
       "\" clip-path=\"url(#pace8ca0fae)\" style=\"fill: none; stroke: #ff7f0e; stroke-width: 1.5; stroke-linecap: square\"/>\n",
       "   </g>\n",
       "   <g id=\"line2d_16\">\n",
       "    <path d=\"M 65.21554 194.313198 \n",
       "L 69.602763 194.312525 \n",
       "L 73.989987 194.306234 \n",
       "L 78.377211 194.283988 \n",
       "L 82.764434 194.227712 \n",
       "L 87.151658 194.109313 \n",
       "L 91.538881 193.888934 \n",
       "L 95.926105 193.514128 \n",
       "L 100.313328 192.920286 \n",
       "L 104.700552 192.032552 \n",
       "L 109.087776 190.769267 \n",
       "L 113.474999 189.046818 \n",
       "L 117.862223 186.785561 \n",
       "L 122.249446 183.916312 \n",
       "L 126.63667 180.38677 \n",
       "L 131.023894 176.16718 \n",
       "L 135.411117 171.254545 \n",
       "L 139.798341 165.674815 \n",
       "L 144.185564 159.482651 \n",
       "L 148.572788 152.758623 \n",
       "L 152.960012 145.603963 \n",
       "L 157.347235 138.133295 \n",
       "L 161.734459 130.466035 \n",
       "L 166.121682 122.717323 \n",
       "L 170.508906 114.989488 \n",
       "L 174.896129 107.365014 \n",
       "L 179.283353 99.901899 \n",
       "L 183.670577 92.632026 \n",
       "L 188.0578 85.562911 \n",
       "L 192.445024 78.682769 \n",
       "L 196.832247 71.968511 \n",
       "L 201.219471 65.395874 \n",
       "L 205.606695 58.950649 \n",
       "L 209.993918 52.639736 \n",
       "L 214.381142 46.500745 \n",
       "L 218.768365 40.608914 \n",
       "L 223.155589 35.080339 \n",
       "L 227.542812 30.070865 \n",
       "L 231.930036 25.770378 \n",
       "L 236.31726 22.392734 \n",
       "L 240.704483 20.161988 \n",
       "L 245.091707 19.296 \n",
       "L 249.47893 19.988797 \n",
       "L 253.866154 22.393246 \n",
       "L 258.253378 26.60561 \n",
       "L 262.640601 32.653429 \n",
       "L 267.027825 40.4879 \n",
       "L 271.415048 49.981546 \n",
       "L 275.802272 60.931486 \n",
       "L 280.189496 73.068159 \n",
       "L 284.576719 86.068833 \n",
       "L 288.963943 99.574885 \n",
       "L 293.351166 113.211467 \n",
       "L 297.73839 126.608051 \n",
       "L 302.125613 139.418271 \n",
       "L 306.512837 151.337624 \n",
       "L 310.900061 162.117776 \n",
       "L 315.287284 171.576599 \n",
       "L 319.674508 179.603412 \n",
       "L 324.061731 186.159345 \n",
       "L 328.448955 191.273104 \n",
       "L 332.836179 195.032806 \n",
       "L 337.223402 197.574762 \n",
       "L 341.610626 199.07029 \n",
       "L 345.997849 199.711684 \n",
       "L 350.385073 199.698423 \n",
       "L 354.772297 199.224573 \n",
       "L 359.15952 198.468157 \n",
       "L 363.546744 197.582998 \n",
       "L 367.933967 196.693323 \n",
       "L 372.321191 195.891149 \n",
       "L 376.708414 195.236262 \n",
       "L 381.095638 194.758433 \n",
       "L 385.482862 194.461393 \n",
       "L 389.870085 194.328038 \n",
       "\" clip-path=\"url(#pace8ca0fae)\" style=\"fill: none; stroke: #2ca02c; stroke-width: 1.5; stroke-linecap: square\"/>\n",
       "   </g>\n",
       "   <g id=\"line2d_17\">\n",
       "    <path d=\"M 65.21554 194.302204 \n",
       "L 69.602763 194.220006 \n",
       "L 73.989987 194.075331 \n",
       "L 78.377211 193.894725 \n",
       "L 82.764434 193.70129 \n",
       "L 87.151658 193.504027 \n",
       "L 91.538881 193.288262 \n",
       "L 95.926105 193.008746 \n",
       "L 100.313328 192.586721 \n",
       "L 104.700552 191.911716 \n",
       "L 109.087776 190.848207 \n",
       "L 113.474999 189.246593 \n",
       "L 117.862223 186.957336 \n",
       "L 122.249446 183.84666 \n",
       "L 126.63667 179.811902 \n",
       "L 131.023894 174.794643 \n",
       "L 135.411117 168.78993 \n",
       "L 139.798341 161.850416 \n",
       "L 144.185564 154.084801 \n",
       "L 148.572788 145.650713 \n",
       "L 152.960012 136.742813 \n",
       "L 157.347235 127.577533 \n",
       "L 161.734459 118.376235 \n",
       "L 166.121682 109.348759 \n",
       "L 170.508906 100.679274 \n",
       "L 174.896129 92.51598 \n",
       "L 179.283353 84.965733 \n",
       "L 183.670577 78.09396 \n",
       "L 188.0578 71.929603 \n",
       "L 192.445024 66.474112 \n",
       "L 196.832247 61.713067 \n",
       "L 201.219471 57.628648 \n",
       "L 205.606695 54.211135 \n",
       "L 209.993918 51.46777 \n",
       "L 214.381142 49.427727 \n",
       "L 218.768365 48.142487 \n",
       "L 223.155589 47.681551 \n",
       "L 227.542812 48.124087 \n",
       "L 231.930036 49.54765 \n",
       "L 236.31726 52.01552 \n",
       "L 240.704483 55.564389 \n",
       "L 245.091707 60.194079 \n",
       "L 249.47893 65.86072 \n",
       "L 253.866154 72.474345 \n",
       "L 258.253378 79.901284 \n",
       "L 262.640601 87.971158 \n",
       "L 267.027825 96.487646 \n",
       "L 271.415048 105.241783 \n",
       "L 275.802272 114.026228 \n",
       "L 280.189496 122.648886 \n",
       "L 284.576719 130.944398 \n",
       "L 288.963943 138.782311 \n",
       "L 293.351166 146.071251 \n",
       "L 297.73839 152.758911 \n",
       "L 302.125613 158.828236 \n",
       "L 306.512837 164.290627 \n",
       "L 310.900061 169.177314 \n",
       "L 315.287284 173.530222 \n",
       "L 319.674508 177.393592 \n",
       "L 324.061731 180.807411 \n",
       "L 328.448955 183.803383 \n",
       "L 332.836179 186.403698 \n",
       "L 337.223402 188.622439 \n",
       "L 341.610626 190.469045 \n",
       "L 345.997849 191.952969 \n",
       "L 350.385073 193.088507 \n",
       "L 354.772297 193.898808 \n",
       "L 359.15952 194.418233 \n",
       "L 363.546744 194.692553 \n",
       "L 367.933967 194.776852 \n",
       "L 372.321191 194.731383 \n",
       "L 376.708414 194.616026 \n",
       "L 381.095638 194.484198 \n",
       "L 385.482862 194.377229 \n",
       "L 389.870085 194.320154 \n",
       "\" clip-path=\"url(#pace8ca0fae)\" style=\"fill: none; stroke: #d62728; stroke-width: 1.5; stroke-linecap: square\"/>\n",
       "   </g>\n",
       "   <g id=\"patch_3\">\n",
       "    <path d=\"M 48.982813 273.312 \n",
       "L 48.982813 7.2 \n",
       "\" style=\"fill: none; stroke: #000000; stroke-width: 0.8; stroke-linejoin: miter; stroke-linecap: square\"/>\n",
       "   </g>\n",
       "   <g id=\"patch_4\">\n",
       "    <path d=\"M 406.102813 273.312 \n",
       "L 406.102813 7.2 \n",
       "\" style=\"fill: none; stroke: #000000; stroke-width: 0.8; stroke-linejoin: miter; stroke-linecap: square\"/>\n",
       "   </g>\n",
       "   <g id=\"patch_5\">\n",
       "    <path d=\"M 48.982813 273.312 \n",
       "L 406.102813 273.312 \n",
       "\" style=\"fill: none; stroke: #000000; stroke-width: 0.8; stroke-linejoin: miter; stroke-linecap: square\"/>\n",
       "   </g>\n",
       "   <g id=\"patch_6\">\n",
       "    <path d=\"M 48.982813 7.2 \n",
       "L 406.102813 7.2 \n",
       "\" style=\"fill: none; stroke: #000000; stroke-width: 0.8; stroke-linejoin: miter; stroke-linecap: square\"/>\n",
       "   </g>\n",
       "   <g id=\"legend_1\">\n",
       "    <g id=\"patch_7\">\n",
       "     <path d=\"M 354.502813 73.9125 \n",
       "L 399.102813 73.9125 \n",
       "Q 401.102813 73.9125 401.102813 71.9125 \n",
       "L 401.102813 14.2 \n",
       "Q 401.102813 12.2 399.102813 12.2 \n",
       "L 354.502813 12.2 \n",
       "Q 352.502813 12.2 352.502813 14.2 \n",
       "L 352.502813 71.9125 \n",
       "Q 352.502813 73.9125 354.502813 73.9125 \n",
       "z\n",
       "\" style=\"fill: #ffffff; opacity: 0.8; stroke: #cccccc; stroke-linejoin: miter\"/>\n",
       "    </g>\n",
       "    <g id=\"line2d_18\">\n",
       "     <path d=\"M 356.502813 20.298437 \n",
       "L 366.502813 20.298437 \n",
       "L 376.502813 20.298437 \n",
       "\" style=\"fill: none; stroke: #1f77b4; stroke-width: 1.5; stroke-linecap: square\"/>\n",
       "    </g>\n",
       "    <g id=\"text_16\">\n",
       "     <!-- $I_0$ -->\n",
       "     <g transform=\"translate(384.502813 23.798437) scale(0.1 -0.1)\">\n",
       "      <defs>\n",
       "       <path id=\"DejaVuSans-Oblique-49\" d=\"M 1081 4666 \n",
       "L 1716 4666 \n",
       "L 806 0 \n",
       "L 172 0 \n",
       "L 1081 4666 \n",
       "z\n",
       "\" transform=\"scale(0.015625)\"/>\n",
       "      </defs>\n",
       "      <use xlink:href=\"#DejaVuSans-Oblique-49\" transform=\"translate(0 0.09375)\"/>\n",
       "      <use xlink:href=\"#DejaVuSans-30\" transform=\"translate(29.492188 -16.3125) scale(0.7)\"/>\n",
       "     </g>\n",
       "    </g>\n",
       "    <g id=\"line2d_19\">\n",
       "     <path d=\"M 356.502813 34.976562 \n",
       "L 366.502813 34.976562 \n",
       "L 376.502813 34.976562 \n",
       "\" style=\"fill: none; stroke: #ff7f0e; stroke-width: 1.5; stroke-linecap: square\"/>\n",
       "    </g>\n",
       "    <g id=\"text_17\">\n",
       "     <!-- $Q_0$ -->\n",
       "     <g transform=\"translate(384.502813 38.476562) scale(0.1 -0.1)\">\n",
       "      <defs>\n",
       "       <path id=\"DejaVuSans-Oblique-51\" d=\"M 2309 -84 \n",
       "Q 2275 -88 2237 -89 \n",
       "Q 2200 -91 2125 -91 \n",
       "Q 1250 -91 756 411 \n",
       "Q 263 913 263 1797 \n",
       "Q 263 2319 452 2844 \n",
       "Q 641 3369 978 3788 \n",
       "Q 1369 4269 1858 4509 \n",
       "Q 2347 4750 2938 4750 \n",
       "Q 3794 4750 4287 4245 \n",
       "Q 4781 3741 4781 2869 \n",
       "Q 4781 1928 4265 1147 \n",
       "Q 3750 366 2919 44 \n",
       "L 3553 -825 \n",
       "L 2847 -825 \n",
       "L 2309 -84 \n",
       "z\n",
       "M 2919 4238 \n",
       "Q 2400 4238 2003 3986 \n",
       "Q 1606 3734 1313 3219 \n",
       "Q 1125 2891 1026 2522 \n",
       "Q 928 2153 928 1778 \n",
       "Q 928 1128 1239 775 \n",
       "Q 1550 422 2119 422 \n",
       "Q 2631 422 3032 676 \n",
       "Q 3434 931 3719 1434 \n",
       "Q 3909 1772 4009 2142 \n",
       "Q 4109 2513 4109 2881 \n",
       "Q 4109 3528 3796 3883 \n",
       "Q 3484 4238 2919 4238 \n",
       "z\n",
       "\" transform=\"scale(0.015625)\"/>\n",
       "      </defs>\n",
       "      <use xlink:href=\"#DejaVuSans-Oblique-51\" transform=\"translate(0 0.78125)\"/>\n",
       "      <use xlink:href=\"#DejaVuSans-30\" transform=\"translate(78.710938 -15.625) scale(0.7)\"/>\n",
       "     </g>\n",
       "    </g>\n",
       "    <g id=\"line2d_20\">\n",
       "     <path d=\"M 356.502813 49.654687 \n",
       "L 366.502813 49.654687 \n",
       "L 376.502813 49.654687 \n",
       "\" style=\"fill: none; stroke: #2ca02c; stroke-width: 1.5; stroke-linecap: square\"/>\n",
       "    </g>\n",
       "    <g id=\"text_18\">\n",
       "     <!-- $I_1$ -->\n",
       "     <g transform=\"translate(384.502813 53.154687) scale(0.1 -0.1)\">\n",
       "      <use xlink:href=\"#DejaVuSans-Oblique-49\" transform=\"translate(0 0.09375)\"/>\n",
       "      <use xlink:href=\"#DejaVuSans-31\" transform=\"translate(29.492188 -16.3125) scale(0.7)\"/>\n",
       "     </g>\n",
       "    </g>\n",
       "    <g id=\"line2d_21\">\n",
       "     <path d=\"M 356.502813 64.332812 \n",
       "L 366.502813 64.332812 \n",
       "L 376.502813 64.332812 \n",
       "\" style=\"fill: none; stroke: #d62728; stroke-width: 1.5; stroke-linecap: square\"/>\n",
       "    </g>\n",
       "    <g id=\"text_19\">\n",
       "     <!-- $Q_1$ -->\n",
       "     <g transform=\"translate(384.502813 67.832812) scale(0.1 -0.1)\">\n",
       "      <use xlink:href=\"#DejaVuSans-Oblique-51\" transform=\"translate(0 0.78125)\"/>\n",
       "      <use xlink:href=\"#DejaVuSans-31\" transform=\"translate(78.710938 -15.625) scale(0.7)\"/>\n",
       "     </g>\n",
       "    </g>\n",
       "   </g>\n",
       "  </g>\n",
       " </g>\n",
       " <defs>\n",
       "  <clipPath id=\"pace8ca0fae\">\n",
       "   <rect x=\"48.982813\" y=\"7.2\" width=\"357.12\" height=\"266.112\"/>\n",
       "  </clipPath>\n",
       " </defs>\n",
       "</svg>\n"
      ],
      "text/plain": [
       "<Figure size 640x480 with 1 Axes>"
      ]
     },
     "metadata": {},
     "output_type": "display_data"
    },
    {
     "data": {
      "application/pdf": "[encoded data removed]",
      "image/svg+xml": [
       "<?xml version=\"1.0\" encoding=\"utf-8\" standalone=\"no\"?>\n",
       "<!DOCTYPE svg PUBLIC \"-//W3C//DTD SVG 1.1//EN\"\n",
       "  \"http://www.w3.org/Graphics/SVG/1.1/DTD/svg11.dtd\">\n",
       "<svg xmlns:xlink=\"http://www.w3.org/1999/xlink\" width=\"408.10125pt\" height=\"321.466687pt\" viewBox=\"0 0 408.10125 321.466687\" xmlns=\"http://www.w3.org/2000/svg\" version=\"1.1\">\n",
       " <metadata>\n",
       "  <rdf:RDF xmlns:dc=\"http://purl.org/dc/elements/1.1/\" xmlns:cc=\"http://creativecommons.org/ns#\" xmlns:rdf=\"http://www.w3.org/1999/02/22-rdf-syntax-ns#\">\n",
       "   <cc:Work>\n",
       "    <dc:type rdf:resource=\"http://purl.org/dc/dcmitype/StillImage\"/>\n",
       "    <dc:date>2024-09-22T19:29:08.607741</dc:date>\n",
       "    <dc:format>image/svg+xml</dc:format>\n",
       "    <dc:creator>\n",
       "     <cc:Agent>\n",
       "      <dc:title>Matplotlib v3.7.2, https://matplotlib.org/</dc:title>\n",
       "     </cc:Agent>\n",
       "    </dc:creator>\n",
       "   </cc:Work>\n",
       "  </rdf:RDF>\n",
       " </metadata>\n",
       " <defs>\n",
       "  <style type=\"text/css\">*{stroke-linejoin: round; stroke-linecap: butt}</style>\n",
       " </defs>\n",
       " <g id=\"figure_1\">\n",
       "  <g id=\"patch_1\">\n",
       "   <path d=\"M 0 321.466687 \n",
       "L 408.10125 321.466687 \n",
       "L 408.10125 0 \n",
       "L 0 0 \n",
       "z\n",
       "\" style=\"fill: #ffffff\"/>\n",
       "  </g>\n",
       "  <g id=\"axes_1\">\n",
       "   <g id=\"patch_2\">\n",
       "    <path d=\"M 43.78125 283.910437 \n",
       "L 400.90125 283.910437 \n",
       "L 400.90125 17.798437 \n",
       "L 43.78125 17.798437 \n",
       "z\n",
       "\" style=\"fill: #ffffff\"/>\n",
       "   </g>\n",
       "   <g id=\"matplotlib.axis_1\">\n",
       "    <g id=\"xtick_1\">\n",
       "     <g id=\"line2d_1\">\n",
       "      <defs>\n",
       "       <path id=\"mbe2dfd33dc\" d=\"M 0 0 \n",
       "L 0 3.5 \n",
       "\" style=\"stroke: #000000; stroke-width: 0.8\"/>\n",
       "      </defs>\n",
       "      <g>\n",
       "       <use xlink:href=\"#mbe2dfd33dc\" x=\"60.013977\" y=\"283.910437\" style=\"stroke: #000000; stroke-width: 0.8\"/>\n",
       "      </g>\n",
       "     </g>\n",
       "     <g id=\"text_1\">\n",
       "      <!-- 0.00 -->\n",
       "      <g transform=\"translate(48.881165 298.508875) scale(0.1 -0.1)\">\n",
       "       <defs>\n",
       "        <path id=\"DejaVuSans-30\" d=\"M 2034 4250 \n",
       "Q 1547 4250 1301 3770 \n",
       "Q 1056 3291 1056 2328 \n",
       "Q 1056 1369 1301 889 \n",
       "Q 1547 409 2034 409 \n",
       "Q 2525 409 2770 889 \n",
       "Q 3016 1369 3016 2328 \n",
       "Q 3016 3291 2770 3770 \n",
       "Q 2525 4250 2034 4250 \n",
       "z\n",
       "M 2034 4750 \n",
       "Q 2819 4750 3233 4129 \n",
       "Q 3647 3509 3647 2328 \n",
       "Q 3647 1150 3233 529 \n",
       "Q 2819 -91 2034 -91 \n",
       "Q 1250 -91 836 529 \n",
       "Q 422 1150 422 2328 \n",
       "Q 422 3509 836 4129 \n",
       "Q 1250 4750 2034 4750 \n",
       "z\n",
       "\" transform=\"scale(0.015625)\"/>\n",
       "        <path id=\"DejaVuSans-2e\" d=\"M 684 794 \n",
       "L 1344 794 \n",
       "L 1344 0 \n",
       "L 684 0 \n",
       "L 684 794 \n",
       "z\n",
       "\" transform=\"scale(0.015625)\"/>\n",
       "       </defs>\n",
       "       <use xlink:href=\"#DejaVuSans-30\"/>\n",
       "       <use xlink:href=\"#DejaVuSans-2e\" x=\"63.623047\"/>\n",
       "       <use xlink:href=\"#DejaVuSans-30\" x=\"95.410156\"/>\n",
       "       <use xlink:href=\"#DejaVuSans-30\" x=\"159.033203\"/>\n",
       "      </g>\n",
       "     </g>\n",
       "    </g>\n",
       "    <g id=\"xtick_2\">\n",
       "     <g id=\"line2d_2\">\n",
       "      <g>\n",
       "       <use xlink:href=\"#mbe2dfd33dc\" x=\"132.159432\" y=\"283.910437\" style=\"stroke: #000000; stroke-width: 0.8\"/>\n",
       "      </g>\n",
       "     </g>\n",
       "     <g id=\"text_2\">\n",
       "      <!-- 0.01 -->\n",
       "      <g transform=\"translate(121.026619 298.508875) scale(0.1 -0.1)\">\n",
       "       <defs>\n",
       "        <path id=\"DejaVuSans-31\" d=\"M 794 531 \n",
       "L 1825 531 \n",
       "L 1825 4091 \n",
       "L 703 3866 \n",
       "L 703 4441 \n",
       "L 1819 4666 \n",
       "L 2450 4666 \n",
       "L 2450 531 \n",
       "L 3481 531 \n",
       "L 3481 0 \n",
       "L 794 0 \n",
       "L 794 531 \n",
       "z\n",
       "\" transform=\"scale(0.015625)\"/>\n",
       "       </defs>\n",
       "       <use xlink:href=\"#DejaVuSans-30\"/>\n",
       "       <use xlink:href=\"#DejaVuSans-2e\" x=\"63.623047\"/>\n",
       "       <use xlink:href=\"#DejaVuSans-30\" x=\"95.410156\"/>\n",
       "       <use xlink:href=\"#DejaVuSans-31\" x=\"159.033203\"/>\n",
       "      </g>\n",
       "     </g>\n",
       "    </g>\n",
       "    <g id=\"xtick_3\">\n",
       "     <g id=\"line2d_3\">\n",
       "      <g>\n",
       "       <use xlink:href=\"#mbe2dfd33dc\" x=\"204.304886\" y=\"283.910437\" style=\"stroke: #000000; stroke-width: 0.8\"/>\n",
       "      </g>\n",
       "     </g>\n",
       "     <g id=\"text_3\">\n",
       "      <!-- 0.02 -->\n",
       "      <g transform=\"translate(193.172074 298.508875) scale(0.1 -0.1)\">\n",
       "       <defs>\n",
       "        <path id=\"DejaVuSans-32\" d=\"M 1228 531 \n",
       "L 3431 531 \n",
       "L 3431 0 \n",
       "L 469 0 \n",
       "L 469 531 \n",
       "Q 828 903 1448 1529 \n",
       "Q 2069 2156 2228 2338 \n",
       "Q 2531 2678 2651 2914 \n",
       "Q 2772 3150 2772 3378 \n",
       "Q 2772 3750 2511 3984 \n",
       "Q 2250 4219 1831 4219 \n",
       "Q 1534 4219 1204 4116 \n",
       "Q 875 4013 500 3803 \n",
       "L 500 4441 \n",
       "Q 881 4594 1212 4672 \n",
       "Q 1544 4750 1819 4750 \n",
       "Q 2544 4750 2975 4387 \n",
       "Q 3406 4025 3406 3419 \n",
       "Q 3406 3131 3298 2873 \n",
       "Q 3191 2616 2906 2266 \n",
       "Q 2828 2175 2409 1742 \n",
       "Q 1991 1309 1228 531 \n",
       "z\n",
       "\" transform=\"scale(0.015625)\"/>\n",
       "       </defs>\n",
       "       <use xlink:href=\"#DejaVuSans-30\"/>\n",
       "       <use xlink:href=\"#DejaVuSans-2e\" x=\"63.623047\"/>\n",
       "       <use xlink:href=\"#DejaVuSans-30\" x=\"95.410156\"/>\n",
       "       <use xlink:href=\"#DejaVuSans-32\" x=\"159.033203\"/>\n",
       "      </g>\n",
       "     </g>\n",
       "    </g>\n",
       "    <g id=\"xtick_4\">\n",
       "     <g id=\"line2d_4\">\n",
       "      <g>\n",
       "       <use xlink:href=\"#mbe2dfd33dc\" x=\"276.450341\" y=\"283.910437\" style=\"stroke: #000000; stroke-width: 0.8\"/>\n",
       "      </g>\n",
       "     </g>\n",
       "     <g id=\"text_4\">\n",
       "      <!-- 0.03 -->\n",
       "      <g transform=\"translate(265.317528 298.508875) scale(0.1 -0.1)\">\n",
       "       <defs>\n",
       "        <path id=\"DejaVuSans-33\" d=\"M 2597 2516 \n",
       "Q 3050 2419 3304 2112 \n",
       "Q 3559 1806 3559 1356 \n",
       "Q 3559 666 3084 287 \n",
       "Q 2609 -91 1734 -91 \n",
       "Q 1441 -91 1130 -33 \n",
       "Q 819 25 488 141 \n",
       "L 488 750 \n",
       "Q 750 597 1062 519 \n",
       "Q 1375 441 1716 441 \n",
       "Q 2309 441 2620 675 \n",
       "Q 2931 909 2931 1356 \n",
       "Q 2931 1769 2642 2001 \n",
       "Q 2353 2234 1838 2234 \n",
       "L 1294 2234 \n",
       "L 1294 2753 \n",
       "L 1863 2753 \n",
       "Q 2328 2753 2575 2939 \n",
       "Q 2822 3125 2822 3475 \n",
       "Q 2822 3834 2567 4026 \n",
       "Q 2313 4219 1838 4219 \n",
       "Q 1578 4219 1281 4162 \n",
       "Q 984 4106 628 3988 \n",
       "L 628 4550 \n",
       "Q 988 4650 1302 4700 \n",
       "Q 1616 4750 1894 4750 \n",
       "Q 2613 4750 3031 4423 \n",
       "Q 3450 4097 3450 3541 \n",
       "Q 3450 3153 3228 2886 \n",
       "Q 3006 2619 2597 2516 \n",
       "z\n",
       "\" transform=\"scale(0.015625)\"/>\n",
       "       </defs>\n",
       "       <use xlink:href=\"#DejaVuSans-30\"/>\n",
       "       <use xlink:href=\"#DejaVuSans-2e\" x=\"63.623047\"/>\n",
       "       <use xlink:href=\"#DejaVuSans-30\" x=\"95.410156\"/>\n",
       "       <use xlink:href=\"#DejaVuSans-33\" x=\"159.033203\"/>\n",
       "      </g>\n",
       "     </g>\n",
       "    </g>\n",
       "    <g id=\"xtick_5\">\n",
       "     <g id=\"line2d_5\">\n",
       "      <g>\n",
       "       <use xlink:href=\"#mbe2dfd33dc\" x=\"348.595795\" y=\"283.910437\" style=\"stroke: #000000; stroke-width: 0.8\"/>\n",
       "      </g>\n",
       "     </g>\n",
       "     <g id=\"text_5\">\n",
       "      <!-- 0.04 -->\n",
       "      <g transform=\"translate(337.462983 298.508875) scale(0.1 -0.1)\">\n",
       "       <defs>\n",
       "        <path id=\"DejaVuSans-34\" d=\"M 2419 4116 \n",
       "L 825 1625 \n",
       "L 2419 1625 \n",
       "L 2419 4116 \n",
       "z\n",
       "M 2253 4666 \n",
       "L 3047 4666 \n",
       "L 3047 1625 \n",
       "L 3713 1625 \n",
       "L 3713 1100 \n",
       "L 3047 1100 \n",
       "L 3047 0 \n",
       "L 2419 0 \n",
       "L 2419 1100 \n",
       "L 313 1100 \n",
       "L 313 1709 \n",
       "L 2253 4666 \n",
       "z\n",
       "\" transform=\"scale(0.015625)\"/>\n",
       "       </defs>\n",
       "       <use xlink:href=\"#DejaVuSans-30\"/>\n",
       "       <use xlink:href=\"#DejaVuSans-2e\" x=\"63.623047\"/>\n",
       "       <use xlink:href=\"#DejaVuSans-30\" x=\"95.410156\"/>\n",
       "       <use xlink:href=\"#DejaVuSans-34\" x=\"159.033203\"/>\n",
       "      </g>\n",
       "     </g>\n",
       "    </g>\n",
       "    <g id=\"text_6\">\n",
       "     <!-- Times [us] -->\n",
       "     <g transform=\"translate(196.238906 312.187) scale(0.1 -0.1)\">\n",
       "      <defs>\n",
       "       <path id=\"DejaVuSans-54\" d=\"M -19 4666 \n",
       "L 3928 4666 \n",
       "L 3928 4134 \n",
       "L 2272 4134 \n",
       "L 2272 0 \n",
       "L 1638 0 \n",
       "L 1638 4134 \n",
       "L -19 4134 \n",
       "L -19 4666 \n",
       "z\n",
       "\" transform=\"scale(0.015625)\"/>\n",
       "       <path id=\"DejaVuSans-69\" d=\"M 603 3500 \n",
       "L 1178 3500 \n",
       "L 1178 0 \n",
       "L 603 0 \n",
       "L 603 3500 \n",
       "z\n",
       "M 603 4863 \n",
       "L 1178 4863 \n",
       "L 1178 4134 \n",
       "L 603 4134 \n",
       "L 603 4863 \n",
       "z\n",
       "\" transform=\"scale(0.015625)\"/>\n",
       "       <path id=\"DejaVuSans-6d\" d=\"M 3328 2828 \n",
       "Q 3544 3216 3844 3400 \n",
       "Q 4144 3584 4550 3584 \n",
       "Q 5097 3584 5394 3201 \n",
       "Q 5691 2819 5691 2113 \n",
       "L 5691 0 \n",
       "L 5113 0 \n",
       "L 5113 2094 \n",
       "Q 5113 2597 4934 2840 \n",
       "Q 4756 3084 4391 3084 \n",
       "Q 3944 3084 3684 2787 \n",
       "Q 3425 2491 3425 1978 \n",
       "L 3425 0 \n",
       "L 2847 0 \n",
       "L 2847 2094 \n",
       "Q 2847 2600 2669 2842 \n",
       "Q 2491 3084 2119 3084 \n",
       "Q 1678 3084 1418 2786 \n",
       "Q 1159 2488 1159 1978 \n",
       "L 1159 0 \n",
       "L 581 0 \n",
       "L 581 3500 \n",
       "L 1159 3500 \n",
       "L 1159 2956 \n",
       "Q 1356 3278 1631 3431 \n",
       "Q 1906 3584 2284 3584 \n",
       "Q 2666 3584 2933 3390 \n",
       "Q 3200 3197 3328 2828 \n",
       "z\n",
       "\" transform=\"scale(0.015625)\"/>\n",
       "       <path id=\"DejaVuSans-65\" d=\"M 3597 1894 \n",
       "L 3597 1613 \n",
       "L 953 1613 \n",
       "Q 991 1019 1311 708 \n",
       "Q 1631 397 2203 397 \n",
       "Q 2534 397 2845 478 \n",
       "Q 3156 559 3463 722 \n",
       "L 3463 178 \n",
       "Q 3153 47 2828 -22 \n",
       "Q 2503 -91 2169 -91 \n",
       "Q 1331 -91 842 396 \n",
       "Q 353 884 353 1716 \n",
       "Q 353 2575 817 3079 \n",
       "Q 1281 3584 2069 3584 \n",
       "Q 2775 3584 3186 3129 \n",
       "Q 3597 2675 3597 1894 \n",
       "z\n",
       "M 3022 2063 \n",
       "Q 3016 2534 2758 2815 \n",
       "Q 2500 3097 2075 3097 \n",
       "Q 1594 3097 1305 2825 \n",
       "Q 1016 2553 972 2059 \n",
       "L 3022 2063 \n",
       "z\n",
       "\" transform=\"scale(0.015625)\"/>\n",
       "       <path id=\"DejaVuSans-73\" d=\"M 2834 3397 \n",
       "L 2834 2853 \n",
       "Q 2591 2978 2328 3040 \n",
       "Q 2066 3103 1784 3103 \n",
       "Q 1356 3103 1142 2972 \n",
       "Q 928 2841 928 2578 \n",
       "Q 928 2378 1081 2264 \n",
       "Q 1234 2150 1697 2047 \n",
       "L 1894 2003 \n",
       "Q 2506 1872 2764 1633 \n",
       "Q 3022 1394 3022 966 \n",
       "Q 3022 478 2636 193 \n",
       "Q 2250 -91 1575 -91 \n",
       "Q 1294 -91 989 -36 \n",
       "Q 684 19 347 128 \n",
       "L 347 722 \n",
       "Q 666 556 975 473 \n",
       "Q 1284 391 1588 391 \n",
       "Q 1994 391 2212 530 \n",
       "Q 2431 669 2431 922 \n",
       "Q 2431 1156 2273 1281 \n",
       "Q 2116 1406 1581 1522 \n",
       "L 1381 1569 \n",
       "Q 847 1681 609 1914 \n",
       "Q 372 2147 372 2553 \n",
       "Q 372 3047 722 3315 \n",
       "Q 1072 3584 1716 3584 \n",
       "Q 2034 3584 2315 3537 \n",
       "Q 2597 3491 2834 3397 \n",
       "z\n",
       "\" transform=\"scale(0.015625)\"/>\n",
       "       <path id=\"DejaVuSans-20\" transform=\"scale(0.015625)\"/>\n",
       "       <path id=\"DejaVuSans-5b\" d=\"M 550 4863 \n",
       "L 1875 4863 \n",
       "L 1875 4416 \n",
       "L 1125 4416 \n",
       "L 1125 -397 \n",
       "L 1875 -397 \n",
       "L 1875 -844 \n",
       "L 550 -844 \n",
       "L 550 4863 \n",
       "z\n",
       "\" transform=\"scale(0.015625)\"/>\n",
       "       <path id=\"DejaVuSans-75\" d=\"M 544 1381 \n",
       "L 544 3500 \n",
       "L 1119 3500 \n",
       "L 1119 1403 \n",
       "Q 1119 906 1312 657 \n",
       "Q 1506 409 1894 409 \n",
       "Q 2359 409 2629 706 \n",
       "Q 2900 1003 2900 1516 \n",
       "L 2900 3500 \n",
       "L 3475 3500 \n",
       "L 3475 0 \n",
       "L 2900 0 \n",
       "L 2900 538 \n",
       "Q 2691 219 2414 64 \n",
       "Q 2138 -91 1772 -91 \n",
       "Q 1169 -91 856 284 \n",
       "Q 544 659 544 1381 \n",
       "z\n",
       "M 1991 3584 \n",
       "L 1991 3584 \n",
       "z\n",
       "\" transform=\"scale(0.015625)\"/>\n",
       "       <path id=\"DejaVuSans-5d\" d=\"M 1947 4863 \n",
       "L 1947 -844 \n",
       "L 622 -844 \n",
       "L 622 -397 \n",
       "L 1369 -397 \n",
       "L 1369 4416 \n",
       "L 622 4416 \n",
       "L 622 4863 \n",
       "L 1947 4863 \n",
       "z\n",
       "\" transform=\"scale(0.015625)\"/>\n",
       "      </defs>\n",
       "      <use xlink:href=\"#DejaVuSans-54\"/>\n",
       "      <use xlink:href=\"#DejaVuSans-69\" x=\"57.958984\"/>\n",
       "      <use xlink:href=\"#DejaVuSans-6d\" x=\"85.742188\"/>\n",
       "      <use xlink:href=\"#DejaVuSans-65\" x=\"183.154297\"/>\n",
       "      <use xlink:href=\"#DejaVuSans-73\" x=\"244.677734\"/>\n",
       "      <use xlink:href=\"#DejaVuSans-20\" x=\"296.777344\"/>\n",
       "      <use xlink:href=\"#DejaVuSans-5b\" x=\"328.564453\"/>\n",
       "      <use xlink:href=\"#DejaVuSans-75\" x=\"367.578125\"/>\n",
       "      <use xlink:href=\"#DejaVuSans-73\" x=\"430.957031\"/>\n",
       "      <use xlink:href=\"#DejaVuSans-5d\" x=\"483.056641\"/>\n",
       "     </g>\n",
       "    </g>\n",
       "   </g>\n",
       "   <g id=\"matplotlib.axis_2\">\n",
       "    <g id=\"ytick_1\">\n",
       "     <g id=\"line2d_6\">\n",
       "      <defs>\n",
       "       <path id=\"ma66b4aaf79\" d=\"M 0 0 \n",
       "L -3.5 0 \n",
       "\" style=\"stroke: #000000; stroke-width: 0.8\"/>\n",
       "      </defs>\n",
       "      <g>\n",
       "       <use xlink:href=\"#ma66b4aaf79\" x=\"43.78125\" y=\"271.826086\" style=\"stroke: #000000; stroke-width: 0.8\"/>\n",
       "      </g>\n",
       "     </g>\n",
       "     <g id=\"text_7\">\n",
       "      <!-- 0.0 -->\n",
       "      <g transform=\"translate(20.878125 275.625304) scale(0.1 -0.1)\">\n",
       "       <use xlink:href=\"#DejaVuSans-30\"/>\n",
       "       <use xlink:href=\"#DejaVuSans-2e\" x=\"63.623047\"/>\n",
       "       <use xlink:href=\"#DejaVuSans-30\" x=\"95.410156\"/>\n",
       "      </g>\n",
       "     </g>\n",
       "    </g>\n",
       "    <g id=\"ytick_2\">\n",
       "     <g id=\"line2d_7\">\n",
       "      <g>\n",
       "       <use xlink:href=\"#ma66b4aaf79\" x=\"43.78125\" y=\"233.028194\" style=\"stroke: #000000; stroke-width: 0.8\"/>\n",
       "      </g>\n",
       "     </g>\n",
       "     <g id=\"text_8\">\n",
       "      <!-- 0.5 -->\n",
       "      <g transform=\"translate(20.878125 236.827413) scale(0.1 -0.1)\">\n",
       "       <defs>\n",
       "        <path id=\"DejaVuSans-35\" d=\"M 691 4666 \n",
       "L 3169 4666 \n",
       "L 3169 4134 \n",
       "L 1269 4134 \n",
       "L 1269 2991 \n",
       "Q 1406 3038 1543 3061 \n",
       "Q 1681 3084 1819 3084 \n",
       "Q 2600 3084 3056 2656 \n",
       "Q 3513 2228 3513 1497 \n",
       "Q 3513 744 3044 326 \n",
       "Q 2575 -91 1722 -91 \n",
       "Q 1428 -91 1123 -41 \n",
       "Q 819 9 494 109 \n",
       "L 494 744 \n",
       "Q 775 591 1075 516 \n",
       "Q 1375 441 1709 441 \n",
       "Q 2250 441 2565 725 \n",
       "Q 2881 1009 2881 1497 \n",
       "Q 2881 1984 2565 2268 \n",
       "Q 2250 2553 1709 2553 \n",
       "Q 1456 2553 1204 2497 \n",
       "Q 953 2441 691 2322 \n",
       "L 691 4666 \n",
       "z\n",
       "\" transform=\"scale(0.015625)\"/>\n",
       "       </defs>\n",
       "       <use xlink:href=\"#DejaVuSans-30\"/>\n",
       "       <use xlink:href=\"#DejaVuSans-2e\" x=\"63.623047\"/>\n",
       "       <use xlink:href=\"#DejaVuSans-35\" x=\"95.410156\"/>\n",
       "      </g>\n",
       "     </g>\n",
       "    </g>\n",
       "    <g id=\"ytick_3\">\n",
       "     <g id=\"line2d_8\">\n",
       "      <g>\n",
       "       <use xlink:href=\"#ma66b4aaf79\" x=\"43.78125\" y=\"194.230303\" style=\"stroke: #000000; stroke-width: 0.8\"/>\n",
       "      </g>\n",
       "     </g>\n",
       "     <g id=\"text_9\">\n",
       "      <!-- 1.0 -->\n",
       "      <g transform=\"translate(20.878125 198.029522) scale(0.1 -0.1)\">\n",
       "       <use xlink:href=\"#DejaVuSans-31\"/>\n",
       "       <use xlink:href=\"#DejaVuSans-2e\" x=\"63.623047\"/>\n",
       "       <use xlink:href=\"#DejaVuSans-30\" x=\"95.410156\"/>\n",
       "      </g>\n",
       "     </g>\n",
       "    </g>\n",
       "    <g id=\"ytick_4\">\n",
       "     <g id=\"line2d_9\">\n",
       "      <g>\n",
       "       <use xlink:href=\"#ma66b4aaf79\" x=\"43.78125\" y=\"155.432412\" style=\"stroke: #000000; stroke-width: 0.8\"/>\n",
       "      </g>\n",
       "     </g>\n",
       "     <g id=\"text_10\">\n",
       "      <!-- 1.5 -->\n",
       "      <g transform=\"translate(20.878125 159.231631) scale(0.1 -0.1)\">\n",
       "       <use xlink:href=\"#DejaVuSans-31\"/>\n",
       "       <use xlink:href=\"#DejaVuSans-2e\" x=\"63.623047\"/>\n",
       "       <use xlink:href=\"#DejaVuSans-35\" x=\"95.410156\"/>\n",
       "      </g>\n",
       "     </g>\n",
       "    </g>\n",
       "    <g id=\"ytick_5\">\n",
       "     <g id=\"line2d_10\">\n",
       "      <g>\n",
       "       <use xlink:href=\"#ma66b4aaf79\" x=\"43.78125\" y=\"116.634521\" style=\"stroke: #000000; stroke-width: 0.8\"/>\n",
       "      </g>\n",
       "     </g>\n",
       "     <g id=\"text_11\">\n",
       "      <!-- 2.0 -->\n",
       "      <g transform=\"translate(20.878125 120.433739) scale(0.1 -0.1)\">\n",
       "       <use xlink:href=\"#DejaVuSans-32\"/>\n",
       "       <use xlink:href=\"#DejaVuSans-2e\" x=\"63.623047\"/>\n",
       "       <use xlink:href=\"#DejaVuSans-30\" x=\"95.410156\"/>\n",
       "      </g>\n",
       "     </g>\n",
       "    </g>\n",
       "    <g id=\"ytick_6\">\n",
       "     <g id=\"line2d_11\">\n",
       "      <g>\n",
       "       <use xlink:href=\"#ma66b4aaf79\" x=\"43.78125\" y=\"77.836629\" style=\"stroke: #000000; stroke-width: 0.8\"/>\n",
       "      </g>\n",
       "     </g>\n",
       "     <g id=\"text_12\">\n",
       "      <!-- 2.5 -->\n",
       "      <g transform=\"translate(20.878125 81.635848) scale(0.1 -0.1)\">\n",
       "       <use xlink:href=\"#DejaVuSans-32\"/>\n",
       "       <use xlink:href=\"#DejaVuSans-2e\" x=\"63.623047\"/>\n",
       "       <use xlink:href=\"#DejaVuSans-35\" x=\"95.410156\"/>\n",
       "      </g>\n",
       "     </g>\n",
       "    </g>\n",
       "    <g id=\"ytick_7\">\n",
       "     <g id=\"line2d_12\">\n",
       "      <g>\n",
       "       <use xlink:href=\"#ma66b4aaf79\" x=\"43.78125\" y=\"39.038738\" style=\"stroke: #000000; stroke-width: 0.8\"/>\n",
       "      </g>\n",
       "     </g>\n",
       "     <g id=\"text_13\">\n",
       "      <!-- 3.0 -->\n",
       "      <g transform=\"translate(20.878125 42.837957) scale(0.1 -0.1)\">\n",
       "       <use xlink:href=\"#DejaVuSans-33\"/>\n",
       "       <use xlink:href=\"#DejaVuSans-2e\" x=\"63.623047\"/>\n",
       "       <use xlink:href=\"#DejaVuSans-30\" x=\"95.410156\"/>\n",
       "      </g>\n",
       "     </g>\n",
       "    </g>\n",
       "    <g id=\"text_14\">\n",
       "     <!-- Amplitude [MHz] -->\n",
       "     <g transform=\"translate(14.798438 192.666156) rotate(-90) scale(0.1 -0.1)\">\n",
       "      <defs>\n",
       "       <path id=\"DejaVuSans-41\" d=\"M 2188 4044 \n",
       "L 1331 1722 \n",
       "L 3047 1722 \n",
       "L 2188 4044 \n",
       "z\n",
       "M 1831 4666 \n",
       "L 2547 4666 \n",
       "L 4325 0 \n",
       "L 3669 0 \n",
       "L 3244 1197 \n",
       "L 1141 1197 \n",
       "L 716 0 \n",
       "L 50 0 \n",
       "L 1831 4666 \n",
       "z\n",
       "\" transform=\"scale(0.015625)\"/>\n",
       "       <path id=\"DejaVuSans-70\" d=\"M 1159 525 \n",
       "L 1159 -1331 \n",
       "L 581 -1331 \n",
       "L 581 3500 \n",
       "L 1159 3500 \n",
       "L 1159 2969 \n",
       "Q 1341 3281 1617 3432 \n",
       "Q 1894 3584 2278 3584 \n",
       "Q 2916 3584 3314 3078 \n",
       "Q 3713 2572 3713 1747 \n",
       "Q 3713 922 3314 415 \n",
       "Q 2916 -91 2278 -91 \n",
       "Q 1894 -91 1617 61 \n",
       "Q 1341 213 1159 525 \n",
       "z\n",
       "M 3116 1747 \n",
       "Q 3116 2381 2855 2742 \n",
       "Q 2594 3103 2138 3103 \n",
       "Q 1681 3103 1420 2742 \n",
       "Q 1159 2381 1159 1747 \n",
       "Q 1159 1113 1420 752 \n",
       "Q 1681 391 2138 391 \n",
       "Q 2594 391 2855 752 \n",
       "Q 3116 1113 3116 1747 \n",
       "z\n",
       "\" transform=\"scale(0.015625)\"/>\n",
       "       <path id=\"DejaVuSans-6c\" d=\"M 603 4863 \n",
       "L 1178 4863 \n",
       "L 1178 0 \n",
       "L 603 0 \n",
       "L 603 4863 \n",
       "z\n",
       "\" transform=\"scale(0.015625)\"/>\n",
       "       <path id=\"DejaVuSans-74\" d=\"M 1172 4494 \n",
       "L 1172 3500 \n",
       "L 2356 3500 \n",
       "L 2356 3053 \n",
       "L 1172 3053 \n",
       "L 1172 1153 \n",
       "Q 1172 725 1289 603 \n",
       "Q 1406 481 1766 481 \n",
       "L 2356 481 \n",
       "L 2356 0 \n",
       "L 1766 0 \n",
       "Q 1100 0 847 248 \n",
       "Q 594 497 594 1153 \n",
       "L 594 3053 \n",
       "L 172 3053 \n",
       "L 172 3500 \n",
       "L 594 3500 \n",
       "L 594 4494 \n",
       "L 1172 4494 \n",
       "z\n",
       "\" transform=\"scale(0.015625)\"/>\n",
       "       <path id=\"DejaVuSans-64\" d=\"M 2906 2969 \n",
       "L 2906 4863 \n",
       "L 3481 4863 \n",
       "L 3481 0 \n",
       "L 2906 0 \n",
       "L 2906 525 \n",
       "Q 2725 213 2448 61 \n",
       "Q 2172 -91 1784 -91 \n",
       "Q 1150 -91 751 415 \n",
       "Q 353 922 353 1747 \n",
       "Q 353 2572 751 3078 \n",
       "Q 1150 3584 1784 3584 \n",
       "Q 2172 3584 2448 3432 \n",
       "Q 2725 3281 2906 2969 \n",
       "z\n",
       "M 947 1747 \n",
       "Q 947 1113 1208 752 \n",
       "Q 1469 391 1925 391 \n",
       "Q 2381 391 2643 752 \n",
       "Q 2906 1113 2906 1747 \n",
       "Q 2906 2381 2643 2742 \n",
       "Q 2381 3103 1925 3103 \n",
       "Q 1469 3103 1208 2742 \n",
       "Q 947 2381 947 1747 \n",
       "z\n",
       "\" transform=\"scale(0.015625)\"/>\n",
       "       <path id=\"DejaVuSans-4d\" d=\"M 628 4666 \n",
       "L 1569 4666 \n",
       "L 2759 1491 \n",
       "L 3956 4666 \n",
       "L 4897 4666 \n",
       "L 4897 0 \n",
       "L 4281 0 \n",
       "L 4281 4097 \n",
       "L 3078 897 \n",
       "L 2444 897 \n",
       "L 1241 4097 \n",
       "L 1241 0 \n",
       "L 628 0 \n",
       "L 628 4666 \n",
       "z\n",
       "\" transform=\"scale(0.015625)\"/>\n",
       "       <path id=\"DejaVuSans-48\" d=\"M 628 4666 \n",
       "L 1259 4666 \n",
       "L 1259 2753 \n",
       "L 3553 2753 \n",
       "L 3553 4666 \n",
       "L 4184 4666 \n",
       "L 4184 0 \n",
       "L 3553 0 \n",
       "L 3553 2222 \n",
       "L 1259 2222 \n",
       "L 1259 0 \n",
       "L 628 0 \n",
       "L 628 4666 \n",
       "z\n",
       "\" transform=\"scale(0.015625)\"/>\n",
       "       <path id=\"DejaVuSans-7a\" d=\"M 353 3500 \n",
       "L 3084 3500 \n",
       "L 3084 2975 \n",
       "L 922 459 \n",
       "L 3084 459 \n",
       "L 3084 0 \n",
       "L 275 0 \n",
       "L 275 525 \n",
       "L 2438 3041 \n",
       "L 353 3041 \n",
       "L 353 3500 \n",
       "z\n",
       "\" transform=\"scale(0.015625)\"/>\n",
       "      </defs>\n",
       "      <use xlink:href=\"#DejaVuSans-41\"/>\n",
       "      <use xlink:href=\"#DejaVuSans-6d\" x=\"68.408203\"/>\n",
       "      <use xlink:href=\"#DejaVuSans-70\" x=\"165.820312\"/>\n",
       "      <use xlink:href=\"#DejaVuSans-6c\" x=\"229.296875\"/>\n",
       "      <use xlink:href=\"#DejaVuSans-69\" x=\"257.080078\"/>\n",
       "      <use xlink:href=\"#DejaVuSans-74\" x=\"284.863281\"/>\n",
       "      <use xlink:href=\"#DejaVuSans-75\" x=\"324.072266\"/>\n",
       "      <use xlink:href=\"#DejaVuSans-64\" x=\"387.451172\"/>\n",
       "      <use xlink:href=\"#DejaVuSans-65\" x=\"450.927734\"/>\n",
       "      <use xlink:href=\"#DejaVuSans-20\" x=\"512.451172\"/>\n",
       "      <use xlink:href=\"#DejaVuSans-5b\" x=\"544.238281\"/>\n",
       "      <use xlink:href=\"#DejaVuSans-4d\" x=\"583.251953\"/>\n",
       "      <use xlink:href=\"#DejaVuSans-48\" x=\"669.53125\"/>\n",
       "      <use xlink:href=\"#DejaVuSans-7a\" x=\"744.726562\"/>\n",
       "      <use xlink:href=\"#DejaVuSans-5d\" x=\"797.216797\"/>\n",
       "     </g>\n",
       "    </g>\n",
       "    <g id=\"text_15\">\n",
       "     <!-- 1e7 -->\n",
       "     <g transform=\"translate(43.78125 14.798437) scale(0.1 -0.1)\">\n",
       "      <defs>\n",
       "       <path id=\"DejaVuSans-37\" d=\"M 525 4666 \n",
       "L 3525 4666 \n",
       "L 3525 4397 \n",
       "L 1831 0 \n",
       "L 1172 0 \n",
       "L 2766 4134 \n",
       "L 525 4134 \n",
       "L 525 4666 \n",
       "z\n",
       "\" transform=\"scale(0.015625)\"/>\n",
       "      </defs>\n",
       "      <use xlink:href=\"#DejaVuSans-31\"/>\n",
       "      <use xlink:href=\"#DejaVuSans-65\" x=\"63.623047\"/>\n",
       "      <use xlink:href=\"#DejaVuSans-37\" x=\"125.146484\"/>\n",
       "     </g>\n",
       "    </g>\n",
       "   </g>\n",
       "   <g id=\"line2d_13\">\n",
       "    <path d=\"M 60.013977 271.813053 \n",
       "L 64.401201 271.695575 \n",
       "L 68.788424 271.414432 \n",
       "L 73.175648 270.900793 \n",
       "L 77.562872 270.074347 \n",
       "L 81.950095 268.857398 \n",
       "L 86.337319 267.186755 \n",
       "L 90.724542 265.020533 \n",
       "L 95.111766 262.338981 \n",
       "L 99.49899 259.139643 \n",
       "L 103.886213 255.428378 \n",
       "L 108.273437 251.209269 \n",
       "L 112.66066 246.477645 \n",
       "L 117.047884 241.220709 \n",
       "L 121.435107 235.42865 \n",
       "L 125.822331 229.115775 \n",
       "L 130.209555 222.34712 \n",
       "L 134.596778 215.263439 \n",
       "L 138.984002 208.097603 \n",
       "L 143.371225 201.177999 \n",
       "L 147.758449 194.917731 \n",
       "L 152.145673 189.79089 \n",
       "L 156.532896 186.298312 \n",
       "L 160.92012 184.925132 \n",
       "L 165.307343 186.091109 \n",
       "L 169.694567 190.090914 \n",
       "L 174.081791 197.011613 \n",
       "L 178.469014 206.584415 \n",
       "L 182.856238 217.830671 \n",
       "L 187.243461 228.101157 \n",
       "L 191.630685 231.525594 \n",
       "L 196.017908 222.657966 \n",
       "L 200.405132 204.12955 \n",
       "L 204.792356 180.836793 \n",
       "L 209.179579 155.67936 \n",
       "L 213.566803 130.388839 \n",
       "L 217.954026 106.223758 \n",
       "L 222.34125 84.205871 \n",
       "L 226.728474 65.18345 \n",
       "L 231.115697 49.837086 \n",
       "L 235.502921 38.668118 \n",
       "L 239.890144 31.985018 \n",
       "L 244.277368 29.894438 \n",
       "L 248.664592 32.300166 \n",
       "L 253.051815 38.911535 \n",
       "L 257.439039 49.261738 \n",
       "L 261.826262 62.735739 \n",
       "L 266.213486 78.606791 \n",
       "L 270.600709 96.080038 \n",
       "L 274.987933 114.341287 \n",
       "L 279.375157 132.608753 \n",
       "L 283.76238 150.185234 \n",
       "L 288.149604 166.507462 \n",
       "L 292.536827 181.187574 \n",
       "L 296.924051 194.03862 \n",
       "L 301.311275 205.073256 \n",
       "L 305.698498 214.466834 \n",
       "L 310.085722 222.487564 \n",
       "L 314.472945 229.413556 \n",
       "L 318.860169 235.466044 \n",
       "L 323.247393 240.780419 \n",
       "L 327.634616 245.418304 \n",
       "L 332.02184 249.408037 \n",
       "L 336.409063 252.792532 \n",
       "L 340.796287 255.66094 \n",
       "L 345.18351 258.14638 \n",
       "L 349.570734 260.39103 \n",
       "L 353.957958 262.501483 \n",
       "L 358.345181 264.520663 \n",
       "L 362.732405 266.426415 \n",
       "L 367.119628 268.150633 \n",
       "L 371.506852 269.6074 \n",
       "L 375.894076 270.720829 \n",
       "L 380.281299 271.446973 \n",
       "L 384.668523 271.787033 \n",
       "\" clip-path=\"url(#pc03be79393)\" style=\"fill: none; stroke: #1f77b4; stroke-width: 1.5; stroke-linecap: square\"/>\n",
       "   </g>\n",
       "   <g id=\"line2d_14\">\n",
       "    <path d=\"M 60.013977 271.814437 \n",
       "L 64.401201 271.72689 \n",
       "L 68.788424 271.572697 \n",
       "L 73.175648 271.379369 \n",
       "L 77.562872 271.168108 \n",
       "L 81.950095 270.93741 \n",
       "L 86.337319 270.644724 \n",
       "L 90.724542 270.196909 \n",
       "L 95.111766 269.463539 \n",
       "L 99.49899 268.298846 \n",
       "L 103.886213 266.547357 \n",
       "L 108.273437 264.042857 \n",
       "L 112.66066 260.616533 \n",
       "L 117.047884 256.113658 \n",
       "L 121.435107 250.41263 \n",
       "L 125.822331 243.441828 \n",
       "L 130.209555 235.191655 \n",
       "L 134.596778 225.720306 \n",
       "L 138.984002 215.152647 \n",
       "L 143.371225 203.672375 \n",
       "L 147.758449 191.50835 \n",
       "L 152.145673 178.91667 \n",
       "L 156.532896 166.160531 \n",
       "L 160.92012 153.490176 \n",
       "L 165.307343 141.125199 \n",
       "L 169.694567 129.241161 \n",
       "L 174.081791 117.961957 \n",
       "L 178.469014 107.358649 \n",
       "L 182.856238 97.4547 \n",
       "L 187.243461 88.236791 \n",
       "L 191.630685 79.669742 \n",
       "L 196.017908 71.713587 \n",
       "L 200.405132 64.340683 \n",
       "L 204.792356 57.550714 \n",
       "L 209.179579 51.38181 \n",
       "L 213.566803 45.916461 \n",
       "L 217.954026 41.281558 \n",
       "L 222.34125 37.642556 \n",
       "L 226.728474 35.192418 \n",
       "L 231.115697 34.136501 \n",
       "L 235.502921 34.674955 \n",
       "L 239.890144 36.984339 \n",
       "L 244.277368 41.200159 \n",
       "L 248.664592 47.401873 \n",
       "L 253.051815 55.60155 \n",
       "L 257.439039 65.737025 \n",
       "L 261.826262 77.669965 \n",
       "L 266.213486 91.188877 \n",
       "L 270.600709 106.016753 \n",
       "L 274.987933 121.822755 \n",
       "L 279.375157 138.237144 \n",
       "L 283.76238 154.86848 \n",
       "L 288.149604 171.321985 \n",
       "L 292.536827 187.217867 \n",
       "L 296.924051 202.208327 \n",
       "L 301.311275 215.991863 \n",
       "L 305.698498 228.323368 \n",
       "L 310.085722 239.018196 \n",
       "L 314.472945 247.947737 \n",
       "L 318.860169 255.02352 \n",
       "L 323.247393 260.173724 \n",
       "L 327.634616 263.367284 \n",
       "L 332.02184 264.840236 \n",
       "L 336.409063 265.312019 \n",
       "L 340.796287 265.550862 \n",
       "L 345.18351 265.944023 \n",
       "L 349.570734 266.576552 \n",
       "L 353.957958 267.399343 \n",
       "L 358.345181 268.320137 \n",
       "L 362.732405 269.243397 \n",
       "L 367.119628 270.087388 \n",
       "L 371.506852 270.791339 \n",
       "L 375.894076 271.318036 \n",
       "L 380.281299 271.654067 \n",
       "L 384.668523 271.808549 \n",
       "\" clip-path=\"url(#pc03be79393)\" style=\"fill: none; stroke: #ff7f0e; stroke-width: 1.5; stroke-linecap: square\"/>\n",
       "   </g>\n",
       "   <g id=\"patch_3\">\n",
       "    <path d=\"M 43.78125 283.910438 \n",
       "L 43.78125 17.798438 \n",
       "\" style=\"fill: none; stroke: #000000; stroke-width: 0.8; stroke-linejoin: miter; stroke-linecap: square\"/>\n",
       "   </g>\n",
       "   <g id=\"patch_4\">\n",
       "    <path d=\"M 400.90125 283.910438 \n",
       "L 400.90125 17.798438 \n",
       "\" style=\"fill: none; stroke: #000000; stroke-width: 0.8; stroke-linejoin: miter; stroke-linecap: square\"/>\n",
       "   </g>\n",
       "   <g id=\"patch_5\">\n",
       "    <path d=\"M 43.78125 283.910437 \n",
       "L 400.90125 283.910437 \n",
       "\" style=\"fill: none; stroke: #000000; stroke-width: 0.8; stroke-linejoin: miter; stroke-linecap: square\"/>\n",
       "   </g>\n",
       "   <g id=\"patch_6\">\n",
       "    <path d=\"M 43.78125 17.798437 \n",
       "L 400.90125 17.798437 \n",
       "\" style=\"fill: none; stroke: #000000; stroke-width: 0.8; stroke-linejoin: miter; stroke-linecap: square\"/>\n",
       "   </g>\n",
       "   <g id=\"legend_1\">\n",
       "    <g id=\"patch_7\">\n",
       "     <path d=\"M 334.20125 55.195312 \n",
       "L 393.90125 55.195312 \n",
       "Q 395.90125 55.195312 395.90125 53.195312 \n",
       "L 395.90125 24.798438 \n",
       "Q 395.90125 22.798438 393.90125 22.798438 \n",
       "L 334.20125 22.798438 \n",
       "Q 332.20125 22.798438 332.20125 24.798438 \n",
       "L 332.20125 53.195312 \n",
       "Q 332.20125 55.195312 334.20125 55.195312 \n",
       "z\n",
       "\" style=\"fill: #ffffff; opacity: 0.8; stroke: #cccccc; stroke-linejoin: miter\"/>\n",
       "    </g>\n",
       "    <g id=\"line2d_15\">\n",
       "     <path d=\"M 336.20125 30.896875 \n",
       "L 346.20125 30.896875 \n",
       "L 356.20125 30.896875 \n",
       "\" style=\"fill: none; stroke: #1f77b4; stroke-width: 1.5; stroke-linecap: square\"/>\n",
       "    </g>\n",
       "    <g id=\"text_16\">\n",
       "     <!-- $Amp_0$ -->\n",
       "     <g transform=\"translate(364.20125 34.396875) scale(0.1 -0.1)\">\n",
       "      <defs>\n",
       "       <path id=\"DejaVuSans-Oblique-41\" d=\"M 2356 4666 \n",
       "L 3072 4666 \n",
       "L 3938 0 \n",
       "L 3278 0 \n",
       "L 3084 1197 \n",
       "L 984 1197 \n",
       "L 325 0 \n",
       "L -341 0 \n",
       "L 2356 4666 \n",
       "z\n",
       "M 2584 4044 \n",
       "L 1275 1722 \n",
       "L 2988 1722 \n",
       "L 2584 4044 \n",
       "z\n",
       "\" transform=\"scale(0.015625)\"/>\n",
       "       <path id=\"DejaVuSans-Oblique-6d\" d=\"M 5747 2113 \n",
       "L 5338 0 \n",
       "L 4763 0 \n",
       "L 5166 2094 \n",
       "Q 5191 2228 5203 2325 \n",
       "Q 5216 2422 5216 2491 \n",
       "Q 5216 2772 5059 2928 \n",
       "Q 4903 3084 4622 3084 \n",
       "Q 4203 3084 3875 2770 \n",
       "Q 3547 2456 3450 1953 \n",
       "L 3066 0 \n",
       "L 2491 0 \n",
       "L 2900 2094 \n",
       "Q 2925 2209 2937 2307 \n",
       "Q 2950 2406 2950 2484 \n",
       "Q 2950 2769 2794 2926 \n",
       "Q 2638 3084 2363 3084 \n",
       "Q 1938 3084 1609 2770 \n",
       "Q 1281 2456 1184 1953 \n",
       "L 800 0 \n",
       "L 225 0 \n",
       "L 909 3500 \n",
       "L 1484 3500 \n",
       "L 1375 2956 \n",
       "Q 1609 3263 1923 3423 \n",
       "Q 2238 3584 2597 3584 \n",
       "Q 2978 3584 3223 3384 \n",
       "Q 3469 3184 3519 2828 \n",
       "Q 3781 3197 4126 3390 \n",
       "Q 4472 3584 4856 3584 \n",
       "Q 5306 3584 5551 3325 \n",
       "Q 5797 3066 5797 2591 \n",
       "Q 5797 2488 5784 2364 \n",
       "Q 5772 2241 5747 2113 \n",
       "z\n",
       "\" transform=\"scale(0.015625)\"/>\n",
       "       <path id=\"DejaVuSans-Oblique-70\" d=\"M 3175 2156 \n",
       "Q 3175 2616 2975 2859 \n",
       "Q 2775 3103 2400 3103 \n",
       "Q 2144 3103 1911 2972 \n",
       "Q 1678 2841 1497 2591 \n",
       "Q 1319 2344 1212 1994 \n",
       "Q 1106 1644 1106 1300 \n",
       "Q 1106 863 1306 627 \n",
       "Q 1506 391 1875 391 \n",
       "Q 2147 391 2380 519 \n",
       "Q 2613 647 2778 891 \n",
       "Q 2956 1147 3065 1494 \n",
       "Q 3175 1841 3175 2156 \n",
       "z\n",
       "M 1394 2969 \n",
       "Q 1625 3272 1939 3428 \n",
       "Q 2253 3584 2638 3584 \n",
       "Q 3175 3584 3472 3232 \n",
       "Q 3769 2881 3769 2247 \n",
       "Q 3769 1728 3584 1258 \n",
       "Q 3400 788 3053 416 \n",
       "Q 2822 169 2531 39 \n",
       "Q 2241 -91 1919 -91 \n",
       "Q 1547 -91 1294 64 \n",
       "Q 1041 219 916 525 \n",
       "L 556 -1331 \n",
       "L -19 -1331 \n",
       "L 922 3500 \n",
       "L 1497 3500 \n",
       "L 1394 2969 \n",
       "z\n",
       "\" transform=\"scale(0.015625)\"/>\n",
       "      </defs>\n",
       "      <use xlink:href=\"#DejaVuSans-Oblique-41\" transform=\"translate(0 0.09375)\"/>\n",
       "      <use xlink:href=\"#DejaVuSans-Oblique-6d\" transform=\"translate(68.408203 0.09375)\"/>\n",
       "      <use xlink:href=\"#DejaVuSans-Oblique-70\" transform=\"translate(165.820312 0.09375)\"/>\n",
       "      <use xlink:href=\"#DejaVuSans-30\" transform=\"translate(229.296875 -16.3125) scale(0.7)\"/>\n",
       "     </g>\n",
       "    </g>\n",
       "    <g id=\"line2d_16\">\n",
       "     <path d=\"M 336.20125 45.595313 \n",
       "L 346.20125 45.595313 \n",
       "L 356.20125 45.595313 \n",
       "\" style=\"fill: none; stroke: #ff7f0e; stroke-width: 1.5; stroke-linecap: square\"/>\n",
       "    </g>\n",
       "    <g id=\"text_17\">\n",
       "     <!-- $Amp_1$ -->\n",
       "     <g transform=\"translate(364.20125 49.095313) scale(0.1 -0.1)\">\n",
       "      <use xlink:href=\"#DejaVuSans-Oblique-41\" transform=\"translate(0 0.09375)\"/>\n",
       "      <use xlink:href=\"#DejaVuSans-Oblique-6d\" transform=\"translate(68.408203 0.09375)\"/>\n",
       "      <use xlink:href=\"#DejaVuSans-Oblique-70\" transform=\"translate(165.820312 0.09375)\"/>\n",
       "      <use xlink:href=\"#DejaVuSans-31\" transform=\"translate(229.296875 -16.3125) scale(0.7)\"/>\n",
       "     </g>\n",
       "    </g>\n",
       "   </g>\n",
       "  </g>\n",
       " </g>\n",
       " <defs>\n",
       "  <clipPath id=\"pc03be79393\">\n",
       "   <rect x=\"43.78125\" y=\"17.798438\" width=\"357.12\" height=\"266.112\"/>\n",
       "  </clipPath>\n",
       " </defs>\n",
       "</svg>\n"
      ],
      "text/plain": [
       "<Figure size 640x480 with 1 Axes>"
      ]
     },
     "metadata": {},
     "output_type": "display_data"
    }
   ],
   "source": [
    "# pulse_filename = yaml_cfg.device.qubit.pulses.pulse_pp.filename\n",
    "# pulse_filename = yaml_cfg.device.qubit.pulses.pulse_1p.filename\n",
    "pulse_filename = yaml_cfg.device.qubit.pulses.pulse_p1.filename\n",
    "pulse_filepath = os.path.join(os.getcwd(), pulse_filename + '.npz')\n",
    "print(pulse_filename)\n",
    "\n",
    "pulse_params_dict = dict() # open file\n",
    "with np.load(pulse_filepath) as npzfile:\n",
    "    for key in npzfile.keys():\n",
    "        pulse_params_dict.update({key:npzfile[key]})\n",
    "\n",
    "print(pulse_params_dict.keys())\n",
    "IQ_qubits = [0, 1]\n",
    "print('IQ_qubits', IQ_qubits)\n",
    "\n",
    "times = pulse_params_dict['times']\n",
    "I_0 = pulse_params_dict['I_0']\n",
    "Q_0 = pulse_params_dict['Q_0']\n",
    "I_1 = pulse_params_dict['I_1']\n",
    "Q_1 = pulse_params_dict['Q_1']\n",
    "plt.figure()\n",
    "plt.plot(times*1e6, I_0*1e-6, label='$I_0$')\n",
    "plt.plot(times*1e6, Q_0*1e-6, label='$Q_0$')\n",
    "plt.plot(times*1e6, I_1*1e-6, label='$I_1$')\n",
    "plt.plot(times*1e6, Q_1*1e-6, label='$Q_1$')\n",
    "plt.legend()\n",
    "plt.xlabel('Times [us]')\n",
    "plt.ylabel('Amplitude [MHz]')\n",
    "plt.show()\n",
    "\n",
    "plt.figure()\n",
    "plt.plot(times*1e6, np.abs(I_0+1j*Q_0), label='$Amp_0$')\n",
    "plt.plot(times*1e6, np.abs(I_1+1j*Q_1), label='$Amp_1$')\n",
    "plt.legend()\n",
    "plt.xlabel('Times [us]')\n",
    "plt.ylabel('Amplitude [MHz]')\n",
    "plt.show()\n",
    "\n",
    "I_values_MHz = np.array([I_0, I_1])*1e-6\n",
    "Q_values_MHz = np.array([Q_0, Q_1])*1e-6\n",
    "times_us = times*1e6"
   ]
  },
  {
   "cell_type": "code",
   "execution_count": 54,
   "metadata": {},
   "outputs": [],
   "source": [
    "tomo_qubits = [0, 1] # which qubits to do tomo on\n",
    "\n",
    "# init_state = '|0+1>|0+1>' # this is just for reference when doing the 2Q tomo comparison\n",
    "# init_state = '|1>|0+1>' # this is just for reference when doing the 2Q tomo comparison\n",
    "init_state = '|0+1>|1>' # this is just for reference when doing the 2Q tomo comparison\n",
    "\n",
    "readout_cool = True"
   ]
  },
  {
   "cell_type": "code",
   "execution_count": 367,
   "metadata": {
    "tags": []
   },
   "outputs": [
    {
     "name": "stdout",
     "output_type": "stream",
     "text": [
      "number points 49\n",
      "gainpts Q0 [2000 2333 2666 2999 3332 3665 3998]\n",
      "gainpts Q1 [4200 4533 4866 5199 5532 5865 6198]\n"
     ]
    },
    {
     "data": {
      "application/vnd.jupyter.widget-view+json": {
       "model_id": "777e5bc7a0874f549fc44a9b1eef2ea8",
       "version_major": 2,
       "version_minor": 0
      },
      "text/plain": [
       "  0%|          | 0/4 [00:00<?, ?it/s]"
      ]
     },
     "metadata": {},
     "output_type": "display_data"
    },
    {
     "name": "stdout",
     "output_type": "stream",
     "text": [
      "Qubit (0)\n",
      "ge fidelity (%): 76.66922230741025 \t angle (deg): 26.03327721940717 \t threshold ge: 312.0803289891335\n",
      "Qubit (1)\n",
      "ge fidelity (%): 53.900000000000006 \t angle (deg): -173.43104307957515 \t threshold ge: 408.0059907231424\n"
     ]
    },
    {
     "data": {
      "application/vnd.jupyter.widget-view+json": {
       "model_id": "f05304135d7d4cf5929b9b834d7acdeb",
       "version_major": 2,
       "version_minor": 0
      },
      "text/plain": [
       "  0%|          | 0/2 [00:00<?, ?it/s]"
      ]
     },
     "metadata": {},
     "output_type": "display_data"
    },
    {
     "name": "stdout",
     "output_type": "stream",
     "text": [
      "Qubit (2) ge\n",
      "ge fidelity (%): 80.14 \t angle (deg): 155.72747849360348 \t threshold ge: 490.2627886037599\n"
     ]
    },
    {
     "data": {
      "application/vnd.jupyter.widget-view+json": {
       "model_id": "0f482eb01f084940bdfea42063ebbcb2",
       "version_major": 2,
       "version_minor": 0
      },
      "text/plain": [
       "  0%|          | 0/2 [00:00<?, ?it/s]"
      ]
     },
     "metadata": {},
     "output_type": "display_data"
    },
    {
     "name": "stdout",
     "output_type": "stream",
     "text": [
      "Qubit (3) ge\n",
      "ge fidelity (%): 75.26666666666667 \t angle (deg): 29.431008995938555 \t threshold ge: 76.64195865903628\n",
      "thresholds=[312.0803289891335, 408.0059907231424, 490.2627886037599, 76.64195865903628],\n",
      "angles=[26.03327721940717, -173.43104307957515, 155.72747849360348, 29.431008995938555],\n",
      "ge_avgs=[[199.03519633969907, 85.0020259837963, 540.181451461227, -83.35677699652778], [-296.75081434461805, -95.21728838975694, -508.2667942274306, -68.54649733072917], [-123.88178407118056, -398.12985993923616, -510.5924571180556, -594.4715744791666], [179.27013018663197, 433.4731576171875, 500.20205553385415, 250.7809875]],\n",
      "counts_calib=[[11409, 2199, 970, 422], [3815, 9681, 522, 982], [1715, 394, 9893, 2998], [817, 1527, 2300, 10356]]\n"
     ]
    },
    {
     "data": {
      "application/vnd.jupyter.widget-view+json": {
       "model_id": "8f680500508746f7b1418e18899d5045",
       "version_major": 2,
       "version_minor": 0
      },
      "text/plain": [
       "  0%|          | 0/7 [00:00<?, ?it/s]"
      ]
     },
     "metadata": {},
     "output_type": "display_data"
    },
    {
     "data": {
      "application/vnd.jupyter.widget-view+json": {
       "model_id": "235ea84a03814c75a3301fab73f9a161",
       "version_major": 2,
       "version_minor": 0
      },
      "text/plain": [
       "  0%|          | 0/7 [00:00<?, ?it/s]"
      ]
     },
     "metadata": {},
     "output_type": "display_data"
    },
    {
     "data": {
      "application/vnd.jupyter.widget-view+json": {
       "model_id": "d71dc117e3a94075b2b31b03fb069608",
       "version_major": 2,
       "version_minor": 0
      },
      "text/plain": [
       "  0%|          | 0/7 [00:00<?, ?it/s]"
      ]
     },
     "metadata": {},
     "output_type": "display_data"
    },
    {
     "data": {
      "application/vnd.jupyter.widget-view+json": {
       "model_id": "7b66adf7d33649cdb0b544d6d4604a2e",
       "version_major": 2,
       "version_minor": 0
      },
      "text/plain": [
       "  0%|          | 0/7 [00:00<?, ?it/s]"
      ]
     },
     "metadata": {},
     "output_type": "display_data"
    },
    {
     "data": {
      "application/vnd.jupyter.widget-view+json": {
       "model_id": "09d28e678dc24c7daeacc7e762b8664f",
       "version_major": 2,
       "version_minor": 0
      },
      "text/plain": [
       "  0%|          | 0/7 [00:00<?, ?it/s]"
      ]
     },
     "metadata": {},
     "output_type": "display_data"
    },
    {
     "data": {
      "application/vnd.jupyter.widget-view+json": {
       "model_id": "0facf014173d479ab6cf2f9e23cea9e4",
       "version_major": 2,
       "version_minor": 0
      },
      "text/plain": [
       "  0%|          | 0/7 [00:00<?, ?it/s]"
      ]
     },
     "metadata": {},
     "output_type": "display_data"
    },
    {
     "data": {
      "application/vnd.jupyter.widget-view+json": {
       "model_id": "cb8e133e66344887b7352664aaa941a6",
       "version_major": 2,
       "version_minor": 0
      },
      "text/plain": [
       "  0%|          | 0/7 [00:00<?, ?it/s]"
      ]
     },
     "metadata": {},
     "output_type": "display_data"
    },
    {
     "data": {
      "application/vnd.jupyter.widget-view+json": {
       "model_id": "f308191ebab943b6b809f41108f1e84e",
       "version_major": 2,
       "version_minor": 0
      },
      "text/plain": [
       "  0%|          | 0/7 [00:00<?, ?it/s]"
      ]
     },
     "metadata": {},
     "output_type": "display_data"
    }
   ],
   "source": [
    "centers = [3000, 5200]\n",
    "spans = [2000, 2000]\n",
    "# spans = [500, 500]\n",
    "npts = [6, 6]\n",
    "\n",
    "# centers = [4100, 5100]\n",
    "# spans = [0, 0]\n",
    "# npts = [1, 1]\n",
    "\n",
    "centers = np.array(centers)\n",
    "spans = np.array(spans)\n",
    "npts = np.array(npts)\n",
    "print('number points', (npts[0]+1)*(npts[1]+1))\n",
    "\n",
    "tomoExpt = meas.OptimalCtrlTomo2QExperiment(\n",
    "    soccfg=soc,\n",
    "    path=expt_path,\n",
    "    prefix=f\"OptimalCtrlTomo2Q_{tomo_qubits[0]}{tomo_qubits[1]}\",\n",
    "    config_file=config_path,\n",
    ")\n",
    "\n",
    "tomoExpt.cfg.expt = dict(\n",
    "    starts=(centers-spans/2).astype(int), # start gain for each qubit in IQ_qubits\n",
    "    steps=(spans/npts).astype(int),\n",
    "    expts=npts+1,\n",
    "    reps=5000, # reps per measurement basis\n",
    "    # reps=100, # reps per measurement basis\n",
    "    singleshot_reps=15000, # reps for single shot calib\n",
    "    # singleshot_reps=1000, # reps for single shot calib\n",
    "    tomo_qubits=tomo_qubits,\n",
    "    \n",
    "    Icontrols=I_values_MHz, # 2D array with array of Icontrols for each of IQ_qubits\n",
    "    Qcontrols=Q_values_MHz, # 2D array with array of Qcontrols for each of IQ_qubits\n",
    "    times_us=times_us,\n",
    "    IQ_qubits=IQ_qubits,\n",
    "    \n",
    "    readout_cool=readout_cool,\n",
    "    n_init_readout=1,\n",
    "    n_trig=1,\n",
    "    init_read_wait_us=10,\n",
    "   \n",
    "    # thresholds=[530.1641328860773, 298.0622274040452, 0, 0],\n",
    "    # angles=[-156.06235175077572, -177.6596617753593, 0, 0],\n",
    "    # ge_avgs=[[-442.594915, -279.7363071627907, -914.3632173488371, -39.117149279069764], [-177.4867981416169, 198.44441421595226, -387.54766318502436, 200.4889138632664], array([0., 0., 0., 0.]), array([0., 0., 0., 0.])],\n",
    "    # counts_calib=[[15698, 2664, 1281, 357], [3353, 14690, 562, 1395], [1904, 406, 14898, 2792], [820, 1603, 3297, 14280]]\n",
    ")\n",
    "\n",
    "# print(tomoExpt.cfg)\n",
    "import Pyro4.util\n",
    "try:\n",
    "    tomoExpt.acquire(progress=True, debug=False)\n",
    "except Exception:\n",
    "    print(\"Pyro traceback:\")\n",
    "    print(\"\".join(Pyro4.util.getPyroTraceback()))"
   ]
  },
  {
   "cell_type": "code",
   "execution_count": 368,
   "metadata": {},
   "outputs": [
    {
     "name": "stdout",
     "output_type": "stream",
     "text": [
      "Saving S:\\Connie\\experiments\\qramLL_4QR2\\data\\data_240617\\00220_OptimalCtrlTomo2Q_01.h5\n"
     ]
    },
    {
     "data": {
      "text/plain": [
       "'S:\\\\Connie\\\\experiments\\\\qramLL_4QR2\\\\data\\\\data_240617\\\\00220_OptimalCtrlTomo2Q_01.h5'"
      ]
     },
     "execution_count": 368,
     "metadata": {},
     "output_type": "execute_result"
    }
   ],
   "source": [
    "pulse_dict = tomoExpt.pulse_dict\n",
    "tomoExpt.save_data()"
   ]
  },
  {
   "cell_type": "code",
   "execution_count": 369,
   "metadata": {},
   "outputs": [],
   "source": [
    "apply_ps = True\n",
    "ps_adjust = [-0.3, -1.0, -0.3, -0.3]\n",
    "# ps_adjust = [np.inf]*4\n",
    "ps_qubits = [0, 1, 2, 3]"
   ]
  },
  {
   "cell_type": "code",
   "execution_count": 370,
   "metadata": {},
   "outputs": [
    {
     "name": "stdout",
     "output_type": "stream",
     "text": [
      "init_state |0+1>|1>\n",
      "Using evol mats from file S:\\Connie\\experiments\\qramLL_4QR2\\evol_mats\\evol_mats_01.npz\n",
      "2000 4200 fid 0.7900935947103881 purity 0.9264454457985281\n",
      "2000 4533 fid 0.7252161930390134 purity 0.8231540847372207\n"
     ]
    },
    {
     "name": "stderr",
     "output_type": "stream",
     "text": [
      "ComplexWarning: Casting complex values to real discards the imaginary part\n",
      " S:\\Connie\\experiments\\qramLL_4QR2\\TomoAnalysis.py: 757ComplexWarning: Casting complex values to real discards the imaginary part\n",
      " S:\\Connie\\experiments\\qramLL_4QR2\\TomoAnalysis.py: 762"
     ]
    },
    {
     "name": "stdout",
     "output_type": "stream",
     "text": [
      "2000 4866 fid 0.8096309724414746 purity 0.8898649511788913\n",
      "2000 5199 fid 0.8350459024922657 purity 0.8867231663415802\n",
      "2000 5532 fid 0.8672691344765677 purity 0.9323344636694888\n",
      "2000 5865 fid 0.7098493244203479 purity 0.7273143716327338\n",
      "2000 6198 fid 0.82624686324649 purity 0.9152988591225367\n",
      "2333 4200 fid 0.8246409787190135 purity 0.9999999999999989\n",
      "2333 4533 fid 0.8786613117637943 purity 0.9917800380852212\n",
      "2333 4866 fid 0.8295685160958223 purity 0.7779749029279631\n",
      "2333 5199 fid 0.8980605779608543 purity 0.9434951297632973\n",
      "2333 5532 fid 0.8454612584773566 purity 0.84982735787441\n",
      "2333 5865 fid 0.8277355548988974 purity 0.8739597963854973\n",
      "2333 6198 fid 0.8006882533941494 purity 0.8561253487969542\n",
      "2666 4200 fid 0.7518277412037819 purity 1.0000000000000002\n",
      "2666 4533 fid 0.8515566056677963 purity 0.8583551170326805\n",
      "2666 4866 fid 0.8813545311852964 purity 0.8821644736850136\n",
      "2666 5199 fid 0.9007145082293949 purity 0.9316244804477191\n",
      "2666 5532 fid 0.9042071647230624 purity 0.922449755467669\n",
      "2666 5865 fid 0.8182938516720214 purity 0.7848527043537352\n",
      "2666 6198 fid 0.8726783268747135 purity 0.9601574272906284\n",
      "2999 4200 fid 0.8592989857763443 purity 1.0000000000000013\n",
      "2999 4533 fid 0.8177322660209894 purity 0.8761367250587384\n",
      "2999 4866 fid 0.9113596868699947 purity 0.9482521388019828\n",
      "2999 5199 fid 0.8870292240879097 purity 0.8656903540797869\n",
      "2999 5532 fid 0.9243577344888096 purity 0.8820013485423933\n",
      "2999 5865 fid 0.9078566480285081 purity 0.8780009696151648\n",
      "2999 6198 fid 0.8634818208248815 purity 0.8952159037545985\n",
      "3332 4200 fid 0.6270687811016853 purity 0.6797889053707735\n",
      "3332 4533 fid 0.8547737522762908 purity 0.9414272765861895\n",
      "3332 4866 fid 0.8663948019141421 purity 0.8596313106694498\n",
      "3332 5199 fid 0.8170792520068887 purity 0.716916853103913\n",
      "3332 5532 fid 0.8345692413972385 purity 0.7931399704766899\n",
      "3332 5865 fid 0.8166291075467176 purity 0.725297314191159\n",
      "3332 6198 fid 0.9047533581548145 purity 0.9508313975586872\n",
      "3665 4200 fid 0.8504131517696994 purity 0.9383547056325106\n",
      "3665 4533 fid 0.8460653779239821 purity 0.8958036151598121\n",
      "3665 4866 fid 0.8211021733295236 purity 0.7993718799698037\n",
      "3665 5199 fid 0.8667233377411799 purity 0.8251670206531685\n",
      "3665 5532 fid 0.8401087311483454 purity 0.8104997829237315\n",
      "3665 5865 fid 0.789190768788249 purity 0.6924843716006945\n",
      "3665 6198 fid 0.871360202955859 purity 0.8447193131485784\n",
      "3998 4200 fid 0.8318030669114019 purity 0.9195003997647828\n",
      "3998 4533 fid 0.8661926891338259 purity 0.9064908617845016\n",
      "3998 4866 fid 0.850872336445035 purity 0.8000319793619156\n",
      "3998 5199 fid 0.8534847015185375 purity 0.7900828827530634\n",
      "3998 5532 fid 0.8101363141851246 purity 0.7386930566577334\n",
      "3998 5865 fid 0.9012570984112371 purity 0.8892515019467335\n",
      "3998 6198 fid 0.8657439906314739 purity 0.8367375400614212\n"
     ]
    },
    {
     "data": {
      "application/pdf": "[encoded data removed]",
      "image/svg+xml": [
       "<?xml version=\"1.0\" encoding=\"utf-8\" standalone=\"no\"?>\n",
       "<!DOCTYPE svg PUBLIC \"-//W3C//DTD SVG 1.1//EN\"\n",
       "  \"http://www.w3.org/Graphics/SVG/1.1/DTD/svg11.dtd\">\n",
       "<svg xmlns:xlink=\"http://www.w3.org/1999/xlink\" width=\"471.799125pt\" height=\"351.034375pt\" viewBox=\"0 0 471.799125 351.034375\" xmlns=\"http://www.w3.org/2000/svg\" version=\"1.1\">\n",
       " <metadata>\n",
       "  <rdf:RDF xmlns:dc=\"http://purl.org/dc/elements/1.1/\" xmlns:cc=\"http://creativecommons.org/ns#\" xmlns:rdf=\"http://www.w3.org/1999/02/22-rdf-syntax-ns#\">\n",
       "   <cc:Work>\n",
       "    <dc:type rdf:resource=\"http://purl.org/dc/dcmitype/StillImage\"/>\n",
       "    <dc:date>2024-09-22T19:51:19.640733</dc:date>\n",
       "    <dc:format>image/svg+xml</dc:format>\n",
       "    <dc:creator>\n",
       "     <cc:Agent>\n",
       "      <dc:title>Matplotlib v3.7.2, https://matplotlib.org/</dc:title>\n",
       "     </cc:Agent>\n",
       "    </dc:creator>\n",
       "   </cc:Work>\n",
       "  </rdf:RDF>\n",
       " </metadata>\n",
       " <defs>\n",
       "  <style type=\"text/css\">*{stroke-linejoin: round; stroke-linecap: butt}</style>\n",
       " </defs>\n",
       " <g id=\"figure_1\">\n",
       "  <g id=\"patch_1\">\n",
       "   <path d=\"M 0 351.034375 \n",
       "L 471.799125 351.034375 \n",
       "L 471.799125 0 \n",
       "L 0 0 \n",
       "z\n",
       "\" style=\"fill: #ffffff\"/>\n",
       "  </g>\n",
       "  <g id=\"axes_1\">\n",
       "   <g id=\"patch_2\">\n",
       "    <path d=\"M 53.328125 313.478125 \n",
       "L 402.152125 313.478125 \n",
       "L 402.152125 22.318125 \n",
       "L 53.328125 22.318125 \n",
       "z\n",
       "\" style=\"fill: #ffffff\"/>\n",
       "   </g>\n",
       "   <g clip-path=\"url(#p1044ec2169)\">\n",
       "    <image xlink:href=\"data:image/png;base64,\n",
       "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\" id=\"image807b070512\" transform=\"scale(1 -1) translate(0 -291.6)\" x=\"53.328125\" y=\"-21.878125\" width=\"349.2\" height=\"291.6\"/>\n",
       "   </g>\n",
       "   <g id=\"matplotlib.axis_1\">\n",
       "    <g id=\"xtick_1\">\n",
       "     <g id=\"line2d_1\">\n",
       "      <defs>\n",
       "       <path id=\"maf14d78a64\" d=\"M 0 0 \n",
       "L 0 3.5 \n",
       "\" style=\"stroke: #000000; stroke-width: 0.8\"/>\n",
       "      </defs>\n",
       "      <g>\n",
       "       <use xlink:href=\"#maf14d78a64\" x=\"53.328125\" y=\"313.478125\" style=\"stroke: #000000; stroke-width: 0.8\"/>\n",
       "      </g>\n",
       "     </g>\n",
       "     <g id=\"text_1\">\n",
       "      <!-- 2000 -->\n",
       "      <g transform=\"translate(40.603125 328.076563) scale(0.1 -0.1)\">\n",
       "       <defs>\n",
       "        <path id=\"DejaVuSans-32\" d=\"M 1228 531 \n",
       "L 3431 531 \n",
       "L 3431 0 \n",
       "L 469 0 \n",
       "L 469 531 \n",
       "Q 828 903 1448 1529 \n",
       "Q 2069 2156 2228 2338 \n",
       "Q 2531 2678 2651 2914 \n",
       "Q 2772 3150 2772 3378 \n",
       "Q 2772 3750 2511 3984 \n",
       "Q 2250 4219 1831 4219 \n",
       "Q 1534 4219 1204 4116 \n",
       "Q 875 4013 500 3803 \n",
       "L 500 4441 \n",
       "Q 881 4594 1212 4672 \n",
       "Q 1544 4750 1819 4750 \n",
       "Q 2544 4750 2975 4387 \n",
       "Q 3406 4025 3406 3419 \n",
       "Q 3406 3131 3298 2873 \n",
       "Q 3191 2616 2906 2266 \n",
       "Q 2828 2175 2409 1742 \n",
       "Q 1991 1309 1228 531 \n",
       "z\n",
       "\" transform=\"scale(0.015625)\"/>\n",
       "        <path id=\"DejaVuSans-30\" d=\"M 2034 4250 \n",
       "Q 1547 4250 1301 3770 \n",
       "Q 1056 3291 1056 2328 \n",
       "Q 1056 1369 1301 889 \n",
       "Q 1547 409 2034 409 \n",
       "Q 2525 409 2770 889 \n",
       "Q 3016 1369 3016 2328 \n",
       "Q 3016 3291 2770 3770 \n",
       "Q 2525 4250 2034 4250 \n",
       "z\n",
       "M 2034 4750 \n",
       "Q 2819 4750 3233 4129 \n",
       "Q 3647 3509 3647 2328 \n",
       "Q 3647 1150 3233 529 \n",
       "Q 2819 -91 2034 -91 \n",
       "Q 1250 -91 836 529 \n",
       "Q 422 1150 422 2328 \n",
       "Q 422 3509 836 4129 \n",
       "Q 1250 4750 2034 4750 \n",
       "z\n",
       "\" transform=\"scale(0.015625)\"/>\n",
       "       </defs>\n",
       "       <use xlink:href=\"#DejaVuSans-32\"/>\n",
       "       <use xlink:href=\"#DejaVuSans-30\" x=\"63.623047\"/>\n",
       "       <use xlink:href=\"#DejaVuSans-30\" x=\"127.246094\"/>\n",
       "       <use xlink:href=\"#DejaVuSans-30\" x=\"190.869141\"/>\n",
       "      </g>\n",
       "     </g>\n",
       "    </g>\n",
       "    <g id=\"xtick_2\">\n",
       "     <g id=\"line2d_2\">\n",
       "      <g>\n",
       "       <use xlink:href=\"#maf14d78a64\" x=\"96.974772\" y=\"313.478125\" style=\"stroke: #000000; stroke-width: 0.8\"/>\n",
       "      </g>\n",
       "     </g>\n",
       "     <g id=\"text_2\">\n",
       "      <!-- 2250 -->\n",
       "      <g transform=\"translate(84.249772 328.076563) scale(0.1 -0.1)\">\n",
       "       <defs>\n",
       "        <path id=\"DejaVuSans-35\" d=\"M 691 4666 \n",
       "L 3169 4666 \n",
       "L 3169 4134 \n",
       "L 1269 4134 \n",
       "L 1269 2991 \n",
       "Q 1406 3038 1543 3061 \n",
       "Q 1681 3084 1819 3084 \n",
       "Q 2600 3084 3056 2656 \n",
       "Q 3513 2228 3513 1497 \n",
       "Q 3513 744 3044 326 \n",
       "Q 2575 -91 1722 -91 \n",
       "Q 1428 -91 1123 -41 \n",
       "Q 819 9 494 109 \n",
       "L 494 744 \n",
       "Q 775 591 1075 516 \n",
       "Q 1375 441 1709 441 \n",
       "Q 2250 441 2565 725 \n",
       "Q 2881 1009 2881 1497 \n",
       "Q 2881 1984 2565 2268 \n",
       "Q 2250 2553 1709 2553 \n",
       "Q 1456 2553 1204 2497 \n",
       "Q 953 2441 691 2322 \n",
       "L 691 4666 \n",
       "z\n",
       "\" transform=\"scale(0.015625)\"/>\n",
       "       </defs>\n",
       "       <use xlink:href=\"#DejaVuSans-32\"/>\n",
       "       <use xlink:href=\"#DejaVuSans-32\" x=\"63.623047\"/>\n",
       "       <use xlink:href=\"#DejaVuSans-35\" x=\"127.246094\"/>\n",
       "       <use xlink:href=\"#DejaVuSans-30\" x=\"190.869141\"/>\n",
       "      </g>\n",
       "     </g>\n",
       "    </g>\n",
       "    <g id=\"xtick_3\">\n",
       "     <g id=\"line2d_3\">\n",
       "      <g>\n",
       "       <use xlink:href=\"#maf14d78a64\" x=\"140.621418\" y=\"313.478125\" style=\"stroke: #000000; stroke-width: 0.8\"/>\n",
       "      </g>\n",
       "     </g>\n",
       "     <g id=\"text_3\">\n",
       "      <!-- 2500 -->\n",
       "      <g transform=\"translate(127.896418 328.076563) scale(0.1 -0.1)\">\n",
       "       <use xlink:href=\"#DejaVuSans-32\"/>\n",
       "       <use xlink:href=\"#DejaVuSans-35\" x=\"63.623047\"/>\n",
       "       <use xlink:href=\"#DejaVuSans-30\" x=\"127.246094\"/>\n",
       "       <use xlink:href=\"#DejaVuSans-30\" x=\"190.869141\"/>\n",
       "      </g>\n",
       "     </g>\n",
       "    </g>\n",
       "    <g id=\"xtick_4\">\n",
       "     <g id=\"line2d_4\">\n",
       "      <g>\n",
       "       <use xlink:href=\"#maf14d78a64\" x=\"184.268065\" y=\"313.478125\" style=\"stroke: #000000; stroke-width: 0.8\"/>\n",
       "      </g>\n",
       "     </g>\n",
       "     <g id=\"text_4\">\n",
       "      <!-- 2750 -->\n",
       "      <g transform=\"translate(171.543065 328.076563) scale(0.1 -0.1)\">\n",
       "       <defs>\n",
       "        <path id=\"DejaVuSans-37\" d=\"M 525 4666 \n",
       "L 3525 4666 \n",
       "L 3525 4397 \n",
       "L 1831 0 \n",
       "L 1172 0 \n",
       "L 2766 4134 \n",
       "L 525 4134 \n",
       "L 525 4666 \n",
       "z\n",
       "\" transform=\"scale(0.015625)\"/>\n",
       "       </defs>\n",
       "       <use xlink:href=\"#DejaVuSans-32\"/>\n",
       "       <use xlink:href=\"#DejaVuSans-37\" x=\"63.623047\"/>\n",
       "       <use xlink:href=\"#DejaVuSans-35\" x=\"127.246094\"/>\n",
       "       <use xlink:href=\"#DejaVuSans-30\" x=\"190.869141\"/>\n",
       "      </g>\n",
       "     </g>\n",
       "    </g>\n",
       "    <g id=\"xtick_5\">\n",
       "     <g id=\"line2d_5\">\n",
       "      <g>\n",
       "       <use xlink:href=\"#maf14d78a64\" x=\"227.914712\" y=\"313.478125\" style=\"stroke: #000000; stroke-width: 0.8\"/>\n",
       "      </g>\n",
       "     </g>\n",
       "     <g id=\"text_5\">\n",
       "      <!-- 3000 -->\n",
       "      <g transform=\"translate(215.189712 328.076563) scale(0.1 -0.1)\">\n",
       "       <defs>\n",
       "        <path id=\"DejaVuSans-33\" d=\"M 2597 2516 \n",
       "Q 3050 2419 3304 2112 \n",
       "Q 3559 1806 3559 1356 \n",
       "Q 3559 666 3084 287 \n",
       "Q 2609 -91 1734 -91 \n",
       "Q 1441 -91 1130 -33 \n",
       "Q 819 25 488 141 \n",
       "L 488 750 \n",
       "Q 750 597 1062 519 \n",
       "Q 1375 441 1716 441 \n",
       "Q 2309 441 2620 675 \n",
       "Q 2931 909 2931 1356 \n",
       "Q 2931 1769 2642 2001 \n",
       "Q 2353 2234 1838 2234 \n",
       "L 1294 2234 \n",
       "L 1294 2753 \n",
       "L 1863 2753 \n",
       "Q 2328 2753 2575 2939 \n",
       "Q 2822 3125 2822 3475 \n",
       "Q 2822 3834 2567 4026 \n",
       "Q 2313 4219 1838 4219 \n",
       "Q 1578 4219 1281 4162 \n",
       "Q 984 4106 628 3988 \n",
       "L 628 4550 \n",
       "Q 988 4650 1302 4700 \n",
       "Q 1616 4750 1894 4750 \n",
       "Q 2613 4750 3031 4423 \n",
       "Q 3450 4097 3450 3541 \n",
       "Q 3450 3153 3228 2886 \n",
       "Q 3006 2619 2597 2516 \n",
       "z\n",
       "\" transform=\"scale(0.015625)\"/>\n",
       "       </defs>\n",
       "       <use xlink:href=\"#DejaVuSans-33\"/>\n",
       "       <use xlink:href=\"#DejaVuSans-30\" x=\"63.623047\"/>\n",
       "       <use xlink:href=\"#DejaVuSans-30\" x=\"127.246094\"/>\n",
       "       <use xlink:href=\"#DejaVuSans-30\" x=\"190.869141\"/>\n",
       "      </g>\n",
       "     </g>\n",
       "    </g>\n",
       "    <g id=\"xtick_6\">\n",
       "     <g id=\"line2d_6\">\n",
       "      <g>\n",
       "       <use xlink:href=\"#maf14d78a64\" x=\"271.561358\" y=\"313.478125\" style=\"stroke: #000000; stroke-width: 0.8\"/>\n",
       "      </g>\n",
       "     </g>\n",
       "     <g id=\"text_6\">\n",
       "      <!-- 3250 -->\n",
       "      <g transform=\"translate(258.836358 328.076563) scale(0.1 -0.1)\">\n",
       "       <use xlink:href=\"#DejaVuSans-33\"/>\n",
       "       <use xlink:href=\"#DejaVuSans-32\" x=\"63.623047\"/>\n",
       "       <use xlink:href=\"#DejaVuSans-35\" x=\"127.246094\"/>\n",
       "       <use xlink:href=\"#DejaVuSans-30\" x=\"190.869141\"/>\n",
       "      </g>\n",
       "     </g>\n",
       "    </g>\n",
       "    <g id=\"xtick_7\">\n",
       "     <g id=\"line2d_7\">\n",
       "      <g>\n",
       "       <use xlink:href=\"#maf14d78a64\" x=\"315.208005\" y=\"313.478125\" style=\"stroke: #000000; stroke-width: 0.8\"/>\n",
       "      </g>\n",
       "     </g>\n",
       "     <g id=\"text_7\">\n",
       "      <!-- 3500 -->\n",
       "      <g transform=\"translate(302.483005 328.076563) scale(0.1 -0.1)\">\n",
       "       <use xlink:href=\"#DejaVuSans-33\"/>\n",
       "       <use xlink:href=\"#DejaVuSans-35\" x=\"63.623047\"/>\n",
       "       <use xlink:href=\"#DejaVuSans-30\" x=\"127.246094\"/>\n",
       "       <use xlink:href=\"#DejaVuSans-30\" x=\"190.869141\"/>\n",
       "      </g>\n",
       "     </g>\n",
       "    </g>\n",
       "    <g id=\"xtick_8\">\n",
       "     <g id=\"line2d_8\">\n",
       "      <g>\n",
       "       <use xlink:href=\"#maf14d78a64\" x=\"358.854652\" y=\"313.478125\" style=\"stroke: #000000; stroke-width: 0.8\"/>\n",
       "      </g>\n",
       "     </g>\n",
       "     <g id=\"text_8\">\n",
       "      <!-- 3750 -->\n",
       "      <g transform=\"translate(346.129652 328.076563) scale(0.1 -0.1)\">\n",
       "       <use xlink:href=\"#DejaVuSans-33\"/>\n",
       "       <use xlink:href=\"#DejaVuSans-37\" x=\"63.623047\"/>\n",
       "       <use xlink:href=\"#DejaVuSans-35\" x=\"127.246094\"/>\n",
       "       <use xlink:href=\"#DejaVuSans-30\" x=\"190.869141\"/>\n",
       "      </g>\n",
       "     </g>\n",
       "    </g>\n",
       "    <g id=\"text_9\">\n",
       "     <!-- Gain Q0 -->\n",
       "     <g transform=\"translate(207.537781 341.754687) scale(0.1 -0.1)\">\n",
       "      <defs>\n",
       "       <path id=\"DejaVuSans-47\" d=\"M 3809 666 \n",
       "L 3809 1919 \n",
       "L 2778 1919 \n",
       "L 2778 2438 \n",
       "L 4434 2438 \n",
       "L 4434 434 \n",
       "Q 4069 175 3628 42 \n",
       "Q 3188 -91 2688 -91 \n",
       "Q 1594 -91 976 548 \n",
       "Q 359 1188 359 2328 \n",
       "Q 359 3472 976 4111 \n",
       "Q 1594 4750 2688 4750 \n",
       "Q 3144 4750 3555 4637 \n",
       "Q 3966 4525 4313 4306 \n",
       "L 4313 3634 \n",
       "Q 3963 3931 3569 4081 \n",
       "Q 3175 4231 2741 4231 \n",
       "Q 1884 4231 1454 3753 \n",
       "Q 1025 3275 1025 2328 \n",
       "Q 1025 1384 1454 906 \n",
       "Q 1884 428 2741 428 \n",
       "Q 3075 428 3337 486 \n",
       "Q 3600 544 3809 666 \n",
       "z\n",
       "\" transform=\"scale(0.015625)\"/>\n",
       "       <path id=\"DejaVuSans-61\" d=\"M 2194 1759 \n",
       "Q 1497 1759 1228 1600 \n",
       "Q 959 1441 959 1056 \n",
       "Q 959 750 1161 570 \n",
       "Q 1363 391 1709 391 \n",
       "Q 2188 391 2477 730 \n",
       "Q 2766 1069 2766 1631 \n",
       "L 2766 1759 \n",
       "L 2194 1759 \n",
       "z\n",
       "M 3341 1997 \n",
       "L 3341 0 \n",
       "L 2766 0 \n",
       "L 2766 531 \n",
       "Q 2569 213 2275 61 \n",
       "Q 1981 -91 1556 -91 \n",
       "Q 1019 -91 701 211 \n",
       "Q 384 513 384 1019 \n",
       "Q 384 1609 779 1909 \n",
       "Q 1175 2209 1959 2209 \n",
       "L 2766 2209 \n",
       "L 2766 2266 \n",
       "Q 2766 2663 2505 2880 \n",
       "Q 2244 3097 1772 3097 \n",
       "Q 1472 3097 1187 3025 \n",
       "Q 903 2953 641 2809 \n",
       "L 641 3341 \n",
       "Q 956 3463 1253 3523 \n",
       "Q 1550 3584 1831 3584 \n",
       "Q 2591 3584 2966 3190 \n",
       "Q 3341 2797 3341 1997 \n",
       "z\n",
       "\" transform=\"scale(0.015625)\"/>\n",
       "       <path id=\"DejaVuSans-69\" d=\"M 603 3500 \n",
       "L 1178 3500 \n",
       "L 1178 0 \n",
       "L 603 0 \n",
       "L 603 3500 \n",
       "z\n",
       "M 603 4863 \n",
       "L 1178 4863 \n",
       "L 1178 4134 \n",
       "L 603 4134 \n",
       "L 603 4863 \n",
       "z\n",
       "\" transform=\"scale(0.015625)\"/>\n",
       "       <path id=\"DejaVuSans-6e\" d=\"M 3513 2113 \n",
       "L 3513 0 \n",
       "L 2938 0 \n",
       "L 2938 2094 \n",
       "Q 2938 2591 2744 2837 \n",
       "Q 2550 3084 2163 3084 \n",
       "Q 1697 3084 1428 2787 \n",
       "Q 1159 2491 1159 1978 \n",
       "L 1159 0 \n",
       "L 581 0 \n",
       "L 581 3500 \n",
       "L 1159 3500 \n",
       "L 1159 2956 \n",
       "Q 1366 3272 1645 3428 \n",
       "Q 1925 3584 2291 3584 \n",
       "Q 2894 3584 3203 3211 \n",
       "Q 3513 2838 3513 2113 \n",
       "z\n",
       "\" transform=\"scale(0.015625)\"/>\n",
       "       <path id=\"DejaVuSans-20\" transform=\"scale(0.015625)\"/>\n",
       "       <path id=\"DejaVuSans-51\" d=\"M 2522 4238 \n",
       "Q 1834 4238 1429 3725 \n",
       "Q 1025 3213 1025 2328 \n",
       "Q 1025 1447 1429 934 \n",
       "Q 1834 422 2522 422 \n",
       "Q 3209 422 3611 934 \n",
       "Q 4013 1447 4013 2328 \n",
       "Q 4013 3213 3611 3725 \n",
       "Q 3209 4238 2522 4238 \n",
       "z\n",
       "M 3406 84 \n",
       "L 4238 -825 \n",
       "L 3475 -825 \n",
       "L 2784 -78 \n",
       "Q 2681 -84 2626 -87 \n",
       "Q 2572 -91 2522 -91 \n",
       "Q 1538 -91 948 567 \n",
       "Q 359 1225 359 2328 \n",
       "Q 359 3434 948 4092 \n",
       "Q 1538 4750 2522 4750 \n",
       "Q 3503 4750 4090 4092 \n",
       "Q 4678 3434 4678 2328 \n",
       "Q 4678 1516 4351 937 \n",
       "Q 4025 359 3406 84 \n",
       "z\n",
       "\" transform=\"scale(0.015625)\"/>\n",
       "      </defs>\n",
       "      <use xlink:href=\"#DejaVuSans-47\"/>\n",
       "      <use xlink:href=\"#DejaVuSans-61\" x=\"77.490234\"/>\n",
       "      <use xlink:href=\"#DejaVuSans-69\" x=\"138.769531\"/>\n",
       "      <use xlink:href=\"#DejaVuSans-6e\" x=\"166.552734\"/>\n",
       "      <use xlink:href=\"#DejaVuSans-20\" x=\"229.931641\"/>\n",
       "      <use xlink:href=\"#DejaVuSans-51\" x=\"261.71875\"/>\n",
       "      <use xlink:href=\"#DejaVuSans-30\" x=\"340.429688\"/>\n",
       "     </g>\n",
       "    </g>\n",
       "   </g>\n",
       "   <g id=\"matplotlib.axis_2\">\n",
       "    <g id=\"ytick_1\">\n",
       "     <g id=\"line2d_9\">\n",
       "      <defs>\n",
       "       <path id=\"m7f2ec6c711\" d=\"M 0 0 \n",
       "L -3.5 0 \n",
       "\" style=\"stroke: #000000; stroke-width: 0.8\"/>\n",
       "      </defs>\n",
       "      <g>\n",
       "       <use xlink:href=\"#m7f2ec6c711\" x=\"53.328125\" y=\"306.191839\" style=\"stroke: #000000; stroke-width: 0.8\"/>\n",
       "      </g>\n",
       "     </g>\n",
       "     <g id=\"text_10\">\n",
       "      <!-- 4250 -->\n",
       "      <g transform=\"translate(20.878125 309.991057) scale(0.1 -0.1)\">\n",
       "       <defs>\n",
       "        <path id=\"DejaVuSans-34\" d=\"M 2419 4116 \n",
       "L 825 1625 \n",
       "L 2419 1625 \n",
       "L 2419 4116 \n",
       "z\n",
       "M 2253 4666 \n",
       "L 3047 4666 \n",
       "L 3047 1625 \n",
       "L 3713 1625 \n",
       "L 3713 1100 \n",
       "L 3047 1100 \n",
       "L 3047 0 \n",
       "L 2419 0 \n",
       "L 2419 1100 \n",
       "L 313 1100 \n",
       "L 313 1709 \n",
       "L 2253 4666 \n",
       "z\n",
       "\" transform=\"scale(0.015625)\"/>\n",
       "       </defs>\n",
       "       <use xlink:href=\"#DejaVuSans-34\"/>\n",
       "       <use xlink:href=\"#DejaVuSans-32\" x=\"63.623047\"/>\n",
       "       <use xlink:href=\"#DejaVuSans-35\" x=\"127.246094\"/>\n",
       "       <use xlink:href=\"#DejaVuSans-30\" x=\"190.869141\"/>\n",
       "      </g>\n",
       "     </g>\n",
       "    </g>\n",
       "    <g id=\"ytick_2\">\n",
       "     <g id=\"line2d_10\">\n",
       "      <g>\n",
       "       <use xlink:href=\"#m7f2ec6c711\" x=\"53.328125\" y=\"269.760407\" style=\"stroke: #000000; stroke-width: 0.8\"/>\n",
       "      </g>\n",
       "     </g>\n",
       "     <g id=\"text_11\">\n",
       "      <!-- 4500 -->\n",
       "      <g transform=\"translate(20.878125 273.559626) scale(0.1 -0.1)\">\n",
       "       <use xlink:href=\"#DejaVuSans-34\"/>\n",
       "       <use xlink:href=\"#DejaVuSans-35\" x=\"63.623047\"/>\n",
       "       <use xlink:href=\"#DejaVuSans-30\" x=\"127.246094\"/>\n",
       "       <use xlink:href=\"#DejaVuSans-30\" x=\"190.869141\"/>\n",
       "      </g>\n",
       "     </g>\n",
       "    </g>\n",
       "    <g id=\"ytick_3\">\n",
       "     <g id=\"line2d_11\">\n",
       "      <g>\n",
       "       <use xlink:href=\"#m7f2ec6c711\" x=\"53.328125\" y=\"233.328976\" style=\"stroke: #000000; stroke-width: 0.8\"/>\n",
       "      </g>\n",
       "     </g>\n",
       "     <g id=\"text_12\">\n",
       "      <!-- 4750 -->\n",
       "      <g transform=\"translate(20.878125 237.128195) scale(0.1 -0.1)\">\n",
       "       <use xlink:href=\"#DejaVuSans-34\"/>\n",
       "       <use xlink:href=\"#DejaVuSans-37\" x=\"63.623047\"/>\n",
       "       <use xlink:href=\"#DejaVuSans-35\" x=\"127.246094\"/>\n",
       "       <use xlink:href=\"#DejaVuSans-30\" x=\"190.869141\"/>\n",
       "      </g>\n",
       "     </g>\n",
       "    </g>\n",
       "    <g id=\"ytick_4\">\n",
       "     <g id=\"line2d_12\">\n",
       "      <g>\n",
       "       <use xlink:href=\"#m7f2ec6c711\" x=\"53.328125\" y=\"196.897544\" style=\"stroke: #000000; stroke-width: 0.8\"/>\n",
       "      </g>\n",
       "     </g>\n",
       "     <g id=\"text_13\">\n",
       "      <!-- 5000 -->\n",
       "      <g transform=\"translate(20.878125 200.696763) scale(0.1 -0.1)\">\n",
       "       <use xlink:href=\"#DejaVuSans-35\"/>\n",
       "       <use xlink:href=\"#DejaVuSans-30\" x=\"63.623047\"/>\n",
       "       <use xlink:href=\"#DejaVuSans-30\" x=\"127.246094\"/>\n",
       "       <use xlink:href=\"#DejaVuSans-30\" x=\"190.869141\"/>\n",
       "      </g>\n",
       "     </g>\n",
       "    </g>\n",
       "    <g id=\"ytick_5\">\n",
       "     <g id=\"line2d_13\">\n",
       "      <g>\n",
       "       <use xlink:href=\"#m7f2ec6c711\" x=\"53.328125\" y=\"160.466113\" style=\"stroke: #000000; stroke-width: 0.8\"/>\n",
       "      </g>\n",
       "     </g>\n",
       "     <g id=\"text_14\">\n",
       "      <!-- 5250 -->\n",
       "      <g transform=\"translate(20.878125 164.265332) scale(0.1 -0.1)\">\n",
       "       <use xlink:href=\"#DejaVuSans-35\"/>\n",
       "       <use xlink:href=\"#DejaVuSans-32\" x=\"63.623047\"/>\n",
       "       <use xlink:href=\"#DejaVuSans-35\" x=\"127.246094\"/>\n",
       "       <use xlink:href=\"#DejaVuSans-30\" x=\"190.869141\"/>\n",
       "      </g>\n",
       "     </g>\n",
       "    </g>\n",
       "    <g id=\"ytick_6\">\n",
       "     <g id=\"line2d_14\">\n",
       "      <g>\n",
       "       <use xlink:href=\"#m7f2ec6c711\" x=\"53.328125\" y=\"124.034682\" style=\"stroke: #000000; stroke-width: 0.8\"/>\n",
       "      </g>\n",
       "     </g>\n",
       "     <g id=\"text_15\">\n",
       "      <!-- 5500 -->\n",
       "      <g transform=\"translate(20.878125 127.8339) scale(0.1 -0.1)\">\n",
       "       <use xlink:href=\"#DejaVuSans-35\"/>\n",
       "       <use xlink:href=\"#DejaVuSans-35\" x=\"63.623047\"/>\n",
       "       <use xlink:href=\"#DejaVuSans-30\" x=\"127.246094\"/>\n",
       "       <use xlink:href=\"#DejaVuSans-30\" x=\"190.869141\"/>\n",
       "      </g>\n",
       "     </g>\n",
       "    </g>\n",
       "    <g id=\"ytick_7\">\n",
       "     <g id=\"line2d_15\">\n",
       "      <g>\n",
       "       <use xlink:href=\"#m7f2ec6c711\" x=\"53.328125\" y=\"87.60325\" style=\"stroke: #000000; stroke-width: 0.8\"/>\n",
       "      </g>\n",
       "     </g>\n",
       "     <g id=\"text_16\">\n",
       "      <!-- 5750 -->\n",
       "      <g transform=\"translate(20.878125 91.402469) scale(0.1 -0.1)\">\n",
       "       <use xlink:href=\"#DejaVuSans-35\"/>\n",
       "       <use xlink:href=\"#DejaVuSans-37\" x=\"63.623047\"/>\n",
       "       <use xlink:href=\"#DejaVuSans-35\" x=\"127.246094\"/>\n",
       "       <use xlink:href=\"#DejaVuSans-30\" x=\"190.869141\"/>\n",
       "      </g>\n",
       "     </g>\n",
       "    </g>\n",
       "    <g id=\"ytick_8\">\n",
       "     <g id=\"line2d_16\">\n",
       "      <g>\n",
       "       <use xlink:href=\"#m7f2ec6c711\" x=\"53.328125\" y=\"51.171819\" style=\"stroke: #000000; stroke-width: 0.8\"/>\n",
       "      </g>\n",
       "     </g>\n",
       "     <g id=\"text_17\">\n",
       "      <!-- 6000 -->\n",
       "      <g transform=\"translate(20.878125 54.971037) scale(0.1 -0.1)\">\n",
       "       <defs>\n",
       "        <path id=\"DejaVuSans-36\" d=\"M 2113 2584 \n",
       "Q 1688 2584 1439 2293 \n",
       "Q 1191 2003 1191 1497 \n",
       "Q 1191 994 1439 701 \n",
       "Q 1688 409 2113 409 \n",
       "Q 2538 409 2786 701 \n",
       "Q 3034 994 3034 1497 \n",
       "Q 3034 2003 2786 2293 \n",
       "Q 2538 2584 2113 2584 \n",
       "z\n",
       "M 3366 4563 \n",
       "L 3366 3988 \n",
       "Q 3128 4100 2886 4159 \n",
       "Q 2644 4219 2406 4219 \n",
       "Q 1781 4219 1451 3797 \n",
       "Q 1122 3375 1075 2522 \n",
       "Q 1259 2794 1537 2939 \n",
       "Q 1816 3084 2150 3084 \n",
       "Q 2853 3084 3261 2657 \n",
       "Q 3669 2231 3669 1497 \n",
       "Q 3669 778 3244 343 \n",
       "Q 2819 -91 2113 -91 \n",
       "Q 1303 -91 875 529 \n",
       "Q 447 1150 447 2328 \n",
       "Q 447 3434 972 4092 \n",
       "Q 1497 4750 2381 4750 \n",
       "Q 2619 4750 2861 4703 \n",
       "Q 3103 4656 3366 4563 \n",
       "z\n",
       "\" transform=\"scale(0.015625)\"/>\n",
       "       </defs>\n",
       "       <use xlink:href=\"#DejaVuSans-36\"/>\n",
       "       <use xlink:href=\"#DejaVuSans-30\" x=\"63.623047\"/>\n",
       "       <use xlink:href=\"#DejaVuSans-30\" x=\"127.246094\"/>\n",
       "       <use xlink:href=\"#DejaVuSans-30\" x=\"190.869141\"/>\n",
       "      </g>\n",
       "     </g>\n",
       "    </g>\n",
       "    <g id=\"text_18\">\n",
       "     <!-- Gain Q1 -->\n",
       "     <g transform=\"translate(14.798438 188.100469) rotate(-90) scale(0.1 -0.1)\">\n",
       "      <defs>\n",
       "       <path id=\"DejaVuSans-31\" d=\"M 794 531 \n",
       "L 1825 531 \n",
       "L 1825 4091 \n",
       "L 703 3866 \n",
       "L 703 4441 \n",
       "L 1819 4666 \n",
       "L 2450 4666 \n",
       "L 2450 531 \n",
       "L 3481 531 \n",
       "L 3481 0 \n",
       "L 794 0 \n",
       "L 794 531 \n",
       "z\n",
       "\" transform=\"scale(0.015625)\"/>\n",
       "      </defs>\n",
       "      <use xlink:href=\"#DejaVuSans-47\"/>\n",
       "      <use xlink:href=\"#DejaVuSans-61\" x=\"77.490234\"/>\n",
       "      <use xlink:href=\"#DejaVuSans-69\" x=\"138.769531\"/>\n",
       "      <use xlink:href=\"#DejaVuSans-6e\" x=\"166.552734\"/>\n",
       "      <use xlink:href=\"#DejaVuSans-20\" x=\"229.931641\"/>\n",
       "      <use xlink:href=\"#DejaVuSans-51\" x=\"261.71875\"/>\n",
       "      <use xlink:href=\"#DejaVuSans-31\" x=\"340.429688\"/>\n",
       "     </g>\n",
       "    </g>\n",
       "   </g>\n",
       "   <g id=\"patch_3\">\n",
       "    <path d=\"M 53.328125 313.478125 \n",
       "L 53.328125 22.318125 \n",
       "\" style=\"fill: none; stroke: #000000; stroke-width: 0.8; stroke-linejoin: miter; stroke-linecap: square\"/>\n",
       "   </g>\n",
       "   <g id=\"patch_4\">\n",
       "    <path d=\"M 402.152125 313.478125 \n",
       "L 402.152125 22.318125 \n",
       "\" style=\"fill: none; stroke: #000000; stroke-width: 0.8; stroke-linejoin: miter; stroke-linecap: square\"/>\n",
       "   </g>\n",
       "   <g id=\"patch_5\">\n",
       "    <path d=\"M 53.328125 313.478125 \n",
       "L 402.152125 313.478125 \n",
       "\" style=\"fill: none; stroke: #000000; stroke-width: 0.8; stroke-linejoin: miter; stroke-linecap: square\"/>\n",
       "   </g>\n",
       "   <g id=\"patch_6\">\n",
       "    <path d=\"M 53.328125 22.318125 \n",
       "L 402.152125 22.318125 \n",
       "\" style=\"fill: none; stroke: #000000; stroke-width: 0.8; stroke-linejoin: miter; stroke-linecap: square\"/>\n",
       "   </g>\n",
       "   <g id=\"text_19\">\n",
       "    <!-- Fidelities (%) -->\n",
       "    <g transform=\"translate(189.096375 16.318125) scale(0.12 -0.12)\">\n",
       "     <defs>\n",
       "      <path id=\"DejaVuSans-46\" d=\"M 628 4666 \n",
       "L 3309 4666 \n",
       "L 3309 4134 \n",
       "L 1259 4134 \n",
       "L 1259 2759 \n",
       "L 3109 2759 \n",
       "L 3109 2228 \n",
       "L 1259 2228 \n",
       "L 1259 0 \n",
       "L 628 0 \n",
       "L 628 4666 \n",
       "z\n",
       "\" transform=\"scale(0.015625)\"/>\n",
       "      <path id=\"DejaVuSans-64\" d=\"M 2906 2969 \n",
       "L 2906 4863 \n",
       "L 3481 4863 \n",
       "L 3481 0 \n",
       "L 2906 0 \n",
       "L 2906 525 \n",
       "Q 2725 213 2448 61 \n",
       "Q 2172 -91 1784 -91 \n",
       "Q 1150 -91 751 415 \n",
       "Q 353 922 353 1747 \n",
       "Q 353 2572 751 3078 \n",
       "Q 1150 3584 1784 3584 \n",
       "Q 2172 3584 2448 3432 \n",
       "Q 2725 3281 2906 2969 \n",
       "z\n",
       "M 947 1747 \n",
       "Q 947 1113 1208 752 \n",
       "Q 1469 391 1925 391 \n",
       "Q 2381 391 2643 752 \n",
       "Q 2906 1113 2906 1747 \n",
       "Q 2906 2381 2643 2742 \n",
       "Q 2381 3103 1925 3103 \n",
       "Q 1469 3103 1208 2742 \n",
       "Q 947 2381 947 1747 \n",
       "z\n",
       "\" transform=\"scale(0.015625)\"/>\n",
       "      <path id=\"DejaVuSans-65\" d=\"M 3597 1894 \n",
       "L 3597 1613 \n",
       "L 953 1613 \n",
       "Q 991 1019 1311 708 \n",
       "Q 1631 397 2203 397 \n",
       "Q 2534 397 2845 478 \n",
       "Q 3156 559 3463 722 \n",
       "L 3463 178 \n",
       "Q 3153 47 2828 -22 \n",
       "Q 2503 -91 2169 -91 \n",
       "Q 1331 -91 842 396 \n",
       "Q 353 884 353 1716 \n",
       "Q 353 2575 817 3079 \n",
       "Q 1281 3584 2069 3584 \n",
       "Q 2775 3584 3186 3129 \n",
       "Q 3597 2675 3597 1894 \n",
       "z\n",
       "M 3022 2063 \n",
       "Q 3016 2534 2758 2815 \n",
       "Q 2500 3097 2075 3097 \n",
       "Q 1594 3097 1305 2825 \n",
       "Q 1016 2553 972 2059 \n",
       "L 3022 2063 \n",
       "z\n",
       "\" transform=\"scale(0.015625)\"/>\n",
       "      <path id=\"DejaVuSans-6c\" d=\"M 603 4863 \n",
       "L 1178 4863 \n",
       "L 1178 0 \n",
       "L 603 0 \n",
       "L 603 4863 \n",
       "z\n",
       "\" transform=\"scale(0.015625)\"/>\n",
       "      <path id=\"DejaVuSans-74\" d=\"M 1172 4494 \n",
       "L 1172 3500 \n",
       "L 2356 3500 \n",
       "L 2356 3053 \n",
       "L 1172 3053 \n",
       "L 1172 1153 \n",
       "Q 1172 725 1289 603 \n",
       "Q 1406 481 1766 481 \n",
       "L 2356 481 \n",
       "L 2356 0 \n",
       "L 1766 0 \n",
       "Q 1100 0 847 248 \n",
       "Q 594 497 594 1153 \n",
       "L 594 3053 \n",
       "L 172 3053 \n",
       "L 172 3500 \n",
       "L 594 3500 \n",
       "L 594 4494 \n",
       "L 1172 4494 \n",
       "z\n",
       "\" transform=\"scale(0.015625)\"/>\n",
       "      <path id=\"DejaVuSans-73\" d=\"M 2834 3397 \n",
       "L 2834 2853 \n",
       "Q 2591 2978 2328 3040 \n",
       "Q 2066 3103 1784 3103 \n",
       "Q 1356 3103 1142 2972 \n",
       "Q 928 2841 928 2578 \n",
       "Q 928 2378 1081 2264 \n",
       "Q 1234 2150 1697 2047 \n",
       "L 1894 2003 \n",
       "Q 2506 1872 2764 1633 \n",
       "Q 3022 1394 3022 966 \n",
       "Q 3022 478 2636 193 \n",
       "Q 2250 -91 1575 -91 \n",
       "Q 1294 -91 989 -36 \n",
       "Q 684 19 347 128 \n",
       "L 347 722 \n",
       "Q 666 556 975 473 \n",
       "Q 1284 391 1588 391 \n",
       "Q 1994 391 2212 530 \n",
       "Q 2431 669 2431 922 \n",
       "Q 2431 1156 2273 1281 \n",
       "Q 2116 1406 1581 1522 \n",
       "L 1381 1569 \n",
       "Q 847 1681 609 1914 \n",
       "Q 372 2147 372 2553 \n",
       "Q 372 3047 722 3315 \n",
       "Q 1072 3584 1716 3584 \n",
       "Q 2034 3584 2315 3537 \n",
       "Q 2597 3491 2834 3397 \n",
       "z\n",
       "\" transform=\"scale(0.015625)\"/>\n",
       "      <path id=\"DejaVuSans-28\" d=\"M 1984 4856 \n",
       "Q 1566 4138 1362 3434 \n",
       "Q 1159 2731 1159 2009 \n",
       "Q 1159 1288 1364 580 \n",
       "Q 1569 -128 1984 -844 \n",
       "L 1484 -844 \n",
       "Q 1016 -109 783 600 \n",
       "Q 550 1309 550 2009 \n",
       "Q 550 2706 781 3412 \n",
       "Q 1013 4119 1484 4856 \n",
       "L 1984 4856 \n",
       "z\n",
       "\" transform=\"scale(0.015625)\"/>\n",
       "      <path id=\"DejaVuSans-25\" d=\"M 4653 2053 \n",
       "Q 4381 2053 4226 1822 \n",
       "Q 4072 1591 4072 1178 \n",
       "Q 4072 772 4226 539 \n",
       "Q 4381 306 4653 306 \n",
       "Q 4919 306 5073 539 \n",
       "Q 5228 772 5228 1178 \n",
       "Q 5228 1588 5073 1820 \n",
       "Q 4919 2053 4653 2053 \n",
       "z\n",
       "M 4653 2450 \n",
       "Q 5147 2450 5437 2106 \n",
       "Q 5728 1763 5728 1178 \n",
       "Q 5728 594 5436 251 \n",
       "Q 5144 -91 4653 -91 \n",
       "Q 4153 -91 3862 251 \n",
       "Q 3572 594 3572 1178 \n",
       "Q 3572 1766 3864 2108 \n",
       "Q 4156 2450 4653 2450 \n",
       "z\n",
       "M 1428 4353 \n",
       "Q 1159 4353 1004 4120 \n",
       "Q 850 3888 850 3481 \n",
       "Q 850 3069 1003 2837 \n",
       "Q 1156 2606 1428 2606 \n",
       "Q 1700 2606 1854 2837 \n",
       "Q 2009 3069 2009 3481 \n",
       "Q 2009 3884 1853 4118 \n",
       "Q 1697 4353 1428 4353 \n",
       "z\n",
       "M 4250 4750 \n",
       "L 4750 4750 \n",
       "L 1831 -91 \n",
       "L 1331 -91 \n",
       "L 4250 4750 \n",
       "z\n",
       "M 1428 4750 \n",
       "Q 1922 4750 2215 4408 \n",
       "Q 2509 4066 2509 3481 \n",
       "Q 2509 2891 2217 2550 \n",
       "Q 1925 2209 1428 2209 \n",
       "Q 931 2209 642 2551 \n",
       "Q 353 2894 353 3481 \n",
       "Q 353 4063 643 4406 \n",
       "Q 934 4750 1428 4750 \n",
       "z\n",
       "\" transform=\"scale(0.015625)\"/>\n",
       "      <path id=\"DejaVuSans-29\" d=\"M 513 4856 \n",
       "L 1013 4856 \n",
       "Q 1481 4119 1714 3412 \n",
       "Q 1947 2706 1947 2009 \n",
       "Q 1947 1309 1714 600 \n",
       "Q 1481 -109 1013 -844 \n",
       "L 513 -844 \n",
       "Q 928 -128 1133 580 \n",
       "Q 1338 1288 1338 2009 \n",
       "Q 1338 2731 1133 3434 \n",
       "Q 928 4138 513 4856 \n",
       "z\n",
       "\" transform=\"scale(0.015625)\"/>\n",
       "     </defs>\n",
       "     <use xlink:href=\"#DejaVuSans-46\"/>\n",
       "     <use xlink:href=\"#DejaVuSans-69\" x=\"50.269531\"/>\n",
       "     <use xlink:href=\"#DejaVuSans-64\" x=\"78.052734\"/>\n",
       "     <use xlink:href=\"#DejaVuSans-65\" x=\"141.529297\"/>\n",
       "     <use xlink:href=\"#DejaVuSans-6c\" x=\"203.052734\"/>\n",
       "     <use xlink:href=\"#DejaVuSans-69\" x=\"230.835938\"/>\n",
       "     <use xlink:href=\"#DejaVuSans-74\" x=\"258.619141\"/>\n",
       "     <use xlink:href=\"#DejaVuSans-69\" x=\"297.828125\"/>\n",
       "     <use xlink:href=\"#DejaVuSans-65\" x=\"325.611328\"/>\n",
       "     <use xlink:href=\"#DejaVuSans-73\" x=\"387.134766\"/>\n",
       "     <use xlink:href=\"#DejaVuSans-20\" x=\"439.234375\"/>\n",
       "     <use xlink:href=\"#DejaVuSans-28\" x=\"471.021484\"/>\n",
       "     <use xlink:href=\"#DejaVuSans-25\" x=\"510.035156\"/>\n",
       "     <use xlink:href=\"#DejaVuSans-29\" x=\"605.054688\"/>\n",
       "    </g>\n",
       "   </g>\n",
       "  </g>\n",
       "  <g id=\"axes_2\">\n",
       "   <g id=\"patch_7\">\n",
       "    <path d=\"M 423.953625 313.478125 \n",
       "L 438.511625 313.478125 \n",
       "L 438.511625 22.318125 \n",
       "L 423.953625 22.318125 \n",
       "z\n",
       "\" style=\"fill: #ffffff\"/>\n",
       "   </g>\n",
       "   <image xlink:href=\"data:image/png;base64,\n",
       "iVBORw0KGgoAAAANSUhEUgAAABQAAAGVCAYAAAD+EtHEAAACJElEQVR4nO2di20EQQhD50NpKSH9l5JNEbyRbBkKQHifgZm7097+2b/fAuOQydZaq9Zmc9Y+G004kvuBS35QIfwMa211KPvAPtSXvGDJLzqF9qH8cNj0PNSXzFOe1utGJJS8afOAsryxE6HkSY6jzFf48VDQfAZQDCjjkmnbvFgBbEIDKPo+nGnTDgcobD4DKPXF+bC+OMovKoQT5u1lB8k8ZTZhYuvRz9Bh69Hf+Dj4kE1o4cNpvWZYSE6jrD8cLG4BcEIHyrP1mqE/HEZyP/Ql63fK3Eb7YSB5Wq8d40MgYaDkab12PPAhm89B8viwHTMPBRPq+9BAsn6FgVACJetXmAdF/xnq+1CfciKUQMlrs1cffR8atJ5+hQOFSJjWegZHEX0fPmg9dR8Gnr4cKmRtYyB5Wq+fEP562cDYBlD0W2+tuGmz83wYKZlNqD8PDSjrQ6GfYeA8LFixheRpvW7USYSCS0bzGVA2gHLgM7b+cIikHCdZfzhYtF6cD3nKcZIfVEh/EGQgeXzYjfFhP+rsPzqhvOSh3A2+wpt3+gpsvTtQumHReurTBj993TjJL3xIt578tOEl6y96/vSVJtlg6+XNQwPJ9LQxuJo5SKZbT3/R05IdVoB8hXm3APz0pU85cMAanL74FZAGxeF6Kz8cIqHgtwB1yfD7ti0kwwlfHEXohPBvf/Wh1JV/y+WBoVhQVq+Qtk0duEh9KHXl/3xTHso/kbeOLKQXoWEAAAAASUVORK5CYII=\" id=\"image9380cadaad\" transform=\"scale(1 -1) translate(0 -291.6)\" x=\"424.08\" y=\"-21.6\" width=\"14.4\" height=\"291.6\"/>\n",
       "   <g id=\"matplotlib.axis_3\"/>\n",
       "   <g id=\"matplotlib.axis_4\">\n",
       "    <g id=\"ytick_9\">\n",
       "     <g id=\"line2d_17\">\n",
       "      <defs>\n",
       "       <path id=\"m58148d106a\" d=\"M 0 0 \n",
       "L 3.5 0 \n",
       "\" style=\"stroke: #000000; stroke-width: 0.8\"/>\n",
       "      </defs>\n",
       "      <g>\n",
       "       <use xlink:href=\"#m58148d106a\" x=\"438.511625\" y=\"313.478125\" style=\"stroke: #000000; stroke-width: 0.8\"/>\n",
       "      </g>\n",
       "     </g>\n",
       "     <g id=\"text_20\">\n",
       "      <!-- 50 -->\n",
       "      <g transform=\"translate(445.511625 317.277344) scale(0.1 -0.1)\">\n",
       "       <use xlink:href=\"#DejaVuSans-35\"/>\n",
       "       <use xlink:href=\"#DejaVuSans-30\" x=\"63.623047\"/>\n",
       "      </g>\n",
       "     </g>\n",
       "    </g>\n",
       "    <g id=\"ytick_10\">\n",
       "     <g id=\"line2d_18\">\n",
       "      <g>\n",
       "       <use xlink:href=\"#m58148d106a\" x=\"438.511625\" y=\"255.246125\" style=\"stroke: #000000; stroke-width: 0.8\"/>\n",
       "      </g>\n",
       "     </g>\n",
       "     <g id=\"text_21\">\n",
       "      <!-- 60 -->\n",
       "      <g transform=\"translate(445.511625 259.045344) scale(0.1 -0.1)\">\n",
       "       <use xlink:href=\"#DejaVuSans-36\"/>\n",
       "       <use xlink:href=\"#DejaVuSans-30\" x=\"63.623047\"/>\n",
       "      </g>\n",
       "     </g>\n",
       "    </g>\n",
       "    <g id=\"ytick_11\">\n",
       "     <g id=\"line2d_19\">\n",
       "      <g>\n",
       "       <use xlink:href=\"#m58148d106a\" x=\"438.511625\" y=\"197.014125\" style=\"stroke: #000000; stroke-width: 0.8\"/>\n",
       "      </g>\n",
       "     </g>\n",
       "     <g id=\"text_22\">\n",
       "      <!-- 70 -->\n",
       "      <g transform=\"translate(445.511625 200.813344) scale(0.1 -0.1)\">\n",
       "       <use xlink:href=\"#DejaVuSans-37\"/>\n",
       "       <use xlink:href=\"#DejaVuSans-30\" x=\"63.623047\"/>\n",
       "      </g>\n",
       "     </g>\n",
       "    </g>\n",
       "    <g id=\"ytick_12\">\n",
       "     <g id=\"line2d_20\">\n",
       "      <g>\n",
       "       <use xlink:href=\"#m58148d106a\" x=\"438.511625\" y=\"138.782125\" style=\"stroke: #000000; stroke-width: 0.8\"/>\n",
       "      </g>\n",
       "     </g>\n",
       "     <g id=\"text_23\">\n",
       "      <!-- 80 -->\n",
       "      <g transform=\"translate(445.511625 142.581344) scale(0.1 -0.1)\">\n",
       "       <defs>\n",
       "        <path id=\"DejaVuSans-38\" d=\"M 2034 2216 \n",
       "Q 1584 2216 1326 1975 \n",
       "Q 1069 1734 1069 1313 \n",
       "Q 1069 891 1326 650 \n",
       "Q 1584 409 2034 409 \n",
       "Q 2484 409 2743 651 \n",
       "Q 3003 894 3003 1313 \n",
       "Q 3003 1734 2745 1975 \n",
       "Q 2488 2216 2034 2216 \n",
       "z\n",
       "M 1403 2484 \n",
       "Q 997 2584 770 2862 \n",
       "Q 544 3141 544 3541 \n",
       "Q 544 4100 942 4425 \n",
       "Q 1341 4750 2034 4750 \n",
       "Q 2731 4750 3128 4425 \n",
       "Q 3525 4100 3525 3541 \n",
       "Q 3525 3141 3298 2862 \n",
       "Q 3072 2584 2669 2484 \n",
       "Q 3125 2378 3379 2068 \n",
       "Q 3634 1759 3634 1313 \n",
       "Q 3634 634 3220 271 \n",
       "Q 2806 -91 2034 -91 \n",
       "Q 1263 -91 848 271 \n",
       "Q 434 634 434 1313 \n",
       "Q 434 1759 690 2068 \n",
       "Q 947 2378 1403 2484 \n",
       "z\n",
       "M 1172 3481 \n",
       "Q 1172 3119 1398 2916 \n",
       "Q 1625 2713 2034 2713 \n",
       "Q 2441 2713 2670 2916 \n",
       "Q 2900 3119 2900 3481 \n",
       "Q 2900 3844 2670 4047 \n",
       "Q 2441 4250 2034 4250 \n",
       "Q 1625 4250 1398 4047 \n",
       "Q 1172 3844 1172 3481 \n",
       "z\n",
       "\" transform=\"scale(0.015625)\"/>\n",
       "       </defs>\n",
       "       <use xlink:href=\"#DejaVuSans-38\"/>\n",
       "       <use xlink:href=\"#DejaVuSans-30\" x=\"63.623047\"/>\n",
       "      </g>\n",
       "     </g>\n",
       "    </g>\n",
       "    <g id=\"ytick_13\">\n",
       "     <g id=\"line2d_21\">\n",
       "      <g>\n",
       "       <use xlink:href=\"#m58148d106a\" x=\"438.511625\" y=\"80.550125\" style=\"stroke: #000000; stroke-width: 0.8\"/>\n",
       "      </g>\n",
       "     </g>\n",
       "     <g id=\"text_24\">\n",
       "      <!-- 90 -->\n",
       "      <g transform=\"translate(445.511625 84.349344) scale(0.1 -0.1)\">\n",
       "       <defs>\n",
       "        <path id=\"DejaVuSans-39\" d=\"M 703 97 \n",
       "L 703 672 \n",
       "Q 941 559 1184 500 \n",
       "Q 1428 441 1663 441 \n",
       "Q 2288 441 2617 861 \n",
       "Q 2947 1281 2994 2138 \n",
       "Q 2813 1869 2534 1725 \n",
       "Q 2256 1581 1919 1581 \n",
       "Q 1219 1581 811 2004 \n",
       "Q 403 2428 403 3163 \n",
       "Q 403 3881 828 4315 \n",
       "Q 1253 4750 1959 4750 \n",
       "Q 2769 4750 3195 4129 \n",
       "Q 3622 3509 3622 2328 \n",
       "Q 3622 1225 3098 567 \n",
       "Q 2575 -91 1691 -91 \n",
       "Q 1453 -91 1209 -44 \n",
       "Q 966 3 703 97 \n",
       "z\n",
       "M 1959 2075 \n",
       "Q 2384 2075 2632 2365 \n",
       "Q 2881 2656 2881 3163 \n",
       "Q 2881 3666 2632 3958 \n",
       "Q 2384 4250 1959 4250 \n",
       "Q 1534 4250 1286 3958 \n",
       "Q 1038 3666 1038 3163 \n",
       "Q 1038 2656 1286 2365 \n",
       "Q 1534 2075 1959 2075 \n",
       "z\n",
       "\" transform=\"scale(0.015625)\"/>\n",
       "       </defs>\n",
       "       <use xlink:href=\"#DejaVuSans-39\"/>\n",
       "       <use xlink:href=\"#DejaVuSans-30\" x=\"63.623047\"/>\n",
       "      </g>\n",
       "     </g>\n",
       "    </g>\n",
       "    <g id=\"ytick_14\">\n",
       "     <g id=\"line2d_22\">\n",
       "      <g>\n",
       "       <use xlink:href=\"#m58148d106a\" x=\"438.511625\" y=\"22.318125\" style=\"stroke: #000000; stroke-width: 0.8\"/>\n",
       "      </g>\n",
       "     </g>\n",
       "     <g id=\"text_25\">\n",
       "      <!-- 100 -->\n",
       "      <g transform=\"translate(445.511625 26.117344) scale(0.1 -0.1)\">\n",
       "       <use xlink:href=\"#DejaVuSans-31\"/>\n",
       "       <use xlink:href=\"#DejaVuSans-30\" x=\"63.623047\"/>\n",
       "       <use xlink:href=\"#DejaVuSans-30\" x=\"127.246094\"/>\n",
       "      </g>\n",
       "     </g>\n",
       "    </g>\n",
       "   </g>\n",
       "   <g id=\"LineCollection_1\"/>\n",
       "   <g id=\"patch_8\">\n",
       "    <path d=\"M 423.953625 313.478125 \n",
       "L 431.232625 313.478125 \n",
       "L 438.511625 313.478125 \n",
       "L 438.511625 22.318125 \n",
       "L 431.232625 22.318125 \n",
       "L 423.953625 22.318125 \n",
       "L 423.953625 313.478125 \n",
       "z\n",
       "\" style=\"fill: none; stroke: #000000; stroke-width: 0.8; stroke-linejoin: miter; stroke-linecap: square\"/>\n",
       "   </g>\n",
       "  </g>\n",
       " </g>\n",
       " <defs>\n",
       "  <clipPath id=\"p1044ec2169\">\n",
       "   <rect x=\"53.328125\" y=\"22.318125\" width=\"348.824\" height=\"291.16\"/>\n",
       "  </clipPath>\n",
       " </defs>\n",
       "</svg>\n"
      ],
      "text/plain": [
       "<Figure size 700x500 with 2 Axes>"
      ]
     },
     "metadata": {},
     "output_type": "display_data"
    },
    {
     "data": {
      "application/pdf": "[encoded data removed]",
      "image/svg+xml": [
       "<?xml version=\"1.0\" encoding=\"utf-8\" standalone=\"no\"?>\n",
       "<!DOCTYPE svg PUBLIC \"-//W3C//DTD SVG 1.1//EN\"\n",
       "  \"http://www.w3.org/Graphics/SVG/1.1/DTD/svg11.dtd\">\n",
       "<svg xmlns:xlink=\"http://www.w3.org/1999/xlink\" width=\"471.799125pt\" height=\"351.034375pt\" viewBox=\"0 0 471.799125 351.034375\" xmlns=\"http://www.w3.org/2000/svg\" version=\"1.1\">\n",
       " <metadata>\n",
       "  <rdf:RDF xmlns:dc=\"http://purl.org/dc/elements/1.1/\" xmlns:cc=\"http://creativecommons.org/ns#\" xmlns:rdf=\"http://www.w3.org/1999/02/22-rdf-syntax-ns#\">\n",
       "   <cc:Work>\n",
       "    <dc:type rdf:resource=\"http://purl.org/dc/dcmitype/StillImage\"/>\n",
       "    <dc:date>2024-09-22T19:51:20.001850</dc:date>\n",
       "    <dc:format>image/svg+xml</dc:format>\n",
       "    <dc:creator>\n",
       "     <cc:Agent>\n",
       "      <dc:title>Matplotlib v3.7.2, https://matplotlib.org/</dc:title>\n",
       "     </cc:Agent>\n",
       "    </dc:creator>\n",
       "   </cc:Work>\n",
       "  </rdf:RDF>\n",
       " </metadata>\n",
       " <defs>\n",
       "  <style type=\"text/css\">*{stroke-linejoin: round; stroke-linecap: butt}</style>\n",
       " </defs>\n",
       " <g id=\"figure_1\">\n",
       "  <g id=\"patch_1\">\n",
       "   <path d=\"M 0 351.034375 \n",
       "L 471.799125 351.034375 \n",
       "L 471.799125 0 \n",
       "L 0 0 \n",
       "z\n",
       "\" style=\"fill: #ffffff\"/>\n",
       "  </g>\n",
       "  <g id=\"axes_1\">\n",
       "   <g id=\"patch_2\">\n",
       "    <path d=\"M 53.328125 313.478125 \n",
       "L 402.152125 313.478125 \n",
       "L 402.152125 22.318125 \n",
       "L 53.328125 22.318125 \n",
       "z\n",
       "\" style=\"fill: #ffffff\"/>\n",
       "   </g>\n",
       "   <g clip-path=\"url(#pbca44d545c)\">\n",
       "    <image xlink:href=\"data:image/png;base64,\n",
       "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\" id=\"image2f4a47e9b8\" transform=\"scale(1 -1) translate(0 -291.6)\" x=\"53.328125\" y=\"-21.878125\" width=\"349.2\" height=\"291.6\"/>\n",
       "   </g>\n",
       "   <g id=\"matplotlib.axis_1\">\n",
       "    <g id=\"xtick_1\">\n",
       "     <g id=\"line2d_1\">\n",
       "      <defs>\n",
       "       <path id=\"mb94cefcd28\" d=\"M 0 0 \n",
       "L 0 3.5 \n",
       "\" style=\"stroke: #000000; stroke-width: 0.8\"/>\n",
       "      </defs>\n",
       "      <g>\n",
       "       <use xlink:href=\"#mb94cefcd28\" x=\"53.328125\" y=\"313.478125\" style=\"stroke: #000000; stroke-width: 0.8\"/>\n",
       "      </g>\n",
       "     </g>\n",
       "     <g id=\"text_1\">\n",
       "      <!-- 2000 -->\n",
       "      <g transform=\"translate(40.603125 328.076563) scale(0.1 -0.1)\">\n",
       "       <defs>\n",
       "        <path id=\"DejaVuSans-32\" d=\"M 1228 531 \n",
       "L 3431 531 \n",
       "L 3431 0 \n",
       "L 469 0 \n",
       "L 469 531 \n",
       "Q 828 903 1448 1529 \n",
       "Q 2069 2156 2228 2338 \n",
       "Q 2531 2678 2651 2914 \n",
       "Q 2772 3150 2772 3378 \n",
       "Q 2772 3750 2511 3984 \n",
       "Q 2250 4219 1831 4219 \n",
       "Q 1534 4219 1204 4116 \n",
       "Q 875 4013 500 3803 \n",
       "L 500 4441 \n",
       "Q 881 4594 1212 4672 \n",
       "Q 1544 4750 1819 4750 \n",
       "Q 2544 4750 2975 4387 \n",
       "Q 3406 4025 3406 3419 \n",
       "Q 3406 3131 3298 2873 \n",
       "Q 3191 2616 2906 2266 \n",
       "Q 2828 2175 2409 1742 \n",
       "Q 1991 1309 1228 531 \n",
       "z\n",
       "\" transform=\"scale(0.015625)\"/>\n",
       "        <path id=\"DejaVuSans-30\" d=\"M 2034 4250 \n",
       "Q 1547 4250 1301 3770 \n",
       "Q 1056 3291 1056 2328 \n",
       "Q 1056 1369 1301 889 \n",
       "Q 1547 409 2034 409 \n",
       "Q 2525 409 2770 889 \n",
       "Q 3016 1369 3016 2328 \n",
       "Q 3016 3291 2770 3770 \n",
       "Q 2525 4250 2034 4250 \n",
       "z\n",
       "M 2034 4750 \n",
       "Q 2819 4750 3233 4129 \n",
       "Q 3647 3509 3647 2328 \n",
       "Q 3647 1150 3233 529 \n",
       "Q 2819 -91 2034 -91 \n",
       "Q 1250 -91 836 529 \n",
       "Q 422 1150 422 2328 \n",
       "Q 422 3509 836 4129 \n",
       "Q 1250 4750 2034 4750 \n",
       "z\n",
       "\" transform=\"scale(0.015625)\"/>\n",
       "       </defs>\n",
       "       <use xlink:href=\"#DejaVuSans-32\"/>\n",
       "       <use xlink:href=\"#DejaVuSans-30\" x=\"63.623047\"/>\n",
       "       <use xlink:href=\"#DejaVuSans-30\" x=\"127.246094\"/>\n",
       "       <use xlink:href=\"#DejaVuSans-30\" x=\"190.869141\"/>\n",
       "      </g>\n",
       "     </g>\n",
       "    </g>\n",
       "    <g id=\"xtick_2\">\n",
       "     <g id=\"line2d_2\">\n",
       "      <g>\n",
       "       <use xlink:href=\"#mb94cefcd28\" x=\"96.974772\" y=\"313.478125\" style=\"stroke: #000000; stroke-width: 0.8\"/>\n",
       "      </g>\n",
       "     </g>\n",
       "     <g id=\"text_2\">\n",
       "      <!-- 2250 -->\n",
       "      <g transform=\"translate(84.249772 328.076563) scale(0.1 -0.1)\">\n",
       "       <defs>\n",
       "        <path id=\"DejaVuSans-35\" d=\"M 691 4666 \n",
       "L 3169 4666 \n",
       "L 3169 4134 \n",
       "L 1269 4134 \n",
       "L 1269 2991 \n",
       "Q 1406 3038 1543 3061 \n",
       "Q 1681 3084 1819 3084 \n",
       "Q 2600 3084 3056 2656 \n",
       "Q 3513 2228 3513 1497 \n",
       "Q 3513 744 3044 326 \n",
       "Q 2575 -91 1722 -91 \n",
       "Q 1428 -91 1123 -41 \n",
       "Q 819 9 494 109 \n",
       "L 494 744 \n",
       "Q 775 591 1075 516 \n",
       "Q 1375 441 1709 441 \n",
       "Q 2250 441 2565 725 \n",
       "Q 2881 1009 2881 1497 \n",
       "Q 2881 1984 2565 2268 \n",
       "Q 2250 2553 1709 2553 \n",
       "Q 1456 2553 1204 2497 \n",
       "Q 953 2441 691 2322 \n",
       "L 691 4666 \n",
       "z\n",
       "\" transform=\"scale(0.015625)\"/>\n",
       "       </defs>\n",
       "       <use xlink:href=\"#DejaVuSans-32\"/>\n",
       "       <use xlink:href=\"#DejaVuSans-32\" x=\"63.623047\"/>\n",
       "       <use xlink:href=\"#DejaVuSans-35\" x=\"127.246094\"/>\n",
       "       <use xlink:href=\"#DejaVuSans-30\" x=\"190.869141\"/>\n",
       "      </g>\n",
       "     </g>\n",
       "    </g>\n",
       "    <g id=\"xtick_3\">\n",
       "     <g id=\"line2d_3\">\n",
       "      <g>\n",
       "       <use xlink:href=\"#mb94cefcd28\" x=\"140.621418\" y=\"313.478125\" style=\"stroke: #000000; stroke-width: 0.8\"/>\n",
       "      </g>\n",
       "     </g>\n",
       "     <g id=\"text_3\">\n",
       "      <!-- 2500 -->\n",
       "      <g transform=\"translate(127.896418 328.076563) scale(0.1 -0.1)\">\n",
       "       <use xlink:href=\"#DejaVuSans-32\"/>\n",
       "       <use xlink:href=\"#DejaVuSans-35\" x=\"63.623047\"/>\n",
       "       <use xlink:href=\"#DejaVuSans-30\" x=\"127.246094\"/>\n",
       "       <use xlink:href=\"#DejaVuSans-30\" x=\"190.869141\"/>\n",
       "      </g>\n",
       "     </g>\n",
       "    </g>\n",
       "    <g id=\"xtick_4\">\n",
       "     <g id=\"line2d_4\">\n",
       "      <g>\n",
       "       <use xlink:href=\"#mb94cefcd28\" x=\"184.268065\" y=\"313.478125\" style=\"stroke: #000000; stroke-width: 0.8\"/>\n",
       "      </g>\n",
       "     </g>\n",
       "     <g id=\"text_4\">\n",
       "      <!-- 2750 -->\n",
       "      <g transform=\"translate(171.543065 328.076563) scale(0.1 -0.1)\">\n",
       "       <defs>\n",
       "        <path id=\"DejaVuSans-37\" d=\"M 525 4666 \n",
       "L 3525 4666 \n",
       "L 3525 4397 \n",
       "L 1831 0 \n",
       "L 1172 0 \n",
       "L 2766 4134 \n",
       "L 525 4134 \n",
       "L 525 4666 \n",
       "z\n",
       "\" transform=\"scale(0.015625)\"/>\n",
       "       </defs>\n",
       "       <use xlink:href=\"#DejaVuSans-32\"/>\n",
       "       <use xlink:href=\"#DejaVuSans-37\" x=\"63.623047\"/>\n",
       "       <use xlink:href=\"#DejaVuSans-35\" x=\"127.246094\"/>\n",
       "       <use xlink:href=\"#DejaVuSans-30\" x=\"190.869141\"/>\n",
       "      </g>\n",
       "     </g>\n",
       "    </g>\n",
       "    <g id=\"xtick_5\">\n",
       "     <g id=\"line2d_5\">\n",
       "      <g>\n",
       "       <use xlink:href=\"#mb94cefcd28\" x=\"227.914712\" y=\"313.478125\" style=\"stroke: #000000; stroke-width: 0.8\"/>\n",
       "      </g>\n",
       "     </g>\n",
       "     <g id=\"text_5\">\n",
       "      <!-- 3000 -->\n",
       "      <g transform=\"translate(215.189712 328.076563) scale(0.1 -0.1)\">\n",
       "       <defs>\n",
       "        <path id=\"DejaVuSans-33\" d=\"M 2597 2516 \n",
       "Q 3050 2419 3304 2112 \n",
       "Q 3559 1806 3559 1356 \n",
       "Q 3559 666 3084 287 \n",
       "Q 2609 -91 1734 -91 \n",
       "Q 1441 -91 1130 -33 \n",
       "Q 819 25 488 141 \n",
       "L 488 750 \n",
       "Q 750 597 1062 519 \n",
       "Q 1375 441 1716 441 \n",
       "Q 2309 441 2620 675 \n",
       "Q 2931 909 2931 1356 \n",
       "Q 2931 1769 2642 2001 \n",
       "Q 2353 2234 1838 2234 \n",
       "L 1294 2234 \n",
       "L 1294 2753 \n",
       "L 1863 2753 \n",
       "Q 2328 2753 2575 2939 \n",
       "Q 2822 3125 2822 3475 \n",
       "Q 2822 3834 2567 4026 \n",
       "Q 2313 4219 1838 4219 \n",
       "Q 1578 4219 1281 4162 \n",
       "Q 984 4106 628 3988 \n",
       "L 628 4550 \n",
       "Q 988 4650 1302 4700 \n",
       "Q 1616 4750 1894 4750 \n",
       "Q 2613 4750 3031 4423 \n",
       "Q 3450 4097 3450 3541 \n",
       "Q 3450 3153 3228 2886 \n",
       "Q 3006 2619 2597 2516 \n",
       "z\n",
       "\" transform=\"scale(0.015625)\"/>\n",
       "       </defs>\n",
       "       <use xlink:href=\"#DejaVuSans-33\"/>\n",
       "       <use xlink:href=\"#DejaVuSans-30\" x=\"63.623047\"/>\n",
       "       <use xlink:href=\"#DejaVuSans-30\" x=\"127.246094\"/>\n",
       "       <use xlink:href=\"#DejaVuSans-30\" x=\"190.869141\"/>\n",
       "      </g>\n",
       "     </g>\n",
       "    </g>\n",
       "    <g id=\"xtick_6\">\n",
       "     <g id=\"line2d_6\">\n",
       "      <g>\n",
       "       <use xlink:href=\"#mb94cefcd28\" x=\"271.561358\" y=\"313.478125\" style=\"stroke: #000000; stroke-width: 0.8\"/>\n",
       "      </g>\n",
       "     </g>\n",
       "     <g id=\"text_6\">\n",
       "      <!-- 3250 -->\n",
       "      <g transform=\"translate(258.836358 328.076563) scale(0.1 -0.1)\">\n",
       "       <use xlink:href=\"#DejaVuSans-33\"/>\n",
       "       <use xlink:href=\"#DejaVuSans-32\" x=\"63.623047\"/>\n",
       "       <use xlink:href=\"#DejaVuSans-35\" x=\"127.246094\"/>\n",
       "       <use xlink:href=\"#DejaVuSans-30\" x=\"190.869141\"/>\n",
       "      </g>\n",
       "     </g>\n",
       "    </g>\n",
       "    <g id=\"xtick_7\">\n",
       "     <g id=\"line2d_7\">\n",
       "      <g>\n",
       "       <use xlink:href=\"#mb94cefcd28\" x=\"315.208005\" y=\"313.478125\" style=\"stroke: #000000; stroke-width: 0.8\"/>\n",
       "      </g>\n",
       "     </g>\n",
       "     <g id=\"text_7\">\n",
       "      <!-- 3500 -->\n",
       "      <g transform=\"translate(302.483005 328.076563) scale(0.1 -0.1)\">\n",
       "       <use xlink:href=\"#DejaVuSans-33\"/>\n",
       "       <use xlink:href=\"#DejaVuSans-35\" x=\"63.623047\"/>\n",
       "       <use xlink:href=\"#DejaVuSans-30\" x=\"127.246094\"/>\n",
       "       <use xlink:href=\"#DejaVuSans-30\" x=\"190.869141\"/>\n",
       "      </g>\n",
       "     </g>\n",
       "    </g>\n",
       "    <g id=\"xtick_8\">\n",
       "     <g id=\"line2d_8\">\n",
       "      <g>\n",
       "       <use xlink:href=\"#mb94cefcd28\" x=\"358.854652\" y=\"313.478125\" style=\"stroke: #000000; stroke-width: 0.8\"/>\n",
       "      </g>\n",
       "     </g>\n",
       "     <g id=\"text_8\">\n",
       "      <!-- 3750 -->\n",
       "      <g transform=\"translate(346.129652 328.076563) scale(0.1 -0.1)\">\n",
       "       <use xlink:href=\"#DejaVuSans-33\"/>\n",
       "       <use xlink:href=\"#DejaVuSans-37\" x=\"63.623047\"/>\n",
       "       <use xlink:href=\"#DejaVuSans-35\" x=\"127.246094\"/>\n",
       "       <use xlink:href=\"#DejaVuSans-30\" x=\"190.869141\"/>\n",
       "      </g>\n",
       "     </g>\n",
       "    </g>\n",
       "    <g id=\"text_9\">\n",
       "     <!-- Gain Q0 -->\n",
       "     <g transform=\"translate(207.537781 341.754687) scale(0.1 -0.1)\">\n",
       "      <defs>\n",
       "       <path id=\"DejaVuSans-47\" d=\"M 3809 666 \n",
       "L 3809 1919 \n",
       "L 2778 1919 \n",
       "L 2778 2438 \n",
       "L 4434 2438 \n",
       "L 4434 434 \n",
       "Q 4069 175 3628 42 \n",
       "Q 3188 -91 2688 -91 \n",
       "Q 1594 -91 976 548 \n",
       "Q 359 1188 359 2328 \n",
       "Q 359 3472 976 4111 \n",
       "Q 1594 4750 2688 4750 \n",
       "Q 3144 4750 3555 4637 \n",
       "Q 3966 4525 4313 4306 \n",
       "L 4313 3634 \n",
       "Q 3963 3931 3569 4081 \n",
       "Q 3175 4231 2741 4231 \n",
       "Q 1884 4231 1454 3753 \n",
       "Q 1025 3275 1025 2328 \n",
       "Q 1025 1384 1454 906 \n",
       "Q 1884 428 2741 428 \n",
       "Q 3075 428 3337 486 \n",
       "Q 3600 544 3809 666 \n",
       "z\n",
       "\" transform=\"scale(0.015625)\"/>\n",
       "       <path id=\"DejaVuSans-61\" d=\"M 2194 1759 \n",
       "Q 1497 1759 1228 1600 \n",
       "Q 959 1441 959 1056 \n",
       "Q 959 750 1161 570 \n",
       "Q 1363 391 1709 391 \n",
       "Q 2188 391 2477 730 \n",
       "Q 2766 1069 2766 1631 \n",
       "L 2766 1759 \n",
       "L 2194 1759 \n",
       "z\n",
       "M 3341 1997 \n",
       "L 3341 0 \n",
       "L 2766 0 \n",
       "L 2766 531 \n",
       "Q 2569 213 2275 61 \n",
       "Q 1981 -91 1556 -91 \n",
       "Q 1019 -91 701 211 \n",
       "Q 384 513 384 1019 \n",
       "Q 384 1609 779 1909 \n",
       "Q 1175 2209 1959 2209 \n",
       "L 2766 2209 \n",
       "L 2766 2266 \n",
       "Q 2766 2663 2505 2880 \n",
       "Q 2244 3097 1772 3097 \n",
       "Q 1472 3097 1187 3025 \n",
       "Q 903 2953 641 2809 \n",
       "L 641 3341 \n",
       "Q 956 3463 1253 3523 \n",
       "Q 1550 3584 1831 3584 \n",
       "Q 2591 3584 2966 3190 \n",
       "Q 3341 2797 3341 1997 \n",
       "z\n",
       "\" transform=\"scale(0.015625)\"/>\n",
       "       <path id=\"DejaVuSans-69\" d=\"M 603 3500 \n",
       "L 1178 3500 \n",
       "L 1178 0 \n",
       "L 603 0 \n",
       "L 603 3500 \n",
       "z\n",
       "M 603 4863 \n",
       "L 1178 4863 \n",
       "L 1178 4134 \n",
       "L 603 4134 \n",
       "L 603 4863 \n",
       "z\n",
       "\" transform=\"scale(0.015625)\"/>\n",
       "       <path id=\"DejaVuSans-6e\" d=\"M 3513 2113 \n",
       "L 3513 0 \n",
       "L 2938 0 \n",
       "L 2938 2094 \n",
       "Q 2938 2591 2744 2837 \n",
       "Q 2550 3084 2163 3084 \n",
       "Q 1697 3084 1428 2787 \n",
       "Q 1159 2491 1159 1978 \n",
       "L 1159 0 \n",
       "L 581 0 \n",
       "L 581 3500 \n",
       "L 1159 3500 \n",
       "L 1159 2956 \n",
       "Q 1366 3272 1645 3428 \n",
       "Q 1925 3584 2291 3584 \n",
       "Q 2894 3584 3203 3211 \n",
       "Q 3513 2838 3513 2113 \n",
       "z\n",
       "\" transform=\"scale(0.015625)\"/>\n",
       "       <path id=\"DejaVuSans-20\" transform=\"scale(0.015625)\"/>\n",
       "       <path id=\"DejaVuSans-51\" d=\"M 2522 4238 \n",
       "Q 1834 4238 1429 3725 \n",
       "Q 1025 3213 1025 2328 \n",
       "Q 1025 1447 1429 934 \n",
       "Q 1834 422 2522 422 \n",
       "Q 3209 422 3611 934 \n",
       "Q 4013 1447 4013 2328 \n",
       "Q 4013 3213 3611 3725 \n",
       "Q 3209 4238 2522 4238 \n",
       "z\n",
       "M 3406 84 \n",
       "L 4238 -825 \n",
       "L 3475 -825 \n",
       "L 2784 -78 \n",
       "Q 2681 -84 2626 -87 \n",
       "Q 2572 -91 2522 -91 \n",
       "Q 1538 -91 948 567 \n",
       "Q 359 1225 359 2328 \n",
       "Q 359 3434 948 4092 \n",
       "Q 1538 4750 2522 4750 \n",
       "Q 3503 4750 4090 4092 \n",
       "Q 4678 3434 4678 2328 \n",
       "Q 4678 1516 4351 937 \n",
       "Q 4025 359 3406 84 \n",
       "z\n",
       "\" transform=\"scale(0.015625)\"/>\n",
       "      </defs>\n",
       "      <use xlink:href=\"#DejaVuSans-47\"/>\n",
       "      <use xlink:href=\"#DejaVuSans-61\" x=\"77.490234\"/>\n",
       "      <use xlink:href=\"#DejaVuSans-69\" x=\"138.769531\"/>\n",
       "      <use xlink:href=\"#DejaVuSans-6e\" x=\"166.552734\"/>\n",
       "      <use xlink:href=\"#DejaVuSans-20\" x=\"229.931641\"/>\n",
       "      <use xlink:href=\"#DejaVuSans-51\" x=\"261.71875\"/>\n",
       "      <use xlink:href=\"#DejaVuSans-30\" x=\"340.429688\"/>\n",
       "     </g>\n",
       "    </g>\n",
       "   </g>\n",
       "   <g id=\"matplotlib.axis_2\">\n",
       "    <g id=\"ytick_1\">\n",
       "     <g id=\"line2d_9\">\n",
       "      <defs>\n",
       "       <path id=\"mb0b1347f5a\" d=\"M 0 0 \n",
       "L -3.5 0 \n",
       "\" style=\"stroke: #000000; stroke-width: 0.8\"/>\n",
       "      </defs>\n",
       "      <g>\n",
       "       <use xlink:href=\"#mb0b1347f5a\" x=\"53.328125\" y=\"306.191839\" style=\"stroke: #000000; stroke-width: 0.8\"/>\n",
       "      </g>\n",
       "     </g>\n",
       "     <g id=\"text_10\">\n",
       "      <!-- 4250 -->\n",
       "      <g transform=\"translate(20.878125 309.991057) scale(0.1 -0.1)\">\n",
       "       <defs>\n",
       "        <path id=\"DejaVuSans-34\" d=\"M 2419 4116 \n",
       "L 825 1625 \n",
       "L 2419 1625 \n",
       "L 2419 4116 \n",
       "z\n",
       "M 2253 4666 \n",
       "L 3047 4666 \n",
       "L 3047 1625 \n",
       "L 3713 1625 \n",
       "L 3713 1100 \n",
       "L 3047 1100 \n",
       "L 3047 0 \n",
       "L 2419 0 \n",
       "L 2419 1100 \n",
       "L 313 1100 \n",
       "L 313 1709 \n",
       "L 2253 4666 \n",
       "z\n",
       "\" transform=\"scale(0.015625)\"/>\n",
       "       </defs>\n",
       "       <use xlink:href=\"#DejaVuSans-34\"/>\n",
       "       <use xlink:href=\"#DejaVuSans-32\" x=\"63.623047\"/>\n",
       "       <use xlink:href=\"#DejaVuSans-35\" x=\"127.246094\"/>\n",
       "       <use xlink:href=\"#DejaVuSans-30\" x=\"190.869141\"/>\n",
       "      </g>\n",
       "     </g>\n",
       "    </g>\n",
       "    <g id=\"ytick_2\">\n",
       "     <g id=\"line2d_10\">\n",
       "      <g>\n",
       "       <use xlink:href=\"#mb0b1347f5a\" x=\"53.328125\" y=\"269.760407\" style=\"stroke: #000000; stroke-width: 0.8\"/>\n",
       "      </g>\n",
       "     </g>\n",
       "     <g id=\"text_11\">\n",
       "      <!-- 4500 -->\n",
       "      <g transform=\"translate(20.878125 273.559626) scale(0.1 -0.1)\">\n",
       "       <use xlink:href=\"#DejaVuSans-34\"/>\n",
       "       <use xlink:href=\"#DejaVuSans-35\" x=\"63.623047\"/>\n",
       "       <use xlink:href=\"#DejaVuSans-30\" x=\"127.246094\"/>\n",
       "       <use xlink:href=\"#DejaVuSans-30\" x=\"190.869141\"/>\n",
       "      </g>\n",
       "     </g>\n",
       "    </g>\n",
       "    <g id=\"ytick_3\">\n",
       "     <g id=\"line2d_11\">\n",
       "      <g>\n",
       "       <use xlink:href=\"#mb0b1347f5a\" x=\"53.328125\" y=\"233.328976\" style=\"stroke: #000000; stroke-width: 0.8\"/>\n",
       "      </g>\n",
       "     </g>\n",
       "     <g id=\"text_12\">\n",
       "      <!-- 4750 -->\n",
       "      <g transform=\"translate(20.878125 237.128195) scale(0.1 -0.1)\">\n",
       "       <use xlink:href=\"#DejaVuSans-34\"/>\n",
       "       <use xlink:href=\"#DejaVuSans-37\" x=\"63.623047\"/>\n",
       "       <use xlink:href=\"#DejaVuSans-35\" x=\"127.246094\"/>\n",
       "       <use xlink:href=\"#DejaVuSans-30\" x=\"190.869141\"/>\n",
       "      </g>\n",
       "     </g>\n",
       "    </g>\n",
       "    <g id=\"ytick_4\">\n",
       "     <g id=\"line2d_12\">\n",
       "      <g>\n",
       "       <use xlink:href=\"#mb0b1347f5a\" x=\"53.328125\" y=\"196.897544\" style=\"stroke: #000000; stroke-width: 0.8\"/>\n",
       "      </g>\n",
       "     </g>\n",
       "     <g id=\"text_13\">\n",
       "      <!-- 5000 -->\n",
       "      <g transform=\"translate(20.878125 200.696763) scale(0.1 -0.1)\">\n",
       "       <use xlink:href=\"#DejaVuSans-35\"/>\n",
       "       <use xlink:href=\"#DejaVuSans-30\" x=\"63.623047\"/>\n",
       "       <use xlink:href=\"#DejaVuSans-30\" x=\"127.246094\"/>\n",
       "       <use xlink:href=\"#DejaVuSans-30\" x=\"190.869141\"/>\n",
       "      </g>\n",
       "     </g>\n",
       "    </g>\n",
       "    <g id=\"ytick_5\">\n",
       "     <g id=\"line2d_13\">\n",
       "      <g>\n",
       "       <use xlink:href=\"#mb0b1347f5a\" x=\"53.328125\" y=\"160.466113\" style=\"stroke: #000000; stroke-width: 0.8\"/>\n",
       "      </g>\n",
       "     </g>\n",
       "     <g id=\"text_14\">\n",
       "      <!-- 5250 -->\n",
       "      <g transform=\"translate(20.878125 164.265332) scale(0.1 -0.1)\">\n",
       "       <use xlink:href=\"#DejaVuSans-35\"/>\n",
       "       <use xlink:href=\"#DejaVuSans-32\" x=\"63.623047\"/>\n",
       "       <use xlink:href=\"#DejaVuSans-35\" x=\"127.246094\"/>\n",
       "       <use xlink:href=\"#DejaVuSans-30\" x=\"190.869141\"/>\n",
       "      </g>\n",
       "     </g>\n",
       "    </g>\n",
       "    <g id=\"ytick_6\">\n",
       "     <g id=\"line2d_14\">\n",
       "      <g>\n",
       "       <use xlink:href=\"#mb0b1347f5a\" x=\"53.328125\" y=\"124.034682\" style=\"stroke: #000000; stroke-width: 0.8\"/>\n",
       "      </g>\n",
       "     </g>\n",
       "     <g id=\"text_15\">\n",
       "      <!-- 5500 -->\n",
       "      <g transform=\"translate(20.878125 127.8339) scale(0.1 -0.1)\">\n",
       "       <use xlink:href=\"#DejaVuSans-35\"/>\n",
       "       <use xlink:href=\"#DejaVuSans-35\" x=\"63.623047\"/>\n",
       "       <use xlink:href=\"#DejaVuSans-30\" x=\"127.246094\"/>\n",
       "       <use xlink:href=\"#DejaVuSans-30\" x=\"190.869141\"/>\n",
       "      </g>\n",
       "     </g>\n",
       "    </g>\n",
       "    <g id=\"ytick_7\">\n",
       "     <g id=\"line2d_15\">\n",
       "      <g>\n",
       "       <use xlink:href=\"#mb0b1347f5a\" x=\"53.328125\" y=\"87.60325\" style=\"stroke: #000000; stroke-width: 0.8\"/>\n",
       "      </g>\n",
       "     </g>\n",
       "     <g id=\"text_16\">\n",
       "      <!-- 5750 -->\n",
       "      <g transform=\"translate(20.878125 91.402469) scale(0.1 -0.1)\">\n",
       "       <use xlink:href=\"#DejaVuSans-35\"/>\n",
       "       <use xlink:href=\"#DejaVuSans-37\" x=\"63.623047\"/>\n",
       "       <use xlink:href=\"#DejaVuSans-35\" x=\"127.246094\"/>\n",
       "       <use xlink:href=\"#DejaVuSans-30\" x=\"190.869141\"/>\n",
       "      </g>\n",
       "     </g>\n",
       "    </g>\n",
       "    <g id=\"ytick_8\">\n",
       "     <g id=\"line2d_16\">\n",
       "      <g>\n",
       "       <use xlink:href=\"#mb0b1347f5a\" x=\"53.328125\" y=\"51.171819\" style=\"stroke: #000000; stroke-width: 0.8\"/>\n",
       "      </g>\n",
       "     </g>\n",
       "     <g id=\"text_17\">\n",
       "      <!-- 6000 -->\n",
       "      <g transform=\"translate(20.878125 54.971037) scale(0.1 -0.1)\">\n",
       "       <defs>\n",
       "        <path id=\"DejaVuSans-36\" d=\"M 2113 2584 \n",
       "Q 1688 2584 1439 2293 \n",
       "Q 1191 2003 1191 1497 \n",
       "Q 1191 994 1439 701 \n",
       "Q 1688 409 2113 409 \n",
       "Q 2538 409 2786 701 \n",
       "Q 3034 994 3034 1497 \n",
       "Q 3034 2003 2786 2293 \n",
       "Q 2538 2584 2113 2584 \n",
       "z\n",
       "M 3366 4563 \n",
       "L 3366 3988 \n",
       "Q 3128 4100 2886 4159 \n",
       "Q 2644 4219 2406 4219 \n",
       "Q 1781 4219 1451 3797 \n",
       "Q 1122 3375 1075 2522 \n",
       "Q 1259 2794 1537 2939 \n",
       "Q 1816 3084 2150 3084 \n",
       "Q 2853 3084 3261 2657 \n",
       "Q 3669 2231 3669 1497 \n",
       "Q 3669 778 3244 343 \n",
       "Q 2819 -91 2113 -91 \n",
       "Q 1303 -91 875 529 \n",
       "Q 447 1150 447 2328 \n",
       "Q 447 3434 972 4092 \n",
       "Q 1497 4750 2381 4750 \n",
       "Q 2619 4750 2861 4703 \n",
       "Q 3103 4656 3366 4563 \n",
       "z\n",
       "\" transform=\"scale(0.015625)\"/>\n",
       "       </defs>\n",
       "       <use xlink:href=\"#DejaVuSans-36\"/>\n",
       "       <use xlink:href=\"#DejaVuSans-30\" x=\"63.623047\"/>\n",
       "       <use xlink:href=\"#DejaVuSans-30\" x=\"127.246094\"/>\n",
       "       <use xlink:href=\"#DejaVuSans-30\" x=\"190.869141\"/>\n",
       "      </g>\n",
       "     </g>\n",
       "    </g>\n",
       "    <g id=\"text_18\">\n",
       "     <!-- Gain Q1 -->\n",
       "     <g transform=\"translate(14.798438 188.100469) rotate(-90) scale(0.1 -0.1)\">\n",
       "      <defs>\n",
       "       <path id=\"DejaVuSans-31\" d=\"M 794 531 \n",
       "L 1825 531 \n",
       "L 1825 4091 \n",
       "L 703 3866 \n",
       "L 703 4441 \n",
       "L 1819 4666 \n",
       "L 2450 4666 \n",
       "L 2450 531 \n",
       "L 3481 531 \n",
       "L 3481 0 \n",
       "L 794 0 \n",
       "L 794 531 \n",
       "z\n",
       "\" transform=\"scale(0.015625)\"/>\n",
       "      </defs>\n",
       "      <use xlink:href=\"#DejaVuSans-47\"/>\n",
       "      <use xlink:href=\"#DejaVuSans-61\" x=\"77.490234\"/>\n",
       "      <use xlink:href=\"#DejaVuSans-69\" x=\"138.769531\"/>\n",
       "      <use xlink:href=\"#DejaVuSans-6e\" x=\"166.552734\"/>\n",
       "      <use xlink:href=\"#DejaVuSans-20\" x=\"229.931641\"/>\n",
       "      <use xlink:href=\"#DejaVuSans-51\" x=\"261.71875\"/>\n",
       "      <use xlink:href=\"#DejaVuSans-31\" x=\"340.429688\"/>\n",
       "     </g>\n",
       "    </g>\n",
       "   </g>\n",
       "   <g id=\"patch_3\">\n",
       "    <path d=\"M 53.328125 313.478125 \n",
       "L 53.328125 22.318125 \n",
       "\" style=\"fill: none; stroke: #000000; stroke-width: 0.8; stroke-linejoin: miter; stroke-linecap: square\"/>\n",
       "   </g>\n",
       "   <g id=\"patch_4\">\n",
       "    <path d=\"M 402.152125 313.478125 \n",
       "L 402.152125 22.318125 \n",
       "\" style=\"fill: none; stroke: #000000; stroke-width: 0.8; stroke-linejoin: miter; stroke-linecap: square\"/>\n",
       "   </g>\n",
       "   <g id=\"patch_5\">\n",
       "    <path d=\"M 53.328125 313.478125 \n",
       "L 402.152125 313.478125 \n",
       "\" style=\"fill: none; stroke: #000000; stroke-width: 0.8; stroke-linejoin: miter; stroke-linecap: square\"/>\n",
       "   </g>\n",
       "   <g id=\"patch_6\">\n",
       "    <path d=\"M 53.328125 22.318125 \n",
       "L 402.152125 22.318125 \n",
       "\" style=\"fill: none; stroke: #000000; stroke-width: 0.8; stroke-linejoin: miter; stroke-linecap: square\"/>\n",
       "   </g>\n",
       "   <g id=\"text_19\">\n",
       "    <!-- Purities (%) -->\n",
       "    <g transform=\"translate(193.165125 16.318125) scale(0.12 -0.12)\">\n",
       "     <defs>\n",
       "      <path id=\"DejaVuSans-50\" d=\"M 1259 4147 \n",
       "L 1259 2394 \n",
       "L 2053 2394 \n",
       "Q 2494 2394 2734 2622 \n",
       "Q 2975 2850 2975 3272 \n",
       "Q 2975 3691 2734 3919 \n",
       "Q 2494 4147 2053 4147 \n",
       "L 1259 4147 \n",
       "z\n",
       "M 628 4666 \n",
       "L 2053 4666 \n",
       "Q 2838 4666 3239 4311 \n",
       "Q 3641 3956 3641 3272 \n",
       "Q 3641 2581 3239 2228 \n",
       "Q 2838 1875 2053 1875 \n",
       "L 1259 1875 \n",
       "L 1259 0 \n",
       "L 628 0 \n",
       "L 628 4666 \n",
       "z\n",
       "\" transform=\"scale(0.015625)\"/>\n",
       "      <path id=\"DejaVuSans-75\" d=\"M 544 1381 \n",
       "L 544 3500 \n",
       "L 1119 3500 \n",
       "L 1119 1403 \n",
       "Q 1119 906 1312 657 \n",
       "Q 1506 409 1894 409 \n",
       "Q 2359 409 2629 706 \n",
       "Q 2900 1003 2900 1516 \n",
       "L 2900 3500 \n",
       "L 3475 3500 \n",
       "L 3475 0 \n",
       "L 2900 0 \n",
       "L 2900 538 \n",
       "Q 2691 219 2414 64 \n",
       "Q 2138 -91 1772 -91 \n",
       "Q 1169 -91 856 284 \n",
       "Q 544 659 544 1381 \n",
       "z\n",
       "M 1991 3584 \n",
       "L 1991 3584 \n",
       "z\n",
       "\" transform=\"scale(0.015625)\"/>\n",
       "      <path id=\"DejaVuSans-72\" d=\"M 2631 2963 \n",
       "Q 2534 3019 2420 3045 \n",
       "Q 2306 3072 2169 3072 \n",
       "Q 1681 3072 1420 2755 \n",
       "Q 1159 2438 1159 1844 \n",
       "L 1159 0 \n",
       "L 581 0 \n",
       "L 581 3500 \n",
       "L 1159 3500 \n",
       "L 1159 2956 \n",
       "Q 1341 3275 1631 3429 \n",
       "Q 1922 3584 2338 3584 \n",
       "Q 2397 3584 2469 3576 \n",
       "Q 2541 3569 2628 3553 \n",
       "L 2631 2963 \n",
       "z\n",
       "\" transform=\"scale(0.015625)\"/>\n",
       "      <path id=\"DejaVuSans-74\" d=\"M 1172 4494 \n",
       "L 1172 3500 \n",
       "L 2356 3500 \n",
       "L 2356 3053 \n",
       "L 1172 3053 \n",
       "L 1172 1153 \n",
       "Q 1172 725 1289 603 \n",
       "Q 1406 481 1766 481 \n",
       "L 2356 481 \n",
       "L 2356 0 \n",
       "L 1766 0 \n",
       "Q 1100 0 847 248 \n",
       "Q 594 497 594 1153 \n",
       "L 594 3053 \n",
       "L 172 3053 \n",
       "L 172 3500 \n",
       "L 594 3500 \n",
       "L 594 4494 \n",
       "L 1172 4494 \n",
       "z\n",
       "\" transform=\"scale(0.015625)\"/>\n",
       "      <path id=\"DejaVuSans-65\" d=\"M 3597 1894 \n",
       "L 3597 1613 \n",
       "L 953 1613 \n",
       "Q 991 1019 1311 708 \n",
       "Q 1631 397 2203 397 \n",
       "Q 2534 397 2845 478 \n",
       "Q 3156 559 3463 722 \n",
       "L 3463 178 \n",
       "Q 3153 47 2828 -22 \n",
       "Q 2503 -91 2169 -91 \n",
       "Q 1331 -91 842 396 \n",
       "Q 353 884 353 1716 \n",
       "Q 353 2575 817 3079 \n",
       "Q 1281 3584 2069 3584 \n",
       "Q 2775 3584 3186 3129 \n",
       "Q 3597 2675 3597 1894 \n",
       "z\n",
       "M 3022 2063 \n",
       "Q 3016 2534 2758 2815 \n",
       "Q 2500 3097 2075 3097 \n",
       "Q 1594 3097 1305 2825 \n",
       "Q 1016 2553 972 2059 \n",
       "L 3022 2063 \n",
       "z\n",
       "\" transform=\"scale(0.015625)\"/>\n",
       "      <path id=\"DejaVuSans-73\" d=\"M 2834 3397 \n",
       "L 2834 2853 \n",
       "Q 2591 2978 2328 3040 \n",
       "Q 2066 3103 1784 3103 \n",
       "Q 1356 3103 1142 2972 \n",
       "Q 928 2841 928 2578 \n",
       "Q 928 2378 1081 2264 \n",
       "Q 1234 2150 1697 2047 \n",
       "L 1894 2003 \n",
       "Q 2506 1872 2764 1633 \n",
       "Q 3022 1394 3022 966 \n",
       "Q 3022 478 2636 193 \n",
       "Q 2250 -91 1575 -91 \n",
       "Q 1294 -91 989 -36 \n",
       "Q 684 19 347 128 \n",
       "L 347 722 \n",
       "Q 666 556 975 473 \n",
       "Q 1284 391 1588 391 \n",
       "Q 1994 391 2212 530 \n",
       "Q 2431 669 2431 922 \n",
       "Q 2431 1156 2273 1281 \n",
       "Q 2116 1406 1581 1522 \n",
       "L 1381 1569 \n",
       "Q 847 1681 609 1914 \n",
       "Q 372 2147 372 2553 \n",
       "Q 372 3047 722 3315 \n",
       "Q 1072 3584 1716 3584 \n",
       "Q 2034 3584 2315 3537 \n",
       "Q 2597 3491 2834 3397 \n",
       "z\n",
       "\" transform=\"scale(0.015625)\"/>\n",
       "      <path id=\"DejaVuSans-28\" d=\"M 1984 4856 \n",
       "Q 1566 4138 1362 3434 \n",
       "Q 1159 2731 1159 2009 \n",
       "Q 1159 1288 1364 580 \n",
       "Q 1569 -128 1984 -844 \n",
       "L 1484 -844 \n",
       "Q 1016 -109 783 600 \n",
       "Q 550 1309 550 2009 \n",
       "Q 550 2706 781 3412 \n",
       "Q 1013 4119 1484 4856 \n",
       "L 1984 4856 \n",
       "z\n",
       "\" transform=\"scale(0.015625)\"/>\n",
       "      <path id=\"DejaVuSans-25\" d=\"M 4653 2053 \n",
       "Q 4381 2053 4226 1822 \n",
       "Q 4072 1591 4072 1178 \n",
       "Q 4072 772 4226 539 \n",
       "Q 4381 306 4653 306 \n",
       "Q 4919 306 5073 539 \n",
       "Q 5228 772 5228 1178 \n",
       "Q 5228 1588 5073 1820 \n",
       "Q 4919 2053 4653 2053 \n",
       "z\n",
       "M 4653 2450 \n",
       "Q 5147 2450 5437 2106 \n",
       "Q 5728 1763 5728 1178 \n",
       "Q 5728 594 5436 251 \n",
       "Q 5144 -91 4653 -91 \n",
       "Q 4153 -91 3862 251 \n",
       "Q 3572 594 3572 1178 \n",
       "Q 3572 1766 3864 2108 \n",
       "Q 4156 2450 4653 2450 \n",
       "z\n",
       "M 1428 4353 \n",
       "Q 1159 4353 1004 4120 \n",
       "Q 850 3888 850 3481 \n",
       "Q 850 3069 1003 2837 \n",
       "Q 1156 2606 1428 2606 \n",
       "Q 1700 2606 1854 2837 \n",
       "Q 2009 3069 2009 3481 \n",
       "Q 2009 3884 1853 4118 \n",
       "Q 1697 4353 1428 4353 \n",
       "z\n",
       "M 4250 4750 \n",
       "L 4750 4750 \n",
       "L 1831 -91 \n",
       "L 1331 -91 \n",
       "L 4250 4750 \n",
       "z\n",
       "M 1428 4750 \n",
       "Q 1922 4750 2215 4408 \n",
       "Q 2509 4066 2509 3481 \n",
       "Q 2509 2891 2217 2550 \n",
       "Q 1925 2209 1428 2209 \n",
       "Q 931 2209 642 2551 \n",
       "Q 353 2894 353 3481 \n",
       "Q 353 4063 643 4406 \n",
       "Q 934 4750 1428 4750 \n",
       "z\n",
       "\" transform=\"scale(0.015625)\"/>\n",
       "      <path id=\"DejaVuSans-29\" d=\"M 513 4856 \n",
       "L 1013 4856 \n",
       "Q 1481 4119 1714 3412 \n",
       "Q 1947 2706 1947 2009 \n",
       "Q 1947 1309 1714 600 \n",
       "Q 1481 -109 1013 -844 \n",
       "L 513 -844 \n",
       "Q 928 -128 1133 580 \n",
       "Q 1338 1288 1338 2009 \n",
       "Q 1338 2731 1133 3434 \n",
       "Q 928 4138 513 4856 \n",
       "z\n",
       "\" transform=\"scale(0.015625)\"/>\n",
       "     </defs>\n",
       "     <use xlink:href=\"#DejaVuSans-50\"/>\n",
       "     <use xlink:href=\"#DejaVuSans-75\" x=\"58.552734\"/>\n",
       "     <use xlink:href=\"#DejaVuSans-72\" x=\"121.931641\"/>\n",
       "     <use xlink:href=\"#DejaVuSans-69\" x=\"163.044922\"/>\n",
       "     <use xlink:href=\"#DejaVuSans-74\" x=\"190.828125\"/>\n",
       "     <use xlink:href=\"#DejaVuSans-69\" x=\"230.037109\"/>\n",
       "     <use xlink:href=\"#DejaVuSans-65\" x=\"257.820312\"/>\n",
       "     <use xlink:href=\"#DejaVuSans-73\" x=\"319.34375\"/>\n",
       "     <use xlink:href=\"#DejaVuSans-20\" x=\"371.443359\"/>\n",
       "     <use xlink:href=\"#DejaVuSans-28\" x=\"403.230469\"/>\n",
       "     <use xlink:href=\"#DejaVuSans-25\" x=\"442.244141\"/>\n",
       "     <use xlink:href=\"#DejaVuSans-29\" x=\"537.263672\"/>\n",
       "    </g>\n",
       "   </g>\n",
       "  </g>\n",
       "  <g id=\"axes_2\">\n",
       "   <g id=\"patch_7\">\n",
       "    <path d=\"M 423.953625 313.478125 \n",
       "L 438.511625 313.478125 \n",
       "L 438.511625 22.318125 \n",
       "L 423.953625 22.318125 \n",
       "z\n",
       "\" style=\"fill: #ffffff\"/>\n",
       "   </g>\n",
       "   <image xlink:href=\"data:image/png;base64,\n",
       "iVBORw0KGgoAAAANSUhEUgAAABQAAAGVCAYAAAD+EtHEAAACJElEQVR4nO2di20EQQhD50NpKSH9l5JNEbyRbBkKQHifgZm7097+2b/fAuOQydZaq9Zmc9Y+G004kvuBS35QIfwMa211KPvAPtSXvGDJLzqF9qH8cNj0PNSXzFOe1utGJJS8afOAsryxE6HkSY6jzFf48VDQfAZQDCjjkmnbvFgBbEIDKPo+nGnTDgcobD4DKPXF+bC+OMovKoQT5u1lB8k8ZTZhYuvRz9Bh69Hf+Dj4kE1o4cNpvWZYSE6jrD8cLG4BcEIHyrP1mqE/HEZyP/Ql63fK3Eb7YSB5Wq8d40MgYaDkab12PPAhm89B8viwHTMPBRPq+9BAsn6FgVACJetXmAdF/xnq+1CfciKUQMlrs1cffR8atJ5+hQOFSJjWegZHEX0fPmg9dR8Gnr4cKmRtYyB5Wq+fEP562cDYBlD0W2+tuGmz83wYKZlNqD8PDSjrQ6GfYeA8LFixheRpvW7USYSCS0bzGVA2gHLgM7b+cIikHCdZfzhYtF6cD3nKcZIfVEh/EGQgeXzYjfFhP+rsPzqhvOSh3A2+wpt3+gpsvTtQumHReurTBj993TjJL3xIt578tOEl6y96/vSVJtlg6+XNQwPJ9LQxuJo5SKZbT3/R05IdVoB8hXm3APz0pU85cMAanL74FZAGxeF6Kz8cIqHgtwB1yfD7ti0kwwlfHEXohPBvf/Wh1JV/y+WBoVhQVq+Qtk0duEh9KHXl/3xTHso/kbeOLKQXoWEAAAAASUVORK5CYII=\" id=\"image3d412e4ba8\" transform=\"scale(1 -1) translate(0 -291.6)\" x=\"424.08\" y=\"-21.6\" width=\"14.4\" height=\"291.6\"/>\n",
       "   <g id=\"matplotlib.axis_3\"/>\n",
       "   <g id=\"matplotlib.axis_4\">\n",
       "    <g id=\"ytick_9\">\n",
       "     <g id=\"line2d_17\">\n",
       "      <defs>\n",
       "       <path id=\"m1c5ad51bd6\" d=\"M 0 0 \n",
       "L 3.5 0 \n",
       "\" style=\"stroke: #000000; stroke-width: 0.8\"/>\n",
       "      </defs>\n",
       "      <g>\n",
       "       <use xlink:href=\"#m1c5ad51bd6\" x=\"438.511625\" y=\"313.478125\" style=\"stroke: #000000; stroke-width: 0.8\"/>\n",
       "      </g>\n",
       "     </g>\n",
       "     <g id=\"text_20\">\n",
       "      <!-- 50 -->\n",
       "      <g transform=\"translate(445.511625 317.277344) scale(0.1 -0.1)\">\n",
       "       <use xlink:href=\"#DejaVuSans-35\"/>\n",
       "       <use xlink:href=\"#DejaVuSans-30\" x=\"63.623047\"/>\n",
       "      </g>\n",
       "     </g>\n",
       "    </g>\n",
       "    <g id=\"ytick_10\">\n",
       "     <g id=\"line2d_18\">\n",
       "      <g>\n",
       "       <use xlink:href=\"#m1c5ad51bd6\" x=\"438.511625\" y=\"255.246125\" style=\"stroke: #000000; stroke-width: 0.8\"/>\n",
       "      </g>\n",
       "     </g>\n",
       "     <g id=\"text_21\">\n",
       "      <!-- 60 -->\n",
       "      <g transform=\"translate(445.511625 259.045344) scale(0.1 -0.1)\">\n",
       "       <use xlink:href=\"#DejaVuSans-36\"/>\n",
       "       <use xlink:href=\"#DejaVuSans-30\" x=\"63.623047\"/>\n",
       "      </g>\n",
       "     </g>\n",
       "    </g>\n",
       "    <g id=\"ytick_11\">\n",
       "     <g id=\"line2d_19\">\n",
       "      <g>\n",
       "       <use xlink:href=\"#m1c5ad51bd6\" x=\"438.511625\" y=\"197.014125\" style=\"stroke: #000000; stroke-width: 0.8\"/>\n",
       "      </g>\n",
       "     </g>\n",
       "     <g id=\"text_22\">\n",
       "      <!-- 70 -->\n",
       "      <g transform=\"translate(445.511625 200.813344) scale(0.1 -0.1)\">\n",
       "       <use xlink:href=\"#DejaVuSans-37\"/>\n",
       "       <use xlink:href=\"#DejaVuSans-30\" x=\"63.623047\"/>\n",
       "      </g>\n",
       "     </g>\n",
       "    </g>\n",
       "    <g id=\"ytick_12\">\n",
       "     <g id=\"line2d_20\">\n",
       "      <g>\n",
       "       <use xlink:href=\"#m1c5ad51bd6\" x=\"438.511625\" y=\"138.782125\" style=\"stroke: #000000; stroke-width: 0.8\"/>\n",
       "      </g>\n",
       "     </g>\n",
       "     <g id=\"text_23\">\n",
       "      <!-- 80 -->\n",
       "      <g transform=\"translate(445.511625 142.581344) scale(0.1 -0.1)\">\n",
       "       <defs>\n",
       "        <path id=\"DejaVuSans-38\" d=\"M 2034 2216 \n",
       "Q 1584 2216 1326 1975 \n",
       "Q 1069 1734 1069 1313 \n",
       "Q 1069 891 1326 650 \n",
       "Q 1584 409 2034 409 \n",
       "Q 2484 409 2743 651 \n",
       "Q 3003 894 3003 1313 \n",
       "Q 3003 1734 2745 1975 \n",
       "Q 2488 2216 2034 2216 \n",
       "z\n",
       "M 1403 2484 \n",
       "Q 997 2584 770 2862 \n",
       "Q 544 3141 544 3541 \n",
       "Q 544 4100 942 4425 \n",
       "Q 1341 4750 2034 4750 \n",
       "Q 2731 4750 3128 4425 \n",
       "Q 3525 4100 3525 3541 \n",
       "Q 3525 3141 3298 2862 \n",
       "Q 3072 2584 2669 2484 \n",
       "Q 3125 2378 3379 2068 \n",
       "Q 3634 1759 3634 1313 \n",
       "Q 3634 634 3220 271 \n",
       "Q 2806 -91 2034 -91 \n",
       "Q 1263 -91 848 271 \n",
       "Q 434 634 434 1313 \n",
       "Q 434 1759 690 2068 \n",
       "Q 947 2378 1403 2484 \n",
       "z\n",
       "M 1172 3481 \n",
       "Q 1172 3119 1398 2916 \n",
       "Q 1625 2713 2034 2713 \n",
       "Q 2441 2713 2670 2916 \n",
       "Q 2900 3119 2900 3481 \n",
       "Q 2900 3844 2670 4047 \n",
       "Q 2441 4250 2034 4250 \n",
       "Q 1625 4250 1398 4047 \n",
       "Q 1172 3844 1172 3481 \n",
       "z\n",
       "\" transform=\"scale(0.015625)\"/>\n",
       "       </defs>\n",
       "       <use xlink:href=\"#DejaVuSans-38\"/>\n",
       "       <use xlink:href=\"#DejaVuSans-30\" x=\"63.623047\"/>\n",
       "      </g>\n",
       "     </g>\n",
       "    </g>\n",
       "    <g id=\"ytick_13\">\n",
       "     <g id=\"line2d_21\">\n",
       "      <g>\n",
       "       <use xlink:href=\"#m1c5ad51bd6\" x=\"438.511625\" y=\"80.550125\" style=\"stroke: #000000; stroke-width: 0.8\"/>\n",
       "      </g>\n",
       "     </g>\n",
       "     <g id=\"text_24\">\n",
       "      <!-- 90 -->\n",
       "      <g transform=\"translate(445.511625 84.349344) scale(0.1 -0.1)\">\n",
       "       <defs>\n",
       "        <path id=\"DejaVuSans-39\" d=\"M 703 97 \n",
       "L 703 672 \n",
       "Q 941 559 1184 500 \n",
       "Q 1428 441 1663 441 \n",
       "Q 2288 441 2617 861 \n",
       "Q 2947 1281 2994 2138 \n",
       "Q 2813 1869 2534 1725 \n",
       "Q 2256 1581 1919 1581 \n",
       "Q 1219 1581 811 2004 \n",
       "Q 403 2428 403 3163 \n",
       "Q 403 3881 828 4315 \n",
       "Q 1253 4750 1959 4750 \n",
       "Q 2769 4750 3195 4129 \n",
       "Q 3622 3509 3622 2328 \n",
       "Q 3622 1225 3098 567 \n",
       "Q 2575 -91 1691 -91 \n",
       "Q 1453 -91 1209 -44 \n",
       "Q 966 3 703 97 \n",
       "z\n",
       "M 1959 2075 \n",
       "Q 2384 2075 2632 2365 \n",
       "Q 2881 2656 2881 3163 \n",
       "Q 2881 3666 2632 3958 \n",
       "Q 2384 4250 1959 4250 \n",
       "Q 1534 4250 1286 3958 \n",
       "Q 1038 3666 1038 3163 \n",
       "Q 1038 2656 1286 2365 \n",
       "Q 1534 2075 1959 2075 \n",
       "z\n",
       "\" transform=\"scale(0.015625)\"/>\n",
       "       </defs>\n",
       "       <use xlink:href=\"#DejaVuSans-39\"/>\n",
       "       <use xlink:href=\"#DejaVuSans-30\" x=\"63.623047\"/>\n",
       "      </g>\n",
       "     </g>\n",
       "    </g>\n",
       "    <g id=\"ytick_14\">\n",
       "     <g id=\"line2d_22\">\n",
       "      <g>\n",
       "       <use xlink:href=\"#m1c5ad51bd6\" x=\"438.511625\" y=\"22.318125\" style=\"stroke: #000000; stroke-width: 0.8\"/>\n",
       "      </g>\n",
       "     </g>\n",
       "     <g id=\"text_25\">\n",
       "      <!-- 100 -->\n",
       "      <g transform=\"translate(445.511625 26.117344) scale(0.1 -0.1)\">\n",
       "       <use xlink:href=\"#DejaVuSans-31\"/>\n",
       "       <use xlink:href=\"#DejaVuSans-30\" x=\"63.623047\"/>\n",
       "       <use xlink:href=\"#DejaVuSans-30\" x=\"127.246094\"/>\n",
       "      </g>\n",
       "     </g>\n",
       "    </g>\n",
       "   </g>\n",
       "   <g id=\"LineCollection_1\"/>\n",
       "   <g id=\"patch_8\">\n",
       "    <path d=\"M 423.953625 313.478125 \n",
       "L 431.232625 313.478125 \n",
       "L 438.511625 313.478125 \n",
       "L 438.511625 22.318125 \n",
       "L 431.232625 22.318125 \n",
       "L 423.953625 22.318125 \n",
       "L 423.953625 313.478125 \n",
       "z\n",
       "\" style=\"fill: none; stroke: #000000; stroke-width: 0.8; stroke-linejoin: miter; stroke-linecap: square\"/>\n",
       "   </g>\n",
       "  </g>\n",
       " </g>\n",
       " <defs>\n",
       "  <clipPath id=\"pbca44d545c\">\n",
       "   <rect x=\"53.328125\" y=\"22.318125\" width=\"348.824\" height=\"291.16\"/>\n",
       "  </clipPath>\n",
       " </defs>\n",
       "</svg>\n"
      ],
      "text/plain": [
       "<Figure size 700x500 with 2 Axes>"
      ]
     },
     "metadata": {},
     "output_type": "display_data"
    }
   ],
   "source": [
    "tomo = tomoExpt\n",
    "\n",
    "# rho_id = qt.ket2dm((psi00 + psi01 + psi10 + psi11).unit())\n",
    "print('init_state', init_state)\n",
    "rho_id = qt.ket2dm(name_to_state_2q(init_state))\n",
    "\n",
    "# filename = 'S:\\\\Connie\\\\experiments\\\\qramLL_4QR2\\\\data\\\\data_240617\\\\00023_OptimalCtrlTomo2Q_01.h5'\n",
    "# tomo = meas.OptimalCtrlTomo2QExperiment(config_file=config_path)\n",
    "# data, attrs = prev_data(filename, None)\n",
    "# tomo.data = data\n",
    "# tomo.cfg = AttrDict(attrs['config'])\n",
    "# pulse_dict = attrs['pulse_dict']\n",
    "\n",
    "q0, q1 = tomo_qubits\n",
    "evol_mats_file_path = os.path.join(evol_mats_path, evol_mats_filename)\n",
    "print(f'Using evol mats from file {evol_mats_file_path}')\n",
    "\n",
    "evol_mats = dict()\n",
    "with np.load(evol_mats_file_path) as npzfile:\n",
    "    for key in npzfile.keys():\n",
    "        evol_mats.update({key:npzfile[key]})\n",
    "\n",
    "\n",
    "data = tomo.data\n",
    "cfg = tomo.cfg\n",
    "\n",
    "gainpts0 = tomo.data['gainpts0']\n",
    "gainpts1 = tomo.data['gainpts1']\n",
    "fids_grid = np.zeros(shape=(len(gainpts1), len(gainpts0)))\n",
    "purities_grid = np.zeros(shape=(len(gainpts1), len(gainpts0)))\n",
    "\n",
    "for igain0, gain0 in enumerate(gainpts0):\n",
    "    for igain1, gain1 in enumerate(gainpts1):\n",
    "        if apply_ps:\n",
    "            n_tomo_raw, n_calib = tomo_analysis.n_tomo_calib_from_data(\n",
    "                data, cfg, ps_adjust=ps_adjust, ps_qubits=ps_qubits,\n",
    "                ishots_raw=data['ishots_raw'][igain0, igain1], qshots_raw=data['qshots_raw'][igain0, igain1],\n",
    "                apply_ps=apply_ps, verbose=False)\n",
    "        else:\n",
    "            n_tomo_raw = data['counts_tomo_gains'][igain0, igain1]\n",
    "            n_calib = data['counts_calib']\n",
    "        \n",
    "        rho_MLE_ZZ = tomo_analysis.get_rho_from_counts(\n",
    "            n_tomo_raw=n_tomo_raw,\n",
    "            n_calib=n_calib,\n",
    "            correct_readout=True,\n",
    "            correct_neg_counts=True,\n",
    "            method='analytical',\n",
    "            ZZ_correction=True,\n",
    "            evol_mats=evol_mats,\n",
    "        )\n",
    "        fid_ZZ = qt.fidelity(qt.Qobj(rho_MLE_ZZ, dims=rho_id.dims), rho_id)**2 # qutip uses N&C fidelity which is \"sqrt fidelity\"\n",
    "        purity_ZZ = np.real(np.trace(rho_MLE_ZZ @ rho_MLE_ZZ))\n",
    "        \n",
    "        fids_grid[igain1, igain0] = fid_ZZ\n",
    "        purities_grid[igain1, igain0] = purity_ZZ\n",
    "        print(gain0, gain1, 'fid', fid_ZZ, 'purity', purity_ZZ)\n",
    "\n",
    "x_sweep = gainpts0\n",
    "y_sweep = gainpts1\n",
    "\n",
    "plt.figure(figsize=(7,5))\n",
    "plt.subplot(111, title=f\"Fidelities (%)\", ylabel=f\"Gain Q{tomo.cfg.expt.IQ_qubits[1]}\")\n",
    "plt.imshow(\n",
    "    np.flip(fids_grid*100, 0),\n",
    "    cmap='viridis',\n",
    "    extent=[x_sweep[0], x_sweep[-1], y_sweep[0], y_sweep[-1]],\n",
    "    aspect='auto')\n",
    "plt.colorbar()\n",
    "plt.clim(vmin=50, vmax=100)\n",
    "plt.xlabel(f'Gain Q{tomo.cfg.expt.IQ_qubits[0]}')\n",
    "plt.tight_layout()\n",
    "plt.show()\n",
    "\n",
    "plt.figure(figsize=(7,5))\n",
    "plt.subplot(111, title=f\"Purities (%)\", ylabel=f\"Gain Q{tomo.cfg.expt.IQ_qubits[1]}\")\n",
    "plt.imshow(\n",
    "    np.flip(purities_grid*100, 0),\n",
    "    cmap='viridis',\n",
    "    extent=[x_sweep[0], x_sweep[-1], y_sweep[0], y_sweep[-1]],\n",
    "    aspect='auto')\n",
    "plt.colorbar()\n",
    "plt.clim(vmin=50, vmax=100)\n",
    "plt.xlabel(f'Gain Q{tomo.cfg.expt.IQ_qubits[0]}')\n",
    "plt.tight_layout()\n",
    "plt.show()"
   ]
  },
  {
   "cell_type": "markdown",
   "metadata": {},
   "source": [
    "Pick one gain to plot tomo for"
   ]
  },
  {
   "cell_type": "code",
   "execution_count": 371,
   "metadata": {},
   "outputs": [
    {
     "name": "stdout",
     "output_type": "stream",
     "text": [
      "plotting at gain Q0 2999 Q1 5532\n",
      "expected fid 0.9243577344888096\n",
      "expected purity 0.8820013485423933\n",
      "Tomography counts\n",
      "[[ 200.  836.  161.  571.]\n",
      " [ 627.  456.  336.  395.]\n",
      " [ 577.  468.  319.  404.]\n",
      " [ 429. 1115.   58.  228.]\n",
      " [ 796.  700.  122.  154.]\n",
      " [ 792.  747.  143.  159.]\n",
      " [ 310. 1176.   72.  249.]\n",
      " [ 762.  680.  137.  172.]\n",
      " [ 769.  644.  149.  166.]]\n",
      "Confusion matrix counts\n",
      "[[4304.  812.  154.   67.]\n",
      " [1355. 3628.   60.  173.]\n",
      " [ 376.   90. 3683. 1054.]\n",
      " [ 151.  417.  819. 3805.]]\n",
      "Confusion matrix corrected tomo matrix will be\n",
      "[[-153.75047 1151.69445   55.8385   714.21752]\n",
      " [ 564.15601  460.84916  343.01288  399.98195]\n",
      " [ 508.45598  503.90887  325.99543  429.63972]\n",
      " [  16.26822 1518.45078    2.36374  230.91726]\n",
      " [ 702.85297  832.61935  100.31745  132.21024]\n",
      " [ 646.30038  872.67826  126.08352  122.93783]\n",
      " [-170.35711 1661.63803   22.89941  253.81967]\n",
      " [ 673.94588  818.80759  120.05849  155.18804]\n",
      " [ 709.0675   771.88676  141.4794   145.56635]]\n",
      "Negative counts corrected tomo matrix will be\n",
      "[[   0.         1024.71939357   91.22267369  652.05793274]\n",
      " [ 564.15601     460.84916     343.01288     399.98195   ]\n",
      " [ 508.45598     503.90887     325.99543     429.63972   ]\n",
      " [  16.26822    1518.45078       2.36374     230.91726   ]\n",
      " [ 702.85297     832.61935     100.31745     132.21024   ]\n",
      " [ 646.30038     872.67826     126.08352     122.93783   ]\n",
      " [   0.         1440.77046179   66.81003952  260.41949869]\n",
      " [ 673.94588     818.80759     120.05849     155.18804   ]\n",
      " [ 709.0675      771.88676     141.4794      145.56635   ]]\n"
     ]
    }
   ],
   "source": [
    "gain0 = 3000 # x axis\n",
    "gain1 = 5532 # y axis\n",
    "\n",
    "tomo = tomoExpt\n",
    "cfg = tomo.cfg\n",
    "\n",
    "data = tomo.data\n",
    "gainpts0 = tomo.data['gainpts0']\n",
    "gainpts1 = tomo.data['gainpts1']\n",
    "igain0 = np.argmin(np.abs(gainpts0-gain0)) \n",
    "igain1 = np.argmin(np.abs(gainpts1-gain1)) \n",
    "print('plotting at gain Q0', gainpts0[igain0], 'Q1', gainpts1[igain1])\n",
    "print('expected fid', fids_grid[igain1, igain0])\n",
    "print('expected purity', purities_grid[igain1, igain0])\n",
    "# tomo = qramExpt\n",
    "\n",
    "# data, attrs = prev_data(expt_path, '00062_qram_protocol.h5')\n",
    "# pulse_dict = attrs['pulse_dict']\n",
    "# assert np.all(np.array(attrs['meas_order']) == meas_order)\n",
    "# assert np.all(np.array(attrs['calib_order']) == calib_order)\n",
    "\n",
    "pulse_dict = tomo.pulse_dict\n",
    "assert np.all(np.array(tomo.meas_order) == tomo_analysis.meas_order)\n",
    "assert np.all(np.array(tomo.calib_order) == tomo_analysis.calib_order)\n",
    "\n",
    "if apply_ps:\n",
    "    n_tomo_raw, n_calib = tomo_analysis.n_tomo_calib_from_data(\n",
    "        data, cfg, ps_adjust=ps_adjust, ps_qubits=ps_qubits,\n",
    "        ishots_raw=data['ishots_raw'][igain0, igain1], qshots_raw=data['qshots_raw'][igain0, igain1],\n",
    "        apply_ps=apply_ps, verbose=False)\n",
    "else:\n",
    "    n_tomo_raw = data['counts_tomo_gains'][igain0, igain1]\n",
    "    n_calib = data['counts_calib']\n",
    "\n",
    "np.set_printoptions(suppress=True)\n",
    "\n",
    "print('Tomography counts')\n",
    "print(n_tomo_raw)\n",
    "print('Confusion matrix counts')\n",
    "print(n_calib)\n",
    "print('Confusion matrix corrected tomo matrix will be')\n",
    "print(tomo_analysis.correct_readout_err(n_tomo_raw, n_calib))\n",
    "# print('Negative counts corrected tomo matrix will be')\n",
    "# print(tomo_analysis.fix_neg_counts(tomo_analysis.correct_readout_err(n_tomo_raw, n_calib)))"
   ]
  },
  {
   "cell_type": "markdown",
   "metadata": {},
   "source": [
    "## Qram experiment"
   ]
  },
  {
   "cell_type": "code",
   "execution_count": 14,
   "metadata": {},
   "outputs": [],
   "source": [
    "# tomo_qubits = [0, 3] # which qubit/resonators to do tomo on\n",
    "# tomo_qubits = [0, 2] # which qubit/resonators to do tomo on\n",
    "tomo_qubits = [0, 1] # which qubit/resonators to do tomo on"
   ]
  },
  {
   "cell_type": "code",
   "execution_count": 15,
   "metadata": {},
   "outputs": [],
   "source": [
    "save_data = False"
   ]
  },
  {
   "cell_type": "code",
   "execution_count": 16,
   "metadata": {},
   "outputs": [
    {
     "name": "stdout",
     "output_type": "stream",
     "text": [
      "init_state |1>|0+1>\n",
      "post select False\n"
     ]
    }
   ],
   "source": [
    "init_state = '|1>|0+1>' # Q0/Q1 (switch, input)\n",
    "# init_state = 'Q3Q0_|1>|1>'\n",
    "# init_state = '|1>|0>' # Q0/Q1 (switch, input)\n",
    "# init_state = 'Q2Q0_|1>|0>'\n",
    "# init_state = '|1>|1>' # Q0/Q1 (switch, input)\n",
    "# play_pulses = [2, 1, 4, 3] # 1: Q2/Q1 with Q0 in g, 2: Q3/Q1 with Q0 in e, 3: Q2 ef pulse, 4: Q3 ef pulse [2, 1, 4, 3]\n",
    "# play_pulses = [2, 4] # 1: Q2/Q1 with Q0 in g, 2: Q3/Q1 with Q0 in e, 3: Q2 ef pulse, 4: Q3 ef pulse [2, 1, 4, 3]\n",
    "# play_pulses = [1, 3] # 1: Q2/Q1 with Q0 in g, 2: Q3/Q1 with Q0 in e, 3: Q2 ef pulse, 4: Q3 ef pulse [2, 1, 4, 3]\n",
    "play_pulses = [0] # 1: Q2/Q1 with Q0 in g, 2: Q3/Q1 with Q0 in e, 3: Q2 ef pulse, 4: Q3 ef pulse [2, 1, 4, 3]\n",
    "# play_pulses = [2, 1, 4, 3]\n",
    "# play_pulses = [2]*8 # 1: Q2/Q1 with Q0 in g, 2: Q3/Q1 with Q0 in e, 3: Q2 ef pulse, 4: Q3 ef pulse [2, 1, 4, 3]\n",
    "\n",
    "# cool_qubits = [0, 1]\n",
    "cool_qubits = None\n",
    "\n",
    "readout_cool = False\n",
    "full_mux_expt = True\n",
    "resonator_reset = [0, 2, 3]\n",
    "\n",
    "use_IQ_pulse = False # state transfer IQ pulses for the state prep\n",
    "use_robust_pulses = True # use robust pulses for state prep + tomo\n",
    "\n",
    "post_select = False # this is not the readout post selection\n",
    "\n",
    "# add_phase = True # phase for swaps\n",
    "add_phase = False\n",
    "print('init_state', init_state)\n",
    "print('post select', post_select)"
   ]
  },
  {
   "cell_type": "code",
   "execution_count": 18,
   "metadata": {},
   "outputs": [
    {
     "name": "stdout",
     "output_type": "stream",
     "text": [
      "TOMO QUBITS [0, 1]\n",
      "init state |1>|0+1>\n"
     ]
    },
    {
     "name": "stderr",
     "output_type": "stream",
     "text": [
      "  0%|                                                                                            | 0/1 [00:00<?, ?it/s]"
     ]
    },
    {
     "name": "stdout",
     "output_type": "stream",
     "text": [
      "timesteps [inf]\n"
     ]
    },
    {
     "data": {
      "application/vnd.jupyter.widget-view+json": {
       "model_id": "51677a28865346d6b49d36105d267c4b",
       "version_major": 2,
       "version_minor": 0
      },
      "text/plain": [
       "  0%|          | 0/4 [00:00<?, ?it/s]"
      ]
     },
     "metadata": {},
     "output_type": "display_data"
    },
    {
     "name": "stdout",
     "output_type": "stream",
     "text": [
      "Qubit (0)\n",
      "ge fidelity (%): 81.3992579257926 \t angle (deg): 0.0 \t threshold ge: 981.3865437121162\n",
      "Qubit (1)\n",
      "ge fidelity (%): 46.84999999999998 \t angle (deg): 0.0 \t threshold ge: 1133.6333772856133\n",
      "thresholds=[981.3865437121162, 1133.6333772856133, 0, 0],\n",
      "angles=[0.0, 0.0, 0, 0],\n",
      "ge_avgs=[[-0.6205959316517495, 1.7629946297803085, 2.0008698128559823, -0.8476379170056966], [429.1301867371847, 779.5735119609438, 548.4438690805534, 1152.1870986981285], array([0., 0., 0., 0.]), array([0., 0., 0., 0.])],\n",
      "counts_calib=[[6877, 2342, 589, 192], [2487, 6402, 308, 803], [750, 334, 4668, 4248], [377, 761, 2561, 6301]]\n"
     ]
    },
    {
     "data": {
      "application/vnd.jupyter.widget-view+json": {
       "model_id": "5da412ac88204ba9bdfd15cd525fd3a6",
       "version_major": 2,
       "version_minor": 0
      },
      "text/plain": [
       "  0%|          | 0/1 [00:00<?, ?it/s]"
      ]
     },
     "metadata": {},
     "output_type": "display_data"
    },
    {
     "data": {
      "application/vnd.jupyter.widget-view+json": {
       "model_id": "46a135a292f6414b97c8b188e4a4da76",
       "version_major": 2,
       "version_minor": 0
      },
      "text/plain": [
       "  0%|          | 0/9 [00:00<?, ?it/s]"
      ]
     },
     "metadata": {},
     "output_type": "display_data"
    },
    {
     "name": "stdout",
     "output_type": "stream",
     "text": [
      "ZZ [ 554  533 3987 4926]\n",
      "ZX [ 661  417 4867 4055]\n",
      "ZY [ 680  490 4360 4470]\n",
      "XZ [2257 2523 2436 2784]\n",
      "XX [3264 1508 2470 2758]\n",
      "XY [3103 1693 2902 2302]\n",
      "YZ [2587 2309 2197 2907]\n",
      "YX [3935 1410 2532 2123]\n"
     ]
    },
    {
     "name": "stderr",
     "output_type": "stream",
     "text": [
      "100%|████████████████████████████████████████████████████████████████████████████████████| 1/1 [01:04<00:00, 64.24s/it]"
     ]
    },
    {
     "name": "stdout",
     "output_type": "stream",
     "text": [
      "YY [3550 1516 2843 2091]\n"
     ]
    },
    {
     "name": "stderr",
     "output_type": "stream",
     "text": [
      "\n"
     ]
    }
   ],
   "source": [
    "qramExpts = []\n",
    "nrepeat = 1\n",
    "print('TOMO QUBITS', tomo_qubits)\n",
    "print('init state', init_state)\n",
    "saved_files = []\n",
    "\n",
    "for i in tqdm(range(nrepeat)):\n",
    "    qramExpt = meas.QramProtocolExperiment(\n",
    "        soccfg=soc,\n",
    "        path=expt_path,\n",
    "        config_file=config_path,\n",
    "        ns_address=ns_address,\n",
    "    )\n",
    "\n",
    "    # span = 2.161196963262976 # total time [us]\n",
    "    # span = 1.1659462011134218 # total time [us]\n",
    "    span = np.inf\n",
    "    npts = 1\n",
    "    # span = 1.8 # total time [us]\n",
    "    # npts = 120\n",
    "    # span = 0.8 # total time [us]\n",
    "    # npts = 10\n",
    "    if span < np.inf: print('time step size [cycles]:', soc.us2cycles(span/npts))\n",
    "\n",
    "    qramExpt.cfg.expt = dict(\n",
    "        # start=0, # start protocol time [us],\n",
    "        # step=span/npts, # time step [us], \n",
    "        # expts=npts+1, # number of different time experiments - added 1 to include 0 step and full span\n",
    "\n",
    "        start=span,\n",
    "        step=0,\n",
    "        expts=1, # number of different time experiments\n",
    "\n",
    "        # reps=1000000, # number of reps per time step,\n",
    "        reps=10000, # number of reps per time step,\n",
    "        # singleshot_reps=10, # reps per state for singleshot calibration\n",
    "        singleshot_reps=10000, # reps per state for singleshot calibration\n",
    "        post_process='scale', # 'threshold', (uses single shot binning), 'scale' (scale by ge_avgs), or None\n",
    "        tomo_2q=True, # True/False whether to do 2q state tomography on state at last time step\n",
    "        tomo_qubits=tomo_qubits, # the qubits on which to do the 2q state tomo\n",
    "        calib_apply_q1_pi2=False, # initialize Q1 to 0+1 for all calibrations\n",
    "        init_state=init_state,\n",
    "        play_pulses=play_pulses,\n",
    "        cool_qubits=cool_qubits,\n",
    "        \n",
    "        use_IQ_pulse=use_IQ_pulse, # state transfer IQ pulses for the state prep\n",
    "        use_robust_pulses=use_robust_pulses, # use robust pulses for state prep + tomo\n",
    "        plot_IQ=False,\n",
    "        \n",
    "        add_phase=add_phase,\n",
    "        \n",
    "        readout_cool=readout_cool,\n",
    "        n_init_readout=1,\n",
    "        n_trig=1,\n",
    "        init_read_wait_us=2,\n",
    "        \n",
    "        full_mux_expt=full_mux_expt,\n",
    "        resonator_reset=resonator_reset,\n",
    "        \n",
    "        # meas_order=['XX'],\n",
    "        \n",
    "        # Icontrols=I_values_MHz, # 2D array with array of Icontrols for each of IQ_qubits\n",
    "        # Qcontrols=Q_values_MHz, # 2D array with array of Qcontrols for each of IQ_qubits\n",
    "        # times_us=times_us,\n",
    "        # IQ_qubits=IQ_qubits,\n",
    "        # IQ_gain=[3700, 3950],\n",
    "        \n",
    "        # thresholds=[33.169103683345895, 37.49913270024612, 0, 0],\n",
    "        # angles=[-24.579056838557847, 115.19639444481155, 0, 0],\n",
    "        # ge_avgs=[[34.43056101813111, -9.525004532775455, 44.589988819153874, -4.651175313807532], [30.053312459336368, -50.17723301886793, 25.548312166558233, -59.65660634352635], array([0., 0., 0., 0.]), array([0., 0., 0., 0.])],\n",
    "        # counts_calib=[[12553, 5207, 1604, 636], [4673, 12956, 666, 1705], [2241, 876, 12383, 4500], [918, 2095, 4712, 12275]]\n",
    " \n",
    "    )\n",
    "\n",
    "    # print(qramExpt.cfg)\n",
    "\n",
    "    import Pyro4.util\n",
    "    try:\n",
    "        qramExpt.acquire(progress=True, debug=False)\n",
    "    except Exception:\n",
    "        print(\"Pyro traceback:\")\n",
    "        print(\"\".join(Pyro4.util.getPyroTraceback()))\n",
    "\n",
    "    qramExpts.append(qramExpt)\n",
    "    if save_data: saved_files.append(qramExpt.save_data())"
   ]
  },
  {
   "cell_type": "code",
   "execution_count": 85,
   "metadata": {},
   "outputs": [
    {
     "name": "stdout",
     "output_type": "stream",
     "text": [
      "Saving S:\\QRAM\\qram_4QR2\\data\\data_241025\\00119_qram_protocol.h5\n"
     ]
    },
    {
     "data": {
      "text/plain": [
       "'S:\\\\QRAM\\\\qram_4QR2\\\\data\\\\data_241025\\\\00119_qram_protocol.h5'"
      ]
     },
     "execution_count": 85,
     "metadata": {},
     "output_type": "execute_result"
    }
   ],
   "source": [
    "qramExpt.save_data()"
   ]
  },
  {
   "cell_type": "markdown",
   "metadata": {},
   "source": [
    "### post processing average counts"
   ]
  },
  {
   "cell_type": "code",
   "execution_count": 19,
   "metadata": {},
   "outputs": [],
   "source": [
    "apply_ps = False\n",
    "ps_adjust = [-0.3, -1.0, -0.3, -0.3]\n",
    "# ps_adjust = [np.inf]*4\n",
    "ps_qubits = [0, 1, 2, 3]\n",
    "\n",
    "\n",
    "postselect = False # this is not the readout post selection\n",
    "postselect_state = 1 # select on Q1 being 0 (-) or 1 (+)"
   ]
  },
  {
   "cell_type": "code",
   "execution_count": 20,
   "metadata": {},
   "outputs": [
    {
     "name": "stdout",
     "output_type": "stream",
     "text": [
      "init state |1>|0+1>\n"
     ]
    }
   ],
   "source": [
    "cfg = qramExpt.cfg\n",
    "print('init state', qramExpt.cfg.expt.init_state)\n",
    "n_tomo_raw_rounds = []\n",
    "n_calib_rounds = []\n",
    "n_tomo_rounds = []\n",
    "for qramExpt in qramExpts:\n",
    "    tomo = qramExpt\n",
    "    data = tomo.data\n",
    "    if postselect and qramExpt.cfg.expt.post_select:\n",
    "        n_tomo_raw = np.array(data[f'counts_tomo_ps{postselect_state}'])\n",
    "        n_calib = np.array(data['counts_calib'])\n",
    "        print(f'Just getting states from post selection value of {postselect_state}')\n",
    "    elif postselect and not qramExpt.cfg.expt.post_select:\n",
    "        assert False, 'You are trying to post select but the experiment was not run with the post select flag=True!'\n",
    "    elif qramExpt.cfg.expt.post_select:\n",
    "        n_tomo_raw = np.array(data[f'counts_tomo_ps0'] + data[f'counts_tomo_ps1'])\n",
    "        n_calib = np.array(data['counts_calib'])\n",
    "    else:\n",
    "        n_tomo_raw, n_calib = tomo_analysis.n_tomo_calib_from_data(data, cfg, ps_adjust=ps_adjust, ps_qubits=ps_qubits, apply_ps=apply_ps, verbose=True)\n",
    "    \n",
    "    n_tomo_raw_rounds.append(n_tomo_raw)\n",
    "    n_calib_rounds.append(n_calib)\n",
    "\n",
    "pulse_dict = qramExpts[-1].pulse_dict\n",
    "# print(pulse_dict)"
   ]
  },
  {
   "cell_type": "code",
   "execution_count": 21,
   "metadata": {},
   "outputs": [
    {
     "name": "stdout",
     "output_type": "stream",
     "text": [
      "num rounds 1\n",
      "Measure order ['ZZ' 'ZX' 'ZY' 'XZ' 'XX' 'XY' 'YZ' 'YX' 'YY']\n",
      "Average raw tomography counts\n",
      "[[0.0554 0.0533 0.3987 0.4926]\n",
      " [0.0661 0.0417 0.4867 0.4055]\n",
      " [0.068  0.049  0.436  0.447 ]\n",
      " [0.2257 0.2523 0.2436 0.2784]\n",
      " [0.3264 0.1508 0.247  0.2758]\n",
      " [0.3103 0.1693 0.2902 0.2302]\n",
      " [0.2587 0.2309 0.2197 0.2907]\n",
      " [0.3935 0.141  0.2532 0.2123]\n",
      " [0.355  0.1516 0.2843 0.2091]]\n",
      "Average confusion matrix counts\n",
      "[[0.6877 0.2342 0.0589 0.0192]\n",
      " [0.2487 0.6402 0.0308 0.0803]\n",
      " [0.075  0.0334 0.4668 0.4248]\n",
      " [0.0377 0.0761 0.2561 0.6301]]\n",
      "Corrected counts\n"
     ]
    },
    {
     "name": "stderr",
     "output_type": "stream",
     "text": [
      "RuntimeWarning: Mean of empty slice.\n",
      " C:\\ProgramData\\Anaconda3\\lib\\site-packages\\numpy\\lib\\function_base.py: 520RuntimeWarning: invalid value encountered in scalar divide\n",
      " C:\\ProgramData\\Anaconda3\\lib\\site-packages\\numpy\\core\\_methods.py: 129RuntimeWarning: Degrees of freedom <= 0 for slice\n",
      " C:\\ProgramData\\Anaconda3\\lib\\site-packages\\numpy\\core\\_methods.py: 206RuntimeWarning: invalid value encountered in divide\n",
      " C:\\ProgramData\\Anaconda3\\lib\\site-packages\\numpy\\core\\_methods.py: 163RuntimeWarning: invalid value encountered in scalar divide\n",
      " C:\\ProgramData\\Anaconda3\\lib\\site-packages\\numpy\\core\\_methods.py: 198"
     ]
    },
    {
     "name": "stdout",
     "output_type": "stream",
     "text": [
      "[[ 0.     0.002  0.666  0.332]\n",
      " [ 0.     0.002  0.998 -0.   ]\n",
      " [ 0.     0.013  0.86   0.128]\n",
      " [ 0.169  0.296  0.416  0.118]\n",
      " [ 0.406  0.048  0.388  0.157]\n",
      " [ 0.357  0.103  0.541 -0.   ]\n",
      " [ 0.249  0.228  0.303  0.22 ]\n",
      " [ 0.518  0.006  0.476 -0.   ]\n",
      " [ 0.447  0.042  0.51  -0.   ]]\n"
     ]
    }
   ],
   "source": [
    "n_tomo_raw = np.average(n_tomo_raw_rounds, axis=0)\n",
    "n_tomo_raw_std = np.std(n_tomo_raw_rounds, axis=0)\n",
    "n_calib = np.average(n_calib_rounds, axis=0)\n",
    "n_calib_std = np.std(n_calib_rounds, axis=0)\n",
    "n_tomo_avg = np.average(n_tomo_rounds, axis=0)\n",
    "n_tomo_std = np.std(n_tomo_rounds, axis=0)\n",
    "# n_tomo_corrected = tomo_analysis.fix_neg_counts(tomo_analysis.correct_readout_err(n_tomo_raw, n_calib))\n",
    "print('num rounds', len(n_tomo_raw_rounds))\n",
    "\n",
    "print('Measure order', tomo_analysis.meas_order)\n",
    "\n",
    "print('Average raw tomography counts')\n",
    "for r in range(n_tomo_raw.shape[0]):\n",
    "    n_tomo_raw[r,:]/=np.sum(n_tomo_raw[r,:])\n",
    "print(n_tomo_raw)\n",
    "# print('Std raw tomography counts')\n",
    "# print(n_tomo_raw_std)\n",
    "print('Average confusion matrix counts')\n",
    "for r in range(n_calib.shape[0]):\n",
    "    n_calib[r,:]/=np.sum(n_calib[r,:])\n",
    "print(n_calib)\n",
    "print('Corrected counts')\n",
    "print(np.around(tomo_analysis.correct_readout_err(n_tomo_raw, n_calib), decimals=3))\n",
    "# print('Std confusion matrix counts')\n",
    "# print(n_calib_std)\n",
    "# print('Average n_tomo')\n",
    "# print(n_tomo_avg)\n",
    "# print('Std n_tomo')\n",
    "# print(n_tomo_std)\n",
    "# print('Corrected average tomo with average calib counts, corrected for neg counts')\n",
    "# print(n_tomo_corrected)\n",
    "\n",
    "# n_tomo = n_tomo_avg\n",
    "# print(pulse_dict['ZX'].keys())\n",
    "# print(pulse_dict['ZX']['Yhalf_q1'])\n",
    "# print(pulse_dict['ZX']['Xhalf_q1'])"
   ]
  },
  {
   "cell_type": "markdown",
   "metadata": {},
   "source": [
    "Plot single shot blobs for various bases"
   ]
  },
  {
   "cell_type": "code",
   "execution_count": 121,
   "metadata": {},
   "outputs": [],
   "source": [
    "tomo = qramExpt"
   ]
  },
  {
   "cell_type": "code",
   "execution_count": 95,
   "metadata": {},
   "outputs": [
    {
     "name": "stdout",
     "output_type": "stream",
     "text": [
      "g unrotated averages:\n",
      "I 153.30682987080104 +/- 157.32054944247898 \t Q 217.1223333333333 +/- 141.3361102164992 \t Amp 301.119706597186 +/- 157.1549087492475\n",
      "Rotated (theta=-0.6213754729628493):\n",
      "I 251.04913741636943 +/- 170.87577995648476 \t Q 87.28930243530819 +/- 124.60786151875367 \t Amp 265.79144402547246 +/- 157.1549087492475\n",
      "e unrotated averages:\n",
      "I 470.169922118863 +/- 169.17283148206135 \t Q 443.9923636692506 +/- 145.78154327321593 \t Amp 660.9410711297123 +/- 176.68497510131715\n",
      "Rotated (theta=-0.6213754729628493):\n",
      "I 640.7570150550231 +/- 184.99926100713037 \t Q 87.28930243530819 +/- 125.08788389605972 \t Amp 646.6753239933203 +/- 176.68497510131715\n",
      "ee unrotated averages:\n",
      "I 449.7158577777779 +/- 173.84332881185708 \t Q 423.1998562790698 +/- 153.0774827193562 \t Amp 632.1569343699769 +/- 188.08056812829648\n",
      "Rotated (theta=-0.6213754729628493):\n",
      "I 612.0218123529866 +/- 196.16008314947985 \t Q 82.29077892202478 +/- 123.18863773445753 \t Amp 617.5293281225013 +/- 188.08056812829648\n",
      "ZZ unrotated averages:\n",
      "I 321.5762570542635 +/- 231.18497967724227 \t Q 333.8136932816537 +/- 183.80757224399636 \t Amp 489.82372250850955 +/- 249.29362252948485\n",
      "Rotated (theta=-0.6213754729628493):\n",
      "I 455.7977400955334 +/- 267.9779925298773 \t Q 84.20980374738102 +/- 124.17533556329084 \t Amp 463.51145716515776 +/- 249.29362252948485\n",
      "exported multihist.jpg\n"
     ]
    },
    {
     "data": {
      "text/plain": [
       "[[0.7739999999999998], [437.8966430523112], -35.60219209371666]"
      ]
     },
     "execution_count": 95,
     "metadata": {},
     "output_type": "execute_result"
    }
   ],
   "source": [
    "q = 0\n",
    "plot_bases = ['ZZ']\n",
    "\n",
    "data = tomo.data\n",
    "check_states = []\n",
    "\n",
    "iprep_g = 0\n",
    "if q == tomo.cfg.expt.tomo_qubits[0]: iprep_e = 2\n",
    "else: iprep_e = 1\n",
    "iprep_ee = 3\n",
    "\n",
    "data['iqshots'] = []\n",
    "data['iqshots'].append((data[f'calib_ishots_raw'][iprep_g, :, -1, :], data[f'calib_qshots_raw'][iprep_g, :, -1, :]))\n",
    "check_states.append('g')\n",
    "data['iqshots'].append((data[f'calib_ishots_raw'][iprep_e, :, -1, :], data[f'calib_qshots_raw'][iprep_e, :, -1, :]))\n",
    "check_states.append('e')\n",
    "data['iqshots'].append((data[f'calib_ishots_raw'][iprep_ee, :, -1, :], data[f'calib_qshots_raw'][iprep_ee, :, -1, :]))\n",
    "check_states.append('ee')\n",
    "\n",
    "for basis in plot_bases:\n",
    "    ibasis = np.where(tomo_analysis.meas_order == basis)[0][0]\n",
    "    data['iqshots'].append((data[f'ishots_raw'][ibasis, :, -1, :], data[f'qshots_raw'][ibasis, :, -1, :]))\n",
    "    check_states.append(basis)\n",
    "\n",
    "play_pulses_list = [] # this is just so we don't print play pulses in the multihist\n",
    "for check_state in check_states:\n",
    "    play_pulses_list.append([0])\n",
    "g_states = [0]\n",
    "e_states = [1]\n",
    "\n",
    "meas.single_qubit.single_shot.multihist(\n",
    "    title=f'Single Shot Q{q} with Multi Readout',\n",
    "    data=data, check_qubit=q, check_states=check_states, play_pulses_list=play_pulses_list, g_states=g_states, e_states=e_states,\n",
    "    plot=True, export=True)"
   ]
  },
  {
   "cell_type": "code",
   "execution_count": null,
   "metadata": {},
   "outputs": [],
   "source": [
    "# n_tomo = np.array( # |0>(|0+1>)\n",
    "# [[7000,    0,    0,    0.],\n",
    "#  [3792, 3073,  136,    0.],\n",
    "#  [3970, 2784,    0,  247.],\n",
    "#  [2472,    0, 4528,    0.],\n",
    "#  [1411, 1199, 2044, 2346.],\n",
    "#  [1533, 1196, 1949, 2322.],\n",
    "#  [2195,    0, 4805,    0.],\n",
    "#  [1624, 1141, 1970, 2265.],\n",
    "#  [1549, 1185, 2072, 2193.]]\n",
    "# )\n",
    " \n",
    "# n_tomo = np.array( # |1>(|0+1>)\n",
    "# [[ 971, 2621, 3408,    0.],\n",
    "#  [1845, 2063, 1577, 1515.],\n",
    "#  [1916, 1949, 1368, 1767.],\n",
    "#  [2170,  999, 2005, 1825.],\n",
    "#  [1757, 1430, 1434, 2378.],\n",
    "#  [1457, 1758, 1643, 2142.],\n",
    "#  [2217, 1055, 1985, 1743.],\n",
    "#  [1738, 1478, 1332, 2453.],\n",
    "#  [1841, 1476, 1305, 2378.]]\n",
    "# )\n",
    "\n",
    "# n_tomo = np.array( # (|0+1>)(|0+1>)\n",
    "# [[3569, 1651, 1780,    0.],\n",
    "#  [2896, 2730,  880,  495.],\n",
    "#  [2897, 2727,  773,  603.],\n",
    "#  [2200,  737, 3594,  470.],\n",
    "#  [1630, 1303, 2016, 2051.],\n",
    "#  [1626, 1360, 1906, 2108.],\n",
    "#  [2408,  460, 3146,  987.],\n",
    "#  [1430, 1641, 2026, 1904.],\n",
    "#  [1478, 1387, 1767, 2368.]]\n",
    "# )\n",
    "\n",
    "# n_tomo = np.array( # (|0+i1>)(|0+1>)\n",
    "# [[3163., 2173., 1664.,    0.],\n",
    "#  [2438., 3299.,  806.,  456.],\n",
    "#  [2627., 3226.,  722.,  425.],\n",
    "#  [1857., 1092., 3028., 1023.],\n",
    "#  [1242., 1632., 1695., 2431.],\n",
    "#  [1469., 1365., 1518., 2647.],\n",
    "#  [1980.,  885., 2896., 1239.],\n",
    "#  [1300., 1627., 1468., 2605.],\n",
    "#  [ 963., 1985., 1752., 2300.]])\n"
   ]
  },
  {
   "cell_type": "markdown",
   "metadata": {
    "tags": []
   },
   "source": [
    "## Big qram protocol loop!"
   ]
  },
  {
   "cell_type": "code",
   "execution_count": 91,
   "metadata": {},
   "outputs": [
    {
     "name": "stdout",
     "output_type": "stream",
     "text": [
      "['|0>|0>', '|0>|1>', '|0>|0+1>', '|0>|0+i>', '|1>|0>', '|1>|1>', '|1>|0+1>', '|1>|0+i>', '|0+1>|0>', '|0+1>|1>', '|0+1>|0+1>', '|0+1>|0+i>', '|0+i>|0>', '|0+i>|1>', '|0+i>|0+1>', '|0+i>|0+i>']\n",
      "16\n"
     ]
    }
   ],
   "source": [
    "cardinal_states = ['|0>', '|1>', '|0+1>', '|0+i>']\n",
    "init_states = []\n",
    "for state0 in cardinal_states:\n",
    "    for state1 in cardinal_states:\n",
    "        init_states.append(state0 + state1)\n",
    "\n",
    "# init_states = ['|1>|0+1>', '|0+1>|1>', '|0+1>|0+1>', '|0>|0>', '|0>|1>']\n",
    "# init_states = ['|0+1>|1>', '|1>|0+1>', '|0>|0+1>', '|0+1>|0+1>']\n",
    "# init_states = ['|1>|0+1>', '|1>|0+i>', '|1>|1>']\n",
    "\n",
    "\n",
    "print(init_states)\n",
    "print(len(init_states))\n",
    "\n",
    "protocol_play = [0] # 1: Q2/Q1 with Q0 in g, 2: Q3/Q1 with Q0 in e, 3: Q2 ef pulse, 4: Q3 ef pulse [2, 1, 4, 3]\n",
    "# init_pulse_play = [0]\n",
    "\n",
    "tomo_qubits = [0, 1] # which qubit/resonators to do tomo on\n",
    "\n",
    "cool_qubits = None\n",
    "# cool_qubits = [0, 1]\n",
    "\n",
    "use_IQ_pulse = False # state transfer IQ pulses for the state prep\n",
    "use_robust_pulses = True # use robust pulses for state prep + tomo\n",
    "\n",
    "readout_cool = False\n",
    "full_mux_expt = True\n",
    "resonator_reset = [0, 2, 3]\n",
    "\n",
    "iterations = 3\n",
    "\n",
    "save_data = True\n",
    "saved_files = []"
   ]
  },
  {
   "cell_type": "code",
   "execution_count": 92,
   "metadata": {
    "tags": []
   },
   "outputs": [
    {
     "name": "stdout",
     "output_type": "stream",
     "text": [
      "init_state |0>|0> play pulses [0]\n",
      "timesteps [inf]\n"
     ]
    },
    {
     "data": {
      "application/vnd.jupyter.widget-view+json": {
       "model_id": "740bc5ce934a448da7f7a525fce3a54f",
       "version_major": 2,
       "version_minor": 0
      },
      "text/plain": [
       "  0%|          | 0/4 [00:00<?, ?it/s]"
      ]
     },
     "metadata": {},
     "output_type": "display_data"
    },
    {
     "name": "stdout",
     "output_type": "stream",
     "text": [
      "Qubit (0)\n",
      "ge fidelity (%): 80.04 \t angle (deg): 0.0 \t threshold ge: 783.9734751963238\n",
      "Qubit (1)\n",
      "ge fidelity (%): 51.027452745274495 \t angle (deg): 0.0 \t threshold ge: 1146.524290167041\n",
      "thresholds=[783.9734751963238, 1146.524290167041, 0, 0],\n",
      "angles=[0.0, 0.0, 0, 0],\n",
      "ge_avgs=[[-6.421566883645242, 0.6115041497152153, -4.021267615947924, 4.264450772986167], [798.7630950366151, 446.1350430431245, 1121.9501078112285, 751.6692234336859], array([0., 0., 0., 0.]), array([0., 0., 0., 0.])],\n",
      "counts_calib=[[6652, 2449, 656, 243], [1991, 7016, 249, 744], [825, 281, 6246, 2648], [327, 792, 1997, 6884]]\n"
     ]
    },
    {
     "data": {
      "application/vnd.jupyter.widget-view+json": {
       "model_id": "af1be5771bc44d918a8061b3b192f094",
       "version_major": 2,
       "version_minor": 0
      },
      "text/plain": [
       "  0%|          | 0/1 [00:00<?, ?it/s]"
      ]
     },
     "metadata": {},
     "output_type": "display_data"
    },
    {
     "data": {
      "application/vnd.jupyter.widget-view+json": {
       "model_id": "9c64e96b3b85436f981ad8fa5f4a9ada",
       "version_major": 2,
       "version_minor": 0
      },
      "text/plain": [
       "  0%|          | 0/9 [00:00<?, ?it/s]"
      ]
     },
     "metadata": {},
     "output_type": "display_data"
    },
    {
     "name": "stdout",
     "output_type": "stream",
     "text": [
      "ZZ [32931 12645  3133  1291]\n",
      "ZX [20974 24108  2240  2678]\n",
      "ZY [21174 24060  2124  2642]\n",
      "XZ [18068  7201 17441  7290]\n",
      "XX [12126 13310 12110 12454]\n",
      "XY [12269 13094 12472 12165]\n",
      "YZ [18486  7073 17223  7218]\n",
      "YX [11946 13476 12445 12133]\n",
      "YY [11866 13175 12578 12381]\n",
      "Saving S:\\QRAM\\qram_4QR2\\data\\data_241025\\00246_qram_protocol.h5\n",
      "init_state |0>|1> play pulses [0]\n",
      "timesteps [inf]\n"
     ]
    },
    {
     "data": {
      "application/vnd.jupyter.widget-view+json": {
       "model_id": "abfb74582d3f4847aebe68d941f1e9d4",
       "version_major": 2,
       "version_minor": 0
      },
      "text/plain": [
       "  0%|          | 0/4 [00:00<?, ?it/s]"
      ]
     },
     "metadata": {},
     "output_type": "display_data"
    },
    {
     "name": "stdout",
     "output_type": "stream",
     "text": [
      "Qubit (0)\n",
      "ge fidelity (%): 79.81 \t angle (deg): 0.0 \t threshold ge: 757.7324797311869\n",
      "Qubit (1)\n",
      "ge fidelity (%): 48.48 \t angle (deg): 0.0 \t threshold ge: 1183.9240380758413\n",
      "thresholds=[757.7324797311869, 1183.9240380758413, 0, 0],\n",
      "angles=[0.0, 0.0, 0, 0],\n",
      "ge_avgs=[[1.5506663140764854, -2.653111147274207, -4.706168999186328, 3.3794288852725805], [805.2989399511798, 445.20143482506097, 1106.0436040683483, 747.4568541090317], array([0., 0., 0., 0.]), array([0., 0., 0., 0.])],\n",
      "counts_calib=[[6926, 2141, 696, 237], [2432, 6337, 348, 883], [856, 231, 6798, 2115], [400, 683, 2597, 6320]]\n"
     ]
    },
    {
     "data": {
      "application/vnd.jupyter.widget-view+json": {
       "model_id": "c239929d413542d99914806d1be342a5",
       "version_major": 2,
       "version_minor": 0
      },
      "text/plain": [
       "  0%|          | 0/1 [00:00<?, ?it/s]"
      ]
     },
     "metadata": {},
     "output_type": "display_data"
    },
    {
     "data": {
      "application/vnd.jupyter.widget-view+json": {
       "model_id": "181de7f419e5403f9334178a6658ae45",
       "version_major": 2,
       "version_minor": 0
      },
      "text/plain": [
       "  0%|          | 0/9 [00:00<?, ?it/s]"
      ]
     },
     "metadata": {},
     "output_type": "display_data"
    },
    {
     "name": "stdout",
     "output_type": "stream",
     "text": [
      "ZZ [12447 31731  1779  4043]\n",
      "ZX [22701 21727  2943  2629]\n",
      "ZY [22189 22121  2840  2850]\n",
      "XZ [ 6534 17488  7225 18753]\n",
      "XX [12509 11726 12005 13760]\n",
      "XY [12474 11993 12081 13452]\n",
      "YZ [ 6748 17744  7184 18324]\n",
      "YX [12975 11818 12030 13177]\n",
      "YY [12422 12266 11799 13513]\n",
      "Saving S:\\QRAM\\qram_4QR2\\data\\data_241025\\00247_qram_protocol.h5\n",
      "init_state |0>|0+1> play pulses [0]\n",
      "timesteps [inf]\n"
     ]
    },
    {
     "data": {
      "application/vnd.jupyter.widget-view+json": {
       "model_id": "04e9f189df294c02a9b69b59017e3081",
       "version_major": 2,
       "version_minor": 0
      },
      "text/plain": [
       "  0%|          | 0/4 [00:00<?, ?it/s]"
      ]
     },
     "metadata": {},
     "output_type": "display_data"
    },
    {
     "name": "stdout",
     "output_type": "stream",
     "text": [
      "Qubit (0)\n",
      "ge fidelity (%): 80.31906290629064 \t angle (deg): 0.0 \t threshold ge: 759.8310501303628\n",
      "Qubit (1)\n",
      "ge fidelity (%): 48.47760776077607 \t angle (deg): 0.0 \t threshold ge: 1165.129434742965\n",
      "thresholds=[759.8310501303628, 1165.129434742965, 0, 0],\n",
      "angles=[0.0, 0.0, 0, 0],\n",
      "ge_avgs=[[1.7621187144019521, -5.23176379170057, 0.6916925956061848, 6.856031651749389], [806.0914445077299, 438.74612815296985, 1108.3315363710333, 734.8126222945484], array([0., 0., 0., 0.]), array([0., 0., 0., 0.])],\n",
      "counts_calib=[[6710, 2291, 763, 236], [2324, 6546, 319, 811], [745, 253, 6606, 2396], [360, 704, 2379, 6557]]\n"
     ]
    },
    {
     "data": {
      "application/vnd.jupyter.widget-view+json": {
       "model_id": "0ab27f0aad6c40fbb9ce3f0919e5056d",
       "version_major": 2,
       "version_minor": 0
      },
      "text/plain": [
       "  0%|          | 0/1 [00:00<?, ?it/s]"
      ]
     },
     "metadata": {},
     "output_type": "display_data"
    },
    {
     "data": {
      "application/vnd.jupyter.widget-view+json": {
       "model_id": "4485a70618f746dbb42a47a948f34de4",
       "version_major": 2,
       "version_minor": 0
      },
      "text/plain": [
       "  0%|          | 0/9 [00:00<?, ?it/s]"
      ]
     },
     "metadata": {},
     "output_type": "display_data"
    },
    {
     "name": "stdout",
     "output_type": "stream",
     "text": [
      "ZZ [21912 22789  2498  2801]\n",
      "ZX [33721 11370  3435  1474]\n",
      "ZY [22224 22397  2890  2489]\n",
      "XZ [12221 12310 12252 13217]\n",
      "XX [18172  6722 16845  8261]\n",
      "XY [12388 12128 15787  9697]\n",
      "YZ [12209 12631 12264 12896]\n",
      "YX [18306  6642 16771  8281]\n",
      "YY [12896 12209 15334  9561]\n",
      "Saving S:\\QRAM\\qram_4QR2\\data\\data_241025\\00248_qram_protocol.h5\n",
      "init_state |0>|0+i> play pulses [0]\n",
      "timesteps [inf]\n"
     ]
    },
    {
     "data": {
      "application/vnd.jupyter.widget-view+json": {
       "model_id": "0e098a4048f84f598ebee174638c1425",
       "version_major": 2,
       "version_minor": 0
      },
      "text/plain": [
       "  0%|          | 0/4 [00:00<?, ?it/s]"
      ]
     },
     "metadata": {},
     "output_type": "display_data"
    },
    {
     "name": "stdout",
     "output_type": "stream",
     "text": [
      "Qubit (0)\n",
      "ge fidelity (%): 79.47000000000001 \t angle (deg): 0.0 \t threshold ge: 789.9281013698555\n",
      "Qubit (1)\n",
      "ge fidelity (%): 47.680000000000014 \t angle (deg): 0.0 \t threshold ge: 1176.469097600435\n",
      "thresholds=[789.9281013698555, 1176.469097600435, 0, 0],\n",
      "angles=[0.0, 0.0, 0, 0],\n",
      "ge_avgs=[[-4.2445317331163555, -0.004229861676158725, 0.07260683482505992, -3.4250390561432056], [811.9964716029292, 433.65640439381616, 1088.2415362896663, 733.1555520748575], array([0., 0., 0., 0.]), array([0., 0., 0., 0.])],\n",
      "counts_calib=[[6936, 2129, 694, 241], [2608, 6503, 271, 618], [853, 271, 6548, 2328], [437, 836, 2430, 6297]]\n"
     ]
    },
    {
     "data": {
      "application/vnd.jupyter.widget-view+json": {
       "model_id": "18fa3ceb660049db92750996e9865746",
       "version_major": 2,
       "version_minor": 0
      },
      "text/plain": [
       "  0%|          | 0/1 [00:00<?, ?it/s]"
      ]
     },
     "metadata": {},
     "output_type": "display_data"
    },
    {
     "data": {
      "application/vnd.jupyter.widget-view+json": {
       "model_id": "b5537dae2ab449bc82a46ee9a9f715e9",
       "version_major": 2,
       "version_minor": 0
      },
      "text/plain": [
       "  0%|          | 0/9 [00:00<?, ?it/s]"
      ]
     },
     "metadata": {},
     "output_type": "display_data"
    },
    {
     "name": "stdout",
     "output_type": "stream",
     "text": [
      "ZZ [23025 22123  2323  2529]\n",
      "ZX [22344 22926  1895  2835]\n",
      "ZY [34601 11099  2964  1336]\n",
      "XZ [13023 12580 12125 12272]\n",
      "XX [12695 12860  9166 15279]\n",
      "XY [19211  6417 16339  8033]\n",
      "YZ [13056 12321 12417 12206]\n",
      "YX [12222 12993  9039 15746]\n",
      "YY [19140  6489 16436  7935]\n",
      "Saving S:\\QRAM\\qram_4QR2\\data\\data_241025\\00249_qram_protocol.h5\n",
      "init_state |1>|0> play pulses [0]\n",
      "timesteps [inf]\n"
     ]
    },
    {
     "data": {
      "application/vnd.jupyter.widget-view+json": {
       "model_id": "97741c5c028e41f18e9472b0c5daf4bf",
       "version_major": 2,
       "version_minor": 0
      },
      "text/plain": [
       "  0%|          | 0/4 [00:00<?, ?it/s]"
      ]
     },
     "metadata": {},
     "output_type": "display_data"
    },
    {
     "name": "stdout",
     "output_type": "stream",
     "text": [
      "Qubit (0)\n",
      "ge fidelity (%): 78.21 \t angle (deg): 0.0 \t threshold ge: 772.2034364941659\n",
      "Qubit (1)\n",
      "ge fidelity (%): 49.22999999999998 \t angle (deg): 0.0 \t threshold ge: 1183.9716653936696\n",
      "thresholds=[772.2034364941659, 1183.9716653936696, 0, 0],\n",
      "angles=[0.0, 0.0, 0, 0],\n",
      "ge_avgs=[[-4.007175996745322, -1.4373518307567126, -3.8737275020341744, -0.15070569568755027], [809.2963977217249, 446.663841985354, 1105.6640586655817, 759.8826996745321], array([0., 0., 0., 0.]), array([0., 0., 0., 0.])],\n",
      "counts_calib=[[6853, 2178, 723, 246], [2373, 6519, 292, 816], [963, 254, 6523, 2260], [339, 724, 2459, 6478]]\n"
     ]
    },
    {
     "data": {
      "application/vnd.jupyter.widget-view+json": {
       "model_id": "96f40943097f48d5b52550a9a52e9a7f",
       "version_major": 2,
       "version_minor": 0
      },
      "text/plain": [
       "  0%|          | 0/1 [00:00<?, ?it/s]"
      ]
     },
     "metadata": {},
     "output_type": "display_data"
    },
    {
     "data": {
      "application/vnd.jupyter.widget-view+json": {
       "model_id": "9397b301d611480b88edb4898478256a",
       "version_major": 2,
       "version_minor": 0
      },
      "text/plain": [
       "  0%|          | 0/9 [00:00<?, ?it/s]"
      ]
     },
     "metadata": {},
     "output_type": "display_data"
    },
    {
     "name": "stdout",
     "output_type": "stream",
     "text": [
      "ZZ [ 4185  1252 33179 11384]\n",
      "ZX [ 2667  2418 24174 20741]\n",
      "ZY [ 2879  2602 24187 20332]\n",
      "XZ [14852  4840 22238  8070]\n",
      "XX [10233  9601 16180 13986]\n",
      "XY [10364  9528 16341 13767]\n",
      "YZ [19018  6027 18148  6807]\n",
      "YX [12719 12118 13255 11908]\n",
      "YY [12798 12144 13400 11658]\n",
      "Saving S:\\QRAM\\qram_4QR2\\data\\data_241025\\00250_qram_protocol.h5\n",
      "init_state |1>|1> play pulses [0]\n",
      "timesteps [inf]\n"
     ]
    },
    {
     "data": {
      "application/vnd.jupyter.widget-view+json": {
       "model_id": "628e53d72fe44d108a6eb16771b2d1c4",
       "version_major": 2,
       "version_minor": 0
      },
      "text/plain": [
       "  0%|          | 0/4 [00:00<?, ?it/s]"
      ]
     },
     "metadata": {},
     "output_type": "display_data"
    },
    {
     "name": "stdout",
     "output_type": "stream",
     "text": [
      "Qubit (0)\n",
      "ge fidelity (%): 78.61901390139018 \t angle (deg): 0.0 \t threshold ge: 766.8144875349891\n",
      "Qubit (1)\n",
      "ge fidelity (%): 46.28 \t angle (deg): 0.0 \t threshold ge: 1154.4062208870891\n",
      "thresholds=[766.8144875349891, 1154.4062208870891, 0, 0],\n",
      "angles=[0.0, 0.0, 0, 0],\n",
      "ge_avgs=[[-1.25520276647681, 4.349923515052888, 0.6134711147274201, -0.39379983726606843], [801.8726099267697, 454.46841131000815, 1074.4675168429617, 751.6297094385679], array([0., 0., 0., 0.]), array([0., 0., 0., 0.])],\n",
      "counts_calib=[[6599, 2377, 717, 307], [2401, 6585, 302, 712], [828, 288, 6350, 2534], [321, 748, 2227, 6704]]\n"
     ]
    },
    {
     "data": {
      "application/vnd.jupyter.widget-view+json": {
       "model_id": "ef13af66af3a49a483494826679b9851",
       "version_major": 2,
       "version_minor": 0
      },
      "text/plain": [
       "  0%|          | 0/1 [00:00<?, ?it/s]"
      ]
     },
     "metadata": {},
     "output_type": "display_data"
    },
    {
     "data": {
      "application/vnd.jupyter.widget-view+json": {
       "model_id": "6c92f5171ddd4e1c9f1ee61111065e58",
       "version_major": 2,
       "version_minor": 0
      },
      "text/plain": [
       "  0%|          | 0/9 [00:00<?, ?it/s]"
      ]
     },
     "metadata": {},
     "output_type": "display_data"
    },
    {
     "name": "stdout",
     "output_type": "stream",
     "text": [
      "ZZ [ 1561  3511 11421 33507]\n",
      "ZX [ 2790  2477 18808 25925]\n",
      "ZY [ 2762  2684 18995 25559]\n",
      "XZ [ 6382 18735  7719 17164]\n",
      "XX [12363 13140  9689 14808]\n",
      "XY [12241 13299  9614 14846]\n",
      "YZ [ 5932 17739  8176 18153]\n",
      "YX [11667 12324 10303 15706]\n",
      "YY [11625 12315 10511 15549]\n",
      "Saving S:\\QRAM\\qram_4QR2\\data\\data_241025\\00251_qram_protocol.h5\n",
      "init_state |1>|0+1> play pulses [0]\n",
      "timesteps [inf]\n"
     ]
    },
    {
     "data": {
      "application/vnd.jupyter.widget-view+json": {
       "model_id": "dbf6c77653a6441da8d9545eeff24b0d",
       "version_major": 2,
       "version_minor": 0
      },
      "text/plain": [
       "  0%|          | 0/4 [00:00<?, ?it/s]"
      ]
     },
     "metadata": {},
     "output_type": "display_data"
    },
    {
     "name": "stdout",
     "output_type": "stream",
     "text": [
      "Qubit (0)\n",
      "ge fidelity (%): 80.79999999999998 \t angle (deg): 0.0 \t threshold ge: 794.260566055252\n",
      "Qubit (1)\n",
      "ge fidelity (%): 48.477678767876775 \t angle (deg): 0.0 \t threshold ge: 1171.7694110196962\n",
      "thresholds=[794.260566055252, 1171.7694110196962, 0, 0],\n",
      "angles=[0.0, 0.0, 0, 0],\n",
      "ge_avgs=[[6.170440683482505, 2.933081041497153, 2.0850139951179822, 2.103074532139953], [796.720609357201, 451.37531822620014, 1090.7909930024412, 755.4758177379985], array([0., 0., 0., 0.]), array([0., 0., 0., 0.])],\n",
      "counts_calib=[[6977, 2235, 576, 212], [2420, 6577, 290, 713], [823, 315, 6255, 2607], [324, 770, 2359, 6547]]\n"
     ]
    },
    {
     "data": {
      "application/vnd.jupyter.widget-view+json": {
       "model_id": "e2805490a8a04dd2a6af7dc1a35448e7",
       "version_major": 2,
       "version_minor": 0
      },
      "text/plain": [
       "  0%|          | 0/1 [00:00<?, ?it/s]"
      ]
     },
     "metadata": {},
     "output_type": "display_data"
    },
    {
     "data": {
      "application/vnd.jupyter.widget-view+json": {
       "model_id": "855e086c6cee45f8be56c37ee653180d",
       "version_major": 2,
       "version_minor": 0
      },
      "text/plain": [
       "  0%|          | 0/9 [00:00<?, ?it/s]"
      ]
     },
     "metadata": {},
     "output_type": "display_data"
    },
    {
     "name": "stdout",
     "output_type": "stream",
     "text": [
      "ZZ [ 3208  2641 21527 22624]\n",
      "ZX [ 3623  2073 27853 16451]\n",
      "ZY [ 3445  2164 27716 16675]\n",
      "XZ [10945 12977 13387 12691]\n",
      "XX [16046  7428 15272 11254]\n",
      "XY [15317  8526 17827  8330]\n",
      "YZ [12533 11827 12323 13317]\n",
      "YX [16892  8004 15208  9896]\n",
      "YY [16279  8284 15800  9637]\n",
      "Saving S:\\QRAM\\qram_4QR2\\data\\data_241025\\00252_qram_protocol.h5\n",
      "init_state |1>|0+i> play pulses [0]\n",
      "timesteps [inf]\n"
     ]
    },
    {
     "data": {
      "application/vnd.jupyter.widget-view+json": {
       "model_id": "69bfd00e1a404d8ca0dee15f4a2a83e9",
       "version_major": 2,
       "version_minor": 0
      },
      "text/plain": [
       "  0%|          | 0/4 [00:00<?, ?it/s]"
      ]
     },
     "metadata": {},
     "output_type": "display_data"
    },
    {
     "name": "stdout",
     "output_type": "stream",
     "text": [
      "Qubit (0)\n",
      "ge fidelity (%): 79.28912391239128 \t angle (deg): 0.0 \t threshold ge: 773.3350822069251\n",
      "Qubit (1)\n",
      "ge fidelity (%): 47.88768876887688 \t angle (deg): 0.0 \t threshold ge: 1175.1460859698964\n",
      "thresholds=[773.3350822069251, 1175.1460859698964, 0, 0],\n",
      "angles=[0.0, 0.0, 0, 0],\n",
      "ge_avgs=[[4.182265012205044, 3.285707973962572, -0.4820565500406834, 1.2798079739625723], [792.4762313262814, 455.4506707892595, 1078.8903441008952, 766.4553917005695], array([0., 0., 0., 0.]), array([0., 0., 0., 0.])],\n",
      "counts_calib=[[6887, 2186, 663, 264], [2470, 6424, 304, 802], [841, 307, 6355, 2497], [330, 770, 2339, 6561]]\n"
     ]
    },
    {
     "data": {
      "application/vnd.jupyter.widget-view+json": {
       "model_id": "48b2ac24fe2b491eb857979bff34c69d",
       "version_major": 2,
       "version_minor": 0
      },
      "text/plain": [
       "  0%|          | 0/1 [00:00<?, ?it/s]"
      ]
     },
     "metadata": {},
     "output_type": "display_data"
    },
    {
     "data": {
      "application/vnd.jupyter.widget-view+json": {
       "model_id": "7c975cf3224c468b8e7ac986bf04034d",
       "version_major": 2,
       "version_minor": 0
      },
      "text/plain": [
       "  0%|          | 0/9 [00:00<?, ?it/s]"
      ]
     },
     "metadata": {},
     "output_type": "display_data"
    },
    {
     "name": "stdout",
     "output_type": "stream",
     "text": [
      "ZZ [ 2751  2400 21618 23231]\n",
      "ZX [ 2195  3152 14975 29678]\n",
      "ZY [ 3679  2015 27914 16392]\n",
      "XZ [12001 11161 13528 13310]\n",
      "XX [ 9424 13734  7798 19044]\n",
      "XY [16611  6677 13497 13215]\n",
      "YZ [10507 12692 14090 12711]\n",
      "YX [ 8625 14501  8278 18596]\n",
      "YY [16217  7230 15630 10923]\n",
      "Saving S:\\QRAM\\qram_4QR2\\data\\data_241025\\00253_qram_protocol.h5\n",
      "init_state |0+1>|0> play pulses [0]\n",
      "timesteps [inf]\n"
     ]
    },
    {
     "data": {
      "application/vnd.jupyter.widget-view+json": {
       "model_id": "94b2d8979e394b1e9e56dd5ef0bb00cc",
       "version_major": 2,
       "version_minor": 0
      },
      "text/plain": [
       "  0%|          | 0/4 [00:00<?, ?it/s]"
      ]
     },
     "metadata": {},
     "output_type": "display_data"
    },
    {
     "name": "stdout",
     "output_type": "stream",
     "text": [
      "Qubit (0)\n",
      "ge fidelity (%): 79.61999999999998 \t angle (deg): 0.0 \t threshold ge: 794.8642968398784\n",
      "Qubit (1)\n",
      "ge fidelity (%): 48.44999999999998 \t angle (deg): 0.0 \t threshold ge: 1160.5946694953725\n",
      "thresholds=[794.8642968398784, 1160.5946694953725, 0, 0],\n",
      "angles=[0.0, 0.0, 0, 0],\n",
      "ge_avgs=[[2.5179337672904802, 1.1625603742880395, 9.906976647681043, 4.472721236777868], [794.9514906427991, 462.6946576078112, 1095.488176647681, 756.7574031733116], array([0., 0., 0., 0.]), array([0., 0., 0., 0.])],\n",
      "counts_calib=[[6783, 2393, 586, 238], [2285, 6722, 258, 735], [866, 353, 6086, 2695], [357, 781, 2093, 6769]]\n"
     ]
    },
    {
     "data": {
      "application/vnd.jupyter.widget-view+json": {
       "model_id": "1aa6a0b35e6d468aa6ff884f343ec6ef",
       "version_major": 2,
       "version_minor": 0
      },
      "text/plain": [
       "  0%|          | 0/1 [00:00<?, ?it/s]"
      ]
     },
     "metadata": {},
     "output_type": "display_data"
    },
    {
     "data": {
      "application/vnd.jupyter.widget-view+json": {
       "model_id": "d1a4ce56101d4b65b29fbf5132231d83",
       "version_major": 2,
       "version_minor": 0
      },
      "text/plain": [
       "  0%|          | 0/9 [00:00<?, ?it/s]"
      ]
     },
     "metadata": {},
     "output_type": "display_data"
    },
    {
     "name": "stdout",
     "output_type": "stream",
     "text": [
      "ZZ [19049  6848 16985  7118]\n",
      "ZX [12367 13023 12442 12168]\n",
      "ZY [12753 12896 12209 12142]\n",
      "XZ [33469 11483  3626  1422]\n",
      "XX [21818 22807  2510  2865]\n",
      "XY [22061 22737  2430  2772]\n",
      "YZ [15016  5682 19698  9604]\n",
      "YX [10189 10679 13484 15648]\n",
      "YY [10053 10419 14626 14902]\n",
      "Saving S:\\QRAM\\qram_4QR2\\data\\data_241025\\00254_qram_protocol.h5\n",
      "init_state |0+1>|1> play pulses [0]\n",
      "timesteps [inf]\n"
     ]
    },
    {
     "data": {
      "application/vnd.jupyter.widget-view+json": {
       "model_id": "a10861bd71534d1fa9ed4852233cf732",
       "version_major": 2,
       "version_minor": 0
      },
      "text/plain": [
       "  0%|          | 0/4 [00:00<?, ?it/s]"
      ]
     },
     "metadata": {},
     "output_type": "display_data"
    },
    {
     "name": "stdout",
     "output_type": "stream",
     "text": [
      "Qubit (0)\n",
      "ge fidelity (%): 80.00920192019201 \t angle (deg): 0.0 \t threshold ge: 790.1240137790553\n",
      "Qubit (1)\n",
      "ge fidelity (%): 49.609999999999985 \t angle (deg): 0.0 \t threshold ge: 1189.583225682869\n",
      "thresholds=[790.1240137790553, 1189.583225682869, 0, 0],\n",
      "angles=[0.0, 0.0, 0, 0],\n",
      "ge_avgs=[[-4.926657038242475, -1.4656078112286413, 3.7227419039869827, -3.4635501220504477], [798.2820065093572, 466.7394715215622, 1110.5713703824247, 763.6994342554923], array([0., 0., 0., 0.]), array([0., 0., 0., 0.])],\n",
      "counts_calib=[[7009, 2148, 618, 225], [2376, 6635, 293, 696], [808, 354, 5890, 2948], [396, 747, 2433, 6424]]\n"
     ]
    },
    {
     "data": {
      "application/vnd.jupyter.widget-view+json": {
       "model_id": "3cbc43810894401baeadd9d24e533276",
       "version_major": 2,
       "version_minor": 0
      },
      "text/plain": [
       "  0%|          | 0/1 [00:00<?, ?it/s]"
      ]
     },
     "metadata": {},
     "output_type": "display_data"
    },
    {
     "data": {
      "application/vnd.jupyter.widget-view+json": {
       "model_id": "c9170971e53143b093ba9c02f37d2504",
       "version_major": 2,
       "version_minor": 0
      },
      "text/plain": [
       "  0%|          | 0/9 [00:00<?, ?it/s]"
      ]
     },
     "metadata": {},
     "output_type": "display_data"
    },
    {
     "name": "stdout",
     "output_type": "stream",
     "text": [
      "ZZ [ 6957 18095  6770 18178]\n",
      "ZX [13253 12073 10652 14022]\n",
      "ZY [13028 11809 11884 13279]\n",
      "XZ [12419 31848  1776  3957]\n",
      "XX [23111 21416  2254  3219]\n",
      "XY [23151 21107  2888  2854]\n",
      "YZ [ 7537 20100  6318 16045]\n",
      "YX [14246 13809 10035 11910]\n",
      "YY [14823 13315 10356 11506]\n",
      "Saving S:\\QRAM\\qram_4QR2\\data\\data_241025\\00255_qram_protocol.h5\n",
      "init_state |0+1>|0+1> play pulses [0]\n",
      "timesteps [inf]\n"
     ]
    },
    {
     "data": {
      "application/vnd.jupyter.widget-view+json": {
       "model_id": "23b29fda5f524f2b9df4437d43cfe921",
       "version_major": 2,
       "version_minor": 0
      },
      "text/plain": [
       "  0%|          | 0/4 [00:00<?, ?it/s]"
      ]
     },
     "metadata": {},
     "output_type": "display_data"
    },
    {
     "name": "stdout",
     "output_type": "stream",
     "text": [
      "Qubit (0)\n",
      "ge fidelity (%): 77.89905390539056 \t angle (deg): 0.0 \t threshold ge: 768.7458556944877\n",
      "Qubit (1)\n",
      "ge fidelity (%): 46.53999999999998 \t angle (deg): 0.0 \t threshold ge: 1174.5700809663974\n",
      "thresholds=[768.7458556944877, 1174.5700809663974, 0, 0],\n",
      "angles=[0.0, 0.0, 0, 0],\n",
      "ge_avgs=[[-5.6329441008950365, 3.3924655817738008, 1.8586801464605371, -1.3222446704637918], [797.8568934092758, 463.5391206672091, 1074.7983636289666, 760.0888284784378], array([0., 0., 0., 0.]), array([0., 0., 0., 0.])],\n",
      "counts_calib=[[6748, 2254, 740, 258], [2545, 6375, 311, 769], [935, 287, 6262, 2516], [387, 771, 2476, 6366]]\n"
     ]
    },
    {
     "data": {
      "application/vnd.jupyter.widget-view+json": {
       "model_id": "555b75f0927149c1953aff14fb41246e",
       "version_major": 2,
       "version_minor": 0
      },
      "text/plain": [
       "  0%|          | 0/1 [00:00<?, ?it/s]"
      ]
     },
     "metadata": {},
     "output_type": "display_data"
    },
    {
     "data": {
      "application/vnd.jupyter.widget-view+json": {
       "model_id": "2c3574dd7c404ec5ad756c5bfeb0e578",
       "version_major": 2,
       "version_minor": 0
      },
      "text/plain": [
       "  0%|          | 0/9 [00:00<?, ?it/s]"
      ]
     },
     "metadata": {},
     "output_type": "display_data"
    },
    {
     "name": "stdout",
     "output_type": "stream",
     "text": [
      "ZZ [12501 12193 12312 12994]\n",
      "ZX [18598  6453 14928 10021]\n",
      "ZY [13067 11992 16798  8143]\n",
      "XZ [21729 20435  3665  4171]\n",
      "XX [30716 11601  4045  3638]\n",
      "XY [24945 17400  3851  3804]\n",
      "YZ [11790 15229 13334  9647]\n",
      "YX [19780  8012 13654  8554]\n",
      "YY [16664 11197 14576  7563]\n",
      "Saving S:\\QRAM\\qram_4QR2\\data\\data_241025\\00256_qram_protocol.h5\n",
      "init_state |0+1>|0+i> play pulses [0]\n",
      "timesteps [inf]\n"
     ]
    },
    {
     "data": {
      "application/vnd.jupyter.widget-view+json": {
       "model_id": "4b0f00a8c23f42f596d2602f66212d3e",
       "version_major": 2,
       "version_minor": 0
      },
      "text/plain": [
       "  0%|          | 0/4 [00:00<?, ?it/s]"
      ]
     },
     "metadata": {},
     "output_type": "display_data"
    },
    {
     "name": "stdout",
     "output_type": "stream",
     "text": [
      "Qubit (0)\n",
      "ge fidelity (%): 80.08000000000001 \t angle (deg): 0.0 \t threshold ge: 766.0367236447223\n",
      "Qubit (1)\n",
      "ge fidelity (%): 47.649999999999984 \t angle (deg): 0.0 \t threshold ge: 1166.447792610238\n",
      "thresholds=[766.0367236447223, 1166.447792610238, 0, 0],\n",
      "angles=[0.0, 0.0, 0, 0],\n",
      "ge_avgs=[[1.8499871440195281, -5.39806997558991, -3.6020057770545173, -2.0219322213181457], [793.7249427990236, 468.7363646867372, 1092.3821037428806, 763.7265570382425], array([0., 0., 0., 0.]), array([0., 0., 0., 0.])],\n",
      "counts_calib=[[6718, 2337, 692, 253], [2333, 6584, 316, 767], [793, 257, 6284, 2666], [327, 739, 2351, 6583]]\n"
     ]
    },
    {
     "data": {
      "application/vnd.jupyter.widget-view+json": {
       "model_id": "682debc46a3a4f9aae429436d8308791",
       "version_major": 2,
       "version_minor": 0
      },
      "text/plain": [
       "  0%|          | 0/1 [00:00<?, ?it/s]"
      ]
     },
     "metadata": {},
     "output_type": "display_data"
    },
    {
     "data": {
      "application/vnd.jupyter.widget-view+json": {
       "model_id": "34deb5ffb21e49d2ac330de7781df9cf",
       "version_major": 2,
       "version_minor": 0
      },
      "text/plain": [
       "  0%|          | 0/9 [00:00<?, ?it/s]"
      ]
     },
     "metadata": {},
     "output_type": "display_data"
    },
    {
     "name": "stdout",
     "output_type": "stream",
     "text": [
      "ZZ [12505 12546 12135 12814]\n",
      "ZX [11952 12995  7621 17432]\n",
      "ZY [18731  6665 14697  9907]\n",
      "XZ [21488 21087  3356  4069]\n",
      "XX [17140 24889  3209  4762]\n",
      "XY [30982 11611  3882  3525]\n",
      "YZ [11438 15657 13066  9839]\n",
      "YX [11437 16421  7608 14534]\n",
      "YY [19717  8113 13275  8895]\n",
      "Saving S:\\QRAM\\qram_4QR2\\data\\data_241025\\00257_qram_protocol.h5\n",
      "init_state |0+i>|0> play pulses [0]\n",
      "timesteps [inf]\n"
     ]
    },
    {
     "data": {
      "application/vnd.jupyter.widget-view+json": {
       "model_id": "73c969a4510f454881d111bc9a09de2b",
       "version_major": 2,
       "version_minor": 0
      },
      "text/plain": [
       "  0%|          | 0/4 [00:00<?, ?it/s]"
      ]
     },
     "metadata": {},
     "output_type": "display_data"
    },
    {
     "name": "stdout",
     "output_type": "stream",
     "text": [
      "Qubit (0)\n",
      "ge fidelity (%): 80.68920692069204 \t angle (deg): 0.0 \t threshold ge: 782.0007750820431\n",
      "Qubit (1)\n",
      "ge fidelity (%): 47.0 \t angle (deg): 0.0 \t threshold ge: 1145.7131765678957\n",
      "thresholds=[782.0007750820431, 1145.7131765678957, 0, 0],\n",
      "angles=[0.0, 0.0, 0, 0],\n",
      "ge_avgs=[[1.8005416598860866, 3.2074200976403575, -5.4538448331977225, 3.3568056956875516], [783.9121620829943, 469.4039067534581, 1068.4157109845403, 757.983455980472], array([0., 0., 0., 0.]), array([0., 0., 0., 0.])],\n",
      "counts_calib=[[6721, 2440, 610, 229], [2339, 6630, 317, 714], [813, 287, 6123, 2777], [377, 819, 2008, 6796]]\n"
     ]
    },
    {
     "data": {
      "application/vnd.jupyter.widget-view+json": {
       "model_id": "b4f258fdaf8e41aba3210f6716a6fcd3",
       "version_major": 2,
       "version_minor": 0
      },
      "text/plain": [
       "  0%|          | 0/1 [00:00<?, ?it/s]"
      ]
     },
     "metadata": {},
     "output_type": "display_data"
    },
    {
     "data": {
      "application/vnd.jupyter.widget-view+json": {
       "model_id": "3230c34ca38643dc960256951c9aacd4",
       "version_major": 2,
       "version_minor": 0
      },
      "text/plain": [
       "  0%|          | 0/9 [00:00<?, ?it/s]"
      ]
     },
     "metadata": {},
     "output_type": "display_data"
    },
    {
     "name": "stdout",
     "output_type": "stream",
     "text": [
      "ZZ [18504  6968 17458  7070]\n",
      "ZX [11853 13473 12069 12605]\n",
      "ZY [12119 13281 11941 12659]\n",
      "XZ [21494  7952 14254  6300]\n",
      "XX [14114 15047 10355 10484]\n",
      "XY [13808 15401 10236 10555]\n",
      "YZ [32131 12631  3671  1567]\n",
      "YX [21046 23258  2687  3009]\n",
      "YY [21168 23401  2545  2886]\n",
      "Saving S:\\QRAM\\qram_4QR2\\data\\data_241025\\00258_qram_protocol.h5\n",
      "init_state |0+i>|1> play pulses [0]\n",
      "timesteps [inf]\n"
     ]
    },
    {
     "data": {
      "application/vnd.jupyter.widget-view+json": {
       "model_id": "bd50b410b2034e558ab2371675b2d18b",
       "version_major": 2,
       "version_minor": 0
      },
      "text/plain": [
       "  0%|          | 0/4 [00:00<?, ?it/s]"
      ]
     },
     "metadata": {},
     "output_type": "display_data"
    },
    {
     "name": "stdout",
     "output_type": "stream",
     "text": [
      "Qubit (0)\n",
      "ge fidelity (%): 79.41999999999999 \t angle (deg): 0.0 \t threshold ge: 762.4580783580428\n",
      "Qubit (1)\n",
      "ge fidelity (%): 49.51 \t angle (deg): 0.0 \t threshold ge: 1162.5711875871166\n",
      "thresholds=[762.4580783580428, 1162.5711875871166, 0, 0],\n",
      "angles=[0.0, 0.0, 0, 0],\n",
      "ge_avgs=[[1.888786086248983, 0.4833013832384051, -3.2238301871440207, 3.5330972335231907], [783.0731511798209, 468.61854247355575, 1081.8120090317332, 772.9796428803905], array([0., 0., 0., 0.]), array([0., 0., 0., 0.])],\n",
      "counts_calib=[[6732, 2254, 768, 246], [2229, 6549, 331, 891], [790, 275, 6517, 2418], [389, 709, 2385, 6517]]\n"
     ]
    },
    {
     "data": {
      "application/vnd.jupyter.widget-view+json": {
       "model_id": "2a75d0fc78304b61946c6489c688806c",
       "version_major": 2,
       "version_minor": 0
      },
      "text/plain": [
       "  0%|          | 0/1 [00:00<?, ?it/s]"
      ]
     },
     "metadata": {},
     "output_type": "display_data"
    },
    {
     "data": {
      "application/vnd.jupyter.widget-view+json": {
       "model_id": "db1e14ce88ea47c19baa6e0ee64aac6f",
       "version_major": 2,
       "version_minor": 0
      },
      "text/plain": [
       "  0%|          | 0/9 [00:00<?, ?it/s]"
      ]
     },
     "metadata": {},
     "output_type": "display_data"
    },
    {
     "name": "stdout",
     "output_type": "stream",
     "text": [
      "ZZ [ 6299 18201  6676 18824]\n",
      "ZX [12013 12551 10924 14512]\n",
      "ZY [12401 12218 11469 13912]\n",
      "XZ [ 5590 14642  8013 21755]\n",
      "XX [ 9709 10403 12627 17261]\n",
      "XY [10343 10133 12940 16584]\n",
      "YZ [11799 31917  1943  4341]\n",
      "YX [21240 22609  2414  3737]\n",
      "YY [21350 22317  3001  3332]\n",
      "Saving S:\\QRAM\\qram_4QR2\\data\\data_241025\\00259_qram_protocol.h5\n",
      "init_state |0+i>|0+1> play pulses [0]\n",
      "timesteps [inf]\n"
     ]
    },
    {
     "data": {
      "application/vnd.jupyter.widget-view+json": {
       "model_id": "00e7850ec0924733ab817e2d20a0025b",
       "version_major": 2,
       "version_minor": 0
      },
      "text/plain": [
       "  0%|          | 0/4 [00:00<?, ?it/s]"
      ]
     },
     "metadata": {},
     "output_type": "display_data"
    },
    {
     "name": "stdout",
     "output_type": "stream",
     "text": [
      "Qubit (0)\n",
      "ge fidelity (%): 79.49917491749179 \t angle (deg): 0.0 \t threshold ge: 781.4852323927221\n",
      "Qubit (1)\n",
      "ge fidelity (%): 48.857576757675766 \t angle (deg): 0.0 \t threshold ge: 1167.8576536305725\n",
      "thresholds=[781.4852323927221, 1167.8576536305725, 0, 0],\n",
      "angles=[0.0, 0.0, 0, 0],\n",
      "ge_avgs=[[-0.6509184703010582, 1.9399117168429614, -1.5048713588283165, -5.213803417412528], [795.415204637917, 470.1417501220505, 1092.5837355573635, 767.2914400325468], array([0., 0., 0., 0.]), array([0., 0., 0., 0.])],\n",
      "counts_calib=[[6787, 2342, 653, 218], [2298, 6695, 275, 732], [917, 271, 6447, 2365], [350, 825, 2231, 6594]]\n"
     ]
    },
    {
     "data": {
      "application/vnd.jupyter.widget-view+json": {
       "model_id": "d46a630e27594a79b951860d66ef969c",
       "version_major": 2,
       "version_minor": 0
      },
      "text/plain": [
       "  0%|          | 0/1 [00:00<?, ?it/s]"
      ]
     },
     "metadata": {},
     "output_type": "display_data"
    },
    {
     "data": {
      "application/vnd.jupyter.widget-view+json": {
       "model_id": "9ec5aca80ba243fabd5be9114b8342d6",
       "version_major": 2,
       "version_minor": 0
      },
      "text/plain": [
       "  0%|          | 0/9 [00:00<?, ?it/s]"
      ]
     },
     "metadata": {},
     "output_type": "display_data"
    },
    {
     "name": "stdout",
     "output_type": "stream",
     "text": [
      "ZZ [12706 12633 11877 12784]\n",
      "ZX [18731  6738 14902  9629]\n",
      "ZY [12917 12130 16679  8274]\n",
      "XZ [13390  8946 12129 15535]\n",
      "XX [15349  6914 16029 11708]\n",
      "XY [12906  9144 17756 10194]\n",
      "YZ [21805 20957  3246  3992]\n",
      "YX [31027 11800  3693  3480]\n",
      "YY [24918 17535  3646  3901]\n",
      "Saving S:\\QRAM\\qram_4QR2\\data\\data_241025\\00260_qram_protocol.h5\n",
      "init_state |0+i>|0+i> play pulses [0]\n",
      "timesteps [inf]\n"
     ]
    },
    {
     "data": {
      "application/vnd.jupyter.widget-view+json": {
       "model_id": "fee04435f14140218333715ef9ecd8f8",
       "version_major": 2,
       "version_minor": 0
      },
      "text/plain": [
       "  0%|          | 0/4 [00:00<?, ?it/s]"
      ]
     },
     "metadata": {},
     "output_type": "display_data"
    },
    {
     "name": "stdout",
     "output_type": "stream",
     "text": [
      "Qubit (0)\n",
      "ge fidelity (%): 79.30918491849185 \t angle (deg): 0.0 \t threshold ge: 793.7071089092916\n",
      "Qubit (1)\n",
      "ge fidelity (%): 48.61745274527453 \t angle (deg): 0.0 \t threshold ge: 1142.20278895568\n",
      "thresholds=[793.7071089092916, 1142.20278895568, 0, 0],\n",
      "angles=[0.0, 0.0, 0, 0],\n",
      "ge_avgs=[[0.8213941415785186, 1.300887062652563, -8.768359886086252, 1.9932745321399514], [776.7833713588283, 471.4660020341741, 1078.3386515052891, 765.7704011391376], array([0., 0., 0., 0.]), array([0., 0., 0., 0.])],\n",
      "counts_calib=[[6716, 2429, 612, 243], [2197, 6817, 269, 717], [863, 355, 6165, 2617], [465, 946, 2244, 6345]]\n"
     ]
    },
    {
     "data": {
      "application/vnd.jupyter.widget-view+json": {
       "model_id": "ea6d938c98104b8485557ef7e4ef6c93",
       "version_major": 2,
       "version_minor": 0
      },
      "text/plain": [
       "  0%|          | 0/1 [00:00<?, ?it/s]"
      ]
     },
     "metadata": {},
     "output_type": "display_data"
    },
    {
     "data": {
      "application/vnd.jupyter.widget-view+json": {
       "model_id": "43ea64eb77df413386ae31c072b09094",
       "version_major": 2,
       "version_minor": 0
      },
      "text/plain": [
       "  0%|          | 0/9 [00:00<?, ?it/s]"
      ]
     },
     "metadata": {},
     "output_type": "display_data"
    },
    {
     "name": "stdout",
     "output_type": "stream",
     "text": [
      "ZZ [12110 13343 11171 13376]\n",
      "ZX [11317 14103  6439 18141]\n",
      "ZY [18029  7548 13914 10509]\n",
      "XZ [12609  9583 11029 16779]\n",
      "XX [ 8518 13513  7769 20200]\n",
      "XY [14641  7691 14678 12990]\n",
      "YZ [20591 22187  3025  4197]\n",
      "YX [16122 26450  2714  4714]\n",
      "YY [29922 13048  3359  3671]\n",
      "Saving S:\\QRAM\\qram_4QR2\\data\\data_241025\\00261_qram_protocol.h5\n",
      "init_state |0>|0> play pulses [0]\n",
      "timesteps [inf]\n"
     ]
    },
    {
     "data": {
      "application/vnd.jupyter.widget-view+json": {
       "model_id": "f8724ee35f8c41f7a20f8e98924d418a",
       "version_major": 2,
       "version_minor": 0
      },
      "text/plain": [
       "  0%|          | 0/4 [00:00<?, ?it/s]"
      ]
     },
     "metadata": {},
     "output_type": "display_data"
    },
    {
     "name": "stdout",
     "output_type": "stream",
     "text": [
      "Qubit (0)\n",
      "ge fidelity (%): 78.959199919992 \t angle (deg): 0.0 \t threshold ge: 805.8632308653815\n",
      "Qubit (1)\n",
      "ge fidelity (%): 44.94743874387439 \t angle (deg): 0.0 \t threshold ge: 1153.0995979169145\n",
      "thresholds=[805.8632308653815, 1153.0995979169145, 0, 0],\n",
      "angles=[0.0, 0.0, 0, 0],\n",
      "ge_avgs=[[-0.6320399511798216, 1.6524095199349063, 1.0735839707078931, -3.463026932465419], [792.3703851098454, 468.87728022782744, 1053.0524683482506, 759.3542739625713], array([0., 0., 0., 0.]), array([0., 0., 0., 0.])],\n",
      "counts_calib=[[6743, 2407, 582, 268], [2538, 6481, 302, 679], [882, 374, 6021, 2723], [392, 882, 2142, 6584]]\n"
     ]
    },
    {
     "data": {
      "application/vnd.jupyter.widget-view+json": {
       "model_id": "c362c053701344ee9839670aa020d352",
       "version_major": 2,
       "version_minor": 0
      },
      "text/plain": [
       "  0%|          | 0/1 [00:00<?, ?it/s]"
      ]
     },
     "metadata": {},
     "output_type": "display_data"
    },
    {
     "data": {
      "application/vnd.jupyter.widget-view+json": {
       "model_id": "6b05d0fa0eea451cb73abbda8ad3afca",
       "version_major": 2,
       "version_minor": 0
      },
      "text/plain": [
       "  0%|          | 0/9 [00:00<?, ?it/s]"
      ]
     },
     "metadata": {},
     "output_type": "display_data"
    },
    {
     "name": "stdout",
     "output_type": "stream",
     "text": [
      "ZZ [33403 12402  2935  1260]\n",
      "ZX [21950 23543  2129  2378]\n",
      "ZY [21187 24262  2041  2510]\n",
      "XZ [18814  7161 16475  7550]\n",
      "XX [12368 13419 12021 12192]\n",
      "XY [12231 13451 11999 12319]\n",
      "YZ [18930  7071 16583  7416]\n",
      "YX [12692 13267 12201 11840]\n",
      "YY [12599 13171 12186 12044]\n",
      "Saving S:\\QRAM\\qram_4QR2\\data\\data_241025\\00262_qram_protocol.h5\n",
      "init_state |0>|1> play pulses [0]\n",
      "timesteps [inf]\n"
     ]
    },
    {
     "data": {
      "application/vnd.jupyter.widget-view+json": {
       "model_id": "31042f4baeb242b7a9cd3d9688b219c4",
       "version_major": 2,
       "version_minor": 0
      },
      "text/plain": [
       "  0%|          | 0/4 [00:00<?, ?it/s]"
      ]
     },
     "metadata": {},
     "output_type": "display_data"
    },
    {
     "name": "stdout",
     "output_type": "stream",
     "text": [
      "Qubit (0)\n",
      "ge fidelity (%): 78.78900990099012 \t angle (deg): 0.0 \t threshold ge: 762.0409130467734\n",
      "Qubit (1)\n",
      "ge fidelity (%): 48.12 \t angle (deg): 0.0 \t threshold ge: 1141.439423903816\n",
      "thresholds=[762.0409130467734, 1141.439423903816, 0, 0],\n",
      "angles=[0.0, 0.0, 0, 0],\n",
      "ge_avgs=[[1.223366395443449, -3.5509489015459725, 1.760834092758341, 2.4911697314890144], [791.3687013018714, 474.23096680227826, 1087.8077435313264, 771.6050666395445], array([0., 0., 0., 0.]), array([0., 0., 0., 0.])],\n",
      "counts_calib=[[6400, 2568, 738, 294], [2117, 6774, 233, 876], [794, 302, 5994, 2910], [322, 770, 2072, 6836]]\n"
     ]
    },
    {
     "data": {
      "application/vnd.jupyter.widget-view+json": {
       "model_id": "1e326a910e384061bc35bc62c8c1f279",
       "version_major": 2,
       "version_minor": 0
      },
      "text/plain": [
       "  0%|          | 0/1 [00:00<?, ?it/s]"
      ]
     },
     "metadata": {},
     "output_type": "display_data"
    },
    {
     "data": {
      "application/vnd.jupyter.widget-view+json": {
       "model_id": "422f8da7878745149e6ad3481debb28d",
       "version_major": 2,
       "version_minor": 0
      },
      "text/plain": [
       "  0%|          | 0/9 [00:00<?, ?it/s]"
      ]
     },
     "metadata": {},
     "output_type": "display_data"
    },
    {
     "name": "stdout",
     "output_type": "stream",
     "text": [
      "ZZ [10128 33988  1464  4420]\n",
      "ZX [21151 23630  2511  2708]\n",
      "ZY [20787 23834  2391  2988]\n",
      "XZ [ 5854 18716  5885 19545]\n",
      "XX [11699 12890 10671 14740]\n",
      "XY [11128 13448 10351 15073]\n",
      "YZ [ 6011 18543  5951 19495]\n",
      "YX [12311 12711 10918 14060]\n",
      "YY [11498 13192 11146 14164]\n",
      "Saving S:\\QRAM\\qram_4QR2\\data\\data_241025\\00263_qram_protocol.h5\n",
      "init_state |0>|0+1> play pulses [0]\n",
      "timesteps [inf]\n"
     ]
    },
    {
     "data": {
      "application/vnd.jupyter.widget-view+json": {
       "model_id": "bcb9972b4d7340f5aca4f623d519362a",
       "version_major": 2,
       "version_minor": 0
      },
      "text/plain": [
       "  0%|          | 0/4 [00:00<?, ?it/s]"
      ]
     },
     "metadata": {},
     "output_type": "display_data"
    },
    {
     "name": "stdout",
     "output_type": "stream",
     "text": [
      "Qubit (0)\n",
      "ge fidelity (%): 80.55924292429243 \t angle (deg): 0.0 \t threshold ge: 794.844644840123\n",
      "Qubit (1)\n",
      "ge fidelity (%): 46.63751275127512 \t angle (deg): 0.0 \t threshold ge: 1160.5261959789393\n",
      "thresholds=[794.844644840123, 1160.5261959789393, 0, 0],\n",
      "angles=[0.0, 0.0, 0, 0],\n",
      "ge_avgs=[[-4.097138567941415, 0.335691049633848, 0.6421045565500404, -2.8658454841334424], [795.406425305126, 463.1134068348251, 1072.2515935720098, 757.1793772172498], array([0., 0., 0., 0.]), array([0., 0., 0., 0.])],\n",
      "counts_calib=[[6795, 2410, 580, 215], [2439, 6586, 283, 692], [837, 313, 6206, 2644], [345, 774, 2616, 6265]]\n"
     ]
    },
    {
     "data": {
      "application/vnd.jupyter.widget-view+json": {
       "model_id": "1e02402ed0f94a98968dcf070029daee",
       "version_major": 2,
       "version_minor": 0
      },
      "text/plain": [
       "  0%|          | 0/1 [00:00<?, ?it/s]"
      ]
     },
     "metadata": {},
     "output_type": "display_data"
    },
    {
     "data": {
      "application/vnd.jupyter.widget-view+json": {
       "model_id": "182106b9b710472884fb93982b8a7715",
       "version_major": 2,
       "version_minor": 0
      },
      "text/plain": [
       "  0%|          | 0/9 [00:00<?, ?it/s]"
      ]
     },
     "metadata": {},
     "output_type": "display_data"
    },
    {
     "name": "stdout",
     "output_type": "stream",
     "text": [
      "ZZ [22464 22980  2204  2352]\n",
      "ZX [33500 12083  2983  1434]\n",
      "ZY [22698 22657  2490  2155]\n",
      "XZ [12670 12922 12020 12388]\n",
      "XX [18437  7011 16021  8531]\n",
      "XY [12615 12772 14676  9937]\n",
      "YZ [12499 13041 11788 12672]\n",
      "YX [18709  7093 15856  8342]\n",
      "YY [12914 12704 14588  9794]\n",
      "Saving S:\\QRAM\\qram_4QR2\\data\\data_241025\\00264_qram_protocol.h5\n",
      "init_state |0>|0+i> play pulses [0]\n",
      "timesteps [inf]\n"
     ]
    },
    {
     "data": {
      "application/vnd.jupyter.widget-view+json": {
       "model_id": "90e1b4fc2e8f48b2b309d4be2c7b0cca",
       "version_major": 2,
       "version_minor": 0
      },
      "text/plain": [
       "  0%|          | 0/4 [00:00<?, ?it/s]"
      ]
     },
     "metadata": {},
     "output_type": "display_data"
    },
    {
     "name": "stdout",
     "output_type": "stream",
     "text": [
      "Qubit (0)\n",
      "ge fidelity (%): 79.69913291329131 \t angle (deg): 0.0 \t threshold ge: 783.34014184232\n",
      "Qubit (1)\n",
      "ge fidelity (%): 47.28 \t angle (deg): 0.0 \t threshold ge: 1192.1506300080575\n",
      "thresholds=[783.34014184232, 1192.1506300080575, 0, 0],\n",
      "angles=[0.0, 0.0, 0, 0],\n",
      "ge_avgs=[[2.044351423921887, 0.43161187957689146, 0.9958519934906428, -1.6438080553295344], [787.1542893409276, 465.55570935720095, 1078.6560466232709, 754.6163645240032], array([0., 0., 0., 0.]), array([0., 0., 0., 0.])],\n",
      "counts_calib=[[7063, 2026, 676, 235], [2718, 6259, 326, 697], [841, 286, 6420, 2453], [375, 687, 2850, 6088]]\n"
     ]
    },
    {
     "data": {
      "application/vnd.jupyter.widget-view+json": {
       "model_id": "6fc12b3292674440a00edd238ab5123d",
       "version_major": 2,
       "version_minor": 0
      },
      "text/plain": [
       "  0%|          | 0/1 [00:00<?, ?it/s]"
      ]
     },
     "metadata": {},
     "output_type": "display_data"
    },
    {
     "data": {
      "application/vnd.jupyter.widget-view+json": {
       "model_id": "7f8f37cdef754292978c75e8e1dd8abe",
       "version_major": 2,
       "version_minor": 0
      },
      "text/plain": [
       "  0%|          | 0/9 [00:00<?, ?it/s]"
      ]
     },
     "metadata": {},
     "output_type": "display_data"
    },
    {
     "name": "stdout",
     "output_type": "stream",
     "text": [
      "ZZ [23579 21490  2498  2433]\n",
      "ZX [23218 21975  2093  2714]\n",
      "ZY [35067 10545  3181  1207]\n",
      "XZ [13413 11989 12994 11604]\n",
      "XX [12927 12181 10186 14706]\n",
      "XY [19644  5999 16824  7533]\n",
      "YZ [13643 11779 12915 11663]\n",
      "YX [12565 12358 10031 15046]\n",
      "YY [19300  6083 16756  7861]\n",
      "Saving S:\\QRAM\\qram_4QR2\\data\\data_241025\\00265_qram_protocol.h5\n",
      "init_state |1>|0> play pulses [0]\n",
      "timesteps [inf]\n"
     ]
    },
    {
     "data": {
      "application/vnd.jupyter.widget-view+json": {
       "model_id": "43c921b3c4d9450bbce04afd421e308e",
       "version_major": 2,
       "version_minor": 0
      },
      "text/plain": [
       "  0%|          | 0/4 [00:00<?, ?it/s]"
      ]
     },
     "metadata": {},
     "output_type": "display_data"
    },
    {
     "name": "stdout",
     "output_type": "stream",
     "text": [
      "Qubit (0)\n",
      "ge fidelity (%): 79.23911091109112 \t angle (deg): 0.0 \t threshold ge: 764.5384258653079\n",
      "Qubit (1)\n",
      "ge fidelity (%): 46.079999999999984 \t angle (deg): 0.0 \t threshold ge: 1167.323309656121\n",
      "thresholds=[764.5384258653079, 1167.323309656121, 0, 0],\n",
      "angles=[0.0, 0.0, 0, 0],\n",
      "ge_avgs=[[-3.9670351505288846, 3.2038059397884466, 0.7055078925956039, 0.5143422294548408], [796.253930105777, 467.4812142392189, 1070.3797548413343, 755.5707068348249], array([0., 0., 0., 0.]), array([0., 0., 0., 0.])],\n",
      "counts_calib=[[6756, 2300, 672, 272], [2466, 6433, 362, 739], [850, 298, 6310, 2542], [429, 716, 2800, 6055]]\n"
     ]
    },
    {
     "data": {
      "application/vnd.jupyter.widget-view+json": {
       "model_id": "aae9794210ac4965a74ebbb1f0ff550e",
       "version_major": 2,
       "version_minor": 0
      },
      "text/plain": [
       "  0%|          | 0/1 [00:00<?, ?it/s]"
      ]
     },
     "metadata": {},
     "output_type": "display_data"
    },
    {
     "data": {
      "application/vnd.jupyter.widget-view+json": {
       "model_id": "537f6776791c42e592493e5a2f01a340",
       "version_major": 2,
       "version_minor": 0
      },
      "text/plain": [
       "  0%|          | 0/9 [00:00<?, ?it/s]"
      ]
     },
     "metadata": {},
     "output_type": "display_data"
    },
    {
     "name": "stdout",
     "output_type": "stream",
     "text": [
      "ZZ [ 3961  1436 31667 12936]\n",
      "ZX [ 2981  2508 23789 20722]\n",
      "ZY [ 2709  2450 23665 21176]\n",
      "XZ [14636  5324 21265  8775]\n",
      "XX [10133  9885 15897 14085]\n",
      "XY [ 9886  9855 16057 14202]\n",
      "YZ [18645  6319 17686  7350]\n",
      "YX [12423 12358 13154 12065]\n",
      "YY [12713 12076 13253 11958]\n",
      "Saving S:\\QRAM\\qram_4QR2\\data\\data_241025\\00266_qram_protocol.h5\n",
      "init_state |1>|1> play pulses [0]\n",
      "timesteps [inf]\n"
     ]
    },
    {
     "data": {
      "application/vnd.jupyter.widget-view+json": {
       "model_id": "383f09e6b3714a8492635607bd3201f7",
       "version_major": 2,
       "version_minor": 0
      },
      "text/plain": [
       "  0%|          | 0/4 [00:00<?, ?it/s]"
      ]
     },
     "metadata": {},
     "output_type": "display_data"
    },
    {
     "name": "stdout",
     "output_type": "stream",
     "text": [
      "Qubit (0)\n",
      "ge fidelity (%): 79.9990689068907 \t angle (deg): 0.0 \t threshold ge: 755.9487651223841\n",
      "Qubit (1)\n",
      "ge fidelity (%): 46.127462746274624 \t angle (deg): 0.0 \t threshold ge: 1148.7688759196556\n",
      "thresholds=[755.9487651223841, 1148.7688759196556, 0, 0],\n",
      "angles=[0.0, 0.0, 0, 0],\n",
      "ge_avgs=[[0.2493672091131006, -2.7041678600488215, -0.5715779495524806, 1.7650262001627344], [781.7016838893409, 472.32483775427175, 1066.9626854353135, 754.0222225386493], array([0., 0., 0., 0.]), array([0., 0., 0., 0.])],\n",
      "counts_calib=[[6633, 2392, 696, 279], [2409, 6487, 322, 782], [758, 276, 6203, 2763], [327, 702, 2612, 6359]]\n"
     ]
    },
    {
     "data": {
      "application/vnd.jupyter.widget-view+json": {
       "model_id": "154e247f8c4b42cbb8b08cc22ceddd06",
       "version_major": 2,
       "version_minor": 0
      },
      "text/plain": [
       "  0%|          | 0/1 [00:00<?, ?it/s]"
      ]
     },
     "metadata": {},
     "output_type": "display_data"
    },
    {
     "data": {
      "application/vnd.jupyter.widget-view+json": {
       "model_id": "d6ffc2e46206442abd082441be7a4e36",
       "version_major": 2,
       "version_minor": 0
      },
      "text/plain": [
       "  0%|          | 0/9 [00:00<?, ?it/s]"
      ]
     },
     "metadata": {},
     "output_type": "display_data"
    },
    {
     "name": "stdout",
     "output_type": "stream",
     "text": [
      "ZZ [ 2084  3367 13986 30563]\n",
      "ZX [ 2809  2498 19684 25009]\n",
      "ZY [ 2489  2614 19420 25477]\n",
      "XZ [ 6948 18519  8218 16315]\n",
      "XX [12462 12978  9809 14751]\n",
      "XY [11877 13475  9794 14854]\n",
      "YZ [ 6280 17028  8934 17758]\n",
      "YX [11653 12095 10834 15418]\n",
      "YY [11209 12213 11050 15528]\n",
      "Saving S:\\QRAM\\qram_4QR2\\data\\data_241025\\00267_qram_protocol.h5\n",
      "init_state |1>|0+1> play pulses [0]\n",
      "timesteps [inf]\n"
     ]
    },
    {
     "data": {
      "application/vnd.jupyter.widget-view+json": {
       "model_id": "d0b3201732074752a41d67e61140955d",
       "version_major": 2,
       "version_minor": 0
      },
      "text/plain": [
       "  0%|          | 0/4 [00:00<?, ?it/s]"
      ]
     },
     "metadata": {},
     "output_type": "display_data"
    },
    {
     "name": "stdout",
     "output_type": "stream",
     "text": [
      "Qubit (0)\n",
      "ge fidelity (%): 79.9491249124913 \t angle (deg): 0.0 \t threshold ge: 781.3012876719264\n",
      "Qubit (1)\n",
      "ge fidelity (%): 44.61739973997399 \t angle (deg): 0.0 \t threshold ge: 1147.3014347630722\n",
      "thresholds=[781.3012876719264, 1147.3014347630722, 0, 0],\n",
      "angles=[0.0, 0.0, 0, 0],\n",
      "ge_avgs=[[-0.15552904800650869, -0.5453136696501226, -3.882661920260375, -6.266457119609438], [783.0759470301058, 475.42462945484135, 1059.771581936534, 746.8374393816111], array([0., 0., 0., 0.]), array([0., 0., 0., 0.])],\n",
      "counts_calib=[[6642, 2437, 634, 287], [2513, 6448, 322, 717], [757, 333, 6089, 2821], [352, 679, 2481, 6488]]\n"
     ]
    },
    {
     "data": {
      "application/vnd.jupyter.widget-view+json": {
       "model_id": "b723376fdc4b4589b681f7e0d0416696",
       "version_major": 2,
       "version_minor": 0
      },
      "text/plain": [
       "  0%|          | 0/1 [00:00<?, ?it/s]"
      ]
     },
     "metadata": {},
     "output_type": "display_data"
    },
    {
     "data": {
      "application/vnd.jupyter.widget-view+json": {
       "model_id": "bc2592d0c4264c399d638b4b39add527",
       "version_major": 2,
       "version_minor": 0
      },
      "text/plain": [
       "  0%|          | 0/9 [00:00<?, ?it/s]"
      ]
     },
     "metadata": {},
     "output_type": "display_data"
    },
    {
     "name": "stdout",
     "output_type": "stream",
     "text": [
      "ZZ [ 2808  2563 21474 23155]\n",
      "ZX [ 3135  2038 27473 17354]\n",
      "ZY [ 3152  2102 27424 17322]\n",
      "XZ [10342 13093 13863 12702]\n",
      "XX [15622  8088 14889 11401]\n",
      "XY [14199  9170 17677  8954]\n",
      "YZ [11857 12254 12249 13640]\n",
      "YX [15780  8486 15355 10379]\n",
      "YY [15455  8710 15904  9931]\n",
      "Saving S:\\QRAM\\qram_4QR2\\data\\data_241025\\00268_qram_protocol.h5\n",
      "init_state |1>|0+i> play pulses [0]\n",
      "timesteps [inf]\n"
     ]
    },
    {
     "data": {
      "application/vnd.jupyter.widget-view+json": {
       "model_id": "3be914e3a0504c6c974adc61f1304fa5",
       "version_major": 2,
       "version_minor": 0
      },
      "text/plain": [
       "  0%|          | 0/4 [00:00<?, ?it/s]"
      ]
     },
     "metadata": {},
     "output_type": "display_data"
    },
    {
     "name": "stdout",
     "output_type": "stream",
     "text": [
      "Qubit (0)\n",
      "ge fidelity (%): 79.18912291229123 \t angle (deg): 0.0 \t threshold ge: 780.1477833585959\n",
      "Qubit (1)\n",
      "ge fidelity (%): 45.21 \t angle (deg): 0.0 \t threshold ge: 1202.6867730482265\n",
      "thresholds=[780.1477833585959, 1202.6867730482265, 0, 0],\n",
      "angles=[0.0, 0.0, 0, 0],\n",
      "ge_avgs=[[0.6107588283157045, -1.5400450772986165, -1.2616658258746944, -0.6480725793327907], [799.0741380797396, 467.2442187144019, 1074.0587840520748, 744.3616310821807], array([0., 0., 0., 0.]), array([0., 0., 0., 0.])],\n",
      "counts_calib=[[7068, 2009, 696, 227], [2902, 6069, 348, 681], [898, 264, 6474, 2364], [486, 706, 3134, 5674]]\n"
     ]
    },
    {
     "data": {
      "application/vnd.jupyter.widget-view+json": {
       "model_id": "5b0b1a285b3843e0823bc3127e1109da",
       "version_major": 2,
       "version_minor": 0
      },
      "text/plain": [
       "  0%|          | 0/1 [00:00<?, ?it/s]"
      ]
     },
     "metadata": {},
     "output_type": "display_data"
    },
    {
     "data": {
      "application/vnd.jupyter.widget-view+json": {
       "model_id": "791c9e90c7da427fa24e89e8060d34a8",
       "version_major": 2,
       "version_minor": 0
      },
      "text/plain": [
       "  0%|          | 0/9 [00:00<?, ?it/s]"
      ]
     },
     "metadata": {},
     "output_type": "display_data"
    },
    {
     "name": "stdout",
     "output_type": "stream",
     "text": [
      "ZZ [ 3310  2337 24356 19997]\n",
      "ZX [ 2496  3044 18102 26358]\n",
      "ZY [ 3500  1815 29471 15214]\n",
      "XZ [12831 10731 14270 12168]\n",
      "XX [10608 12973  9647 16772]\n",
      "XY [17419  6375 14707 11499]\n",
      "YZ [11617 11932 15127 11324]\n",
      "YX [ 9767 13549 10422 16262]\n",
      "YY [16853  6807 16218 10122]\n",
      "Saving S:\\QRAM\\qram_4QR2\\data\\data_241025\\00269_qram_protocol.h5\n",
      "init_state |0+1>|0> play pulses [0]\n",
      "timesteps [inf]\n"
     ]
    },
    {
     "data": {
      "application/vnd.jupyter.widget-view+json": {
       "model_id": "b65aee5721394ce2bbfe870860687272",
       "version_major": 2,
       "version_minor": 0
      },
      "text/plain": [
       "  0%|          | 0/4 [00:00<?, ?it/s]"
      ]
     },
     "metadata": {},
     "output_type": "display_data"
    },
    {
     "name": "stdout",
     "output_type": "stream",
     "text": [
      "Qubit (0)\n",
      "ge fidelity (%): 78.79999999999995 \t angle (deg): 0.0 \t threshold ge: 778.9738588735571\n",
      "Qubit (1)\n",
      "ge fidelity (%): 43.50000000000001 \t angle (deg): 0.0 \t threshold ge: 1149.2937025384142\n",
      "thresholds=[778.9738588735571, 1149.2937025384142, 0, 0],\n",
      "angles=[0.0, 0.0, 0, 0],\n",
      "ge_avgs=[[3.5400040683482503, -2.1310371847030103, 0.9922994304312451, 5.076740846216437], [807.4827031733116, 476.43093637103334, 1061.7905015459723, 758.6754867371848], array([0., 0., 0., 0.]), array([0., 0., 0., 0.])],\n",
      "counts_calib=[[6420, 2573, 685, 322], [2440, 6492, 335, 733], [802, 312, 6050, 2836], [378, 748, 2625, 6249]]\n"
     ]
    },
    {
     "data": {
      "application/vnd.jupyter.widget-view+json": {
       "model_id": "207ff04b702b4ab38303d984dc48504b",
       "version_major": 2,
       "version_minor": 0
      },
      "text/plain": [
       "  0%|          | 0/1 [00:00<?, ?it/s]"
      ]
     },
     "metadata": {},
     "output_type": "display_data"
    },
    {
     "data": {
      "application/vnd.jupyter.widget-view+json": {
       "model_id": "5d901f842fac45b4bc4587c21775167f",
       "version_major": 2,
       "version_minor": 0
      },
      "text/plain": [
       "  0%|          | 0/9 [00:00<?, ?it/s]"
      ]
     },
     "metadata": {},
     "output_type": "display_data"
    },
    {
     "name": "stdout",
     "output_type": "stream",
     "text": [
      "ZZ [18427  6943 17173  7457]\n",
      "ZX [12288 12859 12541 12312]\n",
      "ZY [12397 12874 12500 12229]\n",
      "XZ [32581 12199  3616  1604]\n",
      "XX [21816 22475  2747  2962]\n",
      "XY [21198 22987  2685  3130]\n",
      "YZ [14559  5745 20590  9106]\n",
      "YX [ 9909 10463 15070 14558]\n",
      "YY [10195 10400 15133 14272]\n",
      "Saving S:\\QRAM\\qram_4QR2\\data\\data_241025\\00270_qram_protocol.h5\n",
      "init_state |0+1>|1> play pulses [0]\n",
      "timesteps [inf]\n"
     ]
    },
    {
     "data": {
      "application/vnd.jupyter.widget-view+json": {
       "model_id": "4a705e4cdb674b49816ea59a1e9d31ed",
       "version_major": 2,
       "version_minor": 0
      },
      "text/plain": [
       "  0%|          | 0/4 [00:00<?, ?it/s]"
      ]
     },
     "metadata": {},
     "output_type": "display_data"
    },
    {
     "name": "stdout",
     "output_type": "stream",
     "text": [
      "Qubit (0)\n",
      "ge fidelity (%): 78.43903390339035 \t angle (deg): 0.0 \t threshold ge: 764.1726820163353\n",
      "Qubit (1)\n",
      "ge fidelity (%): 45.17749474947495 \t angle (deg): 0.0 \t threshold ge: 1165.0718221843485\n",
      "thresholds=[764.1726820163353, 1165.0718221843485, 0, 0],\n",
      "angles=[0.0, 0.0, 0, 0],\n",
      "ge_avgs=[[-4.395927176566314, -6.394984458909683, -4.032448413344183, -5.072586899918633], [801.2321100895037, 472.68072579332795, 1070.585269324654, 754.9265742880391], array([0., 0., 0., 0.]), array([0., 0., 0., 0.])],\n",
      "counts_calib=[[6612, 2370, 736, 282], [2488, 6328, 358, 826], [854, 287, 6314, 2545], [375, 712, 2823, 6090]]\n"
     ]
    },
    {
     "data": {
      "application/vnd.jupyter.widget-view+json": {
       "model_id": "640ef489613b4a58ae2702721ad1a0be",
       "version_major": 2,
       "version_minor": 0
      },
      "text/plain": [
       "  0%|          | 0/1 [00:00<?, ?it/s]"
      ]
     },
     "metadata": {},
     "output_type": "display_data"
    },
    {
     "data": {
      "application/vnd.jupyter.widget-view+json": {
       "model_id": "67d10b845e1b4eff95dc4b69b085fe7f",
       "version_major": 2,
       "version_minor": 0
      },
      "text/plain": [
       "  0%|          | 0/9 [00:00<?, ?it/s]"
      ]
     },
     "metadata": {},
     "output_type": "display_data"
    },
    {
     "name": "stdout",
     "output_type": "stream",
     "text": [
      "ZZ [ 6967 17635  7790 17608]\n",
      "ZX [12342 12508 11748 13402]\n",
      "ZY [12496 12015 12005 13484]\n",
      "XZ [12072 31226  2176  4526]\n",
      "XX [21718 21981  2612  3689]\n",
      "XY [21709 22264  2873  3154]\n",
      "YZ [ 7509 19503  7481 15507]\n",
      "YX [13487 13972 10400 12141]\n",
      "YY [13684 13520 10864 11932]\n",
      "Saving S:\\QRAM\\qram_4QR2\\data\\data_241025\\00271_qram_protocol.h5\n",
      "init_state |0+1>|0+1> play pulses [0]\n",
      "timesteps [inf]\n"
     ]
    },
    {
     "data": {
      "application/vnd.jupyter.widget-view+json": {
       "model_id": "3c5c050fea7b4defb88c7e184755f19b",
       "version_major": 2,
       "version_minor": 0
      },
      "text/plain": [
       "  0%|          | 0/4 [00:00<?, ?it/s]"
      ]
     },
     "metadata": {},
     "output_type": "display_data"
    },
    {
     "name": "stdout",
     "output_type": "stream",
     "text": [
      "Qubit (0)\n",
      "ge fidelity (%): 80.05922992299234 \t angle (deg): 0.0 \t threshold ge: 790.27511427388\n",
      "Qubit (1)\n",
      "ge fidelity (%): 47.51 \t angle (deg): 0.0 \t threshold ge: 1173.8670521182303\n",
      "thresholds=[790.27511427388, 1173.8670521182303, 0, 0],\n",
      "angles=[0.0, 0.0, 0, 0],\n",
      "ge_avgs=[[0.4606682668836447, 0.13243791700569563, -2.042700244100894, -0.9414702196908049], [772.6151142392189, 465.8022944670464, 1068.2604968266883, 762.4572504475184], array([0., 0., 0., 0.]), array([0., 0., 0., 0.])],\n",
      "counts_calib=[[7052, 2125, 619, 204], [2633, 6402, 299, 666], [880, 309, 6436, 2375], [453, 745, 2790, 6012]]\n"
     ]
    },
    {
     "data": {
      "application/vnd.jupyter.widget-view+json": {
       "model_id": "a4ca910c6525413783591ed2b3149007",
       "version_major": 2,
       "version_minor": 0
      },
      "text/plain": [
       "  0%|          | 0/1 [00:00<?, ?it/s]"
      ]
     },
     "metadata": {},
     "output_type": "display_data"
    },
    {
     "data": {
      "application/vnd.jupyter.widget-view+json": {
       "model_id": "95f7daffadde4f79a9c4f9cc0f3be47e",
       "version_major": 2,
       "version_minor": 0
      },
      "text/plain": [
       "  0%|          | 0/9 [00:00<?, ?it/s]"
      ]
     },
     "metadata": {},
     "output_type": "display_data"
    },
    {
     "name": "stdout",
     "output_type": "stream",
     "text": [
      "ZZ [12761 12408 12193 12638]\n",
      "ZX [18336  6955 14727  9982]\n",
      "ZY [13286 12126 16197  8391]\n",
      "XZ [22278 20298  3569  3855]\n",
      "XX [31011 11676  3901  3412]\n",
      "XY [24785 17742  3718  3755]\n",
      "YZ [11787 15748 12742  9723]\n",
      "YX [19648  8653 13226  8473]\n",
      "YY [16636 11629 13592  8143]\n",
      "Saving S:\\QRAM\\qram_4QR2\\data\\data_241025\\00272_qram_protocol.h5\n",
      "init_state |0+1>|0+i> play pulses [0]\n",
      "timesteps [inf]\n"
     ]
    },
    {
     "data": {
      "application/vnd.jupyter.widget-view+json": {
       "model_id": "34a092ddbb174fd9a92bc2b83edafbba",
       "version_major": 2,
       "version_minor": 0
      },
      "text/plain": [
       "  0%|          | 0/4 [00:00<?, ?it/s]"
      ]
     },
     "metadata": {},
     "output_type": "display_data"
    },
    {
     "name": "stdout",
     "output_type": "stream",
     "text": [
      "Qubit (0)\n",
      "ge fidelity (%): 78.87999999999998 \t angle (deg): 0.0 \t threshold ge: 775.531200316358\n",
      "Qubit (1)\n",
      "ge fidelity (%): 46.996988698869885 \t angle (deg): 0.0 \t threshold ge: 1189.4959338705808\n",
      "thresholds=[775.531200316358, 1189.4959338705808, 0, 0],\n",
      "angles=[0.0, 0.0, 0, 0],\n",
      "ge_avgs=[[1.9813785191212363, 0.6536999186330353, 5.06606851098454, 7.433910740439381], [802.7475991049635, 469.4699281529698, 1086.1222305939789, 766.2809864117169], array([0., 0., 0., 0.]), array([0., 0., 0., 0.])],\n",
      "counts_calib=[[6841, 2165, 731, 263], [2561, 6333, 335, 771], [867, 259, 6517, 2357], [480, 698, 2963, 5859]]\n"
     ]
    },
    {
     "data": {
      "application/vnd.jupyter.widget-view+json": {
       "model_id": "fa9cfa2fe739489bb9cec4d79ed0336f",
       "version_major": 2,
       "version_minor": 0
      },
      "text/plain": [
       "  0%|          | 0/1 [00:00<?, ?it/s]"
      ]
     },
     "metadata": {},
     "output_type": "display_data"
    },
    {
     "data": {
      "application/vnd.jupyter.widget-view+json": {
       "model_id": "c243e575984545b5b904b2271d76a4ad",
       "version_major": 2,
       "version_minor": 0
      },
      "text/plain": [
       "  0%|          | 0/9 [00:00<?, ?it/s]"
      ]
     },
     "metadata": {},
     "output_type": "display_data"
    },
    {
     "name": "stdout",
     "output_type": "stream",
     "text": [
      "ZZ [13202 11814 13259 11725]\n",
      "ZX [12497 12186  9229 16088]\n",
      "ZY [19072  6250 15397  9281]\n",
      "XZ [22933 19342  3749  3976]\n",
      "XX [18803 23372  3483  4342]\n",
      "XY [31603 11035  4060  3302]\n",
      "YZ [12318 15061 13670  8951]\n",
      "YX [12003 15763  9041 13193]\n",
      "YY [20281  7695 13768  8256]\n",
      "Saving S:\\QRAM\\qram_4QR2\\data\\data_241025\\00273_qram_protocol.h5\n",
      "init_state |0+i>|0> play pulses [0]\n",
      "timesteps [inf]\n"
     ]
    },
    {
     "data": {
      "application/vnd.jupyter.widget-view+json": {
       "model_id": "0eff68614dc0400d862ce41ee97a717d",
       "version_major": 2,
       "version_minor": 0
      },
      "text/plain": [
       "  0%|          | 0/4 [00:00<?, ?it/s]"
      ]
     },
     "metadata": {},
     "output_type": "display_data"
    },
    {
     "name": "stdout",
     "output_type": "stream",
     "text": [
      "Qubit (0)\n",
      "ge fidelity (%): 78.39906990699069 \t angle (deg): 0.0 \t threshold ge: 766.8063304852348\n",
      "Qubit (1)\n",
      "ge fidelity (%): 46.05999999999998 \t angle (deg): 0.0 \t threshold ge: 1165.8932567583493\n",
      "thresholds=[766.8063304852348, 1165.8932567583493, 0, 0],\n",
      "angles=[0.0, 0.0, 0, 0],\n",
      "ge_avgs=[[-4.477723921887714, 0.8024296989422292, 0.5021772172497967, -1.8580113100081366], [784.0750279902361, 468.22953466232707, 1055.2861591537835, 758.6764734743693], array([0., 0., 0., 0.]), array([0., 0., 0., 0.])],\n",
      "counts_calib=[[6806, 2211, 730, 253], [2583, 6299, 356, 762], [895, 290, 6304, 2511], [330, 697, 2675, 6298]]\n"
     ]
    },
    {
     "data": {
      "application/vnd.jupyter.widget-view+json": {
       "model_id": "d947455314ee4305a9fb440aba630991",
       "version_major": 2,
       "version_minor": 0
      },
      "text/plain": [
       "  0%|          | 0/1 [00:00<?, ?it/s]"
      ]
     },
     "metadata": {},
     "output_type": "display_data"
    },
    {
     "data": {
      "application/vnd.jupyter.widget-view+json": {
       "model_id": "35022cc6ef5545d4a1f45d138d416df8",
       "version_major": 2,
       "version_minor": 0
      },
      "text/plain": [
       "  0%|          | 0/9 [00:00<?, ?it/s]"
      ]
     },
     "metadata": {},
     "output_type": "display_data"
    },
    {
     "name": "stdout",
     "output_type": "stream",
     "text": [
      "ZZ [18868  6341 17543  7248]\n",
      "ZX [12723 12275 13274 11728]\n",
      "ZY [12340 12662 13203 11795]\n",
      "XZ [21574  7449 14528  6449]\n",
      "XX [14452 14408 10891 10249]\n",
      "XY [14369 14291 10924 10416]\n",
      "YZ [33189 11388  3868  1555]\n",
      "YX [22269 21726  2986  3019]\n",
      "YY [21918 22038  2963  3081]\n",
      "Saving S:\\QRAM\\qram_4QR2\\data\\data_241025\\00274_qram_protocol.h5\n",
      "init_state |0+i>|1> play pulses [0]\n",
      "timesteps [inf]\n"
     ]
    },
    {
     "data": {
      "application/vnd.jupyter.widget-view+json": {
       "model_id": "6685fe9eaf584e969d37d1341a2a5c8c",
       "version_major": 2,
       "version_minor": 0
      },
      "text/plain": [
       "  0%|          | 0/4 [00:00<?, ?it/s]"
      ]
     },
     "metadata": {},
     "output_type": "display_data"
    },
    {
     "name": "stdout",
     "output_type": "stream",
     "text": [
      "Qubit (0)\n",
      "ge fidelity (%): 78.89000000000003 \t angle (deg): 0.0 \t threshold ge: 779.4371075334562\n",
      "Qubit (1)\n",
      "ge fidelity (%): 47.89000000000001 \t angle (deg): 0.0 \t threshold ge: 1165.5967037777164\n",
      "thresholds=[779.4371075334562, 1165.5967037777164, 0, 0],\n",
      "angles=[0.0, 0.0, 0, 0],\n",
      "ge_avgs=[[-2.2772089503661515, -0.04299300244100868, -0.09278714401952894, -3.564439625711961], [781.6360795768918, 472.01808657445076, 1088.7604830756713, 754.9165013832385], array([0., 0., 0., 0.]), array([0., 0., 0., 0.])],\n",
      "counts_calib=[[6787, 2237, 723, 253], [2406, 6523, 316, 755], [887, 257, 6504, 2352], [408, 784, 2541, 6267]]\n"
     ]
    },
    {
     "data": {
      "application/vnd.jupyter.widget-view+json": {
       "model_id": "e36aff9ac96244cfa2398b8c3f0702aa",
       "version_major": 2,
       "version_minor": 0
      },
      "text/plain": [
       "  0%|          | 0/1 [00:00<?, ?it/s]"
      ]
     },
     "metadata": {},
     "output_type": "display_data"
    },
    {
     "data": {
      "application/vnd.jupyter.widget-view+json": {
       "model_id": "adaa94b91090420b8c54f162608a5657",
       "version_major": 2,
       "version_minor": 0
      },
      "text/plain": [
       "  0%|          | 0/9 [00:00<?, ?it/s]"
      ]
     },
     "metadata": {},
     "output_type": "display_data"
    },
    {
     "name": "stdout",
     "output_type": "stream",
     "text": [
      "ZZ [ 7125 17874  7898 17103]\n",
      "ZX [12433 12735 11399 13433]\n",
      "ZY [12759 12373 11553 13315]\n",
      "XZ [ 6534 14561  9166 19739]\n",
      "XX [10345 10674 12963 16018]\n",
      "XY [11000 10130 13462 15408]\n",
      "YZ [11969 31720  1996  4315]\n",
      "YX [22244 22023  2410  3323]\n",
      "YY [22180 22010  2831  2979]\n",
      "Saving S:\\QRAM\\qram_4QR2\\data\\data_241025\\00275_qram_protocol.h5\n",
      "init_state |0+i>|0+1> play pulses [0]\n",
      "timesteps [inf]\n"
     ]
    },
    {
     "data": {
      "application/vnd.jupyter.widget-view+json": {
       "model_id": "7f55f6fa8ba5461bb5ad1f09010cde9c",
       "version_major": 2,
       "version_minor": 0
      },
      "text/plain": [
       "  0%|          | 0/4 [00:00<?, ?it/s]"
      ]
     },
     "metadata": {},
     "output_type": "display_data"
    },
    {
     "name": "stdout",
     "output_type": "stream",
     "text": [
      "Qubit (0)\n",
      "ge fidelity (%): 79.1290479047905 \t angle (deg): 0.0 \t threshold ge: 756.6059706324679\n",
      "Qubit (1)\n",
      "ge fidelity (%): 47.65744574457445 \t angle (deg): 0.0 \t threshold ge: 1142.8665364057003\n",
      "thresholds=[756.6059706324679, 1142.8665364057003, 0, 0],\n",
      "angles=[0.0, 0.0, 0, 0],\n",
      "ge_avgs=[[-1.5536380797396259, 0.32278958502847893, -4.319090724165989, 8.825077868185517], [781.700455736371, 471.41577062652556, 1076.797771684296, 761.4477122864117], array([0., 0., 0., 0.]), array([0., 0., 0., 0.])],\n",
      "counts_calib=[[6591, 2399, 715, 295], [2230, 6602, 324, 844], [783, 296, 6193, 2728], [308, 754, 2545, 6393]]\n"
     ]
    },
    {
     "data": {
      "application/vnd.jupyter.widget-view+json": {
       "model_id": "ea05334649924730946f675badb540b7",
       "version_major": 2,
       "version_minor": 0
      },
      "text/plain": [
       "  0%|          | 0/1 [00:00<?, ?it/s]"
      ]
     },
     "metadata": {},
     "output_type": "display_data"
    },
    {
     "data": {
      "application/vnd.jupyter.widget-view+json": {
       "model_id": "8ecc2459546b4a5a853f8a981dd83e85",
       "version_major": 2,
       "version_minor": 0
      },
      "text/plain": [
       "  0%|          | 0/9 [00:00<?, ?it/s]"
      ]
     },
     "metadata": {},
     "output_type": "display_data"
    },
    {
     "name": "stdout",
     "output_type": "stream",
     "text": [
      "ZZ [11761 12916 12225 13098]\n",
      "ZX [17448  7527 14731 10294]\n",
      "ZY [12084 12599 16294  9023]\n",
      "XZ [12443  9357 12081 16119]\n",
      "XX [14436  7317 16069 12178]\n",
      "XY [12426  9370 17348 10856]\n",
      "YZ [20800 21473  3490  4237]\n",
      "YX [29508 12835  3948  3709]\n",
      "YY [23829 18286  3833  4052]\n",
      "Saving S:\\QRAM\\qram_4QR2\\data\\data_241025\\00276_qram_protocol.h5\n",
      "init_state |0+i>|0+i> play pulses [0]\n",
      "timesteps [inf]\n"
     ]
    },
    {
     "data": {
      "application/vnd.jupyter.widget-view+json": {
       "model_id": "c06bf7d1bffe4b858c2304c1df74963b",
       "version_major": 2,
       "version_minor": 0
      },
      "text/plain": [
       "  0%|          | 0/4 [00:00<?, ?it/s]"
      ]
     },
     "metadata": {},
     "output_type": "display_data"
    },
    {
     "name": "stdout",
     "output_type": "stream",
     "text": [
      "Qubit (0)\n",
      "ge fidelity (%): 79.11915991599159 \t angle (deg): 0.0 \t threshold ge: 792.0175877344471\n",
      "Qubit (1)\n",
      "ge fidelity (%): 47.43000000000003 \t angle (deg): 0.0 \t threshold ge: 1164.6836932465408\n",
      "thresholds=[792.0175877344471, 1164.6836932465408, 0, 0],\n",
      "angles=[0.0, 0.0, 0, 0],\n",
      "ge_avgs=[[1.838703580146459, 0.5543498779495516, -5.500777135882831, 1.0545379983726613], [780.930048657445, 473.1281122864117, 1075.1849064279902, 759.9500979658258], array([0., 0., 0., 0.]), array([0., 0., 0., 0.])],\n",
      "counts_calib=[[6856, 2265, 654, 225], [2470, 6483, 314, 733], [924, 286, 6449, 2341], [496, 843, 2694, 5967]]\n"
     ]
    },
    {
     "data": {
      "application/vnd.jupyter.widget-view+json": {
       "model_id": "eefd1947aac14e4f834608827cea5191",
       "version_major": 2,
       "version_minor": 0
      },
      "text/plain": [
       "  0%|          | 0/1 [00:00<?, ?it/s]"
      ]
     },
     "metadata": {},
     "output_type": "display_data"
    },
    {
     "data": {
      "application/vnd.jupyter.widget-view+json": {
       "model_id": "3a427af7031144329486d8772c89fd26",
       "version_major": 2,
       "version_minor": 0
      },
      "text/plain": [
       "  0%|          | 0/9 [00:00<?, ?it/s]"
      ]
     },
     "metadata": {},
     "output_type": "display_data"
    },
    {
     "name": "stdout",
     "output_type": "stream",
     "text": [
      "ZZ [12897 12589 12399 12115]\n",
      "ZX [12328 13146  8520 16006]\n",
      "ZY [18462  7198 14673  9667]\n",
      "XZ [13352  8954 12549 15145]\n",
      "XX [ 9221 13060  9258 18461]\n",
      "XY [15198  7179 16058 11565]\n",
      "YZ [22031 20913  3256  3800]\n",
      "YX [17556 25001  3150  4293]\n",
      "YY [30337 12405  3729  3529]\n",
      "Saving S:\\QRAM\\qram_4QR2\\data\\data_241025\\00277_qram_protocol.h5\n",
      "init_state |0>|0> play pulses [0]\n",
      "timesteps [inf]\n"
     ]
    },
    {
     "data": {
      "application/vnd.jupyter.widget-view+json": {
       "model_id": "67542d6392714a5187e2db56d6d95462",
       "version_major": 2,
       "version_minor": 0
      },
      "text/plain": [
       "  0%|          | 0/4 [00:00<?, ?it/s]"
      ]
     },
     "metadata": {},
     "output_type": "display_data"
    },
    {
     "name": "stdout",
     "output_type": "stream",
     "text": [
      "Qubit (0)\n",
      "ge fidelity (%): 80.10910691069107 \t angle (deg): 0.0 \t threshold ge: 768.6436728604543\n",
      "Qubit (1)\n",
      "ge fidelity (%): 46.94746274627461 \t angle (deg): 0.0 \t threshold ge: 1157.9985308209275\n",
      "thresholds=[768.6436728604543, 1157.9985308209275, 0, 0],\n",
      "angles=[0.0, 0.0, 0, 0],\n",
      "ge_avgs=[[-4.719576159479251, 1.548236859235151, -0.07282270138323747, -2.3884205044751825], [791.222058258747, 475.5905053702196, 1071.3327945484134, 767.4084289666395], array([0., 0., 0., 0.]), array([0., 0., 0., 0.])],\n",
      "counts_calib=[[6610, 2450, 710, 230], [2300, 6603, 332, 765], [785, 266, 6411, 2538], [404, 738, 2654, 6204]]\n"
     ]
    },
    {
     "data": {
      "application/vnd.jupyter.widget-view+json": {
       "model_id": "a0b7c818218d44b589fb2aa3519b3d93",
       "version_major": 2,
       "version_minor": 0
      },
      "text/plain": [
       "  0%|          | 0/1 [00:00<?, ?it/s]"
      ]
     },
     "metadata": {},
     "output_type": "display_data"
    },
    {
     "data": {
      "application/vnd.jupyter.widget-view+json": {
       "model_id": "58b3f2718ce44c4f86532c1429037d1a",
       "version_major": 2,
       "version_minor": 0
      },
      "text/plain": [
       "  0%|          | 0/9 [00:00<?, ?it/s]"
      ]
     },
     "metadata": {},
     "output_type": "display_data"
    },
    {
     "name": "stdout",
     "output_type": "stream",
     "text": [
      "ZZ [33347 11840  3477  1336]\n",
      "ZX [21697 22870  2577  2856]\n",
      "ZY [22155 22569  2526  2750]\n",
      "XZ [18766  6585 17772  6877]\n",
      "XX [12335 12564 13103 11998]\n",
      "XY [12506 12478 13156 11860]\n",
      "YZ [18658  6720 17697  6925]\n",
      "YX [12543 12529 12885 12043]\n",
      "YY [12379 12732 13181 11708]\n",
      "Saving S:\\QRAM\\qram_4QR2\\data\\data_241025\\00278_qram_protocol.h5\n",
      "init_state |0>|1> play pulses [0]\n",
      "timesteps [inf]\n"
     ]
    },
    {
     "data": {
      "application/vnd.jupyter.widget-view+json": {
       "model_id": "84f38e78948c45b5b7e7a5e9cfe5e927",
       "version_major": 2,
       "version_minor": 0
      },
      "text/plain": [
       "  0%|          | 0/4 [00:00<?, ?it/s]"
      ]
     },
     "metadata": {},
     "output_type": "display_data"
    },
    {
     "name": "stdout",
     "output_type": "stream",
     "text": [
      "Qubit (0)\n",
      "ge fidelity (%): 79.59908590859084 \t angle (deg): 0.0 \t threshold ge: 767.0714893258711\n",
      "Qubit (1)\n",
      "ge fidelity (%): 46.90999999999998 \t angle (deg): 0.0 \t threshold ge: 1188.5983694107872\n",
      "thresholds=[767.0714893258711, 1188.5983694107872, 0, 0],\n",
      "angles=[0.0, 0.0, 0, 0],\n",
      "ge_avgs=[[-1.65192432872254, -3.8248775427176573, 7.516130431244915, 0.4185276647681048], [782.8633356387306, 473.6145703824248, 1074.5169477624083, 763.2856753458095], array([0., 0., 0., 0.]), array([0., 0., 0., 0.])],\n",
      "counts_calib=[[6953, 2083, 755, 209], [2643, 6244, 384, 729], [850, 232, 6758, 2160], [406, 696, 2797, 6101]]\n"
     ]
    },
    {
     "data": {
      "application/vnd.jupyter.widget-view+json": {
       "model_id": "9dbff23d6dbe41e6b3f2c240cd29d600",
       "version_major": 2,
       "version_minor": 0
      },
      "text/plain": [
       "  0%|          | 0/1 [00:00<?, ?it/s]"
      ]
     },
     "metadata": {},
     "output_type": "display_data"
    },
    {
     "data": {
      "application/vnd.jupyter.widget-view+json": {
       "model_id": "52bac7b632d54c5bb25fc43bd3c06bc5",
       "version_major": 2,
       "version_minor": 0
      },
      "text/plain": [
       "  0%|          | 0/9 [00:00<?, ?it/s]"
      ]
     },
     "metadata": {},
     "output_type": "display_data"
    },
    {
     "name": "stdout",
     "output_type": "stream",
     "text": [
      "ZZ [13424 30770  1969  3837]\n",
      "ZX [23619 21083  2906  2392]\n",
      "ZY [23293 21370  2755  2582]\n",
      "XZ [ 7713 16891  8662 16734]\n",
      "XX [13225 11614 12346 12815]\n",
      "XY [12965 11753 12539 12743]\n",
      "YZ [ 7662 16991  8514 16833]\n",
      "YX [13194 11761 12223 12822]\n",
      "YY [12757 11983 12279 12981]\n",
      "Saving S:\\QRAM\\qram_4QR2\\data\\data_241025\\00279_qram_protocol.h5\n",
      "init_state |0>|0+1> play pulses [0]\n",
      "timesteps [inf]\n"
     ]
    },
    {
     "data": {
      "application/vnd.jupyter.widget-view+json": {
       "model_id": "b6064c7c53b2428b8239c21ad06be809",
       "version_major": 2,
       "version_minor": 0
      },
      "text/plain": [
       "  0%|          | 0/4 [00:00<?, ?it/s]"
      ]
     },
     "metadata": {},
     "output_type": "display_data"
    },
    {
     "name": "stdout",
     "output_type": "stream",
     "text": [
      "Qubit (0)\n",
      "ge fidelity (%): 78.23000000000005 \t angle (deg): 0.0 \t threshold ge: 777.1083312797044\n",
      "Qubit (1)\n",
      "ge fidelity (%): 44.48 \t angle (deg): 0.0 \t threshold ge: 1154.2047182437386\n",
      "thresholds=[777.1083312797044, 1154.2047182437386, 0, 0],\n",
      "angles=[0.0, 0.0, 0, 0],\n",
      "ge_avgs=[[-1.165989747762409, 0.23015036615134277, 3.0791330349877937, -2.5570436940602113], [793.2965625711961, 475.2963993490643, 1055.0033711960943, 765.3110741253051], array([0., 0., 0., 0.]), array([0., 0., 0., 0.])],\n",
      "counts_calib=[[6611, 2422, 672, 295], [2489, 6439, 348, 724], [941, 276, 6485, 2298], [385, 747, 2658, 6210]]\n"
     ]
    },
    {
     "data": {
      "application/vnd.jupyter.widget-view+json": {
       "model_id": "ceac9c2211b945a296501b1672ddb266",
       "version_major": 2,
       "version_minor": 0
      },
      "text/plain": [
       "  0%|          | 0/1 [00:00<?, ?it/s]"
      ]
     },
     "metadata": {},
     "output_type": "display_data"
    },
    {
     "data": {
      "application/vnd.jupyter.widget-view+json": {
       "model_id": "914128fee3c840748906564d78cba59a",
       "version_major": 2,
       "version_minor": 0
      },
      "text/plain": [
       "  0%|          | 0/9 [00:00<?, ?it/s]"
      ]
     },
     "metadata": {},
     "output_type": "display_data"
    },
    {
     "name": "stdout",
     "output_type": "stream",
     "text": [
      "ZZ [21972 22873  2471  2684]\n",
      "ZX [33100 12258  3128  1514]\n",
      "ZY [22486 22475  2699  2340]\n",
      "XZ [12292 12751 11982 12975]\n",
      "XX [18489  6984 15939  8588]\n",
      "XY [12183 12812 14562 10443]\n",
      "YZ [12311 12931 11696 13062]\n",
      "YX [18433  7020 16119  8428]\n",
      "YY [12535 12735 14781  9949]\n",
      "Saving S:\\QRAM\\qram_4QR2\\data\\data_241025\\00280_qram_protocol.h5\n",
      "init_state |0>|0+i> play pulses [0]\n",
      "timesteps [inf]\n"
     ]
    },
    {
     "data": {
      "application/vnd.jupyter.widget-view+json": {
       "model_id": "26136b841b674e0690fdf1f2ef637767",
       "version_major": 2,
       "version_minor": 0
      },
      "text/plain": [
       "  0%|          | 0/4 [00:00<?, ?it/s]"
      ]
     },
     "metadata": {},
     "output_type": "display_data"
    },
    {
     "name": "stdout",
     "output_type": "stream",
     "text": [
      "Qubit (0)\n",
      "ge fidelity (%): 77.55901290129013 \t angle (deg): 0.0 \t threshold ge: 768.9320451072256\n",
      "Qubit (1)\n",
      "ge fidelity (%): 47.469999999999985 \t angle (deg): 0.0 \t threshold ge: 1206.0287496102724\n",
      "thresholds=[768.9320451072256, 1206.0287496102724, 0, 0],\n",
      "angles=[0.0, 0.0, 0, 0],\n",
      "ge_avgs=[[-3.0009242473555737, -9.688702522375916, 0.9724620829943051, 2.877634906427989], [791.1727343368592, 479.38876851098456, 1088.1334117168428, 758.3109633034987], array([0., 0., 0., 0.]), array([0., 0., 0., 0.])],\n",
      "counts_calib=[[7010, 1952, 808, 230], [2696, 6139, 396, 769], [968, 238, 6752, 2042], [494, 648, 3250, 5608]]\n"
     ]
    },
    {
     "data": {
      "application/vnd.jupyter.widget-view+json": {
       "model_id": "70037d9d410a41759ab0ef1faf690b83",
       "version_major": 2,
       "version_minor": 0
      },
      "text/plain": [
       "  0%|          | 0/1 [00:00<?, ?it/s]"
      ]
     },
     "metadata": {},
     "output_type": "display_data"
    },
    {
     "data": {
      "application/vnd.jupyter.widget-view+json": {
       "model_id": "9cc5fb39a2564682a92fa57d3c8663c1",
       "version_major": 2,
       "version_minor": 0
      },
      "text/plain": [
       "  0%|          | 0/9 [00:00<?, ?it/s]"
      ]
     },
     "metadata": {},
     "output_type": "display_data"
    },
    {
     "name": "stdout",
     "output_type": "stream",
     "text": [
      "ZZ [24446 20336  2792  2426]\n",
      "ZX [23668 20822  2474  3036]\n",
      "ZY [35304  9763  3684  1249]\n",
      "XZ [13497 11374 13765 11364]\n",
      "XX [13162 11642 10795 14401]\n",
      "XY [19601  5644 17137  7618]\n",
      "YZ [13538 11503 13532 11427]\n",
      "YX [13352 11705 10693 14250]\n",
      "YY [19531  5798 17451  7220]\n",
      "Saving S:\\QRAM\\qram_4QR2\\data\\data_241025\\00281_qram_protocol.h5\n",
      "init_state |1>|0> play pulses [0]\n",
      "timesteps [inf]\n"
     ]
    },
    {
     "data": {
      "application/vnd.jupyter.widget-view+json": {
       "model_id": "0dd97c5da18d46269d3ccb73058f5c52",
       "version_major": 2,
       "version_minor": 0
      },
      "text/plain": [
       "  0%|          | 0/4 [00:00<?, ?it/s]"
      ]
     },
     "metadata": {},
     "output_type": "display_data"
    },
    {
     "name": "stdout",
     "output_type": "stream",
     "text": [
      "Qubit (0)\n",
      "ge fidelity (%): 78.22000000000003 \t angle (deg): 0.0 \t threshold ge: 781.6691011537492\n",
      "Qubit (1)\n",
      "ge fidelity (%): 46.07732273227321 \t angle (deg): 0.0 \t threshold ge: 1148.0472903324087\n",
      "thresholds=[781.6691011537492, 1148.0472903324087, 0, 0],\n",
      "angles=[0.0, 0.0, 0, 0],\n",
      "ge_avgs=[[-1.09190179007323, -1.9931624084621642, 3.3257939788445894, 0.041865663140765536], [793.1347515866559, 473.1657936533768, 1072.4085176566314, 772.685339300244], array([0., 0., 0., 0.]), array([0., 0., 0., 0.])],\n",
      "counts_calib=[[6505, 2537, 666, 292], [2219, 6701, 353, 727], [847, 374, 5796, 2983], [385, 764, 2597, 6254]]\n"
     ]
    },
    {
     "data": {
      "application/vnd.jupyter.widget-view+json": {
       "model_id": "b16d979e15c1418fada4f9bc3b2d8602",
       "version_major": 2,
       "version_minor": 0
      },
      "text/plain": [
       "  0%|          | 0/1 [00:00<?, ?it/s]"
      ]
     },
     "metadata": {},
     "output_type": "display_data"
    },
    {
     "data": {
      "application/vnd.jupyter.widget-view+json": {
       "model_id": "489f5ac6533b4fe481e25aefea4ca4fa",
       "version_major": 2,
       "version_minor": 0
      },
      "text/plain": [
       "  0%|          | 0/9 [00:00<?, ?it/s]"
      ]
     },
     "metadata": {},
     "output_type": "display_data"
    },
    {
     "name": "stdout",
     "output_type": "stream",
     "text": [
      "ZZ [ 4290  1642 30607 13461]\n",
      "ZX [ 2827  2914 22630 21629]\n",
      "ZY [ 2869  2896 22593 21642]\n",
      "XZ [14240  5756 21058  8946]\n",
      "XX [ 9670 10391 15283 14656]\n",
      "XY [ 9952 10255 15460 14333]\n",
      "YZ [18196  6987 17320  7497]\n",
      "YX [12329 12855 13031 11785]\n",
      "YY [12227 12738 12770 12265]\n",
      "Saving S:\\QRAM\\qram_4QR2\\data\\data_241025\\00282_qram_protocol.h5\n",
      "init_state |1>|1> play pulses [0]\n",
      "timesteps [inf]\n"
     ]
    },
    {
     "data": {
      "application/vnd.jupyter.widget-view+json": {
       "model_id": "9da660aefc664644be98c1120ad0df5d",
       "version_major": 2,
       "version_minor": 0
      },
      "text/plain": [
       "  0%|          | 0/4 [00:00<?, ?it/s]"
      ]
     },
     "metadata": {},
     "output_type": "display_data"
    },
    {
     "name": "stdout",
     "output_type": "stream",
     "text": [
      "Qubit (0)\n",
      "ge fidelity (%): 79.639200920092 \t angle (deg): 0.0 \t threshold ge: 797.9256771933831\n",
      "Qubit (1)\n",
      "ge fidelity (%): 46.30000000000001 \t angle (deg): 0.0 \t threshold ge: 1182.6637722570415\n",
      "thresholds=[797.9256771933831, 1182.6637722570415, 0, 0],\n",
      "angles=[0.0, 0.0, 0, 0],\n",
      "ge_avgs=[[2.7674688364524016, 2.4512298616761594, -0.9716275834011386, -4.24927567127746], [793.2756445890968, 477.0293110659072, 1072.5386144833199, 766.3020031733116], array([0., 0., 0., 0.]), array([0., 0., 0., 0.])],\n",
      "counts_calib=[[7003, 2152, 606, 239], [2657, 6373, 331, 639], [890, 311, 6354, 2445], [436, 805, 2869, 5890]]\n"
     ]
    },
    {
     "data": {
      "application/vnd.jupyter.widget-view+json": {
       "model_id": "0d5a64050870420fa027b219f477dccf",
       "version_major": 2,
       "version_minor": 0
      },
      "text/plain": [
       "  0%|          | 0/1 [00:00<?, ?it/s]"
      ]
     },
     "metadata": {},
     "output_type": "display_data"
    },
    {
     "data": {
      "application/vnd.jupyter.widget-view+json": {
       "model_id": "3104fc35e0704ab3a3550b638a764c45",
       "version_major": 2,
       "version_minor": 0
      },
      "text/plain": [
       "  0%|          | 0/9 [00:00<?, ?it/s]"
      ]
     },
     "metadata": {},
     "output_type": "display_data"
    },
    {
     "name": "stdout",
     "output_type": "stream",
     "text": [
      "ZZ [ 2352  3771 14610 29267]\n",
      "ZX [ 3376  2837 20008 23779]\n",
      "ZY [ 3233  3289 20706 22772]\n",
      "XZ [ 8462 17778  8980 14780]\n",
      "XX [13554 12842 10323 13281]\n",
      "XY [13541 13165 10478 12816]\n",
      "YZ [ 7705 17038  9512 15745]\n",
      "YX [12882 12221 11264 13633]\n",
      "YY [12897 12346 11235 13522]\n",
      "Saving S:\\QRAM\\qram_4QR2\\data\\data_241025\\00283_qram_protocol.h5\n",
      "init_state |1>|0+1> play pulses [0]\n",
      "timesteps [inf]\n"
     ]
    },
    {
     "data": {
      "application/vnd.jupyter.widget-view+json": {
       "model_id": "7d2cabbe51bb4edf90e05b384d3b4064",
       "version_major": 2,
       "version_minor": 0
      },
      "text/plain": [
       "  0%|          | 0/4 [00:00<?, ?it/s]"
      ]
     },
     "metadata": {},
     "output_type": "display_data"
    },
    {
     "name": "stdout",
     "output_type": "stream",
     "text": [
      "Qubit (0)\n",
      "ge fidelity (%): 79.56900790079007 \t angle (deg): 0.0 \t threshold ge: 756.9085060587847\n",
      "Qubit (1)\n",
      "ge fidelity (%): 46.126826682668224 \t angle (deg): 0.0 \t threshold ge: 1181.6203827236775\n",
      "thresholds=[756.9085060587847, 1181.6203827236775, 0, 0],\n",
      "angles=[0.0, 0.0, 0, 0],\n",
      "ge_avgs=[[-7.096359886086249, 1.569410333604556, 3.356989340927582, -3.4137190398698136], [778.2425179007323, 474.98900398698123, 1056.6900512611878, 766.9228057770545], array([0., 0., 0., 0.]), array([0., 0., 0., 0.])],\n",
      "counts_calib=[[6859, 2086, 813, 242], [2658, 6169, 404, 769], [787, 230, 6737, 2246], [387, 622, 2881, 6110]]\n"
     ]
    },
    {
     "data": {
      "application/vnd.jupyter.widget-view+json": {
       "model_id": "b88d5762fbde4311b56ef44f084ee369",
       "version_major": 2,
       "version_minor": 0
      },
      "text/plain": [
       "  0%|          | 0/1 [00:00<?, ?it/s]"
      ]
     },
     "metadata": {},
     "output_type": "display_data"
    },
    {
     "data": {
      "application/vnd.jupyter.widget-view+json": {
       "model_id": "972da422da3149dab94f42721bbe30fa",
       "version_major": 2,
       "version_minor": 0
      },
      "text/plain": [
       "  0%|          | 0/9 [00:00<?, ?it/s]"
      ]
     },
     "metadata": {},
     "output_type": "display_data"
    },
    {
     "name": "stdout",
     "output_type": "stream",
     "text": [
      "ZZ [ 2965  2166 23462 21407]\n",
      "ZX [ 3347  1813 29815 15025]\n",
      "ZY [ 3130  1905 29628 15337]\n",
      "XZ [10818 12062 14977 12143]\n",
      "XX [16113  6944 16478 10465]\n",
      "XY [15123  8194 18815  7868]\n",
      "YZ [12886 10879 13975 12260]\n",
      "YX [16441  7366 16858  9335]\n",
      "YY [16312  7710 17231  8747]\n",
      "Saving S:\\QRAM\\qram_4QR2\\data\\data_241025\\00284_qram_protocol.h5\n",
      "init_state |1>|0+i> play pulses [0]\n",
      "timesteps [inf]\n"
     ]
    },
    {
     "data": {
      "application/vnd.jupyter.widget-view+json": {
       "model_id": "c3039316787d4544a6a72e2fc42f56ce",
       "version_major": 2,
       "version_minor": 0
      },
      "text/plain": [
       "  0%|          | 0/4 [00:00<?, ?it/s]"
      ]
     },
     "metadata": {},
     "output_type": "display_data"
    },
    {
     "name": "stdout",
     "output_type": "stream",
     "text": [
      "Qubit (0)\n",
      "ge fidelity (%): 78.99905390539054 \t angle (deg): 0.0 \t threshold ge: 768.0208771509961\n",
      "Qubit (1)\n",
      "ge fidelity (%): 47.71000000000001 \t angle (deg): 0.0 \t threshold ge: 1172.1525199815371\n",
      "thresholds=[768.0208771509961, 1172.1525199815371, 0, 0],\n",
      "angles=[0.0, 0.0, 0, 0],\n",
      "ge_avgs=[[-0.5023069161920266, -3.7472502034174124, 4.5567223759153785, 1.339637103336046], [789.2196637917007, 474.4867428803906, 1076.5846275834012, 761.590393165175], array([0., 0., 0., 0.]), array([0., 0., 0., 0.])],\n",
      "counts_calib=[[6810, 2193, 752, 245], [2447, 6353, 361, 839], [844, 269, 6482, 2405], [400, 753, 2797, 6050]]\n"
     ]
    },
    {
     "data": {
      "application/vnd.jupyter.widget-view+json": {
       "model_id": "ccda4a90958346cfab6d35c0920a616a",
       "version_major": 2,
       "version_minor": 0
      },
      "text/plain": [
       "  0%|          | 0/1 [00:00<?, ?it/s]"
      ]
     },
     "metadata": {},
     "output_type": "display_data"
    },
    {
     "data": {
      "application/vnd.jupyter.widget-view+json": {
       "model_id": "e58aa69bb27c4a1e91e5eff28aa70f5d",
       "version_major": 2,
       "version_minor": 0
      },
      "text/plain": [
       "  0%|          | 0/9 [00:00<?, ?it/s]"
      ]
     },
     "metadata": {},
     "output_type": "display_data"
    },
    {
     "name": "stdout",
     "output_type": "stream",
     "text": [
      "ZZ [ 2776  2300 23403 21521]\n",
      "ZX [ 2296  3076 17133 27495]\n",
      "ZY [ 3516  1952 28861 15671]\n",
      "XZ [12188 11259 14135 12418]\n",
      "XX [ 9778 13428  8948 17846]\n",
      "XY [16666  6800 14217 12317]\n",
      "YZ [10740 12460 14980 11820]\n",
      "YX [ 8760 14291  9335 17614]\n",
      "YY [16211  7439 15837 10513]\n",
      "Saving S:\\QRAM\\qram_4QR2\\data\\data_241025\\00285_qram_protocol.h5\n",
      "init_state |0+1>|0> play pulses [0]\n",
      "timesteps [inf]\n"
     ]
    },
    {
     "data": {
      "application/vnd.jupyter.widget-view+json": {
       "model_id": "c9db9a19ee75490db8de81cd8f0f3dfa",
       "version_major": 2,
       "version_minor": 0
      },
      "text/plain": [
       "  0%|          | 0/4 [00:00<?, ?it/s]"
      ]
     },
     "metadata": {},
     "output_type": "display_data"
    },
    {
     "name": "stdout",
     "output_type": "stream",
     "text": [
      "Qubit (0)\n",
      "ge fidelity (%): 79.30904690469046 \t angle (deg): 0.0 \t threshold ge: 764.2252985897705\n",
      "Qubit (1)\n",
      "ge fidelity (%): 46.639999999999986 \t angle (deg): 0.0 \t threshold ge: 1156.2012136103092\n",
      "thresholds=[764.2252985897705, 1156.2012136103092, 0, 0],\n",
      "angles=[0.0, 0.0, 0, 0],\n",
      "ge_avgs=[[-3.3355349877949547, -3.3937826688364527, -4.133353295362084, -5.95973376729048], [785.4488204231084, 478.1958354759967, 1067.8386894222947, 764.1668051261188], array([0., 0., 0., 0.]), array([0., 0., 0., 0.])],\n",
      "counts_calib=[[6650, 2351, 713, 286], [2394, 6510, 310, 786], [799, 288, 6155, 2758], [373, 717, 2774, 6136]]\n"
     ]
    },
    {
     "data": {
      "application/vnd.jupyter.widget-view+json": {
       "model_id": "9403bc3698d44b52a7e4f8fed7aa2476",
       "version_major": 2,
       "version_minor": 0
      },
      "text/plain": [
       "  0%|          | 0/1 [00:00<?, ?it/s]"
      ]
     },
     "metadata": {},
     "output_type": "display_data"
    },
    {
     "data": {
      "application/vnd.jupyter.widget-view+json": {
       "model_id": "4de36a3d5a29438d8293b9341677b639",
       "version_major": 2,
       "version_minor": 0
      },
      "text/plain": [
       "  0%|          | 0/9 [00:00<?, ?it/s]"
      ]
     },
     "metadata": {},
     "output_type": "display_data"
    },
    {
     "name": "stdout",
     "output_type": "stream",
     "text": [
      "ZZ [18255  6788 17715  7242]\n",
      "ZX [12126 12550 13033 12291]\n",
      "ZY [12400 12471 13061 12068]\n",
      "XZ [32552 11816  4008  1624]\n",
      "XX [21710 22137  3004  3149]\n",
      "XY [21557 22367  2934  3142]\n",
      "YZ [14516  5484 21538  8462]\n",
      "YX [ 9888 10098 15882 14132]\n",
      "YY [10070 10227 15811 13892]\n",
      "Saving S:\\QRAM\\qram_4QR2\\data\\data_241025\\00286_qram_protocol.h5\n",
      "init_state |0+1>|1> play pulses [0]\n",
      "timesteps [inf]\n"
     ]
    },
    {
     "data": {
      "application/vnd.jupyter.widget-view+json": {
       "model_id": "78f26f784d6d4173a479fc5928dfcd8f",
       "version_major": 2,
       "version_minor": 0
      },
      "text/plain": [
       "  0%|          | 0/4 [00:00<?, ?it/s]"
      ]
     },
     "metadata": {},
     "output_type": "display_data"
    },
    {
     "name": "stdout",
     "output_type": "stream",
     "text": [
      "Qubit (0)\n",
      "ge fidelity (%): 79.07906190619063 \t angle (deg): 0.0 \t threshold ge: 764.9331620188825\n",
      "Qubit (1)\n",
      "ge fidelity (%): 45.92736773677367 \t angle (deg): 0.0 \t threshold ge: 1157.8771607512112\n",
      "thresholds=[764.9331620188825, 1157.8771607512112, 0, 0],\n",
      "angles=[0.0, 0.0, 0, 0],\n",
      "ge_avgs=[[-2.092859723352319, -5.670522782750205, -1.3965563873067541, 0.32837412530512594], [797.6005288852725, 478.7610113913751, 1069.391567371847, 766.7803483319773], array([0., 0., 0., 0.]), array([0., 0., 0., 0.])],\n",
      "counts_calib=[[6537, 2474, 702, 287], [2328, 6467, 337, 868], [845, 267, 6376, 2512], [318, 646, 2523, 6513]]\n"
     ]
    },
    {
     "data": {
      "application/vnd.jupyter.widget-view+json": {
       "model_id": "31916cbfb65b48dbaa5e57e1c83e8700",
       "version_major": 2,
       "version_minor": 0
      },
      "text/plain": [
       "  0%|          | 0/1 [00:00<?, ?it/s]"
      ]
     },
     "metadata": {},
     "output_type": "display_data"
    },
    {
     "data": {
      "application/vnd.jupyter.widget-view+json": {
       "model_id": "1a3aab8c98ee46dfb278dbac5b0cdda2",
       "version_major": 2,
       "version_minor": 0
      },
      "text/plain": [
       "  0%|          | 0/9 [00:00<?, ?it/s]"
      ]
     },
     "metadata": {},
     "output_type": "display_data"
    },
    {
     "name": "stdout",
     "output_type": "stream",
     "text": [
      "ZZ [ 7048 17647  7971 17334]\n",
      "ZX [11985 12647 11603 13765]\n",
      "ZY [12663 12092 12078 13167]\n",
      "XZ [12115 31243  2132  4510]\n",
      "XX [21525 22253  2624  3598]\n",
      "XY [21256 22493  2870  3381]\n",
      "YZ [ 7058 19558  7309 16075]\n",
      "YX [13518 13873  9921 12688]\n",
      "YY [13350 13658 10325 12667]\n",
      "Saving S:\\QRAM\\qram_4QR2\\data\\data_241025\\00287_qram_protocol.h5\n",
      "init_state |0+1>|0+1> play pulses [0]\n",
      "timesteps [inf]\n"
     ]
    },
    {
     "data": {
      "application/vnd.jupyter.widget-view+json": {
       "model_id": "81e1ece2bdab4ed5b0b4d5d1ebfaa2c4",
       "version_major": 2,
       "version_minor": 0
      },
      "text/plain": [
       "  0%|          | 0/4 [00:00<?, ?it/s]"
      ]
     },
     "metadata": {},
     "output_type": "display_data"
    },
    {
     "name": "stdout",
     "output_type": "stream",
     "text": [
      "Qubit (0)\n",
      "ge fidelity (%): 79.08915791579155 \t angle (deg): 0.0 \t threshold ge: 774.3362864757643\n",
      "Qubit (1)\n",
      "ge fidelity (%): 46.41744674467446 \t angle (deg): 0.0 \t threshold ge: 1152.2175879785566\n",
      "thresholds=[774.3362864757643, 1152.2175879785566, 0, 0],\n",
      "angles=[0.0, 0.0, 0, 0],\n",
      "ge_avgs=[[4.887881366965015, 2.0795423921887726, -2.072432872253866, -1.3143561432058575], [781.8975054515867, 481.2853912937347, 1066.9489312449145, 763.3060355573638], array([0., 0., 0., 0.]), array([0., 0., 0., 0.])],\n",
      "counts_calib=[[6685, 2426, 637, 252], [2380, 6505, 308, 807], [835, 367, 5805, 2993], [379, 767, 2537, 6317]]\n"
     ]
    },
    {
     "data": {
      "application/vnd.jupyter.widget-view+json": {
       "model_id": "99a52833feb84911b8a698274506a99f",
       "version_major": 2,
       "version_minor": 0
      },
      "text/plain": [
       "  0%|          | 0/1 [00:00<?, ?it/s]"
      ]
     },
     "metadata": {},
     "output_type": "display_data"
    },
    {
     "data": {
      "application/vnd.jupyter.widget-view+json": {
       "model_id": "f56f9376c06a4ac1b48cb01e8074a2a8",
       "version_major": 2,
       "version_minor": 0
      },
      "text/plain": [
       "  0%|          | 0/9 [00:00<?, ?it/s]"
      ]
     },
     "metadata": {},
     "output_type": "display_data"
    },
    {
     "name": "stdout",
     "output_type": "stream",
     "text": [
      "ZZ [12285 12818 11627 13270]\n",
      "ZX [17305  7633 13850 11212]\n",
      "ZY [12465 12564 15366  9605]\n",
      "XZ [20658 21552  3404  4386]\n",
      "XX [29622 12875  3723  3780]\n",
      "XY [24162 17946  3842  4050]\n",
      "YZ [11527 16102 12488  9883]\n",
      "YX [18825  8940 12370  9865]\n",
      "YY [15346 12222 13192  9240]\n",
      "Saving S:\\QRAM\\qram_4QR2\\data\\data_241025\\00288_qram_protocol.h5\n",
      "init_state |0+1>|0+i> play pulses [0]\n",
      "timesteps [inf]\n"
     ]
    },
    {
     "data": {
      "application/vnd.jupyter.widget-view+json": {
       "model_id": "cc7e2e79ec234a1d99d99415bc6ad64e",
       "version_major": 2,
       "version_minor": 0
      },
      "text/plain": [
       "  0%|          | 0/4 [00:00<?, ?it/s]"
      ]
     },
     "metadata": {},
     "output_type": "display_data"
    },
    {
     "name": "stdout",
     "output_type": "stream",
     "text": [
      "Qubit (0)\n",
      "ge fidelity (%): 78.78 \t angle (deg): 0.0 \t threshold ge: 774.6494954908895\n",
      "Qubit (1)\n",
      "ge fidelity (%): 46.55000000000001 \t angle (deg): 0.0 \t threshold ge: 1149.8743662899233\n",
      "thresholds=[774.6494954908895, 1149.8743662899233, 0, 0],\n",
      "angles=[0.0, 0.0, 0, 0],\n",
      "ge_avgs=[[-1.1995867371847035, -2.903703173311635, -3.19023393002441, 1.8800498779495531], [793.6458903986982, 480.8734156224573, 1073.2130253864932, 771.3440108218063], array([0., 0., 0., 0.]), array([0., 0., 0., 0.])],\n",
      "counts_calib=[[6464, 2519, 716, 301], [2257, 6637, 290, 816], [809, 299, 6079, 2813], [406, 719, 2759, 6116]]\n"
     ]
    },
    {
     "data": {
      "application/vnd.jupyter.widget-view+json": {
       "model_id": "4938d7a0cb304274a9bb37e3fd18bde0",
       "version_major": 2,
       "version_minor": 0
      },
      "text/plain": [
       "  0%|          | 0/1 [00:00<?, ?it/s]"
      ]
     },
     "metadata": {},
     "output_type": "display_data"
    },
    {
     "data": {
      "application/vnd.jupyter.widget-view+json": {
       "model_id": "38aad27a234d4568a32e4dbe85c9310e",
       "version_major": 2,
       "version_minor": 0
      },
      "text/plain": [
       "  0%|          | 0/9 [00:00<?, ?it/s]"
      ]
     },
     "metadata": {},
     "output_type": "display_data"
    },
    {
     "name": "stdout",
     "output_type": "stream",
     "text": [
      "ZZ [11924 12773 12115 13188]\n",
      "ZX [11716 13577  7796 16911]\n",
      "ZY [17641  7617 13737 11005]\n",
      "XZ [21062 21122  3515  4301]\n",
      "XX [17265 24946  3058  4731]\n",
      "XY [29565 12943  3641  3851]\n",
      "YZ [11036 16087 12110 10767]\n",
      "YX [10956 16654  7898 14492]\n",
      "YY [18887  9041 12950  9122]\n",
      "Saving S:\\QRAM\\qram_4QR2\\data\\data_241025\\00289_qram_protocol.h5\n",
      "init_state |0+i>|0> play pulses [0]\n",
      "timesteps [inf]\n"
     ]
    },
    {
     "data": {
      "application/vnd.jupyter.widget-view+json": {
       "model_id": "7ef40e503cbb4e14b1300cb536ee6b1a",
       "version_major": 2,
       "version_minor": 0
      },
      "text/plain": [
       "  0%|          | 0/4 [00:00<?, ?it/s]"
      ]
     },
     "metadata": {},
     "output_type": "display_data"
    },
    {
     "name": "stdout",
     "output_type": "stream",
     "text": [
      "Qubit (0)\n",
      "ge fidelity (%): 78.30999999999997 \t angle (deg): 0.0 \t threshold ge: 794.7079683958474\n",
      "Qubit (1)\n",
      "ge fidelity (%): 45.87999999999999 \t angle (deg): 0.0 \t threshold ge: 1154.8131230586935\n",
      "thresholds=[794.7079683958474, 1154.8131230586935, 0, 0],\n",
      "angles=[0.0, 0.0, 0, 0],\n",
      "ge_avgs=[[-4.248840683482507, 1.8540285598047197, 0.1373598860862501, -0.3354002441008952], [787.7677644426362, 476.00558649308385, 1066.4347602115542, 762.4435192026037], array([0., 0., 0., 0.]), array([0., 0., 0., 0.])],\n",
      "counts_calib=[[6667, 2413, 644, 276], [2422, 6587, 323, 668], [899, 356, 5801, 2944], [396, 817, 2587, 6200]]\n"
     ]
    },
    {
     "data": {
      "application/vnd.jupyter.widget-view+json": {
       "model_id": "1380cda990d147b2a0ebb96c740d67f1",
       "version_major": 2,
       "version_minor": 0
      },
      "text/plain": [
       "  0%|          | 0/1 [00:00<?, ?it/s]"
      ]
     },
     "metadata": {},
     "output_type": "display_data"
    },
    {
     "data": {
      "application/vnd.jupyter.widget-view+json": {
       "model_id": "15f85c69a9a34528a46801c56fe58afa",
       "version_major": 2,
       "version_minor": 0
      },
      "text/plain": [
       "  0%|          | 0/9 [00:00<?, ?it/s]"
      ]
     },
     "metadata": {},
     "output_type": "display_data"
    },
    {
     "name": "stdout",
     "output_type": "stream",
     "text": [
      "ZZ [18840  7186 16081  7893]\n",
      "ZX [12541 12970 12133 12356]\n",
      "ZY [12678 13034 12230 12058]\n",
      "XZ [21790  7944 13798  6468]\n",
      "XX [14268 15115 10481 10136]\n",
      "XY [14580 14650 10703 10067]\n",
      "YZ [33249 11917  3491  1343]\n",
      "YX [22185 22401  2724  2690]\n",
      "YY [22040 22636  2597  2727]\n",
      "Saving S:\\QRAM\\qram_4QR2\\data\\data_241025\\00290_qram_protocol.h5\n",
      "init_state |0+i>|1> play pulses [0]\n",
      "timesteps [inf]\n"
     ]
    },
    {
     "data": {
      "application/vnd.jupyter.widget-view+json": {
       "model_id": "5ac8200b3a0c4c7a973f3d40b1ace269",
       "version_major": 2,
       "version_minor": 0
      },
      "text/plain": [
       "  0%|          | 0/4 [00:00<?, ?it/s]"
      ]
     },
     "metadata": {},
     "output_type": "display_data"
    },
    {
     "name": "stdout",
     "output_type": "stream",
     "text": [
      "Qubit (0)\n",
      "ge fidelity (%): 79.63000000000002 \t angle (deg): 0.0 \t threshold ge: 780.9101057395123\n",
      "Qubit (1)\n",
      "ge fidelity (%): 45.51734673467347 \t angle (deg): 0.0 \t threshold ge: 1146.6313096792883\n",
      "thresholds=[780.9101057395123, 1146.6313096792883, 0, 0],\n",
      "angles=[0.0, 0.0, 0, 0],\n",
      "ge_avgs=[[-0.01621057770545176, 2.12673409275834, 2.491200732302685, 2.7132372660699753], [792.6138526444263, 474.8540620829943, 1057.364704719284, 765.5643498779497], array([0., 0., 0., 0.]), array([0., 0., 0., 0.])],\n",
      "counts_calib=[[6560, 2502, 661, 277], [2376, 6558, 310, 756], [786, 316, 6003, 2895], [382, 809, 2586, 6223]]\n"
     ]
    },
    {
     "data": {
      "application/vnd.jupyter.widget-view+json": {
       "model_id": "6f215bef667e4bcebbe27fe1728b480c",
       "version_major": 2,
       "version_minor": 0
      },
      "text/plain": [
       "  0%|          | 0/1 [00:00<?, ?it/s]"
      ]
     },
     "metadata": {},
     "output_type": "display_data"
    },
    {
     "data": {
      "application/vnd.jupyter.widget-view+json": {
       "model_id": "55445176d37e40ac80cce6b90b3c49f3",
       "version_major": 2,
       "version_minor": 0
      },
      "text/plain": [
       "  0%|          | 0/9 [00:00<?, ?it/s]"
      ]
     },
     "metadata": {},
     "output_type": "display_data"
    },
    {
     "name": "stdout",
     "output_type": "stream",
     "text": [
      "ZZ [ 6935 17987  7484 17594]\n",
      "ZX [12345 13072 10666 13917]\n",
      "ZY [12261 12820 11002 13917]\n",
      "XZ [ 6307 14868  8683 20142]\n",
      "XX [10315 10731 12542 16412]\n",
      "XY [10641 10652 12379 16328]\n",
      "YZ [11977 31809  1928  4286]\n",
      "YX [21293 22776  2361  3570]\n",
      "YY [20949 23044  2771  3236]\n",
      "Saving S:\\QRAM\\qram_4QR2\\data\\data_241025\\00291_qram_protocol.h5\n",
      "init_state |0+i>|0+1> play pulses [0]\n",
      "timesteps [inf]\n"
     ]
    },
    {
     "data": {
      "application/vnd.jupyter.widget-view+json": {
       "model_id": "18c0763fb58f47ec8183e1e5dfafa014",
       "version_major": 2,
       "version_minor": 0
      },
      "text/plain": [
       "  0%|          | 0/4 [00:00<?, ?it/s]"
      ]
     },
     "metadata": {},
     "output_type": "display_data"
    },
    {
     "name": "stdout",
     "output_type": "stream",
     "text": [
      "Qubit (0)\n",
      "ge fidelity (%): 79.51999999999998 \t angle (deg): 0.0 \t threshold ge: 777.7032617897453\n",
      "Qubit (1)\n",
      "ge fidelity (%): 46.06772077207718 \t angle (deg): 0.0 \t threshold ge: 1184.7830958895984\n",
      "thresholds=[777.7032617897453, 1184.7830958895984, 0, 0],\n",
      "angles=[0.0, 0.0, 0, 0],\n",
      "ge_avgs=[[-1.9122759967453213, 1.5793232709519929, 2.097977217249797, -1.6086869812855993], [787.4109637103336, 482.2670807160293, 1071.3727484133442, 759.733811716843], array([0., 0., 0., 0.]), array([0., 0., 0., 0.])],\n",
      "counts_calib=[[6935, 2152, 667, 246], [2624, 6301, 376, 699], [844, 295, 6303, 2558], [423, 714, 2827, 6036]]\n"
     ]
    },
    {
     "data": {
      "application/vnd.jupyter.widget-view+json": {
       "model_id": "a06d6b78aa1e4b848a980545911627a1",
       "version_major": 2,
       "version_minor": 0
      },
      "text/plain": [
       "  0%|          | 0/1 [00:00<?, ?it/s]"
      ]
     },
     "metadata": {},
     "output_type": "display_data"
    },
    {
     "data": {
      "application/vnd.jupyter.widget-view+json": {
       "model_id": "744a17dc61c14fb986241976e5694760",
       "version_major": 2,
       "version_minor": 0
      },
      "text/plain": [
       "  0%|          | 0/9 [00:00<?, ?it/s]"
      ]
     },
     "metadata": {},
     "output_type": "display_data"
    },
    {
     "name": "stdout",
     "output_type": "stream",
     "text": [
      "ZZ [12976 12191 12673 12160]\n",
      "ZX [19343  6350 14982  9325]\n",
      "ZY [13257 11837 16677  8229]\n",
      "XZ [13481  8417 12343 15759]\n",
      "XX [15599  6382 16583 11436]\n",
      "XY [13186  8676 17938 10200]\n",
      "YZ [22386 19809  3577  4228]\n",
      "YX [31698 10830  3953  3519]\n",
      "YY [25849 16656  3849  3646]\n",
      "Saving S:\\QRAM\\qram_4QR2\\data\\data_241025\\00292_qram_protocol.h5\n",
      "init_state |0+i>|0+i> play pulses [0]\n",
      "timesteps [inf]\n"
     ]
    },
    {
     "data": {
      "application/vnd.jupyter.widget-view+json": {
       "model_id": "a4b1e80c431d4dc29e90defd4930d2db",
       "version_major": 2,
       "version_minor": 0
      },
      "text/plain": [
       "  0%|          | 0/4 [00:00<?, ?it/s]"
      ]
     },
     "metadata": {},
     "output_type": "display_data"
    },
    {
     "name": "stdout",
     "output_type": "stream",
     "text": [
      "Qubit (0)\n",
      "ge fidelity (%): 79.8 \t angle (deg): 0.0 \t threshold ge: 764.6572365102697\n",
      "Qubit (1)\n",
      "ge fidelity (%): 46.537673767376745 \t angle (deg): 0.0 \t threshold ge: 1178.8493432814296\n",
      "thresholds=[764.6572365102697, 1178.8493432814296, 0, 0],\n",
      "angles=[0.0, 0.0, 0, 0],\n",
      "ge_avgs=[[-3.2858588283157033, -0.36844524003254553, 1.9667152156224577, -2.0973778681855166], [786.8338199349064, 480.2234498779495, 1064.3241201790074, 779.5277056143206], array([0., 0., 0., 0.]), array([0., 0., 0., 0.])],\n",
      "counts_calib=[[6807, 2176, 725, 292], [2563, 6295, 341, 801], [738, 279, 6148, 2835], [379, 753, 2466, 6402]]\n"
     ]
    },
    {
     "data": {
      "application/vnd.jupyter.widget-view+json": {
       "model_id": "fe549520c9994be880f6993e520a438e",
       "version_major": 2,
       "version_minor": 0
      },
      "text/plain": [
       "  0%|          | 0/1 [00:00<?, ?it/s]"
      ]
     },
     "metadata": {},
     "output_type": "display_data"
    },
    {
     "data": {
      "application/vnd.jupyter.widget-view+json": {
       "model_id": "28d1d2c6dca84db8bf2cc200b0642f8e",
       "version_major": 2,
       "version_minor": 0
      },
      "text/plain": [
       "  0%|          | 0/9 [00:00<?, ?it/s]"
      ]
     },
     "metadata": {},
     "output_type": "display_data"
    },
    {
     "name": "stdout",
     "output_type": "stream",
     "text": [
      "ZZ [12843 12042 12194 12921]\n",
      "ZX [12455 12610  7712 17223]\n",
      "ZY [18779  6556 14582 10083]\n",
      "XZ [13136  8461 12344 16059]\n",
      "XX [ 9241 12299  8904 19556]\n",
      "XY [14682  6520 16424 12374]\n",
      "YZ [22145 20243  3419  4193]\n",
      "YX [17168 24520  3382  4930]\n",
      "YY [31287 11175  3994  3544]\n",
      "Saving S:\\QRAM\\qram_4QR2\\data\\data_241025\\00293_qram_protocol.h5\n"
     ]
    }
   ],
   "source": [
    "play_pulses = protocol_play\n",
    "for it in range(iterations):\n",
    "    for init_state in init_states:\n",
    "        print('init_state', init_state, 'play pulses', play_pulses)\n",
    "        qramExpt = meas.QramProtocolExperiment(\n",
    "            soccfg=soc,\n",
    "            path=expt_path,\n",
    "            config_file=config_path,\n",
    "            ns_address=ns_address,\n",
    "        )\n",
    "        \n",
    "        span = np.inf\n",
    "        npts = 1\n",
    "        if span < np.inf: print('time step size [cycles]:', soc.us2cycles(span/npts))\n",
    "        \n",
    "        qramExpt.cfg.expt = dict(\n",
    "            start=span,\n",
    "            step=0,\n",
    "            expts=1, # number of different time experiments\n",
    "        \n",
    "            reps=50000, # number of reps per tomo/time step,\n",
    "            singleshot_reps=10000, # reps per state for singleshot calibration\n",
    "            post_process=None, # 'threshold', (uses single shot binning), 'scale' (scale by ge_avgs), or None\n",
    "            tomo_2q=True, # flag to perform tomo on last time step\n",
    "            tomo_qubits=tomo_qubits, # the qubits on which to do the 3q state tomo\n",
    "            calib_apply_q1_pi2=False, # initialize Q1 to 0+1 for all calibrations\n",
    "            init_state=init_state,\n",
    "            play_pulses=play_pulses, # [2, 1, 4, 3]\n",
    "            cool_qubits=cool_qubits,\n",
    "            \n",
    "            use_IQ_pulse=use_IQ_pulse, # state transfer IQ pulses for the state prep\n",
    "            use_robust_pulses=use_robust_pulses, # use robust pulses for state prep + tomo\n",
    "            plot_IQ=False,\n",
    "            \n",
    "            readout_cool=readout_cool,\n",
    "            n_init_readout=1,\n",
    "            n_trig=1,\n",
    "            init_read_wait_us=10,\n",
    "            \n",
    "            full_mux_expt=full_mux_expt,\n",
    "            resonator_reset=resonator_reset,\n",
    "        )\n",
    "        for q in range(4):\n",
    "            if q not in tomo_qubits:\n",
    "                qramExpt.cfg.device.readout.gain[q] = 1e-4\n",
    "        qramExpt.cfg.device.readout.gain[0] = 0.10\n",
    "    \n",
    "        import Pyro4.util\n",
    "        \n",
    "        try:\n",
    "            qramExpt.acquire(progress=True, debug=False)\n",
    "            success = True\n",
    "        except Exception:\n",
    "            print(\"Pyro traceback:\")\n",
    "            print(\"\".join(Pyro4.util.getPyroTraceback()))\n",
    "        \n",
    "        if save_data: saved_files.append(qramExpt.save_data())"
   ]
  },
  {
   "cell_type": "code",
   "execution_count": 93,
   "metadata": {},
   "outputs": [
    {
     "name": "stdout",
     "output_type": "stream",
     "text": [
      "['S:\\\\QRAM\\\\qram_4QR2\\\\data\\\\data_241025\\\\00246_qram_protocol.h5', 'S:\\\\QRAM\\\\qram_4QR2\\\\data\\\\data_241025\\\\00247_qram_protocol.h5', 'S:\\\\QRAM\\\\qram_4QR2\\\\data\\\\data_241025\\\\00248_qram_protocol.h5', 'S:\\\\QRAM\\\\qram_4QR2\\\\data\\\\data_241025\\\\00249_qram_protocol.h5', 'S:\\\\QRAM\\\\qram_4QR2\\\\data\\\\data_241025\\\\00250_qram_protocol.h5', 'S:\\\\QRAM\\\\qram_4QR2\\\\data\\\\data_241025\\\\00251_qram_protocol.h5', 'S:\\\\QRAM\\\\qram_4QR2\\\\data\\\\data_241025\\\\00252_qram_protocol.h5', 'S:\\\\QRAM\\\\qram_4QR2\\\\data\\\\data_241025\\\\00253_qram_protocol.h5', 'S:\\\\QRAM\\\\qram_4QR2\\\\data\\\\data_241025\\\\00254_qram_protocol.h5', 'S:\\\\QRAM\\\\qram_4QR2\\\\data\\\\data_241025\\\\00255_qram_protocol.h5', 'S:\\\\QRAM\\\\qram_4QR2\\\\data\\\\data_241025\\\\00256_qram_protocol.h5', 'S:\\\\QRAM\\\\qram_4QR2\\\\data\\\\data_241025\\\\00257_qram_protocol.h5', 'S:\\\\QRAM\\\\qram_4QR2\\\\data\\\\data_241025\\\\00258_qram_protocol.h5', 'S:\\\\QRAM\\\\qram_4QR2\\\\data\\\\data_241025\\\\00259_qram_protocol.h5', 'S:\\\\QRAM\\\\qram_4QR2\\\\data\\\\data_241025\\\\00260_qram_protocol.h5', 'S:\\\\QRAM\\\\qram_4QR2\\\\data\\\\data_241025\\\\00261_qram_protocol.h5', 'S:\\\\QRAM\\\\qram_4QR2\\\\data\\\\data_241025\\\\00262_qram_protocol.h5', 'S:\\\\QRAM\\\\qram_4QR2\\\\data\\\\data_241025\\\\00263_qram_protocol.h5', 'S:\\\\QRAM\\\\qram_4QR2\\\\data\\\\data_241025\\\\00264_qram_protocol.h5', 'S:\\\\QRAM\\\\qram_4QR2\\\\data\\\\data_241025\\\\00265_qram_protocol.h5', 'S:\\\\QRAM\\\\qram_4QR2\\\\data\\\\data_241025\\\\00266_qram_protocol.h5', 'S:\\\\QRAM\\\\qram_4QR2\\\\data\\\\data_241025\\\\00267_qram_protocol.h5', 'S:\\\\QRAM\\\\qram_4QR2\\\\data\\\\data_241025\\\\00268_qram_protocol.h5', 'S:\\\\QRAM\\\\qram_4QR2\\\\data\\\\data_241025\\\\00269_qram_protocol.h5', 'S:\\\\QRAM\\\\qram_4QR2\\\\data\\\\data_241025\\\\00270_qram_protocol.h5', 'S:\\\\QRAM\\\\qram_4QR2\\\\data\\\\data_241025\\\\00271_qram_protocol.h5', 'S:\\\\QRAM\\\\qram_4QR2\\\\data\\\\data_241025\\\\00272_qram_protocol.h5', 'S:\\\\QRAM\\\\qram_4QR2\\\\data\\\\data_241025\\\\00273_qram_protocol.h5', 'S:\\\\QRAM\\\\qram_4QR2\\\\data\\\\data_241025\\\\00274_qram_protocol.h5', 'S:\\\\QRAM\\\\qram_4QR2\\\\data\\\\data_241025\\\\00275_qram_protocol.h5', 'S:\\\\QRAM\\\\qram_4QR2\\\\data\\\\data_241025\\\\00276_qram_protocol.h5', 'S:\\\\QRAM\\\\qram_4QR2\\\\data\\\\data_241025\\\\00277_qram_protocol.h5', 'S:\\\\QRAM\\\\qram_4QR2\\\\data\\\\data_241025\\\\00278_qram_protocol.h5', 'S:\\\\QRAM\\\\qram_4QR2\\\\data\\\\data_241025\\\\00279_qram_protocol.h5', 'S:\\\\QRAM\\\\qram_4QR2\\\\data\\\\data_241025\\\\00280_qram_protocol.h5', 'S:\\\\QRAM\\\\qram_4QR2\\\\data\\\\data_241025\\\\00281_qram_protocol.h5', 'S:\\\\QRAM\\\\qram_4QR2\\\\data\\\\data_241025\\\\00282_qram_protocol.h5', 'S:\\\\QRAM\\\\qram_4QR2\\\\data\\\\data_241025\\\\00283_qram_protocol.h5', 'S:\\\\QRAM\\\\qram_4QR2\\\\data\\\\data_241025\\\\00284_qram_protocol.h5', 'S:\\\\QRAM\\\\qram_4QR2\\\\data\\\\data_241025\\\\00285_qram_protocol.h5', 'S:\\\\QRAM\\\\qram_4QR2\\\\data\\\\data_241025\\\\00286_qram_protocol.h5', 'S:\\\\QRAM\\\\qram_4QR2\\\\data\\\\data_241025\\\\00287_qram_protocol.h5', 'S:\\\\QRAM\\\\qram_4QR2\\\\data\\\\data_241025\\\\00288_qram_protocol.h5', 'S:\\\\QRAM\\\\qram_4QR2\\\\data\\\\data_241025\\\\00289_qram_protocol.h5', 'S:\\\\QRAM\\\\qram_4QR2\\\\data\\\\data_241025\\\\00290_qram_protocol.h5', 'S:\\\\QRAM\\\\qram_4QR2\\\\data\\\\data_241025\\\\00291_qram_protocol.h5', 'S:\\\\QRAM\\\\qram_4QR2\\\\data\\\\data_241025\\\\00292_qram_protocol.h5', 'S:\\\\QRAM\\\\qram_4QR2\\\\data\\\\data_241025\\\\00293_qram_protocol.h5']\n"
     ]
    }
   ],
   "source": [
    "print(saved_files)"
   ]
  },
  {
   "cell_type": "code",
   "execution_count": 273,
   "metadata": {},
   "outputs": [],
   "source": [
    "saved_files = ['S:\\\\QRAM\\\\qram_4QR2\\\\data\\\\data_241025\\\\00027_qram_protocol.h5', 'S:\\\\QRAM\\\\qram_4QR2\\\\data\\\\data_241025\\\\00028_qram_protocol.h5', 'S:\\\\QRAM\\\\qram_4QR2\\\\data\\\\data_241025\\\\00029_qram_protocol.h5', 'S:\\\\QRAM\\\\qram_4QR2\\\\data\\\\data_241025\\\\00030_qram_protocol.h5', 'S:\\\\QRAM\\\\qram_4QR2\\\\data\\\\data_241025\\\\00031_qram_protocol.h5', 'S:\\\\QRAM\\\\qram_4QR2\\\\data\\\\data_241025\\\\00032_qram_protocol.h5', 'S:\\\\QRAM\\\\qram_4QR2\\\\data\\\\data_241025\\\\00033_qram_protocol.h5', 'S:\\\\QRAM\\\\qram_4QR2\\\\data\\\\data_241025\\\\00034_qram_protocol.h5', 'S:\\\\QRAM\\\\qram_4QR2\\\\data\\\\data_241025\\\\00035_qram_protocol.h5']"
   ]
  },
  {
   "cell_type": "markdown",
   "metadata": {},
   "source": [
    "### Loop analysis"
   ]
  },
  {
   "cell_type": "code",
   "execution_count": 94,
   "metadata": {},
   "outputs": [],
   "source": [
    "apply_ps = False\n",
    "ps_adjust = [-0.3, -1.0, -0.3, -0.3]\n",
    "# ps_adjust = [np.inf]*4\n",
    "ps_qubits = [0, 1, 2, 3]\n",
    "\n",
    "use_ZZ_mat = True\n",
    "# use_ZZ_mat = False"
   ]
  },
  {
   "cell_type": "code",
   "execution_count": 95,
   "metadata": {
    "tags": []
   },
   "outputs": [
    {
     "name": "stderr",
     "output_type": "stream",
     "text": [
      "  0%|                                                                                           | 0/48 [00:00<?, ?it/s]"
     ]
    },
    {
     "name": "stdout",
     "output_type": "stream",
     "text": [
      "S:\\QRAM\\qram_4QR2\\data\\data_241025\\00246_qram_protocol.h5\n",
      "S:\\QRAM\\qram_4QR2\\data\\data_241025\\00246_qram_protocol.h5\n"
     ]
    },
    {
     "name": "stderr",
     "output_type": "stream",
     "text": [
      "DeprecationWarning: `product` is deprecated as of NumPy 1.25.0, and will be removed in NumPy 2.0. Please use `prod` instead.\n",
      " C:\\Users\\slab\\AppData\\Local\\Temp\\ipykernel_19952\\809401443.py: 13"
     ]
    },
    {
     "name": "stdout",
     "output_type": "stream",
     "text": [
      "Extracted data and attrs ['calib_order', 'config', 'meas_order', 'pulse_dict']\n",
      "init state Q0 (switch) Q1 (input): |0>|0>\n"
     ]
    },
    {
     "name": "stderr",
     "output_type": "stream",
     "text": [
      "  2%|█▋                                                                                 | 1/48 [00:05<04:01,  5.14s/it]"
     ]
    },
    {
     "name": "stdout",
     "output_type": "stream",
     "text": [
      "S:\\QRAM\\qram_4QR2\\data\\data_241025\\00247_qram_protocol.h5\n",
      "S:\\QRAM\\qram_4QR2\\data\\data_241025\\00247_qram_protocol.h5\n",
      "Extracted data and attrs ['calib_order', 'config', 'meas_order', 'pulse_dict']\n",
      "init state Q0 (switch) Q1 (input): |0>|1>\n"
     ]
    },
    {
     "name": "stderr",
     "output_type": "stream",
     "text": [
      "  4%|███▍                                                                               | 2/48 [00:10<03:52,  5.06s/it]"
     ]
    },
    {
     "name": "stdout",
     "output_type": "stream",
     "text": [
      "S:\\QRAM\\qram_4QR2\\data\\data_241025\\00248_qram_protocol.h5\n",
      "S:\\QRAM\\qram_4QR2\\data\\data_241025\\00248_qram_protocol.h5\n",
      "Extracted data and attrs ['calib_order', 'config', 'meas_order', 'pulse_dict']\n",
      "init state Q0 (switch) Q1 (input): |0>|0+1>\n"
     ]
    },
    {
     "name": "stderr",
     "output_type": "stream",
     "text": [
      "  6%|█████▏                                                                             | 3/48 [00:15<03:44,  4.98s/it]"
     ]
    },
    {
     "name": "stdout",
     "output_type": "stream",
     "text": [
      "S:\\QRAM\\qram_4QR2\\data\\data_241025\\00249_qram_protocol.h5\n",
      "S:\\QRAM\\qram_4QR2\\data\\data_241025\\00249_qram_protocol.h5\n",
      "Extracted data and attrs ['calib_order', 'config', 'meas_order', 'pulse_dict']\n",
      "init state Q0 (switch) Q1 (input): |0>|0+i>\n"
     ]
    },
    {
     "name": "stderr",
     "output_type": "stream",
     "text": [
      "  8%|██████▉                                                                            | 4/48 [00:19<03:37,  4.95s/it]"
     ]
    },
    {
     "name": "stdout",
     "output_type": "stream",
     "text": [
      "S:\\QRAM\\qram_4QR2\\data\\data_241025\\00250_qram_protocol.h5\n",
      "S:\\QRAM\\qram_4QR2\\data\\data_241025\\00250_qram_protocol.h5\n",
      "Extracted data and attrs ['calib_order', 'config', 'meas_order', 'pulse_dict']\n",
      "init state Q0 (switch) Q1 (input): |1>|0>\n"
     ]
    },
    {
     "name": "stderr",
     "output_type": "stream",
     "text": [
      " 10%|████████▋                                                                          | 5/48 [00:24<03:32,  4.93s/it]"
     ]
    },
    {
     "name": "stdout",
     "output_type": "stream",
     "text": [
      "S:\\QRAM\\qram_4QR2\\data\\data_241025\\00251_qram_protocol.h5\n",
      "S:\\QRAM\\qram_4QR2\\data\\data_241025\\00251_qram_protocol.h5\n",
      "Extracted data and attrs ['calib_order', 'config', 'meas_order', 'pulse_dict']\n",
      "init state Q0 (switch) Q1 (input): |1>|1>\n"
     ]
    },
    {
     "name": "stderr",
     "output_type": "stream",
     "text": [
      " 12%|██████████▍                                                                        | 6/48 [00:29<03:29,  4.99s/it]"
     ]
    },
    {
     "name": "stdout",
     "output_type": "stream",
     "text": [
      "S:\\QRAM\\qram_4QR2\\data\\data_241025\\00252_qram_protocol.h5\n",
      "S:\\QRAM\\qram_4QR2\\data\\data_241025\\00252_qram_protocol.h5\n",
      "Extracted data and attrs ['calib_order', 'config', 'meas_order', 'pulse_dict']\n",
      "init state Q0 (switch) Q1 (input): |1>|0+1>\n"
     ]
    },
    {
     "name": "stderr",
     "output_type": "stream",
     "text": [
      " 15%|████████████                                                                       | 7/48 [00:34<03:23,  4.96s/it]"
     ]
    },
    {
     "name": "stdout",
     "output_type": "stream",
     "text": [
      "S:\\QRAM\\qram_4QR2\\data\\data_241025\\00253_qram_protocol.h5\n",
      "S:\\QRAM\\qram_4QR2\\data\\data_241025\\00253_qram_protocol.h5\n",
      "Extracted data and attrs ['calib_order', 'config', 'meas_order', 'pulse_dict']\n",
      "init state Q0 (switch) Q1 (input): |1>|0+i>\n"
     ]
    },
    {
     "name": "stderr",
     "output_type": "stream",
     "text": [
      " 17%|█████████████▊                                                                     | 8/48 [00:39<03:16,  4.91s/it]"
     ]
    },
    {
     "name": "stdout",
     "output_type": "stream",
     "text": [
      "S:\\QRAM\\qram_4QR2\\data\\data_241025\\00254_qram_protocol.h5\n",
      "S:\\QRAM\\qram_4QR2\\data\\data_241025\\00254_qram_protocol.h5\n",
      "Extracted data and attrs ['calib_order', 'config', 'meas_order', 'pulse_dict']\n",
      "init state Q0 (switch) Q1 (input): |0+1>|0>\n"
     ]
    },
    {
     "name": "stderr",
     "output_type": "stream",
     "text": [
      " 19%|███████████████▌                                                                   | 9/48 [00:44<03:12,  4.93s/it]"
     ]
    },
    {
     "name": "stdout",
     "output_type": "stream",
     "text": [
      "S:\\QRAM\\qram_4QR2\\data\\data_241025\\00255_qram_protocol.h5\n",
      "S:\\QRAM\\qram_4QR2\\data\\data_241025\\00255_qram_protocol.h5\n",
      "Extracted data and attrs ['calib_order', 'config', 'meas_order', 'pulse_dict']\n",
      "init state Q0 (switch) Q1 (input): |0+1>|1>\n"
     ]
    },
    {
     "name": "stderr",
     "output_type": "stream",
     "text": [
      " 21%|█████████████████                                                                 | 10/48 [00:49<03:05,  4.89s/it]"
     ]
    },
    {
     "name": "stdout",
     "output_type": "stream",
     "text": [
      "S:\\QRAM\\qram_4QR2\\data\\data_241025\\00256_qram_protocol.h5\n",
      "S:\\QRAM\\qram_4QR2\\data\\data_241025\\00256_qram_protocol.h5\n",
      "Extracted data and attrs ['calib_order', 'config', 'meas_order', 'pulse_dict']\n",
      "init state Q0 (switch) Q1 (input): |0+1>|0+1>\n"
     ]
    },
    {
     "name": "stderr",
     "output_type": "stream",
     "text": [
      " 23%|██████████████████▊                                                               | 11/48 [00:54<03:01,  4.92s/it]"
     ]
    },
    {
     "name": "stdout",
     "output_type": "stream",
     "text": [
      "S:\\QRAM\\qram_4QR2\\data\\data_241025\\00257_qram_protocol.h5\n",
      "S:\\QRAM\\qram_4QR2\\data\\data_241025\\00257_qram_protocol.h5\n",
      "Extracted data and attrs ['calib_order', 'config', 'meas_order', 'pulse_dict']\n",
      "init state Q0 (switch) Q1 (input): |0+1>|0+i>\n"
     ]
    },
    {
     "name": "stderr",
     "output_type": "stream",
     "text": [
      " 25%|████████████████████▌                                                             | 12/48 [00:59<02:55,  4.88s/it]"
     ]
    },
    {
     "name": "stdout",
     "output_type": "stream",
     "text": [
      "S:\\QRAM\\qram_4QR2\\data\\data_241025\\00258_qram_protocol.h5\n",
      "S:\\QRAM\\qram_4QR2\\data\\data_241025\\00258_qram_protocol.h5\n",
      "Extracted data and attrs ['calib_order', 'config', 'meas_order', 'pulse_dict']\n",
      "init state Q0 (switch) Q1 (input): |0+i>|0>\n"
     ]
    },
    {
     "name": "stderr",
     "output_type": "stream",
     "text": [
      " 27%|██████████████████████▏                                                           | 13/48 [01:04<02:51,  4.89s/it]"
     ]
    },
    {
     "name": "stdout",
     "output_type": "stream",
     "text": [
      "S:\\QRAM\\qram_4QR2\\data\\data_241025\\00259_qram_protocol.h5\n",
      "S:\\QRAM\\qram_4QR2\\data\\data_241025\\00259_qram_protocol.h5\n",
      "Extracted data and attrs ['calib_order', 'config', 'meas_order', 'pulse_dict']\n",
      "init state Q0 (switch) Q1 (input): |0+i>|1>\n"
     ]
    },
    {
     "name": "stderr",
     "output_type": "stream",
     "text": [
      " 29%|███████████████████████▉                                                          | 14/48 [01:08<02:46,  4.89s/it]"
     ]
    },
    {
     "name": "stdout",
     "output_type": "stream",
     "text": [
      "S:\\QRAM\\qram_4QR2\\data\\data_241025\\00260_qram_protocol.h5\n",
      "S:\\QRAM\\qram_4QR2\\data\\data_241025\\00260_qram_protocol.h5\n",
      "Extracted data and attrs ['calib_order', 'config', 'meas_order', 'pulse_dict']\n",
      "init state Q0 (switch) Q1 (input): |0+i>|0+1>\n"
     ]
    },
    {
     "name": "stderr",
     "output_type": "stream",
     "text": [
      " 31%|█████████████████████████▋                                                        | 15/48 [01:13<02:41,  4.91s/it]"
     ]
    },
    {
     "name": "stdout",
     "output_type": "stream",
     "text": [
      "S:\\QRAM\\qram_4QR2\\data\\data_241025\\00261_qram_protocol.h5\n",
      "S:\\QRAM\\qram_4QR2\\data\\data_241025\\00261_qram_protocol.h5\n",
      "Extracted data and attrs ['calib_order', 'config', 'meas_order', 'pulse_dict']\n",
      "init state Q0 (switch) Q1 (input): |0+i>|0+i>\n"
     ]
    },
    {
     "name": "stderr",
     "output_type": "stream",
     "text": [
      " 33%|███████████████████████████▎                                                      | 16/48 [01:18<02:37,  4.92s/it]"
     ]
    },
    {
     "name": "stdout",
     "output_type": "stream",
     "text": [
      "S:\\QRAM\\qram_4QR2\\data\\data_241025\\00262_qram_protocol.h5\n",
      "S:\\QRAM\\qram_4QR2\\data\\data_241025\\00262_qram_protocol.h5\n",
      "Extracted data and attrs ['calib_order', 'config', 'meas_order', 'pulse_dict']\n",
      "init state Q0 (switch) Q1 (input): |0>|0>\n"
     ]
    },
    {
     "name": "stderr",
     "output_type": "stream",
     "text": [
      " 35%|█████████████████████████████                                                     | 17/48 [01:24<02:34,  4.98s/it]"
     ]
    },
    {
     "name": "stdout",
     "output_type": "stream",
     "text": [
      "S:\\QRAM\\qram_4QR2\\data\\data_241025\\00263_qram_protocol.h5\n",
      "S:\\QRAM\\qram_4QR2\\data\\data_241025\\00263_qram_protocol.h5\n",
      "Extracted data and attrs ['calib_order', 'config', 'meas_order', 'pulse_dict']\n",
      "init state Q0 (switch) Q1 (input): |0>|1>\n"
     ]
    },
    {
     "name": "stderr",
     "output_type": "stream",
     "text": [
      " 38%|██████████████████████████████▊                                                   | 18/48 [01:28<02:29,  4.98s/it]"
     ]
    },
    {
     "name": "stdout",
     "output_type": "stream",
     "text": [
      "S:\\QRAM\\qram_4QR2\\data\\data_241025\\00264_qram_protocol.h5\n",
      "S:\\QRAM\\qram_4QR2\\data\\data_241025\\00264_qram_protocol.h5\n",
      "Extracted data and attrs ['calib_order', 'config', 'meas_order', 'pulse_dict']\n",
      "init state Q0 (switch) Q1 (input): |0>|0+1>\n"
     ]
    },
    {
     "name": "stderr",
     "output_type": "stream",
     "text": [
      " 40%|████████████████████████████████▍                                                 | 19/48 [01:33<02:23,  4.95s/it]"
     ]
    },
    {
     "name": "stdout",
     "output_type": "stream",
     "text": [
      "S:\\QRAM\\qram_4QR2\\data\\data_241025\\00265_qram_protocol.h5\n",
      "S:\\QRAM\\qram_4QR2\\data\\data_241025\\00265_qram_protocol.h5\n",
      "Extracted data and attrs ['calib_order', 'config', 'meas_order', 'pulse_dict']\n",
      "init state Q0 (switch) Q1 (input): |0>|0+i>\n"
     ]
    },
    {
     "name": "stderr",
     "output_type": "stream",
     "text": [
      " 42%|██████████████████████████████████▏                                               | 20/48 [01:39<02:20,  5.02s/it]"
     ]
    },
    {
     "name": "stdout",
     "output_type": "stream",
     "text": [
      "S:\\QRAM\\qram_4QR2\\data\\data_241025\\00266_qram_protocol.h5\n",
      "S:\\QRAM\\qram_4QR2\\data\\data_241025\\00266_qram_protocol.h5\n",
      "Extracted data and attrs ['calib_order', 'config', 'meas_order', 'pulse_dict']\n",
      "init state Q0 (switch) Q1 (input): |1>|0>\n"
     ]
    },
    {
     "name": "stderr",
     "output_type": "stream",
     "text": [
      " 44%|███████████████████████████████████▉                                              | 21/48 [01:43<02:15,  5.00s/it]"
     ]
    },
    {
     "name": "stdout",
     "output_type": "stream",
     "text": [
      "S:\\QRAM\\qram_4QR2\\data\\data_241025\\00267_qram_protocol.h5\n",
      "S:\\QRAM\\qram_4QR2\\data\\data_241025\\00267_qram_protocol.h5\n",
      "Extracted data and attrs ['calib_order', 'config', 'meas_order', 'pulse_dict']\n",
      "init state Q0 (switch) Q1 (input): |1>|1>\n"
     ]
    },
    {
     "name": "stderr",
     "output_type": "stream",
     "text": [
      " 46%|█████████████████████████████████████▌                                            | 22/48 [01:48<02:08,  4.96s/it]"
     ]
    },
    {
     "name": "stdout",
     "output_type": "stream",
     "text": [
      "S:\\QRAM\\qram_4QR2\\data\\data_241025\\00268_qram_protocol.h5\n",
      "S:\\QRAM\\qram_4QR2\\data\\data_241025\\00268_qram_protocol.h5\n",
      "Extracted data and attrs ['calib_order', 'config', 'meas_order', 'pulse_dict']\n",
      "init state Q0 (switch) Q1 (input): |1>|0+1>\n"
     ]
    },
    {
     "name": "stderr",
     "output_type": "stream",
     "text": [
      " 48%|███████████████████████████████████████▎                                          | 23/48 [01:53<02:04,  4.96s/it]"
     ]
    },
    {
     "name": "stdout",
     "output_type": "stream",
     "text": [
      "S:\\QRAM\\qram_4QR2\\data\\data_241025\\00269_qram_protocol.h5\n",
      "S:\\QRAM\\qram_4QR2\\data\\data_241025\\00269_qram_protocol.h5\n",
      "Extracted data and attrs ['calib_order', 'config', 'meas_order', 'pulse_dict']\n",
      "init state Q0 (switch) Q1 (input): |1>|0+i>\n"
     ]
    },
    {
     "name": "stderr",
     "output_type": "stream",
     "text": [
      " 50%|█████████████████████████████████████████                                         | 24/48 [01:58<01:59,  4.96s/it]"
     ]
    },
    {
     "name": "stdout",
     "output_type": "stream",
     "text": [
      "S:\\QRAM\\qram_4QR2\\data\\data_241025\\00270_qram_protocol.h5\n",
      "S:\\QRAM\\qram_4QR2\\data\\data_241025\\00270_qram_protocol.h5\n",
      "Extracted data and attrs ['calib_order', 'config', 'meas_order', 'pulse_dict']\n",
      "init state Q0 (switch) Q1 (input): |0+1>|0>\n"
     ]
    },
    {
     "name": "stderr",
     "output_type": "stream",
     "text": [
      " 52%|██████████████████████████████████████████▋                                       | 25/48 [02:03<01:53,  4.92s/it]"
     ]
    },
    {
     "name": "stdout",
     "output_type": "stream",
     "text": [
      "S:\\QRAM\\qram_4QR2\\data\\data_241025\\00271_qram_protocol.h5\n",
      "S:\\QRAM\\qram_4QR2\\data\\data_241025\\00271_qram_protocol.h5\n",
      "Extracted data and attrs ['calib_order', 'config', 'meas_order', 'pulse_dict']\n",
      "init state Q0 (switch) Q1 (input): |0+1>|1>\n"
     ]
    },
    {
     "name": "stderr",
     "output_type": "stream",
     "text": [
      " 54%|████████████████████████████████████████████▍                                     | 26/48 [02:08<01:48,  4.94s/it]"
     ]
    },
    {
     "name": "stdout",
     "output_type": "stream",
     "text": [
      "S:\\QRAM\\qram_4QR2\\data\\data_241025\\00272_qram_protocol.h5\n",
      "S:\\QRAM\\qram_4QR2\\data\\data_241025\\00272_qram_protocol.h5\n",
      "Extracted data and attrs ['calib_order', 'config', 'meas_order', 'pulse_dict']\n",
      "init state Q0 (switch) Q1 (input): |0+1>|0+1>\n"
     ]
    },
    {
     "name": "stderr",
     "output_type": "stream",
     "text": [
      " 56%|██████████████████████████████████████████████▏                                   | 27/48 [02:13<01:44,  4.96s/it]"
     ]
    },
    {
     "name": "stdout",
     "output_type": "stream",
     "text": [
      "S:\\QRAM\\qram_4QR2\\data\\data_241025\\00273_qram_protocol.h5\n",
      "S:\\QRAM\\qram_4QR2\\data\\data_241025\\00273_qram_protocol.h5\n",
      "Extracted data and attrs ['calib_order', 'config', 'meas_order', 'pulse_dict']\n",
      "init state Q0 (switch) Q1 (input): |0+1>|0+i>\n"
     ]
    },
    {
     "name": "stderr",
     "output_type": "stream",
     "text": [
      " 58%|███████████████████████████████████████████████▊                                  | 28/48 [02:18<01:39,  4.98s/it]"
     ]
    },
    {
     "name": "stdout",
     "output_type": "stream",
     "text": [
      "S:\\QRAM\\qram_4QR2\\data\\data_241025\\00274_qram_protocol.h5\n",
      "S:\\QRAM\\qram_4QR2\\data\\data_241025\\00274_qram_protocol.h5\n",
      "Extracted data and attrs ['calib_order', 'config', 'meas_order', 'pulse_dict']\n",
      "init state Q0 (switch) Q1 (input): |0+i>|0>\n"
     ]
    },
    {
     "name": "stderr",
     "output_type": "stream",
     "text": [
      " 60%|█████████████████████████████████████████████████▌                                | 29/48 [02:23<01:34,  4.98s/it]"
     ]
    },
    {
     "name": "stdout",
     "output_type": "stream",
     "text": [
      "S:\\QRAM\\qram_4QR2\\data\\data_241025\\00275_qram_protocol.h5\n",
      "S:\\QRAM\\qram_4QR2\\data\\data_241025\\00275_qram_protocol.h5\n",
      "Extracted data and attrs ['calib_order', 'config', 'meas_order', 'pulse_dict']\n",
      "init state Q0 (switch) Q1 (input): |0+i>|1>\n"
     ]
    },
    {
     "name": "stderr",
     "output_type": "stream",
     "text": [
      " 62%|███████████████████████████████████████████████████▎                              | 30/48 [02:28<01:30,  5.04s/it]"
     ]
    },
    {
     "name": "stdout",
     "output_type": "stream",
     "text": [
      "S:\\QRAM\\qram_4QR2\\data\\data_241025\\00276_qram_protocol.h5\n",
      "S:\\QRAM\\qram_4QR2\\data\\data_241025\\00276_qram_protocol.h5\n",
      "Extracted data and attrs ['calib_order', 'config', 'meas_order', 'pulse_dict']\n",
      "init state Q0 (switch) Q1 (input): |0+i>|0+1>\n"
     ]
    },
    {
     "name": "stderr",
     "output_type": "stream",
     "text": [
      " 65%|████████████████████████████████████████████████████▉                             | 31/48 [02:33<01:24,  4.99s/it]"
     ]
    },
    {
     "name": "stdout",
     "output_type": "stream",
     "text": [
      "S:\\QRAM\\qram_4QR2\\data\\data_241025\\00277_qram_protocol.h5\n",
      "S:\\QRAM\\qram_4QR2\\data\\data_241025\\00277_qram_protocol.h5\n",
      "Extracted data and attrs ['calib_order', 'config', 'meas_order', 'pulse_dict']\n",
      "init state Q0 (switch) Q1 (input): |0+i>|0+i>\n"
     ]
    },
    {
     "name": "stderr",
     "output_type": "stream",
     "text": [
      " 67%|██████████████████████████████████████████████████████▋                           | 32/48 [02:38<01:20,  5.02s/it]"
     ]
    },
    {
     "name": "stdout",
     "output_type": "stream",
     "text": [
      "S:\\QRAM\\qram_4QR2\\data\\data_241025\\00278_qram_protocol.h5\n",
      "S:\\QRAM\\qram_4QR2\\data\\data_241025\\00278_qram_protocol.h5\n",
      "Extracted data and attrs ['calib_order', 'config', 'meas_order', 'pulse_dict']\n",
      "init state Q0 (switch) Q1 (input): |0>|0>\n"
     ]
    },
    {
     "name": "stderr",
     "output_type": "stream",
     "text": [
      " 69%|████████████████████████████████████████████████████████▍                         | 33/48 [02:43<01:14,  4.97s/it]"
     ]
    },
    {
     "name": "stdout",
     "output_type": "stream",
     "text": [
      "S:\\QRAM\\qram_4QR2\\data\\data_241025\\00279_qram_protocol.h5\n",
      "S:\\QRAM\\qram_4QR2\\data\\data_241025\\00279_qram_protocol.h5\n",
      "Extracted data and attrs ['calib_order', 'config', 'meas_order', 'pulse_dict']\n",
      "init state Q0 (switch) Q1 (input): |0>|1>\n"
     ]
    },
    {
     "name": "stderr",
     "output_type": "stream",
     "text": [
      " 71%|██████████████████████████████████████████████████████████                        | 34/48 [02:48<01:09,  4.95s/it]"
     ]
    },
    {
     "name": "stdout",
     "output_type": "stream",
     "text": [
      "S:\\QRAM\\qram_4QR2\\data\\data_241025\\00280_qram_protocol.h5\n",
      "S:\\QRAM\\qram_4QR2\\data\\data_241025\\00280_qram_protocol.h5\n",
      "Extracted data and attrs ['calib_order', 'config', 'meas_order', 'pulse_dict']\n",
      "init state Q0 (switch) Q1 (input): |0>|0+1>\n"
     ]
    },
    {
     "name": "stderr",
     "output_type": "stream",
     "text": [
      " 73%|███████████████████████████████████████████████████████████▊                      | 35/48 [02:53<01:04,  4.95s/it]"
     ]
    },
    {
     "name": "stdout",
     "output_type": "stream",
     "text": [
      "S:\\QRAM\\qram_4QR2\\data\\data_241025\\00281_qram_protocol.h5\n",
      "S:\\QRAM\\qram_4QR2\\data\\data_241025\\00281_qram_protocol.h5\n",
      "Extracted data and attrs ['calib_order', 'config', 'meas_order', 'pulse_dict']\n",
      "init state Q0 (switch) Q1 (input): |0>|0+i>\n"
     ]
    },
    {
     "name": "stderr",
     "output_type": "stream",
     "text": [
      " 75%|█████████████████████████████████████████████████████████████▌                    | 36/48 [02:58<00:59,  4.95s/it]"
     ]
    },
    {
     "name": "stdout",
     "output_type": "stream",
     "text": [
      "S:\\QRAM\\qram_4QR2\\data\\data_241025\\00282_qram_protocol.h5\n",
      "S:\\QRAM\\qram_4QR2\\data\\data_241025\\00282_qram_protocol.h5\n",
      "Extracted data and attrs ['calib_order', 'config', 'meas_order', 'pulse_dict']\n",
      "init state Q0 (switch) Q1 (input): |1>|0>\n"
     ]
    },
    {
     "name": "stderr",
     "output_type": "stream",
     "text": [
      " 77%|███████████████████████████████████████████████████████████████▏                  | 37/48 [03:03<00:54,  4.94s/it]"
     ]
    },
    {
     "name": "stdout",
     "output_type": "stream",
     "text": [
      "S:\\QRAM\\qram_4QR2\\data\\data_241025\\00283_qram_protocol.h5\n",
      "S:\\QRAM\\qram_4QR2\\data\\data_241025\\00283_qram_protocol.h5\n",
      "Extracted data and attrs ['calib_order', 'config', 'meas_order', 'pulse_dict']\n",
      "init state Q0 (switch) Q1 (input): |1>|1>\n"
     ]
    },
    {
     "name": "stderr",
     "output_type": "stream",
     "text": [
      " 79%|████████████████████████████████████████████████████████████████▉                 | 38/48 [03:08<00:49,  4.97s/it]"
     ]
    },
    {
     "name": "stdout",
     "output_type": "stream",
     "text": [
      "S:\\QRAM\\qram_4QR2\\data\\data_241025\\00284_qram_protocol.h5\n",
      "S:\\QRAM\\qram_4QR2\\data\\data_241025\\00284_qram_protocol.h5\n",
      "Extracted data and attrs ['calib_order', 'config', 'meas_order', 'pulse_dict']\n",
      "init state Q0 (switch) Q1 (input): |1>|0+1>\n"
     ]
    },
    {
     "name": "stderr",
     "output_type": "stream",
     "text": [
      " 81%|██████████████████████████████████████████████████████████████████▋               | 39/48 [03:13<00:44,  4.96s/it]"
     ]
    },
    {
     "name": "stdout",
     "output_type": "stream",
     "text": [
      "S:\\QRAM\\qram_4QR2\\data\\data_241025\\00285_qram_protocol.h5\n",
      "S:\\QRAM\\qram_4QR2\\data\\data_241025\\00285_qram_protocol.h5\n",
      "Extracted data and attrs ['calib_order', 'config', 'meas_order', 'pulse_dict']\n",
      "init state Q0 (switch) Q1 (input): |1>|0+i>\n"
     ]
    },
    {
     "name": "stderr",
     "output_type": "stream",
     "text": [
      " 83%|████████████████████████████████████████████████████████████████████▎             | 40/48 [03:18<00:39,  4.95s/it]"
     ]
    },
    {
     "name": "stdout",
     "output_type": "stream",
     "text": [
      "S:\\QRAM\\qram_4QR2\\data\\data_241025\\00286_qram_protocol.h5\n",
      "S:\\QRAM\\qram_4QR2\\data\\data_241025\\00286_qram_protocol.h5\n",
      "Extracted data and attrs ['calib_order', 'config', 'meas_order', 'pulse_dict']\n",
      "init state Q0 (switch) Q1 (input): |0+1>|0>\n"
     ]
    },
    {
     "name": "stderr",
     "output_type": "stream",
     "text": [
      " 85%|██████████████████████████████████████████████████████████████████████            | 41/48 [03:23<00:34,  4.95s/it]"
     ]
    },
    {
     "name": "stdout",
     "output_type": "stream",
     "text": [
      "S:\\QRAM\\qram_4QR2\\data\\data_241025\\00287_qram_protocol.h5\n",
      "S:\\QRAM\\qram_4QR2\\data\\data_241025\\00287_qram_protocol.h5\n",
      "Extracted data and attrs ['calib_order', 'config', 'meas_order', 'pulse_dict']\n",
      "init state Q0 (switch) Q1 (input): |0+1>|1>\n"
     ]
    },
    {
     "name": "stderr",
     "output_type": "stream",
     "text": [
      " 88%|███████████████████████████████████████████████████████████████████████▊          | 42/48 [03:28<00:29,  4.96s/it]"
     ]
    },
    {
     "name": "stdout",
     "output_type": "stream",
     "text": [
      "S:\\QRAM\\qram_4QR2\\data\\data_241025\\00288_qram_protocol.h5\n",
      "S:\\QRAM\\qram_4QR2\\data\\data_241025\\00288_qram_protocol.h5\n",
      "Extracted data and attrs ['calib_order', 'config', 'meas_order', 'pulse_dict']\n",
      "init state Q0 (switch) Q1 (input): |0+1>|0+1>\n"
     ]
    },
    {
     "name": "stderr",
     "output_type": "stream",
     "text": [
      " 90%|█████████████████████████████████████████████████████████████████████████▍        | 43/48 [03:33<00:24,  4.98s/it]"
     ]
    },
    {
     "name": "stdout",
     "output_type": "stream",
     "text": [
      "S:\\QRAM\\qram_4QR2\\data\\data_241025\\00289_qram_protocol.h5\n",
      "S:\\QRAM\\qram_4QR2\\data\\data_241025\\00289_qram_protocol.h5\n",
      "Extracted data and attrs ['calib_order', 'config', 'meas_order', 'pulse_dict']\n",
      "init state Q0 (switch) Q1 (input): |0+1>|0+i>\n"
     ]
    },
    {
     "name": "stderr",
     "output_type": "stream",
     "text": [
      " 92%|███████████████████████████████████████████████████████████████████████████▏      | 44/48 [03:38<00:19,  4.98s/it]"
     ]
    },
    {
     "name": "stdout",
     "output_type": "stream",
     "text": [
      "S:\\QRAM\\qram_4QR2\\data\\data_241025\\00290_qram_protocol.h5\n",
      "S:\\QRAM\\qram_4QR2\\data\\data_241025\\00290_qram_protocol.h5\n",
      "Extracted data and attrs ['calib_order', 'config', 'meas_order', 'pulse_dict']\n",
      "init state Q0 (switch) Q1 (input): |0+i>|0>\n"
     ]
    },
    {
     "name": "stderr",
     "output_type": "stream",
     "text": [
      " 94%|████████████████████████████████████████████████████████████████████████████▉     | 45/48 [03:43<00:14,  4.94s/it]"
     ]
    },
    {
     "name": "stdout",
     "output_type": "stream",
     "text": [
      "S:\\QRAM\\qram_4QR2\\data\\data_241025\\00291_qram_protocol.h5\n",
      "S:\\QRAM\\qram_4QR2\\data\\data_241025\\00291_qram_protocol.h5\n",
      "Extracted data and attrs ['calib_order', 'config', 'meas_order', 'pulse_dict']\n",
      "init state Q0 (switch) Q1 (input): |0+i>|1>\n"
     ]
    },
    {
     "name": "stderr",
     "output_type": "stream",
     "text": [
      " 96%|██████████████████████████████████████████████████████████████████████████████▌   | 46/48 [03:47<00:09,  4.92s/it]"
     ]
    },
    {
     "name": "stdout",
     "output_type": "stream",
     "text": [
      "S:\\QRAM\\qram_4QR2\\data\\data_241025\\00292_qram_protocol.h5\n",
      "S:\\QRAM\\qram_4QR2\\data\\data_241025\\00292_qram_protocol.h5\n",
      "Extracted data and attrs ['calib_order', 'config', 'meas_order', 'pulse_dict']\n",
      "init state Q0 (switch) Q1 (input): |0+i>|0+1>\n"
     ]
    },
    {
     "name": "stderr",
     "output_type": "stream",
     "text": [
      " 98%|████████████████████████████████████████████████████████████████████████████████▎ | 47/48 [03:52<00:04,  4.92s/it]"
     ]
    },
    {
     "name": "stdout",
     "output_type": "stream",
     "text": [
      "S:\\QRAM\\qram_4QR2\\data\\data_241025\\00293_qram_protocol.h5\n",
      "S:\\QRAM\\qram_4QR2\\data\\data_241025\\00293_qram_protocol.h5\n",
      "Extracted data and attrs ['calib_order', 'config', 'meas_order', 'pulse_dict']\n",
      "init state Q0 (switch) Q1 (input): |0+i>|0+i>\n"
     ]
    },
    {
     "name": "stderr",
     "output_type": "stream",
     "text": [
      "100%|██████████████████████████████████████████████████████████████████████████████████| 48/48 [03:57<00:00,  4.95s/it]\n"
     ]
    }
   ],
   "source": [
    "n_tomo_corrected_dict = dict()\n",
    "for i_saved_file, saved_file in enumerate(tqdm(saved_files)):\n",
    "    print(saved_file)\n",
    "    data, attrs = prev_data(saved_file, None)\n",
    "    pulse_dict = attrs['pulse_dict']\n",
    "    cfg = AttrDict(attrs['config'])\n",
    "    init_state = cfg.expt.init_state\n",
    "    play_pulses = cfg.expt.play_pulses\n",
    "    print('init state Q0 (switch) Q1 (input):', init_state)\n",
    "    \n",
    "    n_tomo_raw, n_calib = tomo_analysis.n_tomo_calib_from_data(data, cfg, ps_adjust=ps_adjust, ps_qubits=ps_qubits, apply_ps=apply_ps, verbose=False)\n",
    "    n_tomo_corrected = tomo_analysis.correct_readout_err(n_tomo_raw, n_calib)\n",
    "    \n",
    "    if init_state not in n_tomo_corrected_dict.keys():\n",
    "        n_tomo_corrected_dict.update({init_state:[]})\n",
    "    \n",
    "    n_tomo_corrected_dict[init_state].append(n_tomo_corrected)\n",
    "\n",
    "init_states = np.copy(list(n_tomo_corrected_dict.keys()))\n",
    "for init_state in init_states:\n",
    "    all_n_tomo_corrected = np.array(n_tomo_corrected_dict[init_state])\n",
    "    n_tomo_corrected_dict[init_state] = np.average(all_n_tomo_corrected, axis=0)"
   ]
  },
  {
   "cell_type": "code",
   "execution_count": 96,
   "metadata": {
    "tags": []
   },
   "outputs": [
    {
     "name": "stderr",
     "output_type": "stream",
     "text": [
      "ComplexWarning: Casting complex values to real discards the imaginary part\n",
      " S:\\Connie\\experiments\\qram_tprocv1_expts\\TomoAnalysis.py: 1234"
     ]
    },
    {
     "name": "stdout",
     "output_type": "stream",
     "text": [
      "init state (Q0 (switch) Q1 (input)): |0>|0>\n",
      "Fidelity (with ZZ correction): 0.9706673965520619\n",
      "Purity (with ZZ correction): 0.9500044742633839\n",
      "Target purity: 1.0\n",
      "[[ 0.9706674 +6.48371011e-19j -0.02790425+3.33015590e-02j\n",
      "   0.00311669-7.70943621e-03j -0.00173428+3.95429003e-02j]\n",
      " [-0.02790425-3.33015590e-02j  0.01612626-1.18345931e-18j\n",
      "  -0.01300982+4.63717087e-04j  0.00314552-1.34915652e-03j]\n",
      " [ 0.00311669+7.70943621e-03j -0.01300982-4.63717087e-04j\n",
      "   0.01137389-9.48110743e-19j -0.00187825+3.13036492e-04j]\n",
      " [-0.00173428-3.95429003e-02j  0.00314552+1.34915652e-03j\n",
      "  -0.00187825-3.13036492e-04j  0.00183246-1.66239525e-20j]]\n"
     ]
    },
    {
     "name": "stderr",
     "output_type": "stream",
     "text": [
      "ComplexWarning: Casting complex values to real discards the imaginary part\n",
      " S:\\Connie\\experiments\\qram_tprocv1_expts\\TomoAnalysis.py: 1239"
     ]
    },
    {
     "name": "stdout",
     "output_type": "stream",
     "text": [
      "\n",
      "init state (Q0 (switch) Q1 (input)): |0>|1>\n",
      "Fidelity (with ZZ correction): 0.9718080699865274\n",
      "Purity (with ZZ correction): 0.9514676006664226\n",
      "Target purity: 1.0\n",
      "[[ 1.49618974e-02-2.10219695e-17j -2.23081848e-02+3.96087661e-02j\n",
      "  -5.78841470e-04+1.98720333e-03j  1.06879515e-02-6.43085444e-03j]\n",
      " [-2.23081848e-02-3.96087661e-02j  9.71806920e-01+5.06084417e-17j\n",
      "   2.50624521e-02-2.13082265e-02j  1.66988428e-03-5.68883796e-03j]\n",
      " [-5.78841470e-04-1.98720333e-03j  2.50624521e-02+2.13082265e-02j\n",
      "   1.19049786e-03-6.79193918e-20j -7.91308503e-04-4.93617345e-05j]\n",
      " [ 1.06879515e-02+6.43085444e-03j  1.66988428e-03+5.68883796e-03j\n",
      "  -7.91308503e-04+4.93617345e-05j  1.20406849e-02-1.98548932e-17j]]\n",
      "\n",
      "init state (Q0 (switch) Q1 (input)): |0>|0+1>\n",
      "Fidelity (with ZZ correction): 0.9777553078315331\n",
      "Purity (with ZZ correction): 0.9613029751259438\n",
      "Target purity: 0.9999999999999996\n",
      "[[ 0.46326661+1.16028156e-18j  0.48339292+7.26912337e-03j\n",
      "   0.0068172 -1.59256806e-02j  0.01935598-1.96545707e-03j]\n",
      " [ 0.48339292-7.26912337e-03j  0.5254568 +1.21954701e-18j\n",
      "   0.00890188-2.59204117e-02j  0.00940606-1.32944526e-03j]\n",
      " [ 0.0068172 +1.59256806e-02j  0.00890188+2.59204117e-02j\n",
      "   0.00488278+2.67797042e-19j -0.00114456-3.98700678e-03j]\n",
      " [ 0.01935598+1.96545707e-03j  0.00940606+1.32944526e-03j\n",
      "  -0.00114456+3.98700678e-03j  0.00639382+4.14094978e-19j]]\n",
      "\n",
      "init state (Q0 (switch) Q1 (input)): |0>|0+i>\n",
      "Fidelity (with ZZ correction): 0.9789121060486755\n",
      "Purity (with ZZ correction): 0.9679063327976822\n",
      "Target purity: 0.9999999999999996\n",
      "[[ 0.47329802+5.35927001e-17j -0.05860255-4.83231382e-01j\n",
      "  -0.00185983-6.74367429e-03j  0.00641463-1.82654062e-02j]\n",
      " [-0.05860255+4.83231382e-01j  0.51806337+5.88030032e-17j\n",
      "   0.01437421+1.66379103e-05j  0.01178123+2.15817051e-03j]\n",
      " [-0.00185983+6.74367429e-03j  0.01437421-1.66379103e-05j\n",
      "   0.00319254-2.39607929e-19j -0.00270589-2.23026679e-03j]\n",
      " [ 0.00641463+1.82654062e-02j  0.01178123-2.15817051e-03j\n",
      "  -0.00270589+2.23026679e-03j  0.00544607-3.90526328e-19j]]\n",
      "\n",
      "init state (Q0 (switch) Q1 (input)): |1>|0>\n",
      "Fidelity (with ZZ correction): 0.9705904943442528\n",
      "Purity (with ZZ correction): 0.9996071181382933\n",
      "Target purity: 1.0\n",
      "[[ 0.02355609+1.39293129e-18j  0.00553707+1.66725249e-03j\n",
      "  -0.14981913+1.85404457e-02j -0.00881894+5.00837594e-03j]\n",
      " [ 0.00553707-1.66725249e-03j  0.00143051+2.65867750e-20j\n",
      "  -0.03408579+1.49983456e-02j -0.0017043 +1.78101892e-03j]\n",
      " [-0.14981913-1.85404457e-02j -0.03408579-1.49983456e-02j\n",
      "   0.97059049-1.22265119e-17j  0.05972843-2.46209966e-02j]\n",
      " [-0.00881894-5.00837594e-03j -0.0017043 -1.78101892e-03j\n",
      "   0.05972843+2.46209966e-02j  0.00442292+2.81034431e-18j]]\n",
      "\n",
      "init state (Q0 (switch) Q1 (input)): |1>|1>\n",
      "Fidelity (with ZZ correction): 0.9190016589677676\n",
      "Purity (with ZZ correction): 0.9120218241115643\n",
      "Target purity: 1.0\n",
      "[[ 0.01089419-4.49609963e-19j -0.00475969+5.60626162e-04j\n",
      "  -0.01622737+1.13926690e-02j  0.06978309-5.82633294e-02j]\n",
      " [-0.00475969-5.60626162e-04j  0.02218604+4.97858472e-18j\n",
      "   0.01570723-1.72981895e-02j  0.0231868 +1.89182319e-02j]\n",
      " [-0.01622737-1.13926690e-02j  0.01570723+1.72981895e-02j\n",
      "   0.04791812+2.93858612e-18j -0.14027415+4.97662255e-02j]\n",
      " [ 0.06978309+5.82633294e-02j  0.0231868 -1.89182319e-02j\n",
      "  -0.14027415-4.97662255e-02j  0.91900165-8.72647735e-17j]]\n",
      "\n",
      "init state (Q0 (switch) Q1 (input)): |1>|0+1>\n",
      "Fidelity (with ZZ correction): 0.9007492659380651\n",
      "Purity (with ZZ correction): 0.9041837486344834\n",
      "Target purity: 0.9999999999999996\n",
      "[[ 0.01578894-2.00440973e-19j -0.00324785+2.96867000e-03j\n",
      "  -0.08531962+1.63273796e-02j -0.07079118+4.41311565e-02j]\n",
      " [-0.00324785-2.96867000e-03j  0.00708487+5.27207998e-19j\n",
      "   0.0184706 +7.84990739e-03j  0.03091992+2.00267720e-02j]\n",
      " [-0.08531962-1.63273796e-02j  0.0184706 -7.84990739e-03j\n",
      "   0.48270763-4.35595289e-18j  0.41218616-1.64414967e-01j]\n",
      " [-0.07079118-4.41311565e-02j  0.03091992-2.00267720e-02j\n",
      "   0.41218616+1.64414967e-01j  0.49441856-4.61423064e-18j]]\n",
      "\n",
      "init state (Q0 (switch) Q1 (input)): |1>|0+i>\n",
      "Fidelity (with ZZ correction): 0.900474197811894\n",
      "Purity (with ZZ correction): 0.9440311361882\n",
      "Target purity: 0.9999999999999996\n",
      "[[ 0.01986851-1.29325429e-18j  0.00246679+1.00035436e-02j\n",
      "  -0.02774981+9.08590321e-02j  0.08823768-2.27290024e-02j]\n",
      " [ 0.00246679-1.00035436e-02j  0.0059922 -1.14477133e-18j\n",
      "   0.03802874+2.39643367e-02j -0.00520642-4.23430871e-02j]\n",
      " [-0.02774981-9.08590321e-02j  0.03802874-2.39643367e-02j\n",
      "   0.48492483-1.83907252e-17j -0.20586621-4.13404543e-01j]\n",
      " [ 0.08823768+2.27290024e-02j -0.00520642+4.23430871e-02j\n",
      "  -0.20586621+4.13404543e-01j  0.48921446-1.89913870e-17j]]\n",
      "\n",
      "init state (Q0 (switch) Q1 (input)): |0+1>|0>\n",
      "Fidelity (with ZZ correction): 0.9649380050383003\n",
      "Purity (with ZZ correction): 0.9660295546707725\n",
      "Target purity: 0.9999999999999996\n",
      "[[ 0.48937248-3.55678465e-18j -0.01829001-2.63239119e-03j\n",
      "   0.47067117+1.23463177e-01j  0.0150356 +1.63879770e-02j]\n",
      " [-0.01829001+2.63239119e-03j  0.00491654-1.01524777e-17j\n",
      "  -0.02221481+4.91658334e-03j  0.00221283+3.36350874e-03j]\n",
      " [ 0.47067117-1.23463177e-01j -0.02221481-4.91658334e-03j\n",
      "   0.49916113-2.77560471e-18j  0.02237063+3.56285623e-03j]\n",
      " [ 0.0150356 -1.63879770e-02j  0.00221283-3.36350874e-03j\n",
      "   0.02237063-3.56285623e-03j  0.00654985-1.38667388e-17j]]\n",
      "\n",
      "init state (Q0 (switch) Q1 (input)): |0+1>|1>\n",
      "Fidelity (with ZZ correction): 0.9594234454527452\n",
      "Purity (with ZZ correction): 0.9269149652517222\n",
      "Target purity: 0.9999999999999996\n",
      "[[ 0.00076037-9.74196150e-19j -0.00919192+2.95525438e-03j\n",
      "   0.00052465+3.74271726e-03j -0.00599398-7.92639233e-04j]\n",
      " [-0.00919192-2.95525438e-03j  0.49056809-5.42395390e-17j\n",
      "  -0.01783252-2.47227540e-02j  0.47080874+1.74758879e-02j]\n",
      " [ 0.00052465-3.74271726e-03j -0.01783252+2.47227540e-02j\n",
      "   0.02201023-3.02650565e-17j -0.03738645+5.43358278e-03j]\n",
      " [-0.00599398+7.92639233e-04j  0.47080874-1.74758879e-02j\n",
      "  -0.03738645-5.43358278e-03j  0.48666132-5.33176356e-17j]]\n",
      "\n",
      "init state (Q0 (switch) Q1 (input)): |0+1>|0+1>\n",
      "Fidelity (with ZZ correction): 0.8882253340069042\n",
      "Purity (with ZZ correction): 0.9031097377100221\n",
      "Target purity: 0.9999999999999991\n",
      "[[0.2244181 -2.24937478e-17j 0.22418368+3.54666625e-02j\n",
      "  0.20425709+9.16310057e-02j 0.23177431-7.03492410e-02j]\n",
      " [0.22418368-3.54666625e-02j 0.26201707-2.35554633e-17j\n",
      "  0.21013594+4.29935698e-02j 0.23407087-1.00880386e-01j]\n",
      " [0.20425709-9.16310057e-02j 0.21013594-4.29935698e-02j\n",
      "  0.23863946-1.85762512e-17j 0.17202874-1.57838704e-01j]\n",
      " [0.23177431+7.03492410e-02j 0.23407087+1.00880386e-01j\n",
      "  0.17202874+1.57838704e-01j 0.27492537-2.54911937e-17j]]\n",
      "\n",
      "init state (Q0 (switch) Q1 (input)): |0+1>|0+i>\n",
      "Fidelity (with ZZ correction): 0.9013112548220795\n",
      "Purity (with ZZ correction): 0.9271570697505087\n",
      "Target purity: 0.9999999999999991\n",
      "[[ 0.24078449-9.45365384e-18j  0.0018228 -2.40094854e-01j\n",
      "   0.22201539+7.10445449e-02j -0.08940559-2.23473287e-01j]\n",
      " [ 0.0018228 +2.40094854e-01j  0.25119516-4.82854943e-18j\n",
      "  -0.05321654+2.29410946e-01j  0.20955802-9.55779506e-02j]\n",
      " [ 0.22201539-7.10445449e-02j -0.05321654-2.29410946e-01j\n",
      "   0.25203069-6.84872644e-18j -0.16844779-1.78069985e-01j]\n",
      " [-0.08940559+2.23473287e-01j  0.20955802+9.55779506e-02j\n",
      "  -0.16844779+1.78069985e-01j  0.25598966-6.67695705e-18j]]\n",
      "\n",
      "init state (Q0 (switch) Q1 (input)): |0+i>|0>\n",
      "Fidelity (with ZZ correction): 0.952549574867947\n",
      "Purity (with ZZ correction): 0.9323101391010221\n",
      "Target purity: 0.9999999999999996\n",
      "[[ 0.48381344-6.59156074e-18j -0.02140377+3.25600594e-02j\n",
      "   0.09099089-4.63473593e-01j -0.01534297+1.22491242e-02j]\n",
      " [-0.02140377-3.25600594e-02j  0.00708995-4.94392537e-19j\n",
      "  -0.03948334+3.74358504e-03j -0.00112825-6.45546777e-03j]\n",
      " [ 0.09099089+4.63473593e-01j -0.03948334-3.74358504e-03j\n",
      "   0.49433848-6.71598722e-18j  0.00691773-1.19772498e-02j]\n",
      " [-0.01534297-1.22491242e-02j -0.00112825+6.45546777e-03j\n",
      "   0.00691773+1.19772498e-02j  0.01475812-1.67933658e-18j]]\n",
      "\n",
      "init state (Q0 (switch) Q1 (input)): |0+i>|1>\n",
      "Fidelity (with ZZ correction): 0.9498707848014959\n",
      "Purity (with ZZ correction): 0.9226575983485672\n",
      "Target purity: 0.9999999999999996\n",
      "[[ 0.01376099-1.59461406e-17j -0.01395923+2.97649900e-02j\n",
      "  -0.01123717-8.77421354e-03j  0.05088328+1.23224868e-02j]\n",
      " [-0.01395923-2.97649900e-02j  0.47938463-8.94957700e-17j\n",
      "   0.01043622+4.16302060e-02j -0.02484674-4.64630033e-01j]\n",
      " [-0.01123717+8.77421354e-03j  0.01043622-4.16302060e-02j\n",
      "   0.01575753-1.71512245e-17j -0.05659138+7.00478721e-03j]\n",
      " [ 0.05088328-1.23224868e-02j -0.02484674+4.64630033e-01j\n",
      "  -0.05659138-7.00478721e-03j  0.49109686-8.63493761e-17j]]\n",
      "\n",
      "init state (Q0 (switch) Q1 (input)): |0+i>|0+1>\n",
      "Fidelity (with ZZ correction): 0.9182786991882596\n",
      "Purity (with ZZ correction): 0.9457205256204528\n",
      "Target purity: 0.9999999999999991\n",
      "[[ 0.232669  +2.73622086e-18j  0.23639435+1.63889693e-02j\n",
      "   0.06811939-2.21356741e-01j -0.06664273-2.19200069e-01j]\n",
      " [ 0.23639435-1.63889693e-02j  0.26097983-7.70643224e-18j\n",
      "   0.06720332-2.44848752e-01j -0.10363976-2.30368885e-01j]\n",
      " [ 0.06811939+2.21356741e-01j  0.06720332+2.44848752e-01j\n",
      "   0.25161461-1.94748207e-18j  0.18438856-1.51921198e-01j]\n",
      " [-0.06664273+2.19200069e-01j -0.10363976+2.30368885e-01j\n",
      "   0.18438856+1.51921198e-01j  0.25473657+1.53190005e-18j]]\n",
      "\n",
      "init state (Q0 (switch) Q1 (input)): |0+i>|0+i>\n",
      "Fidelity (with ZZ correction): 0.8961043346636823\n",
      "Purity (with ZZ correction): 0.9419618562646316\n",
      "Target purity: 0.9999999999999991\n",
      "[[ 0.2192949 +3.17838526e-17j -0.0175115 -2.32770916e-01j\n",
      "   0.05188893-2.18560343e-01j -0.18477335+1.01428474e-01j]\n",
      " [-0.0175115 +2.32770916e-01j  0.2666181 +3.63057554e-17j\n",
      "   0.2463814 +8.03274395e-02j -0.11212407-2.30742433e-01j]\n",
      " [ 0.05188893+2.18560343e-01j  0.2463814 -8.03274395e-02j\n",
      "   0.25238759+3.44283283e-17j -0.17583262-1.78980210e-01j]\n",
      " [-0.18477335-1.01428474e-01j -0.11212407+2.30742433e-01j\n",
      "  -0.17583262+1.78980210e-01j  0.26169941+3.71668902e-17j]]\n",
      "\n"
     ]
    }
   ],
   "source": [
    "fidelities_ZZ = []\n",
    "purities_ZZ = []\n",
    "rho_MLE_ZZ_dict = dict()\n",
    "init_states = []\n",
    "for init_state in n_tomo_corrected_dict.keys():\n",
    "    print('init state (Q0 (switch) Q1 (input)):', init_state)\n",
    "    n_tomo_corrected = n_tomo_corrected_dict[init_state]\n",
    "    init_states.append(init_state)\n",
    "    \n",
    "    rho_id = qt.ket2dm(name_to_state_2q(init_state))\n",
    "    \n",
    "    rho_MLE_ZZ = tomo_analysis.get_rho_from_counts(\n",
    "        n_tomo_raw=n_tomo_corrected,\n",
    "        n_calib=None,\n",
    "        correct_readout=False,\n",
    "        correct_neg_counts=True,\n",
    "        method='analytical',\n",
    "        ZZ_correction=use_ZZ_mat,\n",
    "        evol_mats=None if not use_ZZ_mat else evol_mats\n",
    "    )\n",
    "\n",
    "    \n",
    "    fid_ZZ = qt.fidelity(qt.Qobj(rho_MLE_ZZ, dims=rho_id.dims), rho_id)**2 # qutip uses N&C fidelity which is \"sqrt fidelity\"\n",
    "    purity_ZZ = np.real(np.trace(rho_MLE_ZZ @ rho_MLE_ZZ))\n",
    "    purity_id = np.real(np.trace(rho_id.full() @ rho_id.full()))\n",
    "    print(f'Fidelity (with{\"out\" if not use_ZZ_mat else \"\"} ZZ correction): {fid_ZZ}')\n",
    "    print(f'Purity (with{\"out\" if not use_ZZ_mat else \"\"} ZZ correction): {purity_ZZ}')\n",
    "    print(f'Target purity: {purity_id}')\n",
    "    \n",
    "    # savetitle=saved_file[:-3]+'_ZZcorrect.svg'\n",
    "    savetitle=None\n",
    "    \n",
    "    init_state_title = ''\n",
    "    for c in init_state:\n",
    "        if c != '>': init_state_title += c\n",
    "        else: init_state_title += '\\\\rangle'\n",
    "    print(rho_MLE_ZZ)\n",
    "    tomo_analysis.show_plot_rho_2d(rho_MLE_ZZ, rho_id, title=f'${init_state_title}$ MLE {\"with ZZ Correction\" if use_ZZ_mat else \"\"} (Q{tomo_qubits[0]}, Q{tomo_qubits[1]})', savetitle=savetitle, cmax=0.5)\n",
    "    \n",
    "    fidelities_ZZ.append(fid_ZZ)\n",
    "    purities_ZZ.append(purity_ZZ)\n",
    "    rho_MLE_ZZ_dict.update({init_state:rho_MLE_ZZ})\n",
    "    print()\n",
    "    # print('\\n\\n\\n')"
   ]
  },
  {
   "cell_type": "code",
   "execution_count": 97,
   "metadata": {},
   "outputs": [
    {
     "name": "stdout",
     "output_type": "stream",
     "text": [
      "init_states to be saved dict_keys(['|0>|0>', '|0>|1>', '|0>|0+1>', '|0>|0+i>', '|1>|0>', '|1>|1>', '|1>|0+1>', '|1>|0+i>', '|0+1>|0>', '|0+1>|1>', '|0+1>|0+1>', '|0+1>|0+i>', '|0+i>|0>', '|0+i>|1>', '|0+i>|0+1>', '|0+i>|0+i>'])\n",
      "ZZ correction fidelities\n",
      " [0.9706673965520619, 0.9718080699865274, 0.9777553078315331, 0.9789121060486755, 0.9705904943442528, 0.9190016589677676, 0.9007492659380651, 0.900474197811894, 0.9649380050383003, 0.9594234454527452, 0.8882253340069042, 0.9013112548220795, 0.952549574867947, 0.9498707848014959, 0.9182786991882596, 0.8961043346636823]\n",
      "purities (ZZ correction)\n",
      " [0.9500044742633839, 0.9514676006664226, 0.9613029751259438, 0.9679063327976822, 0.9996071181382933, 0.9120218241115643, 0.9041837486344834, 0.9440311361882, 0.9660295546707725, 0.9269149652517222, 0.9031097377100221, 0.9271570697505087, 0.9323101391010221, 0.9226575983485672, 0.9457205256204528, 0.9419618562646316]\n"
     ]
    }
   ],
   "source": [
    "print('init_states to be saved', rho_MLE_ZZ_dict.keys())\n",
    "print('ZZ correction fidelities\\n', fidelities_ZZ)\n",
    "print('purities (ZZ correction)\\n', purities_ZZ)"
   ]
  },
  {
   "cell_type": "code",
   "execution_count": 98,
   "metadata": {},
   "outputs": [
    {
     "name": "stdout",
     "output_type": "stream",
     "text": [
      "Saved rho_MLE_ZZ for Q0 Q1 to file S:\\QRAM\\qram_4QR2\\data\\data_241025\\202412091502_init_rhoMLE_ZZ_2Q_01.npz\n"
     ]
    }
   ],
   "source": [
    "# SAVING MEASURED DENSITY MATRICES\n",
    "from datetime import datetime\n",
    "timestamp = datetime.now().strftime(\"%Y%m%d%H%M\")\n",
    "q0, q1 = tomo_qubits\n",
    "rho_MLE_ZZ_2Q_filepath = os.path.join(expt_path, f'{timestamp}_init_rhoMLE_ZZ_2Q_{q0}{q1}.npz')\n",
    "np.savez(rho_MLE_ZZ_2Q_filepath, **rho_MLE_ZZ_dict)\n",
    "print(f'Saved rho_MLE_ZZ for Q{q0} Q{q1} to file {rho_MLE_ZZ_2Q_filepath}')"
   ]
  },
  {
   "cell_type": "code",
   "execution_count": 99,
   "metadata": {},
   "outputs": [
    {
     "name": "stdout",
     "output_type": "stream",
     "text": [
      "\n"
     ]
    }
   ],
   "source": [
    "print()"
   ]
  },
  {
   "cell_type": "code",
   "execution_count": 277,
   "metadata": {},
   "outputs": [
    {
     "name": "stdout",
     "output_type": "stream",
     "text": [
      "Using rho_MLE_ZZ for Q0 Q1 from file S:\\Connie\\experiments\\qramLL_4QR2\\data\\data_240218\\202402281619_init_rhoMLE_ZZ_2Q_01.npz\n"
     ]
    },
    {
     "ename": "FileNotFoundError",
     "evalue": "[Errno 2] No such file or directory: 'S:\\\\Connie\\\\experiments\\\\qramLL_4QR2\\\\data\\\\data_240218\\\\202402281619_init_rhoMLE_ZZ_2Q_01.npz'",
     "output_type": "error",
     "traceback": [
      "\u001b[1;31m---------------------------------------------------------------------------\u001b[0m",
      "\u001b[1;31mFileNotFoundError\u001b[0m                         Traceback (most recent call last)",
      "\u001b[1;32m~\\AppData\\Local\\Temp\\ipykernel_30144\\84635687.py\u001b[0m in \u001b[0;36m<module>\u001b[1;34m\u001b[0m\n\u001b[0;32m      5\u001b[0m \u001b[1;33m\u001b[0m\u001b[0m\n\u001b[0;32m      6\u001b[0m \u001b[0mtest_rho_MLE_ZZ_dict\u001b[0m \u001b[1;33m=\u001b[0m \u001b[0mdict\u001b[0m\u001b[1;33m(\u001b[0m\u001b[1;33m)\u001b[0m\u001b[1;33m\u001b[0m\u001b[1;33m\u001b[0m\u001b[0m\n\u001b[1;32m----> 7\u001b[1;33m \u001b[1;32mwith\u001b[0m \u001b[0mnp\u001b[0m\u001b[1;33m.\u001b[0m\u001b[0mload\u001b[0m\u001b[1;33m(\u001b[0m\u001b[0mrho_MLE_ZZ_2Q_filepath\u001b[0m\u001b[1;33m)\u001b[0m \u001b[1;32mas\u001b[0m \u001b[0mnpzfile\u001b[0m\u001b[1;33m:\u001b[0m\u001b[1;33m\u001b[0m\u001b[1;33m\u001b[0m\u001b[0m\n\u001b[0m\u001b[0;32m      8\u001b[0m     \u001b[1;32mfor\u001b[0m \u001b[0mkey\u001b[0m \u001b[1;32min\u001b[0m \u001b[0mnpzfile\u001b[0m\u001b[1;33m.\u001b[0m\u001b[0mkeys\u001b[0m\u001b[1;33m(\u001b[0m\u001b[1;33m)\u001b[0m\u001b[1;33m:\u001b[0m\u001b[1;33m\u001b[0m\u001b[1;33m\u001b[0m\u001b[0m\n\u001b[0;32m      9\u001b[0m         \u001b[0mtest_rho_MLE_ZZ_dict\u001b[0m\u001b[1;33m.\u001b[0m\u001b[0mupdate\u001b[0m\u001b[1;33m(\u001b[0m\u001b[1;33m{\u001b[0m\u001b[0mkey\u001b[0m\u001b[1;33m:\u001b[0m\u001b[0mnpzfile\u001b[0m\u001b[1;33m[\u001b[0m\u001b[0mkey\u001b[0m\u001b[1;33m]\u001b[0m\u001b[1;33m}\u001b[0m\u001b[1;33m)\u001b[0m\u001b[1;33m\u001b[0m\u001b[1;33m\u001b[0m\u001b[0m\n",
      "\u001b[1;32mC:\\ProgramData\\Anaconda3\\lib\\site-packages\\numpy\\lib\\npyio.py\u001b[0m in \u001b[0;36mload\u001b[1;34m(file, mmap_mode, allow_pickle, fix_imports, encoding, max_header_size)\u001b[0m\n\u001b[0;32m    425\u001b[0m             \u001b[0mown_fid\u001b[0m \u001b[1;33m=\u001b[0m \u001b[1;32mFalse\u001b[0m\u001b[1;33m\u001b[0m\u001b[1;33m\u001b[0m\u001b[0m\n\u001b[0;32m    426\u001b[0m         \u001b[1;32melse\u001b[0m\u001b[1;33m:\u001b[0m\u001b[1;33m\u001b[0m\u001b[1;33m\u001b[0m\u001b[0m\n\u001b[1;32m--> 427\u001b[1;33m             \u001b[0mfid\u001b[0m \u001b[1;33m=\u001b[0m \u001b[0mstack\u001b[0m\u001b[1;33m.\u001b[0m\u001b[0menter_context\u001b[0m\u001b[1;33m(\u001b[0m\u001b[0mopen\u001b[0m\u001b[1;33m(\u001b[0m\u001b[0mos_fspath\u001b[0m\u001b[1;33m(\u001b[0m\u001b[0mfile\u001b[0m\u001b[1;33m)\u001b[0m\u001b[1;33m,\u001b[0m \u001b[1;34m\"rb\"\u001b[0m\u001b[1;33m)\u001b[0m\u001b[1;33m)\u001b[0m\u001b[1;33m\u001b[0m\u001b[1;33m\u001b[0m\u001b[0m\n\u001b[0m\u001b[0;32m    428\u001b[0m             \u001b[0mown_fid\u001b[0m \u001b[1;33m=\u001b[0m \u001b[1;32mTrue\u001b[0m\u001b[1;33m\u001b[0m\u001b[1;33m\u001b[0m\u001b[0m\n\u001b[0;32m    429\u001b[0m \u001b[1;33m\u001b[0m\u001b[0m\n",
      "\u001b[1;31mFileNotFoundError\u001b[0m: [Errno 2] No such file or directory: 'S:\\\\Connie\\\\experiments\\\\qramLL_4QR2\\\\data\\\\data_240218\\\\202402281619_init_rhoMLE_ZZ_2Q_01.npz'"
     ]
    }
   ],
   "source": [
    "# RETREIVE SAVED MEASURED DENSITY MATRICES AND CHECK WHAT EXPECTED QRAM STATE IS\n",
    "q0, q1 = tomo_qubits\n",
    "rho_MLE_ZZ_2Q_filepath = 'S:\\QRAM\\qram_4QR2\\data\\data_241025\\\\202411051014_init_rhoMLE_ZZ_2Q_01.npz'\n",
    "print(f'Using rho_MLE_ZZ for Q{q0} Q{q1} from file {rho_MLE_ZZ_2Q_filepath}')\n",
    "\n",
    "test_rho_MLE_ZZ_dict = dict()\n",
    "with np.load(rho_MLE_ZZ_2Q_filepath) as npzfile:\n",
    "    for key in npzfile.keys():\n",
    "        test_rho_MLE_ZZ_dict.update({key:npzfile[key]})\n",
    "print(f'rho_MLE_ZZ retrieved with init_states {test_rho_MLE_ZZ_dict.keys()}')\n",
    "\n",
    "init_state = '|1>|1>'\n",
    "init_rho = test_rho_MLE_ZZ_dict[init_state]\n",
    "get_qram_qSLR_state_from_rho(init_rho, output_qubits=[2, 3])"
   ]
  },
  {
   "cell_type": "markdown",
   "metadata": {
    "tags": []
   },
   "source": [
    "## Run analysis"
   ]
  },
  {
   "cell_type": "markdown",
   "metadata": {
    "tags": []
   },
   "source": [
    "### Reopen old data"
   ]
  },
  {
   "cell_type": "code",
   "execution_count": 73,
   "metadata": {},
   "outputs": [
    {
     "data": {
      "text/plain": [
       "6"
      ]
     },
     "execution_count": 73,
     "metadata": {},
     "output_type": "execute_result"
    }
   ],
   "source": [
    "a = np.array([[1, 2, 3], [4, 5, 6]])\n",
    "max_ind = np.unravel_index(np.argmax(a), a.shape)\n",
    "a[max_ind]"
   ]
  },
  {
   "cell_type": "code",
   "execution_count": 293,
   "metadata": {},
   "outputs": [],
   "source": [
    "apply_ps = True\n",
    "ps_adjust = [-0.3, -1.0, -0.3, -0.3]\n",
    "# ps_adjust = [np.inf]*4\n",
    "ps_qubits = [0, 1, 2, 3]"
   ]
  },
  {
   "cell_type": "code",
   "execution_count": 294,
   "metadata": {},
   "outputs": [
    {
     "name": "stdout",
     "output_type": "stream",
     "text": [
      "S:\\QRAM\\qram_4QR2\\data\\data_240617\\00109_qram_protocol.h5\n"
     ]
    },
    {
     "name": "stderr",
     "output_type": "stream",
     "text": [
      "DeprecationWarning: `product` is deprecated as of NumPy 1.25.0, and will be removed in NumPy 2.0. Please use `prod` instead.\n",
      " C:\\Users\\slab\\AppData\\Local\\Temp\\ipykernel_30144\\809401443.py: 13"
     ]
    },
    {
     "name": "stdout",
     "output_type": "stream",
     "text": [
      "Extracted data and attrs ['calib_order', 'config', 'meas_order', 'pulse_dict']\n",
      "dict_keys(['amps', 'angles', 'avgi', 'avgi_err', 'avgq', 'avgq_err', 'calib_ishots_raw', 'calib_qshots_raw', 'counts_calib', 'counts_tomo', 'ge_avgs', 'ishots_raw', 'phases', 'qshots_raw', 'thresholds', 'xpts'])\n",
      "init_state |1>|0+1>\n",
      "tomo_qubits [0, 1]\n",
      "play_pulses [0]\n",
      "ps thresholds [248.40084122 364.09419947 533.15924705  31.13482504]\n",
      "new ps thresholds [ 2.10610438e+02  2.54769337e+02  4.61334980e+02 -2.57536203e-01]\n",
      "keep 10137 of 30000 shots (33.79 %)\n",
      "keep 10137 of 30000 shots (33.79 %)\n",
      "ps thresholds [248.40084122 364.09419947 533.15924705  31.13482504]\n",
      "new ps thresholds [ 2.10610438e+02  2.54769337e+02  4.61334980e+02 -2.57536203e-01]\n",
      "keep 10442 of 30000 shots (34.806666666666665 %)\n",
      "keep 10442 of 30000 shots (34.806666666666665 %)\n",
      "ps thresholds [248.40084122 364.09419947 533.15924705  31.13482504]\n",
      "new ps thresholds [ 2.10610438e+02  2.54769337e+02  4.61334980e+02 -2.57536203e-01]\n",
      "keep 10526 of 30000 shots (35.086666666666666 %)\n",
      "keep 10526 of 30000 shots (35.086666666666666 %)\n",
      "ps thresholds [248.40084122 364.09419947 533.15924705  31.13482504]\n",
      "new ps thresholds [ 2.10610438e+02  2.54769337e+02  4.61334980e+02 -2.57536203e-01]\n",
      "keep 10317 of 30000 shots (34.39 %)\n",
      "keep 10317 of 30000 shots (34.39 %)\n",
      "ps thresholds [248.40084122 364.09419947 533.15924705  31.13482504]\n",
      "new ps thresholds [ 2.10610438e+02  2.54769337e+02  4.61334980e+02 -2.57536203e-01]\n",
      "keep 10627 of 30000 shots (35.42333333333333 %)\n",
      "keep 10627 of 30000 shots (35.42333333333333 %)\n",
      "ps thresholds [248.40084122 364.09419947 533.15924705  31.13482504]\n",
      "new ps thresholds [ 2.10610438e+02  2.54769337e+02  4.61334980e+02 -2.57536203e-01]\n",
      "keep 10682 of 30000 shots (35.60666666666667 %)\n",
      "keep 10682 of 30000 shots (35.60666666666667 %)\n",
      "ps thresholds [248.40084122 364.09419947 533.15924705  31.13482504]\n",
      "new ps thresholds [ 2.10610438e+02  2.54769337e+02  4.61334980e+02 -2.57536203e-01]\n",
      "keep 10691 of 30000 shots (35.63666666666666 %)\n",
      "keep 10691 of 30000 shots (35.63666666666666 %)\n",
      "ps thresholds [248.40084122 364.09419947 533.15924705  31.13482504]\n",
      "new ps thresholds [ 2.10610438e+02  2.54769337e+02  4.61334980e+02 -2.57536203e-01]\n",
      "keep 10786 of 30000 shots (35.95333333333333 %)\n",
      "keep 10786 of 30000 shots (35.95333333333333 %)\n",
      "ps thresholds [248.40084122 364.09419947 533.15924705  31.13482504]\n",
      "new ps thresholds [ 2.10610438e+02  2.54769337e+02  4.61334980e+02 -2.57536203e-01]\n",
      "keep 10737 of 30000 shots (35.79 %)\n",
      "keep 10737 of 30000 shots (35.79 %)\n",
      "ps thresholds [248.40084122 364.09419947 533.15924705  31.13482504]\n",
      "new ps thresholds [ 2.10610438e+02  2.54769337e+02  4.61334980e+02 -2.57536203e-01]\n",
      "keep 10137 of 30000 shots (33.79 %)\n",
      "keep 10137 of 30000 shots (33.79 %)\n",
      "ps thresholds [248.40084122 364.09419947 533.15924705  31.13482504]\n",
      "new ps thresholds [ 2.10610438e+02  2.54769337e+02  4.61334980e+02 -2.57536203e-01]\n",
      "keep 9945 of 30000 shots (33.15 %)\n",
      "keep 9945 of 30000 shots (33.15 %)\n",
      "ps thresholds [248.40084122 364.09419947 533.15924705  31.13482504]\n",
      "new ps thresholds [ 2.10610438e+02  2.54769337e+02  4.61334980e+02 -2.57536203e-01]\n",
      "keep 9993 of 30000 shots (33.31 %)\n",
      "keep 9993 of 30000 shots (33.31 %)\n",
      "ps thresholds [248.40084122 364.09419947 533.15924705  31.13482504]\n",
      "new ps thresholds [ 2.10610438e+02  2.54769337e+02  4.61334980e+02 -2.57536203e-01]\n",
      "keep 10199 of 30000 shots (33.99666666666667 %)\n",
      "keep 10199 of 30000 shots (33.99666666666667 %)\n",
      "calib_order ['gg', 'ge', 'eg', 'ee']\n",
      "meas_order ['ZZ', 'ZX', 'ZY', 'XZ', 'XX', 'XY', 'YZ', 'YX', 'YY']\n",
      "counts_calib\n",
      "[[0.79027326 0.14550656 0.04873237 0.01548782]\n",
      " [0.14801408 0.78984414 0.01206637 0.05007541]\n",
      " [0.10587411 0.02041429 0.68858201 0.18512959]\n",
      " [0.02441416 0.09324444 0.1628591  0.7194823 ]]\n",
      "n_tomo_raw\n",
      "[[0.07566341 0.06431883 0.44095886 0.41905889]\n",
      " [0.09595863 0.04127562 0.56406819 0.29869757]\n",
      " [0.08930268 0.03961619 0.63775413 0.233327  ]\n",
      " [0.25259281 0.23931375 0.27333527 0.23475817]\n",
      " [0.34845206 0.1473605  0.16580408 0.33838336]\n",
      " [0.3804531  0.12872121 0.34750047 0.14332522]\n",
      " [0.25694509 0.19464971 0.277149   0.2712562 ]\n",
      " [0.29816429 0.15418135 0.17170406 0.37595031]\n",
      " [0.34963211 0.12210115 0.37068082 0.15758592]]\n",
      "n tomo corrected\n",
      "[[ 0.00782611  0.01378581  0.53463855  0.44374954]\n",
      " [ 0.01107784  0.0047479   0.76692362  0.21725064]\n",
      " [-0.          0.01100853  0.89920569  0.08978579]\n",
      " [ 0.22686799  0.22658276  0.32438173  0.22216751]\n",
      " [ 0.40190413  0.05901042  0.10977519  0.42931027]\n",
      " [ 0.40503305  0.06850809  0.4587911   0.06766777]\n",
      " [ 0.24409401  0.16033593  0.31637398  0.27919608]\n",
      " [ 0.33374755  0.07399114  0.1104989   0.48176242]\n",
      " [ 0.36162059  0.06580522  0.49268397  0.07989022]]\n"
     ]
    }
   ],
   "source": [
    "filename = 'S:\\\\QRAM\\\\qram_4QR2\\\\data\\\\data_240617\\\\00109_qram_protocol.h5'\n",
    "data, attrs = prev_data(filename, None)\n",
    "pulse_dict = attrs['pulse_dict']\n",
    "saved_files = [filename]\n",
    "\n",
    "print(data.keys())\n",
    "# # data = None\n",
    "# # style.use('default')\n",
    "# # qramExpt.analyze(data=data)\n",
    "# # qramExpt.display(data=data, err=False, saveplot=True)\n",
    "# # print(data)\n",
    "\n",
    "cfg = AttrDict(attrs['config'])\n",
    "# print(cfg.device.readout)\n",
    "init_state = cfg.expt.init_state\n",
    "tomo_qubits = cfg.expt.tomo_qubits\n",
    "play_pulses = cfg.expt.play_pulses\n",
    "print('init_state', init_state)\n",
    "print('tomo_qubits', tomo_qubits)\n",
    "print('play_pulses', play_pulses)\n",
    "\n",
    "n_tomo_raw, n_calib = tomo_analysis.n_tomo_calib_from_data(data, cfg, ps_adjust=ps_adjust, ps_qubits=ps_qubits, apply_ps=apply_ps, verbose=True)\n",
    "\n",
    "print('calib_order', attrs['calib_order'])\n",
    "print('meas_order', attrs['meas_order'])\n",
    "print('counts_calib')\n",
    "n_calib = n_calib.astype(np.float64)\n",
    "for r in range(n_calib.shape[0]):\n",
    "    n_calib[r,:]/=np.sum(n_calib[r,:])\n",
    "print(n_calib)\n",
    "\n",
    "print('n_tomo_raw')\n",
    "n_tomo_raw = n_tomo_raw.astype(np.float64)\n",
    "for r in range(n_tomo_raw.shape[0]):\n",
    "    n_tomo_raw[r,:]/=np.sum(n_tomo_raw[r,:])\n",
    "print(n_tomo_raw)\n",
    "\n",
    "print('n tomo corrected')\n",
    "print(np.around(tomo_analysis.correct_readout_err(n_tomo_raw, n_calib), decimals=10))"
   ]
  },
  {
   "cell_type": "code",
   "execution_count": 57,
   "metadata": {},
   "outputs": [],
   "source": [
    "init_state = '|0+i>|1>'\n",
    "n_tomo_raw = n_tomo_corrected_dict[init_state]\n",
    "n_calib = None"
   ]
  },
  {
   "cell_type": "markdown",
   "metadata": {},
   "source": [
    "### Set ideal rho"
   ]
  },
  {
   "cell_type": "markdown",
   "metadata": {},
   "source": [
    "Get final qram state from an arbitrary 2Q input density matrix"
   ]
  },
  {
   "cell_type": "code",
   "execution_count": 24,
   "metadata": {},
   "outputs": [
    {
     "name": "stdout",
     "output_type": "stream",
     "text": [
      "init state Q0 (switch) Q1 (input): |1>|0+1>\n"
     ]
    },
    {
     "data": {
      "text/latex": [
       "Quantum object: dims = [[2, 2], [2, 2]], shape = (4, 4), type = oper, isherm = True $ \\\\ \\left(\\begin{matrix}0.0 & 0.0 & 0.0 & 0.0\\\\0.0 & 0.0 & 0.0 & 0.0\\\\0.0 & 0.0 & 0.500 & 0.500\\\\0.0 & 0.0 & 0.500 & 0.500\\\\\\end{matrix}\\right)$"
      ],
      "text/plain": [
       "Quantum object: dims = [[2, 2], [2, 2]], shape = (4, 4), type = oper, isherm = True\n",
       "Qobj data =\n",
       "[[0.  0.  0.  0. ]\n",
       " [0.  0.  0.  0. ]\n",
       " [0.  0.  0.5 0.5]\n",
       " [0.  0.  0.5 0.5]]"
      ]
     },
     "execution_count": 24,
     "metadata": {},
     "output_type": "execute_result"
    }
   ],
   "source": [
    "print('init state Q0 (switch) Q1 (input):', init_state)\n",
    "\n",
    "init_rho = qt.ket2dm(name_to_state_2q(init_state))\n",
    "rho_id = init_rho\n",
    "\n",
    "# print('play_pulses', play_pulses)\n",
    "# assert (np.all([q in [0, 2, 3] for q in tomo_qubits]) and play_pulses==[2, 1, 4, 3]), 'Automatic ideal rho calculation not available'\n",
    "# init_rho = init_rho.full()\n",
    "# rho_id = get_qram_qSLR_state_from_rho(init_rho, output_qubits=tomo_qubits)\n",
    "rho_id"
   ]
  },
  {
   "cell_type": "code",
   "execution_count": 85,
   "metadata": {},
   "outputs": [],
   "source": [
    "# rho_id = (qt.ket2dm(psi01) + qt.ket2dm(psi10)).unit()\n",
    "# rho_id = qt.ket2dm((psi10 + psi11).unit())\n",
    "# rho_id = qt.ket2dm((psi01 + psi11).unit())\n",
    "# rho_id = qt.ket2dm((psi00 + psi10).unit())\n",
    "# rho_id = qt.ket2dm((psi00 + psi01 + psi10 + psi11).unit())\n",
    "# rho_id = qt.ket2dm((psi00+psi01).unit())\n",
    "rho_id = qt.ket2dm((psi10).unit())"
   ]
  },
  {
   "cell_type": "markdown",
   "metadata": {
    "tags": []
   },
   "source": [
    "### Generate test data"
   ]
  },
  {
   "cell_type": "code",
   "execution_count": 246,
   "metadata": {},
   "outputs": [
    {
     "name": "stdout",
     "output_type": "stream",
     "text": [
      "Generating with evol mats\n"
     ]
    }
   ],
   "source": [
    "rho_id = qt.ket2dm(psi00 + psi01).unit()\n",
    "\n",
    "n_tomo_raw = tomo_analysis.generate_counts(rho_id=rho_id, n_tot=20000, evol_mats=evol_mats, noise=None)\n",
    "n_calib = qt.qeye(4).full()"
   ]
  },
  {
   "cell_type": "markdown",
   "metadata": {},
   "source": [
    "### Run MLE without ZZ correction"
   ]
  },
  {
   "cell_type": "code",
   "execution_count": 298,
   "metadata": {},
   "outputs": [
    {
     "name": "stdout",
     "output_type": "stream",
     "text": [
      "Fidelity (no ZZ correction): 0.6606106196652823\n",
      "Purity (no ZZ correction): 0.7721190739079093\n",
      "[[ 0.051-0.j    -0.016-0.014j  0.041+0.044j  0.099-0.055j]\n",
      " [-0.016+0.014j  0.045-0.j     0.064-0.087j -0.018-0.033j]\n",
      " [ 0.041-0.044j  0.064+0.087j  0.486-0.j     0.209-0.324j]\n",
      " [ 0.099+0.055j -0.018+0.033j  0.209+0.324j  0.418-0.j   ]]\n"
     ]
    }
   ],
   "source": [
    "rho_MLE_base = tomo_analysis.get_rho_from_counts(\n",
    "    n_tomo_raw=n_tomo_raw,\n",
    "    n_calib=n_calib,\n",
    "    correct_readout=True,\n",
    "    correct_neg_counts=True,\n",
    "    method='analytical',\n",
    "    ZZ_correction=False,\n",
    "    evol_mats=None\n",
    ")\n",
    "\n",
    "fid_base = qt.fidelity(qt.Qobj(rho_MLE_base, dims=id2q.dims), rho_id)**2 # qutip uses N&C fidelity which is \"sqrt fidelity\"\n",
    "purity_base = np.real(np.trace(rho_MLE_base @ rho_MLE_base))\n",
    "print(f'Fidelity (no ZZ correction): {fid_base}')\n",
    "print(f'Purity (no ZZ correction): {purity_base}')\n",
    "print(np.around(rho_MLE_base, decimals=3))\n",
    "tomo_analysis.show_plot_rho_2d(rho_MLE_base, rho_id, title=f'Base MLE (Q{tomo_qubits[0]}, Q{tomo_qubits[1]})', cmax=0.5)"
   ]
  },
  {
   "cell_type": "markdown",
   "metadata": {},
   "source": [
    "### Run MLE with ZZ"
   ]
  },
  {
   "cell_type": "markdown",
   "metadata": {},
   "source": [
    "#### Get evol mats for ZZ"
   ]
  },
  {
   "cell_type": "code",
   "execution_count": null,
   "metadata": {},
   "outputs": [],
   "source": [
    "# Recover old config\n",
    "# yaml_cfg = AttrDict(attrs['config'])"
   ]
  },
  {
   "cell_type": "code",
   "execution_count": 25,
   "metadata": {},
   "outputs": [],
   "source": [
    "import yaml\n",
    "with open(config_path, 'r') as cfg_file:\n",
    "    yaml_cfg = yaml.safe_load(cfg_file)\n",
    "yaml_cfg = AttrDict(yaml_cfg)"
   ]
  },
  {
   "cell_type": "code",
   "execution_count": 26,
   "metadata": {},
   "outputs": [
    {
     "name": "stdout",
     "output_type": "stream",
     "text": [
      "Will save evol mats to path S:\\QRAM\\qram_4QR2\\evol_mats\n",
      "Will save to filename evol_mats_01_old.npz\n"
     ]
    }
   ],
   "source": [
    "# evol_mats_path = os.path.join(os.getcwd(), 'evol_mats')\n",
    "evol_mats_path = \"S:\\\\QRAM\\\\qram_4QR2\\\\evol_mats\"\n",
    "print('Will save evol mats to path', evol_mats_path)\n",
    "\n",
    "q0, q1 = tomo_qubits\n",
    "evol_mats_filename = f'evol_mats_{q0}{q1}_old.npz'\n",
    "# evol_mats_filename = f'evol_mats_{q0}{q1}.npz'\n",
    "\n",
    "# evol_mats_filename += '_test'\n",
    "print('Will save to filename', evol_mats_filename)"
   ]
  },
  {
   "cell_type": "code",
   "execution_count": 23,
   "metadata": {
    "collapsed": true,
    "jupyter": {
     "outputs_hidden": true
    },
    "tags": []
   },
   "outputs": [
    {
     "name": "stdout",
     "output_type": "stream",
     "text": [
      "TOMO QUBITS [0, 1]\n",
      "HAMILTONIAN QUBITS [0 1]\n",
      "qubit freqs [4111.09786656 3448.55302423]\n",
      "alphas [-226.47095044 -100.46759106]\n",
      "ZZs (MHz) [[ 0.         -5.2589618 ]\n",
      " [-5.67745213  0.        ]]\n",
      "Will save to filename evol_mats_01_old.npz\n"
     ]
    },
    {
     "data": {
      "application/vnd.jupyter.widget-view+json": {
       "model_id": "3e793f1946b0475884b05fcbd3acf962",
       "version_major": 2,
       "version_minor": 0
      },
      "text/plain": [
       "  0%|          | 0/9 [00:00<?, ?it/s]"
      ]
     },
     "metadata": {},
     "output_type": "display_data"
    },
    {
     "name": "stdout",
     "output_type": "stream",
     "text": [
      "ZZ\n",
      "init state gg\n",
      "truncating to states inds [0, 1, 4, 5]\n",
      "evolution ket result\n",
      "[[1.+0.j]\n",
      " [0.+0.j]\n",
      " [0.+0.j]\n",
      " [0.+0.j]]\n",
      "init state ge\n",
      "truncating to states inds [0, 1, 4, 5]\n",
      "evolution ket result\n",
      "[[0.+0.j]\n",
      " [1.+0.j]\n",
      " [0.+0.j]\n",
      " [0.+0.j]]\n",
      "init state eg\n",
      "truncating to states inds [0, 1, 4, 5]\n",
      "evolution ket result\n",
      "[[0.+0.j]\n",
      " [0.+0.j]\n",
      " [1.+0.j]\n",
      " [0.+0.j]]\n",
      "init state ee\n",
      "truncating to states inds [0, 1, 4, 5]\n",
      "evolution ket result\n",
      "[[0.+0.j]\n",
      " [0.+0.j]\n",
      " [0.+0.j]\n",
      " [1.+0.j]]\n",
      "\n",
      "ZX\n",
      "init state gg\n",
      "truncating to states inds [0, 1, 4, 5]\n",
      "evolution ket result\n",
      "[[ 0.7013112 -0.04599108j]\n",
      " [-0.71034049+0.03825982j]\n",
      " [ 0.        +0.j        ]\n",
      " [ 0.        +0.j        ]]\n",
      "from gg\n",
      "gg probabilty 0.49395176730574647\n",
      "ge probabilty 0.5060465859733747\n",
      "eg probabilty 0.0\n",
      "ee probabilty 0.0\n",
      "init state ge\n",
      "truncating to states inds [0, 1, 4, 5]\n",
      "evolution ket result\n",
      "[[0.70960253-0.05656877j]\n",
      " [0.70071534-0.04756299j]\n",
      " [0.        +0.j        ]\n",
      " [0.        +0.j        ]]\n",
      "from ge\n",
      "gg probabilty 0.5067355604918518\n",
      "ge probabilty 0.4932640084048148\n",
      "eg probabilty 0.0\n",
      "ee probabilty 0.0\n",
      "init state eg\n",
      "truncating to states inds [0, 1, 4, 5]\n",
      "evolution ket result\n",
      "[[ 0.        +0.j        ]\n",
      " [ 0.        +0.j        ]\n",
      " [ 0.71876731-0.09174929j]\n",
      " [-0.65908893-0.20138868j]]\n",
      "from eg\n",
      "gg probabilty 0.0\n",
      "ge probabilty 0.0\n",
      "eg probabilty 0.5250191035666825\n",
      "ee probabilty 0.4749327480449849\n",
      "init state ee\n",
      "truncating to states inds [0, 1, 4, 5]\n",
      "evolution ket result\n",
      "[[0.        +0.j        ]\n",
      " [0.        +0.j        ]\n",
      " [0.66538865+0.18065307j]\n",
      " [0.55913473+0.46042455j]]\n",
      "from ee\n",
      "gg probabilty 0.0\n",
      "ge probabilty 0.0\n",
      "eg probabilty 0.4753529041988078\n",
      "ee probabilty 0.52459516606894\n",
      "\n",
      "ZY\n",
      "init state gg\n",
      "truncating to states inds [0, 1, 4, 5]\n",
      "evolution ket result\n",
      "[[ 0.70133841-0.04597503j]\n",
      " [-0.03826277-0.7103145j ]\n",
      " [ 0.        +0.j        ]\n",
      " [ 0.        +0.j        ]]\n",
      "from gg\n",
      "gg probabilty 0.4939883942837401\n",
      "ge probabilty 0.5060098227626512\n",
      "eg probabilty 0.0\n",
      "ee probabilty 0.0\n",
      "init state ge\n",
      "truncating to states inds [0, 1, 4, 5]\n",
      "evolution ket result\n",
      "[[-0.05656788-0.7095773j ]\n",
      " [ 0.70073929-0.04758766j]\n",
      " [ 0.        +0.j        ]\n",
      " [ 0.        +0.j        ]]\n",
      "from ge\n",
      "gg probabilty 0.506699607334683\n",
      "ge probabilty 0.49329988641313566\n",
      "eg probabilty 0.0\n",
      "ee probabilty 0.0\n",
      "init state eg\n",
      "truncating to states inds [0, 1, 4, 5]\n",
      "evolution ket result\n",
      "[[0.        +0.j        ]\n",
      " [0.        +0.j        ]\n",
      " [0.71878934-0.09172535j]\n",
      " [0.20137798-0.6590715j ]]\n",
      "from eg\n",
      "gg probabilty 0.0\n",
      "ge probabilty 0.0\n",
      "eg probabilty 0.5250466424757068\n",
      "ee probabilty 0.4749057122005895\n",
      "init state ee\n",
      "truncating to states inds [0, 1, 4, 5]\n",
      "evolution ket result\n",
      "[[0.        +0.j        ]\n",
      " [0.        +0.j        ]\n",
      " [0.18064865-0.66536966j]\n",
      " [0.55916909+0.46041199j]]\n",
      "from ee\n",
      "gg probabilty 0.0\n",
      "ge probabilty 0.0\n",
      "eg probabilty 0.4753257577593489\n",
      "ee probabilty 0.5246217240503492\n",
      "\n",
      "XZ\n",
      "init state gg\n",
      "truncating to states inds [0, 1, 4, 5]\n",
      "evolution ket result\n",
      "[[ 0.70117447+0.00577323j]\n",
      " [ 0.        +0.j        ]\n",
      " [-0.70180877+0.12564026j]\n",
      " [ 0.        +0.j        ]]\n",
      "from gg\n",
      "gg probabilty 0.49017087143265103\n",
      "ge probabilty 0.0\n",
      "eg probabilty 0.5067618790603177\n",
      "ee probabilty 0.0\n",
      "init state ge\n",
      "truncating to states inds [0, 1, 4, 5]\n",
      "evolution ket result\n",
      "[[ 0.        +0.j        ]\n",
      " [ 0.7007939 -0.01236741j]\n",
      " [ 0.        +0.j        ]\n",
      " [-0.71311393+0.01426456j]]\n",
      "from ge\n",
      "gg probabilty 0.0\n",
      "ge probabilty 0.49019253221584713\n",
      "eg probabilty 0.0\n",
      "ee probabilty 0.5076243093960777\n",
      "init state eg\n",
      "truncating to states inds [0, 1, 4, 5]\n",
      "evolution ket result\n",
      "[[0.7123045 +0.00343264j]\n",
      " [0.        +0.j        ]\n",
      " [0.69016038-0.127629j  ]\n",
      " [0.        +0.j        ]]\n",
      "from eg\n",
      "gg probabilty 0.5069486001707201\n",
      "ge probabilty 0.0\n",
      "eg probabilty 0.4921824735829005\n",
      "ee probabilty 0.0\n",
      "init state ee\n",
      "truncating to states inds [0, 1, 4, 5]\n",
      "evolution ket result\n",
      "[[0.        +0.j        ]\n",
      " [0.70346758+0.11495864j]\n",
      " [0.        +0.j        ]\n",
      " [0.69259816+0.11056976j]]\n",
      "from ee\n",
      "gg probabilty 0.0\n",
      "ge probabilty 0.507802579909414\n",
      "eg probabilty 0.0\n",
      "ee probabilty 0.49164723128165927\n",
      "\n",
      "XX\n"
     ]
    },
    {
     "name": "stderr",
     "output_type": "stream",
     "text": [
      "RuntimeWarning: More than 20 figures have been opened. Figures created through the pyplot interface (`matplotlib.pyplot.figure`) are retained until explicitly closed and may consume too much memory. (To control this warning, see the rcParam `figure.max_open_warning`). Consider using `matplotlib.pyplot.close()`.\n",
      " S:\\Connie\\experiments\\qram_tprocv1_expts\\TomoAnalysis.py: 982"
     ]
    },
    {
     "name": "stdout",
     "output_type": "stream",
     "text": [
      "init state gg\n",
      "truncating to states inds [0, 1, 4, 5]\n",
      "evolution ket result\n",
      "[[ 0.49201136-0.0282071j ]\n",
      " [-0.49880859+0.01694949j]\n",
      " [-0.49272438+0.15470038j]\n",
      " [ 0.48703854+0.06415469j]]\n",
      "from gg\n",
      "gg probabilty 0.2421205210291997\n",
      "ge probabilty 0.2483277573033476\n",
      "eg probabilty 0.26588557509319044\n",
      "ee probabilty 0.2405768441950927\n",
      "init state ge\n",
      "truncating to states inds [0, 1, 4, 5]\n",
      "evolution ket result\n",
      "[[ 0.49601639-0.05429321j]\n",
      " [ 0.49073126-0.04215544j]\n",
      " [-0.47828304-0.11365914j]\n",
      " [-0.40523781-0.32021086j]]\n",
      "from ge\n",
      "gg probabilty 0.24842974853533573\n",
      "ge probabilty 0.24205810264953712\n",
      "eg probabilty 0.24113895282153744\n",
      "ee probabilty 0.26616313354729065\n",
      "init state eg\n",
      "truncating to states inds [0, 1, 4, 5]\n",
      "evolution ket result\n",
      "[[ 0.49972244-0.03036096j]\n",
      " [-0.50665707+0.01894767j]\n",
      " [ 0.48416084-0.15505106j]\n",
      " [-0.47978322-0.06042188j]]\n",
      "from eg\n",
      "gg probabilty 0.2504205830708397\n",
      "ge probabilty 0.25683095663871025\n",
      "eg probabilty 0.2582218634799798\n",
      "ee probabilty 0.2336340159281998\n",
      "init state ee\n",
      "truncating to states inds [0, 1, 4, 5]\n",
      "evolution ket result\n",
      "[[0.50619365+0.03580095j]\n",
      " [0.49869034+0.04698718j]\n",
      " [0.44301835+0.19341178j]\n",
      " [0.33629224+0.38055299j]]\n",
      "from ee\n",
      "gg probabilty 0.25736533552807467\n",
      "ge probabilty 0.2507552821445558\n",
      "eg probabilty 0.23353873008703896\n",
      "ee probabilty 0.25776444034259716\n",
      "\n",
      "XY\n",
      "init state gg\n",
      "truncating to states inds [0, 1, 4, 5]\n",
      "evolution ket result\n",
      "[[ 0.49202938-0.02819474j]\n",
      " [-0.01695693-0.49879116j]\n",
      " [-0.49274209+0.15468524j]\n",
      " [-0.06414526+0.48702678j]]\n",
      "from gg\n",
      "gg probabilty 0.24213752085029838\n",
      "ge probabilty 0.24831070314338716\n",
      "eg probabilty 0.26589832955108\n",
      "ee probabilty 0.24056424292526107\n",
      "init state ge\n",
      "truncating to states inds [0, 1, 4, 5]\n",
      "evolution ket result\n",
      "[[-0.05428749-0.49599987j]\n",
      " [ 0.49074705-0.04217445j]\n",
      " [-0.1136603 +0.4782697j ]\n",
      " [-0.40526183-0.32019982j]]\n",
      "from ge\n",
      "gg probabilty 0.24841271869126563\n",
      "ge probabilty 0.24207509947705416\n",
      "eg probabilty 0.24112642573674173\n",
      "ee probabilty 0.266175442097209\n",
      "init state eg\n",
      "truncating to states inds [0, 1, 4, 5]\n",
      "evolution ket result\n",
      "[[ 0.49974079-0.03034848j]\n",
      " [-0.01895517-0.50663934j]\n",
      " [ 0.48417837-0.15503626j]\n",
      " [ 0.06041266-0.47977158j]]\n",
      "from eg\n",
      "gg probabilty 0.25043817125106477\n",
      "ge probabilty 0.25681331543668345\n",
      "eg probabilty 0.25823425327932725\n",
      "ee probabilty 0.23362177086068542\n",
      "init state ee\n",
      "truncating to states inds [0, 1, 4, 5]\n",
      "evolution ket result\n",
      "[[0.03580366-0.50617608j]\n",
      " [0.4987096 +0.04697103j]\n",
      " [0.19341045-0.44300528j]\n",
      " [0.33631752+0.38054641j]]\n",
      "from ee\n",
      "gg probabilty 0.2573476954920672\n",
      "ge probabilty 0.2507729000541565\n",
      "eg probabilty 0.2335265891782104\n",
      "ee probabilty 0.25777635693667134\n",
      "\n",
      "YZ\n",
      "init state gg\n",
      "truncating to states inds [0, 1, 4, 5]\n",
      "evolution ket result\n",
      "[[ 0.70117487+0.00576932j]\n",
      " [ 0.        +0.j        ]\n",
      " [-0.12564034-0.7018084j ]\n",
      " [ 0.        +0.j        ]]\n",
      "from gg\n",
      "gg probabilty 0.4901712379912446\n",
      "ge probabilty 0.0\n",
      "eg probabilty 0.5067612365386056\n",
      "ee probabilty 0.0\n",
      "init state ge\n",
      "truncating to states inds [0, 1, 4, 5]\n",
      "evolution ket result\n",
      "[[ 0.        +0.j        ]\n",
      " [ 0.70079487-0.01237142j]\n",
      " [ 0.        +0.j        ]\n",
      " [-0.01426501-0.7131129j ]]\n",
      "from ge\n",
      "gg probabilty 0.0\n",
      "ge probabilty 0.49019387743977133\n",
      "eg probabilty 0.0\n",
      "ee probabilty 0.5076227381016064\n",
      "init state eg\n",
      "truncating to states inds [0, 1, 4, 5]\n",
      "evolution ket result\n",
      "[[0.00343272-0.71230406j]\n",
      " [0.        +0.j        ]\n",
      " [0.69016155-0.12762514j]\n",
      " [0.        +0.j        ]]\n",
      "from eg\n",
      "gg probabilty 0.5069480084585424\n",
      "ge probabilty 0.0\n",
      "eg probabilty 0.4921831401169666\n",
      "ee probabilty 0.0\n",
      "init state ee\n",
      "truncating to states inds [0, 1, 4, 5]\n",
      "evolution ket result\n",
      "[[0.        +0.j        ]\n",
      " [0.11495896-0.70346642j]\n",
      " [0.        +0.j        ]\n",
      " [0.69259858+0.11057414j]]\n",
      "from ee\n",
      "gg probabilty 0.0\n",
      "ge probabilty 0.5078010597626582\n",
      "eg probabilty 0.0\n",
      "ee probabilty 0.4916488295812785\n",
      "\n",
      "YX\n",
      "init state gg\n",
      "truncating to states inds [0, 1, 4, 5]\n",
      "evolution ket result\n",
      "[[ 0.49201146-0.02820985j]\n",
      " [-0.49880876+0.01695228j]\n",
      " [-0.15470041-0.49272409j]\n",
      " [-0.06415455+0.48703831j]]\n",
      "from gg\n",
      "gg probabilty 0.2421207067036149\n",
      "ge probabilty 0.24832794837890879\n",
      "eg probabilty 0.2658852305247755\n",
      "ee probabilty 0.2405765329407245\n",
      "init state ge\n",
      "truncating to states inds [0, 1, 4, 5]\n",
      "evolution ket result\n",
      "[[0.49601683-0.05429613j]\n",
      " [0.49073176-0.04215831j]\n",
      " [0.11365864-0.47828242j]\n",
      " [0.32021011-0.40523743j]]\n",
      "from ge\n",
      "gg probabilty 0.24843044585585303\n",
      "ge probabilty 0.24205878268818048\n",
      "eg probabilty 0.24113819116165736\n",
      "ee probabilty 0.26616229342714404\n",
      "init state eg\n",
      "truncating to states inds [0, 1, 4, 5]\n",
      "evolution ket result\n",
      "[[-0.03036097-0.49972215j]\n",
      " [ 0.01894769+0.50665678j]\n",
      " [ 0.48416199-0.15504846j]\n",
      " [-0.47978316-0.06042458j]]\n",
      "from eg\n",
      "gg probabilty 0.25042031951839433\n",
      "ge probabilty 0.25683068564783784\n",
      "eg probabilty 0.2582221870926012\n",
      "ee probabilty 0.23363430809226662\n",
      "init state ee\n",
      "truncating to states inds [0, 1, 4, 5]\n",
      "evolution ket result\n",
      "[[0.03580093-0.5061929j ]\n",
      " [0.04698714-0.49868961j]\n",
      " [0.44301801+0.1934144j ]\n",
      " [0.33629075+0.38055534j]]\n",
      "from ee\n",
      "gg probabilty 0.257364601089527\n",
      "ge probabilty 0.25075456551458963\n",
      "eg probabilty 0.23353945900475342\n",
      "ee probabilty 0.25776524365912157\n",
      "\n",
      "YY\n",
      "init state gg\n",
      "truncating to states inds [0, 1, 4, 5]\n",
      "evolution ket result\n",
      "[[ 0.49202948-0.0281975j ]\n",
      " [-0.01695972-0.49879133j]\n",
      " [-0.15468528-0.4927418j ]\n",
      " [-0.48702655-0.06414511j]]\n",
      "from gg\n",
      "gg probabilty 0.24213770656916486\n",
      "ge probabilty 0.2483108941739782\n",
      "eg probabilty 0.2658979850053091\n",
      "ee probabilty 0.24056393164850176\n",
      "init state ge\n",
      "truncating to states inds [0, 1, 4, 5]\n",
      "evolution ket result\n",
      "[[-0.05429041-0.49600031j]\n",
      " [ 0.49074755-0.04217731j]\n",
      " [-0.47826908-0.11365981j]\n",
      " [ 0.32019907-0.40526146j]]\n",
      "from ge\n",
      "gg probabilty 0.24841341596379973\n",
      "ge probabilty 0.24207577956351356\n",
      "eg probabilty 0.24112566411635641\n",
      "ee probabilty 0.26617460193830667\n",
      "init state eg\n",
      "truncating to states inds [0, 1, 4, 5]\n",
      "evolution ket result\n",
      "[[-0.03034849-0.4997405j ]\n",
      " [-0.50663905+0.01895519j]\n",
      " [ 0.48417951-0.15503366j]\n",
      " [ 0.06041536-0.47977153j]]\n",
      "from eg\n",
      "gg probabilty 0.25043790782799397\n",
      "ge probabilty 0.25681304431619606\n",
      "eg probabilty 0.2582345770753784\n",
      "ee probabilty 0.23362206284187548\n",
      "init state ee\n",
      "truncating to states inds [0, 1, 4, 5]\n",
      "evolution ket result\n",
      "[[-0.50617534-0.03580365j]\n",
      " [ 0.04697099-0.49870886j]\n",
      " [ 0.19341307-0.44300494j]\n",
      " [ 0.33631603+0.38054875j]]\n",
      "from ee\n",
      "gg probabilty 0.2573469611057942\n",
      "ge probabilty 0.25077218337234564\n",
      "eg probabilty 0.23352731806013438\n",
      "ee probabilty 0.2577771602879685\n",
      "\n",
      "Saved evol mats to file S:\\QRAM\\qram_4QR2\\evol_mats\\evol_mats_01_old.npz\n"
     ]
    }
   ],
   "source": [
    "evol_mats = tomo_analysis.get_evol_mats_from_yaml(\n",
    "    tomo_qubits=tomo_qubits,\n",
    "    yaml_cfg=yaml_cfg,\n",
    "    pulse_dict=pulse_dict,\n",
    "    cutoffs=[4]*(len(tomo_qubits)),\n",
    "    soccfg=soc,\n",
    "    debug=True,\n",
    "    evol_mats_path=evol_mats_path,\n",
    "    evol_mats_filename=evol_mats_filename,\n",
    ")"
   ]
  },
  {
   "cell_type": "markdown",
   "metadata": {},
   "source": [
    "Reload evol mats"
   ]
  },
  {
   "cell_type": "code",
   "execution_count": 27,
   "metadata": {},
   "outputs": [
    {
     "name": "stdout",
     "output_type": "stream",
     "text": [
      "Using evol mats from file S:\\QRAM\\qram_4QR2\\evol_mats\\evol_mats_01_old.npz\n"
     ]
    }
   ],
   "source": [
    "q0, q1 = tomo_qubits\n",
    "evol_mats_file_path = os.path.join(evol_mats_path, evol_mats_filename)\n",
    "print(f'Using evol mats from file {evol_mats_file_path}')\n",
    "\n",
    "evol_mats = dict()\n",
    "with np.load(evol_mats_file_path) as npzfile:\n",
    "    for key in npzfile.keys():\n",
    "        evol_mats.update({key:npzfile[key]})\n",
    "# print(evol_mats)"
   ]
  },
  {
   "cell_type": "markdown",
   "metadata": {},
   "source": [
    "#### (Actually) run MLE with ZZ correction"
   ]
  },
  {
   "cell_type": "code",
   "execution_count": 28,
   "metadata": {},
   "outputs": [
    {
     "name": "stdout",
     "output_type": "stream",
     "text": [
      "init state |1>|0+1>\n"
     ]
    },
    {
     "name": "stderr",
     "output_type": "stream",
     "text": [
      "ComplexWarning: Casting complex values to real discards the imaginary part\n",
      " S:\\Connie\\experiments\\qram_tprocv1_expts\\TomoAnalysis.py: 1243ComplexWarning: Casting complex values to real discards the imaginary part\n",
      " S:\\Connie\\experiments\\qram_tprocv1_expts\\TomoAnalysis.py: 1248"
     ]
    },
    {
     "name": "stdout",
     "output_type": "stream",
     "text": [
      "[[ 0.017+0.j    -0.007+0.007j -0.102+0.017j -0.073+0.03j ]\n",
      " [-0.007-0.007j  0.006+0.j     0.051+0.036j  0.044+0.017j]\n",
      " [-0.102-0.017j  0.051-0.036j  0.617+0.j     0.458-0.11j ]\n",
      " [-0.073-0.03j   0.044-0.017j  0.458+0.11j   0.359+0.j   ]]\n",
      "list format [[(0.017+0j), (-0.007+0.007j), (-0.102+0.017j), (-0.073+0.03j)], [(-0.007-0.007j), (0.006+0j), (0.051+0.036j), (0.044+0.017j)], [(-0.102-0.017j), (0.051-0.036j), (0.617+0j), (0.458-0.11j)], [(-0.073-0.03j), (0.044-0.017j), (0.458+0.11j), (0.359+0j)]]\n",
      "Fidelity (with ZZ correction): 0.9460001383241261\n",
      "Purity (with ZZ correction): 1.0000000000000002\n",
      "Target purity: 0.9999999999999996\n",
      "Saved svg: None\n",
      "Saved data:\n",
      "\n"
     ]
    }
   ],
   "source": [
    "print('init state', init_state)\n",
    "# print('post selection', postselect)\n",
    "# if postselect: print('post select state', postselect_state)\n",
    "\n",
    "rho_MLE_ZZ = tomo_analysis.get_rho_from_counts(\n",
    "    n_tomo_raw=n_tomo_raw,\n",
    "    n_calib=n_calib,\n",
    "    correct_readout=n_calib is not None,\n",
    "    correct_neg_counts=True,\n",
    "    method='analytical',\n",
    "    ZZ_correction=True,\n",
    "    evol_mats=evol_mats\n",
    ")\n",
    "\n",
    "print(np.around(rho_MLE_ZZ, decimals=3))\n",
    "print('list format', np.around(rho_MLE_ZZ, decimals=3).tolist())\n",
    "fid_ZZ = qt.fidelity(qt.Qobj(rho_MLE_ZZ, dims=rho_id.dims), rho_id)**2 # qutip uses N&C fidelity which is \"sqrt fidelity\"\n",
    "purity_ZZ = np.real(np.trace(rho_MLE_ZZ @ rho_MLE_ZZ))\n",
    "purity_id = np.real(np.trace(rho_id.full() @ rho_id.full()))\n",
    "print(f'Fidelity (with ZZ correction): {fid_ZZ}')\n",
    "print(f'Purity (with ZZ correction): {purity_ZZ}')\n",
    "print(f'Target purity: {purity_id}')\n",
    "# savetitle = '1_0+1_ideal.png'\n",
    "# savetitle = 'test.png'\n",
    "savetitle=None\n",
    "# plt.style.use('default')\n",
    "# show_plot_rho_2d(rho_id, rho_id, title='MLE with ZZ Correction', savetitle=savetitle) #, cmax=1.0)\n",
    "# savetitle=saved_files[-1][:-3]+'_ZZcorrect.svg'\n",
    "tomo_analysis.show_plot_rho_2d(rho_MLE_ZZ, rho_id, title=f'MLE with ZZ Correction (Q{tomo_qubits[0]}, Q{tomo_qubits[1]})', savetitle=savetitle, cmax=0.5)\n",
    "print('Saved svg:', savetitle)\n",
    "\n",
    "print('Saved data:')\n",
    "print(*saved_files)"
   ]
  },
  {
   "cell_type": "markdown",
   "metadata": {},
   "source": [
    "Save measured density matrices"
   ]
  },
  {
   "cell_type": "code",
   "execution_count": null,
   "metadata": {},
   "outputs": [],
   "source": [
    "rho_MLE_ZZ_dict = dict()\n",
    "rho_MLE_ZZ_dict.update({init_state:rho_MLE_ZZ})\n",
    "q0, q1 = tomo_qubits\n",
    "\n",
    "# SAVING MEASURED DENSITY MATRICES\n",
    "from datetime import datetime\n",
    "timestamp = datetime.now().strftime(\"%Y%m%d%H%M\")\n",
    "q0, q1 = tomo_qubits\n",
    "rho_MLE_ZZ_2Q_filepath = os.path.join(expt_path, f'{timestamp}_init_rhoMLE_ZZ_2Q_{q0}{q1}.npz')\n",
    "np.savez(rho_MLE_ZZ_2Q_filepath, **rho_MLE_ZZ_dict)\n",
    "print(f'Saved rho_MLE_ZZ for Q{q0} Q{q1} to file {rho_MLE_ZZ_2Q_filepath}')"
   ]
  },
  {
   "cell_type": "markdown",
   "metadata": {},
   "source": [
    "### Optimize over virtual Z gate on rho_id"
   ]
  },
  {
   "cell_type": "code",
   "execution_count": null,
   "metadata": {},
   "outputs": [],
   "source": [
    "phis = [None, None]\n",
    "phis[0] = np.linspace(0, 360, 40)\n",
    "phis[1] = np.linspace(0, 360, 40)\n",
    "rho_MLE = rho_MLE_ZZ\n",
    "rho_MLE_rot, best_phis, best_fid = opt_virtualZ_MLE(qt.Qobj(rho_MLE, dims=rho_id.dims), rho_id, phis=phis)\n",
    "\n",
    "z_phi12 = z_gate_2q(*best_phis)\n",
    "rho_MLE_rot = (z_phi12*qt.Qobj(rho_MLE, dims=rho_id.dims)*z_phi12.dag()).unit()\n",
    "fid_rot = qt.fidelity(rho_MLE_rot, rho_id)**2\n",
    "\n",
    "purity_MLE = np.real(np.trace(rho_MLE @ rho_MLE))\n",
    "purity_MLE_rot = np.real(np.trace(rho_MLE_rot.full() @ rho_MLE_rot.full()))\n",
    "purity_id = np.real(np.trace(rho_id.full() @ rho_id.full()))\n",
    "print(f'Fidelity (after rotation): {fid_rot}')\n",
    "print(f'Purity (after rotation): {purity_MLE_rot}')\n",
    "print(f'Target purity: {purity_id}')\n",
    "print(f'Best rotation: {best_phis}')\n",
    "\n",
    "# print(np.around(rho_MLE_rot, decimals=3))\n",
    "savetitle=None\n",
    "show_plot_rho_2d(rho_MLE_rot, rho_id, title=f'MLE, Phase Optimized (Q{tomo_qubits[0]}, Q{tomo_qubits[1]})', savetitle=savetitle, cmax=0.5)"
   ]
  },
  {
   "cell_type": "code",
   "execution_count": null,
   "metadata": {},
   "outputs": [],
   "source": [
    "# tomo.save_data()"
   ]
  },
  {
   "cell_type": "code",
   "execution_count": null,
   "metadata": {},
   "outputs": [],
   "source": []
  }
 ],
 "metadata": {
  "kernelspec": {
   "display_name": "Python 3 (ipykernel)",
   "language": "python",
   "name": "python3"
  },
  "language_info": {
   "codemirror_mode": {
    "name": "ipython",
    "version": 3
   },
   "file_extension": ".py",
   "mimetype": "text/x-python",
   "name": "python",
   "nbconvert_exporter": "python",
   "pygments_lexer": "ipython3",
   "version": "3.9.13"
  },
  "vscode": {
   "interpreter": {
    "hash": "2c922461511010919a6549f466b17b4fd59210029bba93d8cfbc67f77787703d"
   }
  }
 },
 "nbformat": 4,
 "nbformat_minor": 4
}
