{
 "cells": [
  {
   "cell_type": "code",
   "execution_count": 1,
   "metadata": {},
   "outputs": [],
   "source": [
    "# %matplotlib widget\n",
    "# %matplotlib inline\n",
    "%matplotlib qt5"
   ]
  },
  {
   "cell_type": "code",
   "execution_count": 2,
   "metadata": {},
   "outputs": [
    {
     "name": "stdout",
     "output_type": "stream",
     "text": [
      "Could not import QickInstrument (will only work if running on rfsoc). If running on rfsoc, try install/update qick package\n",
      "Warning failed to import AWG81180A\n",
      "Warning failed to import Tek5014\n",
      "Warning failed to import Tek70001\n",
      "Warning failed to import M8195A\n"
     ]
    }
   ],
   "source": [
    "%load_ext autoreload\n",
    "%autoreload 2\n",
    "\n",
    "import numpy as np\n",
    "import matplotlib.pyplot as plt\n",
    "from copy import deepcopy\n",
    "\n",
    "from qick import *\n",
    "from qick.helpers import gauss\n",
    "from tqdm import tqdm_notebook as tqdm\n",
    "\n",
    "import time\n",
    "import os\n",
    "import sys\n",
    "sys.path.append('/home/xilinx/jupyter_notebooks/')\n",
    "import scipy as sp\n",
    "from scipy.fft import fft, fftfreq\n",
    "import json\n",
    "\n",
    "from slab.instruments import *\n",
    "from slab.experiment import Experiment\n",
    "from slab.datamanagement import SlabFile\n",
    "from slab import get_next_filename, AttrDict\n",
    "\n",
    "import Pyro4.util\n",
    "\n",
    "# Figure params\n",
    "plt.rcParams['figure.figsize'] = [10,6]\n",
    "plt.rcParams.update({'font.size': 14})"
   ]
  },
  {
   "cell_type": "markdown",
   "metadata": {},
   "source": [
    "# Load experiments"
   ]
  },
  {
   "cell_type": "code",
   "execution_count": 3,
   "metadata": {},
   "outputs": [
    {
     "name": "stdout",
     "output_type": "stream",
     "text": [
      "imported experiments.clifford_averager_program\n",
      "imported experiments.fitting\n",
      "imported experiments.four_qubit.fourQ_state_tomo\n",
      "imported experiments.qram_protocol_timestepped\n",
      "imported experiments.single_qubit.acstarkshift_spectroscopy\n",
      "imported experiments.single_qubit.amplitude_rabi\n",
      "imported experiments.single_qubit.length_rabi\n",
      "imported experiments.single_qubit.pulse_probe_spectroscopy\n",
      "imported experiments.single_qubit.resonator_spectroscopy\n",
      "imported experiments.single_qubit.rfsoc_tof_calibration\n",
      "imported experiments.single_qubit.single_shot\n",
      "imported experiments.single_qubit.t1\n",
      "imported experiments.single_qubit.t2_ramsey\n",
      "imported experiments.three_qubit.threeQ_state_tomo\n",
      "imported experiments.two_qubit.amplitude_rabi_EgGf\n",
      "imported experiments.two_qubit.amplitude_rabi_f0g1\n",
      "imported experiments.two_qubit.amprabi_opt_ctrl_state_prep\n",
      "imported experiments.two_qubit.crosstalk_echo_calib\n",
      "imported experiments.two_qubit.length_rabi_EgGf\n",
      "imported experiments.two_qubit.length_rabi_F0G1\n",
      "imported experiments.two_qubit.phase_calib_EgGf\n",
      "imported experiments.two_qubit.pulse_probe_EgGf_spectroscopy\n",
      "imported experiments.two_qubit.randbench\n",
      "imported experiments.two_qubit.random_test_pulses\n",
      "imported experiments.two_qubit.twoqutrit_state_tomography\n",
      "imported experiments.two_qubit.twoQ_state_tomography\n"
     ]
    }
   ],
   "source": [
    "# %aimport experiments\n",
    "import experiments as meas"
   ]
  },
  {
   "cell_type": "code",
   "execution_count": 4,
   "metadata": {},
   "outputs": [],
   "source": [
    "\"\"\"Reopen saved data\"\"\"\n",
    "def prev_data(expt_path, filename):\n",
    "    temp_data_file = expt_path+'/'+filename\n",
    "    with SlabFile(temp_data_file) as a:\n",
    "        attrs = dict()\n",
    "        for key in list(a.attrs):\n",
    "            attrs.update({key:json.loads(a.attrs[key])})\n",
    "        keys = list(a)\n",
    "        temp_data = dict()\n",
    "        for key in keys:\n",
    "            temp_data.update({key:np.array(a[key])})\n",
    "        print(f'Extracted data and attrs {list(a.attrs)}')\n",
    "    return temp_data, attrs"
   ]
  },
  {
   "cell_type": "code",
   "execution_count": 5,
   "metadata": {},
   "outputs": [
    {
     "name": "stdout",
     "output_type": "stream",
     "text": [
      "Data will be stored in S:\\QRAM\\qram_4QR2\\data\\data_250119\n"
     ]
    }
   ],
   "source": [
    "data_path = 'S:\\\\QRAM\\\\qram_4QR2\\\\'\n",
    "expt_path = os.path.join(data_path, 'data', 'data_250119')\n",
    "print('Data will be stored in', expt_path)"
   ]
  },
  {
   "cell_type": "code",
   "execution_count": 6,
   "metadata": {},
   "outputs": [
    {
     "name": "stdout",
     "output_type": "stream",
     "text": [
      "Config will be s:\\Connie\\experiments\\qram_tprocv1_expts\\configs\\config_q3diamond_full688and638_reset.yml\n"
     ]
    }
   ],
   "source": [
    "# config_file = 'config_zcu216.yml'\n",
    "# config_file = 'config_q3diamond.yml'\n",
    "# config_file = 'config_q3diamond_full688_reset.yml'\n",
    "config_file = 'config_q3diamond_full688and638_reset.yml'\n",
    "config_path = os.path.join('s:\\\\Connie\\\\experiments\\\\qram_tprocv1_expts\\\\configs\\\\', config_file)\n",
    "print('Config will be', config_path)"
   ]
  },
  {
   "cell_type": "markdown",
   "metadata": {},
   "source": [
    "Load config"
   ]
  },
  {
   "cell_type": "code",
   "execution_count": 7,
   "metadata": {},
   "outputs": [],
   "source": [
    "import yaml\n",
    "with open(config_path, 'r') as cfg_file:\n",
    "    yaml_cfg = yaml.safe_load(cfg_file)\n",
    "yaml_cfg = AttrDict(yaml_cfg)"
   ]
  },
  {
   "cell_type": "markdown",
   "metadata": {},
   "source": [
    "# Setup experiment hardware\n",
    "\n",
    "Set in config:\n",
    "- LO alias, frequency, power\n",
    "- SOC dac channels, nyquist zones"
   ]
  },
  {
   "cell_type": "code",
   "execution_count": 8,
   "metadata": {},
   "outputs": [
    {
     "name": "stdout",
     "output_type": "stream",
     "text": [
      "dict_keys(['Pyro.NameServer', 'Qick_QRAM'])\n"
     ]
    }
   ],
   "source": [
    "# im = InstrumentManager(ns_address='192.168.14.1') # Chicago lab\n",
    "# im = InstrumentManager(ns_address='192.168.137.1') # SLAC lab\n",
    "# im = InstrumentManager(ns_address='10.108.30.56') # Spilker Fermium\n",
    "im = InstrumentManager(ns_address='10.108.30.75') # Spilker Vibranium\n",
    "print(im.keys())"
   ]
  },
  {
   "cell_type": "code",
   "execution_count": 9,
   "metadata": {},
   "outputs": [
    {
     "name": "stdout",
     "output_type": "stream",
     "text": [
      "QICK running on ZCU216, software version 0.2.272\n",
      "\n",
      "Firmware configuration (built Sat Oct  5 10:21:47 2024):\n",
      "\n",
      "\tGlobal clocks (MHz): tProcessor 430.080, RF reference 245.760\n",
      "\n",
      "\t7 signal generator channels:\n",
      "\t0:\taxis_signal_gen_v6 - envelope memory 32768 samples (5.128 us)\n",
      "\t\tfs=6389.760 MHz, fabric=399.360 MHz, 32-bit DDS, range=6389.760 MHz\n",
      "\t\tDAC tile 2, blk 0 is 0_230, on JHC3\n",
      "\t1:\taxis_signal_gen_v6 - envelope memory 32768 samples (5.128 us)\n",
      "\t\tfs=6389.760 MHz, fabric=399.360 MHz, 32-bit DDS, range=6389.760 MHz\n",
      "\t\tDAC tile 2, blk 1 is 1_230, on JHC4\n",
      "\t2:\taxis_signal_gen_v6 - envelope memory 32768 samples (5.128 us)\n",
      "\t\tfs=6389.760 MHz, fabric=399.360 MHz, 32-bit DDS, range=6389.760 MHz\n",
      "\t\tDAC tile 2, blk 2 is 2_230, on JHC3\n",
      "\t3:\taxis_signal_gen_v6 - envelope memory 32768 samples (5.128 us)\n",
      "\t\tfs=6389.760 MHz, fabric=399.360 MHz, 32-bit DDS, range=6389.760 MHz\n",
      "\t\tDAC tile 2, blk 3 is 3_230, on JHC4\n",
      "\t4:\taxis_signal_gen_v6 - envelope memory 32768 samples (4.762 us)\n",
      "\t\tfs=6881.280 MHz, fabric=430.080 MHz, 32-bit DDS, range=6881.280 MHz\n",
      "\t\tDAC tile 3, blk 0 is 0_231, on JHC3\n",
      "\t5:\taxis_signal_gen_v6 - envelope memory 32768 samples (4.762 us)\n",
      "\t\tfs=6881.280 MHz, fabric=430.080 MHz, 32-bit DDS, range=6881.280 MHz\n",
      "\t\tDAC tile 3, blk 1 is 1_231, on JHC4\n",
      "\t6:\taxis_sg_mux4_v2 - envelope memory 0 samples (0.000 us)\n",
      "\t\tfs=6881.280 MHz, fabric=430.080 MHz, 32-bit DDS, range=1720.320 MHz\n",
      "\t\tDAC tile 0, blk 0 is 0_228, on JHC1\n",
      "\n",
      "\t4 constant-IQ outputs:\n",
      "\t0:\tfs=6881.280 MHz\n",
      "\t\tDAC tile 1, blk 0 is 0_229, on JHC1\n",
      "\t1:\tfs=6881.280 MHz\n",
      "\t\tDAC tile 1, blk 1 is 1_229, on JHC2\n",
      "\t2:\tfs=6881.280 MHz\n",
      "\t\tDAC tile 1, blk 2 is 2_229, on JHC1\n",
      "\t3:\tfs=6881.280 MHz\n",
      "\t\tDAC tile 1, blk 3 is 3_229, on JHC2\n",
      "\n",
      "\t4 readout channels:\n",
      "\t0:\taxis_pfb_readout_v2 - configured by PYNQ\n",
      "\t\tfs=2457.600 MHz, decimated=307.200 MHz, 32-bit DDS, range=307.200 MHz\n",
      "\t\tmaxlen 16384 accumulated, 1024 decimated (3.333 us)\n",
      "\t\ttriggered by output 7, pin 8, feedback to tProc input 0\n",
      "\t\tADC tile 2, blk 0 is 0_226, on JHC7\n",
      "\t1:\taxis_pfb_readout_v2 - configured by PYNQ\n",
      "\t\tfs=2457.600 MHz, decimated=307.200 MHz, 32-bit DDS, range=307.200 MHz\n",
      "\t\tmaxlen 16384 accumulated, 1024 decimated (3.333 us)\n",
      "\t\ttriggered by output 7, pin 9, feedback to tProc input 1\n",
      "\t\tADC tile 2, blk 0 is 0_226, on JHC7\n",
      "\t2:\taxis_pfb_readout_v2 - configured by PYNQ\n",
      "\t\tfs=2457.600 MHz, decimated=307.200 MHz, 32-bit DDS, range=307.200 MHz\n",
      "\t\tmaxlen 16384 accumulated, 1024 decimated (3.333 us)\n",
      "\t\ttriggered by output 7, pin 10, feedback to tProc input 2\n",
      "\t\tADC tile 2, blk 0 is 0_226, on JHC7\n",
      "\t3:\taxis_pfb_readout_v2 - configured by PYNQ\n",
      "\t\tfs=2457.600 MHz, decimated=307.200 MHz, 32-bit DDS, range=307.200 MHz\n",
      "\t\tmaxlen 16384 accumulated, 1024 decimated (3.333 us)\n",
      "\t\ttriggered by output 7, pin 11, feedback to tProc input 3\n",
      "\t\tADC tile 2, blk 0 is 0_226, on JHC7\n",
      "\n",
      "\t8 digital output pins:\n",
      "\t0:\tPMOD0_0_LS\n",
      "\t1:\tPMOD0_1_LS\n",
      "\t2:\tPMOD0_2_LS\n",
      "\t3:\tPMOD0_3_LS\n",
      "\t4:\tPMOD0_4_LS\n",
      "\t5:\tPMOD0_5_LS\n",
      "\t6:\tPMOD0_6_LS\n",
      "\t7:\tPMOD0_7_LS\n",
      "\n",
      "\ttProc axis_tproc64x32_x8 (\"v1\") rev 4: program memory 16384 words, data memory 4096 words\n",
      "\t\texternal start pin: PMOD1_0_LS\n"
     ]
    }
   ],
   "source": [
    "soc = QickConfig(im[yaml_cfg['aliases']['soc']].get_cfg())\n",
    "print(soc)\n",
    "# print(soc.description())\n",
    "# print(soc.dump_cfg())"
   ]
  },
  {
   "cell_type": "code",
   "execution_count": 10,
   "metadata": {},
   "outputs": [
    {
     "ename": "KeyError",
     "evalue": "'SC_20A1'",
     "output_type": "error",
     "traceback": [
      "\u001b[1;31m---------------------------------------------------------------------------\u001b[0m",
      "\u001b[1;31mKeyError\u001b[0m                                  Traceback (most recent call last)",
      "Cell \u001b[1;32mIn[10], line 1\u001b[0m\n\u001b[1;32m----> 1\u001b[0m lo1 \u001b[38;5;241m=\u001b[39m \u001b[43mim\u001b[49m\u001b[43m[\u001b[49m\u001b[43myaml_cfg\u001b[49m\u001b[38;5;241;43m.\u001b[39;49m\u001b[43maliases\u001b[49m\u001b[38;5;241;43m.\u001b[39;49m\u001b[43mreadout_LO\u001b[49m\u001b[43m]\u001b[49m\n\u001b[0;32m      2\u001b[0m lo1\u001b[38;5;241m.\u001b[39mopen_device()\n\u001b[0;32m      3\u001b[0m \u001b[38;5;28mprint\u001b[39m(lo1\u001b[38;5;241m.\u001b[39mget_id())\n",
      "\u001b[1;31mKeyError\u001b[0m: 'SC_20A1'"
     ]
    }
   ],
   "source": [
    "lo1 = im[yaml_cfg.aliases.readout_LO]\n",
    "lo1.open_device()\n",
    "print(lo1.get_id())\n",
    "\n",
    "# TURN OFF\n",
    "lo1.set_standby(True)\n",
    "lo1.set_output_state(False)\n",
    "\n",
    "# # TURN ON\n",
    "# lo1.set_standby(False)\n",
    "# lo1.set_output_state(True)\n",
    "# lo_freq = float(yaml_cfg.hw.lo.readout.frequency)\n",
    "# lo_power = float(yaml_cfg.hw.lo.readout.power)\n",
    "# lo1.set_frequency(lo_freq) # Set LO frequency\n",
    "# print('set freq to', lo_freq)\n",
    "# lo1.set_power(lo_power) # Set LO power\n",
    "# print('set power to', lo_power)"
   ]
  },
  {
   "cell_type": "markdown",
   "metadata": {},
   "source": [
    "# Functions for fine calibration experiments"
   ]
  },
  {
   "cell_type": "code",
   "execution_count": 11,
   "metadata": {},
   "outputs": [],
   "source": [
    "def run_length_rabi(qZZ, qTest, yaml_cfg, checkEF=False, test_pi_half=False, divide_len=True, save_data=True):\n",
    "    assert qZZ != qTest\n",
    "    print(f\"-------- length rabi --------\")\n",
    "    lengthrabiZZ = meas.LengthRabiExperiment(\n",
    "        soccfg=soc,\n",
    "        path=expt_path,\n",
    "        prefix=f\"length_rabi_ZZ_qubit{qZZ}{qTest}\",\n",
    "        config_file=config_path,\n",
    "    )\n",
    "    lengthrabiZZ.cfg = AttrDict(deepcopy(yaml_cfg))\n",
    "\n",
    "    lengthrabiZZ.cfg.expt = dict(\n",
    "        start=0, # pulse length (sigma) [us]\n",
    "        step=soc.cycles2us(1), # [us]\n",
    "        expts=101,\n",
    "        reps=1000,\n",
    "        pulse_type='gauss',\n",
    "        checkEF=checkEF, \n",
    "        qTest=qTest,\n",
    "        qZZ=qZZ,\n",
    "        test_pi_half=test_pi_half,\n",
    "        divide_len=divide_len,\n",
    "\n",
    "        full_mux_expt=full_mux_expt,\n",
    "        resonator_reset=resonator_reset,\n",
    "    )\n",
    "\n",
    "    try:\n",
    "        lengthrabiZZ.go(analyze=False, display=False, progress=True, save=False)\n",
    "    except Exception:\n",
    "        print(\"Pyro traceback:\")\n",
    "        print(\"\".join(Pyro4.util.getPyroTraceback()))\n",
    "\n",
    "    lengthrabiZZ.analyze(fit=True)\n",
    "    \n",
    "    lengthrabi_fit, lengthrabi_fit_err = meas.fitting.get_best_fit(lengthrabiZZ.data)\n",
    "    \n",
    "    lengthrabiZZ.display(fit=True)\n",
    "    p = lengthrabi_fit\n",
    "    if p[2] > 180: p[2] = p[2] - 360\n",
    "    elif p[2] < -180: p[2] = p[2] + 360\n",
    "    if p[2] < 0: pi_len = (1/2 - p[2]/180)/2/p[1]\n",
    "    else: pi_len = (3/2 - p[2]/180)/2/p[1]\n",
    "    pi_len = np.max((0.9*pi_len, 0.015)) # since we run the length rabi at a < max gain\n",
    "\n",
    "    if save_data: lengthrabiZZ.save_data()\n",
    "\n",
    "    return pi_len"
   ]
  },
  {
   "cell_type": "code",
   "execution_count": 12,
   "metadata": {},
   "outputs": [],
   "source": [
    "def run_amp_rabi(qZZ, qTest, yaml_cfg, checkEF=False, test_pi_half=False, divide_len=True, save_data=True):\n",
    "    print(f\"-------- Amp rabi --------\")\n",
    "\n",
    "    amprabi = meas.AmplitudeRabiExperiment(\n",
    "        soccfg=soc,\n",
    "        path=expt_path,\n",
    "        prefix=f\"amp_rabi_qubit{qZZ}{qTest}\",\n",
    "        config_file=config_path,\n",
    "    )\n",
    "    amprabi.cfg = AttrDict(deepcopy(yaml_cfg))\n",
    "\n",
    "    calib_index = 4*qTest + qZZ\n",
    "    pulse_name = \"pi_ge\"\n",
    "    if checkEF:\n",
    "        pulse_name = \"pi_ef\"\n",
    "    gain_name = \"gain\"\n",
    "    if test_pi_half:\n",
    "        if divide_len: gain_name = \"half_gain\"\n",
    "        else: gain_name = \"half_gain_pi_sigma\"\n",
    "\n",
    "    if use_robust_pulses and not checkEF:\n",
    "        assert test_pi_half\n",
    "        pulse_name = \"pihalf_ge_robust\"\n",
    "        gain_name = \"gain\"\n",
    "    \n",
    "    old_gain = yaml_cfg.device.qubit.pulses[pulse_name][gain_name][calib_index]\n",
    "\n",
    "    span = min((32000, 1.5*old_gain))\n",
    "    npts = 75\n",
    "\n",
    "    amprabi.cfg.expt = dict(\n",
    "        start=0, # qubit gain [dac level]\n",
    "        step=int(span/npts), # [dac level]\n",
    "        expts=npts,\n",
    "        reps=100,\n",
    "        rounds=10,\n",
    "        pulse_type='gauss' if not use_robust_pulses else 'robust',\n",
    "        checkEF=checkEF, \n",
    "        qTest=qTest,\n",
    "        qZZ=qZZ,\n",
    "        test_pi_half=test_pi_half,\n",
    "        divide_len=divide_len,\n",
    "        \n",
    "        full_mux_expt=full_mux_expt,\n",
    "        resonator_reset=resonator_reset,\n",
    "\n",
    "        use_robust_pulses=use_robust_pulses,\n",
    "    )\n",
    "\n",
    "    try:\n",
    "        amprabi.go(analyze=False, display=False, progress=True, save=False)\n",
    "    except Exception:\n",
    "        print(\"Pyro traceback:\")\n",
    "        print(\"\".join(Pyro4.util.getPyroTraceback()))\n",
    "\n",
    "    amprabi.analyze(fit=True)\n",
    "\n",
    "    amprabi_fit, amprabi_fit_err = meas.fitting.get_best_fit(amprabi.data)\n",
    "\n",
    "    p = amprabi_fit\n",
    "    if p[2] > 180: p[2] = p[2] - 360\n",
    "    elif p[2] < -180: p[2] = p[2] + 360\n",
    "    if p[2] < 0: pi_gain = (1/2 - p[2]/180)/2/p[1]\n",
    "    else: pi_gain = (3/2 - p[2]/180)/2/p[1]\n",
    "\n",
    "    if pi_gain > 32000:\n",
    "        amprabi.display(fit=False)\n",
    "        print('WARNING: Fit pi pulse gain is long, please double check!')\n",
    "        pi_gain = 30000\n",
    "    else: amprabi.display(fit=True)\n",
    "\n",
    "    if save_data: amprabi.save_data()\n",
    "\n",
    "    return int(pi_gain)"
   ]
  },
  {
   "cell_type": "code",
   "execution_count": 13,
   "metadata": {},
   "outputs": [],
   "source": [
    "def run_ramsey(qZZ, qTest, yaml_cfg, checkEF=False, save_data=True):\n",
    "\n",
    "    print(f\"-------- Ramsey --------\")\n",
    "    ramsey = meas.RamseyExperiment(\n",
    "        soccfg=soc,\n",
    "        path=expt_path,\n",
    "        prefix=f\"ramsey_qubit{qTest}\",\n",
    "        config_file=config_path,\n",
    "    )\n",
    "    ramsey.cfg = AttrDict(deepcopy(yaml_cfg))\n",
    "    \n",
    "    ramsey.cfg.expt = dict(\n",
    "        start=0, # wait time tau [us]\n",
    "        step=soc.cycles2us(10), # [us] make sure nyquist freq = 0.5 * (1/step) > ramsey (signal) freq!\n",
    "        # step=0.05, # [us]\n",
    "        expts=151,\n",
    "        # expts=151,\n",
    "        ramsey_freq=2.5, # [MHz]\n",
    "        reps=200,\n",
    "        rounds=10,\n",
    "        checkEF=checkEF, \n",
    "        qTest=qTest,\n",
    "        qZZ=qZZ,\n",
    "\n",
    "        full_mux_expt=full_mux_expt,\n",
    "        resonator_reset=resonator_reset,\n",
    "        use_robust_pulses=use_robust_pulses,\n",
    "    )\n",
    "    \n",
    "    ramsey.go(analyze=False, display=False, progress=True, save=False)\n",
    "    ramsey.analyze(fit=True)\n",
    "\n",
    "    ramsey_fit, ramsey_fit_err, ramsey_adjust = meas.fitting.get_best_fit(ramsey.data, get_best_data_params=['f_adjust_ramsey'])\n",
    "\n",
    "    ramsey.display(fit=True)\n",
    "\n",
    "    if save_data: ramsey.save_data()\n",
    "\n",
    "    if checkEF: return np.reshape(ramsey.cfg.device.qubit.f_ef, (4,4))[qTest, qZZ] + ramsey_adjust[0]\n",
    "    else: return np.reshape(ramsey.cfg.device.qubit.f_ge, (4,4))[qTest, qZZ] + ramsey_adjust[0]\n"
   ]
  },
  {
   "cell_type": "code",
   "execution_count": 14,
   "metadata": {},
   "outputs": [],
   "source": [
    "def run_error_amp(qZZ, qTest, yaml_cfg, checkEF=False, test_pi_half=False, divide_len=True, save_data=True):\n",
    "\n",
    "    print(f\"-------- Error amplification --------\")\n",
    "\n",
    "    npulsecalib = meas.NPulseExperiment(\n",
    "        soccfg=soc,\n",
    "        path=expt_path,\n",
    "        prefix=f\"NPulseExptQ{qZZ}{qTest}\",\n",
    "        config_file=config_path,\n",
    "    )\n",
    "\n",
    "    npulsecalib.cfg = AttrDict(deepcopy(yaml_cfg))\n",
    "    npulsecalib.cfg.expt = dict(\n",
    "        start=0, # number gate repetitions\n",
    "        step=1,\n",
    "        expts=10,\n",
    "        reps=1000,\n",
    "        loops=20,\n",
    "        pulse_type='gauss' if not use_robust_pulses else 'robust',\n",
    "        test_pi_half=test_pi_half,\n",
    "        divide_len=divide_len,\n",
    "        error_amp=True,\n",
    "\n",
    "        checkEF=checkEF, \n",
    "        qTest=qTest,\n",
    "        qZZ=qZZ,\n",
    "        readout_ge=not checkEF,\n",
    "\n",
    "        post_process='scale',\n",
    "        singleshot_reps=15000,\n",
    "\n",
    "        full_mux_expt=full_mux_expt,\n",
    "        resonator_reset=resonator_reset,\n",
    "        \n",
    "        use_robust_pulses=use_robust_pulses,\n",
    "    )\n",
    "\n",
    "    # print(npulsecalib.cfg)\n",
    "    try:\n",
    "        npulsecalib.acquire(progress=True, debug=False)\n",
    "    except Exception:\n",
    "        print(\"Pyro traceback:\")\n",
    "        print(\"\".join(Pyro4.util.getPyroTraceback()))\n",
    "\n",
    "\n",
    "    # temp_data, attrs = prev_data(expt_path, f'00000_NPulseExptQ{qZZ}{qTest}.h5')\n",
    "    # npulsecalib.cfg = AttrDict(attrs['config'])\n",
    "    # npulsecalib.data = temp_data\n",
    "\n",
    "    data = npulsecalib.data\n",
    "\n",
    "    npulsecalib.analyze(fit=True)\n",
    "    npulsecalib.display(fit=True)\n",
    "    \n",
    "    npulsecalib_fit, npulsecalib_fit_err = meas.fitting.get_best_fit(npulsecalib.data)\n",
    "    \n",
    "    angle_err = npulsecalib_fit[1]\n",
    "    amp_ratio = (180 - angle_err) / 180\n",
    "    if test_pi_half: amp_ratio = (90 - angle_err) / 90\n",
    "\n",
    "    old_gain = npulsecalib.cfg.expt.gain\n",
    "    pi_gain = old_gain / amp_ratio\n",
    "\n",
    "    if save_data: npulsecalib.save_data()\n",
    "\n",
    "    return int(round(pi_gain))"
   ]
  },
  {
   "cell_type": "code",
   "execution_count": 29,
   "metadata": {},
   "outputs": [],
   "source": [
    "def run_piminuspi(qZZ, qTest, yaml_cfg, checkEF=False, test_pi_half=False, divide_len=True, save_data=True):\n",
    "\n",
    "    print(f\"-------- Pi Minus Pi --------\")\n",
    "\n",
    "    piminuspi = meas.PiMinusPiExperiment(\n",
    "        soccfg=soc,\n",
    "        path=expt_path,\n",
    "        prefix=f\"PiMinusPiExptQ{qZZ}{qTest}\",\n",
    "        config_file=config_path,\n",
    "    )\n",
    "\n",
    "    # span_f = 0.5\n",
    "    # npts_f = 8\n",
    "    # span_f = 3.0\n",
    "    span_f = 9\n",
    "    npts_f = 60\n",
    "\n",
    "    if checkEF:\n",
    "        guess_f = piminuspi.cfg.device.qubit.f_ef[qTest*4 + qZZ]\n",
    "    else:\n",
    "        guess_f = piminuspi.cfg.device.qubit.f_ge[qTest*4 + qZZ]\n",
    "    if sweep_phase:\n",
    "        guess_f = 0\n",
    "\n",
    "    piminuspi.cfg = AttrDict(deepcopy(yaml_cfg))\n",
    "    piminuspi.cfg.expt = dict(\n",
    "        start_N=0, # number gate repetitions\n",
    "        step_N=1,\n",
    "        expts_N=10,\n",
    "        start_f=guess_f-span_f/2,\n",
    "        step_f=span_f/npts_f,\n",
    "        expts_f=npts_f+1,\n",
    "        reps=500,\n",
    "        loops=1,\n",
    "        pulse_type='gauss' if not use_robust_pulses else 'robust',\n",
    "\n",
    "        checkEF=checkEF,\n",
    "        qTest=qTest,\n",
    "        qZZ=qZZ,\n",
    "        # qZZ=None,\n",
    "\n",
    "        test_pi_half=test_pi_half,\n",
    "        divide_len=divide_len,\n",
    "\n",
    "        post_process='threshold',\n",
    "        singleshot_reps=15000,\n",
    "\n",
    "        full_mux_expt=full_mux_expt,\n",
    "        resonator_reset=resonator_reset,\n",
    "        \n",
    "        use_robust_pulses=use_robust_pulses,\n",
    "        sweep_phase=sweep_phase,\n",
    "    )\n",
    "\n",
    "    print(piminuspi.cfg)\n",
    "    try:\n",
    "        piminuspi.acquire(progress=True, debug=False)\n",
    "    except Exception:\n",
    "        print(\"Pyro traceback:\")\n",
    "        print(\"\".join(Pyro4.util.getPyroTraceback()))\n",
    "\n",
    "\n",
    "    # temp_data, attrs = prev_data(expt_path, f'00000_NPulseExptQ{qZZ}{qTest}.h5')\n",
    "    # piminuspi.cfg = AttrDict(attrs['config'])\n",
    "    # piminuspi.data = temp_data\n",
    "\n",
    "    data = piminuspi.data\n",
    "\n",
    "    piminuspi.analyze(fit=True)\n",
    "    piminuspi.display(fit=True)\n",
    "    \n",
    "    if save_data: piminuspi.save_data()\n",
    "\n",
    "    if sweep_phase: return data[\"best_phase\"]\n",
    "    return data['best_freq']"
   ]
  },
  {
   "cell_type": "markdown",
   "metadata": {},
   "source": [
    "# GE with ZZ shifts"
   ]
  },
  {
   "cell_type": "markdown",
   "metadata": {},
   "source": [
    "## Pulse probe for 4x4 frequencies"
   ]
  },
  {
   "cell_type": "code",
   "execution_count": 20,
   "metadata": {},
   "outputs": [
    {
     "name": "stdout",
     "output_type": "stream",
     "text": [
      "qTest 0 qZZ 1\n",
      "Running pulse probe on Q0 with ZZ Q1\n"
     ]
    },
    {
     "data": {
      "application/vnd.jupyter.widget-view+json": {
       "model_id": "47540f3174ca43019ba08e0e75283d6e",
       "version_major": 2,
       "version_minor": 0
      },
      "text/plain": [
       "  0%|          | 0/8 [00:00<?, ?it/s]"
      ]
     },
     "metadata": {},
     "output_type": "display_data"
    },
    {
     "ename": "KeyboardInterrupt",
     "evalue": "",
     "output_type": "error",
     "traceback": [
      "\u001b[1;31m---------------------------------------------------------------------------\u001b[0m",
      "\u001b[1;31mKeyboardInterrupt\u001b[0m                         Traceback (most recent call last)",
      "Cell \u001b[1;32mIn[20], line 40\u001b[0m\n\u001b[0;32m     21\u001b[0m qZZspec\u001b[38;5;241m.\u001b[39mcfg\u001b[38;5;241m.\u001b[39mexpt \u001b[38;5;241m=\u001b[39m \u001b[38;5;28mdict\u001b[39m(\n\u001b[0;32m     22\u001b[0m     start\u001b[38;5;241m=\u001b[39mnp\u001b[38;5;241m.\u001b[39mreshape(yaml_cfg\u001b[38;5;241m.\u001b[39mdevice\u001b[38;5;241m.\u001b[39mqubit\u001b[38;5;241m.\u001b[39mf_ge, (\u001b[38;5;241m4\u001b[39m,\u001b[38;5;241m4\u001b[39m))[qTest, qTest]\u001b[38;5;241m-\u001b[39mspan\u001b[38;5;241m/\u001b[39m\u001b[38;5;241m2\u001b[39m, \u001b[38;5;66;03m# [MHz]\u001b[39;00m\n\u001b[0;32m     23\u001b[0m     \u001b[38;5;66;03m# start=3600,\u001b[39;00m\n\u001b[1;32m   (...)\u001b[0m\n\u001b[0;32m     33\u001b[0m     checkEF\u001b[38;5;241m=\u001b[39m\u001b[38;5;28;01mFalse\u001b[39;00m,\n\u001b[0;32m     34\u001b[0m )\n\u001b[0;32m     36\u001b[0m \u001b[38;5;66;03m# qZZspec.cfg.device.readout.relax_delay = [10, 10, 10, 10] # Wait time between experiments [us]\u001b[39;00m\n\u001b[0;32m     37\u001b[0m \n\u001b[0;32m     38\u001b[0m \u001b[38;5;66;03m# print(qZZspec.cfg)\u001b[39;00m\n\u001b[1;32m---> 40\u001b[0m \u001b[43mqZZspec\u001b[49m\u001b[38;5;241;43m.\u001b[39;49m\u001b[43mgo\u001b[49m\u001b[43m(\u001b[49m\u001b[43manalyze\u001b[49m\u001b[38;5;241;43m=\u001b[39;49m\u001b[38;5;28;43;01mFalse\u001b[39;49;00m\u001b[43m,\u001b[49m\u001b[43m \u001b[49m\u001b[43mdisplay\u001b[49m\u001b[38;5;241;43m=\u001b[39;49m\u001b[38;5;28;43;01mFalse\u001b[39;49;00m\u001b[43m,\u001b[49m\u001b[43m \u001b[49m\u001b[43mprogress\u001b[49m\u001b[38;5;241;43m=\u001b[39;49m\u001b[38;5;28;43;01mTrue\u001b[39;49;00m\u001b[43m,\u001b[49m\u001b[43m \u001b[49m\u001b[43msave\u001b[49m\u001b[38;5;241;43m=\u001b[39;49m\u001b[38;5;28;43;01mFalse\u001b[39;49;00m\u001b[43m)\u001b[49m\n\u001b[0;32m     42\u001b[0m \u001b[38;5;66;03m# ============ POST PROCESSING ============ #\u001b[39;00m\n\u001b[0;32m     43\u001b[0m best_signs \u001b[38;5;241m=\u001b[39m [\u001b[38;5;241m1\u001b[39m, \u001b[38;5;241m0\u001b[39m, \u001b[38;5;241m0\u001b[39m]\n",
      "File \u001b[1;32m~\\slab\\experiment.py:115\u001b[0m, in \u001b[0;36mExperiment.go\u001b[1;34m(self, save, analyze, display, progress)\u001b[0m\n\u001b[0;32m    112\u001b[0m \u001b[38;5;28;01mdef\u001b[39;00m \u001b[38;5;21mgo\u001b[39m(\u001b[38;5;28mself\u001b[39m, save\u001b[38;5;241m=\u001b[39m\u001b[38;5;28;01mFalse\u001b[39;00m, analyze\u001b[38;5;241m=\u001b[39m\u001b[38;5;28;01mFalse\u001b[39;00m, display\u001b[38;5;241m=\u001b[39m\u001b[38;5;28;01mFalse\u001b[39;00m, progress\u001b[38;5;241m=\u001b[39m\u001b[38;5;28;01mFalse\u001b[39;00m):\n\u001b[0;32m    113\u001b[0m     \u001b[38;5;66;03m# get data\u001b[39;00m\n\u001b[1;32m--> 115\u001b[0m     data\u001b[38;5;241m=\u001b[39m\u001b[38;5;28;43mself\u001b[39;49m\u001b[38;5;241;43m.\u001b[39;49m\u001b[43macquire\u001b[49m\u001b[43m(\u001b[49m\u001b[43mprogress\u001b[49m\u001b[43m)\u001b[49m\n\u001b[0;32m    116\u001b[0m     \u001b[38;5;28;01mif\u001b[39;00m analyze:\n\u001b[0;32m    117\u001b[0m         data\u001b[38;5;241m=\u001b[39m\u001b[38;5;28mself\u001b[39m\u001b[38;5;241m.\u001b[39manalyze(data)\n",
      "File \u001b[1;32ms:\\Seb\\experiements\\qram_tprocv1_expts\\experiments\\single_qubit\\pulse_probe_spectroscopy.py:253\u001b[0m, in \u001b[0;36mPulseProbeSpectroscopyExperiment.acquire\u001b[1;34m(self, progress)\u001b[0m\n\u001b[0;32m    250\u001b[0m \u001b[38;5;28mprint\u001b[39m(\u001b[38;5;124mf\u001b[39m\u001b[38;5;124m'\u001b[39m\u001b[38;5;124mRunning pulse probe \u001b[39m\u001b[38;5;132;01m{\u001b[39;00m\u001b[38;5;124m\"\u001b[39m\u001b[38;5;124mEF \u001b[39m\u001b[38;5;124m\"\u001b[39m\u001b[38;5;250m \u001b[39m\u001b[38;5;28;01mif\u001b[39;00m\u001b[38;5;250m \u001b[39m\u001b[38;5;28mself\u001b[39m\u001b[38;5;241m.\u001b[39mcfg\u001b[38;5;241m.\u001b[39mexpt\u001b[38;5;241m.\u001b[39mcheckEF\u001b[38;5;250m \u001b[39m\u001b[38;5;28;01melse\u001b[39;00m\u001b[38;5;250m \u001b[39m\u001b[38;5;124m\"\u001b[39m\u001b[38;5;124m\"\u001b[39m\u001b[38;5;132;01m}\u001b[39;00m\u001b[38;5;124mon Q\u001b[39m\u001b[38;5;132;01m{\u001b[39;00mqTest\u001b[38;5;132;01m}\u001b[39;00m\u001b[38;5;124m \u001b[39m\u001b[38;5;132;01m{\u001b[39;00m\u001b[38;5;124m\"\u001b[39m\u001b[38;5;124mwith ZZ Q\u001b[39m\u001b[38;5;124m\"\u001b[39m\u001b[38;5;250m \u001b[39m\u001b[38;5;241m+\u001b[39m\u001b[38;5;250m \u001b[39m\u001b[38;5;28mstr\u001b[39m(qZZ)\u001b[38;5;250m \u001b[39m\u001b[38;5;28;01mif\u001b[39;00m\u001b[38;5;250m \u001b[39m\u001b[38;5;28mself\u001b[39m\u001b[38;5;241m.\u001b[39mcheckZZ\u001b[38;5;250m \u001b[39m\u001b[38;5;28;01melse\u001b[39;00m\u001b[38;5;250m \u001b[39m\u001b[38;5;124m\"\u001b[39m\u001b[38;5;124m\"\u001b[39m\u001b[38;5;132;01m}\u001b[39;00m\u001b[38;5;124m'\u001b[39m)\n\u001b[0;32m    252\u001b[0m qspec \u001b[38;5;241m=\u001b[39m PulseProbeSpectroscopyProgram(soccfg\u001b[38;5;241m=\u001b[39m\u001b[38;5;28mself\u001b[39m\u001b[38;5;241m.\u001b[39msoccfg, cfg\u001b[38;5;241m=\u001b[39m\u001b[38;5;28mself\u001b[39m\u001b[38;5;241m.\u001b[39mcfg)\n\u001b[1;32m--> 253\u001b[0m xpts, avgi, avgq \u001b[38;5;241m=\u001b[39m \u001b[43mqspec\u001b[49m\u001b[38;5;241;43m.\u001b[39;49m\u001b[43macquire\u001b[49m\u001b[43m(\u001b[49m\u001b[38;5;28;43mself\u001b[39;49m\u001b[38;5;241;43m.\u001b[39;49m\u001b[43mim\u001b[49m\u001b[43m[\u001b[49m\u001b[38;5;28;43mself\u001b[39;49m\u001b[38;5;241;43m.\u001b[39;49m\u001b[43mcfg\u001b[49m\u001b[38;5;241;43m.\u001b[39;49m\u001b[43maliases\u001b[49m\u001b[38;5;241;43m.\u001b[39;49m\u001b[43msoc\u001b[49m\u001b[43m]\u001b[49m\u001b[43m,\u001b[49m\u001b[43m \u001b[49m\u001b[43mthreshold\u001b[49m\u001b[38;5;241;43m=\u001b[39;49m\u001b[38;5;28;43;01mNone\u001b[39;49;00m\u001b[43m,\u001b[49m\u001b[43m \u001b[49m\u001b[43mload_pulses\u001b[49m\u001b[38;5;241;43m=\u001b[39;49m\u001b[38;5;28;43;01mTrue\u001b[39;49;00m\u001b[43m,\u001b[49m\u001b[43m \u001b[49m\u001b[43mprogress\u001b[49m\u001b[38;5;241;43m=\u001b[39;49m\u001b[43mprogress\u001b[49m\u001b[43m)\u001b[49m\n\u001b[0;32m    254\u001b[0m avgi \u001b[38;5;241m=\u001b[39m avgi[qTest][\u001b[38;5;241m0\u001b[39m]\n\u001b[0;32m    255\u001b[0m avgq \u001b[38;5;241m=\u001b[39m avgq[qTest][\u001b[38;5;241m0\u001b[39m]\n",
      "File \u001b[1;32mc:\\users\\slab\\qick\\qick_lib\\qick\\averager_program.py:283\u001b[0m, in \u001b[0;36mRAveragerProgram.acquire\u001b[1;34m(self, soc, threshold, angle, load_pulses, readouts_per_experiment, save_experiments, start_src, progress, remove_offset)\u001b[0m\n\u001b[0;32m    280\u001b[0m \u001b[38;5;28;01mif\u001b[39;00m readouts_per_experiment \u001b[38;5;129;01mis\u001b[39;00m \u001b[38;5;129;01mnot\u001b[39;00m \u001b[38;5;28;01mNone\u001b[39;00m:\n\u001b[0;32m    281\u001b[0m     \u001b[38;5;28mself\u001b[39m\u001b[38;5;241m.\u001b[39mset_reads_per_shot(readouts_per_experiment)\n\u001b[1;32m--> 283\u001b[0m avg_d \u001b[38;5;241m=\u001b[39m \u001b[38;5;28;43msuper\u001b[39;49m\u001b[43m(\u001b[49m\u001b[43m)\u001b[49m\u001b[38;5;241;43m.\u001b[39;49m\u001b[43macquire\u001b[49m\u001b[43m(\u001b[49m\u001b[43msoc\u001b[49m\u001b[43m,\u001b[49m\u001b[43m \u001b[49m\u001b[43msoft_avgs\u001b[49m\u001b[38;5;241;43m=\u001b[39;49m\u001b[38;5;28;43mself\u001b[39;49m\u001b[38;5;241;43m.\u001b[39;49m\u001b[43msoft_avgs\u001b[49m\u001b[43m,\u001b[49m\u001b[43m \u001b[49m\u001b[43mload_pulses\u001b[49m\u001b[38;5;241;43m=\u001b[39;49m\u001b[43mload_pulses\u001b[49m\u001b[43m,\u001b[49m\u001b[43m \u001b[49m\u001b[43mstart_src\u001b[49m\u001b[38;5;241;43m=\u001b[39;49m\u001b[43mstart_src\u001b[49m\u001b[43m,\u001b[49m\u001b[43m \u001b[49m\u001b[43mthreshold\u001b[49m\u001b[38;5;241;43m=\u001b[39;49m\u001b[43mthreshold\u001b[49m\u001b[43m,\u001b[49m\u001b[43m \u001b[49m\u001b[43mangle\u001b[49m\u001b[38;5;241;43m=\u001b[39;49m\u001b[43mangle\u001b[49m\u001b[43m,\u001b[49m\u001b[43m \u001b[49m\u001b[43mprogress\u001b[49m\u001b[38;5;241;43m=\u001b[39;49m\u001b[43mprogress\u001b[49m\u001b[43m,\u001b[49m\u001b[43m \u001b[49m\u001b[43mremove_offset\u001b[49m\u001b[38;5;241;43m=\u001b[39;49m\u001b[43mremove_offset\u001b[49m\u001b[43m)\u001b[49m\n\u001b[0;32m    285\u001b[0m \u001b[38;5;66;03m# reformat the data into separate I and Q arrays\u001b[39;00m\n\u001b[0;32m    286\u001b[0m \u001b[38;5;66;03m# save results to class in case you want to look at it later or for analysis\u001b[39;00m\n\u001b[0;32m    287\u001b[0m raw \u001b[38;5;241m=\u001b[39m [d\u001b[38;5;241m.\u001b[39mreshape((\u001b[38;5;241m-\u001b[39m\u001b[38;5;241m1\u001b[39m,\u001b[38;5;241m2\u001b[39m)) \u001b[38;5;28;01mfor\u001b[39;00m d \u001b[38;5;129;01min\u001b[39;00m \u001b[38;5;28mself\u001b[39m\u001b[38;5;241m.\u001b[39mget_raw()]\n",
      "File \u001b[1;32mc:\\users\\slab\\qick\\qick_lib\\qick\\qick_asm.py:1701\u001b[0m, in \u001b[0;36mAcquireMixin.acquire\u001b[1;34m(self, soc, soft_avgs, load_pulses, start_src, threshold, angle, progress, remove_offset)\u001b[0m\n\u001b[0;32m   1698\u001b[0m soc\u001b[38;5;241m.\u001b[39mstart_readout(total_count, counter_addr\u001b[38;5;241m=\u001b[39m\u001b[38;5;28mself\u001b[39m\u001b[38;5;241m.\u001b[39mcounter_addr,\n\u001b[0;32m   1699\u001b[0m                        ch_list\u001b[38;5;241m=\u001b[39m\u001b[38;5;28mlist\u001b[39m(\u001b[38;5;28mself\u001b[39m\u001b[38;5;241m.\u001b[39mro_chs), reads_per_shot\u001b[38;5;241m=\u001b[39m\u001b[38;5;28mself\u001b[39m\u001b[38;5;241m.\u001b[39mreads_per_shot)\n\u001b[0;32m   1700\u001b[0m \u001b[38;5;28;01mwhile\u001b[39;00m count\u001b[38;5;241m<\u001b[39mtotal_count:\n\u001b[1;32m-> 1701\u001b[0m     new_data \u001b[38;5;241m=\u001b[39m obtain(\u001b[43msoc\u001b[49m\u001b[38;5;241;43m.\u001b[39;49m\u001b[43mpoll_data\u001b[49m\u001b[43m(\u001b[49m\u001b[43m)\u001b[49m)\n\u001b[0;32m   1702\u001b[0m     \u001b[38;5;28;01mfor\u001b[39;00m new_points, (d, s) \u001b[38;5;129;01min\u001b[39;00m new_data:\n\u001b[0;32m   1703\u001b[0m         \u001b[38;5;28;01mfor\u001b[39;00m ii, nreads \u001b[38;5;129;01min\u001b[39;00m \u001b[38;5;28menumerate\u001b[39m(\u001b[38;5;28mself\u001b[39m\u001b[38;5;241m.\u001b[39mreads_per_shot):\n\u001b[0;32m   1704\u001b[0m             \u001b[38;5;66;03m#print(count, new_points, nreads, d[ii].shape, total_count)\u001b[39;00m\n",
      "File \u001b[1;32mc:\\Users\\slab\\.conda\\envs\\slab\\lib\\site-packages\\Pyro4\\core.py:185\u001b[0m, in \u001b[0;36m_RemoteMethod.__call__\u001b[1;34m(self, *args, **kwargs)\u001b[0m\n\u001b[0;32m    183\u001b[0m \u001b[38;5;28;01mfor\u001b[39;00m attempt \u001b[38;5;129;01min\u001b[39;00m \u001b[38;5;28mrange\u001b[39m(\u001b[38;5;28mself\u001b[39m\u001b[38;5;241m.\u001b[39m__max_retries \u001b[38;5;241m+\u001b[39m \u001b[38;5;241m1\u001b[39m):\n\u001b[0;32m    184\u001b[0m     \u001b[38;5;28;01mtry\u001b[39;00m:\n\u001b[1;32m--> 185\u001b[0m         \u001b[38;5;28;01mreturn\u001b[39;00m \u001b[38;5;28;43mself\u001b[39;49m\u001b[38;5;241;43m.\u001b[39;49m\u001b[43m__send\u001b[49m\u001b[43m(\u001b[49m\u001b[38;5;28;43mself\u001b[39;49m\u001b[38;5;241;43m.\u001b[39;49m\u001b[43m__name\u001b[49m\u001b[43m,\u001b[49m\u001b[43m \u001b[49m\u001b[43margs\u001b[49m\u001b[43m,\u001b[49m\u001b[43m \u001b[49m\u001b[43mkwargs\u001b[49m\u001b[43m)\u001b[49m\n\u001b[0;32m    186\u001b[0m     \u001b[38;5;28;01mexcept\u001b[39;00m (errors\u001b[38;5;241m.\u001b[39mConnectionClosedError, errors\u001b[38;5;241m.\u001b[39mTimeoutError):\n\u001b[0;32m    187\u001b[0m         \u001b[38;5;66;03m# only retry for recoverable network errors\u001b[39;00m\n\u001b[0;32m    188\u001b[0m         \u001b[38;5;28;01mif\u001b[39;00m attempt \u001b[38;5;241m>\u001b[39m\u001b[38;5;241m=\u001b[39m \u001b[38;5;28mself\u001b[39m\u001b[38;5;241m.\u001b[39m__max_retries:\n\u001b[0;32m    189\u001b[0m             \u001b[38;5;66;03m# last attempt, raise the exception\u001b[39;00m\n",
      "File \u001b[1;32mc:\\Users\\slab\\.conda\\envs\\slab\\lib\\site-packages\\Pyro4\\core.py:453\u001b[0m, in \u001b[0;36mProxy._pyroInvoke\u001b[1;34m(self, methodname, vargs, kwargs, flags, objectId)\u001b[0m\n\u001b[0;32m    451\u001b[0m     \u001b[38;5;28;01mreturn\u001b[39;00m \u001b[38;5;28;01mNone\u001b[39;00m  \u001b[38;5;66;03m# oneway call, no response data\u001b[39;00m\n\u001b[0;32m    452\u001b[0m \u001b[38;5;28;01melse\u001b[39;00m:\n\u001b[1;32m--> 453\u001b[0m     msg \u001b[38;5;241m=\u001b[39m \u001b[43mmessage\u001b[49m\u001b[38;5;241;43m.\u001b[39;49m\u001b[43mMessage\u001b[49m\u001b[38;5;241;43m.\u001b[39;49m\u001b[43mrecv\u001b[49m\u001b[43m(\u001b[49m\u001b[38;5;28;43mself\u001b[39;49m\u001b[38;5;241;43m.\u001b[39;49m\u001b[43m_pyroConnection\u001b[49m\u001b[43m,\u001b[49m\u001b[43m \u001b[49m\u001b[43m[\u001b[49m\u001b[43mmessage\u001b[49m\u001b[38;5;241;43m.\u001b[39;49m\u001b[43mMSG_RESULT\u001b[49m\u001b[43m]\u001b[49m\u001b[43m,\u001b[49m\u001b[43m \u001b[49m\u001b[43mhmac_key\u001b[49m\u001b[38;5;241;43m=\u001b[39;49m\u001b[38;5;28;43mself\u001b[39;49m\u001b[38;5;241;43m.\u001b[39;49m\u001b[43m_pyroHmacKey\u001b[49m\u001b[43m)\u001b[49m\n\u001b[0;32m    454\u001b[0m     \u001b[38;5;28;01mif\u001b[39;00m config\u001b[38;5;241m.\u001b[39mLOGWIRE:\n\u001b[0;32m    455\u001b[0m         _log_wiredata(log, \u001b[38;5;124m\"\u001b[39m\u001b[38;5;124mproxy wiredata received\u001b[39m\u001b[38;5;124m\"\u001b[39m, msg)\n",
      "File \u001b[1;32mc:\\Users\\slab\\.conda\\envs\\slab\\lib\\site-packages\\Pyro4\\message.py:168\u001b[0m, in \u001b[0;36mMessage.recv\u001b[1;34m(cls, connection, requiredMsgTypes, hmac_key)\u001b[0m\n\u001b[0;32m    160\u001b[0m \u001b[38;5;129m@classmethod\u001b[39m\n\u001b[0;32m    161\u001b[0m \u001b[38;5;28;01mdef\u001b[39;00m \u001b[38;5;21mrecv\u001b[39m(\u001b[38;5;28mcls\u001b[39m, connection, requiredMsgTypes\u001b[38;5;241m=\u001b[39m\u001b[38;5;28;01mNone\u001b[39;00m, hmac_key\u001b[38;5;241m=\u001b[39m\u001b[38;5;28;01mNone\u001b[39;00m):\n\u001b[0;32m    162\u001b[0m \u001b[38;5;250m    \u001b[39m\u001b[38;5;124;03m\"\"\"\u001b[39;00m\n\u001b[0;32m    163\u001b[0m \u001b[38;5;124;03m    Receives a pyro message from a given connection.\u001b[39;00m\n\u001b[0;32m    164\u001b[0m \u001b[38;5;124;03m    Accepts the given message types (None=any, or pass a sequence).\u001b[39;00m\n\u001b[0;32m    165\u001b[0m \u001b[38;5;124;03m    Also reads annotation chunks and the actual payload data.\u001b[39;00m\n\u001b[0;32m    166\u001b[0m \u001b[38;5;124;03m    Validates a HMAC chunk if present.\u001b[39;00m\n\u001b[0;32m    167\u001b[0m \u001b[38;5;124;03m    \"\"\"\u001b[39;00m\n\u001b[1;32m--> 168\u001b[0m     msg \u001b[38;5;241m=\u001b[39m \u001b[38;5;28mcls\u001b[39m\u001b[38;5;241m.\u001b[39mfrom_header(\u001b[43mconnection\u001b[49m\u001b[38;5;241;43m.\u001b[39;49m\u001b[43mrecv\u001b[49m\u001b[43m(\u001b[49m\u001b[38;5;28;43mcls\u001b[39;49m\u001b[38;5;241;43m.\u001b[39;49m\u001b[43mheader_size\u001b[49m\u001b[43m)\u001b[49m)\n\u001b[0;32m    169\u001b[0m     msg\u001b[38;5;241m.\u001b[39mhmac_key \u001b[38;5;241m=\u001b[39m hmac_key\n\u001b[0;32m    170\u001b[0m     \u001b[38;5;28;01mif\u001b[39;00m \u001b[38;5;241m0\u001b[39m \u001b[38;5;241m<\u001b[39m config\u001b[38;5;241m.\u001b[39mMAX_MESSAGE_SIZE \u001b[38;5;241m<\u001b[39m (msg\u001b[38;5;241m.\u001b[39mdata_size \u001b[38;5;241m+\u001b[39m msg\u001b[38;5;241m.\u001b[39mannotations_size):\n",
      "File \u001b[1;32mc:\\Users\\slab\\.conda\\envs\\slab\\lib\\site-packages\\Pyro4\\socketutil.py:463\u001b[0m, in \u001b[0;36mSocketConnection.recv\u001b[1;34m(self, size)\u001b[0m\n\u001b[0;32m    462\u001b[0m \u001b[38;5;28;01mdef\u001b[39;00m \u001b[38;5;21mrecv\u001b[39m(\u001b[38;5;28mself\u001b[39m, size):\n\u001b[1;32m--> 463\u001b[0m     \u001b[38;5;28;01mreturn\u001b[39;00m \u001b[43mreceiveData\u001b[49m\u001b[43m(\u001b[49m\u001b[38;5;28;43mself\u001b[39;49m\u001b[38;5;241;43m.\u001b[39;49m\u001b[43msock\u001b[49m\u001b[43m,\u001b[49m\u001b[43m \u001b[49m\u001b[43msize\u001b[49m\u001b[43m)\u001b[49m\n",
      "File \u001b[1;32mc:\\Users\\slab\\.conda\\envs\\slab\\lib\\site-packages\\Pyro4\\socketutil.py:171\u001b[0m, in \u001b[0;36mreceiveData\u001b[1;34m(sock, size)\u001b[0m\n\u001b[0;32m    168\u001b[0m \u001b[38;5;28;01mtry\u001b[39;00m:\n\u001b[0;32m    169\u001b[0m     \u001b[38;5;28;01mwhile\u001b[39;00m msglen \u001b[38;5;241m<\u001b[39m size:\n\u001b[0;32m    170\u001b[0m         \u001b[38;5;66;03m# 60k buffer limit avoids problems on certain OSes like VMS, Windows\u001b[39;00m\n\u001b[1;32m--> 171\u001b[0m         chunk \u001b[38;5;241m=\u001b[39m \u001b[43msock\u001b[49m\u001b[38;5;241;43m.\u001b[39;49m\u001b[43mrecv\u001b[49m\u001b[43m(\u001b[49m\u001b[38;5;28;43mmin\u001b[39;49m\u001b[43m(\u001b[49m\u001b[38;5;241;43m60000\u001b[39;49m\u001b[43m,\u001b[49m\u001b[43m \u001b[49m\u001b[43msize\u001b[49m\u001b[43m \u001b[49m\u001b[38;5;241;43m-\u001b[39;49m\u001b[43m \u001b[49m\u001b[43mmsglen\u001b[49m\u001b[43m)\u001b[49m\u001b[43m)\u001b[49m\n\u001b[0;32m    172\u001b[0m         \u001b[38;5;28;01mif\u001b[39;00m \u001b[38;5;129;01mnot\u001b[39;00m chunk:\n\u001b[0;32m    173\u001b[0m             \u001b[38;5;28;01mbreak\u001b[39;00m\n",
      "\u001b[1;31mKeyboardInterrupt\u001b[0m: "
     ]
    }
   ],
   "source": [
    "for qTest in range(4): # qubit to measure\n",
    "    for qZZ in range(4): # qubit to pulse to e\n",
    "    # for qZZ in range(2): # qubit to pulse to e\n",
    "        # if qTest != 1: continue # UNCOMMENT IF JUST GETTING FREQS FOR Q1 ZZ\n",
    "        # if qTest != 1 and qZZ != 1: continue\n",
    "        # if qTest == 1 or qZZ == 1: continue\n",
    "        # if qTest == 0 and qZZ == 1: continue\n",
    "        if qZZ == qTest: continue\n",
    "        print('qTest', qTest, 'qZZ', qZZ)\n",
    "\n",
    "        qZZspec = meas.PulseProbeSpectroscopyExperiment(\n",
    "            soccfg=soc,\n",
    "            path=expt_path,\n",
    "            prefix=f\"qubit_spectroscopy_qubit{qTest}{qZZ}\",\n",
    "            config_file=config_path,\n",
    "        )\n",
    "        \n",
    "        span = 20\n",
    "        npts = 151\n",
    "        \n",
    "        qZZspec.cfg.expt = dict(\n",
    "            start=np.reshape(yaml_cfg.device.qubit.f_ge, (4,4))[qTest, qTest]-span/2, # [MHz]\n",
    "            # start=3600,\n",
    "            step=span/npts,\n",
    "            expts=npts, # Number of experiments stepping from start\n",
    "            reps=100, # Number of averages per point\n",
    "            rounds=8, # Number of start to finish sweeps to average over\n",
    "            length=1.0, # qubit 0 probe constant pulse length [us]\n",
    "            gain=int(np.reshape(yaml_cfg.device.qubit.pulses.pi_ge.gain, (4,4))[qTest, qTest]/80), # Qubit pulse gain\n",
    "            pulse_type='gauss',\n",
    "            qTest=qTest,\n",
    "            qZZ=qZZ,\n",
    "            checkEF=False,\n",
    "        )\n",
    "        \n",
    "        # qZZspec.cfg.device.readout.relax_delay = [10, 10, 10, 10] # Wait time between experiments [us]\n",
    "        \n",
    "        # print(qZZspec.cfg)\n",
    "        \n",
    "        qZZspec.go(analyze=False, display=False, progress=True, save=False)\n",
    "\n",
    "        # ============ POST PROCESSING ============ #\n",
    "        best_signs = [1, 0, 0]\n",
    "        best_fit_err_i = np.inf\n",
    "        best_fit_err_q = np.inf\n",
    "        for sign in [1, -1]:\n",
    "            try: \n",
    "                qZZspec.analyze(fit=True, signs=[1, sign, sign])\n",
    "                fit_err_amps = qZZspec.data['fit_err_amps'][2][2]\n",
    "                fit_err_i = qZZspec.data['fit_err_avgi'][2][2]\n",
    "                fit_err_q = qZZspec.data['fit_err_avgq'][2][2]\n",
    "                if fit_err_i < best_fit_err_i:\n",
    "                    best_signs[1] = sign\n",
    "                    best_fit_err_i = fit_err_i\n",
    "                if fit_err_q < best_fit_err_q:\n",
    "                    best_signs[2] = sign\n",
    "                    best_fit_err_q = fit_err_q\n",
    "            except: continue\n",
    "        if fit_err_amps == np.inf and best_fit_err_i == np.inf and best_fit_err_q == np.inf:\n",
    "            qZZspec.display(fit=False)\n",
    "            print(f'WARNING: All fits failed for Q{qTest} due to Q{qZZ} in e, please manually fix!')\n",
    "            continue\n",
    "\n",
    "        qZZspec.analyze(fit=True, signs=best_signs)\n",
    "        qZZspec.display(fit=True, signs=best_signs)\n",
    "\n",
    "        qZZspec_fit, qZZspec_fit_err = meas.fitting.get_best_fit(qZZspec.data)\n",
    "\n",
    "        yaml_cfg.device.qubit.f_ge = np.reshape(yaml_cfg.device.qubit.f_ge, (4,4))\n",
    "        yaml_cfg.device.qubit.f_ge[qTest, qZZ] = qZZspec_fit[2]\n",
    "\n",
    "        print(f'Fit Q{qTest} frequency with ZZ shift [MHz]: {qZZspec_fit[2]}')\n",
    "        print(f'Q{qTest} shift due to Q{qZZ} in e [MHz]: {yaml_cfg.device.qubit.f_ge[qTest, qZZ] - yaml_cfg.device.qubit.f_ge[qTest, qTest]}')\n",
    "\n",
    "        yaml_cfg.device.qubit.f_ge = yaml_cfg.device.qubit.f_ge.flatten().tolist()"
   ]
  },
  {
   "cell_type": "markdown",
   "metadata": {},
   "source": [
    "Optional: update manual config now, or just keep running the T2R calibration cell using the already updated yaml_cfg variable"
   ]
  },
  {
   "cell_type": "code",
   "execution_count": 21,
   "metadata": {},
   "outputs": [
    {
     "name": "stdout",
     "output_type": "stream",
     "text": [
      "ZZs:\n",
      "[[ 0.         -5.41244191 -0.27629829 -0.68546649]\n",
      " [-5.4554782   0.         -1.11067004 -1.34331464]\n",
      " [-0.11688094 -1.07615875  0.         -0.51837671]\n",
      " [-0.56453262 -1.31537634 -0.52709565  0.        ]]\n",
      "\n",
      "New f_ge\n",
      " [[4108.73966106 4103.32721915 4108.46336277 4108.05419457]\n",
      " [3442.80370695 3448.25918515 3447.14851511 3446.91587051]\n",
      " [4759.49539023 4758.53611242 4759.61227117 4759.09389446]\n",
      " [4377.42582809 4376.67498437 4377.46326506 4377.99036071]]\n",
      "\n",
      "UPDATE MANUALLY IN CONFIG:\n",
      "f_ge:\n",
      "[4108.739661061453, 4103.3272191507795, 4108.4633627726025, 4108.054194573161, 3442.803706954971, 3448.25918515342, 3447.1485151091706, 3446.915870514596, 4759.495390230116, 4758.536112424677, 4759.612271171617, 4759.093894457347, 4377.425828086421, 4376.674984369505, 4377.46326505935, 4377.990360708751]\n"
     ]
    }
   ],
   "source": [
    "ZZshifts = np.zeros((4,4))\n",
    "reshaped_f_ge = np.reshape(yaml_cfg.device.qubit.f_ge, (4,4))\n",
    "for row in range(4):\n",
    "    ZZshifts[row,:] = reshaped_f_ge[row,:] - reshaped_f_ge[row,row]\n",
    "print('ZZs:')\n",
    "print(ZZshifts)\n",
    "# print(ZZshifts.flatten().tolist())\n",
    "\n",
    "print()\n",
    "print(f'New f_ge\\n', np.reshape(yaml_cfg.device.qubit.f_ge, (4,4)))\n",
    "\n",
    "print()\n",
    "print(\"UPDATE MANUALLY IN CONFIG:\")\n",
    "print(f'f_ge:')\n",
    "print(yaml_cfg.device.qubit.f_ge)\n"
   ]
  },
  {
   "cell_type": "markdown",
   "metadata": {},
   "source": [
    "## Fine GE with ZZ calibrations"
   ]
  },
  {
   "cell_type": "code",
   "execution_count": 23,
   "metadata": {},
   "outputs": [],
   "source": [
    "save_data = False\n",
    "saved_files = []\n",
    "\n",
    "full_mux_expt = False\n",
    "resonator_reset = [0, 2, 3] if full_mux_expt else None\n",
    "use_robust_pulses = True"
   ]
  },
  {
   "cell_type": "code",
   "execution_count": 24,
   "metadata": {},
   "outputs": [],
   "source": [
    "import yaml\n",
    "with open(config_path, 'r') as cfg_file:\n",
    "    yaml_cfg = yaml.safe_load(cfg_file)\n",
    "yaml_cfg = AttrDict(yaml_cfg)"
   ]
  },
  {
   "cell_type": "code",
   "execution_count": 30,
   "metadata": {},
   "outputs": [],
   "source": [
    "test_pi_half = True\n",
    "divide_len = True\n",
    "# test_pi_half = True\n",
    "# divide_len = False # for RB\n",
    "\n",
    "do_length_rabi = do_amp_rabi = do_ramsey = do_amp_rabi_2 = do_error_amp = do_piminuspi = False\n",
    "\n",
    "# SET THE EXPERIMENTS YOU WANT TO RUN HERE BY UNCOMMENTING!\n",
    "# do_amp_rabi = True\n",
    "do_ramsey = True\n",
    "do_amp_rabi_2 = True\n",
    "do_piminuspi = True\n",
    "do_error_amp = True\n",
    "\n",
    "# put an override=True flag to force skipping certain qubits\n",
    "\n",
    "use_robust_pulses = True\n",
    "sweep_phase = True"
   ]
  },
  {
   "cell_type": "code",
   "execution_count": 31,
   "metadata": {},
   "outputs": [
    {
     "name": "stdout",
     "output_type": "stream",
     "text": [
      "######### BEGINNING QUBIT 0 WITH ZZ FROM 0 #########\n",
      "initial pi_len 0.02\n",
      "initial pi_gain 7511\n",
      "initial pi_freq 4108.739661061453\n",
      "-------- Ramsey --------\n",
      "ramsey freq 2.5\n",
      "Running Ramsey on Q0 \n"
     ]
    },
    {
     "data": {
      "application/vnd.jupyter.widget-view+json": {
       "model_id": "1797f0d6c2a64a89ada5af72e35ba158",
       "version_major": 2,
       "version_minor": 0
      },
      "text/plain": [
       "  0%|          | 0/10 [00:00<?, ?it/s]"
      ]
     },
     "metadata": {},
     "output_type": "display_data"
    },
    {
     "name": "stdout",
     "output_type": "stream",
     "text": [
      "WARNING: not sure if single shot checking makes sense when there are multiple rounds of averaging... use at your own risk\n",
      "best 2 0.04436612912104701\n",
      "Current pi pulse frequency: 4108.739661061453\n",
      "Fit frequency from amps [MHz]: 2.5966605263879923 +/- 0.0035357506193044864\n",
      "Suggested new pi pulse frequencies from fit amps [MHz]:\n",
      " \t4108.643000535065\n",
      " \t4103.643000535065\n",
      "T2 Ramsey from fit amps [us]: 44.57709458057671 +/- 43.09927707165388\n",
      "Current pi pulse frequency: 4108.739661061453\n",
      "Fit frequency from I [MHz]: 2.5753858778267826 +/- 0.050321012787714\n",
      "Suggested new pi pulse frequency from fit I [MHz]:\n",
      " \t4108.664275183626\n",
      " \t4103.664275183626\n",
      "T2 Ramsey from fit I [us]: 1.039341517857143 +/- 0.35358099011663496\n",
      "Fit frequency from Q [MHz]: 2.6044467085957597 +/- 0.0011201847284012414\n",
      "Suggested new pi pulse frequencies from fit Q [MHz]:\n",
      " \t4108.6352143528575\n",
      " \t4103.6352143528575\n",
      "T2 Ramsey from fit Q [us]: 28.802190659571608 +/- 5.6575083855806\n",
      "updated pi_freq 4108.6352143528575\n",
      "-------- Amp rabi --------\n",
      "Running amp rabi on Q0 \n"
     ]
    },
    {
     "data": {
      "application/vnd.jupyter.widget-view+json": {
       "model_id": "4f31799d6ee741d7aabd9b5334685e8b",
       "version_major": 2,
       "version_minor": 0
      },
      "text/plain": [
       "  0%|          | 0/10 [00:00<?, ?it/s]"
      ]
     },
     "metadata": {},
     "output_type": "display_data"
    },
    {
     "name": "stdout",
     "output_type": "stream",
     "text": [
      "WARNING: not sure if single shot checking makes sense when there are multiple rounds of averaging... use at your own risk\n",
      "(4, 75, 100)\n",
      "best 2 0.011527055944255736\n",
      "Pi gain from amps data [dac units]: 7695\n",
      "\tPi/2 gain from amps data [dac units]: 3847\n",
      "Pi gain from avgi data [dac units]: 33396\n",
      "\tPi/2 gain from avgi data [dac units]: 16698\n",
      "Pi gain from avgq data [dac units]: 7522\n",
      "\tPi/2 gain from avgq data [dac units]: 3761\n",
      "updated pi_gain round 2 7522\n",
      "-------- Pi Minus Pi --------\n",
      "{'device': {'readout': {'trig_offset': 150, 'lo_sideband': [1, 1, 1, 1], 'frequency': [-389.975, 5795.761666663333, 502.368233333334, -228.9], 'gain': [0.4, 0.5, 0.3, 0.2], 'readout_length': [5, 20, 10, 8], 'frequency_ef': [-391.91408405, 5795.76166666, 500.44439227, -230.30732892], 'gain_ef': [0.05, 0.6, 0.4, 0.25], 'readout_length_ef': [1, 20, 10, 8], 'relax_delay': [450, 450, 450, 450]}, 'qubit': {'f_ge': [4108.6352143528575, 4103.3272191507795, 4108.4633627726025, 4108.054194573161, 3442.803706954971, 3448.25918515342, 3447.1485151091706, 3446.915870514596, 4759.495390230116, 4758.536112424677, 4759.612271171617, 4759.093894457347, 4377.466056020506, 4376.65632732359, 4377.47219792754, 4377.988666116248], 'f_ef': [3882.584812861004, 0.0, 0.0, 0.0, 0.0, 3347.8123422280078, 0.0, 0.0, 4571.9056482340775, 4571.009319367402, 4570.125075914433, 0.0, 4211.704645679207, 4206.869581627414, 0.0, 4205.162855964244], 'f_EgGf': [2686.53594683, 0, 2017.3, 2414.92850999], 'f_EgGf_Q_half': [0, 0, 5885.6717699723895, 5138], 'f_EgGf_Q': [0, 0, 5880.504550983305, 5132.386793750588], 'f_f0g1': [1184.4, 999.8, 1632.9833333333333, 1620.9166666666665], 'gs': [52.40296404695958, 54.81794456602636, 43.49513117058557, 4.930653352423196, 2.6415018214608046, 6.386231497692186], 'pulses': {'pi_ge': {'sigma': [0.02, 0.02, 0.02, 0.02, 0.025, 0.025, 0.025, 0.025, 0.015, 0.015, 0.015, 0.015, 0.025, 0.025, 0.025, 0.025], 'gain': [1849, 1914, 0, 1855, 2834, 2504, 2648, 2631, 9155, 9155, 9155, 9155, 3000, 3000, 3000, 3000], 'half_gain': [1850, 1835, 1873, 1867, 2382, 2186, 2248, 2289, 9253, 9253, 9253, 9253, 3120, 3120, 3120, 3120], 'half_correction_phase': [0, 0, 0, 0, 0, 0, 0, 0, 0, 0, 0, 0, 0, 0, 0, 0], 'half_gain_pi_sigma': [927, 0, 0, 0, 0, 1315, 0, 0, 0, 0, 7212, 0, 0, 0, 0, 460], 'type': 'gauss'}, 'pi_ef': {'sigma': [0.02, 0.02, 0.02, 0.02, 0.025, 0.025, 0.025, 0.025, 0.015, 0.015, 0.015, 0.015, 0.03, 0.03, 0.03, 0.03], 'gain': [1245, 0, 0, 0, 0, 1945, 0, 0, 0, 0, 6000, 0, 0, 0, 0, 1500], 'half_gain': [1243, 0, 0, 0, 0, 1619, 0, 0, 0, 6472, 6501, 0, 1427, 1601, 0, 1647], 'half_gain_pi_sigma': [673, 0, 0, 0, 0, 975, 0, 0, 0, 0, 3049, 0, 0, 0, 0, 1000], 'type': 'gauss'}, 'pi_EgGf': {'gain': [32000, 0, 30000, 16000], 'sigma': [0.586, 0, 0.8, 0.44643], 'type': 'flat_top'}, 'pi_EgGf_Q': {'half_gain': [0, 0, 12147, 14500], 'half_sigma': [0, 0, 0.231, 0.095], 'half_phase': [0, 0, 0.0, 0.0], 'gain': [0, 0, 24647, 24647], 'sigma': [0, 0, 0.245, 0.17], 'phase': [0, 0, 0.0, 0.0], 'type': 'flat_top'}, 'pi_f0g1': {'gain': [32000, 32000, 32000, 32000], 'sigma': [0.536, 0.585, 1.54, 1.04], 'idle': [3, 6, 12, 8], 'type': 'flat_top'}, 'pulse_pp': {'gain': [1750, 3550, 0, 0], 'filename': '240920_3_qram_4q_2qubit_++gg'}, 'pulse_1p': {'gain': [3500, 4375, 0, 0], 'filename': '240920_qram_4q_2qubit_e+gg'}, 'pulse_p1': {'gain': [3000, 5530, 0, 0], 'filename': '240920_qram_4q_2qubit_+egg'}, 'pihalf_ge_robust': {'gain': [7522, 7665, 7524, 7534, 4849, 4476, 4518, 4475, 20160, 20177, 20406, 20142, 12276, 12172, 12302, 12320], 'correction_phase': [10.799999999999997, 9.780338944338627, 1.8242193491293757, 1.8128390587788765, 0.46597040378175203, -0.28914046319009995, 0.6678177385391172, 1.0754762888754805, 3.0017251090114216, 3.7031106610299522, 3.183564832840096, 3.2384320807890035, 27.201443290550866, -6.995431316414082, -6.77604262269097, -3.118889112056552], 'filename': ['X_2_Q0', 'X_2_Q1', 'X_2_Q2', 'X_2_Q3']}, 'pi_ge_slow': {'gain': [-1, 100, -1, -1], 'sigma': [-1, 0.25, -1, -1], 'type': 'gauss'}, 'pi_Q1_ZZ_slow': {'gain': [100, 0, -1, -1], 'sigma': [0.25, 0, -1, -1], 'type': 'gauss'}}}}, 'hw': {'soc': {'dacs': {'qubit': {'ch': [0, 1, 2, 3], 'type': 'full', 'nyquist': [2, 1, 2, 2], 'mixer_freq': [0, 0, 0, 0]}, 'swap': {'ch': 1, 'type': 'full', 'nyquist': 1, 'mixer_freq': 0}, 'swap_f0g1': {'ch': [1, 1, 5, 5], 'type': ['full', 'full', 'full', 'full'], 'nyquist': 1, 'mixer_freq': 0}, 'swap_Q': {'ch': [0, -1, 2, 3], 'type': ['full', 'None', 'full', 'full'], 'nyquist': [2, 0, 2, 2], 'mixer_freq': 0}, 'readout': {'ch': [6, 4, 6, 6], 'full_mux_chs': [5, 4, 5, 5], 'type': ['mux4', 'full', 'mux4', 'mux4'], 'mixer_freq': [7200, 0, 7200, 7200], 'nyquist': [2, 2, 2, 2]}, 'res_pump': {'ch': 4, 'type': 'full', 'mixer_freq': 0, 'nyquist': 2}, 'delay_chs': {'ch': [0, 1, 2, 3, 4, 5, 6], 'delay_ns': [0.0, 2.0, 2.0, 0.0, 25, 24, 73]}}, 'adcs': {'readout': {'ch': [0, 1, 2, 3]}}}, 'lo': {'twpa': {'frequency': '8210.0e6', 'power': -1.5}, 'readout': {'frequency': 0, 'power': 0}}}, 'aliases': {'readout_LO': 'SC_20A1', 'twpa_LO': 'SC_26C1', 'soc': 'Qick_QRAM'}, 'expt': {'start_N': 0, 'step_N': 1, 'expts_N': 10, 'start_f': -4.5, 'step_f': 0.15, 'expts_f': 61, 'reps': 500, 'loops': 1, 'pulse_type': 'robust', 'checkEF': False, 'qTest': 0, 'qZZ': 0, 'test_pi_half': True, 'divide_len': True, 'post_process': 'threshold', 'singleshot_reps': 15000, 'full_mux_expt': False, 'resonator_reset': None, 'use_robust_pulses': True, 'sweep_phase': True}}\n"
     ]
    },
    {
     "data": {
      "application/vnd.jupyter.widget-view+json": {
       "model_id": "c9e90404afa048128c1457e75bbb3e32",
       "version_major": 2,
       "version_minor": 0
      },
      "text/plain": [
       "  0%|          | 0/2 [00:00<?, ?it/s]"
      ]
     },
     "metadata": {},
     "output_type": "display_data"
    },
    {
     "name": "stdout",
     "output_type": "stream",
     "text": [
      "Qubit  (0)\n",
      "ge fidelity (%): 81.73333333333335 \t angle (deg): -90.34149484747908 \t threshold ge: 93.0981705114688\n"
     ]
    },
    {
     "data": {
      "application/vnd.jupyter.widget-view+json": {
       "model_id": "ca73582550a24df28b8c9c1694077478",
       "version_major": 2,
       "version_minor": 0
      },
      "text/plain": [
       "  0%|          | 0/10 [00:00<?, ?it/s]"
      ]
     },
     "metadata": {},
     "output_type": "display_data"
    },
    {
     "name": "stdout",
     "output_type": "stream",
     "text": [
      "Fit best freq 1.7738091116219559 which is 1.7738091116219559 away from old freq 0\n",
      "Best virtual Z (deg) 12.771425603678084\n",
      "updated phase correction 12.771425603678084\n",
      "-------- Error amplification --------\n"
     ]
    },
    {
     "data": {
      "application/vnd.jupyter.widget-view+json": {
       "model_id": "63382c02d0db4ecfa986e046ca03a3ec",
       "version_major": 2,
       "version_minor": 0
      },
      "text/plain": [
       "  0%|          | 0/2 [00:00<?, ?it/s]"
      ]
     },
     "metadata": {},
     "output_type": "display_data"
    },
    {
     "name": "stdout",
     "output_type": "stream",
     "text": [
      "Qubit  (0)\n",
      "g unrotated averages:\n",
      "I -41.830435807291664 +/- 22.291345350541853 \t Q 52.59697300347222 +/- 32.553771632795495 \t Amp 71.86042361669969 +/- 30.148939809580867\n",
      "Rotated (theta=-1.6200521576054265):\n",
      "I 54.59274201184359 +/- 32.58854861243827 \t Q 39.190042722408755 +/- 22.240472665662317 \t Amp 67.20287887401801 +/- 30.148939809580867\n",
      "e unrotated averages:\n",
      "I -45.78762925347222 +/- 22.649603138016037 \t Q 132.87158480902778 +/- 38.704283567359106 \t Amp 143.06419571369247 +/- 35.98648407225355\n",
      "Rotated (theta=-1.6200521576054265):\n",
      "I 134.96483095136992 +/- 38.68224987451732 \t Q 39.19004272240874 +/- 22.687212993613283 \t Amp 140.53954974424846 +/- 35.98648407225355\n",
      "ge fidelity (%): 78.23999999999998 \t angle (deg): -92.82215122185382 \t threshold ge: 90.20475057833673\n"
     ]
    },
    {
     "data": {
      "application/vnd.jupyter.widget-view+json": {
       "model_id": "6d200be3680443098b3009c66d5baa22",
       "version_major": 2,
       "version_minor": 0
      },
      "text/plain": [
       "  0%|          | 0/20 [00:00<?, ?it/s]"
      ]
     },
     "metadata": {},
     "output_type": "display_data"
    },
    {
     "name": "stderr",
     "output_type": "stream",
     "text": [
      "RuntimeWarning: divide by zero encountered in divide\n",
      " s:\\Seb\\experiements\\qram_tprocv1_expts\\experiments\\clifford_averager_program.py: 1877"
     ]
    },
    {
     "name": "stdout",
     "output_type": "stream",
     "text": [
      "fitparams [None, 0.017453292519943295]\n",
      "From amps: adjust amplitude to 7522 / 0.9946218756418923 = 7562.6729958513915\n",
      "From avgi: adjust amplitude to 7522 / 1.009493729984014 = 7451.259751874947\n",
      "From avgq: adjust amplitude to 7522 / 1.005503998095126 = 7480.825550420516\n",
      "best 1 0.022690503673216823\n",
      "updated pi_gain from error amplification 7451\n",
      "\n",
      "\n",
      "\n",
      "######### BEGINNING QUBIT 0 WITH ZZ FROM 1 #########\n",
      "initial pi_len 0.02\n",
      "initial pi_gain 7665\n",
      "initial pi_freq 4103.3272191507795\n",
      "-------- Ramsey --------\n",
      "ramsey freq 2.5\n",
      "Running Ramsey on Q0 with ZZ Q1\n"
     ]
    },
    {
     "data": {
      "application/vnd.jupyter.widget-view+json": {
       "model_id": "4d585079a84844f8aff7905e49697298",
       "version_major": 2,
       "version_minor": 0
      },
      "text/plain": [
       "  0%|          | 0/10 [00:00<?, ?it/s]"
      ]
     },
     "metadata": {},
     "output_type": "display_data"
    },
    {
     "name": "stdout",
     "output_type": "stream",
     "text": [
      "WARNING: not sure if single shot checking makes sense when there are multiple rounds of averaging... use at your own risk\n",
      "best 2 0.05087865725445343\n",
      "Current pi pulse frequency: 4103.3272191507795\n",
      "Fit frequency from amps [MHz]: 2.5856546844362787 +/- 0.0028080155169667334\n",
      "Suggested new pi pulse frequencies from fit amps [MHz]:\n",
      " \t4103.241564466343\n",
      " \t4098.241564466343\n",
      "T2 Ramsey from fit amps [us]: 14.00482734315617 +/- 3.418156759318547\n",
      "Current pi pulse frequency: 4103.3272191507795\n",
      "Fit frequency from I [MHz]: 2.582026514160187 +/- 0.001889592350673893\n",
      "Suggested new pi pulse frequency from fit I [MHz]:\n",
      " \t4103.245192636619\n",
      " \t4098.245192636619\n",
      "T2 Ramsey from fit I [us]: 24.652965570255287 +/- 7.160382775710609\n",
      "Fit frequency from Q [MHz]: 2.583666126061574 +/- 0.0013486151700176678\n",
      "Suggested new pi pulse frequencies from fit Q [MHz]:\n",
      " \t4103.243553024718\n",
      " \t4098.243553024718\n",
      "T2 Ramsey from fit Q [us]: 26.685352704734324 +/- 5.979195812910211\n",
      "updated pi_freq 4103.243553024718\n",
      "-------- Amp rabi --------\n",
      "Running amp rabi on Q0 with ZZ Q1\n"
     ]
    },
    {
     "data": {
      "application/vnd.jupyter.widget-view+json": {
       "model_id": "0f5c602b2646438ca9bbe73bc675fff7",
       "version_major": 2,
       "version_minor": 0
      },
      "text/plain": [
       "  0%|          | 0/10 [00:00<?, ?it/s]"
      ]
     },
     "metadata": {},
     "output_type": "display_data"
    },
    {
     "name": "stdout",
     "output_type": "stream",
     "text": [
      "WARNING: not sure if single shot checking makes sense when there are multiple rounds of averaging... use at your own risk\n",
      "(4, 75, 100)\n",
      "best 2 0.011617482940875763\n",
      "Pi gain from amps data [dac units]: 7720\n",
      "\tPi/2 gain from amps data [dac units]: 3860\n",
      "Pi gain from avgi data [dac units]: 7929\n",
      "\tPi/2 gain from avgi data [dac units]: 3964\n",
      "Pi gain from avgq data [dac units]: 7633\n",
      "\tPi/2 gain from avgq data [dac units]: 3816\n",
      "updated pi_gain round 2 7633\n",
      "-------- Pi Minus Pi --------\n",
      "{'device': {'readout': {'trig_offset': 150, 'lo_sideband': [1, 1, 1, 1], 'frequency': [-389.975, 5795.761666663333, 502.368233333334, -228.9], 'gain': [0.4, 0.5, 0.3, 0.2], 'readout_length': [5, 20, 10, 8], 'frequency_ef': [-391.91408405, 5795.76166666, 500.44439227, -230.30732892], 'gain_ef': [0.05, 0.6, 0.4, 0.25], 'readout_length_ef': [1, 20, 10, 8], 'relax_delay': [450, 450, 450, 450]}, 'qubit': {'f_ge': [4108.6352143528575, 4103.243553024718, 4108.4633627726025, 4108.054194573161, 3442.803706954971, 3448.25918515342, 3447.1485151091706, 3446.915870514596, 4759.495390230116, 4758.536112424677, 4759.612271171617, 4759.093894457347, 4377.466056020506, 4376.65632732359, 4377.47219792754, 4377.988666116248], 'f_ef': [3882.584812861004, 0.0, 0.0, 0.0, 0.0, 3347.8123422280078, 0.0, 0.0, 4571.9056482340775, 4571.009319367402, 4570.125075914433, 0.0, 4211.704645679207, 4206.869581627414, 0.0, 4205.162855964244], 'f_EgGf': [2686.53594683, 0, 2017.3, 2414.92850999], 'f_EgGf_Q_half': [0, 0, 5885.6717699723895, 5138], 'f_EgGf_Q': [0, 0, 5880.504550983305, 5132.386793750588], 'f_f0g1': [1184.4, 999.8, 1632.9833333333333, 1620.9166666666665], 'gs': [52.40296404695958, 54.81794456602636, 43.49513117058557, 4.930653352423196, 2.6415018214608046, 6.386231497692186], 'pulses': {'pi_ge': {'sigma': [0.02, 0.02, 0.02, 0.02, 0.025, 0.025, 0.025, 0.025, 0.015, 0.015, 0.015, 0.015, 0.025, 0.025, 0.025, 0.025], 'gain': [1849, 1914, 0, 1855, 2834, 2504, 2648, 2631, 9155, 9155, 9155, 9155, 3000, 3000, 3000, 3000], 'half_gain': [1850, 1835, 1873, 1867, 2382, 2186, 2248, 2289, 9253, 9253, 9253, 9253, 3120, 3120, 3120, 3120], 'half_correction_phase': [0, 0, 0, 0, 0, 0, 0, 0, 0, 0, 0, 0, 0, 0, 0, 0], 'half_gain_pi_sigma': [927, 0, 0, 0, 0, 1315, 0, 0, 0, 0, 7212, 0, 0, 0, 0, 460], 'type': 'gauss'}, 'pi_ef': {'sigma': [0.02, 0.02, 0.02, 0.02, 0.025, 0.025, 0.025, 0.025, 0.015, 0.015, 0.015, 0.015, 0.03, 0.03, 0.03, 0.03], 'gain': [1245, 0, 0, 0, 0, 1945, 0, 0, 0, 0, 6000, 0, 0, 0, 0, 1500], 'half_gain': [1243, 0, 0, 0, 0, 1619, 0, 0, 0, 6472, 6501, 0, 1427, 1601, 0, 1647], 'half_gain_pi_sigma': [673, 0, 0, 0, 0, 975, 0, 0, 0, 0, 3049, 0, 0, 0, 0, 1000], 'type': 'gauss'}, 'pi_EgGf': {'gain': [32000, 0, 30000, 16000], 'sigma': [0.586, 0, 0.8, 0.44643], 'type': 'flat_top'}, 'pi_EgGf_Q': {'half_gain': [0, 0, 12147, 14500], 'half_sigma': [0, 0, 0.231, 0.095], 'half_phase': [0, 0, 0.0, 0.0], 'gain': [0, 0, 24647, 24647], 'sigma': [0, 0, 0.245, 0.17], 'phase': [0, 0, 0.0, 0.0], 'type': 'flat_top'}, 'pi_f0g1': {'gain': [32000, 32000, 32000, 32000], 'sigma': [0.536, 0.585, 1.54, 1.04], 'idle': [3, 6, 12, 8], 'type': 'flat_top'}, 'pulse_pp': {'gain': [1750, 3550, 0, 0], 'filename': '240920_3_qram_4q_2qubit_++gg'}, 'pulse_1p': {'gain': [3500, 4375, 0, 0], 'filename': '240920_qram_4q_2qubit_e+gg'}, 'pulse_p1': {'gain': [3000, 5530, 0, 0], 'filename': '240920_qram_4q_2qubit_+egg'}, 'pihalf_ge_robust': {'gain': [7451, 7633, 7524, 7534, 4849, 4476, 4518, 4475, 20160, 20177, 20406, 20142, 12276, 12172, 12302, 12320], 'correction_phase': [12.771425603678084, 9.780338944338627, 1.8242193491293757, 1.8128390587788765, 0.46597040378175203, -0.28914046319009995, 0.6678177385391172, 1.0754762888754805, 3.0017251090114216, 3.7031106610299522, 3.183564832840096, 3.2384320807890035, 27.201443290550866, -6.995431316414082, -6.77604262269097, -3.118889112056552], 'filename': ['X_2_Q0', 'X_2_Q1', 'X_2_Q2', 'X_2_Q3']}, 'pi_ge_slow': {'gain': [-1, 100, -1, -1], 'sigma': [-1, 0.25, -1, -1], 'type': 'gauss'}, 'pi_Q1_ZZ_slow': {'gain': [100, 0, -1, -1], 'sigma': [0.25, 0, -1, -1], 'type': 'gauss'}}}}, 'hw': {'soc': {'dacs': {'qubit': {'ch': [0, 1, 2, 3], 'type': 'full', 'nyquist': [2, 1, 2, 2], 'mixer_freq': [0, 0, 0, 0]}, 'swap': {'ch': 1, 'type': 'full', 'nyquist': 1, 'mixer_freq': 0}, 'swap_f0g1': {'ch': [1, 1, 5, 5], 'type': ['full', 'full', 'full', 'full'], 'nyquist': 1, 'mixer_freq': 0}, 'swap_Q': {'ch': [0, -1, 2, 3], 'type': ['full', 'None', 'full', 'full'], 'nyquist': [2, 0, 2, 2], 'mixer_freq': 0}, 'readout': {'ch': [6, 4, 6, 6], 'full_mux_chs': [5, 4, 5, 5], 'type': ['mux4', 'full', 'mux4', 'mux4'], 'mixer_freq': [7200, 0, 7200, 7200], 'nyquist': [2, 2, 2, 2]}, 'res_pump': {'ch': 4, 'type': 'full', 'mixer_freq': 0, 'nyquist': 2}, 'delay_chs': {'ch': [0, 1, 2, 3, 4, 5, 6], 'delay_ns': [0.0, 2.0, 2.0, 0.0, 25, 24, 73]}}, 'adcs': {'readout': {'ch': [0, 1, 2, 3]}}}, 'lo': {'twpa': {'frequency': '8210.0e6', 'power': -1.5}, 'readout': {'frequency': 0, 'power': 0}}}, 'aliases': {'readout_LO': 'SC_20A1', 'twpa_LO': 'SC_26C1', 'soc': 'Qick_QRAM'}, 'expt': {'start_N': 0, 'step_N': 1, 'expts_N': 10, 'start_f': -4.5, 'step_f': 0.15, 'expts_f': 61, 'reps': 500, 'loops': 1, 'pulse_type': 'robust', 'checkEF': False, 'qTest': 0, 'qZZ': 1, 'test_pi_half': True, 'divide_len': True, 'post_process': 'threshold', 'singleshot_reps': 15000, 'full_mux_expt': False, 'resonator_reset': None, 'use_robust_pulses': True, 'sweep_phase': True}}\n"
     ]
    },
    {
     "data": {
      "application/vnd.jupyter.widget-view+json": {
       "model_id": "4dd76ed1eb3f4111b9fe4086bd273925",
       "version_major": 2,
       "version_minor": 0
      },
      "text/plain": [
       "  0%|          | 0/2 [00:00<?, ?it/s]"
      ]
     },
     "metadata": {},
     "output_type": "display_data"
    },
    {
     "name": "stdout",
     "output_type": "stream",
     "text": [
      "Qubit  (0)\n",
      "ge fidelity (%): 80.16666666666664 \t angle (deg): -95.28346739934653 \t threshold ge: 93.80410613661626\n"
     ]
    },
    {
     "data": {
      "application/vnd.jupyter.widget-view+json": {
       "model_id": "d46ca9169ee14286b95b47f37c8fda87",
       "version_major": 2,
       "version_minor": 0
      },
      "text/plain": [
       "  0%|          | 0/10 [00:00<?, ?it/s]"
      ]
     },
     "metadata": {},
     "output_type": "display_data"
    },
    {
     "name": "stdout",
     "output_type": "stream",
     "text": [
      "Fit best freq 1.2913632427672528 which is 1.2913632427672528 away from old freq 0\n",
      "Best virtual Z (deg) 9.29781534792422\n",
      "updated phase correction 9.29781534792422\n",
      "-------- Error amplification --------\n"
     ]
    },
    {
     "data": {
      "application/vnd.jupyter.widget-view+json": {
       "model_id": "1b4f8965057f43848c6b5f34643d970b",
       "version_major": 2,
       "version_minor": 0
      },
      "text/plain": [
       "  0%|          | 0/2 [00:00<?, ?it/s]"
      ]
     },
     "metadata": {},
     "output_type": "display_data"
    },
    {
     "name": "stdout",
     "output_type": "stream",
     "text": [
      "Qubit  (0)\n",
      "g unrotated averages:\n",
      "I -45.48486723090277 +/- 22.83173194681333 \t Q 49.770130772569445 +/- 32.064085456099875 \t Amp 71.99678416018507 +/- 30.195954936886018\n",
      "Rotated (theta=-1.7143213885003976):\n",
      "I 55.764220150769894 +/- 32.32920191763611 \t Q 37.898427607329374 +/- 22.454760368258786 \t Amp 67.42357943725264 +/- 30.195954936886018\n",
      "e unrotated averages:\n",
      "I -57.488884375 +/- 22.551067704542152 \t Q 132.8321286458333 +/- 38.45627840234731 \t Amp 147.1413815096805 +/- 35.86357592128359\n",
      "Rotated (theta=-1.7143213885003976):\n",
      "I 139.68913849028263 +/- 38.55809206078193 \t Q 37.898427607329374 +/- 22.376539942671062 \t Amp 144.73888982324462 +/- 35.86357592128359\n",
      "ge fidelity (%): 79.91333333333337 \t angle (deg): -98.22338029007993 \t threshold ge: 96.543845644657\n"
     ]
    },
    {
     "data": {
      "application/vnd.jupyter.widget-view+json": {
       "model_id": "500d7e5fd48644b2937834a5a907d58f",
       "version_major": 2,
       "version_minor": 0
      },
      "text/plain": [
       "  0%|          | 0/20 [00:00<?, ?it/s]"
      ]
     },
     "metadata": {},
     "output_type": "display_data"
    },
    {
     "name": "stdout",
     "output_type": "stream",
     "text": [
      "fitparams [None, 0.017453292519943295]\n",
      "From amps: adjust amplitude to 7633 / 1.0357388380675925 = 7369.618401334747\n",
      "From avgi: adjust amplitude to 7633 / 1.0050558804109928 = 7594.602597498035\n",
      "From avgq: adjust amplitude to 7633 / 0.9643421035323769 = 7915.240838329454\n",
      "best 1 0.13119436381796717\n",
      "updated pi_gain from error amplification 7595\n",
      "\n",
      "\n",
      "\n",
      "######### BEGINNING QUBIT 0 WITH ZZ FROM 2 #########\n",
      "initial pi_len 0.02\n",
      "initial pi_gain 7524\n",
      "initial pi_freq 4108.4633627726025\n",
      "-------- Ramsey --------\n",
      "ramsey freq 2.5\n",
      "Running Ramsey on Q0 with ZZ Q2\n"
     ]
    },
    {
     "data": {
      "application/vnd.jupyter.widget-view+json": {
       "model_id": "b142fcb729384ecfb6a81651e6fb74cc",
       "version_major": 2,
       "version_minor": 0
      },
      "text/plain": [
       "  0%|          | 0/10 [00:00<?, ?it/s]"
      ]
     },
     "metadata": {},
     "output_type": "display_data"
    },
    {
     "name": "stdout",
     "output_type": "stream",
     "text": [
      "WARNING: not sure if single shot checking makes sense when there are multiple rounds of averaging... use at your own risk\n",
      "best 2 0.02133066091024185\n",
      "Current pi pulse frequency: 4108.4633627726025\n",
      "Fit frequency from amps [MHz]: 2.4627456274939155 +/- 0.00286771574482277\n",
      "Suggested new pi pulse frequencies from fit amps [MHz]:\n",
      " \t4108.500617145109\n",
      " \t4103.500617145109\n",
      "T2 Ramsey from fit amps [us]: 7.989527006918375 +/- 1.113678024745664\n",
      "Current pi pulse frequency: 4108.4633627726025\n",
      "Fit frequency from I [MHz]: 2.4695453755744383 +/- 0.00178429806292538\n",
      "Suggested new pi pulse frequency from fit I [MHz]:\n",
      " \t4108.493817397028\n",
      " \t4103.493817397028\n",
      "T2 Ramsey from fit I [us]: 12.061551636935297 +/- 1.570053894937925\n",
      "Fit frequency from Q [MHz]: 2.471672807854106 +/- 0.0010527567446410892\n",
      "Suggested new pi pulse frequencies from fit Q [MHz]:\n",
      " \t4108.491689964749\n",
      " \t4103.491689964749\n",
      "T2 Ramsey from fit Q [us]: 13.115574249512388 +/- 1.0934036519436705\n",
      "updated pi_freq 4108.491689964749\n",
      "-------- Amp rabi --------\n",
      "Running amp rabi on Q0 with ZZ Q2\n"
     ]
    },
    {
     "data": {
      "application/vnd.jupyter.widget-view+json": {
       "model_id": "cacff4ba6af2480f9232a7622254d749",
       "version_major": 2,
       "version_minor": 0
      },
      "text/plain": [
       "  0%|          | 0/10 [00:00<?, ?it/s]"
      ]
     },
     "metadata": {},
     "output_type": "display_data"
    },
    {
     "name": "stdout",
     "output_type": "stream",
     "text": [
      "WARNING: not sure if single shot checking makes sense when there are multiple rounds of averaging... use at your own risk\n",
      "(4, 75, 100)\n",
      "best 2 0.011130835101122347\n",
      "Pi gain from amps data [dac units]: 7733\n",
      "\tPi/2 gain from amps data [dac units]: 3866\n",
      "Pi gain from avgi data [dac units]: 7461\n",
      "\tPi/2 gain from avgi data [dac units]: 3730\n",
      "Pi gain from avgq data [dac units]: 7387\n",
      "\tPi/2 gain from avgq data [dac units]: 3693\n"
     ]
    },
    {
     "name": "stderr",
     "output_type": "stream",
     "text": [
      "RuntimeWarning: More than 20 figures have been opened. Figures created through the pyplot interface (`matplotlib.pyplot.figure`) are retained until explicitly closed and may consume too much memory. (To control this warning, see the rcParam `figure.max_open_warning`). Consider using `matplotlib.pyplot.close()`.\n",
      " s:\\Seb\\experiements\\qram_tprocv1_expts\\experiments\\single_qubit\\amplitude_rabi.py: 418"
     ]
    },
    {
     "name": "stdout",
     "output_type": "stream",
     "text": [
      "updated pi_gain round 2 7387\n",
      "-------- Pi Minus Pi --------\n",
      "{'device': {'readout': {'trig_offset': 150, 'lo_sideband': [1, 1, 1, 1], 'frequency': [-389.975, 5795.761666663333, 502.368233333334, -228.9], 'gain': [0.4, 0.5, 0.3, 0.2], 'readout_length': [5, 20, 10, 8], 'frequency_ef': [-391.91408405, 5795.76166666, 500.44439227, -230.30732892], 'gain_ef': [0.05, 0.6, 0.4, 0.25], 'readout_length_ef': [1, 20, 10, 8], 'relax_delay': [450, 450, 450, 450]}, 'qubit': {'f_ge': [4108.6352143528575, 4103.243553024718, 4108.491689964749, 4108.054194573161, 3442.803706954971, 3448.25918515342, 3447.1485151091706, 3446.915870514596, 4759.495390230116, 4758.536112424677, 4759.612271171617, 4759.093894457347, 4377.466056020506, 4376.65632732359, 4377.47219792754, 4377.988666116248], 'f_ef': [3882.584812861004, 0.0, 0.0, 0.0, 0.0, 3347.8123422280078, 0.0, 0.0, 4571.9056482340775, 4571.009319367402, 4570.125075914433, 0.0, 4211.704645679207, 4206.869581627414, 0.0, 4205.162855964244], 'f_EgGf': [2686.53594683, 0, 2017.3, 2414.92850999], 'f_EgGf_Q_half': [0, 0, 5885.6717699723895, 5138], 'f_EgGf_Q': [0, 0, 5880.504550983305, 5132.386793750588], 'f_f0g1': [1184.4, 999.8, 1632.9833333333333, 1620.9166666666665], 'gs': [52.40296404695958, 54.81794456602636, 43.49513117058557, 4.930653352423196, 2.6415018214608046, 6.386231497692186], 'pulses': {'pi_ge': {'sigma': [0.02, 0.02, 0.02, 0.02, 0.025, 0.025, 0.025, 0.025, 0.015, 0.015, 0.015, 0.015, 0.025, 0.025, 0.025, 0.025], 'gain': [1849, 1914, 0, 1855, 2834, 2504, 2648, 2631, 9155, 9155, 9155, 9155, 3000, 3000, 3000, 3000], 'half_gain': [1850, 1835, 1873, 1867, 2382, 2186, 2248, 2289, 9253, 9253, 9253, 9253, 3120, 3120, 3120, 3120], 'half_correction_phase': [0, 0, 0, 0, 0, 0, 0, 0, 0, 0, 0, 0, 0, 0, 0, 0], 'half_gain_pi_sigma': [927, 0, 0, 0, 0, 1315, 0, 0, 0, 0, 7212, 0, 0, 0, 0, 460], 'type': 'gauss'}, 'pi_ef': {'sigma': [0.02, 0.02, 0.02, 0.02, 0.025, 0.025, 0.025, 0.025, 0.015, 0.015, 0.015, 0.015, 0.03, 0.03, 0.03, 0.03], 'gain': [1245, 0, 0, 0, 0, 1945, 0, 0, 0, 0, 6000, 0, 0, 0, 0, 1500], 'half_gain': [1243, 0, 0, 0, 0, 1619, 0, 0, 0, 6472, 6501, 0, 1427, 1601, 0, 1647], 'half_gain_pi_sigma': [673, 0, 0, 0, 0, 975, 0, 0, 0, 0, 3049, 0, 0, 0, 0, 1000], 'type': 'gauss'}, 'pi_EgGf': {'gain': [32000, 0, 30000, 16000], 'sigma': [0.586, 0, 0.8, 0.44643], 'type': 'flat_top'}, 'pi_EgGf_Q': {'half_gain': [0, 0, 12147, 14500], 'half_sigma': [0, 0, 0.231, 0.095], 'half_phase': [0, 0, 0.0, 0.0], 'gain': [0, 0, 24647, 24647], 'sigma': [0, 0, 0.245, 0.17], 'phase': [0, 0, 0.0, 0.0], 'type': 'flat_top'}, 'pi_f0g1': {'gain': [32000, 32000, 32000, 32000], 'sigma': [0.536, 0.585, 1.54, 1.04], 'idle': [3, 6, 12, 8], 'type': 'flat_top'}, 'pulse_pp': {'gain': [1750, 3550, 0, 0], 'filename': '240920_3_qram_4q_2qubit_++gg'}, 'pulse_1p': {'gain': [3500, 4375, 0, 0], 'filename': '240920_qram_4q_2qubit_e+gg'}, 'pulse_p1': {'gain': [3000, 5530, 0, 0], 'filename': '240920_qram_4q_2qubit_+egg'}, 'pihalf_ge_robust': {'gain': [7451, 7595, 7387, 7534, 4849, 4476, 4518, 4475, 20160, 20177, 20406, 20142, 12276, 12172, 12302, 12320], 'correction_phase': [12.771425603678084, 9.29781534792422, 1.8242193491293757, 1.8128390587788765, 0.46597040378175203, -0.28914046319009995, 0.6678177385391172, 1.0754762888754805, 3.0017251090114216, 3.7031106610299522, 3.183564832840096, 3.2384320807890035, 27.201443290550866, -6.995431316414082, -6.77604262269097, -3.118889112056552], 'filename': ['X_2_Q0', 'X_2_Q1', 'X_2_Q2', 'X_2_Q3']}, 'pi_ge_slow': {'gain': [-1, 100, -1, -1], 'sigma': [-1, 0.25, -1, -1], 'type': 'gauss'}, 'pi_Q1_ZZ_slow': {'gain': [100, 0, -1, -1], 'sigma': [0.25, 0, -1, -1], 'type': 'gauss'}}}}, 'hw': {'soc': {'dacs': {'qubit': {'ch': [0, 1, 2, 3], 'type': 'full', 'nyquist': [2, 1, 2, 2], 'mixer_freq': [0, 0, 0, 0]}, 'swap': {'ch': 1, 'type': 'full', 'nyquist': 1, 'mixer_freq': 0}, 'swap_f0g1': {'ch': [1, 1, 5, 5], 'type': ['full', 'full', 'full', 'full'], 'nyquist': 1, 'mixer_freq': 0}, 'swap_Q': {'ch': [0, -1, 2, 3], 'type': ['full', 'None', 'full', 'full'], 'nyquist': [2, 0, 2, 2], 'mixer_freq': 0}, 'readout': {'ch': [6, 4, 6, 6], 'full_mux_chs': [5, 4, 5, 5], 'type': ['mux4', 'full', 'mux4', 'mux4'], 'mixer_freq': [7200, 0, 7200, 7200], 'nyquist': [2, 2, 2, 2]}, 'res_pump': {'ch': 4, 'type': 'full', 'mixer_freq': 0, 'nyquist': 2}, 'delay_chs': {'ch': [0, 1, 2, 3, 4, 5, 6], 'delay_ns': [0.0, 2.0, 2.0, 0.0, 25, 24, 73]}}, 'adcs': {'readout': {'ch': [0, 1, 2, 3]}}}, 'lo': {'twpa': {'frequency': '8210.0e6', 'power': -1.5}, 'readout': {'frequency': 0, 'power': 0}}}, 'aliases': {'readout_LO': 'SC_20A1', 'twpa_LO': 'SC_26C1', 'soc': 'Qick_QRAM'}, 'expt': {'start_N': 0, 'step_N': 1, 'expts_N': 10, 'start_f': -4.5, 'step_f': 0.15, 'expts_f': 61, 'reps': 500, 'loops': 1, 'pulse_type': 'robust', 'checkEF': False, 'qTest': 0, 'qZZ': 2, 'test_pi_half': True, 'divide_len': True, 'post_process': 'threshold', 'singleshot_reps': 15000, 'full_mux_expt': False, 'resonator_reset': None, 'use_robust_pulses': True, 'sweep_phase': True}}\n"
     ]
    },
    {
     "data": {
      "application/vnd.jupyter.widget-view+json": {
       "model_id": "540f6bd57a9d45d9bf44ec926f779406",
       "version_major": 2,
       "version_minor": 0
      },
      "text/plain": [
       "  0%|          | 0/2 [00:00<?, ?it/s]"
      ]
     },
     "metadata": {},
     "output_type": "display_data"
    },
    {
     "name": "stdout",
     "output_type": "stream",
     "text": [
      "Qubit  (0)\n",
      "ge fidelity (%): 80.09278129653087 \t angle (deg): -101.19175060441964 \t threshold ge: 93.26853415141296\n"
     ]
    },
    {
     "data": {
      "application/vnd.jupyter.widget-view+json": {
       "model_id": "edb821cace034d62b8fca6232ef157e2",
       "version_major": 2,
       "version_minor": 0
      },
      "text/plain": [
       "  0%|          | 0/10 [00:00<?, ?it/s]"
      ]
     },
     "metadata": {},
     "output_type": "display_data"
    },
    {
     "name": "stdout",
     "output_type": "stream",
     "text": [
      "Fit best freq 1.6873378931133791 which is 1.6873378931133791 away from old freq 0\n",
      "Best virtual Z (deg) 12.148832830416332\n",
      "updated phase correction 12.148832830416332\n",
      "-------- Error amplification --------\n"
     ]
    },
    {
     "data": {
      "application/vnd.jupyter.widget-view+json": {
       "model_id": "acaa3967f4d044709a1fc85bdd313ee4",
       "version_major": 2,
       "version_minor": 0
      },
      "text/plain": [
       "  0%|          | 0/2 [00:00<?, ?it/s]"
      ]
     },
     "metadata": {},
     "output_type": "display_data"
    },
    {
     "name": "stdout",
     "output_type": "stream",
     "text": [
      "Qubit  (0)\n",
      "g unrotated averages:\n",
      "I -50.96339613715278 +/- 23.2491795252282 \t Q 47.02056775173612 +/- 32.01553523654624 \t Amp 73.83155183162344 +/- 30.374698957209283\n",
      "Rotated (theta=-1.796332887126457):\n",
      "I 57.2266488836988 +/- 32.658088806615346 \t Q 39.15753050269922 +/- 22.337593437477764 \t Amp 69.34119653948845 +/- 30.374698957209283\n",
      "e unrotated averages:\n",
      "I -69.06030794270833 +/- 23.511257402569047 \t Q 125.89479787326387 +/- 37.67060596412187 \t Amp 145.97471035843597 +/- 35.80592100220848\n",
      "Rotated (theta=-1.796332887126457):\n",
      "I 138.15033141336235 +/- 38.190898348146 \t Q 39.1575305026992 +/- 22.656324982564385 \t Amp 143.59257036731276 +/- 35.80592100220848\n",
      "ge fidelity (%): 78.33279729759764 \t angle (deg): -102.92229303289608 \t threshold ge: 97.69807320156437\n"
     ]
    },
    {
     "data": {
      "application/vnd.jupyter.widget-view+json": {
       "model_id": "4ffaab36fc3a4016a9dd903e1873dbad",
       "version_major": 2,
       "version_minor": 0
      },
      "text/plain": [
       "  0%|          | 0/20 [00:00<?, ?it/s]"
      ]
     },
     "metadata": {},
     "output_type": "display_data"
    },
    {
     "name": "stdout",
     "output_type": "stream",
     "text": [
      "fitparams [None, 0.017453292519943295]\n",
      "From amps: adjust amplitude to 7387 / 0.9865426698287626 = 7487.765330294518\n",
      "From avgi: adjust amplitude to 7387 / 0.9887755808750955 = 7470.856019181104\n",
      "From avgq: adjust amplitude to 7387 / 1.0133165722017226 = 7289.92321121287\n",
      "best 1 0.018180932515784197\n",
      "updated pi_gain from error amplification 7471\n",
      "\n",
      "\n",
      "\n",
      "######### BEGINNING QUBIT 0 WITH ZZ FROM 3 #########\n",
      "initial pi_len 0.02\n",
      "initial pi_gain 7534\n",
      "initial pi_freq 4108.054194573161\n",
      "-------- Ramsey --------\n",
      "ramsey freq 2.5\n",
      "Running Ramsey on Q0 with ZZ Q3\n"
     ]
    },
    {
     "data": {
      "application/vnd.jupyter.widget-view+json": {
       "model_id": "6cf6e2ece4c6407d8dd567175b67e9bd",
       "version_major": 2,
       "version_minor": 0
      },
      "text/plain": [
       "  0%|          | 0/10 [00:00<?, ?it/s]"
      ]
     },
     "metadata": {},
     "output_type": "display_data"
    },
    {
     "name": "stdout",
     "output_type": "stream",
     "text": [
      "WARNING: not sure if single shot checking makes sense when there are multiple rounds of averaging... use at your own risk\n",
      "best 2 0.04762263883069266\n",
      "Current pi pulse frequency: 4108.054194573161\n",
      "Fit frequency from amps [MHz]: 2.489074767978238 +/- 0.0036892889080549145\n",
      "Suggested new pi pulse frequencies from fit amps [MHz]:\n",
      " \t4108.065119805183\n",
      " \t4103.065119805183\n",
      "T2 Ramsey from fit amps [us]: 15.195806317088454 +/- 5.091010610022515\n",
      "Current pi pulse frequency: 4108.054194573161\n",
      "Fit frequency from I [MHz]: 2.487083888562502 +/- 0.0023147476443901387\n",
      "Suggested new pi pulse frequency from fit I [MHz]:\n",
      " \t4108.067110684598\n",
      " \t4103.067110684598\n",
      "T2 Ramsey from fit I [us]: 15.663472918558291 +/- 3.398303745742242\n",
      "Fit frequency from Q [MHz]: 2.4879061724251312 +/- 0.0019173607429939234\n",
      "Suggested new pi pulse frequencies from fit Q [MHz]:\n",
      " \t4108.066288400736\n",
      " \t4103.066288400736\n",
      "T2 Ramsey from fit Q [us]: 16.95196228071587 +/- 3.2950031677685043\n",
      "updated pi_freq 4108.066288400736\n",
      "-------- Amp rabi --------\n",
      "Running amp rabi on Q0 with ZZ Q3\n"
     ]
    },
    {
     "data": {
      "application/vnd.jupyter.widget-view+json": {
       "model_id": "318b406db73e4f8ab14cf387ffe964d0",
       "version_major": 2,
       "version_minor": 0
      },
      "text/plain": [
       "  0%|          | 0/10 [00:00<?, ?it/s]"
      ]
     },
     "metadata": {},
     "output_type": "display_data"
    },
    {
     "name": "stdout",
     "output_type": "stream",
     "text": [
      "WARNING: not sure if single shot checking makes sense when there are multiple rounds of averaging... use at your own risk\n",
      "(4, 75, 100)\n",
      "best 2 0.019268912989037892\n",
      "Pi gain from amps data [dac units]: 7699\n",
      "\tPi/2 gain from amps data [dac units]: 3849\n",
      "Pi gain from avgi data [dac units]: 7422\n",
      "\tPi/2 gain from avgi data [dac units]: 3711\n",
      "Pi gain from avgq data [dac units]: 7391\n",
      "\tPi/2 gain from avgq data [dac units]: 3695\n",
      "updated pi_gain round 2 7391\n",
      "-------- Pi Minus Pi --------\n",
      "{'device': {'readout': {'trig_offset': 150, 'lo_sideband': [1, 1, 1, 1], 'frequency': [-389.975, 5795.761666663333, 502.368233333334, -228.9], 'gain': [0.4, 0.5, 0.3, 0.2], 'readout_length': [5, 20, 10, 8], 'frequency_ef': [-391.91408405, 5795.76166666, 500.44439227, -230.30732892], 'gain_ef': [0.05, 0.6, 0.4, 0.25], 'readout_length_ef': [1, 20, 10, 8], 'relax_delay': [450, 450, 450, 450]}, 'qubit': {'f_ge': [4108.6352143528575, 4103.243553024718, 4108.491689964749, 4108.066288400736, 3442.803706954971, 3448.25918515342, 3447.1485151091706, 3446.915870514596, 4759.495390230116, 4758.536112424677, 4759.612271171617, 4759.093894457347, 4377.466056020506, 4376.65632732359, 4377.47219792754, 4377.988666116248], 'f_ef': [3882.584812861004, 0.0, 0.0, 0.0, 0.0, 3347.8123422280078, 0.0, 0.0, 4571.9056482340775, 4571.009319367402, 4570.125075914433, 0.0, 4211.704645679207, 4206.869581627414, 0.0, 4205.162855964244], 'f_EgGf': [2686.53594683, 0, 2017.3, 2414.92850999], 'f_EgGf_Q_half': [0, 0, 5885.6717699723895, 5138], 'f_EgGf_Q': [0, 0, 5880.504550983305, 5132.386793750588], 'f_f0g1': [1184.4, 999.8, 1632.9833333333333, 1620.9166666666665], 'gs': [52.40296404695958, 54.81794456602636, 43.49513117058557, 4.930653352423196, 2.6415018214608046, 6.386231497692186], 'pulses': {'pi_ge': {'sigma': [0.02, 0.02, 0.02, 0.02, 0.025, 0.025, 0.025, 0.025, 0.015, 0.015, 0.015, 0.015, 0.025, 0.025, 0.025, 0.025], 'gain': [1849, 1914, 0, 1855, 2834, 2504, 2648, 2631, 9155, 9155, 9155, 9155, 3000, 3000, 3000, 3000], 'half_gain': [1850, 1835, 1873, 1867, 2382, 2186, 2248, 2289, 9253, 9253, 9253, 9253, 3120, 3120, 3120, 3120], 'half_correction_phase': [0, 0, 0, 0, 0, 0, 0, 0, 0, 0, 0, 0, 0, 0, 0, 0], 'half_gain_pi_sigma': [927, 0, 0, 0, 0, 1315, 0, 0, 0, 0, 7212, 0, 0, 0, 0, 460], 'type': 'gauss'}, 'pi_ef': {'sigma': [0.02, 0.02, 0.02, 0.02, 0.025, 0.025, 0.025, 0.025, 0.015, 0.015, 0.015, 0.015, 0.03, 0.03, 0.03, 0.03], 'gain': [1245, 0, 0, 0, 0, 1945, 0, 0, 0, 0, 6000, 0, 0, 0, 0, 1500], 'half_gain': [1243, 0, 0, 0, 0, 1619, 0, 0, 0, 6472, 6501, 0, 1427, 1601, 0, 1647], 'half_gain_pi_sigma': [673, 0, 0, 0, 0, 975, 0, 0, 0, 0, 3049, 0, 0, 0, 0, 1000], 'type': 'gauss'}, 'pi_EgGf': {'gain': [32000, 0, 30000, 16000], 'sigma': [0.586, 0, 0.8, 0.44643], 'type': 'flat_top'}, 'pi_EgGf_Q': {'half_gain': [0, 0, 12147, 14500], 'half_sigma': [0, 0, 0.231, 0.095], 'half_phase': [0, 0, 0.0, 0.0], 'gain': [0, 0, 24647, 24647], 'sigma': [0, 0, 0.245, 0.17], 'phase': [0, 0, 0.0, 0.0], 'type': 'flat_top'}, 'pi_f0g1': {'gain': [32000, 32000, 32000, 32000], 'sigma': [0.536, 0.585, 1.54, 1.04], 'idle': [3, 6, 12, 8], 'type': 'flat_top'}, 'pulse_pp': {'gain': [1750, 3550, 0, 0], 'filename': '240920_3_qram_4q_2qubit_++gg'}, 'pulse_1p': {'gain': [3500, 4375, 0, 0], 'filename': '240920_qram_4q_2qubit_e+gg'}, 'pulse_p1': {'gain': [3000, 5530, 0, 0], 'filename': '240920_qram_4q_2qubit_+egg'}, 'pihalf_ge_robust': {'gain': [7451, 7595, 7471, 7391, 4849, 4476, 4518, 4475, 20160, 20177, 20406, 20142, 12276, 12172, 12302, 12320], 'correction_phase': [12.771425603678084, 9.29781534792422, 12.148832830416332, 1.8128390587788765, 0.46597040378175203, -0.28914046319009995, 0.6678177385391172, 1.0754762888754805, 3.0017251090114216, 3.7031106610299522, 3.183564832840096, 3.2384320807890035, 27.201443290550866, -6.995431316414082, -6.77604262269097, -3.118889112056552], 'filename': ['X_2_Q0', 'X_2_Q1', 'X_2_Q2', 'X_2_Q3']}, 'pi_ge_slow': {'gain': [-1, 100, -1, -1], 'sigma': [-1, 0.25, -1, -1], 'type': 'gauss'}, 'pi_Q1_ZZ_slow': {'gain': [100, 0, -1, -1], 'sigma': [0.25, 0, -1, -1], 'type': 'gauss'}}}}, 'hw': {'soc': {'dacs': {'qubit': {'ch': [0, 1, 2, 3], 'type': 'full', 'nyquist': [2, 1, 2, 2], 'mixer_freq': [0, 0, 0, 0]}, 'swap': {'ch': 1, 'type': 'full', 'nyquist': 1, 'mixer_freq': 0}, 'swap_f0g1': {'ch': [1, 1, 5, 5], 'type': ['full', 'full', 'full', 'full'], 'nyquist': 1, 'mixer_freq': 0}, 'swap_Q': {'ch': [0, -1, 2, 3], 'type': ['full', 'None', 'full', 'full'], 'nyquist': [2, 0, 2, 2], 'mixer_freq': 0}, 'readout': {'ch': [6, 4, 6, 6], 'full_mux_chs': [5, 4, 5, 5], 'type': ['mux4', 'full', 'mux4', 'mux4'], 'mixer_freq': [7200, 0, 7200, 7200], 'nyquist': [2, 2, 2, 2]}, 'res_pump': {'ch': 4, 'type': 'full', 'mixer_freq': 0, 'nyquist': 2}, 'delay_chs': {'ch': [0, 1, 2, 3, 4, 5, 6], 'delay_ns': [0.0, 2.0, 2.0, 0.0, 25, 24, 73]}}, 'adcs': {'readout': {'ch': [0, 1, 2, 3]}}}, 'lo': {'twpa': {'frequency': '8210.0e6', 'power': -1.5}, 'readout': {'frequency': 0, 'power': 0}}}, 'aliases': {'readout_LO': 'SC_20A1', 'twpa_LO': 'SC_26C1', 'soc': 'Qick_QRAM'}, 'expt': {'start_N': 0, 'step_N': 1, 'expts_N': 10, 'start_f': -4.5, 'step_f': 0.15, 'expts_f': 61, 'reps': 500, 'loops': 1, 'pulse_type': 'robust', 'checkEF': False, 'qTest': 0, 'qZZ': 3, 'test_pi_half': True, 'divide_len': True, 'post_process': 'threshold', 'singleshot_reps': 15000, 'full_mux_expt': False, 'resonator_reset': None, 'use_robust_pulses': True, 'sweep_phase': True}}\n"
     ]
    },
    {
     "data": {
      "application/vnd.jupyter.widget-view+json": {
       "model_id": "a72f10f9265440f496c264c3759b022e",
       "version_major": 2,
       "version_minor": 0
      },
      "text/plain": [
       "  0%|          | 0/2 [00:00<?, ?it/s]"
      ]
     },
     "metadata": {},
     "output_type": "display_data"
    },
    {
     "name": "stdout",
     "output_type": "stream",
     "text": [
      "Qubit  (0)\n",
      "ge fidelity (%): 79.93280440918284 \t angle (deg): -105.51109861996991 \t threshold ge: 93.398321265606\n"
     ]
    },
    {
     "data": {
      "application/vnd.jupyter.widget-view+json": {
       "model_id": "0dc5514f970e4745aea5397ca39e4e5f",
       "version_major": 2,
       "version_minor": 0
      },
      "text/plain": [
       "  0%|          | 0/10 [00:00<?, ?it/s]"
      ]
     },
     "metadata": {},
     "output_type": "display_data"
    },
    {
     "name": "stdout",
     "output_type": "stream",
     "text": [
      "Fit best freq 1.7509212680584276 which is 1.7509212680584276 away from old freq 0\n",
      "Best virtual Z (deg) 12.606633130020677\n",
      "updated phase correction 12.606633130020677\n",
      "-------- Error amplification --------\n"
     ]
    },
    {
     "data": {
      "application/vnd.jupyter.widget-view+json": {
       "model_id": "60a1b38854cb4a08856282e9377671dc",
       "version_major": 2,
       "version_minor": 0
      },
      "text/plain": [
       "  0%|          | 0/2 [00:00<?, ?it/s]"
      ]
     },
     "metadata": {},
     "output_type": "display_data"
    },
    {
     "name": "stdout",
     "output_type": "stream",
     "text": [
      "Qubit  (0)\n",
      "g unrotated averages:\n",
      "I -54.246203038194444 +/- 23.864909462283492 \t Q 39.883327734375 +/- 30.691299791059205 \t Amp 71.92774605127524 +/- 29.516427794018398\n",
      "Rotated (theta=-1.8954160310533097):\n",
      "I 55.10204319123018 +/- 31.654976296955358 \t Q 38.692314629398766 +/- 22.57104920350078 \t Amp 67.33001095520913 +/- 29.516427794018398\n",
      "e unrotated averages:\n",
      "I -80.25177065972223 +/- 24.427205968475104 \t Q 117.160257421875 +/- 38.092887298087184 \t Amp 144.48862095770895 +/- 36.57413677793718\n",
      "Rotated (theta=-1.8954160310533097):\n",
      "I 136.63739386346725 +/- 39.1967878527957 \t Q 38.69231462939875 +/- 22.61345343272461 \t Amp 142.01011447492274 +/- 36.57413677793718\n",
      "ge fidelity (%): 78.3261412983088 \t angle (deg): -108.59933900079203 \t threshold ge: 92.6555095639392\n"
     ]
    },
    {
     "data": {
      "application/vnd.jupyter.widget-view+json": {
       "model_id": "634a0a1fc7f84bc98e40d3755852c96f",
       "version_major": 2,
       "version_minor": 0
      },
      "text/plain": [
       "  0%|          | 0/20 [00:00<?, ?it/s]"
      ]
     },
     "metadata": {},
     "output_type": "display_data"
    },
    {
     "name": "stdout",
     "output_type": "stream",
     "text": [
      "fitparams [None, 0.017453292519943295]\n",
      "From amps: adjust amplitude to 7391 / 0.999441096626782 = 7395.133164871242\n",
      "From avgi: adjust amplitude to 7391 / 0.988016975311941 = 7480.640702217167\n",
      "From avgq: adjust amplitude to 7391 / 1.0004003730121342 = 7388.042027359732\n",
      "best 1 0.02072835722058044\n",
      "updated pi_gain from error amplification 7481\n",
      "\n",
      "\n",
      "\n",
      "######### BEGINNING QUBIT 1 WITH ZZ FROM 0 #########\n",
      "initial pi_len 0.025\n",
      "initial pi_gain 4849\n",
      "initial pi_freq 3442.803706954971\n",
      "-------- Ramsey --------\n",
      "ramsey freq 2.5\n",
      "Running Ramsey on Q1 with ZZ Q0\n"
     ]
    },
    {
     "data": {
      "application/vnd.jupyter.widget-view+json": {
       "model_id": "caf374c77d8c4c339ab7f3c56a1003ca",
       "version_major": 2,
       "version_minor": 0
      },
      "text/plain": [
       "  0%|          | 0/10 [00:00<?, ?it/s]"
      ]
     },
     "metadata": {},
     "output_type": "display_data"
    },
    {
     "name": "stdout",
     "output_type": "stream",
     "text": [
      "WARNING: not sure if single shot checking makes sense when there are multiple rounds of averaging... use at your own risk\n",
      "best 1 0.03691179971147596\n",
      "Current pi pulse frequency: 3442.803706954971\n",
      "Fit frequency from amps [MHz]: 2.4391998316967873 +/- 0.0029535906716598123\n",
      "Suggested new pi pulse frequencies from fit amps [MHz]:\n",
      " \t3442.864507123274\n",
      " \t3437.864507123274\n",
      "T2 Ramsey from fit amps [us]: 24.017835290604445 +/- 10.649235447409346\n",
      "Current pi pulse frequency: 3442.803706954971\n",
      "Fit frequency from I [MHz]: 2.434897208141568 +/- 0.001276750094719614\n",
      "Suggested new pi pulse frequency from fit I [MHz]:\n",
      " \t3442.8688097468294\n",
      " \t3437.8688097468294\n",
      "T2 Ramsey from fit I [us]: 19.435687097298963 +/- 3.0296525427578516\n",
      "Fit frequency from Q [MHz]: 2.4360936004977845 +/- 0.0016512181201586917\n",
      "Suggested new pi pulse frequencies from fit Q [MHz]:\n",
      " \t3442.867613354473\n",
      " \t3437.867613354473\n",
      "T2 Ramsey from fit Q [us]: 21.91927017894718 +/- 4.976760419922826\n",
      "updated pi_freq 3442.8688097468294\n",
      "-------- Amp rabi --------\n",
      "Running amp rabi on Q1 with ZZ Q0\n"
     ]
    },
    {
     "data": {
      "application/vnd.jupyter.widget-view+json": {
       "model_id": "be9dddc77cd2493c8f38b02ee4e42f07",
       "version_major": 2,
       "version_minor": 0
      },
      "text/plain": [
       "  0%|          | 0/10 [00:00<?, ?it/s]"
      ]
     },
     "metadata": {},
     "output_type": "display_data"
    },
    {
     "name": "stdout",
     "output_type": "stream",
     "text": [
      "WARNING: not sure if single shot checking makes sense when there are multiple rounds of averaging... use at your own risk\n",
      "(4, 75, 100)\n",
      "best 1 0.009029441996817081\n",
      "Pi gain from amps data [dac units]: 4672\n",
      "\tPi/2 gain from amps data [dac units]: 2336\n",
      "Pi gain from avgi data [dac units]: 4787\n",
      "\tPi/2 gain from avgi data [dac units]: 2393\n",
      "Pi gain from avgq data [dac units]: 4812\n",
      "\tPi/2 gain from avgq data [dac units]: 2406\n",
      "updated pi_gain round 2 4787\n",
      "-------- Pi Minus Pi --------\n",
      "{'device': {'readout': {'trig_offset': 150, 'lo_sideband': [1, 1, 1, 1], 'frequency': [-389.975, 5795.761666663333, 502.368233333334, -228.9], 'gain': [0.4, 0.5, 0.3, 0.2], 'readout_length': [5, 20, 10, 8], 'frequency_ef': [-391.91408405, 5795.76166666, 500.44439227, -230.30732892], 'gain_ef': [0.05, 0.6, 0.4, 0.25], 'readout_length_ef': [1, 20, 10, 8], 'relax_delay': [450, 450, 450, 450]}, 'qubit': {'f_ge': [4108.6352143528575, 4103.243553024718, 4108.491689964749, 4108.066288400736, 3442.8688097468294, 3448.25918515342, 3447.1485151091706, 3446.915870514596, 4759.495390230116, 4758.536112424677, 4759.612271171617, 4759.093894457347, 4377.466056020506, 4376.65632732359, 4377.47219792754, 4377.988666116248], 'f_ef': [3882.584812861004, 0.0, 0.0, 0.0, 0.0, 3347.8123422280078, 0.0, 0.0, 4571.9056482340775, 4571.009319367402, 4570.125075914433, 0.0, 4211.704645679207, 4206.869581627414, 0.0, 4205.162855964244], 'f_EgGf': [2686.53594683, 0, 2017.3, 2414.92850999], 'f_EgGf_Q_half': [0, 0, 5885.6717699723895, 5138], 'f_EgGf_Q': [0, 0, 5880.504550983305, 5132.386793750588], 'f_f0g1': [1184.4, 999.8, 1632.9833333333333, 1620.9166666666665], 'gs': [52.40296404695958, 54.81794456602636, 43.49513117058557, 4.930653352423196, 2.6415018214608046, 6.386231497692186], 'pulses': {'pi_ge': {'sigma': [0.02, 0.02, 0.02, 0.02, 0.025, 0.025, 0.025, 0.025, 0.015, 0.015, 0.015, 0.015, 0.025, 0.025, 0.025, 0.025], 'gain': [1849, 1914, 0, 1855, 2834, 2504, 2648, 2631, 9155, 9155, 9155, 9155, 3000, 3000, 3000, 3000], 'half_gain': [1850, 1835, 1873, 1867, 2382, 2186, 2248, 2289, 9253, 9253, 9253, 9253, 3120, 3120, 3120, 3120], 'half_correction_phase': [0, 0, 0, 0, 0, 0, 0, 0, 0, 0, 0, 0, 0, 0, 0, 0], 'half_gain_pi_sigma': [927, 0, 0, 0, 0, 1315, 0, 0, 0, 0, 7212, 0, 0, 0, 0, 460], 'type': 'gauss'}, 'pi_ef': {'sigma': [0.02, 0.02, 0.02, 0.02, 0.025, 0.025, 0.025, 0.025, 0.015, 0.015, 0.015, 0.015, 0.03, 0.03, 0.03, 0.03], 'gain': [1245, 0, 0, 0, 0, 1945, 0, 0, 0, 0, 6000, 0, 0, 0, 0, 1500], 'half_gain': [1243, 0, 0, 0, 0, 1619, 0, 0, 0, 6472, 6501, 0, 1427, 1601, 0, 1647], 'half_gain_pi_sigma': [673, 0, 0, 0, 0, 975, 0, 0, 0, 0, 3049, 0, 0, 0, 0, 1000], 'type': 'gauss'}, 'pi_EgGf': {'gain': [32000, 0, 30000, 16000], 'sigma': [0.586, 0, 0.8, 0.44643], 'type': 'flat_top'}, 'pi_EgGf_Q': {'half_gain': [0, 0, 12147, 14500], 'half_sigma': [0, 0, 0.231, 0.095], 'half_phase': [0, 0, 0.0, 0.0], 'gain': [0, 0, 24647, 24647], 'sigma': [0, 0, 0.245, 0.17], 'phase': [0, 0, 0.0, 0.0], 'type': 'flat_top'}, 'pi_f0g1': {'gain': [32000, 32000, 32000, 32000], 'sigma': [0.536, 0.585, 1.54, 1.04], 'idle': [3, 6, 12, 8], 'type': 'flat_top'}, 'pulse_pp': {'gain': [1750, 3550, 0, 0], 'filename': '240920_3_qram_4q_2qubit_++gg'}, 'pulse_1p': {'gain': [3500, 4375, 0, 0], 'filename': '240920_qram_4q_2qubit_e+gg'}, 'pulse_p1': {'gain': [3000, 5530, 0, 0], 'filename': '240920_qram_4q_2qubit_+egg'}, 'pihalf_ge_robust': {'gain': [7451, 7595, 7471, 7481, 4787, 4476, 4518, 4475, 20160, 20177, 20406, 20142, 12276, 12172, 12302, 12320], 'correction_phase': [12.771425603678084, 9.29781534792422, 12.148832830416332, 12.606633130020677, 0.46597040378175203, -0.28914046319009995, 0.6678177385391172, 1.0754762888754805, 3.0017251090114216, 3.7031106610299522, 3.183564832840096, 3.2384320807890035, 27.201443290550866, -6.995431316414082, -6.77604262269097, -3.118889112056552], 'filename': ['X_2_Q0', 'X_2_Q1', 'X_2_Q2', 'X_2_Q3']}, 'pi_ge_slow': {'gain': [-1, 100, -1, -1], 'sigma': [-1, 0.25, -1, -1], 'type': 'gauss'}, 'pi_Q1_ZZ_slow': {'gain': [100, 0, -1, -1], 'sigma': [0.25, 0, -1, -1], 'type': 'gauss'}}}}, 'hw': {'soc': {'dacs': {'qubit': {'ch': [0, 1, 2, 3], 'type': 'full', 'nyquist': [2, 1, 2, 2], 'mixer_freq': [0, 0, 0, 0]}, 'swap': {'ch': 1, 'type': 'full', 'nyquist': 1, 'mixer_freq': 0}, 'swap_f0g1': {'ch': [1, 1, 5, 5], 'type': ['full', 'full', 'full', 'full'], 'nyquist': 1, 'mixer_freq': 0}, 'swap_Q': {'ch': [0, -1, 2, 3], 'type': ['full', 'None', 'full', 'full'], 'nyquist': [2, 0, 2, 2], 'mixer_freq': 0}, 'readout': {'ch': [6, 4, 6, 6], 'full_mux_chs': [5, 4, 5, 5], 'type': ['mux4', 'full', 'mux4', 'mux4'], 'mixer_freq': [7200, 0, 7200, 7200], 'nyquist': [2, 2, 2, 2]}, 'res_pump': {'ch': 4, 'type': 'full', 'mixer_freq': 0, 'nyquist': 2}, 'delay_chs': {'ch': [0, 1, 2, 3, 4, 5, 6], 'delay_ns': [0.0, 2.0, 2.0, 0.0, 25, 24, 73]}}, 'adcs': {'readout': {'ch': [0, 1, 2, 3]}}}, 'lo': {'twpa': {'frequency': '8210.0e6', 'power': -1.5}, 'readout': {'frequency': 0, 'power': 0}}}, 'aliases': {'readout_LO': 'SC_20A1', 'twpa_LO': 'SC_26C1', 'soc': 'Qick_QRAM'}, 'expt': {'start_N': 0, 'step_N': 1, 'expts_N': 10, 'start_f': -4.5, 'step_f': 0.15, 'expts_f': 61, 'reps': 500, 'loops': 1, 'pulse_type': 'robust', 'checkEF': False, 'qTest': 1, 'qZZ': 0, 'test_pi_half': True, 'divide_len': True, 'post_process': 'threshold', 'singleshot_reps': 15000, 'full_mux_expt': False, 'resonator_reset': None, 'use_robust_pulses': True, 'sweep_phase': True}}\n"
     ]
    },
    {
     "data": {
      "application/vnd.jupyter.widget-view+json": {
       "model_id": "3ce6ec9d74a741f988a33941142c0876",
       "version_major": 2,
       "version_minor": 0
      },
      "text/plain": [
       "  0%|          | 0/2 [00:00<?, ?it/s]"
      ]
     },
     "metadata": {},
     "output_type": "display_data"
    },
    {
     "name": "stdout",
     "output_type": "stream",
     "text": [
      "Qubit  (1)\n",
      "ge fidelity (%): 73.53333333333332 \t angle (deg): 13.294859215482646 \t threshold ge: 28.705198486811128\n"
     ]
    },
    {
     "data": {
      "application/vnd.jupyter.widget-view+json": {
       "model_id": "c48be4271c444f41b8e634a4404dd3b1",
       "version_major": 2,
       "version_minor": 0
      },
      "text/plain": [
       "  0%|          | 0/10 [00:00<?, ?it/s]"
      ]
     },
     "metadata": {},
     "output_type": "display_data"
    },
    {
     "name": "stdout",
     "output_type": "stream",
     "text": [
      "Fit best freq 0.05822887757314299 which is 0.05822887757314299 away from old freq 0\n",
      "Best virtual Z (deg) 0.5240598981582869\n",
      "updated phase correction 0.5240598981582869\n",
      "-------- Error amplification --------\n"
     ]
    },
    {
     "data": {
      "application/vnd.jupyter.widget-view+json": {
       "model_id": "de3fa3ba90a34babb75f1c5f3207a2f5",
       "version_major": 2,
       "version_minor": 0
      },
      "text/plain": [
       "  0%|          | 0/2 [00:00<?, ?it/s]"
      ]
     },
     "metadata": {},
     "output_type": "display_data"
    },
    {
     "name": "stdout",
     "output_type": "stream",
     "text": [
      "Qubit  (1)\n",
      "g unrotated averages:\n",
      "I -0.8033868815104167 +/- 15.579667465737725 \t Q -48.7574355360243 +/- 15.893835377545772 \t Amp 51.20998638077803 +/- 15.836991089312694\n",
      "Rotated (theta=0.21819254423873016):\n",
      "I 9.76995780544493 +/- 15.620757353073587 \t Q -47.77531658723753 +/- 15.853453285259004 \t Amp 48.76405387712294 +/- 15.836991089312694\n",
      "e unrotated averages:\n",
      "I 34.890765538194444 +/- 18.918995328373423 \t Q -56.67162680121528 +/- 14.321575500480252 \t Amp 68.86904611258579 +/- 15.783827188960899\n",
      "Rotated (theta=0.21819254423873016):\n",
      "I 46.33096080513228 +/- 19.321652818077396 \t Q -47.77531658723755 +/- 13.773512312720143 \t Amp 66.55102406528 +/- 15.783827188960899\n",
      "ge fidelity (%): 73.94666666666666 \t angle (deg): 12.501511906100745 \t threshold ge: 28.468540184654444\n"
     ]
    },
    {
     "data": {
      "application/vnd.jupyter.widget-view+json": {
       "model_id": "b90376631d6e4d2c8346049442f8e505",
       "version_major": 2,
       "version_minor": 0
      },
      "text/plain": [
       "  0%|          | 0/20 [00:00<?, ?it/s]"
      ]
     },
     "metadata": {},
     "output_type": "display_data"
    },
    {
     "name": "stdout",
     "output_type": "stream",
     "text": [
      "fitparams [None, 0.017453292519943295]\n",
      "From amps: adjust amplitude to 4787 / 0.9364387357031382 = 5111.920104848732\n",
      "From avgi: adjust amplitude to 4787 / 0.994345762869006 = 4814.220745697122\n",
      "From avgq: adjust amplitude to 4787 / 0.9364399714779759 = 5111.913358893379\n",
      "best 1 0.07182206451798527\n",
      "updated pi_gain from error amplification 4814\n",
      "\n",
      "\n",
      "\n",
      "######### BEGINNING QUBIT 1 WITH ZZ FROM 1 #########\n",
      "initial pi_len 0.025\n",
      "initial pi_gain 4476\n",
      "initial pi_freq 3448.25918515342\n",
      "-------- Ramsey --------\n",
      "ramsey freq 2.5\n",
      "Running Ramsey on Q1 \n"
     ]
    },
    {
     "data": {
      "application/vnd.jupyter.widget-view+json": {
       "model_id": "9a45188f07fc4cbb8584b63a0c14ba76",
       "version_major": 2,
       "version_minor": 0
      },
      "text/plain": [
       "  0%|          | 0/10 [00:00<?, ?it/s]"
      ]
     },
     "metadata": {},
     "output_type": "display_data"
    },
    {
     "name": "stdout",
     "output_type": "stream",
     "text": [
      "WARNING: not sure if single shot checking makes sense when there are multiple rounds of averaging... use at your own risk\n",
      "best 1 0.0492604183070486\n",
      "Current pi pulse frequency: 3448.25918515342\n",
      "Fit frequency from amps [MHz]: 2.505093167380796 +/- 0.0061053402287307304\n",
      "Suggested new pi pulse frequencies from fit amps [MHz]:\n",
      " \t3448.254091986039\n",
      " \t3443.254091986039\n",
      "T2 Ramsey from fit amps [us]: 12.62501399876185 +/- 5.950042810754172\n",
      "Current pi pulse frequency: 3448.25918515342\n",
      "Fit frequency from I [MHz]: 2.4994654791320485 +/- 0.0011253911274557214\n",
      "Suggested new pi pulse frequency from fit I [MHz]:\n",
      " \t3448.2597196742877\n",
      " \t3443.2597196742877\n",
      "T2 Ramsey from fit I [us]: 31.839280701304364 +/- 6.990756689036484\n",
      "Fit frequency from Q [MHz]: 2.4967222497876103 +/- 0.005277727718649879\n",
      "Suggested new pi pulse frequencies from fit Q [MHz]:\n",
      " \t3448.2624629036322\n",
      " \t3443.2624629036322\n",
      "T2 Ramsey from fit Q [us]: 29.124353352469747 +/- 27.470714918086983\n",
      "updated pi_freq 3448.2597196742877\n",
      "-------- Amp rabi --------\n",
      "Running amp rabi on Q1 \n"
     ]
    },
    {
     "data": {
      "application/vnd.jupyter.widget-view+json": {
       "model_id": "5780bcd4c6164fc091b5842f5c58f8bb",
       "version_major": 2,
       "version_minor": 0
      },
      "text/plain": [
       "  0%|          | 0/10 [00:00<?, ?it/s]"
      ]
     },
     "metadata": {},
     "output_type": "display_data"
    },
    {
     "name": "stdout",
     "output_type": "stream",
     "text": [
      "WARNING: not sure if single shot checking makes sense when there are multiple rounds of averaging... use at your own risk\n",
      "(4, 75, 100)\n",
      "best 1 0.0091978965163996\n",
      "Pi gain from amps data [dac units]: 5102\n",
      "\tPi/2 gain from amps data [dac units]: 2551\n",
      "Pi gain from avgi data [dac units]: 4464\n",
      "\tPi/2 gain from avgi data [dac units]: 2232\n",
      "Pi gain from avgq data [dac units]: 4495\n",
      "\tPi/2 gain from avgq data [dac units]: 2247\n",
      "updated pi_gain round 2 4464\n",
      "-------- Pi Minus Pi --------\n",
      "{'device': {'readout': {'trig_offset': 150, 'lo_sideband': [1, 1, 1, 1], 'frequency': [-389.975, 5795.761666663333, 502.368233333334, -228.9], 'gain': [0.4, 0.5, 0.3, 0.2], 'readout_length': [5, 20, 10, 8], 'frequency_ef': [-391.91408405, 5795.76166666, 500.44439227, -230.30732892], 'gain_ef': [0.05, 0.6, 0.4, 0.25], 'readout_length_ef': [1, 20, 10, 8], 'relax_delay': [450, 450, 450, 450]}, 'qubit': {'f_ge': [4108.6352143528575, 4103.243553024718, 4108.491689964749, 4108.066288400736, 3442.8688097468294, 3448.2597196742877, 3447.1485151091706, 3446.915870514596, 4759.495390230116, 4758.536112424677, 4759.612271171617, 4759.093894457347, 4377.466056020506, 4376.65632732359, 4377.47219792754, 4377.988666116248], 'f_ef': [3882.584812861004, 0.0, 0.0, 0.0, 0.0, 3347.8123422280078, 0.0, 0.0, 4571.9056482340775, 4571.009319367402, 4570.125075914433, 0.0, 4211.704645679207, 4206.869581627414, 0.0, 4205.162855964244], 'f_EgGf': [2686.53594683, 0, 2017.3, 2414.92850999], 'f_EgGf_Q_half': [0, 0, 5885.6717699723895, 5138], 'f_EgGf_Q': [0, 0, 5880.504550983305, 5132.386793750588], 'f_f0g1': [1184.4, 999.8, 1632.9833333333333, 1620.9166666666665], 'gs': [52.40296404695958, 54.81794456602636, 43.49513117058557, 4.930653352423196, 2.6415018214608046, 6.386231497692186], 'pulses': {'pi_ge': {'sigma': [0.02, 0.02, 0.02, 0.02, 0.025, 0.025, 0.025, 0.025, 0.015, 0.015, 0.015, 0.015, 0.025, 0.025, 0.025, 0.025], 'gain': [1849, 1914, 0, 1855, 2834, 2504, 2648, 2631, 9155, 9155, 9155, 9155, 3000, 3000, 3000, 3000], 'half_gain': [1850, 1835, 1873, 1867, 2382, 2186, 2248, 2289, 9253, 9253, 9253, 9253, 3120, 3120, 3120, 3120], 'half_correction_phase': [0, 0, 0, 0, 0, 0, 0, 0, 0, 0, 0, 0, 0, 0, 0, 0], 'half_gain_pi_sigma': [927, 0, 0, 0, 0, 1315, 0, 0, 0, 0, 7212, 0, 0, 0, 0, 460], 'type': 'gauss'}, 'pi_ef': {'sigma': [0.02, 0.02, 0.02, 0.02, 0.025, 0.025, 0.025, 0.025, 0.015, 0.015, 0.015, 0.015, 0.03, 0.03, 0.03, 0.03], 'gain': [1245, 0, 0, 0, 0, 1945, 0, 0, 0, 0, 6000, 0, 0, 0, 0, 1500], 'half_gain': [1243, 0, 0, 0, 0, 1619, 0, 0, 0, 6472, 6501, 0, 1427, 1601, 0, 1647], 'half_gain_pi_sigma': [673, 0, 0, 0, 0, 975, 0, 0, 0, 0, 3049, 0, 0, 0, 0, 1000], 'type': 'gauss'}, 'pi_EgGf': {'gain': [32000, 0, 30000, 16000], 'sigma': [0.586, 0, 0.8, 0.44643], 'type': 'flat_top'}, 'pi_EgGf_Q': {'half_gain': [0, 0, 12147, 14500], 'half_sigma': [0, 0, 0.231, 0.095], 'half_phase': [0, 0, 0.0, 0.0], 'gain': [0, 0, 24647, 24647], 'sigma': [0, 0, 0.245, 0.17], 'phase': [0, 0, 0.0, 0.0], 'type': 'flat_top'}, 'pi_f0g1': {'gain': [32000, 32000, 32000, 32000], 'sigma': [0.536, 0.585, 1.54, 1.04], 'idle': [3, 6, 12, 8], 'type': 'flat_top'}, 'pulse_pp': {'gain': [1750, 3550, 0, 0], 'filename': '240920_3_qram_4q_2qubit_++gg'}, 'pulse_1p': {'gain': [3500, 4375, 0, 0], 'filename': '240920_qram_4q_2qubit_e+gg'}, 'pulse_p1': {'gain': [3000, 5530, 0, 0], 'filename': '240920_qram_4q_2qubit_+egg'}, 'pihalf_ge_robust': {'gain': [7451, 7595, 7471, 7481, 4814, 4464, 4518, 4475, 20160, 20177, 20406, 20142, 12276, 12172, 12302, 12320], 'correction_phase': [12.771425603678084, 9.29781534792422, 12.148832830416332, 12.606633130020677, 0.5240598981582869, -0.28914046319009995, 0.6678177385391172, 1.0754762888754805, 3.0017251090114216, 3.7031106610299522, 3.183564832840096, 3.2384320807890035, 27.201443290550866, -6.995431316414082, -6.77604262269097, -3.118889112056552], 'filename': ['X_2_Q0', 'X_2_Q1', 'X_2_Q2', 'X_2_Q3']}, 'pi_ge_slow': {'gain': [-1, 100, -1, -1], 'sigma': [-1, 0.25, -1, -1], 'type': 'gauss'}, 'pi_Q1_ZZ_slow': {'gain': [100, 0, -1, -1], 'sigma': [0.25, 0, -1, -1], 'type': 'gauss'}}}}, 'hw': {'soc': {'dacs': {'qubit': {'ch': [0, 1, 2, 3], 'type': 'full', 'nyquist': [2, 1, 2, 2], 'mixer_freq': [0, 0, 0, 0]}, 'swap': {'ch': 1, 'type': 'full', 'nyquist': 1, 'mixer_freq': 0}, 'swap_f0g1': {'ch': [1, 1, 5, 5], 'type': ['full', 'full', 'full', 'full'], 'nyquist': 1, 'mixer_freq': 0}, 'swap_Q': {'ch': [0, -1, 2, 3], 'type': ['full', 'None', 'full', 'full'], 'nyquist': [2, 0, 2, 2], 'mixer_freq': 0}, 'readout': {'ch': [6, 4, 6, 6], 'full_mux_chs': [5, 4, 5, 5], 'type': ['mux4', 'full', 'mux4', 'mux4'], 'mixer_freq': [7200, 0, 7200, 7200], 'nyquist': [2, 2, 2, 2]}, 'res_pump': {'ch': 4, 'type': 'full', 'mixer_freq': 0, 'nyquist': 2}, 'delay_chs': {'ch': [0, 1, 2, 3, 4, 5, 6], 'delay_ns': [0.0, 2.0, 2.0, 0.0, 25, 24, 73]}}, 'adcs': {'readout': {'ch': [0, 1, 2, 3]}}}, 'lo': {'twpa': {'frequency': '8210.0e6', 'power': -1.5}, 'readout': {'frequency': 0, 'power': 0}}}, 'aliases': {'readout_LO': 'SC_20A1', 'twpa_LO': 'SC_26C1', 'soc': 'Qick_QRAM'}, 'expt': {'start_N': 0, 'step_N': 1, 'expts_N': 10, 'start_f': -4.5, 'step_f': 0.15, 'expts_f': 61, 'reps': 500, 'loops': 1, 'pulse_type': 'robust', 'checkEF': False, 'qTest': 1, 'qZZ': 1, 'test_pi_half': True, 'divide_len': True, 'post_process': 'threshold', 'singleshot_reps': 15000, 'full_mux_expt': False, 'resonator_reset': None, 'use_robust_pulses': True, 'sweep_phase': True}}\n"
     ]
    },
    {
     "data": {
      "application/vnd.jupyter.widget-view+json": {
       "model_id": "9964a3a4223c4712ba2f980261ee447e",
       "version_major": 2,
       "version_minor": 0
      },
      "text/plain": [
       "  0%|          | 0/2 [00:00<?, ?it/s]"
      ]
     },
     "metadata": {},
     "output_type": "display_data"
    },
    {
     "name": "stdout",
     "output_type": "stream",
     "text": [
      "Qubit  (1)\n",
      "ge fidelity (%): 74.8128012978643 \t angle (deg): 18.080259267775546 \t threshold ge: 32.8792944569152\n"
     ]
    },
    {
     "data": {
      "application/vnd.jupyter.widget-view+json": {
       "model_id": "ae0ffc54a6b44738812ca4a756d0ab7f",
       "version_major": 2,
       "version_minor": 0
      },
      "text/plain": [
       "  0%|          | 0/10 [00:00<?, ?it/s]"
      ]
     },
     "metadata": {},
     "output_type": "display_data"
    },
    {
     "name": "stdout",
     "output_type": "stream",
     "text": [
      "Fit best freq 0.010664182498397368 which is 0.010664182498397368 away from old freq 0\n",
      "Best virtual Z (deg) 0.09597764248557632\n",
      "updated phase correction 0.09597764248557632\n",
      "-------- Error amplification --------\n"
     ]
    },
    {
     "data": {
      "application/vnd.jupyter.widget-view+json": {
       "model_id": "f39c1cca848c4f66966e5751669ac5f4",
       "version_major": 2,
       "version_minor": 0
      },
      "text/plain": [
       "  0%|          | 0/2 [00:00<?, ?it/s]"
      ]
     },
     "metadata": {},
     "output_type": "display_data"
    },
    {
     "name": "stdout",
     "output_type": "stream",
     "text": [
      "Qubit  (1)\n",
      "g unrotated averages:\n",
      "I -1.0839982855902777 +/- 15.27382056069959 \t Q -47.3004879014757 +/- 15.986540467918347 \t Amp 49.779494724074254 +/- 15.791522525377806\n",
      "Rotated (theta=0.22202307330220064):\n",
      "I 9.358341965032587 +/- 15.281061717231829 \t Q -46.378148342364 +/- 15.979619001934694 \t Amp 47.31290741437067 +/- 15.791522525377806\n",
      "e unrotated averages:\n",
      "I 34.80014143880208 +/- 18.837254443923893 \t Q -55.40113953993056 +/- 14.261443758197293 \t Amp 67.73419997695729 +/- 15.83177794874602\n",
      "Rotated (theta=0.22202307330220064):\n",
      "I 46.14545982886251 +/- 19.249721896028056 \t Q -46.37814834236402 +/- 13.699603643132638 \t Amp 65.42427765350938 +/- 15.83177794874602\n",
      "ge fidelity (%): 74.37937951418982 \t angle (deg): 12.720985054739803 \t threshold ge: 26.937323701345548\n"
     ]
    },
    {
     "data": {
      "application/vnd.jupyter.widget-view+json": {
       "model_id": "0fba68d818da415b8f7e40f297f88b8c",
       "version_major": 2,
       "version_minor": 0
      },
      "text/plain": [
       "  0%|          | 0/20 [00:00<?, ?it/s]"
      ]
     },
     "metadata": {},
     "output_type": "display_data"
    },
    {
     "name": "stdout",
     "output_type": "stream",
     "text": [
      "fitparams [None, 0.017453292519943295]\n",
      "From amps: adjust amplitude to 4464 / 0.9981548397960711 = 4472.252021451924\n",
      "From avgi: adjust amplitude to 4464 / 1.0056044774977086 = 4439.121045988155\n",
      "From avgq: adjust amplitude to 4464 / 0.9980957857699811 = 4472.516629810481\n",
      "best 1 0.023378053633452182\n",
      "updated pi_gain from error amplification 4439\n",
      "\n",
      "\n",
      "\n",
      "######### BEGINNING QUBIT 1 WITH ZZ FROM 2 #########\n",
      "initial pi_len 0.025\n",
      "initial pi_gain 4518\n",
      "initial pi_freq 3447.1485151091706\n",
      "-------- Ramsey --------\n",
      "ramsey freq 2.5\n",
      "Running Ramsey on Q1 with ZZ Q2\n"
     ]
    },
    {
     "data": {
      "application/vnd.jupyter.widget-view+json": {
       "model_id": "672389824aa34cc88a7559c452925ed6",
       "version_major": 2,
       "version_minor": 0
      },
      "text/plain": [
       "  0%|          | 0/10 [00:00<?, ?it/s]"
      ]
     },
     "metadata": {},
     "output_type": "display_data"
    },
    {
     "name": "stdout",
     "output_type": "stream",
     "text": [
      "WARNING: not sure if single shot checking makes sense when there are multiple rounds of averaging... use at your own risk\n",
      "best 1 0.022523699628827033\n",
      "Current pi pulse frequency: 3447.1485151091706\n",
      "Fit frequency from amps [MHz]: 2.4937325070949043 +/- 0.004197684207186047\n",
      "Suggested new pi pulse frequencies from fit amps [MHz]:\n",
      " \t3447.1547826020756\n",
      " \t3442.1547826020756\n",
      "T2 Ramsey from fit amps [us]: 9.595971175223168 +/- 2.3650977953765637\n",
      "Current pi pulse frequency: 3447.1485151091706\n",
      "Fit frequency from I [MHz]: 2.498663647743787 +/- 0.0011285507275109361\n",
      "Suggested new pi pulse frequency from fit I [MHz]:\n",
      " \t3447.149851461427\n",
      " \t3442.149851461427\n",
      "T2 Ramsey from fit I [us]: 12.756568098263447 +/- 1.1206679528364942\n",
      "Fit frequency from Q [MHz]: 2.496979962614848 +/- 0.0021199358604819547\n",
      "Suggested new pi pulse frequencies from fit Q [MHz]:\n",
      " \t3447.151535146556\n",
      " \t3442.151535146556\n",
      "T2 Ramsey from fit Q [us]: 12.854208814512525 +/- 2.135712357268169\n",
      "updated pi_freq 3447.149851461427\n",
      "-------- Amp rabi --------\n",
      "Running amp rabi on Q1 with ZZ Q2\n"
     ]
    },
    {
     "data": {
      "application/vnd.jupyter.widget-view+json": {
       "model_id": "45cde094c6f64ef5b0df6e0fdd34550e",
       "version_major": 2,
       "version_minor": 0
      },
      "text/plain": [
       "  0%|          | 0/10 [00:00<?, ?it/s]"
      ]
     },
     "metadata": {},
     "output_type": "display_data"
    },
    {
     "name": "stdout",
     "output_type": "stream",
     "text": [
      "WARNING: not sure if single shot checking makes sense when there are multiple rounds of averaging... use at your own risk\n",
      "(4, 75, 100)\n",
      "best 1 0.009448309398809281\n",
      "Pi gain from amps data [dac units]: 4461\n",
      "\tPi/2 gain from amps data [dac units]: 2230\n",
      "Pi gain from avgi data [dac units]: 4501\n",
      "\tPi/2 gain from avgi data [dac units]: 2250\n",
      "Pi gain from avgq data [dac units]: 4439\n",
      "\tPi/2 gain from avgq data [dac units]: 2219\n",
      "updated pi_gain round 2 4501\n",
      "-------- Pi Minus Pi --------\n",
      "{'device': {'readout': {'trig_offset': 150, 'lo_sideband': [1, 1, 1, 1], 'frequency': [-389.975, 5795.761666663333, 502.368233333334, -228.9], 'gain': [0.4, 0.5, 0.3, 0.2], 'readout_length': [5, 20, 10, 8], 'frequency_ef': [-391.91408405, 5795.76166666, 500.44439227, -230.30732892], 'gain_ef': [0.05, 0.6, 0.4, 0.25], 'readout_length_ef': [1, 20, 10, 8], 'relax_delay': [450, 450, 450, 450]}, 'qubit': {'f_ge': [4108.6352143528575, 4103.243553024718, 4108.491689964749, 4108.066288400736, 3442.8688097468294, 3448.2597196742877, 3447.149851461427, 3446.915870514596, 4759.495390230116, 4758.536112424677, 4759.612271171617, 4759.093894457347, 4377.466056020506, 4376.65632732359, 4377.47219792754, 4377.988666116248], 'f_ef': [3882.584812861004, 0.0, 0.0, 0.0, 0.0, 3347.8123422280078, 0.0, 0.0, 4571.9056482340775, 4571.009319367402, 4570.125075914433, 0.0, 4211.704645679207, 4206.869581627414, 0.0, 4205.162855964244], 'f_EgGf': [2686.53594683, 0, 2017.3, 2414.92850999], 'f_EgGf_Q_half': [0, 0, 5885.6717699723895, 5138], 'f_EgGf_Q': [0, 0, 5880.504550983305, 5132.386793750588], 'f_f0g1': [1184.4, 999.8, 1632.9833333333333, 1620.9166666666665], 'gs': [52.40296404695958, 54.81794456602636, 43.49513117058557, 4.930653352423196, 2.6415018214608046, 6.386231497692186], 'pulses': {'pi_ge': {'sigma': [0.02, 0.02, 0.02, 0.02, 0.025, 0.025, 0.025, 0.025, 0.015, 0.015, 0.015, 0.015, 0.025, 0.025, 0.025, 0.025], 'gain': [1849, 1914, 0, 1855, 2834, 2504, 2648, 2631, 9155, 9155, 9155, 9155, 3000, 3000, 3000, 3000], 'half_gain': [1850, 1835, 1873, 1867, 2382, 2186, 2248, 2289, 9253, 9253, 9253, 9253, 3120, 3120, 3120, 3120], 'half_correction_phase': [0, 0, 0, 0, 0, 0, 0, 0, 0, 0, 0, 0, 0, 0, 0, 0], 'half_gain_pi_sigma': [927, 0, 0, 0, 0, 1315, 0, 0, 0, 0, 7212, 0, 0, 0, 0, 460], 'type': 'gauss'}, 'pi_ef': {'sigma': [0.02, 0.02, 0.02, 0.02, 0.025, 0.025, 0.025, 0.025, 0.015, 0.015, 0.015, 0.015, 0.03, 0.03, 0.03, 0.03], 'gain': [1245, 0, 0, 0, 0, 1945, 0, 0, 0, 0, 6000, 0, 0, 0, 0, 1500], 'half_gain': [1243, 0, 0, 0, 0, 1619, 0, 0, 0, 6472, 6501, 0, 1427, 1601, 0, 1647], 'half_gain_pi_sigma': [673, 0, 0, 0, 0, 975, 0, 0, 0, 0, 3049, 0, 0, 0, 0, 1000], 'type': 'gauss'}, 'pi_EgGf': {'gain': [32000, 0, 30000, 16000], 'sigma': [0.586, 0, 0.8, 0.44643], 'type': 'flat_top'}, 'pi_EgGf_Q': {'half_gain': [0, 0, 12147, 14500], 'half_sigma': [0, 0, 0.231, 0.095], 'half_phase': [0, 0, 0.0, 0.0], 'gain': [0, 0, 24647, 24647], 'sigma': [0, 0, 0.245, 0.17], 'phase': [0, 0, 0.0, 0.0], 'type': 'flat_top'}, 'pi_f0g1': {'gain': [32000, 32000, 32000, 32000], 'sigma': [0.536, 0.585, 1.54, 1.04], 'idle': [3, 6, 12, 8], 'type': 'flat_top'}, 'pulse_pp': {'gain': [1750, 3550, 0, 0], 'filename': '240920_3_qram_4q_2qubit_++gg'}, 'pulse_1p': {'gain': [3500, 4375, 0, 0], 'filename': '240920_qram_4q_2qubit_e+gg'}, 'pulse_p1': {'gain': [3000, 5530, 0, 0], 'filename': '240920_qram_4q_2qubit_+egg'}, 'pihalf_ge_robust': {'gain': [7451, 7595, 7471, 7481, 4814, 4439, 4501, 4475, 20160, 20177, 20406, 20142, 12276, 12172, 12302, 12320], 'correction_phase': [12.771425603678084, 9.29781534792422, 12.148832830416332, 12.606633130020677, 0.5240598981582869, 0.09597764248557632, 0.6678177385391172, 1.0754762888754805, 3.0017251090114216, 3.7031106610299522, 3.183564832840096, 3.2384320807890035, 27.201443290550866, -6.995431316414082, -6.77604262269097, -3.118889112056552], 'filename': ['X_2_Q0', 'X_2_Q1', 'X_2_Q2', 'X_2_Q3']}, 'pi_ge_slow': {'gain': [-1, 100, -1, -1], 'sigma': [-1, 0.25, -1, -1], 'type': 'gauss'}, 'pi_Q1_ZZ_slow': {'gain': [100, 0, -1, -1], 'sigma': [0.25, 0, -1, -1], 'type': 'gauss'}}}}, 'hw': {'soc': {'dacs': {'qubit': {'ch': [0, 1, 2, 3], 'type': 'full', 'nyquist': [2, 1, 2, 2], 'mixer_freq': [0, 0, 0, 0]}, 'swap': {'ch': 1, 'type': 'full', 'nyquist': 1, 'mixer_freq': 0}, 'swap_f0g1': {'ch': [1, 1, 5, 5], 'type': ['full', 'full', 'full', 'full'], 'nyquist': 1, 'mixer_freq': 0}, 'swap_Q': {'ch': [0, -1, 2, 3], 'type': ['full', 'None', 'full', 'full'], 'nyquist': [2, 0, 2, 2], 'mixer_freq': 0}, 'readout': {'ch': [6, 4, 6, 6], 'full_mux_chs': [5, 4, 5, 5], 'type': ['mux4', 'full', 'mux4', 'mux4'], 'mixer_freq': [7200, 0, 7200, 7200], 'nyquist': [2, 2, 2, 2]}, 'res_pump': {'ch': 4, 'type': 'full', 'mixer_freq': 0, 'nyquist': 2}, 'delay_chs': {'ch': [0, 1, 2, 3, 4, 5, 6], 'delay_ns': [0.0, 2.0, 2.0, 0.0, 25, 24, 73]}}, 'adcs': {'readout': {'ch': [0, 1, 2, 3]}}}, 'lo': {'twpa': {'frequency': '8210.0e6', 'power': -1.5}, 'readout': {'frequency': 0, 'power': 0}}}, 'aliases': {'readout_LO': 'SC_20A1', 'twpa_LO': 'SC_26C1', 'soc': 'Qick_QRAM'}, 'expt': {'start_N': 0, 'step_N': 1, 'expts_N': 10, 'start_f': -4.5, 'step_f': 0.15, 'expts_f': 61, 'reps': 500, 'loops': 1, 'pulse_type': 'robust', 'checkEF': False, 'qTest': 1, 'qZZ': 2, 'test_pi_half': True, 'divide_len': True, 'post_process': 'threshold', 'singleshot_reps': 15000, 'full_mux_expt': False, 'resonator_reset': None, 'use_robust_pulses': True, 'sweep_phase': True}}\n"
     ]
    },
    {
     "data": {
      "application/vnd.jupyter.widget-view+json": {
       "model_id": "4cf4384d225949da9b06035142a04ea9",
       "version_major": 2,
       "version_minor": 0
      },
      "text/plain": [
       "  0%|          | 0/2 [00:00<?, ?it/s]"
      ]
     },
     "metadata": {},
     "output_type": "display_data"
    },
    {
     "name": "stdout",
     "output_type": "stream",
     "text": [
      "Qubit  (1)\n",
      "ge fidelity (%): 74.99333333333334 \t angle (deg): 11.611344206200153 \t threshold ge: 27.925123011728544\n"
     ]
    },
    {
     "data": {
      "application/vnd.jupyter.widget-view+json": {
       "model_id": "cbe9f4a7eec14464a0f929cf019085be",
       "version_major": 2,
       "version_minor": 0
      },
      "text/plain": [
       "  0%|          | 0/10 [00:00<?, ?it/s]"
      ]
     },
     "metadata": {},
     "output_type": "display_data"
    },
    {
     "name": "stdout",
     "output_type": "stream",
     "text": [
      "Fit best freq 0.054496404001421056 which is 0.054496404001421056 away from old freq 0\n",
      "Best virtual Z (deg) 0.4904676360127895\n",
      "updated phase correction 0.4904676360127895\n",
      "-------- Error amplification --------\n"
     ]
    },
    {
     "data": {
      "application/vnd.jupyter.widget-view+json": {
       "model_id": "cc7ede6872ad4c3ba915f4dd49b9c82f",
       "version_major": 2,
       "version_minor": 0
      },
      "text/plain": [
       "  0%|          | 0/2 [00:00<?, ?it/s]"
      ]
     },
     "metadata": {},
     "output_type": "display_data"
    },
    {
     "name": "stdout",
     "output_type": "stream",
     "text": [
      "Qubit  (1)\n",
      "g unrotated averages:\n",
      "I -1.489911306423611 +/- 15.28095502593244 \t Q -50.045868695746535 +/- 15.4442838887136 \t Amp 52.35183520709113 +/- 15.43138525869387\n",
      "Rotated (theta=0.20538727032552548):\n",
      "I 8.748073582665537 +/- 15.352037702595434 \t Q -49.29787031713622 +/- 15.373627734462568 \t Amp 50.068041795270084 +/- 15.43138525869387\n",
      "e unrotated averages:\n",
      "I 34.565738639322916 +/- 19.426527925972216 \t Q -57.55715699869792 +/- 13.893602476029844 \t Amp 69.58531445425538 +/- 15.359778604448042\n",
      "Rotated (theta=0.20538727032552548):\n",
      "I 45.57780810492711 +/- 19.71112891151636 \t Q -49.29787031713624 +/- 13.486792578448917 \t Amp 67.13878617799656 +/- 15.359778604448042\n",
      "ge fidelity (%): 73.63333333333335 \t angle (deg): 11.767823755365143 \t threshold ge: 27.960555812740374\n"
     ]
    },
    {
     "data": {
      "application/vnd.jupyter.widget-view+json": {
       "model_id": "38181d3346d74f1ab49a06354cf60846",
       "version_major": 2,
       "version_minor": 0
      },
      "text/plain": [
       "  0%|          | 0/20 [00:00<?, ?it/s]"
      ]
     },
     "metadata": {},
     "output_type": "display_data"
    },
    {
     "name": "stdout",
     "output_type": "stream",
     "text": [
      "fitparams [None, 0.017453292519943295]\n",
      "From amps: adjust amplitude to 4501 / 1.0558920969405106 = 4262.746177418911\n",
      "From avgi: adjust amplitude to 4501 / 1.0047293033171683 = 4479.813602668604\n",
      "From avgq: adjust amplitude to 4501 / 1.0557747939385589 = 4263.219794449778\n",
      "best 1 0.037736859535522915\n",
      "updated pi_gain from error amplification 4480\n",
      "\n",
      "\n",
      "\n",
      "######### BEGINNING QUBIT 1 WITH ZZ FROM 3 #########\n",
      "initial pi_len 0.025\n",
      "initial pi_gain 4475\n",
      "initial pi_freq 3446.915870514596\n",
      "-------- Ramsey --------\n",
      "ramsey freq 2.5\n",
      "Running Ramsey on Q1 with ZZ Q3\n"
     ]
    },
    {
     "data": {
      "application/vnd.jupyter.widget-view+json": {
       "model_id": "7af1d9a52d2c464db49c52985336c828",
       "version_major": 2,
       "version_minor": 0
      },
      "text/plain": [
       "  0%|          | 0/10 [00:00<?, ?it/s]"
      ]
     },
     "metadata": {},
     "output_type": "display_data"
    },
    {
     "name": "stdout",
     "output_type": "stream",
     "text": [
      "WARNING: not sure if single shot checking makes sense when there are multiple rounds of averaging... use at your own risk\n",
      "best 2 0.03986703020584677\n",
      "Current pi pulse frequency: 3446.915870514596\n",
      "Fit frequency from amps [MHz]: 2.479874579051583 +/- 0.0037720204977185145\n",
      "Suggested new pi pulse frequencies from fit amps [MHz]:\n",
      " \t3446.9359959355443\n",
      " \t3441.9359959355443\n",
      "T2 Ramsey from fit amps [us]: 9.52101615490125 +/- 2.0627936011048593\n",
      "Current pi pulse frequency: 3446.915870514596\n",
      "Fit frequency from I [MHz]: 2.472883261398411 +/- 0.001952494722595267\n",
      "Suggested new pi pulse frequency from fit I [MHz]:\n",
      " \t3446.9429872531978\n",
      " \t3441.9429872531978\n",
      "T2 Ramsey from fit I [us]: 22.36996723199377 +/- 5.9252229240105825\n",
      "Fit frequency from Q [MHz]: 2.4725485315587012 +/- 0.0017843061263829662\n",
      "Suggested new pi pulse frequencies from fit Q [MHz]:\n",
      " \t3446.943321983037\n",
      " \t3441.943321983037\n",
      "T2 Ramsey from fit Q [us]: 15.042498402724503 +/- 2.4505944743082146\n",
      "updated pi_freq 3446.943321983037\n",
      "-------- Amp rabi --------\n",
      "Running amp rabi on Q1 with ZZ Q3\n"
     ]
    },
    {
     "data": {
      "application/vnd.jupyter.widget-view+json": {
       "model_id": "1306b3f59e3f4c7080542d65e6f3aa5e",
       "version_major": 2,
       "version_minor": 0
      },
      "text/plain": [
       "  0%|          | 0/10 [00:00<?, ?it/s]"
      ]
     },
     "metadata": {},
     "output_type": "display_data"
    },
    {
     "name": "stdout",
     "output_type": "stream",
     "text": [
      "WARNING: not sure if single shot checking makes sense when there are multiple rounds of averaging... use at your own risk\n",
      "(4, 75, 100)\n",
      "best 1 0.010984707963607749\n",
      "Pi gain from amps data [dac units]: 4540\n",
      "\tPi/2 gain from amps data [dac units]: 2270\n",
      "Pi gain from avgi data [dac units]: 4448\n",
      "\tPi/2 gain from avgi data [dac units]: 2224\n",
      "Pi gain from avgq data [dac units]: 4409\n",
      "\tPi/2 gain from avgq data [dac units]: 2204\n",
      "updated pi_gain round 2 4448\n",
      "-------- Pi Minus Pi --------\n",
      "{'device': {'readout': {'trig_offset': 150, 'lo_sideband': [1, 1, 1, 1], 'frequency': [-389.975, 5795.761666663333, 502.368233333334, -228.9], 'gain': [0.4, 0.5, 0.3, 0.2], 'readout_length': [5, 20, 10, 8], 'frequency_ef': [-391.91408405, 5795.76166666, 500.44439227, -230.30732892], 'gain_ef': [0.05, 0.6, 0.4, 0.25], 'readout_length_ef': [1, 20, 10, 8], 'relax_delay': [450, 450, 450, 450]}, 'qubit': {'f_ge': [4108.6352143528575, 4103.243553024718, 4108.491689964749, 4108.066288400736, 3442.8688097468294, 3448.2597196742877, 3447.149851461427, 3446.943321983037, 4759.495390230116, 4758.536112424677, 4759.612271171617, 4759.093894457347, 4377.466056020506, 4376.65632732359, 4377.47219792754, 4377.988666116248], 'f_ef': [3882.584812861004, 0.0, 0.0, 0.0, 0.0, 3347.8123422280078, 0.0, 0.0, 4571.9056482340775, 4571.009319367402, 4570.125075914433, 0.0, 4211.704645679207, 4206.869581627414, 0.0, 4205.162855964244], 'f_EgGf': [2686.53594683, 0, 2017.3, 2414.92850999], 'f_EgGf_Q_half': [0, 0, 5885.6717699723895, 5138], 'f_EgGf_Q': [0, 0, 5880.504550983305, 5132.386793750588], 'f_f0g1': [1184.4, 999.8, 1632.9833333333333, 1620.9166666666665], 'gs': [52.40296404695958, 54.81794456602636, 43.49513117058557, 4.930653352423196, 2.6415018214608046, 6.386231497692186], 'pulses': {'pi_ge': {'sigma': [0.02, 0.02, 0.02, 0.02, 0.025, 0.025, 0.025, 0.025, 0.015, 0.015, 0.015, 0.015, 0.025, 0.025, 0.025, 0.025], 'gain': [1849, 1914, 0, 1855, 2834, 2504, 2648, 2631, 9155, 9155, 9155, 9155, 3000, 3000, 3000, 3000], 'half_gain': [1850, 1835, 1873, 1867, 2382, 2186, 2248, 2289, 9253, 9253, 9253, 9253, 3120, 3120, 3120, 3120], 'half_correction_phase': [0, 0, 0, 0, 0, 0, 0, 0, 0, 0, 0, 0, 0, 0, 0, 0], 'half_gain_pi_sigma': [927, 0, 0, 0, 0, 1315, 0, 0, 0, 0, 7212, 0, 0, 0, 0, 460], 'type': 'gauss'}, 'pi_ef': {'sigma': [0.02, 0.02, 0.02, 0.02, 0.025, 0.025, 0.025, 0.025, 0.015, 0.015, 0.015, 0.015, 0.03, 0.03, 0.03, 0.03], 'gain': [1245, 0, 0, 0, 0, 1945, 0, 0, 0, 0, 6000, 0, 0, 0, 0, 1500], 'half_gain': [1243, 0, 0, 0, 0, 1619, 0, 0, 0, 6472, 6501, 0, 1427, 1601, 0, 1647], 'half_gain_pi_sigma': [673, 0, 0, 0, 0, 975, 0, 0, 0, 0, 3049, 0, 0, 0, 0, 1000], 'type': 'gauss'}, 'pi_EgGf': {'gain': [32000, 0, 30000, 16000], 'sigma': [0.586, 0, 0.8, 0.44643], 'type': 'flat_top'}, 'pi_EgGf_Q': {'half_gain': [0, 0, 12147, 14500], 'half_sigma': [0, 0, 0.231, 0.095], 'half_phase': [0, 0, 0.0, 0.0], 'gain': [0, 0, 24647, 24647], 'sigma': [0, 0, 0.245, 0.17], 'phase': [0, 0, 0.0, 0.0], 'type': 'flat_top'}, 'pi_f0g1': {'gain': [32000, 32000, 32000, 32000], 'sigma': [0.536, 0.585, 1.54, 1.04], 'idle': [3, 6, 12, 8], 'type': 'flat_top'}, 'pulse_pp': {'gain': [1750, 3550, 0, 0], 'filename': '240920_3_qram_4q_2qubit_++gg'}, 'pulse_1p': {'gain': [3500, 4375, 0, 0], 'filename': '240920_qram_4q_2qubit_e+gg'}, 'pulse_p1': {'gain': [3000, 5530, 0, 0], 'filename': '240920_qram_4q_2qubit_+egg'}, 'pihalf_ge_robust': {'gain': [7451, 7595, 7471, 7481, 4814, 4439, 4480, 4448, 20160, 20177, 20406, 20142, 12276, 12172, 12302, 12320], 'correction_phase': [12.771425603678084, 9.29781534792422, 12.148832830416332, 12.606633130020677, 0.5240598981582869, 0.09597764248557632, 0.4904676360127895, 1.0754762888754805, 3.0017251090114216, 3.7031106610299522, 3.183564832840096, 3.2384320807890035, 27.201443290550866, -6.995431316414082, -6.77604262269097, -3.118889112056552], 'filename': ['X_2_Q0', 'X_2_Q1', 'X_2_Q2', 'X_2_Q3']}, 'pi_ge_slow': {'gain': [-1, 100, -1, -1], 'sigma': [-1, 0.25, -1, -1], 'type': 'gauss'}, 'pi_Q1_ZZ_slow': {'gain': [100, 0, -1, -1], 'sigma': [0.25, 0, -1, -1], 'type': 'gauss'}}}}, 'hw': {'soc': {'dacs': {'qubit': {'ch': [0, 1, 2, 3], 'type': 'full', 'nyquist': [2, 1, 2, 2], 'mixer_freq': [0, 0, 0, 0]}, 'swap': {'ch': 1, 'type': 'full', 'nyquist': 1, 'mixer_freq': 0}, 'swap_f0g1': {'ch': [1, 1, 5, 5], 'type': ['full', 'full', 'full', 'full'], 'nyquist': 1, 'mixer_freq': 0}, 'swap_Q': {'ch': [0, -1, 2, 3], 'type': ['full', 'None', 'full', 'full'], 'nyquist': [2, 0, 2, 2], 'mixer_freq': 0}, 'readout': {'ch': [6, 4, 6, 6], 'full_mux_chs': [5, 4, 5, 5], 'type': ['mux4', 'full', 'mux4', 'mux4'], 'mixer_freq': [7200, 0, 7200, 7200], 'nyquist': [2, 2, 2, 2]}, 'res_pump': {'ch': 4, 'type': 'full', 'mixer_freq': 0, 'nyquist': 2}, 'delay_chs': {'ch': [0, 1, 2, 3, 4, 5, 6], 'delay_ns': [0.0, 2.0, 2.0, 0.0, 25, 24, 73]}}, 'adcs': {'readout': {'ch': [0, 1, 2, 3]}}}, 'lo': {'twpa': {'frequency': '8210.0e6', 'power': -1.5}, 'readout': {'frequency': 0, 'power': 0}}}, 'aliases': {'readout_LO': 'SC_20A1', 'twpa_LO': 'SC_26C1', 'soc': 'Qick_QRAM'}, 'expt': {'start_N': 0, 'step_N': 1, 'expts_N': 10, 'start_f': -4.5, 'step_f': 0.15, 'expts_f': 61, 'reps': 500, 'loops': 1, 'pulse_type': 'robust', 'checkEF': False, 'qTest': 1, 'qZZ': 3, 'test_pi_half': True, 'divide_len': True, 'post_process': 'threshold', 'singleshot_reps': 15000, 'full_mux_expt': False, 'resonator_reset': None, 'use_robust_pulses': True, 'sweep_phase': True}}\n"
     ]
    },
    {
     "data": {
      "application/vnd.jupyter.widget-view+json": {
       "model_id": "99286d89146e4616ae9bf8a2d5cce91d",
       "version_major": 2,
       "version_minor": 0
      },
      "text/plain": [
       "  0%|          | 0/2 [00:00<?, ?it/s]"
      ]
     },
     "metadata": {},
     "output_type": "display_data"
    },
    {
     "name": "stdout",
     "output_type": "stream",
     "text": [
      "Qubit  (1)\n",
      "ge fidelity (%): 72.22604795875279 \t angle (deg): 13.634469744136787 \t threshold ge: 29.30167551703056\n"
     ]
    },
    {
     "data": {
      "application/vnd.jupyter.widget-view+json": {
       "model_id": "017bec0f031547f8b2fb5c92bf98e0af",
       "version_major": 2,
       "version_minor": 0
      },
      "text/plain": [
       "  0%|          | 0/10 [00:00<?, ?it/s]"
      ]
     },
     "metadata": {},
     "output_type": "display_data"
    },
    {
     "name": "stdout",
     "output_type": "stream",
     "text": [
      "Fit best freq 0.05567014116446059 which is 0.05567014116446059 away from old freq 0\n",
      "Best virtual Z (deg) 0.5010312704801453\n",
      "updated phase correction 0.5010312704801453\n",
      "-------- Error amplification --------\n"
     ]
    },
    {
     "data": {
      "application/vnd.jupyter.widget-view+json": {
       "model_id": "6f93081a55d7404b95a248c5c963c03a",
       "version_major": 2,
       "version_minor": 0
      },
      "text/plain": [
       "  0%|          | 0/2 [00:00<?, ?it/s]"
      ]
     },
     "metadata": {},
     "output_type": "display_data"
    },
    {
     "name": "stdout",
     "output_type": "stream",
     "text": [
      "Qubit  (1)\n",
      "g unrotated averages:\n",
      "I -0.7363238389756944 +/- 16.0631224764234 \t Q -49.89768512369792 +/- 15.739334648595758 \t Amp 52.4164990285138 +/- 15.766494282700428\n",
      "Rotated (theta=0.20032054164657778):\n",
      "I 9.207215209947092 +/- 16.14043951155527 \t Q -49.046389689530336 +/- 15.660037396088525 \t Amp 49.903117673142916 +/- 15.766494282700428\n",
      "e unrotated averages:\n",
      "I 34.57768765190972 +/- 19.064143856136685 \t Q -57.06797516276042 +/- 14.110663710162775 \t Amp 69.11284546657922 +/- 15.438175907534875\n",
      "Rotated (theta=0.20032054164657778):\n",
      "I 45.24181617655509 +/- 19.355613844156792 \t Q -49.046389689530336 +/- 13.708122556523369 \t Amp 66.72608389925539 +/- 15.438175907534875\n",
      "ge fidelity (%): 72.17333333333333 \t angle (deg): 11.477521586123546 \t threshold ge: 28.306356021471657\n"
     ]
    },
    {
     "data": {
      "application/vnd.jupyter.widget-view+json": {
       "model_id": "3f88575a3f6f4227b7357ff710eeed9f",
       "version_major": 2,
       "version_minor": 0
      },
      "text/plain": [
       "  0%|          | 0/20 [00:00<?, ?it/s]"
      ]
     },
     "metadata": {},
     "output_type": "display_data"
    },
    {
     "name": "stdout",
     "output_type": "stream",
     "text": [
      "fitparams [None, 0.017453292519943295]\n",
      "From amps: adjust amplitude to 4448 / 0.981809315921795 = 4530.4112803450935\n",
      "From avgi: adjust amplitude to 4448 / 1.000860502842929 = 4444.175774111901\n",
      "From avgq: adjust amplitude to 4448 / 0.9817940481703441 = 4530.481732181227\n",
      "best 1 0.21882011461887818\n",
      "updated pi_gain from error amplification 4444\n",
      "\n",
      "\n",
      "\n",
      "######### BEGINNING QUBIT 2 WITH ZZ FROM 0 #########\n",
      "initial pi_len 0.015\n",
      "initial pi_gain 20160\n",
      "initial pi_freq 4759.495390230116\n",
      "-------- Ramsey --------\n",
      "ramsey freq 2.5\n",
      "Running Ramsey on Q2 with ZZ Q0\n"
     ]
    },
    {
     "data": {
      "application/vnd.jupyter.widget-view+json": {
       "model_id": "3645667307a046dbac96955def11644e",
       "version_major": 2,
       "version_minor": 0
      },
      "text/plain": [
       "  0%|          | 0/10 [00:00<?, ?it/s]"
      ]
     },
     "metadata": {},
     "output_type": "display_data"
    },
    {
     "name": "stdout",
     "output_type": "stream",
     "text": [
      "WARNING: not sure if single shot checking makes sense when there are multiple rounds of averaging... use at your own risk\n",
      "best 1 0.01761385869567331\n",
      "Current pi pulse frequency: 4759.495390230116\n",
      "Fit frequency from amps [MHz]: 2.5162778466516165 +/- 0.005495077685177084\n",
      "Suggested new pi pulse frequencies from fit amps [MHz]:\n",
      " \t4759.479112383464\n",
      " \t4754.479112383464\n",
      "T2 Ramsey from fit amps [us]: 6.689001740027834 +/- 1.509267192619044\n",
      "Current pi pulse frequency: 4759.495390230116\n",
      "Fit frequency from I [MHz]: 2.5068004317141512 +/- 0.0015304422701439531\n",
      "Suggested new pi pulse frequency from fit I [MHz]:\n",
      " \t4759.488589798401\n",
      " \t4754.488589798401\n",
      "T2 Ramsey from fit I [us]: 6.151619245114666 +/- 0.3553952033706648\n",
      "Fit frequency from Q [MHz]: 2.4971838210903905 +/- 0.009538905141992085\n",
      "Suggested new pi pulse frequencies from fit Q [MHz]:\n",
      " \t4759.498206409025\n",
      " \t4754.498206409025\n",
      "T2 Ramsey from fit Q [us]: 2.8612607516619204 +/- 0.4764895624960963\n",
      "updated pi_freq 4759.488589798401\n",
      "-------- Amp rabi --------\n",
      "Running amp rabi on Q2 with ZZ Q0\n"
     ]
    },
    {
     "data": {
      "application/vnd.jupyter.widget-view+json": {
       "model_id": "2427945bc1144ee19253ff359bdab568",
       "version_major": 2,
       "version_minor": 0
      },
      "text/plain": [
       "  0%|          | 0/10 [00:00<?, ?it/s]"
      ]
     },
     "metadata": {},
     "output_type": "display_data"
    },
    {
     "name": "stdout",
     "output_type": "stream",
     "text": [
      "WARNING: not sure if single shot checking makes sense when there are multiple rounds of averaging... use at your own risk\n",
      "(4, 75, 100)\n",
      "best 1 0.014348937800145987\n",
      "Pi gain from amps data [dac units]: 19991\n",
      "\tPi/2 gain from amps data [dac units]: 9995\n",
      "Pi gain from avgi data [dac units]: 20125\n",
      "\tPi/2 gain from avgi data [dac units]: 10062\n",
      "Pi gain from avgq data [dac units]: 19949\n",
      "\tPi/2 gain from avgq data [dac units]: 9974\n",
      "updated pi_gain round 2 20125\n",
      "-------- Pi Minus Pi --------\n",
      "{'device': {'readout': {'trig_offset': 150, 'lo_sideband': [1, 1, 1, 1], 'frequency': [-389.975, 5795.761666663333, 502.368233333334, -228.9], 'gain': [0.4, 0.5, 0.3, 0.2], 'readout_length': [5, 20, 10, 8], 'frequency_ef': [-391.91408405, 5795.76166666, 500.44439227, -230.30732892], 'gain_ef': [0.05, 0.6, 0.4, 0.25], 'readout_length_ef': [1, 20, 10, 8], 'relax_delay': [450, 450, 450, 450]}, 'qubit': {'f_ge': [4108.6352143528575, 4103.243553024718, 4108.491689964749, 4108.066288400736, 3442.8688097468294, 3448.2597196742877, 3447.149851461427, 3446.943321983037, 4759.488589798401, 4758.536112424677, 4759.612271171617, 4759.093894457347, 4377.466056020506, 4376.65632732359, 4377.47219792754, 4377.988666116248], 'f_ef': [3882.584812861004, 0.0, 0.0, 0.0, 0.0, 3347.8123422280078, 0.0, 0.0, 4571.9056482340775, 4571.009319367402, 4570.125075914433, 0.0, 4211.704645679207, 4206.869581627414, 0.0, 4205.162855964244], 'f_EgGf': [2686.53594683, 0, 2017.3, 2414.92850999], 'f_EgGf_Q_half': [0, 0, 5885.6717699723895, 5138], 'f_EgGf_Q': [0, 0, 5880.504550983305, 5132.386793750588], 'f_f0g1': [1184.4, 999.8, 1632.9833333333333, 1620.9166666666665], 'gs': [52.40296404695958, 54.81794456602636, 43.49513117058557, 4.930653352423196, 2.6415018214608046, 6.386231497692186], 'pulses': {'pi_ge': {'sigma': [0.02, 0.02, 0.02, 0.02, 0.025, 0.025, 0.025, 0.025, 0.015, 0.015, 0.015, 0.015, 0.025, 0.025, 0.025, 0.025], 'gain': [1849, 1914, 0, 1855, 2834, 2504, 2648, 2631, 9155, 9155, 9155, 9155, 3000, 3000, 3000, 3000], 'half_gain': [1850, 1835, 1873, 1867, 2382, 2186, 2248, 2289, 9253, 9253, 9253, 9253, 3120, 3120, 3120, 3120], 'half_correction_phase': [0, 0, 0, 0, 0, 0, 0, 0, 0, 0, 0, 0, 0, 0, 0, 0], 'half_gain_pi_sigma': [927, 0, 0, 0, 0, 1315, 0, 0, 0, 0, 7212, 0, 0, 0, 0, 460], 'type': 'gauss'}, 'pi_ef': {'sigma': [0.02, 0.02, 0.02, 0.02, 0.025, 0.025, 0.025, 0.025, 0.015, 0.015, 0.015, 0.015, 0.03, 0.03, 0.03, 0.03], 'gain': [1245, 0, 0, 0, 0, 1945, 0, 0, 0, 0, 6000, 0, 0, 0, 0, 1500], 'half_gain': [1243, 0, 0, 0, 0, 1619, 0, 0, 0, 6472, 6501, 0, 1427, 1601, 0, 1647], 'half_gain_pi_sigma': [673, 0, 0, 0, 0, 975, 0, 0, 0, 0, 3049, 0, 0, 0, 0, 1000], 'type': 'gauss'}, 'pi_EgGf': {'gain': [32000, 0, 30000, 16000], 'sigma': [0.586, 0, 0.8, 0.44643], 'type': 'flat_top'}, 'pi_EgGf_Q': {'half_gain': [0, 0, 12147, 14500], 'half_sigma': [0, 0, 0.231, 0.095], 'half_phase': [0, 0, 0.0, 0.0], 'gain': [0, 0, 24647, 24647], 'sigma': [0, 0, 0.245, 0.17], 'phase': [0, 0, 0.0, 0.0], 'type': 'flat_top'}, 'pi_f0g1': {'gain': [32000, 32000, 32000, 32000], 'sigma': [0.536, 0.585, 1.54, 1.04], 'idle': [3, 6, 12, 8], 'type': 'flat_top'}, 'pulse_pp': {'gain': [1750, 3550, 0, 0], 'filename': '240920_3_qram_4q_2qubit_++gg'}, 'pulse_1p': {'gain': [3500, 4375, 0, 0], 'filename': '240920_qram_4q_2qubit_e+gg'}, 'pulse_p1': {'gain': [3000, 5530, 0, 0], 'filename': '240920_qram_4q_2qubit_+egg'}, 'pihalf_ge_robust': {'gain': [7451, 7595, 7471, 7481, 4814, 4439, 4480, 4444, 20125, 20177, 20406, 20142, 12276, 12172, 12302, 12320], 'correction_phase': [12.771425603678084, 9.29781534792422, 12.148832830416332, 12.606633130020677, 0.5240598981582869, 0.09597764248557632, 0.4904676360127895, 0.5010312704801453, 3.0017251090114216, 3.7031106610299522, 3.183564832840096, 3.2384320807890035, 27.201443290550866, -6.995431316414082, -6.77604262269097, -3.118889112056552], 'filename': ['X_2_Q0', 'X_2_Q1', 'X_2_Q2', 'X_2_Q3']}, 'pi_ge_slow': {'gain': [-1, 100, -1, -1], 'sigma': [-1, 0.25, -1, -1], 'type': 'gauss'}, 'pi_Q1_ZZ_slow': {'gain': [100, 0, -1, -1], 'sigma': [0.25, 0, -1, -1], 'type': 'gauss'}}}}, 'hw': {'soc': {'dacs': {'qubit': {'ch': [0, 1, 2, 3], 'type': 'full', 'nyquist': [2, 1, 2, 2], 'mixer_freq': [0, 0, 0, 0]}, 'swap': {'ch': 1, 'type': 'full', 'nyquist': 1, 'mixer_freq': 0}, 'swap_f0g1': {'ch': [1, 1, 5, 5], 'type': ['full', 'full', 'full', 'full'], 'nyquist': 1, 'mixer_freq': 0}, 'swap_Q': {'ch': [0, -1, 2, 3], 'type': ['full', 'None', 'full', 'full'], 'nyquist': [2, 0, 2, 2], 'mixer_freq': 0}, 'readout': {'ch': [6, 4, 6, 6], 'full_mux_chs': [5, 4, 5, 5], 'type': ['mux4', 'full', 'mux4', 'mux4'], 'mixer_freq': [7200, 0, 7200, 7200], 'nyquist': [2, 2, 2, 2]}, 'res_pump': {'ch': 4, 'type': 'full', 'mixer_freq': 0, 'nyquist': 2}, 'delay_chs': {'ch': [0, 1, 2, 3, 4, 5, 6], 'delay_ns': [0.0, 2.0, 2.0, 0.0, 25, 24, 73]}}, 'adcs': {'readout': {'ch': [0, 1, 2, 3]}}}, 'lo': {'twpa': {'frequency': '8210.0e6', 'power': -1.5}, 'readout': {'frequency': 0, 'power': 0}}}, 'aliases': {'readout_LO': 'SC_20A1', 'twpa_LO': 'SC_26C1', 'soc': 'Qick_QRAM'}, 'expt': {'start_N': 0, 'step_N': 1, 'expts_N': 10, 'start_f': -4.5, 'step_f': 0.15, 'expts_f': 61, 'reps': 500, 'loops': 1, 'pulse_type': 'robust', 'checkEF': False, 'qTest': 2, 'qZZ': 0, 'test_pi_half': True, 'divide_len': True, 'post_process': 'threshold', 'singleshot_reps': 15000, 'full_mux_expt': False, 'resonator_reset': None, 'use_robust_pulses': True, 'sweep_phase': True}}\n"
     ]
    },
    {
     "data": {
      "application/vnd.jupyter.widget-view+json": {
       "model_id": "b682345504924a14a2bdeccdbc4edb67",
       "version_major": 2,
       "version_minor": 0
      },
      "text/plain": [
       "  0%|          | 0/2 [00:00<?, ?it/s]"
      ]
     },
     "metadata": {},
     "output_type": "display_data"
    },
    {
     "name": "stdout",
     "output_type": "stream",
     "text": [
      "Qubit  (2)\n",
      "ge fidelity (%): 61.12563904260284 \t angle (deg): -2.7951536083755375 \t threshold ge: 28.75045439215259\n"
     ]
    },
    {
     "data": {
      "application/vnd.jupyter.widget-view+json": {
       "model_id": "54ac9b3de3c243be8aeed43d79d6e911",
       "version_major": 2,
       "version_minor": 0
      },
      "text/plain": [
       "  0%|          | 0/10 [00:00<?, ?it/s]"
      ]
     },
     "metadata": {},
     "output_type": "display_data"
    },
    {
     "name": "stdout",
     "output_type": "stream",
     "text": [
      "Fit best freq 0.590383675599371 which is 0.590383675599371 away from old freq 0\n",
      "Best virtual Z (deg) 3.188071848236603\n",
      "updated phase correction 3.188071848236603\n",
      "-------- Error amplification --------\n"
     ]
    },
    {
     "data": {
      "application/vnd.jupyter.widget-view+json": {
       "model_id": "e4bfc906064044039ba59e8ab412c123",
       "version_major": 2,
       "version_minor": 0
      },
      "text/plain": [
       "  0%|          | 0/2 [00:00<?, ?it/s]"
      ]
     },
     "metadata": {},
     "output_type": "display_data"
    },
    {
     "name": "stdout",
     "output_type": "stream",
     "text": [
      "Qubit  (2)\n",
      "g unrotated averages:\n",
      "I 12.752511783854168 +/- 17.53539261098699 \t Q 1.7707119791666666 +/- 16.376836749930845 \t Amp 23.946949382845204 +/- 12.961341324156844\n",
      "Rotated (theta=0.0015667294283345848):\n",
      "I 12.74972190700567 +/- 17.53519284886565 \t Q 1.7906895332590118 +/- 16.377050641322256 \t Amp 12.874858356910327 +/- 12.961341324156844\n",
      "e unrotated averages:\n",
      "I 47.16919828559028 +/- 21.808067456940883 \t Q 1.7167902994791668 +/- 16.231148439234108 \t Amp 50.77486843766805 +/- 19.718908611740034\n",
      "Rotated (theta=0.0015667294283345848):\n",
      "I 47.16645064909162 +/- 21.80767779479975 \t Q 1.7906895332590118 +/- 16.231671973679532 \t Amp 47.20043046241971 +/- 19.718908611740034\n",
      "ge fidelity (%): 64.66666666666666 \t angle (deg): 0.08976698388251589 \t threshold ge: 30.39242721657459\n"
     ]
    },
    {
     "data": {
      "application/vnd.jupyter.widget-view+json": {
       "model_id": "98c582e27938400da052f1d7a2c11e8b",
       "version_major": 2,
       "version_minor": 0
      },
      "text/plain": [
       "  0%|          | 0/20 [00:00<?, ?it/s]"
      ]
     },
     "metadata": {},
     "output_type": "display_data"
    },
    {
     "name": "stdout",
     "output_type": "stream",
     "text": [
      "fitparams [None, 0.017453292519943295]\n",
      "From amps: adjust amplitude to 20125 / 1.001240045050679 = 20100.07500147614\n",
      "From avgi: adjust amplitude to 20125 / 0.9963049411028421 = 20199.638855271547\n",
      "From avgq: adjust amplitude to 20125 / 0.9978399209424546 = 20168.565696381484\n",
      "best 1 0.0536325263792743\n",
      "updated pi_gain from error amplification 20200\n",
      "\n",
      "\n",
      "\n",
      "######### BEGINNING QUBIT 2 WITH ZZ FROM 1 #########\n",
      "initial pi_len 0.015\n",
      "initial pi_gain 20177\n",
      "initial pi_freq 4758.536112424677\n",
      "-------- Ramsey --------\n",
      "ramsey freq 2.5\n",
      "Running Ramsey on Q2 with ZZ Q1\n"
     ]
    },
    {
     "data": {
      "application/vnd.jupyter.widget-view+json": {
       "model_id": "6442be905fac4ad7bd7a1d9b2b24a47b",
       "version_major": 2,
       "version_minor": 0
      },
      "text/plain": [
       "  0%|          | 0/10 [00:00<?, ?it/s]"
      ]
     },
     "metadata": {},
     "output_type": "display_data"
    },
    {
     "name": "stdout",
     "output_type": "stream",
     "text": [
      "WARNING: not sure if single shot checking makes sense when there are multiple rounds of averaging... use at your own risk\n",
      "best 1 0.033547797168883085\n",
      "Current pi pulse frequency: 4758.536112424677\n",
      "Fit frequency from amps [MHz]: 2.532413829508068 +/- 0.0029820891053241308\n",
      "Suggested new pi pulse frequencies from fit amps [MHz]:\n",
      " \t4758.503698595169\n",
      " \t4753.503698595169\n",
      "T2 Ramsey from fit amps [us]: 23.714139976570305 +/- 10.520084771666152\n",
      "Current pi pulse frequency: 4758.536112424677\n",
      "Fit frequency from I [MHz]: 2.5291272695477134 +/- 0.0011427563364981236\n",
      "Suggested new pi pulse frequency from fit I [MHz]:\n",
      " \t4758.50698515513\n",
      " \t4753.50698515513\n",
      "T2 Ramsey from fit I [us]: 19.824321002057893 +/- 2.8170982594895273\n",
      "Fit frequency from Q [MHz]: 2.5129428656077315 +/- 0.009520859991468546\n",
      "Suggested new pi pulse frequencies from fit Q [MHz]:\n",
      " \t4758.52316955907\n",
      " \t4753.52316955907\n",
      "T2 Ramsey from fit Q [us]: 5.342736484860305 +/- 1.7088372649252634\n",
      "updated pi_freq 4758.50698515513\n",
      "-------- Amp rabi --------\n",
      "Running amp rabi on Q2 with ZZ Q1\n"
     ]
    },
    {
     "data": {
      "application/vnd.jupyter.widget-view+json": {
       "model_id": "b572a4487d874ee4941c7095aa9844cd",
       "version_major": 2,
       "version_minor": 0
      },
      "text/plain": [
       "  0%|          | 0/10 [00:00<?, ?it/s]"
      ]
     },
     "metadata": {},
     "output_type": "display_data"
    },
    {
     "name": "stdout",
     "output_type": "stream",
     "text": [
      "WARNING: not sure if single shot checking makes sense when there are multiple rounds of averaging... use at your own risk\n",
      "(4, 75, 100)\n",
      "best 1 0.01563380851135863\n",
      "Pi gain from amps data [dac units]: 21190\n",
      "\tPi/2 gain from amps data [dac units]: 10595\n",
      "Pi gain from avgi data [dac units]: 20501\n",
      "\tPi/2 gain from avgi data [dac units]: 10250\n",
      "Pi gain from avgq data [dac units]: 18778\n",
      "\tPi/2 gain from avgq data [dac units]: 9389\n",
      "updated pi_gain round 2 20501\n",
      "-------- Pi Minus Pi --------\n",
      "{'device': {'readout': {'trig_offset': 150, 'lo_sideband': [1, 1, 1, 1], 'frequency': [-389.975, 5795.761666663333, 502.368233333334, -228.9], 'gain': [0.4, 0.5, 0.3, 0.2], 'readout_length': [5, 20, 10, 8], 'frequency_ef': [-391.91408405, 5795.76166666, 500.44439227, -230.30732892], 'gain_ef': [0.05, 0.6, 0.4, 0.25], 'readout_length_ef': [1, 20, 10, 8], 'relax_delay': [450, 450, 450, 450]}, 'qubit': {'f_ge': [4108.6352143528575, 4103.243553024718, 4108.491689964749, 4108.066288400736, 3442.8688097468294, 3448.2597196742877, 3447.149851461427, 3446.943321983037, 4759.488589798401, 4758.50698515513, 4759.612271171617, 4759.093894457347, 4377.466056020506, 4376.65632732359, 4377.47219792754, 4377.988666116248], 'f_ef': [3882.584812861004, 0.0, 0.0, 0.0, 0.0, 3347.8123422280078, 0.0, 0.0, 4571.9056482340775, 4571.009319367402, 4570.125075914433, 0.0, 4211.704645679207, 4206.869581627414, 0.0, 4205.162855964244], 'f_EgGf': [2686.53594683, 0, 2017.3, 2414.92850999], 'f_EgGf_Q_half': [0, 0, 5885.6717699723895, 5138], 'f_EgGf_Q': [0, 0, 5880.504550983305, 5132.386793750588], 'f_f0g1': [1184.4, 999.8, 1632.9833333333333, 1620.9166666666665], 'gs': [52.40296404695958, 54.81794456602636, 43.49513117058557, 4.930653352423196, 2.6415018214608046, 6.386231497692186], 'pulses': {'pi_ge': {'sigma': [0.02, 0.02, 0.02, 0.02, 0.025, 0.025, 0.025, 0.025, 0.015, 0.015, 0.015, 0.015, 0.025, 0.025, 0.025, 0.025], 'gain': [1849, 1914, 0, 1855, 2834, 2504, 2648, 2631, 9155, 9155, 9155, 9155, 3000, 3000, 3000, 3000], 'half_gain': [1850, 1835, 1873, 1867, 2382, 2186, 2248, 2289, 9253, 9253, 9253, 9253, 3120, 3120, 3120, 3120], 'half_correction_phase': [0, 0, 0, 0, 0, 0, 0, 0, 0, 0, 0, 0, 0, 0, 0, 0], 'half_gain_pi_sigma': [927, 0, 0, 0, 0, 1315, 0, 0, 0, 0, 7212, 0, 0, 0, 0, 460], 'type': 'gauss'}, 'pi_ef': {'sigma': [0.02, 0.02, 0.02, 0.02, 0.025, 0.025, 0.025, 0.025, 0.015, 0.015, 0.015, 0.015, 0.03, 0.03, 0.03, 0.03], 'gain': [1245, 0, 0, 0, 0, 1945, 0, 0, 0, 0, 6000, 0, 0, 0, 0, 1500], 'half_gain': [1243, 0, 0, 0, 0, 1619, 0, 0, 0, 6472, 6501, 0, 1427, 1601, 0, 1647], 'half_gain_pi_sigma': [673, 0, 0, 0, 0, 975, 0, 0, 0, 0, 3049, 0, 0, 0, 0, 1000], 'type': 'gauss'}, 'pi_EgGf': {'gain': [32000, 0, 30000, 16000], 'sigma': [0.586, 0, 0.8, 0.44643], 'type': 'flat_top'}, 'pi_EgGf_Q': {'half_gain': [0, 0, 12147, 14500], 'half_sigma': [0, 0, 0.231, 0.095], 'half_phase': [0, 0, 0.0, 0.0], 'gain': [0, 0, 24647, 24647], 'sigma': [0, 0, 0.245, 0.17], 'phase': [0, 0, 0.0, 0.0], 'type': 'flat_top'}, 'pi_f0g1': {'gain': [32000, 32000, 32000, 32000], 'sigma': [0.536, 0.585, 1.54, 1.04], 'idle': [3, 6, 12, 8], 'type': 'flat_top'}, 'pulse_pp': {'gain': [1750, 3550, 0, 0], 'filename': '240920_3_qram_4q_2qubit_++gg'}, 'pulse_1p': {'gain': [3500, 4375, 0, 0], 'filename': '240920_qram_4q_2qubit_e+gg'}, 'pulse_p1': {'gain': [3000, 5530, 0, 0], 'filename': '240920_qram_4q_2qubit_+egg'}, 'pihalf_ge_robust': {'gain': [7451, 7595, 7471, 7481, 4814, 4439, 4480, 4444, 20200, 20501, 20406, 20142, 12276, 12172, 12302, 12320], 'correction_phase': [12.771425603678084, 9.29781534792422, 12.148832830416332, 12.606633130020677, 0.5240598981582869, 0.09597764248557632, 0.4904676360127895, 0.5010312704801453, 3.188071848236603, 3.7031106610299522, 3.183564832840096, 3.2384320807890035, 27.201443290550866, -6.995431316414082, -6.77604262269097, -3.118889112056552], 'filename': ['X_2_Q0', 'X_2_Q1', 'X_2_Q2', 'X_2_Q3']}, 'pi_ge_slow': {'gain': [-1, 100, -1, -1], 'sigma': [-1, 0.25, -1, -1], 'type': 'gauss'}, 'pi_Q1_ZZ_slow': {'gain': [100, 0, -1, -1], 'sigma': [0.25, 0, -1, -1], 'type': 'gauss'}}}}, 'hw': {'soc': {'dacs': {'qubit': {'ch': [0, 1, 2, 3], 'type': 'full', 'nyquist': [2, 1, 2, 2], 'mixer_freq': [0, 0, 0, 0]}, 'swap': {'ch': 1, 'type': 'full', 'nyquist': 1, 'mixer_freq': 0}, 'swap_f0g1': {'ch': [1, 1, 5, 5], 'type': ['full', 'full', 'full', 'full'], 'nyquist': 1, 'mixer_freq': 0}, 'swap_Q': {'ch': [0, -1, 2, 3], 'type': ['full', 'None', 'full', 'full'], 'nyquist': [2, 0, 2, 2], 'mixer_freq': 0}, 'readout': {'ch': [6, 4, 6, 6], 'full_mux_chs': [5, 4, 5, 5], 'type': ['mux4', 'full', 'mux4', 'mux4'], 'mixer_freq': [7200, 0, 7200, 7200], 'nyquist': [2, 2, 2, 2]}, 'res_pump': {'ch': 4, 'type': 'full', 'mixer_freq': 0, 'nyquist': 2}, 'delay_chs': {'ch': [0, 1, 2, 3, 4, 5, 6], 'delay_ns': [0.0, 2.0, 2.0, 0.0, 25, 24, 73]}}, 'adcs': {'readout': {'ch': [0, 1, 2, 3]}}}, 'lo': {'twpa': {'frequency': '8210.0e6', 'power': -1.5}, 'readout': {'frequency': 0, 'power': 0}}}, 'aliases': {'readout_LO': 'SC_20A1', 'twpa_LO': 'SC_26C1', 'soc': 'Qick_QRAM'}, 'expt': {'start_N': 0, 'step_N': 1, 'expts_N': 10, 'start_f': -4.5, 'step_f': 0.15, 'expts_f': 61, 'reps': 500, 'loops': 1, 'pulse_type': 'robust', 'checkEF': False, 'qTest': 2, 'qZZ': 1, 'test_pi_half': True, 'divide_len': True, 'post_process': 'threshold', 'singleshot_reps': 15000, 'full_mux_expt': False, 'resonator_reset': None, 'use_robust_pulses': True, 'sweep_phase': True}}\n"
     ]
    },
    {
     "data": {
      "application/vnd.jupyter.widget-view+json": {
       "model_id": "c878b0b0f8bc496d90d4d83ea403a0ed",
       "version_major": 2,
       "version_minor": 0
      },
      "text/plain": [
       "  0%|          | 0/2 [00:00<?, ?it/s]"
      ]
     },
     "metadata": {},
     "output_type": "display_data"
    },
    {
     "name": "stdout",
     "output_type": "stream",
     "text": [
      "Qubit  (2)\n",
      "ge fidelity (%): 68.2 \t angle (deg): 2.2260083296548605 \t threshold ge: 29.33482910870933\n"
     ]
    },
    {
     "data": {
      "application/vnd.jupyter.widget-view+json": {
       "model_id": "dacb722601634b969adf5d0991c6ae2f",
       "version_major": 2,
       "version_minor": 0
      },
      "text/plain": [
       "  0%|          | 0/10 [00:00<?, ?it/s]"
      ]
     },
     "metadata": {},
     "output_type": "display_data"
    },
    {
     "name": "stdout",
     "output_type": "stream",
     "text": [
      "Fit best freq 0.7320094417994097 which is 0.7320094417994097 away from old freq 0\n",
      "Best virtual Z (deg) 3.9528509857168133\n",
      "updated phase correction 3.9528509857168133\n",
      "-------- Error amplification --------\n"
     ]
    },
    {
     "data": {
      "application/vnd.jupyter.widget-view+json": {
       "model_id": "0f9578043a634831ad6d746102efe644",
       "version_major": 2,
       "version_minor": 0
      },
      "text/plain": [
       "  0%|          | 0/2 [00:00<?, ?it/s]"
      ]
     },
     "metadata": {},
     "output_type": "display_data"
    },
    {
     "name": "stdout",
     "output_type": "stream",
     "text": [
      "Qubit  (2)\n",
      "g unrotated averages:\n",
      "I 12.900802560763887 +/- 17.479345519810323 \t Q 0.5363326605902777 +/- 16.439897103177824 \t Amp 23.833332219427867 +/- 13.20940465414688\n",
      "Rotated (theta=0.08655981345938801):\n",
      "I 12.806135541853381 +/- 17.492424958065016 \t Q 1.6496217500710797 +/- 16.425979594850713 \t Amp 12.911946384439023 +/- 13.20940465414688\n",
      "e unrotated averages:\n",
      "I 47.90043389756945 +/- 21.207831739356376 \t Q -2.5008180772569446 +/- 16.332749267060706 \t Amp 51.32379254344371 +/- 19.57306320671423\n",
      "Rotated (theta=0.08655981345938801):\n",
      "I 47.937296614563564 +/- 21.205574266765378 \t Q 1.6496217500710797 +/- 16.335680142627112 \t Amp 47.965671668714855 +/- 19.57306320671423\n",
      "ge fidelity (%): 65.79333333333335 \t angle (deg): 4.959511986662632 \t threshold ge: 29.36823262277064\n"
     ]
    },
    {
     "data": {
      "application/vnd.jupyter.widget-view+json": {
       "model_id": "1f8d3833a65d4ce3b2da81cfdbaa70fe",
       "version_major": 2,
       "version_minor": 0
      },
      "text/plain": [
       "  0%|          | 0/20 [00:00<?, ?it/s]"
      ]
     },
     "metadata": {},
     "output_type": "display_data"
    },
    {
     "name": "stdout",
     "output_type": "stream",
     "text": [
      "fitparams [None, 0.017453292519943295]\n",
      "From amps: adjust amplitude to 20501 / 0.9827788655327622 = 20860.23694545614\n",
      "From avgi: adjust amplitude to 20501 / 1.0152837022414847 = 20192.385591080678\n",
      "From avgq: adjust amplitude to 20501 / 1.023473918375046 = 20030.798667101477\n",
      "best 1 0.022074098131888265\n",
      "updated pi_gain from error amplification 20192\n",
      "\n",
      "\n",
      "\n",
      "######### BEGINNING QUBIT 2 WITH ZZ FROM 2 #########\n",
      "initial pi_len 0.015\n",
      "initial pi_gain 20406\n",
      "initial pi_freq 4759.612271171617\n",
      "-------- Ramsey --------\n",
      "ramsey freq 2.5\n",
      "Running Ramsey on Q2 \n"
     ]
    },
    {
     "data": {
      "application/vnd.jupyter.widget-view+json": {
       "model_id": "eb0f56e0137d4da99d9522cdb40b7794",
       "version_major": 2,
       "version_minor": 0
      },
      "text/plain": [
       "  0%|          | 0/10 [00:00<?, ?it/s]"
      ]
     },
     "metadata": {},
     "output_type": "display_data"
    },
    {
     "name": "stdout",
     "output_type": "stream",
     "text": [
      "WARNING: not sure if single shot checking makes sense when there are multiple rounds of averaging... use at your own risk\n",
      "best 1 0.024255756124548777\n",
      "Current pi pulse frequency: 4759.612271171617\n",
      "Fit frequency from amps [MHz]: 2.5011235104262934 +/- 0.003335892839898268\n",
      "Suggested new pi pulse frequencies from fit amps [MHz]:\n",
      " \t4759.61114766119\n",
      " \t4754.61114766119\n",
      "T2 Ramsey from fit amps [us]: 10.910421430611516 +/- 2.4232456744431077\n",
      "Current pi pulse frequency: 4759.612271171617\n",
      "Fit frequency from I [MHz]: 2.49500528296981 +/- 0.0011782214692266117\n",
      "Suggested new pi pulse frequency from fit I [MHz]:\n",
      " \t4759.617265888647\n",
      " \t4754.617265888647\n",
      "T2 Ramsey from fit I [us]: 13.385564181579456 +/- 1.2853548306270541\n",
      "Fit frequency from Q [MHz]: 2.4933782884842524 +/- 0.0037193762021337203\n",
      "Suggested new pi pulse frequencies from fit Q [MHz]:\n",
      " \t4759.6188928831325\n",
      " \t4754.6188928831325\n",
      "T2 Ramsey from fit Q [us]: 20.93311496678122 +/- 9.922789325843366\n",
      "updated pi_freq 4759.617265888647\n",
      "-------- Amp rabi --------\n",
      "Running amp rabi on Q2 \n"
     ]
    },
    {
     "data": {
      "application/vnd.jupyter.widget-view+json": {
       "model_id": "5ed71b84cf234180a4e1b6b184fdccad",
       "version_major": 2,
       "version_minor": 0
      },
      "text/plain": [
       "  0%|          | 0/10 [00:00<?, ?it/s]"
      ]
     },
     "metadata": {},
     "output_type": "display_data"
    },
    {
     "name": "stdout",
     "output_type": "stream",
     "text": [
      "WARNING: not sure if single shot checking makes sense when there are multiple rounds of averaging... use at your own risk\n",
      "(4, 75, 100)\n",
      "best 1 0.01161312440615459\n",
      "Pi gain from amps data [dac units]: 20287\n",
      "\tPi/2 gain from amps data [dac units]: 10143\n",
      "Pi gain from avgi data [dac units]: 19990\n",
      "\tPi/2 gain from avgi data [dac units]: 9995\n",
      "Pi gain from avgq data [dac units]: 20263\n",
      "\tPi/2 gain from avgq data [dac units]: 10131\n",
      "updated pi_gain round 2 19990\n",
      "-------- Pi Minus Pi --------\n",
      "{'device': {'readout': {'trig_offset': 150, 'lo_sideband': [1, 1, 1, 1], 'frequency': [-389.975, 5795.761666663333, 502.368233333334, -228.9], 'gain': [0.4, 0.5, 0.3, 0.2], 'readout_length': [5, 20, 10, 8], 'frequency_ef': [-391.91408405, 5795.76166666, 500.44439227, -230.30732892], 'gain_ef': [0.05, 0.6, 0.4, 0.25], 'readout_length_ef': [1, 20, 10, 8], 'relax_delay': [450, 450, 450, 450]}, 'qubit': {'f_ge': [4108.6352143528575, 4103.243553024718, 4108.491689964749, 4108.066288400736, 3442.8688097468294, 3448.2597196742877, 3447.149851461427, 3446.943321983037, 4759.488589798401, 4758.50698515513, 4759.617265888647, 4759.093894457347, 4377.466056020506, 4376.65632732359, 4377.47219792754, 4377.988666116248], 'f_ef': [3882.584812861004, 0.0, 0.0, 0.0, 0.0, 3347.8123422280078, 0.0, 0.0, 4571.9056482340775, 4571.009319367402, 4570.125075914433, 0.0, 4211.704645679207, 4206.869581627414, 0.0, 4205.162855964244], 'f_EgGf': [2686.53594683, 0, 2017.3, 2414.92850999], 'f_EgGf_Q_half': [0, 0, 5885.6717699723895, 5138], 'f_EgGf_Q': [0, 0, 5880.504550983305, 5132.386793750588], 'f_f0g1': [1184.4, 999.8, 1632.9833333333333, 1620.9166666666665], 'gs': [52.40296404695958, 54.81794456602636, 43.49513117058557, 4.930653352423196, 2.6415018214608046, 6.386231497692186], 'pulses': {'pi_ge': {'sigma': [0.02, 0.02, 0.02, 0.02, 0.025, 0.025, 0.025, 0.025, 0.015, 0.015, 0.015, 0.015, 0.025, 0.025, 0.025, 0.025], 'gain': [1849, 1914, 0, 1855, 2834, 2504, 2648, 2631, 9155, 9155, 9155, 9155, 3000, 3000, 3000, 3000], 'half_gain': [1850, 1835, 1873, 1867, 2382, 2186, 2248, 2289, 9253, 9253, 9253, 9253, 3120, 3120, 3120, 3120], 'half_correction_phase': [0, 0, 0, 0, 0, 0, 0, 0, 0, 0, 0, 0, 0, 0, 0, 0], 'half_gain_pi_sigma': [927, 0, 0, 0, 0, 1315, 0, 0, 0, 0, 7212, 0, 0, 0, 0, 460], 'type': 'gauss'}, 'pi_ef': {'sigma': [0.02, 0.02, 0.02, 0.02, 0.025, 0.025, 0.025, 0.025, 0.015, 0.015, 0.015, 0.015, 0.03, 0.03, 0.03, 0.03], 'gain': [1245, 0, 0, 0, 0, 1945, 0, 0, 0, 0, 6000, 0, 0, 0, 0, 1500], 'half_gain': [1243, 0, 0, 0, 0, 1619, 0, 0, 0, 6472, 6501, 0, 1427, 1601, 0, 1647], 'half_gain_pi_sigma': [673, 0, 0, 0, 0, 975, 0, 0, 0, 0, 3049, 0, 0, 0, 0, 1000], 'type': 'gauss'}, 'pi_EgGf': {'gain': [32000, 0, 30000, 16000], 'sigma': [0.586, 0, 0.8, 0.44643], 'type': 'flat_top'}, 'pi_EgGf_Q': {'half_gain': [0, 0, 12147, 14500], 'half_sigma': [0, 0, 0.231, 0.095], 'half_phase': [0, 0, 0.0, 0.0], 'gain': [0, 0, 24647, 24647], 'sigma': [0, 0, 0.245, 0.17], 'phase': [0, 0, 0.0, 0.0], 'type': 'flat_top'}, 'pi_f0g1': {'gain': [32000, 32000, 32000, 32000], 'sigma': [0.536, 0.585, 1.54, 1.04], 'idle': [3, 6, 12, 8], 'type': 'flat_top'}, 'pulse_pp': {'gain': [1750, 3550, 0, 0], 'filename': '240920_3_qram_4q_2qubit_++gg'}, 'pulse_1p': {'gain': [3500, 4375, 0, 0], 'filename': '240920_qram_4q_2qubit_e+gg'}, 'pulse_p1': {'gain': [3000, 5530, 0, 0], 'filename': '240920_qram_4q_2qubit_+egg'}, 'pihalf_ge_robust': {'gain': [7451, 7595, 7471, 7481, 4814, 4439, 4480, 4444, 20200, 20192, 19990, 20142, 12276, 12172, 12302, 12320], 'correction_phase': [12.771425603678084, 9.29781534792422, 12.148832830416332, 12.606633130020677, 0.5240598981582869, 0.09597764248557632, 0.4904676360127895, 0.5010312704801453, 3.188071848236603, 3.9528509857168133, 3.183564832840096, 3.2384320807890035, 27.201443290550866, -6.995431316414082, -6.77604262269097, -3.118889112056552], 'filename': ['X_2_Q0', 'X_2_Q1', 'X_2_Q2', 'X_2_Q3']}, 'pi_ge_slow': {'gain': [-1, 100, -1, -1], 'sigma': [-1, 0.25, -1, -1], 'type': 'gauss'}, 'pi_Q1_ZZ_slow': {'gain': [100, 0, -1, -1], 'sigma': [0.25, 0, -1, -1], 'type': 'gauss'}}}}, 'hw': {'soc': {'dacs': {'qubit': {'ch': [0, 1, 2, 3], 'type': 'full', 'nyquist': [2, 1, 2, 2], 'mixer_freq': [0, 0, 0, 0]}, 'swap': {'ch': 1, 'type': 'full', 'nyquist': 1, 'mixer_freq': 0}, 'swap_f0g1': {'ch': [1, 1, 5, 5], 'type': ['full', 'full', 'full', 'full'], 'nyquist': 1, 'mixer_freq': 0}, 'swap_Q': {'ch': [0, -1, 2, 3], 'type': ['full', 'None', 'full', 'full'], 'nyquist': [2, 0, 2, 2], 'mixer_freq': 0}, 'readout': {'ch': [6, 4, 6, 6], 'full_mux_chs': [5, 4, 5, 5], 'type': ['mux4', 'full', 'mux4', 'mux4'], 'mixer_freq': [7200, 0, 7200, 7200], 'nyquist': [2, 2, 2, 2]}, 'res_pump': {'ch': 4, 'type': 'full', 'mixer_freq': 0, 'nyquist': 2}, 'delay_chs': {'ch': [0, 1, 2, 3, 4, 5, 6], 'delay_ns': [0.0, 2.0, 2.0, 0.0, 25, 24, 73]}}, 'adcs': {'readout': {'ch': [0, 1, 2, 3]}}}, 'lo': {'twpa': {'frequency': '8210.0e6', 'power': -1.5}, 'readout': {'frequency': 0, 'power': 0}}}, 'aliases': {'readout_LO': 'SC_20A1', 'twpa_LO': 'SC_26C1', 'soc': 'Qick_QRAM'}, 'expt': {'start_N': 0, 'step_N': 1, 'expts_N': 10, 'start_f': -4.5, 'step_f': 0.15, 'expts_f': 61, 'reps': 500, 'loops': 1, 'pulse_type': 'robust', 'checkEF': False, 'qTest': 2, 'qZZ': 2, 'test_pi_half': True, 'divide_len': True, 'post_process': 'threshold', 'singleshot_reps': 15000, 'full_mux_expt': False, 'resonator_reset': None, 'use_robust_pulses': True, 'sweep_phase': True}}\n"
     ]
    },
    {
     "data": {
      "application/vnd.jupyter.widget-view+json": {
       "model_id": "5f84d6d719074dbe80cf61490f7d54ea",
       "version_major": 2,
       "version_minor": 0
      },
      "text/plain": [
       "  0%|          | 0/2 [00:00<?, ?it/s]"
      ]
     },
     "metadata": {},
     "output_type": "display_data"
    },
    {
     "name": "stdout",
     "output_type": "stream",
     "text": [
      "Qubit  (2)\n",
      "ge fidelity (%): 70.42666666666668 \t angle (deg): 7.270842862952673 \t threshold ge: 30.45880727712403\n"
     ]
    },
    {
     "data": {
      "application/vnd.jupyter.widget-view+json": {
       "model_id": "fb95fe0313764c7c8d5d33822232c265",
       "version_major": 2,
       "version_minor": 0
      },
      "text/plain": [
       "  0%|          | 0/10 [00:00<?, ?it/s]"
      ]
     },
     "metadata": {},
     "output_type": "display_data"
    },
    {
     "name": "stdout",
     "output_type": "stream",
     "text": [
      "Fit best freq 0.6227406614390931 which is 0.6227406614390931 away from old freq 0\n",
      "Best virtual Z (deg) 3.362799571771103\n",
      "updated phase correction 3.362799571771103\n",
      "-------- Error amplification --------\n"
     ]
    },
    {
     "data": {
      "application/vnd.jupyter.widget-view+json": {
       "model_id": "e0a18db96a9f4037acd4be388691fcaf",
       "version_major": 2,
       "version_minor": 0
      },
      "text/plain": [
       "  0%|          | 0/2 [00:00<?, ?it/s]"
      ]
     },
     "metadata": {},
     "output_type": "display_data"
    },
    {
     "name": "stdout",
     "output_type": "stream",
     "text": [
      "Qubit  (2)\n",
      "g unrotated averages:\n",
      "I 12.682688758680554 +/- 17.62774614226744 \t Q 0.1925120442708334 +/- 16.321910641161193 \t Amp 23.800615589536626 +/- 13.098112598009427\n",
      "Rotated (theta=0.18831548682941696):\n",
      "I 12.422432105179515 +/- 17.68696136435692 \t Q 2.5633641233653663 +/- 16.25772427893957 \t Amp 12.684149756162274 +/- 13.098112598009427\n",
      "e unrotated averages:\n",
      "I 49.21209131944445 +/- 20.729831271104725 \t Q -6.769027105034723 +/- 16.392141041475263 \t Amp 52.885960907553596 +/- 19.21335450458445\n",
      "Rotated (theta=0.18831548682941696):\n",
      "I 49.60926147760192 +/- 20.739907112654393 \t Q 2.5633641233653655 +/- 16.3793908742223 \t Amp 49.675443228843314 +/- 19.21335450458445\n",
      "ge fidelity (%): 68.77333333333333 \t angle (deg): 10.789682612277034 \t threshold ge: 30.13796863030076\n"
     ]
    },
    {
     "data": {
      "application/vnd.jupyter.widget-view+json": {
       "model_id": "91ccc44a0645474a85f4682088b76d8e",
       "version_major": 2,
       "version_minor": 0
      },
      "text/plain": [
       "  0%|          | 0/20 [00:00<?, ?it/s]"
      ]
     },
     "metadata": {},
     "output_type": "display_data"
    },
    {
     "name": "stdout",
     "output_type": "stream",
     "text": [
      "fitparams [None, 0.017453292519943295]\n",
      "From amps: adjust amplitude to 19990 / 0.9951260654918427 = 20087.90714382495\n",
      "From avgi: adjust amplitude to 19990 / 0.990612206623621 = 20179.44041708656\n",
      "From avgq: adjust amplitude to 19990 / 1.0021419461891932 = 19947.274012444253\n",
      "best 1 0.020299884295237023\n",
      "updated pi_gain from error amplification 20179\n",
      "\n",
      "\n",
      "\n",
      "######### BEGINNING QUBIT 2 WITH ZZ FROM 3 #########\n",
      "initial pi_len 0.015\n",
      "initial pi_gain 20142\n",
      "initial pi_freq 4759.093894457347\n",
      "-------- Ramsey --------\n",
      "ramsey freq 2.5\n",
      "Running Ramsey on Q2 with ZZ Q3\n"
     ]
    },
    {
     "data": {
      "application/vnd.jupyter.widget-view+json": {
       "model_id": "7733c290dcbf4feeade7e02cfb6c8799",
       "version_major": 2,
       "version_minor": 0
      },
      "text/plain": [
       "  0%|          | 0/10 [00:00<?, ?it/s]"
      ]
     },
     "metadata": {},
     "output_type": "display_data"
    },
    {
     "name": "stdout",
     "output_type": "stream",
     "text": [
      "WARNING: not sure if single shot checking makes sense when there are multiple rounds of averaging... use at your own risk\n",
      "best 1 0.03128170157725328\n",
      "Current pi pulse frequency: 4759.093894457347\n",
      "Fit frequency from amps [MHz]: 2.5035273750388005 +/- 0.003343989873284596\n",
      "Suggested new pi pulse frequencies from fit amps [MHz]:\n",
      " \t4759.090367082308\n",
      " \t4754.090367082308\n",
      "T2 Ramsey from fit amps [us]: 8.350386590929403 +/- 1.424448538320597\n",
      "Current pi pulse frequency: 4759.093894457347\n",
      "Fit frequency from I [MHz]: 2.508077964511239 +/- 0.0016556730627556278\n",
      "Suggested new pi pulse frequency from fit I [MHz]:\n",
      " \t4759.085816492836\n",
      " \t4754.085816492836\n",
      "T2 Ramsey from fit I [us]: 11.933779543866052 +/- 1.443725193447815\n",
      "Fit frequency from Q [MHz]: 2.5051326794509228 +/- 0.0027586668532541834\n",
      "Suggested new pi pulse frequencies from fit Q [MHz]:\n",
      " \t4759.088761777896\n",
      " \t4754.088761777896\n",
      "T2 Ramsey from fit Q [us]: 14.359527103953209 +/- 3.48028239370073\n",
      "updated pi_freq 4759.085816492836\n",
      "-------- Amp rabi --------\n",
      "Running amp rabi on Q2 with ZZ Q3\n"
     ]
    },
    {
     "data": {
      "application/vnd.jupyter.widget-view+json": {
       "model_id": "0cd149111b0a4faa916a1087c27822ed",
       "version_major": 2,
       "version_minor": 0
      },
      "text/plain": [
       "  0%|          | 0/10 [00:00<?, ?it/s]"
      ]
     },
     "metadata": {},
     "output_type": "display_data"
    },
    {
     "name": "stdout",
     "output_type": "stream",
     "text": [
      "WARNING: not sure if single shot checking makes sense when there are multiple rounds of averaging... use at your own risk\n",
      "(4, 75, 100)\n",
      "best 1 0.02349344036517017\n",
      "Pi gain from amps data [dac units]: 19319\n",
      "\tPi/2 gain from amps data [dac units]: 9659\n",
      "Pi gain from avgi data [dac units]: 20422\n",
      "\tPi/2 gain from avgi data [dac units]: 10211\n",
      "Pi gain from avgq data [dac units]: 20330\n",
      "\tPi/2 gain from avgq data [dac units]: 10165\n",
      "updated pi_gain round 2 20422\n",
      "-------- Pi Minus Pi --------\n",
      "{'device': {'readout': {'trig_offset': 150, 'lo_sideband': [1, 1, 1, 1], 'frequency': [-389.975, 5795.761666663333, 502.368233333334, -228.9], 'gain': [0.4, 0.5, 0.3, 0.2], 'readout_length': [5, 20, 10, 8], 'frequency_ef': [-391.91408405, 5795.76166666, 500.44439227, -230.30732892], 'gain_ef': [0.05, 0.6, 0.4, 0.25], 'readout_length_ef': [1, 20, 10, 8], 'relax_delay': [450, 450, 450, 450]}, 'qubit': {'f_ge': [4108.6352143528575, 4103.243553024718, 4108.491689964749, 4108.066288400736, 3442.8688097468294, 3448.2597196742877, 3447.149851461427, 3446.943321983037, 4759.488589798401, 4758.50698515513, 4759.617265888647, 4759.085816492836, 4377.466056020506, 4376.65632732359, 4377.47219792754, 4377.988666116248], 'f_ef': [3882.584812861004, 0.0, 0.0, 0.0, 0.0, 3347.8123422280078, 0.0, 0.0, 4571.9056482340775, 4571.009319367402, 4570.125075914433, 0.0, 4211.704645679207, 4206.869581627414, 0.0, 4205.162855964244], 'f_EgGf': [2686.53594683, 0, 2017.3, 2414.92850999], 'f_EgGf_Q_half': [0, 0, 5885.6717699723895, 5138], 'f_EgGf_Q': [0, 0, 5880.504550983305, 5132.386793750588], 'f_f0g1': [1184.4, 999.8, 1632.9833333333333, 1620.9166666666665], 'gs': [52.40296404695958, 54.81794456602636, 43.49513117058557, 4.930653352423196, 2.6415018214608046, 6.386231497692186], 'pulses': {'pi_ge': {'sigma': [0.02, 0.02, 0.02, 0.02, 0.025, 0.025, 0.025, 0.025, 0.015, 0.015, 0.015, 0.015, 0.025, 0.025, 0.025, 0.025], 'gain': [1849, 1914, 0, 1855, 2834, 2504, 2648, 2631, 9155, 9155, 9155, 9155, 3000, 3000, 3000, 3000], 'half_gain': [1850, 1835, 1873, 1867, 2382, 2186, 2248, 2289, 9253, 9253, 9253, 9253, 3120, 3120, 3120, 3120], 'half_correction_phase': [0, 0, 0, 0, 0, 0, 0, 0, 0, 0, 0, 0, 0, 0, 0, 0], 'half_gain_pi_sigma': [927, 0, 0, 0, 0, 1315, 0, 0, 0, 0, 7212, 0, 0, 0, 0, 460], 'type': 'gauss'}, 'pi_ef': {'sigma': [0.02, 0.02, 0.02, 0.02, 0.025, 0.025, 0.025, 0.025, 0.015, 0.015, 0.015, 0.015, 0.03, 0.03, 0.03, 0.03], 'gain': [1245, 0, 0, 0, 0, 1945, 0, 0, 0, 0, 6000, 0, 0, 0, 0, 1500], 'half_gain': [1243, 0, 0, 0, 0, 1619, 0, 0, 0, 6472, 6501, 0, 1427, 1601, 0, 1647], 'half_gain_pi_sigma': [673, 0, 0, 0, 0, 975, 0, 0, 0, 0, 3049, 0, 0, 0, 0, 1000], 'type': 'gauss'}, 'pi_EgGf': {'gain': [32000, 0, 30000, 16000], 'sigma': [0.586, 0, 0.8, 0.44643], 'type': 'flat_top'}, 'pi_EgGf_Q': {'half_gain': [0, 0, 12147, 14500], 'half_sigma': [0, 0, 0.231, 0.095], 'half_phase': [0, 0, 0.0, 0.0], 'gain': [0, 0, 24647, 24647], 'sigma': [0, 0, 0.245, 0.17], 'phase': [0, 0, 0.0, 0.0], 'type': 'flat_top'}, 'pi_f0g1': {'gain': [32000, 32000, 32000, 32000], 'sigma': [0.536, 0.585, 1.54, 1.04], 'idle': [3, 6, 12, 8], 'type': 'flat_top'}, 'pulse_pp': {'gain': [1750, 3550, 0, 0], 'filename': '240920_3_qram_4q_2qubit_++gg'}, 'pulse_1p': {'gain': [3500, 4375, 0, 0], 'filename': '240920_qram_4q_2qubit_e+gg'}, 'pulse_p1': {'gain': [3000, 5530, 0, 0], 'filename': '240920_qram_4q_2qubit_+egg'}, 'pihalf_ge_robust': {'gain': [7451, 7595, 7471, 7481, 4814, 4439, 4480, 4444, 20200, 20192, 20179, 20422, 12276, 12172, 12302, 12320], 'correction_phase': [12.771425603678084, 9.29781534792422, 12.148832830416332, 12.606633130020677, 0.5240598981582869, 0.09597764248557632, 0.4904676360127895, 0.5010312704801453, 3.188071848236603, 3.9528509857168133, 3.362799571771103, 3.2384320807890035, 27.201443290550866, -6.995431316414082, -6.77604262269097, -3.118889112056552], 'filename': ['X_2_Q0', 'X_2_Q1', 'X_2_Q2', 'X_2_Q3']}, 'pi_ge_slow': {'gain': [-1, 100, -1, -1], 'sigma': [-1, 0.25, -1, -1], 'type': 'gauss'}, 'pi_Q1_ZZ_slow': {'gain': [100, 0, -1, -1], 'sigma': [0.25, 0, -1, -1], 'type': 'gauss'}}}}, 'hw': {'soc': {'dacs': {'qubit': {'ch': [0, 1, 2, 3], 'type': 'full', 'nyquist': [2, 1, 2, 2], 'mixer_freq': [0, 0, 0, 0]}, 'swap': {'ch': 1, 'type': 'full', 'nyquist': 1, 'mixer_freq': 0}, 'swap_f0g1': {'ch': [1, 1, 5, 5], 'type': ['full', 'full', 'full', 'full'], 'nyquist': 1, 'mixer_freq': 0}, 'swap_Q': {'ch': [0, -1, 2, 3], 'type': ['full', 'None', 'full', 'full'], 'nyquist': [2, 0, 2, 2], 'mixer_freq': 0}, 'readout': {'ch': [6, 4, 6, 6], 'full_mux_chs': [5, 4, 5, 5], 'type': ['mux4', 'full', 'mux4', 'mux4'], 'mixer_freq': [7200, 0, 7200, 7200], 'nyquist': [2, 2, 2, 2]}, 'res_pump': {'ch': 4, 'type': 'full', 'mixer_freq': 0, 'nyquist': 2}, 'delay_chs': {'ch': [0, 1, 2, 3, 4, 5, 6], 'delay_ns': [0.0, 2.0, 2.0, 0.0, 25, 24, 73]}}, 'adcs': {'readout': {'ch': [0, 1, 2, 3]}}}, 'lo': {'twpa': {'frequency': '8210.0e6', 'power': -1.5}, 'readout': {'frequency': 0, 'power': 0}}}, 'aliases': {'readout_LO': 'SC_20A1', 'twpa_LO': 'SC_26C1', 'soc': 'Qick_QRAM'}, 'expt': {'start_N': 0, 'step_N': 1, 'expts_N': 10, 'start_f': -4.5, 'step_f': 0.15, 'expts_f': 61, 'reps': 500, 'loops': 1, 'pulse_type': 'robust', 'checkEF': False, 'qTest': 2, 'qZZ': 3, 'test_pi_half': True, 'divide_len': True, 'post_process': 'threshold', 'singleshot_reps': 15000, 'full_mux_expt': False, 'resonator_reset': None, 'use_robust_pulses': True, 'sweep_phase': True}}\n"
     ]
    },
    {
     "data": {
      "application/vnd.jupyter.widget-view+json": {
       "model_id": "18ef86b3ae3249fdbaf5fc09b63220a6",
       "version_major": 2,
       "version_minor": 0
      },
      "text/plain": [
       "  0%|          | 0/2 [00:00<?, ?it/s]"
      ]
     },
     "metadata": {},
     "output_type": "display_data"
    },
    {
     "name": "stdout",
     "output_type": "stream",
     "text": [
      "Qubit  (2)\n",
      "ge fidelity (%): 69.12578394115165 \t angle (deg): 13.613774979678615 \t threshold ge: 30.78063761106415\n"
     ]
    },
    {
     "data": {
      "application/vnd.jupyter.widget-view+json": {
       "model_id": "d142b4c5475a4713a21f6e874e8f9969",
       "version_major": 2,
       "version_minor": 0
      },
      "text/plain": [
       "  0%|          | 0/10 [00:00<?, ?it/s]"
      ]
     },
     "metadata": {},
     "output_type": "display_data"
    },
    {
     "name": "stdout",
     "output_type": "stream",
     "text": [
      "Fit best freq 0.6439378408974803 which is 0.6439378408974803 away from old freq 0\n",
      "Best virtual Z (deg) 3.4772643408463932\n",
      "updated phase correction 3.4772643408463932\n",
      "-------- Error amplification --------\n"
     ]
    },
    {
     "data": {
      "application/vnd.jupyter.widget-view+json": {
       "model_id": "66d9af89ace34cf2953e416c998c2dc1",
       "version_major": 2,
       "version_minor": 0
      },
      "text/plain": [
       "  0%|          | 0/2 [00:00<?, ?it/s]"
      ]
     },
     "metadata": {},
     "output_type": "display_data"
    },
    {
     "name": "stdout",
     "output_type": "stream",
     "text": [
      "Qubit  (2)\n",
      "g unrotated averages:\n",
      "I 12.661227018229166 +/- 17.902098139951793 \t Q -1.0396226128472223 +/- 16.574831491929263 \t Amp 24.00473174165395 +/- 13.430208322800747\n",
      "Rotated (theta=0.2593533482225689):\n",
      "I 12.504402186075744 +/- 18.032490389972036 \t Q 2.242188830840012 +/- 16.432877019374352 \t Amp 12.703837403882323 +/- 13.430208322800747\n",
      "e unrotated averages:\n",
      "I 49.809607421875 +/- 21.032261467795777 \t Q -10.8961744140625 +/- 16.87388244781285 \t Amp 54.257040481844264 +/- 19.56990285736804\n",
      "Rotated (theta=0.2593533482225689):\n",
      "I 50.93816052459916 +/- 21.262981977494107 \t Q 2.2421888308400084 +/- 16.582205183180385 \t Amp 50.98748482111053 +/- 19.56990285736804\n",
      "ge fidelity (%): 69.46666666666663 \t angle (deg): 14.859852255739968 \t threshold ge: 30.948941464684097\n"
     ]
    },
    {
     "data": {
      "application/vnd.jupyter.widget-view+json": {
       "model_id": "3d18cc79f94740e8ac3b7b13adf0614a",
       "version_major": 2,
       "version_minor": 0
      },
      "text/plain": [
       "  0%|          | 0/20 [00:00<?, ?it/s]"
      ]
     },
     "metadata": {},
     "output_type": "display_data"
    },
    {
     "name": "stdout",
     "output_type": "stream",
     "text": [
      "fitparams [None, 0.017453292519943295]\n",
      "From amps: adjust amplitude to 20422 / 0.9926981096443177 = 20572.21606608798\n",
      "From avgi: adjust amplitude to 20422 / 1.0113670649082425 = 20192.470872929614\n",
      "From avgq: adjust amplitude to 20422 / 1.0130066161724536 = 20159.78935770679\n",
      "best 1 0.01161088414549037\n",
      "updated pi_gain from error amplification 20192\n",
      "\n",
      "\n",
      "\n",
      "######### BEGINNING QUBIT 3 WITH ZZ FROM 0 #########\n",
      "initial pi_len 0.025\n",
      "initial pi_gain 12276\n",
      "initial pi_freq 4377.466056020506\n",
      "-------- Ramsey --------\n",
      "ramsey freq 2.5\n",
      "Running Ramsey on Q3 with ZZ Q0\n"
     ]
    },
    {
     "data": {
      "application/vnd.jupyter.widget-view+json": {
       "model_id": "adf7102e33f14b2c9fcfd463ac609c9e",
       "version_major": 2,
       "version_minor": 0
      },
      "text/plain": [
       "  0%|          | 0/10 [00:00<?, ?it/s]"
      ]
     },
     "metadata": {},
     "output_type": "display_data"
    },
    {
     "name": "stdout",
     "output_type": "stream",
     "text": [
      "WARNING: not sure if single shot checking makes sense when there are multiple rounds of averaging... use at your own risk\n",
      "best 2 0.038299807387531914\n",
      "Current pi pulse frequency: 4377.466056020506\n",
      "Fit frequency from amps [MHz]: 2.559407606540495 +/- 0.005819385794957357\n",
      "Suggested new pi pulse frequencies from fit amps [MHz]:\n",
      " \t4377.406648413965\n",
      " \t4372.406648413965\n",
      "T2 Ramsey from fit amps [us]: 21.8442964633329 +/- 17.300840217224188\n",
      "Current pi pulse frequency: 4377.466056020506\n",
      "Fit frequency from I [MHz]: 2.5601235327919474 +/- 0.005535454516635868\n",
      "Suggested new pi pulse frequency from fit I [MHz]:\n",
      " \t4377.4059324877135\n",
      " \t4372.4059324877135\n",
      "T2 Ramsey from fit I [us]: 7.782470946115398 +/- 2.0764939451486417\n",
      "Fit frequency from Q [MHz]: 2.5582346855934226 +/- 0.0013969585507121957\n",
      "Suggested new pi pulse frequencies from fit Q [MHz]:\n",
      " \t4377.407821334912\n",
      " \t4372.407821334912\n",
      "T2 Ramsey from fit Q [us]: 17.923753813854816 +/- 2.791485109976083\n",
      "updated pi_freq 4377.407821334912\n",
      "-------- Amp rabi --------\n",
      "Running amp rabi on Q3 with ZZ Q0\n"
     ]
    },
    {
     "data": {
      "application/vnd.jupyter.widget-view+json": {
       "model_id": "ca6154049d654848bbef2bf3be47fdc9",
       "version_major": 2,
       "version_minor": 0
      },
      "text/plain": [
       "  0%|          | 0/10 [00:00<?, ?it/s]"
      ]
     },
     "metadata": {},
     "output_type": "display_data"
    },
    {
     "name": "stdout",
     "output_type": "stream",
     "text": [
      "WARNING: not sure if single shot checking makes sense when there are multiple rounds of averaging... use at your own risk\n",
      "(4, 75, 100)\n",
      "best 2 0.013357780495473792\n",
      "Pi gain from amps data [dac units]: 10741\n",
      "\tPi/2 gain from amps data [dac units]: 5370\n",
      "Pi gain from avgi data [dac units]: 11915\n",
      "\tPi/2 gain from avgi data [dac units]: 5957\n",
      "Pi gain from avgq data [dac units]: 11681\n",
      "\tPi/2 gain from avgq data [dac units]: 5840\n",
      "updated pi_gain round 2 11681\n",
      "-------- Pi Minus Pi --------\n",
      "{'device': {'readout': {'trig_offset': 150, 'lo_sideband': [1, 1, 1, 1], 'frequency': [-389.975, 5795.761666663333, 502.368233333334, -228.9], 'gain': [0.4, 0.5, 0.3, 0.2], 'readout_length': [5, 20, 10, 8], 'frequency_ef': [-391.91408405, 5795.76166666, 500.44439227, -230.30732892], 'gain_ef': [0.05, 0.6, 0.4, 0.25], 'readout_length_ef': [1, 20, 10, 8], 'relax_delay': [450, 450, 450, 450]}, 'qubit': {'f_ge': [4108.6352143528575, 4103.243553024718, 4108.491689964749, 4108.066288400736, 3442.8688097468294, 3448.2597196742877, 3447.149851461427, 3446.943321983037, 4759.488589798401, 4758.50698515513, 4759.617265888647, 4759.085816492836, 4377.407821334912, 4376.65632732359, 4377.47219792754, 4377.988666116248], 'f_ef': [3882.584812861004, 0.0, 0.0, 0.0, 0.0, 3347.8123422280078, 0.0, 0.0, 4571.9056482340775, 4571.009319367402, 4570.125075914433, 0.0, 4211.704645679207, 4206.869581627414, 0.0, 4205.162855964244], 'f_EgGf': [2686.53594683, 0, 2017.3, 2414.92850999], 'f_EgGf_Q_half': [0, 0, 5885.6717699723895, 5138], 'f_EgGf_Q': [0, 0, 5880.504550983305, 5132.386793750588], 'f_f0g1': [1184.4, 999.8, 1632.9833333333333, 1620.9166666666665], 'gs': [52.40296404695958, 54.81794456602636, 43.49513117058557, 4.930653352423196, 2.6415018214608046, 6.386231497692186], 'pulses': {'pi_ge': {'sigma': [0.02, 0.02, 0.02, 0.02, 0.025, 0.025, 0.025, 0.025, 0.015, 0.015, 0.015, 0.015, 0.025, 0.025, 0.025, 0.025], 'gain': [1849, 1914, 0, 1855, 2834, 2504, 2648, 2631, 9155, 9155, 9155, 9155, 3000, 3000, 3000, 3000], 'half_gain': [1850, 1835, 1873, 1867, 2382, 2186, 2248, 2289, 9253, 9253, 9253, 9253, 3120, 3120, 3120, 3120], 'half_correction_phase': [0, 0, 0, 0, 0, 0, 0, 0, 0, 0, 0, 0, 0, 0, 0, 0], 'half_gain_pi_sigma': [927, 0, 0, 0, 0, 1315, 0, 0, 0, 0, 7212, 0, 0, 0, 0, 460], 'type': 'gauss'}, 'pi_ef': {'sigma': [0.02, 0.02, 0.02, 0.02, 0.025, 0.025, 0.025, 0.025, 0.015, 0.015, 0.015, 0.015, 0.03, 0.03, 0.03, 0.03], 'gain': [1245, 0, 0, 0, 0, 1945, 0, 0, 0, 0, 6000, 0, 0, 0, 0, 1500], 'half_gain': [1243, 0, 0, 0, 0, 1619, 0, 0, 0, 6472, 6501, 0, 1427, 1601, 0, 1647], 'half_gain_pi_sigma': [673, 0, 0, 0, 0, 975, 0, 0, 0, 0, 3049, 0, 0, 0, 0, 1000], 'type': 'gauss'}, 'pi_EgGf': {'gain': [32000, 0, 30000, 16000], 'sigma': [0.586, 0, 0.8, 0.44643], 'type': 'flat_top'}, 'pi_EgGf_Q': {'half_gain': [0, 0, 12147, 14500], 'half_sigma': [0, 0, 0.231, 0.095], 'half_phase': [0, 0, 0.0, 0.0], 'gain': [0, 0, 24647, 24647], 'sigma': [0, 0, 0.245, 0.17], 'phase': [0, 0, 0.0, 0.0], 'type': 'flat_top'}, 'pi_f0g1': {'gain': [32000, 32000, 32000, 32000], 'sigma': [0.536, 0.585, 1.54, 1.04], 'idle': [3, 6, 12, 8], 'type': 'flat_top'}, 'pulse_pp': {'gain': [1750, 3550, 0, 0], 'filename': '240920_3_qram_4q_2qubit_++gg'}, 'pulse_1p': {'gain': [3500, 4375, 0, 0], 'filename': '240920_qram_4q_2qubit_e+gg'}, 'pulse_p1': {'gain': [3000, 5530, 0, 0], 'filename': '240920_qram_4q_2qubit_+egg'}, 'pihalf_ge_robust': {'gain': [7451, 7595, 7471, 7481, 4814, 4439, 4480, 4444, 20200, 20192, 20179, 20192, 11681, 12172, 12302, 12320], 'correction_phase': [12.771425603678084, 9.29781534792422, 12.148832830416332, 12.606633130020677, 0.5240598981582869, 0.09597764248557632, 0.4904676360127895, 0.5010312704801453, 3.188071848236603, 3.9528509857168133, 3.362799571771103, 3.4772643408463932, 27.201443290550866, -6.995431316414082, -6.77604262269097, -3.118889112056552], 'filename': ['X_2_Q0', 'X_2_Q1', 'X_2_Q2', 'X_2_Q3']}, 'pi_ge_slow': {'gain': [-1, 100, -1, -1], 'sigma': [-1, 0.25, -1, -1], 'type': 'gauss'}, 'pi_Q1_ZZ_slow': {'gain': [100, 0, -1, -1], 'sigma': [0.25, 0, -1, -1], 'type': 'gauss'}}}}, 'hw': {'soc': {'dacs': {'qubit': {'ch': [0, 1, 2, 3], 'type': 'full', 'nyquist': [2, 1, 2, 2], 'mixer_freq': [0, 0, 0, 0]}, 'swap': {'ch': 1, 'type': 'full', 'nyquist': 1, 'mixer_freq': 0}, 'swap_f0g1': {'ch': [1, 1, 5, 5], 'type': ['full', 'full', 'full', 'full'], 'nyquist': 1, 'mixer_freq': 0}, 'swap_Q': {'ch': [0, -1, 2, 3], 'type': ['full', 'None', 'full', 'full'], 'nyquist': [2, 0, 2, 2], 'mixer_freq': 0}, 'readout': {'ch': [6, 4, 6, 6], 'full_mux_chs': [5, 4, 5, 5], 'type': ['mux4', 'full', 'mux4', 'mux4'], 'mixer_freq': [7200, 0, 7200, 7200], 'nyquist': [2, 2, 2, 2]}, 'res_pump': {'ch': 4, 'type': 'full', 'mixer_freq': 0, 'nyquist': 2}, 'delay_chs': {'ch': [0, 1, 2, 3, 4, 5, 6], 'delay_ns': [0.0, 2.0, 2.0, 0.0, 25, 24, 73]}}, 'adcs': {'readout': {'ch': [0, 1, 2, 3]}}}, 'lo': {'twpa': {'frequency': '8210.0e6', 'power': -1.5}, 'readout': {'frequency': 0, 'power': 0}}}, 'aliases': {'readout_LO': 'SC_20A1', 'twpa_LO': 'SC_26C1', 'soc': 'Qick_QRAM'}, 'expt': {'start_N': 0, 'step_N': 1, 'expts_N': 10, 'start_f': -4.5, 'step_f': 0.15, 'expts_f': 61, 'reps': 500, 'loops': 1, 'pulse_type': 'robust', 'checkEF': False, 'qTest': 3, 'qZZ': 0, 'test_pi_half': True, 'divide_len': True, 'post_process': 'threshold', 'singleshot_reps': 15000, 'full_mux_expt': False, 'resonator_reset': None, 'use_robust_pulses': True, 'sweep_phase': True}}\n"
     ]
    },
    {
     "data": {
      "application/vnd.jupyter.widget-view+json": {
       "model_id": "1c7bfe61ebf04e46a3a3baac6f9e45b2",
       "version_major": 2,
       "version_minor": 0
      },
      "text/plain": [
       "  0%|          | 0/2 [00:00<?, ?it/s]"
      ]
     },
     "metadata": {},
     "output_type": "display_data"
    },
    {
     "name": "stdout",
     "output_type": "stream",
     "text": [
      "Qubit  (3)\n",
      "ge fidelity (%): 62.35333333333335 \t angle (deg): -80.90328146985537 \t threshold ge: 29.979158941565096\n"
     ]
    },
    {
     "data": {
      "application/vnd.jupyter.widget-view+json": {
       "model_id": "34cd31e889da4b45b11c86dab7f84f88",
       "version_major": 2,
       "version_minor": 0
      },
      "text/plain": [
       "  0%|          | 0/10 [00:00<?, ?it/s]"
      ]
     },
     "metadata": {},
     "output_type": "display_data"
    },
    {
     "name": "stdout",
     "output_type": "stream",
     "text": [
      "Fit best freq 2.7323969209767425 which is 2.7323969209767425 away from old freq 0\n",
      "Best virtual Z (deg) 24.59157228879068\n",
      "updated phase correction 24.59157228879068\n",
      "-------- Error amplification --------\n"
     ]
    },
    {
     "data": {
      "application/vnd.jupyter.widget-view+json": {
       "model_id": "f2fcfcc7770e4932ad60472b96e2595d",
       "version_major": 2,
       "version_minor": 0
      },
      "text/plain": [
       "  0%|          | 0/2 [00:00<?, ?it/s]"
      ]
     },
     "metadata": {},
     "output_type": "display_data"
    },
    {
     "name": "stdout",
     "output_type": "stream",
     "text": [
      "Qubit  (3)\n",
      "g unrotated averages:\n",
      "I -37.14413219419583 +/- 19.043456426589824 \t Q 15.024083590995389 +/- 19.41301831723758 \t Amp 44.869949279339174 +/- 18.21032148907504\n",
      "Rotated (theta=-1.449402860000454):\n",
      "I 10.415530596596188 +/- 19.363691615722615 \t Q 38.69013267747321 +/- 19.093610446115754 \t Amp 40.06756349229525 +/- 18.21032148907504\n",
      "e unrotated averages:\n",
      "I -32.836590642799024 +/- 18.938002687379445 \t Q 50.33373959858964 +/- 23.23251610518579 \t Amp 63.84845574773689 +/- 20.820650230374174\n",
      "Rotated (theta=-1.449402860000454):\n",
      "I 45.98696185247408 +/- 23.10887130466351 \t Q 38.690132677473215 +/- 19.088682966339185 \t Amp 60.097645769375916 +/- 20.820650230374174\n",
      "ge fidelity (%): 62.12 \t angle (deg): -83.04466669221694 \t threshold ge: 28.912358567407622\n"
     ]
    },
    {
     "data": {
      "application/vnd.jupyter.widget-view+json": {
       "model_id": "425c25ac973545caa1489de650a7cbce",
       "version_major": 2,
       "version_minor": 0
      },
      "text/plain": [
       "  0%|          | 0/20 [00:00<?, ?it/s]"
      ]
     },
     "metadata": {},
     "output_type": "display_data"
    },
    {
     "name": "stdout",
     "output_type": "stream",
     "text": [
      "fitparams [None, 0.017453292519943295]\n",
      "From amps: adjust amplitude to 11681 / 0.9658865923937286 = 12093.552278276602\n",
      "From avgi: adjust amplitude to 11681 / 0.9772472079783198 = 11952.963287728466\n",
      "From avgq: adjust amplitude to 11681 / 1.0338033258990404 = 11299.054382362036\n",
      "best 1 0.02982188774616638\n",
      "updated pi_gain from error amplification 11953\n",
      "\n",
      "\n",
      "\n",
      "######### BEGINNING QUBIT 3 WITH ZZ FROM 1 #########\n",
      "initial pi_len 0.025\n",
      "initial pi_gain 12172\n",
      "initial pi_freq 4376.65632732359\n",
      "-------- Ramsey --------\n",
      "ramsey freq 2.5\n",
      "Running Ramsey on Q3 with ZZ Q1\n"
     ]
    },
    {
     "data": {
      "application/vnd.jupyter.widget-view+json": {
       "model_id": "fa5088e6233d4304a8d59afc0657f9c8",
       "version_major": 2,
       "version_minor": 0
      },
      "text/plain": [
       "  0%|          | 0/10 [00:00<?, ?it/s]"
      ]
     },
     "metadata": {},
     "output_type": "display_data"
    },
    {
     "name": "stdout",
     "output_type": "stream",
     "text": [
      "WARNING: not sure if single shot checking makes sense when there are multiple rounds of averaging... use at your own risk\n",
      "best 2 0.037240234223867325\n",
      "Current pi pulse frequency: 4376.65632732359\n",
      "Fit frequency from amps [MHz]: 2.5064847133774903 +/- 0.006000637176439161\n",
      "Suggested new pi pulse frequencies from fit amps [MHz]:\n",
      " \t4376.6498426102125\n",
      " \t4371.6498426102125\n",
      "T2 Ramsey from fit amps [us]: 15.654364028089276 +/- 8.771989980986204\n",
      "Current pi pulse frequency: 4376.65632732359\n",
      "Fit frequency from I [MHz]: 2.5058092588802188 +/- 0.021040294926536755\n",
      "Suggested new pi pulse frequency from fit I [MHz]:\n",
      " \t4376.650518064709\n",
      " \t4371.650518064709\n",
      "T2 Ramsey from fit I [us]: 2.233787898266568 +/- 0.6254513107256667\n",
      "Fit frequency from Q [MHz]: 2.5014045603048425 +/- 0.0012322985428681247\n",
      "Suggested new pi pulse frequencies from fit Q [MHz]:\n",
      " \t4376.654922763285\n",
      " \t4371.654922763285\n",
      "T2 Ramsey from fit Q [us]: 21.173711200972335 +/- 3.289973858492287\n",
      "updated pi_freq 4376.654922763285\n",
      "-------- Amp rabi --------\n",
      "Running amp rabi on Q3 with ZZ Q1\n"
     ]
    },
    {
     "data": {
      "application/vnd.jupyter.widget-view+json": {
       "model_id": "60a13e4c77dd4600831e8cb5bb487ae9",
       "version_major": 2,
       "version_minor": 0
      },
      "text/plain": [
       "  0%|          | 0/10 [00:00<?, ?it/s]"
      ]
     },
     "metadata": {},
     "output_type": "display_data"
    },
    {
     "name": "stdout",
     "output_type": "stream",
     "text": [
      "WARNING: not sure if single shot checking makes sense when there are multiple rounds of averaging... use at your own risk\n",
      "(4, 75, 100)\n",
      "best 2 0.013515632509046306\n",
      "Pi gain from amps data [dac units]: 11819\n",
      "\tPi/2 gain from amps data [dac units]: 5909\n",
      "Pi gain from avgi data [dac units]: 57240\n",
      "\tPi/2 gain from avgi data [dac units]: 28620\n",
      "Pi gain from avgq data [dac units]: 11651\n",
      "\tPi/2 gain from avgq data [dac units]: 5825\n",
      "updated pi_gain round 2 11651\n",
      "-------- Pi Minus Pi --------\n",
      "{'device': {'readout': {'trig_offset': 150, 'lo_sideband': [1, 1, 1, 1], 'frequency': [-389.975, 5795.761666663333, 502.368233333334, -228.9], 'gain': [0.4, 0.5, 0.3, 0.2], 'readout_length': [5, 20, 10, 8], 'frequency_ef': [-391.91408405, 5795.76166666, 500.44439227, -230.30732892], 'gain_ef': [0.05, 0.6, 0.4, 0.25], 'readout_length_ef': [1, 20, 10, 8], 'relax_delay': [450, 450, 450, 450]}, 'qubit': {'f_ge': [4108.6352143528575, 4103.243553024718, 4108.491689964749, 4108.066288400736, 3442.8688097468294, 3448.2597196742877, 3447.149851461427, 3446.943321983037, 4759.488589798401, 4758.50698515513, 4759.617265888647, 4759.085816492836, 4377.407821334912, 4376.654922763285, 4377.47219792754, 4377.988666116248], 'f_ef': [3882.584812861004, 0.0, 0.0, 0.0, 0.0, 3347.8123422280078, 0.0, 0.0, 4571.9056482340775, 4571.009319367402, 4570.125075914433, 0.0, 4211.704645679207, 4206.869581627414, 0.0, 4205.162855964244], 'f_EgGf': [2686.53594683, 0, 2017.3, 2414.92850999], 'f_EgGf_Q_half': [0, 0, 5885.6717699723895, 5138], 'f_EgGf_Q': [0, 0, 5880.504550983305, 5132.386793750588], 'f_f0g1': [1184.4, 999.8, 1632.9833333333333, 1620.9166666666665], 'gs': [52.40296404695958, 54.81794456602636, 43.49513117058557, 4.930653352423196, 2.6415018214608046, 6.386231497692186], 'pulses': {'pi_ge': {'sigma': [0.02, 0.02, 0.02, 0.02, 0.025, 0.025, 0.025, 0.025, 0.015, 0.015, 0.015, 0.015, 0.025, 0.025, 0.025, 0.025], 'gain': [1849, 1914, 0, 1855, 2834, 2504, 2648, 2631, 9155, 9155, 9155, 9155, 3000, 3000, 3000, 3000], 'half_gain': [1850, 1835, 1873, 1867, 2382, 2186, 2248, 2289, 9253, 9253, 9253, 9253, 3120, 3120, 3120, 3120], 'half_correction_phase': [0, 0, 0, 0, 0, 0, 0, 0, 0, 0, 0, 0, 0, 0, 0, 0], 'half_gain_pi_sigma': [927, 0, 0, 0, 0, 1315, 0, 0, 0, 0, 7212, 0, 0, 0, 0, 460], 'type': 'gauss'}, 'pi_ef': {'sigma': [0.02, 0.02, 0.02, 0.02, 0.025, 0.025, 0.025, 0.025, 0.015, 0.015, 0.015, 0.015, 0.03, 0.03, 0.03, 0.03], 'gain': [1245, 0, 0, 0, 0, 1945, 0, 0, 0, 0, 6000, 0, 0, 0, 0, 1500], 'half_gain': [1243, 0, 0, 0, 0, 1619, 0, 0, 0, 6472, 6501, 0, 1427, 1601, 0, 1647], 'half_gain_pi_sigma': [673, 0, 0, 0, 0, 975, 0, 0, 0, 0, 3049, 0, 0, 0, 0, 1000], 'type': 'gauss'}, 'pi_EgGf': {'gain': [32000, 0, 30000, 16000], 'sigma': [0.586, 0, 0.8, 0.44643], 'type': 'flat_top'}, 'pi_EgGf_Q': {'half_gain': [0, 0, 12147, 14500], 'half_sigma': [0, 0, 0.231, 0.095], 'half_phase': [0, 0, 0.0, 0.0], 'gain': [0, 0, 24647, 24647], 'sigma': [0, 0, 0.245, 0.17], 'phase': [0, 0, 0.0, 0.0], 'type': 'flat_top'}, 'pi_f0g1': {'gain': [32000, 32000, 32000, 32000], 'sigma': [0.536, 0.585, 1.54, 1.04], 'idle': [3, 6, 12, 8], 'type': 'flat_top'}, 'pulse_pp': {'gain': [1750, 3550, 0, 0], 'filename': '240920_3_qram_4q_2qubit_++gg'}, 'pulse_1p': {'gain': [3500, 4375, 0, 0], 'filename': '240920_qram_4q_2qubit_e+gg'}, 'pulse_p1': {'gain': [3000, 5530, 0, 0], 'filename': '240920_qram_4q_2qubit_+egg'}, 'pihalf_ge_robust': {'gain': [7451, 7595, 7471, 7481, 4814, 4439, 4480, 4444, 20200, 20192, 20179, 20192, 11953, 11651, 12302, 12320], 'correction_phase': [12.771425603678084, 9.29781534792422, 12.148832830416332, 12.606633130020677, 0.5240598981582869, 0.09597764248557632, 0.4904676360127895, 0.5010312704801453, 3.188071848236603, 3.9528509857168133, 3.362799571771103, 3.4772643408463932, 24.59157228879068, -6.995431316414082, -6.77604262269097, -3.118889112056552], 'filename': ['X_2_Q0', 'X_2_Q1', 'X_2_Q2', 'X_2_Q3']}, 'pi_ge_slow': {'gain': [-1, 100, -1, -1], 'sigma': [-1, 0.25, -1, -1], 'type': 'gauss'}, 'pi_Q1_ZZ_slow': {'gain': [100, 0, -1, -1], 'sigma': [0.25, 0, -1, -1], 'type': 'gauss'}}}}, 'hw': {'soc': {'dacs': {'qubit': {'ch': [0, 1, 2, 3], 'type': 'full', 'nyquist': [2, 1, 2, 2], 'mixer_freq': [0, 0, 0, 0]}, 'swap': {'ch': 1, 'type': 'full', 'nyquist': 1, 'mixer_freq': 0}, 'swap_f0g1': {'ch': [1, 1, 5, 5], 'type': ['full', 'full', 'full', 'full'], 'nyquist': 1, 'mixer_freq': 0}, 'swap_Q': {'ch': [0, -1, 2, 3], 'type': ['full', 'None', 'full', 'full'], 'nyquist': [2, 0, 2, 2], 'mixer_freq': 0}, 'readout': {'ch': [6, 4, 6, 6], 'full_mux_chs': [5, 4, 5, 5], 'type': ['mux4', 'full', 'mux4', 'mux4'], 'mixer_freq': [7200, 0, 7200, 7200], 'nyquist': [2, 2, 2, 2]}, 'res_pump': {'ch': 4, 'type': 'full', 'mixer_freq': 0, 'nyquist': 2}, 'delay_chs': {'ch': [0, 1, 2, 3, 4, 5, 6], 'delay_ns': [0.0, 2.0, 2.0, 0.0, 25, 24, 73]}}, 'adcs': {'readout': {'ch': [0, 1, 2, 3]}}}, 'lo': {'twpa': {'frequency': '8210.0e6', 'power': -1.5}, 'readout': {'frequency': 0, 'power': 0}}}, 'aliases': {'readout_LO': 'SC_20A1', 'twpa_LO': 'SC_26C1', 'soc': 'Qick_QRAM'}, 'expt': {'start_N': 0, 'step_N': 1, 'expts_N': 10, 'start_f': -4.5, 'step_f': 0.15, 'expts_f': 61, 'reps': 500, 'loops': 1, 'pulse_type': 'robust', 'checkEF': False, 'qTest': 3, 'qZZ': 1, 'test_pi_half': True, 'divide_len': True, 'post_process': 'threshold', 'singleshot_reps': 15000, 'full_mux_expt': False, 'resonator_reset': None, 'use_robust_pulses': True, 'sweep_phase': True}}\n"
     ]
    },
    {
     "data": {
      "application/vnd.jupyter.widget-view+json": {
       "model_id": "c37197afa33544bda8df2867dc21c011",
       "version_major": 2,
       "version_minor": 0
      },
      "text/plain": [
       "  0%|          | 0/2 [00:00<?, ?it/s]"
      ]
     },
     "metadata": {},
     "output_type": "display_data"
    },
    {
     "name": "stdout",
     "output_type": "stream",
     "text": [
      "Qubit  (3)\n",
      "ge fidelity (%): 60.911782118807935 \t angle (deg): -85.37660337320037 \t threshold ge: 27.64783138997987\n"
     ]
    },
    {
     "data": {
      "application/vnd.jupyter.widget-view+json": {
       "model_id": "d42c0cea964342c29a20f2668065ba42",
       "version_major": 2,
       "version_minor": 0
      },
      "text/plain": [
       "  0%|          | 0/10 [00:00<?, ?it/s]"
      ]
     },
     "metadata": {},
     "output_type": "display_data"
    },
    {
     "name": "stdout",
     "output_type": "stream",
     "text": [
      "Fit best freq 2.793487583296174 which is 2.793487583296174 away from old freq 0\n",
      "Best virtual Z (deg) 25.141388249665564\n",
      "updated phase correction 25.141388249665564\n",
      "-------- Error amplification --------\n"
     ]
    },
    {
     "data": {
      "application/vnd.jupyter.widget-view+json": {
       "model_id": "798403f27b224d68a5da4916dd42d108",
       "version_major": 2,
       "version_minor": 0
      },
      "text/plain": [
       "  0%|          | 0/2 [00:00<?, ?it/s]"
      ]
     },
     "metadata": {},
     "output_type": "display_data"
    },
    {
     "name": "stdout",
     "output_type": "stream",
     "text": [
      "Qubit  (3)\n",
      "g unrotated averages:\n",
      "I -37.898540656360176 +/- 18.59555199328609 \t Q 11.000186411716843 +/- 19.53298747042851 \t Amp 44.359094101915666 +/- 17.80186532042696\n",
      "Rotated (theta=-1.5620882809319292):\n",
      "I 10.669751282682919 +/- 19.531700574941482 \t Q 37.9928926582327 +/- 18.596903669851976 \t Amp 39.462684715745155 +/- 17.80186532042696\n",
      "e unrotated averages:\n",
      "I -37.57682186059127 +/- 18.654995958417686 \t Q 47.94425730946569 +/- 23.709005023617582 \t Amp 64.76240203479924 +/- 20.65493709020676\n",
      "Rotated (theta=-1.5620882809319292):\n",
      "I 47.61522296029781 +/- 23.700614771899097 \t Q 37.9928926582327 +/- 18.665654364434758 \t Amp 60.91526368734575 +/- 20.65493709020676\n",
      "ge fidelity (%): 63.76666666666665 \t angle (deg): -89.50106572424562 \t threshold ge: 28.410058307855024\n"
     ]
    },
    {
     "data": {
      "application/vnd.jupyter.widget-view+json": {
       "model_id": "838595afb9ce4c299f94e9b84f74c7f1",
       "version_major": 2,
       "version_minor": 0
      },
      "text/plain": [
       "  0%|          | 0/20 [00:00<?, ?it/s]"
      ]
     },
     "metadata": {},
     "output_type": "display_data"
    },
    {
     "name": "stdout",
     "output_type": "stream",
     "text": [
      "fitparams [None, 0.017453292519943295]\n",
      "From amps: adjust amplitude to 11651 / 0.9844270758545035 = 11835.310390956776\n",
      "From avgi: adjust amplitude to 11651 / 0.984835574876453 = 11830.401233689807\n",
      "From avgq: adjust amplitude to 11651 / 1.015363016121385 = 11474.713787100498\n",
      "best 1 0.019505443601844964\n",
      "updated pi_gain from error amplification 11830\n",
      "\n",
      "\n",
      "\n",
      "######### BEGINNING QUBIT 3 WITH ZZ FROM 2 #########\n",
      "initial pi_len 0.025\n",
      "initial pi_gain 12302\n",
      "initial pi_freq 4377.47219792754\n",
      "-------- Ramsey --------\n",
      "ramsey freq 2.5\n",
      "Running Ramsey on Q3 with ZZ Q2\n"
     ]
    },
    {
     "data": {
      "application/vnd.jupyter.widget-view+json": {
       "model_id": "04c9b1d729cc40e08dc763a5553c1351",
       "version_major": 2,
       "version_minor": 0
      },
      "text/plain": [
       "  0%|          | 0/10 [00:00<?, ?it/s]"
      ]
     },
     "metadata": {},
     "output_type": "display_data"
    },
    {
     "name": "stdout",
     "output_type": "stream",
     "text": [
      "WARNING: not sure if single shot checking makes sense when there are multiple rounds of averaging... use at your own risk\n",
      "best 2 0.042382371138837485\n",
      "Current pi pulse frequency: 4377.47219792754\n",
      "Fit frequency from amps [MHz]: 2.526163757247396 +/- 0.0063195129563756005\n",
      "Suggested new pi pulse frequencies from fit amps [MHz]:\n",
      " \t4377.4460341702925\n",
      " \t4372.4460341702925\n",
      "T2 Ramsey from fit amps [us]: 13.927809006039732 +/- 7.39631028363447\n",
      "Current pi pulse frequency: 4377.47219792754\n",
      "Fit frequency from I [MHz]: 2.5004419312365727 +/- 0.03179289383266904\n",
      "Suggested new pi pulse frequency from fit I [MHz]:\n",
      " \t4377.471755996304\n",
      " \t4372.471755996304\n",
      "T2 Ramsey from fit I [us]: 1.4715683609934518 +/- 0.4119206028287294\n",
      "Fit frequency from Q [MHz]: 2.5264507938755734 +/- 0.0013682889041717512\n",
      "Suggested new pi pulse frequencies from fit Q [MHz]:\n",
      " \t4377.445747133665\n",
      " \t4372.445747133665\n",
      "T2 Ramsey from fit Q [us]: 21.437366090976766 +/- 3.7940663952236147\n",
      "updated pi_freq 4377.445747133665\n",
      "-------- Amp rabi --------\n",
      "Running amp rabi on Q3 with ZZ Q2\n"
     ]
    },
    {
     "data": {
      "application/vnd.jupyter.widget-view+json": {
       "model_id": "72596bbbf8414d79a54dc745c8cdae7c",
       "version_major": 2,
       "version_minor": 0
      },
      "text/plain": [
       "  0%|          | 0/10 [00:00<?, ?it/s]"
      ]
     },
     "metadata": {},
     "output_type": "display_data"
    },
    {
     "name": "stdout",
     "output_type": "stream",
     "text": [
      "WARNING: not sure if single shot checking makes sense when there are multiple rounds of averaging... use at your own risk\n",
      "(4, 75, 100)\n",
      "best 2 0.014117941544566814\n",
      "Pi gain from amps data [dac units]: 12459\n",
      "\tPi/2 gain from amps data [dac units]: 6229\n",
      "Pi gain from avgi data [dac units]: 33046\n",
      "\tPi/2 gain from avgi data [dac units]: 16523\n",
      "Pi gain from avgq data [dac units]: 11593\n",
      "\tPi/2 gain from avgq data [dac units]: 5796\n",
      "updated pi_gain round 2 11593\n",
      "-------- Pi Minus Pi --------\n",
      "{'device': {'readout': {'trig_offset': 150, 'lo_sideband': [1, 1, 1, 1], 'frequency': [-389.975, 5795.761666663333, 502.368233333334, -228.9], 'gain': [0.4, 0.5, 0.3, 0.2], 'readout_length': [5, 20, 10, 8], 'frequency_ef': [-391.91408405, 5795.76166666, 500.44439227, -230.30732892], 'gain_ef': [0.05, 0.6, 0.4, 0.25], 'readout_length_ef': [1, 20, 10, 8], 'relax_delay': [450, 450, 450, 450]}, 'qubit': {'f_ge': [4108.6352143528575, 4103.243553024718, 4108.491689964749, 4108.066288400736, 3442.8688097468294, 3448.2597196742877, 3447.149851461427, 3446.943321983037, 4759.488589798401, 4758.50698515513, 4759.617265888647, 4759.085816492836, 4377.407821334912, 4376.654922763285, 4377.445747133665, 4377.988666116248], 'f_ef': [3882.584812861004, 0.0, 0.0, 0.0, 0.0, 3347.8123422280078, 0.0, 0.0, 4571.9056482340775, 4571.009319367402, 4570.125075914433, 0.0, 4211.704645679207, 4206.869581627414, 0.0, 4205.162855964244], 'f_EgGf': [2686.53594683, 0, 2017.3, 2414.92850999], 'f_EgGf_Q_half': [0, 0, 5885.6717699723895, 5138], 'f_EgGf_Q': [0, 0, 5880.504550983305, 5132.386793750588], 'f_f0g1': [1184.4, 999.8, 1632.9833333333333, 1620.9166666666665], 'gs': [52.40296404695958, 54.81794456602636, 43.49513117058557, 4.930653352423196, 2.6415018214608046, 6.386231497692186], 'pulses': {'pi_ge': {'sigma': [0.02, 0.02, 0.02, 0.02, 0.025, 0.025, 0.025, 0.025, 0.015, 0.015, 0.015, 0.015, 0.025, 0.025, 0.025, 0.025], 'gain': [1849, 1914, 0, 1855, 2834, 2504, 2648, 2631, 9155, 9155, 9155, 9155, 3000, 3000, 3000, 3000], 'half_gain': [1850, 1835, 1873, 1867, 2382, 2186, 2248, 2289, 9253, 9253, 9253, 9253, 3120, 3120, 3120, 3120], 'half_correction_phase': [0, 0, 0, 0, 0, 0, 0, 0, 0, 0, 0, 0, 0, 0, 0, 0], 'half_gain_pi_sigma': [927, 0, 0, 0, 0, 1315, 0, 0, 0, 0, 7212, 0, 0, 0, 0, 460], 'type': 'gauss'}, 'pi_ef': {'sigma': [0.02, 0.02, 0.02, 0.02, 0.025, 0.025, 0.025, 0.025, 0.015, 0.015, 0.015, 0.015, 0.03, 0.03, 0.03, 0.03], 'gain': [1245, 0, 0, 0, 0, 1945, 0, 0, 0, 0, 6000, 0, 0, 0, 0, 1500], 'half_gain': [1243, 0, 0, 0, 0, 1619, 0, 0, 0, 6472, 6501, 0, 1427, 1601, 0, 1647], 'half_gain_pi_sigma': [673, 0, 0, 0, 0, 975, 0, 0, 0, 0, 3049, 0, 0, 0, 0, 1000], 'type': 'gauss'}, 'pi_EgGf': {'gain': [32000, 0, 30000, 16000], 'sigma': [0.586, 0, 0.8, 0.44643], 'type': 'flat_top'}, 'pi_EgGf_Q': {'half_gain': [0, 0, 12147, 14500], 'half_sigma': [0, 0, 0.231, 0.095], 'half_phase': [0, 0, 0.0, 0.0], 'gain': [0, 0, 24647, 24647], 'sigma': [0, 0, 0.245, 0.17], 'phase': [0, 0, 0.0, 0.0], 'type': 'flat_top'}, 'pi_f0g1': {'gain': [32000, 32000, 32000, 32000], 'sigma': [0.536, 0.585, 1.54, 1.04], 'idle': [3, 6, 12, 8], 'type': 'flat_top'}, 'pulse_pp': {'gain': [1750, 3550, 0, 0], 'filename': '240920_3_qram_4q_2qubit_++gg'}, 'pulse_1p': {'gain': [3500, 4375, 0, 0], 'filename': '240920_qram_4q_2qubit_e+gg'}, 'pulse_p1': {'gain': [3000, 5530, 0, 0], 'filename': '240920_qram_4q_2qubit_+egg'}, 'pihalf_ge_robust': {'gain': [7451, 7595, 7471, 7481, 4814, 4439, 4480, 4444, 20200, 20192, 20179, 20192, 11953, 11830, 11593, 12320], 'correction_phase': [12.771425603678084, 9.29781534792422, 12.148832830416332, 12.606633130020677, 0.5240598981582869, 0.09597764248557632, 0.4904676360127895, 0.5010312704801453, 3.188071848236603, 3.9528509857168133, 3.362799571771103, 3.4772643408463932, 24.59157228879068, 25.141388249665564, -6.77604262269097, -3.118889112056552], 'filename': ['X_2_Q0', 'X_2_Q1', 'X_2_Q2', 'X_2_Q3']}, 'pi_ge_slow': {'gain': [-1, 100, -1, -1], 'sigma': [-1, 0.25, -1, -1], 'type': 'gauss'}, 'pi_Q1_ZZ_slow': {'gain': [100, 0, -1, -1], 'sigma': [0.25, 0, -1, -1], 'type': 'gauss'}}}}, 'hw': {'soc': {'dacs': {'qubit': {'ch': [0, 1, 2, 3], 'type': 'full', 'nyquist': [2, 1, 2, 2], 'mixer_freq': [0, 0, 0, 0]}, 'swap': {'ch': 1, 'type': 'full', 'nyquist': 1, 'mixer_freq': 0}, 'swap_f0g1': {'ch': [1, 1, 5, 5], 'type': ['full', 'full', 'full', 'full'], 'nyquist': 1, 'mixer_freq': 0}, 'swap_Q': {'ch': [0, -1, 2, 3], 'type': ['full', 'None', 'full', 'full'], 'nyquist': [2, 0, 2, 2], 'mixer_freq': 0}, 'readout': {'ch': [6, 4, 6, 6], 'full_mux_chs': [5, 4, 5, 5], 'type': ['mux4', 'full', 'mux4', 'mux4'], 'mixer_freq': [7200, 0, 7200, 7200], 'nyquist': [2, 2, 2, 2]}, 'res_pump': {'ch': 4, 'type': 'full', 'mixer_freq': 0, 'nyquist': 2}, 'delay_chs': {'ch': [0, 1, 2, 3, 4, 5, 6], 'delay_ns': [0.0, 2.0, 2.0, 0.0, 25, 24, 73]}}, 'adcs': {'readout': {'ch': [0, 1, 2, 3]}}}, 'lo': {'twpa': {'frequency': '8210.0e6', 'power': -1.5}, 'readout': {'frequency': 0, 'power': 0}}}, 'aliases': {'readout_LO': 'SC_20A1', 'twpa_LO': 'SC_26C1', 'soc': 'Qick_QRAM'}, 'expt': {'start_N': 0, 'step_N': 1, 'expts_N': 10, 'start_f': -4.5, 'step_f': 0.15, 'expts_f': 61, 'reps': 500, 'loops': 1, 'pulse_type': 'robust', 'checkEF': False, 'qTest': 3, 'qZZ': 2, 'test_pi_half': True, 'divide_len': True, 'post_process': 'threshold', 'singleshot_reps': 15000, 'full_mux_expt': False, 'resonator_reset': None, 'use_robust_pulses': True, 'sweep_phase': True}}\n"
     ]
    },
    {
     "data": {
      "application/vnd.jupyter.widget-view+json": {
       "model_id": "f9d3656e46cb4011b0c702aa1ab092b5",
       "version_major": 2,
       "version_minor": 0
      },
      "text/plain": [
       "  0%|          | 0/2 [00:00<?, ?it/s]"
      ]
     },
     "metadata": {},
     "output_type": "display_data"
    },
    {
     "name": "stdout",
     "output_type": "stream",
     "text": [
      "Qubit  (3)\n",
      "ge fidelity (%): 62.62564393181768 \t angle (deg): -92.6205798733582 \t threshold ge: 29.09878748180816\n"
     ]
    },
    {
     "data": {
      "application/vnd.jupyter.widget-view+json": {
       "model_id": "1db840f8704441259f1e48b571ff1b1b",
       "version_major": 2,
       "version_minor": 0
      },
      "text/plain": [
       "  0%|          | 0/10 [00:00<?, ?it/s]"
      ]
     },
     "metadata": {},
     "output_type": "display_data"
    },
    {
     "name": "stdout",
     "output_type": "stream",
     "text": [
      "Fit best freq 2.7038665376572233 which is 2.7038665376572233 away from old freq 0\n",
      "Best virtual Z (deg) 24.334798838915013\n",
      "updated phase correction 24.334798838915013\n",
      "-------- Error amplification --------\n"
     ]
    },
    {
     "data": {
      "application/vnd.jupyter.widget-view+json": {
       "model_id": "a33605a02b47484bb0ea0773f0f59e69",
       "version_major": 2,
       "version_minor": 0
      },
      "text/plain": [
       "  0%|          | 0/2 [00:00<?, ?it/s]"
      ]
     },
     "metadata": {},
     "output_type": "display_data"
    },
    {
     "name": "stdout",
     "output_type": "stream",
     "text": [
      "Qubit  (3)\n",
      "g unrotated averages:\n",
      "I -40.037899321941964 +/- 19.168041424652394 \t Q 8.438245918090589 +/- 19.931667454547295 \t Amp 45.87169814670368 +/- 18.295077616716608\n",
      "Rotated (theta=-1.6503288196098354):\n",
      "I 11.592530251442021 +/- 19.96349014798844 \t Q 39.240930399998604 +/- 19.134895889108424 \t Amp 40.91744586711312 +/- 18.295077616716608\n",
      "e unrotated averages:\n",
      "I -43.05735264442636 +/- 19.249837532739253 \t Q 46.323191998915114 +/- 23.96083789642673 \t Amp 67.12951999534098 +/- 20.930343443088894\n",
      "Rotated (theta=-1.6503288196098354):\n",
      "I 49.59761198946283 +/- 24.04815422422948 \t Q 39.240930399998604 +/- 19.140644611490234 \t Amp 63.2437643860234 +/- 20.930343443088894\n",
      "ge fidelity (%): 64.6057266039958 \t angle (deg): -94.55687617245054 \t threshold ge: 31.319930083687346\n"
     ]
    },
    {
     "data": {
      "application/vnd.jupyter.widget-view+json": {
       "model_id": "10139f97bdaa43039d2a6c554f43c6fd",
       "version_major": 2,
       "version_minor": 0
      },
      "text/plain": [
       "  0%|          | 0/20 [00:00<?, ?it/s]"
      ]
     },
     "metadata": {},
     "output_type": "display_data"
    },
    {
     "name": "stdout",
     "output_type": "stream",
     "text": [
      "fitparams [None, 0.017453292519943295]\n",
      "From amps: adjust amplitude to 11593 / 0.9962509965572511 = 11636.625749998726\n",
      "From avgi: adjust amplitude to 11593 / 0.9697261569487374 = 11954.921414595647\n",
      "From avgq: adjust amplitude to 11593 / 1.0033889064649295 = 11553.845099647013\n",
      "best 1 0.011597809651957546\n",
      "updated pi_gain from error amplification 11955\n",
      "\n",
      "\n",
      "\n",
      "######### BEGINNING QUBIT 3 WITH ZZ FROM 3 #########\n",
      "initial pi_len 0.025\n",
      "initial pi_gain 12320\n",
      "initial pi_freq 4377.988666116248\n",
      "-------- Ramsey --------\n",
      "ramsey freq 2.5\n",
      "Running Ramsey on Q3 \n"
     ]
    },
    {
     "data": {
      "application/vnd.jupyter.widget-view+json": {
       "model_id": "ec435513e7fb4fa0ad34a6812c759f1d",
       "version_major": 2,
       "version_minor": 0
      },
      "text/plain": [
       "  0%|          | 0/10 [00:00<?, ?it/s]"
      ]
     },
     "metadata": {},
     "output_type": "display_data"
    },
    {
     "name": "stdout",
     "output_type": "stream",
     "text": [
      "WARNING: not sure if single shot checking makes sense when there are multiple rounds of averaging... use at your own risk\n",
      "best 2 0.07363789057542289\n",
      "Current pi pulse frequency: 4377.988666116248\n",
      "Fit frequency from amps [MHz]: 2.510785096044037 +/- 0.006581833286899035\n",
      "Suggested new pi pulse frequencies from fit amps [MHz]:\n",
      " \t4377.977881020204\n",
      " \t4372.977881020204\n",
      "T2 Ramsey from fit amps [us]: 9.362826695849193 +/- 3.452953337882444\n",
      "Current pi pulse frequency: 4377.988666116248\n",
      "Fit frequency from I [MHz]: 2.515802370291624 +/- 0.009539193309733563\n",
      "Suggested new pi pulse frequency from fit I [MHz]:\n",
      " \t4377.972863745957\n",
      " \t4372.972863745957\n",
      "T2 Ramsey from fit I [us]: 8.235729418318893 +/- 3.88629569337036\n",
      "Fit frequency from Q [MHz]: 2.515962746464742 +/- 0.0014103533229403316\n",
      "Suggested new pi pulse frequencies from fit Q [MHz]:\n",
      " \t4377.972703369784\n",
      " \t4372.972703369784\n",
      "T2 Ramsey from fit Q [us]: 39.253177223865684 +/- 13.017130042865636\n",
      "updated pi_freq 4377.972703369784\n",
      "-------- Amp rabi --------\n",
      "Running amp rabi on Q3 \n"
     ]
    },
    {
     "data": {
      "application/vnd.jupyter.widget-view+json": {
       "model_id": "577d422592c2497f93e1bb39f399485d",
       "version_major": 2,
       "version_minor": 0
      },
      "text/plain": [
       "  0%|          | 0/10 [00:00<?, ?it/s]"
      ]
     },
     "metadata": {},
     "output_type": "display_data"
    },
    {
     "name": "stdout",
     "output_type": "stream",
     "text": [
      "WARNING: not sure if single shot checking makes sense when there are multiple rounds of averaging... use at your own risk\n",
      "(4, 75, 100)\n",
      "best 2 0.010300332950769597\n",
      "Pi gain from amps data [dac units]: 11850\n",
      "\tPi/2 gain from amps data [dac units]: 5925\n",
      "Pi gain from avgi data [dac units]: 11853\n",
      "\tPi/2 gain from avgi data [dac units]: 5926\n",
      "Pi gain from avgq data [dac units]: 11718\n",
      "\tPi/2 gain from avgq data [dac units]: 5859\n",
      "updated pi_gain round 2 11718\n",
      "-------- Pi Minus Pi --------\n",
      "{'device': {'readout': {'trig_offset': 150, 'lo_sideband': [1, 1, 1, 1], 'frequency': [-389.975, 5795.761666663333, 502.368233333334, -228.9], 'gain': [0.4, 0.5, 0.3, 0.2], 'readout_length': [5, 20, 10, 8], 'frequency_ef': [-391.91408405, 5795.76166666, 500.44439227, -230.30732892], 'gain_ef': [0.05, 0.6, 0.4, 0.25], 'readout_length_ef': [1, 20, 10, 8], 'relax_delay': [450, 450, 450, 450]}, 'qubit': {'f_ge': [4108.6352143528575, 4103.243553024718, 4108.491689964749, 4108.066288400736, 3442.8688097468294, 3448.2597196742877, 3447.149851461427, 3446.943321983037, 4759.488589798401, 4758.50698515513, 4759.617265888647, 4759.085816492836, 4377.407821334912, 4376.654922763285, 4377.445747133665, 4377.972703369784], 'f_ef': [3882.584812861004, 0.0, 0.0, 0.0, 0.0, 3347.8123422280078, 0.0, 0.0, 4571.9056482340775, 4571.009319367402, 4570.125075914433, 0.0, 4211.704645679207, 4206.869581627414, 0.0, 4205.162855964244], 'f_EgGf': [2686.53594683, 0, 2017.3, 2414.92850999], 'f_EgGf_Q_half': [0, 0, 5885.6717699723895, 5138], 'f_EgGf_Q': [0, 0, 5880.504550983305, 5132.386793750588], 'f_f0g1': [1184.4, 999.8, 1632.9833333333333, 1620.9166666666665], 'gs': [52.40296404695958, 54.81794456602636, 43.49513117058557, 4.930653352423196, 2.6415018214608046, 6.386231497692186], 'pulses': {'pi_ge': {'sigma': [0.02, 0.02, 0.02, 0.02, 0.025, 0.025, 0.025, 0.025, 0.015, 0.015, 0.015, 0.015, 0.025, 0.025, 0.025, 0.025], 'gain': [1849, 1914, 0, 1855, 2834, 2504, 2648, 2631, 9155, 9155, 9155, 9155, 3000, 3000, 3000, 3000], 'half_gain': [1850, 1835, 1873, 1867, 2382, 2186, 2248, 2289, 9253, 9253, 9253, 9253, 3120, 3120, 3120, 3120], 'half_correction_phase': [0, 0, 0, 0, 0, 0, 0, 0, 0, 0, 0, 0, 0, 0, 0, 0], 'half_gain_pi_sigma': [927, 0, 0, 0, 0, 1315, 0, 0, 0, 0, 7212, 0, 0, 0, 0, 460], 'type': 'gauss'}, 'pi_ef': {'sigma': [0.02, 0.02, 0.02, 0.02, 0.025, 0.025, 0.025, 0.025, 0.015, 0.015, 0.015, 0.015, 0.03, 0.03, 0.03, 0.03], 'gain': [1245, 0, 0, 0, 0, 1945, 0, 0, 0, 0, 6000, 0, 0, 0, 0, 1500], 'half_gain': [1243, 0, 0, 0, 0, 1619, 0, 0, 0, 6472, 6501, 0, 1427, 1601, 0, 1647], 'half_gain_pi_sigma': [673, 0, 0, 0, 0, 975, 0, 0, 0, 0, 3049, 0, 0, 0, 0, 1000], 'type': 'gauss'}, 'pi_EgGf': {'gain': [32000, 0, 30000, 16000], 'sigma': [0.586, 0, 0.8, 0.44643], 'type': 'flat_top'}, 'pi_EgGf_Q': {'half_gain': [0, 0, 12147, 14500], 'half_sigma': [0, 0, 0.231, 0.095], 'half_phase': [0, 0, 0.0, 0.0], 'gain': [0, 0, 24647, 24647], 'sigma': [0, 0, 0.245, 0.17], 'phase': [0, 0, 0.0, 0.0], 'type': 'flat_top'}, 'pi_f0g1': {'gain': [32000, 32000, 32000, 32000], 'sigma': [0.536, 0.585, 1.54, 1.04], 'idle': [3, 6, 12, 8], 'type': 'flat_top'}, 'pulse_pp': {'gain': [1750, 3550, 0, 0], 'filename': '240920_3_qram_4q_2qubit_++gg'}, 'pulse_1p': {'gain': [3500, 4375, 0, 0], 'filename': '240920_qram_4q_2qubit_e+gg'}, 'pulse_p1': {'gain': [3000, 5530, 0, 0], 'filename': '240920_qram_4q_2qubit_+egg'}, 'pihalf_ge_robust': {'gain': [7451, 7595, 7471, 7481, 4814, 4439, 4480, 4444, 20200, 20192, 20179, 20192, 11953, 11830, 11955, 11718], 'correction_phase': [12.771425603678084, 9.29781534792422, 12.148832830416332, 12.606633130020677, 0.5240598981582869, 0.09597764248557632, 0.4904676360127895, 0.5010312704801453, 3.188071848236603, 3.9528509857168133, 3.362799571771103, 3.4772643408463932, 24.59157228879068, 25.141388249665564, 24.334798838915013, -3.118889112056552], 'filename': ['X_2_Q0', 'X_2_Q1', 'X_2_Q2', 'X_2_Q3']}, 'pi_ge_slow': {'gain': [-1, 100, -1, -1], 'sigma': [-1, 0.25, -1, -1], 'type': 'gauss'}, 'pi_Q1_ZZ_slow': {'gain': [100, 0, -1, -1], 'sigma': [0.25, 0, -1, -1], 'type': 'gauss'}}}}, 'hw': {'soc': {'dacs': {'qubit': {'ch': [0, 1, 2, 3], 'type': 'full', 'nyquist': [2, 1, 2, 2], 'mixer_freq': [0, 0, 0, 0]}, 'swap': {'ch': 1, 'type': 'full', 'nyquist': 1, 'mixer_freq': 0}, 'swap_f0g1': {'ch': [1, 1, 5, 5], 'type': ['full', 'full', 'full', 'full'], 'nyquist': 1, 'mixer_freq': 0}, 'swap_Q': {'ch': [0, -1, 2, 3], 'type': ['full', 'None', 'full', 'full'], 'nyquist': [2, 0, 2, 2], 'mixer_freq': 0}, 'readout': {'ch': [6, 4, 6, 6], 'full_mux_chs': [5, 4, 5, 5], 'type': ['mux4', 'full', 'mux4', 'mux4'], 'mixer_freq': [7200, 0, 7200, 7200], 'nyquist': [2, 2, 2, 2]}, 'res_pump': {'ch': 4, 'type': 'full', 'mixer_freq': 0, 'nyquist': 2}, 'delay_chs': {'ch': [0, 1, 2, 3, 4, 5, 6], 'delay_ns': [0.0, 2.0, 2.0, 0.0, 25, 24, 73]}}, 'adcs': {'readout': {'ch': [0, 1, 2, 3]}}}, 'lo': {'twpa': {'frequency': '8210.0e6', 'power': -1.5}, 'readout': {'frequency': 0, 'power': 0}}}, 'aliases': {'readout_LO': 'SC_20A1', 'twpa_LO': 'SC_26C1', 'soc': 'Qick_QRAM'}, 'expt': {'start_N': 0, 'step_N': 1, 'expts_N': 10, 'start_f': -4.5, 'step_f': 0.15, 'expts_f': 61, 'reps': 500, 'loops': 1, 'pulse_type': 'robust', 'checkEF': False, 'qTest': 3, 'qZZ': 3, 'test_pi_half': True, 'divide_len': True, 'post_process': 'threshold', 'singleshot_reps': 15000, 'full_mux_expt': False, 'resonator_reset': None, 'use_robust_pulses': True, 'sweep_phase': True}}\n"
     ]
    },
    {
     "data": {
      "application/vnd.jupyter.widget-view+json": {
       "model_id": "777e8faea772423eb115e96c1b80f385",
       "version_major": 2,
       "version_minor": 0
      },
      "text/plain": [
       "  0%|          | 0/2 [00:00<?, ?it/s]"
      ]
     },
     "metadata": {},
     "output_type": "display_data"
    },
    {
     "name": "stdout",
     "output_type": "stream",
     "text": [
      "Qubit  (3)\n",
      "ge fidelity (%): 64.15239549303287 \t angle (deg): -96.63060706936058 \t threshold ge: 29.575342952129702\n"
     ]
    },
    {
     "data": {
      "application/vnd.jupyter.widget-view+json": {
       "model_id": "b6c6b01378d747fabc6df31331b638c9",
       "version_major": 2,
       "version_minor": 0
      },
      "text/plain": [
       "  0%|          | 0/10 [00:00<?, ?it/s]"
      ]
     },
     "metadata": {},
     "output_type": "display_data"
    },
    {
     "name": "stdout",
     "output_type": "stream",
     "text": [
      "Fit best freq 2.7521394456734187 which is 2.7521394456734187 away from old freq 0\n",
      "Best virtual Z (deg) 24.76925501106077\n",
      "updated phase correction 24.76925501106077\n",
      "-------- Error amplification --------\n"
     ]
    },
    {
     "data": {
      "application/vnd.jupyter.widget-view+json": {
       "model_id": "742adc5113204fefbf716561b52a7507",
       "version_major": 2,
       "version_minor": 0
      },
      "text/plain": [
       "  0%|          | 0/2 [00:00<?, ?it/s]"
      ]
     },
     "metadata": {},
     "output_type": "display_data"
    },
    {
     "name": "stdout",
     "output_type": "stream",
     "text": [
      "Qubit  (3)\n",
      "g unrotated averages:\n",
      "I -40.09152695958774 +/- 18.937918848004436 \t Q 5.32059400596691 +/- 19.714382013188253 \t Amp 45.370856443827954 +/- 18.011836900681704\n",
      "Rotated (theta=-1.696907573141139):\n",
      "I 10.320941859608968 +/- 19.74996798316152 \t Q 39.1039309233516 +/- 18.900804033681133 \t Amp 40.443037157558805 +/- 18.011836900681704\n",
      "e unrotated averages:\n",
      "I -44.61590208841877 +/- 19.3312770708653 \t Q 41.00626438839165 +/- 23.577083270299973 \t Amp 64.48401029150595 +/- 21.059011935611395\n",
      "Rotated (theta=-1.696907573141139):\n",
      "I 46.29227823941908 +/- 23.82149610414714 \t Q 39.1039309233516 +/- 19.02927881148742 \t Amp 60.597792354623344 +/- 21.059011935611395\n",
      "ge fidelity (%): 62.21333333333335 \t angle (deg): -97.22564216477431 \t threshold ge: 29.75411765326197\n"
     ]
    },
    {
     "data": {
      "application/vnd.jupyter.widget-view+json": {
       "model_id": "343cefc0d3f5445993c91a61f6804a27",
       "version_major": 2,
       "version_minor": 0
      },
      "text/plain": [
       "  0%|          | 0/20 [00:00<?, ?it/s]"
      ]
     },
     "metadata": {},
     "output_type": "display_data"
    },
    {
     "name": "stdout",
     "output_type": "stream",
     "text": [
      "fitparams [None, 0.017453292519943295]\n",
      "From amps: adjust amplitude to 11718 / 0.9733814756688843 = 12038.445658674234\n",
      "From avgi: adjust amplitude to 11718 / 0.9783692413759862 = 11977.073178956149\n",
      "From avgq: adjust amplitude to 11718 / 1.0262967425719867 = 11417.750358082301\n",
      "best 1 0.021928895410538603\n",
      "updated pi_gain from error amplification 11977\n",
      "\n",
      "\n",
      "\n"
     ]
    }
   ],
   "source": [
    "try: save_data\n",
    "except: assert False, 'you did not run the cell above!'\n",
    "\n",
    "thresholds=None\n",
    "angles=None\n",
    "ge_avgs=None\n",
    "counts_calib=None\n",
    "\n",
    "num_qubits_sample = 4\n",
    "\n",
    "for qTest in range(4):\n",
    "    for qZZ in range(4):\n",
    "# for qTest in [3]:\n",
    "#     for qZZ in range(4):\n",
    "    # for qZZ in [3, 0, 1, 2]:\n",
    "# for qTest in [0, 1, 2, 3]:\n",
    "    # for qZZ in [0, 1, 2, 3]:\n",
    "# for qTest in [3]:\n",
    "    # for qZZ in [0, 1]:\n",
    "        # if qTest == 0 and qZZ == 0: continue\n",
    "        # if 1 not in [qZZ, qTest]: continue\n",
    "        # if not (qZZ == 0 and qTest == 1): continue\n",
    "        # if 0 not in [qZZ, qTest]: continue\n",
    "        # if 0 not in [qZZ, qTest] and 3 not in [qZZ, qTest]: continue\n",
    "        # if qZZ == qTest: continue\n",
    "\n",
    "        calib_index = qTest*num_qubits_sample + qZZ\n",
    "\n",
    "        print(f\"######### BEGINNING QUBIT {qTest} WITH ZZ FROM {qZZ} #########\")\n",
    "\n",
    "        # ----- Default values ----- #\n",
    "        pi_len = np.reshape(yaml_cfg.device.qubit.pulses.pi_ge.sigma, (4,4))[qTest, qZZ]\n",
    "        pi_gain = np.reshape(yaml_cfg.device.qubit.pulses.pi_ge.gain, (4,4))[qTest, qZZ]\n",
    "        if use_robust_pulses:\n",
    "            pi_gain = yaml_cfg.device.qubit.pulses.pihalf_ge_robust.gain[calib_index]\n",
    "        pi_freq = np.reshape(yaml_cfg.device.qubit.f_ge, (4,4))[qTest, qZZ]\n",
    "        print('initial pi_len', pi_len)\n",
    "        print('initial pi_gain', pi_gain)\n",
    "        print('initial pi_freq', pi_freq)\n",
    "        override = False\n",
    "\n",
    "        # For each experiment, update the relevant local variable pi_x, update the yaml and pass it to the next function, update the results for the relevant variable\n",
    "\n",
    "\n",
    "        # ----- Length Rabi ----- #\n",
    "        if do_length_rabi or override:\n",
    "            pi_len = run_length_rabi(qZZ=qZZ, qTest=qTest, test_pi_half=test_pi_half, divide_len=divide_len, yaml_cfg=yaml_cfg, save_data=save_data)\n",
    "            # yaml_cfg.device.qubit.pulses.pi_ge.sigma[calib_index] = pi_len\n",
    "            # print('updated pi_len', pi_len)\n",
    "        override = False\n",
    "\n",
    "        # ----- Amp Rabi ----- #\n",
    "        # if qTest != 1: override = True\n",
    "        if do_amp_rabi and not override:\n",
    "            pi_gain = run_amp_rabi(qZZ=qZZ, qTest=qTest, test_pi_half=test_pi_half, divide_len=divide_len, yaml_cfg=yaml_cfg, save_data=save_data)\n",
    "            if not use_robust_pulses:\n",
    "                if test_pi_half:\n",
    "                    if divide_len: yaml_cfg.device.qubit.pulses.pi_ge.half_gain[calib_index] = pi_gain\n",
    "                    else: yaml_cfg.device.qubit.pulses.pi_ge.half_gain_pi_sigma[calib_index] = pi_gain\n",
    "                else:\n",
    "                    yaml_cfg.device.qubit.pulses.pi_ge.gain[calib_index] = pi_gain\n",
    "            else:\n",
    "                yaml_cfg.device.qubit.pulses.pihalf_ge_robust.gain[calib_index] = pi_gain\n",
    "            print('updated pi_gain', pi_gain)\n",
    "        override = False\n",
    "\n",
    "        # ----- Ramsey ----- #\n",
    "        # if 1 not in [qZZ, qTest]: override = True\n",
    "        # if (qZZ == 1 and qTest == 0): override = True\n",
    "        # if test_pi_half: override = True # ramsey not useful for pi half calibration\n",
    "        if do_ramsey and not override:\n",
    "            pi_freq = run_ramsey(qZZ=qZZ, qTest=qTest, yaml_cfg=yaml_cfg, save_data=save_data)\n",
    "            yaml_cfg.device.qubit.f_ge[calib_index] = pi_freq\n",
    "            print('updated pi_freq', pi_freq)\n",
    "        override = False\n",
    "\n",
    "        # ----- Amp Rabi Round 2 ----- #\n",
    "        # if qZZ == 0 and qTest == 1: override = True\n",
    "        if do_amp_rabi_2 and not override:\n",
    "            pi_gain = run_amp_rabi(qZZ=qZZ, qTest=qTest, test_pi_half=test_pi_half, divide_len=divide_len, yaml_cfg=yaml_cfg, save_data=save_data)\n",
    "            if not use_robust_pulses:\n",
    "                if test_pi_half:\n",
    "                    if divide_len: yaml_cfg.device.qubit.pulses.pi_ge.half_gain[calib_index] = pi_gain\n",
    "                    else: yaml_cfg.device.qubit.pulses.pi_ge.half_gain_pi_sigma[calib_index] = pi_gain\n",
    "                else:\n",
    "                    yaml_cfg.device.qubit.pulses.pi_ge.gain[calib_index] = pi_gain\n",
    "            else:\n",
    "                yaml_cfg.device.qubit.pulses.pihalf_ge_robust.gain[calib_index] = pi_gain\n",
    "            print('updated pi_gain round 2', pi_gain)\n",
    "        override = False\n",
    "\n",
    "        # ----- Pi Minus Pi ----- #\n",
    "        # if 1 not in [qZZ, qTest]: override = True\n",
    "        # if (qZZ == 1 and qTest == 0): override = True\n",
    "        if do_piminuspi and not override:\n",
    "            return_data = run_piminuspi(qZZ=qZZ, qTest=qTest, test_pi_half=test_pi_half, divide_len=divide_len, yaml_cfg=yaml_cfg, save_data=save_data)\n",
    "            if not sweep_phase:\n",
    "                pi_freq = return_data\n",
    "                yaml_cfg.device.qubit.f_ge[calib_index] = pi_freq\n",
    "                print('updated pi_freq', pi_freq)\n",
    "            else:\n",
    "                phase_correction = return_data\n",
    "                if not use_robust_pulses:\n",
    "                    yaml_cfg.device.qubit.pulses.pi_ge.half_correction_phase[calib_index] = phase_correction\n",
    "                else:\n",
    "                    yaml_cfg.device.qubit.pulses.pihalf_ge_robust.correction_phase[calib_index] = phase_correction\n",
    "                print('updated phase correction', phase_correction)\n",
    "        override = False\n",
    "\n",
    "        # ----- Error amplification ----- #\n",
    "        # if qZZ == 0 and qTest == 1: override = True\n",
    "        if do_error_amp and not override:\n",
    "            pi_gain = run_error_amp(qZZ=qZZ, qTest=qTest, test_pi_half=test_pi_half, divide_len=divide_len, yaml_cfg=yaml_cfg, save_data=save_data)\n",
    "            if not use_robust_pulses:\n",
    "                if test_pi_half:\n",
    "                    if divide_len: yaml_cfg.device.qubit.pulses.pi_ge.half_gain[calib_index] = pi_gain\n",
    "                    else: yaml_cfg.device.qubit.pulses.pi_ge.half_gain_pi_sigma[calib_index] = pi_gain\n",
    "                else:\n",
    "                    yaml_cfg.device.qubit.pulses.pi_ge.gain[calib_index] = pi_gain\n",
    "            else:\n",
    "                yaml_cfg.device.qubit.pulses.pihalf_ge_robust.gain[calib_index] = pi_gain\n",
    "            print('updated pi_gain from error amplification', pi_gain)\n",
    "        override = False\n",
    "\n",
    "        print(\"\\n\\n\")"
   ]
  },
  {
   "cell_type": "code",
   "execution_count": 33,
   "metadata": {},
   "outputs": [
    {
     "name": "stdout",
     "output_type": "stream",
     "text": [
      "UPDATE MANUALLY IN CONFIG:\n",
      "f_ge:\n",
      "[4108.6352143528575, 4103.243553024718, 4108.491689964749, 4108.066288400736, 3442.8688097468294, 3448.2597196742877, 3447.149851461427, 3446.943321983037, 4759.488589798401, 4758.50698515513, 4759.617265888647, 4759.085816492836, 4377.407821334912, 4376.654922763285, 4377.445747133665, 4377.972703369784]\n",
      "\n",
      "ZZs:\n",
      "[[ 0.         -5.39166133 -0.14352439 -0.56892595]\n",
      " [-5.39090993  0.         -1.10986821 -1.31639769]\n",
      " [-0.12867609 -1.11028073  0.         -0.5314494 ]\n",
      " [-0.56488203 -1.31778061 -0.52695624  0.        ]]\n",
      "\n",
      "pi_ge: sigma\n",
      "[0.02, 0.02, 0.02, 0.02, 0.025, 0.025, 0.025, 0.025, 0.015, 0.015, 0.015, 0.015, 0.025, 0.025, 0.025, 0.025]\n",
      "\n",
      "pihalf_ge_robust: gain\n",
      "[7451, 7595, 7471, 7481, 4814, 4439, 4480, 4444, 20200, 20192, 20179, 20192, 11953, 11830, 11955, 11977]\n",
      "pihalf_ge_robust: correction_phase\n",
      "[12.771425603678084, 9.29781534792422, 12.148832830416332, 12.606633130020677, 0.5240598981582869, 0.09597764248557632, 0.4904676360127895, 0.5010312704801453, 3.188071848236603, 3.9528509857168133, 3.362799571771103, 3.4772643408463932, 24.59157228879068, 25.141388249665564, 24.334798838915013, 24.76925501106077]\n"
     ]
    }
   ],
   "source": [
    "print(\"UPDATE MANUALLY IN CONFIG:\")\n",
    "print('f_ge:')\n",
    "print(yaml_cfg.device.qubit.f_ge)\n",
    "# print(np.reshape(yaml_cfg.device.qubit.f_ge, (4,4)))\n",
    "print()\n",
    "\n",
    "ZZshifts = np.zeros((4,4))\n",
    "reshaped_f_ge = np.reshape(yaml_cfg.device.qubit.f_ge, (4,4))\n",
    "for row in range(4):\n",
    "    ZZshifts[row,:] = reshaped_f_ge[row,:] - reshaped_f_ge[row,row]\n",
    "print('ZZs:')\n",
    "print(ZZshifts)\n",
    "print()\n",
    "\n",
    "print('pi_ge: sigma')\n",
    "print(yaml_cfg.device.qubit.pulses.pi_ge.sigma)\n",
    "print()\n",
    "\n",
    "if not use_robust_pulses:\n",
    "    if test_pi_half:\n",
    "        if divide_len:\n",
    "            print('pi_ge: half_gain')\n",
    "            print(yaml_cfg.device.qubit.pulses.pi_ge.half_gain)\n",
    "            print(np.reshape(yaml_cfg.device.qubit.pulses.pi_ge.half_gain, (4,4)))\n",
    "        else:\n",
    "            print('pi_ge: half_gain_pi_sigma')\n",
    "            print(yaml_cfg.device.qubit.pulses.pi_ge.half_gain_pi_sigma)\n",
    "            print(np.reshape(yaml_cfg.device.qubit.pulses.pi_ge.half_gain_pi_sigma, (4,4)))\n",
    "    else:\n",
    "        print('pi_ge: gain')\n",
    "        print(yaml_cfg.device.qubit.pulses.pi_ge.gain)\n",
    "        print(np.reshape(yaml_cfg.device.qubit.pulses.pi_ef.gain, (4,4)))\n",
    "else:\n",
    "    print('pihalf_ge_robust: gain')\n",
    "    print(yaml_cfg.device.qubit.pulses.pihalf_ge_robust.gain)\n",
    "    # print(np.reshape(yaml_cfg.device.qubit.pulses.pihalf_ge_robust.gain, (4,4)))\n",
    "\n",
    "if sweep_phase:\n",
    "    if not use_robust_pulses:\n",
    "        print('pi_ge: half_correction_phase')\n",
    "        print(yaml_cfg.device.qubit.pulses.pi_ge.half_correction_phase)\n",
    "    else:\n",
    "        print('pihalf_ge_robust: correction_phase')\n",
    "        print(yaml_cfg.device.qubit.pulses.pihalf_ge_robust.correction_phase)"
   ]
  },
  {
   "cell_type": "markdown",
   "metadata": {},
   "source": [
    "# EF with ZZ shifts from other qubits in e"
   ]
  },
  {
   "cell_type": "markdown",
   "metadata": {},
   "source": [
    "## Pulse probe EF with ZZ"
   ]
  },
  {
   "cell_type": "code",
   "execution_count": 37,
   "metadata": {},
   "outputs": [],
   "source": [
    "import yaml\n",
    "with open(config_path, 'r') as cfg_file:\n",
    "    yaml_cfg = yaml.safe_load(cfg_file)\n",
    "yaml_cfg = AttrDict(yaml_cfg)"
   ]
  },
  {
   "cell_type": "code",
   "execution_count": 38,
   "metadata": {},
   "outputs": [
    {
     "name": "stdout",
     "output_type": "stream",
     "text": [
      "qTest 0 qZZ 1\n",
      "Running pulse probe EF on Q0 with ZZ Q1\n"
     ]
    },
    {
     "data": {
      "application/vnd.jupyter.widget-view+json": {
       "model_id": "12cc968dc87346f18cb2bfcd7f43b518",
       "version_major": 2,
       "version_minor": 0
      },
      "text/plain": [
       "  0%|          | 0/8 [00:00<?, ?it/s]"
      ]
     },
     "metadata": {},
     "output_type": "display_data"
    },
    {
     "name": "stdout",
     "output_type": "stream",
     "text": [
      "Found peak in amps at [MHz] 3882.635987591811, HWHM 2.577187562959028\n",
      "Found peak in I at [MHz] 3882.5612676281726, HWHM 2.7741991631458074\n",
      "Found peak in Q at [MHz] 3882.770940886305, HWHM 2.2895307571247914\n",
      "best 0 0.15143605208098304\n",
      "Fit Q0 frequency with ZZ shift [MHz]: 3882.635987591811\n",
      "Q0 shift due to Q1 in e [MHz]: 0.051174730806906155\n",
      "qTest 0 qZZ 2\n",
      "Running pulse probe EF on Q0 with ZZ Q2\n"
     ]
    },
    {
     "data": {
      "application/vnd.jupyter.widget-view+json": {
       "model_id": "fb699324e10848e984a069ad648dcbef",
       "version_major": 2,
       "version_minor": 0
      },
      "text/plain": [
       "  0%|          | 0/8 [00:00<?, ?it/s]"
      ]
     },
     "metadata": {},
     "output_type": "display_data"
    },
    {
     "name": "stdout",
     "output_type": "stream",
     "text": [
      "Found peak in amps at [MHz] 3882.588378819199, HWHM 1.1839051608990137\n",
      "Found peak in I at [MHz] 3882.593023159515, HWHM 1.214801691191197\n",
      "Found peak in Q at [MHz] 3882.56764896658, HWHM 1.154528648529732\n",
      "best 1 0.04174484299701843\n",
      "Fit Q0 frequency with ZZ shift [MHz]: 3882.593023159515\n",
      "Q0 shift due to Q2 in e [MHz]: 0.008210298510675784\n",
      "qTest 0 qZZ 3\n",
      "Running pulse probe EF on Q0 with ZZ Q3\n"
     ]
    },
    {
     "data": {
      "application/vnd.jupyter.widget-view+json": {
       "model_id": "875b5cf3e04743ea804d8cbfc5e7d25b",
       "version_major": 2,
       "version_minor": 0
      },
      "text/plain": [
       "  0%|          | 0/8 [00:00<?, ?it/s]"
      ]
     },
     "metadata": {},
     "output_type": "display_data"
    },
    {
     "name": "stdout",
     "output_type": "stream",
     "text": [
      "Found peak in amps at [MHz] 3882.5465667921762, HWHM 1.1372559399132292\n",
      "Found peak in I at [MHz] 3882.5288321127277, HWHM 1.13937933237198\n",
      "Found peak in Q at [MHz] 3882.5829915878435, HWHM 1.158724996652977\n",
      "best 0 0.03679868180272006\n",
      "Fit Q0 frequency with ZZ shift [MHz]: 3882.5465667921762\n",
      "Q0 shift due to Q3 in e [MHz]: -0.03824606882790249\n",
      "qTest 1 qZZ 0\n",
      "Running pulse probe EF on Q1 with ZZ Q0\n"
     ]
    },
    {
     "data": {
      "application/vnd.jupyter.widget-view+json": {
       "model_id": "51c24a31c5e04317992b4c06d118021a",
       "version_major": 2,
       "version_minor": 0
      },
      "text/plain": [
       "  0%|          | 0/8 [00:00<?, ?it/s]"
      ]
     },
     "metadata": {},
     "output_type": "display_data"
    },
    {
     "name": "stdout",
     "output_type": "stream",
     "text": [
      "Found peak in amps at [MHz] 3345.3957364303, HWHM -0.2677135539927959\n",
      "Found peak in I at [MHz] 3345.3913896909107, HWHM -0.258855434926167\n",
      "Found peak in Q at [MHz] 3345.398068624806, HWHM -0.28303687466077526\n",
      "best 0 0.025732847650410826\n",
      "Fit Q1 frequency with ZZ shift [MHz]: 3345.3957364303\n",
      "Q1 shift due to Q0 in e [MHz]: -2.416605797707689\n",
      "qTest 1 qZZ 2\n",
      "Running pulse probe EF on Q1 with ZZ Q2\n"
     ]
    },
    {
     "data": {
      "application/vnd.jupyter.widget-view+json": {
       "model_id": "d6b52f22e367428f9515c38e50b1ce73",
       "version_major": 2,
       "version_minor": 0
      },
      "text/plain": [
       "  0%|          | 0/8 [00:00<?, ?it/s]"
      ]
     },
     "metadata": {},
     "output_type": "display_data"
    },
    {
     "name": "stdout",
     "output_type": "stream",
     "text": [
      "Found peak in amps at [MHz] 3347.003494996075, HWHM -0.19633879282025105\n",
      "Found peak in I at [MHz] 3347.0111747062588, HWHM 0.20210416622456961\n",
      "Found peak in Q at [MHz] 3346.9993538212184, HWHM -0.1977396235869283\n",
      "best 0 0.038258479054644204\n",
      "Fit Q1 frequency with ZZ shift [MHz]: 3347.003494996075\n",
      "Q1 shift due to Q2 in e [MHz]: -0.8088472319327593\n",
      "qTest 1 qZZ 3\n",
      "Running pulse probe EF on Q1 with ZZ Q3\n"
     ]
    },
    {
     "data": {
      "application/vnd.jupyter.widget-view+json": {
       "model_id": "c1776f1a14a94c0f9efd0f8b509f8138",
       "version_major": 2,
       "version_minor": 0
      },
      "text/plain": [
       "  0%|          | 0/8 [00:00<?, ?it/s]"
      ]
     },
     "metadata": {},
     "output_type": "display_data"
    },
    {
     "name": "stdout",
     "output_type": "stream",
     "text": [
      "Found peak in amps at [MHz] 3346.9817293387923, HWHM -0.2337786562355639\n",
      "Found peak in I at [MHz] 3346.9945558395493, HWHM -0.24767486001351843\n",
      "Found peak in Q at [MHz] 3346.9720506558883, HWHM 0.24045377410032887\n",
      "best 0 0.029347260667655445\n",
      "Fit Q1 frequency with ZZ shift [MHz]: 3346.9817293387923\n",
      "Q1 shift due to Q3 in e [MHz]: -0.8306128892154447\n",
      "qTest 2 qZZ 0\n",
      "Running pulse probe EF on Q2 with ZZ Q0\n"
     ]
    },
    {
     "data": {
      "application/vnd.jupyter.widget-view+json": {
       "model_id": "923fd65219da44ec81f49ef3af8402f3",
       "version_major": 2,
       "version_minor": 0
      },
      "text/plain": [
       "  0%|          | 0/8 [00:00<?, ?it/s]"
      ]
     },
     "metadata": {},
     "output_type": "display_data"
    },
    {
     "name": "stdout",
     "output_type": "stream",
     "text": [
      "Found peak in amps at [MHz] 4569.729744210792, HWHM -0.24901901729190457\n",
      "Found peak in I at [MHz] 4569.751504520521, HWHM 0.2301647891127367\n",
      "Found peak in Q at [MHz] 4569.728581643396, HWHM -0.25231893762963875\n",
      "best 2 0.027794178646809657\n",
      "Fit Q2 frequency with ZZ shift [MHz]: 4569.728581643396\n",
      "Q2 shift due to Q0 in e [MHz]: -0.396494271037227\n",
      "qTest 2 qZZ 1\n",
      "Running pulse probe EF on Q2 with ZZ Q1\n"
     ]
    },
    {
     "data": {
      "application/vnd.jupyter.widget-view+json": {
       "model_id": "df4885903f3047d1881f984fce72a867",
       "version_major": 2,
       "version_minor": 0
      },
      "text/plain": [
       "  0%|          | 0/8 [00:00<?, ?it/s]"
      ]
     },
     "metadata": {},
     "output_type": "display_data"
    },
    {
     "name": "stdout",
     "output_type": "stream",
     "text": [
      "Found peak in amps at [MHz] 4568.31215640146, HWHM -0.2704024157542088\n",
      "Found peak in I at [MHz] 4568.322448468977, HWHM 0.27464211978242714\n",
      "Found peak in Q at [MHz] 4568.311187621723, HWHM -0.27178984319286154\n",
      "best 2 0.03060823159181018\n",
      "Fit Q2 frequency with ZZ shift [MHz]: 4568.311187621723\n",
      "Q2 shift due to Q1 in e [MHz]: -1.8138882927105442\n",
      "qTest 2 qZZ 3\n",
      "Running pulse probe EF on Q2 with ZZ Q3\n"
     ]
    },
    {
     "data": {
      "application/vnd.jupyter.widget-view+json": {
       "model_id": "46422bbb986048b6b313368c1fdb6f9b",
       "version_major": 2,
       "version_minor": 0
      },
      "text/plain": [
       "  0%|          | 0/8 [00:00<?, ?it/s]"
      ]
     },
     "metadata": {},
     "output_type": "display_data"
    },
    {
     "name": "stdout",
     "output_type": "stream",
     "text": [
      "Found peak in amps at [MHz] 4568.394876675089, HWHM 3.844775984698794\n",
      "Found peak in I at [MHz] 4567.324014044122, HWHM 1.9094239706029335\n",
      "Found peak in Q at [MHz] 4570.311815892995, HWHM 0.3087013837291117\n",
      "best 1 0.16072744173100972\n",
      "Fit Q2 frequency with ZZ shift [MHz]: 4567.324014044122\n",
      "Q2 shift due to Q3 in e [MHz]: -2.8010618703110595\n",
      "qTest 3 qZZ 0\n",
      "Running pulse probe EF on Q3 with ZZ Q0\n"
     ]
    },
    {
     "data": {
      "application/vnd.jupyter.widget-view+json": {
       "model_id": "ef1fc5e190964134913d3190e554d2bc",
       "version_major": 2,
       "version_minor": 0
      },
      "text/plain": [
       "  0%|          | 0/8 [00:00<?, ?it/s]"
      ]
     },
     "metadata": {},
     "output_type": "display_data"
    },
    {
     "name": "stdout",
     "output_type": "stream",
     "text": [
      "Found peak in amps at [MHz] 4206.760647354502, HWHM 0.25768440994109726\n",
      "Found peak in I at [MHz] 4206.708200302393, HWHM 0.5148097871032568\n",
      "Found peak in Q at [MHz] 4206.7374472556885, HWHM 0.4330519651266279\n",
      "best 1 0.05250950636891688\n",
      "Fit Q3 frequency with ZZ shift [MHz]: 4206.708200302393\n",
      "Q3 shift due to Q0 in e [MHz]: 1.5453443381493344\n",
      "qTest 3 qZZ 1\n",
      "Running pulse probe EF on Q3 with ZZ Q1\n"
     ]
    },
    {
     "data": {
      "application/vnd.jupyter.widget-view+json": {
       "model_id": "5c9b17ad27024ad391b7ed0c53c9791f",
       "version_major": 2,
       "version_minor": 0
      },
      "text/plain": [
       "  0%|          | 0/8 [00:00<?, ?it/s]"
      ]
     },
     "metadata": {},
     "output_type": "display_data"
    },
    {
     "name": "stdout",
     "output_type": "stream",
     "text": [
      "Found peak in amps at [MHz] 4202.368752574691, HWHM 0.18594518777182745\n",
      "Found peak in I at [MHz] 4202.366145184353, HWHM 0.23654357553321545\n",
      "Found peak in Q at [MHz] 4202.3639497368285, HWHM 0.1879275076581974\n",
      "best 1 0.04542192993631011\n",
      "Fit Q3 frequency with ZZ shift [MHz]: 4202.366145184353\n",
      "Q3 shift due to Q1 in e [MHz]: -2.7967107798913275\n",
      "qTest 3 qZZ 2\n",
      "Running pulse probe EF on Q3 with ZZ Q2\n"
     ]
    },
    {
     "data": {
      "application/vnd.jupyter.widget-view+json": {
       "model_id": "7372a46c9cd34ed68a07ecc19e875435",
       "version_major": 2,
       "version_minor": 0
      },
      "text/plain": [
       "  0%|          | 0/8 [00:00<?, ?it/s]"
      ]
     },
     "metadata": {},
     "output_type": "display_data"
    },
    {
     "name": "stdout",
     "output_type": "stream",
     "text": [
      "Found peak in amps at [MHz] 4205.132368093419, HWHM 0.22203023425910812\n",
      "Found peak in I at [MHz] 4205.110372632136, HWHM 0.360944553988803\n",
      "Found peak in Q at [MHz] 4205.143108214175, HWHM 0.17381899258838307\n",
      "best 1 0.0526134875978028\n",
      "Fit Q3 frequency with ZZ shift [MHz]: 4205.110372632136\n",
      "Q3 shift due to Q2 in e [MHz]: -0.0524833321078404\n"
     ]
    }
   ],
   "source": [
    "# for qTest in [3]:\n",
    "    # for qZZ in [0]:\n",
    "for qTest in range(4):\n",
    "    for qZZ in range(4):\n",
    "    # for qZZ in [0, 1]:\n",
    "\n",
    "        # if not (qZZ == 0 and qTest == 1): continue\n",
    "        # if 0 not in [qZZ, qTest]: continue\n",
    "        # if 0 not in [qZZ, qTest] and 3 not in [qZZ, qTest]: continue\n",
    "\n",
    "        if qZZ == qTest: continue\n",
    "\n",
    "        # if qZZ == 0 and qTest != 3: continue\n",
    "        print('qTest', qTest, 'qZZ', qZZ)\n",
    "\n",
    "        qZZspec = meas.PulseProbeSpectroscopyExperiment(\n",
    "            soccfg=soc,\n",
    "            path=expt_path,\n",
    "            prefix=f\"qubit_spectroscopy_qubit{qTest}{qZZ}\",\n",
    "            config_file=config_path,\n",
    "        )\n",
    "        \n",
    "        span = 20\n",
    "        npts = 151\n",
    "        gain = int(np.reshape(yaml_cfg.device.qubit.pulses.pi_ef.gain, (4,4))[qTest, qTest]/60)\n",
    "        # assert gain > 0\n",
    "        \n",
    "        qZZspec.cfg.expt = dict(\n",
    "            start=np.reshape(yaml_cfg.device.qubit.f_ef, (4,4))[qTest, qTest]-span/2, # [MHz]\n",
    "            step=span/npts,\n",
    "            expts=npts, # Number of experiments stepping from start\n",
    "            reps=100, # Number of averages per point\n",
    "            rounds=8, # Number of start to finish sweeps to average over\n",
    "            length=1.0, # qubit 0 probe constant pulse length [us]\n",
    "            # gain=int(np.reshape(yaml_cfg.device.qubit.pulses.pi_ef.gain, (4,4))[qTest, qTest]/60), # Qubit pulse gain\n",
    "            gain=gain, # Qubit pulse gain\n",
    "            pulse_type='gauss',\n",
    "            qTest=qTest,\n",
    "            qZZ=qZZ,\n",
    "            checkEF=True,\n",
    "        )\n",
    "        \n",
    "        # qZZspec.cfg.device.readout.relax_delay = [10, 10, 10, 10] # Wait time between experiments [us]\n",
    "        \n",
    "        # print(qZZspec.cfg)\n",
    "        \n",
    "        qZZspec.go(analyze=False, display=False, progress=True, save=False)\n",
    "\n",
    "        # ============ POST PROCESSING ============ #\n",
    "        best_signs = [1, 0, 0]\n",
    "        best_fit_err_i = np.inf\n",
    "        best_fit_err_q = np.inf\n",
    "        for sign in [1, -1]:\n",
    "            try: \n",
    "                qZZspec.analyze(fit=True, signs=[1, sign, sign])\n",
    "                fit_err_amps = qZZspec.data['fit_err_amps'][2][2]\n",
    "                fit_err_i = qZZspec.data['fit_err_avgi'][2][2]\n",
    "                fit_err_q = qZZspec.data['fit_err_avgq'][2][2]\n",
    "                if fit_err_i < best_fit_err_i:\n",
    "                    best_signs[1] = sign\n",
    "                    best_fit_err_i = fit_err_i\n",
    "                if fit_err_q < best_fit_err_q:\n",
    "                    best_signs[2] = sign\n",
    "                    best_fit_err_q = fit_err_q\n",
    "            except: continue\n",
    "        if fit_err_amps == np.inf and best_fit_err_i == np.inf and best_fit_err_q == np.inf:\n",
    "            qZZspec.display(fit=False)\n",
    "            print(f'WARNING: All fits failed for Q{qTest} due to Q{qZZ} in e, please manually fix!')\n",
    "            continue\n",
    "\n",
    "        qZZspec.analyze(fit=True, signs=best_signs)\n",
    "        qZZspec.display(fit=True, signs=best_signs)\n",
    "\n",
    "        qZZspec_fit, qZZspec_fit_err = meas.fitting.get_best_fit(qZZspec.data)\n",
    "\n",
    "        yaml_cfg.device.qubit.f_ef = np.reshape(yaml_cfg.device.qubit.f_ef, (4,4))\n",
    "        yaml_cfg.device.qubit.f_ef[qTest, qZZ] = qZZspec_fit[2]\n",
    "\n",
    "        print(f'Fit Q{qTest} frequency with ZZ shift [MHz]: {qZZspec_fit[2]}')\n",
    "        print(f'Q{qTest} shift due to Q{qZZ} in e [MHz]: {yaml_cfg.device.qubit.f_ef[qTest, qZZ] - yaml_cfg.device.qubit.f_ef[qTest, qTest]}')\n",
    "\n",
    "        yaml_cfg.device.qubit.f_ef = yaml_cfg.device.qubit.f_ef.flatten().tolist()"
   ]
  },
  {
   "cell_type": "markdown",
   "metadata": {},
   "source": [
    "Optional: update manual config now, or just keep running the T2R calibration cell using the already updated yaml_cfg variable"
   ]
  },
  {
   "cell_type": "code",
   "execution_count": 39,
   "metadata": {},
   "outputs": [
    {
     "name": "stdout",
     "output_type": "stream",
     "text": [
      "ZZ_efs:\n",
      "[[ 0.          0.05117473  0.0082103  -0.03824607]\n",
      " [-2.4166058   0.         -0.80884723 -0.83061289]\n",
      " [-0.39649427 -1.81388829  0.         -2.80106187]\n",
      " [ 1.54534434 -2.79671078 -0.05248333  0.        ]]\n",
      "\n",
      "New f_ef\n",
      " [[3882.58481286 3882.63598759 3882.59302316 3882.54656679]\n",
      " [3345.39573643 3347.81234223 3347.003495   3346.98172934]\n",
      " [4569.72858164 4568.31118762 4570.12507591 4567.32401404]\n",
      " [4206.7082003  4202.36614518 4205.11037263 4205.16285596]]\n",
      "\n",
      "UPDATE MANUALLY IN CONFIG:\n",
      "f_ef:\n",
      "[3882.584812861004, 3882.635987591811, 3882.593023159515, 3882.5465667921762, 3345.3957364303, 3347.8123422280078, 3347.003494996075, 3346.9817293387923, 4569.728581643396, 4568.311187621723, 4570.125075914433, 4567.324014044122, 4206.708200302393, 4202.366145184353, 4205.110372632136, 4205.162855964244]\n"
     ]
    }
   ],
   "source": [
    "ZZshifts_ef = np.zeros((4,4))\n",
    "reshaped_f_ef = np.reshape(yaml_cfg.device.qubit.f_ef, (4,4))\n",
    "for row in range(4):\n",
    "    for col in range(4):\n",
    "        if row == col: continue\n",
    "        if reshaped_f_ef[row, col] == 0:\n",
    "            reshaped_f_ef[row, col] = reshaped_f_ef[row, row]\n",
    "\n",
    "for row in range(4):\n",
    "    ZZshifts_ef[row,:] = reshaped_f_ef[row,:] - reshaped_f_ef[row,row]\n",
    "print('ZZ_efs:')\n",
    "print(ZZshifts_ef)\n",
    "# print(ZZshifts_ef.flatten().tolist())\n",
    "\n",
    "print()\n",
    "print(f'New f_ef\\n', np.reshape(yaml_cfg.device.qubit.f_ef, (4,4)))\n",
    "\n",
    "print()\n",
    "print(\"UPDATE MANUALLY IN CONFIG:\")\n",
    "print(f'f_ef:')\n",
    "print(yaml_cfg.device.qubit.f_ef)\n"
   ]
  },
  {
   "cell_type": "markdown",
   "metadata": {},
   "source": [
    "## Fine EF with ZZ calibrations"
   ]
  },
  {
   "cell_type": "code",
   "execution_count": 40,
   "metadata": {},
   "outputs": [],
   "source": [
    "save_data = False\n",
    "saved_files = []\n",
    "\n",
    "full_mux_expt = False\n",
    "resonator_reset = [0, 2, 3] if full_mux_expt else None"
   ]
  },
  {
   "cell_type": "code",
   "execution_count": 41,
   "metadata": {},
   "outputs": [],
   "source": [
    "import yaml\n",
    "with open(config_path, 'r') as cfg_file:\n",
    "    yaml_cfg = yaml.safe_load(cfg_file)\n",
    "yaml_cfg = AttrDict(yaml_cfg)"
   ]
  },
  {
   "cell_type": "code",
   "execution_count": 46,
   "metadata": {},
   "outputs": [],
   "source": [
    "test_pi_half = True\n",
    "divide_len = True\n",
    "# test_pi_half = True\n",
    "# divide_len = False # for RB\n",
    "\n",
    "do_length_rabi = do_amp_rabi = do_ramsey = do_amp_rabi_2 = do_error_amp = do_piminuspi = True\n",
    "\n",
    "# SET THE EXPERIMENTS YOU WANT TO RUN HERE BY UNCOMMENTING!\n",
    "# do_amp_rabi = True\n",
    "do_ramsey = True\n",
    "# do_piminuspi = True\n",
    "# do_amp_rabi_2 = True\n",
    "do_error_amp = True\n",
    "\n",
    "sweep_phase = False\n",
    "use_robust_pulses = True\n",
    "\n",
    "# put an override=True flag to force skipping certain qubits"
   ]
  },
  {
   "cell_type": "code",
   "execution_count": 47,
   "metadata": {
    "collapsed": true,
    "jupyter": {
     "outputs_hidden": true
    },
    "tags": []
   },
   "outputs": [
    {
     "name": "stdout",
     "output_type": "stream",
     "text": [
      "######### BEGINNING QUBIT 2 EF WITH ZZ FROM 2 #########\n",
      "initial pi_len 0.015\n",
      "initial pi_gain 6405\n",
      "initial pi_freq 4570.220214942345\n"
     ]
    },
    {
     "ename": "AssertionError",
     "evalue": "",
     "output_type": "error",
     "traceback": [
      "\u001b[1;31m---------------------------------------------------------------------------\u001b[0m",
      "\u001b[1;31mAssertionError\u001b[0m                            Traceback (most recent call last)",
      "Cell \u001b[1;32mIn[47], line 63\u001b[0m\n\u001b[0;32m     58\u001b[0m \u001b[38;5;66;03m# For each experiment, update the relevant local variable pi_x, update the yaml and pass it to the next function\u001b[39;00m\n\u001b[0;32m     59\u001b[0m \n\u001b[0;32m     60\u001b[0m \n\u001b[0;32m     61\u001b[0m \u001b[38;5;66;03m# ----- Length Rabi ----- #\u001b[39;00m\n\u001b[0;32m     62\u001b[0m \u001b[38;5;28;01mif\u001b[39;00m do_length_rabi \u001b[38;5;129;01mand\u001b[39;00m \u001b[38;5;129;01mnot\u001b[39;00m override:\n\u001b[1;32m---> 63\u001b[0m     pi_len \u001b[38;5;241m=\u001b[39m \u001b[43mrun_length_rabi\u001b[49m\u001b[43m(\u001b[49m\u001b[43mqZZ\u001b[49m\u001b[38;5;241;43m=\u001b[39;49m\u001b[43mqZZ\u001b[49m\u001b[43m,\u001b[49m\u001b[43m \u001b[49m\u001b[43mqTest\u001b[49m\u001b[38;5;241;43m=\u001b[39;49m\u001b[43mqTest\u001b[49m\u001b[43m,\u001b[49m\u001b[43m \u001b[49m\u001b[43myaml_cfg\u001b[49m\u001b[38;5;241;43m=\u001b[39;49m\u001b[43myaml_cfg\u001b[49m\u001b[43m,\u001b[49m\u001b[43m \u001b[49m\u001b[43mcheckEF\u001b[49m\u001b[38;5;241;43m=\u001b[39;49m\u001b[38;5;28;43;01mTrue\u001b[39;49;00m\u001b[43m,\u001b[49m\u001b[43m \u001b[49m\u001b[43mtest_pi_half\u001b[49m\u001b[38;5;241;43m=\u001b[39;49m\u001b[43mtest_pi_half\u001b[49m\u001b[43m,\u001b[49m\u001b[43m \u001b[49m\u001b[43mdivide_len\u001b[49m\u001b[38;5;241;43m=\u001b[39;49m\u001b[43mdivide_len\u001b[49m\u001b[43m,\u001b[49m\u001b[43m \u001b[49m\u001b[43msave_data\u001b[49m\u001b[38;5;241;43m=\u001b[39;49m\u001b[43msave_data\u001b[49m\u001b[43m)\u001b[49m\n\u001b[0;32m     64\u001b[0m     \u001b[38;5;66;03m# yaml_cfg.device.qubit.pulses.pi_ef.sigma[calib_index] = pi_len\u001b[39;00m\n\u001b[0;32m     65\u001b[0m     \u001b[38;5;66;03m# print('updated pi_len', pi_len)\u001b[39;00m\n\u001b[0;32m     66\u001b[0m override \u001b[38;5;241m=\u001b[39m \u001b[38;5;28;01mFalse\u001b[39;00m\n",
      "Cell \u001b[1;32mIn[11], line 2\u001b[0m, in \u001b[0;36mrun_length_rabi\u001b[1;34m(qZZ, qTest, yaml_cfg, checkEF, test_pi_half, divide_len, save_data)\u001b[0m\n\u001b[0;32m      1\u001b[0m \u001b[38;5;28;01mdef\u001b[39;00m \u001b[38;5;21mrun_length_rabi\u001b[39m(qZZ, qTest, yaml_cfg, checkEF\u001b[38;5;241m=\u001b[39m\u001b[38;5;28;01mFalse\u001b[39;00m, test_pi_half\u001b[38;5;241m=\u001b[39m\u001b[38;5;28;01mFalse\u001b[39;00m, divide_len\u001b[38;5;241m=\u001b[39m\u001b[38;5;28;01mTrue\u001b[39;00m, save_data\u001b[38;5;241m=\u001b[39m\u001b[38;5;28;01mTrue\u001b[39;00m):\n\u001b[1;32m----> 2\u001b[0m     \u001b[38;5;28;01massert\u001b[39;00m qZZ \u001b[38;5;241m!=\u001b[39m qTest\n\u001b[0;32m      3\u001b[0m     \u001b[38;5;28mprint\u001b[39m(\u001b[38;5;124mf\u001b[39m\u001b[38;5;124m\"\u001b[39m\u001b[38;5;124m-------- length rabi --------\u001b[39m\u001b[38;5;124m\"\u001b[39m)\n\u001b[0;32m      4\u001b[0m     lengthrabiZZ \u001b[38;5;241m=\u001b[39m meas\u001b[38;5;241m.\u001b[39mLengthRabiExperiment(\n\u001b[0;32m      5\u001b[0m         soccfg\u001b[38;5;241m=\u001b[39msoc,\n\u001b[0;32m      6\u001b[0m         path\u001b[38;5;241m=\u001b[39mexpt_path,\n\u001b[0;32m      7\u001b[0m         prefix\u001b[38;5;241m=\u001b[39m\u001b[38;5;124mf\u001b[39m\u001b[38;5;124m\"\u001b[39m\u001b[38;5;124mlength_rabi_ZZ_qubit\u001b[39m\u001b[38;5;132;01m{\u001b[39;00mqZZ\u001b[38;5;132;01m}\u001b[39;00m\u001b[38;5;132;01m{\u001b[39;00mqTest\u001b[38;5;132;01m}\u001b[39;00m\u001b[38;5;124m\"\u001b[39m,\n\u001b[0;32m      8\u001b[0m         config_file\u001b[38;5;241m=\u001b[39mconfig_path,\n\u001b[0;32m      9\u001b[0m     )\n",
      "\u001b[1;31mAssertionError\u001b[0m: "
     ]
    }
   ],
   "source": [
    "try: save_data\n",
    "except: assert False, 'you did not run the cell above!'\n",
    "\n",
    "thresholds=None\n",
    "angles=None\n",
    "ge_avgs=None\n",
    "counts_calib=None\n",
    "\n",
    "num_qubits_sample = 4\n",
    "\n",
    "# for qTest in [0, 1]:\n",
    "    # for qZZ in [0, 1]:\n",
    "for qTest in [2]:\n",
    "    # for qZZ in [0, 1, 2, 3]:\n",
    "    for qZZ in [2]:\n",
    "\n",
    "        if qTest == 0 or qTest == 1:\n",
    "            if qZZ != qTest: continue\n",
    "\n",
    "        if qTest == 2:\n",
    "            if qZZ not in [1, 2]: continue\n",
    "        if qTest == 3:\n",
    "            if qZZ not in [0, 1, 3]: continue\n",
    "\n",
    "        # if qTest == 2:\n",
    "        #     if qZZ != 2: continue\n",
    "        # if qTest == 3:\n",
    "        #     if qZZ != 0: continue\n",
    "        # if qZZ != qTest:\n",
    "        #     if qTest not in [2, 3]: continue\n",
    "        #     if qZZ not in [0, 2, 3]: continue\n",
    "        #     if qTest == 2 and qZZ == 0: continue\n",
    "        #     if qTest == 2 and qZZ == 3: continue\n",
    "        #     # if qTest == 3 and qZZ == 2: continue\n",
    "        # if qTest == 2 and qZZ == 2: continue\n",
    "\n",
    "        # if qZZ != qTest: continue\n",
    "        # if qZZ == 0 and qTest != 3: continue\n",
    "\n",
    "        calib_index = qTest*num_qubits_sample + qZZ\n",
    "\n",
    "        print(f\"######### BEGINNING QUBIT {qTest} EF WITH ZZ FROM {qZZ} #########\")\n",
    "\n",
    "        # ----- Default values ----- #\n",
    "        pi_len = np.reshape(yaml_cfg.device.qubit.pulses.pi_ef.sigma, (4,4))[qTest, qZZ]\n",
    "        pi_gain = np.reshape(yaml_cfg.device.qubit.pulses.pi_ef.gain, (4,4))[qTest, qZZ]\n",
    "        pi_freq = np.reshape(yaml_cfg.device.qubit.f_ef, (4,4))[qTest, qZZ]\n",
    "        if test_pi_half:\n",
    "            if divide_len:\n",
    "                pi_gain = np.reshape(yaml_cfg.device.qubit.pulses.pi_ef.half_gain, (4,4))[qTest, qZZ]\n",
    "            else:\n",
    "                pi_gain = np.reshape(yaml_cfg.device.qubit.pulses.pi_ef.half_gain_pi_sigma, (4,4))[qTest, qZZ]\n",
    "        print('initial pi_len', pi_len)\n",
    "        print('initial pi_gain', pi_gain)\n",
    "        print('initial pi_freq', pi_freq)\n",
    "        override = False\n",
    "\n",
    "        # For each experiment, update the relevant local variable pi_x, update the yaml and pass it to the next function\n",
    "\n",
    "\n",
    "        # ----- Length Rabi ----- #\n",
    "        if do_length_rabi and not override:\n",
    "            pi_len = run_length_rabi(qZZ=qZZ, qTest=qTest, yaml_cfg=yaml_cfg, checkEF=True, test_pi_half=test_pi_half, divide_len=divide_len, save_data=save_data)\n",
    "            # yaml_cfg.device.qubit.pulses.pi_ef.sigma[calib_index] = pi_len\n",
    "            # print('updated pi_len', pi_len)\n",
    "        override = False\n",
    "\n",
    "        # ----- Amp Rabi ----- #\n",
    "        # if qTest != 1: override = True\n",
    "        if do_amp_rabi and not override:\n",
    "            pi_gain = run_amp_rabi(qZZ=qZZ, qTest=qTest, yaml_cfg=yaml_cfg, checkEF=True, test_pi_half=test_pi_half, divide_len=divide_len, save_data=save_data)\n",
    "            if test_pi_half:\n",
    "                if divide_len: yaml_cfg.device.qubit.pulses.pi_ef.half_gain[calib_index] = pi_gain\n",
    "                else: yaml_cfg.device.qubit.pulses.pi_ef.half_gain_pi_sigma[calib_index] = pi_gain\n",
    "            else: yaml_cfg.device.qubit.pulses.pi_ef.gain[calib_index] = pi_gain\n",
    "            print('updated pi_gain', pi_gain)\n",
    "        override = False\n",
    "\n",
    "        # ----- Ramsey ----- #\n",
    "        # if 1 not in [qZZ, qTest]: override = True\n",
    "        # if (qZZ == 1 and qTest == 0): override = True\n",
    "        # if test_pi_half: override = True # ramsey not useful for pi half calibration\n",
    "        if do_ramsey and not override:\n",
    "            pi_freq = run_ramsey(qZZ=qZZ, qTest=qTest, yaml_cfg=yaml_cfg, checkEF=True, save_data=save_data)\n",
    "            yaml_cfg.device.qubit.f_ef[calib_index] = pi_freq\n",
    "            print('updated pi_freq', pi_freq)\n",
    "        override = False\n",
    "\n",
    "        # ----- Pi Minus Pi ----- #\n",
    "        # if 1 not in [qZZ, qTest]: override = True\n",
    "        # if (qZZ == 1 and qTest == 0): override = True\n",
    "        if do_piminuspi and not override:\n",
    "            pi_freq = run_piminuspi(qZZ=qZZ, qTest=qTest, test_pi_half=test_pi_half, checkEF=True, divide_len=divide_len, yaml_cfg=yaml_cfg, save_data=save_data)\n",
    "            yaml_cfg.device.qubit.f_ef[calib_index] = pi_freq\n",
    "            print('updated pi_freq', pi_freq)\n",
    "        override = False\n",
    "\n",
    "        # ----- Amp Rabi Round 2 ----- #\n",
    "        # if qZZ == 0 and qTest == 1: override = True\n",
    "        if do_amp_rabi_2 and not override:\n",
    "            pi_gain = run_amp_rabi(qZZ=qZZ, qTest=qTest, yaml_cfg=yaml_cfg, checkEF=True, test_pi_half=test_pi_half, divide_len=divide_len, save_data=save_data)\n",
    "            if test_pi_half:\n",
    "                if divide_len: yaml_cfg.device.qubit.pulses.pi_ef.half_gain[calib_index] = pi_gain\n",
    "                else: yaml_cfg.device.qubit.pulses.pi_ef.half_gain_pi_sigma[calib_index] = pi_gain\n",
    "            else: yaml_cfg.device.qubit.pulses.pi_ef.gain[calib_index] = pi_gain\n",
    "            print('updated pi_gain round 2', pi_gain)\n",
    "        override = False\n",
    "\n",
    "        # ----- Error amplification ----- #\n",
    "        # if qZZ == 0 and qTest == 1: override = True\n",
    "        if do_error_amp and not override:\n",
    "            pi_gain = run_error_amp(qZZ=qZZ, qTest=qTest, yaml_cfg=yaml_cfg, checkEF=True, test_pi_half=test_pi_half, divide_len=divide_len, save_data=save_data)\n",
    "            if test_pi_half:\n",
    "                if divide_len: yaml_cfg.device.qubit.pulses.pi_ef.half_gain[calib_index] = pi_gain\n",
    "                else: yaml_cfg.device.qubit.pulses.pi_ef.half_gain_pi_sigma[calib_index] = pi_gain\n",
    "            else: yaml_cfg.device.qubit.pulses.pi_ef.gain[calib_index] = pi_gain\n",
    "            print('updated pi_gain from error amplification', pi_gain)\n",
    "        override = False\n",
    "\n",
    "        print(\"\\n\\n\")"
   ]
  },
  {
   "cell_type": "code",
   "execution_count": null,
   "metadata": {},
   "outputs": [],
   "source": [
    "print(\"UPDATE MANUALLY IN CONFIG:\")\n",
    "print('f_ef:')\n",
    "print(yaml_cfg.device.qubit.f_ef)\n",
    "print('pi_ef: sigma')\n",
    "print(yaml_cfg.device.qubit.pulses.pi_ef.sigma)\n",
    "\n",
    "if test_pi_half:\n",
    "    if divide_len:\n",
    "        print('pi_ef: half_gain')\n",
    "        print(yaml_cfg.device.qubit.pulses.pi_ef.half_gain)\n",
    "        print(np.reshape(yaml_cfg.device.qubit.pulses.pi_ef.half_gain, (4,4)))\n",
    "    else:\n",
    "        print('pi_ef: half_gain_pi_sigma')\n",
    "        print(yaml_cfg.device.qubit.pulses.pi_ef.half_gain_pi_sigma)\n",
    "        print(np.reshape(yaml_cfg.device.qubit.pulses.pi_ef.half_gain_pi_sigma, (4,4)))\n",
    "else:\n",
    "    print('pi_ef: gain')\n",
    "    print(yaml_cfg.device.qubit.pulses.pi_ef.gain)\n",
    "    print(np.reshape(yaml_cfg.device.qubit.pulses.pi_ef.gain, (4,4)))\n",
    "\n",
    "print()\n",
    "ZZshifts_ef = np.zeros((4,4))\n",
    "reshaped_f_ef = np.reshape(yaml_cfg.device.qubit.f_ef, (4,4))\n",
    "for row in range(4):\n",
    "    for col in range(4):\n",
    "        if row == col: continue\n",
    "        if reshaped_f_ef[row, col] == 0:\n",
    "            reshaped_f_ef[row, col] = reshaped_f_ef[row, row]\n",
    "\n",
    "for row in range(4):\n",
    "    ZZshifts_ef[row,:] = reshaped_f_ef[row,:] - reshaped_f_ef[row,row]\n",
    "print('ZZ_efs:')\n",
    "print(ZZshifts_ef)\n",
    "# print(ZZshifts_ef.flatten().tolist())\n",
    "\n",
    "print()\n",
    "print(f'New f_ef\\n', np.reshape(yaml_cfg.device.qubit.f_ef, (4,4)))"
   ]
  },
  {
   "cell_type": "markdown",
   "metadata": {},
   "source": [
    "# Pi pulse train\n",
    "\n",
    "https://arxiv.org/pdf/2304.06087"
   ]
  },
  {
   "cell_type": "code",
   "execution_count": null,
   "metadata": {},
   "outputs": [],
   "source": [
    "checkEF = False\n",
    "\n",
    "test_pi_half = True\n",
    "divide_len = True\n",
    "# test_pi_half = True\n",
    "# divide_len = False # for RB\n",
    "\n",
    "full_mux_expt = True\n",
    "resonator_reset = [0, 2, 3]\n",
    "use_robust_pulses = True\n",
    "\n",
    "qTest = 0\n",
    "qZZ = 0"
   ]
  },
  {
   "cell_type": "code",
   "execution_count": null,
   "metadata": {},
   "outputs": [],
   "source": [
    "train_expt = Experiment(\n",
    "    soccfg=soc,\n",
    "    path=expt_path,\n",
    "    prefix=f\"pi_train_Q{qTest}{qZZ}\",\n",
    "    config_file=config_path,\n",
    ")\n",
    "\n",
    "npts_gain = 40\n",
    "if checkEF:\n",
    "    init_gain = train_expt.cfg.device.qubit.pulses.pi_ef.half_gain[qTest*4+qZZ]\n",
    "else:\n",
    "    init_gain = train_expt.cfg.device.qubit.pulses.pi_ge.half_gain[qTest*4+qZZ]\n",
    "    if use_robust_pulses:\n",
    "        init_gain = train_expt.cfg.device.qubit.pulses.pihalf_ge_robust.gain[qTest*4+qZZ]\n",
    "span_gain = int(init_gain / 10)\n",
    "start_gain = int(init_gain - span_gain/2)\n",
    "gain_sweep = np.linspace(start_gain, start_gain + span_gain, npts_gain+1)\n",
    "print(gain_sweep)\n",
    "\n",
    "train_lens = [11, 31, 51]\n",
    "# train_lens = [3, 5, 11, 21]\n",
    "\n",
    "train_expt.cfg.expt = dict(\n",
    "    train_lens=train_lens,\n",
    "    gain_sweep=gain_sweep,\n",
    "\n",
    "    reps=1000,\n",
    "    loops=1,\n",
    "\n",
    "    pulse_type='gauss',\n",
    "    # post_process='threshold',\n",
    "    post_process=None,\n",
    "    # singleshot_reps=20000,\n",
    "\n",
    "    test_pi_half=test_pi_half,\n",
    "    divide_len=divide_len,\n",
    "    error_amp=True,\n",
    "    skip_first_pi2=True,\n",
    "\n",
    "    checkEF=checkEF, \n",
    "    qTest=qTest,\n",
    "    qZZ=qZZ,\n",
    "    # readout_ge=not checkEF,\n",
    "    readout_ge=True,\n",
    "\n",
    "    full_mux_expt=full_mux_expt,\n",
    "    resonator_reset=resonator_reset,\n",
    "\n",
    "    use_robust_pulses=use_robust_pulses,\n",
    "            \n",
    ")\n",
    "\n",
    "train_expt.data = dict(\n",
    "    avgi = np.zeros((len(train_lens), len(gain_sweep))),\n",
    "    avgq = np.zeros((len(train_lens), len(gain_sweep))),\n",
    "    amps = np.zeros((len(train_lens), len(gain_sweep))),\n",
    ")\n",
    "\n",
    "thresholds = None\n",
    "angles = None\n",
    "ge_avgs = None\n",
    "counts_calib = None\n",
    "\n",
    "for i_npulses, npulses in enumerate(tqdm(train_lens)):\n",
    "    for i_pulse_gain, pulse_gain in enumerate(tqdm(gain_sweep)):\n",
    "        npulsecalib = meas.NPulseExperiment(\n",
    "            soccfg=soc,\n",
    "            path=expt_path,\n",
    "            prefix=f\"NPulseExptQ{qTest}{qZZ}\",\n",
    "            config_file=config_path,\n",
    "        )\n",
    "\n",
    "        npulsecalib.cfg.expt = dict(\n",
    "            start=npulses, # number gate repetitions\n",
    "            step=0,\n",
    "            expts=1,\n",
    "            # thresholds=thresholds,\n",
    "            # angles=angles,\n",
    "            # ge_avgs=ge_avgs,\n",
    "            # counts_calib=counts_calib,\n",
    "        )\n",
    "        npulsecalib.cfg.expt.update(train_expt.cfg.expt)\n",
    "\n",
    "        if checkEF:\n",
    "            npulsecalib.cfg.device.qubit.pulses.pi_ef.half_gain[qTest*4+qZZ] = int(pulse_gain)\n",
    "        else:\n",
    "            npulsecalib.cfg.device.qubit.pulses.pi_ge.half_gain[qTest*4+qZZ] = int(pulse_gain)\n",
    "            if use_robust_pulses:\n",
    "                npulsecalib.cfg.device.qubit.pulses.pihalf_ge_robust.gain[qTest*4+qZZ] = int(pulse_gain)\n",
    "            \n",
    "\n",
    "        try:\n",
    "            npulsecalib.acquire(progress=False, debug=False)\n",
    "        except Exception:\n",
    "            print(\"Pyro traceback:\")\n",
    "            print(\"\".join(Pyro4.util.getPyroTraceback()))\n",
    "        \n",
    "        for data_name in ['avgi', 'avgq', 'amps']:\n",
    "            train_expt.data[data_name][i_npulses, i_pulse_gain] = npulsecalib.data[data_name]\n",
    "        \n",
    "        # thresholds = npulsecalib.data['thresholds']\n",
    "        # angles = npulsecalib.data['angles']\n",
    "        # ge_avgs = npulsecalib.data['ge_avgs']\n",
    "        # counts_calib = npulsecalib.data['counts_calib']"
   ]
  },
  {
   "cell_type": "code",
   "execution_count": null,
   "metadata": {},
   "outputs": [],
   "source": [
    "data_name = \"amps\"\n",
    "\n",
    "plt.figure(figsize=(8, 6))\n",
    "for i_npulses, npulses in enumerate(train_lens):\n",
    "    plt.plot(gain_sweep, train_expt.data[data_name][i_npulses, :], 'o-', label=f'{npulses} pulses')\n",
    "plt.xlabel(\"Pi Gain [DAC units]\")\n",
    "plt.ylabel(data_name)\n",
    "plt.legend()\n",
    "plt.title(f\"Q{train_expt.cfg.expt.qTest} qZZ {train_expt.cfg.expt.qZZ} {'EF' if checkEF else ''}Pi Pulse Train\")\n",
    "plt.axvline(7468)\n",
    "plt.show()\n"
   ]
  },
  {
   "cell_type": "code",
   "execution_count": null,
   "metadata": {},
   "outputs": [],
   "source": [
    "print(train_expt.save_data())"
   ]
  },
  {
   "cell_type": "markdown",
   "metadata": {},
   "source": [
    "# Get couplings and bare qubit and ef frequencies by optimization"
   ]
  },
  {
   "cell_type": "code",
   "execution_count": 29,
   "metadata": {},
   "outputs": [],
   "source": [
    "sys.path.append(os.getcwd()+'/../../qutip_sims')\n",
    "from QSwitch import QSwitch, get_bare_params_from_coupled, gs_mat_from_gs_arr"
   ]
  },
  {
   "cell_type": "code",
   "execution_count": 30,
   "metadata": {},
   "outputs": [],
   "source": [
    "import yaml\n",
    "with open(config_path, 'r') as cfg_file:\n",
    "    yaml_cfg = yaml.safe_load(cfg_file)\n",
    "yaml_cfg = AttrDict(yaml_cfg)"
   ]
  },
  {
   "cell_type": "code",
   "execution_count": 31,
   "metadata": {},
   "outputs": [],
   "source": [
    "qubit_ZZ_freqs_MHz = np.array(np.reshape(yaml_cfg.device.qubit.f_ge, (4,4)))\n",
    "ef_ZZ_freqs_MHz = np.array(np.reshape(yaml_cfg.device.qubit.f_ef, (4,4)))\n",
    "\n",
    "qubit_freqs_MHz = qubit_ZZ_freqs_MHz.diagonal()\n",
    "ef_freqs_MHz = ef_ZZ_freqs_MHz.diagonal()\n",
    "ZZshifts_MHz = np.zeros((4,4))\n",
    "for row in range(4):\n",
    "    ZZshifts_MHz[row,:] = qubit_ZZ_freqs_MHz[row,:] - qubit_ZZ_freqs_MHz[row,row]"
   ]
  },
  {
   "cell_type": "code",
   "execution_count": null,
   "metadata": {},
   "outputs": [],
   "source": [
    "fges_opt_MHz, alphas_opt_MHz, gs_opt_MHz, error = get_bare_params_from_coupled(qubit_ZZ_freqs_MHz, ef_ZZ_freqs_MHz)"
   ]
  },
  {
   "cell_type": "code",
   "execution_count": null,
   "metadata": {},
   "outputs": [],
   "source": [
    "qram = QSwitch(\n",
    "    EJs=None,\n",
    "    ECs=None,\n",
    "    gs=1e-3*gs_mat_from_gs_arr(gs_opt_MHz),\n",
    "    qubit_freqs=1e-3*fges_opt_MHz,\n",
    "    alphas=1e-3*alphas_opt_MHz,\n",
    "    cutoffs=[4, 5, 4, 4],\n",
    "    isCavity=[False]*4,\n",
    ")\n",
    "print('Measured (coupled) qubits freqs [MHz]')\n",
    "print(qubit_freqs_MHz)\n",
    "print('Measured (coupled) ef freqs [MHz]')\n",
    "print(ef_freqs_MHz)\n",
    "print()\n",
    "\n",
    "print('Optimized (uncoupled) qubit freqs [MHz]')\n",
    "print(fges_opt_MHz)\n",
    "print('Optimized (uncoupled) alphas [MHz]')\n",
    "print(alphas_opt_MHz)\n",
    "\n",
    "optimized_fges = []\n",
    "optimized_fefs = []\n",
    "gstate = 'gggg'\n",
    "for i in range(4):\n",
    "    estate = gstate[:i] + 'e' + gstate[i+1:]\n",
    "    optimized_fges.append(1e3*(qram.get_base_wd(gstate, estate)/2/np.pi))\n",
    "    fstate = gstate[:i] + 'f' + gstate[i+1:]\n",
    "    optimized_fefs.append(1e3*(qram.get_base_wd(estate, fstate)/2/np.pi))\n",
    "print('Optimized (coupled) qubit freqs [MHz]')\n",
    "print(optimized_fges)\n",
    "print('Optimized (coupled) qubit ef freqs [MHz]')\n",
    "print(optimized_fefs)\n",
    "print(f'Optimized g01, g12, g13, g02, g03, g23 [MHz]')\n",
    "print('gs: [', end='')\n",
    "print(*(gs_opt_MHz), sep=', ', end=']\\n')\n",
    "print()\n",
    "print('ZZ matrix = (QA freq when QB is in e) - (QA freq when QB is in g) [MHz]')\n",
    "print('Down: spectroscopy qubit (QA), Right: pi pulse qubit (QB)')\n",
    "print('Measured ZZ matrix [MHz]')\n",
    "print(ZZshifts_MHz)\n",
    "print('Optimized ZZ matrix [MHz]')\n",
    "print(1e3*qram.get_ZZ_matrix())\n",
    "print()\n",
    "print(f'Optimization error: {error}')"
   ]
  },
  {
   "cell_type": "code",
   "execution_count": null,
   "metadata": {},
   "outputs": [],
   "source": []
  }
 ],
 "metadata": {
  "kernelspec": {
   "display_name": "base",
   "language": "python",
   "name": "python3"
  },
  "language_info": {
   "codemirror_mode": {
    "name": "ipython",
    "version": 3
   },
   "file_extension": ".py",
   "mimetype": "text/x-python",
   "name": "python",
   "nbconvert_exporter": "python",
   "pygments_lexer": "ipython3",
   "version": "3.9.19"
  }
 },
 "nbformat": 4,
 "nbformat_minor": 4
}
