{
 "cells": [
  {
   "cell_type": "code",
   "execution_count": 8,
   "metadata": {},
   "outputs": [
    {
     "name": "stdout",
     "output_type": "stream",
     "text": [
      "The autoreload extension is already loaded. To reload it, use:\n",
      "  %reload_ext autoreload\n"
     ]
    }
   ],
   "source": [
    "%load_ext autoreload\n",
    "%autoreload 2\n",
    "\n",
    "import numpy as np\n",
    "import matplotlib.pyplot as plt\n",
    "\n",
    "from qick import *\n",
    "from qick.helpers import gauss\n",
    "from tqdm import tqdm_notebook as tqdm\n",
    "\n",
    "import time\n",
    "import os\n",
    "import sys\n",
    "sys.path.append('/home/xilinx/jupyter_notebooks/')\n",
    "import scipy as sp\n",
    "from scipy.fft import fft, fftfreq\n",
    "import json\n",
    "\n",
    "from slab.instruments import *\n",
    "from slab.experiment import Experiment\n",
    "from slab.datamanagement import SlabFile\n",
    "from slab import get_next_filename, AttrDict\n",
    "\n",
    "# Figure params\n",
    "plt.rcParams['figure.figsize'] = [10,6]\n",
    "plt.rcParams.update({'font.size': 14})"
   ]
  },
  {
   "cell_type": "markdown",
   "metadata": {},
   "source": [
    "# Load experiments"
   ]
  },
  {
   "cell_type": "code",
   "execution_count": 9,
   "metadata": {},
   "outputs": [
    {
     "name": "stdout",
     "output_type": "stream",
     "text": [
      "imported experiments.clifford_averager_program\n",
      "imported experiments.fitting\n",
      "imported experiments.single_qubit.acstarkshift_spectroscopy\n",
      "imported experiments.single_qubit.amplitude_rabi\n",
      "imported experiments.single_qubit.amplitude_rabi_ef\n",
      "imported experiments.single_qubit.length_rabi\n",
      "imported experiments.single_qubit.pulse_probe_ef_spectroscopy\n",
      "imported experiments.single_qubit.pulse_probe_spectroscopy\n",
      "imported experiments.single_qubit.ramsey_ef\n",
      "imported experiments.single_qubit.randbench\n",
      "imported experiments.single_qubit.resonator_spectroscopy\n",
      "imported experiments.single_qubit.rfsoc_tof_calibration\n",
      "imported experiments.single_qubit.single_shot\n",
      "imported experiments.single_qubit.t1\n",
      "imported experiments.single_qubit.t2_echo\n",
      "imported experiments.single_qubit.t2_ramsey\n",
      "imported experiments.two_qubit.amplitude_rabi_EgGf\n",
      "imported experiments.two_qubit.length_rabi_EgGf\n",
      "imported experiments.two_qubit.pulse_probe_coupling_spectroscopy\n",
      "imported experiments.two_qubit.pulse_probe_EgGf_spectroscopy\n",
      "imported experiments.two_qubit.twoqutrit_state_tomography\n",
      "imported experiments.two_qubit.twoQ_state_tomography\n"
     ]
    }
   ],
   "source": [
    "# %aimport experiments\n",
    "import experiments as meas"
   ]
  },
  {
   "cell_type": "code",
   "execution_count": 10,
   "metadata": {},
   "outputs": [],
   "source": [
    "\"\"\"Reopen saved data\"\"\"\n",
    "def prev_data(expt_path, filename):\n",
    "    temp_data_file = expt_path+'/'+filename\n",
    "    with SlabFile(temp_data_file) as a:\n",
    "        attrs = dict()\n",
    "        for key in list(a.attrs):\n",
    "            attrs.update({key:json.loads(a.attrs[key])})\n",
    "        keys = list(a)\n",
    "        temp_data = dict()\n",
    "        for key in keys:\n",
    "            temp_data.update({key:np.array(a[key])})\n",
    "        print(f'Extracted data and attrs {list(a.attrs)}')\n",
    "    return temp_data, attrs"
   ]
  },
  {
   "cell_type": "code",
   "execution_count": 11,
   "metadata": {},
   "outputs": [
    {
     "name": "stdout",
     "output_type": "stream",
     "text": [
      "Data will be stored in s:\\Connie\\experiments\\qramLL_4QR2\\data_220904\n"
     ]
    }
   ],
   "source": [
    "expt_path=os.getcwd()+'\\data_220904'\n",
    "print('Data will be stored in', expt_path)"
   ]
  },
  {
   "cell_type": "code",
   "execution_count": 12,
   "metadata": {},
   "outputs": [
    {
     "name": "stdout",
     "output_type": "stream",
     "text": [
      "Config will be s:\\Connie\\experiments\\qramLL_4QR2\\config_q3diamond.yml\n"
     ]
    }
   ],
   "source": [
    "# config_file = 'config_zcu216.yml'\n",
    "config_file = 'config_q3diamond.yml'\n",
    "config_path = os.getcwd() + '\\\\' + config_file\n",
    "print('Config will be', config_path)"
   ]
  },
  {
   "cell_type": "markdown",
   "metadata": {},
   "source": [
    "# Setup experiment hardware\n",
    "\n",
    "Set in config:\n",
    "- LO alias, frequency, power\n",
    "- SOC dac channels, nyquist zones"
   ]
  },
  {
   "cell_type": "code",
   "execution_count": 13,
   "metadata": {},
   "outputs": [],
   "source": [
    "import yaml\n",
    "with open(config_file, 'r') as cfg_file:\n",
    "    yaml_cfg = yaml.safe_load(cfg_file)\n",
    "yaml_cfg = AttrDict(yaml_cfg)"
   ]
  },
  {
   "cell_type": "code",
   "execution_count": 14,
   "metadata": {},
   "outputs": [],
   "source": [
    "im = InstrumentManager()"
   ]
  },
  {
   "cell_type": "code",
   "execution_count": null,
   "metadata": {},
   "outputs": [
    {
     "name": "stdout",
     "output_type": "stream",
     "text": [
      "Default Instrument SC_26C1\n",
      "set freq to 6100000000.0\n",
      "set power to 10.0\n"
     ]
    }
   ],
   "source": [
    "lo1 = im[yaml_cfg.aliases.readout_LO]\n",
    "lo1.open_device()\n",
    "print(lo1.get_id())\n",
    "\n",
    "# # TURN OFF\n",
    "# lo1.set_standby(True)\n",
    "# lo1.set_output_state(False)\n",
    "\n",
    "# TURN ON\n",
    "lo1.set_standby(False)\n",
    "lo1.set_output_state(True)\n",
    "lo_freq = float(yaml_cfg.hw.lo.readout.frequency)\n",
    "lo_power = float(yaml_cfg.hw.lo.readout.power)\n",
    "lo1.set_frequency(lo_freq) # Set LO frequency\n",
    "print('set freq to', lo_freq)\n",
    "lo1.set_power(lo_power) # Set LO power\n",
    "print('set power to', lo_power)"
   ]
  },
  {
   "cell_type": "code",
   "execution_count": 15,
   "metadata": {},
   "outputs": [
    {
     "name": "stdout",
     "output_type": "stream",
     "text": [
      "\n",
      "QICK configuration:\n",
      "\n",
      "\tBoard: ZCU216\n",
      "\n",
      "\tGlobal clocks (MHz): tProcessor 349.997, RF reference 245.760\n",
      "\n",
      "\t7 signal generator channels:\n",
      "\t0:\taxis_sg_int4_v1 - tProc output 0, switch ch 0, maxlen 4096\n",
      "\t\tDAC tile 2, ch 0, 16-bit DDS, fabric=430.080 MHz, fs=1720.320 MHz\n",
      "\t1:\taxis_sg_int4_v1 - tProc output 1, switch ch 1, maxlen 4096\n",
      "\t\tDAC tile 2, ch 1, 16-bit DDS, fabric=430.080 MHz, fs=1720.320 MHz\n",
      "\t2:\taxis_sg_int4_v1 - tProc output 2, switch ch 2, maxlen 4096\n",
      "\t\tDAC tile 2, ch 2, 16-bit DDS, fabric=430.080 MHz, fs=1720.320 MHz\n",
      "\t3:\taxis_sg_int4_v1 - tProc output 3, switch ch 3, maxlen 4096\n",
      "\t\tDAC tile 2, ch 3, 16-bit DDS, fabric=430.080 MHz, fs=1720.320 MHz\n",
      "\t4:\taxis_signal_gen_v6 - tProc output 4, switch ch 4, maxlen 65536\n",
      "\t\tDAC tile 3, ch 0, 32-bit DDS, fabric=599.040 MHz, fs=9584.640 MHz\n",
      "\t5:\taxis_signal_gen_v6 - tProc output 5, switch ch 5, maxlen 65536\n",
      "\t\tDAC tile 3, ch 1, 32-bit DDS, fabric=599.040 MHz, fs=9584.640 MHz\n",
      "\t6:\taxis_sg_mux4_v2 - tProc output 6, switch ch -1, maxlen 0\n",
      "\t\tDAC tile 0, ch 0, 32-bit DDS, fabric=430.080 MHz, fs=1720.320 MHz\n",
      "\n",
      "\t4 constant-IQ outputs:\n",
      "\t0:\tDAC tile 1, ch 0, fs=6881.280 MHz\n",
      "\t1:\tDAC tile 1, ch 1, fs=6881.280 MHz\n",
      "\t2:\tDAC tile 1, ch 2, fs=6881.280 MHz\n",
      "\t3:\tDAC tile 1, ch 3, fs=6881.280 MHz\n",
      "\n",
      "\t4 readout channels:\n",
      "\t0:\tADC tile 2, ch 0, 35-bit DDS, fabric=307.200 MHz, fs=2457.600 MHz\n",
      "\t\tmaxlen 1024 (avg) 1024 (decimated), trigger bit 4, tProc input 0\n",
      "\t1:\tADC tile 2, ch 0, 35-bit DDS, fabric=307.200 MHz, fs=2457.600 MHz\n",
      "\t\tmaxlen 1024 (avg) 1024 (decimated), trigger bit 5, tProc input 1\n",
      "\t2:\tADC tile 2, ch 0, 35-bit DDS, fabric=307.200 MHz, fs=2457.600 MHz\n",
      "\t\tmaxlen 1024 (avg) 1024 (decimated), trigger bit 6, tProc input 2\n",
      "\t3:\tADC tile 2, ch 0, 35-bit DDS, fabric=307.200 MHz, fs=2457.600 MHz\n",
      "\t\tmaxlen 1024 (avg) 1024 (decimated), trigger bit 7, tProc input 3\n",
      "\n",
      "\t11 DACs:\n",
      "\t\tDAC tile 0, ch 0 is 0_228, on JHC1\n",
      "\t\tDAC tile 1, ch 0 is 0_229, on JHC1\n",
      "\t\tDAC tile 1, ch 1 is 1_229, on JHC2\n",
      "\t\tDAC tile 1, ch 2 is 2_229, on JHC1\n",
      "\t\tDAC tile 1, ch 3 is 3_229, on JHC2\n",
      "\t\tDAC tile 2, ch 0 is 0_230, on JHC3\n",
      "\t\tDAC tile 2, ch 1 is 1_230, on JHC4\n",
      "\t\tDAC tile 2, ch 2 is 2_230, on JHC3\n",
      "\t\tDAC tile 2, ch 3 is 3_230, on JHC4\n",
      "\t\tDAC tile 3, ch 0 is 0_231, on JHC3\n",
      "\t\tDAC tile 3, ch 1 is 1_231, on JHC4\n",
      "\n",
      "\t1 ADCs:\n",
      "\t\tADC tile 2, ch 0 is 0_226, on JHC7\n",
      "\n",
      "\t4 digital output pins:\n",
      "\t0:\tPMOD0_0_LS\n",
      "\t1:\tPMOD0_1_LS\n",
      "\t2:\tPMOD0_2_LS\n",
      "\t3:\tPMOD0_3_LS\n",
      "\n",
      "\ttProc: 1024 words program memory, 1024 words data memory\n",
      "\t\texternal start pin: PMOD1_0_LS\n"
     ]
    }
   ],
   "source": [
    "soc = QickConfig(im[yaml_cfg['aliases']['soc']].get_cfg())\n",
    "print(soc)\n",
    "# print(soc.description())\n",
    "# print(soc.dump_cfg())"
   ]
  },
  {
   "cell_type": "markdown",
   "metadata": {},
   "source": [
    "# Sweep qubits\n",
    "\n",
    "For each iteration: sweep qubit 0 freq after applying pi pulse to qubit 1"
   ]
  },
  {
   "cell_type": "code",
   "execution_count": 3,
   "metadata": {},
   "outputs": [],
   "source": [
    "ZZshifts = np.zeros((4,4)) # first dim: qubit 0, second dim: qubit 1"
   ]
  },
  {
   "cell_type": "code",
   "execution_count": null,
   "metadata": {},
   "outputs": [],
   "source": [
    "for qubit0 in range(4):\n",
    "    for qubit1 in range(4):\n",
    "        if qubit1 == qubit0: continue\n",
    "        qZZspec = meas.PulseProbeCouplingSpectroscopyExperiment(\n",
    "            soccfg=soc,\n",
    "            path=expt_path,\n",
    "            prefix=f\"qubit_coupling_spectroscopy_qubit{qubit0}{qubit1}\",\n",
    "            config_file=config_path,\n",
    "        )\n",
    "        \n",
    "        span = 15\n",
    "        npts = 151\n",
    "        \n",
    "        qZZspec.cfg.expt = dict(\n",
    "            start=qZZspec.cfg.device.qubit.f_ge[qubit0]-span/2, # resonator frequency to be mixed up [MHz]\n",
    "            # start=3600,\n",
    "            step=span/npts,\n",
    "            expts=npts, # Number of experiments stepping from start\n",
    "            reps=300, # Number of averages per point\n",
    "            rounds=10, # Number of start to finish sweeps to average over\n",
    "            pulseB=True, # Whether to apply pi pulse to qubit B\n",
    "            length=10, # qubit 0 probe constant pulse length [us]\n",
    "            gain=int(qZZspec.cfg.device.qubit.pulses.pi_ge.gain[qubit0]/3), # Qubit pulse gain\n",
    "            qubits=[qubit0, qubit1],\n",
    "        )\n",
    "        \n",
    "        # qZZspec.cfg.device.readout.relax_delay = [10, 10, 10, 10] # Wait time between experiments [us]\n",
    "        \n",
    "        # print(qZZspec.cfg)\n",
    "        \n",
    "        qZZspec.go(analyze=False, display=False, progress=True, save=False)\n",
    "\n",
    "        # ============ POST PROCESSING ============ #\n",
    "        best_signs = [1, 0, 0]\n",
    "        best_fit_err_i = np.inf\n",
    "        best_fit_err_q = np.inf\n",
    "        for sign in [1, -1]:\n",
    "            try: \n",
    "                qZZspec.analyze(fit=True, signs=[1, sign, sign])\n",
    "                fit_err_amps = qZZspec.data['fit_err_amps'][2][2]\n",
    "                fit_err_i = qZZspec.data['fit_err_avgi'][2][2]\n",
    "                fit_err_q = qZZspec.data['fit_err_avgq'][2][2]\n",
    "                if fit_err_i < best_fit_err_i:\n",
    "                    best_signs[1] = sign\n",
    "                    best_fit_err_i = fit_err_i\n",
    "                if fit_err_q < best_fit_err_q:\n",
    "                    best_signs[2] = sign\n",
    "                    best_fit_err_q = fit_err_q\n",
    "            except: continue\n",
    "        if fit_err_amps == np.inf and best_fit_err_i == np.inf and best_fit_err_q == np.inf:\n",
    "            qZZspec.display(fit=False)\n",
    "            assert False, 'All fits failed, please manually fix!'\n",
    "\n",
    "        qZZspec.analyze(fit=True, signs=best_signs)\n",
    "        qZZspec.display(fit=True, signs=best_signs)\n",
    "\n",
    "        qZZspec_fit, qZZspec_fit_err = meas.fitting.get_best_fit(qZZspec.data, compare_param_i=1)\n",
    "        qZZspec.cfg.device.qubit.f_ge[qubit0] = qZZspec_fit[2]\n",
    "        ZZshifts[qubit0, qubit1] = qZZspec_fit[2] - qZZspec.cfg.device.qubit.f_ge[qubit0]\n",
    "        print(f'Fit Q{qubit0} frequency with ZZ shift [MHz]: {qZZspec_fit[2]}')\n",
    "        print(f'Q{qubit0} shift due to Q{qubit1} in e [MHz]: {ZZshifts[qubit0, qubit1]}')\n",
    "print(ZZshifts)"
   ]
  },
  {
   "cell_type": "markdown",
   "metadata": {},
   "source": [
    "# Get couplings by optimization"
   ]
  },
  {
   "cell_type": "code",
   "execution_count": 24,
   "metadata": {},
   "outputs": [],
   "source": [
    "sys.path.append(os.getcwd()+'/../../qutip_sims')\n",
    "from QSwitch import QSwitch\n",
    "from scipy.optimize import minimize"
   ]
  },
  {
   "cell_type": "code",
   "execution_count": 28,
   "metadata": {},
   "outputs": [],
   "source": [
    "ZZshifts = np.array([[ 0., -0.6, -0.06, 0.12],\n",
    " [-0.5, 0., -4.3, -0.86],\n",
    " [ -0.04, -5.0,  0., -0.21 ],\n",
    " [ -0.25, -0.44, 0.11, 0.]]\n",
    ")"
   ]
  },
  {
   "cell_type": "markdown",
   "metadata": {},
   "source": [
    "First round somehow only gets g01, g12"
   ]
  },
  {
   "cell_type": "code",
   "execution_count": 94,
   "metadata": {},
   "outputs": [],
   "source": [
    "# Provide measured qubit freqs (GHz), alphas (GHz), ZZ matrix (GHz)\n",
    "# For use in optimization\n",
    "def ZZ_g_diff(gs, *args):\n",
    "    qubit_freqs, alphas, ZZ_matrix = args\n",
    "    # print(args)\n",
    "    qram = QSwitch(\n",
    "        EJs=None,\n",
    "        ECs=None,\n",
    "        gs=gs,\n",
    "        qubit_freqs=qubit_freqs,\n",
    "        alphas=alphas,\n",
    "        cutoffs=[4, 5, 4, 4],\n",
    "        isCavity=[False]*4,\n",
    "    )\n",
    "    # print(qram.get_ZZ_matrix())\n",
    "    # return np.sum(np.abs(ZZ_matrix - qram.get_ZZ_matrix()))\n",
    "    return np.sum(np.abs(1e3*(ZZ_matrix - qram.get_ZZ_matrix()))**2)"
   ]
  },
  {
   "cell_type": "code",
   "execution_count": 95,
   "metadata": {},
   "outputs": [
    {
     "name": "stdout",
     "output_type": "stream",
     "text": [
      "Success: True\n",
      "Optimized g01, g12, g13 [MHz]: [40.41037733 50.10103142 32.38779271]\n"
     ]
    }
   ],
   "source": [
    "x0 = np.array([50, 50, 50])\n",
    "qubit_freqs_MHz = np.array(yaml_cfg.device.qubit.f_ge) + np.array(yaml_cfg.hw.soc.dacs.qubit.mixer_freq)\n",
    "alphas_MHz = np.array(yaml_cfg.device.qubit.f_ef) + np.array(yaml_cfg.hw.soc.dacs.qubit.mixer_freq) - qubit_freqs_MHz\n",
    "bounds = [(1e-3, 2e-1), (1e-3, 2e-1), (1e-3, 2e-1)]\n",
    "\n",
    "result = minimize(ZZ_g_diff, x0=1e-3*x0, args=(1e-3*qubit_freqs_MHz, 1e-3*alphas_MHz, 1e-3*ZZshifts), bounds=bounds , method='L-BFGS-B')\n",
    "print(f'Success: {result.success}')\n",
    "print(f'Optimized g01, g12, g13 [MHz]: {1e3*result.x}')\n",
    "gs_opt = result.x"
   ]
  },
  {
   "cell_type": "code",
   "execution_count": 96,
   "metadata": {},
   "outputs": [
    {
     "name": "stdout",
     "output_type": "stream",
     "text": [
      "ZZ matrix = (QA freq when QB is in e) - (QA freq when QB is in g) [MHz]\n",
      "Down: spectroscopy qubit (QA), Right: pi pulse qubit (QB)\n",
      "Measured ZZ matrix [MHz]\n",
      "[[ 0.   -0.6  -0.06  0.12]\n",
      " [-0.5   0.   -4.3  -0.86]\n",
      " [-0.04 -5.    0.   -0.21]\n",
      " [-0.25 -0.44  0.11  0.  ]]\n",
      "Optimized ZZ matrix [MHz]\n",
      "[[ 0.         -0.55193022 -0.01271754 -0.01113515]\n",
      " [-0.55193022  0.         -4.64982497 -0.64903873]\n",
      " [-0.01271754 -4.64982497  0.         -0.0682107 ]\n",
      " [-0.01113515 -0.64903873 -0.0682107   0.        ]]\n",
      "Optimization error: 0.46730542766522065\n"
     ]
    }
   ],
   "source": [
    "print('ZZ matrix = (QA freq when QB is in e) - (QA freq when QB is in g) [MHz]')\n",
    "print('Down: spectroscopy qubit (QA), Right: pi pulse qubit (QB)')\n",
    "qram = QSwitch(\n",
    "    EJs=None,\n",
    "    ECs=None,\n",
    "    gs=gs_opt,\n",
    "    qubit_freqs=1e-3*qubit_freqs_MHz,\n",
    "    alphas=1e-3*alphas_MHz,\n",
    "    cutoffs=[4, 5, 4, 4],\n",
    "    isCavity=[False]*4,\n",
    ")\n",
    "print('Measured ZZ matrix [MHz]')\n",
    "print(ZZshifts)\n",
    "print('Optimized ZZ matrix [MHz]')\n",
    "print(1e3*qram.get_ZZ_matrix())\n",
    "print(f'Optimization error: {ZZ_g_diff(gs_opt, 1e-3*qubit_freqs_MHz, 1e-3*alphas_MHz, 1e-3*ZZshifts)}')"
   ]
  },
  {
   "cell_type": "code",
   "execution_count": null,
   "metadata": {},
   "outputs": [],
   "source": []
  }
 ],
 "metadata": {
  "kernelspec": {
   "display_name": "Python 3.8.8 ('base')",
   "language": "python",
   "name": "python3"
  },
  "language_info": {
   "codemirror_mode": {
    "name": "ipython",
    "version": 3
   },
   "file_extension": ".py",
   "mimetype": "text/x-python",
   "name": "python",
   "nbconvert_exporter": "python",
   "pygments_lexer": "ipython3",
   "version": "3.8.8"
  },
  "orig_nbformat": 4,
  "vscode": {
   "interpreter": {
    "hash": "2c922461511010919a6549f466b17b4fd59210029bba93d8cfbc67f77787703d"
   }
  }
 },
 "nbformat": 4,
 "nbformat_minor": 2
}
