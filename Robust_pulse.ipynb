{
 "cells": [
  {
   "cell_type": "code",
   "execution_count": 1,
   "metadata": {},
   "outputs": [],
   "source": [
    "%matplotlib qt5\n",
    "# %matplotlib inline"
   ]
  },
  {
   "cell_type": "code",
   "execution_count": 2,
   "metadata": {},
   "outputs": [
    {
     "name": "stdout",
     "output_type": "stream",
     "text": [
      "Could not import QickInstrument (will only work if running on rfsoc). If running on rfsoc, try install/update qick package\n",
      "Warning failed to import AWG81180A\n",
      "Warning failed to import Tek5014\n",
      "Warning failed to import Tek70001\n",
      "Warning failed to import M8195A\n"
     ]
    }
   ],
   "source": [
    "%load_ext autoreload\n",
    "%autoreload 2\n",
    "\n",
    "import numpy as np\n",
    "import matplotlib.pyplot as plt\n",
    "from copy import deepcopy\n",
    "from scipy.optimize import curve_fit\n",
    "\n",
    "\n",
    "from qick import *\n",
    "from qick.helpers import gauss\n",
    "\n",
    "import time\n",
    "import os\n",
    "import sys\n",
    "sys.path.append('/home/xilinx/jupyter_notebooks/')\n",
    "import scipy as sp\n",
    "import json\n",
    "from scipy.fft import fft, fftfreq\n",
    "import Pyro4.util\n",
    "\n",
    "from slab.instruments import *\n",
    "from slab.experiment import Experiment\n",
    "from slab.datamanagement import SlabFile\n",
    "from slab import get_next_filename, AttrDict\n",
    "\n",
    "# Figure params\n",
    "import matplotlib as mpl\n",
    "mpl.rcParams['figure.figsize'] = [10,6]\n",
    "plt.rcParams.update({'font.size': 14})\n",
    "mpl.rcParams['figure.dpi'] = 150\n",
    "\n",
    "default_colors = plt.rcParams['axes.prop_cycle'].by_key()['color']\n",
    "linestyle_cycle=['solid', 'dashed', 'dotted', 'dashdot']\n",
    "marker_cycle = ['o', '*', 's', '^']"
   ]
  },
  {
   "cell_type": "markdown",
   "metadata": {},
   "source": [
    "# Load experiments"
   ]
  },
  {
   "cell_type": "code",
   "execution_count": 3,
   "metadata": {},
   "outputs": [
    {
     "name": "stdout",
     "output_type": "stream",
     "text": [
      "imported experiments.clifford_averager_program\n",
      "imported experiments.fitting\n",
      "imported experiments.four_qubit.fourQ_state_tomo\n",
      "imported experiments.qram_protocol_timestepped\n",
      "imported experiments.single_qubit.acstarkshift_spectroscopy\n",
      "imported experiments.single_qubit.amplitude_rabi\n",
      "imported experiments.single_qubit.length_rabi\n",
      "imported experiments.single_qubit.pulse_probe_spectroscopy\n",
      "imported experiments.single_qubit.resonator_spectroscopy\n",
      "imported experiments.single_qubit.rfsoc_tof_calibration\n",
      "imported experiments.single_qubit.single_shot\n",
      "imported experiments.single_qubit.t1\n",
      "imported experiments.single_qubit.t2_ramsey\n",
      "imported experiments.three_qubit.threeQ_state_tomo\n",
      "imported experiments.two_qubit.amplitude_rabi_EgGf\n",
      "imported experiments.two_qubit.amplitude_rabi_f0g1\n",
      "imported experiments.two_qubit.amprabi_opt_ctrl_state_prep\n",
      "imported experiments.two_qubit.crosstalk_echo_calib\n",
      "imported experiments.two_qubit.length_rabi_EgGf\n",
      "imported experiments.two_qubit.length_rabi_F0G1\n",
      "imported experiments.two_qubit.phase_calib_EgGf\n",
      "imported experiments.two_qubit.pulse_probe_EgGf_spectroscopy\n",
      "imported experiments.two_qubit.randbench\n",
      "imported experiments.two_qubit.random_test_pulses\n",
      "imported experiments.two_qubit.twoqutrit_state_tomography\n",
      "imported experiments.two_qubit.twoQ_state_tomography\n"
     ]
    }
   ],
   "source": [
    "# %aimport experiments\n",
    "# NOTE: ADDING NEW METHODS WILL NOT BE UPDATED\n",
    "import experiments as meas"
   ]
  },
  {
   "cell_type": "markdown",
   "metadata": {},
   "source": [
    "### Set save data"
   ]
  },
  {
   "cell_type": "code",
   "execution_count": 4,
   "metadata": {},
   "outputs": [],
   "source": [
    "save_data = False"
   ]
  },
  {
   "cell_type": "code",
   "execution_count": 5,
   "metadata": {},
   "outputs": [],
   "source": [
    "def prev_data(expt_path, filename=None):\n",
    "    \"\"\"Reopen saved data\"\"\"\n",
    "    temp_data_file = expt_path\n",
    "    if filename is not None: temp_data_file = os.path.join(expt_path, filename)\n",
    "    print(temp_data_file)\n",
    "    with SlabFile(temp_data_file) as a:\n",
    "        attrs = dict()\n",
    "        for key in list(a.attrs):\n",
    "            attrs.update({key:json.loads(a.attrs[key])})\n",
    "        keys = list(a)\n",
    "        temp_data = dict()\n",
    "        for key in keys:\n",
    "            temp_data.update({key:np.array(a[key])})\n",
    "        print(f'Extracted data and attrs {list(a.attrs)}')\n",
    "    return temp_data, attrs"
   ]
  },
  {
   "cell_type": "code",
   "execution_count": 6,
   "metadata": {},
   "outputs": [
    {
     "name": "stdout",
     "output_type": "stream",
     "text": [
      "Data will be stored in S:\\QRAM\\qram_4QR2\\data\\data_241025\n"
     ]
    }
   ],
   "source": [
    "data_path = 'S:\\\\QRAM\\\\qram_4QR2\\\\'\n",
    "expt_path = os.path.join(data_path, 'data', 'data_241025')\n",
    "print('Data will be stored in', expt_path)"
   ]
  },
  {
   "cell_type": "code",
   "execution_count": 7,
   "metadata": {},
   "outputs": [
    {
     "name": "stdout",
     "output_type": "stream",
     "text": [
      "Config will be s:\\Connie\\experiments\\qram_tprocv1_expts\\configs\\config_q3diamond_full688and638_reset.yml\n"
     ]
    }
   ],
   "source": [
    "config_file = 'config_q3diamond_full688and638_reset.yml'\n",
    "config_path = os.path.join('s:\\\\Connie\\\\experiments\\\\qram_tprocv1_expts\\\\configs\\\\', config_file)\n",
    "print('Config will be', config_path)"
   ]
  },
  {
   "cell_type": "markdown",
   "metadata": {},
   "source": [
    "# Load config"
   ]
  },
  {
   "cell_type": "code",
   "execution_count": 8,
   "metadata": {},
   "outputs": [],
   "source": [
    "import yaml\n",
    "with open(config_path, 'r') as cfg_file:\n",
    "    yaml_cfg = yaml.safe_load(cfg_file)\n",
    "yaml_cfg = AttrDict(yaml_cfg)"
   ]
  },
  {
   "cell_type": "markdown",
   "metadata": {},
   "source": [
    "# Setup experiment hardware\n",
    "\n",
    "Set in config:\n",
    "- LO alias, frequency, power\n",
    "- SOC dac channels, nyquist zones"
   ]
  },
  {
   "cell_type": "code",
   "execution_count": 9,
   "metadata": {},
   "outputs": [
    {
     "name": "stdout",
     "output_type": "stream",
     "text": [
      "['Pyro.NameServer', 'Qick_QRAM']\n"
     ]
    }
   ],
   "source": [
    "im = InstrumentManager(ns_address='10.108.30.75') # Spilker Fermium\n",
    "print(list(im))"
   ]
  },
  {
   "cell_type": "code",
   "execution_count": 10,
   "metadata": {},
   "outputs": [
    {
     "name": "stdout",
     "output_type": "stream",
     "text": [
      "QICK running on ZCU216, software version 0.2.272\n",
      "\n",
      "Firmware configuration (built Sat Oct  5 10:21:47 2024):\n",
      "\n",
      "\tGlobal clocks (MHz): tProcessor 430.080, RF reference 245.760\n",
      "\n",
      "\t7 signal generator channels:\n",
      "\t0:\taxis_signal_gen_v6 - envelope memory 32768 samples (5.128 us)\n",
      "\t\tfs=6389.760 MHz, fabric=399.360 MHz, 32-bit DDS, range=6389.760 MHz\n",
      "\t\tDAC tile 2, blk 0 is 0_230, on JHC3\n",
      "\t1:\taxis_signal_gen_v6 - envelope memory 32768 samples (5.128 us)\n",
      "\t\tfs=6389.760 MHz, fabric=399.360 MHz, 32-bit DDS, range=6389.760 MHz\n",
      "\t\tDAC tile 2, blk 1 is 1_230, on JHC4\n",
      "\t2:\taxis_signal_gen_v6 - envelope memory 32768 samples (5.128 us)\n",
      "\t\tfs=6389.760 MHz, fabric=399.360 MHz, 32-bit DDS, range=6389.760 MHz\n",
      "\t\tDAC tile 2, blk 2 is 2_230, on JHC3\n",
      "\t3:\taxis_signal_gen_v6 - envelope memory 32768 samples (5.128 us)\n",
      "\t\tfs=6389.760 MHz, fabric=399.360 MHz, 32-bit DDS, range=6389.760 MHz\n",
      "\t\tDAC tile 2, blk 3 is 3_230, on JHC4\n",
      "\t4:\taxis_signal_gen_v6 - envelope memory 32768 samples (4.762 us)\n",
      "\t\tfs=6881.280 MHz, fabric=430.080 MHz, 32-bit DDS, range=6881.280 MHz\n",
      "\t\tDAC tile 3, blk 0 is 0_231, on JHC3\n",
      "\t5:\taxis_signal_gen_v6 - envelope memory 32768 samples (4.762 us)\n",
      "\t\tfs=6881.280 MHz, fabric=430.080 MHz, 32-bit DDS, range=6881.280 MHz\n",
      "\t\tDAC tile 3, blk 1 is 1_231, on JHC4\n",
      "\t6:\taxis_sg_mux4_v2 - envelope memory 0 samples (0.000 us)\n",
      "\t\tfs=6881.280 MHz, fabric=430.080 MHz, 32-bit DDS, range=1720.320 MHz\n",
      "\t\tDAC tile 0, blk 0 is 0_228, on JHC1\n",
      "\n",
      "\t4 constant-IQ outputs:\n",
      "\t0:\tfs=6881.280 MHz\n",
      "\t\tDAC tile 1, blk 0 is 0_229, on JHC1\n",
      "\t1:\tfs=6881.280 MHz\n",
      "\t\tDAC tile 1, blk 1 is 1_229, on JHC2\n",
      "\t2:\tfs=6881.280 MHz\n",
      "\t\tDAC tile 1, blk 2 is 2_229, on JHC1\n",
      "\t3:\tfs=6881.280 MHz\n",
      "\t\tDAC tile 1, blk 3 is 3_229, on JHC2\n",
      "\n",
      "\t4 readout channels:\n",
      "\t0:\taxis_pfb_readout_v2 - configured by PYNQ\n",
      "\t\tfs=2457.600 MHz, decimated=307.200 MHz, 32-bit DDS, range=307.200 MHz\n",
      "\t\tmaxlen 16384 accumulated, 1024 decimated (3.333 us)\n",
      "\t\ttriggered by output 7, pin 8, feedback to tProc input 0\n",
      "\t\tADC tile 2, blk 0 is 0_226, on JHC7\n",
      "\t1:\taxis_pfb_readout_v2 - configured by PYNQ\n",
      "\t\tfs=2457.600 MHz, decimated=307.200 MHz, 32-bit DDS, range=307.200 MHz\n",
      "\t\tmaxlen 16384 accumulated, 1024 decimated (3.333 us)\n",
      "\t\ttriggered by output 7, pin 9, feedback to tProc input 1\n",
      "\t\tADC tile 2, blk 0 is 0_226, on JHC7\n",
      "\t2:\taxis_pfb_readout_v2 - configured by PYNQ\n",
      "\t\tfs=2457.600 MHz, decimated=307.200 MHz, 32-bit DDS, range=307.200 MHz\n",
      "\t\tmaxlen 16384 accumulated, 1024 decimated (3.333 us)\n",
      "\t\ttriggered by output 7, pin 10, feedback to tProc input 2\n",
      "\t\tADC tile 2, blk 0 is 0_226, on JHC7\n",
      "\t3:\taxis_pfb_readout_v2 - configured by PYNQ\n",
      "\t\tfs=2457.600 MHz, decimated=307.200 MHz, 32-bit DDS, range=307.200 MHz\n",
      "\t\tmaxlen 16384 accumulated, 1024 decimated (3.333 us)\n",
      "\t\ttriggered by output 7, pin 11, feedback to tProc input 3\n",
      "\t\tADC tile 2, blk 0 is 0_226, on JHC7\n",
      "\n",
      "\t8 digital output pins:\n",
      "\t0:\tPMOD0_0_LS\n",
      "\t1:\tPMOD0_1_LS\n",
      "\t2:\tPMOD0_2_LS\n",
      "\t3:\tPMOD0_3_LS\n",
      "\t4:\tPMOD0_4_LS\n",
      "\t5:\tPMOD0_5_LS\n",
      "\t6:\tPMOD0_6_LS\n",
      "\t7:\tPMOD0_7_LS\n",
      "\n",
      "\ttProc axis_tproc64x32_x8 (\"v1\") rev 4: program memory 16384 words, data memory 4096 words\n",
      "\t\texternal start pin: PMOD1_0_LS\n"
     ]
    }
   ],
   "source": [
    "soc = QickConfig(im[yaml_cfg['aliases']['soc']].get_cfg())\n",
    "print(soc)"
   ]
  },
  {
   "cell_type": "markdown",
   "metadata": {},
   "source": [
    "## Parameter"
   ]
  },
  {
   "cell_type": "code",
   "execution_count": 11,
   "metadata": {},
   "outputs": [],
   "source": [
    "qubit_i = 2"
   ]
  },
  {
   "cell_type": "markdown",
   "metadata": {},
   "source": [
    "# Rabi versus amplitude "
   ]
  },
  {
   "cell_type": "markdown",
   "metadata": {},
   "source": [
    "We first want to know the relationship between the gain and rabi drive strength"
   ]
  },
  {
   "cell_type": "code",
   "execution_count": 225,
   "metadata": {},
   "outputs": [
    {
     "name": "stdout",
     "output_type": "stream",
     "text": [
      "Time step is 0.0013333333333333335 us\n",
      "Time step is 0.0023251488095238095 cycles\n"
     ]
    },
    {
     "ename": "NameError",
     "evalue": "name 'gain_pts' is not defined",
     "output_type": "error",
     "traceback": [
      "\u001b[1;31m---------------------------------------------------------------------------\u001b[0m",
      "\u001b[1;31mNameError\u001b[0m                                 Traceback (most recent call last)",
      "Cell \u001b[1;32mIn[225], line 17\u001b[0m\n\u001b[0;32m     14\u001b[0m t_step \u001b[38;5;241m=\u001b[39m soc\u001b[38;5;241m.\u001b[39mcycles2us(soc\u001b[38;5;241m.\u001b[39mus2cycles(t_step))\n\u001b[0;32m     15\u001b[0m \u001b[38;5;28mprint\u001b[39m(\u001b[38;5;124mf\u001b[39m\u001b[38;5;124m'\u001b[39m\u001b[38;5;124mTime step is \u001b[39m\u001b[38;5;132;01m{\u001b[39;00mt_step\u001b[38;5;132;01m}\u001b[39;00m\u001b[38;5;124m cycles\u001b[39m\u001b[38;5;124m'\u001b[39m)\n\u001b[1;32m---> 17\u001b[0m rabi_freq_vec \u001b[38;5;241m=\u001b[39m np\u001b[38;5;241m.\u001b[39mzeros(\u001b[43mgain_pts\u001b[49m)\n\u001b[0;32m     18\u001b[0m rabi_freq_vec_err \u001b[38;5;241m=\u001b[39m np\u001b[38;5;241m.\u001b[39mzeros(gain_pts)\n\u001b[0;32m     20\u001b[0m save_data \u001b[38;5;241m=\u001b[39m \u001b[38;5;28;01mTrue\u001b[39;00m\n",
      "\u001b[1;31mNameError\u001b[0m: name 'gain_pts' is not defined"
     ]
    }
   ],
   "source": [
    "# gain_start = 100 \n",
    "# gain_stop = 1000\n",
    "# gain_pts = 5\n",
    "# gain_vec = np.linspace(gain_start, gain_stop, gain_pts)\n",
    "\n",
    "reps = 1\n",
    "rounds = 100 \n",
    "\n",
    "t_start = 0.1\n",
    "t_stop = 0.5 # us\n",
    "t_pts = 300\n",
    "t_step = (t_stop - t_start) / t_pts\n",
    "print(f'Time step is {t_step} us')\n",
    "t_step = soc.cycles2us(soc.us2cycles(t_step))\n",
    "print(f'Time step is {t_step} cycles')\n",
    "\n",
    "rabi_freq_vec = np.zeros(gain_pts)\n",
    "rabi_freq_vec_err = np.zeros(gain_pts)\n",
    "\n",
    "save_data = True"
   ]
  },
  {
   "cell_type": "code",
   "execution_count": 105,
   "metadata": {},
   "outputs": [
    {
     "ename": "NameError",
     "evalue": "name 'gain_vec' is not defined",
     "output_type": "error",
     "traceback": [
      "\u001b[1;31m---------------------------------------------------------------------------\u001b[0m",
      "\u001b[1;31mNameError\u001b[0m                                 Traceback (most recent call last)",
      "Cell \u001b[1;32mIn[105], line 7\u001b[0m\n\u001b[0;32m      1\u001b[0m RabiFreqExpt \u001b[38;5;241m=\u001b[39m Experiment(\n\u001b[0;32m      2\u001b[0m                         path\u001b[38;5;241m=\u001b[39mexpt_path,\n\u001b[0;32m      3\u001b[0m                         prefix\u001b[38;5;241m=\u001b[39m\u001b[38;5;124mf\u001b[39m\u001b[38;5;124m\"\u001b[39m\u001b[38;5;124mrabi_freq_\u001b[39m\u001b[38;5;132;01m{\u001b[39;00mqubit_i\u001b[38;5;132;01m}\u001b[39;00m\u001b[38;5;124m\"\u001b[39m,\n\u001b[0;32m      4\u001b[0m                         config_file\u001b[38;5;241m=\u001b[39mconfig_path)\n\u001b[0;32m      6\u001b[0m RabiFreqExpt\u001b[38;5;241m.\u001b[39mdata \u001b[38;5;241m=\u001b[39m \u001b[38;5;28mdict\u001b[39m(amps\u001b[38;5;241m=\u001b[39m[], times\u001b[38;5;241m=\u001b[39m[], rabi_freq \u001b[38;5;241m=\u001b[39m [], gain_pts\u001b[38;5;241m=\u001b[39m[])\n\u001b[1;32m----> 7\u001b[0m RabiFreqExpt\u001b[38;5;241m.\u001b[39mdata[\u001b[38;5;124m'\u001b[39m\u001b[38;5;124mgain_pts\u001b[39m\u001b[38;5;124m'\u001b[39m] \u001b[38;5;241m=\u001b[39m \u001b[43mgain_vec\u001b[49m\n\u001b[0;32m      9\u001b[0m time_vec \u001b[38;5;241m=\u001b[39m []\n\u001b[0;32m     10\u001b[0m amps_vec \u001b[38;5;241m=\u001b[39m []\n",
      "\u001b[1;31mNameError\u001b[0m: name 'gain_vec' is not defined"
     ]
    }
   ],
   "source": [
    "\n",
    "RabiFreqExpt = Experiment(\n",
    "                        path=expt_path,\n",
    "                        prefix=f\"rabi_freq_{qubit_i}\",\n",
    "                        config_file=config_path)\n",
    "\n",
    "RabiFreqExpt.data = dict(amps=[], times=[], rabi_freq = [], gain_pts=[])\n",
    "RabiFreqExpt.data['gain_pts'] = gain_vec\n",
    "\n",
    "time_vec = []\n",
    "amps_vec = []\n",
    "\n",
    "\n",
    "for idx_g, g in enumerate(gain_vec):\n",
    "    print(f\"Gain {g} ({idx_g+1}/{len(gain_vec)})\")\n",
    "\n",
    "    lengthrabi = meas.LengthRabiExperiment(\n",
    "        soccfg=soc,\n",
    "        path=expt_path,\n",
    "        prefix=f\"length_rabi_qubit{qubit_i}\",\n",
    "        config_file=config_path,\n",
    "    )\n",
    "    lengthrabi.cfg = AttrDict(deepcopy(yaml_cfg))\n",
    "    \n",
    "    lengthrabi.cfg.device.qubit.pulses.pi_ge.half_gain[qubit_i*5] = int(g)\n",
    "\n",
    "    lengthrabi.cfg.expt = dict(\n",
    "        start=t_start, # pulse length (sigma) [us]\n",
    "        step=t_step, # [us]\n",
    "        expts=t_pts,\n",
    "        reps=reps*rounds,\n",
    "        pulse_type='gauss',\n",
    "        checkEF=False, \n",
    "        qTest=qubit_i,\n",
    "        qZZ=None,\n",
    "    )\n",
    "\n",
    "    import Pyro4.util\n",
    "    try:\n",
    "        lengthrabi.go(analyze=False, display=False, progress=True, save=False)\n",
    "        \n",
    "    except Exception:\n",
    "        print(\"Pyro traceback:\")\n",
    "        print(\"\".join(Pyro4.util.getPyroTraceback()))\n",
    "        \n",
    "\n",
    "    amps = lengthrabi.data['amps']\n",
    "    time = lengthrabi.data['xpts']\n",
    "    # compute FFT\n",
    "    amp_fft = fft(amps)\n",
    "    freq = fftfreq(len(amps), time[1] - time[0])\n",
    "    \n",
    "    # find the peak\n",
    "    idx = np.argmax(np.abs(amp_fft[1:])) + 1\n",
    "    freq_peak = freq[idx]\n",
    "    \n",
    "\n",
    "    rabi_freq_vec[idx_g] = freq_peak/2\n",
    "\n",
    "    \n",
    "    if save_data:\n",
    "        time_vec.append(time)\n",
    "        amps_vec.append(amps)\n",
    "        \n",
    "        \n",
    "    \n"
   ]
  },
  {
   "cell_type": "code",
   "execution_count": null,
   "metadata": {},
   "outputs": [],
   "source": [
    "# fit with a linear function\n",
    "\n",
    "def linear(x, a, b):\n",
    "    return a*x + b\n",
    "\n",
    "popt, pcov = curve_fit(linear, gain_vec, rabi_freq_vec)\n",
    "\n",
    "a = popt[0]\n",
    "a_err = np.sqrt(pcov[0,0])\n",
    "b = popt[1]\n",
    "b_err = np.sqrt(pcov[1,1])\n",
    "\n",
    "\n",
    "if save_data:\n",
    "    RabiFreqExpt.data['times'] = time_vec\n",
    "    RabiFreqExpt.data['amps'] = amps_vec\n",
    "    # divide by 2 to get the Rabi frequency ( given we apply two pi/2 actually)\n",
    "    RabiFreqExpt.data['rabi_freq'] = rabi_freq_vec\n",
    "    RabiFreqExpt.data['fit'] = [a, b]\n",
    "    RabiFreqExpt.data['fit_err'] = [a_err, b_err]\n",
    "    RabiFreqExpt.save_data()"
   ]
  },
  {
   "cell_type": "code",
   "execution_count": null,
   "metadata": {},
   "outputs": [],
   "source": [
    "fig, ax = plt.subplots(figsize=(6,4))\n",
    "ax.plot(gain_vec, rabi_freq_vec, 'o-')\n",
    "ax.plot(gain_vec, linear(gain_vec, *popt), '--', color='black')\n",
    "\n",
    "text = f\"Fit: {a*1000:.2f} x/1000 + {b:.2f}\\n\"\n",
    "ax.text(0.1, 0.9, text, transform=ax.transAxes, fontsize=12, verticalalignment='top')\n",
    "\n",
    "ax.set_xlabel('Gain')\n",
    "ax.set_ylabel('Rabi frequency (MHz)')\n",
    "ax.set_title(f'Rabi frequency vs Gain for qubit {qubit_i}')\n",
    "fig.tight_layout()"
   ]
  },
  {
   "cell_type": "code",
   "execution_count": 339,
   "metadata": {},
   "outputs": [],
   "source": [
    "filename = yaml_cfg.device.qubit.pulses.pihalf_ge_robust.filename[qubit_i]\n",
    "path = os.path.join('S:\\QRAM\\qram_4QR2\\optctrl_pulses', f\"{filename}.npz\")\n",
    "nb_qb = 4\n",
    "\n",
    "\n",
    "# open the file\n",
    "scaling = 1\n",
    "\n",
    "with np.load(path) as data:\n",
    "    times = data['times']*scaling\n",
    "    I = []\n",
    "    Q = []\n",
    "    for i in range(nb_qb):\n",
    "        if 'I_'+str(i) in data:\n",
    "            I.append(data['I_'+str(i)]/1e6/scaling)\n",
    "            Q.append(data['Q_'+str(i)]/1e6/scaling)\n",
    "        else:\n",
    "            I.append(np.zeros(times.shape))\n",
    "            Q.append(np.zeros(times.shape))"
   ]
  },
  {
   "cell_type": "code",
   "execution_count": 340,
   "metadata": {},
   "outputs": [],
   "source": [
    "fig, ax = plt.subplots(figsize=(4,3))\n",
    "\n",
    "for i in range(len(I)):\n",
    "    ax.plot(times, I[i], label=f'I{i}')\n",
    "    ax.plot(times, Q[i], label=f'Q{i}')\n",
    "    \n",
    "ax.set_xlabel('Time (us)')\n",
    "ax.set_ylabel('Amplitude (MHz)')\n",
    "\n",
    "ax.legend()\n",
    "fig.tight_layout()\n",
    "    "
   ]
  },
  {
   "cell_type": "code",
   "execution_count": null,
   "metadata": {},
   "outputs": [],
   "source": [
    "# for all qubit take the maximum of the I and Q\n",
    "\n",
    "gain = np.zeros(len(I), dtype=int)\n",
    "\n",
    "for i in range(len(I)):\n",
    "    amp_I = np.max(np.abs(I[i]))\n",
    "    amp_Q = np.max(np.abs(Q[i]))\n",
    "    amp_max = np.max([amp_I, amp_Q])\n",
    "    if amp_max == 0:\n",
    "        gain[i] = 0\n",
    "    else:\n",
    "        gain_max = (amp_max - b) / a\n",
    "        # for some reason the gain we need to set is twice the value\n",
    "        gain[i] = gain_max*2\n",
    "        \n",
    "        "
   ]
  },
  {
   "cell_type": "markdown",
   "metadata": {},
   "source": [
    "# First round of error amplification to get the gain right"
   ]
  },
  {
   "cell_type": "code",
   "execution_count": 210,
   "metadata": {},
   "outputs": [
    {
     "data": {
      "application/vnd.jupyter.widget-view+json": {
       "model_id": "e58e5535a1a64befa0554b340928972e",
       "version_major": 2,
       "version_minor": 0
      },
      "text/plain": [
       "  0%|          | 0/2 [00:00<?, ?it/s]"
      ]
     },
     "metadata": {},
     "output_type": "display_data"
    },
    {
     "name": "stdout",
     "output_type": "stream",
     "text": [
      "(3, 500)\n",
      "(3, 500)\n",
      "(500,)\n",
      "(1, 500)\n",
      "(1, 500)\n",
      "(500,)\n",
      "(3, 500)\n",
      "(3, 500)\n",
      "(500,)\n",
      "(1, 500)\n",
      "(1, 500)\n",
      "(500,)\n",
      "Qubit  (1)\n",
      "g unrotated averages:\n",
      "Amps 270.18701956064064 +/- 64.4501961888381\n",
      "e unrotated averages:\n",
      "Amps 363.93986966022896 +/- 67.34874860430958\n",
      "ge fidelity (%): 54.91560312062411 \t angle (deg): 0.0 \t threshold ge: 315.3011243268603\n",
      "Prep state: g\n",
      "collecting counts\n",
      "amplicude mode True\n",
      "[3834. 1166.]\n",
      "Prep state: e\n",
      "collecting counts\n",
      "amplicude mode True\n",
      "[1107. 3893.]\n"
     ]
    },
    {
     "data": {
      "application/vnd.jupyter.widget-view+json": {
       "model_id": "880fc7a65e4a404a8050705a85ea4f2d",
       "version_major": 2,
       "version_minor": 0
      },
      "text/plain": [
       "  0%|          | 0/10 [00:00<?, ?it/s]"
      ]
     },
     "metadata": {},
     "output_type": "display_data"
    },
    {
     "name": "stdout",
     "output_type": "stream",
     "text": [
      "(3, 500)\n",
      "(3, 500)\n",
      "(500,)\n",
      "(1, 500)\n",
      "(1, 500)\n",
      "(500,)\n",
      "X_robust_half_q1 freq_MHz: 3448.3209833086257, gain: 500\n",
      "avgi 0.249\n",
      "(3, 500)\n",
      "(3, 500)\n",
      "(500,)\n",
      "(1, 500)\n",
      "(1, 500)\n",
      "(500,)\n",
      "X_robust_half_q1 freq_MHz: 3448.3209833086257, gain: 500\n",
      "avgi 0.252\n",
      "(3, 500)\n",
      "(3, 500)\n",
      "(500,)\n",
      "(1, 500)\n",
      "(1, 500)\n",
      "(500,)\n",
      "X_robust_half_q1 freq_MHz: 3448.3209833086257, gain: 500\n",
      "avgi 0.246\n",
      "(3, 500)\n",
      "(3, 500)\n",
      "(500,)\n",
      "(1, 500)\n",
      "(1, 500)\n",
      "(500,)\n",
      "X_robust_half_q1 freq_MHz: 3448.3209833086257, gain: 500\n",
      "avgi 0.279\n",
      "(3, 500)\n",
      "(3, 500)\n",
      "(500,)\n",
      "(1, 500)\n",
      "(1, 500)\n",
      "(500,)\n",
      "X_robust_half_q1 freq_MHz: 3448.3209833086257, gain: 500\n",
      "avgi 0.252\n",
      "(3, 500)\n",
      "(3, 500)\n",
      "(500,)\n",
      "(1, 500)\n",
      "(1, 500)\n",
      "(500,)\n",
      "X_robust_half_q1 freq_MHz: 3448.3209833086257, gain: 500\n",
      "avgi 0.247\n",
      "(3, 500)\n",
      "(3, 500)\n",
      "(500,)\n",
      "(1, 500)\n",
      "(1, 500)\n",
      "(500,)\n",
      "X_robust_half_q1 freq_MHz: 3448.3209833086257, gain: 500\n",
      "avgi 0.248\n",
      "(3, 500)\n",
      "(3, 500)\n",
      "(500,)\n",
      "(1, 500)\n",
      "(1, 500)\n",
      "(500,)\n",
      "X_robust_half_q1 freq_MHz: 3448.3209833086257, gain: 500\n",
      "avgi 0.251\n",
      "(3, 500)\n",
      "(3, 500)\n",
      "(500,)\n",
      "(1, 500)\n",
      "(1, 500)\n",
      "(500,)\n",
      "X_robust_half_q1 freq_MHz: 3448.3209833086257, gain: 500\n",
      "avgi 0.221\n",
      "(3, 500)\n",
      "(3, 500)\n",
      "(500,)\n",
      "(1, 500)\n",
      "(1, 500)\n",
      "(500,)\n",
      "X_robust_half_q1 freq_MHz: 3448.3209833086257, gain: 500\n",
      "avgi 0.232\n"
     ]
    },
    {
     "data": {
      "application/vnd.jupyter.widget-view+json": {
       "model_id": "98c2f475764143279583e40cdfe35f2c",
       "version_major": 2,
       "version_minor": 0
      },
      "text/plain": [
       "  0%|          | 0/2 [00:00<?, ?it/s]"
      ]
     },
     "metadata": {},
     "output_type": "display_data"
    },
    {
     "name": "stdout",
     "output_type": "stream",
     "text": [
      "(3, 500)\n",
      "(3, 500)\n",
      "(500,)\n",
      "(1, 500)\n",
      "(1, 500)\n",
      "(500,)\n",
      "(3, 500)\n",
      "(3, 500)\n",
      "(500,)\n",
      "(1, 500)\n",
      "(1, 500)\n",
      "(500,)\n",
      "Qubit  (1)\n",
      "g unrotated averages:\n",
      "Amps 268.03735521488767 +/- 63.9750185531062\n",
      "e unrotated averages:\n",
      "Amps 363.25107501525645 +/- 67.29577678835807\n",
      "ge fidelity (%): 56.099999999999994 \t angle (deg): 0.0 \t threshold ge: 310.1696066012138\n",
      "Prep state: g\n",
      "collecting counts\n",
      "amplicude mode True\n",
      "[3813. 1187.]\n",
      "Prep state: e\n",
      "collecting counts\n",
      "amplicude mode True\n",
      "[1022. 3978.]\n"
     ]
    },
    {
     "data": {
      "application/vnd.jupyter.widget-view+json": {
       "model_id": "ea676e72392848a3a900859fddd092af",
       "version_major": 2,
       "version_minor": 0
      },
      "text/plain": [
       "  0%|          | 0/10 [00:00<?, ?it/s]"
      ]
     },
     "metadata": {},
     "output_type": "display_data"
    },
    {
     "name": "stdout",
     "output_type": "stream",
     "text": [
      "(3, 500)\n",
      "(3, 500)\n",
      "(500,)\n",
      "(1, 500)\n",
      "(1, 500)\n",
      "(500,)\n",
      "X_robust_half_q1 freq_MHz: 3448.3209833086257, gain: 1000\n",
      "avgi 0.338\n",
      "(3, 500)\n",
      "(3, 500)\n",
      "(500,)\n",
      "(1, 500)\n",
      "(1, 500)\n",
      "(500,)\n",
      "X_robust_half_q1 freq_MHz: 3448.3209833086257, gain: 1000\n",
      "avgi 0.327\n",
      "(3, 500)\n",
      "(3, 500)\n",
      "(500,)\n",
      "(1, 500)\n",
      "(1, 500)\n",
      "(500,)\n",
      "X_robust_half_q1 freq_MHz: 3448.3209833086257, gain: 1000\n",
      "avgi 0.309\n",
      "(3, 500)\n",
      "(3, 500)\n",
      "(500,)\n",
      "(1, 500)\n",
      "(1, 500)\n",
      "(500,)\n",
      "X_robust_half_q1 freq_MHz: 3448.3209833086257, gain: 1000\n",
      "avgi 0.314\n",
      "(3, 500)\n",
      "(3, 500)\n",
      "(500,)\n",
      "(1, 500)\n",
      "(1, 500)\n",
      "(500,)\n",
      "X_robust_half_q1 freq_MHz: 3448.3209833086257, gain: 1000\n",
      "avgi 0.329\n",
      "(3, 500)\n",
      "(3, 500)\n",
      "(500,)\n",
      "(1, 500)\n",
      "(1, 500)\n",
      "(500,)\n",
      "X_robust_half_q1 freq_MHz: 3448.3209833086257, gain: 1000\n",
      "avgi 0.334\n",
      "(3, 500)\n",
      "(3, 500)\n",
      "(500,)\n",
      "(1, 500)\n",
      "(1, 500)\n",
      "(500,)\n",
      "X_robust_half_q1 freq_MHz: 3448.3209833086257, gain: 1000\n",
      "avgi 0.339\n",
      "(3, 500)\n",
      "(3, 500)\n",
      "(500,)\n",
      "(1, 500)\n",
      "(1, 500)\n",
      "(500,)\n",
      "X_robust_half_q1 freq_MHz: 3448.3209833086257, gain: 1000\n",
      "avgi 0.347\n",
      "(3, 500)\n",
      "(3, 500)\n",
      "(500,)\n",
      "(1, 500)\n",
      "(1, 500)\n",
      "(500,)\n",
      "X_robust_half_q1 freq_MHz: 3448.3209833086257, gain: 1000\n",
      "avgi 0.3\n",
      "(3, 500)\n",
      "(3, 500)\n",
      "(500,)\n",
      "(1, 500)\n",
      "(1, 500)\n",
      "(500,)\n",
      "X_robust_half_q1 freq_MHz: 3448.3209833086257, gain: 1000\n",
      "avgi 0.314\n"
     ]
    },
    {
     "data": {
      "application/vnd.jupyter.widget-view+json": {
       "model_id": "e99b63ae50144498a4fa8d526d4dc231",
       "version_major": 2,
       "version_minor": 0
      },
      "text/plain": [
       "  0%|          | 0/2 [00:00<?, ?it/s]"
      ]
     },
     "metadata": {},
     "output_type": "display_data"
    },
    {
     "name": "stdout",
     "output_type": "stream",
     "text": [
      "(3, 500)\n",
      "(3, 500)\n",
      "(500,)\n",
      "(1, 500)\n",
      "(1, 500)\n",
      "(500,)\n",
      "(3, 500)\n",
      "(3, 500)\n",
      "(500,)\n",
      "(1, 500)\n",
      "(1, 500)\n",
      "(500,)\n",
      "Qubit  (1)\n",
      "g unrotated averages:\n",
      "Amps 269.13663728086175 +/- 63.25108948677188\n",
      "e unrotated averages:\n",
      "Amps 365.4280956701399 +/- 68.31425367515803\n",
      "ge fidelity (%): 55.57646329265855 \t angle (deg): 0.0 \t threshold ge: 323.2373853516241\n",
      "Prep state: g\n",
      "collecting counts\n",
      "amplicude mode True\n",
      "[4042.  958.]\n",
      "Prep state: e\n",
      "collecting counts\n",
      "amplicude mode True\n",
      "[1275. 3725.]\n"
     ]
    },
    {
     "data": {
      "application/vnd.jupyter.widget-view+json": {
       "model_id": "61cbf6fb92e14f6db4be0cd4b3f96431",
       "version_major": 2,
       "version_minor": 0
      },
      "text/plain": [
       "  0%|          | 0/10 [00:00<?, ?it/s]"
      ]
     },
     "metadata": {},
     "output_type": "display_data"
    },
    {
     "name": "stdout",
     "output_type": "stream",
     "text": [
      "(3, 500)\n",
      "(3, 500)\n",
      "(500,)\n",
      "(1, 500)\n",
      "(1, 500)\n",
      "(500,)\n",
      "X_robust_half_q1 freq_MHz: 3448.3209833086257, gain: 1500\n",
      "avgi 0.389\n",
      "(3, 500)\n",
      "(3, 500)\n",
      "(500,)\n",
      "(1, 500)\n",
      "(1, 500)\n",
      "(500,)\n",
      "X_robust_half_q1 freq_MHz: 3448.3209833086257, gain: 1500\n",
      "avgi 0.358\n",
      "(3, 500)\n",
      "(3, 500)\n",
      "(500,)\n",
      "(1, 500)\n",
      "(1, 500)\n",
      "(500,)\n",
      "X_robust_half_q1 freq_MHz: 3448.3209833086257, gain: 1500\n",
      "avgi 0.335\n",
      "(3, 500)\n",
      "(3, 500)\n",
      "(500,)\n",
      "(1, 500)\n",
      "(1, 500)\n",
      "(500,)\n",
      "X_robust_half_q1 freq_MHz: 3448.3209833086257, gain: 1500\n",
      "avgi 0.313\n",
      "(3, 500)\n",
      "(3, 500)\n",
      "(500,)\n",
      "(1, 500)\n",
      "(1, 500)\n",
      "(500,)\n",
      "X_robust_half_q1 freq_MHz: 3448.3209833086257, gain: 1500\n",
      "avgi 0.32\n",
      "(3, 500)\n",
      "(3, 500)\n",
      "(500,)\n",
      "(1, 500)\n",
      "(1, 500)\n",
      "(500,)\n",
      "X_robust_half_q1 freq_MHz: 3448.3209833086257, gain: 1500\n",
      "avgi 0.369\n",
      "(3, 500)\n",
      "(3, 500)\n",
      "(500,)\n",
      "(1, 500)\n",
      "(1, 500)\n",
      "(500,)\n",
      "X_robust_half_q1 freq_MHz: 3448.3209833086257, gain: 1500\n",
      "avgi 0.361\n",
      "(3, 500)\n",
      "(3, 500)\n",
      "(500,)\n",
      "(1, 500)\n",
      "(1, 500)\n",
      "(500,)\n",
      "X_robust_half_q1 freq_MHz: 3448.3209833086257, gain: 1500\n",
      "avgi 0.363\n",
      "(3, 500)\n",
      "(3, 500)\n",
      "(500,)\n",
      "(1, 500)\n",
      "(1, 500)\n",
      "(500,)\n",
      "X_robust_half_q1 freq_MHz: 3448.3209833086257, gain: 1500\n",
      "avgi 0.369\n",
      "(3, 500)\n",
      "(3, 500)\n",
      "(500,)\n",
      "(1, 500)\n",
      "(1, 500)\n",
      "(500,)\n",
      "X_robust_half_q1 freq_MHz: 3448.3209833086257, gain: 1500\n",
      "avgi 0.376\n"
     ]
    },
    {
     "data": {
      "application/vnd.jupyter.widget-view+json": {
       "model_id": "dcd66f5edfe746c7b9d479384494f670",
       "version_major": 2,
       "version_minor": 0
      },
      "text/plain": [
       "  0%|          | 0/2 [00:00<?, ?it/s]"
      ]
     },
     "metadata": {},
     "output_type": "display_data"
    },
    {
     "name": "stdout",
     "output_type": "stream",
     "text": [
      "(3, 500)\n",
      "(3, 500)\n",
      "(500,)\n",
      "(1, 500)\n",
      "(1, 500)\n",
      "(500,)\n",
      "(3, 500)\n",
      "(3, 500)\n",
      "(500,)\n",
      "(1, 500)\n",
      "(1, 500)\n",
      "(500,)\n",
      "Qubit  (1)\n",
      "g unrotated averages:\n",
      "Amps 270.5989269973653 +/- 62.18275562366193\n",
      "e unrotated averages:\n",
      "Amps 364.3126608798036 +/- 66.10173284942213\n",
      "ge fidelity (%): 55.800000000000004 \t angle (deg): 0.0 \t threshold ge: 323.78345149755296\n",
      "Prep state: g\n",
      "collecting counts\n",
      "amplicude mode True\n",
      "[4058.  942.]\n",
      "Prep state: e\n",
      "collecting counts\n",
      "amplicude mode True\n",
      "[1276. 3724.]\n"
     ]
    },
    {
     "data": {
      "application/vnd.jupyter.widget-view+json": {
       "model_id": "cdb1715916a74ec6a47ac537f6553c10",
       "version_major": 2,
       "version_minor": 0
      },
      "text/plain": [
       "  0%|          | 0/10 [00:00<?, ?it/s]"
      ]
     },
     "metadata": {},
     "output_type": "display_data"
    },
    {
     "name": "stdout",
     "output_type": "stream",
     "text": [
      "(3, 500)\n",
      "(3, 500)\n",
      "(500,)\n",
      "(1, 500)\n",
      "(1, 500)\n",
      "(500,)\n",
      "X_robust_half_q1 freq_MHz: 3448.3209833086257, gain: 2000\n",
      "avgi 0.476\n",
      "(3, 500)\n",
      "(3, 500)\n",
      "(500,)\n",
      "(1, 500)\n",
      "(1, 500)\n",
      "(500,)\n",
      "X_robust_half_q1 freq_MHz: 3448.3209833086257, gain: 2000\n",
      "avgi 0.469\n",
      "(3, 500)\n",
      "(3, 500)\n",
      "(500,)\n",
      "(1, 500)\n",
      "(1, 500)\n",
      "(500,)\n",
      "X_robust_half_q1 freq_MHz: 3448.3209833086257, gain: 2000\n",
      "avgi 0.478\n",
      "(3, 500)\n",
      "(3, 500)\n",
      "(500,)\n",
      "(1, 500)\n",
      "(1, 500)\n",
      "(500,)\n",
      "X_robust_half_q1 freq_MHz: 3448.3209833086257, gain: 2000\n",
      "avgi 0.452\n",
      "(3, 500)\n",
      "(3, 500)\n",
      "(500,)\n",
      "(1, 500)\n",
      "(1, 500)\n",
      "(500,)\n",
      "X_robust_half_q1 freq_MHz: 3448.3209833086257, gain: 2000\n",
      "avgi 0.428\n",
      "(3, 500)\n",
      "(3, 500)\n",
      "(500,)\n",
      "(1, 500)\n",
      "(1, 500)\n",
      "(500,)\n",
      "X_robust_half_q1 freq_MHz: 3448.3209833086257, gain: 2000\n",
      "avgi 0.461\n",
      "(3, 500)\n",
      "(3, 500)\n",
      "(500,)\n",
      "(1, 500)\n",
      "(1, 500)\n",
      "(500,)\n",
      "X_robust_half_q1 freq_MHz: 3448.3209833086257, gain: 2000\n",
      "avgi 0.514\n",
      "(3, 500)\n",
      "(3, 500)\n",
      "(500,)\n",
      "(1, 500)\n",
      "(1, 500)\n",
      "(500,)\n",
      "X_robust_half_q1 freq_MHz: 3448.3209833086257, gain: 2000\n",
      "avgi 0.441\n",
      "(3, 500)\n",
      "(3, 500)\n",
      "(500,)\n",
      "(1, 500)\n",
      "(1, 500)\n",
      "(500,)\n",
      "X_robust_half_q1 freq_MHz: 3448.3209833086257, gain: 2000\n",
      "avgi 0.477\n",
      "(3, 500)\n",
      "(3, 500)\n",
      "(500,)\n",
      "(1, 500)\n",
      "(1, 500)\n",
      "(500,)\n",
      "X_robust_half_q1 freq_MHz: 3448.3209833086257, gain: 2000\n",
      "avgi 0.447\n"
     ]
    },
    {
     "data": {
      "application/vnd.jupyter.widget-view+json": {
       "model_id": "ff7594511456469e84d1040a1b8fcc73",
       "version_major": 2,
       "version_minor": 0
      },
      "text/plain": [
       "  0%|          | 0/2 [00:00<?, ?it/s]"
      ]
     },
     "metadata": {},
     "output_type": "display_data"
    },
    {
     "name": "stdout",
     "output_type": "stream",
     "text": [
      "(3, 500)\n",
      "(3, 500)\n",
      "(500,)\n",
      "(1, 500)\n",
      "(1, 500)\n",
      "(500,)\n",
      "(3, 500)\n",
      "(3, 500)\n",
      "(500,)\n",
      "(1, 500)\n",
      "(1, 500)\n",
      "(500,)\n",
      "Qubit  (1)\n",
      "g unrotated averages:\n",
      "Amps 272.6407019906653 +/- 65.28976290900118\n",
      "e unrotated averages:\n",
      "Amps 364.7437898511265 +/- 65.9006884949307\n",
      "ge fidelity (%): 53.77614722944588 \t angle (deg): 0.0 \t threshold ge: 323.2594315517277\n",
      "Prep state: g\n",
      "collecting counts\n",
      "amplicude mode True\n",
      "[3969. 1031.]\n",
      "Prep state: e\n",
      "collecting counts\n",
      "amplicude mode True\n",
      "[1285. 3715.]\n"
     ]
    },
    {
     "data": {
      "application/vnd.jupyter.widget-view+json": {
       "model_id": "864dc720124b4ab4b2eb57b322361cf1",
       "version_major": 2,
       "version_minor": 0
      },
      "text/plain": [
       "  0%|          | 0/10 [00:00<?, ?it/s]"
      ]
     },
     "metadata": {},
     "output_type": "display_data"
    },
    {
     "name": "stdout",
     "output_type": "stream",
     "text": [
      "(3, 500)\n",
      "(3, 500)\n",
      "(500,)\n",
      "(1, 500)\n",
      "(1, 500)\n",
      "(500,)\n",
      "X_robust_half_q1 freq_MHz: 3448.3209833086257, gain: 2500\n",
      "avgi 0.582\n",
      "(3, 500)\n",
      "(3, 500)\n",
      "(500,)\n",
      "(1, 500)\n",
      "(1, 500)\n",
      "(500,)\n",
      "X_robust_half_q1 freq_MHz: 3448.3209833086257, gain: 2500\n",
      "avgi 0.563\n",
      "(3, 500)\n",
      "(3, 500)\n",
      "(500,)\n",
      "(1, 500)\n",
      "(1, 500)\n",
      "(500,)\n",
      "X_robust_half_q1 freq_MHz: 3448.3209833086257, gain: 2500\n",
      "avgi 0.578\n",
      "(3, 500)\n",
      "(3, 500)\n",
      "(500,)\n",
      "(1, 500)\n",
      "(1, 500)\n",
      "(500,)\n",
      "X_robust_half_q1 freq_MHz: 3448.3209833086257, gain: 2500\n",
      "avgi 0.573\n",
      "(3, 500)\n",
      "(3, 500)\n",
      "(500,)\n",
      "(1, 500)\n",
      "(1, 500)\n",
      "(500,)\n",
      "X_robust_half_q1 freq_MHz: 3448.3209833086257, gain: 2500\n",
      "avgi 0.588\n",
      "(3, 500)\n",
      "(3, 500)\n",
      "(500,)\n",
      "(1, 500)\n",
      "(1, 500)\n",
      "(500,)\n",
      "X_robust_half_q1 freq_MHz: 3448.3209833086257, gain: 2500\n",
      "avgi 0.553\n",
      "(3, 500)\n",
      "(3, 500)\n",
      "(500,)\n",
      "(1, 500)\n",
      "(1, 500)\n",
      "(500,)\n",
      "X_robust_half_q1 freq_MHz: 3448.3209833086257, gain: 2500\n",
      "avgi 0.552\n",
      "(3, 500)\n",
      "(3, 500)\n",
      "(500,)\n",
      "(1, 500)\n",
      "(1, 500)\n",
      "(500,)\n",
      "X_robust_half_q1 freq_MHz: 3448.3209833086257, gain: 2500\n",
      "avgi 0.551\n",
      "(3, 500)\n",
      "(3, 500)\n",
      "(500,)\n",
      "(1, 500)\n",
      "(1, 500)\n",
      "(500,)\n",
      "X_robust_half_q1 freq_MHz: 3448.3209833086257, gain: 2500\n",
      "avgi 0.589\n",
      "(3, 500)\n",
      "(3, 500)\n",
      "(500,)\n",
      "(1, 500)\n",
      "(1, 500)\n",
      "(500,)\n",
      "X_robust_half_q1 freq_MHz: 3448.3209833086257, gain: 2500\n",
      "avgi 0.579\n"
     ]
    },
    {
     "data": {
      "application/vnd.jupyter.widget-view+json": {
       "model_id": "fd2c07aa7f2744ccab1818c839c4e394",
       "version_major": 2,
       "version_minor": 0
      },
      "text/plain": [
       "  0%|          | 0/2 [00:00<?, ?it/s]"
      ]
     },
     "metadata": {},
     "output_type": "display_data"
    },
    {
     "name": "stdout",
     "output_type": "stream",
     "text": [
      "(3, 500)\n",
      "(3, 500)\n",
      "(500,)\n",
      "(1, 500)\n",
      "(1, 500)\n",
      "(500,)\n",
      "(3, 500)\n",
      "(3, 500)\n",
      "(500,)\n",
      "(1, 500)\n",
      "(1, 500)\n",
      "(500,)\n",
      "Qubit  (1)\n",
      "g unrotated averages:\n",
      "Amps 267.68359038098407 +/- 62.78921211357705\n",
      "e unrotated averages:\n",
      "Amps 366.65361973313196 +/- 66.08551371577447\n",
      "ge fidelity (%): 58.03594318863773 \t angle (deg): 0.0 \t threshold ge: 314.3975581421758\n",
      "Prep state: g\n",
      "collecting counts\n",
      "amplicude mode True\n",
      "[3925. 1075.]\n",
      "Prep state: e\n",
      "collecting counts\n",
      "amplicude mode True\n",
      "[1032. 3968.]\n"
     ]
    },
    {
     "data": {
      "application/vnd.jupyter.widget-view+json": {
       "model_id": "22aeca83a6b243c8a18f2a1463b2531d",
       "version_major": 2,
       "version_minor": 0
      },
      "text/plain": [
       "  0%|          | 0/10 [00:00<?, ?it/s]"
      ]
     },
     "metadata": {},
     "output_type": "display_data"
    },
    {
     "name": "stdout",
     "output_type": "stream",
     "text": [
      "(3, 500)\n",
      "(3, 500)\n",
      "(500,)\n",
      "(1, 500)\n",
      "(1, 500)\n",
      "(500,)\n",
      "X_robust_half_q1 freq_MHz: 3448.3209833086257, gain: 3000\n",
      "avgi 0.689\n",
      "(3, 500)\n",
      "(3, 500)\n",
      "(500,)\n",
      "(1, 500)\n",
      "(1, 500)\n",
      "(500,)\n",
      "X_robust_half_q1 freq_MHz: 3448.3209833086257, gain: 3000\n",
      "avgi 0.721\n",
      "(3, 500)\n",
      "(3, 500)\n",
      "(500,)\n",
      "(1, 500)\n",
      "(1, 500)\n",
      "(500,)\n",
      "X_robust_half_q1 freq_MHz: 3448.3209833086257, gain: 3000\n",
      "avgi 0.719\n",
      "(3, 500)\n",
      "(3, 500)\n",
      "(500,)\n",
      "(1, 500)\n",
      "(1, 500)\n",
      "(500,)\n",
      "X_robust_half_q1 freq_MHz: 3448.3209833086257, gain: 3000\n",
      "avgi 0.682\n",
      "(3, 500)\n",
      "(3, 500)\n",
      "(500,)\n",
      "(1, 500)\n",
      "(1, 500)\n",
      "(500,)\n",
      "X_robust_half_q1 freq_MHz: 3448.3209833086257, gain: 3000\n",
      "avgi 0.689\n",
      "(3, 500)\n",
      "(3, 500)\n",
      "(500,)\n",
      "(1, 500)\n",
      "(1, 500)\n",
      "(500,)\n",
      "X_robust_half_q1 freq_MHz: 3448.3209833086257, gain: 3000\n",
      "avgi 0.69\n",
      "(3, 500)\n",
      "(3, 500)\n",
      "(500,)\n",
      "(1, 500)\n",
      "(1, 500)\n",
      "(500,)\n",
      "X_robust_half_q1 freq_MHz: 3448.3209833086257, gain: 3000\n",
      "avgi 0.739\n",
      "(3, 500)\n",
      "(3, 500)\n",
      "(500,)\n",
      "(1, 500)\n",
      "(1, 500)\n",
      "(500,)\n",
      "X_robust_half_q1 freq_MHz: 3448.3209833086257, gain: 3000\n",
      "avgi 0.716\n",
      "(3, 500)\n",
      "(3, 500)\n",
      "(500,)\n",
      "(1, 500)\n",
      "(1, 500)\n",
      "(500,)\n",
      "X_robust_half_q1 freq_MHz: 3448.3209833086257, gain: 3000\n",
      "avgi 0.706\n",
      "(3, 500)\n",
      "(3, 500)\n",
      "(500,)\n",
      "(1, 500)\n",
      "(1, 500)\n",
      "(500,)\n",
      "X_robust_half_q1 freq_MHz: 3448.3209833086257, gain: 3000\n",
      "avgi 0.722\n"
     ]
    },
    {
     "data": {
      "application/vnd.jupyter.widget-view+json": {
       "model_id": "408ff6cd0bc04037b192d6febb74af67",
       "version_major": 2,
       "version_minor": 0
      },
      "text/plain": [
       "  0%|          | 0/2 [00:00<?, ?it/s]"
      ]
     },
     "metadata": {},
     "output_type": "display_data"
    },
    {
     "name": "stdout",
     "output_type": "stream",
     "text": [
      "(3, 500)\n",
      "(3, 500)\n",
      "(500,)\n",
      "(1, 500)\n",
      "(1, 500)\n",
      "(500,)\n",
      "(3, 500)\n",
      "(3, 500)\n",
      "(500,)\n",
      "(1, 500)\n",
      "(1, 500)\n",
      "(500,)\n",
      "Qubit  (1)\n",
      "g unrotated averages:\n",
      "Amps 272.1582713805333 +/- 62.87159747200311\n",
      "e unrotated averages:\n",
      "Amps 362.131016307457 +/- 66.54548992006718\n",
      "ge fidelity (%): 53.93999999999999 \t angle (deg): 0.0 \t threshold ge: 321.23601359420286\n",
      "Prep state: g\n",
      "collecting counts\n",
      "amplicude mode True\n",
      "[3948. 1052.]\n",
      "Prep state: e\n",
      "collecting counts\n",
      "amplicude mode True\n",
      "[1270. 3730.]\n"
     ]
    },
    {
     "data": {
      "application/vnd.jupyter.widget-view+json": {
       "model_id": "42a9ea75e8e0463ab602825f79f1d4de",
       "version_major": 2,
       "version_minor": 0
      },
      "text/plain": [
       "  0%|          | 0/10 [00:00<?, ?it/s]"
      ]
     },
     "metadata": {},
     "output_type": "display_data"
    },
    {
     "name": "stdout",
     "output_type": "stream",
     "text": [
      "(3, 500)\n",
      "(3, 500)\n",
      "(500,)\n",
      "(1, 500)\n",
      "(1, 500)\n",
      "(500,)\n",
      "X_robust_half_q1 freq_MHz: 3448.3209833086257, gain: 3500\n",
      "avgi 0.77\n",
      "(3, 500)\n",
      "(3, 500)\n",
      "(500,)\n",
      "(1, 500)\n",
      "(1, 500)\n",
      "(500,)\n",
      "X_robust_half_q1 freq_MHz: 3448.3209833086257, gain: 3500\n",
      "avgi 0.658\n",
      "(3, 500)\n",
      "(3, 500)\n",
      "(500,)\n",
      "(1, 500)\n",
      "(1, 500)\n",
      "(500,)\n",
      "X_robust_half_q1 freq_MHz: 3448.3209833086257, gain: 3500\n",
      "avgi 0.692\n",
      "(3, 500)\n",
      "(3, 500)\n",
      "(500,)\n",
      "(1, 500)\n",
      "(1, 500)\n",
      "(500,)\n",
      "X_robust_half_q1 freq_MHz: 3448.3209833086257, gain: 3500\n",
      "avgi 0.689\n",
      "(3, 500)\n",
      "(3, 500)\n",
      "(500,)\n",
      "(1, 500)\n",
      "(1, 500)\n",
      "(500,)\n",
      "X_robust_half_q1 freq_MHz: 3448.3209833086257, gain: 3500\n",
      "avgi 0.726\n",
      "(3, 500)\n",
      "(3, 500)\n",
      "(500,)\n",
      "(1, 500)\n",
      "(1, 500)\n",
      "(500,)\n",
      "X_robust_half_q1 freq_MHz: 3448.3209833086257, gain: 3500\n",
      "avgi 0.741\n",
      "(3, 500)\n",
      "(3, 500)\n",
      "(500,)\n",
      "(1, 500)\n",
      "(1, 500)\n",
      "(500,)\n",
      "X_robust_half_q1 freq_MHz: 3448.3209833086257, gain: 3500\n",
      "avgi 0.751\n",
      "(3, 500)\n",
      "(3, 500)\n",
      "(500,)\n",
      "(1, 500)\n",
      "(1, 500)\n",
      "(500,)\n",
      "X_robust_half_q1 freq_MHz: 3448.3209833086257, gain: 3500\n",
      "avgi 0.696\n",
      "(3, 500)\n",
      "(3, 500)\n",
      "(500,)\n",
      "(1, 500)\n",
      "(1, 500)\n",
      "(500,)\n",
      "X_robust_half_q1 freq_MHz: 3448.3209833086257, gain: 3500\n",
      "avgi 0.763\n",
      "(3, 500)\n",
      "(3, 500)\n",
      "(500,)\n",
      "(1, 500)\n",
      "(1, 500)\n",
      "(500,)\n",
      "X_robust_half_q1 freq_MHz: 3448.3209833086257, gain: 3500\n",
      "avgi 0.728\n"
     ]
    },
    {
     "data": {
      "application/vnd.jupyter.widget-view+json": {
       "model_id": "2b98c2e6710447a7b59f5f996a10467a",
       "version_major": 2,
       "version_minor": 0
      },
      "text/plain": [
       "  0%|          | 0/2 [00:00<?, ?it/s]"
      ]
     },
     "metadata": {},
     "output_type": "display_data"
    },
    {
     "name": "stdout",
     "output_type": "stream",
     "text": [
      "(3, 500)\n",
      "(3, 500)\n",
      "(500,)\n",
      "(1, 500)\n",
      "(1, 500)\n",
      "(500,)\n",
      "(3, 500)\n",
      "(3, 500)\n",
      "(500,)\n",
      "(1, 500)\n",
      "(1, 500)\n",
      "(500,)\n",
      "Qubit  (1)\n",
      "g unrotated averages:\n",
      "Amps 260.9302467696535 +/- 64.81584403282285\n",
      "e unrotated averages:\n",
      "Amps 360.9104551842485 +/- 67.09514662259186\n",
      "ge fidelity (%): 57.2 \t angle (deg): 0.0 \t threshold ge: 309.31171263161485\n",
      "Prep state: g\n",
      "collecting counts\n",
      "amplicude mode True\n",
      "[3901. 1099.]\n",
      "Prep state: e\n",
      "collecting counts\n",
      "amplicude mode True\n",
      "[1048. 3952.]\n"
     ]
    },
    {
     "data": {
      "application/vnd.jupyter.widget-view+json": {
       "model_id": "a14309d4d15b4ffebb5463d35a6769e3",
       "version_major": 2,
       "version_minor": 0
      },
      "text/plain": [
       "  0%|          | 0/10 [00:00<?, ?it/s]"
      ]
     },
     "metadata": {},
     "output_type": "display_data"
    },
    {
     "name": "stdout",
     "output_type": "stream",
     "text": [
      "(3, 500)\n",
      "(3, 500)\n",
      "(500,)\n",
      "(1, 500)\n",
      "(1, 500)\n",
      "(500,)\n",
      "X_robust_half_q1 freq_MHz: 3448.3209833086257, gain: 3999\n",
      "avgi 0.838\n",
      "(3, 500)\n",
      "(3, 500)\n",
      "(500,)\n",
      "(1, 500)\n",
      "(1, 500)\n",
      "(500,)\n",
      "X_robust_half_q1 freq_MHz: 3448.3209833086257, gain: 3999\n",
      "avgi 0.83\n",
      "(3, 500)\n",
      "(3, 500)\n",
      "(500,)\n",
      "(1, 500)\n",
      "(1, 500)\n",
      "(500,)\n",
      "X_robust_half_q1 freq_MHz: 3448.3209833086257, gain: 3999\n",
      "avgi 0.802\n",
      "(3, 500)\n",
      "(3, 500)\n",
      "(500,)\n",
      "(1, 500)\n",
      "(1, 500)\n",
      "(500,)\n",
      "X_robust_half_q1 freq_MHz: 3448.3209833086257, gain: 3999\n",
      "avgi 0.814\n",
      "(3, 500)\n",
      "(3, 500)\n",
      "(500,)\n",
      "(1, 500)\n",
      "(1, 500)\n",
      "(500,)\n",
      "X_robust_half_q1 freq_MHz: 3448.3209833086257, gain: 3999\n",
      "avgi 0.784\n",
      "(3, 500)\n",
      "(3, 500)\n",
      "(500,)\n",
      "(1, 500)\n",
      "(1, 500)\n",
      "(500,)\n",
      "X_robust_half_q1 freq_MHz: 3448.3209833086257, gain: 3999\n",
      "avgi 0.823\n",
      "(3, 500)\n",
      "(3, 500)\n",
      "(500,)\n",
      "(1, 500)\n",
      "(1, 500)\n",
      "(500,)\n",
      "X_robust_half_q1 freq_MHz: 3448.3209833086257, gain: 3999\n",
      "avgi 0.811\n",
      "(3, 500)\n",
      "(3, 500)\n",
      "(500,)\n",
      "(1, 500)\n",
      "(1, 500)\n",
      "(500,)\n",
      "X_robust_half_q1 freq_MHz: 3448.3209833086257, gain: 3999\n",
      "avgi 0.819\n",
      "(3, 500)\n",
      "(3, 500)\n",
      "(500,)\n",
      "(1, 500)\n",
      "(1, 500)\n",
      "(500,)\n",
      "X_robust_half_q1 freq_MHz: 3448.3209833086257, gain: 3999\n",
      "avgi 0.805\n",
      "(3, 500)\n",
      "(3, 500)\n",
      "(500,)\n",
      "(1, 500)\n",
      "(1, 500)\n",
      "(500,)\n",
      "X_robust_half_q1 freq_MHz: 3448.3209833086257, gain: 3999\n",
      "avgi 0.831\n"
     ]
    },
    {
     "data": {
      "application/vnd.jupyter.widget-view+json": {
       "model_id": "e4e9d8f2e7144343aa19392d0d7bf3c0",
       "version_major": 2,
       "version_minor": 0
      },
      "text/plain": [
       "  0%|          | 0/2 [00:00<?, ?it/s]"
      ]
     },
     "metadata": {},
     "output_type": "display_data"
    },
    {
     "name": "stdout",
     "output_type": "stream",
     "text": [
      "(3, 500)\n",
      "(3, 500)\n",
      "(500,)\n",
      "(1, 500)\n",
      "(1, 500)\n",
      "(500,)\n",
      "(3, 500)\n",
      "(3, 500)\n",
      "(500,)\n",
      "(1, 500)\n",
      "(1, 500)\n",
      "(500,)\n",
      "Qubit  (1)\n",
      "g unrotated averages:\n",
      "Amps 271.5323221020482 +/- 64.05647418275161\n",
      "e unrotated averages:\n",
      "Amps 362.9556750527251 +/- 67.5660984961078\n",
      "ge fidelity (%): 53.66000000000003 \t angle (deg): 0.0 \t threshold ge: 315.19968641379876\n",
      "Prep state: g\n",
      "collecting counts\n",
      "amplicude mode True\n",
      "[3810. 1190.]\n",
      "Prep state: e\n",
      "collecting counts\n",
      "amplicude mode True\n",
      "[1139. 3861.]\n"
     ]
    },
    {
     "data": {
      "application/vnd.jupyter.widget-view+json": {
       "model_id": "ace321d629344b55b9a8cbb2c6cd8981",
       "version_major": 2,
       "version_minor": 0
      },
      "text/plain": [
       "  0%|          | 0/10 [00:00<?, ?it/s]"
      ]
     },
     "metadata": {},
     "output_type": "display_data"
    },
    {
     "name": "stdout",
     "output_type": "stream",
     "text": [
      "(3, 500)\n",
      "(3, 500)\n",
      "(500,)\n",
      "(1, 500)\n",
      "(1, 500)\n",
      "(500,)\n",
      "X_robust_half_q1 freq_MHz: 3448.3209833086257, gain: 4500\n",
      "avgi 0.753\n",
      "(3, 500)\n",
      "(3, 500)\n",
      "(500,)\n",
      "(1, 500)\n",
      "(1, 500)\n",
      "(500,)\n",
      "X_robust_half_q1 freq_MHz: 3448.3209833086257, gain: 4500\n",
      "avgi 0.797\n",
      "(3, 500)\n",
      "(3, 500)\n",
      "(500,)\n",
      "(1, 500)\n",
      "(1, 500)\n",
      "(500,)\n",
      "X_robust_half_q1 freq_MHz: 3448.3209833086257, gain: 4500\n",
      "avgi 0.777\n",
      "(3, 500)\n",
      "(3, 500)\n",
      "(500,)\n",
      "(1, 500)\n",
      "(1, 500)\n",
      "(500,)\n",
      "X_robust_half_q1 freq_MHz: 3448.3209833086257, gain: 4500\n",
      "avgi 0.737\n",
      "(3, 500)\n",
      "(3, 500)\n",
      "(500,)\n",
      "(1, 500)\n",
      "(1, 500)\n",
      "(500,)\n",
      "X_robust_half_q1 freq_MHz: 3448.3209833086257, gain: 4500\n",
      "avgi 0.732\n",
      "(3, 500)\n",
      "(3, 500)\n",
      "(500,)\n",
      "(1, 500)\n",
      "(1, 500)\n",
      "(500,)\n",
      "X_robust_half_q1 freq_MHz: 3448.3209833086257, gain: 4500\n",
      "avgi 0.787\n",
      "(3, 500)\n",
      "(3, 500)\n",
      "(500,)\n",
      "(1, 500)\n",
      "(1, 500)\n",
      "(500,)\n",
      "X_robust_half_q1 freq_MHz: 3448.3209833086257, gain: 4500\n",
      "avgi 0.802\n",
      "(3, 500)\n",
      "(3, 500)\n",
      "(500,)\n",
      "(1, 500)\n",
      "(1, 500)\n",
      "(500,)\n",
      "X_robust_half_q1 freq_MHz: 3448.3209833086257, gain: 4500\n",
      "avgi 0.784\n",
      "(3, 500)\n",
      "(3, 500)\n",
      "(500,)\n",
      "(1, 500)\n",
      "(1, 500)\n",
      "(500,)\n",
      "X_robust_half_q1 freq_MHz: 3448.3209833086257, gain: 4500\n",
      "avgi 0.779\n",
      "(3, 500)\n",
      "(3, 500)\n",
      "(500,)\n",
      "(1, 500)\n",
      "(1, 500)\n",
      "(500,)\n",
      "X_robust_half_q1 freq_MHz: 3448.3209833086257, gain: 4500\n",
      "avgi 0.769\n"
     ]
    },
    {
     "data": {
      "application/vnd.jupyter.widget-view+json": {
       "model_id": "cf0e059944a34e69a7d216679f3f3748",
       "version_major": 2,
       "version_minor": 0
      },
      "text/plain": [
       "  0%|          | 0/2 [00:00<?, ?it/s]"
      ]
     },
     "metadata": {},
     "output_type": "display_data"
    },
    {
     "name": "stdout",
     "output_type": "stream",
     "text": [
      "(3, 500)\n",
      "(3, 500)\n",
      "(500,)\n",
      "(1, 500)\n",
      "(1, 500)\n",
      "(500,)\n",
      "(3, 500)\n",
      "(3, 500)\n",
      "(500,)\n",
      "(1, 500)\n",
      "(1, 500)\n",
      "(500,)\n",
      "Qubit  (1)\n",
      "g unrotated averages:\n",
      "Amps 266.94557381186524 +/- 63.41561183871156\n",
      "e unrotated averages:\n",
      "Amps 362.3913143680005 +/- 67.40606557908777\n",
      "ge fidelity (%): 55.3558471694339 \t angle (deg): 0.0 \t threshold ge: 313.492316886711\n",
      "Prep state: g\n",
      "collecting counts\n",
      "amplicude mode True\n",
      "[3891. 1109.]\n",
      "Prep state: e\n",
      "collecting counts\n",
      "amplicude mode True\n",
      "[1131. 3869.]\n"
     ]
    },
    {
     "data": {
      "application/vnd.jupyter.widget-view+json": {
       "model_id": "386a681fcc5b445cbe17fa2c9745c96a",
       "version_major": 2,
       "version_minor": 0
      },
      "text/plain": [
       "  0%|          | 0/10 [00:00<?, ?it/s]"
      ]
     },
     "metadata": {},
     "output_type": "display_data"
    },
    {
     "name": "stdout",
     "output_type": "stream",
     "text": [
      "(3, 500)\n",
      "(3, 500)\n",
      "(500,)\n",
      "(1, 500)\n",
      "(1, 500)\n",
      "(500,)\n",
      "X_robust_half_q1 freq_MHz: 3448.3209833086257, gain: 4999\n",
      "avgi 0.731\n",
      "(3, 500)\n",
      "(3, 500)\n",
      "(500,)\n",
      "(1, 500)\n",
      "(1, 500)\n",
      "(500,)\n",
      "X_robust_half_q1 freq_MHz: 3448.3209833086257, gain: 4999\n",
      "avgi 0.743\n",
      "(3, 500)\n",
      "(3, 500)\n",
      "(500,)\n",
      "(1, 500)\n",
      "(1, 500)\n",
      "(500,)\n",
      "X_robust_half_q1 freq_MHz: 3448.3209833086257, gain: 4999\n",
      "avgi 0.711\n",
      "(3, 500)\n",
      "(3, 500)\n",
      "(500,)\n",
      "(1, 500)\n",
      "(1, 500)\n",
      "(500,)\n",
      "X_robust_half_q1 freq_MHz: 3448.3209833086257, gain: 4999\n",
      "avgi 0.754\n",
      "(3, 500)\n",
      "(3, 500)\n",
      "(500,)\n",
      "(1, 500)\n",
      "(1, 500)\n",
      "(500,)\n",
      "X_robust_half_q1 freq_MHz: 3448.3209833086257, gain: 4999\n",
      "avgi 0.744\n",
      "(3, 500)\n",
      "(3, 500)\n",
      "(500,)\n",
      "(1, 500)\n",
      "(1, 500)\n",
      "(500,)\n",
      "X_robust_half_q1 freq_MHz: 3448.3209833086257, gain: 4999\n",
      "avgi 0.756\n",
      "(3, 500)\n",
      "(3, 500)\n",
      "(500,)\n",
      "(1, 500)\n",
      "(1, 500)\n",
      "(500,)\n",
      "X_robust_half_q1 freq_MHz: 3448.3209833086257, gain: 4999\n",
      "avgi 0.722\n",
      "(3, 500)\n",
      "(3, 500)\n",
      "(500,)\n",
      "(1, 500)\n",
      "(1, 500)\n",
      "(500,)\n",
      "X_robust_half_q1 freq_MHz: 3448.3209833086257, gain: 4999\n",
      "avgi 0.765\n",
      "(3, 500)\n",
      "(3, 500)\n",
      "(500,)\n",
      "(1, 500)\n",
      "(1, 500)\n",
      "(500,)\n",
      "X_robust_half_q1 freq_MHz: 3448.3209833086257, gain: 4999\n",
      "avgi 0.751\n",
      "(3, 500)\n",
      "(3, 500)\n",
      "(500,)\n",
      "(1, 500)\n",
      "(1, 500)\n",
      "(500,)\n",
      "X_robust_half_q1 freq_MHz: 3448.3209833086257, gain: 4999\n",
      "avgi 0.761\n"
     ]
    },
    {
     "data": {
      "application/vnd.jupyter.widget-view+json": {
       "model_id": "913720b937b149e19078337566c2a8fc",
       "version_major": 2,
       "version_minor": 0
      },
      "text/plain": [
       "  0%|          | 0/2 [00:00<?, ?it/s]"
      ]
     },
     "metadata": {},
     "output_type": "display_data"
    },
    {
     "name": "stdout",
     "output_type": "stream",
     "text": [
      "(3, 500)\n",
      "(3, 500)\n",
      "(500,)\n",
      "(1, 500)\n",
      "(1, 500)\n",
      "(500,)\n",
      "(3, 500)\n",
      "(3, 500)\n",
      "(500,)\n",
      "(1, 500)\n",
      "(1, 500)\n",
      "(500,)\n",
      "Qubit  (1)\n",
      "g unrotated averages:\n",
      "Amps 271.64625843988034 +/- 62.75162212224514\n",
      "e unrotated averages:\n",
      "Amps 360.86349602454277 +/- 66.34740596826111\n",
      "ge fidelity (%): 54.09999999999995 \t angle (deg): 0.0 \t threshold ge: 320.6211075460551\n",
      "Prep state: g\n",
      "collecting counts\n",
      "amplicude mode True\n",
      "[3982. 1018.]\n",
      "Prep state: e\n",
      "collecting counts\n",
      "amplicude mode True\n",
      "[1283. 3717.]\n"
     ]
    },
    {
     "data": {
      "application/vnd.jupyter.widget-view+json": {
       "model_id": "5eb23481f4af4ab1a9742af45dd0d070",
       "version_major": 2,
       "version_minor": 0
      },
      "text/plain": [
       "  0%|          | 0/10 [00:00<?, ?it/s]"
      ]
     },
     "metadata": {},
     "output_type": "display_data"
    },
    {
     "name": "stdout",
     "output_type": "stream",
     "text": [
      "(3, 500)\n",
      "(3, 500)\n",
      "(500,)\n",
      "(1, 500)\n",
      "(1, 500)\n",
      "(500,)\n",
      "X_robust_half_q1 freq_MHz: 3448.3209833086257, gain: 5499\n",
      "avgi 0.616\n",
      "(3, 500)\n",
      "(3, 500)\n",
      "(500,)\n",
      "(1, 500)\n",
      "(1, 500)\n",
      "(500,)\n",
      "X_robust_half_q1 freq_MHz: 3448.3209833086257, gain: 5499\n",
      "avgi 0.615\n",
      "(3, 500)\n",
      "(3, 500)\n",
      "(500,)\n",
      "(1, 500)\n",
      "(1, 500)\n",
      "(500,)\n",
      "X_robust_half_q1 freq_MHz: 3448.3209833086257, gain: 5499\n",
      "avgi 0.652\n",
      "(3, 500)\n",
      "(3, 500)\n",
      "(500,)\n",
      "(1, 500)\n",
      "(1, 500)\n",
      "(500,)\n",
      "X_robust_half_q1 freq_MHz: 3448.3209833086257, gain: 5499\n",
      "avgi 0.645\n",
      "(3, 500)\n",
      "(3, 500)\n",
      "(500,)\n",
      "(1, 500)\n",
      "(1, 500)\n",
      "(500,)\n",
      "X_robust_half_q1 freq_MHz: 3448.3209833086257, gain: 5499\n",
      "avgi 0.633\n",
      "(3, 500)\n",
      "(3, 500)\n",
      "(500,)\n",
      "(1, 500)\n",
      "(1, 500)\n",
      "(500,)\n",
      "X_robust_half_q1 freq_MHz: 3448.3209833086257, gain: 5499\n",
      "avgi 0.628\n",
      "(3, 500)\n",
      "(3, 500)\n",
      "(500,)\n",
      "(1, 500)\n",
      "(1, 500)\n",
      "(500,)\n",
      "X_robust_half_q1 freq_MHz: 3448.3209833086257, gain: 5499\n",
      "avgi 0.59\n",
      "(3, 500)\n",
      "(3, 500)\n",
      "(500,)\n",
      "(1, 500)\n",
      "(1, 500)\n",
      "(500,)\n",
      "X_robust_half_q1 freq_MHz: 3448.3209833086257, gain: 5499\n",
      "avgi 0.659\n",
      "(3, 500)\n",
      "(3, 500)\n",
      "(500,)\n",
      "(1, 500)\n",
      "(1, 500)\n",
      "(500,)\n",
      "X_robust_half_q1 freq_MHz: 3448.3209833086257, gain: 5499\n",
      "avgi 0.64\n",
      "(3, 500)\n",
      "(3, 500)\n",
      "(500,)\n",
      "(1, 500)\n",
      "(1, 500)\n",
      "(500,)\n",
      "X_robust_half_q1 freq_MHz: 3448.3209833086257, gain: 5499\n",
      "avgi 0.666\n"
     ]
    },
    {
     "data": {
      "application/vnd.jupyter.widget-view+json": {
       "model_id": "562c5f4de3fe4b8d99683130c730a4f1",
       "version_major": 2,
       "version_minor": 0
      },
      "text/plain": [
       "  0%|          | 0/2 [00:00<?, ?it/s]"
      ]
     },
     "metadata": {},
     "output_type": "display_data"
    },
    {
     "name": "stdout",
     "output_type": "stream",
     "text": [
      "(3, 500)\n",
      "(3, 500)\n",
      "(500,)\n",
      "(1, 500)\n",
      "(1, 500)\n",
      "(500,)\n",
      "(3, 500)\n",
      "(3, 500)\n",
      "(500,)\n",
      "(1, 500)\n",
      "(1, 500)\n",
      "(500,)\n",
      "Qubit  (1)\n",
      "g unrotated averages:\n",
      "Amps 270.9938777495426 +/- 62.68443675186691\n",
      "e unrotated averages:\n",
      "Amps 364.4329594898436 +/- 67.5199889532213\n",
      "ge fidelity (%): 55.699999999999974 \t angle (deg): 0.0 \t threshold ge: 321.2401766258522\n",
      "Prep state: g\n",
      "collecting counts\n",
      "amplicude mode True\n",
      "[4018.  982.]\n",
      "Prep state: e\n",
      "collecting counts\n",
      "amplicude mode True\n",
      "[1242. 3758.]\n"
     ]
    },
    {
     "data": {
      "application/vnd.jupyter.widget-view+json": {
       "model_id": "214e7318d1794f25bdc9d19c79729eef",
       "version_major": 2,
       "version_minor": 0
      },
      "text/plain": [
       "  0%|          | 0/10 [00:00<?, ?it/s]"
      ]
     },
     "metadata": {},
     "output_type": "display_data"
    },
    {
     "name": "stdout",
     "output_type": "stream",
     "text": [
      "(3, 500)\n",
      "(3, 500)\n",
      "(500,)\n",
      "(1, 500)\n",
      "(1, 500)\n",
      "(500,)\n",
      "X_robust_half_q1 freq_MHz: 3448.3209833086257, gain: 6000\n",
      "avgi 0.53\n",
      "(3, 500)\n",
      "(3, 500)\n",
      "(500,)\n",
      "(1, 500)\n",
      "(1, 500)\n",
      "(500,)\n",
      "X_robust_half_q1 freq_MHz: 3448.3209833086257, gain: 6000\n",
      "avgi 0.516\n",
      "(3, 500)\n",
      "(3, 500)\n",
      "(500,)\n",
      "(1, 500)\n",
      "(1, 500)\n",
      "(500,)\n",
      "X_robust_half_q1 freq_MHz: 3448.3209833086257, gain: 6000\n",
      "avgi 0.573\n",
      "(3, 500)\n",
      "(3, 500)\n",
      "(500,)\n",
      "(1, 500)\n",
      "(1, 500)\n",
      "(500,)\n",
      "X_robust_half_q1 freq_MHz: 3448.3209833086257, gain: 6000\n",
      "avgi 0.561\n",
      "(3, 500)\n",
      "(3, 500)\n",
      "(500,)\n",
      "(1, 500)\n",
      "(1, 500)\n",
      "(500,)\n",
      "X_robust_half_q1 freq_MHz: 3448.3209833086257, gain: 6000\n",
      "avgi 0.574\n",
      "(3, 500)\n",
      "(3, 500)\n",
      "(500,)\n",
      "(1, 500)\n",
      "(1, 500)\n",
      "(500,)\n",
      "X_robust_half_q1 freq_MHz: 3448.3209833086257, gain: 6000\n",
      "avgi 0.535\n",
      "(3, 500)\n",
      "(3, 500)\n",
      "(500,)\n",
      "(1, 500)\n",
      "(1, 500)\n",
      "(500,)\n",
      "X_robust_half_q1 freq_MHz: 3448.3209833086257, gain: 6000\n",
      "avgi 0.545\n",
      "(3, 500)\n",
      "(3, 500)\n",
      "(500,)\n",
      "(1, 500)\n",
      "(1, 500)\n",
      "(500,)\n",
      "X_robust_half_q1 freq_MHz: 3448.3209833086257, gain: 6000\n",
      "avgi 0.505\n",
      "(3, 500)\n",
      "(3, 500)\n",
      "(500,)\n",
      "(1, 500)\n",
      "(1, 500)\n",
      "(500,)\n",
      "X_robust_half_q1 freq_MHz: 3448.3209833086257, gain: 6000\n",
      "avgi 0.48\n",
      "(3, 500)\n",
      "(3, 500)\n",
      "(500,)\n",
      "(1, 500)\n",
      "(1, 500)\n",
      "(500,)\n",
      "X_robust_half_q1 freq_MHz: 3448.3209833086257, gain: 6000\n",
      "avgi 0.492\n"
     ]
    },
    {
     "data": {
      "application/vnd.jupyter.widget-view+json": {
       "model_id": "f843de9f35e0423489025c9653bc9cf9",
       "version_major": 2,
       "version_minor": 0
      },
      "text/plain": [
       "  0%|          | 0/2 [00:00<?, ?it/s]"
      ]
     },
     "metadata": {},
     "output_type": "display_data"
    },
    {
     "name": "stdout",
     "output_type": "stream",
     "text": [
      "(3, 500)\n",
      "(3, 500)\n",
      "(500,)\n",
      "(1, 500)\n",
      "(1, 500)\n",
      "(500,)\n",
      "(3, 500)\n",
      "(3, 500)\n",
      "(500,)\n",
      "(1, 500)\n",
      "(1, 500)\n",
      "(500,)\n",
      "Qubit  (1)\n",
      "g unrotated averages:\n",
      "Amps 266.0249099304067 +/- 63.40981911219407\n",
      "e unrotated averages:\n",
      "Amps 363.88250022034606 +/- 66.28560018095486\n",
      "ge fidelity (%): 57.55548309661931 \t angle (deg): 0.0 \t threshold ge: 307.3105535164177\n",
      "Prep state: g\n",
      "collecting counts\n",
      "amplicude mode True\n",
      "[3815. 1185.]\n",
      "Prep state: e\n",
      "collecting counts\n",
      "amplicude mode True\n",
      "[ 950. 4050.]\n"
     ]
    },
    {
     "data": {
      "application/vnd.jupyter.widget-view+json": {
       "model_id": "c34e59338bc243e0a62dbcaf2f1b9ce9",
       "version_major": 2,
       "version_minor": 0
      },
      "text/plain": [
       "  0%|          | 0/10 [00:00<?, ?it/s]"
      ]
     },
     "metadata": {},
     "output_type": "display_data"
    },
    {
     "name": "stdout",
     "output_type": "stream",
     "text": [
      "(3, 500)\n",
      "(3, 500)\n",
      "(500,)\n",
      "(1, 500)\n",
      "(1, 500)\n",
      "(500,)\n",
      "X_robust_half_q1 freq_MHz: 3448.3209833086257, gain: 6500\n",
      "avgi 0.52\n",
      "(3, 500)\n",
      "(3, 500)\n",
      "(500,)\n",
      "(1, 500)\n",
      "(1, 500)\n",
      "(500,)\n",
      "X_robust_half_q1 freq_MHz: 3448.3209833086257, gain: 6500\n",
      "avgi 0.516\n",
      "(3, 500)\n",
      "(3, 500)\n",
      "(500,)\n",
      "(1, 500)\n",
      "(1, 500)\n",
      "(500,)\n",
      "X_robust_half_q1 freq_MHz: 3448.3209833086257, gain: 6500\n",
      "avgi 0.554\n",
      "(3, 500)\n",
      "(3, 500)\n",
      "(500,)\n",
      "(1, 500)\n",
      "(1, 500)\n",
      "(500,)\n",
      "X_robust_half_q1 freq_MHz: 3448.3209833086257, gain: 6500\n",
      "avgi 0.487\n",
      "(3, 500)\n",
      "(3, 500)\n",
      "(500,)\n",
      "(1, 500)\n",
      "(1, 500)\n",
      "(500,)\n",
      "X_robust_half_q1 freq_MHz: 3448.3209833086257, gain: 6500\n",
      "avgi 0.465\n",
      "(3, 500)\n",
      "(3, 500)\n",
      "(500,)\n",
      "(1, 500)\n",
      "(1, 500)\n",
      "(500,)\n",
      "X_robust_half_q1 freq_MHz: 3448.3209833086257, gain: 6500\n",
      "avgi 0.468\n",
      "(3, 500)\n",
      "(3, 500)\n",
      "(500,)\n",
      "(1, 500)\n",
      "(1, 500)\n",
      "(500,)\n",
      "X_robust_half_q1 freq_MHz: 3448.3209833086257, gain: 6500\n",
      "avgi 0.494\n",
      "(3, 500)\n",
      "(3, 500)\n",
      "(500,)\n",
      "(1, 500)\n",
      "(1, 500)\n",
      "(500,)\n",
      "X_robust_half_q1 freq_MHz: 3448.3209833086257, gain: 6500\n",
      "avgi 0.511\n",
      "(3, 500)\n",
      "(3, 500)\n",
      "(500,)\n",
      "(1, 500)\n",
      "(1, 500)\n",
      "(500,)\n",
      "X_robust_half_q1 freq_MHz: 3448.3209833086257, gain: 6500\n",
      "avgi 0.5\n",
      "(3, 500)\n",
      "(3, 500)\n",
      "(500,)\n",
      "(1, 500)\n",
      "(1, 500)\n",
      "(500,)\n",
      "X_robust_half_q1 freq_MHz: 3448.3209833086257, gain: 6500\n",
      "avgi 0.535\n"
     ]
    },
    {
     "data": {
      "application/vnd.jupyter.widget-view+json": {
       "model_id": "e4ee43a0ae444dcc8f16b6b29921fe52",
       "version_major": 2,
       "version_minor": 0
      },
      "text/plain": [
       "  0%|          | 0/2 [00:00<?, ?it/s]"
      ]
     },
     "metadata": {},
     "output_type": "display_data"
    },
    {
     "name": "stdout",
     "output_type": "stream",
     "text": [
      "(3, 500)\n",
      "(3, 500)\n",
      "(500,)\n",
      "(1, 500)\n",
      "(1, 500)\n",
      "(500,)\n",
      "(3, 500)\n",
      "(3, 500)\n",
      "(500,)\n",
      "(1, 500)\n",
      "(1, 500)\n",
      "(500,)\n",
      "Qubit  (1)\n",
      "g unrotated averages:\n",
      "Amps 271.97387567576084 +/- 63.39664159962131\n",
      "e unrotated averages:\n",
      "Amps 362.7303536141259 +/- 67.4973440570782\n",
      "ge fidelity (%): 53.99999999999998 \t angle (deg): 0.0 \t threshold ge: 318.45998827620366\n",
      "Prep state: g\n",
      "collecting counts\n",
      "amplicude mode True\n",
      "[3890. 1110.]\n",
      "Prep state: e\n",
      "collecting counts\n",
      "amplicude mode True\n",
      "[1202. 3798.]\n"
     ]
    },
    {
     "data": {
      "application/vnd.jupyter.widget-view+json": {
       "model_id": "3ffca218499e43f49a63766a9c509166",
       "version_major": 2,
       "version_minor": 0
      },
      "text/plain": [
       "  0%|          | 0/10 [00:00<?, ?it/s]"
      ]
     },
     "metadata": {},
     "output_type": "display_data"
    },
    {
     "name": "stdout",
     "output_type": "stream",
     "text": [
      "(3, 500)\n",
      "(3, 500)\n",
      "(500,)\n",
      "(1, 500)\n",
      "(1, 500)\n",
      "(500,)\n",
      "X_robust_half_q1 freq_MHz: 3448.3209833086257, gain: 7000\n",
      "avgi 0.291\n",
      "(3, 500)\n",
      "(3, 500)\n",
      "(500,)\n",
      "(1, 500)\n",
      "(1, 500)\n",
      "(500,)\n",
      "X_robust_half_q1 freq_MHz: 3448.3209833086257, gain: 7000\n",
      "avgi 0.291\n",
      "(3, 500)\n",
      "(3, 500)\n",
      "(500,)\n",
      "(1, 500)\n",
      "(1, 500)\n",
      "(500,)\n",
      "X_robust_half_q1 freq_MHz: 3448.3209833086257, gain: 7000\n",
      "avgi 0.326\n",
      "(3, 500)\n",
      "(3, 500)\n",
      "(500,)\n",
      "(1, 500)\n",
      "(1, 500)\n",
      "(500,)\n",
      "X_robust_half_q1 freq_MHz: 3448.3209833086257, gain: 7000\n",
      "avgi 0.341\n",
      "(3, 500)\n",
      "(3, 500)\n",
      "(500,)\n",
      "(1, 500)\n",
      "(1, 500)\n",
      "(500,)\n",
      "X_robust_half_q1 freq_MHz: 3448.3209833086257, gain: 7000\n",
      "avgi 0.339\n",
      "(3, 500)\n",
      "(3, 500)\n",
      "(500,)\n",
      "(1, 500)\n",
      "(1, 500)\n",
      "(500,)\n",
      "X_robust_half_q1 freq_MHz: 3448.3209833086257, gain: 7000\n",
      "avgi 0.343\n",
      "(3, 500)\n",
      "(3, 500)\n",
      "(500,)\n",
      "(1, 500)\n",
      "(1, 500)\n",
      "(500,)\n",
      "X_robust_half_q1 freq_MHz: 3448.3209833086257, gain: 7000\n",
      "avgi 0.349\n",
      "(3, 500)\n",
      "(3, 500)\n",
      "(500,)\n",
      "(1, 500)\n",
      "(1, 500)\n",
      "(500,)\n",
      "X_robust_half_q1 freq_MHz: 3448.3209833086257, gain: 7000\n",
      "avgi 0.334\n",
      "(3, 500)\n",
      "(3, 500)\n",
      "(500,)\n",
      "(1, 500)\n",
      "(1, 500)\n",
      "(500,)\n",
      "X_robust_half_q1 freq_MHz: 3448.3209833086257, gain: 7000\n",
      "avgi 0.352\n",
      "(3, 500)\n",
      "(3, 500)\n",
      "(500,)\n",
      "(1, 500)\n",
      "(1, 500)\n",
      "(500,)\n",
      "X_robust_half_q1 freq_MHz: 3448.3209833086257, gain: 7000\n",
      "avgi 0.36\n"
     ]
    },
    {
     "data": {
      "application/vnd.jupyter.widget-view+json": {
       "model_id": "5be1ea66d9de4e74802ce0f0712792f5",
       "version_major": 2,
       "version_minor": 0
      },
      "text/plain": [
       "  0%|          | 0/2 [00:00<?, ?it/s]"
      ]
     },
     "metadata": {},
     "output_type": "display_data"
    },
    {
     "name": "stdout",
     "output_type": "stream",
     "text": [
      "(3, 500)\n",
      "(3, 500)\n",
      "(500,)\n",
      "(1, 500)\n",
      "(1, 500)\n",
      "(500,)\n",
      "(3, 500)\n",
      "(3, 500)\n",
      "(500,)\n",
      "(1, 500)\n",
      "(1, 500)\n",
      "(500,)\n",
      "Qubit  (1)\n",
      "g unrotated averages:\n",
      "Amps 271.7679498759331 +/- 64.03197065231396\n",
      "e unrotated averages:\n",
      "Amps 366.00578799190345 +/- 67.97857330110759\n",
      "ge fidelity (%): 54.94000000000001 \t angle (deg): 0.0 \t threshold ge: 320.6627113034843\n",
      "Prep state: g\n",
      "collecting counts\n",
      "amplicude mode True\n",
      "[3945. 1055.]\n",
      "Prep state: e\n",
      "collecting counts\n",
      "amplicude mode True\n",
      "[1206. 3794.]\n"
     ]
    },
    {
     "data": {
      "application/vnd.jupyter.widget-view+json": {
       "model_id": "7a7a20d296a143d29e5651106969ed93",
       "version_major": 2,
       "version_minor": 0
      },
      "text/plain": [
       "  0%|          | 0/10 [00:00<?, ?it/s]"
      ]
     },
     "metadata": {},
     "output_type": "display_data"
    },
    {
     "name": "stdout",
     "output_type": "stream",
     "text": [
      "(3, 500)\n",
      "(3, 500)\n",
      "(500,)\n",
      "(1, 500)\n",
      "(1, 500)\n",
      "(500,)\n",
      "X_robust_half_q1 freq_MHz: 3448.3209833086257, gain: 7500\n",
      "avgi 0.249\n",
      "(3, 500)\n",
      "(3, 500)\n",
      "(500,)\n",
      "(1, 500)\n",
      "(1, 500)\n",
      "(500,)\n",
      "X_robust_half_q1 freq_MHz: 3448.3209833086257, gain: 7500\n",
      "avgi 0.256\n",
      "(3, 500)\n",
      "(3, 500)\n",
      "(500,)\n",
      "(1, 500)\n",
      "(1, 500)\n",
      "(500,)\n",
      "X_robust_half_q1 freq_MHz: 3448.3209833086257, gain: 7500\n",
      "avgi 0.251\n",
      "(3, 500)\n",
      "(3, 500)\n",
      "(500,)\n",
      "(1, 500)\n",
      "(1, 500)\n",
      "(500,)\n",
      "X_robust_half_q1 freq_MHz: 3448.3209833086257, gain: 7500\n",
      "avgi 0.241\n",
      "(3, 500)\n",
      "(3, 500)\n",
      "(500,)\n",
      "(1, 500)\n",
      "(1, 500)\n",
      "(500,)\n",
      "X_robust_half_q1 freq_MHz: 3448.3209833086257, gain: 7500\n",
      "avgi 0.258\n",
      "(3, 500)\n",
      "(3, 500)\n",
      "(500,)\n",
      "(1, 500)\n",
      "(1, 500)\n",
      "(500,)\n",
      "X_robust_half_q1 freq_MHz: 3448.3209833086257, gain: 7500\n",
      "avgi 0.286\n",
      "(3, 500)\n",
      "(3, 500)\n",
      "(500,)\n",
      "(1, 500)\n",
      "(1, 500)\n",
      "(500,)\n",
      "X_robust_half_q1 freq_MHz: 3448.3209833086257, gain: 7500\n",
      "avgi 0.266\n",
      "(3, 500)\n",
      "(3, 500)\n",
      "(500,)\n",
      "(1, 500)\n",
      "(1, 500)\n",
      "(500,)\n",
      "X_robust_half_q1 freq_MHz: 3448.3209833086257, gain: 7500\n",
      "avgi 0.274\n",
      "(3, 500)\n",
      "(3, 500)\n",
      "(500,)\n",
      "(1, 500)\n",
      "(1, 500)\n",
      "(500,)\n",
      "X_robust_half_q1 freq_MHz: 3448.3209833086257, gain: 7500\n",
      "avgi 0.264\n",
      "(3, 500)\n",
      "(3, 500)\n",
      "(500,)\n",
      "(1, 500)\n",
      "(1, 500)\n",
      "(500,)\n",
      "X_robust_half_q1 freq_MHz: 3448.3209833086257, gain: 7500\n",
      "avgi 0.238\n"
     ]
    }
   ],
   "source": [
    "gain_scale = np.linspace(0.1, 1.5, 15)\n",
    "\n",
    "x_tab = []\n",
    "p_tab = []\n",
    "\n",
    "qubit_i=1\n",
    "gain = 5000\n",
    "\n",
    "with open(config_path, 'r') as cfg_file:\n",
    "    yaml_cfg = yaml.safe_load(cfg_file)\n",
    "yaml_cfg = AttrDict(yaml_cfg)\n",
    "\n",
    "\n",
    "for s in gain_scale:\n",
    "\n",
    "    npulsecalib = meas.NPulseExperiment(\n",
    "        soccfg=soc,\n",
    "        path=expt_path,\n",
    "        prefix=f\"NPulseExptQ{qubit_i}\",\n",
    "        config_file=config_path,\n",
    "    )\n",
    "\n",
    "    npulsecalib.cfg = AttrDict(deepcopy(yaml_cfg))\n",
    "    npulsecalib.cfg.device.qubit.pulses.pihalf_ge_robust.gain[qubit_i*5] = int(gain*s)\n",
    "    # npulsecalib.cfg.device.qubit.pulses.pihalf_ge_robust.gain[qubit_i*5] = int(1)\n",
    "    # npulsecalib.cfg.device.qubit.f_ge_robust[qubit_i*5] = 3448.5530242338505\n",
    "\n",
    "    npulsecalib.cfg.expt = dict(\n",
    "        start=1, # number gate repetitions\n",
    "        step=10,\n",
    "        expts=1,\n",
    "        reps=1000,\n",
    "        loops=10,\n",
    "        pulse_type='robust',\n",
    "        checkEF=False, \n",
    "        qTest=qubit_i,\n",
    "        qZZ=None,\n",
    "        test_pi_half=True,\n",
    "        error_amp=True,\n",
    "        skip_first_pi2=True,\n",
    "        post_process='threshold',\n",
    "        singleshot_reps=5000,\n",
    "        resonator_reset=[0, 2, 3],\n",
    "        full_mux_expt=True\n",
    "    )\n",
    "\n",
    "    # print(npulsecalib.cfg)\n",
    "    import Pyro4.util\n",
    "    try:\n",
    "        npulsecalib.acquire(progress=True, debug=False)\n",
    "    except Exception:\n",
    "        print(\"Pyro traceback:\")\n",
    "        print(\"\".join(Pyro4.util.getPyroTraceback()))\n",
    "        \n",
    "        \n",
    "    data = npulsecalib.data\n",
    "    \n",
    "    p_vec = data['avgi'][-1]\n",
    "    x_vec = data['xpts'][-1]\n",
    "    \n",
    "    p_tab.append(p_vec)\n",
    "    x_tab.append(x_vec)"
   ]
  },
  {
   "cell_type": "code",
   "execution_count": 211,
   "metadata": {},
   "outputs": [
    {
     "data": {
      "text/plain": [
       "[<matplotlib.lines.Line2D at 0x1f9b3dd8880>]"
      ]
     },
     "execution_count": 211,
     "metadata": {},
     "output_type": "execute_result"
    }
   ],
   "source": [
    "# fig, ax = plt.subplots(figsize=(6,4))   \n",
    "\n",
    "# for i in range(len(p_tab)):\n",
    "#     ax.plot(x_tab[i], p_tab[i], label=f'Gain {gain_scale[i]:.2f}')\n",
    "\n",
    "# ax.set_xlabel('Number of pulses')\n",
    "# ax.set_ylabel('Average intensity')\n",
    "# ax.legend()\n",
    "\n",
    "fig, ax = plt.subplots(figsize=(6,4))\n",
    "\n",
    "ax.plot(gain_scale, p_tab, 'o-')\n",
    "    "
   ]
  },
  {
   "cell_type": "code",
   "execution_count": 212,
   "metadata": {},
   "outputs": [],
   "source": [
    "gain_corr =  gain*0.8\n",
    "# save the new gain in the yaml file\n",
    "yaml_cfg.device.qubit.pulses.pihalf_ge_robust.gain[qubit_i*5] = int(gain_corr)"
   ]
  },
  {
   "cell_type": "code",
   "execution_count": 213,
   "metadata": {},
   "outputs": [
    {
     "data": {
      "text/plain": [
       "4000.0"
      ]
     },
     "execution_count": 213,
     "metadata": {},
     "output_type": "execute_result"
    }
   ],
   "source": [
    "gain_corr"
   ]
  },
  {
   "cell_type": "markdown",
   "metadata": {},
   "source": [
    "# $\\pi$-$\\pi$ Exp"
   ]
  },
  {
   "cell_type": "code",
   "execution_count": 133,
   "metadata": {},
   "outputs": [],
   "source": [
    "qubit_i= 1\n"
   ]
  },
  {
   "cell_type": "code",
   "execution_count": 134,
   "metadata": {},
   "outputs": [
    {
     "ename": "NameError",
     "evalue": "name 'piminuspi' is not defined",
     "output_type": "error",
     "traceback": [
      "\u001b[1;31m---------------------------------------------------------------------------\u001b[0m",
      "\u001b[1;31mNameError\u001b[0m                                 Traceback (most recent call last)",
      "Cell \u001b[1;32mIn[134], line 1\u001b[0m\n\u001b[1;32m----> 1\u001b[0m \u001b[43mpiminuspi\u001b[49m\u001b[38;5;241m.\u001b[39mcfg\u001b[38;5;241m.\u001b[39mdevice\u001b[38;5;241m.\u001b[39mqubit\u001b[38;5;241m.\u001b[39mpulses\u001b[38;5;241m.\u001b[39mpihalf_ge_robust\u001b[38;5;241m.\u001b[39mgain\n",
      "\u001b[1;31mNameError\u001b[0m: name 'piminuspi' is not defined"
     ]
    }
   ],
   "source": [
    "piminuspi.cfg.device.qubit.pulses.pihalf_ge_robust.gain"
   ]
  },
  {
   "cell_type": "code",
   "execution_count": 240,
   "metadata": {},
   "outputs": [
    {
     "name": "stdout",
     "output_type": "stream",
     "text": [
      "3448.345849629168\n"
     ]
    },
    {
     "data": {
      "application/vnd.jupyter.widget-view+json": {
       "model_id": "891125e63ae94a3fa8d1b9f7a1209cea",
       "version_major": 2,
       "version_minor": 0
      },
      "text/plain": [
       "  0%|          | 0/2 [00:00<?, ?it/s]"
      ]
     },
     "metadata": {},
     "output_type": "display_data"
    },
    {
     "name": "stdout",
     "output_type": "stream",
     "text": [
      "Qubit  (1)\n",
      "ge fidelity (%): 57.258806142631734 \t angle (deg): 0.0 \t threshold ge: 318.2821402972857\n",
      "thresholds=[0, 318.2821402972857, 0, 0],\n",
      "angles=[0, 0.0, 0, 0],\n",
      "ge_avgs=[array([0., 0., 0., 0.]), [97.09715405478708, 240.6629154868457, 145.55929693517766, 327.8919980471928], array([0., 0., 0., 0.]), array([0., 0., 0., 0.])],\n",
      "counts_calib=[[12124.0, 2876.0], [3540.0, 11460.0]]\n"
     ]
    },
    {
     "data": {
      "application/vnd.jupyter.widget-view+json": {
       "model_id": "807913b164a347ca8a54bc969df9580f",
       "version_major": 2,
       "version_minor": 0
      },
      "text/plain": [
       "  0%|          | 0/10 [00:00<?, ?it/s]"
      ]
     },
     "metadata": {},
     "output_type": "display_data"
    }
   ],
   "source": [
    "piminuspi = meas.PiMinusPiExperiment(\n",
    "    soccfg=soc,\n",
    "    path=expt_path,\n",
    "    prefix=f\"PiMinusPiExpt{qubit_i}\",\n",
    "    config_file=config_path,\n",
    ")\n",
    "reps = 100\n",
    "rounds = 1\n",
    "span_f = 2\n",
    "npts_f = 50\n",
    "\n",
    "# with open(config_path, 'r') as cfg_file:\n",
    "#     yaml_cfg = yaml.safe_load(cfg_file)\n",
    "# yaml_cfg = AttrDict(yaml_cfg)\n",
    "piminuspi.cfg = AttrDict(deepcopy(yaml_cfg))\n",
    "print(piminuspi.cfg.device.qubit.f_ge_robust[qubit_i*4 + qubit_i])\n",
    "\n",
    "\n",
    "\n",
    "piminuspi.cfg.expt = dict(\n",
    "    start_N=0, # number gate repetitions\n",
    "    step_N=1,\n",
    "    expts_N=10,\n",
    "    start_f=piminuspi.cfg.device.qubit.f_ge[qubit_i*4 + qubit_i]-span_f/2-5,\n",
    "    step_f=span_f/npts_f,\n",
    "    expts_f=npts_f+1,\n",
    "    reps=int(reps*rounds),\n",
    "    loops=1,\n",
    "    pulse_type='robust',\n",
    "    use_robust_pulses=True, \n",
    "    test_pi_half=True, \n",
    "    checkEF=False,\n",
    "    qTest=qubit_i,\n",
    "    qZZ=0,\n",
    "    post_process='threshold',\n",
    "    singleshot_reps=15000,\n",
    "    full_mux_expt=True,\n",
    "    resonator_reset = [0, 2, 3]\n",
    ")\n",
    "\n",
    "# print(piminuspi.cfg)\n",
    "import Pyro4.util\n",
    "try:\n",
    "    piminuspi.acquire(progress=True, debug=True)\n",
    "except Exception:\n",
    "    print(\"Pyro traceback:\")\n",
    "    print(\"\".join(Pyro4.util.getPyroTraceback()))"
   ]
  },
  {
   "cell_type": "code",
   "execution_count": 241,
   "metadata": {},
   "outputs": [
    {
     "name": "stdout",
     "output_type": "stream",
     "text": [
      "Attempted to init fitparam 3 to 0.0, which is out of bounds 0 to 0.5903050059079628. Instead init to 0.2951525029539814\n",
      "Fit best freq 3443.0032303441935 which is -7.050858963644714 away from old freq 3450.0540893078382\n",
      "*New f_ge\n",
      " [[4114.31381566 4108.14770152 4114.31037246 4114.31037246]\n",
      " [3450.05408931 3443.00323034 3450.05408931 3450.05408931]\n",
      " [4763.941      4763.941      4763.941      4763.941     ]\n",
      " [4384.25034226 4384.25034226 4384.25034226 4384.25034226]]\n",
      "*New f_ge flattened\n",
      "[4114.313815659153, 4108.147701523904, 4114.310372455052, 4114.310372455052, 3450.0540893078382, 3443.0032303441935, 3450.0540893078382, 3450.0540893078382, 4763.941, 4763.941, 4763.941, 4763.941, 4384.25034225973, 4384.25034225973, 4384.25034225973, 4384.25034225973]\n"
     ]
    }
   ],
   "source": [
    "data = piminuspi.data\n",
    "piminuspi.analyze(fit=True)\n",
    "piminuspi.display(fit=True)\n",
    "\n",
    "yaml_cfg.device.qubit.f_ge_robust = np.reshape(yaml_cfg.device.qubit.f_ge_robust, (4,4))\n",
    "yaml_cfg.device.qubit.f_ge_robust[qubit_i, qubit_i] = data[\"best_freq\"]\n",
    "# results_Qi.update({'Qubit freq':yaml_cfg.device.qubit.f_ge[qubit_i, qubit_i] + yaml_cfg.hw.soc.dacs.qubit.mixer_freq[qubit_i]})\n",
    "# print(f'*Set qubit {qubit_i} freq to {yaml_cfg.device.qubit.f_ge[qubit_i, qubit_i]}*')\n",
    "# print(results_Qi)\n",
    "print(f'*New f_ge\\n', yaml_cfg.device.qubit.f_ge_robust)\n",
    "yaml_cfg.device.qubit.f_ge_robust = yaml_cfg.device.qubit.f_ge_robust.flatten().tolist()\n",
    "print(f'*New f_ge flattened\\n{yaml_cfg.device.qubit.f_ge_robust}')\n",
    "\n"
   ]
  },
  {
   "cell_type": "code",
   "execution_count": null,
   "metadata": {},
   "outputs": [],
   "source": [
    "piminuspi.save_data()"
   ]
  },
  {
   "cell_type": "markdown",
   "metadata": {},
   "source": [
    "# Second round of error amplification"
   ]
  },
  {
   "cell_type": "code",
   "execution_count": 350,
   "metadata": {},
   "outputs": [],
   "source": [
    "qubit_i = 0\n",
    "# with open(config_path, 'r') as cfg_file:\n",
    "#     yaml_cfg = yaml.safe_load(cfg_file)\n",
    "# yaml_cfg = AttrDict(yaml_cfg)\n",
    "# gain = yaml_cfg.device.qubit.pulses.pihalf_ge_robust.gain[qubit_i*5]\n",
    "# print(yaml_cfg.device.qubit.f_ge_robust[qubit_i*5])\n",
    "# print(f'New gain for qubit {qubit_i} is {gain}')"
   ]
  },
  {
   "cell_type": "code",
   "execution_count": 355,
   "metadata": {},
   "outputs": [
    {
     "data": {
      "application/vnd.jupyter.widget-view+json": {
       "model_id": "2c1846745c654579babb08e2e781afc4",
       "version_major": 2,
       "version_minor": 0
      },
      "text/plain": [
       "  0%|          | 0/2 [00:00<?, ?it/s]"
      ]
     },
     "metadata": {},
     "output_type": "display_data"
    },
    {
     "name": "stdout",
     "output_type": "stream",
     "text": [
      "Qubit  (0)\n",
      "g unrotated averages:\n",
      "Amps 122.22168106442851 +/- 65.62837806962969\n",
      "e unrotated averages:\n",
      "Amps 287.2854583709537 +/- 72.08018001478975\n",
      "ge fidelity (%): 80.71912091209121 \t angle (deg): 0.0 \t threshold ge: 200.48433822397828\n"
     ]
    },
    {
     "data": {
      "application/vnd.jupyter.widget-view+json": {
       "model_id": "d81bb2e1c270407b9ba9866b9882bf62",
       "version_major": 2,
       "version_minor": 0
      },
      "text/plain": [
       "  0%|          | 0/10 [00:00<?, ?it/s]"
      ]
     },
     "metadata": {},
     "output_type": "display_data"
    }
   ],
   "source": [
    "npulsecalib = meas.NPulseExperiment(\n",
    "        soccfg=soc,\n",
    "        path=expt_path,\n",
    "        prefix=f\"NPulseExptQ{qubit_i}\",\n",
    "        config_file=config_path,\n",
    "    )\n",
    "\n",
    "\n",
    "# # \n",
    "\n",
    "\n",
    "\n",
    "# npulsecalib.cfg = AttrDict(deepcopy(yaml_cfg))\n",
    "npulsecalib.cfg.device.qubit.pulses.pihalf_ge_robust.gain[1] = int(7659)\n",
    " \n",
    "\n",
    "npulsecalib.cfg.expt = dict(\n",
    "    start=1, # number gate repetitions\n",
    "    step=1,\n",
    "    expts=10,\n",
    "    reps=5000,\n",
    "    loops=1,\n",
    "    pulse_type='robust',\n",
    "    checkEF=False, \n",
    "    qTest=qubit_i,\n",
    "    qZZ=1,\n",
    "    test_pi_half=True,\n",
    "    error_amp=True,\n",
    "    skip_first_pi2 = False, \n",
    "    post_process='threshold',\n",
    "    singleshot_reps=10000,\n",
    "    resonator_reset=[0, 2, 3], \n",
    "    full_mux_expt = True,\n",
    "    use_robust_pulses=True\n",
    ")\n",
    "\n",
    "# print(npulsecalib.cfg)\n",
    "import Pyro4.util\n",
    "try:\n",
    "    npulsecalib.acquire(progress=True, debug=False)\n",
    "except Exception:\n",
    "    print(\"Pyro traceback:\")\n",
    "    print(\"\".join(Pyro4.util.getPyroTraceback()))"
   ]
  },
  {
   "cell_type": "code",
   "execution_count": 356,
   "metadata": {},
   "outputs": [
    {
     "name": "stdout",
     "output_type": "stream",
     "text": [
      "fitparams [None, 0.017453292519943295]\n",
      "Attempted to init fitparam 0 to 0.0, which is out of bounds 0.0 to 0.0. Instead init to 0.0\n",
      "Warning: fit failed with error: Each lower bound must be strictly less than each upper bound.\n",
      "From amps: adjust amplitude to 7659 / 0.9998224101810871 = 7660.360402016602\n",
      "From avgi: adjust amplitude to 7659 / 0.9998224101810871 = 7660.360402016602\n",
      "From avgq: adjust amplitude to 7659 / 1.000193925472444 = 7657.5150127833995\n"
     ]
    }
   ],
   "source": [
    "data = npulsecalib.data\n",
    "npulsecalib.analyze(fit=True, scale=None)\n",
    "npulsecalib.display(fit=True, scale=None)"
   ]
  },
  {
   "cell_type": "markdown",
   "metadata": {},
   "source": [
    "# Test with 1Q tomo"
   ]
  },
  {
   "cell_type": "code",
   "execution_count": 12,
   "metadata": {},
   "outputs": [],
   "source": [
    "sys.path.append(os.getcwd()+'/../../qutip_sims')\n",
    "from QSwitch import QSwitch\n",
    "from PulseSequence import PulseSequence\n",
    "from TomoAnalysis import TomoAnalysis\n",
    "tomo_analysis = TomoAnalysis(nb_qubits=1)\n",
    "import qutip as qt\n",
    "\n",
    "meas_order = np.array(['Z', 'X', 'Y'])\n",
    "psiZ = [qt.basis(2,0), qt.basis(2,1)]\n",
    "psiX = [1/np.sqrt(2)*(psiZ[0]+psiZ[1]), 1/np.sqrt(2)*(psiZ[0]-psiZ[1])]\n",
    "psiY = [1/np.sqrt(2)*(psiZ[0]+1j*psiZ[1]), 1/np.sqrt(2)*(psiZ[0]-1j*psiZ[1])]\n",
    "psi_dict = dict(Z=psiZ, X=psiX, Y=psiY)"
   ]
  },
  {
   "cell_type": "code",
   "execution_count": 306,
   "metadata": {},
   "outputs": [
    {
     "name": "stdout",
     "output_type": "stream",
     "text": [
      "play_pulses [0]\n",
      "Quantum object: dims=[[2], [2]], shape=(2, 2), type='oper', dtype=Dense, isherm=True\n",
      "Qobj data =\n",
      "[[0.5 0.5]\n",
      " [0.5 0.5]]\n"
     ]
    }
   ],
   "source": [
    "tomo_analysis = TomoAnalysis(nb_qubits=1)\n",
    "meas_order = np.array(['Z', 'X', 'Y'])\n",
    "psiZ = [qt.basis(2,0), qt.basis(2,1)]\n",
    "psiX = [1/np.sqrt(2)*(psiZ[0]+psiZ[1]), 1/np.sqrt(2)*(psiZ[0]-psiZ[1])]\n",
    "psiY = [1/np.sqrt(2)*(psiZ[0]+1j*psiZ[1]), 1/np.sqrt(2)*(psiZ[0]-1j*psiZ[1])]\n",
    "psi_dict = dict(Z=psiZ, X=psiX, Y=psiY)\n",
    "\n",
    "\n",
    "\n",
    "qubit = 1 # which qubit/resonators to do tomo on\n",
    "init_state = '|0>|0+i>' # switch, input\n",
    "play_pulses = [0]\n",
    "\n",
    "pi_half_swaps = None\n",
    "cool_qubits = None\n",
    "add_phase = False\n",
    "readout_cool = False\n",
    "use_IQ_pulse = False\n",
    "use_robust_pulses = True # use robust pulses for state prep + tomo\n",
    "ZZ_qubit = None\n",
    "\n",
    "print('play_pulses', play_pulses)\n",
    "\n",
    "apply_ps = False\n",
    "ps_adjust = [np.inf]*4\n",
    "ps_qubits = [0, 1, 2, 3]\n",
    "psiZ = [qt.basis(2,0), qt.basis(2,1)]\n",
    "psi_id = (psiZ[1] + psiZ[0]).unit()\n",
    "rho_id = qt.ket2dm(psi_id)\n",
    "print(rho_id)"
   ]
  },
  {
   "cell_type": "code",
   "execution_count": 307,
   "metadata": {},
   "outputs": [
    {
     "data": {
      "application/vnd.jupyter.widget-view+json": {
       "model_id": "5d36bde7126141e28500f6ce1a2150f1",
       "version_major": 2,
       "version_minor": 0
      },
      "text/plain": [
       "  0%|          | 0/2 [00:00<?, ?it/s]"
      ]
     },
     "metadata": {},
     "output_type": "display_data"
    },
    {
     "name": "stdout",
     "output_type": "stream",
     "text": [
      "Qubit (1) ge\n",
      "ge fidelity (%): 57.378218821882164 \t angle (deg): 0.0 \t threshold ge: 311.4193696320933\n",
      "thresholds=[0, 311.4193696320933, 0, 0],\n",
      "angles=[0, 0.0, 0, 0],\n",
      "ge_avgs=[[0, 0, 0, 0], [96.86953523189584, 234.30137266069977, 151.3936549227014, 315.6409469487389], [0, 0, 0, 0], [0, 0, 0, 0]] ,\n",
      "counts_calib=[[8082.0, 1918.0], [2357.0, 7643.0]]\n"
     ]
    },
    {
     "data": {
      "application/vnd.jupyter.widget-view+json": {
       "model_id": "9433e5405e9c4ae9aab44139492d2443",
       "version_major": 2,
       "version_minor": 0
      },
      "text/plain": [
       "  0%|          | 0/3 [00:00<?, ?it/s]"
      ]
     },
     "metadata": {},
     "output_type": "display_data"
    },
    {
     "ename": "KeyboardInterrupt",
     "evalue": "",
     "output_type": "error",
     "traceback": [
      "\u001b[1;31m---------------------------------------------------------------------------\u001b[0m",
      "\u001b[1;31mKeyboardInterrupt\u001b[0m                         Traceback (most recent call last)",
      "Cell \u001b[1;32mIn[307], line 37\u001b[0m\n\u001b[0;32m     12\u001b[0m qramExpt\u001b[38;5;241m.\u001b[39mcfg\u001b[38;5;241m.\u001b[39mexpt \u001b[38;5;241m=\u001b[39m \u001b[38;5;28mdict\u001b[39m(\n\u001b[0;32m     13\u001b[0m     start\u001b[38;5;241m=\u001b[39mspan,\n\u001b[0;32m     14\u001b[0m     step\u001b[38;5;241m=\u001b[39m\u001b[38;5;241m0\u001b[39m,\n\u001b[1;32m   (...)\u001b[0m\n\u001b[0;32m     33\u001b[0m     \n\u001b[0;32m     34\u001b[0m )\n\u001b[0;32m     36\u001b[0m \u001b[38;5;28;01mtry\u001b[39;00m:\n\u001b[1;32m---> 37\u001b[0m     \u001b[43mqramExpt\u001b[49m\u001b[38;5;241;43m.\u001b[39;49m\u001b[43macquire\u001b[49m\u001b[43m(\u001b[49m\u001b[43mprogress\u001b[49m\u001b[38;5;241;43m=\u001b[39;49m\u001b[38;5;28;43;01mTrue\u001b[39;49;00m\u001b[43m,\u001b[49m\u001b[43m \u001b[49m\u001b[43mdebug\u001b[49m\u001b[38;5;241;43m=\u001b[39;49m\u001b[38;5;28;43;01mFalse\u001b[39;49;00m\u001b[43m)\u001b[49m\n\u001b[0;32m     38\u001b[0m \u001b[38;5;28;01mexcept\u001b[39;00m \u001b[38;5;167;01mException\u001b[39;00m:\n\u001b[0;32m     39\u001b[0m     \u001b[38;5;28mprint\u001b[39m(\u001b[38;5;124m\"\u001b[39m\u001b[38;5;124mPyro traceback:\u001b[39m\u001b[38;5;124m\"\u001b[39m)\n",
      "File \u001b[1;32ms:\\Seb\\experiements\\qram_tprocv1_expts\\experiments\\qram_protocol_timestepped.py:1596\u001b[0m, in \u001b[0;36mQramProtocol1QTomoExperiment.acquire\u001b[1;34m(self, progress, debug)\u001b[0m\n\u001b[0;32m   1594\u001b[0m tomo \u001b[38;5;241m=\u001b[39m QramProtocol1QTomoProgram(soccfg\u001b[38;5;241m=\u001b[39m\u001b[38;5;28mself\u001b[39m\u001b[38;5;241m.\u001b[39msoccfg, cfg\u001b[38;5;241m=\u001b[39mcfg)\n\u001b[0;32m   1595\u001b[0m \u001b[38;5;66;03m# print(tomo)\u001b[39;00m\n\u001b[1;32m-> 1596\u001b[0m \u001b[43mtomo\u001b[49m\u001b[38;5;241;43m.\u001b[39;49m\u001b[43macquire\u001b[49m\u001b[43m(\u001b[49m\u001b[38;5;28;43mself\u001b[39;49m\u001b[38;5;241;43m.\u001b[39;49m\u001b[43mim\u001b[49m\u001b[43m[\u001b[49m\u001b[38;5;28;43mself\u001b[39;49m\u001b[38;5;241;43m.\u001b[39;49m\u001b[43mcfg\u001b[49m\u001b[38;5;241;43m.\u001b[39;49m\u001b[43maliases\u001b[49m\u001b[38;5;241;43m.\u001b[39;49m\u001b[43msoc\u001b[49m\u001b[43m]\u001b[49m\u001b[43m,\u001b[49m\u001b[43m \u001b[49m\u001b[43mload_pulses\u001b[49m\u001b[38;5;241;43m=\u001b[39;49m\u001b[38;5;28;43;01mTrue\u001b[39;49;00m\u001b[43m,\u001b[49m\u001b[43m \u001b[49m\u001b[43mprogress\u001b[49m\u001b[38;5;241;43m=\u001b[39;49m\u001b[38;5;28;43;01mFalse\u001b[39;49;00m\u001b[43m)\u001b[49m\n\u001b[0;32m   1597\u001b[0m counts \u001b[38;5;241m=\u001b[39m tomo\u001b[38;5;241m.\u001b[39mcollect_counts(angle\u001b[38;5;241m=\u001b[39mangles_q, threshold\u001b[38;5;241m=\u001b[39mthresholds_q, amplitude_mode\u001b[38;5;241m=\u001b[39mfull_mux_expt)\n\u001b[0;32m   1598\u001b[0m data[\u001b[38;5;124m\"\u001b[39m\u001b[38;5;124mcounts_tomo\u001b[39m\u001b[38;5;124m\"\u001b[39m]\u001b[38;5;241m.\u001b[39mappend(counts)\n",
      "File \u001b[1;32ms:\\Seb\\experiements\\qram_tprocv1_expts\\experiments\\clifford_averager_program.py:1765\u001b[0m, in \u001b[0;36mCliffordAveragerProgram.acquire\u001b[1;34m(self, soc, load_pulses, progress, save_experiments)\u001b[0m\n\u001b[0;32m   1763\u001b[0m     \u001b[38;5;28mself\u001b[39m\u001b[38;5;241m.\u001b[39mcfg\u001b[38;5;241m.\u001b[39mexpt\u001b[38;5;241m.\u001b[39mn_trig \u001b[38;5;241m=\u001b[39m \u001b[38;5;241m1\u001b[39m\n\u001b[0;32m   1764\u001b[0m     \u001b[38;5;28mself\u001b[39m\u001b[38;5;241m.\u001b[39mcfg\u001b[38;5;241m.\u001b[39mexpt\u001b[38;5;241m.\u001b[39mn_init_readout \u001b[38;5;241m=\u001b[39m \u001b[38;5;241m0\u001b[39m\n\u001b[1;32m-> 1765\u001b[0m \u001b[38;5;28;01mreturn\u001b[39;00m \u001b[38;5;28;43msuper\u001b[39;49m\u001b[43m(\u001b[49m\u001b[43m)\u001b[49m\u001b[38;5;241;43m.\u001b[39;49m\u001b[43macquire\u001b[49m\u001b[43m(\u001b[49m\n\u001b[0;32m   1766\u001b[0m \u001b[43m    \u001b[49m\u001b[43msoc\u001b[49m\u001b[43m,\u001b[49m\n\u001b[0;32m   1767\u001b[0m \u001b[43m    \u001b[49m\u001b[43mload_pulses\u001b[49m\u001b[38;5;241;43m=\u001b[39;49m\u001b[43mload_pulses\u001b[49m\u001b[43m,\u001b[49m\n\u001b[0;32m   1768\u001b[0m \u001b[43m    \u001b[49m\u001b[43mprogress\u001b[49m\u001b[38;5;241;43m=\u001b[39;49m\u001b[43mprogress\u001b[49m\u001b[43m,\u001b[49m\n\u001b[0;32m   1769\u001b[0m \u001b[43m    \u001b[49m\u001b[43mreadouts_per_experiment\u001b[49m\u001b[38;5;241;43m=\u001b[39;49m\u001b[38;5;241;43m1\u001b[39;49m\u001b[43m \u001b[49m\u001b[38;5;241;43m+\u001b[39;49m\u001b[43m \u001b[49m\u001b[38;5;28;43mself\u001b[39;49m\u001b[38;5;241;43m.\u001b[39;49m\u001b[43mcfg\u001b[49m\u001b[38;5;241;43m.\u001b[39;49m\u001b[43mexpt\u001b[49m\u001b[38;5;241;43m.\u001b[39;49m\u001b[43mn_trig\u001b[49m\u001b[43m \u001b[49m\u001b[38;5;241;43m*\u001b[39;49m\u001b[43m \u001b[49m\u001b[38;5;28;43mself\u001b[39;49m\u001b[38;5;241;43m.\u001b[39;49m\u001b[43mcfg\u001b[49m\u001b[38;5;241;43m.\u001b[39;49m\u001b[43mexpt\u001b[49m\u001b[38;5;241;43m.\u001b[39;49m\u001b[43mn_init_readout\u001b[49m\u001b[43m,\u001b[49m\n\u001b[0;32m   1770\u001b[0m \u001b[43m    \u001b[49m\u001b[43msave_experiments\u001b[49m\u001b[38;5;241;43m=\u001b[39;49m\u001b[43msave_experiments\u001b[49m\u001b[43m,\u001b[49m\n\u001b[0;32m   1771\u001b[0m \u001b[43m\u001b[49m\u001b[43m)\u001b[49m\n",
      "File \u001b[1;32mc:\\users\\slab\\qick\\qick_lib\\qick\\averager_program.py:106\u001b[0m, in \u001b[0;36mAveragerProgram.acquire\u001b[1;34m(self, soc, threshold, angle, readouts_per_experiment, save_experiments, load_pulses, start_src, progress, remove_offset)\u001b[0m\n\u001b[0;32m    103\u001b[0m \u001b[38;5;28;01mif\u001b[39;00m readouts_per_experiment \u001b[38;5;129;01mis\u001b[39;00m \u001b[38;5;129;01mnot\u001b[39;00m \u001b[38;5;28;01mNone\u001b[39;00m:\n\u001b[0;32m    104\u001b[0m     \u001b[38;5;28mself\u001b[39m\u001b[38;5;241m.\u001b[39mset_reads_per_shot(readouts_per_experiment)\n\u001b[1;32m--> 106\u001b[0m avg_d \u001b[38;5;241m=\u001b[39m \u001b[38;5;28;43msuper\u001b[39;49m\u001b[43m(\u001b[49m\u001b[43m)\u001b[49m\u001b[38;5;241;43m.\u001b[39;49m\u001b[43macquire\u001b[49m\u001b[43m(\u001b[49m\u001b[43msoc\u001b[49m\u001b[43m,\u001b[49m\u001b[43m \u001b[49m\u001b[43msoft_avgs\u001b[49m\u001b[38;5;241;43m=\u001b[39;49m\u001b[38;5;28;43mself\u001b[39;49m\u001b[38;5;241;43m.\u001b[39;49m\u001b[43msoft_avgs\u001b[49m\u001b[43m,\u001b[49m\u001b[43m \u001b[49m\u001b[43mload_pulses\u001b[49m\u001b[38;5;241;43m=\u001b[39;49m\u001b[43mload_pulses\u001b[49m\u001b[43m,\u001b[49m\u001b[43m \u001b[49m\u001b[43mstart_src\u001b[49m\u001b[38;5;241;43m=\u001b[39;49m\u001b[43mstart_src\u001b[49m\u001b[43m,\u001b[49m\u001b[43m \u001b[49m\u001b[43mthreshold\u001b[49m\u001b[38;5;241;43m=\u001b[39;49m\u001b[43mthreshold\u001b[49m\u001b[43m,\u001b[49m\u001b[43m \u001b[49m\u001b[43mangle\u001b[49m\u001b[38;5;241;43m=\u001b[39;49m\u001b[43mangle\u001b[49m\u001b[43m,\u001b[49m\u001b[43m \u001b[49m\u001b[43mprogress\u001b[49m\u001b[38;5;241;43m=\u001b[39;49m\u001b[43mprogress\u001b[49m\u001b[43m,\u001b[49m\u001b[43m \u001b[49m\u001b[43mremove_offset\u001b[49m\u001b[38;5;241;43m=\u001b[39;49m\u001b[43mremove_offset\u001b[49m\u001b[43m)\u001b[49m\n\u001b[0;32m    108\u001b[0m \u001b[38;5;66;03m# reformat the data into separate I and Q arrays\u001b[39;00m\n\u001b[0;32m    109\u001b[0m \u001b[38;5;66;03m# save results to class in case you want to look at it later or for analysis\u001b[39;00m\n\u001b[0;32m    110\u001b[0m raw \u001b[38;5;241m=\u001b[39m [d\u001b[38;5;241m.\u001b[39mreshape((\u001b[38;5;241m-\u001b[39m\u001b[38;5;241m1\u001b[39m,\u001b[38;5;241m2\u001b[39m)) \u001b[38;5;28;01mfor\u001b[39;00m d \u001b[38;5;129;01min\u001b[39;00m \u001b[38;5;28mself\u001b[39m\u001b[38;5;241m.\u001b[39mget_raw()]\n",
      "File \u001b[1;32mc:\\users\\slab\\qick\\qick_lib\\qick\\qick_asm.py:1701\u001b[0m, in \u001b[0;36mAcquireMixin.acquire\u001b[1;34m(self, soc, soft_avgs, load_pulses, start_src, threshold, angle, progress, remove_offset)\u001b[0m\n\u001b[0;32m   1698\u001b[0m soc\u001b[38;5;241m.\u001b[39mstart_readout(total_count, counter_addr\u001b[38;5;241m=\u001b[39m\u001b[38;5;28mself\u001b[39m\u001b[38;5;241m.\u001b[39mcounter_addr,\n\u001b[0;32m   1699\u001b[0m                        ch_list\u001b[38;5;241m=\u001b[39m\u001b[38;5;28mlist\u001b[39m(\u001b[38;5;28mself\u001b[39m\u001b[38;5;241m.\u001b[39mro_chs), reads_per_shot\u001b[38;5;241m=\u001b[39m\u001b[38;5;28mself\u001b[39m\u001b[38;5;241m.\u001b[39mreads_per_shot)\n\u001b[0;32m   1700\u001b[0m \u001b[38;5;28;01mwhile\u001b[39;00m count\u001b[38;5;241m<\u001b[39mtotal_count:\n\u001b[1;32m-> 1701\u001b[0m     new_data \u001b[38;5;241m=\u001b[39m obtain(\u001b[43msoc\u001b[49m\u001b[38;5;241;43m.\u001b[39;49m\u001b[43mpoll_data\u001b[49m\u001b[43m(\u001b[49m\u001b[43m)\u001b[49m)\n\u001b[0;32m   1702\u001b[0m     \u001b[38;5;28;01mfor\u001b[39;00m new_points, (d, s) \u001b[38;5;129;01min\u001b[39;00m new_data:\n\u001b[0;32m   1703\u001b[0m         \u001b[38;5;28;01mfor\u001b[39;00m ii, nreads \u001b[38;5;129;01min\u001b[39;00m \u001b[38;5;28menumerate\u001b[39m(\u001b[38;5;28mself\u001b[39m\u001b[38;5;241m.\u001b[39mreads_per_shot):\n\u001b[0;32m   1704\u001b[0m             \u001b[38;5;66;03m#print(count, new_points, nreads, d[ii].shape, total_count)\u001b[39;00m\n",
      "File \u001b[1;32mc:\\Users\\slab\\.conda\\envs\\slab\\lib\\site-packages\\Pyro4\\core.py:185\u001b[0m, in \u001b[0;36m_RemoteMethod.__call__\u001b[1;34m(self, *args, **kwargs)\u001b[0m\n\u001b[0;32m    183\u001b[0m \u001b[38;5;28;01mfor\u001b[39;00m attempt \u001b[38;5;129;01min\u001b[39;00m \u001b[38;5;28mrange\u001b[39m(\u001b[38;5;28mself\u001b[39m\u001b[38;5;241m.\u001b[39m__max_retries \u001b[38;5;241m+\u001b[39m \u001b[38;5;241m1\u001b[39m):\n\u001b[0;32m    184\u001b[0m     \u001b[38;5;28;01mtry\u001b[39;00m:\n\u001b[1;32m--> 185\u001b[0m         \u001b[38;5;28;01mreturn\u001b[39;00m \u001b[38;5;28;43mself\u001b[39;49m\u001b[38;5;241;43m.\u001b[39;49m\u001b[43m__send\u001b[49m\u001b[43m(\u001b[49m\u001b[38;5;28;43mself\u001b[39;49m\u001b[38;5;241;43m.\u001b[39;49m\u001b[43m__name\u001b[49m\u001b[43m,\u001b[49m\u001b[43m \u001b[49m\u001b[43margs\u001b[49m\u001b[43m,\u001b[49m\u001b[43m \u001b[49m\u001b[43mkwargs\u001b[49m\u001b[43m)\u001b[49m\n\u001b[0;32m    186\u001b[0m     \u001b[38;5;28;01mexcept\u001b[39;00m (errors\u001b[38;5;241m.\u001b[39mConnectionClosedError, errors\u001b[38;5;241m.\u001b[39mTimeoutError):\n\u001b[0;32m    187\u001b[0m         \u001b[38;5;66;03m# only retry for recoverable network errors\u001b[39;00m\n\u001b[0;32m    188\u001b[0m         \u001b[38;5;28;01mif\u001b[39;00m attempt \u001b[38;5;241m>\u001b[39m\u001b[38;5;241m=\u001b[39m \u001b[38;5;28mself\u001b[39m\u001b[38;5;241m.\u001b[39m__max_retries:\n\u001b[0;32m    189\u001b[0m             \u001b[38;5;66;03m# last attempt, raise the exception\u001b[39;00m\n",
      "File \u001b[1;32mc:\\Users\\slab\\.conda\\envs\\slab\\lib\\site-packages\\Pyro4\\core.py:453\u001b[0m, in \u001b[0;36mProxy._pyroInvoke\u001b[1;34m(self, methodname, vargs, kwargs, flags, objectId)\u001b[0m\n\u001b[0;32m    451\u001b[0m     \u001b[38;5;28;01mreturn\u001b[39;00m \u001b[38;5;28;01mNone\u001b[39;00m  \u001b[38;5;66;03m# oneway call, no response data\u001b[39;00m\n\u001b[0;32m    452\u001b[0m \u001b[38;5;28;01melse\u001b[39;00m:\n\u001b[1;32m--> 453\u001b[0m     msg \u001b[38;5;241m=\u001b[39m \u001b[43mmessage\u001b[49m\u001b[38;5;241;43m.\u001b[39;49m\u001b[43mMessage\u001b[49m\u001b[38;5;241;43m.\u001b[39;49m\u001b[43mrecv\u001b[49m\u001b[43m(\u001b[49m\u001b[38;5;28;43mself\u001b[39;49m\u001b[38;5;241;43m.\u001b[39;49m\u001b[43m_pyroConnection\u001b[49m\u001b[43m,\u001b[49m\u001b[43m \u001b[49m\u001b[43m[\u001b[49m\u001b[43mmessage\u001b[49m\u001b[38;5;241;43m.\u001b[39;49m\u001b[43mMSG_RESULT\u001b[49m\u001b[43m]\u001b[49m\u001b[43m,\u001b[49m\u001b[43m \u001b[49m\u001b[43mhmac_key\u001b[49m\u001b[38;5;241;43m=\u001b[39;49m\u001b[38;5;28;43mself\u001b[39;49m\u001b[38;5;241;43m.\u001b[39;49m\u001b[43m_pyroHmacKey\u001b[49m\u001b[43m)\u001b[49m\n\u001b[0;32m    454\u001b[0m     \u001b[38;5;28;01mif\u001b[39;00m config\u001b[38;5;241m.\u001b[39mLOGWIRE:\n\u001b[0;32m    455\u001b[0m         _log_wiredata(log, \u001b[38;5;124m\"\u001b[39m\u001b[38;5;124mproxy wiredata received\u001b[39m\u001b[38;5;124m\"\u001b[39m, msg)\n",
      "File \u001b[1;32mc:\\Users\\slab\\.conda\\envs\\slab\\lib\\site-packages\\Pyro4\\message.py:168\u001b[0m, in \u001b[0;36mMessage.recv\u001b[1;34m(cls, connection, requiredMsgTypes, hmac_key)\u001b[0m\n\u001b[0;32m    160\u001b[0m \u001b[38;5;129m@classmethod\u001b[39m\n\u001b[0;32m    161\u001b[0m \u001b[38;5;28;01mdef\u001b[39;00m \u001b[38;5;21mrecv\u001b[39m(\u001b[38;5;28mcls\u001b[39m, connection, requiredMsgTypes\u001b[38;5;241m=\u001b[39m\u001b[38;5;28;01mNone\u001b[39;00m, hmac_key\u001b[38;5;241m=\u001b[39m\u001b[38;5;28;01mNone\u001b[39;00m):\n\u001b[0;32m    162\u001b[0m \u001b[38;5;250m    \u001b[39m\u001b[38;5;124;03m\"\"\"\u001b[39;00m\n\u001b[0;32m    163\u001b[0m \u001b[38;5;124;03m    Receives a pyro message from a given connection.\u001b[39;00m\n\u001b[0;32m    164\u001b[0m \u001b[38;5;124;03m    Accepts the given message types (None=any, or pass a sequence).\u001b[39;00m\n\u001b[0;32m    165\u001b[0m \u001b[38;5;124;03m    Also reads annotation chunks and the actual payload data.\u001b[39;00m\n\u001b[0;32m    166\u001b[0m \u001b[38;5;124;03m    Validates a HMAC chunk if present.\u001b[39;00m\n\u001b[0;32m    167\u001b[0m \u001b[38;5;124;03m    \"\"\"\u001b[39;00m\n\u001b[1;32m--> 168\u001b[0m     msg \u001b[38;5;241m=\u001b[39m \u001b[38;5;28mcls\u001b[39m\u001b[38;5;241m.\u001b[39mfrom_header(\u001b[43mconnection\u001b[49m\u001b[38;5;241;43m.\u001b[39;49m\u001b[43mrecv\u001b[49m\u001b[43m(\u001b[49m\u001b[38;5;28;43mcls\u001b[39;49m\u001b[38;5;241;43m.\u001b[39;49m\u001b[43mheader_size\u001b[49m\u001b[43m)\u001b[49m)\n\u001b[0;32m    169\u001b[0m     msg\u001b[38;5;241m.\u001b[39mhmac_key \u001b[38;5;241m=\u001b[39m hmac_key\n\u001b[0;32m    170\u001b[0m     \u001b[38;5;28;01mif\u001b[39;00m \u001b[38;5;241m0\u001b[39m \u001b[38;5;241m<\u001b[39m config\u001b[38;5;241m.\u001b[39mMAX_MESSAGE_SIZE \u001b[38;5;241m<\u001b[39m (msg\u001b[38;5;241m.\u001b[39mdata_size \u001b[38;5;241m+\u001b[39m msg\u001b[38;5;241m.\u001b[39mannotations_size):\n",
      "File \u001b[1;32mc:\\Users\\slab\\.conda\\envs\\slab\\lib\\site-packages\\Pyro4\\socketutil.py:463\u001b[0m, in \u001b[0;36mSocketConnection.recv\u001b[1;34m(self, size)\u001b[0m\n\u001b[0;32m    462\u001b[0m \u001b[38;5;28;01mdef\u001b[39;00m \u001b[38;5;21mrecv\u001b[39m(\u001b[38;5;28mself\u001b[39m, size):\n\u001b[1;32m--> 463\u001b[0m     \u001b[38;5;28;01mreturn\u001b[39;00m \u001b[43mreceiveData\u001b[49m\u001b[43m(\u001b[49m\u001b[38;5;28;43mself\u001b[39;49m\u001b[38;5;241;43m.\u001b[39;49m\u001b[43msock\u001b[49m\u001b[43m,\u001b[49m\u001b[43m \u001b[49m\u001b[43msize\u001b[49m\u001b[43m)\u001b[49m\n",
      "File \u001b[1;32mc:\\Users\\slab\\.conda\\envs\\slab\\lib\\site-packages\\Pyro4\\socketutil.py:171\u001b[0m, in \u001b[0;36mreceiveData\u001b[1;34m(sock, size)\u001b[0m\n\u001b[0;32m    168\u001b[0m \u001b[38;5;28;01mtry\u001b[39;00m:\n\u001b[0;32m    169\u001b[0m     \u001b[38;5;28;01mwhile\u001b[39;00m msglen \u001b[38;5;241m<\u001b[39m size:\n\u001b[0;32m    170\u001b[0m         \u001b[38;5;66;03m# 60k buffer limit avoids problems on certain OSes like VMS, Windows\u001b[39;00m\n\u001b[1;32m--> 171\u001b[0m         chunk \u001b[38;5;241m=\u001b[39m \u001b[43msock\u001b[49m\u001b[38;5;241;43m.\u001b[39;49m\u001b[43mrecv\u001b[49m\u001b[43m(\u001b[49m\u001b[38;5;28;43mmin\u001b[39;49m\u001b[43m(\u001b[49m\u001b[38;5;241;43m60000\u001b[39;49m\u001b[43m,\u001b[49m\u001b[43m \u001b[49m\u001b[43msize\u001b[49m\u001b[43m \u001b[49m\u001b[38;5;241;43m-\u001b[39;49m\u001b[43m \u001b[49m\u001b[43mmsglen\u001b[49m\u001b[43m)\u001b[49m\u001b[43m)\u001b[49m\n\u001b[0;32m    172\u001b[0m         \u001b[38;5;28;01mif\u001b[39;00m \u001b[38;5;129;01mnot\u001b[39;00m chunk:\n\u001b[0;32m    173\u001b[0m             \u001b[38;5;28;01mbreak\u001b[39;00m\n",
      "\u001b[1;31mKeyboardInterrupt\u001b[0m: "
     ]
    }
   ],
   "source": [
    "# saved_files = []\n",
    "qramExpt = meas.QramProtocol1QTomoExperiment(\n",
    "    soccfg=soc,\n",
    "    path=expt_path,\n",
    "    config_file=config_path,\n",
    ")\n",
    "\n",
    "span = np.inf\n",
    "npts = 1\n",
    "if span < np.inf: print('time step size [cycles]:', soc.us2cycles(span/npts))\n",
    "\n",
    "qramExpt.cfg.expt = dict(\n",
    "    start=span,\n",
    "    step=0,\n",
    "    expts=1, # number of different time experiments\n",
    "    reps=10000, # number of reps per tomo/time step,\n",
    "    # reps=2000000, # number of reps per tomo/time step,\n",
    "    singleshot_reps=10000, # reps per state for singleshot calibration\n",
    "    post_process='threshold', \n",
    "    qubit=qubit,\n",
    "    init_state=init_state,\n",
    "    play_pulses=play_pulses,\n",
    "    cool_qubits=cool_qubits,\n",
    "    use_IQ_pulse=use_IQ_pulse, # state transfer IQ pulses for the state prep\n",
    "    use_robust_pulses=use_robust_pulses, # use robust pulses for state prep + tomo\n",
    "    plot_IQ=False,\n",
    "    add_phase=add_phase,\n",
    "    ZZ_qubit=ZZ_qubit,\n",
    "    pi_half_swaps=pi_half_swaps,\n",
    "    resonator_reset=[0, 2, 3],\n",
    "    full_mux_expt = True,  \n",
    "\n",
    "    \n",
    ")\n",
    "\n",
    "try:\n",
    "    qramExpt.acquire(progress=True, debug=False)\n",
    "except Exception:\n",
    "    print(\"Pyro traceback:\")\n",
    "    print(\"\".join(Pyro4.util.getPyroTraceback()))"
   ]
  },
  {
   "cell_type": "code",
   "execution_count": 162,
   "metadata": {},
   "outputs": [],
   "source": [
    "tomo = qramExpt\n"
   ]
  },
  {
   "cell_type": "code",
   "execution_count": 163,
   "metadata": {},
   "outputs": [
    {
     "name": "stdout",
     "output_type": "stream",
     "text": [
      "meas_order ['Z' 'X' 'Y']\n",
      "Tomography counts\n",
      "[[0.5135 0.4865]\n",
      " [0.4983 0.5017]\n",
      " [0.7746 0.2254]]\n",
      "Confusion matrix counts\n",
      "[[0.7675 0.2325]\n",
      " [0.2161 0.7839]]\n",
      "Confusion matrix corrected tomo matrix will be\n",
      "[[ 0.53935  0.46065]\n",
      " [ 0.51179  0.48821]\n",
      " [ 1.      -0.     ]]\n"
     ]
    }
   ],
   "source": [
    "data = tomo.data\n",
    "cfg = tomo.cfg\n",
    "init_state = tomo.cfg.expt.init_state\n",
    "qubit = tomo.cfg.expt.qubit\n",
    "pulse_dict = tomo.pulse_dict\n",
    "assert np.all(np.array(tomo.meas_order) == tomo_analysis.meas_order)\n",
    "\n",
    "print('meas_order', meas_order)\n",
    "\n",
    "n_tomo_raw, n_calib = tomo_analysis.n_tomo_calib_from_data(data=data, cfg=cfg, ps_adjust=ps_adjust, ps_qubits=ps_qubits, tomo_qubits=[qubit], apply_ps=apply_ps, verbose=True)\n",
    "\n",
    "print('Tomography counts')\n",
    "for r in range(n_tomo_raw.shape[0]):\n",
    "    n_tomo_raw[r,:]/=np.sum(n_tomo_raw[r,:])\n",
    "print(n_tomo_raw)\n",
    "print('Confusion matrix counts')\n",
    "for r in range(n_calib.shape[0]):\n",
    "    n_calib[r,:]/=np.sum(n_calib[r,:])\n",
    "print(n_calib)\n",
    "print('Confusion matrix corrected tomo matrix will be')\n",
    "print(np.around(tomo_analysis.correct_readout_err(n_tomo_raw, n_calib), decimals=5))\n",
    "# print('Negative counts corrected tomo matrix will be')\n",
    "# print(tomo_analysis.fix_neg_counts(tomo_analysis.correct_readout_err(n_tomo_raw, n_calib)))"
   ]
  },
  {
   "cell_type": "code",
   "execution_count": 164,
   "metadata": {},
   "outputs": [
    {
     "name": "stdout",
     "output_type": "stream",
     "text": [
      "Fidelity (no ZZ correction): 0.5117485962979553\n",
      "Purity (no ZZ correction): 1.0\n",
      "[[0.539+0.j    0.012-0.498j]\n",
      " [0.012+0.498j 0.461+0.j   ]]\n"
     ]
    }
   ],
   "source": [
    "# methods = 'Nelder-Mead' 'Powell' 'CG' 'BFGS' 'Newton-CG' 'L-BFGS-B' 'TNC' 'COBYLA' 'SLSQP' 'dogleg' 'trust-ncg'\n",
    "rho_MLE = tomo_analysis.get_rho_from_counts(\n",
    "    n_tomo_raw=n_tomo_raw,\n",
    "    n_calib=n_calib,\n",
    "    correct_readout=True,\n",
    "    correct_neg_counts=True,\n",
    "    method='analytical',\n",
    "    ZZ_correction=False,\n",
    ")\n",
    "\n",
    "if rho_MLE is not None:\n",
    "    fid_base = qt.fidelity(qt.Qobj(rho_MLE, dims=rho_id.dims), rho_id)**2 # qutip uses N&C fidelity which is \"sqrt fidelity\"\n",
    "    purity_base = np.real(np.trace(rho_MLE @ rho_MLE))\n",
    "    print(f'Fidelity (no ZZ correction): {fid_base}')\n",
    "    print(f'Purity (no ZZ correction): {purity_base}')\n",
    "print(np.around(rho_MLE, decimals=3))\n",
    "savetitle=None\n",
    "# savetitle=saved_files[-1][:-3]+f'_baseMLE_Q{qubit}.svg'\n",
    "tomo_analysis.show_plot_rho_2d(rho_MLE, rho_id.full(), title=f'Base MLE (Q{qubit}) Init {init_state}, Play {play_pulses}', cmax=0.5, savetitle=savetitle)\n",
    "\n",
    "# print('Saved svg:', savetitle)\n",
    "# print('Saved data:')\n",
    "# print(*saved_files)"
   ]
  },
  {
   "cell_type": "markdown",
   "metadata": {},
   "source": [
    "## run the 2Q tomo"
   ]
  },
  {
   "cell_type": "code",
   "execution_count": 333,
   "metadata": {},
   "outputs": [],
   "source": [
    "tomo_analysis = TomoAnalysis(nb_qubits=2)"
   ]
  },
  {
   "cell_type": "code",
   "execution_count": 157,
   "metadata": {},
   "outputs": [],
   "source": [
    "def name_to_state_2q(init_state): # in format |QA>|QB>\n",
    "    Qa, Qb, _ = init_state.split('>')\n",
    "    Qa = Qa[1:]\n",
    "    Qb = Qb[1:]\n",
    "    psi_name_dict = {\n",
    "        '0':psiZ[0],\n",
    "        '1':psiZ[1],\n",
    "        '0+1':(psiZ[0]+psiZ[1]).unit(),\n",
    "        '0-1':(psiZ[0]-psiZ[1]).unit(), \n",
    "        '0+i':(psiZ[0]+1j*psiZ[1]).unit(), \n",
    "        '0-i':(psiZ[0]-1j*psiZ[1]).unit(), \n",
    "    }\n",
    "    try:\n",
    "        psiA = psi_name_dict[Qa]\n",
    "    except:\n",
    "        print(f'QA state {Qa} is not an allowed cardinal state')\n",
    "    try:\n",
    "        psiB = psi_name_dict[Qb]\n",
    "    except:\n",
    "        print(f'QB state {Qb} is not an allowed cardinal state')\n",
    "    return qt.tensor(psiA, psiB)\n",
    "\n",
    "    \n",
    "psi_basis_3q = dict() # 27*8 elements\n",
    "# psi_tensor = [psiZ[0], psiZ[0], psiZ[0], psiZ[0]]\n",
    "S123 = 'ZZZ'\n",
    "S1, S2, S3 = S123\n",
    "psi1 = psi_dict[S1]\n",
    "psi2 = psi_dict[S2]\n",
    "psi3 = psi_dict[S3]\n",
    "\n",
    "psi_basis_3q.update({S123:[]})\n",
    "\n",
    "for state1 in (0,1):\n",
    "    for state2 in (0,1):\n",
    "        for state3 in (0,1):\n",
    "            psi_basis_3q[S123].append(qt.tensor(psi1[state1], psi2[state2], psi3[state3]).unit())\n",
    "calib_order_numeric_3q = ['000', '001', '010', '011', '100', '101', '110', '111']\n",
    "psis = dict() # psis in the ZZZ basis\n",
    "for i, label_numeric in enumerate(calib_order_numeric_3q):\n",
    "    psis.update({label_numeric:psi_basis_3q['ZZZ'][i]})\n",
    "id3q = qt.tensor(qt.qeye(2), qt.qeye(2), qt.qeye(2))\n",
    "\n",
    "def get_qram_qSLR_state_from_rho(init_rho_IS, output_qubits, post_select=False, post_select_state=None):\n",
    "    \"\"\"\n",
    "    init_rho_IS should be a np array\n",
    "    outputs partial trace of qram output (needs output_qubits to all be in 0, 2, and/or 3 to work)\n",
    "    \"\"\"\n",
    "    # in order |00>, |01>, |10>, |11> for switch, input\n",
    "    SI_to_SLR = [psis['000'], -1j*psis['010'], psis['100'], -1j*psis['101']]\n",
    "\n",
    "    assert np.all([q in [0, 2, 3] for q in output_qubits])\n",
    "    assert np.shape(init_rho_IS) == id2q.shape\n",
    "    rho_final_SLR = 0*qt.ket2dm(psis['000'])\n",
    "    print(f'constructing final state on |Q{output_qubits[0]}, Q{output_qubits[1]}>')\n",
    "    for i in range(len(SI_to_SLR)):\n",
    "        slr_ket_i = SI_to_SLR[i]\n",
    "        for j in range(len(SI_to_SLR)):\n",
    "            slr_ket_j = SI_to_SLR[j]\n",
    "            mat_el = init_rho_IS[i, j]\n",
    "            rho_final_SLR += mat_el * slr_ket_i * slr_ket_j.dag()\n",
    "    output_indices = [[0,2,3].index(q) for q in output_qubits]\n",
    "    return qt.ptrace(rho_final_SLR.unit(), output_indices)"
   ]
  },
  {
   "cell_type": "code",
   "execution_count": 183,
   "metadata": {},
   "outputs": [
    {
     "name": "stdout",
     "output_type": "stream",
     "text": [
      "init_state |1>|1>\n",
      "post select False\n",
      "Will save evol mats to path S:\\QRAM\\qram_4QR2\\evol_mats\n"
     ]
    }
   ],
   "source": [
    "tomo_qubits = [0, 3] # which qubit/resonators to do tomo on\n",
    "\n",
    "init_state = '|1>|1>' # Q0/Q1 (switch, input)\n",
    "# init_state = 'Q3Q0_|1>|1>'\n",
    "# init_state = '|1>|0>' # Q0/Q1 (switch, input)\n",
    "# init_state = 'Q2Q0_|1>|0>'\n",
    "# init_state = '|1>|1>' # Q0/Q1 (switch, input)\n",
    "# play_pulses = [2, 1, 4, 3] # 1: Q2/Q1 with Q0 in g, 2: Q3/Q1 with Q0 in e, 3: Q2 ef pulse, 4: Q3 ef pulse [2, 1, 4, 3]\n",
    "# play_pulses = [2, 4] # 1: Q2/Q1 with Q0 in g, 2: Q3/Q1 with Q0 in e, 3: Q2 ef pulse, 4: Q3 ef pulse [2, 1, 4, 3]\n",
    "# play_pulses = [1, 3] # 1: Q2/Q1 with Q0 in g, 2: Q3/Q1 with Q0 in e, 3: Q2 ef pulse, 4: Q3 ef pulse [2, 1, 4, 3]\n",
    "play_pulses = [2, 4] # 1: Q2/Q1 with Q0 in g, 2: Q3/Q1 with Q0 in e, 3: Q2 ef pulse, 4: Q3 ef pulse [2, 1, 4, 3]\n",
    "# play_pulses = [2]*8 # 1: Q2/Q1 with Q0 in g, 2: Q3/Q1 with Q0 in e, 3: Q2 ef pulse, 4: Q3 ef pulse [2, 1, 4, 3]\n",
    "\n",
    "# cool_qubits = [0, 1]\n",
    "cool_qubits = None\n",
    "\n",
    "\n",
    "readout_cool = False\n",
    "\n",
    "use_IQ_pulse = False # state transfer IQ pulses for the state prep\n",
    "use_robust_pulses = True # use robust pulses for state prep + tomo\n",
    "\n",
    "post_select = False # this is not the readout post selection\n",
    "\n",
    "# add_phase = True # phase for swaps\n",
    "add_phase = False\n",
    "print('init_state', init_state)\n",
    "print('post select', post_select)\n",
    "ps_adjust = [-0.3, -1.0, -0.3, -0.3]\n",
    "# ps_adjust = [np.inf]*4\n",
    "ps_qubits = [0, 1, 2, 3]\n",
    "use_ZZ_mat = True\n",
    "\n",
    "rho_id = qt.ket2dm(name_to_state_2q(init_state))\n",
    "\n",
    "evol_mats_path = \"S:\\\\QRAM\\\\qram_4QR2\\\\evol_mats\"\n",
    "print('Will save evol mats to path', evol_mats_path)\n",
    "\n",
    "q0, q1 = tomo_qubits\n",
    "evol_mats_filename = f'evol_mats_{q0}{q1}.npz'\n"
   ]
  },
  {
   "cell_type": "code",
   "execution_count": null,
   "metadata": {},
   "outputs": [
    {
     "name": "stdout",
     "output_type": "stream",
     "text": [
      "timesteps [inf]\n"
     ]
    },
    {
     "data": {
      "application/vnd.jupyter.widget-view+json": {
       "model_id": "166642790c8b436485557ef3eed402f3",
       "version_major": 2,
       "version_minor": 0
      },
      "text/plain": [
       "  0%|          | 0/4 [00:00<?, ?it/s]"
      ]
     },
     "metadata": {},
     "output_type": "display_data"
    },
    {
     "name": "stdout",
     "output_type": "stream",
     "text": [
      "Qubit (0)\n",
      "ge fidelity (%): 80.52613582669782 \t angle (deg): 0.0 \t threshold ge: 199.38432887236567\n",
      "Qubit (3)\n",
      "ge fidelity (%): 77.03611626395328 \t angle (deg): 0.0 \t threshold ge: 156.4709904295018\n",
      "thresholds=[199.38432887236567, 0, 0, 156.4709904295018],\n",
      "angles=[0.0, 0, 0, 0.0],\n",
      "ge_avgs=[[-0.48416784987794964, -0.22586400528885264, -1.0100670158665583, -0.5556716537835638], array([0., 0., 0., 0.]), array([0., 0., 0., 0.]), [-0.5525648291293735, -0.7596425040683481, -0.3006806753458099, -0.7708194161920257]],\n",
      "counts_calib=[[64520, 7924, 6716, 840], [8730, 63273, 915, 7082], [7125, 926, 63640, 8309], [1007, 6956, 8858, 63179]]\n"
     ]
    },
    {
     "data": {
      "application/vnd.jupyter.widget-view+json": {
       "model_id": "99deafb3302f42f5ab426c9de3d76117",
       "version_major": 2,
       "version_minor": 0
      },
      "text/plain": [
       "  0%|          | 0/1 [00:00<?, ?it/s]"
      ]
     },
     "metadata": {},
     "output_type": "display_data"
    },
    {
     "data": {
      "application/vnd.jupyter.widget-view+json": {
       "model_id": "1bb29f2b262040f294f01c914b47eb9b",
       "version_major": 2,
       "version_minor": 0
      },
      "text/plain": [
       "  0%|          | 0/9 [00:00<?, ?it/s]"
      ]
     },
     "metadata": {},
     "output_type": "display_data"
    },
    {
     "name": "stdout",
     "output_type": "stream",
     "text": [
      "ZZ [ 5077  3316 11483 60124]\n",
      "ZX [ 3810  4563 33499 38128]\n",
      "ZY [ 3942  4331 33057 38670]\n",
      "XZ [ 5857 30367 10285 33491]\n",
      "XX [16774 19317 20432 23477]\n",
      "XY [16631 19436 20361 23572]\n",
      "YZ [ 5378 31512 10929 32181]\n",
      "YX [16964 19080 20522 23434]\n",
      "YY [16659 19522 19735 24084]\n"
     ]
    }
   ],
   "source": [
    "qramExpt = meas.QramProtocolExperiment(\n",
    "        soccfg=soc,\n",
    "        path=expt_path,\n",
    "        config_file=config_path,)\n",
    "\n",
    "\n",
    "qramExpt.cfg.expt = dict(\n",
    "        # start=0, # start protocol time [us],\n",
    "        # step=span/npts, # time step [us], \n",
    "        # expts=npts+1, # number of different time experiments - added 1 to include 0 step and full span\n",
    "\n",
    "        start=np.inf,\n",
    "        step=0,\n",
    "        expts=1, # number of different time experiments\n",
    "        reps=80000, # number of reps per time step,\n",
    "        # singleshot_reps=100, # reps per state for singleshot calibration\n",
    "        singleshot_reps=80000, # reps per state for singleshot calibration\n",
    "        post_process='threshold', # 'threshold', (uses single shot binning), 'scale' (scale by ge_avgs), or None\n",
    "        tomo_2q=True, # True/False whether to do 2q state tomography on state at last time step\n",
    "        tomo_qubits=tomo_qubits, # the qubits on which to do the 2q state tomo\n",
    "        calib_apply_q1_pi2=False, # initialize Q1 to 0+1 for all calibrations\n",
    "        init_state=init_state,\n",
    "        play_pulses=play_pulses,\n",
    "        cool_qubits=cool_qubits,\n",
    "        \n",
    "        use_IQ_pulse=use_IQ_pulse, # state transfer IQ pulses for the state prep\n",
    "        use_robust_pulses=use_robust_pulses, # use robust pulses for state prep + tomo\n",
    "        plot_IQ=False,\n",
    "        full_mux_expt = True,\n",
    "        resonator_reset=[0, 2, 3],\n",
    "        \n",
    "        add_phase=add_phase,\n",
    "        \n",
    "        # readout_cool=readout_cool,\n",
    "        # n_init_readout=1,\n",
    "        # n_trig=1,\n",
    "        # # init_read_wait_us=5,\n",
    "        # init_read_wait_us=10,\n",
    "        \n",
    "        # Icontrols=I_values_MHz, # 2D array with array of Icontrols for each of IQ_qubits\n",
    "        # Qcontrols=Q_values_MHz, # 2D array with array of Qcontrols for each of IQ_qubits\n",
    "        # times_us=times_us,\n",
    "        # IQ_qubits=IQ_qubits,\n",
    "        # IQ_gain=[3700, 3950],\n",
    "        \n",
    "        # thresholds=[33.169103683345895, 37.49913270024612, 0, 0],\n",
    "        # angles=[-24.579056838557847, 115.19639444481155, 0, 0],\n",
    "        # ge_avgs=[[34.43056101813111, -9.525004532775455, 44.589988819153874, -4.651175313807532], [30.053312459336368, -50.17723301886793, 25.548312166558233, -59.65660634352635], array([0., 0., 0., 0.]), array([0., 0., 0., 0.])],\n",
    "        # counts_calib=[[12553, 5207, 1604, 636], [4673, 12956, 666, 1705], [2241, 876, 12383, 4500], [918, 2095, 4712, 12275]]\n",
    " \n",
    "    )\n",
    "\n",
    "    # print(qramExpt.cfg)\n",
    "\n",
    "import Pyro4.util\n",
    "try:\n",
    "    qramExpt.acquire(progress=True, debug=False)\n",
    "except Exception:\n",
    "    print(\"Pyro traceback:\")\n",
    "    print(\"\".join(Pyro4.util.getPyroTraceback()))"
   ]
  },
  {
   "cell_type": "code",
   "execution_count": 193,
   "metadata": {},
   "outputs": [],
   "source": [
    "tomo = qramExpt\n",
    "data = tomo.data\n",
    "cfg = tomo.cfg\n",
    "init_state = tomo.cfg.expt.init_state\n",
    "# qubit = tomo.cfg.expt.qubit\n",
    "pulse_dict = tomo.pulse_dict\n",
    "assert np.all(np.array(tomo.meas_order) == tomo_analysis.meas_order)\n"
   ]
  },
  {
   "cell_type": "code",
   "execution_count": 194,
   "metadata": {},
   "outputs": [],
   "source": [
    "# run_evol = True \n",
    "\n",
    "# if run_evol:\n",
    "#     evol_mats = tomo_analysis.get_evol_mats_from_yaml(\n",
    "#         tomo_qubits=tomo_qubits,\n",
    "#         yaml_cfg=yaml_cfg,\n",
    "#         pulse_dict=pulse_dict,\n",
    "#         cutoffs=[4]*(len(tomo_qubits)),\n",
    "#         soccfg=soc,\n",
    "#         debug=False,\n",
    "#         evol_mats_path=evol_mats_path,\n",
    "#         evol_mats_filename=evol_mats_filename,\n",
    "#     )\n",
    "    \n",
    "\n",
    "    \n",
    "# else:\n",
    "#     evol_mats_file_path = os.path.join(evol_mats_path, evol_mats_filename)\n",
    "#     print(f'Using evol mats from file {evol_mats_file_path}')\n",
    "\n",
    "#     evol_mats = dict()\n",
    "#     with np.load(evol_mats_file_path) as npzfile:\n",
    "#         for key in npzfile.keys():\n",
    "#             evol_mats.update({key:npzfile[key]})"
   ]
  },
  {
   "cell_type": "code",
   "execution_count": 195,
   "metadata": {},
   "outputs": [
    {
     "name": "stdout",
     "output_type": "stream",
     "text": [
      "[[ 0.04374757+0.j         -0.00398393+0.00073304j -0.02430014+0.03304864j\n",
      "  -0.00534741-0.00484951j]\n",
      " [-0.00398393-0.00073304j  0.00096019+0.j          0.00385215-0.00134036j\n",
      "  -0.0226617 -0.00039953j]\n",
      " [-0.02430014-0.03304864j  0.00385215+0.00134036j  0.04320009+0.j\n",
      "  -0.04549452+0.05476344j]\n",
      " [-0.00534741+0.00484951j -0.0226617 +0.00039953j -0.04549452-0.05476344j\n",
      "   0.91209215+0.j        ]]\n",
      "list format [[(0.0437476+0j), (-0.0039839+0.000733j), (-0.0243001+0.0330486j), (-0.0053474-0.0048495j)], [(-0.0039839-0.000733j), (0.0009602+0j), (0.0038521-0.0013404j), (-0.0226617-0.0003995j)], [(-0.0243001-0.0330486j), (0.0038521+0.0013404j), (0.0432001+0j), (-0.0454945+0.0547634j)], [(-0.0053474+0.0048495j), (-0.0226617+0.0003995j), (-0.0454945-0.0547634j), (0.9120922+0j)]]\n",
      "Fidelity (with ZZ correction): 0.9120921607693642\n",
      "Purity (with ZZ correction): 0.8503938462202524\n",
      "Target purity: 1.0\n"
     ]
    }
   ],
   "source": [
    "n_tomo_raw, n_calib = tomo_analysis.n_tomo_calib_from_data(data, cfg, ps_adjust=ps_adjust, ps_qubits=ps_qubits, apply_ps=apply_ps, verbose=True)\n",
    "\n",
    "# print('Tomography counts')\n",
    "# for r in range(n_tomo_raw.shape[0]):\n",
    "#     n_tomo_raw[r,:]/=np.sum(n_tomo_raw[r,:])\n",
    "# print(n_tomo_raw)\n",
    "# print('Confusion matrix counts')\n",
    "# for r in range(n_calib.shape[0]):\n",
    "#     n_calib[r,:]/=np.sum(n_calib[r,:])\n",
    "# print(n_calib)\n",
    "# print('Confusion matrix corrected tomo matrix will be')\n",
    "# print(np.around(tomo_analysis.correct_readout_err(n_tomo_raw, n_calib), decimals=5))\n",
    "    \n",
    "rho_MLE_ZZ = tomo_analysis.get_rho_from_counts(\n",
    "        n_tomo_raw=n_tomo_raw,\n",
    "        n_calib=n_calib,\n",
    "        correct_readout=True,\n",
    "        correct_neg_counts=True,\n",
    "        method='analytical',\n",
    "        ZZ_correction=False,\n",
    "        evol_mats=None\n",
    "    )\n",
    "\n",
    "print(np.around(rho_MLE_ZZ, decimals=10))\n",
    "print('list format', np.around(rho_MLE_ZZ, decimals=7).tolist())\n",
    "fid_ZZ = qt.fidelity(qt.Qobj(rho_MLE_ZZ, dims=rho_id.dims), rho_id)**2 # qutip uses N&C fidelity which is \"sqrt fidelity\"\n",
    "purity_ZZ = np.real(np.trace(rho_MLE_ZZ @ rho_MLE_ZZ))\n",
    "purity_id = np.real(np.trace(rho_id.full() @ rho_id.full()))\n",
    "print(f'Fidelity (with ZZ correction): {fid_ZZ}')\n",
    "print(f'Purity (with ZZ correction): {purity_ZZ}')\n",
    "print(f'Target purity: {purity_id}')\n",
    "\n",
    "tomo_analysis.show_plot_rho_2d(rho_MLE_ZZ, rho_id.full(), title=f'ZZ MLE (Q{q0}Q{q1}) Init {init_state}, Play {play_pulses}', cmax=0.5, size=(6,6))"
   ]
  },
  {
   "cell_type": "markdown",
   "metadata": {},
   "source": [
    "# 3q tomography"
   ]
  },
  {
   "cell_type": "code",
   "execution_count": 13,
   "metadata": {},
   "outputs": [],
   "source": [
    "tomo_analysis = TomoAnalysis(nb_qubits=3)"
   ]
  },
  {
   "cell_type": "code",
   "execution_count": 23,
   "metadata": {},
   "outputs": [
    {
     "name": "stdout",
     "output_type": "stream",
     "text": [
      "init_states |0>|1>\n",
      "protocol_play [2, 1, 4, 3]\n",
      "sync between swaps False\n",
      "sync between efs False\n",
      "readout cool True\n",
      "use robust pulses True\n",
      "save data False\n",
      "WARNING!! YOU ARE NOT SAVING DATA!\n"
     ]
    }
   ],
   "source": [
    "# init_states = ['|0+1>|0>', '|0>|0+1>', '|1>|0+1>', '|0+1>|1>', '|0+1>|0+1>', '|0>|0>', '|1>|0>', '|1>|1>', '|0>|1>']\n",
    "init_state = '|0>|1>'\n",
    "# init_states = ['|0+1>|0>', '|0>|0+1>', '|1>|0+1>', '|0+1>|1>', '|0+1>|0+1>']\n",
    "# init_states = ['|0+1>|0>', '|0>|0+1>', '|1>|0+1>', '|0+1>|1>']\n",
    "# init_states = ['|0+1>|0+1>']\n",
    "protocol_play =  [2, 1, 4, 3] # 1: Q2/Q1 with Q0 in g, 2: Q3/Q1 with Q0 in e, 3: Q2 ef pulse, 4: Q3 ef pulse [2, 1, 4, 3]\n",
    "# protocol_play = [2, 1, 4, 3] # 1: Q2/Q1 with Q0 in g, 2: Q3/Q1 with Q0 in e, 3: Q2 ef pulse, 4: Q3 ef pulse [2, 1, 4, 3]\n",
    "\n",
    "sync_between_swaps = False\n",
    "sync_between_efs = False\n",
    "\n",
    "tomo_qubits = [0, 2, 3] # which qubit/resonators to do tomo on\n",
    "save_data = False\n",
    "saved_files = []\n",
    "# cool_qubits = [0, 1]\n",
    "cool_qubits = None\n",
    "\n",
    "readout_cool = True\n",
    "\n",
    "use_IQ_pulse = False # state transfer IQ pulses for the state prep\n",
    "use_robust_pulses = True # use robust pulses for state prep + tomo\n",
    "\n",
    "print('init_states', init_state)\n",
    "print('protocol_play', protocol_play)\n",
    "print('sync between swaps', sync_between_swaps)\n",
    "print('sync between efs', sync_between_efs)\n",
    "print('readout cool', readout_cool)\n",
    "print('use robust pulses', use_robust_pulses)\n",
    "print('save data', save_data)\n",
    "if not save_data:\n",
    "    print('WARNING!! YOU ARE NOT SAVING DATA!')"
   ]
  },
  {
   "cell_type": "code",
   "execution_count": 24,
   "metadata": {},
   "outputs": [],
   "source": [
    "qramExpt = meas.QramProtocol3QTomoExperiment(\n",
    "        soccfg=soc,\n",
    "        path=expt_path,\n",
    "        config_file=config_path,\n",
    "    )\n",
    "    \n",
    "qramExpt.cfg.expt = dict(\n",
    "        start=np.inf,\n",
    "        step=0,\n",
    "        expts=1, # number of different time experiments\n",
    "    \n",
    "        reps=10000, # number of reps per tomo/time step,\n",
    "        singleshot_reps=10000, # reps per state for singleshot calibration\n",
    "        # reps=100, # number of reps per tomo/time step,\n",
    "        # singleshot_reps=100, #000, # reps per state for singleshot calibration\n",
    "        post_process=None, # 'threshold', (uses single shot binning), 'scale' (scale by ge_avgs), or None\n",
    "        tomo_3q=True, # flag to perform tomo on last time step\n",
    "        tomo_qubits=tomo_qubits, # the qubits on which to do the 3q state tomo\n",
    "        init_state=init_state,\n",
    "        play_pulses=protocol_play, # [2, 1, 4, 3]\n",
    "        cool_qubits=cool_qubits,\n",
    "        sync_between_swaps=sync_between_swaps,\n",
    "        sync_between_efs=sync_between_efs,\n",
    "        \n",
    "        use_IQ_pulse=use_IQ_pulse, # state transfer IQ pulses for the state prep\n",
    "        use_robust_pulses=use_robust_pulses, # use robust pulses for state prep + tomo\n",
    "        plot_IQ=False,\n",
    "        \n",
    "        readout_cool=readout_cool,\n",
    "        n_init_readout=1,\n",
    "        n_trig=1,\n",
    "        init_read_wait_us=5,\n",
    "        \n",
    "        full_mux_expt = True,\n",
    "        resonator_reset=[0, 2, 3],\n",
    "    )\n",
    "    "
   ]
  },
  {
   "cell_type": "code",
   "execution_count": 25,
   "metadata": {},
   "outputs": [
    {
     "name": "stdout",
     "output_type": "stream",
     "text": [
      "timesteps [inf]\n"
     ]
    },
    {
     "data": {
      "application/vnd.jupyter.widget-view+json": {
       "model_id": "289dcacff5ee4c008c3e14670f398a61",
       "version_major": 2,
       "version_minor": 0
      },
      "text/plain": [
       "  0%|          | 0/8 [00:00<?, ?it/s]"
      ]
     },
     "metadata": {},
     "output_type": "display_data"
    },
    {
     "name": "stdout",
     "output_type": "stream",
     "text": [
      "Qubit  (0)\n",
      "ge fidelity (%): 78.54 \t angle (deg): 0.0 \t threshold ge: 201.2858490309512\n",
      "Qubit  (2)\n",
      "ge fidelity (%): 77.29897989798977 \t angle (deg): 0.0 \t threshold ge: 170.05504292763752\n",
      "Qubit  (3)\n",
      "ge fidelity (%): 78.17999999999998 \t angle (deg): 0.0 \t threshold ge: 158.84128751991108\n"
     ]
    },
    {
     "data": {
      "application/vnd.jupyter.widget-view+json": {
       "model_id": "5e9c1e6683044ac5a7fa7c9a1930a945",
       "version_major": 2,
       "version_minor": 0
      },
      "text/plain": [
       "  0%|          | 0/2 [00:00<?, ?it/s]"
      ]
     },
     "metadata": {},
     "output_type": "display_data"
    },
    {
     "name": "stdout",
     "output_type": "stream",
     "text": [
      "Qubit (1) ge\n",
      "ge fidelity (%): 46.900000000000006 \t angle (deg): 0.0 \t threshold ge: 305.9895327033461\n",
      "thresholds=[201.2858490309512, 305.9895327033461, 170.05504292763752, 158.84128751991108],\n",
      "angles=[0.0, 0.0, 0.0, 0.0],\n",
      "ge_avgs=[[-0.7258040683482506, -1.7960096013018712, -0.2833358014646052, -1.0991844589096824], [97.7890100081367, -239.19539804719287, 100.26817013832384, -319.480781448332], [-0.06396159479251423, -1.495033523189585, -1.6866366965012196, 0.18909820992676965], [-0.8383809601301871, -0.659814808787632, -0.21942620016273387, -1.339686737184703]] ,\n",
      "counts_calib=[[7065, 853, 767, 111, 875, 120, 140, 69], [828, 6914, 75, 915, 105, 911, 25, 227], [907, 123, 6840, 863, 124, 34, 915, 194], [107, 884, 811, 6933, 26, 114, 114, 1011], [742, 100, 89, 30, 7085, 880, 847, 227], [71, 675, 16, 110, 904, 7020, 103, 1101], [159, 26, 734, 112, 1052, 161, 6707, 1049], [18, 113, 111, 761, 115, 915, 883, 7084]]\n",
      "\n"
     ]
    },
    {
     "data": {
      "application/vnd.jupyter.widget-view+json": {
       "model_id": "810951a803894d1dafdc8934d1a663a5",
       "version_major": 2,
       "version_minor": 0
      },
      "text/plain": [
       "  0%|          | 0/1 [00:00<?, ?it/s]"
      ]
     },
     "metadata": {},
     "output_type": "display_data"
    },
    {
     "data": {
      "application/vnd.jupyter.widget-view+json": {
       "model_id": "90a9031390ff4a84bdd133b74de9d954",
       "version_major": 2,
       "version_minor": 0
      },
      "text/plain": [
       "  0%|          | 0/27 [00:00<?, ?it/s]"
      ]
     },
     "metadata": {},
     "output_type": "display_data"
    },
    {
     "name": "stdout",
     "output_type": "stream",
     "text": [
      "pi half swaps False\n",
      "pi half swaps False\n",
      "pi half swaps False\n",
      "pi half swaps False\n",
      "pi half swaps False\n",
      "pi half swaps False\n",
      "pi half swaps False\n",
      "pi half swaps False\n",
      "pi half swaps False\n",
      "pi half swaps False\n",
      "pi half swaps False\n",
      "pi half swaps False\n",
      "pi half swaps False\n",
      "pi half swaps False\n",
      "pi half swaps False\n",
      "pi half swaps False\n",
      "pi half swaps False\n",
      "pi half swaps False\n",
      "pi half swaps False\n",
      "pi half swaps False\n",
      "pi half swaps False\n",
      "pi half swaps False\n",
      "pi half swaps False\n",
      "pi half swaps False\n",
      "pi half swaps False\n",
      "pi half swaps False\n",
      "pi half swaps False\n"
     ]
    }
   ],
   "source": [
    "try:\n",
    "    qramExpt.acquire(progress=True, debug=False)\n",
    "    success = True\n",
    "except Exception:\n",
    "    print(\"Pyro traceback:\")\n",
    "    print(\"\".join(Pyro4.util.getPyroTraceback()))\n",
    "    \n",
    "if save_data: saved_files.append(qramExpt.save_data())"
   ]
  },
  {
   "cell_type": "code",
   "execution_count": 26,
   "metadata": {},
   "outputs": [],
   "source": [
    "# run_evol = True \n",
    "\n",
    "# if run_evol:\n",
    "#     evol_mats = tomo_analysis.get_evol_mats_from_yaml(\n",
    "#         tomo_qubits=tomo_qubits,\n",
    "#         yaml_cfg=yaml_cfg,\n",
    "#         pulse_dict=pulse_dict,\n",
    "#         cutoffs=[4]*(len(tomo_qubits)),\n",
    "#         soccfg=soc,\n",
    "#         debug=False,\n",
    "#         evol_mats_path=evol_mats_path,\n",
    "#         evol_mats_filename=evol_mats_filename,\n",
    "#     )\n",
    "    "
   ]
  },
  {
   "cell_type": "code",
   "execution_count": 27,
   "metadata": {},
   "outputs": [
    {
     "name": "stdout",
     "output_type": "stream",
     "text": [
      "Tomography counts\n",
      "ZZZ\n",
      "[0.40963213 0.3154434  0.14146081 0.04442865 0.04211836 0.0255909\n",
      " 0.0145726  0.00675315]\n",
      "ZZX\n",
      "[0.39421244 0.3236874  0.09513083 0.09166522 0.03742852 0.03829492\n",
      " 0.00883729 0.01074337]\n",
      "ZZY\n",
      "[0.29973522 0.4157105  0.0940865  0.0940865  0.02771403 0.04907326\n",
      " 0.00653133 0.01306267]\n",
      "ZXZ\n",
      "[0.2393709  0.18907708 0.30694781 0.17715175 0.02471483 0.01693744\n",
      " 0.02868994 0.01711027]\n",
      "ZXX\n",
      "[0.23164623 0.19986181 0.26947659 0.21972707 0.01831059 0.01986526\n",
      " 0.01779236 0.02332009]\n",
      "ZXY\n",
      "[0.19436766 0.23565999 0.21337249 0.26900484 0.01900484 0.02159641\n",
      " 0.01814098 0.0288528 ]\n",
      "ZYZ\n",
      "[0.26271597 0.1598579  0.32294526 0.17083804 0.02373648 0.01372517\n",
      " 0.03003391 0.01614726]\n",
      "ZYX\n",
      "[0.20625962 0.20027364 0.28390628 0.21942877 0.01847101 0.02035232\n",
      " 0.02411493 0.02719343]\n",
      "ZYY\n",
      "[0.1894617  0.23613596 0.22914295 0.25874126 0.01561229 0.02569523\n",
      " 0.01951537 0.02569523]\n",
      "XZZ\n",
      "[0.23097243 0.16031038 0.07544989 0.02311375 0.24665676 0.16361235\n",
      " 0.07528479 0.02459964]\n",
      "XZX\n",
      "[0.20829069 0.18219038 0.05510065 0.04486523 0.21818492 0.18662573\n",
      " 0.05254179 0.05220061]\n",
      "XZY\n",
      "[0.16820638 0.2445529  0.0440997  0.0538609  0.16472024 0.22119575\n",
      " 0.04619139 0.05717274]\n",
      "XXZ\n",
      "[0.13905376 0.08478888 0.16109886 0.09292861 0.14261489 0.0891979\n",
      " 0.17975242 0.11056469]\n",
      "XXX\n",
      "[0.11645227 0.10663507 0.14404198 0.11729858 0.1176371  0.11949898\n",
      " 0.14759648 0.13083954]\n",
      "XXY\n",
      "[0.10472628 0.11220673 0.12087725 0.13413805 0.12019721 0.12529752\n",
      " 0.13294798 0.14960898]\n",
      "XYZ\n",
      "[0.1313454  0.08182464 0.17039404 0.09265176 0.13631523 0.09584665\n",
      " 0.18938587 0.10223642]\n",
      "XYX\n",
      "[0.11504425 0.10884956 0.14460177 0.11575221 0.11380531 0.1219469\n",
      " 0.14548673 0.13451327]\n",
      "XYY\n",
      "[0.09749784 0.1257981  0.1271786  0.13770492 0.10681622 0.12562554\n",
      " 0.13615186 0.14322692]\n",
      "YZZ\n",
      "[0.21755926 0.16277436 0.07234416 0.02598771 0.24495171 0.16382792\n",
      " 0.08867428 0.0238806 ]\n",
      "YZX\n",
      "[0.20131485 0.17324094 0.05277186 0.0449538  0.22334755 0.19438522\n",
      " 0.05366027 0.05632552]\n",
      "YZY\n",
      "[0.16839333 0.21510097 0.05162423 0.0523266  0.1571554  0.2381036\n",
      " 0.05829675 0.05899912]\n",
      "YXZ\n",
      "[0.12244538 0.09566596 0.16226216 0.10447498 0.1358351  0.10306554\n",
      " 0.16684285 0.10940803]\n",
      "YXX\n",
      "[0.12006803 0.12057823 0.14557823 0.11836735 0.1212585  0.1170068\n",
      " 0.1377551  0.11938776]\n",
      "YXY\n",
      "[0.12129879 0.12449529 0.11961642 0.13324361 0.12449529 0.11204576\n",
      " 0.1281965  0.13660834]\n",
      "YYZ\n",
      "[0.12521709 0.09951372 0.16880861 0.10576589 0.13129559 0.09725599\n",
      " 0.17245571 0.09968739]\n",
      "YYX\n",
      "[0.132585   0.11810639 0.15080527 0.10932162 0.13128355 0.10427851\n",
      " 0.13648934 0.11713031]\n",
      "YYY\n",
      "[0.10268172 0.12473536 0.12755822 0.13602682 0.0965067  0.1310868\n",
      " 0.13214538 0.149259  ]\n",
      "Confusion matrix counts\n",
      "ggg\n",
      "[0.83304378 0.02814454 0.07261987 0.00312717 0.05211953 0.00312717\n",
      " 0.00677554 0.00104239]\n",
      "gge\n",
      "[3.96179696e-02 8.00495225e-01 2.47612310e-03 9.02016272e-02\n",
      " 2.47612310e-03 5.39441104e-02 3.53731871e-04 1.04350902e-02]\n",
      "geg\n",
      "[0.09560229 0.0046932  0.79923518 0.0326786  0.0046932  0.00086911\n",
      " 0.05579698 0.00643143]\n",
      "gee\n",
      "[4.12112525e-03 9.46067013e-02 3.47607956e-02 7.99498298e-01\n",
      " 3.58358717e-04 5.01702204e-03 2.86686974e-03 5.87708296e-02]\n",
      "egg\n",
      "[0.05309735 0.00272294 0.00459496 0.0010211  0.81432948 0.03539823\n",
      " 0.07947583 0.00936011]\n",
      "ege\n",
      "[2.17351929e-03 4.45571454e-02 7.24506430e-04 6.15830465e-03\n",
      " 3.60441949e-02 8.07824669e-01 2.89802572e-03 9.96196341e-02]\n",
      "eeg\n",
      "[1.35112023e-02 6.84111510e-04 5.60971438e-02 2.56541816e-03\n",
      " 1.10312981e-01 7.01214298e-03 7.70138533e-01 3.96784676e-02]\n",
      "eee\n",
      "[0.00105134 0.00735938 0.0029788  0.05081479 0.00613282 0.09391975\n",
      " 0.03854915 0.79919397]\n"
     ]
    }
   ],
   "source": [
    "data = qramExpt.data\n",
    "cfg = qramExpt.cfg\n",
    "ps_adjust = [0, 0, 0, 0]\n",
    "ps_qubits = [0, 1, 2, 3]\n",
    "apply_ps = True\n",
    "n_tomo_raw, n_calib = tomo_analysis.n_tomo_calib_from_data(data, cfg, ps_adjust=ps_adjust, ps_qubits=ps_qubits, apply_ps=apply_ps, verbose=False)\n",
    "\n",
    "print('Tomography counts')\n",
    "for r in range(n_tomo_raw.shape[0]):\n",
    "    print(tomo_analysis.meas_order[r])\n",
    "    print(n_tomo_raw[r,:]/np.sum(n_tomo_raw[r,:]))\n",
    "    \n",
    "print('Confusion matrix counts')\n",
    "for r in range(n_calib.shape[0]):\n",
    "    print(tomo_analysis.calib_order[r])\n",
    "    print(n_calib[r,:]/np.sum(n_calib[r,:]))\n",
    " \n",
    " \n",
    " \n",
    "\n",
    "# ------------------------------ #\n",
    "# Base MLE\n",
    "# ------------------------------ #\n",
    "\n",
    "rho_MLE_base = tomo_analysis.get_rho_from_counts(\n",
    "    n_tomo_raw=n_tomo_raw,\n",
    "    n_calib=n_calib,\n",
    "    correct_readout=True,\n",
    "    correct_neg_counts=True,\n",
    "    method='analytical',\n",
    "    ZZ_correction=False,\n",
    "    verbose=False,\n",
    ")\n",
    "\n",
    "# fid_base = qt.fidelity(qt.Qobj(rho_MLE_base, dims=rho_id.dims), rho_id)**2 # qutip uses N&C fidelity which is \"sqrt fidelity\"\n",
    "# purity_base = np.real(np.trace(rho_MLE_base @ rho_MLE_base))\n",
    "# purity_id = np.real(np.trace(rho_id.full() @ rho_id.full()))"
   ]
  },
  {
   "cell_type": "code",
   "execution_count": 22,
   "metadata": {},
   "outputs": [],
   "source": [
    "tomo_analysis.show_plot_rho_2d(rho_MLE_base, None, title=f'Init {init_state}, Play {protocol_play}', cmax=0.5, size=(7,5))"
   ]
  },
  {
   "cell_type": "code",
   "execution_count": 468,
   "metadata": {},
   "outputs": [
    {
     "name": "stdout",
     "output_type": "stream",
     "text": [
      "[0.0399 0.0077 0.0038 0.0009 0.7119 0.1451 0.072  0.0187]\n"
     ]
    }
   ],
   "source": [
    "a = [399, 77, 38, 9, 7119, 1451, 720, 187]\n",
    "\n",
    "print(np.array(a)/np.sum(a))"
   ]
  },
  {
   "cell_type": "code",
   "execution_count": 296,
   "metadata": {},
   "outputs": [
    {
     "data": {
      "text/plain": [
       "{'start': inf,\n",
       " 'step': 0,\n",
       " 'expts': 1,\n",
       " 'reps': 30000,\n",
       " 'singleshot_reps': 10000,\n",
       " 'post_process': None,\n",
       " 'tomo_3q': True,\n",
       " 'tomo_qubits': [0, 2, 3],\n",
       " 'init_state': '|1>|0>',\n",
       " 'play_pulses': [1, 3],\n",
       " 'cool_qubits': None,\n",
       " 'sync_between_swaps': False,\n",
       " 'sync_between_efs': False,\n",
       " 'use_IQ_pulse': False,\n",
       " 'use_robust_pulses': True,\n",
       " 'plot_IQ': False,\n",
       " 'readout_cool': True,\n",
       " 'n_init_readout': 1,\n",
       " 'n_trig': 1,\n",
       " 'init_read_wait_us': 1,\n",
       " 'full_mux_expt': True,\n",
       " 'resonator_reset': [0, 2, 3],\n",
       " 'basis': 'ZZZ'}"
      ]
     },
     "execution_count": 296,
     "metadata": {},
     "output_type": "execute_result"
    }
   ],
   "source": [
    "cfg.expt"
   ]
  },
  {
   "cell_type": "code",
   "execution_count": null,
   "metadata": {},
   "outputs": [],
   "source": []
  }
 ],
 "metadata": {
  "kernelspec": {
   "display_name": "slab",
   "language": "python",
   "name": "python3"
  },
  "language_info": {
   "codemirror_mode": {
    "name": "ipython",
    "version": 3
   },
   "file_extension": ".py",
   "mimetype": "text/x-python",
   "name": "python",
   "nbconvert_exporter": "python",
   "pygments_lexer": "ipython3",
   "version": "3.9.19"
  }
 },
 "nbformat": 4,
 "nbformat_minor": 2
}
