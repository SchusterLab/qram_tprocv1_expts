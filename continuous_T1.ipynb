{
 "cells": [
  {
   "cell_type": "markdown",
   "metadata": {},
   "source": [
    "## Continuous T1 \n",
    "\n",
    "This reads out the state of the qubit at t = T1 continuously. We recalibrate the qubit after some variable time. The qubit is assumed to be calibrated and the data saved to the cfg file "
   ]
  },
  {
   "cell_type": "markdown",
   "metadata": {},
   "source": [
    "# ------------ Initializations ------------"
   ]
  },
  {
   "cell_type": "code",
   "execution_count": 45,
   "metadata": {},
   "outputs": [
    {
     "name": "stdout",
     "output_type": "stream",
     "text": [
      "The autoreload extension is already loaded. To reload it, use:\n",
      "  %reload_ext autoreload\n"
     ]
    }
   ],
   "source": [
    "# %matplotlib widget\n",
    "%matplotlib inline\n",
    "\n",
    "%load_ext autoreload\n",
    "%autoreload 2\n",
    "\n",
    "import numpy as np\n",
    "import matplotlib.pyplot as plt\n",
    "\n",
    "from qick import *\n",
    "from qick.helpers import gauss\n",
    "from tqdm import tqdm_notebook as tqdm\n",
    "\n",
    "import time\n",
    "import os\n",
    "import sys\n",
    "import scipy as sp\n",
    "import json\n",
    "import cProfile\n",
    "import re \n",
    "import datetime\n",
    "from timeit import default_timer as timer\n",
    "\n",
    "from scipy.fft import fft, fftfreq\n",
    "\n",
    "from slab.instruments import *\n",
    "from slab.experiment import Experiment\n",
    "from slab.datamanagement import SlabFile\n",
    "from slab import get_next_filename, AttrDict\n",
    "from datetime import datetime\n",
    "import h5py\n",
    "\n",
    "\n",
    "# Figure params\n",
    "plt.rcParams['figure.figsize'] = [10,6]\n",
    "plt.rcParams.update({'font.size': 14})"
   ]
  },
  {
   "cell_type": "code",
   "execution_count": 46,
   "metadata": {},
   "outputs": [],
   "source": [
    "# %aimport experiments\n",
    "# NOTE: ADDING NEW METHODS WILL NOT BE UPDATED\n",
    "import experiments as meas\n"
   ]
  },
  {
   "cell_type": "code",
   "execution_count": 47,
   "metadata": {},
   "outputs": [],
   "source": [
    "\"\"\"Reopen saved data\"\"\"\n",
    "def prev_data(expt_path, filename):\n",
    "    temp_data_file = expt_path+'/'+filename\n",
    "    with SlabFile(temp_data_file) as a:\n",
    "        attrs = dict()\n",
    "        for key in list(a.attrs):\n",
    "            attrs.update({key:json.loads(a.attrs[key])})\n",
    "        keys = list(a)\n",
    "        temp_data = dict()\n",
    "        for key in keys:\n",
    "            temp_data.update({key:np.array(a[key])})\n",
    "        print(f'Extracted data and attrs {list(a.attrs)}')\n",
    "    return temp_data, attrs"
   ]
  },
  {
   "cell_type": "code",
   "execution_count": 48,
   "metadata": {},
   "outputs": [
    {
     "name": "stdout",
     "output_type": "stream",
     "text": [
      "Continuous T1 Data will be stored in C:\\_Data\\LLqub_contT1\n",
      "SLAB data will be stored in c:\\_Lib\\python\\rfsoc\\elaine_rfsoc\\slab_rfsoc_expts\\data\n"
     ]
    }
   ],
   "source": [
    "expt_path=os.getcwd()+'\\data'\n",
    "data_path = \"C:\\_Data\\LLqub_contT1\"\n",
    "print('Continuous T1 Data will be stored in', data_path)\n",
    "print('SLAB data will be stored in', expt_path) "
   ]
  },
  {
   "cell_type": "markdown",
   "metadata": {},
   "source": [
    "Import the cfg file: "
   ]
  },
  {
   "cell_type": "code",
   "execution_count": 49,
   "metadata": {},
   "outputs": [
    {
     "name": "stdout",
     "output_type": "stream",
     "text": [
      "Results config will be c:\\_Lib\\python\\rfsoc\\elaine_rfsoc\\slab_rfsoc_expts\\autocalibration_cfg.yml\n"
     ]
    }
   ],
   "source": [
    "import yaml\n",
    "# Results config file:\n",
    "results_config_file = 'autocalibration_cfg.yml'\n",
    "results_config_path = os.getcwd() + '\\\\' + results_config_file\n",
    "print('Results config will be', results_config_path)\n",
    "\n",
    "# open the file \n",
    "with open(results_config_file,'r') as file:\n",
    "  auto_cfg=AttrDict(yaml.safe_load(file)) # turn it into an attribute dictionary \n",
    "\n",
    "def save_edits( file_name, edit_config, edit_list, qubit_i,  value):\n",
    "    print('Assumes edit_list is already in edit_config')\n",
    "    print('If it is not, it will not update edit_config')\n",
    "    # open the file \n",
    "    # edit the file\n",
    "    edit_list[qubit_i] = value\n",
    "    # dump it: \n",
    "    edit_config= yaml.safe_dump(edit_config.to_dict(), default_flow_style=  True)\n",
    "\n",
    "    # write it: \n",
    "    with open(file_name, 'w') as modified_file:\n",
    "        modified_file.write(edit_config)\n",
    "\n",
    "    # now, open the modified file again \n",
    "    with open(file_name,'r') as file:\n",
    "      edit_config=AttrDict(yaml.safe_load(file)) # turn it into an attribute dictionary \n",
    "    return edit_config"
   ]
  },
  {
   "cell_type": "code",
   "execution_count": 55,
   "metadata": {},
   "outputs": [
    {
     "ename": "KeyError",
     "evalue": "'Qick99'",
     "output_type": "error",
     "traceback": [
      "\u001b[1;31m---------------------------------------------------------------------------\u001b[0m",
      "\u001b[1;31mKeyError\u001b[0m                                  Traceback (most recent call last)",
      "Cell \u001b[1;32mIn[55], line 3\u001b[0m\n\u001b[0;32m      1\u001b[0m \u001b[38;5;66;03m#im = InstrumentManager(ns_address='192.168.137.200') # SLAC lab\u001b[39;00m\n\u001b[0;32m      2\u001b[0m im \u001b[38;5;241m=\u001b[39m InstrumentManager(ns_address\u001b[38;5;241m=\u001b[39m\u001b[38;5;124m'\u001b[39m\u001b[38;5;124m192.168.137.1\u001b[39m\u001b[38;5;124m'\u001b[39m) \u001b[38;5;66;03m# SLAC lab\u001b[39;00m\n\u001b[1;32m----> 3\u001b[0m soc \u001b[38;5;241m=\u001b[39m QickConfig(\u001b[43mim\u001b[49m\u001b[43m[\u001b[49m\u001b[43mauto_cfg\u001b[49m\u001b[43m[\u001b[49m\u001b[38;5;124;43m'\u001b[39;49m\u001b[38;5;124;43maliases\u001b[39;49m\u001b[38;5;124;43m'\u001b[39;49m\u001b[43m]\u001b[49m\u001b[43m[\u001b[49m\u001b[38;5;124;43m'\u001b[39;49m\u001b[38;5;124;43msoc\u001b[39;49m\u001b[38;5;124;43m'\u001b[39;49m\u001b[43m]\u001b[49m\u001b[43m]\u001b[49m\u001b[38;5;241m.\u001b[39mget_cfg())\n",
      "\u001b[1;31mKeyError\u001b[0m: 'Qick99'"
     ]
    }
   ],
   "source": [
    "#im = InstrumentManager(ns_address='192.168.137.200') # SLAC lab\n",
    "im = InstrumentManager(ns_address='192.168.137.1') # SLAC lab\n",
    "soc = QickConfig(im[auto_cfg['aliases']['soc']].get_cfg())\n",
    "# find ip adddress qick, go to the web address, run it's \n"
   ]
  },
  {
   "cell_type": "code",
   "execution_count": 54,
   "metadata": {},
   "outputs": [],
   "source": [
    "auto_cfg['aliases']['soc']='Qick99'"
   ]
  },
  {
   "cell_type": "code",
   "execution_count": null,
   "metadata": {},
   "outputs": [],
   "source": [
    "\n",
    "print(soc)\n",
    "print(auto_cfg['aliases']['soc'])\n",
    "print(soc.description())\n"
   ]
  },
  {
   "cell_type": "code",
   "execution_count": null,
   "metadata": {},
   "outputs": [],
   "source": []
  },
  {
   "cell_type": "code",
   "execution_count": null,
   "metadata": {},
   "outputs": [
    {
     "name": "stdout",
     "output_type": "stream",
     "text": [
      "215 307\n",
      "readout freq 0 +/- 7098.022026730655\n"
     ]
    },
    {
     "data": {
      "application/vnd.jupyter.widget-view+json": {
       "model_id": "297327a2ddef4a72b801fe0b88fcc1f2",
       "version_major": 2,
       "version_minor": 0
      },
      "text/plain": [
       "  0%|          | 0/1000 [00:00<?, ?it/s]"
      ]
     },
     "metadata": {},
     "output_type": "display_data"
    },
    {
     "name": "stdout",
     "output_type": "stream",
     "text": [
      "Saving c:\\_Lib\\python\\rfsoc\\elaine_rfsoc\\slab_rfsoc_expts\\data\\00032_adc_trig_offset_calibration_qubit0.h5\n"
     ]
    },
    {
     "data": {
      "image/png": "[encoded data removed]",
      "text/plain": [
       "<Figure size 1000x600 with 1 Axes>"
      ]
     },
     "metadata": {},
     "output_type": "display_data"
    }
   ],
   "source": [
    "qubit_i = 0\n",
    "tof = meas.ToFCalibrationExperiment(\n",
    "    soccfg=soc,\n",
    "    path=expt_path,\n",
    "    prefix=f\"adc_trig_offset_calibration_qubit{qubit_i}\",\n",
    "    config_file=results_config_path,\n",
    ")\n",
    "\n",
    "tof.cfg.expt = dict(\n",
    "    pulse_length=0.5, # [us]\n",
    "    readout_length=1.0, # [us]\n",
    "    trig_offset=0, # [clock ticks]\n",
    "    gain=30000, # blast the power just for the RFSoC calibration\n",
    "    # gain=5000, # [MUX units: -1 to 1]\n",
    "    frequency=tof.cfg.device.readout.frequency[qubit_i], # [MHz]\n",
    "    reps=1000, # Number of averages per point\n",
    "    # qubit=qubit_i,\n",
    "    qubit=qubit_i,\n",
    ")\n",
    "tof.cfg.device.readout.relax_delay=0.1 # wait time between experiments [us]\n",
    "\n",
    "import Pyro4.util\n",
    "try: \n",
    "    tof.go(analyze=False, display=False, progress=True, save=True)\n",
    "except Exception:\n",
    "    print(\"Pyro traceback:\")\n",
    "    print(\"\".join(Pyro4.util.getPyroTraceback()))\n",
    "\n",
    "tof.display(adc_trig_offset=150) "
   ]
  },
  {
   "cell_type": "markdown",
   "metadata": {},
   "source": [
    "## Run the T1 with recalibration "
   ]
  },
  {
   "cell_type": "code",
   "execution_count": 14,
   "metadata": {},
   "outputs": [
    {
     "data": {
      "application/vnd.jupyter.widget-view+json": {
       "model_id": "fdcb917c05f94fdd9844bd42ff36bd6b",
       "version_major": 2,
       "version_minor": 0
      },
      "text/plain": [
       "  0%|          | 0/1000000 [00:00<?, ?it/s]"
      ]
     },
     "metadata": {},
     "output_type": "display_data"
    },
    {
     "name": "stdout",
     "output_type": "stream",
     "text": [
      "Continuous data appended to C:\\_Data\\LLqub_contT1\\2024-03-13_10-51-23.h5\n"
     ]
    },
    {
     "data": {
      "application/vnd.jupyter.widget-view+json": {
       "model_id": "84f62f2b9d0e4394a2338c61225dd5d5",
       "version_major": 2,
       "version_minor": 0
      },
      "text/plain": [
       "  0%|          | 0/1000000 [00:00<?, ?it/s]"
      ]
     },
     "metadata": {},
     "output_type": "display_data"
    },
    {
     "name": "stdout",
     "output_type": "stream",
     "text": [
      "Continuous data appended to C:\\_Data\\LLqub_contT1\\2024-03-13_10-51-23.h5\n",
      "3283.5479680999997 seconds have passed. Running T1 recalibration.\n"
     ]
    },
    {
     "data": {
      "application/vnd.jupyter.widget-view+json": {
       "model_id": "24ed2caa96624076826e4f571b30596f",
       "version_major": 2,
       "version_minor": 0
      },
      "text/plain": [
       "  0%|          | 0/50000 [00:00<?, ?it/s]"
      ]
     },
     "metadata": {},
     "output_type": "display_data"
    },
    {
     "name": "stdout",
     "output_type": "stream",
     "text": [
      "t1_i is better, saving T1_i to results cfg file\n",
      "159.85351163959018 168.43290917337586 159.22598415596858\n",
      "using phase reset\n",
      "<Pyro4.core.Proxy at 0x28b4287d5a0; not connected; for PYRO:obj_e0a12d402d674a73a40b28fdfe13addf@192.168.137.233:40721>\n"
     ]
    },
    {
     "data": {
      "application/vnd.jupyter.widget-view+json": {
       "model_id": "517b8b8e07364f778c4f44b0722ecda2",
       "version_major": 2,
       "version_minor": 0
      },
      "text/plain": [
       "  0%|          | 0/40000 [00:00<?, ?it/s]"
      ]
     },
     "metadata": {},
     "output_type": "display_data"
    },
    {
     "name": "stdout",
     "output_type": "stream",
     "text": [
      "using phase reset\n"
     ]
    },
    {
     "data": {
      "application/vnd.jupyter.widget-view+json": {
       "model_id": "48485ff41de341d4bc3f8e110fdbbe1b",
       "version_major": 2,
       "version_minor": 0
      },
      "text/plain": [
       "  0%|          | 0/40000 [00:00<?, ?it/s]"
      ]
     },
     "metadata": {},
     "output_type": "display_data"
    },
    {
     "name": "stdout",
     "output_type": "stream",
     "text": [
      "Saving c:\\_Lib\\python\\rfsoc\\elaine_rfsoc\\slab_rfsoc_expts\\data\\00209_single_shot_qubit0.h5\n",
      "-16.686338540450492\n",
      "8.545817562988677\n",
      "new anle, threshold, and fidelity -16.686338540450492 8.545817562988677 84.02460061501537\n",
      "Recalibration data appended to C:\\_Data\\LLqub_contT1\\2024-03-13_10-51-23.h5\n"
     ]
    },
    {
     "data": {
      "application/vnd.jupyter.widget-view+json": {
       "model_id": "1a2f554b75c749b59b57581f609b5fd9",
       "version_major": 2,
       "version_minor": 0
      },
      "text/plain": [
       "  0%|          | 0/1000000 [00:00<?, ?it/s]"
      ]
     },
     "metadata": {},
     "output_type": "display_data"
    },
    {
     "name": "stdout",
     "output_type": "stream",
     "text": [
      "Continuous data appended to C:\\_Data\\LLqub_contT1\\2024-03-13_10-51-23.h5\n"
     ]
    },
    {
     "data": {
      "application/vnd.jupyter.widget-view+json": {
       "model_id": "1ec77b67e30240629b3abec7ec33fe51",
       "version_major": 2,
       "version_minor": 0
      },
      "text/plain": [
       "  0%|          | 0/1000000 [00:00<?, ?it/s]"
      ]
     },
     "metadata": {},
     "output_type": "display_data"
    },
    {
     "name": "stdout",
     "output_type": "stream",
     "text": [
      "Continuous data appended to C:\\_Data\\LLqub_contT1\\2024-03-13_10-51-23.h5\n",
      "3283.405422799995 seconds have passed. Running T1 recalibration.\n"
     ]
    },
    {
     "data": {
      "application/vnd.jupyter.widget-view+json": {
       "model_id": "3c65d3846c9b409789d7703c57282d97",
       "version_major": 2,
       "version_minor": 0
      },
      "text/plain": [
       "  0%|          | 0/50000 [00:00<?, ?it/s]"
      ]
     },
     "metadata": {},
     "output_type": "display_data"
    },
    {
     "name": "stdout",
     "output_type": "stream",
     "text": [
      "t1_i is better, saving T1_i to results cfg file\n",
      "114.02897631047942 125.88281138074096 113.56228259372612\n",
      "using phase reset\n",
      "<Pyro4.core.Proxy at 0x28b45a76080; not connected; for PYRO:obj_e0a12d402d674a73a40b28fdfe13addf@192.168.137.233:40721>\n"
     ]
    },
    {
     "data": {
      "application/vnd.jupyter.widget-view+json": {
       "model_id": "20cb5e4ee8aa41b0bf2eaa436566f579",
       "version_major": 2,
       "version_minor": 0
      },
      "text/plain": [
       "  0%|          | 0/40000 [00:00<?, ?it/s]"
      ]
     },
     "metadata": {},
     "output_type": "display_data"
    },
    {
     "name": "stdout",
     "output_type": "stream",
     "text": [
      "using phase reset\n"
     ]
    },
    {
     "data": {
      "application/vnd.jupyter.widget-view+json": {
       "model_id": "fd49c447964442f8a7077c3e25156de1",
       "version_major": 2,
       "version_minor": 0
      },
      "text/plain": [
       "  0%|          | 0/40000 [00:00<?, ?it/s]"
      ]
     },
     "metadata": {},
     "output_type": "display_data"
    },
    {
     "name": "stdout",
     "output_type": "stream",
     "text": [
      "Saving c:\\_Lib\\python\\rfsoc\\elaine_rfsoc\\slab_rfsoc_expts\\data\\00210_single_shot_qubit0.h5\n",
      "-12.937576499026823\n",
      "8.457203006827596\n",
      "new anle, threshold, and fidelity -12.937576499026823 8.457203006827596 83.52104401305016\n",
      "Recalibration data appended to C:\\_Data\\LLqub_contT1\\2024-03-13_10-51-23.h5\n"
     ]
    },
    {
     "data": {
      "application/vnd.jupyter.widget-view+json": {
       "model_id": "b65d452f2f914483857203530476e362",
       "version_major": 2,
       "version_minor": 0
      },
      "text/plain": [
       "  0%|          | 0/1000000 [00:00<?, ?it/s]"
      ]
     },
     "metadata": {},
     "output_type": "display_data"
    },
    {
     "name": "stdout",
     "output_type": "stream",
     "text": [
      "Continuous data appended to C:\\_Data\\LLqub_contT1\\2024-03-13_10-51-23.h5\n"
     ]
    },
    {
     "data": {
      "application/vnd.jupyter.widget-view+json": {
       "model_id": "beccc66b51b5444caa303a9972983c0e",
       "version_major": 2,
       "version_minor": 0
      },
      "text/plain": [
       "  0%|          | 0/1000000 [00:00<?, ?it/s]"
      ]
     },
     "metadata": {},
     "output_type": "display_data"
    },
    {
     "name": "stdout",
     "output_type": "stream",
     "text": [
      "Continuous data appended to C:\\_Data\\LLqub_contT1\\2024-03-13_10-51-23.h5\n",
      "3283.4337842999958 seconds have passed. Running T1 recalibration.\n"
     ]
    },
    {
     "data": {
      "application/vnd.jupyter.widget-view+json": {
       "model_id": "b5e014b625cf4c499d0336d300d6ab27",
       "version_major": 2,
       "version_minor": 0
      },
      "text/plain": [
       "  0%|          | 0/50000 [00:00<?, ?it/s]"
      ]
     },
     "metadata": {},
     "output_type": "display_data"
    },
    {
     "name": "stdout",
     "output_type": "stream",
     "text": [
      "t1_i is better, saving T1_i to results cfg file\n",
      "119.18520058453834 329.4361999213035 118.51858748757631\n",
      "using phase reset\n",
      "<Pyro4.core.Proxy at 0x28b45ad0ac0; not connected; for PYRO:obj_e0a12d402d674a73a40b28fdfe13addf@192.168.137.233:40721>\n"
     ]
    },
    {
     "data": {
      "application/vnd.jupyter.widget-view+json": {
       "model_id": "941b475eb48c4451bf88f20b69ce39b1",
       "version_major": 2,
       "version_minor": 0
      },
      "text/plain": [
       "  0%|          | 0/40000 [00:00<?, ?it/s]"
      ]
     },
     "metadata": {},
     "output_type": "display_data"
    },
    {
     "name": "stdout",
     "output_type": "stream",
     "text": [
      "using phase reset\n"
     ]
    },
    {
     "data": {
      "application/vnd.jupyter.widget-view+json": {
       "model_id": "3ad247b52d3b484daa6fbe58bd857485",
       "version_major": 2,
       "version_minor": 0
      },
      "text/plain": [
       "  0%|          | 0/40000 [00:00<?, ?it/s]"
      ]
     },
     "metadata": {},
     "output_type": "display_data"
    },
    {
     "name": "stdout",
     "output_type": "stream",
     "text": [
      "Saving c:\\_Lib\\python\\rfsoc\\elaine_rfsoc\\slab_rfsoc_expts\\data\\00211_single_shot_qubit0.h5\n",
      "-8.716473432174093\n",
      "8.150951192177484\n",
      "new anle, threshold, and fidelity -8.716473432174093 8.150951192177484 84.30710767769195\n",
      "Recalibration data appended to C:\\_Data\\LLqub_contT1\\2024-03-13_10-51-23.h5\n"
     ]
    },
    {
     "data": {
      "application/vnd.jupyter.widget-view+json": {
       "model_id": "f4b0f0096fba429c9ca6f9f634a0285f",
       "version_major": 2,
       "version_minor": 0
      },
      "text/plain": [
       "  0%|          | 0/1000000 [00:00<?, ?it/s]"
      ]
     },
     "metadata": {},
     "output_type": "display_data"
    },
    {
     "name": "stdout",
     "output_type": "stream",
     "text": [
      "Continuous data appended to C:\\_Data\\LLqub_contT1\\2024-03-13_10-51-23.h5\n"
     ]
    },
    {
     "data": {
      "application/vnd.jupyter.widget-view+json": {
       "model_id": "b6b5654a1e4f4d28b84cb097405653f7",
       "version_major": 2,
       "version_minor": 0
      },
      "text/plain": [
       "  0%|          | 0/1000000 [00:00<?, ?it/s]"
      ]
     },
     "metadata": {},
     "output_type": "display_data"
    },
    {
     "name": "stdout",
     "output_type": "stream",
     "text": [
      "Continuous data appended to C:\\_Data\\LLqub_contT1\\2024-03-13_10-51-23.h5\n",
      "3283.408737000005 seconds have passed. Running T1 recalibration.\n"
     ]
    },
    {
     "data": {
      "application/vnd.jupyter.widget-view+json": {
       "model_id": "26cb3915d9744765aa875b61f5721316",
       "version_major": 2,
       "version_minor": 0
      },
      "text/plain": [
       "  0%|          | 0/50000 [00:00<?, ?it/s]"
      ]
     },
     "metadata": {},
     "output_type": "display_data"
    },
    {
     "name": "stdout",
     "output_type": "stream",
     "text": [
      "t1_i is better, saving T1_i to results cfg file\n",
      "138.90304367727447 155.14838949486338 138.7060217078447\n",
      "using phase reset\n",
      "<Pyro4.core.Proxy at 0x28b45ad3340; not connected; for PYRO:obj_e0a12d402d674a73a40b28fdfe13addf@192.168.137.233:40721>\n"
     ]
    },
    {
     "data": {
      "application/vnd.jupyter.widget-view+json": {
       "model_id": "489355542cbe46fa9c4a4fba53491598",
       "version_major": 2,
       "version_minor": 0
      },
      "text/plain": [
       "  0%|          | 0/40000 [00:00<?, ?it/s]"
      ]
     },
     "metadata": {},
     "output_type": "display_data"
    },
    {
     "name": "stdout",
     "output_type": "stream",
     "text": [
      "using phase reset\n"
     ]
    },
    {
     "data": {
      "application/vnd.jupyter.widget-view+json": {
       "model_id": "bafb3009348f41ab9f3f7cd74cf53afc",
       "version_major": 2,
       "version_minor": 0
      },
      "text/plain": [
       "  0%|          | 0/40000 [00:00<?, ?it/s]"
      ]
     },
     "metadata": {},
     "output_type": "display_data"
    },
    {
     "name": "stdout",
     "output_type": "stream",
     "text": [
      "Saving c:\\_Lib\\python\\rfsoc\\elaine_rfsoc\\slab_rfsoc_expts\\data\\00212_single_shot_qubit0.h5\n",
      "-2.69496570478852\n",
      "8.029268838156868\n",
      "new anle, threshold, and fidelity -2.69496570478852 8.029268838156868 83.0020750518763\n",
      "Recalibration data appended to C:\\_Data\\LLqub_contT1\\2024-03-13_10-51-23.h5\n"
     ]
    },
    {
     "data": {
      "application/vnd.jupyter.widget-view+json": {
       "model_id": "9d2d9253c4204ccdb6b24e492ad1679d",
       "version_major": 2,
       "version_minor": 0
      },
      "text/plain": [
       "  0%|          | 0/1000000 [00:00<?, ?it/s]"
      ]
     },
     "metadata": {},
     "output_type": "display_data"
    },
    {
     "name": "stdout",
     "output_type": "stream",
     "text": [
      "Continuous data appended to C:\\_Data\\LLqub_contT1\\2024-03-13_10-51-23.h5\n"
     ]
    },
    {
     "data": {
      "application/vnd.jupyter.widget-view+json": {
       "model_id": "16bd9e47a48e453c92efd3dfd3128287",
       "version_major": 2,
       "version_minor": 0
      },
      "text/plain": [
       "  0%|          | 0/1000000 [00:00<?, ?it/s]"
      ]
     },
     "metadata": {},
     "output_type": "display_data"
    },
    {
     "name": "stdout",
     "output_type": "stream",
     "text": [
      "Continuous data appended to C:\\_Data\\LLqub_contT1\\2024-03-13_10-51-23.h5\n",
      "3283.4481037000005 seconds have passed. Running T1 recalibration.\n"
     ]
    },
    {
     "data": {
      "application/vnd.jupyter.widget-view+json": {
       "model_id": "d66cb3dfd3ed4cc6b3af178256b3d340",
       "version_major": 2,
       "version_minor": 0
      },
      "text/plain": [
       "  0%|          | 0/50000 [00:00<?, ?it/s]"
      ]
     },
     "metadata": {},
     "output_type": "display_data"
    },
    {
     "name": "stdout",
     "output_type": "stream",
     "text": [
      "t1_i is better, saving T1_i to results cfg file\n",
      "145.62076904695374 229.74646229455058 145.00375075402633\n",
      "using phase reset\n",
      "<Pyro4.core.Proxy at 0x28b45d314e0; not connected; for PYRO:obj_e0a12d402d674a73a40b28fdfe13addf@192.168.137.233:40721>\n"
     ]
    },
    {
     "data": {
      "application/vnd.jupyter.widget-view+json": {
       "model_id": "f0bcb8530dc34d78a2a8c5c46762c11c",
       "version_major": 2,
       "version_minor": 0
      },
      "text/plain": [
       "  0%|          | 0/40000 [00:00<?, ?it/s]"
      ]
     },
     "metadata": {},
     "output_type": "display_data"
    },
    {
     "name": "stdout",
     "output_type": "stream",
     "text": [
      "using phase reset\n"
     ]
    },
    {
     "data": {
      "application/vnd.jupyter.widget-view+json": {
       "model_id": "f5d8aa712ddf4dddb057c818485541fa",
       "version_major": 2,
       "version_minor": 0
      },
      "text/plain": [
       "  0%|          | 0/40000 [00:00<?, ?it/s]"
      ]
     },
     "metadata": {},
     "output_type": "display_data"
    },
    {
     "name": "stdout",
     "output_type": "stream",
     "text": [
      "Saving c:\\_Lib\\python\\rfsoc\\elaine_rfsoc\\slab_rfsoc_expts\\data\\00213_single_shot_qubit0.h5\n",
      "1.8022158842874612\n",
      "7.922869287644804\n",
      "new anle, threshold, and fidelity 1.8022158842874612 7.922869287644804 83.82104776309703\n",
      "Recalibration data appended to C:\\_Data\\LLqub_contT1\\2024-03-13_10-51-23.h5\n"
     ]
    },
    {
     "data": {
      "application/vnd.jupyter.widget-view+json": {
       "model_id": "c1b0b35bad2045c299bb89b4d1f1ba64",
       "version_major": 2,
       "version_minor": 0
      },
      "text/plain": [
       "  0%|          | 0/1000000 [00:00<?, ?it/s]"
      ]
     },
     "metadata": {},
     "output_type": "display_data"
    },
    {
     "name": "stdout",
     "output_type": "stream",
     "text": [
      "Continuous data appended to C:\\_Data\\LLqub_contT1\\2024-03-13_10-51-23.h5\n"
     ]
    },
    {
     "data": {
      "application/vnd.jupyter.widget-view+json": {
       "model_id": "df3a273b529e4d098bead47a3b9cc041",
       "version_major": 2,
       "version_minor": 0
      },
      "text/plain": [
       "  0%|          | 0/1000000 [00:00<?, ?it/s]"
      ]
     },
     "metadata": {},
     "output_type": "display_data"
    },
    {
     "name": "stdout",
     "output_type": "stream",
     "text": [
      "Continuous data appended to C:\\_Data\\LLqub_contT1\\2024-03-13_10-51-23.h5\n",
      "3283.4143525000036 seconds have passed. Running T1 recalibration.\n"
     ]
    },
    {
     "data": {
      "application/vnd.jupyter.widget-view+json": {
       "model_id": "d18bd88753c14094822ae53f9ce2cfc5",
       "version_major": 2,
       "version_minor": 0
      },
      "text/plain": [
       "  0%|          | 0/50000 [00:00<?, ?it/s]"
      ]
     },
     "metadata": {},
     "output_type": "display_data"
    },
    {
     "name": "stdout",
     "output_type": "stream",
     "text": [
      "t1_i is better, saving T1_i to results cfg file\n",
      "122.17674217339506 153.2591090885335 121.6641969796563\n",
      "using phase reset\n",
      "<Pyro4.core.Proxy at 0x28b45d69780; not connected; for PYRO:obj_e0a12d402d674a73a40b28fdfe13addf@192.168.137.233:40721>\n"
     ]
    },
    {
     "data": {
      "application/vnd.jupyter.widget-view+json": {
       "model_id": "02b3e00a9ebe4956820951e74211d3c9",
       "version_major": 2,
       "version_minor": 0
      },
      "text/plain": [
       "  0%|          | 0/40000 [00:00<?, ?it/s]"
      ]
     },
     "metadata": {},
     "output_type": "display_data"
    },
    {
     "name": "stdout",
     "output_type": "stream",
     "text": [
      "using phase reset\n"
     ]
    },
    {
     "data": {
      "application/vnd.jupyter.widget-view+json": {
       "model_id": "a97c918975a245e1b4b263b39f705d96",
       "version_major": 2,
       "version_minor": 0
      },
      "text/plain": [
       "  0%|          | 0/40000 [00:00<?, ?it/s]"
      ]
     },
     "metadata": {},
     "output_type": "display_data"
    },
    {
     "name": "stdout",
     "output_type": "stream",
     "text": [
      "Saving c:\\_Lib\\python\\rfsoc\\elaine_rfsoc\\slab_rfsoc_expts\\data\\00214_single_shot_qubit0.h5\n",
      "8.54695469814863\n",
      "8.13008478584661\n",
      "new anle, threshold, and fidelity 8.54695469814863 8.13008478584661 83.23354041925523\n",
      "Recalibration data appended to C:\\_Data\\LLqub_contT1\\2024-03-13_10-51-23.h5\n"
     ]
    },
    {
     "data": {
      "application/vnd.jupyter.widget-view+json": {
       "model_id": "1f475340e2b14f3ba3bc0bea6c6dcaf8",
       "version_major": 2,
       "version_minor": 0
      },
      "text/plain": [
       "  0%|          | 0/1000000 [00:00<?, ?it/s]"
      ]
     },
     "metadata": {},
     "output_type": "display_data"
    },
    {
     "name": "stdout",
     "output_type": "stream",
     "text": [
      "Continuous data appended to C:\\_Data\\LLqub_contT1\\2024-03-13_10-51-23.h5\n"
     ]
    },
    {
     "data": {
      "application/vnd.jupyter.widget-view+json": {
       "model_id": "3395f5cb32b740949d6c2b2c140a63ff",
       "version_major": 2,
       "version_minor": 0
      },
      "text/plain": [
       "  0%|          | 0/1000000 [00:00<?, ?it/s]"
      ]
     },
     "metadata": {},
     "output_type": "display_data"
    },
    {
     "name": "stdout",
     "output_type": "stream",
     "text": [
      "Continuous data appended to C:\\_Data\\LLqub_contT1\\2024-03-13_10-51-23.h5\n",
      "3283.4239486000006 seconds have passed. Running T1 recalibration.\n"
     ]
    },
    {
     "data": {
      "application/vnd.jupyter.widget-view+json": {
       "model_id": "01b59511b2104ebc95abc6ebe2a783f9",
       "version_major": 2,
       "version_minor": 0
      },
      "text/plain": [
       "  0%|          | 0/50000 [00:00<?, ?it/s]"
      ]
     },
     "metadata": {},
     "output_type": "display_data"
    },
    {
     "name": "stdout",
     "output_type": "stream",
     "text": [
      "t1_i is better, saving T1_i to results cfg file\n",
      "141.51851207117315 190.81236138196806 140.2619387066786\n",
      "using phase reset\n",
      "<Pyro4.core.Proxy at 0x28b45da6560; not connected; for PYRO:obj_e0a12d402d674a73a40b28fdfe13addf@192.168.137.233:40721>\n"
     ]
    },
    {
     "data": {
      "application/vnd.jupyter.widget-view+json": {
       "model_id": "3f4f0ff58a484266859332e200855f63",
       "version_major": 2,
       "version_minor": 0
      },
      "text/plain": [
       "  0%|          | 0/40000 [00:00<?, ?it/s]"
      ]
     },
     "metadata": {},
     "output_type": "display_data"
    },
    {
     "name": "stdout",
     "output_type": "stream",
     "text": [
      "using phase reset\n"
     ]
    },
    {
     "data": {
      "application/vnd.jupyter.widget-view+json": {
       "model_id": "15cc6a35da694cc7a4630df2f1e7c31a",
       "version_major": 2,
       "version_minor": 0
      },
      "text/plain": [
       "  0%|          | 0/40000 [00:00<?, ?it/s]"
      ]
     },
     "metadata": {},
     "output_type": "display_data"
    },
    {
     "name": "stdout",
     "output_type": "stream",
     "text": [
      "Saving c:\\_Lib\\python\\rfsoc\\elaine_rfsoc\\slab_rfsoc_expts\\data\\00215_single_shot_qubit0.h5\n",
      "11.562542858329525\n",
      "8.070236288388553\n",
      "new anle, threshold, and fidelity 11.562542858329525 8.070236288388553 83.10103876298453\n",
      "Recalibration data appended to C:\\_Data\\LLqub_contT1\\2024-03-13_10-51-23.h5\n"
     ]
    },
    {
     "data": {
      "application/vnd.jupyter.widget-view+json": {
       "model_id": "c4668414fc124f35bdc2470cdc6e2dd3",
       "version_major": 2,
       "version_minor": 0
      },
      "text/plain": [
       "  0%|          | 0/1000000 [00:00<?, ?it/s]"
      ]
     },
     "metadata": {},
     "output_type": "display_data"
    },
    {
     "name": "stdout",
     "output_type": "stream",
     "text": [
      "Continuous data appended to C:\\_Data\\LLqub_contT1\\2024-03-13_10-51-23.h5\n"
     ]
    },
    {
     "data": {
      "application/vnd.jupyter.widget-view+json": {
       "model_id": "6df4723118204657b98400a0489aee82",
       "version_major": 2,
       "version_minor": 0
      },
      "text/plain": [
       "  0%|          | 0/1000000 [00:00<?, ?it/s]"
      ]
     },
     "metadata": {},
     "output_type": "display_data"
    },
    {
     "name": "stdout",
     "output_type": "stream",
     "text": [
      "Continuous data appended to C:\\_Data\\LLqub_contT1\\2024-03-13_10-51-23.h5\n",
      "3283.4325788999995 seconds have passed. Running T1 recalibration.\n"
     ]
    },
    {
     "data": {
      "application/vnd.jupyter.widget-view+json": {
       "model_id": "99b30a83dc434c1f93777b19723da259",
       "version_major": 2,
       "version_minor": 0
      },
      "text/plain": [
       "  0%|          | 0/50000 [00:00<?, ?it/s]"
      ]
     },
     "metadata": {},
     "output_type": "display_data"
    },
    {
     "name": "stdout",
     "output_type": "stream",
     "text": [
      "t1_i is better, saving T1_i to results cfg file\n",
      "162.0154652061243 258.82122494573923 160.55189960263627\n",
      "using phase reset\n",
      "<Pyro4.core.Proxy at 0x28b45da4c70; not connected; for PYRO:obj_e0a12d402d674a73a40b28fdfe13addf@192.168.137.233:40721>\n"
     ]
    },
    {
     "data": {
      "application/vnd.jupyter.widget-view+json": {
       "model_id": "99daf8ba540b4a5389cc64f821c99b69",
       "version_major": 2,
       "version_minor": 0
      },
      "text/plain": [
       "  0%|          | 0/40000 [00:00<?, ?it/s]"
      ]
     },
     "metadata": {},
     "output_type": "display_data"
    },
    {
     "name": "stdout",
     "output_type": "stream",
     "text": [
      "using phase reset\n"
     ]
    },
    {
     "data": {
      "application/vnd.jupyter.widget-view+json": {
       "model_id": "bcdebaa7c99f49bf9cfc69f3b90133de",
       "version_major": 2,
       "version_minor": 0
      },
      "text/plain": [
       "  0%|          | 0/40000 [00:00<?, ?it/s]"
      ]
     },
     "metadata": {},
     "output_type": "display_data"
    },
    {
     "name": "stdout",
     "output_type": "stream",
     "text": [
      "Saving c:\\_Lib\\python\\rfsoc\\elaine_rfsoc\\slab_rfsoc_expts\\data\\00216_single_shot_qubit0.h5\n",
      "13.74680461036758\n",
      "7.8500762241300315\n",
      "new anle, threshold, and fidelity 13.74680461036758 7.8500762241300315 83.60854510681384\n",
      "Recalibration data appended to C:\\_Data\\LLqub_contT1\\2024-03-13_10-51-23.h5\n"
     ]
    },
    {
     "data": {
      "application/vnd.jupyter.widget-view+json": {
       "model_id": "74d7fd6f4728496ba14dd87747bd21df",
       "version_major": 2,
       "version_minor": 0
      },
      "text/plain": [
       "  0%|          | 0/1000000 [00:00<?, ?it/s]"
      ]
     },
     "metadata": {},
     "output_type": "display_data"
    },
    {
     "name": "stdout",
     "output_type": "stream",
     "text": [
      "Continuous data appended to C:\\_Data\\LLqub_contT1\\2024-03-13_10-51-23.h5\n"
     ]
    },
    {
     "data": {
      "application/vnd.jupyter.widget-view+json": {
       "model_id": "edcdea2412174c819fcaa5897eb91a8c",
       "version_major": 2,
       "version_minor": 0
      },
      "text/plain": [
       "  0%|          | 0/1000000 [00:00<?, ?it/s]"
      ]
     },
     "metadata": {},
     "output_type": "display_data"
    },
    {
     "name": "stdout",
     "output_type": "stream",
     "text": [
      "Continuous data appended to C:\\_Data\\LLqub_contT1\\2024-03-13_10-51-23.h5\n",
      "3283.4075345999954 seconds have passed. Running T1 recalibration.\n"
     ]
    },
    {
     "data": {
      "application/vnd.jupyter.widget-view+json": {
       "model_id": "ffaaeb0a1e12428b99b70211f828d723",
       "version_major": 2,
       "version_minor": 0
      },
      "text/plain": [
       "  0%|          | 0/50000 [00:00<?, ?it/s]"
      ]
     },
     "metadata": {},
     "output_type": "display_data"
    },
    {
     "name": "stdout",
     "output_type": "stream",
     "text": [
      "t1_i is better, saving T1_i to results cfg file\n",
      "143.84103263939835 33472.54313665281 143.26341987289481\n",
      "using phase reset\n",
      "<Pyro4.core.Proxy at 0x28b45e129b0; not connected; for PYRO:obj_e0a12d402d674a73a40b28fdfe13addf@192.168.137.233:40721>\n"
     ]
    },
    {
     "data": {
      "application/vnd.jupyter.widget-view+json": {
       "model_id": "43073a0e7b8b42b3bf1725942baad9a0",
       "version_major": 2,
       "version_minor": 0
      },
      "text/plain": [
       "  0%|          | 0/40000 [00:00<?, ?it/s]"
      ]
     },
     "metadata": {},
     "output_type": "display_data"
    },
    {
     "name": "stdout",
     "output_type": "stream",
     "text": [
      "using phase reset\n"
     ]
    },
    {
     "data": {
      "application/vnd.jupyter.widget-view+json": {
       "model_id": "5722374be5fd4e86a9771992943dbbae",
       "version_major": 2,
       "version_minor": 0
      },
      "text/plain": [
       "  0%|          | 0/40000 [00:00<?, ?it/s]"
      ]
     },
     "metadata": {},
     "output_type": "display_data"
    },
    {
     "name": "stdout",
     "output_type": "stream",
     "text": [
      "Saving c:\\_Lib\\python\\rfsoc\\elaine_rfsoc\\slab_rfsoc_expts\\data\\00217_single_shot_qubit0.h5\n",
      "12.783696105270932\n",
      "7.627720085719433\n",
      "new anle, threshold, and fidelity 12.783696105270932 7.627720085719433 81.65602070025876\n",
      "Recalibration data appended to C:\\_Data\\LLqub_contT1\\2024-03-13_10-51-23.h5\n"
     ]
    },
    {
     "data": {
      "application/vnd.jupyter.widget-view+json": {
       "model_id": "9a579af3401040b383c2969f8ef0b680",
       "version_major": 2,
       "version_minor": 0
      },
      "text/plain": [
       "  0%|          | 0/1000000 [00:00<?, ?it/s]"
      ]
     },
     "metadata": {},
     "output_type": "display_data"
    },
    {
     "name": "stdout",
     "output_type": "stream",
     "text": [
      "Continuous data appended to C:\\_Data\\LLqub_contT1\\2024-03-13_10-51-23.h5\n"
     ]
    },
    {
     "data": {
      "application/vnd.jupyter.widget-view+json": {
       "model_id": "a9de788c09cc49b6bc322981761b7c50",
       "version_major": 2,
       "version_minor": 0
      },
      "text/plain": [
       "  0%|          | 0/1000000 [00:00<?, ?it/s]"
      ]
     },
     "metadata": {},
     "output_type": "display_data"
    },
    {
     "name": "stdout",
     "output_type": "stream",
     "text": [
      "Continuous data appended to C:\\_Data\\LLqub_contT1\\2024-03-13_10-51-23.h5\n",
      "3283.401227800001 seconds have passed. Running T1 recalibration.\n"
     ]
    },
    {
     "data": {
      "application/vnd.jupyter.widget-view+json": {
       "model_id": "1f855beda8ce4096a593e1a6cff1d92c",
       "version_major": 2,
       "version_minor": 0
      },
      "text/plain": [
       "  0%|          | 0/50000 [00:00<?, ?it/s]"
      ]
     },
     "metadata": {},
     "output_type": "display_data"
    },
    {
     "name": "stdout",
     "output_type": "stream",
     "text": [
      "t1_i is better, saving T1_i to results cfg file\n",
      "150.24997217725482 109.7696071839069 149.0515009183938\n",
      "using phase reset\n",
      "<Pyro4.core.Proxy at 0x28b45e13670; not connected; for PYRO:obj_e0a12d402d674a73a40b28fdfe13addf@192.168.137.233:40721>\n"
     ]
    },
    {
     "data": {
      "application/vnd.jupyter.widget-view+json": {
       "model_id": "daf1ef3cce1a4b67913568cf175815f9",
       "version_major": 2,
       "version_minor": 0
      },
      "text/plain": [
       "  0%|          | 0/40000 [00:00<?, ?it/s]"
      ]
     },
     "metadata": {},
     "output_type": "display_data"
    },
    {
     "name": "stdout",
     "output_type": "stream",
     "text": [
      "using phase reset\n"
     ]
    },
    {
     "data": {
      "application/vnd.jupyter.widget-view+json": {
       "model_id": "c2faba55d88e40f6b8ca1187a87f20c6",
       "version_major": 2,
       "version_minor": 0
      },
      "text/plain": [
       "  0%|          | 0/40000 [00:00<?, ?it/s]"
      ]
     },
     "metadata": {},
     "output_type": "display_data"
    },
    {
     "name": "stdout",
     "output_type": "stream",
     "text": [
      "Saving c:\\_Lib\\python\\rfsoc\\elaine_rfsoc\\slab_rfsoc_expts\\data\\00218_single_shot_qubit0.h5\n",
      "9.793574099460933\n",
      "8.026936952719375\n",
      "new anle, threshold, and fidelity 9.793574099460933 8.026936952719375 82.91103638795485\n",
      "Recalibration data appended to C:\\_Data\\LLqub_contT1\\2024-03-13_10-51-23.h5\n"
     ]
    },
    {
     "data": {
      "application/vnd.jupyter.widget-view+json": {
       "model_id": "c94542c22a0a4dcd817c97b580b4eb4d",
       "version_major": 2,
       "version_minor": 0
      },
      "text/plain": [
       "  0%|          | 0/1000000 [00:00<?, ?it/s]"
      ]
     },
     "metadata": {},
     "output_type": "display_data"
    },
    {
     "name": "stdout",
     "output_type": "stream",
     "text": [
      "Continuous data appended to C:\\_Data\\LLqub_contT1\\2024-03-13_10-51-23.h5\n"
     ]
    },
    {
     "data": {
      "application/vnd.jupyter.widget-view+json": {
       "model_id": "f5abf57c69fc4a6abc4a58fe11e18fb2",
       "version_major": 2,
       "version_minor": 0
      },
      "text/plain": [
       "  0%|          | 0/1000000 [00:00<?, ?it/s]"
      ]
     },
     "metadata": {},
     "output_type": "display_data"
    },
    {
     "name": "stdout",
     "output_type": "stream",
     "text": [
      "Continuous data appended to C:\\_Data\\LLqub_contT1\\2024-03-13_10-51-23.h5\n",
      "3283.403361600009 seconds have passed. Running T1 recalibration.\n"
     ]
    },
    {
     "data": {
      "application/vnd.jupyter.widget-view+json": {
       "model_id": "a68414ed993343da80fa432412d08c08",
       "version_major": 2,
       "version_minor": 0
      },
      "text/plain": [
       "  0%|          | 0/50000 [00:00<?, ?it/s]"
      ]
     },
     "metadata": {},
     "output_type": "display_data"
    },
    {
     "name": "stdout",
     "output_type": "stream",
     "text": [
      "t1_i is better, saving T1_i to results cfg file\n",
      "157.94136312438567 689.2785596474627 157.80924837178185\n",
      "using phase reset\n",
      "<Pyro4.core.Proxy at 0x28b45e12800; not connected; for PYRO:obj_e0a12d402d674a73a40b28fdfe13addf@192.168.137.233:40721>\n"
     ]
    },
    {
     "data": {
      "application/vnd.jupyter.widget-view+json": {
       "model_id": "4c405678aa094cc7a5c49b3d49ca8001",
       "version_major": 2,
       "version_minor": 0
      },
      "text/plain": [
       "  0%|          | 0/40000 [00:00<?, ?it/s]"
      ]
     },
     "metadata": {},
     "output_type": "display_data"
    },
    {
     "name": "stdout",
     "output_type": "stream",
     "text": [
      "using phase reset\n"
     ]
    },
    {
     "data": {
      "application/vnd.jupyter.widget-view+json": {
       "model_id": "26a81c71bcb34153ad8651140bbb544b",
       "version_major": 2,
       "version_minor": 0
      },
      "text/plain": [
       "  0%|          | 0/40000 [00:00<?, ?it/s]"
      ]
     },
     "metadata": {},
     "output_type": "display_data"
    },
    {
     "name": "stdout",
     "output_type": "stream",
     "text": [
      "Saving c:\\_Lib\\python\\rfsoc\\elaine_rfsoc\\slab_rfsoc_expts\\data\\00219_single_shot_qubit0.h5\n",
      "8.144838836883624\n",
      "8.003499122944847\n",
      "new anle, threshold, and fidelity 8.144838836883624 8.003499122944847 83.17957948948724\n",
      "Recalibration data appended to C:\\_Data\\LLqub_contT1\\2024-03-13_10-51-23.h5\n"
     ]
    },
    {
     "data": {
      "application/vnd.jupyter.widget-view+json": {
       "model_id": "bf5db059189349f999b4075837f364b4",
       "version_major": 2,
       "version_minor": 0
      },
      "text/plain": [
       "  0%|          | 0/1000000 [00:00<?, ?it/s]"
      ]
     },
     "metadata": {},
     "output_type": "display_data"
    },
    {
     "name": "stdout",
     "output_type": "stream",
     "text": [
      "Continuous data appended to C:\\_Data\\LLqub_contT1\\2024-03-13_10-51-23.h5\n"
     ]
    },
    {
     "data": {
      "application/vnd.jupyter.widget-view+json": {
       "model_id": "b4924c1a4827495da532b73f70e79bcd",
       "version_major": 2,
       "version_minor": 0
      },
      "text/plain": [
       "  0%|          | 0/1000000 [00:00<?, ?it/s]"
      ]
     },
     "metadata": {},
     "output_type": "display_data"
    },
    {
     "name": "stdout",
     "output_type": "stream",
     "text": [
      "Continuous data appended to C:\\_Data\\LLqub_contT1\\2024-03-13_10-51-23.h5\n",
      "3283.372033300009 seconds have passed. Running T1 recalibration.\n"
     ]
    },
    {
     "data": {
      "application/vnd.jupyter.widget-view+json": {
       "model_id": "9360a8b26a8c4f1998f816e5b9052f01",
       "version_major": 2,
       "version_minor": 0
      },
      "text/plain": [
       "  0%|          | 0/50000 [00:00<?, ?it/s]"
      ]
     },
     "metadata": {},
     "output_type": "display_data"
    },
    {
     "name": "stdout",
     "output_type": "stream",
     "text": [
      "t1_i is better, saving T1_i to results cfg file\n",
      "134.00524472479128 175.0820359651023 132.93244838530538\n",
      "using phase reset\n",
      "<Pyro4.core.Proxy at 0x28b45e57f70; not connected; for PYRO:obj_e0a12d402d674a73a40b28fdfe13addf@192.168.137.233:40721>\n"
     ]
    },
    {
     "data": {
      "application/vnd.jupyter.widget-view+json": {
       "model_id": "593b2173b1fd4a988d0ace91a01c2165",
       "version_major": 2,
       "version_minor": 0
      },
      "text/plain": [
       "  0%|          | 0/40000 [00:00<?, ?it/s]"
      ]
     },
     "metadata": {},
     "output_type": "display_data"
    },
    {
     "name": "stdout",
     "output_type": "stream",
     "text": [
      "using phase reset\n"
     ]
    },
    {
     "data": {
      "application/vnd.jupyter.widget-view+json": {
       "model_id": "0222ea6a1e354c41b5e43e07597fd8dc",
       "version_major": 2,
       "version_minor": 0
      },
      "text/plain": [
       "  0%|          | 0/40000 [00:00<?, ?it/s]"
      ]
     },
     "metadata": {},
     "output_type": "display_data"
    },
    {
     "name": "stdout",
     "output_type": "stream",
     "text": [
      "Saving c:\\_Lib\\python\\rfsoc\\elaine_rfsoc\\slab_rfsoc_expts\\data\\00220_single_shot_qubit0.h5\n",
      "6.767213418228559\n",
      "7.972052577264094\n",
      "new anle, threshold, and fidelity 6.767213418228559 7.972052577264094 83.12811730439891\n",
      "Recalibration data appended to C:\\_Data\\LLqub_contT1\\2024-03-13_10-51-23.h5\n"
     ]
    },
    {
     "data": {
      "application/vnd.jupyter.widget-view+json": {
       "model_id": "efc43ba5e64942b29fe1a0c4d7befdfb",
       "version_major": 2,
       "version_minor": 0
      },
      "text/plain": [
       "  0%|          | 0/1000000 [00:00<?, ?it/s]"
      ]
     },
     "metadata": {},
     "output_type": "display_data"
    },
    {
     "name": "stdout",
     "output_type": "stream",
     "text": [
      "Continuous data appended to C:\\_Data\\LLqub_contT1\\2024-03-13_10-51-23.h5\n"
     ]
    },
    {
     "data": {
      "application/vnd.jupyter.widget-view+json": {
       "model_id": "b1ec6a34598c40f1b5b5fef63ea5f7e4",
       "version_major": 2,
       "version_minor": 0
      },
      "text/plain": [
       "  0%|          | 0/1000000 [00:00<?, ?it/s]"
      ]
     },
     "metadata": {},
     "output_type": "display_data"
    },
    {
     "name": "stdout",
     "output_type": "stream",
     "text": [
      "Continuous data appended to C:\\_Data\\LLqub_contT1\\2024-03-13_10-51-23.h5\n",
      "3283.404152300005 seconds have passed. Running T1 recalibration.\n"
     ]
    },
    {
     "data": {
      "application/vnd.jupyter.widget-view+json": {
       "model_id": "a1173147d6ae4027af3ece5c10bf31c1",
       "version_major": 2,
       "version_minor": 0
      },
      "text/plain": [
       "  0%|          | 0/50000 [00:00<?, ?it/s]"
      ]
     },
     "metadata": {},
     "output_type": "display_data"
    },
    {
     "name": "stderr",
     "output_type": "stream",
     "text": [
      "c:\\_Lib\\python\\rfsoc\\elaine_rfsoc\\slab_rfsoc_expts\\experiments\\fitting.py:65: RuntimeWarning: overflow encountered in exp\n",
      "  return y0 + yscale*np.exp(-(x-x0)/decay)\n"
     ]
    },
    {
     "name": "stdout",
     "output_type": "stream",
     "text": [
      "t1_i is better, saving T1_i to results cfg file\n",
      "133.74417258175504 135.64011689204946 132.9745399600199\n",
      "using phase reset\n",
      "<Pyro4.core.Proxy at 0x28b45e125f0; not connected; for PYRO:obj_e0a12d402d674a73a40b28fdfe13addf@192.168.137.233:40721>\n"
     ]
    },
    {
     "data": {
      "application/vnd.jupyter.widget-view+json": {
       "model_id": "45fc8d3cd11f42dfbd741e9fad57fbe4",
       "version_major": 2,
       "version_minor": 0
      },
      "text/plain": [
       "  0%|          | 0/40000 [00:00<?, ?it/s]"
      ]
     },
     "metadata": {},
     "output_type": "display_data"
    },
    {
     "name": "stdout",
     "output_type": "stream",
     "text": [
      "using phase reset\n"
     ]
    },
    {
     "data": {
      "application/vnd.jupyter.widget-view+json": {
       "model_id": "f63b389aee6a482b974d8eba279dc32f",
       "version_major": 2,
       "version_minor": 0
      },
      "text/plain": [
       "  0%|          | 0/40000 [00:00<?, ?it/s]"
      ]
     },
     "metadata": {},
     "output_type": "display_data"
    },
    {
     "name": "stdout",
     "output_type": "stream",
     "text": [
      "Saving c:\\_Lib\\python\\rfsoc\\elaine_rfsoc\\slab_rfsoc_expts\\data\\00221_single_shot_qubit0.h5\n",
      "5.99387771288135\n",
      "7.782677066838225\n",
      "new anle, threshold, and fidelity 5.99387771288135 7.782677066838225 83.48813080490518\n",
      "Recalibration data appended to C:\\_Data\\LLqub_contT1\\2024-03-13_10-51-23.h5\n"
     ]
    },
    {
     "data": {
      "application/vnd.jupyter.widget-view+json": {
       "model_id": "53d2706718e24207a226612497cd1895",
       "version_major": 2,
       "version_minor": 0
      },
      "text/plain": [
       "  0%|          | 0/1000000 [00:00<?, ?it/s]"
      ]
     },
     "metadata": {},
     "output_type": "display_data"
    },
    {
     "name": "stdout",
     "output_type": "stream",
     "text": [
      "Continuous data appended to C:\\_Data\\LLqub_contT1\\2024-03-13_10-51-23.h5\n"
     ]
    },
    {
     "data": {
      "application/vnd.jupyter.widget-view+json": {
       "model_id": "2a0ab70084eb4004b091f2b78255b2a0",
       "version_major": 2,
       "version_minor": 0
      },
      "text/plain": [
       "  0%|          | 0/1000000 [00:00<?, ?it/s]"
      ]
     },
     "metadata": {},
     "output_type": "display_data"
    },
    {
     "name": "stdout",
     "output_type": "stream",
     "text": [
      "Continuous data appended to C:\\_Data\\LLqub_contT1\\2024-03-13_10-51-23.h5\n",
      "3283.4181151000084 seconds have passed. Running T1 recalibration.\n"
     ]
    },
    {
     "data": {
      "application/vnd.jupyter.widget-view+json": {
       "model_id": "eff1c1ac85d748c7a4ccf800cf6f1725",
       "version_major": 2,
       "version_minor": 0
      },
      "text/plain": [
       "  0%|          | 0/50000 [00:00<?, ?it/s]"
      ]
     },
     "metadata": {},
     "output_type": "display_data"
    },
    {
     "name": "stdout",
     "output_type": "stream",
     "text": [
      "t1_i is better, saving T1_i to results cfg file\n",
      "154.83794147262296 87.17876967301088 153.79842782321106\n",
      "using phase reset\n",
      "<Pyro4.core.Proxy at 0x28b45e57f70; not connected; for PYRO:obj_e0a12d402d674a73a40b28fdfe13addf@192.168.137.233:40721>\n"
     ]
    },
    {
     "data": {
      "application/vnd.jupyter.widget-view+json": {
       "model_id": "a3db08181b3b4c8ea889b7201bdac791",
       "version_major": 2,
       "version_minor": 0
      },
      "text/plain": [
       "  0%|          | 0/40000 [00:00<?, ?it/s]"
      ]
     },
     "metadata": {},
     "output_type": "display_data"
    },
    {
     "name": "stdout",
     "output_type": "stream",
     "text": [
      "using phase reset\n"
     ]
    },
    {
     "data": {
      "application/vnd.jupyter.widget-view+json": {
       "model_id": "e5fa79729a184affb59f28b7f9d0b496",
       "version_major": 2,
       "version_minor": 0
      },
      "text/plain": [
       "  0%|          | 0/40000 [00:00<?, ?it/s]"
      ]
     },
     "metadata": {},
     "output_type": "display_data"
    },
    {
     "name": "stdout",
     "output_type": "stream",
     "text": [
      "Saving c:\\_Lib\\python\\rfsoc\\elaine_rfsoc\\slab_rfsoc_expts\\data\\00222_single_shot_qubit0.h5\n",
      "5.874578483862119\n",
      "8.048470625839503\n",
      "new anle, threshold, and fidelity 5.874578483862119 8.048470625839503 83.37958448961224\n",
      "Recalibration data appended to C:\\_Data\\LLqub_contT1\\2024-03-13_10-51-23.h5\n"
     ]
    },
    {
     "data": {
      "application/vnd.jupyter.widget-view+json": {
       "model_id": "a3f2cb64678d42799cb50fa9391150e0",
       "version_major": 2,
       "version_minor": 0
      },
      "text/plain": [
       "  0%|          | 0/1000000 [00:00<?, ?it/s]"
      ]
     },
     "metadata": {},
     "output_type": "display_data"
    },
    {
     "name": "stdout",
     "output_type": "stream",
     "text": [
      "Continuous data appended to C:\\_Data\\LLqub_contT1\\2024-03-13_10-51-23.h5\n"
     ]
    },
    {
     "data": {
      "application/vnd.jupyter.widget-view+json": {
       "model_id": "645efd010ba04ae191c6cea1ae9badb1",
       "version_major": 2,
       "version_minor": 0
      },
      "text/plain": [
       "  0%|          | 0/1000000 [00:00<?, ?it/s]"
      ]
     },
     "metadata": {},
     "output_type": "display_data"
    },
    {
     "name": "stdout",
     "output_type": "stream",
     "text": [
      "Continuous data appended to C:\\_Data\\LLqub_contT1\\2024-03-13_10-51-23.h5\n",
      "3283.3833879999875 seconds have passed. Running T1 recalibration.\n"
     ]
    },
    {
     "data": {
      "application/vnd.jupyter.widget-view+json": {
       "model_id": "1c271a3e458a4beab8171284ccb32128",
       "version_major": 2,
       "version_minor": 0
      },
      "text/plain": [
       "  0%|          | 0/50000 [00:00<?, ?it/s]"
      ]
     },
     "metadata": {},
     "output_type": "display_data"
    },
    {
     "name": "stdout",
     "output_type": "stream",
     "text": [
      "t1_i is better, saving T1_i to results cfg file\n",
      "145.86113640190473 178471.3143169138 144.19101049632985\n",
      "using phase reset\n",
      "<Pyro4.core.Proxy at 0x28b45e54e20; not connected; for PYRO:obj_e0a12d402d674a73a40b28fdfe13addf@192.168.137.233:40721>\n"
     ]
    },
    {
     "data": {
      "application/vnd.jupyter.widget-view+json": {
       "model_id": "26e8a52c39c249a1ba933238973a9b17",
       "version_major": 2,
       "version_minor": 0
      },
      "text/plain": [
       "  0%|          | 0/40000 [00:00<?, ?it/s]"
      ]
     },
     "metadata": {},
     "output_type": "display_data"
    },
    {
     "name": "stdout",
     "output_type": "stream",
     "text": [
      "using phase reset\n"
     ]
    },
    {
     "data": {
      "application/vnd.jupyter.widget-view+json": {
       "model_id": "4150128bc9464592a169957356bb0f86",
       "version_major": 2,
       "version_minor": 0
      },
      "text/plain": [
       "  0%|          | 0/40000 [00:00<?, ?it/s]"
      ]
     },
     "metadata": {},
     "output_type": "display_data"
    },
    {
     "name": "stdout",
     "output_type": "stream",
     "text": [
      "Saving c:\\_Lib\\python\\rfsoc\\elaine_rfsoc\\slab_rfsoc_expts\\data\\00223_single_shot_qubit0.h5\n",
      "5.2619162713308025\n",
      "7.954227195402229\n",
      "new anle, threshold, and fidelity 5.2619162713308025 7.954227195402229 82.34602932536657\n",
      "Recalibration data appended to C:\\_Data\\LLqub_contT1\\2024-03-13_10-51-23.h5\n"
     ]
    },
    {
     "data": {
      "application/vnd.jupyter.widget-view+json": {
       "model_id": "ebc5cd6d3e7b47a1b7caeb68ddb9db5b",
       "version_major": 2,
       "version_minor": 0
      },
      "text/plain": [
       "  0%|          | 0/1000000 [00:00<?, ?it/s]"
      ]
     },
     "metadata": {},
     "output_type": "display_data"
    },
    {
     "name": "stdout",
     "output_type": "stream",
     "text": [
      "Continuous data appended to C:\\_Data\\LLqub_contT1\\2024-03-13_10-51-23.h5\n"
     ]
    },
    {
     "data": {
      "application/vnd.jupyter.widget-view+json": {
       "model_id": "b0a765acd2724ce190c46493947fd780",
       "version_major": 2,
       "version_minor": 0
      },
      "text/plain": [
       "  0%|          | 0/1000000 [00:00<?, ?it/s]"
      ]
     },
     "metadata": {},
     "output_type": "display_data"
    },
    {
     "name": "stdout",
     "output_type": "stream",
     "text": [
      "Continuous data appended to C:\\_Data\\LLqub_contT1\\2024-03-13_10-51-23.h5\n",
      "3283.4167405999906 seconds have passed. Running T1 recalibration.\n"
     ]
    },
    {
     "data": {
      "application/vnd.jupyter.widget-view+json": {
       "model_id": "0f031fa7ce314350aa2deb9d6daf8b09",
       "version_major": 2,
       "version_minor": 0
      },
      "text/plain": [
       "  0%|          | 0/50000 [00:00<?, ?it/s]"
      ]
     },
     "metadata": {},
     "output_type": "display_data"
    },
    {
     "name": "stdout",
     "output_type": "stream",
     "text": [
      "t1_i is better, saving T1_i to results cfg file\n",
      "131.49646669209434 421.2777225154416 131.45905538455577\n",
      "using phase reset\n",
      "<Pyro4.core.Proxy at 0x28b45e55b40; not connected; for PYRO:obj_e0a12d402d674a73a40b28fdfe13addf@192.168.137.233:40721>\n"
     ]
    },
    {
     "data": {
      "application/vnd.jupyter.widget-view+json": {
       "model_id": "958a891698f54b98b38743ea8ecee935",
       "version_major": 2,
       "version_minor": 0
      },
      "text/plain": [
       "  0%|          | 0/40000 [00:00<?, ?it/s]"
      ]
     },
     "metadata": {},
     "output_type": "display_data"
    },
    {
     "name": "stdout",
     "output_type": "stream",
     "text": [
      "using phase reset\n"
     ]
    },
    {
     "data": {
      "application/vnd.jupyter.widget-view+json": {
       "model_id": "8b69f019563349718af549d05e162006",
       "version_major": 2,
       "version_minor": 0
      },
      "text/plain": [
       "  0%|          | 0/40000 [00:00<?, ?it/s]"
      ]
     },
     "metadata": {},
     "output_type": "display_data"
    },
    {
     "name": "stdout",
     "output_type": "stream",
     "text": [
      "Saving c:\\_Lib\\python\\rfsoc\\elaine_rfsoc\\slab_rfsoc_expts\\data\\00224_single_shot_qubit0.h5\n",
      "3.6198437547134867\n",
      "7.786673750422734\n",
      "new anle, threshold, and fidelity 3.6198437547134867 7.786673750422734 77.73347166839586\n",
      "Recalibration data appended to C:\\_Data\\LLqub_contT1\\2024-03-13_10-51-23.h5\n"
     ]
    },
    {
     "data": {
      "application/vnd.jupyter.widget-view+json": {
       "model_id": "753bd5b76db3491d81ba0e3d24bfbbf1",
       "version_major": 2,
       "version_minor": 0
      },
      "text/plain": [
       "  0%|          | 0/1000000 [00:00<?, ?it/s]"
      ]
     },
     "metadata": {},
     "output_type": "display_data"
    },
    {
     "name": "stdout",
     "output_type": "stream",
     "text": [
      "Continuous data appended to C:\\_Data\\LLqub_contT1\\2024-03-13_10-51-23.h5\n"
     ]
    },
    {
     "data": {
      "application/vnd.jupyter.widget-view+json": {
       "model_id": "665bb62c0e464ffb8268acaa8d21e724",
       "version_major": 2,
       "version_minor": 0
      },
      "text/plain": [
       "  0%|          | 0/1000000 [00:00<?, ?it/s]"
      ]
     },
     "metadata": {},
     "output_type": "display_data"
    },
    {
     "name": "stdout",
     "output_type": "stream",
     "text": [
      "Continuous data appended to C:\\_Data\\LLqub_contT1\\2024-03-13_10-51-23.h5\n",
      "3283.4235415000003 seconds have passed. Running T1 recalibration.\n"
     ]
    },
    {
     "data": {
      "application/vnd.jupyter.widget-view+json": {
       "model_id": "5104d86fa69144b1a9c43418f4728219",
       "version_major": 2,
       "version_minor": 0
      },
      "text/plain": [
       "  0%|          | 0/50000 [00:00<?, ?it/s]"
      ]
     },
     "metadata": {},
     "output_type": "display_data"
    },
    {
     "name": "stdout",
     "output_type": "stream",
     "text": [
      "t1_i is better, saving T1_i to results cfg file\n",
      "155.05751665854038 73.67056793178864 154.2596940006472\n",
      "using phase reset\n",
      "<Pyro4.core.Proxy at 0x28b47003c40; not connected; for PYRO:obj_e0a12d402d674a73a40b28fdfe13addf@192.168.137.233:40721>\n"
     ]
    },
    {
     "data": {
      "application/vnd.jupyter.widget-view+json": {
       "model_id": "19b2cb4fb5a2466d8c37741a789a3d1d",
       "version_major": 2,
       "version_minor": 0
      },
      "text/plain": [
       "  0%|          | 0/40000 [00:00<?, ?it/s]"
      ]
     },
     "metadata": {},
     "output_type": "display_data"
    },
    {
     "name": "stdout",
     "output_type": "stream",
     "text": [
      "using phase reset\n"
     ]
    },
    {
     "data": {
      "application/vnd.jupyter.widget-view+json": {
       "model_id": "877cc75ca67b4744b277125819fb19f3",
       "version_major": 2,
       "version_minor": 0
      },
      "text/plain": [
       "  0%|          | 0/40000 [00:00<?, ?it/s]"
      ]
     },
     "metadata": {},
     "output_type": "display_data"
    },
    {
     "name": "stdout",
     "output_type": "stream",
     "text": [
      "Saving c:\\_Lib\\python\\rfsoc\\elaine_rfsoc\\slab_rfsoc_expts\\data\\00225_single_shot_qubit0.h5\n",
      "3.489348465054299\n",
      "7.550826421286619\n",
      "new anle, threshold, and fidelity 3.489348465054299 7.550826421286619 78.17195429885747\n",
      "Recalibration data appended to C:\\_Data\\LLqub_contT1\\2024-03-13_10-51-23.h5\n"
     ]
    },
    {
     "data": {
      "application/vnd.jupyter.widget-view+json": {
       "model_id": "ba1fdc9edcb4490b8cb66c23074a156a",
       "version_major": 2,
       "version_minor": 0
      },
      "text/plain": [
       "  0%|          | 0/1000000 [00:00<?, ?it/s]"
      ]
     },
     "metadata": {},
     "output_type": "display_data"
    },
    {
     "name": "stdout",
     "output_type": "stream",
     "text": [
      "Continuous data appended to C:\\_Data\\LLqub_contT1\\2024-03-13_10-51-23.h5\n"
     ]
    },
    {
     "data": {
      "application/vnd.jupyter.widget-view+json": {
       "model_id": "3459110e9dff4dc3a77cecc2b66f52f1",
       "version_major": 2,
       "version_minor": 0
      },
      "text/plain": [
       "  0%|          | 0/1000000 [00:00<?, ?it/s]"
      ]
     },
     "metadata": {},
     "output_type": "display_data"
    },
    {
     "name": "stdout",
     "output_type": "stream",
     "text": [
      "Continuous data appended to C:\\_Data\\LLqub_contT1\\2024-03-13_10-51-23.h5\n",
      "3283.41866190001 seconds have passed. Running T1 recalibration.\n"
     ]
    },
    {
     "data": {
      "application/vnd.jupyter.widget-view+json": {
       "model_id": "892d2cc2cad5475f9b5c6ed6e980df98",
       "version_major": 2,
       "version_minor": 0
      },
      "text/plain": [
       "  0%|          | 0/50000 [00:00<?, ?it/s]"
      ]
     },
     "metadata": {},
     "output_type": "display_data"
    },
    {
     "name": "stdout",
     "output_type": "stream",
     "text": [
      "t1_i is better, saving T1_i to results cfg file\n",
      "58.9331963592794 5.515736667414146 58.83131847394155\n",
      "using phase reset\n",
      "<Pyro4.core.Proxy at 0x28b45e13610; not connected; for PYRO:obj_e0a12d402d674a73a40b28fdfe13addf@192.168.137.233:40721>\n"
     ]
    },
    {
     "data": {
      "application/vnd.jupyter.widget-view+json": {
       "model_id": "bd0e6c81f6954c5b95711bb48346680b",
       "version_major": 2,
       "version_minor": 0
      },
      "text/plain": [
       "  0%|          | 0/40000 [00:00<?, ?it/s]"
      ]
     },
     "metadata": {},
     "output_type": "display_data"
    },
    {
     "name": "stdout",
     "output_type": "stream",
     "text": [
      "using phase reset\n"
     ]
    },
    {
     "data": {
      "application/vnd.jupyter.widget-view+json": {
       "model_id": "1f65875dd6a648d8a8369c175b2fde79",
       "version_major": 2,
       "version_minor": 0
      },
      "text/plain": [
       "  0%|          | 0/40000 [00:00<?, ?it/s]"
      ]
     },
     "metadata": {},
     "output_type": "display_data"
    },
    {
     "name": "stdout",
     "output_type": "stream",
     "text": [
      "Saving c:\\_Lib\\python\\rfsoc\\elaine_rfsoc\\slab_rfsoc_expts\\data\\00226_single_shot_qubit0.h5\n",
      "3.603398483196673\n",
      "7.514451064554347\n",
      "new anle, threshold, and fidelity 3.603398483196673 7.514451064554347 73.67842098026225\n",
      "Recalibration data appended to C:\\_Data\\LLqub_contT1\\2024-03-13_10-51-23.h5\n"
     ]
    },
    {
     "data": {
      "application/vnd.jupyter.widget-view+json": {
       "model_id": "90a2dda15de342d79fef40eef1d54ddc",
       "version_major": 2,
       "version_minor": 0
      },
      "text/plain": [
       "  0%|          | 0/1000000 [00:00<?, ?it/s]"
      ]
     },
     "metadata": {},
     "output_type": "display_data"
    },
    {
     "name": "stdout",
     "output_type": "stream",
     "text": [
      "Continuous data appended to C:\\_Data\\LLqub_contT1\\2024-03-13_10-51-23.h5\n"
     ]
    },
    {
     "data": {
      "application/vnd.jupyter.widget-view+json": {
       "model_id": "114960752cb14018968a7cce04ea4129",
       "version_major": 2,
       "version_minor": 0
      },
      "text/plain": [
       "  0%|          | 0/1000000 [00:00<?, ?it/s]"
      ]
     },
     "metadata": {},
     "output_type": "display_data"
    },
    {
     "name": "stdout",
     "output_type": "stream",
     "text": [
      "Continuous data appended to C:\\_Data\\LLqub_contT1\\2024-03-13_10-51-23.h5\n",
      "3283.3939519999985 seconds have passed. Running T1 recalibration.\n"
     ]
    },
    {
     "data": {
      "application/vnd.jupyter.widget-view+json": {
       "model_id": "1b8d6005df5843d6b9ceeba1e820c5d4",
       "version_major": 2,
       "version_minor": 0
      },
      "text/plain": [
       "  0%|          | 0/50000 [00:00<?, ?it/s]"
      ]
     },
     "metadata": {},
     "output_type": "display_data"
    },
    {
     "name": "stdout",
     "output_type": "stream",
     "text": [
      "t1_i is better, saving T1_i to results cfg file\n",
      "77.7800386697548 243985.98549838807 76.96759013682671\n",
      "using phase reset\n",
      "<Pyro4.core.Proxy at 0x28b47078880; not connected; for PYRO:obj_e0a12d402d674a73a40b28fdfe13addf@192.168.137.233:40721>\n"
     ]
    },
    {
     "data": {
      "application/vnd.jupyter.widget-view+json": {
       "model_id": "3f3ebb89c7f147bf85bc2d5b64e7abd7",
       "version_major": 2,
       "version_minor": 0
      },
      "text/plain": [
       "  0%|          | 0/40000 [00:00<?, ?it/s]"
      ]
     },
     "metadata": {},
     "output_type": "display_data"
    },
    {
     "name": "stdout",
     "output_type": "stream",
     "text": [
      "using phase reset\n"
     ]
    },
    {
     "data": {
      "application/vnd.jupyter.widget-view+json": {
       "model_id": "2b6936f6a4ef44c28cbdc7d6af5e6630",
       "version_major": 2,
       "version_minor": 0
      },
      "text/plain": [
       "  0%|          | 0/40000 [00:00<?, ?it/s]"
      ]
     },
     "metadata": {},
     "output_type": "display_data"
    },
    {
     "name": "stdout",
     "output_type": "stream",
     "text": [
      "Saving c:\\_Lib\\python\\rfsoc\\elaine_rfsoc\\slab_rfsoc_expts\\data\\00227_single_shot_qubit0.h5\n",
      "2.199695700498655\n",
      "8.135433398533912\n",
      "new anle, threshold, and fidelity 2.199695700498655 8.135433398533912 80.02850035625445\n",
      "Recalibration data appended to C:\\_Data\\LLqub_contT1\\2024-03-13_10-51-23.h5\n"
     ]
    },
    {
     "data": {
      "application/vnd.jupyter.widget-view+json": {
       "model_id": "252413a9c5304542b8682bbdb0aecf62",
       "version_major": 2,
       "version_minor": 0
      },
      "text/plain": [
       "  0%|          | 0/1000000 [00:00<?, ?it/s]"
      ]
     },
     "metadata": {},
     "output_type": "display_data"
    },
    {
     "name": "stdout",
     "output_type": "stream",
     "text": [
      "Continuous data appended to C:\\_Data\\LLqub_contT1\\2024-03-13_10-51-23.h5\n"
     ]
    },
    {
     "data": {
      "application/vnd.jupyter.widget-view+json": {
       "model_id": "0cb001104cbf49b78971603c59c4890a",
       "version_major": 2,
       "version_minor": 0
      },
      "text/plain": [
       "  0%|          | 0/1000000 [00:00<?, ?it/s]"
      ]
     },
     "metadata": {},
     "output_type": "display_data"
    },
    {
     "name": "stdout",
     "output_type": "stream",
     "text": [
      "Continuous data appended to C:\\_Data\\LLqub_contT1\\2024-03-13_10-51-23.h5\n",
      "3283.399719000008 seconds have passed. Running T1 recalibration.\n"
     ]
    },
    {
     "data": {
      "application/vnd.jupyter.widget-view+json": {
       "model_id": "c7aab27b0b1e437cbfe3415e0b76f886",
       "version_major": 2,
       "version_minor": 0
      },
      "text/plain": [
       "  0%|          | 0/50000 [00:00<?, ?it/s]"
      ]
     },
     "metadata": {},
     "output_type": "display_data"
    },
    {
     "name": "stdout",
     "output_type": "stream",
     "text": [
      "t1_i is better, saving T1_i to results cfg file\n",
      "140.80804016483873 158.55904500462515 138.98095918647175\n",
      "using phase reset\n",
      "<Pyro4.core.Proxy at 0x28b45e10670; not connected; for PYRO:obj_e0a12d402d674a73a40b28fdfe13addf@192.168.137.233:40721>\n"
     ]
    },
    {
     "data": {
      "application/vnd.jupyter.widget-view+json": {
       "model_id": "e694482eb0904e8a9684f2b76c8d48f2",
       "version_major": 2,
       "version_minor": 0
      },
      "text/plain": [
       "  0%|          | 0/40000 [00:00<?, ?it/s]"
      ]
     },
     "metadata": {},
     "output_type": "display_data"
    },
    {
     "name": "stdout",
     "output_type": "stream",
     "text": [
      "using phase reset\n"
     ]
    },
    {
     "data": {
      "application/vnd.jupyter.widget-view+json": {
       "model_id": "a80c1043ff934fe3820626d0d014a694",
       "version_major": 2,
       "version_minor": 0
      },
      "text/plain": [
       "  0%|          | 0/40000 [00:00<?, ?it/s]"
      ]
     },
     "metadata": {},
     "output_type": "display_data"
    },
    {
     "name": "stdout",
     "output_type": "stream",
     "text": [
      "Saving c:\\_Lib\\python\\rfsoc\\elaine_rfsoc\\slab_rfsoc_expts\\data\\00228_single_shot_qubit0.h5\n",
      "1.841952475789334\n",
      "7.993276546226465\n",
      "new anle, threshold, and fidelity 1.841952475789334 7.993276546226465 81.69352116901462\n",
      "Recalibration data appended to C:\\_Data\\LLqub_contT1\\2024-03-13_10-51-23.h5\n"
     ]
    },
    {
     "data": {
      "application/vnd.jupyter.widget-view+json": {
       "model_id": "e48ba4859bbb46fe9859e5b47a4e574d",
       "version_major": 2,
       "version_minor": 0
      },
      "text/plain": [
       "  0%|          | 0/1000000 [00:00<?, ?it/s]"
      ]
     },
     "metadata": {},
     "output_type": "display_data"
    },
    {
     "name": "stdout",
     "output_type": "stream",
     "text": [
      "Continuous data appended to C:\\_Data\\LLqub_contT1\\2024-03-13_10-51-23.h5\n"
     ]
    },
    {
     "data": {
      "application/vnd.jupyter.widget-view+json": {
       "model_id": "41e33aec83a94187aaa036338a4c1b72",
       "version_major": 2,
       "version_minor": 0
      },
      "text/plain": [
       "  0%|          | 0/1000000 [00:00<?, ?it/s]"
      ]
     },
     "metadata": {},
     "output_type": "display_data"
    },
    {
     "name": "stdout",
     "output_type": "stream",
     "text": [
      "Continuous data appended to C:\\_Data\\LLqub_contT1\\2024-03-13_10-51-23.h5\n",
      "3283.3944925000105 seconds have passed. Running T1 recalibration.\n"
     ]
    },
    {
     "data": {
      "application/vnd.jupyter.widget-view+json": {
       "model_id": "234c57e6bd9641f8a08fd1c0c24375e4",
       "version_major": 2,
       "version_minor": 0
      },
      "text/plain": [
       "  0%|          | 0/50000 [00:00<?, ?it/s]"
      ]
     },
     "metadata": {},
     "output_type": "display_data"
    },
    {
     "name": "stdout",
     "output_type": "stream",
     "text": [
      "t1_q is better, saving t1_q to results cfg file\n",
      "55.2805501694186 -10.951156945323078 54.37930977914691\n",
      "using phase reset\n",
      "<Pyro4.core.Proxy at 0x28b45e10970; not connected; for PYRO:obj_e0a12d402d674a73a40b28fdfe13addf@192.168.137.233:40721>\n"
     ]
    },
    {
     "data": {
      "application/vnd.jupyter.widget-view+json": {
       "model_id": "03cfe2ec212e47f3b0b259a3efc313cf",
       "version_major": 2,
       "version_minor": 0
      },
      "text/plain": [
       "  0%|          | 0/40000 [00:00<?, ?it/s]"
      ]
     },
     "metadata": {},
     "output_type": "display_data"
    },
    {
     "name": "stdout",
     "output_type": "stream",
     "text": [
      "using phase reset\n"
     ]
    },
    {
     "data": {
      "application/vnd.jupyter.widget-view+json": {
       "model_id": "c689dd4af5c14ec1b001a1a0f12ab4f9",
       "version_major": 2,
       "version_minor": 0
      },
      "text/plain": [
       "  0%|          | 0/40000 [00:00<?, ?it/s]"
      ]
     },
     "metadata": {},
     "output_type": "display_data"
    },
    {
     "name": "stdout",
     "output_type": "stream",
     "text": [
      "Saving c:\\_Lib\\python\\rfsoc\\elaine_rfsoc\\slab_rfsoc_expts\\data\\00229_single_shot_qubit0.h5\n",
      "-0.024695852623475525\n",
      "8.181372874245884\n",
      "new anle, threshold, and fidelity -0.024695852623475525 8.181372874245884 82.7085338566732\n",
      "Recalibration data appended to C:\\_Data\\LLqub_contT1\\2024-03-13_10-51-23.h5\n"
     ]
    },
    {
     "data": {
      "application/vnd.jupyter.widget-view+json": {
       "model_id": "2e390e28d7a94c1ca532aebe1510263c",
       "version_major": 2,
       "version_minor": 0
      },
      "text/plain": [
       "  0%|          | 0/1000000 [00:00<?, ?it/s]"
      ]
     },
     "metadata": {},
     "output_type": "display_data"
    },
    {
     "name": "stdout",
     "output_type": "stream",
     "text": [
      "Continuous data appended to C:\\_Data\\LLqub_contT1\\2024-03-13_10-51-23.h5\n"
     ]
    },
    {
     "data": {
      "application/vnd.jupyter.widget-view+json": {
       "model_id": "8f38fdb4ea314580bff34741d771585d",
       "version_major": 2,
       "version_minor": 0
      },
      "text/plain": [
       "  0%|          | 0/1000000 [00:00<?, ?it/s]"
      ]
     },
     "metadata": {},
     "output_type": "display_data"
    },
    {
     "name": "stdout",
     "output_type": "stream",
     "text": [
      "Continuous data appended to C:\\_Data\\LLqub_contT1\\2024-03-13_10-51-23.h5\n",
      "3283.4013985000056 seconds have passed. Running T1 recalibration.\n"
     ]
    },
    {
     "data": {
      "application/vnd.jupyter.widget-view+json": {
       "model_id": "72cd7b2cb6904de3b728b82ba7cb55a5",
       "version_major": 2,
       "version_minor": 0
      },
      "text/plain": [
       "  0%|          | 0/50000 [00:00<?, ?it/s]"
      ]
     },
     "metadata": {},
     "output_type": "display_data"
    },
    {
     "name": "stdout",
     "output_type": "stream",
     "text": [
      "t1_i is better, saving T1_i to results cfg file\n",
      "119.53488375541455 104.24575846147764 118.77084699778761\n",
      "using phase reset\n",
      "<Pyro4.core.Proxy at 0x28b45f17730; not connected; for PYRO:obj_e0a12d402d674a73a40b28fdfe13addf@192.168.137.233:40721>\n"
     ]
    },
    {
     "data": {
      "application/vnd.jupyter.widget-view+json": {
       "model_id": "b52ef69862de4a55b01bdddcad53a72e",
       "version_major": 2,
       "version_minor": 0
      },
      "text/plain": [
       "  0%|          | 0/40000 [00:00<?, ?it/s]"
      ]
     },
     "metadata": {},
     "output_type": "display_data"
    },
    {
     "name": "stdout",
     "output_type": "stream",
     "text": [
      "using phase reset\n"
     ]
    },
    {
     "data": {
      "application/vnd.jupyter.widget-view+json": {
       "model_id": "26f3f49b36c74d64ab09b528febffeb1",
       "version_major": 2,
       "version_minor": 0
      },
      "text/plain": [
       "  0%|          | 0/40000 [00:00<?, ?it/s]"
      ]
     },
     "metadata": {},
     "output_type": "display_data"
    },
    {
     "name": "stdout",
     "output_type": "stream",
     "text": [
      "Saving c:\\_Lib\\python\\rfsoc\\elaine_rfsoc\\slab_rfsoc_expts\\data\\00230_single_shot_qubit0.h5\n",
      "0.4280911092834145\n",
      "8.15785098346333\n",
      "new anle, threshold, and fidelity 0.4280911092834145 8.15785098346333 83.07603845048062\n",
      "Recalibration data appended to C:\\_Data\\LLqub_contT1\\2024-03-13_10-51-23.h5\n"
     ]
    },
    {
     "data": {
      "application/vnd.jupyter.widget-view+json": {
       "model_id": "f5d977eafffb4ab199ea8df70f8522f5",
       "version_major": 2,
       "version_minor": 0
      },
      "text/plain": [
       "  0%|          | 0/1000000 [00:00<?, ?it/s]"
      ]
     },
     "metadata": {},
     "output_type": "display_data"
    },
    {
     "name": "stdout",
     "output_type": "stream",
     "text": [
      "Continuous data appended to C:\\_Data\\LLqub_contT1\\2024-03-13_10-51-23.h5\n"
     ]
    },
    {
     "data": {
      "application/vnd.jupyter.widget-view+json": {
       "model_id": "6ae9daf495f54c0f95fd592b2511188b",
       "version_major": 2,
       "version_minor": 0
      },
      "text/plain": [
       "  0%|          | 0/1000000 [00:00<?, ?it/s]"
      ]
     },
     "metadata": {},
     "output_type": "display_data"
    },
    {
     "name": "stdout",
     "output_type": "stream",
     "text": [
      "Program stopped. HDF5 file closed.\n"
     ]
    }
   ],
   "source": [
    "def run_continuous_t1(qubit_i):\n",
    "    t1_cont = meas.T1Continuous(\n",
    "        soccfg=soc,\n",
    "        path=expt_path,\n",
    "        prefix=f\"t1_continuous_qubit{qubit_i}\",\n",
    "        config_file=results_config_path,\n",
    "    )\n",
    "\n",
    "    span = auto_cfg.device.qubit.T1[qubit_i]\n",
    "    npts = 1\n",
    "\n",
    "    t1_cont.cfg.expt = dict(\n",
    "        start=span / npts,  # wait time [us]\n",
    "        step=0,\n",
    "        expts=npts,\n",
    "        reps=  1000000, #1000000,  # number of times we repeat a time point\n",
    "        rounds=1,  # number of start to finish sweeps to average over\n",
    "        qubit=qubit_i,\n",
    "    )\n",
    "\n",
    "    t1_cont.go(analyze=False, display=False, progress=True, save=False)\n",
    "    t1_raw_i = t1_cont.data['raw_i']\n",
    "    t1_raw_q = t1_cont.data['raw_q']\n",
    "    t1_amps = t1_cont.data['raw_amps']\n",
    "\n",
    "    return t1_raw_i, t1_raw_q, t1_amps\n",
    "pass\n",
    "\n",
    "def run_t1_recalibration(qubit_i):\n",
    "    t1 = meas.T1Experiment(\n",
    "        soccfg=soc,\n",
    "        path=expt_path,\n",
    "        prefix=f\"t1_qubit{qubit_i}\",\n",
    "        config_file=results_config_path,\n",
    "        )\n",
    "\n",
    "    span = 600 \n",
    "    npts = 100 #100\n",
    "\n",
    "    t1.cfg.expt = dict(\n",
    "        start=0,  # wait time [us]\n",
    "        step=int(span / npts),\n",
    "        expts=npts,\n",
    "        reps= 100*5, #100*5,  # number of times we repeat a time point\n",
    "        rounds=1,  # number of start to finish sweeps to average over\n",
    "        qubit=qubit_i,\n",
    "        length_scan=span,  # length of the scan in us\n",
    "        num_saved_points=1,  # number of points to save for the T1 continuous scan\n",
    "        )\n",
    "\n",
    "    t1.go(analyze=False, display=False, progress=True, save=False)\n",
    "    t1.analyze(fit=True)\n",
    "    t1_err_i = np.sqrt(t1.data['fit_err_avgi'][3][3])\n",
    "    t1_fit_i =t1.data['fit_avgi'][3]\n",
    "    err_ratio_i = t1_err_i/t1_fit_i\n",
    "\n",
    "    t1_err_q = np.sqrt(t1.data['fit_err_avgq'][3][3])\n",
    "    t1_fit_q =t1.data['fit_avgq'][3]\n",
    "    err_ratio_q = t1_err_q/t1_fit_q\n",
    "\n",
    "    # open the results config file \n",
    "    with open(results_config_file,'r') as file:\n",
    "        auto_cfg=AttrDict(yaml.safe_load(file)) # turn it into an attribute dictionary\n",
    "\n",
    "    if err_ratio_i< err_ratio_q:\n",
    "        print('t1_i is better, saving T1_i to results cfg file') \n",
    "        auto_cfg.device.qubit.T1[qubit_i] = float(t1_fit_i)  # [DAC units]  \n",
    "\n",
    "    else: \n",
    "        print('t1_q is better, saving t1_q to results cfg file')\n",
    "        auto_cfg.device.qubit.T1[qubit_i] = float(t1_fit_q)  # [DAC units]  \n",
    "\n",
    "    auto_cfg= yaml.safe_dump(auto_cfg.to_dict(), default_flow_style=  True) # dump it \n",
    "\n",
    "    # write it: \n",
    "    with open('autocalibration_cfg.yml', 'w') as modified_file:\n",
    "        modified_file.write(auto_cfg)\n",
    "    # now, open the modified file again \n",
    "    with open('autocalibration_cfg.yml','r') as file:\n",
    "        auto_cfg=AttrDict(yaml.safe_load(file)) # turn it into an attribute dictionary\n",
    "    \n",
    "    t1_xpts = t1.data['xpts']\n",
    "    t1_i = t1.data['avgi']\n",
    "    t1_q = t1.data['avgq']\n",
    "    t1_amp = t1.data['amps']\n",
    "    t1_i_value = t1.data['fit_avgi'][3]\n",
    "    t1_q_value = t1.data['fit_avgq'][3]\n",
    "    t1_amp_value = t1.data['fit_amps'][3]\n",
    "    t1_i_value_err = t1.data['fit_err_avgi'][3][3]\n",
    "    t1_q_value_err = t1.data['fit_err_avgq'][3][3]\n",
    "    t1_amp_value_err = t1.data['fit_err_amps'][3][3]\n",
    "\n",
    "    return t1_xpts, t1_i, t1_q, t1_amp, t1_i_value, t1_q_value, t1_amp_value, t1_i_value_err, t1_q_value_err, t1_amp_value_err\n",
    "pass\n",
    "\n",
    "def run_single_shot(qubit_i):\n",
    "    shot = meas.HistogramExperiment(\n",
    "        soccfg=soc,\n",
    "        path=expt_path,\n",
    "        prefix=f\"single_shot_qubit{qubit_i}\",\n",
    "        config_file= results_config_path,\n",
    "    )\n",
    "\n",
    "    shot.cfg.expt = dict(\n",
    "        reps=40000, #40000\n",
    "        check_e = True, \n",
    "        check_f=False,\n",
    "        qubit=0,\n",
    "    )\n",
    "\n",
    "    shot.go(analyze=False, display=False, progress=True, save=True)\n",
    "    shot.analyze(verbose=False)\n",
    "\n",
    "    rotation_angle = shot.data['angle']\n",
    "    print(rotation_angle)\n",
    "    threshold = shot.data['thresholds'][0]\n",
    "    print(threshold)\n",
    "\n",
    "    fidelity = shot.data['fids'][0]*100\n",
    "    Ig = shot.data['Ig']\n",
    "    Qg = shot.data['Qg']\n",
    "    Ie = shot.data['Ie']\n",
    "    Qe = shot.data['Qe']\n",
    "\n",
    "     # open the results config file \n",
    "    with open(results_config_file,'r') as file:\n",
    "        auto_cfg=AttrDict(yaml.safe_load(file)) # turn it into an attribute dictionary\n",
    "\n",
    "    auto_cfg.device.readout.phase[qubit_i] = float(rotation_angle) # degrees\n",
    "    # auto_cfg.device.readout.threshold[qubit_i] = float(threshold) # [DAC units]\n",
    "\n",
    "    auto_cfg= yaml.safe_dump(auto_cfg.to_dict(), default_flow_style=  True) # dump it \n",
    "\n",
    "    # write it: \n",
    "    with open('autocalibration_cfg.yml', 'w') as modified_file:\n",
    "        modified_file.write(auto_cfg)\n",
    "    # now, open the modified file again \n",
    "    with open('autocalibration_cfg.yml','r') as file:\n",
    "        auto_cfg=AttrDict(yaml.safe_load(file)) # turn it into an attribute dictionary\n",
    "\n",
    "    return rotation_angle, threshold, fidelity, Ig, Qg, Ie, Qe\n",
    "\n",
    "def main():\n",
    "    # Get the current date and time\n",
    "    import datetime \n",
    "    from datetime import datetime\n",
    "    \n",
    "    current_datetime = datetime.now()\n",
    "    formatted_datetime = current_datetime.strftime(\"%Y-%m-%d_%H-%M-%S\")\n",
    "\n",
    "    # Create the filename using the formatted date and time\n",
    "    filename = os.path.join(data_path, f\"{formatted_datetime}.h5\")\n",
    "\n",
    "    # Create an HDF5 file to save all the data\n",
    "    hf = h5py.File(filename, 'a')\n",
    "\n",
    "    if 't1_cont' not in hf:\n",
    "        g1 = hf.create_group('t1_cont')\n",
    "        # g1.create_dataset('time', data=np.array([]), maxshape=(None,))\n",
    "        g1.create_dataset('i', data=np.array([]), maxshape=(None,))\n",
    "        g1.create_dataset('q', data=np.array([]), maxshape=(None,))\n",
    "        g1.create_dataset('amp', data=np.array([]), maxshape=(None,))\n",
    "\n",
    "    if 't1_recal' not in hf:\n",
    "        g2 = hf.create_group('t1_recal')\n",
    "        g2.create_dataset('time', data = np.array([]), maxshape=(None,))\n",
    "        g2.create_dataset('xpts', data=np.array([]), maxshape=(None,))\n",
    "        g2.create_dataset('i', data=np.array([]), maxshape=(None,))\n",
    "        g2.create_dataset('q', data=np.array([]), maxshape=(None,))\n",
    "        g2.create_dataset('amp', data=np.array([]), maxshape=(None,))\n",
    "        g2.create_dataset('i_value', data=np.array([]), maxshape=(None,))\n",
    "        g2.create_dataset('q_value', data=np.array([]), maxshape=(None,))\n",
    "        g2.create_dataset('amp_value', data=np.array([]), maxshape=(None,))\n",
    "        g2.create_dataset('i_value_err', data=np.array([]), maxshape=(None,))\n",
    "        g2.create_dataset('q_value_err', data=np.array([]), maxshape=(None,))\n",
    "        g2.create_dataset('amp_value_err', data=np.array([]), maxshape=(None,))\n",
    "    \n",
    "    if 'single_shot' not in hf:\n",
    "        g3 = hf.create_group('single_shot')\n",
    "        g3.create_dataset('time', data = np.array([]), maxshape=(None,))\n",
    "        g3.create_dataset('angle', data=np.array([]), maxshape=(None,))\n",
    "        g3.create_dataset('threshold', data=np.array([]), maxshape=(None,))\n",
    "        g3.create_dataset('fidelity', data=np.array([]), maxshape=(None,))\n",
    "        g3.create_dataset('Ig', data=np.array([]), maxshape=(None,))\n",
    "        g3.create_dataset('Qg', data=np.array([]), maxshape=(None,))\n",
    "        g3.create_dataset('Ie', data=np.array([]), maxshape=(None,))\n",
    "        g3.create_dataset('Qe', data=np.array([]), maxshape=(None,))\n",
    "\n",
    "    qubit_i = 0\n",
    "    # Initialize arrays\n",
    "    t1_raw_i_data, t1_raw_q_data, t1_amps_data = np.array([]), np.array([]), np.array([])\n",
    "    \n",
    "    t1_xpts_recal_data, t1_i_recal_data, t1_q_recal_data, t1_amp_recal_data, t1_i_value_recal_data, t1_q_value_recal_data, t1_amp_value_recal_data, t1_i_value_recal_data_err, t1_q_value_recal_data_err, t1_amp_value_recal_data_err= np.array([]), np.array([]), np.array([]), np.array([]), np.array([]), np.array([]), np.array([]), np.array([]), np.array([]) , np.array([])\n",
    "\n",
    "    angle_recal, threshold_recal, fidelity_recal, Ig_recal, Qg_recal, Ie_recal, Qe_recal = np.array([]), np.array([]), np.array([]), np.array([]), np.array([]), np.array([]), np.array([])\n",
    "    start_time = timer()\n",
    "    try:\n",
    "        while True:\n",
    "        \n",
    "            t1_raw_i_data, t1_raw_q_data, t1_amps_data = run_continuous_t1(qubit_i)\n",
    "\n",
    "            # Append new data to datasets\n",
    "            hf['t1_cont/i'].resize((hf['t1_cont/i'].shape[0] + t1_raw_i_data.shape[0]), axis=0)\n",
    "            hf['t1_cont/i'][-t1_raw_i_data.shape[0]:] = t1_raw_i_data\n",
    "\n",
    "            hf['t1_cont/q'].resize((hf['t1_cont/q'].shape[0] + t1_raw_q_data.shape[0]), axis=0)\n",
    "            hf['t1_cont/q'][-t1_raw_q_data.shape[0]:] = t1_raw_q_data\n",
    "\n",
    "            hf['t1_cont/amp'].resize((hf['t1_cont/amp'].shape[0] + t1_amps_data.shape[0]), axis=0)\n",
    "            hf['t1_cont/amp'][-t1_amps_data.shape[0]:] = t1_amps_data\n",
    "           \n",
    "            print('Continuous data appended to', filename)\n",
    "\n",
    "            end_time = timer()\n",
    "\n",
    "            if end_time - start_time >= 60*30: #60*30\n",
    "                # now = datetime.now()\n",
    "                # current_time = now.strftime(\"%H:%M:%S\")\n",
    "                # # current_time = current_time.encode('ascii','replace')\n",
    "\n",
    "                # # Run the continuous T1 experiment\n",
    "                # hf['t1_recal/time'].resize((hf['t1_recal/time'].shape[0] + 1), axis=0)\n",
    "                # hf['t1_recal/time'][-1:] = current_datetime\n",
    "                # current_time = time.time()\n",
    "                # t1_time_recal_data = np.append(t1_time_recal_data, current_time)\n",
    "                \n",
    "                print(f\"{end_time - start_time} seconds have passed. Running T1 recalibration.\")\n",
    "\n",
    "                # Run the T1 recalibration experiment\n",
    "                t1_xpts_recal_data, t1_i_recal_data, t1_q_recal_data, t1_amp_recal_data, t1_i_value_recal_data, t1_q_value_recal_data, t1_amp_value_recal_data, t1_i_value_recal_data_err, t1_q_value_recal_data_err, t1_amp_value_recal_data_err = run_t1_recalibration(qubit_i)\n",
    "\n",
    "                print(t1_i_value_recal_data, t1_q_value_recal_data, t1_amp_value_recal_data)\n",
    "\n",
    "                # print(np.shape(t1_i_value_recal_data), np.shape(t1_q_value_recal_data), np.shape(t1_amp_value_recal_data))\n",
    "                hf['t1_recal/time'].resize((hf['t1_recal/time'].shape[0] + 1), axis=0) \n",
    "                hf['t1_recal/time'][-1:] = time.time() \n",
    "                \n",
    "                hf['t1_recal/xpts'].resize((hf['t1_recal/xpts'].shape[0] + t1_xpts_recal_data.shape[0]), axis=0)\n",
    "                hf['t1_recal/xpts'][-t1_xpts_recal_data.shape[0]:] = t1_xpts_recal_data\n",
    "\n",
    "                hf['t1_recal/i'].resize((hf['t1_recal/i'].shape[0] + t1_i_recal_data.shape[0]), axis=0)\n",
    "                hf['t1_recal/i'][-t1_i_recal_data.shape[0]:] = t1_i_recal_data\n",
    "\n",
    "                hf['t1_recal/q'].resize((hf['t1_recal/q'].shape[0] + t1_q_recal_data.shape[0]), axis=0)\n",
    "                hf['t1_recal/q'][-t1_q_recal_data.shape[0]:] = t1_q_recal_data\n",
    "\n",
    "                hf['t1_recal/amp'].resize((hf['t1_recal/amp'].shape[0] + t1_amp_recal_data.shape[0]), axis=0)\n",
    "                hf['t1_recal/amp'][-t1_amp_recal_data.shape[0]:] = t1_amp_recal_data\n",
    "\n",
    "                # T1 values for I, Q, and amp: \n",
    "                hf['t1_recal/i_value'].resize((hf['t1_recal/i_value'].shape[0] + 1), axis=0)\n",
    "                hf['t1_recal/i_value'][-1:] = t1_i_value_recal_data\n",
    "\n",
    "                hf['t1_recal/q_value'].resize((hf['t1_recal/q_value'].shape[0] + 1), axis=0)\n",
    "                hf['t1_recal/q_value'][-1:] = t1_q_value_recal_data\n",
    "\n",
    "                hf['t1_recal/amp_value'].resize((hf['t1_recal/amp_value'].shape[0] + 1), axis=0)\n",
    "                hf['t1_recal/amp_value'][-1:] = t1_amp_value_recal_data\n",
    "\n",
    "                # T1 errors for I, Q, and amp:  \n",
    "                hf['t1_recal/i_value_err'].resize((hf['t1_recal/i_value_err'].shape[0] + 1), axis=0)\n",
    "                hf['t1_recal/i_value_err'][-1:] = t1_i_value_recal_data_err\n",
    "\n",
    "                hf['t1_recal/q_value_err'].resize((hf['t1_recal/q_value_err'].shape[0] + 1), axis=0)\n",
    "                hf['t1_recal/q_value_err'][-1:] = t1_q_value_recal_data_err\n",
    "\n",
    "                hf['t1_recal/amp_value_err'].resize((hf['t1_recal/amp_value_err'].shape[0] + 1), axis=0)\n",
    "                hf['t1_recal/amp_value_err'][-1:] = t1_amp_value_recal_data_err\n",
    "\n",
    "                # Run the single shot recalibration \n",
    "                angle_recal, threshold_recal, fidelity_recal, Ig_recal, Qg_recal, Ie_recal, Qe_recal  = run_single_shot(qubit_i)\n",
    "\n",
    "                hf['single_shot/time'].resize((hf['single_shot/time'].shape[0] + 1), axis=0) \n",
    "                hf['single_shot/time'][-1:] = time.time() \n",
    "                hf['single_shot/angle'].resize((hf['single_shot/angle'].shape[0] + 1), axis=0)\n",
    "                hf['single_shot/angle'][-1:] = angle_recal\n",
    "                hf['single_shot/threshold'].resize((hf['single_shot/threshold'].shape[0] + 1), axis=0)\n",
    "                hf['single_shot/threshold'][-1:] = threshold_recal\n",
    "                hf['single_shot/fidelity'].resize((hf['single_shot/fidelity'].shape[0] + 1), axis=0)\n",
    "                hf['single_shot/fidelity'][-1:] = fidelity_recal\n",
    "                print('new anle, threshold, and fidelity', angle_recal, threshold_recal, fidelity_recal)\n",
    "                \n",
    "                # I and Q values for shots\n",
    "                hf['single_shot/Ig'].resize((hf['single_shot/Ig'].shape[0] + Ig_recal.shape[0]), axis=0)\n",
    "                hf['single_shot/Ig'][-Ig_recal.shape[0]:] = Ig_recal\n",
    "\n",
    "                hf['single_shot/Qg'].resize((hf['single_shot/Qg'].shape[0] + Qg_recal.shape[0]), axis=0)\n",
    "                hf['single_shot/Qg'][-Qg_recal.shape[0]:] = Qg_recal\n",
    "\n",
    "                hf['single_shot/Ie'].resize((hf['single_shot/Ie'].shape[0] + Ie_recal.shape[0]), axis=0)\n",
    "                hf['single_shot/Ie'][-Ie_recal.shape[0]:] = Ie_recal\n",
    "\n",
    "                hf['single_shot/Qe'].resize((hf['single_shot/Qe'].shape[0] + Qe_recal.shape[0]), axis=0)\n",
    "                hf['single_shot/Qe'][-Qe_recal.shape[0]:] = Qe_recal\n",
    "\n",
    "                print('Recalibration data appended to', filename)\n",
    "                start_time = timer()  # Reset the start time\n",
    "\n",
    "    except KeyboardInterrupt:\n",
    "        # If KeyboardInterrupt (Ctrl+C) is detected, close the HDF5 file\n",
    "        hf.close()\n",
    "        print(\"Program stopped. HDF5 file closed.\")\n",
    " \n",
    "if __name__ == \"__main__\":\n",
    "    main()\n"
   ]
  },
  {
   "cell_type": "code",
   "execution_count": 37,
   "metadata": {},
   "outputs": [],
   "source": [
    "with open(results_config_file,'r') as file:\n",
    "    auto_cfg=AttrDict(yaml.safe_load(file)) # turn it into an attribute dictionary\n",
    "\n",
    "auto_cfg.device.readout.phase[qubit_i] = -7.844325608133489 # degrees\n",
    "auto_cfg.device.readout.threshold[qubit_i] = 57.221847452942725 # [DAC units]\n",
    "\n",
    "auto_cfg= yaml.safe_dump(auto_cfg.to_dict(), default_flow_style=  True) # dump it \n",
    "\n",
    "# write it: \n",
    "with open('autocalibration_cfg.yml', 'w') as modified_file:\n",
    "    modified_file.write(auto_cfg)\n",
    "# now, open the modified file again \n",
    "with open('autocalibration_cfg.yml','r') as file:\n",
    "    auto_cfg=AttrDict(yaml.safe_load(file)) # turn it into an attribute dictionary"
   ]
  },
  {
   "cell_type": "code",
   "execution_count": 11,
   "metadata": {},
   "outputs": [
    {
     "name": "stdout",
     "output_type": "stream",
     "text": [
      "2024-03-13T10:06:14.004350\n"
     ]
    }
   ],
   "source": [
    "import time\n",
    "now = time.time()\n",
    "readabel = datetime.fromtimestamp(now).isoformat()\n",
    "print(readabel)\n",
    "\n",
    "# \n"
   ]
  },
  {
   "cell_type": "markdown",
   "metadata": {},
   "source": [
    "## Just T1 "
   ]
  },
  {
   "cell_type": "code",
   "execution_count": 1,
   "metadata": {},
   "outputs": [
    {
     "ename": "NameError",
     "evalue": "name 'os' is not defined",
     "output_type": "error",
     "traceback": [
      "\u001b[1;31m---------------------------------------------------------------------------\u001b[0m",
      "\u001b[1;31mNameError\u001b[0m                                 Traceback (most recent call last)",
      "Cell \u001b[1;32mIn[1], line 156\u001b[0m\n\u001b[0;32m    153\u001b[0m         \u001b[38;5;28mprint\u001b[39m(\u001b[38;5;124m\"\u001b[39m\u001b[38;5;124mProgram stopped. HDF5 file closed.\u001b[39m\u001b[38;5;124m\"\u001b[39m)\n\u001b[0;32m    155\u001b[0m \u001b[38;5;28;01mif\u001b[39;00m \u001b[38;5;18m__name__\u001b[39m \u001b[38;5;241m==\u001b[39m \u001b[38;5;124m\"\u001b[39m\u001b[38;5;124m__main__\u001b[39m\u001b[38;5;124m\"\u001b[39m:\n\u001b[1;32m--> 156\u001b[0m     \u001b[43mmain\u001b[49m\u001b[43m(\u001b[49m\u001b[43m)\u001b[49m\n",
      "Cell \u001b[1;32mIn[1], line 79\u001b[0m, in \u001b[0;36mmain\u001b[1;34m()\u001b[0m\n\u001b[0;32m     76\u001b[0m formatted_datetime \u001b[38;5;241m=\u001b[39m current_datetime\u001b[38;5;241m.\u001b[39mstrftime(\u001b[38;5;124m\"\u001b[39m\u001b[38;5;124m%\u001b[39m\u001b[38;5;124mY-\u001b[39m\u001b[38;5;124m%\u001b[39m\u001b[38;5;124mm-\u001b[39m\u001b[38;5;132;01m%d\u001b[39;00m\u001b[38;5;124m_\u001b[39m\u001b[38;5;124m%\u001b[39m\u001b[38;5;124mH-\u001b[39m\u001b[38;5;124m%\u001b[39m\u001b[38;5;124mM-\u001b[39m\u001b[38;5;124m%\u001b[39m\u001b[38;5;124mS\u001b[39m\u001b[38;5;124m\"\u001b[39m)\n\u001b[0;32m     78\u001b[0m \u001b[38;5;66;03m# Create the filename using the formatted date and time\u001b[39;00m\n\u001b[1;32m---> 79\u001b[0m filename \u001b[38;5;241m=\u001b[39m \u001b[43mos\u001b[49m\u001b[38;5;241m.\u001b[39mpath\u001b[38;5;241m.\u001b[39mjoin(data_path, \u001b[38;5;124mf\u001b[39m\u001b[38;5;124m\"\u001b[39m\u001b[38;5;124mt1_full\u001b[39m\u001b[38;5;132;01m{\u001b[39;00mformatted_datetime\u001b[38;5;132;01m}\u001b[39;00m\u001b[38;5;124m.h5\u001b[39m\u001b[38;5;124m\"\u001b[39m)\n\u001b[0;32m     81\u001b[0m \u001b[38;5;66;03m# Create an HDF5 file to save all the data\u001b[39;00m\n\u001b[0;32m     82\u001b[0m hf \u001b[38;5;241m=\u001b[39m h5py\u001b[38;5;241m.\u001b[39mFile(filename, \u001b[38;5;124m'\u001b[39m\u001b[38;5;124ma\u001b[39m\u001b[38;5;124m'\u001b[39m)\n",
      "\u001b[1;31mNameError\u001b[0m: name 'os' is not defined"
     ]
    }
   ],
   "source": [
    "\n",
    "def run_t1_recalibration(qubit_i):\n",
    "    t1 = meas.T1Experiment(\n",
    "        soccfg=soc,\n",
    "        path=expt_path,\n",
    "        prefix=f\"t1_qubit{qubit_i}\",\n",
    "        config_file=results_config_path,\n",
    "        )\n",
    "\n",
    "    span = 600 \n",
    "    npts = 30 #100\n",
    "\n",
    "    t1.cfg.expt = dict(\n",
    "        start=0,  # wait time [us]\n",
    "        step=int(span / npts),\n",
    "        expts=npts,\n",
    "        reps= 100*2, #100*5,  # number of times we repeat a time point\n",
    "        rounds=1,  # number of start to finish sweeps to average over\n",
    "        qubit=qubit_i,\n",
    "        length_scan=span,  # length of the scan in us\n",
    "        num_saved_points=1,  # number of points to save for the T1 continuous scan\n",
    "        )\n",
    "\n",
    "\n",
    "    t1.go(analyze=False, display=False, progress=True, save=False)\n",
    "    t1.analyze(fit=True)\n",
    "    t1_err_i = np.sqrt(t1.data['fit_err_avgi'][3][3])\n",
    "    t1_fit_i =t1.data['fit_avgi'][3]\n",
    "    err_ratio_i = t1_err_i/t1_fit_i\n",
    "\n",
    "    t1_err_q = np.sqrt(t1.data['fit_err_avgq'][3][3])\n",
    "    t1_fit_q =t1.data['fit_avgq'][3]\n",
    "    err_ratio_q = t1_err_q/t1_fit_q\n",
    "\n",
    "    # open the results config file \n",
    "    with open(results_config_file,'r') as file:\n",
    "        auto_cfg=AttrDict(yaml.safe_load(file)) # turn it into an attribute dictionary\n",
    "\n",
    "    if err_ratio_i< err_ratio_q:\n",
    "        print('t1_i is better, saving T1_i to results cfg file') \n",
    "        auto_cfg.device.qubit.T1[qubit_i] = float(t1_fit_i)  # [DAC units]  \n",
    "\n",
    "    else: \n",
    "        print('t1_q is better, saving t1_q to results cfg file')\n",
    "        auto_cfg.device.qubit.T1[qubit_i] = float(t1_fit_q)  # [DAC units]  \n",
    "\n",
    "    auto_cfg= yaml.safe_dump(auto_cfg.to_dict(), default_flow_style=  True) # dump it \n",
    "\n",
    "    # write it: \n",
    "    with open('autocalibration_cfg.yml', 'w') as modified_file:\n",
    "        modified_file.write(auto_cfg)\n",
    "    # now, open the modified file again \n",
    "    with open('autocalibration_cfg.yml','r') as file:\n",
    "        auto_cfg=AttrDict(yaml.safe_load(file)) # turn it into an attribute dictionary\n",
    "    \n",
    "    t1_xpts = t1.data['xpts']\n",
    "    t1_i = t1.data['avgi']\n",
    "    t1_q = t1.data['avgq']\n",
    "    t1_amp = t1.data['amps']\n",
    "    t1_i_value = t1.data['fit_avgi'][3]\n",
    "    t1_q_value = t1.data['fit_avgq'][3]\n",
    "    t1_amp_value = t1.data['fit_amps'][3]\n",
    "    t1_i_value_err = t1.data['fit_err_avgi'][3][3]\n",
    "    t1_q_value_err = t1.data['fit_err_avgq'][3][3]\n",
    "    t1_amp_value_err = t1.data['fit_err_amps'][3][3]\n",
    "\n",
    "    return t1_xpts, t1_i, t1_q, t1_amp, t1_i_value, t1_q_value, t1_amp_value, t1_i_value_err, t1_q_value_err, t1_amp_value_err\n",
    "pass\n",
    "\n",
    "\n",
    "def main():\n",
    "    # Get the current date and time\n",
    "    import datetime \n",
    "    from datetime import datetime\n",
    "    \n",
    "    current_datetime = datetime.now()\n",
    "    formatted_datetime = current_datetime.strftime(\"%Y-%m-%d_%H-%M-%S\")\n",
    "\n",
    "    # Create the filename using the formatted date and time\n",
    "    filename = os.path.join(data_path, f\"t1_full{formatted_datetime}.h5\")\n",
    "\n",
    "    # Create an HDF5 file to save all the data\n",
    "    hf = h5py.File(filename, 'a')\n",
    "\n",
    "\n",
    "    if 't1_recal' not in hf:\n",
    "        g2 = hf.create_group('t1_recal')\n",
    "        g2.create_dataset('time', data = np.array([]), maxshape=(None,))\n",
    "        g2.create_dataset('xpts', data=np.array([]), maxshape=(None,))\n",
    "        g2.create_dataset('i', data=np.array([]), maxshape=(None,))\n",
    "        g2.create_dataset('q', data=np.array([]), maxshape=(None,))\n",
    "        g2.create_dataset('amp', data=np.array([]), maxshape=(None,))\n",
    "        g2.create_dataset('i_value', data=np.array([]), maxshape=(None,))\n",
    "        g2.create_dataset('q_value', data=np.array([]), maxshape=(None,))\n",
    "        g2.create_dataset('amp_value', data=np.array([]), maxshape=(None,))\n",
    "        g2.create_dataset('i_value_err', data=np.array([]), maxshape=(None,))\n",
    "        g2.create_dataset('q_value_err', data=np.array([]), maxshape=(None,))\n",
    "        g2.create_dataset('amp_value_err', data=np.array([]), maxshape=(None,))\n",
    "    \n",
    "  \n",
    "\n",
    "    qubit_i = 0\n",
    "   \n",
    "    t1_xpts_recal_data, t1_i_recal_data, t1_q_recal_data, t1_amp_recal_data, t1_i_value_recal_data, t1_q_value_recal_data, t1_amp_value_recal_data, t1_i_value_recal_data_err, t1_q_value_recal_data_err, t1_amp_value_recal_data_err= np.array([]), np.array([]), np.array([]), np.array([]), np.array([]), np.array([]), np.array([]), np.array([]), np.array([]) , np.array([])\n",
    "\n",
    "    try:\n",
    "        while True:\n",
    "\n",
    "            # Run the T1 recalibration experiment\n",
    "            t1_xpts_recal_data, t1_i_recal_data, t1_q_recal_data, t1_amp_recal_data, t1_i_value_recal_data, t1_q_value_recal_data, t1_amp_value_recal_data, t1_i_value_recal_data_err, t1_q_value_recal_data_err, t1_amp_value_recal_data_err = run_t1_recalibration(qubit_i)\n",
    "\n",
    "            print(t1_i_value_recal_data, t1_q_value_recal_data, t1_amp_value_recal_data)\n",
    "\n",
    "            hf['t1_recal/time'].resize((hf['t1_recal/time'].shape[0] + 1), axis=0) \n",
    "            hf['t1_recal/time'][-1:] = time.time() \n",
    "            \n",
    "            hf['t1_recal/xpts'].resize((hf['t1_recal/xpts'].shape[0] + t1_xpts_recal_data.shape[0]), axis=0)\n",
    "            hf['t1_recal/xpts'][-t1_xpts_recal_data.shape[0]:] = t1_xpts_recal_data\n",
    "\n",
    "            hf['t1_recal/i'].resize((hf['t1_recal/i'].shape[0] + t1_i_recal_data.shape[0]), axis=0)\n",
    "            hf['t1_recal/i'][-t1_i_recal_data.shape[0]:] = t1_i_recal_data\n",
    "\n",
    "            hf['t1_recal/q'].resize((hf['t1_recal/q'].shape[0] + t1_q_recal_data.shape[0]), axis=0)\n",
    "            hf['t1_recal/q'][-t1_q_recal_data.shape[0]:] = t1_q_recal_data\n",
    "\n",
    "            hf['t1_recal/amp'].resize((hf['t1_recal/amp'].shape[0] + t1_amp_recal_data.shape[0]), axis=0)\n",
    "            hf['t1_recal/amp'][-t1_amp_recal_data.shape[0]:] = t1_amp_recal_data\n",
    "\n",
    "            # T1 values for I, Q, and amp: \n",
    "            hf['t1_recal/i_value'].resize((hf['t1_recal/i_value'].shape[0] + 1), axis=0)\n",
    "            hf['t1_recal/i_value'][-1:] = t1_i_value_recal_data\n",
    "\n",
    "            hf['t1_recal/q_value'].resize((hf['t1_recal/q_value'].shape[0] + 1), axis=0)\n",
    "            hf['t1_recal/q_value'][-1:] = t1_q_value_recal_data\n",
    "\n",
    "            hf['t1_recal/amp_value'].resize((hf['t1_recal/amp_value'].shape[0] + 1), axis=0)\n",
    "            hf['t1_recal/amp_value'][-1:] = t1_amp_value_recal_data\n",
    "\n",
    "            # T1 errors for I, Q, and amp:  \n",
    "            hf['t1_recal/i_value_err'].resize((hf['t1_recal/i_value_err'].shape[0] + 1), axis=0)\n",
    "            hf['t1_recal/i_value_err'][-1:] = t1_i_value_recal_data_err\n",
    "\n",
    "            hf['t1_recal/q_value_err'].resize((hf['t1_recal/q_value_err'].shape[0] + 1), axis=0)\n",
    "            hf['t1_recal/q_value_err'][-1:] = t1_q_value_recal_data_err\n",
    "\n",
    "            hf['t1_recal/amp_value_err'].resize((hf['t1_recal/amp_value_err'].shape[0] + 1), axis=0)\n",
    "            hf['t1_recal/amp_value_err'][-1:] = t1_amp_value_recal_data_err\n",
    "\n",
    "            print('Recalibration data appended to', filename)\n",
    "\n",
    "    except KeyboardInterrupt:\n",
    "        # If KeyboardInterrupt (Ctrl+C) is detected, close the HDF5 file\n",
    "        hf.close()\n",
    "        print(\"Program stopped. HDF5 file closed.\")\n",
    " \n",
    "if __name__ == \"__main__\":\n",
    "    main()\n"
   ]
  },
  {
   "cell_type": "code",
   "execution_count": null,
   "metadata": {},
   "outputs": [],
   "source": []
  }
 ],
 "metadata": {
  "kernelspec": {
   "display_name": "slab",
   "language": "python",
   "name": "python3"
  },
  "language_info": {
   "codemirror_mode": {
    "name": "ipython",
    "version": 3
   },
   "file_extension": ".py",
   "mimetype": "text/x-python",
   "name": "python",
   "nbconvert_exporter": "python",
   "pygments_lexer": "ipython3",
   "version": "3.10.9"
  }
 },
 "nbformat": 4,
 "nbformat_minor": 2
}
