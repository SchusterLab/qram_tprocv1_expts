{
 "cells": [
  {
   "cell_type": "markdown",
   "metadata": {},
   "source": [
    "## Continuous T1 \n",
    "\n",
    "This reads out the state of the qubit at t = T1 continuously. We recalibrate the qubit after some variable time. The qubit is assumed to be calibrated and the data saved to the cfg file "
   ]
  },
  {
   "cell_type": "markdown",
   "metadata": {},
   "source": [
    "# ------------ Initializations ------------"
   ]
  },
  {
   "cell_type": "code",
   "execution_count": 11,
   "metadata": {},
   "outputs": [
    {
     "name": "stdout",
     "output_type": "stream",
     "text": [
      "The autoreload extension is already loaded. To reload it, use:\n",
      "  %reload_ext autoreload\n"
     ]
    }
   ],
   "source": [
    "# %matplotlib widget\n",
    "%matplotlib inline\n",
    "\n",
    "%load_ext autoreload\n",
    "%autoreload 2\n",
    "\n",
    "import numpy as np\n",
    "import matplotlib.pyplot as plt\n",
    "\n",
    "from qick import *\n",
    "from qick.helpers import gauss\n",
    "from tqdm import tqdm_notebook as tqdm\n",
    "\n",
    "import time\n",
    "import os\n",
    "import sys\n",
    "import scipy as sp\n",
    "import json\n",
    "import cProfile\n",
    "import re \n",
    "import datetime\n",
    "from timeit import default_timer as timer\n",
    "\n",
    "from scipy.fft import fft, fftfreq\n",
    "\n",
    "from slab.instruments import *\n",
    "from slab.experiment import Experiment\n",
    "from slab.datamanagement import SlabFile\n",
    "from slab import get_next_filename, AttrDict\n",
    "from datetime import datetime\n",
    "import h5py\n",
    "\n",
    "\n",
    "# Figure params\n",
    "plt.rcParams['figure.figsize'] = [10,6]\n",
    "plt.rcParams.update({'font.size': 14})"
   ]
  },
  {
   "cell_type": "code",
   "execution_count": 2,
   "metadata": {},
   "outputs": [
    {
     "name": "stdout",
     "output_type": "stream",
     "text": [
      "imported experiments.clifford_averager_program\n",
      "imported experiments.fitting\n",
      "imported experiments.qram_protocol_timestepped\n",
      "imported experiments.single_qubit.acstarkshift_spectroscopy\n",
      "imported experiments.single_qubit.amplitude_rabi\n",
      "imported experiments.single_qubit.DONOTUSE_ramsey_ef\n",
      "imported experiments.single_qubit.DONOTUSE_randbench\n",
      "imported experiments.single_qubit.length_rabi\n",
      "imported experiments.single_qubit.pulse_probe_ef_spectroscopy\n",
      "imported experiments.single_qubit.pulse_probe_spectroscopy\n",
      "imported experiments.single_qubit.pulse_probe_spectroscopy_test\n",
      "imported experiments.single_qubit.resonator_spectroscopy\n",
      "imported experiments.single_qubit.rfsoc_tof_calibration\n",
      "imported experiments.single_qubit.SingleRB\n",
      "imported experiments.single_qubit.single_shot\n",
      "imported experiments.single_qubit.single_shot_ziqian\n",
      "imported experiments.single_qubit.t1\n",
      "imported experiments.single_qubit.t1_2qb\n",
      "imported experiments.single_qubit.t2_echo\n",
      "imported experiments.single_qubit.t2_ramsey\n",
      "imported experiments.three_qubit.threeQ_state_tomo\n",
      "imported experiments.two_qubit.adiabatic_pulse_calib\n",
      "imported experiments.two_qubit.amplitude_rabi_EgGf\n",
      "imported experiments.two_qubit.length_rabi_EgGf\n",
      "imported experiments.two_qubit.length_rabi_pi_pulse_ZZ\n",
      "imported experiments.two_qubit.pulse_probe_coupling_spectroscopy\n",
      "imported experiments.two_qubit.pulse_probe_EgGf_spectroscopy\n",
      "imported experiments.two_qubit.randbench\n",
      "imported experiments.two_qubit.twoqutrit_state_tomography\n",
      "imported experiments.two_qubit.twoQ_state_tomography\n"
     ]
    }
   ],
   "source": [
    "# %aimport experiments\n",
    "# NOTE: ADDING NEW METHODS WILL NOT BE UPDATED\n",
    "import experiments as meas\n"
   ]
  },
  {
   "cell_type": "code",
   "execution_count": 3,
   "metadata": {},
   "outputs": [],
   "source": [
    "\"\"\"Reopen saved data\"\"\"\n",
    "def prev_data(expt_path, filename):\n",
    "    temp_data_file = expt_path+'/'+filename\n",
    "    with SlabFile(temp_data_file) as a:\n",
    "        attrs = dict()\n",
    "        for key in list(a.attrs):\n",
    "            attrs.update({key:json.loads(a.attrs[key])})\n",
    "        keys = list(a)\n",
    "        temp_data = dict()\n",
    "        for key in keys:\n",
    "            temp_data.update({key:np.array(a[key])})\n",
    "        print(f'Extracted data and attrs {list(a.attrs)}')\n",
    "    return temp_data, attrs"
   ]
  },
  {
   "cell_type": "code",
   "execution_count": 4,
   "metadata": {},
   "outputs": [
    {
     "name": "stdout",
     "output_type": "stream",
     "text": [
      "Continuous T1 Data will be stored in C:\\_Data\\LLqub_contT1\n",
      "SLAB data will be stored in c:\\_Lib\\python\\rfsoc\\elaine_rfsoc\\slab_rfsoc_expts\\data\n"
     ]
    }
   ],
   "source": [
    "expt_path=os.getcwd()+'\\data'\n",
    "data_path = \"C:\\_Data\\LLqub_contT1\"\n",
    "print('Continuous T1 Data will be stored in', data_path)\n",
    "print('SLAB data will be stored in', expt_path) "
   ]
  },
  {
   "cell_type": "markdown",
   "metadata": {},
   "source": [
    "Import the cfg file: "
   ]
  },
  {
   "cell_type": "code",
   "execution_count": 6,
   "metadata": {},
   "outputs": [
    {
     "name": "stdout",
     "output_type": "stream",
     "text": [
      "Results config will be c:\\_Lib\\python\\rfsoc\\elaine_rfsoc\\slab_rfsoc_expts\\autocalibration_cfg.yml\n"
     ]
    }
   ],
   "source": [
    "import yaml\n",
    "# Results config file:\n",
    "results_config_file = 'autocalibration_cfg.yml'\n",
    "results_config_path = os.getcwd() + '\\\\' + results_config_file\n",
    "print('Results config will be', results_config_path)\n",
    "\n",
    "# open the file \n",
    "with open(results_config_file,'r') as file:\n",
    "  auto_cfg=AttrDict(yaml.safe_load(file)) # turn it into an attribute dictionary \n",
    "\n",
    "def save_edits( file_name, edit_config, edit_list, qubit_i,  value):\n",
    "    print('Assumes edit_list is already in edit_config')\n",
    "    print('If it is not, it will not update edit_config')\n",
    "    # open the file \n",
    "    # edit the file\n",
    "    edit_list[qubit_i] = value\n",
    "    # dump it: \n",
    "    edit_config= yaml.safe_dump(edit_config.to_dict(), default_flow_style=  True)\n",
    "\n",
    "    # write it: \n",
    "    with open(file_name, 'w') as modified_file:\n",
    "        modified_file.write(edit_config)\n",
    "\n",
    "    # now, open the modified file again \n",
    "    with open(file_name,'r') as file:\n",
    "      edit_config=AttrDict(yaml.safe_load(file)) # turn it into an attribute dictionary \n",
    "    return edit_config"
   ]
  },
  {
   "cell_type": "code",
   "execution_count": 8,
   "metadata": {},
   "outputs": [
    {
     "name": "stdout",
     "output_type": "stream",
     "text": [
      "\n",
      "QICK configuration:\n",
      "\n",
      "\tBoard: ZCU216\n",
      "\n",
      "\tGlobal clocks (MHz): tProcessor 430.080, RF reference 245.760\n",
      "\n",
      "\t7 signal generator channels:\n",
      "\t0:\taxis_signal_gen_v4 - tProc output 1, envelope memory 65536 samples\n",
      "\t\tDAC tile 2, ch 0, 32-bit DDS, fabric=430.080 MHz, fs=6881.280 MHz\n",
      "\t1:\taxis_signal_gen_v4 - tProc output 2, envelope memory 65536 samples\n",
      "\t\tDAC tile 2, ch 1, 32-bit DDS, fabric=430.080 MHz, fs=6881.280 MHz\n",
      "\t2:\taxis_signal_gen_v4 - tProc output 3, envelope memory 65536 samples\n",
      "\t\tDAC tile 2, ch 2, 32-bit DDS, fabric=430.080 MHz, fs=6881.280 MHz\n",
      "\t3:\taxis_signal_gen_v4 - tProc output 4, envelope memory 65536 samples\n",
      "\t\tDAC tile 2, ch 3, 32-bit DDS, fabric=430.080 MHz, fs=6881.280 MHz\n",
      "\t4:\taxis_signal_gen_v4 - tProc output 5, envelope memory 65536 samples\n",
      "\t\tDAC tile 3, ch 0, 32-bit DDS, fabric=430.080 MHz, fs=6881.280 MHz\n",
      "\t5:\taxis_signal_gen_v4 - tProc output 6, envelope memory 65536 samples\n",
      "\t\tDAC tile 3, ch 1, 32-bit DDS, fabric=430.080 MHz, fs=6881.280 MHz\n",
      "\t6:\taxis_signal_gen_v4 - tProc output 7, envelope memory 65536 samples\n",
      "\t\tDAC tile 3, ch 2, 32-bit DDS, fabric=430.080 MHz, fs=6881.280 MHz\n",
      "\n",
      "\t2 readout channels:\n",
      "\t0:\taxis_readout_v2 - controlled by PYNQ\n",
      "\t\tADC tile 2, ch 0, 32-bit DDS, fabric=307.200 MHz, fs=2457.600 MHz\n",
      "\t\tmaxlen 16384 (avg) 1024 (decimated), trigger bit 14, tProc input 0\n",
      "\t1:\taxis_readout_v2 - controlled by PYNQ\n",
      "\t\tADC tile 2, ch 2, 32-bit DDS, fabric=307.200 MHz, fs=2457.600 MHz\n",
      "\t\tmaxlen 16384 (avg) 1024 (decimated), trigger bit 15, tProc input 1\n",
      "\n",
      "\t7 DACs:\n",
      "\t\tDAC tile 2, ch 0 is 0_230, on JHC3\n",
      "\t\tDAC tile 2, ch 1 is 1_230, on JHC4\n",
      "\t\tDAC tile 2, ch 2 is 2_230, on JHC3\n",
      "\t\tDAC tile 2, ch 3 is 3_230, on JHC4\n",
      "\t\tDAC tile 3, ch 0 is 0_231, on JHC3\n",
      "\t\tDAC tile 3, ch 1 is 1_231, on JHC4\n",
      "\t\tDAC tile 3, ch 2 is 2_231, on JHC3\n",
      "\n",
      "\t2 ADCs:\n",
      "\t\tADC tile 2, ch 0 is 0_226, on JHC7\n",
      "\t\tADC tile 2, ch 2 is 2_226, on JHC7\n",
      "\n",
      "\t4 digital output pins (tProc output 0):\n",
      "\t0:\tPMOD0_0_LS\n",
      "\t1:\tPMOD0_1_LS\n",
      "\t2:\tPMOD0_2_LS\n",
      "\t3:\tPMOD0_3_LS\n",
      "\n",
      "\ttProc: program memory 8192 words, data memory 4096 words\n",
      "\t\texternal start pin: None\n",
      "Qick233\n",
      "\n",
      "QICK configuration:\n",
      "\n",
      "\tBoard: ZCU216\n",
      "\n",
      "\tGlobal clocks (MHz): tProcessor 430.080, RF reference 245.760\n",
      "\n",
      "\t7 signal generator channels:\n",
      "\t0:\taxis_signal_gen_v4 - tProc output 1, envelope memory 65536 samples\n",
      "\t\tDAC tile 2, ch 0, 32-bit DDS, fabric=430.080 MHz, fs=6881.280 MHz\n",
      "\t1:\taxis_signal_gen_v4 - tProc output 2, envelope memory 65536 samples\n",
      "\t\tDAC tile 2, ch 1, 32-bit DDS, fabric=430.080 MHz, fs=6881.280 MHz\n",
      "\t2:\taxis_signal_gen_v4 - tProc output 3, envelope memory 65536 samples\n",
      "\t\tDAC tile 2, ch 2, 32-bit DDS, fabric=430.080 MHz, fs=6881.280 MHz\n",
      "\t3:\taxis_signal_gen_v4 - tProc output 4, envelope memory 65536 samples\n",
      "\t\tDAC tile 2, ch 3, 32-bit DDS, fabric=430.080 MHz, fs=6881.280 MHz\n",
      "\t4:\taxis_signal_gen_v4 - tProc output 5, envelope memory 65536 samples\n",
      "\t\tDAC tile 3, ch 0, 32-bit DDS, fabric=430.080 MHz, fs=6881.280 MHz\n",
      "\t5:\taxis_signal_gen_v4 - tProc output 6, envelope memory 65536 samples\n",
      "\t\tDAC tile 3, ch 1, 32-bit DDS, fabric=430.080 MHz, fs=6881.280 MHz\n",
      "\t6:\taxis_signal_gen_v4 - tProc output 7, envelope memory 65536 samples\n",
      "\t\tDAC tile 3, ch 2, 32-bit DDS, fabric=430.080 MHz, fs=6881.280 MHz\n",
      "\n",
      "\t2 readout channels:\n",
      "\t0:\taxis_readout_v2 - controlled by PYNQ\n",
      "\t\tADC tile 2, ch 0, 32-bit DDS, fabric=307.200 MHz, fs=2457.600 MHz\n",
      "\t\tmaxlen 16384 (avg) 1024 (decimated), trigger bit 14, tProc input 0\n",
      "\t1:\taxis_readout_v2 - controlled by PYNQ\n",
      "\t\tADC tile 2, ch 2, 32-bit DDS, fabric=307.200 MHz, fs=2457.600 MHz\n",
      "\t\tmaxlen 16384 (avg) 1024 (decimated), trigger bit 15, tProc input 1\n",
      "\n",
      "\t7 DACs:\n",
      "\t\tDAC tile 2, ch 0 is 0_230, on JHC3\n",
      "\t\tDAC tile 2, ch 1 is 1_230, on JHC4\n",
      "\t\tDAC tile 2, ch 2 is 2_230, on JHC3\n",
      "\t\tDAC tile 2, ch 3 is 3_230, on JHC4\n",
      "\t\tDAC tile 3, ch 0 is 0_231, on JHC3\n",
      "\t\tDAC tile 3, ch 1 is 1_231, on JHC4\n",
      "\t\tDAC tile 3, ch 2 is 2_231, on JHC3\n",
      "\n",
      "\t2 ADCs:\n",
      "\t\tADC tile 2, ch 0 is 0_226, on JHC7\n",
      "\t\tADC tile 2, ch 2 is 2_226, on JHC7\n",
      "\n",
      "\t4 digital output pins (tProc output 0):\n",
      "\t0:\tPMOD0_0_LS\n",
      "\t1:\tPMOD0_1_LS\n",
      "\t2:\tPMOD0_2_LS\n",
      "\t3:\tPMOD0_3_LS\n",
      "\n",
      "\ttProc: program memory 8192 words, data memory 4096 words\n",
      "\t\texternal start pin: None\n"
     ]
    }
   ],
   "source": [
    "im = InstrumentManager(ns_address='192.168.137.1') # SLAC lab\n",
    "\n",
    "soc = QickConfig(im[auto_cfg['aliases']['soc']].get_cfg())\n",
    "print(soc)\n",
    "print(auto_cfg['aliases']['soc'])\n",
    "print(soc.description())\n"
   ]
  },
  {
   "cell_type": "code",
   "execution_count": 9,
   "metadata": {},
   "outputs": [
    {
     "name": "stdout",
     "output_type": "stream",
     "text": [
      "215 307\n",
      "readout freq 0 +/- 7098.096441938447\n"
     ]
    },
    {
     "data": {
      "application/vnd.jupyter.widget-view+json": {
       "model_id": "7ea17b99e60541c69dfe4975a647f844",
       "version_major": 2,
       "version_minor": 0
      },
      "text/plain": [
       "  0%|          | 0/1000 [00:00<?, ?it/s]"
      ]
     },
     "metadata": {},
     "output_type": "display_data"
    },
    {
     "name": "stdout",
     "output_type": "stream",
     "text": [
      "Saving c:\\_Lib\\python\\rfsoc\\elaine_rfsoc\\slab_rfsoc_expts\\data\\00022_adc_trig_offset_calibration_qubit0.h5\n"
     ]
    },
    {
     "data": {
      "image/png": "[encoded data removed]",
      "text/plain": [
       "<Figure size 1000x600 with 1 Axes>"
      ]
     },
     "metadata": {},
     "output_type": "display_data"
    }
   ],
   "source": [
    "qubit_i = 0\n",
    "tof = meas.ToFCalibrationExperiment(\n",
    "    soccfg=soc,\n",
    "    path=expt_path,\n",
    "    prefix=f\"adc_trig_offset_calibration_qubit{qubit_i}\",\n",
    "    config_file=results_config_path,\n",
    ")\n",
    "\n",
    "tof.cfg.expt = dict(\n",
    "    pulse_length=0.5, # [us]\n",
    "    readout_length=1.0, # [us]\n",
    "    trig_offset=0, # [clock ticks]\n",
    "    gain=30000, # blast the power just for the RFSoC calibration\n",
    "    # gain=5000, # [MUX units: -1 to 1]\n",
    "    frequency=tof.cfg.device.readout.frequency[qubit_i], # [MHz]\n",
    "    reps=1000, # Number of averages per point\n",
    "    # qubit=qubit_i,\n",
    "    qubit=qubit_i,\n",
    ")\n",
    "tof.cfg.device.readout.relax_delay=0.1 # wait time between experiments [us]\n",
    "\n",
    "import Pyro4.util\n",
    "try: \n",
    "    tof.go(analyze=False, display=False, progress=True, save=True)\n",
    "except Exception:\n",
    "    print(\"Pyro traceback:\")\n",
    "    print(\"\".join(Pyro4.util.getPyroTraceback()))\n",
    "\n",
    "tof.display(adc_trig_offset=150) "
   ]
  },
  {
   "cell_type": "markdown",
   "metadata": {},
   "source": [
    "## Run the T1 "
   ]
  },
  {
   "cell_type": "code",
   "execution_count": 25,
   "metadata": {},
   "outputs": [
    {
     "data": {
      "application/vnd.jupyter.widget-view+json": {
       "model_id": "29c607ba19014b5890f7276e4bd0609b",
       "version_major": 2,
       "version_minor": 0
      },
      "text/plain": [
       "  0%|          | 0/1000000 [00:00<?, ?it/s]"
      ]
     },
     "metadata": {},
     "output_type": "display_data"
    },
    {
     "name": "stdout",
     "output_type": "stream",
     "text": [
      "Continuous data appended to C:\\_Data\\LLqub_contT1\\2024-02-20_18-46-50.h5\n"
     ]
    },
    {
     "data": {
      "application/vnd.jupyter.widget-view+json": {
       "model_id": "f6e63a8ff445486c86aed0b0c1657f58",
       "version_major": 2,
       "version_minor": 0
      },
      "text/plain": [
       "  0%|          | 0/1000000 [00:00<?, ?it/s]"
      ]
     },
     "metadata": {},
     "output_type": "display_data"
    },
    {
     "name": "stdout",
     "output_type": "stream",
     "text": [
      "Continuous data appended to C:\\_Data\\LLqub_contT1\\2024-02-20_18-46-50.h5\n",
      "3182.005083300057 seconds have passed. Running T1 recalibration.\n"
     ]
    },
    {
     "data": {
      "application/vnd.jupyter.widget-view+json": {
       "model_id": "d0440355996243f89420dd63d6b1f790",
       "version_major": 2,
       "version_minor": 0
      },
      "text/plain": [
       "  0%|          | 0/50000 [00:00<?, ?it/s]"
      ]
     },
     "metadata": {},
     "output_type": "display_data"
    },
    {
     "name": "stdout",
     "output_type": "stream",
     "text": [
      "t1_i is better, saving T1_i to results cfg file\n",
      "194.54458900642047 189.9575997904284 129.0840317103401\n",
      "() () ()\n",
      "Recalibration data appended to C:\\_Data\\LLqub_contT1\\2024-02-20_18-46-50.h5\n"
     ]
    },
    {
     "data": {
      "application/vnd.jupyter.widget-view+json": {
       "model_id": "70098bdd9bb040dcb5704bfebbe7150c",
       "version_major": 2,
       "version_minor": 0
      },
      "text/plain": [
       "  0%|          | 0/1000000 [00:00<?, ?it/s]"
      ]
     },
     "metadata": {},
     "output_type": "display_data"
    },
    {
     "name": "stdout",
     "output_type": "stream",
     "text": [
      "Continuous data appended to C:\\_Data\\LLqub_contT1\\2024-02-20_18-46-50.h5\n"
     ]
    },
    {
     "data": {
      "application/vnd.jupyter.widget-view+json": {
       "model_id": "d99d469328804042b0954db90bdd9223",
       "version_major": 2,
       "version_minor": 0
      },
      "text/plain": [
       "  0%|          | 0/1000000 [00:00<?, ?it/s]"
      ]
     },
     "metadata": {},
     "output_type": "display_data"
    },
    {
     "name": "stdout",
     "output_type": "stream",
     "text": [
      "Continuous data appended to C:\\_Data\\LLqub_contT1\\2024-02-20_18-46-50.h5\n",
      "3181.961090800003 seconds have passed. Running T1 recalibration.\n"
     ]
    },
    {
     "data": {
      "application/vnd.jupyter.widget-view+json": {
       "model_id": "358135331f1e4ee4ab14fdcb0a2d8b5b",
       "version_major": 2,
       "version_minor": 0
      },
      "text/plain": [
       "  0%|          | 0/50000 [00:00<?, ?it/s]"
      ]
     },
     "metadata": {},
     "output_type": "display_data"
    },
    {
     "name": "stdout",
     "output_type": "stream",
     "text": [
      "t1_i is better, saving T1_i to results cfg file\n",
      "55.87252093002589 45.92780025354002 46.70421489201202\n",
      "() () ()\n",
      "Recalibration data appended to C:\\_Data\\LLqub_contT1\\2024-02-20_18-46-50.h5\n"
     ]
    },
    {
     "data": {
      "application/vnd.jupyter.widget-view+json": {
       "model_id": "8cad166ae4fd4ccfa387a4c87c371dbe",
       "version_major": 2,
       "version_minor": 0
      },
      "text/plain": [
       "  0%|          | 0/1000000 [00:00<?, ?it/s]"
      ]
     },
     "metadata": {},
     "output_type": "display_data"
    },
    {
     "name": "stdout",
     "output_type": "stream",
     "text": [
      "Continuous data appended to C:\\_Data\\LLqub_contT1\\2024-02-20_18-46-50.h5\n"
     ]
    },
    {
     "data": {
      "application/vnd.jupyter.widget-view+json": {
       "model_id": "59f3ec2f0ab24da6bcb05a82c1cf3e96",
       "version_major": 2,
       "version_minor": 0
      },
      "text/plain": [
       "  0%|          | 0/1000000 [00:00<?, ?it/s]"
      ]
     },
     "metadata": {},
     "output_type": "display_data"
    },
    {
     "name": "stdout",
     "output_type": "stream",
     "text": [
      "Continuous data appended to C:\\_Data\\LLqub_contT1\\2024-02-20_18-46-50.h5\n",
      "3181.9176870000083 seconds have passed. Running T1 recalibration.\n"
     ]
    },
    {
     "data": {
      "application/vnd.jupyter.widget-view+json": {
       "model_id": "b9f8c36a27dc4fa28fdb98664574ba6d",
       "version_major": 2,
       "version_minor": 0
      },
      "text/plain": [
       "  0%|          | 0/50000 [00:00<?, ?it/s]"
      ]
     },
     "metadata": {},
     "output_type": "display_data"
    },
    {
     "name": "stdout",
     "output_type": "stream",
     "text": [
      "t1_i is better, saving T1_i to results cfg file\n",
      "201.11401841417677 262.1551878257946 163.13463994385666\n",
      "() () ()\n",
      "Recalibration data appended to C:\\_Data\\LLqub_contT1\\2024-02-20_18-46-50.h5\n"
     ]
    },
    {
     "data": {
      "application/vnd.jupyter.widget-view+json": {
       "model_id": "d42f416f38c94aaa8aedf97367ab7a05",
       "version_major": 2,
       "version_minor": 0
      },
      "text/plain": [
       "  0%|          | 0/1000000 [00:00<?, ?it/s]"
      ]
     },
     "metadata": {},
     "output_type": "display_data"
    },
    {
     "name": "stdout",
     "output_type": "stream",
     "text": [
      "Continuous data appended to C:\\_Data\\LLqub_contT1\\2024-02-20_18-46-50.h5\n"
     ]
    },
    {
     "data": {
      "application/vnd.jupyter.widget-view+json": {
       "model_id": "dc93efb10a0a4c03892cd172c70c3441",
       "version_major": 2,
       "version_minor": 0
      },
      "text/plain": [
       "  0%|          | 0/1000000 [00:00<?, ?it/s]"
      ]
     },
     "metadata": {},
     "output_type": "display_data"
    },
    {
     "name": "stdout",
     "output_type": "stream",
     "text": [
      "Continuous data appended to C:\\_Data\\LLqub_contT1\\2024-02-20_18-46-50.h5\n",
      "3181.9473572999705 seconds have passed. Running T1 recalibration.\n"
     ]
    },
    {
     "data": {
      "application/vnd.jupyter.widget-view+json": {
       "model_id": "99ab6cc1c0d74bdba5642025bc36cfa9",
       "version_major": 2,
       "version_minor": 0
      },
      "text/plain": [
       "  0%|          | 0/50000 [00:00<?, ?it/s]"
      ]
     },
     "metadata": {},
     "output_type": "display_data"
    },
    {
     "name": "stdout",
     "output_type": "stream",
     "text": [
      "t1_i is better, saving T1_i to results cfg file\n",
      "173.06601446245034 166.193413249546 133.6796770257737\n",
      "() () ()\n",
      "Recalibration data appended to C:\\_Data\\LLqub_contT1\\2024-02-20_18-46-50.h5\n"
     ]
    },
    {
     "data": {
      "application/vnd.jupyter.widget-view+json": {
       "model_id": "ba81e1045d3b4096bea57becb639b9bf",
       "version_major": 2,
       "version_minor": 0
      },
      "text/plain": [
       "  0%|          | 0/1000000 [00:00<?, ?it/s]"
      ]
     },
     "metadata": {},
     "output_type": "display_data"
    },
    {
     "name": "stdout",
     "output_type": "stream",
     "text": [
      "Continuous data appended to C:\\_Data\\LLqub_contT1\\2024-02-20_18-46-50.h5\n"
     ]
    },
    {
     "data": {
      "application/vnd.jupyter.widget-view+json": {
       "model_id": "7c86398baae448b7afdbb350472a70c4",
       "version_major": 2,
       "version_minor": 0
      },
      "text/plain": [
       "  0%|          | 0/1000000 [00:00<?, ?it/s]"
      ]
     },
     "metadata": {},
     "output_type": "display_data"
    },
    {
     "name": "stdout",
     "output_type": "stream",
     "text": [
      "Continuous data appended to C:\\_Data\\LLqub_contT1\\2024-02-20_18-46-50.h5\n",
      "3182.0821721999673 seconds have passed. Running T1 recalibration.\n"
     ]
    },
    {
     "data": {
      "application/vnd.jupyter.widget-view+json": {
       "model_id": "cdea405ea8874226a8366d924f57c55f",
       "version_major": 2,
       "version_minor": 0
      },
      "text/plain": [
       "  0%|          | 0/50000 [00:00<?, ?it/s]"
      ]
     },
     "metadata": {},
     "output_type": "display_data"
    },
    {
     "name": "stdout",
     "output_type": "stream",
     "text": [
      "t1_i is better, saving T1_i to results cfg file\n",
      "183.25661400728876 251.23616758224557 143.40933543222715\n",
      "() () ()\n",
      "Recalibration data appended to C:\\_Data\\LLqub_contT1\\2024-02-20_18-46-50.h5\n"
     ]
    },
    {
     "data": {
      "application/vnd.jupyter.widget-view+json": {
       "model_id": "3fa1a699ae204e26a73395b7cb1803aa",
       "version_major": 2,
       "version_minor": 0
      },
      "text/plain": [
       "  0%|          | 0/1000000 [00:00<?, ?it/s]"
      ]
     },
     "metadata": {},
     "output_type": "display_data"
    },
    {
     "name": "stdout",
     "output_type": "stream",
     "text": [
      "Continuous data appended to C:\\_Data\\LLqub_contT1\\2024-02-20_18-46-50.h5\n"
     ]
    },
    {
     "data": {
      "application/vnd.jupyter.widget-view+json": {
       "model_id": "c6ffb07f0a9149c2b8dc551508b841f9",
       "version_major": 2,
       "version_minor": 0
      },
      "text/plain": [
       "  0%|          | 0/1000000 [00:00<?, ?it/s]"
      ]
     },
     "metadata": {},
     "output_type": "display_data"
    },
    {
     "name": "stdout",
     "output_type": "stream",
     "text": [
      "Continuous data appended to C:\\_Data\\LLqub_contT1\\2024-02-20_18-46-50.h5\n",
      "3182.051176900044 seconds have passed. Running T1 recalibration.\n"
     ]
    },
    {
     "data": {
      "application/vnd.jupyter.widget-view+json": {
       "model_id": "6f2d54f982b04a1c98ffc82b2b1d1e82",
       "version_major": 2,
       "version_minor": 0
      },
      "text/plain": [
       "  0%|          | 0/50000 [00:00<?, ?it/s]"
      ]
     },
     "metadata": {},
     "output_type": "display_data"
    },
    {
     "name": "stdout",
     "output_type": "stream",
     "text": [
      "t1_i is better, saving T1_i to results cfg file\n",
      "86.0949433062263 94.62392932816682 63.56014557458361\n",
      "() () ()\n",
      "Recalibration data appended to C:\\_Data\\LLqub_contT1\\2024-02-20_18-46-50.h5\n"
     ]
    },
    {
     "data": {
      "application/vnd.jupyter.widget-view+json": {
       "model_id": "91dac4dac62041159261c771b9f03837",
       "version_major": 2,
       "version_minor": 0
      },
      "text/plain": [
       "  0%|          | 0/1000000 [00:00<?, ?it/s]"
      ]
     },
     "metadata": {},
     "output_type": "display_data"
    },
    {
     "name": "stdout",
     "output_type": "stream",
     "text": [
      "Continuous data appended to C:\\_Data\\LLqub_contT1\\2024-02-20_18-46-50.h5\n"
     ]
    },
    {
     "data": {
      "application/vnd.jupyter.widget-view+json": {
       "model_id": "51a870f66b9e45f3b4b3c3b4863f97a3",
       "version_major": 2,
       "version_minor": 0
      },
      "text/plain": [
       "  0%|          | 0/1000000 [00:00<?, ?it/s]"
      ]
     },
     "metadata": {},
     "output_type": "display_data"
    },
    {
     "name": "stdout",
     "output_type": "stream",
     "text": [
      "Continuous data appended to C:\\_Data\\LLqub_contT1\\2024-02-20_18-46-50.h5\n",
      "3181.9761430999497 seconds have passed. Running T1 recalibration.\n"
     ]
    },
    {
     "data": {
      "application/vnd.jupyter.widget-view+json": {
       "model_id": "fd73e1a4313549428533dc1b4430b9a5",
       "version_major": 2,
       "version_minor": 0
      },
      "text/plain": [
       "  0%|          | 0/50000 [00:00<?, ?it/s]"
      ]
     },
     "metadata": {},
     "output_type": "display_data"
    },
    {
     "name": "stdout",
     "output_type": "stream",
     "text": [
      "t1_i is better, saving T1_i to results cfg file\n",
      "81.7551512423182 110.44387936203908 61.52075234259949\n",
      "() () ()\n",
      "Recalibration data appended to C:\\_Data\\LLqub_contT1\\2024-02-20_18-46-50.h5\n"
     ]
    },
    {
     "data": {
      "application/vnd.jupyter.widget-view+json": {
       "model_id": "1cc341cd88df480996dbf23f6790a66a",
       "version_major": 2,
       "version_minor": 0
      },
      "text/plain": [
       "  0%|          | 0/1000000 [00:00<?, ?it/s]"
      ]
     },
     "metadata": {},
     "output_type": "display_data"
    },
    {
     "name": "stdout",
     "output_type": "stream",
     "text": [
      "Continuous data appended to C:\\_Data\\LLqub_contT1\\2024-02-20_18-46-50.h5\n"
     ]
    },
    {
     "data": {
      "application/vnd.jupyter.widget-view+json": {
       "model_id": "71f6941c9f15405a817235785e2b4a66",
       "version_major": 2,
       "version_minor": 0
      },
      "text/plain": [
       "  0%|          | 0/1000000 [00:00<?, ?it/s]"
      ]
     },
     "metadata": {},
     "output_type": "display_data"
    },
    {
     "name": "stdout",
     "output_type": "stream",
     "text": [
      "Continuous data appended to C:\\_Data\\LLqub_contT1\\2024-02-20_18-46-50.h5\n",
      "3181.965771100018 seconds have passed. Running T1 recalibration.\n"
     ]
    },
    {
     "data": {
      "application/vnd.jupyter.widget-view+json": {
       "model_id": "1307cb22eb4e4807b50d45eed2f41d56",
       "version_major": 2,
       "version_minor": 0
      },
      "text/plain": [
       "  0%|          | 0/50000 [00:00<?, ?it/s]"
      ]
     },
     "metadata": {},
     "output_type": "display_data"
    },
    {
     "name": "stdout",
     "output_type": "stream",
     "text": [
      "t1_i is better, saving T1_i to results cfg file\n",
      "150.42235132351217 58.42934106134448 131.85871751532497\n",
      "() () ()\n",
      "Recalibration data appended to C:\\_Data\\LLqub_contT1\\2024-02-20_18-46-50.h5\n"
     ]
    },
    {
     "data": {
      "application/vnd.jupyter.widget-view+json": {
       "model_id": "4145ccdf93cd4998b94b4ab8df85a9eb",
       "version_major": 2,
       "version_minor": 0
      },
      "text/plain": [
       "  0%|          | 0/1000000 [00:00<?, ?it/s]"
      ]
     },
     "metadata": {},
     "output_type": "display_data"
    },
    {
     "name": "stdout",
     "output_type": "stream",
     "text": [
      "Continuous data appended to C:\\_Data\\LLqub_contT1\\2024-02-20_18-46-50.h5\n"
     ]
    },
    {
     "data": {
      "application/vnd.jupyter.widget-view+json": {
       "model_id": "494c2f0d20af4ed5a096d48fe906c737",
       "version_major": 2,
       "version_minor": 0
      },
      "text/plain": [
       "  0%|          | 0/1000000 [00:00<?, ?it/s]"
      ]
     },
     "metadata": {},
     "output_type": "display_data"
    },
    {
     "name": "stdout",
     "output_type": "stream",
     "text": [
      "Continuous data appended to C:\\_Data\\LLqub_contT1\\2024-02-20_18-46-50.h5\n",
      "3182.1309535999317 seconds have passed. Running T1 recalibration.\n"
     ]
    },
    {
     "data": {
      "application/vnd.jupyter.widget-view+json": {
       "model_id": "bda29a56da984984bc12a29c42adaeb0",
       "version_major": 2,
       "version_minor": 0
      },
      "text/plain": [
       "  0%|          | 0/50000 [00:00<?, ?it/s]"
      ]
     },
     "metadata": {},
     "output_type": "display_data"
    },
    {
     "name": "stdout",
     "output_type": "stream",
     "text": [
      "t1_i is better, saving T1_i to results cfg file\n",
      "223.2953508942064 255250.9753108078 178.59246385720922\n",
      "() () ()\n",
      "Recalibration data appended to C:\\_Data\\LLqub_contT1\\2024-02-20_18-46-50.h5\n"
     ]
    },
    {
     "data": {
      "application/vnd.jupyter.widget-view+json": {
       "model_id": "d2ce87aa6d2d408f8abcfb5404f79a01",
       "version_major": 2,
       "version_minor": 0
      },
      "text/plain": [
       "  0%|          | 0/1000000 [00:00<?, ?it/s]"
      ]
     },
     "metadata": {},
     "output_type": "display_data"
    },
    {
     "name": "stdout",
     "output_type": "stream",
     "text": [
      "Continuous data appended to C:\\_Data\\LLqub_contT1\\2024-02-20_18-46-50.h5\n"
     ]
    },
    {
     "data": {
      "application/vnd.jupyter.widget-view+json": {
       "model_id": "aa48f39c56dd4aaaa495520f3197780c",
       "version_major": 2,
       "version_minor": 0
      },
      "text/plain": [
       "  0%|          | 0/1000000 [00:00<?, ?it/s]"
      ]
     },
     "metadata": {},
     "output_type": "display_data"
    },
    {
     "name": "stdout",
     "output_type": "stream",
     "text": [
      "Continuous data appended to C:\\_Data\\LLqub_contT1\\2024-02-20_18-46-50.h5\n",
      "3181.7343096999684 seconds have passed. Running T1 recalibration.\n"
     ]
    },
    {
     "data": {
      "application/vnd.jupyter.widget-view+json": {
       "model_id": "1ac396cdc20e4b239008f5c032e24dc6",
       "version_major": 2,
       "version_minor": 0
      },
      "text/plain": [
       "  0%|          | 0/50000 [00:00<?, ?it/s]"
      ]
     },
     "metadata": {},
     "output_type": "display_data"
    },
    {
     "name": "stdout",
     "output_type": "stream",
     "text": [
      "t1_i is better, saving T1_i to results cfg file\n",
      "167.32959298979748 281.9588893922893 140.39724115749164\n",
      "() () ()\n",
      "Recalibration data appended to C:\\_Data\\LLqub_contT1\\2024-02-20_18-46-50.h5\n"
     ]
    },
    {
     "data": {
      "application/vnd.jupyter.widget-view+json": {
       "model_id": "3ed688c649434c57b179a57edde89b58",
       "version_major": 2,
       "version_minor": 0
      },
      "text/plain": [
       "  0%|          | 0/1000000 [00:00<?, ?it/s]"
      ]
     },
     "metadata": {},
     "output_type": "display_data"
    },
    {
     "name": "stdout",
     "output_type": "stream",
     "text": [
      "Continuous data appended to C:\\_Data\\LLqub_contT1\\2024-02-20_18-46-50.h5\n"
     ]
    },
    {
     "data": {
      "application/vnd.jupyter.widget-view+json": {
       "model_id": "5f36284b9a0f47a4a345bd542c08450f",
       "version_major": 2,
       "version_minor": 0
      },
      "text/plain": [
       "  0%|          | 0/1000000 [00:00<?, ?it/s]"
      ]
     },
     "metadata": {},
     "output_type": "display_data"
    },
    {
     "name": "stdout",
     "output_type": "stream",
     "text": [
      "Continuous data appended to C:\\_Data\\LLqub_contT1\\2024-02-20_18-46-50.h5\n",
      "3181.8992572000716 seconds have passed. Running T1 recalibration.\n"
     ]
    },
    {
     "data": {
      "application/vnd.jupyter.widget-view+json": {
       "model_id": "5152c898092547c186d0487b399d0b68",
       "version_major": 2,
       "version_minor": 0
      },
      "text/plain": [
       "  0%|          | 0/50000 [00:00<?, ?it/s]"
      ]
     },
     "metadata": {},
     "output_type": "display_data"
    },
    {
     "name": "stdout",
     "output_type": "stream",
     "text": [
      "t1_i is better, saving T1_i to results cfg file\n",
      "167.93983194882813 182.00858735322285 130.42261004714177\n",
      "() () ()\n",
      "Recalibration data appended to C:\\_Data\\LLqub_contT1\\2024-02-20_18-46-50.h5\n"
     ]
    },
    {
     "data": {
      "application/vnd.jupyter.widget-view+json": {
       "model_id": "b810f063a32f4a85a2d881d53bb4653c",
       "version_major": 2,
       "version_minor": 0
      },
      "text/plain": [
       "  0%|          | 0/1000000 [00:00<?, ?it/s]"
      ]
     },
     "metadata": {},
     "output_type": "display_data"
    },
    {
     "name": "stdout",
     "output_type": "stream",
     "text": [
      "Continuous data appended to C:\\_Data\\LLqub_contT1\\2024-02-20_18-46-50.h5\n"
     ]
    },
    {
     "data": {
      "application/vnd.jupyter.widget-view+json": {
       "model_id": "b6badda787a049c89604b89aeecd248f",
       "version_major": 2,
       "version_minor": 0
      },
      "text/plain": [
       "  0%|          | 0/1000000 [00:00<?, ?it/s]"
      ]
     },
     "metadata": {},
     "output_type": "display_data"
    },
    {
     "name": "stdout",
     "output_type": "stream",
     "text": [
      "Continuous data appended to C:\\_Data\\LLqub_contT1\\2024-02-20_18-46-50.h5\n",
      "3182.0509724000003 seconds have passed. Running T1 recalibration.\n"
     ]
    },
    {
     "data": {
      "application/vnd.jupyter.widget-view+json": {
       "model_id": "88d0150070fa477bbf063b67385883c5",
       "version_major": 2,
       "version_minor": 0
      },
      "text/plain": [
       "  0%|          | 0/50000 [00:00<?, ?it/s]"
      ]
     },
     "metadata": {},
     "output_type": "display_data"
    },
    {
     "name": "stdout",
     "output_type": "stream",
     "text": [
      "t1_i is better, saving T1_i to results cfg file\n",
      "157.6723801387516 164.43677468145125 136.31735453404696\n",
      "() () ()\n",
      "Recalibration data appended to C:\\_Data\\LLqub_contT1\\2024-02-20_18-46-50.h5\n"
     ]
    },
    {
     "data": {
      "application/vnd.jupyter.widget-view+json": {
       "model_id": "c2a854b59c9746cdbc7ca64965c4dbc7",
       "version_major": 2,
       "version_minor": 0
      },
      "text/plain": [
       "  0%|          | 0/1000000 [00:00<?, ?it/s]"
      ]
     },
     "metadata": {},
     "output_type": "display_data"
    },
    {
     "name": "stdout",
     "output_type": "stream",
     "text": [
      "Continuous data appended to C:\\_Data\\LLqub_contT1\\2024-02-20_18-46-50.h5\n"
     ]
    },
    {
     "data": {
      "application/vnd.jupyter.widget-view+json": {
       "model_id": "5bfe6880075e4c0587b85d22cd3fadec",
       "version_major": 2,
       "version_minor": 0
      },
      "text/plain": [
       "  0%|          | 0/1000000 [00:00<?, ?it/s]"
      ]
     },
     "metadata": {},
     "output_type": "display_data"
    },
    {
     "name": "stdout",
     "output_type": "stream",
     "text": [
      "Continuous data appended to C:\\_Data\\LLqub_contT1\\2024-02-20_18-46-50.h5\n",
      "3182.0503234999487 seconds have passed. Running T1 recalibration.\n"
     ]
    },
    {
     "data": {
      "application/vnd.jupyter.widget-view+json": {
       "model_id": "0aac5dbd182042bfbf73432bb087d48a",
       "version_major": 2,
       "version_minor": 0
      },
      "text/plain": [
       "  0%|          | 0/50000 [00:00<?, ?it/s]"
      ]
     },
     "metadata": {},
     "output_type": "display_data"
    },
    {
     "name": "stdout",
     "output_type": "stream",
     "text": [
      "t1_i is better, saving T1_i to results cfg file\n",
      "225.8400945923013 233.5106337589681 171.12058659860188\n",
      "() () ()\n",
      "Recalibration data appended to C:\\_Data\\LLqub_contT1\\2024-02-20_18-46-50.h5\n"
     ]
    },
    {
     "data": {
      "application/vnd.jupyter.widget-view+json": {
       "model_id": "18be6930a17742f09a29ea0a59c326d6",
       "version_major": 2,
       "version_minor": 0
      },
      "text/plain": [
       "  0%|          | 0/1000000 [00:00<?, ?it/s]"
      ]
     },
     "metadata": {},
     "output_type": "display_data"
    },
    {
     "name": "stdout",
     "output_type": "stream",
     "text": [
      "Continuous data appended to C:\\_Data\\LLqub_contT1\\2024-02-20_18-46-50.h5\n"
     ]
    },
    {
     "data": {
      "application/vnd.jupyter.widget-view+json": {
       "model_id": "7dab16d42cef42e7a85b06228cc09bf5",
       "version_major": 2,
       "version_minor": 0
      },
      "text/plain": [
       "  0%|          | 0/1000000 [00:00<?, ?it/s]"
      ]
     },
     "metadata": {},
     "output_type": "display_data"
    },
    {
     "name": "stdout",
     "output_type": "stream",
     "text": [
      "Continuous data appended to C:\\_Data\\LLqub_contT1\\2024-02-20_18-46-50.h5\n",
      "3182.0355581999756 seconds have passed. Running T1 recalibration.\n"
     ]
    },
    {
     "data": {
      "application/vnd.jupyter.widget-view+json": {
       "model_id": "631aedfd4bdd44ba87dd3e7c082b8c48",
       "version_major": 2,
       "version_minor": 0
      },
      "text/plain": [
       "  0%|          | 0/50000 [00:00<?, ?it/s]"
      ]
     },
     "metadata": {},
     "output_type": "display_data"
    },
    {
     "name": "stdout",
     "output_type": "stream",
     "text": [
      "t1_i is better, saving T1_i to results cfg file\n",
      "250.39577958132728 280.18970842630296 215.10113488271233\n",
      "() () ()\n",
      "Recalibration data appended to C:\\_Data\\LLqub_contT1\\2024-02-20_18-46-50.h5\n"
     ]
    },
    {
     "data": {
      "application/vnd.jupyter.widget-view+json": {
       "model_id": "bbc9ec5a16e7483e8fc4838422c52348",
       "version_major": 2,
       "version_minor": 0
      },
      "text/plain": [
       "  0%|          | 0/1000000 [00:00<?, ?it/s]"
      ]
     },
     "metadata": {},
     "output_type": "display_data"
    },
    {
     "name": "stdout",
     "output_type": "stream",
     "text": [
      "Continuous data appended to C:\\_Data\\LLqub_contT1\\2024-02-20_18-46-50.h5\n"
     ]
    },
    {
     "data": {
      "application/vnd.jupyter.widget-view+json": {
       "model_id": "ba03455b5eea49b58cc6d3e7b8302130",
       "version_major": 2,
       "version_minor": 0
      },
      "text/plain": [
       "  0%|          | 0/1000000 [00:00<?, ?it/s]"
      ]
     },
     "metadata": {},
     "output_type": "display_data"
    },
    {
     "name": "stdout",
     "output_type": "stream",
     "text": [
      "Continuous data appended to C:\\_Data\\LLqub_contT1\\2024-02-20_18-46-50.h5\n",
      "3182.00521209999 seconds have passed. Running T1 recalibration.\n"
     ]
    },
    {
     "data": {
      "application/vnd.jupyter.widget-view+json": {
       "model_id": "1f517eb609b9417783e8ae375828891e",
       "version_major": 2,
       "version_minor": 0
      },
      "text/plain": [
       "  0%|          | 0/50000 [00:00<?, ?it/s]"
      ]
     },
     "metadata": {},
     "output_type": "display_data"
    },
    {
     "name": "stdout",
     "output_type": "stream",
     "text": [
      "t1_i is better, saving T1_i to results cfg file\n",
      "171.04104295738964 167.85523850051717 141.68447112956622\n",
      "() () ()\n",
      "Recalibration data appended to C:\\_Data\\LLqub_contT1\\2024-02-20_18-46-50.h5\n"
     ]
    },
    {
     "data": {
      "application/vnd.jupyter.widget-view+json": {
       "model_id": "5ebaac6c06e848859912f03576962137",
       "version_major": 2,
       "version_minor": 0
      },
      "text/plain": [
       "  0%|          | 0/1000000 [00:00<?, ?it/s]"
      ]
     },
     "metadata": {},
     "output_type": "display_data"
    },
    {
     "name": "stdout",
     "output_type": "stream",
     "text": [
      "Continuous data appended to C:\\_Data\\LLqub_contT1\\2024-02-20_18-46-50.h5\n"
     ]
    },
    {
     "data": {
      "application/vnd.jupyter.widget-view+json": {
       "model_id": "9c90f4f5cf114ee0a972e60900cf01c5",
       "version_major": 2,
       "version_minor": 0
      },
      "text/plain": [
       "  0%|          | 0/1000000 [00:00<?, ?it/s]"
      ]
     },
     "metadata": {},
     "output_type": "display_data"
    },
    {
     "name": "stdout",
     "output_type": "stream",
     "text": [
      "Continuous data appended to C:\\_Data\\LLqub_contT1\\2024-02-20_18-46-50.h5\n",
      "3182.0570918000303 seconds have passed. Running T1 recalibration.\n"
     ]
    },
    {
     "data": {
      "application/vnd.jupyter.widget-view+json": {
       "model_id": "fe528c8f51e643f7b89bf45e6c792c1f",
       "version_major": 2,
       "version_minor": 0
      },
      "text/plain": [
       "  0%|          | 0/50000 [00:00<?, ?it/s]"
      ]
     },
     "metadata": {},
     "output_type": "display_data"
    },
    {
     "name": "stdout",
     "output_type": "stream",
     "text": [
      "t1_i is better, saving T1_i to results cfg file\n",
      "182.0479586417338 183.37431272813075 157.69166248983825\n",
      "() () ()\n",
      "Recalibration data appended to C:\\_Data\\LLqub_contT1\\2024-02-20_18-46-50.h5\n"
     ]
    },
    {
     "data": {
      "application/vnd.jupyter.widget-view+json": {
       "model_id": "72a21d56bcba49d593d18653c8f254c0",
       "version_major": 2,
       "version_minor": 0
      },
      "text/plain": [
       "  0%|          | 0/1000000 [00:00<?, ?it/s]"
      ]
     },
     "metadata": {},
     "output_type": "display_data"
    },
    {
     "name": "stdout",
     "output_type": "stream",
     "text": [
      "Continuous data appended to C:\\_Data\\LLqub_contT1\\2024-02-20_18-46-50.h5\n"
     ]
    },
    {
     "data": {
      "application/vnd.jupyter.widget-view+json": {
       "model_id": "3e170ff1652342c295980207b9e3fcc2",
       "version_major": 2,
       "version_minor": 0
      },
      "text/plain": [
       "  0%|          | 0/1000000 [00:00<?, ?it/s]"
      ]
     },
     "metadata": {},
     "output_type": "display_data"
    },
    {
     "name": "stdout",
     "output_type": "stream",
     "text": [
      "Continuous data appended to C:\\_Data\\LLqub_contT1\\2024-02-20_18-46-50.h5\n",
      "3181.609487599926 seconds have passed. Running T1 recalibration.\n"
     ]
    },
    {
     "data": {
      "application/vnd.jupyter.widget-view+json": {
       "model_id": "c7d3c8ca31fc4345a2ac0b03bc0e3c84",
       "version_major": 2,
       "version_minor": 0
      },
      "text/plain": [
       "  0%|          | 0/50000 [00:00<?, ?it/s]"
      ]
     },
     "metadata": {},
     "output_type": "display_data"
    },
    {
     "name": "stdout",
     "output_type": "stream",
     "text": [
      "t1_i is better, saving T1_i to results cfg file\n",
      "37.37413966249014 40.04092769944096 33.90145049099144\n",
      "() () ()\n",
      "Recalibration data appended to C:\\_Data\\LLqub_contT1\\2024-02-20_18-46-50.h5\n"
     ]
    },
    {
     "data": {
      "application/vnd.jupyter.widget-view+json": {
       "model_id": "6315cbbe7ab4403997775ec3b580b88e",
       "version_major": 2,
       "version_minor": 0
      },
      "text/plain": [
       "  0%|          | 0/1000000 [00:00<?, ?it/s]"
      ]
     },
     "metadata": {},
     "output_type": "display_data"
    },
    {
     "name": "stdout",
     "output_type": "stream",
     "text": [
      "Continuous data appended to C:\\_Data\\LLqub_contT1\\2024-02-20_18-46-50.h5\n"
     ]
    },
    {
     "data": {
      "application/vnd.jupyter.widget-view+json": {
       "model_id": "81fb5e65a91449ed84a91b240b8c0acd",
       "version_major": 2,
       "version_minor": 0
      },
      "text/plain": [
       "  0%|          | 0/1000000 [00:00<?, ?it/s]"
      ]
     },
     "metadata": {},
     "output_type": "display_data"
    },
    {
     "name": "stdout",
     "output_type": "stream",
     "text": [
      "Continuous data appended to C:\\_Data\\LLqub_contT1\\2024-02-20_18-46-50.h5\n",
      "3181.5670526000904 seconds have passed. Running T1 recalibration.\n"
     ]
    },
    {
     "data": {
      "application/vnd.jupyter.widget-view+json": {
       "model_id": "c416ca6809504d66bdda803d2693284e",
       "version_major": 2,
       "version_minor": 0
      },
      "text/plain": [
       "  0%|          | 0/50000 [00:00<?, ?it/s]"
      ]
     },
     "metadata": {},
     "output_type": "display_data"
    },
    {
     "name": "stdout",
     "output_type": "stream",
     "text": [
      "t1_i is better, saving T1_i to results cfg file\n",
      "102.81912731303517 108.80944592546642 82.34044860819016\n",
      "() () ()\n",
      "Recalibration data appended to C:\\_Data\\LLqub_contT1\\2024-02-20_18-46-50.h5\n"
     ]
    },
    {
     "data": {
      "application/vnd.jupyter.widget-view+json": {
       "model_id": "8c1063ef6a7a4e979b94c7660f62ae6d",
       "version_major": 2,
       "version_minor": 0
      },
      "text/plain": [
       "  0%|          | 0/1000000 [00:00<?, ?it/s]"
      ]
     },
     "metadata": {},
     "output_type": "display_data"
    },
    {
     "name": "stdout",
     "output_type": "stream",
     "text": [
      "Program stopped. HDF5 file closed.\n"
     ]
    }
   ],
   "source": [
    "def run_continuous_t1(qubit_i):\n",
    "    t1_cont = meas.T1Continuous(\n",
    "        soccfg=soc,\n",
    "        path=expt_path,\n",
    "        prefix=f\"t1_continuous_qubit{qubit_i}\",\n",
    "        config_file=results_config_path,\n",
    "    )\n",
    "\n",
    "    span = auto_cfg.device.qubit.T1[qubit_i]\n",
    "    npts = 1\n",
    "\n",
    "    t1_cont.cfg.expt = dict(\n",
    "        start=span / npts,  # wait time [us]\n",
    "        step=0,\n",
    "        expts=npts,\n",
    "        reps= 1000000,  # number of times we repeat a time point\n",
    "        rounds=1,  # number of start to finish sweeps to average over\n",
    "        qubit=qubit_i,\n",
    "    )\n",
    "\n",
    "    t1_cont.go(analyze=False, display=False, progress=True, save=False)\n",
    "    t1_raw_i = t1_cont.data['raw_i']\n",
    "    t1_raw_q = t1_cont.data['raw_q']\n",
    "    t1_amps = t1_cont.data['raw_amps']\n",
    "\n",
    "    return t1_raw_i, t1_raw_q, t1_amps\n",
    "pass\n",
    "\n",
    "def run_t1_recalibration(qubit_i):\n",
    "    t1 = meas.T1Experiment(\n",
    "        soccfg=soc,\n",
    "        path=expt_path,\n",
    "        prefix=f\"t1_qubit{qubit_i}\",\n",
    "        config_file=results_config_path,\n",
    "        )\n",
    "\n",
    "    span = 600\n",
    "    npts = 100\n",
    "\n",
    "    t1.cfg.expt = dict(\n",
    "        start=0,  # wait time [us]\n",
    "        step=int(span / npts),\n",
    "        expts=npts,\n",
    "        reps= 100*5,  # number of times we repeat a time point\n",
    "        rounds=1,  # number of start to finish sweeps to average over\n",
    "        qubit=qubit_i,\n",
    "        length_scan=span,  # length of the scan in us\n",
    "        num_saved_points=1,  # number of points to save for the T1 continuous scan\n",
    "        )\n",
    "\n",
    "    t1.go(analyze=False, display=False, progress=True, save=False)\n",
    "    t1.analyze(fit=True)\n",
    "    t1_err_i = np.sqrt(t1.data['fit_err_avgi'][3][3])\n",
    "    t1_fit_i =t1.data['fit_avgi'][3]\n",
    "    err_ratio_i = t1_err_i/t1_fit_i\n",
    "\n",
    "    t1_err_q = np.sqrt(t1.data['fit_err_avgq'][3][3])\n",
    "    t1_fit_q =t1.data['fit_avgq'][3]\n",
    "    err_ratio_q = t1_err_q/t1_fit_q\n",
    "\n",
    "    # open the results config file \n",
    "    with open(results_config_file,'r') as file:\n",
    "        auto_cfg=AttrDict(yaml.safe_load(file)) # turn it into an attribute dictionary\n",
    "\n",
    "    if err_ratio_i< err_ratio_q:\n",
    "        print('t1_i is better, saving T1_i to results cfg file') \n",
    "        auto_cfg.device.qubit.T1[qubit_i] = float(t1_fit_i)  # [DAC units]  \n",
    "\n",
    "    else: \n",
    "        print('t1_q is better, saving t1_q to results cfg file')\n",
    "        auto_cfg.device.qubit.T1[qubit_i] = float(t1_fit_q)  # [DAC units]  \n",
    "\n",
    "    auto_cfg= yaml.safe_dump(auto_cfg.to_dict(), default_flow_style=  True) # dump it \n",
    "\n",
    "    # write it: \n",
    "    with open('autocalibration_cfg.yml', 'w') as modified_file:\n",
    "        modified_file.write(auto_cfg)\n",
    "    # now, open the modified file again \n",
    "    with open('autocalibration_cfg.yml','r') as file:\n",
    "        auto_cfg=AttrDict(yaml.safe_load(file)) # turn it into an attribute dictionary\n",
    "    \n",
    "    t1_i = t1.data['avgi']\n",
    "    t1_q = t1.data['avgq']\n",
    "    t1_amp = t1.data['amps']\n",
    "    t1_i_value = t1.data['fit_avgi'][3]\n",
    "    t1_q_value = t1.data['fit_avgq'][3]\n",
    "    t1_amp_value = t1.data['fit_amps'][3]\n",
    "    t1_i_value_err = t1.data['fit_err_avgi'][3][3]\n",
    "    t1_q_value_err = t1.data['fit_err_avgq'][3][3]\n",
    "    t1_amp_value_err = t1.data['fit_err_amps'][3][3]\n",
    "\n",
    "    return t1_i, t1_q, t1_amp, t1_i_value, t1_q_value, t1_amp_value, t1_i_value_err, t1_q_value_err, t1_amp_value_err\n",
    "pass\n",
    "\n",
    "\n",
    "def main():\n",
    "    # Get the current date and time\n",
    "    import datetime\n",
    "    current_datetime = datetime.datetime.now()\n",
    "    formatted_datetime = current_datetime.strftime(\"%Y-%m-%d_%H-%M-%S\")\n",
    "\n",
    "    # Create the filename using the formatted date and time\n",
    "    filename = os.path.join(data_path, f\"{formatted_datetime}.h5\")\n",
    "\n",
    "    # Create an HDF5 file to save all the data\n",
    "    hf = h5py.File(filename, 'a')\n",
    "\n",
    "    if 't1_cont' not in hf:\n",
    "        g1 = hf.create_group('t1_cont')\n",
    "        g1.create_dataset('i', data=np.array([]), maxshape=(None,))\n",
    "        g1.create_dataset('q', data=np.array([]), maxshape=(None,))\n",
    "        g1.create_dataset('amp', data=np.array([]), maxshape=(None,))\n",
    "\n",
    "    if 't1_recal' not in hf:\n",
    "        g2 = hf.create_group('t1_recal')\n",
    "        g2.create_dataset('i', data=np.array([]), maxshape=(None,))\n",
    "        g2.create_dataset('q', data=np.array([]), maxshape=(None,))\n",
    "        g2.create_dataset('amp', data=np.array([]), maxshape=(None,))\n",
    "        g2.create_dataset('i_value', data=np.array([]), maxshape=(None,))\n",
    "        g2.create_dataset('q_value', data=np.array([]), maxshape=(None,))\n",
    "        g2.create_dataset('amp_value', data=np.array([]), maxshape=(None,))\n",
    "        g2.create_dataset('i_value_err', data=np.array([]), maxshape=(None,))\n",
    "        g2.create_dataset('q_value_err', data=np.array([]), maxshape=(None,))\n",
    "        g2.create_dataset('amp_value_err', data=np.array([]), maxshape=(None,))\n",
    "\n",
    "    qubit_i = 0\n",
    "    # Initialize arrays\n",
    "    t1_raw_i_data, t1_raw_q_data, t1_amps_data = np.array([]), np.array([]), np.array([])\n",
    "    \n",
    "    t1_i_recal_data, t1_q_recal_data, t1_amp_recal_data, t1_i_value_recal_data, t1_q_value_recal_data, t1_amp_value_recal_data, t1_i_value_recal_data_err, t1_q_value_recal_data_err, t1_amp_value_recal_data_err= np.array([]), np.array([]), np.array([]), np.array([]), np.array([]), np.array([]), np.array([]), np.array([]), np.array([])  \n",
    "\n",
    "    start_time = timer()\n",
    "    try:\n",
    "        while True:\n",
    "            # Run the continuous T1 experiment\n",
    "            t1_raw_i_data, t1_raw_q_data, t1_amps_data = run_continuous_t1(qubit_i)\n",
    "\n",
    "            # Append new data to datasets\n",
    "            hf['t1_cont/i'].resize((hf['t1_cont/i'].shape[0] + t1_raw_i_data.shape[0]), axis=0)\n",
    "            hf['t1_cont/i'][-t1_raw_i_data.shape[0]:] = t1_raw_i_data\n",
    "\n",
    "            hf['t1_cont/q'].resize((hf['t1_cont/q'].shape[0] + t1_raw_q_data.shape[0]), axis=0)\n",
    "            hf['t1_cont/q'][-t1_raw_q_data.shape[0]:] = t1_raw_q_data\n",
    "\n",
    "            hf['t1_cont/amp'].resize((hf['t1_cont/amp'].shape[0] + t1_amps_data.shape[0]), axis=0)\n",
    "            hf['t1_cont/amp'][-t1_amps_data.shape[0]:] = t1_amps_data\n",
    "           \n",
    "            print('Continuous data appended to', filename)\n",
    "\n",
    "            end_time = timer()\n",
    "\n",
    "            if end_time - start_time >= 60*30:\n",
    "                print(f\"{end_time - start_time} seconds have passed. Running T1 recalibration.\")\n",
    "\n",
    "                # Run the T1 recalibration experiment\n",
    "                t1_i_recal_data, t1_q_recal_data, t1_amp_recal_data, t1_i_value_recal_data, t1_q_value_recal_data, t1_amp_value_recal_data, t1_i_value_recal_data_err, t1_q_value_recal_data_err, t1_amp_value_recal_data_err = run_t1_recalibration(qubit_i)\n",
    "\n",
    "                print(t1_i_value_recal_data, t1_q_value_recal_data, t1_amp_value_recal_data)\n",
    "\n",
    "                print(np.shape(t1_i_value_recal_data), np.shape(t1_q_value_recal_data), np.shape(t1_amp_value_recal_data))\n",
    "                hf['t1_recal/i'].resize((hf['t1_recal/i'].shape[0] + t1_i_recal_data.shape[0]), axis=0)\n",
    "                hf['t1_recal/i'][-t1_i_recal_data.shape[0]:] = t1_i_recal_data\n",
    "\n",
    "                hf['t1_recal/q'].resize((hf['t1_recal/q'].shape[0] + t1_q_recal_data.shape[0]), axis=0)\n",
    "                hf['t1_recal/q'][-t1_q_recal_data.shape[0]:] = t1_q_recal_data\n",
    "\n",
    "                hf['t1_recal/amp'].resize((hf['t1_recal/amp'].shape[0] + t1_amp_recal_data.shape[0]), axis=0)\n",
    "                hf['t1_recal/amp'][-t1_amp_recal_data.shape[0]:] = t1_amp_recal_data\n",
    "\n",
    "                # T1 values for I, Q, and amp: \n",
    "                hf['t1_recal/i_value'].resize((hf['t1_recal/i_value'].shape[0] + 1), axis=0)\n",
    "                hf['t1_recal/i_value'][-1:] = t1_i_value_recal_data\n",
    "\n",
    "                hf['t1_recal/q_value'].resize((hf['t1_recal/q_value'].shape[0] + 1), axis=0)\n",
    "                hf['t1_recal/q_value'][-1:] = t1_q_value_recal_data\n",
    "\n",
    "                hf['t1_recal/amp_value'].resize((hf['t1_recal/amp_value'].shape[0] + 1), axis=0)\n",
    "                hf['t1_recal/amp_value'][-1:] = t1_amp_value_recal_data\n",
    "\n",
    "                # T1 errors for I, Q, and amp:  \n",
    "                hf['t1_recal/i_value_err'].resize((hf['t1_recal/i_value_err'].shape[0] + 1), axis=0)\n",
    "                hf['t1_recal/i_value_err'][-1:] = t1_i_value_recal_data_err\n",
    "\n",
    "                hf['t1_recal/q_value_err'].resize((hf['t1_recal/q_value_err'].shape[0] + 1), axis=0)\n",
    "                hf['t1_recal/q_value_err'][-1:] = t1_q_value_recal_data_err\n",
    "\n",
    "                hf['t1_recal/amp_value_err'].resize((hf['t1_recal/amp_value_err'].shape[0] + 1), axis=0)\n",
    "                hf['t1_recal/amp_value_err'][-1:] = t1_amp_value_recal_data_err\n",
    "\n",
    "                print('Recalibration data appended to', filename)\n",
    "                start_time = timer()  # Reset the start time\n",
    "\n",
    "    except KeyboardInterrupt:\n",
    "        # If KeyboardInterrupt (Ctrl+C) is detected, close the HDF5 file\n",
    "        hf.close()\n",
    "        print(\"Program stopped. HDF5 file closed.\")\n",
    " \n",
    "if __name__ == \"__main__\":\n",
    "    main()\n"
   ]
  },
  {
   "cell_type": "code",
   "execution_count": 39,
   "metadata": {},
   "outputs": [
    {
     "ename": "NameError",
     "evalue": "name 't1_i_value_recal_data' is not defined",
     "output_type": "error",
     "traceback": [
      "\u001b[1;31m---------------------------------------------------------------------------\u001b[0m",
      "\u001b[1;31mNameError\u001b[0m                                 Traceback (most recent call last)",
      "Cell \u001b[1;32mIn[39], line 1\u001b[0m\n\u001b[1;32m----> 1\u001b[0m \u001b[38;5;28mprint\u001b[39m(\u001b[43mt1_i_value_recal_data\u001b[49m)\n",
      "\u001b[1;31mNameError\u001b[0m: name 't1_i_value_recal_data' is not defined"
     ]
    }
   ],
   "source": [
    "print(t1_i_value_recal_data)"
   ]
  },
  {
   "cell_type": "code",
   "execution_count": null,
   "metadata": {},
   "outputs": [],
   "source": []
  },
  {
   "cell_type": "code",
   "execution_count": null,
   "metadata": {},
   "outputs": [],
   "source": []
  }
 ],
 "metadata": {
  "kernelspec": {
   "display_name": "slab",
   "language": "python",
   "name": "python3"
  },
  "language_info": {
   "codemirror_mode": {
    "name": "ipython",
    "version": 3
   },
   "file_extension": ".py",
   "mimetype": "text/x-python",
   "name": "python",
   "nbconvert_exporter": "python",
   "pygments_lexer": "ipython3",
   "version": "3.10.9"
  }
 },
 "nbformat": 4,
 "nbformat_minor": 2
}
