{
 "cells": [
  {
   "cell_type": "code",
   "execution_count": 1,
   "metadata": {},
   "outputs": [],
   "source": [
    "# %matplotlib widget\n",
    "# %matplotlib inline\n",
    "%matplotlib qt5"
   ]
  },
  {
   "cell_type": "code",
   "execution_count": 2,
   "metadata": {},
   "outputs": [
    {
     "name": "stdout",
     "output_type": "stream",
     "text": [
      "Could not import QickInstrument (will only work if running on rfsoc). If running on rfsoc, try install/update qick package\n",
      "Warning failed to import AWG81180A\n",
      "Warning failed to import Tek5014\n",
      "Warning failed to import Tek70001\n",
      "Warning failed to import M8195A\n"
     ]
    },
    {
     "name": "stderr",
     "output_type": "stream",
     "text": [
      "c:\\ProgramData\\Anaconda3\\lib\\site-packages\\IPython\\qt.py:12: ShimWarning: The `IPython.qt` package has been deprecated since IPython 4.0. You should import from qtconsole instead.\n",
      "  warn(\"The `IPython.qt` package has been deprecated since IPython 4.0. \"\n"
     ]
    },
    {
     "name": "stdout",
     "output_type": "stream",
     "text": [
      "Could not load InstrumentManagerWindow\n",
      "Could not load labbrick\n",
      "Could not load Autonics TM4 Driver\n",
      "Could not load Oxford Trition driver\n"
     ]
    }
   ],
   "source": [
    "%load_ext autoreload\n",
    "%autoreload 2\n",
    "\n",
    "import numpy as np\n",
    "import matplotlib.pyplot as plt\n",
    "from copy import deepcopy\n",
    "\n",
    "from qick import *\n",
    "from qick.helpers import gauss\n",
    "\n",
    "import time\n",
    "import os\n",
    "import sys\n",
    "sys.path.append('/home/xilinx/jupyter_notebooks/')\n",
    "import scipy as sp\n",
    "import json\n",
    "from scipy.fft import fft, fftfreq\n",
    "\n",
    "from slab.instruments import *\n",
    "from slab.experiment import Experiment\n",
    "from slab.datamanagement import SlabFile\n",
    "from slab import get_next_filename, AttrDict\n",
    "\n",
    "# Figure params\n",
    "import matplotlib as mpl\n",
    "mpl.rcParams['figure.figsize'] = [10,6]\n",
    "plt.rcParams.update({'font.size': 14})\n",
    "mpl.rcParams['figure.dpi'] = 150\n",
    "\n",
    "import Pyro4.util\n",
    "\n",
    "default_colors = plt.rcParams['axes.prop_cycle'].by_key()['color']\n",
    "linestyle_cycle=['solid', 'dashed', 'dotted', 'dashdot']\n",
    "marker_cycle = ['o', '*', 's', '^']"
   ]
  },
  {
   "cell_type": "markdown",
   "metadata": {},
   "source": [
    "# Load experiments"
   ]
  },
  {
   "cell_type": "code",
   "execution_count": 3,
   "metadata": {},
   "outputs": [
    {
     "name": "stdout",
     "output_type": "stream",
     "text": [
      "imported experiments.clifford_averager_program\n",
      "imported experiments.fitting\n",
      "imported experiments.four_qubit.fourQ_state_tomo\n",
      "imported experiments.qram_protocol_timestepped\n",
      "imported experiments.single_qubit.acstarkshift_spectroscopy\n",
      "imported experiments.single_qubit.amplitude_rabi\n",
      "imported experiments.single_qubit.length_rabi\n",
      "imported experiments.single_qubit.pulse_probe_spectroscopy\n",
      "imported experiments.single_qubit.resonator_spectroscopy\n",
      "imported experiments.single_qubit.rfsoc_tof_calibration\n",
      "imported experiments.single_qubit.single_shot\n",
      "imported experiments.single_qubit.t1\n",
      "imported experiments.single_qubit.t2_ramsey\n",
      "imported experiments.three_qubit.threeQ_state_tomo\n",
      "imported experiments.two_qubit.amplitude_rabi_EgGf\n",
      "imported experiments.two_qubit.amplitude_rabi_f0g1\n",
      "imported experiments.two_qubit.amprabi_opt_ctrl_state_prep\n",
      "imported experiments.two_qubit.crosstalk_echo_calib\n",
      "imported experiments.two_qubit.length_rabi_EgGf\n",
      "imported experiments.two_qubit.length_rabi_F0G1\n",
      "imported experiments.two_qubit.phase_calib_EgGf\n",
      "imported experiments.two_qubit.pulse_probe_EgGf_spectroscopy\n",
      "imported experiments.two_qubit.randbench\n",
      "imported experiments.two_qubit.random_test_pulses\n",
      "imported experiments.two_qubit.twoqutrit_state_tomography\n",
      "imported experiments.two_qubit.twoQ_state_tomography\n"
     ]
    }
   ],
   "source": [
    "# %aimport experiments\n",
    "# NOTE: ADDING NEW METHODS WILL NOT BE UPDATED\n",
    "import experiments as meas"
   ]
  },
  {
   "cell_type": "markdown",
   "metadata": {},
   "source": [
    "### Set save data"
   ]
  },
  {
   "cell_type": "code",
   "execution_count": 4,
   "metadata": {},
   "outputs": [],
   "source": [
    "save_data = False"
   ]
  },
  {
   "cell_type": "code",
   "execution_count": 5,
   "metadata": {},
   "outputs": [],
   "source": [
    "def prev_data(expt_path, filename=None):\n",
    "    \"\"\"Reopen saved data\"\"\"\n",
    "    temp_data_file = expt_path\n",
    "    if filename is not None: temp_data_file = os.path.join(expt_path, filename)\n",
    "    print(temp_data_file)\n",
    "    with SlabFile(temp_data_file) as a:\n",
    "        attrs = dict()\n",
    "        for key in list(a.attrs):\n",
    "            attrs.update({key:json.loads(a.attrs[key])})\n",
    "        keys = list(a)\n",
    "        temp_data = dict()\n",
    "        for key in keys:\n",
    "            temp_data.update({key:np.array(a[key])})\n",
    "        print(f'Extracted data and attrs {list(a.attrs)}')\n",
    "    return temp_data, attrs"
   ]
  },
  {
   "cell_type": "code",
   "execution_count": 6,
   "metadata": {},
   "outputs": [
    {
     "name": "stdout",
     "output_type": "stream",
     "text": [
      "Data will be stored in S:\\QRAM\\qram_4QR2\\data\\data_241025\n"
     ]
    }
   ],
   "source": [
    "# expt_path=os.path.join(os.getcwd(), 'data', 'data_240617')\n",
    "data_path = 'S:\\\\QRAM\\\\qram_4QR2\\\\'\n",
    "expt_path = os.path.join(data_path, 'data', 'data_241025')\n",
    "print('Data will be stored in', expt_path)"
   ]
  },
  {
   "cell_type": "code",
   "execution_count": 7,
   "metadata": {},
   "outputs": [
    {
     "name": "stdout",
     "output_type": "stream",
     "text": [
      "Config will be s:\\Connie\\experiments\\qram_tprocv1_expts\\configs\\config_q3diamond_full688and638_reset.yml\n"
     ]
    }
   ],
   "source": [
    "# config_file = 'config_zcu216.yml'\n",
    "# config_file = 'config_q3diamond.yml'\n",
    "# config_file = 'config_q3diamond_full688_reset.yml'\n",
    "config_file = 'config_q3diamond_full688and638_reset.yml'\n",
    "config_path = os.path.join('s:\\\\Connie\\\\experiments\\\\qram_tprocv1_expts\\\\configs\\\\', config_file)\n",
    "print('Config will be', config_path)"
   ]
  },
  {
   "cell_type": "markdown",
   "metadata": {},
   "source": [
    "# Load config"
   ]
  },
  {
   "cell_type": "code",
   "execution_count": 192,
   "metadata": {},
   "outputs": [],
   "source": [
    "import yaml\n",
    "with open(config_path, 'r') as cfg_file:\n",
    "    yaml_cfg = yaml.safe_load(cfg_file)\n",
    "yaml_cfg = AttrDict(yaml_cfg)"
   ]
  },
  {
   "cell_type": "markdown",
   "metadata": {},
   "source": [
    "# Setup experiment hardware\n",
    "\n",
    "Set in config:\n",
    "- LO alias, frequency, power\n",
    "- SOC dac channels, nyquist zones"
   ]
  },
  {
   "cell_type": "code",
   "execution_count": 9,
   "metadata": {},
   "outputs": [
    {
     "name": "stdout",
     "output_type": "stream",
     "text": [
      "['Pyro.NameServer', 'Qick_QRAM']\n"
     ]
    }
   ],
   "source": [
    "# im = InstrumentManager(ns_address='192.168.14.1') # Chicago lab\n",
    "# im = InstrumentManager(ns_address='192.168.137.1') # SLAC lab\n",
    "# im = InstrumentManager(ns_address='10.108.30.56') # Spilker Fermium\n",
    "im = InstrumentManager(ns_address='10.108.30.75') # Spilker Vibranium\n",
    "\n",
    "print(list(im))\n",
    "# print(im)"
   ]
  },
  {
   "cell_type": "code",
   "execution_count": 10,
   "metadata": {},
   "outputs": [
    {
     "name": "stdout",
     "output_type": "stream",
     "text": [
      "QICK running on ZCU216, software version 0.2.272\n",
      "\n",
      "Firmware configuration (built Sat Oct  5 10:21:47 2024):\n",
      "\n",
      "\tGlobal clocks (MHz): tProcessor 430.080, RF reference 245.760\n",
      "\n",
      "\t7 signal generator channels:\n",
      "\t0:\taxis_signal_gen_v6 - envelope memory 32768 samples (5.128 us)\n",
      "\t\tfs=6389.760 MHz, fabric=399.360 MHz, 32-bit DDS, range=6389.760 MHz\n",
      "\t\tDAC tile 2, blk 0 is 0_230, on JHC3\n",
      "\t1:\taxis_signal_gen_v6 - envelope memory 32768 samples (5.128 us)\n",
      "\t\tfs=6389.760 MHz, fabric=399.360 MHz, 32-bit DDS, range=6389.760 MHz\n",
      "\t\tDAC tile 2, blk 1 is 1_230, on JHC4\n",
      "\t2:\taxis_signal_gen_v6 - envelope memory 32768 samples (5.128 us)\n",
      "\t\tfs=6389.760 MHz, fabric=399.360 MHz, 32-bit DDS, range=6389.760 MHz\n",
      "\t\tDAC tile 2, blk 2 is 2_230, on JHC3\n",
      "\t3:\taxis_signal_gen_v6 - envelope memory 32768 samples (5.128 us)\n",
      "\t\tfs=6389.760 MHz, fabric=399.360 MHz, 32-bit DDS, range=6389.760 MHz\n",
      "\t\tDAC tile 2, blk 3 is 3_230, on JHC4\n",
      "\t4:\taxis_signal_gen_v6 - envelope memory 32768 samples (4.762 us)\n",
      "\t\tfs=6881.280 MHz, fabric=430.080 MHz, 32-bit DDS, range=6881.280 MHz\n",
      "\t\tDAC tile 3, blk 0 is 0_231, on JHC3\n",
      "\t5:\taxis_signal_gen_v6 - envelope memory 32768 samples (4.762 us)\n",
      "\t\tfs=6881.280 MHz, fabric=430.080 MHz, 32-bit DDS, range=6881.280 MHz\n",
      "\t\tDAC tile 3, blk 1 is 1_231, on JHC4\n",
      "\t6:\taxis_sg_mux4_v2 - envelope memory 0 samples (0.000 us)\n",
      "\t\tfs=6881.280 MHz, fabric=430.080 MHz, 32-bit DDS, range=1720.320 MHz\n",
      "\t\tDAC tile 0, blk 0 is 0_228, on JHC1\n",
      "\n",
      "\t4 constant-IQ outputs:\n",
      "\t0:\tfs=6881.280 MHz\n",
      "\t\tDAC tile 1, blk 0 is 0_229, on JHC1\n",
      "\t1:\tfs=6881.280 MHz\n",
      "\t\tDAC tile 1, blk 1 is 1_229, on JHC2\n",
      "\t2:\tfs=6881.280 MHz\n",
      "\t\tDAC tile 1, blk 2 is 2_229, on JHC1\n",
      "\t3:\tfs=6881.280 MHz\n",
      "\t\tDAC tile 1, blk 3 is 3_229, on JHC2\n",
      "\n",
      "\t4 readout channels:\n",
      "\t0:\taxis_pfb_readout_v2 - configured by PYNQ\n",
      "\t\tfs=2457.600 MHz, decimated=307.200 MHz, 32-bit DDS, range=307.200 MHz\n",
      "\t\tmaxlen 16384 accumulated, 1024 decimated (3.333 us)\n",
      "\t\ttriggered by output 7, pin 8, feedback to tProc input 0\n",
      "\t\tADC tile 2, blk 0 is 0_226, on JHC7\n",
      "\t1:\taxis_pfb_readout_v2 - configured by PYNQ\n",
      "\t\tfs=2457.600 MHz, decimated=307.200 MHz, 32-bit DDS, range=307.200 MHz\n",
      "\t\tmaxlen 16384 accumulated, 1024 decimated (3.333 us)\n",
      "\t\ttriggered by output 7, pin 9, feedback to tProc input 1\n",
      "\t\tADC tile 2, blk 0 is 0_226, on JHC7\n",
      "\t2:\taxis_pfb_readout_v2 - configured by PYNQ\n",
      "\t\tfs=2457.600 MHz, decimated=307.200 MHz, 32-bit DDS, range=307.200 MHz\n",
      "\t\tmaxlen 16384 accumulated, 1024 decimated (3.333 us)\n",
      "\t\ttriggered by output 7, pin 10, feedback to tProc input 2\n",
      "\t\tADC tile 2, blk 0 is 0_226, on JHC7\n",
      "\t3:\taxis_pfb_readout_v2 - configured by PYNQ\n",
      "\t\tfs=2457.600 MHz, decimated=307.200 MHz, 32-bit DDS, range=307.200 MHz\n",
      "\t\tmaxlen 16384 accumulated, 1024 decimated (3.333 us)\n",
      "\t\ttriggered by output 7, pin 11, feedback to tProc input 3\n",
      "\t\tADC tile 2, blk 0 is 0_226, on JHC7\n",
      "\n",
      "\t8 digital output pins:\n",
      "\t0:\tPMOD0_0_LS\n",
      "\t1:\tPMOD0_1_LS\n",
      "\t2:\tPMOD0_2_LS\n",
      "\t3:\tPMOD0_3_LS\n",
      "\t4:\tPMOD0_4_LS\n",
      "\t5:\tPMOD0_5_LS\n",
      "\t6:\tPMOD0_6_LS\n",
      "\t7:\tPMOD0_7_LS\n",
      "\n",
      "\ttProc axis_tproc64x32_x8 (\"v1\") rev 4: program memory 16384 words, data memory 4096 words\n",
      "\t\texternal start pin: PMOD1_0_LS\n"
     ]
    }
   ],
   "source": [
    "soc = QickConfig(im[yaml_cfg['aliases']['soc']].get_cfg())\n",
    "print(soc)\n",
    "# print(soc.description())\n",
    "# print(soc.dump_cfg())\n",
    "\n",
    "# soc = QickConfig(im['Qick187'].get_cfg())"
   ]
  },
  {
   "cell_type": "code",
   "execution_count": 11,
   "metadata": {},
   "outputs": [],
   "source": [
    "# lo1 = im[yaml_cfg.aliases.readout_LO]\n",
    "# lo1.open_device()\n",
    "# print(lo1.get_id())\n",
    "\n",
    "# # TURN OFF\n",
    "# lo1.set_standby(True)\n",
    "# lo1.set_output_state(False)\n",
    "\n",
    "# # # TURN ON\n",
    "# # lo1.set_standby(False)\n",
    "# # lo1.set_output_state(True)\n",
    "# # lo_freq = float(yaml_cfg.hw.lo.readout.frequency)\n",
    "# # lo_power = float(yaml_cfg.hw.lo.readout.power)\n",
    "# # lo1.set_frequency(lo_freq) # Set LO frequency\n",
    "# # print(f'set freq to [MHz] {lo_freq*1e-6}')\n",
    "# # lo1.set_power(lo_power) # Set LO power\n",
    "# # print('set power to', lo_power)"
   ]
  },
  {
   "cell_type": "markdown",
   "metadata": {},
   "source": [
    "## Set TWPA parameters\n",
    "\n",
    "Set in config:\n",
    "- LO alias, frequency, power\n",
    "- SOC dac channels, nyquist zones"
   ]
  },
  {
   "cell_type": "code",
   "execution_count": null,
   "metadata": {},
   "outputs": [],
   "source": [
    "\"\"\"\n",
    "TWPA ON\n",
    "\"\"\"\n",
    "\n",
    "print('Using config file', config_file)\n",
    "with open(config_file, 'r') as cfg_file:\n",
    "    yaml_cfg = yaml.safe_load(cfg_file)\n",
    "yaml_cfg = AttrDict(yaml_cfg)\n",
    "\n",
    "im = InstrumentManager(ns_address='10.108.30.56') # Spilker Fermium\n",
    "\n",
    "lo_twpa = im[yaml_cfg.aliases.twpa_LO]\n",
    "# lo_twpa = SignalCore(name=\"SignalCore\", address='10003494')\n",
    "lo_twpa.open_device()\n",
    "print(lo_twpa.get_id())\n",
    "\n",
    "# TURN ON\n",
    "lo_twpa.set_standby(False)\n",
    "lo_twpa.set_output_state(True)\n",
    "twpa_freq = float(yaml_cfg.hw.lo.twpa.frequency)\n",
    "twpa_power = float(yaml_cfg.hw.lo.twpa.power)\n",
    "lo_twpa.set_frequency(twpa_freq) # Set LO frequency\n",
    "print(f'set twpa pump freq to {twpa_freq*1e-6} MHz')\n",
    "lo_twpa.set_power(twpa_power) # Set LO power\n",
    "print(f'set twpa pump power to {twpa_power} dBm')"
   ]
  },
  {
   "cell_type": "code",
   "execution_count": null,
   "metadata": {},
   "outputs": [],
   "source": [
    "\"\"\"\n",
    "TWPA OFF\n",
    "\"\"\"\n",
    "im = InstrumentManager(ns_address='10.108.30.56') # Spilker Fermium\n",
    "\n",
    "lo_twpa = im[yaml_cfg.aliases.twpa_LO]\n",
    "# lo_twpa = SignalCore(name=\"SignalCore\", address='10003494')\n",
    "lo_twpa.open_device()\n",
    "print(lo_twpa.get_id())\n",
    "\n",
    "# TURN OFF\n",
    "lo_twpa.set_standby(True)\n",
    "lo_twpa.set_output_state(False)"
   ]
  },
  {
   "cell_type": "markdown",
   "metadata": {},
   "source": [
    "# Qubit/resonator to probe"
   ]
  },
  {
   "cell_type": "code",
   "execution_count": 144,
   "metadata": {},
   "outputs": [],
   "source": [
    "all_results = [dict(), dict(), dict(), dict()]\n",
    "saved_files = []"
   ]
  },
  {
   "cell_type": "code",
   "execution_count": 172,
   "metadata": {},
   "outputs": [],
   "source": [
    "qubit_i = 3\n",
    "results_Qi = all_results[qubit_i]"
   ]
  },
  {
   "cell_type": "code",
   "execution_count": 146,
   "metadata": {},
   "outputs": [],
   "source": [
    "full_mux_expt = False\n",
    "resonator_reset = [0, 2, 3] if full_mux_expt else None\n",
    "use_robust_pulses = True"
   ]
  },
  {
   "cell_type": "markdown",
   "metadata": {},
   "source": [
    "## Set reps and rounds"
   ]
  },
  {
   "cell_type": "code",
   "execution_count": 45,
   "metadata": {},
   "outputs": [],
   "source": [
    "reps = 100\n",
    "rounds = 10"
   ]
  },
  {
   "cell_type": "markdown",
   "metadata": {},
   "source": [
    "# RFSoC Calibration"
   ]
  },
  {
   "cell_type": "code",
   "execution_count": null,
   "metadata": {},
   "outputs": [],
   "source": [
    "tof = meas.ToFCalibrationExperiment(\n",
    "    soccfg=soc,\n",
    "    path=expt_path,\n",
    "    prefix=f\"adc_trig_offset_calibration_qubit{qubit_i}\",\n",
    "    config_file=config_path,\n",
    ")\n",
    "\n",
    "tof.cfg.expt = dict(\n",
    "    pulse_length=0.5, # [us]\n",
    "    readout_length=1.0, # [us]\n",
    "    trig_offset=0, # [clock ticks]\n",
    "    # gain=32000,\n",
    "    gain=0.8, # [MUX units: -1 to 1]\n",
    "    frequency=tof.cfg.device.readout.frequency[qubit_i]-15, # [MHz]\n",
    "    reps=reps*rounds, # Number of averages per point\n",
    "    # qubit=qubit_i,\n",
    "    qubit=qubit_i,\n",
    ")\n",
    "tof.cfg.device.readout.relax_delay=0.1 # wait time between experiments [us]\n",
    "# print(tof.cfg)\n",
    "\n",
    "try:\n",
    "    tof.go(analyze=False, display=False, progress=True, save=False)\n",
    "except Exception:\n",
    "    print(\"Pyro traceback:\")\n",
    "    print(\"\".join(Pyro4.util.getPyroTraceback()))"
   ]
  },
  {
   "cell_type": "code",
   "execution_count": null,
   "metadata": {},
   "outputs": [],
   "source": [
    "tof.display(adc_trig_offset=150)"
   ]
  },
  {
   "cell_type": "markdown",
   "metadata": {},
   "source": [
    "# Initial single tone resonator spectroscopy"
   ]
  },
  {
   "cell_type": "code",
   "execution_count": 69,
   "metadata": {},
   "outputs": [
    {
     "data": {
      "application/vnd.jupyter.widget-view+json": {
       "model_id": "5d85bf8c1a3a4c4997b1668149c78282",
       "version_major": 2,
       "version_minor": 0
      },
      "text/plain": [
       "  0%|          | 0/150 [00:00<?, ?it/s]"
      ]
     },
     "metadata": {},
     "output_type": "display_data"
    }
   ],
   "source": [
    "rspec = meas.ResonatorSpectroscopyExperiment(\n",
    "    soccfg=soc,\n",
    "    path=expt_path,\n",
    "    prefix=f\"resonator_spectroscopy_qubit{qubit_i}\",\n",
    "    config_file=config_path,\n",
    ")\n",
    "rspec.cfg = AttrDict(deepcopy(yaml_cfg))\n",
    "\n",
    "span = 1.0 # MHz\n",
    "npts = 150\n",
    "rspec.cfg.expt = dict(\n",
    "    start=rspec.cfg.device.readout.frequency[qubit_i]-span/2, # [MHz]\n",
    "    step=span/npts,\n",
    "    expts=npts,\n",
    "    reps=reps*rounds,\n",
    "    pulse_e=False, # add ge pi pulse prior to measurement\n",
    "    pulse_f=False, # add ef pi pulse prior to measurement\n",
    "    qTest=qubit_i,\n",
    "    qZZ=None,\n",
    "\n",
    "    resonator_reset=resonator_reset,\n",
    "    full_mux_expt=full_mux_expt,\n",
    ")\n",
    "# rspec.cfg.device.readout.gain[qubit_i] /= 3\n",
    "# rspec.cfg.device.readout.readout_length = [3*rspec.cfg.device.readout.readout_length[qubit_i]]*4\n",
    "\n",
    "rspec.cfg.device.readout.relax_delay = 25 # Wait time between experiments [us] - should be 5x resonator lifetime for good shape\n",
    "\n",
    "try:\n",
    "    rspec.go(analyze=False, display=False, progress=True, save=False)\n",
    "except Exception:\n",
    "    print(\"Pyro traceback:\")\n",
    "    print(\"\".join(Pyro4.util.getPyroTraceback()))"
   ]
  },
  {
   "cell_type": "code",
   "execution_count": 70,
   "metadata": {},
   "outputs": [
    {
     "name": "stdout",
     "output_type": "stream",
     "text": [
      "electrical delay phase correction (no mux support) (deg) -9.296828644341398\n",
      "param guess [6971.096666666665, 34855.48333333332, 34855.48333333332, 0, -0.05735332374579296, 0.8372734354994826]\n",
      "param bounds ([6970.606666666667, 0, 0, -6.283185307179586, -0.08602998561868944, -inf], [6971.586666666667, 1000000000.0, 100000000.0, 6.283185307179586, 0.08602998561868944, 1.0161949146025724])\n",
      "popt [ 6.97112193e+03  8.16747946e+04  6.00218975e+04  3.25146604e-01\n",
      "  2.87600896e-02 -3.68129692e-02]\n",
      "\n",
      "Freq with minimum transmission: -228.85333333333335\n",
      "Freq with maximum transmission: -229.21333333333334\n",
      "From fit:\n",
      "\tf0: 6971.121925059257\n",
      "\tQi: 81674.7945879643 \t kappa_i/2pi: 0.08535218190908717\n",
      "\tQe: 60021.89751385618 \t kappa_e/2pi: 0.11614297804313765\n",
      "\tQ0: 34596.969608163956\n",
      "\tkappa [MHz]: 0.20149515995222483\n",
      "\tphi [radians]: 0.3251466035085062\n",
      "baseline 119.29965590573188\n",
      "*Set cfg res 3 freq to -228.84666666666666*\n",
      "qubit 3 {'Pi pulse gain': 5483, 'Qubit freq': 4381.08536678259, 'Res freq': 6971.153333333334, 'Res freq (yaml)': -228.84666666666666, 'Res kappa': 0.20149515995222483}\n"
     ]
    }
   ],
   "source": [
    "# TESTING\n",
    "# # rspec = meas.ResonatorSpectroscopyExperiment(config_file=config_path,) \n",
    "# temp_data, attrs = prev_data(expt_path, '00001_resonator_spectroscopy_qubit2.h5')\n",
    "# rspec.data = temp_data\n",
    "\n",
    "rspec.data = rspec.analyze(fit=True)\n",
    "rspec_fit = rspec.data['fit']\n",
    "# if not isinstance(rspec_fit, (list, np.ndarray)):\n",
    "#     rspec.display(fit=False)\n",
    "#     assert False, 'Fit failed, please manually fix!'\n",
    "rspec.display(fit=True)\n",
    "# yaml_cfg.device.readout.frequency[qubit_i] = rspec_fit[0]\n",
    "\n",
    "res_freq_g = rspec.data['xpts'][np.argmin(rspec.data['amps'])]\n",
    "# res_freq_g = rspec.data['xpts'][np.argmax(rspec.data['amps'])]\n",
    "yaml_cfg.device.readout.frequency[qubit_i] = res_freq_g\n",
    "\n",
    "print(f'*Set cfg res {qubit_i} freq to {yaml_cfg.device.readout.frequency[qubit_i]}*')\n",
    "results_Qi.update({'Res freq':float(yaml_cfg.hw.lo.readout.frequency)*1e-6 + yaml_cfg.device.readout.lo_sideband[qubit_i]*(yaml_cfg.device.readout.frequency[qubit_i] + yaml_cfg.hw.soc.dacs.readout.mixer_freq[qubit_i])})\n",
    "results_Qi.update({'Res freq (yaml)':yaml_cfg.device.readout.frequency[qubit_i]})\n",
    "results_Qi.update({'Res kappa':abs(rspec_fit[0]*(1/rspec_fit[1] + 1/rspec_fit[2]))})\n",
    "print(f'qubit {qubit_i}', results_Qi)"
   ]
  },
  {
   "cell_type": "code",
   "execution_count": 21,
   "metadata": {},
   "outputs": [],
   "source": [
    "if save_data: saved_files.append(rspec.save_data())"
   ]
  },
  {
   "cell_type": "markdown",
   "metadata": {},
   "source": [
    "# Qubit ge spectroscopy"
   ]
  },
  {
   "cell_type": "markdown",
   "metadata": {},
   "source": [
    "## Pulse Probe (qubit) spectroscopy"
   ]
  },
  {
   "cell_type": "code",
   "execution_count": 147,
   "metadata": {},
   "outputs": [
    {
     "name": "stdout",
     "output_type": "stream",
     "text": [
      "Running pulse probe on Q3 \n"
     ]
    },
    {
     "data": {
      "application/vnd.jupyter.widget-view+json": {
       "model_id": "549a42ee68fc4c0c90061478e6931bb6",
       "version_major": 2,
       "version_minor": 0
      },
      "text/plain": [
       "  0%|          | 0/10 [00:00<?, ?it/s]"
      ]
     },
     "metadata": {},
     "output_type": "display_data"
    }
   ],
   "source": [
    "qspec = meas.PulseProbeSpectroscopyExperiment(\n",
    "    soccfg=soc,\n",
    "    path=expt_path,\n",
    "    prefix=f\"qubit_spectroscopy_qubit{qubit_i}\",\n",
    "    config_file=config_path,\n",
    ")\n",
    "qspec.cfg = AttrDict(deepcopy(yaml_cfg))\n",
    "\n",
    "span = 50\n",
    "npts = 250\n",
    "\n",
    "qspec.cfg.expt = dict(\n",
    "    start=np.reshape(yaml_cfg.device.qubit.f_ge, (4,4))[qubit_i, qubit_i]-span/2, # [MHz]\n",
    "    step=span/npts,\n",
    "    expts=npts,\n",
    "    reps=reps, # Number of averages per point\n",
    "    rounds=rounds, # Number of start to finish sweeps to average over\n",
    "    length=1, # Qubit probe constant pulse length [us]\n",
    "    gain=int(np.reshape(yaml_cfg.device.qubit.pulses.pi_ge.gain, (4,4))[qubit_i, qubit_i]/10), # Qubit pulse gain\n",
    "    pulse_type='gauss',\n",
    "    qTest=qubit_i,\n",
    "    qZZ=None,\n",
    "    checkEF=False,\n",
    ")\n",
    "qspec.cfg.device.readout.relax_delay = 10 # Wait time between experiments [us]\n",
    "qspec.go(analyze=False, display=False, progress=True, save=False)"
   ]
  },
  {
   "cell_type": "code",
   "execution_count": 72,
   "metadata": {},
   "outputs": [
    {
     "name": "stdout",
     "output_type": "stream",
     "text": [
      "Found peak in amps at [MHz] 4381.13607506006, HWHM 0.1774060741015645\n",
      "Found peak in I at [MHz] 4381.159491623125, HWHM -0.09843212084323189\n",
      "Found peak in Q at [MHz] 4381.135527846996, HWHM -0.17892751746598456\n",
      "best 2 0.024896841246068727\n",
      "*Set qubit 3 f_ge to 4381.135527846996*\n",
      "{'Pi pulse gain': 5483, 'Qubit freq': 4381.135527846996, 'Res freq': 6971.153333333334, 'Res freq (yaml)': -228.84666666666666, 'Res kappa': 0.20149515995222483}\n"
     ]
    }
   ],
   "source": [
    "# # TESTING\n",
    "# # qspec = meas.PulseProbeSpectroscopyExperiment(config_file=config_path,)\n",
    "# temp_data, attrs = prev_data(expt_path, '00001_qubit_spectroscopy_qubit0.h5')\n",
    "# qspec.data = temp_data\n",
    "\n",
    "best_signs = [1, 0, 0]\n",
    "best_fit_err_i = np.inf\n",
    "best_fit_err_q = np.inf\n",
    "for sign in [1, -1]:\n",
    "    try: \n",
    "        qspec.analyze(fit=True, signs=[1, sign, sign])\n",
    "        fit_err_i = qspec.data['fit_err_avgi'][2][2]\n",
    "        fit_err_q = qspec.data['fit_err_avgq'][2][2]\n",
    "        if fit_err_i < best_fit_err_i:\n",
    "            best_signs[1] = sign\n",
    "            best_fit_err_i = fit_err_i\n",
    "        if fit_err_q < best_fit_err_q:\n",
    "            best_signs[2] = sign\n",
    "            best_fit_err_q = fit_err_q\n",
    "    except: continue\n",
    "if best_fit_err_i == np.inf and best_fit_err_q == np.inf:\n",
    "    qspec.display(fit=False)\n",
    "    assert False, 'Fit failed, please manually fix!'\n",
    "\n",
    "qspec.analyze(fit=True, signs=best_signs)\n",
    "qspec.display(fit=True, signs=best_signs)\n",
    "\n",
    "qspec_fit, qspec_fit_err = meas.fitting.get_best_fit(qspec.data)\n",
    "yaml_cfg.device.qubit.f_ge = np.reshape(yaml_cfg.device.qubit.f_ge, (4,4))\n",
    "yaml_cfg.device.qubit.f_ge[qubit_i, qubit_i] = qspec_fit[2]\n",
    "print(f'*Set qubit {qubit_i} f_ge to {yaml_cfg.device.qubit.f_ge[qubit_i, qubit_i]}*')\n",
    "results_Qi.update({'Qubit freq':yaml_cfg.device.qubit.f_ge[qubit_i, qubit_i] + yaml_cfg.hw.soc.dacs.qubit.mixer_freq[qubit_i]})\n",
    "yaml_cfg.device.qubit.f_ge = yaml_cfg.device.qubit.f_ge.flatten().tolist()\n",
    "print(results_Qi)"
   ]
  },
  {
   "cell_type": "code",
   "execution_count": 24,
   "metadata": {},
   "outputs": [],
   "source": [
    "if save_data: saved_files.append(qspec.save_data())"
   ]
  },
  {
   "cell_type": "markdown",
   "metadata": {},
   "source": [
    "## Pulse Probe (qubit) spectroscopy round 2"
   ]
  },
  {
   "cell_type": "code",
   "execution_count": 25,
   "metadata": {},
   "outputs": [
    {
     "name": "stdout",
     "output_type": "stream",
     "text": [
      "Running pulse probe on Q3 \n"
     ]
    },
    {
     "data": {
      "application/vnd.jupyter.widget-view+json": {
       "model_id": "676b72021a11477680d1a4fe11caed1b",
       "version_major": 2,
       "version_minor": 0
      },
      "text/plain": [
       "  0%|          | 0/10 [00:00<?, ?it/s]"
      ]
     },
     "metadata": {},
     "output_type": "display_data"
    }
   ],
   "source": [
    "qspec2 = meas.PulseProbeSpectroscopyExperiment(\n",
    "    soccfg=soc,\n",
    "    path=expt_path,\n",
    "    prefix=f\"qubit_spectroscopy_qubit{qubit_i}\",\n",
    "    config_file=config_path,\n",
    ")\n",
    "qspec2.cfg = AttrDict(deepcopy(yaml_cfg))\n",
    "\n",
    "span = 15\n",
    "npts = 250\n",
    "\n",
    "qspec2.cfg.expt = dict(\n",
    "    start=np.reshape(qspec2.cfg.device.qubit.f_ge, (4,4))[qubit_i, qubit_i]-span/2, # [MHz]\n",
    "    step=span/npts,\n",
    "    expts=npts,\n",
    "    reps=reps, # Number of averages per point\n",
    "    rounds=rounds, # Number of start to finish sweeps to average over\n",
    "    length=1, # Qubit probe constant pulse length [us]\n",
    "    gain=int(np.reshape(yaml_cfg.device.qubit.pulses.pi_ge.gain, (4,4))[qubit_i, qubit_i]/80), # Qubit pulse gain\n",
    "    pulse_type='gauss',\n",
    "    qTest=qubit_i,\n",
    "    qZZ=None,\n",
    "    checkEF=False,\n",
    ")\n",
    "qspec2.cfg.device.readout.relax_delay = 10 # Wait time between experiments [us]\n",
    "qspec2.go(analyze=False, display=False, progress=True, save=False)"
   ]
  },
  {
   "cell_type": "code",
   "execution_count": 26,
   "metadata": {},
   "outputs": [
    {
     "name": "stdout",
     "output_type": "stream",
     "text": [
      "Found peak in amps at [MHz] 4381.000276870876, HWHM 2.09882347179696\n",
      "Found peak in I at [MHz] 4381.084606469684, HWHM 2.2129218497450216\n",
      "Found peak in Q at [MHz] 4380.640636505068, HWHM 2.369674644626421\n",
      "best 0 0.038706615167742736\n",
      "*Set qubit 3 f_ge to 4381.000276870876*\n",
      "{'Res freq': 6971.086666666667, 'Res freq (yaml)': -278.91333333333296, 'Res kappa': 0.19749745591104786, 'Qubit freq': 4381.000276870876}\n"
     ]
    }
   ],
   "source": [
    "# # TESTING\n",
    "# # qspec2 = meas.PulseProbeSpectroscopyExperiment(config_file=config_path,)\n",
    "# temp_data, attrs = prev_data(expt_path, '00001_qubit_spectroscopy_qubit0.h5')\n",
    "# qspec2.data = temp_data\n",
    "\n",
    "best_signs = [1, 0, 0]\n",
    "best_fit_err_i = np.inf\n",
    "best_fit_err_q = np.inf\n",
    "for sign in [1, -1]:\n",
    "    try: \n",
    "        qspec2.analyze(fit=True, signs=[1, sign, sign])\n",
    "        fit_err_amps = qspec2.data['fit_err_amps'][2][2]\n",
    "        fit_err_i = qspec2.data['fit_err_avgi'][2][2]\n",
    "        fit_err_q = qspec2.data['fit_err_avgq'][2][2]\n",
    "        if fit_err_i < best_fit_err_i:\n",
    "            best_signs[1] = sign\n",
    "            best_fit_err_i = fit_err_i\n",
    "        if fit_err_q < best_fit_err_q:\n",
    "            best_signs[2] = sign\n",
    "            best_fit_err_q = fit_err_q\n",
    "    except: continue\n",
    "if fit_err_amps == np.inf and best_fit_err_i == np.inf and best_fit_err_q == np.inf:\n",
    "    qspec2.display(fit=False)\n",
    "    assert False, 'Fit failed, please manually fix!'\n",
    "\n",
    "qspec2.analyze(fit=True, signs=best_signs)\n",
    "qspec2.display(fit=True, signs=best_signs)\n",
    "\n",
    "qspec2_fit, qspec2_fit_err = meas.fitting.get_best_fit(qspec2.data)\n",
    "yaml_cfg.device.qubit.f_ge = np.reshape(yaml_cfg.device.qubit.f_ge, (4,4))\n",
    "yaml_cfg.device.qubit.f_ge[qubit_i, qubit_i] = qspec2_fit[2]\n",
    "qubit_hwhm = qspec2_fit[3]\n",
    "print(f'*Set qubit {qubit_i} f_ge to {yaml_cfg.device.qubit.f_ge[qubit_i, qubit_i]}*')\n",
    "results_Qi.update({'Qubit freq':yaml_cfg.device.qubit.f_ge[qubit_i, qubit_i] + yaml_cfg.hw.soc.dacs.qubit.mixer_freq[qubit_i]})\n",
    "yaml_cfg.device.qubit.f_ge = yaml_cfg.device.qubit.f_ge.flatten().tolist()\n",
    "print(results_Qi)"
   ]
  },
  {
   "cell_type": "code",
   "execution_count": 27,
   "metadata": {},
   "outputs": [],
   "source": [
    "if save_data: saved_files.append(qspec2.save_data())"
   ]
  },
  {
   "cell_type": "markdown",
   "metadata": {},
   "source": [
    "## Length Rabi"
   ]
  },
  {
   "cell_type": "code",
   "execution_count": 28,
   "metadata": {},
   "outputs": [
    {
     "name": "stdout",
     "output_type": "stream",
     "text": [
      "Running length rabi on Q3 \n"
     ]
    },
    {
     "data": {
      "application/vnd.jupyter.widget-view+json": {
       "model_id": "f5199412493f4f9b8e79e69e58f072ae",
       "version_major": 2,
       "version_minor": 0
      },
      "text/plain": [
       "  0%|          | 0/121 [00:00<?, ?it/s]"
      ]
     },
     "metadata": {},
     "output_type": "display_data"
    }
   ],
   "source": [
    "lengthrabi = meas.LengthRabiExperiment(\n",
    "    soccfg=soc,\n",
    "    path=expt_path,\n",
    "    prefix=f\"length_rabi_qubit{qubit_i}\",\n",
    "    config_file=config_path,\n",
    ")\n",
    "lengthrabi.cfg = AttrDict(deepcopy(yaml_cfg))\n",
    "\n",
    "lengthrabi.cfg.expt = dict(\n",
    "    start=0, # pulse length (sigma) [us]\n",
    "    step=soc.cycles2us(1), # [us]\n",
    "    # step=0.001,\n",
    "    expts=121,\n",
    "    reps=reps*rounds,\n",
    "    pulse_type='gauss',\n",
    "    checkEF=False, \n",
    "    qTest=qubit_i,\n",
    "    qZZ=None,\n",
    ")\n",
    "# lengthrabi.cfg.device.readout.relax_delay = 50 # Wait time between experiments [us]\n",
    "# lengthrabi.pi_ge.gain[4*qubit_i+qubit_i] = 5000 # qubit gain [DAC units],\n",
    "\n",
    "try:\n",
    "    lengthrabi.go(analyze=False, display=False, progress=True, save=False)\n",
    "except Exception:\n",
    "    print(\"Pyro traceback:\")\n",
    "    print(\"\".join(Pyro4.util.getPyroTraceback()))"
   ]
  },
  {
   "cell_type": "code",
   "execution_count": 29,
   "metadata": {},
   "outputs": [
    {
     "name": "stdout",
     "output_type": "stream",
     "text": [
      "best 1 0.2230375028289761\n",
      "Pi length from avgi data [us]: 0.05190566156903359\n",
      "\tPi/2 length from avgi data [us]: 0.025952830784516795\n",
      "\n",
      "Pi length from avgq data [us]: 0.04876758588147374\n",
      "Pi/2 length from avgq data [us]: 0.02438379294073687\n"
     ]
    }
   ],
   "source": [
    "# # TESTING\n",
    "# # lengthrabi = meas.AmplitudeRabiExperiment(config_file=config_path,)\n",
    "# temp_data, attrs = prev_data(expt_path, '00000_amp_rabi_qubit0.h5')\n",
    "# lengthrabi.data = temp_data\n",
    "\n",
    "lengthrabi.analyze(fit=True)\n",
    "\n",
    "lengthrabi_fit, lengthrabi_fit_err = meas.fitting.get_best_fit(lengthrabi.data) #, fitfunc=fitter.decaysin)\n",
    "\n",
    "lengthrabi.display(fit=True)\n",
    "# p = lengthrabi_fit\n",
    "# if p[2] > 180: p[2] = p[2] - 360\n",
    "# elif p[2] < -180: p[2] = p[2] + 360\n",
    "# if p[2] < 0: pi_len = (1/2 - p[2]/180)/2/p[1]\n",
    "# else: pi_len = (3/2 - p[2]/180)/2/p[1]\n",
    "# pi_len = np.max((0.9*pi_len, 0.015)) # since we run the length rabi at a < max gain\n",
    "\n",
    "# lengthrabi_decay = p[3]\n",
    "\n",
    "# print(f'Will use sigma {pi_len} for amplitude rabi')"
   ]
  },
  {
   "cell_type": "code",
   "execution_count": null,
   "metadata": {},
   "outputs": [],
   "source": [
    "# if save_data: saved_files.append(lengthrabi.save_data())"
   ]
  },
  {
   "cell_type": "markdown",
   "metadata": {},
   "source": [
    "## Amplitude Rabi"
   ]
  },
  {
   "cell_type": "code",
   "execution_count": 96,
   "metadata": {},
   "outputs": [
    {
     "name": "stdout",
     "output_type": "stream",
     "text": [
      "qubit 3 pi_len 0.025\n"
     ]
    }
   ],
   "source": [
    "pi_len = np.reshape(yaml_cfg.device.qubit.pulses.pi_ge.sigma, (4,4))[qubit_i, qubit_i]\n",
    "# pi_len = 0.008\n",
    "print('qubit', qubit_i, 'pi_len', pi_len)"
   ]
  },
  {
   "cell_type": "code",
   "execution_count": 100,
   "metadata": {},
   "outputs": [
    {
     "name": "stdout",
     "output_type": "stream",
     "text": [
      "Running amp rabi on Q3 \n"
     ]
    },
    {
     "data": {
      "application/vnd.jupyter.widget-view+json": {
       "model_id": "a3b0d508e1214ed7ac57d9f704a3855b",
       "version_major": 2,
       "version_minor": 0
      },
      "text/plain": [
       "  0%|          | 0/50000 [00:00<?, ?it/s]"
      ]
     },
     "metadata": {},
     "output_type": "display_data"
    },
    {
     "name": "stdout",
     "output_type": "stream",
     "text": [
      "(4, 50, 1000)\n"
     ]
    }
   ],
   "source": [
    "amprabi = meas.AmplitudeRabiExperiment(\n",
    "    soccfg=soc,\n",
    "    path=expt_path,\n",
    "    prefix=f\"amp_rabi_qubit{qubit_i}\",\n",
    "    config_file=config_path,\n",
    ")\n",
    "amprabi.cfg = AttrDict(deepcopy(yaml_cfg))\n",
    "\n",
    "span = min((32000, int(1.5*np.reshape(yaml_cfg.device.qubit.pulses.pi_ge.gain, (4,4))[qubit_i, qubit_i])))\n",
    "npts = 50\n",
    "\n",
    "amprabi.cfg.expt = dict(\n",
    "    start=0, # qubit gain [dac level]\n",
    "    step=int(span/npts), # [dac level]\n",
    "    expts=npts,\n",
    "    reps=reps*rounds,\n",
    "    rounds=1,\n",
    "    sigma_test=pi_len, # gaussian sigma for pulse length - overrides config [us]\n",
    "    # sigma_test=0.2,\n",
    "    checkEF=False, \n",
    "    qTest=qubit_i,\n",
    "    qZZ=None,\n",
    "    # pulse_type='gauss', \n",
    "    pulse_type='robust',\n",
    "\n",
    "    full_mux_expt=full_mux_expt,\n",
    "    resonator_reset=resonator_reset,\n",
    "    use_robust_pulses=use_robust_pulses,\n",
    ")\n",
    "amprabi.go(analyze=False, display=False, progress=True, save=False)"
   ]
  },
  {
   "cell_type": "code",
   "execution_count": 101,
   "metadata": {},
   "outputs": [
    {
     "name": "stdout",
     "output_type": "stream",
     "text": [
      "best 1 0.03829799089225851\n",
      "Pi gain from amps data [dac units]: 14364\n",
      "\tPi/2 gain from amps data [dac units]: 7182\n",
      "Pi gain from avgi data [dac units]: 14360\n",
      "\tPi/2 gain from avgi data [dac units]: 7180\n",
      "Pi gain from avgq data [dac units]: 14412\n",
      "\tPi/2 gain from avgq data [dac units]: 7206\n",
      "*Set pi pulse sigma for qubit 3 to 0.025*\n",
      "*Set pi pulse gain for qubit 3 to 14360*\n",
      "*New pi_ge.gain\n",
      " [[ 1849  1914     0  1855]\n",
      " [ 2834  2504  2648  2631]\n",
      " [ 9155  9155  9155  9155]\n",
      " [ 2000  2000  2000 14360]]\n",
      "*New pi_ge.gain flattened\n",
      "[1849, 1914, 0, 1855, 2834, 2504, 2648, 2631, 9155, 9155, 9155, 9155, 2000, 2000, 2000, 14360]\n",
      "{'Pi pulse gain': 14360, 'Qubit freq': 4381.135527846996, 'Res freq': 6971.153333333334, 'Res freq (yaml)': -228.84666666666666, 'Res kappa': 0.20149515995222483}\n"
     ]
    }
   ],
   "source": [
    "# # TESTING\n",
    "# # amprabi = meas.AmplitudeRabiExperiment(config_file=config_path,)\n",
    "# temp_data, attrs = prev_data(expt_path, '00000_amp_rabi_qubit0.h5')\n",
    "# amprabi.data = temp_data\n",
    "\n",
    "# amprabi.display(fit=False)\n",
    "\n",
    "amprabi.analyze(fit=True)\n",
    "\n",
    "amprabi_fit, amprabi_fit_err = meas.fitting.get_best_fit(amprabi.data)\n",
    "\n",
    "p = amprabi_fit\n",
    "if p[2] > 180: p[2] = p[2] - 360\n",
    "elif p[2] < -180: p[2] = p[2] + 360\n",
    "if p[2] < 0: pi_gain = (1/2 - p[2]/180)/2/p[1]\n",
    "else: pi_gain = (3/2 - p[2]/180)/2/p[1]\n",
    "\n",
    "if pi_gain > 32000:\n",
    "    amprabi.display(fit=False)\n",
    "    print(f'WARNING: Fit pi pulse gain is long ({pi_gain}), please double check!')\n",
    "    pi_gain = 30000\n",
    "else: amprabi.display(fit=True)\n",
    "yaml_cfg.device.qubit.pulses.pi_ge.sigma[qubit_i] = amprabi.cfg.expt.sigma_test\n",
    "\n",
    "print(f'*Set pi pulse sigma for qubit {qubit_i} to {np.reshape(yaml_cfg.device.qubit.pulses.pi_ge.sigma, (4,4))[qubit_i, qubit_i]}*')\n",
    "yaml_cfg.device.qubit.pulses.pi_ge.gain = np.reshape(yaml_cfg.device.qubit.pulses.pi_ge.gain, (4,4))\n",
    "yaml_cfg.device.qubit.pulses.pi_ge.gain[qubit_i, qubit_i] = int(pi_gain)\n",
    "print(f'*Set pi pulse gain for qubit {qubit_i} to {yaml_cfg.device.qubit.pulses.pi_ge.gain[qubit_i, qubit_i]}*')\n",
    "results_Qi.update({'Pi pulse gain':yaml_cfg.device.qubit.pulses.pi_ge.gain[qubit_i, qubit_i]})\n",
    "print(f'*New pi_ge.gain\\n', yaml_cfg.device.qubit.pulses.pi_ge.gain)\n",
    "yaml_cfg.device.qubit.pulses.pi_ge.gain = yaml_cfg.device.qubit.pulses.pi_ge.gain.flatten().astype(int).tolist()\n",
    "print(f'*New pi_ge.gain flattened\\n{yaml_cfg.device.qubit.pulses.pi_ge.gain}')\n",
    "print(results_Qi)"
   ]
  },
  {
   "cell_type": "code",
   "execution_count": 26,
   "metadata": {},
   "outputs": [],
   "source": [
    "if save_data: saved_files.append(amprabi.save_data())"
   ]
  },
  {
   "cell_type": "markdown",
   "metadata": {},
   "source": [
    "## $T_1$"
   ]
  },
  {
   "cell_type": "code",
   "execution_count": 193,
   "metadata": {},
   "outputs": [],
   "source": [
    "short_T1 = False\n",
    "# short_T1 = True"
   ]
  },
  {
   "cell_type": "code",
   "execution_count": 195,
   "metadata": {},
   "outputs": [
    {
     "data": {
      "application/vnd.jupyter.widget-view+json": {
       "model_id": "1f55a1c2a5d04a93bbc17f2d4b6fa0d3",
       "version_major": 2,
       "version_minor": 0
      },
      "text/plain": [
       "  0%|          | 0/10 [00:00<?, ?it/s]"
      ]
     },
     "metadata": {},
     "output_type": "display_data"
    },
    {
     "name": "stdout",
     "output_type": "stream",
     "text": [
      "WARNING: not sure if single shot checking makes sense when there are multiple rounds of averaging... use at your own risk\n"
     ]
    }
   ],
   "source": [
    "t1 = meas.T1Experiment(\n",
    "    soccfg=soc,\n",
    "    path=expt_path,\n",
    "    prefix=f\"t1_qubit{qubit_i}\",\n",
    "    config_file=config_path,\n",
    ")\n",
    "t1.cfg = AttrDict(deepcopy(yaml_cfg))\n",
    "\n",
    "span = 50 if short_T1 else 400\n",
    "npts = 151\n",
    "\n",
    "t1.cfg.expt = dict(\n",
    "    start=0, # wait time [us]\n",
    "    step=span/npts,\n",
    "    expts=npts,\n",
    "    reps=reps,\n",
    "    # reps=5,\n",
    "    rounds=rounds,\n",
    "    qTest=qubit_i,\n",
    "    qZZ=None,\n",
    "\n",
    "    full_mux_expt=full_mux_expt,\n",
    "    resonator_reset=resonator_reset,\n",
    "    use_robust_pulses=use_robust_pulses,\n",
    ")\n",
    "t1.cfg.device.readout.relax_delay = span # Wait time between experiments [us]\n",
    "t1.go(analyze=False, display=False, progress=True, save=False)"
   ]
  },
  {
   "cell_type": "code",
   "execution_count": 196,
   "metadata": {},
   "outputs": [
    {
     "name": "stdout",
     "output_type": "stream",
     "text": [
      "best 1 78107.60401250764\n",
      "Fit T1 amps [us]: 49.4285115667099\n",
      "Fit T1 avgi [us]: 55.69833035027093\n",
      "Fit T1 avgq [us]: 54.73630001681735\n",
      "*Set readout 3 relax delay to 223.0*\n",
      "qubit 3 {'Qubit EF freq': 4203.908838259012, 'T2R EF': 0.2078683035714286, 'T2R EF err': 0.0639209751136206, 'Pi/2 EF pulse gain': 3650, 'T1': 55.69833035027093, 'T1 err': 2.013371053265863}\n"
     ]
    },
    {
     "name": "stderr",
     "output_type": "stream",
     "text": [
      "RuntimeWarning: overflow encountered in exp\n",
      " s:\\Connie\\experiments\\qram_tprocv1_expts\\experiments\\fitting.py: 94RuntimeWarning: More than 20 figures have been opened. Figures created through the pyplot interface (`matplotlib.pyplot.figure`) are retained until explicitly closed and may consume too much memory. (To control this warning, see the rcParam `figure.max_open_warning`). Consider using `matplotlib.pyplot.close()`.\n",
      " s:\\Connie\\experiments\\qram_tprocv1_expts\\experiments\\single_qubit\\t1.py: 184"
     ]
    }
   ],
   "source": [
    "# # TESTING\n",
    "# # t1 = meas.T1Experiment(config_file=config_path,)\n",
    "# temp_data, attrs = prev_data(expt_path, '00000_t1_qubit1.h5')\n",
    "# t1.data = temp_data\n",
    "\n",
    "t1.analyze(fit_log=False)\n",
    "\n",
    "t1_fit, t1_fit_err = meas.fitting.get_best_fit(t1.data) #, fitter.expfunc)\n",
    "\n",
    "t1.display(fit=True, fit_log=False)\n",
    "t1_qubit = t1_fit[3]\n",
    "yaml_cfg.device.readout.relax_delay[qubit_i] = np.round(4*t1_qubit)\n",
    "print(f'*Set readout {qubit_i} relax delay to {yaml_cfg.device.readout.relax_delay[qubit_i]}*')\n",
    "results_Qi.update({'T1':t1_qubit, 'T1 err':np.sqrt(t1_fit_err[3][3])})\n",
    "print(f'qubit {qubit_i}', results_Qi)"
   ]
  },
  {
   "cell_type": "code",
   "execution_count": 30,
   "metadata": {},
   "outputs": [],
   "source": [
    "if save_data: saved_files.append(t1.save_data())"
   ]
  },
  {
   "cell_type": "markdown",
   "metadata": {},
   "source": [
    "## $T_2$ Ramsey round 1"
   ]
  },
  {
   "cell_type": "code",
   "execution_count": 139,
   "metadata": {},
   "outputs": [
    {
     "name": "stdout",
     "output_type": "stream",
     "text": [
      "Short T1 False\n"
     ]
    }
   ],
   "source": [
    "# yaml_cfg.device.qubit.f_ge[qubit_i] = 145.572034953271\n",
    "qubit_hwhm = 2\n",
    "short_T1 = False\n",
    "# short_T1 = t1_qubit < 20\n",
    "print('Short T1', short_T1)"
   ]
  },
  {
   "cell_type": "code",
   "execution_count": null,
   "metadata": {},
   "outputs": [
    {
     "name": "stdout",
     "output_type": "stream",
     "text": [
      "Ramsey freq [MHz]: 3.0\n"
     ]
    }
   ],
   "source": [
    "# ramsey_freq = max((min((np.abs(np.ceil(qubit_hwhm)), 3)), 2))\n",
    "ramsey_freq = 3.0\n",
    "print(f'Ramsey freq [MHz]: {ramsey_freq}')"
   ]
  },
  {
   "cell_type": "code",
   "execution_count": 19,
   "metadata": {},
   "outputs": [
    {
     "name": "stdout",
     "output_type": "stream",
     "text": [
      "mux_gains [0.5, 0, 0.4, 0.3]\n",
      "Running Ramsey on Q3 \n"
     ]
    },
    {
     "data": {
      "application/vnd.jupyter.widget-view+json": {
       "model_id": "e4c16408038a4ac7bf9fef877d0c857c",
       "version_major": 2,
       "version_minor": 0
      },
      "text/plain": [
       "  0%|          | 0/10 [00:00<?, ?it/s]"
      ]
     },
     "metadata": {},
     "output_type": "display_data"
    },
    {
     "name": "stdout",
     "output_type": "stream",
     "text": [
      "WARNING: not sure if single shot checking makes sense when there are multiple rounds of averaging... use at your own risk\n"
     ]
    }
   ],
   "source": [
    "t2r = meas.RamseyExperiment(\n",
    "    soccfg=soc,\n",
    "    path=expt_path,\n",
    "    prefix=f\"ramsey_qubit{qubit_i}\",\n",
    "    config_file=config_path,\n",
    ")\n",
    "t2r.cfg = AttrDict(deepcopy(yaml_cfg))\n",
    "\n",
    "# make sure nyquist freq = 0.5 * (1/step) > ramsey (signal) freq!\n",
    "t2r.cfg.expt = dict(\n",
    "    start=0, # wait time tau [us]\n",
    "    step=soc.cycles2us(8), # [us] \n",
    "    # step=soc.cycles2us(2) if short_T1 else soc.cycles2us(10), # [us] \n",
    "    expts=200,\n",
    "    ramsey_freq=ramsey_freq, # [MHz]\n",
    "    reps=reps,\n",
    "    rounds=rounds,\n",
    "    qTest=qubit_i,\n",
    "    checkEF=False,\n",
    "    qZZ=None,\n",
    ")\n",
    "\n",
    "try:\n",
    "    t2r.go(analyze=False, display=False, progress=True, save=False)\n",
    "except Exception:\n",
    "    print(\"Pyro traceback:\")\n",
    "    print(\"\".join(Pyro4.util.getPyroTraceback()))"
   ]
  },
  {
   "cell_type": "code",
   "execution_count": 20,
   "metadata": {},
   "outputs": [
    {
     "name": "stdout",
     "output_type": "stream",
     "text": [
      "best 0 0.07678762677808101\n",
      "Current pi pulse frequency: 4381.200598328156\n",
      "Fit frequency from amps [MHz]: 2.9195455320802473 +/- 0.007359468434210232\n",
      "Suggested new pi pulse frequencies from fit amps [MHz]:\n",
      " \t4381.2810527960755\n",
      " \t4375.2810527960755\n",
      "T2 Ramsey from fit amps [us]: 5.217930655758489 +/- 1.2362424540001307\n",
      "Current pi pulse frequency: 4381.200598328156\n",
      "Fit frequency from I [MHz]: 2.9062430346083525 +/- 0.001389192115092896\n",
      "Suggested new pi pulse frequency from fit I [MHz]:\n",
      " \t4381.294355293548\n",
      " \t4375.294355293548\n",
      "T2 Ramsey from fit I [us]: 53.95653762310775 +/- 24.953736398771674\n",
      "Fit frequency from Q [MHz]: 2.9071384499619395 +/- 0.001683897690362356\n",
      "Suggested new pi pulse frequencies from fit Q [MHz]:\n",
      " \t4381.293459878194\n",
      " \t4375.293459878194\n",
      "T2 Ramsey from fit Q [us]: 40.616560721372196 +/- 17.145175664355193\n",
      "*Set qubit 3 freq to 4381.2810527960755*\n",
      "Alt qubit freq is 4375.2810527960755\n",
      "*New f_ge\n",
      " [[4111.14452003 4105.78395881 4111.00289644 4110.59669631]\n",
      " [3442.97955523 3448.3482722  3447.23349034 3447.02857179]\n",
      " [4762.76700931 4761.7936552  4762.90042147 4762.36782214]\n",
      " [4380.66233741 4379.89092041 4380.66681865 4381.2810528 ]]\n",
      "*New f_ge flattened\n",
      "[4111.144520031796, 4105.783958808882, 4111.0028964412795, 4110.5966963096635, 3442.9795552267146, 3448.3482722012286, 3447.233490336077, 3447.0285717924894, 4762.767009306428, 4761.793655204115, 4762.900421466317, 4762.367822139689, 4380.662337410765, 4379.890920412824, 4380.6668186549305, 4381.2810527960755]\n"
     ]
    }
   ],
   "source": [
    "# # TESTING\n",
    "# # t2r = meas.RamseyExperiment(config_file=config_path)\n",
    "# temp_data, attrs = prev_data(expt_path, '00000_ramsey_qubit2.h5')\n",
    "# t2r.data = temp_data\n",
    "\n",
    "# t2r.analyze(fit=True, fit_num_sin=2)\n",
    "# t2r.display(fit=True, fit_num_sin=2)\n",
    "\n",
    "t2r.analyze(fit=True)\n",
    "t2r_fit, t2r_fit_err, t2r_adjust = meas.fitting.get_best_fit(t2r.data, get_best_data_params=['f_adjust_ramsey'])\n",
    "\n",
    "old_qubit_freq = np.reshape(t2r.cfg.device.qubit.f_ge, (4,4))[qubit_i, qubit_i]\n",
    "t2r.display(fit=True)\n",
    "yaml_cfg.device.qubit.f_ge = np.reshape(yaml_cfg.device.qubit.f_ge, (4,4))\n",
    "yaml_cfg.device.qubit.f_ge[qubit_i, qubit_i] = old_qubit_freq + t2r_adjust[0]\n",
    "alt_qubit_freq = old_qubit_freq + t2r_adjust[1]\n",
    "results_Qi.update({'T2R':t2r_fit[3], 'T2R err':np.sqrt(t2r_fit_err[3][3])})\n",
    "results_Qi.update({'Qubit freq':yaml_cfg.device.qubit.f_ge[qubit_i, qubit_i] + yaml_cfg.hw.soc.dacs.qubit.mixer_freq[qubit_i]})\n",
    "print(f'*Set qubit {qubit_i} freq to {yaml_cfg.device.qubit.f_ge[qubit_i, qubit_i]}*')\n",
    "print(f'Alt qubit freq is {alt_qubit_freq}')\n",
    "\n",
    "print(f'*New f_ge\\n', yaml_cfg.device.qubit.f_ge)\n",
    "yaml_cfg.device.qubit.f_ge = yaml_cfg.device.qubit.f_ge.flatten().tolist()\n",
    "print(f'*New f_ge flattened\\n{yaml_cfg.device.qubit.f_ge}')\n",
    "\n",
    "data = t2r.data\n",
    "fit_axis = 'avgq'\n",
    "xpts = data['xpts']\n",
    "fourier = np.fft.fftshift(np.abs(np.fft.fft(data[fit_axis])))\n",
    "freqs = np.fft.fftshift(np.fft.fftfreq(len(fourier), d=(xpts[1]-xpts[0])))\n",
    "plt.plot(freqs, fourier)\n",
    "ZZs = np.zeros((4,4))\n",
    "reshaped_f_ge = np.reshape(t2r.cfg.device.qubit.f_ge, (4,4))\n",
    "for row in range(4):\n",
    "    ZZs[row,:] = reshaped_f_ge[row,:] - reshaped_f_ge[row,row]\n",
    "for i in range(4):\n",
    "    if (qubit_i+i)%4 == qubit_i: color = 'r'\n",
    "    else: color = 'k'\n",
    "    plt.axvline(t2r.cfg.expt.ramsey_freq - ZZs[qubit_i, (qubit_i+i)%4], color=color, linewidth=0.5, linestyle='--')\n",
    "plt.xlabel('Frequency [MHz]')\n",
    "plt.xlim(-6, 6)\n",
    "# plt.ylim(0, 20000)\n",
    "plt.title(f'Fourier Transform of Ramsey on Q{qubit_i} (Ramsey Freq: {t2r.cfg.expt.ramsey_freq})')\n",
    "plt.show()"
   ]
  },
  {
   "cell_type": "code",
   "execution_count": 40,
   "metadata": {},
   "outputs": [],
   "source": [
    "if save_data: saved_files.append(t2r.save_data())"
   ]
  },
  {
   "cell_type": "markdown",
   "metadata": {},
   "source": [
    "## Amplitude Rabi round 2"
   ]
  },
  {
   "cell_type": "code",
   "execution_count": 24,
   "metadata": {},
   "outputs": [
    {
     "name": "stdout",
     "output_type": "stream",
     "text": [
      "qubit 0 pi_len 0.02\n"
     ]
    }
   ],
   "source": [
    "pi_len = np.reshape(yaml_cfg.device.qubit.pulses.pi_ge.sigma, (4,4))[qubit_i, qubit_i]\n",
    "print('qubit', qubit_i, 'pi_len', pi_len)\n",
    "# pi_len = 0.025"
   ]
  },
  {
   "cell_type": "code",
   "execution_count": 25,
   "metadata": {},
   "outputs": [
    {
     "name": "stdout",
     "output_type": "stream",
     "text": [
      "Running amp rabi on Q0 \n"
     ]
    },
    {
     "data": {
      "application/vnd.jupyter.widget-view+json": {
       "model_id": "378cf5af68d643099e5dcd3419c7b88f",
       "version_major": 2,
       "version_minor": 0
      },
      "text/plain": [
       "  0%|          | 0/10 [00:00<?, ?it/s]"
      ]
     },
     "metadata": {},
     "output_type": "display_data"
    },
    {
     "ename": "KeyboardInterrupt",
     "evalue": "",
     "output_type": "error",
     "traceback": [
      "\u001b[1;31m---------------------------------------------------------------------------\u001b[0m",
      "\u001b[1;31mKeyboardInterrupt\u001b[0m                         Traceback (most recent call last)",
      "Cell \u001b[1;32mIn[25], line 27\u001b[0m\n\u001b[0;32m     11\u001b[0m npts \u001b[38;5;241m=\u001b[39m \u001b[38;5;241m151\u001b[39m\n\u001b[0;32m     13\u001b[0m amprabi_2\u001b[38;5;241m.\u001b[39mcfg\u001b[38;5;241m.\u001b[39mexpt \u001b[38;5;241m=\u001b[39m \u001b[38;5;28mdict\u001b[39m(\n\u001b[0;32m     14\u001b[0m     start\u001b[38;5;241m=\u001b[39m\u001b[38;5;241m0\u001b[39m, \u001b[38;5;66;03m# qubit gain [dac level]\u001b[39;00m\n\u001b[0;32m     15\u001b[0m     step\u001b[38;5;241m=\u001b[39m\u001b[38;5;28mint\u001b[39m(span\u001b[38;5;241m/\u001b[39mnpts), \u001b[38;5;66;03m# [dac level]\u001b[39;00m\n\u001b[1;32m   (...)\u001b[0m\n\u001b[0;32m     25\u001b[0m     qZZ\u001b[38;5;241m=\u001b[39m\u001b[38;5;28;01mNone\u001b[39;00m,\n\u001b[0;32m     26\u001b[0m )\n\u001b[1;32m---> 27\u001b[0m \u001b[43mamprabi_2\u001b[49m\u001b[38;5;241;43m.\u001b[39;49m\u001b[43mgo\u001b[49m\u001b[43m(\u001b[49m\u001b[43manalyze\u001b[49m\u001b[38;5;241;43m=\u001b[39;49m\u001b[38;5;28;43;01mFalse\u001b[39;49;00m\u001b[43m,\u001b[49m\u001b[43m \u001b[49m\u001b[43mdisplay\u001b[49m\u001b[38;5;241;43m=\u001b[39;49m\u001b[38;5;28;43;01mFalse\u001b[39;49;00m\u001b[43m,\u001b[49m\u001b[43m \u001b[49m\u001b[43mprogress\u001b[49m\u001b[38;5;241;43m=\u001b[39;49m\u001b[38;5;28;43;01mTrue\u001b[39;49;00m\u001b[43m,\u001b[49m\u001b[43m \u001b[49m\u001b[43msave\u001b[49m\u001b[38;5;241;43m=\u001b[39;49m\u001b[38;5;28;43;01mFalse\u001b[39;49;00m\u001b[43m)\u001b[49m\n",
      "File \u001b[1;32m~\\slab\\experiment.py:115\u001b[0m, in \u001b[0;36mExperiment.go\u001b[1;34m(self, save, analyze, display, progress)\u001b[0m\n\u001b[0;32m    112\u001b[0m \u001b[38;5;28;01mdef\u001b[39;00m \u001b[38;5;21mgo\u001b[39m(\u001b[38;5;28mself\u001b[39m, save\u001b[38;5;241m=\u001b[39m\u001b[38;5;28;01mFalse\u001b[39;00m, analyze\u001b[38;5;241m=\u001b[39m\u001b[38;5;28;01mFalse\u001b[39;00m, display\u001b[38;5;241m=\u001b[39m\u001b[38;5;28;01mFalse\u001b[39;00m, progress\u001b[38;5;241m=\u001b[39m\u001b[38;5;28;01mFalse\u001b[39;00m):\n\u001b[0;32m    113\u001b[0m     \u001b[38;5;66;03m# get data\u001b[39;00m\n\u001b[1;32m--> 115\u001b[0m     data\u001b[38;5;241m=\u001b[39m\u001b[38;5;28;43mself\u001b[39;49m\u001b[38;5;241;43m.\u001b[39;49m\u001b[43macquire\u001b[49m\u001b[43m(\u001b[49m\u001b[43mprogress\u001b[49m\u001b[43m)\u001b[49m\n\u001b[0;32m    116\u001b[0m     \u001b[38;5;28;01mif\u001b[39;00m analyze:\n\u001b[0;32m    117\u001b[0m         data\u001b[38;5;241m=\u001b[39m\u001b[38;5;28mself\u001b[39m\u001b[38;5;241m.\u001b[39manalyze(data)\n",
      "File \u001b[1;32ms:\\Connie\\experiments\\qram_tprocv1_expts\\experiments\\single_qubit\\amplitude_rabi.py:294\u001b[0m, in \u001b[0;36mAmplitudeRabiExperiment.acquire\u001b[1;34m(self, progress)\u001b[0m\n\u001b[0;32m    289\u001b[0m amprabi \u001b[38;5;241m=\u001b[39m AmplitudeRabiProgram(soccfg\u001b[38;5;241m=\u001b[39m\u001b[38;5;28mself\u001b[39m\u001b[38;5;241m.\u001b[39msoccfg, cfg\u001b[38;5;241m=\u001b[39m\u001b[38;5;28mself\u001b[39m\u001b[38;5;241m.\u001b[39mcfg)\n\u001b[0;32m    290\u001b[0m \u001b[38;5;66;03m# print(amprabi)\u001b[39;00m\n\u001b[0;32m    291\u001b[0m \u001b[38;5;66;03m# from qick.helpers import progs2json\u001b[39;00m\n\u001b[0;32m    292\u001b[0m \u001b[38;5;66;03m# print(progs2json([amprabi.dump_prog()]))\u001b[39;00m\n\u001b[1;32m--> 294\u001b[0m xpts, idata, qdata \u001b[38;5;241m=\u001b[39m \u001b[43mamprabi\u001b[49m\u001b[38;5;241;43m.\u001b[39;49m\u001b[43macquire\u001b[49m\u001b[43m(\u001b[49m\n\u001b[0;32m    295\u001b[0m \u001b[43m    \u001b[49m\u001b[38;5;28;43mself\u001b[39;49m\u001b[38;5;241;43m.\u001b[39;49m\u001b[43mim\u001b[49m\u001b[43m[\u001b[49m\u001b[38;5;28;43mself\u001b[39;49m\u001b[38;5;241;43m.\u001b[39;49m\u001b[43mcfg\u001b[49m\u001b[38;5;241;43m.\u001b[39;49m\u001b[43maliases\u001b[49m\u001b[38;5;241;43m.\u001b[39;49m\u001b[43msoc\u001b[49m\u001b[43m]\u001b[49m\u001b[43m,\u001b[49m\u001b[43m \u001b[49m\u001b[43mload_pulses\u001b[49m\u001b[38;5;241;43m=\u001b[39;49m\u001b[38;5;28;43;01mTrue\u001b[39;49;00m\u001b[43m,\u001b[49m\u001b[43m \u001b[49m\u001b[43mprogress\u001b[49m\u001b[38;5;241;43m=\u001b[39;49m\u001b[43mprogress\u001b[49m\n\u001b[0;32m    296\u001b[0m \u001b[43m\u001b[49m\u001b[43m)\u001b[49m  \u001b[38;5;66;03m# , get_shots=readout_cool\u001b[39;00m\n\u001b[0;32m    297\u001b[0m \u001b[38;5;66;03m# )\u001b[39;00m\n\u001b[0;32m    298\u001b[0m \u001b[38;5;66;03m# print(amprabi)\u001b[39;00m\n\u001b[0;32m    299\u001b[0m _, ishots, qshots \u001b[38;5;241m=\u001b[39m amprabi\u001b[38;5;241m.\u001b[39mget_shots()\n",
      "File \u001b[1;32ms:\\Connie\\experiments\\qram_tprocv1_expts\\experiments\\clifford_averager_program.py:2482\u001b[0m, in \u001b[0;36mQutritRAveragerProgram.acquire\u001b[1;34m(self, soc, load_pulses, progress, save_experiments)\u001b[0m\n\u001b[0;32m   2479\u001b[0m \u001b[38;5;66;03m# this is also just copy pasted from RAveragerProgram but the multiple inheritance wasn't working\u001b[39;00m\n\u001b[0;32m   2480\u001b[0m \u001b[38;5;28mself\u001b[39m\u001b[38;5;241m.\u001b[39mset_reads_per_shot(readouts_per_experiment)\n\u001b[1;32m-> 2482\u001b[0m avg_d \u001b[38;5;241m=\u001b[39m \u001b[43mAcquireProgram\u001b[49m\u001b[38;5;241;43m.\u001b[39;49m\u001b[43macquire\u001b[49m\u001b[43m(\u001b[49m\n\u001b[0;32m   2483\u001b[0m \u001b[43m    \u001b[49m\u001b[38;5;28;43mself\u001b[39;49m\u001b[43m,\u001b[49m\n\u001b[0;32m   2484\u001b[0m \u001b[43m    \u001b[49m\u001b[43msoc\u001b[49m\u001b[43m,\u001b[49m\n\u001b[0;32m   2485\u001b[0m \u001b[43m    \u001b[49m\u001b[43msoft_avgs\u001b[49m\u001b[38;5;241;43m=\u001b[39;49m\u001b[38;5;28;43mself\u001b[39;49m\u001b[38;5;241;43m.\u001b[39;49m\u001b[43msoft_avgs\u001b[49m\u001b[43m,\u001b[49m\n\u001b[0;32m   2486\u001b[0m \u001b[43m    \u001b[49m\u001b[43mload_pulses\u001b[49m\u001b[38;5;241;43m=\u001b[39;49m\u001b[43mload_pulses\u001b[49m\u001b[43m,\u001b[49m\n\u001b[0;32m   2487\u001b[0m \u001b[43m    \u001b[49m\u001b[43mstart_src\u001b[49m\u001b[38;5;241;43m=\u001b[39;49m\u001b[38;5;124;43m\"\u001b[39;49m\u001b[38;5;124;43minternal\u001b[39;49m\u001b[38;5;124;43m\"\u001b[39;49m\u001b[43m,\u001b[49m\n\u001b[0;32m   2488\u001b[0m \u001b[43m    \u001b[49m\u001b[43mthreshold\u001b[49m\u001b[38;5;241;43m=\u001b[39;49m\u001b[38;5;28;43;01mNone\u001b[39;49;00m\u001b[43m,\u001b[49m\n\u001b[0;32m   2489\u001b[0m \u001b[43m    \u001b[49m\u001b[43mangle\u001b[49m\u001b[38;5;241;43m=\u001b[39;49m\u001b[38;5;28;43;01mNone\u001b[39;49;00m\u001b[43m,\u001b[49m\n\u001b[0;32m   2490\u001b[0m \u001b[43m    \u001b[49m\u001b[43mprogress\u001b[49m\u001b[38;5;241;43m=\u001b[39;49m\u001b[43mprogress\u001b[49m\u001b[43m,\u001b[49m\n\u001b[0;32m   2491\u001b[0m \u001b[43m    \u001b[49m\u001b[43mremove_offset\u001b[49m\u001b[38;5;241;43m=\u001b[39;49m\u001b[38;5;28;43;01mTrue\u001b[39;49;00m\u001b[43m,\u001b[49m\n\u001b[0;32m   2492\u001b[0m \u001b[43m\u001b[49m\u001b[43m)\u001b[49m\n\u001b[0;32m   2494\u001b[0m \u001b[38;5;66;03m# reformat the data into separate I and Q arrays\u001b[39;00m\n\u001b[0;32m   2495\u001b[0m \u001b[38;5;66;03m# save results to class in case you want to look at it later or for analysis\u001b[39;00m\n\u001b[0;32m   2496\u001b[0m raw \u001b[38;5;241m=\u001b[39m [d\u001b[38;5;241m.\u001b[39mreshape((\u001b[38;5;241m-\u001b[39m\u001b[38;5;241m1\u001b[39m, \u001b[38;5;241m2\u001b[39m)) \u001b[38;5;28;01mfor\u001b[39;00m d \u001b[38;5;129;01min\u001b[39;00m \u001b[38;5;28mself\u001b[39m\u001b[38;5;241m.\u001b[39mget_raw()]\n",
      "File \u001b[1;32mc:\\users\\slab\\qick\\qick_lib\\qick\\qick_asm.py:1701\u001b[0m, in \u001b[0;36mAcquireMixin.acquire\u001b[1;34m(self, soc, soft_avgs, load_pulses, start_src, threshold, angle, progress, remove_offset)\u001b[0m\n\u001b[0;32m   1698\u001b[0m soc\u001b[38;5;241m.\u001b[39mstart_readout(total_count, counter_addr\u001b[38;5;241m=\u001b[39m\u001b[38;5;28mself\u001b[39m\u001b[38;5;241m.\u001b[39mcounter_addr,\n\u001b[0;32m   1699\u001b[0m                        ch_list\u001b[38;5;241m=\u001b[39m\u001b[38;5;28mlist\u001b[39m(\u001b[38;5;28mself\u001b[39m\u001b[38;5;241m.\u001b[39mro_chs), reads_per_shot\u001b[38;5;241m=\u001b[39m\u001b[38;5;28mself\u001b[39m\u001b[38;5;241m.\u001b[39mreads_per_shot)\n\u001b[0;32m   1700\u001b[0m \u001b[38;5;28;01mwhile\u001b[39;00m count\u001b[38;5;241m<\u001b[39mtotal_count:\n\u001b[1;32m-> 1701\u001b[0m     new_data \u001b[38;5;241m=\u001b[39m obtain(\u001b[43msoc\u001b[49m\u001b[38;5;241;43m.\u001b[39;49m\u001b[43mpoll_data\u001b[49m\u001b[43m(\u001b[49m\u001b[43m)\u001b[49m)\n\u001b[0;32m   1702\u001b[0m     \u001b[38;5;28;01mfor\u001b[39;00m new_points, (d, s) \u001b[38;5;129;01min\u001b[39;00m new_data:\n\u001b[0;32m   1703\u001b[0m         \u001b[38;5;28;01mfor\u001b[39;00m ii, nreads \u001b[38;5;129;01min\u001b[39;00m \u001b[38;5;28menumerate\u001b[39m(\u001b[38;5;28mself\u001b[39m\u001b[38;5;241m.\u001b[39mreads_per_shot):\n\u001b[0;32m   1704\u001b[0m             \u001b[38;5;66;03m#print(count, new_points, nreads, d[ii].shape, total_count)\u001b[39;00m\n",
      "File \u001b[1;32mc:\\Users\\slab\\.conda\\envs\\slab\\lib\\site-packages\\Pyro4\\core.py:185\u001b[0m, in \u001b[0;36m_RemoteMethod.__call__\u001b[1;34m(self, *args, **kwargs)\u001b[0m\n\u001b[0;32m    183\u001b[0m \u001b[38;5;28;01mfor\u001b[39;00m attempt \u001b[38;5;129;01min\u001b[39;00m \u001b[38;5;28mrange\u001b[39m(\u001b[38;5;28mself\u001b[39m\u001b[38;5;241m.\u001b[39m__max_retries \u001b[38;5;241m+\u001b[39m \u001b[38;5;241m1\u001b[39m):\n\u001b[0;32m    184\u001b[0m     \u001b[38;5;28;01mtry\u001b[39;00m:\n\u001b[1;32m--> 185\u001b[0m         \u001b[38;5;28;01mreturn\u001b[39;00m \u001b[38;5;28;43mself\u001b[39;49m\u001b[38;5;241;43m.\u001b[39;49m\u001b[43m__send\u001b[49m\u001b[43m(\u001b[49m\u001b[38;5;28;43mself\u001b[39;49m\u001b[38;5;241;43m.\u001b[39;49m\u001b[43m__name\u001b[49m\u001b[43m,\u001b[49m\u001b[43m \u001b[49m\u001b[43margs\u001b[49m\u001b[43m,\u001b[49m\u001b[43m \u001b[49m\u001b[43mkwargs\u001b[49m\u001b[43m)\u001b[49m\n\u001b[0;32m    186\u001b[0m     \u001b[38;5;28;01mexcept\u001b[39;00m (errors\u001b[38;5;241m.\u001b[39mConnectionClosedError, errors\u001b[38;5;241m.\u001b[39mTimeoutError):\n\u001b[0;32m    187\u001b[0m         \u001b[38;5;66;03m# only retry for recoverable network errors\u001b[39;00m\n\u001b[0;32m    188\u001b[0m         \u001b[38;5;28;01mif\u001b[39;00m attempt \u001b[38;5;241m>\u001b[39m\u001b[38;5;241m=\u001b[39m \u001b[38;5;28mself\u001b[39m\u001b[38;5;241m.\u001b[39m__max_retries:\n\u001b[0;32m    189\u001b[0m             \u001b[38;5;66;03m# last attempt, raise the exception\u001b[39;00m\n",
      "File \u001b[1;32mc:\\Users\\slab\\.conda\\envs\\slab\\lib\\site-packages\\Pyro4\\core.py:453\u001b[0m, in \u001b[0;36mProxy._pyroInvoke\u001b[1;34m(self, methodname, vargs, kwargs, flags, objectId)\u001b[0m\n\u001b[0;32m    451\u001b[0m     \u001b[38;5;28;01mreturn\u001b[39;00m \u001b[38;5;28;01mNone\u001b[39;00m  \u001b[38;5;66;03m# oneway call, no response data\u001b[39;00m\n\u001b[0;32m    452\u001b[0m \u001b[38;5;28;01melse\u001b[39;00m:\n\u001b[1;32m--> 453\u001b[0m     msg \u001b[38;5;241m=\u001b[39m \u001b[43mmessage\u001b[49m\u001b[38;5;241;43m.\u001b[39;49m\u001b[43mMessage\u001b[49m\u001b[38;5;241;43m.\u001b[39;49m\u001b[43mrecv\u001b[49m\u001b[43m(\u001b[49m\u001b[38;5;28;43mself\u001b[39;49m\u001b[38;5;241;43m.\u001b[39;49m\u001b[43m_pyroConnection\u001b[49m\u001b[43m,\u001b[49m\u001b[43m \u001b[49m\u001b[43m[\u001b[49m\u001b[43mmessage\u001b[49m\u001b[38;5;241;43m.\u001b[39;49m\u001b[43mMSG_RESULT\u001b[49m\u001b[43m]\u001b[49m\u001b[43m,\u001b[49m\u001b[43m \u001b[49m\u001b[43mhmac_key\u001b[49m\u001b[38;5;241;43m=\u001b[39;49m\u001b[38;5;28;43mself\u001b[39;49m\u001b[38;5;241;43m.\u001b[39;49m\u001b[43m_pyroHmacKey\u001b[49m\u001b[43m)\u001b[49m\n\u001b[0;32m    454\u001b[0m     \u001b[38;5;28;01mif\u001b[39;00m config\u001b[38;5;241m.\u001b[39mLOGWIRE:\n\u001b[0;32m    455\u001b[0m         _log_wiredata(log, \u001b[38;5;124m\"\u001b[39m\u001b[38;5;124mproxy wiredata received\u001b[39m\u001b[38;5;124m\"\u001b[39m, msg)\n",
      "File \u001b[1;32mc:\\Users\\slab\\.conda\\envs\\slab\\lib\\site-packages\\Pyro4\\message.py:168\u001b[0m, in \u001b[0;36mMessage.recv\u001b[1;34m(cls, connection, requiredMsgTypes, hmac_key)\u001b[0m\n\u001b[0;32m    160\u001b[0m \u001b[38;5;129m@classmethod\u001b[39m\n\u001b[0;32m    161\u001b[0m \u001b[38;5;28;01mdef\u001b[39;00m \u001b[38;5;21mrecv\u001b[39m(\u001b[38;5;28mcls\u001b[39m, connection, requiredMsgTypes\u001b[38;5;241m=\u001b[39m\u001b[38;5;28;01mNone\u001b[39;00m, hmac_key\u001b[38;5;241m=\u001b[39m\u001b[38;5;28;01mNone\u001b[39;00m):\n\u001b[0;32m    162\u001b[0m \u001b[38;5;250m    \u001b[39m\u001b[38;5;124;03m\"\"\"\u001b[39;00m\n\u001b[0;32m    163\u001b[0m \u001b[38;5;124;03m    Receives a pyro message from a given connection.\u001b[39;00m\n\u001b[0;32m    164\u001b[0m \u001b[38;5;124;03m    Accepts the given message types (None=any, or pass a sequence).\u001b[39;00m\n\u001b[0;32m    165\u001b[0m \u001b[38;5;124;03m    Also reads annotation chunks and the actual payload data.\u001b[39;00m\n\u001b[0;32m    166\u001b[0m \u001b[38;5;124;03m    Validates a HMAC chunk if present.\u001b[39;00m\n\u001b[0;32m    167\u001b[0m \u001b[38;5;124;03m    \"\"\"\u001b[39;00m\n\u001b[1;32m--> 168\u001b[0m     msg \u001b[38;5;241m=\u001b[39m \u001b[38;5;28mcls\u001b[39m\u001b[38;5;241m.\u001b[39mfrom_header(\u001b[43mconnection\u001b[49m\u001b[38;5;241;43m.\u001b[39;49m\u001b[43mrecv\u001b[49m\u001b[43m(\u001b[49m\u001b[38;5;28;43mcls\u001b[39;49m\u001b[38;5;241;43m.\u001b[39;49m\u001b[43mheader_size\u001b[49m\u001b[43m)\u001b[49m)\n\u001b[0;32m    169\u001b[0m     msg\u001b[38;5;241m.\u001b[39mhmac_key \u001b[38;5;241m=\u001b[39m hmac_key\n\u001b[0;32m    170\u001b[0m     \u001b[38;5;28;01mif\u001b[39;00m \u001b[38;5;241m0\u001b[39m \u001b[38;5;241m<\u001b[39m config\u001b[38;5;241m.\u001b[39mMAX_MESSAGE_SIZE \u001b[38;5;241m<\u001b[39m (msg\u001b[38;5;241m.\u001b[39mdata_size \u001b[38;5;241m+\u001b[39m msg\u001b[38;5;241m.\u001b[39mannotations_size):\n",
      "File \u001b[1;32mc:\\Users\\slab\\.conda\\envs\\slab\\lib\\site-packages\\Pyro4\\socketutil.py:463\u001b[0m, in \u001b[0;36mSocketConnection.recv\u001b[1;34m(self, size)\u001b[0m\n\u001b[0;32m    462\u001b[0m \u001b[38;5;28;01mdef\u001b[39;00m \u001b[38;5;21mrecv\u001b[39m(\u001b[38;5;28mself\u001b[39m, size):\n\u001b[1;32m--> 463\u001b[0m     \u001b[38;5;28;01mreturn\u001b[39;00m \u001b[43mreceiveData\u001b[49m\u001b[43m(\u001b[49m\u001b[38;5;28;43mself\u001b[39;49m\u001b[38;5;241;43m.\u001b[39;49m\u001b[43msock\u001b[49m\u001b[43m,\u001b[49m\u001b[43m \u001b[49m\u001b[43msize\u001b[49m\u001b[43m)\u001b[49m\n",
      "File \u001b[1;32mc:\\Users\\slab\\.conda\\envs\\slab\\lib\\site-packages\\Pyro4\\socketutil.py:171\u001b[0m, in \u001b[0;36mreceiveData\u001b[1;34m(sock, size)\u001b[0m\n\u001b[0;32m    168\u001b[0m \u001b[38;5;28;01mtry\u001b[39;00m:\n\u001b[0;32m    169\u001b[0m     \u001b[38;5;28;01mwhile\u001b[39;00m msglen \u001b[38;5;241m<\u001b[39m size:\n\u001b[0;32m    170\u001b[0m         \u001b[38;5;66;03m# 60k buffer limit avoids problems on certain OSes like VMS, Windows\u001b[39;00m\n\u001b[1;32m--> 171\u001b[0m         chunk \u001b[38;5;241m=\u001b[39m \u001b[43msock\u001b[49m\u001b[38;5;241;43m.\u001b[39;49m\u001b[43mrecv\u001b[49m\u001b[43m(\u001b[49m\u001b[38;5;28;43mmin\u001b[39;49m\u001b[43m(\u001b[49m\u001b[38;5;241;43m60000\u001b[39;49m\u001b[43m,\u001b[49m\u001b[43m \u001b[49m\u001b[43msize\u001b[49m\u001b[43m \u001b[49m\u001b[38;5;241;43m-\u001b[39;49m\u001b[43m \u001b[49m\u001b[43mmsglen\u001b[49m\u001b[43m)\u001b[49m\u001b[43m)\u001b[49m\n\u001b[0;32m    172\u001b[0m         \u001b[38;5;28;01mif\u001b[39;00m \u001b[38;5;129;01mnot\u001b[39;00m chunk:\n\u001b[0;32m    173\u001b[0m             \u001b[38;5;28;01mbreak\u001b[39;00m\n",
      "\u001b[1;31mKeyboardInterrupt\u001b[0m: "
     ]
    }
   ],
   "source": [
    "amprabi_2 = meas.AmplitudeRabiExperiment(\n",
    "    soccfg=soc,\n",
    "    path=expt_path,\n",
    "    prefix=f\"amp_rabi_qubit{qubit_i}\",\n",
    "    config_file=config_path,\n",
    ")\n",
    "amprabi_2.cfg = AttrDict(deepcopy(yaml_cfg))\n",
    "\n",
    "n_pulses = 1\n",
    "span = min((32000, int(1.5*np.reshape(yaml_cfg.device.qubit.pulses.pi_ge.gain, (4,4))[qubit_i, qubit_i])))\n",
    "npts = 151\n",
    "    \n",
    "amprabi_2.cfg.expt = dict(\n",
    "    start=0, # qubit gain [dac level]\n",
    "    step=int(span/npts), # [dac level]\n",
    "    expts=npts,\n",
    "    reps=reps,\n",
    "    # reps=5,\n",
    "    rounds=rounds,\n",
    "    sigma_test=pi_len, # gaussian sigma for pulse length - overrides config [us]\n",
    "    pulse_type='gauss',\n",
    "    checkEF=False, \n",
    "    n_pulses=n_pulses,\n",
    "    qTest=qubit_i,\n",
    "    qZZ=None,\n",
    ")\n",
    "amprabi_2.go(analyze=False, display=False, progress=True, save=False)"
   ]
  },
  {
   "cell_type": "code",
   "execution_count": null,
   "metadata": {},
   "outputs": [
    {
     "name": "stdout",
     "output_type": "stream",
     "text": [
      "best 0 0.022292039093864034\n",
      "Pi gain from amps data [dac units]: 935\n",
      "\tPi/2 gain from amps data [dac units]: 467\n",
      "Pi gain from avgi data [dac units]: 935\n",
      "\tPi/2 gain from avgi data [dac units]: 467\n",
      "Pi gain from avgq data [dac units]: 936\n",
      "\tPi/2 gain from avgq data [dac units]: 468\n",
      "*Set pi pulse sigma for qubit 3 to 0.025*\n",
      "*Set pi pulse gain for qubit 3 to 935*\n",
      "*New pi_ge.gain\n",
      " [[ 1849  1914     0  1855]\n",
      " [ 2834  2504  2648  2631]\n",
      " [14489 14572 14736 14639]\n",
      " [  963   959   974   935]]\n",
      "*New pi_ge.gain flattened\n",
      "[1849, 1914, 0, 1855, 2834, 2504, 2648, 2631, 14489, 14572, 14736, 14639, 963, 959, 974, 935]\n",
      "{'T1': 52.3580045090926, 'T1 err': 1.6646251872930162, 'T2R': 28.080322737694868, 'T2R err': 10.12437756373936, 'Qubit freq': 4381.110012654556, 'Pi pulse gain': 935}\n"
     ]
    }
   ],
   "source": [
    "# # TESTING\n",
    "# # amprabi_2 = meas.AmplitudeRabiExperiment(config_file=config_path,)\n",
    "# temp_data, attrs = prev_data(expt_path, '00000_amp_rabi_qubit0.h5')\n",
    "# amprabi_2.data = temp_data\n",
    "\n",
    "amprabi_2.analyze(fit=True)\n",
    "\n",
    "amprabi_2_fit, amprabi_2_fit_err = meas.fitting.get_best_fit(amprabi_2.data)\n",
    "\n",
    "p = amprabi_2_fit\n",
    "if p[2] > 180: p[2] = p[2] - 360\n",
    "elif p[2] < -180: p[2] = p[2] + 360\n",
    "if p[2] < 0: pi_gain = (1/2 - p[2]/180)/2/p[1]\n",
    "else: pi_gain = (3/2 - p[2]/180)/2/p[1]\n",
    "\n",
    "if pi_gain > 32000:\n",
    "    amprabi_2.display(fit=False)\n",
    "    print(f'WARNING: Fit pi pulse gain is long ({pi_gain}), please double check!')\n",
    "    pi_gain = 30000\n",
    "else: amprabi_2.display(fit=True)\n",
    "yaml_cfg.device.qubit.pulses.pi_ge.sigma[qubit_i] = amprabi_2.cfg.expt.sigma_test\n",
    "\n",
    "print(f'*Set pi pulse sigma for qubit {qubit_i} to {np.reshape(yaml_cfg.device.qubit.pulses.pi_ge.sigma, (4,4))[qubit_i, qubit_i]}*')\n",
    "yaml_cfg.device.qubit.pulses.pi_ge.gain = np.reshape(yaml_cfg.device.qubit.pulses.pi_ge.gain, (4,4))\n",
    "yaml_cfg.device.qubit.pulses.pi_ge.gain[qubit_i, qubit_i] = int(pi_gain)\n",
    "print(f'*Set pi pulse gain for qubit {qubit_i} to {yaml_cfg.device.qubit.pulses.pi_ge.gain[qubit_i, qubit_i]}*')\n",
    "results_Qi.update({'Pi pulse gain':yaml_cfg.device.qubit.pulses.pi_ge.gain[qubit_i, qubit_i]})\n",
    "print(f'*New pi_ge.gain\\n', yaml_cfg.device.qubit.pulses.pi_ge.gain)\n",
    "yaml_cfg.device.qubit.pulses.pi_ge.gain = yaml_cfg.device.qubit.pulses.pi_ge.gain.flatten().tolist()\n",
    "print(f'*New pi_ge.gain flattened\\n{yaml_cfg.device.qubit.pulses.pi_ge.gain}')\n",
    "print(results_Qi)"
   ]
  },
  {
   "cell_type": "code",
   "execution_count": 38,
   "metadata": {},
   "outputs": [],
   "source": [
    "if save_data: saved_files.append(amprabi_2.save_data())"
   ]
  },
  {
   "cell_type": "markdown",
   "metadata": {},
   "source": [
    "## $T_2$ Ramsey round 2\n",
    "\n",
    "Check that frequency adjustment helps."
   ]
  },
  {
   "cell_type": "code",
   "execution_count": 141,
   "metadata": {},
   "outputs": [
    {
     "name": "stdout",
     "output_type": "stream",
     "text": [
      "Running Ramsey on Q3 \n"
     ]
    },
    {
     "data": {
      "application/vnd.jupyter.widget-view+json": {
       "model_id": "d250c84c920d4f09b6c98b3eb6c03243",
       "version_major": 2,
       "version_minor": 0
      },
      "text/plain": [
       "  0%|          | 0/302000 [00:00<?, ?it/s]"
      ]
     },
     "metadata": {},
     "output_type": "display_data"
    }
   ],
   "source": [
    "t2r_2 = meas.RamseyExperiment(\n",
    "    soccfg=soc,\n",
    "    path=expt_path,\n",
    "    prefix=f\"ramsey_qubit{qubit_i}\",\n",
    "    config_file=config_path,\n",
    ")\n",
    "t2r_2.cfg = AttrDict(deepcopy(yaml_cfg))\n",
    "\n",
    "# make sure nyquist freq = 0.5 * (1/step) > ramsey (signal) freq!\n",
    "t2r_2.cfg.expt = dict(\n",
    "    start=0, # wait time tau [us]\n",
    "    # step=soc.cycles2us(2) if t2r_fit[3] < 3 else soc.cycles2us(60), # [us]\n",
    "    step=soc.cycles2us(150), # [us]\n",
    "    expts=151,\n",
    "    ramsey_freq=ramsey_freq/15, # [MHz]\n",
    "    reps=reps*rounds*2,\n",
    "    rounds=1,\n",
    "    checkEF=False,\n",
    "    qTest=qubit_i,\n",
    "    qZZ=None,\n",
    "\n",
    "    full_mux_expt=full_mux_expt,\n",
    "    resonator_reset=resonator_reset,\n",
    ")\n",
    "t2r_2.go(analyze=False, display=False, progress=True, save=False)"
   ]
  },
  {
   "cell_type": "code",
   "execution_count": 142,
   "metadata": {},
   "outputs": [
    {
     "name": "stdout",
     "output_type": "stream",
     "text": [
      "best 1 0.07262885928179506\n",
      "Current pi pulse frequency: 4381.537145425829\n",
      "Fit frequency from amps [MHz]: 0.21144705229716315 +/- 0.0007987366753312534\n",
      "Suggested new pi pulse frequencies from fit amps [MHz]:\n",
      " \t4381.525698373533\n",
      " \t4381.125698373532\n",
      "T2 Ramsey from fit amps [us]: 43.30295469865911 +/- 9.176970091963625\n",
      "Current pi pulse frequency: 4381.537145425829\n",
      "Fit frequency from I [MHz]: 0.21139380568504612 +/- 0.0007892314121604746\n",
      "Suggested new pi pulse frequency from fit I [MHz]:\n",
      " \t4381.525751620145\n",
      " \t4381.125751620144\n",
      "T2 Ramsey from fit I [us]: 41.97569834709405 +/- 8.52088920763707\n",
      "Fit frequency from Q [MHz]: 0.2113189067633976 +/- 0.0008134761603302702\n",
      "Suggested new pi pulse frequencies from fit Q [MHz]:\n",
      " \t4381.525826519066\n",
      " \t4381.125826519066\n",
      "T2 Ramsey from fit Q [us]: 36.63047448377203 +/- 6.679117114735598\n",
      "*Set qubit 3 freq to 4381.525751620145*\n",
      "{'Pi pulse gain': 14360, 'Qubit freq': 4381.525751620145, 'Res freq': 6971.153333333334, 'Res freq (yaml)': -228.84666666666666, 'Res kappa': 0.20149515995222483, 'Pi/2 pulse gain': 3120, 'Single shot g-e fidelity (%)': 2.2249999999999934, 'T1_EF': 21.222524604661047, 'T1_EF err': 1.2097921499036397, 'T2R': 41.97569834709405, 'T2R err': 8.52088920763707}\n",
      "*New f_ge\n",
      " [[4111.10366389 4105.75887029 4110.96139089 4110.56100607]\n",
      " [3442.97914772 3448.33129651 3447.22560029 3447.02289897]\n",
      " [4762.73698758 4761.77220605 4762.8820278  4762.34022775]\n",
      " [4380.99025611 4380.22413414 4380.99903879 4381.52575162]]\n",
      "*New f_ge flattened\n",
      "[4111.103663892308, 4105.758870288914, 4110.961390890517, 4110.561006068113, 3442.9791477220547, 3448.3312965131795, 3447.2256002913127, 3447.022898974775, 4762.736987583428, 4761.772206046936, 4762.882027802732, 4762.340227746316, 4380.990256112639, 4380.2241341449835, 4380.999038792971, 4381.525751620145]\n",
      "Redo T2R: False\n"
     ]
    }
   ],
   "source": [
    "# TESTING\n",
    "# t2r_2 = meas.RamseyExperiment(config_file=config_path)\n",
    "# temp_data, attrs = prev_data(expt_path, '00004_ramsey_qubit2.h5')\n",
    "# t2r_2.data = temp_data\n",
    "# t2r_2.cfg = AttrDict(attrs['config'])\n",
    "\n",
    "redo_t2r = True\n",
    "\n",
    "t2r_2.analyze(fit=True)\n",
    "\n",
    "t2r_2_fit, t2r_2_fit_err, t2r_2_adjust = meas.fitting.get_best_fit(t2r_2.data, get_best_data_params=['f_adjust_ramsey'])\n",
    "\n",
    "t2r_2.display(fit=True)\n",
    "old_qubit_freq = np.reshape(t2r_2.cfg.device.qubit.f_ge, (4,4))[qubit_i, qubit_i]\n",
    "if abs(t2r_2_adjust[0]) <= ramsey_freq/10:\n",
    "# if abs(t2r_2_adjust[0]) <= abs(t2r_2_adjust[0]):\n",
    "    redo_t2r = False\n",
    "    yaml_cfg.device.qubit.f_ge = np.reshape(yaml_cfg.device.qubit.f_ge, (4,4))\n",
    "    yaml_cfg.device.qubit.f_ge[qubit_i, qubit_i] = old_qubit_freq + t2r_2_adjust[0]\n",
    "    results_Qi.update({'T2R':t2r_2_fit[3], 'T2R err':np.sqrt(t2r_2_fit_err[3][3])})\n",
    "    results_Qi.update({'Qubit freq':yaml_cfg.device.qubit.f_ge[qubit_i, qubit_i] + yaml_cfg.hw.soc.dacs.qubit.mixer_freq[qubit_i]})\n",
    "    print(f'*Set qubit {qubit_i} freq to {yaml_cfg.device.qubit.f_ge[qubit_i, qubit_i]}*')\n",
    "    print(results_Qi)\n",
    "    print(f'*New f_ge\\n', yaml_cfg.device.qubit.f_ge)\n",
    "    yaml_cfg.device.qubit.f_ge = yaml_cfg.device.qubit.f_ge.flatten().tolist()\n",
    "    print(f'*New f_ge flattened\\n{yaml_cfg.device.qubit.f_ge}')\n",
    "\n",
    "else: # redo_t2r = True\n",
    "    yaml_cfg.device.qubit.f_ge[qubit_i] = alt_qubit_freq \n",
    "    print(f'*Set qubit {qubit_i} freq to {yaml_cfg.device.qubit.f_ge[qubit_i]}*')\n",
    "print(f'Redo T2R: {redo_t2r}')"
   ]
  },
  {
   "cell_type": "code",
   "execution_count": 43,
   "metadata": {},
   "outputs": [],
   "source": [
    "if save_data: saved_files.append(t2r_2.save_data())"
   ]
  },
  {
   "cell_type": "markdown",
   "metadata": {},
   "source": [
    "## $\\pi$, -$\\pi$ experiment"
   ]
  },
  {
   "cell_type": "code",
   "execution_count": 130,
   "metadata": {},
   "outputs": [],
   "source": [
    "use_robust_pulses = True"
   ]
  },
  {
   "cell_type": "code",
   "execution_count": null,
   "metadata": {},
   "outputs": [
    {
     "data": {
      "application/vnd.jupyter.widget-view+json": {
       "model_id": "d3660dca4610496280bce24ed92f0dca",
       "version_major": 2,
       "version_minor": 0
      },
      "text/plain": [
       "  0%|          | 0/2 [00:00<?, ?it/s]"
      ]
     },
     "metadata": {},
     "output_type": "display_data"
    },
    {
     "name": "stdout",
     "output_type": "stream",
     "text": [
      "Qubit  (0)\n",
      "ge fidelity (%): 78.30666666666667 \t angle (deg): -96.83569591568404 \t threshold ge: 398.7212265605594\n"
     ]
    },
    {
     "data": {
      "application/vnd.jupyter.widget-view+json": {
       "model_id": "25dcf053cb8f4f319a145e9f3d977364",
       "version_major": 2,
       "version_minor": 0
      },
      "text/plain": [
       "  0%|          | 0/10 [00:00<?, ?it/s]"
      ]
     },
     "metadata": {},
     "output_type": "display_data"
    }
   ],
   "source": [
    "piminuspi = meas.PiMinusPiExperiment(\n",
    "    soccfg=soc,\n",
    "    path=expt_path,\n",
    "    prefix=f\"PiMinusPiExpt{qubit_i}\",\n",
    "    config_file=config_path,\n",
    ")\n",
    "\n",
    "piminuspi.cfg = AttrDict(deepcopy(yaml_cfg))\n",
    "\n",
    "span_f = 2.0\n",
    "# npts_f = 50\n",
    "npts_f = 30\n",
    "\n",
    "if not use_robust_pulses:\n",
    "    start_f = piminuspi.cfg.device.qubit.f_ge[qubit_i*4 + qubit_i]-span_f/2\n",
    "    pulse_type = \"gauss\"\n",
    "else:\n",
    "    start_f=piminuspi.cfg.device.qubit.f_ge_robust[qubit_i*4 + qubit_i]-span_f/2,\n",
    "    pulse_type = \"robust\"\n",
    "\n",
    "piminuspi.cfg.expt = dict(\n",
    "    start_N=0, # number gate repetitions\n",
    "    step_N=4,\n",
    "    expts_N=10,\n",
    "    start_f=start_f,\n",
    "    step_f=span_f/npts_f,\n",
    "    expts_f=npts_f+1,\n",
    "    reps=int(0.75*reps*rounds),\n",
    "    # reps=10,\n",
    "    loops=1,\n",
    "    pulse_type=pulse_type,\n",
    "    use_robust_pulses=use_robust_pulses,\n",
    "\n",
    "    checkEF=False,\n",
    "    qTest=qubit_i,\n",
    "    qZZ=None,\n",
    "\n",
    "    test_pi_half=False,\n",
    "\n",
    "    post_process='threshold',\n",
    "    singleshot_reps=15000,\n",
    ")\n",
    "\n",
    "# print(piminuspi.cfg)\n",
    "import Pyro4.util\n",
    "try:\n",
    "    piminuspi.acquire(progress=True, debug=False)\n",
    "except Exception:\n",
    "    print(\"Pyro traceback:\")\n",
    "    print(\"\".join(Pyro4.util.getPyroTraceback()))"
   ]
  },
  {
   "cell_type": "code",
   "execution_count": 132,
   "metadata": {},
   "outputs": [
    {
     "name": "stdout",
     "output_type": "stream",
     "text": [
      "Fit best freq 4111.8334058569635 which is -0.47307206386085454 away from old freq 4112.306477920824\n",
      "*Set qubit 0 freq to 4111.8334058569635*\n",
      "{'T1': 64.05955000251987, 'T1 err': 1.119240285515182, 'T2R': 18.248886781332068, 'T2R err': 0.7816516069106116, 'Qubit freq': 4111.8334058569635, 'T2E': 56.36959417286505, 'T2E err': 1.4283912853884384, 'Res freq': 6810.011666666666, 'Res freq (yaml)': -389.98833333333334, 'Res kappa': 0.2735895597906132, 'Res chi shift (e - g)': -0.8642384105960446, 'Pi/2 pulse gain': 7569}\n",
      "*New f_ge_robust\n",
      " [[4111.83340586 4112.30647792 4112.30647792 4112.30647792]\n",
      " [3450.05408931 3450.05408931 3450.05408931 3450.05408931]\n",
      " [4763.941      4763.941      4763.941      4763.941     ]\n",
      " [4384.25034226 4384.25034226 4384.25034226 4384.25034226]]\n",
      "*New f_ge_robust flattened\n",
      "[4111.8334058569635, 4112.306477920824, 4112.306477920824, 4112.306477920824, 3450.0540893078382, 3450.0540893078382, 3450.0540893078382, 3450.0540893078382, 4763.941, 4763.941, 4763.941, 4763.941, 4384.25034225973, 4384.25034225973, 4384.25034225973, 4384.25034225973]\n"
     ]
    }
   ],
   "source": [
    "# # TESTING\n",
    "# temp_data, attrs = prev_data('s:\\Connie\\experiments\\qramLL_4QR2\\data\\data_240617\\\\00000_PiMinusPiExpt0.h5')\n",
    "# piminuspi.data =  temp_data\n",
    "# piminuspi.cfg = AttrDict(attrs['config'])\n",
    "\n",
    "\n",
    "data = piminuspi.data\n",
    "piminuspi.analyze(fit=True)\n",
    "piminuspi.display(fit=True)\n",
    "\n",
    "if not use_robust_pulses:\n",
    "    freq_update = \"f_ge\"\n",
    "else:\n",
    "    freq_update = \"f_ge_robust\"\n",
    "yaml_cfg.device.qubit[freq_update] = np.reshape(yaml_cfg.device.qubit[freq_update], (4,4))\n",
    "yaml_cfg.device.qubit[freq_update][qubit_i, qubit_i] = data[\"best_freq\"]\n",
    "results_Qi.update({'Qubit freq':yaml_cfg.device.qubit[freq_update][qubit_i, qubit_i] + yaml_cfg.hw.soc.dacs.qubit.mixer_freq[qubit_i]})\n",
    "print(f'*Set qubit {qubit_i} freq to {yaml_cfg.device.qubit[freq_update][qubit_i, qubit_i]}*')\n",
    "print(results_Qi)\n",
    "print(f'*New {freq_update}\\n', yaml_cfg.device.qubit[freq_update])\n",
    "yaml_cfg.device.qubit[freq_update] = yaml_cfg.device.qubit[freq_update].flatten().tolist()\n",
    "print(f'*New {freq_update} flattened\\n{yaml_cfg.device.qubit[freq_update]}')"
   ]
  },
  {
   "cell_type": "code",
   "execution_count": null,
   "metadata": {},
   "outputs": [],
   "source": [
    "if save_data: piminuspi.save_data()"
   ]
  },
  {
   "cell_type": "markdown",
   "metadata": {},
   "source": [
    "## GE error amplification"
   ]
  },
  {
   "cell_type": "code",
   "execution_count": null,
   "metadata": {},
   "outputs": [],
   "source": [
    "npulsecalib = meas.NPulseExperiment(\n",
    "    soccfg=soc,\n",
    "    path=expt_path,\n",
    "    prefix=f\"NPulseExptQ{qubit_i}\",\n",
    "    config_file=config_path,\n",
    ")\n",
    "\n",
    "npulsecalib.cfg = AttrDict(deepcopy(yaml_cfg))\n",
    "npulsecalib.cfg.expt = dict(\n",
    "    start=0, # number gate repetitions\n",
    "    step=1,\n",
    "    expts=10,\n",
    "    reps=1000,\n",
    "    loops=20,\n",
    "    pulse_type='gauss',\n",
    "    checkEF=False, \n",
    "    qTest=qubit_i,\n",
    "    qZZ=None,\n",
    "    test_pi_half=False,\n",
    "    error_amp=True,\n",
    "\n",
    "    post_process='scale',\n",
    "    singleshot_reps=15000,\n",
    ")\n",
    "\n",
    "# print(npulsecalib.cfg)\n",
    "import Pyro4.util\n",
    "try:\n",
    "    npulsecalib.acquire(progress=True, debug=False)\n",
    "except Exception:\n",
    "    print(\"Pyro traceback:\")\n",
    "    print(\"\".join(Pyro4.util.getPyroTraceback()))"
   ]
  },
  {
   "cell_type": "code",
   "execution_count": null,
   "metadata": {},
   "outputs": [],
   "source": [
    "# # TESTING\n",
    "# temp_data, attrs = prev_data(expt_path, '00000_voltage_sweep_qubit_spectroscopy_qubit3.h5')\n",
    "# data = lengthrabi.analyze(data=temp_data, fit=True)\n",
    "\n",
    "data = npulsecalib.data\n",
    "npulsecalib.analyze(fit=True, scale=None)\n",
    "npulsecalib.display(fit=True, scale=None)\n",
    "\n",
    "# npulsecalib_fit, npulsecalib_fit_err = meas.fitting.get_best_fit(npulsecalib.data)\n",
    "fit_axis = 'avgi'\n",
    "npulsecalib_fit = data['fit_avgi']\n",
    "npulsecalib_fit_err = data['fit_err_avgi']\n",
    "\n",
    "angle_err = npulsecalib_fit[1]\n",
    "amp_ratio = (180 - angle_err) / 180\n",
    "new_amp_ge = np.reshape(npulsecalib.cfg.device.qubit.pulses.pi_ge.gain, (4,4))[qubit_i, qubit_i] / amp_ratio\n",
    "\n",
    "yaml_cfg.device.qubit.pulses.pi_ge.gain = np.reshape(yaml_cfg.device.qubit.pulses.pi_ge.gain, (4,4))\n",
    "yaml_cfg.device.qubit.pulses.pi_ge.gain[qubit_i, qubit_i] = int(round(new_amp_ge))\n",
    "print(f'*Set pi pulse gain for qubit {qubit_i} to {yaml_cfg.device.qubit.pulses.pi_ge.gain[qubit_i, qubit_i]}*')\n",
    "results_Qi.update({'Pi pulse gain':yaml_cfg.device.qubit.pulses.pi_ge.gain[qubit_i, qubit_i]})\n",
    "print(f'*New pi_ge.gain\\n', yaml_cfg.device.qubit.pulses.pi_ge.gain)\n",
    "yaml_cfg.device.qubit.pulses.pi_ge.gain = yaml_cfg.device.qubit.pulses.pi_ge.gain.flatten().tolist()\n",
    "print(f'*New pi_ge.gain flattened\\n{yaml_cfg.device.qubit.pulses.pi_ge.gain}')\n",
    "print(results_Qi)"
   ]
  },
  {
   "cell_type": "code",
   "execution_count": null,
   "metadata": {},
   "outputs": [],
   "source": [
    "if save_data: npulsecalib.save_data()"
   ]
  },
  {
   "cell_type": "markdown",
   "metadata": {},
   "source": [
    "## $T_2$ Echo"
   ]
  },
  {
   "cell_type": "code",
   "execution_count": 26,
   "metadata": {},
   "outputs": [
    {
     "name": "stdout",
     "output_type": "stream",
     "text": [
      "Short T1 False\n"
     ]
    }
   ],
   "source": [
    "# yaml_cfg.device.qubit.f_ge[qubit_i] = 145.572034953271\n",
    "qubit_hwhm = 2\n",
    "short_T1 = False\n",
    "# short_T1 = True\n",
    "# short_T1 = yaml_cfg.device.qubit.T1[qubit_i] < 20\n",
    "print('Short T1', short_T1)"
   ]
  },
  {
   "cell_type": "code",
   "execution_count": 27,
   "metadata": {},
   "outputs": [
    {
     "name": "stdout",
     "output_type": "stream",
     "text": [
      "Ramsey freq [MHz]: 2.0\n"
     ]
    }
   ],
   "source": [
    "ramsey_freq = max((min((np.abs(np.ceil(qubit_hwhm)), 3)), 2))\n",
    "# ramsey_freq = 1\n",
    "print(f'Ramsey freq [MHz]: {ramsey_freq}')"
   ]
  },
  {
   "cell_type": "code",
   "execution_count": 28,
   "metadata": {},
   "outputs": [
    {
     "name": "stdout",
     "output_type": "stream",
     "text": [
      "Running Ramsey Echo on Q0 \n"
     ]
    },
    {
     "data": {
      "application/vnd.jupyter.widget-view+json": {
       "model_id": "d0a5ccec430e4ebea924065ec5ec51c8",
       "version_major": 2,
       "version_minor": 0
      },
      "text/plain": [
       "  0%|          | 0/10 [00:00<?, ?it/s]"
      ]
     },
     "metadata": {},
     "output_type": "display_data"
    }
   ],
   "source": [
    "t2e = meas.RamseyExperiment(\n",
    "    soccfg=soc,\n",
    "    path=expt_path,\n",
    "    prefix=f\"echo_qubit{qubit_i}\",\n",
    "    config_file=config_path,\n",
    ")\n",
    "t2e.cfg = AttrDict(deepcopy(yaml_cfg))\n",
    "\n",
    "t2e.cfg.expt = dict(\n",
    "    start=0, # total wait time b/w the two pi/2 pulses [us]\n",
    "    # step=soc.cycles2us(80), # make sure nyquist freq = 0.5*(1/step) > ramsey (signal) freq!\n",
    "    step=soc.cycles2us(30) if short_T1 else soc.cycles2us(150), # [us] \n",
    "    expts=201,\n",
    "    ramsey_freq=max((ramsey_freq/15, 0.100)), # frequency by which to advance phase [MHz]\n",
    "    num_pi=1, # number of pi pulses\n",
    "    echo_type='cpmg', # cp or cpmg\n",
    "    reps=reps,\n",
    "    # reps=10,\n",
    "    rounds=rounds,\n",
    "    qTest=qubit_i,\n",
    "    qZZ=None,\n",
    "    checkEF=False,\n",
    ")\n",
    "t2e.go(analyze=False, display=False, progress=True, save=False)"
   ]
  },
  {
   "cell_type": "code",
   "execution_count": 29,
   "metadata": {},
   "outputs": [
    {
     "name": "stdout",
     "output_type": "stream",
     "text": [
      "Qubit 0\n",
      "best 0 0.009515671840636859\n",
      "Current pi pulse frequency: 4111.122260451728\n",
      "Fit frequency from amps [MHz]: 0.13321301485526182 +/- 7.214999297595147e-05\n",
      "Suggested new pi pulse frequencies from fit amps [MHz]:\n",
      " \t4111.122380770206\n",
      " \t4110.855714103539\n",
      "T2 Ramsey from fit amps [us]: 56.36959417286505 +/- 1.4283912853884384\n",
      "Current pi pulse frequency: 4111.122260451728\n",
      "Fit frequency from I [MHz]: 0.13315630305524895 +/- 7.78367439779741e-05\n",
      "Suggested new pi pulse frequency from fit I [MHz]:\n",
      " \t4111.122437482006\n",
      " \t4110.855770815339\n",
      "T2 Ramsey from fit I [us]: 56.049642889050325 +/- 1.523004844518435\n",
      "Fit frequency from Q [MHz]: 0.13330409486482314 +/- 8.258644157305862e-05\n",
      "Suggested new pi pulse frequencies from fit Q [MHz]:\n",
      " \t4111.122289690196\n",
      " \t4110.85562302353\n",
      "T2 Ramsey from fit Q [us]: 56.803008426451235 +/- 1.6613331354971312\n",
      "{'T1': 64.05955000251987, 'T1 err': 1.119240285515182, 'T2R': 18.248886781332068, 'T2R err': 0.7816516069106116, 'Qubit freq': 4111.122260451728, 'T2E': 56.36959417286505, 'T2E err': 1.4283912853884384}\n"
     ]
    }
   ],
   "source": [
    "# # TESTING\n",
    "# # t2e = meas.RamseyEchoExperiment(config_file=config_path)\n",
    "# temp_data, attrs = prev_data(expt_path, '00000_echo_qubit1.h5')\n",
    "# t2e.data = temp_data\n",
    "\n",
    "print(f'Qubit {qubit_i}')\n",
    "t2e.analyze(fit=True)\n",
    "\n",
    "t2e_fit, t2e_fit_err = meas.fitting.get_best_fit(t2e.data)\n",
    "\n",
    "if not isinstance(t2e_fit, (list, np.ndarray)):\n",
    "    t2e.display(fit=False)\n",
    "    assert False, 'Fit failed, please manually fix!'\n",
    "\n",
    "t2e.display(fit=True)\n",
    "results_Qi.update({'T2E':t2e_fit[3], 'T2E err':np.sqrt(t2e_fit_err[3][3])})\n",
    "print(results_Qi)\n",
    "# print('Results updated.')"
   ]
  },
  {
   "cell_type": "code",
   "execution_count": 46,
   "metadata": {},
   "outputs": [],
   "source": [
    "if save_data: saved_files.append(t2e.save_data())"
   ]
  },
  {
   "cell_type": "markdown",
   "metadata": {},
   "source": [
    "## (Divide len) Calibrate $\\pi/2$ pulse"
   ]
  },
  {
   "cell_type": "markdown",
   "metadata": {},
   "source": [
    "### Amplitude rabi for $\\pi/2$ pulse (divide len) (use this for protocol)"
   ]
  },
  {
   "cell_type": "code",
   "execution_count": 127,
   "metadata": {},
   "outputs": [],
   "source": [
    "divide_len = True"
   ]
  },
  {
   "cell_type": "code",
   "execution_count": 128,
   "metadata": {},
   "outputs": [
    {
     "name": "stdout",
     "output_type": "stream",
     "text": [
      "qubit 3 pi_len 0.025\n"
     ]
    }
   ],
   "source": [
    "pi_len = np.reshape(yaml_cfg.device.qubit.pulses.pi_ge.sigma, (4,4))[qubit_i, qubit_i]\n",
    "# pi_len = 0.008\n",
    "print('qubit', qubit_i, 'pi_len', pi_len)"
   ]
  },
  {
   "cell_type": "code",
   "execution_count": 129,
   "metadata": {},
   "outputs": [
    {
     "name": "stdout",
     "output_type": "stream",
     "text": [
      "Running amp rabi on Q3 \n"
     ]
    },
    {
     "data": {
      "application/vnd.jupyter.widget-view+json": {
       "model_id": "131eb11ac5234da2a93b902a3a6621db",
       "version_major": 2,
       "version_minor": 0
      },
      "text/plain": [
       "  0%|          | 0/50000 [00:00<?, ?it/s]"
      ]
     },
     "metadata": {},
     "output_type": "display_data"
    },
    {
     "name": "stdout",
     "output_type": "stream",
     "text": [
      "(4, 50, 1000)\n"
     ]
    }
   ],
   "source": [
    "amprabi_3 = meas.AmplitudeRabiExperiment(\n",
    "    soccfg=soc,\n",
    "    path=expt_path,\n",
    "    prefix=f\"amp_rabi_qubit{qubit_i}\",\n",
    "    config_file=config_path,\n",
    ")\n",
    "amprabi_3.cfg = AttrDict(deepcopy(yaml_cfg))\n",
    "\n",
    "span = min((32000, int(1.5*np.reshape(yaml_cfg.device.qubit.pulses.pi_ge.gain, (4,4))[qubit_i, qubit_i])))\n",
    "npts = 50\n",
    "    \n",
    "amprabi_3.cfg.expt = dict(\n",
    "    start=0, # qubit gain [dac level]\n",
    "    step=int(span/npts), # [dac level]\n",
    "    expts=npts,\n",
    "    reps=reps*rounds,\n",
    "    rounds=1,\n",
    "    sigma_test=pi_len, # gaussian sigma for pulse length - overrides config [us]\n",
    "    pulse_type=\"gauss\" if not use_robust_pulses else \"robust\",\n",
    "    checkEF=False, \n",
    "    n_pulses=1,\n",
    "    test_pi_half=True,\n",
    "    qTest=qubit_i,\n",
    "    qZZ=None,\n",
    "\n",
    "    use_robust_pulses=use_robust_pulses,\n",
    ")\n",
    "amprabi_3.go(analyze=False, display=False, progress=True, save=False)"
   ]
  },
  {
   "cell_type": "code",
   "execution_count": 130,
   "metadata": {},
   "outputs": [
    {
     "name": "stdout",
     "output_type": "stream",
     "text": [
      "best 0 0.03736597231018949\n",
      "Pi gain from amps data [dac units]: 3120\n",
      "\tPi/2 gain from amps data [dac units]: 1560\n",
      "Pi gain from avgi data [dac units]: 3120\n",
      "\tPi/2 gain from avgi data [dac units]: 1560\n",
      "Pi gain from avgq data [dac units]: 2142\n",
      "\tPi/2 gain from avgq data [dac units]: 1071\n",
      "*Set pi/2 pulse gain for qubit 3 to 3120*\n",
      "*New pi_ge.half_gain\n",
      " [[1850 1835 1873 1867]\n",
      " [2382 2186 2248 2289]\n",
      " [9253 9253 9253 9253]\n",
      " [2000 2000 2000 3120]]\n",
      "*New pi_ge.half_gain flattened\n",
      "[1850, 1835, 1873, 1867, 2382, 2186, 2248, 2289, 9253, 9253, 9253, 9253, 2000, 2000, 2000, 3120]\n",
      "{'Pi pulse gain': 14360, 'Qubit freq': 4381.135527846996, 'Res freq': 6971.153333333334, 'Res freq (yaml)': -228.84666666666666, 'Res kappa': 0.20149515995222483, 'Pi/2 pulse gain': 3120}\n"
     ]
    }
   ],
   "source": [
    "# # TESTING\n",
    "# # amprabi_3 = meas.AmplitudeRabiExperiment(config_file=config_path,)\n",
    "# temp_data, attrs = prev_data(expt_path, '00000_amp_rabi_qubit0.h5')\n",
    "# amprabi_3.data = temp_data\n",
    "\n",
    "# amprabi_3.display(fit=False)\n",
    "\n",
    "amprabi_3.analyze(fit=True)\n",
    "\n",
    "amprabi_3_fit, amprabi_3_fit_err = meas.fitting.get_best_fit(amprabi_3.data)\n",
    "\n",
    "p = amprabi_3_fit\n",
    "if p[2] > 180: p[2] = p[2] - 360\n",
    "elif p[2] < -180: p[2] = p[2] + 360\n",
    "if p[2] < 0: pi_gain = (1/2 - p[2]/180)/2/p[1]\n",
    "else: pi_gain = (3/2 - p[2]/180)/2/p[1]\n",
    "\n",
    "if pi_gain > 32000:\n",
    "    amprabi_3.display(fit=False)\n",
    "    print(f'WARNING: Fit pi/2 pulse gain is long ({pi_gain}), please double check!')\n",
    "    pi_gain = 30000\n",
    "else: amprabi_3.display(fit=True)\n",
    "\n",
    "yaml_cfg.device.qubit.pulses.pi_ge.half_gain = np.reshape(yaml_cfg.device.qubit.pulses.pi_ge.half_gain, (4,4))\n",
    "yaml_cfg.device.qubit.pulses.pi_ge.half_gain[qubit_i, qubit_i] = int(pi_gain)\n",
    "print(f'*Set pi/2 pulse gain for qubit {qubit_i} to {yaml_cfg.device.qubit.pulses.pi_ge.half_gain[qubit_i, qubit_i]}*')\n",
    "results_Qi.update({'Pi/2 pulse gain':yaml_cfg.device.qubit.pulses.pi_ge.half_gain[qubit_i, qubit_i]})\n",
    "print(f'*New pi_ge.half_gain\\n', yaml_cfg.device.qubit.pulses.pi_ge.half_gain)\n",
    "yaml_cfg.device.qubit.pulses.pi_ge.half_gain = yaml_cfg.device.qubit.pulses.pi_ge.half_gain.flatten().astype(int).tolist()\n",
    "print(f'*New pi_ge.half_gain flattened\\n{yaml_cfg.device.qubit.pulses.pi_ge.half_gain}')\n",
    "print(results_Qi)"
   ]
  },
  {
   "cell_type": "code",
   "execution_count": null,
   "metadata": {},
   "outputs": [],
   "source": [
    "if save_data: saved_files.append(amprabi_3.save_data())"
   ]
  },
  {
   "cell_type": "markdown",
   "metadata": {},
   "source": [
    "### $\\pi/2$, -$\\pi/2$ experiment"
   ]
  },
  {
   "cell_type": "code",
   "execution_count": 113,
   "metadata": {},
   "outputs": [],
   "source": [
    "use_robust_pulses = False"
   ]
  },
  {
   "cell_type": "code",
   "execution_count": 21,
   "metadata": {},
   "outputs": [],
   "source": [
    "sweep_phase = True"
   ]
  },
  {
   "cell_type": "code",
   "execution_count": 40,
   "metadata": {},
   "outputs": [
    {
     "data": {
      "application/vnd.jupyter.widget-view+json": {
       "model_id": "ef18b715f2c0479183397f548e30fafc",
       "version_major": 2,
       "version_minor": 0
      },
      "text/plain": [
       "  0%|          | 0/2 [00:00<?, ?it/s]"
      ]
     },
     "metadata": {},
     "output_type": "display_data"
    },
    {
     "name": "stdout",
     "output_type": "stream",
     "text": [
      "Qubit  (3)\n",
      "ge fidelity (%): 66.23234437851413 \t angle (deg): -26.387257959233988 \t threshold ge: 52.10000869145318\n"
     ]
    },
    {
     "data": {
      "application/vnd.jupyter.widget-view+json": {
       "model_id": "a59c394c7b3f4e7f9896604060c55c27",
       "version_major": 2,
       "version_minor": 0
      },
      "text/plain": [
       "  0%|          | 0/10 [00:00<?, ?it/s]"
      ]
     },
     "metadata": {},
     "output_type": "display_data"
    }
   ],
   "source": [
    "piminuspi = meas.PiMinusPiExperiment(\n",
    "    soccfg=soc,\n",
    "    path=expt_path,\n",
    "    prefix=f\"PiMinusPiExpt{qubit_i}\",\n",
    "    config_file=config_path,\n",
    ")\n",
    "\n",
    "piminuspi.cfg = AttrDict(deepcopy(yaml_cfg))\n",
    "\n",
    "span_f = 5.0\n",
    "npts_f = 30\n",
    "# span_f = 2.0\n",
    "# npts_f = 10\n",
    "\n",
    "# span_f = 0.0\n",
    "# npts_f = 1\n",
    "\n",
    "start_f = piminuspi.cfg.device.qubit.f_ge[qubit_i*4 + qubit_i]-span_f/2\n",
    "pulse_type = \"gauss\"\n",
    "if use_robust_pulses:\n",
    "    pulse_type = \"robust\"\n",
    "    if not sweep_phase:\n",
    "        start_f = piminuspi.cfg.device.qubit.f_ge_robust[qubit_i*4 + qubit_i]-span_f/2,\n",
    "    else:\n",
    "        start_f = -span_f/2\n",
    "\n",
    "piminuspi.cfg.expt = dict(\n",
    "    start_N=0, # number gate repetitions\n",
    "    step_N=1,\n",
    "    expts_N=10,\n",
    "    # step_N=4,\n",
    "    # expts_N=4,\n",
    "    start_f=start_f,\n",
    "    step_f=span_f/npts_f,\n",
    "    expts_f=npts_f+1,\n",
    "    # reps=int(0.75*reps*rounds),\n",
    "    # reps=1000,\n",
    "    reps=500,\n",
    "    # reps=10,\n",
    "    loops=1,\n",
    "    pulse_type=pulse_type,\n",
    "    use_robust_pulses=use_robust_pulses,\n",
    "\n",
    "    checkEF=False,\n",
    "    qTest=qubit_i,\n",
    "    qZZ=None,\n",
    "\n",
    "    # use_Y=True,\n",
    "\n",
    "    test_pi_half=True,\n",
    "\n",
    "    post_process='threshold',\n",
    "    singleshot_reps=15000,\n",
    "\n",
    "    sweep_phase=sweep_phase,\n",
    "\n",
    "    full_mux_expt=full_mux_expt,\n",
    "    resonator_reset=resonator_reset,\n",
    ")\n",
    "\n",
    "# print(piminuspi.cfg)\n",
    "import Pyro4.util\n",
    "try:\n",
    "    piminuspi.acquire(progress=True, debug=False)\n",
    "except Exception:\n",
    "    print(\"Pyro traceback:\")\n",
    "    print(\"\".join(Pyro4.util.getPyroTraceback()))"
   ]
  },
  {
   "cell_type": "code",
   "execution_count": 41,
   "metadata": {},
   "outputs": [
    {
     "name": "stdout",
     "output_type": "stream",
     "text": [
      "Fit best freq 1.6904291867323187 which is 1.6904291867323187 away from old freq 0\n",
      "Best virtual Z (deg) 15.21386268059087\n",
      "*New pihalf_ge_robust.correction_phase \n",
      "[12.831628835545475, 10.05593135477756, 0, 0, 0.11174784781734694, -0.41895542828054083, 0, 0, 0, 0, 2.9582000054694726, 0, 0, 0, 0, 15.21386268059087]\n"
     ]
    }
   ],
   "source": [
    "# # TESTING\n",
    "# temp_data, attrs = prev_data('s:\\Connie\\experiments\\qramLL_4QR2\\data\\data_240617\\\\00000_PiMinusPiExpt0.h5')\n",
    "# piminuspi.data =  temp_data\n",
    "# piminuspi.cfg = AttrDict(attrs['config'])\n",
    "\n",
    "\n",
    "data = piminuspi.data\n",
    "piminuspi.analyze(fit=True)\n",
    "piminuspi.display(fit=True)\n",
    "\n",
    "if not sweep_phase:\n",
    "    if not use_robust_pulses:\n",
    "        freq_update = \"f_ge\"\n",
    "    else:\n",
    "        freq_update = \"f_ge_robust\"\n",
    "    yaml_cfg.device.qubit[freq_update] = np.reshape(yaml_cfg.device.qubit[freq_update], (4,4))\n",
    "    yaml_cfg.device.qubit[freq_update][qubit_i, qubit_i] = data[\"best_freq\"]\n",
    "    results_Qi.update({'Qubit freq':yaml_cfg.device.qubit[freq_update][qubit_i, qubit_i] + yaml_cfg.hw.soc.dacs.qubit.mixer_freq[qubit_i]})\n",
    "    print(f'*Set qubit {qubit_i} freq to {yaml_cfg.device.qubit[freq_update][qubit_i, qubit_i]}*')\n",
    "    print(results_Qi)\n",
    "    print(f'*New {freq_update}\\n', yaml_cfg.device.qubit[freq_update])\n",
    "    yaml_cfg.device.qubit[freq_update] = yaml_cfg.device.qubit[freq_update].flatten().tolist()\n",
    "    print(f'*New {freq_update} flattened\\n{yaml_cfg.device.qubit[freq_update]}')\n",
    "\n",
    "else:\n",
    "    if not use_robust_pulses:\n",
    "        yaml_cfg.device.qubit.pulses.pi_ge.half_correction_phase[qubit_i*4 + qubit_i] = data[\"best_phase\"]\n",
    "        print(f'*New pi_ge.half_correction_phase \\n{yaml_cfg.device.qubit.pulses.pi_ge.half_correction_phase}')\n",
    "    else:\n",
    "        yaml_cfg.device.qubit.pulses.pihalf_ge_robust.correction_phase[qubit_i*4 + qubit_i] = data[\"best_phase\"]\n",
    "        print(f'*New pihalf_ge_robust.correction_phase \\n{yaml_cfg.device.qubit.pulses.pihalf_ge_robust.correction_phase}')"
   ]
  },
  {
   "cell_type": "code",
   "execution_count": null,
   "metadata": {},
   "outputs": [],
   "source": [
    "if save_data: piminuspi.save_data()"
   ]
  },
  {
   "cell_type": "markdown",
   "metadata": {},
   "source": [
    "### GE $\\pi/2$ error amplification (divide len)"
   ]
  },
  {
   "cell_type": "code",
   "execution_count": 196,
   "metadata": {},
   "outputs": [],
   "source": [
    "divide_len = True"
   ]
  },
  {
   "cell_type": "code",
   "execution_count": 197,
   "metadata": {},
   "outputs": [
    {
     "data": {
      "application/vnd.jupyter.widget-view+json": {
       "model_id": "38bcb996826f4303a3bf7bfb18b44d3c",
       "version_major": 2,
       "version_minor": 0
      },
      "text/plain": [
       "  0%|          | 0/2 [00:00<?, ?it/s]"
      ]
     },
     "metadata": {},
     "output_type": "display_data"
    },
    {
     "name": "stdout",
     "output_type": "stream",
     "text": [
      "Qubit  (3)\n",
      "ge fidelity (%): 81.28 \t angle (deg): 34.05335509852408 \t threshold ge: -666.1487237776781\n"
     ]
    },
    {
     "data": {
      "application/vnd.jupyter.widget-view+json": {
       "model_id": "72f5b0135fd54c8a97bb5b417317a471",
       "version_major": 2,
       "version_minor": 0
      },
      "text/plain": [
       "  0%|          | 0/20 [00:00<?, ?it/s]"
      ]
     },
     "metadata": {},
     "output_type": "display_data"
    },
    {
     "name": "stderr",
     "output_type": "stream",
     "text": [
      "RuntimeWarning: divide by zero encountered in divide\n",
      " s:\\Connie\\experiments\\qram_tprocv1_expts\\experiments\\clifford_averager_program.py: 1742"
     ]
    }
   ],
   "source": [
    "npulsecalib_gehalf = meas.NPulseExperiment(\n",
    "    soccfg=soc,\n",
    "    path=expt_path,\n",
    "    prefix=f\"NPulseExptQ{qubit_i}\",\n",
    "    config_file=config_path,\n",
    ")\n",
    "\n",
    "if not use_robust_pulses:\n",
    "    pulse_type = \"gauss\"\n",
    "else:\n",
    "    pulse_type = \"robust\"\n",
    "\n",
    "npulsecalib_gehalf.cfg = AttrDict(deepcopy(yaml_cfg))\n",
    "npulsecalib_gehalf.cfg.expt = dict(\n",
    "    start=0, # number gate repetitions\n",
    "    step=1,\n",
    "    expts=20,\n",
    "    reps=1000,\n",
    "    loops=20,\n",
    "    pulse_type=pulse_type,\n",
    "    test_pi_half=True,\n",
    "    divide_len=divide_len,\n",
    "    error_amp=True,\n",
    "    use_robust_pulses=use_robust_pulses,\n",
    "    use_Y=False,\n",
    "\n",
    "    checkEF=False,\n",
    "    qTest=qubit_i,\n",
    "    qZZ=None,\n",
    "\n",
    "    post_process='scale',\n",
    "    singleshot_reps=15000,\n",
    ")\n",
    "\n",
    "# print(npulsecalib_gehalf.cfg)\n",
    "try:\n",
    "    npulsecalib_gehalf.acquire(progress=True, debug=False)\n",
    "except Exception:\n",
    "    print(\"Pyro traceback:\")\n",
    "    print(\"\".join(Pyro4.util.getPyroTraceback()))"
   ]
  },
  {
   "cell_type": "code",
   "execution_count": 202,
   "metadata": {},
   "outputs": [
    {
     "name": "stdout",
     "output_type": "stream",
     "text": [
      "fitparams [None, 0.017453292519943295]\n",
      "From amps: adjust amplitude to 3595 / 1.0526538911009298 = 3415.1776100310894\n",
      "From avgi: adjust amplitude to 3595 / 1.004050416624822 = 3580.4974934274874\n",
      "From avgq: adjust amplitude to 3595 / 0.947346260195975 = 3794.8109904991993\n",
      "*Set pi/2 pulse gain for qubit 3 to 3580*\n",
      "*New pihalf_ge_robust.gain\n",
      " [[ 7569  7569  7569  7569]\n",
      " [ 4982  4982  4982  4982]\n",
      " [31856 31856 31856 31856]\n",
      " [ 3595  3595  3595  3580]]\n",
      "*New pihalf_ge_robust.gain flattened\n",
      "[7569, 7569, 7569, 7569, 4982, 4982, 4982, 4982, 31856, 31856, 31856, 31856, 3595, 3595, 3595, 3580]\n",
      "{'Res freq': 6971.126666666667, 'Res freq (yaml)': -228.87333333333333, 'Res kappa': 0.21493746441942563, 'Res chi shift (e - g)': -0.8046357615893953, 'Qubit freq': 4383.7527021237, 'Pi/2 pulse gain': 3580}\n"
     ]
    }
   ],
   "source": [
    "# # TESTING\n",
    "# temp_data, attrs = prev_data(expt_path, '00000_voltage_sweep_qubit_spectroscopy_qubit3.h5')\n",
    "# data = lengthrabi.analyze(data=temp_data, fit=True)\n",
    "\n",
    "data = npulsecalib_gehalf.data\n",
    "npulsecalib_gehalf.analyze(fit=True, scale=None)\n",
    "npulsecalib_gehalf.display(fit=True, scale=None)\n",
    "\n",
    "# npulsecalib_gehalf_fit, npulsecalib_gehalf_fit_err = meas.fitting.get_best_fit(npulsecalib_gehalf.data)\n",
    "fit_axis = 'avgi'\n",
    "npulsecalib_gehalf_fit = data['fit_avgi']\n",
    "npulsecalib_gehalf_fit_err = data['fit_err_avgi']\n",
    "\n",
    "angle_err = npulsecalib_gehalf_fit[1]\n",
    "amp_ratio = (90 - angle_err)/90\n",
    "new_amp_half_ge = npulsecalib_gehalf.cfg.expt.gain / amp_ratio\n",
    "\n",
    "if npulsecalib_gehalf.cfg.expt.use_robust_pulses:\n",
    "    yaml_update = [\"pihalf_ge_robust\", \"gain\"]\n",
    "else:\n",
    "    yaml_update = [\"pi_ge\", \"half_gain\"]\n",
    "\n",
    "yaml_cfg.device.qubit.pulses[yaml_update[0]][yaml_update[1]] = np.reshape(yaml_cfg.device.qubit.pulses[yaml_update[0]][yaml_update[1]], (4,4))\n",
    "yaml_cfg.device.qubit.pulses[yaml_update[0]][yaml_update[1]][qubit_i, qubit_i] = int(round(new_amp_half_ge))\n",
    "print(f'*Set pi/2 pulse gain for qubit {qubit_i} to {yaml_cfg.device.qubit.pulses[yaml_update[0]][yaml_update[1]][qubit_i, qubit_i]}*')\n",
    "results_Qi.update({'Pi/2 pulse gain':yaml_cfg.device.qubit.pulses[yaml_update[0]][yaml_update[1]][qubit_i, qubit_i]})\n",
    "print(f'*New {yaml_update[0]}.{yaml_update[1]}\\n', yaml_cfg.device.qubit.pulses[yaml_update[0]][yaml_update[1]])\n",
    "yaml_cfg.device.qubit.pulses[yaml_update[0]][yaml_update[1]] = yaml_cfg.device.qubit.pulses[yaml_update[0]][yaml_update[1]].flatten().astype(int).tolist()\n",
    "print(f'*New {yaml_update[0]}.{yaml_update[1]} flattened\\n{yaml_cfg.device.qubit.pulses[yaml_update[0]][yaml_update[1]]}')\n",
    "print(results_Qi)"
   ]
  },
  {
   "cell_type": "code",
   "execution_count": null,
   "metadata": {},
   "outputs": [],
   "source": [
    "if save_data: npulsecalib_gehalf.save_data()"
   ]
  },
  {
   "cell_type": "markdown",
   "metadata": {},
   "source": [
    "## (Divide gain) Calibrate $\\pi/2$ pulse"
   ]
  },
  {
   "cell_type": "markdown",
   "metadata": {},
   "source": [
    "### Amplitude rabi for $\\pi/2$ pulse (divide gain) (use this for RB)"
   ]
  },
  {
   "cell_type": "code",
   "execution_count": null,
   "metadata": {},
   "outputs": [],
   "source": [
    "divide_len = False"
   ]
  },
  {
   "cell_type": "code",
   "execution_count": null,
   "metadata": {},
   "outputs": [],
   "source": [
    "pi_len = np.reshape(yaml_cfg.device.qubit.pulses.pi_ge.sigma, (4,4))[qubit_i, qubit_i]\n",
    "# pi_len = 0.008\n",
    "print('qubit', qubit_i, 'pi_len', pi_len)"
   ]
  },
  {
   "cell_type": "code",
   "execution_count": null,
   "metadata": {},
   "outputs": [],
   "source": [
    "amprabi_3 = meas.AmplitudeRabiExperiment(\n",
    "    soccfg=soc,\n",
    "    path=expt_path,\n",
    "    prefix=f\"amp_rabi_qubit{qubit_i}\",\n",
    "    config_file=config_path,\n",
    ")\n",
    "amprabi_3.cfg = AttrDict(deepcopy(yaml_cfg))\n",
    "\n",
    "span = min((32000, int(1.5*0.5*np.reshape(yaml_cfg.device.qubit.pulses.pi_ge.gain, (4,4))[qubit_i, qubit_i])))\n",
    "npts = 151\n",
    "    \n",
    "amprabi_3.cfg.expt = dict(\n",
    "    start=0, # qubit gain [dac level]\n",
    "    step=int(span/npts), # [dac level]\n",
    "    expts=npts,\n",
    "    reps=reps,\n",
    "    # reps=5,\n",
    "    rounds=rounds,\n",
    "    sigma_test=pi_len, # gaussian sigma for pulse length - overrides config [us]\n",
    "    pulse_type='gauss',\n",
    "    checkEF=False, \n",
    "    n_pulses=1,\n",
    "    test_pi_half=True,\n",
    "    divide_len=divide_len,\n",
    "    qTest=qubit_i,\n",
    "    qZZ=None,\n",
    ")\n",
    "amprabi_3.go(analyze=False, display=False, progress=True, save=False)"
   ]
  },
  {
   "cell_type": "code",
   "execution_count": null,
   "metadata": {},
   "outputs": [],
   "source": [
    "# # TESTING\n",
    "# # amprabi_3 = meas.AmplitudeRabiExperiment(config_file=config_path,)\n",
    "# temp_data, attrs = prev_data(expt_path, '00000_amp_rabi_qubit0.h5')\n",
    "# amprabi_3.data = temp_data\n",
    "\n",
    "amprabi_3.analyze(fit=True)\n",
    "\n",
    "amprabi_3_fit, amprabi_3_fit_err = meas.fitting.get_best_fit(amprabi_3.data)\n",
    "\n",
    "p = amprabi_3_fit\n",
    "if p[2] > 180: p[2] = p[2] - 360\n",
    "elif p[2] < -180: p[2] = p[2] + 360\n",
    "if p[2] < 0: pi_gain = (1/2 - p[2]/180)/2/p[1]\n",
    "else: pi_gain = (3/2 - p[2]/180)/2/p[1]\n",
    "\n",
    "if pi_gain > 32000:\n",
    "    amprabi_3.display(fit=False)\n",
    "    print(f'WARNING: Fit pi/2 pulse gain is long ({pi_gain}), please double check!')\n",
    "    pi_gain = 30000\n",
    "else: amprabi_3.display(fit=True)\n",
    "\n",
    "yaml_cfg.device.qubit.pulses.pi_ge.half_gain_pi_sigma = np.reshape(yaml_cfg.device.qubit.pulses.pi_ge.half_gain_pi_sigma, (4,4))\n",
    "yaml_cfg.device.qubit.pulses.pi_ge.half_gain_pi_sigma[qubit_i, qubit_i] = int(pi_gain)\n",
    "print(f'*Set pi/2 pulse gain for qubit {qubit_i} to {yaml_cfg.device.qubit.pulses.pi_ge.half_gain_pi_sigma[qubit_i, qubit_i]}*')\n",
    "results_Qi.update({'Pi/2 pulse gain':yaml_cfg.device.qubit.pulses.pi_ge.half_gain_pi_sigma[qubit_i, qubit_i]})\n",
    "print(f'*New pi_ge.half_gain_pi_sigma\\n', yaml_cfg.device.qubit.pulses.pi_ge.half_gain_pi_sigma)\n",
    "yaml_cfg.device.qubit.pulses.pi_ge.half_gain_pi_sigma = yaml_cfg.device.qubit.pulses.pi_ge.half_gain_pi_sigma.flatten().astype(int).tolist()\n",
    "print(f'*New pi_ge.half_gain_pi_sigma flattened\\n{yaml_cfg.device.qubit.pulses.pi_ge.half_gain_pi_sigma}')\n",
    "print(results_Qi)"
   ]
  },
  {
   "cell_type": "code",
   "execution_count": null,
   "metadata": {},
   "outputs": [],
   "source": [
    "if save_data: saved_files.append(amprabi_3.save_data())"
   ]
  },
  {
   "cell_type": "markdown",
   "metadata": {},
   "source": [
    "### GE $\\pi/2$ error amplification (divide gain)"
   ]
  },
  {
   "cell_type": "code",
   "execution_count": null,
   "metadata": {},
   "outputs": [],
   "source": [
    "divide_len = False"
   ]
  },
  {
   "cell_type": "code",
   "execution_count": null,
   "metadata": {},
   "outputs": [],
   "source": [
    "npulsecalib_gehalf = meas.NPulseExperiment(\n",
    "    soccfg=soc,\n",
    "    path=expt_path,\n",
    "    prefix=f\"NPulseExptQ{qubit_i}\",\n",
    "    config_file=config_path,\n",
    ")\n",
    "\n",
    "npulsecalib_gehalf.cfg = AttrDict(deepcopy(yaml_cfg))\n",
    "npulsecalib_gehalf.cfg.expt = dict(\n",
    "    start=0, # number gate repetitions\n",
    "    step=1,\n",
    "    expts=10,\n",
    "    reps=1000,\n",
    "    loops=20,\n",
    "    pulse_type='gauss',\n",
    "    checkEF=False, \n",
    "    qTest=qubit_i,\n",
    "    qZZ=None,\n",
    "    test_pi_half=True,\n",
    "    divide_len=divide_len,\n",
    "    error_amp=True,\n",
    "\n",
    "    post_process='scale',\n",
    "    singleshot_reps=15000,\n",
    ")\n",
    "\n",
    "print(npulsecalib_gehalf.cfg)\n",
    "import Pyro4.util\n",
    "try:\n",
    "    npulsecalib_gehalf.go(analyze=False, display=False, progress=True, save=False)\n",
    "except Exception:\n",
    "    print(\"Pyro traceback:\")\n",
    "    print(\"\".join(Pyro4.util.getPyroTraceback()))"
   ]
  },
  {
   "cell_type": "code",
   "execution_count": null,
   "metadata": {},
   "outputs": [],
   "source": [
    "# # TESTING\n",
    "# temp_data, attrs = prev_data(expt_path, '00000_voltage_sweep_qubit_spectroscopy_qubit3.h5')\n",
    "# data = lengthrabi.analyze(data=temp_data, fit=True)\n",
    "\n",
    "data = npulsecalib_gehalf.data\n",
    "npulsecalib_gehalf.analyze(fit=True, scale=None)\n",
    "npulsecalib_gehalf.display(fit=True, scale=None)\n",
    "\n",
    "# npulsecalib_gehalf_fit, npulsecalib_gehalf_fit_err = meas.fitting.get_best_fit(npulsecalib_gehalf.data)\n",
    "fit_axis = 'avgi'\n",
    "npulsecalib_gehalf_fit = data['fit_avgi']\n",
    "npulsecalib_gehalf_fit_err = data['fit_err_avgi']\n",
    "\n",
    "angle_err = npulsecalib_gehalf_fit[1]\n",
    "amp_ratio = (90 - angle_err)/90\n",
    "new_amp_half_ge = np.reshape(npulsecalib_gehalf.cfg.device.qubit.pulses.pi_ge.half_gain_pi_sigma, (4,4))[qubit_i, qubit_i] / amp_ratio\n",
    "\n",
    "yaml_cfg.device.qubit.pulses.pi_ge.half_gain_pi_sigma = np.reshape(yaml_cfg.device.qubit.pulses.pi_ge.half_gain_pi_sigma, (4,4))\n",
    "yaml_cfg.device.qubit.pulses.pi_ge.half_gain_pi_sigma[qubit_i, qubit_i] = int(round(new_amp_half_ge))\n",
    "print(f'*Set pi/2 pulse gain for qubit {qubit_i} to {yaml_cfg.device.qubit.pulses.pi_ge.half_gain_pi_sigma[qubit_i, qubit_i]}*')\n",
    "results_Qi.update({'Pi/2 pulse gain':yaml_cfg.device.qubit.pulses.pi_ge.half_gain_pi_sigma[qubit_i, qubit_i]})\n",
    "print(f'*New pi_ge.half_gain_pi_sigma\\n', yaml_cfg.device.qubit.pulses.pi_ge.half_gain_pi_sigma)\n",
    "yaml_cfg.device.qubit.pulses.pi_ge.half_gain_pi_sigma = yaml_cfg.device.qubit.pulses.pi_ge.half_gain_pi_sigma.flatten().astype(int).tolist()\n",
    "print(f'*New pi_ge.half_gain_pi_sigma flattened\\n{yaml_cfg.device.qubit.pulses.pi_ge.half_gain_pi_sigma}')\n",
    "print(results_Qi)"
   ]
  },
  {
   "cell_type": "code",
   "execution_count": null,
   "metadata": {},
   "outputs": [],
   "source": [
    "if save_data: npulsecalib_gehalf.save_data()"
   ]
  },
  {
   "cell_type": "markdown",
   "metadata": {},
   "source": [
    "## Resonator chi shift (g/e)"
   ]
  },
  {
   "cell_type": "code",
   "execution_count": 34,
   "metadata": {},
   "outputs": [
    {
     "data": {
      "application/vnd.jupyter.widget-view+json": {
       "model_id": "8b43e6c360a547e38c3fe1aa0a0512b9",
       "version_major": 2,
       "version_minor": 0
      },
      "text/plain": [
       "  0%|          | 0/151 [00:00<?, ?it/s]"
      ]
     },
     "metadata": {},
     "output_type": "display_data"
    }
   ],
   "source": [
    "rspec_chi = meas.ResonatorSpectroscopyExperiment(\n",
    "    soccfg=soc,\n",
    "    path=expt_path,\n",
    "    prefix=f\"resonator_spectroscopy_chi_qubit{qubit_i}\",\n",
    "    config_file=config_path,\n",
    ")\n",
    "rspec_chi.cfg = AttrDict(deepcopy(yaml_cfg))\n",
    "\n",
    "span = 3 # MHz\n",
    "npts = 151\n",
    "rspec_chi.cfg.expt = dict(\n",
    "    start=rspec_chi.cfg.device.readout.frequency[qubit_i]-span/2, # MHz\n",
    "    # start=rspec_chi.cfg.device.readout.frequency[qubit_i]-rspec_chi.cfg.device.readout.lo_sideband[qubit_i]*span, # MHz\n",
    "    step=span/npts,\n",
    "    expts=npts,\n",
    "    reps=reps*rounds,\n",
    "    pulse_e=True, # add ge pi pulse prior to measurement\n",
    "    pulse_f=False, # add ef pi pulse prior to measurement\n",
    "    qTest=qubit_i,\n",
    "    qZZ=None,\n",
    "\n",
    "    full_mux_expt=full_mux_expt,\n",
    "    resonator_reset=resonator_reset,\n",
    ")\n",
    "\n",
    "rspec_chi.cfg.device.readout.gain[qubit_i] /= 2\n",
    "# rspec_chi.cfg.device.readout.readout_length[qubit_i] *= 2\n",
    "\n",
    "# rspec_chi.cfg.device.readout.relax_delay = 100 # Wait time between experiments [us]\n",
    "rspec_chi.go(analyze=False, display=False, progress=True, save=False)"
   ]
  },
  {
   "cell_type": "code",
   "execution_count": 35,
   "metadata": {},
   "outputs": [
    {
     "name": "stdout",
     "output_type": "stream",
     "text": [
      "electrical delay phase correction (no mux support) (deg) -0.8671127435910813\n",
      "param guess [6971.090066225166, 34855.45033112583, 34855.45033112583, 0, -0.03265461156041281, 0.9251021987094618]\n",
      "param bounds ([6969.619867549669, 0, 0, -6.283185307179586, -0.04898191734061922, -inf], [6972.560264900662, 1000000000.0, 100000000.0, 6.283185307179586, 0.04898191734061922, 1.0212547345778735])\n",
      "popt [ 6.97032831e+03  7.24724538e+04  7.62323403e+04  9.33117308e-02\n",
      " -2.34562057e-02 -1.59017410e-02]\n",
      "\n",
      "Freq with minimum transmission: -279.6649006622513\n",
      "Freq with maximum transmission: -279.20794701986716\n",
      "From fit:\n",
      "\tf0: 6970.328309213009\n",
      "\tQi: 72472.45384249448 \t kappa_i/2pi: 0.09617900236083812\n",
      "\tQe: 76232.34031360397 \t kappa_e/2pi: 0.09143531840342996\n",
      "\tQ0: 37152.43207884447\n",
      "\tkappa [MHz]: 0.18761432076426807\n",
      "\tphi [radians]: 0.09331173076857704\n",
      "baseline 764.315295153289\n",
      "Res freq e -279.64503311258244\n",
      "Res freq g -278.89999999999964\n",
      "Chi shift (e-g): -0.7450331125828029\n",
      "qubit 3 {'Res chi shift (e - g)': -0.7450331125828029}\n"
     ]
    }
   ],
   "source": [
    "# # TESTING\n",
    "# # rspec_chi = meas.ResonatorSpectroscopyExperiment(config_file=config_path,) \n",
    "# temp_data, attrs = prev_data(expt_path, '00001_resonator_spectroscopy_qubit2.h5')\n",
    "# rspec_chi.data = temp_data\n",
    "\n",
    "rspec_chi.data = rspec_chi.analyze(fit=True)\n",
    "rspec_chi_fit = rspec_chi.data['fit']\n",
    "if not isinstance(rspec_chi_fit, (list, np.ndarray)):\n",
    "    rspec_chi.display(fit=False)\n",
    "    assert False, 'Fit failed, please manually fix!'\n",
    "rspec_chi.display(fit=True)\n",
    "# res_freq_e = rspec_chi_fit[0] - yaml_cfg.hw.soc.dacs.readout.mixer_freq[qubit_i]\n",
    "res_freq_e = rspec_chi.data['xpts'][np.argmin(rspec_chi.data['amps'])]\n",
    "# res_freq_e = rspec_chi.data['xpts'][np.argmax(rspec_chi.data['amps'])]\n",
    "print('Res freq e', res_freq_e)\n",
    "res_freq_g = yaml_cfg.device.readout.frequency[qubit_i]\n",
    "print('Res freq g', res_freq_g)\n",
    "# res_freq_e = -83\n",
    "# results_Qi.update({'Res chi shift (e - g)': yaml_cfg.device.readout.lo_sideband[qubit_i]*(res_freq_e - yaml_cfg.device.readout.frequency[qubit_i])})\n",
    "chi_shift_eg = yaml_cfg.device.readout.lo_sideband[qubit_i]*(res_freq_e - res_freq_g)\n",
    "print('Chi shift (e-g):', chi_shift_eg)\n",
    "results_Qi.update({'Res chi shift (e - g)': chi_shift_eg})\n",
    "# res_freq_e = 6953.5\n",
    "# results_Qi.update({'Res chi shift (e - g)': res_freq_e - (5925 + yaml_cfg.device.readout.lo_sideband[qubit_i]*(yaml_cfg.hw.soc.dacs.readout.mixer_freq + yaml_cfg.device.readout.frequency[qubit_i]))})\n",
    "print(f'qubit {qubit_i}', results_Qi)"
   ]
  },
  {
   "cell_type": "code",
   "execution_count": 49,
   "metadata": {},
   "outputs": [],
   "source": [
    "if save_data: saved_files.append(rspec_chi.save_data())"
   ]
  },
  {
   "cell_type": "markdown",
   "metadata": {},
   "source": [
    "# Qubit ef spectroscopy"
   ]
  },
  {
   "cell_type": "markdown",
   "metadata": {},
   "source": [
    "## Pulse Probe EF spectroscopy"
   ]
  },
  {
   "cell_type": "code",
   "execution_count": 161,
   "metadata": {},
   "outputs": [
    {
     "name": "stdout",
     "output_type": "stream",
     "text": [
      "Running pulse probe EF on Q3 \n"
     ]
    },
    {
     "data": {
      "application/vnd.jupyter.widget-view+json": {
       "model_id": "63995972c7b54978b6ffe9e3a5486a21",
       "version_major": 2,
       "version_minor": 0
      },
      "text/plain": [
       "  0%|          | 0/10 [00:00<?, ?it/s]"
      ]
     },
     "metadata": {},
     "output_type": "display_data"
    }
   ],
   "source": [
    "qEFspec = meas.PulseProbeSpectroscopyExperiment(\n",
    "    soccfg=soc,\n",
    "    path=expt_path,\n",
    "    prefix=f\"qubit_EF_spectroscopy_qubit{qubit_i}\",\n",
    "    config_file=config_path,\n",
    ")\n",
    "qEFspec.cfg = AttrDict(deepcopy(yaml_cfg))\n",
    "\n",
    "span = 50\n",
    "npts = 250\n",
    "\n",
    "qEFspec.cfg.expt = dict(\n",
    "    start=np.reshape(yaml_cfg.device.qubit.f_ef, (4,4))[qubit_i,qubit_i]-0.5*span, # resonator frequency to be mixed up [MHz]\n",
    "    step=span/npts, # min step ~1 Hz\n",
    "    expts=npts, # Number of experiments stepping from start\n",
    "    reps=reps, # Number of averages per point\n",
    "    rounds=rounds, # Number of start to finish sweeps to average over\n",
    "    length=1, # ef probe constant pulse length [us]\n",
    "    gain=int(np.reshape(yaml_cfg.device.qubit.pulses.pi_ef.gain, (4,4))[qubit_i, qubit_i]/50), # ef pulse gain\n",
    "    # gain=5000,\n",
    "    pulse_type='gauss',\n",
    "    qTest=qubit_i,\n",
    "    qZZ=None,\n",
    "    checkEF=True,\n",
    ")\n",
    "# qEFspec.cfg.device.readout.relax_delay = qEFspec.cfg.device.qubit.T1[qubit_i] # Wait time between experiments [us]\n",
    "qEFspec.go(analyze=False, display=False, progress=True, save=False)"
   ]
  },
  {
   "cell_type": "code",
   "execution_count": 162,
   "metadata": {},
   "outputs": [
    {
     "name": "stdout",
     "output_type": "stream",
     "text": [
      "Found peak in amps at [MHz] 4216.157186239764, HWHM 1.979742709339923\n",
      "Found peak in I at [MHz] 4202.3042692789695, HWHM 12.275497056540667\n",
      "Found peak in Q at [MHz] 4216.073677951402, HWHM 1.7793481167801906\n",
      "best 2 0.07668230939675232\n",
      "*Set qubit 3 f_ef to 4216.073677951402*\n",
      "{'Qubit EF freq': 4216.073677951402, 'T2R EF': 1.039341517857143, 'T2R EF err': 0.30606294265120315}\n"
     ]
    }
   ],
   "source": [
    "# # TESTING\n",
    "# temp_data, attrs = prev_data(expt_path, '00000_voltage_sweep_qubit_spectroscopy_qubit3.h5')\n",
    "# data = qEFspec.analyze(data=temp_data, fit=True)\n",
    "\n",
    "best_signs = [1, 0, 0]\n",
    "best_fit_err_i = np.inf\n",
    "best_fit_err_q = np.inf\n",
    "for sign in [1, -1]:\n",
    "    try: \n",
    "        qEFspec.analyze(fit=True, signs=[1, sign, sign])\n",
    "        fit_err_i = qEFspec.data['fit_err_avgi'][2][2]\n",
    "        fit_err_q = qEFspec.data['fit_err_avgq'][2][2]\n",
    "        if fit_err_i < best_fit_err_i:\n",
    "            best_signs[1] = sign\n",
    "            best_fit_err_i = fit_err_i\n",
    "        if fit_err_q < best_fit_err_q:\n",
    "            best_signs[2] = sign\n",
    "            best_fit_err_q = fit_err_q\n",
    "    except: continue\n",
    "if best_fit_err_i == np.inf and best_fit_err_q == np.inf:\n",
    "    qEFspec.display(fit=False)\n",
    "    assert False, 'Fit failed, please manually fix!'\n",
    "\n",
    "qEFspec.analyze(fit=True, signs=best_signs)\n",
    "qEFspec.display(fit=True, signs=best_signs)\n",
    "\n",
    "qEFspec_fit, qEFspec_fit_err = meas.fitting.get_best_fit(qEFspec.data)\n",
    "yaml_cfg.device.qubit.f_ef = np.reshape(yaml_cfg.device.qubit.f_ef, (4,4))\n",
    "yaml_cfg.device.qubit.f_ef[qubit_i, qubit_i] = qEFspec_fit[2]\n",
    "print(f'*Set qubit {qubit_i} f_ef to {yaml_cfg.device.qubit.f_ef[qubit_i, qubit_i]}*')\n",
    "results_Qi.update({'Qubit EF freq':yaml_cfg.device.qubit.f_ef[qubit_i, qubit_i] + yaml_cfg.hw.soc.dacs.qubit.mixer_freq[qubit_i]})\n",
    "yaml_cfg.device.qubit.f_ef = yaml_cfg.device.qubit.f_ef.flatten().tolist()\n",
    "print(results_Qi)"
   ]
  },
  {
   "cell_type": "code",
   "execution_count": 107,
   "metadata": {},
   "outputs": [],
   "source": [
    "if save_data: saved_files.append(qEFspec.save_data())"
   ]
  },
  {
   "cell_type": "markdown",
   "metadata": {},
   "source": [
    "## Pulse Probe EF spectroscopy round 2"
   ]
  },
  {
   "cell_type": "code",
   "execution_count": 199,
   "metadata": {},
   "outputs": [
    {
     "name": "stdout",
     "output_type": "stream",
     "text": [
      "Running pulse probe EF on Q3 \n"
     ]
    },
    {
     "data": {
      "application/vnd.jupyter.widget-view+json": {
       "model_id": "3ecbb0486b5e43da89875d6694a95923",
       "version_major": 2,
       "version_minor": 0
      },
      "text/plain": [
       "  0%|          | 0/10 [00:00<?, ?it/s]"
      ]
     },
     "metadata": {},
     "output_type": "display_data"
    }
   ],
   "source": [
    "qEFspec2 = meas.PulseProbeSpectroscopyExperiment(\n",
    "    soccfg=soc,\n",
    "    path=expt_path,\n",
    "    prefix=f\"qubit_EF_spectroscopy_qubit{qubit_i}\",\n",
    "    config_file=config_path,\n",
    ")\n",
    "qEFspec2.cfg = AttrDict(deepcopy(yaml_cfg))\n",
    "\n",
    "span = 15\n",
    "npts = 250\n",
    "\n",
    "qEFspec2.cfg.expt = dict(\n",
    "    start=np.reshape(yaml_cfg.device.qubit.f_ef, (4,4))[qubit_i,qubit_i]-0.5*span, # resonator frequency to be mixed up [MHz]\n",
    "    step=span/npts, # min step ~1 Hz\n",
    "    expts=npts, # Number of experiments stepping from start\n",
    "    reps=reps, # Number of averages per point\n",
    "    rounds=rounds, # Number of start to finish sweeps to average over\n",
    "    length=1, # ef probe constant pulse length [us]\n",
    "    gain=int(np.reshape(yaml_cfg.device.qubit.pulses.pi_ef.gain, (4,4))[qubit_i, qubit_i]/80), # ef pulse gain\n",
    "    pulse_type='gauss',\n",
    "    qTest=qubit_i,\n",
    "    qZZ=None,\n",
    "    checkEF=True,\n",
    ")\n",
    "qEFspec2.go(analyze=False, display=False, progress=True, save=False)"
   ]
  },
  {
   "cell_type": "code",
   "execution_count": 200,
   "metadata": {},
   "outputs": [
    {
     "name": "stdout",
     "output_type": "stream",
     "text": [
      "Found peak in amps at [MHz] 4205.916183716192, HWHM 1.0281994643793693\n",
      "Found peak in I at [MHz] 4205.9278169298605, HWHM 1.13050923098174\n",
      "Found peak in Q at [MHz] 4205.893765280253, HWHM 1.0988053354217038\n",
      "best 2 0.031104358630070213\n",
      "*Set qubit 3 f_ef to 4205.893765280253*\n",
      "{'Qubit EF freq': 4205.893765280253, 'T2R EF': 1.039341517857143, 'T2R EF err': 0.2842483864775508, 'Pi/2 EF pulse gain': 3650, 'T1': 55.69833035027093, 'T1 err': 2.013371053265863}\n"
     ]
    }
   ],
   "source": [
    "# # TESTING\n",
    "# temp_data, attrs = prev_data(expt_path, '00000_voltage_sweep_qubit_spectroscopy_qubit3.h5')\n",
    "# data = qEFspec2.analyze(data=temp_data, fit=True)\n",
    "\n",
    "best_signs = [1, 0, 0]\n",
    "best_fit_err_i = np.inf\n",
    "best_fit_err_q = np.inf\n",
    "for sign in [1, -1]:\n",
    "    qEFspec2.analyze(fit=True, signs=[1, sign, sign])\n",
    "    fit_err_i = qEFspec2.data['fit_err_avgi'][2][2]\n",
    "    fit_err_q = qEFspec2.data['fit_err_avgq'][2][2]\n",
    "    if fit_err_i < best_fit_err_i:\n",
    "        best_signs[1] = sign\n",
    "        best_fit_err_i = fit_err_i\n",
    "    if fit_err_q < best_fit_err_q:\n",
    "        best_signs[2] = sign\n",
    "        best_fit_err_q = fit_err_q\n",
    "    # except: continue\n",
    "if best_fit_err_i == np.inf and best_fit_err_q == np.inf:\n",
    "    qEFspec2.display(fit=False)\n",
    "    assert False, 'Fit failed, please manually fix!'\n",
    "\n",
    "qEFspec2.analyze(fit=True, signs=best_signs)\n",
    "qEFspec2.display(fit=True, signs=best_signs)\n",
    "\n",
    "qEFspec2_fit, qEFspec2_fit_err = meas.fitting.get_best_fit(qEFspec2.data)\n",
    "yaml_cfg.device.qubit.f_ef = np.reshape(yaml_cfg.device.qubit.f_ef, (4,4))\n",
    "yaml_cfg.device.qubit.f_ef[qubit_i, qubit_i] = qEFspec2_fit[2]\n",
    "qubit_hwhm = qEFspec2_fit[3]\n",
    "print(f'*Set qubit {qubit_i} f_ef to {yaml_cfg.device.qubit.f_ef[qubit_i, qubit_i]}*')\n",
    "results_Qi.update({'Qubit EF freq':yaml_cfg.device.qubit.f_ef[qubit_i, qubit_i] + yaml_cfg.hw.soc.dacs.qubit.mixer_freq[qubit_i]})\n",
    "yaml_cfg.device.qubit.f_ef = yaml_cfg.device.qubit.f_ef.flatten().tolist()\n",
    "print(results_Qi)"
   ]
  },
  {
   "cell_type": "code",
   "execution_count": 110,
   "metadata": {},
   "outputs": [],
   "source": [
    "if save_data: saved_files.append(qEFspec2.save_data())"
   ]
  },
  {
   "cell_type": "markdown",
   "metadata": {},
   "source": [
    "## Amplitude EF Rabi\n",
    "\n",
    "The EF pi pulse amplitude should be stored in <code>cfg.device.qubit.pulses.pi_ef.gain</code>."
   ]
  },
  {
   "cell_type": "code",
   "execution_count": 186,
   "metadata": {},
   "outputs": [
    {
     "name": "stdout",
     "output_type": "stream",
     "text": [
      "qubit 3 pi_lenEF 0.03\n"
     ]
    }
   ],
   "source": [
    "pi_lenEF = np.reshape(yaml_cfg.device.qubit.pulses.pi_ef.sigma, (4,4))[qubit_i, qubit_i]\n",
    "# pi_lenEF = 0.025\n",
    "print('qubit', qubit_i, 'pi_lenEF', pi_lenEF)"
   ]
  },
  {
   "cell_type": "code",
   "execution_count": 17,
   "metadata": {},
   "outputs": [
    {
     "name": "stdout",
     "output_type": "stream",
     "text": [
      "Running amp rabi EF on Q1 \n"
     ]
    },
    {
     "data": {
      "application/vnd.jupyter.widget-view+json": {
       "model_id": "5d20ea8ed97440ceb17482319039c71f",
       "version_major": 2,
       "version_minor": 0
      },
      "text/plain": [
       "  0%|          | 0/101000 [00:00<?, ?it/s]"
      ]
     },
     "metadata": {},
     "output_type": "display_data"
    },
    {
     "name": "stdout",
     "output_type": "stream",
     "text": [
      "(4, 101, 1000)\n"
     ]
    }
   ],
   "source": [
    "amprabiEF = meas.AmplitudeRabiExperiment(\n",
    "    soccfg=soc,\n",
    "    path=expt_path,\n",
    "    prefix=\"amp_rabi_EF\"+f\"_qubit{qubit_i}\",\n",
    "    config_file=config_path,\n",
    ")\n",
    "\n",
    "amprabiEF.cfg = AttrDict(deepcopy(yaml_cfg))\n",
    "\n",
    "span = min((32000, int(1.5*np.reshape(yaml_cfg.device.qubit.pulses.pi_ef.gain, (4,4))[qubit_i, qubit_i])))\n",
    "npts = 101\n",
    "\n",
    "amprabiEF.cfg.expt = dict(\n",
    "    start=1, # qubit gain [dac level]\n",
    "    step=int(span/npts), # [dac level]\n",
    "    expts=npts,\n",
    "    reps=reps*rounds,\n",
    "    rounds=1,\n",
    "    sigma_test=pi_lenEF, # gaussian sigma for pulse length - default from cfg [us]\n",
    "    pulse_type='gauss',\n",
    "    checkEF=True,\n",
    "    qTest=qubit_i,\n",
    "    qZZ=None,\n",
    "\n",
    "    readout_cool=False,\n",
    "    # n_init_readout=1,\n",
    "    # n_trig=2,\n",
    "    # init_read_wait_us=5,\n",
    "    # singleshot_reps=20000,\n",
    "    # use_gf_readout=True,\n",
    "\n",
    "    full_mux_expt=full_mux_expt,\n",
    "    resonator_reset=resonator_reset,\n",
    "    \n",
    ")\n",
    "\n",
    "# print(amprabiEF.cfg)\n",
    "amprabiEF.go(analyze=False, display=False, progress=True, save=False)"
   ]
  },
  {
   "cell_type": "code",
   "execution_count": 18,
   "metadata": {},
   "outputs": [
    {
     "name": "stdout",
     "output_type": "stream",
     "text": [
      "best 0 0.04915627151792078\n",
      "Pi gain from amps data [dac units]: 3332\n",
      "\tPi/2 gain from amps data [dac units]: 1666\n",
      "Pi gain from avgi data [dac units]: 5356\n",
      "\tPi/2 gain from avgi data [dac units]: 2678\n",
      "Pi gain from avgq data [dac units]: 3471\n",
      "\tPi/2 gain from avgq data [dac units]: 1735\n"
     ]
    }
   ],
   "source": [
    "# TESTING\n",
    "# amprabiEF = meas.AmplitudeRabiExperiment(config_file=config_path,)\n",
    "# temp_data, attrs = prev_data(expt_path, '00000_amp_rabi_EF_qubit1.h5')\n",
    "# amprabiEF.data = temp_data\n",
    "\n",
    "# amprabiEF.analyze(fit=False)\n",
    "# amprabiEF.display(fit=False)\n",
    "\n",
    "amprabiEF.analyze(fit=True, post_select=False)\n",
    "\n",
    "amprabiEF_fit, amprabiEF_fit_err = meas.fitting.get_best_fit(amprabiEF.data)\n",
    "\n",
    "p = amprabiEF_fit\n",
    "\n",
    "if p[2] > 180: p[2] = p[2] - 360\n",
    "elif p[2] < -180: p[2] = p[2] + 360\n",
    "if p[2] < 0: pi_gain = (1/2 - p[2]/180)/2/p[1]\n",
    "else: pi_gain = (3/2 - p[2]/180)/2/p[1]\n",
    "\n",
    "if pi_gain > 32000:\n",
    "    amprabiEF.display(fit=False)\n",
    "    print('WARNING: Fit pi pulse gain is long, please double check!')\n",
    "    pi_gain = 30000\n",
    "else: amprabiEF.display(fit=True)\n"
   ]
  },
  {
   "cell_type": "code",
   "execution_count": 19,
   "metadata": {},
   "outputs": [
    {
     "name": "stdout",
     "output_type": "stream",
     "text": [
      "*Set EF pi pulse sigma for qubit 1 to 0.025*\n",
      "*Set EF pi pulse gain for qubit 1 to 3332*\n",
      "*New pi_ef.gain\n",
      " [[ 1280     0     0     0]\n",
      " [    0  3332     0     0]\n",
      " [10000 10079 10015     0]\n",
      " [  300   300     0   300]]\n",
      "*New pi_ef.gain flattened\n",
      "[1280, 0, 0, 0, 0, 3332, 0, 0, 10000, 10079, 10015, 0, 300, 300, 0, 300]\n",
      "{'Pi EF pulse gain': 3332}\n"
     ]
    }
   ],
   "source": [
    "print(f'*Set EF pi pulse sigma for qubit {qubit_i} to {np.reshape(yaml_cfg.device.qubit.pulses.pi_ef.sigma, (4,4))[qubit_i, qubit_i]}*')\n",
    "yaml_cfg.device.qubit.pulses.pi_ef.gain = np.reshape(yaml_cfg.device.qubit.pulses.pi_ef.gain, (4,4))\n",
    "yaml_cfg.device.qubit.pulses.pi_ef.gain[qubit_i, qubit_i] = int(pi_gain)\n",
    "print(f'*Set EF pi pulse gain for qubit {qubit_i} to {yaml_cfg.device.qubit.pulses.pi_ef.gain[qubit_i, qubit_i]}*')\n",
    "results_Qi.update({'Pi EF pulse gain':yaml_cfg.device.qubit.pulses.pi_ef.gain[qubit_i, qubit_i]})\n",
    "print(f'*New pi_ef.gain\\n', yaml_cfg.device.qubit.pulses.pi_ef.gain)\n",
    "yaml_cfg.device.qubit.pulses.pi_ef.gain = yaml_cfg.device.qubit.pulses.pi_ef.gain.flatten().astype(int).tolist()\n",
    "print(f'*New pi_ef.gain flattened\\n{yaml_cfg.device.qubit.pulses.pi_ef.gain}')\n",
    "print(results_Qi)"
   ]
  },
  {
   "cell_type": "code",
   "execution_count": 115,
   "metadata": {},
   "outputs": [],
   "source": [
    "if save_data: saved_files.append(amprabiEF.save_data())"
   ]
  },
  {
   "cell_type": "markdown",
   "metadata": {},
   "source": [
    "## Length EF Rabi"
   ]
  },
  {
   "cell_type": "code",
   "execution_count": null,
   "metadata": {},
   "outputs": [],
   "source": [
    "lengthrabiEF = meas.LengthRabiExperiment(\n",
    "    soccfg=soc,\n",
    "    path=expt_path,\n",
    "    prefix=f\"length_rabiEF_qubit{qubit_i}\",\n",
    "    config_file=config_path,\n",
    ")\n",
    "lengthrabiEF.cfg = AttrDict(deepcopy(yaml_cfg))\n",
    "\n",
    "lengthrabiEF.cfg.expt = dict(\n",
    "    start=soc.cycles2us(0), # pulse length (sigma) [us]\n",
    "    step=soc.cycles2us(1), # [us]\n",
    "    expts=121,\n",
    "    reps=reps*rounds,\n",
    "    pulse_type='gauss',\n",
    "    checkEF=True, \n",
    "    qTest=qubit_i,\n",
    "    qZZ=None,\n",
    ")\n",
    "# lengthrabiEF.cfg.device.readout.relax_delay = 50 # Wait time between experiments [us]\n",
    "\n",
    "import Pyro4.util\n",
    "try:\n",
    "    lengthrabiEF.go(analyze=False, display=False, progress=True, save=False)\n",
    "except Exception:\n",
    "    print(\"Pyro traceback:\")\n",
    "    print(\"\".join(Pyro4.util.getPyroTraceback()))"
   ]
  },
  {
   "cell_type": "code",
   "execution_count": null,
   "metadata": {},
   "outputs": [],
   "source": [
    "# # TESTING\n",
    "# # lengthrabiEF = meas.AmplitudeRabiExperiment(config_file=config_path,)\n",
    "# temp_data, attrs = prev_data(expt_path, '00000_amp_rabi_qubit0.h5')\n",
    "# lengthrabiEF.data = temp_data\n",
    "\n",
    "lengthrabiEF.analyze(fit=True, fit_func='sin')\n",
    "\n",
    "lengthrabiEF_fit, lengthrabiEF_fit_err = meas.fitting.get_best_fit(lengthrabiEF.data) #, fitfunc=fitter.decaysin)\n",
    "\n",
    "lengthrabiEF.display(fit=False, fit_func='sin')\n",
    "# p = lengthrabiEF_fit\n",
    "# if p[2] > 180: p[2] = p[2] - 360\n",
    "# elif p[2] < -180: p[2] = p[2] + 360\n",
    "# if p[2] < 0: pi_lenEF = (1/2 - p[2]/180)/2/p[1]\n",
    "# else: pi_lenEF = (3/2 - p[2]/180)/2/p[1]\n",
    "# pi_lenEF = np.max((0.9*pi_lenEF, 0.015)) # since we run the length rabi at a < max gain\n",
    "\n",
    "# lengthrabiEF_decay = p[3]\n",
    "\n",
    "# print(f'Will use sigma {pi_lenEF} for amplitude rabi EF')"
   ]
  },
  {
   "cell_type": "code",
   "execution_count": null,
   "metadata": {},
   "outputs": [],
   "source": [
    "if save_data: saved_files.append(lengthrabiEF.save_data())"
   ]
  },
  {
   "cell_type": "markdown",
   "metadata": {},
   "source": [
    "## Qubit temperature"
   ]
  },
  {
   "cell_type": "code",
   "execution_count": 33,
   "metadata": {},
   "outputs": [
    {
     "name": "stdout",
     "output_type": "stream",
     "text": [
      "reps 500 rounds 200\n",
      "Running amp rabi EF on Q1 \n"
     ]
    },
    {
     "data": {
      "application/vnd.jupyter.widget-view+json": {
       "model_id": "177950b64f6b4ac4a7b36351f0c4dee1",
       "version_major": 2,
       "version_minor": 0
      },
      "text/plain": [
       "  0%|          | 0/2 [00:00<?, ?it/s]"
      ]
     },
     "metadata": {},
     "output_type": "display_data"
    },
    {
     "name": "stdout",
     "output_type": "stream",
     "text": [
      "thresholds [0, 327.10455367508064, 0, 0]\n",
      "angles [0, 0.0, 0, 0]\n"
     ]
    },
    {
     "data": {
      "application/vnd.jupyter.widget-view+json": {
       "model_id": "b9813164247743acb34e70f7555cb78d",
       "version_major": 2,
       "version_minor": 0
      },
      "text/plain": [
       "  0%|          | 0/500000 [00:00<?, ?it/s]"
      ]
     },
     "metadata": {},
     "output_type": "display_data"
    },
    {
     "name": "stdout",
     "output_type": "stream",
     "text": [
      "(4, 5, 100000)\n"
     ]
    }
   ],
   "source": [
    "amprabiEF2 = meas.AmplitudeRabiExperiment(\n",
    "    soccfg=soc,\n",
    "    path=expt_path,\n",
    "    prefix=\"amp_rabi_EF\"+f\"_qubit{qubit_i}\",\n",
    "    config_file=config_path,\n",
    ")\n",
    "\n",
    "amprabiEF2.cfg = AttrDict(deepcopy(yaml_cfg))\n",
    "\n",
    "reps_temp=500\n",
    "rounds_temp=reps*rounds*100//500\n",
    "\n",
    "span = np.reshape(amprabiEF2.cfg.device.qubit.pulses.pi_ef.gain, (4,4))[qubit_i, qubit_i]\n",
    "npts = 4\n",
    "# reps_temp = 10\n",
    "# rounds_temp = 10\n",
    "print('reps', reps_temp, 'rounds', rounds_temp)\n",
    "\n",
    "amprabiEF2.cfg.expt = dict(\n",
    "    start=0, # qubit gain [dac level]\n",
    "    step=int(span/npts), # [dac level]\n",
    "    expts=npts+1,\n",
    "    reps=reps_temp*rounds_temp,\n",
    "    rounds=1,\n",
    "    sigma_test=pi_lenEF, # gaussian sigma for pulse length - default from cfg [us]\n",
    "    pulse_ge=False, # set to false when measuring qubit temp\n",
    "    pulse_type='gauss',\n",
    "    checkEF=True, \n",
    "    qTest=qubit_i,\n",
    "    qZZ=None,\n",
    "\n",
    "\n",
    "    # readout_cool=False,\n",
    "    readout_cool=True,\n",
    "    n_init_readout=1,\n",
    "    n_trig=1,\n",
    "    init_read_wait_us=2,\n",
    "    singleshot_reps=10000,\n",
    "    \n",
    "    # use_gf_readout=True,\n",
    "    full_mux_expt=full_mux_expt,\n",
    "    resonator_reset=resonator_reset,\n",
    ")\n",
    "\n",
    "# print(amprabiEF2.cfg)\n",
    "amprabiEF2.go(analyze=False, display=False, progress=True, save=False)"
   ]
  },
  {
   "cell_type": "code",
   "execution_count": 30,
   "metadata": {},
   "outputs": [],
   "source": [
    "post_select = False\n",
    "# post_select = True\n",
    "ps_threshold = None\n",
    "# ps_threshold = 450"
   ]
  },
  {
   "cell_type": "code",
   "execution_count": 34,
   "metadata": {},
   "outputs": [
    {
     "ename": "IndexError",
     "evalue": "too many indices for array: array is 3-dimensional, but 4 were indexed",
     "output_type": "error",
     "traceback": [
      "\u001b[1;31m---------------------------------------------------------------------------\u001b[0m",
      "\u001b[1;31mIndexError\u001b[0m                                Traceback (most recent call last)",
      "\u001b[1;32m~\\AppData\\Local\\Temp\\ipykernel_35508\\815980686.py\u001b[0m in \u001b[0;36m<module>\u001b[1;34m\u001b[0m\n\u001b[0;32m     29\u001b[0m \u001b[0mefamp_normal\u001b[0m \u001b[1;33m=\u001b[0m \u001b[1;33m(\u001b[0m\u001b[0mmax\u001b[0m\u001b[1;33m(\u001b[0m\u001b[0mamprabiEF\u001b[0m\u001b[1;33m.\u001b[0m\u001b[0mdata\u001b[0m\u001b[1;33m[\u001b[0m\u001b[0mfit_axis\u001b[0m\u001b[1;33m]\u001b[0m\u001b[1;33m)\u001b[0m \u001b[1;33m-\u001b[0m \u001b[0mmin\u001b[0m\u001b[1;33m(\u001b[0m\u001b[0mamprabiEF\u001b[0m\u001b[1;33m.\u001b[0m\u001b[0mdata\u001b[0m\u001b[1;33m[\u001b[0m\u001b[0mfit_axis\u001b[0m\u001b[1;33m]\u001b[0m\u001b[1;33m)\u001b[0m\u001b[1;33m)\u001b[0m\u001b[1;33m\u001b[0m\u001b[1;33m\u001b[0m\u001b[0m\n\u001b[0;32m     30\u001b[0m \u001b[1;33m\u001b[0m\u001b[0m\n\u001b[1;32m---> 31\u001b[1;33m \u001b[0mamprabiEF2\u001b[0m\u001b[1;33m.\u001b[0m\u001b[0manalyze\u001b[0m\u001b[1;33m(\u001b[0m\u001b[0mfit\u001b[0m\u001b[1;33m=\u001b[0m\u001b[1;32mFalse\u001b[0m\u001b[1;33m,\u001b[0m \u001b[0mpost_select\u001b[0m\u001b[1;33m=\u001b[0m\u001b[0mpost_select\u001b[0m\u001b[1;33m,\u001b[0m \u001b[0mps_threshold\u001b[0m\u001b[1;33m=\u001b[0m\u001b[0mps_threshold\u001b[0m\u001b[1;33m)\u001b[0m\u001b[1;33m\u001b[0m\u001b[1;33m\u001b[0m\u001b[0m\n\u001b[0m\u001b[0;32m     32\u001b[0m \u001b[0mamprabiEF2_data\u001b[0m \u001b[1;33m=\u001b[0m \u001b[0mamprabiEF2\u001b[0m\u001b[1;33m.\u001b[0m\u001b[0mdata\u001b[0m\u001b[1;33m[\u001b[0m\u001b[0mfit_axis\u001b[0m\u001b[1;33m]\u001b[0m\u001b[1;33m\u001b[0m\u001b[1;33m\u001b[0m\u001b[0m\n\u001b[0;32m     33\u001b[0m \u001b[1;31m# p = amprabiEF2.data[f'fit_{fit_axis}']\u001b[0m\u001b[1;33m\u001b[0m\u001b[1;33m\u001b[0m\u001b[0m\n",
      "\u001b[1;32ms:\\Connie\\experiments\\qram_tprocv1_expts\\experiments\\single_qubit\\amplitude_rabi.py\u001b[0m in \u001b[0;36manalyze\u001b[1;34m(self, data, fit, post_select, ps_threshold, fitparams)\u001b[0m\n\u001b[0;32m    330\u001b[0m             \u001b[1;31m# shots data shape: (len(self.ro_chs), self.cfg.expt.expts, 1+n_init_readout, self.cfg.expt.reps)\u001b[0m\u001b[1;33m\u001b[0m\u001b[1;33m\u001b[0m\u001b[0m\n\u001b[0;32m    331\u001b[0m             \u001b[1;31m# final_iqdata: data from the normal readout post experiment, post selected if necessary\u001b[0m\u001b[1;33m\u001b[0m\u001b[1;33m\u001b[0m\u001b[0m\n\u001b[1;32m--> 332\u001b[1;33m             \u001b[0mfinal_idata\u001b[0m \u001b[1;33m=\u001b[0m \u001b[0mdata\u001b[0m\u001b[1;33m[\u001b[0m\u001b[1;34m\"idata\"\u001b[0m\u001b[1;33m]\u001b[0m\u001b[1;33m[\u001b[0m\u001b[0mqTest\u001b[0m\u001b[1;33m,\u001b[0m \u001b[1;33m:\u001b[0m\u001b[1;33m,\u001b[0m \u001b[1;33m-\u001b[0m\u001b[1;36m1\u001b[0m\u001b[1;33m,\u001b[0m \u001b[1;33m:\u001b[0m\u001b[1;33m]\u001b[0m\u001b[1;33m\u001b[0m\u001b[1;33m\u001b[0m\u001b[0m\n\u001b[0m\u001b[0;32m    333\u001b[0m             \u001b[0mfinal_qdata\u001b[0m \u001b[1;33m=\u001b[0m \u001b[0mdata\u001b[0m\u001b[1;33m[\u001b[0m\u001b[1;34m\"qdata\"\u001b[0m\u001b[1;33m]\u001b[0m\u001b[1;33m[\u001b[0m\u001b[0mqTest\u001b[0m\u001b[1;33m,\u001b[0m \u001b[1;33m:\u001b[0m\u001b[1;33m,\u001b[0m \u001b[1;33m-\u001b[0m\u001b[1;36m1\u001b[0m\u001b[1;33m,\u001b[0m \u001b[1;33m:\u001b[0m\u001b[1;33m]\u001b[0m\u001b[1;33m\u001b[0m\u001b[1;33m\u001b[0m\u001b[0m\n\u001b[0;32m    334\u001b[0m             \u001b[0mdata\u001b[0m\u001b[1;33m[\u001b[0m\u001b[1;34m\"avgi\"\u001b[0m\u001b[1;33m]\u001b[0m \u001b[1;33m=\u001b[0m \u001b[0mnp\u001b[0m\u001b[1;33m.\u001b[0m\u001b[0maverage\u001b[0m\u001b[1;33m(\u001b[0m\u001b[0mfinal_idata\u001b[0m\u001b[1;33m,\u001b[0m \u001b[0maxis\u001b[0m\u001b[1;33m=\u001b[0m\u001b[1;36m1\u001b[0m\u001b[1;33m)\u001b[0m\u001b[1;33m\u001b[0m\u001b[1;33m\u001b[0m\u001b[0m\n",
      "\u001b[1;31mIndexError\u001b[0m: too many indices for array: array is 3-dimensional, but 4 were indexed"
     ]
    }
   ],
   "source": [
    "# TESTING\n",
    "# amprabiEF_test = meas.AmplitudeRabiExperiment(config_file=config_path,)\n",
    "# amprabiEF2 = meas.AmplitudeRabiExperiment(config_file=config_path,)\n",
    "# temp_data, attrs = prev_data(expt_path, '00004_amp_rabi_EF_qubit1.h5')\n",
    "# amprabiEF2.data = temp_data\n",
    "\n",
    "# amprabiEF2.analyze(fit=False)\n",
    "# amprabiEF2.display(fit=False)\n",
    "\n",
    "# fitparams = [None]*4\n",
    "# fitparams[1] = 2/amprabiEF2.data['xpts'][-1]\n",
    "\n",
    "# amprabiEF2_fit, amprabiEF2_fit_err = meas.fitting.get_best_fit(amprabiEF2.data)\n",
    "\n",
    "# NATURAL CONSTANTS\n",
    "h = 6.62607015e-34\n",
    "fge = 1e6*(np.reshape(amprabiEF2.cfg.device.qubit.f_ge, (4,4))[qubit_i, qubit_i] + amprabiEF2.cfg.hw.soc.dacs.qubit.mixer_freq[qubit_i])\n",
    "kB = 1.380649e-23\n",
    "################\n",
    "\n",
    "fit_axis = 'amps'\n",
    "# fit_axis = 'avgi' if post_select else 'amps'\n",
    "\n",
    "amprabiEF.analyze(fit=False, post_select=post_select, ps_threshold=ps_threshold)\n",
    "amprabiEF_data = amprabiEF.data[fit_axis]\n",
    "# amprabiEF2_data = (amprabiEF2.data[fit_axis] + temp_data[fit_axis])/2\n",
    "# p = amprabiEF.data[f'fit_{fit_axis}']\n",
    "# efamp_normal = p[0]\n",
    "efamp_normal = (max(amprabiEF.data[fit_axis]) - min(amprabiEF.data[fit_axis]))\n",
    "\n",
    "amprabiEF2.analyze(fit=False, post_select=post_select, ps_threshold=ps_threshold)\n",
    "amprabiEF2_data = amprabiEF2.data[fit_axis]\n",
    "# p = amprabiEF2.data[f'fit_{fit_axis}']\n",
    "# efamp_nopulse = p[0]\n",
    "# fit_vals = meas.fitting.sinfunc(amprabiEF.data['xpts'], *p)\n",
    "# std_dev_no_pulse = np.std(fit_vals[:10])\n",
    "# efamp_nopulse = (max(fit_vals) - min(fit_vals))-2*std_dev_no_pulse\n",
    "efamp_nopulse = (max(amprabiEF2.data[fit_axis]) - min(amprabiEF2.data[fit_axis]))\n",
    "\n",
    "# amprabiEF2.display(fit=True, fit_func='sin')\n",
    "\n",
    "print('yscale normal:', efamp_normal)\n",
    "print('yscale no pulse:', efamp_nopulse)\n",
    "\n",
    "temp = 1e3*-h*fge/(kB*np.log(efamp_nopulse/(efamp_normal+efamp_nopulse)))\n",
    "\n",
    "print(f'qubit {qubit_i}')\n",
    "print('Qubit temp [mK]:', temp)\n",
    "results_Qi.update({'Qubit temp [mK]':temp})\n",
    "print('Qubit E thermal population (%):', efamp_nopulse/efamp_normal*100)\n",
    "\n",
    "amprabiEF2.display(fit=False)\n",
    "results_Qi.update({'Qubit E thermal population (%)':efamp_nopulse/efamp_normal*100})\n",
    "print(results_Qi)"
   ]
  },
  {
   "cell_type": "code",
   "execution_count": 64,
   "metadata": {},
   "outputs": [],
   "source": [
    "if save_data: saved_files.append(amprabiEF2.save_data())"
   ]
  },
  {
   "cell_type": "markdown",
   "metadata": {},
   "source": [
    "## EF Ramsey Fringe\n",
    "Update the ef frequency in <code>cfg.qubit.f_ef</code>."
   ]
  },
  {
   "cell_type": "code",
   "execution_count": 189,
   "metadata": {},
   "outputs": [],
   "source": [
    "qubitEF_hwhm = 2\n",
    "# short_T1 = False"
   ]
  },
  {
   "cell_type": "code",
   "execution_count": 208,
   "metadata": {},
   "outputs": [
    {
     "name": "stdout",
     "output_type": "stream",
     "text": [
      "Running Ramsey EF on Q3 \n"
     ]
    },
    {
     "data": {
      "application/vnd.jupyter.widget-view+json": {
       "model_id": "65ae09eb942141f39ecbfe81ec1cf3a0",
       "version_major": 2,
       "version_minor": 0
      },
      "text/plain": [
       "  0%|          | 0/151000 [00:00<?, ?it/s]"
      ]
     },
     "metadata": {},
     "output_type": "display_data"
    }
   ],
   "source": [
    "ramseyEF_freq = max((min((np.abs(np.ceil(qubitEF_hwhm)), 3)), 2))\n",
    "\n",
    "t2EFr = meas.RamseyExperiment(\n",
    "    soccfg=soc,\n",
    "    path=expt_path,\n",
    "    prefix=\"ramseyEF\"+f\"_qubit{qubit_i}\",\n",
    "    config_file=config_path,\n",
    ")\n",
    "\n",
    "t2EFr.cfg = AttrDict(deepcopy(yaml_cfg))\n",
    "\n",
    "t2EFr.cfg.expt = dict(\n",
    "    start=0, # wait time tau [us]\n",
    "    # step=soc.cycles2us(10), # [us] make sure nyquist freq = 0.5 * (1/step) > ramsey (signal) freq!\n",
    "    step=soc.cycles2us(2), # [us] make sure nyquist freq = 0.5 * (1/step) > ramsey (signal) freq!\n",
    "    # step=0.05, # [us]\n",
    "    expts=151,\n",
    "    # ramsey_freq=ramseyEF_freq, # [MHz]\n",
    "    ramsey_freq=5.0, # [MHz]\n",
    "    checkEF=True,\n",
    "    reps=reps*rounds,\n",
    "    rounds=1,\n",
    "    qTest=qubit_i,\n",
    "    qZZ=None,\n",
    "\n",
    "    full_mux_expt=full_mux_expt,\n",
    "    resonator_reset=resonator_reset,\n",
    "    use_robust_pulses=use_robust_pulses,\n",
    ")\n",
    "\n",
    "try:\n",
    "    t2EFr.go(analyze=False, display=False, progress=True, save=False)\n",
    "except Exception:\n",
    "    print(\"Pyro traceback:\")\n",
    "    print(\"\".join(Pyro4.util.getPyroTraceback()))"
   ]
  },
  {
   "cell_type": "code",
   "execution_count": 209,
   "metadata": {},
   "outputs": [
    {
     "name": "stdout",
     "output_type": "stream",
     "text": [
      "best 1 0.12135550201556408\n",
      "Current pi pulse frequency: 4205.885958110913\n",
      "Fit frequency from amps [MHz]: 5.312776082975846 +/- 0.19097927577666232\n",
      "Suggested new pi pulse frequencies from fit amps [MHz]:\n",
      " \t4205.573182027937\n",
      " \t4195.573182027937\n",
      "T2 Ramsey from fit amps [us]: 0.2078683035714286 +/- 0.05900615911800343\n",
      "Current pi pulse frequency: 4205.885958110913\n",
      "Fit frequency from I [MHz]: 5.3276007029970005 +/- 0.19497938787625346\n",
      "Suggested new pi pulse frequency from fit I [MHz]:\n",
      " \t4205.5583574079155\n",
      " \t4195.5583574079155\n",
      "T2 Ramsey from fit I [us]: 0.2078683035714286 +/- 0.05902113089483773\n",
      "Fit frequency from Q [MHz]: 5.53030021858428 +/- 0.21194802629833834\n",
      "Suggested new pi pulse frequencies from fit Q [MHz]:\n",
      " \t4205.355657892328\n",
      " \t4195.355657892328\n",
      "T2 Ramsey from fit Q [us]: 0.2078683035714286 +/- 0.06573980089549061\n",
      "*Set qubit 3 EF freq to 4205.5583574079155*\n",
      "*New f_ef\n",
      " [[3884.96686009    0.            0.            0.        ]\n",
      " [   0.         3347.84622574    0.            0.        ]\n",
      " [4571.90564823 4571.00931937 4572.90471685    0.        ]\n",
      " [4211.70464568 4206.86958163    0.         4205.55835741]]\n",
      "*New f_ef flattened\n",
      "[3884.9668600899413, 0.0, 0.0, 0.0, 0.0, 3347.846225737386, 0.0, 0.0, 4571.9056482340775, 4571.009319367402, 4572.904716852475, 0.0, 4211.704645679207, 4206.869581627414, 0.0, 4205.5583574079155]\n",
      "[{}, {}, {'Qubit EF freq': 4572.95691115522, 'T2R EF': 18.768615111991362, 'T2R EF err': 2.6610862059433766}, {'Qubit EF freq': 4205.5583574079155, 'T2R EF': 0.2078683035714286, 'T2R EF err': 0.05902113089483773, 'Pi/2 EF pulse gain': 3329, 'T1': 55.69833035027093, 'T1 err': 2.013371053265863}]\n"
     ]
    }
   ],
   "source": [
    "# # TESTING\n",
    "# # t2EFr = meas.RamseyExperiment(config_file=config_path)\n",
    "# temp_data, attrs = prev_data(expt_path, '00000_ramsey_qubit2.h5')\n",
    "# t2EFr.data = temp_data\n",
    "\n",
    "t2EFr.analyze(fit=True)\n",
    "t2EFr_fit, t2EFr_fit_err, t2EFr_adjust = meas.fitting.get_best_fit(t2EFr.data, get_best_data_params=['f_adjust_ramsey'])\n",
    "old_qubit_freq = np.reshape(t2EFr.cfg.device.qubit.f_ef, (4,4))[qubit_i, qubit_i]\n",
    "\n",
    "if not isinstance(t2EFr_fit, (list, np.ndarray)):\n",
    "    t2EFr.display(fit=False)\n",
    "    assert False, 'Fit failed, please manually fix!'\n",
    "t2EFr.display(fit=True)\n",
    "yaml_cfg.device.qubit.f_ef = np.reshape(yaml_cfg.device.qubit.f_ef, (4,4))\n",
    "yaml_cfg.device.qubit.f_ef[qubit_i, qubit_i] = old_qubit_freq + t2EFr_adjust[0]\n",
    "alt_qubit_freq = old_qubit_freq + t2EFr_adjust[1]\n",
    "print(f'*Set qubit {qubit_i} EF freq to {yaml_cfg.device.qubit.f_ef[qubit_i, qubit_i]}*')\n",
    "results_Qi.update({'Qubit EF freq':yaml_cfg.device.qubit.f_ef[qubit_i, qubit_i] + yaml_cfg.hw.soc.dacs.qubit.mixer_freq[qubit_i]})\n",
    "print(f'*New f_ef\\n', yaml_cfg.device.qubit.f_ef)\n",
    "yaml_cfg.device.qubit.f_ef = yaml_cfg.device.qubit.f_ef.flatten().tolist()\n",
    "print(f'*New f_ef flattened\\n{yaml_cfg.device.qubit.f_ef}')\n",
    "results_Qi.update({'T2R EF':t2EFr_fit[3], 'T2R EF err':np.sqrt(t2EFr_fit_err[3][3])})\n",
    "print(all_results)"
   ]
  },
  {
   "cell_type": "code",
   "execution_count": 64,
   "metadata": {},
   "outputs": [],
   "source": [
    "if save_data: saved_files.append(t2EFr.save_data())"
   ]
  },
  {
   "cell_type": "markdown",
   "metadata": {},
   "source": [
    "## Amplitude EF Rabi round 2"
   ]
  },
  {
   "cell_type": "code",
   "execution_count": 78,
   "metadata": {},
   "outputs": [
    {
     "name": "stdout",
     "output_type": "stream",
     "text": [
      "qubit 3 pi_lenEF 0.03\n"
     ]
    }
   ],
   "source": [
    "pi_lenEF = np.reshape(yaml_cfg.device.qubit.pulses.pi_ef.sigma, (4,4))[qubit_i, qubit_i]\n",
    "# pi_lenEF = 0.030\n",
    "print('qubit', qubit_i, 'pi_lenEF', pi_lenEF)"
   ]
  },
  {
   "cell_type": "code",
   "execution_count": null,
   "metadata": {},
   "outputs": [
    {
     "name": "stdout",
     "output_type": "stream",
     "text": [
      "Running amp rabi EF on Q3 \n"
     ]
    },
    {
     "data": {
      "application/vnd.jupyter.widget-view+json": {
       "model_id": "38d650b1464441cb91c841be3d606e61",
       "version_major": 2,
       "version_minor": 0
      },
      "text/plain": [
       "  0%|          | 0/10 [00:00<?, ?it/s]"
      ]
     },
     "metadata": {},
     "output_type": "display_data"
    },
    {
     "name": "stdout",
     "output_type": "stream",
     "text": [
      "WARNING: not sure if single shot checking makes sense when there are multiple rounds of averaging... use at your own risk\n",
      "(4, 101, 100)\n"
     ]
    }
   ],
   "source": [
    "amprabiEF = meas.AmplitudeRabiExperiment(\n",
    "    soccfg=soc,\n",
    "    path=expt_path,\n",
    "    prefix=\"amp_rabi_EF\"+f\"_qubit{qubit_i}\",\n",
    "    config_file=config_path,\n",
    ")\n",
    "\n",
    "amprabiEF.cfg = AttrDict(deepcopy(yaml_cfg))\n",
    "\n",
    "span = min((32000, int(2*np.reshape(yaml_cfg.device.qubit.pulses.pi_ef.gain, (4,4))[qubit_i, qubit_i])))\n",
    "npts = 101\n",
    "\n",
    "amprabiEF.cfg.expt = dict(\n",
    "    start=1, # qubit gain [dac level]\n",
    "    step=int(span/npts), # [dac level]\n",
    "    expts=npts,\n",
    "    reps=reps,\n",
    "    rounds=rounds,\n",
    "    sigma_test=pi_lenEF, # gaussian sigma for pulse length - default from cfg [us]\n",
    "    pulse_type='gauss',\n",
    "    checkEF=True, \n",
    "    qTest=qubit_i,\n",
    "    qZZ=None,\n",
    "    resonator_reset=resonator_reset,\n",
    "    full_mux_expt=full_mux_expt,\n",
    ")\n",
    "\n",
    "# print(amprabiEF.cfg)\n",
    "amprabiEF.go(analyze=False, display=False, progress=True, save=False)"
   ]
  },
  {
   "cell_type": "code",
   "execution_count": 100,
   "metadata": {},
   "outputs": [
    {
     "name": "stdout",
     "output_type": "stream",
     "text": [
      "best 0 0.05280407148696756\n",
      "Pi gain from amps data [dac units]: 1093\n",
      "\tPi/2 gain from amps data [dac units]: 546\n",
      "Pi gain from avgi data [dac units]: 4011\n",
      "\tPi/2 gain from avgi data [dac units]: 2005\n",
      "Pi gain from avgq data [dac units]: 363\n",
      "\tPi/2 gain from avgq data [dac units]: 181\n",
      "*Set EF pi pulse sigma for qubit 3 to 0.03*\n",
      "*Set EF pi pulse gain for qubit 3 to 1093*\n",
      "*New pi_ef.gain\n",
      " [[1280    0    0    0]\n",
      " [   0 1912    0    0]\n",
      " [   0    0 6380    0]\n",
      " [ 300  300    0 1093]]\n",
      "*New pi_ef.gain flattened\n",
      "[1280, 0, 0, 0, 0, 1912, 0, 0, 0, 0, 6380, 0, 300, 300, 0, 1093]\n",
      "{'Res freq': 6971.086666666667, 'Res freq (yaml)': -278.91333333333296, 'Res kappa': 0.19749745591104786, 'Qubit freq': 4381.201533272392, 'Pi pulse gain': 1147, 'T1': 56.17688427668649, 'T1 err': 2.67362068432995, 'T2R': 53.42815301037524, 'T2R err': 7.869086115111744, 'Qubit EF freq': 4381.19346042819, 'T2R EF': 3.7111881566221205, 'T2R EF err': 0.9227106213738326, 'Pi EF pulse gain': 1093}\n"
     ]
    }
   ],
   "source": [
    "# TESTING\n",
    "# amprabiEF = meas.AmplitudeRabiExperiment(config_file=config_path,)\n",
    "# temp_data, attrs = prev_data(expt_path, '00000_amp_rabi_EF_qubit1.h5')\n",
    "# amprabiEF.data = temp_data\n",
    "\n",
    "# amprabiEF.analyze(fit=False)\n",
    "# amprabiEF.display(fit=False)\n",
    "\n",
    "amprabiEF.analyze(fit=True)\n",
    "\n",
    "amprabiEF_fit, amprabiEF_fit_err = meas.fitting.get_best_fit(amprabiEF.data)\n",
    "\n",
    "p = amprabiEF_fit\n",
    "\n",
    "if p[2] > 180: p[2] = p[2] - 360\n",
    "elif p[2] < -180: p[2] = p[2] + 360\n",
    "if p[2] < 0: pi_gain = (1/2 - p[2]/180)/2/p[1]\n",
    "else: pi_gain = (3/2 - p[2]/180)/2/p[1]\n",
    "\n",
    "if pi_gain > 32000:\n",
    "    amprabiEF.display(fit=False)\n",
    "    print('WARNING: Fit pi pulse gain is long, please double check!')\n",
    "    pi_gain = 30000\n",
    "else: amprabiEF.display(fit=True)\n",
    "\n",
    "print(f'*Set EF pi pulse sigma for qubit {qubit_i} to {np.reshape(yaml_cfg.device.qubit.pulses.pi_ef.sigma, (4,4))[qubit_i, qubit_i]}*')\n",
    "yaml_cfg.device.qubit.pulses.pi_ef.gain = np.reshape(yaml_cfg.device.qubit.pulses.pi_ef.gain, (4,4))\n",
    "yaml_cfg.device.qubit.pulses.pi_ef.gain[qubit_i, qubit_i] = int(pi_gain)\n",
    "print(f'*Set EF pi pulse gain for qubit {qubit_i} to {yaml_cfg.device.qubit.pulses.pi_ef.gain[qubit_i, qubit_i]}*')\n",
    "results_Qi.update({'Pi EF pulse gain':yaml_cfg.device.qubit.pulses.pi_ef.gain[qubit_i, qubit_i]})\n",
    "print(f'*New pi_ef.gain\\n', yaml_cfg.device.qubit.pulses.pi_ef.gain)\n",
    "yaml_cfg.device.qubit.pulses.pi_ef.gain = yaml_cfg.device.qubit.pulses.pi_ef.gain.flatten().astype(int).tolist()\n",
    "print(f'*New pi_ef.gain flattened\\n{yaml_cfg.device.qubit.pulses.pi_ef.gain}')\n",
    "print(results_Qi)"
   ]
  },
  {
   "cell_type": "code",
   "execution_count": null,
   "metadata": {},
   "outputs": [],
   "source": [
    "if save_data: saved_files.append(amprabiEF.save_data())"
   ]
  },
  {
   "cell_type": "markdown",
   "metadata": {},
   "source": [
    "## EF Ramsey Fringe Round 2\n",
    "Update the T2 EF but not the frequency"
   ]
  },
  {
   "cell_type": "code",
   "execution_count": 24,
   "metadata": {},
   "outputs": [],
   "source": [
    "# yaml_cfg.device.qubit.f_ge[qubit_i] = 145.572034953271\n",
    "# qubitEF_hwhm = 7\n",
    "# short_T1 = False"
   ]
  },
  {
   "cell_type": "code",
   "execution_count": 25,
   "metadata": {},
   "outputs": [
    {
     "name": "stdout",
     "output_type": "stream",
     "text": [
      "Running Ramsey EF on Q2 \n"
     ]
    },
    {
     "data": {
      "application/vnd.jupyter.widget-view+json": {
       "model_id": "68c7ecaae2484066881e63d71241780c",
       "version_major": 2,
       "version_minor": 0
      },
      "text/plain": [
       "  0%|          | 0/10 [00:00<?, ?it/s]"
      ]
     },
     "metadata": {},
     "output_type": "display_data"
    },
    {
     "name": "stdout",
     "output_type": "stream",
     "text": [
      "WARNING: not sure if single shot checking makes sense when there are multiple rounds of averaging... use at your own risk\n"
     ]
    }
   ],
   "source": [
    "t2EFr_2 = meas.RamseyExperiment(\n",
    "    soccfg=soc,\n",
    "    path=expt_path,\n",
    "    prefix=\"ramseyEF\"+f\"_qubit{qubit_i}\",\n",
    "    config_file=config_path,\n",
    ")\n",
    "\n",
    "t2EFr_2.cfg = AttrDict(deepcopy(yaml_cfg))\n",
    "\n",
    "t2EFr_2.cfg.expt = dict(\n",
    "    start=0, # wait time tau [us]\n",
    "    step=soc.cycles2us(80), # [us] make sure nyquist freq = 0.5 * (1/step) > ramsey (signal) freq!\n",
    "    # step=0.05, # [us]\n",
    "    expts=151,\n",
    "    ramsey_freq=ramseyEF_freq/10, # [MHz]\n",
    "    checkEF=True,\n",
    "    reps=reps,\n",
    "    rounds=rounds,\n",
    "    qTest=qubit_i,\n",
    "    qZZ=None,\n",
    ")\n",
    "\n",
    "try:\n",
    "    t2EFr_2.go(analyze=False, display=False, progress=True, save=False)\n",
    "except Exception:\n",
    "    print(\"Pyro traceback:\")\n",
    "    print(\"\".join(Pyro4.util.getPyroTraceback()))"
   ]
  },
  {
   "cell_type": "code",
   "execution_count": 26,
   "metadata": {},
   "outputs": [
    {
     "name": "stdout",
     "output_type": "stream",
     "text": [
      "Warning: fit failed with error: Optimal parameters not found: The maximum number of function evaluations is exceeded.\n",
      "best 1 0.036576327133675327\n",
      "Current pi pulse frequency: 4572.9717022650675\n",
      "Fit frequency from amps [MHz]: 0.20741349443690102 +/- 0.0008558715355503085\n",
      "Suggested new pi pulse frequencies from fit amps [MHz]:\n",
      " \t4572.96428877063\n",
      " \t4572.564288770631\n",
      "T2 Ramsey from fit amps [us]: 30.454110313987638 +/- 4.8596737393755145\n",
      "Current pi pulse frequency: 4572.9717022650675\n",
      "Fit frequency from I [MHz]: 0.20680278225332982 +/- 0.00040793370161809264\n",
      "Suggested new pi pulse frequency from fit I [MHz]:\n",
      " \t4572.964899482814\n",
      " \t4572.564899482814\n",
      "T2 Ramsey from fit I [us]: 27.060264891228364 +/- 1.8466041530100628\n",
      "Fit frequency from Q [MHz]: 0.2 +/- inf\n",
      "Suggested new pi pulse frequencies from fit Q [MHz]:\n",
      " \t4572.9717022650675\n",
      " \t4572.571702265068\n",
      "T2 Ramsey from fit Q [us]: 27.71577380952381 +/- inf\n",
      "{'T2R EF': 27.060264891228364, 'T2R EF err': 1.8466041530100628}\n"
     ]
    }
   ],
   "source": [
    "# # TESTING\n",
    "# # t2EFr_2 = meas.RamseyExperiment(config_file=config_path)\n",
    "# temp_data, attrs = prev_data(expt_path, '00000_ramsey_qubit2.h5')\n",
    "# t2EFr_2.data = temp_data\n",
    "\n",
    "t2EFr_2.analyze(fit=True)\n",
    "t2EFr_2_fit, t2EFr_2_fit_err, t2EFr_2_adjust = meas.fitting.get_best_fit(t2EFr_2.data, get_best_data_params=['f_adjust_ramsey'])\n",
    "old_qubit_freq = np.reshape(t2EFr_2.cfg.device.qubit.f_ef, (4,4))[qubit_i, qubit_i]\n",
    "\n",
    "if not isinstance(t2EFr_2_fit, (list, np.ndarray)):\n",
    "    t2EFr_2.display(fit=False)\n",
    "    assert False, 'Fit failed, please manually fix!'\n",
    "t2EFr_2.display(fit=True)\n",
    "\n",
    "if t2EFr_2_adjust[0] > ramseyEF_freq/10:\n",
    "    print('WARNING: your EF frequency is not converging!')\n",
    "else:\n",
    "    # yaml_cfg.device.qubit.f_ef = np.reshape(yaml_cfg.device.qubit.f_ef, (4,4))\n",
    "    # yaml_cfg.device.qubit.f_ef[qubit_i, qubit_i] = old_qubit_freq + t2EFr_2_adjust[0]\n",
    "    # print(f'*Set qubit {qubit_i} EF freq to {yaml_cfg.device.qubit.f_ef[qubit_i]}*')\n",
    "    # print(f'*New f_ef\\n', yaml_cfg.device.qubit.f_ef)\n",
    "    # yaml_cfg.device.qubit.f_ef = yaml_cfg.device.qubit.f_ef.flatten().tolist()\n",
    "    # print(f'*New f_ef flattened\\n{yaml_cfg.device.qubit.f_ef}')\n",
    "    results_Qi.update({'T2R EF':t2EFr_2_fit[3], 'T2R EF err':np.sqrt(t2EFr_2_fit_err[3][3])})\n",
    "    # results_Qi.update({'Qubit EF freq':yaml_cfg.device.qubit.f_ef[qubit_i] + yaml_cfg.hw.soc.dacs.qubit.mixer_freq[qubit_i]})\n",
    "    print(results_Qi)"
   ]
  },
  {
   "cell_type": "code",
   "execution_count": null,
   "metadata": {},
   "outputs": [],
   "source": [
    "if save_data: saved_files.append(t2EFr.save_data())"
   ]
  },
  {
   "cell_type": "markdown",
   "metadata": {},
   "source": [
    "## EF error amplification"
   ]
  },
  {
   "cell_type": "code",
   "execution_count": 94,
   "metadata": {},
   "outputs": [
    {
     "name": "stdout",
     "output_type": "stream",
     "text": [
      "{'device': {'readout': {'trig_offset': 150, 'lo_sideband': [1, 1, 1, 1], 'frequency': [-439.97500000000036, 0.0, 452.3682333333336, -278.91333333333296], 'gain': [0.17, 0.025, 0.25, 0.17], 'kappa_ext': [0.157, 0.065, 0.182, 0.104], 'kerr': [-0.0045, 0, 0.008, -0.003], 't_rise_reset': [0.5, 1, 0.5, 0.5], 'readout_length': [4, 4, 4, 4], 'frequency_ef': [-441.91408404503545, -1.5099337748344372, 450.44439227373095, -280.30732891832196], 'gain_ef': [0.001, 0.025, 0.25, 0.17], 'readout_length_ef': [4, 4, 4, 4], 'relax_delay': [450, 450, 450, 225.0]}, 'qubit': {'f_ge': [4111.144520031796, 4105.783958808882, 4111.0028964412795, 4110.5966963096635, 3442.9795552267146, 3448.3482722012286, 3447.233490336077, 3447.0285717924894, 4762.767009306428, 4761.793655204115, 4762.900421466317, 4762.367822139689, 4380.662337410765, 4379.890920412824, 4380.6668186549305, 4381.201533272392], 'f_ef': [3885.3117884920853, 0.0, 0.0, 0.0, 0.0, 3347.8480888529375, 0.0, 0.0, 4571.9056482340775, 4571.070566218902, 4572.9592782788795, 0.0, 4211.566315930455, 4207.17517228526, 0.0, 4381.19346042819], 'f_EgGf': [2686.53594683, 0, 2017.3, 2414.92850999], 'f_EgGf_Q_half': [0, 0, 5885.583415806947, 5132.386793750588], 'f_EgGf_Q': [0, 0, 5880.504550983305, 5132.386793750588], 'f_f0g1': [1184.4, 999.8, 1632.9833333333333, 1620.9166666666665], 'gs': [52.40296404695958, 54.81794456602636, 43.49513117058557, 4.930653352423196, 2.6415018214608046, 6.386231497692186], 'pulses': {'pi_ge': {'sigma': [0.02, 0.02, 0.02, 0.025, 0.025, 0.025, 0.025, 0.025, 0.015, 0.015, 0.015, 0.015, 0.025, 0.025, 0.025, 0.025], 'gain': [1849, 1914, 0, 1855, 2834, 2504, 2648, 2631, 9155, 9155, 9155, 9155, 599, 599, 599, 1147], 'half_gain': [1850, 1835, 1873, 1867, 2382, 2186, 2248, 2289, 9253, 9253, 9253, 9253, 524, 524, 524, 524], 'half_correction_phase': [0, 0, 0, 0, 0, 0, 0, 0, 0, 0, 0, 0, 0, 0, 0, 0], 'half_gain_pi_sigma': [927, 0, 0, 0, 0, 1315, 0, 0, 0, 0, 7212, 0, 0, 0, 0, 460], 'type': 'gauss'}, 'pi_ef': {'sigma': [0.02, 0.02, 0.02, 0.02, 0.025, 0.025, 0.025, 0.025, 0.015, 0.015, 0.015, 0.015, 0.03, 0.03, 0.03, 0.03], 'gain': [1280, 0, 0, 0, 0, 1912, 0, 0, 0, 0, 6380, 0, 300, 300, 0, 1093], 'half_gain': [1261, 0, 0, 0, 0, 1941, 0, 0, 0, 6450, 6385, 0, 334, 325, 0, 320], 'half_gain_pi_sigma': [673, 0, 0, 0, 0, 975, 0, 0, 0, 0, 5049, 0, 340, 0, 0, 337], 'type': 'gauss'}, 'pi_EgGf': {'gain': [32000, 0, 30000, 16000], 'sigma': [0.586, 0, 0.8, 0.44643], 'type': 'flat_top'}, 'pi_EgGf_Q': {'half_gain': [0, 0, 12147, 24647], 'half_sigma': [0, 0, 0.226, 0.08], 'half_phase': [0, 0, 0.0, 0.0], 'gain': [0, 0, 24647, 24647], 'sigma': [0, 0, 0.245, 0.165], 'phase': [0, 0, 85.0, 24.0], 'type': 'flat_top'}, 'pi_f0g1': {'gain': [32000, 32000, 32000, 32000], 'sigma': [0.536, 0.585, 1.54, 1.04], 'idle': [3, 6, 12, 8], 'type': 'flat_top'}, 'pulse_pp': {'gain': [1750, 3550, 0, 0], 'filename': '240920_3_qram_4q_2qubit_++gg'}, 'pulse_1p': {'gain': [3500, 4375, 0, 0], 'filename': '240920_qram_4q_2qubit_e+gg'}, 'pulse_p1': {'gain': [3000, 5530, 0, 0], 'filename': '240920_qram_4q_2qubit_+egg'}, 'pihalf_ge_robust': {'gain': [7468, 7620, 7559, 7559, 4824, 4456, 4462, 4144, 20111, 20111, 19951, 20111, 2375, 2375, 2375, 2344], 'correction_phase': [12.87392109927516, 10.05593135477756, 0, 0, 0.11174784781734694, 0.014858645143556864, 0, 0, 0, 0, 3.1921849227174155, 0, 0, 0, 0, 15.41270139026534], 'filename': ['X_2_Q0', 'X_2_Q1', 'X_2_Q2', 'X_2_Q3']}, 'pi_ge_slow': {'gain': [-1, 100, -1, -1], 'sigma': [-1, 0.25, -1, -1], 'type': 'gauss'}, 'pi_Q1_ZZ_slow': {'gain': [100, 0, -1, -1], 'sigma': [0.25, 0, -1, -1], 'type': 'gauss'}}}}, 'hw': {'soc': {'dacs': {'qubit': {'ch': [0, 1, 2, 3], 'type': 'full', 'nyquist': [2, 1, 2, 2], 'mixer_freq': [0, 0, 0, 0]}, 'swap': {'ch': 1, 'type': 'full', 'nyquist': 1, 'mixer_freq': 0}, 'swap_f0g1': {'ch': [1, 1, 5, 5], 'type': ['full', 'full', 'full', 'full'], 'nyquist': 1, 'mixer_freq': 0}, 'swap_Q': {'ch': [0, -1, 2, 3], 'type': ['full', 'None', 'full', 'full'], 'nyquist': [2, 0, 2, 2], 'mixer_freq': 0}, 'readout': {'ch': [6, 4, 6, 6], 'full_mux_chs': [5, 4, 5, 5], 'type': ['mux4', 'full', 'mux4', 'mux4'], 'mixer_freq': [7250, 5795.8115578931565, 7250, 7250], 'nyquist': [2, 2, 2, 2]}, 'res_pump': {'ch': 4, 'type': 'full', 'mixer_freq': 0, 'nyquist': 2}, 'delay_chs': {'ch': [0, 1, 2, 3, 4, 5, 6], 'delay_ns': [0.0, 2.0, 2.0, 0.0, 25, 24, 73]}}, 'adcs': {'readout': {'ch': [0, 1, 2, 3]}}}, 'lo': {'twpa': {'frequency': '8210.0e6', 'power': -1.5}, 'readout': {'frequency': 0, 'power': 0}}}, 'aliases': {'readout_LO': 'SC_20A1', 'twpa_LO': 'SC_26C1', 'soc': 'Qick_QRAM'}, 'expt': {'start': 0, 'step': 1, 'expts': 10, 'reps': 1000, 'loops': 10, 'pulse_type': 'gauss', 'checkEF': True, 'qTest': 3, 'qZZ': None, 'test_pi_half': False, 'error_amp': True, 'resonator_reset': [0, 2, 3], 'full_mux_expt': True, 'post_process': 'scale', 'singleshot_reps': 15000}}\n"
     ]
    },
    {
     "data": {
      "application/vnd.jupyter.widget-view+json": {
       "model_id": "62267695033a4736821dcf50c9214622",
       "version_major": 2,
       "version_minor": 0
      },
      "text/plain": [
       "  0%|          | 0/2 [00:00<?, ?it/s]"
      ]
     },
     "metadata": {},
     "output_type": "display_data"
    },
    {
     "name": "stdout",
     "output_type": "stream",
     "text": [
      "Qubit  (3)\n",
      "g unrotated averages:\n",
      "Amps 474.855206456419 +/- 385.44830677901336\n",
      "e unrotated averages:\n",
      "Amps 1254.0064285520539 +/- 442.2000705777346\n",
      "ge fidelity (%): 72.42574438295885 \t angle (deg): 0.0 \t threshold ge: 759.4211635666827\n"
     ]
    },
    {
     "data": {
      "application/vnd.jupyter.widget-view+json": {
       "model_id": "01f0658434d24e60bc01f455553f51a9",
       "version_major": 2,
       "version_minor": 0
      },
      "text/plain": [
       "  0%|          | 0/10 [00:00<?, ?it/s]"
      ]
     },
     "metadata": {},
     "output_type": "display_data"
    },
    {
     "name": "stderr",
     "output_type": "stream",
     "text": [
      "RuntimeWarning: divide by zero encountered in divide\n",
      " s:\\Connie\\experiments\\qram_tprocv1_expts\\experiments\\clifford_averager_program.py: 1877"
     ]
    }
   ],
   "source": [
    "npulsecalibEF = meas.NPulseExperiment(\n",
    "    soccfg=soc,\n",
    "    path=expt_path,\n",
    "    prefix=f\"NPulseExptEFQ{qubit_i}\",\n",
    "    config_file=config_path,\n",
    ")\n",
    "\n",
    "npulsecalibEF.cfg = AttrDict(deepcopy(yaml_cfg))\n",
    "npulsecalibEF.cfg.expt = dict(\n",
    "    start=0, # number gate repetitions\n",
    "    step=1,\n",
    "    expts=10,\n",
    "    reps=1000,\n",
    "    loops=10,\n",
    "    pulse_type='gauss',\n",
    "    checkEF=True, \n",
    "    qTest=qubit_i,\n",
    "    qZZ=None,\n",
    "    test_pi_half=False,\n",
    "    error_amp=True,\n",
    "    resonator_reset=resonator_reset,\n",
    "    full_mux_expt=full_mux_expt,\n",
    "\n",
    "    post_process='scale',\n",
    "    singleshot_reps=15000,\n",
    "    # singleshot_reps=1000,\n",
    ")\n",
    "\n",
    "print(npulsecalibEF.cfg)\n",
    "try:\n",
    "    npulsecalibEF.acquire(progress=True, debug=False)\n",
    "except Exception:\n",
    "    print(\"Pyro traceback:\")\n",
    "    print(\"\".join(Pyro4.util.getPyroTraceback()))"
   ]
  },
  {
   "cell_type": "code",
   "execution_count": 95,
   "metadata": {},
   "outputs": [
    {
     "name": "stdout",
     "output_type": "stream",
     "text": [
      "fitparams [None, 0.017453292519943295]\n",
      "Attempted to init fitparam 0 to 0.0, which is out of bounds 0.0 to 0.0. Instead init to 0.0\n",
      "Warning: fit failed with error: Each lower bound must be strictly less than each upper bound.\n",
      "From amps: adjust amplitude to 320 / 0.9978554230773876 = 320.68773952555125\n",
      "From avgi: adjust amplitude to 320 / 0.9978554230773876 = 320.68773952555125\n",
      "From avgq: adjust amplitude to 320 / 0.999903037263778 = 320.03103108444986\n",
      "*Set EF pi pulse gain for qubit 3 to 1095*\n",
      "*New pi_ef.gain\n",
      " [[1280    0    0    0]\n",
      " [   0 1912    0    0]\n",
      " [   0    0 6380    0]\n",
      " [ 300  300    0 1095]]\n",
      "*New pi_ef.gain flattened\n",
      "[1280, 0, 0, 0, 0, 1912, 0, 0, 0, 0, 6380, 0, 300, 300, 0, 1095]\n",
      "{'Res freq': 6971.086666666667, 'Res freq (yaml)': -278.91333333333296, 'Res kappa': 0.19749745591104786, 'Qubit freq': 4381.201533272392, 'Pi pulse gain': 1147, 'T1': 56.17688427668649, 'T1 err': 2.67362068432995, 'T2R': 53.42815301037524, 'T2R err': 7.869086115111744, 'Qubit EF freq': 4381.19346042819, 'T2R EF': 23.803256694009963, 'T2R EF err': 6.133913126035808, 'Pi EF pulse gain': 1095}\n"
     ]
    }
   ],
   "source": [
    "# # TESTING\n",
    "# temp_data, attrs = prev_data(expt_path, '00000_voltage_sweep_qubit_spectroscopy_qubit3.h5')\n",
    "# data = lengthrabi.analyze(data=temp_data, fit=True)\n",
    "\n",
    "data = npulsecalibEF.data\n",
    "npulsecalibEF.analyze(fit=True)\n",
    "npulsecalibEF.display(fit=True)\n",
    "\n",
    "# npulsecalib_fit, npulsecalib_fit_err = meas.fitting.get_best_fit(npulsecalibEF.data)\n",
    "fit_axis = 'avgi'\n",
    "npulsecalibEF_fit = data[f'fit_{fit_axis}']\n",
    "npulsecalibEF_fit_err = data[f'fit_err_{fit_axis}']\n",
    "\n",
    "angle_err = npulsecalibEF_fit[1]\n",
    "amp_ratio = (180 - angle_err) / 180\n",
    "new_amp_ef = np.reshape(npulsecalibEF.cfg.device.qubit.pulses.pi_ef.gain, (4,4))[qubit_i, qubit_i] / amp_ratio\n",
    "\n",
    "yaml_cfg.device.qubit.pulses.pi_ef.gain = np.reshape(yaml_cfg.device.qubit.pulses.pi_ef.gain, (4,4))\n",
    "yaml_cfg.device.qubit.pulses.pi_ef.gain[qubit_i, qubit_i] = int(round(new_amp_ef))\n",
    "print(f'*Set EF pi pulse gain for qubit {qubit_i} to {yaml_cfg.device.qubit.pulses.pi_ef.gain[qubit_i, qubit_i]}*')\n",
    "results_Qi.update({'Pi EF pulse gain':yaml_cfg.device.qubit.pulses.pi_ef.gain[qubit_i, qubit_i]})\n",
    "print(f'*New pi_ef.gain\\n', yaml_cfg.device.qubit.pulses.pi_ef.gain)\n",
    "yaml_cfg.device.qubit.pulses.pi_ef.gain = yaml_cfg.device.qubit.pulses.pi_ef.gain.flatten().tolist()\n",
    "print(f'*New pi_ef.gain flattened\\n{yaml_cfg.device.qubit.pulses.pi_ef.gain}')\n",
    "print(results_Qi)"
   ]
  },
  {
   "cell_type": "code",
   "execution_count": null,
   "metadata": {},
   "outputs": [],
   "source": [
    "if save_data: npulsecalibEF.save_data()"
   ]
  },
  {
   "cell_type": "markdown",
   "metadata": {},
   "source": [
    "## (Divide len) Calibrate EF $\\pi/2$ pulse\n",
    "this is mostly only for RB"
   ]
  },
  {
   "cell_type": "markdown",
   "metadata": {},
   "source": [
    "### Amplitude rabi for EF $\\pi/2$ pulse (divide len)"
   ]
  },
  {
   "cell_type": "code",
   "execution_count": 204,
   "metadata": {},
   "outputs": [
    {
     "name": "stdout",
     "output_type": "stream",
     "text": [
      "qubit 3 pi_lenEF 0.03\n"
     ]
    }
   ],
   "source": [
    "pi_lenEF = np.reshape(yaml_cfg.device.qubit.pulses.pi_ef.sigma, (4,4))[qubit_i, qubit_i]\n",
    "# pi_len = 0.008\n",
    "print('qubit', qubit_i, 'pi_lenEF', pi_lenEF)"
   ]
  },
  {
   "cell_type": "code",
   "execution_count": 205,
   "metadata": {},
   "outputs": [],
   "source": [
    "divide_len = True"
   ]
  },
  {
   "cell_type": "code",
   "execution_count": 206,
   "metadata": {},
   "outputs": [
    {
     "name": "stdout",
     "output_type": "stream",
     "text": [
      "Running amp rabi EF on Q3 \n",
      "Calibrating robust pulse\n"
     ]
    },
    {
     "data": {
      "application/vnd.jupyter.widget-view+json": {
       "model_id": "ad8bf077f8ae4ce6844aaf1cf2624e95",
       "version_major": 2,
       "version_minor": 0
      },
      "text/plain": [
       "  0%|          | 0/10 [00:00<?, ?it/s]"
      ]
     },
     "metadata": {},
     "output_type": "display_data"
    },
    {
     "name": "stdout",
     "output_type": "stream",
     "text": [
      "WARNING: not sure if single shot checking makes sense when there are multiple rounds of averaging... use at your own risk\n",
      "(4, 151, 100)\n"
     ]
    }
   ],
   "source": [
    "amprabi_4 = meas.AmplitudeRabiExperiment(\n",
    "    soccfg=soc,\n",
    "    path=expt_path,\n",
    "    prefix=f\"amp_rabi_qubit{qubit_i}\",\n",
    "    config_file=config_path,\n",
    ")\n",
    "amprabi_4.cfg = AttrDict(deepcopy(yaml_cfg))\n",
    "\n",
    "n_pulses = 1\n",
    "span = min((32000, int(1.5*np.reshape(yaml_cfg.device.qubit.pulses.pi_ef.gain, (4,4))[qubit_i, qubit_i])))\n",
    "npts = 151\n",
    "    \n",
    "amprabi_4.cfg.expt = dict(\n",
    "    start=0, # qubit gain [dac level]\n",
    "    step=int(span/npts), # [dac level]\n",
    "    expts=npts,\n",
    "    reps=reps,\n",
    "    # reps=5,\n",
    "    rounds=rounds,\n",
    "    sigma_test=pi_lenEF, # gaussian sigma for pulse length - overrides config [us]\n",
    "    pulse_type='gauss' if not use_robust_pulses else 'robust', # EF pulse will always be gauss, need this because will throw an error otherwise even if only using robust for the g\n",
    "    n_pulses=n_pulses,\n",
    "    test_pi_half=True,\n",
    "    divide_len=divide_len,\n",
    "    qTest=qubit_i,\n",
    "    qZZ=None,\n",
    "    checkEF=True, \n",
    "\n",
    "    full_mux_expt=full_mux_expt,\n",
    "    resonator_reset=resonator_reset,\n",
    "    use_robust_pulses=use_robust_pulses,\n",
    ")\n",
    "amprabi_4.go(analyze=False, display=False, progress=True, save=False)"
   ]
  },
  {
   "cell_type": "code",
   "execution_count": 207,
   "metadata": {},
   "outputs": [
    {
     "name": "stdout",
     "output_type": "stream",
     "text": [
      "best 1 0.18129534648810813\n",
      "Pi gain from amps data [dac units]: 3276\n",
      "\tPi/2 gain from amps data [dac units]: 1638\n",
      "Pi gain from avgi data [dac units]: 3329\n",
      "\tPi/2 gain from avgi data [dac units]: 1664\n",
      "Pi gain from avgq data [dac units]: 3410\n",
      "\tPi/2 gain from avgq data [dac units]: 1705\n",
      "*Set pi/2 EF pulse gain for qubit 3 to 3329*\n",
      "*New pi_ef.half_gain\n",
      " [[1243    0    0    0]\n",
      " [   0 1945    0    0]\n",
      " [   0 6472 6401    0]\n",
      " [1427 1601    0 3329]]\n",
      "*New pi_ef.half_gain flattened\n",
      "[1243, 0, 0, 0, 0, 1945, 0, 0, 0, 6472, 6401, 0, 1427, 1601, 0, 3329]\n",
      "{'Qubit EF freq': 4205.885958110913, 'T2R EF': 1.039341517857143, 'T2R EF err': 0.3388830542258965, 'Pi/2 EF pulse gain': 3329, 'T1': 55.69833035027093, 'T1 err': 2.013371053265863}\n"
     ]
    }
   ],
   "source": [
    "# # TESTING\n",
    "# # amprabi_4 = meas.AmplitudeRabiExperiment(config_file=config_path,)\n",
    "# temp_data, attrs = prev_data(expt_path, '00000_amp_rabi_qubit0.h5')\n",
    "# amprabi_4.data = temp_data\n",
    "\n",
    "amprabi_4.analyze(fit=True)\n",
    "\n",
    "amprabi_4_fit, amprabi_4_fit_err = meas.fitting.get_best_fit(amprabi_4.data)\n",
    "\n",
    "p = amprabi_4_fit\n",
    "if p[2] > 180: p[2] = p[2] - 360\n",
    "elif p[2] < -180: p[2] = p[2] + 360\n",
    "if p[2] < 0: pi_gain = (1/2 - p[2]/180)/2/p[1]\n",
    "else: pi_gain = (3/2 - p[2]/180)/2/p[1]\n",
    "\n",
    "if pi_gain > 32000:\n",
    "    amprabi_4.display(fit=False)\n",
    "    print(f'WARNING: Fit pi/2 pulse gain is long ({pi_gain}), please double check!')\n",
    "    pi_gain = 30000\n",
    "else: amprabi_4.display(fit=True)\n",
    "\n",
    "yaml_cfg.device.qubit.pulses.pi_ef.half_gain = np.reshape(yaml_cfg.device.qubit.pulses.pi_ef.half_gain, (4,4))\n",
    "yaml_cfg.device.qubit.pulses.pi_ef.half_gain[qubit_i, qubit_i] = int(pi_gain)\n",
    "print(f'*Set pi/2 EF pulse gain for qubit {qubit_i} to {yaml_cfg.device.qubit.pulses.pi_ef.half_gain[qubit_i, qubit_i]}*')\n",
    "results_Qi.update({'Pi/2 EF pulse gain':yaml_cfg.device.qubit.pulses.pi_ef.half_gain[qubit_i, qubit_i]})\n",
    "print(f'*New pi_ef.half_gain\\n', yaml_cfg.device.qubit.pulses.pi_ef.half_gain)\n",
    "yaml_cfg.device.qubit.pulses.pi_ef.half_gain = yaml_cfg.device.qubit.pulses.pi_ef.half_gain.flatten().astype(int).tolist()\n",
    "print(f'*New pi_ef.half_gain flattened\\n{yaml_cfg.device.qubit.pulses.pi_ef.half_gain}')\n",
    "print(results_Qi)"
   ]
  },
  {
   "cell_type": "code",
   "execution_count": null,
   "metadata": {},
   "outputs": [],
   "source": [
    "if save_data: saved_files.append(amprabi_4.save_data())"
   ]
  },
  {
   "cell_type": "markdown",
   "metadata": {},
   "source": [
    "### EF $\\pi/2$, -$\\pi/2$ experiment"
   ]
  },
  {
   "cell_type": "code",
   "execution_count": 19,
   "metadata": {},
   "outputs": [
    {
     "name": "stdout",
     "output_type": "stream",
     "text": [
      "{'device': {'readout': {'trig_offset': 150, 'lo_sideband': [1, 1, 1, 1], 'frequency': [-439.97500000000036, 0.0, 452.3682333333336, -278.89999999999964], 'gain': [0.1, 0.025, 0.25, 0.17], 'kappa_ext': [0.157, 0.065, 0.182, 0.104], 'kerr': [-0.0045, 0, 0.008, -0.003], 't_rise_reset': [0.5, 1, 0.5, 0.5], 'readout_length': [4, 4, 4, 4], 'frequency_ef': [-439.97500000000036, 0.0, 450.44439227373095, -280.30732891832196], 'readout_length_ef': 4, 'relax_delay': [450, 450, 450, 450]}, 'qubit': {'f_ge': [4111.141143385073, 4105.786145933962, 4110.958153299016, 4110.546407850519, 3442.9770233041277, 3448.328289144873, 3447.060317317807, 3446.4929792801067, 4762.761504132457, 4761.823567235975, 4762.898928901032, 4762.369813422167, 4380.698604555338, 4379.604868123916, 4380.717837106693, 4381.175711440575], 'f_ef': [3884.6269161242526, 0.0, 0.0, 0.0, 0.0, 3348.085433174199, 0.0, 0.0, 4571.9056482340775, 4570.996526541673, 4573.168610947125, 0.0, 4211.566315930455, 4205.61697813965, 0.0, 4209.925086260656], 'f_EgGf': [2686.53594683, 0, 2017.3, 2414.92850999], 'f_EgGf_Q': [0, 0, 5885.340063874975, 5133.519916163953], 'f_f0g1': [1184.4, 999.8, 1632.9833333333333, 1620.9166666666665], 'gs': [52.40296404695958, 54.81794456602636, 43.49513117058557, 4.930653352423196, 2.6415018214608046, 6.386231497692186], 'pulses': {'pi_ge': {'sigma': [0.02, 0.02, 0.02, 0.02, 0.025, 0.025, 0.025, 0.025, 0.015, 0.015, 0.015, 0.015, 0.025, 0.025, 0.025, 0.025], 'gain': [1849, 1914, 0, 1855, 2834, 2504, 2648, 2631, 9155, 9155, 9155, 9155, 599, 599, 599, 599], 'half_gain': [1850, 1835, 1873, 1867, 2382, 2186, 2248, 2289, 9253, 9253, 9253, 9253, 524, 524, 524, 524], 'half_correction_phase': [0, 0, 0, 0, 0, 0, 0, 0, 0, 0, 0, 0, 0, 0, 0, 0], 'half_gain_pi_sigma': [927, 0, 0, 0, 0, 1315, 0, 0, 0, 0, 7212, 0, 0, 0, 0, 460], 'type': 'gauss'}, 'pi_ef': {'sigma': [0.02, 0.02, 0.02, 0.02, 0.025, 0.025, 0.025, 0.025, 0.015, 0.015, 0.015, 0.015, 0.03, 0.03, 0.03, 0.03], 'gain': [1280, 0, 0, 0, 0, 1912, 0, 0, 0, 0, 0, 0, 300, 300, 0, 300], 'half_gain': [1261, 0, 0, 0, 0, 1941, 0, 0, 0, 0, 6385, 0, 334, 334, 0, 320], 'half_gain_pi_sigma': [673, 0, 0, 0, 0, 975, 0, 0, 0, 0, 5049, 0, 340, 0, 0, 337], 'type': 'gauss'}, 'pi_EgGf': {'gain': [32000, 0, 30000, 16000], 'sigma': [0.586, 0, 0.8, 0.44643], 'type': 'flat_top'}, 'pi_EgGf_Q': {'gain': [0, 0, 12147, 24647], 'sigma': [0, 0, 0.438, 0.158], 'phase': [0, 0, 18.0, 24.0], 'half_sigma': [0, 0, 0.212, 0.172], 'half_phase': [0, 0, 18.0, 21.0], 'type': 'flat_top'}, 'pi_f0g1': {'gain': [32000, 32000, 32000, 32000], 'sigma': [0.536, 0.585, 1.54, 1.04], 'idle': [3, 6, 12, 8], 'type': 'flat_top'}, 'pulse_pp': {'gain': [1750, 3550, 0, 0], 'filename': '240920_3_qram_4q_2qubit_++gg'}, 'pulse_1p': {'gain': [3500, 4375, 0, 0], 'filename': '240920_qram_4q_2qubit_e+gg'}, 'pulse_p1': {'gain': [3000, 5530, 0, 0], 'filename': '240920_qram_4q_2qubit_+egg'}, 'pihalf_ge_robust': {'gain': [7468, 7620, 7559, 7559, 4824, 4456, 4462, 4144, 20111, 20111, 19951, 20111, 2375, 2375, 2375, 2344], 'correction_phase': [12.87392109927516, 10.05593135477756, 0, 0, 0.11174784781734694, 0.014858645143556864, 0, 0, 0, 0, 3.1921849227174155, 0, 0, 0, 0, 15.41270139026534], 'filename': ['X_2_Q0', 'X_2_Q1', 'X_2_Q2', 'X_2_Q3']}, 'pi_ge_slow': {'gain': [-1, 100, -1, -1], 'sigma': [-1, 0.25, -1, -1], 'type': 'gauss'}, 'pi_Q1_ZZ_slow': {'gain': [100, 0, -1, -1], 'sigma': [0.25, 0, -1, -1], 'type': 'gauss'}}}}, 'hw': {'soc': {'dacs': {'qubit': {'ch': [0, 1, 2, 3], 'type': 'full', 'nyquist': [2, 1, 2, 2], 'mixer_freq': [0, 0, 0, 0]}, 'swap': {'ch': 1, 'type': 'full', 'nyquist': 1, 'mixer_freq': 0}, 'swap_f0g1': {'ch': [1, 1, 5, 5], 'type': ['full', 'full', 'full', 'full'], 'nyquist': 1, 'mixer_freq': 0}, 'swap_Q': {'ch': [0, -1, 2, 3], 'type': ['full', 'None', 'full', 'full'], 'nyquist': [2, 0, 2, 2], 'mixer_freq': 0}, 'readout': {'ch': [6, 4, 6, 6], 'full_mux_chs': [5, 4, 5, 5], 'type': ['mux4', 'full', 'mux4', 'mux4'], 'mixer_freq': [7250, 5795.8115578931565, 7250, 7250], 'nyquist': [2, 2, 2, 2]}, 'res_pump': {'ch': 4, 'type': 'full', 'mixer_freq': 0, 'nyquist': 2}, 'delay_chs': {'ch': [0, 1, 2, 3, 4, 5, 6], 'delay_ns': [4.0, 0.0, 5.0, 3.0, 25, 60, 71]}}, 'adcs': {'readout': {'ch': [0, 1, 2, 3]}}}, 'lo': {'twpa': {'frequency': '8210.0e6', 'power': -1.5}, 'readout': {'frequency': 0, 'power': 0}}}, 'aliases': {'readout_LO': 'SC_20A1', 'twpa_LO': 'SC_26C1', 'soc': 'Qick_QRAM'}, 'expt': {'start_N': 0, 'step_N': 4, 'expts_N': 10, 'start_f': 4208.925086260656, 'step_f': 0.05714285714285714, 'expts_f': 36, 'reps': 750, 'loops': 1, 'pulse_type': 'gauss', 'checkEF': True, 'qTest': 3, 'qZZ': None, 'test_pi_half': True, 'divide_len': True, 'post_process': 'threshold', 'singleshot_reps': 15000, 'full_mux_expt': True, 'resonator_reset': [0, 2, 3]}}\n"
     ]
    },
    {
     "data": {
      "application/vnd.jupyter.widget-view+json": {
       "model_id": "d8a52166f6e5422aba93b47ee31720a5",
       "version_major": 2,
       "version_minor": 0
      },
      "text/plain": [
       "  0%|          | 0/2 [00:00<?, ?it/s]"
      ]
     },
     "metadata": {},
     "output_type": "display_data"
    },
    {
     "name": "stdout",
     "output_type": "stream",
     "text": [
      "Qubit  (3)\n",
      "ge fidelity (%): 74.23333333333333 \t angle (deg): 0.0 \t threshold ge: 764.3224091008224\n"
     ]
    },
    {
     "data": {
      "application/vnd.jupyter.widget-view+json": {
       "model_id": "82355a01af7542b09bce964f94feade8",
       "version_major": 2,
       "version_minor": 0
      },
      "text/plain": [
       "  0%|          | 0/10 [00:00<?, ?it/s]"
      ]
     },
     "metadata": {},
     "output_type": "display_data"
    },
    {
     "ename": "",
     "evalue": "",
     "output_type": "error",
     "traceback": [
      "\u001b[1;31mThe Kernel crashed while executing code in the current cell or a previous cell. \n",
      "\u001b[1;31mPlease review the code in the cell(s) to identify a possible cause of the failure. \n",
      "\u001b[1;31mClick <a href='https://aka.ms/vscodeJupyterKernelCrash'>here</a> for more info. \n",
      "\u001b[1;31mView Jupyter <a href='command:jupyter.viewOutput'>log</a> for further details."
     ]
    }
   ],
   "source": [
    "piminuspi_EF = meas.PiMinusPiExperiment(\n",
    "    soccfg=soc,\n",
    "    path=expt_path,\n",
    "    prefix=f\"PiMinusPi_EFExpt{qubit_i}\",\n",
    "    config_file=config_path,\n",
    ")\n",
    "\n",
    "span_f = 2.0\n",
    "npts_f = 35\n",
    "# npts_f = 50\n",
    "\n",
    "# span_f = 0.0\n",
    "# npts_f = 1\n",
    "\n",
    "piminuspi_EF.cfg = AttrDict(deepcopy(yaml_cfg))\n",
    "piminuspi_EF.cfg.expt = dict(\n",
    "    start_N=0, # number gate repetitions\n",
    "    # step_N=5,\n",
    "    # step_N=2,\n",
    "    # expts_N=15,\n",
    "    step_N=4,\n",
    "    expts_N=10,\n",
    "    start_f=piminuspi_EF.cfg.device.qubit.f_ef[qubit_i*4 + qubit_i]-span_f/2,\n",
    "    step_f=span_f/npts_f,\n",
    "    expts_f=npts_f+1,\n",
    "    reps=int(0.75*reps*rounds),\n",
    "    loops=1,\n",
    "    # reps=int(2*reps*rounds),\n",
    "    # loops=5,\n",
    "    pulse_type='gauss',\n",
    "\n",
    "    checkEF=True,\n",
    "    qTest=qubit_i,\n",
    "    qZZ=None,\n",
    "\n",
    "    # use_Y=True,\n",
    "\n",
    "    test_pi_half=True,\n",
    "    divide_len=divide_len,\n",
    "\n",
    "    post_process='threshold',\n",
    "    singleshot_reps=15000,\n",
    "\n",
    "    full_mux_expt=full_mux_expt,\n",
    "    resonator_reset=resonator_reset,\n",
    ")\n",
    "\n",
    "print(piminuspi_EF.cfg)\n",
    "try:\n",
    "    piminuspi_EF.acquire(progress=True, debug=False)\n",
    "except Exception:\n",
    "    print(\"Pyro traceback:\")\n",
    "    print(\"\".join(Pyro4.util.getPyroTraceback()))"
   ]
  },
  {
   "cell_type": "code",
   "execution_count": 143,
   "metadata": {},
   "outputs": [
    {
     "name": "stdout",
     "output_type": "stream",
     "text": [
      "Fit best freq 4573.168610947125 which is 0.08048936338036583 away from old freq 4573.088121583744\n",
      "*Set qubit 2 EF freq to 4573.168610947125*\n",
      "{'Res freq': 7702.328233333334, 'Res freq (yaml)': 452.32823333333357, 'Res kappa': 0.2819786993431654, 'Res chi shift (e - g)': -0.943708609271539, 'Res chi shift (f - g)': -1.9172185430463742, 'Res freq ef (yaml)': 450.4510147902872, 'Pi/2 EF pulse gain': 6385, 'Qubit EF freq': 4573.168610947125}\n",
      "*New f_ef\n",
      " [[3884.62691612    0.            0.            0.        ]\n",
      " [   0.         3348.08543317    0.            0.        ]\n",
      " [4571.90564823 4570.99652654 4573.16861095    0.        ]\n",
      " [4211.61773253 4205.61697814    0.         4209.92508626]]\n",
      "*New f_ef flattened\n",
      "[3884.6269161242526, 0.0, 0.0, 0.0, 0.0, 3348.085433174199, 0.0, 0.0, 4571.9056482340775, 4570.996526541673, 4573.168610947125, 0.0, 4211.617732525247, 4205.61697813965, 0.0, 4209.925086260656]\n"
     ]
    }
   ],
   "source": [
    "# # TESTING\n",
    "# temp_data, attrs = prev_data('s:\\Connie\\experiments\\qramLL_4QR2\\data\\data_240617\\\\00000_PiMinusPi_EFExpt0.h5')\n",
    "# piminuspi_EF.data =  temp_data\n",
    "# piminuspi_EF.cfg = AttrDict(attrs['config'])\n",
    "\n",
    "\n",
    "data = piminuspi_EF.data\n",
    "\n",
    "# piminuspi_EF.analyze(fit=False)\n",
    "# plt.figure()\n",
    "# plt.plot(data['cycle_sweep'], data['avgi'][:,0], '.-')\n",
    "# plt.xlabel('N Cycles $(\\pi/2, -\\pi/2)^N$')\n",
    "# plt.ylabel('Avg I')\n",
    "# plt.show()\n",
    "\n",
    "piminuspi_EF.analyze(fit=True)\n",
    "piminuspi_EF.display(fit=True)\n",
    "\n",
    "yaml_cfg.device.qubit.f_ef = np.reshape(yaml_cfg.device.qubit.f_ef, (4,4))\n",
    "yaml_cfg.device.qubit.f_ef[qubit_i, qubit_i] = data[\"best_freq\"]\n",
    "results_Qi.update({'Qubit EF freq':yaml_cfg.device.qubit.f_ef[qubit_i, qubit_i] + yaml_cfg.hw.soc.dacs.qubit.mixer_freq[qubit_i]})\n",
    "print(f'*Set qubit {qubit_i} EF freq to {yaml_cfg.device.qubit.f_ef[qubit_i, qubit_i]}*')\n",
    "print(results_Qi)\n",
    "print(f'*New f_ef\\n', yaml_cfg.device.qubit.f_ef)\n",
    "yaml_cfg.device.qubit.f_ef = yaml_cfg.device.qubit.f_ef.flatten().tolist()\n",
    "print(f'*New f_ef flattened\\n{yaml_cfg.device.qubit.f_ef}')"
   ]
  },
  {
   "cell_type": "code",
   "execution_count": null,
   "metadata": {},
   "outputs": [],
   "source": [
    "if save_data: piminuspi.save_data()"
   ]
  },
  {
   "cell_type": "markdown",
   "metadata": {},
   "source": [
    "### EF $\\pi/2$ error amplification (divide len)"
   ]
  },
  {
   "cell_type": "code",
   "execution_count": 115,
   "metadata": {},
   "outputs": [],
   "source": [
    "divide_len = True"
   ]
  },
  {
   "cell_type": "code",
   "execution_count": 138,
   "metadata": {},
   "outputs": [
    {
     "name": "stdout",
     "output_type": "stream",
     "text": [
      "{'device': {'readout': {'trig_offset': 150, 'lo_sideband': [1, 1, 1, 1], 'frequency': [-439.97500000000036, 0.0, 452.3682333333336, -278.89999999999964], 'gain': [0.17, 0.035, 0.25, 0.17], 'kappa_ext': [0.157, 0.065, 0.182, 0.104], 'kerr': [-0.0045, 0, 0.008, -0.003], 't_rise_reset': [0.5, 1, 0.5, 0.5], 'readout_length': [4, 4, 4, 4], 'frequency_ef': [-439.97500000000036, 0.0, 450.44439227373095, -280.30732891832196], 'readout_length_ef': 4, 'relax_delay': [450, 450, 450, 450]}, 'qubit': {'f_ge': [4111.097866562327, 4105.838904759637, 4110.958153299016, 4110.546407850519, 3442.8755721075536, 3448.5530242338505, 3447.060317317807, 3446.4929792801067, 4762.761504132457, 4761.823567235975, 4762.909473544484, 4762.369813422167, 4380.698604555338, 4379.604868123916, 4380.717837106693, 4381.248121020163], 'f_ge_robust': [4114.313815659153, 4108.147701523904, 4114.310372455052, 4114.310372455052, 3443.0032303441935, 3448.345849629168, 0, 0, 4763.941, 4763.941, 4763.941, 4763.941, 4384.25034225973, 4384.25034225973, 4384.25034225973, 4384.25034225973], 'f_ef': [3884.6269161242526, 0.0, 0.0, 0.0, 0.0, 3348.085433174199, 0.0, 0.0, 4571.9056482340775, 4570.996526541673, 4573.088121583744, 0.0, 4211.617732525247, 4205.61697813965, 0.0, 4209.925086260656], 'f_EgGf': [2686.53594683, 0, 2017.3, 2414.92850999], 'f_EgGf_Q': [0, 0, 5885.340063874975, 5133.519916163953], 'f_f0g1': [1184.4, 999.8, 1632.9833333333333, 1620.9166666666665], 'gs': [52.40296404695958, 54.81794456602636, 43.49513117058557, 4.930653352423196, 2.6415018214608046, 6.386231497692186], 'pulses': {'pi_ge': {'sigma': [0.02, 0.02, 0.02, 0.02, 0.025, 0.025, 0.025, 0.025, 0.015, 0.015, 0.015, 0.015, 0.025, 0.025, 0.025, 0.025], 'gain': [1849, 1914, 0, 1855, 2834, 2504, 2648, 2631, 9155, 9155, 9155, 9155, 599, 599, 599, 599], 'half_gain': [1856, 1835, 1873, 1867, 2382, 2186, 2248, 2289, 9253, 9253, 9253, 9253, 524, 524, 524, 524], 'half_correction_phase': [0, 0, 0, 0, 0, 0, 0, 0, 0, 0, 0, 0, 0, 0, 0, 0, 0], 'half_gain_pi_sigma': [927, 0, 0, 0, 0, 1315, 0, 0, 0, 0, 7212, 0, 0, 0, 0, 460], 'type': 'gauss'}, 'pi_ef': {'sigma': [0.02, 0.02, 0.02, 0.02, 0.025, 0.025, 0.025, 0.025, 0.015, 0.015, 0.015, 0.015, 0.03, 0.03, 0.03, 0.03], 'gain': [1280, 0, 0, 0, 0, 1912, 0, 0, 0, 0, 0, 0, 300, 300, 0, 300], 'half_gain': [1261, 0, 0, 0, 0, 1941, 0, 0, 0, 0, 6378, 0, 340, 340, 0, 320], 'half_gain_pi_sigma': [673, 0, 0, 0, 0, 975, 0, 0, 0, 0, 5049, 0, 340, 0, 0, 337], 'type': 'gauss'}, 'pi_EgGf': {'gain': [32000, 0, 30000, 16000], 'sigma': [0.586, 0, 0.8, 0.44643], 'type': 'flat_top'}, 'pi_EgGf_Q': {'gain': [0, 0, 12147, 24647], 'sigma': [0, 0, 0.438, 0.158], 'phase': [0, 0, 18.0, 24.0], 'half_sigma': [0, 0, 0.212, 0.172], 'half_phase': [0, 0, 18.0, 21.0], 'type': 'flat_top'}, 'pi_f0g1': {'gain': [32000, 32000, 32000, 32000], 'sigma': [0.536, 0.585, 1.54, 1.04], 'idle': [3, 6, 12, 8], 'type': 'flat_top'}, 'pulse_pp': {'gain': [1750, 3550, 0, 0], 'filename': '240920_3_qram_4q_2qubit_++gg'}, 'pulse_1p': {'gain': [3500, 4375, 0, 0], 'filename': '240920_qram_4q_2qubit_e+gg'}, 'pulse_p1': {'gain': [3000, 5530, 0, 0], 'filename': '240920_qram_4q_2qubit_+egg'}, 'pihalf_ge_robust': {'gain': [7559, 7660, 7559, 7559, 4843, 4462, 4462, 4144, 20111, 20111, 20111, 20111, 2375, 2375, 2375, 2375], 'filename': ['X_2_Q0', 'X_2_Q1', 'X_2_Q2', 'X_2_Q3']}, 'pi_ge_slow': {'gain': [-1, 100, -1, -1], 'sigma': [-1, 0.25, -1, -1], 'type': 'gauss'}, 'pi_Q1_ZZ_slow': {'gain': [100, 0, -1, -1], 'sigma': [0.25, 0, -1, -1], 'type': 'gauss'}}}}, 'hw': {'soc': {'dacs': {'qubit': {'ch': [0, 1, 2, 3], 'type': 'full', 'nyquist': [2, 1, 2, 2], 'mixer_freq': [0, 0, 0, 0]}, 'swap': {'ch': 1, 'type': 'full', 'nyquist': 1, 'mixer_freq': 0}, 'swap_f0g1': {'ch': [1, 1, 5, 5], 'type': ['full', 'full', 'full', 'full'], 'nyquist': 1, 'mixer_freq': 0}, 'swap_Q': {'ch': [0, -1, 2, 3], 'type': ['full', 'None', 'full', 'full'], 'nyquist': [2, 0, 2, 2], 'mixer_freq': 0}, 'readout': {'ch': [6, 4, 6, 6], 'full_mux_chs': [5, 4, 5, 5], 'type': ['mux4', 'full', 'mux4', 'mux4'], 'mixer_freq': [7250, 5795.8115578931565, 7250, 7250], 'nyquist': [2, 2, 2, 2]}, 'res_pump': {'ch': 4, 'type': 'full', 'mixer_freq': 0, 'nyquist': 2}, 'delay_chs': {'ch': [0, 1, 2, 3, 4, 5, 6], 'delay_ns': [4.0, 0.0, 5.0, 3.0, 25, 60, 71]}}, 'adcs': {'readout': {'ch': [0, 1, 2, 3]}}}, 'lo': {'twpa': {'frequency': '8210.0e6', 'power': -1.5}, 'readout': {'frequency': 0, 'power': 0}}}, 'aliases': {'readout_LO': 'SC_20A1', 'twpa_LO': 'SC_26C1', 'soc': 'Qick_QRAM'}, 'expt': {'start': 0, 'step': 1, 'expts': 10, 'reps': 1000, 'loops': 5, 'pulse_type': 'gauss', 'test_pi_half': True, 'divide_len': True, 'error_amp': True, 'checkEF': True, 'qTest': 2, 'qZZ': None, 'readout_ge': True, 'post_process': 'scale', 'singleshot_reps': 15000, 'full_mux_expt': True, 'resonator_reset': [0, 2, 3], 'use_robust_pulses': True}}\n"
     ]
    },
    {
     "data": {
      "application/vnd.jupyter.widget-view+json": {
       "model_id": "7276e2a08fd44c65be70d0a9c4dd9f2e",
       "version_major": 2,
       "version_minor": 0
      },
      "text/plain": [
       "  0%|          | 0/2 [00:00<?, ?it/s]"
      ]
     },
     "metadata": {},
     "output_type": "display_data"
    },
    {
     "name": "stdout",
     "output_type": "stream",
     "text": [
      "Qubit  (2)\n",
      "g unrotated averages:\n",
      "Amps 118.20467411805085 +/- 57.38787388991945\n",
      "e unrotated averages:\n",
      "Amps 279.91002155643014 +/- 67.09894931806625\n",
      "ge fidelity (%): 81.78613640909393 \t angle (deg): 0.0 \t threshold ge: 196.18055470399742\n",
      "thresholds=[0, 0, 196.18055470399742, 0],\n",
      "angles=[0, 0, 0.0, 0],\n",
      "ge_avgs=[array([0., 0., 0., 0.]), array([0., 0., 0., 0.]), array([118.20467412,   0.        , 279.91002156,   0.        ]), array([0., 0., 0., 0.])],\n",
      "counts_calib=[[13720.0, 1280.0], [1456.0, 13544.0]]\n"
     ]
    },
    {
     "data": {
      "application/vnd.jupyter.widget-view+json": {
       "model_id": "c1b911436847423c90a1ee424d784d2d",
       "version_major": 2,
       "version_minor": 0
      },
      "text/plain": [
       "  0%|          | 0/5 [00:00<?, ?it/s]"
      ]
     },
     "metadata": {},
     "output_type": "display_data"
    },
    {
     "name": "stderr",
     "output_type": "stream",
     "text": [
      "RuntimeWarning: divide by zero encountered in divide\n",
      " s:\\Connie\\experiments\\qram_tprocv1_expts\\experiments\\clifford_averager_program.py: 1822"
     ]
    }
   ],
   "source": [
    "npulsecalib_efhalf = meas.NPulseExperiment(\n",
    "    soccfg=soc,\n",
    "    path=expt_path,\n",
    "    prefix=f\"NPulseExptEF_half_Q{qubit_i}\",\n",
    "    config_file=config_path,\n",
    ")\n",
    "\n",
    "npulsecalib_efhalf.cfg = AttrDict(deepcopy(yaml_cfg))\n",
    "npulsecalib_efhalf.cfg.expt = dict(\n",
    "    start=0, # number gate repetitions\n",
    "    step=1,\n",
    "    expts=10,\n",
    "    reps=1000,\n",
    "    # loops=20,\n",
    "    loops=5,\n",
    "    pulse_type='gauss',\n",
    "    test_pi_half=True,\n",
    "    divide_len=divide_len,\n",
    "    error_amp=True,\n",
    "\n",
    "    checkEF=True,\n",
    "    qTest=qubit_i,\n",
    "    qZZ=None,\n",
    "\n",
    "    # readout_ge=False, # whether to readout at the g/e set point (True) or e/f set point (False)\n",
    "    readout_ge=True, # whether to readout at the g/e set point (True) or e/f set point (False)\n",
    "\n",
    "    post_process='scale',\n",
    "    # post_process=None,\n",
    "    singleshot_reps=15000,\n",
    "\n",
    "    full_mux_expt=full_mux_expt,\n",
    "    resonator_reset=resonator_reset,\n",
    "\n",
    "    use_robust_pulses=True,\n",
    ")\n",
    "\n",
    "print(npulsecalib_efhalf.cfg)\n",
    "import Pyro4.util\n",
    "try:\n",
    "    npulsecalib_efhalf.acquire(progress=True, debug=True)\n",
    "except Exception:\n",
    "    print(\"Pyro traceback:\")\n",
    "    print(\"\".join(Pyro4.util.getPyroTraceback()))"
   ]
  },
  {
   "cell_type": "code",
   "execution_count": 144,
   "metadata": {},
   "outputs": [
    {
     "name": "stdout",
     "output_type": "stream",
     "text": [
      "fitparams [None, 0.017453292519943295]\n",
      "Attempted to init fitparam 0 to 0.0, which is out of bounds 0.0 to 0.0. Instead init to 0.0\n",
      "Warning: fit failed with error: Each lower bound must be strictly less than each upper bound.\n",
      "From amps: adjust amplitude to 6378 / 0.9989780638148239 = 6384.524576690065\n",
      "From avgi: adjust amplitude to 6378 / 0.9989780638148239 = 6384.524576690065\n",
      "From avgq: adjust amplitude to 6378 / 1.000193925472444 = 6376.76338314826\n",
      "*Set pi/2 EF pulse gain for qubit 2 to 6385*\n",
      "*New pi_ef.half_gain\n",
      " [[1261    0    0    0]\n",
      " [   0 1941    0    0]\n",
      " [   0    0 6385    0]\n",
      " [ 340  340    0  320]]\n",
      "*New pi_ef.half_gain flattened\n",
      "[1261, 0, 0, 0, 0, 1941, 0, 0, 0, 0, 6385, 0, 340, 340, 0, 320]\n",
      "{'Res freq': 7702.328233333334, 'Res freq (yaml)': 452.32823333333357, 'Res kappa': 0.2819786993431654, 'Res chi shift (e - g)': -0.943708609271539, 'Res chi shift (f - g)': -1.9172185430463742, 'Res freq ef (yaml)': 450.4510147902872, 'Pi/2 EF pulse gain': 6385, 'Qubit EF freq': 4573.168610947125}\n"
     ]
    }
   ],
   "source": [
    "# # TESTING\n",
    "# temp_data, attrs = prev_data(expt_path, '00000_voltage_sweep_qubit_spectroscopy_qubit3.h5')\n",
    "# data = lengthrabi.analyze(data=temp_data, fit=True)\n",
    "\n",
    "data = npulsecalib_efhalf.data\n",
    "npulsecalib_efhalf.analyze(fit=True, scale=None)\n",
    "npulsecalib_efhalf.display(fit=True, scale=None)\n",
    "\n",
    "# npulsecalib_efhalf_fit, npulsecalib_efhalf_fit_err = meas.fitting.get_best_fit(npulsecalib_efhalf.data)\n",
    "fit_axis = 'avgi'\n",
    "npulsecalib_efhalf_fit = data[f'fit_{fit_axis}']\n",
    "npulsecalib_efhalf_fit_err = data[f'fit_err_{fit_axis}']\n",
    "\n",
    "angle_err = npulsecalib_efhalf_fit[1]\n",
    "amp_ratio = (90 - angle_err)/90\n",
    "new_amp_half_ef = np.reshape(npulsecalib_efhalf.cfg.device.qubit.pulses.pi_ef.half_gain, (4,4))[qubit_i, qubit_i] / amp_ratio\n",
    "\n",
    "yaml_cfg.device.qubit.pulses.pi_ef.half_gain = np.reshape(yaml_cfg.device.qubit.pulses.pi_ef.half_gain, (4,4))\n",
    "yaml_cfg.device.qubit.pulses.pi_ef.half_gain[qubit_i, qubit_i] = int(round(new_amp_half_ef))\n",
    "print(f'*Set pi/2 EF pulse gain for qubit {qubit_i} to {yaml_cfg.device.qubit.pulses.pi_ef.half_gain[qubit_i, qubit_i]}*')\n",
    "results_Qi.update({'Pi/2 EF pulse gain':yaml_cfg.device.qubit.pulses.pi_ef.half_gain[qubit_i, qubit_i]})\n",
    "print(f'*New pi_ef.half_gain\\n', yaml_cfg.device.qubit.pulses.pi_ef.half_gain)\n",
    "yaml_cfg.device.qubit.pulses.pi_ef.half_gain = yaml_cfg.device.qubit.pulses.pi_ef.half_gain.flatten().astype(int).tolist()\n",
    "print(f'*New pi_ef.half_gain flattened\\n{yaml_cfg.device.qubit.pulses.pi_ef.half_gain}')\n",
    "print(results_Qi)"
   ]
  },
  {
   "cell_type": "code",
   "execution_count": null,
   "metadata": {},
   "outputs": [],
   "source": [
    "if save_data: npulsecalib_efhalf.save_data()"
   ]
  },
  {
   "cell_type": "markdown",
   "metadata": {},
   "source": [
    "## (Divide gain) Calibrate EF $\\pi/2$ pulse"
   ]
  },
  {
   "cell_type": "markdown",
   "metadata": {},
   "source": [
    "### Amplitude rabi for EF $\\pi/2$ pulse (divide gain) (use this for RB)"
   ]
  },
  {
   "cell_type": "code",
   "execution_count": null,
   "metadata": {},
   "outputs": [],
   "source": [
    "pi_lenEF = np.reshape(yaml_cfg.device.qubit.pulses.pi_ef.sigma, (4,4))[qubit_i, qubit_i]\n",
    "# pi_len = 0.008\n",
    "print('qubit', qubit_i, 'pi_lenEF', pi_lenEF)"
   ]
  },
  {
   "cell_type": "code",
   "execution_count": null,
   "metadata": {},
   "outputs": [],
   "source": [
    "divide_len = False"
   ]
  },
  {
   "cell_type": "code",
   "execution_count": null,
   "metadata": {},
   "outputs": [],
   "source": [
    "amprabi_4 = meas.AmplitudeRabiExperiment(\n",
    "    soccfg=soc,\n",
    "    path=expt_path,\n",
    "    prefix=f\"amp_rabi_qubit{qubit_i}\",\n",
    "    config_file=config_path,\n",
    ")\n",
    "amprabi_4.cfg = AttrDict(deepcopy(yaml_cfg))\n",
    "\n",
    "n_pulses = 1\n",
    "span = min((32000, int(1.5*0.5*np.reshape(yaml_cfg.device.qubit.pulses.pi_ef.gain, (4,4))[qubit_i, qubit_i])))\n",
    "npts = 151\n",
    "    \n",
    "amprabi_4.cfg.expt = dict(\n",
    "    start=0, # qubit gain [dac level]\n",
    "    step=int(span/npts), # [dac level]\n",
    "    expts=npts,\n",
    "    reps=reps,\n",
    "    # reps=5,\n",
    "    rounds=rounds,\n",
    "    sigma_test=pi_lenEF, # gaussian sigma for pulse length - overrides config [us]\n",
    "    pulse_type='gauss',\n",
    "    checkEF=True, \n",
    "    n_pulses=n_pulses,\n",
    "    test_pi_half=True,\n",
    "    divide_len=divide_len,\n",
    "    qTest=qubit_i,\n",
    "    qZZ=None,\n",
    ")\n",
    "amprabi_4.go(analyze=False, display=False, progress=True, save=False)"
   ]
  },
  {
   "cell_type": "code",
   "execution_count": null,
   "metadata": {},
   "outputs": [],
   "source": [
    "# # TESTING\n",
    "# # amprabi_4 = meas.AmplitudeRabiExperiment(config_file=config_path,)\n",
    "# temp_data, attrs = prev_data(expt_path, '00000_amp_rabi_qubit0.h5')\n",
    "# amprabi_4.data = temp_data\n",
    "\n",
    "amprabi_4.analyze(fit=True)\n",
    "\n",
    "amprabi_4_fit, amprabi_4_fit_err = meas.fitting.get_best_fit(amprabi_4.data)\n",
    "\n",
    "p = amprabi_4_fit\n",
    "if p[2] > 180: p[2] = p[2] - 360\n",
    "elif p[2] < -180: p[2] = p[2] + 360\n",
    "if p[2] < 0: pi_gain = (1/2 - p[2]/180)/2/p[1]\n",
    "else: pi_gain = (3/2 - p[2]/180)/2/p[1]\n",
    "\n",
    "if pi_gain > 32000:\n",
    "    amprabi_4.display(fit=False)\n",
    "    print(f'WARNING: Fit pi/2 pulse gain is long ({pi_gain}), please double check!')\n",
    "    pi_gain = 30000\n",
    "else: amprabi_4.display(fit=True)\n",
    "\n",
    "yaml_cfg.device.qubit.pulses.pi_ef.half_gain_pi_sigma = np.reshape(yaml_cfg.device.qubit.pulses.pi_ef.half_gain_pi_sigma, (4,4))\n",
    "yaml_cfg.device.qubit.pulses.pi_ef.half_gain_pi_sigma[qubit_i, qubit_i] = int(pi_gain)\n",
    "print(f'*Set EF pi/2 pulse gain for qubit {qubit_i} to {yaml_cfg.device.qubit.pulses.pi_ef.half_gain_pi_sigma[qubit_i, qubit_i]}*')\n",
    "results_Qi.update({'Pi/2 EF pulse gain':yaml_cfg.device.qubit.pulses.pi_ef.half_gain_pi_sigma[qubit_i, qubit_i]})\n",
    "print(f'*New pi_ef.half_gain_pi_sigma\\n', yaml_cfg.device.qubit.pulses.pi_ef.half_gain_pi_sigma)\n",
    "yaml_cfg.device.qubit.pulses.pi_ef.half_gain_pi_sigma = yaml_cfg.device.qubit.pulses.pi_ef.half_gain_pi_sigma.flatten().astype(int).tolist()\n",
    "print(f'*New pi_ef.half_gain_pi_sigma flattened\\n{yaml_cfg.device.qubit.pulses.pi_ef.half_gain_pi_sigma}')\n",
    "print(results_Qi)"
   ]
  },
  {
   "cell_type": "code",
   "execution_count": null,
   "metadata": {},
   "outputs": [],
   "source": [
    "if save_data: saved_files.append(amprabi_4.save_data())"
   ]
  },
  {
   "cell_type": "markdown",
   "metadata": {},
   "source": [
    "### EF $\\pi/2$ error amplification (divide gain)\n",
    "\n",
    "this is mostly only necessary for RB"
   ]
  },
  {
   "cell_type": "code",
   "execution_count": null,
   "metadata": {},
   "outputs": [],
   "source": [
    "divide_len = False"
   ]
  },
  {
   "cell_type": "code",
   "execution_count": null,
   "metadata": {},
   "outputs": [],
   "source": [
    "npulsecalib_efhalf = meas.NPulseExperiment(\n",
    "    soccfg=soc,\n",
    "    path=expt_path,\n",
    "    prefix=f\"NPulseExptEF_half_Q{qubit_i}\",\n",
    "    config_file=config_path,\n",
    ")\n",
    "\n",
    "npulsecalib_efhalf.cfg = AttrDict(deepcopy(yaml_cfg))\n",
    "npulsecalib_efhalf.cfg.expt = dict(\n",
    "    start=0, # number gate repetitions\n",
    "    step=1,\n",
    "    expts=10,\n",
    "    reps=1000,\n",
    "    loops=20,\n",
    "    pulse_type='gauss',\n",
    "    test_pi_half=True,\n",
    "    divide_len=divide_len,\n",
    "    error_amp=True,\n",
    "\n",
    "    checkEF=True, \n",
    "    qTest=qubit_i,\n",
    "    qZZ=None,\n",
    "\n",
    "    readout_ge=False, # whether to readout at the g/e set point (True) or e/f set point (False)\n",
    "\n",
    "    post_process='scale',\n",
    "    singleshot_reps=15000,\n",
    ")\n",
    "\n",
    "print(npulsecalib_efhalf.cfg)\n",
    "import Pyro4.util\n",
    "try:\n",
    "    npulsecalib_efhalf.go(analyze=False, display=False, progress=True, save=False)\n",
    "except Exception:\n",
    "    print(\"Pyro traceback:\")\n",
    "    print(\"\".join(Pyro4.util.getPyroTraceback()))"
   ]
  },
  {
   "cell_type": "code",
   "execution_count": null,
   "metadata": {},
   "outputs": [],
   "source": [
    "# # TESTING\n",
    "# temp_data, attrs = prev_data(expt_path, '00000_voltage_sweep_qubit_spectroscopy_qubit3.h5')\n",
    "# data = lengthrabi.analyze(data=temp_data, fit=True)\n",
    "\n",
    "data = npulsecalib_efhalf.data\n",
    "npulsecalib_efhalf.analyze(fit=True, scale=None)\n",
    "npulsecalib_efhalf.display(fit=True, scale=None)\n",
    "\n",
    "# npulsecalib_efhalf_fit, npulsecalib_efhalf_fit_err = meas.fitting.get_best_fit(npulsecalib_efhalf.data)\n",
    "fit_axis = 'avgi'\n",
    "npulsecalib_efhalf_fit = data[f'fit_{fit_axis}']\n",
    "npulsecalib_efhalf_fit_err = data[f'fit_err_{fit_axis}']\n",
    "\n",
    "angle_err = npulsecalib_efhalf_fit[1]\n",
    "amp_ratio = (90 - angle_err)/90\n",
    "new_amp_half_ef = np.reshape(npulsecalib_efhalf.cfg.device.qubit.pulses.pi_ef.half_gain_pi_sigma, (4,4))[qubit_i, qubit_i] / amp_ratio\n",
    "\n",
    "yaml_cfg.device.qubit.pulses.pi_ef.half_gain_pi_sigma = np.reshape(yaml_cfg.device.qubit.pulses.pi_ef.half_gain_pi_sigma, (4,4))\n",
    "yaml_cfg.device.qubit.pulses.pi_ef.half_gain_pi_sigma[qubit_i, qubit_i] = int(round(new_amp_half_ef))\n",
    "print(f'*Set pi/2 pulse gain for qubit {qubit_i} to {yaml_cfg.device.qubit.pulses.pi_ef.half_gain_pi_sigma[qubit_i, qubit_i]}*')\n",
    "results_Qi.update({'Pi/2 pulse gain':yaml_cfg.device.qubit.pulses.pi_ef.half_gain_pi_sigma[qubit_i, qubit_i]})\n",
    "print(f'*New pi_ef.half_gain_pi_sigma\\n', yaml_cfg.device.qubit.pulses.pi_ef.half_gain_pi_sigma)\n",
    "yaml_cfg.device.qubit.pulses.pi_ef.half_gain_pi_sigma = yaml_cfg.device.qubit.pulses.pi_ef.half_gain_pi_sigma.flatten().astype(int).tolist()\n",
    "print(f'*New pi_ef.half_gain_pi_sigma flattened\\n{yaml_cfg.device.qubit.pulses.pi_ef.half_gain_pi_sigma}')\n",
    "print(results_Qi)"
   ]
  },
  {
   "cell_type": "code",
   "execution_count": null,
   "metadata": {},
   "outputs": [],
   "source": [
    "if save_data: npulsecalib_efhalf.save_data()"
   ]
  },
  {
   "cell_type": "markdown",
   "metadata": {},
   "source": [
    "## Resonator chi shift (e/f)"
   ]
  },
  {
   "cell_type": "code",
   "execution_count": 36,
   "metadata": {},
   "outputs": [
    {
     "data": {
      "application/vnd.jupyter.widget-view+json": {
       "model_id": "4e48c0f31b884bb38ba3d06399a482dd",
       "version_major": 2,
       "version_minor": 0
      },
      "text/plain": [
       "  0%|          | 0/151 [00:00<?, ?it/s]"
      ]
     },
     "metadata": {},
     "output_type": "display_data"
    }
   ],
   "source": [
    "rspecEF_chi = meas.ResonatorSpectroscopyExperiment(\n",
    "    soccfg=soc,\n",
    "    path=expt_path,\n",
    "    prefix=f\"resonator_spectroscopy_chi_qubit{qubit_i}\",\n",
    "    config_file=config_path,\n",
    ")\n",
    "rspecEF_chi.cfg = AttrDict(deepcopy(yaml_cfg))\n",
    "\n",
    "span = 1.5 # MHz\n",
    "npts = 151\n",
    "rspecEF_chi.cfg.expt = dict(\n",
    "    start=rspecEF_chi.cfg.device.readout.frequency[qubit_i]-abs(results_Qi['Res chi shift (e - g)'])-span, # [MHz]\n",
    "    # start=rspecEF_chi.cfg.device.readout.frequency[qubit_i]-span/2, # [MHz]\n",
    "    step=span/npts,\n",
    "    expts=npts,\n",
    "    reps=reps*rounds,\n",
    "    pulse_e=True, # add ge pi pulse prior to measurement\n",
    "    pulse_f=True, # add ef pi pulse prior to measurement\n",
    "    qTest=qubit_i,\n",
    "    qZZ=None,\n",
    "\n",
    "    full_mux_expt=full_mux_expt,\n",
    "    resonator_reset=resonator_reset,\n",
    ")\n",
    "\n",
    "# rspecEF_chi.cfg.device.readout.gain[qubit_i] /= 2\n",
    "rspecEF_chi.cfg.device.readout.gain = rspecEF_chi.cfg.device.readout.gain_ef\n",
    "# rspecEF_chi.cfg.device.readout.relax_delay = 100 # Wait time between experiments [us]\n",
    "rspecEF_chi.go(analyze=False, display=False, progress=True, save=False)"
   ]
  },
  {
   "cell_type": "code",
   "execution_count": 37,
   "metadata": {},
   "outputs": [
    {
     "name": "stdout",
     "output_type": "stream",
     "text": [
      "electrical delay phase correction (no mux support) (deg) -6.43294603013481\n",
      "param guess [6969.6, 34848.0, 34848.0, 0, -0.038507939283982044, 0.9015028307304147]\n",
      "param bounds ([6968.864900662252, 0, 0, -6.283185307179586, -0.05776190892597306, -inf], [6970.335099337749, 1000000000.0, 100000000.0, 6.283185307179586, 0.05776190892597306, 1.0233088387647726])\n",
      "popt [ 6.96958147e+03  5.10160795e+04  8.16981033e+04  1.56183812e-01\n",
      " -2.48879274e-02 -2.49383477e-02]\n",
      "\n",
      "Freq with minimum transmission: -280.39006622516524\n",
      "Freq with maximum transmission: -281.135099337748\n",
      "From fit:\n",
      "\tf0: 6969.581466448218\n",
      "\tQi: 51016.07954771201 \t kappa_i/2pi: 0.13661538730999553\n",
      "\tQe: 81698.10330206447 \t kappa_e/2pi: 0.08530897517509566\n",
      "\tQ0: 31405.211164756332\n",
      "\tkappa [MHz]: 0.2219243624850912\n",
      "\tphi [radians]: 0.15618381215071592\n",
      "baseline 1547.2960155922258\n",
      "ef chi shift -1.4801324503311548\n",
      "Res freq ef: -280.3801324503308\n",
      "[{'Res chi shift (e - g)': -1.0033112582781314, 'Res chi shift (f - g)': -1.939084045035088, 'Res freq ef (yaml)': -441.91408404503545}, {'Res chi shift (e - g)': -0.7450331125827814, 'Res chi shift (f - g)': -1.5, 'Res freq ef (yaml)': -1.5}, {}, {'Res chi shift (e - g)': -0.7450331125828029, 'Res chi shift (f - g)': -1.4801324503311548, 'Res freq ef (yaml)': -280.3801324503308}]\n"
     ]
    }
   ],
   "source": [
    "# # TESTING\n",
    "# # rspecEF_chi = meas.ResonatorSpectroscopyExperiment(config_file=config_path,) \n",
    "# temp_data, attrs = prev_data(expt_path, '00001_resonator_spectroscopy_qubit2.h5')\n",
    "# rspecEF_chi.data = temp_data\n",
    "\n",
    "rspecEF_chi.data = rspecEF_chi.analyze(fit=True)\n",
    "rspecEF_chi_fit = rspecEF_chi.data['fit']\n",
    "rspecEF_chi.display(fit=True)\n",
    "# res_freq_f = rspecEF_chi_fit[0] - yaml_cfg.hw.soc.dacs.readout.mixer_freq[qubit_i]\n",
    "res_freq_f = rspecEF_chi.data['xpts'][np.argmin(rspecEF_chi.data['amps'])]\n",
    "print('ef chi shift', yaml_cfg.device.readout.lo_sideband[qubit_i]*(res_freq_f - yaml_cfg.device.readout.frequency[qubit_i]))\n",
    "results_Qi.update({'Res chi shift (f - g)': yaml_cfg.device.readout.lo_sideband[qubit_i]*(res_freq_f - yaml_cfg.device.readout.frequency[qubit_i])})\n",
    "results_Qi.update({'Res freq ef (yaml)':res_freq_f})\n",
    "\n",
    "print('Res freq ef:', res_freq_f)\n",
    "\n",
    "# yaml_cfg.device.readout.frequency_ef = [0]*4\n",
    "yaml_cfg.device.readout.frequency_ef[qubit_i] = res_freq_f\n",
    "# res_freq_f = 6953.5\n",
    "print(all_results)"
   ]
  },
  {
   "cell_type": "code",
   "execution_count": null,
   "metadata": {},
   "outputs": [],
   "source": [
    "if save_data: saved_files.append(rspecEF_chi.save_data())"
   ]
  },
  {
   "cell_type": "markdown",
   "metadata": {},
   "source": [
    "## $T_1$ EF"
   ]
  },
  {
   "cell_type": "code",
   "execution_count": 137,
   "metadata": {},
   "outputs": [
    {
     "data": {
      "application/vnd.jupyter.widget-view+json": {
       "model_id": "b9ca348760294ea7b022aac2ecd6d2b5",
       "version_major": 2,
       "version_minor": 0
      },
      "text/plain": [
       "  0%|          | 0/484000 [00:00<?, ?it/s]"
      ]
     },
     "metadata": {},
     "output_type": "display_data"
    }
   ],
   "source": [
    "t1EF = meas.T1Experiment(\n",
    "    soccfg=soc,\n",
    "    path=expt_path,\n",
    "    prefix=f\"t1EF_qubit{qubit_i}\",\n",
    "    config_file=config_path,\n",
    ")\n",
    "t1EF.cfg = AttrDict(deepcopy(yaml_cfg))\n",
    "\n",
    "span = 100\n",
    "npts = 121\n",
    "\n",
    "t1EF.cfg.expt = dict(\n",
    "    start=0, # wait time [us]\n",
    "    step=span/npts,\n",
    "    expts=npts,\n",
    "    reps=reps*rounds*4,\n",
    "    rounds=1,\n",
    "    qTest=qubit_i,\n",
    "    qZZ=None,\n",
    "    # qZZ=0,\n",
    "    checkEF=True,\n",
    "\n",
    "    full_mux_expt=full_mux_expt,\n",
    "    resonator_reset=resonator_reset,\n",
    ")\n",
    "\n",
    "# for q in range(4):\n",
    "#     if q != qubit_i:\n",
    "#         t1EF.cfg.device.readout.gain[q] = 1e-4\n",
    "\n",
    "t1EF.cfg.device.readout.relax_delay = span # Wait time between experiments [us]\n",
    "t1EF.go(analyze=False, display=False, progress=True, save=False)"
   ]
  },
  {
   "cell_type": "code",
   "execution_count": 138,
   "metadata": {},
   "outputs": [
    {
     "name": "stdout",
     "output_type": "stream",
     "text": [
      "best 0 113353.36745871502\n",
      "Fit T1 amps [us]: 21.222524604661047\n",
      "Fit T1 avgi [us]: 20.052374595554404\n",
      "Fit T1 avgq [us]: 29.517732509264814\n",
      "*Set readout 3 relax delay to 85.0*\n",
      "qubit 3 {'Pi pulse gain': 14360, 'Qubit freq': 4381.135527846996, 'Res freq': 6971.153333333334, 'Res freq (yaml)': -228.84666666666666, 'Res kappa': 0.20149515995222483, 'Pi/2 pulse gain': 3120, 'Single shot g-e fidelity (%)': 2.2249999999999934, 'T1_EF': 21.222524604661047, 'T1_EF err': 1.2097921499036397}\n"
     ]
    }
   ],
   "source": [
    "# # TESTING\n",
    "# # t1EF = meas.T1Experiment(config_file=config_path,)\n",
    "# temp_data, attrs = prev_data(expt_path, '00000_t1EF_qubit1.h5')\n",
    "# t1EF.data = temp_data\n",
    "\n",
    "t1EF.analyze(fit_log=False)\n",
    "\n",
    "t1EF_fit, t1EF_fit_err = meas.fitting.get_best_fit(t1EF.data) #, fitter.expfunc)\n",
    "\n",
    "t1EF.display(fit=True, fit_log=False)\n",
    "t1EF_qubit = t1EF_fit[3]\n",
    "yaml_cfg.device.readout.relax_delay[qubit_i] = np.round(4*t1EF_qubit)\n",
    "print(f'*Set readout {qubit_i} relax delay to {yaml_cfg.device.readout.relax_delay[qubit_i]}*')\n",
    "results_Qi.update({'T1_EF':t1EF_qubit, 'T1_EF err':np.sqrt(t1EF_fit_err[3][3])})\n",
    "print(f'qubit {qubit_i}', results_Qi)"
   ]
  },
  {
   "cell_type": "code",
   "execution_count": null,
   "metadata": {},
   "outputs": [],
   "source": [
    "if save_data: saved_files.append(t1.save_data())"
   ]
  },
  {
   "cell_type": "markdown",
   "metadata": {},
   "source": [
    "# Single Shot"
   ]
  },
  {
   "cell_type": "code",
   "execution_count": 18,
   "metadata": {},
   "outputs": [],
   "source": [
    "import yaml\n",
    "with open(config_path, 'r') as cfg_file:\n",
    "    yaml_cfg = yaml.safe_load(cfg_file)\n",
    "yaml_cfg = AttrDict(yaml_cfg)"
   ]
  },
  {
   "cell_type": "markdown",
   "metadata": {},
   "source": [
    "## Single shot optimization"
   ]
  },
  {
   "cell_type": "code",
   "execution_count": null,
   "metadata": {},
   "outputs": [],
   "source": [
    "results_Qi['Res kappa'] = 0.2\n",
    "# print(results_Qi['Res kappa'])"
   ]
  },
  {
   "cell_type": "code",
   "execution_count": 76,
   "metadata": {},
   "outputs": [],
   "source": [
    "qubit_i = 3"
   ]
  },
  {
   "cell_type": "code",
   "execution_count": null,
   "metadata": {},
   "outputs": [],
   "source": [
    "shotopt = meas.SingleShotOptExperiment(\n",
    "    soccfg=soc,\n",
    "    path=expt_path,\n",
    "    prefix=f\"single_shot_opt_qubit{qubit_i}\",\n",
    "    config_file=config_path,\n",
    ")\n",
    "shotopt.cfg = AttrDict(deepcopy(yaml_cfg))\n",
    "\n",
    "# span_f = 2*abs(results_Qi['Res chi shift (f - g)']) # MHz\n",
    "# span_f = 2*abs(results_Qi['Res chi shift (e - g)']) # MHz\n",
    "\n",
    "span_f = 1.0*abs(results_Qi['Res kappa']) # MHz\n",
    "npts_f = 15\n",
    "# span_f = 0\n",
    "# npts_f = 1\n",
    "\n",
    "span_gain = 0.4\n",
    "npts_gain = 8\n",
    "# span_gain = 0.0\n",
    "# npts_gain = 8\n",
    "\n",
    "# span_len = 5 # us\n",
    "# npts_len = 10\n",
    "span_len = 0 # us\n",
    "npts_len = 1\n",
    "\n",
    "shotopt.cfg.expt = dict(\n",
    "    reps=15000,\n",
    "    qTest=qubit_i,\n",
    "\n",
    "    # start_f=shotopt.cfg.device.readout.frequency[qubit_i] - span_f,\n",
    "    # start_f=shotopt.cfg.device.readout.frequency[qubit_i] + 0.25*span_f,\n",
    "    # start_f=shotopt.cfg.device.readout.frequency[qubit_i],\n",
    "    start_f=shotopt.cfg.device.readout.frequency[qubit_i] - span_f/2, # [MHz]\n",
    "    step_f=span_f/npts_f,\n",
    "    expts_f=npts_f,\n",
    "\n",
    "    # start_gain=shotopt.cfg.device.readout.gain[qubit_i]-span_gain/2,\n",
    "    start_gain=0.2,\n",
    "    step_gain=span_gain/npts_gain,\n",
    "    expts_gain=npts_gain + 1,\n",
    "    # start_gain=0.2,\n",
    "    # step_gain=0,\n",
    "    # expts_gain=1,\n",
    "\n",
    "    start_len=shotopt.cfg.device.readout.readout_length[qubit_i],\n",
    "    step_len=span_len/npts_len,\n",
    "    expts_len=npts_len,\n",
    "    # start_len=7,\n",
    "    # step_len=span_len/npts_len,\n",
    "    # expts_len=npts_len + 1,\n",
    "\n",
    "    full_mux_expt=full_mux_expt,\n",
    "    resonator_reset=resonator_reset,\n",
    ")\n",
    "\n",
    "print(shotopt.cfg)\n",
    "\n",
    "shotopt.go(analyze=False, display=False, progress=True, save=False)"
   ]
  },
  {
   "cell_type": "code",
   "execution_count": null,
   "metadata": {},
   "outputs": [],
   "source": [
    "imax = shotopt.analyze()\n",
    "shotopt.display()\n",
    "print(shotopt.data['fid'])\n",
    "\n",
    "freq_opt = shotopt.data['fpts'][imax[0]]\n",
    "gain_opt = shotopt.data['gainpts'][imax[1]]\n",
    "len_opt = shotopt.data['lenpts'][imax[2]]"
   ]
  },
  {
   "cell_type": "code",
   "execution_count": null,
   "metadata": {},
   "outputs": [],
   "source": [
    "\n",
    "# Using readlines()\n",
    "file1 = open('C:\\\\Users\\\\slab\\\\Downloads\\\\singleshot_opt.txt', 'r')\n",
    "lines = file1.readlines()\n",
    "freqs = []\n",
    "gains = []\n",
    "lengths = []\n",
    "fids = []\n",
    "\n",
    "line = lines[0]\n",
    "words = line.split()\n",
    "freq = float(words[1][:-1])\n",
    "freqs.append(freq)\n",
    "gain = float(words[3][:-1])\n",
    "gains.append(gain)\n",
    "length = float(words[5])\n",
    "lengths.append(length)\n",
    "\n",
    "fid_line = lines[1]\n",
    "fids.append(float(fid_line.split()[3]))\n",
    " \n",
    "# Strips the newline character\n",
    "for i in range(2, len(lines), 2):\n",
    "    line = lines[i]\n",
    "    words = line.split()\n",
    "    freq = float(words[1][:-1])\n",
    "    if freq not in freqs: freqs.append(freq)\n",
    "    gain = float(words[3][:-1])\n",
    "    if gain not in gains: gains.append(gain)\n",
    "    length = float(words[5])\n",
    "    if length not in lengths: lengths.append(length)\n",
    "\n",
    "    fid_line = lines[i+1]\n",
    "    fids.append(float(fid_line.split()[3]))\n",
    "    continue\n",
    "\n",
    "fids = np.append(fids, [0]*22)\n",
    "fids = np.reshape(fids, newshape=(len(freqs), len(gains), len(lengths)))\n",
    "\n",
    "# lenpts = [data['lenpts'][0]]\n",
    "for g_ind, gain in enumerate(gains):\n",
    "    for l_ind, l in enumerate(lengths):\n",
    "        plt.plot(freqs, fids[:,g_ind, l_ind], 'o-', label=f'gain: {gain:.2}, len [us]: {l}')\n",
    "plt.xlabel('Frequency [MHz]')\n",
    "plt.ylabel(f'Fidelity [%]')\n",
    "plt.legend()\n",
    "plt.show()\n"
   ]
  },
  {
   "cell_type": "code",
   "execution_count": null,
   "metadata": {},
   "outputs": [],
   "source": [
    "if save_data: saved_files.append(shotopt.save_data())"
   ]
  },
  {
   "cell_type": "markdown",
   "metadata": {},
   "source": [
    "next qubit"
   ]
  },
  {
   "cell_type": "code",
   "execution_count": null,
   "metadata": {},
   "outputs": [],
   "source": [
    "qubit_i = 2\n",
    "results_Qi = all_results[qubit_i]\n",
    "results_Qi['Res kappa'] = 0.2\n",
    "# print(results_Qi['Res kappa'])"
   ]
  },
  {
   "cell_type": "code",
   "execution_count": null,
   "metadata": {},
   "outputs": [],
   "source": [
    "shotopt = meas.SingleShotOptExperiment(\n",
    "    soccfg=soc,\n",
    "    path=expt_path,\n",
    "    prefix=f\"single_shot_opt_qubit{qubit_i}\",\n",
    "    config_file=config_path,\n",
    ")\n",
    "shotopt.cfg = AttrDict(deepcopy(yaml_cfg))\n",
    "\n",
    "# span_f = 2*abs(results_Qi['Res chi shift (f - g)']) # MHz\n",
    "# span_f = 2*abs(results_Qi['Res chi shift (e - g)']) # MHz\n",
    "\n",
    "# span_f = 2*abs(results_Qi['Res kappa']) # MHz\n",
    "# npts_f = 15\n",
    "\n",
    "span_f = 3*abs(results_Qi['Res kappa']) # MHz\n",
    "npts_f = 20\n",
    "\n",
    "# span_gain = 0.85\n",
    "# npts_gain = 5\n",
    "span_gain = 0.6\n",
    "npts_gain = 6\n",
    "\n",
    "span_len = 0 # us\n",
    "npts_len = 1\n",
    "\n",
    "shotopt.cfg.expt = dict(\n",
    "    reps=20000,\n",
    "    qTest=qubit_i,\n",
    "\n",
    "    # start_f=shotopt.cfg.device.readout.frequency[qubit_i] - 0.75*span_f,\n",
    "    # start_f=shotopt.cfg.device.readout.frequency[qubit_i] + 0.25*span_f,\n",
    "    # start_f=shotopt.cfg.device.readout.frequency[qubit_i],\n",
    "    start_f=shotopt.cfg.device.readout.frequency[qubit_i] - span_f/2, # [MHz]\n",
    "    step_f=span_f/npts_f,\n",
    "    expts_f=npts_f,\n",
    "\n",
    "    # start_gain=int(shotopt.cfg.device.readout.gain[qubit_i]-span_gain/2),\n",
    "    start_gain=0.1,\n",
    "    # start_gain=0.10,\n",
    "    step_gain=span_gain/npts_gain,\n",
    "    expts_gain=npts_gain + 1,\n",
    "\n",
    "    start_len=5,\n",
    "    # step_len=span_len/npts_len,\n",
    "    # expts_len=npts_len + 1,\n",
    "    step_len=0,\n",
    "    expts_len=1,\n",
    ")\n",
    "\n",
    "print(shotopt.cfg)\n",
    "\n",
    "shotopt.go(analyze=False, display=False, progress=True, save=False)"
   ]
  },
  {
   "cell_type": "code",
   "execution_count": null,
   "metadata": {},
   "outputs": [],
   "source": [
    "imax = shotopt.analyze()\n",
    "shotopt.display()\n",
    "print(shotopt.data['fid'])\n",
    "\n",
    "freq_opt = shotopt.data['fpts'][imax[0]]\n",
    "gain_opt = shotopt.data['gainpts'][imax[1]]\n",
    "len_opt = shotopt.data['lenpts'][imax[2]]"
   ]
  },
  {
   "cell_type": "code",
   "execution_count": null,
   "metadata": {},
   "outputs": [],
   "source": [
    "if save_data: saved_files.append(shotopt.save_data())"
   ]
  },
  {
   "cell_type": "markdown",
   "metadata": {},
   "source": [
    "next qubit"
   ]
  },
  {
   "cell_type": "code",
   "execution_count": null,
   "metadata": {},
   "outputs": [],
   "source": [
    "qubit_i = 3\n",
    "results_Qi = all_results[qubit_i]\n",
    "results_Qi['Res kappa'] = 0.2\n",
    "# print(results_Qi['Res kappa'])"
   ]
  },
  {
   "cell_type": "code",
   "execution_count": null,
   "metadata": {},
   "outputs": [],
   "source": [
    "shotopt = meas.SingleShotOptExperiment(\n",
    "    soccfg=soc,\n",
    "    path=expt_path,\n",
    "    prefix=f\"single_shot_opt_qubit{qubit_i}\",\n",
    "    config_file=config_path,\n",
    ")\n",
    "shotopt.cfg = AttrDict(deepcopy(yaml_cfg))\n",
    "\n",
    "# span_f = 2*abs(results_Qi['Res chi shift (f - g)']) # MHz\n",
    "# span_f = 2*abs(results_Qi['Res chi shift (e - g)']) # MHz\n",
    "\n",
    "# span_f = 2*abs(results_Qi['Res kappa']) # MHz\n",
    "# npts_f = 15\n",
    "\n",
    "span_f = 3*abs(results_Qi['Res kappa']) # MHz\n",
    "npts_f = 20\n",
    "\n",
    "# span_gain = 0.85\n",
    "# npts_gain = 5\n",
    "span_gain = 0.1\n",
    "npts_gain = 8\n",
    "\n",
    "span_len = 0 # us\n",
    "npts_len = 1\n",
    "\n",
    "shotopt.cfg.expt = dict(\n",
    "    reps=15000,\n",
    "    qTest=qubit_i,\n",
    "\n",
    "    # start_f=shotopt.cfg.device.readout.frequency[qubit_i] - 0.75*span_f,\n",
    "    # start_f=shotopt.cfg.device.readout.frequency[qubit_i] + 0.25*span_f,\n",
    "    # start_f=shotopt.cfg.device.readout.frequency[qubit_i],\n",
    "    start_f=shotopt.cfg.device.readout.frequency[qubit_i] - span_f/2, # [MHz]\n",
    "    step_f=span_f/npts_f,\n",
    "    expts_f=npts_f,\n",
    "\n",
    "    # start_gain=int(shotopt.cfg.device.readout.gain[qubit_i]-span_gain/2),\n",
    "    start_gain=0.01,\n",
    "    # start_gain=0.10,\n",
    "    step_gain=span_gain/npts_gain,\n",
    "    expts_gain=npts_gain + 1,\n",
    "\n",
    "    start_len=8.0,\n",
    "    # step_len=span_len/npts_len,\n",
    "    # expts_len=npts_len + 1,\n",
    "    step_len=0,\n",
    "    expts_len=1,\n",
    ")\n",
    "\n",
    "print(shotopt.cfg)\n",
    "\n",
    "shotopt.go(analyze=False, display=False, progress=True, save=False)"
   ]
  },
  {
   "cell_type": "code",
   "execution_count": null,
   "metadata": {},
   "outputs": [],
   "source": [
    "imax = shotopt.analyze()\n",
    "shotopt.display()\n",
    "print(shotopt.data['fid'])\n",
    "\n",
    "freq_opt = shotopt.data['fpts'][imax[0]]\n",
    "gain_opt = shotopt.data['gainpts'][imax[1]]\n",
    "len_opt = shotopt.data['lenpts'][imax[2]]"
   ]
  },
  {
   "cell_type": "code",
   "execution_count": null,
   "metadata": {},
   "outputs": [],
   "source": [
    "if save_data: saved_files.append(shotopt.save_data())"
   ]
  },
  {
   "cell_type": "markdown",
   "metadata": {},
   "source": [
    "## Best readout parameters"
   ]
  },
  {
   "cell_type": "code",
   "execution_count": 19,
   "metadata": {},
   "outputs": [],
   "source": [
    "qubit_i = 3"
   ]
  },
  {
   "cell_type": "code",
   "execution_count": 134,
   "metadata": {},
   "outputs": [
    {
     "name": "stdout",
     "output_type": "stream",
     "text": [
      "{'device': {'readout': {'trig_offset': 150, 'lo_sideband': [1, 1, 1, 1], 'frequency': [-389.975, 5795.761666663333, 502.368233333334, -228.9], 'gain': [0.5, 0.6, 0.4, 0.3], 'readout_length': [5, 20, 10, 8], 'frequency_ef': [-391.91408405, 5795.76166666, 500.44439227, -230.30732892], 'gain_ef': [0.05, 0.6, 0.4, 0.25], 'readout_length_ef': [1, 20, 10, 8], 'relax_delay': [450, 450, 450, 450]}, 'qubit': {'f_ge': [4111.144451095202, 4105.783958808882, 4111.0028964412795, 4110.5966963096635, 3442.9795552267146, 3448.3315918098933, 3447.233490336077, 3447.0285717924894, 4762.767009306428, 4761.793655204115, 4762.902435440665, 4762.367822139689, 4380.662337410765, 4379.890920412824, 4380.6668186549305, 4381.242475074487], 'f_ef': [3885.3117884920853, 0.0, 0.0, 0.0, 0.0, 3347.8480888529375, 0.0, 0.0, 4571.9056482340775, 4571.070566218902, 4572.9717022650675, 0.0, 4211.5805515224565, 4207.169953136575, 0.0, 4209.889752285018], 'f_EgGf': [2686.53594683, 0, 2017.3, 2414.92850999], 'f_EgGf_Q_half': [0, 0, 5885.6717699723895, 5146.021416670141], 'f_EgGf_Q': [0, 0, 5880.504550983305, 5132.386793750588], 'f_f0g1': [1184.4, 999.8, 1632.9833333333333, 1620.9166666666665], 'gs': [52.40296404695958, 54.81794456602636, 43.49513117058557, 4.930653352423196, 2.6415018214608046, 6.386231497692186], 'pulses': {'pi_ge': {'sigma': [0.02, 0.02, 0.02, 0.02, 0.025, 0.025, 0.025, 0.025, 0.015, 0.015, 0.015, 0.015, 0.025, 0.025, 0.025, 0.025], 'gain': [1849, 1914, 0, 1855, 2834, 2504, 2648, 2631, 9155, 9155, 9155, 9155, 3000, 3000, 3000, 3000], 'half_gain': [1850, 1835, 1873, 1867, 2382, 2186, 2248, 2289, 9253, 9253, 9253, 9253, 3120, 3120, 3120, 3120], 'half_correction_phase': [0, 0, 0, 0, 0, 0, 0, 0, 0, 0, 0, 0, 0, 0, 0, 0], 'half_gain_pi_sigma': [927, 0, 0, 0, 0, 1315, 0, 0, 0, 0, 7212, 0, 0, 0, 0, 460], 'type': 'gauss'}, 'pi_ef': {'sigma': [0.02, 0.02, 0.02, 0.02, 0.025, 0.025, 0.025, 0.025, 0.015, 0.015, 0.015, 0.015, 0.03, 0.03, 0.03, 0.03], 'gain': [0, 0, 0, 0, 0, 0, 0, 0, 0, 0, 0, 0, 0, 0, 0, 0], 'half_gain': [1261, 0, 0, 0, 0, 1941, 0, 0, 0, 6450, 6385, 0, 1469, 1490, 0, 1426], 'half_gain_pi_sigma': [673, 0, 0, 0, 0, 975, 0, 0, 0, 0, 3049, 0, 0, 0, 0, 1000], 'type': 'gauss'}, 'pi_EgGf': {'gain': [32000, 0, 30000, 16000], 'sigma': [0.586, 0, 0.8, 0.44643], 'type': 'flat_top'}, 'pi_EgGf_Q': {'half_phase': [0, 0, 0.0, 0.0], 'half_gain': [0, 0, 12147, 5736], 'half_sigma': [0, 0, 0.231, 0.161], 'gain': [0, 0, 24647, 24647], 'sigma': [0, 0, 0.245, 0.17], 'phase': [0, 0, 0.0, 0.0], 'type': 'flat_top'}, 'pi_f0g1': {'gain': [32000, 32000, 32000, 32000], 'sigma': [0.536, 0.585, 1.54, 1.04], 'idle': [3, 6, 12, 8], 'type': 'flat_top'}, 'pulse_pp': {'gain': [1750, 3550, 0, 0], 'filename': '240920_3_qram_4q_2qubit_++gg'}, 'pulse_1p': {'gain': [3500, 4375, 0, 0], 'filename': '240920_qram_4q_2qubit_e+gg'}, 'pulse_p1': {'gain': [3000, 5530, 0, 0], 'filename': '240920_qram_4q_2qubit_+egg'}, 'pihalf_ge_robust': {'gain': [7468, 7620, 7559, 7559, 4824, 4456, 4462, 4144, 20111, 20111, 19951, 20111, 13156, 13079, 13157, 13226], 'correction_phase': [12.831628835545475, 10.05593135477756, 0, 0, 0.11174784781734694, -0.41895542828054083, 0, 0, 0, 0, 2.9582000054694726, 0, 0, 0, 0, 15.21386268059087], 'filename': ['X_2_Q0', 'X_2_Q1', 'X_2_Q2', 'X_2_Q3']}, 'pi_ge_slow': {'gain': [-1, 100, -1, -1], 'sigma': [-1, 0.25, -1, -1], 'type': 'gauss'}, 'pi_Q1_ZZ_slow': {'gain': [100, 0, -1, -1], 'sigma': [0.25, 0, -1, -1], 'type': 'gauss'}}}}, 'hw': {'soc': {'dacs': {'qubit': {'ch': [0, 1, 2, 3], 'type': 'full', 'nyquist': [2, 1, 2, 2], 'mixer_freq': [0, 0, 0, 0]}, 'swap': {'ch': 1, 'type': 'full', 'nyquist': 1, 'mixer_freq': 0}, 'swap_f0g1': {'ch': [1, 1, 5, 5], 'type': ['full', 'full', 'full', 'full'], 'nyquist': 1, 'mixer_freq': 0}, 'swap_Q': {'ch': [0, -1, 2, 3], 'type': ['full', 'None', 'full', 'full'], 'nyquist': [2, 0, 2, 2], 'mixer_freq': 0}, 'readout': {'ch': [6, 4, 6, 6], 'full_mux_chs': [5, 4, 5, 5], 'type': ['mux4', 'full', 'mux4', 'mux4'], 'mixer_freq': [7200, 0, 7200, 7200], 'nyquist': [2, 2, 2, 2]}, 'res_pump': {'ch': 4, 'type': 'full', 'mixer_freq': 0, 'nyquist': 2}, 'delay_chs': {'ch': [0, 1, 2, 3, 4, 5, 6], 'delay_ns': [0.0, 2.0, 2.0, 0.0, 25, 24, 73]}}, 'adcs': {'readout': {'ch': [0, 1, 2, 3]}}}, 'lo': {'twpa': {'frequency': '8210.0e6', 'power': -1.5}, 'readout': {'frequency': 0, 'power': 0}}}, 'aliases': {'readout_LO': 'SC_20A1', 'twpa_LO': 'SC_26C1', 'soc': 'Qick_QRAM'}, 'expt': {'reps': 8000, 'check_f': True, 'qTest': 3, 'full_mux_expt': False, 'resonator_reset': None}}\n"
     ]
    },
    {
     "data": {
      "application/vnd.jupyter.widget-view+json": {
       "model_id": "ac12499e6e1b448b837c45fffe5e1900",
       "version_major": 2,
       "version_minor": 0
      },
      "text/plain": [
       "  0%|          | 0/8000 [00:00<?, ?it/s]"
      ]
     },
     "metadata": {},
     "output_type": "display_data"
    },
    {
     "data": {
      "application/vnd.jupyter.widget-view+json": {
       "model_id": "37776bb11b704208b433a6fcb3e28c23",
       "version_major": 2,
       "version_minor": 0
      },
      "text/plain": [
       "  0%|          | 0/8000 [00:00<?, ?it/s]"
      ]
     },
     "metadata": {},
     "output_type": "display_data"
    },
    {
     "data": {
      "application/vnd.jupyter.widget-view+json": {
       "model_id": "38aed16cb0b24e2cbb676833b3861f25",
       "version_major": 2,
       "version_minor": 0
      },
      "text/plain": [
       "  0%|          | 0/8000 [00:00<?, ?it/s]"
      ]
     },
     "metadata": {},
     "output_type": "display_data"
    }
   ],
   "source": [
    "shot = meas.HistogramExperiment(\n",
    "    soccfg=soc,\n",
    "    path=expt_path,\n",
    "    prefix=f\"single_shot_qubit{qubit_i}\",\n",
    "    config_file=config_path,\n",
    ")\n",
    "shot.cfg = AttrDict(deepcopy(yaml_cfg))\n",
    "\n",
    "shot.cfg.expt = dict(\n",
    "    reps=8000,\n",
    "    check_f=True,\n",
    "    qTest=qubit_i,\n",
    "\n",
    "    full_mux_expt=full_mux_expt,\n",
    "    resonator_reset=resonator_reset,\n",
    ")\n",
    "\n",
    "# shot.cfg.device.readout.frequency=freq_opt\n",
    "# shot.cfg.device.readout.gain[qubit_i]=gain_opt\n",
    "# print(freq_opt, gain_opt)\n",
    "# shot.cfg.device.readout.readout_length = len_opt # [us]\n",
    "\n",
    "# shot.cfg.device.readout.frequency=-807.4996158081035\n",
    "# shot.cfg.device.readout.gain[qubit_i] = 0.85\n",
    "# shot.cfg.device.readout.readout_length = 2.0 # [us]\n",
    "# shot.cfg.device.readout.relax_delay = 70 # Wait time between experiments [us]\n",
    "print(shot.cfg)\n",
    "\n",
    "shot.go(analyze=False, display=False, progress=True, save=False)"
   ]
  },
  {
   "cell_type": "code",
   "execution_count": 135,
   "metadata": {},
   "outputs": [
    {
     "name": "stdout",
     "output_type": "stream",
     "text": [
      "g unrotated averages:\n",
      "I -23.483399257526443 +/- 21.860967471456476 \t Q -55.07453519121238 +/- 20.373169359948697 \t Amp 63.70580234972398 +/- 20.47469518092067\n",
      "Rotated (theta=-0.39449266323091886):\n",
      "I -42.8470182984508 +/- 21.74272316073474 \t Q -41.81874567880661 +/- 20.499315064481536 \t Amp 59.872151015446946 +/- 20.47469518092067\n",
      "e unrotated averages:\n",
      "I -23.019201535801464 +/- 21.882729577960223 \t Q -55.40713430634662 +/- 20.60830272348304 \t Amp 63.81193805008286 +/- 20.770814346207487\n",
      "Rotated (theta=-0.39449266323091886):\n",
      "I -42.546305927579496 +/- 21.859458416844202 \t Q -42.30420810397226 +/- 20.632985063899813 \t Amp 59.998618078980606 +/- 20.770814346207487\n",
      "f unrotated averages:\n",
      "I -22.835162683075673 +/- 21.586668324180526 \t Q -54.80466364930838 +/- 20.273200951245645 \t Amp 63.14813294218095 +/- 20.35426354700071\n",
      "Rotated (theta=-0.39449266323091886):\n",
      "I -42.144849297721414 +/- 21.550150440184776 \t Q -41.81874567880662 +/- 20.312014724127447 \t Amp 59.371675169868304 +/- 20.35426354700071\n",
      "ge fidelity (%): 2.2250000000000103\n",
      "rotation angle (deg): -22.602764652007366\n",
      "threshold ge: -45.56936900387356\n"
     ]
    }
   ],
   "source": [
    "# # TESTING\n",
    "# shot = meas.HistogramExperiment(config_file=config_path)\n",
    "# temp_data, attrs = prev_data(expt_path, '00001_single_shot_qubit0.h5')\n",
    "# data = shot.analyze(data=temp_data)\n",
    "# shot.display(data=data)\n",
    "\n",
    "shot.analyze(verbose=False)\n",
    "shot.display(verbose=True, amplitude_mode=shot.cfg.expt.full_mux_expt)\n",
    "results_Qi.update({'Single shot g-e fidelity (%)': 100*shot.data['fids'][0]})"
   ]
  },
  {
   "cell_type": "code",
   "execution_count": null,
   "metadata": {},
   "outputs": [],
   "source": [
    "if save_data: saved_files.append(shot.save_data())"
   ]
  },
  {
   "cell_type": "code",
   "execution_count": null,
   "metadata": {},
   "outputs": [],
   "source": [
    "# TESTING\n",
    "shot = meas.HistogramExperiment(config_file=config_path)\n",
    "temp_data, attrs = prev_data('S:\\\\Connie\\\\experiments\\\\qramLL_4QR2\\\\data\\\\data_240617\\\\00000_single_shot_qubit2.h5')\n",
    "shot.cfg = AttrDict(attrs['config'])\n",
    "shot.data = temp_data"
   ]
  },
  {
   "cell_type": "code",
   "execution_count": null,
   "metadata": {},
   "outputs": [],
   "source": [
    "# Checking for drift vs. shot number\n",
    "\n",
    "data = shot.data\n",
    "\n",
    "Ies = data['Ie']\n",
    "Qes = data['Qe']\n",
    "Igs = data['Ig']\n",
    "Qgs = data['Qg']\n",
    "\n",
    "plot_e = False\n",
    "\n",
    "if plot_e:\n",
    "    i, q = Ies, Qes\n",
    "else:\n",
    "    i, q = Igs, Qgs\n",
    "\n",
    "amps = np.abs(i+1j*q)\n",
    "phases = np.angle(i+1j*q)\n",
    "\n",
    "# plt.plot(amps, '.', label='amps')\n",
    "# plt.ylabel('Amps [ADC units]')\n",
    "# plt.xlabel('Shot number')\n",
    "# plt.legend()\n",
    "# plt.show()\n",
    "\n",
    "plt.title(f'Q{shot.cfg.expt.qTest} {\"e\" if plot_e else \"g\"}')\n",
    "plt.plot(phases, '.', label='phases')\n",
    "plt.axhline(0, color='r')\n",
    "# plt.axhline(1.5, color='r')\n",
    "plt.ylabel('Phases [radians]')\n",
    "plt.xlabel('Shot number')\n",
    "plt.legend()\n",
    "plt.show()\n",
    "\n",
    "plt.plot(i, '.', label='i')\n",
    "plt.ylabel('I [ADC units]')\n",
    "plt.xlabel('Shot number')\n",
    "plt.legend()\n",
    "plt.show()\n",
    "\n",
    "plt.plot(q, '.', label='Q')\n",
    "plt.ylabel('Q [ADC units]')\n",
    "plt.xlabel('Shot number')\n",
    "plt.legend()\n",
    "plt.show()"
   ]
  },
  {
   "cell_type": "markdown",
   "metadata": {},
   "source": [
    "# Results"
   ]
  },
  {
   "cell_type": "code",
   "execution_count": 74,
   "metadata": {},
   "outputs": [
    {
     "name": "stdout",
     "output_type": "stream",
     "text": [
      "{'device': {'readout': {'trig_offset': 150, 'lo_sideband': [1, 1, 1, 1], 'frequency': [-389.9452717544333, 5795.711666663333, 502.368233333334, -228.85410723], 'gain': [0.3, 0.3, 0.85, 0.85], 'readout_length': [15.0, 10.0, 5.0, 15.0], 'frequency_ef': [-391.80446161500305, 5794.287237348879, 500.35983051204073, -230.41370987900663], 'readout_length_ef': [10.0, 7.0, 4.0, 8.0], 'relax_delay': [450, 450, 450, 450]}, 'qubit': {'f_ge': [4111.097866562327, 4105.867592682015, 4110.994688934281, 4110.579369837695, 3443.482349236793, 3448.1402562265434, 3447.706823169816, 3447.5052085761054, 4762.743580751455, 4761.745710010409, 4762.909473544484, 4762.370786469688, 4380.292461267258, 4379.535103914169, 4380.328267473819, 4381.248121020163], 'f_ef': [3884.6269161242526, 0.0, 0.0, 0.0, 0.0, 3348.085433174199, 0.0, 0.0, 4571.9056482340775, 4570.996526541673, 4573.058329968845, 0.0, 4209.8719428597715, 4205.61697813965, 0.0, 4208.990881064611], 'f_EgGf': [2686.53594683, 0, 2017.3, 2414.92850999], 'f_EgGf_Q': [0, 0, 5883.653411964549, 5141.717729722623], 'f_f0g1': [1184.4, 999.8, 1632.9833333333333, 1620.9166666666665], 'gs': [52.40296404695958, 54.81794456602636, 43.49513117058557, 4.930653352423196, 2.6415018214608046, 6.386231497692186], 'pulses': {'pi_ge': {'sigma': [0.02, 0.02, 0.02, 0.02, 0.025, 0.025, 0.025, 0.025, 0.015, 0.015, 0.015, 0.015, 0.025, 0.025, 0.025, 0.025], 'gain': [1849, 1914, 0, 1855, 2834, 2504, 2648, 2631, 14489, 14572, 14736, 14639, 963, 959, 974, 935], 'half_gain': [1856, 1867, 1871, 1873, 2511, 2242, 2341, 2320, 14796, 14866, 14508, 14805, 856, 852, 858, 819], 'half_correction_phase': [0, 0, 0, 0, 0, 0, 0, 0, 0, 0, 0, 0, 0, 0, 0, 0, 0], 'half_gain_pi_sigma': [927, 0, 0, 0, 0, 1315, 0, 0, 0, 0, 7212, 0, 0, 0, 0, 460], 'type': 'gauss'}, 'pi_ef': {'sigma': [0.02, 0.02, 0.02, 0.02, 0.025, 0.025, 0.025, 0.025, 0.015, 0.015, 0.015, 0.015, 0.03, 0.03, 0.03, 0.03], 'gain': [1280, 0, 0, 0, 0, 1912, 0, 0, 10000, 10079, 10015, 0, 734, 718, 0, 523], 'half_gain': [1261, 0, 0, 0, 0, 1941, 0, 0, 0, 10147, 9921, 9979, 535, 528, 0, 518], 'half_gain_pi_sigma': [673, 0, 0, 0, 0, 975, 0, 0, 0, 0, 5049, 0, 350, 0, 0, 337], 'type': 'gauss'}, 'pi_EgGf': {'gain': [32000, 0, 30000, 16000], 'sigma': [0.586, 0, 0.8, 0.44643], 'type': 'flat_top'}, 'pi_EgGf_Q': {'gain': [0, 0, 19655, 15344], 'sigma': [0, 0, 0.4361071627609746, 0.2878957887434301], 'phase': [0, 0, 18.0, 24.0], 'half_sigma': [0, 0, 0.212, 0.172], 'half_phase': [0, 0, 18.0, 21.0], 'type': 'flat_top'}, 'pi_f0g1': {'gain': [32000, 32000, 32000, 32000], 'sigma': [0.536, 0.585, 1.54, 1.04], 'idle': [3, 6, 12, 8], 'type': 'flat_top'}, 'pulse_pp': {'gain': [1750, 3550, 0, 0], 'filename': '240920_3_qram_4q_2qubit_++gg'}, 'pulse_1p': {'gain': [3500, 4375, 0, 0], 'filename': '240920_qram_4q_2qubit_e+gg'}, 'pulse_p1': {'gain': [3000, 5530, 0, 0], 'filename': '240920_qram_4q_2qubit_+egg'}, 'pihalf_ge_robust': {'gain_q0': [0, 0, 0, 0], 'gain_q1': [0, 0, 0, 0], 'gain_q2': [0, 0, 0, 0], 'gain_q3': [0, 0, 0, 0], 'filename': ['', '', '', '']}, 'pi_ge_slow': {'gain': [-1, 100, -1, -1], 'sigma': [-1, 0.25, -1, -1], 'type': 'gauss'}, 'pi_Q1_ZZ_slow': {'gain': [100, 0, -1, -1], 'sigma': [0.25, 0, -1, -1], 'type': 'gauss'}}}}, 'hw': {'soc': {'dacs': {'qubit': {'ch': [0, 1, 2, 3], 'type': 'full', 'nyquist': [2, 1, 2, 2], 'mixer_freq': [0, 0, 0, 0]}, 'swap': {'ch': 1, 'type': 'full', 'nyquist': 1, 'mixer_freq': 0}, 'swap_f0g1': {'ch': [1, 1, 5, 5], 'type': ['full', 'full', 'full', 'full'], 'nyquist': 1, 'mixer_freq': 0}, 'swap_Q': {'ch': [0, -1, 2, 3], 'type': ['full', 'None', 'full', 'full'], 'nyquist': [2, 0, 2, 2], 'mixer_freq': 0}, 'readout': {'ch': [6, 4, 6, 6], 'type': ['mux4', 'full', 'mux4', 'mux4'], 'mixer_freq': [7200, 0, 7200, 7200], 'nyquist': [2, 2, 2, 2]}, 'res_pump': {'ch': 4, 'type': 'full', 'mixer_freq': 0, 'nyquist': 2}, 'delay_chs': {'ch': [0, 1, 2, 3, 4, 5, 6], 'delay_ns': [8.7, 8.5, 0, 7.6, 24, 20, 104.5]}}, 'adcs': {'readout': {'ch': [0, 1, 2, 3]}}}, 'lo': {'twpa': {'frequency': '8240.0e6', 'power': -0.65}, 'readout': {'frequency': 0, 'power': 0}}}, 'aliases': {'readout_LO': 'SC_20A1', 'twpa_LO': 'SC_26C1', 'soc': 'Qick_QRAM'}}\n",
      "Qubit 0\n",
      "\tT2R: 28.835024899060134\n",
      "\tT2R err: 5.697905387689036\n",
      "\tQubit freq: 4111.097866562327\n",
      "\tPi/2 pulse gain: 1856\n",
      "\n",
      "Qubit 1\n",
      "\tT2R: 26.406723555440024\n",
      "\tT2R err: 5.466864662803722\n",
      "\tQubit freq: 3448.1402562265434\n",
      "\tPi/2 pulse gain: 2242\n",
      "\n",
      "Qubit 2\n",
      "\tT2R: 17.46130560440174\n",
      "\tT2R err: 1.9184046541670396\n",
      "\tQubit freq: 4762.909473544484\n",
      "\tPi/2 pulse gain: 14508\n",
      "\tQubit EF freq: 4573.058329968845\n",
      "\tT2R EF: 19.74783530097964\n",
      "\tT2R EF err: 2.934531109425013\n",
      "\tPi/2 EF pulse gain: 9921\n",
      "\n",
      "Qubit 3\n",
      "\tT2R: 111.89095968983096\n",
      "\tT2R err: 87.10574225600891\n",
      "\tQubit freq: 4381.248121020163\n",
      "\tPi/2 pulse gain: 819\n",
      "\tQubit EF freq: 4208.990881064611\n",
      "\tT2R EF: 27.84091040503751\n",
      "\tT2R EF err: 5.001940572250491\n",
      "\tPi/2 EF pulse gain: 518\n",
      "\n",
      "f_ge\n",
      "[4111.097866562327, 4105.867592682015, 4110.994688934281, 4110.579369837695, 3443.482349236793, 3448.1402562265434, 3447.706823169816, 3447.5052085761054, 4762.743580751455, 4761.745710010409, 4762.909473544484, 4762.370786469688, 4380.292461267258, 4379.535103914169, 4380.328267473819, 4381.248121020163]\n",
      "pi_ge.gain\n",
      "[1849, 1914, 0, 1855, 2834, 2504, 2648, 2631, 14489, 14572, 14736, 14639, 963, 959, 974, 935]\n",
      "pi_ge.half_gain\n",
      "[1856, 1867, 1871, 1873, 2511, 2242, 2341, 2320, 14796, 14866, 14508, 14805, 856, 852, 858, 819]\n",
      "pi_ge.half_gain_pi_sigma\n",
      "[927, 0, 0, 0, 0, 1315, 0, 0, 0, 0, 7212, 0, 0, 0, 0, 460]\n",
      "f_ef\n",
      "[3884.6269161242526, 0.0, 0.0, 0.0, 0.0, 3348.085433174199, 0.0, 0.0, 4571.9056482340775, 4570.996526541673, 4573.058329968845, 0.0, 4209.8719428597715, 4205.61697813965, 0.0, 4208.990881064611]\n",
      "pi_ef.gain\n",
      "[1280, 0, 0, 0, 0, 1912, 0, 0, 10000, 10079, 10015, 0, 734, 718, 0, 523]\n",
      "pi_ef.half_gain\n",
      "[1261, 0, 0, 0, 0, 1941, 0, 0, 0, 10147, 9921, 9979, 535, 528, 0, 518]\n",
      "pi_ef.half_gain_pi_sigma\n",
      "[673, 0, 0, 0, 0, 975, 0, 0, 0, 0, 5049, 0, 350, 0, 0, 337]\n",
      "readout.frequency_ef\n",
      "[-391.80446161500305, 5794.287237348879, 500.35983051204073, -230.41370987900663]\n"
     ]
    }
   ],
   "source": [
    "print(yaml_cfg)\n",
    "for Qi, results in enumerate(all_results):\n",
    "    print(f'Qubit {Qi}')\n",
    "    for key, value in results.items():\n",
    "        print(f'\\t{key}: {value}')\n",
    "    print()\n",
    "\n",
    "for saved_file in saved_files:\n",
    "    print(saved_file)\n",
    "\n",
    "print(f'f_ge\\n{yaml_cfg.device.qubit.f_ge}')\n",
    "print(f'pi_ge.gain\\n{yaml_cfg.device.qubit.pulses.pi_ge.gain}')\n",
    "print(f'pi_ge.half_gain\\n{yaml_cfg.device.qubit.pulses.pi_ge.half_gain}')\n",
    "print(f'pi_ge.half_gain_pi_sigma\\n{yaml_cfg.device.qubit.pulses.pi_ge.half_gain_pi_sigma}')\n",
    "print(f'f_ef\\n{yaml_cfg.device.qubit.f_ef}')\n",
    "print(f'pi_ef.gain\\n{yaml_cfg.device.qubit.pulses.pi_ef.gain}')\n",
    "print(f'pi_ef.half_gain\\n{yaml_cfg.device.qubit.pulses.pi_ef.half_gain}')\n",
    "print(f'pi_ef.half_gain_pi_sigma\\n{yaml_cfg.device.qubit.pulses.pi_ef.half_gain_pi_sigma}')\n",
    "print(f'readout.frequency_ef\\n{yaml_cfg.device.readout.frequency_ef}')"
   ]
  },
  {
   "cell_type": "code",
   "execution_count": null,
   "metadata": {},
   "outputs": [],
   "source": []
  }
 ],
 "metadata": {
  "kernelspec": {
   "display_name": "base",
   "language": "python",
   "name": "python3"
  },
  "language_info": {
   "codemirror_mode": {
    "name": "ipython",
    "version": 3
   },
   "file_extension": ".py",
   "mimetype": "text/x-python",
   "name": "python",
   "nbconvert_exporter": "python",
   "pygments_lexer": "ipython3",
   "version": "3.9.13"
  },
  "toc": {
   "base_numbering": 1,
   "nav_menu": {},
   "number_sections": true,
   "sideBar": true,
   "skip_h1_title": false,
   "title_cell": "Table of Contents",
   "title_sidebar": "Contents",
   "toc_cell": false,
   "toc_position": {
    "height": "calc(100% - 180px)",
    "left": "10px",
    "top": "150px",
    "width": "177px"
   },
   "toc_section_display": true,
   "toc_window_display": false
  }
 },
 "nbformat": 4,
 "nbformat_minor": 4
}
