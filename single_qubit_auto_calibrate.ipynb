{
 "cells": [
  {
   "cell_type": "code",
   "execution_count": 1,
   "metadata": {},
   "outputs": [],
   "source": [
    "# %matplotlib widget\n",
    "\n",
    "# %matplotlib inline\n",
    "%matplotlib qt5"
   ]
  },
  {
   "cell_type": "code",
   "execution_count": 2,
   "metadata": {},
   "outputs": [
    {
     "name": "stdout",
     "output_type": "stream",
     "text": [
      "Could not import QickInstrument (will only work if running on rfsoc). If running on rfsoc, try install/update qick package\n",
      "Warning failed to import AWG81180A\n",
      "Warning failed to import Tek5014\n",
      "Warning failed to import Tek70001\n",
      "Warning failed to import M8195A\n"
     ]
    }
   ],
   "source": [
    "%load_ext autoreload\n",
    "%autoreload 2\n",
    "\n",
    "import numpy as np\n",
    "import matplotlib.pyplot as plt\n",
    "from copy import deepcopy\n",
    "\n",
    "from qick import *\n",
    "from qick.helpers import gauss\n",
    "\n",
    "import time\n",
    "import os\n",
    "import sys\n",
    "sys.path.append('/home/xilinx/jupyter_notebooks/')\n",
    "import scipy as sp\n",
    "import json\n",
    "from scipy.fft import fft, fftfreq\n",
    "\n",
    "from slab.instruments import *\n",
    "from slab.experiment import Experiment\n",
    "from slab.datamanagement import SlabFile\n",
    "from slab import get_next_filename, AttrDict\n",
    "\n",
    "# Figure params\n",
    "import matplotlib as mpl\n",
    "mpl.rcParams['figure.figsize'] = [10,6]\n",
    "plt.rcParams.update({'font.size': 14})\n",
    "mpl.rcParams['figure.dpi'] = 150\n",
    "\n",
    "import Pyro4.util\n",
    "\n",
    "default_colors = plt.rcParams['axes.prop_cycle'].by_key()['color']\n",
    "linestyle_cycle=['solid', 'dashed', 'dotted', 'dashdot']\n",
    "marker_cycle = ['o', '*', 's', '^']"
   ]
  },
  {
   "cell_type": "markdown",
   "metadata": {},
   "source": [
    "# Load experiments"
   ]
  },
  {
   "cell_type": "code",
   "execution_count": 3,
   "metadata": {},
   "outputs": [
    {
     "name": "stdout",
     "output_type": "stream",
     "text": [
      "imported experiments.clifford_averager_program\n",
      "imported experiments.fitting\n",
      "imported experiments.four_qubit.fourQ_state_tomo\n",
      "imported experiments.qram_protocol_timestepped\n",
      "imported experiments.single_qubit.acstarkshift_spectroscopy\n",
      "imported experiments.single_qubit.amplitude_rabi\n",
      "imported experiments.single_qubit.length_rabi\n",
      "imported experiments.single_qubit.pulse_probe_spectroscopy\n",
      "imported experiments.single_qubit.resonator_spectroscopy\n",
      "imported experiments.single_qubit.rfsoc_tof_calibration\n",
      "imported experiments.single_qubit.single_shot\n",
      "imported experiments.single_qubit.t1\n",
      "imported experiments.single_qubit.t2_ramsey\n",
      "imported experiments.three_qubit.threeQ_state_tomo\n",
      "imported experiments.two_qubit.amplitude_rabi_EgGf\n",
      "imported experiments.two_qubit.amplitude_rabi_f0g1\n",
      "imported experiments.two_qubit.amprabi_opt_ctrl_state_prep\n",
      "imported experiments.two_qubit.crosstalk_echo_calib\n",
      "imported experiments.two_qubit.length_rabi_EgGf\n",
      "imported experiments.two_qubit.length_rabi_F0G1\n",
      "imported experiments.two_qubit.phase_calib_EgGf\n",
      "imported experiments.two_qubit.pulse_probe_EgGf_spectroscopy\n",
      "imported experiments.two_qubit.randbench\n",
      "imported experiments.two_qubit.random_test_pulses\n",
      "imported experiments.two_qubit.twoqutrit_state_tomography\n",
      "imported experiments.two_qubit.twoQ_state_tomography\n"
     ]
    }
   ],
   "source": [
    "# %aimport experiments\n",
    "# NOTE: ADDING NEW METHODS WILL NOT BE UPDATED\n",
    "import experiments as meas"
   ]
  },
  {
   "cell_type": "markdown",
   "metadata": {},
   "source": [
    "### Set save data"
   ]
  },
  {
   "cell_type": "code",
   "execution_count": 4,
   "metadata": {},
   "outputs": [],
   "source": [
    "save_data = False"
   ]
  },
  {
   "cell_type": "code",
   "execution_count": 5,
   "metadata": {},
   "outputs": [],
   "source": [
    "def prev_data(expt_path, filename=None):\n",
    "    \"\"\"Reopen saved data\"\"\"\n",
    "    temp_data_file = expt_path\n",
    "    if filename is not None: temp_data_file = os.path.join(expt_path, filename)\n",
    "    print(temp_data_file)\n",
    "    with SlabFile(temp_data_file) as a:\n",
    "        attrs = dict()\n",
    "        for key in list(a.attrs):\n",
    "            attrs.update({key:json.loads(a.attrs[key])})\n",
    "        keys = list(a)\n",
    "        temp_data = dict()\n",
    "        for key in keys:\n",
    "            temp_data.update({key:np.array(a[key])})\n",
    "        print(f'Extracted data and attrs {list(a.attrs)}')\n",
    "    return temp_data, attrs"
   ]
  },
  {
   "cell_type": "code",
   "execution_count": 6,
   "metadata": {},
   "outputs": [
    {
     "name": "stdout",
     "output_type": "stream",
     "text": [
      "Data will be stored in S:\\QRAM\\qram_4QR2\\data\\data_250119\n"
     ]
    }
   ],
   "source": [
    "# expt_path=os.path.join(os.getcwd(), 'data', 'data_240617')\n",
    "data_path = 'S:\\\\QRAM\\\\qram_4QR2\\\\'\n",
    "expt_path = os.path.join(data_path, 'data', 'data_250119')\n",
    "print('Data will be stored in', expt_path)"
   ]
  },
  {
   "cell_type": "code",
   "execution_count": 7,
   "metadata": {},
   "outputs": [
    {
     "name": "stdout",
     "output_type": "stream",
     "text": [
      "Config will be s:\\Connie\\experiments\\qram_tprocv1_expts\\configs\\config_q3diamond_full688and638_reset.yml\n"
     ]
    }
   ],
   "source": [
    "# config_file = 'config_zcu216.yml'\n",
    "# config_file = 'config_q3diamond.yml'\n",
    "# config_file = 'config_q3diamond_full688_reset.yml'\n",
    "config_file = 'config_q3diamond_full688and638_reset.yml'\n",
    "config_path = os.path.join('s:\\\\Connie\\\\experiments\\\\qram_tprocv1_expts\\\\configs\\\\', config_file)\n",
    "print('Config will be', config_path)"
   ]
  },
  {
   "cell_type": "markdown",
   "metadata": {},
   "source": [
    "# Load config"
   ]
  },
  {
   "cell_type": "code",
   "execution_count": 8,
   "metadata": {},
   "outputs": [],
   "source": [
    "import yaml\n",
    "with open(config_path, 'r') as cfg_file:\n",
    "    yaml_cfg = yaml.safe_load(cfg_file)\n",
    "yaml_cfg = AttrDict(yaml_cfg)"
   ]
  },
  {
   "cell_type": "markdown",
   "metadata": {},
   "source": [
    "# Setup experiment hardware\n",
    "\n",
    "Set in config:\n",
    "- LO alias, frequency, power\n",
    "- SOC dac channels, nyquist zones"
   ]
  },
  {
   "cell_type": "code",
   "execution_count": 9,
   "metadata": {},
   "outputs": [
    {
     "name": "stdout",
     "output_type": "stream",
     "text": [
      "['Pyro.NameServer', 'Qick_QRAM']\n"
     ]
    }
   ],
   "source": [
    "# im = InstrumentManager(ns_address='192.168.14.1') # Chicago lab\n",
    "# im = InstrumentManager(ns_address='192.168.137.1') # SLAC lab\n",
    "# im = InstrumentManager(ns_address='10.108.30.56') # Spilker Fermium\n",
    "im = InstrumentManager(ns_address='10.108.30.75') # Spilker Vibranium\n",
    "\n",
    "print(list(im))\n",
    "# print(im)"
   ]
  },
  {
   "cell_type": "code",
   "execution_count": 10,
   "metadata": {},
   "outputs": [
    {
     "name": "stdout",
     "output_type": "stream",
     "text": [
      "QICK running on ZCU216, software version 0.2.272\n",
      "\n",
      "Firmware configuration (built Sat Oct  5 10:21:47 2024):\n",
      "\n",
      "\tGlobal clocks (MHz): tProcessor 430.080, RF reference 245.760\n",
      "\n",
      "\t7 signal generator channels:\n",
      "\t0:\taxis_signal_gen_v6 - envelope memory 32768 samples (5.128 us)\n",
      "\t\tfs=6389.760 MHz, fabric=399.360 MHz, 32-bit DDS, range=6389.760 MHz\n",
      "\t\tDAC tile 2, blk 0 is 0_230, on JHC3\n",
      "\t1:\taxis_signal_gen_v6 - envelope memory 32768 samples (5.128 us)\n",
      "\t\tfs=6389.760 MHz, fabric=399.360 MHz, 32-bit DDS, range=6389.760 MHz\n",
      "\t\tDAC tile 2, blk 1 is 1_230, on JHC4\n",
      "\t2:\taxis_signal_gen_v6 - envelope memory 32768 samples (5.128 us)\n",
      "\t\tfs=6389.760 MHz, fabric=399.360 MHz, 32-bit DDS, range=6389.760 MHz\n",
      "\t\tDAC tile 2, blk 2 is 2_230, on JHC3\n",
      "\t3:\taxis_signal_gen_v6 - envelope memory 32768 samples (5.128 us)\n",
      "\t\tfs=6389.760 MHz, fabric=399.360 MHz, 32-bit DDS, range=6389.760 MHz\n",
      "\t\tDAC tile 2, blk 3 is 3_230, on JHC4\n",
      "\t4:\taxis_signal_gen_v6 - envelope memory 32768 samples (4.762 us)\n",
      "\t\tfs=6881.280 MHz, fabric=430.080 MHz, 32-bit DDS, range=6881.280 MHz\n",
      "\t\tDAC tile 3, blk 0 is 0_231, on JHC3\n",
      "\t5:\taxis_signal_gen_v6 - envelope memory 32768 samples (4.762 us)\n",
      "\t\tfs=6881.280 MHz, fabric=430.080 MHz, 32-bit DDS, range=6881.280 MHz\n",
      "\t\tDAC tile 3, blk 1 is 1_231, on JHC4\n",
      "\t6:\taxis_sg_mux4_v2 - envelope memory 0 samples (0.000 us)\n",
      "\t\tfs=6881.280 MHz, fabric=430.080 MHz, 32-bit DDS, range=1720.320 MHz\n",
      "\t\tDAC tile 0, blk 0 is 0_228, on JHC1\n",
      "\n",
      "\t4 constant-IQ outputs:\n",
      "\t0:\tfs=6881.280 MHz\n",
      "\t\tDAC tile 1, blk 0 is 0_229, on JHC1\n",
      "\t1:\tfs=6881.280 MHz\n",
      "\t\tDAC tile 1, blk 1 is 1_229, on JHC2\n",
      "\t2:\tfs=6881.280 MHz\n",
      "\t\tDAC tile 1, blk 2 is 2_229, on JHC1\n",
      "\t3:\tfs=6881.280 MHz\n",
      "\t\tDAC tile 1, blk 3 is 3_229, on JHC2\n",
      "\n",
      "\t4 readout channels:\n",
      "\t0:\taxis_pfb_readout_v2 - configured by PYNQ\n",
      "\t\tfs=2457.600 MHz, decimated=307.200 MHz, 32-bit DDS, range=307.200 MHz\n",
      "\t\tmaxlen 16384 accumulated, 1024 decimated (3.333 us)\n",
      "\t\ttriggered by output 7, pin 8, feedback to tProc input 0\n",
      "\t\tADC tile 2, blk 0 is 0_226, on JHC7\n",
      "\t1:\taxis_pfb_readout_v2 - configured by PYNQ\n",
      "\t\tfs=2457.600 MHz, decimated=307.200 MHz, 32-bit DDS, range=307.200 MHz\n",
      "\t\tmaxlen 16384 accumulated, 1024 decimated (3.333 us)\n",
      "\t\ttriggered by output 7, pin 9, feedback to tProc input 1\n",
      "\t\tADC tile 2, blk 0 is 0_226, on JHC7\n",
      "\t2:\taxis_pfb_readout_v2 - configured by PYNQ\n",
      "\t\tfs=2457.600 MHz, decimated=307.200 MHz, 32-bit DDS, range=307.200 MHz\n",
      "\t\tmaxlen 16384 accumulated, 1024 decimated (3.333 us)\n",
      "\t\ttriggered by output 7, pin 10, feedback to tProc input 2\n",
      "\t\tADC tile 2, blk 0 is 0_226, on JHC7\n",
      "\t3:\taxis_pfb_readout_v2 - configured by PYNQ\n",
      "\t\tfs=2457.600 MHz, decimated=307.200 MHz, 32-bit DDS, range=307.200 MHz\n",
      "\t\tmaxlen 16384 accumulated, 1024 decimated (3.333 us)\n",
      "\t\ttriggered by output 7, pin 11, feedback to tProc input 3\n",
      "\t\tADC tile 2, blk 0 is 0_226, on JHC7\n",
      "\n",
      "\t8 digital output pins:\n",
      "\t0:\tPMOD0_0_LS\n",
      "\t1:\tPMOD0_1_LS\n",
      "\t2:\tPMOD0_2_LS\n",
      "\t3:\tPMOD0_3_LS\n",
      "\t4:\tPMOD0_4_LS\n",
      "\t5:\tPMOD0_5_LS\n",
      "\t6:\tPMOD0_6_LS\n",
      "\t7:\tPMOD0_7_LS\n",
      "\n",
      "\ttProc axis_tproc64x32_x8 (\"v1\") rev 4: program memory 16384 words, data memory 4096 words\n",
      "\t\texternal start pin: PMOD1_0_LS\n"
     ]
    }
   ],
   "source": [
    "soc = QickConfig(im[yaml_cfg['aliases']['soc']].get_cfg())\n",
    "print(soc)\n",
    "# print(soc.description())\n",
    "# print(soc.dump_cfg())\n",
    "\n",
    "# soc = QickConfig(im['Qick187'].get_cfg())"
   ]
  },
  {
   "cell_type": "code",
   "execution_count": 11,
   "metadata": {},
   "outputs": [],
   "source": [
    "# lo1 = im[yaml_cfg.aliases.readout_LO]\n",
    "# lo1.open_device()\n",
    "# print(lo1.get_id())\n",
    "\n",
    "# # TURN OFF\n",
    "# lo1.set_standby(True)\n",
    "# lo1.set_output_state(False)\n",
    "\n",
    "# # # TURN ON\n",
    "# # lo1.set_standby(False)\n",
    "# # lo1.set_output_state(True)\n",
    "# # lo_freq = float(yaml_cfg.hw.lo.readout.frequency)\n",
    "# # lo_power = float(yaml_cfg.hw.lo.readout.power)\n",
    "# # lo1.set_frequency(lo_freq) # Set LO frequency\n",
    "# # print(f'set freq to [MHz] {lo_freq*1e-6}')\n",
    "# # lo1.set_power(lo_power) # Set LO power\n",
    "# # print('set power to', lo_power)"
   ]
  },
  {
   "cell_type": "markdown",
   "metadata": {},
   "source": [
    "## Set TWPA parameters\n",
    "\n",
    "Set in config:\n",
    "- LO alias, frequency, power\n",
    "- SOC dac channels, nyquist zones"
   ]
  },
  {
   "cell_type": "code",
   "execution_count": 14,
   "metadata": {},
   "outputs": [
    {
     "name": "stdout",
     "output_type": "stream",
     "text": [
      "Using config file config_q3diamond_full688and638_reset.yml\n",
      "Default Instrument SC_26C1\n",
      "set twpa pump freq to 8194.0 MHz\n",
      "set twpa pump power to -0.6 dBm\n"
     ]
    }
   ],
   "source": [
    "\"\"\"\n",
    "TWPA ON\n",
    "\"\"\"\n",
    "\n",
    "print('Using config file', config_file)\n",
    "with open(config_path, 'r') as cfg_file:\n",
    "    yaml_cfg = yaml.safe_load(cfg_file)\n",
    "yaml_cfg = AttrDict(yaml_cfg)\n",
    "im = InstrumentManager(ns_address='10.108.30.56') # Spilker Fermium\n",
    "\n",
    "lo_twpa = im[yaml_cfg.aliases.twpa_LO]\n",
    "# lo_twpa = SignalCore(name=\"SignalCore\", address='10003494')\n",
    "lo_twpa.open_device()\n",
    "print(lo_twpa.get_id())\n",
    "\n",
    "# TURN ON\n",
    "lo_twpa.set_standby(False)\n",
    "lo_twpa.set_output_state(True)\n",
    "twpa_freq = float(yaml_cfg.hw.lo.twpa.frequency)\n",
    "twpa_power = float(yaml_cfg.hw.lo.twpa.power)\n",
    "lo_twpa.set_frequency(twpa_freq) # Set LO frequency\n",
    "print(f'set twpa pump freq to {twpa_freq*1e-6} MHz')\n",
    "lo_twpa.set_power(twpa_power) # Set LO power\n",
    "print(f'set twpa pump power to {twpa_power} dBm')"
   ]
  },
  {
   "cell_type": "code",
   "execution_count": 13,
   "metadata": {},
   "outputs": [
    {
     "name": "stdout",
     "output_type": "stream",
     "text": [
      "Default Instrument SC_26C1\n"
     ]
    },
    {
     "data": {
      "text/plain": [
       "0"
      ]
     },
     "execution_count": 13,
     "metadata": {},
     "output_type": "execute_result"
    }
   ],
   "source": [
    "\"\"\"\n",
    "TWPA OFF\n",
    "\"\"\"\n",
    "im = InstrumentManager(ns_address='10.108.30.56') # Spilker Fermium\n",
    "\n",
    "lo_twpa = im[yaml_cfg.aliases.twpa_LO]\n",
    "# lo_twpa = SignalCore(name=\"SignalCore\", address='10003494')\n",
    "lo_twpa.open_device()\n",
    "print(lo_twpa.get_id())\n",
    "\n",
    "# TURN OFF\n",
    "lo_twpa.set_standby(True)\n",
    "lo_twpa.set_output_state(False)"
   ]
  },
  {
   "cell_type": "markdown",
   "metadata": {},
   "source": [
    "# Qubit/resonator to probe"
   ]
  },
  {
   "cell_type": "code",
   "execution_count": 19,
   "metadata": {},
   "outputs": [],
   "source": [
    "all_results = [dict(), dict(), dict(), dict()]\n",
    "saved_files = []"
   ]
  },
  {
   "cell_type": "code",
   "execution_count": 20,
   "metadata": {},
   "outputs": [],
   "source": [
    "qubit_i = 2\n",
    "results_Qi = all_results[qubit_i]"
   ]
  },
  {
   "cell_type": "code",
   "execution_count": 21,
   "metadata": {},
   "outputs": [],
   "source": [
    "full_mux_expt = False\n",
    "resonator_reset = [0, 2, 3] if full_mux_expt else None\n",
    "use_robust_pulses = True"
   ]
  },
  {
   "cell_type": "markdown",
   "metadata": {},
   "source": [
    "## Set reps and rounds"
   ]
  },
  {
   "cell_type": "code",
   "execution_count": 22,
   "metadata": {},
   "outputs": [],
   "source": [
    "reps = 100\n",
    "rounds = 10"
   ]
  },
  {
   "cell_type": "markdown",
   "metadata": {},
   "source": [
    "# RFSoC Calibration"
   ]
  },
  {
   "cell_type": "code",
   "execution_count": null,
   "metadata": {},
   "outputs": [],
   "source": [
    "tof = meas.ToFCalibrationExperiment(\n",
    "    soccfg=soc,\n",
    "    path=expt_path,\n",
    "    prefix=f\"adc_trig_offset_calibration_qubit{qubit_i}\",\n",
    "    config_file=config_path,\n",
    ")\n",
    "\n",
    "tof.cfg.expt = dict(\n",
    "    pulse_length=0.5, # [us]\n",
    "    readout_length=1.0, # [us]\n",
    "    trig_offset=0, # [clock ticks]\n",
    "    # gain=32000,\n",
    "    gain=0.8, # [MUX units: -1 to 1]\n",
    "    frequency=tof.cfg.device.readout.frequency[qubit_i]-15, # [MHz]\n",
    "    reps=reps*rounds, # Number of averages per point\n",
    "    # qubit=qubit_i,\n",
    "    qubit=qubit_i,\n",
    ")\n",
    "tof.cfg.device.readout.relax_delay=0.1 # wait time between experiments [us]\n",
    "# print(tof.cfg)\n",
    "\n",
    "try:\n",
    "    tof.go(analyze=False, display=False, progress=True, save=False)\n",
    "except Exception:\n",
    "    print(\"Pyro traceback:\")\n",
    "    print(\"\".join(Pyro4.util.getPyroTraceback()))"
   ]
  },
  {
   "cell_type": "code",
   "execution_count": null,
   "metadata": {},
   "outputs": [],
   "source": [
    "tof.display(adc_trig_offset=150)"
   ]
  },
  {
   "cell_type": "markdown",
   "metadata": {},
   "source": [
    "# Initial single tone resonator spectroscopy"
   ]
  },
  {
   "cell_type": "code",
   "execution_count": 86,
   "metadata": {},
   "outputs": [
    {
     "data": {
      "application/vnd.jupyter.widget-view+json": {
       "model_id": "7756f18948fb41779d17225fa56e1312",
       "version_major": 2,
       "version_minor": 0
      },
      "text/plain": [
       "  0%|          | 0/150 [00:00<?, ?it/s]"
      ]
     },
     "metadata": {},
     "output_type": "display_data"
    }
   ],
   "source": [
    "rspec = meas.ResonatorSpectroscopyExperiment(\n",
    "    soccfg=soc,\n",
    "    path=expt_path,\n",
    "    prefix=f\"resonator_spectroscopy_qubit{qubit_i}\",\n",
    "    config_file=config_path,\n",
    ")\n",
    "rspec.cfg = AttrDict(deepcopy(yaml_cfg))\n",
    "\n",
    "span = 1.0 # MHz\n",
    "npts = 150\n",
    "rspec.cfg.expt = dict(\n",
    "    start=rspec.cfg.device.readout.frequency[qubit_i]-span/2, # [MHz]\n",
    "    step=span/npts,\n",
    "    expts=npts,\n",
    "    reps=reps*rounds,\n",
    "    pulse_e=False, # add ge pi pulse prior to measurement\n",
    "    pulse_f=False, # add ef pi pulse prior to measurement\n",
    "    qTest=qubit_i,\n",
    "    qZZ=None,\n",
    "\n",
    "    resonator_reset=resonator_reset,\n",
    "    full_mux_expt=full_mux_expt,\n",
    ")\n",
    "# rspec.cfg.device.readout.gain[qubit_i] /= 3\n",
    "# rspec.cfg.device.readout.readout_length = [3*rspec.cfg.device.readout.readout_length[qubit_i]]*4\n",
    "\n",
    "rspec.cfg.device.readout.relax_delay = 25 # Wait time between experiments [us] - should be 5x resonator lifetime for good shape\n",
    "\n",
    "try:\n",
    "    rspec.go(analyze=False, display=False, progress=True, save=False)\n",
    "except Exception:\n",
    "    print(\"Pyro traceback:\")\n",
    "    print(\"\".join(Pyro4.util.getPyroTraceback()))"
   ]
  },
  {
   "cell_type": "code",
   "execution_count": 87,
   "metadata": {},
   "outputs": [
    {
     "name": "stdout",
     "output_type": "stream",
     "text": [
      "electrical delay phase correction (no mux support) (deg) 4.729156607233271\n",
      "param guess [7702.3649000000005, 38511.8245, 38511.8245, 0, 0.3000527206662833, 0.7707919684037302]\n",
      "param bounds ([7701.874900000001, 0, 0, -6.283185307179586, -0.45007908099942495, -inf], [7702.8549, 1000000000.0, 100000000.0, 6.283185307179586, 0.45007908099942495, 1.052148575800202])\n",
      "popt [ 7.70240024e+03  6.74723299e+04  5.48738880e+04 -4.51068724e-01\n",
      "  2.52927528e-02 -8.35446851e-02]\n",
      "\n",
      "Freq with minimum transmission: 502.35490000000067\n",
      "Freq with maximum transmission: 502.848233333334\n",
      "From fit:\n",
      "\tf0: 7702.400243615755\n",
      "\tQi: 67472.32986604629 \t kappa_i/2pi: 0.11415642914521304\n",
      "\tQe: 54873.887972644814 \t kappa_e/2pi: 0.1403654912780279\n",
      "\tQ0: 30262.22743725783\n",
      "\tkappa [MHz]: 0.25452192042324095\n",
      "\tphi [radians]: -0.4510687241471329\n",
      "baseline 63.29819704922005\n",
      "*Set cfg res 2 freq to 502.36156666666733*\n",
      "qubit 2 {'Qubit EF freq': 4574.2134872558845, 'T2R EF': 15.233515280933435, 'T2R EF err': 1.6586265411281977, 'Pi EF pulse gain': 13138, 'T2E EF': 21.632448119150048, 'T2E EF err': 1.6481093691006576, 'Pi/2 EF pulse gain': 30000, 'Pi/2 pulse gain': 3378, 'Res chi shift (e - g)': -0.9635761589403842, 'Res chi shift (f - g)': -1.009933774834451, 'Res freq ef (yaml)': 501.35829955849954, 'T1_EF': 8.82646968911557, 'T1_EF err': 2.176960259233138, 'Single shot g-e fidelity (%)': 62.39852012751592, 'Res freq': 7702.361566666667, 'Res freq (yaml)': 502.36156666666733, 'Res kappa': 0.25452192042324095}\n"
     ]
    }
   ],
   "source": [
    "# TESTING\n",
    "# # rspec = meas.ResonatorSpectroscopyExperiment(config_file=config_path,) \n",
    "# temp_data, attrs = prev_data(expt_path, '00001_resonator_spectroscopy_qubit2.h5')\n",
    "# rspec.data = temp_data\n",
    "\n",
    "rspec.data = rspec.analyze(fit=True)\n",
    "rspec_fit = rspec.data['fit']\n",
    "# if not isinstance(rspec_fit, (list, np.ndarray)):\n",
    "#     rspec.display(fit=False)\n",
    "#     assert False, 'Fit failed, please manually fix!'\n",
    "rspec.display(fit=True)\n",
    "# yaml_cfg.device.readout.frequency[qubit_i] = rspec_fit[0]\n",
    "\n",
    "res_freq_g = rspec.data['xpts'][np.argmin(rspec.data['amps'])]\n",
    "# res_freq_g = rspec.data['xpts'][np.argmax(rspec.data['amps'])]\n",
    "yaml_cfg.device.readout.frequency[qubit_i] = res_freq_g\n",
    "\n",
    "print(f'*Set cfg res {qubit_i} freq to {yaml_cfg.device.readout.frequency[qubit_i]}*')\n",
    "results_Qi.update({'Res freq':float(yaml_cfg.hw.lo.readout.frequency)*1e-6 + yaml_cfg.device.readout.lo_sideband[qubit_i]*(yaml_cfg.device.readout.frequency[qubit_i] + yaml_cfg.hw.soc.dacs.readout.mixer_freq[qubit_i])})\n",
    "results_Qi.update({'Res freq (yaml)':yaml_cfg.device.readout.frequency[qubit_i]})\n",
    "results_Qi.update({'Res kappa':abs(rspec_fit[0]*(1/rspec_fit[1] + 1/rspec_fit[2]))})\n",
    "print(f'qubit {qubit_i}', results_Qi)"
   ]
  },
  {
   "cell_type": "code",
   "execution_count": 126,
   "metadata": {},
   "outputs": [],
   "source": [
    "if save_data: saved_files.append(rspec.save_data())"
   ]
  },
  {
   "cell_type": "markdown",
   "metadata": {},
   "source": [
    "# Qubit ge spectroscopy"
   ]
  },
  {
   "cell_type": "markdown",
   "metadata": {},
   "source": [
    "## Pulse Probe (qubit) spectroscopy"
   ]
  },
  {
   "cell_type": "code",
   "execution_count": 231,
   "metadata": {},
   "outputs": [
    {
     "name": "stdout",
     "output_type": "stream",
     "text": [
      "Running pulse probe on Q3 \n"
     ]
    },
    {
     "data": {
      "application/vnd.jupyter.widget-view+json": {
       "model_id": "d1d5460935804090bcd6301e295d1d0b",
       "version_major": 2,
       "version_minor": 0
      },
      "text/plain": [
       "  0%|          | 0/10 [00:00<?, ?it/s]"
      ]
     },
     "metadata": {},
     "output_type": "display_data"
    }
   ],
   "source": [
    "qspec = meas.PulseProbeSpectroscopyExperiment(\n",
    "    soccfg=soc,\n",
    "    path=expt_path,\n",
    "    prefix=f\"qubit_spectroscopy_qubit{qubit_i}\",\n",
    "    config_file=config_path,\n",
    ")\n",
    "qspec.cfg = AttrDict(deepcopy(yaml_cfg))\n",
    "\n",
    "span = 50\n",
    "npts = 250\n",
    "\n",
    "qspec.cfg.expt = dict(\n",
    "    start=np.reshape(yaml_cfg.device.qubit.f_ge, (4,4))[qubit_i, qubit_i]-span/2, # [MHz]\n",
    "    step=span/npts,\n",
    "    expts=npts,\n",
    "    reps=reps, # Number of averages per point\n",
    "    rounds=rounds, # Number of start to finish sweeps to average over\n",
    "    length=1, # Qubit probe constant pulse length [us]\n",
    "    gain=int(np.reshape(yaml_cfg.device.qubit.pulses.pi_ge.gain, (4,4))[qubit_i, qubit_i]/10), # Qubit pulse gain\n",
    "    pulse_type='gauss',\n",
    "    qTest=qubit_i,\n",
    "    qZZ=None,\n",
    "    checkEF=False,\n",
    ")\n",
    "qspec.cfg.device.readout.relax_delay = 10 # Wait time between experiments [us]\n",
    "qspec.go(analyze=False, display=False, progress=True, save=False)"
   ]
  },
  {
   "cell_type": "code",
   "execution_count": 232,
   "metadata": {},
   "outputs": [
    {
     "name": "stdout",
     "output_type": "stream",
     "text": [
      "Found peak in amps at [MHz] 4377.961071249494, HWHM 0.2889794375179536\n",
      "Found peak in I at [MHz] 4377.9777077297285, HWHM -0.29757487485255224\n",
      "Found peak in Q at [MHz] 4377.95260123418, HWHM 0.2850932730169064\n",
      "best 0 0.02797902174640183\n",
      "*Set qubit 3 f_ge to 4377.961071249494*\n",
      "{'Qubit freq': 4377.961071249494, 'T1': 31.07377161991536, 'T1 err': 1.7658704555417863, 'T2R': 32.06829908349514, 'T2R err': 1.628634280696754, 'Qubit EF freq': 4204.964704068256, 'T2R EF': 14.743982948593079, 'T2R EF err': 1.0729044094517184, 'Res freq': 6971.153333333334, 'Res freq (yaml)': -228.84666666666666, 'Res kappa': 0.2518690613409693}\n"
     ]
    }
   ],
   "source": [
    "# # TESTING\n",
    "# # qspec = meas.PulseProbeSpectroscopyExperiment(config_file=config_path,)\n",
    "# temp_data, attrs = prev_data(expt_path, '00001_qubit_spectroscopy_qubit0.h5')\n",
    "# qspec.data = temp_data\n",
    "\n",
    "best_signs = [1, 0, 0]\n",
    "best_fit_err_i = np.inf\n",
    "best_fit_err_q = np.inf\n",
    "for sign in [1, -1]:\n",
    "    try: \n",
    "        qspec.analyze(fit=True, signs=[1, sign, sign])\n",
    "        fit_err_i = qspec.data['fit_err_avgi'][2][2]\n",
    "        fit_err_q = qspec.data['fit_err_avgq'][2][2]\n",
    "        if fit_err_i < best_fit_err_i:\n",
    "            best_signs[1] = sign\n",
    "            best_fit_err_i = fit_err_i\n",
    "        if fit_err_q < best_fit_err_q:\n",
    "            best_signs[2] = sign\n",
    "            best_fit_err_q = fit_err_q\n",
    "    except: continue\n",
    "if best_fit_err_i == np.inf and best_fit_err_q == np.inf:\n",
    "    qspec.display(fit=False)\n",
    "    assert False, 'Fit failed, please manually fix!'\n",
    "\n",
    "qspec.analyze(fit=True, signs=best_signs)\n",
    "qspec.display(fit=True, signs=best_signs)\n",
    "\n",
    "qspec_fit, qspec_fit_err = meas.fitting.get_best_fit(qspec.data)\n",
    "yaml_cfg.device.qubit.f_ge = np.reshape(yaml_cfg.device.qubit.f_ge, (4,4))\n",
    "yaml_cfg.device.qubit.f_ge[qubit_i, qubit_i] = qspec_fit[2]\n",
    "print(f'*Set qubit {qubit_i} f_ge to {yaml_cfg.device.qubit.f_ge[qubit_i, qubit_i]}*')\n",
    "results_Qi.update({'Qubit freq':yaml_cfg.device.qubit.f_ge[qubit_i, qubit_i] + yaml_cfg.hw.soc.dacs.qubit.mixer_freq[qubit_i]})\n",
    "yaml_cfg.device.qubit.f_ge = yaml_cfg.device.qubit.f_ge.flatten().tolist()\n",
    "print(results_Qi)"
   ]
  },
  {
   "cell_type": "code",
   "execution_count": 134,
   "metadata": {},
   "outputs": [],
   "source": [
    "if save_data: saved_files.append(qspec.save_data())"
   ]
  },
  {
   "cell_type": "markdown",
   "metadata": {},
   "source": [
    "## Pulse Probe (qubit) spectroscopy round 2"
   ]
  },
  {
   "cell_type": "code",
   "execution_count": 89,
   "metadata": {},
   "outputs": [
    {
     "name": "stdout",
     "output_type": "stream",
     "text": [
      "Running pulse probe on Q2 \n"
     ]
    },
    {
     "data": {
      "application/vnd.jupyter.widget-view+json": {
       "model_id": "f381b046e82f4a93b4f944f9400308cf",
       "version_major": 2,
       "version_minor": 0
      },
      "text/plain": [
       "  0%|          | 0/10 [00:00<?, ?it/s]"
      ]
     },
     "metadata": {},
     "output_type": "display_data"
    }
   ],
   "source": [
    "qspec2 = meas.PulseProbeSpectroscopyExperiment(\n",
    "    soccfg=soc,\n",
    "    path=expt_path,\n",
    "    prefix=f\"qubit_spectroscopy_qubit{qubit_i}\",\n",
    "    config_file=config_path,\n",
    ")\n",
    "qspec2.cfg = AttrDict(deepcopy(yaml_cfg))\n",
    "\n",
    "span = 15\n",
    "npts = 250\n",
    "\n",
    "qspec2.cfg.expt = dict(\n",
    "    start=np.reshape(qspec2.cfg.device.qubit.f_ge, (4,4))[qubit_i, qubit_i]-span/2, # [MHz]\n",
    "    step=span/npts,\n",
    "    expts=npts,\n",
    "    reps=reps, # Number of averages per point\n",
    "    rounds=rounds, # Number of start to finish sweeps to average over\n",
    "    length=1, # Qubit probe constant pulse length [us]\n",
    "    gain=int(np.reshape(yaml_cfg.device.qubit.pulses.pi_ge.gain, (4,4))[qubit_i, qubit_i]/80), # Qubit pulse gain\n",
    "    pulse_type='gauss',\n",
    "    qTest=qubit_i,\n",
    "    qZZ=None,\n",
    "    checkEF=False,\n",
    ")\n",
    "qspec2.cfg.device.readout.relax_delay = 10 # Wait time between experiments [us]\n",
    "qspec2.go(analyze=False, display=False, progress=True, save=False)"
   ]
  },
  {
   "cell_type": "code",
   "execution_count": 90,
   "metadata": {},
   "outputs": [
    {
     "name": "stdout",
     "output_type": "stream",
     "text": [
      "Found peak in amps at [MHz] 4759.4495420551475, HWHM 0.3657593779895565\n",
      "Found peak in I at [MHz] 4759.455401458371, HWHM 0.37003096061515717\n",
      "Found peak in Q at [MHz] 4759.446958312547, HWHM 0.3654137877181693\n",
      "best 0 0.02295267445702378\n",
      "*Set qubit 2 f_ge to 4759.4495420551475*\n",
      "{'Res freq': 7702.361566666667, 'Res freq (yaml)': 502.36156666666733, 'Res kappa': 0.2329092543753419, 'Qubit freq': 4759.4495420551475}\n"
     ]
    }
   ],
   "source": [
    "# # TESTING\n",
    "# # qspec2 = meas.PulseProbeSpectroscopyExperiment(config_file=config_path,)\n",
    "# temp_data, attrs = prev_data(expt_path, '00001_qubit_spectroscopy_qubit0.h5')\n",
    "# qspec2.data = temp_data\n",
    "\n",
    "best_signs = [1, 0, 0]\n",
    "best_fit_err_i = np.inf\n",
    "best_fit_err_q = np.inf\n",
    "for sign in [1, -1]:\n",
    "    try: \n",
    "        qspec2.analyze(fit=True, signs=[1, sign, sign])\n",
    "        fit_err_amps = qspec2.data['fit_err_amps'][2][2]\n",
    "        fit_err_i = qspec2.data['fit_err_avgi'][2][2]\n",
    "        fit_err_q = qspec2.data['fit_err_avgq'][2][2]\n",
    "        if fit_err_i < best_fit_err_i:\n",
    "            best_signs[1] = sign\n",
    "            best_fit_err_i = fit_err_i\n",
    "        if fit_err_q < best_fit_err_q:\n",
    "            best_signs[2] = sign\n",
    "            best_fit_err_q = fit_err_q\n",
    "    except: continue\n",
    "if fit_err_amps == np.inf and best_fit_err_i == np.inf and best_fit_err_q == np.inf:\n",
    "    qspec2.display(fit=False)\n",
    "    assert False, 'Fit failed, please manually fix!'\n",
    "\n",
    "qspec2.analyze(fit=True, signs=best_signs)\n",
    "qspec2.display(fit=True, signs=best_signs)\n",
    "\n",
    "qspec2_fit, qspec2_fit_err = meas.fitting.get_best_fit(qspec2.data)\n",
    "yaml_cfg.device.qubit.f_ge = np.reshape(yaml_cfg.device.qubit.f_ge, (4,4))\n",
    "yaml_cfg.device.qubit.f_ge[qubit_i, qubit_i] = qspec2_fit[2]\n",
    "qubit_hwhm = qspec2_fit[3]\n",
    "print(f'*Set qubit {qubit_i} f_ge to {yaml_cfg.device.qubit.f_ge[qubit_i, qubit_i]}*')\n",
    "results_Qi.update({'Qubit freq':yaml_cfg.device.qubit.f_ge[qubit_i, qubit_i] + yaml_cfg.hw.soc.dacs.qubit.mixer_freq[qubit_i]})\n",
    "yaml_cfg.device.qubit.f_ge = yaml_cfg.device.qubit.f_ge.flatten().tolist()\n",
    "print(results_Qi)"
   ]
  },
  {
   "cell_type": "code",
   "execution_count": 91,
   "metadata": {},
   "outputs": [],
   "source": [
    "if save_data: saved_files.append(qspec2.save_data())"
   ]
  },
  {
   "cell_type": "markdown",
   "metadata": {},
   "source": [
    "## Length Rabi"
   ]
  },
  {
   "cell_type": "code",
   "execution_count": 22,
   "metadata": {},
   "outputs": [
    {
     "name": "stdout",
     "output_type": "stream",
     "text": [
      "Running length rabi on Q0 \n"
     ]
    },
    {
     "data": {
      "application/vnd.jupyter.widget-view+json": {
       "model_id": "9988df161e5c4b6b9b3333cbbd78d929",
       "version_major": 2,
       "version_minor": 0
      },
      "text/plain": [
       "  0%|          | 0/121 [00:00<?, ?it/s]"
      ]
     },
     "metadata": {},
     "output_type": "display_data"
    },
    {
     "ename": "KeyboardInterrupt",
     "evalue": "",
     "output_type": "error",
     "traceback": [
      "\u001b[1;31m---------------------------------------------------------------------------\u001b[0m",
      "\u001b[1;31mKeyboardInterrupt\u001b[0m                         Traceback (most recent call last)",
      "Cell \u001b[1;32mIn[22], line 24\u001b[0m\n\u001b[0;32m     20\u001b[0m \u001b[38;5;66;03m# lengthrabi.cfg.device.readout.relax_delay = 50 # Wait time between experiments [us]\u001b[39;00m\n\u001b[0;32m     21\u001b[0m \u001b[38;5;66;03m# lengthrabi.pi_ge.gain[4*qubit_i+qubit_i] = 5000 # qubit gain [DAC units],\u001b[39;00m\n\u001b[0;32m     23\u001b[0m \u001b[38;5;28;01mtry\u001b[39;00m:\n\u001b[1;32m---> 24\u001b[0m     \u001b[43mlengthrabi\u001b[49m\u001b[38;5;241;43m.\u001b[39;49m\u001b[43mgo\u001b[49m\u001b[43m(\u001b[49m\u001b[43manalyze\u001b[49m\u001b[38;5;241;43m=\u001b[39;49m\u001b[38;5;28;43;01mFalse\u001b[39;49;00m\u001b[43m,\u001b[49m\u001b[43m \u001b[49m\u001b[43mdisplay\u001b[49m\u001b[38;5;241;43m=\u001b[39;49m\u001b[38;5;28;43;01mFalse\u001b[39;49;00m\u001b[43m,\u001b[49m\u001b[43m \u001b[49m\u001b[43mprogress\u001b[49m\u001b[38;5;241;43m=\u001b[39;49m\u001b[38;5;28;43;01mTrue\u001b[39;49;00m\u001b[43m,\u001b[49m\u001b[43m \u001b[49m\u001b[43msave\u001b[49m\u001b[38;5;241;43m=\u001b[39;49m\u001b[38;5;28;43;01mFalse\u001b[39;49;00m\u001b[43m)\u001b[49m\n\u001b[0;32m     25\u001b[0m \u001b[38;5;28;01mexcept\u001b[39;00m \u001b[38;5;167;01mException\u001b[39;00m:\n\u001b[0;32m     26\u001b[0m     \u001b[38;5;28mprint\u001b[39m(\u001b[38;5;124m\"\u001b[39m\u001b[38;5;124mPyro traceback:\u001b[39m\u001b[38;5;124m\"\u001b[39m)\n",
      "File \u001b[1;32m~\\slab\\experiment.py:115\u001b[0m, in \u001b[0;36mExperiment.go\u001b[1;34m(self, save, analyze, display, progress)\u001b[0m\n\u001b[0;32m    112\u001b[0m \u001b[38;5;28;01mdef\u001b[39;00m \u001b[38;5;21mgo\u001b[39m(\u001b[38;5;28mself\u001b[39m, save\u001b[38;5;241m=\u001b[39m\u001b[38;5;28;01mFalse\u001b[39;00m, analyze\u001b[38;5;241m=\u001b[39m\u001b[38;5;28;01mFalse\u001b[39;00m, display\u001b[38;5;241m=\u001b[39m\u001b[38;5;28;01mFalse\u001b[39;00m, progress\u001b[38;5;241m=\u001b[39m\u001b[38;5;28;01mFalse\u001b[39;00m):\n\u001b[0;32m    113\u001b[0m     \u001b[38;5;66;03m# get data\u001b[39;00m\n\u001b[1;32m--> 115\u001b[0m     data\u001b[38;5;241m=\u001b[39m\u001b[38;5;28;43mself\u001b[39;49m\u001b[38;5;241;43m.\u001b[39;49m\u001b[43macquire\u001b[49m\u001b[43m(\u001b[49m\u001b[43mprogress\u001b[49m\u001b[43m)\u001b[49m\n\u001b[0;32m    116\u001b[0m     \u001b[38;5;28;01mif\u001b[39;00m analyze:\n\u001b[0;32m    117\u001b[0m         data\u001b[38;5;241m=\u001b[39m\u001b[38;5;28mself\u001b[39m\u001b[38;5;241m.\u001b[39manalyze(data)\n",
      "File \u001b[1;32ms:\\Seb\\experiements\\qram_tprocv1_expts\\experiments\\single_qubit\\length_rabi.py:359\u001b[0m, in \u001b[0;36mLengthRabiExperiment.acquire\u001b[1;34m(self, progress)\u001b[0m\n\u001b[0;32m    353\u001b[0m \u001b[38;5;28mself\u001b[39m\u001b[38;5;241m.\u001b[39mprog \u001b[38;5;241m=\u001b[39m lengthrabi\n\u001b[0;32m    355\u001b[0m \u001b[38;5;66;03m# print('\\n\\n', length)\u001b[39;00m\n\u001b[0;32m    356\u001b[0m \u001b[38;5;66;03m# from qick.helpers import progs2json\u001b[39;00m\n\u001b[0;32m    357\u001b[0m \u001b[38;5;66;03m# print(progs2json([self.prog.dump_prog()]))\u001b[39;00m\n\u001b[1;32m--> 359\u001b[0m avgi, avgq \u001b[38;5;241m=\u001b[39m \u001b[43mlengthrabi\u001b[49m\u001b[38;5;241;43m.\u001b[39;49m\u001b[43macquire\u001b[49m\u001b[43m(\u001b[49m\u001b[38;5;28;43mself\u001b[39;49m\u001b[38;5;241;43m.\u001b[39;49m\u001b[43mim\u001b[49m\u001b[43m[\u001b[49m\u001b[38;5;28;43mself\u001b[39;49m\u001b[38;5;241;43m.\u001b[39;49m\u001b[43mcfg\u001b[49m\u001b[38;5;241;43m.\u001b[39;49m\u001b[43maliases\u001b[49m\u001b[38;5;241;43m.\u001b[39;49m\u001b[43msoc\u001b[49m\u001b[43m]\u001b[49m\u001b[43m)\u001b[49m\n\u001b[0;32m    360\u001b[0m \u001b[38;5;28mself\u001b[39m\u001b[38;5;241m.\u001b[39mcfg\u001b[38;5;241m.\u001b[39mexpt\u001b[38;5;241m.\u001b[39mgain \u001b[38;5;241m=\u001b[39m lengthrabi\u001b[38;5;241m.\u001b[39mcfg\u001b[38;5;241m.\u001b[39mexpt\u001b[38;5;241m.\u001b[39mgain\n\u001b[0;32m    361\u001b[0m avgi \u001b[38;5;241m=\u001b[39m avgi[qTest][\u001b[38;5;241m0\u001b[39m]\n",
      "File \u001b[1;32ms:\\Seb\\experiements\\qram_tprocv1_expts\\experiments\\clifford_averager_program.py:1811\u001b[0m, in \u001b[0;36mCliffordAveragerProgram.acquire\u001b[1;34m(self, soc, load_pulses, progress, save_experiments, **kwargs)\u001b[0m\n\u001b[0;32m   1809\u001b[0m     \u001b[38;5;28mself\u001b[39m\u001b[38;5;241m.\u001b[39mcfg\u001b[38;5;241m.\u001b[39mexpt\u001b[38;5;241m.\u001b[39mn_trig \u001b[38;5;241m=\u001b[39m \u001b[38;5;241m1\u001b[39m\n\u001b[0;32m   1810\u001b[0m     \u001b[38;5;28mself\u001b[39m\u001b[38;5;241m.\u001b[39mcfg\u001b[38;5;241m.\u001b[39mexpt\u001b[38;5;241m.\u001b[39mn_init_readout \u001b[38;5;241m=\u001b[39m \u001b[38;5;241m0\u001b[39m\n\u001b[1;32m-> 1811\u001b[0m \u001b[38;5;28;01mreturn\u001b[39;00m \u001b[38;5;28;43msuper\u001b[39;49m\u001b[43m(\u001b[49m\u001b[43m)\u001b[49m\u001b[38;5;241;43m.\u001b[39;49m\u001b[43macquire\u001b[49m\u001b[43m(\u001b[49m\n\u001b[0;32m   1812\u001b[0m \u001b[43m    \u001b[49m\u001b[43msoc\u001b[49m\u001b[43m,\u001b[49m\n\u001b[0;32m   1813\u001b[0m \u001b[43m    \u001b[49m\u001b[43mload_pulses\u001b[49m\u001b[38;5;241;43m=\u001b[39;49m\u001b[43mload_pulses\u001b[49m\u001b[43m,\u001b[49m\n\u001b[0;32m   1814\u001b[0m \u001b[43m    \u001b[49m\u001b[43mprogress\u001b[49m\u001b[38;5;241;43m=\u001b[39;49m\u001b[43mprogress\u001b[49m\u001b[43m,\u001b[49m\n\u001b[0;32m   1815\u001b[0m \u001b[43m    \u001b[49m\u001b[43mreadouts_per_experiment\u001b[49m\u001b[38;5;241;43m=\u001b[39;49m\u001b[38;5;241;43m1\u001b[39;49m\u001b[43m \u001b[49m\u001b[38;5;241;43m+\u001b[39;49m\u001b[43m \u001b[49m\u001b[38;5;28;43mself\u001b[39;49m\u001b[38;5;241;43m.\u001b[39;49m\u001b[43mcfg\u001b[49m\u001b[38;5;241;43m.\u001b[39;49m\u001b[43mexpt\u001b[49m\u001b[38;5;241;43m.\u001b[39;49m\u001b[43mn_trig\u001b[49m\u001b[43m \u001b[49m\u001b[38;5;241;43m*\u001b[39;49m\u001b[43m \u001b[49m\u001b[38;5;28;43mself\u001b[39;49m\u001b[38;5;241;43m.\u001b[39;49m\u001b[43mcfg\u001b[49m\u001b[38;5;241;43m.\u001b[39;49m\u001b[43mexpt\u001b[49m\u001b[38;5;241;43m.\u001b[39;49m\u001b[43mn_init_readout\u001b[49m\u001b[43m,\u001b[49m\n\u001b[0;32m   1816\u001b[0m \u001b[43m    \u001b[49m\u001b[43msave_experiments\u001b[49m\u001b[38;5;241;43m=\u001b[39;49m\u001b[43msave_experiments\u001b[49m\u001b[43m,\u001b[49m\n\u001b[0;32m   1817\u001b[0m \u001b[43m\u001b[49m\u001b[43m)\u001b[49m\n",
      "File \u001b[1;32mc:\\users\\slab\\qick\\qick_lib\\qick\\averager_program.py:106\u001b[0m, in \u001b[0;36mAveragerProgram.acquire\u001b[1;34m(self, soc, threshold, angle, readouts_per_experiment, save_experiments, load_pulses, start_src, progress, remove_offset)\u001b[0m\n\u001b[0;32m    103\u001b[0m \u001b[38;5;28;01mif\u001b[39;00m readouts_per_experiment \u001b[38;5;129;01mis\u001b[39;00m \u001b[38;5;129;01mnot\u001b[39;00m \u001b[38;5;28;01mNone\u001b[39;00m:\n\u001b[0;32m    104\u001b[0m     \u001b[38;5;28mself\u001b[39m\u001b[38;5;241m.\u001b[39mset_reads_per_shot(readouts_per_experiment)\n\u001b[1;32m--> 106\u001b[0m avg_d \u001b[38;5;241m=\u001b[39m \u001b[38;5;28;43msuper\u001b[39;49m\u001b[43m(\u001b[49m\u001b[43m)\u001b[49m\u001b[38;5;241;43m.\u001b[39;49m\u001b[43macquire\u001b[49m\u001b[43m(\u001b[49m\u001b[43msoc\u001b[49m\u001b[43m,\u001b[49m\u001b[43m \u001b[49m\u001b[43msoft_avgs\u001b[49m\u001b[38;5;241;43m=\u001b[39;49m\u001b[38;5;28;43mself\u001b[39;49m\u001b[38;5;241;43m.\u001b[39;49m\u001b[43msoft_avgs\u001b[49m\u001b[43m,\u001b[49m\u001b[43m \u001b[49m\u001b[43mload_pulses\u001b[49m\u001b[38;5;241;43m=\u001b[39;49m\u001b[43mload_pulses\u001b[49m\u001b[43m,\u001b[49m\u001b[43m \u001b[49m\u001b[43mstart_src\u001b[49m\u001b[38;5;241;43m=\u001b[39;49m\u001b[43mstart_src\u001b[49m\u001b[43m,\u001b[49m\u001b[43m \u001b[49m\u001b[43mthreshold\u001b[49m\u001b[38;5;241;43m=\u001b[39;49m\u001b[43mthreshold\u001b[49m\u001b[43m,\u001b[49m\u001b[43m \u001b[49m\u001b[43mangle\u001b[49m\u001b[38;5;241;43m=\u001b[39;49m\u001b[43mangle\u001b[49m\u001b[43m,\u001b[49m\u001b[43m \u001b[49m\u001b[43mprogress\u001b[49m\u001b[38;5;241;43m=\u001b[39;49m\u001b[43mprogress\u001b[49m\u001b[43m,\u001b[49m\u001b[43m \u001b[49m\u001b[43mremove_offset\u001b[49m\u001b[38;5;241;43m=\u001b[39;49m\u001b[43mremove_offset\u001b[49m\u001b[43m)\u001b[49m\n\u001b[0;32m    108\u001b[0m \u001b[38;5;66;03m# reformat the data into separate I and Q arrays\u001b[39;00m\n\u001b[0;32m    109\u001b[0m \u001b[38;5;66;03m# save results to class in case you want to look at it later or for analysis\u001b[39;00m\n\u001b[0;32m    110\u001b[0m raw \u001b[38;5;241m=\u001b[39m [d\u001b[38;5;241m.\u001b[39mreshape((\u001b[38;5;241m-\u001b[39m\u001b[38;5;241m1\u001b[39m,\u001b[38;5;241m2\u001b[39m)) \u001b[38;5;28;01mfor\u001b[39;00m d \u001b[38;5;129;01min\u001b[39;00m \u001b[38;5;28mself\u001b[39m\u001b[38;5;241m.\u001b[39mget_raw()]\n",
      "File \u001b[1;32mc:\\users\\slab\\qick\\qick_lib\\qick\\qick_asm.py:1701\u001b[0m, in \u001b[0;36mAcquireMixin.acquire\u001b[1;34m(self, soc, soft_avgs, load_pulses, start_src, threshold, angle, progress, remove_offset)\u001b[0m\n\u001b[0;32m   1698\u001b[0m soc\u001b[38;5;241m.\u001b[39mstart_readout(total_count, counter_addr\u001b[38;5;241m=\u001b[39m\u001b[38;5;28mself\u001b[39m\u001b[38;5;241m.\u001b[39mcounter_addr,\n\u001b[0;32m   1699\u001b[0m                        ch_list\u001b[38;5;241m=\u001b[39m\u001b[38;5;28mlist\u001b[39m(\u001b[38;5;28mself\u001b[39m\u001b[38;5;241m.\u001b[39mro_chs), reads_per_shot\u001b[38;5;241m=\u001b[39m\u001b[38;5;28mself\u001b[39m\u001b[38;5;241m.\u001b[39mreads_per_shot)\n\u001b[0;32m   1700\u001b[0m \u001b[38;5;28;01mwhile\u001b[39;00m count\u001b[38;5;241m<\u001b[39mtotal_count:\n\u001b[1;32m-> 1701\u001b[0m     new_data \u001b[38;5;241m=\u001b[39m obtain(\u001b[43msoc\u001b[49m\u001b[38;5;241;43m.\u001b[39;49m\u001b[43mpoll_data\u001b[49m\u001b[43m(\u001b[49m\u001b[43m)\u001b[49m)\n\u001b[0;32m   1702\u001b[0m     \u001b[38;5;28;01mfor\u001b[39;00m new_points, (d, s) \u001b[38;5;129;01min\u001b[39;00m new_data:\n\u001b[0;32m   1703\u001b[0m         \u001b[38;5;28;01mfor\u001b[39;00m ii, nreads \u001b[38;5;129;01min\u001b[39;00m \u001b[38;5;28menumerate\u001b[39m(\u001b[38;5;28mself\u001b[39m\u001b[38;5;241m.\u001b[39mreads_per_shot):\n\u001b[0;32m   1704\u001b[0m             \u001b[38;5;66;03m#print(count, new_points, nreads, d[ii].shape, total_count)\u001b[39;00m\n",
      "File \u001b[1;32mc:\\Users\\slab\\.conda\\envs\\slab\\lib\\site-packages\\Pyro4\\core.py:185\u001b[0m, in \u001b[0;36m_RemoteMethod.__call__\u001b[1;34m(self, *args, **kwargs)\u001b[0m\n\u001b[0;32m    183\u001b[0m \u001b[38;5;28;01mfor\u001b[39;00m attempt \u001b[38;5;129;01min\u001b[39;00m \u001b[38;5;28mrange\u001b[39m(\u001b[38;5;28mself\u001b[39m\u001b[38;5;241m.\u001b[39m__max_retries \u001b[38;5;241m+\u001b[39m \u001b[38;5;241m1\u001b[39m):\n\u001b[0;32m    184\u001b[0m     \u001b[38;5;28;01mtry\u001b[39;00m:\n\u001b[1;32m--> 185\u001b[0m         \u001b[38;5;28;01mreturn\u001b[39;00m \u001b[38;5;28;43mself\u001b[39;49m\u001b[38;5;241;43m.\u001b[39;49m\u001b[43m__send\u001b[49m\u001b[43m(\u001b[49m\u001b[38;5;28;43mself\u001b[39;49m\u001b[38;5;241;43m.\u001b[39;49m\u001b[43m__name\u001b[49m\u001b[43m,\u001b[49m\u001b[43m \u001b[49m\u001b[43margs\u001b[49m\u001b[43m,\u001b[49m\u001b[43m \u001b[49m\u001b[43mkwargs\u001b[49m\u001b[43m)\u001b[49m\n\u001b[0;32m    186\u001b[0m     \u001b[38;5;28;01mexcept\u001b[39;00m (errors\u001b[38;5;241m.\u001b[39mConnectionClosedError, errors\u001b[38;5;241m.\u001b[39mTimeoutError):\n\u001b[0;32m    187\u001b[0m         \u001b[38;5;66;03m# only retry for recoverable network errors\u001b[39;00m\n\u001b[0;32m    188\u001b[0m         \u001b[38;5;28;01mif\u001b[39;00m attempt \u001b[38;5;241m>\u001b[39m\u001b[38;5;241m=\u001b[39m \u001b[38;5;28mself\u001b[39m\u001b[38;5;241m.\u001b[39m__max_retries:\n\u001b[0;32m    189\u001b[0m             \u001b[38;5;66;03m# last attempt, raise the exception\u001b[39;00m\n",
      "File \u001b[1;32mc:\\Users\\slab\\.conda\\envs\\slab\\lib\\site-packages\\Pyro4\\core.py:453\u001b[0m, in \u001b[0;36mProxy._pyroInvoke\u001b[1;34m(self, methodname, vargs, kwargs, flags, objectId)\u001b[0m\n\u001b[0;32m    451\u001b[0m     \u001b[38;5;28;01mreturn\u001b[39;00m \u001b[38;5;28;01mNone\u001b[39;00m  \u001b[38;5;66;03m# oneway call, no response data\u001b[39;00m\n\u001b[0;32m    452\u001b[0m \u001b[38;5;28;01melse\u001b[39;00m:\n\u001b[1;32m--> 453\u001b[0m     msg \u001b[38;5;241m=\u001b[39m \u001b[43mmessage\u001b[49m\u001b[38;5;241;43m.\u001b[39;49m\u001b[43mMessage\u001b[49m\u001b[38;5;241;43m.\u001b[39;49m\u001b[43mrecv\u001b[49m\u001b[43m(\u001b[49m\u001b[38;5;28;43mself\u001b[39;49m\u001b[38;5;241;43m.\u001b[39;49m\u001b[43m_pyroConnection\u001b[49m\u001b[43m,\u001b[49m\u001b[43m \u001b[49m\u001b[43m[\u001b[49m\u001b[43mmessage\u001b[49m\u001b[38;5;241;43m.\u001b[39;49m\u001b[43mMSG_RESULT\u001b[49m\u001b[43m]\u001b[49m\u001b[43m,\u001b[49m\u001b[43m \u001b[49m\u001b[43mhmac_key\u001b[49m\u001b[38;5;241;43m=\u001b[39;49m\u001b[38;5;28;43mself\u001b[39;49m\u001b[38;5;241;43m.\u001b[39;49m\u001b[43m_pyroHmacKey\u001b[49m\u001b[43m)\u001b[49m\n\u001b[0;32m    454\u001b[0m     \u001b[38;5;28;01mif\u001b[39;00m config\u001b[38;5;241m.\u001b[39mLOGWIRE:\n\u001b[0;32m    455\u001b[0m         _log_wiredata(log, \u001b[38;5;124m\"\u001b[39m\u001b[38;5;124mproxy wiredata received\u001b[39m\u001b[38;5;124m\"\u001b[39m, msg)\n",
      "File \u001b[1;32mc:\\Users\\slab\\.conda\\envs\\slab\\lib\\site-packages\\Pyro4\\message.py:168\u001b[0m, in \u001b[0;36mMessage.recv\u001b[1;34m(cls, connection, requiredMsgTypes, hmac_key)\u001b[0m\n\u001b[0;32m    160\u001b[0m \u001b[38;5;129m@classmethod\u001b[39m\n\u001b[0;32m    161\u001b[0m \u001b[38;5;28;01mdef\u001b[39;00m \u001b[38;5;21mrecv\u001b[39m(\u001b[38;5;28mcls\u001b[39m, connection, requiredMsgTypes\u001b[38;5;241m=\u001b[39m\u001b[38;5;28;01mNone\u001b[39;00m, hmac_key\u001b[38;5;241m=\u001b[39m\u001b[38;5;28;01mNone\u001b[39;00m):\n\u001b[0;32m    162\u001b[0m \u001b[38;5;250m    \u001b[39m\u001b[38;5;124;03m\"\"\"\u001b[39;00m\n\u001b[0;32m    163\u001b[0m \u001b[38;5;124;03m    Receives a pyro message from a given connection.\u001b[39;00m\n\u001b[0;32m    164\u001b[0m \u001b[38;5;124;03m    Accepts the given message types (None=any, or pass a sequence).\u001b[39;00m\n\u001b[0;32m    165\u001b[0m \u001b[38;5;124;03m    Also reads annotation chunks and the actual payload data.\u001b[39;00m\n\u001b[0;32m    166\u001b[0m \u001b[38;5;124;03m    Validates a HMAC chunk if present.\u001b[39;00m\n\u001b[0;32m    167\u001b[0m \u001b[38;5;124;03m    \"\"\"\u001b[39;00m\n\u001b[1;32m--> 168\u001b[0m     msg \u001b[38;5;241m=\u001b[39m \u001b[38;5;28mcls\u001b[39m\u001b[38;5;241m.\u001b[39mfrom_header(\u001b[43mconnection\u001b[49m\u001b[38;5;241;43m.\u001b[39;49m\u001b[43mrecv\u001b[49m\u001b[43m(\u001b[49m\u001b[38;5;28;43mcls\u001b[39;49m\u001b[38;5;241;43m.\u001b[39;49m\u001b[43mheader_size\u001b[49m\u001b[43m)\u001b[49m)\n\u001b[0;32m    169\u001b[0m     msg\u001b[38;5;241m.\u001b[39mhmac_key \u001b[38;5;241m=\u001b[39m hmac_key\n\u001b[0;32m    170\u001b[0m     \u001b[38;5;28;01mif\u001b[39;00m \u001b[38;5;241m0\u001b[39m \u001b[38;5;241m<\u001b[39m config\u001b[38;5;241m.\u001b[39mMAX_MESSAGE_SIZE \u001b[38;5;241m<\u001b[39m (msg\u001b[38;5;241m.\u001b[39mdata_size \u001b[38;5;241m+\u001b[39m msg\u001b[38;5;241m.\u001b[39mannotations_size):\n",
      "File \u001b[1;32mc:\\Users\\slab\\.conda\\envs\\slab\\lib\\site-packages\\Pyro4\\socketutil.py:463\u001b[0m, in \u001b[0;36mSocketConnection.recv\u001b[1;34m(self, size)\u001b[0m\n\u001b[0;32m    462\u001b[0m \u001b[38;5;28;01mdef\u001b[39;00m \u001b[38;5;21mrecv\u001b[39m(\u001b[38;5;28mself\u001b[39m, size):\n\u001b[1;32m--> 463\u001b[0m     \u001b[38;5;28;01mreturn\u001b[39;00m \u001b[43mreceiveData\u001b[49m\u001b[43m(\u001b[49m\u001b[38;5;28;43mself\u001b[39;49m\u001b[38;5;241;43m.\u001b[39;49m\u001b[43msock\u001b[49m\u001b[43m,\u001b[49m\u001b[43m \u001b[49m\u001b[43msize\u001b[49m\u001b[43m)\u001b[49m\n",
      "File \u001b[1;32mc:\\Users\\slab\\.conda\\envs\\slab\\lib\\site-packages\\Pyro4\\socketutil.py:171\u001b[0m, in \u001b[0;36mreceiveData\u001b[1;34m(sock, size)\u001b[0m\n\u001b[0;32m    168\u001b[0m \u001b[38;5;28;01mtry\u001b[39;00m:\n\u001b[0;32m    169\u001b[0m     \u001b[38;5;28;01mwhile\u001b[39;00m msglen \u001b[38;5;241m<\u001b[39m size:\n\u001b[0;32m    170\u001b[0m         \u001b[38;5;66;03m# 60k buffer limit avoids problems on certain OSes like VMS, Windows\u001b[39;00m\n\u001b[1;32m--> 171\u001b[0m         chunk \u001b[38;5;241m=\u001b[39m \u001b[43msock\u001b[49m\u001b[38;5;241;43m.\u001b[39;49m\u001b[43mrecv\u001b[49m\u001b[43m(\u001b[49m\u001b[38;5;28;43mmin\u001b[39;49m\u001b[43m(\u001b[49m\u001b[38;5;241;43m60000\u001b[39;49m\u001b[43m,\u001b[49m\u001b[43m \u001b[49m\u001b[43msize\u001b[49m\u001b[43m \u001b[49m\u001b[38;5;241;43m-\u001b[39;49m\u001b[43m \u001b[49m\u001b[43mmsglen\u001b[49m\u001b[43m)\u001b[49m\u001b[43m)\u001b[49m\n\u001b[0;32m    172\u001b[0m         \u001b[38;5;28;01mif\u001b[39;00m \u001b[38;5;129;01mnot\u001b[39;00m chunk:\n\u001b[0;32m    173\u001b[0m             \u001b[38;5;28;01mbreak\u001b[39;00m\n",
      "\u001b[1;31mKeyboardInterrupt\u001b[0m: "
     ]
    }
   ],
   "source": [
    "lengthrabi = meas.LengthRabiExperiment(\n",
    "    soccfg=soc,\n",
    "    path=expt_path,\n",
    "    prefix=f\"length_rabi_qubit{qubit_i}\",\n",
    "    config_file=config_path,\n",
    ")\n",
    "lengthrabi.cfg = AttrDict(deepcopy(yaml_cfg))\n",
    "\n",
    "lengthrabi.cfg.expt = dict(\n",
    "    start=0, # pulse length (sigma) [us]\n",
    "    step=soc.cycles2us(1), # [us]\n",
    "    # step=0.001,\n",
    "    expts=121,\n",
    "    reps=reps*rounds,\n",
    "    pulse_type='gauss',\n",
    "    checkEF=False, \n",
    "    qTest=qubit_i,\n",
    "    qZZ=None,\n",
    ")\n",
    "# lengthrabi.cfg.device.readout.relax_delay = 50 # Wait time between experiments [us]\n",
    "# lengthrabi.pi_ge.gain[4*qubit_i+qubit_i] = 5000 # qubit gain [DAC units],\n",
    "\n",
    "try:\n",
    "    lengthrabi.go(analyze=False, display=False, progress=True, save=False)\n",
    "except Exception:\n",
    "    print(\"Pyro traceback:\")\n",
    "    print(\"\".join(Pyro4.util.getPyroTraceback()))"
   ]
  },
  {
   "cell_type": "code",
   "execution_count": null,
   "metadata": {},
   "outputs": [],
   "source": []
  },
  {
   "cell_type": "code",
   "execution_count": 53,
   "metadata": {},
   "outputs": [
    {
     "name": "stdout",
     "output_type": "stream",
     "text": [
      "best 0 0.12566888714669036\n",
      "Pi length from avgi data [us]: 0.09687820774635618\n",
      "\tPi/2 length from avgi data [us]: 0.04843910387317809\n",
      "\n",
      "Pi length from avgq data [us]: 0.09630389472058899\n",
      "Pi/2 length from avgq data [us]: 0.048151947360294496\n"
     ]
    }
   ],
   "source": [
    "# # TESTING\n",
    "# # lengthrabi = meas.AmplitudeRabiExperiment(config_file=config_path,)\n",
    "# temp_data, attrs = prev_data(expt_path, '00000_amp_rabi_qubit0.h5')\n",
    "# lengthrabi.data = temp_data\n",
    "\n",
    "lengthrabi.analyze(fit=True)\n",
    "\n",
    "lengthrabi_fit, lengthrabi_fit_err = meas.fitting.get_best_fit(lengthrabi.data) #, fitfunc=fitter.decaysin)\n",
    "\n",
    "lengthrabi.display(fit=True)\n",
    "# p = lengthrabi_fit\n",
    "# if p[2] > 180: p[2] = p[2] - 360\n",
    "# elif p[2] < -180: p[2] = p[2] + 360\n",
    "# if p[2] < 0: pi_len = (1/2 - p[2]/180)/2/p[1]\n",
    "# else: pi_len = (3/2 - p[2]/180)/2/p[1]\n",
    "# pi_len = np.max((0.9*pi_len, 0.015)) # since we run the length rabi at a < max gain\n",
    "\n",
    "# lengthrabi_decay = p[3]\n",
    "\n",
    "# print(f'Will use sigma {pi_len} for amplitude rabi')"
   ]
  },
  {
   "cell_type": "code",
   "execution_count": null,
   "metadata": {},
   "outputs": [],
   "source": [
    "# if save_data: saved_files.append(lengthrabi.save_data())"
   ]
  },
  {
   "cell_type": "markdown",
   "metadata": {},
   "source": [
    "## Amplitude Rabi"
   ]
  },
  {
   "cell_type": "code",
   "execution_count": 24,
   "metadata": {},
   "outputs": [
    {
     "name": "stdout",
     "output_type": "stream",
     "text": [
      "qubit 0 pi_len 0.02\n"
     ]
    }
   ],
   "source": [
    "pi_len = np.reshape(yaml_cfg.device.qubit.pulses.pi_ge.sigma, (4,4))[qubit_i, qubit_i]\n",
    "# pi_len = 0.008\n",
    "print('qubit', qubit_i, 'pi_len', pi_len)"
   ]
  },
  {
   "cell_type": "code",
   "execution_count": 25,
   "metadata": {},
   "outputs": [
    {
     "data": {
      "text/plain": [
       "9245"
      ]
     },
     "execution_count": 25,
     "metadata": {},
     "output_type": "execute_result"
    }
   ],
   "source": [
    "int(5*np.reshape(yaml_cfg.device.qubit.pulses.pi_ge.gain, (4,4))[qubit_i, qubit_i])\n"
   ]
  },
  {
   "cell_type": "code",
   "execution_count": 26,
   "metadata": {},
   "outputs": [
    {
     "name": "stdout",
     "output_type": "stream",
     "text": [
      "Running amp rabi on Q0 \n"
     ]
    },
    {
     "data": {
      "application/vnd.jupyter.widget-view+json": {
       "model_id": "26ebec72ba5b49a285e6f6152e50cbdc",
       "version_major": 2,
       "version_minor": 0
      },
      "text/plain": [
       "  0%|          | 0/50000 [00:00<?, ?it/s]"
      ]
     },
     "metadata": {},
     "output_type": "display_data"
    },
    {
     "name": "stdout",
     "output_type": "stream",
     "text": [
      "(4, 50, 1000)\n"
     ]
    }
   ],
   "source": [
    "amprabi = meas.AmplitudeRabiExperiment(\n",
    "    soccfg=soc,\n",
    "    path=expt_path,\n",
    "    prefix=f\"amp_rabi_qubit{qubit_i}\",\n",
    "    config_file=config_path,\n",
    ")\n",
    "amprabi.cfg = AttrDict(deepcopy(yaml_cfg))\n",
    "\n",
    "span = min((32000, int(5*np.reshape(yaml_cfg.device.qubit.pulses.pi_ge.gain, (4,4))[qubit_i, qubit_i])))\n",
    "npts = 50\n",
    "\n",
    "amprabi.cfg.expt = dict(\n",
    "    start=0, # qubit gain [dac level]\n",
    "    step=int(span/npts), # [dac level]\n",
    "    expts=npts,\n",
    "    reps=reps*rounds,\n",
    "    rounds=1,\n",
    "    sigma_test=pi_len, # gaussian sigma for pulse length - overrides config [us]\n",
    "    # sigma_test=0.2,\n",
    "    checkEF=False, \n",
    "    qTest=qubit_i,\n",
    "    qZZ=None,\n",
    "    # pulse_type='gauss', \n",
    "    pulse_type='robust',\n",
    "\n",
    "    full_mux_expt=full_mux_expt,\n",
    "    resonator_reset=resonator_reset,\n",
    "    use_robust_pulses=use_robust_pulses,\n",
    ")\n",
    "amprabi.go(analyze=False, display=False, progress=True, save=False)"
   ]
  },
  {
   "cell_type": "code",
   "execution_count": 28,
   "metadata": {},
   "outputs": [
    {
     "data": {
      "text/plain": [
       "{'start': 0,\n",
       " 'step': 184,\n",
       " 'expts': 50,\n",
       " 'reps': 1000,\n",
       " 'rounds': 1,\n",
       " 'sigma_test': 0.02,\n",
       " 'checkEF': False,\n",
       " 'qTest': 0,\n",
       " 'qZZ': None,\n",
       " 'pulse_type': 'robust',\n",
       " 'full_mux_expt': False,\n",
       " 'resonator_reset': None,\n",
       " 'use_robust_pulses': True,\n",
       " 'n_trig': 1,\n",
       " 'n_init_readout': 0}"
      ]
     },
     "execution_count": 28,
     "metadata": {},
     "output_type": "execute_result"
    }
   ],
   "source": [
    "amprabi.cfg.expt"
   ]
  },
  {
   "cell_type": "code",
   "execution_count": 27,
   "metadata": {},
   "outputs": [
    {
     "name": "stdout",
     "output_type": "stream",
     "text": [
      "best 2 0.12331446334519952\n",
      "Pi gain from amps data [dac units]: 11540\n",
      "\tPi/2 gain from amps data [dac units]: 5770\n",
      "Pi gain from avgi data [dac units]: 11625\n",
      "\tPi/2 gain from avgi data [dac units]: 5812\n",
      "Pi gain from avgq data [dac units]: 13099\n",
      "\tPi/2 gain from avgq data [dac units]: 6549\n",
      "*Set pi pulse sigma for qubit 0 to 0.02*\n",
      "*Set pi pulse gain for qubit 0 to 13099*\n",
      "*New pi_ge.gain\n",
      " [[13099  1914     0  1855]\n",
      " [ 2834  2504  2648  2631]\n",
      " [ 9155  9155  9155  9155]\n",
      " [ 3000  3000  3000  3000]]\n",
      "*New pi_ge.gain flattened\n",
      "[13099, 1914, 0, 1855, 2834, 2504, 2648, 2631, 9155, 9155, 9155, 9155, 3000, 3000, 3000, 3000]\n",
      "{'Pi pulse gain': 13099}\n"
     ]
    }
   ],
   "source": [
    "# # TESTING\n",
    "# # amprabi = meas.AmplitudeRabiExperiment(config_file=config_path,)\n",
    "# temp_data, attrs = prev_data(expt_path, '00000_amp_rabi_qubit0.h5')\n",
    "# amprabi.data = temp_data\n",
    "\n",
    "# amprabi.display(fit=False)\n",
    "\n",
    "amprabi.analyze(fit=True)\n",
    "\n",
    "amprabi_fit, amprabi_fit_err = meas.fitting.get_best_fit(amprabi.data)\n",
    "\n",
    "p = amprabi_fit\n",
    "if p[2] > 180: p[2] = p[2] - 360\n",
    "elif p[2] < -180: p[2] = p[2] + 360\n",
    "if p[2] < 0: pi_gain = (1/2 - p[2]/180)/2/p[1]\n",
    "else: pi_gain = (3/2 - p[2]/180)/2/p[1]\n",
    "\n",
    "if pi_gain > 32000:\n",
    "    amprabi.display(fit=False)\n",
    "    print(f'WARNING: Fit pi pulse gain is long ({pi_gain}), please double check!')\n",
    "    pi_gain = 30000\n",
    "else: amprabi.display(fit=True)\n",
    "yaml_cfg.device.qubit.pulses.pi_ge.sigma[qubit_i] = amprabi.cfg.expt.sigma_test\n",
    "\n",
    "print(f'*Set pi pulse sigma for qubit {qubit_i} to {np.reshape(yaml_cfg.device.qubit.pulses.pi_ge.sigma, (4,4))[qubit_i, qubit_i]}*')\n",
    "yaml_cfg.device.qubit.pulses.pi_ge.gain = np.reshape(yaml_cfg.device.qubit.pulses.pi_ge.gain, (4,4))\n",
    "yaml_cfg.device.qubit.pulses.pi_ge.gain[qubit_i, qubit_i] = int(pi_gain)\n",
    "print(f'*Set pi pulse gain for qubit {qubit_i} to {yaml_cfg.device.qubit.pulses.pi_ge.gain[qubit_i, qubit_i]}*')\n",
    "results_Qi.update({'Pi pulse gain':yaml_cfg.device.qubit.pulses.pi_ge.gain[qubit_i, qubit_i]})\n",
    "print(f'*New pi_ge.gain\\n', yaml_cfg.device.qubit.pulses.pi_ge.gain)\n",
    "yaml_cfg.device.qubit.pulses.pi_ge.gain = yaml_cfg.device.qubit.pulses.pi_ge.gain.flatten().astype(int).tolist()\n",
    "print(f'*New pi_ge.gain flattened\\n{yaml_cfg.device.qubit.pulses.pi_ge.gain}')\n",
    "print(results_Qi)"
   ]
  },
  {
   "cell_type": "code",
   "execution_count": 26,
   "metadata": {},
   "outputs": [],
   "source": [
    "if save_data: saved_files.append(amprabi.save_data())"
   ]
  },
  {
   "cell_type": "markdown",
   "metadata": {},
   "source": [
    "## $T_1$"
   ]
  },
  {
   "cell_type": "code",
   "execution_count": 135,
   "metadata": {},
   "outputs": [],
   "source": [
    "short_T1 = False\n",
    "# short_T1 = True"
   ]
  },
  {
   "cell_type": "code",
   "execution_count": 136,
   "metadata": {},
   "outputs": [
    {
     "data": {
      "application/vnd.jupyter.widget-view+json": {
       "model_id": "9fa70d61b24644c389458eaa4b4e5a04",
       "version_major": 2,
       "version_minor": 0
      },
      "text/plain": [
       "  0%|          | 0/10 [00:00<?, ?it/s]"
      ]
     },
     "metadata": {},
     "output_type": "display_data"
    },
    {
     "name": "stdout",
     "output_type": "stream",
     "text": [
      "WARNING: not sure if single shot checking makes sense when there are multiple rounds of averaging... use at your own risk\n"
     ]
    }
   ],
   "source": [
    "t1 = meas.T1Experiment(\n",
    "    soccfg=soc,\n",
    "    path=expt_path,\n",
    "    prefix=f\"t1_qubit{qubit_i}\",\n",
    "    config_file=config_path,\n",
    ")\n",
    "t1.cfg = AttrDict(deepcopy(yaml_cfg))\n",
    "\n",
    "span = 50 if short_T1 else 400\n",
    "npts = 151\n",
    "\n",
    "t1.cfg.expt = dict(\n",
    "    start=0, # wait time [us]\n",
    "    step=span/npts,\n",
    "    expts=npts,\n",
    "    reps=reps,\n",
    "    # reps=5,\n",
    "    rounds=rounds,\n",
    "    qTest=qubit_i,\n",
    "    qZZ=None,\n",
    "\n",
    "    full_mux_expt=full_mux_expt,\n",
    "    resonator_reset=resonator_reset,\n",
    "    use_robust_pulses=use_robust_pulses,\n",
    ")\n",
    "t1.cfg.device.readout.relax_delay = span # Wait time between experiments [us]\n",
    "t1.go(analyze=False, display=False, progress=True, save=False)"
   ]
  },
  {
   "cell_type": "code",
   "execution_count": 137,
   "metadata": {},
   "outputs": [
    {
     "name": "stdout",
     "output_type": "stream",
     "text": [
      "best 1 93059.77340897589\n",
      "Fit T1 amps [us]: 17.716041219403053\n",
      "Fit T1 avgi [us]: 31.07377161991536\n",
      "Fit T1 avgq [us]: 39.52467277526211\n",
      "*Set readout 3 relax delay to 124.0*\n",
      "qubit 3 {'Qubit freq': 4377.955962140133, 'T1': 31.07377161991536, 'T1 err': 1.7658704555417863}\n"
     ]
    },
    {
     "name": "stderr",
     "output_type": "stream",
     "text": [
      "RuntimeWarning: overflow encountered in exp\n",
      " s:\\Seb\\experiements\\qram_tprocv1_expts\\experiments\\fitting.py: 94RuntimeWarning: overflow encountered in multiply\n",
      " s:\\Seb\\experiements\\qram_tprocv1_expts\\experiments\\fitting.py: 94OptimizeWarning: Covariance of the parameters could not be estimated\n",
      " s:\\Seb\\experiements\\qram_tprocv1_expts\\experiments\\fitting.py: 113"
     ]
    }
   ],
   "source": [
    "# # TESTING\n",
    "# # t1 = meas.T1Experiment(config_file=config_path,)\n",
    "# temp_data, attrs = prev_data(expt_path, '00000_t1_qubit1.h5')\n",
    "# t1.data = temp_data\n",
    "\n",
    "t1.analyze(fit_log=False)\n",
    "\n",
    "t1_fit, t1_fit_err = meas.fitting.get_best_fit(t1.data) #, fitter.expfunc)\n",
    "\n",
    "t1.display(fit=True, fit_log=False)\n",
    "t1_qubit = t1_fit[3]\n",
    "yaml_cfg.device.readout.relax_delay[qubit_i] = np.round(4*t1_qubit)\n",
    "print(f'*Set readout {qubit_i} relax delay to {yaml_cfg.device.readout.relax_delay[qubit_i]}*')\n",
    "results_Qi.update({'T1':t1_qubit, 'T1 err':np.sqrt(t1_fit_err[3][3])})\n",
    "print(f'qubit {qubit_i}', results_Qi)"
   ]
  },
  {
   "cell_type": "code",
   "execution_count": 47,
   "metadata": {},
   "outputs": [],
   "source": [
    "if save_data: saved_files.append(t1.save_data())"
   ]
  },
  {
   "cell_type": "markdown",
   "metadata": {},
   "source": [
    "## $T_2$ Ramsey round 1"
   ]
  },
  {
   "cell_type": "code",
   "execution_count": 233,
   "metadata": {},
   "outputs": [
    {
     "name": "stdout",
     "output_type": "stream",
     "text": [
      "Short T1 False\n"
     ]
    }
   ],
   "source": [
    "# yaml_cfg.device.qubit.f_ge[qubit_i] = 145.572034953271\n",
    "qubit_hwhm = 2\n",
    "short_T1 = False\n",
    "# short_T1 = t1_qubit < 20\n",
    "print('Short T1', short_T1)"
   ]
  },
  {
   "cell_type": "code",
   "execution_count": 234,
   "metadata": {},
   "outputs": [
    {
     "name": "stdout",
     "output_type": "stream",
     "text": [
      "Ramsey freq [MHz]: 3.0\n"
     ]
    }
   ],
   "source": [
    "# ramsey_freq = max((min((np.abs(np.ceil(qubit_hwhm)), 3)), 2))\n",
    "ramsey_freq = 3.0\n",
    "print(f'Ramsey freq [MHz]: {ramsey_freq}')"
   ]
  },
  {
   "cell_type": "code",
   "execution_count": 235,
   "metadata": {},
   "outputs": [
    {
     "name": "stdout",
     "output_type": "stream",
     "text": [
      "ramsey freq 3.0\n",
      "Running Ramsey on Q3 \n"
     ]
    },
    {
     "data": {
      "application/vnd.jupyter.widget-view+json": {
       "model_id": "c861c1d5b9be4b12a60dd8de64f1bbed",
       "version_major": 2,
       "version_minor": 0
      },
      "text/plain": [
       "  0%|          | 0/20000 [00:00<?, ?it/s]"
      ]
     },
     "metadata": {},
     "output_type": "display_data"
    }
   ],
   "source": [
    "t2r = meas.RamseyExperiment(\n",
    "    soccfg=soc,\n",
    "    path=expt_path,\n",
    "    prefix=f\"ramsey_qubit{qubit_i}\",\n",
    "    config_file=config_path,\n",
    ")\n",
    "t2r.cfg = AttrDict(deepcopy(yaml_cfg))\n",
    "\n",
    "# make sure nyquist freq = 0.5 * (1/step) > ramsey (signal) freq!\n",
    "t2r.cfg.expt = dict(\n",
    "    start=0, # wait time tau [us]\n",
    "    step=soc.cycles2us(8), # [us] \n",
    "    # step=soc.cycles2us(2) if short_T1 else soc.cycles2us(10), # [us] \n",
    "    expts=200,\n",
    "    ramsey_freq=ramsey_freq, # [MHz]\n",
    "    reps=reps,\n",
    "    rounds=1,\n",
    "    qTest=qubit_i,\n",
    "    checkEF=False,\n",
    "    qZZ=None,\n",
    ")\n",
    "\n",
    "try:\n",
    "    t2r.go(analyze=False, display=False, progress=True, save=False)\n",
    "except Exception:\n",
    "    print(\"Pyro traceback:\")\n",
    "    print(\"\".join(Pyro4.util.getPyroTraceback()))"
   ]
  },
  {
   "cell_type": "code",
   "execution_count": 236,
   "metadata": {},
   "outputs": [
    {
     "name": "stdout",
     "output_type": "stream",
     "text": [
      "best 1 0.08977852368115806\n",
      "Current pi pulse frequency: 4377.961071249494\n",
      "Fit frequency from amps [MHz]: 2.966355154660412 +/- 0.004647509467397004\n",
      "Suggested new pi pulse frequencies from fit amps [MHz]:\n",
      " \t4377.994716094834\n",
      " \t4371.994716094834\n",
      "T2 Ramsey from fit amps [us]: 15.673112078244237 +/- 7.168086288391312\n",
      "Current pi pulse frequency: 4377.961071249494\n",
      "Fit frequency from I [MHz]: 2.963170242790809 +/- 0.00541984915077384\n",
      "Suggested new pi pulse frequency from fit I [MHz]:\n",
      " \t4377.997901006704\n",
      " \t4371.997901006704\n",
      "T2 Ramsey from fit I [us]: 9.729247008814756 +/- 3.2251268759947007\n",
      "Fit frequency from Q [MHz]: 2.9678769748721088 +/- 0.004254996614594605\n",
      "Suggested new pi pulse frequencies from fit Q [MHz]:\n",
      " \t4377.993194274622\n",
      " \t4371.993194274622\n",
      "T2 Ramsey from fit Q [us]: 16.956108281336974 +/- 7.67246505340483\n",
      "*Set qubit 3 freq to 4377.997901006704*\n",
      "Alt qubit freq is 4371.997901006704\n",
      "*New f_ge\n",
      " [[4108.73966106 4105.75887029 4110.96139089 4110.56100607]\n",
      " [3442.97914772 3448.25918515 3447.22560029 3447.02289897]\n",
      " [4762.73698758 4761.77220605 4759.61227117 4762.34022775]\n",
      " [4380.99025611 4380.22413414 4380.99903879 4377.99790101]]\n",
      "*New f_ge flattened\n",
      "[4108.739661061453, 4105.758870288914, 4110.961390890517, 4110.561006068113, 3442.9791477220547, 3448.25918515342, 3447.2256002913127, 3447.022898974775, 4762.736987583428, 4761.772206046936, 4759.612271171617, 4762.340227746316, 4380.990256112639, 4380.2241341449835, 4380.999038792971, 4377.997901006704]\n"
     ]
    }
   ],
   "source": [
    "# # TESTING\n",
    "# # t2r = meas.RamseyExperiment(config_file=config_path)\n",
    "# temp_data, attrs = prev_data(expt_path, '00000_ramsey_qubit2.h5')\n",
    "# t2r.data = temp_data\n",
    "\n",
    "# t2r.analyze(fit=True, fit_num_sin=2)\n",
    "# t2r.display(fit=True, fit_num_sin=2)\n",
    "\n",
    "t2r.analyze(fit=True)\n",
    "t2r_fit, t2r_fit_err, t2r_adjust = meas.fitting.get_best_fit(t2r.data, get_best_data_params=['f_adjust_ramsey'])\n",
    "\n",
    "old_qubit_freq = np.reshape(t2r.cfg.device.qubit.f_ge, (4,4))[qubit_i, qubit_i]\n",
    "t2r.display(fit=True)\n",
    "yaml_cfg.device.qubit.f_ge = np.reshape(yaml_cfg.device.qubit.f_ge, (4,4))\n",
    "yaml_cfg.device.qubit.f_ge[qubit_i, qubit_i] = old_qubit_freq + t2r_adjust[0]\n",
    "alt_qubit_freq = old_qubit_freq + t2r_adjust[1]\n",
    "results_Qi.update({'T2R':t2r_fit[3], 'T2R err':np.sqrt(t2r_fit_err[3][3])})\n",
    "results_Qi.update({'Qubit freq':yaml_cfg.device.qubit.f_ge[qubit_i, qubit_i] + yaml_cfg.hw.soc.dacs.qubit.mixer_freq[qubit_i]})\n",
    "print(f'*Set qubit {qubit_i} freq to {yaml_cfg.device.qubit.f_ge[qubit_i, qubit_i]}*')\n",
    "print(f'Alt qubit freq is {alt_qubit_freq}')\n",
    "\n",
    "print(f'*New f_ge\\n', yaml_cfg.device.qubit.f_ge)\n",
    "yaml_cfg.device.qubit.f_ge = yaml_cfg.device.qubit.f_ge.flatten().tolist()\n",
    "print(f'*New f_ge flattened\\n{yaml_cfg.device.qubit.f_ge}')\n",
    "\n",
    "data = t2r.data\n",
    "fit_axis = 'avgq'\n",
    "xpts = data['xpts']\n",
    "fourier = np.fft.fftshift(np.abs(np.fft.fft(data[fit_axis])))\n",
    "freqs = np.fft.fftshift(np.fft.fftfreq(len(fourier), d=(xpts[1]-xpts[0])))\n",
    "plt.plot(freqs, fourier)\n",
    "ZZs = np.zeros((4,4))\n",
    "reshaped_f_ge = np.reshape(t2r.cfg.device.qubit.f_ge, (4,4))\n",
    "for row in range(4):\n",
    "    ZZs[row,:] = reshaped_f_ge[row,:] - reshaped_f_ge[row,row]\n",
    "for i in range(4):\n",
    "    if (qubit_i+i)%4 == qubit_i: color = 'r'\n",
    "    else: color = 'k'\n",
    "    plt.axvline(t2r.cfg.expt.ramsey_freq - ZZs[qubit_i, (qubit_i+i)%4], color=color, linewidth=0.5, linestyle='--')\n",
    "plt.xlabel('Frequency [MHz]')\n",
    "plt.xlim(-6, 6)\n",
    "# plt.ylim(0, 20000)\n",
    "plt.title(f'Fourier Transform of Ramsey on Q{qubit_i} (Ramsey Freq: {t2r.cfg.expt.ramsey_freq})')\n",
    "plt.show()"
   ]
  },
  {
   "cell_type": "code",
   "execution_count": 24,
   "metadata": {},
   "outputs": [],
   "source": [
    "if save_data: saved_files.append(t2r.save_data())"
   ]
  },
  {
   "cell_type": "markdown",
   "metadata": {},
   "source": [
    "## Amplitude Rabi round 2"
   ]
  },
  {
   "cell_type": "code",
   "execution_count": 52,
   "metadata": {},
   "outputs": [
    {
     "name": "stdout",
     "output_type": "stream",
     "text": [
      "qubit 0 pi_len 0.02\n"
     ]
    }
   ],
   "source": [
    "pi_len = np.reshape(yaml_cfg.device.qubit.pulses.pi_ge.sigma, (4,4))[qubit_i, qubit_i]\n",
    "print('qubit', qubit_i, 'pi_len', pi_len)\n",
    "# pi_len = 0.025"
   ]
  },
  {
   "cell_type": "code",
   "execution_count": null,
   "metadata": {},
   "outputs": [
    {
     "name": "stdout",
     "output_type": "stream",
     "text": [
      "Running amp rabi on Q0 \n"
     ]
    },
    {
     "data": {
      "application/vnd.jupyter.widget-view+json": {
       "model_id": "94f591c07d2e47d88b7e09e306e8b498",
       "version_major": 2,
       "version_minor": 0
      },
      "text/plain": [
       "  0%|          | 0/10 [00:00<?, ?it/s]"
      ]
     },
     "metadata": {},
     "output_type": "display_data"
    },
    {
     "ename": "KeyboardInterrupt",
     "evalue": "",
     "output_type": "error",
     "traceback": [
      "\u001b[1;31m---------------------------------------------------------------------------\u001b[0m",
      "\u001b[1;31mKeyboardInterrupt\u001b[0m                         Traceback (most recent call last)",
      "Cell \u001b[1;32mIn[53], line 27\u001b[0m\n\u001b[0;32m     11\u001b[0m npts \u001b[38;5;241m=\u001b[39m \u001b[38;5;241m151\u001b[39m\n\u001b[0;32m     13\u001b[0m amprabi_2\u001b[38;5;241m.\u001b[39mcfg\u001b[38;5;241m.\u001b[39mexpt \u001b[38;5;241m=\u001b[39m \u001b[38;5;28mdict\u001b[39m(\n\u001b[0;32m     14\u001b[0m     start\u001b[38;5;241m=\u001b[39m\u001b[38;5;241m0\u001b[39m, \u001b[38;5;66;03m# qubit gain [dac level]\u001b[39;00m\n\u001b[0;32m     15\u001b[0m     step\u001b[38;5;241m=\u001b[39m\u001b[38;5;28mint\u001b[39m(span\u001b[38;5;241m/\u001b[39mnpts), \u001b[38;5;66;03m# [dac level]\u001b[39;00m\n\u001b[1;32m   (...)\u001b[0m\n\u001b[0;32m     25\u001b[0m     qZZ\u001b[38;5;241m=\u001b[39m\u001b[38;5;28;01mNone\u001b[39;00m,\n\u001b[0;32m     26\u001b[0m )\n\u001b[1;32m---> 27\u001b[0m \u001b[43mamprabi_2\u001b[49m\u001b[38;5;241;43m.\u001b[39;49m\u001b[43mgo\u001b[49m\u001b[43m(\u001b[49m\u001b[43manalyze\u001b[49m\u001b[38;5;241;43m=\u001b[39;49m\u001b[38;5;28;43;01mFalse\u001b[39;49;00m\u001b[43m,\u001b[49m\u001b[43m \u001b[49m\u001b[43mdisplay\u001b[49m\u001b[38;5;241;43m=\u001b[39;49m\u001b[38;5;28;43;01mFalse\u001b[39;49;00m\u001b[43m,\u001b[49m\u001b[43m \u001b[49m\u001b[43mprogress\u001b[49m\u001b[38;5;241;43m=\u001b[39;49m\u001b[38;5;28;43;01mTrue\u001b[39;49;00m\u001b[43m,\u001b[49m\u001b[43m \u001b[49m\u001b[43msave\u001b[49m\u001b[38;5;241;43m=\u001b[39;49m\u001b[38;5;28;43;01mFalse\u001b[39;49;00m\u001b[43m)\u001b[49m\n",
      "File \u001b[1;32m~\\slab\\experiment.py:115\u001b[0m, in \u001b[0;36mExperiment.go\u001b[1;34m(self, save, analyze, display, progress)\u001b[0m\n\u001b[0;32m    112\u001b[0m \u001b[38;5;28;01mdef\u001b[39;00m \u001b[38;5;21mgo\u001b[39m(\u001b[38;5;28mself\u001b[39m, save\u001b[38;5;241m=\u001b[39m\u001b[38;5;28;01mFalse\u001b[39;00m, analyze\u001b[38;5;241m=\u001b[39m\u001b[38;5;28;01mFalse\u001b[39;00m, display\u001b[38;5;241m=\u001b[39m\u001b[38;5;28;01mFalse\u001b[39;00m, progress\u001b[38;5;241m=\u001b[39m\u001b[38;5;28;01mFalse\u001b[39;00m):\n\u001b[0;32m    113\u001b[0m     \u001b[38;5;66;03m# get data\u001b[39;00m\n\u001b[1;32m--> 115\u001b[0m     data\u001b[38;5;241m=\u001b[39m\u001b[38;5;28;43mself\u001b[39;49m\u001b[38;5;241;43m.\u001b[39;49m\u001b[43macquire\u001b[49m\u001b[43m(\u001b[49m\u001b[43mprogress\u001b[49m\u001b[43m)\u001b[49m\n\u001b[0;32m    116\u001b[0m     \u001b[38;5;28;01mif\u001b[39;00m analyze:\n\u001b[0;32m    117\u001b[0m         data\u001b[38;5;241m=\u001b[39m\u001b[38;5;28mself\u001b[39m\u001b[38;5;241m.\u001b[39manalyze(data)\n",
      "File \u001b[1;32ms:\\Seb\\experiements\\qram_tprocv1_expts\\experiments\\single_qubit\\amplitude_rabi.py:296\u001b[0m, in \u001b[0;36mAmplitudeRabiExperiment.acquire\u001b[1;34m(self, progress)\u001b[0m\n\u001b[0;32m    291\u001b[0m amprabi \u001b[38;5;241m=\u001b[39m AmplitudeRabiProgram(soccfg\u001b[38;5;241m=\u001b[39m\u001b[38;5;28mself\u001b[39m\u001b[38;5;241m.\u001b[39msoccfg, cfg\u001b[38;5;241m=\u001b[39m\u001b[38;5;28mself\u001b[39m\u001b[38;5;241m.\u001b[39mcfg)\n\u001b[0;32m    292\u001b[0m \u001b[38;5;66;03m# print(amprabi)\u001b[39;00m\n\u001b[0;32m    293\u001b[0m \u001b[38;5;66;03m# from qick.helpers import progs2json\u001b[39;00m\n\u001b[0;32m    294\u001b[0m \u001b[38;5;66;03m# print(progs2json([amprabi.dump_prog()]))\u001b[39;00m\n\u001b[1;32m--> 296\u001b[0m xpts, idata, qdata \u001b[38;5;241m=\u001b[39m \u001b[43mamprabi\u001b[49m\u001b[38;5;241;43m.\u001b[39;49m\u001b[43macquire\u001b[49m\u001b[43m(\u001b[49m\n\u001b[0;32m    297\u001b[0m \u001b[43m    \u001b[49m\u001b[38;5;28;43mself\u001b[39;49m\u001b[38;5;241;43m.\u001b[39;49m\u001b[43mim\u001b[49m\u001b[43m[\u001b[49m\u001b[38;5;28;43mself\u001b[39;49m\u001b[38;5;241;43m.\u001b[39;49m\u001b[43mcfg\u001b[49m\u001b[38;5;241;43m.\u001b[39;49m\u001b[43maliases\u001b[49m\u001b[38;5;241;43m.\u001b[39;49m\u001b[43msoc\u001b[49m\u001b[43m]\u001b[49m\u001b[43m,\u001b[49m\u001b[43m \u001b[49m\u001b[43mload_pulses\u001b[49m\u001b[38;5;241;43m=\u001b[39;49m\u001b[38;5;28;43;01mTrue\u001b[39;49;00m\u001b[43m,\u001b[49m\u001b[43m \u001b[49m\u001b[43mprogress\u001b[49m\u001b[38;5;241;43m=\u001b[39;49m\u001b[43mprogress\u001b[49m\n\u001b[0;32m    298\u001b[0m \u001b[43m\u001b[49m\u001b[43m)\u001b[49m  \u001b[38;5;66;03m# , get_shots=readout_cool\u001b[39;00m\n\u001b[0;32m    299\u001b[0m \u001b[38;5;66;03m# )\u001b[39;00m\n\u001b[0;32m    300\u001b[0m \u001b[38;5;66;03m# print(amprabi)\u001b[39;00m\n\u001b[0;32m    301\u001b[0m _, ishots, qshots \u001b[38;5;241m=\u001b[39m amprabi\u001b[38;5;241m.\u001b[39mget_shots()\n",
      "File \u001b[1;32ms:\\Seb\\experiements\\qram_tprocv1_expts\\experiments\\clifford_averager_program.py:2734\u001b[0m, in \u001b[0;36mQutritRAveragerProgram.acquire\u001b[1;34m(self, soc, load_pulses, progress, save_experiments)\u001b[0m\n\u001b[0;32m   2731\u001b[0m \u001b[38;5;66;03m# this is also just copy pasted from RAveragerProgram but the multiple inheritance wasn't working\u001b[39;00m\n\u001b[0;32m   2732\u001b[0m \u001b[38;5;28mself\u001b[39m\u001b[38;5;241m.\u001b[39mset_reads_per_shot(readouts_per_experiment)\n\u001b[1;32m-> 2734\u001b[0m avg_d \u001b[38;5;241m=\u001b[39m \u001b[43mAcquireProgram\u001b[49m\u001b[38;5;241;43m.\u001b[39;49m\u001b[43macquire\u001b[49m\u001b[43m(\u001b[49m\n\u001b[0;32m   2735\u001b[0m \u001b[43m    \u001b[49m\u001b[38;5;28;43mself\u001b[39;49m\u001b[43m,\u001b[49m\n\u001b[0;32m   2736\u001b[0m \u001b[43m    \u001b[49m\u001b[43msoc\u001b[49m\u001b[43m,\u001b[49m\n\u001b[0;32m   2737\u001b[0m \u001b[43m    \u001b[49m\u001b[43msoft_avgs\u001b[49m\u001b[38;5;241;43m=\u001b[39;49m\u001b[38;5;28;43mself\u001b[39;49m\u001b[38;5;241;43m.\u001b[39;49m\u001b[43msoft_avgs\u001b[49m\u001b[43m,\u001b[49m\n\u001b[0;32m   2738\u001b[0m \u001b[43m    \u001b[49m\u001b[43mload_pulses\u001b[49m\u001b[38;5;241;43m=\u001b[39;49m\u001b[43mload_pulses\u001b[49m\u001b[43m,\u001b[49m\n\u001b[0;32m   2739\u001b[0m \u001b[43m    \u001b[49m\u001b[43mstart_src\u001b[49m\u001b[38;5;241;43m=\u001b[39;49m\u001b[38;5;124;43m\"\u001b[39;49m\u001b[38;5;124;43minternal\u001b[39;49m\u001b[38;5;124;43m\"\u001b[39;49m\u001b[43m,\u001b[49m\n\u001b[0;32m   2740\u001b[0m \u001b[43m    \u001b[49m\u001b[43mthreshold\u001b[49m\u001b[38;5;241;43m=\u001b[39;49m\u001b[38;5;28;43;01mNone\u001b[39;49;00m\u001b[43m,\u001b[49m\n\u001b[0;32m   2741\u001b[0m \u001b[43m    \u001b[49m\u001b[43mangle\u001b[49m\u001b[38;5;241;43m=\u001b[39;49m\u001b[38;5;28;43;01mNone\u001b[39;49;00m\u001b[43m,\u001b[49m\n\u001b[0;32m   2742\u001b[0m \u001b[43m    \u001b[49m\u001b[43mprogress\u001b[49m\u001b[38;5;241;43m=\u001b[39;49m\u001b[43mprogress\u001b[49m\u001b[43m,\u001b[49m\n\u001b[0;32m   2743\u001b[0m \u001b[43m    \u001b[49m\u001b[43mremove_offset\u001b[49m\u001b[38;5;241;43m=\u001b[39;49m\u001b[38;5;28;43;01mTrue\u001b[39;49;00m\u001b[43m,\u001b[49m\n\u001b[0;32m   2744\u001b[0m \u001b[43m\u001b[49m\u001b[43m)\u001b[49m\n\u001b[0;32m   2746\u001b[0m \u001b[38;5;66;03m# reformat the data into separate I and Q arrays\u001b[39;00m\n\u001b[0;32m   2747\u001b[0m \u001b[38;5;66;03m# save results to class in case you want to look at it later or for analysis\u001b[39;00m\n\u001b[0;32m   2748\u001b[0m raw \u001b[38;5;241m=\u001b[39m [d\u001b[38;5;241m.\u001b[39mreshape((\u001b[38;5;241m-\u001b[39m\u001b[38;5;241m1\u001b[39m, \u001b[38;5;241m2\u001b[39m)) \u001b[38;5;28;01mfor\u001b[39;00m d \u001b[38;5;129;01min\u001b[39;00m \u001b[38;5;28mself\u001b[39m\u001b[38;5;241m.\u001b[39mget_raw()]\n",
      "File \u001b[1;32mc:\\users\\slab\\qick\\qick_lib\\qick\\qick_asm.py:1701\u001b[0m, in \u001b[0;36mAcquireMixin.acquire\u001b[1;34m(self, soc, soft_avgs, load_pulses, start_src, threshold, angle, progress, remove_offset)\u001b[0m\n\u001b[0;32m   1698\u001b[0m soc\u001b[38;5;241m.\u001b[39mstart_readout(total_count, counter_addr\u001b[38;5;241m=\u001b[39m\u001b[38;5;28mself\u001b[39m\u001b[38;5;241m.\u001b[39mcounter_addr,\n\u001b[0;32m   1699\u001b[0m                        ch_list\u001b[38;5;241m=\u001b[39m\u001b[38;5;28mlist\u001b[39m(\u001b[38;5;28mself\u001b[39m\u001b[38;5;241m.\u001b[39mro_chs), reads_per_shot\u001b[38;5;241m=\u001b[39m\u001b[38;5;28mself\u001b[39m\u001b[38;5;241m.\u001b[39mreads_per_shot)\n\u001b[0;32m   1700\u001b[0m \u001b[38;5;28;01mwhile\u001b[39;00m count\u001b[38;5;241m<\u001b[39mtotal_count:\n\u001b[1;32m-> 1701\u001b[0m     new_data \u001b[38;5;241m=\u001b[39m obtain(\u001b[43msoc\u001b[49m\u001b[38;5;241;43m.\u001b[39;49m\u001b[43mpoll_data\u001b[49m\u001b[43m(\u001b[49m\u001b[43m)\u001b[49m)\n\u001b[0;32m   1702\u001b[0m     \u001b[38;5;28;01mfor\u001b[39;00m new_points, (d, s) \u001b[38;5;129;01min\u001b[39;00m new_data:\n\u001b[0;32m   1703\u001b[0m         \u001b[38;5;28;01mfor\u001b[39;00m ii, nreads \u001b[38;5;129;01min\u001b[39;00m \u001b[38;5;28menumerate\u001b[39m(\u001b[38;5;28mself\u001b[39m\u001b[38;5;241m.\u001b[39mreads_per_shot):\n\u001b[0;32m   1704\u001b[0m             \u001b[38;5;66;03m#print(count, new_points, nreads, d[ii].shape, total_count)\u001b[39;00m\n",
      "File \u001b[1;32mc:\\Users\\slab\\.conda\\envs\\slab\\lib\\site-packages\\Pyro4\\core.py:185\u001b[0m, in \u001b[0;36m_RemoteMethod.__call__\u001b[1;34m(self, *args, **kwargs)\u001b[0m\n\u001b[0;32m    183\u001b[0m \u001b[38;5;28;01mfor\u001b[39;00m attempt \u001b[38;5;129;01min\u001b[39;00m \u001b[38;5;28mrange\u001b[39m(\u001b[38;5;28mself\u001b[39m\u001b[38;5;241m.\u001b[39m__max_retries \u001b[38;5;241m+\u001b[39m \u001b[38;5;241m1\u001b[39m):\n\u001b[0;32m    184\u001b[0m     \u001b[38;5;28;01mtry\u001b[39;00m:\n\u001b[1;32m--> 185\u001b[0m         \u001b[38;5;28;01mreturn\u001b[39;00m \u001b[38;5;28;43mself\u001b[39;49m\u001b[38;5;241;43m.\u001b[39;49m\u001b[43m__send\u001b[49m\u001b[43m(\u001b[49m\u001b[38;5;28;43mself\u001b[39;49m\u001b[38;5;241;43m.\u001b[39;49m\u001b[43m__name\u001b[49m\u001b[43m,\u001b[49m\u001b[43m \u001b[49m\u001b[43margs\u001b[49m\u001b[43m,\u001b[49m\u001b[43m \u001b[49m\u001b[43mkwargs\u001b[49m\u001b[43m)\u001b[49m\n\u001b[0;32m    186\u001b[0m     \u001b[38;5;28;01mexcept\u001b[39;00m (errors\u001b[38;5;241m.\u001b[39mConnectionClosedError, errors\u001b[38;5;241m.\u001b[39mTimeoutError):\n\u001b[0;32m    187\u001b[0m         \u001b[38;5;66;03m# only retry for recoverable network errors\u001b[39;00m\n\u001b[0;32m    188\u001b[0m         \u001b[38;5;28;01mif\u001b[39;00m attempt \u001b[38;5;241m>\u001b[39m\u001b[38;5;241m=\u001b[39m \u001b[38;5;28mself\u001b[39m\u001b[38;5;241m.\u001b[39m__max_retries:\n\u001b[0;32m    189\u001b[0m             \u001b[38;5;66;03m# last attempt, raise the exception\u001b[39;00m\n",
      "File \u001b[1;32mc:\\Users\\slab\\.conda\\envs\\slab\\lib\\site-packages\\Pyro4\\core.py:453\u001b[0m, in \u001b[0;36mProxy._pyroInvoke\u001b[1;34m(self, methodname, vargs, kwargs, flags, objectId)\u001b[0m\n\u001b[0;32m    451\u001b[0m     \u001b[38;5;28;01mreturn\u001b[39;00m \u001b[38;5;28;01mNone\u001b[39;00m  \u001b[38;5;66;03m# oneway call, no response data\u001b[39;00m\n\u001b[0;32m    452\u001b[0m \u001b[38;5;28;01melse\u001b[39;00m:\n\u001b[1;32m--> 453\u001b[0m     msg \u001b[38;5;241m=\u001b[39m \u001b[43mmessage\u001b[49m\u001b[38;5;241;43m.\u001b[39;49m\u001b[43mMessage\u001b[49m\u001b[38;5;241;43m.\u001b[39;49m\u001b[43mrecv\u001b[49m\u001b[43m(\u001b[49m\u001b[38;5;28;43mself\u001b[39;49m\u001b[38;5;241;43m.\u001b[39;49m\u001b[43m_pyroConnection\u001b[49m\u001b[43m,\u001b[49m\u001b[43m \u001b[49m\u001b[43m[\u001b[49m\u001b[43mmessage\u001b[49m\u001b[38;5;241;43m.\u001b[39;49m\u001b[43mMSG_RESULT\u001b[49m\u001b[43m]\u001b[49m\u001b[43m,\u001b[49m\u001b[43m \u001b[49m\u001b[43mhmac_key\u001b[49m\u001b[38;5;241;43m=\u001b[39;49m\u001b[38;5;28;43mself\u001b[39;49m\u001b[38;5;241;43m.\u001b[39;49m\u001b[43m_pyroHmacKey\u001b[49m\u001b[43m)\u001b[49m\n\u001b[0;32m    454\u001b[0m     \u001b[38;5;28;01mif\u001b[39;00m config\u001b[38;5;241m.\u001b[39mLOGWIRE:\n\u001b[0;32m    455\u001b[0m         _log_wiredata(log, \u001b[38;5;124m\"\u001b[39m\u001b[38;5;124mproxy wiredata received\u001b[39m\u001b[38;5;124m\"\u001b[39m, msg)\n",
      "File \u001b[1;32mc:\\Users\\slab\\.conda\\envs\\slab\\lib\\site-packages\\Pyro4\\message.py:168\u001b[0m, in \u001b[0;36mMessage.recv\u001b[1;34m(cls, connection, requiredMsgTypes, hmac_key)\u001b[0m\n\u001b[0;32m    160\u001b[0m \u001b[38;5;129m@classmethod\u001b[39m\n\u001b[0;32m    161\u001b[0m \u001b[38;5;28;01mdef\u001b[39;00m \u001b[38;5;21mrecv\u001b[39m(\u001b[38;5;28mcls\u001b[39m, connection, requiredMsgTypes\u001b[38;5;241m=\u001b[39m\u001b[38;5;28;01mNone\u001b[39;00m, hmac_key\u001b[38;5;241m=\u001b[39m\u001b[38;5;28;01mNone\u001b[39;00m):\n\u001b[0;32m    162\u001b[0m \u001b[38;5;250m    \u001b[39m\u001b[38;5;124;03m\"\"\"\u001b[39;00m\n\u001b[0;32m    163\u001b[0m \u001b[38;5;124;03m    Receives a pyro message from a given connection.\u001b[39;00m\n\u001b[0;32m    164\u001b[0m \u001b[38;5;124;03m    Accepts the given message types (None=any, or pass a sequence).\u001b[39;00m\n\u001b[0;32m    165\u001b[0m \u001b[38;5;124;03m    Also reads annotation chunks and the actual payload data.\u001b[39;00m\n\u001b[0;32m    166\u001b[0m \u001b[38;5;124;03m    Validates a HMAC chunk if present.\u001b[39;00m\n\u001b[0;32m    167\u001b[0m \u001b[38;5;124;03m    \"\"\"\u001b[39;00m\n\u001b[1;32m--> 168\u001b[0m     msg \u001b[38;5;241m=\u001b[39m \u001b[38;5;28mcls\u001b[39m\u001b[38;5;241m.\u001b[39mfrom_header(\u001b[43mconnection\u001b[49m\u001b[38;5;241;43m.\u001b[39;49m\u001b[43mrecv\u001b[49m\u001b[43m(\u001b[49m\u001b[38;5;28;43mcls\u001b[39;49m\u001b[38;5;241;43m.\u001b[39;49m\u001b[43mheader_size\u001b[49m\u001b[43m)\u001b[49m)\n\u001b[0;32m    169\u001b[0m     msg\u001b[38;5;241m.\u001b[39mhmac_key \u001b[38;5;241m=\u001b[39m hmac_key\n\u001b[0;32m    170\u001b[0m     \u001b[38;5;28;01mif\u001b[39;00m \u001b[38;5;241m0\u001b[39m \u001b[38;5;241m<\u001b[39m config\u001b[38;5;241m.\u001b[39mMAX_MESSAGE_SIZE \u001b[38;5;241m<\u001b[39m (msg\u001b[38;5;241m.\u001b[39mdata_size \u001b[38;5;241m+\u001b[39m msg\u001b[38;5;241m.\u001b[39mannotations_size):\n",
      "File \u001b[1;32mc:\\Users\\slab\\.conda\\envs\\slab\\lib\\site-packages\\Pyro4\\socketutil.py:463\u001b[0m, in \u001b[0;36mSocketConnection.recv\u001b[1;34m(self, size)\u001b[0m\n\u001b[0;32m    462\u001b[0m \u001b[38;5;28;01mdef\u001b[39;00m \u001b[38;5;21mrecv\u001b[39m(\u001b[38;5;28mself\u001b[39m, size):\n\u001b[1;32m--> 463\u001b[0m     \u001b[38;5;28;01mreturn\u001b[39;00m \u001b[43mreceiveData\u001b[49m\u001b[43m(\u001b[49m\u001b[38;5;28;43mself\u001b[39;49m\u001b[38;5;241;43m.\u001b[39;49m\u001b[43msock\u001b[49m\u001b[43m,\u001b[49m\u001b[43m \u001b[49m\u001b[43msize\u001b[49m\u001b[43m)\u001b[49m\n",
      "File \u001b[1;32mc:\\Users\\slab\\.conda\\envs\\slab\\lib\\site-packages\\Pyro4\\socketutil.py:171\u001b[0m, in \u001b[0;36mreceiveData\u001b[1;34m(sock, size)\u001b[0m\n\u001b[0;32m    168\u001b[0m \u001b[38;5;28;01mtry\u001b[39;00m:\n\u001b[0;32m    169\u001b[0m     \u001b[38;5;28;01mwhile\u001b[39;00m msglen \u001b[38;5;241m<\u001b[39m size:\n\u001b[0;32m    170\u001b[0m         \u001b[38;5;66;03m# 60k buffer limit avoids problems on certain OSes like VMS, Windows\u001b[39;00m\n\u001b[1;32m--> 171\u001b[0m         chunk \u001b[38;5;241m=\u001b[39m \u001b[43msock\u001b[49m\u001b[38;5;241;43m.\u001b[39;49m\u001b[43mrecv\u001b[49m\u001b[43m(\u001b[49m\u001b[38;5;28;43mmin\u001b[39;49m\u001b[43m(\u001b[49m\u001b[38;5;241;43m60000\u001b[39;49m\u001b[43m,\u001b[49m\u001b[43m \u001b[49m\u001b[43msize\u001b[49m\u001b[43m \u001b[49m\u001b[38;5;241;43m-\u001b[39;49m\u001b[43m \u001b[49m\u001b[43mmsglen\u001b[49m\u001b[43m)\u001b[49m\u001b[43m)\u001b[49m\n\u001b[0;32m    172\u001b[0m         \u001b[38;5;28;01mif\u001b[39;00m \u001b[38;5;129;01mnot\u001b[39;00m chunk:\n\u001b[0;32m    173\u001b[0m             \u001b[38;5;28;01mbreak\u001b[39;00m\n",
      "\u001b[1;31mKeyboardInterrupt\u001b[0m: "
     ]
    }
   ],
   "source": [
    "amprabi_2 = meas.AmplitudeRabiExperiment(\n",
    "    soccfg=soc,\n",
    "    path=expt_path,\n",
    "    prefix=f\"amp_rabi_qubit{qubit_i}\",\n",
    "    config_file=config_path,\n",
    ")\n",
    "amprabi_2.cfg = AttrDict(deepcopy(yaml_cfg))\n",
    "\n",
    "n_pulses = 1\n",
    "span = min((32000, int(1.5*np.reshape(yaml_cfg.device.qubit.pulses.pi_ge.gain, (4,4))[qubit_i, qubit_i])))\n",
    "npts = 151\n",
    "    \n",
    "amprabi_2.cfg.expt = dict(\n",
    "    start=0, # qubit gain [dac level]\n",
    "    step=int(span/npts), # [dac level]\n",
    "    expts=npts,\n",
    "    reps=reps,\n",
    "    # reps=5,\n",
    "    rounds=rounds,\n",
    "    sigma_test=pi_len, # gaussian sigma for pulse length - overrides config [us]\n",
    "    # pulse_type='gauss',\n",
    "    pulse_type='robust',\n",
    "    checkEF=False, \n",
    "    n_pulses=n_pulses,\n",
    "    qTest=qubit_i,\n",
    "    qZZ=None,\n",
    ")\n",
    "amprabi_2.go(analyze=False, display=False, progress=True, save=False)"
   ]
  },
  {
   "cell_type": "code",
   "execution_count": 289,
   "metadata": {},
   "outputs": [
    {
     "name": "stdout",
     "output_type": "stream",
     "text": [
      "best 2 0.18347979416475463\n",
      "Pi gain from amps data [dac units]: 10351\n",
      "\tPi/2 gain from amps data [dac units]: 5175\n",
      "Pi gain from avgi data [dac units]: 9781\n",
      "\tPi/2 gain from avgi data [dac units]: 4890\n",
      "Pi gain from avgq data [dac units]: 6551\n",
      "\tPi/2 gain from avgq data [dac units]: 3275\n",
      "*Set pi pulse sigma for qubit 3 to 0.025*\n",
      "*Set pi pulse gain for qubit 3 to 6551*\n",
      "*New pi_ge.gain\n",
      " [[1849 1914    0 1855]\n",
      " [2834 2504 2648 2631]\n",
      " [9155 9155 9155 9155]\n",
      " [3000 3000 3000 6551]]\n",
      "*New pi_ge.gain flattened\n",
      "[1849, 1914, 0, 1855, 2834, 2504, 2648, 2631, 9155, 9155, 9155, 9155, 3000, 3000, 3000, 6551]\n",
      "{'Qubit freq': 4380.833868595306, 'T2R': 15.590122767857144, 'T2R err': 1.4230945906229133, 'T1': 29.05419001873917, 'T1 err': 0.8144249740004452, 'Qubit EF freq': 4208.127651818629, 'T2R EF': 8.314732142857144, 'T2R EF err': 0.8397617863478003, 'T1_EF': 30.99440179962483, 'T1_EF err': 5.318884040200271, 'T2E': 20.82170758928572, 'T2E err': 1.5338494352921854, 'Pi pulse gain': 6551}\n"
     ]
    }
   ],
   "source": [
    "# # TESTING\n",
    "# # amprabi_2 = meas.AmplitudeRabiExperiment(config_file=config_path,)\n",
    "# temp_data, attrs = prev_data(expt_path, '00000_amp_rabi_qubit0.h5')\n",
    "# amprabi_2.data = temp_data\n",
    "\n",
    "amprabi_2.analyze(fit=True)\n",
    "\n",
    "amprabi_2_fit, amprabi_2_fit_err = meas.fitting.get_best_fit(amprabi_2.data)\n",
    "\n",
    "p = amprabi_2_fit\n",
    "if p[2] > 180: p[2] = p[2] - 360\n",
    "elif p[2] < -180: p[2] = p[2] + 360\n",
    "if p[2] < 0: pi_gain = (1/2 - p[2]/180)/2/p[1]\n",
    "else: pi_gain = (3/2 - p[2]/180)/2/p[1]\n",
    "\n",
    "if pi_gain > 32000:\n",
    "    amprabi_2.display(fit=False)\n",
    "    print(f'WARNING: Fit pi pulse gain is long ({pi_gain}), please double check!')\n",
    "    pi_gain = 30000\n",
    "else: amprabi_2.display(fit=True)\n",
    "yaml_cfg.device.qubit.pulses.pi_ge.sigma[qubit_i] = amprabi_2.cfg.expt.sigma_test\n",
    "\n",
    "print(f'*Set pi pulse sigma for qubit {qubit_i} to {np.reshape(yaml_cfg.device.qubit.pulses.pi_ge.sigma, (4,4))[qubit_i, qubit_i]}*')\n",
    "yaml_cfg.device.qubit.pulses.pi_ge.gain = np.reshape(yaml_cfg.device.qubit.pulses.pi_ge.gain, (4,4))\n",
    "yaml_cfg.device.qubit.pulses.pi_ge.gain[qubit_i, qubit_i] = int(pi_gain)\n",
    "print(f'*Set pi pulse gain for qubit {qubit_i} to {yaml_cfg.device.qubit.pulses.pi_ge.gain[qubit_i, qubit_i]}*')\n",
    "results_Qi.update({'Pi pulse gain':yaml_cfg.device.qubit.pulses.pi_ge.gain[qubit_i, qubit_i]})\n",
    "print(f'*New pi_ge.gain\\n', yaml_cfg.device.qubit.pulses.pi_ge.gain)\n",
    "yaml_cfg.device.qubit.pulses.pi_ge.gain = yaml_cfg.device.qubit.pulses.pi_ge.gain.flatten().tolist()\n",
    "print(f'*New pi_ge.gain flattened\\n{yaml_cfg.device.qubit.pulses.pi_ge.gain}')\n",
    "print(results_Qi)"
   ]
  },
  {
   "cell_type": "code",
   "execution_count": 38,
   "metadata": {},
   "outputs": [],
   "source": [
    "if save_data: saved_files.append(amprabi_2.save_data())"
   ]
  },
  {
   "cell_type": "markdown",
   "metadata": {},
   "source": [
    "## $T_2$ Ramsey round 2\n",
    "\n",
    "Check that frequency adjustment helps."
   ]
  },
  {
   "cell_type": "code",
   "execution_count": 237,
   "metadata": {},
   "outputs": [
    {
     "name": "stdout",
     "output_type": "stream",
     "text": [
      "ramsey freq 0.2\n",
      "Running Ramsey on Q3 \n"
     ]
    },
    {
     "data": {
      "application/vnd.jupyter.widget-view+json": {
       "model_id": "7e53cf101e0f494e981bab3ca69b9e4c",
       "version_major": 2,
       "version_minor": 0
      },
      "text/plain": [
       "  0%|          | 0/15100 [00:00<?, ?it/s]"
      ]
     },
     "metadata": {},
     "output_type": "display_data"
    }
   ],
   "source": [
    "t2r_2 = meas.RamseyExperiment(\n",
    "    soccfg=soc,\n",
    "    path=expt_path,\n",
    "    prefix=f\"ramsey_qubit{qubit_i}\",\n",
    "    config_file=config_path,\n",
    ")\n",
    "t2r_2.cfg = AttrDict(deepcopy(yaml_cfg))\n",
    "\n",
    "# make sure nyquist freq = 0.5 * (1/step) > ramsey (signal) freq!\n",
    "t2r_2.cfg.expt = dict(\n",
    "    start=0, # wait time tau [us]\n",
    "    # step=soc.cycles2us(2) if t2r_fit[3] < 3 else soc.cycles2us(60), # [us]\n",
    "    step=soc.cycles2us(150), # [us]\n",
    "    expts=151,\n",
    "    ramsey_freq=ramsey_freq/15, # [MHz]\n",
    "    reps=reps,\n",
    "    rounds=1,\n",
    "    checkEF=False,\n",
    "    qTest=qubit_i,\n",
    "    qZZ=None,\n",
    "\n",
    "    full_mux_expt=full_mux_expt,\n",
    "    resonator_reset=resonator_reset,\n",
    ")\n",
    "t2r_2.go(analyze=False, display=False, progress=True, save=False)"
   ]
  },
  {
   "cell_type": "code",
   "execution_count": 238,
   "metadata": {},
   "outputs": [
    {
     "name": "stdout",
     "output_type": "stream",
     "text": [
      "best 2 0.058389281243108535\n",
      "Current pi pulse frequency: 4377.997901006704\n",
      "Fit frequency from amps [MHz]: 0.2086622258539251 +/- 0.0011465282420421523\n",
      "Suggested new pi pulse frequencies from fit amps [MHz]:\n",
      " \t4377.9892387808495\n",
      " \t4377.58923878085\n",
      "T2 Ramsey from fit amps [us]: 22.365992936130738 +/- 3.5538318770195323\n",
      "Current pi pulse frequency: 4377.997901006704\n",
      "Fit frequency from I [MHz]: 0.20755509392832103 +/- 0.0018042336931341917\n",
      "Suggested new pi pulse frequency from fit I [MHz]:\n",
      " \t4377.990345912775\n",
      " \t4377.590345912775\n",
      "T2 Ramsey from fit I [us]: 19.5586368421721 +/- 4.2934700122898315\n",
      "Fit frequency from Q [MHz]: 0.209234890455603 +/- 0.000944082508000557\n",
      "Suggested new pi pulse frequencies from fit Q [MHz]:\n",
      " \t4377.988666116248\n",
      " \t4377.588666116248\n",
      "T2 Ramsey from fit Q [us]: 23.339053980076482 +/- 3.1773016822867453\n",
      "*Set qubit 3 freq to 4377.988666116248*\n",
      "{'Qubit freq': 4377.988666116248, 'T1': 31.07377161991536, 'T1 err': 1.7658704555417863, 'T2R': 23.339053980076482, 'T2R err': 3.1773016822867453, 'Qubit EF freq': 4204.964704068256, 'T2R EF': 14.743982948593079, 'T2R EF err': 1.0729044094517184, 'Res freq': 6971.153333333334, 'Res freq (yaml)': -228.84666666666666, 'Res kappa': 0.2518690613409693}\n",
      "*New f_ge\n",
      " [[4108.73966106 4105.75887029 4110.96139089 4110.56100607]\n",
      " [3442.97914772 3448.25918515 3447.22560029 3447.02289897]\n",
      " [4762.73698758 4761.77220605 4759.61227117 4762.34022775]\n",
      " [4380.99025611 4380.22413414 4380.99903879 4377.98866612]]\n",
      "*New f_ge flattened\n",
      "[4108.739661061453, 4105.758870288914, 4110.961390890517, 4110.561006068113, 3442.9791477220547, 3448.25918515342, 3447.2256002913127, 3447.022898974775, 4762.736987583428, 4761.772206046936, 4759.612271171617, 4762.340227746316, 4380.990256112639, 4380.2241341449835, 4380.999038792971, 4377.988666116248]\n",
      "Redo T2R: False\n"
     ]
    }
   ],
   "source": [
    "# TESTING\n",
    "# t2r_2 = meas.RamseyExperiment(config_file=config_path)\n",
    "# temp_data, attrs = prev_data(expt_path, '00004_ramsey_qubit2.h5')\n",
    "# t2r_2.data = temp_data\n",
    "# t2r_2.cfg = AttrDict(attrs['config'])\n",
    "\n",
    "redo_t2r = True\n",
    "\n",
    "t2r_2.analyze(fit=True)\n",
    "\n",
    "t2r_2_fit, t2r_2_fit_err, t2r_2_adjust = meas.fitting.get_best_fit(t2r_2.data, get_best_data_params=['f_adjust_ramsey'])\n",
    "\n",
    "t2r_2.display(fit=True)\n",
    "old_qubit_freq = np.reshape(t2r_2.cfg.device.qubit.f_ge, (4,4))[qubit_i, qubit_i]\n",
    "if abs(t2r_2_adjust[0]) <= ramsey_freq/10:\n",
    "# if abs(t2r_2_adjust[0]) <= abs(t2r_2_adjust[0]):\n",
    "    redo_t2r = False\n",
    "    yaml_cfg.device.qubit.f_ge = np.reshape(yaml_cfg.device.qubit.f_ge, (4,4))\n",
    "    yaml_cfg.device.qubit.f_ge[qubit_i, qubit_i] = old_qubit_freq + t2r_2_adjust[0]\n",
    "    results_Qi.update({'T2R':t2r_2_fit[3], 'T2R err':np.sqrt(t2r_2_fit_err[3][3])})\n",
    "    results_Qi.update({'Qubit freq':yaml_cfg.device.qubit.f_ge[qubit_i, qubit_i] + yaml_cfg.hw.soc.dacs.qubit.mixer_freq[qubit_i]})\n",
    "    print(f'*Set qubit {qubit_i} freq to {yaml_cfg.device.qubit.f_ge[qubit_i, qubit_i]}*')\n",
    "    print(results_Qi)\n",
    "    print(f'*New f_ge\\n', yaml_cfg.device.qubit.f_ge)\n",
    "    yaml_cfg.device.qubit.f_ge = yaml_cfg.device.qubit.f_ge.flatten().tolist()\n",
    "    print(f'*New f_ge flattened\\n{yaml_cfg.device.qubit.f_ge}')\n",
    "\n",
    "else: # redo_t2r = True\n",
    "    yaml_cfg.device.qubit.f_ge[qubit_i] = alt_qubit_freq \n",
    "    print(f'*Set qubit {qubit_i} freq to {yaml_cfg.device.qubit.f_ge[qubit_i]}*')\n",
    "print(f'Redo T2R: {redo_t2r}')"
   ]
  },
  {
   "cell_type": "code",
   "execution_count": 144,
   "metadata": {},
   "outputs": [],
   "source": [
    "if save_data: saved_files.append(t2r_2.save_data())"
   ]
  },
  {
   "cell_type": "markdown",
   "metadata": {},
   "source": [
    "## $\\pi$, -$\\pi$ experiment"
   ]
  },
  {
   "cell_type": "code",
   "execution_count": 130,
   "metadata": {},
   "outputs": [],
   "source": [
    "use_robust_pulses = True"
   ]
  },
  {
   "cell_type": "code",
   "execution_count": null,
   "metadata": {},
   "outputs": [
    {
     "data": {
      "application/vnd.jupyter.widget-view+json": {
       "model_id": "d3660dca4610496280bce24ed92f0dca",
       "version_major": 2,
       "version_minor": 0
      },
      "text/plain": [
       "  0%|          | 0/2 [00:00<?, ?it/s]"
      ]
     },
     "metadata": {},
     "output_type": "display_data"
    },
    {
     "name": "stdout",
     "output_type": "stream",
     "text": [
      "Qubit  (0)\n",
      "ge fidelity (%): 78.30666666666667 \t angle (deg): -96.83569591568404 \t threshold ge: 398.7212265605594\n"
     ]
    },
    {
     "data": {
      "application/vnd.jupyter.widget-view+json": {
       "model_id": "25dcf053cb8f4f319a145e9f3d977364",
       "version_major": 2,
       "version_minor": 0
      },
      "text/plain": [
       "  0%|          | 0/10 [00:00<?, ?it/s]"
      ]
     },
     "metadata": {},
     "output_type": "display_data"
    }
   ],
   "source": [
    "piminuspi = meas.PiMinusPiExperiment(\n",
    "    soccfg=soc,\n",
    "    path=expt_path,\n",
    "    prefix=f\"PiMinusPiExpt{qubit_i}\",\n",
    "    config_file=config_path,\n",
    ")\n",
    "\n",
    "piminuspi.cfg = AttrDict(deepcopy(yaml_cfg))\n",
    "\n",
    "span_f = 2.0\n",
    "# npts_f = 50\n",
    "npts_f = 30\n",
    "\n",
    "if not use_robust_pulses:\n",
    "    start_f = piminuspi.cfg.device.qubit.f_ge[qubit_i*4 + qubit_i]-span_f/2\n",
    "    pulse_type = \"gauss\"\n",
    "else:\n",
    "    start_f=piminuspi.cfg.device.qubit.f_ge_robust[qubit_i*4 + qubit_i]-span_f/2,\n",
    "    pulse_type = \"robust\"\n",
    "\n",
    "piminuspi.cfg.expt = dict(\n",
    "    start_N=0, # number gate repetitions\n",
    "    step_N=4,\n",
    "    expts_N=10,\n",
    "    start_f=start_f,\n",
    "    step_f=span_f/npts_f,\n",
    "    expts_f=npts_f+1,\n",
    "    reps=int(0.75*reps*rounds),\n",
    "    # reps=10,\n",
    "    loops=1,\n",
    "    pulse_type=pulse_type,\n",
    "    use_robust_pulses=use_robust_pulses,\n",
    "\n",
    "    checkEF=False,\n",
    "    qTest=qubit_i,\n",
    "    qZZ=None,\n",
    "\n",
    "    test_pi_half=False,\n",
    "\n",
    "    post_process='threshold',\n",
    "    singleshot_reps=15000,\n",
    ")\n",
    "\n",
    "# print(piminuspi.cfg)\n",
    "import Pyro4.util\n",
    "try:\n",
    "    piminuspi.acquire(progress=True, debug=False)\n",
    "except Exception:\n",
    "    print(\"Pyro traceback:\")\n",
    "    print(\"\".join(Pyro4.util.getPyroTraceback()))"
   ]
  },
  {
   "cell_type": "code",
   "execution_count": 132,
   "metadata": {},
   "outputs": [
    {
     "name": "stdout",
     "output_type": "stream",
     "text": [
      "Fit best freq 4111.8334058569635 which is -0.47307206386085454 away from old freq 4112.306477920824\n",
      "*Set qubit 0 freq to 4111.8334058569635*\n",
      "{'T1': 64.05955000251987, 'T1 err': 1.119240285515182, 'T2R': 18.248886781332068, 'T2R err': 0.7816516069106116, 'Qubit freq': 4111.8334058569635, 'T2E': 56.36959417286505, 'T2E err': 1.4283912853884384, 'Res freq': 6810.011666666666, 'Res freq (yaml)': -389.98833333333334, 'Res kappa': 0.2735895597906132, 'Res chi shift (e - g)': -0.8642384105960446, 'Pi/2 pulse gain': 7569}\n",
      "*New f_ge_robust\n",
      " [[4111.83340586 4112.30647792 4112.30647792 4112.30647792]\n",
      " [3450.05408931 3450.05408931 3450.05408931 3450.05408931]\n",
      " [4763.941      4763.941      4763.941      4763.941     ]\n",
      " [4384.25034226 4384.25034226 4384.25034226 4384.25034226]]\n",
      "*New f_ge_robust flattened\n",
      "[4111.8334058569635, 4112.306477920824, 4112.306477920824, 4112.306477920824, 3450.0540893078382, 3450.0540893078382, 3450.0540893078382, 3450.0540893078382, 4763.941, 4763.941, 4763.941, 4763.941, 4384.25034225973, 4384.25034225973, 4384.25034225973, 4384.25034225973]\n"
     ]
    }
   ],
   "source": [
    "# # TESTING\n",
    "# temp_data, attrs = prev_data('s:\\Connie\\experiments\\qramLL_4QR2\\data\\data_240617\\\\00000_PiMinusPiExpt0.h5')\n",
    "# piminuspi.data =  temp_data\n",
    "# piminuspi.cfg = AttrDict(attrs['config'])\n",
    "\n",
    "\n",
    "data = piminuspi.data\n",
    "piminuspi.analyze(fit=True)\n",
    "piminuspi.display(fit=True)\n",
    "\n",
    "if not use_robust_pulses:\n",
    "    freq_update = \"f_ge\"\n",
    "else:\n",
    "    freq_update = \"f_ge_robust\"\n",
    "yaml_cfg.device.qubit[freq_update] = np.reshape(yaml_cfg.device.qubit[freq_update], (4,4))\n",
    "yaml_cfg.device.qubit[freq_update][qubit_i, qubit_i] = data[\"best_freq\"]\n",
    "results_Qi.update({'Qubit freq':yaml_cfg.device.qubit[freq_update][qubit_i, qubit_i] + yaml_cfg.hw.soc.dacs.qubit.mixer_freq[qubit_i]})\n",
    "print(f'*Set qubit {qubit_i} freq to {yaml_cfg.device.qubit[freq_update][qubit_i, qubit_i]}*')\n",
    "print(results_Qi)\n",
    "print(f'*New {freq_update}\\n', yaml_cfg.device.qubit[freq_update])\n",
    "yaml_cfg.device.qubit[freq_update] = yaml_cfg.device.qubit[freq_update].flatten().tolist()\n",
    "print(f'*New {freq_update} flattened\\n{yaml_cfg.device.qubit[freq_update]}')"
   ]
  },
  {
   "cell_type": "code",
   "execution_count": null,
   "metadata": {},
   "outputs": [],
   "source": [
    "if save_data: piminuspi.save_data()"
   ]
  },
  {
   "cell_type": "markdown",
   "metadata": {},
   "source": [
    "## GE error amplification"
   ]
  },
  {
   "cell_type": "code",
   "execution_count": null,
   "metadata": {},
   "outputs": [],
   "source": [
    "npulsecalib = meas.NPulseExperiment(\n",
    "    soccfg=soc,\n",
    "    path=expt_path,\n",
    "    prefix=f\"NPulseExptQ{qubit_i}\",\n",
    "    config_file=config_path,\n",
    ")\n",
    "\n",
    "npulsecalib.cfg = AttrDict(deepcopy(yaml_cfg))\n",
    "npulsecalib.cfg.expt = dict(\n",
    "    start=0, # number gate repetitions\n",
    "    step=1,\n",
    "    expts=10,\n",
    "    reps=1000,\n",
    "    loops=20,\n",
    "    pulse_type='gauss',\n",
    "    checkEF=False, \n",
    "    qTest=qubit_i,\n",
    "    qZZ=None,\n",
    "    test_pi_half=False,\n",
    "    error_amp=True,\n",
    "\n",
    "    post_process='scale',\n",
    "    singleshot_reps=15000,\n",
    ")\n",
    "\n",
    "# print(npulsecalib.cfg)\n",
    "import Pyro4.util\n",
    "try:\n",
    "    npulsecalib.acquire(progress=True, debug=False)\n",
    "except Exception:\n",
    "    print(\"Pyro traceback:\")\n",
    "    print(\"\".join(Pyro4.util.getPyroTraceback()))"
   ]
  },
  {
   "cell_type": "code",
   "execution_count": 392,
   "metadata": {},
   "outputs": [
    {
     "ename": "NameError",
     "evalue": "name 'npulsecalib' is not defined",
     "output_type": "error",
     "traceback": [
      "\u001b[1;31m---------------------------------------------------------------------------\u001b[0m",
      "\u001b[1;31mNameError\u001b[0m                                 Traceback (most recent call last)",
      "Cell \u001b[1;32mIn[392], line 5\u001b[0m\n\u001b[0;32m      1\u001b[0m \u001b[38;5;66;03m# # TESTING\u001b[39;00m\n\u001b[0;32m      2\u001b[0m \u001b[38;5;66;03m# temp_data, attrs = prev_data(expt_path, '00000_voltage_sweep_qubit_spectroscopy_qubit3.h5')\u001b[39;00m\n\u001b[0;32m      3\u001b[0m \u001b[38;5;66;03m# data = lengthrabi.analyze(data=temp_data, fit=True)\u001b[39;00m\n\u001b[1;32m----> 5\u001b[0m data \u001b[38;5;241m=\u001b[39m \u001b[43mnpulsecalib\u001b[49m\u001b[38;5;241m.\u001b[39mdata\n\u001b[0;32m      6\u001b[0m npulsecalib\u001b[38;5;241m.\u001b[39manalyze(fit\u001b[38;5;241m=\u001b[39m\u001b[38;5;28;01mTrue\u001b[39;00m, scale\u001b[38;5;241m=\u001b[39m\u001b[38;5;28;01mNone\u001b[39;00m)\n\u001b[0;32m      7\u001b[0m npulsecalib\u001b[38;5;241m.\u001b[39mdisplay(fit\u001b[38;5;241m=\u001b[39m\u001b[38;5;28;01mTrue\u001b[39;00m, scale\u001b[38;5;241m=\u001b[39m\u001b[38;5;28;01mNone\u001b[39;00m)\n",
      "\u001b[1;31mNameError\u001b[0m: name 'npulsecalib' is not defined"
     ]
    }
   ],
   "source": [
    "# # TESTING\n",
    "# temp_data, attrs = prev_data(expt_path, '00000_voltage_sweep_qubit_spectroscopy_qubit3.h5')\n",
    "# data = lengthrabi.analyze(data=temp_data, fit=True)\n",
    "\n",
    "data = npulsecalib.data\n",
    "npulsecalib.analyze(fit=True, scale=None)\n",
    "npulsecalib.display(fit=True, scale=None)\n",
    "\n",
    "# npulsecalib_fit, npulsecalib_fit_err = meas.fitting.get_best_fit(npulsecalib.data)\n",
    "fit_axis = 'avgi'\n",
    "npulsecalib_fit = data['fit_avgi']\n",
    "npulsecalib_fit_err = data['fit_err_avgi']\n",
    "\n",
    "angle_err = npulsecalib_fit[1]\n",
    "amp_ratio = (180 - angle_err) / 180\n",
    "new_amp_ge = np.reshape(npulsecalib.cfg.device.qubit.pulses.pi_ge.gain, (4,4))[qubit_i, qubit_i] / amp_ratio\n",
    "\n",
    "yaml_cfg.device.qubit.pulses.pi_ge.gain = np.reshape(yaml_cfg.device.qubit.pulses.pi_ge.gain, (4,4))\n",
    "yaml_cfg.device.qubit.pulses.pi_ge.gain[qubit_i, qubit_i] = int(round(new_amp_ge))\n",
    "print(f'*Set pi pulse gain for qubit {qubit_i} to {yaml_cfg.device.qubit.pulses.pi_ge.gain[qubit_i, qubit_i]}*')\n",
    "results_Qi.update({'Pi pulse gain':yaml_cfg.device.qubit.pulses.pi_ge.gain[qubit_i, qubit_i]})\n",
    "print(f'*New pi_ge.gain\\n', yaml_cfg.device.qubit.pulses.pi_ge.gain)\n",
    "yaml_cfg.device.qubit.pulses.pi_ge.gain = yaml_cfg.device.qubit.pulses.pi_ge.gain.flatten().tolist()\n",
    "print(f'*New pi_ge.gain flattened\\n{yaml_cfg.device.qubit.pulses.pi_ge.gain}')\n",
    "print(results_Qi)"
   ]
  },
  {
   "cell_type": "code",
   "execution_count": null,
   "metadata": {},
   "outputs": [],
   "source": [
    "if save_data: npulsecalib.save_data()"
   ]
  },
  {
   "cell_type": "markdown",
   "metadata": {},
   "source": [
    "## $T_2$ Echo"
   ]
  },
  {
   "cell_type": "code",
   "execution_count": 40,
   "metadata": {},
   "outputs": [
    {
     "name": "stdout",
     "output_type": "stream",
     "text": [
      "Short T1 False\n"
     ]
    }
   ],
   "source": [
    "# yaml_cfg.device.qubit.f_ge[qubit_i] = 145.572034953271\n",
    "qubit_hwhm = 2\n",
    "short_T1 = False\n",
    "# short_T1 = True\n",
    "# short_T1 = yaml_cfg.device.qubit.T1[qubit_i] < 20\n",
    "print('Short T1', short_T1)"
   ]
  },
  {
   "cell_type": "code",
   "execution_count": 41,
   "metadata": {},
   "outputs": [
    {
     "name": "stdout",
     "output_type": "stream",
     "text": [
      "Ramsey freq [MHz]: 2.0\n"
     ]
    }
   ],
   "source": [
    "ramsey_freq = max((min((np.abs(np.ceil(qubit_hwhm)), 3)), 2))\n",
    "# ramsey_freq = 1\n",
    "print(f'Ramsey freq [MHz]: {ramsey_freq}')"
   ]
  },
  {
   "cell_type": "code",
   "execution_count": 42,
   "metadata": {},
   "outputs": [
    {
     "name": "stdout",
     "output_type": "stream",
     "text": [
      "ramsey freq 0.13333333333333333\n",
      "Running Ramsey Echo on Q1 \n"
     ]
    },
    {
     "data": {
      "application/vnd.jupyter.widget-view+json": {
       "model_id": "a4cda25646b141ae875bb4f7c6b7dfc1",
       "version_major": 2,
       "version_minor": 0
      },
      "text/plain": [
       "  0%|          | 0/10 [00:00<?, ?it/s]"
      ]
     },
     "metadata": {},
     "output_type": "display_data"
    },
    {
     "name": "stdout",
     "output_type": "stream",
     "text": [
      "WARNING: not sure if single shot checking makes sense when there are multiple rounds of averaging... use at your own risk\n"
     ]
    }
   ],
   "source": [
    "t2e = meas.RamseyExperiment(\n",
    "    soccfg=soc,\n",
    "    path=expt_path,\n",
    "    prefix=f\"echo_qubit{qubit_i}\",\n",
    "    config_file=config_path,\n",
    ")\n",
    "t2e.cfg = AttrDict(deepcopy(yaml_cfg))\n",
    "\n",
    "t2e.cfg.expt = dict(\n",
    "    start=0, # total wait time b/w the two pi/2 pulses [us]\n",
    "    # step=soc.cycles2us(80), # make sure nyquist freq = 0.5*(1/step) > ramsey (signal) freq!\n",
    "    step=soc.cycles2us(30) if short_T1 else soc.cycles2us(150), # [us] \n",
    "    expts=201,\n",
    "    ramsey_freq=max((ramsey_freq/15, 0.100)), # frequency by which to advance phase [MHz]\n",
    "    num_pi=1, # number of pi pulses\n",
    "    echo_type='cpmg', # cp or cpmg\n",
    "    reps=reps,\n",
    "    # reps=10,\n",
    "    rounds=rounds,\n",
    "    qTest=qubit_i,\n",
    "    qZZ=None,\n",
    "    checkEF=False,\n",
    ")\n",
    "t2e.go(analyze=False, display=False, progress=True, save=False)"
   ]
  },
  {
   "cell_type": "code",
   "execution_count": 43,
   "metadata": {},
   "outputs": [
    {
     "name": "stdout",
     "output_type": "stream",
     "text": [
      "Qubit 1\n",
      "best 2 0.0622798305708678\n",
      "Current pi pulse frequency: 3447.2125949303563\n",
      "Fit frequency from amps [MHz]: 0.1413512667059562 +/- 0.0016669960238427687\n",
      "Suggested new pi pulse frequencies from fit amps [MHz]:\n",
      " \t3447.2045769969836\n",
      " \t3446.937910330317\n",
      "T2 Ramsey from fit amps [us]: 20.82170758928572 +/- 4.3424513354334575\n",
      "Current pi pulse frequency: 3447.2125949303563\n",
      "Fit frequency from I [MHz]: 0.13190949055322806 +/- 0.0015833982650325178\n",
      "Suggested new pi pulse frequency from fit I [MHz]:\n",
      " \t3447.2140187731366\n",
      " \t3446.9473521064697\n",
      "T2 Ramsey from fit I [us]: 20.82170758928572 +/- 4.214340690530717\n",
      "Fit frequency from Q [MHz]: 0.1342565524573538 +/- 0.0011074400647582941\n",
      "Suggested new pi pulse frequencies from fit Q [MHz]:\n",
      " \t3447.211671711232\n",
      " \t3446.9450050445657\n",
      "T2 Ramsey from fit Q [us]: 20.82170758928572 +/- 2.931229309211224\n",
      "{'Qubit freq': 3447.2125949303563, 'T2R': 15.590122767857144, 'T2R err': 4.264038875225909, 'T2E': 20.82170758928572, 'T2E err': 2.931229309211224}\n"
     ]
    }
   ],
   "source": [
    "# # TESTING\n",
    "# # t2e = meas.RamseyEchoExperiment(config_file=config_path)\n",
    "# temp_data, attrs = prev_data(expt_path, '00000_echo_qubit1.h5')\n",
    "# t2e.data = temp_data\n",
    "\n",
    "print(f'Qubit {qubit_i}')\n",
    "t2e.analyze(fit=True)\n",
    "\n",
    "t2e_fit, t2e_fit_err = meas.fitting.get_best_fit(t2e.data)\n",
    "\n",
    "if not isinstance(t2e_fit, (list, np.ndarray)):\n",
    "    t2e.display(fit=False)\n",
    "    assert False, 'Fit failed, please manually fix!'\n",
    "\n",
    "t2e.display(fit=True)\n",
    "results_Qi.update({'T2E':t2e_fit[3], 'T2E err':np.sqrt(t2e_fit_err[3][3])})\n",
    "print(results_Qi)\n",
    "# print('Results updated.')"
   ]
  },
  {
   "cell_type": "code",
   "execution_count": 46,
   "metadata": {},
   "outputs": [],
   "source": [
    "if save_data: saved_files.append(t2e.save_data())"
   ]
  },
  {
   "cell_type": "markdown",
   "metadata": {},
   "source": [
    "## (Divide len) Calibrate $\\pi/2$ pulse"
   ]
  },
  {
   "cell_type": "markdown",
   "metadata": {},
   "source": [
    "### Amplitude rabi for $\\pi/2$ pulse (divide len) (use this for protocol)"
   ]
  },
  {
   "cell_type": "code",
   "execution_count": 127,
   "metadata": {},
   "outputs": [],
   "source": [
    "divide_len = True"
   ]
  },
  {
   "cell_type": "code",
   "execution_count": 128,
   "metadata": {},
   "outputs": [
    {
     "name": "stdout",
     "output_type": "stream",
     "text": [
      "qubit 3 pi_len 0.025\n"
     ]
    }
   ],
   "source": [
    "pi_len = np.reshape(yaml_cfg.device.qubit.pulses.pi_ge.sigma, (4,4))[qubit_i, qubit_i]\n",
    "# pi_len = 0.008\n",
    "print('qubit', qubit_i, 'pi_len', pi_len)"
   ]
  },
  {
   "cell_type": "code",
   "execution_count": 129,
   "metadata": {},
   "outputs": [
    {
     "name": "stdout",
     "output_type": "stream",
     "text": [
      "Running amp rabi on Q3 \n"
     ]
    },
    {
     "data": {
      "application/vnd.jupyter.widget-view+json": {
       "model_id": "131eb11ac5234da2a93b902a3a6621db",
       "version_major": 2,
       "version_minor": 0
      },
      "text/plain": [
       "  0%|          | 0/50000 [00:00<?, ?it/s]"
      ]
     },
     "metadata": {},
     "output_type": "display_data"
    },
    {
     "name": "stdout",
     "output_type": "stream",
     "text": [
      "(4, 50, 1000)\n"
     ]
    }
   ],
   "source": [
    "amprabi_3 = meas.AmplitudeRabiExperiment(\n",
    "    soccfg=soc,\n",
    "    path=expt_path,\n",
    "    prefix=f\"amp_rabi_qubit{qubit_i}\",\n",
    "    config_file=config_path,\n",
    ")\n",
    "amprabi_3.cfg = AttrDict(deepcopy(yaml_cfg))\n",
    "\n",
    "span = min((32000, int(1.5*np.reshape(yaml_cfg.device.qubit.pulses.pi_ge.gain, (4,4))[qubit_i, qubit_i])))\n",
    "npts = 50\n",
    "    \n",
    "amprabi_3.cfg.expt = dict(\n",
    "    start=0, # qubit gain [dac level]\n",
    "    step=int(span/npts), # [dac level]\n",
    "    expts=npts,\n",
    "    reps=reps*rounds,\n",
    "    rounds=1,\n",
    "    sigma_test=pi_len, # gaussian sigma for pulse length - overrides config [us]\n",
    "    pulse_type=\"gauss\" if not use_robust_pulses else \"robust\",\n",
    "    checkEF=False, \n",
    "    n_pulses=1,\n",
    "    test_pi_half=True,\n",
    "    qTest=qubit_i,\n",
    "    qZZ=None,\n",
    "\n",
    "    use_robust_pulses=use_robust_pulses,\n",
    ")\n",
    "amprabi_3.go(analyze=False, display=False, progress=True, save=False)"
   ]
  },
  {
   "cell_type": "code",
   "execution_count": 130,
   "metadata": {},
   "outputs": [
    {
     "name": "stdout",
     "output_type": "stream",
     "text": [
      "best 0 0.03736597231018949\n",
      "Pi gain from amps data [dac units]: 3120\n",
      "\tPi/2 gain from amps data [dac units]: 1560\n",
      "Pi gain from avgi data [dac units]: 3120\n",
      "\tPi/2 gain from avgi data [dac units]: 1560\n",
      "Pi gain from avgq data [dac units]: 2142\n",
      "\tPi/2 gain from avgq data [dac units]: 1071\n",
      "*Set pi/2 pulse gain for qubit 3 to 3120*\n",
      "*New pi_ge.half_gain\n",
      " [[1850 1835 1873 1867]\n",
      " [2382 2186 2248 2289]\n",
      " [9253 9253 9253 9253]\n",
      " [2000 2000 2000 3120]]\n",
      "*New pi_ge.half_gain flattened\n",
      "[1850, 1835, 1873, 1867, 2382, 2186, 2248, 2289, 9253, 9253, 9253, 9253, 2000, 2000, 2000, 3120]\n",
      "{'Pi pulse gain': 14360, 'Qubit freq': 4381.135527846996, 'Res freq': 6971.153333333334, 'Res freq (yaml)': -228.84666666666666, 'Res kappa': 0.20149515995222483, 'Pi/2 pulse gain': 3120}\n"
     ]
    }
   ],
   "source": [
    "# # TESTING\n",
    "# # amprabi_3 = meas.AmplitudeRabiExperiment(config_file=config_path,)\n",
    "# temp_data, attrs = prev_data(expt_path, '00000_amp_rabi_qubit0.h5')\n",
    "# amprabi_3.data = temp_data\n",
    "\n",
    "# amprabi_3.display(fit=False)\n",
    "\n",
    "amprabi_3.analyze(fit=True)\n",
    "\n",
    "amprabi_3_fit, amprabi_3_fit_err = meas.fitting.get_best_fit(amprabi_3.data)\n",
    "\n",
    "p = amprabi_3_fit\n",
    "if p[2] > 180: p[2] = p[2] - 360\n",
    "elif p[2] < -180: p[2] = p[2] + 360\n",
    "if p[2] < 0: pi_gain = (1/2 - p[2]/180)/2/p[1]\n",
    "else: pi_gain = (3/2 - p[2]/180)/2/p[1]\n",
    "\n",
    "if pi_gain > 32000:\n",
    "    amprabi_3.display(fit=False)\n",
    "    print(f'WARNING: Fit pi/2 pulse gain is long ({pi_gain}), please double check!')\n",
    "    pi_gain = 30000\n",
    "else: amprabi_3.display(fit=True)\n",
    "\n",
    "yaml_cfg.device.qubit.pulses.pi_ge.half_gain = np.reshape(yaml_cfg.device.qubit.pulses.pi_ge.half_gain, (4,4))\n",
    "yaml_cfg.device.qubit.pulses.pi_ge.half_gain[qubit_i, qubit_i] = int(pi_gain)\n",
    "print(f'*Set pi/2 pulse gain for qubit {qubit_i} to {yaml_cfg.device.qubit.pulses.pi_ge.half_gain[qubit_i, qubit_i]}*')\n",
    "results_Qi.update({'Pi/2 pulse gain':yaml_cfg.device.qubit.pulses.pi_ge.half_gain[qubit_i, qubit_i]})\n",
    "print(f'*New pi_ge.half_gain\\n', yaml_cfg.device.qubit.pulses.pi_ge.half_gain)\n",
    "yaml_cfg.device.qubit.pulses.pi_ge.half_gain = yaml_cfg.device.qubit.pulses.pi_ge.half_gain.flatten().astype(int).tolist()\n",
    "print(f'*New pi_ge.half_gain flattened\\n{yaml_cfg.device.qubit.pulses.pi_ge.half_gain}')\n",
    "print(results_Qi)"
   ]
  },
  {
   "cell_type": "code",
   "execution_count": null,
   "metadata": {},
   "outputs": [],
   "source": [
    "if save_data: saved_files.append(amprabi_3.save_data())"
   ]
  },
  {
   "cell_type": "markdown",
   "metadata": {},
   "source": [
    "### $\\pi/2$, -$\\pi/2$ experiment"
   ]
  },
  {
   "cell_type": "code",
   "execution_count": 113,
   "metadata": {},
   "outputs": [],
   "source": [
    "use_robust_pulses = False"
   ]
  },
  {
   "cell_type": "code",
   "execution_count": 21,
   "metadata": {},
   "outputs": [],
   "source": [
    "sweep_phase = True"
   ]
  },
  {
   "cell_type": "code",
   "execution_count": 40,
   "metadata": {},
   "outputs": [
    {
     "data": {
      "application/vnd.jupyter.widget-view+json": {
       "model_id": "ef18b715f2c0479183397f548e30fafc",
       "version_major": 2,
       "version_minor": 0
      },
      "text/plain": [
       "  0%|          | 0/2 [00:00<?, ?it/s]"
      ]
     },
     "metadata": {},
     "output_type": "display_data"
    },
    {
     "name": "stdout",
     "output_type": "stream",
     "text": [
      "Qubit  (3)\n",
      "ge fidelity (%): 66.23234437851413 \t angle (deg): -26.387257959233988 \t threshold ge: 52.10000869145318\n"
     ]
    },
    {
     "data": {
      "application/vnd.jupyter.widget-view+json": {
       "model_id": "a59c394c7b3f4e7f9896604060c55c27",
       "version_major": 2,
       "version_minor": 0
      },
      "text/plain": [
       "  0%|          | 0/10 [00:00<?, ?it/s]"
      ]
     },
     "metadata": {},
     "output_type": "display_data"
    }
   ],
   "source": [
    "piminuspi = meas.PiMinusPiExperiment(\n",
    "    soccfg=soc,\n",
    "    path=expt_path,\n",
    "    prefix=f\"PiMinusPiExpt{qubit_i}\",\n",
    "    config_file=config_path,\n",
    ")\n",
    "\n",
    "piminuspi.cfg = AttrDict(deepcopy(yaml_cfg))\n",
    "\n",
    "span_f = 5.0\n",
    "npts_f = 30\n",
    "# span_f = 2.0\n",
    "# npts_f = 10\n",
    "\n",
    "# span_f = 0.0\n",
    "# npts_f = 1\n",
    "\n",
    "start_f = piminuspi.cfg.device.qubit.f_ge[qubit_i*4 + qubit_i]-span_f/2\n",
    "pulse_type = \"gauss\"\n",
    "if use_robust_pulses:\n",
    "    pulse_type = \"robust\"\n",
    "    if not sweep_phase:\n",
    "        start_f = piminuspi.cfg.device.qubit.f_ge_robust[qubit_i*4 + qubit_i]-span_f/2,\n",
    "    else:\n",
    "        start_f = -span_f/2\n",
    "\n",
    "piminuspi.cfg.expt = dict(\n",
    "    start_N=0, # number gate repetitions\n",
    "    step_N=1,\n",
    "    expts_N=10,\n",
    "    # step_N=4,\n",
    "    # expts_N=4,\n",
    "    start_f=start_f,\n",
    "    step_f=span_f/npts_f,\n",
    "    expts_f=npts_f+1,\n",
    "    # reps=int(0.75*reps*rounds),\n",
    "    # reps=1000,\n",
    "    reps=500,\n",
    "    # reps=10,\n",
    "    loops=1,\n",
    "    pulse_type=pulse_type,\n",
    "    use_robust_pulses=use_robust_pulses,\n",
    "\n",
    "    checkEF=False,\n",
    "    qTest=qubit_i,\n",
    "    qZZ=None,\n",
    "\n",
    "    # use_Y=True,\n",
    "\n",
    "    test_pi_half=True,\n",
    "\n",
    "    post_process='threshold',\n",
    "    singleshot_reps=15000,\n",
    "\n",
    "    sweep_phase=sweep_phase,\n",
    "\n",
    "    full_mux_expt=full_mux_expt,\n",
    "    resonator_reset=resonator_reset,\n",
    ")\n",
    "\n",
    "# print(piminuspi.cfg)\n",
    "import Pyro4.util\n",
    "try:\n",
    "    piminuspi.acquire(progress=True, debug=False)\n",
    "except Exception:\n",
    "    print(\"Pyro traceback:\")\n",
    "    print(\"\".join(Pyro4.util.getPyroTraceback()))"
   ]
  },
  {
   "cell_type": "code",
   "execution_count": 41,
   "metadata": {},
   "outputs": [
    {
     "name": "stdout",
     "output_type": "stream",
     "text": [
      "Fit best freq 1.6904291867323187 which is 1.6904291867323187 away from old freq 0\n",
      "Best virtual Z (deg) 15.21386268059087\n",
      "*New pihalf_ge_robust.correction_phase \n",
      "[12.831628835545475, 10.05593135477756, 0, 0, 0.11174784781734694, -0.41895542828054083, 0, 0, 0, 0, 2.9582000054694726, 0, 0, 0, 0, 15.21386268059087]\n"
     ]
    }
   ],
   "source": [
    "# # TESTING\n",
    "# temp_data, attrs = prev_data('s:\\Connie\\experiments\\qramLL_4QR2\\data\\data_240617\\\\00000_PiMinusPiExpt0.h5')\n",
    "# piminuspi.data =  temp_data\n",
    "# piminuspi.cfg = AttrDict(attrs['config'])\n",
    "\n",
    "\n",
    "data = piminuspi.data\n",
    "piminuspi.analyze(fit=True)\n",
    "piminuspi.display(fit=True)\n",
    "\n",
    "if not sweep_phase:\n",
    "    if not use_robust_pulses:\n",
    "        freq_update = \"f_ge\"\n",
    "    else:\n",
    "        freq_update = \"f_ge_robust\"\n",
    "    yaml_cfg.device.qubit[freq_update] = np.reshape(yaml_cfg.device.qubit[freq_update], (4,4))\n",
    "    yaml_cfg.device.qubit[freq_update][qubit_i, qubit_i] = data[\"best_freq\"]\n",
    "    results_Qi.update({'Qubit freq':yaml_cfg.device.qubit[freq_update][qubit_i, qubit_i] + yaml_cfg.hw.soc.dacs.qubit.mixer_freq[qubit_i]})\n",
    "    print(f'*Set qubit {qubit_i} freq to {yaml_cfg.device.qubit[freq_update][qubit_i, qubit_i]}*')\n",
    "    print(results_Qi)\n",
    "    print(f'*New {freq_update}\\n', yaml_cfg.device.qubit[freq_update])\n",
    "    yaml_cfg.device.qubit[freq_update] = yaml_cfg.device.qubit[freq_update].flatten().tolist()\n",
    "    print(f'*New {freq_update} flattened\\n{yaml_cfg.device.qubit[freq_update]}')\n",
    "\n",
    "else:\n",
    "    if not use_robust_pulses:\n",
    "        yaml_cfg.device.qubit.pulses.pi_ge.half_correction_phase[qubit_i*4 + qubit_i] = data[\"best_phase\"]\n",
    "        print(f'*New pi_ge.half_correction_phase \\n{yaml_cfg.device.qubit.pulses.pi_ge.half_correction_phase}')\n",
    "    else:\n",
    "        yaml_cfg.device.qubit.pulses.pihalf_ge_robust.correction_phase[qubit_i*4 + qubit_i] = data[\"best_phase\"]\n",
    "        print(f'*New pihalf_ge_robust.correction_phase \\n{yaml_cfg.device.qubit.pulses.pihalf_ge_robust.correction_phase}')"
   ]
  },
  {
   "cell_type": "code",
   "execution_count": null,
   "metadata": {},
   "outputs": [],
   "source": [
    "if save_data: piminuspi.save_data()"
   ]
  },
  {
   "cell_type": "markdown",
   "metadata": {},
   "source": [
    "### GE $\\pi/2$ error amplification (divide len)"
   ]
  },
  {
   "cell_type": "code",
   "execution_count": 196,
   "metadata": {},
   "outputs": [],
   "source": [
    "divide_len = True"
   ]
  },
  {
   "cell_type": "code",
   "execution_count": 197,
   "metadata": {},
   "outputs": [
    {
     "data": {
      "application/vnd.jupyter.widget-view+json": {
       "model_id": "38bcb996826f4303a3bf7bfb18b44d3c",
       "version_major": 2,
       "version_minor": 0
      },
      "text/plain": [
       "  0%|          | 0/2 [00:00<?, ?it/s]"
      ]
     },
     "metadata": {},
     "output_type": "display_data"
    },
    {
     "name": "stdout",
     "output_type": "stream",
     "text": [
      "Qubit  (3)\n",
      "ge fidelity (%): 81.28 \t angle (deg): 34.05335509852408 \t threshold ge: -666.1487237776781\n"
     ]
    },
    {
     "data": {
      "application/vnd.jupyter.widget-view+json": {
       "model_id": "72f5b0135fd54c8a97bb5b417317a471",
       "version_major": 2,
       "version_minor": 0
      },
      "text/plain": [
       "  0%|          | 0/20 [00:00<?, ?it/s]"
      ]
     },
     "metadata": {},
     "output_type": "display_data"
    },
    {
     "name": "stderr",
     "output_type": "stream",
     "text": [
      "RuntimeWarning: divide by zero encountered in divide\n",
      " s:\\Connie\\experiments\\qram_tprocv1_expts\\experiments\\clifford_averager_program.py: 1742"
     ]
    }
   ],
   "source": [
    "npulsecalib_gehalf = meas.NPulseExperiment(\n",
    "    soccfg=soc,\n",
    "    path=expt_path,\n",
    "    prefix=f\"NPulseExptQ{qubit_i}\",\n",
    "    config_file=config_path,\n",
    ")\n",
    "\n",
    "if not use_robust_pulses:\n",
    "    pulse_type = \"gauss\"\n",
    "else:\n",
    "    pulse_type = \"robust\"\n",
    "\n",
    "npulsecalib_gehalf.cfg = AttrDict(deepcopy(yaml_cfg))\n",
    "npulsecalib_gehalf.cfg.expt = dict(\n",
    "    start=0, # number gate repetitions\n",
    "    step=1,\n",
    "    expts=20,\n",
    "    reps=1000,\n",
    "    loops=20,\n",
    "    pulse_type=pulse_type,\n",
    "    test_pi_half=True,\n",
    "    divide_len=divide_len,\n",
    "    error_amp=True,\n",
    "    use_robust_pulses=use_robust_pulses,\n",
    "    use_Y=False,\n",
    "\n",
    "    checkEF=False,\n",
    "    qTest=qubit_i,\n",
    "    qZZ=None,\n",
    "\n",
    "    post_process='scale',\n",
    "    singleshot_reps=15000,\n",
    ")\n",
    "\n",
    "# print(npulsecalib_gehalf.cfg)\n",
    "try:\n",
    "    npulsecalib_gehalf.acquire(progress=True, debug=False)\n",
    "except Exception:\n",
    "    print(\"Pyro traceback:\")\n",
    "    print(\"\".join(Pyro4.util.getPyroTraceback()))"
   ]
  },
  {
   "cell_type": "code",
   "execution_count": 202,
   "metadata": {},
   "outputs": [
    {
     "name": "stdout",
     "output_type": "stream",
     "text": [
      "fitparams [None, 0.017453292519943295]\n",
      "From amps: adjust amplitude to 3595 / 1.0526538911009298 = 3415.1776100310894\n",
      "From avgi: adjust amplitude to 3595 / 1.004050416624822 = 3580.4974934274874\n",
      "From avgq: adjust amplitude to 3595 / 0.947346260195975 = 3794.8109904991993\n",
      "*Set pi/2 pulse gain for qubit 3 to 3580*\n",
      "*New pihalf_ge_robust.gain\n",
      " [[ 7569  7569  7569  7569]\n",
      " [ 4982  4982  4982  4982]\n",
      " [31856 31856 31856 31856]\n",
      " [ 3595  3595  3595  3580]]\n",
      "*New pihalf_ge_robust.gain flattened\n",
      "[7569, 7569, 7569, 7569, 4982, 4982, 4982, 4982, 31856, 31856, 31856, 31856, 3595, 3595, 3595, 3580]\n",
      "{'Res freq': 6971.126666666667, 'Res freq (yaml)': -228.87333333333333, 'Res kappa': 0.21493746441942563, 'Res chi shift (e - g)': -0.8046357615893953, 'Qubit freq': 4383.7527021237, 'Pi/2 pulse gain': 3580}\n"
     ]
    }
   ],
   "source": [
    "# # TESTING\n",
    "# temp_data, attrs = prev_data(expt_path, '00000_voltage_sweep_qubit_spectroscopy_qubit3.h5')\n",
    "# data = lengthrabi.analyze(data=temp_data, fit=True)\n",
    "\n",
    "data = npulsecalib_gehalf.data\n",
    "npulsecalib_gehalf.analyze(fit=True, scale=None)\n",
    "npulsecalib_gehalf.display(fit=True, scale=None)\n",
    "\n",
    "# npulsecalib_gehalf_fit, npulsecalib_gehalf_fit_err = meas.fitting.get_best_fit(npulsecalib_gehalf.data)\n",
    "fit_axis = 'avgi'\n",
    "npulsecalib_gehalf_fit = data['fit_avgi']\n",
    "npulsecalib_gehalf_fit_err = data['fit_err_avgi']\n",
    "\n",
    "angle_err = npulsecalib_gehalf_fit[1]\n",
    "amp_ratio = (90 - angle_err)/90\n",
    "new_amp_half_ge = npulsecalib_gehalf.cfg.expt.gain / amp_ratio\n",
    "\n",
    "if npulsecalib_gehalf.cfg.expt.use_robust_pulses:\n",
    "    yaml_update = [\"pihalf_ge_robust\", \"gain\"]\n",
    "else:\n",
    "    yaml_update = [\"pi_ge\", \"half_gain\"]\n",
    "\n",
    "yaml_cfg.device.qubit.pulses[yaml_update[0]][yaml_update[1]] = np.reshape(yaml_cfg.device.qubit.pulses[yaml_update[0]][yaml_update[1]], (4,4))\n",
    "yaml_cfg.device.qubit.pulses[yaml_update[0]][yaml_update[1]][qubit_i, qubit_i] = int(round(new_amp_half_ge))\n",
    "print(f'*Set pi/2 pulse gain for qubit {qubit_i} to {yaml_cfg.device.qubit.pulses[yaml_update[0]][yaml_update[1]][qubit_i, qubit_i]}*')\n",
    "results_Qi.update({'Pi/2 pulse gain':yaml_cfg.device.qubit.pulses[yaml_update[0]][yaml_update[1]][qubit_i, qubit_i]})\n",
    "print(f'*New {yaml_update[0]}.{yaml_update[1]}\\n', yaml_cfg.device.qubit.pulses[yaml_update[0]][yaml_update[1]])\n",
    "yaml_cfg.device.qubit.pulses[yaml_update[0]][yaml_update[1]] = yaml_cfg.device.qubit.pulses[yaml_update[0]][yaml_update[1]].flatten().astype(int).tolist()\n",
    "print(f'*New {yaml_update[0]}.{yaml_update[1]} flattened\\n{yaml_cfg.device.qubit.pulses[yaml_update[0]][yaml_update[1]]}')\n",
    "print(results_Qi)"
   ]
  },
  {
   "cell_type": "code",
   "execution_count": null,
   "metadata": {},
   "outputs": [],
   "source": [
    "if save_data: npulsecalib_gehalf.save_data()"
   ]
  },
  {
   "cell_type": "markdown",
   "metadata": {},
   "source": [
    "## (Divide gain) Calibrate $\\pi/2$ pulse"
   ]
  },
  {
   "cell_type": "markdown",
   "metadata": {},
   "source": [
    "### Amplitude rabi for $\\pi/2$ pulse (divide gain) (use this for RB)"
   ]
  },
  {
   "cell_type": "code",
   "execution_count": null,
   "metadata": {},
   "outputs": [],
   "source": [
    "divide_len = False"
   ]
  },
  {
   "cell_type": "code",
   "execution_count": null,
   "metadata": {},
   "outputs": [],
   "source": [
    "pi_len = np.reshape(yaml_cfg.device.qubit.pulses.pi_ge.sigma, (4,4))[qubit_i, qubit_i]\n",
    "# pi_len = 0.008\n",
    "print('qubit', qubit_i, 'pi_len', pi_len)"
   ]
  },
  {
   "cell_type": "code",
   "execution_count": null,
   "metadata": {},
   "outputs": [],
   "source": [
    "amprabi_3 = meas.AmplitudeRabiExperiment(\n",
    "    soccfg=soc,\n",
    "    path=expt_path,\n",
    "    prefix=f\"amp_rabi_qubit{qubit_i}\",\n",
    "    config_file=config_path,\n",
    ")\n",
    "amprabi_3.cfg = AttrDict(deepcopy(yaml_cfg))\n",
    "\n",
    "span = min((32000, int(1.5*0.5*np.reshape(yaml_cfg.device.qubit.pulses.pi_ge.gain, (4,4))[qubit_i, qubit_i])))\n",
    "npts = 151\n",
    "    \n",
    "amprabi_3.cfg.expt = dict(\n",
    "    start=0, # qubit gain [dac level]\n",
    "    step=int(span/npts), # [dac level]\n",
    "    expts=npts,\n",
    "    reps=reps,\n",
    "    # reps=5,\n",
    "    rounds=rounds,\n",
    "    sigma_test=pi_len, # gaussian sigma for pulse length - overrides config [us]\n",
    "    pulse_type='gauss',\n",
    "    checkEF=False, \n",
    "    n_pulses=1,\n",
    "    test_pi_half=True,\n",
    "    divide_len=divide_len,\n",
    "    qTest=qubit_i,\n",
    "    qZZ=None,\n",
    ")\n",
    "amprabi_3.go(analyze=False, display=False, progress=True, save=False)"
   ]
  },
  {
   "cell_type": "code",
   "execution_count": null,
   "metadata": {},
   "outputs": [],
   "source": [
    "# # TESTING\n",
    "# # amprabi_3 = meas.AmplitudeRabiExperiment(config_file=config_path,)\n",
    "# temp_data, attrs = prev_data(expt_path, '00000_amp_rabi_qubit0.h5')\n",
    "# amprabi_3.data = temp_data\n",
    "\n",
    "amprabi_3.analyze(fit=True)\n",
    "\n",
    "amprabi_3_fit, amprabi_3_fit_err = meas.fitting.get_best_fit(amprabi_3.data)\n",
    "\n",
    "p = amprabi_3_fit\n",
    "if p[2] > 180: p[2] = p[2] - 360\n",
    "elif p[2] < -180: p[2] = p[2] + 360\n",
    "if p[2] < 0: pi_gain = (1/2 - p[2]/180)/2/p[1]\n",
    "else: pi_gain = (3/2 - p[2]/180)/2/p[1]\n",
    "\n",
    "if pi_gain > 32000:\n",
    "    amprabi_3.display(fit=False)\n",
    "    print(f'WARNING: Fit pi/2 pulse gain is long ({pi_gain}), please double check!')\n",
    "    pi_gain = 30000\n",
    "else: amprabi_3.display(fit=True)\n",
    "\n",
    "yaml_cfg.device.qubit.pulses.pi_ge.half_gain_pi_sigma = np.reshape(yaml_cfg.device.qubit.pulses.pi_ge.half_gain_pi_sigma, (4,4))\n",
    "yaml_cfg.device.qubit.pulses.pi_ge.half_gain_pi_sigma[qubit_i, qubit_i] = int(pi_gain)\n",
    "print(f'*Set pi/2 pulse gain for qubit {qubit_i} to {yaml_cfg.device.qubit.pulses.pi_ge.half_gain_pi_sigma[qubit_i, qubit_i]}*')\n",
    "results_Qi.update({'Pi/2 pulse gain':yaml_cfg.device.qubit.pulses.pi_ge.half_gain_pi_sigma[qubit_i, qubit_i]})\n",
    "print(f'*New pi_ge.half_gain_pi_sigma\\n', yaml_cfg.device.qubit.pulses.pi_ge.half_gain_pi_sigma)\n",
    "yaml_cfg.device.qubit.pulses.pi_ge.half_gain_pi_sigma = yaml_cfg.device.qubit.pulses.pi_ge.half_gain_pi_sigma.flatten().astype(int).tolist()\n",
    "print(f'*New pi_ge.half_gain_pi_sigma flattened\\n{yaml_cfg.device.qubit.pulses.pi_ge.half_gain_pi_sigma}')\n",
    "print(results_Qi)"
   ]
  },
  {
   "cell_type": "code",
   "execution_count": null,
   "metadata": {},
   "outputs": [],
   "source": [
    "if save_data: saved_files.append(amprabi_3.save_data())"
   ]
  },
  {
   "cell_type": "markdown",
   "metadata": {},
   "source": [
    "### GE $\\pi/2$ error amplification (divide gain)"
   ]
  },
  {
   "cell_type": "code",
   "execution_count": null,
   "metadata": {},
   "outputs": [],
   "source": [
    "divide_len = False"
   ]
  },
  {
   "cell_type": "code",
   "execution_count": null,
   "metadata": {},
   "outputs": [],
   "source": [
    "npulsecalib_gehalf = meas.NPulseExperiment(\n",
    "    soccfg=soc,\n",
    "    path=expt_path,\n",
    "    prefix=f\"NPulseExptQ{qubit_i}\",\n",
    "    config_file=config_path,\n",
    ")\n",
    "\n",
    "npulsecalib_gehalf.cfg = AttrDict(deepcopy(yaml_cfg))\n",
    "npulsecalib_gehalf.cfg.expt = dict(\n",
    "    start=0, # number gate repetitions\n",
    "    step=1,\n",
    "    expts=10,\n",
    "    reps=1000,\n",
    "    loops=20,\n",
    "    pulse_type='gauss',\n",
    "    checkEF=False, \n",
    "    qTest=qubit_i,\n",
    "    qZZ=None,\n",
    "    test_pi_half=True,\n",
    "    divide_len=divide_len,\n",
    "    error_amp=True,\n",
    "\n",
    "    post_process='scale',\n",
    "    singleshot_reps=15000,\n",
    ")\n",
    "\n",
    "print(npulsecalib_gehalf.cfg)\n",
    "import Pyro4.util\n",
    "try:\n",
    "    npulsecalib_gehalf.go(analyze=False, display=False, progress=True, save=False)\n",
    "except Exception:\n",
    "    print(\"Pyro traceback:\")\n",
    "    print(\"\".join(Pyro4.util.getPyroTraceback()))"
   ]
  },
  {
   "cell_type": "code",
   "execution_count": null,
   "metadata": {},
   "outputs": [],
   "source": [
    "# # TESTING\n",
    "# temp_data, attrs = prev_data(expt_path, '00000_voltage_sweep_qubit_spectroscopy_qubit3.h5')\n",
    "# data = lengthrabi.analyze(data=temp_data, fit=True)\n",
    "\n",
    "data = npulsecalib_gehalf.data\n",
    "npulsecalib_gehalf.analyze(fit=True, scale=None)\n",
    "npulsecalib_gehalf.display(fit=True, scale=None)\n",
    "\n",
    "# npulsecalib_gehalf_fit, npulsecalib_gehalf_fit_err = meas.fitting.get_best_fit(npulsecalib_gehalf.data)\n",
    "fit_axis = 'avgi'\n",
    "npulsecalib_gehalf_fit = data['fit_avgi']\n",
    "npulsecalib_gehalf_fit_err = data['fit_err_avgi']\n",
    "\n",
    "angle_err = npulsecalib_gehalf_fit[1]\n",
    "amp_ratio = (90 - angle_err)/90\n",
    "new_amp_half_ge = np.reshape(npulsecalib_gehalf.cfg.device.qubit.pulses.pi_ge.half_gain_pi_sigma, (4,4))[qubit_i, qubit_i] / amp_ratio\n",
    "\n",
    "yaml_cfg.device.qubit.pulses.pi_ge.half_gain_pi_sigma = np.reshape(yaml_cfg.device.qubit.pulses.pi_ge.half_gain_pi_sigma, (4,4))\n",
    "yaml_cfg.device.qubit.pulses.pi_ge.half_gain_pi_sigma[qubit_i, qubit_i] = int(round(new_amp_half_ge))\n",
    "print(f'*Set pi/2 pulse gain for qubit {qubit_i} to {yaml_cfg.device.qubit.pulses.pi_ge.half_gain_pi_sigma[qubit_i, qubit_i]}*')\n",
    "results_Qi.update({'Pi/2 pulse gain':yaml_cfg.device.qubit.pulses.pi_ge.half_gain_pi_sigma[qubit_i, qubit_i]})\n",
    "print(f'*New pi_ge.half_gain_pi_sigma\\n', yaml_cfg.device.qubit.pulses.pi_ge.half_gain_pi_sigma)\n",
    "yaml_cfg.device.qubit.pulses.pi_ge.half_gain_pi_sigma = yaml_cfg.device.qubit.pulses.pi_ge.half_gain_pi_sigma.flatten().astype(int).tolist()\n",
    "print(f'*New pi_ge.half_gain_pi_sigma flattened\\n{yaml_cfg.device.qubit.pulses.pi_ge.half_gain_pi_sigma}')\n",
    "print(results_Qi)"
   ]
  },
  {
   "cell_type": "code",
   "execution_count": null,
   "metadata": {},
   "outputs": [],
   "source": [
    "if save_data: npulsecalib_gehalf.save_data()"
   ]
  },
  {
   "cell_type": "markdown",
   "metadata": {},
   "source": [
    "## Resonator chi shift (g/e)"
   ]
  },
  {
   "cell_type": "code",
   "execution_count": 66,
   "metadata": {},
   "outputs": [
    {
     "data": {
      "application/vnd.jupyter.widget-view+json": {
       "model_id": "7c02e18ace5343fbb2d7a68d9bafffdf",
       "version_major": 2,
       "version_minor": 0
      },
      "text/plain": [
       "  0%|          | 0/151 [00:00<?, ?it/s]"
      ]
     },
     "metadata": {},
     "output_type": "display_data"
    }
   ],
   "source": [
    "rspec_chi = meas.ResonatorSpectroscopyExperiment(\n",
    "    soccfg=soc,\n",
    "    path=expt_path,\n",
    "    prefix=f\"resonator_spectroscopy_chi_qubit{qubit_i}\",\n",
    "    config_file=config_path,\n",
    ")\n",
    "rspec_chi.cfg = AttrDict(deepcopy(yaml_cfg))\n",
    "\n",
    "span = 3 # MHz\n",
    "npts = 151\n",
    "rspec_chi.cfg.expt = dict(\n",
    "    start=rspec_chi.cfg.device.readout.frequency[qubit_i]-span/2, # MHz\n",
    "    # start=rspec_chi.cfg.device.readout.frequency[qubit_i]-rspec_chi.cfg.device.readout.lo_sideband[qubit_i]*span, # MHz\n",
    "    step=span/npts,\n",
    "    expts=npts,\n",
    "    reps=reps*rounds,\n",
    "    pulse_e=True, # add ge pi pulse prior to measurement\n",
    "    pulse_f=False, # add ef pi pulse prior to measurement\n",
    "    qTest=qubit_i,\n",
    "    qZZ=None,\n",
    "\n",
    "    full_mux_expt=full_mux_expt,\n",
    "    resonator_reset=resonator_reset,\n",
    ")\n",
    "\n",
    "rspec_chi.cfg.device.readout.gain[qubit_i] /= 2\n",
    "# rspec_chi.cfg.device.readout.readout_length[qubit_i] *= 2\n",
    "\n",
    "# rspec_chi.cfg.device.readout.relax_delay = 100 # Wait time between experiments [us]\n",
    "rspec_chi.go(analyze=False, display=False, progress=True, save=False)"
   ]
  },
  {
   "cell_type": "code",
   "execution_count": 67,
   "metadata": {},
   "outputs": [
    {
     "name": "stdout",
     "output_type": "stream",
     "text": [
      "electrical delay phase correction (no mux support) (deg) -0.9076642467601178\n",
      "param guess [7702.358299558499, 38511.791497792496, 38511.791497792496, 0, 0.018340276016335748, 0.9086934125827005]\n",
      "param bounds ([7700.888100883003, 0, 0, -6.283185307179586, -0.027510414024503622, -inf], [7703.8284982339965, 1000000000.0, 100000000.0, 6.283185307179586, 0.027510414024503622, 1.0483127995070105])\n",
      "popt [ 7.70258087e+03  3.26966142e+04  4.03823664e+05 -2.88126910e+00\n",
      "  2.75104140e-02 -9.44456758e-02]\n",
      "\n",
      "Freq with minimum transmission: 501.3847896247247\n",
      "Freq with maximum transmission: 501.74240551876443\n",
      "From fit:\n",
      "\tf0: 7702.580868230989\n",
      "\tQi: 32696.61417842917 \t kappa_i/2pi: 0.23557732388427507\n",
      "\tQe: 403823.66418188985 \t kappa_e/2pi: 0.019074119600781\n",
      "\tQ0: 30247.544497751907\n",
      "\tkappa [MHz]: 0.2546514434850561\n",
      "\tphi [radians]: -2.8812691049037285\n",
      "baseline 34.79599741799686\n",
      "Res freq e 501.4046571743936\n",
      "Res freq g 502.368233333334\n",
      "Chi shift (e-g): -0.9635761589403842\n",
      "qubit 2 {'Qubit EF freq': 4574.2134872558845, 'T2R EF': 15.233515280933435, 'T2R EF err': 1.6586265411281977, 'Pi EF pulse gain': 13316, 'T2E EF': 21.632448119150048, 'T2E EF err': 1.6481093691006576, 'Pi/2 EF pulse gain': 30000, 'Pi/2 pulse gain': 3366, 'Res chi shift (e - g)': -0.9635761589403842}\n"
     ]
    }
   ],
   "source": [
    "# # TESTING\n",
    "# # rspec_chi = meas.ResonatorSpectroscopyExperiment(config_file=config_path,) \n",
    "# temp_data, attrs = prev_data(expt_path, '00001_resonator_spectroscopy_qubit2.h5')\n",
    "# rspec_chi.data = temp_data\n",
    "\n",
    "rspec_chi.data = rspec_chi.analyze(fit=True)\n",
    "rspec_chi_fit = rspec_chi.data['fit']\n",
    "if not isinstance(rspec_chi_fit, (list, np.ndarray)):\n",
    "    rspec_chi.display(fit=False)\n",
    "    assert False, 'Fit failed, please manually fix!'\n",
    "rspec_chi.display(fit=True)\n",
    "# res_freq_e = rspec_chi_fit[0] - yaml_cfg.hw.soc.dacs.readout.mixer_freq[qubit_i]\n",
    "res_freq_e = rspec_chi.data['xpts'][np.argmin(rspec_chi.data['amps'])]\n",
    "# res_freq_e = rspec_chi.data['xpts'][np.argmax(rspec_chi.data['amps'])]\n",
    "print('Res freq e', res_freq_e)\n",
    "res_freq_g = yaml_cfg.device.readout.frequency[qubit_i]\n",
    "print('Res freq g', res_freq_g)\n",
    "# res_freq_e = -83\n",
    "# results_Qi.update({'Res chi shift (e - g)': yaml_cfg.device.readout.lo_sideband[qubit_i]*(res_freq_e - yaml_cfg.device.readout.frequency[qubit_i])})\n",
    "chi_shift_eg = yaml_cfg.device.readout.lo_sideband[qubit_i]*(res_freq_e - res_freq_g)\n",
    "print('Chi shift (e-g):', chi_shift_eg)\n",
    "results_Qi.update({'Res chi shift (e - g)': chi_shift_eg})\n",
    "# res_freq_e = 6953.5\n",
    "# results_Qi.update({'Res chi shift (e - g)': res_freq_e - (5925 + yaml_cfg.device.readout.lo_sideband[qubit_i]*(yaml_cfg.hw.soc.dacs.readout.mixer_freq + yaml_cfg.device.readout.frequency[qubit_i]))})\n",
    "print(f'qubit {qubit_i}', results_Qi)"
   ]
  },
  {
   "cell_type": "code",
   "execution_count": 49,
   "metadata": {},
   "outputs": [],
   "source": [
    "if save_data: saved_files.append(rspec_chi.save_data())"
   ]
  },
  {
   "cell_type": "markdown",
   "metadata": {},
   "source": [
    "# Qubit ef spectroscopy"
   ]
  },
  {
   "cell_type": "markdown",
   "metadata": {},
   "source": [
    "## Pulse Probe EF spectroscopy"
   ]
  },
  {
   "cell_type": "code",
   "execution_count": 15,
   "metadata": {},
   "outputs": [
    {
     "name": "stdout",
     "output_type": "stream",
     "text": [
      "Running pulse probe EF on Q2 \n"
     ]
    },
    {
     "data": {
      "application/vnd.jupyter.widget-view+json": {
       "model_id": "d9a56850e704491cb8f7b1fb40fb09d4",
       "version_major": 2,
       "version_minor": 0
      },
      "text/plain": [
       "  0%|          | 0/25000000 [00:00<?, ?it/s]"
      ]
     },
     "metadata": {},
     "output_type": "display_data"
    },
    {
     "ename": "KeyboardInterrupt",
     "evalue": "",
     "output_type": "error",
     "traceback": [
      "\u001b[1;31m---------------------------------------------------------------------------\u001b[0m",
      "\u001b[1;31mKeyboardInterrupt\u001b[0m                         Traceback (most recent call last)",
      "Cell \u001b[1;32mIn[15], line 34\u001b[0m\n\u001b[0;32m     12\u001b[0m qEFspec\u001b[38;5;241m.\u001b[39mcfg\u001b[38;5;241m.\u001b[39mexpt \u001b[38;5;241m=\u001b[39m \u001b[38;5;28mdict\u001b[39m(\n\u001b[0;32m     13\u001b[0m     \u001b[38;5;66;03m# start=np.reshape(yaml_cfg.device.qubit.f_ef, (4,4))[qubit_i,qubit_i]-0.5*span, # resonator frequency to be mixed up [MHz]\u001b[39;00m\n\u001b[0;32m     14\u001b[0m     \u001b[38;5;66;03m# start=3347-0.5*span, # resonator frequency to be mixed up [MHz]\u001b[39;00m\n\u001b[1;32m   (...)\u001b[0m\n\u001b[0;32m     31\u001b[0m     checkEF\u001b[38;5;241m=\u001b[39m\u001b[38;5;28;01mTrue\u001b[39;00m,\n\u001b[0;32m     32\u001b[0m )\n\u001b[0;32m     33\u001b[0m qEFspec\u001b[38;5;241m.\u001b[39mcfg\u001b[38;5;241m.\u001b[39mdevice\u001b[38;5;241m.\u001b[39mreadout\u001b[38;5;241m.\u001b[39mrelax_delay \u001b[38;5;241m=\u001b[39m \u001b[38;5;241m1\u001b[39m \u001b[38;5;66;03m# Wait time between experiments [us]\u001b[39;00m\n\u001b[1;32m---> 34\u001b[0m \u001b[43mqEFspec\u001b[49m\u001b[38;5;241;43m.\u001b[39;49m\u001b[43mgo\u001b[49m\u001b[43m(\u001b[49m\u001b[43manalyze\u001b[49m\u001b[38;5;241;43m=\u001b[39;49m\u001b[38;5;28;43;01mFalse\u001b[39;49;00m\u001b[43m,\u001b[49m\u001b[43m \u001b[49m\u001b[43mdisplay\u001b[49m\u001b[38;5;241;43m=\u001b[39;49m\u001b[38;5;28;43;01mFalse\u001b[39;49;00m\u001b[43m,\u001b[49m\u001b[43m \u001b[49m\u001b[43mprogress\u001b[49m\u001b[38;5;241;43m=\u001b[39;49m\u001b[38;5;28;43;01mTrue\u001b[39;49;00m\u001b[43m,\u001b[49m\u001b[43m \u001b[49m\u001b[43msave\u001b[49m\u001b[38;5;241;43m=\u001b[39;49m\u001b[38;5;28;43;01mFalse\u001b[39;49;00m\u001b[43m)\u001b[49m\n",
      "File \u001b[1;32m~\\slab\\experiment.py:115\u001b[0m, in \u001b[0;36mExperiment.go\u001b[1;34m(self, save, analyze, display, progress)\u001b[0m\n\u001b[0;32m    112\u001b[0m \u001b[38;5;28;01mdef\u001b[39;00m \u001b[38;5;21mgo\u001b[39m(\u001b[38;5;28mself\u001b[39m, save\u001b[38;5;241m=\u001b[39m\u001b[38;5;28;01mFalse\u001b[39;00m, analyze\u001b[38;5;241m=\u001b[39m\u001b[38;5;28;01mFalse\u001b[39;00m, display\u001b[38;5;241m=\u001b[39m\u001b[38;5;28;01mFalse\u001b[39;00m, progress\u001b[38;5;241m=\u001b[39m\u001b[38;5;28;01mFalse\u001b[39;00m):\n\u001b[0;32m    113\u001b[0m     \u001b[38;5;66;03m# get data\u001b[39;00m\n\u001b[1;32m--> 115\u001b[0m     data\u001b[38;5;241m=\u001b[39m\u001b[38;5;28;43mself\u001b[39;49m\u001b[38;5;241;43m.\u001b[39;49m\u001b[43macquire\u001b[49m\u001b[43m(\u001b[49m\u001b[43mprogress\u001b[49m\u001b[43m)\u001b[49m\n\u001b[0;32m    116\u001b[0m     \u001b[38;5;28;01mif\u001b[39;00m analyze:\n\u001b[0;32m    117\u001b[0m         data\u001b[38;5;241m=\u001b[39m\u001b[38;5;28mself\u001b[39m\u001b[38;5;241m.\u001b[39manalyze(data)\n",
      "File \u001b[1;32ms:\\Seb\\experiements\\qram_tprocv1_expts\\experiments\\single_qubit\\pulse_probe_spectroscopy.py:253\u001b[0m, in \u001b[0;36mPulseProbeSpectroscopyExperiment.acquire\u001b[1;34m(self, progress)\u001b[0m\n\u001b[0;32m    250\u001b[0m \u001b[38;5;28mprint\u001b[39m(\u001b[38;5;124mf\u001b[39m\u001b[38;5;124m'\u001b[39m\u001b[38;5;124mRunning pulse probe \u001b[39m\u001b[38;5;132;01m{\u001b[39;00m\u001b[38;5;124m\"\u001b[39m\u001b[38;5;124mEF \u001b[39m\u001b[38;5;124m\"\u001b[39m\u001b[38;5;250m \u001b[39m\u001b[38;5;28;01mif\u001b[39;00m\u001b[38;5;250m \u001b[39m\u001b[38;5;28mself\u001b[39m\u001b[38;5;241m.\u001b[39mcfg\u001b[38;5;241m.\u001b[39mexpt\u001b[38;5;241m.\u001b[39mcheckEF\u001b[38;5;250m \u001b[39m\u001b[38;5;28;01melse\u001b[39;00m\u001b[38;5;250m \u001b[39m\u001b[38;5;124m\"\u001b[39m\u001b[38;5;124m\"\u001b[39m\u001b[38;5;132;01m}\u001b[39;00m\u001b[38;5;124mon Q\u001b[39m\u001b[38;5;132;01m{\u001b[39;00mqTest\u001b[38;5;132;01m}\u001b[39;00m\u001b[38;5;124m \u001b[39m\u001b[38;5;132;01m{\u001b[39;00m\u001b[38;5;124m\"\u001b[39m\u001b[38;5;124mwith ZZ Q\u001b[39m\u001b[38;5;124m\"\u001b[39m\u001b[38;5;250m \u001b[39m\u001b[38;5;241m+\u001b[39m\u001b[38;5;250m \u001b[39m\u001b[38;5;28mstr\u001b[39m(qZZ)\u001b[38;5;250m \u001b[39m\u001b[38;5;28;01mif\u001b[39;00m\u001b[38;5;250m \u001b[39m\u001b[38;5;28mself\u001b[39m\u001b[38;5;241m.\u001b[39mcheckZZ\u001b[38;5;250m \u001b[39m\u001b[38;5;28;01melse\u001b[39;00m\u001b[38;5;250m \u001b[39m\u001b[38;5;124m\"\u001b[39m\u001b[38;5;124m\"\u001b[39m\u001b[38;5;132;01m}\u001b[39;00m\u001b[38;5;124m'\u001b[39m)\n\u001b[0;32m    252\u001b[0m qspec \u001b[38;5;241m=\u001b[39m PulseProbeSpectroscopyProgram(soccfg\u001b[38;5;241m=\u001b[39m\u001b[38;5;28mself\u001b[39m\u001b[38;5;241m.\u001b[39msoccfg, cfg\u001b[38;5;241m=\u001b[39m\u001b[38;5;28mself\u001b[39m\u001b[38;5;241m.\u001b[39mcfg)\n\u001b[1;32m--> 253\u001b[0m xpts, avgi, avgq \u001b[38;5;241m=\u001b[39m \u001b[43mqspec\u001b[49m\u001b[38;5;241;43m.\u001b[39;49m\u001b[43macquire\u001b[49m\u001b[43m(\u001b[49m\u001b[38;5;28;43mself\u001b[39;49m\u001b[38;5;241;43m.\u001b[39;49m\u001b[43mim\u001b[49m\u001b[43m[\u001b[49m\u001b[38;5;28;43mself\u001b[39;49m\u001b[38;5;241;43m.\u001b[39;49m\u001b[43mcfg\u001b[49m\u001b[38;5;241;43m.\u001b[39;49m\u001b[43maliases\u001b[49m\u001b[38;5;241;43m.\u001b[39;49m\u001b[43msoc\u001b[49m\u001b[43m]\u001b[49m\u001b[43m,\u001b[49m\u001b[43m \u001b[49m\u001b[43mthreshold\u001b[49m\u001b[38;5;241;43m=\u001b[39;49m\u001b[38;5;28;43;01mNone\u001b[39;49;00m\u001b[43m,\u001b[49m\u001b[43m \u001b[49m\u001b[43mload_pulses\u001b[49m\u001b[38;5;241;43m=\u001b[39;49m\u001b[38;5;28;43;01mTrue\u001b[39;49;00m\u001b[43m,\u001b[49m\u001b[43m \u001b[49m\u001b[43mprogress\u001b[49m\u001b[38;5;241;43m=\u001b[39;49m\u001b[43mprogress\u001b[49m\u001b[43m)\u001b[49m\n\u001b[0;32m    254\u001b[0m avgi \u001b[38;5;241m=\u001b[39m avgi[qTest][\u001b[38;5;241m0\u001b[39m]\n\u001b[0;32m    255\u001b[0m avgq \u001b[38;5;241m=\u001b[39m avgq[qTest][\u001b[38;5;241m0\u001b[39m]\n",
      "File \u001b[1;32mc:\\users\\slab\\qick\\qick_lib\\qick\\averager_program.py:283\u001b[0m, in \u001b[0;36mRAveragerProgram.acquire\u001b[1;34m(self, soc, threshold, angle, load_pulses, readouts_per_experiment, save_experiments, start_src, progress, remove_offset)\u001b[0m\n\u001b[0;32m    280\u001b[0m \u001b[38;5;28;01mif\u001b[39;00m readouts_per_experiment \u001b[38;5;129;01mis\u001b[39;00m \u001b[38;5;129;01mnot\u001b[39;00m \u001b[38;5;28;01mNone\u001b[39;00m:\n\u001b[0;32m    281\u001b[0m     \u001b[38;5;28mself\u001b[39m\u001b[38;5;241m.\u001b[39mset_reads_per_shot(readouts_per_experiment)\n\u001b[1;32m--> 283\u001b[0m avg_d \u001b[38;5;241m=\u001b[39m \u001b[38;5;28;43msuper\u001b[39;49m\u001b[43m(\u001b[49m\u001b[43m)\u001b[49m\u001b[38;5;241;43m.\u001b[39;49m\u001b[43macquire\u001b[49m\u001b[43m(\u001b[49m\u001b[43msoc\u001b[49m\u001b[43m,\u001b[49m\u001b[43m \u001b[49m\u001b[43msoft_avgs\u001b[49m\u001b[38;5;241;43m=\u001b[39;49m\u001b[38;5;28;43mself\u001b[39;49m\u001b[38;5;241;43m.\u001b[39;49m\u001b[43msoft_avgs\u001b[49m\u001b[43m,\u001b[49m\u001b[43m \u001b[49m\u001b[43mload_pulses\u001b[49m\u001b[38;5;241;43m=\u001b[39;49m\u001b[43mload_pulses\u001b[49m\u001b[43m,\u001b[49m\u001b[43m \u001b[49m\u001b[43mstart_src\u001b[49m\u001b[38;5;241;43m=\u001b[39;49m\u001b[43mstart_src\u001b[49m\u001b[43m,\u001b[49m\u001b[43m \u001b[49m\u001b[43mthreshold\u001b[49m\u001b[38;5;241;43m=\u001b[39;49m\u001b[43mthreshold\u001b[49m\u001b[43m,\u001b[49m\u001b[43m \u001b[49m\u001b[43mangle\u001b[49m\u001b[38;5;241;43m=\u001b[39;49m\u001b[43mangle\u001b[49m\u001b[43m,\u001b[49m\u001b[43m \u001b[49m\u001b[43mprogress\u001b[49m\u001b[38;5;241;43m=\u001b[39;49m\u001b[43mprogress\u001b[49m\u001b[43m,\u001b[49m\u001b[43m \u001b[49m\u001b[43mremove_offset\u001b[49m\u001b[38;5;241;43m=\u001b[39;49m\u001b[43mremove_offset\u001b[49m\u001b[43m)\u001b[49m\n\u001b[0;32m    285\u001b[0m \u001b[38;5;66;03m# reformat the data into separate I and Q arrays\u001b[39;00m\n\u001b[0;32m    286\u001b[0m \u001b[38;5;66;03m# save results to class in case you want to look at it later or for analysis\u001b[39;00m\n\u001b[0;32m    287\u001b[0m raw \u001b[38;5;241m=\u001b[39m [d\u001b[38;5;241m.\u001b[39mreshape((\u001b[38;5;241m-\u001b[39m\u001b[38;5;241m1\u001b[39m,\u001b[38;5;241m2\u001b[39m)) \u001b[38;5;28;01mfor\u001b[39;00m d \u001b[38;5;129;01min\u001b[39;00m \u001b[38;5;28mself\u001b[39m\u001b[38;5;241m.\u001b[39mget_raw()]\n",
      "File \u001b[1;32mc:\\users\\slab\\qick\\qick_lib\\qick\\qick_asm.py:1701\u001b[0m, in \u001b[0;36mAcquireMixin.acquire\u001b[1;34m(self, soc, soft_avgs, load_pulses, start_src, threshold, angle, progress, remove_offset)\u001b[0m\n\u001b[0;32m   1698\u001b[0m soc\u001b[38;5;241m.\u001b[39mstart_readout(total_count, counter_addr\u001b[38;5;241m=\u001b[39m\u001b[38;5;28mself\u001b[39m\u001b[38;5;241m.\u001b[39mcounter_addr,\n\u001b[0;32m   1699\u001b[0m                        ch_list\u001b[38;5;241m=\u001b[39m\u001b[38;5;28mlist\u001b[39m(\u001b[38;5;28mself\u001b[39m\u001b[38;5;241m.\u001b[39mro_chs), reads_per_shot\u001b[38;5;241m=\u001b[39m\u001b[38;5;28mself\u001b[39m\u001b[38;5;241m.\u001b[39mreads_per_shot)\n\u001b[0;32m   1700\u001b[0m \u001b[38;5;28;01mwhile\u001b[39;00m count\u001b[38;5;241m<\u001b[39mtotal_count:\n\u001b[1;32m-> 1701\u001b[0m     new_data \u001b[38;5;241m=\u001b[39m obtain(\u001b[43msoc\u001b[49m\u001b[38;5;241;43m.\u001b[39;49m\u001b[43mpoll_data\u001b[49m\u001b[43m(\u001b[49m\u001b[43m)\u001b[49m)\n\u001b[0;32m   1702\u001b[0m     \u001b[38;5;28;01mfor\u001b[39;00m new_points, (d, s) \u001b[38;5;129;01min\u001b[39;00m new_data:\n\u001b[0;32m   1703\u001b[0m         \u001b[38;5;28;01mfor\u001b[39;00m ii, nreads \u001b[38;5;129;01min\u001b[39;00m \u001b[38;5;28menumerate\u001b[39m(\u001b[38;5;28mself\u001b[39m\u001b[38;5;241m.\u001b[39mreads_per_shot):\n\u001b[0;32m   1704\u001b[0m             \u001b[38;5;66;03m#print(count, new_points, nreads, d[ii].shape, total_count)\u001b[39;00m\n",
      "File \u001b[1;32mc:\\Users\\slab\\.conda\\envs\\slab\\lib\\site-packages\\Pyro4\\core.py:185\u001b[0m, in \u001b[0;36m_RemoteMethod.__call__\u001b[1;34m(self, *args, **kwargs)\u001b[0m\n\u001b[0;32m    183\u001b[0m \u001b[38;5;28;01mfor\u001b[39;00m attempt \u001b[38;5;129;01min\u001b[39;00m \u001b[38;5;28mrange\u001b[39m(\u001b[38;5;28mself\u001b[39m\u001b[38;5;241m.\u001b[39m__max_retries \u001b[38;5;241m+\u001b[39m \u001b[38;5;241m1\u001b[39m):\n\u001b[0;32m    184\u001b[0m     \u001b[38;5;28;01mtry\u001b[39;00m:\n\u001b[1;32m--> 185\u001b[0m         \u001b[38;5;28;01mreturn\u001b[39;00m \u001b[38;5;28;43mself\u001b[39;49m\u001b[38;5;241;43m.\u001b[39;49m\u001b[43m__send\u001b[49m\u001b[43m(\u001b[49m\u001b[38;5;28;43mself\u001b[39;49m\u001b[38;5;241;43m.\u001b[39;49m\u001b[43m__name\u001b[49m\u001b[43m,\u001b[49m\u001b[43m \u001b[49m\u001b[43margs\u001b[49m\u001b[43m,\u001b[49m\u001b[43m \u001b[49m\u001b[43mkwargs\u001b[49m\u001b[43m)\u001b[49m\n\u001b[0;32m    186\u001b[0m     \u001b[38;5;28;01mexcept\u001b[39;00m (errors\u001b[38;5;241m.\u001b[39mConnectionClosedError, errors\u001b[38;5;241m.\u001b[39mTimeoutError):\n\u001b[0;32m    187\u001b[0m         \u001b[38;5;66;03m# only retry for recoverable network errors\u001b[39;00m\n\u001b[0;32m    188\u001b[0m         \u001b[38;5;28;01mif\u001b[39;00m attempt \u001b[38;5;241m>\u001b[39m\u001b[38;5;241m=\u001b[39m \u001b[38;5;28mself\u001b[39m\u001b[38;5;241m.\u001b[39m__max_retries:\n\u001b[0;32m    189\u001b[0m             \u001b[38;5;66;03m# last attempt, raise the exception\u001b[39;00m\n",
      "File \u001b[1;32mc:\\Users\\slab\\.conda\\envs\\slab\\lib\\site-packages\\Pyro4\\core.py:453\u001b[0m, in \u001b[0;36mProxy._pyroInvoke\u001b[1;34m(self, methodname, vargs, kwargs, flags, objectId)\u001b[0m\n\u001b[0;32m    451\u001b[0m     \u001b[38;5;28;01mreturn\u001b[39;00m \u001b[38;5;28;01mNone\u001b[39;00m  \u001b[38;5;66;03m# oneway call, no response data\u001b[39;00m\n\u001b[0;32m    452\u001b[0m \u001b[38;5;28;01melse\u001b[39;00m:\n\u001b[1;32m--> 453\u001b[0m     msg \u001b[38;5;241m=\u001b[39m \u001b[43mmessage\u001b[49m\u001b[38;5;241;43m.\u001b[39;49m\u001b[43mMessage\u001b[49m\u001b[38;5;241;43m.\u001b[39;49m\u001b[43mrecv\u001b[49m\u001b[43m(\u001b[49m\u001b[38;5;28;43mself\u001b[39;49m\u001b[38;5;241;43m.\u001b[39;49m\u001b[43m_pyroConnection\u001b[49m\u001b[43m,\u001b[49m\u001b[43m \u001b[49m\u001b[43m[\u001b[49m\u001b[43mmessage\u001b[49m\u001b[38;5;241;43m.\u001b[39;49m\u001b[43mMSG_RESULT\u001b[49m\u001b[43m]\u001b[49m\u001b[43m,\u001b[49m\u001b[43m \u001b[49m\u001b[43mhmac_key\u001b[49m\u001b[38;5;241;43m=\u001b[39;49m\u001b[38;5;28;43mself\u001b[39;49m\u001b[38;5;241;43m.\u001b[39;49m\u001b[43m_pyroHmacKey\u001b[49m\u001b[43m)\u001b[49m\n\u001b[0;32m    454\u001b[0m     \u001b[38;5;28;01mif\u001b[39;00m config\u001b[38;5;241m.\u001b[39mLOGWIRE:\n\u001b[0;32m    455\u001b[0m         _log_wiredata(log, \u001b[38;5;124m\"\u001b[39m\u001b[38;5;124mproxy wiredata received\u001b[39m\u001b[38;5;124m\"\u001b[39m, msg)\n",
      "File \u001b[1;32mc:\\Users\\slab\\.conda\\envs\\slab\\lib\\site-packages\\Pyro4\\message.py:168\u001b[0m, in \u001b[0;36mMessage.recv\u001b[1;34m(cls, connection, requiredMsgTypes, hmac_key)\u001b[0m\n\u001b[0;32m    160\u001b[0m \u001b[38;5;129m@classmethod\u001b[39m\n\u001b[0;32m    161\u001b[0m \u001b[38;5;28;01mdef\u001b[39;00m \u001b[38;5;21mrecv\u001b[39m(\u001b[38;5;28mcls\u001b[39m, connection, requiredMsgTypes\u001b[38;5;241m=\u001b[39m\u001b[38;5;28;01mNone\u001b[39;00m, hmac_key\u001b[38;5;241m=\u001b[39m\u001b[38;5;28;01mNone\u001b[39;00m):\n\u001b[0;32m    162\u001b[0m \u001b[38;5;250m    \u001b[39m\u001b[38;5;124;03m\"\"\"\u001b[39;00m\n\u001b[0;32m    163\u001b[0m \u001b[38;5;124;03m    Receives a pyro message from a given connection.\u001b[39;00m\n\u001b[0;32m    164\u001b[0m \u001b[38;5;124;03m    Accepts the given message types (None=any, or pass a sequence).\u001b[39;00m\n\u001b[0;32m    165\u001b[0m \u001b[38;5;124;03m    Also reads annotation chunks and the actual payload data.\u001b[39;00m\n\u001b[0;32m    166\u001b[0m \u001b[38;5;124;03m    Validates a HMAC chunk if present.\u001b[39;00m\n\u001b[0;32m    167\u001b[0m \u001b[38;5;124;03m    \"\"\"\u001b[39;00m\n\u001b[1;32m--> 168\u001b[0m     msg \u001b[38;5;241m=\u001b[39m \u001b[38;5;28mcls\u001b[39m\u001b[38;5;241m.\u001b[39mfrom_header(\u001b[43mconnection\u001b[49m\u001b[38;5;241;43m.\u001b[39;49m\u001b[43mrecv\u001b[49m\u001b[43m(\u001b[49m\u001b[38;5;28;43mcls\u001b[39;49m\u001b[38;5;241;43m.\u001b[39;49m\u001b[43mheader_size\u001b[49m\u001b[43m)\u001b[49m)\n\u001b[0;32m    169\u001b[0m     msg\u001b[38;5;241m.\u001b[39mhmac_key \u001b[38;5;241m=\u001b[39m hmac_key\n\u001b[0;32m    170\u001b[0m     \u001b[38;5;28;01mif\u001b[39;00m \u001b[38;5;241m0\u001b[39m \u001b[38;5;241m<\u001b[39m config\u001b[38;5;241m.\u001b[39mMAX_MESSAGE_SIZE \u001b[38;5;241m<\u001b[39m (msg\u001b[38;5;241m.\u001b[39mdata_size \u001b[38;5;241m+\u001b[39m msg\u001b[38;5;241m.\u001b[39mannotations_size):\n",
      "File \u001b[1;32mc:\\Users\\slab\\.conda\\envs\\slab\\lib\\site-packages\\Pyro4\\socketutil.py:463\u001b[0m, in \u001b[0;36mSocketConnection.recv\u001b[1;34m(self, size)\u001b[0m\n\u001b[0;32m    462\u001b[0m \u001b[38;5;28;01mdef\u001b[39;00m \u001b[38;5;21mrecv\u001b[39m(\u001b[38;5;28mself\u001b[39m, size):\n\u001b[1;32m--> 463\u001b[0m     \u001b[38;5;28;01mreturn\u001b[39;00m \u001b[43mreceiveData\u001b[49m\u001b[43m(\u001b[49m\u001b[38;5;28;43mself\u001b[39;49m\u001b[38;5;241;43m.\u001b[39;49m\u001b[43msock\u001b[49m\u001b[43m,\u001b[49m\u001b[43m \u001b[49m\u001b[43msize\u001b[49m\u001b[43m)\u001b[49m\n",
      "File \u001b[1;32mc:\\Users\\slab\\.conda\\envs\\slab\\lib\\site-packages\\Pyro4\\socketutil.py:171\u001b[0m, in \u001b[0;36mreceiveData\u001b[1;34m(sock, size)\u001b[0m\n\u001b[0;32m    168\u001b[0m \u001b[38;5;28;01mtry\u001b[39;00m:\n\u001b[0;32m    169\u001b[0m     \u001b[38;5;28;01mwhile\u001b[39;00m msglen \u001b[38;5;241m<\u001b[39m size:\n\u001b[0;32m    170\u001b[0m         \u001b[38;5;66;03m# 60k buffer limit avoids problems on certain OSes like VMS, Windows\u001b[39;00m\n\u001b[1;32m--> 171\u001b[0m         chunk \u001b[38;5;241m=\u001b[39m \u001b[43msock\u001b[49m\u001b[38;5;241;43m.\u001b[39;49m\u001b[43mrecv\u001b[49m\u001b[43m(\u001b[49m\u001b[38;5;28;43mmin\u001b[39;49m\u001b[43m(\u001b[49m\u001b[38;5;241;43m60000\u001b[39;49m\u001b[43m,\u001b[49m\u001b[43m \u001b[49m\u001b[43msize\u001b[49m\u001b[43m \u001b[49m\u001b[38;5;241;43m-\u001b[39;49m\u001b[43m \u001b[49m\u001b[43mmsglen\u001b[49m\u001b[43m)\u001b[49m\u001b[43m)\u001b[49m\n\u001b[0;32m    172\u001b[0m         \u001b[38;5;28;01mif\u001b[39;00m \u001b[38;5;129;01mnot\u001b[39;00m chunk:\n\u001b[0;32m    173\u001b[0m             \u001b[38;5;28;01mbreak\u001b[39;00m\n",
      "\u001b[1;31mKeyboardInterrupt\u001b[0m: "
     ]
    }
   ],
   "source": [
    "qEFspec = meas.PulseProbeSpectroscopyExperiment(\n",
    "    soccfg=soc,\n",
    "    path=expt_path,\n",
    "    prefix=f\"qubit_EF_spectroscopy_qubit{qubit_i}\",\n",
    "    config_file=config_path,\n",
    ")\n",
    "qEFspec.cfg = AttrDict(deepcopy(yaml_cfg))\n",
    "\n",
    "span = 100\n",
    "npts = 250\n",
    "\n",
    "qEFspec.cfg.expt = dict(\n",
    "    # start=np.reshape(yaml_cfg.device.qubit.f_ef, (4,4))[qubit_i,qubit_i]-0.5*span, # resonator frequency to be mixed up [MHz]\n",
    "    # start=3347-0.5*span, # resonator frequency to be mixed up [MHz]\n",
    "    start=4570-0.5*span, # resonator frequency to be mixed up [MHz]\n",
    "    # start=4200-0.5*span, # resonator frequency to be mixed up [MHz]\n",
    "    step=span/npts, # min step ~1 Hz\n",
    "    expts=npts, # Number of experiments stepping from start\n",
    "    # reps=reps, # Number of averages per point\n",
    "    # rounds=rounds, # Number of start to finish sweeps to average over\n",
    "    reps=100000, # Number of averages per point\n",
    "    rounds=1, # Number of start to finish sweeps to average over\n",
    "    length=100, # ef probe constant pulse length [us]\n",
    "    # gain=int(np.reshape(yaml_cfg.device.qubit.pulses.pi_ef.gain, (4,4))[qubit_i, qubit_i]/50), # ef pulse gain\n",
    "    gain=32000, # ef pulse gain\n",
    "    # gain=2000,\n",
    "    # pulse_type='gauss',\n",
    "    pulse_type='const',\n",
    "    qTest=qubit_i,\n",
    "    qZZ=None,\n",
    "    checkEF=True,\n",
    ")\n",
    "qEFspec.cfg.device.readout.relax_delay = 1 # Wait time between experiments [us]\n",
    "qEFspec.go(analyze=False, display=False, progress=True, save=False)"
   ]
  },
  {
   "cell_type": "code",
   "execution_count": 93,
   "metadata": {},
   "outputs": [
    {
     "name": "stdout",
     "output_type": "stream",
     "text": [
      "Found peak in amps at [MHz] 4562.353538316281, HWHM 38.19175261130648\n",
      "Found peak in I at [MHz] 4573.014889281479, HWHM 0.3008438455134805\n",
      "Found peak in Q at [MHz] 4573.005695603176, HWHM 0.15896427175868144\n",
      "best 1 0.11335507387118181\n",
      "*Set qubit 2 f_ef to 4573.014889281479*\n",
      "{'Single shot g-e fidelity (%)': 81.5993155394424, 'Qubit EF freq': 4573.014889281479, 'Pi EF pulse gain': 13391, 'T2R EF': 0.7296743005857054, 'T2R EF err': 0.0705799582532272, 'T2E EF': 18.08550220693083, 'T2E EF err': 0.8401806347858306}\n"
     ]
    }
   ],
   "source": [
    "# # TESTING\n",
    "# temp_data, attrs = prev_data(expt_path, '00000_voltage_sweep_qubit_spectroscopy_qubit3.h5')\n",
    "# data = qEFspec.analyze(data=temp_data, fit=True)\n",
    "\n",
    "best_signs = [1, 0, 0]\n",
    "best_fit_err_i = np.inf\n",
    "best_fit_err_q = np.inf\n",
    "for sign in [1, -1]:\n",
    "    try: \n",
    "        qEFspec.analyze(fit=True, signs=[1, sign, sign])\n",
    "        fit_err_i = qEFspec.data['fit_err_avgi'][2][2]\n",
    "        fit_err_q = qEFspec.data['fit_err_avgq'][2][2]\n",
    "        if fit_err_i < best_fit_err_i:\n",
    "            best_signs[1] = sign\n",
    "            best_fit_err_i = fit_err_i\n",
    "        if fit_err_q < best_fit_err_q:\n",
    "            best_signs[2] = sign\n",
    "            best_fit_err_q = fit_err_q\n",
    "    except: continue\n",
    "if best_fit_err_i == np.inf and best_fit_err_q == np.inf:\n",
    "    qEFspec.display(fit=False)\n",
    "    assert False, 'Fit failed, please manually fix!'\n",
    "\n",
    "qEFspec.analyze(fit=True, signs=best_signs)\n",
    "qEFspec.display(fit=True, signs=best_signs)\n",
    "\n",
    "qEFspec_fit, qEFspec_fit_err = meas.fitting.get_best_fit(qEFspec.data)\n",
    "yaml_cfg.device.qubit.f_ef = np.reshape(yaml_cfg.device.qubit.f_ef, (4,4))\n",
    "yaml_cfg.device.qubit.f_ef[qubit_i, qubit_i] = qEFspec_fit[2]\n",
    "print(f'*Set qubit {qubit_i} f_ef to {yaml_cfg.device.qubit.f_ef[qubit_i, qubit_i]}*')\n",
    "results_Qi.update({'Qubit EF freq':yaml_cfg.device.qubit.f_ef[qubit_i, qubit_i] + yaml_cfg.hw.soc.dacs.qubit.mixer_freq[qubit_i]})\n",
    "yaml_cfg.device.qubit.f_ef = yaml_cfg.device.qubit.f_ef.flatten().tolist()\n",
    "print(results_Qi)"
   ]
  },
  {
   "cell_type": "code",
   "execution_count": 48,
   "metadata": {},
   "outputs": [],
   "source": [
    "if save_data: saved_files.append(qEFspec.save_data())"
   ]
  },
  {
   "cell_type": "markdown",
   "metadata": {},
   "source": [
    "## Pulse Probe EF spectroscopy round 2"
   ]
  },
  {
   "cell_type": "code",
   "execution_count": 337,
   "metadata": {},
   "outputs": [
    {
     "name": "stdout",
     "output_type": "stream",
     "text": [
      "Running pulse probe EF on Q1 \n"
     ]
    },
    {
     "data": {
      "application/vnd.jupyter.widget-view+json": {
       "model_id": "158da18307e645b5bff259e6892fba11",
       "version_major": 2,
       "version_minor": 0
      },
      "text/plain": [
       "  0%|          | 0/25000 [00:00<?, ?it/s]"
      ]
     },
     "metadata": {},
     "output_type": "display_data"
    }
   ],
   "source": [
    "qEFspec2 = meas.PulseProbeSpectroscopyExperiment(\n",
    "    soccfg=soc,\n",
    "    path=expt_path,\n",
    "    prefix=f\"qubit_EF_spectroscopy_qubit{qubit_i}\",\n",
    "    config_file=config_path,\n",
    ")\n",
    "qEFspec2.cfg = AttrDict(deepcopy(yaml_cfg))\n",
    "\n",
    "span = 15\n",
    "npts = 250\n",
    "\n",
    "qEFspec2.cfg.expt = dict(\n",
    "    start=np.reshape(yaml_cfg.device.qubit.f_ef, (4,4))[qubit_i,qubit_i]-0.5*span, # resonator frequency to be mixed up [MHz]\n",
    "    step=span/npts, # min step ~1 Hz\n",
    "    expts=npts, # Number of experiments stepping from start\n",
    "    reps=reps, # Number of averages per point\n",
    "    rounds=1, # Number of start to finish sweeps to average over\n",
    "    length=1, # ef probe constant pulse length [us]\n",
    "    gain=int(np.reshape(yaml_cfg.device.qubit.pulses.pi_ef.gain, (4,4))[qubit_i, qubit_i]/80), # ef pulse gain\n",
    "    pulse_type='gauss',\n",
    "    qTest=qubit_i,\n",
    "    qZZ=None,\n",
    "    checkEF=True,\n",
    ")\n",
    "qEFspec2.go(analyze=False, display=False, progress=True, save=False)"
   ]
  },
  {
   "cell_type": "code",
   "execution_count": 338,
   "metadata": {},
   "outputs": [
    {
     "name": "stdout",
     "output_type": "stream",
     "text": [
      "Found peak in amps at [MHz] 3330.1953493264414, HWHM 0.6193900580000273\n",
      "Found peak in I at [MHz] 3320.5750262121187, HWHM 0.12788182547005278\n",
      "Found peak in Q at [MHz] 3330.19123274909, HWHM 0.603961222319665\n",
      "best 0 0.1347470307907499\n",
      "*Set qubit 1 f_ef to 3330.1953493264414*\n",
      "{'Res freq': 5795.78833333, 'Res freq (yaml)': 5795.78833333, 'Res kappa': 0.13168778043737117, 'Qubit freq': 3448.25918515342, 'Pi pulse gain': 10343, 'T1': 64.74852934126194, 'T1 err': 1.1434735418617292, 'T2R': 41.037650210323974, 'T2R err': 4.606998375628519, 'Qubit EF freq': 3330.1953493264414, 'T2R EF': 8.314732142857144, 'T2R EF err': 3.106532836320881, 'Pi EF pulse gain': 1246}\n"
     ]
    }
   ],
   "source": [
    "# # TESTING\n",
    "# temp_data, attrs = prev_data(expt_path, '00000_voltage_sweep_qubit_spectroscopy_qubit3.h5')\n",
    "# data = qEFspec2.analyze(data=temp_data, fit=True)\n",
    "\n",
    "best_signs = [1, 0, 0]\n",
    "best_fit_err_i = np.inf\n",
    "best_fit_err_q = np.inf\n",
    "for sign in [1, -1]:\n",
    "    qEFspec2.analyze(fit=True, signs=[1, sign, sign])\n",
    "    fit_err_i = qEFspec2.data['fit_err_avgi'][2][2]\n",
    "    fit_err_q = qEFspec2.data['fit_err_avgq'][2][2]\n",
    "    if fit_err_i < best_fit_err_i:\n",
    "        best_signs[1] = sign\n",
    "        best_fit_err_i = fit_err_i\n",
    "    if fit_err_q < best_fit_err_q:\n",
    "        best_signs[2] = sign\n",
    "        best_fit_err_q = fit_err_q\n",
    "    # except: continue\n",
    "if best_fit_err_i == np.inf and best_fit_err_q == np.inf:\n",
    "    qEFspec2.display(fit=False)\n",
    "    assert False, 'Fit failed, please manually fix!'\n",
    "\n",
    "qEFspec2.analyze(fit=True, signs=best_signs)\n",
    "qEFspec2.display(fit=True, signs=best_signs)\n",
    "\n",
    "qEFspec2_fit, qEFspec2_fit_err = meas.fitting.get_best_fit(qEFspec2.data)\n",
    "yaml_cfg.device.qubit.f_ef = np.reshape(yaml_cfg.device.qubit.f_ef, (4,4))\n",
    "yaml_cfg.device.qubit.f_ef[qubit_i, qubit_i] = qEFspec2_fit[2]\n",
    "qubit_hwhm = qEFspec2_fit[3]\n",
    "print(f'*Set qubit {qubit_i} f_ef to {yaml_cfg.device.qubit.f_ef[qubit_i, qubit_i]}*')\n",
    "results_Qi.update({'Qubit EF freq':yaml_cfg.device.qubit.f_ef[qubit_i, qubit_i] + yaml_cfg.hw.soc.dacs.qubit.mixer_freq[qubit_i]})\n",
    "yaml_cfg.device.qubit.f_ef = yaml_cfg.device.qubit.f_ef.flatten().tolist()\n",
    "print(results_Qi)"
   ]
  },
  {
   "cell_type": "code",
   "execution_count": 82,
   "metadata": {},
   "outputs": [],
   "source": [
    "if save_data: saved_files.append(qEFspec2.save_data())"
   ]
  },
  {
   "cell_type": "markdown",
   "metadata": {},
   "source": [
    "## Amplitude EF Rabi\n",
    "\n",
    "The EF pi pulse amplitude should be stored in <code>cfg.device.qubit.pulses.pi_ef.gain</code>."
   ]
  },
  {
   "cell_type": "code",
   "execution_count": 18,
   "metadata": {},
   "outputs": [
    {
     "name": "stdout",
     "output_type": "stream",
     "text": [
      "qubit 2 pi_lenEF 0.015\n"
     ]
    }
   ],
   "source": [
    "pi_lenEF = np.reshape(yaml_cfg.device.qubit.pulses.pi_ef.sigma, (4,4))[qubit_i, qubit_i]\n",
    "# pi_lenEF = 0.025\n",
    "print('qubit', qubit_i, 'pi_lenEF', pi_lenEF)"
   ]
  },
  {
   "cell_type": "code",
   "execution_count": 25,
   "metadata": {},
   "outputs": [
    {
     "name": "stdout",
     "output_type": "stream",
     "text": [
      "Running amp rabi EF on Q2 \n",
      "gain 1242\n",
      "gain 1616\n",
      "gain 6527\n",
      "gain 1575\n",
      "gain 6527\n"
     ]
    },
    {
     "data": {
      "application/vnd.jupyter.widget-view+json": {
       "model_id": "a570a1f35adb49c88d584294c66defbb",
       "version_major": 2,
       "version_minor": 0
      },
      "text/plain": [
       "  0%|          | 0/101000 [00:00<?, ?it/s]"
      ]
     },
     "metadata": {},
     "output_type": "display_data"
    },
    {
     "name": "stdout",
     "output_type": "stream",
     "text": [
      "(4, 101, 1000)\n"
     ]
    }
   ],
   "source": [
    "amprabiEF = meas.AmplitudeRabiExperiment(\n",
    "    soccfg=soc,\n",
    "    path=expt_path,\n",
    "    prefix=\"amp_rabi_EF\"+f\"_qubit{qubit_i}\",\n",
    "    config_file=config_path,\n",
    ")\n",
    "\n",
    "amprabiEF.cfg = AttrDict(deepcopy(yaml_cfg))\n",
    "\n",
    "span = min((32000, int(2*np.reshape(yaml_cfg.device.qubit.pulses.pi_ef.gain, (4,4))[qubit_i, qubit_i])))\n",
    "npts = 101\n",
    "\n",
    "amprabiEF.cfg.expt = dict(\n",
    "    start=1, # qubit gain [dac level]\n",
    "    step=int(span/npts), # [dac level]\n",
    "    expts=npts,\n",
    "    reps=reps*rounds,\n",
    "    rounds=1,\n",
    "    sigma_test=pi_lenEF, # gaussian sigma for pulse length - default from cfg [us]\n",
    "    pulse_type='gauss',\n",
    "    checkEF=True,\n",
    "    qTest=qubit_i,\n",
    "    qZZ=None,\n",
    "\n",
    "    readout_cool=False,\n",
    "    # n_init_readout=1,\n",
    "    # n_trig=2,\n",
    "    # init_read_wait_us=5,\n",
    "    # singleshot_reps=20000,\n",
    "    # use_gf_readout=True,\n",
    "\n",
    "    full_mux_expt=full_mux_expt,\n",
    "    resonator_reset=resonator_reset,\n",
    "    \n",
    ")\n",
    "\n",
    "# print(amprabiEF.cfg)\n",
    "amprabiEF.go(analyze=False, display=False, progress=True, save=False)"
   ]
  },
  {
   "cell_type": "code",
   "execution_count": 26,
   "metadata": {},
   "outputs": [
    {
     "name": "stdout",
     "output_type": "stream",
     "text": [
      "best 1 0.06745420193391582\n",
      "Pi gain from amps data [dac units]: 10515\n",
      "\tPi/2 gain from amps data [dac units]: 5257\n",
      "Pi gain from avgi data [dac units]: 10740\n",
      "\tPi/2 gain from avgi data [dac units]: 5370\n",
      "Pi gain from avgq data [dac units]: 11328\n",
      "\tPi/2 gain from avgq data [dac units]: 5664\n"
     ]
    }
   ],
   "source": [
    "# TESTING\n",
    "# amprabiEF = meas.AmplitudeRabiExperiment(config_file=config_path,)\n",
    "# temp_data, attrs = prev_data(expt_path, '00000_amp_rabi_EF_qubit1.h5')\n",
    "# amprabiEF.data = temp_data\n",
    "\n",
    "# amprabiEF.analyze(fit=False)\n",
    "# amprabiEF.display(fit=False)\n",
    "\n",
    "amprabiEF.analyze(fit=True, post_select=False)\n",
    "\n",
    "amprabiEF_fit, amprabiEF_fit_err = meas.fitting.get_best_fit(amprabiEF.data)\n",
    "\n",
    "p = amprabiEF_fit\n",
    "\n",
    "if p[2] > 180: p[2] = p[2] - 360\n",
    "elif p[2] < -180: p[2] = p[2] + 360\n",
    "if p[2] < 0: pi_gain = (1/2 - p[2]/180)/2/p[1]\n",
    "else: pi_gain = (3/2 - p[2]/180)/2/p[1]\n",
    "\n",
    "if pi_gain > 32000:\n",
    "    amprabiEF.display(fit=False)\n",
    "    print('WARNING: Fit pi pulse gain is long, please double check!')\n",
    "    pi_gain = 30000\n",
    "else: amprabiEF.display(fit=True)\n"
   ]
  },
  {
   "cell_type": "code",
   "execution_count": 36,
   "metadata": {},
   "outputs": [
    {
     "name": "stdout",
     "output_type": "stream",
     "text": [
      "*Set EF pi pulse sigma for qubit 3 to 0.03*\n",
      "*Set EF pi pulse gain for qubit 3 to 3170*\n",
      "*New pi_ef.gain\n",
      " [[1245    0    0    0]\n",
      " [   0 1945    0    0]\n",
      " [   0    0 6000    0]\n",
      " [   0    0    0 3170]]\n",
      "*New pi_ef.gain flattened\n",
      "[1245, 0, 0, 0, 0, 1945, 0, 0, 0, 0, 6000, 0, 0, 0, 0, 3170]\n",
      "{'Single shot g-e fidelity (%)': 81.5993155394424, 'Qubit EF freq': 4205.759790678515, 'Pi EF pulse gain': 3170}\n"
     ]
    }
   ],
   "source": [
    "print(f'*Set EF pi pulse sigma for qubit {qubit_i} to {np.reshape(yaml_cfg.device.qubit.pulses.pi_ef.sigma, (4,4))[qubit_i, qubit_i]}*')\n",
    "yaml_cfg.device.qubit.pulses.pi_ef.gain = np.reshape(yaml_cfg.device.qubit.pulses.pi_ef.gain, (4,4))\n",
    "yaml_cfg.device.qubit.pulses.pi_ef.gain[qubit_i, qubit_i] = int(pi_gain)\n",
    "print(f'*Set EF pi pulse gain for qubit {qubit_i} to {yaml_cfg.device.qubit.pulses.pi_ef.gain[qubit_i, qubit_i]}*')\n",
    "results_Qi.update({'Pi EF pulse gain':yaml_cfg.device.qubit.pulses.pi_ef.gain[qubit_i, qubit_i]})\n",
    "print(f'*New pi_ef.gain\\n', yaml_cfg.device.qubit.pulses.pi_ef.gain)\n",
    "yaml_cfg.device.qubit.pulses.pi_ef.gain = yaml_cfg.device.qubit.pulses.pi_ef.gain.flatten().astype(int).tolist()\n",
    "print(f'*New pi_ef.gain flattened\\n{yaml_cfg.device.qubit.pulses.pi_ef.gain}')\n",
    "print(results_Qi)"
   ]
  },
  {
   "cell_type": "code",
   "execution_count": 87,
   "metadata": {},
   "outputs": [],
   "source": [
    "if save_data: saved_files.append(amprabiEF.save_data())"
   ]
  },
  {
   "cell_type": "markdown",
   "metadata": {},
   "source": [
    "## Length EF Rabi"
   ]
  },
  {
   "cell_type": "code",
   "execution_count": 20,
   "metadata": {},
   "outputs": [
    {
     "name": "stdout",
     "output_type": "stream",
     "text": [
      "Running length rabi EF on Q2 \n"
     ]
    },
    {
     "data": {
      "application/vnd.jupyter.widget-view+json": {
       "model_id": "83de630949224b38992e0165633b0e2c",
       "version_major": 2,
       "version_minor": 0
      },
      "text/plain": [
       "  0%|          | 0/121 [00:00<?, ?it/s]"
      ]
     },
     "metadata": {},
     "output_type": "display_data"
    },
    {
     "name": "stdout",
     "output_type": "stream",
     "text": [
      "gain 1242\n",
      "gain 1616\n",
      "gain 6527\n",
      "gain 1575\n",
      "gain 1242\n",
      "gain 1616\n",
      "gain 6527\n",
      "gain 1575\n",
      "gain 6527\n",
      "gain 1242\n",
      "gain 1616\n",
      "gain 6527\n",
      "gain 1575\n",
      "gain 6527\n",
      "gain 1242\n",
      "gain 1616\n",
      "gain 6527\n",
      "gain 1575\n",
      "gain 6527\n"
     ]
    },
    {
     "ename": "KeyboardInterrupt",
     "evalue": "",
     "output_type": "error",
     "traceback": [
      "\u001b[1;31m---------------------------------------------------------------------------\u001b[0m",
      "\u001b[1;31mKeyboardInterrupt\u001b[0m                         Traceback (most recent call last)",
      "Cell \u001b[1;32mIn[20], line 23\u001b[0m\n\u001b[0;32m     21\u001b[0m \u001b[38;5;28;01mimport\u001b[39;00m \u001b[38;5;21;01mPyro4\u001b[39;00m\u001b[38;5;21;01m.\u001b[39;00m\u001b[38;5;21;01mutil\u001b[39;00m\n\u001b[0;32m     22\u001b[0m \u001b[38;5;28;01mtry\u001b[39;00m:\n\u001b[1;32m---> 23\u001b[0m     \u001b[43mlengthrabiEF\u001b[49m\u001b[38;5;241;43m.\u001b[39;49m\u001b[43mgo\u001b[49m\u001b[43m(\u001b[49m\u001b[43manalyze\u001b[49m\u001b[38;5;241;43m=\u001b[39;49m\u001b[38;5;28;43;01mFalse\u001b[39;49;00m\u001b[43m,\u001b[49m\u001b[43m \u001b[49m\u001b[43mdisplay\u001b[49m\u001b[38;5;241;43m=\u001b[39;49m\u001b[38;5;28;43;01mFalse\u001b[39;49;00m\u001b[43m,\u001b[49m\u001b[43m \u001b[49m\u001b[43mprogress\u001b[49m\u001b[38;5;241;43m=\u001b[39;49m\u001b[38;5;28;43;01mTrue\u001b[39;49;00m\u001b[43m,\u001b[49m\u001b[43m \u001b[49m\u001b[43msave\u001b[49m\u001b[38;5;241;43m=\u001b[39;49m\u001b[38;5;28;43;01mFalse\u001b[39;49;00m\u001b[43m)\u001b[49m\n\u001b[0;32m     24\u001b[0m \u001b[38;5;28;01mexcept\u001b[39;00m \u001b[38;5;167;01mException\u001b[39;00m:\n\u001b[0;32m     25\u001b[0m     \u001b[38;5;28mprint\u001b[39m(\u001b[38;5;124m\"\u001b[39m\u001b[38;5;124mPyro traceback:\u001b[39m\u001b[38;5;124m\"\u001b[39m)\n",
      "File \u001b[1;32m~\\slab\\experiment.py:115\u001b[0m, in \u001b[0;36mExperiment.go\u001b[1;34m(self, save, analyze, display, progress)\u001b[0m\n\u001b[0;32m    112\u001b[0m \u001b[38;5;28;01mdef\u001b[39;00m \u001b[38;5;21mgo\u001b[39m(\u001b[38;5;28mself\u001b[39m, save\u001b[38;5;241m=\u001b[39m\u001b[38;5;28;01mFalse\u001b[39;00m, analyze\u001b[38;5;241m=\u001b[39m\u001b[38;5;28;01mFalse\u001b[39;00m, display\u001b[38;5;241m=\u001b[39m\u001b[38;5;28;01mFalse\u001b[39;00m, progress\u001b[38;5;241m=\u001b[39m\u001b[38;5;28;01mFalse\u001b[39;00m):\n\u001b[0;32m    113\u001b[0m     \u001b[38;5;66;03m# get data\u001b[39;00m\n\u001b[1;32m--> 115\u001b[0m     data\u001b[38;5;241m=\u001b[39m\u001b[38;5;28;43mself\u001b[39;49m\u001b[38;5;241;43m.\u001b[39;49m\u001b[43macquire\u001b[49m\u001b[43m(\u001b[49m\u001b[43mprogress\u001b[49m\u001b[43m)\u001b[49m\n\u001b[0;32m    116\u001b[0m     \u001b[38;5;28;01mif\u001b[39;00m analyze:\n\u001b[0;32m    117\u001b[0m         data\u001b[38;5;241m=\u001b[39m\u001b[38;5;28mself\u001b[39m\u001b[38;5;241m.\u001b[39manalyze(data)\n",
      "File \u001b[1;32ms:\\Seb\\experiements\\qram_tprocv1_expts\\experiments\\single_qubit\\length_rabi.py:359\u001b[0m, in \u001b[0;36mLengthRabiExperiment.acquire\u001b[1;34m(self, progress)\u001b[0m\n\u001b[0;32m    353\u001b[0m \u001b[38;5;28mself\u001b[39m\u001b[38;5;241m.\u001b[39mprog \u001b[38;5;241m=\u001b[39m lengthrabi\n\u001b[0;32m    355\u001b[0m \u001b[38;5;66;03m# print('\\n\\n', length)\u001b[39;00m\n\u001b[0;32m    356\u001b[0m \u001b[38;5;66;03m# from qick.helpers import progs2json\u001b[39;00m\n\u001b[0;32m    357\u001b[0m \u001b[38;5;66;03m# print(progs2json([self.prog.dump_prog()]))\u001b[39;00m\n\u001b[1;32m--> 359\u001b[0m avgi, avgq \u001b[38;5;241m=\u001b[39m \u001b[43mlengthrabi\u001b[49m\u001b[38;5;241;43m.\u001b[39;49m\u001b[43macquire\u001b[49m\u001b[43m(\u001b[49m\u001b[38;5;28;43mself\u001b[39;49m\u001b[38;5;241;43m.\u001b[39;49m\u001b[43mim\u001b[49m\u001b[43m[\u001b[49m\u001b[38;5;28;43mself\u001b[39;49m\u001b[38;5;241;43m.\u001b[39;49m\u001b[43mcfg\u001b[49m\u001b[38;5;241;43m.\u001b[39;49m\u001b[43maliases\u001b[49m\u001b[38;5;241;43m.\u001b[39;49m\u001b[43msoc\u001b[49m\u001b[43m]\u001b[49m\u001b[43m)\u001b[49m\n\u001b[0;32m    360\u001b[0m \u001b[38;5;28mself\u001b[39m\u001b[38;5;241m.\u001b[39mcfg\u001b[38;5;241m.\u001b[39mexpt\u001b[38;5;241m.\u001b[39mgain \u001b[38;5;241m=\u001b[39m lengthrabi\u001b[38;5;241m.\u001b[39mcfg\u001b[38;5;241m.\u001b[39mexpt\u001b[38;5;241m.\u001b[39mgain\n\u001b[0;32m    361\u001b[0m avgi \u001b[38;5;241m=\u001b[39m avgi[qTest][\u001b[38;5;241m0\u001b[39m]\n",
      "File \u001b[1;32ms:\\Seb\\experiements\\qram_tprocv1_expts\\experiments\\clifford_averager_program.py:1811\u001b[0m, in \u001b[0;36mCliffordAveragerProgram.acquire\u001b[1;34m(self, soc, load_pulses, progress, save_experiments, **kwargs)\u001b[0m\n\u001b[0;32m   1809\u001b[0m     \u001b[38;5;28mself\u001b[39m\u001b[38;5;241m.\u001b[39mcfg\u001b[38;5;241m.\u001b[39mexpt\u001b[38;5;241m.\u001b[39mn_trig \u001b[38;5;241m=\u001b[39m \u001b[38;5;241m1\u001b[39m\n\u001b[0;32m   1810\u001b[0m     \u001b[38;5;28mself\u001b[39m\u001b[38;5;241m.\u001b[39mcfg\u001b[38;5;241m.\u001b[39mexpt\u001b[38;5;241m.\u001b[39mn_init_readout \u001b[38;5;241m=\u001b[39m \u001b[38;5;241m0\u001b[39m\n\u001b[1;32m-> 1811\u001b[0m \u001b[38;5;28;01mreturn\u001b[39;00m \u001b[38;5;28;43msuper\u001b[39;49m\u001b[43m(\u001b[49m\u001b[43m)\u001b[49m\u001b[38;5;241;43m.\u001b[39;49m\u001b[43macquire\u001b[49m\u001b[43m(\u001b[49m\n\u001b[0;32m   1812\u001b[0m \u001b[43m    \u001b[49m\u001b[43msoc\u001b[49m\u001b[43m,\u001b[49m\n\u001b[0;32m   1813\u001b[0m \u001b[43m    \u001b[49m\u001b[43mload_pulses\u001b[49m\u001b[38;5;241;43m=\u001b[39;49m\u001b[43mload_pulses\u001b[49m\u001b[43m,\u001b[49m\n\u001b[0;32m   1814\u001b[0m \u001b[43m    \u001b[49m\u001b[43mprogress\u001b[49m\u001b[38;5;241;43m=\u001b[39;49m\u001b[43mprogress\u001b[49m\u001b[43m,\u001b[49m\n\u001b[0;32m   1815\u001b[0m \u001b[43m    \u001b[49m\u001b[43mreadouts_per_experiment\u001b[49m\u001b[38;5;241;43m=\u001b[39;49m\u001b[38;5;241;43m1\u001b[39;49m\u001b[43m \u001b[49m\u001b[38;5;241;43m+\u001b[39;49m\u001b[43m \u001b[49m\u001b[38;5;28;43mself\u001b[39;49m\u001b[38;5;241;43m.\u001b[39;49m\u001b[43mcfg\u001b[49m\u001b[38;5;241;43m.\u001b[39;49m\u001b[43mexpt\u001b[49m\u001b[38;5;241;43m.\u001b[39;49m\u001b[43mn_trig\u001b[49m\u001b[43m \u001b[49m\u001b[38;5;241;43m*\u001b[39;49m\u001b[43m \u001b[49m\u001b[38;5;28;43mself\u001b[39;49m\u001b[38;5;241;43m.\u001b[39;49m\u001b[43mcfg\u001b[49m\u001b[38;5;241;43m.\u001b[39;49m\u001b[43mexpt\u001b[49m\u001b[38;5;241;43m.\u001b[39;49m\u001b[43mn_init_readout\u001b[49m\u001b[43m,\u001b[49m\n\u001b[0;32m   1816\u001b[0m \u001b[43m    \u001b[49m\u001b[43msave_experiments\u001b[49m\u001b[38;5;241;43m=\u001b[39;49m\u001b[43msave_experiments\u001b[49m\u001b[43m,\u001b[49m\n\u001b[0;32m   1817\u001b[0m \u001b[43m\u001b[49m\u001b[43m)\u001b[49m\n",
      "File \u001b[1;32mc:\\users\\slab\\qick\\qick_lib\\qick\\averager_program.py:106\u001b[0m, in \u001b[0;36mAveragerProgram.acquire\u001b[1;34m(self, soc, threshold, angle, readouts_per_experiment, save_experiments, load_pulses, start_src, progress, remove_offset)\u001b[0m\n\u001b[0;32m    103\u001b[0m \u001b[38;5;28;01mif\u001b[39;00m readouts_per_experiment \u001b[38;5;129;01mis\u001b[39;00m \u001b[38;5;129;01mnot\u001b[39;00m \u001b[38;5;28;01mNone\u001b[39;00m:\n\u001b[0;32m    104\u001b[0m     \u001b[38;5;28mself\u001b[39m\u001b[38;5;241m.\u001b[39mset_reads_per_shot(readouts_per_experiment)\n\u001b[1;32m--> 106\u001b[0m avg_d \u001b[38;5;241m=\u001b[39m \u001b[38;5;28;43msuper\u001b[39;49m\u001b[43m(\u001b[49m\u001b[43m)\u001b[49m\u001b[38;5;241;43m.\u001b[39;49m\u001b[43macquire\u001b[49m\u001b[43m(\u001b[49m\u001b[43msoc\u001b[49m\u001b[43m,\u001b[49m\u001b[43m \u001b[49m\u001b[43msoft_avgs\u001b[49m\u001b[38;5;241;43m=\u001b[39;49m\u001b[38;5;28;43mself\u001b[39;49m\u001b[38;5;241;43m.\u001b[39;49m\u001b[43msoft_avgs\u001b[49m\u001b[43m,\u001b[49m\u001b[43m \u001b[49m\u001b[43mload_pulses\u001b[49m\u001b[38;5;241;43m=\u001b[39;49m\u001b[43mload_pulses\u001b[49m\u001b[43m,\u001b[49m\u001b[43m \u001b[49m\u001b[43mstart_src\u001b[49m\u001b[38;5;241;43m=\u001b[39;49m\u001b[43mstart_src\u001b[49m\u001b[43m,\u001b[49m\u001b[43m \u001b[49m\u001b[43mthreshold\u001b[49m\u001b[38;5;241;43m=\u001b[39;49m\u001b[43mthreshold\u001b[49m\u001b[43m,\u001b[49m\u001b[43m \u001b[49m\u001b[43mangle\u001b[49m\u001b[38;5;241;43m=\u001b[39;49m\u001b[43mangle\u001b[49m\u001b[43m,\u001b[49m\u001b[43m \u001b[49m\u001b[43mprogress\u001b[49m\u001b[38;5;241;43m=\u001b[39;49m\u001b[43mprogress\u001b[49m\u001b[43m,\u001b[49m\u001b[43m \u001b[49m\u001b[43mremove_offset\u001b[49m\u001b[38;5;241;43m=\u001b[39;49m\u001b[43mremove_offset\u001b[49m\u001b[43m)\u001b[49m\n\u001b[0;32m    108\u001b[0m \u001b[38;5;66;03m# reformat the data into separate I and Q arrays\u001b[39;00m\n\u001b[0;32m    109\u001b[0m \u001b[38;5;66;03m# save results to class in case you want to look at it later or for analysis\u001b[39;00m\n\u001b[0;32m    110\u001b[0m raw \u001b[38;5;241m=\u001b[39m [d\u001b[38;5;241m.\u001b[39mreshape((\u001b[38;5;241m-\u001b[39m\u001b[38;5;241m1\u001b[39m,\u001b[38;5;241m2\u001b[39m)) \u001b[38;5;28;01mfor\u001b[39;00m d \u001b[38;5;129;01min\u001b[39;00m \u001b[38;5;28mself\u001b[39m\u001b[38;5;241m.\u001b[39mget_raw()]\n",
      "File \u001b[1;32mc:\\users\\slab\\qick\\qick_lib\\qick\\qick_asm.py:1701\u001b[0m, in \u001b[0;36mAcquireMixin.acquire\u001b[1;34m(self, soc, soft_avgs, load_pulses, start_src, threshold, angle, progress, remove_offset)\u001b[0m\n\u001b[0;32m   1698\u001b[0m soc\u001b[38;5;241m.\u001b[39mstart_readout(total_count, counter_addr\u001b[38;5;241m=\u001b[39m\u001b[38;5;28mself\u001b[39m\u001b[38;5;241m.\u001b[39mcounter_addr,\n\u001b[0;32m   1699\u001b[0m                        ch_list\u001b[38;5;241m=\u001b[39m\u001b[38;5;28mlist\u001b[39m(\u001b[38;5;28mself\u001b[39m\u001b[38;5;241m.\u001b[39mro_chs), reads_per_shot\u001b[38;5;241m=\u001b[39m\u001b[38;5;28mself\u001b[39m\u001b[38;5;241m.\u001b[39mreads_per_shot)\n\u001b[0;32m   1700\u001b[0m \u001b[38;5;28;01mwhile\u001b[39;00m count\u001b[38;5;241m<\u001b[39mtotal_count:\n\u001b[1;32m-> 1701\u001b[0m     new_data \u001b[38;5;241m=\u001b[39m obtain(\u001b[43msoc\u001b[49m\u001b[38;5;241;43m.\u001b[39;49m\u001b[43mpoll_data\u001b[49m\u001b[43m(\u001b[49m\u001b[43m)\u001b[49m)\n\u001b[0;32m   1702\u001b[0m     \u001b[38;5;28;01mfor\u001b[39;00m new_points, (d, s) \u001b[38;5;129;01min\u001b[39;00m new_data:\n\u001b[0;32m   1703\u001b[0m         \u001b[38;5;28;01mfor\u001b[39;00m ii, nreads \u001b[38;5;129;01min\u001b[39;00m \u001b[38;5;28menumerate\u001b[39m(\u001b[38;5;28mself\u001b[39m\u001b[38;5;241m.\u001b[39mreads_per_shot):\n\u001b[0;32m   1704\u001b[0m             \u001b[38;5;66;03m#print(count, new_points, nreads, d[ii].shape, total_count)\u001b[39;00m\n",
      "File \u001b[1;32mc:\\Users\\slab\\.conda\\envs\\slab\\lib\\site-packages\\Pyro4\\core.py:185\u001b[0m, in \u001b[0;36m_RemoteMethod.__call__\u001b[1;34m(self, *args, **kwargs)\u001b[0m\n\u001b[0;32m    183\u001b[0m \u001b[38;5;28;01mfor\u001b[39;00m attempt \u001b[38;5;129;01min\u001b[39;00m \u001b[38;5;28mrange\u001b[39m(\u001b[38;5;28mself\u001b[39m\u001b[38;5;241m.\u001b[39m__max_retries \u001b[38;5;241m+\u001b[39m \u001b[38;5;241m1\u001b[39m):\n\u001b[0;32m    184\u001b[0m     \u001b[38;5;28;01mtry\u001b[39;00m:\n\u001b[1;32m--> 185\u001b[0m         \u001b[38;5;28;01mreturn\u001b[39;00m \u001b[38;5;28;43mself\u001b[39;49m\u001b[38;5;241;43m.\u001b[39;49m\u001b[43m__send\u001b[49m\u001b[43m(\u001b[49m\u001b[38;5;28;43mself\u001b[39;49m\u001b[38;5;241;43m.\u001b[39;49m\u001b[43m__name\u001b[49m\u001b[43m,\u001b[49m\u001b[43m \u001b[49m\u001b[43margs\u001b[49m\u001b[43m,\u001b[49m\u001b[43m \u001b[49m\u001b[43mkwargs\u001b[49m\u001b[43m)\u001b[49m\n\u001b[0;32m    186\u001b[0m     \u001b[38;5;28;01mexcept\u001b[39;00m (errors\u001b[38;5;241m.\u001b[39mConnectionClosedError, errors\u001b[38;5;241m.\u001b[39mTimeoutError):\n\u001b[0;32m    187\u001b[0m         \u001b[38;5;66;03m# only retry for recoverable network errors\u001b[39;00m\n\u001b[0;32m    188\u001b[0m         \u001b[38;5;28;01mif\u001b[39;00m attempt \u001b[38;5;241m>\u001b[39m\u001b[38;5;241m=\u001b[39m \u001b[38;5;28mself\u001b[39m\u001b[38;5;241m.\u001b[39m__max_retries:\n\u001b[0;32m    189\u001b[0m             \u001b[38;5;66;03m# last attempt, raise the exception\u001b[39;00m\n",
      "File \u001b[1;32mc:\\Users\\slab\\.conda\\envs\\slab\\lib\\site-packages\\Pyro4\\core.py:453\u001b[0m, in \u001b[0;36mProxy._pyroInvoke\u001b[1;34m(self, methodname, vargs, kwargs, flags, objectId)\u001b[0m\n\u001b[0;32m    451\u001b[0m     \u001b[38;5;28;01mreturn\u001b[39;00m \u001b[38;5;28;01mNone\u001b[39;00m  \u001b[38;5;66;03m# oneway call, no response data\u001b[39;00m\n\u001b[0;32m    452\u001b[0m \u001b[38;5;28;01melse\u001b[39;00m:\n\u001b[1;32m--> 453\u001b[0m     msg \u001b[38;5;241m=\u001b[39m \u001b[43mmessage\u001b[49m\u001b[38;5;241;43m.\u001b[39;49m\u001b[43mMessage\u001b[49m\u001b[38;5;241;43m.\u001b[39;49m\u001b[43mrecv\u001b[49m\u001b[43m(\u001b[49m\u001b[38;5;28;43mself\u001b[39;49m\u001b[38;5;241;43m.\u001b[39;49m\u001b[43m_pyroConnection\u001b[49m\u001b[43m,\u001b[49m\u001b[43m \u001b[49m\u001b[43m[\u001b[49m\u001b[43mmessage\u001b[49m\u001b[38;5;241;43m.\u001b[39;49m\u001b[43mMSG_RESULT\u001b[49m\u001b[43m]\u001b[49m\u001b[43m,\u001b[49m\u001b[43m \u001b[49m\u001b[43mhmac_key\u001b[49m\u001b[38;5;241;43m=\u001b[39;49m\u001b[38;5;28;43mself\u001b[39;49m\u001b[38;5;241;43m.\u001b[39;49m\u001b[43m_pyroHmacKey\u001b[49m\u001b[43m)\u001b[49m\n\u001b[0;32m    454\u001b[0m     \u001b[38;5;28;01mif\u001b[39;00m config\u001b[38;5;241m.\u001b[39mLOGWIRE:\n\u001b[0;32m    455\u001b[0m         _log_wiredata(log, \u001b[38;5;124m\"\u001b[39m\u001b[38;5;124mproxy wiredata received\u001b[39m\u001b[38;5;124m\"\u001b[39m, msg)\n",
      "File \u001b[1;32mc:\\Users\\slab\\.conda\\envs\\slab\\lib\\site-packages\\Pyro4\\message.py:168\u001b[0m, in \u001b[0;36mMessage.recv\u001b[1;34m(cls, connection, requiredMsgTypes, hmac_key)\u001b[0m\n\u001b[0;32m    160\u001b[0m \u001b[38;5;129m@classmethod\u001b[39m\n\u001b[0;32m    161\u001b[0m \u001b[38;5;28;01mdef\u001b[39;00m \u001b[38;5;21mrecv\u001b[39m(\u001b[38;5;28mcls\u001b[39m, connection, requiredMsgTypes\u001b[38;5;241m=\u001b[39m\u001b[38;5;28;01mNone\u001b[39;00m, hmac_key\u001b[38;5;241m=\u001b[39m\u001b[38;5;28;01mNone\u001b[39;00m):\n\u001b[0;32m    162\u001b[0m \u001b[38;5;250m    \u001b[39m\u001b[38;5;124;03m\"\"\"\u001b[39;00m\n\u001b[0;32m    163\u001b[0m \u001b[38;5;124;03m    Receives a pyro message from a given connection.\u001b[39;00m\n\u001b[0;32m    164\u001b[0m \u001b[38;5;124;03m    Accepts the given message types (None=any, or pass a sequence).\u001b[39;00m\n\u001b[0;32m    165\u001b[0m \u001b[38;5;124;03m    Also reads annotation chunks and the actual payload data.\u001b[39;00m\n\u001b[0;32m    166\u001b[0m \u001b[38;5;124;03m    Validates a HMAC chunk if present.\u001b[39;00m\n\u001b[0;32m    167\u001b[0m \u001b[38;5;124;03m    \"\"\"\u001b[39;00m\n\u001b[1;32m--> 168\u001b[0m     msg \u001b[38;5;241m=\u001b[39m \u001b[38;5;28mcls\u001b[39m\u001b[38;5;241m.\u001b[39mfrom_header(\u001b[43mconnection\u001b[49m\u001b[38;5;241;43m.\u001b[39;49m\u001b[43mrecv\u001b[49m\u001b[43m(\u001b[49m\u001b[38;5;28;43mcls\u001b[39;49m\u001b[38;5;241;43m.\u001b[39;49m\u001b[43mheader_size\u001b[49m\u001b[43m)\u001b[49m)\n\u001b[0;32m    169\u001b[0m     msg\u001b[38;5;241m.\u001b[39mhmac_key \u001b[38;5;241m=\u001b[39m hmac_key\n\u001b[0;32m    170\u001b[0m     \u001b[38;5;28;01mif\u001b[39;00m \u001b[38;5;241m0\u001b[39m \u001b[38;5;241m<\u001b[39m config\u001b[38;5;241m.\u001b[39mMAX_MESSAGE_SIZE \u001b[38;5;241m<\u001b[39m (msg\u001b[38;5;241m.\u001b[39mdata_size \u001b[38;5;241m+\u001b[39m msg\u001b[38;5;241m.\u001b[39mannotations_size):\n",
      "File \u001b[1;32mc:\\Users\\slab\\.conda\\envs\\slab\\lib\\site-packages\\Pyro4\\socketutil.py:463\u001b[0m, in \u001b[0;36mSocketConnection.recv\u001b[1;34m(self, size)\u001b[0m\n\u001b[0;32m    462\u001b[0m \u001b[38;5;28;01mdef\u001b[39;00m \u001b[38;5;21mrecv\u001b[39m(\u001b[38;5;28mself\u001b[39m, size):\n\u001b[1;32m--> 463\u001b[0m     \u001b[38;5;28;01mreturn\u001b[39;00m \u001b[43mreceiveData\u001b[49m\u001b[43m(\u001b[49m\u001b[38;5;28;43mself\u001b[39;49m\u001b[38;5;241;43m.\u001b[39;49m\u001b[43msock\u001b[49m\u001b[43m,\u001b[49m\u001b[43m \u001b[49m\u001b[43msize\u001b[49m\u001b[43m)\u001b[49m\n",
      "File \u001b[1;32mc:\\Users\\slab\\.conda\\envs\\slab\\lib\\site-packages\\Pyro4\\socketutil.py:171\u001b[0m, in \u001b[0;36mreceiveData\u001b[1;34m(sock, size)\u001b[0m\n\u001b[0;32m    168\u001b[0m \u001b[38;5;28;01mtry\u001b[39;00m:\n\u001b[0;32m    169\u001b[0m     \u001b[38;5;28;01mwhile\u001b[39;00m msglen \u001b[38;5;241m<\u001b[39m size:\n\u001b[0;32m    170\u001b[0m         \u001b[38;5;66;03m# 60k buffer limit avoids problems on certain OSes like VMS, Windows\u001b[39;00m\n\u001b[1;32m--> 171\u001b[0m         chunk \u001b[38;5;241m=\u001b[39m \u001b[43msock\u001b[49m\u001b[38;5;241;43m.\u001b[39;49m\u001b[43mrecv\u001b[49m\u001b[43m(\u001b[49m\u001b[38;5;28;43mmin\u001b[39;49m\u001b[43m(\u001b[49m\u001b[38;5;241;43m60000\u001b[39;49m\u001b[43m,\u001b[49m\u001b[43m \u001b[49m\u001b[43msize\u001b[49m\u001b[43m \u001b[49m\u001b[38;5;241;43m-\u001b[39;49m\u001b[43m \u001b[49m\u001b[43mmsglen\u001b[49m\u001b[43m)\u001b[49m\u001b[43m)\u001b[49m\n\u001b[0;32m    172\u001b[0m         \u001b[38;5;28;01mif\u001b[39;00m \u001b[38;5;129;01mnot\u001b[39;00m chunk:\n\u001b[0;32m    173\u001b[0m             \u001b[38;5;28;01mbreak\u001b[39;00m\n",
      "\u001b[1;31mKeyboardInterrupt\u001b[0m: "
     ]
    }
   ],
   "source": [
    "lengthrabiEF = meas.LengthRabiExperiment(\n",
    "    soccfg=soc,\n",
    "    path=expt_path,\n",
    "    prefix=f\"length_rabiEF_qubit{qubit_i}\",\n",
    "    config_file=config_path,\n",
    ")\n",
    "lengthrabiEF.cfg = AttrDict(deepcopy(yaml_cfg))\n",
    "\n",
    "lengthrabiEF.cfg.expt = dict(\n",
    "    start=soc.cycles2us(0), # pulse length (sigma) [us]\n",
    "    step=soc.cycles2us(1), # [us]\n",
    "    expts=121,\n",
    "    reps=reps*rounds,\n",
    "    pulse_type='gauss',\n",
    "    checkEF=True, \n",
    "    qTest=qubit_i,\n",
    "    qZZ=None,\n",
    ")\n",
    "# lengthrabiEF.cfg.device.readout.relax_delay = 50 # Wait time between experiments [us]\n",
    "\n",
    "import Pyro4.util\n",
    "try:\n",
    "    lengthrabiEF.go(analyze=False, display=False, progress=True, save=False)\n",
    "except Exception:\n",
    "    print(\"Pyro traceback:\")\n",
    "    print(\"\".join(Pyro4.util.getPyroTraceback()))"
   ]
  },
  {
   "cell_type": "code",
   "execution_count": 74,
   "metadata": {},
   "outputs": [
    {
     "name": "stdout",
     "output_type": "stream",
     "text": [
      "best 1 0.06497149654301536\n",
      "\n"
     ]
    }
   ],
   "source": [
    "# # TESTING\n",
    "# # lengthrabiEF = meas.AmplitudeRabiExperiment(config_file=config_path,)\n",
    "# temp_data, attrs = prev_data(expt_path, '00000_amp_rabi_qubit0.h5')\n",
    "# lengthrabiEF.data = temp_data\n",
    "\n",
    "lengthrabiEF.analyze(fit=True, fit_func='sin')\n",
    "\n",
    "lengthrabiEF_fit, lengthrabiEF_fit_err = meas.fitting.get_best_fit(lengthrabiEF.data) #, fitfunc=fitter.decaysin)\n",
    "\n",
    "lengthrabiEF.display(fit=False, fit_func='sin')\n",
    "# p = lengthrabiEF_fit\n",
    "# if p[2] > 180: p[2] = p[2] - 360\n",
    "# elif p[2] < -180: p[2] = p[2] + 360\n",
    "# if p[2] < 0: pi_lenEF = (1/2 - p[2]/180)/2/p[1]\n",
    "# else: pi_lenEF = (3/2 - p[2]/180)/2/p[1]\n",
    "# pi_lenEF = np.max((0.9*pi_lenEF, 0.015)) # since we run the length rabi at a < max gain\n",
    "\n",
    "# lengthrabiEF_decay = p[3]\n",
    "\n",
    "# print(f'Will use sigma {pi_lenEF} for amplitude rabi EF')"
   ]
  },
  {
   "cell_type": "code",
   "execution_count": 75,
   "metadata": {},
   "outputs": [],
   "source": [
    "if save_data: saved_files.append(lengthrabiEF.save_data())"
   ]
  },
  {
   "cell_type": "markdown",
   "metadata": {},
   "source": [
    "## Qubit temperature"
   ]
  },
  {
   "cell_type": "code",
   "execution_count": 76,
   "metadata": {},
   "outputs": [
    {
     "name": "stdout",
     "output_type": "stream",
     "text": [
      "reps 500 rounds 200\n",
      "Running amp rabi EF on Q2 \n"
     ]
    },
    {
     "data": {
      "application/vnd.jupyter.widget-view+json": {
       "model_id": "a3ee6c291595499c985d731ad508b209",
       "version_major": 2,
       "version_minor": 0
      },
      "text/plain": [
       "  0%|          | 0/2 [00:00<?, ?it/s]"
      ]
     },
     "metadata": {},
     "output_type": "display_data"
    },
    {
     "ename": "KeyboardInterrupt",
     "evalue": "",
     "output_type": "error",
     "traceback": [
      "\u001b[1;31m---------------------------------------------------------------------------\u001b[0m",
      "\u001b[1;31mKeyboardInterrupt\u001b[0m                         Traceback (most recent call last)",
      "Cell \u001b[1;32mIn[76], line 46\u001b[0m\n\u001b[0;32m     19\u001b[0m amprabiEF2\u001b[38;5;241m.\u001b[39mcfg\u001b[38;5;241m.\u001b[39mexpt \u001b[38;5;241m=\u001b[39m \u001b[38;5;28mdict\u001b[39m(\n\u001b[0;32m     20\u001b[0m     start\u001b[38;5;241m=\u001b[39m\u001b[38;5;241m0\u001b[39m, \u001b[38;5;66;03m# qubit gain [dac level]\u001b[39;00m\n\u001b[0;32m     21\u001b[0m     step\u001b[38;5;241m=\u001b[39m\u001b[38;5;28mint\u001b[39m(span\u001b[38;5;241m/\u001b[39mnpts), \u001b[38;5;66;03m# [dac level]\u001b[39;00m\n\u001b[1;32m   (...)\u001b[0m\n\u001b[0;32m     42\u001b[0m     resonator_reset\u001b[38;5;241m=\u001b[39mresonator_reset,\n\u001b[0;32m     43\u001b[0m )\n\u001b[0;32m     45\u001b[0m \u001b[38;5;66;03m# print(amprabiEF2.cfg)\u001b[39;00m\n\u001b[1;32m---> 46\u001b[0m \u001b[43mamprabiEF2\u001b[49m\u001b[38;5;241;43m.\u001b[39;49m\u001b[43mgo\u001b[49m\u001b[43m(\u001b[49m\u001b[43manalyze\u001b[49m\u001b[38;5;241;43m=\u001b[39;49m\u001b[38;5;28;43;01mFalse\u001b[39;49;00m\u001b[43m,\u001b[49m\u001b[43m \u001b[49m\u001b[43mdisplay\u001b[49m\u001b[38;5;241;43m=\u001b[39;49m\u001b[38;5;28;43;01mFalse\u001b[39;49;00m\u001b[43m,\u001b[49m\u001b[43m \u001b[49m\u001b[43mprogress\u001b[49m\u001b[38;5;241;43m=\u001b[39;49m\u001b[38;5;28;43;01mTrue\u001b[39;49;00m\u001b[43m,\u001b[49m\u001b[43m \u001b[49m\u001b[43msave\u001b[49m\u001b[38;5;241;43m=\u001b[39;49m\u001b[38;5;28;43;01mFalse\u001b[39;49;00m\u001b[43m)\u001b[49m\n",
      "File \u001b[1;32m~\\slab\\experiment.py:115\u001b[0m, in \u001b[0;36mExperiment.go\u001b[1;34m(self, save, analyze, display, progress)\u001b[0m\n\u001b[0;32m    112\u001b[0m \u001b[38;5;28;01mdef\u001b[39;00m \u001b[38;5;21mgo\u001b[39m(\u001b[38;5;28mself\u001b[39m, save\u001b[38;5;241m=\u001b[39m\u001b[38;5;28;01mFalse\u001b[39;00m, analyze\u001b[38;5;241m=\u001b[39m\u001b[38;5;28;01mFalse\u001b[39;00m, display\u001b[38;5;241m=\u001b[39m\u001b[38;5;28;01mFalse\u001b[39;00m, progress\u001b[38;5;241m=\u001b[39m\u001b[38;5;28;01mFalse\u001b[39;00m):\n\u001b[0;32m    113\u001b[0m     \u001b[38;5;66;03m# get data\u001b[39;00m\n\u001b[1;32m--> 115\u001b[0m     data\u001b[38;5;241m=\u001b[39m\u001b[38;5;28;43mself\u001b[39;49m\u001b[38;5;241;43m.\u001b[39;49m\u001b[43macquire\u001b[49m\u001b[43m(\u001b[49m\u001b[43mprogress\u001b[49m\u001b[43m)\u001b[49m\n\u001b[0;32m    116\u001b[0m     \u001b[38;5;28;01mif\u001b[39;00m analyze:\n\u001b[0;32m    117\u001b[0m         data\u001b[38;5;241m=\u001b[39m\u001b[38;5;28mself\u001b[39m\u001b[38;5;241m.\u001b[39manalyze(data)\n",
      "File \u001b[1;32ms:\\Seb\\experiements\\qram_tprocv1_expts\\experiments\\single_qubit\\amplitude_rabi.py:262\u001b[0m, in \u001b[0;36mAmplitudeRabiExperiment.acquire\u001b[1;34m(self, progress)\u001b[0m\n\u001b[0;32m    260\u001b[0m     cfg\u001b[38;5;241m.\u001b[39mexpt\u001b[38;5;241m.\u001b[39mstate_prep_kwargs \u001b[38;5;241m=\u001b[39m \u001b[38;5;28mdict\u001b[39m(prep_state\u001b[38;5;241m=\u001b[39mprep_state)\n\u001b[0;32m    261\u001b[0m     err_tomo \u001b[38;5;241m=\u001b[39m ErrorMitigationStateTomo1QProgram(soccfg\u001b[38;5;241m=\u001b[39m\u001b[38;5;28mself\u001b[39m\u001b[38;5;241m.\u001b[39msoccfg, cfg\u001b[38;5;241m=\u001b[39mcfg)\n\u001b[1;32m--> 262\u001b[0m     \u001b[43merr_tomo\u001b[49m\u001b[38;5;241;43m.\u001b[39;49m\u001b[43macquire\u001b[49m\u001b[43m(\u001b[49m\u001b[38;5;28;43mself\u001b[39;49m\u001b[38;5;241;43m.\u001b[39;49m\u001b[43mim\u001b[49m\u001b[43m[\u001b[49m\u001b[38;5;28;43mself\u001b[39;49m\u001b[38;5;241;43m.\u001b[39;49m\u001b[43mcfg\u001b[49m\u001b[38;5;241;43m.\u001b[39;49m\u001b[43maliases\u001b[49m\u001b[38;5;241;43m.\u001b[39;49m\u001b[43msoc\u001b[49m\u001b[43m]\u001b[49m\u001b[43m,\u001b[49m\u001b[43m \u001b[49m\u001b[43mload_pulses\u001b[49m\u001b[38;5;241;43m=\u001b[39;49m\u001b[38;5;28;43;01mTrue\u001b[39;49;00m\u001b[43m,\u001b[49m\u001b[43m \u001b[49m\u001b[43mprogress\u001b[49m\u001b[38;5;241;43m=\u001b[39;49m\u001b[38;5;28;43;01mFalse\u001b[39;49;00m\u001b[43m)\u001b[49m\n\u001b[0;32m    263\u001b[0m     calib_prog_dict\u001b[38;5;241m.\u001b[39mupdate({prep_state: err_tomo})\n\u001b[0;32m    265\u001b[0m g_prog \u001b[38;5;241m=\u001b[39m calib_prog_dict[\u001b[38;5;124m\"\u001b[39m\u001b[38;5;124mg\u001b[39m\u001b[38;5;124m\"\u001b[39m]\n",
      "File \u001b[1;32ms:\\Seb\\experiements\\qram_tprocv1_expts\\experiments\\clifford_averager_program.py:1811\u001b[0m, in \u001b[0;36mCliffordAveragerProgram.acquire\u001b[1;34m(self, soc, load_pulses, progress, save_experiments, **kwargs)\u001b[0m\n\u001b[0;32m   1809\u001b[0m     \u001b[38;5;28mself\u001b[39m\u001b[38;5;241m.\u001b[39mcfg\u001b[38;5;241m.\u001b[39mexpt\u001b[38;5;241m.\u001b[39mn_trig \u001b[38;5;241m=\u001b[39m \u001b[38;5;241m1\u001b[39m\n\u001b[0;32m   1810\u001b[0m     \u001b[38;5;28mself\u001b[39m\u001b[38;5;241m.\u001b[39mcfg\u001b[38;5;241m.\u001b[39mexpt\u001b[38;5;241m.\u001b[39mn_init_readout \u001b[38;5;241m=\u001b[39m \u001b[38;5;241m0\u001b[39m\n\u001b[1;32m-> 1811\u001b[0m \u001b[38;5;28;01mreturn\u001b[39;00m \u001b[38;5;28;43msuper\u001b[39;49m\u001b[43m(\u001b[49m\u001b[43m)\u001b[49m\u001b[38;5;241;43m.\u001b[39;49m\u001b[43macquire\u001b[49m\u001b[43m(\u001b[49m\n\u001b[0;32m   1812\u001b[0m \u001b[43m    \u001b[49m\u001b[43msoc\u001b[49m\u001b[43m,\u001b[49m\n\u001b[0;32m   1813\u001b[0m \u001b[43m    \u001b[49m\u001b[43mload_pulses\u001b[49m\u001b[38;5;241;43m=\u001b[39;49m\u001b[43mload_pulses\u001b[49m\u001b[43m,\u001b[49m\n\u001b[0;32m   1814\u001b[0m \u001b[43m    \u001b[49m\u001b[43mprogress\u001b[49m\u001b[38;5;241;43m=\u001b[39;49m\u001b[43mprogress\u001b[49m\u001b[43m,\u001b[49m\n\u001b[0;32m   1815\u001b[0m \u001b[43m    \u001b[49m\u001b[43mreadouts_per_experiment\u001b[49m\u001b[38;5;241;43m=\u001b[39;49m\u001b[38;5;241;43m1\u001b[39;49m\u001b[43m \u001b[49m\u001b[38;5;241;43m+\u001b[39;49m\u001b[43m \u001b[49m\u001b[38;5;28;43mself\u001b[39;49m\u001b[38;5;241;43m.\u001b[39;49m\u001b[43mcfg\u001b[49m\u001b[38;5;241;43m.\u001b[39;49m\u001b[43mexpt\u001b[49m\u001b[38;5;241;43m.\u001b[39;49m\u001b[43mn_trig\u001b[49m\u001b[43m \u001b[49m\u001b[38;5;241;43m*\u001b[39;49m\u001b[43m \u001b[49m\u001b[38;5;28;43mself\u001b[39;49m\u001b[38;5;241;43m.\u001b[39;49m\u001b[43mcfg\u001b[49m\u001b[38;5;241;43m.\u001b[39;49m\u001b[43mexpt\u001b[49m\u001b[38;5;241;43m.\u001b[39;49m\u001b[43mn_init_readout\u001b[49m\u001b[43m,\u001b[49m\n\u001b[0;32m   1816\u001b[0m \u001b[43m    \u001b[49m\u001b[43msave_experiments\u001b[49m\u001b[38;5;241;43m=\u001b[39;49m\u001b[43msave_experiments\u001b[49m\u001b[43m,\u001b[49m\n\u001b[0;32m   1817\u001b[0m \u001b[43m\u001b[49m\u001b[43m)\u001b[49m\n",
      "File \u001b[1;32mc:\\users\\slab\\qick\\qick_lib\\qick\\averager_program.py:106\u001b[0m, in \u001b[0;36mAveragerProgram.acquire\u001b[1;34m(self, soc, threshold, angle, readouts_per_experiment, save_experiments, load_pulses, start_src, progress, remove_offset)\u001b[0m\n\u001b[0;32m    103\u001b[0m \u001b[38;5;28;01mif\u001b[39;00m readouts_per_experiment \u001b[38;5;129;01mis\u001b[39;00m \u001b[38;5;129;01mnot\u001b[39;00m \u001b[38;5;28;01mNone\u001b[39;00m:\n\u001b[0;32m    104\u001b[0m     \u001b[38;5;28mself\u001b[39m\u001b[38;5;241m.\u001b[39mset_reads_per_shot(readouts_per_experiment)\n\u001b[1;32m--> 106\u001b[0m avg_d \u001b[38;5;241m=\u001b[39m \u001b[38;5;28;43msuper\u001b[39;49m\u001b[43m(\u001b[49m\u001b[43m)\u001b[49m\u001b[38;5;241;43m.\u001b[39;49m\u001b[43macquire\u001b[49m\u001b[43m(\u001b[49m\u001b[43msoc\u001b[49m\u001b[43m,\u001b[49m\u001b[43m \u001b[49m\u001b[43msoft_avgs\u001b[49m\u001b[38;5;241;43m=\u001b[39;49m\u001b[38;5;28;43mself\u001b[39;49m\u001b[38;5;241;43m.\u001b[39;49m\u001b[43msoft_avgs\u001b[49m\u001b[43m,\u001b[49m\u001b[43m \u001b[49m\u001b[43mload_pulses\u001b[49m\u001b[38;5;241;43m=\u001b[39;49m\u001b[43mload_pulses\u001b[49m\u001b[43m,\u001b[49m\u001b[43m \u001b[49m\u001b[43mstart_src\u001b[49m\u001b[38;5;241;43m=\u001b[39;49m\u001b[43mstart_src\u001b[49m\u001b[43m,\u001b[49m\u001b[43m \u001b[49m\u001b[43mthreshold\u001b[49m\u001b[38;5;241;43m=\u001b[39;49m\u001b[43mthreshold\u001b[49m\u001b[43m,\u001b[49m\u001b[43m \u001b[49m\u001b[43mangle\u001b[49m\u001b[38;5;241;43m=\u001b[39;49m\u001b[43mangle\u001b[49m\u001b[43m,\u001b[49m\u001b[43m \u001b[49m\u001b[43mprogress\u001b[49m\u001b[38;5;241;43m=\u001b[39;49m\u001b[43mprogress\u001b[49m\u001b[43m,\u001b[49m\u001b[43m \u001b[49m\u001b[43mremove_offset\u001b[49m\u001b[38;5;241;43m=\u001b[39;49m\u001b[43mremove_offset\u001b[49m\u001b[43m)\u001b[49m\n\u001b[0;32m    108\u001b[0m \u001b[38;5;66;03m# reformat the data into separate I and Q arrays\u001b[39;00m\n\u001b[0;32m    109\u001b[0m \u001b[38;5;66;03m# save results to class in case you want to look at it later or for analysis\u001b[39;00m\n\u001b[0;32m    110\u001b[0m raw \u001b[38;5;241m=\u001b[39m [d\u001b[38;5;241m.\u001b[39mreshape((\u001b[38;5;241m-\u001b[39m\u001b[38;5;241m1\u001b[39m,\u001b[38;5;241m2\u001b[39m)) \u001b[38;5;28;01mfor\u001b[39;00m d \u001b[38;5;129;01min\u001b[39;00m \u001b[38;5;28mself\u001b[39m\u001b[38;5;241m.\u001b[39mget_raw()]\n",
      "File \u001b[1;32mc:\\users\\slab\\qick\\qick_lib\\qick\\qick_asm.py:1701\u001b[0m, in \u001b[0;36mAcquireMixin.acquire\u001b[1;34m(self, soc, soft_avgs, load_pulses, start_src, threshold, angle, progress, remove_offset)\u001b[0m\n\u001b[0;32m   1698\u001b[0m soc\u001b[38;5;241m.\u001b[39mstart_readout(total_count, counter_addr\u001b[38;5;241m=\u001b[39m\u001b[38;5;28mself\u001b[39m\u001b[38;5;241m.\u001b[39mcounter_addr,\n\u001b[0;32m   1699\u001b[0m                        ch_list\u001b[38;5;241m=\u001b[39m\u001b[38;5;28mlist\u001b[39m(\u001b[38;5;28mself\u001b[39m\u001b[38;5;241m.\u001b[39mro_chs), reads_per_shot\u001b[38;5;241m=\u001b[39m\u001b[38;5;28mself\u001b[39m\u001b[38;5;241m.\u001b[39mreads_per_shot)\n\u001b[0;32m   1700\u001b[0m \u001b[38;5;28;01mwhile\u001b[39;00m count\u001b[38;5;241m<\u001b[39mtotal_count:\n\u001b[1;32m-> 1701\u001b[0m     new_data \u001b[38;5;241m=\u001b[39m obtain(\u001b[43msoc\u001b[49m\u001b[38;5;241;43m.\u001b[39;49m\u001b[43mpoll_data\u001b[49m\u001b[43m(\u001b[49m\u001b[43m)\u001b[49m)\n\u001b[0;32m   1702\u001b[0m     \u001b[38;5;28;01mfor\u001b[39;00m new_points, (d, s) \u001b[38;5;129;01min\u001b[39;00m new_data:\n\u001b[0;32m   1703\u001b[0m         \u001b[38;5;28;01mfor\u001b[39;00m ii, nreads \u001b[38;5;129;01min\u001b[39;00m \u001b[38;5;28menumerate\u001b[39m(\u001b[38;5;28mself\u001b[39m\u001b[38;5;241m.\u001b[39mreads_per_shot):\n\u001b[0;32m   1704\u001b[0m             \u001b[38;5;66;03m#print(count, new_points, nreads, d[ii].shape, total_count)\u001b[39;00m\n",
      "File \u001b[1;32mc:\\Users\\slab\\.conda\\envs\\slab\\lib\\site-packages\\Pyro4\\core.py:185\u001b[0m, in \u001b[0;36m_RemoteMethod.__call__\u001b[1;34m(self, *args, **kwargs)\u001b[0m\n\u001b[0;32m    183\u001b[0m \u001b[38;5;28;01mfor\u001b[39;00m attempt \u001b[38;5;129;01min\u001b[39;00m \u001b[38;5;28mrange\u001b[39m(\u001b[38;5;28mself\u001b[39m\u001b[38;5;241m.\u001b[39m__max_retries \u001b[38;5;241m+\u001b[39m \u001b[38;5;241m1\u001b[39m):\n\u001b[0;32m    184\u001b[0m     \u001b[38;5;28;01mtry\u001b[39;00m:\n\u001b[1;32m--> 185\u001b[0m         \u001b[38;5;28;01mreturn\u001b[39;00m \u001b[38;5;28;43mself\u001b[39;49m\u001b[38;5;241;43m.\u001b[39;49m\u001b[43m__send\u001b[49m\u001b[43m(\u001b[49m\u001b[38;5;28;43mself\u001b[39;49m\u001b[38;5;241;43m.\u001b[39;49m\u001b[43m__name\u001b[49m\u001b[43m,\u001b[49m\u001b[43m \u001b[49m\u001b[43margs\u001b[49m\u001b[43m,\u001b[49m\u001b[43m \u001b[49m\u001b[43mkwargs\u001b[49m\u001b[43m)\u001b[49m\n\u001b[0;32m    186\u001b[0m     \u001b[38;5;28;01mexcept\u001b[39;00m (errors\u001b[38;5;241m.\u001b[39mConnectionClosedError, errors\u001b[38;5;241m.\u001b[39mTimeoutError):\n\u001b[0;32m    187\u001b[0m         \u001b[38;5;66;03m# only retry for recoverable network errors\u001b[39;00m\n\u001b[0;32m    188\u001b[0m         \u001b[38;5;28;01mif\u001b[39;00m attempt \u001b[38;5;241m>\u001b[39m\u001b[38;5;241m=\u001b[39m \u001b[38;5;28mself\u001b[39m\u001b[38;5;241m.\u001b[39m__max_retries:\n\u001b[0;32m    189\u001b[0m             \u001b[38;5;66;03m# last attempt, raise the exception\u001b[39;00m\n",
      "File \u001b[1;32mc:\\Users\\slab\\.conda\\envs\\slab\\lib\\site-packages\\Pyro4\\core.py:453\u001b[0m, in \u001b[0;36mProxy._pyroInvoke\u001b[1;34m(self, methodname, vargs, kwargs, flags, objectId)\u001b[0m\n\u001b[0;32m    451\u001b[0m     \u001b[38;5;28;01mreturn\u001b[39;00m \u001b[38;5;28;01mNone\u001b[39;00m  \u001b[38;5;66;03m# oneway call, no response data\u001b[39;00m\n\u001b[0;32m    452\u001b[0m \u001b[38;5;28;01melse\u001b[39;00m:\n\u001b[1;32m--> 453\u001b[0m     msg \u001b[38;5;241m=\u001b[39m \u001b[43mmessage\u001b[49m\u001b[38;5;241;43m.\u001b[39;49m\u001b[43mMessage\u001b[49m\u001b[38;5;241;43m.\u001b[39;49m\u001b[43mrecv\u001b[49m\u001b[43m(\u001b[49m\u001b[38;5;28;43mself\u001b[39;49m\u001b[38;5;241;43m.\u001b[39;49m\u001b[43m_pyroConnection\u001b[49m\u001b[43m,\u001b[49m\u001b[43m \u001b[49m\u001b[43m[\u001b[49m\u001b[43mmessage\u001b[49m\u001b[38;5;241;43m.\u001b[39;49m\u001b[43mMSG_RESULT\u001b[49m\u001b[43m]\u001b[49m\u001b[43m,\u001b[49m\u001b[43m \u001b[49m\u001b[43mhmac_key\u001b[49m\u001b[38;5;241;43m=\u001b[39;49m\u001b[38;5;28;43mself\u001b[39;49m\u001b[38;5;241;43m.\u001b[39;49m\u001b[43m_pyroHmacKey\u001b[49m\u001b[43m)\u001b[49m\n\u001b[0;32m    454\u001b[0m     \u001b[38;5;28;01mif\u001b[39;00m config\u001b[38;5;241m.\u001b[39mLOGWIRE:\n\u001b[0;32m    455\u001b[0m         _log_wiredata(log, \u001b[38;5;124m\"\u001b[39m\u001b[38;5;124mproxy wiredata received\u001b[39m\u001b[38;5;124m\"\u001b[39m, msg)\n",
      "File \u001b[1;32mc:\\Users\\slab\\.conda\\envs\\slab\\lib\\site-packages\\Pyro4\\message.py:168\u001b[0m, in \u001b[0;36mMessage.recv\u001b[1;34m(cls, connection, requiredMsgTypes, hmac_key)\u001b[0m\n\u001b[0;32m    160\u001b[0m \u001b[38;5;129m@classmethod\u001b[39m\n\u001b[0;32m    161\u001b[0m \u001b[38;5;28;01mdef\u001b[39;00m \u001b[38;5;21mrecv\u001b[39m(\u001b[38;5;28mcls\u001b[39m, connection, requiredMsgTypes\u001b[38;5;241m=\u001b[39m\u001b[38;5;28;01mNone\u001b[39;00m, hmac_key\u001b[38;5;241m=\u001b[39m\u001b[38;5;28;01mNone\u001b[39;00m):\n\u001b[0;32m    162\u001b[0m \u001b[38;5;250m    \u001b[39m\u001b[38;5;124;03m\"\"\"\u001b[39;00m\n\u001b[0;32m    163\u001b[0m \u001b[38;5;124;03m    Receives a pyro message from a given connection.\u001b[39;00m\n\u001b[0;32m    164\u001b[0m \u001b[38;5;124;03m    Accepts the given message types (None=any, or pass a sequence).\u001b[39;00m\n\u001b[0;32m    165\u001b[0m \u001b[38;5;124;03m    Also reads annotation chunks and the actual payload data.\u001b[39;00m\n\u001b[0;32m    166\u001b[0m \u001b[38;5;124;03m    Validates a HMAC chunk if present.\u001b[39;00m\n\u001b[0;32m    167\u001b[0m \u001b[38;5;124;03m    \"\"\"\u001b[39;00m\n\u001b[1;32m--> 168\u001b[0m     msg \u001b[38;5;241m=\u001b[39m \u001b[38;5;28mcls\u001b[39m\u001b[38;5;241m.\u001b[39mfrom_header(\u001b[43mconnection\u001b[49m\u001b[38;5;241;43m.\u001b[39;49m\u001b[43mrecv\u001b[49m\u001b[43m(\u001b[49m\u001b[38;5;28;43mcls\u001b[39;49m\u001b[38;5;241;43m.\u001b[39;49m\u001b[43mheader_size\u001b[49m\u001b[43m)\u001b[49m)\n\u001b[0;32m    169\u001b[0m     msg\u001b[38;5;241m.\u001b[39mhmac_key \u001b[38;5;241m=\u001b[39m hmac_key\n\u001b[0;32m    170\u001b[0m     \u001b[38;5;28;01mif\u001b[39;00m \u001b[38;5;241m0\u001b[39m \u001b[38;5;241m<\u001b[39m config\u001b[38;5;241m.\u001b[39mMAX_MESSAGE_SIZE \u001b[38;5;241m<\u001b[39m (msg\u001b[38;5;241m.\u001b[39mdata_size \u001b[38;5;241m+\u001b[39m msg\u001b[38;5;241m.\u001b[39mannotations_size):\n",
      "File \u001b[1;32mc:\\Users\\slab\\.conda\\envs\\slab\\lib\\site-packages\\Pyro4\\socketutil.py:463\u001b[0m, in \u001b[0;36mSocketConnection.recv\u001b[1;34m(self, size)\u001b[0m\n\u001b[0;32m    462\u001b[0m \u001b[38;5;28;01mdef\u001b[39;00m \u001b[38;5;21mrecv\u001b[39m(\u001b[38;5;28mself\u001b[39m, size):\n\u001b[1;32m--> 463\u001b[0m     \u001b[38;5;28;01mreturn\u001b[39;00m \u001b[43mreceiveData\u001b[49m\u001b[43m(\u001b[49m\u001b[38;5;28;43mself\u001b[39;49m\u001b[38;5;241;43m.\u001b[39;49m\u001b[43msock\u001b[49m\u001b[43m,\u001b[49m\u001b[43m \u001b[49m\u001b[43msize\u001b[49m\u001b[43m)\u001b[49m\n",
      "File \u001b[1;32mc:\\Users\\slab\\.conda\\envs\\slab\\lib\\site-packages\\Pyro4\\socketutil.py:171\u001b[0m, in \u001b[0;36mreceiveData\u001b[1;34m(sock, size)\u001b[0m\n\u001b[0;32m    168\u001b[0m \u001b[38;5;28;01mtry\u001b[39;00m:\n\u001b[0;32m    169\u001b[0m     \u001b[38;5;28;01mwhile\u001b[39;00m msglen \u001b[38;5;241m<\u001b[39m size:\n\u001b[0;32m    170\u001b[0m         \u001b[38;5;66;03m# 60k buffer limit avoids problems on certain OSes like VMS, Windows\u001b[39;00m\n\u001b[1;32m--> 171\u001b[0m         chunk \u001b[38;5;241m=\u001b[39m \u001b[43msock\u001b[49m\u001b[38;5;241;43m.\u001b[39;49m\u001b[43mrecv\u001b[49m\u001b[43m(\u001b[49m\u001b[38;5;28;43mmin\u001b[39;49m\u001b[43m(\u001b[49m\u001b[38;5;241;43m60000\u001b[39;49m\u001b[43m,\u001b[49m\u001b[43m \u001b[49m\u001b[43msize\u001b[49m\u001b[43m \u001b[49m\u001b[38;5;241;43m-\u001b[39;49m\u001b[43m \u001b[49m\u001b[43mmsglen\u001b[49m\u001b[43m)\u001b[49m\u001b[43m)\u001b[49m\n\u001b[0;32m    172\u001b[0m         \u001b[38;5;28;01mif\u001b[39;00m \u001b[38;5;129;01mnot\u001b[39;00m chunk:\n\u001b[0;32m    173\u001b[0m             \u001b[38;5;28;01mbreak\u001b[39;00m\n",
      "\u001b[1;31mKeyboardInterrupt\u001b[0m: "
     ]
    }
   ],
   "source": [
    "amprabiEF2 = meas.AmplitudeRabiExperiment(\n",
    "    soccfg=soc,\n",
    "    path=expt_path,\n",
    "    prefix=\"amp_rabi_EF\"+f\"_qubit{qubit_i}\",\n",
    "    config_file=config_path,\n",
    ")\n",
    "\n",
    "amprabiEF2.cfg = AttrDict(deepcopy(yaml_cfg))\n",
    "\n",
    "reps_temp=500\n",
    "rounds_temp=reps*rounds*100//500\n",
    "\n",
    "span = np.reshape(amprabiEF2.cfg.device.qubit.pulses.pi_ef.gain, (4,4))[qubit_i, qubit_i]\n",
    "npts = 4\n",
    "# reps_temp = 10\n",
    "# rounds_temp = 10\n",
    "print('reps', reps_temp, 'rounds', rounds_temp)\n",
    "\n",
    "amprabiEF2.cfg.expt = dict(\n",
    "    start=0, # qubit gain [dac level]\n",
    "    step=int(span/npts), # [dac level]\n",
    "    expts=npts+1,\n",
    "    reps=reps_temp*rounds_temp,\n",
    "    rounds=1,\n",
    "    sigma_test=pi_lenEF, # gaussian sigma for pulse length - default from cfg [us]\n",
    "    pulse_ge=False, # set to false when measuring qubit temp\n",
    "    pulse_type='gauss',\n",
    "    checkEF=True, \n",
    "    qTest=qubit_i,\n",
    "    qZZ=None,\n",
    "\n",
    "\n",
    "    # readout_cool=False,\n",
    "    readout_cool=True,\n",
    "    n_init_readout=1,\n",
    "    n_trig=1,\n",
    "    init_read_wait_us=2,\n",
    "    singleshot_reps=10000,\n",
    "    \n",
    "    # use_gf_readout=True,\n",
    "    full_mux_expt=full_mux_expt,\n",
    "    resonator_reset=resonator_reset,\n",
    ")\n",
    "\n",
    "# print(amprabiEF2.cfg)\n",
    "amprabiEF2.go(analyze=False, display=False, progress=True, save=False)"
   ]
  },
  {
   "cell_type": "code",
   "execution_count": 30,
   "metadata": {},
   "outputs": [],
   "source": [
    "post_select = False\n",
    "# post_select = True\n",
    "ps_threshold = None\n",
    "# ps_threshold = 450"
   ]
  },
  {
   "cell_type": "code",
   "execution_count": 34,
   "metadata": {},
   "outputs": [
    {
     "ename": "IndexError",
     "evalue": "too many indices for array: array is 3-dimensional, but 4 were indexed",
     "output_type": "error",
     "traceback": [
      "\u001b[1;31m---------------------------------------------------------------------------\u001b[0m",
      "\u001b[1;31mIndexError\u001b[0m                                Traceback (most recent call last)",
      "\u001b[1;32m~\\AppData\\Local\\Temp\\ipykernel_35508\\815980686.py\u001b[0m in \u001b[0;36m<module>\u001b[1;34m\u001b[0m\n\u001b[0;32m     29\u001b[0m \u001b[0mefamp_normal\u001b[0m \u001b[1;33m=\u001b[0m \u001b[1;33m(\u001b[0m\u001b[0mmax\u001b[0m\u001b[1;33m(\u001b[0m\u001b[0mamprabiEF\u001b[0m\u001b[1;33m.\u001b[0m\u001b[0mdata\u001b[0m\u001b[1;33m[\u001b[0m\u001b[0mfit_axis\u001b[0m\u001b[1;33m]\u001b[0m\u001b[1;33m)\u001b[0m \u001b[1;33m-\u001b[0m \u001b[0mmin\u001b[0m\u001b[1;33m(\u001b[0m\u001b[0mamprabiEF\u001b[0m\u001b[1;33m.\u001b[0m\u001b[0mdata\u001b[0m\u001b[1;33m[\u001b[0m\u001b[0mfit_axis\u001b[0m\u001b[1;33m]\u001b[0m\u001b[1;33m)\u001b[0m\u001b[1;33m)\u001b[0m\u001b[1;33m\u001b[0m\u001b[1;33m\u001b[0m\u001b[0m\n\u001b[0;32m     30\u001b[0m \u001b[1;33m\u001b[0m\u001b[0m\n\u001b[1;32m---> 31\u001b[1;33m \u001b[0mamprabiEF2\u001b[0m\u001b[1;33m.\u001b[0m\u001b[0manalyze\u001b[0m\u001b[1;33m(\u001b[0m\u001b[0mfit\u001b[0m\u001b[1;33m=\u001b[0m\u001b[1;32mFalse\u001b[0m\u001b[1;33m,\u001b[0m \u001b[0mpost_select\u001b[0m\u001b[1;33m=\u001b[0m\u001b[0mpost_select\u001b[0m\u001b[1;33m,\u001b[0m \u001b[0mps_threshold\u001b[0m\u001b[1;33m=\u001b[0m\u001b[0mps_threshold\u001b[0m\u001b[1;33m)\u001b[0m\u001b[1;33m\u001b[0m\u001b[1;33m\u001b[0m\u001b[0m\n\u001b[0m\u001b[0;32m     32\u001b[0m \u001b[0mamprabiEF2_data\u001b[0m \u001b[1;33m=\u001b[0m \u001b[0mamprabiEF2\u001b[0m\u001b[1;33m.\u001b[0m\u001b[0mdata\u001b[0m\u001b[1;33m[\u001b[0m\u001b[0mfit_axis\u001b[0m\u001b[1;33m]\u001b[0m\u001b[1;33m\u001b[0m\u001b[1;33m\u001b[0m\u001b[0m\n\u001b[0;32m     33\u001b[0m \u001b[1;31m# p = amprabiEF2.data[f'fit_{fit_axis}']\u001b[0m\u001b[1;33m\u001b[0m\u001b[1;33m\u001b[0m\u001b[0m\n",
      "\u001b[1;32ms:\\Connie\\experiments\\qram_tprocv1_expts\\experiments\\single_qubit\\amplitude_rabi.py\u001b[0m in \u001b[0;36manalyze\u001b[1;34m(self, data, fit, post_select, ps_threshold, fitparams)\u001b[0m\n\u001b[0;32m    330\u001b[0m             \u001b[1;31m# shots data shape: (len(self.ro_chs), self.cfg.expt.expts, 1+n_init_readout, self.cfg.expt.reps)\u001b[0m\u001b[1;33m\u001b[0m\u001b[1;33m\u001b[0m\u001b[0m\n\u001b[0;32m    331\u001b[0m             \u001b[1;31m# final_iqdata: data from the normal readout post experiment, post selected if necessary\u001b[0m\u001b[1;33m\u001b[0m\u001b[1;33m\u001b[0m\u001b[0m\n\u001b[1;32m--> 332\u001b[1;33m             \u001b[0mfinal_idata\u001b[0m \u001b[1;33m=\u001b[0m \u001b[0mdata\u001b[0m\u001b[1;33m[\u001b[0m\u001b[1;34m\"idata\"\u001b[0m\u001b[1;33m]\u001b[0m\u001b[1;33m[\u001b[0m\u001b[0mqTest\u001b[0m\u001b[1;33m,\u001b[0m \u001b[1;33m:\u001b[0m\u001b[1;33m,\u001b[0m \u001b[1;33m-\u001b[0m\u001b[1;36m1\u001b[0m\u001b[1;33m,\u001b[0m \u001b[1;33m:\u001b[0m\u001b[1;33m]\u001b[0m\u001b[1;33m\u001b[0m\u001b[1;33m\u001b[0m\u001b[0m\n\u001b[0m\u001b[0;32m    333\u001b[0m             \u001b[0mfinal_qdata\u001b[0m \u001b[1;33m=\u001b[0m \u001b[0mdata\u001b[0m\u001b[1;33m[\u001b[0m\u001b[1;34m\"qdata\"\u001b[0m\u001b[1;33m]\u001b[0m\u001b[1;33m[\u001b[0m\u001b[0mqTest\u001b[0m\u001b[1;33m,\u001b[0m \u001b[1;33m:\u001b[0m\u001b[1;33m,\u001b[0m \u001b[1;33m-\u001b[0m\u001b[1;36m1\u001b[0m\u001b[1;33m,\u001b[0m \u001b[1;33m:\u001b[0m\u001b[1;33m]\u001b[0m\u001b[1;33m\u001b[0m\u001b[1;33m\u001b[0m\u001b[0m\n\u001b[0;32m    334\u001b[0m             \u001b[0mdata\u001b[0m\u001b[1;33m[\u001b[0m\u001b[1;34m\"avgi\"\u001b[0m\u001b[1;33m]\u001b[0m \u001b[1;33m=\u001b[0m \u001b[0mnp\u001b[0m\u001b[1;33m.\u001b[0m\u001b[0maverage\u001b[0m\u001b[1;33m(\u001b[0m\u001b[0mfinal_idata\u001b[0m\u001b[1;33m,\u001b[0m \u001b[0maxis\u001b[0m\u001b[1;33m=\u001b[0m\u001b[1;36m1\u001b[0m\u001b[1;33m)\u001b[0m\u001b[1;33m\u001b[0m\u001b[1;33m\u001b[0m\u001b[0m\n",
      "\u001b[1;31mIndexError\u001b[0m: too many indices for array: array is 3-dimensional, but 4 were indexed"
     ]
    }
   ],
   "source": [
    "# TESTING\n",
    "# amprabiEF_test = meas.AmplitudeRabiExperiment(config_file=config_path,)\n",
    "# amprabiEF2 = meas.AmplitudeRabiExperiment(config_file=config_path,)\n",
    "# temp_data, attrs = prev_data(expt_path, '00004_amp_rabi_EF_qubit1.h5')\n",
    "# amprabiEF2.data = temp_data\n",
    "\n",
    "# amprabiEF2.analyze(fit=False)\n",
    "# amprabiEF2.display(fit=False)\n",
    "\n",
    "# fitparams = [None]*4\n",
    "# fitparams[1] = 2/amprabiEF2.data['xpts'][-1]\n",
    "\n",
    "# amprabiEF2_fit, amprabiEF2_fit_err = meas.fitting.get_best_fit(amprabiEF2.data)\n",
    "\n",
    "# NATURAL CONSTANTS\n",
    "h = 6.62607015e-34\n",
    "fge = 1e6*(np.reshape(amprabiEF2.cfg.device.qubit.f_ge, (4,4))[qubit_i, qubit_i] + amprabiEF2.cfg.hw.soc.dacs.qubit.mixer_freq[qubit_i])\n",
    "kB = 1.380649e-23\n",
    "################\n",
    "\n",
    "fit_axis = 'amps'\n",
    "# fit_axis = 'avgi' if post_select else 'amps'\n",
    "\n",
    "amprabiEF.analyze(fit=False, post_select=post_select, ps_threshold=ps_threshold)\n",
    "amprabiEF_data = amprabiEF.data[fit_axis]\n",
    "# amprabiEF2_data = (amprabiEF2.data[fit_axis] + temp_data[fit_axis])/2\n",
    "# p = amprabiEF.data[f'fit_{fit_axis}']\n",
    "# efamp_normal = p[0]\n",
    "efamp_normal = (max(amprabiEF.data[fit_axis]) - min(amprabiEF.data[fit_axis]))\n",
    "\n",
    "amprabiEF2.analyze(fit=False, post_select=post_select, ps_threshold=ps_threshold)\n",
    "amprabiEF2_data = amprabiEF2.data[fit_axis]\n",
    "# p = amprabiEF2.data[f'fit_{fit_axis}']\n",
    "# efamp_nopulse = p[0]\n",
    "# fit_vals = meas.fitting.sinfunc(amprabiEF.data['xpts'], *p)\n",
    "# std_dev_no_pulse = np.std(fit_vals[:10])\n",
    "# efamp_nopulse = (max(fit_vals) - min(fit_vals))-2*std_dev_no_pulse\n",
    "efamp_nopulse = (max(amprabiEF2.data[fit_axis]) - min(amprabiEF2.data[fit_axis]))\n",
    "\n",
    "# amprabiEF2.display(fit=True, fit_func='sin')\n",
    "\n",
    "print('yscale normal:', efamp_normal)\n",
    "print('yscale no pulse:', efamp_nopulse)\n",
    "\n",
    "temp = 1e3*-h*fge/(kB*np.log(efamp_nopulse/(efamp_normal+efamp_nopulse)))\n",
    "\n",
    "print(f'qubit {qubit_i}')\n",
    "print('Qubit temp [mK]:', temp)\n",
    "results_Qi.update({'Qubit temp [mK]':temp})\n",
    "print('Qubit E thermal population (%):', efamp_nopulse/efamp_normal*100)\n",
    "\n",
    "amprabiEF2.display(fit=False)\n",
    "results_Qi.update({'Qubit E thermal population (%)':efamp_nopulse/efamp_normal*100})\n",
    "print(results_Qi)"
   ]
  },
  {
   "cell_type": "code",
   "execution_count": 64,
   "metadata": {},
   "outputs": [],
   "source": [
    "if save_data: saved_files.append(amprabiEF2.save_data())"
   ]
  },
  {
   "cell_type": "markdown",
   "metadata": {},
   "source": [
    "## EF Ramsey Fringe\n",
    "Update the ef frequency in <code>cfg.qubit.f_ef</code>."
   ]
  },
  {
   "cell_type": "code",
   "execution_count": 23,
   "metadata": {},
   "outputs": [],
   "source": [
    "qubitEF_hwhm = 2\n",
    "ramsey_freq = 3\n",
    "\n",
    "# short_T1 = False"
   ]
  },
  {
   "cell_type": "code",
   "execution_count": 27,
   "metadata": {},
   "outputs": [
    {
     "name": "stdout",
     "output_type": "stream",
     "text": [
      "gain 1242\n",
      "gain 1616\n",
      "gain 6527\n",
      "gain 1575\n",
      "gain 6527\n",
      "gain 6527\n",
      "Running Ramsey EF on Q2 \n"
     ]
    },
    {
     "data": {
      "application/vnd.jupyter.widget-view+json": {
       "model_id": "c026d56b17d54047be3a429280838e47",
       "version_major": 2,
       "version_minor": 0
      },
      "text/plain": [
       "  0%|          | 0/10 [00:00<?, ?it/s]"
      ]
     },
     "metadata": {},
     "output_type": "display_data"
    },
    {
     "name": "stdout",
     "output_type": "stream",
     "text": [
      "WARNING: not sure if single shot checking makes sense when there are multiple rounds of averaging... use at your own risk\n"
     ]
    }
   ],
   "source": [
    "ramseyEF_freq = max((min((np.abs(np.ceil(qubitEF_hwhm)), 3)), 2))\n",
    "\n",
    "t2EFr = meas.RamseyExperiment(\n",
    "    soccfg=soc,\n",
    "    path=expt_path,\n",
    "    prefix=\"ramseyEF\"+f\"_qubit{qubit_i}\",\n",
    "    config_file=config_path,\n",
    ")\n",
    "\n",
    "t2EFr.cfg = AttrDict(deepcopy(yaml_cfg))\n",
    "\n",
    "t2EFr.cfg.expt = dict(\n",
    "    start=0, # wait time tau [us]\n",
    "    # step=soc.cycles2us(10), # [us] make sure nyquist freq = 0.5 * (1/step) > ramsey (signal) freq!\n",
    "    step=soc.cycles2us(4*2), # [us] make sure nyquist freq = 0.5 * (1/step) > ramsey (signal) freq!\n",
    "    # step=0.05, # [us]\n",
    "    expts=151,\n",
    "    # ramsey_freq=ramseyEF_freq, # [MHz]\n",
    "    ramsey_freq=ramsey_freq/2, # [MHz]\n",
    "    checkEF=True,\n",
    "    reps=reps,\n",
    "    rounds=rounds,\n",
    "    qTest=qubit_i,\n",
    "    qZZ=None,\n",
    "\n",
    "    full_mux_expt=full_mux_expt,\n",
    "    resonator_reset=resonator_reset,\n",
    "    use_robust_pulses=use_robust_pulses,\n",
    ")\n",
    "\n",
    "try:\n",
    "    t2EFr.go(analyze=False, display=False, progress=True, save=False)\n",
    "except Exception:\n",
    "    print(\"Pyro traceback:\")\n",
    "    print(\"\".join(Pyro4.util.getPyroTraceback()))"
   ]
  },
  {
   "cell_type": "code",
   "execution_count": 28,
   "metadata": {},
   "outputs": [
    {
     "data": {
      "text/plain": [
       "{'start': 0,\n",
       " 'step': 0.018601190476190476,\n",
       " 'expts': 151,\n",
       " 'ramsey_freq': 1.5,\n",
       " 'checkEF': True,\n",
       " 'reps': 100,\n",
       " 'rounds': 10,\n",
       " 'qTest': 2,\n",
       " 'qZZ': None,\n",
       " 'full_mux_expt': False,\n",
       " 'resonator_reset': None,\n",
       " 'use_robust_pulses': True,\n",
       " 'sigma_test': 0.015,\n",
       " 'n_trig': 1,\n",
       " 'n_init_readout': 0}"
      ]
     },
     "execution_count": 28,
     "metadata": {},
     "output_type": "execute_result"
    }
   ],
   "source": [
    "t2EFr.cfg.expt"
   ]
  },
  {
   "cell_type": "code",
   "execution_count": 29,
   "metadata": {},
   "outputs": [
    {
     "name": "stdout",
     "output_type": "stream",
     "text": [
      "best 1 0.06992566424943786\n",
      "Current pi pulse frequency: 4573.166434846502\n",
      "Fit frequency from amps [MHz]: 1.5207651104848348 +/- 0.014470748518399211\n",
      "Suggested new pi pulse frequencies from fit amps [MHz]:\n",
      " \t4573.145669736017\n",
      " \t4570.145669736017\n",
      "T2 Ramsey from fit amps [us]: 2.8902127460780758 +/- 0.7332728310553562\n",
      "Current pi pulse frequency: 4573.166434846502\n",
      "Fit frequency from I [MHz]: 1.5032313001468305 +/- 0.0038899935973831733\n",
      "Suggested new pi pulse frequency from fit I [MHz]:\n",
      " \t4573.163203546355\n",
      " \t4570.163203546355\n",
      "T2 Ramsey from fit I [us]: 12.358488123552204 +/- 3.5325760256777525\n",
      "Fit frequency from Q [MHz]: 1.5140708000157648 +/- 0.004829426962807017\n",
      "Suggested new pi pulse frequencies from fit Q [MHz]:\n",
      " \t4573.152364046487\n",
      " \t4570.152364046487\n",
      "T2 Ramsey from fit Q [us]: 14.790337651356028 +/- 6.297801201004572\n",
      "*Set qubit 2 EF freq to 4573.163203546355*\n",
      "*New f_ef\n",
      " [[3882.6760964     0.         3882.59302316 3882.54656679]\n",
      " [3345.39573643 3347.51143391 3347.003495   3346.98172934]\n",
      " [4572.52332589 4571.19283378 4573.16320355    0.        ]\n",
      " [4207.39370551 4202.99489405 4205.11037263 4205.75364196]]\n",
      "*New f_ef flattened\n",
      "[3882.6760964004225, 0.0, 3882.593023159515, 3882.5465667921762, 3345.3957364303, 3347.511433910277, 3347.003494996075, 3346.9817293387923, 4572.523325892487, 4571.192833780465, 4573.163203546355, 0.0, 4207.393705511716, 4202.994894046403, 4205.110372632136, 4205.753641959673]\n",
      "[{}, {}, {'Qubit EF freq': 4573.163203546355, 'T2R EF': 12.358488123552204, 'T2R EF err': 3.5325760256777525}, {}]\n"
     ]
    }
   ],
   "source": [
    "# # TESTING\n",
    "# # t2EFr = meas.RamseyExperiment(config_file=config_path)\n",
    "# temp_data, attrs = prev_data(expt_path, '00000_ramsey_qubit2.h5')\n",
    "# t2EFr.data = temp_data\n",
    "\n",
    "t2EFr.analyze(fit=True)\n",
    "t2EFr_fit, t2EFr_fit_err, t2EFr_adjust = meas.fitting.get_best_fit(t2EFr.data, get_best_data_params=['f_adjust_ramsey'])\n",
    "old_qubit_freq = np.reshape(t2EFr.cfg.device.qubit.f_ef, (4,4))[qubit_i, qubit_i]\n",
    "\n",
    "if not isinstance(t2EFr_fit, (list, np.ndarray)):\n",
    "    t2EFr.display(fit=False)\n",
    "    assert False, 'Fit failed, please manually fix!'\n",
    "t2EFr.display(fit=True)\n",
    "yaml_cfg.device.qubit.f_ef = np.reshape(yaml_cfg.device.qubit.f_ef, (4,4))\n",
    "yaml_cfg.device.qubit.f_ef[qubit_i, qubit_i] = old_qubit_freq + t2EFr_adjust[0]\n",
    "alt_qubit_freq = old_qubit_freq + t2EFr_adjust[1]\n",
    "print(f'*Set qubit {qubit_i} EF freq to {yaml_cfg.device.qubit.f_ef[qubit_i, qubit_i]}*')\n",
    "results_Qi.update({'Qubit EF freq':yaml_cfg.device.qubit.f_ef[qubit_i, qubit_i] + yaml_cfg.hw.soc.dacs.qubit.mixer_freq[qubit_i]})\n",
    "print(f'*New f_ef\\n', yaml_cfg.device.qubit.f_ef)\n",
    "yaml_cfg.device.qubit.f_ef = yaml_cfg.device.qubit.f_ef.flatten().tolist()\n",
    "print(f'*New f_ef flattened\\n{yaml_cfg.device.qubit.f_ef}')\n",
    "results_Qi.update({'T2R EF':t2EFr_fit[3], 'T2R EF err':np.sqrt(t2EFr_fit_err[3][3])})\n",
    "print(all_results)"
   ]
  },
  {
   "cell_type": "code",
   "execution_count": 64,
   "metadata": {},
   "outputs": [],
   "source": [
    "if save_data: saved_files.append(t2EFr.save_data())"
   ]
  },
  {
   "cell_type": "markdown",
   "metadata": {},
   "source": [
    "## Amplitude EF Rabi round 2"
   ]
  },
  {
   "cell_type": "code",
   "execution_count": 100,
   "metadata": {},
   "outputs": [
    {
     "name": "stdout",
     "output_type": "stream",
     "text": [
      "qubit 2 pi_lenEF 0.015\n"
     ]
    }
   ],
   "source": [
    "pi_lenEF = np.reshape(yaml_cfg.device.qubit.pulses.pi_ef.sigma, (4,4))[qubit_i, qubit_i]\n",
    "# pi_lenEF = 0.030\n",
    "print('qubit', qubit_i, 'pi_lenEF', pi_lenEF)"
   ]
  },
  {
   "cell_type": "code",
   "execution_count": 101,
   "metadata": {},
   "outputs": [
    {
     "name": "stdout",
     "output_type": "stream",
     "text": [
      "Running amp rabi EF on Q2 \n"
     ]
    },
    {
     "data": {
      "application/vnd.jupyter.widget-view+json": {
       "model_id": "84768fe458ad4cf6bcd192fc51e1d79d",
       "version_major": 2,
       "version_minor": 0
      },
      "text/plain": [
       "  0%|          | 0/10 [00:00<?, ?it/s]"
      ]
     },
     "metadata": {},
     "output_type": "display_data"
    },
    {
     "name": "stdout",
     "output_type": "stream",
     "text": [
      "WARNING: not sure if single shot checking makes sense when there are multiple rounds of averaging... use at your own risk\n",
      "(4, 101, 100)\n"
     ]
    }
   ],
   "source": [
    "amprabiEF = meas.AmplitudeRabiExperiment(\n",
    "    soccfg=soc,\n",
    "    path=expt_path,\n",
    "    prefix=\"amp_rabi_EF\"+f\"_qubit{qubit_i}\",\n",
    "    config_file=config_path,\n",
    ")\n",
    "\n",
    "amprabiEF.cfg = AttrDict(deepcopy(yaml_cfg))\n",
    "\n",
    "span = min((32000, int(4*np.reshape(yaml_cfg.device.qubit.pulses.pi_ef.gain, (4,4))[qubit_i, qubit_i])))\n",
    "npts = 101\n",
    "\n",
    "amprabiEF.cfg.expt = dict(\n",
    "    start=1, # qubit gain [dac level]\n",
    "    step=int(span/npts), # [dac level]\n",
    "    expts=npts,\n",
    "    reps=reps,\n",
    "    rounds=rounds,\n",
    "    sigma_test=pi_lenEF, # gaussian sigma for pulse length - default from cfg [us]\n",
    "    pulse_type='gauss',\n",
    "    checkEF=True, \n",
    "    qTest=qubit_i,\n",
    "    qZZ=None,\n",
    "    resonator_reset=resonator_reset,\n",
    "    full_mux_expt=full_mux_expt,\n",
    ")\n",
    "\n",
    "# print(amprabiEF.cfg)\n",
    "amprabiEF.go(analyze=False, display=False, progress=True, save=False)"
   ]
  },
  {
   "cell_type": "code",
   "execution_count": 102,
   "metadata": {},
   "outputs": [
    {
     "name": "stdout",
     "output_type": "stream",
     "text": [
      "best 1 0.011447329491976745\n",
      "Pi gain from amps data [dac units]: 13292\n",
      "\tPi/2 gain from amps data [dac units]: 6646\n",
      "Pi gain from avgi data [dac units]: 13310\n",
      "\tPi/2 gain from avgi data [dac units]: 6655\n",
      "Pi gain from avgq data [dac units]: 13404\n",
      "\tPi/2 gain from avgq data [dac units]: 6702\n",
      "*Set EF pi pulse sigma for qubit 2 to 0.015*\n",
      "*Set EF pi pulse gain for qubit 2 to 13310*\n",
      "*New pi_ef.gain\n",
      " [[ 1245     0     0     0]\n",
      " [    0  1945     0     0]\n",
      " [    0     0 13310     0]\n",
      " [    0     0     0  3170]]\n",
      "*New pi_ef.gain flattened\n",
      "[1245, 0, 0, 0, 0, 1945, 0, 0, 0, 0, 13310, 0, 0, 0, 0, 3170]\n",
      "{'Single shot g-e fidelity (%)': 81.5993155394424, 'Qubit EF freq': 4573.026110058546, 'Pi EF pulse gain': 13310, 'T2R EF': 8.278462631988553, 'T2R EF err': 3.777303874317057, 'T2E EF': 18.08550220693083, 'T2E EF err': 0.8401806347858306}\n"
     ]
    }
   ],
   "source": [
    "# TESTING\n",
    "# amprabiEF = meas.AmplitudeRabiExperiment(config_file=config_path,)\n",
    "# temp_data, attrs = prev_data(expt_path, '00000_amp_rabi_EF_qubit1.h5')\n",
    "# amprabiEF.data = temp_data\n",
    "\n",
    "# amprabiEF.analyze(fit=False)\n",
    "# amprabiEF.display(fit=False)\n",
    "\n",
    "amprabiEF.analyze(fit=True)\n",
    "\n",
    "amprabiEF_fit, amprabiEF_fit_err = meas.fitting.get_best_fit(amprabiEF.data)\n",
    "\n",
    "p = amprabiEF_fit\n",
    "\n",
    "if p[2] > 180: p[2] = p[2] - 360\n",
    "elif p[2] < -180: p[2] = p[2] + 360\n",
    "if p[2] < 0: pi_gain = (1/2 - p[2]/180)/2/p[1]\n",
    "else: pi_gain = (3/2 - p[2]/180)/2/p[1]\n",
    "\n",
    "if pi_gain > 32000:\n",
    "    amprabiEF.display(fit=False)\n",
    "    print('WARNING: Fit pi pulse gain is long, please double check!')\n",
    "    pi_gain = 30000\n",
    "else: amprabiEF.display(fit=True)\n",
    "\n",
    "print(f'*Set EF pi pulse sigma for qubit {qubit_i} to {np.reshape(yaml_cfg.device.qubit.pulses.pi_ef.sigma, (4,4))[qubit_i, qubit_i]}*')\n",
    "yaml_cfg.device.qubit.pulses.pi_ef.gain = np.reshape(yaml_cfg.device.qubit.pulses.pi_ef.gain, (4,4))\n",
    "yaml_cfg.device.qubit.pulses.pi_ef.gain[qubit_i, qubit_i] = int(pi_gain)\n",
    "print(f'*Set EF pi pulse gain for qubit {qubit_i} to {yaml_cfg.device.qubit.pulses.pi_ef.gain[qubit_i, qubit_i]}*')\n",
    "results_Qi.update({'Pi EF pulse gain':yaml_cfg.device.qubit.pulses.pi_ef.gain[qubit_i, qubit_i]})\n",
    "print(f'*New pi_ef.gain\\n', yaml_cfg.device.qubit.pulses.pi_ef.gain)\n",
    "yaml_cfg.device.qubit.pulses.pi_ef.gain = yaml_cfg.device.qubit.pulses.pi_ef.gain.flatten().astype(int).tolist()\n",
    "print(f'*New pi_ef.gain flattened\\n{yaml_cfg.device.qubit.pulses.pi_ef.gain}')\n",
    "print(results_Qi)"
   ]
  },
  {
   "cell_type": "code",
   "execution_count": 292,
   "metadata": {},
   "outputs": [],
   "source": [
    "if save_data: saved_files.append(amprabiEF.save_data())"
   ]
  },
  {
   "cell_type": "markdown",
   "metadata": {},
   "source": [
    "## EF Ramsey Fringe Round 2\n",
    "Update the T2 EF but not the frequency"
   ]
  },
  {
   "cell_type": "code",
   "execution_count": 103,
   "metadata": {},
   "outputs": [],
   "source": [
    "# yaml_cfg.device.qubit.f_ge[qubit_i] = 145.572034953271\n",
    "# qubitEF_hwhm = 7\n",
    "# short_T1 = False"
   ]
  },
  {
   "cell_type": "code",
   "execution_count": 40,
   "metadata": {},
   "outputs": [
    {
     "name": "stdout",
     "output_type": "stream",
     "text": [
      "gain 1242\n",
      "gain 1616\n",
      "gain 6527\n",
      "gain 1575\n",
      "gain 6527\n",
      "gain 6527\n",
      "Running Ramsey EF on Q2 \n"
     ]
    },
    {
     "data": {
      "application/vnd.jupyter.widget-view+json": {
       "model_id": "5009452fd47246aa80f35d31faf5cb3b",
       "version_major": 2,
       "version_minor": 0
      },
      "text/plain": [
       "  0%|          | 0/10 [00:00<?, ?it/s]"
      ]
     },
     "metadata": {},
     "output_type": "display_data"
    },
    {
     "name": "stdout",
     "output_type": "stream",
     "text": [
      "WARNING: not sure if single shot checking makes sense when there are multiple rounds of averaging... use at your own risk\n"
     ]
    }
   ],
   "source": [
    "t2EFr_2 = meas.RamseyExperiment(\n",
    "    soccfg=soc,\n",
    "    path=expt_path,\n",
    "    prefix=\"ramseyEF\"+f\"_qubit{qubit_i}\",\n",
    "    config_file=config_path,\n",
    ")\n",
    "\n",
    "t2EFr_2.cfg = AttrDict(deepcopy(yaml_cfg))\n",
    "\n",
    "t2EFr_2.cfg.expt = dict(\n",
    "    start=0, # wait time tau [us]\n",
    "    step=soc.cycles2us(80), # [us] make sure nyquist freq = 0.5 * (1/step) > ramsey (signal) freq!\n",
    "    # step=soc.cycles2us(40), # [us] make sure nyquist freq = 0.5 * (1/step) > ramsey (signal) freq!\n",
    "    # step=0.05, # [us]\n",
    "    expts=151,\n",
    "    ramsey_freq=ramseyEF_freq/5, # [MHz]\n",
    "    checkEF=True,\n",
    "    reps=reps,\n",
    "    rounds=rounds,\n",
    "    qTest=qubit_i,\n",
    "    qZZ=None,\n",
    ")\n",
    "\n",
    "try:\n",
    "    t2EFr_2.go(analyze=False, display=False, progress=True, save=False)\n",
    "except Exception:\n",
    "    print(\"Pyro traceback:\")\n",
    "    print(\"\".join(Pyro4.util.getPyroTraceback()))"
   ]
  },
  {
   "cell_type": "code",
   "execution_count": 41,
   "metadata": {},
   "outputs": [
    {
     "name": "stdout",
     "output_type": "stream",
     "text": [
      "best 2 0.06676006672388451\n",
      "Current pi pulse frequency: 4573.0141763510965\n",
      "Fit frequency from amps [MHz]: 0.3875217144710908 +/- 0.004848613832952837\n",
      "Suggested new pi pulse frequencies from fit amps [MHz]:\n",
      " \t4573.026654636626\n",
      " \t4572.226654636625\n",
      "T2 Ramsey from fit amps [us]: 8.314732142857144 +/- 2.1993663138593638\n",
      "Current pi pulse frequency: 4573.0141763510965\n",
      "Fit frequency from I [MHz]: 0.3962873180664751 +/- 0.0038174530467537443\n",
      "Suggested new pi pulse frequency from fit I [MHz]:\n",
      " \t4573.01788903303\n",
      " \t4572.21788903303\n",
      "T2 Ramsey from fit I [us]: 8.314732142857144 +/- 1.6057627388074527\n",
      "Fit frequency from Q [MHz]: 0.4079148605493975 +/- 0.003053385750103629\n",
      "Suggested new pi pulse frequencies from fit Q [MHz]:\n",
      " \t4573.006261490547\n",
      " \t4572.206261490547\n",
      "T2 Ramsey from fit Q [us]: 8.314732142857144 +/- 1.2761023480133218\n",
      "{'Qubit EF freq': 4573.0141763510965, 'T2R EF': 8.314732142857144, 'T2R EF err': 1.2761023480133218}\n"
     ]
    }
   ],
   "source": [
    "# # TESTING\n",
    "# # t2EFr_2 = meas.RamseyExperiment(config_file=config_path)\n",
    "# temp_data, attrs = prev_data(expt_path, '00000_ramsey_qubit2.h5')\n",
    "# t2EFr_2.data = temp_data\n",
    "\n",
    "t2EFr_2.analyze(fit=True)\n",
    "t2EFr_2_fit, t2EFr_2_fit_err, t2EFr_2_adjust = meas.fitting.get_best_fit(t2EFr_2.data, get_best_data_params=['f_adjust_ramsey'])\n",
    "old_qubit_freq = np.reshape(t2EFr_2.cfg.device.qubit.f_ef, (4,4))[qubit_i, qubit_i]\n",
    "\n",
    "if not isinstance(t2EFr_2_fit, (list, np.ndarray)):\n",
    "    t2EFr_2.display(fit=False)\n",
    "    assert False, 'Fit failed, please manually fix!'\n",
    "t2EFr_2.display(fit=True)\n",
    "\n",
    "if t2EFr_2_adjust[0] > ramseyEF_freq/10:\n",
    "    print('WARNING: your EF frequency is not converging!')\n",
    "else:\n",
    "    # yaml_cfg.device.qubit.f_ef = np.reshape(yaml_cfg.device.qubit.f_ef, (4,4))\n",
    "    # yaml_cfg.device.qubit.f_ef[qubit_i, qubit_i] = old_qubit_freq + t2EFr_2_adjust[0]\n",
    "    # print(f'*Set qubit {qubit_i} EF freq to {yaml_cfg.device.qubit.f_ef[qubit_i]}*')\n",
    "    # print(f'*New f_ef\\n', yaml_cfg.device.qubit.f_ef)\n",
    "    # yaml_cfg.device.qubit.f_ef = yaml_cfg.device.qubit.f_ef.flatten().tolist()\n",
    "    # print(f'*New f_ef flattened\\n{yaml_cfg.device.qubit.f_ef}')\n",
    "    results_Qi.update({'T2R EF':t2EFr_2_fit[3], 'T2R EF err':np.sqrt(t2EFr_2_fit_err[3][3])})\n",
    "    # results_Qi.update({'Qubit EF freq':yaml_cfg.device.qubit.f_ef[qubit_i] + yaml_cfg.hw.soc.dacs.qubit.mixer_freq[qubit_i]})\n",
    "    print(results_Qi)"
   ]
  },
  {
   "cell_type": "code",
   "execution_count": null,
   "metadata": {},
   "outputs": [],
   "source": [
    "if save_data: saved_files.append(t2EFr.save_data())"
   ]
  },
  {
   "cell_type": "markdown",
   "metadata": {},
   "source": [
    "## EF $T_2$ Echo"
   ]
  },
  {
   "cell_type": "code",
   "execution_count": 1,
   "metadata": {},
   "outputs": [
    {
     "name": "stdout",
     "output_type": "stream",
     "text": [
      "Short T1 False\n"
     ]
    }
   ],
   "source": [
    "# yaml_cfg.device.qubit.f_ge[qubit_i] = 145.572034953271\n",
    "qubit_hwhm = 2\n",
    "short_T1 = False\n",
    "# short_T1 = True\n",
    "# short_T1 = yaml_cfg.device.qubit.T1[qubit_i] < 20\n",
    "print('Short T1', short_T1)"
   ]
  },
  {
   "cell_type": "code",
   "execution_count": 2,
   "metadata": {},
   "outputs": [
    {
     "ename": "NameError",
     "evalue": "name 'meas' is not defined",
     "output_type": "error",
     "traceback": [
      "\u001b[1;31m---------------------------------------------------------------------------\u001b[0m",
      "\u001b[1;31mNameError\u001b[0m                                 Traceback (most recent call last)",
      "Cell \u001b[1;32mIn[2], line 1\u001b[0m\n\u001b[1;32m----> 1\u001b[0m t2EFe \u001b[38;5;241m=\u001b[39m \u001b[43mmeas\u001b[49m\u001b[38;5;241m.\u001b[39mRamseyExperiment(\n\u001b[0;32m      2\u001b[0m     soccfg\u001b[38;5;241m=\u001b[39msoc,\n\u001b[0;32m      3\u001b[0m     path\u001b[38;5;241m=\u001b[39mexpt_path,\n\u001b[0;32m      4\u001b[0m     prefix\u001b[38;5;241m=\u001b[39m\u001b[38;5;124mf\u001b[39m\u001b[38;5;124m\"\u001b[39m\u001b[38;5;124mecho_qubit\u001b[39m\u001b[38;5;132;01m{\u001b[39;00mqubit_i\u001b[38;5;132;01m}\u001b[39;00m\u001b[38;5;124m\"\u001b[39m,\n\u001b[0;32m      5\u001b[0m     config_file\u001b[38;5;241m=\u001b[39mconfig_path,\n\u001b[0;32m      6\u001b[0m )\n\u001b[0;32m      7\u001b[0m t2EFe\u001b[38;5;241m.\u001b[39mcfg \u001b[38;5;241m=\u001b[39m AttrDict(deepcopy(yaml_cfg))\n\u001b[0;32m      9\u001b[0m t2EFe\u001b[38;5;241m.\u001b[39mcfg\u001b[38;5;241m.\u001b[39mexpt \u001b[38;5;241m=\u001b[39m \u001b[38;5;28mdict\u001b[39m(\n\u001b[0;32m     10\u001b[0m     start\u001b[38;5;241m=\u001b[39m\u001b[38;5;241m0\u001b[39m, \u001b[38;5;66;03m# total wait time b/w the two pi/2 pulses [us]\u001b[39;00m\n\u001b[0;32m     11\u001b[0m     \u001b[38;5;66;03m# step=soc.cycles2us(80), # make sure nyquist freq = 0.5*(1/step) > ramsey (signal) freq!\u001b[39;00m\n\u001b[1;32m   (...)\u001b[0m\n\u001b[0;32m     22\u001b[0m     checkEF\u001b[38;5;241m=\u001b[39m\u001b[38;5;28;01mTrue\u001b[39;00m,\n\u001b[0;32m     23\u001b[0m )\n",
      "\u001b[1;31mNameError\u001b[0m: name 'meas' is not defined"
     ]
    }
   ],
   "source": [
    "t2EFe = meas.RamseyExperiment(\n",
    "    soccfg=soc,\n",
    "    path=expt_path,\n",
    "    prefix=f\"echo_qubit{qubit_i}\",\n",
    "    config_file=config_path,\n",
    ")\n",
    "t2EFe.cfg = AttrDict(deepcopy(yaml_cfg))\n",
    "\n",
    "t2EFe.cfg.expt = dict(\n",
    "    start=0, # total wait time b/w the two pi/2 pulses [us]\n",
    "    # step=soc.cycles2us(80), # make sure nyquist freq = 0.5*(1/step) > ramsey (signal) freq!\n",
    "    step=soc.cycles2us(30) if short_T1 else soc.cycles2us(80), # [us] \n",
    "    expts=201,\n",
    "    ramsey_freq=ramseyEF_freq/10, # frequency by which to advance phase [MHz]\n",
    "    num_pi=1, # number of pi pulses\n",
    "    echo_type='cpmg', # cp or cpmg\n",
    "    reps=reps,\n",
    "    # reps=10,\n",
    "    rounds=rounds,\n",
    "    qTest=qubit_i,\n",
    "    qZZ=None,\n",
    "    checkEF=True,\n",
    ")\n",
    "t2EFe.go(analyze=False, display=False, progress=True, save=False)"
   ]
  },
  {
   "cell_type": "code",
   "execution_count": 66,
   "metadata": {},
   "outputs": [
    {
     "name": "stdout",
     "output_type": "stream",
     "text": [
      "Qubit 2\n",
      "best 2 0.020396588112144686\n",
      "Current pi pulse frequency: 4572.992628188545\n",
      "Fit frequency from amps [MHz]: 0.19973560482332373 +/- 0.00043259641175618003\n",
      "Suggested new pi pulse frequencies from fit amps [MHz]:\n",
      " \t4572.992892583721\n",
      " \t4572.592892583722\n",
      "T2 Ramsey from fit amps [us]: 20.61495980530881 +/- 1.1541883851538433\n",
      "Current pi pulse frequency: 4572.992628188545\n",
      "Fit frequency from I [MHz]: 0.19937379220565327 +/- 0.0004385508092021688\n",
      "Suggested new pi pulse frequency from fit I [MHz]:\n",
      " \t4572.993254396339\n",
      " \t4572.593254396339\n",
      "T2 Ramsey from fit I [us]: 18.773885363354914 +/- 0.9701854385168508\n",
      "Fit frequency from Q [MHz]: 0.1992007738696078 +/- 0.00041072211936617355\n",
      "Suggested new pi pulse frequencies from fit Q [MHz]:\n",
      " \t4572.993427414675\n",
      " \t4572.593427414675\n",
      "T2 Ramsey from fit Q [us]: 18.08550220693083 +/- 0.8401806347858306\n",
      "{'Single shot g-e fidelity (%)': 81.5993155394424, 'Qubit EF freq': 4572.992628188545, 'Pi EF pulse gain': 13391, 'T2R EF': 8.314732142857144, 'T2R EF err': 0.7893180349148079, 'T2E EF': 18.08550220693083, 'T2E EF err': 0.8401806347858306}\n"
     ]
    }
   ],
   "source": [
    "# # TESTING\n",
    "# # t2e = meas.RamseyEchoExperiment(config_file=config_path)\n",
    "# temp_data, attrs = prev_data(expt_path, '00000_echo_qubit1.h5')\n",
    "# t2e.data = temp_data\n",
    "\n",
    "print(f'Qubit {qubit_i}')\n",
    "t2EFe.analyze(fit=True)\n",
    "\n",
    "t2EFe_fit, t2EFe_fit_err = meas.fitting.get_best_fit(t2EFe.data)\n",
    "\n",
    "if not isinstance(t2EFe_fit, (list, np.ndarray)):\n",
    "    t2EFe.display(fit=False)\n",
    "    assert False, 'Fit failed, please manually fix!'\n",
    "\n",
    "t2EFe.display(fit=True)\n",
    "results_Qi.update({'T2E EF':t2EFe_fit[3], 'T2E EF err':np.sqrt(t2EFe_fit_err[3][3])})\n",
    "print(results_Qi)\n",
    "# print('Results updated.')"
   ]
  },
  {
   "cell_type": "code",
   "execution_count": null,
   "metadata": {},
   "outputs": [],
   "source": [
    "if save_data: saved_files.append(t2e.save_data())"
   ]
  },
  {
   "cell_type": "markdown",
   "metadata": {},
   "source": [
    "## EF error amplification"
   ]
  },
  {
   "cell_type": "code",
   "execution_count": 42,
   "metadata": {},
   "outputs": [
    {
     "name": "stdout",
     "output_type": "stream",
     "text": [
      "{'device': {'readout': {'trig_offset': 150, 'lo_sideband': [1, 1, 1, 1], 'frequency': [-389.975, 5795.761666663333, 502.368233333334, -228.9], 'gain': [0.4, 0.5, 0.3, 0.2], 'readout_length': [5, 20, 10, 8], 'frequency_ef': [-391.91408405, 5795.76166666, 500.44439227, -230.30732892], 'gain_ef': [0.05, 0.6, 0.4, 0.25], 'readout_length_ef': [1, 20, 10, 8], 'relax_delay': [450, 450, 450, 450]}, 'qubit': {'f_ge': [4108.6352143528575, 4103.243553024718, 4108.491689964749, 4108.066288400736, 3442.8688097468294, 3448.2597196742877, 3447.149851461427, 3446.943321983037, 4759.488589798401, 4758.50698515513, 4759.617265888647, 4759.085816492836, 4377.407821334912, 4376.654922763285, 4377.445747133665, 4377.972703369784], 'f_ef': [3882.584812861004, 0.0, 3882.593023159515, 3882.5465667921762, 3345.3957364303, 3347.8123422280078, 3347.003494996075, 3346.9817293387923, 4569.728581643396, 4568.311187621723, 4573.709286177009, 0.0, 4206.708200302393, 4202.366145184353, 4205.110372632136, 4205.162855964244], 'f_EgGf': [2686.53594683, 0, 2017.3, 2414.92850999], 'f_EgGf_Q_half': [0, 0, 5885.6717699723895, 5138], 'f_EgGf_Q': [0, 0, 5880.504550983305, 5132.386793750588], 'f_f0g1': [1184.4, 999.8, 1632.9833333333333, 1620.9166666666665], 'gs': [52.40296404695958, 54.81794456602636, 43.49513117058557, 4.930653352423196, 2.6415018214608046, 6.386231497692186], 'pulses': {'pi_ge': {'sigma': [0.02, 0.02, 0.02, 0.02, 0.025, 0.025, 0.025, 0.025, 0.015, 0.015, 0.015, 0.015, 0.025, 0.025, 0.025, 0.025], 'gain': [1849, 1914, 0, 1855, 2834, 2504, 2648, 2631, 9155, 9155, 9155, 9155, 3000, 3000, 3000, 3000], 'half_gain': [1850, 1835, 1873, 1867, 2382, 2186, 2248, 2289, 9253, 9253, 9253, 9253, 3120, 3120, 3120, 3120], 'half_correction_phase': [0, 0, 0, 0, 0, 0, 0, 0, 0, 0, 0, 0, 0, 0, 0, 0], 'half_gain_pi_sigma': [927, 0, 0, 0, 0, 1315, 0, 0, 0, 0, 7212, 0, 0, 0, 0, 460], 'type': 'gauss'}, 'pi_ef': {'sigma': [0.02, 0.02, 0.02, 0.02, 0.025, 0.025, 0.025, 0.025, 0.015, 0.015, 0.015, 0.015, 0.03, 0.03, 0.03, 0.03], 'gain': [1245, 0, 0, 0, 0, 1945, 0, 0, 0, 0, 13241, 0, 0, 0, 0, 1500], 'half_gain': [1243, 0, 0, 0, 0, 1619, 0, 0, 0, 6472, 6501, 0, 1427, 1601, 0, 1647], 'half_gain_pi_sigma': [673, 0, 0, 0, 0, 975, 0, 0, 0, 0, 3049, 0, 0, 0, 0, 1000], 'type': 'gauss'}, 'pi_EgGf': {'gain': [32000, 0, 30000, 16000], 'sigma': [0.586, 0, 0.8, 0.44643], 'type': 'flat_top'}, 'pi_EgGf_Q': {'half_gain': [0, 0, 12147, 14500], 'half_sigma': [0, 0, 0.231, 0.095], 'half_phase': [0, 0, 0.0, 0.0], 'gain': [0, 0, 24647, 24647], 'sigma': [0, 0, 0.245, 0.17], 'phase': [0, 0, 0.0, 0.0], 'type': 'flat_top'}, 'pi_f0g1': {'gain': [32000, 32000, 32000, 32000], 'sigma': [0.536, 0.585, 1.54, 1.04], 'idle': [3, 6, 12, 8], 'type': 'flat_top'}, 'pulse_pp': {'gain': [1750, 3550, 0, 0], 'filename': '240920_3_qram_4q_2qubit_++gg'}, 'pulse_1p': {'gain': [3500, 4375, 0, 0], 'filename': '240920_qram_4q_2qubit_e+gg'}, 'pulse_p1': {'gain': [3000, 5530, 0, 0], 'filename': '240920_qram_4q_2qubit_+egg'}, 'pihalf_ge_robust': {'gain': [7451, 7595, 7471, 7481, 4814, 4439, 4480, 4444, 20200, 20192, 20179, 20192, 11953, 11830, 11955, 11977], 'correction_phase': [12.771425603678084, 9.29781534792422, 12.148832830416332, 12.606633130020677, 0.5240598981582869, 0.09597764248557632, 0.4904676360127895, 0.5010312704801453, 3.188071848236603, 3.9528509857168133, 3.362799571771103, 3.4772643408463932, 24.59157228879068, 25.141388249665564, 24.334798838915013, 24.76925501106077], 'filename': ['X_2_Q0', 'X_2_Q1', 'X_2_Q2', 'X_2_Q3']}, 'pi_ge_slow': {'gain': [-1, 100, -1, -1], 'sigma': [-1, 0.25, -1, -1], 'type': 'gauss'}, 'pi_Q1_ZZ_slow': {'gain': [100, 0, -1, -1], 'sigma': [0.25, 0, -1, -1], 'type': 'gauss'}}}}, 'hw': {'soc': {'dacs': {'qubit': {'ch': [0, 1, 2, 3], 'type': 'full', 'nyquist': [2, 1, 2, 2], 'mixer_freq': [0, 0, 0, 0]}, 'swap': {'ch': 1, 'type': 'full', 'nyquist': 1, 'mixer_freq': 0}, 'swap_f0g1': {'ch': [1, 1, 5, 5], 'type': ['full', 'full', 'full', 'full'], 'nyquist': 1, 'mixer_freq': 0}, 'swap_Q': {'ch': [0, -1, 2, 3], 'type': ['full', 'None', 'full', 'full'], 'nyquist': [2, 0, 2, 2], 'mixer_freq': 0}, 'readout': {'ch': [6, 4, 6, 6], 'full_mux_chs': [5, 4, 5, 5], 'type': ['mux4', 'full', 'mux4', 'mux4'], 'mixer_freq': [7200, 0, 7200, 7200], 'nyquist': [2, 2, 2, 2]}, 'res_pump': {'ch': 4, 'type': 'full', 'mixer_freq': 0, 'nyquist': 2}, 'delay_chs': {'ch': [0, 1, 2, 3, 4, 5, 6], 'delay_ns': [0.0, 2.0, 2.0, 0.0, 25, 24, 73]}}, 'adcs': {'readout': {'ch': [0, 1, 2, 3]}}}, 'lo': {'twpa': {'frequency': '8210.0e6', 'power': -1.5}, 'readout': {'frequency': 0, 'power': 0}}}, 'aliases': {'readout_LO': 'SC_20A1', 'twpa_LO': 'SC_26C1', 'soc': 'Qick_QRAM'}, 'expt': {'start': 0, 'step': 1, 'expts': 10, 'reps': 1000, 'loops': 10, 'pulse_type': 'gauss', 'checkEF': True, 'qTest': 2, 'qZZ': None, 'test_pi_half': False, 'error_amp': True, 'resonator_reset': None, 'full_mux_expt': False, 'post_process': 'scale', 'singleshot_reps': 15000}}\n"
     ]
    },
    {
     "data": {
      "application/vnd.jupyter.widget-view+json": {
       "model_id": "ca22735393824916b6de38b0b3f5ae22",
       "version_major": 2,
       "version_minor": 0
      },
      "text/plain": [
       "  0%|          | 0/2 [00:00<?, ?it/s]"
      ]
     },
     "metadata": {},
     "output_type": "display_data"
    },
    {
     "name": "stdout",
     "output_type": "stream",
     "text": [
      "Qubit  (2)\n",
      "g unrotated averages:\n",
      "I 12.254994596354166 +/- 17.173254528351915 \t Q -2.334147482638889 +/- 16.480928939024064 \t Amp 23.51503743869217 +/- 13.008375804573193\n",
      "Rotated (theta=0.46690709417052384):\n",
      "I 11.993940101494733 +/- 17.46113359682598 \t Q 3.4319874517742344 +/- 16.17561446444973 \t Amp 12.475301079628473 +/- 13.008375804573193\n",
      "e unrotated averages:\n",
      "I 42.26288747829861 +/- 22.716562865942937 \t Q -17.46055679253472 +/- 17.91547551558382 \t Amp 49.898340920490334 +/- 20.932863308276794\n",
      "Rotated (theta=0.46690709417052384):\n",
      "I 45.598729846778895 +/- 23.750188339419836 \t Q 3.4319874517742326 +/- 16.520745904283718 \t Amp 45.72770168627176 +/- 20.932863308276794\n",
      "ge fidelity (%): 62.35333333333335 \t angle (deg): 26.751805920688298 \t threshold ge: 30.544836886144537\n"
     ]
    },
    {
     "data": {
      "application/vnd.jupyter.widget-view+json": {
       "model_id": "5e63984a1b914f1082f4b0cf0fa8c724",
       "version_major": 2,
       "version_minor": 0
      },
      "text/plain": [
       "  0%|          | 0/10 [00:00<?, ?it/s]"
      ]
     },
     "metadata": {},
     "output_type": "display_data"
    },
    {
     "name": "stderr",
     "output_type": "stream",
     "text": [
      "RuntimeWarning: divide by zero encountered in divide\n",
      " s:\\Seb\\experiements\\qram_tprocv1_expts\\experiments\\clifford_averager_program.py: 1877"
     ]
    }
   ],
   "source": [
    "npulsecalibEF = meas.NPulseExperiment(\n",
    "    soccfg=soc,\n",
    "    path=expt_path,\n",
    "    prefix=f\"NPulseExptEFQ{qubit_i}\",\n",
    "    config_file=config_path,\n",
    ")\n",
    "\n",
    "npulsecalibEF.cfg = AttrDict(deepcopy(yaml_cfg))\n",
    "npulsecalibEF.cfg.expt = dict(\n",
    "    start=0, # number gate repetitions\n",
    "    step=1,\n",
    "    expts=10,\n",
    "    reps=1000,\n",
    "    loops=10,\n",
    "    pulse_type='gauss',\n",
    "    checkEF=True, \n",
    "    qTest=qubit_i,\n",
    "    qZZ=None,\n",
    "    test_pi_half=False,\n",
    "    error_amp=True,\n",
    "    resonator_reset=resonator_reset,\n",
    "    full_mux_expt=full_mux_expt,\n",
    "\n",
    "    post_process='scale',\n",
    "    singleshot_reps=15000,\n",
    "    # singleshot_reps=1000,\n",
    ")\n",
    "\n",
    "print(npulsecalibEF.cfg)\n",
    "try:\n",
    "    npulsecalibEF.acquire(progress=True, debug=False)\n",
    "except Exception:\n",
    "    print(\"Pyro traceback:\")\n",
    "    print(\"\".join(Pyro4.util.getPyroTraceback()))"
   ]
  },
  {
   "cell_type": "code",
   "execution_count": 43,
   "metadata": {},
   "outputs": [
    {
     "name": "stdout",
     "output_type": "stream",
     "text": [
      "fitparams [None, 0.017453292519943295]\n",
      "From amps: adjust amplitude to 6501 / 0.9974906391261065 = 6517.354394117898\n",
      "From avgi: adjust amplitude to 6501 / 0.9943489561683252 = 6537.946220662094\n",
      "From avgq: adjust amplitude to 6501 / 0.9994160582687442 = 6504.798423252744\n",
      "*Set EF pi pulse gain for qubit 2 to 13316*\n",
      "*New pi_ef.gain\n",
      " [[ 1245     0     0     0]\n",
      " [    0  1945     0     0]\n",
      " [    0     0 13316     0]\n",
      " [    0     0     0  1500]]\n",
      "*New pi_ef.gain flattened\n",
      "[1245, 0, 0, 0, 0, 1945, 0, 0, 0, 0, 13316, 0, 0, 0, 0, 1500]\n",
      "{'Qubit EF freq': 4573.709286177009, 'T2R EF': 15.233515280933435, 'T2R EF err': 1.6586265411281977, 'Pi EF pulse gain': 13316, 'T2E EF': 21.632448119150048, 'T2E EF err': 1.6481093691006576}\n"
     ]
    }
   ],
   "source": [
    "# # TESTING\n",
    "# temp_data, attrs = prev_data(expt_path, '00000_voltage_sweep_qubit_spectroscopy_qubit3.h5')\n",
    "# data = lengthrabi.analyze(data=temp_data, fit=True)\n",
    "\n",
    "data = npulsecalibEF.data\n",
    "npulsecalibEF.analyze(fit=True)\n",
    "npulsecalibEF.display(fit=True)\n",
    "\n",
    "# npulsecalib_fit, npulsecalib_fit_err = meas.fitting.get_best_fit(npulsecalibEF.data)\n",
    "fit_axis = 'avgi'\n",
    "npulsecalibEF_fit = data[f'fit_{fit_axis}']\n",
    "npulsecalibEF_fit_err = data[f'fit_err_{fit_axis}']\n",
    "\n",
    "angle_err = npulsecalibEF_fit[1]\n",
    "amp_ratio = (180 - angle_err) / 180\n",
    "new_amp_ef = np.reshape(npulsecalibEF.cfg.device.qubit.pulses.pi_ef.gain, (4,4))[qubit_i, qubit_i] / amp_ratio\n",
    "\n",
    "yaml_cfg.device.qubit.pulses.pi_ef.gain = np.reshape(yaml_cfg.device.qubit.pulses.pi_ef.gain, (4,4))\n",
    "yaml_cfg.device.qubit.pulses.pi_ef.gain[qubit_i, qubit_i] = int(round(new_amp_ef))\n",
    "print(f'*Set EF pi pulse gain for qubit {qubit_i} to {yaml_cfg.device.qubit.pulses.pi_ef.gain[qubit_i, qubit_i]}*')\n",
    "results_Qi.update({'Pi EF pulse gain':yaml_cfg.device.qubit.pulses.pi_ef.gain[qubit_i, qubit_i]})\n",
    "print(f'*New pi_ef.gain\\n', yaml_cfg.device.qubit.pulses.pi_ef.gain)\n",
    "yaml_cfg.device.qubit.pulses.pi_ef.gain = yaml_cfg.device.qubit.pulses.pi_ef.gain.flatten().tolist()\n",
    "print(f'*New pi_ef.gain flattened\\n{yaml_cfg.device.qubit.pulses.pi_ef.gain}')\n",
    "print(results_Qi)"
   ]
  },
  {
   "cell_type": "code",
   "execution_count": null,
   "metadata": {},
   "outputs": [],
   "source": [
    "if save_data: npulsecalibEF.save_data()"
   ]
  },
  {
   "cell_type": "markdown",
   "metadata": {},
   "source": [
    "## (Divide len) Calibrate EF $\\pi/2$ pulse\n",
    "this is mostly only for RB"
   ]
  },
  {
   "cell_type": "markdown",
   "metadata": {},
   "source": [
    "### Amplitude rabi for EF $\\pi/2$ pulse (divide len)"
   ]
  },
  {
   "cell_type": "code",
   "execution_count": 38,
   "metadata": {},
   "outputs": [
    {
     "name": "stdout",
     "output_type": "stream",
     "text": [
      "qubit 3 pi_lenEF 0.03\n"
     ]
    }
   ],
   "source": [
    "pi_lenEF = np.reshape(yaml_cfg.device.qubit.pulses.pi_ef.sigma, (4,4))[qubit_i, qubit_i]\n",
    "# pi_len = 0.008\n",
    "print('qubit', qubit_i, 'pi_lenEF', pi_lenEF)"
   ]
  },
  {
   "cell_type": "code",
   "execution_count": 39,
   "metadata": {},
   "outputs": [],
   "source": [
    "divide_len = True"
   ]
  },
  {
   "cell_type": "code",
   "execution_count": 40,
   "metadata": {},
   "outputs": [
    {
     "name": "stdout",
     "output_type": "stream",
     "text": [
      "Running amp rabi EF on Q3 \n"
     ]
    },
    {
     "data": {
      "application/vnd.jupyter.widget-view+json": {
       "model_id": "01e8d335f6624053b1a7e60d890f004b",
       "version_major": 2,
       "version_minor": 0
      },
      "text/plain": [
       "  0%|          | 0/10 [00:00<?, ?it/s]"
      ]
     },
     "metadata": {},
     "output_type": "display_data"
    },
    {
     "name": "stdout",
     "output_type": "stream",
     "text": [
      "WARNING: not sure if single shot checking makes sense when there are multiple rounds of averaging... use at your own risk\n",
      "(4, 151, 100)\n"
     ]
    }
   ],
   "source": [
    "amprabi_4 = meas.AmplitudeRabiExperiment(\n",
    "    soccfg=soc,\n",
    "    path=expt_path,\n",
    "    prefix=f\"amp_rabi_qubit{qubit_i}\",\n",
    "    config_file=config_path,\n",
    ")\n",
    "amprabi_4.cfg = AttrDict(deepcopy(yaml_cfg))\n",
    "\n",
    "n_pulses = 1\n",
    "span = min((32000, int(1.5*np.reshape(yaml_cfg.device.qubit.pulses.pi_ef.gain, (4,4))[qubit_i, qubit_i])))\n",
    "npts = 151\n",
    "    \n",
    "amprabi_4.cfg.expt = dict(\n",
    "    start=0, # qubit gain [dac level]\n",
    "    step=int(span/npts), # [dac level]\n",
    "    expts=npts,\n",
    "    reps=reps,\n",
    "    # reps=5,\n",
    "    rounds=rounds,\n",
    "    sigma_test=pi_lenEF, # gaussian sigma for pulse length - overrides config [us]\n",
    "    pulse_type='gauss' if not use_robust_pulses else 'robust', # EF pulse will always be gauss, need this because will throw an error otherwise even if only using robust for the g\n",
    "    n_pulses=n_pulses,\n",
    "    test_pi_half=True,\n",
    "    divide_len=divide_len,\n",
    "    qTest=qubit_i,\n",
    "    qZZ=None,\n",
    "    checkEF=True, \n",
    "\n",
    "    full_mux_expt=full_mux_expt,\n",
    "    resonator_reset=resonator_reset,\n",
    "    use_robust_pulses=use_robust_pulses,\n",
    ")\n",
    "amprabi_4.go(analyze=False, display=False, progress=True, save=False)"
   ]
  },
  {
   "cell_type": "code",
   "execution_count": 41,
   "metadata": {},
   "outputs": [
    {
     "name": "stdout",
     "output_type": "stream",
     "text": [
      "best 1 0.015136708401338026\n",
      "Pi gain from amps data [dac units]: 1874\n",
      "\tPi/2 gain from amps data [dac units]: 937\n",
      "Pi gain from avgi data [dac units]: 1750\n",
      "\tPi/2 gain from avgi data [dac units]: 875\n",
      "Pi gain from avgq data [dac units]: 1828\n",
      "\tPi/2 gain from avgq data [dac units]: 914\n",
      "*Set pi/2 EF pulse gain for qubit 3 to 1750*\n",
      "*New pi_ef.half_gain\n",
      " [[1360    0    0    0]\n",
      " [   0 1617    0    0]\n",
      " [   0 5905 6516    0]\n",
      " [1464 1651    0 1750]]\n",
      "*New pi_ef.half_gain flattened\n",
      "[1360, 0, 0, 0, 0, 1617, 0, 0, 0, 5905, 6516, 0, 1464, 1651, 0, 1750]\n",
      "{'Qubit EF freq': 4205.705165183835, 'T2R EF': 8.314732142857144, 'T2R EF err': 3.807735986404127, 'Pi/2 EF pulse gain': 1750}\n"
     ]
    }
   ],
   "source": [
    "# # TESTING\n",
    "# # amprabi_4 = meas.AmplitudeRabiExperiment(config_file=config_path,)\n",
    "# temp_data, attrs = prev_data(expt_path, '00000_amp_rabi_qubit0.h5')\n",
    "# amprabi_4.data = temp_data\n",
    "\n",
    "amprabi_4.analyze(fit=True)\n",
    "\n",
    "amprabi_4_fit, amprabi_4_fit_err = meas.fitting.get_best_fit(amprabi_4.data)\n",
    "\n",
    "p = amprabi_4_fit\n",
    "if p[2] > 180: p[2] = p[2] - 360\n",
    "elif p[2] < -180: p[2] = p[2] + 360\n",
    "if p[2] < 0: pi_gain = (1/2 - p[2]/180)/2/p[1]\n",
    "else: pi_gain = (3/2 - p[2]/180)/2/p[1]\n",
    "\n",
    "if pi_gain > 32000:\n",
    "    amprabi_4.display(fit=False)\n",
    "    print(f'WARNING: Fit pi/2 pulse gain is long ({pi_gain}), please double check!')\n",
    "    pi_gain = 30000\n",
    "else: amprabi_4.display(fit=True)\n",
    "\n",
    "yaml_cfg.device.qubit.pulses.pi_ef.half_gain = np.reshape(yaml_cfg.device.qubit.pulses.pi_ef.half_gain, (4,4))\n",
    "yaml_cfg.device.qubit.pulses.pi_ef.half_gain[qubit_i, qubit_i] = int(pi_gain)\n",
    "print(f'*Set pi/2 EF pulse gain for qubit {qubit_i} to {yaml_cfg.device.qubit.pulses.pi_ef.half_gain[qubit_i, qubit_i]}*')\n",
    "results_Qi.update({'Pi/2 EF pulse gain':yaml_cfg.device.qubit.pulses.pi_ef.half_gain[qubit_i, qubit_i]})\n",
    "print(f'*New pi_ef.half_gain\\n', yaml_cfg.device.qubit.pulses.pi_ef.half_gain)\n",
    "yaml_cfg.device.qubit.pulses.pi_ef.half_gain = yaml_cfg.device.qubit.pulses.pi_ef.half_gain.flatten().astype(int).tolist()\n",
    "print(f'*New pi_ef.half_gain flattened\\n{yaml_cfg.device.qubit.pulses.pi_ef.half_gain}')\n",
    "print(results_Qi)"
   ]
  },
  {
   "cell_type": "code",
   "execution_count": null,
   "metadata": {},
   "outputs": [],
   "source": [
    "if save_data: saved_files.append(amprabi_4.save_data())"
   ]
  },
  {
   "cell_type": "markdown",
   "metadata": {},
   "source": [
    "### EF $\\pi/2$, -$\\pi/2$ experiment"
   ]
  },
  {
   "cell_type": "code",
   "execution_count": 52,
   "metadata": {},
   "outputs": [
    {
     "name": "stdout",
     "output_type": "stream",
     "text": [
      "{'device': {'readout': {'trig_offset': 150, 'lo_sideband': [1, 1, 1, 1], 'frequency': [-389.975, 5795.761666663333, 502.368233333334, -228.9], 'gain': [0.4, 0.5, 0.3, 0.2], 'readout_length': [5, 20, 10, 8], 'frequency_ef': [-391.91408405, 5795.76166666, 500.44439227, -230.30732892], 'gain_ef': [0.05, 0.6, 0.4, 0.25], 'readout_length_ef': [1, 20, 10, 8], 'relax_delay': [450, 450, 450, 450]}, 'qubit': {'f_ge': [4108.6352143528575, 4103.243553024718, 4108.491689964749, 4108.066288400736, 3442.8688097468294, 3448.2597196742877, 3447.149851461427, 3446.943321983037, 4759.488589798401, 4758.50698515513, 4759.617265888647, 4759.085816492836, 4377.407821334912, 4376.654922763285, 4377.445747133665, 4377.972703369784], 'f_ef': [3882.584812861004, 0.0, 3882.593023159515, 3882.5465667921762, 3345.3957364303, 3347.8123422280078, 3347.003494996075, 3346.9817293387923, 4569.728581643396, 4568.311187621723, 4574.269327358868, 0.0, 4206.708200302393, 4202.366145184353, 4205.110372632136, 4205.162855964244], 'f_EgGf': [2686.53594683, 0, 2017.3, 2414.92850999], 'f_EgGf_Q_half': [0, 0, 5885.6717699723895, 5138], 'f_EgGf_Q': [0, 0, 5880.504550983305, 5132.386793750588], 'f_f0g1': [1184.4, 999.8, 1632.9833333333333, 1620.9166666666665], 'gs': [52.40296404695958, 54.81794456602636, 43.49513117058557, 4.930653352423196, 2.6415018214608046, 6.386231497692186], 'pulses': {'pi_ge': {'sigma': [0.02, 0.02, 0.02, 0.02, 0.025, 0.025, 0.025, 0.025, 0.015, 0.015, 0.015, 0.015, 0.025, 0.025, 0.025, 0.025], 'gain': [1849, 1914, 0, 1855, 2834, 2504, 2648, 2631, 9155, 9155, 9155, 9155, 3000, 3000, 3000, 3000], 'half_gain': [1850, 1835, 1873, 1867, 2382, 2186, 2248, 2289, 9253, 9253, 9253, 9253, 3120, 3120, 3120, 3120], 'half_correction_phase': [0, 0, 0, 0, 0, 0, 0, 0, 0, 0, 0, 0, 0, 0, 0, 0], 'half_gain_pi_sigma': [927, 0, 0, 0, 0, 1315, 0, 0, 0, 0, 7212, 0, 0, 0, 0, 460], 'type': 'gauss'}, 'pi_ef': {'sigma': [0.02, 0.02, 0.02, 0.02, 0.025, 0.025, 0.025, 0.025, 0.015, 0.015, 0.015, 0.015, 0.03, 0.03, 0.03, 0.03], 'gain': [1245, 0, 0, 0, 0, 1945, 0, 0, 0, 0, 13316, 0, 0, 0, 0, 1500], 'half_gain': [1243, 0, 0, 0, 0, 1619, 0, 0, 0, 6472, 30000, 0, 1427, 1601, 0, 1647], 'half_gain_pi_sigma': [673, 0, 0, 0, 0, 975, 0, 0, 0, 0, 3049, 0, 0, 0, 0, 1000], 'type': 'gauss'}, 'pi_EgGf': {'gain': [32000, 0, 30000, 16000], 'sigma': [0.586, 0, 0.8, 0.44643], 'type': 'flat_top'}, 'pi_EgGf_Q': {'half_gain': [0, 0, 12147, 14500], 'half_sigma': [0, 0, 0.231, 0.095], 'half_phase': [0, 0, 0.0, 0.0], 'gain': [0, 0, 24647, 24647], 'sigma': [0, 0, 0.245, 0.17], 'phase': [0, 0, 0.0, 0.0], 'type': 'flat_top'}, 'pi_f0g1': {'gain': [32000, 32000, 32000, 32000], 'sigma': [0.536, 0.585, 1.54, 1.04], 'idle': [3, 6, 12, 8], 'type': 'flat_top'}, 'pulse_pp': {'gain': [1750, 3550, 0, 0], 'filename': '240920_3_qram_4q_2qubit_++gg'}, 'pulse_1p': {'gain': [3500, 4375, 0, 0], 'filename': '240920_qram_4q_2qubit_e+gg'}, 'pulse_p1': {'gain': [3000, 5530, 0, 0], 'filename': '240920_qram_4q_2qubit_+egg'}, 'pihalf_ge_robust': {'gain': [7451, 7595, 7471, 7481, 4814, 4439, 4480, 4444, 20200, 20192, 20179, 20192, 11953, 11830, 11955, 11977], 'correction_phase': [12.771425603678084, 9.29781534792422, 12.148832830416332, 12.606633130020677, 0.5240598981582869, 0.09597764248557632, 0.4904676360127895, 0.5010312704801453, 3.188071848236603, 3.9528509857168133, 3.362799571771103, 3.4772643408463932, 24.59157228879068, 25.141388249665564, 24.334798838915013, 24.76925501106077], 'filename': ['X_2_Q0', 'X_2_Q1', 'X_2_Q2', 'X_2_Q3']}, 'pi_ge_slow': {'gain': [-1, 100, -1, -1], 'sigma': [-1, 0.25, -1, -1], 'type': 'gauss'}, 'pi_Q1_ZZ_slow': {'gain': [100, 0, -1, -1], 'sigma': [0.25, 0, -1, -1], 'type': 'gauss'}}}}, 'hw': {'soc': {'dacs': {'qubit': {'ch': [0, 1, 2, 3], 'type': 'full', 'nyquist': [2, 1, 2, 2], 'mixer_freq': [0, 0, 0, 0]}, 'swap': {'ch': 1, 'type': 'full', 'nyquist': 1, 'mixer_freq': 0}, 'swap_f0g1': {'ch': [1, 1, 5, 5], 'type': ['full', 'full', 'full', 'full'], 'nyquist': 1, 'mixer_freq': 0}, 'swap_Q': {'ch': [0, -1, 2, 3], 'type': ['full', 'None', 'full', 'full'], 'nyquist': [2, 0, 2, 2], 'mixer_freq': 0}, 'readout': {'ch': [6, 4, 6, 6], 'full_mux_chs': [5, 4, 5, 5], 'type': ['mux4', 'full', 'mux4', 'mux4'], 'mixer_freq': [7200, 0, 7200, 7200], 'nyquist': [2, 2, 2, 2]}, 'res_pump': {'ch': 4, 'type': 'full', 'mixer_freq': 0, 'nyquist': 2}, 'delay_chs': {'ch': [0, 1, 2, 3, 4, 5, 6], 'delay_ns': [0.0, 2.0, 2.0, 0.0, 25, 24, 73]}}, 'adcs': {'readout': {'ch': [0, 1, 2, 3]}}}, 'lo': {'twpa': {'frequency': '8210.0e6', 'power': -1.5}, 'readout': {'frequency': 0, 'power': 0}}}, 'aliases': {'readout_LO': 'SC_20A1', 'twpa_LO': 'SC_26C1', 'soc': 'Qick_QRAM'}, 'expt': {'start_N': 0, 'step_N': 4, 'expts_N': 10, 'start_f': 4573.269327358868, 'step_f': 0.05714285714285714, 'expts_f': 36, 'reps': 750, 'loops': 1, 'pulse_type': 'gauss', 'checkEF': True, 'qTest': 2, 'qZZ': None, 'test_pi_half': True, 'divide_len': True, 'post_process': 'threshold', 'singleshot_reps': 15000, 'full_mux_expt': False, 'resonator_reset': None}}\n"
     ]
    },
    {
     "data": {
      "application/vnd.jupyter.widget-view+json": {
       "model_id": "4095dbf1c02249ac92989e0590bbc7b5",
       "version_major": 2,
       "version_minor": 0
      },
      "text/plain": [
       "  0%|          | 0/2 [00:00<?, ?it/s]"
      ]
     },
     "metadata": {},
     "output_type": "display_data"
    },
    {
     "name": "stdout",
     "output_type": "stream",
     "text": [
      "Qubit  (2)\n",
      "ge fidelity (%): 63.85333333333332 \t angle (deg): 28.354092207223516 \t threshold ge: 32.430638757043745\n"
     ]
    },
    {
     "data": {
      "application/vnd.jupyter.widget-view+json": {
       "model_id": "2c10fb4ad05e4d2793c92b848a019892",
       "version_major": 2,
       "version_minor": 0
      },
      "text/plain": [
       "  0%|          | 0/10 [00:00<?, ?it/s]"
      ]
     },
     "metadata": {},
     "output_type": "display_data"
    }
   ],
   "source": [
    "piminuspi_EF = meas.PiMinusPiExperiment(\n",
    "    soccfg=soc,\n",
    "    path=expt_path,\n",
    "    prefix=f\"PiMinusPi_EFExpt{qubit_i}\",\n",
    "    config_file=config_path,\n",
    ")\n",
    "\n",
    "span_f = 2.0\n",
    "npts_f = 35\n",
    "# npts_f = 50\n",
    "\n",
    "# span_f = 0.0\n",
    "# npts_f = 1\n",
    "\n",
    "piminuspi_EF.cfg = AttrDict(deepcopy(yaml_cfg))\n",
    "piminuspi_EF.cfg.expt = dict(\n",
    "    start_N=0, # number gate repetitions\n",
    "    # step_N=5,\n",
    "    # step_N=2,\n",
    "    # expts_N=15,\n",
    "    step_N=4,\n",
    "    expts_N=10,\n",
    "    start_f=piminuspi_EF.cfg.device.qubit.f_ef[qubit_i*4 + qubit_i]-span_f/2,\n",
    "    step_f=span_f/npts_f,\n",
    "    expts_f=npts_f+1,\n",
    "    reps=int(0.75*reps*rounds),\n",
    "    loops=1,\n",
    "    # reps=int(2*reps*rounds),\n",
    "    # loops=5,\n",
    "    pulse_type='gauss',\n",
    "\n",
    "    checkEF=True,\n",
    "    qTest=qubit_i,\n",
    "    qZZ=None,\n",
    "\n",
    "    # use_Y=True,\n",
    "\n",
    "    test_pi_half=True,\n",
    "    divide_len=divide_len,\n",
    "\n",
    "    post_process='threshold',\n",
    "    singleshot_reps=15000,\n",
    "\n",
    "    full_mux_expt=full_mux_expt,\n",
    "    resonator_reset=resonator_reset,\n",
    ")\n",
    "\n",
    "print(piminuspi_EF.cfg)\n",
    "try:\n",
    "    piminuspi_EF.acquire(progress=True, debug=False)\n",
    "except Exception:\n",
    "    print(\"Pyro traceback:\")\n",
    "    print(\"\".join(Pyro4.util.getPyroTraceback()))"
   ]
  },
  {
   "cell_type": "code",
   "execution_count": 53,
   "metadata": {},
   "outputs": [
    {
     "name": "stdout",
     "output_type": "stream",
     "text": [
      "Fit best freq 4574.2134872558845 which is -0.0558401029838933 away from old freq 4574.269327358868\n",
      "*Set qubit 2 EF freq to 4574.2134872558845*\n",
      "{'Qubit EF freq': 4574.2134872558845, 'T2R EF': 15.233515280933435, 'T2R EF err': 1.6586265411281977, 'Pi EF pulse gain': 13316, 'T2E EF': 21.632448119150048, 'T2E EF err': 1.6481093691006576, 'Pi/2 EF pulse gain': 30000}\n",
      "*New f_ef\n",
      " [[3882.58481286    0.         3882.59302316 3882.54656679]\n",
      " [3345.39573643 3347.81234223 3347.003495   3346.98172934]\n",
      " [4569.72858164 4568.31118762 4574.21348726    0.        ]\n",
      " [4206.7082003  4202.36614518 4205.11037263 4205.16285596]]\n",
      "*New f_ef flattened\n",
      "[3882.584812861004, 0.0, 3882.593023159515, 3882.5465667921762, 3345.3957364303, 3347.8123422280078, 3347.003494996075, 3346.9817293387923, 4569.728581643396, 4568.311187621723, 4574.2134872558845, 0.0, 4206.708200302393, 4202.366145184353, 4205.110372632136, 4205.162855964244]\n"
     ]
    }
   ],
   "source": [
    "# # TESTING\n",
    "# temp_data, attrs = prev_data('s:\\Connie\\experiments\\qramLL_4QR2\\data\\data_240617\\\\00000_PiMinusPi_EFExpt0.h5')\n",
    "# piminuspi_EF.data =  temp_data\n",
    "# piminuspi_EF.cfg = AttrDict(attrs['config'])\n",
    "\n",
    "\n",
    "data = piminuspi_EF.data\n",
    "\n",
    "# piminuspi_EF.analyze(fit=False)\n",
    "# plt.figure()\n",
    "# plt.plot(data['cycle_sweep'], data['avgi'][:,0], '.-')\n",
    "# plt.xlabel('N Cycles $(\\pi/2, -\\pi/2)^N$')\n",
    "# plt.ylabel('Avg I')\n",
    "# plt.show()\n",
    "\n",
    "piminuspi_EF.analyze(fit=True)\n",
    "piminuspi_EF.display(fit=True)\n",
    "\n",
    "yaml_cfg.device.qubit.f_ef = np.reshape(yaml_cfg.device.qubit.f_ef, (4,4))\n",
    "yaml_cfg.device.qubit.f_ef[qubit_i, qubit_i] = data[\"best_freq\"]\n",
    "results_Qi.update({'Qubit EF freq':yaml_cfg.device.qubit.f_ef[qubit_i, qubit_i] + yaml_cfg.hw.soc.dacs.qubit.mixer_freq[qubit_i]})\n",
    "print(f'*Set qubit {qubit_i} EF freq to {yaml_cfg.device.qubit.f_ef[qubit_i, qubit_i]}*')\n",
    "print(results_Qi)\n",
    "print(f'*New f_ef\\n', yaml_cfg.device.qubit.f_ef)\n",
    "yaml_cfg.device.qubit.f_ef = yaml_cfg.device.qubit.f_ef.flatten().tolist()\n",
    "print(f'*New f_ef flattened\\n{yaml_cfg.device.qubit.f_ef}')"
   ]
  },
  {
   "cell_type": "code",
   "execution_count": null,
   "metadata": {},
   "outputs": [],
   "source": [
    "if save_data: piminuspi.save_data()"
   ]
  },
  {
   "cell_type": "markdown",
   "metadata": {},
   "source": [
    "### EF $\\pi/2$ error amplification (divide len)"
   ]
  },
  {
   "cell_type": "code",
   "execution_count": 115,
   "metadata": {},
   "outputs": [],
   "source": [
    "divide_len = True"
   ]
  },
  {
   "cell_type": "code",
   "execution_count": 138,
   "metadata": {},
   "outputs": [
    {
     "name": "stdout",
     "output_type": "stream",
     "text": [
      "{'device': {'readout': {'trig_offset': 150, 'lo_sideband': [1, 1, 1, 1], 'frequency': [-439.97500000000036, 0.0, 452.3682333333336, -278.89999999999964], 'gain': [0.17, 0.035, 0.25, 0.17], 'kappa_ext': [0.157, 0.065, 0.182, 0.104], 'kerr': [-0.0045, 0, 0.008, -0.003], 't_rise_reset': [0.5, 1, 0.5, 0.5], 'readout_length': [4, 4, 4, 4], 'frequency_ef': [-439.97500000000036, 0.0, 450.44439227373095, -280.30732891832196], 'readout_length_ef': 4, 'relax_delay': [450, 450, 450, 450]}, 'qubit': {'f_ge': [4111.097866562327, 4105.838904759637, 4110.958153299016, 4110.546407850519, 3442.8755721075536, 3448.5530242338505, 3447.060317317807, 3446.4929792801067, 4762.761504132457, 4761.823567235975, 4762.909473544484, 4762.369813422167, 4380.698604555338, 4379.604868123916, 4380.717837106693, 4381.248121020163], 'f_ge_robust': [4114.313815659153, 4108.147701523904, 4114.310372455052, 4114.310372455052, 3443.0032303441935, 3448.345849629168, 0, 0, 4763.941, 4763.941, 4763.941, 4763.941, 4384.25034225973, 4384.25034225973, 4384.25034225973, 4384.25034225973], 'f_ef': [3884.6269161242526, 0.0, 0.0, 0.0, 0.0, 3348.085433174199, 0.0, 0.0, 4571.9056482340775, 4570.996526541673, 4573.088121583744, 0.0, 4211.617732525247, 4205.61697813965, 0.0, 4209.925086260656], 'f_EgGf': [2686.53594683, 0, 2017.3, 2414.92850999], 'f_EgGf_Q': [0, 0, 5885.340063874975, 5133.519916163953], 'f_f0g1': [1184.4, 999.8, 1632.9833333333333, 1620.9166666666665], 'gs': [52.40296404695958, 54.81794456602636, 43.49513117058557, 4.930653352423196, 2.6415018214608046, 6.386231497692186], 'pulses': {'pi_ge': {'sigma': [0.02, 0.02, 0.02, 0.02, 0.025, 0.025, 0.025, 0.025, 0.015, 0.015, 0.015, 0.015, 0.025, 0.025, 0.025, 0.025], 'gain': [1849, 1914, 0, 1855, 2834, 2504, 2648, 2631, 9155, 9155, 9155, 9155, 599, 599, 599, 599], 'half_gain': [1856, 1835, 1873, 1867, 2382, 2186, 2248, 2289, 9253, 9253, 9253, 9253, 524, 524, 524, 524], 'half_correction_phase': [0, 0, 0, 0, 0, 0, 0, 0, 0, 0, 0, 0, 0, 0, 0, 0, 0], 'half_gain_pi_sigma': [927, 0, 0, 0, 0, 1315, 0, 0, 0, 0, 7212, 0, 0, 0, 0, 460], 'type': 'gauss'}, 'pi_ef': {'sigma': [0.02, 0.02, 0.02, 0.02, 0.025, 0.025, 0.025, 0.025, 0.015, 0.015, 0.015, 0.015, 0.03, 0.03, 0.03, 0.03], 'gain': [1280, 0, 0, 0, 0, 1912, 0, 0, 0, 0, 0, 0, 300, 300, 0, 300], 'half_gain': [1261, 0, 0, 0, 0, 1941, 0, 0, 0, 0, 6378, 0, 340, 340, 0, 320], 'half_gain_pi_sigma': [673, 0, 0, 0, 0, 975, 0, 0, 0, 0, 5049, 0, 340, 0, 0, 337], 'type': 'gauss'}, 'pi_EgGf': {'gain': [32000, 0, 30000, 16000], 'sigma': [0.586, 0, 0.8, 0.44643], 'type': 'flat_top'}, 'pi_EgGf_Q': {'gain': [0, 0, 12147, 24647], 'sigma': [0, 0, 0.438, 0.158], 'phase': [0, 0, 18.0, 24.0], 'half_sigma': [0, 0, 0.212, 0.172], 'half_phase': [0, 0, 18.0, 21.0], 'type': 'flat_top'}, 'pi_f0g1': {'gain': [32000, 32000, 32000, 32000], 'sigma': [0.536, 0.585, 1.54, 1.04], 'idle': [3, 6, 12, 8], 'type': 'flat_top'}, 'pulse_pp': {'gain': [1750, 3550, 0, 0], 'filename': '240920_3_qram_4q_2qubit_++gg'}, 'pulse_1p': {'gain': [3500, 4375, 0, 0], 'filename': '240920_qram_4q_2qubit_e+gg'}, 'pulse_p1': {'gain': [3000, 5530, 0, 0], 'filename': '240920_qram_4q_2qubit_+egg'}, 'pihalf_ge_robust': {'gain': [7559, 7660, 7559, 7559, 4843, 4462, 4462, 4144, 20111, 20111, 20111, 20111, 2375, 2375, 2375, 2375], 'filename': ['X_2_Q0', 'X_2_Q1', 'X_2_Q2', 'X_2_Q3']}, 'pi_ge_slow': {'gain': [-1, 100, -1, -1], 'sigma': [-1, 0.25, -1, -1], 'type': 'gauss'}, 'pi_Q1_ZZ_slow': {'gain': [100, 0, -1, -1], 'sigma': [0.25, 0, -1, -1], 'type': 'gauss'}}}}, 'hw': {'soc': {'dacs': {'qubit': {'ch': [0, 1, 2, 3], 'type': 'full', 'nyquist': [2, 1, 2, 2], 'mixer_freq': [0, 0, 0, 0]}, 'swap': {'ch': 1, 'type': 'full', 'nyquist': 1, 'mixer_freq': 0}, 'swap_f0g1': {'ch': [1, 1, 5, 5], 'type': ['full', 'full', 'full', 'full'], 'nyquist': 1, 'mixer_freq': 0}, 'swap_Q': {'ch': [0, -1, 2, 3], 'type': ['full', 'None', 'full', 'full'], 'nyquist': [2, 0, 2, 2], 'mixer_freq': 0}, 'readout': {'ch': [6, 4, 6, 6], 'full_mux_chs': [5, 4, 5, 5], 'type': ['mux4', 'full', 'mux4', 'mux4'], 'mixer_freq': [7250, 5795.8115578931565, 7250, 7250], 'nyquist': [2, 2, 2, 2]}, 'res_pump': {'ch': 4, 'type': 'full', 'mixer_freq': 0, 'nyquist': 2}, 'delay_chs': {'ch': [0, 1, 2, 3, 4, 5, 6], 'delay_ns': [4.0, 0.0, 5.0, 3.0, 25, 60, 71]}}, 'adcs': {'readout': {'ch': [0, 1, 2, 3]}}}, 'lo': {'twpa': {'frequency': '8210.0e6', 'power': -1.5}, 'readout': {'frequency': 0, 'power': 0}}}, 'aliases': {'readout_LO': 'SC_20A1', 'twpa_LO': 'SC_26C1', 'soc': 'Qick_QRAM'}, 'expt': {'start': 0, 'step': 1, 'expts': 10, 'reps': 1000, 'loops': 5, 'pulse_type': 'gauss', 'test_pi_half': True, 'divide_len': True, 'error_amp': True, 'checkEF': True, 'qTest': 2, 'qZZ': None, 'readout_ge': True, 'post_process': 'scale', 'singleshot_reps': 15000, 'full_mux_expt': True, 'resonator_reset': [0, 2, 3], 'use_robust_pulses': True}}\n"
     ]
    },
    {
     "data": {
      "application/vnd.jupyter.widget-view+json": {
       "model_id": "7276e2a08fd44c65be70d0a9c4dd9f2e",
       "version_major": 2,
       "version_minor": 0
      },
      "text/plain": [
       "  0%|          | 0/2 [00:00<?, ?it/s]"
      ]
     },
     "metadata": {},
     "output_type": "display_data"
    },
    {
     "name": "stdout",
     "output_type": "stream",
     "text": [
      "Qubit  (2)\n",
      "g unrotated averages:\n",
      "Amps 118.20467411805085 +/- 57.38787388991945\n",
      "e unrotated averages:\n",
      "Amps 279.91002155643014 +/- 67.09894931806625\n",
      "ge fidelity (%): 81.78613640909393 \t angle (deg): 0.0 \t threshold ge: 196.18055470399742\n",
      "thresholds=[0, 0, 196.18055470399742, 0],\n",
      "angles=[0, 0, 0.0, 0],\n",
      "ge_avgs=[array([0., 0., 0., 0.]), array([0., 0., 0., 0.]), array([118.20467412,   0.        , 279.91002156,   0.        ]), array([0., 0., 0., 0.])],\n",
      "counts_calib=[[13720.0, 1280.0], [1456.0, 13544.0]]\n"
     ]
    },
    {
     "data": {
      "application/vnd.jupyter.widget-view+json": {
       "model_id": "c1b911436847423c90a1ee424d784d2d",
       "version_major": 2,
       "version_minor": 0
      },
      "text/plain": [
       "  0%|          | 0/5 [00:00<?, ?it/s]"
      ]
     },
     "metadata": {},
     "output_type": "display_data"
    },
    {
     "name": "stderr",
     "output_type": "stream",
     "text": [
      "RuntimeWarning: divide by zero encountered in divide\n",
      " s:\\Connie\\experiments\\qram_tprocv1_expts\\experiments\\clifford_averager_program.py: 1822"
     ]
    }
   ],
   "source": [
    "npulsecalib_efhalf = meas.NPulseExperiment(\n",
    "    soccfg=soc,\n",
    "    path=expt_path,\n",
    "    prefix=f\"NPulseExptEF_half_Q{qubit_i}\",\n",
    "    config_file=config_path,\n",
    ")\n",
    "\n",
    "npulsecalib_efhalf.cfg = AttrDict(deepcopy(yaml_cfg))\n",
    "npulsecalib_efhalf.cfg.expt = dict(\n",
    "    start=0, # number gate repetitions\n",
    "    step=1,\n",
    "    expts=10,\n",
    "    reps=1000,\n",
    "    # loops=20,\n",
    "    loops=5,\n",
    "    pulse_type='gauss',\n",
    "    test_pi_half=True,\n",
    "    divide_len=divide_len,\n",
    "    error_amp=True,\n",
    "\n",
    "    checkEF=True,\n",
    "    qTest=qubit_i,\n",
    "    qZZ=None,\n",
    "\n",
    "    # readout_ge=False, # whether to readout at the g/e set point (True) or e/f set point (False)\n",
    "    readout_ge=True, # whether to readout at the g/e set point (True) or e/f set point (False)\n",
    "\n",
    "    post_process='scale',\n",
    "    # post_process=None,\n",
    "    singleshot_reps=15000,\n",
    "\n",
    "    full_mux_expt=full_mux_expt,\n",
    "    resonator_reset=resonator_reset,\n",
    "\n",
    "    use_robust_pulses=True,\n",
    ")\n",
    "\n",
    "print(npulsecalib_efhalf.cfg)\n",
    "import Pyro4.util\n",
    "try:\n",
    "    npulsecalib_efhalf.acquire(progress=True, debug=True)\n",
    "except Exception:\n",
    "    print(\"Pyro traceback:\")\n",
    "    print(\"\".join(Pyro4.util.getPyroTraceback()))"
   ]
  },
  {
   "cell_type": "code",
   "execution_count": 144,
   "metadata": {},
   "outputs": [
    {
     "name": "stdout",
     "output_type": "stream",
     "text": [
      "fitparams [None, 0.017453292519943295]\n",
      "Attempted to init fitparam 0 to 0.0, which is out of bounds 0.0 to 0.0. Instead init to 0.0\n",
      "Warning: fit failed with error: Each lower bound must be strictly less than each upper bound.\n",
      "From amps: adjust amplitude to 6378 / 0.9989780638148239 = 6384.524576690065\n",
      "From avgi: adjust amplitude to 6378 / 0.9989780638148239 = 6384.524576690065\n",
      "From avgq: adjust amplitude to 6378 / 1.000193925472444 = 6376.76338314826\n",
      "*Set pi/2 EF pulse gain for qubit 2 to 6385*\n",
      "*New pi_ef.half_gain\n",
      " [[1261    0    0    0]\n",
      " [   0 1941    0    0]\n",
      " [   0    0 6385    0]\n",
      " [ 340  340    0  320]]\n",
      "*New pi_ef.half_gain flattened\n",
      "[1261, 0, 0, 0, 0, 1941, 0, 0, 0, 0, 6385, 0, 340, 340, 0, 320]\n",
      "{'Res freq': 7702.328233333334, 'Res freq (yaml)': 452.32823333333357, 'Res kappa': 0.2819786993431654, 'Res chi shift (e - g)': -0.943708609271539, 'Res chi shift (f - g)': -1.9172185430463742, 'Res freq ef (yaml)': 450.4510147902872, 'Pi/2 EF pulse gain': 6385, 'Qubit EF freq': 4573.168610947125}\n"
     ]
    }
   ],
   "source": [
    "# # TESTING\n",
    "# temp_data, attrs = prev_data(expt_path, '00000_voltage_sweep_qubit_spectroscopy_qubit3.h5')\n",
    "# data = lengthrabi.analyze(data=temp_data, fit=True)\n",
    "\n",
    "data = npulsecalib_efhalf.data\n",
    "npulsecalib_efhalf.analyze(fit=True, scale=None)\n",
    "npulsecalib_efhalf.display(fit=True, scale=None)\n",
    "\n",
    "# npulsecalib_efhalf_fit, npulsecalib_efhalf_fit_err = meas.fitting.get_best_fit(npulsecalib_efhalf.data)\n",
    "fit_axis = 'avgi'\n",
    "npulsecalib_efhalf_fit = data[f'fit_{fit_axis}']\n",
    "npulsecalib_efhalf_fit_err = data[f'fit_err_{fit_axis}']\n",
    "\n",
    "angle_err = npulsecalib_efhalf_fit[1]\n",
    "amp_ratio = (90 - angle_err)/90\n",
    "new_amp_half_ef = np.reshape(npulsecalib_efhalf.cfg.device.qubit.pulses.pi_ef.half_gain, (4,4))[qubit_i, qubit_i] / amp_ratio\n",
    "\n",
    "yaml_cfg.device.qubit.pulses.pi_ef.half_gain = np.reshape(yaml_cfg.device.qubit.pulses.pi_ef.half_gain, (4,4))\n",
    "yaml_cfg.device.qubit.pulses.pi_ef.half_gain[qubit_i, qubit_i] = int(round(new_amp_half_ef))\n",
    "print(f'*Set pi/2 EF pulse gain for qubit {qubit_i} to {yaml_cfg.device.qubit.pulses.pi_ef.half_gain[qubit_i, qubit_i]}*')\n",
    "results_Qi.update({'Pi/2 EF pulse gain':yaml_cfg.device.qubit.pulses.pi_ef.half_gain[qubit_i, qubit_i]})\n",
    "print(f'*New pi_ef.half_gain\\n', yaml_cfg.device.qubit.pulses.pi_ef.half_gain)\n",
    "yaml_cfg.device.qubit.pulses.pi_ef.half_gain = yaml_cfg.device.qubit.pulses.pi_ef.half_gain.flatten().astype(int).tolist()\n",
    "print(f'*New pi_ef.half_gain flattened\\n{yaml_cfg.device.qubit.pulses.pi_ef.half_gain}')\n",
    "print(results_Qi)"
   ]
  },
  {
   "cell_type": "code",
   "execution_count": null,
   "metadata": {},
   "outputs": [],
   "source": [
    "if save_data: npulsecalib_efhalf.save_data()"
   ]
  },
  {
   "cell_type": "markdown",
   "metadata": {},
   "source": [
    "## (Divide gain) Calibrate EF $\\pi/2$ pulse"
   ]
  },
  {
   "cell_type": "markdown",
   "metadata": {},
   "source": [
    "### Amplitude rabi for EF $\\pi/2$ pulse (divide gain) (use this for RB)"
   ]
  },
  {
   "cell_type": "code",
   "execution_count": 54,
   "metadata": {},
   "outputs": [
    {
     "name": "stdout",
     "output_type": "stream",
     "text": [
      "qubit 2 pi_lenEF 0.015\n"
     ]
    }
   ],
   "source": [
    "pi_lenEF = np.reshape(yaml_cfg.device.qubit.pulses.pi_ef.sigma, (4,4))[qubit_i, qubit_i]\n",
    "# pi_len = 0.008\n",
    "print('qubit', qubit_i, 'pi_lenEF', pi_lenEF)"
   ]
  },
  {
   "cell_type": "code",
   "execution_count": 55,
   "metadata": {},
   "outputs": [],
   "source": [
    "divide_len = False"
   ]
  },
  {
   "cell_type": "code",
   "execution_count": null,
   "metadata": {},
   "outputs": [],
   "source": [
    "amprabi_4 = meas.AmplitudeRabiExperiment(\n",
    "    soccfg=soc,\n",
    "    path=expt_path,\n",
    "    prefix=f\"amp_rabi_qubit{qubit_i}\",\n",
    "    config_file=config_path,\n",
    ")\n",
    "amprabi_4.cfg = AttrDict(deepcopy(yaml_cfg))\n",
    "\n",
    "n_pulses = 1\n",
    "span = min((32000, int(1.5*0.5*np.reshape(yaml_cfg.device.qubit.pulses.pi_ef.gain, (4,4))[qubit_i, qubit_i])))\n",
    "npts = 151\n",
    "    \n",
    "amprabi_4.cfg.expt = dict(\n",
    "    start=0, # qubit gain [dac level]\n",
    "    step=int(span/npts), # [dac level]\n",
    "    expts=npts,\n",
    "    reps=reps,\n",
    "    # reps=5,\n",
    "    rounds=rounds,\n",
    "    sigma_test=pi_lenEF, # gaussian sigma for pulse length - overrides config [us]\n",
    "    pulse_type='gauss',\n",
    "    checkEF=True, \n",
    "    n_pulses=n_pulses,\n",
    "    test_pi_half=True,\n",
    "    divide_len=divide_len,\n",
    "    qTest=qubit_i,\n",
    "    qZZ=None,\n",
    ")\n",
    "amprabi_4.go(analyze=False, display=False, progress=True, save=False)"
   ]
  },
  {
   "cell_type": "code",
   "execution_count": null,
   "metadata": {},
   "outputs": [],
   "source": [
    "# # TESTING\n",
    "# # amprabi_4 = meas.AmplitudeRabiExperiment(config_file=config_path,)\n",
    "# temp_data, attrs = prev_data(expt_path, '00000_amp_rabi_qubit0.h5')\n",
    "# amprabi_4.data = temp_data\n",
    "\n",
    "amprabi_4.analyze(fit=True)\n",
    "\n",
    "amprabi_4_fit, amprabi_4_fit_err = meas.fitting.get_best_fit(amprabi_4.data)\n",
    "\n",
    "p = amprabi_4_fit\n",
    "if p[2] > 180: p[2] = p[2] - 360\n",
    "elif p[2] < -180: p[2] = p[2] + 360\n",
    "if p[2] < 0: pi_gain = (1/2 - p[2]/180)/2/p[1]\n",
    "else: pi_gain = (3/2 - p[2]/180)/2/p[1]\n",
    "\n",
    "if pi_gain > 32000:\n",
    "    amprabi_4.display(fit=False)\n",
    "    print(f'WARNING: Fit pi/2 pulse gain is long ({pi_gain}), please double check!')\n",
    "    pi_gain = 30000\n",
    "else: amprabi_4.display(fit=True)\n",
    "\n",
    "yaml_cfg.device.qubit.pulses.pi_ef.half_gain_pi_sigma = np.reshape(yaml_cfg.device.qubit.pulses.pi_ef.half_gain_pi_sigma, (4,4))\n",
    "yaml_cfg.device.qubit.pulses.pi_ef.half_gain_pi_sigma[qubit_i, qubit_i] = int(pi_gain)\n",
    "print(f'*Set EF pi/2 pulse gain for qubit {qubit_i} to {yaml_cfg.device.qubit.pulses.pi_ef.half_gain_pi_sigma[qubit_i, qubit_i]}*')\n",
    "results_Qi.update({'Pi/2 EF pulse gain':yaml_cfg.device.qubit.pulses.pi_ef.half_gain_pi_sigma[qubit_i, qubit_i]})\n",
    "print(f'*New pi_ef.half_gain_pi_sigma\\n', yaml_cfg.device.qubit.pulses.pi_ef.half_gain_pi_sigma)\n",
    "yaml_cfg.device.qubit.pulses.pi_ef.half_gain_pi_sigma = yaml_cfg.device.qubit.pulses.pi_ef.half_gain_pi_sigma.flatten().astype(int).tolist()\n",
    "print(f'*New pi_ef.half_gain_pi_sigma flattened\\n{yaml_cfg.device.qubit.pulses.pi_ef.half_gain_pi_sigma}')\n",
    "print(results_Qi)"
   ]
  },
  {
   "cell_type": "code",
   "execution_count": null,
   "metadata": {},
   "outputs": [],
   "source": [
    "if save_data: saved_files.append(amprabi_4.save_data())"
   ]
  },
  {
   "cell_type": "markdown",
   "metadata": {},
   "source": [
    "### EF $\\pi/2$ error amplification (divide gain)\n",
    "\n",
    "this is mostly only necessary for RB"
   ]
  },
  {
   "cell_type": "code",
   "execution_count": 80,
   "metadata": {},
   "outputs": [],
   "source": [
    "divide_len = False"
   ]
  },
  {
   "cell_type": "code",
   "execution_count": 81,
   "metadata": {},
   "outputs": [
    {
     "name": "stdout",
     "output_type": "stream",
     "text": [
      "{'device': {'readout': {'trig_offset': 150, 'lo_sideband': [1, 1, 1, 1], 'frequency': [-389.975, 5795.761666663333, 502.368233333334, -228.9], 'gain': [0.4, 0.5, 0.3, 0.2], 'readout_length': [5, 20, 10, 8], 'frequency_ef': [-391.91408405, 5795.76166666, 501.35829955849954, -230.30732892], 'gain_ef': [0.05, 0.6, 0.4, 0.25], 'readout_length_ef': [1, 20, 10, 8], 'relax_delay': [450, 450, 35.0, 450]}, 'qubit': {'f_ge': [4108.6352143528575, 4103.243553024718, 4108.491689964749, 4108.066288400736, 3442.8688097468294, 3448.2597196742877, 3447.149851461427, 3446.943321983037, 4759.488589798401, 4758.50698515513, 4759.617265888647, 4759.085816492836, 4377.407821334912, 4376.654922763285, 4377.445747133665, 4377.972703369784], 'f_ef': [3882.584812861004, 0.0, 3882.593023159515, 3882.5465667921762, 3345.3957364303, 3347.8123422280078, 3347.003494996075, 3346.9817293387923, 4569.728581643396, 4568.311187621723, 4574.2134872558845, 0.0, 4206.708200302393, 4202.366145184353, 4205.110372632136, 4205.162855964244], 'f_EgGf': [2686.53594683, 0, 2017.3, 2414.92850999], 'f_EgGf_Q_half': [0, 0, 5885.6717699723895, 5138], 'f_EgGf_Q': [0, 0, 5880.504550983305, 5132.386793750588], 'f_f0g1': [1184.4, 999.8, 1632.9833333333333, 1620.9166666666665], 'gs': [52.40296404695958, 54.81794456602636, 43.49513117058557, 4.930653352423196, 2.6415018214608046, 6.386231497692186], 'pulses': {'pi_ge': {'sigma': [0.02, 0.02, 0.02, 0.02, 0.025, 0.025, 0.025, 0.025, 0.015, 0.015, 0.015, 0.015, 0.025, 0.025, 0.025, 0.025], 'gain': [1849, 1914, 0, 1855, 2834, 2504, 2648, 2631, 9155, 9155, 9155, 9155, 3000, 3000, 3000, 3000], 'half_gain': [1850, 1835, 1873, 1867, 2382, 2186, 2248, 2289, 9253, 9253, 9253, 9253, 3120, 3120, 3120, 3120], 'half_correction_phase': [0, 0, 0, 0, 0, 0, 0, 0, 0, 0, 0, 0, 0, 0, 0, 0], 'half_gain_pi_sigma': [927, 0, 0, 0, 0, 1315, 0, 0, 0, 0, 7212, 0, 0, 0, 0, 460], 'type': 'gauss'}, 'pi_ef': {'sigma': [0.02, 0.02, 0.02, 0.02, 0.025, 0.025, 0.025, 0.025, 0.015, 0.015, 0.015, 0.015, 0.03, 0.03, 0.03, 0.03], 'gain': [1245, 0, 0, 0, 0, 1945, 0, 0, 0, 0, 13138, 0, 0, 0, 0, 1500], 'half_gain': [1243, 0, 0, 0, 0, 1619, 0, 0, 0, 6472, 30000, 0, 1427, 1601, 0, 1647], 'half_gain_pi_sigma': [673, 0, 0, 0, 0, 975, 0, 0, 0, 0, 3366, 0, 0, 0, 0, 1000], 'type': 'gauss'}, 'pi_EgGf': {'gain': [32000, 0, 30000, 16000], 'sigma': [0.586, 0, 0.8, 0.44643], 'type': 'flat_top'}, 'pi_EgGf_Q': {'half_gain': [0, 0, 12147, 14500], 'half_sigma': [0, 0, 0.231, 0.095], 'half_phase': [0, 0, 0.0, 0.0], 'gain': [0, 0, 24647, 24647], 'sigma': [0, 0, 0.245, 0.17], 'phase': [0, 0, 0.0, 0.0], 'type': 'flat_top'}, 'pi_f0g1': {'gain': [32000, 32000, 32000, 32000], 'sigma': [0.536, 0.585, 1.54, 1.04], 'idle': [3, 6, 12, 8], 'type': 'flat_top'}, 'pulse_pp': {'gain': [1750, 3550, 0, 0], 'filename': '240920_3_qram_4q_2qubit_++gg'}, 'pulse_1p': {'gain': [3500, 4375, 0, 0], 'filename': '240920_qram_4q_2qubit_e+gg'}, 'pulse_p1': {'gain': [3000, 5530, 0, 0], 'filename': '240920_qram_4q_2qubit_+egg'}, 'pihalf_ge_robust': {'gain': [7451, 7595, 7471, 7481, 4814, 4439, 4480, 4444, 20200, 20192, 20179, 20192, 11953, 11830, 11955, 11977], 'correction_phase': [12.771425603678084, 9.29781534792422, 12.148832830416332, 12.606633130020677, 0.5240598981582869, 0.09597764248557632, 0.4904676360127895, 0.5010312704801453, 3.188071848236603, 3.9528509857168133, 3.362799571771103, 3.4772643408463932, 24.59157228879068, 25.141388249665564, 24.334798838915013, 24.76925501106077], 'filename': ['X_2_Q0', 'X_2_Q1', 'X_2_Q2', 'X_2_Q3']}, 'pi_ge_slow': {'gain': [-1, 100, -1, -1], 'sigma': [-1, 0.25, -1, -1], 'type': 'gauss'}, 'pi_Q1_ZZ_slow': {'gain': [100, 0, -1, -1], 'sigma': [0.25, 0, -1, -1], 'type': 'gauss'}}}}, 'hw': {'soc': {'dacs': {'qubit': {'ch': [0, 1, 2, 3], 'type': 'full', 'nyquist': [2, 1, 2, 2], 'mixer_freq': [0, 0, 0, 0]}, 'swap': {'ch': 1, 'type': 'full', 'nyquist': 1, 'mixer_freq': 0}, 'swap_f0g1': {'ch': [1, 1, 5, 5], 'type': ['full', 'full', 'full', 'full'], 'nyquist': 1, 'mixer_freq': 0}, 'swap_Q': {'ch': [0, -1, 2, 3], 'type': ['full', 'None', 'full', 'full'], 'nyquist': [2, 0, 2, 2], 'mixer_freq': 0}, 'readout': {'ch': [6, 4, 6, 6], 'full_mux_chs': [5, 4, 5, 5], 'type': ['mux4', 'full', 'mux4', 'mux4'], 'mixer_freq': [7200, 0, 7200, 7200], 'nyquist': [2, 2, 2, 2]}, 'res_pump': {'ch': 4, 'type': 'full', 'mixer_freq': 0, 'nyquist': 2}, 'delay_chs': {'ch': [0, 1, 2, 3, 4, 5, 6], 'delay_ns': [0.0, 2.0, 2.0, 0.0, 25, 24, 73]}}, 'adcs': {'readout': {'ch': [0, 1, 2, 3]}}}, 'lo': {'twpa': {'frequency': '8210.0e6', 'power': -1.5}, 'readout': {'frequency': 0, 'power': 0}}}, 'aliases': {'readout_LO': 'SC_20A1', 'twpa_LO': 'SC_26C1', 'soc': 'Qick_QRAM'}, 'expt': {'start': 0, 'step': 1, 'expts': 10, 'reps': 1000, 'loops': 20, 'pulse_type': 'gauss', 'test_pi_half': True, 'divide_len': False, 'error_amp': True, 'checkEF': True, 'qTest': 2, 'qZZ': None, 'readout_ge': False, 'post_process': 'scale', 'singleshot_reps': 15000}}\n"
     ]
    },
    {
     "data": {
      "application/vnd.jupyter.widget-view+json": {
       "model_id": "77b557c8672e4e49b98d08129aa32508",
       "version_major": 2,
       "version_minor": 0
      },
      "text/plain": [
       "  0%|          | 0/2 [00:00<?, ?it/s]"
      ]
     },
     "metadata": {},
     "output_type": "display_data"
    },
    {
     "name": "stdout",
     "output_type": "stream",
     "text": [
      "Qubit  (2)\n",
      "g unrotated averages:\n",
      "I -2.6927348307291665 +/- 16.821274500334624 \t Q 52.18564774305555 +/- 18.37743618499587 \t Amp 55.14232427615608 +/- 17.623908794684358\n",
      "Rotated (theta=1.6266676203147412):\n",
      "I -51.95384921458511 +/- 18.331499370534626 \t Q -5.60269604914053 +/- 16.87132381816234 \t Amp 52.25507297125228 +/- 17.623908794684358\n",
      "e unrotated averages:\n",
      "I -3.6022380208333336 +/- 17.808759295124734 \t Q 35.92404778645833 +/- 24.671910246245513 \t Amp 41.968203478441126 +/- 21.634192560507724\n",
      "Rotated (theta=1.6266676203147412):\n",
      "I -35.666835086722 +/- 24.4174789731615 \t Q -5.60269604914053 +/- 18.15603986076539 \t Amp 36.10420097609804 +/- 21.634192560507724\n",
      "gf fidelity (%): 32.06666666666671 \t angle (deg): 93.20118931462373 \t threshold ge: -36.45607007030863\n",
      "thresholds=[0, 0, -36.45607007030863, 0],\n",
      "angles=[0, 0, 93.20118931462373, 0],\n",
      "ge_avgs=[array([0., 0., 0., 0.]), array([0., 0., 0., 0.]), array([-2.69273483, 52.18564774, -3.60223802, 35.92404779]), array([0., 0., 0., 0.])],\n",
      "counts_calib=[[12057.0, 2943.0], [7266.0, 7734.0]]\n"
     ]
    },
    {
     "data": {
      "application/vnd.jupyter.widget-view+json": {
       "model_id": "d59967cc52c04ad58978821d253c313e",
       "version_major": 2,
       "version_minor": 0
      },
      "text/plain": [
       "  0%|          | 0/20 [00:00<?, ?it/s]"
      ]
     },
     "metadata": {},
     "output_type": "display_data"
    },
    {
     "name": "stderr",
     "output_type": "stream",
     "text": [
      "RuntimeWarning: divide by zero encountered in divide\n",
      " s:\\Seb\\experiements\\qram_tprocv1_expts\\experiments\\clifford_averager_program.py: 1877"
     ]
    }
   ],
   "source": [
    "npulsecalib_efhalf = meas.NPulseExperiment(\n",
    "    soccfg=soc,\n",
    "    path=expt_path,\n",
    "    prefix=f\"NPulseExptEF_half_Q{qubit_i}\",\n",
    "    config_file=config_path,\n",
    ")\n",
    "\n",
    "npulsecalib_efhalf.cfg = AttrDict(deepcopy(yaml_cfg))\n",
    "npulsecalib_efhalf.cfg.expt = dict(\n",
    "    start=0, # number gate repetitions\n",
    "    step=1,\n",
    "    expts=10,\n",
    "    reps=1000,\n",
    "    loops=20,\n",
    "    pulse_type='gauss',\n",
    "    test_pi_half=True,\n",
    "    divide_len=divide_len,\n",
    "    error_amp=True,\n",
    "\n",
    "    checkEF=True, \n",
    "    qTest=qubit_i,\n",
    "    qZZ=None,\n",
    "\n",
    "    readout_ge=False, # whether to readout at the g/e set point (True) or e/f set point (False)\n",
    "\n",
    "    post_process='scale',\n",
    "    singleshot_reps=15000,\n",
    ")\n",
    "\n",
    "print(npulsecalib_efhalf.cfg)\n",
    "import Pyro4.util\n",
    "try:\n",
    "    npulsecalib_efhalf.go(analyze=False, display=False, progress=True, save=False)\n",
    "except Exception:\n",
    "    print(\"Pyro traceback:\")\n",
    "    print(\"\".join(Pyro4.util.getPyroTraceback()))"
   ]
  },
  {
   "cell_type": "code",
   "execution_count": 82,
   "metadata": {},
   "outputs": [
    {
     "name": "stdout",
     "output_type": "stream",
     "text": [
      "fitparams [None, 0.017453292519943295]\n",
      "From amps: adjust amplitude to 3366 / 1.0254482615705323 = 3282.466923143231\n",
      "From avgi: adjust amplitude to 3366 / 0.9963975372583366 = 3378.1697305894636\n",
      "From avgq: adjust amplitude to 3366 / 1.0258321637515648 = 3281.2385095142863\n",
      "*Set pi/2 pulse gain for qubit 2 to 3378*\n",
      "*New pi_ef.half_gain_pi_sigma\n",
      " [[ 673    0    0    0]\n",
      " [   0  975    0    0]\n",
      " [   0    0 3378    0]\n",
      " [   0    0    0 1000]]\n",
      "*New pi_ef.half_gain_pi_sigma flattened\n",
      "[673, 0, 0, 0, 0, 975, 0, 0, 0, 0, 3378, 0, 0, 0, 0, 1000]\n",
      "{'Qubit EF freq': 4574.2134872558845, 'T2R EF': 15.233515280933435, 'T2R EF err': 1.6586265411281977, 'Pi EF pulse gain': 13138, 'T2E EF': 21.632448119150048, 'T2E EF err': 1.6481093691006576, 'Pi/2 EF pulse gain': 30000, 'Pi/2 pulse gain': 3378, 'Res chi shift (e - g)': -0.9635761589403842, 'Res chi shift (f - g)': -1.009933774834451, 'Res freq ef (yaml)': 501.35829955849954, 'T1_EF': 8.82646968911557, 'T1_EF err': 2.176960259233138}\n"
     ]
    }
   ],
   "source": [
    "# # TESTING\n",
    "# temp_data, attrs = prev_data(expt_path, '00000_voltage_sweep_qubit_spectroscopy_qubit3.h5')\n",
    "# data = lengthrabi.analyze(data=temp_data, fit=True)\n",
    "\n",
    "data = npulsecalib_efhalf.data\n",
    "npulsecalib_efhalf.analyze(fit=True, scale=None)\n",
    "npulsecalib_efhalf.display(fit=True, scale=None)\n",
    "\n",
    "# npulsecalib_efhalf_fit, npulsecalib_efhalf_fit_err = meas.fitting.get_best_fit(npulsecalib_efhalf.data)\n",
    "fit_axis = 'avgi'\n",
    "npulsecalib_efhalf_fit = data[f'fit_{fit_axis}']\n",
    "npulsecalib_efhalf_fit_err = data[f'fit_err_{fit_axis}']\n",
    "\n",
    "angle_err = npulsecalib_efhalf_fit[1]\n",
    "amp_ratio = (90 - angle_err)/90\n",
    "new_amp_half_ef = np.reshape(npulsecalib_efhalf.cfg.device.qubit.pulses.pi_ef.half_gain_pi_sigma, (4,4))[qubit_i, qubit_i] / amp_ratio\n",
    "\n",
    "yaml_cfg.device.qubit.pulses.pi_ef.half_gain_pi_sigma = np.reshape(yaml_cfg.device.qubit.pulses.pi_ef.half_gain_pi_sigma, (4,4))\n",
    "yaml_cfg.device.qubit.pulses.pi_ef.half_gain_pi_sigma[qubit_i, qubit_i] = int(round(new_amp_half_ef))\n",
    "print(f'*Set pi/2 pulse gain for qubit {qubit_i} to {yaml_cfg.device.qubit.pulses.pi_ef.half_gain_pi_sigma[qubit_i, qubit_i]}*')\n",
    "results_Qi.update({'Pi/2 pulse gain':yaml_cfg.device.qubit.pulses.pi_ef.half_gain_pi_sigma[qubit_i, qubit_i]})\n",
    "print(f'*New pi_ef.half_gain_pi_sigma\\n', yaml_cfg.device.qubit.pulses.pi_ef.half_gain_pi_sigma)\n",
    "yaml_cfg.device.qubit.pulses.pi_ef.half_gain_pi_sigma = yaml_cfg.device.qubit.pulses.pi_ef.half_gain_pi_sigma.flatten().astype(int).tolist()\n",
    "print(f'*New pi_ef.half_gain_pi_sigma flattened\\n{yaml_cfg.device.qubit.pulses.pi_ef.half_gain_pi_sigma}')\n",
    "print(results_Qi)"
   ]
  },
  {
   "cell_type": "code",
   "execution_count": null,
   "metadata": {},
   "outputs": [],
   "source": [
    "if save_data: npulsecalib_efhalf.save_data()"
   ]
  },
  {
   "cell_type": "markdown",
   "metadata": {},
   "source": [
    "## Resonator chi shift (e/f)"
   ]
  },
  {
   "cell_type": "code",
   "execution_count": 70,
   "metadata": {},
   "outputs": [
    {
     "data": {
      "application/vnd.jupyter.widget-view+json": {
       "model_id": "debae561cf3648d19a6e606132419c80",
       "version_major": 2,
       "version_minor": 0
      },
      "text/plain": [
       "  0%|          | 0/151 [00:00<?, ?it/s]"
      ]
     },
     "metadata": {},
     "output_type": "display_data"
    }
   ],
   "source": [
    "rspecEF_chi = meas.ResonatorSpectroscopyExperiment(\n",
    "    soccfg=soc,\n",
    "    path=expt_path,\n",
    "    prefix=f\"resonator_spectroscopy_chi_qubit{qubit_i}\",\n",
    "    config_file=config_path,\n",
    ")\n",
    "rspecEF_chi.cfg = AttrDict(deepcopy(yaml_cfg))\n",
    "\n",
    "span = 3.5 # MHz\n",
    "npts = 151\n",
    "rspecEF_chi.cfg.expt = dict(\n",
    "    start=rspecEF_chi.cfg.device.readout.frequency[qubit_i]-abs(results_Qi['Res chi shift (e - g)'])-span, # [MHz]\n",
    "    # start=rspecEF_chi.cfg.device.readout.frequency[qubit_i]-span/2, # [MHz]\n",
    "    step=span/npts,\n",
    "    expts=npts,\n",
    "    reps=reps*rounds,\n",
    "    pulse_e=True, # add ge pi pulse prior to measurement\n",
    "    pulse_f=True, # add ef pi pulse prior to measurement\n",
    "    qTest=qubit_i,\n",
    "    qZZ=None,\n",
    "\n",
    "    full_mux_expt=full_mux_expt,\n",
    "    resonator_reset=resonator_reset,\n",
    ")\n",
    "\n",
    "# rspecEF_chi.cfg.device.readout.gain[qubit_i] /= 2\n",
    "rspecEF_chi.cfg.device.readout.gain = rspecEF_chi.cfg.device.readout.gain_ef\n",
    "# rspecEF_chi.cfg.device.readout.relax_delay = 100 # Wait time between experiments [us]\n",
    "rspecEF_chi.go(analyze=False, display=False, progress=True, save=False)"
   ]
  },
  {
   "cell_type": "code",
   "execution_count": 71,
   "metadata": {},
   "outputs": [
    {
     "name": "stdout",
     "output_type": "stream",
     "text": [
      "electrical delay phase correction (no mux support) (deg) 1.013997774929151\n",
      "param guess [7699.643067770418, 38498.21533885209, 38498.21533885209, 0, -0.09045325747865562, 0.9068244341556702]\n",
      "param bounds ([7697.92783598234, 0, 0, -6.283185307179586, -0.13567988621798344, -inf], [7701.358299558499, 1000000000.0, 100000000.0, 6.283185307179586, 0.13567988621798344, 1.0484732150041731])\n",
      "popt [ 7.69912235e+03  1.21206470e+05  3.15297130e+07  4.62609181e+00\n",
      " -4.71148418e-02 -6.86734904e-02]\n",
      "\n",
      "Freq with minimum transmission: 501.33512075055256\n",
      "Freq with maximum transmission: 497.9973724061817\n",
      "From fit:\n",
      "\tf0: 7699.122347781455\n",
      "\tQi: 121206.47007084842 \t kappa_i/2pi: 0.06352072082687593\n",
      "\tQe: 31529713.047705833 \t kappa_e/2pi: 0.00024418624857550547\n",
      "\tQ0: 120742.31267476443\n",
      "\tkappa [MHz]: 0.06376490707545142\n",
      "\tphi [radians]: 4.626091811209294\n",
      "baseline 82.54489619799361\n",
      "ef chi shift -1.009933774834451\n",
      "Res freq ef: 501.35829955849954\n",
      "[{}, {}, {'Qubit EF freq': 4574.2134872558845, 'T2R EF': 15.233515280933435, 'T2R EF err': 1.6586265411281977, 'Pi EF pulse gain': 13316, 'T2E EF': 21.632448119150048, 'T2E EF err': 1.6481093691006576, 'Pi/2 EF pulse gain': 30000, 'Pi/2 pulse gain': 3366, 'Res chi shift (e - g)': -0.9635761589403842, 'Res chi shift (f - g)': -1.009933774834451, 'Res freq ef (yaml)': 501.35829955849954}, {}]\n"
     ]
    }
   ],
   "source": [
    "# # TESTING\n",
    "# # rspecEF_chi = meas.ResonatorSpectroscopyExperiment(config_file=config_path,) \n",
    "# temp_data, attrs = prev_data(expt_path, '00001_resonator_spectroscopy_qubit2.h5')\n",
    "# rspecEF_chi.data = temp_data\n",
    "\n",
    "rspecEF_chi.data = rspecEF_chi.analyze(fit=True)\n",
    "rspecEF_chi_fit = rspecEF_chi.data['fit']\n",
    "rspecEF_chi.display(fit=True)\n",
    "# res_freq_f = rspecEF_chi_fit[0] - yaml_cfg.hw.soc.dacs.readout.mixer_freq[qubit_i]\n",
    "res_freq_f = rspecEF_chi.data['xpts'][np.argmin(rspecEF_chi.data['amps'])]\n",
    "print('ef chi shift', yaml_cfg.device.readout.lo_sideband[qubit_i]*(res_freq_f - yaml_cfg.device.readout.frequency[qubit_i]))\n",
    "results_Qi.update({'Res chi shift (f - g)': yaml_cfg.device.readout.lo_sideband[qubit_i]*(res_freq_f - yaml_cfg.device.readout.frequency[qubit_i])})\n",
    "results_Qi.update({'Res freq ef (yaml)':res_freq_f})\n",
    "\n",
    "print('Res freq ef:', res_freq_f)\n",
    "\n",
    "# yaml_cfg.device.readout.frequency_ef = [0]*4\n",
    "yaml_cfg.device.readout.frequency_ef[qubit_i] = res_freq_f\n",
    "# res_freq_f = 6953.5\n",
    "print(all_results)"
   ]
  },
  {
   "cell_type": "code",
   "execution_count": null,
   "metadata": {},
   "outputs": [],
   "source": [
    "if save_data: saved_files.append(rspecEF_chi.save_data())"
   ]
  },
  {
   "cell_type": "markdown",
   "metadata": {},
   "source": [
    "## $T_1$ EF"
   ]
  },
  {
   "cell_type": "code",
   "execution_count": 78,
   "metadata": {},
   "outputs": [
    {
     "data": {
      "application/vnd.jupyter.widget-view+json": {
       "model_id": "bdc809a2400048d8b22a8a09c23bb74c",
       "version_major": 2,
       "version_minor": 0
      },
      "text/plain": [
       "  0%|          | 0/484000 [00:00<?, ?it/s]"
      ]
     },
     "metadata": {},
     "output_type": "display_data"
    }
   ],
   "source": [
    "t1EF = meas.T1Experiment(\n",
    "    soccfg=soc,\n",
    "    path=expt_path,\n",
    "    prefix=f\"t1EF_qubit{qubit_i}\",\n",
    "    config_file=config_path,\n",
    ")\n",
    "t1EF.cfg = AttrDict(deepcopy(yaml_cfg))\n",
    "\n",
    "span = 100\n",
    "npts = 121\n",
    "\n",
    "t1EF.cfg.expt = dict(\n",
    "    start=0, # wait time [us]\n",
    "    step=span/npts,\n",
    "    expts=npts,\n",
    "    reps=reps*rounds*4,\n",
    "    rounds=1,\n",
    "    qTest=qubit_i,\n",
    "    qZZ=None,\n",
    "    # qZZ=0,\n",
    "    checkEF=True,\n",
    "\n",
    "    full_mux_expt=full_mux_expt,\n",
    "    resonator_reset=resonator_reset,\n",
    ")\n",
    "\n",
    "# for q in range(4):\n",
    "#     if q != qubit_i:\n",
    "#         t1EF.cfg.device.readout.gain[q] = 1e-4\n",
    "\n",
    "t1EF.cfg.device.readout.relax_delay = span # Wait time between experiments [us]\n",
    "t1EF.go(analyze=False, display=False, progress=True, save=False)"
   ]
  },
  {
   "cell_type": "code",
   "execution_count": 79,
   "metadata": {},
   "outputs": [
    {
     "name": "stdout",
     "output_type": "stream",
     "text": [
      "Warning: fit failed with error: Optimal parameters not found: Number of calls to function has reached maxfev = 1000.\n",
      "Warning: fit failed with error: Optimal parameters not found: Number of calls to function has reached maxfev = 1000.\n",
      "best 1 1502433.3910973358\n",
      "Fit T1 amps [us]: 19.834710743801654\n",
      "Fit T1 avgi [us]: 8.82646968911557\n",
      "Fit T1 avgq [us]: 19.834710743801654\n",
      "*Set readout 2 relax delay to 35.0*\n",
      "qubit 2 {'Qubit EF freq': 4574.2134872558845, 'T2R EF': 15.233515280933435, 'T2R EF err': 1.6586265411281977, 'Pi EF pulse gain': 13138, 'T2E EF': 21.632448119150048, 'T2E EF err': 1.6481093691006576, 'Pi/2 EF pulse gain': 30000, 'Pi/2 pulse gain': 3366, 'Res chi shift (e - g)': -0.9635761589403842, 'Res chi shift (f - g)': -1.009933774834451, 'Res freq ef (yaml)': 501.35829955849954, 'T1_EF': 8.82646968911557, 'T1_EF err': 2.176960259233138}\n"
     ]
    }
   ],
   "source": [
    "# # TESTING\n",
    "# # t1EF = meas.T1Experiment(config_file=config_path,)\n",
    "# temp_data, attrs = prev_data(expt_path, '00000_t1EF_qubit1.h5')\n",
    "# t1EF.data = temp_data\n",
    "\n",
    "t1EF.analyze(fit_log=False)\n",
    "\n",
    "t1EF_fit, t1EF_fit_err = meas.fitting.get_best_fit(t1EF.data) #, fitter.expfunc)\n",
    "\n",
    "t1EF.display(fit=True, fit_log=False)\n",
    "t1EF_qubit = t1EF_fit[3]\n",
    "yaml_cfg.device.readout.relax_delay[qubit_i] = np.round(4*t1EF_qubit)\n",
    "print(f'*Set readout {qubit_i} relax delay to {yaml_cfg.device.readout.relax_delay[qubit_i]}*')\n",
    "results_Qi.update({'T1_EF':t1EF_qubit, 'T1_EF err':np.sqrt(t1EF_fit_err[3][3])})\n",
    "print(f'qubit {qubit_i}', results_Qi)"
   ]
  },
  {
   "cell_type": "code",
   "execution_count": null,
   "metadata": {},
   "outputs": [],
   "source": [
    "if save_data: saved_files.append(t1.save_data())"
   ]
  },
  {
   "cell_type": "markdown",
   "metadata": {},
   "source": [
    "# Single Shot"
   ]
  },
  {
   "cell_type": "code",
   "execution_count": 18,
   "metadata": {},
   "outputs": [],
   "source": [
    "import yaml\n",
    "with open(config_path, 'r') as cfg_file:\n",
    "    yaml_cfg = yaml.safe_load(cfg_file)\n",
    "yaml_cfg = AttrDict(yaml_cfg)"
   ]
  },
  {
   "cell_type": "markdown",
   "metadata": {},
   "source": [
    "## Single shot optimization"
   ]
  },
  {
   "cell_type": "code",
   "execution_count": null,
   "metadata": {},
   "outputs": [],
   "source": [
    "results_Qi['Res kappa'] = 0.2\n",
    "# print(results_Qi['Res kappa'])"
   ]
  },
  {
   "cell_type": "code",
   "execution_count": 131,
   "metadata": {},
   "outputs": [],
   "source": [
    "qubit_i = 3"
   ]
  },
  {
   "cell_type": "code",
   "execution_count": 133,
   "metadata": {},
   "outputs": [
    {
     "name": "stdout",
     "output_type": "stream",
     "text": [
      "{'device': {'readout': {'trig_offset': 150, 'lo_sideband': [1, 1, 1, 1], 'frequency': [-390.00045219204236, 5795.770150727347, 502.42095511476606, -228.9], 'gain': [0.8, 0.79, 0.5, 0.2], 'readout_length': [4.5, 16, 8.5, 8], 'frequency_ef': [-391.91408405, 5795.76166666, 500.44439227, -230.30732892], 'gain_ef': [0.05, 0.6, 0.4, 0.25], 'readout_length_ef': [1, 20, 10, 8], 'relax_delay': [450, 450, 450, 450]}, 'qubit': {'f_ge': [4108.6352143528575, 4103.243553024718, 4108.491689964749, 4108.066288400736, 3442.8688097468294, 3448.2597196742877, 3447.149851461427, 3446.943321983037, 4759.488589798401, 4758.50698515513, 4759.617265888647, 4759.085816492836, 4377.407821334912, 4376.654922763285, 4377.445747133665, 4377.972703369784], 'f_ef': [3882.584812861004, 0.0, 3882.593023159515, 3882.5465667921762, 3345.3957364303, 3347.8123422280078, 3347.003494996075, 3346.9817293387923, 4569.728581643396, 4568.311187621723, 4570.125075914433, 0.0, 4206.708200302393, 4202.366145184353, 4205.110372632136, 4205.162855964244], 'f_EgGf': [2686.53594683, 0, 2017.3, 2414.92850999], 'f_EgGf_Q_half': [0, 0, 5885.6717699723895, 5138], 'f_EgGf_Q': [0, 0, 5880.504550983305, 5132.386793750588], 'f_f0g1': [1184.4, 999.8, 1632.9833333333333, 1620.9166666666665], 'gs': [52.40296404695958, 54.81794456602636, 43.49513117058557, 4.930653352423196, 2.6415018214608046, 6.386231497692186], 'pulses': {'pi_ge': {'sigma': [0.02, 0.02, 0.02, 0.02, 0.025, 0.025, 0.025, 0.025, 0.015, 0.015, 0.015, 0.015, 0.025, 0.025, 0.025, 0.025], 'gain': [1849, 1914, 0, 1855, 2834, 2504, 2648, 2631, 9155, 9155, 9155, 9155, 3000, 3000, 3000, 3000], 'half_gain': [1850, 1835, 1873, 1867, 2382, 2186, 2248, 2289, 9253, 9253, 9253, 9253, 3120, 3120, 3120, 3120], 'half_correction_phase': [0, 0, 0, 0, 0, 0, 0, 0, 0, 0, 0, 0, 0, 0, 0, 0], 'half_gain_pi_sigma': [927, 0, 0, 0, 0, 1315, 0, 0, 0, 0, 7212, 0, 0, 0, 0, 460], 'type': 'gauss'}, 'pi_ef': {'sigma': [0.02, 0.02, 0.02, 0.02, 0.025, 0.025, 0.025, 0.025, 0.015, 0.015, 0.015, 0.015, 0.03, 0.03, 0.03, 0.03], 'gain': [1245, 0, 0, 0, 0, 1945, 0, 0, 0, 0, 6000, 0, 0, 0, 0, 1500], 'half_gain': [1243, 0, 0, 0, 0, 1619, 0, 0, 0, 6472, 6501, 0, 1427, 1601, 0, 1647], 'half_gain_pi_sigma': [673, 0, 0, 0, 0, 975, 0, 0, 0, 0, 3049, 0, 0, 0, 0, 1000], 'type': 'gauss'}, 'pi_EgGf': {'gain': [32000, 0, 30000, 16000], 'sigma': [0.586, 0, 0.8, 0.44643], 'type': 'flat_top'}, 'pi_EgGf_Q': {'half_gain': [0, 0, 12147, 14500], 'half_sigma': [0, 0, 0.231, 0.095], 'half_phase': [0, 0, 0.0, 0.0], 'gain': [0, 0, 24647, 24647], 'sigma': [0, 0, 0.245, 0.17], 'phase': [0, 0, 0.0, 0.0], 'type': 'flat_top'}, 'pi_f0g1': {'gain': [32000, 32000, 32000, 32000], 'sigma': [0.536, 0.585, 1.54, 1.04], 'idle': [3, 6, 12, 8], 'type': 'flat_top'}, 'pulse_pp': {'gain': [1750, 3550, 0, 0], 'filename': '240920_3_qram_4q_2qubit_++gg'}, 'pulse_1p': {'gain': [3500, 4375, 0, 0], 'filename': '240920_qram_4q_2qubit_e+gg'}, 'pulse_p1': {'gain': [3000, 5530, 0, 0], 'filename': '240920_qram_4q_2qubit_+egg'}, 'pihalf_ge_robust': {'gain': [7451, 7595, 7471, 7481, 4814, 4439, 4480, 4444, 20200, 20192, 20179, 20192, 11953, 11830, 11955, 11977], 'correction_phase': [12.771425603678084, 9.29781534792422, 12.148832830416332, 12.606633130020677, 0.5240598981582869, 0.09597764248557632, 0.4904676360127895, 0.5010312704801453, 3.188071848236603, 3.9528509857168133, 3.362799571771103, 3.4772643408463932, 24.59157228879068, 25.141388249665564, 24.334798838915013, 24.76925501106077], 'filename': ['X_2_Q0', 'X_2_Q1', 'X_2_Q2', 'X_2_Q3']}, 'pi_ge_slow': {'gain': [-1, 100, -1, -1], 'sigma': [-1, 0.25, -1, -1], 'type': 'gauss'}, 'pi_Q1_ZZ_slow': {'gain': [100, 0, -1, -1], 'sigma': [0.25, 0, -1, -1], 'type': 'gauss'}}}}, 'hw': {'soc': {'dacs': {'qubit': {'ch': [0, 1, 2, 3], 'type': 'full', 'nyquist': [2, 1, 2, 2], 'mixer_freq': [0, 0, 0, 0]}, 'swap': {'ch': 1, 'type': 'full', 'nyquist': 1, 'mixer_freq': 0}, 'swap_f0g1': {'ch': [1, 1, 5, 5], 'type': ['full', 'full', 'full', 'full'], 'nyquist': 1, 'mixer_freq': 0}, 'swap_Q': {'ch': [0, -1, 2, 3], 'type': ['full', 'None', 'full', 'full'], 'nyquist': [2, 0, 2, 2], 'mixer_freq': 0}, 'readout': {'ch': [6, 4, 6, 6], 'full_mux_chs': [5, 4, 5, 5], 'type': ['mux4', 'full', 'mux4', 'mux4'], 'mixer_freq': [7200, 0, 7200, 7200], 'nyquist': [2, 2, 2, 2]}, 'res_pump': {'ch': 4, 'type': 'full', 'mixer_freq': 0, 'nyquist': 2}, 'delay_chs': {'ch': [0, 1, 2, 3, 4, 5, 6], 'delay_ns': [0.0, 2.0, 2.0, 0.0, 25, 24, 73]}}, 'adcs': {'readout': {'ch': [0, 1, 2, 3]}}}, 'lo': {'twpa': {'frequency': '8210.0e6', 'power': -1.5}, 'readout': {'frequency': 0, 'power': 0}}}, 'aliases': {'readout_LO': 'SC_20A1', 'twpa_LO': 'SC_26C1', 'soc': 'Qick_QRAM'}, 'expt': {'reps': 1000, 'qTest': 3, 'start_f': -229.02726096021163, 'step_f': 0.016968128028216064, 'expts_f': 15, 'start_gain': 0.05, 'step_gain': 0.0875, 'expts_gain': 9, 'start_len': 1, 'step_len': 3.5, 'expts_len': 4, 'full_mux_expt': False, 'resonator_reset': None}}\n"
     ]
    },
    {
     "data": {
      "application/vnd.jupyter.widget-view+json": {
       "model_id": "8ee692249b1d4abebdf4e79018804e02",
       "version_major": 2,
       "version_minor": 0
      },
      "text/plain": [
       "  0%|          | 0/15 [00:00<?, ?it/s]"
      ]
     },
     "metadata": {},
     "output_type": "display_data"
    },
    {
     "name": "stdout",
     "output_type": "stream",
     "text": [
      "freq: -229.02726096021163, gain: 0.05, len: 1.0\n",
      "\tfid [%]: 2.300000000000002\n",
      "freq: -229.02726096021163, gain: 0.05, len: 4.5\n",
      "\tfid [%]: 11.8396396396397\n",
      "freq: -229.02726096021163, gain: 0.05, len: 8.0\n",
      "\tfid [%]: 10.800000000000004\n",
      "freq: -229.02726096021163, gain: 0.05, len: 11.5\n",
      "\tfid [%]: 17.600000000000016\n",
      "freq: -229.02726096021163, gain: 0.1375, len: 1.0\n",
      "\tfid [%]: 9.200000000000008\n",
      "freq: -229.02726096021163, gain: 0.1375, len: 4.5\n",
      "\tfid [%]: 31.600000000000023\n",
      "freq: -229.02726096021163, gain: 0.1375, len: 8.0\n",
      "\tfid [%]: 33.10000000000003\n",
      "freq: -229.02726096021163, gain: 0.1375, len: 11.5\n",
      "\tfid [%]: 37.90000000000002\n",
      "freq: -229.02726096021163, gain: 0.22499999999999998, len: 1.0\n",
      "\tfid [%]: 12.742942942943003\n",
      "freq: -229.02726096021163, gain: 0.22499999999999998, len: 4.5\n",
      "\tfid [%]: 45.30000000000003\n",
      "freq: -229.02726096021163, gain: 0.22499999999999998, len: 8.0\n",
      "\tfid [%]: 53.00000000000005\n",
      "freq: -229.02726096021163, gain: 0.22499999999999998, len: 11.5\n",
      "\tfid [%]: 54.70000000000004\n",
      "freq: -229.02726096021163, gain: 0.31249999999999994, len: 1.0\n",
      "\tfid [%]: 16.300000000000008\n",
      "freq: -229.02726096021163, gain: 0.31249999999999994, len: 4.5\n",
      "\tfid [%]: 57.20000000000005\n",
      "freq: -229.02726096021163, gain: 0.31249999999999994, len: 8.0\n",
      "\tfid [%]: 62.00000000000006\n",
      "freq: -229.02726096021163, gain: 0.31249999999999994, len: 11.5\n",
      "\tfid [%]: 62.86286286286285\n",
      "freq: -229.02726096021163, gain: 0.39999999999999997, len: 1.0\n",
      "\tfid [%]: 18.100000000000016\n",
      "freq: -229.02726096021163, gain: 0.39999999999999997, len: 4.5\n",
      "\tfid [%]: 66.20000000000006\n",
      "freq: -229.02726096021163, gain: 0.39999999999999997, len: 8.0\n",
      "\tfid [%]: 71.08388388388396\n",
      "freq: -229.02726096021163, gain: 0.39999999999999997, len: 11.5\n",
      "\tfid [%]: 72.47707707707715\n",
      "freq: -229.02726096021163, gain: 0.4875, len: 1.0\n",
      "\tfid [%]: 19.27607607607602\n",
      "freq: -229.02726096021163, gain: 0.4875, len: 4.5\n",
      "\tfid [%]: 73.30000000000005\n",
      "freq: -229.02726096021163, gain: 0.4875, len: 8.0\n",
      "\tfid [%]: 73.30000000000004\n",
      "freq: -229.02726096021163, gain: 0.4875, len: 11.5\n",
      "\tfid [%]: 72.50000000000006\n",
      "freq: -229.02726096021163, gain: 0.575, len: 1.0\n",
      "\tfid [%]: 20.200000000000014\n",
      "freq: -229.02726096021163, gain: 0.575, len: 4.5\n",
      "\tfid [%]: 79.00000000000004\n",
      "freq: -229.02726096021163, gain: 0.575, len: 8.0\n",
      "\tfid [%]: 80.29599599599597\n",
      "freq: -229.02726096021163, gain: 0.575, len: 11.5\n",
      "\tfid [%]: 72.00000000000004\n",
      "freq: -229.02726096021163, gain: 0.6625, len: 1.0\n",
      "\tfid [%]: 24.454154154154217\n",
      "freq: -229.02726096021163, gain: 0.6625, len: 4.5\n",
      "\tfid [%]: 82.69659659659659\n",
      "freq: -229.02726096021163, gain: 0.6625, len: 8.0\n",
      "\tfid [%]: 79.10000000000007\n",
      "freq: -229.02726096021163, gain: 0.6625, len: 11.5\n",
      "\tfid [%]: 75.49449449449446\n",
      "freq: -229.02726096021163, gain: 0.75, len: 1.0\n",
      "\tfid [%]: 27.40000000000002\n",
      "freq: -229.02726096021163, gain: 0.75, len: 4.5\n",
      "\tfid [%]: 84.30000000000005\n",
      "freq: -229.02726096021163, gain: 0.75, len: 8.0\n",
      "\tfid [%]: 82.50000000000006\n",
      "freq: -229.02726096021163, gain: 0.75, len: 11.5\n",
      "\tfid [%]: 73.70000000000006\n",
      "freq: -229.0102928321834, gain: 0.05, len: 1.0\n",
      "\tfid [%]: 2.68718718718719\n",
      "freq: -229.0102928321834, gain: 0.05, len: 4.5\n",
      "\tfid [%]: 8.900000000000007\n",
      "freq: -229.0102928321834, gain: 0.05, len: 8.0\n",
      "\tfid [%]: 14.400000000000016\n",
      "freq: -229.0102928321834, gain: 0.05, len: 11.5\n",
      "\tfid [%]: 16.40000000000002\n",
      "freq: -229.0102928321834, gain: 0.1375, len: 1.0\n",
      "\tfid [%]: 9.700000000000008\n",
      "freq: -229.0102928321834, gain: 0.1375, len: 4.5\n",
      "\tfid [%]: 30.40000000000002\n",
      "freq: -229.0102928321834, gain: 0.1375, len: 8.0\n",
      "\tfid [%]: 32.800000000000026\n",
      "freq: -229.0102928321834, gain: 0.1375, len: 11.5\n",
      "\tfid [%]: 38.20000000000003\n",
      "freq: -229.0102928321834, gain: 0.22499999999999998, len: 1.0\n",
      "\tfid [%]: 7.700000000000001\n",
      "freq: -229.0102928321834, gain: 0.22499999999999998, len: 4.5\n",
      "\tfid [%]: 45.900000000000034\n",
      "freq: -229.0102928321834, gain: 0.22499999999999998, len: 8.0\n",
      "\tfid [%]: 51.30000000000003\n",
      "freq: -229.0102928321834, gain: 0.22499999999999998, len: 11.5\n",
      "\tfid [%]: 54.80000000000005\n",
      "freq: -229.0102928321834, gain: 0.31249999999999994, len: 1.0\n",
      "\tfid [%]: 13.200000000000012\n",
      "freq: -229.0102928321834, gain: 0.31249999999999994, len: 4.5\n",
      "\tfid [%]: 54.67957957957956\n",
      "freq: -229.0102928321834, gain: 0.31249999999999994, len: 8.0\n",
      "\tfid [%]: 61.90000000000004\n",
      "freq: -229.0102928321834, gain: 0.31249999999999994, len: 11.5\n",
      "\tfid [%]: 65.10000000000005\n",
      "freq: -229.0102928321834, gain: 0.39999999999999997, len: 1.0\n",
      "\tfid [%]: 17.355755755755798\n",
      "freq: -229.0102928321834, gain: 0.39999999999999997, len: 4.5\n",
      "\tfid [%]: 67.10000000000005\n",
      "freq: -229.0102928321834, gain: 0.39999999999999997, len: 8.0\n",
      "\tfid [%]: 72.89219219219218\n",
      "freq: -229.0102928321834, gain: 0.39999999999999997, len: 11.5\n",
      "\tfid [%]: 65.80000000000005\n",
      "freq: -229.0102928321834, gain: 0.4875, len: 1.0\n",
      "\tfid [%]: 19.900000000000016\n",
      "freq: -229.0102928321834, gain: 0.4875, len: 4.5\n",
      "\tfid [%]: 74.80000000000004\n",
      "freq: -229.0102928321834, gain: 0.4875, len: 8.0\n",
      "\tfid [%]: 75.00000000000004\n",
      "freq: -229.0102928321834, gain: 0.4875, len: 11.5\n",
      "\tfid [%]: 71.20000000000006\n",
      "freq: -229.0102928321834, gain: 0.575, len: 1.0\n",
      "\tfid [%]: 23.764564564564516\n",
      "freq: -229.0102928321834, gain: 0.575, len: 4.5\n",
      "\tfid [%]: 78.19179179179176\n",
      "freq: -229.0102928321834, gain: 0.575, len: 8.0\n",
      "\tfid [%]: 80.78728728728736\n",
      "freq: -229.0102928321834, gain: 0.575, len: 11.5\n",
      "\tfid [%]: 71.10000000000005\n",
      "freq: -229.0102928321834, gain: 0.6625, len: 1.0\n",
      "\tfid [%]: 28.857857857857823\n",
      "freq: -229.0102928321834, gain: 0.6625, len: 4.5\n",
      "\tfid [%]: 83.70000000000005\n",
      "freq: -229.0102928321834, gain: 0.6625, len: 8.0\n",
      "\tfid [%]: 75.30000000000004\n",
      "freq: -229.0102928321834, gain: 0.6625, len: 11.5\n",
      "\tfid [%]: 69.20000000000005\n",
      "freq: -229.0102928321834, gain: 0.75, len: 1.0\n",
      "\tfid [%]: 26.90000000000002\n",
      "freq: -229.0102928321834, gain: 0.75, len: 4.5\n",
      "\tfid [%]: 83.30000000000007\n",
      "freq: -229.0102928321834, gain: 0.75, len: 8.0\n",
      "\tfid [%]: 77.10000000000004\n",
      "freq: -229.0102928321834, gain: 0.75, len: 11.5\n",
      "\tfid [%]: 65.60000000000004\n",
      "freq: -228.9933247041552, gain: 0.05, len: 1.0\n",
      "\tfid [%]: 6.168168168168192\n",
      "freq: -228.9933247041552, gain: 0.05, len: 4.5\n",
      "\tfid [%]: 14.65785785785782\n",
      "freq: -228.9933247041552, gain: 0.05, len: 8.0\n",
      "\tfid [%]: 15.043843843843895\n",
      "freq: -228.9933247041552, gain: 0.05, len: 11.5\n",
      "\tfid [%]: 15.600000000000009\n",
      "freq: -228.9933247041552, gain: 0.1375, len: 1.0\n",
      "\tfid [%]: 8.269969969969926\n",
      "freq: -228.9933247041552, gain: 0.1375, len: 4.5\n",
      "\tfid [%]: 29.10000000000002\n",
      "freq: -228.9933247041552, gain: 0.1375, len: 8.0\n",
      "\tfid [%]: 34.40000000000003\n",
      "freq: -228.9933247041552, gain: 0.1375, len: 11.5\n",
      "\tfid [%]: 39.90000000000003\n",
      "freq: -228.9933247041552, gain: 0.22499999999999998, len: 1.0\n",
      "\tfid [%]: 6.660160160160195\n",
      "freq: -228.9933247041552, gain: 0.22499999999999998, len: 4.5\n",
      "\tfid [%]: 46.40000000000004\n",
      "freq: -228.9933247041552, gain: 0.22499999999999998, len: 8.0\n",
      "\tfid [%]: 49.90000000000004\n",
      "freq: -228.9933247041552, gain: 0.22499999999999998, len: 11.5\n",
      "\tfid [%]: 51.76606606606613\n",
      "freq: -228.9933247041552, gain: 0.31249999999999994, len: 1.0\n",
      "\tfid [%]: 17.500000000000014\n",
      "freq: -228.9933247041552, gain: 0.31249999999999994, len: 4.5\n",
      "\tfid [%]: 55.40000000000005\n",
      "freq: -228.9933247041552, gain: 0.31249999999999994, len: 8.0\n",
      "\tfid [%]: 66.78218218218224\n",
      "freq: -228.9933247041552, gain: 0.31249999999999994, len: 11.5\n",
      "\tfid [%]: 64.08808808808803\n",
      "freq: -228.9933247041552, gain: 0.39999999999999997, len: 1.0\n",
      "\tfid [%]: 15.200000000000003\n",
      "freq: -228.9933247041552, gain: 0.39999999999999997, len: 4.5\n",
      "\tfid [%]: 67.70000000000005\n",
      "freq: -228.9933247041552, gain: 0.39999999999999997, len: 8.0\n",
      "\tfid [%]: 74.90000000000006\n",
      "freq: -228.9933247041552, gain: 0.39999999999999997, len: 11.5\n",
      "\tfid [%]: 71.60000000000007\n",
      "freq: -228.9933247041552, gain: 0.4875, len: 1.0\n",
      "\tfid [%]: 17.70000000000001\n",
      "freq: -228.9933247041552, gain: 0.4875, len: 4.5\n",
      "\tfid [%]: 69.36936936936941\n",
      "freq: -228.9933247041552, gain: 0.4875, len: 8.0\n",
      "\tfid [%]: 76.90000000000006\n",
      "freq: -228.9933247041552, gain: 0.4875, len: 11.5\n",
      "\tfid [%]: 70.67917917917924\n",
      "freq: -228.9933247041552, gain: 0.575, len: 1.0\n",
      "\tfid [%]: 22.25595595595593\n",
      "freq: -228.9933247041552, gain: 0.575, len: 4.5\n",
      "\tfid [%]: 81.59329329329327\n",
      "freq: -228.9933247041552, gain: 0.575, len: 8.0\n",
      "\tfid [%]: 84.70000000000006\n",
      "freq: -228.9933247041552, gain: 0.575, len: 11.5\n",
      "\tfid [%]: 74.20000000000005\n",
      "freq: -228.9933247041552, gain: 0.6625, len: 1.0\n",
      "\tfid [%]: 19.952252252252222\n",
      "freq: -228.9933247041552, gain: 0.6625, len: 4.5\n",
      "\tfid [%]: 85.29559559559557\n",
      "freq: -228.9933247041552, gain: 0.6625, len: 8.0\n",
      "\tfid [%]: 81.10000000000007\n",
      "freq: -228.9933247041552, gain: 0.6625, len: 11.5\n",
      "\tfid [%]: 75.50000000000003\n",
      "freq: -228.9933247041552, gain: 0.75, len: 1.0\n",
      "\tfid [%]: 26.100000000000023\n",
      "freq: -228.9933247041552, gain: 0.75, len: 4.5\n",
      "\tfid [%]: 82.50000000000006\n",
      "freq: -228.9933247041552, gain: 0.75, len: 8.0\n",
      "\tfid [%]: 76.27627627627625\n",
      "freq: -228.9933247041552, gain: 0.75, len: 11.5\n",
      "\tfid [%]: 69.90000000000003\n",
      "freq: -228.976356576127, gain: 0.05, len: 1.0\n",
      "\tfid [%]: 5.600000000000005\n",
      "freq: -228.976356576127, gain: 0.05, len: 4.5\n",
      "\tfid [%]: 11.800000000000011\n",
      "freq: -228.976356576127, gain: 0.05, len: 8.0\n",
      "\tfid [%]: 16.30581162324651\n",
      "freq: -228.976356576127, gain: 0.05, len: 11.5\n",
      "\tfid [%]: 19.30000000000002\n",
      "freq: -228.976356576127, gain: 0.1375, len: 1.0\n",
      "\tfid [%]: 6.364064064064001\n",
      "freq: -228.976356576127, gain: 0.1375, len: 4.5\n",
      "\tfid [%]: 24.100000000000023\n",
      "freq: -228.976356576127, gain: 0.1375, len: 8.0\n",
      "\tfid [%]: 41.30000000000003\n",
      "freq: -228.976356576127, gain: 0.1375, len: 11.5\n",
      "\tfid [%]: 39.20000000000003\n",
      "freq: -228.976356576127, gain: 0.22499999999999998, len: 1.0\n",
      "\tfid [%]: 10.000000000000009\n",
      "freq: -228.976356576127, gain: 0.22499999999999998, len: 4.5\n",
      "\tfid [%]: 48.200000000000024\n",
      "freq: -228.976356576127, gain: 0.22499999999999998, len: 8.0\n",
      "\tfid [%]: 57.00000000000005\n",
      "freq: -228.976356576127, gain: 0.22499999999999998, len: 11.5\n",
      "\tfid [%]: 56.70000000000005\n",
      "freq: -228.976356576127, gain: 0.31249999999999994, len: 1.0\n",
      "\tfid [%]: 15.100000000000009\n",
      "freq: -228.976356576127, gain: 0.31249999999999994, len: 4.5\n",
      "\tfid [%]: 55.70000000000004\n",
      "freq: -228.976356576127, gain: 0.31249999999999994, len: 8.0\n",
      "\tfid [%]: 66.50000000000004\n",
      "freq: -228.976356576127, gain: 0.31249999999999994, len: 11.5\n",
      "\tfid [%]: 68.70000000000005\n",
      "freq: -228.976356576127, gain: 0.39999999999999997, len: 1.0\n",
      "\tfid [%]: 13.800000000000011\n",
      "freq: -228.976356576127, gain: 0.39999999999999997, len: 4.5\n",
      "\tfid [%]: 68.28938938938936\n",
      "freq: -228.976356576127, gain: 0.39999999999999997, len: 8.0\n",
      "\tfid [%]: 71.80000000000004\n",
      "freq: -228.976356576127, gain: 0.39999999999999997, len: 11.5\n",
      "\tfid [%]: 73.60000000000004\n",
      "freq: -228.976356576127, gain: 0.4875, len: 1.0\n",
      "\tfid [%]: 21.400000000000013\n",
      "freq: -228.976356576127, gain: 0.4875, len: 4.5\n",
      "\tfid [%]: 73.20000000000006\n",
      "freq: -228.976356576127, gain: 0.4875, len: 8.0\n",
      "\tfid [%]: 80.00000000000004\n",
      "freq: -228.976356576127, gain: 0.4875, len: 11.5\n",
      "\tfid [%]: 72.10000000000005\n",
      "freq: -228.976356576127, gain: 0.575, len: 1.0\n",
      "\tfid [%]: 21.80000000000002\n",
      "freq: -228.976356576127, gain: 0.575, len: 4.5\n",
      "\tfid [%]: 83.90000000000006\n",
      "freq: -228.976356576127, gain: 0.575, len: 8.0\n",
      "\tfid [%]: 81.40000000000005\n",
      "freq: -228.976356576127, gain: 0.575, len: 11.5\n",
      "\tfid [%]: 79.00000000000004\n",
      "freq: -228.976356576127, gain: 0.6625, len: 1.0\n",
      "\tfid [%]: 22.800000000000015\n",
      "freq: -228.976356576127, gain: 0.6625, len: 4.5\n",
      "\tfid [%]: 83.89529529529527\n",
      "freq: -228.976356576127, gain: 0.6625, len: 8.0\n",
      "\tfid [%]: 77.47747747747746\n",
      "freq: -228.976356576127, gain: 0.6625, len: 11.5\n",
      "\tfid [%]: 70.70000000000003\n",
      "freq: -228.976356576127, gain: 0.75, len: 1.0\n",
      "\tfid [%]: 30.00000000000002\n",
      "freq: -228.976356576127, gain: 0.75, len: 4.5\n",
      "\tfid [%]: 83.10000000000005\n",
      "freq: -228.976356576127, gain: 0.75, len: 8.0\n",
      "\tfid [%]: 84.69529529529527\n",
      "freq: -228.976356576127, gain: 0.75, len: 11.5\n",
      "\tfid [%]: 79.39359359359361\n",
      "freq: -228.95938844809876, gain: 0.05, len: 1.0\n",
      "\tfid [%]: 8.500000000000007\n",
      "freq: -228.95938844809876, gain: 0.05, len: 4.5\n",
      "\tfid [%]: 16.500000000000014\n",
      "freq: -228.95938844809876, gain: 0.05, len: 8.0\n",
      "\tfid [%]: 18.91891891891891\n",
      "freq: -228.95938844809876, gain: 0.05, len: 11.5\n",
      "\tfid [%]: 19.000000000000018\n",
      "freq: -228.95938844809876, gain: 0.1375, len: 1.0\n",
      "\tfid [%]: 11.656056056056102\n",
      "freq: -228.95938844809876, gain: 0.1375, len: 4.5\n",
      "\tfid [%]: 30.50000000000003\n",
      "freq: -228.95938844809876, gain: 0.1375, len: 8.0\n",
      "\tfid [%]: 41.27807807807805\n",
      "freq: -228.95938844809876, gain: 0.1375, len: 11.5\n",
      "\tfid [%]: 40.60000000000003\n",
      "freq: -228.95938844809876, gain: 0.22499999999999998, len: 1.0\n",
      "\tfid [%]: 10.169569569569514\n",
      "freq: -228.95938844809876, gain: 0.22499999999999998, len: 4.5\n",
      "\tfid [%]: 47.400000000000034\n",
      "freq: -228.95938844809876, gain: 0.22499999999999998, len: 8.0\n",
      "\tfid [%]: 61.400000000000034\n",
      "freq: -228.95938844809876, gain: 0.22499999999999998, len: 11.5\n",
      "\tfid [%]: 63.800000000000054\n",
      "freq: -228.95938844809876, gain: 0.31249999999999994, len: 1.0\n",
      "\tfid [%]: 12.700000000000012\n",
      "freq: -228.95938844809876, gain: 0.31249999999999994, len: 4.5\n",
      "\tfid [%]: 61.700000000000045\n",
      "freq: -228.95938844809876, gain: 0.31249999999999994, len: 8.0\n",
      "\tfid [%]: 72.50000000000006\n",
      "freq: -228.95938844809876, gain: 0.31249999999999994, len: 11.5\n",
      "\tfid [%]: 68.10000000000007\n",
      "freq: -228.95938844809876, gain: 0.39999999999999997, len: 1.0\n",
      "\tfid [%]: 15.800000000000015\n",
      "freq: -228.95938844809876, gain: 0.39999999999999997, len: 4.5\n",
      "\tfid [%]: 66.90000000000005\n",
      "freq: -228.95938844809876, gain: 0.39999999999999997, len: 8.0\n",
      "\tfid [%]: 75.40000000000005\n",
      "freq: -228.95938844809876, gain: 0.39999999999999997, len: 11.5\n",
      "\tfid [%]: 75.30000000000005\n",
      "freq: -228.95938844809876, gain: 0.4875, len: 1.0\n",
      "\tfid [%]: 17.062162162162203\n",
      "freq: -228.95938844809876, gain: 0.4875, len: 4.5\n",
      "\tfid [%]: 78.10000000000005\n",
      "freq: -228.95938844809876, gain: 0.4875, len: 8.0\n",
      "\tfid [%]: 80.50000000000004\n",
      "freq: -228.95938844809876, gain: 0.4875, len: 11.5\n",
      "\tfid [%]: 75.80000000000004\n",
      "freq: -228.95938844809876, gain: 0.575, len: 1.0\n",
      "\tfid [%]: 20.300000000000008\n",
      "freq: -228.95938844809876, gain: 0.575, len: 4.5\n",
      "\tfid [%]: 82.30000000000007\n",
      "freq: -228.95938844809876, gain: 0.575, len: 8.0\n",
      "\tfid [%]: 78.40000000000003\n",
      "freq: -228.95938844809876, gain: 0.575, len: 11.5\n",
      "\tfid [%]: 78.39269269269266\n",
      "freq: -228.95938844809876, gain: 0.6625, len: 1.0\n",
      "\tfid [%]: 22.16746746746744\n",
      "freq: -228.95938844809876, gain: 0.6625, len: 4.5\n",
      "\tfid [%]: 84.00000000000006\n",
      "freq: -228.95938844809876, gain: 0.6625, len: 8.0\n",
      "\tfid [%]: 78.37837837837837\n",
      "freq: -228.95938844809876, gain: 0.6625, len: 11.5\n",
      "\tfid [%]: 75.80000000000003\n",
      "freq: -228.95938844809876, gain: 0.75, len: 1.0\n",
      "\tfid [%]: 26.36326326326323\n",
      "freq: -228.95938844809876, gain: 0.75, len: 4.5\n",
      "\tfid [%]: 76.80000000000004\n",
      "freq: -228.95938844809876, gain: 0.75, len: 8.0\n",
      "\tfid [%]: 81.00000000000004\n",
      "freq: -228.95938844809876, gain: 0.75, len: 11.5\n",
      "\tfid [%]: 77.38928928928932\n",
      "freq: -228.94242032007057, gain: 0.05, len: 1.0\n",
      "\tfid [%]: 5.800000000000005\n",
      "freq: -228.94242032007057, gain: 0.05, len: 4.5\n",
      "\tfid [%]: 13.00000000000001\n",
      "freq: -228.94242032007057, gain: 0.05, len: 8.0\n",
      "\tfid [%]: 19.100000000000016\n",
      "freq: -228.94242032007057, gain: 0.05, len: 11.5\n",
      "\tfid [%]: 22.200000000000014\n",
      "freq: -228.94242032007057, gain: 0.1375, len: 1.0\n",
      "\tfid [%]: 7.636673346693346\n",
      "freq: -228.94242032007057, gain: 0.1375, len: 4.5\n",
      "\tfid [%]: 32.90000000000003\n",
      "freq: -228.94242032007057, gain: 0.1375, len: 8.0\n",
      "\tfid [%]: 45.90000000000003\n",
      "freq: -228.94242032007057, gain: 0.1375, len: 11.5\n",
      "\tfid [%]: 49.77477477477475\n",
      "freq: -228.94242032007057, gain: 0.22499999999999998, len: 1.0\n",
      "\tfid [%]: 9.100000000000009\n",
      "freq: -228.94242032007057, gain: 0.22499999999999998, len: 4.5\n",
      "\tfid [%]: 50.67657657657656\n",
      "freq: -228.94242032007057, gain: 0.22499999999999998, len: 8.0\n",
      "\tfid [%]: 65.70000000000006\n",
      "freq: -228.94242032007057, gain: 0.22499999999999998, len: 11.5\n",
      "\tfid [%]: 70.78918918918917\n",
      "freq: -228.94242032007057, gain: 0.31249999999999994, len: 1.0\n",
      "\tfid [%]: 12.500000000000005\n",
      "freq: -228.94242032007057, gain: 0.31249999999999994, len: 4.5\n",
      "\tfid [%]: 62.782582582582556\n",
      "freq: -228.94242032007057, gain: 0.31249999999999994, len: 8.0\n",
      "\tfid [%]: 81.00000000000006\n",
      "freq: -228.94242032007057, gain: 0.31249999999999994, len: 11.5\n",
      "\tfid [%]: 76.00000000000004\n",
      "freq: -228.94242032007057, gain: 0.39999999999999997, len: 1.0\n",
      "\tfid [%]: 14.450750750750728\n",
      "freq: -228.94242032007057, gain: 0.39999999999999997, len: 4.5\n",
      "\tfid [%]: 71.68788788788785\n",
      "freq: -228.94242032007057, gain: 0.39999999999999997, len: 8.0\n",
      "\tfid [%]: 80.10000000000005\n",
      "freq: -228.94242032007057, gain: 0.39999999999999997, len: 11.5\n",
      "\tfid [%]: 74.30000000000005\n",
      "freq: -228.94242032007057, gain: 0.4875, len: 1.0\n",
      "\tfid [%]: 14.400000000000007\n",
      "freq: -228.94242032007057, gain: 0.4875, len: 4.5\n",
      "\tfid [%]: 81.90000000000006\n",
      "freq: -228.94242032007057, gain: 0.4875, len: 8.0\n",
      "\tfid [%]: 84.39599599599596\n",
      "freq: -228.94242032007057, gain: 0.4875, len: 11.5\n",
      "\tfid [%]: 83.48888888888895\n",
      "freq: -228.94242032007057, gain: 0.575, len: 1.0\n",
      "\tfid [%]: 26.600000000000023\n",
      "freq: -228.94242032007057, gain: 0.575, len: 4.5\n",
      "\tfid [%]: 79.49359359359359\n",
      "freq: -228.94242032007057, gain: 0.575, len: 8.0\n",
      "\tfid [%]: 82.79599599599597\n",
      "freq: -228.94242032007057, gain: 0.575, len: 11.5\n",
      "\tfid [%]: 75.20000000000005\n",
      "freq: -228.94242032007057, gain: 0.6625, len: 1.0\n",
      "\tfid [%]: 22.20000000000002\n",
      "freq: -228.94242032007057, gain: 0.6625, len: 4.5\n",
      "\tfid [%]: 86.90000000000005\n",
      "freq: -228.94242032007057, gain: 0.6625, len: 8.0\n",
      "\tfid [%]: 83.40000000000005\n",
      "freq: -228.94242032007057, gain: 0.6625, len: 11.5\n",
      "\tfid [%]: 72.58848848848845\n",
      "freq: -228.94242032007057, gain: 0.75, len: 1.0\n",
      "\tfid [%]: 27.56466466466463\n",
      "freq: -228.94242032007057, gain: 0.75, len: 4.5\n",
      "\tfid [%]: 80.19449449449448\n",
      "freq: -228.94242032007057, gain: 0.75, len: 8.0\n",
      "\tfid [%]: 78.48528528528533\n",
      "freq: -228.94242032007057, gain: 0.75, len: 11.5\n",
      "\tfid [%]: 80.00000000000004\n",
      "freq: -228.92545219204234, gain: 0.05, len: 1.0\n",
      "\tfid [%]: 6.600000000000006\n",
      "freq: -228.92545219204234, gain: 0.05, len: 4.5\n",
      "\tfid [%]: 15.255355355355299\n",
      "freq: -228.92545219204234, gain: 0.05, len: 8.0\n",
      "\tfid [%]: 19.30000000000002\n",
      "freq: -228.92545219204234, gain: 0.05, len: 11.5\n",
      "\tfid [%]: 21.30000000000002\n",
      "freq: -228.92545219204234, gain: 0.1375, len: 1.0\n",
      "\tfid [%]: 4.299999999999998\n",
      "freq: -228.92545219204234, gain: 0.1375, len: 4.5\n",
      "\tfid [%]: 32.96806806806812\n",
      "freq: -228.92545219204234, gain: 0.1375, len: 8.0\n",
      "\tfid [%]: 44.60000000000004\n",
      "freq: -228.92545219204234, gain: 0.1375, len: 11.5\n",
      "\tfid [%]: 54.000000000000036\n",
      "freq: -228.92545219204234, gain: 0.22499999999999998, len: 1.0\n",
      "\tfid [%]: 5.60000000000001\n",
      "freq: -228.92545219204234, gain: 0.22499999999999998, len: 4.5\n",
      "\tfid [%]: 54.00000000000005\n",
      "freq: -228.92545219204234, gain: 0.22499999999999998, len: 8.0\n",
      "\tfid [%]: 67.90000000000005\n",
      "freq: -228.92545219204234, gain: 0.22499999999999998, len: 11.5\n",
      "\tfid [%]: 68.80000000000005\n",
      "freq: -228.92545219204234, gain: 0.31249999999999994, len: 1.0\n",
      "\tfid [%]: 12.6\n",
      "freq: -228.92545219204234, gain: 0.31249999999999994, len: 4.5\n",
      "\tfid [%]: 61.182482482482435\n",
      "freq: -228.92545219204234, gain: 0.31249999999999994, len: 8.0\n",
      "\tfid [%]: 80.30000000000005\n",
      "freq: -228.92545219204234, gain: 0.31249999999999994, len: 11.5\n",
      "\tfid [%]: 82.40000000000005\n",
      "freq: -228.92545219204234, gain: 0.39999999999999997, len: 1.0\n",
      "\tfid [%]: 17.10000000000001\n",
      "freq: -228.92545219204234, gain: 0.39999999999999997, len: 4.5\n",
      "\tfid [%]: 67.90000000000005\n",
      "freq: -228.92545219204234, gain: 0.39999999999999997, len: 8.0\n",
      "\tfid [%]: 81.9960960960961\n",
      "freq: -228.92545219204234, gain: 0.39999999999999997, len: 11.5\n",
      "\tfid [%]: 82.50000000000006\n",
      "freq: -228.92545219204234, gain: 0.4875, len: 1.0\n",
      "\tfid [%]: 20.700000000000006\n",
      "freq: -228.92545219204234, gain: 0.4875, len: 4.5\n",
      "\tfid [%]: 78.20000000000005\n",
      "freq: -228.92545219204234, gain: 0.4875, len: 8.0\n",
      "\tfid [%]: 81.20000000000005\n",
      "freq: -228.92545219204234, gain: 0.4875, len: 11.5\n",
      "\tfid [%]: 69.18408408408408\n",
      "freq: -228.92545219204234, gain: 0.575, len: 1.0\n",
      "\tfid [%]: 17.80000000000001\n",
      "freq: -228.92545219204234, gain: 0.575, len: 4.5\n",
      "\tfid [%]: 77.90000000000006\n",
      "freq: -228.92545219204234, gain: 0.575, len: 8.0\n",
      "\tfid [%]: 78.18998998998995\n",
      "freq: -228.92545219204234, gain: 0.575, len: 11.5\n",
      "\tfid [%]: 75.80000000000004\n",
      "freq: -228.92545219204234, gain: 0.6625, len: 1.0\n",
      "\tfid [%]: 25.700000000000024\n",
      "freq: -228.92545219204234, gain: 0.6625, len: 4.5\n",
      "\tfid [%]: 82.79429429429429\n",
      "freq: -228.92545219204234, gain: 0.6625, len: 8.0\n",
      "\tfid [%]: 80.90000000000006\n",
      "freq: -228.92545219204234, gain: 0.6625, len: 11.5\n",
      "\tfid [%]: 69.90000000000003\n",
      "freq: -228.92545219204234, gain: 0.75, len: 1.0\n",
      "\tfid [%]: 27.500000000000018\n",
      "freq: -228.92545219204234, gain: 0.75, len: 4.5\n",
      "\tfid [%]: 85.80000000000005\n",
      "freq: -228.92545219204234, gain: 0.75, len: 8.0\n",
      "\tfid [%]: 78.59069069069068\n",
      "freq: -228.92545219204234, gain: 0.75, len: 11.5\n",
      "\tfid [%]: 79.99529529529525\n",
      "freq: -228.90848406401412, gain: 0.05, len: 1.0\n",
      "\tfid [%]: 6.100000000000005\n",
      "freq: -228.90848406401412, gain: 0.05, len: 4.5\n",
      "\tfid [%]: 12.800000000000011\n",
      "freq: -228.90848406401412, gain: 0.05, len: 8.0\n",
      "\tfid [%]: 22.300000000000015\n",
      "freq: -228.90848406401412, gain: 0.05, len: 11.5\n",
      "\tfid [%]: 22.400000000000013\n",
      "freq: -228.90848406401412, gain: 0.1375, len: 1.0\n",
      "\tfid [%]: 6.663463463463498\n",
      "freq: -228.90848406401412, gain: 0.1375, len: 4.5\n",
      "\tfid [%]: 34.43443443443442\n",
      "freq: -228.90848406401412, gain: 0.1375, len: 8.0\n",
      "\tfid [%]: 48.08038038038034\n",
      "freq: -228.90848406401412, gain: 0.1375, len: 11.5\n",
      "\tfid [%]: 51.27707707707708\n",
      "freq: -228.90848406401412, gain: 0.22499999999999998, len: 1.0\n",
      "\tfid [%]: 14.058758758758794\n",
      "freq: -228.90848406401412, gain: 0.22499999999999998, len: 4.5\n",
      "\tfid [%]: 48.200000000000045\n",
      "freq: -228.90848406401412, gain: 0.22499999999999998, len: 8.0\n",
      "\tfid [%]: 63.600000000000044\n",
      "freq: -228.90848406401412, gain: 0.22499999999999998, len: 11.5\n",
      "\tfid [%]: 70.38698698698698\n",
      "freq: -228.90848406401412, gain: 0.31249999999999994, len: 1.0\n",
      "\tfid [%]: 10.0684684684685\n",
      "freq: -228.90848406401412, gain: 0.31249999999999994, len: 4.5\n",
      "\tfid [%]: 57.40000000000005\n",
      "freq: -228.90848406401412, gain: 0.31249999999999994, len: 8.0\n",
      "\tfid [%]: 74.20000000000005\n",
      "freq: -228.90848406401412, gain: 0.31249999999999994, len: 11.5\n",
      "\tfid [%]: 70.98738738738734\n",
      "freq: -228.90848406401412, gain: 0.39999999999999997, len: 1.0\n",
      "\tfid [%]: 16.300000000000015\n",
      "freq: -228.90848406401412, gain: 0.39999999999999997, len: 4.5\n",
      "\tfid [%]: 71.78668668668666\n",
      "freq: -228.90848406401412, gain: 0.39999999999999997, len: 8.0\n",
      "\tfid [%]: 77.30000000000005\n",
      "freq: -228.90848406401412, gain: 0.39999999999999997, len: 11.5\n",
      "\tfid [%]: 75.29249249249246\n",
      "freq: -228.90848406401412, gain: 0.4875, len: 1.0\n",
      "\tfid [%]: 22.20000000000002\n",
      "freq: -228.90848406401412, gain: 0.4875, len: 4.5\n",
      "\tfid [%]: 80.49359359359356\n",
      "freq: -228.90848406401412, gain: 0.4875, len: 8.0\n",
      "\tfid [%]: 78.10000000000005\n",
      "freq: -228.90848406401412, gain: 0.4875, len: 11.5\n",
      "\tfid [%]: 79.6948948948949\n",
      "freq: -228.90848406401412, gain: 0.575, len: 1.0\n",
      "\tfid [%]: 19.500000000000018\n",
      "freq: -228.90848406401412, gain: 0.575, len: 4.5\n",
      "\tfid [%]: 80.00000000000004\n",
      "freq: -228.90848406401412, gain: 0.575, len: 8.0\n",
      "\tfid [%]: 77.79119119119113\n",
      "freq: -228.90848406401412, gain: 0.575, len: 11.5\n",
      "\tfid [%]: 73.60000000000004\n",
      "freq: -228.90848406401412, gain: 0.6625, len: 1.0\n",
      "\tfid [%]: 27.462762762762736\n",
      "freq: -228.90848406401412, gain: 0.6625, len: 4.5\n",
      "\tfid [%]: 77.69289289289287\n",
      "freq: -228.90848406401412, gain: 0.6625, len: 8.0\n",
      "\tfid [%]: 81.90000000000003\n",
      "freq: -228.90848406401412, gain: 0.6625, len: 11.5\n",
      "\tfid [%]: 76.90000000000006\n",
      "freq: -228.90848406401412, gain: 0.75, len: 1.0\n",
      "\tfid [%]: 28.964364364364414\n",
      "freq: -228.90848406401412, gain: 0.75, len: 4.5\n",
      "\tfid [%]: 81.49689689689687\n",
      "freq: -228.90848406401412, gain: 0.75, len: 8.0\n",
      "\tfid [%]: 81.7962962962963\n",
      "freq: -228.90848406401412, gain: 0.75, len: 11.5\n",
      "\tfid [%]: 74.79009009009008\n",
      "freq: -228.8915159359859, gain: 0.05, len: 1.0\n",
      "\tfid [%]: 5.0434434434434126\n",
      "freq: -228.8915159359859, gain: 0.05, len: 4.5\n",
      "\tfid [%]: 15.400000000000007\n",
      "freq: -228.8915159359859, gain: 0.05, len: 8.0\n",
      "\tfid [%]: 19.30000000000002\n",
      "freq: -228.8915159359859, gain: 0.05, len: 11.5\n",
      "\tfid [%]: 25.900000000000016\n",
      "freq: -228.8915159359859, gain: 0.1375, len: 1.0\n",
      "\tfid [%]: 6.400000000000006\n",
      "freq: -228.8915159359859, gain: 0.1375, len: 4.5\n",
      "\tfid [%]: 31.80000000000003\n",
      "freq: -228.8915159359859, gain: 0.1375, len: 8.0\n",
      "\tfid [%]: 50.80000000000005\n",
      "freq: -228.8915159359859, gain: 0.1375, len: 11.5\n",
      "\tfid [%]: 57.00000000000005\n",
      "freq: -228.8915159359859, gain: 0.22499999999999998, len: 1.0\n",
      "\tfid [%]: 11.50000000000001\n",
      "freq: -228.8915159359859, gain: 0.22499999999999998, len: 4.5\n",
      "\tfid [%]: 43.70000000000004\n",
      "freq: -228.8915159359859, gain: 0.22499999999999998, len: 8.0\n",
      "\tfid [%]: 67.88538538538538\n",
      "freq: -228.8915159359859, gain: 0.22499999999999998, len: 11.5\n",
      "\tfid [%]: 78.99369369369367\n",
      "freq: -228.8915159359859, gain: 0.31249999999999994, len: 1.0\n",
      "\tfid [%]: 10.100000000000009\n",
      "freq: -228.8915159359859, gain: 0.31249999999999994, len: 4.5\n",
      "\tfid [%]: 57.0841841841841\n",
      "freq: -228.8915159359859, gain: 0.31249999999999994, len: 8.0\n",
      "\tfid [%]: 80.10000000000007\n",
      "freq: -228.8915159359859, gain: 0.31249999999999994, len: 11.5\n",
      "\tfid [%]: 76.50000000000004\n",
      "freq: -228.8915159359859, gain: 0.39999999999999997, len: 1.0\n",
      "\tfid [%]: 14.800000000000013\n",
      "freq: -228.8915159359859, gain: 0.39999999999999997, len: 4.5\n",
      "\tfid [%]: 77.29049049049047\n",
      "freq: -228.8915159359859, gain: 0.39999999999999997, len: 8.0\n",
      "\tfid [%]: 79.20000000000005\n",
      "freq: -228.8915159359859, gain: 0.39999999999999997, len: 11.5\n",
      "\tfid [%]: 81.60000000000005\n",
      "freq: -228.8915159359859, gain: 0.4875, len: 1.0\n",
      "\tfid [%]: 21.800000000000015\n",
      "freq: -228.8915159359859, gain: 0.4875, len: 4.5\n",
      "\tfid [%]: 77.10000000000005\n",
      "freq: -228.8915159359859, gain: 0.4875, len: 8.0\n",
      "\tfid [%]: 78.69159159159157\n",
      "freq: -228.8915159359859, gain: 0.4875, len: 11.5\n",
      "\tfid [%]: 67.20000000000003\n",
      "freq: -228.8915159359859, gain: 0.575, len: 1.0\n",
      "\tfid [%]: 18.966366366366334\n",
      "freq: -228.8915159359859, gain: 0.575, len: 4.5\n",
      "\tfid [%]: 78.79359359359357\n",
      "freq: -228.8915159359859, gain: 0.575, len: 8.0\n",
      "\tfid [%]: 82.00000000000006\n",
      "freq: -228.8915159359859, gain: 0.575, len: 11.5\n",
      "\tfid [%]: 67.18168168168171\n",
      "freq: -228.8915159359859, gain: 0.6625, len: 1.0\n",
      "\tfid [%]: 23.154854854854822\n",
      "freq: -228.8915159359859, gain: 0.6625, len: 4.5\n",
      "\tfid [%]: 76.591991991992\n",
      "freq: -228.8915159359859, gain: 0.6625, len: 8.0\n",
      "\tfid [%]: 82.40000000000005\n",
      "freq: -228.8915159359859, gain: 0.6625, len: 11.5\n",
      "\tfid [%]: 71.90000000000003\n",
      "freq: -228.8915159359859, gain: 0.75, len: 1.0\n",
      "\tfid [%]: 27.500000000000025\n",
      "freq: -228.8915159359859, gain: 0.75, len: 4.5\n",
      "\tfid [%]: 80.89609609609609\n",
      "freq: -228.8915159359859, gain: 0.75, len: 8.0\n",
      "\tfid [%]: 79.4912912912913\n",
      "freq: -228.8915159359859, gain: 0.75, len: 11.5\n",
      "\tfid [%]: 67.28638638638633\n",
      "freq: -228.8745478079577, gain: 0.05, len: 1.0\n",
      "\tfid [%]: 4.100000000000003\n",
      "freq: -228.8745478079577, gain: 0.05, len: 4.5\n",
      "\tfid [%]: 13.100000000000017\n",
      "freq: -228.8745478079577, gain: 0.05, len: 8.0\n",
      "\tfid [%]: 20.600000000000012\n",
      "freq: -228.8745478079577, gain: 0.05, len: 11.5\n",
      "\tfid [%]: 28.570570570570514\n",
      "freq: -228.8745478079577, gain: 0.1375, len: 1.0\n",
      "\tfid [%]: 3.200000000000003\n",
      "freq: -228.8745478079577, gain: 0.1375, len: 4.5\n",
      "\tfid [%]: 36.40000000000004\n",
      "freq: -228.8745478079577, gain: 0.1375, len: 8.0\n",
      "\tfid [%]: 51.30000000000005\n",
      "freq: -228.8745478079577, gain: 0.1375, len: 11.5\n",
      "\tfid [%]: 55.58398398398396\n",
      "freq: -228.8745478079577, gain: 0.22499999999999998, len: 1.0\n",
      "\tfid [%]: 11.041941941941925\n",
      "freq: -228.8745478079577, gain: 0.22499999999999998, len: 4.5\n",
      "\tfid [%]: 47.176876876876825\n",
      "freq: -228.8745478079577, gain: 0.22499999999999998, len: 8.0\n",
      "\tfid [%]: 68.18618618618618\n",
      "freq: -228.8745478079577, gain: 0.22499999999999998, len: 11.5\n",
      "\tfid [%]: 75.60000000000005\n",
      "freq: -228.8745478079577, gain: 0.31249999999999994, len: 1.0\n",
      "\tfid [%]: 12.500000000000005\n",
      "freq: -228.8745478079577, gain: 0.31249999999999994, len: 4.5\n",
      "\tfid [%]: 60.785985985985945\n",
      "freq: -228.8745478079577, gain: 0.31249999999999994, len: 8.0\n",
      "\tfid [%]: 77.39109109109107\n",
      "freq: -228.8745478079577, gain: 0.31249999999999994, len: 11.5\n",
      "\tfid [%]: 72.50000000000006\n",
      "freq: -228.8745478079577, gain: 0.39999999999999997, len: 1.0\n",
      "\tfid [%]: 12.10000000000001\n",
      "freq: -228.8745478079577, gain: 0.39999999999999997, len: 4.5\n",
      "\tfid [%]: 72.38758758758759\n",
      "freq: -228.8745478079577, gain: 0.39999999999999997, len: 8.0\n",
      "\tfid [%]: 84.3960960960961\n",
      "freq: -228.8745478079577, gain: 0.39999999999999997, len: 11.5\n",
      "\tfid [%]: 75.78888888888885\n",
      "freq: -228.8745478079577, gain: 0.4875, len: 1.0\n",
      "\tfid [%]: 19.86426426426422\n",
      "freq: -228.8745478079577, gain: 0.4875, len: 4.5\n",
      "\tfid [%]: 79.29009009009005\n",
      "freq: -228.8745478079577, gain: 0.4875, len: 8.0\n",
      "\tfid [%]: 85.59579579579577\n",
      "freq: -228.8745478079577, gain: 0.4875, len: 11.5\n",
      "\tfid [%]: 70.00000000000003\n",
      "freq: -228.8745478079577, gain: 0.575, len: 1.0\n",
      "\tfid [%]: 24.50000000000002\n",
      "freq: -228.8745478079577, gain: 0.575, len: 4.5\n",
      "\tfid [%]: 81.30000000000007\n",
      "freq: -228.8745478079577, gain: 0.575, len: 8.0\n",
      "\tfid [%]: 84.19599599599596\n",
      "freq: -228.8745478079577, gain: 0.575, len: 11.5\n",
      "\tfid [%]: 72.18648648648649\n",
      "freq: -228.8745478079577, gain: 0.6625, len: 1.0\n",
      "\tfid [%]: 20.500000000000018\n",
      "freq: -228.8745478079577, gain: 0.6625, len: 4.5\n",
      "\tfid [%]: 83.49569569569569\n",
      "freq: -228.8745478079577, gain: 0.6625, len: 8.0\n",
      "\tfid [%]: 75.00000000000004\n",
      "freq: -228.8745478079577, gain: 0.6625, len: 11.5\n",
      "\tfid [%]: 69.08558558558562\n",
      "freq: -228.8745478079577, gain: 0.75, len: 1.0\n",
      "\tfid [%]: 26.261661661661634\n",
      "freq: -228.8745478079577, gain: 0.75, len: 4.5\n",
      "\tfid [%]: 74.90000000000006\n",
      "freq: -228.8745478079577, gain: 0.75, len: 8.0\n",
      "\tfid [%]: 76.4940940940941\n",
      "freq: -228.8745478079577, gain: 0.75, len: 11.5\n",
      "\tfid [%]: 69.00000000000004\n",
      "freq: -228.85757967992947, gain: 0.05, len: 1.0\n",
      "\tfid [%]: 7.100000000000007\n",
      "freq: -228.85757967992947, gain: 0.05, len: 4.5\n",
      "\tfid [%]: 14.400000000000013\n",
      "freq: -228.85757967992947, gain: 0.05, len: 8.0\n",
      "\tfid [%]: 19.80000000000001\n",
      "freq: -228.85757967992947, gain: 0.05, len: 11.5\n",
      "\tfid [%]: 25.100000000000023\n",
      "freq: -228.85757967992947, gain: 0.1375, len: 1.0\n",
      "\tfid [%]: 8.100000000000007\n",
      "freq: -228.85757967992947, gain: 0.1375, len: 4.5\n",
      "\tfid [%]: 34.60000000000003\n",
      "freq: -228.85757967992947, gain: 0.1375, len: 8.0\n",
      "\tfid [%]: 46.700000000000024\n",
      "freq: -228.85757967992947, gain: 0.1375, len: 11.5\n",
      "\tfid [%]: 45.80000000000003\n",
      "freq: -228.85757967992947, gain: 0.22499999999999998, len: 1.0\n",
      "\tfid [%]: 12.10000000000001\n",
      "freq: -228.85757967992947, gain: 0.22499999999999998, len: 4.5\n",
      "\tfid [%]: 49.500000000000036\n",
      "freq: -228.85757967992947, gain: 0.22499999999999998, len: 8.0\n",
      "\tfid [%]: 63.00000000000006\n",
      "freq: -228.85757967992947, gain: 0.22499999999999998, len: 11.5\n",
      "\tfid [%]: 72.80000000000004\n",
      "freq: -228.85757967992947, gain: 0.31249999999999994, len: 1.0\n",
      "\tfid [%]: 12.85015015015012\n",
      "freq: -228.85757967992947, gain: 0.31249999999999994, len: 4.5\n",
      "\tfid [%]: 59.885585585585545\n",
      "freq: -228.85757967992947, gain: 0.31249999999999994, len: 8.0\n",
      "\tfid [%]: 74.50000000000006\n",
      "freq: -228.85757967992947, gain: 0.31249999999999994, len: 11.5\n",
      "\tfid [%]: 78.70000000000005\n",
      "freq: -228.85757967992947, gain: 0.39999999999999997, len: 1.0\n",
      "\tfid [%]: 13.863863863863896\n",
      "freq: -228.85757967992947, gain: 0.39999999999999997, len: 4.5\n",
      "\tfid [%]: 61.400000000000034\n",
      "freq: -228.85757967992947, gain: 0.39999999999999997, len: 8.0\n",
      "\tfid [%]: 80.59539539539537\n",
      "freq: -228.85757967992947, gain: 0.39999999999999997, len: 11.5\n",
      "\tfid [%]: 78.10000000000005\n",
      "freq: -228.85757967992947, gain: 0.4875, len: 1.0\n",
      "\tfid [%]: 14.600000000000012\n",
      "freq: -228.85757967992947, gain: 0.4875, len: 4.5\n",
      "\tfid [%]: 75.38438438438445\n",
      "freq: -228.85757967992947, gain: 0.4875, len: 8.0\n",
      "\tfid [%]: 83.09499499499499\n",
      "freq: -228.85757967992947, gain: 0.4875, len: 11.5\n",
      "\tfid [%]: 81.60000000000005\n",
      "freq: -228.85757967992947, gain: 0.575, len: 1.0\n",
      "\tfid [%]: 15.300000000000008\n",
      "freq: -228.85757967992947, gain: 0.575, len: 4.5\n",
      "\tfid [%]: 81.30000000000007\n",
      "freq: -228.85757967992947, gain: 0.575, len: 8.0\n",
      "\tfid [%]: 80.3934934934935\n",
      "freq: -228.85757967992947, gain: 0.575, len: 11.5\n",
      "\tfid [%]: 79.80000000000005\n",
      "freq: -228.85757967992947, gain: 0.6625, len: 1.0\n",
      "\tfid [%]: 28.000000000000018\n",
      "freq: -228.85757967992947, gain: 0.6625, len: 4.5\n",
      "\tfid [%]: 81.49339339339335\n",
      "freq: -228.85757967992947, gain: 0.6625, len: 8.0\n",
      "\tfid [%]: 78.20000000000005\n",
      "freq: -228.85757967992947, gain: 0.6625, len: 11.5\n",
      "\tfid [%]: 65.88098098098094\n",
      "freq: -228.85757967992947, gain: 0.75, len: 1.0\n",
      "\tfid [%]: 24.70000000000002\n",
      "freq: -228.85757967992947, gain: 0.75, len: 4.5\n",
      "\tfid [%]: 80.09609609609605\n",
      "freq: -228.85757967992947, gain: 0.75, len: 8.0\n",
      "\tfid [%]: 76.30000000000005\n",
      "freq: -228.85757967992947, gain: 0.75, len: 11.5\n",
      "\tfid [%]: 71.8853853853854\n",
      "freq: -228.84061155190125, gain: 0.05, len: 1.0\n",
      "\tfid [%]: 4.100000000000003\n",
      "freq: -228.84061155190125, gain: 0.05, len: 4.5\n",
      "\tfid [%]: 10.400000000000004\n",
      "freq: -228.84061155190125, gain: 0.05, len: 8.0\n",
      "\tfid [%]: 19.30000000000001\n",
      "freq: -228.84061155190125, gain: 0.05, len: 11.5\n",
      "\tfid [%]: 23.00000000000002\n",
      "freq: -228.84061155190125, gain: 0.1375, len: 1.0\n",
      "\tfid [%]: 6.100000000000005\n",
      "freq: -228.84061155190125, gain: 0.1375, len: 4.5\n",
      "\tfid [%]: 32.300000000000026\n",
      "freq: -228.84061155190125, gain: 0.1375, len: 8.0\n",
      "\tfid [%]: 44.044044044044014\n",
      "freq: -228.84061155190125, gain: 0.1375, len: 11.5\n",
      "\tfid [%]: 57.10000000000004\n",
      "freq: -228.84061155190125, gain: 0.22499999999999998, len: 1.0\n",
      "\tfid [%]: 9.600000000000009\n",
      "freq: -228.84061155190125, gain: 0.22499999999999998, len: 4.5\n",
      "\tfid [%]: 45.37577577577573\n",
      "freq: -228.84061155190125, gain: 0.22499999999999998, len: 8.0\n",
      "\tfid [%]: 70.6871871871872\n",
      "freq: -228.84061155190125, gain: 0.22499999999999998, len: 11.5\n",
      "\tfid [%]: 65.00000000000003\n",
      "freq: -228.84061155190125, gain: 0.31249999999999994, len: 1.0\n",
      "\tfid [%]: 16.200000000000014\n",
      "freq: -228.84061155190125, gain: 0.31249999999999994, len: 4.5\n",
      "\tfid [%]: 52.500000000000036\n",
      "freq: -228.84061155190125, gain: 0.31249999999999994, len: 8.0\n",
      "\tfid [%]: 74.80000000000004\n",
      "freq: -228.84061155190125, gain: 0.31249999999999994, len: 11.5\n",
      "\tfid [%]: 75.89349349349345\n",
      "freq: -228.84061155190125, gain: 0.39999999999999997, len: 1.0\n",
      "\tfid [%]: 11.176276276276209\n",
      "freq: -228.84061155190125, gain: 0.39999999999999997, len: 4.5\n",
      "\tfid [%]: 72.78838838838837\n",
      "freq: -228.84061155190125, gain: 0.39999999999999997, len: 8.0\n",
      "\tfid [%]: 79.20000000000005\n",
      "freq: -228.84061155190125, gain: 0.39999999999999997, len: 11.5\n",
      "\tfid [%]: 75.29399399399396\n",
      "freq: -228.84061155190125, gain: 0.4875, len: 1.0\n",
      "\tfid [%]: 19.17417417417413\n",
      "freq: -228.84061155190125, gain: 0.4875, len: 4.5\n",
      "\tfid [%]: 75.79239239239234\n",
      "freq: -228.84061155190125, gain: 0.4875, len: 8.0\n",
      "\tfid [%]: 76.90000000000006\n",
      "freq: -228.84061155190125, gain: 0.4875, len: 11.5\n",
      "\tfid [%]: 77.09429429429429\n",
      "freq: -228.84061155190125, gain: 0.575, len: 1.0\n",
      "\tfid [%]: 24.70000000000001\n",
      "freq: -228.84061155190125, gain: 0.575, len: 4.5\n",
      "\tfid [%]: 72.50000000000006\n",
      "freq: -228.84061155190125, gain: 0.575, len: 8.0\n",
      "\tfid [%]: 81.50000000000006\n",
      "freq: -228.84061155190125, gain: 0.575, len: 11.5\n",
      "\tfid [%]: 72.00000000000004\n",
      "freq: -228.84061155190125, gain: 0.6625, len: 1.0\n",
      "\tfid [%]: 17.243143143143126\n",
      "freq: -228.84061155190125, gain: 0.6625, len: 4.5\n",
      "\tfid [%]: 76.80000000000004\n",
      "freq: -228.84061155190125, gain: 0.6625, len: 8.0\n",
      "\tfid [%]: 82.50000000000006\n",
      "freq: -228.84061155190125, gain: 0.6625, len: 11.5\n",
      "\tfid [%]: 68.80000000000004\n",
      "freq: -228.84061155190125, gain: 0.75, len: 1.0\n",
      "\tfid [%]: 32.50000000000002\n",
      "freq: -228.84061155190125, gain: 0.75, len: 4.5\n",
      "\tfid [%]: 82.40000000000005\n",
      "freq: -228.84061155190125, gain: 0.75, len: 8.0\n",
      "\tfid [%]: 75.80000000000004\n",
      "freq: -228.84061155190125, gain: 0.75, len: 11.5\n",
      "\tfid [%]: 74.88988988988987\n",
      "freq: -228.82364342387305, gain: 0.05, len: 1.0\n",
      "\tfid [%]: 4.766066066066093\n",
      "freq: -228.82364342387305, gain: 0.05, len: 4.5\n",
      "\tfid [%]: 11.755855855855835\n",
      "freq: -228.82364342387305, gain: 0.05, len: 8.0\n",
      "\tfid [%]: 18.700000000000017\n",
      "freq: -228.82364342387305, gain: 0.05, len: 11.5\n",
      "\tfid [%]: 24.600000000000016\n",
      "freq: -228.82364342387305, gain: 0.1375, len: 1.0\n",
      "\tfid [%]: 6.500000000000005\n",
      "freq: -228.82364342387305, gain: 0.1375, len: 4.5\n",
      "\tfid [%]: 28.667367367367408\n",
      "freq: -228.82364342387305, gain: 0.1375, len: 8.0\n",
      "\tfid [%]: 44.170970970970934\n",
      "freq: -228.82364342387305, gain: 0.1375, len: 11.5\n",
      "\tfid [%]: 50.600000000000044\n",
      "freq: -228.82364342387305, gain: 0.22499999999999998, len: 1.0\n",
      "\tfid [%]: 7.900000000000001\n",
      "freq: -228.82364342387305, gain: 0.22499999999999998, len: 4.5\n",
      "\tfid [%]: 47.07547547547546\n",
      "freq: -228.82364342387305, gain: 0.22499999999999998, len: 8.0\n",
      "\tfid [%]: 57.48558558558556\n",
      "freq: -228.82364342387305, gain: 0.22499999999999998, len: 11.5\n",
      "\tfid [%]: 68.89169169169168\n",
      "freq: -228.82364342387305, gain: 0.31249999999999994, len: 1.0\n",
      "\tfid [%]: 10.20000000000001\n",
      "freq: -228.82364342387305, gain: 0.31249999999999994, len: 4.5\n",
      "\tfid [%]: 54.08268268268266\n",
      "freq: -228.82364342387305, gain: 0.31249999999999994, len: 8.0\n",
      "\tfid [%]: 71.80000000000004\n",
      "freq: -228.82364342387305, gain: 0.31249999999999994, len: 11.5\n",
      "\tfid [%]: 73.99619619619617\n",
      "freq: -228.82364342387305, gain: 0.39999999999999997, len: 1.0\n",
      "\tfid [%]: 14.000000000000012\n",
      "freq: -228.82364342387305, gain: 0.39999999999999997, len: 4.5\n",
      "\tfid [%]: 50.88158158158156\n",
      "freq: -228.82364342387305, gain: 0.39999999999999997, len: 8.0\n",
      "\tfid [%]: 72.00000000000004\n",
      "freq: -228.82364342387305, gain: 0.39999999999999997, len: 11.5\n",
      "\tfid [%]: 59.60000000000003\n",
      "freq: -228.82364342387305, gain: 0.4875, len: 1.0\n",
      "\tfid [%]: 22.900000000000016\n",
      "freq: -228.82364342387305, gain: 0.4875, len: 4.5\n",
      "\tfid [%]: 67.78868868868867\n",
      "freq: -228.82364342387305, gain: 0.4875, len: 8.0\n",
      "\tfid [%]: 67.10000000000005\n",
      "freq: -228.82364342387305, gain: 0.4875, len: 11.5\n",
      "\tfid [%]: 75.19459459459459\n",
      "freq: -228.82364342387305, gain: 0.575, len: 1.0\n",
      "\tfid [%]: 23.00000000000002\n",
      "freq: -228.82364342387305, gain: 0.575, len: 4.5\n",
      "\tfid [%]: 73.78978978978974\n",
      "freq: -228.82364342387305, gain: 0.575, len: 8.0\n",
      "\tfid [%]: 79.30000000000005\n",
      "freq: -228.82364342387305, gain: 0.575, len: 11.5\n",
      "\tfid [%]: 79.10000000000007\n",
      "freq: -228.82364342387305, gain: 0.6625, len: 1.0\n",
      "\tfid [%]: 18.000000000000014\n",
      "freq: -228.82364342387305, gain: 0.6625, len: 4.5\n",
      "\tfid [%]: 72.29179179179178\n",
      "freq: -228.82364342387305, gain: 0.6625, len: 8.0\n",
      "\tfid [%]: 71.10000000000002\n",
      "freq: -228.82364342387305, gain: 0.6625, len: 11.5\n",
      "\tfid [%]: 74.38938938938938\n",
      "freq: -228.82364342387305, gain: 0.75, len: 1.0\n",
      "\tfid [%]: 17.163363363363406\n",
      "freq: -228.82364342387305, gain: 0.75, len: 4.5\n",
      "\tfid [%]: 78.39229229229225\n",
      "freq: -228.82364342387305, gain: 0.75, len: 8.0\n",
      "\tfid [%]: 69.50000000000006\n",
      "freq: -228.82364342387305, gain: 0.75, len: 11.5\n",
      "\tfid [%]: 66.2872872872873\n",
      "freq: -228.80667529584483, gain: 0.05, len: 1.0\n",
      "\tfid [%]: 3.6899899899899933\n",
      "freq: -228.80667529584483, gain: 0.05, len: 4.5\n",
      "\tfid [%]: 10.70000000000001\n",
      "freq: -228.80667529584483, gain: 0.05, len: 8.0\n",
      "\tfid [%]: 17.200000000000017\n",
      "freq: -228.80667529584483, gain: 0.05, len: 11.5\n",
      "\tfid [%]: 19.17127127127123\n",
      "freq: -228.80667529584483, gain: 0.1375, len: 1.0\n",
      "\tfid [%]: 4.800000000000004\n",
      "freq: -228.80667529584483, gain: 0.1375, len: 4.5\n",
      "\tfid [%]: 30.369869869869824\n",
      "freq: -228.80667529584483, gain: 0.1375, len: 8.0\n",
      "\tfid [%]: 39.10000000000003\n",
      "freq: -228.80667529584483, gain: 0.1375, len: 11.5\n",
      "\tfid [%]: 46.971371371371355\n",
      "freq: -228.80667529584483, gain: 0.22499999999999998, len: 1.0\n",
      "\tfid [%]: 9.100000000000009\n",
      "freq: -228.80667529584483, gain: 0.22499999999999998, len: 4.5\n",
      "\tfid [%]: 35.60000000000004\n",
      "freq: -228.80667529584483, gain: 0.22499999999999998, len: 8.0\n",
      "\tfid [%]: 60.400000000000055\n",
      "freq: -228.80667529584483, gain: 0.22499999999999998, len: 11.5\n",
      "\tfid [%]: 59.57907907907906\n",
      "freq: -228.80667529584483, gain: 0.31249999999999994, len: 1.0\n",
      "\tfid [%]: 12.300000000000011\n",
      "freq: -228.80667529584483, gain: 0.31249999999999994, len: 4.5\n",
      "\tfid [%]: 47.400000000000034\n",
      "freq: -228.80667529584483, gain: 0.31249999999999994, len: 8.0\n",
      "\tfid [%]: 69.90000000000005\n",
      "freq: -228.80667529584483, gain: 0.31249999999999994, len: 11.5\n",
      "\tfid [%]: 60.50000000000004\n",
      "freq: -228.80667529584483, gain: 0.39999999999999997, len: 1.0\n",
      "\tfid [%]: 9.729929929929915\n",
      "freq: -228.80667529584483, gain: 0.39999999999999997, len: 4.5\n",
      "\tfid [%]: 72.40000000000005\n",
      "freq: -228.80667529584483, gain: 0.39999999999999997, len: 8.0\n",
      "\tfid [%]: 68.90000000000005\n",
      "freq: -228.80667529584483, gain: 0.39999999999999997, len: 11.5\n",
      "\tfid [%]: 77.50000000000006\n",
      "freq: -228.80667529584483, gain: 0.4875, len: 1.0\n",
      "\tfid [%]: 14.000000000000012\n",
      "freq: -228.80667529584483, gain: 0.4875, len: 4.5\n",
      "\tfid [%]: 70.80000000000004\n",
      "freq: -228.80667529584483, gain: 0.4875, len: 8.0\n",
      "\tfid [%]: 70.40000000000006\n",
      "freq: -228.80667529584483, gain: 0.4875, len: 11.5\n",
      "\tfid [%]: 67.10000000000005\n",
      "freq: -228.80667529584483, gain: 0.575, len: 1.0\n",
      "\tfid [%]: 18.500000000000018\n",
      "freq: -228.80667529584483, gain: 0.575, len: 4.5\n",
      "\tfid [%]: 76.60000000000005\n",
      "freq: -228.80667529584483, gain: 0.575, len: 8.0\n",
      "\tfid [%]: 73.08238238238243\n",
      "freq: -228.80667529584483, gain: 0.575, len: 11.5\n",
      "\tfid [%]: 72.60000000000004\n",
      "freq: -228.80667529584483, gain: 0.6625, len: 1.0\n",
      "\tfid [%]: 18.900000000000016\n",
      "freq: -228.80667529584483, gain: 0.6625, len: 4.5\n",
      "\tfid [%]: 74.09329329329326\n",
      "freq: -228.80667529584483, gain: 0.6625, len: 8.0\n",
      "\tfid [%]: 77.00000000000004\n",
      "freq: -228.80667529584483, gain: 0.6625, len: 11.5\n",
      "\tfid [%]: 70.79389389389385\n",
      "freq: -228.80667529584483, gain: 0.75, len: 1.0\n",
      "\tfid [%]: 19.874374374374316\n",
      "freq: -228.80667529584483, gain: 0.75, len: 4.5\n",
      "\tfid [%]: 78.00000000000004\n",
      "freq: -228.80667529584483, gain: 0.75, len: 8.0\n",
      "\tfid [%]: 80.50000000000006\n",
      "freq: -228.80667529584483, gain: 0.75, len: 11.5\n",
      "\tfid [%]: 64.00000000000003\n",
      "freq: -228.7897071678166, gain: 0.05, len: 1.0\n",
      "\tfid [%]: 5.270970970971001\n",
      "freq: -228.7897071678166, gain: 0.05, len: 4.5\n",
      "\tfid [%]: 8.800000000000008\n",
      "freq: -228.7897071678166, gain: 0.05, len: 8.0\n",
      "\tfid [%]: 18.100000000000012\n",
      "freq: -228.7897071678166, gain: 0.05, len: 11.5\n",
      "\tfid [%]: 18.400000000000016\n",
      "freq: -228.7897071678166, gain: 0.1375, len: 1.0\n",
      "\tfid [%]: 4.0000000000000036\n",
      "freq: -228.7897071678166, gain: 0.1375, len: 4.5\n",
      "\tfid [%]: 31.900000000000023\n",
      "freq: -228.7897071678166, gain: 0.1375, len: 8.0\n",
      "\tfid [%]: 37.07787787787784\n",
      "freq: -228.7897071678166, gain: 0.1375, len: 11.5\n",
      "\tfid [%]: 43.70000000000004\n",
      "freq: -228.7897071678166, gain: 0.22499999999999998, len: 1.0\n",
      "\tfid [%]: 13.100000000000007\n",
      "freq: -228.7897071678166, gain: 0.22499999999999998, len: 4.5\n",
      "\tfid [%]: 48.900000000000034\n",
      "freq: -228.7897071678166, gain: 0.22499999999999998, len: 8.0\n",
      "\tfid [%]: 56.90000000000004\n",
      "freq: -228.7897071678166, gain: 0.22499999999999998, len: 11.5\n",
      "\tfid [%]: 57.00000000000004\n",
      "freq: -228.7897071678166, gain: 0.31249999999999994, len: 1.0\n",
      "\tfid [%]: 11.60000000000001\n",
      "freq: -228.7897071678166, gain: 0.31249999999999994, len: 4.5\n",
      "\tfid [%]: 42.90000000000004\n",
      "freq: -228.7897071678166, gain: 0.31249999999999994, len: 8.0\n",
      "\tfid [%]: 60.700000000000045\n",
      "freq: -228.7897071678166, gain: 0.31249999999999994, len: 11.5\n",
      "\tfid [%]: 59.38688688688685\n",
      "freq: -228.7897071678166, gain: 0.39999999999999997, len: 1.0\n",
      "\tfid [%]: 13.345945945946003\n",
      "freq: -228.7897071678166, gain: 0.39999999999999997, len: 4.5\n",
      "\tfid [%]: 61.283383383383374\n",
      "freq: -228.7897071678166, gain: 0.39999999999999997, len: 8.0\n",
      "\tfid [%]: 70.00000000000004\n",
      "freq: -228.7897071678166, gain: 0.39999999999999997, len: 11.5\n",
      "\tfid [%]: 64.28818818818816\n",
      "freq: -228.7897071678166, gain: 0.4875, len: 1.0\n",
      "\tfid [%]: 15.73973973973981\n",
      "freq: -228.7897071678166, gain: 0.4875, len: 4.5\n",
      "\tfid [%]: 62.60000000000006\n",
      "freq: -228.7897071678166, gain: 0.4875, len: 8.0\n",
      "\tfid [%]: 73.10000000000005\n",
      "freq: -228.7897071678166, gain: 0.4875, len: 11.5\n",
      "\tfid [%]: 67.98628628628624\n",
      "freq: -228.7897071678166, gain: 0.575, len: 1.0\n",
      "\tfid [%]: 21.200000000000024\n",
      "freq: -228.7897071678166, gain: 0.575, len: 4.5\n",
      "\tfid [%]: 70.38728728728726\n",
      "freq: -228.7897071678166, gain: 0.575, len: 8.0\n",
      "\tfid [%]: 73.10000000000005\n",
      "freq: -228.7897071678166, gain: 0.575, len: 11.5\n",
      "\tfid [%]: 76.90000000000003\n",
      "freq: -228.7897071678166, gain: 0.6625, len: 1.0\n",
      "\tfid [%]: 23.26166166166161\n",
      "freq: -228.7897071678166, gain: 0.6625, len: 4.5\n",
      "\tfid [%]: 72.08648648648648\n",
      "freq: -228.7897071678166, gain: 0.6625, len: 8.0\n",
      "\tfid [%]: 72.89059059059058\n",
      "freq: -228.7897071678166, gain: 0.6625, len: 11.5\n",
      "\tfid [%]: 72.99079079079074\n",
      "freq: -228.7897071678166, gain: 0.75, len: 1.0\n",
      "\tfid [%]: 22.168868868868863\n",
      "freq: -228.7897071678166, gain: 0.75, len: 4.5\n",
      "\tfid [%]: 82.60000000000008\n",
      "freq: -228.7897071678166, gain: 0.75, len: 8.0\n",
      "\tfid [%]: 81.80000000000005\n",
      "freq: -228.7897071678166, gain: 0.75, len: 11.5\n",
      "\tfid [%]: 79.70000000000006\n"
     ]
    }
   ],
   "source": [
    "shotopt = meas.SingleShotOptExperiment(\n",
    "    soccfg=soc,\n",
    "    path=expt_path,\n",
    "    prefix=f\"single_shot_opt_qubit{qubit_i}\",\n",
    "    config_file=config_path,\n",
    ")\n",
    "shotopt.cfg = AttrDict(deepcopy(yaml_cfg))\n",
    "\n",
    "# span_f = 2*abs(results_Qi['Res chi shift (f - g)']) # MHz\n",
    "# span_f = 2*abs(results_Qi['Res chi shift (e - g)']) # MHz\n",
    "\n",
    "span_f = 1.0*abs(results_Qi['Res kappa']) # MHz\n",
    "npts_f = 15\n",
    "# span_f = 0\n",
    "# npts_f = 1\n",
    "\n",
    "span_gain = 0.7\n",
    "npts_gain = 8\n",
    "# span_gain = 0.0\n",
    "# npts_gain = 8\n",
    "\n",
    "# span_len = 5 # us\n",
    "# npts_len = 10\n",
    "span_len = 14 # us\n",
    "npts_len = 4\n",
    "\n",
    "shotopt.cfg.expt = dict(\n",
    "    reps=1000,\n",
    "    qTest=qubit_i,\n",
    "\n",
    "    start_f=shotopt.cfg.device.readout.frequency[qubit_i] - span_f/2, # [MHz]\n",
    "    step_f=span_f/npts_f,\n",
    "    expts_f=npts_f,\n",
    "\n",
    "    # start_gain=shotopt.cfg.device.readout.gain[qubit_i]-span_gain/2,\n",
    "    start_gain=0.05,\n",
    "    step_gain=span_gain/npts_gain,\n",
    "    expts_gain=npts_gain + 1,\n",
    "\n",
    "    start_len=1,\n",
    "    # start_len=shotopt.cfg.device.readout.readout_length[qubit_i] - span_len/2,\n",
    "    step_len=span_len/npts_len,\n",
    "    expts_len=npts_len,\n",
    "\n",
    "    full_mux_expt=full_mux_expt,\n",
    "    resonator_reset=resonator_reset,\n",
    ")\n",
    "\n",
    "print(shotopt.cfg)\n",
    "\n",
    "shotopt.go(analyze=False, display=False, progress=True, save=False)"
   ]
  },
  {
   "cell_type": "code",
   "execution_count": 134,
   "metadata": {},
   "outputs": [
    {
     "name": "stdout",
     "output_type": "stream",
     "text": [
      "(5, 7, 1)\n",
      "[-229.02726096 -229.01029283 -228.9933247  -228.97635658 -228.95938845\n",
      " -228.94242032 -228.92545219 -228.90848406 -228.89151594 -228.87454781\n",
      " -228.85757968 -228.84061155 -228.82364342 -228.8066753  -228.78970717]\n",
      "[0.05   0.1375 0.225  0.3125 0.4    0.4875 0.575  0.6625 0.75  ]\n",
      "[ 1.   4.5  8.  11.5]\n",
      "Max fidelity 86.90000000000005 %\n",
      "Set params: \n",
      " angle (deg) -169.08761857077386 \n",
      " threshold 130.2514356508114 \n",
      " freq [Mhz] -228.94242032007057 \n",
      " gain [dac units] 0.6625 \n",
      " readout length [us] 4.5\n",
      "[[[0.023      0.1183964  0.108      0.176     ]\n",
      "  [0.092      0.316      0.331      0.379     ]\n",
      "  [0.12742943 0.453      0.53       0.547     ]\n",
      "  [0.163      0.572      0.62       0.62862863]\n",
      "  [0.181      0.662      0.71083884 0.72477077]\n",
      "  [0.19276076 0.733      0.733      0.725     ]\n",
      "  [0.202      0.79       0.80295996 0.72      ]\n",
      "  [0.24454154 0.82696597 0.791      0.75494494]\n",
      "  [0.274      0.843      0.825      0.737     ]]\n",
      "\n",
      " [[0.02687187 0.089      0.144      0.164     ]\n",
      "  [0.097      0.304      0.328      0.382     ]\n",
      "  [0.077      0.459      0.513      0.548     ]\n",
      "  [0.132      0.5467958  0.619      0.651     ]\n",
      "  [0.17355756 0.671      0.72892192 0.658     ]\n",
      "  [0.199      0.748      0.75       0.712     ]\n",
      "  [0.23764565 0.78191792 0.80787287 0.711     ]\n",
      "  [0.28857858 0.837      0.753      0.692     ]\n",
      "  [0.269      0.833      0.771      0.656     ]]\n",
      "\n",
      " [[0.06168168 0.14657858 0.15043844 0.156     ]\n",
      "  [0.0826997  0.291      0.344      0.399     ]\n",
      "  [0.0666016  0.464      0.499      0.51766066]\n",
      "  [0.175      0.554      0.66782182 0.64088088]\n",
      "  [0.152      0.677      0.749      0.716     ]\n",
      "  [0.177      0.69369369 0.769      0.70679179]\n",
      "  [0.22255956 0.81593293 0.847      0.742     ]\n",
      "  [0.19952252 0.85295596 0.811      0.755     ]\n",
      "  [0.261      0.825      0.76276276 0.699     ]]\n",
      "\n",
      " [[0.056      0.118      0.16305812 0.193     ]\n",
      "  [0.06364064 0.241      0.413      0.392     ]\n",
      "  [0.1        0.482      0.57       0.567     ]\n",
      "  [0.151      0.557      0.665      0.687     ]\n",
      "  [0.138      0.68289389 0.718      0.736     ]\n",
      "  [0.214      0.732      0.8        0.721     ]\n",
      "  [0.218      0.839      0.814      0.79      ]\n",
      "  [0.228      0.83895295 0.77477477 0.707     ]\n",
      "  [0.3        0.831      0.84695295 0.79393594]]\n",
      "\n",
      " [[0.085      0.165      0.18918919 0.19      ]\n",
      "  [0.11656056 0.305      0.41278078 0.406     ]\n",
      "  [0.1016957  0.474      0.614      0.638     ]\n",
      "  [0.127      0.617      0.725      0.681     ]\n",
      "  [0.158      0.669      0.754      0.753     ]\n",
      "  [0.17062162 0.781      0.805      0.758     ]\n",
      "  [0.203      0.823      0.784      0.78392693]\n",
      "  [0.22167467 0.84       0.78378378 0.758     ]\n",
      "  [0.26363263 0.768      0.81       0.77389289]]\n",
      "\n",
      " [[0.058      0.13       0.191      0.222     ]\n",
      "  [0.07636673 0.329      0.459      0.49774775]\n",
      "  [0.091      0.50676577 0.657      0.70789189]\n",
      "  [0.125      0.62782583 0.81       0.76      ]\n",
      "  [0.14450751 0.71687888 0.801      0.743     ]\n",
      "  [0.144      0.819      0.84395996 0.83488889]\n",
      "  [0.266      0.79493594 0.82795996 0.752     ]\n",
      "  [0.222      0.869      0.834      0.72588488]\n",
      "  [0.27564665 0.80194494 0.78485285 0.8       ]]\n",
      "\n",
      " [[0.066      0.15255355 0.193      0.213     ]\n",
      "  [0.043      0.32968068 0.446      0.54      ]\n",
      "  [0.056      0.54       0.679      0.688     ]\n",
      "  [0.126      0.61182482 0.803      0.824     ]\n",
      "  [0.171      0.679      0.81996096 0.825     ]\n",
      "  [0.207      0.782      0.812      0.69184084]\n",
      "  [0.178      0.779      0.7818999  0.758     ]\n",
      "  [0.257      0.82794294 0.809      0.699     ]\n",
      "  [0.275      0.858      0.78590691 0.79995295]]\n",
      "\n",
      " [[0.061      0.128      0.223      0.224     ]\n",
      "  [0.06663463 0.34434434 0.4808038  0.51277077]\n",
      "  [0.14058759 0.482      0.636      0.70386987]\n",
      "  [0.10068468 0.574      0.742      0.70987387]\n",
      "  [0.163      0.71786687 0.773      0.75292492]\n",
      "  [0.222      0.80493594 0.781      0.79694895]\n",
      "  [0.195      0.8        0.77791191 0.736     ]\n",
      "  [0.27462763 0.77692893 0.819      0.769     ]\n",
      "  [0.28964364 0.81496897 0.81796296 0.7479009 ]]\n",
      "\n",
      " [[0.05043443 0.154      0.193      0.259     ]\n",
      "  [0.064      0.318      0.508      0.57      ]\n",
      "  [0.115      0.437      0.67885385 0.78993694]\n",
      "  [0.101      0.57084184 0.801      0.765     ]\n",
      "  [0.148      0.7729049  0.792      0.816     ]\n",
      "  [0.218      0.771      0.78691592 0.672     ]\n",
      "  [0.18966366 0.78793594 0.82       0.67181682]\n",
      "  [0.23154855 0.76591992 0.824      0.719     ]\n",
      "  [0.275      0.80896096 0.79491291 0.67286386]]\n",
      "\n",
      " [[0.041      0.131      0.206      0.28570571]\n",
      "  [0.032      0.364      0.513      0.55583984]\n",
      "  [0.11041942 0.47176877 0.68186186 0.756     ]\n",
      "  [0.125      0.60785986 0.77391091 0.725     ]\n",
      "  [0.121      0.72387588 0.84396096 0.75788889]\n",
      "  [0.19864264 0.7929009  0.85595796 0.7       ]\n",
      "  [0.245      0.813      0.84195996 0.72186486]\n",
      "  [0.205      0.83495696 0.75       0.69085586]\n",
      "  [0.26261662 0.749      0.76494094 0.69      ]]\n",
      "\n",
      " [[0.071      0.144      0.198      0.251     ]\n",
      "  [0.081      0.346      0.467      0.458     ]\n",
      "  [0.121      0.495      0.63       0.728     ]\n",
      "  [0.1285015  0.59885586 0.745      0.787     ]\n",
      "  [0.13863864 0.614      0.80595395 0.781     ]\n",
      "  [0.146      0.75384384 0.83094995 0.816     ]\n",
      "  [0.153      0.813      0.80393493 0.798     ]\n",
      "  [0.28       0.81493393 0.782      0.65880981]\n",
      "  [0.247      0.80096096 0.763      0.71885385]]\n",
      "\n",
      " [[0.041      0.104      0.193      0.23      ]\n",
      "  [0.061      0.323      0.44044044 0.571     ]\n",
      "  [0.096      0.45375776 0.70687187 0.65      ]\n",
      "  [0.162      0.525      0.748      0.75893493]\n",
      "  [0.11176276 0.72788388 0.792      0.75293994]\n",
      "  [0.19174174 0.75792392 0.769      0.77094294]\n",
      "  [0.247      0.725      0.815      0.72      ]\n",
      "  [0.17243143 0.768      0.825      0.688     ]\n",
      "  [0.325      0.824      0.758      0.7488989 ]]\n",
      "\n",
      " [[0.04766066 0.11755856 0.187      0.246     ]\n",
      "  [0.065      0.28667367 0.44170971 0.506     ]\n",
      "  [0.079      0.47075475 0.57485586 0.68891692]\n",
      "  [0.102      0.54082683 0.718      0.73996196]\n",
      "  [0.14       0.50881582 0.72       0.596     ]\n",
      "  [0.229      0.67788689 0.671      0.75194595]\n",
      "  [0.23       0.7378979  0.793      0.791     ]\n",
      "  [0.18       0.72291792 0.711      0.74389389]\n",
      "  [0.17163363 0.78392292 0.695      0.66287287]]\n",
      "\n",
      " [[0.0368999  0.107      0.172      0.19171271]\n",
      "  [0.048      0.3036987  0.391      0.46971371]\n",
      "  [0.091      0.356      0.604      0.59579079]\n",
      "  [0.123      0.474      0.699      0.605     ]\n",
      "  [0.0972993  0.724      0.689      0.775     ]\n",
      "  [0.14       0.708      0.704      0.671     ]\n",
      "  [0.185      0.766      0.73082382 0.726     ]\n",
      "  [0.189      0.74093293 0.77       0.70793894]\n",
      "  [0.19874374 0.78       0.805      0.64      ]]\n",
      "\n",
      " [[0.05270971 0.088      0.181      0.184     ]\n",
      "  [0.04       0.319      0.37077878 0.437     ]\n",
      "  [0.131      0.489      0.569      0.57      ]\n",
      "  [0.116      0.429      0.607      0.59386887]\n",
      "  [0.13345946 0.61283383 0.7        0.64288188]\n",
      "  [0.1573974  0.626      0.731      0.67986286]\n",
      "  [0.212      0.70387287 0.731      0.769     ]\n",
      "  [0.23261662 0.72086486 0.72890591 0.72990791]\n",
      "  [0.22168869 0.826      0.818      0.797     ]]]\n",
      "Optimal freq: -228.94242032007057\n",
      "Optimal gain: 0.6625\n",
      "Optimal len: 4.5\n"
     ]
    }
   ],
   "source": [
    "imax = shotopt.analyze()\n",
    "shotopt.display()\n",
    "print(shotopt.data['fid'])\n",
    "\n",
    "freq_opt = shotopt.data['fpts'][imax[0]]\n",
    "gain_opt = shotopt.data['gainpts'][imax[1]]\n",
    "len_opt = shotopt.data['lenpts'][imax[2]]\n",
    "\n",
    "print('Optimal freq:', freq_opt)\n",
    "print('Optimal gain:', gain_opt)\n",
    "print('Optimal len:', len_opt)"
   ]
  },
  {
   "cell_type": "code",
   "execution_count": 92,
   "metadata": {},
   "outputs": [
    {
     "ename": "FileNotFoundError",
     "evalue": "[Errno 2] No such file or directory: 'C:\\\\Users\\\\slab\\\\Downloads\\\\singleshot_opt.txt'",
     "output_type": "error",
     "traceback": [
      "\u001b[1;31m---------------------------------------------------------------------------\u001b[0m",
      "\u001b[1;31mFileNotFoundError\u001b[0m                         Traceback (most recent call last)",
      "Cell \u001b[1;32mIn[92], line 2\u001b[0m\n\u001b[0;32m      1\u001b[0m \u001b[38;5;66;03m# Using readlines()\u001b[39;00m\n\u001b[1;32m----> 2\u001b[0m file1 \u001b[38;5;241m=\u001b[39m \u001b[38;5;28;43mopen\u001b[39;49m\u001b[43m(\u001b[49m\u001b[38;5;124;43m'\u001b[39;49m\u001b[38;5;124;43mC:\u001b[39;49m\u001b[38;5;130;43;01m\\\\\u001b[39;49;00m\u001b[38;5;124;43mUsers\u001b[39;49m\u001b[38;5;130;43;01m\\\\\u001b[39;49;00m\u001b[38;5;124;43mslab\u001b[39;49m\u001b[38;5;130;43;01m\\\\\u001b[39;49;00m\u001b[38;5;124;43mDownloads\u001b[39;49m\u001b[38;5;130;43;01m\\\\\u001b[39;49;00m\u001b[38;5;124;43msingleshot_opt.txt\u001b[39;49m\u001b[38;5;124;43m'\u001b[39;49m\u001b[43m,\u001b[49m\u001b[43m \u001b[49m\u001b[38;5;124;43m'\u001b[39;49m\u001b[38;5;124;43mr\u001b[39;49m\u001b[38;5;124;43m'\u001b[39;49m\u001b[43m)\u001b[49m\n\u001b[0;32m      3\u001b[0m lines \u001b[38;5;241m=\u001b[39m file1\u001b[38;5;241m.\u001b[39mreadlines()\n\u001b[0;32m      4\u001b[0m freqs \u001b[38;5;241m=\u001b[39m []\n",
      "File \u001b[1;32mc:\\Users\\slab\\.conda\\envs\\slab\\lib\\site-packages\\IPython\\core\\interactiveshell.py:286\u001b[0m, in \u001b[0;36m_modified_open\u001b[1;34m(file, *args, **kwargs)\u001b[0m\n\u001b[0;32m    279\u001b[0m \u001b[38;5;28;01mif\u001b[39;00m file \u001b[38;5;129;01min\u001b[39;00m {\u001b[38;5;241m0\u001b[39m, \u001b[38;5;241m1\u001b[39m, \u001b[38;5;241m2\u001b[39m}:\n\u001b[0;32m    280\u001b[0m     \u001b[38;5;28;01mraise\u001b[39;00m \u001b[38;5;167;01mValueError\u001b[39;00m(\n\u001b[0;32m    281\u001b[0m         \u001b[38;5;124mf\u001b[39m\u001b[38;5;124m\"\u001b[39m\u001b[38;5;124mIPython won\u001b[39m\u001b[38;5;124m'\u001b[39m\u001b[38;5;124mt let you open fd=\u001b[39m\u001b[38;5;132;01m{\u001b[39;00mfile\u001b[38;5;132;01m}\u001b[39;00m\u001b[38;5;124m by default \u001b[39m\u001b[38;5;124m\"\u001b[39m\n\u001b[0;32m    282\u001b[0m         \u001b[38;5;124m\"\u001b[39m\u001b[38;5;124mas it is likely to crash IPython. If you know what you are doing, \u001b[39m\u001b[38;5;124m\"\u001b[39m\n\u001b[0;32m    283\u001b[0m         \u001b[38;5;124m\"\u001b[39m\u001b[38;5;124myou can use builtins\u001b[39m\u001b[38;5;124m'\u001b[39m\u001b[38;5;124m open.\u001b[39m\u001b[38;5;124m\"\u001b[39m\n\u001b[0;32m    284\u001b[0m     )\n\u001b[1;32m--> 286\u001b[0m \u001b[38;5;28;01mreturn\u001b[39;00m io_open(file, \u001b[38;5;241m*\u001b[39margs, \u001b[38;5;241m*\u001b[39m\u001b[38;5;241m*\u001b[39mkwargs)\n",
      "\u001b[1;31mFileNotFoundError\u001b[0m: [Errno 2] No such file or directory: 'C:\\\\Users\\\\slab\\\\Downloads\\\\singleshot_opt.txt'"
     ]
    }
   ],
   "source": [
    "\n",
    "# Using readlines()\n",
    "file1 = open('C:\\\\Users\\\\slab\\\\Downloads\\\\singleshot_opt.txt', 'r')\n",
    "lines = file1.readlines()\n",
    "freqs = []\n",
    "gains = []\n",
    "lengths = []\n",
    "fids = []\n",
    "\n",
    "line = lines[0]\n",
    "words = line.split()\n",
    "freq = float(words[1][:-1])\n",
    "freqs.append(freq)\n",
    "gain = float(words[3][:-1])\n",
    "gains.append(gain)\n",
    "length = float(words[5])\n",
    "lengths.append(length)\n",
    "\n",
    "fid_line = lines[1]\n",
    "fids.append(float(fid_line.split()[3]))\n",
    " \n",
    "# Strips the newline character\n",
    "for i in range(2, len(lines), 2):\n",
    "    line = lines[i]\n",
    "    words = line.split()\n",
    "    freq = float(words[1][:-1])\n",
    "    if freq not in freqs: freqs.append(freq)\n",
    "    gain = float(words[3][:-1])\n",
    "    if gain not in gains: gains.append(gain)\n",
    "    length = float(words[5])\n",
    "    if length not in lengths: lengths.append(length)\n",
    "\n",
    "    fid_line = lines[i+1]\n",
    "    fids.append(float(fid_line.split()[3]))\n",
    "    continue\n",
    "\n",
    "fids = np.append(fids, [0]*22)\n",
    "fids = np.reshape(fids, newshape=(len(freqs), len(gains), len(lengths)))\n",
    "\n",
    "# lenpts = [data['lenpts'][0]]\n",
    "for g_ind, gain in enumerate(gains):\n",
    "    for l_ind, l in enumerate(lengths):\n",
    "        plt.plot(freqs, fids[:,g_ind, l_ind], 'o-', label=f'gain: {gain:.2}, len [us]: {l}')\n",
    "plt.xlabel('Frequency [MHz]')\n",
    "plt.ylabel(f'Fidelity [%]')\n",
    "plt.legend()\n",
    "plt.show()\n"
   ]
  },
  {
   "cell_type": "code",
   "execution_count": null,
   "metadata": {},
   "outputs": [],
   "source": [
    "if save_data: saved_files.append(shotopt.save_data())"
   ]
  },
  {
   "cell_type": "markdown",
   "metadata": {},
   "source": [
    "next qubit"
   ]
  },
  {
   "cell_type": "code",
   "execution_count": null,
   "metadata": {},
   "outputs": [],
   "source": [
    "qubit_i = 2\n",
    "results_Qi = all_results[qubit_i]\n",
    "results_Qi['Res kappa'] = 0.2\n",
    "# print(results_Qi['Res kappa'])"
   ]
  },
  {
   "cell_type": "code",
   "execution_count": null,
   "metadata": {},
   "outputs": [],
   "source": [
    "shotopt = meas.SingleShotOptExperiment(\n",
    "    soccfg=soc,\n",
    "    path=expt_path,\n",
    "    prefix=f\"single_shot_opt_qubit{qubit_i}\",\n",
    "    config_file=config_path,\n",
    ")\n",
    "shotopt.cfg = AttrDict(deepcopy(yaml_cfg))\n",
    "\n",
    "# span_f = 2*abs(results_Qi['Res chi shift (f - g)']) # MHz\n",
    "# span_f = 2*abs(results_Qi['Res chi shift (e - g)']) # MHz\n",
    "\n",
    "# span_f = 2*abs(results_Qi['Res kappa']) # MHz\n",
    "# npts_f = 15\n",
    "\n",
    "span_f = 3*abs(results_Qi['Res kappa']) # MHz\n",
    "npts_f = 20\n",
    "\n",
    "# span_gain = 0.85\n",
    "# npts_gain = 5\n",
    "span_gain = 0.6\n",
    "npts_gain = 6\n",
    "\n",
    "span_len = 0 # us\n",
    "npts_len = 1\n",
    "\n",
    "shotopt.cfg.expt = dict(\n",
    "    reps=20000,\n",
    "    qTest=qubit_i,\n",
    "\n",
    "    # start_f=shotopt.cfg.device.readout.frequency[qubit_i] - 0.75*span_f,\n",
    "    # start_f=shotopt.cfg.device.readout.frequency[qubit_i] + 0.25*span_f,\n",
    "    # start_f=shotopt.cfg.device.readout.frequency[qubit_i],\n",
    "    start_f=shotopt.cfg.device.readout.frequency[qubit_i] - span_f/2, # [MHz]\n",
    "    step_f=span_f/npts_f,\n",
    "    expts_f=npts_f,\n",
    "\n",
    "    # start_gain=int(shotopt.cfg.device.readout.gain[qubit_i]-span_gain/2),\n",
    "    start_gain=0.1,\n",
    "    # start_gain=0.10,\n",
    "    step_gain=span_gain/npts_gain,\n",
    "    expts_gain=npts_gain + 1,\n",
    "\n",
    "    start_len=5,\n",
    "    # step_len=span_len/npts_len,\n",
    "    # expts_len=npts_len + 1,\n",
    "    step_len=0,\n",
    "    expts_len=1,\n",
    ")\n",
    "\n",
    "print(shotopt.cfg)\n",
    "\n",
    "shotopt.go(analyze=False, display=False, progress=True, save=False)"
   ]
  },
  {
   "cell_type": "code",
   "execution_count": 124,
   "metadata": {},
   "outputs": [
    {
     "name": "stdout",
     "output_type": "stream",
     "text": [
      "(8, 8, 2)\n",
      "[5795.6344057  5795.65137383 5795.66834196 5795.68531009 5795.70227822\n",
      " 5795.71924634 5795.73621447 5795.7531826  5795.77015073 5795.78711886\n",
      " 5795.80408698 5795.82105511 5795.83802324 5795.85499137 5795.8719595 ]\n",
      "[0.1    0.1875 0.275  0.3625 0.45   0.5375 0.625  0.7125 0.8   ]\n",
      "[ 1.   8.5 16.  23.5]\n",
      "Max fidelity 79.19299299299294 %\n",
      "Set params: \n",
      " angle (deg) -8.065614956885108 \n",
      " threshold 79.399318933365 \n",
      " freq [Mhz] 5795.770150727347 \n",
      " gain [dac units] 0.7999999999999999 \n",
      " readout length [us] 16.0\n",
      "[[[0.048      0.1        0.13453153 0.118     ]\n",
      "  [0.044      0.118      0.197      0.243     ]\n",
      "  [0.067      0.158      0.285      0.20675375]\n",
      "  [0.058      0.25372773 0.287      0.38853307]\n",
      "  [0.044      0.323      0.378      0.439     ]\n",
      "  [0.093      0.345      0.50073173 0.443     ]\n",
      "  [0.108      0.51870771 0.484      0.401     ]\n",
      "  [0.128      0.41       0.576      0.498     ]\n",
      "  [0.143      0.503      0.61865531 0.638     ]]\n",
      "\n",
      " [[0.041      0.099      0.071      0.098     ]\n",
      "  [0.022      0.136      0.19364364 0.261     ]\n",
      "  [0.02       0.242      0.23068368 0.289     ]\n",
      "  [0.079      0.27672472 0.338      0.417     ]\n",
      "  [0.06967467 0.29       0.341      0.49575375]\n",
      "  [0.07971371 0.385      0.495      0.457     ]\n",
      "  [0.096      0.463      0.539      0.573     ]\n",
      "  [0.12       0.53281181 0.496      0.579     ]\n",
      "  [0.115      0.564      0.541      0.576     ]]\n",
      "\n",
      " [[0.03       0.077      0.11       0.162     ]\n",
      "  [0.04428829 0.15367768 0.224      0.24948448]\n",
      "  [0.058      0.19761261 0.286      0.25267668]\n",
      "  [0.062      0.301      0.372      0.37865465]\n",
      "  [0.086      0.30569169 0.357      0.5087007 ]\n",
      "  [0.066      0.408      0.432      0.55182983]\n",
      "  [0.077      0.468      0.54578078 0.592     ]\n",
      "  [0.08135636 0.562      0.541      0.602     ]\n",
      "  [0.095      0.559      0.671      0.656     ]]\n",
      "\n",
      " [[0.038      0.131      0.143      0.13664264]\n",
      "  [0.05748849 0.18065866 0.17       0.245     ]\n",
      "  [0.056      0.243      0.254      0.334     ]\n",
      "  [0.057      0.32832833 0.43       0.427     ]\n",
      "  [0.06683684 0.402      0.432      0.524     ]\n",
      "  [0.089      0.42       0.522      0.571     ]\n",
      "  [0.088      0.471      0.605      0.665     ]\n",
      "  [0.08       0.517      0.633      0.669     ]\n",
      "  [0.04468869 0.623      0.68984985 0.672     ]]\n",
      "\n",
      " [[0.039      0.1        0.096      0.167     ]\n",
      "  [0.045      0.13838639 0.259      0.299     ]\n",
      "  [0.09       0.22666366 0.338      0.32165566]\n",
      "  [0.071      0.292      0.417      0.52      ]\n",
      "  [0.071      0.378      0.488      0.54      ]\n",
      "  [0.058      0.496      0.603      0.493     ]\n",
      "  [0.04       0.51       0.592      0.60473373]\n",
      "  [0.118      0.60787487 0.632      0.69      ]\n",
      "  [0.095      0.717      0.66       0.648     ]]\n",
      "\n",
      " [[0.039      0.098      0.11056657 0.138     ]\n",
      "  [0.059      0.173      0.228      0.249     ]\n",
      "  [0.04552152 0.281      0.288      0.43      ]\n",
      "  [0.06733934 0.31471471 0.444      0.482     ]\n",
      "  [0.049      0.433      0.551      0.536     ]\n",
      "  [0.082      0.471      0.623      0.63687588]\n",
      "  [0.0744955  0.592      0.632      0.66391291]\n",
      "  [0.098      0.685      0.715      0.64987588]\n",
      "  [0.10067367 0.665      0.731      0.647     ]]\n",
      "\n",
      " [[0.062      0.125      0.133      0.145     ]\n",
      "  [0.046      0.213      0.20853754 0.333     ]\n",
      "  [0.037      0.287      0.393      0.43774474]\n",
      "  [0.069      0.353      0.465      0.51072573]\n",
      "  [0.091      0.448      0.56178579 0.611     ]\n",
      "  [0.106      0.554      0.683      0.563     ]\n",
      "  [0.108      0.619      0.70785686 0.6987968 ]\n",
      "  [0.09867267 0.699      0.766      0.7488969 ]\n",
      "  [0.07246446 0.74688488 0.75090891 0.68084384]]\n",
      "\n",
      " [[0.06       0.092      0.133      0.204     ]\n",
      "  [0.019      0.246      0.29969169 0.364     ]\n",
      "  [0.064      0.27127127 0.41       0.404     ]\n",
      "  [0.077      0.43976176 0.47985886 0.582     ]\n",
      "  [0.058      0.503      0.613      0.629     ]\n",
      "  [0.068      0.64884184 0.721      0.71188589]\n",
      "  [0.063      0.574      0.60984985 0.625     ]\n",
      "  [0.107      0.664      0.693      0.619     ]\n",
      "  [0.074      0.748      0.754      0.738     ]]\n",
      "\n",
      " [[0.046      0.14057157 0.16       0.19466867]\n",
      "  [0.064      0.233      0.302      0.428     ]\n",
      "  [0.04976877 0.32       0.485      0.543     ]\n",
      "  [0.077      0.43774074 0.598      0.662     ]\n",
      "  [0.043      0.556      0.72887788 0.756     ]\n",
      "  [0.046      0.595      0.637      0.613     ]\n",
      "  [0.046      0.65486386 0.68487187 0.62382282]\n",
      "  [0.137      0.7128979  0.736      0.631     ]\n",
      "  [0.095      0.56980581 0.79192993 0.51276476]]\n",
      "\n",
      " [[0.0487027  0.155      0.142      0.267     ]\n",
      "  [0.03008909 0.24864765 0.39967467 0.36964665]\n",
      "  [0.048      0.416      0.52674575 0.351     ]\n",
      "  [0.058      0.471      0.546      0.59372873]\n",
      "  [0.08935335 0.486      0.67067067 0.37      ]\n",
      "  [0.08149249 0.5547998  0.488      0.606     ]\n",
      "  [0.09159059 0.571      0.53271672 0.48079379]\n",
      "  [0.084      0.66488488 0.71387087 0.61783884]\n",
      "  [0.115      0.58282583 0.72085786 0.539     ]]\n",
      "\n",
      " [[0.03       0.141      0.229      0.182     ]\n",
      "  [0.072      0.33733734 0.408      0.366     ]\n",
      "  [0.0418979  0.38259259 0.551      0.609     ]\n",
      "  [0.03277578 0.477      0.56081982 0.683     ]\n",
      "  [0.066      0.565      0.653      0.708     ]\n",
      "  [0.087      0.62081782 0.5957958  0.42673373]\n",
      "  [0.105      0.555      0.629      0.56176476]\n",
      "  [0.041      0.662      0.735      0.582     ]\n",
      "  [0.113      0.611      0.54675075 0.57383483]]\n",
      "\n",
      " [[0.04258258 0.213      0.229      0.331     ]\n",
      "  [0.062      0.318      0.451      0.529     ]\n",
      "  [0.06771672 0.397      0.56       0.64483383]\n",
      "  [0.04       0.49481381 0.667      0.59782182]\n",
      "  [0.039      0.552      0.69088789 0.556     ]\n",
      "  [0.072      0.631      0.634      0.7048989 ]\n",
      "  [0.088      0.59082883 0.708      0.71091191]\n",
      "  [0.11257457 0.654      0.738      0.662     ]\n",
      "  [0.122      0.687      0.672      0.695     ]]\n",
      "\n",
      " [[0.028      0.15160761 0.156      0.279     ]\n",
      "  [0.05       0.28468569 0.414      0.461     ]\n",
      "  [0.087      0.403      0.563      0.57684184]\n",
      "  [0.04933934 0.492      0.569      0.622     ]\n",
      "  [0.095      0.46871171 0.705      0.65      ]\n",
      "  [0.10275676 0.59       0.624      0.65587988]\n",
      "  [0.086      0.557      0.718      0.52075776]\n",
      "  [0.13542142 0.5667998  0.62985085 0.61684384]\n",
      "  [0.099      0.51080781 0.69087387 0.56      ]]\n",
      "\n",
      " [[0.049      0.151      0.24945345 0.18660761]\n",
      "  [0.045      0.29       0.27867367 0.405     ]\n",
      "  [0.041      0.364      0.464      0.605     ]\n",
      "  [0.076      0.416      0.643      0.443     ]\n",
      "  [0.062      0.52182482 0.60486486 0.46      ]\n",
      "  [0.095      0.555      0.681      0.66185485]\n",
      "  [0.111      0.54382683 0.68487688 0.66877678]\n",
      "  [0.08       0.553      0.60783884 0.647     ]\n",
      "  [0.096      0.605      0.646      0.541     ]]\n",
      "\n",
      " [[0.033      0.153      0.212      0.22267568]\n",
      "  [0.062      0.274      0.37175275 0.396     ]\n",
      "  [0.02733033 0.374      0.487      0.382     ]\n",
      "  [0.079      0.461      0.51377678 0.58983183]\n",
      "  [0.046      0.46980581 0.52781682 0.51      ]\n",
      "  [0.064      0.48072773 0.52074875 0.52670971]\n",
      "  [0.085      0.53676276 0.67490891 0.731     ]\n",
      "  [0.097      0.621      0.68384384 0.507     ]\n",
      "  [0.076      0.525      0.657      0.497     ]]]\n",
      "5795.770150727347 0.7999999999999999 16.0 0.7919299299299294\n"
     ]
    }
   ],
   "source": [
    "imax = shotopt.analyze()\n",
    "shotopt.display()\n",
    "print(shotopt.data['fid'])\n",
    "\n",
    "freq_opt = shotopt.data['fpts'][imax[0]]\n",
    "gain_opt = shotopt.data['gainpts'][imax[1]]\n",
    "len_opt = shotopt.data['lenpts'][imax[2]]\n",
    "\n",
    "print(freq_opt, gain_opt, len_opt, shotopt.data['fid'][imax])"
   ]
  },
  {
   "cell_type": "code",
   "execution_count": null,
   "metadata": {},
   "outputs": [],
   "source": [
    "if save_data: saved_files.append(shotopt.save_data())"
   ]
  },
  {
   "cell_type": "markdown",
   "metadata": {},
   "source": [
    "next qubit"
   ]
  },
  {
   "cell_type": "code",
   "execution_count": null,
   "metadata": {},
   "outputs": [],
   "source": [
    "qubit_i = 3\n",
    "results_Qi = all_results[qubit_i]\n",
    "results_Qi['Res kappa'] = 0.2\n",
    "# print(results_Qi['Res kappa'])"
   ]
  },
  {
   "cell_type": "code",
   "execution_count": 85,
   "metadata": {},
   "outputs": [
    {
     "ename": "KeyError",
     "evalue": "'Res kappa'",
     "output_type": "error",
     "traceback": [
      "\u001b[1;31m---------------------------------------------------------------------------\u001b[0m",
      "\u001b[1;31mKeyError\u001b[0m                                  Traceback (most recent call last)",
      "Cell \u001b[1;32mIn[85], line 15\u001b[0m\n\u001b[0;32m      7\u001b[0m shotopt\u001b[38;5;241m.\u001b[39mcfg \u001b[38;5;241m=\u001b[39m AttrDict(deepcopy(yaml_cfg))\n\u001b[0;32m      9\u001b[0m \u001b[38;5;66;03m# span_f = 2*abs(results_Qi['Res chi shift (f - g)']) # MHz\u001b[39;00m\n\u001b[0;32m     10\u001b[0m \u001b[38;5;66;03m# span_f = 2*abs(results_Qi['Res chi shift (e - g)']) # MHz\u001b[39;00m\n\u001b[0;32m     11\u001b[0m \n\u001b[0;32m     12\u001b[0m \u001b[38;5;66;03m# span_f = 2*abs(results_Qi['Res kappa']) # MHz\u001b[39;00m\n\u001b[0;32m     13\u001b[0m \u001b[38;5;66;03m# npts_f = 15\u001b[39;00m\n\u001b[1;32m---> 15\u001b[0m span_f \u001b[38;5;241m=\u001b[39m \u001b[38;5;241m3\u001b[39m\u001b[38;5;241m*\u001b[39m\u001b[38;5;28mabs\u001b[39m(\u001b[43mresults_Qi\u001b[49m\u001b[43m[\u001b[49m\u001b[38;5;124;43m'\u001b[39;49m\u001b[38;5;124;43mRes kappa\u001b[39;49m\u001b[38;5;124;43m'\u001b[39;49m\u001b[43m]\u001b[49m) \u001b[38;5;66;03m# MHz\u001b[39;00m\n\u001b[0;32m     16\u001b[0m npts_f \u001b[38;5;241m=\u001b[39m \u001b[38;5;241m20\u001b[39m\n\u001b[0;32m     18\u001b[0m \u001b[38;5;66;03m# span_gain = 0.85\u001b[39;00m\n\u001b[0;32m     19\u001b[0m \u001b[38;5;66;03m# npts_gain = 5\u001b[39;00m\n",
      "\u001b[1;31mKeyError\u001b[0m: 'Res kappa'"
     ]
    }
   ],
   "source": [
    "shotopt = meas.SingleShotOptExperiment(\n",
    "    soccfg=soc,\n",
    "    path=expt_path,\n",
    "    prefix=f\"single_shot_opt_qubit{qubit_i}\",\n",
    "    config_file=config_path,\n",
    ")\n",
    "shotopt.cfg = AttrDict(deepcopy(yaml_cfg))\n",
    "\n",
    "# span_f = 2*abs(results_Qi['Res chi shift (f - g)']) # MHz\n",
    "# span_f = 2*abs(results_Qi['Res chi shift (e - g)']) # MHz\n",
    "\n",
    "# span_f = 2*abs(results_Qi['Res kappa']) # MHz\n",
    "# npts_f = 15\n",
    "\n",
    "span_f = 3*abs(results_Qi['Res kappa']) # MHz\n",
    "npts_f = 20\n",
    "\n",
    "# span_gain = 0.85\n",
    "# npts_gain = 5\n",
    "span_gain = 0.1\n",
    "npts_gain = 8\n",
    "\n",
    "span_len = 0 # us\n",
    "npts_len = 1\n",
    "\n",
    "shotopt.cfg.expt = dict(\n",
    "    reps=15000,\n",
    "    qTest=qubit_i,\n",
    "\n",
    "    # start_f=shotopt.cfg.device.readout.frequency[qubit_i] - 0.75*span_f,\n",
    "    # start_f=shotopt.cfg.device.readout.frequency[qubit_i] + 0.25*span_f,\n",
    "    # start_f=shotopt.cfg.device.readout.frequency[qubit_i],\n",
    "    start_f=shotopt.cfg.device.readout.frequency[qubit_i] - span_f/2, # [MHz]\n",
    "    step_f=span_f/npts_f,\n",
    "    expts_f=npts_f,\n",
    "\n",
    "    # start_gain=int(shotopt.cfg.device.readout.gain[qubit_i]-span_gain/2),\n",
    "    start_gain=0.01,\n",
    "    # start_gain=0.10,\n",
    "    step_gain=span_gain/npts_gain,\n",
    "    expts_gain=npts_gain + 1,\n",
    "\n",
    "    start_len=8.0,\n",
    "    # step_len=span_len/npts_len,\n",
    "    # expts_len=npts_len + 1,\n",
    "    step_len=0,\n",
    "    expts_len=1,\n",
    ")\n",
    "\n",
    "print(shotopt.cfg)\n",
    "\n",
    "shotopt.go(analyze=False, display=False, progress=True, save=False)"
   ]
  },
  {
   "cell_type": "code",
   "execution_count": null,
   "metadata": {},
   "outputs": [],
   "source": [
    "imax = shotopt.analyze()\n",
    "shotopt.display()\n",
    "print(shotopt.data['fid'])\n",
    "\n",
    "freq_opt = shotopt.data['fpts'][imax[0]]\n",
    "gain_opt = shotopt.data['gainpts'][imax[1]]\n",
    "len_opt = shotopt.data['lenpts'][imax[2]]"
   ]
  },
  {
   "cell_type": "code",
   "execution_count": null,
   "metadata": {},
   "outputs": [],
   "source": [
    "if save_data: saved_files.append(shotopt.save_data())"
   ]
  },
  {
   "cell_type": "markdown",
   "metadata": {},
   "source": [
    "## Best readout parameters"
   ]
  },
  {
   "cell_type": "code",
   "execution_count": 18,
   "metadata": {},
   "outputs": [],
   "source": [
    "qubit_i = 3"
   ]
  },
  {
   "cell_type": "code",
   "execution_count": null,
   "metadata": {},
   "outputs": [
    {
     "name": "stdout",
     "output_type": "stream",
     "text": [
      "{'device': {'readout': {'trig_offset': 150, 'lo_sideband': [1, 1, 1, 1], 'frequency': [-390.00045219204236, 5795.770150727347, 502.42095511476606, -228.94242032007057], 'gain': [0.6, 0.6, 0.5, 0.3], 'readout_length': 10, 'frequency_ef': [-391.91408405, 5795.76166666, 500.44439227, -230.30732892], 'gain_ef': [0.05, 0.6, 0.4, 0.25], 'readout_length_ef': [1, 20, 10, 8], 'relax_delay': [450, 450, 450, 450]}, 'qubit': {'f_ge': [4108.6352143528575, 4103.243553024718, 4108.491689964749, 4108.066288400736, 3442.8688097468294, 3448.2597196742877, 3447.149851461427, 3446.943321983037, 4759.488589798401, 4758.50698515513, 4759.617265888647, 4759.085816492836, 4377.407821334912, 4376.654922763285, 4377.445747133665, 4377.972703369784], 'f_ef': [3882.584812861004, 0.0, 3882.593023159515, 3882.5465667921762, 3345.3957364303, 3347.8123422280078, 3347.003494996075, 3346.9817293387923, 4569.728581643396, 4568.311187621723, 4570.125075914433, 0.0, 4206.708200302393, 4202.366145184353, 4205.110372632136, 4205.162855964244], 'f_EgGf': [2686.53594683, 0, 2017.3, 2414.92850999], 'f_EgGf_Q_half': [0, 0, 5885.6717699723895, 5138], 'f_EgGf_Q': [0, 0, 5880.504550983305, 5132.386793750588], 'f_f0g1': [1184.4, 999.8, 1632.9833333333333, 1620.9166666666665], 'gs': [52.40296404695958, 54.81794456602636, 43.49513117058557, 4.930653352423196, 2.6415018214608046, 6.386231497692186], 'pulses': {'pi_ge': {'sigma': [0.02, 0.02, 0.02, 0.02, 0.025, 0.025, 0.025, 0.025, 0.015, 0.015, 0.015, 0.015, 0.025, 0.025, 0.025, 0.025], 'gain': [1849, 1914, 0, 1855, 2834, 2504, 2648, 2631, 9155, 9155, 9155, 9155, 3000, 3000, 3000, 3000], 'half_gain': [1850, 1835, 1873, 1867, 2382, 2186, 2248, 2289, 9253, 9253, 9253, 9253, 3120, 3120, 3120, 3120], 'half_correction_phase': [0, 0, 0, 0, 0, 0, 0, 0, 0, 0, 0, 0, 0, 0, 0, 0], 'half_gain_pi_sigma': [927, 0, 0, 0, 0, 1315, 0, 0, 0, 0, 7212, 0, 0, 0, 0, 460], 'type': 'gauss'}, 'pi_ef': {'sigma': [0.02, 0.02, 0.02, 0.02, 0.025, 0.025, 0.025, 0.025, 0.015, 0.015, 0.015, 0.015, 0.03, 0.03, 0.03, 0.03], 'gain': [1245, 0, 0, 0, 0, 1945, 0, 0, 0, 0, 6000, 0, 0, 0, 0, 1500], 'half_gain': [1243, 0, 0, 0, 0, 1619, 0, 0, 0, 6472, 6501, 0, 1427, 1601, 0, 1647], 'half_gain_pi_sigma': [673, 0, 0, 0, 0, 975, 0, 0, 0, 0, 3049, 0, 0, 0, 0, 1000], 'type': 'gauss'}, 'pi_EgGf': {'gain': [32000, 0, 30000, 16000], 'sigma': [0.586, 0, 0.8, 0.44643], 'type': 'flat_top'}, 'pi_EgGf_Q': {'half_gain': [0, 0, 12147, 14500], 'half_sigma': [0, 0, 0.231, 0.095], 'half_phase': [0, 0, 0.0, 0.0], 'gain': [0, 0, 24647, 24647], 'sigma': [0, 0, 0.245, 0.17], 'phase': [0, 0, 0.0, 0.0], 'type': 'flat_top'}, 'pi_f0g1': {'gain': [32000, 32000, 32000, 32000], 'sigma': [0.536, 0.585, 1.54, 1.04], 'idle': [3, 6, 12, 8], 'type': 'flat_top'}, 'pulse_pp': {'gain': [1750, 3550, 0, 0], 'filename': '240920_3_qram_4q_2qubit_++gg'}, 'pulse_1p': {'gain': [3500, 4375, 0, 0], 'filename': '240920_qram_4q_2qubit_e+gg'}, 'pulse_p1': {'gain': [3000, 5530, 0, 0], 'filename': '240920_qram_4q_2qubit_+egg'}, 'pihalf_ge_robust': {'gain': [7451, 7595, 7471, 7481, 4814, 4439, 4480, 4444, 20200, 20192, 20179, 20192, 11953, 11830, 11955, 11977], 'correction_phase': [12.771425603678084, 9.29781534792422, 12.148832830416332, 12.606633130020677, 0.5240598981582869, 0.09597764248557632, 0.4904676360127895, 0.5010312704801453, 3.188071848236603, 3.9528509857168133, 3.362799571771103, 3.4772643408463932, 24.59157228879068, 25.141388249665564, 24.334798838915013, 24.76925501106077], 'filename': ['X_2_Q0', 'X_2_Q1', 'X_2_Q2', 'X_2_Q3']}, 'pi_ge_slow': {'gain': [-1, 100, -1, -1], 'sigma': [-1, 0.25, -1, -1], 'type': 'gauss'}, 'pi_Q1_ZZ_slow': {'gain': [100, 0, -1, -1], 'sigma': [0.25, 0, -1, -1], 'type': 'gauss'}}}}, 'hw': {'soc': {'dacs': {'qubit': {'ch': [0, 1, 2, 3], 'type': 'full', 'nyquist': [2, 1, 2, 2], 'mixer_freq': [0, 0, 0, 0]}, 'swap': {'ch': 1, 'type': 'full', 'nyquist': 1, 'mixer_freq': 0}, 'swap_f0g1': {'ch': [1, 1, 5, 5], 'type': ['full', 'full', 'full', 'full'], 'nyquist': 1, 'mixer_freq': 0}, 'swap_Q': {'ch': [0, -1, 2, 3], 'type': ['full', 'None', 'full', 'full'], 'nyquist': [2, 0, 2, 2], 'mixer_freq': 0}, 'readout': {'ch': [6, 4, 6, 6], 'full_mux_chs': [5, 4, 5, 5], 'type': ['mux4', 'full', 'mux4', 'mux4'], 'mixer_freq': [7200, 0, 7200, 7200], 'nyquist': [2, 2, 2, 2]}, 'res_pump': {'ch': 4, 'type': 'full', 'mixer_freq': 0, 'nyquist': 2}, 'delay_chs': {'ch': [0, 1, 2, 3, 4, 5, 6], 'delay_ns': [0.0, 2.0, 2.0, 0.0, 25, 24, 73]}}, 'adcs': {'readout': {'ch': [0, 1, 2, 3]}}}, 'lo': {'twpa': {'frequency': '8194.0e6', 'power': -0.6}, 'readout': {'frequency': 0, 'power': 0}}}, 'aliases': {'readout_LO': 'SC_20A1', 'twpa_LO': 'SC_26C1', 'soc': 'Qick_QRAM'}, 'expt': {'reps': 8000, 'check_f': False, 'qTest': 3, 'full_mux_expt': False, 'resonator_reset': None}}\n"
     ]
    },
    {
     "data": {
      "application/vnd.jupyter.widget-view+json": {
       "model_id": "b3272bfb01ae46438e2eb85673566e17",
       "version_major": 2,
       "version_minor": 0
      },
      "text/plain": [
       "  0%|          | 0/8000 [00:00<?, ?it/s]"
      ]
     },
     "metadata": {},
     "output_type": "display_data"
    },
    {
     "data": {
      "application/vnd.jupyter.widget-view+json": {
       "model_id": "c34b0c69883f4e398d2f9e3e88ea7381",
       "version_major": 2,
       "version_minor": 0
      },
      "text/plain": [
       "  0%|          | 0/8000 [00:00<?, ?it/s]"
      ]
     },
     "metadata": {},
     "output_type": "display_data"
    }
   ],
   "source": [
    "shot = meas.HistogramExperiment(\n",
    "    soccfg=soc,\n",
    "    path=expt_path,\n",
    "    prefix=f\"single_shot_qubit{qubit_i}\",\n",
    "    config_file=config_path,\n",
    ")\n",
    "shot.cfg = AttrDict(deepcopy(yaml_cfg))\n",
    "\n",
    "shot.cfg.expt = dict(\n",
    "    reps=8000,\n",
    "    check_f=False,\n",
    "    qTest=qubit_i,\n",
    "\n",
    "    full_mux_expt=full_mux_expt,\n",
    "    resonator_reset=resonator_reset,\n",
    ")\n",
    "\n",
    "# shot.cfg.device.readout.frequency=freq_opt\n",
    "shot.cfg.device.readout.gain[0]=0.6\n",
    "shot.cfg.device.readout.gain[1]=0.6\n",
    "shot.cfg.device.readout.gain[2]=0.5\n",
    "shot.cfg.device.readout.gain[3]=0.3\n",
    "# print(freq_opt, gain_opt)\n",
    "# shot.cfg.device.readout.readout_length = len_opt # [us]\n",
    "\n",
    "# shot.cfg.device.readout.frequency=-807.4996158081035\n",
    "# shot.cfg.device.readout.readout_length = 10 # [us]\n",
    "# shot.cfg.device.readout.relax_delay = 70 # Wait time between experiments [us]\n",
    "print(shot.cfg)\n",
    "\n",
    "shot.go(analyze=False, display=False, progress=True, save=False)"
   ]
  },
  {
   "cell_type": "code",
   "execution_count": 30,
   "metadata": {},
   "outputs": [
    {
     "name": "stdout",
     "output_type": "stream",
     "text": [
      "g unrotated averages:\n",
      "I -96.65661690266928 +/- 23.89468269238032 \t Q 64.96045206705729 +/- 24.27172830673666 \t Amp 119.21267221309536 +/- 22.600295653032536\n",
      "Rotated (theta=-0.8165673748901313):\n",
      "I -18.840229715532992 +/- 25.501966291186548 \t Q 114.92348614661742 +/- 22.577031940641938 \t Amp 116.45755417243579 +/- 22.600295653032536\n",
      "e unrotated averages:\n",
      "I -45.69408414713542 +/- 27.180604870504514 \t Q 119.20321321614584 +/- 31.590814396985138 \t Amp 131.76086052442025 +/- 25.946017735963732\n",
      "Rotated (theta=-0.8165673748901313):\n",
      "I 55.58729800060125 +/- 33.76360971955852 \t Q 114.92348614661744 +/- 24.429152545608098 \t Amp 127.66109574611765 +/- 25.946017735963732\n",
      "ge fidelity (%): 81.5993155394424\n",
      "rotation angle (deg): -46.7858642692814\n",
      "threshold ge: 18.924971339815087\n"
     ]
    }
   ],
   "source": [
    "# # TESTING\n",
    "# shot = meas.HistogramExperiment(config_file=config_path)\n",
    "# temp_data, attrs = prev_data(expt_path, '00001_single_shot_qubit0.h5')\n",
    "# data = shot.analyze(data=temp_data)\n",
    "# shot.display(data=data)\n",
    "\n",
    "shot.analyze(verbose=False)\n",
    "shot.display(verbose=True, amplitude_mode=shot.cfg.expt.full_mux_expt)\n",
    "results_Qi.update({'Single shot g-e fidelity (%)': 100*shot.data['fids'][0]})"
   ]
  },
  {
   "cell_type": "code",
   "execution_count": null,
   "metadata": {},
   "outputs": [],
   "source": [
    "if save_data: saved_files.append(shot.save_data())"
   ]
  },
  {
   "cell_type": "code",
   "execution_count": null,
   "metadata": {},
   "outputs": [],
   "source": [
    "# TESTING\n",
    "shot = meas.HistogramExperiment(config_file=config_path)\n",
    "temp_data, attrs = prev_data('S:\\\\Connie\\\\experiments\\\\qramLL_4QR2\\\\data\\\\data_240617\\\\00000_single_shot_qubit2.h5')\n",
    "shot.cfg = AttrDict(attrs['config'])\n",
    "shot.data = temp_data"
   ]
  },
  {
   "cell_type": "code",
   "execution_count": null,
   "metadata": {},
   "outputs": [],
   "source": [
    "# Checking for drift vs. shot number\n",
    "\n",
    "data = shot.data\n",
    "\n",
    "Ies = data['Ie']\n",
    "Qes = data['Qe']\n",
    "Igs = data['Ig']\n",
    "Qgs = data['Qg']\n",
    "\n",
    "plot_e = False\n",
    "\n",
    "if plot_e:\n",
    "    i, q = Ies, Qes\n",
    "else:\n",
    "    i, q = Igs, Qgs\n",
    "\n",
    "amps = np.abs(i+1j*q)\n",
    "phases = np.angle(i+1j*q)\n",
    "\n",
    "# plt.plot(amps, '.', label='amps')\n",
    "# plt.ylabel('Amps [ADC units]')\n",
    "# plt.xlabel('Shot number')\n",
    "# plt.legend()\n",
    "# plt.show()\n",
    "\n",
    "plt.title(f'Q{shot.cfg.expt.qTest} {\"e\" if plot_e else \"g\"}')\n",
    "plt.plot(phases, '.', label='phases')\n",
    "plt.axhline(0, color='r')\n",
    "# plt.axhline(1.5, color='r')\n",
    "plt.ylabel('Phases [radians]')\n",
    "plt.xlabel('Shot number')\n",
    "plt.legend()\n",
    "plt.show()\n",
    "\n",
    "plt.plot(i, '.', label='i')\n",
    "plt.ylabel('I [ADC units]')\n",
    "plt.xlabel('Shot number')\n",
    "plt.legend()\n",
    "plt.show()\n",
    "\n",
    "plt.plot(q, '.', label='Q')\n",
    "plt.ylabel('Q [ADC units]')\n",
    "plt.xlabel('Shot number')\n",
    "plt.legend()\n",
    "plt.show()"
   ]
  },
  {
   "cell_type": "markdown",
   "metadata": {},
   "source": [
    "# Results"
   ]
  },
  {
   "cell_type": "code",
   "execution_count": 177,
   "metadata": {},
   "outputs": [
    {
     "name": "stdout",
     "output_type": "stream",
     "text": [
      "{'device': {'readout': {'trig_offset': 150, 'lo_sideband': [1, 1, 1, 1], 'frequency': [-389.9616666666667, 5795.78833333, 502.36156666666733, -228.84666666666666], 'gain': [0.4, 0.5, 0.3, 0.2], 'readout_length': [5, 20, 10, 8], 'frequency_ef': [-391.91408405, 5795.76166666, 500.44439227, -230.30732892], 'gain_ef': [0.05, 0.6, 0.4, 0.25], 'readout_length_ef': [1, 20, 10, 8], 'relax_delay': [450, 259.0, 171.0, 124.0]}, 'qubit': {'f_ge': [4111.107346135244, 4105.758870288914, 4110.961390890517, 4110.561006068113, 3442.9791477220547, 3448.258871857906, 3447.2256002913127, 3447.022898974775, 4762.736987583428, 4761.772206046936, 4759.604749454737, 4762.340227746316, 4380.990256112639, 4380.2241341449835, 4380.999038792971, 4377.984990507439], 'f_ef': [3884.9668600899413, 0.0, 0.0, 0.0, 0.0, 3347.846225737386, 0.0, 0.0, 4571.9056482340775, 4571.009319367402, 4570.352063457543, 0.0, 4211.704645679207, 4206.869581627414, 0.0, 4204.964704068256], 'f_EgGf': [2686.53594683, 0, 2017.3, 2414.92850999], 'f_EgGf_Q_half': [0, 0, 5885.6717699723895, 5138], 'f_EgGf_Q': [0, 0, 5880.504550983305, 5132.386793750588], 'f_f0g1': [1184.4, 999.8, 1632.9833333333333, 1620.9166666666665], 'gs': [52.40296404695958, 54.81794456602636, 43.49513117058557, 4.930653352423196, 2.6415018214608046, 6.386231497692186], 'pulses': {'pi_ge': {'sigma': [0.02, 0.025, 0.015, 0.02, 0.025, 0.025, 0.025, 0.025, 0.015, 0.015, 0.015, 0.015, 0.025, 0.025, 0.025, 0.025], 'gain': [1849, 1914, 0, 1855, 2834, 10343, 2648, 2631, 9155, 9155, 30000, 9155, 3000, 3000, 3000, 3000], 'half_gain': [1850, 1835, 1873, 1867, 2382, 2186, 2248, 2289, 9253, 9253, 9253, 9253, 3120, 3120, 3120, 3120], 'half_correction_phase': [0, 0, 0, 0, 0, 0, 0, 0, 0, 0, 0, 0, 0, 0, 0, 0], 'half_gain_pi_sigma': [927, 0, 0, 0, 0, 1315, 0, 0, 0, 0, 7212, 0, 0, 0, 0, 460], 'type': 'gauss'}, 'pi_ef': {'sigma': [0.02, 0.02, 0.02, 0.02, 0.025, 0.025, 0.025, 0.025, 0.015, 0.015, 0.015, 0.015, 0.03, 0.03, 0.03, 0.03], 'gain': [1245, 0, 0, 0, 0, 1945, 0, 0, 0, 0, 6000, 0, 0, 0, 0, 1500], 'half_gain': [1243, 0, 0, 0, 0, 1619, 0, 0, 0, 6472, 6501, 0, 1427, 1601, 0, 1647], 'half_gain_pi_sigma': [673, 0, 0, 0, 0, 975, 0, 0, 0, 0, 3049, 0, 0, 0, 0, 1000], 'type': 'gauss'}, 'pi_EgGf': {'gain': [32000, 0, 30000, 16000], 'sigma': [0.586, 0, 0.8, 0.44643], 'type': 'flat_top'}, 'pi_EgGf_Q': {'half_gain': [0, 0, 12147, 14500], 'half_sigma': [0, 0, 0.231, 0.095], 'half_phase': [0, 0, 0.0, 0.0], 'gain': [0, 0, 24647, 24647], 'sigma': [0, 0, 0.245, 0.17], 'phase': [0, 0, 0.0, 0.0], 'type': 'flat_top'}, 'pi_f0g1': {'gain': [32000, 32000, 32000, 32000], 'sigma': [0.536, 0.585, 1.54, 1.04], 'idle': [3, 6, 12, 8], 'type': 'flat_top'}, 'pulse_pp': {'gain': [1750, 3550, 0, 0], 'filename': '240920_3_qram_4q_2qubit_++gg'}, 'pulse_1p': {'gain': [3500, 4375, 0, 0], 'filename': '240920_qram_4q_2qubit_e+gg'}, 'pulse_p1': {'gain': [3000, 5530, 0, 0], 'filename': '240920_qram_4q_2qubit_+egg'}, 'pihalf_ge_robust': {'gain': [7511, 7665, 7524, 7534, 4849, 4476, 4518, 4475, 20160, 20177, 20406, 20142, 12276, 12172, 12302, 12320], 'correction_phase': [10.799999999999997, 9.780338944338627, 1.8242193491293757, 1.8128390587788765, 0.46597040378175203, -0.28914046319009995, 0.6678177385391172, 1.0754762888754805, 3.0017251090114216, 3.7031106610299522, 3.183564832840096, 3.2384320807890035, -5.877794913458879, -6.995431316414082, -6.77604262269097, -3.118889112056552], 'filename': ['X_2_Q0', 'X_2_Q1', 'X_2_Q2', 'X_2_Q3']}, 'pi_ge_slow': {'gain': [-1, 100, -1, -1], 'sigma': [-1, 0.25, -1, -1], 'type': 'gauss'}, 'pi_Q1_ZZ_slow': {'gain': [100, 0, -1, -1], 'sigma': [0.25, 0, -1, -1], 'type': 'gauss'}}}}, 'hw': {'soc': {'dacs': {'qubit': {'ch': [0, 1, 2, 3], 'type': 'full', 'nyquist': [2, 1, 2, 2], 'mixer_freq': [0, 0, 0, 0]}, 'swap': {'ch': 1, 'type': 'full', 'nyquist': 1, 'mixer_freq': 0}, 'swap_f0g1': {'ch': [1, 1, 5, 5], 'type': ['full', 'full', 'full', 'full'], 'nyquist': 1, 'mixer_freq': 0}, 'swap_Q': {'ch': [0, -1, 2, 3], 'type': ['full', 'None', 'full', 'full'], 'nyquist': [2, 0, 2, 2], 'mixer_freq': 0}, 'readout': {'ch': [6, 4, 6, 6], 'full_mux_chs': [5, 4, 5, 5], 'type': ['mux4', 'full', 'mux4', 'mux4'], 'mixer_freq': [7200, 0, 7200, 7200], 'nyquist': [2, 2, 2, 2]}, 'res_pump': {'ch': 4, 'type': 'full', 'mixer_freq': 0, 'nyquist': 2}, 'delay_chs': {'ch': [0, 1, 2, 3, 4, 5, 6], 'delay_ns': [0.0, 2.0, 2.0, 0.0, 25, 24, 73]}}, 'adcs': {'readout': {'ch': [0, 1, 2, 3]}}}, 'lo': {'twpa': {'frequency': '8210.0e6', 'power': -1.5}, 'readout': {'frequency': 0, 'power': 0}}}, 'aliases': {'readout_LO': 'SC_20A1', 'twpa_LO': 'SC_26C1', 'soc': 'Qick_QRAM'}}\n",
      "Qubit 0\n",
      "\tQubit freq: 4108.734177356279\n",
      "\tRes freq: 6810.038333333333\n",
      "\tRes freq (yaml): -389.9616666666667\n",
      "\tRes kappa: 0.2846282838170267\n",
      "\tPi pulse gain: 15708\n",
      "\tT1: 53.706007153536575\n",
      "\tT1 err: 0.8843292681665514\n",
      "\tT2R: 33.5801558616992\n",
      "\tT2R err: 1.2777165660052452\n",
      "\n",
      "Qubit 1\n",
      "\tRes freq: 5795.78833333\n",
      "\tRes freq (yaml): 5795.78833333\n",
      "\tRes kappa: 0.13168778043737117\n",
      "\tQubit freq: 3448.258871857906\n",
      "\tPi pulse gain: 10343\n",
      "\tT1: 64.74852934126194\n",
      "\tT1 err: 1.1434735418617292\n",
      "\tT2R: 37.03111359944396\n",
      "\tT2R err: 1.7836148081865342\n",
      "\n",
      "Qubit 2\n",
      "\tRes freq: 7702.361566666667\n",
      "\tRes freq (yaml): 502.36156666666733\n",
      "\tRes kappa: 0.2307720865814241\n",
      "\tQubit freq: 4759.604749454737\n",
      "\tPi pulse gain: 30000\n",
      "\tT1: 42.784399386770815\n",
      "\tT1 err: 0.8773509561528295\n",
      "\tT2R: 21.97258631321279\n",
      "\tT2R err: 0.9744937045361439\n",
      "\tQubit EF freq: 4570.352063457543\n",
      "\tT2R EF: 12.761502887905998\n",
      "\tT2R EF err: 1.7754053513288401\n",
      "\tT2E EF: 16.384726943673183\n",
      "\tT2E EF err: 1.007579150352338\n",
      "\n",
      "Qubit 3\n",
      "\tQubit freq: 4377.984990507439\n",
      "\tT1: 31.07377161991536\n",
      "\tT1 err: 1.7658704555417863\n",
      "\tT2R: 32.06829908349514\n",
      "\tT2R err: 1.628634280696754\n",
      "\tQubit EF freq: 4204.964704068256\n",
      "\tT2R EF: 14.743982948593079\n",
      "\tT2R EF err: 1.0729044094517184\n",
      "\tRes freq: 6971.153333333334\n",
      "\tRes freq (yaml): -228.84666666666666\n",
      "\tRes kappa: 0.2518690613409693\n",
      "\n",
      "f_ge\n",
      "[4111.107346135244, 4105.758870288914, 4110.961390890517, 4110.561006068113, 3442.9791477220547, 3448.258871857906, 3447.2256002913127, 3447.022898974775, 4762.736987583428, 4761.772206046936, 4759.604749454737, 4762.340227746316, 4380.990256112639, 4380.2241341449835, 4380.999038792971, 4377.984990507439]\n",
      "pi_ge.gain\n",
      "[1849, 1914, 0, 1855, 2834, 10343, 2648, 2631, 9155, 9155, 30000, 9155, 3000, 3000, 3000, 3000]\n",
      "pi_ge.half_gain\n",
      "[1850, 1835, 1873, 1867, 2382, 2186, 2248, 2289, 9253, 9253, 9253, 9253, 3120, 3120, 3120, 3120]\n",
      "pi_ge.half_gain_pi_sigma\n",
      "[927, 0, 0, 0, 0, 1315, 0, 0, 0, 0, 7212, 0, 0, 0, 0, 460]\n",
      "f_ef\n",
      "[3884.9668600899413, 0.0, 0.0, 0.0, 0.0, 3347.846225737386, 0.0, 0.0, 4571.9056482340775, 4571.009319367402, 4570.352063457543, 0.0, 4211.704645679207, 4206.869581627414, 0.0, 4204.964704068256]\n",
      "pi_ef.gain\n",
      "[1245, 0, 0, 0, 0, 1945, 0, 0, 0, 0, 6000, 0, 0, 0, 0, 1500]\n",
      "pi_ef.half_gain\n",
      "[1243, 0, 0, 0, 0, 1619, 0, 0, 0, 6472, 6501, 0, 1427, 1601, 0, 1647]\n",
      "pi_ef.half_gain_pi_sigma\n",
      "[673, 0, 0, 0, 0, 975, 0, 0, 0, 0, 3049, 0, 0, 0, 0, 1000]\n",
      "readout.frequency_ef\n",
      "[-391.91408405, 5795.76166666, 500.44439227, -230.30732892]\n"
     ]
    }
   ],
   "source": [
    "print(yaml_cfg)\n",
    "for Qi, results in enumerate(all_results):\n",
    "    print(f'Qubit {Qi}')\n",
    "    for key, value in results.items():\n",
    "        print(f'\\t{key}: {value}')\n",
    "    print()\n",
    "\n",
    "for saved_file in saved_files:\n",
    "    print(saved_file)\n",
    "\n",
    "print(f'f_ge\\n{yaml_cfg.device.qubit.f_ge}')\n",
    "print(f'pi_ge.gain\\n{yaml_cfg.device.qubit.pulses.pi_ge.gain}')\n",
    "print(f'pi_ge.half_gain\\n{yaml_cfg.device.qubit.pulses.pi_ge.half_gain}')\n",
    "print(f'pi_ge.half_gain_pi_sigma\\n{yaml_cfg.device.qubit.pulses.pi_ge.half_gain_pi_sigma}')\n",
    "print(f'f_ef\\n{yaml_cfg.device.qubit.f_ef}')\n",
    "print(f'pi_ef.gain\\n{yaml_cfg.device.qubit.pulses.pi_ef.gain}')\n",
    "print(f'pi_ef.half_gain\\n{yaml_cfg.device.qubit.pulses.pi_ef.half_gain}')\n",
    "print(f'pi_ef.half_gain_pi_sigma\\n{yaml_cfg.device.qubit.pulses.pi_ef.half_gain_pi_sigma}')\n",
    "print(f'readout.frequency_ef\\n{yaml_cfg.device.readout.frequency_ef}')"
   ]
  },
  {
   "cell_type": "code",
   "execution_count": null,
   "metadata": {},
   "outputs": [],
   "source": []
  }
 ],
 "metadata": {
  "kernelspec": {
   "display_name": "base",
   "language": "python",
   "name": "python3"
  },
  "language_info": {
   "codemirror_mode": {
    "name": "ipython",
    "version": 3
   },
   "file_extension": ".py",
   "mimetype": "text/x-python",
   "name": "python",
   "nbconvert_exporter": "python",
   "pygments_lexer": "ipython3",
   "version": "3.9.19"
  },
  "toc": {
   "base_numbering": 1,
   "nav_menu": {},
   "number_sections": true,
   "sideBar": true,
   "skip_h1_title": false,
   "title_cell": "Table of Contents",
   "title_sidebar": "Contents",
   "toc_cell": false,
   "toc_position": {
    "height": "calc(100% - 180px)",
    "left": "10px",
    "top": "150px",
    "width": "177px"
   },
   "toc_section_display": true,
   "toc_window_display": false
  }
 },
 "nbformat": 4,
 "nbformat_minor": 4
}
