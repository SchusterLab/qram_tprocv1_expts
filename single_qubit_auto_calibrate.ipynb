{
 "cells": [
  {
   "cell_type": "code",
   "execution_count": 51,
   "metadata": {},
   "outputs": [],
   "source": [
    "# %matplotlib widget\n",
    "# %matplotlib inline\n",
    "%matplotlib qt5"
   ]
  },
  {
   "cell_type": "code",
   "execution_count": 2,
   "metadata": {},
   "outputs": [
    {
     "name": "stdout",
     "output_type": "stream",
     "text": [
      "Could not import QickInstrument (will only work if running on rfsoc). If running on rfsoc, try install/update qick package\n",
      "Warning failed to import AWG81180A\n",
      "Warning failed to import Tek5014\n",
      "Warning failed to import Tek70001\n",
      "Warning failed to import M8195A\n"
     ]
    },
    {
     "name": "stderr",
     "output_type": "stream",
     "text": [
      "c:\\ProgramData\\Anaconda3\\lib\\site-packages\\IPython\\qt.py:12: ShimWarning: The `IPython.qt` package has been deprecated since IPython 4.0. You should import from qtconsole instead.\n",
      "  warn(\"The `IPython.qt` package has been deprecated since IPython 4.0. \"\n"
     ]
    },
    {
     "name": "stdout",
     "output_type": "stream",
     "text": [
      "Could not load InstrumentManagerWindow\n",
      "Could not load labbrick\n",
      "Could not load Autonics TM4 Driver\n",
      "Could not load Oxford Trition driver\n"
     ]
    }
   ],
   "source": [
    "%load_ext autoreload\n",
    "%autoreload 2\n",
    "\n",
    "import numpy as np\n",
    "import matplotlib.pyplot as plt\n",
    "from copy import deepcopy\n",
    "\n",
    "from qick import *\n",
    "from qick.helpers import gauss\n",
    "\n",
    "import time\n",
    "import os\n",
    "import sys\n",
    "sys.path.append('/home/xilinx/jupyter_notebooks/')\n",
    "import scipy as sp\n",
    "import json\n",
    "from scipy.fft import fft, fftfreq\n",
    "\n",
    "from slab.instruments import *\n",
    "from slab.experiment import Experiment\n",
    "from slab.datamanagement import SlabFile\n",
    "from slab import get_next_filename, AttrDict\n",
    "\n",
    "# Figure params\n",
    "import matplotlib as mpl\n",
    "mpl.rcParams['figure.figsize'] = [10,6]\n",
    "plt.rcParams.update({'font.size': 14})\n",
    "mpl.rcParams['figure.dpi'] = 150\n",
    "\n",
    "import Pyro4.util\n",
    "\n",
    "default_colors = plt.rcParams['axes.prop_cycle'].by_key()['color']\n",
    "linestyle_cycle=['solid', 'dashed', 'dotted', 'dashdot']\n",
    "marker_cycle = ['o', '*', 's', '^']"
   ]
  },
  {
   "cell_type": "markdown",
   "metadata": {},
   "source": [
    "# Load experiments"
   ]
  },
  {
   "cell_type": "code",
   "execution_count": 3,
   "metadata": {},
   "outputs": [
    {
     "name": "stdout",
     "output_type": "stream",
     "text": [
      "imported experiments.clifford_averager_program\n",
      "imported experiments.fitting\n",
      "imported experiments.four_qubit.fourQ_state_tomo\n",
      "imported experiments.qram_protocol_timestepped\n",
      "imported experiments.single_qubit.acstarkshift_spectroscopy\n",
      "imported experiments.single_qubit.amplitude_rabi\n",
      "imported experiments.single_qubit.length_rabi\n",
      "imported experiments.single_qubit.pulse_probe_spectroscopy\n",
      "imported experiments.single_qubit.resonator_spectroscopy\n",
      "imported experiments.single_qubit.rfsoc_tof_calibration\n",
      "imported experiments.single_qubit.single_shot\n",
      "imported experiments.single_qubit.t1\n",
      "imported experiments.single_qubit.t2_ramsey\n",
      "imported experiments.three_qubit.threeQ_state_tomo\n",
      "imported experiments.two_qubit.amplitude_rabi_EgGf\n",
      "imported experiments.two_qubit.amplitude_rabi_f0g1\n",
      "imported experiments.two_qubit.amprabi_opt_ctrl_state_prep\n",
      "imported experiments.two_qubit.crosstalk_echo_calib\n",
      "imported experiments.two_qubit.length_rabi_EgGf\n",
      "imported experiments.two_qubit.length_rabi_F0G1\n",
      "imported experiments.two_qubit.phase_calib_EgGf\n",
      "imported experiments.two_qubit.pulse_probe_EgGf_spectroscopy\n",
      "imported experiments.two_qubit.randbench\n",
      "imported experiments.two_qubit.random_test_pulses\n",
      "imported experiments.two_qubit.twoqutrit_state_tomography\n",
      "imported experiments.two_qubit.twoQ_state_tomography\n"
     ]
    }
   ],
   "source": [
    "# %aimport experiments\n",
    "# NOTE: ADDING NEW METHODS WILL NOT BE UPDATED\n",
    "import experiments as meas"
   ]
  },
  {
   "cell_type": "markdown",
   "metadata": {},
   "source": [
    "### Set save data"
   ]
  },
  {
   "cell_type": "code",
   "execution_count": 4,
   "metadata": {},
   "outputs": [],
   "source": [
    "save_data = False"
   ]
  },
  {
   "cell_type": "code",
   "execution_count": 5,
   "metadata": {},
   "outputs": [],
   "source": [
    "def prev_data(expt_path, filename=None):\n",
    "    \"\"\"Reopen saved data\"\"\"\n",
    "    temp_data_file = expt_path\n",
    "    if filename is not None: temp_data_file = os.path.join(expt_path, filename)\n",
    "    print(temp_data_file)\n",
    "    with SlabFile(temp_data_file) as a:\n",
    "        attrs = dict()\n",
    "        for key in list(a.attrs):\n",
    "            attrs.update({key:json.loads(a.attrs[key])})\n",
    "        keys = list(a)\n",
    "        temp_data = dict()\n",
    "        for key in keys:\n",
    "            temp_data.update({key:np.array(a[key])})\n",
    "        print(f'Extracted data and attrs {list(a.attrs)}')\n",
    "    return temp_data, attrs"
   ]
  },
  {
   "cell_type": "code",
   "execution_count": 6,
   "metadata": {},
   "outputs": [
    {
     "name": "stdout",
     "output_type": "stream",
     "text": [
      "Data will be stored in S:\\QRAM\\qram_4QR2\\data\\data_241025\n"
     ]
    }
   ],
   "source": [
    "# expt_path=os.path.join(os.getcwd(), 'data', 'data_240617')\n",
    "data_path = 'S:\\\\QRAM\\\\qram_4QR2\\\\'\n",
    "expt_path = os.path.join(data_path, 'data', 'data_241025')\n",
    "print('Data will be stored in', expt_path)"
   ]
  },
  {
   "cell_type": "code",
   "execution_count": 7,
   "metadata": {},
   "outputs": [
    {
     "name": "stdout",
     "output_type": "stream",
     "text": [
      "Config will be s:\\Connie\\experiments\\qram_tprocv1_expts\\configs\\config_q3diamond_full688and638_reset.yml\n"
     ]
    }
   ],
   "source": [
    "# config_file = 'config_zcu216.yml'\n",
    "# config_file = 'config_q3diamond.yml'\n",
    "# config_file = 'config_q3diamond_full688_reset.yml'\n",
    "config_file = 'config_q3diamond_full688and638_reset.yml'\n",
    "config_path = os.path.join('s:\\\\Connie\\\\experiments\\\\qram_tprocv1_expts\\\\configs\\\\', config_file)\n",
    "print('Config will be', config_path)"
   ]
  },
  {
   "cell_type": "markdown",
   "metadata": {},
   "source": [
    "# Load config"
   ]
  },
  {
   "cell_type": "code",
   "execution_count": 133,
   "metadata": {},
   "outputs": [],
   "source": [
    "import yaml\n",
    "with open(config_path, 'r') as cfg_file:\n",
    "    yaml_cfg = yaml.safe_load(cfg_file)\n",
    "yaml_cfg = AttrDict(yaml_cfg)"
   ]
  },
  {
   "cell_type": "markdown",
   "metadata": {},
   "source": [
    "# Setup experiment hardware\n",
    "\n",
    "Set in config:\n",
    "- LO alias, frequency, power\n",
    "- SOC dac channels, nyquist zones"
   ]
  },
  {
   "cell_type": "code",
   "execution_count": 9,
   "metadata": {},
   "outputs": [
    {
     "name": "stdout",
     "output_type": "stream",
     "text": [
      "['Pyro.NameServer', 'Qick_QRAM']\n"
     ]
    }
   ],
   "source": [
    "# im = InstrumentManager(ns_address='192.168.14.1') # Chicago lab\n",
    "# im = InstrumentManager(ns_address='192.168.137.1') # SLAC lab\n",
    "# im = InstrumentManager(ns_address='10.108.30.56') # Spilker Fermium\n",
    "im = InstrumentManager(ns_address='10.108.30.75') # Spilker Vibranium\n",
    "\n",
    "print(list(im))\n",
    "# print(im)"
   ]
  },
  {
   "cell_type": "code",
   "execution_count": 10,
   "metadata": {},
   "outputs": [
    {
     "name": "stdout",
     "output_type": "stream",
     "text": [
      "QICK running on ZCU216, software version 0.2.272\n",
      "\n",
      "Firmware configuration (built Sat Oct  5 10:21:47 2024):\n",
      "\n",
      "\tGlobal clocks (MHz): tProcessor 430.080, RF reference 245.760\n",
      "\n",
      "\t7 signal generator channels:\n",
      "\t0:\taxis_signal_gen_v6 - envelope memory 32768 samples (5.128 us)\n",
      "\t\tfs=6389.760 MHz, fabric=399.360 MHz, 32-bit DDS, range=6389.760 MHz\n",
      "\t\tDAC tile 2, blk 0 is 0_230, on JHC3\n",
      "\t1:\taxis_signal_gen_v6 - envelope memory 32768 samples (5.128 us)\n",
      "\t\tfs=6389.760 MHz, fabric=399.360 MHz, 32-bit DDS, range=6389.760 MHz\n",
      "\t\tDAC tile 2, blk 1 is 1_230, on JHC4\n",
      "\t2:\taxis_signal_gen_v6 - envelope memory 32768 samples (5.128 us)\n",
      "\t\tfs=6389.760 MHz, fabric=399.360 MHz, 32-bit DDS, range=6389.760 MHz\n",
      "\t\tDAC tile 2, blk 2 is 2_230, on JHC3\n",
      "\t3:\taxis_signal_gen_v6 - envelope memory 32768 samples (5.128 us)\n",
      "\t\tfs=6389.760 MHz, fabric=399.360 MHz, 32-bit DDS, range=6389.760 MHz\n",
      "\t\tDAC tile 2, blk 3 is 3_230, on JHC4\n",
      "\t4:\taxis_signal_gen_v6 - envelope memory 32768 samples (4.762 us)\n",
      "\t\tfs=6881.280 MHz, fabric=430.080 MHz, 32-bit DDS, range=6881.280 MHz\n",
      "\t\tDAC tile 3, blk 0 is 0_231, on JHC3\n",
      "\t5:\taxis_signal_gen_v6 - envelope memory 32768 samples (4.762 us)\n",
      "\t\tfs=6881.280 MHz, fabric=430.080 MHz, 32-bit DDS, range=6881.280 MHz\n",
      "\t\tDAC tile 3, blk 1 is 1_231, on JHC4\n",
      "\t6:\taxis_sg_mux4_v2 - envelope memory 0 samples (0.000 us)\n",
      "\t\tfs=6881.280 MHz, fabric=430.080 MHz, 32-bit DDS, range=1720.320 MHz\n",
      "\t\tDAC tile 0, blk 0 is 0_228, on JHC1\n",
      "\n",
      "\t4 constant-IQ outputs:\n",
      "\t0:\tfs=6881.280 MHz\n",
      "\t\tDAC tile 1, blk 0 is 0_229, on JHC1\n",
      "\t1:\tfs=6881.280 MHz\n",
      "\t\tDAC tile 1, blk 1 is 1_229, on JHC2\n",
      "\t2:\tfs=6881.280 MHz\n",
      "\t\tDAC tile 1, blk 2 is 2_229, on JHC1\n",
      "\t3:\tfs=6881.280 MHz\n",
      "\t\tDAC tile 1, blk 3 is 3_229, on JHC2\n",
      "\n",
      "\t4 readout channels:\n",
      "\t0:\taxis_pfb_readout_v2 - configured by PYNQ\n",
      "\t\tfs=2457.600 MHz, decimated=307.200 MHz, 32-bit DDS, range=307.200 MHz\n",
      "\t\tmaxlen 16384 accumulated, 1024 decimated (3.333 us)\n",
      "\t\ttriggered by output 7, pin 8, feedback to tProc input 0\n",
      "\t\tADC tile 2, blk 0 is 0_226, on JHC7\n",
      "\t1:\taxis_pfb_readout_v2 - configured by PYNQ\n",
      "\t\tfs=2457.600 MHz, decimated=307.200 MHz, 32-bit DDS, range=307.200 MHz\n",
      "\t\tmaxlen 16384 accumulated, 1024 decimated (3.333 us)\n",
      "\t\ttriggered by output 7, pin 9, feedback to tProc input 1\n",
      "\t\tADC tile 2, blk 0 is 0_226, on JHC7\n",
      "\t2:\taxis_pfb_readout_v2 - configured by PYNQ\n",
      "\t\tfs=2457.600 MHz, decimated=307.200 MHz, 32-bit DDS, range=307.200 MHz\n",
      "\t\tmaxlen 16384 accumulated, 1024 decimated (3.333 us)\n",
      "\t\ttriggered by output 7, pin 10, feedback to tProc input 2\n",
      "\t\tADC tile 2, blk 0 is 0_226, on JHC7\n",
      "\t3:\taxis_pfb_readout_v2 - configured by PYNQ\n",
      "\t\tfs=2457.600 MHz, decimated=307.200 MHz, 32-bit DDS, range=307.200 MHz\n",
      "\t\tmaxlen 16384 accumulated, 1024 decimated (3.333 us)\n",
      "\t\ttriggered by output 7, pin 11, feedback to tProc input 3\n",
      "\t\tADC tile 2, blk 0 is 0_226, on JHC7\n",
      "\n",
      "\t8 digital output pins:\n",
      "\t0:\tPMOD0_0_LS\n",
      "\t1:\tPMOD0_1_LS\n",
      "\t2:\tPMOD0_2_LS\n",
      "\t3:\tPMOD0_3_LS\n",
      "\t4:\tPMOD0_4_LS\n",
      "\t5:\tPMOD0_5_LS\n",
      "\t6:\tPMOD0_6_LS\n",
      "\t7:\tPMOD0_7_LS\n",
      "\n",
      "\ttProc axis_tproc64x32_x8 (\"v1\") rev 4: program memory 16384 words, data memory 4096 words\n",
      "\t\texternal start pin: PMOD1_0_LS\n"
     ]
    }
   ],
   "source": [
    "soc = QickConfig(im[yaml_cfg['aliases']['soc']].get_cfg())\n",
    "print(soc)\n",
    "# print(soc.description())\n",
    "# print(soc.dump_cfg())\n",
    "\n",
    "# soc = QickConfig(im['Qick187'].get_cfg())"
   ]
  },
  {
   "cell_type": "code",
   "execution_count": null,
   "metadata": {},
   "outputs": [],
   "source": [
    "lo1 = im[yaml_cfg.aliases.readout_LO]\n",
    "lo1.open_device()\n",
    "print(lo1.get_id())\n",
    "\n",
    "# TURN OFF\n",
    "lo1.set_standby(True)\n",
    "lo1.set_output_state(False)\n",
    "\n",
    "# # TURN ON\n",
    "# lo1.set_standby(False)\n",
    "# lo1.set_output_state(True)\n",
    "# lo_freq = float(yaml_cfg.hw.lo.readout.frequency)\n",
    "# lo_power = float(yaml_cfg.hw.lo.readout.power)\n",
    "# lo1.set_frequency(lo_freq) # Set LO frequency\n",
    "# print(f'set freq to [MHz] {lo_freq*1e-6}')\n",
    "# lo1.set_power(lo_power) # Set LO power\n",
    "# print('set power to', lo_power)"
   ]
  },
  {
   "cell_type": "markdown",
   "metadata": {},
   "source": [
    "## Set TWPA parameters\n",
    "\n",
    "Set in config:\n",
    "- LO alias, frequency, power\n",
    "- SOC dac channels, nyquist zones"
   ]
  },
  {
   "cell_type": "code",
   "execution_count": null,
   "metadata": {},
   "outputs": [],
   "source": [
    "\"\"\"\n",
    "TWPA ON\n",
    "\"\"\"\n",
    "\n",
    "print('Using config file', config_file)\n",
    "with open(config_file, 'r') as cfg_file:\n",
    "    yaml_cfg = yaml.safe_load(cfg_file)\n",
    "yaml_cfg = AttrDict(yaml_cfg)\n",
    "\n",
    "im = InstrumentManager(ns_address='10.108.30.56') # Spilker Fermium\n",
    "\n",
    "lo_twpa = im[yaml_cfg.aliases.twpa_LO]\n",
    "# lo_twpa = SignalCore(name=\"SignalCore\", address='10003494')\n",
    "lo_twpa.open_device()\n",
    "print(lo_twpa.get_id())\n",
    "\n",
    "# TURN ON\n",
    "lo_twpa.set_standby(False)\n",
    "lo_twpa.set_output_state(True)\n",
    "twpa_freq = float(yaml_cfg.hw.lo.twpa.frequency)\n",
    "twpa_power = float(yaml_cfg.hw.lo.twpa.power)\n",
    "lo_twpa.set_frequency(twpa_freq) # Set LO frequency\n",
    "print(f'set twpa pump freq to {twpa_freq*1e-6} MHz')\n",
    "lo_twpa.set_power(twpa_power) # Set LO power\n",
    "print(f'set twpa pump power to {twpa_power} dBm')"
   ]
  },
  {
   "cell_type": "code",
   "execution_count": null,
   "metadata": {},
   "outputs": [],
   "source": [
    "\"\"\"\n",
    "TWPA OFF\n",
    "\"\"\"\n",
    "im = InstrumentManager(ns_address='10.108.30.56') # Spilker Fermium\n",
    "\n",
    "lo_twpa = im[yaml_cfg.aliases.twpa_LO]\n",
    "# lo_twpa = SignalCore(name=\"SignalCore\", address='10003494')\n",
    "lo_twpa.open_device()\n",
    "print(lo_twpa.get_id())\n",
    "\n",
    "# TURN OFF\n",
    "lo_twpa.set_standby(True)\n",
    "lo_twpa.set_output_state(False)"
   ]
  },
  {
   "cell_type": "markdown",
   "metadata": {},
   "source": [
    "# Qubit/resonator to probe"
   ]
  },
  {
   "cell_type": "code",
   "execution_count": 11,
   "metadata": {},
   "outputs": [],
   "source": [
    "all_results = [dict(), dict(), dict(), dict()]\n",
    "saved_files = []"
   ]
  },
  {
   "cell_type": "code",
   "execution_count": 52,
   "metadata": {},
   "outputs": [],
   "source": [
    "qubit_i = 0\n",
    "results_Qi = all_results[qubit_i]"
   ]
  },
  {
   "cell_type": "markdown",
   "metadata": {},
   "source": [
    "## Set reps and rounds"
   ]
  },
  {
   "cell_type": "code",
   "execution_count": 13,
   "metadata": {},
   "outputs": [],
   "source": [
    "reps = 100\n",
    "rounds = 10"
   ]
  },
  {
   "cell_type": "markdown",
   "metadata": {},
   "source": [
    "# RFSoC Calibration"
   ]
  },
  {
   "cell_type": "code",
   "execution_count": null,
   "metadata": {},
   "outputs": [],
   "source": [
    "tof = meas.ToFCalibrationExperiment(\n",
    "    soccfg=soc,\n",
    "    path=expt_path,\n",
    "    prefix=f\"adc_trig_offset_calibration_qubit{qubit_i}\",\n",
    "    config_file=config_path,\n",
    ")\n",
    "\n",
    "tof.cfg.expt = dict(\n",
    "    pulse_length=0.5, # [us]\n",
    "    readout_length=1.0, # [us]\n",
    "    trig_offset=0, # [clock ticks]\n",
    "    # gain=32000,\n",
    "    gain=0.8, # [MUX units: -1 to 1]\n",
    "    frequency=tof.cfg.device.readout.frequency[qubit_i]-15, # [MHz]\n",
    "    reps=reps*rounds, # Number of averages per point\n",
    "    # qubit=qubit_i,\n",
    "    qubit=qubit_i,\n",
    ")\n",
    "tof.cfg.device.readout.relax_delay=0.1 # wait time between experiments [us]\n",
    "# print(tof.cfg)\n",
    "\n",
    "try:\n",
    "    tof.go(analyze=False, display=False, progress=True, save=False)\n",
    "except Exception:\n",
    "    print(\"Pyro traceback:\")\n",
    "    print(\"\".join(Pyro4.util.getPyroTraceback()))"
   ]
  },
  {
   "cell_type": "code",
   "execution_count": null,
   "metadata": {},
   "outputs": [],
   "source": [
    "tof.display(adc_trig_offset=150)"
   ]
  },
  {
   "cell_type": "markdown",
   "metadata": {},
   "source": [
    "# Initial single tone resonator spectroscopy"
   ]
  },
  {
   "cell_type": "code",
   "execution_count": 50,
   "metadata": {},
   "outputs": [
    {
     "data": {
      "application/vnd.jupyter.widget-view+json": {
       "model_id": "9f40060b2aef45ecb00e9ea15b76072f",
       "version_major": 2,
       "version_minor": 0
      },
      "text/plain": [
       "  0%|          | 0/150 [00:00<?, ?it/s]"
      ]
     },
     "metadata": {},
     "output_type": "display_data"
    },
    {
     "ename": "KeyboardInterrupt",
     "evalue": "",
     "output_type": "error",
     "traceback": [
      "\u001b[1;31m---------------------------------------------------------------------------\u001b[0m",
      "\u001b[1;31mConnectionRefusedError\u001b[0m                    Traceback (most recent call last)",
      "\u001b[1;32mc:\\ProgramData\\Anaconda3\\lib\\site-packages\\Pyro4\\socketutil.py\u001b[0m in \u001b[0;36mcreateSocket\u001b[1;34m(bind, connect, reuseaddr, keepalive, timeout, noinherit, ipv6, nodelay, sslContext)\u001b[0m\n\u001b[0;32m    306\u001b[0m         \u001b[1;32mtry\u001b[0m\u001b[1;33m:\u001b[0m\u001b[1;33m\u001b[0m\u001b[1;33m\u001b[0m\u001b[0m\n\u001b[1;32m--> 307\u001b[1;33m             \u001b[0msock\u001b[0m\u001b[1;33m.\u001b[0m\u001b[0mconnect\u001b[0m\u001b[1;33m(\u001b[0m\u001b[0mconnect\u001b[0m\u001b[1;33m)\u001b[0m\u001b[1;33m\u001b[0m\u001b[1;33m\u001b[0m\u001b[0m\n\u001b[0m\u001b[0;32m    308\u001b[0m         \u001b[1;32mexcept\u001b[0m \u001b[0msocket\u001b[0m\u001b[1;33m.\u001b[0m\u001b[0merror\u001b[0m\u001b[1;33m:\u001b[0m\u001b[1;33m\u001b[0m\u001b[1;33m\u001b[0m\u001b[0m\n",
      "\u001b[1;31mConnectionRefusedError\u001b[0m: [WinError 10061] No connection could be made because the target machine actively refused it",
      "\nDuring handling of the above exception, another exception occurred:\n",
      "\u001b[1;31mKeyboardInterrupt\u001b[0m                         Traceback (most recent call last)",
      "\u001b[1;32m~\\AppData\\Local\\Temp\\ipykernel_22868\\3671335883.py\u001b[0m in \u001b[0;36m<module>\u001b[1;34m\u001b[0m\n\u001b[0;32m     23\u001b[0m \u001b[1;33m\u001b[0m\u001b[0m\n\u001b[0;32m     24\u001b[0m \u001b[1;32mtry\u001b[0m\u001b[1;33m:\u001b[0m\u001b[1;33m\u001b[0m\u001b[1;33m\u001b[0m\u001b[0m\n\u001b[1;32m---> 25\u001b[1;33m     \u001b[0mrspec\u001b[0m\u001b[1;33m.\u001b[0m\u001b[0mgo\u001b[0m\u001b[1;33m(\u001b[0m\u001b[0manalyze\u001b[0m\u001b[1;33m=\u001b[0m\u001b[1;32mFalse\u001b[0m\u001b[1;33m,\u001b[0m \u001b[0mdisplay\u001b[0m\u001b[1;33m=\u001b[0m\u001b[1;32mFalse\u001b[0m\u001b[1;33m,\u001b[0m \u001b[0mprogress\u001b[0m\u001b[1;33m=\u001b[0m\u001b[1;32mTrue\u001b[0m\u001b[1;33m,\u001b[0m \u001b[0msave\u001b[0m\u001b[1;33m=\u001b[0m\u001b[1;32mFalse\u001b[0m\u001b[1;33m)\u001b[0m\u001b[1;33m\u001b[0m\u001b[1;33m\u001b[0m\u001b[0m\n\u001b[0m\u001b[0;32m     26\u001b[0m \u001b[1;32mexcept\u001b[0m \u001b[0mException\u001b[0m\u001b[1;33m:\u001b[0m\u001b[1;33m\u001b[0m\u001b[1;33m\u001b[0m\u001b[0m\n\u001b[0;32m     27\u001b[0m     \u001b[0mprint\u001b[0m\u001b[1;33m(\u001b[0m\u001b[1;34m\"Pyro traceback:\"\u001b[0m\u001b[1;33m)\u001b[0m\u001b[1;33m\u001b[0m\u001b[1;33m\u001b[0m\u001b[0m\n",
      "\u001b[1;32mC:\\_Lib\\python\\slab\\experiment.py\u001b[0m in \u001b[0;36mgo\u001b[1;34m(self, save, analyze, display, progress)\u001b[0m\n\u001b[0;32m    113\u001b[0m         \u001b[1;31m# get data\u001b[0m\u001b[1;33m\u001b[0m\u001b[1;33m\u001b[0m\u001b[0m\n\u001b[0;32m    114\u001b[0m \u001b[1;33m\u001b[0m\u001b[0m\n\u001b[1;32m--> 115\u001b[1;33m         \u001b[0mdata\u001b[0m\u001b[1;33m=\u001b[0m\u001b[0mself\u001b[0m\u001b[1;33m.\u001b[0m\u001b[0macquire\u001b[0m\u001b[1;33m(\u001b[0m\u001b[0mprogress\u001b[0m\u001b[1;33m)\u001b[0m\u001b[1;33m\u001b[0m\u001b[1;33m\u001b[0m\u001b[0m\n\u001b[0m\u001b[0;32m    116\u001b[0m         \u001b[1;32mif\u001b[0m \u001b[0manalyze\u001b[0m\u001b[1;33m:\u001b[0m\u001b[1;33m\u001b[0m\u001b[1;33m\u001b[0m\u001b[0m\n\u001b[0;32m    117\u001b[0m             \u001b[0mdata\u001b[0m\u001b[1;33m=\u001b[0m\u001b[0mself\u001b[0m\u001b[1;33m.\u001b[0m\u001b[0manalyze\u001b[0m\u001b[1;33m(\u001b[0m\u001b[0mdata\u001b[0m\u001b[1;33m)\u001b[0m\u001b[1;33m\u001b[0m\u001b[1;33m\u001b[0m\u001b[0m\n",
      "\u001b[1;32ms:\\Connie\\experiments\\qram_tprocv1_expts\\experiments\\single_qubit\\resonator_spectroscopy.py\u001b[0m in \u001b[0;36macquire\u001b[1;34m(self, progress)\u001b[0m\n\u001b[0;32m     52\u001b[0m             \u001b[0mcfg\u001b[0m\u001b[1;33m.\u001b[0m\u001b[0mdevice\u001b[0m\u001b[1;33m.\u001b[0m\u001b[0mreadout\u001b[0m\u001b[1;33m.\u001b[0m\u001b[0mfrequency\u001b[0m\u001b[1;33m[\u001b[0m\u001b[0mqTest\u001b[0m\u001b[1;33m]\u001b[0m \u001b[1;33m=\u001b[0m \u001b[0mf\u001b[0m\u001b[1;33m\u001b[0m\u001b[1;33m\u001b[0m\u001b[0m\n\u001b[0;32m     53\u001b[0m             \u001b[0mrspec\u001b[0m \u001b[1;33m=\u001b[0m \u001b[0mHistogramProgram\u001b[0m\u001b[1;33m(\u001b[0m\u001b[0msoccfg\u001b[0m\u001b[1;33m=\u001b[0m\u001b[0mself\u001b[0m\u001b[1;33m.\u001b[0m\u001b[0msoccfg\u001b[0m\u001b[1;33m,\u001b[0m \u001b[0mcfg\u001b[0m\u001b[1;33m=\u001b[0m\u001b[0mcfg\u001b[0m\u001b[1;33m)\u001b[0m\u001b[1;33m\u001b[0m\u001b[1;33m\u001b[0m\u001b[0m\n\u001b[1;32m---> 54\u001b[1;33m             \u001b[0mavgi\u001b[0m\u001b[1;33m,\u001b[0m \u001b[0mavgq\u001b[0m \u001b[1;33m=\u001b[0m \u001b[0mrspec\u001b[0m\u001b[1;33m.\u001b[0m\u001b[0macquire\u001b[0m\u001b[1;33m(\u001b[0m\u001b[0mself\u001b[0m\u001b[1;33m.\u001b[0m\u001b[0mim\u001b[0m\u001b[1;33m[\u001b[0m\u001b[0mself\u001b[0m\u001b[1;33m.\u001b[0m\u001b[0mcfg\u001b[0m\u001b[1;33m.\u001b[0m\u001b[0maliases\u001b[0m\u001b[1;33m.\u001b[0m\u001b[0msoc\u001b[0m\u001b[1;33m]\u001b[0m\u001b[1;33m,\u001b[0m \u001b[0mload_pulses\u001b[0m\u001b[1;33m=\u001b[0m\u001b[1;32mTrue\u001b[0m\u001b[1;33m,\u001b[0m \u001b[0mprogress\u001b[0m\u001b[1;33m=\u001b[0m\u001b[1;32mFalse\u001b[0m\u001b[1;33m)\u001b[0m\u001b[1;33m\u001b[0m\u001b[1;33m\u001b[0m\u001b[0m\n\u001b[0m\u001b[0;32m     55\u001b[0m             \u001b[0mdatai\u001b[0m\u001b[1;33m,\u001b[0m \u001b[0mdataq\u001b[0m \u001b[1;33m=\u001b[0m \u001b[0mrspec\u001b[0m\u001b[1;33m.\u001b[0m\u001b[0mcollect_shots\u001b[0m\u001b[1;33m(\u001b[0m\u001b[1;33m)\u001b[0m\u001b[1;33m\u001b[0m\u001b[1;33m\u001b[0m\u001b[0m\n\u001b[0;32m     56\u001b[0m             \u001b[0mavgi\u001b[0m \u001b[1;33m=\u001b[0m \u001b[0mnp\u001b[0m\u001b[1;33m.\u001b[0m\u001b[0maverage\u001b[0m\u001b[1;33m(\u001b[0m\u001b[0mdatai\u001b[0m\u001b[1;33m)\u001b[0m\u001b[1;33m\u001b[0m\u001b[1;33m\u001b[0m\u001b[0m\n",
      "\u001b[1;32ms:\\Connie\\experiments\\qram_tprocv1_expts\\experiments\\clifford_averager_program.py\u001b[0m in \u001b[0;36macquire\u001b[1;34m(self, soc, load_pulses, progress, save_experiments)\u001b[0m\n\u001b[0;32m   1556\u001b[0m             \u001b[0mself\u001b[0m\u001b[1;33m.\u001b[0m\u001b[0mcfg\u001b[0m\u001b[1;33m.\u001b[0m\u001b[0mexpt\u001b[0m\u001b[1;33m.\u001b[0m\u001b[0mn_trig\u001b[0m \u001b[1;33m=\u001b[0m \u001b[1;36m1\u001b[0m\u001b[1;33m\u001b[0m\u001b[1;33m\u001b[0m\u001b[0m\n\u001b[0;32m   1557\u001b[0m             \u001b[0mself\u001b[0m\u001b[1;33m.\u001b[0m\u001b[0mcfg\u001b[0m\u001b[1;33m.\u001b[0m\u001b[0mexpt\u001b[0m\u001b[1;33m.\u001b[0m\u001b[0mn_init_readout\u001b[0m \u001b[1;33m=\u001b[0m \u001b[1;36m0\u001b[0m\u001b[1;33m\u001b[0m\u001b[1;33m\u001b[0m\u001b[0m\n\u001b[1;32m-> 1558\u001b[1;33m         return super().acquire(\n\u001b[0m\u001b[0;32m   1559\u001b[0m             \u001b[0msoc\u001b[0m\u001b[1;33m,\u001b[0m\u001b[1;33m\u001b[0m\u001b[1;33m\u001b[0m\u001b[0m\n\u001b[0;32m   1560\u001b[0m             \u001b[0mload_pulses\u001b[0m\u001b[1;33m=\u001b[0m\u001b[0mload_pulses\u001b[0m\u001b[1;33m,\u001b[0m\u001b[1;33m\u001b[0m\u001b[1;33m\u001b[0m\u001b[0m\n",
      "\u001b[1;32m~\\AppData\\Roaming\\Python\\Python39\\site-packages\\qick\\averager_program.py\u001b[0m in \u001b[0;36macquire\u001b[1;34m(self, soc, threshold, angle, readouts_per_experiment, save_experiments, load_pulses, start_src, progress, remove_offset)\u001b[0m\n\u001b[0;32m    104\u001b[0m             \u001b[0mself\u001b[0m\u001b[1;33m.\u001b[0m\u001b[0mset_reads_per_shot\u001b[0m\u001b[1;33m(\u001b[0m\u001b[0mreadouts_per_experiment\u001b[0m\u001b[1;33m)\u001b[0m\u001b[1;33m\u001b[0m\u001b[1;33m\u001b[0m\u001b[0m\n\u001b[0;32m    105\u001b[0m \u001b[1;33m\u001b[0m\u001b[0m\n\u001b[1;32m--> 106\u001b[1;33m         \u001b[0mavg_d\u001b[0m \u001b[1;33m=\u001b[0m \u001b[0msuper\u001b[0m\u001b[1;33m(\u001b[0m\u001b[1;33m)\u001b[0m\u001b[1;33m.\u001b[0m\u001b[0macquire\u001b[0m\u001b[1;33m(\u001b[0m\u001b[0msoc\u001b[0m\u001b[1;33m,\u001b[0m \u001b[0msoft_avgs\u001b[0m\u001b[1;33m=\u001b[0m\u001b[0mself\u001b[0m\u001b[1;33m.\u001b[0m\u001b[0msoft_avgs\u001b[0m\u001b[1;33m,\u001b[0m \u001b[0mload_pulses\u001b[0m\u001b[1;33m=\u001b[0m\u001b[0mload_pulses\u001b[0m\u001b[1;33m,\u001b[0m \u001b[0mstart_src\u001b[0m\u001b[1;33m=\u001b[0m\u001b[0mstart_src\u001b[0m\u001b[1;33m,\u001b[0m \u001b[0mthreshold\u001b[0m\u001b[1;33m=\u001b[0m\u001b[0mthreshold\u001b[0m\u001b[1;33m,\u001b[0m \u001b[0mangle\u001b[0m\u001b[1;33m=\u001b[0m\u001b[0mangle\u001b[0m\u001b[1;33m,\u001b[0m \u001b[0mprogress\u001b[0m\u001b[1;33m=\u001b[0m\u001b[0mprogress\u001b[0m\u001b[1;33m,\u001b[0m \u001b[0mremove_offset\u001b[0m\u001b[1;33m=\u001b[0m\u001b[0mremove_offset\u001b[0m\u001b[1;33m)\u001b[0m\u001b[1;33m\u001b[0m\u001b[1;33m\u001b[0m\u001b[0m\n\u001b[0m\u001b[0;32m    107\u001b[0m \u001b[1;33m\u001b[0m\u001b[0m\n\u001b[0;32m    108\u001b[0m         \u001b[1;31m# reformat the data into separate I and Q arrays\u001b[0m\u001b[1;33m\u001b[0m\u001b[1;33m\u001b[0m\u001b[0m\n",
      "\u001b[1;32m~\\AppData\\Roaming\\Python\\Python39\\site-packages\\qick\\qick_asm.py\u001b[0m in \u001b[0;36macquire\u001b[1;34m(self, soc, soft_avgs, load_pulses, start_src, threshold, angle, progress, remove_offset)\u001b[0m\n\u001b[0;32m   1665\u001b[0m             \u001b[0mdimensions\u001b[0m \u001b[1;32mfor\u001b[0m \u001b[0ma\u001b[0m \u001b[0mprogram\u001b[0m \u001b[1;32mwith\u001b[0m \u001b[0mmultiple\u001b[0m \u001b[0mexpts\u001b[0m\u001b[1;33m/\u001b[0m\u001b[0msteps\u001b[0m\u001b[1;33m:\u001b[0m \u001b[1;33m(\u001b[0m\u001b[0mn_ch\u001b[0m\u001b[1;33m,\u001b[0m \u001b[0mn_reads\u001b[0m\u001b[1;33m,\u001b[0m \u001b[0mn_expts\u001b[0m\u001b[1;33m,\u001b[0m \u001b[1;36m2\u001b[0m\u001b[1;33m)\u001b[0m\u001b[1;33m\u001b[0m\u001b[1;33m\u001b[0m\u001b[0m\n\u001b[0;32m   1666\u001b[0m         \"\"\"\n\u001b[1;32m-> 1667\u001b[1;33m         \u001b[0mself\u001b[0m\u001b[1;33m.\u001b[0m\u001b[0mconfig_all\u001b[0m\u001b[1;33m(\u001b[0m\u001b[0msoc\u001b[0m\u001b[1;33m,\u001b[0m \u001b[0mload_pulses\u001b[0m\u001b[1;33m=\u001b[0m\u001b[0mload_pulses\u001b[0m\u001b[1;33m)\u001b[0m\u001b[1;33m\u001b[0m\u001b[1;33m\u001b[0m\u001b[0m\n\u001b[0m\u001b[0;32m   1668\u001b[0m \u001b[1;33m\u001b[0m\u001b[0m\n\u001b[0;32m   1669\u001b[0m         \u001b[1;32mif\u001b[0m \u001b[0many\u001b[0m\u001b[1;33m(\u001b[0m\u001b[1;33m[\u001b[0m\u001b[0mx\u001b[0m \u001b[1;32mis\u001b[0m \u001b[1;32mNone\u001b[0m \u001b[1;32mfor\u001b[0m \u001b[0mx\u001b[0m \u001b[1;32min\u001b[0m \u001b[1;33m[\u001b[0m\u001b[0mself\u001b[0m\u001b[1;33m.\u001b[0m\u001b[0mcounter_addr\u001b[0m\u001b[1;33m,\u001b[0m \u001b[0mself\u001b[0m\u001b[1;33m.\u001b[0m\u001b[0mloop_dims\u001b[0m\u001b[1;33m,\u001b[0m \u001b[0mself\u001b[0m\u001b[1;33m.\u001b[0m\u001b[0mavg_level\u001b[0m\u001b[1;33m]\u001b[0m\u001b[1;33m]\u001b[0m\u001b[1;33m)\u001b[0m\u001b[1;33m:\u001b[0m\u001b[1;33m\u001b[0m\u001b[1;33m\u001b[0m\u001b[0m\n",
      "\u001b[1;32m~\\AppData\\Roaming\\Python\\Python39\\site-packages\\qick\\qick_asm.py\u001b[0m in \u001b[0;36mconfig_all\u001b[1;34m(self, soc, load_pulses, reset)\u001b[0m\n\u001b[0;32m   1012\u001b[0m \u001b[1;33m\u001b[0m\u001b[0m\n\u001b[0;32m   1013\u001b[0m         \u001b[1;31m# set tproc to internal-start, to prevent spurious starts\u001b[0m\u001b[1;33m\u001b[0m\u001b[1;33m\u001b[0m\u001b[0m\n\u001b[1;32m-> 1014\u001b[1;33m         \u001b[0msoc\u001b[0m\u001b[1;33m.\u001b[0m\u001b[0mstart_src\u001b[0m\u001b[1;33m(\u001b[0m\u001b[1;34m\"internal\"\u001b[0m\u001b[1;33m)\u001b[0m\u001b[1;33m\u001b[0m\u001b[1;33m\u001b[0m\u001b[0m\n\u001b[0m\u001b[0;32m   1015\u001b[0m \u001b[1;33m\u001b[0m\u001b[0m\n\u001b[0;32m   1016\u001b[0m         \u001b[1;31m# now stop the tproc (if the tproc supports it)\u001b[0m\u001b[1;33m\u001b[0m\u001b[1;33m\u001b[0m\u001b[0m\n",
      "\u001b[1;32mc:\\ProgramData\\Anaconda3\\lib\\site-packages\\Pyro4\\core.py\u001b[0m in \u001b[0;36m__getattr__\u001b[1;34m(self, name)\u001b[0m\n\u001b[0;32m    273\u001b[0m             \u001b[1;31m# get metadata if it's not there yet\u001b[0m\u001b[1;33m\u001b[0m\u001b[1;33m\u001b[0m\u001b[0m\n\u001b[0;32m    274\u001b[0m             \u001b[1;32mif\u001b[0m \u001b[1;32mnot\u001b[0m \u001b[0mself\u001b[0m\u001b[1;33m.\u001b[0m\u001b[0m_pyroMethods\u001b[0m \u001b[1;32mand\u001b[0m \u001b[1;32mnot\u001b[0m \u001b[0mself\u001b[0m\u001b[1;33m.\u001b[0m\u001b[0m_pyroAttrs\u001b[0m\u001b[1;33m:\u001b[0m\u001b[1;33m\u001b[0m\u001b[1;33m\u001b[0m\u001b[0m\n\u001b[1;32m--> 275\u001b[1;33m                 \u001b[0mself\u001b[0m\u001b[1;33m.\u001b[0m\u001b[0m_pyroGetMetadata\u001b[0m\u001b[1;33m(\u001b[0m\u001b[1;33m)\u001b[0m\u001b[1;33m\u001b[0m\u001b[1;33m\u001b[0m\u001b[0m\n\u001b[0m\u001b[0;32m    276\u001b[0m         \u001b[1;32mif\u001b[0m \u001b[0mname\u001b[0m \u001b[1;32min\u001b[0m \u001b[0mself\u001b[0m\u001b[1;33m.\u001b[0m\u001b[0m_pyroAttrs\u001b[0m\u001b[1;33m:\u001b[0m\u001b[1;33m\u001b[0m\u001b[1;33m\u001b[0m\u001b[0m\n\u001b[0;32m    277\u001b[0m             \u001b[1;32mreturn\u001b[0m \u001b[0mself\u001b[0m\u001b[1;33m.\u001b[0m\u001b[0m_pyroInvoke\u001b[0m\u001b[1;33m(\u001b[0m\u001b[1;34m\"__getattr__\"\u001b[0m\u001b[1;33m,\u001b[0m \u001b[1;33m(\u001b[0m\u001b[0mname\u001b[0m\u001b[1;33m,\u001b[0m\u001b[1;33m)\u001b[0m\u001b[1;33m,\u001b[0m \u001b[1;32mNone\u001b[0m\u001b[1;33m)\u001b[0m\u001b[1;33m\u001b[0m\u001b[1;33m\u001b[0m\u001b[0m\n",
      "\u001b[1;32mc:\\ProgramData\\Anaconda3\\lib\\site-packages\\Pyro4\\core.py\u001b[0m in \u001b[0;36m_pyroGetMetadata\u001b[1;34m(self, objectId, known_metadata)\u001b[0m\n\u001b[0;32m    613\u001b[0m         \u001b[1;32mif\u001b[0m \u001b[0mself\u001b[0m\u001b[1;33m.\u001b[0m\u001b[0m_pyroConnection\u001b[0m \u001b[1;32mis\u001b[0m \u001b[1;32mNone\u001b[0m \u001b[1;32mand\u001b[0m \u001b[1;32mnot\u001b[0m \u001b[0mknown_metadata\u001b[0m\u001b[1;33m:\u001b[0m\u001b[1;33m\u001b[0m\u001b[1;33m\u001b[0m\u001b[0m\n\u001b[0;32m    614\u001b[0m             \u001b[1;32mtry\u001b[0m\u001b[1;33m:\u001b[0m\u001b[1;33m\u001b[0m\u001b[1;33m\u001b[0m\u001b[0m\n\u001b[1;32m--> 615\u001b[1;33m                 \u001b[0mself\u001b[0m\u001b[1;33m.\u001b[0m\u001b[0m__pyroCreateConnection\u001b[0m\u001b[1;33m(\u001b[0m\u001b[1;33m)\u001b[0m\u001b[1;33m\u001b[0m\u001b[1;33m\u001b[0m\u001b[0m\n\u001b[0m\u001b[0;32m    616\u001b[0m             \u001b[1;32mexcept\u001b[0m \u001b[0merrors\u001b[0m\u001b[1;33m.\u001b[0m\u001b[0mPyroError\u001b[0m\u001b[1;33m:\u001b[0m\u001b[1;33m\u001b[0m\u001b[1;33m\u001b[0m\u001b[0m\n\u001b[0;32m    617\u001b[0m                 \u001b[0mlog\u001b[0m\u001b[1;33m.\u001b[0m\u001b[0merror\u001b[0m\u001b[1;33m(\u001b[0m\u001b[1;34m\"problem getting metadata: cannot connect\"\u001b[0m\u001b[1;33m)\u001b[0m\u001b[1;33m\u001b[0m\u001b[1;33m\u001b[0m\u001b[0m\n",
      "\u001b[1;32mc:\\ProgramData\\Anaconda3\\lib\\site-packages\\Pyro4\\core.py\u001b[0m in \u001b[0;36m__pyroCreateConnection\u001b[1;34m(self, replaceUri, connected_socket)\u001b[0m\n\u001b[0;32m    594\u001b[0m                 \u001b[0mself\u001b[0m\u001b[1;33m.\u001b[0m\u001b[0m_pyroConnection\u001b[0m \u001b[1;33m=\u001b[0m \u001b[0msocketutil\u001b[0m\u001b[1;33m.\u001b[0m\u001b[0mSocketConnection\u001b[0m\u001b[1;33m(\u001b[0m\u001b[0mconnected_socket\u001b[0m\u001b[1;33m,\u001b[0m \u001b[0muri\u001b[0m\u001b[1;33m.\u001b[0m\u001b[0mobject\u001b[0m\u001b[1;33m,\u001b[0m \u001b[1;32mTrue\u001b[0m\u001b[1;33m)\u001b[0m\u001b[1;33m\u001b[0m\u001b[1;33m\u001b[0m\u001b[0m\n\u001b[0;32m    595\u001b[0m             \u001b[1;32melse\u001b[0m\u001b[1;33m:\u001b[0m\u001b[1;33m\u001b[0m\u001b[1;33m\u001b[0m\u001b[0m\n\u001b[1;32m--> 596\u001b[1;33m                 \u001b[0mconnect_and_handshake\u001b[0m\u001b[1;33m(\u001b[0m\u001b[0mconn\u001b[0m\u001b[1;33m)\u001b[0m\u001b[1;33m\u001b[0m\u001b[1;33m\u001b[0m\u001b[0m\n\u001b[0m\u001b[0;32m    597\u001b[0m             \u001b[1;32mif\u001b[0m \u001b[0mconfig\u001b[0m\u001b[1;33m.\u001b[0m\u001b[0mMETADATA\u001b[0m\u001b[1;33m:\u001b[0m\u001b[1;33m\u001b[0m\u001b[1;33m\u001b[0m\u001b[0m\n\u001b[0;32m    598\u001b[0m                 \u001b[1;31m# obtain metadata if this feature is enabled, and the metadata is not known yet\u001b[0m\u001b[1;33m\u001b[0m\u001b[1;33m\u001b[0m\u001b[0m\n",
      "\u001b[1;32mc:\\ProgramData\\Anaconda3\\lib\\site-packages\\Pyro4\\core.py\u001b[0m in \u001b[0;36mconnect_and_handshake\u001b[1;34m(conn)\u001b[0m\n\u001b[0;32m    509\u001b[0m                 \u001b[1;32melse\u001b[0m\u001b[1;33m:\u001b[0m\u001b[1;33m\u001b[0m\u001b[1;33m\u001b[0m\u001b[0m\n\u001b[0;32m    510\u001b[0m                     \u001b[0msslContext\u001b[0m \u001b[1;33m=\u001b[0m \u001b[1;32mNone\u001b[0m\u001b[1;33m\u001b[0m\u001b[1;33m\u001b[0m\u001b[0m\n\u001b[1;32m--> 511\u001b[1;33m                 sock = socketutil.createSocket(connect=connect_location,\n\u001b[0m\u001b[0;32m    512\u001b[0m                                                \u001b[0mreuseaddr\u001b[0m\u001b[1;33m=\u001b[0m\u001b[0mconfig\u001b[0m\u001b[1;33m.\u001b[0m\u001b[0mSOCK_REUSE\u001b[0m\u001b[1;33m,\u001b[0m\u001b[1;33m\u001b[0m\u001b[1;33m\u001b[0m\u001b[0m\n\u001b[0;32m    513\u001b[0m                                                \u001b[0mtimeout\u001b[0m\u001b[1;33m=\u001b[0m\u001b[0mself\u001b[0m\u001b[1;33m.\u001b[0m\u001b[0m__pyroTimeout\u001b[0m\u001b[1;33m,\u001b[0m\u001b[1;33m\u001b[0m\u001b[1;33m\u001b[0m\u001b[0m\n",
      "\u001b[1;32mc:\\ProgramData\\Anaconda3\\lib\\site-packages\\Pyro4\\socketutil.py\u001b[0m in \u001b[0;36mcreateSocket\u001b[1;34m(bind, connect, reuseaddr, keepalive, timeout, noinherit, ipv6, nodelay, sslContext)\u001b[0m\n\u001b[0;32m    305\u001b[0m     \u001b[1;32mif\u001b[0m \u001b[0mconnect\u001b[0m\u001b[1;33m:\u001b[0m\u001b[1;33m\u001b[0m\u001b[1;33m\u001b[0m\u001b[0m\n\u001b[0;32m    306\u001b[0m         \u001b[1;32mtry\u001b[0m\u001b[1;33m:\u001b[0m\u001b[1;33m\u001b[0m\u001b[1;33m\u001b[0m\u001b[0m\n\u001b[1;32m--> 307\u001b[1;33m             \u001b[0msock\u001b[0m\u001b[1;33m.\u001b[0m\u001b[0mconnect\u001b[0m\u001b[1;33m(\u001b[0m\u001b[0mconnect\u001b[0m\u001b[1;33m)\u001b[0m\u001b[1;33m\u001b[0m\u001b[1;33m\u001b[0m\u001b[0m\n\u001b[0m\u001b[0;32m    308\u001b[0m         \u001b[1;32mexcept\u001b[0m \u001b[0msocket\u001b[0m\u001b[1;33m.\u001b[0m\u001b[0merror\u001b[0m\u001b[1;33m:\u001b[0m\u001b[1;33m\u001b[0m\u001b[1;33m\u001b[0m\u001b[0m\n\u001b[0;32m    309\u001b[0m             \u001b[1;31m# This can happen when the socket is in non-blocking mode (or has a timeout configured).\u001b[0m\u001b[1;33m\u001b[0m\u001b[1;33m\u001b[0m\u001b[0m\n",
      "\u001b[1;31mKeyboardInterrupt\u001b[0m: "
     ]
    }
   ],
   "source": [
    "rspec = meas.ResonatorSpectroscopyExperiment(\n",
    "    soccfg=soc,\n",
    "    path=expt_path,\n",
    "    prefix=f\"resonator_spectroscopy_qubit{qubit_i}\",\n",
    "    config_file=config_path,\n",
    ")\n",
    "rspec.cfg = AttrDict(deepcopy(yaml_cfg))\n",
    "\n",
    "span = 1.0 # MHz\n",
    "npts = 150\n",
    "rspec.cfg.expt = dict(\n",
    "    start=rspec.cfg.device.readout.frequency[qubit_i]-span/2, # [MHz]\n",
    "    step=span/npts,\n",
    "    expts=npts,\n",
    "    reps=reps*rounds,\n",
    "    pulse_e=False, # add ge pi pulse prior to measurement\n",
    "    pulse_f=False, # add ef pi pulse prior to measurement\n",
    "    qTest=qubit_i,\n",
    "    qZZ=None,\n",
    ")\n",
    "# rspec.cfg.device.readout.gain[qubit_i] = 0.35\n",
    "rspec.cfg.device.readout.relax_delay = 25 # Wait time between experiments [us] - should be 5x resonator lifetime for good shape\n",
    "\n",
    "try:\n",
    "    rspec.go(analyze=False, display=False, progress=True, save=False)\n",
    "except Exception:\n",
    "    print(\"Pyro traceback:\")\n",
    "    print(\"\".join(Pyro4.util.getPyroTraceback()))"
   ]
  },
  {
   "cell_type": "code",
   "execution_count": 47,
   "metadata": {},
   "outputs": [
    {
     "name": "stdout",
     "output_type": "stream",
     "text": [
      "electrical delay phase correction (no mux support) (deg) 4.514788007176131\n",
      "[6810.001666666666, 34050.00833333333, 34050.00833333333, 0, -0.040375593327703616, 0]\n",
      "Attempted to init fitparam 5 to 0, which is out of bounds 0 to 1.0342543251427472. Instead init to 0.5171271625713736\n",
      "[6.80999801e+03 6.12791510e+04 4.19183054e+04 2.18493597e-01\n",
      " 6.05633900e-02 1.51682939e-02]\n",
      "\n",
      "Freq with minimum transmission: -389.995\n",
      "Freq with maximum transmission: -390.42833333333334\n",
      "From fit:\n",
      "\tf0: 6809.99800783839\n",
      "\tQi: 61279.151002210274 \t kappa_i/2pi: 0.11113074996082697\n",
      "\tQe: 41918.305415221614 \t kappa_e/2pi: 0.1624588098297863\n",
      "\tQ0: 24891.293414303884\n",
      "\tkappa [MHz]: 0.2735895597906132\n",
      "\tphi [radians]: 0.21849359706553254\n",
      "baseline 789.9108906327444\n",
      "*Set cfg res 0 freq to -389.98833333333334*\n",
      "*Set cfg res 0 gain to 0.3*\n",
      "qubit 0 {'T1': 64.05955000251987, 'T1 err': 1.119240285515182, 'T2R': 18.248886781332068, 'T2R err': 0.7816516069106116, 'Qubit freq': 4111.122260451728, 'T2E': 56.36959417286505, 'T2E err': 1.4283912853884384, 'Res freq': 6810.011666666666, 'Res freq (yaml)': -389.98833333333334, 'Res kappa': 0.2735895597906132}\n"
     ]
    }
   ],
   "source": [
    "# TESTING\n",
    "# # rspec = meas.ResonatorSpectroscopyExperiment(config_file=config_path,) \n",
    "# temp_data, attrs = prev_data(expt_path, '00001_resonator_spectroscopy_qubit2.h5')\n",
    "# rspec.data = temp_data\n",
    "\n",
    "rspec.data = rspec.analyze(fit=True)\n",
    "rspec_fit = rspec.data['fit']\n",
    "# if not isinstance(rspec_fit, (list, np.ndarray)):\n",
    "#     rspec.display(fit=False)\n",
    "#     assert False, 'Fit failed, please manually fix!'\n",
    "rspec.display(fit=True)\n",
    "# yaml_cfg.device.readout.frequency[qubit_i] = rspec_fit[0]\n",
    "\n",
    "res_freq_g = rspec.data['xpts'][np.argmin(rspec.data['amps'])]\n",
    "# res_freq_g = rspec.data['xpts'][np.argmax(rspec.data['amps'])]\n",
    "yaml_cfg.device.readout.frequency[qubit_i] = res_freq_g\n",
    "\n",
    "yaml_cfg.device.readout.gain[qubit_i] = rspec.cfg.device.readout.gain[qubit_i]\n",
    "print(f'*Set cfg res {qubit_i} freq to {yaml_cfg.device.readout.frequency[qubit_i]}*')\n",
    "print(f'*Set cfg res {qubit_i} gain to {yaml_cfg.device.readout.gain[qubit_i]}*')\n",
    "results_Qi.update({'Res freq':float(yaml_cfg.hw.lo.readout.frequency)*1e-6 + yaml_cfg.device.readout.lo_sideband[qubit_i]*(yaml_cfg.device.readout.frequency[qubit_i] + yaml_cfg.hw.soc.dacs.readout.mixer_freq[qubit_i])})\n",
    "results_Qi.update({'Res freq (yaml)':yaml_cfg.device.readout.frequency[qubit_i]})\n",
    "results_Qi.update({'Res kappa':abs(rspec_fit[0]*(1/rspec_fit[1] + 1/rspec_fit[2]))})\n",
    "print(f'qubit {qubit_i}', results_Qi)"
   ]
  },
  {
   "cell_type": "code",
   "execution_count": 135,
   "metadata": {},
   "outputs": [],
   "source": [
    "if save_data: saved_files.append(rspec.save_data())"
   ]
  },
  {
   "cell_type": "markdown",
   "metadata": {},
   "source": [
    "# Qubit ge spectroscopy"
   ]
  },
  {
   "cell_type": "markdown",
   "metadata": {},
   "source": [
    "## Pulse Probe (qubit) spectroscopy"
   ]
  },
  {
   "cell_type": "code",
   "execution_count": 16,
   "metadata": {},
   "outputs": [
    {
     "name": "stdout",
     "output_type": "stream",
     "text": [
      "Running pulse probe on Q3 \n"
     ]
    },
    {
     "data": {
      "application/vnd.jupyter.widget-view+json": {
       "model_id": "8affaff155284a8288ac0d1f356c51cc",
       "version_major": 2,
       "version_minor": 0
      },
      "text/plain": [
       "  0%|          | 0/10 [00:00<?, ?it/s]"
      ]
     },
     "metadata": {},
     "output_type": "display_data"
    }
   ],
   "source": [
    "qspec = meas.PulseProbeSpectroscopyExperiment(\n",
    "    soccfg=soc,\n",
    "    path=expt_path,\n",
    "    prefix=f\"qubit_spectroscopy_qubit{qubit_i}\",\n",
    "    config_file=config_path,\n",
    ")\n",
    "qspec.cfg = AttrDict(deepcopy(yaml_cfg))\n",
    "\n",
    "span = 50\n",
    "npts = 250\n",
    "\n",
    "qspec.cfg.expt = dict(\n",
    "    start=np.reshape(yaml_cfg.device.qubit.f_ge, (4,4))[qubit_i, qubit_i]-span/2, # [MHz]\n",
    "    step=span/npts,\n",
    "    expts=npts,\n",
    "    reps=reps, # Number of averages per point\n",
    "    rounds=rounds, # Number of start to finish sweeps to average over\n",
    "    length=1, # Qubit probe constant pulse length [us]\n",
    "    gain=int(np.reshape(yaml_cfg.device.qubit.pulses.pi_ge.gain, (4,4))[qubit_i, qubit_i]/10), # Qubit pulse gain\n",
    "    pulse_type='gauss',\n",
    "    qTest=qubit_i,\n",
    "    qZZ=None,\n",
    "    checkEF=False,\n",
    ")\n",
    "qspec.cfg.device.readout.relax_delay = 10 # Wait time between experiments [us]\n",
    "qspec.go(analyze=False, display=False, progress=True, save=False)"
   ]
  },
  {
   "cell_type": "code",
   "execution_count": 17,
   "metadata": {},
   "outputs": [
    {
     "name": "stdout",
     "output_type": "stream",
     "text": [
      "Found peak in amps at [MHz] 4380.96234875197, HWHM 2.023586589976097\n",
      "Found peak in I at [MHz] 4380.916145567329, HWHM 2.2553416752914712\n",
      "Found peak in Q at [MHz] 4381.035808362081, HWHM 1.8906706634981154\n",
      "best 0 0.03869489590432924\n",
      "*Set qubit 3 f_ge to 4380.96234875197*\n",
      "{'Res freq': 6971.132559436666, 'Res freq (yaml)': -228.86744056333333, 'Res kappa': 0.20429779230466372, 'Qubit freq': 4380.96234875197}\n"
     ]
    }
   ],
   "source": [
    "# # TESTING\n",
    "# # qspec = meas.PulseProbeSpectroscopyExperiment(config_file=config_path,)\n",
    "# temp_data, attrs = prev_data(expt_path, '00001_qubit_spectroscopy_qubit0.h5')\n",
    "# qspec.data = temp_data\n",
    "\n",
    "best_signs = [1, 0, 0]\n",
    "best_fit_err_i = np.inf\n",
    "best_fit_err_q = np.inf\n",
    "for sign in [1, -1]:\n",
    "    try: \n",
    "        qspec.analyze(fit=True, signs=[1, sign, sign])\n",
    "        fit_err_i = qspec.data['fit_err_avgi'][2][2]\n",
    "        fit_err_q = qspec.data['fit_err_avgq'][2][2]\n",
    "        if fit_err_i < best_fit_err_i:\n",
    "            best_signs[1] = sign\n",
    "            best_fit_err_i = fit_err_i\n",
    "        if fit_err_q < best_fit_err_q:\n",
    "            best_signs[2] = sign\n",
    "            best_fit_err_q = fit_err_q\n",
    "    except: continue\n",
    "if best_fit_err_i == np.inf and best_fit_err_q == np.inf:\n",
    "    qspec.display(fit=False)\n",
    "    assert False, 'Fit failed, please manually fix!'\n",
    "\n",
    "qspec.analyze(fit=True, signs=best_signs)\n",
    "qspec.display(fit=True, signs=best_signs)\n",
    "\n",
    "qspec_fit, qspec_fit_err = meas.fitting.get_best_fit(qspec.data)\n",
    "yaml_cfg.device.qubit.f_ge = np.reshape(yaml_cfg.device.qubit.f_ge, (4,4))\n",
    "yaml_cfg.device.qubit.f_ge[qubit_i, qubit_i] = qspec_fit[2]\n",
    "print(f'*Set qubit {qubit_i} f_ge to {yaml_cfg.device.qubit.f_ge[qubit_i, qubit_i]}*')\n",
    "results_Qi.update({'Qubit freq':yaml_cfg.device.qubit.f_ge[qubit_i, qubit_i] + yaml_cfg.hw.soc.dacs.qubit.mixer_freq[qubit_i]})\n",
    "yaml_cfg.device.qubit.f_ge = yaml_cfg.device.qubit.f_ge.flatten().tolist()\n",
    "print(results_Qi)"
   ]
  },
  {
   "cell_type": "code",
   "execution_count": 138,
   "metadata": {},
   "outputs": [],
   "source": [
    "if save_data: saved_files.append(qspec.save_data())"
   ]
  },
  {
   "cell_type": "markdown",
   "metadata": {},
   "source": [
    "## Pulse Probe (qubit) spectroscopy round 2"
   ]
  },
  {
   "cell_type": "code",
   "execution_count": 18,
   "metadata": {},
   "outputs": [
    {
     "name": "stdout",
     "output_type": "stream",
     "text": [
      "Running pulse probe on Q3 \n"
     ]
    },
    {
     "data": {
      "application/vnd.jupyter.widget-view+json": {
       "model_id": "c2af0130e7d44808a6bc5eb12b91b0a5",
       "version_major": 2,
       "version_minor": 0
      },
      "text/plain": [
       "  0%|          | 0/10 [00:00<?, ?it/s]"
      ]
     },
     "metadata": {},
     "output_type": "display_data"
    }
   ],
   "source": [
    "qspec2 = meas.PulseProbeSpectroscopyExperiment(\n",
    "    soccfg=soc,\n",
    "    path=expt_path,\n",
    "    prefix=f\"qubit_spectroscopy_qubit{qubit_i}\",\n",
    "    config_file=config_path,\n",
    ")\n",
    "qspec2.cfg = AttrDict(deepcopy(yaml_cfg))\n",
    "\n",
    "span = 15\n",
    "npts = 250\n",
    "\n",
    "qspec2.cfg.expt = dict(\n",
    "    start=np.reshape(qspec2.cfg.device.qubit.f_ge, (4,4))[qubit_i, qubit_i]-span/2, # [MHz]\n",
    "    step=span/npts,\n",
    "    expts=npts,\n",
    "    reps=reps, # Number of averages per point\n",
    "    rounds=rounds, # Number of start to finish sweeps to average over\n",
    "    length=1, # Qubit probe constant pulse length [us]\n",
    "    gain=int(np.reshape(yaml_cfg.device.qubit.pulses.pi_ge.gain, (4,4))[qubit_i, qubit_i]/80), # Qubit pulse gain\n",
    "    pulse_type='gauss',\n",
    "    qTest=qubit_i,\n",
    "    qZZ=None,\n",
    "    checkEF=False,\n",
    ")\n",
    "qspec2.cfg.device.readout.relax_delay = 10 # Wait time between experiments [us]\n",
    "qspec2.go(analyze=False, display=False, progress=True, save=False)"
   ]
  },
  {
   "cell_type": "code",
   "execution_count": 19,
   "metadata": {},
   "outputs": [
    {
     "name": "stdout",
     "output_type": "stream",
     "text": [
      "Found peak in amps at [MHz] 4380.914774648676, HWHM 1.3085694089383166\n",
      "Found peak in I at [MHz] 4380.868677035046, HWHM 1.4452405703563218\n",
      "Found peak in Q at [MHz] 4380.966700685872, HWHM 1.4103396452867274\n",
      "best 0 0.03263221728838213\n",
      "*Set qubit 3 f_ge to 4380.914774648676*\n",
      "{'Res freq': 6971.132559436666, 'Res freq (yaml)': -228.86744056333333, 'Res kappa': 0.20429779230466372, 'Qubit freq': 4380.914774648676}\n"
     ]
    }
   ],
   "source": [
    "# # TESTING\n",
    "# # qspec2 = meas.PulseProbeSpectroscopyExperiment(config_file=config_path,)\n",
    "# temp_data, attrs = prev_data(expt_path, '00001_qubit_spectroscopy_qubit0.h5')\n",
    "# qspec2.data = temp_data\n",
    "\n",
    "best_signs = [1, 0, 0]\n",
    "best_fit_err_i = np.inf\n",
    "best_fit_err_q = np.inf\n",
    "for sign in [1, -1]:\n",
    "    try: \n",
    "        qspec2.analyze(fit=True, signs=[1, sign, sign])\n",
    "        fit_err_amps = qspec2.data['fit_err_amps'][2][2]\n",
    "        fit_err_i = qspec2.data['fit_err_avgi'][2][2]\n",
    "        fit_err_q = qspec2.data['fit_err_avgq'][2][2]\n",
    "        if fit_err_i < best_fit_err_i:\n",
    "            best_signs[1] = sign\n",
    "            best_fit_err_i = fit_err_i\n",
    "        if fit_err_q < best_fit_err_q:\n",
    "            best_signs[2] = sign\n",
    "            best_fit_err_q = fit_err_q\n",
    "    except: continue\n",
    "if fit_err_amps == np.inf and best_fit_err_i == np.inf and best_fit_err_q == np.inf:\n",
    "    qspec2.display(fit=False)\n",
    "    assert False, 'Fit failed, please manually fix!'\n",
    "\n",
    "qspec2.analyze(fit=True, signs=best_signs)\n",
    "qspec2.display(fit=True, signs=best_signs)\n",
    "\n",
    "qspec2_fit, qspec2_fit_err = meas.fitting.get_best_fit(qspec2.data)\n",
    "yaml_cfg.device.qubit.f_ge = np.reshape(yaml_cfg.device.qubit.f_ge, (4,4))\n",
    "yaml_cfg.device.qubit.f_ge[qubit_i, qubit_i] = qspec2_fit[2]\n",
    "qubit_hwhm = qspec2_fit[3]\n",
    "print(f'*Set qubit {qubit_i} f_ge to {yaml_cfg.device.qubit.f_ge[qubit_i, qubit_i]}*')\n",
    "results_Qi.update({'Qubit freq':yaml_cfg.device.qubit.f_ge[qubit_i, qubit_i] + yaml_cfg.hw.soc.dacs.qubit.mixer_freq[qubit_i]})\n",
    "yaml_cfg.device.qubit.f_ge = yaml_cfg.device.qubit.f_ge.flatten().tolist()\n",
    "print(results_Qi)"
   ]
  },
  {
   "cell_type": "code",
   "execution_count": 141,
   "metadata": {},
   "outputs": [],
   "source": [
    "if save_data: saved_files.append(qspec2.save_data())"
   ]
  },
  {
   "cell_type": "markdown",
   "metadata": {},
   "source": [
    "## Length Rabi"
   ]
  },
  {
   "cell_type": "code",
   "execution_count": 78,
   "metadata": {},
   "outputs": [
    {
     "name": "stdout",
     "output_type": "stream",
     "text": [
      "Running length rabi on Q2 \n"
     ]
    },
    {
     "data": {
      "application/vnd.jupyter.widget-view+json": {
       "model_id": "1066d0fc96d545a99ef0a27e9a85b07e",
       "version_major": 2,
       "version_minor": 0
      },
      "text/plain": [
       "  0%|          | 0/121 [00:00<?, ?it/s]"
      ]
     },
     "metadata": {},
     "output_type": "display_data"
    }
   ],
   "source": [
    "lengthrabi = meas.LengthRabiExperiment(\n",
    "    soccfg=soc,\n",
    "    path=expt_path,\n",
    "    prefix=f\"length_rabi_qubit{qubit_i}\",\n",
    "    config_file=config_path,\n",
    ")\n",
    "lengthrabi.cfg = AttrDict(deepcopy(yaml_cfg))\n",
    "\n",
    "lengthrabi.cfg.expt = dict(\n",
    "    start=0, # pulse length (sigma) [us]\n",
    "    step=soc.cycles2us(1), # [us]\n",
    "    # step=0.001,\n",
    "    expts=121,\n",
    "    reps=reps*rounds,\n",
    "    pulse_type='gauss',\n",
    "    checkEF=False, \n",
    "    qTest=qubit_i,\n",
    "    qZZ=None,\n",
    ")\n",
    "# lengthrabi.cfg.device.readout.relax_delay = 50 # Wait time between experiments [us]\n",
    "# lengthrabi.pi_ge.gain[4*qubit_i+qubit_i] = 5000 # qubit gain [DAC units],\n",
    "\n",
    "try:\n",
    "    lengthrabi.go(analyze=False, display=False, progress=True, save=False)\n",
    "except Exception:\n",
    "    print(\"Pyro traceback:\")\n",
    "    print(\"\".join(Pyro4.util.getPyroTraceback()))"
   ]
  },
  {
   "cell_type": "code",
   "execution_count": 79,
   "metadata": {},
   "outputs": [
    {
     "name": "stdout",
     "output_type": "stream",
     "text": [
      "best 0 0.3211168491826572\n",
      "Pi length from avgi data [us]: 0.11257977810532821\n",
      "\tPi/2 length from avgi data [us]: 0.056289889052664105\n",
      "\n",
      "Pi length from avgq data [us]: 0.09888036150893775\n",
      "Pi/2 length from avgq data [us]: 0.049440180754468877\n"
     ]
    }
   ],
   "source": [
    "# # TESTING\n",
    "# # lengthrabi = meas.AmplitudeRabiExperiment(config_file=config_path,)\n",
    "# temp_data, attrs = prev_data(expt_path, '00000_amp_rabi_qubit0.h5')\n",
    "# lengthrabi.data = temp_data\n",
    "\n",
    "lengthrabi.analyze(fit=True)\n",
    "\n",
    "lengthrabi_fit, lengthrabi_fit_err = meas.fitting.get_best_fit(lengthrabi.data) #, fitfunc=fitter.decaysin)\n",
    "\n",
    "lengthrabi.display(fit=True)\n",
    "# p = lengthrabi_fit\n",
    "# if p[2] > 180: p[2] = p[2] - 360\n",
    "# elif p[2] < -180: p[2] = p[2] + 360\n",
    "# if p[2] < 0: pi_len = (1/2 - p[2]/180)/2/p[1]\n",
    "# else: pi_len = (3/2 - p[2]/180)/2/p[1]\n",
    "# pi_len = np.max((0.9*pi_len, 0.015)) # since we run the length rabi at a < max gain\n",
    "\n",
    "# lengthrabi_decay = p[3]\n",
    "\n",
    "# print(f'Will use sigma {pi_len} for amplitude rabi')"
   ]
  },
  {
   "cell_type": "code",
   "execution_count": null,
   "metadata": {},
   "outputs": [],
   "source": [
    "# if save_data: saved_files.append(lengthrabi.save_data())"
   ]
  },
  {
   "cell_type": "markdown",
   "metadata": {},
   "source": [
    "## Amplitude Rabi"
   ]
  },
  {
   "cell_type": "code",
   "execution_count": 20,
   "metadata": {},
   "outputs": [
    {
     "name": "stdout",
     "output_type": "stream",
     "text": [
      "qubit 3 pi_len 0.025\n"
     ]
    }
   ],
   "source": [
    "pi_len = np.reshape(yaml_cfg.device.qubit.pulses.pi_ge.sigma, (4,4))[qubit_i, qubit_i]\n",
    "# pi_len = 0.008\n",
    "print('qubit', qubit_i, 'pi_len', pi_len)"
   ]
  },
  {
   "cell_type": "code",
   "execution_count": 21,
   "metadata": {},
   "outputs": [
    {
     "name": "stdout",
     "output_type": "stream",
     "text": [
      "Running amp rabi on Q3 \n"
     ]
    },
    {
     "data": {
      "application/vnd.jupyter.widget-view+json": {
       "model_id": "14662434dadf44c19d951d0a23a6dfe8",
       "version_major": 2,
       "version_minor": 0
      },
      "text/plain": [
       "  0%|          | 0/10 [00:00<?, ?it/s]"
      ]
     },
     "metadata": {},
     "output_type": "display_data"
    }
   ],
   "source": [
    "amprabi = meas.AmplitudeRabiExperiment(\n",
    "    soccfg=soc,\n",
    "    path=expt_path,\n",
    "    prefix=f\"amp_rabi_qubit{qubit_i}\",\n",
    "    config_file=config_path,\n",
    ")\n",
    "amprabi.cfg = AttrDict(deepcopy(yaml_cfg))\n",
    "\n",
    "span = min((32000, int(1.5*np.reshape(yaml_cfg.device.qubit.pulses.pi_ge.gain, (4,4))[qubit_i, qubit_i])))\n",
    "# span = 32000\n",
    "npts = 151\n",
    "\n",
    "amprabi.cfg.expt = dict(\n",
    "    start=0, # qubit gain [dac level]\n",
    "    step=int(span/npts), # [dac level]\n",
    "    expts=npts,\n",
    "    reps=reps,\n",
    "    # reps=5,\n",
    "    rounds=rounds,\n",
    "    sigma_test=pi_len, # gaussian sigma for pulse length - overrides config [us]\n",
    "    pulse_type='gauss',\n",
    "    checkEF=False, \n",
    "    qTest=qubit_i,\n",
    "    qZZ=None,\n",
    ")\n",
    "amprabi.go(analyze=False, display=False, progress=True, save=False)"
   ]
  },
  {
   "cell_type": "code",
   "execution_count": 22,
   "metadata": {},
   "outputs": [
    {
     "name": "stdout",
     "output_type": "stream",
     "text": [
      "best 0 0.0192902033969743\n",
      "Pi gain from amps data [dac units]: 922\n",
      "\tPi/2 gain from amps data [dac units]: 461\n",
      "Pi gain from avgi data [dac units]: 926\n",
      "\tPi/2 gain from avgi data [dac units]: 463\n",
      "Pi gain from avgq data [dac units]: 918\n",
      "\tPi/2 gain from avgq data [dac units]: 459\n",
      "*Set pi pulse sigma for qubit 3 to 0.025*\n",
      "*Set pi pulse gain for qubit 3 to 922*\n",
      "*New pi_ge.gain\n",
      " [[ 1849  1914     0  1855]\n",
      " [ 2834  2504  2648  2631]\n",
      " [14489 14572 14736 14639]\n",
      " [  963   959   974   922]]\n",
      "*New pi_ge.gain flattened\n",
      "[1849, 1914, 0, 1855, 2834, 2504, 2648, 2631, 14489, 14572, 14736, 14639, 963, 959, 974, 922]\n",
      "{'Res freq': 6971.132559436666, 'Res freq (yaml)': -228.86744056333333, 'Res kappa': 0.20429779230466372, 'Qubit freq': 4380.914774648676, 'Pi pulse gain': 922}\n"
     ]
    }
   ],
   "source": [
    "# # TESTING\n",
    "# # amprabi = meas.AmplitudeRabiExperiment(config_file=config_path,)\n",
    "# temp_data, attrs = prev_data(expt_path, '00000_amp_rabi_qubit0.h5')\n",
    "# amprabi.data = temp_data\n",
    "\n",
    "# amprabi.display(fit=False)\n",
    "\n",
    "amprabi.analyze(fit=True)\n",
    "\n",
    "amprabi_fit, amprabi_fit_err = meas.fitting.get_best_fit(amprabi.data)\n",
    "\n",
    "p = amprabi_fit\n",
    "if p[2] > 180: p[2] = p[2] - 360\n",
    "elif p[2] < -180: p[2] = p[2] + 360\n",
    "if p[2] < 0: pi_gain = (1/2 - p[2]/180)/2/p[1]\n",
    "else: pi_gain = (3/2 - p[2]/180)/2/p[1]\n",
    "\n",
    "if pi_gain > 32000:\n",
    "    amprabi.display(fit=False)\n",
    "    print(f'WARNING: Fit pi pulse gain is long ({pi_gain}), please double check!')\n",
    "    pi_gain = 30000\n",
    "else: amprabi.display(fit=True)\n",
    "yaml_cfg.device.qubit.pulses.pi_ge.sigma[qubit_i] = amprabi.cfg.expt.sigma_test\n",
    "\n",
    "print(f'*Set pi pulse sigma for qubit {qubit_i} to {np.reshape(yaml_cfg.device.qubit.pulses.pi_ge.sigma, (4,4))[qubit_i, qubit_i]}*')\n",
    "yaml_cfg.device.qubit.pulses.pi_ge.gain = np.reshape(yaml_cfg.device.qubit.pulses.pi_ge.gain, (4,4))\n",
    "yaml_cfg.device.qubit.pulses.pi_ge.gain[qubit_i, qubit_i] = int(pi_gain)\n",
    "print(f'*Set pi pulse gain for qubit {qubit_i} to {yaml_cfg.device.qubit.pulses.pi_ge.gain[qubit_i, qubit_i]}*')\n",
    "results_Qi.update({'Pi pulse gain':yaml_cfg.device.qubit.pulses.pi_ge.gain[qubit_i, qubit_i]})\n",
    "print(f'*New pi_ge.gain\\n', yaml_cfg.device.qubit.pulses.pi_ge.gain)\n",
    "yaml_cfg.device.qubit.pulses.pi_ge.gain = yaml_cfg.device.qubit.pulses.pi_ge.gain.flatten().astype(int).tolist()\n",
    "print(f'*New pi_ge.gain flattened\\n{yaml_cfg.device.qubit.pulses.pi_ge.gain}')\n",
    "print(results_Qi)"
   ]
  },
  {
   "cell_type": "code",
   "execution_count": 26,
   "metadata": {},
   "outputs": [],
   "source": [
    "if save_data: saved_files.append(amprabi.save_data())"
   ]
  },
  {
   "cell_type": "markdown",
   "metadata": {},
   "source": [
    "## $T_1$"
   ]
  },
  {
   "cell_type": "code",
   "execution_count": 18,
   "metadata": {},
   "outputs": [],
   "source": [
    "short_T1 = False\n",
    "# short_T1 = True"
   ]
  },
  {
   "cell_type": "code",
   "execution_count": 19,
   "metadata": {},
   "outputs": [
    {
     "data": {
      "application/vnd.jupyter.widget-view+json": {
       "model_id": "3320a39a5b1a4df39f701d0d9b30d9c6",
       "version_major": 2,
       "version_minor": 0
      },
      "text/plain": [
       "  0%|          | 0/10 [00:00<?, ?it/s]"
      ]
     },
     "metadata": {},
     "output_type": "display_data"
    }
   ],
   "source": [
    "t1 = meas.T1Experiment(\n",
    "    soccfg=soc,\n",
    "    path=expt_path,\n",
    "    prefix=f\"t1_qubit{qubit_i}\",\n",
    "    config_file=config_path,\n",
    ")\n",
    "t1.cfg = AttrDict(deepcopy(yaml_cfg))\n",
    "\n",
    "span = 50 if short_T1 else 400\n",
    "npts = 151\n",
    "\n",
    "t1.cfg.expt = dict(\n",
    "    start=0, # wait time [us]\n",
    "    step=span/npts,\n",
    "    expts=npts,\n",
    "    reps=reps,\n",
    "    # reps=5,\n",
    "    rounds=rounds,\n",
    "    qTest=qubit_i,\n",
    ")\n",
    "t1.cfg.device.readout.relax_delay = span # Wait time between experiments [us]\n",
    "t1.go(analyze=False, display=False, progress=True, save=False)"
   ]
  },
  {
   "cell_type": "code",
   "execution_count": 20,
   "metadata": {},
   "outputs": [
    {
     "name": "stdout",
     "output_type": "stream",
     "text": [
      "best 0 87137.91192366534\n",
      "Fit T1 amps [us]: 64.05955000251987\n",
      "Fit T1 avgi [us]: 63.89865426749213\n",
      "Fit T1 avgq [us]: 67.81473166501338\n",
      "*Set readout 0 relax delay to 256.0*\n",
      "qubit 0 {'T1': 64.05955000251987, 'T1 err': 1.119240285515182}\n"
     ]
    }
   ],
   "source": [
    "# # TESTING\n",
    "# # t1 = meas.T1Experiment(config_file=config_path,)\n",
    "# temp_data, attrs = prev_data(expt_path, '00000_t1_qubit1.h5')\n",
    "# t1.data = temp_data\n",
    "\n",
    "t1.analyze(fit_log=False)\n",
    "\n",
    "t1_fit, t1_fit_err = meas.fitting.get_best_fit(t1.data) #, fitter.expfunc)\n",
    "\n",
    "t1.display(fit=True, fit_log=False)\n",
    "t1_qubit = t1_fit[3]\n",
    "yaml_cfg.device.readout.relax_delay[qubit_i] = np.round(4*t1_qubit)\n",
    "print(f'*Set readout {qubit_i} relax delay to {yaml_cfg.device.readout.relax_delay[qubit_i]}*')\n",
    "results_Qi.update({'T1':t1_qubit, 'T1 err':np.sqrt(t1_fit_err[3][3])})\n",
    "print(f'qubit {qubit_i}', results_Qi)"
   ]
  },
  {
   "cell_type": "code",
   "execution_count": 30,
   "metadata": {},
   "outputs": [],
   "source": [
    "if save_data: saved_files.append(t1.save_data())"
   ]
  },
  {
   "cell_type": "markdown",
   "metadata": {},
   "source": [
    "## $T_2$ Ramsey round 1"
   ]
  },
  {
   "cell_type": "code",
   "execution_count": 22,
   "metadata": {},
   "outputs": [
    {
     "name": "stdout",
     "output_type": "stream",
     "text": [
      "Short T1 False\n"
     ]
    }
   ],
   "source": [
    "# yaml_cfg.device.qubit.f_ge[qubit_i] = 145.572034953271\n",
    "qubit_hwhm = 2\n",
    "short_T1 = False\n",
    "# short_T1 = t1_qubit < 20\n",
    "print('Short T1', short_T1)"
   ]
  },
  {
   "cell_type": "code",
   "execution_count": 23,
   "metadata": {},
   "outputs": [
    {
     "name": "stdout",
     "output_type": "stream",
     "text": [
      "Ramsey freq [MHz]: 3.0\n"
     ]
    }
   ],
   "source": [
    "# ramsey_freq = max((min((np.abs(np.ceil(qubit_hwhm)), 3)), 2))\n",
    "ramsey_freq = 3.0\n",
    "print(f'Ramsey freq [MHz]: {ramsey_freq}')"
   ]
  },
  {
   "cell_type": "code",
   "execution_count": 47,
   "metadata": {},
   "outputs": [
    {
     "name": "stdout",
     "output_type": "stream",
     "text": [
      "Running Ramsey on Q3 \n"
     ]
    },
    {
     "data": {
      "application/vnd.jupyter.widget-view+json": {
       "model_id": "0ddc20bcdb674901bc292de69c861201",
       "version_major": 2,
       "version_minor": 0
      },
      "text/plain": [
       "  0%|          | 0/10 [00:00<?, ?it/s]"
      ]
     },
     "metadata": {},
     "output_type": "display_data"
    }
   ],
   "source": [
    "t2r = meas.RamseyExperiment(\n",
    "    soccfg=soc,\n",
    "    path=expt_path,\n",
    "    prefix=f\"ramsey_qubit{qubit_i}\",\n",
    "    config_file=config_path,\n",
    ")\n",
    "t2r.cfg = AttrDict(deepcopy(yaml_cfg))\n",
    "\n",
    "# make sure nyquist freq = 0.5 * (1/step) > ramsey (signal) freq!\n",
    "t2r.cfg.expt = dict(\n",
    "    start=0, # wait time tau [us]\n",
    "    step=soc.cycles2us(8), # [us] \n",
    "    # step=soc.cycles2us(2) if short_T1 else soc.cycles2us(10), # [us] \n",
    "    expts=200,\n",
    "    ramsey_freq=ramsey_freq, # [MHz]\n",
    "    reps=reps,\n",
    "    rounds=rounds,\n",
    "    qTest=qubit_i,\n",
    "    checkEF=False,\n",
    "    qZZ=None,\n",
    ")\n",
    "\n",
    "try:\n",
    "    t2r.go(analyze=False, display=False, progress=True, save=False)\n",
    "except Exception:\n",
    "    print(\"Pyro traceback:\")\n",
    "    print(\"\".join(Pyro4.util.getPyroTraceback()))"
   ]
  },
  {
   "cell_type": "code",
   "execution_count": 48,
   "metadata": {},
   "outputs": [
    {
     "name": "stdout",
     "output_type": "stream",
     "text": [
      "best 2 0.16094416308389553\n",
      "Current pi pulse frequency: 4381.109690194443\n",
      "Fit frequency from amps [MHz]: 2.861461310562222 +/- 0.0011404971287289753\n",
      "Suggested new pi pulse frequencies from fit amps [MHz]:\n",
      " \t4381.248228883881\n",
      " \t4375.248228883881\n",
      "T2 Ramsey from fit amps [us]: 131.97584319472566 +/- 121.61634931104933\n",
      "Current pi pulse frequency: 4381.109690194443\n",
      "Fit frequency from I [MHz]: 2.8613857461966417 +/- 0.0013560715434727108\n",
      "Suggested new pi pulse frequency from fit I [MHz]:\n",
      " \t4381.248304448246\n",
      " \t4375.248304448246\n",
      "T2 Ramsey from fit I [us]: 155.7706716677572 +/- 201.45612385054767\n",
      "Fit frequency from Q [MHz]: 2.861569174279695 +/- 0.0011365476659057404\n",
      "Suggested new pi pulse frequencies from fit Q [MHz]:\n",
      " \t4381.248121020163\n",
      " \t4375.248121020163\n",
      "T2 Ramsey from fit Q [us]: 111.89095968983096 +/- 87.10574225600891\n",
      "*Set qubit 3 freq to 4381.248121020163*\n",
      "Alt qubit freq is 4375.248121020163\n",
      "*New f_ge\n",
      " [[4111.09786656 4105.86759268 4110.99468893 4110.57936984]\n",
      " [3443.48234924 3448.14025623 3447.70682317 3447.50520858]\n",
      " [4762.74358075 4761.74571001 4762.90947354 4762.37078647]\n",
      " [4380.29246127 4379.53510391 4380.32826747 4381.24812102]]\n",
      "*New f_ge flattened\n",
      "[4111.097866562327, 4105.867592682015, 4110.994688934281, 4110.579369837695, 3443.482349236793, 3448.1402562265434, 3447.706823169816, 3447.5052085761054, 4762.743580751455, 4761.745710010409, 4762.909473544484, 4762.370786469688, 4380.292461267258, 4379.535103914169, 4380.328267473819, 4381.248121020163]\n"
     ]
    }
   ],
   "source": [
    "# # TESTING\n",
    "# # t2r = meas.RamseyExperiment(config_file=config_path)\n",
    "# temp_data, attrs = prev_data(expt_path, '00000_ramsey_qubit2.h5')\n",
    "# t2r.data = temp_data\n",
    "\n",
    "# t2r.analyze(fit=True, fit_num_sin=2)\n",
    "# t2r.display(fit=True, fit_num_sin=2)\n",
    "\n",
    "t2r.analyze(fit=True)\n",
    "t2r_fit, t2r_fit_err, t2r_adjust = meas.fitting.get_best_fit(t2r.data, get_best_data_params=['f_adjust_ramsey'])\n",
    "\n",
    "old_qubit_freq = np.reshape(t2r.cfg.device.qubit.f_ge, (4,4))[qubit_i, qubit_i]\n",
    "t2r.display(fit=True)\n",
    "yaml_cfg.device.qubit.f_ge = np.reshape(yaml_cfg.device.qubit.f_ge, (4,4))\n",
    "yaml_cfg.device.qubit.f_ge[qubit_i, qubit_i] = old_qubit_freq + t2r_adjust[0]\n",
    "alt_qubit_freq = old_qubit_freq + t2r_adjust[1]\n",
    "results_Qi.update({'T2R':t2r_fit[3], 'T2R err':np.sqrt(t2r_fit_err[3][3])})\n",
    "results_Qi.update({'Qubit freq':yaml_cfg.device.qubit.f_ge[qubit_i, qubit_i] + yaml_cfg.hw.soc.dacs.qubit.mixer_freq[qubit_i]})\n",
    "print(f'*Set qubit {qubit_i} freq to {yaml_cfg.device.qubit.f_ge[qubit_i, qubit_i]}*')\n",
    "print(f'Alt qubit freq is {alt_qubit_freq}')\n",
    "\n",
    "print(f'*New f_ge\\n', yaml_cfg.device.qubit.f_ge)\n",
    "yaml_cfg.device.qubit.f_ge = yaml_cfg.device.qubit.f_ge.flatten().tolist()\n",
    "print(f'*New f_ge flattened\\n{yaml_cfg.device.qubit.f_ge}')\n",
    "\n",
    "data = t2r.data\n",
    "fit_axis = 'avgq'\n",
    "xpts = data['xpts']\n",
    "fourier = np.fft.fftshift(np.abs(np.fft.fft(data[fit_axis])))\n",
    "freqs = np.fft.fftshift(np.fft.fftfreq(len(fourier), d=(xpts[1]-xpts[0])))\n",
    "plt.plot(freqs, fourier)\n",
    "ZZs = np.zeros((4,4))\n",
    "reshaped_f_ge = np.reshape(t2r.cfg.device.qubit.f_ge, (4,4))\n",
    "for row in range(4):\n",
    "    ZZs[row,:] = reshaped_f_ge[row,:] - reshaped_f_ge[row,row]\n",
    "for i in range(4):\n",
    "    if (qubit_i+i)%4 == qubit_i: color = 'r'\n",
    "    else: color = 'k'\n",
    "    plt.axvline(t2r.cfg.expt.ramsey_freq - ZZs[qubit_i, (qubit_i+i)%4], color=color, linewidth=0.5, linestyle='--')\n",
    "plt.xlabel('Frequency [MHz]')\n",
    "plt.xlim(-6, 6)\n",
    "# plt.ylim(0, 20000)\n",
    "plt.title(f'Fourier Transform of Ramsey on Q{qubit_i} (Ramsey Freq: {t2r.cfg.expt.ramsey_freq})')\n",
    "plt.show()"
   ]
  },
  {
   "cell_type": "code",
   "execution_count": null,
   "metadata": {},
   "outputs": [],
   "source": [
    "if save_data: saved_files.append(t2r.save_data())"
   ]
  },
  {
   "cell_type": "markdown",
   "metadata": {},
   "source": [
    "## Amplitude Rabi round 2"
   ]
  },
  {
   "cell_type": "code",
   "execution_count": 21,
   "metadata": {},
   "outputs": [
    {
     "name": "stdout",
     "output_type": "stream",
     "text": [
      "qubit 3 pi_len 0.025\n"
     ]
    }
   ],
   "source": [
    "pi_len = np.reshape(yaml_cfg.device.qubit.pulses.pi_ge.sigma, (4,4))[qubit_i, qubit_i]\n",
    "print('qubit', qubit_i, 'pi_len', pi_len)\n",
    "# pi_len = 0.025"
   ]
  },
  {
   "cell_type": "code",
   "execution_count": 22,
   "metadata": {},
   "outputs": [
    {
     "name": "stdout",
     "output_type": "stream",
     "text": [
      "Running amp rabi on Q3 \n"
     ]
    },
    {
     "data": {
      "application/vnd.jupyter.widget-view+json": {
       "model_id": "c9a3744b929e48fc801d5f1c8e90341c",
       "version_major": 2,
       "version_minor": 0
      },
      "text/plain": [
       "  0%|          | 0/10 [00:00<?, ?it/s]"
      ]
     },
     "metadata": {},
     "output_type": "display_data"
    }
   ],
   "source": [
    "amprabi_2 = meas.AmplitudeRabiExperiment(\n",
    "    soccfg=soc,\n",
    "    path=expt_path,\n",
    "    prefix=f\"amp_rabi_qubit{qubit_i}\",\n",
    "    config_file=config_path,\n",
    ")\n",
    "amprabi_2.cfg = AttrDict(deepcopy(yaml_cfg))\n",
    "\n",
    "n_pulses = 1\n",
    "span = min((32000, int(1.5*np.reshape(yaml_cfg.device.qubit.pulses.pi_ge.gain, (4,4))[qubit_i, qubit_i])))\n",
    "npts = 151\n",
    "    \n",
    "amprabi_2.cfg.expt = dict(\n",
    "    start=0, # qubit gain [dac level]\n",
    "    step=int(span/npts), # [dac level]\n",
    "    expts=npts,\n",
    "    reps=reps,\n",
    "    # reps=5,\n",
    "    rounds=rounds,\n",
    "    sigma_test=pi_len, # gaussian sigma for pulse length - overrides config [us]\n",
    "    pulse_type='gauss',\n",
    "    checkEF=False, \n",
    "    n_pulses=n_pulses,\n",
    "    qTest=qubit_i,\n",
    "    qZZ=None,\n",
    ")\n",
    "amprabi_2.go(analyze=False, display=False, progress=True, save=False)"
   ]
  },
  {
   "cell_type": "code",
   "execution_count": 23,
   "metadata": {},
   "outputs": [
    {
     "name": "stdout",
     "output_type": "stream",
     "text": [
      "best 0 0.022292039093864034\n",
      "Pi gain from amps data [dac units]: 935\n",
      "\tPi/2 gain from amps data [dac units]: 467\n",
      "Pi gain from avgi data [dac units]: 935\n",
      "\tPi/2 gain from avgi data [dac units]: 467\n",
      "Pi gain from avgq data [dac units]: 936\n",
      "\tPi/2 gain from avgq data [dac units]: 468\n",
      "*Set pi pulse sigma for qubit 3 to 0.025*\n",
      "*Set pi pulse gain for qubit 3 to 935*\n",
      "*New pi_ge.gain\n",
      " [[ 1849  1914     0  1855]\n",
      " [ 2834  2504  2648  2631]\n",
      " [14489 14572 14736 14639]\n",
      " [  963   959   974   935]]\n",
      "*New pi_ge.gain flattened\n",
      "[1849, 1914, 0, 1855, 2834, 2504, 2648, 2631, 14489, 14572, 14736, 14639, 963, 959, 974, 935]\n",
      "{'T1': 52.3580045090926, 'T1 err': 1.6646251872930162, 'T2R': 28.080322737694868, 'T2R err': 10.12437756373936, 'Qubit freq': 4381.110012654556, 'Pi pulse gain': 935}\n"
     ]
    }
   ],
   "source": [
    "# # TESTING\n",
    "# # amprabi_2 = meas.AmplitudeRabiExperiment(config_file=config_path,)\n",
    "# temp_data, attrs = prev_data(expt_path, '00000_amp_rabi_qubit0.h5')\n",
    "# amprabi_2.data = temp_data\n",
    "\n",
    "amprabi_2.analyze(fit=True)\n",
    "\n",
    "amprabi_2_fit, amprabi_2_fit_err = meas.fitting.get_best_fit(amprabi_2.data)\n",
    "\n",
    "p = amprabi_2_fit\n",
    "if p[2] > 180: p[2] = p[2] - 360\n",
    "elif p[2] < -180: p[2] = p[2] + 360\n",
    "if p[2] < 0: pi_gain = (1/2 - p[2]/180)/2/p[1]\n",
    "else: pi_gain = (3/2 - p[2]/180)/2/p[1]\n",
    "\n",
    "if pi_gain > 32000:\n",
    "    amprabi_2.display(fit=False)\n",
    "    print(f'WARNING: Fit pi pulse gain is long ({pi_gain}), please double check!')\n",
    "    pi_gain = 30000\n",
    "else: amprabi_2.display(fit=True)\n",
    "yaml_cfg.device.qubit.pulses.pi_ge.sigma[qubit_i] = amprabi_2.cfg.expt.sigma_test\n",
    "\n",
    "print(f'*Set pi pulse sigma for qubit {qubit_i} to {np.reshape(yaml_cfg.device.qubit.pulses.pi_ge.sigma, (4,4))[qubit_i, qubit_i]}*')\n",
    "yaml_cfg.device.qubit.pulses.pi_ge.gain = np.reshape(yaml_cfg.device.qubit.pulses.pi_ge.gain, (4,4))\n",
    "yaml_cfg.device.qubit.pulses.pi_ge.gain[qubit_i, qubit_i] = int(pi_gain)\n",
    "print(f'*Set pi pulse gain for qubit {qubit_i} to {yaml_cfg.device.qubit.pulses.pi_ge.gain[qubit_i, qubit_i]}*')\n",
    "results_Qi.update({'Pi pulse gain':yaml_cfg.device.qubit.pulses.pi_ge.gain[qubit_i, qubit_i]})\n",
    "print(f'*New pi_ge.gain\\n', yaml_cfg.device.qubit.pulses.pi_ge.gain)\n",
    "yaml_cfg.device.qubit.pulses.pi_ge.gain = yaml_cfg.device.qubit.pulses.pi_ge.gain.flatten().tolist()\n",
    "print(f'*New pi_ge.gain flattened\\n{yaml_cfg.device.qubit.pulses.pi_ge.gain}')\n",
    "print(results_Qi)"
   ]
  },
  {
   "cell_type": "code",
   "execution_count": 38,
   "metadata": {},
   "outputs": [],
   "source": [
    "if save_data: saved_files.append(amprabi_2.save_data())"
   ]
  },
  {
   "cell_type": "markdown",
   "metadata": {},
   "source": [
    "## $T_2$ Ramsey round 2\n",
    "\n",
    "Check that frequency adjustment helps."
   ]
  },
  {
   "cell_type": "code",
   "execution_count": 24,
   "metadata": {},
   "outputs": [
    {
     "name": "stdout",
     "output_type": "stream",
     "text": [
      "Running Ramsey on Q0 \n"
     ]
    },
    {
     "data": {
      "application/vnd.jupyter.widget-view+json": {
       "model_id": "1e6eb9cf5d1e41dead3d5607ac2c7515",
       "version_major": 2,
       "version_minor": 0
      },
      "text/plain": [
       "  0%|          | 0/10 [00:00<?, ?it/s]"
      ]
     },
     "metadata": {},
     "output_type": "display_data"
    }
   ],
   "source": [
    "t2r_2 = meas.RamseyExperiment(\n",
    "    soccfg=soc,\n",
    "    path=expt_path,\n",
    "    prefix=f\"ramsey_qubit{qubit_i}\",\n",
    "    config_file=config_path,\n",
    ")\n",
    "t2r_2.cfg = AttrDict(deepcopy(yaml_cfg))\n",
    "\n",
    "# make sure nyquist freq = 0.5 * (1/step) > ramsey (signal) freq!\n",
    "t2r_2.cfg.expt = dict(\n",
    "    start=0, # wait time tau [us]\n",
    "    # step=soc.cycles2us(2) if t2r_fit[3] < 3 else soc.cycles2us(60), # [us]\n",
    "    step=soc.cycles2us(150), # [us]\n",
    "    expts=151,\n",
    "    ramsey_freq=ramsey_freq/15, # [MHz]\n",
    "    reps=reps,\n",
    "    rounds=rounds,\n",
    "    checkEF=False,\n",
    "    qTest=qubit_i,\n",
    "    qZZ=None,\n",
    ")\n",
    "t2r_2.go(analyze=False, display=False, progress=True, save=False)"
   ]
  },
  {
   "cell_type": "code",
   "execution_count": 25,
   "metadata": {},
   "outputs": [
    {
     "name": "stdout",
     "output_type": "stream",
     "text": [
      "best 0 0.019250470922717262\n",
      "Current pi pulse frequency: 4111.097866562327\n",
      "Fit frequency from amps [MHz]: 0.17560611059867962 +/- 0.00038858978449964423\n",
      "Suggested new pi pulse frequencies from fit amps [MHz]:\n",
      " \t4111.122260451728\n",
      " \t4110.722260451728\n",
      "T2 Ramsey from fit amps [us]: 18.248886781332068 +/- 0.7816516069106116\n",
      "Current pi pulse frequency: 4111.097866562327\n",
      "Fit frequency from I [MHz]: 0.17568591774592934 +/- 0.0003953285280865125\n",
      "Suggested new pi pulse frequency from fit I [MHz]:\n",
      " \t4111.122180644581\n",
      " \t4110.722180644581\n",
      "T2 Ramsey from fit I [us]: 18.343416214281802 +/- 0.8035655996450813\n",
      "Fit frequency from Q [MHz]: 0.17545145075074256 +/- 0.0004213239201256598\n",
      "Suggested new pi pulse frequencies from fit Q [MHz]:\n",
      " \t4111.122415111577\n",
      " \t4110.722415111576\n",
      "T2 Ramsey from fit Q [us]: 18.073634420278175 +/- 0.8311861163542094\n",
      "*Set qubit 0 freq to 4111.122260451728*\n",
      "{'T1': 64.05955000251987, 'T1 err': 1.119240285515182, 'T2R': 18.248886781332068, 'T2R err': 0.7816516069106116, 'Qubit freq': 4111.122260451728}\n",
      "*New f_ge\n",
      " [[4111.12226045 4105.83890476 4110.9581533  4110.54640785]\n",
      " [3442.87557211 3448.14025623 3447.06031732 3446.49297928]\n",
      " [4762.76150413 4761.82356724 4762.90947354 4762.36981342]\n",
      " [4380.69860456 4379.60486812 4380.71783711 4381.24812102]]\n",
      "*New f_ge flattened\n",
      "[4111.122260451728, 4105.838904759637, 4110.958153299016, 4110.546407850519, 3442.8755721075536, 3448.1402562265434, 3447.060317317807, 3446.4929792801067, 4762.761504132457, 4761.823567235975, 4762.909473544484, 4762.369813422167, 4380.698604555338, 4379.604868123916, 4380.717837106693, 4381.248121020163]\n",
      "Redo T2R: False\n"
     ]
    }
   ],
   "source": [
    "# TESTING\n",
    "# t2r_2 = meas.RamseyExperiment(config_file=config_path)\n",
    "# temp_data, attrs = prev_data(expt_path, '00004_ramsey_qubit2.h5')\n",
    "# t2r_2.data = temp_data\n",
    "# t2r_2.cfg = AttrDict(attrs['config'])\n",
    "\n",
    "redo_t2r = True\n",
    "\n",
    "t2r_2.analyze(fit=True)\n",
    "\n",
    "t2r_2_fit, t2r_2_fit_err, t2r_2_adjust = meas.fitting.get_best_fit(t2r_2.data, get_best_data_params=['f_adjust_ramsey'])\n",
    "\n",
    "t2r_2.display(fit=True)\n",
    "old_qubit_freq = np.reshape(t2r_2.cfg.device.qubit.f_ge, (4,4))[qubit_i, qubit_i]\n",
    "if abs(t2r_2_adjust[0]) <= ramsey_freq/10:\n",
    "# if abs(t2r_2_adjust[0]) <= abs(t2r_2_adjust[0]):\n",
    "    redo_t2r = False\n",
    "    yaml_cfg.device.qubit.f_ge = np.reshape(yaml_cfg.device.qubit.f_ge, (4,4))\n",
    "    yaml_cfg.device.qubit.f_ge[qubit_i, qubit_i] = old_qubit_freq + t2r_2_adjust[0]\n",
    "    results_Qi.update({'T2R':t2r_2_fit[3], 'T2R err':np.sqrt(t2r_2_fit_err[3][3])})\n",
    "    results_Qi.update({'Qubit freq':yaml_cfg.device.qubit.f_ge[qubit_i, qubit_i] + yaml_cfg.hw.soc.dacs.qubit.mixer_freq[qubit_i]})\n",
    "    print(f'*Set qubit {qubit_i} freq to {yaml_cfg.device.qubit.f_ge[qubit_i, qubit_i]}*')\n",
    "    print(results_Qi)\n",
    "    print(f'*New f_ge\\n', yaml_cfg.device.qubit.f_ge)\n",
    "    yaml_cfg.device.qubit.f_ge = yaml_cfg.device.qubit.f_ge.flatten().tolist()\n",
    "    print(f'*New f_ge flattened\\n{yaml_cfg.device.qubit.f_ge}')\n",
    "\n",
    "else: # redo_t2r = True\n",
    "    yaml_cfg.device.qubit.f_ge[qubit_i] = alt_qubit_freq \n",
    "    print(f'*Set qubit {qubit_i} freq to {yaml_cfg.device.qubit.f_ge[qubit_i]}*')\n",
    "print(f'Redo T2R: {redo_t2r}')"
   ]
  },
  {
   "cell_type": "code",
   "execution_count": 98,
   "metadata": {},
   "outputs": [],
   "source": [
    "if save_data: saved_files.append(t2r_2.save_data())"
   ]
  },
  {
   "cell_type": "markdown",
   "metadata": {},
   "source": [
    "## $\\pi$, -$\\pi$ experiment"
   ]
  },
  {
   "cell_type": "code",
   "execution_count": 130,
   "metadata": {},
   "outputs": [],
   "source": [
    "use_robust_pulses = True"
   ]
  },
  {
   "cell_type": "code",
   "execution_count": 131,
   "metadata": {},
   "outputs": [
    {
     "data": {
      "application/vnd.jupyter.widget-view+json": {
       "model_id": "d3660dca4610496280bce24ed92f0dca",
       "version_major": 2,
       "version_minor": 0
      },
      "text/plain": [
       "  0%|          | 0/2 [00:00<?, ?it/s]"
      ]
     },
     "metadata": {},
     "output_type": "display_data"
    },
    {
     "name": "stdout",
     "output_type": "stream",
     "text": [
      "Qubit  (0)\n",
      "ge fidelity (%): 78.30666666666667 \t angle (deg): -96.83569591568404 \t threshold ge: 398.7212265605594\n"
     ]
    },
    {
     "data": {
      "application/vnd.jupyter.widget-view+json": {
       "model_id": "25dcf053cb8f4f319a145e9f3d977364",
       "version_major": 2,
       "version_minor": 0
      },
      "text/plain": [
       "  0%|          | 0/10 [00:00<?, ?it/s]"
      ]
     },
     "metadata": {},
     "output_type": "display_data"
    }
   ],
   "source": [
    "piminuspi = meas.PiMinusPiExperiment(\n",
    "    soccfg=soc,\n",
    "    path=expt_path,\n",
    "    prefix=f\"PiMinusPiExpt{qubit_i}\",\n",
    "    config_file=config_path,\n",
    ")\n",
    "\n",
    "span_f = 2.0\n",
    "# npts_f = 50\n",
    "npts_f = 30\n",
    "\n",
    "if not use_robust_pulses:\n",
    "    start_f = piminuspi.cfg.device.qubit.f_ge[qubit_i*4 + qubit_i]-span_f/2\n",
    "    pulse_type = \"gauss\"\n",
    "else:\n",
    "    start_f=piminuspi.cfg.device.qubit.f_ge_robust[qubit_i*4 + qubit_i]-span_f/2,\n",
    "    pulse_type = \"robust\"\n",
    "\n",
    "piminuspi.cfg = AttrDict(deepcopy(yaml_cfg))\n",
    "piminuspi.cfg.expt = dict(\n",
    "    start_N=0, # number gate repetitions\n",
    "    step_N=4,\n",
    "    expts_N=10,\n",
    "    start_f=start_f,\n",
    "    step_f=span_f/npts_f,\n",
    "    expts_f=npts_f+1,\n",
    "    reps=int(0.75*reps*rounds),\n",
    "    # reps=10,\n",
    "    loops=1,\n",
    "    pulse_type=pulse_type,\n",
    "    use_robust_pulses=use_robust_pulses,\n",
    "\n",
    "    checkEF=False,\n",
    "    qTest=qubit_i,\n",
    "    qZZ=None,\n",
    "\n",
    "    test_pi_half=False,\n",
    "\n",
    "    post_process='threshold',\n",
    "    singleshot_reps=15000,\n",
    ")\n",
    "\n",
    "# print(piminuspi.cfg)\n",
    "import Pyro4.util\n",
    "try:\n",
    "    piminuspi.acquire(progress=True, debug=False)\n",
    "except Exception:\n",
    "    print(\"Pyro traceback:\")\n",
    "    print(\"\".join(Pyro4.util.getPyroTraceback()))"
   ]
  },
  {
   "cell_type": "code",
   "execution_count": 132,
   "metadata": {},
   "outputs": [
    {
     "name": "stdout",
     "output_type": "stream",
     "text": [
      "Fit best freq 4111.8334058569635 which is -0.47307206386085454 away from old freq 4112.306477920824\n",
      "*Set qubit 0 freq to 4111.8334058569635*\n",
      "{'T1': 64.05955000251987, 'T1 err': 1.119240285515182, 'T2R': 18.248886781332068, 'T2R err': 0.7816516069106116, 'Qubit freq': 4111.8334058569635, 'T2E': 56.36959417286505, 'T2E err': 1.4283912853884384, 'Res freq': 6810.011666666666, 'Res freq (yaml)': -389.98833333333334, 'Res kappa': 0.2735895597906132, 'Res chi shift (e - g)': -0.8642384105960446, 'Pi/2 pulse gain': 7569}\n",
      "*New f_ge_robust\n",
      " [[4111.83340586 4112.30647792 4112.30647792 4112.30647792]\n",
      " [3450.05408931 3450.05408931 3450.05408931 3450.05408931]\n",
      " [4763.941      4763.941      4763.941      4763.941     ]\n",
      " [4384.25034226 4384.25034226 4384.25034226 4384.25034226]]\n",
      "*New f_ge_robust flattened\n",
      "[4111.8334058569635, 4112.306477920824, 4112.306477920824, 4112.306477920824, 3450.0540893078382, 3450.0540893078382, 3450.0540893078382, 3450.0540893078382, 4763.941, 4763.941, 4763.941, 4763.941, 4384.25034225973, 4384.25034225973, 4384.25034225973, 4384.25034225973]\n"
     ]
    }
   ],
   "source": [
    "# # TESTING\n",
    "# temp_data, attrs = prev_data('s:\\Connie\\experiments\\qramLL_4QR2\\data\\data_240617\\\\00000_PiMinusPiExpt0.h5')\n",
    "# piminuspi.data =  temp_data\n",
    "# piminuspi.cfg = AttrDict(attrs['config'])\n",
    "\n",
    "\n",
    "data = piminuspi.data\n",
    "piminuspi.analyze(fit=True)\n",
    "piminuspi.display(fit=True)\n",
    "\n",
    "if not use_robust_pulses:\n",
    "    freq_update = \"f_ge\"\n",
    "else:\n",
    "    freq_update = \"f_ge_robust\"\n",
    "yaml_cfg.device.qubit[freq_update] = np.reshape(yaml_cfg.device.qubit[freq_update], (4,4))\n",
    "yaml_cfg.device.qubit[freq_update][qubit_i, qubit_i] = data[\"best_freq\"]\n",
    "results_Qi.update({'Qubit freq':yaml_cfg.device.qubit[freq_update][qubit_i, qubit_i] + yaml_cfg.hw.soc.dacs.qubit.mixer_freq[qubit_i]})\n",
    "print(f'*Set qubit {qubit_i} freq to {yaml_cfg.device.qubit[freq_update][qubit_i, qubit_i]}*')\n",
    "print(results_Qi)\n",
    "print(f'*New {freq_update}\\n', yaml_cfg.device.qubit[freq_update])\n",
    "yaml_cfg.device.qubit[freq_update] = yaml_cfg.device.qubit[freq_update].flatten().tolist()\n",
    "print(f'*New {freq_update} flattened\\n{yaml_cfg.device.qubit[freq_update]}')"
   ]
  },
  {
   "cell_type": "code",
   "execution_count": null,
   "metadata": {},
   "outputs": [],
   "source": [
    "if save_data: piminuspi.save_data()"
   ]
  },
  {
   "cell_type": "markdown",
   "metadata": {},
   "source": [
    "## GE error amplification"
   ]
  },
  {
   "cell_type": "code",
   "execution_count": null,
   "metadata": {},
   "outputs": [],
   "source": [
    "npulsecalib = meas.NPulseExperiment(\n",
    "    soccfg=soc,\n",
    "    path=expt_path,\n",
    "    prefix=f\"NPulseExptQ{qubit_i}\",\n",
    "    config_file=config_path,\n",
    ")\n",
    "\n",
    "npulsecalib.cfg = AttrDict(deepcopy(yaml_cfg))\n",
    "npulsecalib.cfg.expt = dict(\n",
    "    start=0, # number gate repetitions\n",
    "    step=1,\n",
    "    expts=10,\n",
    "    reps=1000,\n",
    "    loops=20,\n",
    "    pulse_type='gauss',\n",
    "    checkEF=False, \n",
    "    qTest=qubit_i,\n",
    "    qZZ=None,\n",
    "    test_pi_half=False,\n",
    "    error_amp=True,\n",
    "\n",
    "    post_process='scale',\n",
    "    singleshot_reps=15000,\n",
    ")\n",
    "\n",
    "# print(npulsecalib.cfg)\n",
    "import Pyro4.util\n",
    "try:\n",
    "    npulsecalib.acquire(progress=True, debug=False)\n",
    "except Exception:\n",
    "    print(\"Pyro traceback:\")\n",
    "    print(\"\".join(Pyro4.util.getPyroTraceback()))"
   ]
  },
  {
   "cell_type": "code",
   "execution_count": null,
   "metadata": {},
   "outputs": [],
   "source": [
    "# # TESTING\n",
    "# temp_data, attrs = prev_data(expt_path, '00000_voltage_sweep_qubit_spectroscopy_qubit3.h5')\n",
    "# data = lengthrabi.analyze(data=temp_data, fit=True)\n",
    "\n",
    "data = npulsecalib.data\n",
    "npulsecalib.analyze(fit=True, scale=None)\n",
    "npulsecalib.display(fit=True, scale=None)\n",
    "\n",
    "# npulsecalib_fit, npulsecalib_fit_err = meas.fitting.get_best_fit(npulsecalib.data)\n",
    "fit_axis = 'avgi'\n",
    "npulsecalib_fit = data['fit_avgi']\n",
    "npulsecalib_fit_err = data['fit_err_avgi']\n",
    "\n",
    "angle_err = npulsecalib_fit[1]\n",
    "amp_ratio = (180 - angle_err) / 180\n",
    "new_amp_ge = np.reshape(npulsecalib.cfg.device.qubit.pulses.pi_ge.gain, (4,4))[qubit_i, qubit_i] / amp_ratio\n",
    "\n",
    "yaml_cfg.device.qubit.pulses.pi_ge.gain = np.reshape(yaml_cfg.device.qubit.pulses.pi_ge.gain, (4,4))\n",
    "yaml_cfg.device.qubit.pulses.pi_ge.gain[qubit_i, qubit_i] = int(round(new_amp_ge))\n",
    "print(f'*Set pi pulse gain for qubit {qubit_i} to {yaml_cfg.device.qubit.pulses.pi_ge.gain[qubit_i, qubit_i]}*')\n",
    "results_Qi.update({'Pi pulse gain':yaml_cfg.device.qubit.pulses.pi_ge.gain[qubit_i, qubit_i]})\n",
    "print(f'*New pi_ge.gain\\n', yaml_cfg.device.qubit.pulses.pi_ge.gain)\n",
    "yaml_cfg.device.qubit.pulses.pi_ge.gain = yaml_cfg.device.qubit.pulses.pi_ge.gain.flatten().tolist()\n",
    "print(f'*New pi_ge.gain flattened\\n{yaml_cfg.device.qubit.pulses.pi_ge.gain}')\n",
    "print(results_Qi)"
   ]
  },
  {
   "cell_type": "code",
   "execution_count": null,
   "metadata": {},
   "outputs": [],
   "source": [
    "if save_data: npulsecalib.save_data()"
   ]
  },
  {
   "cell_type": "markdown",
   "metadata": {},
   "source": [
    "## $T_2$ Echo"
   ]
  },
  {
   "cell_type": "code",
   "execution_count": 26,
   "metadata": {},
   "outputs": [
    {
     "name": "stdout",
     "output_type": "stream",
     "text": [
      "Short T1 False\n"
     ]
    }
   ],
   "source": [
    "# yaml_cfg.device.qubit.f_ge[qubit_i] = 145.572034953271\n",
    "qubit_hwhm = 2\n",
    "short_T1 = False\n",
    "# short_T1 = True\n",
    "# short_T1 = yaml_cfg.device.qubit.T1[qubit_i] < 20\n",
    "print('Short T1', short_T1)"
   ]
  },
  {
   "cell_type": "code",
   "execution_count": 27,
   "metadata": {},
   "outputs": [
    {
     "name": "stdout",
     "output_type": "stream",
     "text": [
      "Ramsey freq [MHz]: 2.0\n"
     ]
    }
   ],
   "source": [
    "ramsey_freq = max((min((np.abs(np.ceil(qubit_hwhm)), 3)), 2))\n",
    "# ramsey_freq = 1\n",
    "print(f'Ramsey freq [MHz]: {ramsey_freq}')"
   ]
  },
  {
   "cell_type": "code",
   "execution_count": 28,
   "metadata": {},
   "outputs": [
    {
     "name": "stdout",
     "output_type": "stream",
     "text": [
      "Running Ramsey Echo on Q0 \n"
     ]
    },
    {
     "data": {
      "application/vnd.jupyter.widget-view+json": {
       "model_id": "d0a5ccec430e4ebea924065ec5ec51c8",
       "version_major": 2,
       "version_minor": 0
      },
      "text/plain": [
       "  0%|          | 0/10 [00:00<?, ?it/s]"
      ]
     },
     "metadata": {},
     "output_type": "display_data"
    }
   ],
   "source": [
    "t2e = meas.RamseyExperiment(\n",
    "    soccfg=soc,\n",
    "    path=expt_path,\n",
    "    prefix=f\"echo_qubit{qubit_i}\",\n",
    "    config_file=config_path,\n",
    ")\n",
    "t2e.cfg = AttrDict(deepcopy(yaml_cfg))\n",
    "\n",
    "t2e.cfg.expt = dict(\n",
    "    start=0, # total wait time b/w the two pi/2 pulses [us]\n",
    "    # step=soc.cycles2us(80), # make sure nyquist freq = 0.5*(1/step) > ramsey (signal) freq!\n",
    "    step=soc.cycles2us(30) if short_T1 else soc.cycles2us(150), # [us] \n",
    "    expts=201,\n",
    "    ramsey_freq=max((ramsey_freq/15, 0.100)), # frequency by which to advance phase [MHz]\n",
    "    num_pi=1, # number of pi pulses\n",
    "    echo_type='cpmg', # cp or cpmg\n",
    "    reps=reps,\n",
    "    # reps=10,\n",
    "    rounds=rounds,\n",
    "    qTest=qubit_i,\n",
    "    qZZ=None,\n",
    "    checkEF=False,\n",
    ")\n",
    "t2e.go(analyze=False, display=False, progress=True, save=False)"
   ]
  },
  {
   "cell_type": "code",
   "execution_count": 29,
   "metadata": {},
   "outputs": [
    {
     "name": "stdout",
     "output_type": "stream",
     "text": [
      "Qubit 0\n",
      "best 0 0.009515671840636859\n",
      "Current pi pulse frequency: 4111.122260451728\n",
      "Fit frequency from amps [MHz]: 0.13321301485526182 +/- 7.214999297595147e-05\n",
      "Suggested new pi pulse frequencies from fit amps [MHz]:\n",
      " \t4111.122380770206\n",
      " \t4110.855714103539\n",
      "T2 Ramsey from fit amps [us]: 56.36959417286505 +/- 1.4283912853884384\n",
      "Current pi pulse frequency: 4111.122260451728\n",
      "Fit frequency from I [MHz]: 0.13315630305524895 +/- 7.78367439779741e-05\n",
      "Suggested new pi pulse frequency from fit I [MHz]:\n",
      " \t4111.122437482006\n",
      " \t4110.855770815339\n",
      "T2 Ramsey from fit I [us]: 56.049642889050325 +/- 1.523004844518435\n",
      "Fit frequency from Q [MHz]: 0.13330409486482314 +/- 8.258644157305862e-05\n",
      "Suggested new pi pulse frequencies from fit Q [MHz]:\n",
      " \t4111.122289690196\n",
      " \t4110.85562302353\n",
      "T2 Ramsey from fit Q [us]: 56.803008426451235 +/- 1.6613331354971312\n",
      "{'T1': 64.05955000251987, 'T1 err': 1.119240285515182, 'T2R': 18.248886781332068, 'T2R err': 0.7816516069106116, 'Qubit freq': 4111.122260451728, 'T2E': 56.36959417286505, 'T2E err': 1.4283912853884384}\n"
     ]
    }
   ],
   "source": [
    "# # TESTING\n",
    "# # t2e = meas.RamseyEchoExperiment(config_file=config_path)\n",
    "# temp_data, attrs = prev_data(expt_path, '00000_echo_qubit1.h5')\n",
    "# t2e.data = temp_data\n",
    "\n",
    "print(f'Qubit {qubit_i}')\n",
    "t2e.analyze(fit=True)\n",
    "\n",
    "t2e_fit, t2e_fit_err = meas.fitting.get_best_fit(t2e.data)\n",
    "\n",
    "if not isinstance(t2e_fit, (list, np.ndarray)):\n",
    "    t2e.display(fit=False)\n",
    "    assert False, 'Fit failed, please manually fix!'\n",
    "\n",
    "t2e.display(fit=True)\n",
    "results_Qi.update({'T2E':t2e_fit[3], 'T2E err':np.sqrt(t2e_fit_err[3][3])})\n",
    "print(results_Qi)\n",
    "# print('Results updated.')"
   ]
  },
  {
   "cell_type": "code",
   "execution_count": 46,
   "metadata": {},
   "outputs": [],
   "source": [
    "if save_data: saved_files.append(t2e.save_data())"
   ]
  },
  {
   "cell_type": "markdown",
   "metadata": {},
   "source": [
    "## (Divide len) Calibrate $\\pi/2$ pulse"
   ]
  },
  {
   "cell_type": "markdown",
   "metadata": {},
   "source": [
    "### Amplitude rabi for $\\pi/2$ pulse (divide len) (use this for protocol)"
   ]
  },
  {
   "cell_type": "code",
   "execution_count": 35,
   "metadata": {},
   "outputs": [],
   "source": [
    "divide_len = True"
   ]
  },
  {
   "cell_type": "code",
   "execution_count": 36,
   "metadata": {},
   "outputs": [
    {
     "name": "stdout",
     "output_type": "stream",
     "text": [
      "qubit 1 pi_len 0.025\n"
     ]
    }
   ],
   "source": [
    "pi_len = np.reshape(yaml_cfg.device.qubit.pulses.pi_ge.sigma, (4,4))[qubit_i, qubit_i]\n",
    "# pi_len = 0.008\n",
    "print('qubit', qubit_i, 'pi_len', pi_len)"
   ]
  },
  {
   "cell_type": "code",
   "execution_count": 37,
   "metadata": {},
   "outputs": [
    {
     "name": "stdout",
     "output_type": "stream",
     "text": [
      "Running amp rabi on Q1 \n",
      "Calibrating half pi gain (divide length) when pi len is 0.025\n"
     ]
    },
    {
     "data": {
      "application/vnd.jupyter.widget-view+json": {
       "model_id": "51f672f1906b4787b10d6e95f8e7e9a2",
       "version_major": 2,
       "version_minor": 0
      },
      "text/plain": [
       "  0%|          | 0/10 [00:00<?, ?it/s]"
      ]
     },
     "metadata": {},
     "output_type": "display_data"
    }
   ],
   "source": [
    "amprabi_3 = meas.AmplitudeRabiExperiment(\n",
    "    soccfg=soc,\n",
    "    path=expt_path,\n",
    "    prefix=f\"amp_rabi_qubit{qubit_i}\",\n",
    "    config_file=config_path,\n",
    ")\n",
    "amprabi_3.cfg = AttrDict(deepcopy(yaml_cfg))\n",
    "\n",
    "span = min((32000, int(1.5*np.reshape(yaml_cfg.device.qubit.pulses.pi_ge.gain, (4,4))[qubit_i, qubit_i])))\n",
    "npts = 151\n",
    "    \n",
    "amprabi_3.cfg.expt = dict(\n",
    "    start=0, # qubit gain [dac level]\n",
    "    step=int(span/npts), # [dac level]\n",
    "    expts=npts,\n",
    "    reps=reps,\n",
    "    # reps=5,\n",
    "    rounds=rounds,\n",
    "    sigma_test=pi_len, # gaussian sigma for pulse length - overrides config [us]\n",
    "    pulse_type='gauss',\n",
    "    checkEF=False, \n",
    "    n_pulses=1,\n",
    "    test_pi_half=True,\n",
    "    qTest=qubit_i,\n",
    "    qZZ=None,\n",
    ")\n",
    "amprabi_3.go(analyze=False, display=False, progress=True, save=False)"
   ]
  },
  {
   "cell_type": "code",
   "execution_count": 38,
   "metadata": {},
   "outputs": [
    {
     "name": "stdout",
     "output_type": "stream",
     "text": [
      "best 1 0.01354141233622637\n",
      "Pi gain from amps data [dac units]: 2228\n",
      "\tPi/2 gain from amps data [dac units]: 1114\n",
      "Pi gain from avgi data [dac units]: 2213\n",
      "\tPi/2 gain from avgi data [dac units]: 1106\n",
      "Pi gain from avgq data [dac units]: 2198\n",
      "\tPi/2 gain from avgq data [dac units]: 1099\n",
      "*Set pi/2 pulse gain for qubit 1 to 2213*\n",
      "*New pi_ge.half_gain\n",
      " [[ 1856  1835  1873  1867]\n",
      " [ 2382  2213  2248  2289]\n",
      " [14616 14662 14508 14535]\n",
      " [  819   819   816   819]]\n",
      "*New pi_ge.half_gain flattened\n",
      "[1856, 1835, 1873, 1867, 2382, 2213, 2248, 2289, 14616, 14662, 14508, 14535, 819, 819, 816, 819]\n",
      "{'T1': 73.39553692251104, 'T1 err': 3.489431034704649, 'Pi/2 pulse gain': 2213}\n"
     ]
    }
   ],
   "source": [
    "# # TESTING\n",
    "# # amprabi_3 = meas.AmplitudeRabiExperiment(config_file=config_path,)\n",
    "# temp_data, attrs = prev_data(expt_path, '00000_amp_rabi_qubit0.h5')\n",
    "# amprabi_3.data = temp_data\n",
    "\n",
    "# amprabi_3.display(fit=False)\n",
    "\n",
    "amprabi_3.analyze(fit=True)\n",
    "\n",
    "amprabi_3_fit, amprabi_3_fit_err = meas.fitting.get_best_fit(amprabi_3.data)\n",
    "\n",
    "p = amprabi_3_fit\n",
    "if p[2] > 180: p[2] = p[2] - 360\n",
    "elif p[2] < -180: p[2] = p[2] + 360\n",
    "if p[2] < 0: pi_gain = (1/2 - p[2]/180)/2/p[1]\n",
    "else: pi_gain = (3/2 - p[2]/180)/2/p[1]\n",
    "\n",
    "if pi_gain > 32000:\n",
    "    amprabi_3.display(fit=False)\n",
    "    print(f'WARNING: Fit pi/2 pulse gain is long ({pi_gain}), please double check!')\n",
    "    pi_gain = 30000\n",
    "else: amprabi_3.display(fit=True)\n",
    "\n",
    "yaml_cfg.device.qubit.pulses.pi_ge.half_gain = np.reshape(yaml_cfg.device.qubit.pulses.pi_ge.half_gain, (4,4))\n",
    "yaml_cfg.device.qubit.pulses.pi_ge.half_gain[qubit_i, qubit_i] = int(pi_gain)\n",
    "print(f'*Set pi/2 pulse gain for qubit {qubit_i} to {yaml_cfg.device.qubit.pulses.pi_ge.half_gain[qubit_i, qubit_i]}*')\n",
    "results_Qi.update({'Pi/2 pulse gain':yaml_cfg.device.qubit.pulses.pi_ge.half_gain[qubit_i, qubit_i]})\n",
    "print(f'*New pi_ge.half_gain\\n', yaml_cfg.device.qubit.pulses.pi_ge.half_gain)\n",
    "yaml_cfg.device.qubit.pulses.pi_ge.half_gain = yaml_cfg.device.qubit.pulses.pi_ge.half_gain.flatten().astype(int).tolist()\n",
    "print(f'*New pi_ge.half_gain flattened\\n{yaml_cfg.device.qubit.pulses.pi_ge.half_gain}')\n",
    "print(results_Qi)"
   ]
  },
  {
   "cell_type": "code",
   "execution_count": null,
   "metadata": {},
   "outputs": [],
   "source": [
    "if save_data: saved_files.append(amprabi_3.save_data())"
   ]
  },
  {
   "cell_type": "markdown",
   "metadata": {},
   "source": [
    "### $\\pi/2$, -$\\pi/2$ experiment"
   ]
  },
  {
   "cell_type": "code",
   "execution_count": 87,
   "metadata": {},
   "outputs": [],
   "source": [
    "use_robust_pulses = True"
   ]
  },
  {
   "cell_type": "code",
   "execution_count": null,
   "metadata": {},
   "outputs": [
    {
     "data": {
      "application/vnd.jupyter.widget-view+json": {
       "model_id": "ca496208d3e0476495450b0823fae042",
       "version_major": 2,
       "version_minor": 0
      },
      "text/plain": [
       "  0%|          | 0/2 [00:00<?, ?it/s]"
      ]
     },
     "metadata": {},
     "output_type": "display_data"
    },
    {
     "name": "stdout",
     "output_type": "stream",
     "text": [
      "Qubit  (0)\n",
      "ge fidelity (%): 79.00666666666667 \t angle (deg): -151.3853999797088 \t threshold ge: 391.3134269328184\n"
     ]
    },
    {
     "data": {
      "application/vnd.jupyter.widget-view+json": {
       "model_id": "693664a05fc54ef6b6fdee33c80e27cf",
       "version_major": 2,
       "version_minor": 0
      },
      "text/plain": [
       "  0%|          | 0/10 [00:00<?, ?it/s]"
      ]
     },
     "metadata": {},
     "output_type": "display_data"
    }
   ],
   "source": [
    "piminuspi = meas.PiMinusPiExperiment(\n",
    "    soccfg=soc,\n",
    "    path=expt_path,\n",
    "    prefix=f\"PiMinusPiExpt{qubit_i}\",\n",
    "    config_file=config_path,\n",
    ")\n",
    "\n",
    "span_f = 4.0\n",
    "# npts_f = 10\n",
    "npts_f = 30\n",
    "\n",
    "# span_f = 0.0\n",
    "# npts_f = 1\n",
    "\n",
    "if not use_robust_pulses:\n",
    "    start_f = piminuspi.cfg.device.qubit.f_ge[qubit_i*4 + qubit_i]-span_f/2\n",
    "    pulse_type = \"gauss\"\n",
    "else:\n",
    "    start_f=piminuspi.cfg.device.qubit.f_ge_robust[qubit_i*4 + qubit_i]-span_f/2,\n",
    "    pulse_type = \"robust\"\n",
    "\n",
    "piminuspi.cfg = AttrDict(deepcopy(yaml_cfg))\n",
    "piminuspi.cfg.expt = dict(\n",
    "    start_N=0, # number gate repetitions\n",
    "    step_N=1,\n",
    "    expts_N=10,\n",
    "    # step_N=4,\n",
    "    # expts_N=10,\n",
    "    start_f=start_f,\n",
    "    step_f=span_f/npts_f,\n",
    "    expts_f=npts_f+1,\n",
    "    reps=int(0.75*reps*rounds),\n",
    "    # reps=10,\n",
    "    loops=1,\n",
    "    pulse_type=pulse_type,\n",
    "    use_robust_pulses=use_robust_pulses,\n",
    "\n",
    "    checkEF=False,\n",
    "    qTest=qubit_i,\n",
    "    qZZ=None,\n",
    "\n",
    "    # use_Y=True,\n",
    "\n",
    "    test_pi_half=True,\n",
    "\n",
    "    post_process='threshold',\n",
    "    singleshot_reps=15000,\n",
    ")\n",
    "\n",
    "# print(piminuspi.cfg)\n",
    "import Pyro4.util\n",
    "try:\n",
    "    piminuspi.acquire(progress=True, debug=False)\n",
    "except Exception:\n",
    "    print(\"Pyro traceback:\")\n",
    "    print(\"\".join(Pyro4.util.getPyroTraceback()))"
   ]
  },
  {
   "cell_type": "code",
   "execution_count": null,
   "metadata": {},
   "outputs": [
    {
     "name": "stdout",
     "output_type": "stream",
     "text": [
      "Attempted to init fitparam 1 to 4113.306477920824, which is out of bounds 4111.306477920824 to 4113.306477920824. Instead init to 4112.306477920824\n",
      "Fit best freq 4113.306477920811 which is 0.9999999999863576 away from old freq 4112.306477920824\n",
      "*Set qubit 0 freq to 4113.306477920811*\n",
      "{'T1': 64.05955000251987, 'T1 err': 1.119240285515182, 'T2R': 18.248886781332068, 'T2R err': 0.7816516069106116, 'Qubit freq': 4113.306477920811, 'T2E': 56.36959417286505, 'T2E err': 1.4283912853884384, 'Res freq': 6810.011666666666, 'Res freq (yaml)': -389.98833333333334, 'Res kappa': 0.2735895597906132, 'Res chi shift (e - g)': -0.8642384105960446, 'Pi/2 pulse gain': 7569}\n",
      "*New f_ge_robust\n",
      " [[4113.30647792 4112.30647792 4112.30647792 4112.30647792]\n",
      " [3450.05408931 3450.05408931 3450.05408931 3450.05408931]\n",
      " [4763.941      4763.941      4763.941      4763.941     ]\n",
      " [4384.25034226 4384.25034226 4384.25034226 4384.25034226]]\n",
      "*New f_ge_robust flattened\n",
      "[4113.306477920811, 4112.306477920824, 4112.306477920824, 4112.306477920824, 3450.0540893078382, 3450.0540893078382, 3450.0540893078382, 3450.0540893078382, 4763.941, 4763.941, 4763.941, 4763.941, 4384.25034225973, 4384.25034225973, 4384.25034225973, 4384.25034225973]\n"
     ]
    }
   ],
   "source": [
    "# # TESTING\n",
    "# temp_data, attrs = prev_data('s:\\Connie\\experiments\\qramLL_4QR2\\data\\data_240617\\\\00000_PiMinusPiExpt0.h5')\n",
    "# piminuspi.data =  temp_data\n",
    "# piminuspi.cfg = AttrDict(attrs['config'])\n",
    "\n",
    "\n",
    "data = piminuspi.data\n",
    "piminuspi.analyze(fit=True)\n",
    "piminuspi.display(fit=True)\n",
    "\n",
    "if not use_robust_pulses:\n",
    "    freq_update = \"f_ge\"\n",
    "else:\n",
    "    freq_update = \"f_ge_robust\"\n",
    "yaml_cfg.device.qubit[freq_update] = np.reshape(yaml_cfg.device.qubit[freq_update], (4,4))\n",
    "yaml_cfg.device.qubit[freq_update][qubit_i, qubit_i] = data[\"best_freq\"]\n",
    "results_Qi.update({'Qubit freq':yaml_cfg.device.qubit[freq_update][qubit_i, qubit_i] + yaml_cfg.hw.soc.dacs.qubit.mixer_freq[qubit_i]})\n",
    "print(f'*Set qubit {qubit_i} freq to {yaml_cfg.device.qubit[freq_update][qubit_i, qubit_i]}*')\n",
    "print(results_Qi)\n",
    "print(f'*New {freq_update}\\n', yaml_cfg.device.qubit[freq_update])\n",
    "yaml_cfg.device.qubit[freq_update] = yaml_cfg.device.qubit[freq_update].flatten().tolist()\n",
    "print(f'*New {freq_update} flattened\\n{yaml_cfg.device.qubit[freq_update]}')"
   ]
  },
  {
   "cell_type": "code",
   "execution_count": null,
   "metadata": {},
   "outputs": [],
   "source": [
    "if save_data: piminuspi.save_data()"
   ]
  },
  {
   "cell_type": "markdown",
   "metadata": {},
   "source": [
    "### GE $\\pi/2$ error amplification (divide len)"
   ]
  },
  {
   "cell_type": "code",
   "execution_count": 126,
   "metadata": {},
   "outputs": [],
   "source": [
    "divide_len = True"
   ]
  },
  {
   "cell_type": "code",
   "execution_count": 127,
   "metadata": {},
   "outputs": [
    {
     "data": {
      "application/vnd.jupyter.widget-view+json": {
       "model_id": "ba8b2c9b893f486cb0a4fd292c868f4e",
       "version_major": 2,
       "version_minor": 0
      },
      "text/plain": [
       "  0%|          | 0/2 [00:00<?, ?it/s]"
      ]
     },
     "metadata": {},
     "output_type": "display_data"
    },
    {
     "name": "stdout",
     "output_type": "stream",
     "text": [
      "Qubit  (0)\n",
      "ge fidelity (%): 77.06666666666668 \t angle (deg): -90.34929863930813 \t threshold ge: 399.59157298552174\n"
     ]
    },
    {
     "data": {
      "application/vnd.jupyter.widget-view+json": {
       "model_id": "b396f2feacfb48d98d286ce925b0930c",
       "version_major": 2,
       "version_minor": 0
      },
      "text/plain": [
       "  0%|          | 0/20 [00:00<?, ?it/s]"
      ]
     },
     "metadata": {},
     "output_type": "display_data"
    },
    {
     "name": "stderr",
     "output_type": "stream",
     "text": [
      "RuntimeWarning: divide by zero encountered in divide\n",
      " s:\\Connie\\experiments\\qram_tprocv1_expts\\experiments\\clifford_averager_program.py: 1620"
     ]
    }
   ],
   "source": [
    "npulsecalib_gehalf = meas.NPulseExperiment(\n",
    "    soccfg=soc,\n",
    "    path=expt_path,\n",
    "    prefix=f\"NPulseExptQ{qubit_i}\",\n",
    "    config_file=config_path,\n",
    ")\n",
    "\n",
    "if not use_robust_pulses:\n",
    "    pulse_type = \"gauss\"\n",
    "else:\n",
    "    pulse_type = \"robust\"\n",
    "\n",
    "npulsecalib_gehalf.cfg = AttrDict(deepcopy(yaml_cfg))\n",
    "npulsecalib_gehalf.cfg.expt = dict(\n",
    "    start=0, # number gate repetitions\n",
    "    step=1,\n",
    "    expts=20,\n",
    "    reps=1000,\n",
    "    loops=20,\n",
    "    pulse_type=pulse_type,\n",
    "    test_pi_half=True,\n",
    "    divide_len=divide_len,\n",
    "    error_amp=True,\n",
    "    use_robust_pulses=use_robust_pulses,\n",
    "    use_Y=False,\n",
    "\n",
    "    checkEF=False,\n",
    "    qTest=qubit_i,\n",
    "    qZZ=None,\n",
    "\n",
    "    post_process='scale',\n",
    "    singleshot_reps=15000,\n",
    ")\n",
    "\n",
    "# print(npulsecalib_gehalf.cfg)\n",
    "try:\n",
    "    npulsecalib_gehalf.acquire(progress=True, debug=False)\n",
    "except Exception:\n",
    "    print(\"Pyro traceback:\")\n",
    "    print(\"\".join(Pyro4.util.getPyroTraceback()))"
   ]
  },
  {
   "cell_type": "code",
   "execution_count": 128,
   "metadata": {},
   "outputs": [
    {
     "name": "stdout",
     "output_type": "stream",
     "text": [
      "fitparams [None, 0.017453292519943295]\n",
      "From amps: adjust amplitude to 7550 / 0.9757500425487248 = 7737.637377169764\n",
      "From avgi: adjust amplitude to 7550 / 0.9974913944942532 = 7568.987603976264\n",
      "From avgq: adjust amplitude to 7550 / 1.0242456659337376 = 7371.278445310442\n",
      "*Set pi/2 pulse gain for qubit 0 to 7569*\n",
      "*New pi_ge.half_gain\n",
      " [[ 7569  1835  1873  1867]\n",
      " [ 2382  2201  2248  2289]\n",
      " [14616 14662 14508 14535]\n",
      " [  819   819   816   819]]\n",
      "*New pi_ge.half_gain flattened\n",
      "[7569, 1835, 1873, 1867, 2382, 2201, 2248, 2289, 14616, 14662, 14508, 14535, 819, 819, 816, 819]\n",
      "{'T1': 64.05955000251987, 'T1 err': 1.119240285515182, 'T2R': 18.248886781332068, 'T2R err': 0.7816516069106116, 'Qubit freq': 4112.306477920824, 'T2E': 56.36959417286505, 'T2E err': 1.4283912853884384, 'Res freq': 6810.011666666666, 'Res freq (yaml)': -389.98833333333334, 'Res kappa': 0.2735895597906132, 'Res chi shift (e - g)': -0.8642384105960446, 'Pi/2 pulse gain': 7569}\n"
     ]
    }
   ],
   "source": [
    "# # TESTING\n",
    "# temp_data, attrs = prev_data(expt_path, '00000_voltage_sweep_qubit_spectroscopy_qubit3.h5')\n",
    "# data = lengthrabi.analyze(data=temp_data, fit=True)\n",
    "\n",
    "data = npulsecalib_gehalf.data\n",
    "npulsecalib_gehalf.analyze(fit=True, scale=None)\n",
    "npulsecalib_gehalf.display(fit=True, scale=None)\n",
    "\n",
    "# npulsecalib_gehalf_fit, npulsecalib_gehalf_fit_err = meas.fitting.get_best_fit(npulsecalib_gehalf.data)\n",
    "fit_axis = 'avgi'\n",
    "npulsecalib_gehalf_fit = data['fit_avgi']\n",
    "npulsecalib_gehalf_fit_err = data['fit_err_avgi']\n",
    "\n",
    "angle_err = npulsecalib_gehalf_fit[1]\n",
    "amp_ratio = (90 - angle_err)/90\n",
    "new_amp_half_ge = npulsecalib_gehalf.cfg.expt.gain / amp_ratio\n",
    "\n",
    "yaml_cfg.device.qubit.pulses.pi_ge.half_gain = np.reshape(yaml_cfg.device.qubit.pulses.pi_ge.half_gain, (4,4))\n",
    "yaml_cfg.device.qubit.pulses.pi_ge.half_gain[qubit_i, qubit_i] = int(round(new_amp_half_ge))\n",
    "print(f'*Set pi/2 pulse gain for qubit {qubit_i} to {yaml_cfg.device.qubit.pulses.pi_ge.half_gain[qubit_i, qubit_i]}*')\n",
    "results_Qi.update({'Pi/2 pulse gain':yaml_cfg.device.qubit.pulses.pi_ge.half_gain[qubit_i, qubit_i]})\n",
    "print(f'*New pi_ge.half_gain\\n', yaml_cfg.device.qubit.pulses.pi_ge.half_gain)\n",
    "yaml_cfg.device.qubit.pulses.pi_ge.half_gain = yaml_cfg.device.qubit.pulses.pi_ge.half_gain.flatten().astype(int).tolist()\n",
    "print(f'*New pi_ge.half_gain flattened\\n{yaml_cfg.device.qubit.pulses.pi_ge.half_gain}')\n",
    "print(results_Qi)"
   ]
  },
  {
   "cell_type": "code",
   "execution_count": null,
   "metadata": {},
   "outputs": [],
   "source": [
    "if save_data: npulsecalib_gehalf.save_data()"
   ]
  },
  {
   "cell_type": "markdown",
   "metadata": {},
   "source": [
    "## (Divide gain) Calibrate $\\pi/2$ pulse"
   ]
  },
  {
   "cell_type": "markdown",
   "metadata": {},
   "source": [
    "### Amplitude rabi for $\\pi/2$ pulse (divide gain) (use this for RB)"
   ]
  },
  {
   "cell_type": "code",
   "execution_count": null,
   "metadata": {},
   "outputs": [],
   "source": [
    "divide_len = False"
   ]
  },
  {
   "cell_type": "code",
   "execution_count": null,
   "metadata": {},
   "outputs": [],
   "source": [
    "pi_len = np.reshape(yaml_cfg.device.qubit.pulses.pi_ge.sigma, (4,4))[qubit_i, qubit_i]\n",
    "# pi_len = 0.008\n",
    "print('qubit', qubit_i, 'pi_len', pi_len)"
   ]
  },
  {
   "cell_type": "code",
   "execution_count": null,
   "metadata": {},
   "outputs": [],
   "source": [
    "amprabi_3 = meas.AmplitudeRabiExperiment(\n",
    "    soccfg=soc,\n",
    "    path=expt_path,\n",
    "    prefix=f\"amp_rabi_qubit{qubit_i}\",\n",
    "    config_file=config_path,\n",
    ")\n",
    "amprabi_3.cfg = AttrDict(deepcopy(yaml_cfg))\n",
    "\n",
    "span = min((32000, int(1.5*0.5*np.reshape(yaml_cfg.device.qubit.pulses.pi_ge.gain, (4,4))[qubit_i, qubit_i])))\n",
    "npts = 151\n",
    "    \n",
    "amprabi_3.cfg.expt = dict(\n",
    "    start=0, # qubit gain [dac level]\n",
    "    step=int(span/npts), # [dac level]\n",
    "    expts=npts,\n",
    "    reps=reps,\n",
    "    # reps=5,\n",
    "    rounds=rounds,\n",
    "    sigma_test=pi_len, # gaussian sigma for pulse length - overrides config [us]\n",
    "    pulse_type='gauss',\n",
    "    checkEF=False, \n",
    "    n_pulses=1,\n",
    "    test_pi_half=True,\n",
    "    divide_len=divide_len,\n",
    "    qTest=qubit_i,\n",
    "    qZZ=None,\n",
    ")\n",
    "amprabi_3.go(analyze=False, display=False, progress=True, save=False)"
   ]
  },
  {
   "cell_type": "code",
   "execution_count": null,
   "metadata": {},
   "outputs": [],
   "source": [
    "# # TESTING\n",
    "# # amprabi_3 = meas.AmplitudeRabiExperiment(config_file=config_path,)\n",
    "# temp_data, attrs = prev_data(expt_path, '00000_amp_rabi_qubit0.h5')\n",
    "# amprabi_3.data = temp_data\n",
    "\n",
    "amprabi_3.analyze(fit=True)\n",
    "\n",
    "amprabi_3_fit, amprabi_3_fit_err = meas.fitting.get_best_fit(amprabi_3.data)\n",
    "\n",
    "p = amprabi_3_fit\n",
    "if p[2] > 180: p[2] = p[2] - 360\n",
    "elif p[2] < -180: p[2] = p[2] + 360\n",
    "if p[2] < 0: pi_gain = (1/2 - p[2]/180)/2/p[1]\n",
    "else: pi_gain = (3/2 - p[2]/180)/2/p[1]\n",
    "\n",
    "if pi_gain > 32000:\n",
    "    amprabi_3.display(fit=False)\n",
    "    print(f'WARNING: Fit pi/2 pulse gain is long ({pi_gain}), please double check!')\n",
    "    pi_gain = 30000\n",
    "else: amprabi_3.display(fit=True)\n",
    "\n",
    "yaml_cfg.device.qubit.pulses.pi_ge.half_gain_pi_sigma = np.reshape(yaml_cfg.device.qubit.pulses.pi_ge.half_gain_pi_sigma, (4,4))\n",
    "yaml_cfg.device.qubit.pulses.pi_ge.half_gain_pi_sigma[qubit_i, qubit_i] = int(pi_gain)\n",
    "print(f'*Set pi/2 pulse gain for qubit {qubit_i} to {yaml_cfg.device.qubit.pulses.pi_ge.half_gain_pi_sigma[qubit_i, qubit_i]}*')\n",
    "results_Qi.update({'Pi/2 pulse gain':yaml_cfg.device.qubit.pulses.pi_ge.half_gain_pi_sigma[qubit_i, qubit_i]})\n",
    "print(f'*New pi_ge.half_gain_pi_sigma\\n', yaml_cfg.device.qubit.pulses.pi_ge.half_gain_pi_sigma)\n",
    "yaml_cfg.device.qubit.pulses.pi_ge.half_gain_pi_sigma = yaml_cfg.device.qubit.pulses.pi_ge.half_gain_pi_sigma.flatten().astype(int).tolist()\n",
    "print(f'*New pi_ge.half_gain_pi_sigma flattened\\n{yaml_cfg.device.qubit.pulses.pi_ge.half_gain_pi_sigma}')\n",
    "print(results_Qi)"
   ]
  },
  {
   "cell_type": "code",
   "execution_count": null,
   "metadata": {},
   "outputs": [],
   "source": [
    "if save_data: saved_files.append(amprabi_3.save_data())"
   ]
  },
  {
   "cell_type": "markdown",
   "metadata": {},
   "source": [
    "### GE $\\pi/2$ error amplification (divide gain)"
   ]
  },
  {
   "cell_type": "code",
   "execution_count": null,
   "metadata": {},
   "outputs": [],
   "source": [
    "divide_len = False"
   ]
  },
  {
   "cell_type": "code",
   "execution_count": null,
   "metadata": {},
   "outputs": [],
   "source": [
    "npulsecalib_gehalf = meas.NPulseExperiment(\n",
    "    soccfg=soc,\n",
    "    path=expt_path,\n",
    "    prefix=f\"NPulseExptQ{qubit_i}\",\n",
    "    config_file=config_path,\n",
    ")\n",
    "\n",
    "npulsecalib_gehalf.cfg = AttrDict(deepcopy(yaml_cfg))\n",
    "npulsecalib_gehalf.cfg.expt = dict(\n",
    "    start=0, # number gate repetitions\n",
    "    step=1,\n",
    "    expts=10,\n",
    "    reps=1000,\n",
    "    loops=20,\n",
    "    pulse_type='gauss',\n",
    "    checkEF=False, \n",
    "    qTest=qubit_i,\n",
    "    qZZ=None,\n",
    "    test_pi_half=True,\n",
    "    divide_len=divide_len,\n",
    "    error_amp=True,\n",
    "\n",
    "    post_process='scale',\n",
    "    singleshot_reps=15000,\n",
    ")\n",
    "\n",
    "print(npulsecalib_gehalf.cfg)\n",
    "import Pyro4.util\n",
    "try:\n",
    "    npulsecalib_gehalf.go(analyze=False, display=False, progress=True, save=False)\n",
    "except Exception:\n",
    "    print(\"Pyro traceback:\")\n",
    "    print(\"\".join(Pyro4.util.getPyroTraceback()))"
   ]
  },
  {
   "cell_type": "code",
   "execution_count": null,
   "metadata": {},
   "outputs": [],
   "source": [
    "# # TESTING\n",
    "# temp_data, attrs = prev_data(expt_path, '00000_voltage_sweep_qubit_spectroscopy_qubit3.h5')\n",
    "# data = lengthrabi.analyze(data=temp_data, fit=True)\n",
    "\n",
    "data = npulsecalib_gehalf.data\n",
    "npulsecalib_gehalf.analyze(fit=True, scale=None)\n",
    "npulsecalib_gehalf.display(fit=True, scale=None)\n",
    "\n",
    "# npulsecalib_gehalf_fit, npulsecalib_gehalf_fit_err = meas.fitting.get_best_fit(npulsecalib_gehalf.data)\n",
    "fit_axis = 'avgi'\n",
    "npulsecalib_gehalf_fit = data['fit_avgi']\n",
    "npulsecalib_gehalf_fit_err = data['fit_err_avgi']\n",
    "\n",
    "angle_err = npulsecalib_gehalf_fit[1]\n",
    "amp_ratio = (90 - angle_err)/90\n",
    "new_amp_half_ge = np.reshape(npulsecalib_gehalf.cfg.device.qubit.pulses.pi_ge.half_gain_pi_sigma, (4,4))[qubit_i, qubit_i] / amp_ratio\n",
    "\n",
    "yaml_cfg.device.qubit.pulses.pi_ge.half_gain_pi_sigma = np.reshape(yaml_cfg.device.qubit.pulses.pi_ge.half_gain_pi_sigma, (4,4))\n",
    "yaml_cfg.device.qubit.pulses.pi_ge.half_gain_pi_sigma[qubit_i, qubit_i] = int(round(new_amp_half_ge))\n",
    "print(f'*Set pi/2 pulse gain for qubit {qubit_i} to {yaml_cfg.device.qubit.pulses.pi_ge.half_gain_pi_sigma[qubit_i, qubit_i]}*')\n",
    "results_Qi.update({'Pi/2 pulse gain':yaml_cfg.device.qubit.pulses.pi_ge.half_gain_pi_sigma[qubit_i, qubit_i]})\n",
    "print(f'*New pi_ge.half_gain_pi_sigma\\n', yaml_cfg.device.qubit.pulses.pi_ge.half_gain_pi_sigma)\n",
    "yaml_cfg.device.qubit.pulses.pi_ge.half_gain_pi_sigma = yaml_cfg.device.qubit.pulses.pi_ge.half_gain_pi_sigma.flatten().astype(int).tolist()\n",
    "print(f'*New pi_ge.half_gain_pi_sigma flattened\\n{yaml_cfg.device.qubit.pulses.pi_ge.half_gain_pi_sigma}')\n",
    "print(results_Qi)"
   ]
  },
  {
   "cell_type": "code",
   "execution_count": null,
   "metadata": {},
   "outputs": [],
   "source": [
    "if save_data: npulsecalib_gehalf.save_data()"
   ]
  },
  {
   "cell_type": "markdown",
   "metadata": {},
   "source": [
    "## Resonator chi shift (g/e)"
   ]
  },
  {
   "cell_type": "code",
   "execution_count": 48,
   "metadata": {},
   "outputs": [
    {
     "data": {
      "application/vnd.jupyter.widget-view+json": {
       "model_id": "4065cce68a34440fb2c7182f86e0dbff",
       "version_major": 2,
       "version_minor": 0
      },
      "text/plain": [
       "  0%|          | 0/151 [00:00<?, ?it/s]"
      ]
     },
     "metadata": {},
     "output_type": "display_data"
    }
   ],
   "source": [
    "rspec_chi = meas.ResonatorSpectroscopyExperiment(\n",
    "    soccfg=soc,\n",
    "    path=expt_path,\n",
    "    prefix=f\"resonator_spectroscopy_chi_qubit{qubit_i}\",\n",
    "    config_file=config_path,\n",
    ")\n",
    "rspec_chi.cfg = AttrDict(deepcopy(yaml_cfg))\n",
    "\n",
    "span = 3 # MHz\n",
    "npts = 151\n",
    "rspec_chi.cfg.expt = dict(\n",
    "    start=rspec_chi.cfg.device.readout.frequency[qubit_i]-span/2, # MHz\n",
    "    # start=rspec_chi.cfg.device.readout.frequency[qubit_i]-rspec_chi.cfg.device.readout.lo_sideband[qubit_i]*span, # MHz\n",
    "    step=span/npts,\n",
    "    expts=npts,\n",
    "    reps=reps*rounds,\n",
    "    pulse_e=True, # add ge pi pulse prior to measurement\n",
    "    pulse_f=False, # add ef pi pulse prior to measurement\n",
    "    qTest=qubit_i,\n",
    "    qZZ=None,\n",
    ")\n",
    "# rspec_chi.cfg.device.readout.relax_delay = 100 # Wait time between experiments [us]\n",
    "rspec_chi.go(analyze=False, display=False, progress=True, save=False)"
   ]
  },
  {
   "cell_type": "code",
   "execution_count": 49,
   "metadata": {},
   "outputs": [
    {
     "name": "stdout",
     "output_type": "stream",
     "text": [
      "electrical delay phase correction (no mux support) (deg) -2.1588386957738654\n",
      "[6810.001732891833, 34050.008664459165, 34050.008664459165, 0, -0.016333403261965782, 0]\n",
      "Attempted to init fitparam 5 to 0, which is out of bounds 0 to 1.0268312442928198. Instead init to 0.5134156221464099\n",
      "[ 6.80883614e+03  1.12570048e+04  7.66185445e+04  9.00386142e-01\n",
      " -2.07051866e-03  1.07270228e-15]\n",
      "\n",
      "Freq with minimum transmission: -390.87243929359823\n",
      "Freq with maximum transmission: -391.48833333333334\n",
      "From fit:\n",
      "\tf0: 6808.836137928566\n",
      "\tQi: 11257.00481102775 \t kappa_i/2pi: 0.6048532671193669\n",
      "\tQe: 76618.54445779017 \t kappa_e/2pi: 0.08886668607597491\n",
      "\tQ0: 9814.96367023379\n",
      "\tkappa [MHz]: 0.6937199531953419\n",
      "\tphi [radians]: 0.9003861416400541\n",
      "baseline 800.7984648268726\n",
      "Res freq e -390.8525717439294\n",
      "Res freq g -389.98833333333334\n",
      "Chi shift (e-g): -0.8642384105960446\n",
      "qubit 0 {'T1': 64.05955000251987, 'T1 err': 1.119240285515182, 'T2R': 18.248886781332068, 'T2R err': 0.7816516069106116, 'Qubit freq': 4111.122260451728, 'T2E': 56.36959417286505, 'T2E err': 1.4283912853884384, 'Res freq': 6810.011666666666, 'Res freq (yaml)': -389.98833333333334, 'Res kappa': 0.2735895597906132, 'Res chi shift (e - g)': -0.8642384105960446}\n"
     ]
    }
   ],
   "source": [
    "# # TESTING\n",
    "# # rspec_chi = meas.ResonatorSpectroscopyExperiment(config_file=config_path,) \n",
    "# temp_data, attrs = prev_data(expt_path, '00001_resonator_spectroscopy_qubit2.h5')\n",
    "# rspec_chi.data = temp_data\n",
    "\n",
    "rspec_chi.data = rspec_chi.analyze(fit=True)\n",
    "rspec_chi_fit = rspec_chi.data['fit']\n",
    "if not isinstance(rspec_chi_fit, (list, np.ndarray)):\n",
    "    rspec_chi.display(fit=False)\n",
    "    assert False, 'Fit failed, please manually fix!'\n",
    "rspec_chi.display(fit=True)\n",
    "# res_freq_e = rspec_chi_fit[0] - yaml_cfg.hw.soc.dacs.readout.mixer_freq[qubit_i]\n",
    "res_freq_e = rspec_chi.data['xpts'][np.argmin(rspec_chi.data['amps'])]\n",
    "# res_freq_e = rspec_chi.data['xpts'][np.argmax(rspec_chi.data['amps'])]\n",
    "print('Res freq e', res_freq_e)\n",
    "res_freq_g = yaml_cfg.device.readout.frequency[qubit_i]\n",
    "print('Res freq g', res_freq_g)\n",
    "# res_freq_e = -83\n",
    "# results_Qi.update({'Res chi shift (e - g)': yaml_cfg.device.readout.lo_sideband[qubit_i]*(res_freq_e - yaml_cfg.device.readout.frequency[qubit_i])})\n",
    "chi_shift_eg = yaml_cfg.device.readout.lo_sideband[qubit_i]*(res_freq_e - res_freq_g)\n",
    "print('Chi shift (e-g):', chi_shift_eg)\n",
    "results_Qi.update({'Res chi shift (e - g)': chi_shift_eg})\n",
    "# res_freq_e = 6953.5\n",
    "# results_Qi.update({'Res chi shift (e - g)': res_freq_e - (5925 + yaml_cfg.device.readout.lo_sideband[qubit_i]*(yaml_cfg.hw.soc.dacs.readout.mixer_freq + yaml_cfg.device.readout.frequency[qubit_i]))})\n",
    "print(f'qubit {qubit_i}', results_Qi)"
   ]
  },
  {
   "cell_type": "code",
   "execution_count": 49,
   "metadata": {},
   "outputs": [],
   "source": [
    "if save_data: saved_files.append(rspec_chi.save_data())"
   ]
  },
  {
   "cell_type": "markdown",
   "metadata": {},
   "source": [
    "# Qubit ef spectroscopy"
   ]
  },
  {
   "cell_type": "markdown",
   "metadata": {},
   "source": [
    "## Pulse Probe EF spectroscopy"
   ]
  },
  {
   "cell_type": "code",
   "execution_count": 32,
   "metadata": {},
   "outputs": [
    {
     "name": "stdout",
     "output_type": "stream",
     "text": [
      "Running pulse probe EF on Q3 \n"
     ]
    },
    {
     "data": {
      "application/vnd.jupyter.widget-view+json": {
       "model_id": "574124b4bc39490bb961689418b9e07e",
       "version_major": 2,
       "version_minor": 0
      },
      "text/plain": [
       "  0%|          | 0/10 [00:00<?, ?it/s]"
      ]
     },
     "metadata": {},
     "output_type": "display_data"
    }
   ],
   "source": [
    "qEFspec = meas.PulseProbeSpectroscopyExperiment(\n",
    "    soccfg=soc,\n",
    "    path=expt_path,\n",
    "    prefix=f\"qubit_EF_spectroscopy_qubit{qubit_i}\",\n",
    "    config_file=config_path,\n",
    ")\n",
    "qEFspec.cfg = AttrDict(deepcopy(yaml_cfg))\n",
    "\n",
    "span = 50\n",
    "npts = 250\n",
    "\n",
    "qEFspec.cfg.expt = dict(\n",
    "    start=np.reshape(yaml_cfg.device.qubit.f_ef, (4,4))[qubit_i,qubit_i]-0.5*span, # resonator frequency to be mixed up [MHz]\n",
    "    step=span/npts, # min step ~1 Hz\n",
    "    expts=npts, # Number of experiments stepping from start\n",
    "    reps=reps, # Number of averages per point\n",
    "    rounds=rounds, # Number of start to finish sweeps to average over\n",
    "    length=1, # ef probe constant pulse length [us]\n",
    "    gain=int(np.reshape(yaml_cfg.device.qubit.pulses.pi_ef.gain, (4,4))[qubit_i, qubit_i]/50), # ef pulse gain\n",
    "    # gain=5000,\n",
    "    pulse_type='gauss',\n",
    "    qTest=qubit_i,\n",
    "    qZZ=None,\n",
    "    checkEF=True,\n",
    ")\n",
    "# qEFspec.cfg.device.readout.relax_delay = qEFspec.cfg.device.qubit.T1[qubit_i] # Wait time between experiments [us]\n",
    "qEFspec.go(analyze=False, display=False, progress=True, save=False)"
   ]
  },
  {
   "cell_type": "code",
   "execution_count": 33,
   "metadata": {},
   "outputs": [
    {
     "name": "stdout",
     "output_type": "stream",
     "text": [
      "Found peak in amps at [MHz] 4208.640414461112, HWHM 1.769695788060476\n",
      "Found peak in I at [MHz] 4208.6412131041925, HWHM 1.7779817638956872\n",
      "Found peak in Q at [MHz] 4208.4474152777675, HWHM 1.3649681847859378\n",
      "best 1 0.042699123985299584\n",
      "*Set qubit 3 f_ef to 4208.6412131041925*\n",
      "{'T1': 52.3580045090926, 'T1 err': 1.6646251872930162, 'T2R': 25.602583027942746, 'T2R err': 1.5551254720790846, 'Qubit freq': 4381.109690194443, 'Pi pulse gain': 935, 'T2E': 27.649964593090505, 'T2E err': 1.1781089735321566, 'Res chi shift (e - g)': -0.009933774834678388, 'Qubit EF freq': 4208.6412131041925}\n"
     ]
    }
   ],
   "source": [
    "# # TESTING\n",
    "# temp_data, attrs = prev_data(expt_path, '00000_voltage_sweep_qubit_spectroscopy_qubit3.h5')\n",
    "# data = qEFspec.analyze(data=temp_data, fit=True)\n",
    "\n",
    "best_signs = [1, 0, 0]\n",
    "best_fit_err_i = np.inf\n",
    "best_fit_err_q = np.inf\n",
    "for sign in [1, -1]:\n",
    "    try: \n",
    "        qEFspec.analyze(fit=True, signs=[1, sign, sign])\n",
    "        fit_err_i = qEFspec.data['fit_err_avgi'][2][2]\n",
    "        fit_err_q = qEFspec.data['fit_err_avgq'][2][2]\n",
    "        if fit_err_i < best_fit_err_i:\n",
    "            best_signs[1] = sign\n",
    "            best_fit_err_i = fit_err_i\n",
    "        if fit_err_q < best_fit_err_q:\n",
    "            best_signs[2] = sign\n",
    "            best_fit_err_q = fit_err_q\n",
    "    except: continue\n",
    "if best_fit_err_i == np.inf and best_fit_err_q == np.inf:\n",
    "    qEFspec.display(fit=False)\n",
    "    assert False, 'Fit failed, please manually fix!'\n",
    "\n",
    "qEFspec.analyze(fit=True, signs=best_signs)\n",
    "qEFspec.display(fit=True, signs=best_signs)\n",
    "\n",
    "qEFspec_fit, qEFspec_fit_err = meas.fitting.get_best_fit(qEFspec.data)\n",
    "yaml_cfg.device.qubit.f_ef = np.reshape(yaml_cfg.device.qubit.f_ef, (4,4))\n",
    "yaml_cfg.device.qubit.f_ef[qubit_i, qubit_i] = qEFspec_fit[2]\n",
    "print(f'*Set qubit {qubit_i} f_ef to {yaml_cfg.device.qubit.f_ef[qubit_i, qubit_i]}*')\n",
    "results_Qi.update({'Qubit EF freq':yaml_cfg.device.qubit.f_ef[qubit_i, qubit_i] + yaml_cfg.hw.soc.dacs.qubit.mixer_freq[qubit_i]})\n",
    "yaml_cfg.device.qubit.f_ef = yaml_cfg.device.qubit.f_ef.flatten().tolist()\n",
    "print(results_Qi)"
   ]
  },
  {
   "cell_type": "code",
   "execution_count": 107,
   "metadata": {},
   "outputs": [],
   "source": [
    "if save_data: saved_files.append(qEFspec.save_data())"
   ]
  },
  {
   "cell_type": "markdown",
   "metadata": {},
   "source": [
    "## Pulse Probe EF spectroscopy round 2"
   ]
  },
  {
   "cell_type": "code",
   "execution_count": 34,
   "metadata": {},
   "outputs": [
    {
     "name": "stdout",
     "output_type": "stream",
     "text": [
      "Running pulse probe EF on Q3 \n"
     ]
    },
    {
     "data": {
      "application/vnd.jupyter.widget-view+json": {
       "model_id": "156dd18b53f24a76acb402a57fd587d1",
       "version_major": 2,
       "version_minor": 0
      },
      "text/plain": [
       "  0%|          | 0/10 [00:00<?, ?it/s]"
      ]
     },
     "metadata": {},
     "output_type": "display_data"
    }
   ],
   "source": [
    "qEFspec2 = meas.PulseProbeSpectroscopyExperiment(\n",
    "    soccfg=soc,\n",
    "    path=expt_path,\n",
    "    prefix=f\"qubit_EF_spectroscopy_qubit{qubit_i}\",\n",
    "    config_file=config_path,\n",
    ")\n",
    "qEFspec2.cfg = AttrDict(deepcopy(yaml_cfg))\n",
    "\n",
    "span = 15\n",
    "npts = 250\n",
    "\n",
    "qEFspec2.cfg.expt = dict(\n",
    "    start=np.reshape(yaml_cfg.device.qubit.f_ef, (4,4))[qubit_i,qubit_i]-0.5*span, # resonator frequency to be mixed up [MHz]\n",
    "    step=span/npts, # min step ~1 Hz\n",
    "    expts=npts, # Number of experiments stepping from start\n",
    "    reps=reps, # Number of averages per point\n",
    "    rounds=rounds, # Number of start to finish sweeps to average over\n",
    "    length=1, # ef probe constant pulse length [us]\n",
    "    gain=int(np.reshape(yaml_cfg.device.qubit.pulses.pi_ef.gain, (4,4))[qubit_i, qubit_i]/80), # ef pulse gain\n",
    "    pulse_type='gauss',\n",
    "    qTest=qubit_i,\n",
    "    qZZ=None,\n",
    "    checkEF=True,\n",
    ")\n",
    "qEFspec2.go(analyze=False, display=False, progress=True, save=False)"
   ]
  },
  {
   "cell_type": "code",
   "execution_count": 35,
   "metadata": {},
   "outputs": [
    {
     "name": "stdout",
     "output_type": "stream",
     "text": [
      "Found peak in amps at [MHz] 4208.845439952777, HWHM 0.7411164792727137\n",
      "Found peak in I at [MHz] 4208.845449298409, HWHM 0.7461517092695102\n",
      "Found peak in Q at [MHz] 4208.805250551362, HWHM 0.5165292240166288\n",
      "best 0 0.03135604252512325\n",
      "*Set qubit 3 f_ef to 4208.845439952777*\n",
      "{'T1': 52.3580045090926, 'T1 err': 1.6646251872930162, 'T2R': 25.602583027942746, 'T2R err': 1.5551254720790846, 'Qubit freq': 4381.109690194443, 'Pi pulse gain': 935, 'T2E': 27.649964593090505, 'T2E err': 1.1781089735321566, 'Res chi shift (e - g)': -0.009933774834678388, 'Qubit EF freq': 4208.845439952777}\n"
     ]
    }
   ],
   "source": [
    "# # TESTING\n",
    "# temp_data, attrs = prev_data(expt_path, '00000_voltage_sweep_qubit_spectroscopy_qubit3.h5')\n",
    "# data = qEFspec2.analyze(data=temp_data, fit=True)\n",
    "\n",
    "best_signs = [1, 0, 0]\n",
    "best_fit_err_i = np.inf\n",
    "best_fit_err_q = np.inf\n",
    "for sign in [1, -1]:\n",
    "    qEFspec2.analyze(fit=True, signs=[1, sign, sign])\n",
    "    fit_err_i = qEFspec2.data['fit_err_avgi'][2][2]\n",
    "    fit_err_q = qEFspec2.data['fit_err_avgq'][2][2]\n",
    "    if fit_err_i < best_fit_err_i:\n",
    "        best_signs[1] = sign\n",
    "        best_fit_err_i = fit_err_i\n",
    "    if fit_err_q < best_fit_err_q:\n",
    "        best_signs[2] = sign\n",
    "        best_fit_err_q = fit_err_q\n",
    "    # except: continue\n",
    "if best_fit_err_i == np.inf and best_fit_err_q == np.inf:\n",
    "    qEFspec2.display(fit=False)\n",
    "    assert False, 'Fit failed, please manually fix!'\n",
    "\n",
    "qEFspec2.analyze(fit=True, signs=best_signs)\n",
    "qEFspec2.display(fit=True, signs=best_signs)\n",
    "\n",
    "qEFspec2_fit, qEFspec2_fit_err = meas.fitting.get_best_fit(qEFspec2.data)\n",
    "yaml_cfg.device.qubit.f_ef = np.reshape(yaml_cfg.device.qubit.f_ef, (4,4))\n",
    "yaml_cfg.device.qubit.f_ef[qubit_i, qubit_i] = qEFspec2_fit[2]\n",
    "qubit_hwhm = qEFspec2_fit[3]\n",
    "print(f'*Set qubit {qubit_i} f_ef to {yaml_cfg.device.qubit.f_ef[qubit_i, qubit_i]}*')\n",
    "results_Qi.update({'Qubit EF freq':yaml_cfg.device.qubit.f_ef[qubit_i, qubit_i] + yaml_cfg.hw.soc.dacs.qubit.mixer_freq[qubit_i]})\n",
    "yaml_cfg.device.qubit.f_ef = yaml_cfg.device.qubit.f_ef.flatten().tolist()\n",
    "print(results_Qi)"
   ]
  },
  {
   "cell_type": "code",
   "execution_count": 110,
   "metadata": {},
   "outputs": [],
   "source": [
    "if save_data: saved_files.append(qEFspec2.save_data())"
   ]
  },
  {
   "cell_type": "markdown",
   "metadata": {},
   "source": [
    "## Amplitude EF Rabi\n",
    "\n",
    "The EF pi pulse amplitude should be stored in <code>cfg.device.qubit.pulses.pi_ef.gain</code>."
   ]
  },
  {
   "cell_type": "code",
   "execution_count": 36,
   "metadata": {},
   "outputs": [
    {
     "name": "stdout",
     "output_type": "stream",
     "text": [
      "qubit 3 pi_lenEF 0.03\n"
     ]
    }
   ],
   "source": [
    "pi_lenEF = np.reshape(yaml_cfg.device.qubit.pulses.pi_ef.sigma, (4,4))[qubit_i, qubit_i]\n",
    "# pi_lenEF = 0.025\n",
    "print('qubit', qubit_i, 'pi_lenEF', pi_lenEF)"
   ]
  },
  {
   "cell_type": "code",
   "execution_count": 37,
   "metadata": {},
   "outputs": [
    {
     "name": "stdout",
     "output_type": "stream",
     "text": [
      "Running amp rabi EF on Q3 \n"
     ]
    },
    {
     "data": {
      "application/vnd.jupyter.widget-view+json": {
       "model_id": "bd8dd6e721f743ab81fe9a73aa036905",
       "version_major": 2,
       "version_minor": 0
      },
      "text/plain": [
       "  0%|          | 0/101000 [00:00<?, ?it/s]"
      ]
     },
     "metadata": {},
     "output_type": "display_data"
    }
   ],
   "source": [
    "amprabiEF = meas.AmplitudeRabiExperiment(\n",
    "    soccfg=soc,\n",
    "    path=expt_path,\n",
    "    prefix=\"amp_rabi_EF\"+f\"_qubit{qubit_i}\",\n",
    "    config_file=config_path,\n",
    ")\n",
    "\n",
    "amprabiEF.cfg = AttrDict(deepcopy(yaml_cfg))\n",
    "\n",
    "span = min((32000, int(1.5*np.reshape(yaml_cfg.device.qubit.pulses.pi_ef.gain, (4,4))[qubit_i, qubit_i])))\n",
    "npts = 101\n",
    "\n",
    "amprabiEF.cfg.expt = dict(\n",
    "    start=1, # qubit gain [dac level]\n",
    "    step=int(span/npts), # [dac level]\n",
    "    expts=npts,\n",
    "    reps=reps*rounds,\n",
    "    rounds=1,\n",
    "    sigma_test=pi_lenEF, # gaussian sigma for pulse length - default from cfg [us]\n",
    "    pulse_type='gauss',\n",
    "    checkEF=True,\n",
    "    qTest=qubit_i,\n",
    "    qZZ=None,\n",
    "\n",
    "    readout_cool=False,\n",
    "    # n_init_readout=1,\n",
    "    # n_trig=2,\n",
    "    # init_read_wait_us=5,\n",
    "    # singleshot_reps=20000,\n",
    "    # use_gf_readout=True,\n",
    ")\n",
    "\n",
    "# print(amprabiEF.cfg)\n",
    "amprabiEF.go(analyze=False, display=False, progress=True, save=False)"
   ]
  },
  {
   "cell_type": "code",
   "execution_count": 38,
   "metadata": {},
   "outputs": [
    {
     "name": "stdout",
     "output_type": "stream",
     "text": [
      "best 0 0.025345493401204965\n",
      "Pi gain from amps data [dac units]: 509\n",
      "\tPi/2 gain from amps data [dac units]: 254\n",
      "Pi gain from avgi data [dac units]: 508\n",
      "\tPi/2 gain from avgi data [dac units]: 254\n",
      "Pi gain from avgq data [dac units]: 1464\n",
      "\tPi/2 gain from avgq data [dac units]: 732\n"
     ]
    }
   ],
   "source": [
    "# TESTING\n",
    "# amprabiEF = meas.AmplitudeRabiExperiment(config_file=config_path,)\n",
    "# temp_data, attrs = prev_data(expt_path, '00000_amp_rabi_EF_qubit1.h5')\n",
    "# amprabiEF.data = temp_data\n",
    "\n",
    "# amprabiEF.analyze(fit=False)\n",
    "# amprabiEF.display(fit=False)\n",
    "\n",
    "amprabiEF.analyze(fit=True, post_select=False)\n",
    "\n",
    "amprabiEF_fit, amprabiEF_fit_err = meas.fitting.get_best_fit(amprabiEF.data)\n",
    "\n",
    "p = amprabiEF_fit\n",
    "\n",
    "if p[2] > 180: p[2] = p[2] - 360\n",
    "elif p[2] < -180: p[2] = p[2] + 360\n",
    "if p[2] < 0: pi_gain = (1/2 - p[2]/180)/2/p[1]\n",
    "else: pi_gain = (3/2 - p[2]/180)/2/p[1]\n",
    "\n",
    "if pi_gain > 32000:\n",
    "    amprabiEF.display(fit=False)\n",
    "    print('WARNING: Fit pi pulse gain is long, please double check!')\n",
    "    pi_gain = 30000\n",
    "else: amprabiEF.display(fit=True)\n"
   ]
  },
  {
   "cell_type": "code",
   "execution_count": 39,
   "metadata": {},
   "outputs": [
    {
     "name": "stdout",
     "output_type": "stream",
     "text": [
      "*Set EF pi pulse sigma for qubit 3 to 0.03*\n",
      "*Set EF pi pulse gain for qubit 3 to 509*\n",
      "*New pi_ef.gain\n",
      " [[ 1280     0     0     0]\n",
      " [    0  1912     0     0]\n",
      " [10000 10079 10015     0]\n",
      " [  734   718     0   509]]\n",
      "*New pi_ef.gain flattened\n",
      "[1280, 0, 0, 0, 0, 1912, 0, 0, 10000, 10079, 10015, 0, 734, 718, 0, 509]\n",
      "{'T1': 52.3580045090926, 'T1 err': 1.6646251872930162, 'T2R': 25.602583027942746, 'T2R err': 1.5551254720790846, 'Qubit freq': 4381.109690194443, 'Pi pulse gain': 935, 'T2E': 27.649964593090505, 'T2E err': 1.1781089735321566, 'Res chi shift (e - g)': -0.009933774834678388, 'Qubit EF freq': 4208.845439952777, 'Pi EF pulse gain': 509}\n"
     ]
    }
   ],
   "source": [
    "print(f'*Set EF pi pulse sigma for qubit {qubit_i} to {np.reshape(yaml_cfg.device.qubit.pulses.pi_ef.sigma, (4,4))[qubit_i, qubit_i]}*')\n",
    "yaml_cfg.device.qubit.pulses.pi_ef.gain = np.reshape(yaml_cfg.device.qubit.pulses.pi_ef.gain, (4,4))\n",
    "yaml_cfg.device.qubit.pulses.pi_ef.gain[qubit_i, qubit_i] = int(pi_gain)\n",
    "print(f'*Set EF pi pulse gain for qubit {qubit_i} to {yaml_cfg.device.qubit.pulses.pi_ef.gain[qubit_i, qubit_i]}*')\n",
    "results_Qi.update({'Pi EF pulse gain':yaml_cfg.device.qubit.pulses.pi_ef.gain[qubit_i, qubit_i]})\n",
    "print(f'*New pi_ef.gain\\n', yaml_cfg.device.qubit.pulses.pi_ef.gain)\n",
    "yaml_cfg.device.qubit.pulses.pi_ef.gain = yaml_cfg.device.qubit.pulses.pi_ef.gain.flatten().astype(int).tolist()\n",
    "print(f'*New pi_ef.gain flattened\\n{yaml_cfg.device.qubit.pulses.pi_ef.gain}')\n",
    "print(results_Qi)"
   ]
  },
  {
   "cell_type": "code",
   "execution_count": 115,
   "metadata": {},
   "outputs": [],
   "source": [
    "if save_data: saved_files.append(amprabiEF.save_data())"
   ]
  },
  {
   "cell_type": "markdown",
   "metadata": {},
   "source": [
    "## Length EF Rabi"
   ]
  },
  {
   "cell_type": "code",
   "execution_count": null,
   "metadata": {},
   "outputs": [],
   "source": [
    "lengthrabiEF = meas.LengthRabiExperiment(\n",
    "    soccfg=soc,\n",
    "    path=expt_path,\n",
    "    prefix=f\"length_rabiEF_qubit{qubit_i}\",\n",
    "    config_file=config_path,\n",
    ")\n",
    "lengthrabiEF.cfg = AttrDict(deepcopy(yaml_cfg))\n",
    "\n",
    "lengthrabiEF.cfg.expt = dict(\n",
    "    start=soc.cycles2us(0), # pulse length (sigma) [us]\n",
    "    step=soc.cycles2us(1), # [us]\n",
    "    expts=121,\n",
    "    reps=reps*rounds,\n",
    "    pulse_type='gauss',\n",
    "    checkEF=True, \n",
    "    qTest=qubit_i,\n",
    "    qZZ=None,\n",
    ")\n",
    "# lengthrabiEF.cfg.device.readout.relax_delay = 50 # Wait time between experiments [us]\n",
    "\n",
    "import Pyro4.util\n",
    "try:\n",
    "    lengthrabiEF.go(analyze=False, display=False, progress=True, save=False)\n",
    "except Exception:\n",
    "    print(\"Pyro traceback:\")\n",
    "    print(\"\".join(Pyro4.util.getPyroTraceback()))"
   ]
  },
  {
   "cell_type": "code",
   "execution_count": null,
   "metadata": {},
   "outputs": [],
   "source": [
    "# # TESTING\n",
    "# # lengthrabiEF = meas.AmplitudeRabiExperiment(config_file=config_path,)\n",
    "# temp_data, attrs = prev_data(expt_path, '00000_amp_rabi_qubit0.h5')\n",
    "# lengthrabiEF.data = temp_data\n",
    "\n",
    "lengthrabiEF.analyze(fit=True, fit_func='sin')\n",
    "\n",
    "lengthrabiEF_fit, lengthrabiEF_fit_err = meas.fitting.get_best_fit(lengthrabiEF.data) #, fitfunc=fitter.decaysin)\n",
    "\n",
    "lengthrabiEF.display(fit=False, fit_func='sin')\n",
    "# p = lengthrabiEF_fit\n",
    "# if p[2] > 180: p[2] = p[2] - 360\n",
    "# elif p[2] < -180: p[2] = p[2] + 360\n",
    "# if p[2] < 0: pi_lenEF = (1/2 - p[2]/180)/2/p[1]\n",
    "# else: pi_lenEF = (3/2 - p[2]/180)/2/p[1]\n",
    "# pi_lenEF = np.max((0.9*pi_lenEF, 0.015)) # since we run the length rabi at a < max gain\n",
    "\n",
    "# lengthrabiEF_decay = p[3]\n",
    "\n",
    "# print(f'Will use sigma {pi_lenEF} for amplitude rabi EF')"
   ]
  },
  {
   "cell_type": "code",
   "execution_count": null,
   "metadata": {},
   "outputs": [],
   "source": [
    "if save_data: saved_files.append(lengthrabiEF.save_data())"
   ]
  },
  {
   "cell_type": "markdown",
   "metadata": {},
   "source": [
    "## Qubit temperature"
   ]
  },
  {
   "cell_type": "code",
   "execution_count": 40,
   "metadata": {},
   "outputs": [
    {
     "name": "stdout",
     "output_type": "stream",
     "text": [
      "reps 500 rounds 200\n",
      "Running amp rabi EF on Q3 \n"
     ]
    },
    {
     "data": {
      "application/vnd.jupyter.widget-view+json": {
       "model_id": "6517c7802a134aaa8769b448120cba48",
       "version_major": 2,
       "version_minor": 0
      },
      "text/plain": [
       "  0%|          | 0/200000 [00:00<?, ?it/s]"
      ]
     },
     "metadata": {},
     "output_type": "display_data"
    }
   ],
   "source": [
    "amprabiEF2 = meas.AmplitudeRabiExperiment(\n",
    "    soccfg=soc,\n",
    "    path=expt_path,\n",
    "    prefix=\"amp_rabi_EF\"+f\"_qubit{qubit_i}\",\n",
    "    config_file=config_path,\n",
    ")\n",
    "\n",
    "amprabiEF2.cfg = AttrDict(deepcopy(yaml_cfg))\n",
    "\n",
    "reps_temp=500\n",
    "rounds_temp=reps*rounds*100//500\n",
    "\n",
    "# reps_temp = 10\n",
    "# rounds_temp = 10\n",
    "print('reps', reps_temp, 'rounds', rounds_temp)\n",
    "\n",
    "amprabiEF2.cfg.expt = dict(\n",
    "    start=0, # qubit gain [dac level]\n",
    "    step=np.reshape(amprabiEF2.cfg.device.qubit.pulses.pi_ef.gain, (4,4))[qubit_i, qubit_i], # [dac level]\n",
    "    expts=2,\n",
    "    reps=reps_temp*rounds_temp,\n",
    "    rounds=1,\n",
    "    sigma_test=pi_lenEF, # gaussian sigma for pulse length - default from cfg [us]\n",
    "    pulse_ge=False, # set to false when measuring qubit temp\n",
    "    pulse_type='gauss',\n",
    "    checkEF=True, \n",
    "    qTest=qubit_i,\n",
    "    qZZ=None,\n",
    "\n",
    "    readout_cool=False,\n",
    "    # readout_cool=True,\n",
    "    # n_init_readout=1,\n",
    "    # n_trig=2,\n",
    "    # init_read_wait_us=5,\n",
    "    # singleshot_reps=20000,\n",
    "    \n",
    "    # use_gf_readout=True,\n",
    ")\n",
    "\n",
    "# print(amprabiEF2.cfg)\n",
    "amprabiEF2.go(analyze=False, display=False, progress=True, save=False)"
   ]
  },
  {
   "cell_type": "code",
   "execution_count": 41,
   "metadata": {},
   "outputs": [],
   "source": [
    "post_select = False\n",
    "# post_select = True\n",
    "ps_threshold = None\n",
    "# ps_threshold = 450"
   ]
  },
  {
   "cell_type": "code",
   "execution_count": 42,
   "metadata": {},
   "outputs": [
    {
     "name": "stdout",
     "output_type": "stream",
     "text": [
      "yscale normal: 133.1219802516982\n",
      "yscale no pulse: 7.831257853722775\n",
      "qubit 3\n",
      "Qubit temp [mK]: 72.74668238714514\n",
      "Qubit E thermal population (%): 5.88276844959484\n",
      "{'T1': 52.3580045090926, 'T1 err': 1.6646251872930162, 'T2R': 25.602583027942746, 'T2R err': 1.5551254720790846, 'Qubit freq': 4381.109690194443, 'Pi pulse gain': 935, 'T2E': 27.649964593090505, 'T2E err': 1.1781089735321566, 'Res chi shift (e - g)': -0.009933774834678388, 'Qubit EF freq': 4208.845439952777, 'Pi EF pulse gain': 509, 'Qubit temp [mK]': 72.74668238714514, 'Qubit E thermal population (%)': 5.88276844959484}\n"
     ]
    }
   ],
   "source": [
    "# TESTING\n",
    "# amprabiEF_test = meas.AmplitudeRabiExperiment(config_file=config_path,)\n",
    "# amprabiEF2 = meas.AmplitudeRabiExperiment(config_file=config_path,)\n",
    "# temp_data, attrs = prev_data(expt_path, '00004_amp_rabi_EF_qubit1.h5')\n",
    "# amprabiEF2.data = temp_data\n",
    "\n",
    "# amprabiEF2.analyze(fit=False)\n",
    "# amprabiEF2.display(fit=False)\n",
    "\n",
    "# fitparams = [None]*4\n",
    "# fitparams[1] = 2/amprabiEF2.data['xpts'][-1]\n",
    "\n",
    "# amprabiEF2_fit, amprabiEF2_fit_err = meas.fitting.get_best_fit(amprabiEF2.data)\n",
    "\n",
    "# NATURAL CONSTANTS\n",
    "h = 6.62607015e-34\n",
    "fge = 1e6*(np.reshape(amprabiEF2.cfg.device.qubit.f_ge, (4,4))[qubit_i, qubit_i] + amprabiEF2.cfg.hw.soc.dacs.qubit.mixer_freq[qubit_i])\n",
    "kB = 1.380649e-23\n",
    "################\n",
    "\n",
    "fit_axis = 'amps'\n",
    "# fit_axis = 'avgi' if post_select else 'amps'\n",
    "\n",
    "amprabiEF.analyze(fit=False, post_select=post_select, ps_threshold=ps_threshold)\n",
    "amprabiEF_data = amprabiEF.data[fit_axis]\n",
    "# amprabiEF2_data = (amprabiEF2.data[fit_axis] + temp_data[fit_axis])/2\n",
    "# p = amprabiEF.data[f'fit_{fit_axis}']\n",
    "# efamp_normal = p[0]\n",
    "efamp_normal = (max(amprabiEF.data[fit_axis]) - min(amprabiEF.data[fit_axis]))\n",
    "\n",
    "amprabiEF2.analyze(fit=False, post_select=post_select, ps_threshold=ps_threshold)\n",
    "amprabiEF2_data = amprabiEF2.data[fit_axis]\n",
    "# p = amprabiEF2.data[f'fit_{fit_axis}']\n",
    "# efamp_nopulse = p[0]\n",
    "# fit_vals = meas.fitting.sinfunc(amprabiEF.data['xpts'], *p)\n",
    "# std_dev_no_pulse = np.std(fit_vals[:10])\n",
    "# efamp_nopulse = (max(fit_vals) - min(fit_vals))-2*std_dev_no_pulse\n",
    "efamp_nopulse = (max(amprabiEF2.data[fit_axis]) - min(amprabiEF2.data[fit_axis]))\n",
    "\n",
    "# amprabiEF2.display(fit=True, fit_func='sin')\n",
    "\n",
    "print('yscale normal:', efamp_normal)\n",
    "print('yscale no pulse:', efamp_nopulse)\n",
    "\n",
    "temp = 1e3*-h*fge/(kB*np.log(efamp_nopulse/(efamp_normal+efamp_nopulse)))\n",
    "\n",
    "print(f'qubit {qubit_i}')\n",
    "print('Qubit temp [mK]:', temp)\n",
    "results_Qi.update({'Qubit temp [mK]':temp})\n",
    "print('Qubit E thermal population (%):', efamp_nopulse/efamp_normal*100)\n",
    "\n",
    "amprabiEF2.display(fit=False)\n",
    "results_Qi.update({'Qubit E thermal population (%)':efamp_nopulse/efamp_normal*100})\n",
    "print(results_Qi)"
   ]
  },
  {
   "cell_type": "code",
   "execution_count": 64,
   "metadata": {},
   "outputs": [],
   "source": [
    "if save_data: saved_files.append(amprabiEF2.save_data())"
   ]
  },
  {
   "cell_type": "markdown",
   "metadata": {},
   "source": [
    "## EF Ramsey Fringe\n",
    "Update the ef frequency in <code>cfg.qubit.f_ef</code>."
   ]
  },
  {
   "cell_type": "code",
   "execution_count": 67,
   "metadata": {},
   "outputs": [],
   "source": [
    "qubitEF_hwhm = 2\n",
    "# short_T1 = False"
   ]
  },
  {
   "cell_type": "code",
   "execution_count": 68,
   "metadata": {},
   "outputs": [
    {
     "name": "stdout",
     "output_type": "stream",
     "text": [
      "Running Ramsey EF on Q2 \n"
     ]
    },
    {
     "data": {
      "application/vnd.jupyter.widget-view+json": {
       "model_id": "dc54b89ef2bb47769bdbb2579b1a52ac",
       "version_major": 2,
       "version_minor": 0
      },
      "text/plain": [
       "  0%|          | 0/10 [00:00<?, ?it/s]"
      ]
     },
     "metadata": {},
     "output_type": "display_data"
    }
   ],
   "source": [
    "ramseyEF_freq = max((min((np.abs(np.ceil(qubitEF_hwhm)), 3)), 2))\n",
    "\n",
    "t2EFr = meas.RamseyExperiment(\n",
    "    soccfg=soc,\n",
    "    path=expt_path,\n",
    "    prefix=\"ramseyEF\"+f\"_qubit{qubit_i}\",\n",
    "    config_file=config_path,\n",
    ")\n",
    "\n",
    "t2EFr.cfg = AttrDict(deepcopy(yaml_cfg))\n",
    "\n",
    "t2EFr.cfg.expt = dict(\n",
    "    start=0, # wait time tau [us]\n",
    "    step=soc.cycles2us(10), # [us] make sure nyquist freq = 0.5 * (1/step) > ramsey (signal) freq!\n",
    "    # step=0.05, # [us]\n",
    "    expts=151,\n",
    "    ramsey_freq=ramseyEF_freq, # [MHz]\n",
    "    checkEF=True,\n",
    "    reps=reps,\n",
    "    rounds=rounds,\n",
    "    qTest=qubit_i,\n",
    "    qZZ=None,\n",
    ")\n",
    "\n",
    "try:\n",
    "    t2EFr.go(analyze=False, display=False, progress=True, save=False)\n",
    "except Exception:\n",
    "    print(\"Pyro traceback:\")\n",
    "    print(\"\".join(Pyro4.util.getPyroTraceback()))"
   ]
  },
  {
   "cell_type": "code",
   "execution_count": 69,
   "metadata": {},
   "outputs": [
    {
     "name": "stdout",
     "output_type": "stream",
     "text": [
      "best 2 0.03756389571370712\n",
      "Current pi pulse frequency: 4572.9368263382785\n",
      "Fit frequency from amps [MHz]: 1.8773201153500298 +/- 0.0018501903904312882\n",
      "Suggested new pi pulse frequencies from fit amps [MHz]:\n",
      " \t4573.059506222929\n",
      " \t4569.059506222929\n",
      "T2 Ramsey from fit amps [us]: 23.897974500417465 +/- 6.476811221119381\n",
      "Current pi pulse frequency: 4572.9368263382785\n",
      "Fit frequency from I [MHz]: 1.8767301525010227 +/- 0.0015684015075514372\n",
      "Suggested new pi pulse frequency from fit I [MHz]:\n",
      " \t4573.060096185777\n",
      " \t4569.060096185777\n",
      "T2 Ramsey from fit I [us]: 21.04747230209219 +/- 4.26241782956233\n",
      "Fit frequency from Q [MHz]: 1.878496369433494 +/- 0.001229869725566894\n",
      "Suggested new pi pulse frequencies from fit Q [MHz]:\n",
      " \t4573.058329968845\n",
      " \t4569.058329968845\n",
      "T2 Ramsey from fit Q [us]: 19.74783530097964 +/- 2.934531109425013\n",
      "*Set qubit 2 EF freq to 4573.058329968845*\n",
      "*New f_ef\n",
      " [[3884.62691612    0.            0.            0.        ]\n",
      " [   0.         3348.08543317    0.            0.        ]\n",
      " [4571.90564823 4570.99652654 4573.05832997    0.        ]\n",
      " [4209.87194286 4205.61697814    0.         4208.99088106]]\n",
      "*New f_ef flattened\n",
      "[3884.6269161242526, 0.0, 0.0, 0.0, 0.0, 3348.085433174199, 0.0, 0.0, 4571.9056482340775, 4570.996526541673, 4573.058329968845, 0.0, 4209.8719428597715, 4205.61697813965, 0.0, 4208.990881064611]\n",
      "[{'T2R': 28.835024899060134, 'T2R err': 5.697905387689036, 'Qubit freq': 4111.097866562327, 'Pi/2 pulse gain': 1856}, {'T2R': 26.406723555440024, 'T2R err': 5.466864662803722, 'Qubit freq': 3448.1402562265434, 'Pi/2 pulse gain': 2242}, {'T2R': 17.46130560440174, 'T2R err': 1.9184046541670396, 'Qubit freq': 4762.909473544484, 'Pi/2 pulse gain': 14508, 'Qubit EF freq': 4573.058329968845, 'T2R EF': 19.74783530097964, 'T2R EF err': 2.934531109425013}, {'T2R': 111.89095968983096, 'T2R err': 87.10574225600891, 'Qubit freq': 4381.248121020163, 'Pi/2 pulse gain': 819, 'Qubit EF freq': 4208.990881064611, 'T2R EF': 27.84091040503751, 'T2R EF err': 5.001940572250491, 'Pi/2 EF pulse gain': 518}]\n"
     ]
    }
   ],
   "source": [
    "# # TESTING\n",
    "# # t2EFr = meas.RamseyExperiment(config_file=config_path)\n",
    "# temp_data, attrs = prev_data(expt_path, '00000_ramsey_qubit2.h5')\n",
    "# t2EFr.data = temp_data\n",
    "\n",
    "t2EFr.analyze(fit=True)\n",
    "t2EFr_fit, t2EFr_fit_err, t2EFr_adjust = meas.fitting.get_best_fit(t2EFr.data, get_best_data_params=['f_adjust_ramsey'])\n",
    "old_qubit_freq = np.reshape(t2EFr.cfg.device.qubit.f_ef, (4,4))[qubit_i, qubit_i]\n",
    "\n",
    "if not isinstance(t2EFr_fit, (list, np.ndarray)):\n",
    "    t2EFr.display(fit=False)\n",
    "    assert False, 'Fit failed, please manually fix!'\n",
    "t2EFr.display(fit=True)\n",
    "yaml_cfg.device.qubit.f_ef = np.reshape(yaml_cfg.device.qubit.f_ef, (4,4))\n",
    "yaml_cfg.device.qubit.f_ef[qubit_i, qubit_i] = old_qubit_freq + t2EFr_adjust[0]\n",
    "alt_qubit_freq = old_qubit_freq + t2EFr_adjust[1]\n",
    "print(f'*Set qubit {qubit_i} EF freq to {yaml_cfg.device.qubit.f_ef[qubit_i, qubit_i]}*')\n",
    "results_Qi.update({'Qubit EF freq':yaml_cfg.device.qubit.f_ef[qubit_i, qubit_i] + yaml_cfg.hw.soc.dacs.qubit.mixer_freq[qubit_i]})\n",
    "print(f'*New f_ef\\n', yaml_cfg.device.qubit.f_ef)\n",
    "yaml_cfg.device.qubit.f_ef = yaml_cfg.device.qubit.f_ef.flatten().tolist()\n",
    "print(f'*New f_ef flattened\\n{yaml_cfg.device.qubit.f_ef}')\n",
    "results_Qi.update({'T2R EF':t2EFr_fit[3], 'T2R EF err':np.sqrt(t2EFr_fit_err[3][3])})\n",
    "print(all_results)"
   ]
  },
  {
   "cell_type": "code",
   "execution_count": 64,
   "metadata": {},
   "outputs": [],
   "source": [
    "if save_data: saved_files.append(t2EFr.save_data())"
   ]
  },
  {
   "cell_type": "markdown",
   "metadata": {},
   "source": [
    "## Amplitude EF Rabi round 2"
   ]
  },
  {
   "cell_type": "code",
   "execution_count": 46,
   "metadata": {},
   "outputs": [
    {
     "name": "stdout",
     "output_type": "stream",
     "text": [
      "qubit 3 pi_lenEF 0.03\n"
     ]
    }
   ],
   "source": [
    "pi_lenEF = np.reshape(yaml_cfg.device.qubit.pulses.pi_ef.sigma, (4,4))[qubit_i, qubit_i]\n",
    "# pi_lenEF = 0.030\n",
    "print('qubit', qubit_i, 'pi_lenEF', pi_lenEF)"
   ]
  },
  {
   "cell_type": "code",
   "execution_count": 47,
   "metadata": {},
   "outputs": [
    {
     "name": "stdout",
     "output_type": "stream",
     "text": [
      "Running amp rabi EF on Q3 \n"
     ]
    },
    {
     "data": {
      "application/vnd.jupyter.widget-view+json": {
       "model_id": "429bf36365624f898305b2bca03197f0",
       "version_major": 2,
       "version_minor": 0
      },
      "text/plain": [
       "  0%|          | 0/10 [00:00<?, ?it/s]"
      ]
     },
     "metadata": {},
     "output_type": "display_data"
    }
   ],
   "source": [
    "amprabiEF = meas.AmplitudeRabiExperiment(\n",
    "    soccfg=soc,\n",
    "    path=expt_path,\n",
    "    prefix=\"amp_rabi_EF\"+f\"_qubit{qubit_i}\",\n",
    "    config_file=config_path,\n",
    ")\n",
    "\n",
    "amprabiEF.cfg = AttrDict(deepcopy(yaml_cfg))\n",
    "\n",
    "span = min((32000, int(1.5*np.reshape(yaml_cfg.device.qubit.pulses.pi_ef.gain, (4,4))[qubit_i, qubit_i])))\n",
    "npts = 101\n",
    "\n",
    "amprabiEF.cfg.expt = dict(\n",
    "    start=1, # qubit gain [dac level]\n",
    "    step=int(span/npts), # [dac level]\n",
    "    expts=npts,\n",
    "    reps=reps,\n",
    "    rounds=rounds,\n",
    "    sigma_test=pi_lenEF, # gaussian sigma for pulse length - default from cfg [us]\n",
    "    pulse_type='gauss',\n",
    "    checkEF=True, \n",
    "    qTest=qubit_i,\n",
    "    qZZ=None,\n",
    ")\n",
    "\n",
    "# print(amprabiEF.cfg)\n",
    "amprabiEF.go(analyze=False, display=False, progress=True, save=False)"
   ]
  },
  {
   "cell_type": "code",
   "execution_count": 48,
   "metadata": {},
   "outputs": [
    {
     "name": "stdout",
     "output_type": "stream",
     "text": [
      "best 0 0.017386250836177793\n",
      "Pi gain from amps data [dac units]: 523\n",
      "\tPi/2 gain from amps data [dac units]: 261\n",
      "Pi gain from avgi data [dac units]: 523\n",
      "\tPi/2 gain from avgi data [dac units]: 261\n",
      "Pi gain from avgq data [dac units]: 541\n",
      "\tPi/2 gain from avgq data [dac units]: 270\n",
      "*Set EF pi pulse sigma for qubit 3 to 0.03*\n",
      "*Set EF pi pulse gain for qubit 3 to 523*\n",
      "*New pi_ef.gain\n",
      " [[ 1280     0     0     0]\n",
      " [    0  1912     0     0]\n",
      " [10000 10079 10015     0]\n",
      " [  734   718     0   523]]\n",
      "*New pi_ef.gain flattened\n",
      "[1280, 0, 0, 0, 0, 1912, 0, 0, 10000, 10079, 10015, 0, 734, 718, 0, 523]\n",
      "{'T1': 52.3580045090926, 'T1 err': 1.6646251872930162, 'T2R': 25.602583027942746, 'T2R err': 1.5551254720790846, 'Qubit freq': 4381.109690194443, 'Pi pulse gain': 935, 'T2E': 27.649964593090505, 'T2E err': 1.1781089735321566, 'Res chi shift (e - g)': -0.009933774834678388, 'Qubit EF freq': 4208.832479183671, 'Pi EF pulse gain': 523, 'Qubit temp [mK]': 72.74668238714514, 'Qubit E thermal population (%)': 5.88276844959484, 'T2R EF': 15.528477062275803, 'T2R EF err': 2.4971036366545016}\n"
     ]
    }
   ],
   "source": [
    "# TESTING\n",
    "# amprabiEF = meas.AmplitudeRabiExperiment(config_file=config_path,)\n",
    "# temp_data, attrs = prev_data(expt_path, '00000_amp_rabi_EF_qubit1.h5')\n",
    "# amprabiEF.data = temp_data\n",
    "\n",
    "# amprabiEF.analyze(fit=False)\n",
    "# amprabiEF.display(fit=False)\n",
    "\n",
    "amprabiEF.analyze(fit=True)\n",
    "\n",
    "amprabiEF_fit, amprabiEF_fit_err = meas.fitting.get_best_fit(amprabiEF.data)\n",
    "\n",
    "p = amprabiEF_fit\n",
    "\n",
    "if p[2] > 180: p[2] = p[2] - 360\n",
    "elif p[2] < -180: p[2] = p[2] + 360\n",
    "if p[2] < 0: pi_gain = (1/2 - p[2]/180)/2/p[1]\n",
    "else: pi_gain = (3/2 - p[2]/180)/2/p[1]\n",
    "\n",
    "if pi_gain > 32000:\n",
    "    amprabiEF.display(fit=False)\n",
    "    print('WARNING: Fit pi pulse gain is long, please double check!')\n",
    "    pi_gain = 30000\n",
    "else: amprabiEF.display(fit=True)\n",
    "\n",
    "print(f'*Set EF pi pulse sigma for qubit {qubit_i} to {np.reshape(yaml_cfg.device.qubit.pulses.pi_ef.sigma, (4,4))[qubit_i, qubit_i]}*')\n",
    "yaml_cfg.device.qubit.pulses.pi_ef.gain = np.reshape(yaml_cfg.device.qubit.pulses.pi_ef.gain, (4,4))\n",
    "yaml_cfg.device.qubit.pulses.pi_ef.gain[qubit_i, qubit_i] = int(pi_gain)\n",
    "print(f'*Set EF pi pulse gain for qubit {qubit_i} to {yaml_cfg.device.qubit.pulses.pi_ef.gain[qubit_i, qubit_i]}*')\n",
    "results_Qi.update({'Pi EF pulse gain':yaml_cfg.device.qubit.pulses.pi_ef.gain[qubit_i, qubit_i]})\n",
    "print(f'*New pi_ef.gain\\n', yaml_cfg.device.qubit.pulses.pi_ef.gain)\n",
    "yaml_cfg.device.qubit.pulses.pi_ef.gain = yaml_cfg.device.qubit.pulses.pi_ef.gain.flatten().astype(int).tolist()\n",
    "print(f'*New pi_ef.gain flattened\\n{yaml_cfg.device.qubit.pulses.pi_ef.gain}')\n",
    "print(results_Qi)"
   ]
  },
  {
   "cell_type": "code",
   "execution_count": null,
   "metadata": {},
   "outputs": [],
   "source": [
    "if save_data: saved_files.append(amprabiEF.save_data())"
   ]
  },
  {
   "cell_type": "markdown",
   "metadata": {},
   "source": [
    "## EF Ramsey Fringe Round 2\n",
    "Update the T2 EF but not the frequency"
   ]
  },
  {
   "cell_type": "code",
   "execution_count": 21,
   "metadata": {},
   "outputs": [],
   "source": [
    "# yaml_cfg.device.qubit.f_ge[qubit_i] = 145.572034953271\n",
    "# qubitEF_hwhm = 7\n",
    "# short_T1 = False"
   ]
  },
  {
   "cell_type": "code",
   "execution_count": 49,
   "metadata": {},
   "outputs": [
    {
     "name": "stdout",
     "output_type": "stream",
     "text": [
      "Running Ramsey EF on Q3 \n"
     ]
    },
    {
     "data": {
      "application/vnd.jupyter.widget-view+json": {
       "model_id": "d4f0e3d2657448e091d673d817d4af47",
       "version_major": 2,
       "version_minor": 0
      },
      "text/plain": [
       "  0%|          | 0/10 [00:00<?, ?it/s]"
      ]
     },
     "metadata": {},
     "output_type": "display_data"
    }
   ],
   "source": [
    "t2EFr_2 = meas.RamseyExperiment(\n",
    "    soccfg=soc,\n",
    "    path=expt_path,\n",
    "    prefix=\"ramseyEF\"+f\"_qubit{qubit_i}\",\n",
    "    config_file=config_path,\n",
    ")\n",
    "\n",
    "t2EFr_2.cfg = AttrDict(deepcopy(yaml_cfg))\n",
    "\n",
    "t2EFr_2.cfg.expt = dict(\n",
    "    start=0, # wait time tau [us]\n",
    "    step=soc.cycles2us(80), # [us] make sure nyquist freq = 0.5 * (1/step) > ramsey (signal) freq!\n",
    "    # step=0.05, # [us]\n",
    "    expts=151,\n",
    "    ramsey_freq=ramseyEF_freq/10, # [MHz]\n",
    "    checkEF=True,\n",
    "    reps=reps,\n",
    "    rounds=rounds,\n",
    "    qTest=qubit_i,\n",
    "    qZZ=None,\n",
    ")\n",
    "\n",
    "try:\n",
    "    t2EFr_2.go(analyze=False, display=False, progress=True, save=False)\n",
    "except Exception:\n",
    "    print(\"Pyro traceback:\")\n",
    "    print(\"\".join(Pyro4.util.getPyroTraceback()))"
   ]
  },
  {
   "cell_type": "code",
   "execution_count": 50,
   "metadata": {},
   "outputs": [
    {
     "name": "stdout",
     "output_type": "stream",
     "text": [
      "best 0 0.024697624518023903\n",
      "Current pi pulse frequency: 4208.832479183671\n",
      "Fit frequency from amps [MHz]: 0.19447236532119588 +/- 0.0005790511250366627\n",
      "Suggested new pi pulse frequencies from fit amps [MHz]:\n",
      " \t4208.83800681835\n",
      " \t4208.43800681835\n",
      "T2 Ramsey from fit amps [us]: 16.628768565911635 +/- 1.0029000270571076\n",
      "Current pi pulse frequency: 4208.832479183671\n",
      "Fit frequency from I [MHz]: 0.19447232748960125 +/- 0.0005829717124436521\n",
      "Suggested new pi pulse frequency from fit I [MHz]:\n",
      " \t4208.838006856182\n",
      " \t4208.438006856181\n",
      "T2 Ramsey from fit I [us]: 16.583131135030893 +/- 1.0040165159864192\n",
      "Fit frequency from Q [MHz]: 0.19333694222682055 +/- 0.0027252320010871765\n",
      "Suggested new pi pulse frequencies from fit Q [MHz]:\n",
      " \t4208.839142241444\n",
      " \t4208.439142241445\n",
      "T2 Ramsey from fit Q [us]: 12.838583068549777 +/- 2.85017707132049\n"
     ]
    },
    {
     "name": "stderr",
     "output_type": "stream",
     "text": [
      "RuntimeWarning: More than 20 figures have been opened. Figures created through the pyplot interface (`matplotlib.pyplot.figure`) are retained until explicitly closed and may consume too much memory. (To control this warning, see the rcParam `figure.max_open_warning`). Consider using `matplotlib.pyplot.close()`.\n",
      " s:\\Connie\\experiments\\qram_tprocv1_expts\\experiments\\single_qubit\\t2_ramsey.py: 626"
     ]
    },
    {
     "name": "stdout",
     "output_type": "stream",
     "text": [
      "{'T1': 52.3580045090926, 'T1 err': 1.6646251872930162, 'T2R': 25.602583027942746, 'T2R err': 1.5551254720790846, 'Qubit freq': 4381.109690194443, 'Pi pulse gain': 935, 'T2E': 27.649964593090505, 'T2E err': 1.1781089735321566, 'Res chi shift (e - g)': -0.009933774834678388, 'Qubit EF freq': 4208.832479183671, 'Pi EF pulse gain': 523, 'Qubit temp [mK]': 72.74668238714514, 'Qubit E thermal population (%)': 5.88276844959484, 'T2R EF': 16.628768565911635, 'T2R EF err': 1.0029000270571076}\n"
     ]
    }
   ],
   "source": [
    "# # TESTING\n",
    "# # t2EFr_2 = meas.RamseyExperiment(config_file=config_path)\n",
    "# temp_data, attrs = prev_data(expt_path, '00000_ramsey_qubit2.h5')\n",
    "# t2EFr_2.data = temp_data\n",
    "\n",
    "t2EFr_2.analyze(fit=True)\n",
    "t2EFr_2_fit, t2EFr_2_fit_err, t2EFr_2_adjust = meas.fitting.get_best_fit(t2EFr_2.data, get_best_data_params=['f_adjust_ramsey'])\n",
    "old_qubit_freq = np.reshape(t2EFr_2.cfg.device.qubit.f_ef, (4,4))[qubit_i, qubit_i]\n",
    "\n",
    "if not isinstance(t2EFr_2_fit, (list, np.ndarray)):\n",
    "    t2EFr_2.display(fit=False)\n",
    "    assert False, 'Fit failed, please manually fix!'\n",
    "t2EFr_2.display(fit=True)\n",
    "\n",
    "if t2EFr_2_adjust[0] > ramseyEF_freq/10:\n",
    "    print('WARNING: your EF frequency is not converging!')\n",
    "else:\n",
    "    # yaml_cfg.device.qubit.f_ef = np.reshape(yaml_cfg.device.qubit.f_ef, (4,4))\n",
    "    # yaml_cfg.device.qubit.f_ef[qubit_i, qubit_i] = old_qubit_freq + t2EFr_2_adjust[0]\n",
    "    # print(f'*Set qubit {qubit_i} EF freq to {yaml_cfg.device.qubit.f_ef[qubit_i]}*')\n",
    "    # print(f'*New f_ef\\n', yaml_cfg.device.qubit.f_ef)\n",
    "    # yaml_cfg.device.qubit.f_ef = yaml_cfg.device.qubit.f_ef.flatten().tolist()\n",
    "    # print(f'*New f_ef flattened\\n{yaml_cfg.device.qubit.f_ef}')\n",
    "    results_Qi.update({'T2R EF':t2EFr_2_fit[3], 'T2R EF err':np.sqrt(t2EFr_2_fit_err[3][3])})\n",
    "    # results_Qi.update({'Qubit EF freq':yaml_cfg.device.qubit.f_ef[qubit_i] + yaml_cfg.hw.soc.dacs.qubit.mixer_freq[qubit_i]})\n",
    "    print(results_Qi)"
   ]
  },
  {
   "cell_type": "code",
   "execution_count": null,
   "metadata": {},
   "outputs": [],
   "source": [
    "if save_data: saved_files.append(t2EFr.save_data())"
   ]
  },
  {
   "cell_type": "markdown",
   "metadata": {},
   "source": [
    "## EF error amplification"
   ]
  },
  {
   "cell_type": "code",
   "execution_count": null,
   "metadata": {},
   "outputs": [],
   "source": [
    "npulsecalibEF = meas.NPulseExperiment(\n",
    "    soccfg=soc,\n",
    "    path=expt_path,\n",
    "    prefix=f\"NPulseExptEFQ{qubit_i}\",\n",
    "    config_file=config_path,\n",
    ")\n",
    "\n",
    "npulsecalibEF.cfg = AttrDict(deepcopy(yaml_cfg))\n",
    "npulsecalibEF.cfg.expt = dict(\n",
    "    start=0, # number gate repetitions\n",
    "    step=1,\n",
    "    expts=10,\n",
    "    reps=1000,\n",
    "    loops=10,\n",
    "    pulse_type='gauss',\n",
    "    checkEF=True, \n",
    "    qTest=qubit_i,\n",
    "    qZZ=None,\n",
    "    test_pi_half=False,\n",
    "    error_amp=True,\n",
    "\n",
    "    post_process='scale',\n",
    "    singleshot_reps=15000,\n",
    "    # singleshot_reps=1000,\n",
    ")\n",
    "\n",
    "print(npulsecalibEF.cfg)\n",
    "try:\n",
    "    npulsecalibEF.acquire(progress=True, debug=False)\n",
    "except Exception:\n",
    "    print(\"Pyro traceback:\")\n",
    "    print(\"\".join(Pyro4.util.getPyroTraceback()))"
   ]
  },
  {
   "cell_type": "code",
   "execution_count": null,
   "metadata": {},
   "outputs": [],
   "source": [
    "# # TESTING\n",
    "# temp_data, attrs = prev_data(expt_path, '00000_voltage_sweep_qubit_spectroscopy_qubit3.h5')\n",
    "# data = lengthrabi.analyze(data=temp_data, fit=True)\n",
    "\n",
    "data = npulsecalibEF.data\n",
    "npulsecalibEF.analyze(fit=True)\n",
    "npulsecalibEF.display(fit=True)\n",
    "\n",
    "# npulsecalib_fit, npulsecalib_fit_err = meas.fitting.get_best_fit(npulsecalibEF.data)\n",
    "fit_axis = 'avgi'\n",
    "npulsecalibEF_fit = data[f'fit_{fit_axis}']\n",
    "npulsecalibEF_fit_err = data[f'fit_err_{fit_axis}']\n",
    "\n",
    "angle_err = npulsecalibEF_fit[1]\n",
    "amp_ratio = (180 - angle_err) / 180\n",
    "new_amp_ef = np.reshape(npulsecalibEF.cfg.device.qubit.pulses.pi_ef.gain, (4,4))[qubit_i, qubit_i] / amp_ratio\n",
    "\n",
    "yaml_cfg.device.qubit.pulses.pi_ef.gain = np.reshape(yaml_cfg.device.qubit.pulses.pi_ef.gain, (4,4))\n",
    "yaml_cfg.device.qubit.pulses.pi_ef.gain[qubit_i, qubit_i] = int(round(new_amp_ef))\n",
    "print(f'*Set EF pi pulse gain for qubit {qubit_i} to {yaml_cfg.device.qubit.pulses.pi_ef.gain[qubit_i, qubit_i]}*')\n",
    "results_Qi.update({'Pi EF pulse gain':yaml_cfg.device.qubit.pulses.pi_ef.gain[qubit_i, qubit_i]})\n",
    "print(f'*New pi_ef.gain\\n', yaml_cfg.device.qubit.pulses.pi_ef.gain)\n",
    "yaml_cfg.device.qubit.pulses.pi_ef.gain = yaml_cfg.device.qubit.pulses.pi_ef.gain.flatten().tolist()\n",
    "print(f'*New pi_ef.gain flattened\\n{yaml_cfg.device.qubit.pulses.pi_ef.gain}')\n",
    "print(results_Qi)"
   ]
  },
  {
   "cell_type": "code",
   "execution_count": null,
   "metadata": {},
   "outputs": [],
   "source": [
    "if save_data: npulsecalibEF.save_data()"
   ]
  },
  {
   "cell_type": "markdown",
   "metadata": {},
   "source": [
    "## (Divide len) Calibrate EF $\\pi/2$ pulse\n",
    "this is mostly only for RB"
   ]
  },
  {
   "cell_type": "markdown",
   "metadata": {},
   "source": [
    "### Amplitude rabi for EF $\\pi/2$ pulse (divide len)"
   ]
  },
  {
   "cell_type": "code",
   "execution_count": 70,
   "metadata": {},
   "outputs": [
    {
     "name": "stdout",
     "output_type": "stream",
     "text": [
      "qubit 2 pi_lenEF 0.015\n"
     ]
    }
   ],
   "source": [
    "pi_lenEF = np.reshape(yaml_cfg.device.qubit.pulses.pi_ef.sigma, (4,4))[qubit_i, qubit_i]\n",
    "# pi_len = 0.008\n",
    "print('qubit', qubit_i, 'pi_lenEF', pi_lenEF)"
   ]
  },
  {
   "cell_type": "code",
   "execution_count": 71,
   "metadata": {},
   "outputs": [],
   "source": [
    "divide_len = True"
   ]
  },
  {
   "cell_type": "code",
   "execution_count": 72,
   "metadata": {},
   "outputs": [
    {
     "name": "stdout",
     "output_type": "stream",
     "text": [
      "Running amp rabi EF on Q2 \n",
      "Calibrating half pi gain (divide length) when pi len is 0.015\n"
     ]
    },
    {
     "data": {
      "application/vnd.jupyter.widget-view+json": {
       "model_id": "26df76a203a64914945fdd4bb936e57d",
       "version_major": 2,
       "version_minor": 0
      },
      "text/plain": [
       "  0%|          | 0/10 [00:00<?, ?it/s]"
      ]
     },
     "metadata": {},
     "output_type": "display_data"
    }
   ],
   "source": [
    "amprabi_4 = meas.AmplitudeRabiExperiment(\n",
    "    soccfg=soc,\n",
    "    path=expt_path,\n",
    "    prefix=f\"amp_rabi_qubit{qubit_i}\",\n",
    "    config_file=config_path,\n",
    ")\n",
    "amprabi_4.cfg = AttrDict(deepcopy(yaml_cfg))\n",
    "\n",
    "n_pulses = 1\n",
    "span = min((32000, int(1.5*np.reshape(yaml_cfg.device.qubit.pulses.pi_ef.gain, (4,4))[qubit_i, qubit_i])))\n",
    "npts = 151\n",
    "    \n",
    "amprabi_4.cfg.expt = dict(\n",
    "    start=0, # qubit gain [dac level]\n",
    "    step=int(span/npts), # [dac level]\n",
    "    expts=npts,\n",
    "    reps=reps,\n",
    "    # reps=5,\n",
    "    rounds=rounds,\n",
    "    sigma_test=pi_lenEF, # gaussian sigma for pulse length - overrides config [us]\n",
    "    pulse_type='gauss',\n",
    "    n_pulses=n_pulses,\n",
    "    test_pi_half=True,\n",
    "    divide_len=divide_len,\n",
    "    qTest=qubit_i,\n",
    "    qZZ=None,\n",
    "    checkEF=True, \n",
    ")\n",
    "amprabi_4.go(analyze=False, display=False, progress=True, save=False)"
   ]
  },
  {
   "cell_type": "code",
   "execution_count": 73,
   "metadata": {},
   "outputs": [
    {
     "name": "stdout",
     "output_type": "stream",
     "text": [
      "best 0 0.00782820789962049\n",
      "Pi gain from amps data [dac units]: 9921\n",
      "\tPi/2 gain from amps data [dac units]: 4960\n",
      "Pi gain from avgi data [dac units]: 9949\n",
      "\tPi/2 gain from avgi data [dac units]: 4974\n",
      "Pi gain from avgq data [dac units]: 9943\n",
      "\tPi/2 gain from avgq data [dac units]: 4971\n",
      "*Set pi/2 EF pulse gain for qubit 2 to 9921*\n",
      "*New pi_ef.half_gain\n",
      " [[ 1261     0     0     0]\n",
      " [    0  1941     0     0]\n",
      " [    0 10147  9921  9979]\n",
      " [  535   528     0   518]]\n",
      "*New pi_ef.half_gain flattened\n",
      "[1261, 0, 0, 0, 0, 1941, 0, 0, 0, 10147, 9921, 9979, 535, 528, 0, 518]\n",
      "{'T2R': 17.46130560440174, 'T2R err': 1.9184046541670396, 'Qubit freq': 4762.909473544484, 'Pi/2 pulse gain': 14508, 'Qubit EF freq': 4573.058329968845, 'T2R EF': 19.74783530097964, 'T2R EF err': 2.934531109425013, 'Pi/2 EF pulse gain': 9921}\n"
     ]
    }
   ],
   "source": [
    "# # TESTING\n",
    "# # amprabi_4 = meas.AmplitudeRabiExperiment(config_file=config_path,)\n",
    "# temp_data, attrs = prev_data(expt_path, '00000_amp_rabi_qubit0.h5')\n",
    "# amprabi_4.data = temp_data\n",
    "\n",
    "amprabi_4.analyze(fit=True)\n",
    "\n",
    "amprabi_4_fit, amprabi_4_fit_err = meas.fitting.get_best_fit(amprabi_4.data)\n",
    "\n",
    "p = amprabi_4_fit\n",
    "if p[2] > 180: p[2] = p[2] - 360\n",
    "elif p[2] < -180: p[2] = p[2] + 360\n",
    "if p[2] < 0: pi_gain = (1/2 - p[2]/180)/2/p[1]\n",
    "else: pi_gain = (3/2 - p[2]/180)/2/p[1]\n",
    "\n",
    "if pi_gain > 32000:\n",
    "    amprabi_4.display(fit=False)\n",
    "    print(f'WARNING: Fit pi/2 pulse gain is long ({pi_gain}), please double check!')\n",
    "    pi_gain = 30000\n",
    "else: amprabi_4.display(fit=True)\n",
    "\n",
    "yaml_cfg.device.qubit.pulses.pi_ef.half_gain = np.reshape(yaml_cfg.device.qubit.pulses.pi_ef.half_gain, (4,4))\n",
    "yaml_cfg.device.qubit.pulses.pi_ef.half_gain[qubit_i, qubit_i] = int(pi_gain)\n",
    "print(f'*Set pi/2 EF pulse gain for qubit {qubit_i} to {yaml_cfg.device.qubit.pulses.pi_ef.half_gain[qubit_i, qubit_i]}*')\n",
    "results_Qi.update({'Pi/2 EF pulse gain':yaml_cfg.device.qubit.pulses.pi_ef.half_gain[qubit_i, qubit_i]})\n",
    "print(f'*New pi_ef.half_gain\\n', yaml_cfg.device.qubit.pulses.pi_ef.half_gain)\n",
    "yaml_cfg.device.qubit.pulses.pi_ef.half_gain = yaml_cfg.device.qubit.pulses.pi_ef.half_gain.flatten().astype(int).tolist()\n",
    "print(f'*New pi_ef.half_gain flattened\\n{yaml_cfg.device.qubit.pulses.pi_ef.half_gain}')\n",
    "print(results_Qi)"
   ]
  },
  {
   "cell_type": "code",
   "execution_count": null,
   "metadata": {},
   "outputs": [],
   "source": [
    "if save_data: saved_files.append(amprabi_4.save_data())"
   ]
  },
  {
   "cell_type": "markdown",
   "metadata": {},
   "source": [
    "### EF $\\pi/2$, -$\\pi/2$ experiment"
   ]
  },
  {
   "cell_type": "code",
   "execution_count": 57,
   "metadata": {},
   "outputs": [
    {
     "name": "stdout",
     "output_type": "stream",
     "text": [
      "{'device': {'readout': {'trig_offset': 150, 'lo_sideband': [1, 1, 1, 1], 'frequency': [-389.9452717544333, 5795.711666663333, 502.368233333334, -228.85410723], 'gain': [0.3, 0.3, 0.85, 0.85], 'readout_length': [15.0, 10.0, 5.0, 15.0], 'frequency_ef': [-391.80446161500305, 5794.287237348879, 500.35983051204073, -230.41370987900663], 'readout_length_ef': [10.0, 7.0, 4.0, 8.0], 'relax_delay': [450, 450, 450, 450]}, 'qubit': {'f_ge': [4111.097866562327, 4105.867592682015, 4110.994688934281, 4110.579369837695, 3443.482349236793, 3448.1402562265434, 3447.706823169816, 3447.5052085761054, 4762.743580751455, 4761.745710010409, 4762.909473544484, 4762.370786469688, 4380.292461267258, 4379.535103914169, 4380.328267473819, 4381.248121020163], 'f_ef': [3884.6269161242526, 0.0, 0.0, 0.0, 0.0, 3348.085433174199, 0.0, 0.0, 4571.9056482340775, 4570.996526541673, 4572.9368263382785, 0.0, 4209.8719428597715, 4205.61697813965, 0.0, 4208.940601730213], 'f_EgGf': [2686.53594683, 0, 2017.3, 2414.92850999], 'f_EgGf_Q': [0, 0, 5883.653411964549, 5141.717729722623], 'f_f0g1': [1184.4, 999.8, 1632.9833333333333, 1620.9166666666665], 'gs': [52.40296404695958, 54.81794456602636, 43.49513117058557, 4.930653352423196, 2.6415018214608046, 6.386231497692186], 'pulses': {'pi_ge': {'sigma': [0.02, 0.02, 0.02, 0.02, 0.025, 0.025, 0.025, 0.025, 0.015, 0.015, 0.015, 0.015, 0.025, 0.025, 0.025, 0.025], 'gain': [1849, 1914, 0, 1855, 2834, 2504, 2648, 2631, 14489, 14572, 14736, 14639, 963, 959, 974, 935], 'half_gain': [1856, 1867, 1871, 1873, 2511, 2242, 2341, 2320, 14796, 14866, 14508, 14805, 856, 852, 858, 819], 'half_correction_phase': [0, 0, 0, 0, 0, 0, 0, 0, 0, 0, 0, 0, 0, 0, 0, 0, 0], 'half_gain_pi_sigma': [927, 0, 0, 0, 0, 1315, 0, 0, 0, 0, 7212, 0, 0, 0, 0, 460], 'type': 'gauss'}, 'pi_ef': {'sigma': [0.02, 0.02, 0.02, 0.02, 0.025, 0.025, 0.025, 0.025, 0.015, 0.015, 0.015, 0.015, 0.03, 0.03, 0.03, 0.03], 'gain': [1280, 0, 0, 0, 0, 1912, 0, 0, 10000, 10079, 10015, 0, 734, 718, 0, 523], 'half_gain': [1261, 0, 0, 0, 0, 1941, 0, 0, 0, 10147, 10121, 9979, 535, 528, 0, 529], 'half_gain_pi_sigma': [673, 0, 0, 0, 0, 975, 0, 0, 0, 0, 5049, 0, 350, 0, 0, 337], 'type': 'gauss'}, 'pi_EgGf': {'gain': [32000, 0, 30000, 16000], 'sigma': [0.586, 0, 0.8, 0.44643], 'type': 'flat_top'}, 'pi_EgGf_Q': {'gain': [0, 0, 19655, 15344], 'sigma': [0, 0, 0.4361071627609746, 0.2878957887434301], 'phase': [0, 0, 18.0, 24.0], 'half_sigma': [0, 0, 0.212, 0.172], 'half_phase': [0, 0, 18.0, 21.0], 'type': 'flat_top'}, 'pi_f0g1': {'gain': [32000, 32000, 32000, 32000], 'sigma': [0.536, 0.585, 1.54, 1.04], 'idle': [3, 6, 12, 8], 'type': 'flat_top'}, 'pulse_pp': {'gain': [1750, 3550, 0, 0], 'filename': '240920_3_qram_4q_2qubit_++gg'}, 'pulse_1p': {'gain': [3500, 4375, 0, 0], 'filename': '240920_qram_4q_2qubit_e+gg'}, 'pulse_p1': {'gain': [3000, 5530, 0, 0], 'filename': '240920_qram_4q_2qubit_+egg'}, 'pihalf_ge_robust': {'gain_q0': [0, 0, 0, 0], 'gain_q1': [0, 0, 0, 0], 'gain_q2': [0, 0, 0, 0], 'gain_q3': [0, 0, 0, 0], 'filename': ['', '', '', '']}, 'pi_ge_slow': {'gain': [-1, 100, -1, -1], 'sigma': [-1, 0.25, -1, -1], 'type': 'gauss'}, 'pi_Q1_ZZ_slow': {'gain': [100, 0, -1, -1], 'sigma': [0.25, 0, -1, -1], 'type': 'gauss'}}}}, 'hw': {'soc': {'dacs': {'qubit': {'ch': [0, 1, 2, 3], 'type': 'full', 'nyquist': [2, 1, 2, 2], 'mixer_freq': [0, 0, 0, 0]}, 'swap': {'ch': 1, 'type': 'full', 'nyquist': 1, 'mixer_freq': 0}, 'swap_f0g1': {'ch': [1, 1, 5, 5], 'type': ['full', 'full', 'full', 'full'], 'nyquist': 1, 'mixer_freq': 0}, 'swap_Q': {'ch': [0, -1, 2, 3], 'type': ['full', 'None', 'full', 'full'], 'nyquist': [2, 0, 2, 2], 'mixer_freq': 0}, 'readout': {'ch': [6, 4, 6, 6], 'type': ['mux4', 'full', 'mux4', 'mux4'], 'mixer_freq': [7200, 0, 7200, 7200], 'nyquist': [2, 2, 2, 2]}, 'res_pump': {'ch': 4, 'type': 'full', 'mixer_freq': 0, 'nyquist': 2}, 'delay_chs': {'ch': [0, 1, 2, 3, 4, 5, 6], 'delay_ns': [8.7, 8.5, 0, 7.6, 24, 20, 104.5]}}, 'adcs': {'readout': {'ch': [0, 1, 2, 3]}}}, 'lo': {'twpa': {'frequency': '8240.0e6', 'power': -0.65}, 'readout': {'frequency': 0, 'power': 0}}}, 'aliases': {'readout_LO': 'SC_20A1', 'twpa_LO': 'SC_26C1', 'soc': 'Qick_QRAM'}, 'expt': {'start_N': 0, 'step_N': 4, 'expts_N': 10, 'start_f': 4207.940601730213, 'step_f': 0.05714285714285714, 'expts_f': 36, 'reps': 750, 'loops': 1, 'pulse_type': 'gauss', 'checkEF': True, 'qTest': 3, 'qZZ': None, 'test_pi_half': True, 'divide_len': True, 'post_process': 'threshold', 'singleshot_reps': 15000}}\n"
     ]
    },
    {
     "data": {
      "application/vnd.jupyter.widget-view+json": {
       "model_id": "c495a00080c3470186fbc2992a5f295c",
       "version_major": 2,
       "version_minor": 0
      },
      "text/plain": [
       "  0%|          | 0/2 [00:00<?, ?it/s]"
      ]
     },
     "metadata": {},
     "output_type": "display_data"
    },
    {
     "name": "stdout",
     "output_type": "stream",
     "text": [
      "Qubit  (3)\n",
      "ge fidelity (%): 73.11999999999999 \t angle (deg): -144.37118812625428 \t threshold ge: 1145.859570531461\n"
     ]
    },
    {
     "data": {
      "application/vnd.jupyter.widget-view+json": {
       "model_id": "2cc356667df14c41b3e29d54c6c906a9",
       "version_major": 2,
       "version_minor": 0
      },
      "text/plain": [
       "  0%|          | 0/10 [00:00<?, ?it/s]"
      ]
     },
     "metadata": {},
     "output_type": "display_data"
    }
   ],
   "source": [
    "piminuspi_EF = meas.PiMinusPiExperiment(\n",
    "    soccfg=soc,\n",
    "    path=expt_path,\n",
    "    prefix=f\"PiMinusPi_EFExpt{qubit_i}\",\n",
    "    config_file=config_path,\n",
    ")\n",
    "\n",
    "span_f = 2.0\n",
    "npts_f = 35\n",
    "# npts_f = 50\n",
    "\n",
    "# span_f = 0.0\n",
    "# npts_f = 1\n",
    "\n",
    "piminuspi_EF.cfg = AttrDict(deepcopy(yaml_cfg))\n",
    "piminuspi_EF.cfg.expt = dict(\n",
    "    start_N=0, # number gate repetitions\n",
    "    # step_N=5,\n",
    "    # step_N=2,\n",
    "    # expts_N=15,\n",
    "    step_N=4,\n",
    "    expts_N=10,\n",
    "    start_f=piminuspi_EF.cfg.device.qubit.f_ef[qubit_i*4 + qubit_i]-span_f/2,\n",
    "    step_f=span_f/npts_f,\n",
    "    expts_f=npts_f+1,\n",
    "    reps=int(0.75*reps*rounds),\n",
    "    loops=1,\n",
    "    # reps=int(2*reps*rounds),\n",
    "    # loops=5,\n",
    "    pulse_type='gauss',\n",
    "\n",
    "    checkEF=True,\n",
    "    qTest=qubit_i,\n",
    "    qZZ=None,\n",
    "\n",
    "    # use_Y=True,\n",
    "\n",
    "    test_pi_half=True,\n",
    "    divide_len=divide_len,\n",
    "\n",
    "    post_process='threshold',\n",
    "    singleshot_reps=15000,\n",
    ")\n",
    "\n",
    "print(piminuspi_EF.cfg)\n",
    "try:\n",
    "    piminuspi_EF.acquire(progress=True, debug=False)\n",
    "except Exception:\n",
    "    print(\"Pyro traceback:\")\n",
    "    print(\"\".join(Pyro4.util.getPyroTraceback()))"
   ]
  },
  {
   "cell_type": "code",
   "execution_count": 59,
   "metadata": {},
   "outputs": [
    {
     "name": "stdout",
     "output_type": "stream",
     "text": [
      "Fit best freq 4208.990881064611 which is 0.0502793343985104 away from old freq 4208.940601730213\n",
      "*Set qubit 3 EF freq to 4208.990881064611*\n",
      "{'T2R': 111.89095968983096, 'T2R err': 87.10574225600891, 'Qubit freq': 4381.248121020163, 'Pi/2 pulse gain': 819, 'Qubit EF freq': 4208.990881064611, 'T2R EF': 27.84091040503751, 'T2R EF err': 5.001940572250491}\n",
      "*New f_ef\n",
      " [[3884.62691612    0.            0.            0.        ]\n",
      " [   0.         3348.08543317    0.            0.        ]\n",
      " [4571.90564823 4570.99652654 4572.93682634    0.        ]\n",
      " [4209.87194286 4205.61697814    0.         4208.99088106]]\n",
      "*New f_ef flattened\n",
      "[3884.6269161242526, 0.0, 0.0, 0.0, 0.0, 3348.085433174199, 0.0, 0.0, 4571.9056482340775, 4570.996526541673, 4572.9368263382785, 0.0, 4209.8719428597715, 4205.61697813965, 0.0, 4208.990881064611]\n"
     ]
    }
   ],
   "source": [
    "# # TESTING\n",
    "# temp_data, attrs = prev_data('s:\\Connie\\experiments\\qramLL_4QR2\\data\\data_240617\\\\00000_PiMinusPi_EFExpt0.h5')\n",
    "# piminuspi_EF.data =  temp_data\n",
    "# piminuspi_EF.cfg = AttrDict(attrs['config'])\n",
    "\n",
    "\n",
    "data = piminuspi_EF.data\n",
    "\n",
    "# piminuspi_EF.analyze(fit=False)\n",
    "# plt.figure()\n",
    "# plt.plot(data['cycle_sweep'], data['avgi'][:,0], '.-')\n",
    "# plt.xlabel('N Cycles $(\\pi/2, -\\pi/2)^N$')\n",
    "# plt.ylabel('Avg I')\n",
    "# plt.show()\n",
    "\n",
    "piminuspi_EF.analyze(fit=True)\n",
    "piminuspi_EF.display(fit=True)\n",
    "\n",
    "yaml_cfg.device.qubit.f_ef = np.reshape(yaml_cfg.device.qubit.f_ef, (4,4))\n",
    "yaml_cfg.device.qubit.f_ef[qubit_i, qubit_i] = data[\"best_freq\"]\n",
    "results_Qi.update({'Qubit EF freq':yaml_cfg.device.qubit.f_ef[qubit_i, qubit_i] + yaml_cfg.hw.soc.dacs.qubit.mixer_freq[qubit_i]})\n",
    "print(f'*Set qubit {qubit_i} EF freq to {yaml_cfg.device.qubit.f_ef[qubit_i, qubit_i]}*')\n",
    "print(results_Qi)\n",
    "print(f'*New f_ef\\n', yaml_cfg.device.qubit.f_ef)\n",
    "yaml_cfg.device.qubit.f_ef = yaml_cfg.device.qubit.f_ef.flatten().tolist()\n",
    "print(f'*New f_ef flattened\\n{yaml_cfg.device.qubit.f_ef}')"
   ]
  },
  {
   "cell_type": "code",
   "execution_count": null,
   "metadata": {},
   "outputs": [],
   "source": [
    "if save_data: piminuspi.save_data()"
   ]
  },
  {
   "cell_type": "markdown",
   "metadata": {},
   "source": [
    "### EF $\\pi/2$ error amplification (divide len)"
   ]
  },
  {
   "cell_type": "code",
   "execution_count": 15,
   "metadata": {},
   "outputs": [],
   "source": [
    "divide_len = True"
   ]
  },
  {
   "cell_type": "code",
   "execution_count": null,
   "metadata": {},
   "outputs": [],
   "source": [
    "npulsecalib_efhalf = meas.NPulseExperiment(\n",
    "    soccfg=soc,\n",
    "    path=expt_path,\n",
    "    prefix=f\"NPulseExptEF_half_Q{qubit_i}\",\n",
    "    config_file=config_path,\n",
    ")\n",
    "\n",
    "npulsecalib_efhalf.cfg = AttrDict(deepcopy(yaml_cfg))\n",
    "npulsecalib_efhalf.cfg.expt = dict(\n",
    "    start=0, # number gate repetitions\n",
    "    step=1,\n",
    "    expts=10,\n",
    "    reps=1000,\n",
    "    loops=20,\n",
    "    pulse_type='gauss',\n",
    "    test_pi_half=True,\n",
    "    divide_len=divide_len,\n",
    "    error_amp=True,\n",
    "\n",
    "    checkEF=True,\n",
    "    qTest=qubit_i,\n",
    "    qZZ=None,\n",
    "\n",
    "    readout_ge=False, # whether to readout at the g/e set point (True) or e/f set point (False)\n",
    "\n",
    "    post_process='scale',\n",
    "    singleshot_reps=15000,\n",
    ")\n",
    "\n",
    "print(npulsecalib_efhalf.cfg)\n",
    "import Pyro4.util\n",
    "try:\n",
    "    npulsecalib_efhalf.acquire(progress=True, debug=False)\n",
    "except Exception:\n",
    "    print(\"Pyro traceback:\")\n",
    "    print(\"\".join(Pyro4.util.getPyroTraceback()))"
   ]
  },
  {
   "cell_type": "code",
   "execution_count": null,
   "metadata": {},
   "outputs": [],
   "source": [
    "# # TESTING\n",
    "# temp_data, attrs = prev_data(expt_path, '00000_voltage_sweep_qubit_spectroscopy_qubit3.h5')\n",
    "# data = lengthrabi.analyze(data=temp_data, fit=True)\n",
    "\n",
    "data = npulsecalib_efhalf.data\n",
    "npulsecalib_efhalf.analyze(fit=True, scale=None)\n",
    "npulsecalib_efhalf.display(fit=True, scale=None)\n",
    "\n",
    "# npulsecalib_efhalf_fit, npulsecalib_efhalf_fit_err = meas.fitting.get_best_fit(npulsecalib_efhalf.data)\n",
    "fit_axis = 'avgi'\n",
    "npulsecalib_efhalf_fit = data[f'fit_{fit_axis}']\n",
    "npulsecalib_efhalf_fit_err = data[f'fit_err_{fit_axis}']\n",
    "\n",
    "angle_err = npulsecalib_efhalf_fit[1]\n",
    "amp_ratio = (90 - angle_err)/90\n",
    "new_amp_half_ef = np.reshape(npulsecalib_efhalf.cfg.device.qubit.pulses.pi_ef.half_gain, (4,4))[qubit_i, qubit_i] / amp_ratio\n",
    "\n",
    "yaml_cfg.device.qubit.pulses.pi_ef.half_gain = np.reshape(yaml_cfg.device.qubit.pulses.pi_ef.half_gain, (4,4))\n",
    "yaml_cfg.device.qubit.pulses.pi_ef.half_gain[qubit_i, qubit_i] = int(round(new_amp_half_ef))\n",
    "print(f'*Set pi/2 EF pulse gain for qubit {qubit_i} to {yaml_cfg.device.qubit.pulses.pi_ef.half_gain[qubit_i, qubit_i]}*')\n",
    "results_Qi.update({'Pi/2 EF pulse gain':yaml_cfg.device.qubit.pulses.pi_ef.half_gain[qubit_i, qubit_i]})\n",
    "print(f'*New pi_ef.half_gain\\n', yaml_cfg.device.qubit.pulses.pi_ef.half_gain)\n",
    "yaml_cfg.device.qubit.pulses.pi_ef.half_gain = yaml_cfg.device.qubit.pulses.pi_ef.half_gain.flatten().astype(int).tolist()\n",
    "print(f'*New pi_ef.half_gain flattened\\n{yaml_cfg.device.qubit.pulses.pi_ef.half_gain}')\n",
    "print(results_Qi)"
   ]
  },
  {
   "cell_type": "code",
   "execution_count": null,
   "metadata": {},
   "outputs": [],
   "source": [
    "if save_data: npulsecalib_efhalf.save_data()"
   ]
  },
  {
   "cell_type": "markdown",
   "metadata": {},
   "source": [
    "## (Divide gain) Calibrate EF $\\pi/2$ pulse"
   ]
  },
  {
   "cell_type": "markdown",
   "metadata": {},
   "source": [
    "### Amplitude rabi for EF $\\pi/2$ pulse (divide gain) (use this for RB)"
   ]
  },
  {
   "cell_type": "code",
   "execution_count": null,
   "metadata": {},
   "outputs": [],
   "source": [
    "pi_lenEF = np.reshape(yaml_cfg.device.qubit.pulses.pi_ef.sigma, (4,4))[qubit_i, qubit_i]\n",
    "# pi_len = 0.008\n",
    "print('qubit', qubit_i, 'pi_lenEF', pi_lenEF)"
   ]
  },
  {
   "cell_type": "code",
   "execution_count": null,
   "metadata": {},
   "outputs": [],
   "source": [
    "divide_len = False"
   ]
  },
  {
   "cell_type": "code",
   "execution_count": null,
   "metadata": {},
   "outputs": [],
   "source": [
    "amprabi_4 = meas.AmplitudeRabiExperiment(\n",
    "    soccfg=soc,\n",
    "    path=expt_path,\n",
    "    prefix=f\"amp_rabi_qubit{qubit_i}\",\n",
    "    config_file=config_path,\n",
    ")\n",
    "amprabi_4.cfg = AttrDict(deepcopy(yaml_cfg))\n",
    "\n",
    "n_pulses = 1\n",
    "span = min((32000, int(1.5*0.5*np.reshape(yaml_cfg.device.qubit.pulses.pi_ef.gain, (4,4))[qubit_i, qubit_i])))\n",
    "npts = 151\n",
    "    \n",
    "amprabi_4.cfg.expt = dict(\n",
    "    start=0, # qubit gain [dac level]\n",
    "    step=int(span/npts), # [dac level]\n",
    "    expts=npts,\n",
    "    reps=reps,\n",
    "    # reps=5,\n",
    "    rounds=rounds,\n",
    "    sigma_test=pi_lenEF, # gaussian sigma for pulse length - overrides config [us]\n",
    "    pulse_type='gauss',\n",
    "    checkEF=True, \n",
    "    n_pulses=n_pulses,\n",
    "    test_pi_half=True,\n",
    "    divide_len=divide_len,\n",
    "    qTest=qubit_i,\n",
    "    qZZ=None,\n",
    ")\n",
    "amprabi_4.go(analyze=False, display=False, progress=True, save=False)"
   ]
  },
  {
   "cell_type": "code",
   "execution_count": null,
   "metadata": {},
   "outputs": [],
   "source": [
    "# # TESTING\n",
    "# # amprabi_4 = meas.AmplitudeRabiExperiment(config_file=config_path,)\n",
    "# temp_data, attrs = prev_data(expt_path, '00000_amp_rabi_qubit0.h5')\n",
    "# amprabi_4.data = temp_data\n",
    "\n",
    "amprabi_4.analyze(fit=True)\n",
    "\n",
    "amprabi_4_fit, amprabi_4_fit_err = meas.fitting.get_best_fit(amprabi_4.data)\n",
    "\n",
    "p = amprabi_4_fit\n",
    "if p[2] > 180: p[2] = p[2] - 360\n",
    "elif p[2] < -180: p[2] = p[2] + 360\n",
    "if p[2] < 0: pi_gain = (1/2 - p[2]/180)/2/p[1]\n",
    "else: pi_gain = (3/2 - p[2]/180)/2/p[1]\n",
    "\n",
    "if pi_gain > 32000:\n",
    "    amprabi_4.display(fit=False)\n",
    "    print(f'WARNING: Fit pi/2 pulse gain is long ({pi_gain}), please double check!')\n",
    "    pi_gain = 30000\n",
    "else: amprabi_4.display(fit=True)\n",
    "\n",
    "yaml_cfg.device.qubit.pulses.pi_ef.half_gain_pi_sigma = np.reshape(yaml_cfg.device.qubit.pulses.pi_ef.half_gain_pi_sigma, (4,4))\n",
    "yaml_cfg.device.qubit.pulses.pi_ef.half_gain_pi_sigma[qubit_i, qubit_i] = int(pi_gain)\n",
    "print(f'*Set EF pi/2 pulse gain for qubit {qubit_i} to {yaml_cfg.device.qubit.pulses.pi_ef.half_gain_pi_sigma[qubit_i, qubit_i]}*')\n",
    "results_Qi.update({'Pi/2 EF pulse gain':yaml_cfg.device.qubit.pulses.pi_ef.half_gain_pi_sigma[qubit_i, qubit_i]})\n",
    "print(f'*New pi_ef.half_gain_pi_sigma\\n', yaml_cfg.device.qubit.pulses.pi_ef.half_gain_pi_sigma)\n",
    "yaml_cfg.device.qubit.pulses.pi_ef.half_gain_pi_sigma = yaml_cfg.device.qubit.pulses.pi_ef.half_gain_pi_sigma.flatten().astype(int).tolist()\n",
    "print(f'*New pi_ef.half_gain_pi_sigma flattened\\n{yaml_cfg.device.qubit.pulses.pi_ef.half_gain_pi_sigma}')\n",
    "print(results_Qi)"
   ]
  },
  {
   "cell_type": "code",
   "execution_count": null,
   "metadata": {},
   "outputs": [],
   "source": [
    "if save_data: saved_files.append(amprabi_4.save_data())"
   ]
  },
  {
   "cell_type": "markdown",
   "metadata": {},
   "source": [
    "### EF $\\pi/2$ error amplification (divide gain)\n",
    "\n",
    "this is mostly only necessary for RB"
   ]
  },
  {
   "cell_type": "code",
   "execution_count": null,
   "metadata": {},
   "outputs": [],
   "source": [
    "divide_len = False"
   ]
  },
  {
   "cell_type": "code",
   "execution_count": null,
   "metadata": {},
   "outputs": [],
   "source": [
    "npulsecalib_efhalf = meas.NPulseExperiment(\n",
    "    soccfg=soc,\n",
    "    path=expt_path,\n",
    "    prefix=f\"NPulseExptEF_half_Q{qubit_i}\",\n",
    "    config_file=config_path,\n",
    ")\n",
    "\n",
    "npulsecalib_efhalf.cfg = AttrDict(deepcopy(yaml_cfg))\n",
    "npulsecalib_efhalf.cfg.expt = dict(\n",
    "    start=0, # number gate repetitions\n",
    "    step=1,\n",
    "    expts=10,\n",
    "    reps=1000,\n",
    "    loops=20,\n",
    "    pulse_type='gauss',\n",
    "    test_pi_half=True,\n",
    "    divide_len=divide_len,\n",
    "    error_amp=True,\n",
    "\n",
    "    checkEF=True, \n",
    "    qTest=qubit_i,\n",
    "    qZZ=None,\n",
    "\n",
    "    readout_ge=False, # whether to readout at the g/e set point (True) or e/f set point (False)\n",
    "\n",
    "    post_process='scale',\n",
    "    singleshot_reps=15000,\n",
    ")\n",
    "\n",
    "print(npulsecalib_efhalf.cfg)\n",
    "import Pyro4.util\n",
    "try:\n",
    "    npulsecalib_efhalf.go(analyze=False, display=False, progress=True, save=False)\n",
    "except Exception:\n",
    "    print(\"Pyro traceback:\")\n",
    "    print(\"\".join(Pyro4.util.getPyroTraceback()))"
   ]
  },
  {
   "cell_type": "code",
   "execution_count": null,
   "metadata": {},
   "outputs": [],
   "source": [
    "# # TESTING\n",
    "# temp_data, attrs = prev_data(expt_path, '00000_voltage_sweep_qubit_spectroscopy_qubit3.h5')\n",
    "# data = lengthrabi.analyze(data=temp_data, fit=True)\n",
    "\n",
    "data = npulsecalib_efhalf.data\n",
    "npulsecalib_efhalf.analyze(fit=True, scale=None)\n",
    "npulsecalib_efhalf.display(fit=True, scale=None)\n",
    "\n",
    "# npulsecalib_efhalf_fit, npulsecalib_efhalf_fit_err = meas.fitting.get_best_fit(npulsecalib_efhalf.data)\n",
    "fit_axis = 'avgi'\n",
    "npulsecalib_efhalf_fit = data[f'fit_{fit_axis}']\n",
    "npulsecalib_efhalf_fit_err = data[f'fit_err_{fit_axis}']\n",
    "\n",
    "angle_err = npulsecalib_efhalf_fit[1]\n",
    "amp_ratio = (90 - angle_err)/90\n",
    "new_amp_half_ef = np.reshape(npulsecalib_efhalf.cfg.device.qubit.pulses.pi_ef.half_gain_pi_sigma, (4,4))[qubit_i, qubit_i] / amp_ratio\n",
    "\n",
    "yaml_cfg.device.qubit.pulses.pi_ef.half_gain_pi_sigma = np.reshape(yaml_cfg.device.qubit.pulses.pi_ef.half_gain_pi_sigma, (4,4))\n",
    "yaml_cfg.device.qubit.pulses.pi_ef.half_gain_pi_sigma[qubit_i, qubit_i] = int(round(new_amp_half_ef))\n",
    "print(f'*Set pi/2 pulse gain for qubit {qubit_i} to {yaml_cfg.device.qubit.pulses.pi_ef.half_gain_pi_sigma[qubit_i, qubit_i]}*')\n",
    "results_Qi.update({'Pi/2 pulse gain':yaml_cfg.device.qubit.pulses.pi_ef.half_gain_pi_sigma[qubit_i, qubit_i]})\n",
    "print(f'*New pi_ef.half_gain_pi_sigma\\n', yaml_cfg.device.qubit.pulses.pi_ef.half_gain_pi_sigma)\n",
    "yaml_cfg.device.qubit.pulses.pi_ef.half_gain_pi_sigma = yaml_cfg.device.qubit.pulses.pi_ef.half_gain_pi_sigma.flatten().astype(int).tolist()\n",
    "print(f'*New pi_ef.half_gain_pi_sigma flattened\\n{yaml_cfg.device.qubit.pulses.pi_ef.half_gain_pi_sigma}')\n",
    "print(results_Qi)"
   ]
  },
  {
   "cell_type": "code",
   "execution_count": null,
   "metadata": {},
   "outputs": [],
   "source": [
    "if save_data: npulsecalib_efhalf.save_data()"
   ]
  },
  {
   "cell_type": "markdown",
   "metadata": {},
   "source": [
    "## Resonator chi shift (e/f)"
   ]
  },
  {
   "cell_type": "code",
   "execution_count": 55,
   "metadata": {},
   "outputs": [
    {
     "data": {
      "application/vnd.jupyter.widget-view+json": {
       "model_id": "4f428484806b459083fddb8759c56844",
       "version_major": 2,
       "version_minor": 0
      },
      "text/plain": [
       "  0%|          | 0/151 [00:00<?, ?it/s]"
      ]
     },
     "metadata": {},
     "output_type": "display_data"
    }
   ],
   "source": [
    "rspecEF_chi = meas.ResonatorSpectroscopyExperiment(\n",
    "    soccfg=soc,\n",
    "    path=expt_path,\n",
    "    prefix=f\"resonator_spectroscopy_chi_qubit{qubit_i}\",\n",
    "    config_file=config_path,\n",
    ")\n",
    "rspecEF_chi.cfg = AttrDict(deepcopy(yaml_cfg))\n",
    "\n",
    "span = 1.0 # MHz\n",
    "npts = 151\n",
    "rspecEF_chi.cfg.expt = dict(\n",
    "    start=rspecEF_chi.cfg.device.readout.frequency[qubit_i]-abs(results_Qi['Res chi shift (e - g)'])-span, # [MHz]\n",
    "    # start=rspecEF_chi.cfg.device.readout.frequency[qubit_i]-span/2, # [MHz]\n",
    "    step=span/npts,\n",
    "    expts=npts,\n",
    "    reps=reps*rounds,\n",
    "    pulse_e=True, # add ge pi pulse prior to measurement\n",
    "    pulse_f=True, # add ef pi pulse prior to measurement\n",
    "    qTest=qubit_i,\n",
    "    qZZ=None,\n",
    ")\n",
    "# rspecEF_chi.cfg.device.readout.relax_delay = 100 # Wait time between experiments [us]\n",
    "rspecEF_chi.go(analyze=False, display=False, progress=True, save=False)"
   ]
  },
  {
   "cell_type": "code",
   "execution_count": 56,
   "metadata": {},
   "outputs": [
    {
     "name": "stdout",
     "output_type": "stream",
     "text": [
      "electrical delay phase correction (no mux support) (deg) 0.13818074256628277\n",
      "[6969.837945750131, 34849.18972875066, 34849.18972875066, 0, 0.07578257907517516, 0]\n",
      "Attempted to init fitparam 5 to 0, which is out of bounds 0 to 1.0298953614745345. Instead init to 0.5149476807372673\n",
      "[ 6.96967101e+03  1.79783911e+04  7.14335066e+04 -4.62645763e-01\n",
      " -5.57831377e-02  9.22211861e-23]\n",
      "\n",
      "Freq with minimum transmission: -230.42033239556292\n",
      "Freq with maximum transmission: -229.8110608723841\n",
      "From fit:\n",
      "\tf0: 6969.67101224337\n",
      "\tQi: 17978.391066621807 \t kappa_i/2pi: 0.3876693407333358\n",
      "\tQe: 71433.50660182409 \t kappa_e/2pi: 0.09756865291652077\n",
      "\tQ0: 14363.407448413082\n",
      "\tkappa [MHz]: 0.4852379936498566\n",
      "\tphi [radians]: -0.46264576266586716\n",
      "baseline 211.2877552846698\n",
      "ef chi shift -1.5596026490066208\n",
      "Res freq ef: -230.41370987900663\n",
      "[{}, {}, {}, {'T1': 52.3580045090926, 'T1 err': 1.6646251872930162, 'T2R': 25.602583027942746, 'T2R err': 1.5551254720790846, 'Qubit freq': 4381.109690194443, 'Pi pulse gain': 935, 'T2E': 27.649964593090505, 'T2E err': 1.1781089735321566, 'Res chi shift (e - g)': -0.8046357615893953, 'Qubit EF freq': 4208.832479183671, 'Pi EF pulse gain': 523, 'Qubit temp [mK]': 72.74668238714514, 'Qubit E thermal population (%)': 5.88276844959484, 'T2R EF': 16.628768565911635, 'T2R EF err': 1.0029000270571076, 'Res chi shift (f - g)': -1.5596026490066208, 'Res freq ef (yaml)': -230.41370987900663}]\n"
     ]
    }
   ],
   "source": [
    "# # TESTING\n",
    "# # rspecEF_chi = meas.ResonatorSpectroscopyExperiment(config_file=config_path,) \n",
    "# temp_data, attrs = prev_data(expt_path, '00001_resonator_spectroscopy_qubit2.h5')\n",
    "# rspecEF_chi.data = temp_data\n",
    "\n",
    "rspecEF_chi.data = rspecEF_chi.analyze(fit=True)\n",
    "rspecEF_chi_fit = rspecEF_chi.data['fit']\n",
    "rspecEF_chi.display(fit=True)\n",
    "# res_freq_f = rspecEF_chi_fit[0] - yaml_cfg.hw.soc.dacs.readout.mixer_freq[qubit_i]\n",
    "res_freq_f = rspecEF_chi.data['xpts'][np.argmin(rspecEF_chi.data['amps'])]\n",
    "print('ef chi shift', yaml_cfg.device.readout.lo_sideband[qubit_i]*(res_freq_f - yaml_cfg.device.readout.frequency[qubit_i]))\n",
    "results_Qi.update({'Res chi shift (f - g)': yaml_cfg.device.readout.lo_sideband[qubit_i]*(res_freq_f - yaml_cfg.device.readout.frequency[qubit_i])})\n",
    "results_Qi.update({'Res freq ef (yaml)':res_freq_f})\n",
    "\n",
    "print('Res freq ef:', res_freq_f)\n",
    "\n",
    "# yaml_cfg.device.readout.frequency_ef = [0]*4\n",
    "yaml_cfg.device.readout.frequency_ef[qubit_i] = res_freq_f\n",
    "# res_freq_f = 6953.5\n",
    "print(all_results)"
   ]
  },
  {
   "cell_type": "code",
   "execution_count": null,
   "metadata": {},
   "outputs": [],
   "source": [
    "if save_data: saved_files.append(rspecEF_chi.save_data())"
   ]
  },
  {
   "cell_type": "markdown",
   "metadata": {},
   "source": [
    "## $T_1$ EF"
   ]
  },
  {
   "cell_type": "code",
   "execution_count": null,
   "metadata": {},
   "outputs": [],
   "source": [
    "t1EF = meas.T1Experiment(\n",
    "    soccfg=soc,\n",
    "    path=expt_path,\n",
    "    prefix=f\"t1EF_qubit{qubit_i}\",\n",
    "    config_file=config_path,\n",
    ")\n",
    "t1EF.cfg = AttrDict(deepcopy(yaml_cfg))\n",
    "\n",
    "span = 100\n",
    "npts = 151\n",
    "\n",
    "t1EF.cfg.expt = dict(\n",
    "    start=0, # wait time [us]\n",
    "    step=span/npts,\n",
    "    expts=npts,\n",
    "    reps=reps,\n",
    "    # reps=5,\n",
    "    rounds=rounds,\n",
    "    qTest=qubit_i,\n",
    "    checkEF=True,\n",
    ")\n",
    "t1EF.cfg.device.readout.relax_delay = span # Wait time between experiments [us]\n",
    "t1EF.go(analyze=False, display=False, progress=True, save=False)"
   ]
  },
  {
   "cell_type": "code",
   "execution_count": null,
   "metadata": {},
   "outputs": [],
   "source": [
    "# # TESTING\n",
    "# # t1EF = meas.T1Experiment(config_file=config_path,)\n",
    "# temp_data, attrs = prev_data(expt_path, '00000_t1EF_qubit1.h5')\n",
    "# t1EF.data = temp_data\n",
    "\n",
    "t1EF.analyze(fit_log=False)\n",
    "\n",
    "t1EF_fit, t1EF_fit_err = meas.fitting.get_best_fit(t1EF.data) #, fitter.expfunc)\n",
    "\n",
    "t1EF.display(fit=True, fit_log=False)\n",
    "t1EF_qubit = t1EF_fit[3]\n",
    "yaml_cfg.device.readout.relax_delay[qubit_i] = np.round(4*t1EF_qubit)\n",
    "print(f'*Set readout {qubit_i} relax delay to {yaml_cfg.device.readout.relax_delay[qubit_i]}*')\n",
    "results_Qi.update({'T1_EF':t1EF_qubit, 'T1_EF err':np.sqrt(t1EF_fit_err[3][3])})\n",
    "print(f'qubit {qubit_i}', results_Qi)"
   ]
  },
  {
   "cell_type": "code",
   "execution_count": null,
   "metadata": {},
   "outputs": [],
   "source": [
    "if save_data: saved_files.append(t1.save_data())"
   ]
  },
  {
   "cell_type": "markdown",
   "metadata": {},
   "source": [
    "# Single Shot"
   ]
  },
  {
   "cell_type": "code",
   "execution_count": 82,
   "metadata": {},
   "outputs": [],
   "source": [
    "import yaml\n",
    "with open(config_path, 'r') as cfg_file:\n",
    "    yaml_cfg = yaml.safe_load(cfg_file)\n",
    "yaml_cfg = AttrDict(yaml_cfg)"
   ]
  },
  {
   "cell_type": "markdown",
   "metadata": {},
   "source": [
    "## Single shot optimization"
   ]
  },
  {
   "cell_type": "code",
   "execution_count": null,
   "metadata": {},
   "outputs": [],
   "source": [
    "results_Qi['Res kappa'] = 0.2\n",
    "# print(results_Qi['Res kappa'])"
   ]
  },
  {
   "cell_type": "code",
   "execution_count": 76,
   "metadata": {},
   "outputs": [],
   "source": [
    "qubit_i = 3"
   ]
  },
  {
   "cell_type": "code",
   "execution_count": null,
   "metadata": {},
   "outputs": [],
   "source": [
    "shotopt = meas.SingleShotOptExperiment(\n",
    "    soccfg=soc,\n",
    "    path=expt_path,\n",
    "    prefix=f\"single_shot_opt_qubit{qubit_i}\",\n",
    "    config_file=config_path,\n",
    ")\n",
    "shotopt.cfg = AttrDict(deepcopy(yaml_cfg))\n",
    "\n",
    "# span_f = 2*abs(results_Qi['Res chi shift (f - g)']) # MHz\n",
    "# span_f = 2*abs(results_Qi['Res chi shift (e - g)']) # MHz\n",
    "\n",
    "span_f = 1.0*abs(results_Qi['Res kappa']) # MHz\n",
    "npts_f = 15\n",
    "# span_f = 0\n",
    "# npts_f = 1\n",
    "\n",
    "span_gain = 0.4\n",
    "npts_gain = 8\n",
    "# span_gain = 0.0\n",
    "# npts_gain = 8\n",
    "\n",
    "# span_len = 5 # us\n",
    "# npts_len = 10\n",
    "span_len = 0 # us\n",
    "npts_len = 1\n",
    "\n",
    "shotopt.cfg.expt = dict(\n",
    "    reps=15000,\n",
    "    qTest=qubit_i,\n",
    "\n",
    "    # start_f=shotopt.cfg.device.readout.frequency[qubit_i] - span_f,\n",
    "    # start_f=shotopt.cfg.device.readout.frequency[qubit_i] + 0.25*span_f,\n",
    "    # start_f=shotopt.cfg.device.readout.frequency[qubit_i],\n",
    "    start_f=shotopt.cfg.device.readout.frequency[qubit_i] - span_f/2, # [MHz]\n",
    "    step_f=span_f/npts_f,\n",
    "    expts_f=npts_f,\n",
    "\n",
    "    # start_gain=shotopt.cfg.device.readout.gain[qubit_i]-span_gain/2,\n",
    "    start_gain=0.2,\n",
    "    step_gain=span_gain/npts_gain,\n",
    "    expts_gain=npts_gain + 1,\n",
    "    # start_gain=0.2,\n",
    "    # step_gain=0,\n",
    "    # expts_gain=1,\n",
    "\n",
    "    start_len=shotopt.cfg.device.readout.readout_length[qubit_i],\n",
    "    step_len=span_len/npts_len,\n",
    "    expts_len=npts_len,\n",
    "    # start_len=7,\n",
    "    # step_len=span_len/npts_len,\n",
    "    # expts_len=npts_len + 1,\n",
    ")\n",
    "\n",
    "print(shotopt.cfg)\n",
    "\n",
    "shotopt.go(analyze=False, display=False, progress=True, save=False)"
   ]
  },
  {
   "cell_type": "code",
   "execution_count": null,
   "metadata": {},
   "outputs": [],
   "source": [
    "imax = shotopt.analyze()\n",
    "shotopt.display()\n",
    "print(shotopt.data['fid'])\n",
    "\n",
    "freq_opt = shotopt.data['fpts'][imax[0]]\n",
    "gain_opt = shotopt.data['gainpts'][imax[1]]\n",
    "len_opt = shotopt.data['lenpts'][imax[2]]"
   ]
  },
  {
   "cell_type": "code",
   "execution_count": null,
   "metadata": {},
   "outputs": [],
   "source": [
    "\n",
    "# Using readlines()\n",
    "file1 = open('C:\\\\Users\\\\slab\\\\Downloads\\\\singleshot_opt.txt', 'r')\n",
    "lines = file1.readlines()\n",
    "freqs = []\n",
    "gains = []\n",
    "lengths = []\n",
    "fids = []\n",
    "\n",
    "line = lines[0]\n",
    "words = line.split()\n",
    "freq = float(words[1][:-1])\n",
    "freqs.append(freq)\n",
    "gain = float(words[3][:-1])\n",
    "gains.append(gain)\n",
    "length = float(words[5])\n",
    "lengths.append(length)\n",
    "\n",
    "fid_line = lines[1]\n",
    "fids.append(float(fid_line.split()[3]))\n",
    " \n",
    "# Strips the newline character\n",
    "for i in range(2, len(lines), 2):\n",
    "    line = lines[i]\n",
    "    words = line.split()\n",
    "    freq = float(words[1][:-1])\n",
    "    if freq not in freqs: freqs.append(freq)\n",
    "    gain = float(words[3][:-1])\n",
    "    if gain not in gains: gains.append(gain)\n",
    "    length = float(words[5])\n",
    "    if length not in lengths: lengths.append(length)\n",
    "\n",
    "    fid_line = lines[i+1]\n",
    "    fids.append(float(fid_line.split()[3]))\n",
    "    continue\n",
    "\n",
    "fids = np.append(fids, [0]*22)\n",
    "fids = np.reshape(fids, newshape=(len(freqs), len(gains), len(lengths)))\n",
    "\n",
    "# lenpts = [data['lenpts'][0]]\n",
    "for g_ind, gain in enumerate(gains):\n",
    "    for l_ind, l in enumerate(lengths):\n",
    "        plt.plot(freqs, fids[:,g_ind, l_ind], 'o-', label=f'gain: {gain:.2}, len [us]: {l}')\n",
    "plt.xlabel('Frequency [MHz]')\n",
    "plt.ylabel(f'Fidelity [%]')\n",
    "plt.legend()\n",
    "plt.show()\n"
   ]
  },
  {
   "cell_type": "code",
   "execution_count": null,
   "metadata": {},
   "outputs": [],
   "source": [
    "if save_data: saved_files.append(shotopt.save_data())"
   ]
  },
  {
   "cell_type": "markdown",
   "metadata": {},
   "source": [
    "next qubit"
   ]
  },
  {
   "cell_type": "code",
   "execution_count": null,
   "metadata": {},
   "outputs": [],
   "source": [
    "qubit_i = 2\n",
    "results_Qi = all_results[qubit_i]\n",
    "results_Qi['Res kappa'] = 0.2\n",
    "# print(results_Qi['Res kappa'])"
   ]
  },
  {
   "cell_type": "code",
   "execution_count": null,
   "metadata": {},
   "outputs": [],
   "source": [
    "shotopt = meas.SingleShotOptExperiment(\n",
    "    soccfg=soc,\n",
    "    path=expt_path,\n",
    "    prefix=f\"single_shot_opt_qubit{qubit_i}\",\n",
    "    config_file=config_path,\n",
    ")\n",
    "shotopt.cfg = AttrDict(deepcopy(yaml_cfg))\n",
    "\n",
    "# span_f = 2*abs(results_Qi['Res chi shift (f - g)']) # MHz\n",
    "# span_f = 2*abs(results_Qi['Res chi shift (e - g)']) # MHz\n",
    "\n",
    "# span_f = 2*abs(results_Qi['Res kappa']) # MHz\n",
    "# npts_f = 15\n",
    "\n",
    "span_f = 3*abs(results_Qi['Res kappa']) # MHz\n",
    "npts_f = 20\n",
    "\n",
    "# span_gain = 0.85\n",
    "# npts_gain = 5\n",
    "span_gain = 0.6\n",
    "npts_gain = 6\n",
    "\n",
    "span_len = 0 # us\n",
    "npts_len = 1\n",
    "\n",
    "shotopt.cfg.expt = dict(\n",
    "    reps=20000,\n",
    "    qTest=qubit_i,\n",
    "\n",
    "    # start_f=shotopt.cfg.device.readout.frequency[qubit_i] - 0.75*span_f,\n",
    "    # start_f=shotopt.cfg.device.readout.frequency[qubit_i] + 0.25*span_f,\n",
    "    # start_f=shotopt.cfg.device.readout.frequency[qubit_i],\n",
    "    start_f=shotopt.cfg.device.readout.frequency[qubit_i] - span_f/2, # [MHz]\n",
    "    step_f=span_f/npts_f,\n",
    "    expts_f=npts_f,\n",
    "\n",
    "    # start_gain=int(shotopt.cfg.device.readout.gain[qubit_i]-span_gain/2),\n",
    "    start_gain=0.1,\n",
    "    # start_gain=0.10,\n",
    "    step_gain=span_gain/npts_gain,\n",
    "    expts_gain=npts_gain + 1,\n",
    "\n",
    "    start_len=5,\n",
    "    # step_len=span_len/npts_len,\n",
    "    # expts_len=npts_len + 1,\n",
    "    step_len=0,\n",
    "    expts_len=1,\n",
    ")\n",
    "\n",
    "print(shotopt.cfg)\n",
    "\n",
    "shotopt.go(analyze=False, display=False, progress=True, save=False)"
   ]
  },
  {
   "cell_type": "code",
   "execution_count": null,
   "metadata": {},
   "outputs": [],
   "source": [
    "imax = shotopt.analyze()\n",
    "shotopt.display()\n",
    "print(shotopt.data['fid'])\n",
    "\n",
    "freq_opt = shotopt.data['fpts'][imax[0]]\n",
    "gain_opt = shotopt.data['gainpts'][imax[1]]\n",
    "len_opt = shotopt.data['lenpts'][imax[2]]"
   ]
  },
  {
   "cell_type": "code",
   "execution_count": null,
   "metadata": {},
   "outputs": [],
   "source": [
    "if save_data: saved_files.append(shotopt.save_data())"
   ]
  },
  {
   "cell_type": "markdown",
   "metadata": {},
   "source": [
    "next qubit"
   ]
  },
  {
   "cell_type": "code",
   "execution_count": null,
   "metadata": {},
   "outputs": [],
   "source": [
    "qubit_i = 3\n",
    "results_Qi = all_results[qubit_i]\n",
    "results_Qi['Res kappa'] = 0.2\n",
    "# print(results_Qi['Res kappa'])"
   ]
  },
  {
   "cell_type": "code",
   "execution_count": null,
   "metadata": {},
   "outputs": [],
   "source": [
    "shotopt = meas.SingleShotOptExperiment(\n",
    "    soccfg=soc,\n",
    "    path=expt_path,\n",
    "    prefix=f\"single_shot_opt_qubit{qubit_i}\",\n",
    "    config_file=config_path,\n",
    ")\n",
    "shotopt.cfg = AttrDict(deepcopy(yaml_cfg))\n",
    "\n",
    "# span_f = 2*abs(results_Qi['Res chi shift (f - g)']) # MHz\n",
    "# span_f = 2*abs(results_Qi['Res chi shift (e - g)']) # MHz\n",
    "\n",
    "# span_f = 2*abs(results_Qi['Res kappa']) # MHz\n",
    "# npts_f = 15\n",
    "\n",
    "span_f = 3*abs(results_Qi['Res kappa']) # MHz\n",
    "npts_f = 20\n",
    "\n",
    "# span_gain = 0.85\n",
    "# npts_gain = 5\n",
    "span_gain = 0.1\n",
    "npts_gain = 8\n",
    "\n",
    "span_len = 0 # us\n",
    "npts_len = 1\n",
    "\n",
    "shotopt.cfg.expt = dict(\n",
    "    reps=15000,\n",
    "    qTest=qubit_i,\n",
    "\n",
    "    # start_f=shotopt.cfg.device.readout.frequency[qubit_i] - 0.75*span_f,\n",
    "    # start_f=shotopt.cfg.device.readout.frequency[qubit_i] + 0.25*span_f,\n",
    "    # start_f=shotopt.cfg.device.readout.frequency[qubit_i],\n",
    "    start_f=shotopt.cfg.device.readout.frequency[qubit_i] - span_f/2, # [MHz]\n",
    "    step_f=span_f/npts_f,\n",
    "    expts_f=npts_f,\n",
    "\n",
    "    # start_gain=int(shotopt.cfg.device.readout.gain[qubit_i]-span_gain/2),\n",
    "    start_gain=0.01,\n",
    "    # start_gain=0.10,\n",
    "    step_gain=span_gain/npts_gain,\n",
    "    expts_gain=npts_gain + 1,\n",
    "\n",
    "    start_len=8.0,\n",
    "    # step_len=span_len/npts_len,\n",
    "    # expts_len=npts_len + 1,\n",
    "    step_len=0,\n",
    "    expts_len=1,\n",
    ")\n",
    "\n",
    "print(shotopt.cfg)\n",
    "\n",
    "shotopt.go(analyze=False, display=False, progress=True, save=False)"
   ]
  },
  {
   "cell_type": "code",
   "execution_count": null,
   "metadata": {},
   "outputs": [],
   "source": [
    "imax = shotopt.analyze()\n",
    "shotopt.display()\n",
    "print(shotopt.data['fid'])\n",
    "\n",
    "freq_opt = shotopt.data['fpts'][imax[0]]\n",
    "gain_opt = shotopt.data['gainpts'][imax[1]]\n",
    "len_opt = shotopt.data['lenpts'][imax[2]]"
   ]
  },
  {
   "cell_type": "code",
   "execution_count": null,
   "metadata": {},
   "outputs": [],
   "source": [
    "if save_data: saved_files.append(shotopt.save_data())"
   ]
  },
  {
   "cell_type": "markdown",
   "metadata": {},
   "source": [
    "## Best readout parameters"
   ]
  },
  {
   "cell_type": "code",
   "execution_count": 101,
   "metadata": {},
   "outputs": [],
   "source": [
    "qubit_i = 1"
   ]
  },
  {
   "cell_type": "code",
   "execution_count": 102,
   "metadata": {},
   "outputs": [
    {
     "name": "stdout",
     "output_type": "stream",
     "text": [
      "{'device': {'readout': {'trig_offset': 150, 'lo_sideband': [1, 1, 1, 1], 'frequency': [-389.9452717544333, 5795.711666663333, 502.368233333334, -228.89410723], 'gain': [0.3, 0.3, 0.85, 0.85], 'readout_length': [15.0, 10.0, 5.0, 15.0], 'frequency_ef': [-391.80446161500305, 5794.287237348879, 500.35983051204073, -230.41370987900663], 'readout_length_ef': [10.0, 7.0, 4.0, 8.0], 'relax_delay': [450, 450, 450, 180.0]}, 'qubit': {'f_ge': [4110.960034531112, 4105.867592682015, 4110.994688934281, 4110.579369837695, 3443.482349236793, 3448.1827559199737, 3447.706823169816, 3447.5052085761054, 4762.743580751455, 4761.745710010409, 4762.869314693491, 4762.370786469688, 4380.292461267258, 4379.535103914169, 4380.328267473819, 4381.109690194443], 'f_ef': [3884.6269161242526, 0.0, 0.0, 0.0, 0.0, 3348.085433174199, 0.0, 0.0, 4571.9056482340775, 4570.996526541673, 4572.9368263382785, 0.0, 4209.8719428597715, 4205.61697813965, 0.0, 4208.832479183671], 'f_EgGf': [2686.53594683, 0, 2017.3, 2414.92850999], 'f_EgGf_Q': [0, 0, 5883.653411964549, 5141.717729722623], 'f_f0g1': [1184.4, 999.8, 1632.9833333333333, 1620.9166666666665], 'gs': [52.40296404695958, 54.81794456602636, 43.49513117058557, 4.930653352423196, 2.6415018214608046, 6.386231497692186], 'pulses': {'pi_ge': {'sigma': [0.02, 0.02, 0.02, 0.02, 0.025, 0.025, 0.025, 0.025, 0.015, 0.015, 0.015, 0.015, 0.025, 0.025, 0.025, 0.025], 'gain': [1849, 1914, 0, 1855, 2834, 2504, 2648, 2631, 14489, 14572, 14736, 14639, 963, 959, 974, 935], 'half_gain': [1864, 1867, 1871, 1873, 2511, 2319, 2341, 2320, 14796, 14866, 14631, 14805, 856, 852, 858, 856], 'half_correction_phase': [0, 0, 0, 0, 0, 0, 0, 0, 0, 0, 0, 0, 0, 0, 0, 0, 0], 'half_gain_pi_sigma': [927, 0, 0, 0, 0, 1315, 0, 0, 0, 0, 7212, 0, 0, 0, 0, 460], 'type': 'gauss'}, 'pi_ef': {'sigma': [0.02, 0.02, 0.02, 0.02, 0.025, 0.025, 0.025, 0.025, 0.015, 0.015, 0.015, 0.015, 0.03, 0.03, 0.03, 0.03], 'gain': [1280, 0, 0, 0, 0, 1912, 0, 0, 10000, 10079, 10015, 0, 734, 718, 0, 523], 'half_gain': [1261, 0, 0, 0, 0, 1941, 0, 0, 0, 10147, 10121, 9979, 535, 528, 0, 529], 'half_gain_pi_sigma': [673, 0, 0, 0, 0, 975, 0, 0, 0, 0, 5049, 0, 350, 0, 0, 337], 'type': 'gauss'}, 'pi_EgGf': {'gain': [32000, 0, 30000, 16000], 'sigma': [0.586, 0, 0.8, 0.44643], 'type': 'flat_top'}, 'pi_EgGf_Q': {'gain': [0, 0, 19655, 15344], 'sigma': [0, 0, 0.4361071627609746, 0.2878957887434301], 'phase': [0, 0, 18.0, 24.0], 'half_sigma': [0, 0, 0.212, 0.172], 'half_phase': [0, 0, 18.0, 21.0], 'type': 'flat_top'}, 'pi_f0g1': {'gain': [32000, 32000, 32000, 32000], 'sigma': [0.536, 0.585, 1.54, 1.04], 'idle': [3, 6, 12, 8], 'type': 'flat_top'}, 'pulse_pp': {'gain': [1750, 3550, 0, 0], 'filename': '240920_3_qram_4q_2qubit_++gg'}, 'pulse_1p': {'gain': [3500, 4375, 0, 0], 'filename': '240920_qram_4q_2qubit_e+gg'}, 'pulse_p1': {'gain': [3000, 5530, 0, 0], 'filename': '240920_qram_4q_2qubit_+egg'}, 'pihalf_ge_robust': {'gain_q0': [0, 0, 0, 0], 'gain_q1': [0, 0, 0, 0], 'gain_q2': [0, 0, 0, 0], 'gain_q3': [0, 0, 0, 0], 'filename': ['', '', '', '']}, 'pi_ge_slow': {'gain': [-1, 100, -1, -1], 'sigma': [-1, 0.25, -1, -1], 'type': 'gauss'}, 'pi_Q1_ZZ_slow': {'gain': [100, 0, -1, -1], 'sigma': [0.25, 0, -1, -1], 'type': 'gauss'}}}}, 'hw': {'soc': {'dacs': {'qubit': {'ch': [0, 1, 2, 3], 'type': 'full', 'nyquist': [2, 1, 2, 2], 'mixer_freq': [0, 0, 0, 0]}, 'swap': {'ch': 1, 'type': 'full', 'nyquist': 1, 'mixer_freq': 0}, 'swap_f0g1': {'ch': [1, 1, 5, 5], 'type': ['full', 'full', 'full', 'full'], 'nyquist': 1, 'mixer_freq': 0}, 'swap_Q': {'ch': [0, -1, 2, 3], 'type': ['full', 'None', 'full', 'full'], 'nyquist': [2, 0, 2, 2], 'mixer_freq': 0}, 'readout': {'ch': [6, 4, 6, 6], 'type': ['mux4', 'full', 'mux4', 'mux4'], 'mixer_freq': [7200, 0, 7200, 7200], 'nyquist': [2, 2, 2, 2]}, 'res_pump': {'ch': 4, 'type': 'full', 'mixer_freq': 0, 'nyquist': 2}, 'delay_chs': {'ch': [0, 1, 2, 3, 4, 5, 6], 'delay_ns': [8.7, 8.5, 0, 7.6, 24, 20, 104.5]}}, 'adcs': {'readout': {'ch': [0, 1, 2, 3]}}}, 'lo': {'twpa': {'frequency': '8240.0e6', 'power': -0.65}, 'readout': {'frequency': 0, 'power': 0}}}, 'aliases': {'readout_LO': 'SC_20A1', 'twpa_LO': 'SC_26C1', 'soc': 'Qick_QRAM'}, 'expt': {'reps': 20000, 'check_f': False, 'qTest': 1}}\n"
     ]
    },
    {
     "data": {
      "application/vnd.jupyter.widget-view+json": {
       "model_id": "7a2c9cb60cff4f048538e5eeca39d19f",
       "version_major": 2,
       "version_minor": 0
      },
      "text/plain": [
       "  0%|          | 0/20000 [00:00<?, ?it/s]"
      ]
     },
     "metadata": {},
     "output_type": "display_data"
    },
    {
     "data": {
      "application/vnd.jupyter.widget-view+json": {
       "model_id": "44251d5a1fc449f0bd67a7dabff89d58",
       "version_major": 2,
       "version_minor": 0
      },
      "text/plain": [
       "  0%|          | 0/20000 [00:00<?, ?it/s]"
      ]
     },
     "metadata": {},
     "output_type": "display_data"
    }
   ],
   "source": [
    "shot = meas.HistogramExperiment(\n",
    "    soccfg=soc,\n",
    "    path=expt_path,\n",
    "    prefix=f\"single_shot_qubit{qubit_i}\",\n",
    "    config_file=config_path,\n",
    ")\n",
    "shot.cfg = AttrDict(deepcopy(yaml_cfg))\n",
    "\n",
    "shot.cfg.expt = dict(\n",
    "    reps=20000,\n",
    "    check_f=False,\n",
    "    qTest=qubit_i,\n",
    ")\n",
    "\n",
    "# shot.cfg.device.readout.frequency=freq_opt\n",
    "# shot.cfg.device.readout.gain[qubit_i]=gain_opt\n",
    "# print(freq_opt, gain_opt)\n",
    "# shot.cfg.device.readout.readout_length = len_opt # [us]\n",
    "\n",
    "# shot.cfg.device.readout.frequency=-807.4996158081035\n",
    "# shot.cfg.device.readout.gain[qubit_i] = 0.85\n",
    "# shot.cfg.device.readout.readout_length = 2.0 # [us]\n",
    "# shot.cfg.device.readout.relax_delay = 70 # Wait time between experiments [us]\n",
    "print(shot.cfg)\n",
    "\n",
    "shot.go(analyze=False, display=False, progress=True, save=False)"
   ]
  },
  {
   "cell_type": "code",
   "execution_count": 103,
   "metadata": {},
   "outputs": [
    {
     "name": "stdout",
     "output_type": "stream",
     "text": [
      "g unrotated averages:\n",
      "I 524.244659423828 +/- 165.4801820501037 \t Q -135.71884851888024 +/- 164.49953633873974 \t Amp 567.2181963159685 +/- 161.11913186444207\n",
      "Rotated (theta=-1.1335525262842383):\n",
      "I 99.03762919843481 +/- 165.54472858161319 \t Q -532.3942306040232 +/- 164.4345795319094 \t Amp 541.5275327974529 +/- 161.11913186444207\n",
      "e unrotated averages:\n",
      "I 641.2084763020833 +/- 168.8951202188044 \t Q 114.5151248372396 +/- 186.9872808459765 \t Amp 678.1520262839151 +/- 166.91811758177812\n",
      "Rotated (theta=-1.1335525262842383):\n",
      "I 375.2577875510093 +/- 197.07274683677562 \t Q -532.3942306040229 +/- 157.0099910391203 \t Amp 651.3539927705426 +/- 166.91811758177812\n",
      "ge fidelity (%): 58.95499999999998\n",
      "rotation angle (deg): -64.94777561247918\n",
      "threshold ge: 243.45528357457079\n"
     ]
    }
   ],
   "source": [
    "# # TESTING\n",
    "# shot = meas.HistogramExperiment(config_file=config_path)\n",
    "# temp_data, attrs = prev_data(expt_path, '00001_single_shot_qubit0.h5')\n",
    "# data = shot.analyze(data=temp_data)\n",
    "# shot.display(data=data)\n",
    "\n",
    "shot.analyze(verbose=False)\n",
    "shot.display(verbose=True)\n",
    "results_Qi.update({'Single shot g-e fidelity (%)': 100*shot.data['fids'][0]})"
   ]
  },
  {
   "cell_type": "code",
   "execution_count": null,
   "metadata": {},
   "outputs": [],
   "source": [
    "if save_data: saved_files.append(shot.save_data())"
   ]
  },
  {
   "cell_type": "code",
   "execution_count": null,
   "metadata": {},
   "outputs": [],
   "source": [
    "# TESTING\n",
    "shot = meas.HistogramExperiment(config_file=config_path)\n",
    "temp_data, attrs = prev_data('S:\\\\Connie\\\\experiments\\\\qramLL_4QR2\\\\data\\\\data_240617\\\\00000_single_shot_qubit2.h5')\n",
    "shot.cfg = AttrDict(attrs['config'])\n",
    "shot.data = temp_data"
   ]
  },
  {
   "cell_type": "code",
   "execution_count": null,
   "metadata": {},
   "outputs": [],
   "source": [
    "# Checking for drift vs. shot number\n",
    "\n",
    "data = shot.data\n",
    "\n",
    "Ies = data['Ie']\n",
    "Qes = data['Qe']\n",
    "Igs = data['Ig']\n",
    "Qgs = data['Qg']\n",
    "\n",
    "plot_e = False\n",
    "\n",
    "if plot_e:\n",
    "    i, q = Ies, Qes\n",
    "else:\n",
    "    i, q = Igs, Qgs\n",
    "\n",
    "amps = np.abs(i+1j*q)\n",
    "phases = np.angle(i+1j*q)\n",
    "\n",
    "# plt.plot(amps, '.', label='amps')\n",
    "# plt.ylabel('Amps [ADC units]')\n",
    "# plt.xlabel('Shot number')\n",
    "# plt.legend()\n",
    "# plt.show()\n",
    "\n",
    "plt.title(f'Q{shot.cfg.expt.qTest} {\"e\" if plot_e else \"g\"}')\n",
    "plt.plot(phases, '.', label='phases')\n",
    "plt.axhline(0, color='r')\n",
    "# plt.axhline(1.5, color='r')\n",
    "plt.ylabel('Phases [radians]')\n",
    "plt.xlabel('Shot number')\n",
    "plt.legend()\n",
    "plt.show()\n",
    "\n",
    "plt.plot(i, '.', label='i')\n",
    "plt.ylabel('I [ADC units]')\n",
    "plt.xlabel('Shot number')\n",
    "plt.legend()\n",
    "plt.show()\n",
    "\n",
    "plt.plot(q, '.', label='Q')\n",
    "plt.ylabel('Q [ADC units]')\n",
    "plt.xlabel('Shot number')\n",
    "plt.legend()\n",
    "plt.show()"
   ]
  },
  {
   "cell_type": "markdown",
   "metadata": {},
   "source": [
    "# Results"
   ]
  },
  {
   "cell_type": "code",
   "execution_count": 74,
   "metadata": {},
   "outputs": [
    {
     "name": "stdout",
     "output_type": "stream",
     "text": [
      "{'device': {'readout': {'trig_offset': 150, 'lo_sideband': [1, 1, 1, 1], 'frequency': [-389.9452717544333, 5795.711666663333, 502.368233333334, -228.85410723], 'gain': [0.3, 0.3, 0.85, 0.85], 'readout_length': [15.0, 10.0, 5.0, 15.0], 'frequency_ef': [-391.80446161500305, 5794.287237348879, 500.35983051204073, -230.41370987900663], 'readout_length_ef': [10.0, 7.0, 4.0, 8.0], 'relax_delay': [450, 450, 450, 450]}, 'qubit': {'f_ge': [4111.097866562327, 4105.867592682015, 4110.994688934281, 4110.579369837695, 3443.482349236793, 3448.1402562265434, 3447.706823169816, 3447.5052085761054, 4762.743580751455, 4761.745710010409, 4762.909473544484, 4762.370786469688, 4380.292461267258, 4379.535103914169, 4380.328267473819, 4381.248121020163], 'f_ef': [3884.6269161242526, 0.0, 0.0, 0.0, 0.0, 3348.085433174199, 0.0, 0.0, 4571.9056482340775, 4570.996526541673, 4573.058329968845, 0.0, 4209.8719428597715, 4205.61697813965, 0.0, 4208.990881064611], 'f_EgGf': [2686.53594683, 0, 2017.3, 2414.92850999], 'f_EgGf_Q': [0, 0, 5883.653411964549, 5141.717729722623], 'f_f0g1': [1184.4, 999.8, 1632.9833333333333, 1620.9166666666665], 'gs': [52.40296404695958, 54.81794456602636, 43.49513117058557, 4.930653352423196, 2.6415018214608046, 6.386231497692186], 'pulses': {'pi_ge': {'sigma': [0.02, 0.02, 0.02, 0.02, 0.025, 0.025, 0.025, 0.025, 0.015, 0.015, 0.015, 0.015, 0.025, 0.025, 0.025, 0.025], 'gain': [1849, 1914, 0, 1855, 2834, 2504, 2648, 2631, 14489, 14572, 14736, 14639, 963, 959, 974, 935], 'half_gain': [1856, 1867, 1871, 1873, 2511, 2242, 2341, 2320, 14796, 14866, 14508, 14805, 856, 852, 858, 819], 'half_correction_phase': [0, 0, 0, 0, 0, 0, 0, 0, 0, 0, 0, 0, 0, 0, 0, 0, 0], 'half_gain_pi_sigma': [927, 0, 0, 0, 0, 1315, 0, 0, 0, 0, 7212, 0, 0, 0, 0, 460], 'type': 'gauss'}, 'pi_ef': {'sigma': [0.02, 0.02, 0.02, 0.02, 0.025, 0.025, 0.025, 0.025, 0.015, 0.015, 0.015, 0.015, 0.03, 0.03, 0.03, 0.03], 'gain': [1280, 0, 0, 0, 0, 1912, 0, 0, 10000, 10079, 10015, 0, 734, 718, 0, 523], 'half_gain': [1261, 0, 0, 0, 0, 1941, 0, 0, 0, 10147, 9921, 9979, 535, 528, 0, 518], 'half_gain_pi_sigma': [673, 0, 0, 0, 0, 975, 0, 0, 0, 0, 5049, 0, 350, 0, 0, 337], 'type': 'gauss'}, 'pi_EgGf': {'gain': [32000, 0, 30000, 16000], 'sigma': [0.586, 0, 0.8, 0.44643], 'type': 'flat_top'}, 'pi_EgGf_Q': {'gain': [0, 0, 19655, 15344], 'sigma': [0, 0, 0.4361071627609746, 0.2878957887434301], 'phase': [0, 0, 18.0, 24.0], 'half_sigma': [0, 0, 0.212, 0.172], 'half_phase': [0, 0, 18.0, 21.0], 'type': 'flat_top'}, 'pi_f0g1': {'gain': [32000, 32000, 32000, 32000], 'sigma': [0.536, 0.585, 1.54, 1.04], 'idle': [3, 6, 12, 8], 'type': 'flat_top'}, 'pulse_pp': {'gain': [1750, 3550, 0, 0], 'filename': '240920_3_qram_4q_2qubit_++gg'}, 'pulse_1p': {'gain': [3500, 4375, 0, 0], 'filename': '240920_qram_4q_2qubit_e+gg'}, 'pulse_p1': {'gain': [3000, 5530, 0, 0], 'filename': '240920_qram_4q_2qubit_+egg'}, 'pihalf_ge_robust': {'gain_q0': [0, 0, 0, 0], 'gain_q1': [0, 0, 0, 0], 'gain_q2': [0, 0, 0, 0], 'gain_q3': [0, 0, 0, 0], 'filename': ['', '', '', '']}, 'pi_ge_slow': {'gain': [-1, 100, -1, -1], 'sigma': [-1, 0.25, -1, -1], 'type': 'gauss'}, 'pi_Q1_ZZ_slow': {'gain': [100, 0, -1, -1], 'sigma': [0.25, 0, -1, -1], 'type': 'gauss'}}}}, 'hw': {'soc': {'dacs': {'qubit': {'ch': [0, 1, 2, 3], 'type': 'full', 'nyquist': [2, 1, 2, 2], 'mixer_freq': [0, 0, 0, 0]}, 'swap': {'ch': 1, 'type': 'full', 'nyquist': 1, 'mixer_freq': 0}, 'swap_f0g1': {'ch': [1, 1, 5, 5], 'type': ['full', 'full', 'full', 'full'], 'nyquist': 1, 'mixer_freq': 0}, 'swap_Q': {'ch': [0, -1, 2, 3], 'type': ['full', 'None', 'full', 'full'], 'nyquist': [2, 0, 2, 2], 'mixer_freq': 0}, 'readout': {'ch': [6, 4, 6, 6], 'type': ['mux4', 'full', 'mux4', 'mux4'], 'mixer_freq': [7200, 0, 7200, 7200], 'nyquist': [2, 2, 2, 2]}, 'res_pump': {'ch': 4, 'type': 'full', 'mixer_freq': 0, 'nyquist': 2}, 'delay_chs': {'ch': [0, 1, 2, 3, 4, 5, 6], 'delay_ns': [8.7, 8.5, 0, 7.6, 24, 20, 104.5]}}, 'adcs': {'readout': {'ch': [0, 1, 2, 3]}}}, 'lo': {'twpa': {'frequency': '8240.0e6', 'power': -0.65}, 'readout': {'frequency': 0, 'power': 0}}}, 'aliases': {'readout_LO': 'SC_20A1', 'twpa_LO': 'SC_26C1', 'soc': 'Qick_QRAM'}}\n",
      "Qubit 0\n",
      "\tT2R: 28.835024899060134\n",
      "\tT2R err: 5.697905387689036\n",
      "\tQubit freq: 4111.097866562327\n",
      "\tPi/2 pulse gain: 1856\n",
      "\n",
      "Qubit 1\n",
      "\tT2R: 26.406723555440024\n",
      "\tT2R err: 5.466864662803722\n",
      "\tQubit freq: 3448.1402562265434\n",
      "\tPi/2 pulse gain: 2242\n",
      "\n",
      "Qubit 2\n",
      "\tT2R: 17.46130560440174\n",
      "\tT2R err: 1.9184046541670396\n",
      "\tQubit freq: 4762.909473544484\n",
      "\tPi/2 pulse gain: 14508\n",
      "\tQubit EF freq: 4573.058329968845\n",
      "\tT2R EF: 19.74783530097964\n",
      "\tT2R EF err: 2.934531109425013\n",
      "\tPi/2 EF pulse gain: 9921\n",
      "\n",
      "Qubit 3\n",
      "\tT2R: 111.89095968983096\n",
      "\tT2R err: 87.10574225600891\n",
      "\tQubit freq: 4381.248121020163\n",
      "\tPi/2 pulse gain: 819\n",
      "\tQubit EF freq: 4208.990881064611\n",
      "\tT2R EF: 27.84091040503751\n",
      "\tT2R EF err: 5.001940572250491\n",
      "\tPi/2 EF pulse gain: 518\n",
      "\n",
      "f_ge\n",
      "[4111.097866562327, 4105.867592682015, 4110.994688934281, 4110.579369837695, 3443.482349236793, 3448.1402562265434, 3447.706823169816, 3447.5052085761054, 4762.743580751455, 4761.745710010409, 4762.909473544484, 4762.370786469688, 4380.292461267258, 4379.535103914169, 4380.328267473819, 4381.248121020163]\n",
      "pi_ge.gain\n",
      "[1849, 1914, 0, 1855, 2834, 2504, 2648, 2631, 14489, 14572, 14736, 14639, 963, 959, 974, 935]\n",
      "pi_ge.half_gain\n",
      "[1856, 1867, 1871, 1873, 2511, 2242, 2341, 2320, 14796, 14866, 14508, 14805, 856, 852, 858, 819]\n",
      "pi_ge.half_gain_pi_sigma\n",
      "[927, 0, 0, 0, 0, 1315, 0, 0, 0, 0, 7212, 0, 0, 0, 0, 460]\n",
      "f_ef\n",
      "[3884.6269161242526, 0.0, 0.0, 0.0, 0.0, 3348.085433174199, 0.0, 0.0, 4571.9056482340775, 4570.996526541673, 4573.058329968845, 0.0, 4209.8719428597715, 4205.61697813965, 0.0, 4208.990881064611]\n",
      "pi_ef.gain\n",
      "[1280, 0, 0, 0, 0, 1912, 0, 0, 10000, 10079, 10015, 0, 734, 718, 0, 523]\n",
      "pi_ef.half_gain\n",
      "[1261, 0, 0, 0, 0, 1941, 0, 0, 0, 10147, 9921, 9979, 535, 528, 0, 518]\n",
      "pi_ef.half_gain_pi_sigma\n",
      "[673, 0, 0, 0, 0, 975, 0, 0, 0, 0, 5049, 0, 350, 0, 0, 337]\n",
      "readout.frequency_ef\n",
      "[-391.80446161500305, 5794.287237348879, 500.35983051204073, -230.41370987900663]\n"
     ]
    }
   ],
   "source": [
    "print(yaml_cfg)\n",
    "for Qi, results in enumerate(all_results):\n",
    "    print(f'Qubit {Qi}')\n",
    "    for key, value in results.items():\n",
    "        print(f'\\t{key}: {value}')\n",
    "    print()\n",
    "\n",
    "for saved_file in saved_files:\n",
    "    print(saved_file)\n",
    "\n",
    "print(f'f_ge\\n{yaml_cfg.device.qubit.f_ge}')\n",
    "print(f'pi_ge.gain\\n{yaml_cfg.device.qubit.pulses.pi_ge.gain}')\n",
    "print(f'pi_ge.half_gain\\n{yaml_cfg.device.qubit.pulses.pi_ge.half_gain}')\n",
    "print(f'pi_ge.half_gain_pi_sigma\\n{yaml_cfg.device.qubit.pulses.pi_ge.half_gain_pi_sigma}')\n",
    "print(f'f_ef\\n{yaml_cfg.device.qubit.f_ef}')\n",
    "print(f'pi_ef.gain\\n{yaml_cfg.device.qubit.pulses.pi_ef.gain}')\n",
    "print(f'pi_ef.half_gain\\n{yaml_cfg.device.qubit.pulses.pi_ef.half_gain}')\n",
    "print(f'pi_ef.half_gain_pi_sigma\\n{yaml_cfg.device.qubit.pulses.pi_ef.half_gain_pi_sigma}')\n",
    "print(f'readout.frequency_ef\\n{yaml_cfg.device.readout.frequency_ef}')"
   ]
  },
  {
   "cell_type": "code",
   "execution_count": null,
   "metadata": {},
   "outputs": [],
   "source": []
  }
 ],
 "metadata": {
  "kernelspec": {
   "display_name": "base",
   "language": "python",
   "name": "python3"
  },
  "language_info": {
   "codemirror_mode": {
    "name": "ipython",
    "version": 3
   },
   "file_extension": ".py",
   "mimetype": "text/x-python",
   "name": "python",
   "nbconvert_exporter": "python",
   "pygments_lexer": "ipython3",
   "version": "3.9.13"
  },
  "toc": {
   "base_numbering": 1,
   "nav_menu": {},
   "number_sections": true,
   "sideBar": true,
   "skip_h1_title": false,
   "title_cell": "Table of Contents",
   "title_sidebar": "Contents",
   "toc_cell": false,
   "toc_position": {
    "height": "calc(100% - 180px)",
    "left": "10px",
    "top": "150px",
    "width": "177px"
   },
   "toc_section_display": true,
   "toc_window_display": false
  }
 },
 "nbformat": 4,
 "nbformat_minor": 4
}
