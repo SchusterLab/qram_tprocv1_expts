{
 "cells": [
  {
   "cell_type": "code",
   "execution_count": 1,
   "metadata": {},
   "outputs": [],
   "source": [
    "# %matplotlib inline\n",
    "%matplotlib qt5"
   ]
  },
  {
   "cell_type": "code",
   "execution_count": 2,
   "metadata": {},
   "outputs": [
    {
     "name": "stdout",
     "output_type": "stream",
     "text": [
      "Could not import QickInstrument (will only work if running on rfsoc). If running on rfsoc, try install/update qick package\n",
      "Warning failed to import AWG81180A\n",
      "Warning failed to import Tek5014\n",
      "Warning failed to import Tek70001\n",
      "Warning failed to import M8195A\n"
     ]
    },
    {
     "name": "stderr",
     "output_type": "stream",
     "text": [
      "c:\\ProgramData\\Anaconda3\\lib\\site-packages\\IPython\\qt.py:12: ShimWarning: The `IPython.qt` package has been deprecated since IPython 4.0. You should import from qtconsole instead.\n",
      "  warn(\"The `IPython.qt` package has been deprecated since IPython 4.0. \"\n"
     ]
    },
    {
     "name": "stdout",
     "output_type": "stream",
     "text": [
      "Could not load InstrumentManagerWindow\n",
      "Could not load labbrick\n",
      "Could not load Autonics TM4 Driver\n",
      "Could not load Oxford Trition driver\n"
     ]
    }
   ],
   "source": [
    "%load_ext autoreload\n",
    "%autoreload 2\n",
    "\n",
    "import numpy as np\n",
    "import matplotlib.pyplot as plt\n",
    "import matplotlib.style as style\n",
    "from mpl_toolkits.axes_grid1 import make_axes_locatable\n",
    "\n",
    "from qick import *\n",
    "from qick.helpers import gauss\n",
    "\n",
    "import logging\n",
    "logger = logging.getLogger('qick.qick_asm')\n",
    "logger.setLevel(logging.ERROR)\n",
    "\n",
    "from tqdm import tqdm_notebook as tqdm\n",
    "\n",
    "import time\n",
    "import os\n",
    "expt_path=os.getcwd()+'/data'\n",
    "import sys\n",
    "import scipy as sp\n",
    "import json\n",
    "\n",
    "import qutip as qt\n",
    "import qutip.visualization as qplt\n",
    "\n",
    "from slab.instruments import InstrumentManager\n",
    "from slab.experiment import Experiment\n",
    "from slab.datamanagement import SlabFile\n",
    "from slab import get_next_filename, AttrDict\n",
    "\n",
    "# Figure params\n",
    "plt.rcParams['figure.figsize'] = [10,6]\n",
    "plt.rcParams.update({'font.size': 16})\n",
    "# style.use('default')\n",
    "style.use('S:\\Connie\\prx.mplstyle')\n",
    "\n",
    "np.set_printoptions(threshold=sys.maxsize)"
   ]
  },
  {
   "cell_type": "code",
   "execution_count": 3,
   "metadata": {},
   "outputs": [],
   "source": [
    "sys.path.append(os.getcwd()+'/../../qutip_sims')\n",
    "from QSwitch import QSwitch\n",
    "from PulseSequence import PulseSequence"
   ]
  },
  {
   "cell_type": "code",
   "execution_count": 4,
   "metadata": {},
   "outputs": [
    {
     "name": "stdout",
     "output_type": "stream",
     "text": [
      "imported experiments.clifford_averager_program\n",
      "imported experiments.fitting\n",
      "imported experiments.four_qubit.fourQ_state_tomo\n",
      "imported experiments.qram_protocol_timestepped\n",
      "imported experiments.single_qubit.acstarkshift_spectroscopy\n",
      "imported experiments.single_qubit.amplitude_rabi\n",
      "imported experiments.single_qubit.length_rabi\n",
      "imported experiments.single_qubit.pulse_probe_spectroscopy\n",
      "imported experiments.single_qubit.resonator_spectroscopy\n",
      "imported experiments.single_qubit.rfsoc_tof_calibration\n",
      "imported experiments.single_qubit.single_shot\n",
      "imported experiments.single_qubit.t1\n",
      "imported experiments.single_qubit.t2_ramsey\n",
      "imported experiments.three_qubit.threeQ_state_tomo\n",
      "imported experiments.two_qubit.amplitude_rabi_EgGf\n",
      "imported experiments.two_qubit.amplitude_rabi_f0g1\n",
      "imported experiments.two_qubit.amprabi_opt_ctrl_state_prep\n",
      "imported experiments.two_qubit.crosstalk_echo_calib\n",
      "imported experiments.two_qubit.length_rabi_EgGf\n",
      "imported experiments.two_qubit.length_rabi_F0G1\n",
      "imported experiments.two_qubit.phase_calib_EgGf\n",
      "imported experiments.two_qubit.pulse_probe_EgGf_spectroscopy\n",
      "imported experiments.two_qubit.randbench\n",
      "imported experiments.two_qubit.random_test_pulses\n",
      "imported experiments.two_qubit.twoqutrit_state_tomography\n",
      "imported experiments.two_qubit.twoQ_state_tomography\n"
     ]
    }
   ],
   "source": [
    "# %aimport experiments\n",
    "# NOTE: ADDING NEW METHODS WILL NOT BE UPDATED\n",
    "import experiments as meas"
   ]
  },
  {
   "cell_type": "markdown",
   "metadata": {},
   "source": [
    "# Tomo analysis"
   ]
  },
  {
   "cell_type": "code",
   "execution_count": 5,
   "metadata": {},
   "outputs": [],
   "source": [
    "from TomoAnalysis import TomoAnalysis\n",
    "tomo_analysis = TomoAnalysis(nb_qubits=3)"
   ]
  },
  {
   "cell_type": "markdown",
   "metadata": {},
   "source": [
    "# Getting ideal rho"
   ]
  },
  {
   "cell_type": "markdown",
   "metadata": {},
   "source": [
    "Define psi basis"
   ]
  },
  {
   "cell_type": "code",
   "execution_count": 6,
   "metadata": {},
   "outputs": [],
   "source": [
    "# 2 cardinal points on Bloch sphere for each measurement axis\n",
    "# psiZ = [qt.basis(3,0), qt.basis(3,1)]\n",
    "psiZ = [qt.basis(2,0), qt.basis(2,1)]\n",
    "psiX = [1/np.sqrt(2)*(psiZ[0]+psiZ[1]), 1/np.sqrt(2)*(psiZ[0]-psiZ[1])]\n",
    "psiY = [1/np.sqrt(2)*(psiZ[0]+1j*psiZ[1]), 1/np.sqrt(2)*(psiZ[0]-1j*psiZ[1])]\n",
    "psi_dict = dict(Z=psiZ, X=psiX, Y=psiY)\n",
    "\n",
    "psis = dict() # psis in the ZZZ basis\n",
    "for i, label_numeric in enumerate(tomo_analysis.calib_order_numeric):\n",
    "    psis.update({label_numeric:tomo_analysis.psi_basis['ZZZ'][i]})\n",
    "id3q = qt.tensor(qt.qeye(2), qt.qeye(2), qt.qeye(2))\n",
    "id2q = qt.tensor(qt.qeye(2), qt.qeye(2))"
   ]
  },
  {
   "cell_type": "code",
   "execution_count": 7,
   "metadata": {},
   "outputs": [],
   "source": [
    "def name_to_state_2q(init_state): # in format |QA>|QB>\n",
    "    Qa, Qb, _ = init_state.split('>')\n",
    "    Qa = Qa[1:]\n",
    "    Qb = Qb[1:]\n",
    "    psi_name_dict = {\n",
    "        '0':psiZ[0],\n",
    "        '1':psiZ[1],\n",
    "        '0+1':(psiZ[0]+psiZ[1]).unit(),\n",
    "        '0-1':(psiZ[0]-psiZ[1]).unit(), \n",
    "        '0+i':(psiZ[0]+1j*psiZ[1]).unit(), \n",
    "        '0-i':(psiZ[0]-1j*psiZ[1]).unit(), \n",
    "    }\n",
    "    try:\n",
    "        psiA = psi_name_dict[Qa]\n",
    "    except:\n",
    "        print(f'QA state {Qa} is not an allowed cardinal state')\n",
    "    try:\n",
    "        psiB = psi_name_dict[Qb]\n",
    "    except:\n",
    "        print(f'QB state {Qb} is not an allowed cardinal state')\n",
    "    return qt.tensor(psiA, psiB)\n",
    "\n",
    "    \n",
    "def get_qram_qSLR_state_from_rho(init_rho_SI, post_select=False, post_select_state=None):\n",
    "    \"\"\"\n",
    "    init_rho_SI should be a np array\n",
    "    \"\"\"\n",
    "    # in order |00>, |01>, |10>, |11> for Q0 (switch), Q1 (input)\n",
    "    SI_to_SLR = [psis['000'], -1j*psis['010'], psis['100'], -1j*psis['101']]\n",
    "\n",
    "    assert np.shape(init_rho_SI) == id2q.shape\n",
    "    rho_final_SLR = 0*qt.ket2dm(psis['000'])\n",
    "    # print('constructing final state on |switch, out1, out2>')\n",
    "    for i in range(len(SI_to_SLR)):\n",
    "        slr_ket_i = SI_to_SLR[i]\n",
    "        for j in range(len(SI_to_SLR)):\n",
    "            slr_ket_j = SI_to_SLR[j]\n",
    "            mat_el = init_rho_SI[i, j]\n",
    "            rho_final_SLR += mat_el * slr_ket_i * slr_ket_j.dag()\n",
    "    return rho_final_SLR.unit()"
   ]
  },
  {
   "cell_type": "markdown",
   "metadata": {},
   "source": [
    "# Run experiment and analysis"
   ]
  },
  {
   "cell_type": "code",
   "execution_count": 8,
   "metadata": {},
   "outputs": [],
   "source": [
    "\"\"\"Reopen saved data\"\"\"\n",
    "def prev_data(expt_path, filename=None, verbose=True):\n",
    "    temp_data_file = expt_path\n",
    "    if filename is not None: temp_data_file = os.path.join(expt_path, filename)\n",
    "    if verbose: print(temp_data_file)\n",
    "    with SlabFile(temp_data_file) as a:\n",
    "        attrs = dict()\n",
    "        for key in list(a.attrs):\n",
    "            attrs.update({key:json.loads(a.attrs[key])})\n",
    "        keys = list(a)\n",
    "        temp_data = dict()\n",
    "        for key in keys:\n",
    "            temp_data.update({key:np.array(a[key])})\n",
    "        if verbose: print(f'Extracted data and attrs {list(a.attrs)}')\n",
    "    return temp_data, attrs"
   ]
  },
  {
   "cell_type": "code",
   "execution_count": 9,
   "metadata": {},
   "outputs": [
    {
     "name": "stdout",
     "output_type": "stream",
     "text": [
      "Data will be stored in S:\\QRAM\\qram_4QR2\\data\\data_250119\n"
     ]
    }
   ],
   "source": [
    "data_path = 'S:\\\\QRAM\\\\qram_4QR2\\\\'\n",
    "# expt_path=os.path.join(os.getcwd(), 'data', 'data_240617')\n",
    "expt_path = os.path.join(data_path, 'data', 'data_250119')\n",
    "print('Data will be stored in', expt_path)"
   ]
  },
  {
   "cell_type": "code",
   "execution_count": 10,
   "metadata": {},
   "outputs": [
    {
     "name": "stdout",
     "output_type": "stream",
     "text": [
      "Config will be s:\\Connie\\experiments\\qram_tprocv1_expts\\configs\\config_q3diamond_full688and638_reset.yml\n"
     ]
    }
   ],
   "source": [
    "# config_file = 'config_zcu216.yml'\n",
    "# config_file = 'config_q3diamond.yml'\n",
    "# config_file = 'config_q3diamond_full688_reset.yml'\n",
    "config_file = 'config_q3diamond_full688and638_reset.yml'\n",
    "# config_path = os.path.join(os.getcwd(), config_file)\n",
    "\n",
    "# config_file = 'config.yml'\n",
    "config_path = os.path.join('s:\\\\Connie\\\\experiments\\\\qram_tprocv1_expts\\\\configs\\\\', config_file)\n",
    "\n",
    "print('Config will be', config_path)"
   ]
  },
  {
   "cell_type": "code",
   "execution_count": 11,
   "metadata": {},
   "outputs": [],
   "source": [
    "import yaml\n",
    "with open(config_path, 'r') as cfg_file:\n",
    "    yaml_cfg = yaml.safe_load(cfg_file)\n",
    "yaml_cfg = AttrDict(yaml_cfg)"
   ]
  },
  {
   "cell_type": "code",
   "execution_count": 12,
   "metadata": {},
   "outputs": [],
   "source": [
    "import Pyro4.util"
   ]
  },
  {
   "cell_type": "markdown",
   "metadata": {},
   "source": [
    "## Setup experiment hardware\n",
    "\n",
    "Set in config:\n",
    "- LO alias, frequency, power\n",
    "- SOC dac channels, nyquist zones"
   ]
  },
  {
   "cell_type": "code",
   "execution_count": 13,
   "metadata": {},
   "outputs": [
    {
     "name": "stdout",
     "output_type": "stream",
     "text": [
      "dict_keys(['Pyro.NameServer', 'Qick_QRAM'])\n"
     ]
    }
   ],
   "source": [
    "# ns_address = '10.108.30.56' # Spilker Fermium\n",
    "ns_address = '10.108.30.75' # Spilker Vibranium\n",
    "im = InstrumentManager(ns_address=ns_address)\n",
    "print(im.keys())"
   ]
  },
  {
   "cell_type": "code",
   "execution_count": 14,
   "metadata": {},
   "outputs": [
    {
     "name": "stdout",
     "output_type": "stream",
     "text": [
      "QICK running on ZCU216, software version 0.2.272\n",
      "\n",
      "Firmware configuration (built Sat Oct  5 10:21:47 2024):\n",
      "\n",
      "\tGlobal clocks (MHz): tProcessor 430.080, RF reference 245.760\n",
      "\n",
      "\t7 signal generator channels:\n",
      "\t0:\taxis_signal_gen_v6 - envelope memory 32768 samples (5.128 us)\n",
      "\t\tfs=6389.760 MHz, fabric=399.360 MHz, 32-bit DDS, range=6389.760 MHz\n",
      "\t\tDAC tile 2, blk 0 is 0_230, on JHC3\n",
      "\t1:\taxis_signal_gen_v6 - envelope memory 32768 samples (5.128 us)\n",
      "\t\tfs=6389.760 MHz, fabric=399.360 MHz, 32-bit DDS, range=6389.760 MHz\n",
      "\t\tDAC tile 2, blk 1 is 1_230, on JHC4\n",
      "\t2:\taxis_signal_gen_v6 - envelope memory 32768 samples (5.128 us)\n",
      "\t\tfs=6389.760 MHz, fabric=399.360 MHz, 32-bit DDS, range=6389.760 MHz\n",
      "\t\tDAC tile 2, blk 2 is 2_230, on JHC3\n",
      "\t3:\taxis_signal_gen_v6 - envelope memory 32768 samples (5.128 us)\n",
      "\t\tfs=6389.760 MHz, fabric=399.360 MHz, 32-bit DDS, range=6389.760 MHz\n",
      "\t\tDAC tile 2, blk 3 is 3_230, on JHC4\n",
      "\t4:\taxis_signal_gen_v6 - envelope memory 32768 samples (4.762 us)\n",
      "\t\tfs=6881.280 MHz, fabric=430.080 MHz, 32-bit DDS, range=6881.280 MHz\n",
      "\t\tDAC tile 3, blk 0 is 0_231, on JHC3\n",
      "\t5:\taxis_signal_gen_v6 - envelope memory 32768 samples (4.762 us)\n",
      "\t\tfs=6881.280 MHz, fabric=430.080 MHz, 32-bit DDS, range=6881.280 MHz\n",
      "\t\tDAC tile 3, blk 1 is 1_231, on JHC4\n",
      "\t6:\taxis_sg_mux4_v2 - envelope memory 0 samples (0.000 us)\n",
      "\t\tfs=6881.280 MHz, fabric=430.080 MHz, 32-bit DDS, range=1720.320 MHz\n",
      "\t\tDAC tile 0, blk 0 is 0_228, on JHC1\n",
      "\n",
      "\t4 constant-IQ outputs:\n",
      "\t0:\tfs=6881.280 MHz\n",
      "\t\tDAC tile 1, blk 0 is 0_229, on JHC1\n",
      "\t1:\tfs=6881.280 MHz\n",
      "\t\tDAC tile 1, blk 1 is 1_229, on JHC2\n",
      "\t2:\tfs=6881.280 MHz\n",
      "\t\tDAC tile 1, blk 2 is 2_229, on JHC1\n",
      "\t3:\tfs=6881.280 MHz\n",
      "\t\tDAC tile 1, blk 3 is 3_229, on JHC2\n",
      "\n",
      "\t4 readout channels:\n",
      "\t0:\taxis_pfb_readout_v2 - configured by PYNQ\n",
      "\t\tfs=2457.600 MHz, decimated=307.200 MHz, 32-bit DDS, range=307.200 MHz\n",
      "\t\tmaxlen 16384 accumulated, 1024 decimated (3.333 us)\n",
      "\t\ttriggered by output 7, pin 8, feedback to tProc input 0\n",
      "\t\tADC tile 2, blk 0 is 0_226, on JHC7\n",
      "\t1:\taxis_pfb_readout_v2 - configured by PYNQ\n",
      "\t\tfs=2457.600 MHz, decimated=307.200 MHz, 32-bit DDS, range=307.200 MHz\n",
      "\t\tmaxlen 16384 accumulated, 1024 decimated (3.333 us)\n",
      "\t\ttriggered by output 7, pin 9, feedback to tProc input 1\n",
      "\t\tADC tile 2, blk 0 is 0_226, on JHC7\n",
      "\t2:\taxis_pfb_readout_v2 - configured by PYNQ\n",
      "\t\tfs=2457.600 MHz, decimated=307.200 MHz, 32-bit DDS, range=307.200 MHz\n",
      "\t\tmaxlen 16384 accumulated, 1024 decimated (3.333 us)\n",
      "\t\ttriggered by output 7, pin 10, feedback to tProc input 2\n",
      "\t\tADC tile 2, blk 0 is 0_226, on JHC7\n",
      "\t3:\taxis_pfb_readout_v2 - configured by PYNQ\n",
      "\t\tfs=2457.600 MHz, decimated=307.200 MHz, 32-bit DDS, range=307.200 MHz\n",
      "\t\tmaxlen 16384 accumulated, 1024 decimated (3.333 us)\n",
      "\t\ttriggered by output 7, pin 11, feedback to tProc input 3\n",
      "\t\tADC tile 2, blk 0 is 0_226, on JHC7\n",
      "\n",
      "\t8 digital output pins:\n",
      "\t0:\tPMOD0_0_LS\n",
      "\t1:\tPMOD0_1_LS\n",
      "\t2:\tPMOD0_2_LS\n",
      "\t3:\tPMOD0_3_LS\n",
      "\t4:\tPMOD0_4_LS\n",
      "\t5:\tPMOD0_5_LS\n",
      "\t6:\tPMOD0_6_LS\n",
      "\t7:\tPMOD0_7_LS\n",
      "\n",
      "\ttProc axis_tproc64x32_x8 (\"v1\") rev 4: program memory 16384 words, data memory 4096 words\n",
      "\t\texternal start pin: PMOD1_0_LS\n"
     ]
    }
   ],
   "source": [
    "soc = QickConfig(im[yaml_cfg['aliases']['soc']].get_cfg())\n",
    "print(soc)\n",
    "# print(soc.description())\n",
    "# print(soc.dump_cfg())"
   ]
  },
  {
   "cell_type": "code",
   "execution_count": null,
   "metadata": {},
   "outputs": [],
   "source": [
    "lo1 = im[yaml_cfg.aliases.readout_LO]\n",
    "lo1.open_device()\n",
    "print(lo1.get_id())\n",
    "\n",
    "# TURN OFF\n",
    "lo1.set_standby(True)\n",
    "lo1.set_output_state(False)\n",
    "\n",
    "# # TURN ON\n",
    "# lo1.set_standby(False)\n",
    "# lo1.set_output_state(True)\n",
    "# lo_freq = float(yaml_cfg.hw.lo.readout.frequency)\n",
    "# lo_power = float(yaml_cfg.hw.lo.readout.power)\n",
    "# lo1.set_frequency(lo_freq) # Set LO frequency\n",
    "# print('set freq to', lo_freq)\n",
    "# lo1.set_power(lo_power) # Set LO power\n",
    "# print('set power to', lo_power)"
   ]
  },
  {
   "cell_type": "markdown",
   "metadata": {},
   "source": [
    "## Run experiment and acquire data"
   ]
  },
  {
   "cell_type": "markdown",
   "metadata": {
    "tags": []
   },
   "source": [
    "### Test 3Q tomo"
   ]
  },
  {
   "cell_type": "code",
   "execution_count": null,
   "metadata": {},
   "outputs": [],
   "source": [
    "save_data = True\n",
    "saved_files = []"
   ]
  },
  {
   "cell_type": "code",
   "execution_count": null,
   "metadata": {},
   "outputs": [],
   "source": [
    "tomo_qubits = [0, 2, 3] # which qubit/resonator we want to probe"
   ]
  },
  {
   "cell_type": "code",
   "execution_count": null,
   "metadata": {},
   "outputs": [],
   "source": [
    "tomoExpt = meas.TestStateTomo3QExperiment(\n",
    "    soccfg=soc,\n",
    "    path=expt_path,\n",
    "    prefix=f\"test_3q_state_tomo_{tomo_qubits[0]}{tomo_qubits[1]}{tomo_qubits[2]}\",\n",
    "    config_file=config_path,\n",
    ")\n",
    "\n",
    "tomoExpt.cfg.expt = dict(\n",
    "    reps=20000, # reps per measurement basis\n",
    "    singleshot_reps=30000, # reps for single shot calib\n",
    "    tomo_qubits=tomo_qubits,\n",
    ")\n",
    "\n",
    "print(tomoExpt.cfg)\n",
    "import Pyro4.util\n",
    "try:\n",
    "    tomoExpt.go(analyze=False, display=False, progress=True, save=False)\n",
    "except Exception:\n",
    "    print(\"Pyro traceback:\")\n",
    "    print(\"\".join(Pyro4.util.getPyroTraceback()))\n",
    "\n",
    "if save_data: saved_files.append(tomoExpt.save_data())"
   ]
  },
  {
   "cell_type": "code",
   "execution_count": null,
   "metadata": {},
   "outputs": [],
   "source": [
    "tomo = tomoExpt\n",
    "# tomo = qramExpt\n",
    "\n",
    "# data, attrs = prev_data(expt_path, '00062_qram_protocol.h5')\n",
    "# pulse_dict = attrs['pulse_dict']\n",
    "# assert np.all(np.array(attrs['meas_order']) == meas_order)\n",
    "# assert np.all(np.array(attrs['calib_order']) == calib_order)\n",
    "\n",
    "print(meas_order)\n",
    "print(calib_order)\n",
    "\n",
    "data = tomo.data\n",
    "pulse_dict = tomo.pulse_dict\n",
    "assert np.all(np.array(tomo.meas_order) == tomo_analysis.meas_order)\n",
    "assert np.all(np.array(tomo.calib_order) == tomo_analysis.calib_order)\n",
    "\n",
    "n_tomo_raw = np.array(data['counts_tomo'])\n",
    "n_calib = np.array(data['counts_calib'])\n",
    "\n",
    "np.set_printoptions(suppress=True)\n",
    "print('Tomography counts')\n",
    "print(n_tomo_raw)\n",
    "print('Confusion matrix counts')\n",
    "print(n_calib)\n",
    "print('Confusion matrix corrected tomo matrix will be')\n",
    "print(tomo_analysis.correct_readout_err(n_tomo_raw, n_calib))\n",
    "# print('Negative counts corrected tomo matrix will be')\n",
    "# print(tomo_analysis.fix_neg_counts(correct_readout_err(n_tomo_raw, n_calib)))"
   ]
  },
  {
   "cell_type": "markdown",
   "metadata": {},
   "source": [
    "### Qram experiment"
   ]
  },
  {
   "cell_type": "code",
   "execution_count": 536,
   "metadata": {},
   "outputs": [],
   "source": [
    "tomo_qubits = [0, 2, 3] # which qubit/resonators to do tomo on\n",
    "# tomo_qubits = [0, 1, 2] # which qubit/resonators to do tomo on"
   ]
  },
  {
   "cell_type": "code",
   "execution_count": 537,
   "metadata": {},
   "outputs": [],
   "source": [
    "save_data = False\n",
    "saved_files = []"
   ]
  },
  {
   "cell_type": "code",
   "execution_count": 585,
   "metadata": {},
   "outputs": [],
   "source": [
    "# init_state = '|0>|0+i>' # Q0/Q1 (switch, input)\n",
    "# init_state = '|1>|0+1>' # Q0/Q1 (switch, input)\n",
    "# init_state = '|0+1>|1>' # Q0/Q1 (switch, input)\n",
    "init_state = '|0+1>|0+1>' # Q0/Q1 (switch, input)\n",
    "\n",
    "# init_state = 'Q2Q0_|1>|0>'\n",
    "# init_state = '|0>|1>' # Q0/Q1 (switch, input)\n",
    "# init_state = 'Q2Q0_|1>|0>'\n",
    "\n",
    "# play_pulses = [0] # 1: Q2/Q1 with Q0 in g, 2: Q3/Q1 with Q0 in e, 3: Q2 ef pulse, 4: Q3 ef pulse [2, 1, 4, 3]\n",
    "play_pulses = [2, 1, 4, 3] # 1: Q2/Q1 with Q0 in g, 2: Q3/Q1 with Q0 in e, 3: Q2 ef pulse, 4: Q3 ef pulse [2, 1, 4, 3]\n",
    "# play_pulses = [1, 3] # 1: Q2/Q1 with Q0 in g, 2: Q3/Q1 with Q0 in e, 3: Q2 ef pulse, 4: Q3 ef pulse [2, 1, 4, 3]\n",
    "# play_pulses = [2, 4] # 1: Q2/Q1 with Q0 in g, 2: Q3/Q1 with Q0 in e, 3: Q2 ef pulse, 4: Q3 ef pulse [2, 1, 4, 3]\n",
    "\n",
    "# cool_qubits = [0, 1]\n",
    "cool_qubits = None\n",
    "readout_cool = False\n",
    "\n",
    "full_mux_expt = True\n",
    "resonator_reset = [0, 2, 3]\n",
    "\n",
    "use_IQ_pulse = False\n",
    "\n",
    "use_robust_pulses = True\n",
    "\n",
    "sync_between_swaps = False\n",
    "sync_between_efs = False"
   ]
  },
  {
   "cell_type": "code",
   "execution_count": 586,
   "metadata": {
    "tags": []
   },
   "outputs": [
    {
     "name": "stdout",
     "output_type": "stream",
     "text": [
      "timesteps [inf]\n"
     ]
    },
    {
     "data": {
      "application/vnd.jupyter.widget-view+json": {
       "model_id": "3940ae1a67764795894bf2dda28f84c0",
       "version_major": 2,
       "version_minor": 0
      },
      "text/plain": [
       "  0%|          | 0/8 [00:00<?, ?it/s]"
      ]
     },
     "metadata": {},
     "output_type": "display_data"
    },
    {
     "name": "stdout",
     "output_type": "stream",
     "text": [
      "Qubit  (0)\n",
      "ge fidelity (%): 20.00000000000003 \t angle (deg): 0.0 \t threshold ge: 686.1283498556322\n",
      "Qubit  (2)\n",
      "ge fidelity (%): 29.999999999999993 \t angle (deg): 0.0 \t threshold ge: 377.00518722277997\n",
      "Qubit  (3)\n",
      "ge fidelity (%): 20.0 \t angle (deg): 0.0 \t threshold ge: 135.06780805119254\n",
      "thresholds=[686.1283498556322, 0, 377.00518722277997, 135.06780805119254],\n",
      "angles=[0.0, 0, 0.0, 0.0],\n",
      "ge_avgs=[[-89.45622457282343, -54.142066720911316, 15.506590724166006, -140.57323026851097], [0, 0, 0, 0], [7.947843775427179, -1.3695687550854416, 41.16842961757527, 20.520097640358017], [-147.40504475183076, 85.90585842148089, 66.51952807160293, 143.88901545972334]] ,\n",
      "counts_calib=[[0, 4, 0, 4, 0, 1, 0, 1], [0, 4, 1, 3, 0, 2, 0, 0], [1, 6, 0, 3, 0, 0, 0, 0], [0, 5, 1, 3, 0, 1, 0, 0], [0, 5, 1, 3, 0, 1, 0, 0], [1, 3, 1, 5, 0, 0, 0, 0], [0, 4, 1, 4, 0, 0, 0, 1], [1, 6, 0, 2, 0, 0, 0, 1]]\n",
      "\n"
     ]
    },
    {
     "data": {
      "application/vnd.jupyter.widget-view+json": {
       "model_id": "0ce8fc4a6fdc4295916ccf512514d329",
       "version_major": 2,
       "version_minor": 0
      },
      "text/plain": [
       "  0%|          | 0/1 [00:00<?, ?it/s]"
      ]
     },
     "metadata": {},
     "output_type": "display_data"
    },
    {
     "data": {
      "application/vnd.jupyter.widget-view+json": {
       "model_id": "c6b32dfc51e34da295fad5c0efc7a6e8",
       "version_major": 2,
       "version_minor": 0
      },
      "text/plain": [
       "  0%|          | 0/1 [00:00<?, ?it/s]"
      ]
     },
     "metadata": {},
     "output_type": "display_data"
    },
    {
     "ename": "KeyboardInterrupt",
     "evalue": "",
     "output_type": "error",
     "traceback": [
      "\u001b[1;31m---------------------------------------------------------------------------\u001b[0m",
      "\u001b[1;31mKeyboardInterrupt\u001b[0m                         Traceback (most recent call last)",
      "\u001b[1;32m~\\AppData\\Local\\Temp\\ipykernel_10520\\2262345718.py\u001b[0m in \u001b[0;36m<module>\u001b[1;34m\u001b[0m\n\u001b[0;32m     64\u001b[0m \u001b[1;32mimport\u001b[0m \u001b[0mPyro4\u001b[0m\u001b[1;33m.\u001b[0m\u001b[0mutil\u001b[0m\u001b[1;33m\u001b[0m\u001b[1;33m\u001b[0m\u001b[0m\n\u001b[0;32m     65\u001b[0m \u001b[1;32mtry\u001b[0m\u001b[1;33m:\u001b[0m\u001b[1;33m\u001b[0m\u001b[1;33m\u001b[0m\u001b[0m\n\u001b[1;32m---> 66\u001b[1;33m     \u001b[0mqramExpt\u001b[0m\u001b[1;33m.\u001b[0m\u001b[0macquire\u001b[0m\u001b[1;33m(\u001b[0m\u001b[0mdebug\u001b[0m\u001b[1;33m=\u001b[0m\u001b[1;32mFalse\u001b[0m\u001b[1;33m,\u001b[0m \u001b[0mprogress\u001b[0m\u001b[1;33m=\u001b[0m\u001b[1;32mTrue\u001b[0m\u001b[1;33m)\u001b[0m\u001b[1;33m\u001b[0m\u001b[1;33m\u001b[0m\u001b[0m\n\u001b[0m\u001b[0;32m     67\u001b[0m \u001b[1;32mexcept\u001b[0m \u001b[0mException\u001b[0m\u001b[1;33m:\u001b[0m\u001b[1;33m\u001b[0m\u001b[1;33m\u001b[0m\u001b[0m\n\u001b[0;32m     68\u001b[0m     \u001b[0mprint\u001b[0m\u001b[1;33m(\u001b[0m\u001b[1;34m\"Pyro traceback:\"\u001b[0m\u001b[1;33m)\u001b[0m\u001b[1;33m\u001b[0m\u001b[1;33m\u001b[0m\u001b[0m\n",
      "\u001b[1;32mS:\\Connie\\experiments\\qram_tprocv1_expts\\experiments\\qram_protocol_timestepped.py\u001b[0m in \u001b[0;36macquire\u001b[1;34m(self, progress, debug)\u001b[0m\n\u001b[0;32m   2022\u001b[0m                     \u001b[1;31m# print(progs2json([tomo.dump_prog()]))\u001b[0m\u001b[1;33m\u001b[0m\u001b[1;33m\u001b[0m\u001b[0m\n\u001b[0;32m   2023\u001b[0m                     \u001b[1;31m# xpts, avgi, avgq = tomo.acquire(self.im[self.cfg.aliases.soc], load_pulses=True, progress=False)\u001b[0m\u001b[1;33m\u001b[0m\u001b[1;33m\u001b[0m\u001b[0m\n\u001b[1;32m-> 2024\u001b[1;33m                     \u001b[0mavgi\u001b[0m\u001b[1;33m,\u001b[0m \u001b[0mavgq\u001b[0m \u001b[1;33m=\u001b[0m \u001b[0mtomo\u001b[0m\u001b[1;33m.\u001b[0m\u001b[0macquire\u001b[0m\u001b[1;33m(\u001b[0m\u001b[0mself\u001b[0m\u001b[1;33m.\u001b[0m\u001b[0mim\u001b[0m\u001b[1;33m[\u001b[0m\u001b[0mself\u001b[0m\u001b[1;33m.\u001b[0m\u001b[0mcfg\u001b[0m\u001b[1;33m.\u001b[0m\u001b[0maliases\u001b[0m\u001b[1;33m.\u001b[0m\u001b[0msoc\u001b[0m\u001b[1;33m]\u001b[0m\u001b[1;33m,\u001b[0m \u001b[0mload_pulses\u001b[0m\u001b[1;33m=\u001b[0m\u001b[1;32mTrue\u001b[0m\u001b[1;33m,\u001b[0m \u001b[0mprogress\u001b[0m\u001b[1;33m=\u001b[0m\u001b[1;32mFalse\u001b[0m\u001b[1;33m)\u001b[0m\u001b[1;33m\u001b[0m\u001b[1;33m\u001b[0m\u001b[0m\n\u001b[0m\u001b[0;32m   2025\u001b[0m \u001b[1;33m\u001b[0m\u001b[0m\n\u001b[0;32m   2026\u001b[0m                     \u001b[1;31m# print(basis)\u001b[0m\u001b[1;33m\u001b[0m\u001b[1;33m\u001b[0m\u001b[0m\n",
      "\u001b[1;32mS:\\Connie\\experiments\\qram_tprocv1_expts\\experiments\\clifford_averager_program.py\u001b[0m in \u001b[0;36macquire\u001b[1;34m(self, soc, load_pulses, progress, save_experiments)\u001b[0m\n\u001b[0;32m   1780\u001b[0m             \u001b[0mself\u001b[0m\u001b[1;33m.\u001b[0m\u001b[0mcfg\u001b[0m\u001b[1;33m.\u001b[0m\u001b[0mexpt\u001b[0m\u001b[1;33m.\u001b[0m\u001b[0mn_trig\u001b[0m \u001b[1;33m=\u001b[0m \u001b[1;36m1\u001b[0m\u001b[1;33m\u001b[0m\u001b[1;33m\u001b[0m\u001b[0m\n\u001b[0;32m   1781\u001b[0m             \u001b[0mself\u001b[0m\u001b[1;33m.\u001b[0m\u001b[0mcfg\u001b[0m\u001b[1;33m.\u001b[0m\u001b[0mexpt\u001b[0m\u001b[1;33m.\u001b[0m\u001b[0mn_init_readout\u001b[0m \u001b[1;33m=\u001b[0m \u001b[1;36m0\u001b[0m\u001b[1;33m\u001b[0m\u001b[1;33m\u001b[0m\u001b[0m\n\u001b[1;32m-> 1782\u001b[1;33m         return super().acquire(\n\u001b[0m\u001b[0;32m   1783\u001b[0m             \u001b[0msoc\u001b[0m\u001b[1;33m,\u001b[0m\u001b[1;33m\u001b[0m\u001b[1;33m\u001b[0m\u001b[0m\n\u001b[0;32m   1784\u001b[0m             \u001b[0mload_pulses\u001b[0m\u001b[1;33m=\u001b[0m\u001b[0mload_pulses\u001b[0m\u001b[1;33m,\u001b[0m\u001b[1;33m\u001b[0m\u001b[1;33m\u001b[0m\u001b[0m\n",
      "\u001b[1;32m~\\AppData\\Roaming\\Python\\Python39\\site-packages\\qick\\averager_program.py\u001b[0m in \u001b[0;36macquire\u001b[1;34m(self, soc, threshold, angle, readouts_per_experiment, save_experiments, load_pulses, start_src, progress, remove_offset)\u001b[0m\n\u001b[0;32m    104\u001b[0m             \u001b[0mself\u001b[0m\u001b[1;33m.\u001b[0m\u001b[0mset_reads_per_shot\u001b[0m\u001b[1;33m(\u001b[0m\u001b[0mreadouts_per_experiment\u001b[0m\u001b[1;33m)\u001b[0m\u001b[1;33m\u001b[0m\u001b[1;33m\u001b[0m\u001b[0m\n\u001b[0;32m    105\u001b[0m \u001b[1;33m\u001b[0m\u001b[0m\n\u001b[1;32m--> 106\u001b[1;33m         \u001b[0mavg_d\u001b[0m \u001b[1;33m=\u001b[0m \u001b[0msuper\u001b[0m\u001b[1;33m(\u001b[0m\u001b[1;33m)\u001b[0m\u001b[1;33m.\u001b[0m\u001b[0macquire\u001b[0m\u001b[1;33m(\u001b[0m\u001b[0msoc\u001b[0m\u001b[1;33m,\u001b[0m \u001b[0msoft_avgs\u001b[0m\u001b[1;33m=\u001b[0m\u001b[0mself\u001b[0m\u001b[1;33m.\u001b[0m\u001b[0msoft_avgs\u001b[0m\u001b[1;33m,\u001b[0m \u001b[0mload_pulses\u001b[0m\u001b[1;33m=\u001b[0m\u001b[0mload_pulses\u001b[0m\u001b[1;33m,\u001b[0m \u001b[0mstart_src\u001b[0m\u001b[1;33m=\u001b[0m\u001b[0mstart_src\u001b[0m\u001b[1;33m,\u001b[0m \u001b[0mthreshold\u001b[0m\u001b[1;33m=\u001b[0m\u001b[0mthreshold\u001b[0m\u001b[1;33m,\u001b[0m \u001b[0mangle\u001b[0m\u001b[1;33m=\u001b[0m\u001b[0mangle\u001b[0m\u001b[1;33m,\u001b[0m \u001b[0mprogress\u001b[0m\u001b[1;33m=\u001b[0m\u001b[0mprogress\u001b[0m\u001b[1;33m,\u001b[0m \u001b[0mremove_offset\u001b[0m\u001b[1;33m=\u001b[0m\u001b[0mremove_offset\u001b[0m\u001b[1;33m)\u001b[0m\u001b[1;33m\u001b[0m\u001b[1;33m\u001b[0m\u001b[0m\n\u001b[0m\u001b[0;32m    107\u001b[0m \u001b[1;33m\u001b[0m\u001b[0m\n\u001b[0;32m    108\u001b[0m         \u001b[1;31m# reformat the data into separate I and Q arrays\u001b[0m\u001b[1;33m\u001b[0m\u001b[1;33m\u001b[0m\u001b[0m\n",
      "\u001b[1;32m~\\AppData\\Roaming\\Python\\Python39\\site-packages\\qick\\qick_asm.py\u001b[0m in \u001b[0;36macquire\u001b[1;34m(self, soc, soft_avgs, load_pulses, start_src, threshold, angle, progress, remove_offset)\u001b[0m\n\u001b[0;32m   1699\u001b[0m                                        ch_list=list(self.ro_chs), reads_per_shot=self.reads_per_shot)\n\u001b[0;32m   1700\u001b[0m                 \u001b[1;32mwhile\u001b[0m \u001b[0mcount\u001b[0m\u001b[1;33m<\u001b[0m\u001b[0mtotal_count\u001b[0m\u001b[1;33m:\u001b[0m\u001b[1;33m\u001b[0m\u001b[1;33m\u001b[0m\u001b[0m\n\u001b[1;32m-> 1701\u001b[1;33m                     \u001b[0mnew_data\u001b[0m \u001b[1;33m=\u001b[0m \u001b[0mobtain\u001b[0m\u001b[1;33m(\u001b[0m\u001b[0msoc\u001b[0m\u001b[1;33m.\u001b[0m\u001b[0mpoll_data\u001b[0m\u001b[1;33m(\u001b[0m\u001b[1;33m)\u001b[0m\u001b[1;33m)\u001b[0m\u001b[1;33m\u001b[0m\u001b[1;33m\u001b[0m\u001b[0m\n\u001b[0m\u001b[0;32m   1702\u001b[0m                     \u001b[1;32mfor\u001b[0m \u001b[0mnew_points\u001b[0m\u001b[1;33m,\u001b[0m \u001b[1;33m(\u001b[0m\u001b[0md\u001b[0m\u001b[1;33m,\u001b[0m \u001b[0ms\u001b[0m\u001b[1;33m)\u001b[0m \u001b[1;32min\u001b[0m \u001b[0mnew_data\u001b[0m\u001b[1;33m:\u001b[0m\u001b[1;33m\u001b[0m\u001b[1;33m\u001b[0m\u001b[0m\n\u001b[0;32m   1703\u001b[0m                         \u001b[1;32mfor\u001b[0m \u001b[0mii\u001b[0m\u001b[1;33m,\u001b[0m \u001b[0mnreads\u001b[0m \u001b[1;32min\u001b[0m \u001b[0menumerate\u001b[0m\u001b[1;33m(\u001b[0m\u001b[0mself\u001b[0m\u001b[1;33m.\u001b[0m\u001b[0mreads_per_shot\u001b[0m\u001b[1;33m)\u001b[0m\u001b[1;33m:\u001b[0m\u001b[1;33m\u001b[0m\u001b[1;33m\u001b[0m\u001b[0m\n",
      "\u001b[1;32mC:\\ProgramData\\Anaconda3\\lib\\site-packages\\Pyro4\\core.py\u001b[0m in \u001b[0;36m__call__\u001b[1;34m(self, *args, **kwargs)\u001b[0m\n\u001b[0;32m    183\u001b[0m         \u001b[1;32mfor\u001b[0m \u001b[0mattempt\u001b[0m \u001b[1;32min\u001b[0m \u001b[0mrange\u001b[0m\u001b[1;33m(\u001b[0m\u001b[0mself\u001b[0m\u001b[1;33m.\u001b[0m\u001b[0m__max_retries\u001b[0m \u001b[1;33m+\u001b[0m \u001b[1;36m1\u001b[0m\u001b[1;33m)\u001b[0m\u001b[1;33m:\u001b[0m\u001b[1;33m\u001b[0m\u001b[1;33m\u001b[0m\u001b[0m\n\u001b[0;32m    184\u001b[0m             \u001b[1;32mtry\u001b[0m\u001b[1;33m:\u001b[0m\u001b[1;33m\u001b[0m\u001b[1;33m\u001b[0m\u001b[0m\n\u001b[1;32m--> 185\u001b[1;33m                 \u001b[1;32mreturn\u001b[0m \u001b[0mself\u001b[0m\u001b[1;33m.\u001b[0m\u001b[0m__send\u001b[0m\u001b[1;33m(\u001b[0m\u001b[0mself\u001b[0m\u001b[1;33m.\u001b[0m\u001b[0m__name\u001b[0m\u001b[1;33m,\u001b[0m \u001b[0margs\u001b[0m\u001b[1;33m,\u001b[0m \u001b[0mkwargs\u001b[0m\u001b[1;33m)\u001b[0m\u001b[1;33m\u001b[0m\u001b[1;33m\u001b[0m\u001b[0m\n\u001b[0m\u001b[0;32m    186\u001b[0m             \u001b[1;32mexcept\u001b[0m \u001b[1;33m(\u001b[0m\u001b[0merrors\u001b[0m\u001b[1;33m.\u001b[0m\u001b[0mConnectionClosedError\u001b[0m\u001b[1;33m,\u001b[0m \u001b[0merrors\u001b[0m\u001b[1;33m.\u001b[0m\u001b[0mTimeoutError\u001b[0m\u001b[1;33m)\u001b[0m\u001b[1;33m:\u001b[0m\u001b[1;33m\u001b[0m\u001b[1;33m\u001b[0m\u001b[0m\n\u001b[0;32m    187\u001b[0m                 \u001b[1;31m# only retry for recoverable network errors\u001b[0m\u001b[1;33m\u001b[0m\u001b[1;33m\u001b[0m\u001b[0m\n",
      "\u001b[1;32mC:\\ProgramData\\Anaconda3\\lib\\site-packages\\Pyro4\\core.py\u001b[0m in \u001b[0;36m_pyroInvoke\u001b[1;34m(self, methodname, vargs, kwargs, flags, objectId)\u001b[0m\n\u001b[0;32m    451\u001b[0m                     \u001b[1;32mreturn\u001b[0m \u001b[1;32mNone\u001b[0m  \u001b[1;31m# oneway call, no response data\u001b[0m\u001b[1;33m\u001b[0m\u001b[1;33m\u001b[0m\u001b[0m\n\u001b[0;32m    452\u001b[0m                 \u001b[1;32melse\u001b[0m\u001b[1;33m:\u001b[0m\u001b[1;33m\u001b[0m\u001b[1;33m\u001b[0m\u001b[0m\n\u001b[1;32m--> 453\u001b[1;33m                     \u001b[0mmsg\u001b[0m \u001b[1;33m=\u001b[0m \u001b[0mmessage\u001b[0m\u001b[1;33m.\u001b[0m\u001b[0mMessage\u001b[0m\u001b[1;33m.\u001b[0m\u001b[0mrecv\u001b[0m\u001b[1;33m(\u001b[0m\u001b[0mself\u001b[0m\u001b[1;33m.\u001b[0m\u001b[0m_pyroConnection\u001b[0m\u001b[1;33m,\u001b[0m \u001b[1;33m[\u001b[0m\u001b[0mmessage\u001b[0m\u001b[1;33m.\u001b[0m\u001b[0mMSG_RESULT\u001b[0m\u001b[1;33m]\u001b[0m\u001b[1;33m,\u001b[0m \u001b[0mhmac_key\u001b[0m\u001b[1;33m=\u001b[0m\u001b[0mself\u001b[0m\u001b[1;33m.\u001b[0m\u001b[0m_pyroHmacKey\u001b[0m\u001b[1;33m)\u001b[0m\u001b[1;33m\u001b[0m\u001b[1;33m\u001b[0m\u001b[0m\n\u001b[0m\u001b[0;32m    454\u001b[0m                     \u001b[1;32mif\u001b[0m \u001b[0mconfig\u001b[0m\u001b[1;33m.\u001b[0m\u001b[0mLOGWIRE\u001b[0m\u001b[1;33m:\u001b[0m\u001b[1;33m\u001b[0m\u001b[1;33m\u001b[0m\u001b[0m\n\u001b[0;32m    455\u001b[0m                         \u001b[0m_log_wiredata\u001b[0m\u001b[1;33m(\u001b[0m\u001b[0mlog\u001b[0m\u001b[1;33m,\u001b[0m \u001b[1;34m\"proxy wiredata received\"\u001b[0m\u001b[1;33m,\u001b[0m \u001b[0mmsg\u001b[0m\u001b[1;33m)\u001b[0m\u001b[1;33m\u001b[0m\u001b[1;33m\u001b[0m\u001b[0m\n",
      "\u001b[1;32mC:\\ProgramData\\Anaconda3\\lib\\site-packages\\Pyro4\\message.py\u001b[0m in \u001b[0;36mrecv\u001b[1;34m(cls, connection, requiredMsgTypes, hmac_key)\u001b[0m\n\u001b[0;32m    166\u001b[0m         \u001b[0mValidates\u001b[0m \u001b[0ma\u001b[0m \u001b[0mHMAC\u001b[0m \u001b[0mchunk\u001b[0m \u001b[1;32mif\u001b[0m \u001b[0mpresent\u001b[0m\u001b[1;33m.\u001b[0m\u001b[1;33m\u001b[0m\u001b[1;33m\u001b[0m\u001b[0m\n\u001b[0;32m    167\u001b[0m         \"\"\"\n\u001b[1;32m--> 168\u001b[1;33m         \u001b[0mmsg\u001b[0m \u001b[1;33m=\u001b[0m \u001b[0mcls\u001b[0m\u001b[1;33m.\u001b[0m\u001b[0mfrom_header\u001b[0m\u001b[1;33m(\u001b[0m\u001b[0mconnection\u001b[0m\u001b[1;33m.\u001b[0m\u001b[0mrecv\u001b[0m\u001b[1;33m(\u001b[0m\u001b[0mcls\u001b[0m\u001b[1;33m.\u001b[0m\u001b[0mheader_size\u001b[0m\u001b[1;33m)\u001b[0m\u001b[1;33m)\u001b[0m\u001b[1;33m\u001b[0m\u001b[1;33m\u001b[0m\u001b[0m\n\u001b[0m\u001b[0;32m    169\u001b[0m         \u001b[0mmsg\u001b[0m\u001b[1;33m.\u001b[0m\u001b[0mhmac_key\u001b[0m \u001b[1;33m=\u001b[0m \u001b[0mhmac_key\u001b[0m\u001b[1;33m\u001b[0m\u001b[1;33m\u001b[0m\u001b[0m\n\u001b[0;32m    170\u001b[0m         \u001b[1;32mif\u001b[0m \u001b[1;36m0\u001b[0m \u001b[1;33m<\u001b[0m \u001b[0mconfig\u001b[0m\u001b[1;33m.\u001b[0m\u001b[0mMAX_MESSAGE_SIZE\u001b[0m \u001b[1;33m<\u001b[0m \u001b[1;33m(\u001b[0m\u001b[0mmsg\u001b[0m\u001b[1;33m.\u001b[0m\u001b[0mdata_size\u001b[0m \u001b[1;33m+\u001b[0m \u001b[0mmsg\u001b[0m\u001b[1;33m.\u001b[0m\u001b[0mannotations_size\u001b[0m\u001b[1;33m)\u001b[0m\u001b[1;33m:\u001b[0m\u001b[1;33m\u001b[0m\u001b[1;33m\u001b[0m\u001b[0m\n",
      "\u001b[1;32mC:\\ProgramData\\Anaconda3\\lib\\site-packages\\Pyro4\\socketutil.py\u001b[0m in \u001b[0;36mrecv\u001b[1;34m(self, size)\u001b[0m\n\u001b[0;32m    461\u001b[0m \u001b[1;33m\u001b[0m\u001b[0m\n\u001b[0;32m    462\u001b[0m     \u001b[1;32mdef\u001b[0m \u001b[0mrecv\u001b[0m\u001b[1;33m(\u001b[0m\u001b[0mself\u001b[0m\u001b[1;33m,\u001b[0m \u001b[0msize\u001b[0m\u001b[1;33m)\u001b[0m\u001b[1;33m:\u001b[0m\u001b[1;33m\u001b[0m\u001b[1;33m\u001b[0m\u001b[0m\n\u001b[1;32m--> 463\u001b[1;33m         \u001b[1;32mreturn\u001b[0m \u001b[0mreceiveData\u001b[0m\u001b[1;33m(\u001b[0m\u001b[0mself\u001b[0m\u001b[1;33m.\u001b[0m\u001b[0msock\u001b[0m\u001b[1;33m,\u001b[0m \u001b[0msize\u001b[0m\u001b[1;33m)\u001b[0m\u001b[1;33m\u001b[0m\u001b[1;33m\u001b[0m\u001b[0m\n\u001b[0m\u001b[0;32m    464\u001b[0m \u001b[1;33m\u001b[0m\u001b[0m\n\u001b[0;32m    465\u001b[0m     \u001b[1;32mdef\u001b[0m \u001b[0mclose\u001b[0m\u001b[1;33m(\u001b[0m\u001b[0mself\u001b[0m\u001b[1;33m)\u001b[0m\u001b[1;33m:\u001b[0m\u001b[1;33m\u001b[0m\u001b[1;33m\u001b[0m\u001b[0m\n",
      "\u001b[1;32mC:\\ProgramData\\Anaconda3\\lib\\site-packages\\Pyro4\\socketutil.py\u001b[0m in \u001b[0;36mreceiveData\u001b[1;34m(sock, size)\u001b[0m\n\u001b[0;32m    169\u001b[0m                 \u001b[1;32mwhile\u001b[0m \u001b[0mmsglen\u001b[0m \u001b[1;33m<\u001b[0m \u001b[0msize\u001b[0m\u001b[1;33m:\u001b[0m\u001b[1;33m\u001b[0m\u001b[1;33m\u001b[0m\u001b[0m\n\u001b[0;32m    170\u001b[0m                     \u001b[1;31m# 60k buffer limit avoids problems on certain OSes like VMS, Windows\u001b[0m\u001b[1;33m\u001b[0m\u001b[1;33m\u001b[0m\u001b[0m\n\u001b[1;32m--> 171\u001b[1;33m                     \u001b[0mchunk\u001b[0m \u001b[1;33m=\u001b[0m \u001b[0msock\u001b[0m\u001b[1;33m.\u001b[0m\u001b[0mrecv\u001b[0m\u001b[1;33m(\u001b[0m\u001b[0mmin\u001b[0m\u001b[1;33m(\u001b[0m\u001b[1;36m60000\u001b[0m\u001b[1;33m,\u001b[0m \u001b[0msize\u001b[0m \u001b[1;33m-\u001b[0m \u001b[0mmsglen\u001b[0m\u001b[1;33m)\u001b[0m\u001b[1;33m)\u001b[0m\u001b[1;33m\u001b[0m\u001b[1;33m\u001b[0m\u001b[0m\n\u001b[0m\u001b[0;32m    172\u001b[0m                     \u001b[1;32mif\u001b[0m \u001b[1;32mnot\u001b[0m \u001b[0mchunk\u001b[0m\u001b[1;33m:\u001b[0m\u001b[1;33m\u001b[0m\u001b[1;33m\u001b[0m\u001b[0m\n\u001b[0;32m    173\u001b[0m                         \u001b[1;32mbreak\u001b[0m\u001b[1;33m\u001b[0m\u001b[1;33m\u001b[0m\u001b[0m\n",
      "\u001b[1;31mKeyboardInterrupt\u001b[0m: "
     ]
    }
   ],
   "source": [
    "qramExpt = meas.QramProtocol3QTomoExperiment(\n",
    "    soccfg=soc,\n",
    "    path=expt_path,\n",
    "    config_file=config_path,\n",
    ")\n",
    "\n",
    "# span = 2.161196963262976 # total time [us]\n",
    "# span = 1.1659462011134218 # total time [us]\n",
    "span = np.inf\n",
    "npts = 1\n",
    "# span = 1.8 # total time [us]\n",
    "# npts = 120\n",
    "# span = 0.8 # total time [us]\n",
    "# npts = 10\n",
    "if span < np.inf: print('time step size [cycles]:', soc.us2cycles(span/npts))\n",
    "\n",
    "qramExpt.cfg.expt = dict(\n",
    "    # start=0, # start protocol time [us],\n",
    "    # step=span/npts, # time step [us], \n",
    "    # expts=npts+1, # number of different time experiments - added 1 to include 0 step and full span\n",
    "\n",
    "    start=span,\n",
    "    step=0,\n",
    "    expts=1, # number of different time experiments\n",
    "\n",
    "    reps=1000000, # number of reps per tomo/time step,\n",
    "    # reps=10000, # number of reps per tomo/time step,\n",
    "    # reps=1000,\n",
    "    # singleshot_reps=1, # reps per state for singleshot calibration\n",
    "    # singleshot_reps=10000, # reps per state for singleshot calibration\n",
    "    # singleshot_reps=1000, # reps per state for singleshot calibration\n",
    "    singleshot_reps=10,\n",
    "    post_process='scale', # 'threshold', (uses single shot binning), 'scale' (scale by ge_avgs), or None\n",
    "    tomo_3q=True, # flag to perform tomo on last time step\n",
    "    tomo_qubits=tomo_qubits, # the qubits on which to do the 3q state tomo\n",
    "    init_state=init_state,\n",
    "    play_pulses=play_pulses, # [2, 1, 4, 3]\n",
    "    sync_between_swaps=sync_between_swaps,\n",
    "    sync_between_efs=sync_between_efs,\n",
    "    \n",
    "    cool_qubits=cool_qubits,\n",
    "    \n",
    "    use_IQ_pulse=use_IQ_pulse,\n",
    "    plot_IQ=False,\n",
    "    \n",
    "    readout_cool=readout_cool,\n",
    "    n_init_readout=1,\n",
    "    n_trig=1,\n",
    "    init_read_wait_us=2,\n",
    "    \n",
    "    full_mux_expt=full_mux_expt,\n",
    "    resonator_reset=resonator_reset,\n",
    "    \n",
    "    use_robust_pulses=use_robust_pulses,\n",
    "    \n",
    "    # meas_order=['XXX'],\n",
    ")\n",
    "if tomo_qubits == [0, 2, 3]:\n",
    "    qramExpt.cfg.device.readout.gain[1] = 1e-4\n",
    "\n",
    "\n",
    "# print(qramExpt.cfg)\n",
    "\n",
    "import Pyro4.util\n",
    "try:\n",
    "    qramExpt.acquire(debug=False, progress=True)\n",
    "except Exception:\n",
    "    print(\"Pyro traceback:\")\n",
    "    print(\"\".join(Pyro4.util.getPyroTraceback()))\n",
    "\n",
    "# tomo = qramExpt\n",
    "# data = tomo.data\n",
    "# n_tomo_raw = np.array(data['counts_tomo'])\n",
    "# n_calib = np.array(data['counts_calib'])\n",
    "\n",
    "# n_tomo_raw_rounds.append(n_tomo_raw)\n",
    "# n_calib_rounds.append(n_calib)\n",
    "# n_tomo_rounds.append(fix_neg_counts(correct_readout_err(n_tomo_raw, n_calib)))\n"
   ]
  },
  {
   "cell_type": "code",
   "execution_count": 152,
   "metadata": {},
   "outputs": [
    {
     "name": "stdout",
     "output_type": "stream",
     "text": [
      "Saving S:\\Connie\\experiments\\qramLL_4QR2\\data\\data_240617\\00052_QramProtocol3QTomo.h5\n",
      "S:\\Connie\\experiments\\qramLL_4QR2\\data\\data_240617\\00052_QramProtocol3QTomo.h5\n"
     ]
    }
   ],
   "source": [
    "saved_files = [qramExpt.save_data()]"
   ]
  },
  {
   "cell_type": "markdown",
   "metadata": {},
   "source": [
    "#### post processing counts"
   ]
  },
  {
   "cell_type": "code",
   "execution_count": 361,
   "metadata": {},
   "outputs": [],
   "source": [
    "apply_ps = False\n",
    "ps_adjust = [-0.3, -1.0, -0.3, -0.3]\n",
    "# ps_adjust = [np.inf]*4\n",
    "ps_qubits = [0, 1, 2, 3]"
   ]
  },
  {
   "cell_type": "code",
   "execution_count": 362,
   "metadata": {},
   "outputs": [
    {
     "name": "stdout",
     "output_type": "stream",
     "text": [
      "calib order ['ggg' 'gge' 'geg' 'gee' 'egg' 'ege' 'eeg' 'eee']\n",
      "Raw tomography counts\n",
      "[[2860  597 2010  123 2499 1335  392  184]\n",
      " [1461 2013 1100 1023  977 2885  181  360]\n",
      " [1693 1670 1115 1037 2674 1218  357  236]\n",
      " [1079  367 3703  442 1572  792 1292  753]\n",
      " [ 586  780 1956 2213  565 1869  506 1525]\n",
      " [ 713  689 2015 2056 1732  760 1359  676]\n",
      " [3419  403 1373  355 1570  735 1395  750]\n",
      " [1843 2079  740  996  522 1721  645 1454]\n",
      " [1902 1914  825  949 1549  761 1508  592]\n",
      " [4694 1155 1248  174  630  786 1190  123]\n",
      " [1980 3876  632  759  492  943  642  676]\n",
      " [3906 1957  748  625  670  733  707  654]\n",
      " [1890  680 3931  696  890  460 1012  441]\n",
      " [ 971 1675 1619 2996  338 1045  793  563]\n",
      " [1771  767 2868 1872  671  628  606  817]\n",
      " [3936  714 2053  641 1080  429  742  405]\n",
      " [1948 2598  808 1757  588 1036  649  616]\n",
      " [3038 1540 1554 1063  499 1077  828  401]\n",
      " [2429 1189 1076  173 2852  805 1334  142]\n",
      " [1583 2041  727  692  748 2696  641  872]\n",
      " [2487 1239  703  601 2007 1612  676  675]\n",
      " [ 871  642 2770  669 1948  448 2211  441]\n",
      " [ 556  992 1675 1775  572 1699  819 1912]\n",
      " [1055  534 2241 1109 1514  839 1141 1567]\n",
      " [1703  506 2060  506 3654  454  732  385]\n",
      " [1196 1018 1085 1471 1169 2890  341  830]\n",
      " [1434  786 1813  856 2096 1875  589  551]]\n",
      "Confusion matrix counts\n",
      "[[7368 1030  783   99  578   75   58    9]\n",
      " [1074 7346  106  751   83  570   10   60]\n",
      " [1015  132 7120  988   78    7  587   73]\n",
      " [ 178  988 1236 6782   16   87  116  597]\n",
      " [ 709   82   75   14 7458  927  652   83]\n",
      " [ 137  609   16   50 1114 7201  111  762]\n",
      " [  85    6  664   92  976  121 7166  890]\n",
      " [  25  103  106  626  180  984  991 6985]]\n",
      "Confusion matrix corrected tomo matrix will be\n",
      "[[ 0.32189915  0.01218269  0.23737871 -0.          0.28370242  0.14226014\n",
      "   0.00257689  0.        ]\n",
      " [ 0.13658088  0.20677425  0.1163141   0.10567666  0.06064848  0.37318059\n",
      "   0.00082505 -0.        ]\n",
      " [ 0.15227117  0.17600814  0.11343847  0.11267364  0.32621511  0.10941767\n",
      "   0.0051864   0.00478939]\n",
      " [ 0.0542539   0.02070063  0.49580124 -0.          0.17246354  0.07148212\n",
      "   0.11052237  0.07477619]\n",
      " [ 0.0291252   0.04014912  0.21858669  0.27237898  0.02998586  0.22584129\n",
      "   0.01896458  0.16496829]\n",
      " [ 0.03242051  0.04214647  0.21763657  0.25939766  0.19707214  0.06469383\n",
      "   0.14222351  0.0444093 ]\n",
      " [ 0.42531239 -0.          0.12532573  0.01354961  0.14345911  0.06293213\n",
      "   0.15478921  0.07463182]\n",
      " [ 0.20214038  0.22260265  0.05396986  0.09358357  0.01106637  0.19260599\n",
      "   0.05472136  0.16930982]\n",
      " [ 0.19919348  0.21119778  0.05437413  0.09858642  0.1558726   0.05671752\n",
      "   0.1815409   0.04251717]\n",
      " [ 0.61051396  0.0593519   0.08992999 -0.          0.00052972  0.0916178\n",
      "   0.14805663 -0.        ]\n",
      " [ 0.18559911  0.48773866  0.04609463  0.04037524  0.02338133  0.07600251\n",
      "   0.06986148  0.07094704]\n",
      " [ 0.49304485  0.18277791  0.03028897  0.05232383  0.02723662  0.06727654\n",
      "   0.07801986  0.06903142]\n",
      " [ 0.1668421   0.05320107  0.52138429  0.01306051  0.08253349  0.03978109\n",
      "   0.08322386  0.03997358]\n",
      " [ 0.07728435  0.15032931  0.13849285  0.39995367  0.00517594  0.12271695\n",
      "   0.0870017   0.01904523]\n",
      " [ 0.17542632  0.03851364  0.34119791  0.21078704  0.05644913  0.06024191\n",
      "   0.03415164  0.08323242]\n",
      " [ 0.49092019  0.0133462   0.21775804  0.04935093  0.08934414  0.03486827\n",
      "   0.06708489  0.03732732]\n",
      " [ 0.20575681  0.28575275  0.04189663  0.21226779  0.03280994  0.10479616\n",
      "   0.07065559  0.04606433]\n",
      " [ 0.3666012   0.12946706  0.14729916  0.11163916  0.00323172  0.12946635\n",
      "   0.09364618  0.01864917]\n",
      " [ 0.26315002  0.11202115  0.10024879  0.          0.33164096  0.05175959\n",
      "   0.1411795   0.        ]\n",
      " [ 0.16366408  0.21658683  0.06299842  0.05643934  0.02333445  0.34092928\n",
      "   0.06444278  0.07160482]\n",
      " [ 0.29065845  0.10142692  0.04633278  0.05826097  0.20967375  0.17576833\n",
      "   0.05686421  0.06101458]\n",
      " [ 0.03487979  0.06701839  0.351868    0.03367249  0.2168788   0.02105227\n",
      "   0.25618687  0.01844339]\n",
      " [ 0.02511136  0.08161313  0.1866344   0.20208587  0.02982201  0.19100964\n",
      "   0.05860971  0.22511388]\n",
      " [ 0.07902418  0.03358683  0.27509795  0.09878615  0.16749567  0.06220663\n",
      "   0.09162406  0.19217854]\n",
      " [ 0.14364238  0.03349063  0.25948905  0.0253939   0.46898845 -0.\n",
      "   0.03071163  0.03828397]\n",
      " [ 0.11903925  0.06242664  0.10240239  0.18488179  0.08639202  0.3735771\n",
      "   0.01351919  0.05776161]\n",
      " [ 0.12801249  0.05305962  0.21931241  0.08045292  0.2303308   0.218216\n",
      "   0.0321616   0.03845415]]\n"
     ]
    }
   ],
   "source": [
    "tomo = qramExpt\n",
    "data = tomo.data\n",
    "cfg = tomo.cfg\n",
    "pulse_dict = qramExpt.pulse_dict\n",
    "init_state = qramExpt.cfg.expt.init_state\n",
    "\n",
    "n_tomo_raw, n_calib = tomo_analysis.n_tomo_calib_from_data(data, cfg, ps_adjust=ps_adjust, ps_qubits=ps_qubits, apply_ps=apply_ps, verbose=True)\n",
    "\n",
    "print('calib order', tomo_analysis.calib_order)\n",
    "\n",
    "print('Raw tomography counts')\n",
    "print(n_tomo_raw)\n",
    "print('Confusion matrix counts')\n",
    "print(n_calib)\n",
    "print('Confusion matrix corrected tomo matrix will be')\n",
    "print(tomo_analysis.correct_readout_err(n_tomo_raw, n_calib))\n",
    "# print('Negative counts corrected tomo matrix will be')\n",
    "# print(tomo_analysis.fix_neg_counts(correct_readout_err(n_tomo_raw, n_calib))) "
   ]
  },
  {
   "cell_type": "code",
   "execution_count": 139,
   "metadata": {},
   "outputs": [
    {
     "ename": "IndexError",
     "evalue": "list index out of range",
     "output_type": "error",
     "traceback": [
      "\u001b[1;31m---------------------------------------------------------------------------\u001b[0m",
      "\u001b[1;31mIndexError\u001b[0m                                Traceback (most recent call last)",
      "\u001b[1;32m~\\AppData\\Local\\Temp\\ipykernel_7324\\2803200950.py\u001b[0m in \u001b[0;36m<module>\u001b[1;34m\u001b[0m\n\u001b[1;32m----> 1\u001b[1;33m \u001b[0mfilename\u001b[0m \u001b[1;33m=\u001b[0m \u001b[0msaved_files\u001b[0m\u001b[1;33m[\u001b[0m\u001b[1;33m-\u001b[0m\u001b[1;36m1\u001b[0m\u001b[1;33m]\u001b[0m\u001b[1;33m\u001b[0m\u001b[1;33m\u001b[0m\u001b[0m\n\u001b[0m",
      "\u001b[1;31mIndexError\u001b[0m: list index out of range"
     ]
    }
   ],
   "source": [
    "filename = saved_files[-1]"
   ]
  },
  {
   "cell_type": "markdown",
   "metadata": {},
   "source": [
    "### Import optimal control pulse"
   ]
  },
  {
   "cell_type": "code",
   "execution_count": null,
   "metadata": {},
   "outputs": [],
   "source": [
    "pulse_filepath = os.path.join(os.getcwd(), '240528_pulse_sequence_pp.npz')\n",
    "pulse_params_dict = dict() # open file\n",
    "with np.load(pulse_filepath) as npzfile:\n",
    "    for key in npzfile.keys():\n",
    "        pulse_params_dict.update({key:npzfile[key]})\n",
    "\n",
    "print(pulse_params_dict.keys())\n",
    "IQ_qubits = [0, 1]\n",
    "print('IQ_qubits', IQ_qubits)\n",
    "\n",
    "times = pulse_params_dict['times']\n",
    "I_0 = pulse_params_dict['I_0']\n",
    "Q_0 = pulse_params_dict['Q_0']\n",
    "I_1 = pulse_params_dict['I_1']\n",
    "Q_1 = pulse_params_dict['Q_1']\n",
    "plt.figure()\n",
    "plt.plot(times*1e6, I_0*1e-6, label='$I_0$')\n",
    "plt.plot(times*1e6, Q_0*1e-6, label='$Q_0$')\n",
    "plt.plot(times*1e6, I_1*1e-6, label='$I_1$')\n",
    "plt.plot(times*1e6, Q_1*1e-6, label='$Q_1$')\n",
    "plt.legend()\n",
    "plt.xlabel('Times [us]')\n",
    "plt.ylabel('Amplitude [MHz]')\n",
    "plt.show()\n",
    "\n",
    "I_values_MHz = np.array([I_0, I_1])*1e-6\n",
    "Q_values_MHz = np.array([Q_0, Q_1])*1e-6\n",
    "times_us = times*1e6"
   ]
  },
  {
   "cell_type": "markdown",
   "metadata": {},
   "source": [
    "## Loop over delays on generators"
   ]
  },
  {
   "cell_type": "code",
   "execution_count": 419,
   "metadata": {},
   "outputs": [
    {
     "name": "stdout",
     "output_type": "stream",
     "text": [
      "delay_sweep_2 [0.0, 2.3251488095238093, 4.650297619047619, 6.975446428571429]\n",
      "delay_sweep_3 [0.0, 2.3251488095238093, 4.650297619047619, 6.975446428571429]\n",
      "init_states (4 states) ['|0+1>|1>', '|1>|0+1>', '|0>|0+1>', '|0+1>|0+1>']\n",
      "protocol_play [2, 1, 4, 3]\n",
      "simultaneous swaps False\n",
      "simultaneous efs False\n",
      "readout cool False\n",
      "full mux expt True\n",
      "resonator reset [0, 2, 3]\n",
      "use robust pulses True\n",
      "save data True\n"
     ]
    }
   ],
   "source": [
    "init_states = ['|0+1>|1>', '|1>|0+1>', '|0>|0+1>', '|0+1>|0+1>']\n",
    "\n",
    "protocol_play = [2, 1, 4, 3] # 1: Q2/Q1 with Q0 in g, 2: Q3/Q1 with Q0 in e, 3: Q2 ef pulse, 4: Q3 ef pulse [2, 1, 4, 3]\n",
    "\n",
    "sync_between_swaps = True\n",
    "sync_between_efs = True\n",
    "\n",
    "tomo_qubits = [0, 2, 3] # which qubit/resonators to do tomo on\n",
    "save_data = True\n",
    "saved_files = []\n",
    "# cool_qubits = [0, 1]\n",
    "cool_qubits = None\n",
    "\n",
    "readout_cool = False\n",
    "full_mux_expt = True\n",
    "resonator_reset = [0, 2, 3]\n",
    "\n",
    "use_IQ_pulse = False # state transfer IQ pulses for the state prep\n",
    "use_robust_pulses = True # use robust pulses for state prep + tomo\n",
    "\n",
    "delay_sweep_2_cycles = np.arange(4)\n",
    "delay_sweep_3_cycles = np.arange(4)\n",
    "\n",
    "delay_sweep_2 = []\n",
    "for delay in delay_sweep_2_cycles:\n",
    "    delay_sweep_2.append(soc.cycles2us(delay)*1e3)\n",
    "delay_sweep_3 = []\n",
    "for delay in delay_sweep_3_cycles:\n",
    "    delay_sweep_3.append(soc.cycles2us(delay)*1e3)\n",
    "print(\"delay_sweep_2\", delay_sweep_2)\n",
    "print(\"delay_sweep_3\", delay_sweep_3)\n",
    "\n",
    "print(f'init_states ({len(init_states)} states)', init_states)\n",
    "print('protocol_play', protocol_play)\n",
    "print('simultaneous swaps', not sync_between_swaps)\n",
    "print('simultaneous efs', not sync_between_efs)\n",
    "print('readout cool', readout_cool)\n",
    "print('full mux expt', full_mux_expt)\n",
    "print('resonator reset', resonator_reset)\n",
    "print('use robust pulses', use_robust_pulses)\n",
    "print('save data', save_data)\n",
    "if not save_data:\n",
    "    print('WARNING!! YOU ARE NOT SAVING DATA!')"
   ]
  },
  {
   "cell_type": "code",
   "execution_count": 424,
   "metadata": {
    "scrolled": true,
    "tags": []
   },
   "outputs": [
    {
     "name": "stdout",
     "output_type": "stream",
     "text": [
      "delays 0.0 0.0\n",
      "init_state |0+1>|1> play pulses [2, 1, 4, 3]\n",
      "timesteps [inf]\n"
     ]
    },
    {
     "data": {
      "application/vnd.jupyter.widget-view+json": {
       "model_id": "83952753ca104edea23b5b863113f6ab",
       "version_major": 2,
       "version_minor": 0
      },
      "text/plain": [
       "  0%|          | 0/8 [00:00<?, ?it/s]"
      ]
     },
     "metadata": {},
     "output_type": "display_data"
    },
    {
     "name": "stdout",
     "output_type": "stream",
     "text": [
      "Qubit  (0)\n",
      "ge fidelity (%): 75.45145041561096 \t angle (deg): 0.0 \t threshold ge: 999.7444509165722\n",
      "Qubit  (2)\n",
      "ge fidelity (%): 78.47999999999998 \t angle (deg): 0.0 \t threshold ge: 902.2436566442781\n",
      "Qubit  (3)\n",
      "ge fidelity (%): 75.90517313419566 \t angle (deg): 0.0 \t threshold ge: 813.0000825875447\n",
      "thresholds=[999.7444509165722, 0, 902.2436566442781, 813.0000825875447],\n",
      "angles=[0.0, 0, 0.0, 0.0],\n",
      "ge_avgs=[[0.40442712232167083, 3.795851695145104, 0.30697618660157217, -2.154130729590451], [0, 0, 0, 0], [2.5030405207485753, -4.534565988608625, 5.922412367778682, -0.9271806889069698], [-0.5853493897477616, -4.273845945212909, -0.14435215622457592, -0.2123881746677449]] ,\n",
      "counts_calib=[[5148, 649, 537, 78, 850, 111, 109, 18], [808, 5362, 68, 551, 66, 586, 9, 50], [673, 91, 5256, 723, 98, 14, 576, 69], [86, 595, 845, 5217, 8, 71, 90, 588], [624, 61, 64, 9, 5349, 672, 638, 83], [115, 587, 10, 55, 1021, 5013, 96, 603], [84, 7, 634, 72, 671, 76, 5276, 680], [34, 118, 112, 663, 146, 747, 799, 4881]]\n",
      "\n"
     ]
    },
    {
     "data": {
      "application/vnd.jupyter.widget-view+json": {
       "model_id": "a18f5564b2b54fc38a67cefa7f009b91",
       "version_major": 2,
       "version_minor": 0
      },
      "text/plain": [
       "  0%|          | 0/1 [00:00<?, ?it/s]"
      ]
     },
     "metadata": {},
     "output_type": "display_data"
    },
    {
     "data": {
      "application/vnd.jupyter.widget-view+json": {
       "model_id": "d86b34a89dca4f1382e9dce301911405",
       "version_major": 2,
       "version_minor": 0
      },
      "text/plain": [
       "  0%|          | 0/27 [00:00<?, ?it/s]"
      ]
     },
     "metadata": {},
     "output_type": "display_data"
    },
    {
     "name": "stdout",
     "output_type": "stream",
     "text": [
      "Saving S:\\QRAM\\qram_4QR2\\data\\data_241025\\00595_QramProtocol3QTomo.h5\n",
      "init_state |1>|0+1> play pulses [2, 1, 4, 3]\n",
      "timesteps [inf]\n"
     ]
    },
    {
     "data": {
      "application/vnd.jupyter.widget-view+json": {
       "model_id": "170df7bc93f54861b6d52847b6549b0d",
       "version_major": 2,
       "version_minor": 0
      },
      "text/plain": [
       "  0%|          | 0/8 [00:00<?, ?it/s]"
      ]
     },
     "metadata": {},
     "output_type": "display_data"
    },
    {
     "name": "stdout",
     "output_type": "stream",
     "text": [
      "Qubit  (0)\n",
      "ge fidelity (%): 78.79878561585988 \t angle (deg): 0.0 \t threshold ge: 1000.6993386343146\n",
      "Qubit  (2)\n",
      "ge fidelity (%): 79.66526203493798 \t angle (deg): 0.0 \t threshold ge: 863.4713971555223\n",
      "Qubit  (3)\n",
      "ge fidelity (%): 75.70666666666664 \t angle (deg): 0.0 \t threshold ge: 788.9969897007702\n",
      "thresholds=[1000.6993386343146, 0, 863.4713971555223, 788.9969897007702],\n",
      "angles=[0.0, 0, 0.0, 0.0],\n",
      "ge_avgs=[[5.947055383780853, -6.703485977759697, -0.3512829943043136, -8.787944995931653], [0, 0, 0, 0], [3.1676424193110924, 1.9117088147545438, -6.459724111743966, -5.864784919989151], [-8.565098887984812, -3.6366940059669117, 5.295865256305939, -4.375229075128829]] ,\n",
      "counts_calib=[[5306, 717, 660, 98, 543, 98, 64, 14], [709, 5158, 82, 767, 97, 577, 8, 102], [565, 59, 5446, 724, 59, 15, 540, 92], [102, 527, 884, 5259, 15, 80, 100, 533], [694, 90, 81, 11, 4975, 870, 641, 138], [146, 708, 18, 80, 836, 4898, 95, 719], [110, 16, 663, 95, 936, 151, 4706, 823], [21, 95, 103, 662, 123, 860, 673, 4963]]\n",
      "\n"
     ]
    },
    {
     "data": {
      "application/vnd.jupyter.widget-view+json": {
       "model_id": "6e95fdcd400344089a7b0e0212e3b681",
       "version_major": 2,
       "version_minor": 0
      },
      "text/plain": [
       "  0%|          | 0/1 [00:00<?, ?it/s]"
      ]
     },
     "metadata": {},
     "output_type": "display_data"
    },
    {
     "data": {
      "application/vnd.jupyter.widget-view+json": {
       "model_id": "2fa8fb376ca7469f875846dc2b03198b",
       "version_major": 2,
       "version_minor": 0
      },
      "text/plain": [
       "  0%|          | 0/27 [00:00<?, ?it/s]"
      ]
     },
     "metadata": {},
     "output_type": "display_data"
    },
    {
     "name": "stdout",
     "output_type": "stream",
     "text": [
      "Saving S:\\QRAM\\qram_4QR2\\data\\data_241025\\00596_QramProtocol3QTomo.h5\n",
      "init_state |0>|0+1> play pulses [2, 1, 4, 3]\n",
      "timesteps [inf]\n"
     ]
    },
    {
     "data": {
      "application/vnd.jupyter.widget-view+json": {
       "model_id": "893424700eca4e8c964323274ba133e1",
       "version_major": 2,
       "version_minor": 0
      },
      "text/plain": [
       "  0%|          | 0/8 [00:00<?, ?it/s]"
      ]
     },
     "metadata": {},
     "output_type": "display_data"
    },
    {
     "name": "stdout",
     "output_type": "stream",
     "text": [
      "Qubit  (0)\n",
      "ge fidelity (%): 80.34544161443746 \t angle (deg): 0.0 \t threshold ge: 1000.0797531920701\n",
      "Qubit  (2)\n",
      "ge fidelity (%): 78.50666666666667 \t angle (deg): 0.0 \t threshold ge: 871.9636608432037\n",
      "Qubit  (3)\n",
      "ge fidelity (%): 75.31841401075698 \t angle (deg): 0.0 \t threshold ge: 796.2420734002726\n",
      "thresholds=[1000.0797531920701, 0, 871.9636608432037, 796.2420734002726],\n",
      "angles=[0.0, 0, 0.0, 0.0],\n",
      "ge_avgs=[[4.0016378627610525, 0.8232130187144017, -0.5107128831027925, 3.4732810414971533], [0, 0, 0, 0], [-1.7432829943043122, -2.593415785191213, 3.799098887984812, -2.293598589639273], [-1.2573328993761859, 5.428343043124495, 7.534218497423374, 4.919045402766478]] ,\n",
      "counts_calib=[[5323, 722, 634, 103, 566, 73, 68, 11], [748, 5203, 99, 664, 86, 600, 10, 90], [654, 77, 5298, 653, 66, 6, 630, 116], [100, 596, 894, 5116, 14, 67, 89, 624], [599, 78, 75, 4, 5290, 718, 649, 87], [122, 581, 15, 84, 930, 5030, 95, 643], [82, 14, 626, 98, 591, 80, 5341, 668], [5, 89, 79, 597, 95, 646, 777, 5212]]\n",
      "\n"
     ]
    },
    {
     "data": {
      "application/vnd.jupyter.widget-view+json": {
       "model_id": "f0ac6697fc28400e8554fd8eae1516f8",
       "version_major": 2,
       "version_minor": 0
      },
      "text/plain": [
       "  0%|          | 0/1 [00:00<?, ?it/s]"
      ]
     },
     "metadata": {},
     "output_type": "display_data"
    },
    {
     "data": {
      "application/vnd.jupyter.widget-view+json": {
       "model_id": "1a6e2cdd2182491d81c4998ff563fdd4",
       "version_major": 2,
       "version_minor": 0
      },
      "text/plain": [
       "  0%|          | 0/27 [00:00<?, ?it/s]"
      ]
     },
     "metadata": {},
     "output_type": "display_data"
    },
    {
     "name": "stdout",
     "output_type": "stream",
     "text": [
      "Saving S:\\QRAM\\qram_4QR2\\data\\data_241025\\00597_QramProtocol3QTomo.h5\n",
      "init_state |0+1>|0+1> play pulses [2, 1, 4, 3]\n",
      "timesteps [inf]\n"
     ]
    },
    {
     "data": {
      "application/vnd.jupyter.widget-view+json": {
       "model_id": "8326a8e4cbc84cc68975715640161d60",
       "version_major": 2,
       "version_minor": 0
      },
      "text/plain": [
       "  0%|          | 0/8 [00:00<?, ?it/s]"
      ]
     },
     "metadata": {},
     "output_type": "display_data"
    },
    {
     "name": "stdout",
     "output_type": "stream",
     "text": [
      "Qubit  (0)\n",
      "ge fidelity (%): 79.6933333333333 \t angle (deg): 0.0 \t threshold ge: 983.0889593900511\n",
      "Qubit  (2)\n",
      "ge fidelity (%): 79.42559807974398 \t angle (deg): 0.0 \t threshold ge: 906.3822963732896\n",
      "Qubit  (3)\n",
      "ge fidelity (%): 76.33333333333336 \t angle (deg): 0.0 \t threshold ge: 766.2504560853879\n",
      "thresholds=[983.0889593900511, 0, 906.3822963732896, 766.2504560853879],\n",
      "angles=[0.0, 0, 0.0, 0.0],\n",
      "ge_avgs=[[-11.162414646053703, -1.4029439652834286, 1.9606889069704354, -6.232760292921075], [0, 0, 0, 0], [0.9540183346894494, -1.5097423379441273, 3.310396094385682, 2.730999728776782], [1.706495579061569, 0.8511704909140209, -1.5281788988337468, -4.66635345809601]] ,\n",
      "counts_calib=[[5408, 782, 501, 74, 581, 85, 57, 12], [661, 5284, 71, 617, 84, 700, 10, 73], [716, 96, 5195, 700, 72, 15, 610, 96], [137, 711, 864, 4948, 22, 94, 100, 624], [648, 92, 53, 9, 5351, 732, 533, 82], [103, 596, 9, 55, 926, 5132, 99, 580], [81, 12, 560, 63, 732, 90, 5207, 755], [18, 75, 87, 579, 94, 718, 734, 5195]]\n",
      "\n"
     ]
    },
    {
     "data": {
      "application/vnd.jupyter.widget-view+json": {
       "model_id": "41ff7aaf3b3e4a7487dcbf2c33fe3f8f",
       "version_major": 2,
       "version_minor": 0
      },
      "text/plain": [
       "  0%|          | 0/1 [00:00<?, ?it/s]"
      ]
     },
     "metadata": {},
     "output_type": "display_data"
    },
    {
     "data": {
      "application/vnd.jupyter.widget-view+json": {
       "model_id": "3f38d87c0dca4182841e9ca0c1accb36",
       "version_major": 2,
       "version_minor": 0
      },
      "text/plain": [
       "  0%|          | 0/27 [00:00<?, ?it/s]"
      ]
     },
     "metadata": {},
     "output_type": "display_data"
    },
    {
     "name": "stdout",
     "output_type": "stream",
     "text": [
      "Saving S:\\QRAM\\qram_4QR2\\data\\data_241025\\00598_QramProtocol3QTomo.h5\n",
      "delays 0.0 2.3251488095238093\n",
      "init_state |0+1>|1> play pulses [2, 1, 4, 3]\n",
      "timesteps [inf]\n"
     ]
    },
    {
     "data": {
      "application/vnd.jupyter.widget-view+json": {
       "model_id": "90984d53cfcb47a086981c69f0fcd067",
       "version_major": 2,
       "version_minor": 0
      },
      "text/plain": [
       "  0%|          | 0/8 [00:00<?, ?it/s]"
      ]
     },
     "metadata": {},
     "output_type": "display_data"
    },
    {
     "name": "stdout",
     "output_type": "stream",
     "text": [
      "Qubit  (0)\n",
      "ge fidelity (%): 79.93333333333331 \t angle (deg): 0.0 \t threshold ge: 989.2522735693288\n",
      "Qubit  (2)\n",
      "ge fidelity (%): 78.30666666666669 \t angle (deg): 0.0 \t threshold ge: 875.4734503200949\n",
      "Qubit  (3)\n",
      "ge fidelity (%): 74.85333333333328 \t angle (deg): 0.0 \t threshold ge: 777.4996880853547\n",
      "thresholds=[989.2522735693288, 0, 875.4734503200949, 777.4996880853547],\n",
      "angles=[0.0, 0, 0.0, 0.0],\n",
      "ge_avgs=[[-1.457236235421752, -1.3049882289123955, -2.445210523460808, -1.5351580146460533], [0, 0, 0, 0], [4.016183780851641, -4.9019382695958775, -3.647998806617846, 0.8306330349877937], [-1.7370608082451857, -7.572513588283159, -4.228545267154866, -3.315780526173041]] ,\n",
      "counts_calib=[[5283, 774, 630, 95, 550, 88, 68, 12], [730, 5170, 103, 726, 76, 612, 10, 73], [660, 91, 5223, 735, 74, 16, 620, 81], [106, 601, 903, 5053, 20, 68, 102, 647], [656, 68, 64, 11, 5211, 772, 611, 107], [110, 572, 5, 72, 868, 5102, 103, 668], [77, 1, 547, 69, 579, 80, 5393, 754], [18, 63, 84, 586, 86, 649, 807, 5207]]\n",
      "\n"
     ]
    },
    {
     "data": {
      "application/vnd.jupyter.widget-view+json": {
       "model_id": "5023edced63c42289a7152cfc7fbd843",
       "version_major": 2,
       "version_minor": 0
      },
      "text/plain": [
       "  0%|          | 0/1 [00:00<?, ?it/s]"
      ]
     },
     "metadata": {},
     "output_type": "display_data"
    },
    {
     "data": {
      "application/vnd.jupyter.widget-view+json": {
       "model_id": "1135b58609164104942a88f1338fc9ab",
       "version_major": 2,
       "version_minor": 0
      },
      "text/plain": [
       "  0%|          | 0/27 [00:00<?, ?it/s]"
      ]
     },
     "metadata": {},
     "output_type": "display_data"
    },
    {
     "name": "stdout",
     "output_type": "stream",
     "text": [
      "Saving S:\\QRAM\\qram_4QR2\\data\\data_241025\\00599_QramProtocol3QTomo.h5\n",
      "init_state |1>|0+1> play pulses [2, 1, 4, 3]\n",
      "timesteps [inf]\n"
     ]
    },
    {
     "data": {
      "application/vnd.jupyter.widget-view+json": {
       "model_id": "00c5a8f421364f85be3de9cc079a2c27",
       "version_major": 2,
       "version_minor": 0
      },
      "text/plain": [
       "  0%|          | 0/8 [00:00<?, ?it/s]"
      ]
     },
     "metadata": {},
     "output_type": "display_data"
    },
    {
     "name": "stdout",
     "output_type": "stream",
     "text": [
      "Qubit  (0)\n",
      "ge fidelity (%): 80.53333333333333 \t angle (deg): 0.0 \t threshold ge: 1000.2654603049407\n",
      "Qubit  (2)\n",
      "ge fidelity (%): 79.18666666666668 \t angle (deg): 0.0 \t threshold ge: 914.7570313241526\n",
      "Qubit  (3)\n",
      "ge fidelity (%): 74.89333333333335 \t angle (deg): 0.0 \t threshold ge: 762.7987820342936\n",
      "thresholds=[1000.2654603049407, 0, 914.7570313241526, 762.7987820342936],\n",
      "angles=[0.0, 0, 0.0, 0.0],\n",
      "ge_avgs=[[-2.4417276918904256, -5.822380254949823, -10.745093572009763, -5.609572009764036], [0, 0, 0, 0], [-6.3996675888256025, -2.676013452671549, 0.5124073772714939, 4.3709716300515336], [-3.974638133984269, 1.159045294277193, -1.117938920531602, -0.9069762950908611]] ,\n",
      "counts_calib=[[5430, 765, 551, 66, 537, 89, 58, 4], [804, 5326, 74, 570, 76, 569, 10, 71], [715, 90, 5108, 832, 77, 5, 575, 98], [106, 630, 844, 5124, 14, 71, 86, 625], [625, 72, 69, 10, 5337, 742, 559, 86], [88, 650, 12, 64, 826, 5183, 83, 594], [79, 7, 621, 80, 673, 86, 5173, 781], [14, 92, 95, 624, 113, 773, 764, 5025]]\n",
      "\n"
     ]
    },
    {
     "data": {
      "application/vnd.jupyter.widget-view+json": {
       "model_id": "33f5ef8d21d84a918ba6939a85c18534",
       "version_major": 2,
       "version_minor": 0
      },
      "text/plain": [
       "  0%|          | 0/1 [00:00<?, ?it/s]"
      ]
     },
     "metadata": {},
     "output_type": "display_data"
    },
    {
     "data": {
      "application/vnd.jupyter.widget-view+json": {
       "model_id": "761e311073e946ff8251cf903758b24e",
       "version_major": 2,
       "version_minor": 0
      },
      "text/plain": [
       "  0%|          | 0/27 [00:00<?, ?it/s]"
      ]
     },
     "metadata": {},
     "output_type": "display_data"
    },
    {
     "name": "stdout",
     "output_type": "stream",
     "text": [
      "Saving S:\\QRAM\\qram_4QR2\\data\\data_241025\\00600_QramProtocol3QTomo.h5\n",
      "init_state |0>|0+1> play pulses [2, 1, 4, 3]\n",
      "timesteps [inf]\n"
     ]
    },
    {
     "data": {
      "application/vnd.jupyter.widget-view+json": {
       "model_id": "9bf73649ae2e4eb49ba61165218671c3",
       "version_major": 2,
       "version_minor": 0
      },
      "text/plain": [
       "  0%|          | 0/8 [00:00<?, ?it/s]"
      ]
     },
     "metadata": {},
     "output_type": "display_data"
    },
    {
     "name": "stdout",
     "output_type": "stream",
     "text": [
      "Qubit  (0)\n",
      "ge fidelity (%): 79.57207272080718 \t angle (deg): 0.0 \t threshold ge: 992.2904162458404\n",
      "Qubit  (2)\n",
      "ge fidelity (%): 79.4653971640663 \t angle (deg): 0.0 \t threshold ge: 883.0513871092926\n",
      "Qubit  (3)\n",
      "ge fidelity (%): 79.74666666666664 \t angle (deg): 0.0 \t threshold ge: 767.3899912391622\n",
      "thresholds=[992.2904162458404, 0, 883.0513871092926, 767.3899912391622],\n",
      "angles=[0.0, 0, 0.0, 0.0],\n",
      "ge_avgs=[[4.248675128831029, -3.136976403580148, -2.679886086248982, -0.8677460265798747], [0, 0, 0, 0], [-1.496658096013019, 2.3584659614863033, 9.512718524545702, 3.4011151613778154], [-4.8787893680499055, 4.818265690263086, -0.6070086248982921, 0.10033327908868911]] ,\n",
      "counts_calib=[[5473, 578, 645, 59, 591, 88, 57, 9], [619, 5255, 70, 712, 86, 647, 12, 99], [612, 94, 5253, 833, 70, 6, 544, 88], [124, 683, 849, 5055, 12, 77, 80, 620], [633, 73, 86, 8, 5169, 783, 636, 112], [127, 627, 17, 101, 810, 4981, 98, 739], [114, 9, 662, 77, 725, 78, 5291, 544], [7, 73, 84, 662, 68, 635, 544, 5427]]\n",
      "\n"
     ]
    },
    {
     "data": {
      "application/vnd.jupyter.widget-view+json": {
       "model_id": "0f6dfa35f07c4d7fb279d6a799f5bab3",
       "version_major": 2,
       "version_minor": 0
      },
      "text/plain": [
       "  0%|          | 0/1 [00:00<?, ?it/s]"
      ]
     },
     "metadata": {},
     "output_type": "display_data"
    },
    {
     "data": {
      "application/vnd.jupyter.widget-view+json": {
       "model_id": "3397fa9cee854c2497cbf75609e0d6f0",
       "version_major": 2,
       "version_minor": 0
      },
      "text/plain": [
       "  0%|          | 0/27 [00:00<?, ?it/s]"
      ]
     },
     "metadata": {},
     "output_type": "display_data"
    },
    {
     "name": "stdout",
     "output_type": "stream",
     "text": [
      "Saving S:\\QRAM\\qram_4QR2\\data\\data_241025\\00601_QramProtocol3QTomo.h5\n",
      "init_state |0+1>|0+1> play pulses [2, 1, 4, 3]\n",
      "timesteps [inf]\n"
     ]
    },
    {
     "data": {
      "application/vnd.jupyter.widget-view+json": {
       "model_id": "b3fcda53812a4ef482d7fe496cd264e2",
       "version_major": 2,
       "version_minor": 0
      },
      "text/plain": [
       "  0%|          | 0/8 [00:00<?, ?it/s]"
      ]
     },
     "metadata": {},
     "output_type": "display_data"
    },
    {
     "name": "stdout",
     "output_type": "stream",
     "text": [
      "Qubit  (0)\n",
      "ge fidelity (%): 79.41206916477755 \t angle (deg): 0.0 \t threshold ge: 1001.2085468627326\n",
      "Qubit  (2)\n",
      "ge fidelity (%): 76.92000000000002 \t angle (deg): 0.0 \t threshold ge: 884.3366736179469\n",
      "Qubit  (3)\n",
      "ge fidelity (%): 79.38666666666667 \t angle (deg): 0.0 \t threshold ge: 784.4338539427903\n",
      "thresholds=[1001.2085468627326, 0, 884.3366736179469, 784.4338539427903],\n",
      "angles=[0.0, 0, 0.0, 0.0],\n",
      "ge_avgs=[[-2.7442167615947914, 6.382760292921073, -6.3205048006509355, 6.923264334147002], [0, 0, 0, 0], [-7.64422435584486, -2.987698399783021, -2.294919880661784, -8.270652563059398], [1.9692855980471924, -0.8722347708163827, 9.192805315975047, 3.8804633577434258]] ,\n",
      "counts_calib=[[5478, 508, 702, 73, 598, 69, 59, 13], [701, 5271, 79, 715, 95, 565, 9, 65], [750, 79, 5398, 626, 55, 5, 516, 71], [93, 643, 662, 5370, 8, 67, 78, 579], [661, 62, 72, 12, 5330, 590, 715, 58], [112, 577, 11, 93, 828, 5043, 111, 725], [88, 9, 615, 59, 741, 68, 5412, 508], [15, 87, 82, 621, 86, 713, 573, 5323]]\n",
      "\n"
     ]
    },
    {
     "data": {
      "application/vnd.jupyter.widget-view+json": {
       "model_id": "53c6e6b00bd54b10b9863dc578a9a66a",
       "version_major": 2,
       "version_minor": 0
      },
      "text/plain": [
       "  0%|          | 0/1 [00:00<?, ?it/s]"
      ]
     },
     "metadata": {},
     "output_type": "display_data"
    },
    {
     "data": {
      "application/vnd.jupyter.widget-view+json": {
       "model_id": "2d5ae464763b4cc29d457aa98c41084e",
       "version_major": 2,
       "version_minor": 0
      },
      "text/plain": [
       "  0%|          | 0/27 [00:00<?, ?it/s]"
      ]
     },
     "metadata": {},
     "output_type": "display_data"
    },
    {
     "name": "stdout",
     "output_type": "stream",
     "text": [
      "Saving S:\\QRAM\\qram_4QR2\\data\\data_241025\\00602_QramProtocol3QTomo.h5\n",
      "delays 0.0 4.650297619047619\n",
      "init_state |0+1>|1> play pulses [2, 1, 4, 3]\n",
      "timesteps [inf]\n"
     ]
    },
    {
     "data": {
      "application/vnd.jupyter.widget-view+json": {
       "model_id": "cae1168254b94ff0a80cc17ee6a4f014",
       "version_major": 2,
       "version_minor": 0
      },
      "text/plain": [
       "  0%|          | 0/8 [00:00<?, ?it/s]"
      ]
     },
     "metadata": {},
     "output_type": "display_data"
    },
    {
     "name": "stdout",
     "output_type": "stream",
     "text": [
      "Qubit  (0)\n",
      "ge fidelity (%): 80.1855305151798 \t angle (deg): 0.0 \t threshold ge: 1003.4417531120334\n",
      "Qubit  (2)\n",
      "ge fidelity (%): 77.98666666666671 \t angle (deg): 0.0 \t threshold ge: 897.4493668059334\n",
      "Qubit  (3)\n",
      "ge fidelity (%): 75.28 \t angle (deg): 0.0 \t threshold ge: 801.9140097833774\n",
      "thresholds=[1003.4417531120334, 0, 897.4493668059334, 801.9140097833774],\n",
      "angles=[0.0, 0, 0.0, 0.0],\n",
      "ge_avgs=[[-3.1905615405478707, -2.9694523460808244, -1.9212469758611321, -3.332725359370761], [0, 0, 0, 0], [-0.06761941958231667, -0.07367203688635661, 0.8446464876593435, -4.048708001084894], [1.2894007051803613, -6.422326769731491, 2.086213832384054, 2.7600527257933214]] ,\n",
      "counts_calib=[[5399, 697, 647, 91, 531, 57, 70, 8], [831, 5254, 90, 640, 73, 531, 10, 71], [688, 70, 5334, 711, 71, 8, 540, 78], [119, 725, 846, 5078, 11, 86, 74, 561], [640, 82, 84, 15, 5271, 538, 794, 76], [151, 605, 18, 70, 1073, 4734, 140, 709], [87, 8, 663, 60, 689, 52, 5435, 506], [16, 98, 96, 668, 96, 696, 629, 5201]]\n",
      "\n"
     ]
    },
    {
     "data": {
      "application/vnd.jupyter.widget-view+json": {
       "model_id": "2003b25a206145c9b8e69f1df0b0b74e",
       "version_major": 2,
       "version_minor": 0
      },
      "text/plain": [
       "  0%|          | 0/1 [00:00<?, ?it/s]"
      ]
     },
     "metadata": {},
     "output_type": "display_data"
    },
    {
     "data": {
      "application/vnd.jupyter.widget-view+json": {
       "model_id": "54ee2a87cb174f129ed6adfc9e7b758e",
       "version_major": 2,
       "version_minor": 0
      },
      "text/plain": [
       "  0%|          | 0/27 [00:00<?, ?it/s]"
      ]
     },
     "metadata": {},
     "output_type": "display_data"
    },
    {
     "name": "stdout",
     "output_type": "stream",
     "text": [
      "Saving S:\\QRAM\\qram_4QR2\\data\\data_241025\\00603_QramProtocol3QTomo.h5\n",
      "init_state |1>|0+1> play pulses [2, 1, 4, 3]\n",
      "timesteps [inf]\n"
     ]
    },
    {
     "data": {
      "application/vnd.jupyter.widget-view+json": {
       "model_id": "2a1b02216a66474ca798aa4afb56ba09",
       "version_major": 2,
       "version_minor": 0
      },
      "text/plain": [
       "  0%|          | 0/8 [00:00<?, ?it/s]"
      ]
     },
     "metadata": {},
     "output_type": "display_data"
    },
    {
     "name": "stdout",
     "output_type": "stream",
     "text": [
      "Qubit  (0)\n",
      "ge fidelity (%): 79.42523180868561 \t angle (deg): 0.0 \t threshold ge: 968.4901408966955\n",
      "Qubit  (2)\n",
      "ge fidelity (%): 75.51834111214826 \t angle (deg): 0.0 \t threshold ge: 833.0220072251915\n",
      "Qubit  (3)\n",
      "ge fidelity (%): 75.32 \t angle (deg): 0.0 \t threshold ge: 767.7010243271934\n",
      "thresholds=[968.4901408966955, 0, 833.0220072251915, 767.7010243271934],\n",
      "angles=[0.0, 0, 0.0, 0.0],\n",
      "ge_avgs=[[2.0654252237591524, -5.868758774071059, 3.4481393002441014, -0.4946800108489275], [0, 0, 0, 0], [3.668527040954704, 3.9634252237591543, -3.637164740981829, -6.347376512069433], [-12.735454949823707, 1.5900007594250072, 1.4438015730946636, 4.183427502034169]] ,\n",
      "counts_calib=[[5150, 707, 756, 115, 576, 85, 91, 20], [742, 5046, 88, 824, 88, 595, 15, 102], [679, 102, 5270, 663, 71, 12, 611, 92], [109, 550, 871, 5132, 10, 72, 106, 650], [604, 77, 87, 20, 4988, 702, 865, 157], [123, 550, 23, 83, 1232, 4306, 237, 946], [70, 8, 617, 85, 534, 63, 5440, 683], [19, 77, 107, 589, 96, 539, 860, 5213]]\n",
      "\n"
     ]
    },
    {
     "data": {
      "application/vnd.jupyter.widget-view+json": {
       "model_id": "bc72248728d149e68248bb32d8782691",
       "version_major": 2,
       "version_minor": 0
      },
      "text/plain": [
       "  0%|          | 0/1 [00:00<?, ?it/s]"
      ]
     },
     "metadata": {},
     "output_type": "display_data"
    },
    {
     "data": {
      "application/vnd.jupyter.widget-view+json": {
       "model_id": "5a3b22a4b73140bc85c6f8cd4bca08ba",
       "version_major": 2,
       "version_minor": 0
      },
      "text/plain": [
       "  0%|          | 0/27 [00:00<?, ?it/s]"
      ]
     },
     "metadata": {},
     "output_type": "display_data"
    },
    {
     "name": "stdout",
     "output_type": "stream",
     "text": [
      "Saving S:\\QRAM\\qram_4QR2\\data\\data_241025\\00604_QramProtocol3QTomo.h5\n",
      "init_state |0>|0+1> play pulses [2, 1, 4, 3]\n",
      "timesteps [inf]\n"
     ]
    },
    {
     "data": {
      "application/vnd.jupyter.widget-view+json": {
       "model_id": "f8d0b98fc4904d6888f0d2a88d9b7fe9",
       "version_major": 2,
       "version_minor": 0
      },
      "text/plain": [
       "  0%|          | 0/8 [00:00<?, ?it/s]"
      ]
     },
     "metadata": {},
     "output_type": "display_data"
    },
    {
     "name": "stdout",
     "output_type": "stream",
     "text": [
      "Qubit  (0)\n",
      "ge fidelity (%): 79.07862737253856 \t angle (deg): 0.0 \t threshold ge: 956.4852518859607\n",
      "Qubit  (2)\n",
      "ge fidelity (%): 80.75999999999999 \t angle (deg): 0.0 \t threshold ge: 903.135562121003\n",
      "Qubit  (3)\n",
      "ge fidelity (%): 74.53164066319957 \t angle (deg): 0.0 \t threshold ge: 766.1759050938322\n",
      "thresholds=[956.4852518859607, 0, 903.135562121003, 766.1759050938322],\n",
      "angles=[0.0, 0, 0.0, 0.0],\n",
      "ge_avgs=[[4.234274586384594, -3.412043178736099, 0.7866786004882032, -0.33971250339029163], [0, 0, 0, 0], [-2.6520108489286676, 0.41931131000813526, -0.7729383238405205, 5.019929698942228], [7.9683557363710324, 3.432498725250882, -6.972591592080286, 0.13941589368049584]] ,\n",
      "counts_calib=[[5348, 765, 500, 88, 617, 118, 60, 4], [772, 5327, 77, 527, 80, 633, 7, 77], [603, 95, 5318, 723, 90, 13, 564, 94], [124, 664, 876, 4958, 14, 130, 99, 635], [629, 75, 58, 8, 5105, 961, 535, 129], [103, 574, 12, 60, 857, 5115, 95, 684], [74, 10, 484, 88, 810, 169, 4838, 1027], [15, 90, 64, 574, 141, 1055, 656, 4905]]\n",
      "\n"
     ]
    },
    {
     "data": {
      "application/vnd.jupyter.widget-view+json": {
       "model_id": "982432f4e6b5439f92ccf7757b27070e",
       "version_major": 2,
       "version_minor": 0
      },
      "text/plain": [
       "  0%|          | 0/1 [00:00<?, ?it/s]"
      ]
     },
     "metadata": {},
     "output_type": "display_data"
    },
    {
     "data": {
      "application/vnd.jupyter.widget-view+json": {
       "model_id": "cbfa53c1838147279a721a5e6d69ed0b",
       "version_major": 2,
       "version_minor": 0
      },
      "text/plain": [
       "  0%|          | 0/27 [00:00<?, ?it/s]"
      ]
     },
     "metadata": {},
     "output_type": "display_data"
    },
    {
     "name": "stdout",
     "output_type": "stream",
     "text": [
      "Saving S:\\QRAM\\qram_4QR2\\data\\data_241025\\00605_QramProtocol3QTomo.h5\n",
      "init_state |0+1>|0+1> play pulses [2, 1, 4, 3]\n",
      "timesteps [inf]\n"
     ]
    },
    {
     "data": {
      "application/vnd.jupyter.widget-view+json": {
       "model_id": "07963401c378452f81092ec7766fc15a",
       "version_major": 2,
       "version_minor": 0
      },
      "text/plain": [
       "  0%|          | 0/8 [00:00<?, ?it/s]"
      ]
     },
     "metadata": {},
     "output_type": "display_data"
    },
    {
     "name": "stdout",
     "output_type": "stream",
     "text": [
      "Qubit  (0)\n",
      "ge fidelity (%): 80.94550917900165 \t angle (deg): 0.0 \t threshold ge: 958.3446404955856\n",
      "Qubit  (2)\n",
      "ge fidelity (%): 77.78525136684891 \t angle (deg): 0.0 \t threshold ge: 876.3022642633304\n",
      "Qubit  (3)\n",
      "ge fidelity (%): 74.38500777881497 \t angle (deg): 0.0 \t threshold ge: 777.3835893748532\n",
      "thresholds=[958.3446404955856, 0, 876.3022642633304, 777.3835893748532],\n",
      "angles=[0.0, 0, 0.0, 0.0],\n",
      "ge_avgs=[[4.214220124762679, -1.7239320857065357, 3.838411282885817, -2.188570111201519], [0, 0, 0, 0], [2.7387407648494713, 2.202481583943585, -3.9424033631678874, -3.4326605912666115], [11.539677786818553, -5.577894439924058, 0.37384247355572986, 1.8014545158665596]] ,\n",
      "counts_calib=[[5299, 739, 665, 113, 512, 95, 63, 14], [780, 5172, 99, 696, 86, 584, 8, 75], [657, 82, 5200, 764, 78, 14, 578, 127], [98, 548, 850, 5187, 14, 89, 90, 624], [578, 90, 70, 12, 4887, 1028, 668, 167], [100, 554, 13, 82, 861, 4988, 111, 791], [61, 7, 561, 80, 753, 150, 4930, 958], [14, 76, 88, 575, 118, 893, 741, 4995]]\n",
      "\n"
     ]
    },
    {
     "data": {
      "application/vnd.jupyter.widget-view+json": {
       "model_id": "365952e3970d4c578fbe9c6e74895310",
       "version_major": 2,
       "version_minor": 0
      },
      "text/plain": [
       "  0%|          | 0/1 [00:00<?, ?it/s]"
      ]
     },
     "metadata": {},
     "output_type": "display_data"
    },
    {
     "data": {
      "application/vnd.jupyter.widget-view+json": {
       "model_id": "4fc550b4329f4fb19938a8e1eb1db73f",
       "version_major": 2,
       "version_minor": 0
      },
      "text/plain": [
       "  0%|          | 0/27 [00:00<?, ?it/s]"
      ]
     },
     "metadata": {},
     "output_type": "display_data"
    },
    {
     "name": "stdout",
     "output_type": "stream",
     "text": [
      "Saving S:\\QRAM\\qram_4QR2\\data\\data_241025\\00606_QramProtocol3QTomo.h5\n",
      "delays 0.0 6.975446428571429\n",
      "init_state |0+1>|1> play pulses [2, 1, 4, 3]\n",
      "timesteps [inf]\n"
     ]
    },
    {
     "data": {
      "application/vnd.jupyter.widget-view+json": {
       "model_id": "4eee1f2bd2be4e57b63f73f31b6bb8be",
       "version_major": 2,
       "version_minor": 0
      },
      "text/plain": [
       "  0%|          | 0/8 [00:00<?, ?it/s]"
      ]
     },
     "metadata": {},
     "output_type": "display_data"
    },
    {
     "name": "stdout",
     "output_type": "stream",
     "text": [
      "Qubit  (0)\n",
      "ge fidelity (%): 80.90546472863052 \t angle (deg): 0.0 \t threshold ge: 966.4792810094403\n",
      "Qubit  (2)\n",
      "ge fidelity (%): 75.37215806551987 \t angle (deg): 0.0 \t threshold ge: 922.5602131514379\n",
      "Qubit  (3)\n",
      "ge fidelity (%): 74.21167977952614 \t angle (deg): 0.0 \t threshold ge: 817.6305057961429\n",
      "thresholds=[966.4792810094403, 0, 922.5602131514379, 817.6305057961429],\n",
      "angles=[0.0, 0, 0.0, 0.0],\n",
      "ge_avgs=[[-3.30752416598861, 0.8108377542717649, 4.117486737184702, 5.572223270951995], [0, 0, 0, 0], [-0.11590593978844724, -2.93584887442365, -0.43020764849470966, 3.1390689449416884], [-6.503934689449418, -3.043826634119883, -3.6675919717927785, 3.0671451044209364]] ,\n",
      "counts_calib=[[5404, 753, 548, 87, 537, 92, 59, 20], [828, 5327, 76, 558, 76, 558, 8, 69], [890, 121, 5002, 709, 107, 22, 569, 80], [142, 726, 879, 4967, 24, 126, 91, 545], [590, 87, 46, 8, 4853, 1217, 545, 154], [136, 668, 7, 55, 987, 5012, 87, 548], [138, 15, 556, 80, 1031, 187, 4595, 898], [45, 155, 100, 623, 296, 1246, 692, 4343]]\n",
      "\n"
     ]
    },
    {
     "data": {
      "application/vnd.jupyter.widget-view+json": {
       "model_id": "ac713b1450c0467682ddebe6cf9a3ca5",
       "version_major": 2,
       "version_minor": 0
      },
      "text/plain": [
       "  0%|          | 0/1 [00:00<?, ?it/s]"
      ]
     },
     "metadata": {},
     "output_type": "display_data"
    },
    {
     "data": {
      "application/vnd.jupyter.widget-view+json": {
       "model_id": "a5db6e76ad494f89a880f70a5edc3273",
       "version_major": 2,
       "version_minor": 0
      },
      "text/plain": [
       "  0%|          | 0/27 [00:00<?, ?it/s]"
      ]
     },
     "metadata": {},
     "output_type": "display_data"
    },
    {
     "name": "stdout",
     "output_type": "stream",
     "text": [
      "Saving S:\\QRAM\\qram_4QR2\\data\\data_241025\\00607_QramProtocol3QTomo.h5\n",
      "init_state |1>|0+1> play pulses [2, 1, 4, 3]\n",
      "timesteps [inf]\n"
     ]
    },
    {
     "data": {
      "application/vnd.jupyter.widget-view+json": {
       "model_id": "c73ad881e58e4ec49d4526a5e2bd2658",
       "version_major": 2,
       "version_minor": 0
      },
      "text/plain": [
       "  0%|          | 0/8 [00:00<?, ?it/s]"
      ]
     },
     "metadata": {},
     "output_type": "display_data"
    },
    {
     "name": "stdout",
     "output_type": "stream",
     "text": [
      "Qubit  (0)\n",
      "ge fidelity (%): 81.38525314486377 \t angle (deg): 0.0 \t threshold ge: 988.103200604917\n",
      "Qubit  (2)\n",
      "ge fidelity (%): 75.62516246610657 \t angle (deg): 0.0 \t threshold ge: 861.0921967256409\n",
      "Qubit  (3)\n",
      "ge fidelity (%): 74.73176690225363 \t angle (deg): 0.0 \t threshold ge: 787.9885208648424\n",
      "thresholds=[988.103200604917, 0, 861.0921967256409, 787.9885208648424],\n",
      "angles=[0.0, 0, 0.0, 0.0],\n",
      "ge_avgs=[[-3.3334439924057504, -0.9511068077027403, -7.479457662055872, 3.674896880933006], [0, 0, 0, 0], [2.3743354488744237, -2.976398481149986, 3.817588174667751, -0.8296828858150257], [0.07484393816110703, -3.5692986167615923, 2.046572280987255, 0.66923807973962]] ,\n",
      "counts_calib=[[5372, 677, 718, 104, 445, 100, 66, 18], [839, 5113, 95, 746, 56, 550, 6, 95], [783, 80, 5255, 744, 67, 13, 479, 79], [132, 697, 943, 5082, 16, 73, 80, 477], [577, 109, 71, 13, 4618, 1228, 705, 179], [127, 609, 11, 75, 801, 4997, 103, 777], [146, 12, 632, 83, 1049, 220, 4483, 875], [17, 123, 112, 628, 169, 866, 726, 4859]]\n",
      "\n"
     ]
    },
    {
     "data": {
      "application/vnd.jupyter.widget-view+json": {
       "model_id": "9ec731dfd8dd4abfb734943d7f1148ba",
       "version_major": 2,
       "version_minor": 0
      },
      "text/plain": [
       "  0%|          | 0/1 [00:00<?, ?it/s]"
      ]
     },
     "metadata": {},
     "output_type": "display_data"
    },
    {
     "data": {
      "application/vnd.jupyter.widget-view+json": {
       "model_id": "5c0ddbc87ed142a4aa58a6a532af3acf",
       "version_major": 2,
       "version_minor": 0
      },
      "text/plain": [
       "  0%|          | 0/27 [00:00<?, ?it/s]"
      ]
     },
     "metadata": {},
     "output_type": "display_data"
    },
    {
     "name": "stdout",
     "output_type": "stream",
     "text": [
      "Saving S:\\QRAM\\qram_4QR2\\data\\data_241025\\00608_QramProtocol3QTomo.h5\n",
      "init_state |0>|0+1> play pulses [2, 1, 4, 3]\n",
      "timesteps [inf]\n"
     ]
    },
    {
     "data": {
      "application/vnd.jupyter.widget-view+json": {
       "model_id": "e498f680bd66469eb50980a6bfb3b189",
       "version_major": 2,
       "version_minor": 0
      },
      "text/plain": [
       "  0%|          | 0/8 [00:00<?, ?it/s]"
      ]
     },
     "metadata": {},
     "output_type": "display_data"
    },
    {
     "name": "stdout",
     "output_type": "stream",
     "text": [
      "Qubit  (0)\n",
      "ge fidelity (%): 79.81211894919322 \t angle (deg): 0.0 \t threshold ge: 984.1347504278847\n",
      "Qubit  (2)\n",
      "ge fidelity (%): 75.62666666666667 \t angle (deg): 0.0 \t threshold ge: 878.3076813450655\n",
      "Qubit  (3)\n",
      "ge fidelity (%): 73.36000000000004 \t angle (deg): 0.0 \t threshold ge: 774.6995195643473\n",
      "thresholds=[984.1347504278847, 0, 878.3076813450655, 774.6995195643473],\n",
      "angles=[0.0, 0, 0.0, 0.0],\n",
      "ge_avgs=[[-1.2215688635747215, -1.9962068890697031, 1.8980384052074883, -0.3139410903173315], [0, 0, 0, 0], [2.8298957417954975, 1.0155962028749654, -1.8027367507458634, 4.052224355844861], [-1.6365557906156774, 3.6240590181719554, -0.17749075128830735, -0.6445128288581465]] ,\n",
      "counts_calib=[[5228, 798, 651, 108, 507, 117, 74, 17], [805, 5348, 88, 544, 74, 549, 9, 83], [776, 87, 5211, 750, 110, 12, 458, 96], [177, 789, 879, 4948, 24, 123, 67, 493], [596, 129, 75, 4, 4543, 1352, 622, 179], [98, 586, 12, 88, 789, 5100, 103, 724], [84, 9, 584, 101, 905, 185, 4636, 996], [14, 105, 77, 602, 152, 1050, 674, 4826]]\n",
      "\n"
     ]
    },
    {
     "data": {
      "application/vnd.jupyter.widget-view+json": {
       "model_id": "c910f455c35e4a7388815ac101ff9123",
       "version_major": 2,
       "version_minor": 0
      },
      "text/plain": [
       "  0%|          | 0/1 [00:00<?, ?it/s]"
      ]
     },
     "metadata": {},
     "output_type": "display_data"
    },
    {
     "data": {
      "application/vnd.jupyter.widget-view+json": {
       "model_id": "80fcf5c6c89f419a8a4273f31da46c25",
       "version_major": 2,
       "version_minor": 0
      },
      "text/plain": [
       "  0%|          | 0/27 [00:00<?, ?it/s]"
      ]
     },
     "metadata": {},
     "output_type": "display_data"
    },
    {
     "name": "stdout",
     "output_type": "stream",
     "text": [
      "Saving S:\\QRAM\\qram_4QR2\\data\\data_241025\\00609_QramProtocol3QTomo.h5\n",
      "init_state |0+1>|0+1> play pulses [2, 1, 4, 3]\n",
      "timesteps [inf]\n"
     ]
    },
    {
     "data": {
      "application/vnd.jupyter.widget-view+json": {
       "model_id": "d7c46c2472b24e8cb9e6a0a5d8d1b75e",
       "version_major": 2,
       "version_minor": 0
      },
      "text/plain": [
       "  0%|          | 0/8 [00:00<?, ?it/s]"
      ]
     },
     "metadata": {},
     "output_type": "display_data"
    },
    {
     "name": "stdout",
     "output_type": "stream",
     "text": [
      "Qubit  (0)\n",
      "ge fidelity (%): 80.61224341023248 \t angle (deg): 0.0 \t threshold ge: 984.0409624127474\n",
      "Qubit  (2)\n",
      "ge fidelity (%): 77.50546295061565 \t angle (deg): 0.0 \t threshold ge: 880.8542994302353\n",
      "Qubit  (3)\n",
      "ge fidelity (%): 75.38666666666668 \t angle (deg): 0.0 \t threshold ge: 767.5877101933805\n",
      "thresholds=[984.0409624127474, 0, 880.8542994302353, 767.5877101933805],\n",
      "angles=[0.0, 0, 0.0, 0.0],\n",
      "ge_avgs=[[-2.590852291836181, -1.3305222674260908, 0.06532454570111161, 4.7663417412530515], [0, 0, 0, 0], [-1.01480781122864, 0.22602072145375618, -0.07006292378627937, 8.321276484947111], [-8.625733224844048, -2.016008028207215, -5.61613463520478, -2.733645023053971]] ,\n",
      "counts_calib=[[5427, 759, 581, 91, 477, 92, 59, 14], [740, 5311, 84, 679, 67, 547, 5, 67], [763, 104, 5205, 703, 80, 13, 530, 102], [111, 649, 885, 5122, 14, 86, 94, 539], [626, 114, 75, 7, 4894, 1049, 574, 161], [86, 626, 10, 69, 824, 5110, 101, 674], [94, 23, 563, 97, 767, 144, 4859, 953], [18, 93, 89, 611, 180, 1090, 652, 4767]]\n",
      "\n"
     ]
    },
    {
     "data": {
      "application/vnd.jupyter.widget-view+json": {
       "model_id": "2d4deba3ae4a4ebe8b497f3f34b6b182",
       "version_major": 2,
       "version_minor": 0
      },
      "text/plain": [
       "  0%|          | 0/1 [00:00<?, ?it/s]"
      ]
     },
     "metadata": {},
     "output_type": "display_data"
    },
    {
     "data": {
      "application/vnd.jupyter.widget-view+json": {
       "model_id": "c678cbfe013149b385f830c5dcdb1957",
       "version_major": 2,
       "version_minor": 0
      },
      "text/plain": [
       "  0%|          | 0/27 [00:00<?, ?it/s]"
      ]
     },
     "metadata": {},
     "output_type": "display_data"
    },
    {
     "name": "stdout",
     "output_type": "stream",
     "text": [
      "Saving S:\\QRAM\\qram_4QR2\\data\\data_241025\\00610_QramProtocol3QTomo.h5\n",
      "delays 2.3251488095238093 0.0\n",
      "init_state |0+1>|1> play pulses [2, 1, 4, 3]\n",
      "timesteps [inf]\n"
     ]
    },
    {
     "data": {
      "application/vnd.jupyter.widget-view+json": {
       "model_id": "586155e6e2014fc6b3d5db2d9bc861ce",
       "version_major": 2,
       "version_minor": 0
      },
      "text/plain": [
       "  0%|          | 0/8 [00:00<?, ?it/s]"
      ]
     },
     "metadata": {},
     "output_type": "display_data"
    },
    {
     "name": "stdout",
     "output_type": "stream",
     "text": [
      "Qubit  (0)\n",
      "ge fidelity (%): 80.2388087300529 \t angle (deg): 0.0 \t threshold ge: 975.4799566286124\n",
      "Qubit  (2)\n",
      "ge fidelity (%): 77.7320140463173 \t angle (deg): 0.0 \t threshold ge: 877.2143069647461\n",
      "Qubit  (3)\n",
      "ge fidelity (%): 82.46666666666667 \t angle (deg): 0.0 \t threshold ge: 809.7631397026967\n",
      "thresholds=[975.4799566286124, 0, 877.2143069647461, 809.7631397026967],\n",
      "angles=[0.0, 0, 0.0, 0.0],\n",
      "ge_avgs=[[0.8582855438025494, -1.868571847030107, 0.9230342283699475, -2.4225609981014378], [0, 0, 0, 0], [2.2654421480878777, 1.01740797396257, -0.7550956333062098, -3.327368592351505], [0.8988577163005154, 0.58744529427719, -7.615673013289936, -7.579183075671274]] ,\n",
      "counts_calib=[[5643, 439, 662, 58, 551, 77, 61, 9], [590, 5426, 57, 641, 79, 618, 8, 81], [737, 50, 5439, 527, 91, 12, 563, 81], [117, 621, 888, 5061, 21, 111, 85, 596], [599, 70, 100, 15, 4887, 1092, 608, 129], [117, 620, 13, 76, 798, 5064, 102, 710], [63, 16, 582, 97, 877, 167, 4808, 890], [17, 98, 86, 621, 169, 979, 748, 4782]]\n",
      "\n"
     ]
    },
    {
     "data": {
      "application/vnd.jupyter.widget-view+json": {
       "model_id": "bf41c4446a204efdbe5c53f248ab9613",
       "version_major": 2,
       "version_minor": 0
      },
      "text/plain": [
       "  0%|          | 0/1 [00:00<?, ?it/s]"
      ]
     },
     "metadata": {},
     "output_type": "display_data"
    },
    {
     "data": {
      "application/vnd.jupyter.widget-view+json": {
       "model_id": "858cffffb12a464bbf576a6087b626d5",
       "version_major": 2,
       "version_minor": 0
      },
      "text/plain": [
       "  0%|          | 0/27 [00:00<?, ?it/s]"
      ]
     },
     "metadata": {},
     "output_type": "display_data"
    },
    {
     "name": "stdout",
     "output_type": "stream",
     "text": [
      "Saving S:\\QRAM\\qram_4QR2\\data\\data_241025\\00611_QramProtocol3QTomo.h5\n",
      "init_state |1>|0+1> play pulses [2, 1, 4, 3]\n",
      "timesteps [inf]\n"
     ]
    },
    {
     "data": {
      "application/vnd.jupyter.widget-view+json": {
       "model_id": "37a7226d81994d9fa698483816bb0e6d",
       "version_major": 2,
       "version_minor": 0
      },
      "text/plain": [
       "  0%|          | 0/8 [00:00<?, ?it/s]"
      ]
     },
     "metadata": {},
     "output_type": "display_data"
    },
    {
     "name": "stdout",
     "output_type": "stream",
     "text": [
      "Qubit  (0)\n",
      "ge fidelity (%): 80.89215984353473 \t angle (deg): 0.0 \t threshold ge: 1002.5330234162535\n",
      "Qubit  (2)\n",
      "ge fidelity (%): 78.17333333333336 \t angle (deg): 0.0 \t threshold ge: 839.4035982126973\n",
      "Qubit  (3)\n",
      "ge fidelity (%): 74.52000000000002 \t angle (deg): 0.0 \t threshold ge: 770.2647919571609\n",
      "thresholds=[1002.5330234162535, 0, 839.4035982126973, 770.2647919571609],\n",
      "angles=[0.0, 0, 0.0, 0.0],\n",
      "ge_avgs=[[-1.0830846758882566, -1.7439657173854066, 2.0580883102793592, -3.8204789802007055], [0, 0, 0, 0], [6.802929536208299, -4.573751776512069, -0.2634739354488743, -3.197868294005965], [2.3508483862218608, 6.4644883102793615, -2.7378226200162707, -3.8192657445077325]] ,\n",
      "counts_calib=[[5307, 721, 693, 89, 547, 60, 63, 20], [862, 5120, 87, 717, 73, 543, 12, 86], [645, 77, 5261, 769, 63, 10, 591, 84], [82, 548, 887, 5168, 6, 62, 94, 653], [570, 75, 84, 17, 5102, 682, 826, 144], [126, 561, 14, 82, 881, 4908, 132, 796], [61, 6, 591, 73, 481, 65, 5450, 773], [14, 72, 91, 674, 85, 564, 724, 5276]]\n",
      "\n"
     ]
    },
    {
     "data": {
      "application/vnd.jupyter.widget-view+json": {
       "model_id": "e78bf21305484bd4afc710adf225220f",
       "version_major": 2,
       "version_minor": 0
      },
      "text/plain": [
       "  0%|          | 0/1 [00:00<?, ?it/s]"
      ]
     },
     "metadata": {},
     "output_type": "display_data"
    },
    {
     "data": {
      "application/vnd.jupyter.widget-view+json": {
       "model_id": "a307fdd2f9d742debb5ce05891993c07",
       "version_major": 2,
       "version_minor": 0
      },
      "text/plain": [
       "  0%|          | 0/27 [00:00<?, ?it/s]"
      ]
     },
     "metadata": {},
     "output_type": "display_data"
    },
    {
     "name": "stdout",
     "output_type": "stream",
     "text": [
      "Saving S:\\QRAM\\qram_4QR2\\data\\data_241025\\00612_QramProtocol3QTomo.h5\n",
      "init_state |0>|0+1> play pulses [2, 1, 4, 3]\n",
      "timesteps [inf]\n"
     ]
    },
    {
     "data": {
      "application/vnd.jupyter.widget-view+json": {
       "model_id": "925572a051574d0ab3fff79f37282186",
       "version_major": 2,
       "version_minor": 0
      },
      "text/plain": [
       "  0%|          | 0/8 [00:00<?, ?it/s]"
      ]
     },
     "metadata": {},
     "output_type": "display_data"
    },
    {
     "name": "stdout",
     "output_type": "stream",
     "text": [
      "Qubit  (0)\n",
      "ge fidelity (%): 79.78666666666669 \t angle (deg): 0.0 \t threshold ge: 991.9780233759972\n",
      "Qubit  (2)\n",
      "ge fidelity (%): 79.45333333333333 \t angle (deg): 0.0 \t threshold ge: 883.3093755338733\n",
      "Qubit  (3)\n",
      "ge fidelity (%): 78.2133333333333 \t angle (deg): 0.0 \t threshold ge: 779.5389638867879\n",
      "thresholds=[991.9780233759972, 0, 883.3093755338733, 779.5389638867879],\n",
      "angles=[0.0, 0, 0.0, 0.0],\n",
      "ge_avgs=[[-0.12176414429075061, -1.0512260374288047, 1.9508612964469763, -0.3031563873067525], [0, 0, 0, 0], [10.945203797125032, -1.9171087605098995, 2.241840846216434, -3.8871915378356383], [7.8127071331706, -0.621781719555194, -2.1566804448060752, -14.716820179007325]] ,\n",
      "counts_calib=[[5643, 536, 601, 61, 555, 49, 48, 7], [820, 5313, 72, 604, 80, 552, 10, 49], [664, 85, 5353, 701, 65, 16, 538, 78], [156, 820, 904, 4961, 13, 61, 87, 498], [720, 68, 72, 6, 5452, 534, 578, 70], [106, 601, 12, 56, 734, 5316, 79, 596], [95, 7, 581, 58, 667, 66, 5482, 544], [6, 90, 64, 631, 76, 678, 568, 5387]]\n",
      "\n"
     ]
    },
    {
     "data": {
      "application/vnd.jupyter.widget-view+json": {
       "model_id": "08fbca6eec2b438a82d6d4e05d88c969",
       "version_major": 2,
       "version_minor": 0
      },
      "text/plain": [
       "  0%|          | 0/1 [00:00<?, ?it/s]"
      ]
     },
     "metadata": {},
     "output_type": "display_data"
    },
    {
     "data": {
      "application/vnd.jupyter.widget-view+json": {
       "model_id": "04f80584ac124efa80e072247bbfda5d",
       "version_major": 2,
       "version_minor": 0
      },
      "text/plain": [
       "  0%|          | 0/27 [00:00<?, ?it/s]"
      ]
     },
     "metadata": {},
     "output_type": "display_data"
    },
    {
     "name": "stdout",
     "output_type": "stream",
     "text": [
      "Saving S:\\QRAM\\qram_4QR2\\data\\data_241025\\00613_QramProtocol3QTomo.h5\n",
      "init_state |0+1>|0+1> play pulses [2, 1, 4, 3]\n",
      "timesteps [inf]\n"
     ]
    },
    {
     "data": {
      "application/vnd.jupyter.widget-view+json": {
       "model_id": "45bb122383e446c38b5ec0f60f8dcdd5",
       "version_major": 2,
       "version_minor": 0
      },
      "text/plain": [
       "  0%|          | 0/8 [00:00<?, ?it/s]"
      ]
     },
     "metadata": {},
     "output_type": "display_data"
    },
    {
     "name": "stdout",
     "output_type": "stream",
     "text": [
      "Qubit  (0)\n",
      "ge fidelity (%): 81.18548250877893 \t angle (deg): 0.0 \t threshold ge: 977.1460103741906\n",
      "Qubit  (2)\n",
      "ge fidelity (%): 78.76000000000003 \t angle (deg): 0.0 \t threshold ge: 874.5143781642893\n",
      "Qubit  (3)\n",
      "ge fidelity (%): 74.83844779303904 \t angle (deg): 0.0 \t threshold ge: 788.4789187390952\n",
      "thresholds=[977.1460103741906, 0, 874.5143781642893, 788.4789187390952],\n",
      "angles=[0.0, 0, 0.0, 0.0],\n",
      "ge_avgs=[[4.193075888256034, -1.7822916192026037, -2.8549015459723375, -2.67651478166531], [0, 0, 0, 0], [-1.9174596148630334, -4.232798155682126, -4.617881746677517, -6.99152839707079], [0.6268235421752111, 4.230464334147004, -16.146681638188223, 1.484262761052347]] ,\n",
      "counts_calib=[[5436, 698, 576, 94, 545, 86, 59, 6], [827, 5239, 92, 658, 75, 527, 10, 72], [686, 95, 5336, 691, 75, 8, 535, 74], [119, 590, 942, 5109, 8, 67, 93, 572], [569, 78, 63, 8, 5315, 756, 617, 94], [98, 529, 9, 61, 979, 5124, 104, 596], [125, 18, 580, 63, 787, 125, 5133, 669], [11, 76, 81, 547, 86, 625, 772, 5302]]\n",
      "\n"
     ]
    },
    {
     "data": {
      "application/vnd.jupyter.widget-view+json": {
       "model_id": "6ef92ebab4f6433ba32651a4a8e779fb",
       "version_major": 2,
       "version_minor": 0
      },
      "text/plain": [
       "  0%|          | 0/1 [00:00<?, ?it/s]"
      ]
     },
     "metadata": {},
     "output_type": "display_data"
    },
    {
     "data": {
      "application/vnd.jupyter.widget-view+json": {
       "model_id": "e67def2bf15943d68558c2cb2d7968bd",
       "version_major": 2,
       "version_minor": 0
      },
      "text/plain": [
       "  0%|          | 0/27 [00:00<?, ?it/s]"
      ]
     },
     "metadata": {},
     "output_type": "display_data"
    },
    {
     "name": "stdout",
     "output_type": "stream",
     "text": [
      "Saving S:\\QRAM\\qram_4QR2\\data\\data_241025\\00614_QramProtocol3QTomo.h5\n",
      "delays 2.3251488095238093 2.3251488095238093\n",
      "init_state |0+1>|1> play pulses [2, 1, 4, 3]\n",
      "timesteps [inf]\n"
     ]
    },
    {
     "data": {
      "application/vnd.jupyter.widget-view+json": {
       "model_id": "b569655fcd894efba9062203ef7b5d2d",
       "version_major": 2,
       "version_minor": 0
      },
      "text/plain": [
       "  0%|          | 0/8 [00:00<?, ?it/s]"
      ]
     },
     "metadata": {},
     "output_type": "display_data"
    },
    {
     "name": "stdout",
     "output_type": "stream",
     "text": [
      "Qubit  (0)\n",
      "ge fidelity (%): 80.69205316264393 \t angle (deg): 0.0 \t threshold ge: 954.3173188613042\n",
      "Qubit  (2)\n",
      "ge fidelity (%): 75.6933333333333 \t angle (deg): 0.0 \t threshold ge: 866.2073362474604\n",
      "Qubit  (3)\n",
      "ge fidelity (%): 77.09181313063964 \t angle (deg): 0.0 \t threshold ge: 762.9965355277741\n",
      "thresholds=[954.3173188613042, 0, 866.2073362474604, 762.9965355277741],\n",
      "angles=[0.0, 0, 0.0, 0.0],\n",
      "ge_avgs=[[-2.093283319772174, 2.362592026037429, 0.36626807702739217, -5.823719989151071], [0, 0, 0, 0], [0.9515306753458089, 1.7376718199077834, -4.528976620558719, -3.7957882289123934], [-1.7310613506916188, -0.06424323298074305, 3.517382587469489, 0.2760043395714669]] ,\n",
      "counts_calib=[[5329, 681, 646, 94, 575, 90, 76, 9], [666, 5280, 87, 686, 83, 612, 9, 77], [817, 92, 5233, 575, 88, 6, 625, 64], [87, 629, 709, 5217, 9, 86, 86, 677], [574, 74, 51, 7, 5207, 765, 725, 97], [76, 563, 12, 77, 868, 5118, 114, 672], [79, 7, 571, 87, 613, 82, 5375, 686], [20, 133, 89, 595, 116, 788, 636, 5123]]\n",
      "\n"
     ]
    },
    {
     "data": {
      "application/vnd.jupyter.widget-view+json": {
       "model_id": "150f86f5dde04668950483f9a70366dd",
       "version_major": 2,
       "version_minor": 0
      },
      "text/plain": [
       "  0%|          | 0/1 [00:00<?, ?it/s]"
      ]
     },
     "metadata": {},
     "output_type": "display_data"
    },
    {
     "data": {
      "application/vnd.jupyter.widget-view+json": {
       "model_id": "d1524620f85a4b08acb139fe0362055d",
       "version_major": 2,
       "version_minor": 0
      },
      "text/plain": [
       "  0%|          | 0/27 [00:00<?, ?it/s]"
      ]
     },
     "metadata": {},
     "output_type": "display_data"
    },
    {
     "name": "stdout",
     "output_type": "stream",
     "text": [
      "Saving S:\\QRAM\\qram_4QR2\\data\\data_241025\\00615_QramProtocol3QTomo.h5\n",
      "init_state |1>|0+1> play pulses [2, 1, 4, 3]\n",
      "timesteps [inf]\n"
     ]
    },
    {
     "data": {
      "application/vnd.jupyter.widget-view+json": {
       "model_id": "12d6fb46c212434a90741e2d4cb506f5",
       "version_major": 2,
       "version_minor": 0
      },
      "text/plain": [
       "  0%|          | 0/8 [00:00<?, ?it/s]"
      ]
     },
     "metadata": {},
     "output_type": "display_data"
    },
    {
     "name": "stdout",
     "output_type": "stream",
     "text": [
      "Qubit  (0)\n",
      "ge fidelity (%): 79.61333333333333 \t angle (deg): 0.0 \t threshold ge: 963.5090370185978\n",
      "Qubit  (2)\n",
      "ge fidelity (%): 78.71999999999997 \t angle (deg): 0.0 \t threshold ge: 850.4012254170648\n",
      "Qubit  (3)\n",
      "ge fidelity (%): 73.96 \t angle (deg): 0.0 \t threshold ge: 764.237581721469\n",
      "thresholds=[963.5090370185978, 0, 850.4012254170648, 764.237581721469],\n",
      "angles=[0.0, 0, 0.0, 0.0],\n",
      "ge_avgs=[[-2.1606279359913216, -0.44501817195551785, 5.98831429346352, -6.678042419311094], [0, 0, 0, 0], [-8.084779712503392, -0.2584058584214802, -3.781894765391918, 4.589192731217792], [-4.918257445077298, -4.16426200162734, -2.581274532139948, 4.2976636832112876]] ,\n",
      "counts_calib=[[5226, 740, 662, 94, 599, 91, 74, 14], [836, 5150, 92, 689, 77, 567, 13, 76], [606, 73, 5321, 690, 78, 6, 623, 103], [59, 579, 605, 5459, 8, 74, 66, 650], [623, 63, 68, 7, 5303, 589, 758, 89], [85, 620, 9, 84, 749, 4979, 119, 855], [79, 13, 603, 77, 649, 79, 5371, 629], [19, 84, 90, 597, 97, 661, 701, 5251]]\n",
      "\n"
     ]
    },
    {
     "data": {
      "application/vnd.jupyter.widget-view+json": {
       "model_id": "cfe49cbbaace41a9a2215ac7702c0323",
       "version_major": 2,
       "version_minor": 0
      },
      "text/plain": [
       "  0%|          | 0/1 [00:00<?, ?it/s]"
      ]
     },
     "metadata": {},
     "output_type": "display_data"
    },
    {
     "data": {
      "application/vnd.jupyter.widget-view+json": {
       "model_id": "a0ed6caf966e4caa9fbdf6c616190c10",
       "version_major": 2,
       "version_minor": 0
      },
      "text/plain": [
       "  0%|          | 0/27 [00:00<?, ?it/s]"
      ]
     },
     "metadata": {},
     "output_type": "display_data"
    },
    {
     "name": "stdout",
     "output_type": "stream",
     "text": [
      "Saving S:\\QRAM\\qram_4QR2\\data\\data_241025\\00616_QramProtocol3QTomo.h5\n",
      "init_state |0>|0+1> play pulses [2, 1, 4, 3]\n",
      "timesteps [inf]\n"
     ]
    },
    {
     "data": {
      "application/vnd.jupyter.widget-view+json": {
       "model_id": "906fedab65a54354abf490609fe73082",
       "version_major": 2,
       "version_minor": 0
      },
      "text/plain": [
       "  0%|          | 0/8 [00:00<?, ?it/s]"
      ]
     },
     "metadata": {},
     "output_type": "display_data"
    },
    {
     "name": "stdout",
     "output_type": "stream",
     "text": [
      "Qubit  (0)\n",
      "ge fidelity (%): 81.19999999999999 \t angle (deg): 0.0 \t threshold ge: 979.7744586979964\n",
      "Qubit  (2)\n",
      "ge fidelity (%): 77.99875183357781 \t angle (deg): 0.0 \t threshold ge: 868.6810866852937\n",
      "Qubit  (3)\n",
      "ge fidelity (%): 74.88 \t angle (deg): 0.0 \t threshold ge: 744.1092378171306\n",
      "thresholds=[979.7744586979964, 0, 868.6810866852937, 744.1092378171306],\n",
      "angles=[0.0, 0, 0.0, 0.0],\n",
      "ge_avgs=[[-0.1004663954434504, 0.03466612422023269, 1.455933713045837, -2.1579524816924347], [0, 0, 0, 0], [-1.7262496338486584, -6.522094819636561, 1.7991384865744515, -4.431304041225929], [-0.10013344182262081, -4.618874098182804, -1.661164198535388, -3.183891944670461]] ,\n",
      "counts_calib=[[5297, 815, 580, 98, 557, 78, 63, 12], [732, 5315, 80, 651, 67, 557, 6, 92], [724, 95, 5261, 718, 67, 11, 541, 83], [149, 742, 826, 5076, 16, 82, 63, 546], [563, 75, 67, 7, 5114, 821, 730, 123], [102, 617, 12, 72, 782, 5109, 107, 699], [80, 13, 594, 85, 766, 87, 5147, 728], [21, 84, 81, 554, 91, 728, 702, 5239]]\n",
      "\n"
     ]
    },
    {
     "data": {
      "application/vnd.jupyter.widget-view+json": {
       "model_id": "9ce87d0fb96a4edda5ad5fbe67aec2a5",
       "version_major": 2,
       "version_minor": 0
      },
      "text/plain": [
       "  0%|          | 0/1 [00:00<?, ?it/s]"
      ]
     },
     "metadata": {},
     "output_type": "display_data"
    },
    {
     "data": {
      "application/vnd.jupyter.widget-view+json": {
       "model_id": "4e5fb5ad191a4785a4a1b7fedbca014d",
       "version_major": 2,
       "version_minor": 0
      },
      "text/plain": [
       "  0%|          | 0/27 [00:00<?, ?it/s]"
      ]
     },
     "metadata": {},
     "output_type": "display_data"
    },
    {
     "name": "stdout",
     "output_type": "stream",
     "text": [
      "Saving S:\\QRAM\\qram_4QR2\\data\\data_241025\\00617_QramProtocol3QTomo.h5\n",
      "init_state |0+1>|0+1> play pulses [2, 1, 4, 3]\n",
      "timesteps [inf]\n"
     ]
    },
    {
     "data": {
      "application/vnd.jupyter.widget-view+json": {
       "model_id": "fba1819e113b40e28cc951127642cc47",
       "version_major": 2,
       "version_minor": 0
      },
      "text/plain": [
       "  0%|          | 0/8 [00:00<?, ?it/s]"
      ]
     },
     "metadata": {},
     "output_type": "display_data"
    },
    {
     "name": "stdout",
     "output_type": "stream",
     "text": [
      "Qubit  (0)\n",
      "ge fidelity (%): 80.08 \t angle (deg): 0.0 \t threshold ge: 988.8184414436922\n",
      "Qubit  (2)\n",
      "ge fidelity (%): 76.58666666666664 \t angle (deg): 0.0 \t threshold ge: 878.8274108976166\n",
      "Qubit  (3)\n",
      "ge fidelity (%): 74.9584566831133 \t angle (deg): 0.0 \t threshold ge: 797.219912785582\n",
      "thresholds=[988.8184414436922, 0, 878.8274108976166, 797.219912785582],\n",
      "angles=[0.0, 0, 0.0, 0.0],\n",
      "ge_avgs=[[-3.0425695687550847, -3.8230118795768906, -4.291751017087063, 3.114433089232439], [0, 0, 0, 0], [0.5053154326010311, -4.568141578519121, -5.872096663954433, 3.0257523189585043], [-5.131174288039057, -2.5201740168158393, 4.136180743151613, -1.5502195823162528]] ,\n",
      "counts_calib=[[5394, 711, 589, 83, 548, 85, 83, 7], [804, 5255, 87, 598, 92, 568, 9, 87], [831, 87, 5137, 673, 77, 8, 609, 78], [126, 643, 902, 5085, 15, 60, 86, 583], [621, 80, 70, 5, 5296, 688, 648, 92], [91, 564, 17, 79, 879, 5104, 89, 677], [100, 14, 603, 56, 765, 72, 5190, 700], [19, 80, 103, 605, 124, 669, 794, 5106]]\n",
      "\n"
     ]
    },
    {
     "data": {
      "application/vnd.jupyter.widget-view+json": {
       "model_id": "760bc72f58484de2b5ebb521227c25a8",
       "version_major": 2,
       "version_minor": 0
      },
      "text/plain": [
       "  0%|          | 0/1 [00:00<?, ?it/s]"
      ]
     },
     "metadata": {},
     "output_type": "display_data"
    },
    {
     "data": {
      "application/vnd.jupyter.widget-view+json": {
       "model_id": "0f37b4130e174dd188df877a5d3908b8",
       "version_major": 2,
       "version_minor": 0
      },
      "text/plain": [
       "  0%|          | 0/27 [00:00<?, ?it/s]"
      ]
     },
     "metadata": {},
     "output_type": "display_data"
    },
    {
     "name": "stdout",
     "output_type": "stream",
     "text": [
      "Saving S:\\QRAM\\qram_4QR2\\data\\data_241025\\00618_QramProtocol3QTomo.h5\n",
      "delays 2.3251488095238093 4.650297619047619\n",
      "init_state |0+1>|1> play pulses [2, 1, 4, 3]\n",
      "timesteps [inf]\n"
     ]
    },
    {
     "data": {
      "application/vnd.jupyter.widget-view+json": {
       "model_id": "fe749bd5c3ed4434babefe9cc3a0abd4",
       "version_major": 2,
       "version_minor": 0
      },
      "text/plain": [
       "  0%|          | 0/8 [00:00<?, ?it/s]"
      ]
     },
     "metadata": {},
     "output_type": "display_data"
    },
    {
     "name": "stdout",
     "output_type": "stream",
     "text": [
      "Qubit  (0)\n",
      "ge fidelity (%): 78.95999999999998 \t angle (deg): 0.0 \t threshold ge: 985.0942055936151\n",
      "Qubit  (2)\n",
      "ge fidelity (%): 78.5066666666667 \t angle (deg): 0.0 \t threshold ge: 875.7273465687059\n",
      "Qubit  (3)\n",
      "ge fidelity (%): 76.14666666666663 \t angle (deg): 0.0 \t threshold ge: 760.3631409453722\n",
      "thresholds=[985.0942055936151, 0, 875.7273465687059, 760.3631409453722],\n",
      "angles=[0.0, 0, 0.0, 0.0],\n",
      "ge_avgs=[[6.422435259018172, 0.4988210469216181, -2.5546248982912925, 0.009768049905072258], [0, 0, 0, 0], [-0.013524816924328721, 6.09127615947925, -2.2362574450772965, 3.807459614863032], [-2.783625711960943, -1.3785560075942496, 4.588513154326012, 1.4281325739083255]] ,\n",
      "counts_calib=[[5390, 694, 598, 70, 601, 75, 63, 9], [787, 5246, 81, 637, 72, 589, 6, 82], [696, 91, 5264, 738, 73, 13, 539, 86], [166, 635, 1165, 4856, 15, 65, 94, 504], [689, 81, 62, 7, 5260, 729, 583, 89], [151, 674, 14, 71, 872, 5011, 87, 620], [92, 13, 616, 81, 621, 102, 5185, 790], [23, 109, 113, 603, 125, 773, 732, 5022]]\n",
      "\n"
     ]
    },
    {
     "data": {
      "application/vnd.jupyter.widget-view+json": {
       "model_id": "d01fb64c6c1e4d90b88d85764c77059c",
       "version_major": 2,
       "version_minor": 0
      },
      "text/plain": [
       "  0%|          | 0/1 [00:00<?, ?it/s]"
      ]
     },
     "metadata": {},
     "output_type": "display_data"
    },
    {
     "data": {
      "application/vnd.jupyter.widget-view+json": {
       "model_id": "bb9161bd4e544f96869e5dbfe22411f4",
       "version_major": 2,
       "version_minor": 0
      },
      "text/plain": [
       "  0%|          | 0/27 [00:00<?, ?it/s]"
      ]
     },
     "metadata": {},
     "output_type": "display_data"
    },
    {
     "name": "stdout",
     "output_type": "stream",
     "text": [
      "Saving S:\\QRAM\\qram_4QR2\\data\\data_241025\\00619_QramProtocol3QTomo.h5\n",
      "init_state |1>|0+1> play pulses [2, 1, 4, 3]\n",
      "timesteps [inf]\n"
     ]
    },
    {
     "data": {
      "application/vnd.jupyter.widget-view+json": {
       "model_id": "70816f3e147446a492d53a3156305c43",
       "version_major": 2,
       "version_minor": 0
      },
      "text/plain": [
       "  0%|          | 0/8 [00:00<?, ?it/s]"
      ]
     },
     "metadata": {},
     "output_type": "display_data"
    },
    {
     "name": "stdout",
     "output_type": "stream",
     "text": [
      "Qubit  (0)\n",
      "ge fidelity (%): 80.29333333333332 \t angle (deg): 0.0 \t threshold ge: 987.2272149598477\n",
      "Qubit  (2)\n",
      "ge fidelity (%): 78.72000000000003 \t angle (deg): 0.0 \t threshold ge: 883.7798058304177\n",
      "Qubit  (3)\n",
      "ge fidelity (%): 74.89186647108505 \t angle (deg): 0.0 \t threshold ge: 809.5232814928983\n",
      "thresholds=[987.2272149598477, 0, 883.7798058304177, 809.5232814928983],\n",
      "angles=[0.0, 0, 0.0, 0.0],\n",
      "ge_avgs=[[-0.9011031190669908, 4.813215080010849, 3.722681095741796, 6.608848928668293], [0, 0, 0, 0], [-4.75646932465419, -0.15763102793599149, 2.2158640629237847, 3.138833740168158], [-2.0084961215080015, -4.677229617575262, -2.004797613235697, -4.515995443449964]] ,\n",
      "counts_calib=[[5403, 674, 603, 86, 583, 84, 61, 6], [859, 5303, 90, 599, 76, 517, 9, 47], [674, 85, 5332, 692, 72, 10, 552, 83], [103, 600, 837, 5255, 11, 61, 90, 543], [619, 69, 70, 5, 5277, 693, 672, 95], [176, 623, 15, 70, 1013, 4946, 100, 557], [123, 15, 569, 87, 760, 93, 5186, 667], [38, 130, 104, 570, 141, 813, 779, 4925]]\n",
      "\n"
     ]
    },
    {
     "data": {
      "application/vnd.jupyter.widget-view+json": {
       "model_id": "5566f7ef5b2f4ee29088af81adb908d4",
       "version_major": 2,
       "version_minor": 0
      },
      "text/plain": [
       "  0%|          | 0/1 [00:00<?, ?it/s]"
      ]
     },
     "metadata": {},
     "output_type": "display_data"
    },
    {
     "data": {
      "application/vnd.jupyter.widget-view+json": {
       "model_id": "d4a85adc56a54616b4b8296ee0328507",
       "version_major": 2,
       "version_minor": 0
      },
      "text/plain": [
       "  0%|          | 0/27 [00:00<?, ?it/s]"
      ]
     },
     "metadata": {},
     "output_type": "display_data"
    },
    {
     "name": "stdout",
     "output_type": "stream",
     "text": [
      "Saving S:\\QRAM\\qram_4QR2\\data\\data_241025\\00620_QramProtocol3QTomo.h5\n",
      "init_state |0>|0+1> play pulses [2, 1, 4, 3]\n",
      "timesteps [inf]\n"
     ]
    },
    {
     "data": {
      "application/vnd.jupyter.widget-view+json": {
       "model_id": "dfd12ed2b1a34b51aa547cb13d115b7c",
       "version_major": 2,
       "version_minor": 0
      },
      "text/plain": [
       "  0%|          | 0/8 [00:00<?, ?it/s]"
      ]
     },
     "metadata": {},
     "output_type": "display_data"
    },
    {
     "name": "stdout",
     "output_type": "stream",
     "text": [
      "Qubit  (0)\n",
      "ge fidelity (%): 80.79881762012717 \t angle (deg): 0.0 \t threshold ge: 978.6209981157482\n",
      "Qubit  (2)\n",
      "ge fidelity (%): 79.93215806551984 \t angle (deg): 0.0 \t threshold ge: 883.3141664115606\n",
      "Qubit  (3)\n",
      "ge fidelity (%): 75.45183624483262 \t angle (deg): 0.0 \t threshold ge: 783.2361043480306\n",
      "thresholds=[978.6209981157482, 0, 883.3141664115606, 783.2361043480306],\n",
      "angles=[0.0, 0, 0.0, 0.0],\n",
      "ge_avgs=[[1.0144977488473017, 7.003287116897207, -1.5990509357200988, -1.285669758611336], [0, 0, 0, 0], [-0.4501884458909692, 0.9928248440466486, -2.687806129644696, 5.579555193924601], [-2.668881366965013, 6.246585516680228, -1.719014049362627, 6.0243176566314105]] ,\n",
      "counts_calib=[[5438, 710, 576, 75, 563, 77, 50, 11], [815, 5278, 65, 605, 92, 575, 8, 62], [642, 80, 5324, 721, 67, 11, 572, 83], [115, 697, 840, 5074, 16, 81, 88, 589], [598, 75, 72, 6, 5364, 716, 593, 76], [122, 524, 8, 58, 884, 5120, 128, 656], [71, 17, 554, 83, 697, 94, 5209, 775], [15, 95, 97, 560, 100, 713, 776, 5144]]\n",
      "\n"
     ]
    },
    {
     "data": {
      "application/vnd.jupyter.widget-view+json": {
       "model_id": "27dd91485d0c46c1a86e14bf4092e552",
       "version_major": 2,
       "version_minor": 0
      },
      "text/plain": [
       "  0%|          | 0/1 [00:00<?, ?it/s]"
      ]
     },
     "metadata": {},
     "output_type": "display_data"
    },
    {
     "data": {
      "application/vnd.jupyter.widget-view+json": {
       "model_id": "f5518f24c90b46b293817d4e5558d204",
       "version_major": 2,
       "version_minor": 0
      },
      "text/plain": [
       "  0%|          | 0/27 [00:00<?, ?it/s]"
      ]
     },
     "metadata": {},
     "output_type": "display_data"
    },
    {
     "name": "stdout",
     "output_type": "stream",
     "text": [
      "Saving S:\\QRAM\\qram_4QR2\\data\\data_241025\\00621_QramProtocol3QTomo.h5\n",
      "init_state |0+1>|0+1> play pulses [2, 1, 4, 3]\n",
      "timesteps [inf]\n"
     ]
    },
    {
     "data": {
      "application/vnd.jupyter.widget-view+json": {
       "model_id": "d7448bec7a344f3089887a1eb77902cc",
       "version_major": 2,
       "version_minor": 0
      },
      "text/plain": [
       "  0%|          | 0/8 [00:00<?, ?it/s]"
      ]
     },
     "metadata": {},
     "output_type": "display_data"
    },
    {
     "name": "stdout",
     "output_type": "stream",
     "text": [
      "Qubit  (0)\n",
      "ge fidelity (%): 81.71867182290973 \t angle (deg): 0.0 \t threshold ge: 1003.5539322707051\n",
      "Qubit  (2)\n",
      "ge fidelity (%): 77.99859536827135 \t angle (deg): 0.0 \t threshold ge: 882.2186238984439\n",
      "Qubit  (3)\n",
      "ge fidelity (%): 74.9733333333333 \t angle (deg): 0.0 \t threshold ge: 802.8834154510541\n",
      "thresholds=[1003.5539322707051, 0, 882.2186238984439, 802.8834154510541],\n",
      "angles=[0.0, 0, 0.0, 0.0],\n",
      "ge_avgs=[[-3.1420563059397892, 4.478453159750474, 6.3751485760781135, -2.2162588554380274], [0, 0, 0, 0], [1.12154575535666, -0.5528644426362894, -4.505580254949823, 3.6073358285869292], [-10.579683645240033, -2.941170816381883, -4.052401518850011, -0.5608812584757189]] ,\n",
      "counts_calib=[[5405, 685, 676, 86, 498, 80, 60, 10], [848, 5316, 81, 600, 77, 504, 13, 61], [686, 76, 5341, 760, 62, 2, 508, 65], [164, 637, 1222, 4885, 15, 54, 107, 416], [572, 78, 69, 9, 5328, 702, 663, 79], [140, 605, 14, 68, 871, 5097, 107, 598], [83, 9, 572, 92, 611, 67, 5358, 708], [19, 75, 114, 602, 110, 617, 773, 5190]]\n",
      "\n"
     ]
    },
    {
     "data": {
      "application/vnd.jupyter.widget-view+json": {
       "model_id": "906556159ca546b8973ceed2082779ff",
       "version_major": 2,
       "version_minor": 0
      },
      "text/plain": [
       "  0%|          | 0/1 [00:00<?, ?it/s]"
      ]
     },
     "metadata": {},
     "output_type": "display_data"
    },
    {
     "data": {
      "application/vnd.jupyter.widget-view+json": {
       "model_id": "e43158fa6ee44fee874aa3b253156c62",
       "version_major": 2,
       "version_minor": 0
      },
      "text/plain": [
       "  0%|          | 0/27 [00:00<?, ?it/s]"
      ]
     },
     "metadata": {},
     "output_type": "display_data"
    },
    {
     "name": "stdout",
     "output_type": "stream",
     "text": [
      "Saving S:\\QRAM\\qram_4QR2\\data\\data_241025\\00622_QramProtocol3QTomo.h5\n",
      "delays 2.3251488095238093 6.975446428571429\n",
      "init_state |0+1>|1> play pulses [2, 1, 4, 3]\n",
      "timesteps [inf]\n"
     ]
    },
    {
     "data": {
      "application/vnd.jupyter.widget-view+json": {
       "model_id": "6b0e2c9a554947e6a184d9f9197fd6cb",
       "version_major": 2,
       "version_minor": 0
      },
      "text/plain": [
       "  0%|          | 0/8 [00:00<?, ?it/s]"
      ]
     },
     "metadata": {},
     "output_type": "display_data"
    },
    {
     "name": "stdout",
     "output_type": "stream",
     "text": [
      "Qubit  (0)\n",
      "ge fidelity (%): 81.15999999999997 \t angle (deg): 0.0 \t threshold ge: 977.7559846075832\n",
      "Qubit  (2)\n",
      "ge fidelity (%): 76.63843179090544 \t angle (deg): 0.0 \t threshold ge: 813.9618102590314\n",
      "Qubit  (3)\n",
      "ge fidelity (%): 77.02524781081921 \t angle (deg): 0.0 \t threshold ge: 784.4796338069616\n",
      "thresholds=[977.7559846075832, 0, 813.9618102590314, 784.4796338069616],\n",
      "angles=[0.0, 0, 0.0, 0.0],\n",
      "ge_avgs=[[-3.5806574450772994, 1.1771938161106579, 0.28242462706807514, 3.8290863032275557], [0, 0, 0, 0], [-3.6031861133713057, 0.355394304312448, 4.648237049091401, -4.883880227827503], [7.213602820721455, 4.429183075671277, -6.068230431244916, 1.9618246813127218]] ,\n",
      "counts_calib=[[5326, 648, 763, 96, 501, 68, 89, 9], [702, 5016, 129, 980, 70, 510, 10, 83], [689, 82, 5375, 704, 47, 9, 512, 82], [100, 504, 853, 5281, 5, 53, 100, 604], [580, 76, 88, 8, 5005, 703, 907, 133], [92, 574, 11, 107, 867, 4798, 167, 884], [71, 12, 614, 81, 603, 80, 5240, 799], [9, 70, 79, 568, 106, 548, 869, 5251]]\n",
      "\n"
     ]
    },
    {
     "data": {
      "application/vnd.jupyter.widget-view+json": {
       "model_id": "a84c25c834a14d659482a90b5810a19c",
       "version_major": 2,
       "version_minor": 0
      },
      "text/plain": [
       "  0%|          | 0/1 [00:00<?, ?it/s]"
      ]
     },
     "metadata": {},
     "output_type": "display_data"
    },
    {
     "data": {
      "application/vnd.jupyter.widget-view+json": {
       "model_id": "d2adc011e6fc4074aeed173065cc6f5b",
       "version_major": 2,
       "version_minor": 0
      },
      "text/plain": [
       "  0%|          | 0/27 [00:00<?, ?it/s]"
      ]
     },
     "metadata": {},
     "output_type": "display_data"
    },
    {
     "name": "stdout",
     "output_type": "stream",
     "text": [
      "Saving S:\\QRAM\\qram_4QR2\\data\\data_241025\\00623_QramProtocol3QTomo.h5\n",
      "init_state |1>|0+1> play pulses [2, 1, 4, 3]\n",
      "timesteps [inf]\n"
     ]
    },
    {
     "data": {
      "application/vnd.jupyter.widget-view+json": {
       "model_id": "b410891d24f84717ad5a0cfe058498da",
       "version_major": 2,
       "version_minor": 0
      },
      "text/plain": [
       "  0%|          | 0/8 [00:00<?, ?it/s]"
      ]
     },
     "metadata": {},
     "output_type": "display_data"
    },
    {
     "name": "stdout",
     "output_type": "stream",
     "text": [
      "Qubit  (0)\n",
      "ge fidelity (%): 80.13209583500023 \t angle (deg): 0.0 \t threshold ge: 981.5931370600704\n",
      "Qubit  (2)\n",
      "ge fidelity (%): 78.57333333333334 \t angle (deg): 0.0 \t threshold ge: 863.9438208814051\n",
      "Qubit  (3)\n",
      "ge fidelity (%): 77.27857225407831 \t angle (deg): 0.0 \t threshold ge: 758.035297510412\n",
      "thresholds=[981.5931370600704, 0, 863.9438208814051, 758.035297510412],\n",
      "angles=[0.0, 0, 0.0, 0.0],\n",
      "ge_avgs=[[0.41434358557092454, -3.1654264171413082, 2.6527559533496046, -2.7708478437754285], [0, 0, 0, 0], [-5.004029617575264, -2.5624528342826145, -1.8757641442907516, 2.4642133984269043], [-1.0936455655004067, -2.702464008679143, -1.4958665581773793, 8.760040791971795]] ,\n",
      "counts_calib=[[5438, 656, 601, 87, 573, 67, 65, 13], [718, 5333, 82, 623, 73, 584, 9, 78], [673, 109, 5188, 776, 52, 9, 607, 86], [142, 691, 793, 5171, 9, 89, 86, 519], [620, 84, 63, 9, 5192, 818, 625, 89], [93, 591, 13, 65, 830, 5110, 95, 703], [84, 9, 612, 91, 576, 99, 5263, 766], [20, 88, 85, 642, 102, 720, 780, 5063]]\n",
      "\n"
     ]
    },
    {
     "data": {
      "application/vnd.jupyter.widget-view+json": {
       "model_id": "d7f1091e9ed8489d967ab4105faf830f",
       "version_major": 2,
       "version_minor": 0
      },
      "text/plain": [
       "  0%|          | 0/1 [00:00<?, ?it/s]"
      ]
     },
     "metadata": {},
     "output_type": "display_data"
    },
    {
     "data": {
      "application/vnd.jupyter.widget-view+json": {
       "model_id": "ed2e685159f74af1a72ea73ad1f8e17e",
       "version_major": 2,
       "version_minor": 0
      },
      "text/plain": [
       "  0%|          | 0/27 [00:00<?, ?it/s]"
      ]
     },
     "metadata": {},
     "output_type": "display_data"
    },
    {
     "name": "stdout",
     "output_type": "stream",
     "text": [
      "Saving S:\\QRAM\\qram_4QR2\\data\\data_241025\\00624_QramProtocol3QTomo.h5\n",
      "init_state |0>|0+1> play pulses [2, 1, 4, 3]\n",
      "timesteps [inf]\n"
     ]
    },
    {
     "data": {
      "application/vnd.jupyter.widget-view+json": {
       "model_id": "919490d19d1e472d89e828ba3b9e9fe0",
       "version_major": 2,
       "version_minor": 0
      },
      "text/plain": [
       "  0%|          | 0/8 [00:00<?, ?it/s]"
      ]
     },
     "metadata": {},
     "output_type": "display_data"
    },
    {
     "name": "stdout",
     "output_type": "stream",
     "text": [
      "Qubit  (0)\n",
      "ge fidelity (%): 80.01215273147527 \t angle (deg): 0.0 \t threshold ge: 1022.1814949225754\n",
      "Qubit  (2)\n",
      "ge fidelity (%): 79.50666666666669 \t angle (deg): 0.0 \t threshold ge: 879.0519126516592\n",
      "Qubit  (3)\n",
      "ge fidelity (%): 75.23839267457879 \t angle (deg): 0.0 \t threshold ge: 776.6255915729898\n",
      "thresholds=[1022.1814949225754, 0, 879.0519126516592, 776.6255915729898],\n",
      "angles=[0.0, 0, 0.0, 0.0],\n",
      "ge_avgs=[[3.335145755356659, -2.4989671819907775, -12.495048657445079, 3.2464518578790345], [0, 0, 0, 0], [4.111865147816654, -4.601720857065365, -3.157574505017629, 3.4888696501220506], [-0.49922050447518124, 7.557814157851912, -2.9783209113100035, -4.3121971250339]] ,\n",
      "counts_calib=[[5418, 774, 547, 73, 541, 76, 61, 10], [771, 5306, 70, 607, 83, 584, 6, 73], [685, 105, 5336, 722, 58, 5, 510, 79], [86, 627, 885, 5189, 12, 74, 74, 553], [643, 74, 82, 13, 5184, 738, 647, 119], [115, 650, 8, 76, 873, 5061, 95, 622], [79, 17, 644, 76, 605, 83, 5297, 699], [17, 86, 122, 626, 109, 651, 766, 5123]]\n",
      "\n"
     ]
    },
    {
     "data": {
      "application/vnd.jupyter.widget-view+json": {
       "model_id": "0a78629dd7a047b39dabfe792aea66fc",
       "version_major": 2,
       "version_minor": 0
      },
      "text/plain": [
       "  0%|          | 0/1 [00:00<?, ?it/s]"
      ]
     },
     "metadata": {},
     "output_type": "display_data"
    },
    {
     "data": {
      "application/vnd.jupyter.widget-view+json": {
       "model_id": "98772ad23d4948e28c3d73a13a758b3e",
       "version_major": 2,
       "version_minor": 0
      },
      "text/plain": [
       "  0%|          | 0/27 [00:00<?, ?it/s]"
      ]
     },
     "metadata": {},
     "output_type": "display_data"
    },
    {
     "name": "stdout",
     "output_type": "stream",
     "text": [
      "Saving S:\\QRAM\\qram_4QR2\\data\\data_241025\\00625_QramProtocol3QTomo.h5\n",
      "init_state |0+1>|0+1> play pulses [2, 1, 4, 3]\n",
      "timesteps [inf]\n"
     ]
    },
    {
     "data": {
      "application/vnd.jupyter.widget-view+json": {
       "model_id": "7db232eae57b4b29b745ab8e096421b6",
       "version_major": 2,
       "version_minor": 0
      },
      "text/plain": [
       "  0%|          | 0/8 [00:00<?, ?it/s]"
      ]
     },
     "metadata": {},
     "output_type": "display_data"
    },
    {
     "name": "stdout",
     "output_type": "stream",
     "text": [
      "Qubit  (0)\n",
      "ge fidelity (%): 78.99873938747388 \t angle (deg): 0.0 \t threshold ge: 971.2262538321437\n",
      "Qubit  (2)\n",
      "ge fidelity (%): 78.54666666666667 \t angle (deg): 0.0 \t threshold ge: 899.4090146199285\n",
      "Qubit  (3)\n",
      "ge fidelity (%): 76.27850291149932 \t angle (deg): 0.0 \t threshold ge: 768.9308817857622\n",
      "thresholds=[971.2262538321437, 0, 899.4090146199285, 768.9308817857622],\n",
      "angles=[0.0, 0, 0.0, 0.0],\n",
      "ge_avgs=[[-1.4825998372660707, 6.063982858692706, 2.2310527800379694, 5.7085281258475735], [0, 0, 0, 0], [0.9402182804448069, -6.147157472199621, 4.9032184431787345, 3.1582745863845956], [-2.1922341198806623, 1.6678661242202337, 6.335270843504194, 3.6292430702468157]] ,\n",
      "counts_calib=[[5444, 691, 555, 72, 561, 93, 72, 12], [745, 5360, 86, 551, 84, 604, 8, 62], [721, 99, 5157, 771, 76, 9, 557, 110], [159, 810, 842, 4914, 15, 90, 97, 573], [690, 89, 55, 3, 5308, 746, 525, 84], [99, 585, 9, 70, 855, 5211, 92, 579], [129, 20, 545, 74, 815, 101, 5167, 649], [22, 104, 92, 575, 115, 808, 774, 5010]]\n",
      "\n"
     ]
    },
    {
     "data": {
      "application/vnd.jupyter.widget-view+json": {
       "model_id": "c08a979a84414f87ae032462728aedb8",
       "version_major": 2,
       "version_minor": 0
      },
      "text/plain": [
       "  0%|          | 0/1 [00:00<?, ?it/s]"
      ]
     },
     "metadata": {},
     "output_type": "display_data"
    },
    {
     "data": {
      "application/vnd.jupyter.widget-view+json": {
       "model_id": "5da1c2f40659416e94cba7cbad47f1eb",
       "version_major": 2,
       "version_minor": 0
      },
      "text/plain": [
       "  0%|          | 0/27 [00:00<?, ?it/s]"
      ]
     },
     "metadata": {},
     "output_type": "display_data"
    },
    {
     "name": "stdout",
     "output_type": "stream",
     "text": [
      "Saving S:\\QRAM\\qram_4QR2\\data\\data_241025\\00626_QramProtocol3QTomo.h5\n",
      "delays 4.650297619047619 0.0\n",
      "init_state |0+1>|1> play pulses [2, 1, 4, 3]\n",
      "timesteps [inf]\n"
     ]
    },
    {
     "data": {
      "application/vnd.jupyter.widget-view+json": {
       "model_id": "1adaa93cf546445dbdde2dad2c2d2d78",
       "version_major": 2,
       "version_minor": 0
      },
      "text/plain": [
       "  0%|          | 0/8 [00:00<?, ?it/s]"
      ]
     },
     "metadata": {},
     "output_type": "display_data"
    },
    {
     "name": "stdout",
     "output_type": "stream",
     "text": [
      "Qubit  (0)\n",
      "ge fidelity (%): 78.34505400720096 \t angle (deg): 0.0 \t threshold ge: 926.0178691135094\n",
      "Qubit  (2)\n",
      "ge fidelity (%): 78.94542561230385 \t angle (deg): 0.0 \t threshold ge: 878.1629547613064\n",
      "Qubit  (3)\n",
      "ge fidelity (%): 75.76 \t angle (deg): 0.0 \t threshold ge: 755.4592641961294\n",
      "thresholds=[926.0178691135094, 0, 878.1629547613064, 755.4592641961294],\n",
      "angles=[0.0, 0, 0.0, 0.0],\n",
      "ge_avgs=[[-2.403212910225116, -0.6549308380797408, -0.0993302956333082, -9.303057445077297], [0, 0, 0, 0], [-4.529987740710606, 7.3489754271765655, 6.935477841063196, 0.14405587198264294], [3.3547759153783554, 2.4938614591809074, 0.09633675074586208, 2.801142283699488]] ,\n",
      "counts_calib=[[5200, 710, 557, 86, 735, 106, 90, 16], [738, 5209, 82, 604, 89, 684, 10, 84], [658, 98, 5168, 737, 78, 11, 649, 101], [113, 586, 814, 4983, 15, 95, 115, 779], [563, 77, 52, 7, 5390, 767, 554, 90], [70, 504, 10, 61, 893, 5205, 107, 650], [120, 5, 548, 79, 794, 108, 5073, 773], [12, 70, 84, 556, 123, 664, 745, 5246]]\n",
      "\n"
     ]
    },
    {
     "data": {
      "application/vnd.jupyter.widget-view+json": {
       "model_id": "ee5c54fc82e24b4cba124d61fd3dbf01",
       "version_major": 2,
       "version_minor": 0
      },
      "text/plain": [
       "  0%|          | 0/1 [00:00<?, ?it/s]"
      ]
     },
     "metadata": {},
     "output_type": "display_data"
    },
    {
     "data": {
      "application/vnd.jupyter.widget-view+json": {
       "model_id": "f245dea8c1a248b6a6ffb04bce6fe152",
       "version_major": 2,
       "version_minor": 0
      },
      "text/plain": [
       "  0%|          | 0/27 [00:00<?, ?it/s]"
      ]
     },
     "metadata": {},
     "output_type": "display_data"
    },
    {
     "name": "stdout",
     "output_type": "stream",
     "text": [
      "Saving S:\\QRAM\\qram_4QR2\\data\\data_241025\\00627_QramProtocol3QTomo.h5\n",
      "init_state |1>|0+1> play pulses [2, 1, 4, 3]\n",
      "timesteps [inf]\n"
     ]
    },
    {
     "data": {
      "application/vnd.jupyter.widget-view+json": {
       "model_id": "d825f37098594d36b3d02a461d656d8f",
       "version_major": 2,
       "version_minor": 0
      },
      "text/plain": [
       "  0%|          | 0/8 [00:00<?, ?it/s]"
      ]
     },
     "metadata": {},
     "output_type": "display_data"
    },
    {
     "name": "stdout",
     "output_type": "stream",
     "text": [
      "Qubit  (0)\n",
      "ge fidelity (%): 79.81213317331202 \t angle (deg): 0.0 \t threshold ge: 983.5017524470909\n",
      "Qubit  (2)\n",
      "ge fidelity (%): 80.42666666666666 \t angle (deg): 0.0 \t threshold ge: 881.1634694366417\n",
      "Qubit  (3)\n",
      "ge fidelity (%): 76.4918504689514 \t angle (deg): 0.0 \t threshold ge: 778.0978704860854\n",
      "thresholds=[983.5017524470909, 0, 881.1634694366417, 778.0978704860854],\n",
      "angles=[0.0, 0, 0.0, 0.0],\n",
      "ge_avgs=[[-0.7907075671277473, 4.3612483862218605, 4.994975101708707, -4.203128071602928], [0, 0, 0, 0], [1.084757038242475, -2.501985245457011, -4.2110442093843234, -2.5054324925413605], [3.3537601301871445, -5.820812693246541, -1.1956848386221828, -4.953775427176559]] ,\n",
      "counts_calib=[[5453, 704, 576, 69, 554, 81, 58, 5], [748, 5286, 67, 691, 85, 540, 9, 74], [609, 76, 5284, 750, 64, 14, 602, 101], [140, 613, 1156, 4867, 8, 76, 136, 504], [675, 81, 55, 5, 5294, 724, 588, 78], [146, 622, 16, 69, 912, 5035, 81, 619], [127, 19, 601, 81, 1088, 145, 4813, 626], [6, 63, 99, 594, 74, 598, 817, 5249]]\n",
      "\n"
     ]
    },
    {
     "data": {
      "application/vnd.jupyter.widget-view+json": {
       "model_id": "60a74c2deb104a42a5ef82a18ccbc40b",
       "version_major": 2,
       "version_minor": 0
      },
      "text/plain": [
       "  0%|          | 0/1 [00:00<?, ?it/s]"
      ]
     },
     "metadata": {},
     "output_type": "display_data"
    },
    {
     "data": {
      "application/vnd.jupyter.widget-view+json": {
       "model_id": "ca173d4be325443cb65a9b3968c0dc18",
       "version_major": 2,
       "version_minor": 0
      },
      "text/plain": [
       "  0%|          | 0/27 [00:00<?, ?it/s]"
      ]
     },
     "metadata": {},
     "output_type": "display_data"
    },
    {
     "name": "stdout",
     "output_type": "stream",
     "text": [
      "Saving S:\\QRAM\\qram_4QR2\\data\\data_241025\\00628_QramProtocol3QTomo.h5\n",
      "init_state |0>|0+1> play pulses [2, 1, 4, 3]\n",
      "timesteps [inf]\n"
     ]
    },
    {
     "data": {
      "application/vnd.jupyter.widget-view+json": {
       "model_id": "7b9b2a4a501346078e316b49f62a1d13",
       "version_major": 2,
       "version_minor": 0
      },
      "text/plain": [
       "  0%|          | 0/8 [00:00<?, ?it/s]"
      ]
     },
     "metadata": {},
     "output_type": "display_data"
    },
    {
     "name": "stdout",
     "output_type": "stream",
     "text": [
      "Qubit  (0)\n",
      "ge fidelity (%): 80.42530826332401 \t angle (deg): 0.0 \t threshold ge: 979.7757311612714\n",
      "Qubit  (2)\n",
      "ge fidelity (%): 79.70666666666666 \t angle (deg): 0.0 \t threshold ge: 887.408163930663\n",
      "Qubit  (3)\n",
      "ge fidelity (%): 78.6666666666667 \t angle (deg): 0.0 \t threshold ge: 752.0682125813651\n",
      "thresholds=[979.7757311612714, 0, 887.408163930663, 752.0682125813651],\n",
      "angles=[0.0, 0, 0.0, 0.0],\n",
      "ge_avgs=[[-1.637165391917547, -1.9412290751288315, 0.25784833197721724, 5.469601084892868], [0, 0, 0, 0], [-0.40171868727963084, -0.8169907241659893, -3.6445486303227552, 0.2839209113100078], [5.122661893138052, -1.1071285055600764, -0.16841442907512416, 5.219628858150255]] ,\n",
      "counts_calib=[[5453, 607, 582, 70, 630, 74, 67, 17], [671, 5438, 76, 614, 80, 538, 11, 72], [639, 77, 5333, 662, 66, 10, 614, 99], [149, 666, 1107, 4788, 15, 86, 125, 564], [541, 60, 73, 9, 5438, 656, 644, 79], [85, 635, 7, 67, 850, 5108, 95, 653], [76, 16, 579, 81, 598, 85, 5244, 821], [6, 81, 81, 620, 66, 650, 646, 5350]]\n",
      "\n"
     ]
    },
    {
     "data": {
      "application/vnd.jupyter.widget-view+json": {
       "model_id": "e6e2b485031749c1b5c5856a1220d005",
       "version_major": 2,
       "version_minor": 0
      },
      "text/plain": [
       "  0%|          | 0/1 [00:00<?, ?it/s]"
      ]
     },
     "metadata": {},
     "output_type": "display_data"
    },
    {
     "data": {
      "application/vnd.jupyter.widget-view+json": {
       "model_id": "564818359677419ebcb76412558a3fa9",
       "version_major": 2,
       "version_minor": 0
      },
      "text/plain": [
       "  0%|          | 0/27 [00:00<?, ?it/s]"
      ]
     },
     "metadata": {},
     "output_type": "display_data"
    },
    {
     "name": "stdout",
     "output_type": "stream",
     "text": [
      "Saving S:\\QRAM\\qram_4QR2\\data\\data_241025\\00629_QramProtocol3QTomo.h5\n",
      "init_state |0+1>|0+1> play pulses [2, 1, 4, 3]\n",
      "timesteps [inf]\n"
     ]
    },
    {
     "data": {
      "application/vnd.jupyter.widget-view+json": {
       "model_id": "9108cec8604f42aab3398464488fde7f",
       "version_major": 2,
       "version_minor": 0
      },
      "text/plain": [
       "  0%|          | 0/8 [00:00<?, ?it/s]"
      ]
     },
     "metadata": {},
     "output_type": "display_data"
    },
    {
     "name": "stdout",
     "output_type": "stream",
     "text": [
      "Qubit  (0)\n",
      "ge fidelity (%): 78.11999999999998 \t angle (deg): 0.0 \t threshold ge: 973.1900318062964\n",
      "Qubit  (2)\n",
      "ge fidelity (%): 80.35999999999997 \t angle (deg): 0.0 \t threshold ge: 880.3184123798919\n",
      "Qubit  (3)\n",
      "ge fidelity (%): 75.78521047250746 \t angle (deg): 0.0 \t threshold ge: 792.095207762607\n",
      "thresholds=[973.1900318062964, 0, 880.3184123798919, 792.095207762607],\n",
      "angles=[0.0, 0, 0.0, 0.0],\n",
      "ge_avgs=[[1.5201153241117435, 1.8859192839707053, 7.012759533496067, -0.5269720640086787], [0, 0, 0, 0], [-2.594944724708436, -0.3432044480607544, 0.07809785733658743, -2.7489913751017068], [-6.726808570653651, 1.971693951722267, -4.820460428532693, -2.389684947111479]] ,\n",
      "counts_calib=[[5305, 655, 561, 76, 702, 89, 95, 17], [777, 5210, 93, 637, 106, 606, 8, 63], [603, 70, 5343, 714, 58, 3, 620, 89], [100, 620, 913, 5096, 10, 80, 92, 589], [579, 78, 75, 9, 5335, 693, 643, 88], [102, 579, 11, 55, 939, 5090, 124, 600], [137, 13, 549, 90, 955, 132, 4943, 681], [15, 87, 95, 596, 102, 654, 831, 5120]]\n",
      "\n"
     ]
    },
    {
     "data": {
      "application/vnd.jupyter.widget-view+json": {
       "model_id": "2bb52e75fd31447b94e61bb68c43f330",
       "version_major": 2,
       "version_minor": 0
      },
      "text/plain": [
       "  0%|          | 0/1 [00:00<?, ?it/s]"
      ]
     },
     "metadata": {},
     "output_type": "display_data"
    },
    {
     "data": {
      "application/vnd.jupyter.widget-view+json": {
       "model_id": "8b0492fd3c464b359aca1e3c6d78e76a",
       "version_major": 2,
       "version_minor": 0
      },
      "text/plain": [
       "  0%|          | 0/27 [00:00<?, ?it/s]"
      ]
     },
     "metadata": {},
     "output_type": "display_data"
    },
    {
     "name": "stdout",
     "output_type": "stream",
     "text": [
      "Saving S:\\QRAM\\qram_4QR2\\data\\data_241025\\00630_QramProtocol3QTomo.h5\n",
      "delays 4.650297619047619 2.3251488095238093\n",
      "init_state |0+1>|1> play pulses [2, 1, 4, 3]\n",
      "timesteps [inf]\n"
     ]
    },
    {
     "data": {
      "application/vnd.jupyter.widget-view+json": {
       "model_id": "3e310e9d1a9b41d88975043a768bf339",
       "version_major": 2,
       "version_minor": 0
      },
      "text/plain": [
       "  0%|          | 0/8 [00:00<?, ?it/s]"
      ]
     },
     "metadata": {},
     "output_type": "display_data"
    },
    {
     "name": "stdout",
     "output_type": "stream",
     "text": [
      "Qubit  (0)\n",
      "ge fidelity (%): 77.27999999999999 \t angle (deg): 0.0 \t threshold ge: 952.9472189955228\n",
      "Qubit  (2)\n",
      "ge fidelity (%): 75.46501489087431 \t angle (deg): 0.0 \t threshold ge: 852.2328802233582\n",
      "Qubit  (3)\n",
      "ge fidelity (%): 74.02666666666667 \t angle (deg): 0.0 \t threshold ge: 762.6210865489645\n",
      "thresholds=[952.9472189955228, 0, 852.2328802233582, 762.6210865489645],\n",
      "angles=[0.0, 0, 0.0, 0.0],\n",
      "ge_avgs=[[4.35738182804448, 2.5774343368592363, 2.2998580960130184, -0.4323870897748852], [0, 0, 0, 0], [-2.974581177108761, -3.532300732302684, -1.2558074315161372, 1.0689666395443442], [-6.039152047735285, 4.2645727149444, -0.1699173311635442, -0.2936113913751052]] ,\n",
      "counts_calib=[[5040, 738, 750, 117, 626, 110, 101, 18], [793, 5053, 85, 655, 85, 706, 15, 108], [686, 86, 5191, 688, 82, 12, 648, 107], [74, 537, 851, 5122, 11, 77, 98, 730], [707, 74, 76, 8, 5086, 719, 720, 110], [128, 569, 9, 86, 959, 4907, 115, 727], [102, 20, 540, 87, 881, 138, 4978, 754], [45, 344, 39, 356, 420, 2847, 444, 3005]]\n",
      "\n"
     ]
    },
    {
     "data": {
      "application/vnd.jupyter.widget-view+json": {
       "model_id": "064f8570d2b34ba695654b1f6503fb53",
       "version_major": 2,
       "version_minor": 0
      },
      "text/plain": [
       "  0%|          | 0/1 [00:00<?, ?it/s]"
      ]
     },
     "metadata": {},
     "output_type": "display_data"
    },
    {
     "data": {
      "application/vnd.jupyter.widget-view+json": {
       "model_id": "7c722418ddb842978a90a56a2db51a77",
       "version_major": 2,
       "version_minor": 0
      },
      "text/plain": [
       "  0%|          | 0/27 [00:00<?, ?it/s]"
      ]
     },
     "metadata": {},
     "output_type": "display_data"
    },
    {
     "name": "stdout",
     "output_type": "stream",
     "text": [
      "Saving S:\\QRAM\\qram_4QR2\\data\\data_241025\\00631_QramProtocol3QTomo.h5\n",
      "init_state |1>|0+1> play pulses [2, 1, 4, 3]\n",
      "timesteps [inf]\n"
     ]
    },
    {
     "data": {
      "application/vnd.jupyter.widget-view+json": {
       "model_id": "57cd67d706614900b0498c5f51f8496b",
       "version_major": 2,
       "version_minor": 0
      },
      "text/plain": [
       "  0%|          | 0/8 [00:00<?, ?it/s]"
      ]
     },
     "metadata": {},
     "output_type": "display_data"
    },
    {
     "name": "stdout",
     "output_type": "stream",
     "text": [
      "Qubit  (0)\n",
      "ge fidelity (%): 79.82666666666668 \t angle (deg): 0.0 \t threshold ge: 993.287939790579\n",
      "Qubit  (2)\n",
      "ge fidelity (%): 78.98666666666668 \t angle (deg): 0.0 \t threshold ge: 856.2370706197767\n",
      "Qubit  (3)\n",
      "ge fidelity (%): 75.45172245188249 \t angle (deg): 0.0 \t threshold ge: 772.041991889831\n",
      "thresholds=[993.287939790579, 0, 856.2370706197767, 772.041991889831],\n",
      "angles=[0.0, 0, 0.0, 0.0],\n",
      "ge_avgs=[[3.938283807973963, -4.017695362082994, 3.9887889340927574, 0.6423029020884196], [0, 0, 0, 0], [-6.756397613235691, -3.2517422294548437, -7.683982967181993, -2.7470002712232175], [2.7778720911309995, 6.1918047192839705, -2.560478437754268, -7.989233523189583]] ,\n",
      "counts_calib=[[5221, 736, 672, 100, 587, 84, 87, 13], [752, 5181, 95, 727, 71, 579, 6, 89], [568, 87, 5318, 762, 58, 4, 617, 86], [83, 557, 900, 5142, 12, 74, 95, 637], [593, 75, 69, 8, 5175, 754, 693, 133], [118, 613, 16, 95, 819, 4975, 106, 758], [123, 11, 539, 80, 947, 106, 5024, 670], [7, 70, 73, 620, 77, 508, 744, 5401]]\n",
      "\n"
     ]
    },
    {
     "data": {
      "application/vnd.jupyter.widget-view+json": {
       "model_id": "c5d9a0ad896841a48a0470a0d560ab8f",
       "version_major": 2,
       "version_minor": 0
      },
      "text/plain": [
       "  0%|          | 0/1 [00:00<?, ?it/s]"
      ]
     },
     "metadata": {},
     "output_type": "display_data"
    },
    {
     "data": {
      "application/vnd.jupyter.widget-view+json": {
       "model_id": "7741cfff5bf340709edbc0076108df00",
       "version_major": 2,
       "version_minor": 0
      },
      "text/plain": [
       "  0%|          | 0/27 [00:00<?, ?it/s]"
      ]
     },
     "metadata": {},
     "output_type": "display_data"
    },
    {
     "name": "stdout",
     "output_type": "stream",
     "text": [
      "Saving S:\\QRAM\\qram_4QR2\\data\\data_241025\\00632_QramProtocol3QTomo.h5\n",
      "init_state |0>|0+1> play pulses [2, 1, 4, 3]\n",
      "timesteps [inf]\n"
     ]
    },
    {
     "data": {
      "application/vnd.jupyter.widget-view+json": {
       "model_id": "edbbc31b9c574b7f97b6b4814a2f762b",
       "version_major": 2,
       "version_minor": 0
      },
      "text/plain": [
       "  0%|          | 0/8 [00:00<?, ?it/s]"
      ]
     },
     "metadata": {},
     "output_type": "display_data"
    },
    {
     "name": "stdout",
     "output_type": "stream",
     "text": [
      "Qubit  (0)\n",
      "ge fidelity (%): 78.53333333333333 \t angle (deg): 0.0 \t threshold ge: 968.3510307908308\n",
      "Qubit  (2)\n",
      "ge fidelity (%): 81.37220073787614 \t angle (deg): 0.0 \t threshold ge: 879.9721345749152\n",
      "Qubit  (3)\n",
      "ge fidelity (%): 76.53333333333327 \t angle (deg): 0.0 \t threshold ge: 774.6567336205285\n",
      "thresholds=[968.3510307908308, 0, 879.9721345749152, 774.6567336205285],\n",
      "angles=[0.0, 0, 0.0, 0.0],\n",
      "ge_avgs=[[0.018610577705451093, -1.3106574450773003, 8.059985787903445, 2.5135841605641454], [0, 0, 0, 0], [1.2282591809058854, 0.2917112015188497, -0.38129199891510723, 2.72204122592894], [-4.80576284241931, 2.7999638730675342, 0.6750000542446439, 6.541242093843233]] ,\n",
      "counts_calib=[[5378, 690, 526, 69, 673, 84, 75, 5], [721, 5114, 81, 654, 98, 724, 14, 94], [543, 82, 5272, 684, 88, 10, 718, 103], [103, 592, 824, 5143, 16, 81, 92, 649], [649, 71, 47, 15, 5237, 738, 647, 96], [95, 574, 6, 56, 860, 5165, 117, 627], [88, 13, 639, 73, 652, 83, 5285, 667], [12, 87, 88, 597, 97, 637, 777, 5205]]\n",
      "\n"
     ]
    },
    {
     "data": {
      "application/vnd.jupyter.widget-view+json": {
       "model_id": "40f8d5c1b23e4102af497d087cf08960",
       "version_major": 2,
       "version_minor": 0
      },
      "text/plain": [
       "  0%|          | 0/1 [00:00<?, ?it/s]"
      ]
     },
     "metadata": {},
     "output_type": "display_data"
    },
    {
     "data": {
      "application/vnd.jupyter.widget-view+json": {
       "model_id": "8184e1e118cb47588ee63d0586f27e40",
       "version_major": 2,
       "version_minor": 0
      },
      "text/plain": [
       "  0%|          | 0/27 [00:00<?, ?it/s]"
      ]
     },
     "metadata": {},
     "output_type": "display_data"
    },
    {
     "name": "stdout",
     "output_type": "stream",
     "text": [
      "Saving S:\\QRAM\\qram_4QR2\\data\\data_241025\\00633_QramProtocol3QTomo.h5\n",
      "init_state |0+1>|0+1> play pulses [2, 1, 4, 3]\n",
      "timesteps [inf]\n"
     ]
    },
    {
     "data": {
      "application/vnd.jupyter.widget-view+json": {
       "model_id": "546a67c9717c4db7afd8cf853af0e038",
       "version_major": 2,
       "version_minor": 0
      },
      "text/plain": [
       "  0%|          | 0/8 [00:00<?, ?it/s]"
      ]
     },
     "metadata": {},
     "output_type": "display_data"
    },
    {
     "name": "stdout",
     "output_type": "stream",
     "text": [
      "Qubit  (0)\n",
      "ge fidelity (%): 79.7053864959773 \t angle (deg): 0.0 \t threshold ge: 990.6231531897901\n",
      "Qubit  (2)\n",
      "ge fidelity (%): 79.61333333333334 \t angle (deg): 0.0 \t threshold ge: 895.7903757679351\n",
      "Qubit  (3)\n",
      "ge fidelity (%): 77.45185580299598 \t angle (deg): 0.0 \t threshold ge: 779.5879759094596\n",
      "thresholds=[990.6231531897901, 0, 895.7903757679351, 779.5879759094596],\n",
      "angles=[0.0, 0, 0.0, 0.0],\n",
      "ge_avgs=[[-0.8298348793056688, 3.2784835367507474, -0.36299473826959683, -3.8696559804719293], [0, 0, 0, 0], [-1.7994571196094378, 2.7286816381882293, -6.008019745050175, -2.7117378898833753], [2.866043612693247, -0.5327334960672631, -1.8913236777868183, -1.8267856794141544]] ,\n",
      "counts_calib=[[5417, 696, 564, 76, 600, 70, 67, 10], [692, 5446, 77, 568, 66, 593, 6, 52], [693, 54, 5505, 582, 63, 6, 521, 76], [105, 699, 895, 5059, 11, 82, 84, 565], [627, 72, 64, 12, 5366, 706, 570, 83], [118, 603, 11, 69, 795, 5284, 64, 556], [74, 13, 537, 81, 626, 87, 5331, 751], [29, 87, 113, 591, 149, 880, 709, 4942]]\n",
      "\n"
     ]
    },
    {
     "data": {
      "application/vnd.jupyter.widget-view+json": {
       "model_id": "e633fe373bd547df8e5a14518778048f",
       "version_major": 2,
       "version_minor": 0
      },
      "text/plain": [
       "  0%|          | 0/1 [00:00<?, ?it/s]"
      ]
     },
     "metadata": {},
     "output_type": "display_data"
    },
    {
     "data": {
      "application/vnd.jupyter.widget-view+json": {
       "model_id": "e2a09880e4c34f21bdd9dbb854409f2d",
       "version_major": 2,
       "version_minor": 0
      },
      "text/plain": [
       "  0%|          | 0/27 [00:00<?, ?it/s]"
      ]
     },
     "metadata": {},
     "output_type": "display_data"
    },
    {
     "name": "stdout",
     "output_type": "stream",
     "text": [
      "Saving S:\\QRAM\\qram_4QR2\\data\\data_241025\\00634_QramProtocol3QTomo.h5\n",
      "delays 4.650297619047619 4.650297619047619\n",
      "init_state |0+1>|1> play pulses [2, 1, 4, 3]\n",
      "timesteps [inf]\n"
     ]
    },
    {
     "data": {
      "application/vnd.jupyter.widget-view+json": {
       "model_id": "4db20fb0bc1441da85444486d981cd33",
       "version_major": 2,
       "version_minor": 0
      },
      "text/plain": [
       "  0%|          | 0/8 [00:00<?, ?it/s]"
      ]
     },
     "metadata": {},
     "output_type": "display_data"
    },
    {
     "name": "stdout",
     "output_type": "stream",
     "text": [
      "Qubit  (0)\n",
      "ge fidelity (%): 80.79874649953325 \t angle (deg): 0.0 \t threshold ge: 964.8226711474226\n",
      "Qubit  (2)\n",
      "ge fidelity (%): 79.47877494777083 \t angle (deg): 0.0 \t threshold ge: 892.6520505074827\n",
      "Qubit  (3)\n",
      "ge fidelity (%): 72.98666666666662 \t angle (deg): 0.0 \t threshold ge: 767.8558435438786\n",
      "thresholds=[964.8226711474226, 0, 892.6520505074827, 767.8558435438786],\n",
      "angles=[0.0, 0, 0.0, 0.0],\n",
      "ge_avgs=[[-4.654037862761053, -5.549262055871983, 1.4481512340656355, 6.352577813940874], [0, 0, 0, 0], [5.296350745863846, 1.689069921345268, 0.6591048548955776, 6.339162896663954], [3.5006627610523466, -10.086826471385951, -3.2249451586655855, -1.5458853268239705]] ,\n",
      "counts_calib=[[5301, 815, 573, 76, 568, 92, 62, 13], [815, 5265, 82, 551, 119, 599, 16, 53], [665, 86, 5214, 776, 62, 7, 599, 91], [157, 780, 845, 4927, 17, 92, 98, 584], [564, 88, 48, 8, 5453, 738, 523, 78], [97, 537, 9, 43, 791, 5246, 90, 687], [71, 7, 548, 85, 713, 95, 5165, 816], [12, 95, 73, 509, 136, 751, 775, 5149]]\n",
      "\n"
     ]
    },
    {
     "data": {
      "application/vnd.jupyter.widget-view+json": {
       "model_id": "8acca51fb86d42f48d1d8208b1648331",
       "version_major": 2,
       "version_minor": 0
      },
      "text/plain": [
       "  0%|          | 0/1 [00:00<?, ?it/s]"
      ]
     },
     "metadata": {},
     "output_type": "display_data"
    },
    {
     "data": {
      "application/vnd.jupyter.widget-view+json": {
       "model_id": "9bb1b0ffde4c47bc8f5e0f1780f5c9f5",
       "version_major": 2,
       "version_minor": 0
      },
      "text/plain": [
       "  0%|          | 0/27 [00:00<?, ?it/s]"
      ]
     },
     "metadata": {},
     "output_type": "display_data"
    },
    {
     "name": "stdout",
     "output_type": "stream",
     "text": [
      "Saving S:\\QRAM\\qram_4QR2\\data\\data_241025\\00635_QramProtocol3QTomo.h5\n",
      "init_state |1>|0+1> play pulses [2, 1, 4, 3]\n",
      "timesteps [inf]\n"
     ]
    },
    {
     "data": {
      "application/vnd.jupyter.widget-view+json": {
       "model_id": "72e7b0c8c36d4d92be2d053fd2ff4bd8",
       "version_major": 2,
       "version_minor": 0
      },
      "text/plain": [
       "  0%|          | 0/8 [00:00<?, ?it/s]"
      ]
     },
     "metadata": {},
     "output_type": "display_data"
    },
    {
     "name": "stdout",
     "output_type": "stream",
     "text": [
      "Qubit  (0)\n",
      "ge fidelity (%): 79.94666666666666 \t angle (deg): 0.0 \t threshold ge: 988.0567864988617\n",
      "Qubit  (2)\n",
      "ge fidelity (%): 79.81333333333333 \t angle (deg): 0.0 \t threshold ge: 862.3462443660362\n",
      "Qubit  (3)\n",
      "ge fidelity (%): 76.18666666666668 \t angle (deg): 0.0 \t threshold ge: 762.7150836480896\n",
      "thresholds=[988.0567864988617, 0, 862.3462443660362, 762.7150836480896],\n",
      "angles=[0.0, 0, 0.0, 0.0],\n",
      "ge_avgs=[[-2.9612559804719285, 4.661959425006781, -0.9267193924599934, 1.0371570382424753], [0, 0, 0, 0], [1.9895885001356115, -0.7118704637917002, -1.3697912666124223, 1.812860103064822], [5.9674583129915915, -7.565012096555466, 3.6654170870626492, -0.09294450772986201]] ,\n",
      "counts_calib=[[5317, 738, 645, 85, 550, 80, 72, 13], [708, 5124, 89, 769, 74, 627, 11, 98], [558, 78, 5314, 744, 67, 9, 635, 95], [91, 542, 801, 5315, 9, 63, 93, 586], [619, 88, 75, 13, 5183, 652, 752, 118], [146, 553, 7, 80, 1023, 4801, 144, 746], [72, 13, 619, 98, 531, 79, 5299, 789], [11, 88, 95, 635, 92, 619, 733, 5227]]\n",
      "\n"
     ]
    },
    {
     "data": {
      "application/vnd.jupyter.widget-view+json": {
       "model_id": "b30793055d944addaed0f93cd1af755b",
       "version_major": 2,
       "version_minor": 0
      },
      "text/plain": [
       "  0%|          | 0/1 [00:00<?, ?it/s]"
      ]
     },
     "metadata": {},
     "output_type": "display_data"
    },
    {
     "data": {
      "application/vnd.jupyter.widget-view+json": {
       "model_id": "c6d7c7b4acbc4dbe85584a956df116f0",
       "version_major": 2,
       "version_minor": 0
      },
      "text/plain": [
       "  0%|          | 0/27 [00:00<?, ?it/s]"
      ]
     },
     "metadata": {},
     "output_type": "display_data"
    },
    {
     "name": "stdout",
     "output_type": "stream",
     "text": [
      "Saving S:\\QRAM\\qram_4QR2\\data\\data_241025\\00636_QramProtocol3QTomo.h5\n",
      "init_state |0>|0+1> play pulses [2, 1, 4, 3]\n",
      "timesteps [inf]\n"
     ]
    },
    {
     "data": {
      "application/vnd.jupyter.widget-view+json": {
       "model_id": "c86fd7afdc4d431f9792211d117a4eb9",
       "version_major": 2,
       "version_minor": 0
      },
      "text/plain": [
       "  0%|          | 0/8 [00:00<?, ?it/s]"
      ]
     },
     "metadata": {},
     "output_type": "display_data"
    },
    {
     "name": "stdout",
     "output_type": "stream",
     "text": [
      "Qubit  (0)\n",
      "ge fidelity (%): 78.41333333333331 \t angle (deg): 0.0 \t threshold ge: 996.144139983675\n",
      "Qubit  (2)\n",
      "ge fidelity (%): 78.01193581366405 \t angle (deg): 0.0 \t threshold ge: 865.937284262748\n",
      "Qubit  (3)\n",
      "ge fidelity (%): 75.84 \t angle (deg): 0.0 \t threshold ge: 819.5435228673533\n",
      "thresholds=[996.144139983675, 0, 865.937284262748, 819.5435228673533],\n",
      "angles=[0.0, 0, 0.0, 0.0],\n",
      "ge_avgs=[[2.821733007865473, -0.931180580417683, 1.2393491727691908, 1.3306391103878485], [0, 0, 0, 0], [-3.9411556278817463, 1.1424104149715206, -1.6889138052617292, -0.2185881204231094], [5.883795280716029, -0.4990859777596959, 0.3967231895850331, 2.6245838893409235]] ,\n",
      "counts_calib=[[5291, 686, 648, 79, 628, 70, 90, 8], [766, 5092, 110, 732, 85, 605, 12, 98], [665, 86, 5295, 750, 68, 7, 563, 66], [134, 589, 975, 5008, 22, 64, 89, 619], [648, 85, 85, 10, 5243, 675, 652, 102], [139, 497, 25, 61, 1190, 4729, 174, 685], [90, 12, 614, 64, 622, 86, 5298, 714], [18, 75, 109, 614, 105, 634, 833, 5112]]\n",
      "\n"
     ]
    },
    {
     "data": {
      "application/vnd.jupyter.widget-view+json": {
       "model_id": "569d9cd514164c859a995760bb039c87",
       "version_major": 2,
       "version_minor": 0
      },
      "text/plain": [
       "  0%|          | 0/1 [00:00<?, ?it/s]"
      ]
     },
     "metadata": {},
     "output_type": "display_data"
    },
    {
     "data": {
      "application/vnd.jupyter.widget-view+json": {
       "model_id": "409268ca37ee45c39427fb0bce4ab172",
       "version_major": 2,
       "version_minor": 0
      },
      "text/plain": [
       "  0%|          | 0/27 [00:00<?, ?it/s]"
      ]
     },
     "metadata": {},
     "output_type": "display_data"
    },
    {
     "name": "stdout",
     "output_type": "stream",
     "text": [
      "Saving S:\\QRAM\\qram_4QR2\\data\\data_241025\\00637_QramProtocol3QTomo.h5\n",
      "init_state |0+1>|0+1> play pulses [2, 1, 4, 3]\n",
      "timesteps [inf]\n"
     ]
    },
    {
     "data": {
      "application/vnd.jupyter.widget-view+json": {
       "model_id": "05ca20344a0f4f54bd4cece586bda626",
       "version_major": 2,
       "version_minor": 0
      },
      "text/plain": [
       "  0%|          | 0/8 [00:00<?, ?it/s]"
      ]
     },
     "metadata": {},
     "output_type": "display_data"
    },
    {
     "name": "stdout",
     "output_type": "stream",
     "text": [
      "Qubit  (0)\n",
      "ge fidelity (%): 79.05206027470332 \t angle (deg): 0.0 \t threshold ge: 1017.4546703939254\n",
      "Qubit  (2)\n",
      "ge fidelity (%): 79.91897230741878 \t angle (deg): 0.0 \t threshold ge: 914.0276888051046\n",
      "Qubit  (3)\n",
      "ge fidelity (%): 75.39999999999998 \t angle (deg): 0.0 \t threshold ge: 781.4569688987614\n",
      "thresholds=[1017.4546703939254, 0, 914.0276888051046, 781.4569688987614],\n",
      "angles=[0.0, 0, 0.0, 0.0],\n",
      "ge_avgs=[[0.9064343911038785, -6.853723460808245, -1.1219520477352856, -5.860703661513427], [0, 0, 0, 0], [1.635325739083267, 2.7551601844317872, 2.3532482777325745, 2.1699312177922416], [-4.175837808516409, 2.9196896121508003, 5.735860591266619, -0.035384540276645324]] ,\n",
      "counts_calib=[[5432, 754, 493, 72, 598, 93, 53, 5], [755, 5332, 78, 572, 85, 608, 7, 63], [699, 104, 5216, 748, 78, 6, 581, 68], [158, 777, 886, 5023, 15, 68, 76, 497], [672, 100, 49, 9, 5269, 744, 572, 85], [192, 621, 13, 70, 1206, 4776, 97, 525], [193, 22, 596, 81, 1065, 160, 4700, 683], [45, 163, 110, 726, 154, 786, 724, 4792]]\n",
      "\n"
     ]
    },
    {
     "data": {
      "application/vnd.jupyter.widget-view+json": {
       "model_id": "40bcf6eee1f64fdc806e4fa0955476f9",
       "version_major": 2,
       "version_minor": 0
      },
      "text/plain": [
       "  0%|          | 0/1 [00:00<?, ?it/s]"
      ]
     },
     "metadata": {},
     "output_type": "display_data"
    },
    {
     "data": {
      "application/vnd.jupyter.widget-view+json": {
       "model_id": "0a6f38ec33c44efc86bb29ff331d8fe6",
       "version_major": 2,
       "version_minor": 0
      },
      "text/plain": [
       "  0%|          | 0/27 [00:00<?, ?it/s]"
      ]
     },
     "metadata": {},
     "output_type": "display_data"
    },
    {
     "name": "stdout",
     "output_type": "stream",
     "text": [
      "Saving S:\\QRAM\\qram_4QR2\\data\\data_241025\\00638_QramProtocol3QTomo.h5\n",
      "delays 4.650297619047619 6.975446428571429\n",
      "init_state |0+1>|1> play pulses [2, 1, 4, 3]\n",
      "timesteps [inf]\n"
     ]
    },
    {
     "data": {
      "application/vnd.jupyter.widget-view+json": {
       "model_id": "0ff856a3c71f4302a33cc27bd3dbcdc6",
       "version_major": 2,
       "version_minor": 0
      },
      "text/plain": [
       "  0%|          | 0/8 [00:00<?, ?it/s]"
      ]
     },
     "metadata": {},
     "output_type": "display_data"
    },
    {
     "name": "stdout",
     "output_type": "stream",
     "text": [
      "Qubit  (0)\n",
      "ge fidelity (%): 81.10666666666661 \t angle (deg): 0.0 \t threshold ge: 987.3349253763582\n",
      "Qubit  (2)\n",
      "ge fidelity (%): 76.71999999999997 \t angle (deg): 0.0 \t threshold ge: 889.0065596920894\n",
      "Qubit  (3)\n",
      "ge fidelity (%): 75.52 \t angle (deg): 0.0 \t threshold ge: 790.0776414713808\n",
      "thresholds=[987.3349253763582, 0, 889.0065596920894, 790.0776414713808],\n",
      "angles=[0.0, 0, 0.0, 0.0],\n",
      "ge_avgs=[[-10.367354705722809, -6.387429888798481, -4.244363330621101, 1.4231702739354486], [0, 0, 0, 0], [-0.8846470301057776, 6.063813723894765, 4.678769297531869, -6.160697586113372], [-2.7553038242473553, 0.12195617032818033, 7.985158340113905, -1.6073534038513688]] ,\n",
      "counts_calib=[[5445, 704, 580, 91, 535, 80, 59, 6], [800, 5308, 73, 591, 81, 567, 8, 72], [814, 121, 5138, 702, 68, 12, 554, 91], [134, 746, 933, 4955, 11, 64, 97, 560], [588, 88, 58, 5, 5356, 714, 609, 82], [126, 600, 8, 60, 915, 5133, 91, 567], [104, 16, 618, 96, 697, 85, 5176, 708], [10, 80, 92, 613, 80, 661, 758, 5206]]\n",
      "\n"
     ]
    },
    {
     "data": {
      "application/vnd.jupyter.widget-view+json": {
       "model_id": "447a5518c75c4dce857da0bde350bfc6",
       "version_major": 2,
       "version_minor": 0
      },
      "text/plain": [
       "  0%|          | 0/1 [00:00<?, ?it/s]"
      ]
     },
     "metadata": {},
     "output_type": "display_data"
    },
    {
     "data": {
      "application/vnd.jupyter.widget-view+json": {
       "model_id": "0966acb2cd8d4bccb017016de1300a4c",
       "version_major": 2,
       "version_minor": 0
      },
      "text/plain": [
       "  0%|          | 0/27 [00:00<?, ?it/s]"
      ]
     },
     "metadata": {},
     "output_type": "display_data"
    },
    {
     "name": "stdout",
     "output_type": "stream",
     "text": [
      "Saving S:\\QRAM\\qram_4QR2\\data\\data_241025\\00639_QramProtocol3QTomo.h5\n",
      "init_state |1>|0+1> play pulses [2, 1, 4, 3]\n",
      "timesteps [inf]\n"
     ]
    },
    {
     "data": {
      "application/vnd.jupyter.widget-view+json": {
       "model_id": "d1869ec1515743b8b3d718725abdeda5",
       "version_major": 2,
       "version_minor": 0
      },
      "text/plain": [
       "  0%|          | 0/8 [00:00<?, ?it/s]"
      ]
     },
     "metadata": {},
     "output_type": "display_data"
    },
    {
     "name": "stdout",
     "output_type": "stream",
     "text": [
      "Qubit  (0)\n",
      "ge fidelity (%): 80.03999999999998 \t angle (deg): 0.0 \t threshold ge: 971.376461164181\n",
      "Qubit  (2)\n",
      "ge fidelity (%): 80.59880161799352 \t angle (deg): 0.0 \t threshold ge: 901.6114735789827\n",
      "Qubit  (3)\n",
      "ge fidelity (%): 76.38666666666664 \t angle (deg): 0.0 \t threshold ge: 792.5105619238475\n",
      "thresholds=[971.376461164181, 0, 901.6114735789827, 792.5105619238475],\n",
      "angles=[0.0, 0, 0.0, 0.0],\n",
      "ge_avgs=[[-0.2733837808516422, 4.627691022511527, -0.8310333604556547, -4.467228098725252], [0, 0, 0, 0], [-0.718187469487387, -0.5829054515866555, -1.54181122864117, 9.262296826688363], [4.414359208028209, 4.815691564957961, -6.852251478166533, -4.476501979929484]] ,\n",
      "counts_calib=[[5426, 675, 597, 60, 600, 78, 53, 11], [754, 5233, 87, 577, 105, 667, 6, 71], [594, 72, 5272, 751, 62, 8, 658, 83], [125, 696, 880, 5012, 19, 85, 91, 592], [623, 78, 52, 7, 5377, 721, 561, 81], [136, 638, 5, 61, 894, 5125, 101, 540], [83, 10, 553, 98, 692, 83, 5232, 749], [3, 88, 73, 560, 95, 685, 735, 5261]]\n",
      "\n"
     ]
    },
    {
     "data": {
      "application/vnd.jupyter.widget-view+json": {
       "model_id": "7006a3893a574de68221d1f5e41e0b9f",
       "version_major": 2,
       "version_minor": 0
      },
      "text/plain": [
       "  0%|          | 0/1 [00:00<?, ?it/s]"
      ]
     },
     "metadata": {},
     "output_type": "display_data"
    },
    {
     "data": {
      "application/vnd.jupyter.widget-view+json": {
       "model_id": "296070ff5d634805a37a0c7160ed2185",
       "version_major": 2,
       "version_minor": 0
      },
      "text/plain": [
       "  0%|          | 0/27 [00:00<?, ?it/s]"
      ]
     },
     "metadata": {},
     "output_type": "display_data"
    },
    {
     "name": "stdout",
     "output_type": "stream",
     "text": [
      "Saving S:\\QRAM\\qram_4QR2\\data\\data_241025\\00640_QramProtocol3QTomo.h5\n",
      "init_state |0>|0+1> play pulses [2, 1, 4, 3]\n",
      "timesteps [inf]\n"
     ]
    },
    {
     "data": {
      "application/vnd.jupyter.widget-view+json": {
       "model_id": "b7d438d6660b4fd1b719fdd7f51e22aa",
       "version_major": 2,
       "version_minor": 0
      },
      "text/plain": [
       "  0%|          | 0/8 [00:00<?, ?it/s]"
      ]
     },
     "metadata": {},
     "output_type": "display_data"
    },
    {
     "name": "stdout",
     "output_type": "stream",
     "text": [
      "Qubit  (0)\n",
      "ge fidelity (%): 80.15883895630529 \t angle (deg): 0.0 \t threshold ge: 991.8197159779158\n",
      "Qubit  (2)\n",
      "ge fidelity (%): 77.02666666666667 \t angle (deg): 0.0 \t threshold ge: 879.2806082721885\n",
      "Qubit  (3)\n",
      "ge fidelity (%): 74.73168333555584 \t angle (deg): 0.0 \t threshold ge: 791.8465646700328\n",
      "thresholds=[991.8197159779158, 0, 879.2806082721885, 791.8465646700328],\n",
      "angles=[0.0, 0, 0.0, 0.0],\n",
      "ge_avgs=[[-3.362007702739354, -2.228580743151615, -0.11826851098454014, 5.774314727420666], [0, 0, 0, 0], [-5.129190127474912, 3.1625675074586383, -2.407055166802277, -2.5159875237320306], [0.06972074857607805, 7.493594033089232, -11.957074043938162, -0.5714343368592368]] ,\n",
      "counts_calib=[[5314, 761, 631, 107, 534, 73, 70, 10], [754, 5251, 96, 641, 85, 582, 16, 75], [746, 94, 5282, 742, 66, 8, 504, 58], [124, 615, 934, 5071, 14, 79, 91, 572], [631, 97, 63, 11, 5313, 730, 582, 73], [135, 688, 22, 62, 989, 4929, 108, 567], [89, 11, 615, 72, 691, 97, 5186, 739], [20, 107, 117, 638, 119, 693, 784, 5022]]\n",
      "\n"
     ]
    },
    {
     "data": {
      "application/vnd.jupyter.widget-view+json": {
       "model_id": "da0ad164886e4a77a00a26ef00368784",
       "version_major": 2,
       "version_minor": 0
      },
      "text/plain": [
       "  0%|          | 0/1 [00:00<?, ?it/s]"
      ]
     },
     "metadata": {},
     "output_type": "display_data"
    },
    {
     "data": {
      "application/vnd.jupyter.widget-view+json": {
       "model_id": "76b726346478489c945af0ba3184970a",
       "version_major": 2,
       "version_minor": 0
      },
      "text/plain": [
       "  0%|          | 0/27 [00:00<?, ?it/s]"
      ]
     },
     "metadata": {},
     "output_type": "display_data"
    },
    {
     "name": "stdout",
     "output_type": "stream",
     "text": [
      "Saving S:\\QRAM\\qram_4QR2\\data\\data_241025\\00641_QramProtocol3QTomo.h5\n",
      "init_state |0+1>|0+1> play pulses [2, 1, 4, 3]\n",
      "timesteps [inf]\n"
     ]
    },
    {
     "data": {
      "application/vnd.jupyter.widget-view+json": {
       "model_id": "4d5ad24b92704b8297c968d83d5c6e59",
       "version_major": 2,
       "version_minor": 0
      },
      "text/plain": [
       "  0%|          | 0/8 [00:00<?, ?it/s]"
      ]
     },
     "metadata": {},
     "output_type": "display_data"
    },
    {
     "name": "stdout",
     "output_type": "stream",
     "text": [
      "Qubit  (0)\n",
      "ge fidelity (%): 80.85333333333331 \t angle (deg): 0.0 \t threshold ge: 967.5942410559542\n",
      "Qubit  (2)\n",
      "ge fidelity (%): 79.02539716406632 \t angle (deg): 0.0 \t threshold ge: 880.6203922667709\n",
      "Qubit  (3)\n",
      "ge fidelity (%): 76.76000000000003 \t angle (deg): 0.0 \t threshold ge: 783.2123964211304\n",
      "thresholds=[967.5942410559542, 0, 880.6203922667709, 783.2123964211304],\n",
      "angles=[0.0, 0, 0.0, 0.0],\n",
      "ge_avgs=[[-3.226701600216978, -0.388832438296717, -7.060376891781937, 1.554533333333333], [0, 0, 0, 0], [-2.0703510713317064, 5.758463683211285, -0.995834662327095, 4.278205478708978], [-3.786134852183349, -1.7029474369406028, -2.482622945484126, 2.615825657716305]] ,\n",
      "counts_calib=[[5375, 694, 618, 85, 605, 62, 50, 11], [729, 5279, 85, 646, 72, 611, 7, 71], [662, 76, 5223, 758, 77, 13, 602, 89], [140, 701, 953, 4938, 11, 98, 96, 563], [597, 63, 62, 4, 5346, 737, 613, 78], [91, 573, 9, 70, 926, 5081, 90, 660], [106, 9, 587, 53, 795, 78, 5301, 571], [17, 75, 82, 543, 72, 637, 677, 5397]]\n",
      "\n"
     ]
    },
    {
     "data": {
      "application/vnd.jupyter.widget-view+json": {
       "model_id": "9284387bae004d8894391cce1ae9e0a8",
       "version_major": 2,
       "version_minor": 0
      },
      "text/plain": [
       "  0%|          | 0/1 [00:00<?, ?it/s]"
      ]
     },
     "metadata": {},
     "output_type": "display_data"
    },
    {
     "data": {
      "application/vnd.jupyter.widget-view+json": {
       "model_id": "9739529ba9d6486095e240a7754783fb",
       "version_major": 2,
       "version_minor": 0
      },
      "text/plain": [
       "  0%|          | 0/27 [00:00<?, ?it/s]"
      ]
     },
     "metadata": {},
     "output_type": "display_data"
    },
    {
     "name": "stdout",
     "output_type": "stream",
     "text": [
      "Saving S:\\QRAM\\qram_4QR2\\data\\data_241025\\00642_QramProtocol3QTomo.h5\n",
      "delays 6.975446428571429 0.0\n",
      "init_state |0+1>|1> play pulses [2, 1, 4, 3]\n",
      "timesteps [inf]\n"
     ]
    },
    {
     "data": {
      "application/vnd.jupyter.widget-view+json": {
       "model_id": "2e35f49faab9440195b597ba6b45b8bb",
       "version_major": 2,
       "version_minor": 0
      },
      "text/plain": [
       "  0%|          | 0/8 [00:00<?, ?it/s]"
      ]
     },
     "metadata": {},
     "output_type": "display_data"
    },
    {
     "name": "stdout",
     "output_type": "stream",
     "text": [
      "Qubit  (0)\n",
      "ge fidelity (%): 81.14552518113528 \t angle (deg): 0.0 \t threshold ge: 995.78612155719\n",
      "Qubit  (2)\n",
      "ge fidelity (%): 77.47852424767746 \t angle (deg): 0.0 \t threshold ge: 867.8042578381192\n",
      "Qubit  (3)\n",
      "ge fidelity (%): 71.34474285460284 \t angle (deg): 0.0 \t threshold ge: 730.2935822145505\n",
      "thresholds=[995.78612155719, 0, 867.8042578381192, 730.2935822145505],\n",
      "angles=[0.0, 0, 0.0, 0.0],\n",
      "ge_avgs=[[1.303776403580148, 0.822643558448602, -7.513986547328452, 3.313878600488202], [0, 0, 0, 0], [-0.3652308109574187, -2.2974385679414167, 4.183890859777596, 3.271855383780851], [9.352710170870628, -5.1529992948196375, -4.142838947653917, -5.737479902359642]] ,\n",
      "counts_calib=[[5152, 873, 676, 125, 509, 94, 60, 11], [869, 5315, 89, 567, 86, 509, 11, 54], [656, 90, 5198, 916, 69, 8, 495, 68], [77, 571, 848, 5298, 9, 72, 97, 528], [568, 107, 64, 8, 5179, 817, 666, 91], [111, 581, 15, 56, 902, 5126, 91, 618], [55, 12, 610, 92, 534, 88, 5214, 895], [15, 89, 88, 636, 67, 576, 773, 5256]]\n",
      "\n"
     ]
    },
    {
     "data": {
      "application/vnd.jupyter.widget-view+json": {
       "model_id": "aa03895c0a314ce2b8bfacabcf0cfca8",
       "version_major": 2,
       "version_minor": 0
      },
      "text/plain": [
       "  0%|          | 0/1 [00:00<?, ?it/s]"
      ]
     },
     "metadata": {},
     "output_type": "display_data"
    },
    {
     "data": {
      "application/vnd.jupyter.widget-view+json": {
       "model_id": "891a60b8bf854ece906dbf4956670a88",
       "version_major": 2,
       "version_minor": 0
      },
      "text/plain": [
       "  0%|          | 0/27 [00:00<?, ?it/s]"
      ]
     },
     "metadata": {},
     "output_type": "display_data"
    },
    {
     "name": "stdout",
     "output_type": "stream",
     "text": [
      "Saving S:\\QRAM\\qram_4QR2\\data\\data_241025\\00643_QramProtocol3QTomo.h5\n",
      "init_state |1>|0+1> play pulses [2, 1, 4, 3]\n",
      "timesteps [inf]\n"
     ]
    },
    {
     "data": {
      "application/vnd.jupyter.widget-view+json": {
       "model_id": "f0e38725060c42c3881e9d06e7ca73c8",
       "version_major": 2,
       "version_minor": 0
      },
      "text/plain": [
       "  0%|          | 0/8 [00:00<?, ?it/s]"
      ]
     },
     "metadata": {},
     "output_type": "display_data"
    },
    {
     "name": "stdout",
     "output_type": "stream",
     "text": [
      "Qubit  (0)\n",
      "ge fidelity (%): 81.24 \t angle (deg): 0.0 \t threshold ge: 980.0530184887525\n",
      "Qubit  (2)\n",
      "ge fidelity (%): 77.40000000000003 \t angle (deg): 0.0 \t threshold ge: 860.0659831663648\n",
      "Qubit  (3)\n",
      "ge fidelity (%): 74.50493488020624 \t angle (deg): 0.0 \t threshold ge: 781.325197034201\n",
      "thresholds=[980.0530184887525, 0, 860.0659831663648, 781.325197034201],\n",
      "angles=[0.0, 0, 0.0, 0.0],\n",
      "ge_avgs=[[2.372669595877407, -2.470407051803634, 2.7918441008950374, 4.660537130458366], [0, 0, 0, 0], [-8.86220385136968, 1.6520757255221048, 2.047516680227827, 0.7193675074586398], [0.7500377542717664, -1.7951447789530783, -7.704294439924054, 2.8943914293463524]] ,\n",
      "counts_calib=[[5252, 813, 620, 100, 555, 76, 68, 16], [747, 5193, 93, 761, 75, 539, 10, 82], [725, 97, 5214, 768, 67, 12, 546, 71], [92, 567, 935, 5159, 10, 69, 94, 574], [555, 75, 58, 10, 5308, 755, 651, 88], [94, 569, 14, 62, 767, 5203, 115, 676], [62, 12, 576, 66, 631, 80, 5350, 723], [9, 65, 96, 575, 77, 585, 654, 5439]]\n",
      "\n"
     ]
    },
    {
     "data": {
      "application/vnd.jupyter.widget-view+json": {
       "model_id": "5635aac649e946bb82907f8fc78c1e02",
       "version_major": 2,
       "version_minor": 0
      },
      "text/plain": [
       "  0%|          | 0/1 [00:00<?, ?it/s]"
      ]
     },
     "metadata": {},
     "output_type": "display_data"
    },
    {
     "data": {
      "application/vnd.jupyter.widget-view+json": {
       "model_id": "94814095278f4026863e5e1c6ba35f8b",
       "version_major": 2,
       "version_minor": 0
      },
      "text/plain": [
       "  0%|          | 0/27 [00:00<?, ?it/s]"
      ]
     },
     "metadata": {},
     "output_type": "display_data"
    },
    {
     "name": "stdout",
     "output_type": "stream",
     "text": [
      "Saving S:\\QRAM\\qram_4QR2\\data\\data_241025\\00644_QramProtocol3QTomo.h5\n",
      "init_state |0>|0+1> play pulses [2, 1, 4, 3]\n",
      "timesteps [inf]\n"
     ]
    },
    {
     "data": {
      "application/vnd.jupyter.widget-view+json": {
       "model_id": "cf16b36c8c5d456d8e8f697c2b083f10",
       "version_major": 2,
       "version_minor": 0
      },
      "text/plain": [
       "  0%|          | 0/8 [00:00<?, ?it/s]"
      ]
     },
     "metadata": {},
     "output_type": "display_data"
    },
    {
     "name": "stdout",
     "output_type": "stream",
     "text": [
      "Qubit  (0)\n",
      "ge fidelity (%): 80.30666666666667 \t angle (deg): 0.0 \t threshold ge: 998.0261776930553\n",
      "Qubit  (2)\n",
      "ge fidelity (%): 77.48000000000002 \t angle (deg): 0.0 \t threshold ge: 884.2474541251162\n",
      "Qubit  (3)\n",
      "ge fidelity (%): 74.2 \t angle (deg): 0.0 \t threshold ge: 759.2227608633304\n",
      "thresholds=[998.0261776930553, 0, 884.2474541251162, 759.2227608633304],\n",
      "angles=[0.0, 0, 0.0, 0.0],\n",
      "ge_avgs=[[-0.08808429617575288, -0.9622200162733929, -1.0491785191212366, 2.571604122592894], [0, 0, 0, 0], [2.469026417141308, -3.2628799566042854, -0.1422410631950091, 0.17373246541904033], [-1.9956355844860314, 4.356533116354762, -1.973047247084347, -0.41053821535124296]] ,\n",
      "counts_calib=[[5324, 783, 658, 96, 482, 80, 69, 8], [818, 5312, 78, 659, 71, 485, 10, 67], [674, 104, 5196, 789, 76, 12, 554, 95], [114, 612, 894, 5115, 4, 76, 81, 604], [679, 98, 53, 16, 5164, 829, 569, 92], [111, 601, 17, 64, 798, 5152, 92, 665], [106, 17, 663, 86, 716, 86, 5250, 576], [13, 89, 93, 625, 80, 636, 503, 5461]]\n",
      "\n"
     ]
    },
    {
     "data": {
      "application/vnd.jupyter.widget-view+json": {
       "model_id": "622c02a8dc3a4801b92559007eb5e586",
       "version_major": 2,
       "version_minor": 0
      },
      "text/plain": [
       "  0%|          | 0/1 [00:00<?, ?it/s]"
      ]
     },
     "metadata": {},
     "output_type": "display_data"
    },
    {
     "data": {
      "application/vnd.jupyter.widget-view+json": {
       "model_id": "6ac1c323c6b947ffb7a999ac30f82021",
       "version_major": 2,
       "version_minor": 0
      },
      "text/plain": [
       "  0%|          | 0/27 [00:00<?, ?it/s]"
      ]
     },
     "metadata": {},
     "output_type": "display_data"
    },
    {
     "name": "stdout",
     "output_type": "stream",
     "text": [
      "Saving S:\\QRAM\\qram_4QR2\\data\\data_241025\\00645_QramProtocol3QTomo.h5\n",
      "init_state |0+1>|0+1> play pulses [2, 1, 4, 3]\n",
      "timesteps [inf]\n"
     ]
    },
    {
     "data": {
      "application/vnd.jupyter.widget-view+json": {
       "model_id": "121363ee194d4401ab08a43b07f4a1b5",
       "version_major": 2,
       "version_minor": 0
      },
      "text/plain": [
       "  0%|          | 0/8 [00:00<?, ?it/s]"
      ]
     },
     "metadata": {},
     "output_type": "display_data"
    },
    {
     "name": "stdout",
     "output_type": "stream",
     "text": [
      "Qubit  (0)\n",
      "ge fidelity (%): 81.21333333333331 \t angle (deg): 0.0 \t threshold ge: 988.2848151979811\n",
      "Qubit  (2)\n",
      "ge fidelity (%): 79.14550562297192 \t angle (deg): 0.0 \t threshold ge: 882.710741191027\n",
      "Qubit  (3)\n",
      "ge fidelity (%): 81.62552162510558 \t angle (deg): 0.0 \t threshold ge: 759.8951053961347\n",
      "thresholds=[988.2848151979811, 0, 882.710741191027, 759.8951053961347],\n",
      "angles=[0.0, 0, 0.0, 0.0],\n",
      "ge_avgs=[[-1.245321616490372, -4.010646813127203, 1.1873253051261177, 2.427591537835639], [0, 0, 0, 0], [7.305050176295089, 0.005277027393545874, -0.837232655275289, 1.7170676430702452], [7.829540113913751, 11.153749064279902, 6.760689991863304, -1.443475888256036]] ,\n",
      "counts_calib=[[5636, 529, 564, 66, 567, 65, 67, 6], [571, 5470, 70, 635, 71, 611, 3, 69], [730, 66, 5561, 483, 68, 5, 530, 57], [113, 709, 745, 5258, 12, 78, 76, 509], [577, 60, 70, 9, 5480, 577, 646, 81], [106, 684, 9, 63, 714, 5270, 63, 591], [76, 13, 633, 70, 659, 67, 5402, 580], [10, 89, 78, 604, 73, 698, 551, 5397]]\n",
      "\n"
     ]
    },
    {
     "data": {
      "application/vnd.jupyter.widget-view+json": {
       "model_id": "c351c21b3a144e85a548c641aae67012",
       "version_major": 2,
       "version_minor": 0
      },
      "text/plain": [
       "  0%|          | 0/1 [00:00<?, ?it/s]"
      ]
     },
     "metadata": {},
     "output_type": "display_data"
    },
    {
     "data": {
      "application/vnd.jupyter.widget-view+json": {
       "model_id": "36ca39ef833f4019a03be3a94c9e22b3",
       "version_major": 2,
       "version_minor": 0
      },
      "text/plain": [
       "  0%|          | 0/27 [00:00<?, ?it/s]"
      ]
     },
     "metadata": {},
     "output_type": "display_data"
    },
    {
     "name": "stdout",
     "output_type": "stream",
     "text": [
      "Saving S:\\QRAM\\qram_4QR2\\data\\data_241025\\00646_QramProtocol3QTomo.h5\n",
      "delays 6.975446428571429 2.3251488095238093\n",
      "init_state |0+1>|1> play pulses [2, 1, 4, 3]\n",
      "timesteps [inf]\n"
     ]
    },
    {
     "data": {
      "application/vnd.jupyter.widget-view+json": {
       "model_id": "bade7cc361be433e884b302e1cc6b424",
       "version_major": 2,
       "version_minor": 0
      },
      "text/plain": [
       "  0%|          | 0/8 [00:00<?, ?it/s]"
      ]
     },
     "metadata": {},
     "output_type": "display_data"
    },
    {
     "name": "stdout",
     "output_type": "stream",
     "text": [
      "Qubit  (0)\n",
      "ge fidelity (%): 81.91887096057249 \t angle (deg): 0.0 \t threshold ge: 975.8213482422004\n",
      "Qubit  (2)\n",
      "ge fidelity (%): 78.03879983997865 \t angle (deg): 0.0 \t threshold ge: 888.3614716854044\n",
      "Qubit  (3)\n",
      "ge fidelity (%): 72.64 \t angle (deg): 0.0 \t threshold ge: 765.3466323304295\n",
      "thresholds=[975.8213482422004, 0, 888.3614716854044, 765.3466323304295],\n",
      "angles=[0.0, 0, 0.0, 0.0],\n",
      "ge_avgs=[[-2.914674152427448, -6.723580254949823, -0.6080980743151602, 4.496108706265257], [0, 0, 0, 0], [2.2454731760238675, -3.695227990235963, 7.307744290751287, -7.3604574993219405], [-1.2854556007594258, 9.130845131543259, -3.3641843232980775, -4.32909986438839]] ,\n",
      "counts_calib=[[5372, 805, 567, 90, 507, 88, 62, 9], [884, 5237, 93, 544, 78, 602, 10, 52], [743, 111, 5131, 791, 73, 5, 559, 87], [142, 679, 1218, 4700, 15, 86, 125, 535], [548, 79, 71, 9, 5379, 706, 625, 83], [87, 587, 12, 68, 685, 5376, 79, 606], [93, 6, 554, 74, 629, 55, 5548, 541], [11, 75, 72, 604, 87, 714, 558, 5379]]\n",
      "\n"
     ]
    },
    {
     "data": {
      "application/vnd.jupyter.widget-view+json": {
       "model_id": "6b0d5f8828304d47babaa9ada5460894",
       "version_major": 2,
       "version_minor": 0
      },
      "text/plain": [
       "  0%|          | 0/1 [00:00<?, ?it/s]"
      ]
     },
     "metadata": {},
     "output_type": "display_data"
    },
    {
     "data": {
      "application/vnd.jupyter.widget-view+json": {
       "model_id": "20c3b0aabf4540228da526689c98cf29",
       "version_major": 2,
       "version_minor": 0
      },
      "text/plain": [
       "  0%|          | 0/27 [00:00<?, ?it/s]"
      ]
     },
     "metadata": {},
     "output_type": "display_data"
    },
    {
     "name": "stdout",
     "output_type": "stream",
     "text": [
      "Saving S:\\QRAM\\qram_4QR2\\data\\data_241025\\00647_QramProtocol3QTomo.h5\n",
      "init_state |1>|0+1> play pulses [2, 1, 4, 3]\n",
      "timesteps [inf]\n"
     ]
    },
    {
     "data": {
      "application/vnd.jupyter.widget-view+json": {
       "model_id": "a9745c550667433c88d0174823d43069",
       "version_major": 2,
       "version_minor": 0
      },
      "text/plain": [
       "  0%|          | 0/8 [00:00<?, ?it/s]"
      ]
     },
     "metadata": {},
     "output_type": "display_data"
    },
    {
     "name": "stdout",
     "output_type": "stream",
     "text": [
      "Qubit  (0)\n",
      "ge fidelity (%): 79.97333333333336 \t angle (deg): 0.0 \t threshold ge: 972.931629777055\n",
      "Qubit  (2)\n",
      "ge fidelity (%): 77.62666666666668 \t angle (deg): 0.0 \t threshold ge: 873.6870316799202\n",
      "Qubit  (3)\n",
      "ge fidelity (%): 74.75833577810374 \t angle (deg): 0.0 \t threshold ge: 775.7608108193256\n",
      "thresholds=[972.931629777055, 0, 873.6870316799202, 775.7608108193256],\n",
      "angles=[0.0, 0, 0.0, 0.0],\n",
      "ge_avgs=[[1.5622199077841075, -2.2334562516951455, -3.5002565771630025, -4.123663140764849], [0, 0, 0, 0], [-0.39165608896121507, -5.677109085977759, -2.579661730404124, -6.629934363981557], [2.7324146460537024, 0.4284018443178744, 0.22270941144562093, -8.835197504746406]] ,\n",
      "counts_calib=[[5216, 768, 649, 104, 603, 80, 70, 10], [766, 5307, 86, 605, 79, 580, 4, 73], [668, 91, 5218, 767, 83, 10, 567, 96], [155, 589, 1191, 4809, 12, 61, 128, 555], [599, 83, 55, 10, 5272, 756, 634, 91], [122, 603, 8, 62, 954, 5047, 105, 599], [77, 10, 604, 74, 630, 80, 5227, 798], [13, 74, 71, 628, 89, 633, 784, 5208]]\n",
      "\n"
     ]
    },
    {
     "data": {
      "application/vnd.jupyter.widget-view+json": {
       "model_id": "4f1ae9550389481f92aa724346c67e91",
       "version_major": 2,
       "version_minor": 0
      },
      "text/plain": [
       "  0%|          | 0/1 [00:00<?, ?it/s]"
      ]
     },
     "metadata": {},
     "output_type": "display_data"
    },
    {
     "data": {
      "application/vnd.jupyter.widget-view+json": {
       "model_id": "de4ff9797e29450a8ca432480b42ee61",
       "version_major": 2,
       "version_minor": 0
      },
      "text/plain": [
       "  0%|          | 0/27 [00:00<?, ?it/s]"
      ]
     },
     "metadata": {},
     "output_type": "display_data"
    },
    {
     "name": "stdout",
     "output_type": "stream",
     "text": [
      "Saving S:\\QRAM\\qram_4QR2\\data\\data_241025\\00648_QramProtocol3QTomo.h5\n",
      "init_state |0>|0+1> play pulses [2, 1, 4, 3]\n",
      "timesteps [inf]\n"
     ]
    },
    {
     "data": {
      "application/vnd.jupyter.widget-view+json": {
       "model_id": "d34919348bbc42aaa251a07b2ca47a34",
       "version_major": 2,
       "version_minor": 0
      },
      "text/plain": [
       "  0%|          | 0/8 [00:00<?, ?it/s]"
      ]
     },
     "metadata": {},
     "output_type": "display_data"
    },
    {
     "name": "stdout",
     "output_type": "stream",
     "text": [
      "Qubit  (0)\n",
      "ge fidelity (%): 80.70666666666664 \t angle (deg): 0.0 \t threshold ge: 972.1912156935565\n",
      "Qubit  (2)\n",
      "ge fidelity (%): 75.52000000000002 \t angle (deg): 0.0 \t threshold ge: 873.5362525667127\n",
      "Qubit  (3)\n",
      "ge fidelity (%): 77.15847979730634 \t angle (deg): 0.0 \t threshold ge: 772.9866619626225\n",
      "thresholds=[972.1912156935565, 0, 873.5362525667127, 772.9866619626225],\n",
      "angles=[0.0, 0, 0.0, 0.0],\n",
      "ge_avgs=[[-4.317234174125304, 3.77965001356116, 0.6661923515052864, 0.41533138052617297], [0, 0, 0, 0], [4.45700244100895, -1.381113425549226, 1.149749715215623, -2.5604427447789515], [2.8200167073501485, 3.805421209655548, -1.1236295090859758, -2.7438978030919436]] ,\n",
      "counts_calib=[[5362, 699, 649, 85, 542, 84, 63, 16], [670, 5440, 71, 549, 90, 592, 4, 84], [848, 66, 5414, 438, 108, 12, 553, 61], [134, 647, 1053, 4914, 9, 62, 127, 554], [598, 67, 72, 12, 5459, 562, 649, 81], [98, 554, 13, 55, 862, 5183, 100, 635], [61, 6, 582, 87, 636, 88, 5257, 783], [12, 85, 101, 595, 93, 649, 758, 5207]]\n",
      "\n"
     ]
    },
    {
     "data": {
      "application/vnd.jupyter.widget-view+json": {
       "model_id": "d1d961949b4c4f14b32a006646697fdb",
       "version_major": 2,
       "version_minor": 0
      },
      "text/plain": [
       "  0%|          | 0/1 [00:00<?, ?it/s]"
      ]
     },
     "metadata": {},
     "output_type": "display_data"
    },
    {
     "data": {
      "application/vnd.jupyter.widget-view+json": {
       "model_id": "b582e76d183a450fb60390c430c53d05",
       "version_major": 2,
       "version_minor": 0
      },
      "text/plain": [
       "  0%|          | 0/27 [00:00<?, ?it/s]"
      ]
     },
     "metadata": {},
     "output_type": "display_data"
    },
    {
     "name": "stdout",
     "output_type": "stream",
     "text": [
      "Saving S:\\QRAM\\qram_4QR2\\data\\data_241025\\00649_QramProtocol3QTomo.h5\n",
      "init_state |0+1>|0+1> play pulses [2, 1, 4, 3]\n",
      "timesteps [inf]\n"
     ]
    },
    {
     "data": {
      "application/vnd.jupyter.widget-view+json": {
       "model_id": "09bcbb848c07484caf3c8220bd4d643a",
       "version_major": 2,
       "version_minor": 0
      },
      "text/plain": [
       "  0%|          | 0/8 [00:00<?, ?it/s]"
      ]
     },
     "metadata": {},
     "output_type": "display_data"
    },
    {
     "name": "stdout",
     "output_type": "stream",
     "text": [
      "Qubit  (0)\n",
      "ge fidelity (%): 79.7186629328355 \t angle (deg): 0.0 \t threshold ge: 946.5398114089276\n",
      "Qubit  (2)\n",
      "ge fidelity (%): 78.87882651020136 \t angle (deg): 0.0 \t threshold ge: 890.9287379677243\n",
      "Qubit  (3)\n",
      "ge fidelity (%): 74.45333333333333 \t angle (deg): 0.0 \t threshold ge: 785.3740904217857\n",
      "thresholds=[946.5398114089276, 0, 890.9287379677243, 785.3740904217857],\n",
      "angles=[0.0, 0, 0.0, 0.0],\n",
      "ge_avgs=[[0.10694787089774813, -1.9070923786276117, -5.463442256577163, 1.7201442907512885], [0, 0, 0, 0], [1.3272238676430699, 4.767482180634662, -1.1405353946297807, 2.3366662327095207], [2.6697339842690537, -2.8208254949823717, -1.411576891781938, -5.844398264171417]] ,\n",
      "counts_calib=[[5363, 721, 563, 72, 619, 85, 69, 8], [873, 5219, 73, 515, 83, 664, 8, 65], [721, 80, 5156, 758, 73, 17, 600, 95], [168, 624, 1140, 4709, 27, 81, 116, 635], [602, 73, 64, 7, 5444, 704, 522, 84], [116, 589, 10, 75, 885, 5101, 103, 621], [52, 11, 585, 65, 627, 93, 5297, 770], [48, 51, 297, 323, 411, 371, 2978, 3021]]\n",
      "\n"
     ]
    },
    {
     "data": {
      "application/vnd.jupyter.widget-view+json": {
       "model_id": "e53266852f544a8d91bc5be931d87038",
       "version_major": 2,
       "version_minor": 0
      },
      "text/plain": [
       "  0%|          | 0/1 [00:00<?, ?it/s]"
      ]
     },
     "metadata": {},
     "output_type": "display_data"
    },
    {
     "data": {
      "application/vnd.jupyter.widget-view+json": {
       "model_id": "a280fdad0956462fa9e7f50a8d1296a4",
       "version_major": 2,
       "version_minor": 0
      },
      "text/plain": [
       "  0%|          | 0/27 [00:00<?, ?it/s]"
      ]
     },
     "metadata": {},
     "output_type": "display_data"
    },
    {
     "name": "stdout",
     "output_type": "stream",
     "text": [
      "Saving S:\\QRAM\\qram_4QR2\\data\\data_241025\\00650_QramProtocol3QTomo.h5\n",
      "delays 6.975446428571429 4.650297619047619\n",
      "init_state |0+1>|1> play pulses [2, 1, 4, 3]\n",
      "timesteps [inf]\n"
     ]
    },
    {
     "data": {
      "application/vnd.jupyter.widget-view+json": {
       "model_id": "3bda2440d1fc4be09781c0dcd661e21c",
       "version_major": 2,
       "version_minor": 0
      },
      "text/plain": [
       "  0%|          | 0/8 [00:00<?, ?it/s]"
      ]
     },
     "metadata": {},
     "output_type": "display_data"
    },
    {
     "name": "stdout",
     "output_type": "stream",
     "text": [
      "Qubit  (0)\n",
      "ge fidelity (%): 80.26666666666667 \t angle (deg): 0.0 \t threshold ge: 987.7649472552562\n",
      "Qubit  (2)\n",
      "ge fidelity (%): 80.11849579943993 \t angle (deg): 0.0 \t threshold ge: 891.3695835297407\n",
      "Qubit  (3)\n",
      "ge fidelity (%): 75.11835355825221 \t angle (deg): 0.0 \t threshold ge: 723.9246557932133\n",
      "thresholds=[987.7649472552562, 0, 891.3695835297407, 723.9246557932133],\n",
      "angles=[0.0, 0, 0.0, 0.0],\n",
      "ge_avgs=[[1.6340287496609716, 1.9997728234336867, 1.348845348521832, -0.38582609167344867], [0, 0, 0, 0], [0.956503932736643, -6.269056577163004, 3.160216978573364, 0.8616295090859774], [-1.524092215893681, -6.049090968266882, 2.2688196365608917, 3.8537518850013557]] ,\n",
      "counts_calib=[[5383, 786, 534, 90, 570, 71, 55, 11], [787, 5496, 57, 507, 67, 522, 5, 59], [634, 96, 5251, 797, 66, 12, 554, 90], [122, 649, 764, 5210, 8, 88, 80, 579], [610, 95, 58, 14, 5143, 819, 651, 110], [103, 542, 14, 65, 766, 5267, 104, 639], [88, 17, 589, 100, 658, 100, 5081, 867], [13, 91, 92, 616, 108, 703, 690, 5187]]\n",
      "\n"
     ]
    },
    {
     "data": {
      "application/vnd.jupyter.widget-view+json": {
       "model_id": "44210ca4760e4183b4cacbbb22a31964",
       "version_major": 2,
       "version_minor": 0
      },
      "text/plain": [
       "  0%|          | 0/1 [00:00<?, ?it/s]"
      ]
     },
     "metadata": {},
     "output_type": "display_data"
    },
    {
     "data": {
      "application/vnd.jupyter.widget-view+json": {
       "model_id": "c9280efd000745b4b57deefa83f31786",
       "version_major": 2,
       "version_minor": 0
      },
      "text/plain": [
       "  0%|          | 0/27 [00:00<?, ?it/s]"
      ]
     },
     "metadata": {},
     "output_type": "display_data"
    },
    {
     "name": "stdout",
     "output_type": "stream",
     "text": [
      "Saving S:\\QRAM\\qram_4QR2\\data\\data_241025\\00651_QramProtocol3QTomo.h5\n",
      "init_state |1>|0+1> play pulses [2, 1, 4, 3]\n",
      "timesteps [inf]\n"
     ]
    },
    {
     "data": {
      "application/vnd.jupyter.widget-view+json": {
       "model_id": "15df4836f7c443b397a04a47888e0e64",
       "version_major": 2,
       "version_minor": 0
      },
      "text/plain": [
       "  0%|          | 0/8 [00:00<?, ?it/s]"
      ]
     },
     "metadata": {},
     "output_type": "display_data"
    },
    {
     "name": "stdout",
     "output_type": "stream",
     "text": [
      "Qubit  (0)\n",
      "ge fidelity (%): 75.48000000000002 \t angle (deg): 0.0 \t threshold ge: 1006.2491502373983\n",
      "Qubit  (2)\n",
      "ge fidelity (%): 79.46549317686802 \t angle (deg): 0.0 \t threshold ge: 881.2437070644968\n",
      "Qubit  (3)\n",
      "ge fidelity (%): 74.73178823843178 \t angle (deg): 0.0 \t threshold ge: 770.0682135240548\n",
      "thresholds=[1006.2491502373983, 0, 881.2437070644968, 770.0682135240548],\n",
      "angles=[0.0, 0, 0.0, 0.0],\n",
      "ge_avgs=[[-3.6591358828315705, -1.5731849199891494, -6.132220341741254, -7.1537353946297815], [0, 0, 0, 0], [-4.4557599132085715, -5.354164144290749, 4.5885144561974505, -2.2646978030919453], [3.724184865744506, 5.594313425549228, 2.890888201790077, -1.4304093300786591]] ,\n",
      "counts_calib=[[5174, 691, 530, 82, 817, 111, 78, 17], [792, 5075, 87, 500, 113, 820, 12, 101], [623, 109, 4951, 792, 96, 13, 793, 123], [142, 729, 909, 4876, 18, 84, 102, 640], [654, 92, 72, 5, 5182, 738, 649, 108], [93, 592, 7, 70, 864, 5057, 111, 706], [102, 14, 606, 80, 655, 90, 5107, 846], [13, 91, 100, 638, 107, 687, 745, 5119]]\n",
      "\n"
     ]
    },
    {
     "data": {
      "application/vnd.jupyter.widget-view+json": {
       "model_id": "8b69b02fa7804d0fb645af1ba93d81ae",
       "version_major": 2,
       "version_minor": 0
      },
      "text/plain": [
       "  0%|          | 0/1 [00:00<?, ?it/s]"
      ]
     },
     "metadata": {},
     "output_type": "display_data"
    },
    {
     "data": {
      "application/vnd.jupyter.widget-view+json": {
       "model_id": "50cb06f337084a939e507cdf1ac0de8a",
       "version_major": 2,
       "version_minor": 0
      },
      "text/plain": [
       "  0%|          | 0/27 [00:00<?, ?it/s]"
      ]
     },
     "metadata": {},
     "output_type": "display_data"
    },
    {
     "name": "stdout",
     "output_type": "stream",
     "text": [
      "Saving S:\\QRAM\\qram_4QR2\\data\\data_241025\\00652_QramProtocol3QTomo.h5\n",
      "init_state |0>|0+1> play pulses [2, 1, 4, 3]\n",
      "timesteps [inf]\n"
     ]
    },
    {
     "data": {
      "application/vnd.jupyter.widget-view+json": {
       "model_id": "b5ac79e1ab9f4fcb9d244c9574224b44",
       "version_major": 2,
       "version_minor": 0
      },
      "text/plain": [
       "  0%|          | 0/8 [00:00<?, ?it/s]"
      ]
     },
     "metadata": {},
     "output_type": "display_data"
    },
    {
     "name": "stdout",
     "output_type": "stream",
     "text": [
      "Qubit  (0)\n",
      "ge fidelity (%): 77.99999999999999 \t angle (deg): 0.0 \t threshold ge: 994.1702672576872\n",
      "Qubit  (2)\n",
      "ge fidelity (%): 76.69196781793124 \t angle (deg): 0.0 \t threshold ge: 870.7656826687895\n",
      "Qubit  (3)\n",
      "ge fidelity (%): 77.51858825621193 \t angle (deg): 0.0 \t threshold ge: 799.6414150705085\n",
      "thresholds=[994.1702672576872, 0, 870.7656826687895, 799.6414150705085],\n",
      "angles=[0.0, 0, 0.0, 0.0],\n",
      "ge_avgs=[[5.251029020884187, 2.454390886899917, -4.466621535123406, 1.362521291022511], [0, 0, 0, 0], [-0.6872848386221864, -3.592145809601302, 2.401326173040412, 1.789967344724708], [1.4071561703281796, -1.5381606726335773, -0.868455763493359, -9.232082668836451]] ,\n",
      "counts_calib=[[5316, 614, 620, 95, 659, 90, 94, 12], [714, 5305, 83, 697, 66, 550, 14, 71], [770, 85, 5369, 630, 69, 7, 510, 60], [97, 657, 827, 5266, 5, 48, 72, 528], [660, 57, 71, 10, 5433, 530, 672, 67], [109, 630, 13, 66, 762, 5038, 121, 761], [63, 13, 614, 75, 646, 70, 5386, 633], [18, 90, 77, 639, 80, 603, 759, 5234]]\n",
      "\n"
     ]
    },
    {
     "data": {
      "application/vnd.jupyter.widget-view+json": {
       "model_id": "eccdb0f0e0ce44aea1217184988836ee",
       "version_major": 2,
       "version_minor": 0
      },
      "text/plain": [
       "  0%|          | 0/1 [00:00<?, ?it/s]"
      ]
     },
     "metadata": {},
     "output_type": "display_data"
    },
    {
     "data": {
      "application/vnd.jupyter.widget-view+json": {
       "model_id": "ba62dd81a69f4793b5d4145e9cc54e9e",
       "version_major": 2,
       "version_minor": 0
      },
      "text/plain": [
       "  0%|          | 0/27 [00:00<?, ?it/s]"
      ]
     },
     "metadata": {},
     "output_type": "display_data"
    },
    {
     "name": "stdout",
     "output_type": "stream",
     "text": [
      "Saving S:\\QRAM\\qram_4QR2\\data\\data_241025\\00653_QramProtocol3QTomo.h5\n",
      "init_state |0+1>|0+1> play pulses [2, 1, 4, 3]\n",
      "timesteps [inf]\n"
     ]
    },
    {
     "data": {
      "application/vnd.jupyter.widget-view+json": {
       "model_id": "228ac4fc100d499eadc0e170fec973de",
       "version_major": 2,
       "version_minor": 0
      },
      "text/plain": [
       "  0%|          | 0/8 [00:00<?, ?it/s]"
      ]
     },
     "metadata": {},
     "output_type": "display_data"
    },
    {
     "name": "stdout",
     "output_type": "stream",
     "text": [
      "Qubit  (0)\n",
      "ge fidelity (%): 75.09156954260567 \t angle (deg): 0.0 \t threshold ge: 1016.4408854543658\n",
      "Qubit  (2)\n",
      "ge fidelity (%): 79.30666666666664 \t angle (deg): 0.0 \t threshold ge: 872.5496201162864\n",
      "Qubit  (3)\n",
      "ge fidelity (%): 74.74500777881491 \t angle (deg): 0.0 \t threshold ge: 780.352439037904\n",
      "thresholds=[1016.4408854543658, 0, 872.5496201162864, 780.352439037904],\n",
      "angles=[0.0, 0, 0.0, 0.0],\n",
      "ge_avgs=[[5.534651044209386, -6.059344941687008, -4.671280716029295, 5.281189802007053], [0, 0, 0, 0], [0.7003855709248707, -2.044633143477081, 0.5634903173311628, -2.7194208841876852], [1.0201393002441015, -3.4835535665853, -6.230196908055335, 0.07390062381339836]] ,\n",
      "counts_calib=[[5088, 727, 560, 91, 792, 128, 100, 14], [773, 5177, 89, 702, 71, 592, 8, 88], [620, 85, 5136, 785, 83, 9, 694, 88], [111, 681, 902, 4693, 19, 104, 153, 837], [658, 93, 77, 12, 5141, 725, 673, 121], [113, 637, 15, 90, 874, 4919, 116, 736], [87, 13, 641, 76, 615, 78, 5224, 766], [14, 68, 92, 649, 81, 599, 789, 5208]]\n",
      "\n"
     ]
    },
    {
     "data": {
      "application/vnd.jupyter.widget-view+json": {
       "model_id": "0adb87e65c1e45f49e6ee8d4d444681f",
       "version_major": 2,
       "version_minor": 0
      },
      "text/plain": [
       "  0%|          | 0/1 [00:00<?, ?it/s]"
      ]
     },
     "metadata": {},
     "output_type": "display_data"
    },
    {
     "data": {
      "application/vnd.jupyter.widget-view+json": {
       "model_id": "21050242672d4ee5812828e254b8106e",
       "version_major": 2,
       "version_minor": 0
      },
      "text/plain": [
       "  0%|          | 0/27 [00:00<?, ?it/s]"
      ]
     },
     "metadata": {},
     "output_type": "display_data"
    },
    {
     "name": "stdout",
     "output_type": "stream",
     "text": [
      "Saving S:\\QRAM\\qram_4QR2\\data\\data_241025\\00654_QramProtocol3QTomo.h5\n",
      "delays 6.975446428571429 6.975446428571429\n",
      "init_state |0+1>|1> play pulses [2, 1, 4, 3]\n",
      "timesteps [inf]\n"
     ]
    },
    {
     "data": {
      "application/vnd.jupyter.widget-view+json": {
       "model_id": "ac9a8673d004496eb0b231237b368c8e",
       "version_major": 2,
       "version_minor": 0
      },
      "text/plain": [
       "  0%|          | 0/8 [00:00<?, ?it/s]"
      ]
     },
     "metadata": {},
     "output_type": "display_data"
    },
    {
     "name": "stdout",
     "output_type": "stream",
     "text": [
      "Qubit  (0)\n",
      "ge fidelity (%): 78.90666666666664 \t angle (deg): 0.0 \t threshold ge: 979.3583962194767\n",
      "Qubit  (2)\n",
      "ge fidelity (%): 76.68 \t angle (deg): 0.0 \t threshold ge: 875.2529096402935\n",
      "Qubit  (3)\n",
      "ge fidelity (%): 74.85333333333332 \t angle (deg): 0.0 \t threshold ge: 790.7282108173208\n",
      "thresholds=[979.3583962194767, 0, 875.2529096402935, 790.7282108173208],\n",
      "angles=[0.0, 0, 0.0, 0.0],\n",
      "ge_avgs=[[-4.331516029292107, 4.6865464605370235, 4.1957129373474364, -0.22112101979929624], [0, 0, 0, 0], [-0.9497487388120438, 0.6346592893951729, -0.5243517222674247, 5.732447626796851], [2.2194864117168427, -9.010061079468404, -0.28938497423379544, -5.411232980743151]] ,\n",
      "counts_calib=[[5341, 674, 642, 92, 604, 72, 61, 14], [844, 5200, 85, 599, 96, 592, 10, 74], [760, 94, 5212, 729, 72, 20, 530, 83], [133, 583, 900, 5133, 11, 66, 98, 576], [678, 81, 70, 7, 5360, 588, 626, 90], [117, 618, 15, 83, 812, 5128, 89, 638], [95, 7, 654, 70, 636, 79, 5382, 577], [18, 83, 77, 590, 108, 725, 694, 5205]]\n",
      "\n"
     ]
    },
    {
     "data": {
      "application/vnd.jupyter.widget-view+json": {
       "model_id": "150f4637ddb642c0a0446de0cc29bdd3",
       "version_major": 2,
       "version_minor": 0
      },
      "text/plain": [
       "  0%|          | 0/1 [00:00<?, ?it/s]"
      ]
     },
     "metadata": {},
     "output_type": "display_data"
    },
    {
     "data": {
      "application/vnd.jupyter.widget-view+json": {
       "model_id": "40deeece0a3a487db11ea0af66efb78f",
       "version_major": 2,
       "version_minor": 0
      },
      "text/plain": [
       "  0%|          | 0/27 [00:00<?, ?it/s]"
      ]
     },
     "metadata": {},
     "output_type": "display_data"
    },
    {
     "name": "stdout",
     "output_type": "stream",
     "text": [
      "Saving S:\\QRAM\\qram_4QR2\\data\\data_241025\\00655_QramProtocol3QTomo.h5\n",
      "init_state |1>|0+1> play pulses [2, 1, 4, 3]\n",
      "timesteps [inf]\n"
     ]
    },
    {
     "data": {
      "application/vnd.jupyter.widget-view+json": {
       "model_id": "39c0b9fae01e45889b5dcd4a768f7be8",
       "version_major": 2,
       "version_minor": 0
      },
      "text/plain": [
       "  0%|          | 0/8 [00:00<?, ?it/s]"
      ]
     },
     "metadata": {},
     "output_type": "display_data"
    },
    {
     "name": "stdout",
     "output_type": "stream",
     "text": [
      "Qubit  (0)\n",
      "ge fidelity (%): 80.75892963506247 \t angle (deg): 0.0 \t threshold ge: 1029.9538919711943\n",
      "Qubit  (2)\n",
      "ge fidelity (%): 80.62559274569944 \t angle (deg): 0.0 \t threshold ge: 894.6337602396112\n",
      "Qubit  (3)\n",
      "ge fidelity (%): 82.79999999999998 \t angle (deg): 0.0 \t threshold ge: 809.1880697754968\n",
      "thresholds=[1029.9538919711943, 0, 894.6337602396112, 809.1880697754968],\n",
      "angles=[0.0, 0, 0.0, 0.0],\n",
      "ge_avgs=[[-4.98328993761866, -3.46220970979116, -1.4895248169243278, -1.6444077027393533], [0, 0, 0, 0], [-1.3770187144019517, -1.8611569297531863, -3.4470781665310546, 1.2248622728505576], [7.254046107946841, -1.5947621372389487, 3.196614049362628, -2.1947162462706715]] ,\n",
      "counts_calib=[[5824, 447, 557, 49, 517, 49, 50, 7], [609, 5611, 64, 600, 56, 484, 10, 66], [670, 82, 5366, 748, 51, 5, 503, 75], [166, 792, 1014, 4858, 16, 77, 97, 480], [651, 96, 69, 9, 5219, 671, 676, 109], [150, 693, 16, 80, 1003, 4841, 126, 591], [206, 13, 799, 117, 858, 100, 4744, 663], [19, 110, 106, 746, 108, 671, 762, 4978]]\n",
      "\n"
     ]
    },
    {
     "data": {
      "application/vnd.jupyter.widget-view+json": {
       "model_id": "1e0d17fcf8084dcf8db182720c392a5f",
       "version_major": 2,
       "version_minor": 0
      },
      "text/plain": [
       "  0%|          | 0/1 [00:00<?, ?it/s]"
      ]
     },
     "metadata": {},
     "output_type": "display_data"
    },
    {
     "data": {
      "application/vnd.jupyter.widget-view+json": {
       "model_id": "197171c520b84848afd8cff45db96f5d",
       "version_major": 2,
       "version_minor": 0
      },
      "text/plain": [
       "  0%|          | 0/27 [00:00<?, ?it/s]"
      ]
     },
     "metadata": {},
     "output_type": "display_data"
    },
    {
     "name": "stdout",
     "output_type": "stream",
     "text": [
      "Saving S:\\QRAM\\qram_4QR2\\data\\data_241025\\00656_QramProtocol3QTomo.h5\n",
      "init_state |0>|0+1> play pulses [2, 1, 4, 3]\n",
      "timesteps [inf]\n"
     ]
    },
    {
     "data": {
      "application/vnd.jupyter.widget-view+json": {
       "model_id": "65775a815a484e669b075100573321b4",
       "version_major": 2,
       "version_minor": 0
      },
      "text/plain": [
       "  0%|          | 0/8 [00:00<?, ?it/s]"
      ]
     },
     "metadata": {},
     "output_type": "display_data"
    },
    {
     "name": "stdout",
     "output_type": "stream",
     "text": [
      "Qubit  (0)\n",
      "ge fidelity (%): 80.65214739743078 \t angle (deg): 0.0 \t threshold ge: 990.2806515172732\n",
      "Qubit  (2)\n",
      "ge fidelity (%): 79.28000000000002 \t angle (deg): 0.0 \t threshold ge: 881.5063825065135\n",
      "Qubit  (3)\n",
      "ge fidelity (%): 80.69214206338624 \t angle (deg): 0.0 \t threshold ge: 773.2910095696972\n",
      "thresholds=[990.2806515172732, 0, 881.5063825065135, 773.2910095696972],\n",
      "angles=[0.0, 0, 0.0, 0.0],\n",
      "ge_avgs=[[0.13234239218877095, 1.4907042039598595, -7.419360564144293, 6.124747816653106], [0, 0, 0, 0], [2.6068401410360713, 1.6166950908597795, -1.808283916463251, 5.571534147002985], [-1.6730481149986427, -0.4953892053159759, -0.34229205315975036, 4.9067453213995105]] ,\n",
      "counts_calib=[[5569, 561, 608, 64, 552, 69, 73, 4], [614, 5490, 63, 605, 73, 584, 8, 63], [662, 79, 5410, 650, 61, 7, 549, 82], [103, 670, 733, 5313, 9, 67, 80, 525], [609, 80, 57, 13, 5324, 680, 640, 97], [85, 648, 13, 86, 758, 5145, 97, 668], [94, 9, 598, 69, 623, 75, 5404, 628], [16, 80, 88, 622, 88, 698, 715, 5193]]\n",
      "\n"
     ]
    },
    {
     "data": {
      "application/vnd.jupyter.widget-view+json": {
       "model_id": "09e372b3797e4bac99d5c7cb7a31dbac",
       "version_major": 2,
       "version_minor": 0
      },
      "text/plain": [
       "  0%|          | 0/1 [00:00<?, ?it/s]"
      ]
     },
     "metadata": {},
     "output_type": "display_data"
    },
    {
     "data": {
      "application/vnd.jupyter.widget-view+json": {
       "model_id": "c37d23cf7a8345dfaf76e8babb7f28b4",
       "version_major": 2,
       "version_minor": 0
      },
      "text/plain": [
       "  0%|          | 0/27 [00:00<?, ?it/s]"
      ]
     },
     "metadata": {},
     "output_type": "display_data"
    },
    {
     "name": "stdout",
     "output_type": "stream",
     "text": [
      "Saving S:\\QRAM\\qram_4QR2\\data\\data_241025\\00657_QramProtocol3QTomo.h5\n",
      "init_state |0+1>|0+1> play pulses [2, 1, 4, 3]\n",
      "timesteps [inf]\n"
     ]
    },
    {
     "data": {
      "application/vnd.jupyter.widget-view+json": {
       "model_id": "9ac1bd8e6e94484b8d9ecc14099c7903",
       "version_major": 2,
       "version_minor": 0
      },
      "text/plain": [
       "  0%|          | 0/8 [00:00<?, ?it/s]"
      ]
     },
     "metadata": {},
     "output_type": "display_data"
    },
    {
     "name": "stdout",
     "output_type": "stream",
     "text": [
      "Qubit  (0)\n",
      "ge fidelity (%): 80.93333333333331 \t angle (deg): 0.0 \t threshold ge: 990.0118222728438\n",
      "Qubit  (2)\n",
      "ge fidelity (%): 79.67872160732543 \t angle (deg): 0.0 \t threshold ge: 865.1884132480717\n",
      "Qubit  (3)\n",
      "ge fidelity (%): 75.77333333333335 \t angle (deg): 0.0 \t threshold ge: 770.6890200062034\n",
      "thresholds=[990.0118222728438, 0, 865.1884132480717, 770.6890200062034],\n",
      "angles=[0.0, 0, 0.0, 0.0],\n",
      "ge_avgs=[[2.093766856522919, 0.9666214266341199, 3.118946894494168, 1.1174743694060219], [0, 0, 0, 0], [-0.29963786276105386, -0.28025071874152346, 5.150564361269323, -1.1513325739083253], [-6.917106265256305, 7.183677895307838, -6.252177163005149, 2.494957851912124]] ,\n",
      "counts_calib=[[5364, 750, 600, 95, 534, 76, 73, 8], [732, 5245, 85, 692, 66, 582, 9, 89], [622, 74, 5495, 665, 58, 4, 521, 61], [95, 622, 856, 5246, 8, 72, 95, 506], [598, 68, 71, 8, 5238, 685, 730, 102], [100, 650, 9, 79, 780, 5012, 103, 767], [82, 7, 648, 66, 634, 91, 5229, 743], [20, 84, 109, 739, 71, 647, 786, 5044]]\n",
      "\n"
     ]
    },
    {
     "data": {
      "application/vnd.jupyter.widget-view+json": {
       "model_id": "44f4ec4062b94a7e964a29c48421bbf3",
       "version_major": 2,
       "version_minor": 0
      },
      "text/plain": [
       "  0%|          | 0/1 [00:00<?, ?it/s]"
      ]
     },
     "metadata": {},
     "output_type": "display_data"
    },
    {
     "data": {
      "application/vnd.jupyter.widget-view+json": {
       "model_id": "5af964e22c584721a55bbe97ee97bf25",
       "version_major": 2,
       "version_minor": 0
      },
      "text/plain": [
       "  0%|          | 0/27 [00:00<?, ?it/s]"
      ]
     },
     "metadata": {},
     "output_type": "display_data"
    },
    {
     "name": "stdout",
     "output_type": "stream",
     "text": [
      "Saving S:\\QRAM\\qram_4QR2\\data\\data_241025\\00658_QramProtocol3QTomo.h5\n"
     ]
    }
   ],
   "source": [
    "play_pulses = protocol_play\n",
    "for delay_2 in delay_sweep_2:\n",
    "    for delay_3 in delay_sweep_3:\n",
    "        print('delays', delay_2, delay_3)\n",
    "        for init_state in init_states:\n",
    "            qramExpt = meas.QramProtocol3QTomoExperiment(\n",
    "                soccfg=soc,\n",
    "                path=expt_path,\n",
    "                config_file=config_path,\n",
    "                ns_address=ns_address,\n",
    "            )\n",
    "            print('init_state', init_state, 'play pulses', play_pulses)\n",
    "            \n",
    "            span = np.inf\n",
    "            npts = 1\n",
    "            if span < np.inf: print('time step size [cycles]:', soc.us2cycles(span/npts))\n",
    "            \n",
    "            qramExpt.cfg.expt = dict(\n",
    "                start=span,\n",
    "                step=0,\n",
    "                expts=1, # number of different time experiments\n",
    "            \n",
    "                reps=7500, # number of reps per tomo/time step,\n",
    "                singleshot_reps=7500, # reps per state for singleshot calibration\n",
    "                # reps=100, # number of reps per tomo/time step,\n",
    "                # singleshot_reps=100, #000, # reps per state for singleshot calibration\n",
    "                post_process=None, # 'threshold', (uses single shot binning), 'scale' (scale by ge_avgs), or None\n",
    "                tomo_3q=True, # flag to perform tomo on last time step\n",
    "                tomo_qubits=tomo_qubits, # the qubits on which to do the 3q state tomo\n",
    "                init_state=init_state,\n",
    "                play_pulses=play_pulses, # [2, 1, 4, 3]\n",
    "                cool_qubits=cool_qubits,\n",
    "                sync_between_swaps=sync_between_swaps,\n",
    "                sync_between_efs=sync_between_efs,\n",
    "                \n",
    "                use_IQ_pulse=use_IQ_pulse, # state transfer IQ pulses for the state prep\n",
    "                use_robust_pulses=use_robust_pulses, # use robust pulses for state prep + tomo\n",
    "                plot_IQ=False,\n",
    "                \n",
    "                readout_cool=readout_cool,\n",
    "                n_init_readout=1,\n",
    "                n_trig=1,\n",
    "                init_read_wait_us=10,\n",
    "                \n",
    "                full_mux_expt=full_mux_expt,\n",
    "                resonator_reset=resonator_reset,\n",
    "            )\n",
    "            if tomo_qubits == [0, 2, 3]:\n",
    "                qramExpt.cfg.device.readout.gain[1] = 1e-4\n",
    "                \n",
    "            qramExpt.cfg.hw.soc.dacs.delay_chs.delay_ns[2] = delay_2\n",
    "            qramExpt.cfg.hw.soc.dacs.delay_chs.delay_ns[3] = delay_3\n",
    "\n",
    "            \n",
    "            try:\n",
    "                qramExpt.acquire(progress=True, debug=False)\n",
    "                success = True\n",
    "            except Exception:\n",
    "                print(\"Pyro traceback:\")\n",
    "                print(\"\".join(Pyro4.util.getPyroTraceback()))\n",
    "                \n",
    "            if save_data: saved_files.append(qramExpt.save_data())"
   ]
  },
  {
   "cell_type": "code",
   "execution_count": 425,
   "metadata": {},
   "outputs": [
    {
     "name": "stdout",
     "output_type": "stream",
     "text": [
      "init_states = ['|0+1>|1>', '|1>|0+1>', '|0>|0+1>', '|0+1>|0+1>']\n",
      "['S:\\\\QRAM\\\\qram_4QR2\\\\data\\\\data_241025\\\\00595_QramProtocol3QTomo.h5', 'S:\\\\QRAM\\\\qram_4QR2\\\\data\\\\data_241025\\\\00596_QramProtocol3QTomo.h5', 'S:\\\\QRAM\\\\qram_4QR2\\\\data\\\\data_241025\\\\00597_QramProtocol3QTomo.h5', 'S:\\\\QRAM\\\\qram_4QR2\\\\data\\\\data_241025\\\\00598_QramProtocol3QTomo.h5', 'S:\\\\QRAM\\\\qram_4QR2\\\\data\\\\data_241025\\\\00599_QramProtocol3QTomo.h5', 'S:\\\\QRAM\\\\qram_4QR2\\\\data\\\\data_241025\\\\00600_QramProtocol3QTomo.h5', 'S:\\\\QRAM\\\\qram_4QR2\\\\data\\\\data_241025\\\\00601_QramProtocol3QTomo.h5', 'S:\\\\QRAM\\\\qram_4QR2\\\\data\\\\data_241025\\\\00602_QramProtocol3QTomo.h5', 'S:\\\\QRAM\\\\qram_4QR2\\\\data\\\\data_241025\\\\00603_QramProtocol3QTomo.h5', 'S:\\\\QRAM\\\\qram_4QR2\\\\data\\\\data_241025\\\\00604_QramProtocol3QTomo.h5', 'S:\\\\QRAM\\\\qram_4QR2\\\\data\\\\data_241025\\\\00605_QramProtocol3QTomo.h5', 'S:\\\\QRAM\\\\qram_4QR2\\\\data\\\\data_241025\\\\00606_QramProtocol3QTomo.h5', 'S:\\\\QRAM\\\\qram_4QR2\\\\data\\\\data_241025\\\\00607_QramProtocol3QTomo.h5', 'S:\\\\QRAM\\\\qram_4QR2\\\\data\\\\data_241025\\\\00608_QramProtocol3QTomo.h5', 'S:\\\\QRAM\\\\qram_4QR2\\\\data\\\\data_241025\\\\00609_QramProtocol3QTomo.h5', 'S:\\\\QRAM\\\\qram_4QR2\\\\data\\\\data_241025\\\\00610_QramProtocol3QTomo.h5', 'S:\\\\QRAM\\\\qram_4QR2\\\\data\\\\data_241025\\\\00611_QramProtocol3QTomo.h5', 'S:\\\\QRAM\\\\qram_4QR2\\\\data\\\\data_241025\\\\00612_QramProtocol3QTomo.h5', 'S:\\\\QRAM\\\\qram_4QR2\\\\data\\\\data_241025\\\\00613_QramProtocol3QTomo.h5', 'S:\\\\QRAM\\\\qram_4QR2\\\\data\\\\data_241025\\\\00614_QramProtocol3QTomo.h5', 'S:\\\\QRAM\\\\qram_4QR2\\\\data\\\\data_241025\\\\00615_QramProtocol3QTomo.h5', 'S:\\\\QRAM\\\\qram_4QR2\\\\data\\\\data_241025\\\\00616_QramProtocol3QTomo.h5', 'S:\\\\QRAM\\\\qram_4QR2\\\\data\\\\data_241025\\\\00617_QramProtocol3QTomo.h5', 'S:\\\\QRAM\\\\qram_4QR2\\\\data\\\\data_241025\\\\00618_QramProtocol3QTomo.h5', 'S:\\\\QRAM\\\\qram_4QR2\\\\data\\\\data_241025\\\\00619_QramProtocol3QTomo.h5', 'S:\\\\QRAM\\\\qram_4QR2\\\\data\\\\data_241025\\\\00620_QramProtocol3QTomo.h5', 'S:\\\\QRAM\\\\qram_4QR2\\\\data\\\\data_241025\\\\00621_QramProtocol3QTomo.h5', 'S:\\\\QRAM\\\\qram_4QR2\\\\data\\\\data_241025\\\\00622_QramProtocol3QTomo.h5', 'S:\\\\QRAM\\\\qram_4QR2\\\\data\\\\data_241025\\\\00623_QramProtocol3QTomo.h5', 'S:\\\\QRAM\\\\qram_4QR2\\\\data\\\\data_241025\\\\00624_QramProtocol3QTomo.h5', 'S:\\\\QRAM\\\\qram_4QR2\\\\data\\\\data_241025\\\\00625_QramProtocol3QTomo.h5', 'S:\\\\QRAM\\\\qram_4QR2\\\\data\\\\data_241025\\\\00626_QramProtocol3QTomo.h5', 'S:\\\\QRAM\\\\qram_4QR2\\\\data\\\\data_241025\\\\00627_QramProtocol3QTomo.h5', 'S:\\\\QRAM\\\\qram_4QR2\\\\data\\\\data_241025\\\\00628_QramProtocol3QTomo.h5', 'S:\\\\QRAM\\\\qram_4QR2\\\\data\\\\data_241025\\\\00629_QramProtocol3QTomo.h5', 'S:\\\\QRAM\\\\qram_4QR2\\\\data\\\\data_241025\\\\00630_QramProtocol3QTomo.h5', 'S:\\\\QRAM\\\\qram_4QR2\\\\data\\\\data_241025\\\\00631_QramProtocol3QTomo.h5', 'S:\\\\QRAM\\\\qram_4QR2\\\\data\\\\data_241025\\\\00632_QramProtocol3QTomo.h5', 'S:\\\\QRAM\\\\qram_4QR2\\\\data\\\\data_241025\\\\00633_QramProtocol3QTomo.h5', 'S:\\\\QRAM\\\\qram_4QR2\\\\data\\\\data_241025\\\\00634_QramProtocol3QTomo.h5', 'S:\\\\QRAM\\\\qram_4QR2\\\\data\\\\data_241025\\\\00635_QramProtocol3QTomo.h5', 'S:\\\\QRAM\\\\qram_4QR2\\\\data\\\\data_241025\\\\00636_QramProtocol3QTomo.h5', 'S:\\\\QRAM\\\\qram_4QR2\\\\data\\\\data_241025\\\\00637_QramProtocol3QTomo.h5', 'S:\\\\QRAM\\\\qram_4QR2\\\\data\\\\data_241025\\\\00638_QramProtocol3QTomo.h5', 'S:\\\\QRAM\\\\qram_4QR2\\\\data\\\\data_241025\\\\00639_QramProtocol3QTomo.h5', 'S:\\\\QRAM\\\\qram_4QR2\\\\data\\\\data_241025\\\\00640_QramProtocol3QTomo.h5', 'S:\\\\QRAM\\\\qram_4QR2\\\\data\\\\data_241025\\\\00641_QramProtocol3QTomo.h5', 'S:\\\\QRAM\\\\qram_4QR2\\\\data\\\\data_241025\\\\00642_QramProtocol3QTomo.h5', 'S:\\\\QRAM\\\\qram_4QR2\\\\data\\\\data_241025\\\\00643_QramProtocol3QTomo.h5', 'S:\\\\QRAM\\\\qram_4QR2\\\\data\\\\data_241025\\\\00644_QramProtocol3QTomo.h5', 'S:\\\\QRAM\\\\qram_4QR2\\\\data\\\\data_241025\\\\00645_QramProtocol3QTomo.h5', 'S:\\\\QRAM\\\\qram_4QR2\\\\data\\\\data_241025\\\\00646_QramProtocol3QTomo.h5', 'S:\\\\QRAM\\\\qram_4QR2\\\\data\\\\data_241025\\\\00647_QramProtocol3QTomo.h5', 'S:\\\\QRAM\\\\qram_4QR2\\\\data\\\\data_241025\\\\00648_QramProtocol3QTomo.h5', 'S:\\\\QRAM\\\\qram_4QR2\\\\data\\\\data_241025\\\\00649_QramProtocol3QTomo.h5', 'S:\\\\QRAM\\\\qram_4QR2\\\\data\\\\data_241025\\\\00650_QramProtocol3QTomo.h5', 'S:\\\\QRAM\\\\qram_4QR2\\\\data\\\\data_241025\\\\00651_QramProtocol3QTomo.h5', 'S:\\\\QRAM\\\\qram_4QR2\\\\data\\\\data_241025\\\\00652_QramProtocol3QTomo.h5', 'S:\\\\QRAM\\\\qram_4QR2\\\\data\\\\data_241025\\\\00653_QramProtocol3QTomo.h5', 'S:\\\\QRAM\\\\qram_4QR2\\\\data\\\\data_241025\\\\00654_QramProtocol3QTomo.h5', 'S:\\\\QRAM\\\\qram_4QR2\\\\data\\\\data_241025\\\\00655_QramProtocol3QTomo.h5', 'S:\\\\QRAM\\\\qram_4QR2\\\\data\\\\data_241025\\\\00656_QramProtocol3QTomo.h5', 'S:\\\\QRAM\\\\qram_4QR2\\\\data\\\\data_241025\\\\00657_QramProtocol3QTomo.h5', 'S:\\\\QRAM\\\\qram_4QR2\\\\data\\\\data_241025\\\\00658_QramProtocol3QTomo.h5']\n"
     ]
    }
   ],
   "source": [
    "print('init_states =', init_states)\n",
    "print(saved_files)"
   ]
  },
  {
   "cell_type": "code",
   "execution_count": 444,
   "metadata": {
    "collapsed": true,
    "jupyter": {
     "outputs_hidden": true
    },
    "tags": []
   },
   "outputs": [
    {
     "name": "stderr",
     "output_type": "stream",
     "text": [
      "TqdmDeprecationWarning: This function will be removed in tqdm==5.0.0\n",
      "Please use `tqdm.notebook.tqdm` instead of `tqdm.tqdm_notebook`\n",
      " C:\\Users\\slab\\AppData\\Local\\Temp\\ipykernel_10520\\1847658743.py: 5"
     ]
    },
    {
     "data": {
      "application/vnd.jupyter.widget-view+json": {
       "model_id": "93711a3e74fd4e3d96d11740b2494576",
       "version_major": 2,
       "version_minor": 0
      },
      "text/plain": [
       "  0%|          | 0/4 [00:00<?, ?it/s]"
      ]
     },
     "metadata": {},
     "output_type": "display_data"
    },
    {
     "name": "stderr",
     "output_type": "stream",
     "text": [
      "TqdmDeprecationWarning: This function will be removed in tqdm==5.0.0\n",
      "Please use `tqdm.notebook.tqdm` instead of `tqdm.tqdm_notebook`\n",
      " C:\\Users\\slab\\AppData\\Local\\Temp\\ipykernel_10520\\1847658743.py: 6"
     ]
    },
    {
     "data": {
      "application/vnd.jupyter.widget-view+json": {
       "model_id": "162a63dcad354723b269cc9d2d58578b",
       "version_major": 2,
       "version_minor": 0
      },
      "text/plain": [
       "  0%|          | 0/4 [00:00<?, ?it/s]"
      ]
     },
     "metadata": {},
     "output_type": "display_data"
    },
    {
     "name": "stdout",
     "output_type": "stream",
     "text": [
      "S:\\QRAM\\qram_4QR2\\data\\data_241025\\00595_QramProtocol3QTomo.h5\n"
     ]
    },
    {
     "name": "stderr",
     "output_type": "stream",
     "text": [
      "DeprecationWarning: `product` is deprecated as of NumPy 1.25.0, and will be removed in NumPy 2.0. Please use `prod` instead.\n",
      " C:\\Users\\slab\\AppData\\Local\\Temp\\ipykernel_10520\\1887187011.py: 13"
     ]
    },
    {
     "name": "stdout",
     "output_type": "stream",
     "text": [
      "init state Q0 (switch) Q1 (input): |0+1>|1>\n",
      "S:\\QRAM\\qram_4QR2\\data\\data_241025\\00596_QramProtocol3QTomo.h5\n",
      "init state Q0 (switch) Q1 (input): |1>|0+1>\n",
      "S:\\QRAM\\qram_4QR2\\data\\data_241025\\00597_QramProtocol3QTomo.h5\n",
      "init state Q0 (switch) Q1 (input): |0>|0+1>\n",
      "S:\\QRAM\\qram_4QR2\\data\\data_241025\\00598_QramProtocol3QTomo.h5\n",
      "init state Q0 (switch) Q1 (input): |0+1>|0+1>\n",
      "S:\\QRAM\\qram_4QR2\\data\\data_241025\\00599_QramProtocol3QTomo.h5\n",
      "init state Q0 (switch) Q1 (input): |0+1>|1>\n",
      "S:\\QRAM\\qram_4QR2\\data\\data_241025\\00600_QramProtocol3QTomo.h5\n",
      "init state Q0 (switch) Q1 (input): |1>|0+1>\n",
      "S:\\QRAM\\qram_4QR2\\data\\data_241025\\00601_QramProtocol3QTomo.h5\n",
      "init state Q0 (switch) Q1 (input): |0>|0+1>\n",
      "S:\\QRAM\\qram_4QR2\\data\\data_241025\\00602_QramProtocol3QTomo.h5\n",
      "init state Q0 (switch) Q1 (input): |0+1>|0+1>\n",
      "S:\\QRAM\\qram_4QR2\\data\\data_241025\\00603_QramProtocol3QTomo.h5\n",
      "init state Q0 (switch) Q1 (input): |0+1>|1>\n",
      "S:\\QRAM\\qram_4QR2\\data\\data_241025\\00604_QramProtocol3QTomo.h5\n",
      "init state Q0 (switch) Q1 (input): |1>|0+1>\n",
      "S:\\QRAM\\qram_4QR2\\data\\data_241025\\00605_QramProtocol3QTomo.h5\n",
      "init state Q0 (switch) Q1 (input): |0>|0+1>\n",
      "S:\\QRAM\\qram_4QR2\\data\\data_241025\\00606_QramProtocol3QTomo.h5\n",
      "init state Q0 (switch) Q1 (input): |0+1>|0+1>\n",
      "S:\\QRAM\\qram_4QR2\\data\\data_241025\\00607_QramProtocol3QTomo.h5\n",
      "init state Q0 (switch) Q1 (input): |0+1>|1>\n",
      "S:\\QRAM\\qram_4QR2\\data\\data_241025\\00608_QramProtocol3QTomo.h5\n",
      "init state Q0 (switch) Q1 (input): |1>|0+1>\n",
      "S:\\QRAM\\qram_4QR2\\data\\data_241025\\00609_QramProtocol3QTomo.h5\n",
      "init state Q0 (switch) Q1 (input): |0>|0+1>\n",
      "S:\\QRAM\\qram_4QR2\\data\\data_241025\\00610_QramProtocol3QTomo.h5\n",
      "init state Q0 (switch) Q1 (input): |0+1>|0+1>\n"
     ]
    },
    {
     "data": {
      "application/vnd.jupyter.widget-view+json": {
       "model_id": "c151b1e7b35945c2a560305a76bd836c",
       "version_major": 2,
       "version_minor": 0
      },
      "text/plain": [
       "  0%|          | 0/4 [00:00<?, ?it/s]"
      ]
     },
     "metadata": {},
     "output_type": "display_data"
    },
    {
     "name": "stdout",
     "output_type": "stream",
     "text": [
      "S:\\QRAM\\qram_4QR2\\data\\data_241025\\00611_QramProtocol3QTomo.h5\n",
      "init state Q0 (switch) Q1 (input): |0+1>|1>\n",
      "S:\\QRAM\\qram_4QR2\\data\\data_241025\\00612_QramProtocol3QTomo.h5\n",
      "init state Q0 (switch) Q1 (input): |1>|0+1>\n",
      "S:\\QRAM\\qram_4QR2\\data\\data_241025\\00613_QramProtocol3QTomo.h5\n",
      "init state Q0 (switch) Q1 (input): |0>|0+1>\n",
      "S:\\QRAM\\qram_4QR2\\data\\data_241025\\00614_QramProtocol3QTomo.h5\n",
      "init state Q0 (switch) Q1 (input): |0+1>|0+1>\n",
      "S:\\QRAM\\qram_4QR2\\data\\data_241025\\00615_QramProtocol3QTomo.h5\n",
      "init state Q0 (switch) Q1 (input): |0+1>|1>\n",
      "S:\\QRAM\\qram_4QR2\\data\\data_241025\\00616_QramProtocol3QTomo.h5\n",
      "init state Q0 (switch) Q1 (input): |1>|0+1>\n",
      "S:\\QRAM\\qram_4QR2\\data\\data_241025\\00617_QramProtocol3QTomo.h5\n",
      "init state Q0 (switch) Q1 (input): |0>|0+1>\n",
      "S:\\QRAM\\qram_4QR2\\data\\data_241025\\00618_QramProtocol3QTomo.h5\n",
      "init state Q0 (switch) Q1 (input): |0+1>|0+1>\n",
      "S:\\QRAM\\qram_4QR2\\data\\data_241025\\00619_QramProtocol3QTomo.h5\n",
      "init state Q0 (switch) Q1 (input): |0+1>|1>\n",
      "S:\\QRAM\\qram_4QR2\\data\\data_241025\\00620_QramProtocol3QTomo.h5\n",
      "init state Q0 (switch) Q1 (input): |1>|0+1>\n",
      "S:\\QRAM\\qram_4QR2\\data\\data_241025\\00621_QramProtocol3QTomo.h5\n",
      "init state Q0 (switch) Q1 (input): |0>|0+1>\n",
      "S:\\QRAM\\qram_4QR2\\data\\data_241025\\00622_QramProtocol3QTomo.h5\n",
      "init state Q0 (switch) Q1 (input): |0+1>|0+1>\n",
      "S:\\QRAM\\qram_4QR2\\data\\data_241025\\00623_QramProtocol3QTomo.h5\n",
      "init state Q0 (switch) Q1 (input): |0+1>|1>\n",
      "S:\\QRAM\\qram_4QR2\\data\\data_241025\\00624_QramProtocol3QTomo.h5\n",
      "init state Q0 (switch) Q1 (input): |1>|0+1>\n",
      "S:\\QRAM\\qram_4QR2\\data\\data_241025\\00625_QramProtocol3QTomo.h5\n",
      "init state Q0 (switch) Q1 (input): |0>|0+1>\n",
      "S:\\QRAM\\qram_4QR2\\data\\data_241025\\00626_QramProtocol3QTomo.h5\n",
      "init state Q0 (switch) Q1 (input): |0+1>|0+1>\n"
     ]
    },
    {
     "data": {
      "application/vnd.jupyter.widget-view+json": {
       "model_id": "b5932b681793444f9bffb07abc32eacc",
       "version_major": 2,
       "version_minor": 0
      },
      "text/plain": [
       "  0%|          | 0/4 [00:00<?, ?it/s]"
      ]
     },
     "metadata": {},
     "output_type": "display_data"
    },
    {
     "name": "stdout",
     "output_type": "stream",
     "text": [
      "S:\\QRAM\\qram_4QR2\\data\\data_241025\\00627_QramProtocol3QTomo.h5\n",
      "init state Q0 (switch) Q1 (input): |0+1>|1>\n",
      "S:\\QRAM\\qram_4QR2\\data\\data_241025\\00628_QramProtocol3QTomo.h5\n",
      "init state Q0 (switch) Q1 (input): |1>|0+1>\n",
      "S:\\QRAM\\qram_4QR2\\data\\data_241025\\00629_QramProtocol3QTomo.h5\n",
      "init state Q0 (switch) Q1 (input): |0>|0+1>\n",
      "S:\\QRAM\\qram_4QR2\\data\\data_241025\\00630_QramProtocol3QTomo.h5\n",
      "init state Q0 (switch) Q1 (input): |0+1>|0+1>\n",
      "S:\\QRAM\\qram_4QR2\\data\\data_241025\\00631_QramProtocol3QTomo.h5\n",
      "init state Q0 (switch) Q1 (input): |0+1>|1>\n",
      "S:\\QRAM\\qram_4QR2\\data\\data_241025\\00632_QramProtocol3QTomo.h5\n",
      "init state Q0 (switch) Q1 (input): |1>|0+1>\n",
      "S:\\QRAM\\qram_4QR2\\data\\data_241025\\00633_QramProtocol3QTomo.h5\n",
      "init state Q0 (switch) Q1 (input): |0>|0+1>\n",
      "S:\\QRAM\\qram_4QR2\\data\\data_241025\\00634_QramProtocol3QTomo.h5\n",
      "init state Q0 (switch) Q1 (input): |0+1>|0+1>\n",
      "S:\\QRAM\\qram_4QR2\\data\\data_241025\\00635_QramProtocol3QTomo.h5\n",
      "init state Q0 (switch) Q1 (input): |0+1>|1>\n",
      "S:\\QRAM\\qram_4QR2\\data\\data_241025\\00636_QramProtocol3QTomo.h5\n",
      "init state Q0 (switch) Q1 (input): |1>|0+1>\n",
      "S:\\QRAM\\qram_4QR2\\data\\data_241025\\00637_QramProtocol3QTomo.h5\n",
      "init state Q0 (switch) Q1 (input): |0>|0+1>\n",
      "S:\\QRAM\\qram_4QR2\\data\\data_241025\\00638_QramProtocol3QTomo.h5\n",
      "init state Q0 (switch) Q1 (input): |0+1>|0+1>\n",
      "S:\\QRAM\\qram_4QR2\\data\\data_241025\\00639_QramProtocol3QTomo.h5\n",
      "init state Q0 (switch) Q1 (input): |0+1>|1>\n",
      "S:\\QRAM\\qram_4QR2\\data\\data_241025\\00640_QramProtocol3QTomo.h5\n",
      "init state Q0 (switch) Q1 (input): |1>|0+1>\n",
      "S:\\QRAM\\qram_4QR2\\data\\data_241025\\00641_QramProtocol3QTomo.h5\n",
      "init state Q0 (switch) Q1 (input): |0>|0+1>\n",
      "S:\\QRAM\\qram_4QR2\\data\\data_241025\\00642_QramProtocol3QTomo.h5\n",
      "init state Q0 (switch) Q1 (input): |0+1>|0+1>\n"
     ]
    },
    {
     "data": {
      "application/vnd.jupyter.widget-view+json": {
       "model_id": "f6c2a2b0b5fc4580ac0a364e52ce3703",
       "version_major": 2,
       "version_minor": 0
      },
      "text/plain": [
       "  0%|          | 0/4 [00:00<?, ?it/s]"
      ]
     },
     "metadata": {},
     "output_type": "display_data"
    },
    {
     "name": "stdout",
     "output_type": "stream",
     "text": [
      "S:\\QRAM\\qram_4QR2\\data\\data_241025\\00643_QramProtocol3QTomo.h5\n",
      "init state Q0 (switch) Q1 (input): |0+1>|1>\n",
      "S:\\QRAM\\qram_4QR2\\data\\data_241025\\00644_QramProtocol3QTomo.h5\n",
      "init state Q0 (switch) Q1 (input): |1>|0+1>\n",
      "S:\\QRAM\\qram_4QR2\\data\\data_241025\\00645_QramProtocol3QTomo.h5\n",
      "init state Q0 (switch) Q1 (input): |0>|0+1>\n",
      "S:\\QRAM\\qram_4QR2\\data\\data_241025\\00646_QramProtocol3QTomo.h5\n",
      "init state Q0 (switch) Q1 (input): |0+1>|0+1>\n",
      "S:\\QRAM\\qram_4QR2\\data\\data_241025\\00647_QramProtocol3QTomo.h5\n",
      "init state Q0 (switch) Q1 (input): |0+1>|1>\n",
      "S:\\QRAM\\qram_4QR2\\data\\data_241025\\00648_QramProtocol3QTomo.h5\n",
      "init state Q0 (switch) Q1 (input): |1>|0+1>\n",
      "S:\\QRAM\\qram_4QR2\\data\\data_241025\\00649_QramProtocol3QTomo.h5\n",
      "init state Q0 (switch) Q1 (input): |0>|0+1>\n",
      "S:\\QRAM\\qram_4QR2\\data\\data_241025\\00650_QramProtocol3QTomo.h5\n",
      "init state Q0 (switch) Q1 (input): |0+1>|0+1>\n",
      "S:\\QRAM\\qram_4QR2\\data\\data_241025\\00651_QramProtocol3QTomo.h5\n",
      "init state Q0 (switch) Q1 (input): |0+1>|1>\n",
      "S:\\QRAM\\qram_4QR2\\data\\data_241025\\00652_QramProtocol3QTomo.h5\n",
      "init state Q0 (switch) Q1 (input): |1>|0+1>\n",
      "S:\\QRAM\\qram_4QR2\\data\\data_241025\\00653_QramProtocol3QTomo.h5\n",
      "init state Q0 (switch) Q1 (input): |0>|0+1>\n",
      "S:\\QRAM\\qram_4QR2\\data\\data_241025\\00654_QramProtocol3QTomo.h5\n",
      "init state Q0 (switch) Q1 (input): |0+1>|0+1>\n",
      "S:\\QRAM\\qram_4QR2\\data\\data_241025\\00655_QramProtocol3QTomo.h5\n",
      "init state Q0 (switch) Q1 (input): |0+1>|1>\n",
      "S:\\QRAM\\qram_4QR2\\data\\data_241025\\00656_QramProtocol3QTomo.h5\n",
      "init state Q0 (switch) Q1 (input): |1>|0+1>\n",
      "S:\\QRAM\\qram_4QR2\\data\\data_241025\\00657_QramProtocol3QTomo.h5\n",
      "init state Q0 (switch) Q1 (input): |0>|0+1>\n",
      "S:\\QRAM\\qram_4QR2\\data\\data_241025\\00658_QramProtocol3QTomo.h5\n",
      "init state Q0 (switch) Q1 (input): |0+1>|0+1>\n"
     ]
    }
   ],
   "source": [
    "n_tomo_corrected_dict = dict()\n",
    "\n",
    "all_configs = dict()\n",
    "i_saved_file = 0\n",
    "for i_delay_2, delay_2 in enumerate(tqdm(delay_sweep_2)):\n",
    "    for i_delay_3, delay_3 in enumerate(tqdm(delay_sweep_3)):\n",
    "        for init_state in init_states:\n",
    "            saved_file = saved_files[i_saved_file]\n",
    "            print(saved_file)\n",
    "            data, attrs = prev_data(saved_file, None, verbose=False)\n",
    "            pulse_dict = attrs['pulse_dict']\n",
    "            cfg = AttrDict(attrs['config'])\n",
    "            assert cfg.expt.init_state == init_state\n",
    "            all_configs[init_state] = cfg\n",
    "            play_pulses = cfg.expt.play_pulses\n",
    "            print('init state Q0 (switch) Q1 (input):', init_state)\n",
    "            \n",
    "            n_tomo_raw, n_calib = tomo_analysis.n_tomo_calib_from_data(data, cfg, ps_adjust=ps_adjust, ps_qubits=ps_qubits, apply_ps=apply_ps, verbose=False)\n",
    "            n_tomo_corrected = tomo_analysis.correct_readout_err(n_tomo_raw, n_calib)\n",
    "            \n",
    "            if init_state not in n_tomo_corrected_dict.keys():\n",
    "                n_tomo_corrected_dict.update({init_state:np.zeros((len(delay_sweep_2), len(delay_sweep_3), 27, 8))})\n",
    "            \n",
    "            n_tomo_corrected_dict[init_state][i_delay_2, i_delay_3] = n_tomo_corrected\n",
    "            i_saved_file += 1\n",
    "\n",
    "init_states = np.copy(list(n_tomo_corrected_dict.keys()))"
   ]
  },
  {
   "cell_type": "code",
   "execution_count": 445,
   "metadata": {},
   "outputs": [
    {
     "name": "stdout",
     "output_type": "stream",
     "text": [
      "Saved n_tomo_corrected_dict for Q0 Q2 Q3 to file S:\\QRAM\\qram_4QR2\\data\\data_241025\\202412052137_ntomocorrected_3Q_023.npz\n"
     ]
    }
   ],
   "source": [
    "# SAVING MEASURED n_tomo_corrected\n",
    "n_tomo_corrected_dict.update({\"saved_files\":saved_files})\n",
    "n_tomo_corrected_dict.update({\"init_states\":list(init_states)})\n",
    "n_tomo_corrected_dict.update({\"all_configs\":all_configs})\n",
    "n_tomo_corrected_dict.update({\"delay_sweep_2\":delay_sweep_2})\n",
    "n_tomo_corrected_dict.update({\"delay_sweep_3\":delay_sweep_3})\n",
    "\n",
    "from datetime import datetime\n",
    "timestamp = datetime.now().strftime(\"%Y%m%d%H%M\")\n",
    "qA, qB, qC = tomo_qubits\n",
    "n_tomo_corrected_filepath = os.path.join(expt_path, f'{timestamp}_ntomocorrected_3Q_{qA}{qB}{qC}.npz')\n",
    "np.savez(n_tomo_corrected_filepath, **n_tomo_corrected_dict, allow_pickle=True)\n",
    "print(f'Saved n_tomo_corrected_dict for Q{qA} Q{qB} Q{qC} to file {n_tomo_corrected_filepath}')"
   ]
  },
  {
   "cell_type": "code",
   "execution_count": 428,
   "metadata": {},
   "outputs": [
    {
     "name": "stdout",
     "output_type": "stream",
     "text": [
      "Using rho_MLE_ZZ for Q0/Q1 from file S:\\QRAM\\qram_4QR2\\data\\data_241025\\202412051654_init_rhoMLE_ZZ_2Q_01.npz\n",
      "rho_MLE_ZZ_dict retrieved with init_states dict_keys(['|1>|0+1>', '|1>|0+i>', '|1>|1>', '|0>|0>', '|0>|1>', '|0>|0+1>', '|0>|0+i>', '|1>|0>', '|0+1>|0>', '|0+1>|1>', '|0+1>|0+1>', '|0+1>|0+i>', '|0+i>|0>', '|0+i>|1>', '|0+i>|0+1>', '|0+i>|0+i>'])\n"
     ]
    }
   ],
   "source": [
    "# RETRIEVE SAVED 2Q TOMO INITIAL STATES FROM MEASUREMENT\n",
    "# rho_MLE_ZZ_2Q_filepath = 'S:\\QRAM\\qram_4QR2\\data\\data_241025\\\\202411051014_init_rhoMLE_ZZ_2Q_01.npz'\n",
    "rho_MLE_ZZ_2Q_filepath = 'S:\\QRAM\\qram_4QR2\\data\\data_241025\\\\202412051654_init_rhoMLE_ZZ_2Q_01.npz'\n",
    "\n",
    "print(f'Using rho_MLE_ZZ for Q0/Q1 from file {rho_MLE_ZZ_2Q_filepath}')\n",
    "\n",
    "rho_MLE_ZZ_dict = dict()\n",
    "with np.load(rho_MLE_ZZ_2Q_filepath) as npzfile:\n",
    "    for key in npzfile.keys():\n",
    "        rho_MLE_ZZ_dict.update({key:npzfile[key]})\n",
    "print(f'rho_MLE_ZZ_dict retrieved with init_states {rho_MLE_ZZ_dict.keys()}')"
   ]
  },
  {
   "cell_type": "code",
   "execution_count": 429,
   "metadata": {},
   "outputs": [],
   "source": [
    "apply_ps = False\n",
    "ps_adjust = [-0.3, -1.0, -0.3, -0.3]\n",
    "# ps_adjust = [np.inf]*4\n",
    "ps_qubits = [0, 1, 2, 3]"
   ]
  },
  {
   "cell_type": "markdown",
   "metadata": {},
   "source": [
    "Reopening 3q tomo data"
   ]
  },
  {
   "cell_type": "code",
   "execution_count": 518,
   "metadata": {},
   "outputs": [
    {
     "name": "stdout",
     "output_type": "stream",
     "text": [
      "Using n_tomo_corrected_dict from file S:\\QRAM\\qram_4QR2\\data\\data_241025\\202412052137_ntomocorrected_3Q_023.npz\n",
      "n_tomo_corrected_dict retrieved with init_states\n",
      "['|0+1>|1>' '|1>|0+1>' '|0>|0+1>' '|0+1>|0+1>']\n",
      "play_pulses [2, 1, 4, 3]\n"
     ]
    }
   ],
   "source": [
    "# RETRIEVING MEASURED n_tomo_corrected\n",
    "n_tomo_corrected_filepath = \"S:\\QRAM\\qram_4QR2\\data\\data_241025\\\\202412052137_ntomocorrected_3Q_023.npz\"\n",
    "print(f\"Using n_tomo_corrected_dict from file {n_tomo_corrected_filepath}\")\n",
    "n_tomo_corrected_dict = dict()\n",
    "\n",
    "n_tomo_corrected_dict.update({\"saved_files\":saved_files})\n",
    "with np.load(n_tomo_corrected_filepath, allow_pickle=True) as npzfile:\n",
    "    for key in npzfile.keys():\n",
    "        n_tomo_corrected_dict.update({key:npzfile[key]})\n",
    "\n",
    "init_states = n_tomo_corrected_dict[\"init_states\"]\n",
    "\n",
    "print(f'n_tomo_corrected_dict retrieved with init_states\\n{init_states}')\n",
    "all_configs = n_tomo_corrected_dict[\"all_configs\"].item() #[0]\n",
    "# print(all_configs.keys())\n",
    "\n",
    "\n",
    "cfg = AttrDict(all_configs[init_states[0]])\n",
    "play_pulses = cfg.expt.play_pulses\n",
    "tomo_qubits = cfg.expt.tomo_qubits\n",
    "\n",
    "print(\"play_pulses\", play_pulses)"
   ]
  },
  {
   "cell_type": "markdown",
   "metadata": {},
   "source": [
    "Looping MLE"
   ]
  },
  {
   "cell_type": "code",
   "execution_count": 519,
   "metadata": {},
   "outputs": [],
   "source": [
    "use_init_2q_state = True"
   ]
  },
  {
   "cell_type": "code",
   "execution_count": 520,
   "metadata": {},
   "outputs": [],
   "source": [
    "rhos_base = []\n",
    "fidelities_base = []\n",
    "purities_base = []\n",
    "\n",
    "rhos_ZZ = []\n",
    "fidelities_ZZ = []\n",
    "purities_ZZ = []"
   ]
  },
  {
   "cell_type": "code",
   "execution_count": 521,
   "metadata": {},
   "outputs": [
    {
     "name": "stdout",
     "output_type": "stream",
     "text": [
      "init state (Q0 (switch) Q1 (input)): |0+1>|1>\n",
      "(4, 4, 27, 8)\n",
      "constructing final state on |switch, out1, out2>\n",
      "constructing final state on |switch, out1, out2>\n",
      "constructing final state on |switch, out1, out2>\n",
      "constructing final state on |switch, out1, out2>\n",
      "constructing final state on |switch, out1, out2>\n",
      "constructing final state on |switch, out1, out2>\n",
      "constructing final state on |switch, out1, out2>\n",
      "constructing final state on |switch, out1, out2>\n",
      "constructing final state on |switch, out1, out2>\n",
      "constructing final state on |switch, out1, out2>\n",
      "constructing final state on |switch, out1, out2>\n",
      "constructing final state on |switch, out1, out2>\n",
      "constructing final state on |switch, out1, out2>\n",
      "constructing final state on |switch, out1, out2>\n",
      "constructing final state on |switch, out1, out2>\n",
      "constructing final state on |switch, out1, out2>\n",
      "init state (Q0 (switch) Q1 (input)): |1>|0+1>\n",
      "(4, 4, 27, 8)\n",
      "constructing final state on |switch, out1, out2>\n",
      "constructing final state on |switch, out1, out2>\n",
      "constructing final state on |switch, out1, out2>\n",
      "constructing final state on |switch, out1, out2>\n",
      "constructing final state on |switch, out1, out2>\n",
      "constructing final state on |switch, out1, out2>\n",
      "constructing final state on |switch, out1, out2>\n",
      "constructing final state on |switch, out1, out2>\n",
      "constructing final state on |switch, out1, out2>\n",
      "constructing final state on |switch, out1, out2>\n",
      "constructing final state on |switch, out1, out2>\n",
      "constructing final state on |switch, out1, out2>\n",
      "constructing final state on |switch, out1, out2>\n",
      "constructing final state on |switch, out1, out2>\n",
      "constructing final state on |switch, out1, out2>\n",
      "constructing final state on |switch, out1, out2>\n",
      "init state (Q0 (switch) Q1 (input)): |0>|0+1>\n",
      "(4, 4, 27, 8)\n",
      "constructing final state on |switch, out1, out2>\n",
      "constructing final state on |switch, out1, out2>\n",
      "constructing final state on |switch, out1, out2>\n",
      "constructing final state on |switch, out1, out2>\n",
      "constructing final state on |switch, out1, out2>\n",
      "constructing final state on |switch, out1, out2>\n",
      "constructing final state on |switch, out1, out2>\n",
      "constructing final state on |switch, out1, out2>\n",
      "constructing final state on |switch, out1, out2>\n",
      "constructing final state on |switch, out1, out2>\n",
      "constructing final state on |switch, out1, out2>\n",
      "constructing final state on |switch, out1, out2>\n",
      "constructing final state on |switch, out1, out2>\n",
      "constructing final state on |switch, out1, out2>\n",
      "constructing final state on |switch, out1, out2>\n",
      "constructing final state on |switch, out1, out2>\n",
      "init state (Q0 (switch) Q1 (input)): |0+1>|0+1>\n",
      "(4, 4, 27, 8)\n",
      "constructing final state on |switch, out1, out2>\n",
      "constructing final state on |switch, out1, out2>\n",
      "constructing final state on |switch, out1, out2>\n",
      "constructing final state on |switch, out1, out2>\n",
      "constructing final state on |switch, out1, out2>\n",
      "constructing final state on |switch, out1, out2>\n",
      "constructing final state on |switch, out1, out2>\n",
      "constructing final state on |switch, out1, out2>\n",
      "constructing final state on |switch, out1, out2>\n",
      "constructing final state on |switch, out1, out2>\n",
      "constructing final state on |switch, out1, out2>\n",
      "constructing final state on |switch, out1, out2>\n",
      "constructing final state on |switch, out1, out2>\n",
      "constructing final state on |switch, out1, out2>\n",
      "constructing final state on |switch, out1, out2>\n",
      "constructing final state on |switch, out1, out2>\n"
     ]
    }
   ],
   "source": [
    "for init_state in init_states:\n",
    "    print('init state (Q0 (switch) Q1 (input)):', init_state)\n",
    "    n_tomo_corrected_delays = n_tomo_corrected_dict[init_state]\n",
    "    print(n_tomo_corrected_delays.shape)\n",
    "    \n",
    "    for i_delay_2, delay_2 in enumerate(delay_sweep_2):\n",
    "        for i_delay_3, delay_3 in enumerate(delay_sweep_3):\n",
    "            n_tomo_corrected = n_tomo_corrected_delays[i_delay_2, i_delay_3]\n",
    "            \n",
    "            if use_init_2q_state: init_rho = rho_MLE_ZZ_dict[init_state]\n",
    "            else: init_rho = qt.ket2dm(name_to_state_2q(init_state)).full()\n",
    "            rho_id = get_qram_qSLR_state_from_rho(init_rho)\n",
    "            \n",
    "            # ------------------------------ #\n",
    "            # Base MLE\n",
    "            # ------------------------------ #\n",
    "            \n",
    "            rho_MLE_base = tomo_analysis.get_rho_from_counts(\n",
    "                n_tomo_raw=n_tomo_corrected,\n",
    "                n_calib=None,\n",
    "                correct_readout=False,\n",
    "                correct_neg_counts=True,\n",
    "                method='analytical',\n",
    "                ZZ_correction=False,\n",
    "            )\n",
    "         \n",
    "            fid_base = qt.fidelity(qt.Qobj(rho_MLE_base, dims=rho_id.dims), rho_id)**2 # qutip uses N&C fidelity which is \"sqrt fidelity\"\n",
    "            purity_base = np.real(np.trace(rho_MLE_base @ rho_MLE_base))\n",
    "            purity_id = np.real(np.trace(rho_id.full() @ rho_id.full()))\n",
    "            \n",
    "            rhos_base.append(rho_MLE_base)\n",
    "            fidelities_base.append(fid_base)\n",
    "            purities_base.append(purity_base)\n",
    "            \n",
    "            rho_MLE = rho_MLE_base\n",
    "        \n",
    "            # ------------------------------ #\n",
    "            # MLE with ZZ\n",
    "            # ------------------------------ #\n",
    "        \n",
    "            rho_MLE_ZZ = tomo_analysis.get_rho_from_counts(\n",
    "                n_tomo_raw=n_tomo_corrected,\n",
    "                n_calib=None,\n",
    "                correct_readout=False,\n",
    "                correct_neg_counts=True,\n",
    "                method='analytical',\n",
    "                ZZ_correction=True,\n",
    "                evol_mats=evol_mats\n",
    "            )\n",
    "        \n",
    "            fid_ZZ = qt.fidelity(qt.Qobj(rho_MLE_ZZ, dims=rho_id.dims), rho_id)**2 # qutip uses N&C fidelity which is \"sqrt fidelity\"\n",
    "            purity_ZZ = np.real(np.trace(rho_MLE_ZZ @ rho_MLE_ZZ))\n",
    "            purity_id = np.real(np.trace(rho_id.full() @ rho_id.full()))\n",
    "        \n",
    "            rhos_ZZ.append(rho_MLE_ZZ)\n",
    "            fidelities_ZZ.append(fid_ZZ)\n",
    "            purities_ZZ.append(purity_ZZ)"
   ]
  },
  {
   "cell_type": "markdown",
   "metadata": {},
   "source": [
    "Run loop over virtual Z rotations"
   ]
  },
  {
   "cell_type": "code",
   "execution_count": 522,
   "metadata": {},
   "outputs": [],
   "source": [
    "use_ZZ_correction = True\n",
    "show_fids_grid = False"
   ]
  },
  {
   "cell_type": "code",
   "execution_count": 523,
   "metadata": {},
   "outputs": [],
   "source": [
    "fidelities_opt_rot = []\n",
    "all_best_phis = []\n",
    "saveplots = False\n",
    "# save_append = '_compareMeas'\n",
    "save_append = ''\n",
    "phis = [None, None, None]"
   ]
  },
  {
   "cell_type": "code",
   "execution_count": 524,
   "metadata": {},
   "outputs": [
    {
     "name": "stdout",
     "output_type": "stream",
     "text": [
      "[array([  0.,  20.,  40.,  60.,  80., 100., 120., 140., 160., 180., 200.,\n",
      "       220., 240., 260., 280., 300., 320., 340., 360.]), array([  0.,  20.,  40.,  60.,  80., 100., 120., 140., 160., 180., 200.,\n",
      "       220., 240., 260., 280., 300., 320., 340., 360.]), array([  0.,  20.,  40.,  60.,  80., 100., 120., 140., 160., 180., 200.,\n",
      "       220., 240., 260., 280., 300., 320., 340., 360.])]\n"
     ]
    }
   ],
   "source": [
    "phis[0] = np.linspace(0, 360, 19) # Q0\n",
    "phis[1] = np.linspace(0, 360, 19) # Q2\n",
    "phis[2] = np.linspace(0, 360, 19) # Q3\n",
    "\n",
    "print(phis)"
   ]
  },
  {
   "cell_type": "code",
   "execution_count": 525,
   "metadata": {
    "tags": []
   },
   "outputs": [
    {
     "name": "stdout",
     "output_type": "stream",
     "text": [
      "init state (Q0 (switch) Q1 (input)): |0+1>|1>\n",
      "constructing final state on |switch, out1, out2>\n"
     ]
    },
    {
     "data": {
      "application/vnd.jupyter.widget-view+json": {
       "model_id": "483dce25d91c4756b12fd0ea13ec0269",
       "version_major": 2,
       "version_minor": 0
      },
      "text/plain": [
       "  0%|          | 0/6859 [00:00<?, ?it/s]"
      ]
     },
     "metadata": {},
     "output_type": "display_data"
    },
    {
     "name": "stdout",
     "output_type": "stream",
     "text": [
      "Improved fidelity by (%) 69.57161952823967\n",
      "best_phis [ 80.  60. 220.]\n",
      "best_fid 0.9464743541936589\n",
      "constructing final state on |switch, out1, out2>\n"
     ]
    },
    {
     "data": {
      "application/vnd.jupyter.widget-view+json": {
       "model_id": "318f797448094c9db3618eeb729df3c0",
       "version_major": 2,
       "version_minor": 0
      },
      "text/plain": [
       "  0%|          | 0/6859 [00:00<?, ?it/s]"
      ]
     },
     "metadata": {},
     "output_type": "display_data"
    },
    {
     "name": "stdout",
     "output_type": "stream",
     "text": [
      "Improved fidelity by (%) 54.35342797186578\n",
      "best_phis [120. 240. 220.]\n",
      "best_fid 0.9678147868310295\n",
      "constructing final state on |switch, out1, out2>\n"
     ]
    },
    {
     "data": {
      "application/vnd.jupyter.widget-view+json": {
       "model_id": "23e1790025db4342870d8e9303b8bb57",
       "version_major": 2,
       "version_minor": 0
      },
      "text/plain": [
       "  0%|          | 0/6859 [00:00<?, ?it/s]"
      ]
     },
     "metadata": {},
     "output_type": "display_data"
    },
    {
     "name": "stdout",
     "output_type": "stream",
     "text": [
      "Improved fidelity by (%) 8.910655868182937\n",
      "best_phis [ 80.   0. 240.]\n",
      "best_fid 0.9592539995515423\n",
      "constructing final state on |switch, out1, out2>\n"
     ]
    },
    {
     "data": {
      "application/vnd.jupyter.widget-view+json": {
       "model_id": "a984eb7df535467b9dc83fb002284f04",
       "version_major": 2,
       "version_minor": 0
      },
      "text/plain": [
       "  0%|          | 0/6859 [00:00<?, ?it/s]"
      ]
     },
     "metadata": {},
     "output_type": "display_data"
    },
    {
     "name": "stdout",
     "output_type": "stream",
     "text": [
      "Improved fidelity by (%) 17.1291319082324\n",
      "best_phis [ 80. 360. 240.]\n",
      "best_fid 0.9651511785628528\n",
      "constructing final state on |switch, out1, out2>\n"
     ]
    },
    {
     "data": {
      "application/vnd.jupyter.widget-view+json": {
       "model_id": "db8b060c6ec44da2852f7c6da7f44b8c",
       "version_major": 2,
       "version_minor": 0
      },
      "text/plain": [
       "  0%|          | 0/6859 [00:00<?, ?it/s]"
      ]
     },
     "metadata": {},
     "output_type": "display_data"
    },
    {
     "name": "stdout",
     "output_type": "stream",
     "text": [
      "Improved fidelity by (%) 5.418638112893093\n",
      "best_phis [ 80. 300. 240.]\n",
      "best_fid 0.9785165811109282\n",
      "constructing final state on |switch, out1, out2>\n"
     ]
    },
    {
     "data": {
      "application/vnd.jupyter.widget-view+json": {
       "model_id": "89238accd31046f186f8af3fff3ab7bd",
       "version_major": 2,
       "version_minor": 0
      },
      "text/plain": [
       "  0%|          | 0/6859 [00:00<?, ?it/s]"
      ]
     },
     "metadata": {},
     "output_type": "display_data"
    },
    {
     "name": "stdout",
     "output_type": "stream",
     "text": [
      "Improved fidelity by (%) 69.45027644171743\n",
      "best_phis [ 20. 320. 180.]\n",
      "best_fid 0.9615479796070769\n",
      "constructing final state on |switch, out1, out2>\n"
     ]
    },
    {
     "data": {
      "application/vnd.jupyter.widget-view+json": {
       "model_id": "3b71c19189ae4c70b818f12664657685",
       "version_major": 2,
       "version_minor": 0
      },
      "text/plain": [
       "  0%|          | 0/6859 [00:00<?, ?it/s]"
      ]
     },
     "metadata": {},
     "output_type": "display_data"
    },
    {
     "name": "stdout",
     "output_type": "stream",
     "text": [
      "Improved fidelity by (%) 54.18229586005627\n",
      "best_phis [ 80. 240. 260.]\n",
      "best_fid 0.9756451970197361\n",
      "constructing final state on |switch, out1, out2>\n"
     ]
    },
    {
     "data": {
      "application/vnd.jupyter.widget-view+json": {
       "model_id": "c6fc7c4819884a90a49b5958bd2ef9c1",
       "version_major": 2,
       "version_minor": 0
      },
      "text/plain": [
       "  0%|          | 0/6859 [00:00<?, ?it/s]"
      ]
     },
     "metadata": {},
     "output_type": "display_data"
    },
    {
     "name": "stdout",
     "output_type": "stream",
     "text": [
      "Improved fidelity by (%) 44.335811124460065\n",
      "best_phis [100. 280. 260.]\n",
      "best_fid 0.9827928351440652\n",
      "constructing final state on |switch, out1, out2>\n"
     ]
    },
    {
     "data": {
      "application/vnd.jupyter.widget-view+json": {
       "model_id": "2da9ce3c7ae34af5800b5efa2a441890",
       "version_major": 2,
       "version_minor": 0
      },
      "text/plain": [
       "  0%|          | 0/6859 [00:00<?, ?it/s]"
      ]
     },
     "metadata": {},
     "output_type": "display_data"
    },
    {
     "name": "stdout",
     "output_type": "stream",
     "text": [
      "Improved fidelity by (%) 72.70224323552155\n",
      "best_phis [120. 200. 220.]\n",
      "best_fid 0.9352449485161002\n",
      "constructing final state on |switch, out1, out2>\n"
     ]
    },
    {
     "data": {
      "application/vnd.jupyter.widget-view+json": {
       "model_id": "8d5e35445ac045f39d9c22deef84c2c9",
       "version_major": 2,
       "version_minor": 0
      },
      "text/plain": [
       "  0%|          | 0/6859 [00:00<?, ?it/s]"
      ]
     },
     "metadata": {},
     "output_type": "display_data"
    },
    {
     "name": "stdout",
     "output_type": "stream",
     "text": [
      "Improved fidelity by (%) 5.061690660764673\n",
      "best_phis [ 20. 240. 220.]\n",
      "best_fid 0.8226961938561712\n",
      "constructing final state on |switch, out1, out2>\n"
     ]
    },
    {
     "data": {
      "application/vnd.jupyter.widget-view+json": {
       "model_id": "58c703f490ae4409ba26b192d0d9d180",
       "version_major": 2,
       "version_minor": 0
      },
      "text/plain": [
       "  0%|          | 0/6859 [00:00<?, ?it/s]"
      ]
     },
     "metadata": {},
     "output_type": "display_data"
    },
    {
     "name": "stdout",
     "output_type": "stream",
     "text": [
      "Improved fidelity by (%) 72.29883280040823\n",
      "best_phis [100. 120. 260.]\n",
      "best_fid 0.9683149052639912\n",
      "constructing final state on |switch, out1, out2>\n"
     ]
    },
    {
     "data": {
      "application/vnd.jupyter.widget-view+json": {
       "model_id": "5211e09b5cd24ec7b61533d25ea545c1",
       "version_major": 2,
       "version_minor": 0
      },
      "text/plain": [
       "  0%|          | 0/6859 [00:00<?, ?it/s]"
      ]
     },
     "metadata": {},
     "output_type": "display_data"
    },
    {
     "name": "stdout",
     "output_type": "stream",
     "text": [
      "Improved fidelity by (%) 49.679224587864496\n",
      "best_phis [100. 240. 240.]\n",
      "best_fid 0.9699234327898458\n",
      "constructing final state on |switch, out1, out2>\n"
     ]
    },
    {
     "data": {
      "application/vnd.jupyter.widget-view+json": {
       "model_id": "fdf4eab27d0d48dea69d2ea218d4bf44",
       "version_major": 2,
       "version_minor": 0
      },
      "text/plain": [
       "  0%|          | 0/6859 [00:00<?, ?it/s]"
      ]
     },
     "metadata": {},
     "output_type": "display_data"
    },
    {
     "name": "stdout",
     "output_type": "stream",
     "text": [
      "Improved fidelity by (%) 81.89775704814487\n",
      "best_phis [120. 220. 240.]\n",
      "best_fid 0.966131675243632\n",
      "constructing final state on |switch, out1, out2>\n"
     ]
    },
    {
     "data": {
      "application/vnd.jupyter.widget-view+json": {
       "model_id": "3822545ac95a488a9cc8e0dad592fdd6",
       "version_major": 2,
       "version_minor": 0
      },
      "text/plain": [
       "  0%|          | 0/6859 [00:00<?, ?it/s]"
      ]
     },
     "metadata": {},
     "output_type": "display_data"
    },
    {
     "name": "stdout",
     "output_type": "stream",
     "text": [
      "Improved fidelity by (%) 3.3928616331411754\n",
      "best_phis [ 80. 260. 180.]\n",
      "best_fid 0.9666905512257746\n",
      "constructing final state on |switch, out1, out2>\n"
     ]
    },
    {
     "data": {
      "application/vnd.jupyter.widget-view+json": {
       "model_id": "6c186d7e33b54f589e7de82eaccf4d91",
       "version_major": 2,
       "version_minor": 0
      },
      "text/plain": [
       "  0%|          | 0/6859 [00:00<?, ?it/s]"
      ]
     },
     "metadata": {},
     "output_type": "display_data"
    },
    {
     "name": "stdout",
     "output_type": "stream",
     "text": [
      "Improved fidelity by (%) 4.598378094693856\n",
      "best_phis [120. 320. 200.]\n",
      "best_fid 0.9678292101416027\n",
      "constructing final state on |switch, out1, out2>\n"
     ]
    },
    {
     "data": {
      "application/vnd.jupyter.widget-view+json": {
       "model_id": "660609a5bb8941e1a663631ce5667ad9",
       "version_major": 2,
       "version_minor": 0
      },
      "text/plain": [
       "  0%|          | 0/6859 [00:00<?, ?it/s]"
      ]
     },
     "metadata": {},
     "output_type": "display_data"
    },
    {
     "name": "stdout",
     "output_type": "stream",
     "text": [
      "Improved fidelity by (%) 79.1371933489618\n",
      "best_phis [120. 160. 260.]\n",
      "best_fid 0.9556724878042178\n",
      "init state (Q0 (switch) Q1 (input)): |1>|0+1>\n",
      "constructing final state on |switch, out1, out2>\n"
     ]
    },
    {
     "data": {
      "application/vnd.jupyter.widget-view+json": {
       "model_id": "7884f97582d546709903d07359855953",
       "version_major": 2,
       "version_minor": 0
      },
      "text/plain": [
       "  0%|          | 0/6859 [00:00<?, ?it/s]"
      ]
     },
     "metadata": {},
     "output_type": "display_data"
    },
    {
     "name": "stdout",
     "output_type": "stream",
     "text": [
      "Improved fidelity by (%) 75.39690790843116\n",
      "best_phis [360. 280. 160.]\n",
      "best_fid 0.9515507149589397\n",
      "constructing final state on |switch, out1, out2>\n"
     ]
    },
    {
     "data": {
      "application/vnd.jupyter.widget-view+json": {
       "model_id": "1ac6125eb6e648ca8b604556a9ffa74a",
       "version_major": 2,
       "version_minor": 0
      },
      "text/plain": [
       "  0%|          | 0/6859 [00:00<?, ?it/s]"
      ]
     },
     "metadata": {},
     "output_type": "display_data"
    },
    {
     "name": "stdout",
     "output_type": "stream",
     "text": [
      "Improved fidelity by (%) 14.868301145940755\n",
      "best_phis [360. 280.  40.]\n",
      "best_fid 0.9432201064375035\n",
      "constructing final state on |switch, out1, out2>\n"
     ]
    },
    {
     "data": {
      "application/vnd.jupyter.widget-view+json": {
       "model_id": "9a88e00de03f4b38b192bb04629f0ed8",
       "version_major": 2,
       "version_minor": 0
      },
      "text/plain": [
       "  0%|          | 0/6859 [00:00<?, ?it/s]"
      ]
     },
     "metadata": {},
     "output_type": "display_data"
    },
    {
     "name": "stdout",
     "output_type": "stream",
     "text": [
      "Improved fidelity by (%) 28.772033791111518\n",
      "best_phis [300. 240. 280.]\n",
      "best_fid 0.9049096757610491\n",
      "constructing final state on |switch, out1, out2>\n"
     ]
    },
    {
     "data": {
      "application/vnd.jupyter.widget-view+json": {
       "model_id": "42b479dd58d3424a85675657163953fd",
       "version_major": 2,
       "version_minor": 0
      },
      "text/plain": [
       "  0%|          | 0/6859 [00:00<?, ?it/s]"
      ]
     },
     "metadata": {},
     "output_type": "display_data"
    },
    {
     "name": "stdout",
     "output_type": "stream",
     "text": [
      "Improved fidelity by (%) 51.186590283111265\n",
      "best_phis [360. 280. 240.]\n",
      "best_fid 0.933857916066364\n",
      "constructing final state on |switch, out1, out2>\n"
     ]
    },
    {
     "data": {
      "application/vnd.jupyter.widget-view+json": {
       "model_id": "3a58027c95ee4d96a6bcd4c6a7b6828b",
       "version_major": 2,
       "version_minor": 0
      },
      "text/plain": [
       "  0%|          | 0/6859 [00:00<?, ?it/s]"
      ]
     },
     "metadata": {},
     "output_type": "display_data"
    },
    {
     "name": "stdout",
     "output_type": "stream",
     "text": [
      "Improved fidelity by (%) 82.08916375110903\n",
      "best_phis [340. 120. 180.]\n",
      "best_fid 0.9448041088560728\n",
      "constructing final state on |switch, out1, out2>\n"
     ]
    },
    {
     "data": {
      "application/vnd.jupyter.widget-view+json": {
       "model_id": "1de8ad6817b14f3093253677eb553d40",
       "version_major": 2,
       "version_minor": 0
      },
      "text/plain": [
       "  0%|          | 0/6859 [00:00<?, ?it/s]"
      ]
     },
     "metadata": {},
     "output_type": "display_data"
    },
    {
     "name": "stdout",
     "output_type": "stream",
     "text": [
      "Improved fidelity by (%) 20.884564665462367\n",
      "best_phis [360. 160.  60.]\n",
      "best_fid 0.9458840199905241\n",
      "constructing final state on |switch, out1, out2>\n"
     ]
    },
    {
     "data": {
      "application/vnd.jupyter.widget-view+json": {
       "model_id": "f2951404a7574e078dcc77661ee47c1e",
       "version_major": 2,
       "version_minor": 0
      },
      "text/plain": [
       "  0%|          | 0/6859 [00:00<?, ?it/s]"
      ]
     },
     "metadata": {},
     "output_type": "display_data"
    },
    {
     "name": "stdout",
     "output_type": "stream",
     "text": [
      "Improved fidelity by (%) 41.316817480692116\n",
      "best_phis [340. 140. 260.]\n",
      "best_fid 0.9379000219554277\n",
      "constructing final state on |switch, out1, out2>\n"
     ]
    },
    {
     "data": {
      "application/vnd.jupyter.widget-view+json": {
       "model_id": "8d098f24b11d403ba1e9f0eeb0079372",
       "version_major": 2,
       "version_minor": 0
      },
      "text/plain": [
       "  0%|          | 0/6859 [00:00<?, ?it/s]"
      ]
     },
     "metadata": {},
     "output_type": "display_data"
    },
    {
     "name": "stdout",
     "output_type": "stream",
     "text": [
      "Improved fidelity by (%) 51.17558864884205\n",
      "best_phis [340. 140. 260.]\n",
      "best_fid 0.9307507020731917\n",
      "constructing final state on |switch, out1, out2>\n"
     ]
    },
    {
     "data": {
      "application/vnd.jupyter.widget-view+json": {
       "model_id": "75a6a6402c6a42f6987dde027dd50e1f",
       "version_major": 2,
       "version_minor": 0
      },
      "text/plain": [
       "  0%|          | 0/6859 [00:00<?, ?it/s]"
      ]
     },
     "metadata": {},
     "output_type": "display_data"
    },
    {
     "name": "stdout",
     "output_type": "stream",
     "text": [
      "Improved fidelity by (%) 76.68333158208551\n",
      "best_phis [ 20.  20. 160.]\n",
      "best_fid 0.934672337605384\n",
      "constructing final state on |switch, out1, out2>\n"
     ]
    },
    {
     "data": {
      "application/vnd.jupyter.widget-view+json": {
       "model_id": "2253e67bb4cf4ec98d834e7d01f9acd7",
       "version_major": 2,
       "version_minor": 0
      },
      "text/plain": [
       "  0%|          | 0/6859 [00:00<?, ?it/s]"
      ]
     },
     "metadata": {},
     "output_type": "display_data"
    },
    {
     "name": "stdout",
     "output_type": "stream",
     "text": [
      "Improved fidelity by (%) 12.282659381723704\n",
      "best_phis [340.  20.  40.]\n",
      "best_fid 0.93806597084795\n",
      "constructing final state on |switch, out1, out2>\n"
     ]
    },
    {
     "data": {
      "application/vnd.jupyter.widget-view+json": {
       "model_id": "abd1afd31f15405d827c5b989f7bef60",
       "version_major": 2,
       "version_minor": 0
      },
      "text/plain": [
       "  0%|          | 0/6859 [00:00<?, ?it/s]"
      ]
     },
     "metadata": {},
     "output_type": "display_data"
    },
    {
     "name": "stdout",
     "output_type": "stream",
     "text": [
      "Improved fidelity by (%) 34.77746043644208\n",
      "best_phis [300. 340. 280.]\n",
      "best_fid 0.9390550434460537\n",
      "constructing final state on |switch, out1, out2>\n"
     ]
    },
    {
     "data": {
      "application/vnd.jupyter.widget-view+json": {
       "model_id": "354677b8d40940be8e79d3d506554c12",
       "version_major": 2,
       "version_minor": 0
      },
      "text/plain": [
       "  0%|          | 0/6859 [00:00<?, ?it/s]"
      ]
     },
     "metadata": {},
     "output_type": "display_data"
    },
    {
     "name": "stdout",
     "output_type": "stream",
     "text": [
      "Improved fidelity by (%) 66.4691256897408\n",
      "best_phis [ 20.  40. 120.]\n",
      "best_fid 0.9541081887660188\n",
      "constructing final state on |switch, out1, out2>\n"
     ]
    },
    {
     "data": {
      "application/vnd.jupyter.widget-view+json": {
       "model_id": "8079f6a4f08a430e9df0c5bc43335d47",
       "version_major": 2,
       "version_minor": 0
      },
      "text/plain": [
       "  0%|          | 0/6859 [00:00<?, ?it/s]"
      ]
     },
     "metadata": {},
     "output_type": "display_data"
    },
    {
     "name": "stdout",
     "output_type": "stream",
     "text": [
      "Improved fidelity by (%) 79.87774671610751\n",
      "best_phis [360. 360. 160.]\n",
      "best_fid 0.9529172432566263\n",
      "constructing final state on |switch, out1, out2>\n"
     ]
    },
    {
     "data": {
      "application/vnd.jupyter.widget-view+json": {
       "model_id": "ffff3ae4be504fe1a9081d283c01bd5c",
       "version_major": 2,
       "version_minor": 0
      },
      "text/plain": [
       "  0%|          | 0/6859 [00:00<?, ?it/s]"
      ]
     },
     "metadata": {},
     "output_type": "display_data"
    },
    {
     "name": "stdout",
     "output_type": "stream",
     "text": [
      "Improved fidelity by (%) 14.067374882771421\n",
      "best_phis [20. 40. 40.]\n",
      "best_fid 0.9327840516260442\n",
      "constructing final state on |switch, out1, out2>\n"
     ]
    },
    {
     "data": {
      "application/vnd.jupyter.widget-view+json": {
       "model_id": "051ed967ccf04ca18254e26cf9cac3a0",
       "version_major": 2,
       "version_minor": 0
      },
      "text/plain": [
       "  0%|          | 0/6859 [00:00<?, ?it/s]"
      ]
     },
     "metadata": {},
     "output_type": "display_data"
    },
    {
     "name": "stdout",
     "output_type": "stream",
     "text": [
      "Improved fidelity by (%) 33.52511156694942\n",
      "best_phis [340. 240. 280.]\n",
      "best_fid 0.921350781755242\n",
      "constructing final state on |switch, out1, out2>\n"
     ]
    },
    {
     "data": {
      "application/vnd.jupyter.widget-view+json": {
       "model_id": "9eff0b05cdd24aef946804d42bb7c511",
       "version_major": 2,
       "version_minor": 0
      },
      "text/plain": [
       "  0%|          | 0/6859 [00:00<?, ?it/s]"
      ]
     },
     "metadata": {},
     "output_type": "display_data"
    },
    {
     "name": "stdout",
     "output_type": "stream",
     "text": [
      "Improved fidelity by (%) 42.84487321202017\n",
      "best_phis [340. 360. 260.]\n",
      "best_fid 0.9259578752512846\n",
      "init state (Q0 (switch) Q1 (input)): |0>|0+1>\n",
      "constructing final state on |switch, out1, out2>\n"
     ]
    },
    {
     "data": {
      "application/vnd.jupyter.widget-view+json": {
       "model_id": "87bf635483a2496a8725ce455ae88c27",
       "version_major": 2,
       "version_minor": 0
      },
      "text/plain": [
       "  0%|          | 0/6859 [00:00<?, ?it/s]"
      ]
     },
     "metadata": {},
     "output_type": "display_data"
    },
    {
     "name": "stdout",
     "output_type": "stream",
     "text": [
      "Improved fidelity by (%) 20.49089277265782\n",
      "best_phis [  0. 300. 340.]\n",
      "best_fid 0.9397089851847279\n",
      "constructing final state on |switch, out1, out2>\n"
     ]
    },
    {
     "data": {
      "application/vnd.jupyter.widget-view+json": {
       "model_id": "6b4b880cdee14dc1baa399fb007a9b49",
       "version_major": 2,
       "version_minor": 0
      },
      "text/plain": [
       "  0%|          | 0/6859 [00:00<?, ?it/s]"
      ]
     },
     "metadata": {},
     "output_type": "display_data"
    },
    {
     "name": "stdout",
     "output_type": "stream",
     "text": [
      "Improved fidelity by (%) 18.945263555107584\n",
      "best_phis [ 60. 300. 180.]\n",
      "best_fid 0.9235435117412887\n",
      "constructing final state on |switch, out1, out2>\n"
     ]
    },
    {
     "data": {
      "application/vnd.jupyter.widget-view+json": {
       "model_id": "31288d97fc4c458d86c2bbf547fc33d5",
       "version_major": 2,
       "version_minor": 0
      },
      "text/plain": [
       "  0%|          | 0/6859 [00:00<?, ?it/s]"
      ]
     },
     "metadata": {},
     "output_type": "display_data"
    },
    {
     "name": "stdout",
     "output_type": "stream",
     "text": [
      "Improved fidelity by (%) 21.862337115853382\n",
      "best_phis [340. 300.  60.]\n",
      "best_fid 0.9165296283094527\n",
      "constructing final state on |switch, out1, out2>\n"
     ]
    },
    {
     "data": {
      "application/vnd.jupyter.widget-view+json": {
       "model_id": "dbca542c2aba416989b7a6e5eea25ce2",
       "version_major": 2,
       "version_minor": 0
      },
      "text/plain": [
       "  0%|          | 0/6859 [00:00<?, ?it/s]"
      ]
     },
     "metadata": {},
     "output_type": "display_data"
    },
    {
     "name": "stdout",
     "output_type": "stream",
     "text": [
      "Improved fidelity by (%) 19.857607731125736\n",
      "best_phis [320. 300.  40.]\n",
      "best_fid 0.9420496283049521\n",
      "constructing final state on |switch, out1, out2>\n"
     ]
    },
    {
     "data": {
      "application/vnd.jupyter.widget-view+json": {
       "model_id": "f2d46c2d763a485cad72bdc5abf87114",
       "version_major": 2,
       "version_minor": 0
      },
      "text/plain": [
       "  0%|          | 0/6859 [00:00<?, ?it/s]"
      ]
     },
     "metadata": {},
     "output_type": "display_data"
    },
    {
     "name": "stdout",
     "output_type": "stream",
     "text": [
      "Improved fidelity by (%) 82.23371836533006\n",
      "best_phis [200. 160. 320.]\n",
      "best_fid 0.910861251387021\n",
      "constructing final state on |switch, out1, out2>\n"
     ]
    },
    {
     "data": {
      "application/vnd.jupyter.widget-view+json": {
       "model_id": "aa143c5a78ec45e1afa2907020ecd66f",
       "version_major": 2,
       "version_minor": 0
      },
      "text/plain": [
       "  0%|          | 0/6859 [00:00<?, ?it/s]"
      ]
     },
     "metadata": {},
     "output_type": "display_data"
    },
    {
     "name": "stdout",
     "output_type": "stream",
     "text": [
      "Improved fidelity by (%) 86.150544745139\n",
      "best_phis [360. 160. 200.]\n",
      "best_fid 0.9258563915010216\n",
      "constructing final state on |switch, out1, out2>\n"
     ]
    },
    {
     "data": {
      "application/vnd.jupyter.widget-view+json": {
       "model_id": "7f78b57a05d44eb7ba878327c1a96661",
       "version_major": 2,
       "version_minor": 0
      },
      "text/plain": [
       "  0%|          | 0/6859 [00:00<?, ?it/s]"
      ]
     },
     "metadata": {},
     "output_type": "display_data"
    },
    {
     "name": "stdout",
     "output_type": "stream",
     "text": [
      "Improved fidelity by (%) 83.8697677912269\n",
      "best_phis [280. 160.  80.]\n",
      "best_fid 0.9176764063425796\n",
      "constructing final state on |switch, out1, out2>\n"
     ]
    },
    {
     "data": {
      "application/vnd.jupyter.widget-view+json": {
       "model_id": "4f402a013a3f474b936fe21a1e181baa",
       "version_major": 2,
       "version_minor": 0
      },
      "text/plain": [
       "  0%|          | 0/6859 [00:00<?, ?it/s]"
      ]
     },
     "metadata": {},
     "output_type": "display_data"
    },
    {
     "name": "stdout",
     "output_type": "stream",
     "text": [
      "Improved fidelity by (%) 83.97630022112507\n",
      "best_phis [ 60. 160.  40.]\n",
      "best_fid 0.925932053413862\n",
      "constructing final state on |switch, out1, out2>\n"
     ]
    },
    {
     "data": {
      "application/vnd.jupyter.widget-view+json": {
       "model_id": "fe981d952eea4053bfdccf78ca1a8780",
       "version_major": 2,
       "version_minor": 0
      },
      "text/plain": [
       "  0%|          | 0/6859 [00:00<?, ?it/s]"
      ]
     },
     "metadata": {},
     "output_type": "display_data"
    },
    {
     "name": "stdout",
     "output_type": "stream",
     "text": [
      "Improved fidelity by (%) 12.249164670994972\n",
      "best_phis [200.  40. 320.]\n",
      "best_fid 0.9526948532695475\n",
      "constructing final state on |switch, out1, out2>\n"
     ]
    },
    {
     "data": {
      "application/vnd.jupyter.widget-view+json": {
       "model_id": "ca8b0ffed3aa43558eb34f8abda52af0",
       "version_major": 2,
       "version_minor": 0
      },
      "text/plain": [
       "  0%|          | 0/6859 [00:00<?, ?it/s]"
      ]
     },
     "metadata": {},
     "output_type": "display_data"
    },
    {
     "name": "stdout",
     "output_type": "stream",
     "text": [
      "Improved fidelity by (%) 9.58233502396032\n",
      "best_phis [ 40.  40. 180.]\n",
      "best_fid 0.9398523714021492\n",
      "constructing final state on |switch, out1, out2>\n"
     ]
    },
    {
     "data": {
      "application/vnd.jupyter.widget-view+json": {
       "model_id": "c51bbe82473c484ebc4281a28d8d60cb",
       "version_major": 2,
       "version_minor": 0
      },
      "text/plain": [
       "  0%|          | 0/6859 [00:00<?, ?it/s]"
      ]
     },
     "metadata": {},
     "output_type": "display_data"
    },
    {
     "name": "stdout",
     "output_type": "stream",
     "text": [
      "Improved fidelity by (%) 9.559792062863659\n",
      "best_phis [120.  40.  60.]\n",
      "best_fid 0.9498542873632455\n",
      "constructing final state on |switch, out1, out2>\n"
     ]
    },
    {
     "data": {
      "application/vnd.jupyter.widget-view+json": {
       "model_id": "19139d819def49d6b2a5e9a41e7fd337",
       "version_major": 2,
       "version_minor": 0
      },
      "text/plain": [
       "  0%|          | 0/6859 [00:00<?, ?it/s]"
      ]
     },
     "metadata": {},
     "output_type": "display_data"
    },
    {
     "name": "stdout",
     "output_type": "stream",
     "text": [
      "Improved fidelity by (%) 10.450863739869465\n",
      "best_phis [340.  40. 220.]\n",
      "best_fid 0.9695396010717966\n",
      "constructing final state on |switch, out1, out2>\n"
     ]
    },
    {
     "data": {
      "application/vnd.jupyter.widget-view+json": {
       "model_id": "f21db4095a304cfc8d956e00be28fd83",
       "version_major": 2,
       "version_minor": 0
      },
      "text/plain": [
       "  0%|          | 0/6859 [00:00<?, ?it/s]"
      ]
     },
     "metadata": {},
     "output_type": "display_data"
    },
    {
     "name": "stdout",
     "output_type": "stream",
     "text": [
      "Improved fidelity by (%) 8.96439285966163\n",
      "best_phis [  0.  40. 300.]\n",
      "best_fid 0.9548969367168885\n",
      "constructing final state on |switch, out1, out2>\n"
     ]
    },
    {
     "data": {
      "application/vnd.jupyter.widget-view+json": {
       "model_id": "6213c79d87ac457eb10e059ccc46e2e1",
       "version_major": 2,
       "version_minor": 0
      },
      "text/plain": [
       "  0%|          | 0/6859 [00:00<?, ?it/s]"
      ]
     },
     "metadata": {},
     "output_type": "display_data"
    },
    {
     "name": "stdout",
     "output_type": "stream",
     "text": [
      "Improved fidelity by (%) 10.025512917136137\n",
      "best_phis [300.  40. 160.]\n",
      "best_fid 0.9374452494335679\n",
      "constructing final state on |switch, out1, out2>\n"
     ]
    },
    {
     "data": {
      "application/vnd.jupyter.widget-view+json": {
       "model_id": "df22162594784c2c96e5a045fad6cbe8",
       "version_major": 2,
       "version_minor": 0
      },
      "text/plain": [
       "  0%|          | 0/6859 [00:00<?, ?it/s]"
      ]
     },
     "metadata": {},
     "output_type": "display_data"
    },
    {
     "name": "stdout",
     "output_type": "stream",
     "text": [
      "Improved fidelity by (%) 40.44516949198715\n",
      "best_phis [ 80. 260.  60.]\n",
      "best_fid 0.8820990824390375\n",
      "constructing final state on |switch, out1, out2>\n"
     ]
    },
    {
     "data": {
      "application/vnd.jupyter.widget-view+json": {
       "model_id": "be57597724cc4c8b9acb8a9ca9c53a01",
       "version_major": 2,
       "version_minor": 0
      },
      "text/plain": [
       "  0%|          | 0/6859 [00:00<?, ?it/s]"
      ]
     },
     "metadata": {},
     "output_type": "display_data"
    },
    {
     "name": "stdout",
     "output_type": "stream",
     "text": [
      "Improved fidelity by (%) 9.332450295514505\n",
      "best_phis [ 0. 40. 40.]\n",
      "best_fid 0.9560415304945051\n",
      "init state (Q0 (switch) Q1 (input)): |0+1>|0+1>\n",
      "constructing final state on |switch, out1, out2>\n"
     ]
    },
    {
     "data": {
      "application/vnd.jupyter.widget-view+json": {
       "model_id": "2ecebb5140774463a6da9708bec8f24c",
       "version_major": 2,
       "version_minor": 0
      },
      "text/plain": [
       "  0%|          | 0/6859 [00:00<?, ?it/s]"
      ]
     },
     "metadata": {},
     "output_type": "display_data"
    },
    {
     "name": "stdout",
     "output_type": "stream",
     "text": [
      "Improved fidelity by (%) 52.15365131808968\n",
      "best_phis [  0. 300. 220.]\n",
      "best_fid 0.9354461597535638\n",
      "constructing final state on |switch, out1, out2>\n"
     ]
    },
    {
     "data": {
      "application/vnd.jupyter.widget-view+json": {
       "model_id": "d2a0daccbf4f4e5993d1cd8aba3e1c03",
       "version_major": 2,
       "version_minor": 0
      },
      "text/plain": [
       "  0%|          | 0/6859 [00:00<?, ?it/s]"
      ]
     },
     "metadata": {},
     "output_type": "display_data"
    },
    {
     "name": "stdout",
     "output_type": "stream",
     "text": [
      "Improved fidelity by (%) 49.00489125968747\n",
      "best_phis [  0. 300.  80.]\n",
      "best_fid 0.9381499158446461\n",
      "constructing final state on |switch, out1, out2>\n"
     ]
    },
    {
     "data": {
      "application/vnd.jupyter.widget-view+json": {
       "model_id": "675b3d2242e34f74bf5c39bdc68ab017",
       "version_major": 2,
       "version_minor": 0
      },
      "text/plain": [
       "  0%|          | 0/6859 [00:00<?, ?it/s]"
      ]
     },
     "metadata": {},
     "output_type": "display_data"
    },
    {
     "name": "stdout",
     "output_type": "stream",
     "text": [
      "Improved fidelity by (%) 16.892432204740814\n",
      "best_phis [  0. 300. 320.]\n",
      "best_fid 0.9386894678894123\n",
      "constructing final state on |switch, out1, out2>\n"
     ]
    },
    {
     "data": {
      "application/vnd.jupyter.widget-view+json": {
       "model_id": "e4ca6cae5b1f4c08bbfd515f776d1750",
       "version_major": 2,
       "version_minor": 0
      },
      "text/plain": [
       "  0%|          | 0/6859 [00:00<?, ?it/s]"
      ]
     },
     "metadata": {},
     "output_type": "display_data"
    },
    {
     "name": "stdout",
     "output_type": "stream",
     "text": [
      "Improved fidelity by (%) 17.610882550262208\n",
      "best_phis [  0. 300. 300.]\n",
      "best_fid 0.9161448703970295\n",
      "constructing final state on |switch, out1, out2>\n"
     ]
    },
    {
     "data": {
      "application/vnd.jupyter.widget-view+json": {
       "model_id": "77d3cfba00454200ab8525f8c27f18b6",
       "version_major": 2,
       "version_minor": 0
      },
      "text/plain": [
       "  0%|          | 0/6859 [00:00<?, ?it/s]"
      ]
     },
     "metadata": {},
     "output_type": "display_data"
    },
    {
     "name": "stdout",
     "output_type": "stream",
     "text": [
      "Improved fidelity by (%) 92.22252537565265\n",
      "best_phis [360. 160. 220.]\n",
      "best_fid 0.9604300819343182\n",
      "constructing final state on |switch, out1, out2>\n"
     ]
    },
    {
     "data": {
      "application/vnd.jupyter.widget-view+json": {
       "model_id": "7ee1ce5625ae4528b28143824c29f76c",
       "version_major": 2,
       "version_minor": 0
      },
      "text/plain": [
       "  0%|          | 0/6859 [00:00<?, ?it/s]"
      ]
     },
     "metadata": {},
     "output_type": "display_data"
    },
    {
     "name": "stdout",
     "output_type": "stream",
     "text": [
      "Improved fidelity by (%) 74.70365297231847\n",
      "best_phis [  0. 160.  80.]\n",
      "best_fid 0.9567416219500195\n",
      "constructing final state on |switch, out1, out2>\n"
     ]
    },
    {
     "data": {
      "application/vnd.jupyter.widget-view+json": {
       "model_id": "8da8d074ad6b49368d434c5eb6c3ea4e",
       "version_major": 2,
       "version_minor": 0
      },
      "text/plain": [
       "  0%|          | 0/6859 [00:00<?, ?it/s]"
      ]
     },
     "metadata": {},
     "output_type": "display_data"
    },
    {
     "name": "stdout",
     "output_type": "stream",
     "text": [
      "Improved fidelity by (%) 70.7238029760121\n",
      "best_phis [360. 160. 320.]\n",
      "best_fid 0.9513938836623698\n",
      "constructing final state on |switch, out1, out2>\n"
     ]
    },
    {
     "data": {
      "application/vnd.jupyter.widget-view+json": {
       "model_id": "f616380aaba8492c84bac3d8e39a020b",
       "version_major": 2,
       "version_minor": 0
      },
      "text/plain": [
       "  0%|          | 0/6859 [00:00<?, ?it/s]"
      ]
     },
     "metadata": {},
     "output_type": "display_data"
    },
    {
     "name": "stdout",
     "output_type": "stream",
     "text": [
      "Improved fidelity by (%) 74.49336648145818\n",
      "best_phis [360. 160. 300.]\n",
      "best_fid 0.9533801531743077\n",
      "constructing final state on |switch, out1, out2>\n"
     ]
    },
    {
     "data": {
      "application/vnd.jupyter.widget-view+json": {
       "model_id": "aa158fba85f244e68a5f28cd0212fc84",
       "version_major": 2,
       "version_minor": 0
      },
      "text/plain": [
       "  0%|          | 0/6859 [00:00<?, ?it/s]"
      ]
     },
     "metadata": {},
     "output_type": "display_data"
    },
    {
     "name": "stdout",
     "output_type": "stream",
     "text": [
      "Improved fidelity by (%) 60.03309788433171\n",
      "best_phis [360.  40. 220.]\n",
      "best_fid 0.9394986306128849\n",
      "constructing final state on |switch, out1, out2>\n"
     ]
    },
    {
     "data": {
      "application/vnd.jupyter.widget-view+json": {
       "model_id": "f742b3e7393b4725add3635e8c8b3d64",
       "version_major": 2,
       "version_minor": 0
      },
      "text/plain": [
       "  0%|          | 0/6859 [00:00<?, ?it/s]"
      ]
     },
     "metadata": {},
     "output_type": "display_data"
    },
    {
     "name": "stdout",
     "output_type": "stream",
     "text": [
      "Improved fidelity by (%) 28.230024981550716\n",
      "best_phis [360.  40.  80.]\n",
      "best_fid 0.9442821644735137\n",
      "constructing final state on |switch, out1, out2>\n"
     ]
    },
    {
     "data": {
      "application/vnd.jupyter.widget-view+json": {
       "model_id": "dcc0e5d47d5e48eebcfec463e496e895",
       "version_major": 2,
       "version_minor": 0
      },
      "text/plain": [
       "  0%|          | 0/6859 [00:00<?, ?it/s]"
      ]
     },
     "metadata": {},
     "output_type": "display_data"
    },
    {
     "name": "stdout",
     "output_type": "stream",
     "text": [
      "Improved fidelity by (%) 13.082069879699809\n",
      "best_phis [  0.  40. 320.]\n",
      "best_fid 0.9395099192333766\n",
      "constructing final state on |switch, out1, out2>\n"
     ]
    },
    {
     "data": {
      "application/vnd.jupyter.widget-view+json": {
       "model_id": "5a43a96afc5441d5a80645e0a63d3654",
       "version_major": 2,
       "version_minor": 0
      },
      "text/plain": [
       "  0%|          | 0/6859 [00:00<?, ?it/s]"
      ]
     },
     "metadata": {},
     "output_type": "display_data"
    },
    {
     "name": "stdout",
     "output_type": "stream",
     "text": [
      "Improved fidelity by (%) 64.17159313609756\n",
      "best_phis [360.  40. 180.]\n",
      "best_fid 0.9391404194734303\n",
      "constructing final state on |switch, out1, out2>\n"
     ]
    },
    {
     "data": {
      "application/vnd.jupyter.widget-view+json": {
       "model_id": "a15005076fef420990f33e557827b857",
       "version_major": 2,
       "version_minor": 0
      },
      "text/plain": [
       "  0%|          | 0/6859 [00:00<?, ?it/s]"
      ]
     },
     "metadata": {},
     "output_type": "display_data"
    },
    {
     "name": "stdout",
     "output_type": "stream",
     "text": [
      "Improved fidelity by (%) 53.94349342934402\n",
      "best_phis [  0.  40. 240.]\n",
      "best_fid 0.921317940276851\n",
      "constructing final state on |switch, out1, out2>\n"
     ]
    },
    {
     "data": {
      "application/vnd.jupyter.widget-view+json": {
       "model_id": "7edeb3a94dcd44d187cd52ee3077ab06",
       "version_major": 2,
       "version_minor": 0
      },
      "text/plain": [
       "  0%|          | 0/6859 [00:00<?, ?it/s]"
      ]
     },
     "metadata": {},
     "output_type": "display_data"
    },
    {
     "name": "stdout",
     "output_type": "stream",
     "text": [
      "Improved fidelity by (%) 30.23695576267863\n",
      "best_phis [  0.  40. 100.]\n",
      "best_fid 0.9200749014995881\n",
      "constructing final state on |switch, out1, out2>\n"
     ]
    },
    {
     "data": {
      "application/vnd.jupyter.widget-view+json": {
       "model_id": "dba61a2a60594ca4a750d2bed9c3a72d",
       "version_major": 2,
       "version_minor": 0
      },
      "text/plain": [
       "  0%|          | 0/6859 [00:00<?, ?it/s]"
      ]
     },
     "metadata": {},
     "output_type": "display_data"
    },
    {
     "name": "stdout",
     "output_type": "stream",
     "text": [
      "Improved fidelity by (%) 36.92385017388754\n",
      "best_phis [  0. 260. 320.]\n",
      "best_fid 0.9682006700211586\n",
      "constructing final state on |switch, out1, out2>\n"
     ]
    },
    {
     "data": {
      "application/vnd.jupyter.widget-view+json": {
       "model_id": "25abb137b82547f1aba0f46ff335e3d4",
       "version_major": 2,
       "version_minor": 0
      },
      "text/plain": [
       "  0%|          | 0/6859 [00:00<?, ?it/s]"
      ]
     },
     "metadata": {},
     "output_type": "display_data"
    },
    {
     "name": "stdout",
     "output_type": "stream",
     "text": [
      "Improved fidelity by (%) 22.652478213681214\n",
      "best_phis [  0.  40. 300.]\n",
      "best_fid 0.9378132935307635\n"
     ]
    }
   ],
   "source": [
    "fids_grids_all_delays = np.zeros((len(init_states), len(delay_sweep_2), len(delay_sweep_3), len(phis[0]), len(phis[1]), len(phis[2])))\n",
    "for i_init_state, init_state in enumerate(init_states):\n",
    "    print('init state (Q0 (switch) Q1 (input)):', init_state)\n",
    "    n_tomo_corrected_delays = n_tomo_corrected_dict[init_state]\n",
    "    \n",
    "    for i_delay_2, delay_2 in enumerate(delay_sweep_2):\n",
    "        for i_delay_3, delay_3 in enumerate(delay_sweep_3):\n",
    "            n_tomo_corrected = n_tomo_corrected_delays[i_delay_2, i_delay_3]\n",
    "            \n",
    "            if use_init_2q_state: init_rho = rho_MLE_ZZ_dict[init_state]\n",
    "            else: init_rho = qt.ket2dm(name_to_state_2q(init_state)).full()\n",
    "            rho_id = get_qram_qSLR_state_from_rho(init_rho)\n",
    "            \n",
    "            rho_MLE = tomo_analysis.get_rho_from_counts(\n",
    "                n_tomo_raw=n_tomo_corrected,\n",
    "                n_calib=None,\n",
    "                correct_readout=False,\n",
    "                correct_neg_counts=True,\n",
    "                method='analytical',\n",
    "                ZZ_correction=use_ZZ_correction,\n",
    "                evol_mats=None if not use_ZZ_correction else evol_mats,\n",
    "            )\n",
    "            \n",
    "            rho_MLE_rot, best_phis, best_fid, fids_grid = tomo_analysis.opt_virtualZ_MLE(qt.Qobj(rho_MLE, dims=rho_id.dims), rho_id, phis=phis, progress=True)\n",
    "            fids_grids_all_delays[i_init_state, i_delay_2, i_delay_3] = fids_grid\n",
    "            print(\"best_phis\", best_phis)\n",
    "            print(\"best_fid\", best_fid)"
   ]
  },
  {
   "cell_type": "markdown",
   "metadata": {},
   "source": [
    "Go through the fids grids and select the best overall phi"
   ]
  },
  {
   "cell_type": "code",
   "execution_count": 527,
   "metadata": {},
   "outputs": [],
   "source": [
    "check_init_states = init_states\n",
    "# check_init_states = ['|0+1>|1>', '|1>|0+1>', '|0>|0+1>', '|0+1>|0+1>']\n",
    "# check_init_states = ['|0>|0>', '|0>|1>', '|0>|0+1>', '|0>|0+i>', '|1>|0>', '|1>|1>', '|1>|0+1>', '|1>|0+i>', '|0+1>|0>', '|0+1>|1>', '|0+1>|0+1>', '|0+1>|0+i>', '|0+i>|0>', '|0+i>|1>', '|0+i>|0+i>']"
   ]
  },
  {
   "cell_type": "code",
   "execution_count": 529,
   "metadata": {},
   "outputs": [
    {
     "data": {
      "text/plain": [
       "(4, 4, 4, 19, 19, 19)"
      ]
     },
     "execution_count": 529,
     "metadata": {},
     "output_type": "execute_result"
    }
   ],
   "source": [
    "fids_grids_all_delays.shape"
   ]
  },
  {
   "cell_type": "code",
   "execution_count": 530,
   "metadata": {},
   "outputs": [
    {
     "name": "stdout",
     "output_type": "stream",
     "text": [
      "['|0+1>|1>' '|1>|0+1>' '|0>|0+1>' '|0+1>|0+1>']\n",
      "best delays [4.650297619047619, 6.975446428571429]\n",
      "best avg fid 0.9261171042442358\n",
      "best fids for check states [0.94152904 0.93084578 0.96843406 0.86365953]\n",
      "best phis [360.  40. 140.]\n"
     ]
    }
   ],
   "source": [
    "best_avg_fids_all_delays = np.zeros((len(delay_sweep_2), len(delay_sweep_3)))\n",
    "best_phi_indices_all_delays = np.zeros((len(delay_sweep_2), len(delay_sweep_3), 3))\n",
    "best_phis_all_delays = np.zeros((len(delay_sweep_2), len(delay_sweep_3), 3))\n",
    "best_fids_all_delays = np.zeros((len(delay_sweep_2), len(delay_sweep_3), len(check_init_states)))\n",
    "\n",
    "# Pick best overall phi for each delay set\n",
    "for i_delay_2, delay_2 in enumerate(delay_sweep_2):\n",
    "    for i_delay_3, delay_3 in enumerate(delay_sweep_3):\n",
    "        best_avg_fid = 0\n",
    "        best_phis = [0, 0, 0]\n",
    "        best_phi_indices = [0, 0, 0]\n",
    "        for iphi0, phi0 in enumerate(phis[0]):\n",
    "            for iphi1, phi1 in enumerate(phis[1]):\n",
    "                for iphi2, phi2 in enumerate(phis[2]):\n",
    "                    avg_fid = 0\n",
    "                    for i_state, init_state in enumerate(init_states):\n",
    "                        if init_state not in check_init_states: continue\n",
    "                        avg_fid += fids_grids_all_delays[i_state, i_delay_2, i_delay_3, iphi0, iphi1, iphi2]\n",
    "                    avg_fid /= len(check_init_states)\n",
    "                    if avg_fid > best_avg_fid:\n",
    "                        best_phis = [phi0, phi1, phi2]\n",
    "                        best_phi_indices = [iphi0, iphi1, iphi2]\n",
    "                        best_avg_fid = avg_fid\n",
    "                        i_check_init_state = 0\n",
    "                        for i_state, init_state in enumerate(init_states):\n",
    "                            if init_state not in check_init_states: continue\n",
    "                            best_fids_all_delays[i_delay_2, i_delay_3, i_check_init_state] = fids_grids_all_delays[i_state, i_delay_2, i_delay_3, iphi0, iphi1, iphi2]\n",
    "                            i_check_init_state += 1\n",
    "        best_avg_fids_all_delays[i_delay_2, i_delay_3] = best_avg_fid\n",
    "        best_phi_indices_all_delays[i_delay_2, i_delay_3] = best_phi_indices\n",
    "        best_phis_all_delays[i_delay_2, i_delay_3] = best_phis\n",
    "\n",
    "# Pick best delay set\n",
    "best_delay_indices = np.unravel_index(np.argmax(best_avg_fids_all_delays), best_avg_fids_all_delays.shape)\n",
    "best_delays = [delay_sweep_2[best_delay_indices[0]], delay_sweep_3[best_delay_indices[1]]]\n",
    "best_avg_fid = best_avg_fids_all_delays[best_delay_indices]\n",
    "best_phi_indices = best_phi_indices_all_delays[best_delay_indices]\n",
    "best_phis = best_phis_all_delays[best_delay_indices]\n",
    "best_fids = best_fids_all_delays[best_delay_indices]\n",
    "\n",
    "print(init_states)\n",
    "print('best delays', best_delays)\n",
    "print('best avg fid', best_avg_fid)\n",
    "print('best fids for check states', best_fids)\n",
    "print('best phis', best_phis)"
   ]
  },
  {
   "cell_type": "code",
   "execution_count": 535,
   "metadata": {},
   "outputs": [],
   "source": [
    "outer_sweep = delay_sweep_2\n",
    "inner_sweep = delay_sweep_3\n",
    "y_sweep = outer_sweep\n",
    "x_sweep = inner_sweep\n",
    "\n",
    "plt.figure()\n",
    "plt.title(f'Avg Fidelities for Optimal Phis')\n",
    "plt.xlabel(f'Delays Ch 3 (ns)')\n",
    "plt.ylabel(f'Delays Ch 2 (ns)')\n",
    "plt.pcolormesh(x_sweep, y_sweep, best_avg_fids_all_delays, cmap='viridis', shading='auto')\n",
    "plt.colorbar()\n",
    "plt.clim(vmin=0.8, vmax=vmax)\n",
    "plt.show()"
   ]
  },
  {
   "cell_type": "code",
   "execution_count": null,
   "metadata": {},
   "outputs": [],
   "source": [
    "inner_sweep = phis[2]\n",
    "outer_sweep = phis[1]\n",
    "y_sweep = outer_sweep\n",
    "x_sweep = inner_sweep\n",
    "print(fids_grid_all_delays[i_state, best_delay_indices[0], best_delay_indices[1], i_phi0].shape)\n",
    "print(f'phi Q0 {phi0}')\n",
    "plt.figure()\n",
    "plt.title(f'Fidelities ($\\phi_0: ${phi0:0.4})')\n",
    "plt.xlabel(f'phis Q{tomo_qubits[2]}')\n",
    "plt.ylabel(f'phis Q{tomo_qubits[1]}')\n",
    "plt.pcolormesh(x_sweep, y_sweep, fids_grid[i_phi0], cmap='viridis', shading='auto')\n",
    "plt.colorbar()\n",
    "plt.clim(vmin=0, vmax=vmax)\n",
    "plt.show()"
   ]
  },
  {
   "cell_type": "markdown",
   "metadata": {
    "tags": []
   },
   "source": [
    "## Big qram protocol loop!"
   ]
  },
  {
   "cell_type": "code",
   "execution_count": 16,
   "metadata": {},
   "outputs": [
    {
     "name": "stdout",
     "output_type": "stream",
     "text": [
      "init_states (16 states) ['|0>|0>', '|0>|1>', '|0>|0+1>', '|0>|0+i>', '|1>|0>', '|1>|1>', '|1>|0+1>', '|1>|0+i>', '|0+1>|0>', '|0+1>|1>', '|0+1>|0+1>', '|0+1>|0+i>', '|0+i>|0>', '|0+i>|1>', '|0+i>|0+1>', '|0+i>|0+i>']\n",
      "protocol_play [2, 1, 4, 3]\n",
      "simultaneous swaps False\n",
      "simultaneous efs False\n",
      "readout cool False\n",
      "full mux expt False\n",
      "resonator reset None\n",
      "use robust pulses True\n",
      "save data True\n"
     ]
    }
   ],
   "source": [
    "cardinal_states = ['|0>', '|1>', '|0+1>', '|0+i>']\n",
    "init_states = []\n",
    "for state0 in cardinal_states:\n",
    "    for state1 in cardinal_states:\n",
    "        init_states.append(state0 + state1)\n",
    "\n",
    "# init_states = ['|0+1>|0>', '|0>|0+1>', '|1>|0+1>', '|0+1>|1>', '|0+1>|0+1>']\n",
    "# init_states = ['|0+1>|1>', '|1>|0+1>', '|0>|0+1>', '|0+1>|0+1>']\n",
    "# init_states = ['|0+1>|1>', '|1>|1>', '|0>|1>', '|0+1>|0+1>']\n",
    "# init_states = ['|0+1>|0+1>']\n",
    "\n",
    "protocol_play = [2, 1, 3, 4] # 1: Q2/Q1 with Q0 in g, 2: Q3/Q1 with Q0 in e, 3: Q2 ef pulse, 4: Q3 ef pulse [2, 1, 4, 3]\n",
    "\n",
    "sync_between_swaps = True\n",
    "sync_between_efs = True\n",
    "\n",
    "tomo_qubits = [0, 2, 3] # which qubit/resonators to do tomo on\n",
    "save_data = True\n",
    "saved_files = []\n",
    "# cool_qubits = [0, 1]\n",
    "cool_qubits = None\n",
    "\n",
    "readout_cool = False\n",
    "full_mux_expt = False\n",
    "resonator_reset = [0, 2, 3] if full_mux_expt else None\n",
    "\n",
    "use_IQ_pulse = False # state transfer IQ pulses for the state prep\n",
    "use_robust_pulses = True # use robust pulses for state prep + tomo\n",
    "\n",
    "iterations = 5\n",
    "# iterations = 1\n",
    "\n",
    "print(f'init_states ({len(init_states)} states)', init_states)\n",
    "print('protocol_play', protocol_play)\n",
    "print('simultaneous swaps', not sync_between_swaps)\n",
    "print('simultaneous efs', not sync_between_efs)\n",
    "print('readout cool', readout_cool)\n",
    "print('full mux expt', full_mux_expt)\n",
    "print('resonator reset', resonator_reset)\n",
    "print('use robust pulses', use_robust_pulses)\n",
    "print('save data', save_data)\n",
    "if not save_data:\n",
    "    print('WARNING!! YOU ARE NOT SAVING DATA!')"
   ]
  },
  {
   "cell_type": "code",
   "execution_count": 17,
   "metadata": {},
   "outputs": [
    {
     "name": "stdout",
     "output_type": "stream",
     "text": [
      "init_states (4 states) ['|0+1>|1>', '|1>|1>', '|0>|1>', '|0+1>|0+1>']\n",
      "protocol_play [2, 1, 4, 3]\n",
      "simultaneous swaps False\n",
      "simultaneous efs False\n",
      "readout cool False\n",
      "full mux expt False\n",
      "resonator reset None\n",
      "use robust pulses True\n",
      "save data True\n"
     ]
    }
   ],
   "source": [
    "init_states = ['|0+1>|1>', '|1>|1>', '|0>|1>', '|0+1>|0+1>']\n",
    "iterations = 1\n",
    "\n",
    "print(f'init_states ({len(init_states)} states)', init_states)\n",
    "print('protocol_play', protocol_play)\n",
    "print('simultaneous swaps', not sync_between_swaps)\n",
    "print('simultaneous efs', not sync_between_efs)\n",
    "print('readout cool', readout_cool)\n",
    "print('full mux expt', full_mux_expt)\n",
    "print('resonator reset', resonator_reset)\n",
    "print('use robust pulses', use_robust_pulses)\n",
    "print('save data', save_data)\n",
    "if not save_data:\n",
    "    print('WARNING!! YOU ARE NOT SAVING DATA!')"
   ]
  },
  {
   "cell_type": "code",
   "execution_count": 18,
   "metadata": {
    "scrolled": true,
    "tags": []
   },
   "outputs": [
    {
     "name": "stdout",
     "output_type": "stream",
     "text": [
      "init_state |0+1>|1> play pulses [2, 1, 4, 3]\n",
      "timesteps [inf]\n"
     ]
    },
    {
     "data": {
      "application/vnd.jupyter.widget-view+json": {
       "model_id": "391aee3ba5dd48629eece9cb479f49b0",
       "version_major": 2,
       "version_minor": 0
      },
      "text/plain": [
       "  0%|          | 0/8 [00:00<?, ?it/s]"
      ]
     },
     "metadata": {},
     "output_type": "display_data"
    },
    {
     "name": "stdout",
     "output_type": "stream",
     "text": [
      "Qubit  (0)\n",
      "ge fidelity (%): 83.05000000000003 \t angle (deg): 135.65269432225176 \t threshold ge: 226.16786016667854\n",
      "Qubit  (2)\n",
      "ge fidelity (%): 82.74999999999999 \t angle (deg): 118.74527403419515 \t threshold ge: 67.07471636822602\n",
      "Qubit  (3)\n",
      "ge fidelity (%): 76.39000000000001 \t angle (deg): 146.641652493683 \t threshold ge: 95.74341491343984\n",
      "thresholds=[226.16786016667854, 0, 67.07471636822602, 95.74341491343984],\n",
      "angles=[135.65269432225176, 0, 118.74527403419515, 146.641652493683],\n",
      "ge_avgs=[array([ -59.24848603, -143.62165774, -187.82933835, -269.3058822 ]), [0, 0, 0, 0], array([  91.31085117,  -62.94933003,   32.63965308, -169.91372375]), array([ -42.48616576,  -31.41304473, -108.7641527 ,  -75.04622708])] ,\n",
      "counts_calib=[[8254, 455, 643, 31, 522, 47, 47, 1], [1612, 7098, 126, 499, 90, 535, 5, 35], [921, 38, 7789, 426, 62, 2, 721, 41], [563, 722, 1344, 6557, 12, 71, 108, 623], [981, 43, 56, 4, 7864, 415, 603, 34], [541, 793, 53, 67, 1173, 6705, 98, 570], [266, 7, 1006, 41, 723, 43, 7506, 408], [531, 96, 264, 826, 98, 635, 989, 6561]]\n",
      "\n"
     ]
    },
    {
     "data": {
      "application/vnd.jupyter.widget-view+json": {
       "model_id": "1d322de890984655b71cb31f9fd60f14",
       "version_major": 2,
       "version_minor": 0
      },
      "text/plain": [
       "  0%|          | 0/1 [00:00<?, ?it/s]"
      ]
     },
     "metadata": {},
     "output_type": "display_data"
    },
    {
     "data": {
      "application/vnd.jupyter.widget-view+json": {
       "model_id": "6f6a27e2a1084dc2ae2f160e3d5966fc",
       "version_major": 2,
       "version_minor": 0
      },
      "text/plain": [
       "  0%|          | 0/27 [00:00<?, ?it/s]"
      ]
     },
     "metadata": {},
     "output_type": "display_data"
    },
    {
     "name": "stdout",
     "output_type": "stream",
     "text": [
      "Saving S:\\QRAM\\qram_4QR2\\data\\data_250119\\00000_QramProtocol3QTomo.h5\n",
      "init_state |1>|1> play pulses [2, 1, 4, 3]\n",
      "timesteps [inf]\n"
     ]
    },
    {
     "data": {
      "application/vnd.jupyter.widget-view+json": {
       "model_id": "205c67acbf8641a08b6d3fb8d63a0774",
       "version_major": 2,
       "version_minor": 0
      },
      "text/plain": [
       "  0%|          | 0/8 [00:00<?, ?it/s]"
      ]
     },
     "metadata": {},
     "output_type": "display_data"
    },
    {
     "name": "stdout",
     "output_type": "stream",
     "text": [
      "Qubit  (0)\n",
      "ge fidelity (%): 77.04920692069204 \t angle (deg): 133.4331855046353 \t threshold ge: 224.6796027770052\n",
      "Qubit  (2)\n",
      "ge fidelity (%): 81.54000000000002 \t angle (deg): 118.11172077096019 \t threshold ge: 77.0721028024469\n",
      "Qubit  (3)\n",
      "ge fidelity (%): 80.26999999999998 \t angle (deg): 147.29624792773413 \t threshold ge: 96.16216717734699\n",
      "thresholds=[224.6796027770052, 0, 77.0721028024469, 96.16216717734699],\n",
      "angles=[133.4331855046353, 0, 118.11172077096019, 147.29624792773413],\n",
      "ge_avgs=[array([ -52.8484063 , -140.46667243, -171.71550615, -266.01935991]), [0, 0, 0, 0], array([  82.02625967,  -62.82050306,   25.64488273, -168.36147051]), array([ -36.71207148,  -31.88835697, -111.65635547,  -80.00866302])] ,\n",
      "counts_calib=[[8313, 353, 491, 23, 729, 33, 54, 4], [1355, 7159, 79, 436, 120, 802, 6, 43], [1161, 47, 7789, 349, 72, 7, 557, 18], [442, 762, 1294, 6817, 4, 66, 92, 523], [1362, 46, 74, 2, 7665, 370, 463, 18], [368, 886, 24, 51, 1101, 7096, 63, 411], [401, 5, 1008, 39, 865, 39, 7287, 356], [214, 94, 215, 878, 131, 823, 1005, 6640]]\n",
      "\n"
     ]
    },
    {
     "data": {
      "application/vnd.jupyter.widget-view+json": {
       "model_id": "1ef8a0e5379248ee90dcb864da1c1c0f",
       "version_major": 2,
       "version_minor": 0
      },
      "text/plain": [
       "  0%|          | 0/1 [00:00<?, ?it/s]"
      ]
     },
     "metadata": {},
     "output_type": "display_data"
    },
    {
     "data": {
      "application/vnd.jupyter.widget-view+json": {
       "model_id": "0b2d17a221844ef1a070df95a029ca89",
       "version_major": 2,
       "version_minor": 0
      },
      "text/plain": [
       "  0%|          | 0/27 [00:00<?, ?it/s]"
      ]
     },
     "metadata": {},
     "output_type": "display_data"
    },
    {
     "name": "stdout",
     "output_type": "stream",
     "text": [
      "Saving S:\\QRAM\\qram_4QR2\\data\\data_250119\\00001_QramProtocol3QTomo.h5\n",
      "init_state |0>|1> play pulses [2, 1, 4, 3]\n",
      "timesteps [inf]\n"
     ]
    },
    {
     "data": {
      "application/vnd.jupyter.widget-view+json": {
       "model_id": "03c94f23dd3c489d8c5926a6b02ff389",
       "version_major": 2,
       "version_minor": 0
      },
      "text/plain": [
       "  0%|          | 0/8 [00:00<?, ?it/s]"
      ]
     },
     "metadata": {},
     "output_type": "display_data"
    },
    {
     "name": "stdout",
     "output_type": "stream",
     "text": [
      "Qubit  (0)\n",
      "ge fidelity (%): 77.71 \t angle (deg): 130.99138498242428 \t threshold ge: 223.793974468255\n",
      "Qubit  (2)\n",
      "ge fidelity (%): 83.74999999999999 \t angle (deg): 121.73035796800366 \t threshold ge: 71.8232614426615\n",
      "Qubit  (3)\n",
      "ge fidelity (%): 79.51000000000003 \t angle (deg): 144.01889897041548 \t threshold ge: 97.96796460064806\n",
      "thresholds=[223.793974468255, 0, 71.8232614426615, 97.96796460064806],\n",
      "angles=[130.99138498242428, 0, 121.73035796800366, 144.01889897041548],\n",
      "ge_avgs=[array([ -51.12784363, -145.12318263, -157.87098444, -267.95441556]), [0, 0, 0, 0], array([  87.30330421,  -68.84366515,   22.08464895, -174.31662654]), array([ -40.39386849,  -34.11001211, -109.74382493,  -84.46076322])] ,\n",
      "counts_calib=[[8325, 404, 552, 18, 627, 37, 34, 3], [1380, 7030, 98, 544, 114, 767, 4, 63], [918, 48, 7879, 390, 68, 4, 676, 17], [320, 771, 1279, 6843, 13, 85, 104, 585], [1408, 44, 81, 2, 7539, 345, 556, 25], [448, 853, 26, 73, 1249, 6791, 72, 488], [372, 7, 1038, 43, 808, 39, 7332, 361], [210, 112, 218, 847, 107, 839, 1006, 6661]]\n",
      "\n"
     ]
    },
    {
     "data": {
      "application/vnd.jupyter.widget-view+json": {
       "model_id": "8327c83800e5488ca737f2d2b391126f",
       "version_major": 2,
       "version_minor": 0
      },
      "text/plain": [
       "  0%|          | 0/1 [00:00<?, ?it/s]"
      ]
     },
     "metadata": {},
     "output_type": "display_data"
    },
    {
     "data": {
      "application/vnd.jupyter.widget-view+json": {
       "model_id": "f35c2050b6b3458ea93674e1124e5f31",
       "version_major": 2,
       "version_minor": 0
      },
      "text/plain": [
       "  0%|          | 0/27 [00:00<?, ?it/s]"
      ]
     },
     "metadata": {},
     "output_type": "display_data"
    },
    {
     "name": "stdout",
     "output_type": "stream",
     "text": [
      "Saving S:\\QRAM\\qram_4QR2\\data\\data_250119\\00002_QramProtocol3QTomo.h5\n",
      "init_state |0+1>|0+1> play pulses [2, 1, 4, 3]\n",
      "timesteps [inf]\n"
     ]
    },
    {
     "data": {
      "application/vnd.jupyter.widget-view+json": {
       "model_id": "656bdd349f8a4e82b1bf6face7594b73",
       "version_major": 2,
       "version_minor": 0
      },
      "text/plain": [
       "  0%|          | 0/8 [00:00<?, ?it/s]"
      ]
     },
     "metadata": {},
     "output_type": "display_data"
    },
    {
     "name": "stdout",
     "output_type": "stream",
     "text": [
      "Qubit  (0)\n",
      "ge fidelity (%): 81.42925792579254 \t angle (deg): 130.1513932361182 \t threshold ge: 222.73147289070664\n",
      "Qubit  (2)\n",
      "ge fidelity (%): 82.63999999999999 \t angle (deg): 123.28802380748373 \t threshold ge: 71.92958982407103\n",
      "Qubit  (3)\n",
      "ge fidelity (%): 78.3 \t angle (deg): 142.6835741105513 \t threshold ge: 95.95224878735054\n",
      "thresholds=[222.73147289070664, 0, 71.92958982407103, 95.95224878735054],\n",
      "angles=[130.1513932361182, 0, 123.28802380748373, 142.6835741105513],\n",
      "ge_avgs=[array([ -48.38751679, -148.3104733 , -162.38799132, -283.44418828]), [0, 0, 0, 0], array([  85.06438713,  -72.0137735 ,   17.92412187, -174.27163217]), array([ -39.17582074,  -34.85695635, -105.11846214,  -85.12166966])] ,\n",
      "counts_calib=[[8218, 439, 543, 42, 673, 29, 55, 1], [1473, 7198, 101, 467, 88, 620, 7, 46], [966, 46, 7757, 413, 88, 4, 697, 29], [145, 808, 1161, 7187, 5, 58, 91, 545], [986, 48, 64, 3, 7896, 438, 523, 42], [287, 851, 15, 54, 1211, 7041, 75, 466], [153, 5, 872, 50, 795, 45, 7632, 448], [346, 103, 218, 774, 138, 750, 977, 6694]]\n",
      "\n"
     ]
    },
    {
     "data": {
      "application/vnd.jupyter.widget-view+json": {
       "model_id": "1915626fa03142a2832fc87aac2b8120",
       "version_major": 2,
       "version_minor": 0
      },
      "text/plain": [
       "  0%|          | 0/1 [00:00<?, ?it/s]"
      ]
     },
     "metadata": {},
     "output_type": "display_data"
    },
    {
     "data": {
      "application/vnd.jupyter.widget-view+json": {
       "model_id": "9febfedf0c884a008d9f4c84e29841f2",
       "version_major": 2,
       "version_minor": 0
      },
      "text/plain": [
       "  0%|          | 0/27 [00:00<?, ?it/s]"
      ]
     },
     "metadata": {},
     "output_type": "display_data"
    },
    {
     "name": "stdout",
     "output_type": "stream",
     "text": [
      "Saving S:\\QRAM\\qram_4QR2\\data\\data_250119\\00003_QramProtocol3QTomo.h5\n"
     ]
    }
   ],
   "source": [
    "play_pulses = protocol_play\n",
    "for it in range(iterations):\n",
    "    for init_state in init_states:\n",
    "        qramExpt = meas.QramProtocol3QTomoExperiment(\n",
    "            soccfg=soc,\n",
    "            path=expt_path,\n",
    "            config_file=config_path,\n",
    "            ns_address=ns_address,\n",
    "        )\n",
    "        print('init_state', init_state, 'play pulses', play_pulses)\n",
    "        \n",
    "        span = np.inf\n",
    "        npts = 1\n",
    "        if span < np.inf: print('time step size [cycles]:', soc.us2cycles(span/npts))\n",
    "        \n",
    "        qramExpt.cfg.expt = dict(\n",
    "            start=span,\n",
    "            step=0,\n",
    "            expts=1, # number of different time experiments\n",
    "        \n",
    "            reps=10000, # number of reps per tomo/time step,\n",
    "            singleshot_reps=10000, # reps per state for singleshot calibration\n",
    "            # reps=100, # number of reps per tomo/time step,\n",
    "            # singleshot_reps=100, #000, # reps per state for singleshot calibration\n",
    "            post_process=None, # 'threshold', (uses single shot binning), 'scale' (scale by ge_avgs), or None\n",
    "            tomo_3q=True, # flag to perform tomo on last time step\n",
    "            tomo_qubits=tomo_qubits, # the qubits on which to do the 3q state tomo\n",
    "            init_state=init_state,\n",
    "            play_pulses=play_pulses, # [2, 1, 4, 3]\n",
    "            cool_qubits=cool_qubits,\n",
    "            sync_between_swaps=sync_between_swaps,\n",
    "            sync_between_efs=sync_between_efs,\n",
    "            \n",
    "            use_IQ_pulse=use_IQ_pulse, # state transfer IQ pulses for the state prep\n",
    "            use_robust_pulses=use_robust_pulses, # use robust pulses for state prep + tomo\n",
    "            plot_IQ=False,\n",
    "            \n",
    "            readout_cool=readout_cool,\n",
    "            n_init_readout=1,\n",
    "            n_trig=1,\n",
    "            init_read_wait_us=10,\n",
    "            \n",
    "            full_mux_expt=full_mux_expt,\n",
    "            resonator_reset=resonator_reset,\n",
    "        )\n",
    "        if tomo_qubits == [0, 2, 3]:\n",
    "            qramExpt.cfg.device.readout.gain[1] = 1e-4\n",
    "        \n",
    "        try:\n",
    "            qramExpt.acquire(progress=True, debug=False)\n",
    "            success = True\n",
    "        except Exception:\n",
    "            print(\"Pyro traceback:\")\n",
    "            print(\"\".join(Pyro4.util.getPyroTraceback()))\n",
    "            \n",
    "        if save_data: saved_files.append(qramExpt.save_data())"
   ]
  },
  {
   "cell_type": "code",
   "execution_count": 19,
   "metadata": {},
   "outputs": [
    {
     "name": "stdout",
     "output_type": "stream",
     "text": [
      "init_states = ['|0+1>|1>', '|1>|1>', '|0>|1>', '|0+1>|0+1>']\n",
      "['S:\\\\QRAM\\\\qram_4QR2\\\\data\\\\data_250119\\\\00000_QramProtocol3QTomo.h5', 'S:\\\\QRAM\\\\qram_4QR2\\\\data\\\\data_250119\\\\00001_QramProtocol3QTomo.h5', 'S:\\\\QRAM\\\\qram_4QR2\\\\data\\\\data_250119\\\\00002_QramProtocol3QTomo.h5', 'S:\\\\QRAM\\\\qram_4QR2\\\\data\\\\data_250119\\\\00003_QramProtocol3QTomo.h5']\n"
     ]
    }
   ],
   "source": [
    "print('init_states =', init_states)\n",
    "print(saved_files)"
   ]
  },
  {
   "cell_type": "markdown",
   "metadata": {},
   "source": [
    "#### Retrieve saved files and put all the n_tomo_corrected into a more easily accessible file"
   ]
  },
  {
   "cell_type": "code",
   "execution_count": 51,
   "metadata": {},
   "outputs": [],
   "source": [
    "apply_ps = False\n",
    "ps_qubits = [0, 1, 2, 3]\n",
    "ps_adjust = [0]*4"
   ]
  },
  {
   "cell_type": "code",
   "execution_count": 52,
   "metadata": {
    "collapsed": true,
    "jupyter": {
     "outputs_hidden": true
    },
    "tags": []
   },
   "outputs": [
    {
     "name": "stderr",
     "output_type": "stream",
     "text": [
      "TqdmDeprecationWarning: This function will be removed in tqdm==5.0.0\n",
      "Please use `tqdm.notebook.tqdm` instead of `tqdm.tqdm_notebook`\n",
      " C:\\Users\\slab\\AppData\\Local\\Temp\\ipykernel_16456\\3499015544.py: 3"
     ]
    },
    {
     "data": {
      "application/vnd.jupyter.widget-view+json": {
       "model_id": "300d5f0f99824d39965d42c0c2ce82ed",
       "version_major": 2,
       "version_minor": 0
      },
      "text/plain": [
       "  0%|          | 0/4 [00:00<?, ?it/s]"
      ]
     },
     "metadata": {},
     "output_type": "display_data"
    },
    {
     "name": "stderr",
     "output_type": "stream",
     "text": [
      "DeprecationWarning: `product` is deprecated as of NumPy 1.25.0, and will be removed in NumPy 2.0. Please use `prod` instead.\n",
      " C:\\Users\\slab\\AppData\\Local\\Temp\\ipykernel_16456\\2316176076.py: 13"
     ]
    },
    {
     "name": "stdout",
     "output_type": "stream",
     "text": [
      "S:\\QRAM\\qram_4QR2\\data\\data_250119\\00000_QramProtocol3QTomo.h5\n",
      "S:\\QRAM\\qram_4QR2\\data\\data_250119\\00000_QramProtocol3QTomo.h5\n",
      "Extracted data and attrs ['calib_order', 'config', 'meas_order', 'pulse_dict']\n",
      "init state Q0 (switch) Q1 (input): |0+1>|1>\n",
      "S:\\QRAM\\qram_4QR2\\data\\data_250119\\00001_QramProtocol3QTomo.h5\n",
      "S:\\QRAM\\qram_4QR2\\data\\data_250119\\00001_QramProtocol3QTomo.h5\n",
      "Extracted data and attrs ['calib_order', 'config', 'meas_order', 'pulse_dict']\n",
      "init state Q0 (switch) Q1 (input): |1>|1>\n",
      "S:\\QRAM\\qram_4QR2\\data\\data_250119\\00002_QramProtocol3QTomo.h5\n",
      "S:\\QRAM\\qram_4QR2\\data\\data_250119\\00002_QramProtocol3QTomo.h5\n",
      "Extracted data and attrs ['calib_order', 'config', 'meas_order', 'pulse_dict']\n",
      "init state Q0 (switch) Q1 (input): |0>|1>\n",
      "S:\\QRAM\\qram_4QR2\\data\\data_250119\\00003_QramProtocol3QTomo.h5\n",
      "S:\\QRAM\\qram_4QR2\\data\\data_250119\\00003_QramProtocol3QTomo.h5\n",
      "Extracted data and attrs ['calib_order', 'config', 'meas_order', 'pulse_dict']\n",
      "init state Q0 (switch) Q1 (input): |0+1>|0+1>\n"
     ]
    }
   ],
   "source": [
    "n_tomo_corrected_dict = dict()\n",
    "all_configs = dict()\n",
    "for i_saved_file, saved_file in enumerate(tqdm(saved_files)):\n",
    "    print(saved_file)\n",
    "    data, attrs = prev_data(saved_file, None)\n",
    "    pulse_dict = attrs['pulse_dict']\n",
    "    cfg = AttrDict(attrs['config'])\n",
    "    init_state = cfg.expt.init_state\n",
    "    all_configs[init_state] = cfg\n",
    "    play_pulses = cfg.expt.play_pulses\n",
    "    print('init state Q0 (switch) Q1 (input):', init_state)\n",
    "    \n",
    "    n_tomo_raw, n_calib = tomo_analysis.n_tomo_calib_from_data(data, cfg, ps_adjust=ps_adjust, ps_qubits=ps_qubits, apply_ps=apply_ps, verbose=False)\n",
    "    n_tomo_corrected = tomo_analysis.correct_readout_err(n_tomo_raw, n_calib)\n",
    "    \n",
    "    if init_state not in n_tomo_corrected_dict.keys():\n",
    "        n_tomo_corrected_dict.update({init_state:[]})\n",
    "    \n",
    "    n_tomo_corrected_dict[init_state].append(n_tomo_corrected)\n",
    "\n",
    "init_states = np.copy(list(n_tomo_corrected_dict.keys()))\n",
    "for init_state in init_states:\n",
    "    all_n_tomo_corrected = np.array(n_tomo_corrected_dict[init_state])\n",
    "    n_tomo_corrected_dict[init_state] = np.average(all_n_tomo_corrected, axis=0)"
   ]
  },
  {
   "cell_type": "code",
   "execution_count": 669,
   "metadata": {},
   "outputs": [
    {
     "name": "stdout",
     "output_type": "stream",
     "text": [
      "Saved n_tomo_corrected_dict for Q0 Q2 Q3 to file S:\\QRAM\\qram_4QR2\\data\\data_241025\\202412081553_ntomocorrected_3Q_023.npz\n"
     ]
    }
   ],
   "source": [
    "# SAVING MEASURED n_tomo_corrected\n",
    "n_tomo_corrected_dict.update({\"saved_files\":saved_files})\n",
    "n_tomo_corrected_dict.update({\"init_states\":list(init_states)})\n",
    "n_tomo_corrected_dict.update({\"all_configs\":all_configs})\n",
    "\n",
    "from datetime import datetime\n",
    "timestamp = datetime.now().strftime(\"%Y%m%d%H%M\")\n",
    "qA, qB, qC = tomo_qubits\n",
    "n_tomo_corrected_filepath = os.path.join(expt_path, f'{timestamp}_ntomocorrected_3Q_{qA}{qB}{qC}.npz')\n",
    "np.savez(n_tomo_corrected_filepath, **n_tomo_corrected_dict, allow_pickle=True)\n",
    "print(f'Saved n_tomo_corrected_dict for Q{qA} Q{qB} Q{qC} to file {n_tomo_corrected_filepath}')"
   ]
  },
  {
   "cell_type": "markdown",
   "metadata": {},
   "source": [
    "### Round 1a with simultaneous pulses"
   ]
  },
  {
   "cell_type": "code",
   "execution_count": 290,
   "metadata": {},
   "outputs": [],
   "source": [
    "# saved_files = ['S:\\\\QRAM\\\\qram_4QR2\\\\data\\\\data_241025\\\\00515_QramProtocol3QTomo.h5', 'S:\\\\QRAM\\\\qram_4QR2\\\\data\\\\data_241025\\\\00516_QramProtocol3QTomo.h5', 'S:\\\\QRAM\\\\qram_4QR2\\\\data\\\\data_241025\\\\00517_QramProtocol3QTomo.h5', 'S:\\\\QRAM\\\\qram_4QR2\\\\data\\\\data_241025\\\\00518_QramProtocol3QTomo.h5', 'S:\\\\QRAM\\\\qram_4QR2\\\\data\\\\data_241025\\\\00519_QramProtocol3QTomo.h5', 'S:\\\\QRAM\\\\qram_4QR2\\\\data\\\\data_241025\\\\00520_QramProtocol3QTomo.h5', 'S:\\\\QRAM\\\\qram_4QR2\\\\data\\\\data_241025\\\\00521_QramProtocol3QTomo.h5', 'S:\\\\QRAM\\\\qram_4QR2\\\\data\\\\data_241025\\\\00522_QramProtocol3QTomo.h5', 'S:\\\\QRAM\\\\qram_4QR2\\\\data\\\\data_241025\\\\00523_QramProtocol3QTomo.h5', 'S:\\\\QRAM\\\\qram_4QR2\\\\data\\\\data_241025\\\\00524_QramProtocol3QTomo.h5', 'S:\\\\QRAM\\\\qram_4QR2\\\\data\\\\data_241025\\\\00525_QramProtocol3QTomo.h5', 'S:\\\\QRAM\\\\qram_4QR2\\\\data\\\\data_241025\\\\00526_QramProtocol3QTomo.h5', 'S:\\\\QRAM\\\\qram_4QR2\\\\data\\\\data_241025\\\\00527_QramProtocol3QTomo.h5', 'S:\\\\QRAM\\\\qram_4QR2\\\\data\\\\data_241025\\\\00528_QramProtocol3QTomo.h5', 'S:\\\\QRAM\\\\qram_4QR2\\\\data\\\\data_241025\\\\00529_QramProtocol3QTomo.h5', 'S:\\\\QRAM\\\\qram_4QR2\\\\data\\\\data_241025\\\\00530_QramProtocol3QTomo.h5']\n",
    "# iterations = 4"
   ]
  },
  {
   "cell_type": "code",
   "execution_count": 291,
   "metadata": {},
   "outputs": [
    {
     "name": "stdout",
     "output_type": "stream",
     "text": [
      "init_states (16 states) ['|0>|0>', '|0>|1>', '|0>|0+1>', '|0>|0+i>', '|1>|0>', '|1>|1>', '|1>|0+1>', '|1>|0+i>', '|0+1>|0>', '|0+1>|1>', '|0+1>|0+1>', '|0+1>|0+i>', '|0+i>|0>', '|0+i>|1>', '|0+i>|0+1>', '|0+i>|0+i>']\n",
      "protocol_play [2, 1, 4, 3]\n",
      "simultaneous swaps True\n",
      "simultaneous efs True\n",
      "readout cool False\n",
      "full mux expt True\n",
      "resonator reset [0, 2, 3]\n",
      "use robust pulses True\n",
      "save data True\n"
     ]
    }
   ],
   "source": [
    "# saved_files = []\n",
    "\n",
    "sync_between_swaps = False\n",
    "sync_between_efs = False\n",
    "\n",
    "print(f'init_states ({len(init_states)} states)', init_states)\n",
    "print('protocol_play', protocol_play)\n",
    "print('simultaneous swaps', not sync_between_swaps)\n",
    "print('simultaneous efs', not sync_between_efs)\n",
    "print('readout cool', readout_cool)\n",
    "print('full mux expt', full_mux_expt)\n",
    "print('resonator reset', resonator_reset)\n",
    "print('use robust pulses', use_robust_pulses)\n",
    "print('save data', save_data)\n",
    "if not save_data:\n",
    "    print('WARNING!! YOU ARE NOT SAVING DATA!')"
   ]
  },
  {
   "cell_type": "code",
   "execution_count": 292,
   "metadata": {
    "scrolled": true,
    "tags": []
   },
   "outputs": [
    {
     "name": "stdout",
     "output_type": "stream",
     "text": [
      "init_state |0>|0> play pulses [2, 1, 4, 3]\n",
      "timesteps [inf]\n"
     ]
    },
    {
     "data": {
      "application/vnd.jupyter.widget-view+json": {
       "model_id": "6b58a4bf28164163b97939ac777b0a29",
       "version_major": 2,
       "version_minor": 0
      },
      "text/plain": [
       "  0%|          | 0/8 [00:00<?, ?it/s]"
      ]
     },
     "metadata": {},
     "output_type": "display_data"
    },
    {
     "name": "stdout",
     "output_type": "stream",
     "text": [
      "Qubit  (0)\n",
      "ge fidelity (%): 70.5386708670867 \t angle (deg): 0.0 \t threshold ge: 591.8836790703319\n",
      "Qubit  (2)\n",
      "ge fidelity (%): 78.63907290729071 \t angle (deg): 0.0 \t threshold ge: 900.2559942556144\n",
      "Qubit  (3)\n",
      "ge fidelity (%): 75.13876087608767 \t angle (deg): 0.0 \t threshold ge: 804.1872560517737\n",
      "thresholds=[591.8836790703319, 0, 900.2559942556144, 804.1872560517737],\n",
      "angles=[0.0, 0, 0.0, 0.0],\n",
      "ge_avgs=[[-0.2818724165988609, 2.638253376729048, 3.66933897477624, 0.21111668022782723], [0, 0, 0, 0], [-0.46168096013018933, -4.568513995117983, -3.9084514239218864, 0.14147379983726588], [3.996989503661514, -2.5810567127746142, 0.31246647681041795, 4.430258665581778]] ,\n",
      "counts_calib=[[6777, 959, 727, 137, 1112, 162, 113, 13], [955, 6793, 91, 781, 159, 1092, 13, 116], [874, 119, 6735, 947, 138, 16, 1043, 128], [280, 1039, 1104, 6256, 37, 182, 180, 922], [1204, 185, 123, 34, 6641, 946, 735, 132], [227, 1183, 26, 128, 1167, 6377, 133, 759], [191, 32, 1195, 189, 878, 143, 6429, 943], [59, 459, 166, 979, 338, 2250, 772, 4977]]\n",
      "\n"
     ]
    },
    {
     "data": {
      "application/vnd.jupyter.widget-view+json": {
       "model_id": "8971c170f68e4efab6bc230de7af86de",
       "version_major": 2,
       "version_minor": 0
      },
      "text/plain": [
       "  0%|          | 0/1 [00:00<?, ?it/s]"
      ]
     },
     "metadata": {},
     "output_type": "display_data"
    },
    {
     "data": {
      "application/vnd.jupyter.widget-view+json": {
       "model_id": "9228d9d3e1f24bb781f6ad6a9137cb78",
       "version_major": 2,
       "version_minor": 0
      },
      "text/plain": [
       "  0%|          | 0/27 [00:00<?, ?it/s]"
      ]
     },
     "metadata": {},
     "output_type": "display_data"
    },
    {
     "name": "stdout",
     "output_type": "stream",
     "text": [
      "Saving S:\\QRAM\\qram_4QR2\\data\\data_241025\\00531_QramProtocol3QTomo.h5\n",
      "init_state |0>|1> play pulses [2, 1, 4, 3]\n",
      "timesteps [inf]\n"
     ]
    },
    {
     "data": {
      "application/vnd.jupyter.widget-view+json": {
       "model_id": "6c73df8e701740aab92f338ea2544efc",
       "version_major": 2,
       "version_minor": 0
      },
      "text/plain": [
       "  0%|          | 0/8 [00:00<?, ?it/s]"
      ]
     },
     "metadata": {},
     "output_type": "display_data"
    },
    {
     "name": "stdout",
     "output_type": "stream",
     "text": [
      "Qubit  (0)\n",
      "ge fidelity (%): 70.48872287228721 \t angle (deg): 0.0 \t threshold ge: 596.2040431317574\n",
      "Qubit  (2)\n",
      "ge fidelity (%): 78.80907990799079 \t angle (deg): 0.0 \t threshold ge: 901.9785812183413\n",
      "Qubit  (3)\n",
      "ge fidelity (%): 75.11880088008802 \t angle (deg): 0.0 \t threshold ge: 793.6392432925735\n",
      "thresholds=[596.2040431317574, 0, 901.9785812183413, 793.6392432925735],\n",
      "angles=[0.0, 0, 0.0, 0.0],\n",
      "ge_avgs=[[0.8068018714401958, -6.43757306753458, 2.6599946297803085, -1.2571334418226194], [0, 0, 0, 0], [1.3500729048006508, -2.705879495524818, -1.5564787632221313, 0.18236501220504386], [0.8323491456468685, -0.8746780309194457, -3.0429721724979637, 6.967407323026843]] ,\n",
      "counts_calib=[[6860, 939, 715, 116, 1069, 152, 122, 27], [989, 6710, 103, 793, 150, 1095, 17, 143], [854, 127, 6633, 984, 150, 16, 1097, 139], [325, 1812, 987, 5600, 38, 265, 151, 822], [1233, 201, 141, 19, 6494, 1094, 711, 107], [251, 1302, 23, 149, 1239, 6130, 132, 774], [329, 53, 1048, 182, 1604, 286, 5571, 927], [43, 241, 197, 1219, 195, 1042, 966, 6097]]\n",
      "\n"
     ]
    },
    {
     "data": {
      "application/vnd.jupyter.widget-view+json": {
       "model_id": "776cd2b1c84c432ca7f14105105fa0f2",
       "version_major": 2,
       "version_minor": 0
      },
      "text/plain": [
       "  0%|          | 0/1 [00:00<?, ?it/s]"
      ]
     },
     "metadata": {},
     "output_type": "display_data"
    },
    {
     "data": {
      "application/vnd.jupyter.widget-view+json": {
       "model_id": "f156e44cb34e46fc9ebd5e73655cf97c",
       "version_major": 2,
       "version_minor": 0
      },
      "text/plain": [
       "  0%|          | 0/27 [00:00<?, ?it/s]"
      ]
     },
     "metadata": {},
     "output_type": "display_data"
    },
    {
     "name": "stdout",
     "output_type": "stream",
     "text": [
      "Saving S:\\QRAM\\qram_4QR2\\data\\data_241025\\00532_QramProtocol3QTomo.h5\n",
      "init_state |0>|0+1> play pulses [2, 1, 4, 3]\n",
      "timesteps [inf]\n"
     ]
    },
    {
     "data": {
      "application/vnd.jupyter.widget-view+json": {
       "model_id": "0ecd18da2e3d485fab68f0313cdf6a45",
       "version_major": 2,
       "version_minor": 0
      },
      "text/plain": [
       "  0%|          | 0/8 [00:00<?, ?it/s]"
      ]
     },
     "metadata": {},
     "output_type": "display_data"
    },
    {
     "name": "stdout",
     "output_type": "stream",
     "text": [
      "Qubit  (0)\n",
      "ge fidelity (%): 71.28999999999996 \t angle (deg): 0.0 \t threshold ge: 572.3213355114797\n",
      "Qubit  (2)\n",
      "ge fidelity (%): 80.17891989198918 \t angle (deg): 0.0 \t threshold ge: 872.5819557393999\n",
      "Qubit  (3)\n",
      "ge fidelity (%): 73.38870887088707 \t angle (deg): 0.0 \t threshold ge: 803.94705860406\n",
      "thresholds=[572.3213355114797, 0, 872.5819557393999, 803.94705860406],\n",
      "angles=[0.0, 0, 0.0, 0.0],\n",
      "ge_avgs=[[-1.2452604556550042, -1.320967778681855, -1.261109845402766, 0.49214076484947183], [0, 0, 0, 0], [1.5180659072416607, 1.1496183889340934, 6.600019446704638, -2.518520260374288], [-4.7804409275834, -3.82343620829943, -1.6879776240846216, 7.176436452400327]] ,\n",
      "counts_calib=[[6664, 999, 678, 119, 1191, 183, 141, 25], [1023, 6488, 115, 771, 178, 1252, 21, 152], [770, 105, 6598, 1016, 128, 20, 1166, 197], [329, 1662, 1033, 5438, 44, 294, 163, 1037], [1028, 175, 115, 29, 6693, 989, 833, 138], [221, 1131, 16, 134, 1177, 6391, 120, 810], [187, 25, 1015, 152, 1161, 175, 6392, 893], [20, 156, 162, 1081, 128, 820, 989, 6644]]\n",
      "\n"
     ]
    },
    {
     "data": {
      "application/vnd.jupyter.widget-view+json": {
       "model_id": "248be9fcff5546488f5654aa6a40679f",
       "version_major": 2,
       "version_minor": 0
      },
      "text/plain": [
       "  0%|          | 0/1 [00:00<?, ?it/s]"
      ]
     },
     "metadata": {},
     "output_type": "display_data"
    },
    {
     "data": {
      "application/vnd.jupyter.widget-view+json": {
       "model_id": "7c4c1c1a4fc54323a245f9881e4bbd43",
       "version_major": 2,
       "version_minor": 0
      },
      "text/plain": [
       "  0%|          | 0/27 [00:00<?, ?it/s]"
      ]
     },
     "metadata": {},
     "output_type": "display_data"
    },
    {
     "name": "stdout",
     "output_type": "stream",
     "text": [
      "Saving S:\\QRAM\\qram_4QR2\\data\\data_241025\\00533_QramProtocol3QTomo.h5\n",
      "init_state |0>|0+i> play pulses [2, 1, 4, 3]\n",
      "timesteps [inf]\n"
     ]
    },
    {
     "data": {
      "application/vnd.jupyter.widget-view+json": {
       "model_id": "9cb1ae8de9b64bba822fbfb2de48e645",
       "version_major": 2,
       "version_minor": 0
      },
      "text/plain": [
       "  0%|          | 0/8 [00:00<?, ?it/s]"
      ]
     },
     "metadata": {},
     "output_type": "display_data"
    },
    {
     "name": "stdout",
     "output_type": "stream",
     "text": [
      "Qubit  (0)\n",
      "ge fidelity (%): 71.19870187018702 \t angle (deg): 0.0 \t threshold ge: 599.1276603267764\n",
      "Qubit  (2)\n",
      "ge fidelity (%): 65.15895989598963 \t angle (deg): 0.0 \t threshold ge: 864.4232714878731\n",
      "Qubit  (3)\n",
      "ge fidelity (%): 75.12882788278829 \t angle (deg): 0.0 \t threshold ge: 784.1834425393422\n",
      "thresholds=[599.1276603267764, 0, 864.4232714878731, 784.1834425393422],\n",
      "angles=[0.0, 0, 0.0, 0.0],\n",
      "ge_avgs=[[3.18863702196908, 0.5336126118795773, -2.132574776240845, 2.4585261187957688], [0, 0, 0, 0], [0.48944670463791734, -2.109212611879576, 4.496394711147275, -2.433935638730675], [-0.42903108218063524, -1.7880314890154605, -0.8202049633848677, -1.9705160292921013]] ,\n",
      "counts_calib=[[6749, 932, 824, 117, 1070, 141, 151, 16], [993, 6654, 131, 889, 135, 1042, 23, 133], [1817, 272, 5828, 831, 261, 34, 833, 124], [128, 792, 1153, 6521, 18, 139, 162, 1087], [1154, 170, 161, 33, 6413, 1046, 869, 154], [215, 1319, 34, 169, 1106, 6167, 142, 848], [277, 57, 1100, 190, 1582, 245, 5636, 913], [36, 206, 176, 1232, 148, 942, 954, 6306]]\n",
      "\n"
     ]
    },
    {
     "data": {
      "application/vnd.jupyter.widget-view+json": {
       "model_id": "a0b4e10fa2a04a63b49d8b17f1143405",
       "version_major": 2,
       "version_minor": 0
      },
      "text/plain": [
       "  0%|          | 0/1 [00:00<?, ?it/s]"
      ]
     },
     "metadata": {},
     "output_type": "display_data"
    },
    {
     "data": {
      "application/vnd.jupyter.widget-view+json": {
       "model_id": "066b39a82fbe43d1ab727239bc33a2f2",
       "version_major": 2,
       "version_minor": 0
      },
      "text/plain": [
       "  0%|          | 0/27 [00:00<?, ?it/s]"
      ]
     },
     "metadata": {},
     "output_type": "display_data"
    },
    {
     "name": "stdout",
     "output_type": "stream",
     "text": [
      "Saving S:\\QRAM\\qram_4QR2\\data\\data_241025\\00534_QramProtocol3QTomo.h5\n",
      "init_state |1>|0> play pulses [2, 1, 4, 3]\n",
      "timesteps [inf]\n"
     ]
    },
    {
     "data": {
      "application/vnd.jupyter.widget-view+json": {
       "model_id": "e3debc4bf44d4b11bdc10af1725e4d07",
       "version_major": 2,
       "version_minor": 0
      },
      "text/plain": [
       "  0%|          | 0/8 [00:00<?, ?it/s]"
      ]
     },
     "metadata": {},
     "output_type": "display_data"
    },
    {
     "name": "stdout",
     "output_type": "stream",
     "text": [
      "Qubit  (0)\n",
      "ge fidelity (%): 69.59000000000002 \t angle (deg): 0.0 \t threshold ge: 601.9271728974297\n",
      "Qubit  (2)\n",
      "ge fidelity (%): 75.158496849685 \t angle (deg): 0.0 \t threshold ge: 891.4021701669001\n",
      "Qubit  (3)\n",
      "ge fidelity (%): 73.47000000000001 \t angle (deg): 0.0 \t threshold ge: 810.1611831766459\n",
      "thresholds=[601.9271728974297, 0, 891.4021701669001, 810.1611831766459],\n",
      "angles=[0.0, 0, 0.0, 0.0],\n",
      "ge_avgs=[[0.7834158665581781, -1.5848995931651753, 2.7042598860862497, 1.3782284784377539], [0, 0, 0, 0], [-2.28479853539463, -3.667547681041497, -3.15085793327909, -3.408067534580961], [0.38636305939788634, -7.7533376729048005, -5.078203417412528, -4.7143964198535375]] ,\n",
      "counts_calib=[[6699, 1006, 804, 110, 1086, 152, 121, 22], [1090, 6628, 118, 755, 150, 1122, 17, 120], [1099, 156, 6415, 938, 171, 20, 1052, 149], [243, 1024, 1190, 6147, 39, 167, 169, 1021], [1275, 193, 166, 27, 6424, 983, 793, 139], [258, 1321, 17, 159, 1162, 6195, 125, 763], [389, 54, 1050, 174, 1870, 322, 5293, 848], [39, 290, 191, 1201, 212, 1157, 933, 5977]]\n",
      "\n"
     ]
    },
    {
     "data": {
      "application/vnd.jupyter.widget-view+json": {
       "model_id": "f78d0b9e5cbc4d3f8c9200cb3ede65de",
       "version_major": 2,
       "version_minor": 0
      },
      "text/plain": [
       "  0%|          | 0/1 [00:00<?, ?it/s]"
      ]
     },
     "metadata": {},
     "output_type": "display_data"
    },
    {
     "data": {
      "application/vnd.jupyter.widget-view+json": {
       "model_id": "d67816ea32584ff79d572c41cb971dcb",
       "version_major": 2,
       "version_minor": 0
      },
      "text/plain": [
       "  0%|          | 0/27 [00:00<?, ?it/s]"
      ]
     },
     "metadata": {},
     "output_type": "display_data"
    },
    {
     "name": "stdout",
     "output_type": "stream",
     "text": [
      "Saving S:\\QRAM\\qram_4QR2\\data\\data_241025\\00535_QramProtocol3QTomo.h5\n",
      "init_state |1>|1> play pulses [2, 1, 4, 3]\n",
      "timesteps [inf]\n"
     ]
    },
    {
     "data": {
      "application/vnd.jupyter.widget-view+json": {
       "model_id": "9aa501c9a52f4eaa8b69e9bc502cc6cb",
       "version_major": 2,
       "version_minor": 0
      },
      "text/plain": [
       "  0%|          | 0/8 [00:00<?, ?it/s]"
      ]
     },
     "metadata": {},
     "output_type": "display_data"
    },
    {
     "name": "stdout",
     "output_type": "stream",
     "text": [
      "Qubit  (0)\n",
      "ge fidelity (%): 68.96000000000001 \t angle (deg): 0.0 \t threshold ge: 594.3564531418879\n",
      "Qubit  (2)\n",
      "ge fidelity (%): 69.76999999999997 \t angle (deg): 0.0 \t threshold ge: 887.9693633872795\n",
      "Qubit  (3)\n",
      "ge fidelity (%): 72.68000000000004 \t angle (deg): 0.0 \t threshold ge: 753.0358773225668\n",
      "thresholds=[594.3564531418879, 0, 887.9693633872795, 753.0358773225668],\n",
      "angles=[0.0, 0, 0.0, 0.0],\n",
      "ge_avgs=[[4.698291212367777, 0.665267615947926, -4.57773213995118, -2.859746460537022], [0, 0, 0, 0], [-7.637042310821805, 0.5232077298616772, -7.595059560618388, -4.903011960943857], [-1.4551162733930014, 2.5090510984540275, -0.2740297803091995, -1.0342173311635465]] ,\n",
      "counts_calib=[[6458, 1109, 756, 180, 1119, 194, 149, 35], [948, 6646, 118, 848, 155, 1104, 18, 163], [1394, 228, 5881, 1039, 241, 44, 998, 175], [322, 1774, 978, 5444, 53, 326, 156, 947], [1276, 209, 121, 20, 6399, 1121, 707, 147], [216, 1339, 25, 129, 1050, 6381, 130, 730], [168, 27, 1281, 233, 739, 128, 6277, 1147], [67, 326, 157, 1177, 211, 1419, 798, 5845]]\n",
      "\n"
     ]
    },
    {
     "data": {
      "application/vnd.jupyter.widget-view+json": {
       "model_id": "9399d45a72b9418eb703a606b0d65e0b",
       "version_major": 2,
       "version_minor": 0
      },
      "text/plain": [
       "  0%|          | 0/1 [00:00<?, ?it/s]"
      ]
     },
     "metadata": {},
     "output_type": "display_data"
    },
    {
     "data": {
      "application/vnd.jupyter.widget-view+json": {
       "model_id": "d11466a14ef94246860be9e67b5025eb",
       "version_major": 2,
       "version_minor": 0
      },
      "text/plain": [
       "  0%|          | 0/27 [00:00<?, ?it/s]"
      ]
     },
     "metadata": {},
     "output_type": "display_data"
    },
    {
     "name": "stdout",
     "output_type": "stream",
     "text": [
      "Saving S:\\QRAM\\qram_4QR2\\data\\data_241025\\00536_QramProtocol3QTomo.h5\n",
      "init_state |1>|0+1> play pulses [2, 1, 4, 3]\n",
      "timesteps [inf]\n"
     ]
    },
    {
     "data": {
      "application/vnd.jupyter.widget-view+json": {
       "model_id": "d92a1d8390114fe4b10c350bdf3e7d1a",
       "version_major": 2,
       "version_minor": 0
      },
      "text/plain": [
       "  0%|          | 0/8 [00:00<?, ?it/s]"
      ]
     },
     "metadata": {},
     "output_type": "display_data"
    },
    {
     "name": "stdout",
     "output_type": "stream",
     "text": [
      "Qubit  (0)\n",
      "ge fidelity (%): 68.71863686368638 \t angle (deg): 0.0 \t threshold ge: 597.4896612447965\n",
      "Qubit  (2)\n",
      "ge fidelity (%): 76.94896389638964 \t angle (deg): 0.0 \t threshold ge: 883.0660428269982\n",
      "Qubit  (3)\n",
      "ge fidelity (%): 73.11999999999999 \t angle (deg): 0.0 \t threshold ge: 783.6582579527033\n",
      "thresholds=[597.4896612447965, 0, 883.0660428269982, 783.6582579527033],\n",
      "angles=[0.0, 0, 0.0, 0.0],\n",
      "ge_avgs=[[1.0909301871440187, -8.696446786004882, 0.5850752644426374, 1.3547951993490635], [0, 0, 0, 0], [1.7301218877135884, 1.9614864930838074, -4.656678925956062, 1.8096211554109038], [-1.7857320585842154, 0.919118551668023, 7.287951749389746, 2.8036101708706265]] ,\n",
      "counts_calib=[[6547, 1047, 794, 159, 1103, 169, 155, 26], [991, 6641, 109, 782, 174, 1118, 22, 163], [927, 128, 6465, 1050, 131, 19, 1108, 172], [234, 1297, 1062, 6025, 38, 212, 160, 972], [1284, 192, 158, 43, 6362, 1042, 769, 150], [228, 1258, 25, 192, 1067, 6243, 137, 850], [235, 40, 1210, 210, 1078, 174, 6116, 937], [59, 350, 158, 1142, 257, 1704, 779, 5551]]\n",
      "\n"
     ]
    },
    {
     "data": {
      "application/vnd.jupyter.widget-view+json": {
       "model_id": "58462096a65044c882af2a5ee2788c75",
       "version_major": 2,
       "version_minor": 0
      },
      "text/plain": [
       "  0%|          | 0/1 [00:00<?, ?it/s]"
      ]
     },
     "metadata": {},
     "output_type": "display_data"
    },
    {
     "data": {
      "application/vnd.jupyter.widget-view+json": {
       "model_id": "8f60cf1930ea4094bc73a368343f4ec1",
       "version_major": 2,
       "version_minor": 0
      },
      "text/plain": [
       "  0%|          | 0/27 [00:00<?, ?it/s]"
      ]
     },
     "metadata": {},
     "output_type": "display_data"
    },
    {
     "name": "stdout",
     "output_type": "stream",
     "text": [
      "Saving S:\\QRAM\\qram_4QR2\\data\\data_241025\\00537_QramProtocol3QTomo.h5\n",
      "init_state |1>|0+i> play pulses [2, 1, 4, 3]\n",
      "timesteps [inf]\n"
     ]
    },
    {
     "data": {
      "application/vnd.jupyter.widget-view+json": {
       "model_id": "b03b772bb30148b7b78bb3b1e74a76b5",
       "version_major": 2,
       "version_minor": 0
      },
      "text/plain": [
       "  0%|          | 0/8 [00:00<?, ?it/s]"
      ]
     },
     "metadata": {},
     "output_type": "display_data"
    },
    {
     "name": "stdout",
     "output_type": "stream",
     "text": [
      "Qubit  (0)\n",
      "ge fidelity (%): 70.04999999999998 \t angle (deg): 0.0 \t threshold ge: 591.513699856103\n",
      "Qubit  (2)\n",
      "ge fidelity (%): 72.05 \t angle (deg): 0.0 \t threshold ge: 891.0426698400009\n",
      "Qubit  (3)\n",
      "ge fidelity (%): 74.16879587958798 \t angle (deg): 0.0 \t threshold ge: 810.11394544401\n",
      "thresholds=[591.513699856103, 0, 891.0426698400009, 810.11394544401],\n",
      "angles=[0.0, 0, 0.0, 0.0],\n",
      "ge_avgs=[[0.9165419039869815, 1.7041676159479267, 2.717660862489829, -3.366515215622456], [0, 0, 0, 0], [0.2477199349064278, -3.2113395443449964, -1.7187626525630586, -2.7316650122050445], [2.134413832384051, 5.307535150528885, -1.9510537021969097, 2.6689406834825102]] ,\n",
      "counts_calib=[[6764, 967, 762, 101, 1115, 142, 130, 19], [1061, 6578, 130, 808, 147, 1103, 20, 153], [1338, 191, 6235, 824, 233, 31, 1017, 131], [451, 2391, 872, 4876, 74, 356, 146, 834], [1266, 172, 145, 31, 6611, 888, 758, 129], [230, 1242, 29, 140, 1108, 6268, 155, 828], [176, 34, 1252, 192, 756, 119, 6440, 1031], [67, 375, 165, 1082, 313, 1752, 824, 5422]]\n",
      "\n"
     ]
    },
    {
     "data": {
      "application/vnd.jupyter.widget-view+json": {
       "model_id": "415bdaada00d4461a433c2d88357abf8",
       "version_major": 2,
       "version_minor": 0
      },
      "text/plain": [
       "  0%|          | 0/1 [00:00<?, ?it/s]"
      ]
     },
     "metadata": {},
     "output_type": "display_data"
    },
    {
     "data": {
      "application/vnd.jupyter.widget-view+json": {
       "model_id": "bab9003d0e2b458aa32f773e366e872c",
       "version_major": 2,
       "version_minor": 0
      },
      "text/plain": [
       "  0%|          | 0/27 [00:00<?, ?it/s]"
      ]
     },
     "metadata": {},
     "output_type": "display_data"
    },
    {
     "name": "stdout",
     "output_type": "stream",
     "text": [
      "Saving S:\\QRAM\\qram_4QR2\\data\\data_241025\\00538_QramProtocol3QTomo.h5\n",
      "init_state |0+1>|0> play pulses [2, 1, 4, 3]\n",
      "timesteps [inf]\n"
     ]
    },
    {
     "data": {
      "application/vnd.jupyter.widget-view+json": {
       "model_id": "4831816ad26347588a4311aefd6e18ba",
       "version_major": 2,
       "version_minor": 0
      },
      "text/plain": [
       "  0%|          | 0/8 [00:00<?, ?it/s]"
      ]
     },
     "metadata": {},
     "output_type": "display_data"
    },
    {
     "name": "stdout",
     "output_type": "stream",
     "text": [
      "Qubit  (0)\n",
      "ge fidelity (%): 69.92000000000002 \t angle (deg): 0.0 \t threshold ge: 583.9653065459863\n",
      "Qubit  (2)\n",
      "ge fidelity (%): 78.81910591059106 \t angle (deg): 0.0 \t threshold ge: 899.6562482284103\n",
      "Qubit  (3)\n",
      "ge fidelity (%): 71.66999999999999 \t angle (deg): 0.0 \t threshold ge: 742.1451213719212\n",
      "thresholds=[583.9653065459863, 0, 899.6562482284103, 742.1451213719212],\n",
      "angles=[0.0, 0, 0.0, 0.0],\n",
      "ge_avgs=[[-1.659520260374288, -3.671662652563059, 0.13078470301057818, -3.5479947111472736], [0, 0, 0, 0], [-1.513408868999186, 0.2797805532953633, -0.3502749389747762, -2.711868673718471], [-2.2993387306753457, 1.5498145646867372, 2.535820585842147, -2.1540833197721696]] ,\n",
      "counts_calib=[[6551, 1181, 678, 121, 1120, 193, 129, 27], [1039, 6637, 87, 693, 173, 1228, 20, 123], [835, 161, 6329, 1235, 142, 27, 1060, 211], [152, 911, 1014, 6383, 23, 142, 211, 1164], [1202, 227, 125, 21, 6289, 1246, 729, 161], [228, 1247, 21, 130, 1236, 6350, 103, 685], [294, 56, 1020, 195, 1396, 244, 5687, 1108], [31, 200, 174, 1167, 130, 1067, 877, 6354]]\n",
      "\n"
     ]
    },
    {
     "data": {
      "application/vnd.jupyter.widget-view+json": {
       "model_id": "fbe94f76741b4260aa8acc445a3076e1",
       "version_major": 2,
       "version_minor": 0
      },
      "text/plain": [
       "  0%|          | 0/1 [00:00<?, ?it/s]"
      ]
     },
     "metadata": {},
     "output_type": "display_data"
    },
    {
     "data": {
      "application/vnd.jupyter.widget-view+json": {
       "model_id": "417bb24b7fff48d4b7da2e0065a28adc",
       "version_major": 2,
       "version_minor": 0
      },
      "text/plain": [
       "  0%|          | 0/27 [00:00<?, ?it/s]"
      ]
     },
     "metadata": {},
     "output_type": "display_data"
    },
    {
     "name": "stdout",
     "output_type": "stream",
     "text": [
      "Saving S:\\QRAM\\qram_4QR2\\data\\data_241025\\00539_QramProtocol3QTomo.h5\n",
      "init_state |0+1>|1> play pulses [2, 1, 4, 3]\n",
      "timesteps [inf]\n"
     ]
    },
    {
     "data": {
      "application/vnd.jupyter.widget-view+json": {
       "model_id": "373a3c6681184c73b9966490453702c7",
       "version_major": 2,
       "version_minor": 0
      },
      "text/plain": [
       "  0%|          | 0/8 [00:00<?, ?it/s]"
      ]
     },
     "metadata": {},
     "output_type": "display_data"
    },
    {
     "name": "stdout",
     "output_type": "stream",
     "text": [
      "Qubit  (0)\n",
      "ge fidelity (%): 70.14863186318632 \t angle (deg): 0.0 \t threshold ge: 594.6007150051599\n",
      "Qubit  (2)\n",
      "ge fidelity (%): 76.21912591259127 \t angle (deg): 0.0 \t threshold ge: 889.3780115311665\n",
      "Qubit  (3)\n",
      "ge fidelity (%): 72.49864886488649 \t angle (deg): 0.0 \t threshold ge: 795.3857661496485\n",
      "thresholds=[594.6007150051599, 0, 889.3780115311665, 795.3857661496485],\n",
      "angles=[0.0, 0, 0.0, 0.0],\n",
      "ge_avgs=[[-3.3940705451586646, -1.7006633848657449, 0.7327468673718457, -2.5816747762408463], [0, 0, 0, 0], [3.176978193653376, -2.3273280716029294, 0.9325254678600501, -3.442096908055329], [-5.06200113913751, 5.597158991049633, 4.1423026851098435, -1.0769349877949512]] ,\n",
      "counts_calib=[[6698, 1064, 660, 130, 1134, 174, 121, 19], [1090, 6615, 115, 733, 152, 1141, 17, 137], [1061, 160, 6317, 1000, 204, 28, 1061, 169], [338, 1813, 1019, 5430, 64, 292, 163, 881], [1217, 167, 140, 20, 6482, 1066, 797, 111], [262, 1280, 28, 166, 1135, 6169, 149, 811], [303, 44, 1202, 170, 1361, 205, 5780, 935], [50, 414, 137, 1124, 294, 1907, 770, 5304]]\n",
      "\n"
     ]
    },
    {
     "data": {
      "application/vnd.jupyter.widget-view+json": {
       "model_id": "a01746bce58846b697e0b8f6d5effb41",
       "version_major": 2,
       "version_minor": 0
      },
      "text/plain": [
       "  0%|          | 0/1 [00:00<?, ?it/s]"
      ]
     },
     "metadata": {},
     "output_type": "display_data"
    },
    {
     "data": {
      "application/vnd.jupyter.widget-view+json": {
       "model_id": "e7730c558e52470982122369ed1d2b44",
       "version_major": 2,
       "version_minor": 0
      },
      "text/plain": [
       "  0%|          | 0/27 [00:00<?, ?it/s]"
      ]
     },
     "metadata": {},
     "output_type": "display_data"
    },
    {
     "name": "stdout",
     "output_type": "stream",
     "text": [
      "Saving S:\\QRAM\\qram_4QR2\\data\\data_241025\\00540_QramProtocol3QTomo.h5\n",
      "init_state |0+1>|0+1> play pulses [2, 1, 4, 3]\n",
      "timesteps [inf]\n"
     ]
    },
    {
     "data": {
      "application/vnd.jupyter.widget-view+json": {
       "model_id": "d597f6f2fe5748449ed78c606f610f6d",
       "version_major": 2,
       "version_minor": 0
      },
      "text/plain": [
       "  0%|          | 0/8 [00:00<?, ?it/s]"
      ]
     },
     "metadata": {},
     "output_type": "display_data"
    },
    {
     "name": "stdout",
     "output_type": "stream",
     "text": [
      "Qubit  (0)\n",
      "ge fidelity (%): 68.23 \t angle (deg): 0.0 \t threshold ge: 591.0317924989059\n",
      "Qubit  (2)\n",
      "ge fidelity (%): 78.42 \t angle (deg): 0.0 \t threshold ge: 935.6179190668598\n",
      "Qubit  (3)\n",
      "ge fidelity (%): 73.04999999999998 \t angle (deg): 0.0 \t threshold ge: 792.8446502013617\n",
      "thresholds=[591.0317924989059, 0, 935.6179190668598, 792.8446502013617],\n",
      "angles=[0.0, 0, 0.0, 0.0],\n",
      "ge_avgs=[[-2.8543391375101694, -2.7659467860048816, -0.7887224572823442, -0.9157660699755903], [0, 0, 0, 0], [-6.0604110659072425, 1.8825154597233529, 1.9317091131000816, 0.3629058584214815], [-7.137133441822618, -9.756608055329535, 2.8605620829943024, 1.1926392188771309]] ,\n",
      "counts_calib=[[6750, 1084, 545, 108, 1206, 187, 106, 14], [1033, 6747, 95, 615, 162, 1234, 14, 100], [1045, 170, 6336, 976, 152, 24, 1133, 164], [313, 1868, 984, 5390, 59, 366, 146, 874], [1361, 198, 106, 17, 6503, 1084, 631, 100], [293, 1347, 23, 125, 1290, 6250, 126, 546], [211, 35, 1220, 200, 1075, 163, 6051, 1045], [38, 229, 174, 1195, 185, 1222, 923, 6034]]\n",
      "\n"
     ]
    },
    {
     "data": {
      "application/vnd.jupyter.widget-view+json": {
       "model_id": "993cda8def9a44f982605057fddf9a34",
       "version_major": 2,
       "version_minor": 0
      },
      "text/plain": [
       "  0%|          | 0/1 [00:00<?, ?it/s]"
      ]
     },
     "metadata": {},
     "output_type": "display_data"
    },
    {
     "data": {
      "application/vnd.jupyter.widget-view+json": {
       "model_id": "de5fe4e0d0614d05a8561920b46b3a1c",
       "version_major": 2,
       "version_minor": 0
      },
      "text/plain": [
       "  0%|          | 0/27 [00:00<?, ?it/s]"
      ]
     },
     "metadata": {},
     "output_type": "display_data"
    },
    {
     "name": "stdout",
     "output_type": "stream",
     "text": [
      "Saving S:\\QRAM\\qram_4QR2\\data\\data_241025\\00541_QramProtocol3QTomo.h5\n",
      "init_state |0+1>|0+i> play pulses [2, 1, 4, 3]\n",
      "timesteps [inf]\n"
     ]
    },
    {
     "data": {
      "application/vnd.jupyter.widget-view+json": {
       "model_id": "24d70e650e1c40cab0d3a195ba4c9fe7",
       "version_major": 2,
       "version_minor": 0
      },
      "text/plain": [
       "  0%|          | 0/8 [00:00<?, ?it/s]"
      ]
     },
     "metadata": {},
     "output_type": "display_data"
    },
    {
     "name": "stdout",
     "output_type": "stream",
     "text": [
      "Qubit  (0)\n",
      "ge fidelity (%): 69.98999999999997 \t angle (deg): 0.0 \t threshold ge: 601.2170714779164\n",
      "Qubit  (2)\n",
      "ge fidelity (%): 79.64903590359036 \t angle (deg): 0.0 \t threshold ge: 885.2189760317128\n",
      "Qubit  (3)\n",
      "ge fidelity (%): 72.03000000000002 \t angle (deg): 0.0 \t threshold ge: 760.8780737263205\n",
      "thresholds=[601.2170714779164, 0, 885.2189760317128, 760.8780737263205],\n",
      "angles=[0.0, 0, 0.0, 0.0],\n",
      "ge_avgs=[[2.9830543531326277, 1.1727654190398695, -2.322632872253864, -4.508975345809602], [0, 0, 0, 0], [-0.5857537835638724, 3.6365558177379986, 4.096771358828317, 1.9618127746135088], [5.505901545972334, 2.9139404393816117, 1.525341578519123, 14.353148820179008]] ,\n",
      "counts_calib=[[6620, 1107, 748, 125, 1088, 157, 131, 24], [1134, 6724, 84, 715, 158, 1050, 16, 119], [747, 116, 6607, 1145, 141, 13, 1039, 192], [357, 2133, 930, 5239, 60, 309, 140, 832], [1205, 234, 139, 32, 6342, 1200, 686, 162], [235, 1267, 27, 132, 1144, 6307, 136, 752], [251, 46, 1123, 198, 1198, 217, 5879, 1088], [45, 207, 187, 1318, 164, 902, 942, 6235]]\n",
      "\n"
     ]
    },
    {
     "data": {
      "application/vnd.jupyter.widget-view+json": {
       "model_id": "b18f9913d0a64297a53f070f80c6d6e5",
       "version_major": 2,
       "version_minor": 0
      },
      "text/plain": [
       "  0%|          | 0/1 [00:00<?, ?it/s]"
      ]
     },
     "metadata": {},
     "output_type": "display_data"
    },
    {
     "data": {
      "application/vnd.jupyter.widget-view+json": {
       "model_id": "e78df0068f8f4262971ab86851adac9f",
       "version_major": 2,
       "version_minor": 0
      },
      "text/plain": [
       "  0%|          | 0/27 [00:00<?, ?it/s]"
      ]
     },
     "metadata": {},
     "output_type": "display_data"
    },
    {
     "name": "stdout",
     "output_type": "stream",
     "text": [
      "Saving S:\\QRAM\\qram_4QR2\\data\\data_241025\\00542_QramProtocol3QTomo.h5\n",
      "init_state |0+i>|0> play pulses [2, 1, 4, 3]\n",
      "timesteps [inf]\n"
     ]
    },
    {
     "data": {
      "application/vnd.jupyter.widget-view+json": {
       "model_id": "9dc4100af23249578ee4740d54aeb900",
       "version_major": 2,
       "version_minor": 0
      },
      "text/plain": [
       "  0%|          | 0/8 [00:00<?, ?it/s]"
      ]
     },
     "metadata": {},
     "output_type": "display_data"
    },
    {
     "name": "stdout",
     "output_type": "stream",
     "text": [
      "Qubit  (0)\n",
      "ge fidelity (%): 70.66862286228621 \t angle (deg): 0.0 \t threshold ge: 585.0682882886441\n",
      "Qubit  (2)\n",
      "ge fidelity (%): 76.07999999999997 \t angle (deg): 0.0 \t threshold ge: 889.7621039273331\n",
      "Qubit  (3)\n",
      "ge fidelity (%): 73.90999999999998 \t angle (deg): 0.0 \t threshold ge: 822.3646487153203\n",
      "thresholds=[585.0682882886441, 0, 889.7621039273331, 822.3646487153203],\n",
      "angles=[0.0, 0, 0.0, 0.0],\n",
      "ge_avgs=[[-7.998516924328723, -2.816316924328723, -4.4564849471114725, 2.5343622457282353], [0, 0, 0, 0], [-1.2802756712774612, -2.8468566314076478, -3.289369975589909, 2.358327420667209], [-4.125626525630595, -7.096296501220504, -3.0820434499593117, 0.843452481692432]] ,\n",
      "counts_calib=[[6692, 995, 728, 128, 1143, 165, 134, 15], [1019, 6632, 124, 810, 156, 1126, 15, 118], [1092, 149, 6457, 917, 164, 22, 1043, 156], [210, 1200, 1079, 6065, 42, 196, 175, 1033], [1197, 158, 113, 30, 6590, 944, 830, 138], [246, 1197, 30, 153, 1218, 6258, 116, 782], [182, 31, 1193, 168, 873, 107, 6472, 974], [53, 257, 195, 1195, 205, 1168, 965, 5962]]\n",
      "\n"
     ]
    },
    {
     "data": {
      "application/vnd.jupyter.widget-view+json": {
       "model_id": "2d5b8deaece344e6b778f9b4c840e625",
       "version_major": 2,
       "version_minor": 0
      },
      "text/plain": [
       "  0%|          | 0/1 [00:00<?, ?it/s]"
      ]
     },
     "metadata": {},
     "output_type": "display_data"
    },
    {
     "data": {
      "application/vnd.jupyter.widget-view+json": {
       "model_id": "8259f5d6fff14683b0154b638ca9d847",
       "version_major": 2,
       "version_minor": 0
      },
      "text/plain": [
       "  0%|          | 0/27 [00:00<?, ?it/s]"
      ]
     },
     "metadata": {},
     "output_type": "display_data"
    },
    {
     "name": "stdout",
     "output_type": "stream",
     "text": [
      "Saving S:\\QRAM\\qram_4QR2\\data\\data_241025\\00543_QramProtocol3QTomo.h5\n",
      "init_state |0+i>|1> play pulses [2, 1, 4, 3]\n",
      "timesteps [inf]\n"
     ]
    },
    {
     "data": {
      "application/vnd.jupyter.widget-view+json": {
       "model_id": "4cacbd1631b347cabc1bb79f63d9d669",
       "version_major": 2,
       "version_minor": 0
      },
      "text/plain": [
       "  0%|          | 0/8 [00:00<?, ?it/s]"
      ]
     },
     "metadata": {},
     "output_type": "display_data"
    },
    {
     "name": "stdout",
     "output_type": "stream",
     "text": [
      "Qubit  (0)\n",
      "ge fidelity (%): 70.15865786578657 \t angle (deg): 0.0 \t threshold ge: 592.7487439932637\n",
      "Qubit  (2)\n",
      "ge fidelity (%): 78.8089408940894 \t angle (deg): 0.0 \t threshold ge: 886.8179269184207\n",
      "Qubit  (3)\n",
      "ge fidelity (%): 74.21 \t angle (deg): 0.0 \t threshold ge: 803.8738308282525\n",
      "thresholds=[592.7487439932637, 0, 886.8179269184207, 803.8738308282525],\n",
      "angles=[0.0, 0, 0.0, 0.0],\n",
      "ge_avgs=[[3.3674073230268515, 2.49220439381611, 1.1987160292921077, 2.989677379983727], [0, 0, 0, 0], [0.065008787632221, -0.5252231895850283, 3.9034157038242467, -2.445778193653377], [-2.2249264442636285, -2.8530063466232707, -5.413650935720099, -4.003443856794146]] ,\n",
      "counts_calib=[[6611, 986, 857, 123, 1097, 172, 129, 25], [1005, 6535, 124, 885, 140, 1149, 13, 149], [732, 118, 6660, 1064, 133, 13, 1120, 160], [250, 1418, 1087, 5727, 43, 251, 167, 1057], [1206, 182, 169, 20, 6428, 1010, 832, 153], [223, 1257, 32, 136, 1210, 6260, 115, 767], [205, 22, 1305, 185, 843, 125, 6332, 983], [18, 203, 193, 1264, 149, 798, 1023, 6352]]\n",
      "\n"
     ]
    },
    {
     "data": {
      "application/vnd.jupyter.widget-view+json": {
       "model_id": "20a68be994714e2e950cd996874e3cb0",
       "version_major": 2,
       "version_minor": 0
      },
      "text/plain": [
       "  0%|          | 0/1 [00:00<?, ?it/s]"
      ]
     },
     "metadata": {},
     "output_type": "display_data"
    },
    {
     "data": {
      "application/vnd.jupyter.widget-view+json": {
       "model_id": "c320b1991fd24b80b565f8680a4ddaab",
       "version_major": 2,
       "version_minor": 0
      },
      "text/plain": [
       "  0%|          | 0/27 [00:00<?, ?it/s]"
      ]
     },
     "metadata": {},
     "output_type": "display_data"
    },
    {
     "name": "stdout",
     "output_type": "stream",
     "text": [
      "Saving S:\\QRAM\\qram_4QR2\\data\\data_241025\\00544_QramProtocol3QTomo.h5\n",
      "init_state |0+i>|0+1> play pulses [2, 1, 4, 3]\n",
      "timesteps [inf]\n"
     ]
    },
    {
     "data": {
      "application/vnd.jupyter.widget-view+json": {
       "model_id": "fa4cfe5da6d64cb38df086580ecabcdf",
       "version_major": 2,
       "version_minor": 0
      },
      "text/plain": [
       "  0%|          | 0/8 [00:00<?, ?it/s]"
      ]
     },
     "metadata": {},
     "output_type": "display_data"
    },
    {
     "name": "stdout",
     "output_type": "stream",
     "text": [
      "Qubit  (0)\n",
      "ge fidelity (%): 70.43853485348535 \t angle (deg): 0.0 \t threshold ge: 570.6243300257589\n",
      "Qubit  (2)\n",
      "ge fidelity (%): 78.19000000000003 \t angle (deg): 0.0 \t threshold ge: 903.1417281182501\n",
      "Qubit  (3)\n",
      "ge fidelity (%): 73.46866086608661 \t angle (deg): 0.0 \t threshold ge: 782.6546337860689\n",
      "thresholds=[570.6243300257589, 0, 903.1417281182501, 782.6546337860689],\n",
      "angles=[0.0, 0, 0.0, 0.0],\n",
      "ge_avgs=[[0.41172799023596346, -2.873872660699756, 0.5788484133441822, 0.3598630593978829], [0, 0, 0, 0], [-2.0351144019528076, 4.6375445890968265, -1.9382424735557369, -4.7215703824247335], [-3.1501230268510985, 0.36573295362082936, 0.005470463791706061, -12.495414727420671]] ,\n",
      "counts_calib=[[6648, 1058, 658, 109, 1226, 184, 101, 16], [1022, 6599, 85, 704, 173, 1273, 17, 127], [947, 136, 6340, 934, 209, 17, 1248, 169], [174, 880, 1070, 6264, 25, 161, 174, 1252], [1117, 179, 119, 21, 6564, 1093, 779, 128], [191, 1065, 14, 142, 1139, 6615, 119, 715], [279, 40, 930, 161, 1519, 258, 5844, 969], [57, 321, 155, 909, 307, 1952, 854, 5445]]\n",
      "\n"
     ]
    },
    {
     "data": {
      "application/vnd.jupyter.widget-view+json": {
       "model_id": "e7492061f9354f248d87c03c188dd40f",
       "version_major": 2,
       "version_minor": 0
      },
      "text/plain": [
       "  0%|          | 0/1 [00:00<?, ?it/s]"
      ]
     },
     "metadata": {},
     "output_type": "display_data"
    },
    {
     "data": {
      "application/vnd.jupyter.widget-view+json": {
       "model_id": "5ed4c8a8c5444d078b0ee8751d790926",
       "version_major": 2,
       "version_minor": 0
      },
      "text/plain": [
       "  0%|          | 0/27 [00:00<?, ?it/s]"
      ]
     },
     "metadata": {},
     "output_type": "display_data"
    },
    {
     "name": "stdout",
     "output_type": "stream",
     "text": [
      "Saving S:\\QRAM\\qram_4QR2\\data\\data_241025\\00545_QramProtocol3QTomo.h5\n",
      "init_state |0+i>|0+i> play pulses [2, 1, 4, 3]\n",
      "timesteps [inf]\n"
     ]
    },
    {
     "data": {
      "application/vnd.jupyter.widget-view+json": {
       "model_id": "9a24f9285424434aa4a2c8aa9306389c",
       "version_major": 2,
       "version_minor": 0
      },
      "text/plain": [
       "  0%|          | 0/8 [00:00<?, ?it/s]"
      ]
     },
     "metadata": {},
     "output_type": "display_data"
    },
    {
     "name": "stdout",
     "output_type": "stream",
     "text": [
      "Qubit  (0)\n",
      "ge fidelity (%): 69.6 \t angle (deg): 0.0 \t threshold ge: 588.2688232773739\n",
      "Qubit  (2)\n",
      "ge fidelity (%): 77.90999999999997 \t angle (deg): 0.0 \t threshold ge: 893.6616580038656\n",
      "Qubit  (3)\n",
      "ge fidelity (%): 71.91861486148613 \t angle (deg): 0.0 \t threshold ge: 762.9291715123497\n",
      "thresholds=[588.2688232773739, 0, 893.6616580038656, 762.9291715123497],\n",
      "angles=[0.0, 0, 0.0, 0.0],\n",
      "ge_avgs=[[-4.419009031733116, 2.067155736371033, 1.5550124491456463, -1.7687596419853537], [0, 0, 0, 0], [4.769499511798211, 0.37749007323026745, 1.6106893409275813, 4.138397314890155], [5.163372253864931, -6.372383401139139, 1.1801345809601331, 1.6899710333604592]] ,\n",
      "counts_calib=[[6565, 1102, 736, 129, 1160, 168, 117, 23], [1115, 6723, 100, 653, 165, 1116, 17, 111], [881, 160, 6414, 1108, 146, 31, 1075, 185], [251, 1294, 1101, 5896, 42, 208, 184, 1024], [1247, 181, 125, 26, 6553, 1033, 703, 132], [208, 1209, 23, 146, 1113, 6411, 123, 767], [225, 31, 1150, 184, 1156, 159, 6107, 988], [72, 271, 183, 1150, 201, 1214, 919, 5990]]\n",
      "\n"
     ]
    },
    {
     "data": {
      "application/vnd.jupyter.widget-view+json": {
       "model_id": "690b12f8cdad444d9a5aef0dbc1129d6",
       "version_major": 2,
       "version_minor": 0
      },
      "text/plain": [
       "  0%|          | 0/1 [00:00<?, ?it/s]"
      ]
     },
     "metadata": {},
     "output_type": "display_data"
    },
    {
     "data": {
      "application/vnd.jupyter.widget-view+json": {
       "model_id": "46438a6d8c7a41c0a1b069781b63be0e",
       "version_major": 2,
       "version_minor": 0
      },
      "text/plain": [
       "  0%|          | 0/27 [00:00<?, ?it/s]"
      ]
     },
     "metadata": {},
     "output_type": "display_data"
    },
    {
     "name": "stdout",
     "output_type": "stream",
     "text": [
      "Saving S:\\QRAM\\qram_4QR2\\data\\data_241025\\00546_QramProtocol3QTomo.h5\n",
      "init_state |0>|0> play pulses [2, 1, 4, 3]\n",
      "timesteps [inf]\n"
     ]
    },
    {
     "data": {
      "application/vnd.jupyter.widget-view+json": {
       "model_id": "6766335dd8f74ff19e674560f841642d",
       "version_major": 2,
       "version_minor": 0
      },
      "text/plain": [
       "  0%|          | 0/8 [00:00<?, ?it/s]"
      ]
     },
     "metadata": {},
     "output_type": "display_data"
    },
    {
     "name": "stdout",
     "output_type": "stream",
     "text": [
      "Qubit  (0)\n",
      "ge fidelity (%): 70.79999999999997 \t angle (deg): 0.0 \t threshold ge: 588.3392386230626\n",
      "Qubit  (2)\n",
      "ge fidelity (%): 78.6290619061906 \t angle (deg): 0.0 \t threshold ge: 882.1176925965459\n",
      "Qubit  (3)\n",
      "ge fidelity (%): 75.6787928792879 \t angle (deg): 0.0 \t threshold ge: 809.4903822752444\n",
      "thresholds=[588.3392386230626, 0, 882.1176925965459, 809.4903822752444],\n",
      "angles=[0.0, 0, 0.0, 0.0],\n",
      "ge_avgs=[[1.2216369406021157, 5.242446460537022, -4.683714483319772, 2.5643353132628146], [0, 0, 0, 0], [-1.7263932465419038, -3.0497749389747772, -0.444174206672091, -3.790814564686737], [3.415166639544346, 1.633439869812856, 2.007585760781116, -3.57317078925956]] ,\n",
      "counts_calib=[[6791, 937, 752, 127, 1118, 150, 102, 23], [944, 6678, 98, 863, 151, 1107, 8, 151], [861, 129, 6620, 1000, 125, 26, 1073, 166], [327, 1787, 1027, 5457, 30, 334, 148, 890], [1216, 180, 140, 21, 6612, 928, 765, 138], [209, 1236, 26, 145, 1059, 6399, 118, 808], [215, 22, 1186, 157, 1035, 134, 6369, 882], [32, 203, 176, 1224, 160, 968, 913, 6324]]\n",
      "\n"
     ]
    },
    {
     "data": {
      "application/vnd.jupyter.widget-view+json": {
       "model_id": "0ef1ad2371bf458eaae7a8585aeea274",
       "version_major": 2,
       "version_minor": 0
      },
      "text/plain": [
       "  0%|          | 0/1 [00:00<?, ?it/s]"
      ]
     },
     "metadata": {},
     "output_type": "display_data"
    },
    {
     "data": {
      "application/vnd.jupyter.widget-view+json": {
       "model_id": "757b72ddcfba4ea59f65d09984d58490",
       "version_major": 2,
       "version_minor": 0
      },
      "text/plain": [
       "  0%|          | 0/27 [00:00<?, ?it/s]"
      ]
     },
     "metadata": {},
     "output_type": "display_data"
    },
    {
     "name": "stdout",
     "output_type": "stream",
     "text": [
      "Saving S:\\QRAM\\qram_4QR2\\data\\data_241025\\00547_QramProtocol3QTomo.h5\n",
      "init_state |0>|1> play pulses [2, 1, 4, 3]\n",
      "timesteps [inf]\n"
     ]
    },
    {
     "data": {
      "application/vnd.jupyter.widget-view+json": {
       "model_id": "e18708ffaf924a5e88b71d3fb9adb734",
       "version_major": 2,
       "version_minor": 0
      },
      "text/plain": [
       "  0%|          | 0/8 [00:00<?, ?it/s]"
      ]
     },
     "metadata": {},
     "output_type": "display_data"
    },
    {
     "name": "stdout",
     "output_type": "stream",
     "text": [
      "Qubit  (0)\n",
      "ge fidelity (%): 68.76 \t angle (deg): 0.0 \t threshold ge: 591.30835536942\n",
      "Qubit  (2)\n",
      "ge fidelity (%): 79.11920392039202 \t angle (deg): 0.0 \t threshold ge: 907.8719505141341\n",
      "Qubit  (3)\n",
      "ge fidelity (%): 73.64874087408741 \t angle (deg): 0.0 \t threshold ge: 777.8900118932553\n",
      "thresholds=[591.30835536942, 0, 907.8719505141341, 777.8900118932553],\n",
      "angles=[0.0, 0, 0.0, 0.0],\n",
      "ge_avgs=[[6.4589086248982905, -5.301316680227827, 0.6865109845402765, -1.7768784377542723], [0, 0, 0, 0], [0.1337044751830763, -1.2925947111472738, 0.21461749389747756, -2.7352086248982923], [-4.731938567941418, -6.922910659072416, -0.2050339300244108, 5.2299545158665595]] ,\n",
      "counts_calib=[[6709, 1105, 636, 96, 1140, 182, 110, 22], [974, 6816, 80, 653, 169, 1194, 14, 100], [888, 145, 6476, 1049, 173, 24, 1103, 142], [192, 1111, 1106, 6163, 37, 181, 166, 1044], [1324, 229, 109, 22, 6562, 1036, 605, 113], [247, 1309, 26, 121, 1238, 6305, 106, 648], [233, 18, 1255, 184, 1002, 166, 6173, 969], [34, 280, 185, 1137, 200, 1377, 823, 5964]]\n",
      "\n"
     ]
    },
    {
     "data": {
      "application/vnd.jupyter.widget-view+json": {
       "model_id": "585e49387dc6440c8b932dfb4775cdbc",
       "version_major": 2,
       "version_minor": 0
      },
      "text/plain": [
       "  0%|          | 0/1 [00:00<?, ?it/s]"
      ]
     },
     "metadata": {},
     "output_type": "display_data"
    },
    {
     "data": {
      "application/vnd.jupyter.widget-view+json": {
       "model_id": "05e87fcecccd44f888eb57e4693347e0",
       "version_major": 2,
       "version_minor": 0
      },
      "text/plain": [
       "  0%|          | 0/27 [00:00<?, ?it/s]"
      ]
     },
     "metadata": {},
     "output_type": "display_data"
    },
    {
     "name": "stdout",
     "output_type": "stream",
     "text": [
      "Saving S:\\QRAM\\qram_4QR2\\data\\data_241025\\00548_QramProtocol3QTomo.h5\n",
      "init_state |0>|0+1> play pulses [2, 1, 4, 3]\n",
      "timesteps [inf]\n"
     ]
    },
    {
     "data": {
      "application/vnd.jupyter.widget-view+json": {
       "model_id": "fcaac5ee28e6409fbd2bdfd13937a461",
       "version_major": 2,
       "version_minor": 0
      },
      "text/plain": [
       "  0%|          | 0/8 [00:00<?, ?it/s]"
      ]
     },
     "metadata": {},
     "output_type": "display_data"
    },
    {
     "name": "stdout",
     "output_type": "stream",
     "text": [
      "Qubit  (0)\n",
      "ge fidelity (%): 68.55853085308532 \t angle (deg): 0.0 \t threshold ge: 574.1853135918137\n",
      "Qubit  (2)\n",
      "ge fidelity (%): 75.1 \t angle (deg): 0.0 \t threshold ge: 887.9499440436496\n",
      "Qubit  (3)\n",
      "ge fidelity (%): 73.29865986598661 \t angle (deg): 0.0 \t threshold ge: 773.1148990858703\n",
      "thresholds=[574.1853135918137, 0, 887.9499440436496, 773.1148990858703],\n",
      "angles=[0.0, 0, 0.0, 0.0],\n",
      "ge_avgs=[[-0.27401122864117095, 0.11991285598047216, -0.6670572009764039, 1.6361803905614318], [0, 0, 0, 0], [-1.4923336859235143, -3.328938242473556, 2.7648244914564666, -4.3020416598860844], [-2.939246623270952, 0.07322652563059537, -2.229597640358011, 3.898389340927585]] ,\n",
      "counts_calib=[[6563, 1057, 725, 97, 1197, 204, 136, 21], [1007, 6629, 107, 709, 167, 1225, 21, 135], [1148, 163, 6122, 967, 184, 24, 1205, 187], [317, 1771, 918, 5403, 53, 335, 156, 1047], [1216, 214, 143, 22, 6526, 992, 721, 166], [185, 1114, 19, 129, 1066, 6617, 99, 771], [125, 28, 1158, 195, 735, 113, 6497, 1149], [34, 266, 165, 1070, 218, 1404, 966, 5877]]\n",
      "\n"
     ]
    },
    {
     "data": {
      "application/vnd.jupyter.widget-view+json": {
       "model_id": "1467eff6f4114d63a65cc7c1cba7b4d8",
       "version_major": 2,
       "version_minor": 0
      },
      "text/plain": [
       "  0%|          | 0/1 [00:00<?, ?it/s]"
      ]
     },
     "metadata": {},
     "output_type": "display_data"
    },
    {
     "data": {
      "application/vnd.jupyter.widget-view+json": {
       "model_id": "d381a0dee830426990e9fa3e646a3544",
       "version_major": 2,
       "version_minor": 0
      },
      "text/plain": [
       "  0%|          | 0/27 [00:00<?, ?it/s]"
      ]
     },
     "metadata": {},
     "output_type": "display_data"
    },
    {
     "name": "stdout",
     "output_type": "stream",
     "text": [
      "Saving S:\\QRAM\\qram_4QR2\\data\\data_241025\\00549_QramProtocol3QTomo.h5\n",
      "init_state |0>|0+i> play pulses [2, 1, 4, 3]\n",
      "timesteps [inf]\n"
     ]
    },
    {
     "data": {
      "application/vnd.jupyter.widget-view+json": {
       "model_id": "2d4c0a47686b422c9d273415f332b094",
       "version_major": 2,
       "version_minor": 0
      },
      "text/plain": [
       "  0%|          | 0/8 [00:00<?, ?it/s]"
      ]
     },
     "metadata": {},
     "output_type": "display_data"
    },
    {
     "name": "stdout",
     "output_type": "stream",
     "text": [
      "Qubit  (0)\n",
      "ge fidelity (%): 70.60000000000002 \t angle (deg): 0.0 \t threshold ge: 584.3388125655227\n",
      "Qubit  (2)\n",
      "ge fidelity (%): 77.71000000000001 \t angle (deg): 0.0 \t threshold ge: 845.7884804324053\n",
      "Qubit  (3)\n",
      "ge fidelity (%): 73.88 \t angle (deg): 0.0 \t threshold ge: 753.8400813661691\n",
      "thresholds=[584.3388125655227, 0, 845.7884804324053, 753.8400813661691],\n",
      "angles=[0.0, 0, 0.0, 0.0],\n",
      "ge_avgs=[[0.4663009764035799, 1.2338466232709517, 2.269742310821807, -0.8187869812855971], [0, 0, 0, 0], [-5.30740439381611, -5.156108218063466, 1.2346487388120413, -1.9555182262001625], [-0.12522392188771336, -2.620325874694876, 0.9399798209926808, 3.1390543531326265]] ,\n",
      "counts_calib=[[6481, 1096, 884, 147, 1061, 163, 141, 27], [888, 6515, 123, 966, 150, 1165, 24, 169], [775, 117, 6554, 1067, 135, 26, 1161, 165], [249, 1634, 946, 5696, 38, 272, 163, 1002], [1201, 181, 140, 38, 6360, 1029, 895, 156], [184, 1173, 25, 197, 969, 6266, 150, 1036], [207, 21, 1245, 183, 821, 146, 6359, 1018], [23, 143, 159, 1227, 108, 737, 929, 6674]]\n",
      "\n"
     ]
    },
    {
     "data": {
      "application/vnd.jupyter.widget-view+json": {
       "model_id": "2dcbc0a301f34f7bac59bcabe3d0f328",
       "version_major": 2,
       "version_minor": 0
      },
      "text/plain": [
       "  0%|          | 0/1 [00:00<?, ?it/s]"
      ]
     },
     "metadata": {},
     "output_type": "display_data"
    },
    {
     "data": {
      "application/vnd.jupyter.widget-view+json": {
       "model_id": "d8482a0d9a8f449d923fdcc1738e02dd",
       "version_major": 2,
       "version_minor": 0
      },
      "text/plain": [
       "  0%|          | 0/27 [00:00<?, ?it/s]"
      ]
     },
     "metadata": {},
     "output_type": "display_data"
    },
    {
     "name": "stdout",
     "output_type": "stream",
     "text": [
      "Saving S:\\QRAM\\qram_4QR2\\data\\data_241025\\00550_QramProtocol3QTomo.h5\n",
      "init_state |1>|0> play pulses [2, 1, 4, 3]\n",
      "timesteps [inf]\n"
     ]
    },
    {
     "data": {
      "application/vnd.jupyter.widget-view+json": {
       "model_id": "393c4e86a4f348e5852569e16d71c6d4",
       "version_major": 2,
       "version_minor": 0
      },
      "text/plain": [
       "  0%|          | 0/8 [00:00<?, ?it/s]"
      ]
     },
     "metadata": {},
     "output_type": "display_data"
    },
    {
     "name": "stdout",
     "output_type": "stream",
     "text": [
      "Qubit  (0)\n",
      "ge fidelity (%): 71.88 \t angle (deg): 0.0 \t threshold ge: 573.7803673861355\n",
      "Qubit  (2)\n",
      "ge fidelity (%): 73.11 \t angle (deg): 0.0 \t threshold ge: 893.9899824486678\n",
      "Qubit  (3)\n",
      "ge fidelity (%): 74.71878887888789 \t angle (deg): 0.0 \t threshold ge: 798.4248929891668\n",
      "thresholds=[573.7803673861355, 0, 893.9899824486678, 798.4248929891668],\n",
      "angles=[0.0, 0, 0.0, 0.0],\n",
      "ge_avgs=[[-2.0253989422294545, 2.2004248169243286, 0.8734205044751827, 2.0876560618388944], [0, 0, 0, 0], [-1.4404689991863306, -1.8434285598047184, -7.8470728234336855, -0.47459601301871407], [-1.4036248169243284, -6.172544019528073, -0.636977054515867, -4.339729454841332]] ,\n",
      "counts_calib=[[6849, 956, 689, 106, 1092, 157, 133, 18], [992, 6787, 107, 728, 178, 1081, 19, 108], [1328, 179, 6165, 918, 206, 35, 1006, 163], [448, 2194, 1032, 4853, 75, 389, 173, 836], [1097, 176, 126, 19, 6733, 966, 761, 122], [212, 1082, 17, 99, 1191, 6587, 108, 704], [349, 47, 924, 138, 2079, 350, 5316, 797], [41, 240, 174, 1068, 221, 1149, 953, 6154]]\n",
      "\n"
     ]
    },
    {
     "data": {
      "application/vnd.jupyter.widget-view+json": {
       "model_id": "5d7de7388cf84abcb83955206f0239ff",
       "version_major": 2,
       "version_minor": 0
      },
      "text/plain": [
       "  0%|          | 0/1 [00:00<?, ?it/s]"
      ]
     },
     "metadata": {},
     "output_type": "display_data"
    },
    {
     "data": {
      "application/vnd.jupyter.widget-view+json": {
       "model_id": "2f4cb1e6daeb490190879ae00f7835e9",
       "version_major": 2,
       "version_minor": 0
      },
      "text/plain": [
       "  0%|          | 0/27 [00:00<?, ?it/s]"
      ]
     },
     "metadata": {},
     "output_type": "display_data"
    },
    {
     "name": "stdout",
     "output_type": "stream",
     "text": [
      "Saving S:\\QRAM\\qram_4QR2\\data\\data_241025\\00551_QramProtocol3QTomo.h5\n",
      "init_state |1>|1> play pulses [2, 1, 4, 3]\n",
      "timesteps [inf]\n"
     ]
    },
    {
     "data": {
      "application/vnd.jupyter.widget-view+json": {
       "model_id": "342eccbd299f4019a0d715e9f603a341",
       "version_major": 2,
       "version_minor": 0
      },
      "text/plain": [
       "  0%|          | 0/8 [00:00<?, ?it/s]"
      ]
     },
     "metadata": {},
     "output_type": "display_data"
    },
    {
     "name": "stdout",
     "output_type": "stream",
     "text": [
      "Qubit  (0)\n",
      "ge fidelity (%): 72.98880688068805 \t angle (deg): 0.0 \t threshold ge: 588.9315227237244\n",
      "Qubit  (2)\n",
      "ge fidelity (%): 64.33000000000001 \t angle (deg): 0.0 \t threshold ge: 809.7797658882988\n",
      "Qubit  (3)\n",
      "ge fidelity (%): 73.31 \t angle (deg): 0.0 \t threshold ge: 789.783067020386\n",
      "thresholds=[588.9315227237244, 0, 809.7797658882988, 789.783067020386],\n",
      "angles=[0.0, 0, 0.0, 0.0],\n",
      "ge_avgs=[[-3.1068920260374284, 3.4701274206672097, -1.938709764035801, 0.249082180634661], [0, 0, 0, 0], [-1.293117249796583, -3.2004027664768104, -6.929704068348252, -8.85968152969894], [-4.82703816110659, 2.7638545158665604, 6.437911635475998, -3.273295768917818]] ,\n",
      "counts_calib=[[6592, 992, 944, 195, 923, 157, 169, 28], [965, 6259, 153, 1258, 164, 997, 25, 179], [1705, 259, 5752, 915, 262, 42, 921, 144], [163, 842, 1165, 6474, 27, 128, 177, 1024], [1057, 168, 179, 39, 6365, 912, 1110, 170], [201, 1088, 37, 193, 1065, 6057, 185, 1174], [273, 58, 990, 174, 1584, 282, 5775, 864], [30, 220, 175, 1108, 183, 1196, 903, 6185]]\n",
      "\n"
     ]
    },
    {
     "data": {
      "application/vnd.jupyter.widget-view+json": {
       "model_id": "c6a7fffce678431f829f948c3bf2c78b",
       "version_major": 2,
       "version_minor": 0
      },
      "text/plain": [
       "  0%|          | 0/1 [00:00<?, ?it/s]"
      ]
     },
     "metadata": {},
     "output_type": "display_data"
    },
    {
     "data": {
      "application/vnd.jupyter.widget-view+json": {
       "model_id": "ba78bfd647ea4aea9f0c7d22adb15275",
       "version_major": 2,
       "version_minor": 0
      },
      "text/plain": [
       "  0%|          | 0/27 [00:00<?, ?it/s]"
      ]
     },
     "metadata": {},
     "output_type": "display_data"
    },
    {
     "name": "stdout",
     "output_type": "stream",
     "text": [
      "Saving S:\\QRAM\\qram_4QR2\\data\\data_241025\\00552_QramProtocol3QTomo.h5\n",
      "init_state |1>|0+1> play pulses [2, 1, 4, 3]\n",
      "timesteps [inf]\n"
     ]
    },
    {
     "data": {
      "application/vnd.jupyter.widget-view+json": {
       "model_id": "db044d095ab0423aab3a90c62166fe30",
       "version_major": 2,
       "version_minor": 0
      },
      "text/plain": [
       "  0%|          | 0/8 [00:00<?, ?it/s]"
      ]
     },
     "metadata": {},
     "output_type": "display_data"
    },
    {
     "name": "stdout",
     "output_type": "stream",
     "text": [
      "Qubit  (0)\n",
      "ge fidelity (%): 71.27863186318632 \t angle (deg): 0.0 \t threshold ge: 586.123427205689\n",
      "Qubit  (2)\n",
      "ge fidelity (%): 70.24000000000001 \t angle (deg): 0.0 \t threshold ge: 882.9246968499416\n",
      "Qubit  (3)\n",
      "ge fidelity (%): 72.77999999999999 \t angle (deg): 0.0 \t threshold ge: 804.3799783724718\n",
      "thresholds=[586.123427205689, 0, 882.9246968499416, 804.3799783724718],\n",
      "angles=[0.0, 0, 0.0, 0.0],\n",
      "ge_avgs=[[-3.8170008950366143, -3.844812774613507, -1.789522701383238, 0.7530023596419844], [0, 0, 0, 0], [-0.6304644426362902, -1.7695270138323838, 1.4572192026037427, 1.315394141578519], [-1.4115327095199357, 0.3920960943856802, -5.311269487388122, -1.5997777868185517]] ,\n",
      "counts_calib=[[6599, 1037, 763, 153, 1100, 178, 144, 26], [1057, 6581, 104, 856, 155, 1084, 24, 139], [1400, 240, 5931, 1002, 229, 38, 996, 164], [215, 1330, 1094, 5949, 39, 222, 164, 987], [1135, 167, 115, 19, 6605, 987, 839, 133], [215, 1172, 31, 127, 1149, 6398, 129, 779], [213, 40, 1091, 169, 1166, 173, 6146, 1002], [41, 185, 221, 1125, 177, 962, 1005, 6284]]\n",
      "\n"
     ]
    },
    {
     "data": {
      "application/vnd.jupyter.widget-view+json": {
       "model_id": "b56c0fa7b6df4230bd5defb6ab357ad0",
       "version_major": 2,
       "version_minor": 0
      },
      "text/plain": [
       "  0%|          | 0/1 [00:00<?, ?it/s]"
      ]
     },
     "metadata": {},
     "output_type": "display_data"
    },
    {
     "data": {
      "application/vnd.jupyter.widget-view+json": {
       "model_id": "6cbe5472cc294766a97c1cf8927478be",
       "version_major": 2,
       "version_minor": 0
      },
      "text/plain": [
       "  0%|          | 0/27 [00:00<?, ?it/s]"
      ]
     },
     "metadata": {},
     "output_type": "display_data"
    },
    {
     "name": "stdout",
     "output_type": "stream",
     "text": [
      "Saving S:\\QRAM\\qram_4QR2\\data\\data_241025\\00553_QramProtocol3QTomo.h5\n",
      "init_state |1>|0+i> play pulses [2, 1, 4, 3]\n",
      "timesteps [inf]\n"
     ]
    },
    {
     "data": {
      "application/vnd.jupyter.widget-view+json": {
       "model_id": "ba1466b1d6b2448a96385432c68a7fe9",
       "version_major": 2,
       "version_minor": 0
      },
      "text/plain": [
       "  0%|          | 0/8 [00:00<?, ?it/s]"
      ]
     },
     "metadata": {},
     "output_type": "display_data"
    },
    {
     "name": "stdout",
     "output_type": "stream",
     "text": [
      "Qubit  (0)\n",
      "ge fidelity (%): 71.9186308630863 \t angle (deg): 0.0 \t threshold ge: 572.0960019094637\n",
      "Qubit  (2)\n",
      "ge fidelity (%): 76.86 \t angle (deg): 0.0 \t threshold ge: 895.8453671695113\n",
      "Qubit  (3)\n",
      "ge fidelity (%): 73.15000000000003 \t angle (deg): 0.0 \t threshold ge: 810.8572570902335\n",
      "thresholds=[572.0960019094637, 0, 895.8453671695113, 810.8572570902335],\n",
      "angles=[0.0, 0, 0.0, 0.0],\n",
      "ge_avgs=[[-1.8025323026851103, -1.9011762408462172, -3.1162885272579324, -2.939178844589097], [0, 0, 0, 0], [-3.4421158665581766, 2.866115703824247, 3.49984304312449, 5.152116110659072], [-1.2612455655004073, 5.15477225386493, 6.8213005695687565, 1.9292510170870665]] ,\n",
      "counts_calib=[[6740, 1005, 684, 119, 1149, 173, 115, 15], [1069, 6596, 118, 730, 181, 1140, 14, 152], [1000, 166, 6257, 1033, 194, 23, 1146, 181], [232, 1202, 1190, 5904, 40, 205, 205, 1022], [1078, 176, 104, 18, 6646, 1060, 763, 155], [223, 1069, 21, 140, 1245, 6418, 127, 757], [255, 40, 933, 162, 1611, 231, 5939, 829], [35, 212, 166, 1024, 180, 1273, 995, 6115]]\n",
      "\n"
     ]
    },
    {
     "data": {
      "application/vnd.jupyter.widget-view+json": {
       "model_id": "fa9eec8d9a804aa18be7273691c8a0e3",
       "version_major": 2,
       "version_minor": 0
      },
      "text/plain": [
       "  0%|          | 0/1 [00:00<?, ?it/s]"
      ]
     },
     "metadata": {},
     "output_type": "display_data"
    },
    {
     "data": {
      "application/vnd.jupyter.widget-view+json": {
       "model_id": "1677e0c7a5be49929353fd04225f2234",
       "version_major": 2,
       "version_minor": 0
      },
      "text/plain": [
       "  0%|          | 0/27 [00:00<?, ?it/s]"
      ]
     },
     "metadata": {},
     "output_type": "display_data"
    },
    {
     "name": "stdout",
     "output_type": "stream",
     "text": [
      "Saving S:\\QRAM\\qram_4QR2\\data\\data_241025\\00554_QramProtocol3QTomo.h5\n",
      "init_state |0+1>|0> play pulses [2, 1, 4, 3]\n",
      "timesteps [inf]\n"
     ]
    },
    {
     "data": {
      "application/vnd.jupyter.widget-view+json": {
       "model_id": "4e31082945d34b3c830846ed52b1b553",
       "version_major": 2,
       "version_minor": 0
      },
      "text/plain": [
       "  0%|          | 0/8 [00:00<?, ?it/s]"
      ]
     },
     "metadata": {},
     "output_type": "display_data"
    },
    {
     "name": "stdout",
     "output_type": "stream",
     "text": [
      "Qubit  (0)\n",
      "ge fidelity (%): 71.4087178717872 \t angle (deg): 0.0 \t threshold ge: 586.5825439221071\n",
      "Qubit  (2)\n",
      "ge fidelity (%): 74.34903790379042 \t angle (deg): 0.0 \t threshold ge: 885.6947069781739\n",
      "Qubit  (3)\n",
      "ge fidelity (%): 72.28 \t angle (deg): 0.0 \t threshold ge: 807.2830531257932\n",
      "thresholds=[586.5825439221071, 0, 885.6947069781739, 807.2830531257932],\n",
      "angles=[0.0, 0, 0.0, 0.0],\n",
      "ge_avgs=[[-3.1059135069161923, -0.8979327095199353, -0.20784182262001613, 1.7615317331163554], [0, 0, 0, 0], [-1.860238730675347, 1.055590968266882, -5.4016257119609445, 3.730441903986981], [-0.697848413344183, 1.9220288852725789, -3.7382510984540276, -4.754974694873882]] ,\n",
      "counts_calib=[[6686, 1062, 749, 139, 1040, 174, 121, 29], [1073, 6625, 112, 840, 168, 1039, 22, 121], [1138, 183, 6310, 977, 180, 29, 1034, 149], [225, 1011, 1166, 6211, 41, 164, 155, 1027], [1186, 175, 127, 26, 6472, 1064, 810, 140], [226, 1088, 21, 130, 1201, 6378, 155, 801], [191, 34, 993, 176, 1156, 194, 6284, 972], [33, 146, 204, 1137, 109, 732, 1036, 6603]]\n",
      "\n"
     ]
    },
    {
     "data": {
      "application/vnd.jupyter.widget-view+json": {
       "model_id": "dc5a33c8d98344f9bb6bfb776eb2f201",
       "version_major": 2,
       "version_minor": 0
      },
      "text/plain": [
       "  0%|          | 0/1 [00:00<?, ?it/s]"
      ]
     },
     "metadata": {},
     "output_type": "display_data"
    },
    {
     "data": {
      "application/vnd.jupyter.widget-view+json": {
       "model_id": "eeb5af1cc7c74ed4bb28a96bd3fe8ffb",
       "version_major": 2,
       "version_minor": 0
      },
      "text/plain": [
       "  0%|          | 0/27 [00:00<?, ?it/s]"
      ]
     },
     "metadata": {},
     "output_type": "display_data"
    },
    {
     "name": "stdout",
     "output_type": "stream",
     "text": [
      "Saving S:\\QRAM\\qram_4QR2\\data\\data_241025\\00555_QramProtocol3QTomo.h5\n",
      "init_state |0+1>|1> play pulses [2, 1, 4, 3]\n",
      "timesteps [inf]\n"
     ]
    },
    {
     "data": {
      "application/vnd.jupyter.widget-view+json": {
       "model_id": "330130675ea74d238a748371e878957f",
       "version_major": 2,
       "version_minor": 0
      },
      "text/plain": [
       "  0%|          | 0/8 [00:00<?, ?it/s]"
      ]
     },
     "metadata": {},
     "output_type": "display_data"
    },
    {
     "name": "stdout",
     "output_type": "stream",
     "text": [
      "Qubit  (0)\n",
      "ge fidelity (%): 71.49000000000001 \t angle (deg): 0.0 \t threshold ge: 593.877359601174\n",
      "Qubit  (2)\n",
      "ge fidelity (%): 72.99 \t angle (deg): 0.0 \t threshold ge: 842.3033939516276\n",
      "Qubit  (3)\n",
      "ge fidelity (%): 73.22000000000001 \t angle (deg): 0.0 \t threshold ge: 831.4604066081052\n",
      "thresholds=[593.877359601174, 0, 842.3033939516276, 831.4604066081052],\n",
      "angles=[0.0, 0, 0.0, 0.0],\n",
      "ge_avgs=[[-0.3100797396257129, 2.2280021155410905, -0.35578161106590667, -1.161125711960944], [0, 0, 0, 0], [-1.957673881204231, -2.6037873881204217, -6.401592432872254, 1.5232126118795775], [-0.3008624084621642, 1.7986282343368598, 0.5323845402766441, 8.811561187957697]] ,\n",
      "counts_calib=[[6493, 1001, 1023, 151, 985, 170, 154, 23], [998, 6421, 185, 1152, 138, 931, 16, 159], [1031, 146, 6520, 958, 161, 30, 1007, 147], [212, 1151, 1173, 6143, 30, 158, 160, 973], [1126, 164, 205, 26, 6232, 948, 1118, 181], [250, 1132, 43, 164, 1179, 6026, 174, 1032], [140, 30, 1189, 190, 782, 130, 6565, 974], [25, 120, 190, 1207, 103, 593, 1066, 6696]]\n",
      "\n"
     ]
    },
    {
     "data": {
      "application/vnd.jupyter.widget-view+json": {
       "model_id": "dffd9c3691e84a648488f0678c8b4292",
       "version_major": 2,
       "version_minor": 0
      },
      "text/plain": [
       "  0%|          | 0/1 [00:00<?, ?it/s]"
      ]
     },
     "metadata": {},
     "output_type": "display_data"
    },
    {
     "data": {
      "application/vnd.jupyter.widget-view+json": {
       "model_id": "02d31a640cfb49f3987a72183c83ea74",
       "version_major": 2,
       "version_minor": 0
      },
      "text/plain": [
       "  0%|          | 0/27 [00:00<?, ?it/s]"
      ]
     },
     "metadata": {},
     "output_type": "display_data"
    },
    {
     "name": "stdout",
     "output_type": "stream",
     "text": [
      "Saving S:\\QRAM\\qram_4QR2\\data\\data_241025\\00556_QramProtocol3QTomo.h5\n",
      "init_state |0+1>|0+1> play pulses [2, 1, 4, 3]\n",
      "timesteps [inf]\n"
     ]
    },
    {
     "data": {
      "application/vnd.jupyter.widget-view+json": {
       "model_id": "67dcd1ea4df24438b6380bd09b9e14fa",
       "version_major": 2,
       "version_minor": 0
      },
      "text/plain": [
       "  0%|          | 0/8 [00:00<?, ?it/s]"
      ]
     },
     "metadata": {},
     "output_type": "display_data"
    },
    {
     "name": "stdout",
     "output_type": "stream",
     "text": [
      "Qubit  (0)\n",
      "ge fidelity (%): 72.6588288828883 \t angle (deg): 0.0 \t threshold ge: 598.7875665228215\n",
      "Qubit  (2)\n",
      "ge fidelity (%): 76.33000000000001 \t angle (deg): 0.0 \t threshold ge: 877.6340816865509\n",
      "Qubit  (3)\n",
      "ge fidelity (%): 73.83865286528652 \t angle (deg): 0.0 \t threshold ge: 785.5776480876651\n",
      "thresholds=[598.7875665228215, 0, 877.6340816865509, 785.5776480876651],\n",
      "angles=[0.0, 0, 0.0, 0.0],\n",
      "ge_avgs=[[-1.9918598860862486, -2.731904475183076, -4.458228397070789, -1.7254330349877953], [0, 0, 0, 0], [0.02676647681041504, 1.1602296989422287, 1.2619558991049649, 0.3941151342554927], [-3.592569243287225, 2.4797896663954426, 3.9338581773799817, 1.433306509357202]] ,\n",
      "counts_calib=[[6749, 1024, 844, 137, 992, 119, 113, 22], [998, 6714, 141, 878, 160, 970, 18, 121], [940, 166, 6528, 1095, 132, 26, 949, 164], [222, 1037, 1097, 6306, 25, 151, 171, 991], [1161, 187, 122, 22, 6479, 1072, 818, 139], [303, 1267, 28, 140, 1246, 6163, 140, 713], [139, 18, 1164, 232, 750, 117, 6484, 1096], [26, 166, 211, 1321, 127, 800, 978, 6371]]\n",
      "\n"
     ]
    },
    {
     "data": {
      "application/vnd.jupyter.widget-view+json": {
       "model_id": "b2920844238846069f3684869e0c343f",
       "version_major": 2,
       "version_minor": 0
      },
      "text/plain": [
       "  0%|          | 0/1 [00:00<?, ?it/s]"
      ]
     },
     "metadata": {},
     "output_type": "display_data"
    },
    {
     "data": {
      "application/vnd.jupyter.widget-view+json": {
       "model_id": "13c8118ed7984457a8f9fadc45d7c294",
       "version_major": 2,
       "version_minor": 0
      },
      "text/plain": [
       "  0%|          | 0/27 [00:00<?, ?it/s]"
      ]
     },
     "metadata": {},
     "output_type": "display_data"
    },
    {
     "name": "stdout",
     "output_type": "stream",
     "text": [
      "Saving S:\\QRAM\\qram_4QR2\\data\\data_241025\\00557_QramProtocol3QTomo.h5\n",
      "init_state |0+1>|0+i> play pulses [2, 1, 4, 3]\n",
      "timesteps [inf]\n"
     ]
    },
    {
     "data": {
      "application/vnd.jupyter.widget-view+json": {
       "model_id": "728da7db67294d5fae3f26c86bf5ffbc",
       "version_major": 2,
       "version_minor": 0
      },
      "text/plain": [
       "  0%|          | 0/8 [00:00<?, ?it/s]"
      ]
     },
     "metadata": {},
     "output_type": "display_data"
    },
    {
     "name": "stdout",
     "output_type": "stream",
     "text": [
      "Qubit  (0)\n",
      "ge fidelity (%): 70.31999999999998 \t angle (deg): 0.0 \t threshold ge: 577.033153098883\n",
      "Qubit  (2)\n",
      "ge fidelity (%): 75.41915291529153 \t angle (deg): 0.0 \t threshold ge: 910.538398417396\n",
      "Qubit  (3)\n",
      "ge fidelity (%): 73.36864586458644 \t angle (deg): 0.0 \t threshold ge: 802.5386682327357\n",
      "thresholds=[577.033153098883, 0, 910.538398417396, 802.5386682327357],\n",
      "angles=[0.0, 0, 0.0, 0.0],\n",
      "ge_avgs=[[4.527221074043936, 0.7778198535394633, 0.5793048820179003, 2.110686330349878], [0, 0, 0, 0], [-0.6531681041497144, 1.3366742066720916, -4.57777681041497, 9.17621529698942], [-4.689561350691619, 1.324192107404394, 1.1729698128559731, -2.6354845402766482]] ,\n",
      "counts_calib=[[6685, 1062, 645, 110, 1153, 177, 140, 28], [1002, 6669, 99, 734, 173, 1200, 16, 107], [1168, 186, 6318, 936, 174, 22, 1010, 186], [174, 779, 1128, 6470, 38, 134, 206, 1071], [1187, 169, 97, 25, 6674, 1061, 681, 106], [194, 1166, 18, 111, 1158, 6529, 110, 714], [149, 26, 1087, 160, 880, 140, 6437, 1121], [44, 207, 159, 990, 216, 1324, 962, 6098]]\n",
      "\n"
     ]
    },
    {
     "data": {
      "application/vnd.jupyter.widget-view+json": {
       "model_id": "9fbac59e19514747970a937eb3a59912",
       "version_major": 2,
       "version_minor": 0
      },
      "text/plain": [
       "  0%|          | 0/1 [00:00<?, ?it/s]"
      ]
     },
     "metadata": {},
     "output_type": "display_data"
    },
    {
     "data": {
      "application/vnd.jupyter.widget-view+json": {
       "model_id": "9bfd679ce64442c8939501bb14092cad",
       "version_major": 2,
       "version_minor": 0
      },
      "text/plain": [
       "  0%|          | 0/27 [00:00<?, ?it/s]"
      ]
     },
     "metadata": {},
     "output_type": "display_data"
    },
    {
     "name": "stdout",
     "output_type": "stream",
     "text": [
      "Saving S:\\QRAM\\qram_4QR2\\data\\data_241025\\00558_QramProtocol3QTomo.h5\n",
      "init_state |0+i>|0> play pulses [2, 1, 4, 3]\n",
      "timesteps [inf]\n"
     ]
    },
    {
     "data": {
      "application/vnd.jupyter.widget-view+json": {
       "model_id": "f1dcb750f55d45b4b0718aed0b6b501b",
       "version_major": 2,
       "version_minor": 0
      },
      "text/plain": [
       "  0%|          | 0/8 [00:00<?, ?it/s]"
      ]
     },
     "metadata": {},
     "output_type": "display_data"
    },
    {
     "name": "stdout",
     "output_type": "stream",
     "text": [
      "Qubit  (0)\n",
      "ge fidelity (%): 70.81865686568656 \t angle (deg): 0.0 \t threshold ge: 588.9684407282698\n",
      "Qubit  (2)\n",
      "ge fidelity (%): 79.89000000000001 \t angle (deg): 0.0 \t threshold ge: 899.9635790193055\n",
      "Qubit  (3)\n",
      "ge fidelity (%): 72.61868786878686 \t angle (deg): 0.0 \t threshold ge: 821.6939691568506\n",
      "thresholds=[588.9684407282698, 0, 899.9635790193055, 821.6939691568506],\n",
      "angles=[0.0, 0, 0.0, 0.0],\n",
      "ge_avgs=[[-0.570948087876323, -4.618088283157038, 4.6467021969080555, -2.1811394629780296], [0, 0, 0, 0], [-3.276947274206673, -1.5040921887713585, 4.889607078925956, 0.7578155410903168], [-3.2875179820992693, -9.171948820179006, 4.184253132628156, 0.69122139951179]] ,\n",
      "counts_calib=[[6777, 1039, 656, 113, 1120, 178, 98, 19], [1076, 6605, 123, 745, 178, 1136, 13, 124], [869, 127, 6662, 998, 117, 19, 1051, 157], [204, 964, 1203, 6261, 39, 143, 168, 1018], [1167, 184, 138, 30, 6675, 966, 737, 103], [228, 1227, 25, 139, 1239, 6268, 141, 733], [241, 32, 1189, 176, 1182, 153, 6099, 928], [73, 258, 199, 1269, 233, 960, 1064, 5944]]\n",
      "\n"
     ]
    },
    {
     "data": {
      "application/vnd.jupyter.widget-view+json": {
       "model_id": "1afade98951940719a1a4490cca0a352",
       "version_major": 2,
       "version_minor": 0
      },
      "text/plain": [
       "  0%|          | 0/1 [00:00<?, ?it/s]"
      ]
     },
     "metadata": {},
     "output_type": "display_data"
    },
    {
     "data": {
      "application/vnd.jupyter.widget-view+json": {
       "model_id": "ceb9c0a1c7ef45b58c38631de5842e9b",
       "version_major": 2,
       "version_minor": 0
      },
      "text/plain": [
       "  0%|          | 0/27 [00:00<?, ?it/s]"
      ]
     },
     "metadata": {},
     "output_type": "display_data"
    },
    {
     "name": "stdout",
     "output_type": "stream",
     "text": [
      "Saving S:\\QRAM\\qram_4QR2\\data\\data_241025\\00559_QramProtocol3QTomo.h5\n",
      "init_state |0+i>|1> play pulses [2, 1, 4, 3]\n",
      "timesteps [inf]\n"
     ]
    },
    {
     "data": {
      "application/vnd.jupyter.widget-view+json": {
       "model_id": "d3787c62f36d42bbb883d39ec3b006cf",
       "version_major": 2,
       "version_minor": 0
      },
      "text/plain": [
       "  0%|          | 0/8 [00:00<?, ?it/s]"
      ]
     },
     "metadata": {},
     "output_type": "display_data"
    },
    {
     "name": "stdout",
     "output_type": "stream",
     "text": [
      "Qubit  (0)\n",
      "ge fidelity (%): 69.76 \t angle (deg): 0.0 \t threshold ge: 578.9195003498852\n",
      "Qubit  (2)\n",
      "ge fidelity (%): 74.44000000000001 \t angle (deg): 0.0 \t threshold ge: 891.3035744258909\n",
      "Qubit  (3)\n",
      "ge fidelity (%): 75.25867886788676 \t angle (deg): 0.0 \t threshold ge: 816.6714149965061\n",
      "thresholds=[578.9195003498852, 0, 891.3035744258909, 816.6714149965061],\n",
      "angles=[0.0, 0, 0.0, 0.0],\n",
      "ge_avgs=[[-1.7393887713588294, -0.9360377542717666, 5.577009601301872, 2.745915459723353], [0, 0, 0, 0], [2.8839755085435312, -4.841256712774613, -1.9282691619202608, -0.04753116354760013], [-1.7127545972335236, 0.030954353132628967, -5.569475671277457, 2.142855655004067]] ,\n",
      "counts_calib=[[6751, 895, 704, 103, 1239, 169, 124, 15], [997, 6548, 97, 767, 188, 1218, 18, 167], [1196, 160, 6167, 925, 231, 28, 1142, 151], [122, 691, 1061, 6483, 21, 136, 198, 1288], [1172, 139, 145, 23, 6702, 845, 837, 137], [217, 1189, 15, 126, 1121, 6426, 126, 780], [145, 21, 1161, 162, 788, 105, 6717, 901], [23, 158, 188, 1221, 161, 903, 966, 6380]]\n",
      "\n"
     ]
    },
    {
     "data": {
      "application/vnd.jupyter.widget-view+json": {
       "model_id": "d385563dd9ad45e493336412f019c676",
       "version_major": 2,
       "version_minor": 0
      },
      "text/plain": [
       "  0%|          | 0/1 [00:00<?, ?it/s]"
      ]
     },
     "metadata": {},
     "output_type": "display_data"
    },
    {
     "data": {
      "application/vnd.jupyter.widget-view+json": {
       "model_id": "6a15b0ef80454fe7804c0301ee812769",
       "version_major": 2,
       "version_minor": 0
      },
      "text/plain": [
       "  0%|          | 0/27 [00:00<?, ?it/s]"
      ]
     },
     "metadata": {},
     "output_type": "display_data"
    },
    {
     "name": "stdout",
     "output_type": "stream",
     "text": [
      "Saving S:\\QRAM\\qram_4QR2\\data\\data_241025\\00560_QramProtocol3QTomo.h5\n",
      "init_state |0+i>|0+1> play pulses [2, 1, 4, 3]\n",
      "timesteps [inf]\n"
     ]
    },
    {
     "data": {
      "application/vnd.jupyter.widget-view+json": {
       "model_id": "a442640e2377410fa707b3f1be20cf25",
       "version_major": 2,
       "version_minor": 0
      },
      "text/plain": [
       "  0%|          | 0/8 [00:00<?, ?it/s]"
      ]
     },
     "metadata": {},
     "output_type": "display_data"
    },
    {
     "name": "stdout",
     "output_type": "stream",
     "text": [
      "Qubit  (0)\n",
      "ge fidelity (%): 69.27846784678468 \t angle (deg): 0.0 \t threshold ge: 565.6016147931975\n",
      "Qubit  (2)\n",
      "ge fidelity (%): 76.25891289128913 \t angle (deg): 0.0 \t threshold ge: 865.1338157450566\n",
      "Qubit  (3)\n",
      "ge fidelity (%): 74.60000000000002 \t angle (deg): 0.0 \t threshold ge: 776.1016324339558\n",
      "thresholds=[565.6016147931975, 0, 865.1338157450566, 776.1016324339558],\n",
      "angles=[0.0, 0, 0.0, 0.0],\n",
      "ge_avgs=[[-2.3209720911310012, -3.3663898291293735, 3.7035900732302682, 1.8147009764035804], [0, 0, 0, 0], [-7.768075183075671, -2.6043789259560617, 1.8654105777054508, -8.264249145646868], [-1.1884077298616766, 0.7149759153783576, -5.774804312449147, -5.267428478437747]] ,\n",
      "counts_calib=[[6455, 933, 859, 136, 1250, 190, 148, 29], [937, 6462, 109, 846, 195, 1261, 27, 163], [910, 143, 6341, 1028, 139, 17, 1239, 183], [107, 669, 1097, 6432, 21, 131, 195, 1348], [1178, 157, 131, 18, 6538, 1004, 846, 128], [183, 1115, 29, 153, 1123, 6348, 132, 917], [128, 25, 1108, 183, 785, 117, 6578, 1076], [47, 279, 170, 1078, 210, 1208, 948, 6060]]\n",
      "\n"
     ]
    },
    {
     "data": {
      "application/vnd.jupyter.widget-view+json": {
       "model_id": "c26af8cd403249ac90e68dff44ac41d4",
       "version_major": 2,
       "version_minor": 0
      },
      "text/plain": [
       "  0%|          | 0/1 [00:00<?, ?it/s]"
      ]
     },
     "metadata": {},
     "output_type": "display_data"
    },
    {
     "data": {
      "application/vnd.jupyter.widget-view+json": {
       "model_id": "4abb81293b2842409254612341a629e7",
       "version_major": 2,
       "version_minor": 0
      },
      "text/plain": [
       "  0%|          | 0/27 [00:00<?, ?it/s]"
      ]
     },
     "metadata": {},
     "output_type": "display_data"
    },
    {
     "name": "stdout",
     "output_type": "stream",
     "text": [
      "Saving S:\\QRAM\\qram_4QR2\\data\\data_241025\\00561_QramProtocol3QTomo.h5\n",
      "init_state |0+i>|0+i> play pulses [2, 1, 4, 3]\n",
      "timesteps [inf]\n"
     ]
    },
    {
     "data": {
      "application/vnd.jupyter.widget-view+json": {
       "model_id": "4e58fde217c041ec820897a3b6b2458f",
       "version_major": 2,
       "version_minor": 0
      },
      "text/plain": [
       "  0%|          | 0/8 [00:00<?, ?it/s]"
      ]
     },
     "metadata": {},
     "output_type": "display_data"
    },
    {
     "name": "stdout",
     "output_type": "stream",
     "text": [
      "Qubit  (0)\n",
      "ge fidelity (%): 67.9486278627863 \t angle (deg): 0.0 \t threshold ge: 596.3038926634567\n",
      "Qubit  (2)\n",
      "ge fidelity (%): 78.31909390939096 \t angle (deg): 0.0 \t threshold ge: 883.8714877365078\n",
      "Qubit  (3)\n",
      "ge fidelity (%): 74.92999999999998 \t angle (deg): 0.0 \t threshold ge: 785.1366824056031\n",
      "thresholds=[596.3038926634567, 0, 883.8714877365078, 785.1366824056031],\n",
      "angles=[0.0, 0, 0.0, 0.0],\n",
      "ge_avgs=[[-5.048412937347437, -2.417757933279088, -1.0954707078925967, 1.0912914564686726], [0, 0, 0, 0], [1.7748615134255492, 1.8695571196094387, 5.28314174125305, -8.867431489015459], [0.17591432058584178, -2.602584947111474, 0.24777266069975667, -1.9180123677786804]] ,\n",
      "counts_calib=[[6768, 957, 734, 103, 1146, 160, 109, 23], [969, 6667, 113, 772, 172, 1150, 17, 140], [929, 132, 6539, 951, 140, 15, 1116, 178], [145, 819, 1014, 6568, 15, 164, 182, 1093], [1411, 208, 133, 17, 6515, 965, 640, 111], [211, 1342, 26, 158, 1037, 6318, 131, 777], [180, 29, 1328, 199, 765, 107, 6423, 969], [29, 159, 180, 1362, 106, 742, 901, 6521]]\n",
      "\n"
     ]
    },
    {
     "data": {
      "application/vnd.jupyter.widget-view+json": {
       "model_id": "5e372597af7b42a9b0040902f2e3a1f7",
       "version_major": 2,
       "version_minor": 0
      },
      "text/plain": [
       "  0%|          | 0/1 [00:00<?, ?it/s]"
      ]
     },
     "metadata": {},
     "output_type": "display_data"
    },
    {
     "data": {
      "application/vnd.jupyter.widget-view+json": {
       "model_id": "d0c86aca6e634bf4903c03ee7db55fb3",
       "version_major": 2,
       "version_minor": 0
      },
      "text/plain": [
       "  0%|          | 0/27 [00:00<?, ?it/s]"
      ]
     },
     "metadata": {},
     "output_type": "display_data"
    },
    {
     "name": "stdout",
     "output_type": "stream",
     "text": [
      "Saving S:\\QRAM\\qram_4QR2\\data\\data_241025\\00562_QramProtocol3QTomo.h5\n",
      "init_state |0>|0> play pulses [2, 1, 4, 3]\n",
      "timesteps [inf]\n"
     ]
    },
    {
     "data": {
      "application/vnd.jupyter.widget-view+json": {
       "model_id": "27a329c1314a45ca8d76b03029f785f5",
       "version_major": 2,
       "version_minor": 0
      },
      "text/plain": [
       "  0%|          | 0/8 [00:00<?, ?it/s]"
      ]
     },
     "metadata": {},
     "output_type": "display_data"
    },
    {
     "name": "stdout",
     "output_type": "stream",
     "text": [
      "Qubit  (0)\n",
      "ge fidelity (%): 69.22872587258728 \t angle (deg): 0.0 \t threshold ge: 599.5812840213973\n",
      "Qubit  (2)\n",
      "ge fidelity (%): 76.86999999999999 \t angle (deg): 0.0 \t threshold ge: 875.412216915038\n",
      "Qubit  (3)\n",
      "ge fidelity (%): 74.29875487548759 \t angle (deg): 0.0 \t threshold ge: 786.7682101325388\n",
      "thresholds=[599.5812840213973, 0, 875.412216915038, 786.7682101325388],\n",
      "angles=[0.0, 0, 0.0, 0.0],\n",
      "ge_avgs=[[-0.6183681855166807, -2.7002495524816923, -5.0298354759967445, 3.477656061838892], [0, 0, 0, 0], [0.30418551668022875, -0.9362404393816123, -4.650998616761596, -2.9910520748576075], [-6.191650447518309, -5.042704312449146, -1.4022539462978036, 1.7996083807973908]] ,\n",
      "counts_calib=[[6802, 974, 737, 125, 1050, 154, 137, 21], [1014, 6622, 101, 852, 180, 1087, 17, 127], [989, 155, 6470, 1000, 146, 19, 1093, 128], [171, 845, 1064, 6493, 26, 140, 169, 1092], [1342, 204, 162, 31, 6334, 965, 823, 139], [211, 1288, 18, 174, 1015, 6360, 136, 798], [191, 34, 1384, 189, 727, 116, 6401, 958], [28, 193, 204, 1309, 115, 766, 981, 6404]]\n",
      "\n"
     ]
    },
    {
     "data": {
      "application/vnd.jupyter.widget-view+json": {
       "model_id": "95cec45be70940b79feee114c919c3d5",
       "version_major": 2,
       "version_minor": 0
      },
      "text/plain": [
       "  0%|          | 0/1 [00:00<?, ?it/s]"
      ]
     },
     "metadata": {},
     "output_type": "display_data"
    },
    {
     "data": {
      "application/vnd.jupyter.widget-view+json": {
       "model_id": "bef034ab8c4741d49ea6e7b543fae1c6",
       "version_major": 2,
       "version_minor": 0
      },
      "text/plain": [
       "  0%|          | 0/27 [00:00<?, ?it/s]"
      ]
     },
     "metadata": {},
     "output_type": "display_data"
    },
    {
     "name": "stdout",
     "output_type": "stream",
     "text": [
      "Saving S:\\QRAM\\qram_4QR2\\data\\data_241025\\00563_QramProtocol3QTomo.h5\n",
      "init_state |0>|1> play pulses [2, 1, 4, 3]\n",
      "timesteps [inf]\n"
     ]
    },
    {
     "data": {
      "application/vnd.jupyter.widget-view+json": {
       "model_id": "4a667a92b4eb45f6bad4908d41cf4b66",
       "version_major": 2,
       "version_minor": 0
      },
      "text/plain": [
       "  0%|          | 0/8 [00:00<?, ?it/s]"
      ]
     },
     "metadata": {},
     "output_type": "display_data"
    },
    {
     "name": "stdout",
     "output_type": "stream",
     "text": [
      "Qubit  (0)\n",
      "ge fidelity (%): 69.24000000000001 \t angle (deg): 0.0 \t threshold ge: 588.2018170951357\n",
      "Qubit  (2)\n",
      "ge fidelity (%): 78.68903890389039 \t angle (deg): 0.0 \t threshold ge: 875.7638049165072\n",
      "Qubit  (3)\n",
      "ge fidelity (%): 73.25999999999999 \t angle (deg): 0.0 \t threshold ge: 796.7113094169741\n",
      "thresholds=[588.2018170951357, 0, 875.7638049165072, 796.7113094169741],\n",
      "angles=[0.0, 0, 0.0, 0.0],\n",
      "ge_avgs=[[-5.447754841334418, 7.521790235964199, -0.9258548413344176, 2.201687225386493], [0, 0, 0, 0], [-0.13974662327095258, -3.9602417412530513, -0.0012111472742049045, 5.7924922701383235], [5.731808136696503, 1.4458686737184696, -0.1726397070789276, 2.5096349877949526]] ,\n",
      "counts_calib=[[6624, 1021, 771, 128, 1142, 163, 133, 18], [1046, 6602, 110, 793, 174, 1131, 20, 124], [811, 125, 6506, 1032, 141, 28, 1159, 198], [101, 690, 1139, 6518, 22, 126, 201, 1203], [1287, 163, 147, 26, 6488, 929, 816, 144], [210, 1234, 31, 176, 1067, 6256, 159, 867], [247, 36, 1240, 201, 1079, 168, 6085, 944], [30, 179, 194, 1269, 97, 740, 1018, 6473]]\n",
      "\n"
     ]
    },
    {
     "data": {
      "application/vnd.jupyter.widget-view+json": {
       "model_id": "2dbfb5f416894f7abecf0e7593e6e1a0",
       "version_major": 2,
       "version_minor": 0
      },
      "text/plain": [
       "  0%|          | 0/1 [00:00<?, ?it/s]"
      ]
     },
     "metadata": {},
     "output_type": "display_data"
    },
    {
     "data": {
      "application/vnd.jupyter.widget-view+json": {
       "model_id": "43a3f4063d764be197938791c28788c5",
       "version_major": 2,
       "version_minor": 0
      },
      "text/plain": [
       "  0%|          | 0/27 [00:00<?, ?it/s]"
      ]
     },
     "metadata": {},
     "output_type": "display_data"
    },
    {
     "name": "stdout",
     "output_type": "stream",
     "text": [
      "Saving S:\\QRAM\\qram_4QR2\\data\\data_241025\\00564_QramProtocol3QTomo.h5\n",
      "init_state |0>|0+1> play pulses [2, 1, 4, 3]\n",
      "timesteps [inf]\n"
     ]
    },
    {
     "data": {
      "application/vnd.jupyter.widget-view+json": {
       "model_id": "7a912eb9bb5443c48b1cc5886c4445a0",
       "version_major": 2,
       "version_minor": 0
      },
      "text/plain": [
       "  0%|          | 0/8 [00:00<?, ?it/s]"
      ]
     },
     "metadata": {},
     "output_type": "display_data"
    },
    {
     "name": "stdout",
     "output_type": "stream",
     "text": [
      "Qubit  (0)\n",
      "ge fidelity (%): 70.208699869987 \t angle (deg): 0.0 \t threshold ge: 591.4616635813193\n",
      "Qubit  (2)\n",
      "ge fidelity (%): 77.3391919191919 \t angle (deg): 0.0 \t threshold ge: 921.2326838718287\n",
      "Qubit  (3)\n",
      "ge fidelity (%): 73.57861786178616 \t angle (deg): 0.0 \t threshold ge: 775.8783149163795\n",
      "thresholds=[591.4616635813193, 0, 921.2326838718287, 775.8783149163795],\n",
      "angles=[0.0, 0, 0.0, 0.0],\n",
      "ge_avgs=[[3.622988771358828, -2.371638730675347, -1.271779332790887, -2.868344263628967], [0, 0, 0, 0], [-0.9780375101708705, -3.4909605370219694, -4.315397803091946, -5.370814727420667], [0.22566720911310004, 8.19534385679414, 1.7099353132628174, -1.2208096013018745]] ,\n",
      "counts_calib=[[6767, 1101, 651, 102, 1071, 187, 96, 25], [1005, 6911, 74, 652, 146, 1087, 14, 111], [1034, 191, 6359, 1080, 148, 25, 998, 165], [149, 884, 1126, 6519, 20, 126, 181, 995], [1241, 228, 122, 19, 6583, 1071, 617, 119], [230, 1322, 24, 116, 1135, 6423, 136, 614], [223, 35, 1228, 218, 1001, 176, 6121, 998], [66, 350, 192, 1148, 283, 1567, 929, 5465]]\n",
      "\n"
     ]
    },
    {
     "data": {
      "application/vnd.jupyter.widget-view+json": {
       "model_id": "0eaa261f0f0441bda88a0007c154bd0a",
       "version_major": 2,
       "version_minor": 0
      },
      "text/plain": [
       "  0%|          | 0/1 [00:00<?, ?it/s]"
      ]
     },
     "metadata": {},
     "output_type": "display_data"
    },
    {
     "data": {
      "application/vnd.jupyter.widget-view+json": {
       "model_id": "60f2b92fdc924a1c967795cd3a6d689f",
       "version_major": 2,
       "version_minor": 0
      },
      "text/plain": [
       "  0%|          | 0/27 [00:00<?, ?it/s]"
      ]
     },
     "metadata": {},
     "output_type": "display_data"
    },
    {
     "name": "stdout",
     "output_type": "stream",
     "text": [
      "Saving S:\\QRAM\\qram_4QR2\\data\\data_241025\\00565_QramProtocol3QTomo.h5\n",
      "init_state |0>|0+i> play pulses [2, 1, 4, 3]\n",
      "timesteps [inf]\n"
     ]
    },
    {
     "data": {
      "application/vnd.jupyter.widget-view+json": {
       "model_id": "0494752c8624464f996b5f926de0a973",
       "version_major": 2,
       "version_minor": 0
      },
      "text/plain": [
       "  0%|          | 0/8 [00:00<?, ?it/s]"
      ]
     },
     "metadata": {},
     "output_type": "display_data"
    },
    {
     "name": "stdout",
     "output_type": "stream",
     "text": [
      "Qubit  (0)\n",
      "ge fidelity (%): 69.77 \t angle (deg): 0.0 \t threshold ge: 578.2072889871696\n",
      "Qubit  (2)\n",
      "ge fidelity (%): 77.98909690969094 \t angle (deg): 0.0 \t threshold ge: 902.3261381278573\n",
      "Qubit  (3)\n",
      "ge fidelity (%): 70.29 \t angle (deg): 0.0 \t threshold ge: 758.6216143841061\n",
      "thresholds=[578.2072889871696, 0, 902.3261381278573, 758.6216143841061],\n",
      "angles=[0.0, 0, 0.0, 0.0],\n",
      "ge_avgs=[[-0.9539616761594795, -1.0839414157851917, 1.743784540276647, 3.1042799837266064], [0, 0, 0, 0], [1.0993581773799834, -1.672837998372661, 4.147617982099269, -6.899244344995932], [1.9924192839707089, -12.04432855980472, 1.075564768104151, 4.508083482506098]] ,\n",
      "counts_calib=[[6483, 1178, 714, 129, 1166, 192, 108, 30], [1143, 6688, 89, 668, 200, 1099, 12, 101], [916, 145, 6409, 1168, 145, 27, 1015, 175], [192, 1146, 1058, 6147, 28, 196, 210, 1023], [1213, 197, 114, 21, 6515, 1183, 635, 122], [200, 1145, 26, 118, 1165, 6493, 128, 725], [165, 29, 1062, 244, 796, 161, 6410, 1133], [44, 239, 155, 1084, 177, 1165, 933, 6203]]\n",
      "\n"
     ]
    },
    {
     "data": {
      "application/vnd.jupyter.widget-view+json": {
       "model_id": "16a2cfe943b64255a64206c07b59cf71",
       "version_major": 2,
       "version_minor": 0
      },
      "text/plain": [
       "  0%|          | 0/1 [00:00<?, ?it/s]"
      ]
     },
     "metadata": {},
     "output_type": "display_data"
    },
    {
     "data": {
      "application/vnd.jupyter.widget-view+json": {
       "model_id": "dea17e93d31b4a7a9c9a9df8bfb41077",
       "version_major": 2,
       "version_minor": 0
      },
      "text/plain": [
       "  0%|          | 0/27 [00:00<?, ?it/s]"
      ]
     },
     "metadata": {},
     "output_type": "display_data"
    },
    {
     "name": "stdout",
     "output_type": "stream",
     "text": [
      "Saving S:\\QRAM\\qram_4QR2\\data\\data_241025\\00566_QramProtocol3QTomo.h5\n",
      "init_state |1>|0> play pulses [2, 1, 4, 3]\n",
      "timesteps [inf]\n"
     ]
    },
    {
     "data": {
      "application/vnd.jupyter.widget-view+json": {
       "model_id": "b4de6094b5474868803f4a00c859c945",
       "version_major": 2,
       "version_minor": 0
      },
      "text/plain": [
       "  0%|          | 0/8 [00:00<?, ?it/s]"
      ]
     },
     "metadata": {},
     "output_type": "display_data"
    },
    {
     "name": "stdout",
     "output_type": "stream",
     "text": [
      "Qubit  (0)\n",
      "ge fidelity (%): 71.05 \t angle (deg): 0.0 \t threshold ge: 589.0753497161925\n",
      "Qubit  (2)\n",
      "ge fidelity (%): 77.74000000000001 \t angle (deg): 0.0 \t threshold ge: 877.0984185624801\n",
      "Qubit  (3)\n",
      "ge fidelity (%): 72.53999999999999 \t angle (deg): 0.0 \t threshold ge: 780.9719496948086\n",
      "thresholds=[589.0753497161925, 0, 877.0984185624801, 780.9719496948086],\n",
      "angles=[0.0, 0, 0.0, 0.0],\n",
      "ge_avgs=[[-3.2487065093572, -1.697991375101709, 0.44386688364524124, 0.9666575264442631], [0, 0, 0, 0], [0.22302571196094478, 3.2063472742066725, 2.2305957689178193, -0.518168673718471], [7.682975183075669, 0.7360799023596409, 3.9595924328722583, -1.7718132628152958]] ,\n",
      "counts_calib=[[6638, 1139, 704, 150, 1072, 163, 113, 21], [1005, 6676, 109, 805, 157, 1084, 17, 147], [905, 164, 6623, 952, 144, 34, 1022, 156], [154, 810, 1170, 6551, 22, 121, 175, 997], [1177, 191, 144, 24, 6418, 1025, 854, 167], [262, 1211, 23, 158, 1306, 6046, 155, 839], [178, 30, 1216, 223, 877, 151, 6279, 1046], [23, 169, 202, 1218, 152, 915, 1055, 6266]]\n",
      "\n"
     ]
    },
    {
     "data": {
      "application/vnd.jupyter.widget-view+json": {
       "model_id": "a6dc0544fb074657b31573d8d17e4ae2",
       "version_major": 2,
       "version_minor": 0
      },
      "text/plain": [
       "  0%|          | 0/1 [00:00<?, ?it/s]"
      ]
     },
     "metadata": {},
     "output_type": "display_data"
    },
    {
     "data": {
      "application/vnd.jupyter.widget-view+json": {
       "model_id": "11464bd680b148379c93530463a21cd1",
       "version_major": 2,
       "version_minor": 0
      },
      "text/plain": [
       "  0%|          | 0/27 [00:00<?, ?it/s]"
      ]
     },
     "metadata": {},
     "output_type": "display_data"
    },
    {
     "name": "stdout",
     "output_type": "stream",
     "text": [
      "Saving S:\\QRAM\\qram_4QR2\\data\\data_241025\\00567_QramProtocol3QTomo.h5\n",
      "init_state |1>|1> play pulses [2, 1, 4, 3]\n",
      "timesteps [inf]\n"
     ]
    },
    {
     "data": {
      "application/vnd.jupyter.widget-view+json": {
       "model_id": "2095d21c9ba7487d9700b305c99c3669",
       "version_major": 2,
       "version_minor": 0
      },
      "text/plain": [
       "  0%|          | 0/8 [00:00<?, ?it/s]"
      ]
     },
     "metadata": {},
     "output_type": "display_data"
    },
    {
     "name": "stdout",
     "output_type": "stream",
     "text": [
      "Qubit  (0)\n",
      "ge fidelity (%): 70.85999999999999 \t angle (deg): 0.0 \t threshold ge: 584.4676032708039\n",
      "Qubit  (2)\n",
      "ge fidelity (%): 78.00000000000003 \t angle (deg): 0.0 \t threshold ge: 904.2707345360179\n",
      "Qubit  (3)\n",
      "ge fidelity (%): 72.05865686568657 \t angle (deg): 0.0 \t threshold ge: 769.3139902343584\n",
      "thresholds=[584.4676032708039, 0, 904.2707345360179, 769.3139902343584],\n",
      "angles=[0.0, 0, 0.0, 0.0],\n",
      "ge_avgs=[[-4.34356916192026, -1.0019119609438567, -5.0393680227827495, 5.990979658258746], [0, 0, 0, 0], [2.403831244914563, -2.46499869812856, -2.070072335231895, -5.987187225386491], [-0.42547282343368514, -0.09224727420667123, 1.4307620829943077, 1.319819772172497]] ,\n",
      "counts_calib=[[6632, 1137, 684, 137, 1077, 195, 118, 20], [1017, 6800, 96, 646, 189, 1101, 14, 137], [932, 150, 6546, 966, 148, 23, 1059, 176], [208, 1043, 1122, 6238, 33, 157, 169, 1030], [1181, 198, 116, 15, 6619, 1074, 678, 119], [279, 1266, 14, 104, 1249, 6357, 107, 624], [201, 39, 1130, 188, 1033, 200, 6121, 1088], [50, 182, 226, 1222, 173, 915, 1024, 6208]]\n",
      "\n"
     ]
    },
    {
     "data": {
      "application/vnd.jupyter.widget-view+json": {
       "model_id": "0d82d9fb1dc9460b933db8fd7cabeb0e",
       "version_major": 2,
       "version_minor": 0
      },
      "text/plain": [
       "  0%|          | 0/1 [00:00<?, ?it/s]"
      ]
     },
     "metadata": {},
     "output_type": "display_data"
    },
    {
     "data": {
      "application/vnd.jupyter.widget-view+json": {
       "model_id": "5c7cecf23c174a388f8ff08079241690",
       "version_major": 2,
       "version_minor": 0
      },
      "text/plain": [
       "  0%|          | 0/27 [00:00<?, ?it/s]"
      ]
     },
     "metadata": {},
     "output_type": "display_data"
    },
    {
     "name": "stdout",
     "output_type": "stream",
     "text": [
      "Saving S:\\QRAM\\qram_4QR2\\data\\data_241025\\00568_QramProtocol3QTomo.h5\n",
      "init_state |1>|0+1> play pulses [2, 1, 4, 3]\n",
      "timesteps [inf]\n"
     ]
    },
    {
     "data": {
      "application/vnd.jupyter.widget-view+json": {
       "model_id": "6093280829454cb1857cd04a4209e4c0",
       "version_major": 2,
       "version_minor": 0
      },
      "text/plain": [
       "  0%|          | 0/8 [00:00<?, ?it/s]"
      ]
     },
     "metadata": {},
     "output_type": "display_data"
    },
    {
     "name": "stdout",
     "output_type": "stream",
     "text": [
      "Qubit  (0)\n",
      "ge fidelity (%): 70.21 \t angle (deg): 0.0 \t threshold ge: 565.4034025556049\n",
      "Qubit  (2)\n",
      "ge fidelity (%): 73.28999999999999 \t angle (deg): 0.0 \t threshold ge: 865.8603983117061\n",
      "Qubit  (3)\n",
      "ge fidelity (%): 72.63867586758674 \t angle (deg): 0.0 \t threshold ge: 822.3450390548059\n",
      "thresholds=[565.4034025556049, 0, 865.8603983117061, 822.3450390548059],\n",
      "angles=[0.0, 0, 0.0, 0.0],\n",
      "ge_avgs=[[-3.447743449959317, -2.2359872253864936, 3.5930878763222145, 0.981700244100895], [0, 0, 0, 0], [-0.9023381611065899, 0.9626670463791703, -4.114937917005697, 0.9940505288852736], [0.8459767290480075, -2.6910655817737985, 1.0458069975589883, 4.679186818551668]] ,\n",
      "counts_calib=[[6582, 1031, 758, 113, 1156, 185, 150, 25], [1020, 6342, 138, 888, 193, 1216, 31, 172], [1226, 172, 6139, 845, 211, 36, 1193, 178], [225, 1096, 1164, 5875, 50, 222, 213, 1155], [1179, 155, 120, 19, 6708, 912, 779, 128], [215, 1064, 20, 138, 1187, 6395, 134, 847], [168, 23, 1168, 166, 837, 130, 6526, 982], [22, 141, 181, 1065, 126, 728, 1086, 6651]]\n",
      "\n"
     ]
    },
    {
     "data": {
      "application/vnd.jupyter.widget-view+json": {
       "model_id": "f066a76f21d644838c703af7923d6826",
       "version_major": 2,
       "version_minor": 0
      },
      "text/plain": [
       "  0%|          | 0/1 [00:00<?, ?it/s]"
      ]
     },
     "metadata": {},
     "output_type": "display_data"
    },
    {
     "data": {
      "application/vnd.jupyter.widget-view+json": {
       "model_id": "8c10e0cbb1894042807176e0dac019a6",
       "version_major": 2,
       "version_minor": 0
      },
      "text/plain": [
       "  0%|          | 0/27 [00:00<?, ?it/s]"
      ]
     },
     "metadata": {},
     "output_type": "display_data"
    },
    {
     "name": "stdout",
     "output_type": "stream",
     "text": [
      "Saving S:\\QRAM\\qram_4QR2\\data\\data_241025\\00569_QramProtocol3QTomo.h5\n",
      "init_state |1>|0+i> play pulses [2, 1, 4, 3]\n",
      "timesteps [inf]\n"
     ]
    },
    {
     "data": {
      "application/vnd.jupyter.widget-view+json": {
       "model_id": "af74f5de7d374eb4b43339fb0480ed9a",
       "version_major": 2,
       "version_minor": 0
      },
      "text/plain": [
       "  0%|          | 0/8 [00:00<?, ?it/s]"
      ]
     },
     "metadata": {},
     "output_type": "display_data"
    },
    {
     "name": "stdout",
     "output_type": "stream",
     "text": [
      "Qubit  (0)\n",
      "ge fidelity (%): 70.17849884988497 \t angle (deg): 0.0 \t threshold ge: 569.2680608739512\n",
      "Qubit  (2)\n",
      "ge fidelity (%): 80.12 \t angle (deg): 0.0 \t threshold ge: 856.1832519270409\n",
      "Qubit  (3)\n",
      "ge fidelity (%): 71.97856785678567 \t angle (deg): 0.0 \t threshold ge: 743.3571986559524\n",
      "thresholds=[569.2680608739512, 0, 856.1832519270409, 743.3571986559524],\n",
      "angles=[0.0, 0, 0.0, 0.0],\n",
      "ge_avgs=[[3.423115541090317, 1.086280390561432, -1.7001579332790884, 0.5213094385679413], [0, 0, 0, 0], [0.3649227827502036, -5.795944914564687, -0.870981366965012, -0.734790073230267], [2.319632058584216, -0.24577868185516707, 0.8244029292107398, 4.682511798209923]] ,\n",
      "counts_calib=[[6405, 1078, 781, 146, 1207, 231, 134, 18], [996, 6535, 133, 786, 186, 1186, 25, 153], [647, 134, 6460, 1192, 114, 21, 1217, 215], [173, 900, 1024, 6389, 27, 177, 189, 1121], [1056, 196, 138, 26, 6477, 1114, 820, 173], [233, 1173, 31, 155, 1081, 6320, 127, 880], [119, 20, 1086, 219, 613, 93, 6612, 1238], [20, 111, 138, 1121, 92, 656, 980, 6882]]\n",
      "\n"
     ]
    },
    {
     "data": {
      "application/vnd.jupyter.widget-view+json": {
       "model_id": "e61b82609f194ba4b3d9ba4d7de5e1db",
       "version_major": 2,
       "version_minor": 0
      },
      "text/plain": [
       "  0%|          | 0/1 [00:00<?, ?it/s]"
      ]
     },
     "metadata": {},
     "output_type": "display_data"
    },
    {
     "data": {
      "application/vnd.jupyter.widget-view+json": {
       "model_id": "fa8c5710d9c34d1fa24c2aeddf6963a3",
       "version_major": 2,
       "version_minor": 0
      },
      "text/plain": [
       "  0%|          | 0/27 [00:00<?, ?it/s]"
      ]
     },
     "metadata": {},
     "output_type": "display_data"
    },
    {
     "name": "stdout",
     "output_type": "stream",
     "text": [
      "Saving S:\\QRAM\\qram_4QR2\\data\\data_241025\\00570_QramProtocol3QTomo.h5\n",
      "init_state |0+1>|0> play pulses [2, 1, 4, 3]\n",
      "timesteps [inf]\n"
     ]
    },
    {
     "data": {
      "application/vnd.jupyter.widget-view+json": {
       "model_id": "487f62b5507441cebd238a77bc25828d",
       "version_major": 2,
       "version_minor": 0
      },
      "text/plain": [
       "  0%|          | 0/8 [00:00<?, ?it/s]"
      ]
     },
     "metadata": {},
     "output_type": "display_data"
    },
    {
     "name": "stdout",
     "output_type": "stream",
     "text": [
      "Qubit  (0)\n",
      "ge fidelity (%): 69.88000000000002 \t angle (deg): 0.0 \t threshold ge: 577.2112965621877\n",
      "Qubit  (2)\n",
      "ge fidelity (%): 78.37 \t angle (deg): 0.0 \t threshold ge: 875.3880415443685\n",
      "Qubit  (3)\n",
      "ge fidelity (%): 72.94866086608664 \t angle (deg): 0.0 \t threshold ge: 814.9678481715813\n",
      "thresholds=[577.2112965621877, 0, 875.3880415443685, 814.9678481715813],\n",
      "angles=[0.0, 0, 0.0, 0.0],\n",
      "ge_avgs=[[-0.6250842961757528, 1.7723312449145647, -0.3769196908055327, 1.0886519121236773], [0, 0, 0, 0], [-1.5508371847030102, 0.2846635475996743, 0.7834441822620027, 0.665286004882018], [-2.0774296175752647, -5.779428559804719, -4.522824735557362, -2.9342323026851105]] ,\n",
      "counts_calib=[[6479, 1042, 793, 123, 1220, 183, 139, 21], [1020, 6514, 133, 865, 158, 1138, 25, 147], [802, 141, 6491, 1017, 139, 17, 1205, 188], [186, 912, 1126, 6296, 22, 177, 185, 1096], [1160, 163, 124, 24, 6599, 966, 840, 124], [214, 1062, 20, 177, 1107, 6327, 149, 944], [163, 31, 1081, 177, 910, 130, 6500, 1008], [56, 280, 197, 1065, 235, 1380, 996, 5791]]\n",
      "\n"
     ]
    },
    {
     "data": {
      "application/vnd.jupyter.widget-view+json": {
       "model_id": "6cf5d8d594434ae9a09a4aa7eadea7ba",
       "version_major": 2,
       "version_minor": 0
      },
      "text/plain": [
       "  0%|          | 0/1 [00:00<?, ?it/s]"
      ]
     },
     "metadata": {},
     "output_type": "display_data"
    },
    {
     "data": {
      "application/vnd.jupyter.widget-view+json": {
       "model_id": "0b41a720591747c7a0f589fec3ff0528",
       "version_major": 2,
       "version_minor": 0
      },
      "text/plain": [
       "  0%|          | 0/27 [00:00<?, ?it/s]"
      ]
     },
     "metadata": {},
     "output_type": "display_data"
    },
    {
     "name": "stdout",
     "output_type": "stream",
     "text": [
      "Saving S:\\QRAM\\qram_4QR2\\data\\data_241025\\00571_QramProtocol3QTomo.h5\n",
      "init_state |0+1>|1> play pulses [2, 1, 4, 3]\n",
      "timesteps [inf]\n"
     ]
    },
    {
     "data": {
      "application/vnd.jupyter.widget-view+json": {
       "model_id": "44a6a16129dd4ed6a9ea1c9b47232b01",
       "version_major": 2,
       "version_minor": 0
      },
      "text/plain": [
       "  0%|          | 0/8 [00:00<?, ?it/s]"
      ]
     },
     "metadata": {},
     "output_type": "display_data"
    },
    {
     "name": "stdout",
     "output_type": "stream",
     "text": [
      "Qubit  (0)\n",
      "ge fidelity (%): 71.58000000000003 \t angle (deg): 0.0 \t threshold ge: 594.5322908763665\n",
      "Qubit  (2)\n",
      "ge fidelity (%): 80.00000000000001 \t angle (deg): 0.0 \t threshold ge: 878.7244149058268\n",
      "Qubit  (3)\n",
      "ge fidelity (%): 74.32 \t angle (deg): 0.0 \t threshold ge: 773.814631965422\n",
      "thresholds=[594.5322908763665, 0, 878.7244149058268, 773.814631965422],\n",
      "angles=[0.0, 0, 0.0, 0.0],\n",
      "ge_avgs=[[1.7297014646053714, 3.1740069161920266, -5.462907323026851, 1.6283938974776235], [0, 0, 0, 0], [-1.6131685109845397, 0.03139275834011369, 1.5439371847030094, 2.9718017087062663], [0.878498942229456, -2.768140764849472, -0.730524898291287, 0.3964787632221305]] ,\n",
      "counts_calib=[[6736, 1020, 736, 122, 1103, 153, 112, 18], [987, 6813, 103, 746, 174, 1026, 16, 135], [800, 98, 6706, 1037, 108, 20, 1060, 171], [155, 875, 1090, 6452, 27, 170, 177, 1054], [1132, 189, 131, 18, 6586, 1059, 760, 125], [228, 1280, 24, 143, 997, 6424, 131, 773], [235, 30, 1153, 179, 1179, 194, 6099, 931], [32, 207, 158, 1153, 146, 1066, 833, 6405]]\n",
      "\n"
     ]
    },
    {
     "data": {
      "application/vnd.jupyter.widget-view+json": {
       "model_id": "4258af1d18c742329933c60edb39fd4b",
       "version_major": 2,
       "version_minor": 0
      },
      "text/plain": [
       "  0%|          | 0/1 [00:00<?, ?it/s]"
      ]
     },
     "metadata": {},
     "output_type": "display_data"
    },
    {
     "data": {
      "application/vnd.jupyter.widget-view+json": {
       "model_id": "00dd1345e63345a5b266d081597db338",
       "version_major": 2,
       "version_minor": 0
      },
      "text/plain": [
       "  0%|          | 0/27 [00:00<?, ?it/s]"
      ]
     },
     "metadata": {},
     "output_type": "display_data"
    },
    {
     "name": "stdout",
     "output_type": "stream",
     "text": [
      "Saving S:\\QRAM\\qram_4QR2\\data\\data_241025\\00572_QramProtocol3QTomo.h5\n",
      "init_state |0+1>|0+1> play pulses [2, 1, 4, 3]\n",
      "timesteps [inf]\n"
     ]
    },
    {
     "data": {
      "application/vnd.jupyter.widget-view+json": {
       "model_id": "d9cf515ea0ec4594a1aa727f2ecd517f",
       "version_major": 2,
       "version_minor": 0
      },
      "text/plain": [
       "  0%|          | 0/8 [00:00<?, ?it/s]"
      ]
     },
     "metadata": {},
     "output_type": "display_data"
    },
    {
     "name": "stdout",
     "output_type": "stream",
     "text": [
      "Qubit  (0)\n",
      "ge fidelity (%): 69.0 \t angle (deg): 0.0 \t threshold ge: 587.8556858746373\n",
      "Qubit  (2)\n",
      "ge fidelity (%): 78.5 \t angle (deg): 0.0 \t threshold ge: 906.0603811355933\n",
      "Qubit  (3)\n",
      "ge fidelity (%): 75.00874287428746 \t angle (deg): 0.0 \t threshold ge: 776.483176327596\n",
      "thresholds=[587.8556858746373, 0, 906.0603811355933, 776.483176327596],\n",
      "angles=[0.0, 0, 0.0, 0.0],\n",
      "ge_avgs=[[4.8206052074857615, -3.1394624898291283, -6.758266395443449, 0.3268608624898294], [0, 0, 0, 0], [2.3597603742880393, -2.484427664768104, -1.873092758340115, 0.17037510170870757], [1.832295687550855, -1.4599807160292915, -2.9755962571196055, -1.5730594792514256]] ,\n",
      "counts_calib=[[6747, 1005, 644, 105, 1193, 174, 118, 14], [934, 6719, 108, 725, 163, 1215, 17, 119], [939, 139, 6487, 946, 179, 19, 1129, 162], [172, 949, 1009, 6385, 22, 165, 177, 1121], [1291, 200, 116, 16, 6563, 1017, 688, 109], [225, 1247, 17, 153, 1067, 6493, 101, 697], [198, 24, 1229, 198, 892, 157, 6340, 962], [25, 197, 130, 1110, 148, 1054, 902, 6434]]\n",
      "\n"
     ]
    },
    {
     "data": {
      "application/vnd.jupyter.widget-view+json": {
       "model_id": "2d5e2499ed584f0fbc29ad1c3bd6c1d1",
       "version_major": 2,
       "version_minor": 0
      },
      "text/plain": [
       "  0%|          | 0/1 [00:00<?, ?it/s]"
      ]
     },
     "metadata": {},
     "output_type": "display_data"
    },
    {
     "data": {
      "application/vnd.jupyter.widget-view+json": {
       "model_id": "3ab990955774400ebd78361363abcf28",
       "version_major": 2,
       "version_minor": 0
      },
      "text/plain": [
       "  0%|          | 0/27 [00:00<?, ?it/s]"
      ]
     },
     "metadata": {},
     "output_type": "display_data"
    },
    {
     "name": "stdout",
     "output_type": "stream",
     "text": [
      "Saving S:\\QRAM\\qram_4QR2\\data\\data_241025\\00573_QramProtocol3QTomo.h5\n",
      "init_state |0+1>|0+i> play pulses [2, 1, 4, 3]\n",
      "timesteps [inf]\n"
     ]
    },
    {
     "data": {
      "application/vnd.jupyter.widget-view+json": {
       "model_id": "cf9ee6ffa3fc4bc8989272ff9b19ec0b",
       "version_major": 2,
       "version_minor": 0
      },
      "text/plain": [
       "  0%|          | 0/8 [00:00<?, ?it/s]"
      ]
     },
     "metadata": {},
     "output_type": "display_data"
    },
    {
     "name": "stdout",
     "output_type": "stream",
     "text": [
      "Qubit  (0)\n",
      "ge fidelity (%): 69.00000000000001 \t angle (deg): 0.0 \t threshold ge: 572.1647837771038\n",
      "Qubit  (2)\n",
      "ge fidelity (%): 75.76896489648965 \t angle (deg): 0.0 \t threshold ge: 866.9886134792654\n",
      "Qubit  (3)\n",
      "ge fidelity (%): 74.13877787778777 \t angle (deg): 0.0 \t threshold ge: 789.791278792747\n",
      "thresholds=[572.1647837771038, 0, 866.9886134792654, 789.791278792747],\n",
      "angles=[0.0, 0, 0.0, 0.0],\n",
      "ge_avgs=[[-1.5530391375101718, 1.2264193653376734, -0.23537217249796677, 1.5652627339300245], [0, 0, 0, 0], [2.950299430431245, -1.7491147274206673, 0.8180760781122861, -2.598310089503661], [3.2681184703010584, -0.5834123677786829, -2.360283726606999, -3.9962799023596394]] ,\n",
      "counts_calib=[[6534, 931, 818, 123, 1248, 171, 152, 23], [1006, 6400, 129, 840, 181, 1254, 26, 164], [980, 132, 6370, 922, 176, 26, 1250, 144], [209, 836, 1160, 6206, 37, 158, 206, 1188], [1170, 176, 153, 23, 6430, 1052, 852, 144], [202, 1161, 15, 146, 1100, 6286, 142, 948], [285, 32, 1103, 183, 1307, 187, 5980, 923], [30, 198, 190, 1195, 141, 999, 874, 6373]]\n",
      "\n"
     ]
    },
    {
     "data": {
      "application/vnd.jupyter.widget-view+json": {
       "model_id": "ef531cff6f3947c7af0248767977a3fb",
       "version_major": 2,
       "version_minor": 0
      },
      "text/plain": [
       "  0%|          | 0/1 [00:00<?, ?it/s]"
      ]
     },
     "metadata": {},
     "output_type": "display_data"
    },
    {
     "data": {
      "application/vnd.jupyter.widget-view+json": {
       "model_id": "748573590fe64a509945ec1a8a33f4dc",
       "version_major": 2,
       "version_minor": 0
      },
      "text/plain": [
       "  0%|          | 0/27 [00:00<?, ?it/s]"
      ]
     },
     "metadata": {},
     "output_type": "display_data"
    },
    {
     "name": "stdout",
     "output_type": "stream",
     "text": [
      "Saving S:\\QRAM\\qram_4QR2\\data\\data_241025\\00574_QramProtocol3QTomo.h5\n",
      "init_state |0+i>|0> play pulses [2, 1, 4, 3]\n",
      "timesteps [inf]\n"
     ]
    },
    {
     "data": {
      "application/vnd.jupyter.widget-view+json": {
       "model_id": "bf497ca7c056449292eab28b6d283cb0",
       "version_major": 2,
       "version_minor": 0
      },
      "text/plain": [
       "  0%|          | 0/8 [00:00<?, ?it/s]"
      ]
     },
     "metadata": {},
     "output_type": "display_data"
    },
    {
     "name": "stdout",
     "output_type": "stream",
     "text": [
      "Qubit  (0)\n",
      "ge fidelity (%): 69.29 \t angle (deg): 0.0 \t threshold ge: 594.0771570229293\n",
      "Qubit  (2)\n",
      "ge fidelity (%): 78.9091279127913 \t angle (deg): 0.0 \t threshold ge: 898.9979177717637\n",
      "Qubit  (3)\n",
      "ge fidelity (%): 73.31868686868688 \t angle (deg): 0.0 \t threshold ge: 797.6653134415171\n",
      "thresholds=[594.0771570229293, 0, 898.9979177717637, 797.6653134415171],\n",
      "angles=[0.0, 0, 0.0, 0.0],\n",
      "ge_avgs=[[0.49905443449959347, -3.8037907241659887, -2.691016517493897, -4.8687769731489015], [0, 0, 0, 0], [3.0352481692432876, 2.0172965825874702, -4.813140032546787, -0.5285948738812054], [8.08859137510171, -8.77334735557364, -1.6533870626525582, 0.06207803091944952]] ,\n",
      "counts_calib=[[6701, 1059, 699, 117, 1147, 148, 114, 15], [1043, 6657, 101, 741, 165, 1140, 20, 133], [857, 143, 6527, 1065, 140, 29, 1083, 156], [149, 784, 1179, 6434, 18, 127, 187, 1122], [1298, 193, 145, 22, 6507, 1033, 680, 122], [220, 1230, 25, 141, 1078, 6477, 124, 705], [201, 22, 1249, 182, 880, 134, 6370, 962], [45, 172, 193, 1263, 155, 860, 943, 6369]]\n",
      "\n"
     ]
    },
    {
     "data": {
      "application/vnd.jupyter.widget-view+json": {
       "model_id": "7816486f1abb4e169a56990077154524",
       "version_major": 2,
       "version_minor": 0
      },
      "text/plain": [
       "  0%|          | 0/1 [00:00<?, ?it/s]"
      ]
     },
     "metadata": {},
     "output_type": "display_data"
    },
    {
     "data": {
      "application/vnd.jupyter.widget-view+json": {
       "model_id": "4754fb76814848a296a9aaff46cf5f87",
       "version_major": 2,
       "version_minor": 0
      },
      "text/plain": [
       "  0%|          | 0/27 [00:00<?, ?it/s]"
      ]
     },
     "metadata": {},
     "output_type": "display_data"
    },
    {
     "name": "stdout",
     "output_type": "stream",
     "text": [
      "Saving S:\\QRAM\\qram_4QR2\\data\\data_241025\\00575_QramProtocol3QTomo.h5\n",
      "init_state |0+i>|1> play pulses [2, 1, 4, 3]\n",
      "timesteps [inf]\n"
     ]
    },
    {
     "data": {
      "application/vnd.jupyter.widget-view+json": {
       "model_id": "e4c166adef6c4307bf37b95c2dbcd627",
       "version_major": 2,
       "version_minor": 0
      },
      "text/plain": [
       "  0%|          | 0/8 [00:00<?, ?it/s]"
      ]
     },
     "metadata": {},
     "output_type": "display_data"
    },
    {
     "name": "stdout",
     "output_type": "stream",
     "text": [
      "Qubit  (0)\n",
      "ge fidelity (%): 69.11999999999998 \t angle (deg): 0.0 \t threshold ge: 597.4626129944952\n",
      "Qubit  (2)\n",
      "ge fidelity (%): 78.22999999999996 \t angle (deg): 0.0 \t threshold ge: 906.3104647644163\n",
      "Qubit  (3)\n",
      "ge fidelity (%): 73.69000000000001 \t angle (deg): 0.0 \t threshold ge: 820.8987239473959\n",
      "thresholds=[597.4626129944952, 0, 906.3104647644163, 820.8987239473959],\n",
      "angles=[0.0, 0, 0.0, 0.0],\n",
      "ge_avgs=[[-1.6208171684296175, -1.911585842148088, 8.925407241659887, 1.1178437754271768], [0, 0, 0, 0], [0.3289532953620841, -4.342807160292921, -1.8740490642799044, -3.8712406021155417], [-5.521486411716843, 1.016180146460537, -8.025905695687548, -3.034494955248167]] ,\n",
      "counts_calib=[[6688, 994, 749, 127, 1144, 148, 130, 20], [1070, 6705, 110, 684, 143, 1141, 22, 125], [860, 118, 6552, 982, 159, 19, 1138, 172], [195, 1025, 1132, 6231, 40, 160, 173, 1044], [1318, 183, 140, 11, 6595, 953, 676, 124], [229, 1304, 19, 130, 1153, 6316, 115, 734], [215, 29, 1231, 198, 977, 132, 6245, 973], [29, 167, 212, 1271, 113, 771, 904, 6533]]\n",
      "\n"
     ]
    },
    {
     "data": {
      "application/vnd.jupyter.widget-view+json": {
       "model_id": "ecd80f17eb1042879a349a22a6987219",
       "version_major": 2,
       "version_minor": 0
      },
      "text/plain": [
       "  0%|          | 0/1 [00:00<?, ?it/s]"
      ]
     },
     "metadata": {},
     "output_type": "display_data"
    },
    {
     "data": {
      "application/vnd.jupyter.widget-view+json": {
       "model_id": "9bb2b2ad956c429a8538a7bd2afecb7b",
       "version_major": 2,
       "version_minor": 0
      },
      "text/plain": [
       "  0%|          | 0/27 [00:00<?, ?it/s]"
      ]
     },
     "metadata": {},
     "output_type": "display_data"
    },
    {
     "name": "stdout",
     "output_type": "stream",
     "text": [
      "Saving S:\\QRAM\\qram_4QR2\\data\\data_241025\\00576_QramProtocol3QTomo.h5\n",
      "init_state |0+i>|0+1> play pulses [2, 1, 4, 3]\n",
      "timesteps [inf]\n"
     ]
    },
    {
     "data": {
      "application/vnd.jupyter.widget-view+json": {
       "model_id": "d854ed5f5cb349b3b2dce636b92fad40",
       "version_major": 2,
       "version_minor": 0
      },
      "text/plain": [
       "  0%|          | 0/8 [00:00<?, ?it/s]"
      ]
     },
     "metadata": {},
     "output_type": "display_data"
    },
    {
     "name": "stdout",
     "output_type": "stream",
     "text": [
      "Qubit  (0)\n",
      "ge fidelity (%): 70.96000000000001 \t angle (deg): 0.0 \t threshold ge: 600.963679747399\n",
      "Qubit  (2)\n",
      "ge fidelity (%): 78.33999999999999 \t angle (deg): 0.0 \t threshold ge: 912.0231809572588\n",
      "Qubit  (3)\n",
      "ge fidelity (%): 75.48879287928791 \t angle (deg): 0.0 \t threshold ge: 793.6625674610902\n",
      "thresholds=[600.963679747399, 0, 912.0231809572588, 793.6625674610902],\n",
      "angles=[0.0, 0, 0.0, 0.0],\n",
      "ge_avgs=[[1.5287567941415798, 2.4803105777054517, 2.283032302685109, 1.7650548413344178], [0, 0, 0, 0], [-1.6918393002441021, 1.5609730675345812, 0.1153370219690807, -1.4247922701383229], [1.6294698128559812, 2.210722294548413, -3.0768061838893375, 1.106921318144828]] ,\n",
      "counts_calib=[[6988, 988, 631, 94, 1037, 143, 106, 13], [946, 6963, 99, 685, 158, 1023, 18, 108], [995, 157, 6517, 1047, 158, 33, 968, 125], [231, 1132, 1127, 6185, 42, 165, 151, 967], [1277, 200, 116, 21, 6699, 939, 638, 110], [223, 1320, 27, 144, 1037, 6505, 104, 640], [248, 36, 1229, 164, 1009, 137, 6212, 965], [44, 262, 181, 1233, 176, 1186, 890, 6028]]\n",
      "\n"
     ]
    },
    {
     "data": {
      "application/vnd.jupyter.widget-view+json": {
       "model_id": "26122dde695c42f98596aa09c62840c3",
       "version_major": 2,
       "version_minor": 0
      },
      "text/plain": [
       "  0%|          | 0/1 [00:00<?, ?it/s]"
      ]
     },
     "metadata": {},
     "output_type": "display_data"
    },
    {
     "data": {
      "application/vnd.jupyter.widget-view+json": {
       "model_id": "f5313d187c894363934a4974ff8bd7e2",
       "version_major": 2,
       "version_minor": 0
      },
      "text/plain": [
       "  0%|          | 0/27 [00:00<?, ?it/s]"
      ]
     },
     "metadata": {},
     "output_type": "display_data"
    },
    {
     "name": "stdout",
     "output_type": "stream",
     "text": [
      "Saving S:\\QRAM\\qram_4QR2\\data\\data_241025\\00577_QramProtocol3QTomo.h5\n",
      "init_state |0+i>|0+i> play pulses [2, 1, 4, 3]\n",
      "timesteps [inf]\n"
     ]
    },
    {
     "data": {
      "application/vnd.jupyter.widget-view+json": {
       "model_id": "597a5964aded430a81b8feca6a568124",
       "version_major": 2,
       "version_minor": 0
      },
      "text/plain": [
       "  0%|          | 0/8 [00:00<?, ?it/s]"
      ]
     },
     "metadata": {},
     "output_type": "display_data"
    },
    {
     "name": "stdout",
     "output_type": "stream",
     "text": [
      "Qubit  (0)\n",
      "ge fidelity (%): 67.64000000000001 \t angle (deg): 0.0 \t threshold ge: 591.9029793845039\n",
      "Qubit  (2)\n",
      "ge fidelity (%): 78.03999999999999 \t angle (deg): 0.0 \t threshold ge: 873.618576452642\n",
      "Qubit  (3)\n",
      "ge fidelity (%): 74.81 \t angle (deg): 0.0 \t threshold ge: 824.8722620855945\n",
      "thresholds=[591.9029793845039, 0, 873.618576452642, 824.8722620855945],\n",
      "angles=[0.0, 0, 0.0, 0.0],\n",
      "ge_avgs=[[2.3246286411716843, 0.3382126932465417, 8.200205451586656, 0.109759967453215], [0, 0, 0, 0], [1.9180805532953622, 0.6190733116354767, -2.47213881204231, -10.97959283970708], [-11.88904564686737, -4.264917737998372, 2.1704623270952004, -7.066527990235964]] ,\n",
      "counts_calib=[[6697, 893, 786, 125, 1168, 177, 136, 18], [961, 6520, 152, 900, 173, 1106, 23, 165], [868, 127, 6527, 1051, 134, 13, 1131, 149], [194, 937, 1125, 6240, 29, 149, 210, 1116], [1425, 157, 146, 12, 6509, 974, 664, 113], [244, 1212, 26, 145, 1246, 6199, 154, 774], [173, 27, 1195, 194, 777, 143, 6485, 1006], [30, 125, 237, 1206, 121, 732, 1048, 6501]]\n",
      "\n"
     ]
    },
    {
     "data": {
      "application/vnd.jupyter.widget-view+json": {
       "model_id": "4dd3045b6e6046f79b8a5767ff452f9c",
       "version_major": 2,
       "version_minor": 0
      },
      "text/plain": [
       "  0%|          | 0/1 [00:00<?, ?it/s]"
      ]
     },
     "metadata": {},
     "output_type": "display_data"
    },
    {
     "data": {
      "application/vnd.jupyter.widget-view+json": {
       "model_id": "263a2c6e118a4acf98b8db56fc96f135",
       "version_major": 2,
       "version_minor": 0
      },
      "text/plain": [
       "  0%|          | 0/27 [00:00<?, ?it/s]"
      ]
     },
     "metadata": {},
     "output_type": "display_data"
    },
    {
     "name": "stdout",
     "output_type": "stream",
     "text": [
      "Saving S:\\QRAM\\qram_4QR2\\data\\data_241025\\00578_QramProtocol3QTomo.h5\n",
      "init_state |0>|0> play pulses [2, 1, 4, 3]\n",
      "timesteps [inf]\n"
     ]
    },
    {
     "data": {
      "application/vnd.jupyter.widget-view+json": {
       "model_id": "973ddcf9bcf84bc382e9335b46b37477",
       "version_major": 2,
       "version_minor": 0
      },
      "text/plain": [
       "  0%|          | 0/8 [00:00<?, ?it/s]"
      ]
     },
     "metadata": {},
     "output_type": "display_data"
    },
    {
     "name": "stdout",
     "output_type": "stream",
     "text": [
      "Qubit  (0)\n",
      "ge fidelity (%): 69.65853185318535 \t angle (deg): 0.0 \t threshold ge: 573.482506953843\n",
      "Qubit  (2)\n",
      "ge fidelity (%): 79.96899989999 \t angle (deg): 0.0 \t threshold ge: 858.8360765616561\n",
      "Qubit  (3)\n",
      "ge fidelity (%): 72.95859885988602 \t angle (deg): 0.0 \t threshold ge: 780.4723504546092\n",
      "thresholds=[573.482506953843, 0, 858.8360765616561, 780.4723504546092],\n",
      "angles=[0.0, 0, 0.0, 0.0],\n",
      "ge_avgs=[[3.3599938161106597, -2.55213685923515, -3.1466122864117168, -2.424360862489829], [0, 0, 0, 0], [-1.7723511798209932, -3.721402685109846, -2.3675436126932463, 2.896002359641984], [1.0942646053702199, 4.158568836452399, 9.517166720911312, -0.050186737184704]] ,\n",
      "counts_calib=[[6468, 1069, 766, 148, 1203, 194, 124, 28], [960, 6419, 136, 881, 162, 1242, 18, 182], [691, 110, 6573, 1083, 138, 20, 1185, 200], [140, 778, 1103, 6414, 28, 141, 212, 1184], [1167, 179, 136, 27, 6497, 985, 851, 158], [199, 1100, 17, 166, 1153, 6318, 148, 899], [244, 47, 1051, 175, 1202, 188, 6086, 1007], [29, 170, 178, 1138, 133, 951, 971, 6430]]\n",
      "\n"
     ]
    },
    {
     "data": {
      "application/vnd.jupyter.widget-view+json": {
       "model_id": "3957852d1f784195b4e30395bdb5ff97",
       "version_major": 2,
       "version_minor": 0
      },
      "text/plain": [
       "  0%|          | 0/1 [00:00<?, ?it/s]"
      ]
     },
     "metadata": {},
     "output_type": "display_data"
    },
    {
     "data": {
      "application/vnd.jupyter.widget-view+json": {
       "model_id": "ab953ce4059b46479c91ed25a2032201",
       "version_major": 2,
       "version_minor": 0
      },
      "text/plain": [
       "  0%|          | 0/27 [00:00<?, ?it/s]"
      ]
     },
     "metadata": {},
     "output_type": "display_data"
    },
    {
     "name": "stdout",
     "output_type": "stream",
     "text": [
      "Saving S:\\QRAM\\qram_4QR2\\data\\data_241025\\00579_QramProtocol3QTomo.h5\n",
      "init_state |0>|1> play pulses [2, 1, 4, 3]\n",
      "timesteps [inf]\n"
     ]
    },
    {
     "data": {
      "application/vnd.jupyter.widget-view+json": {
       "model_id": "13ec9e2878f145fdb186dafa04db8c88",
       "version_major": 2,
       "version_minor": 0
      },
      "text/plain": [
       "  0%|          | 0/8 [00:00<?, ?it/s]"
      ]
     },
     "metadata": {},
     "output_type": "display_data"
    },
    {
     "name": "stdout",
     "output_type": "stream",
     "text": [
      "Qubit  (0)\n",
      "ge fidelity (%): 68.59843484348437 \t angle (deg): 0.0 \t threshold ge: 571.3861716220798\n",
      "Qubit  (2)\n",
      "ge fidelity (%): 72.06908790879089 \t angle (deg): 0.0 \t threshold ge: 888.4720936537104\n",
      "Qubit  (3)\n",
      "ge fidelity (%): 73.59000000000005 \t angle (deg): 0.0 \t threshold ge: 802.8436957174862\n",
      "thresholds=[571.3861716220798, 0, 888.4720936537104, 802.8436957174862],\n",
      "angles=[0.0, 0, 0.0, 0.0],\n",
      "ge_avgs=[[1.0677500406834823, -0.3597700569568755, 7.490462082994305, -3.2290090317331166], [0, 0, 0, 0], [1.0102128559804717, 1.586492758340115, 2.8198009764035787, -0.9683737184703012], [6.218140358014647, -7.794029129373477, 1.3493477624084622, 1.3032807160292885]] ,\n",
      "counts_calib=[[6553, 966, 722, 110, 1284, 206, 141, 18], [1041, 6575, 118, 755, 166, 1187, 24, 134], [1348, 207, 5942, 955, 219, 44, 1101, 184], [175, 940, 1138, 6155, 40, 178, 218, 1156], [1161, 195, 124, 26, 6563, 1063, 737, 131], [248, 1094, 19, 127, 1235, 6360, 155, 762], [137, 14, 1070, 175, 897, 133, 6518, 1056], [31, 191, 188, 1121, 171, 992, 1001, 6305]]\n",
      "\n"
     ]
    },
    {
     "data": {
      "application/vnd.jupyter.widget-view+json": {
       "model_id": "a59c376932d3405e8308bcb4a066a4af",
       "version_major": 2,
       "version_minor": 0
      },
      "text/plain": [
       "  0%|          | 0/1 [00:00<?, ?it/s]"
      ]
     },
     "metadata": {},
     "output_type": "display_data"
    },
    {
     "data": {
      "application/vnd.jupyter.widget-view+json": {
       "model_id": "8928c2a08af248f586c990b5ef238f3e",
       "version_major": 2,
       "version_minor": 0
      },
      "text/plain": [
       "  0%|          | 0/27 [00:00<?, ?it/s]"
      ]
     },
     "metadata": {},
     "output_type": "display_data"
    },
    {
     "name": "stdout",
     "output_type": "stream",
     "text": [
      "Saving S:\\QRAM\\qram_4QR2\\data\\data_241025\\00580_QramProtocol3QTomo.h5\n",
      "init_state |0>|0+1> play pulses [2, 1, 4, 3]\n",
      "timesteps [inf]\n"
     ]
    },
    {
     "data": {
      "application/vnd.jupyter.widget-view+json": {
       "model_id": "eecc7264f2524e86abcc5f6bd1dae018",
       "version_major": 2,
       "version_minor": 0
      },
      "text/plain": [
       "  0%|          | 0/8 [00:00<?, ?it/s]"
      ]
     },
     "metadata": {},
     "output_type": "display_data"
    },
    {
     "name": "stdout",
     "output_type": "stream",
     "text": [
      "Qubit  (0)\n",
      "ge fidelity (%): 69.52863586358636 \t angle (deg): 0.0 \t threshold ge: 591.5593736630098\n",
      "Qubit  (2)\n",
      "ge fidelity (%): 77.20911591159117 \t angle (deg): 0.0 \t threshold ge: 895.0321081821294\n",
      "Qubit  (3)\n",
      "ge fidelity (%): 73.47863386338636 \t angle (deg): 0.0 \t threshold ge: 775.5919936567157\n",
      "thresholds=[591.5593736630098, 0, 895.0321081821294, 775.5919936567157],\n",
      "angles=[0.0, 0, 0.0, 0.0],\n",
      "ge_avgs=[[-0.22653401139137658, -0.14851668022782752, -4.787056061838893, -0.7105694873881202], [0, 0, 0, 0], [-6.806636289666395, 8.602273148901546, 3.9760034987794963, -2.483653783563873], [-7.778494060211553, -1.4309595606183876, -1.4312530512611825, -8.808419365337667]] ,\n",
      "counts_calib=[[6704, 1049, 673, 137, 1090, 191, 135, 21], [998, 6811, 93, 751, 162, 1049, 16, 120], [980, 152, 6483, 922, 172, 31, 1065, 195], [194, 1192, 1041, 6181, 25, 191, 166, 1010], [1279, 205, 119, 18, 6554, 996, 711, 118], [242, 1254, 32, 172, 1129, 6267, 114, 790], [279, 43, 1187, 212, 1190, 172, 5945, 972], [41, 232, 191, 1185, 158, 1114, 915, 6164]]\n",
      "\n"
     ]
    },
    {
     "data": {
      "application/vnd.jupyter.widget-view+json": {
       "model_id": "91e22728b0364ce0bf396282cce05f19",
       "version_major": 2,
       "version_minor": 0
      },
      "text/plain": [
       "  0%|          | 0/1 [00:00<?, ?it/s]"
      ]
     },
     "metadata": {},
     "output_type": "display_data"
    },
    {
     "data": {
      "application/vnd.jupyter.widget-view+json": {
       "model_id": "0b2510d64c85473ba5a6c7b6ae6810b5",
       "version_major": 2,
       "version_minor": 0
      },
      "text/plain": [
       "  0%|          | 0/27 [00:00<?, ?it/s]"
      ]
     },
     "metadata": {},
     "output_type": "display_data"
    },
    {
     "name": "stdout",
     "output_type": "stream",
     "text": [
      "Saving S:\\QRAM\\qram_4QR2\\data\\data_241025\\00581_QramProtocol3QTomo.h5\n",
      "init_state |0>|0+i> play pulses [2, 1, 4, 3]\n",
      "timesteps [inf]\n"
     ]
    },
    {
     "data": {
      "application/vnd.jupyter.widget-view+json": {
       "model_id": "2e35246cfed54944aece8135d0cf0e94",
       "version_major": 2,
       "version_minor": 0
      },
      "text/plain": [
       "  0%|          | 0/8 [00:00<?, ?it/s]"
      ]
     },
     "metadata": {},
     "output_type": "display_data"
    },
    {
     "name": "stdout",
     "output_type": "stream",
     "text": [
      "Qubit  (0)\n",
      "ge fidelity (%): 68.61000000000001 \t angle (deg): 0.0 \t threshold ge: 583.9509329993314\n",
      "Qubit  (2)\n",
      "ge fidelity (%): 78.76 \t angle (deg): 0.0 \t threshold ge: 873.5254699224108\n",
      "Qubit  (3)\n",
      "ge fidelity (%): 73.0686838683869 \t angle (deg): 0.0 \t threshold ge: 777.3029830626798\n",
      "thresholds=[583.9509329993314, 0, 873.5254699224108, 777.3029830626798],\n",
      "angles=[0.0, 0, 0.0, 0.0],\n",
      "ge_avgs=[[-1.1385650122050448, -2.3225655004068346, -3.4775010577705454, 6.362876891781937], [0, 0, 0, 0], [-1.754438649308381, -0.5261692432872245, 0.018623270951993617, 0.44553384865744494], [4.646260618388935, -1.1146935720097644, 7.142984784377544, -3.2518119609438534]] ,\n",
      "counts_calib=[[6630, 993, 725, 120, 1155, 199, 145, 33], [1031, 6501, 129, 831, 168, 1156, 21, 163], [825, 128, 6601, 964, 147, 16, 1139, 180], [122, 812, 1090, 6454, 27, 145, 185, 1165], [1236, 211, 139, 28, 6447, 1035, 778, 126], [232, 1252, 21, 176, 1108, 6262, 128, 821], [255, 34, 1209, 180, 1155, 144, 6107, 916], [50, 251, 155, 1218, 158, 1127, 876, 6165]]\n",
      "\n"
     ]
    },
    {
     "data": {
      "application/vnd.jupyter.widget-view+json": {
       "model_id": "b1f40a03548a4480a826c4620228ed45",
       "version_major": 2,
       "version_minor": 0
      },
      "text/plain": [
       "  0%|          | 0/1 [00:00<?, ?it/s]"
      ]
     },
     "metadata": {},
     "output_type": "display_data"
    },
    {
     "data": {
      "application/vnd.jupyter.widget-view+json": {
       "model_id": "209fb219995a45d2a699996b08c6c06f",
       "version_major": 2,
       "version_minor": 0
      },
      "text/plain": [
       "  0%|          | 0/27 [00:00<?, ?it/s]"
      ]
     },
     "metadata": {},
     "output_type": "display_data"
    },
    {
     "name": "stdout",
     "output_type": "stream",
     "text": [
      "Saving S:\\QRAM\\qram_4QR2\\data\\data_241025\\00582_QramProtocol3QTomo.h5\n",
      "init_state |1>|0> play pulses [2, 1, 4, 3]\n",
      "timesteps [inf]\n"
     ]
    },
    {
     "data": {
      "application/vnd.jupyter.widget-view+json": {
       "model_id": "487a46088ca742d7be09ad10fcc79794",
       "version_major": 2,
       "version_minor": 0
      },
      "text/plain": [
       "  0%|          | 0/8 [00:00<?, ?it/s]"
      ]
     },
     "metadata": {},
     "output_type": "display_data"
    },
    {
     "name": "stdout",
     "output_type": "stream",
     "text": [
      "Qubit  (0)\n",
      "ge fidelity (%): 70.14999999999999 \t angle (deg): 0.0 \t threshold ge: 586.73103732655\n",
      "Qubit  (2)\n",
      "ge fidelity (%): 78.8691179117912 \t angle (deg): 0.0 \t threshold ge: 898.358589596306\n",
      "Qubit  (3)\n",
      "ge fidelity (%): 75.29876887688768 \t angle (deg): 0.0 \t threshold ge: 780.850759839442\n",
      "thresholds=[586.73103732655, 0, 898.358589596306, 780.850759839442],\n",
      "angles=[0.0, 0, 0.0, 0.0],\n",
      "ge_avgs=[[0.1858943043124489, -0.13965345809601312, -1.7884528885272575, -5.624858177379983], [0, 0, 0, 0], [2.1289257933279075, -3.0767662327095207, -0.1012419039869812, 0.7185912937347446], [10.90117225386493, 0.6820419853539457, 2.752942554922701, 4.7327968266883635]] ,\n",
      "counts_calib=[[6788, 957, 673, 107, 1131, 178, 147, 19], [925, 6721, 118, 825, 155, 1092, 21, 143], [886, 115, 6598, 970, 139, 30, 1111, 151], [136, 805, 1001, 6513, 21, 158, 182, 1184], [1184, 193, 123, 22, 6547, 1055, 750, 126], [191, 1170, 23, 141, 1069, 6516, 125, 765], [176, 24, 1204, 159, 863, 119, 6531, 924], [42, 216, 133, 1175, 173, 1153, 844, 6264]]\n",
      "\n"
     ]
    },
    {
     "data": {
      "application/vnd.jupyter.widget-view+json": {
       "model_id": "6aff5b1807c74cedac104f5f106639d9",
       "version_major": 2,
       "version_minor": 0
      },
      "text/plain": [
       "  0%|          | 0/1 [00:00<?, ?it/s]"
      ]
     },
     "metadata": {},
     "output_type": "display_data"
    },
    {
     "data": {
      "application/vnd.jupyter.widget-view+json": {
       "model_id": "26d810ddb48948e2922da6fd5361b345",
       "version_major": 2,
       "version_minor": 0
      },
      "text/plain": [
       "  0%|          | 0/27 [00:00<?, ?it/s]"
      ]
     },
     "metadata": {},
     "output_type": "display_data"
    },
    {
     "name": "stdout",
     "output_type": "stream",
     "text": [
      "Saving S:\\QRAM\\qram_4QR2\\data\\data_241025\\00583_QramProtocol3QTomo.h5\n",
      "init_state |1>|1> play pulses [2, 1, 4, 3]\n",
      "timesteps [inf]\n"
     ]
    },
    {
     "data": {
      "application/vnd.jupyter.widget-view+json": {
       "model_id": "03317408906e4227a15bee74a9b05d36",
       "version_major": 2,
       "version_minor": 0
      },
      "text/plain": [
       "  0%|          | 0/8 [00:00<?, ?it/s]"
      ]
     },
     "metadata": {},
     "output_type": "display_data"
    },
    {
     "name": "stdout",
     "output_type": "stream",
     "text": [
      "Qubit  (0)\n",
      "ge fidelity (%): 70.13999999999999 \t angle (deg): 0.0 \t threshold ge: 606.029882331975\n",
      "Qubit  (2)\n",
      "ge fidelity (%): 75.56999999999998 \t angle (deg): 0.0 \t threshold ge: 856.9587570457297\n",
      "Qubit  (3)\n",
      "ge fidelity (%): 75.79 \t angle (deg): 0.0 \t threshold ge: 807.4319860521965\n",
      "thresholds=[606.029882331975, 0, 856.9587570457297, 807.4319860521965],\n",
      "angles=[0.0, 0, 0.0, 0.0],\n",
      "ge_avgs=[[0.6278092758340114, 1.2839029292107402, 0.4880498779495527, 1.8854273393002436], [0, 0, 0, 0], [1.0443763222131826, 0.8341921887713594, -5.129989259560618, -4.9818868999186305], [-4.4437912123677785, 0.4720929210740436, -9.064222782750202, -0.885875752644425]] ,\n",
      "counts_calib=[[6717, 933, 896, 118, 1042, 147, 122, 25], [916, 6551, 129, 1057, 134, 1023, 29, 161], [1000, 153, 6571, 987, 126, 23, 990, 150], [167, 864, 1201, 6541, 24, 114, 171, 918], [1259, 190, 177, 37, 6233, 1000, 945, 159], [283, 1280, 39, 204, 1082, 6044, 167, 901], [169, 25, 1321, 222, 691, 94, 6510, 968], [28, 146, 200, 1345, 106, 686, 965, 6524]]\n",
      "\n"
     ]
    },
    {
     "data": {
      "application/vnd.jupyter.widget-view+json": {
       "model_id": "ce981a60eb974f33baa5d48e38b93e5b",
       "version_major": 2,
       "version_minor": 0
      },
      "text/plain": [
       "  0%|          | 0/1 [00:00<?, ?it/s]"
      ]
     },
     "metadata": {},
     "output_type": "display_data"
    },
    {
     "data": {
      "application/vnd.jupyter.widget-view+json": {
       "model_id": "a2514e21335c4b8e82e9c7c299cdd2e6",
       "version_major": 2,
       "version_minor": 0
      },
      "text/plain": [
       "  0%|          | 0/27 [00:00<?, ?it/s]"
      ]
     },
     "metadata": {},
     "output_type": "display_data"
    },
    {
     "name": "stdout",
     "output_type": "stream",
     "text": [
      "Saving S:\\QRAM\\qram_4QR2\\data\\data_241025\\00584_QramProtocol3QTomo.h5\n",
      "init_state |1>|0+1> play pulses [2, 1, 4, 3]\n",
      "timesteps [inf]\n"
     ]
    },
    {
     "data": {
      "application/vnd.jupyter.widget-view+json": {
       "model_id": "945de2df12644b869fdfb4761589fe17",
       "version_major": 2,
       "version_minor": 0
      },
      "text/plain": [
       "  0%|          | 0/8 [00:00<?, ?it/s]"
      ]
     },
     "metadata": {},
     "output_type": "display_data"
    },
    {
     "name": "stdout",
     "output_type": "stream",
     "text": [
      "Qubit  (0)\n",
      "ge fidelity (%): 69.12000000000003 \t angle (deg): 0.0 \t threshold ge: 580.4846237495527\n",
      "Qubit  (2)\n",
      "ge fidelity (%): 73.07999999999997 \t angle (deg): 0.0 \t threshold ge: 903.283042585777\n",
      "Qubit  (3)\n",
      "ge fidelity (%): 75.2487468746875 \t angle (deg): 0.0 \t threshold ge: 800.2185839316904\n",
      "thresholds=[580.4846237495527, 0, 903.283042585777, 800.2185839316904],\n",
      "angles=[0.0, 0, 0.0, 0.0],\n",
      "ge_avgs=[[-0.8174492270138322, 4.530618470301057, 3.968741497152156, 0.6978501220504458], [0, 0, 0, 0], [-0.39151969080553317, -1.1105930024410093, 2.1268849471114737, -0.929445565500406], [-0.1244008136696506, -2.9564565500406834, -2.3924997558991046, 0.8953696501220489]] ,\n",
      "counts_calib=[[6656, 944, 708, 123, 1241, 193, 115, 20], [921, 6666, 84, 746, 172, 1255, 19, 137], [1308, 187, 6144, 924, 209, 29, 1055, 144], [175, 914, 1125, 6298, 32, 170, 182, 1104], [1208, 196, 104, 16, 6703, 978, 669, 126], [259, 1305, 23, 128, 1239, 6285, 120, 641], [184, 34, 1137, 187, 984, 163, 6404, 907], [53, 204, 208, 1196, 202, 1026, 971, 6140]]\n",
      "\n"
     ]
    },
    {
     "data": {
      "application/vnd.jupyter.widget-view+json": {
       "model_id": "6b1c3e4a289742be943ed6ec72ae13d3",
       "version_major": 2,
       "version_minor": 0
      },
      "text/plain": [
       "  0%|          | 0/1 [00:00<?, ?it/s]"
      ]
     },
     "metadata": {},
     "output_type": "display_data"
    },
    {
     "data": {
      "application/vnd.jupyter.widget-view+json": {
       "model_id": "f5b97f0817534ed6b4020f4761c2dddf",
       "version_major": 2,
       "version_minor": 0
      },
      "text/plain": [
       "  0%|          | 0/27 [00:00<?, ?it/s]"
      ]
     },
     "metadata": {},
     "output_type": "display_data"
    },
    {
     "name": "stdout",
     "output_type": "stream",
     "text": [
      "Saving S:\\QRAM\\qram_4QR2\\data\\data_241025\\00585_QramProtocol3QTomo.h5\n",
      "init_state |1>|0+i> play pulses [2, 1, 4, 3]\n",
      "timesteps [inf]\n"
     ]
    },
    {
     "data": {
      "application/vnd.jupyter.widget-view+json": {
       "model_id": "11774fbefec441f0977c464df4eafcf2",
       "version_major": 2,
       "version_minor": 0
      },
      "text/plain": [
       "  0%|          | 0/8 [00:00<?, ?it/s]"
      ]
     },
     "metadata": {},
     "output_type": "display_data"
    },
    {
     "name": "stdout",
     "output_type": "stream",
     "text": [
      "Qubit  (0)\n",
      "ge fidelity (%): 70.14999999999999 \t angle (deg): 0.0 \t threshold ge: 575.0888218264845\n",
      "Qubit  (2)\n",
      "ge fidelity (%): 79.9890589058906 \t angle (deg): 0.0 \t threshold ge: 884.0967556308946\n",
      "Qubit  (3)\n",
      "ge fidelity (%): 73.78869986998701 \t angle (deg): 0.0 \t threshold ge: 796.4831398239398\n",
      "thresholds=[575.0888218264845, 0, 884.0967556308946, 796.4831398239398],\n",
      "angles=[0.0, 0, 0.0, 0.0],\n",
      "ge_avgs=[[2.0834079739625704, 4.611489422294548, 0.5274082994304307, -1.3241515866558182], [0, 0, 0, 0], [4.723029943043126, -1.2246912123677787, -6.880664198535394, -1.8675538649308383], [-1.3646031733116355, -1.1939800650935721, 2.0024157038242465, 0.43874971521562073]] ,\n",
      "counts_calib=[[6590, 982, 745, 139, 1211, 188, 128, 17], [1011, 6572, 110, 824, 155, 1176, 19, 133], [759, 109, 6619, 1026, 129, 14, 1148, 196], [149, 858, 1062, 6474, 27, 133, 192, 1105], [1150, 169, 126, 16, 6686, 978, 752, 123], [250, 1140, 25, 117, 1213, 6354, 145, 756], [137, 21, 1209, 168, 768, 112, 6606, 979], [34, 160, 198, 1222, 134, 802, 1005, 6445]]\n",
      "\n"
     ]
    },
    {
     "data": {
      "application/vnd.jupyter.widget-view+json": {
       "model_id": "677b89f452264751841cb5911ceead93",
       "version_major": 2,
       "version_minor": 0
      },
      "text/plain": [
       "  0%|          | 0/1 [00:00<?, ?it/s]"
      ]
     },
     "metadata": {},
     "output_type": "display_data"
    },
    {
     "data": {
      "application/vnd.jupyter.widget-view+json": {
       "model_id": "b132c430bd5c41c89feb1f37276d5840",
       "version_major": 2,
       "version_minor": 0
      },
      "text/plain": [
       "  0%|          | 0/27 [00:00<?, ?it/s]"
      ]
     },
     "metadata": {},
     "output_type": "display_data"
    },
    {
     "name": "stdout",
     "output_type": "stream",
     "text": [
      "Saving S:\\QRAM\\qram_4QR2\\data\\data_241025\\00586_QramProtocol3QTomo.h5\n",
      "init_state |0+1>|0> play pulses [2, 1, 4, 3]\n",
      "timesteps [inf]\n"
     ]
    },
    {
     "data": {
      "application/vnd.jupyter.widget-view+json": {
       "model_id": "6a94a5fe7ae74f82ba67713f2b35deca",
       "version_major": 2,
       "version_minor": 0
      },
      "text/plain": [
       "  0%|          | 0/8 [00:00<?, ?it/s]"
      ]
     },
     "metadata": {},
     "output_type": "display_data"
    },
    {
     "name": "stdout",
     "output_type": "stream",
     "text": [
      "Qubit  (0)\n",
      "ge fidelity (%): 69.44 \t angle (deg): 0.0 \t threshold ge: 564.2160069508857\n",
      "Qubit  (2)\n",
      "ge fidelity (%): 81.52999999999999 \t angle (deg): 0.0 \t threshold ge: 894.2458786450543\n",
      "Qubit  (3)\n",
      "ge fidelity (%): 73.20878387838783 \t angle (deg): 0.0 \t threshold ge: 827.956466853568\n",
      "thresholds=[564.2160069508857, 0, 894.2458786450543, 827.956466853568],\n",
      "angles=[0.0, 0, 0.0, 0.0],\n",
      "ge_avgs=[[-5.444236289666395, 1.6286597233523192, 2.9692059397884467, -5.258351423921888], [0, 0, 0, 0], [5.3836425549227, -4.672964279902359, -4.75289967453214, -1.4100438567941416], [0.44327160292920936, -1.9360934906427973, -5.369954109031729, -0.38448039056143135]] ,\n",
      "counts_calib=[[6729, 949, 631, 96, 1275, 177, 122, 21], [1076, 6352, 120, 738, 214, 1339, 28, 133], [691, 108, 6572, 930, 163, 17, 1325, 194], [191, 810, 1298, 6071, 29, 167, 221, 1213], [1172, 189, 113, 17, 6653, 1037, 711, 108], [254, 1202, 34, 101, 1177, 6391, 125, 716], [140, 23, 1101, 162, 815, 107, 6691, 961], [27, 156, 197, 1103, 110, 766, 1087, 6554]]\n",
      "\n"
     ]
    },
    {
     "data": {
      "application/vnd.jupyter.widget-view+json": {
       "model_id": "47c52d0497034cd495c80aa176ba9ca4",
       "version_major": 2,
       "version_minor": 0
      },
      "text/plain": [
       "  0%|          | 0/1 [00:00<?, ?it/s]"
      ]
     },
     "metadata": {},
     "output_type": "display_data"
    },
    {
     "data": {
      "application/vnd.jupyter.widget-view+json": {
       "model_id": "ae9c2997b6c04879a81f6cc19ada48fd",
       "version_major": 2,
       "version_minor": 0
      },
      "text/plain": [
       "  0%|          | 0/27 [00:00<?, ?it/s]"
      ]
     },
     "metadata": {},
     "output_type": "display_data"
    },
    {
     "name": "stdout",
     "output_type": "stream",
     "text": [
      "Saving S:\\QRAM\\qram_4QR2\\data\\data_241025\\00587_QramProtocol3QTomo.h5\n",
      "init_state |0+1>|1> play pulses [2, 1, 4, 3]\n",
      "timesteps [inf]\n"
     ]
    },
    {
     "data": {
      "application/vnd.jupyter.widget-view+json": {
       "model_id": "0d154e7e020e43debb6d85ccb4378b29",
       "version_major": 2,
       "version_minor": 0
      },
      "text/plain": [
       "  0%|          | 0/8 [00:00<?, ?it/s]"
      ]
     },
     "metadata": {},
     "output_type": "display_data"
    },
    {
     "name": "stdout",
     "output_type": "stream",
     "text": [
      "Qubit  (0)\n",
      "ge fidelity (%): 68.35868786878689 \t angle (deg): 0.0 \t threshold ge: 604.7368767204456\n",
      "Qubit  (2)\n",
      "ge fidelity (%): 79.71907190719071 \t angle (deg): 0.0 \t threshold ge: 887.150596846914\n",
      "Qubit  (3)\n",
      "ge fidelity (%): 74.69874887488747 \t angle (deg): 0.0 \t threshold ge: 783.8910268793503\n",
      "thresholds=[604.7368767204456, 0, 887.150596846914, 783.8910268793503],\n",
      "angles=[0.0, 0, 0.0, 0.0],\n",
      "ge_avgs=[[-5.095403010577706, 0.5519825061025225, -3.1567718470301047, -3.8262205044751827], [0, 0, 0, 0], [-2.980383401139138, 0.569489829129373, -3.6273057770545165, -1.6751778681855176], [-5.2677519121236775, -0.5297592351505289, -5.5293316517493905, 0.5685161920260369]] ,\n",
      "counts_calib=[[6767, 997, 732, 116, 1094, 145, 130, 19], [963, 6712, 112, 769, 175, 1123, 10, 136], [797, 108, 6704, 1006, 124, 13, 1085, 163], [182, 912, 1142, 6440, 20, 117, 190, 997], [1430, 185, 142, 21, 6463, 972, 662, 125], [256, 1344, 30, 155, 1098, 6179, 135, 803], [158, 27, 1331, 195, 716, 124, 6490, 959], [35, 156, 210, 1333, 121, 719, 905, 6521]]\n",
      "\n"
     ]
    },
    {
     "data": {
      "application/vnd.jupyter.widget-view+json": {
       "model_id": "d19185fa67e74f5eaeeaf159dbd7b05d",
       "version_major": 2,
       "version_minor": 0
      },
      "text/plain": [
       "  0%|          | 0/1 [00:00<?, ?it/s]"
      ]
     },
     "metadata": {},
     "output_type": "display_data"
    },
    {
     "data": {
      "application/vnd.jupyter.widget-view+json": {
       "model_id": "dd4de138f9a64127bc2cfdb2459b8b5b",
       "version_major": 2,
       "version_minor": 0
      },
      "text/plain": [
       "  0%|          | 0/27 [00:00<?, ?it/s]"
      ]
     },
     "metadata": {},
     "output_type": "display_data"
    },
    {
     "name": "stdout",
     "output_type": "stream",
     "text": [
      "Saving S:\\QRAM\\qram_4QR2\\data\\data_241025\\00588_QramProtocol3QTomo.h5\n",
      "init_state |0+1>|0+1> play pulses [2, 1, 4, 3]\n",
      "timesteps [inf]\n"
     ]
    },
    {
     "data": {
      "application/vnd.jupyter.widget-view+json": {
       "model_id": "9bfa35f881df4b7fb1d652ddbac18350",
       "version_major": 2,
       "version_minor": 0
      },
      "text/plain": [
       "  0%|          | 0/8 [00:00<?, ?it/s]"
      ]
     },
     "metadata": {},
     "output_type": "display_data"
    },
    {
     "name": "stdout",
     "output_type": "stream",
     "text": [
      "Qubit  (0)\n",
      "ge fidelity (%): 69.58 \t angle (deg): 0.0 \t threshold ge: 590.0538512921644\n",
      "Qubit  (2)\n",
      "ge fidelity (%): 78.06000000000002 \t angle (deg): 0.0 \t threshold ge: 877.9960262754704\n",
      "Qubit  (3)\n",
      "ge fidelity (%): 73.88 \t angle (deg): 0.0 \t threshold ge: 772.2419932019283\n",
      "thresholds=[590.0538512921644, 0, 877.9960262754704, 772.2419932019283],\n",
      "angles=[0.0, 0, 0.0, 0.0],\n",
      "ge_avgs=[[-1.6194008136696505, -2.188701545972336, 0.3495664768104145, 5.14874043938161], [0, 0, 0, 0], [2.1157850284784376, 3.329308380797397, -1.1483518307567133, -6.549702847843774], [-3.1402468673718458, -2.5617374288039065, 0.757092839707081, 6.211617087062647]] ,\n",
      "counts_calib=[[6606, 981, 779, 124, 1176, 179, 131, 24], [999, 6595, 126, 784, 164, 1173, 17, 142], [865, 120, 6471, 1029, 130, 21, 1181, 183], [141, 745, 1145, 6469, 24, 142, 183, 1151], [1175, 207, 151, 17, 6452, 1087, 766, 145], [243, 1233, 21, 147, 1086, 6343, 145, 782], [165, 35, 1196, 215, 752, 133, 6427, 1077], [20, 141, 176, 1260, 98, 696, 1012, 6597]]\n",
      "\n"
     ]
    },
    {
     "data": {
      "application/vnd.jupyter.widget-view+json": {
       "model_id": "71b1ef79534a42878cf3d23b06891cde",
       "version_major": 2,
       "version_minor": 0
      },
      "text/plain": [
       "  0%|          | 0/1 [00:00<?, ?it/s]"
      ]
     },
     "metadata": {},
     "output_type": "display_data"
    },
    {
     "data": {
      "application/vnd.jupyter.widget-view+json": {
       "model_id": "ca9b7547039c4e379e9db4e23ad9bc0f",
       "version_major": 2,
       "version_minor": 0
      },
      "text/plain": [
       "  0%|          | 0/27 [00:00<?, ?it/s]"
      ]
     },
     "metadata": {},
     "output_type": "display_data"
    },
    {
     "name": "stdout",
     "output_type": "stream",
     "text": [
      "Saving S:\\QRAM\\qram_4QR2\\data\\data_241025\\00589_QramProtocol3QTomo.h5\n",
      "init_state |0+1>|0+i> play pulses [2, 1, 4, 3]\n",
      "timesteps [inf]\n"
     ]
    },
    {
     "data": {
      "application/vnd.jupyter.widget-view+json": {
       "model_id": "b511aa5e35134442bfb81fb2d1c4cd94",
       "version_major": 2,
       "version_minor": 0
      },
      "text/plain": [
       "  0%|          | 0/8 [00:00<?, ?it/s]"
      ]
     },
     "metadata": {},
     "output_type": "display_data"
    },
    {
     "name": "stdout",
     "output_type": "stream",
     "text": [
      "Qubit  (0)\n",
      "ge fidelity (%): 70.56865086508654 \t angle (deg): 0.0 \t threshold ge: 585.0568229812366\n",
      "Qubit  (2)\n",
      "ge fidelity (%): 79.03905690569056 \t angle (deg): 0.0 \t threshold ge: 895.1558521168788\n",
      "Qubit  (3)\n",
      "ge fidelity (%): 72.27999999999999 \t angle (deg): 0.0 \t threshold ge: 782.3347391517391\n",
      "thresholds=[585.0568229812366, 0, 895.1558521168788, 782.3347391517391],\n",
      "angles=[0.0, 0, 0.0, 0.0],\n",
      "ge_avgs=[[0.7702305126118808, -0.5347947925142401, 0.9552327908868998, -2.594034418226199], [0, 0, 0, 0], [0.8678192026037432, -4.334580146460539, -6.233013100081366, -3.3808707892595624], [-1.0276257119609442, -4.340150772986167, -2.7895685109845405, 0.8811910496338483]] ,\n",
      "counts_calib=[[6622, 1077, 753, 121, 1103, 177, 132, 15], [1121, 6557, 84, 739, 180, 1172, 9, 138], [789, 148, 6504, 1061, 128, 22, 1160, 188], [145, 741, 1137, 6561, 18, 121, 194, 1083], [1196, 207, 120, 27, 6550, 973, 802, 125], [234, 1200, 25, 122, 1204, 6307, 136, 772], [160, 22, 1184, 217, 751, 116, 6581, 969], [19, 140, 181, 1177, 117, 778, 1073, 6515]]\n",
      "\n"
     ]
    },
    {
     "data": {
      "application/vnd.jupyter.widget-view+json": {
       "model_id": "2b033a41f0a2473c8d71b5608931a6ef",
       "version_major": 2,
       "version_minor": 0
      },
      "text/plain": [
       "  0%|          | 0/1 [00:00<?, ?it/s]"
      ]
     },
     "metadata": {},
     "output_type": "display_data"
    },
    {
     "data": {
      "application/vnd.jupyter.widget-view+json": {
       "model_id": "b93d502d147642fd8861896f384a7bf1",
       "version_major": 2,
       "version_minor": 0
      },
      "text/plain": [
       "  0%|          | 0/27 [00:00<?, ?it/s]"
      ]
     },
     "metadata": {},
     "output_type": "display_data"
    },
    {
     "name": "stdout",
     "output_type": "stream",
     "text": [
      "Saving S:\\QRAM\\qram_4QR2\\data\\data_241025\\00590_QramProtocol3QTomo.h5\n",
      "init_state |0+i>|0> play pulses [2, 1, 4, 3]\n",
      "timesteps [inf]\n"
     ]
    },
    {
     "data": {
      "application/vnd.jupyter.widget-view+json": {
       "model_id": "f693f8fb5bb643869283de032a3a0de2",
       "version_major": 2,
       "version_minor": 0
      },
      "text/plain": [
       "  0%|          | 0/8 [00:00<?, ?it/s]"
      ]
     },
     "metadata": {},
     "output_type": "display_data"
    },
    {
     "name": "stdout",
     "output_type": "stream",
     "text": [
      "Qubit  (0)\n",
      "ge fidelity (%): 67.3985588558856 \t angle (deg): 0.0 \t threshold ge: 582.5751420869294\n",
      "Qubit  (2)\n",
      "ge fidelity (%): 78.83999999999999 \t angle (deg): 0.0 \t threshold ge: 868.9524964171233\n",
      "Qubit  (3)\n",
      "ge fidelity (%): 71.80862586258627 \t angle (deg): 0.0 \t threshold ge: 780.3372309984152\n",
      "thresholds=[582.5751420869294, 0, 868.9524964171233, 780.3372309984152],\n",
      "angles=[0.0, 0, 0.0, 0.0],\n",
      "ge_avgs=[[-0.808048250610252, -0.4584320585842148, -1.2014160292921074, -0.18499820992677002], [0, 0, 0, 0], [1.847676484947111, 1.910615785191214, -4.57867794955248, 10.238194955248169], [-7.0445879576891794, 4.4381681041497165, 5.08072522375915, 1.003716192026043]] ,\n",
      "counts_calib=[[6493, 1046, 791, 137, 1163, 198, 150, 22], [1077, 6417, 143, 818, 186, 1151, 19, 189], [729, 136, 6573, 1023, 139, 25, 1201, 174], [121, 700, 1134, 6575, 27, 109, 180, 1154], [1353, 202, 157, 33, 6134, 1061, 902, 158], [182, 1163, 30, 160, 1125, 6294, 150, 896], [183, 27, 1195, 190, 750, 103, 6509, 1043], [31, 154, 188, 1227, 132, 831, 998, 6439]]\n",
      "\n"
     ]
    },
    {
     "data": {
      "application/vnd.jupyter.widget-view+json": {
       "model_id": "c7ff8073b1124e8e9d7c46fb03e4f0ee",
       "version_major": 2,
       "version_minor": 0
      },
      "text/plain": [
       "  0%|          | 0/1 [00:00<?, ?it/s]"
      ]
     },
     "metadata": {},
     "output_type": "display_data"
    },
    {
     "data": {
      "application/vnd.jupyter.widget-view+json": {
       "model_id": "dc9fdbeb1f5d462ea319fd459404668f",
       "version_major": 2,
       "version_minor": 0
      },
      "text/plain": [
       "  0%|          | 0/27 [00:00<?, ?it/s]"
      ]
     },
     "metadata": {},
     "output_type": "display_data"
    },
    {
     "name": "stdout",
     "output_type": "stream",
     "text": [
      "Saving S:\\QRAM\\qram_4QR2\\data\\data_241025\\00591_QramProtocol3QTomo.h5\n",
      "init_state |0+i>|1> play pulses [2, 1, 4, 3]\n",
      "timesteps [inf]\n"
     ]
    },
    {
     "data": {
      "application/vnd.jupyter.widget-view+json": {
       "model_id": "4dcd809a10404cbf8418e50e0d09fa4d",
       "version_major": 2,
       "version_minor": 0
      },
      "text/plain": [
       "  0%|          | 0/8 [00:00<?, ?it/s]"
      ]
     },
     "metadata": {},
     "output_type": "display_data"
    },
    {
     "name": "stdout",
     "output_type": "stream",
     "text": [
      "Qubit  (0)\n",
      "ge fidelity (%): 68.51000000000002 \t angle (deg): 0.0 \t threshold ge: 606.7881075274895\n",
      "Qubit  (2)\n",
      "ge fidelity (%): 78.66000000000001 \t angle (deg): 0.0 \t threshold ge: 881.5639083664023\n",
      "Qubit  (3)\n",
      "ge fidelity (%): 74.28999999999995 \t angle (deg): 0.0 \t threshold ge: 779.6732913044659\n",
      "thresholds=[606.7881075274895, 0, 881.5639083664023, 779.6732913044659],\n",
      "angles=[0.0, 0, 0.0, 0.0],\n",
      "ge_avgs=[[-5.208344589096828, 1.0645264442636293, -2.170995443449959, 1.4157624898291299], [0, 0, 0, 0], [0.13236427990236052, -0.9205982912937343, -1.425110821806347, 0.22586956875508532], [1.3196625711960939, 2.6852633034987785, -3.712475020341744, -4.038526688364523]] ,\n",
      "counts_calib=[[6679, 1036, 786, 127, 1061, 158, 133, 20], [958, 6693, 112, 842, 152, 1085, 17, 141], [832, 102, 6570, 1085, 124, 23, 1079, 185], [128, 770, 1075, 6654, 11, 109, 177, 1076], [1392, 209, 145, 34, 6270, 982, 823, 145], [290, 1416, 31, 178, 1093, 6083, 137, 772], [200, 24, 1361, 219, 792, 110, 6269, 1025], [50, 200, 251, 1391, 152, 826, 1009, 6121]]\n",
      "\n"
     ]
    },
    {
     "data": {
      "application/vnd.jupyter.widget-view+json": {
       "model_id": "79ae204fc2814a26bcb135a4e36267bc",
       "version_major": 2,
       "version_minor": 0
      },
      "text/plain": [
       "  0%|          | 0/1 [00:00<?, ?it/s]"
      ]
     },
     "metadata": {},
     "output_type": "display_data"
    },
    {
     "data": {
      "application/vnd.jupyter.widget-view+json": {
       "model_id": "562d4a35884646d8b61867b73c5976ce",
       "version_major": 2,
       "version_minor": 0
      },
      "text/plain": [
       "  0%|          | 0/27 [00:00<?, ?it/s]"
      ]
     },
     "metadata": {},
     "output_type": "display_data"
    },
    {
     "name": "stdout",
     "output_type": "stream",
     "text": [
      "Saving S:\\QRAM\\qram_4QR2\\data\\data_241025\\00592_QramProtocol3QTomo.h5\n",
      "init_state |0+i>|0+1> play pulses [2, 1, 4, 3]\n",
      "timesteps [inf]\n"
     ]
    },
    {
     "data": {
      "application/vnd.jupyter.widget-view+json": {
       "model_id": "cf2188ed05db47928891f604be363571",
       "version_major": 2,
       "version_minor": 0
      },
      "text/plain": [
       "  0%|          | 0/8 [00:00<?, ?it/s]"
      ]
     },
     "metadata": {},
     "output_type": "display_data"
    },
    {
     "name": "stdout",
     "output_type": "stream",
     "text": [
      "Qubit  (0)\n",
      "ge fidelity (%): 69.29824382438245 \t angle (deg): 0.0 \t threshold ge: 597.742591816227\n",
      "Qubit  (2)\n",
      "ge fidelity (%): 78.79000000000002 \t angle (deg): 0.0 \t threshold ge: 911.9791515731451\n",
      "Qubit  (3)\n",
      "ge fidelity (%): 72.0786058605861 \t angle (deg): 0.0 \t threshold ge: 814.3566799181773\n",
      "thresholds=[597.742591816227, 0, 911.9791515731451, 814.3566799181773],\n",
      "angles=[0.0, 0, 0.0, 0.0],\n",
      "ge_avgs=[[-3.090445809601301, -5.029949227013834, -0.7234709519934901, -0.0004192839707083067], [0, 0, 0, 0], [-5.817021969080552, -7.53349723352319, 7.64072937347437, 1.8255090317331175], [0.5916304312449129, 2.8266703010577707, 1.4645686737184715, -10.682290561432055]] ,\n",
      "counts_calib=[[6720, 1114, 666, 120, 1082, 164, 116, 18], [1068, 6750, 109, 697, 187, 1059, 15, 115], [915, 137, 6610, 957, 136, 23, 1067, 155], [172, 847, 1195, 6353, 30, 150, 206, 1047], [1370, 195, 109, 19, 6643, 995, 597, 72], [264, 1260, 19, 111, 1227, 6354, 109, 656], [240, 21, 1294, 200, 940, 125, 6284, 896], [56, 240, 212, 1317, 195, 937, 1079, 5964]]\n",
      "\n"
     ]
    },
    {
     "data": {
      "application/vnd.jupyter.widget-view+json": {
       "model_id": "9b4f41bfef7048d68a17cce592cb47a0",
       "version_major": 2,
       "version_minor": 0
      },
      "text/plain": [
       "  0%|          | 0/1 [00:00<?, ?it/s]"
      ]
     },
     "metadata": {},
     "output_type": "display_data"
    },
    {
     "data": {
      "application/vnd.jupyter.widget-view+json": {
       "model_id": "55315f3399fa44cd97eb22f9ff61b06d",
       "version_major": 2,
       "version_minor": 0
      },
      "text/plain": [
       "  0%|          | 0/27 [00:00<?, ?it/s]"
      ]
     },
     "metadata": {},
     "output_type": "display_data"
    },
    {
     "name": "stdout",
     "output_type": "stream",
     "text": [
      "Saving S:\\QRAM\\qram_4QR2\\data\\data_241025\\00593_QramProtocol3QTomo.h5\n",
      "init_state |0+i>|0+i> play pulses [2, 1, 4, 3]\n",
      "timesteps [inf]\n"
     ]
    },
    {
     "data": {
      "application/vnd.jupyter.widget-view+json": {
       "model_id": "6d03e9644bb14e04a1e6955709ec9ad4",
       "version_major": 2,
       "version_minor": 0
      },
      "text/plain": [
       "  0%|          | 0/8 [00:00<?, ?it/s]"
      ]
     },
     "metadata": {},
     "output_type": "display_data"
    },
    {
     "name": "stdout",
     "output_type": "stream",
     "text": [
      "Qubit  (0)\n",
      "ge fidelity (%): 68.75000000000001 \t angle (deg): 0.0 \t threshold ge: 571.0969499328503\n",
      "Qubit  (2)\n",
      "ge fidelity (%): 80.57000000000001 \t angle (deg): 0.0 \t threshold ge: 875.3165688569608\n",
      "Qubit  (3)\n",
      "ge fidelity (%): 73.44867786778676 \t angle (deg): 0.0 \t threshold ge: 776.4388903948715\n",
      "thresholds=[571.0969499328503, 0, 875.3165688569608, 776.4388903948715],\n",
      "angles=[0.0, 0, 0.0, 0.0],\n",
      "ge_avgs=[[4.612658421480878, 1.6984442636289667, -4.9033571196094385, -0.3600078925956052], [0, 0, 0, 0], [1.9133109031733118, 2.072791944670463, -4.007023596419853, 5.516621318144834], [-2.8947919446704633, -6.384667290480065, 2.057535720097645, 2.4175171684296175]] ,\n",
      "counts_calib=[[6561, 983, 703, 134, 1239, 209, 141, 30], [956, 6510, 107, 803, 215, 1197, 26, 186], [677, 114, 6560, 1050, 130, 21, 1272, 176], [144, 808, 1174, 6339, 40, 166, 204, 1125], [1177, 187, 127, 18, 6396, 1146, 802, 147], [215, 1104, 27, 147, 1139, 6398, 129, 841], [155, 24, 1116, 203, 728, 117, 6531, 1126], [25, 175, 183, 1171, 139, 776, 992, 6539]]\n",
      "\n"
     ]
    },
    {
     "data": {
      "application/vnd.jupyter.widget-view+json": {
       "model_id": "d7aace338b0442e3bf9e3a393af84fdb",
       "version_major": 2,
       "version_minor": 0
      },
      "text/plain": [
       "  0%|          | 0/1 [00:00<?, ?it/s]"
      ]
     },
     "metadata": {},
     "output_type": "display_data"
    },
    {
     "data": {
      "application/vnd.jupyter.widget-view+json": {
       "model_id": "6cf62827a64a4226972d09ced4350419",
       "version_major": 2,
       "version_minor": 0
      },
      "text/plain": [
       "  0%|          | 0/27 [00:00<?, ?it/s]"
      ]
     },
     "metadata": {},
     "output_type": "display_data"
    },
    {
     "name": "stdout",
     "output_type": "stream",
     "text": [
      "Saving S:\\QRAM\\qram_4QR2\\data\\data_241025\\00594_QramProtocol3QTomo.h5\n"
     ]
    }
   ],
   "source": [
    "play_pulses = protocol_play\n",
    "for it in range(iterations):\n",
    "    for init_state in init_states:\n",
    "        qramExpt = meas.QramProtocol3QTomoExperiment(\n",
    "            soccfg=soc,\n",
    "            path=expt_path,\n",
    "            config_file=config_path,\n",
    "            ns_address=ns_address,\n",
    "        )\n",
    "        print('init_state', init_state, 'play pulses', play_pulses)\n",
    "        \n",
    "        span = np.inf\n",
    "        npts = 1\n",
    "        if span < np.inf: print('time step size [cycles]:', soc.us2cycles(span/npts))\n",
    "        \n",
    "        qramExpt.cfg.expt = dict(\n",
    "            start=span,\n",
    "            step=0,\n",
    "            expts=1, # number of different time experiments\n",
    "        \n",
    "            reps=10000, # number of reps per tomo/time step,\n",
    "            singleshot_reps=10000, # reps per state for singleshot calibration\n",
    "            # reps=100, # number of reps per tomo/time step,\n",
    "            # singleshot_reps=100, #000, # reps per state for singleshot calibration\n",
    "            post_process=None, # 'threshold', (uses single shot binning), 'scale' (scale by ge_avgs), or None\n",
    "            tomo_3q=True, # flag to perform tomo on last time step\n",
    "            tomo_qubits=tomo_qubits, # the qubits on which to do the 3q state tomo\n",
    "            init_state=init_state,\n",
    "            play_pulses=play_pulses, # [2, 1, 4, 3]\n",
    "            cool_qubits=cool_qubits,\n",
    "            sync_between_swaps=sync_between_swaps,\n",
    "            sync_between_efs=sync_between_efs,\n",
    "            \n",
    "            use_IQ_pulse=use_IQ_pulse, # state transfer IQ pulses for the state prep\n",
    "            use_robust_pulses=use_robust_pulses, # use robust pulses for state prep + tomo\n",
    "            plot_IQ=False,\n",
    "            \n",
    "            readout_cool=readout_cool,\n",
    "            n_init_readout=1,\n",
    "            n_trig=1,\n",
    "            init_read_wait_us=10,\n",
    "            \n",
    "            full_mux_expt=full_mux_expt,\n",
    "            resonator_reset=resonator_reset,\n",
    "        )\n",
    "        if tomo_qubits == [0, 2, 3]:\n",
    "            qramExpt.cfg.device.readout.gain[1] = 1e-4\n",
    "        \n",
    "        try:\n",
    "            qramExpt.acquire(progress=True, debug=False)\n",
    "            success = True\n",
    "        except Exception:\n",
    "            print(\"Pyro traceback:\")\n",
    "            print(\"\".join(Pyro4.util.getPyroTraceback()))\n",
    "            \n",
    "        if save_data: saved_files.append(qramExpt.save_data())"
   ]
  },
  {
   "cell_type": "code",
   "execution_count": 293,
   "metadata": {},
   "outputs": [
    {
     "name": "stdout",
     "output_type": "stream",
     "text": [
      "init_states = ['|0>|0>', '|0>|1>', '|0>|0+1>', '|0>|0+i>', '|1>|0>', '|1>|1>', '|1>|0+1>', '|1>|0+i>', '|0+1>|0>', '|0+1>|1>', '|0+1>|0+1>', '|0+1>|0+i>', '|0+i>|0>', '|0+i>|1>', '|0+i>|0+1>', '|0+i>|0+i>']\n",
      "['S:\\\\QRAM\\\\qram_4QR2\\\\data\\\\data_241025\\\\00515_QramProtocol3QTomo.h5', 'S:\\\\QRAM\\\\qram_4QR2\\\\data\\\\data_241025\\\\00516_QramProtocol3QTomo.h5', 'S:\\\\QRAM\\\\qram_4QR2\\\\data\\\\data_241025\\\\00517_QramProtocol3QTomo.h5', 'S:\\\\QRAM\\\\qram_4QR2\\\\data\\\\data_241025\\\\00518_QramProtocol3QTomo.h5', 'S:\\\\QRAM\\\\qram_4QR2\\\\data\\\\data_241025\\\\00519_QramProtocol3QTomo.h5', 'S:\\\\QRAM\\\\qram_4QR2\\\\data\\\\data_241025\\\\00520_QramProtocol3QTomo.h5', 'S:\\\\QRAM\\\\qram_4QR2\\\\data\\\\data_241025\\\\00521_QramProtocol3QTomo.h5', 'S:\\\\QRAM\\\\qram_4QR2\\\\data\\\\data_241025\\\\00522_QramProtocol3QTomo.h5', 'S:\\\\QRAM\\\\qram_4QR2\\\\data\\\\data_241025\\\\00523_QramProtocol3QTomo.h5', 'S:\\\\QRAM\\\\qram_4QR2\\\\data\\\\data_241025\\\\00524_QramProtocol3QTomo.h5', 'S:\\\\QRAM\\\\qram_4QR2\\\\data\\\\data_241025\\\\00525_QramProtocol3QTomo.h5', 'S:\\\\QRAM\\\\qram_4QR2\\\\data\\\\data_241025\\\\00526_QramProtocol3QTomo.h5', 'S:\\\\QRAM\\\\qram_4QR2\\\\data\\\\data_241025\\\\00527_QramProtocol3QTomo.h5', 'S:\\\\QRAM\\\\qram_4QR2\\\\data\\\\data_241025\\\\00528_QramProtocol3QTomo.h5', 'S:\\\\QRAM\\\\qram_4QR2\\\\data\\\\data_241025\\\\00529_QramProtocol3QTomo.h5', 'S:\\\\QRAM\\\\qram_4QR2\\\\data\\\\data_241025\\\\00530_QramProtocol3QTomo.h5', 'S:\\\\QRAM\\\\qram_4QR2\\\\data\\\\data_241025\\\\00531_QramProtocol3QTomo.h5', 'S:\\\\QRAM\\\\qram_4QR2\\\\data\\\\data_241025\\\\00532_QramProtocol3QTomo.h5', 'S:\\\\QRAM\\\\qram_4QR2\\\\data\\\\data_241025\\\\00533_QramProtocol3QTomo.h5', 'S:\\\\QRAM\\\\qram_4QR2\\\\data\\\\data_241025\\\\00534_QramProtocol3QTomo.h5', 'S:\\\\QRAM\\\\qram_4QR2\\\\data\\\\data_241025\\\\00535_QramProtocol3QTomo.h5', 'S:\\\\QRAM\\\\qram_4QR2\\\\data\\\\data_241025\\\\00536_QramProtocol3QTomo.h5', 'S:\\\\QRAM\\\\qram_4QR2\\\\data\\\\data_241025\\\\00537_QramProtocol3QTomo.h5', 'S:\\\\QRAM\\\\qram_4QR2\\\\data\\\\data_241025\\\\00538_QramProtocol3QTomo.h5', 'S:\\\\QRAM\\\\qram_4QR2\\\\data\\\\data_241025\\\\00539_QramProtocol3QTomo.h5', 'S:\\\\QRAM\\\\qram_4QR2\\\\data\\\\data_241025\\\\00540_QramProtocol3QTomo.h5', 'S:\\\\QRAM\\\\qram_4QR2\\\\data\\\\data_241025\\\\00541_QramProtocol3QTomo.h5', 'S:\\\\QRAM\\\\qram_4QR2\\\\data\\\\data_241025\\\\00542_QramProtocol3QTomo.h5', 'S:\\\\QRAM\\\\qram_4QR2\\\\data\\\\data_241025\\\\00543_QramProtocol3QTomo.h5', 'S:\\\\QRAM\\\\qram_4QR2\\\\data\\\\data_241025\\\\00544_QramProtocol3QTomo.h5', 'S:\\\\QRAM\\\\qram_4QR2\\\\data\\\\data_241025\\\\00545_QramProtocol3QTomo.h5', 'S:\\\\QRAM\\\\qram_4QR2\\\\data\\\\data_241025\\\\00546_QramProtocol3QTomo.h5', 'S:\\\\QRAM\\\\qram_4QR2\\\\data\\\\data_241025\\\\00547_QramProtocol3QTomo.h5', 'S:\\\\QRAM\\\\qram_4QR2\\\\data\\\\data_241025\\\\00548_QramProtocol3QTomo.h5', 'S:\\\\QRAM\\\\qram_4QR2\\\\data\\\\data_241025\\\\00549_QramProtocol3QTomo.h5', 'S:\\\\QRAM\\\\qram_4QR2\\\\data\\\\data_241025\\\\00550_QramProtocol3QTomo.h5', 'S:\\\\QRAM\\\\qram_4QR2\\\\data\\\\data_241025\\\\00551_QramProtocol3QTomo.h5', 'S:\\\\QRAM\\\\qram_4QR2\\\\data\\\\data_241025\\\\00552_QramProtocol3QTomo.h5', 'S:\\\\QRAM\\\\qram_4QR2\\\\data\\\\data_241025\\\\00553_QramProtocol3QTomo.h5', 'S:\\\\QRAM\\\\qram_4QR2\\\\data\\\\data_241025\\\\00554_QramProtocol3QTomo.h5', 'S:\\\\QRAM\\\\qram_4QR2\\\\data\\\\data_241025\\\\00555_QramProtocol3QTomo.h5', 'S:\\\\QRAM\\\\qram_4QR2\\\\data\\\\data_241025\\\\00556_QramProtocol3QTomo.h5', 'S:\\\\QRAM\\\\qram_4QR2\\\\data\\\\data_241025\\\\00557_QramProtocol3QTomo.h5', 'S:\\\\QRAM\\\\qram_4QR2\\\\data\\\\data_241025\\\\00558_QramProtocol3QTomo.h5', 'S:\\\\QRAM\\\\qram_4QR2\\\\data\\\\data_241025\\\\00559_QramProtocol3QTomo.h5', 'S:\\\\QRAM\\\\qram_4QR2\\\\data\\\\data_241025\\\\00560_QramProtocol3QTomo.h5', 'S:\\\\QRAM\\\\qram_4QR2\\\\data\\\\data_241025\\\\00561_QramProtocol3QTomo.h5', 'S:\\\\QRAM\\\\qram_4QR2\\\\data\\\\data_241025\\\\00562_QramProtocol3QTomo.h5', 'S:\\\\QRAM\\\\qram_4QR2\\\\data\\\\data_241025\\\\00563_QramProtocol3QTomo.h5', 'S:\\\\QRAM\\\\qram_4QR2\\\\data\\\\data_241025\\\\00564_QramProtocol3QTomo.h5', 'S:\\\\QRAM\\\\qram_4QR2\\\\data\\\\data_241025\\\\00565_QramProtocol3QTomo.h5', 'S:\\\\QRAM\\\\qram_4QR2\\\\data\\\\data_241025\\\\00566_QramProtocol3QTomo.h5', 'S:\\\\QRAM\\\\qram_4QR2\\\\data\\\\data_241025\\\\00567_QramProtocol3QTomo.h5', 'S:\\\\QRAM\\\\qram_4QR2\\\\data\\\\data_241025\\\\00568_QramProtocol3QTomo.h5', 'S:\\\\QRAM\\\\qram_4QR2\\\\data\\\\data_241025\\\\00569_QramProtocol3QTomo.h5', 'S:\\\\QRAM\\\\qram_4QR2\\\\data\\\\data_241025\\\\00570_QramProtocol3QTomo.h5', 'S:\\\\QRAM\\\\qram_4QR2\\\\data\\\\data_241025\\\\00571_QramProtocol3QTomo.h5', 'S:\\\\QRAM\\\\qram_4QR2\\\\data\\\\data_241025\\\\00572_QramProtocol3QTomo.h5', 'S:\\\\QRAM\\\\qram_4QR2\\\\data\\\\data_241025\\\\00573_QramProtocol3QTomo.h5', 'S:\\\\QRAM\\\\qram_4QR2\\\\data\\\\data_241025\\\\00574_QramProtocol3QTomo.h5', 'S:\\\\QRAM\\\\qram_4QR2\\\\data\\\\data_241025\\\\00575_QramProtocol3QTomo.h5', 'S:\\\\QRAM\\\\qram_4QR2\\\\data\\\\data_241025\\\\00576_QramProtocol3QTomo.h5', 'S:\\\\QRAM\\\\qram_4QR2\\\\data\\\\data_241025\\\\00577_QramProtocol3QTomo.h5', 'S:\\\\QRAM\\\\qram_4QR2\\\\data\\\\data_241025\\\\00578_QramProtocol3QTomo.h5', 'S:\\\\QRAM\\\\qram_4QR2\\\\data\\\\data_241025\\\\00579_QramProtocol3QTomo.h5', 'S:\\\\QRAM\\\\qram_4QR2\\\\data\\\\data_241025\\\\00580_QramProtocol3QTomo.h5', 'S:\\\\QRAM\\\\qram_4QR2\\\\data\\\\data_241025\\\\00581_QramProtocol3QTomo.h5', 'S:\\\\QRAM\\\\qram_4QR2\\\\data\\\\data_241025\\\\00582_QramProtocol3QTomo.h5', 'S:\\\\QRAM\\\\qram_4QR2\\\\data\\\\data_241025\\\\00583_QramProtocol3QTomo.h5', 'S:\\\\QRAM\\\\qram_4QR2\\\\data\\\\data_241025\\\\00584_QramProtocol3QTomo.h5', 'S:\\\\QRAM\\\\qram_4QR2\\\\data\\\\data_241025\\\\00585_QramProtocol3QTomo.h5', 'S:\\\\QRAM\\\\qram_4QR2\\\\data\\\\data_241025\\\\00586_QramProtocol3QTomo.h5', 'S:\\\\QRAM\\\\qram_4QR2\\\\data\\\\data_241025\\\\00587_QramProtocol3QTomo.h5', 'S:\\\\QRAM\\\\qram_4QR2\\\\data\\\\data_241025\\\\00588_QramProtocol3QTomo.h5', 'S:\\\\QRAM\\\\qram_4QR2\\\\data\\\\data_241025\\\\00589_QramProtocol3QTomo.h5', 'S:\\\\QRAM\\\\qram_4QR2\\\\data\\\\data_241025\\\\00590_QramProtocol3QTomo.h5', 'S:\\\\QRAM\\\\qram_4QR2\\\\data\\\\data_241025\\\\00591_QramProtocol3QTomo.h5', 'S:\\\\QRAM\\\\qram_4QR2\\\\data\\\\data_241025\\\\00592_QramProtocol3QTomo.h5', 'S:\\\\QRAM\\\\qram_4QR2\\\\data\\\\data_241025\\\\00593_QramProtocol3QTomo.h5', 'S:\\\\QRAM\\\\qram_4QR2\\\\data\\\\data_241025\\\\00594_QramProtocol3QTomo.h5']\n"
     ]
    }
   ],
   "source": [
    "print('init_states =', init_states)\n",
    "print(saved_files)"
   ]
  },
  {
   "cell_type": "markdown",
   "metadata": {},
   "source": [
    "#### Retrieve saved files and put all the n_tomo_corrected into a more easily accessible file"
   ]
  },
  {
   "cell_type": "code",
   "execution_count": 294,
   "metadata": {
    "collapsed": true,
    "jupyter": {
     "outputs_hidden": true
    },
    "tags": []
   },
   "outputs": [
    {
     "name": "stderr",
     "output_type": "stream",
     "text": [
      "TqdmDeprecationWarning: This function will be removed in tqdm==5.0.0\n",
      "Please use `tqdm.notebook.tqdm` instead of `tqdm.tqdm_notebook`\n",
      " C:\\Users\\slab\\AppData\\Local\\Temp\\ipykernel_10520\\2863891231.py: 3"
     ]
    },
    {
     "data": {
      "application/vnd.jupyter.widget-view+json": {
       "model_id": "85ecd018df8b4ab9914932c1c0e3c12a",
       "version_major": 2,
       "version_minor": 0
      },
      "text/plain": [
       "  0%|          | 0/80 [00:00<?, ?it/s]"
      ]
     },
     "metadata": {},
     "output_type": "display_data"
    },
    {
     "name": "stdout",
     "output_type": "stream",
     "text": [
      "S:\\QRAM\\qram_4QR2\\data\\data_241025\\00515_QramProtocol3QTomo.h5\n",
      "S:\\QRAM\\qram_4QR2\\data\\data_241025\\00515_QramProtocol3QTomo.h5\n"
     ]
    },
    {
     "name": "stderr",
     "output_type": "stream",
     "text": [
      "DeprecationWarning: `product` is deprecated as of NumPy 1.25.0, and will be removed in NumPy 2.0. Please use `prod` instead.\n",
      " C:\\Users\\slab\\AppData\\Local\\Temp\\ipykernel_10520\\809401443.py: 13"
     ]
    },
    {
     "name": "stdout",
     "output_type": "stream",
     "text": [
      "Extracted data and attrs ['calib_order', 'config', 'meas_order', 'pulse_dict']\n",
      "init state Q0 (switch) Q1 (input): |0>|0>\n",
      "S:\\QRAM\\qram_4QR2\\data\\data_241025\\00516_QramProtocol3QTomo.h5\n",
      "S:\\QRAM\\qram_4QR2\\data\\data_241025\\00516_QramProtocol3QTomo.h5\n",
      "Extracted data and attrs ['calib_order', 'config', 'meas_order', 'pulse_dict']\n",
      "init state Q0 (switch) Q1 (input): |0>|1>\n",
      "S:\\QRAM\\qram_4QR2\\data\\data_241025\\00517_QramProtocol3QTomo.h5\n",
      "S:\\QRAM\\qram_4QR2\\data\\data_241025\\00517_QramProtocol3QTomo.h5\n",
      "Extracted data and attrs ['calib_order', 'config', 'meas_order', 'pulse_dict']\n",
      "init state Q0 (switch) Q1 (input): |0>|0+1>\n",
      "S:\\QRAM\\qram_4QR2\\data\\data_241025\\00518_QramProtocol3QTomo.h5\n",
      "S:\\QRAM\\qram_4QR2\\data\\data_241025\\00518_QramProtocol3QTomo.h5\n",
      "Extracted data and attrs ['calib_order', 'config', 'meas_order', 'pulse_dict']\n",
      "init state Q0 (switch) Q1 (input): |0>|0+i>\n",
      "S:\\QRAM\\qram_4QR2\\data\\data_241025\\00519_QramProtocol3QTomo.h5\n",
      "S:\\QRAM\\qram_4QR2\\data\\data_241025\\00519_QramProtocol3QTomo.h5\n",
      "Extracted data and attrs ['calib_order', 'config', 'meas_order', 'pulse_dict']\n",
      "init state Q0 (switch) Q1 (input): |1>|0>\n",
      "S:\\QRAM\\qram_4QR2\\data\\data_241025\\00520_QramProtocol3QTomo.h5\n",
      "S:\\QRAM\\qram_4QR2\\data\\data_241025\\00520_QramProtocol3QTomo.h5\n",
      "Extracted data and attrs ['calib_order', 'config', 'meas_order', 'pulse_dict']\n",
      "init state Q0 (switch) Q1 (input): |1>|1>\n",
      "S:\\QRAM\\qram_4QR2\\data\\data_241025\\00521_QramProtocol3QTomo.h5\n",
      "S:\\QRAM\\qram_4QR2\\data\\data_241025\\00521_QramProtocol3QTomo.h5\n",
      "Extracted data and attrs ['calib_order', 'config', 'meas_order', 'pulse_dict']\n",
      "init state Q0 (switch) Q1 (input): |1>|0+1>\n",
      "S:\\QRAM\\qram_4QR2\\data\\data_241025\\00522_QramProtocol3QTomo.h5\n",
      "S:\\QRAM\\qram_4QR2\\data\\data_241025\\00522_QramProtocol3QTomo.h5\n",
      "Extracted data and attrs ['calib_order', 'config', 'meas_order', 'pulse_dict']\n",
      "init state Q0 (switch) Q1 (input): |1>|0+i>\n",
      "S:\\QRAM\\qram_4QR2\\data\\data_241025\\00523_QramProtocol3QTomo.h5\n",
      "S:\\QRAM\\qram_4QR2\\data\\data_241025\\00523_QramProtocol3QTomo.h5\n",
      "Extracted data and attrs ['calib_order', 'config', 'meas_order', 'pulse_dict']\n",
      "init state Q0 (switch) Q1 (input): |0+1>|0>\n",
      "S:\\QRAM\\qram_4QR2\\data\\data_241025\\00524_QramProtocol3QTomo.h5\n",
      "S:\\QRAM\\qram_4QR2\\data\\data_241025\\00524_QramProtocol3QTomo.h5\n",
      "Extracted data and attrs ['calib_order', 'config', 'meas_order', 'pulse_dict']\n",
      "init state Q0 (switch) Q1 (input): |0+1>|1>\n",
      "S:\\QRAM\\qram_4QR2\\data\\data_241025\\00525_QramProtocol3QTomo.h5\n",
      "S:\\QRAM\\qram_4QR2\\data\\data_241025\\00525_QramProtocol3QTomo.h5\n",
      "Extracted data and attrs ['calib_order', 'config', 'meas_order', 'pulse_dict']\n",
      "init state Q0 (switch) Q1 (input): |0+1>|0+1>\n",
      "S:\\QRAM\\qram_4QR2\\data\\data_241025\\00526_QramProtocol3QTomo.h5\n",
      "S:\\QRAM\\qram_4QR2\\data\\data_241025\\00526_QramProtocol3QTomo.h5\n",
      "Extracted data and attrs ['calib_order', 'config', 'meas_order', 'pulse_dict']\n",
      "init state Q0 (switch) Q1 (input): |0+1>|0+i>\n",
      "S:\\QRAM\\qram_4QR2\\data\\data_241025\\00527_QramProtocol3QTomo.h5\n",
      "S:\\QRAM\\qram_4QR2\\data\\data_241025\\00527_QramProtocol3QTomo.h5\n",
      "Extracted data and attrs ['calib_order', 'config', 'meas_order', 'pulse_dict']\n",
      "init state Q0 (switch) Q1 (input): |0+i>|0>\n",
      "S:\\QRAM\\qram_4QR2\\data\\data_241025\\00528_QramProtocol3QTomo.h5\n",
      "S:\\QRAM\\qram_4QR2\\data\\data_241025\\00528_QramProtocol3QTomo.h5\n",
      "Extracted data and attrs ['calib_order', 'config', 'meas_order', 'pulse_dict']\n",
      "init state Q0 (switch) Q1 (input): |0+i>|1>\n",
      "S:\\QRAM\\qram_4QR2\\data\\data_241025\\00529_QramProtocol3QTomo.h5\n",
      "S:\\QRAM\\qram_4QR2\\data\\data_241025\\00529_QramProtocol3QTomo.h5\n",
      "Extracted data and attrs ['calib_order', 'config', 'meas_order', 'pulse_dict']\n",
      "init state Q0 (switch) Q1 (input): |0+i>|0+1>\n",
      "S:\\QRAM\\qram_4QR2\\data\\data_241025\\00530_QramProtocol3QTomo.h5\n",
      "S:\\QRAM\\qram_4QR2\\data\\data_241025\\00530_QramProtocol3QTomo.h5\n",
      "Extracted data and attrs ['calib_order', 'config', 'meas_order', 'pulse_dict']\n",
      "init state Q0 (switch) Q1 (input): |0+i>|0+i>\n",
      "S:\\QRAM\\qram_4QR2\\data\\data_241025\\00531_QramProtocol3QTomo.h5\n",
      "S:\\QRAM\\qram_4QR2\\data\\data_241025\\00531_QramProtocol3QTomo.h5\n",
      "Extracted data and attrs ['calib_order', 'config', 'meas_order', 'pulse_dict']\n",
      "init state Q0 (switch) Q1 (input): |0>|0>\n",
      "S:\\QRAM\\qram_4QR2\\data\\data_241025\\00532_QramProtocol3QTomo.h5\n",
      "S:\\QRAM\\qram_4QR2\\data\\data_241025\\00532_QramProtocol3QTomo.h5\n",
      "Extracted data and attrs ['calib_order', 'config', 'meas_order', 'pulse_dict']\n",
      "init state Q0 (switch) Q1 (input): |0>|1>\n",
      "S:\\QRAM\\qram_4QR2\\data\\data_241025\\00533_QramProtocol3QTomo.h5\n",
      "S:\\QRAM\\qram_4QR2\\data\\data_241025\\00533_QramProtocol3QTomo.h5\n",
      "Extracted data and attrs ['calib_order', 'config', 'meas_order', 'pulse_dict']\n",
      "init state Q0 (switch) Q1 (input): |0>|0+1>\n",
      "S:\\QRAM\\qram_4QR2\\data\\data_241025\\00534_QramProtocol3QTomo.h5\n",
      "S:\\QRAM\\qram_4QR2\\data\\data_241025\\00534_QramProtocol3QTomo.h5\n",
      "Extracted data and attrs ['calib_order', 'config', 'meas_order', 'pulse_dict']\n",
      "init state Q0 (switch) Q1 (input): |0>|0+i>\n",
      "S:\\QRAM\\qram_4QR2\\data\\data_241025\\00535_QramProtocol3QTomo.h5\n",
      "S:\\QRAM\\qram_4QR2\\data\\data_241025\\00535_QramProtocol3QTomo.h5\n",
      "Extracted data and attrs ['calib_order', 'config', 'meas_order', 'pulse_dict']\n",
      "init state Q0 (switch) Q1 (input): |1>|0>\n",
      "S:\\QRAM\\qram_4QR2\\data\\data_241025\\00536_QramProtocol3QTomo.h5\n",
      "S:\\QRAM\\qram_4QR2\\data\\data_241025\\00536_QramProtocol3QTomo.h5\n",
      "Extracted data and attrs ['calib_order', 'config', 'meas_order', 'pulse_dict']\n",
      "init state Q0 (switch) Q1 (input): |1>|1>\n",
      "S:\\QRAM\\qram_4QR2\\data\\data_241025\\00537_QramProtocol3QTomo.h5\n",
      "S:\\QRAM\\qram_4QR2\\data\\data_241025\\00537_QramProtocol3QTomo.h5\n",
      "Extracted data and attrs ['calib_order', 'config', 'meas_order', 'pulse_dict']\n",
      "init state Q0 (switch) Q1 (input): |1>|0+1>\n",
      "S:\\QRAM\\qram_4QR2\\data\\data_241025\\00538_QramProtocol3QTomo.h5\n",
      "S:\\QRAM\\qram_4QR2\\data\\data_241025\\00538_QramProtocol3QTomo.h5\n",
      "Extracted data and attrs ['calib_order', 'config', 'meas_order', 'pulse_dict']\n",
      "init state Q0 (switch) Q1 (input): |1>|0+i>\n",
      "S:\\QRAM\\qram_4QR2\\data\\data_241025\\00539_QramProtocol3QTomo.h5\n",
      "S:\\QRAM\\qram_4QR2\\data\\data_241025\\00539_QramProtocol3QTomo.h5\n",
      "Extracted data and attrs ['calib_order', 'config', 'meas_order', 'pulse_dict']\n",
      "init state Q0 (switch) Q1 (input): |0+1>|0>\n",
      "S:\\QRAM\\qram_4QR2\\data\\data_241025\\00540_QramProtocol3QTomo.h5\n",
      "S:\\QRAM\\qram_4QR2\\data\\data_241025\\00540_QramProtocol3QTomo.h5\n",
      "Extracted data and attrs ['calib_order', 'config', 'meas_order', 'pulse_dict']\n",
      "init state Q0 (switch) Q1 (input): |0+1>|1>\n",
      "S:\\QRAM\\qram_4QR2\\data\\data_241025\\00541_QramProtocol3QTomo.h5\n",
      "S:\\QRAM\\qram_4QR2\\data\\data_241025\\00541_QramProtocol3QTomo.h5\n",
      "Extracted data and attrs ['calib_order', 'config', 'meas_order', 'pulse_dict']\n",
      "init state Q0 (switch) Q1 (input): |0+1>|0+1>\n",
      "S:\\QRAM\\qram_4QR2\\data\\data_241025\\00542_QramProtocol3QTomo.h5\n",
      "S:\\QRAM\\qram_4QR2\\data\\data_241025\\00542_QramProtocol3QTomo.h5\n",
      "Extracted data and attrs ['calib_order', 'config', 'meas_order', 'pulse_dict']\n",
      "init state Q0 (switch) Q1 (input): |0+1>|0+i>\n",
      "S:\\QRAM\\qram_4QR2\\data\\data_241025\\00543_QramProtocol3QTomo.h5\n",
      "S:\\QRAM\\qram_4QR2\\data\\data_241025\\00543_QramProtocol3QTomo.h5\n",
      "Extracted data and attrs ['calib_order', 'config', 'meas_order', 'pulse_dict']\n",
      "init state Q0 (switch) Q1 (input): |0+i>|0>\n",
      "S:\\QRAM\\qram_4QR2\\data\\data_241025\\00544_QramProtocol3QTomo.h5\n",
      "S:\\QRAM\\qram_4QR2\\data\\data_241025\\00544_QramProtocol3QTomo.h5\n",
      "Extracted data and attrs ['calib_order', 'config', 'meas_order', 'pulse_dict']\n",
      "init state Q0 (switch) Q1 (input): |0+i>|1>\n",
      "S:\\QRAM\\qram_4QR2\\data\\data_241025\\00545_QramProtocol3QTomo.h5\n",
      "S:\\QRAM\\qram_4QR2\\data\\data_241025\\00545_QramProtocol3QTomo.h5\n",
      "Extracted data and attrs ['calib_order', 'config', 'meas_order', 'pulse_dict']\n",
      "init state Q0 (switch) Q1 (input): |0+i>|0+1>\n",
      "S:\\QRAM\\qram_4QR2\\data\\data_241025\\00546_QramProtocol3QTomo.h5\n",
      "S:\\QRAM\\qram_4QR2\\data\\data_241025\\00546_QramProtocol3QTomo.h5\n",
      "Extracted data and attrs ['calib_order', 'config', 'meas_order', 'pulse_dict']\n",
      "init state Q0 (switch) Q1 (input): |0+i>|0+i>\n",
      "S:\\QRAM\\qram_4QR2\\data\\data_241025\\00547_QramProtocol3QTomo.h5\n",
      "S:\\QRAM\\qram_4QR2\\data\\data_241025\\00547_QramProtocol3QTomo.h5\n",
      "Extracted data and attrs ['calib_order', 'config', 'meas_order', 'pulse_dict']\n",
      "init state Q0 (switch) Q1 (input): |0>|0>\n",
      "S:\\QRAM\\qram_4QR2\\data\\data_241025\\00548_QramProtocol3QTomo.h5\n",
      "S:\\QRAM\\qram_4QR2\\data\\data_241025\\00548_QramProtocol3QTomo.h5\n",
      "Extracted data and attrs ['calib_order', 'config', 'meas_order', 'pulse_dict']\n",
      "init state Q0 (switch) Q1 (input): |0>|1>\n",
      "S:\\QRAM\\qram_4QR2\\data\\data_241025\\00549_QramProtocol3QTomo.h5\n",
      "S:\\QRAM\\qram_4QR2\\data\\data_241025\\00549_QramProtocol3QTomo.h5\n",
      "Extracted data and attrs ['calib_order', 'config', 'meas_order', 'pulse_dict']\n",
      "init state Q0 (switch) Q1 (input): |0>|0+1>\n",
      "S:\\QRAM\\qram_4QR2\\data\\data_241025\\00550_QramProtocol3QTomo.h5\n",
      "S:\\QRAM\\qram_4QR2\\data\\data_241025\\00550_QramProtocol3QTomo.h5\n",
      "Extracted data and attrs ['calib_order', 'config', 'meas_order', 'pulse_dict']\n",
      "init state Q0 (switch) Q1 (input): |0>|0+i>\n",
      "S:\\QRAM\\qram_4QR2\\data\\data_241025\\00551_QramProtocol3QTomo.h5\n",
      "S:\\QRAM\\qram_4QR2\\data\\data_241025\\00551_QramProtocol3QTomo.h5\n",
      "Extracted data and attrs ['calib_order', 'config', 'meas_order', 'pulse_dict']\n",
      "init state Q0 (switch) Q1 (input): |1>|0>\n",
      "S:\\QRAM\\qram_4QR2\\data\\data_241025\\00552_QramProtocol3QTomo.h5\n",
      "S:\\QRAM\\qram_4QR2\\data\\data_241025\\00552_QramProtocol3QTomo.h5\n",
      "Extracted data and attrs ['calib_order', 'config', 'meas_order', 'pulse_dict']\n",
      "init state Q0 (switch) Q1 (input): |1>|1>\n",
      "S:\\QRAM\\qram_4QR2\\data\\data_241025\\00553_QramProtocol3QTomo.h5\n",
      "S:\\QRAM\\qram_4QR2\\data\\data_241025\\00553_QramProtocol3QTomo.h5\n",
      "Extracted data and attrs ['calib_order', 'config', 'meas_order', 'pulse_dict']\n",
      "init state Q0 (switch) Q1 (input): |1>|0+1>\n",
      "S:\\QRAM\\qram_4QR2\\data\\data_241025\\00554_QramProtocol3QTomo.h5\n",
      "S:\\QRAM\\qram_4QR2\\data\\data_241025\\00554_QramProtocol3QTomo.h5\n",
      "Extracted data and attrs ['calib_order', 'config', 'meas_order', 'pulse_dict']\n",
      "init state Q0 (switch) Q1 (input): |1>|0+i>\n",
      "S:\\QRAM\\qram_4QR2\\data\\data_241025\\00555_QramProtocol3QTomo.h5\n",
      "S:\\QRAM\\qram_4QR2\\data\\data_241025\\00555_QramProtocol3QTomo.h5\n",
      "Extracted data and attrs ['calib_order', 'config', 'meas_order', 'pulse_dict']\n",
      "init state Q0 (switch) Q1 (input): |0+1>|0>\n",
      "S:\\QRAM\\qram_4QR2\\data\\data_241025\\00556_QramProtocol3QTomo.h5\n",
      "S:\\QRAM\\qram_4QR2\\data\\data_241025\\00556_QramProtocol3QTomo.h5\n",
      "Extracted data and attrs ['calib_order', 'config', 'meas_order', 'pulse_dict']\n",
      "init state Q0 (switch) Q1 (input): |0+1>|1>\n",
      "S:\\QRAM\\qram_4QR2\\data\\data_241025\\00557_QramProtocol3QTomo.h5\n",
      "S:\\QRAM\\qram_4QR2\\data\\data_241025\\00557_QramProtocol3QTomo.h5\n",
      "Extracted data and attrs ['calib_order', 'config', 'meas_order', 'pulse_dict']\n",
      "init state Q0 (switch) Q1 (input): |0+1>|0+1>\n",
      "S:\\QRAM\\qram_4QR2\\data\\data_241025\\00558_QramProtocol3QTomo.h5\n",
      "S:\\QRAM\\qram_4QR2\\data\\data_241025\\00558_QramProtocol3QTomo.h5\n",
      "Extracted data and attrs ['calib_order', 'config', 'meas_order', 'pulse_dict']\n",
      "init state Q0 (switch) Q1 (input): |0+1>|0+i>\n",
      "S:\\QRAM\\qram_4QR2\\data\\data_241025\\00559_QramProtocol3QTomo.h5\n",
      "S:\\QRAM\\qram_4QR2\\data\\data_241025\\00559_QramProtocol3QTomo.h5\n",
      "Extracted data and attrs ['calib_order', 'config', 'meas_order', 'pulse_dict']\n",
      "init state Q0 (switch) Q1 (input): |0+i>|0>\n",
      "S:\\QRAM\\qram_4QR2\\data\\data_241025\\00560_QramProtocol3QTomo.h5\n",
      "S:\\QRAM\\qram_4QR2\\data\\data_241025\\00560_QramProtocol3QTomo.h5\n",
      "Extracted data and attrs ['calib_order', 'config', 'meas_order', 'pulse_dict']\n",
      "init state Q0 (switch) Q1 (input): |0+i>|1>\n",
      "S:\\QRAM\\qram_4QR2\\data\\data_241025\\00561_QramProtocol3QTomo.h5\n",
      "S:\\QRAM\\qram_4QR2\\data\\data_241025\\00561_QramProtocol3QTomo.h5\n",
      "Extracted data and attrs ['calib_order', 'config', 'meas_order', 'pulse_dict']\n",
      "init state Q0 (switch) Q1 (input): |0+i>|0+1>\n",
      "S:\\QRAM\\qram_4QR2\\data\\data_241025\\00562_QramProtocol3QTomo.h5\n",
      "S:\\QRAM\\qram_4QR2\\data\\data_241025\\00562_QramProtocol3QTomo.h5\n",
      "Extracted data and attrs ['calib_order', 'config', 'meas_order', 'pulse_dict']\n",
      "init state Q0 (switch) Q1 (input): |0+i>|0+i>\n",
      "S:\\QRAM\\qram_4QR2\\data\\data_241025\\00563_QramProtocol3QTomo.h5\n",
      "S:\\QRAM\\qram_4QR2\\data\\data_241025\\00563_QramProtocol3QTomo.h5\n",
      "Extracted data and attrs ['calib_order', 'config', 'meas_order', 'pulse_dict']\n",
      "init state Q0 (switch) Q1 (input): |0>|0>\n",
      "S:\\QRAM\\qram_4QR2\\data\\data_241025\\00564_QramProtocol3QTomo.h5\n",
      "S:\\QRAM\\qram_4QR2\\data\\data_241025\\00564_QramProtocol3QTomo.h5\n",
      "Extracted data and attrs ['calib_order', 'config', 'meas_order', 'pulse_dict']\n",
      "init state Q0 (switch) Q1 (input): |0>|1>\n",
      "S:\\QRAM\\qram_4QR2\\data\\data_241025\\00565_QramProtocol3QTomo.h5\n",
      "S:\\QRAM\\qram_4QR2\\data\\data_241025\\00565_QramProtocol3QTomo.h5\n",
      "Extracted data and attrs ['calib_order', 'config', 'meas_order', 'pulse_dict']\n",
      "init state Q0 (switch) Q1 (input): |0>|0+1>\n",
      "S:\\QRAM\\qram_4QR2\\data\\data_241025\\00566_QramProtocol3QTomo.h5\n",
      "S:\\QRAM\\qram_4QR2\\data\\data_241025\\00566_QramProtocol3QTomo.h5\n",
      "Extracted data and attrs ['calib_order', 'config', 'meas_order', 'pulse_dict']\n",
      "init state Q0 (switch) Q1 (input): |0>|0+i>\n",
      "S:\\QRAM\\qram_4QR2\\data\\data_241025\\00567_QramProtocol3QTomo.h5\n",
      "S:\\QRAM\\qram_4QR2\\data\\data_241025\\00567_QramProtocol3QTomo.h5\n",
      "Extracted data and attrs ['calib_order', 'config', 'meas_order', 'pulse_dict']\n",
      "init state Q0 (switch) Q1 (input): |1>|0>\n",
      "S:\\QRAM\\qram_4QR2\\data\\data_241025\\00568_QramProtocol3QTomo.h5\n",
      "S:\\QRAM\\qram_4QR2\\data\\data_241025\\00568_QramProtocol3QTomo.h5\n",
      "Extracted data and attrs ['calib_order', 'config', 'meas_order', 'pulse_dict']\n",
      "init state Q0 (switch) Q1 (input): |1>|1>\n",
      "S:\\QRAM\\qram_4QR2\\data\\data_241025\\00569_QramProtocol3QTomo.h5\n",
      "S:\\QRAM\\qram_4QR2\\data\\data_241025\\00569_QramProtocol3QTomo.h5\n",
      "Extracted data and attrs ['calib_order', 'config', 'meas_order', 'pulse_dict']\n",
      "init state Q0 (switch) Q1 (input): |1>|0+1>\n",
      "S:\\QRAM\\qram_4QR2\\data\\data_241025\\00570_QramProtocol3QTomo.h5\n",
      "S:\\QRAM\\qram_4QR2\\data\\data_241025\\00570_QramProtocol3QTomo.h5\n",
      "Extracted data and attrs ['calib_order', 'config', 'meas_order', 'pulse_dict']\n",
      "init state Q0 (switch) Q1 (input): |1>|0+i>\n",
      "S:\\QRAM\\qram_4QR2\\data\\data_241025\\00571_QramProtocol3QTomo.h5\n",
      "S:\\QRAM\\qram_4QR2\\data\\data_241025\\00571_QramProtocol3QTomo.h5\n",
      "Extracted data and attrs ['calib_order', 'config', 'meas_order', 'pulse_dict']\n",
      "init state Q0 (switch) Q1 (input): |0+1>|0>\n",
      "S:\\QRAM\\qram_4QR2\\data\\data_241025\\00572_QramProtocol3QTomo.h5\n",
      "S:\\QRAM\\qram_4QR2\\data\\data_241025\\00572_QramProtocol3QTomo.h5\n",
      "Extracted data and attrs ['calib_order', 'config', 'meas_order', 'pulse_dict']\n",
      "init state Q0 (switch) Q1 (input): |0+1>|1>\n",
      "S:\\QRAM\\qram_4QR2\\data\\data_241025\\00573_QramProtocol3QTomo.h5\n",
      "S:\\QRAM\\qram_4QR2\\data\\data_241025\\00573_QramProtocol3QTomo.h5\n",
      "Extracted data and attrs ['calib_order', 'config', 'meas_order', 'pulse_dict']\n",
      "init state Q0 (switch) Q1 (input): |0+1>|0+1>\n",
      "S:\\QRAM\\qram_4QR2\\data\\data_241025\\00574_QramProtocol3QTomo.h5\n",
      "S:\\QRAM\\qram_4QR2\\data\\data_241025\\00574_QramProtocol3QTomo.h5\n",
      "Extracted data and attrs ['calib_order', 'config', 'meas_order', 'pulse_dict']\n",
      "init state Q0 (switch) Q1 (input): |0+1>|0+i>\n",
      "S:\\QRAM\\qram_4QR2\\data\\data_241025\\00575_QramProtocol3QTomo.h5\n",
      "S:\\QRAM\\qram_4QR2\\data\\data_241025\\00575_QramProtocol3QTomo.h5\n",
      "Extracted data and attrs ['calib_order', 'config', 'meas_order', 'pulse_dict']\n",
      "init state Q0 (switch) Q1 (input): |0+i>|0>\n",
      "S:\\QRAM\\qram_4QR2\\data\\data_241025\\00576_QramProtocol3QTomo.h5\n",
      "S:\\QRAM\\qram_4QR2\\data\\data_241025\\00576_QramProtocol3QTomo.h5\n",
      "Extracted data and attrs ['calib_order', 'config', 'meas_order', 'pulse_dict']\n",
      "init state Q0 (switch) Q1 (input): |0+i>|1>\n",
      "S:\\QRAM\\qram_4QR2\\data\\data_241025\\00577_QramProtocol3QTomo.h5\n",
      "S:\\QRAM\\qram_4QR2\\data\\data_241025\\00577_QramProtocol3QTomo.h5\n",
      "Extracted data and attrs ['calib_order', 'config', 'meas_order', 'pulse_dict']\n",
      "init state Q0 (switch) Q1 (input): |0+i>|0+1>\n",
      "S:\\QRAM\\qram_4QR2\\data\\data_241025\\00578_QramProtocol3QTomo.h5\n",
      "S:\\QRAM\\qram_4QR2\\data\\data_241025\\00578_QramProtocol3QTomo.h5\n",
      "Extracted data and attrs ['calib_order', 'config', 'meas_order', 'pulse_dict']\n",
      "init state Q0 (switch) Q1 (input): |0+i>|0+i>\n",
      "S:\\QRAM\\qram_4QR2\\data\\data_241025\\00579_QramProtocol3QTomo.h5\n",
      "S:\\QRAM\\qram_4QR2\\data\\data_241025\\00579_QramProtocol3QTomo.h5\n",
      "Extracted data and attrs ['calib_order', 'config', 'meas_order', 'pulse_dict']\n",
      "init state Q0 (switch) Q1 (input): |0>|0>\n",
      "S:\\QRAM\\qram_4QR2\\data\\data_241025\\00580_QramProtocol3QTomo.h5\n",
      "S:\\QRAM\\qram_4QR2\\data\\data_241025\\00580_QramProtocol3QTomo.h5\n",
      "Extracted data and attrs ['calib_order', 'config', 'meas_order', 'pulse_dict']\n",
      "init state Q0 (switch) Q1 (input): |0>|1>\n",
      "S:\\QRAM\\qram_4QR2\\data\\data_241025\\00581_QramProtocol3QTomo.h5\n",
      "S:\\QRAM\\qram_4QR2\\data\\data_241025\\00581_QramProtocol3QTomo.h5\n",
      "Extracted data and attrs ['calib_order', 'config', 'meas_order', 'pulse_dict']\n",
      "init state Q0 (switch) Q1 (input): |0>|0+1>\n",
      "S:\\QRAM\\qram_4QR2\\data\\data_241025\\00582_QramProtocol3QTomo.h5\n",
      "S:\\QRAM\\qram_4QR2\\data\\data_241025\\00582_QramProtocol3QTomo.h5\n",
      "Extracted data and attrs ['calib_order', 'config', 'meas_order', 'pulse_dict']\n",
      "init state Q0 (switch) Q1 (input): |0>|0+i>\n",
      "S:\\QRAM\\qram_4QR2\\data\\data_241025\\00583_QramProtocol3QTomo.h5\n",
      "S:\\QRAM\\qram_4QR2\\data\\data_241025\\00583_QramProtocol3QTomo.h5\n",
      "Extracted data and attrs ['calib_order', 'config', 'meas_order', 'pulse_dict']\n",
      "init state Q0 (switch) Q1 (input): |1>|0>\n",
      "S:\\QRAM\\qram_4QR2\\data\\data_241025\\00584_QramProtocol3QTomo.h5\n",
      "S:\\QRAM\\qram_4QR2\\data\\data_241025\\00584_QramProtocol3QTomo.h5\n",
      "Extracted data and attrs ['calib_order', 'config', 'meas_order', 'pulse_dict']\n",
      "init state Q0 (switch) Q1 (input): |1>|1>\n",
      "S:\\QRAM\\qram_4QR2\\data\\data_241025\\00585_QramProtocol3QTomo.h5\n",
      "S:\\QRAM\\qram_4QR2\\data\\data_241025\\00585_QramProtocol3QTomo.h5\n",
      "Extracted data and attrs ['calib_order', 'config', 'meas_order', 'pulse_dict']\n",
      "init state Q0 (switch) Q1 (input): |1>|0+1>\n",
      "S:\\QRAM\\qram_4QR2\\data\\data_241025\\00586_QramProtocol3QTomo.h5\n",
      "S:\\QRAM\\qram_4QR2\\data\\data_241025\\00586_QramProtocol3QTomo.h5\n",
      "Extracted data and attrs ['calib_order', 'config', 'meas_order', 'pulse_dict']\n",
      "init state Q0 (switch) Q1 (input): |1>|0+i>\n",
      "S:\\QRAM\\qram_4QR2\\data\\data_241025\\00587_QramProtocol3QTomo.h5\n",
      "S:\\QRAM\\qram_4QR2\\data\\data_241025\\00587_QramProtocol3QTomo.h5\n",
      "Extracted data and attrs ['calib_order', 'config', 'meas_order', 'pulse_dict']\n",
      "init state Q0 (switch) Q1 (input): |0+1>|0>\n",
      "S:\\QRAM\\qram_4QR2\\data\\data_241025\\00588_QramProtocol3QTomo.h5\n",
      "S:\\QRAM\\qram_4QR2\\data\\data_241025\\00588_QramProtocol3QTomo.h5\n",
      "Extracted data and attrs ['calib_order', 'config', 'meas_order', 'pulse_dict']\n",
      "init state Q0 (switch) Q1 (input): |0+1>|1>\n",
      "S:\\QRAM\\qram_4QR2\\data\\data_241025\\00589_QramProtocol3QTomo.h5\n",
      "S:\\QRAM\\qram_4QR2\\data\\data_241025\\00589_QramProtocol3QTomo.h5\n",
      "Extracted data and attrs ['calib_order', 'config', 'meas_order', 'pulse_dict']\n",
      "init state Q0 (switch) Q1 (input): |0+1>|0+1>\n",
      "S:\\QRAM\\qram_4QR2\\data\\data_241025\\00590_QramProtocol3QTomo.h5\n",
      "S:\\QRAM\\qram_4QR2\\data\\data_241025\\00590_QramProtocol3QTomo.h5\n",
      "Extracted data and attrs ['calib_order', 'config', 'meas_order', 'pulse_dict']\n",
      "init state Q0 (switch) Q1 (input): |0+1>|0+i>\n",
      "S:\\QRAM\\qram_4QR2\\data\\data_241025\\00591_QramProtocol3QTomo.h5\n",
      "S:\\QRAM\\qram_4QR2\\data\\data_241025\\00591_QramProtocol3QTomo.h5\n",
      "Extracted data and attrs ['calib_order', 'config', 'meas_order', 'pulse_dict']\n",
      "init state Q0 (switch) Q1 (input): |0+i>|0>\n",
      "S:\\QRAM\\qram_4QR2\\data\\data_241025\\00592_QramProtocol3QTomo.h5\n",
      "S:\\QRAM\\qram_4QR2\\data\\data_241025\\00592_QramProtocol3QTomo.h5\n",
      "Extracted data and attrs ['calib_order', 'config', 'meas_order', 'pulse_dict']\n",
      "init state Q0 (switch) Q1 (input): |0+i>|1>\n",
      "S:\\QRAM\\qram_4QR2\\data\\data_241025\\00593_QramProtocol3QTomo.h5\n",
      "S:\\QRAM\\qram_4QR2\\data\\data_241025\\00593_QramProtocol3QTomo.h5\n",
      "Extracted data and attrs ['calib_order', 'config', 'meas_order', 'pulse_dict']\n",
      "init state Q0 (switch) Q1 (input): |0+i>|0+1>\n",
      "S:\\QRAM\\qram_4QR2\\data\\data_241025\\00594_QramProtocol3QTomo.h5\n",
      "S:\\QRAM\\qram_4QR2\\data\\data_241025\\00594_QramProtocol3QTomo.h5\n",
      "Extracted data and attrs ['calib_order', 'config', 'meas_order', 'pulse_dict']\n",
      "init state Q0 (switch) Q1 (input): |0+i>|0+i>\n"
     ]
    },
    {
     "ename": "NameError",
     "evalue": "name 'copy' is not defined",
     "output_type": "error",
     "traceback": [
      "\u001b[1;31m---------------------------------------------------------------------------\u001b[0m",
      "\u001b[1;31mNameError\u001b[0m                                 Traceback (most recent call last)",
      "\u001b[1;32m~\\AppData\\Local\\Temp\\ipykernel_10520\\2863891231.py\u001b[0m in \u001b[0;36m<module>\u001b[1;34m\u001b[0m\n\u001b[0;32m     19\u001b[0m     \u001b[0mn_tomo_corrected_dict\u001b[0m\u001b[1;33m[\u001b[0m\u001b[0minit_state\u001b[0m\u001b[1;33m]\u001b[0m\u001b[1;33m.\u001b[0m\u001b[0mappend\u001b[0m\u001b[1;33m(\u001b[0m\u001b[0mn_tomo_corrected\u001b[0m\u001b[1;33m)\u001b[0m\u001b[1;33m\u001b[0m\u001b[1;33m\u001b[0m\u001b[0m\n\u001b[0;32m     20\u001b[0m \u001b[1;33m\u001b[0m\u001b[0m\n\u001b[1;32m---> 21\u001b[1;33m \u001b[0minit_states\u001b[0m \u001b[1;33m=\u001b[0m \u001b[0mcopy\u001b[0m\u001b[1;33m(\u001b[0m\u001b[0mlist\u001b[0m\u001b[1;33m(\u001b[0m\u001b[0mn_tomo_corrected_dict\u001b[0m\u001b[1;33m.\u001b[0m\u001b[0mkeys\u001b[0m\u001b[1;33m(\u001b[0m\u001b[1;33m)\u001b[0m\u001b[1;33m)\u001b[0m\u001b[1;33m)\u001b[0m\u001b[1;33m\u001b[0m\u001b[1;33m\u001b[0m\u001b[0m\n\u001b[0m\u001b[0;32m     22\u001b[0m \u001b[1;32mfor\u001b[0m \u001b[0minit_state\u001b[0m \u001b[1;32min\u001b[0m \u001b[0minit_states\u001b[0m\u001b[1;33m:\u001b[0m\u001b[1;33m\u001b[0m\u001b[1;33m\u001b[0m\u001b[0m\n\u001b[0;32m     23\u001b[0m     \u001b[0mall_n_tomo_corrected\u001b[0m \u001b[1;33m=\u001b[0m \u001b[0mnp\u001b[0m\u001b[1;33m.\u001b[0m\u001b[0marray\u001b[0m\u001b[1;33m(\u001b[0m\u001b[0mn_tomo_corrected_dict\u001b[0m\u001b[1;33m[\u001b[0m\u001b[0minit_state\u001b[0m\u001b[1;33m]\u001b[0m\u001b[1;33m)\u001b[0m\u001b[1;33m\u001b[0m\u001b[1;33m\u001b[0m\u001b[0m\n",
      "\u001b[1;31mNameError\u001b[0m: name 'copy' is not defined"
     ]
    }
   ],
   "source": [
    "n_tomo_corrected_dict = dict()\n",
    "all_configs = dict()\n",
    "for i_saved_file, saved_file in enumerate(tqdm(saved_files)):\n",
    "    print(saved_file)\n",
    "    data, attrs = prev_data(saved_file, None)\n",
    "    pulse_dict = attrs['pulse_dict']\n",
    "    cfg = AttrDict(attrs['config'])\n",
    "    init_state = cfg.expt.init_state\n",
    "    all_configs[init_state] = cfg\n",
    "    play_pulses = cfg.expt.play_pulses\n",
    "    print('init state Q0 (switch) Q1 (input):', init_state)\n",
    "    \n",
    "    n_tomo_raw, n_calib = tomo_analysis.n_tomo_calib_from_data(data, cfg, ps_adjust=ps_adjust, ps_qubits=ps_qubits, apply_ps=apply_ps, verbose=False)\n",
    "    n_tomo_corrected = tomo_analysis.correct_readout_err(n_tomo_raw, n_calib)\n",
    "    \n",
    "    if init_state not in n_tomo_corrected_dict.keys():\n",
    "        n_tomo_corrected_dict.update({init_state:[]})\n",
    "    \n",
    "    n_tomo_corrected_dict[init_state].append(n_tomo_corrected)\n",
    "\n",
    "init_states = np.copy(list(n_tomo_corrected_dict.keys()))\n",
    "for init_state in init_states:\n",
    "    all_n_tomo_corrected = np.array(n_tomo_corrected_dict[init_state])\n",
    "    n_tomo_corrected_dict[init_state] = np.average(all_n_tomo_corrected, axis=0)"
   ]
  },
  {
   "cell_type": "code",
   "execution_count": 296,
   "metadata": {},
   "outputs": [
    {
     "name": "stdout",
     "output_type": "stream",
     "text": [
      "Saved n_tomo_corrected_dict for Q0 Q2 Q3 to file S:\\QRAM\\qram_4QR2\\data\\data_241025\\202412051123_ntomocorrected_3Q_023.npz\n"
     ]
    }
   ],
   "source": [
    "# SAVING MEASURED n_tomo_corrected\n",
    "n_tomo_corrected_dict.update({\"saved_files\":saved_files})\n",
    "n_tomo_corrected_dict.update({\"init_states\":list(init_states)})\n",
    "n_tomo_corrected_dict.update({\"all_configs\":all_configs})\n",
    "\n",
    "from datetime import datetime\n",
    "timestamp = datetime.now().strftime(\"%Y%m%d%H%M\")\n",
    "qA, qB, qC = tomo_qubits\n",
    "n_tomo_corrected_filepath = os.path.join(expt_path, f'{timestamp}_ntomocorrected_3Q_{qA}{qB}{qC}.npz')\n",
    "np.savez(n_tomo_corrected_filepath, **n_tomo_corrected_dict, allow_pickle=True)\n",
    "print(f'Saved n_tomo_corrected_dict for Q{qA} Q{qB} Q{qC} to file {n_tomo_corrected_filepath}')"
   ]
  },
  {
   "cell_type": "markdown",
   "metadata": {},
   "source": [
    "### Iterate over many rounds of swap applications"
   ]
  },
  {
   "cell_type": "code",
   "execution_count": 101,
   "metadata": {},
   "outputs": [
    {
     "name": "stdout",
     "output_type": "stream",
     "text": [
      "simultaneous swaps False\n",
      "simultaneous efs False\n",
      "readout cool False\n",
      "full mux expt False\n",
      "resonator reset None\n",
      "use robust pulses True\n",
      "save data True\n"
     ]
    }
   ],
   "source": [
    "init_states = []\n",
    "for state0 in cardinal_states:\n",
    "    for state1 in cardinal_states:\n",
    "        init_states.append(state0 + state1)\n",
    "\n",
    "sync_between_swaps = True\n",
    "sync_between_efs = True\n",
    "\n",
    "# n_sweep = [1, 2, 3, 4, 5, 6, 7]\n",
    "n_sweep = range(5)\n",
    "# iterations = 5\n",
    "iterations = 2\n",
    "\n",
    "saved_files_nsweep = []\n",
    "n_tomo_corrected_filepaths = [] # 1 for each n_forward_backward value\n",
    "\n",
    "print(\"n_sweep\", n_sweep)\n",
    "print(\"iterations\", iterations)\n",
    "print('simultaneous swaps', not sync_between_swaps)\n",
    "print('simultaneous efs', not sync_between_efs)\n",
    "print('readout cool', readout_cool)\n",
    "print('full mux expt', full_mux_expt)\n",
    "print('resonator reset', resonator_reset)\n",
    "print('use robust pulses', use_robust_pulses)\n",
    "print('save data', save_data)\n",
    "if not save_data:\n",
    "    print('WARNING!! YOU ARE NOT SAVING DATA!')\n"
   ]
  },
  {
   "cell_type": "code",
   "execution_count": 102,
   "metadata": {},
   "outputs": [
    {
     "name": "stdout",
     "output_type": "stream",
     "text": [
      "############################################\n",
      "STARTING n_forward_backward 1\n",
      "init_states (16 states) ['|0>|0>', '|0>|1>', '|0>|0+1>', '|0>|0+i>', '|1>|0>', '|1>|1>', '|1>|0+1>', '|1>|0+i>', '|0+1>|0>', '|0+1>|1>', '|0+1>|0+1>', '|0+1>|0+i>', '|0+i>|0>', '|0+i>|1>', '|0+i>|0+1>', '|0+i>|0+i>']\n",
      "protocol_play [2, 1, 1, 2, 2, 1, 3, 4]\n",
      "-------------------\n",
      "Starting iteration 0 for n_forward_backward 1\n"
     ]
    },
    {
     "name": "stderr",
     "output_type": "stream",
     "text": [
      "TqdmDeprecationWarning: This function will be removed in tqdm==5.0.0\n",
      "Please use `tqdm.notebook.tqdm` instead of `tqdm.tqdm_notebook`\n",
      " C:\\Users\\slab\\AppData\\Local\\Temp\\ipykernel_16456\\1342584075.py: 20"
     ]
    },
    {
     "data": {
      "application/vnd.jupyter.widget-view+json": {
       "model_id": "94f432f4e77f4aa6a8838fd8ba5e7a35",
       "version_major": 2,
       "version_minor": 0
      },
      "text/plain": [
       "  0%|          | 0/16 [00:00<?, ?it/s]"
      ]
     },
     "metadata": {},
     "output_type": "display_data"
    },
    {
     "name": "stdout",
     "output_type": "stream",
     "text": [
      "init_state |0>|0> play pulses [2, 1, 1, 2, 2, 1, 3, 4]\n",
      "timesteps [inf]\n"
     ]
    },
    {
     "data": {
      "application/vnd.jupyter.widget-view+json": {
       "model_id": "8a35ad2e909140a2942b2bbe09a2f615",
       "version_major": 2,
       "version_minor": 0
      },
      "text/plain": [
       "  0%|          | 0/8 [00:00<?, ?it/s]"
      ]
     },
     "metadata": {},
     "output_type": "display_data"
    },
    {
     "name": "stdout",
     "output_type": "stream",
     "text": [
      "Qubit  (0)\n",
      "ge fidelity (%): 83.94949494949489 \t angle (deg): 169.26846063799513 \t threshold ge: 218.00988129623917\n",
      "Qubit  (2)\n",
      "ge fidelity (%): 82.00000000000006 \t angle (deg): 171.53100861798274 \t threshold ge: 83.87703707080027\n",
      "Qubit  (3)\n",
      "ge fidelity (%): 88.00000000000007 \t angle (deg): -175.788752832603 \t threshold ge: 100.66139044874744\n",
      "thresholds=[218.00988129623917, 0, 83.87703707080027, 100.66139044874744],\n",
      "angles=[169.26846063799513, 0, 171.53100861798274, -175.788752832603],\n",
      "ge_avgs=[array([-131.0015919 ,  -86.29599855, -302.0884081 , -118.72073806]), [0, 0, 0, 0], array([  -6.56344547, -117.7520293 , -119.01046663, -134.49513836]), array([ -50.32027669,   -1.75284505, -147.02979167,    5.36814453])] ,\n",
      "counts_calib=[[85, 3, 6, 0, 4, 1, 1, 0], [9, 80, 1, 3, 0, 7, 0, 0], [12, 0, 83, 1, 0, 0, 4, 0], [4, 14, 10, 67, 1, 0, 0, 4], [11, 0, 0, 0, 78, 3, 8, 0], [2, 4, 0, 1, 8, 79, 1, 5], [3, 0, 10, 0, 12, 1, 72, 2], [1, 1, 3, 6, 3, 13, 10, 63]]\n",
      "\n"
     ]
    },
    {
     "data": {
      "application/vnd.jupyter.widget-view+json": {
       "model_id": "4f582a2f89964c20b722298aaad43752",
       "version_major": 2,
       "version_minor": 0
      },
      "text/plain": [
       "  0%|          | 0/1 [00:00<?, ?it/s]"
      ]
     },
     "metadata": {},
     "output_type": "display_data"
    },
    {
     "data": {
      "application/vnd.jupyter.widget-view+json": {
       "model_id": "bd0c0721033d4a36bd83de3861b496f4",
       "version_major": 2,
       "version_minor": 0
      },
      "text/plain": [
       "  0%|          | 0/27 [00:00<?, ?it/s]"
      ]
     },
     "metadata": {},
     "output_type": "display_data"
    },
    {
     "name": "stdout",
     "output_type": "stream",
     "text": [
      "Saving S:\\QRAM\\qram_4QR2\\data\\data_250119\\00004_QramProtocol3QTomo.h5\n",
      "init_state |0>|1> play pulses [2, 1, 1, 2, 2, 1, 3, 4]\n",
      "timesteps [inf]\n"
     ]
    },
    {
     "data": {
      "application/vnd.jupyter.widget-view+json": {
       "model_id": "e31845f423184571a0f096d6d1d6e004",
       "version_major": 2,
       "version_minor": 0
      },
      "text/plain": [
       "  0%|          | 0/8 [00:00<?, ?it/s]"
      ]
     },
     "metadata": {},
     "output_type": "display_data"
    },
    {
     "name": "stdout",
     "output_type": "stream",
     "text": [
      "Qubit  (0)\n",
      "ge fidelity (%): 90.00000000000004 \t angle (deg): 172.57190957138167 \t threshold ge: 213.739618738596\n",
      "Qubit  (2)\n",
      "ge fidelity (%): 81.00000000000006 \t angle (deg): 175.64168586011786 \t threshold ge: 74.3509537210622\n",
      "Qubit  (3)\n",
      "ge fidelity (%): 82.97979797979794 \t angle (deg): -176.27643203964854 \t threshold ge: 94.21303708868477\n",
      "thresholds=[213.739618738596, 0, 74.3509537210622, 94.21303708868477],\n",
      "angles=[172.57190957138167, 0, 175.64168586011786, -176.27643203964854],\n",
      "ge_avgs=[array([-121.15903763,  -88.92714906, -306.37384949, -113.07469609]), [0, 0, 0, 0], array([   2.41253934, -120.40879544, -116.50628323, -129.47207271]), array([ -53.41141602,   -3.43986654, -144.36874349,    2.47965169])] ,\n",
      "counts_calib=[[85, 3, 7, 0, 5, 0, 0, 0], [15, 73, 0, 9, 0, 3, 0, 0], [9, 2, 82, 3, 1, 1, 2, 0], [1, 8, 13, 74, 0, 0, 0, 4], [7, 0, 1, 0, 74, 7, 10, 1], [2, 12, 0, 1, 13, 64, 2, 6], [1, 1, 6, 1, 17, 2, 69, 3], [0, 1, 1, 7, 1, 10, 16, 64]]\n",
      "\n"
     ]
    },
    {
     "data": {
      "application/vnd.jupyter.widget-view+json": {
       "model_id": "b2eec2d341e7425fa517f06af7e8463f",
       "version_major": 2,
       "version_minor": 0
      },
      "text/plain": [
       "  0%|          | 0/1 [00:00<?, ?it/s]"
      ]
     },
     "metadata": {},
     "output_type": "display_data"
    },
    {
     "data": {
      "application/vnd.jupyter.widget-view+json": {
       "model_id": "8d4ad8bdaa8e4c3390af5d8c7e2c9221",
       "version_major": 2,
       "version_minor": 0
      },
      "text/plain": [
       "  0%|          | 0/27 [00:00<?, ?it/s]"
      ]
     },
     "metadata": {},
     "output_type": "display_data"
    },
    {
     "name": "stdout",
     "output_type": "stream",
     "text": [
      "Saving S:\\QRAM\\qram_4QR2\\data\\data_250119\\00005_QramProtocol3QTomo.h5\n",
      "init_state |0>|0+1> play pulses [2, 1, 1, 2, 2, 1, 3, 4]\n",
      "timesteps [inf]\n"
     ]
    },
    {
     "data": {
      "application/vnd.jupyter.widget-view+json": {
       "model_id": "9889afa758844810b18ded78b92d3d1a",
       "version_major": 2,
       "version_minor": 0
      },
      "text/plain": [
       "  0%|          | 0/8 [00:00<?, ?it/s]"
      ]
     },
     "metadata": {},
     "output_type": "display_data"
    },
    {
     "name": "stdout",
     "output_type": "stream",
     "text": [
      "Qubit  (0)\n",
      "ge fidelity (%): 81.9595959595959 \t angle (deg): 171.47987194293486 \t threshold ge: 224.14569522598038\n",
      "Qubit  (2)\n",
      "ge fidelity (%): 81.00000000000006 \t angle (deg): 172.84713766715376 \t threshold ge: 76.04504786693141\n",
      "Qubit  (3)\n",
      "ge fidelity (%): 82.99999999999991 \t angle (deg): -176.77170749934191 \t threshold ge: 97.91346699721294\n",
      "thresholds=[224.14569522598038, 0, 76.04504786693141, 97.91346699721294],\n",
      "angles=[171.47987194293486, 0, 172.84713766715376, -176.77170749934191],\n",
      "ge_avgs=[array([-128.32224313,  -85.45862518, -303.90557164, -111.76279305]), [0, 0, 0, 0], array([  -3.93275095, -118.78335323, -119.06385784, -133.23157352]), array([ -49.00880208,   -4.54869141, -134.7039388 ,    0.28486003])] ,\n",
      "counts_calib=[[86, 2, 7, 0, 4, 1, 0, 0], [13, 66, 1, 12, 2, 5, 0, 1], [10, 2, 75, 6, 1, 0, 5, 1], [4, 11, 9, 73, 0, 0, 0, 3], [11, 2, 0, 0, 74, 6, 7, 0], [2, 6, 0, 1, 11, 75, 0, 5], [2, 0, 7, 1, 13, 0, 73, 4], [0, 1, 1, 7, 0, 14, 12, 65]]\n",
      "\n"
     ]
    },
    {
     "data": {
      "application/vnd.jupyter.widget-view+json": {
       "model_id": "e27bf389a83e430584c0b20725e7e1b5",
       "version_major": 2,
       "version_minor": 0
      },
      "text/plain": [
       "  0%|          | 0/1 [00:00<?, ?it/s]"
      ]
     },
     "metadata": {},
     "output_type": "display_data"
    },
    {
     "data": {
      "application/vnd.jupyter.widget-view+json": {
       "model_id": "2a881c085d744b36b6ca47240b821a71",
       "version_major": 2,
       "version_minor": 0
      },
      "text/plain": [
       "  0%|          | 0/27 [00:00<?, ?it/s]"
      ]
     },
     "metadata": {},
     "output_type": "display_data"
    },
    {
     "name": "stdout",
     "output_type": "stream",
     "text": [
      "Saving S:\\QRAM\\qram_4QR2\\data\\data_250119\\00006_QramProtocol3QTomo.h5\n",
      "init_state |0>|0+i> play pulses [2, 1, 1, 2, 2, 1, 3, 4]\n",
      "timesteps [inf]\n"
     ]
    },
    {
     "data": {
      "application/vnd.jupyter.widget-view+json": {
       "model_id": "0102482698634ba5884d0602e0d695e3",
       "version_major": 2,
       "version_minor": 0
      },
      "text/plain": [
       "  0%|          | 0/8 [00:00<?, ?it/s]"
      ]
     },
     "metadata": {},
     "output_type": "display_data"
    },
    {
     "name": "stdout",
     "output_type": "stream",
     "text": [
      "Qubit  (0)\n",
      "ge fidelity (%): 87.00000000000006 \t angle (deg): 169.83873909997178 \t threshold ge: 209.90864123905214\n",
      "Qubit  (2)\n",
      "ge fidelity (%): 85.96969696969697 \t angle (deg): 168.98541108218967 \t threshold ge: 90.18707022244392\n",
      "Qubit  (3)\n",
      "ge fidelity (%): 80.97979797979792 \t angle (deg): -176.76586927601002 \t threshold ge: 95.23047007749332\n",
      "thresholds=[209.90864123905214, 0, 90.18707022244392, 95.23047007749332],\n",
      "angles=[169.83873909997178, 0, 168.98541108218967, -176.76586927601002],\n",
      "ge_avgs=[array([-123.70490593,  -84.70341534, -312.73627352, -118.58359624]), [0, 0, 0, 0], array([   4.51153011, -106.25901791, -116.10513836, -129.73639718]), array([ -57.98453451,   -3.10592448, -137.15361328,    1.3676237 ])] ,\n",
      "counts_calib=[[84, 5, 5, 0, 6, 0, 0, 0], [12, 73, 2, 3, 3, 6, 0, 1], [8, 0, 81, 4, 2, 0, 5, 0], [0, 15, 7, 70, 0, 0, 2, 6], [6, 0, 2, 0, 84, 3, 5, 0], [0, 10, 0, 0, 12, 74, 0, 4], [0, 1, 7, 0, 11, 1, 77, 3], [0, 1, 1, 8, 0, 11, 9, 70]]\n",
      "\n"
     ]
    },
    {
     "data": {
      "application/vnd.jupyter.widget-view+json": {
       "model_id": "0fd994680e5549fca4f5dcea89e17f86",
       "version_major": 2,
       "version_minor": 0
      },
      "text/plain": [
       "  0%|          | 0/1 [00:00<?, ?it/s]"
      ]
     },
     "metadata": {},
     "output_type": "display_data"
    },
    {
     "data": {
      "application/vnd.jupyter.widget-view+json": {
       "model_id": "d091746e52094ce2ac2d2720467957f5",
       "version_major": 2,
       "version_minor": 0
      },
      "text/plain": [
       "  0%|          | 0/27 [00:00<?, ?it/s]"
      ]
     },
     "metadata": {},
     "output_type": "display_data"
    },
    {
     "name": "stdout",
     "output_type": "stream",
     "text": [
      "Saving S:\\QRAM\\qram_4QR2\\data\\data_250119\\00007_QramProtocol3QTomo.h5\n",
      "init_state |1>|0> play pulses [2, 1, 1, 2, 2, 1, 3, 4]\n",
      "timesteps [inf]\n"
     ]
    },
    {
     "data": {
      "application/vnd.jupyter.widget-view+json": {
       "model_id": "0be318397f3f47e0afcaf510462d800d",
       "version_major": 2,
       "version_minor": 0
      },
      "text/plain": [
       "  0%|          | 0/8 [00:00<?, ?it/s]"
      ]
     },
     "metadata": {},
     "output_type": "display_data"
    },
    {
     "name": "stdout",
     "output_type": "stream",
     "text": [
      "Qubit  (0)\n",
      "ge fidelity (%): 84.00000000000006 \t angle (deg): 166.50399316845707 \t threshold ge: 260.7849082253344\n",
      "Qubit  (2)\n",
      "ge fidelity (%): 78.92929292929291 \t angle (deg): 170.46673226557726 \t threshold ge: 89.22425385888994\n",
      "Qubit  (3)\n",
      "ge fidelity (%): 84.00000000000006 \t angle (deg): -177.38368970088203 \t threshold ge: 99.50550067300449\n",
      "thresholds=[260.7849082253344, 0, 89.22425385888994, 99.50550067300449],\n",
      "angles=[166.50399316845707, 0, 170.46673226557726, -177.38368970088203],\n",
      "ge_avgs=[array([-136.73479016,  -80.87393632, -306.6346165 , -121.65075253]), [0, 0, 0, 0], array([ -11.10099837, -106.78914813, -119.22399349, -124.94727618]), array([ -50.00839844,   -3.63730469, -138.29896484,    0.39713216])] ,\n",
      "counts_calib=[[84, 2, 7, 0, 6, 0, 1, 0], [12, 76, 2, 4, 0, 5, 1, 0], [11, 1, 84, 1, 0, 1, 2, 0], [1, 16, 16, 62, 0, 1, 0, 4], [8, 1, 1, 0, 85, 3, 2, 0], [1, 7, 0, 2, 13, 72, 1, 4], [4, 0, 7, 0, 12, 1, 71, 5], [1, 5, 0, 12, 0, 9, 8, 65]]\n",
      "\n"
     ]
    },
    {
     "data": {
      "application/vnd.jupyter.widget-view+json": {
       "model_id": "fc389ea28c964a1b826a3300f0f4ccb3",
       "version_major": 2,
       "version_minor": 0
      },
      "text/plain": [
       "  0%|          | 0/1 [00:00<?, ?it/s]"
      ]
     },
     "metadata": {},
     "output_type": "display_data"
    },
    {
     "data": {
      "application/vnd.jupyter.widget-view+json": {
       "model_id": "91407408996042de943c68642c022fdc",
       "version_major": 2,
       "version_minor": 0
      },
      "text/plain": [
       "  0%|          | 0/27 [00:00<?, ?it/s]"
      ]
     },
     "metadata": {},
     "output_type": "display_data"
    },
    {
     "name": "stdout",
     "output_type": "stream",
     "text": [
      "Saving S:\\QRAM\\qram_4QR2\\data\\data_250119\\00008_QramProtocol3QTomo.h5\n",
      "init_state |1>|1> play pulses [2, 1, 1, 2, 2, 1, 3, 4]\n",
      "timesteps [inf]\n"
     ]
    },
    {
     "data": {
      "application/vnd.jupyter.widget-view+json": {
       "model_id": "c956dfb39f57413ca969b095e9ffa606",
       "version_major": 2,
       "version_minor": 0
      },
      "text/plain": [
       "  0%|          | 0/8 [00:00<?, ?it/s]"
      ]
     },
     "metadata": {},
     "output_type": "display_data"
    },
    {
     "name": "stdout",
     "output_type": "stream",
     "text": [
      "Qubit  (0)\n",
      "ge fidelity (%): 84.00000000000006 \t angle (deg): 169.40833516976005 \t threshold ge: 213.71279813251826\n",
      "Qubit  (2)\n",
      "ge fidelity (%): 76.00000000000004 \t angle (deg): 172.9565229080323 \t threshold ge: 83.90792945135823\n",
      "Qubit  (3)\n",
      "ge fidelity (%): 80.96969696969694 \t angle (deg): 179.69164614284452 \t threshold ge: 102.56462886813382\n",
      "thresholds=[213.71279813251826, 0, 83.90792945135823, 102.56462886813382],\n",
      "angles=[169.40833516976005, 0, 172.9565229080323, 179.69164614284452],\n",
      "ge_avgs=[array([-127.7952822 ,  -83.25105644, -310.34841534, -117.3874602 ]), [0, 0, 0, 0], array([  -4.53000543, -115.08571894, -116.72390667, -128.9478242 ]), array([ -53.4245931 ,   -0.73128906, -136.71972656,   -1.17957031])] ,\n",
      "counts_calib=[[78, 4, 10, 0, 8, 0, 0, 0], [13, 71, 2, 11, 1, 1, 0, 1], [11, 4, 74, 5, 0, 0, 5, 1], [11, 6, 24, 54, 1, 0, 0, 4], [8, 0, 2, 0, 80, 3, 7, 0], [1, 4, 2, 0, 16, 68, 0, 9], [2, 0, 8, 0, 15, 0, 73, 2], [0, 1, 0, 6, 3, 12, 9, 69]]\n",
      "\n"
     ]
    },
    {
     "data": {
      "application/vnd.jupyter.widget-view+json": {
       "model_id": "4ce97e6a4d7f44eea994c72ab88a989e",
       "version_major": 2,
       "version_minor": 0
      },
      "text/plain": [
       "  0%|          | 0/1 [00:00<?, ?it/s]"
      ]
     },
     "metadata": {},
     "output_type": "display_data"
    },
    {
     "data": {
      "application/vnd.jupyter.widget-view+json": {
       "model_id": "43d8660ff37e40a9b38445f1507c36fc",
       "version_major": 2,
       "version_minor": 0
      },
      "text/plain": [
       "  0%|          | 0/27 [00:00<?, ?it/s]"
      ]
     },
     "metadata": {},
     "output_type": "display_data"
    },
    {
     "name": "stdout",
     "output_type": "stream",
     "text": [
      "Saving S:\\QRAM\\qram_4QR2\\data\\data_250119\\00009_QramProtocol3QTomo.h5\n",
      "init_state |1>|0+1> play pulses [2, 1, 1, 2, 2, 1, 3, 4]\n",
      "timesteps [inf]\n"
     ]
    },
    {
     "data": {
      "application/vnd.jupyter.widget-view+json": {
       "model_id": "39da3e789b6a4742880d76edb657500b",
       "version_major": 2,
       "version_minor": 0
      },
      "text/plain": [
       "  0%|          | 0/8 [00:00<?, ?it/s]"
      ]
     },
     "metadata": {},
     "output_type": "display_data"
    },
    {
     "name": "stdout",
     "output_type": "stream",
     "text": [
      "Qubit  (0)\n",
      "ge fidelity (%): 96.00000000000006 \t angle (deg): 170.66777804260596 \t threshold ge: 228.05278997344317\n",
      "Qubit  (2)\n",
      "ge fidelity (%): 77.00000000000004 \t angle (deg): 165.8502807025039 \t threshold ge: 75.4113685648467\n",
      "Qubit  (3)\n",
      "ge fidelity (%): 84.89898989898995 \t angle (deg): -177.20169762521266 \t threshold ge: 95.03220063400776\n",
      "thresholds=[228.05278997344317, 0, 75.4113685648467, 95.03220063400776],\n",
      "angles=[170.66777804260596, 0, 165.8502807025039, -177.20169762521266],\n",
      "ge_avgs=[array([-123.83273517,  -89.7783068 , -307.77121563, -120.00561505]), [0, 0, 0, 0], array([   0.98140532, -102.12959848, -106.06482908, -129.1165274 ]), array([ -59.57177083,   -1.52478516, -145.23333333,    2.66222005])] ,\n",
      "counts_calib=[[81, 6, 11, 0, 2, 0, 0, 0], [7, 74, 3, 7, 1, 6, 0, 2], [13, 0, 82, 1, 0, 0, 4, 0], [0, 7, 17, 67, 0, 0, 1, 8], [2, 1, 0, 0, 76, 3, 18, 0], [0, 16, 0, 1, 4, 64, 2, 13], [0, 0, 10, 0, 12, 2, 71, 5], [1, 0, 0, 10, 0, 6, 7, 76]]\n",
      "\n"
     ]
    },
    {
     "data": {
      "application/vnd.jupyter.widget-view+json": {
       "model_id": "32daeea1171543dd981b8a4a988c7bd9",
       "version_major": 2,
       "version_minor": 0
      },
      "text/plain": [
       "  0%|          | 0/1 [00:00<?, ?it/s]"
      ]
     },
     "metadata": {},
     "output_type": "display_data"
    },
    {
     "data": {
      "application/vnd.jupyter.widget-view+json": {
       "model_id": "b59c6c79eba14f8f8aaa772341957781",
       "version_major": 2,
       "version_minor": 0
      },
      "text/plain": [
       "  0%|          | 0/27 [00:00<?, ?it/s]"
      ]
     },
     "metadata": {},
     "output_type": "display_data"
    },
    {
     "name": "stdout",
     "output_type": "stream",
     "text": [
      "Saving S:\\QRAM\\qram_4QR2\\data\\data_250119\\00010_QramProtocol3QTomo.h5\n",
      "init_state |1>|0+i> play pulses [2, 1, 1, 2, 2, 1, 3, 4]\n",
      "timesteps [inf]\n"
     ]
    },
    {
     "data": {
      "application/vnd.jupyter.widget-view+json": {
       "model_id": "6dcc65017a4d4b429a34cea8b11c38d9",
       "version_major": 2,
       "version_minor": 0
      },
      "text/plain": [
       "  0%|          | 0/8 [00:00<?, ?it/s]"
      ]
     },
     "metadata": {},
     "output_type": "display_data"
    },
    {
     "name": "stdout",
     "output_type": "stream",
     "text": [
      "Qubit  (0)\n",
      "ge fidelity (%): 86.00000000000006 \t angle (deg): 170.0595025430944 \t threshold ge: 214.2475673224365\n",
      "Qubit  (2)\n",
      "ge fidelity (%): 84.84848484848483 \t angle (deg): 172.978429113236 \t threshold ge: 75.00703820261593\n",
      "Qubit  (3)\n",
      "ge fidelity (%): 84.00000000000004 \t angle (deg): -178.17023611988887 \t threshold ge: 98.4265566816631\n",
      "thresholds=[214.2475673224365, 0, 75.00703820261593, 98.4265566816631],\n",
      "angles=[170.0595025430944, 0, 172.978429113236, -178.17023611988887],\n",
      "ge_avgs=[array([-121.20001447,  -88.40505065, -300.72811867, -119.86849493]), [0, 0, 0, 0], array([  -9.96568638, -114.05754748, -123.56586544, -128.04931091]), array([ -48.98985352,   -1.15391927, -135.97929036,    1.62506836])] ,\n",
      "counts_calib=[[85, 2, 8, 0, 3, 0, 2, 0], [14, 72, 0, 7, 1, 6, 0, 0], [7, 0, 83, 1, 0, 0, 9, 0], [2, 4, 11, 72, 1, 2, 0, 8], [9, 0, 1, 0, 81, 2, 7, 0], [2, 10, 0, 0, 9, 59, 3, 17], [4, 0, 6, 0, 13, 0, 70, 7], [0, 0, 3, 10, 1, 10, 11, 65]]\n",
      "\n"
     ]
    },
    {
     "data": {
      "application/vnd.jupyter.widget-view+json": {
       "model_id": "fcdac21eea914cf3ac1fee08cf600dc9",
       "version_major": 2,
       "version_minor": 0
      },
      "text/plain": [
       "  0%|          | 0/1 [00:00<?, ?it/s]"
      ]
     },
     "metadata": {},
     "output_type": "display_data"
    },
    {
     "data": {
      "application/vnd.jupyter.widget-view+json": {
       "model_id": "d7a2fd101d3c4a5c872f544cc1466778",
       "version_major": 2,
       "version_minor": 0
      },
      "text/plain": [
       "  0%|          | 0/27 [00:00<?, ?it/s]"
      ]
     },
     "metadata": {},
     "output_type": "display_data"
    },
    {
     "name": "stdout",
     "output_type": "stream",
     "text": [
      "Saving S:\\QRAM\\qram_4QR2\\data\\data_250119\\00011_QramProtocol3QTomo.h5\n",
      "init_state |0+1>|0> play pulses [2, 1, 1, 2, 2, 1, 3, 4]\n",
      "timesteps [inf]\n"
     ]
    },
    {
     "data": {
      "application/vnd.jupyter.widget-view+json": {
       "model_id": "e6b82df33e52414690222007261e7ffe",
       "version_major": 2,
       "version_minor": 0
      },
      "text/plain": [
       "  0%|          | 0/8 [00:00<?, ?it/s]"
      ]
     },
     "metadata": {},
     "output_type": "display_data"
    },
    {
     "name": "stdout",
     "output_type": "stream",
     "text": [
      "Qubit  (0)\n",
      "ge fidelity (%): 83.00000000000006 \t angle (deg): 172.82221060298573 \t threshold ge: 233.19732016480918\n",
      "Qubit  (2)\n",
      "ge fidelity (%): 77.00000000000006 \t angle (deg): 167.45619302460943 \t threshold ge: 102.19922618337438\n",
      "Qubit  (3)\n",
      "ge fidelity (%): 78.94949494949495 \t angle (deg): -175.6452192504845 \t threshold ge: 90.82176535040661\n",
      "thresholds=[233.19732016480918, 0, 102.19922618337438, 90.82176535040661],\n",
      "angles=[172.82221060298573, 0, 167.45619302460943, -175.6452192504845],\n",
      "ge_avgs=[array([-123.18380608,  -97.77495658, -298.99615774, -119.91598408]), [0, 0, 0, 0], array([ -11.29693977, -107.93992946, -119.05538253, -131.91585458]), array([ -49.94491211,   -2.10316732, -136.02549805,    4.45203776])] ,\n",
      "counts_calib=[[83, 3, 9, 1, 2, 2, 0, 0], [13, 75, 1, 3, 1, 7, 0, 0], [11, 1, 70, 4, 2, 0, 11, 1], [1, 16, 11, 59, 1, 1, 3, 8], [13, 0, 1, 0, 79, 4, 3, 0], [0, 6, 0, 1, 6, 84, 0, 3], [0, 0, 15, 0, 14, 1, 66, 4], [0, 3, 1, 6, 2, 15, 10, 63]]\n",
      "\n"
     ]
    },
    {
     "data": {
      "application/vnd.jupyter.widget-view+json": {
       "model_id": "f9b0b1e4c853404190a9fea44b0d249e",
       "version_major": 2,
       "version_minor": 0
      },
      "text/plain": [
       "  0%|          | 0/1 [00:00<?, ?it/s]"
      ]
     },
     "metadata": {},
     "output_type": "display_data"
    },
    {
     "data": {
      "application/vnd.jupyter.widget-view+json": {
       "model_id": "ace9baf37c944569adac97d18436e87d",
       "version_major": 2,
       "version_minor": 0
      },
      "text/plain": [
       "  0%|          | 0/27 [00:00<?, ?it/s]"
      ]
     },
     "metadata": {},
     "output_type": "display_data"
    },
    {
     "name": "stdout",
     "output_type": "stream",
     "text": [
      "Saving S:\\QRAM\\qram_4QR2\\data\\data_250119\\00012_QramProtocol3QTomo.h5\n",
      "init_state |0+1>|1> play pulses [2, 1, 1, 2, 2, 1, 3, 4]\n",
      "timesteps [inf]\n"
     ]
    },
    {
     "data": {
      "application/vnd.jupyter.widget-view+json": {
       "model_id": "d0e3c449925d4d5987ccf0824ed9fa11",
       "version_major": 2,
       "version_minor": 0
      },
      "text/plain": [
       "  0%|          | 0/8 [00:00<?, ?it/s]"
      ]
     },
     "metadata": {},
     "output_type": "display_data"
    },
    {
     "name": "stdout",
     "output_type": "stream",
     "text": [
      "Qubit  (0)\n",
      "ge fidelity (%): 76.92929292929286 \t angle (deg): 169.8377899301596 \t threshold ge: 224.93285999404145\n",
      "Qubit  (2)\n",
      "ge fidelity (%): 79.00000000000006 \t angle (deg): 172.43525579585574 \t threshold ge: 59.29609708889424\n",
      "Qubit  (3)\n",
      "ge fidelity (%): 70.92929292929287 \t angle (deg): 179.38736311414957 \t threshold ge: 87.13114355387901\n",
      "thresholds=[224.93285999404145, 0, 59.29609708889424, 87.13114355387901],\n",
      "angles=[169.8377899301596, 0, 172.43525579585574, 179.38736311414957],\n",
      "ge_avgs=[array([-135.73955861,  -89.67282923, -276.29498553, -114.86704776]), [0, 0, 0, 0], array([  -0.90484536, -116.74362453, -109.37743353, -131.14902876]), array([ -52.37507487,    2.04953125, -119.89584635,    1.32753581])] ,\n",
      "counts_calib=[[69, 8, 14, 0, 8, 0, 1, 0], [16, 62, 2, 14, 3, 2, 0, 1], [7, 0, 80, 8, 0, 0, 5, 0], [2, 6, 10, 73, 0, 0, 0, 9], [11, 1, 4, 0, 65, 1, 17, 1], [2, 2, 0, 2, 10, 67, 3, 14], [0, 0, 5, 1, 9, 1, 77, 7], [0, 1, 0, 5, 2, 2, 7, 83]]\n",
      "\n"
     ]
    },
    {
     "data": {
      "application/vnd.jupyter.widget-view+json": {
       "model_id": "818fdf03380641eb89662ceec86bbdf7",
       "version_major": 2,
       "version_minor": 0
      },
      "text/plain": [
       "  0%|          | 0/1 [00:00<?, ?it/s]"
      ]
     },
     "metadata": {},
     "output_type": "display_data"
    },
    {
     "data": {
      "application/vnd.jupyter.widget-view+json": {
       "model_id": "95529055e35e4d4e951b2790a63afc9d",
       "version_major": 2,
       "version_minor": 0
      },
      "text/plain": [
       "  0%|          | 0/27 [00:00<?, ?it/s]"
      ]
     },
     "metadata": {},
     "output_type": "display_data"
    },
    {
     "name": "stdout",
     "output_type": "stream",
     "text": [
      "Saving S:\\QRAM\\qram_4QR2\\data\\data_250119\\00013_QramProtocol3QTomo.h5\n",
      "init_state |0+1>|0+1> play pulses [2, 1, 1, 2, 2, 1, 3, 4]\n",
      "timesteps [inf]\n"
     ]
    },
    {
     "data": {
      "application/vnd.jupyter.widget-view+json": {
       "model_id": "6615166b82b14f4c9324336ec110956c",
       "version_major": 2,
       "version_minor": 0
      },
      "text/plain": [
       "  0%|          | 0/8 [00:00<?, ?it/s]"
      ]
     },
     "metadata": {},
     "output_type": "display_data"
    },
    {
     "name": "stdout",
     "output_type": "stream",
     "text": [
      "Qubit  (0)\n",
      "ge fidelity (%): 85.00000000000006 \t angle (deg): 171.99178612779107 \t threshold ge: 201.98366745258147\n",
      "Qubit  (2)\n",
      "ge fidelity (%): 80.00000000000006 \t angle (deg): 172.6228356396821 \t threshold ge: 71.78643426164942\n",
      "Qubit  (3)\n",
      "ge fidelity (%): 80.00000000000007 \t angle (deg): 174.79538148713826 \t threshold ge: 83.14347746844665\n",
      "thresholds=[201.98366745258147, 0, 71.78643426164942, 83.14347746844665],\n",
      "angles=[171.99178612779107, 0, 172.6228356396821, 174.79538148713826],\n",
      "ge_avgs=[array([-128.25761216,  -88.14766281, -304.83068741, -112.98920405]), [0, 0, 0, 0], array([  -0.3923006 , -109.44770483, -120.82264786, -125.04007054]), array([ -53.72062174,   -2.31777995, -128.29392904,   -9.11054362])] ,\n",
      "counts_calib=[[74, 6, 9, 2, 7, 2, 0, 0], [9, 72, 1, 12, 1, 5, 0, 0], [9, 0, 77, 10, 1, 0, 3, 0], [2, 7, 8, 73, 0, 1, 0, 9], [7, 0, 1, 0, 76, 10, 5, 1], [3, 1, 0, 1, 8, 73, 3, 11], [0, 0, 8, 2, 7, 1, 66, 16], [0, 0, 3, 11, 1, 7, 9, 69]]\n",
      "\n"
     ]
    },
    {
     "data": {
      "application/vnd.jupyter.widget-view+json": {
       "model_id": "7af8226d8e2e44fdac2ebbbb9e2b5e4c",
       "version_major": 2,
       "version_minor": 0
      },
      "text/plain": [
       "  0%|          | 0/1 [00:00<?, ?it/s]"
      ]
     },
     "metadata": {},
     "output_type": "display_data"
    },
    {
     "data": {
      "application/vnd.jupyter.widget-view+json": {
       "model_id": "0a25ab6b6d654961b1de9742c09bec5b",
       "version_major": 2,
       "version_minor": 0
      },
      "text/plain": [
       "  0%|          | 0/27 [00:00<?, ?it/s]"
      ]
     },
     "metadata": {},
     "output_type": "display_data"
    },
    {
     "name": "stdout",
     "output_type": "stream",
     "text": [
      "Saving S:\\QRAM\\qram_4QR2\\data\\data_250119\\00014_QramProtocol3QTomo.h5\n",
      "init_state |0+1>|0+i> play pulses [2, 1, 1, 2, 2, 1, 3, 4]\n",
      "timesteps [inf]\n"
     ]
    },
    {
     "data": {
      "application/vnd.jupyter.widget-view+json": {
       "model_id": "8fd8251b01d94f22a003fd0693b33387",
       "version_major": 2,
       "version_minor": 0
      },
      "text/plain": [
       "  0%|          | 0/8 [00:00<?, ?it/s]"
      ]
     },
     "metadata": {},
     "output_type": "display_data"
    },
    {
     "name": "stdout",
     "output_type": "stream",
     "text": [
      "Qubit  (0)\n",
      "ge fidelity (%): 72.00000000000004 \t angle (deg): 169.7327453551475 \t threshold ge: 202.57681674974683\n",
      "Qubit  (2)\n",
      "ge fidelity (%): 79.95959595959592 \t angle (deg): 168.0323337984435 \t threshold ge: 103.41441348768907\n",
      "Qubit  (3)\n",
      "ge fidelity (%): 70.70707070707067 \t angle (deg): -177.11284693194014 \t threshold ge: 88.0831592294873\n",
      "thresholds=[202.57681674974683, 0, 103.41441348768907, 88.0831592294873],\n",
      "angles=[169.7327453551475, 0, 168.0323337984435, -177.11284693194014],\n",
      "ge_avgs=[array([-127.41897974,  -91.70798842, -273.59843705, -118.18700434]), [0, 0, 0, 0], array([  -7.97561584,  -99.67863266, -119.27781335, -123.2710038 ]), array([ -46.57623372,   -9.67131836, -116.22048177,   -6.15894857])] ,\n",
      "counts_calib=[[76, 5, 4, 0, 11, 3, 1, 0], [18, 56, 1, 3, 3, 19, 0, 0], [14, 0, 69, 2, 1, 1, 12, 1], [16, 12, 11, 49, 0, 2, 2, 8], [14, 0, 0, 0, 81, 2, 3, 0], [3, 5, 0, 0, 15, 75, 1, 1], [4, 0, 3, 1, 11, 1, 79, 1], [2, 1, 0, 4, 1, 18, 2, 72]]\n",
      "\n"
     ]
    },
    {
     "data": {
      "application/vnd.jupyter.widget-view+json": {
       "model_id": "0fa32d7762d941c490543a4e7ee82595",
       "version_major": 2,
       "version_minor": 0
      },
      "text/plain": [
       "  0%|          | 0/1 [00:00<?, ?it/s]"
      ]
     },
     "metadata": {},
     "output_type": "display_data"
    },
    {
     "data": {
      "application/vnd.jupyter.widget-view+json": {
       "model_id": "4e63f5236309404d84e2c135e91af46f",
       "version_major": 2,
       "version_minor": 0
      },
      "text/plain": [
       "  0%|          | 0/27 [00:00<?, ?it/s]"
      ]
     },
     "metadata": {},
     "output_type": "display_data"
    },
    {
     "name": "stdout",
     "output_type": "stream",
     "text": [
      "Saving S:\\QRAM\\qram_4QR2\\data\\data_250119\\00015_QramProtocol3QTomo.h5\n",
      "init_state |0+i>|0> play pulses [2, 1, 1, 2, 2, 1, 3, 4]\n",
      "timesteps [inf]\n"
     ]
    },
    {
     "data": {
      "application/vnd.jupyter.widget-view+json": {
       "model_id": "f70d41f36890441798f5c733fd2fe45d",
       "version_major": 2,
       "version_minor": 0
      },
      "text/plain": [
       "  0%|          | 0/8 [00:00<?, ?it/s]"
      ]
     },
     "metadata": {},
     "output_type": "display_data"
    },
    {
     "name": "stdout",
     "output_type": "stream",
     "text": [
      "Qubit  (0)\n",
      "ge fidelity (%): 87.00000000000006 \t angle (deg): 169.3092443823422 \t threshold ge: 205.15938644279825\n",
      "Qubit  (2)\n",
      "ge fidelity (%): 80.9494949494949 \t angle (deg): 172.19940083986197 \t threshold ge: 91.97730637233082\n",
      "Qubit  (3)\n",
      "ge fidelity (%): 64.00000000000003 \t angle (deg): 168.44440070582786 \t threshold ge: 81.08406757542608\n",
      "thresholds=[205.15938644279825, 0, 91.97730637233082, 81.08406757542608],\n",
      "angles=[169.3092443823422, 0, 172.19940083986197, 168.44440070582786],\n",
      "ge_avgs=[array([-111.62147612,  -85.60494935, -296.73770622, -120.55209117]), [0, 0, 0, 0], array([ -16.04042865, -105.15844818, -120.09991861, -119.4139338 ]), array([ -46.88504883,    1.32310221, -101.6281543 ,   -9.86984049])] ,\n",
      "counts_calib=[[85, 4, 4, 0, 4, 1, 2, 0], [30, 63, 1, 3, 1, 2, 0, 0], [11, 1, 67, 9, 1, 1, 9, 1], [8, 13, 8, 62, 0, 2, 2, 5], [7, 0, 0, 0, 80, 6, 7, 0], [0, 9, 0, 0, 12, 73, 1, 5], [1, 0, 6, 1, 15, 3, 63, 11], [7, 3, 1, 7, 1, 10, 8, 63]]\n",
      "\n"
     ]
    },
    {
     "data": {
      "application/vnd.jupyter.widget-view+json": {
       "model_id": "45d112cb4e5849f5b77f0b5981ef9663",
       "version_major": 2,
       "version_minor": 0
      },
      "text/plain": [
       "  0%|          | 0/1 [00:00<?, ?it/s]"
      ]
     },
     "metadata": {},
     "output_type": "display_data"
    },
    {
     "data": {
      "application/vnd.jupyter.widget-view+json": {
       "model_id": "ca4b27e8e1b04e25a2f6d42637a4a390",
       "version_major": 2,
       "version_minor": 0
      },
      "text/plain": [
       "  0%|          | 0/27 [00:00<?, ?it/s]"
      ]
     },
     "metadata": {},
     "output_type": "display_data"
    },
    {
     "name": "stdout",
     "output_type": "stream",
     "text": [
      "Saving S:\\QRAM\\qram_4QR2\\data\\data_250119\\00016_QramProtocol3QTomo.h5\n",
      "init_state |0+i>|1> play pulses [2, 1, 1, 2, 2, 1, 3, 4]\n",
      "timesteps [inf]\n"
     ]
    },
    {
     "data": {
      "application/vnd.jupyter.widget-view+json": {
       "model_id": "0f55c72a3676411da2b8dcc2689296e4",
       "version_major": 2,
       "version_minor": 0
      },
      "text/plain": [
       "  0%|          | 0/8 [00:00<?, ?it/s]"
      ]
     },
     "metadata": {},
     "output_type": "display_data"
    },
    {
     "name": "stdout",
     "output_type": "stream",
     "text": [
      "Qubit  (0)\n",
      "ge fidelity (%): 83.00000000000007 \t angle (deg): 170.31249089397664 \t threshold ge: 206.63679565496963\n",
      "Qubit  (2)\n",
      "ge fidelity (%): 71.00000000000003 \t angle (deg): 172.89960651041076 \t threshold ge: 81.9419740089386\n",
      "Qubit  (3)\n",
      "ge fidelity (%): 84.98989898989896 \t angle (deg): -177.73239700672517 \t threshold ge: 91.45010667414435\n",
      "thresholds=[206.63679565496963, 0, 81.9419740089386, 91.45010667414435],\n",
      "angles=[170.31249089397664, 0, 172.89960651041076, -177.73239700672517],\n",
      "ge_avgs=[array([-121.91064399,  -81.82683068, -294.99149783, -111.37324891]), [0, 0, 0, 0], array([ -15.00619642, -112.36983722, -112.60534997, -124.52713511]), array([ -46.89848633,    1.57049479, -135.95891276,    5.0970931 ])] ,\n",
      "counts_calib=[[77, 0, 11, 2, 8, 1, 1, 0], [11, 75, 0, 7, 2, 4, 0, 1], [14, 1, 74, 2, 1, 0, 8, 0], [1, 10, 8, 69, 1, 2, 1, 8], [6, 1, 1, 0, 84, 4, 4, 0], [14, 5, 0, 0, 18, 58, 0, 5], [1, 0, 7, 0, 13, 0, 76, 3], [0, 3, 0, 6, 2, 10, 10, 69]]\n",
      "\n"
     ]
    },
    {
     "data": {
      "application/vnd.jupyter.widget-view+json": {
       "model_id": "081812a8dc5e436aa7f6397f2cb71c88",
       "version_major": 2,
       "version_minor": 0
      },
      "text/plain": [
       "  0%|          | 0/1 [00:00<?, ?it/s]"
      ]
     },
     "metadata": {},
     "output_type": "display_data"
    },
    {
     "data": {
      "application/vnd.jupyter.widget-view+json": {
       "model_id": "02ca1b36dc214eb1a6bbd5efee6bb5ed",
       "version_major": 2,
       "version_minor": 0
      },
      "text/plain": [
       "  0%|          | 0/27 [00:00<?, ?it/s]"
      ]
     },
     "metadata": {},
     "output_type": "display_data"
    },
    {
     "name": "stdout",
     "output_type": "stream",
     "text": [
      "Saving S:\\QRAM\\qram_4QR2\\data\\data_250119\\00017_QramProtocol3QTomo.h5\n",
      "init_state |0+i>|0+1> play pulses [2, 1, 1, 2, 2, 1, 3, 4]\n",
      "timesteps [inf]\n"
     ]
    },
    {
     "data": {
      "application/vnd.jupyter.widget-view+json": {
       "model_id": "49b0c73258e84b8bb801d7216c8430b2",
       "version_major": 2,
       "version_minor": 0
      },
      "text/plain": [
       "  0%|          | 0/8 [00:00<?, ?it/s]"
      ]
     },
     "metadata": {},
     "output_type": "display_data"
    },
    {
     "name": "stdout",
     "output_type": "stream",
     "text": [
      "Qubit  (0)\n",
      "ge fidelity (%): 79.00000000000004 \t angle (deg): 173.64818666522515 \t threshold ge: 187.36445002419222\n",
      "Qubit  (2)\n",
      "ge fidelity (%): 88.9494949494949 \t angle (deg): 172.82029322262701 \t threshold ge: 76.93565953985856\n",
      "Qubit  (3)\n",
      "ge fidelity (%): 84.94949494949495 \t angle (deg): -178.05206030733817 \t threshold ge: 102.01786848226587\n",
      "thresholds=[187.36445002419222, 0, 76.93565953985856, 102.01786848226587],\n",
      "angles=[173.64818666522515, 0, 172.82029322262701, -178.05206030733817],\n",
      "ge_avgs=[array([-124.81767728,  -92.1171563 , -291.93162808, -110.71968886]), [0, 0, 0, 0], array([ -11.87267499, -112.48038524, -125.36834509, -126.7773847 ]), array([ -54.63977539,   -2.24197266, -143.39516276,    0.77669271])] ,\n",
      "counts_calib=[[79, 5, 5, 1, 10, 0, 0, 0], [7, 67, 1, 14, 2, 9, 0, 0], [5, 0, 80, 4, 0, 0, 11, 0], [1, 7, 15, 67, 0, 1, 2, 7], [11, 1, 0, 0, 77, 3, 8, 0], [3, 8, 0, 0, 12, 67, 0, 10], [3, 0, 11, 0, 10, 2, 73, 1], [0, 2, 0, 6, 2, 9, 12, 69]]\n",
      "\n"
     ]
    },
    {
     "data": {
      "application/vnd.jupyter.widget-view+json": {
       "model_id": "d04d351fe73b444cbef66cc9b4432234",
       "version_major": 2,
       "version_minor": 0
      },
      "text/plain": [
       "  0%|          | 0/1 [00:00<?, ?it/s]"
      ]
     },
     "metadata": {},
     "output_type": "display_data"
    },
    {
     "data": {
      "application/vnd.jupyter.widget-view+json": {
       "model_id": "6fbb9bf0faf748beab2bb4455e8c0053",
       "version_major": 2,
       "version_minor": 0
      },
      "text/plain": [
       "  0%|          | 0/27 [00:00<?, ?it/s]"
      ]
     },
     "metadata": {},
     "output_type": "display_data"
    },
    {
     "name": "stdout",
     "output_type": "stream",
     "text": [
      "Saving S:\\QRAM\\qram_4QR2\\data\\data_250119\\00018_QramProtocol3QTomo.h5\n",
      "init_state |0+i>|0+i> play pulses [2, 1, 1, 2, 2, 1, 3, 4]\n",
      "timesteps [inf]\n"
     ]
    },
    {
     "data": {
      "application/vnd.jupyter.widget-view+json": {
       "model_id": "2a1497cdf8c74d53b177465b4f7e4e76",
       "version_major": 2,
       "version_minor": 0
      },
      "text/plain": [
       "  0%|          | 0/8 [00:00<?, ?it/s]"
      ]
     },
     "metadata": {},
     "output_type": "display_data"
    },
    {
     "name": "stdout",
     "output_type": "stream",
     "text": [
      "Qubit  (0)\n",
      "ge fidelity (%): 82.89898989898994 \t angle (deg): 170.19955275878937 \t threshold ge: 214.10099137875795\n",
      "Qubit  (2)\n",
      "ge fidelity (%): 78.00000000000006 \t angle (deg): 167.64588032415514 \t threshold ge: 82.20622841899788\n",
      "Qubit  (3)\n",
      "ge fidelity (%): 80.95959595959593 \t angle (deg): -176.17833882577867 \t threshold ge: 101.13683412650676\n",
      "thresholds=[214.10099137875795, 0, 82.20622841899788, 101.13683412650676],\n",
      "angles=[170.19955275878937, 0, 167.64588032415514, -176.17833882577867],\n",
      "ge_avgs=[array([-127.72891462,  -90.83051375, -294.00355282, -119.55246744]), [0, 0, 0, 0], array([ -11.88518177, -107.83629409, -124.70465003, -132.54657081]), array([ -55.26187174,   -4.26724284, -136.54483398,    1.16243164])] ,\n",
      "counts_calib=[[74, 5, 13, 0, 8, 0, 0, 0], [12, 76, 1, 6, 1, 4, 0, 0], [8, 1, 85, 4, 1, 0, 1, 0], [1, 10, 9, 74, 0, 0, 1, 5], [10, 0, 1, 0, 76, 2, 11, 0], [3, 8, 1, 1, 5, 70, 3, 9], [0, 0, 9, 0, 6, 1, 80, 4], [0, 2, 1, 5, 0, 10, 12, 70]]\n",
      "\n"
     ]
    },
    {
     "data": {
      "application/vnd.jupyter.widget-view+json": {
       "model_id": "b8bcf513fc2f4415a0d32e96fb116359",
       "version_major": 2,
       "version_minor": 0
      },
      "text/plain": [
       "  0%|          | 0/1 [00:00<?, ?it/s]"
      ]
     },
     "metadata": {},
     "output_type": "display_data"
    },
    {
     "data": {
      "application/vnd.jupyter.widget-view+json": {
       "model_id": "eecbf00013c24497b8e1ed7efbd75096",
       "version_major": 2,
       "version_minor": 0
      },
      "text/plain": [
       "  0%|          | 0/27 [00:00<?, ?it/s]"
      ]
     },
     "metadata": {},
     "output_type": "display_data"
    },
    {
     "name": "stdout",
     "output_type": "stream",
     "text": [
      "Saving S:\\QRAM\\qram_4QR2\\data\\data_250119\\00019_QramProtocol3QTomo.h5\n",
      "-------------------\n",
      "Starting iteration 1 for n_forward_backward 1\n"
     ]
    },
    {
     "data": {
      "application/vnd.jupyter.widget-view+json": {
       "model_id": "761619a529c84cb6b9f2adf5c20b00c8",
       "version_major": 2,
       "version_minor": 0
      },
      "text/plain": [
       "  0%|          | 0/16 [00:00<?, ?it/s]"
      ]
     },
     "metadata": {},
     "output_type": "display_data"
    },
    {
     "name": "stdout",
     "output_type": "stream",
     "text": [
      "init_state |0>|0> play pulses [2, 1, 1, 2, 2, 1, 3, 4]\n",
      "timesteps [inf]\n"
     ]
    },
    {
     "data": {
      "application/vnd.jupyter.widget-view+json": {
       "model_id": "334abe218e904ca0b2205b697c6a61d6",
       "version_major": 2,
       "version_minor": 0
      },
      "text/plain": [
       "  0%|          | 0/8 [00:00<?, ?it/s]"
      ]
     },
     "metadata": {},
     "output_type": "display_data"
    },
    {
     "name": "stdout",
     "output_type": "stream",
     "text": [
      "Qubit  (0)\n",
      "ge fidelity (%): 76.00000000000004 \t angle (deg): 169.2411707157394 \t threshold ge: 215.30441006958694\n",
      "Qubit  (2)\n",
      "ge fidelity (%): 76.76767676767676 \t angle (deg): 173.8030091557031 \t threshold ge: 76.0036357928755\n",
      "Qubit  (3)\n",
      "ge fidelity (%): 83.00000000000006 \t angle (deg): 179.13830990049425 \t threshold ge: 101.93425438722565\n",
      "thresholds=[215.30441006958694, 0, 76.0036357928755, 101.93425438722565],\n",
      "angles=[169.2411707157394, 0, 173.8030091557031, 179.13830990049425],\n",
      "ge_avgs=[array([-136.98567294,  -93.18150507, -283.49543415, -121.02064399]), [0, 0, 0, 0], array([  -7.55513836, -111.36385784, -119.56735757, -123.52632664]), array([ -56.28484701,   -0.6661849 , -133.77871094,   -1.83172852])] ,\n",
      "counts_calib=[[79, 3, 7, 1, 8, 1, 1, 0], [12, 80, 1, 5, 0, 2, 0, 0], [15, 0, 79, 1, 0, 0, 5, 0], [4, 5, 10, 76, 0, 1, 0, 4], [11, 2, 2, 0, 76, 2, 7, 0], [2, 9, 1, 2, 17, 61, 3, 5], [2, 0, 9, 1, 10, 0, 78, 0], [0, 2, 0, 6, 1, 10, 12, 69]]\n",
      "\n"
     ]
    },
    {
     "data": {
      "application/vnd.jupyter.widget-view+json": {
       "model_id": "9cd34d93f48e459286041460fa35ee4a",
       "version_major": 2,
       "version_minor": 0
      },
      "text/plain": [
       "  0%|          | 0/1 [00:00<?, ?it/s]"
      ]
     },
     "metadata": {},
     "output_type": "display_data"
    },
    {
     "data": {
      "application/vnd.jupyter.widget-view+json": {
       "model_id": "60f4059f79d546129dc43ed53acdd28e",
       "version_major": 2,
       "version_minor": 0
      },
      "text/plain": [
       "  0%|          | 0/27 [00:00<?, ?it/s]"
      ]
     },
     "metadata": {},
     "output_type": "display_data"
    },
    {
     "name": "stdout",
     "output_type": "stream",
     "text": [
      "Saving S:\\QRAM\\qram_4QR2\\data\\data_250119\\00020_QramProtocol3QTomo.h5\n",
      "init_state |0>|1> play pulses [2, 1, 1, 2, 2, 1, 3, 4]\n",
      "timesteps [inf]\n"
     ]
    },
    {
     "data": {
      "application/vnd.jupyter.widget-view+json": {
       "model_id": "eb99134d1eff4b6083c1da57cebb04bb",
       "version_major": 2,
       "version_minor": 0
      },
      "text/plain": [
       "  0%|          | 0/8 [00:00<?, ?it/s]"
      ]
     },
     "metadata": {},
     "output_type": "display_data"
    },
    {
     "name": "stdout",
     "output_type": "stream",
     "text": [
      "Qubit  (0)\n",
      "ge fidelity (%): 88.00000000000006 \t angle (deg): 167.13353453786408 \t threshold ge: 219.60272459825308\n",
      "Qubit  (2)\n",
      "ge fidelity (%): 84.8484848484848 \t angle (deg): 165.06438898491865 \t threshold ge: 77.74867610484172\n",
      "Qubit  (3)\n",
      "ge fidelity (%): 84.00000000000001 \t angle (deg): -178.5962389384211 \t threshold ge: 100.76710800418444\n",
      "thresholds=[219.60272459825308, 0, 77.74867610484172, 100.76710800418444],\n",
      "angles=[167.13353453786408, 0, 165.06438898491865, -178.5962389384211],\n",
      "ge_avgs=[array([-118.3651013 ,  -82.42452243, -305.87476122, -125.25447902]), [0, 0, 0, 0], array([   0.83789474, -100.75949539, -116.65978296, -132.1014216 ]), array([ -48.86302083,   -4.2863151 , -142.27793945,   -1.99716797])] ,\n",
      "counts_calib=[[81, 2, 12, 0, 3, 1, 1, 0], [9, 58, 3, 20, 1, 6, 1, 2], [3, 0, 83, 3, 0, 0, 10, 1], [0, 7, 10, 75, 0, 0, 0, 8], [6, 0, 2, 0, 77, 0, 14, 1], [1, 3, 0, 1, 16, 63, 2, 14], [1, 0, 6, 0, 5, 0, 82, 6], [0, 1, 2, 1, 2, 7, 15, 72]]\n",
      "\n"
     ]
    },
    {
     "data": {
      "application/vnd.jupyter.widget-view+json": {
       "model_id": "ea8039b021774129aca79ba3c4cdf353",
       "version_major": 2,
       "version_minor": 0
      },
      "text/plain": [
       "  0%|          | 0/1 [00:00<?, ?it/s]"
      ]
     },
     "metadata": {},
     "output_type": "display_data"
    },
    {
     "data": {
      "application/vnd.jupyter.widget-view+json": {
       "model_id": "3df419d35b4c496884256cfb4bae2a39",
       "version_major": 2,
       "version_minor": 0
      },
      "text/plain": [
       "  0%|          | 0/27 [00:00<?, ?it/s]"
      ]
     },
     "metadata": {},
     "output_type": "display_data"
    },
    {
     "name": "stdout",
     "output_type": "stream",
     "text": [
      "Saving S:\\QRAM\\qram_4QR2\\data\\data_250119\\00021_QramProtocol3QTomo.h5\n",
      "init_state |0>|0+1> play pulses [2, 1, 1, 2, 2, 1, 3, 4]\n",
      "timesteps [inf]\n"
     ]
    },
    {
     "data": {
      "application/vnd.jupyter.widget-view+json": {
       "model_id": "7a1b5e870f6f4cc5ac247857bc63eabc",
       "version_major": 2,
       "version_minor": 0
      },
      "text/plain": [
       "  0%|          | 0/8 [00:00<?, ?it/s]"
      ]
     },
     "metadata": {},
     "output_type": "display_data"
    },
    {
     "name": "stdout",
     "output_type": "stream",
     "text": [
      "Qubit  (0)\n",
      "ge fidelity (%): 92.95959595959593 \t angle (deg): 169.0644648921069 \t threshold ge: 222.68445589774328\n",
      "Qubit  (2)\n",
      "ge fidelity (%): 80.00000000000004 \t angle (deg): 179.75635396657813 \t threshold ge: 59.97932523550021\n",
      "Qubit  (3)\n",
      "ge fidelity (%): 76.00000000000004 \t angle (deg): 176.3740641807932 \t threshold ge: 87.34479099178611\n",
      "thresholds=[222.68445589774328, 0, 59.97932523550021, 87.34479099178611],\n",
      "angles=[169.0644648921069, 0, 179.75635396657813, 176.3740641807932],\n",
      "ge_avgs=[array([-119.46919682,  -92.97171491, -304.28745297, -128.68099132]), [0, 0, 0, 0], array([  -1.39080304, -117.04571894, -118.94453066, -117.54561042]), array([ -51.31961914,   -1.14166667, -124.91375651,   -5.80526367])] ,\n",
      "counts_calib=[[81, 5, 9, 0, 3, 1, 1, 0], [18, 62, 0, 12, 1, 6, 0, 1], [10, 1, 79, 4, 0, 0, 6, 0], [0, 9, 12, 70, 1, 0, 0, 8], [2, 0, 1, 0, 79, 8, 10, 0], [7, 7, 0, 1, 8, 69, 1, 7], [2, 0, 6, 5, 12, 1, 66, 8], [1, 0, 1, 10, 0, 6, 9, 73]]\n",
      "\n"
     ]
    },
    {
     "data": {
      "application/vnd.jupyter.widget-view+json": {
       "model_id": "b1d1f6bd32004ed3953b32e6750eedc0",
       "version_major": 2,
       "version_minor": 0
      },
      "text/plain": [
       "  0%|          | 0/1 [00:00<?, ?it/s]"
      ]
     },
     "metadata": {},
     "output_type": "display_data"
    },
    {
     "data": {
      "application/vnd.jupyter.widget-view+json": {
       "model_id": "4e2898fad0044ff5b39aac7e71dc6ad1",
       "version_major": 2,
       "version_minor": 0
      },
      "text/plain": [
       "  0%|          | 0/27 [00:00<?, ?it/s]"
      ]
     },
     "metadata": {},
     "output_type": "display_data"
    },
    {
     "name": "stdout",
     "output_type": "stream",
     "text": [
      "Saving S:\\QRAM\\qram_4QR2\\data\\data_250119\\00022_QramProtocol3QTomo.h5\n",
      "init_state |0>|0+i> play pulses [2, 1, 1, 2, 2, 1, 3, 4]\n",
      "timesteps [inf]\n"
     ]
    },
    {
     "data": {
      "application/vnd.jupyter.widget-view+json": {
       "model_id": "d17845c1e07b4bf0b4f75bd090338e34",
       "version_major": 2,
       "version_minor": 0
      },
      "text/plain": [
       "  0%|          | 0/8 [00:00<?, ?it/s]"
      ]
     },
     "metadata": {},
     "output_type": "display_data"
    },
    {
     "name": "stdout",
     "output_type": "stream",
     "text": [
      "Qubit  (0)\n",
      "ge fidelity (%): 88.98989898989899 \t angle (deg): 168.79026705936516 \t threshold ge: 216.02120341137564\n",
      "Qubit  (2)\n",
      "ge fidelity (%): 84.00000000000006 \t angle (deg): 168.12239935415073 \t threshold ge: 91.01974531439252\n",
      "Qubit  (3)\n",
      "ge fidelity (%): 84.00000000000006 \t angle (deg): 177.53756436598076 \t threshold ge: 92.5577726642283\n",
      "thresholds=[216.02120341137564, 0, 91.01974531439252, 92.5577726642283],\n",
      "angles=[168.79026705936516, 0, 168.12239935415073, 177.53756436598076],\n",
      "ge_avgs=[array([-129.52884949,  -87.45484805, -310.66467438, -123.35268452]), [0, 0, 0, 0], array([  -5.06752035, -107.23564297, -120.92549105, -131.60344547]), array([ -51.41492187,    0.56530599, -137.30329753,   -3.12824544])] ,\n",
      "counts_calib=[[88, 5, 5, 0, 1, 0, 1, 0], [10, 73, 2, 9, 0, 5, 0, 1], [10, 1, 78, 2, 0, 0, 9, 0], [1, 11, 10, 72, 0, 2, 1, 3], [9, 0, 1, 0, 75, 5, 9, 1], [0, 9, 0, 1, 16, 69, 0, 5], [0, 0, 4, 4, 13, 0, 76, 3], [2, 0, 2, 9, 4, 10, 10, 63]]\n",
      "\n"
     ]
    },
    {
     "data": {
      "application/vnd.jupyter.widget-view+json": {
       "model_id": "795891b007ea40d79be3c3adf9d57c87",
       "version_major": 2,
       "version_minor": 0
      },
      "text/plain": [
       "  0%|          | 0/1 [00:00<?, ?it/s]"
      ]
     },
     "metadata": {},
     "output_type": "display_data"
    },
    {
     "data": {
      "application/vnd.jupyter.widget-view+json": {
       "model_id": "de1eeccab9874845a0bca02916bb5ea5",
       "version_major": 2,
       "version_minor": 0
      },
      "text/plain": [
       "  0%|          | 0/27 [00:00<?, ?it/s]"
      ]
     },
     "metadata": {},
     "output_type": "display_data"
    },
    {
     "name": "stdout",
     "output_type": "stream",
     "text": [
      "Saving S:\\QRAM\\qram_4QR2\\data\\data_250119\\00023_QramProtocol3QTomo.h5\n",
      "init_state |1>|0> play pulses [2, 1, 1, 2, 2, 1, 3, 4]\n",
      "timesteps [inf]\n"
     ]
    },
    {
     "data": {
      "application/vnd.jupyter.widget-view+json": {
       "model_id": "af8d0e07707a41adb0ad1e12f235566f",
       "version_major": 2,
       "version_minor": 0
      },
      "text/plain": [
       "  0%|          | 0/8 [00:00<?, ?it/s]"
      ]
     },
     "metadata": {},
     "output_type": "display_data"
    },
    {
     "name": "stdout",
     "output_type": "stream",
     "text": [
      "Qubit  (0)\n",
      "ge fidelity (%): 87.94949494949493 \t angle (deg): 167.9986585612956 \t threshold ge: 236.98010056445912\n",
      "Qubit  (2)\n",
      "ge fidelity (%): 81.95959595959592 \t angle (deg): 169.76305269867984 \t threshold ge: 93.3525140110332\n",
      "Qubit  (3)\n",
      "ge fidelity (%): 85.00000000000006 \t angle (deg): 179.7740872541411 \t threshold ge: 91.16102358145274\n",
      "thresholds=[236.98010056445912, 0, 93.3525140110332, 91.16102358145274],\n",
      "angles=[167.9986585612956, 0, 169.76305269867984, 179.7740872541411],\n",
      "ge_avgs=[array([-133.65332851,  -85.50955137, -304.9130246 , -121.91611433]), [0, 0, 0, 0], array([  -2.25231687, -111.38948996, -119.5207108 , -132.56748237]), array([ -52.99080404,   -1.23606771, -133.35675456,   -1.55294596])] ,\n",
      "counts_calib=[[82, 7, 5, 0, 6, 0, 0, 0], [9, 77, 1, 6, 0, 7, 0, 0], [13, 0, 72, 7, 0, 0, 8, 0], [3, 11, 9, 73, 0, 1, 0, 3], [7, 0, 0, 0, 79, 7, 7, 0], [0, 12, 0, 1, 10, 73, 0, 4], [0, 0, 7, 2, 18, 0, 69, 4], [1, 0, 3, 6, 2, 18, 8, 62]]\n",
      "\n"
     ]
    },
    {
     "data": {
      "application/vnd.jupyter.widget-view+json": {
       "model_id": "9097b8da47d046138dcafd1d72f56d11",
       "version_major": 2,
       "version_minor": 0
      },
      "text/plain": [
       "  0%|          | 0/1 [00:00<?, ?it/s]"
      ]
     },
     "metadata": {},
     "output_type": "display_data"
    },
    {
     "data": {
      "application/vnd.jupyter.widget-view+json": {
       "model_id": "a48839a791d448479f1ba99cdd8337d7",
       "version_major": 2,
       "version_minor": 0
      },
      "text/plain": [
       "  0%|          | 0/27 [00:00<?, ?it/s]"
      ]
     },
     "metadata": {},
     "output_type": "display_data"
    },
    {
     "name": "stdout",
     "output_type": "stream",
     "text": [
      "Saving S:\\QRAM\\qram_4QR2\\data\\data_250119\\00024_QramProtocol3QTomo.h5\n",
      "init_state |1>|1> play pulses [2, 1, 1, 2, 2, 1, 3, 4]\n",
      "timesteps [inf]\n"
     ]
    },
    {
     "data": {
      "application/vnd.jupyter.widget-view+json": {
       "model_id": "8256c7fb853e4024a14133f175e299f6",
       "version_major": 2,
       "version_minor": 0
      },
      "text/plain": [
       "  0%|          | 0/8 [00:00<?, ?it/s]"
      ]
     },
     "metadata": {},
     "output_type": "display_data"
    },
    {
     "name": "stdout",
     "output_type": "stream",
     "text": [
      "Qubit  (0)\n",
      "ge fidelity (%): 95.99999999999996 \t angle (deg): 168.40762574455104 \t threshold ge: 217.19169364794433\n",
      "Qubit  (2)\n",
      "ge fidelity (%): 77.95959595959589 \t angle (deg): 166.52193052999897 \t threshold ge: 95.89533877751458\n",
      "Qubit  (3)\n",
      "ge fidelity (%): 80.00000000000004 \t angle (deg): 175.05694976050364 \t threshold ge: 86.33313076553777\n",
      "thresholds=[217.19169364794433, 0, 95.89533877751458, 86.33313076553777],\n",
      "angles=[168.40762574455104, 0, 166.52193052999897, 175.05694976050364],\n",
      "ge_avgs=[array([-110.15962373,  -85.87969609, -312.28964544, -127.34299566]), [0, 0, 0, 0], array([  -8.52597396, -108.81439501, -107.1359197 , -132.44863266]), array([ -51.14050456,   -0.65460286, -131.60800781,   -7.61401042])] ,\n",
      "counts_calib=[[84, 10, 5, 0, 1, 0, 0, 0], [12, 82, 0, 3, 0, 1, 0, 2], [16, 1, 69, 11, 1, 0, 2, 0], [0, 5, 8, 85, 0, 0, 0, 2], [4, 0, 0, 0, 86, 5, 4, 1], [1, 7, 0, 2, 7, 77, 1, 5], [1, 0, 2, 2, 12, 1, 78, 4], [0, 0, 0, 4, 2, 10, 9, 75]]\n",
      "\n"
     ]
    },
    {
     "data": {
      "application/vnd.jupyter.widget-view+json": {
       "model_id": "b25f40181ec44f54ad5fa2373b1e7884",
       "version_major": 2,
       "version_minor": 0
      },
      "text/plain": [
       "  0%|          | 0/1 [00:00<?, ?it/s]"
      ]
     },
     "metadata": {},
     "output_type": "display_data"
    },
    {
     "data": {
      "application/vnd.jupyter.widget-view+json": {
       "model_id": "47ac62cc86694c138ca961697c99429d",
       "version_major": 2,
       "version_minor": 0
      },
      "text/plain": [
       "  0%|          | 0/27 [00:00<?, ?it/s]"
      ]
     },
     "metadata": {},
     "output_type": "display_data"
    },
    {
     "name": "stdout",
     "output_type": "stream",
     "text": [
      "Saving S:\\QRAM\\qram_4QR2\\data\\data_250119\\00025_QramProtocol3QTomo.h5\n",
      "init_state |1>|0+1> play pulses [2, 1, 1, 2, 2, 1, 3, 4]\n",
      "timesteps [inf]\n"
     ]
    },
    {
     "data": {
      "application/vnd.jupyter.widget-view+json": {
       "model_id": "5b51b9b293524e9a8d41abc45997fbe4",
       "version_major": 2,
       "version_minor": 0
      },
      "text/plain": [
       "  0%|          | 0/8 [00:00<?, ?it/s]"
      ]
     },
     "metadata": {},
     "output_type": "display_data"
    },
    {
     "name": "stdout",
     "output_type": "stream",
     "text": [
      "Qubit  (0)\n",
      "ge fidelity (%): 83.98989898989896 \t angle (deg): 173.21074389076756 \t threshold ge: 216.86073437836632\n",
      "Qubit  (2)\n",
      "ge fidelity (%): 78.91919191919186 \t angle (deg): 173.0034317522165 \t threshold ge: 72.03233534997491\n",
      "Qubit  (3)\n",
      "ge fidelity (%): 86.97979797979791 \t angle (deg): -179.66048098557172 \t threshold ge: 112.51530564489649\n",
      "thresholds=[216.86073437836632, 0, 72.03233534997491, 112.51530564489649],\n",
      "angles=[173.21074389076756, 0, 173.0034317522165, -179.66048098557172],\n",
      "ge_avgs=[array([-123.26052098,  -94.37591896, -299.05780753, -115.30504342]), [0, 0, 0, 0], array([  -8.42933261, -116.85138904, -112.36743896, -129.60706457]), array([ -50.87801758,   -2.26776367, -147.59116862,   -1.69466146])] ,\n",
      "counts_calib=[[87, 2, 9, 0, 1, 1, 0, 0], [10, 79, 1, 7, 0, 3, 0, 0], [13, 0, 84, 0, 0, 0, 3, 0], [1, 11, 22, 64, 0, 0, 0, 2], [12, 0, 3, 0, 76, 0, 9, 0], [2, 6, 0, 0, 12, 65, 2, 13], [2, 0, 8, 0, 8, 0, 79, 3], [0, 3, 2, 5, 2, 11, 13, 64]]\n",
      "\n"
     ]
    },
    {
     "data": {
      "application/vnd.jupyter.widget-view+json": {
       "model_id": "8bbab6b3c7c441bc8d4d8dc31a15ac07",
       "version_major": 2,
       "version_minor": 0
      },
      "text/plain": [
       "  0%|          | 0/1 [00:00<?, ?it/s]"
      ]
     },
     "metadata": {},
     "output_type": "display_data"
    },
    {
     "data": {
      "application/vnd.jupyter.widget-view+json": {
       "model_id": "f45b263476f3475fbb5a02b7b3cd7a0d",
       "version_major": 2,
       "version_minor": 0
      },
      "text/plain": [
       "  0%|          | 0/27 [00:00<?, ?it/s]"
      ]
     },
     "metadata": {},
     "output_type": "display_data"
    },
    {
     "name": "stdout",
     "output_type": "stream",
     "text": [
      "Saving S:\\QRAM\\qram_4QR2\\data\\data_250119\\00026_QramProtocol3QTomo.h5\n",
      "init_state |1>|0+i> play pulses [2, 1, 1, 2, 2, 1, 3, 4]\n",
      "timesteps [inf]\n"
     ]
    },
    {
     "data": {
      "application/vnd.jupyter.widget-view+json": {
       "model_id": "5c1984dae283464c95053b7e865bc45e",
       "version_major": 2,
       "version_minor": 0
      },
      "text/plain": [
       "  0%|          | 0/8 [00:00<?, ?it/s]"
      ]
     },
     "metadata": {},
     "output_type": "display_data"
    },
    {
     "name": "stdout",
     "output_type": "stream",
     "text": [
      "Qubit  (0)\n",
      "ge fidelity (%): 89.97979797979794 \t angle (deg): 166.08290622793805 \t threshold ge: 229.47613238904188\n",
      "Qubit  (2)\n",
      "ge fidelity (%): 80.00000000000004 \t angle (deg): 172.88950295588495 \t threshold ge: 98.10685885340075\n",
      "Qubit  (3)\n",
      "ge fidelity (%): 83.00000000000006 \t angle (deg): -174.4666890417681 \t threshold ge: 100.17175666377454\n",
      "thresholds=[229.47613238904188, 0, 98.10685885340075, 100.17175666377454],\n",
      "angles=[166.08290622793805, 0, 172.88950295588495, -174.4666890417681],\n",
      "ge_avgs=[array([-122.39044863,  -80.00486975, -320.18230825, -129.01603473]), [0, 0, 0, 0], array([  -9.55055887, -117.08078676, -114.06412371, -130.11808464]), array([ -54.50832031,   -5.45418945, -133.30170898,    2.17898763])] ,\n",
      "counts_calib=[[91, 1, 5, 0, 2, 1, 0, 0], [13, 75, 0, 4, 3, 5, 0, 0], [13, 2, 77, 3, 1, 0, 4, 0], [2, 19, 10, 63, 1, 1, 1, 3], [7, 0, 1, 0, 87, 3, 2, 0], [1, 6, 1, 0, 19, 68, 0, 5], [1, 0, 5, 0, 15, 1, 76, 2], [0, 1, 1, 8, 2, 20, 8, 60]]\n",
      "\n"
     ]
    },
    {
     "data": {
      "application/vnd.jupyter.widget-view+json": {
       "model_id": "f7656273c4834419b85bef2a7cc03879",
       "version_major": 2,
       "version_minor": 0
      },
      "text/plain": [
       "  0%|          | 0/1 [00:00<?, ?it/s]"
      ]
     },
     "metadata": {},
     "output_type": "display_data"
    },
    {
     "data": {
      "application/vnd.jupyter.widget-view+json": {
       "model_id": "e074f32cd0c54a6d855a35ce0d579b58",
       "version_major": 2,
       "version_minor": 0
      },
      "text/plain": [
       "  0%|          | 0/27 [00:00<?, ?it/s]"
      ]
     },
     "metadata": {},
     "output_type": "display_data"
    },
    {
     "name": "stdout",
     "output_type": "stream",
     "text": [
      "Saving S:\\QRAM\\qram_4QR2\\data\\data_250119\\00027_QramProtocol3QTomo.h5\n",
      "init_state |0+1>|0> play pulses [2, 1, 1, 2, 2, 1, 3, 4]\n",
      "timesteps [inf]\n"
     ]
    },
    {
     "data": {
      "application/vnd.jupyter.widget-view+json": {
       "model_id": "3a7db8efcef74f41be03c884c63e6d8b",
       "version_major": 2,
       "version_minor": 0
      },
      "text/plain": [
       "  0%|          | 0/8 [00:00<?, ?it/s]"
      ]
     },
     "metadata": {},
     "output_type": "display_data"
    },
    {
     "name": "stdout",
     "output_type": "stream",
     "text": [
      "Qubit  (0)\n",
      "ge fidelity (%): 85.97979797979797 \t angle (deg): 170.1391330113592 \t threshold ge: 213.84011746707046\n",
      "Qubit  (2)\n",
      "ge fidelity (%): 86.00000000000003 \t angle (deg): 169.34018556440805 \t threshold ge: 80.89570270655946\n",
      "Qubit  (3)\n",
      "ge fidelity (%): 79.87878787878793 \t angle (deg): -176.54833134845032 \t threshold ge: 79.62091554964735\n",
      "thresholds=[213.84011746707046, 0, 80.89570270655946, 79.62091554964735],\n",
      "angles=[170.1391330113592, 0, 169.34018556440805, -176.54833134845032],\n",
      "ge_avgs=[array([-123.6541534 ,  -91.16544139, -289.13975398, -119.9308466 ]), [0, 0, 0, 0], array([  -0.48722735, -105.37285947, -120.77588714, -128.01427021]), array([ -50.02938477,   -4.61724609, -130.45670247,    0.23380534])] ,\n",
      "counts_calib=[[80, 8, 8, 1, 3, 0, 0, 0], [12, 69, 1, 12, 0, 6, 0, 0], [4, 2, 73, 13, 0, 0, 7, 1], [1, 6, 6, 77, 1, 1, 1, 7], [10, 1, 0, 1, 66, 9, 12, 1], [1, 7, 0, 1, 9, 72, 0, 10], [2, 0, 6, 1, 10, 4, 64, 13], [0, 1, 1, 13, 1, 4, 10, 70]]\n",
      "\n"
     ]
    },
    {
     "data": {
      "application/vnd.jupyter.widget-view+json": {
       "model_id": "d5e342a8f7fd4956ae967e5ae9d58862",
       "version_major": 2,
       "version_minor": 0
      },
      "text/plain": [
       "  0%|          | 0/1 [00:00<?, ?it/s]"
      ]
     },
     "metadata": {},
     "output_type": "display_data"
    },
    {
     "data": {
      "application/vnd.jupyter.widget-view+json": {
       "model_id": "4ce24f0e7ab34f4aa5b13caae5fccd60",
       "version_major": 2,
       "version_minor": 0
      },
      "text/plain": [
       "  0%|          | 0/27 [00:00<?, ?it/s]"
      ]
     },
     "metadata": {},
     "output_type": "display_data"
    },
    {
     "name": "stdout",
     "output_type": "stream",
     "text": [
      "Saving S:\\QRAM\\qram_4QR2\\data\\data_250119\\00028_QramProtocol3QTomo.h5\n",
      "init_state |0+1>|1> play pulses [2, 1, 1, 2, 2, 1, 3, 4]\n",
      "timesteps [inf]\n"
     ]
    },
    {
     "data": {
      "application/vnd.jupyter.widget-view+json": {
       "model_id": "a7f2a61f5e37481cb77d89e221904e0d",
       "version_major": 2,
       "version_minor": 0
      },
      "text/plain": [
       "  0%|          | 0/8 [00:00<?, ?it/s]"
      ]
     },
     "metadata": {},
     "output_type": "display_data"
    },
    {
     "name": "stdout",
     "output_type": "stream",
     "text": [
      "Qubit  (0)\n",
      "ge fidelity (%): 87.00000000000006 \t angle (deg): 170.12704465360886 \t threshold ge: 243.47828890293036\n",
      "Qubit  (2)\n",
      "ge fidelity (%): 84.00000000000006 \t angle (deg): 172.85151855515247 \t threshold ge: 79.4480339274209\n",
      "Qubit  (3)\n",
      "ge fidelity (%): 87.00000000000006 \t angle (deg): 179.61502204896192 \t threshold ge: 86.8026795908004\n",
      "thresholds=[243.47828890293036, 0, 79.4480339274209, 86.8026795908004],\n",
      "angles=[170.12704465360886, 0, 172.85151855515247, 179.61502204896192],\n",
      "ge_avgs=[array([-121.28645441,  -90.28992041, -293.5801013 , -120.27617945]), [0, 0, 0, 0], array([ -10.19247965, -111.98428106, -126.57822572, -126.58091156]), array([ -52.04471354,   -3.95010091, -135.30034505,   -4.50951497])] ,\n",
      "counts_calib=[[85, 5, 7, 0, 2, 0, 1, 0], [8, 83, 1, 5, 0, 3, 0, 0], [8, 1, 80, 7, 0, 0, 4, 0], [6, 11, 11, 72, 0, 0, 0, 0], [9, 1, 1, 0, 75, 4, 8, 2], [1, 12, 1, 1, 10, 68, 1, 6], [1, 0, 17, 1, 10, 2, 62, 7], [0, 1, 2, 15, 1, 11, 9, 61]]\n",
      "\n"
     ]
    },
    {
     "data": {
      "application/vnd.jupyter.widget-view+json": {
       "model_id": "b22778f1a41f418a9dec045873c1005d",
       "version_major": 2,
       "version_minor": 0
      },
      "text/plain": [
       "  0%|          | 0/1 [00:00<?, ?it/s]"
      ]
     },
     "metadata": {},
     "output_type": "display_data"
    },
    {
     "data": {
      "application/vnd.jupyter.widget-view+json": {
       "model_id": "292212dfe3ee40adbce1565d119c874f",
       "version_major": 2,
       "version_minor": 0
      },
      "text/plain": [
       "  0%|          | 0/27 [00:00<?, ?it/s]"
      ]
     },
     "metadata": {},
     "output_type": "display_data"
    },
    {
     "name": "stdout",
     "output_type": "stream",
     "text": [
      "Saving S:\\QRAM\\qram_4QR2\\data\\data_250119\\00029_QramProtocol3QTomo.h5\n",
      "init_state |0+1>|0+1> play pulses [2, 1, 1, 2, 2, 1, 3, 4]\n",
      "timesteps [inf]\n"
     ]
    },
    {
     "data": {
      "application/vnd.jupyter.widget-view+json": {
       "model_id": "bf8079f457af405bba0caab26b5a0749",
       "version_major": 2,
       "version_minor": 0
      },
      "text/plain": [
       "  0%|          | 0/8 [00:00<?, ?it/s]"
      ]
     },
     "metadata": {},
     "output_type": "display_data"
    },
    {
     "name": "stdout",
     "output_type": "stream",
     "text": [
      "Qubit  (0)\n",
      "ge fidelity (%): 83.92929292929293 \t angle (deg): 168.7486854463839 \t threshold ge: 177.68610058049438\n",
      "Qubit  (2)\n",
      "ge fidelity (%): 82.00000000000004 \t angle (deg): 174.08897138744663 \t threshold ge: 85.64069239897682\n",
      "Qubit  (3)\n",
      "ge fidelity (%): 82.00000000000006 \t angle (deg): -179.0915876729351 \t threshold ge: 86.09182554250283\n",
      "thresholds=[177.68610058049438, 0, 85.64069239897682, 86.09182554250283],\n",
      "angles=[168.7486854463839, 0, 174.08897138744663, -179.0915876729351],\n",
      "ge_avgs=[array([-120.43982634,  -86.4398191 , -294.32596237, -121.03206946]), [0, 0, 0, 0], array([ -17.02784048, -113.06208356, -131.07037439, -124.86941942]), array([ -51.34734701,   -4.15547852, -135.48102214,   -2.82144531])] ,\n",
      "counts_calib=[[74, 6, 11, 1, 8, 0, 0, 0], [10, 64, 1, 8, 2, 13, 0, 2], [6, 1, 70, 5, 2, 0, 13, 3], [0, 13, 7, 69, 0, 0, 2, 9], [7, 1, 1, 0, 72, 6, 10, 3], [1, 8, 0, 2, 8, 74, 1, 6], [2, 0, 5, 0, 11, 0, 73, 9], [0, 0, 2, 6, 3, 9, 13, 67]]\n",
      "\n"
     ]
    },
    {
     "data": {
      "application/vnd.jupyter.widget-view+json": {
       "model_id": "22f5b2d228244aa2bfb70a0fee76af62",
       "version_major": 2,
       "version_minor": 0
      },
      "text/plain": [
       "  0%|          | 0/1 [00:00<?, ?it/s]"
      ]
     },
     "metadata": {},
     "output_type": "display_data"
    },
    {
     "data": {
      "application/vnd.jupyter.widget-view+json": {
       "model_id": "df3c1445f08b4d8fbf959d183ffa033f",
       "version_major": 2,
       "version_minor": 0
      },
      "text/plain": [
       "  0%|          | 0/27 [00:00<?, ?it/s]"
      ]
     },
     "metadata": {},
     "output_type": "display_data"
    },
    {
     "name": "stdout",
     "output_type": "stream",
     "text": [
      "Saving S:\\QRAM\\qram_4QR2\\data\\data_250119\\00030_QramProtocol3QTomo.h5\n",
      "init_state |0+1>|0+i> play pulses [2, 1, 1, 2, 2, 1, 3, 4]\n",
      "timesteps [inf]\n"
     ]
    },
    {
     "data": {
      "application/vnd.jupyter.widget-view+json": {
       "model_id": "b5f41ce6fa0a4f819efa128b57e2cd60",
       "version_major": 2,
       "version_minor": 0
      },
      "text/plain": [
       "  0%|          | 0/8 [00:00<?, ?it/s]"
      ]
     },
     "metadata": {},
     "output_type": "display_data"
    },
    {
     "name": "stdout",
     "output_type": "stream",
     "text": [
      "Qubit  (0)\n",
      "ge fidelity (%): 83.9494949494949 \t angle (deg): 167.16797125230568 \t threshold ge: 242.96710057743383\n",
      "Qubit  (2)\n",
      "ge fidelity (%): 77.00000000000004 \t angle (deg): 173.84179921393323 \t threshold ge: 61.70882103571748\n",
      "Qubit  (3)\n",
      "ge fidelity (%): 83.93939393939391 \t angle (deg): 177.215731882046 \t threshold ge: 88.46190102594218\n",
      "thresholds=[242.96710057743383, 0, 61.70882103571748, 88.46190102594218],\n",
      "angles=[167.16797125230568, 0, 173.84179921393323, 177.215731882046],\n",
      "ge_avgs=[array([-119.84991317,  -86.25657019, -299.37630246, -127.1495152 ]), [0, 0, 0, 0], array([  -8.08953337, -106.19023874, -113.52077591, -117.5659197 ]), array([ -55.7430599 ,   -0.47033203, -137.97531901,   -4.46952799])] ,\n",
      "counts_calib=[[78, 5, 10, 1, 2, 2, 2, 0], [9, 71, 1, 13, 0, 6, 0, 0], [10, 0, 78, 7, 1, 0, 4, 0], [2, 8, 12, 75, 0, 0, 1, 2], [10, 0, 1, 0, 69, 7, 12, 1], [5, 6, 0, 5, 6, 62, 3, 13], [0, 0, 9, 0, 6, 0, 77, 8], [0, 1, 1, 15, 3, 6, 9, 65]]\n",
      "\n"
     ]
    },
    {
     "data": {
      "application/vnd.jupyter.widget-view+json": {
       "model_id": "0294e5de8cfb4b12944b356353510dd2",
       "version_major": 2,
       "version_minor": 0
      },
      "text/plain": [
       "  0%|          | 0/1 [00:00<?, ?it/s]"
      ]
     },
     "metadata": {},
     "output_type": "display_data"
    },
    {
     "data": {
      "application/vnd.jupyter.widget-view+json": {
       "model_id": "2065857b2d544c3597d24f8f5b58875e",
       "version_major": 2,
       "version_minor": 0
      },
      "text/plain": [
       "  0%|          | 0/27 [00:00<?, ?it/s]"
      ]
     },
     "metadata": {},
     "output_type": "display_data"
    },
    {
     "name": "stdout",
     "output_type": "stream",
     "text": [
      "Saving S:\\QRAM\\qram_4QR2\\data\\data_250119\\00031_QramProtocol3QTomo.h5\n",
      "init_state |0+i>|0> play pulses [2, 1, 1, 2, 2, 1, 3, 4]\n",
      "timesteps [inf]\n"
     ]
    },
    {
     "data": {
      "application/vnd.jupyter.widget-view+json": {
       "model_id": "693a5c3e69ca4173857662bc3937a8bb",
       "version_major": 2,
       "version_minor": 0
      },
      "text/plain": [
       "  0%|          | 0/8 [00:00<?, ?it/s]"
      ]
     },
     "metadata": {},
     "output_type": "display_data"
    },
    {
     "name": "stdout",
     "output_type": "stream",
     "text": [
      "Qubit  (0)\n",
      "ge fidelity (%): 91.00000000000004 \t angle (deg): 169.6226422526989 \t threshold ge: 227.37886190886178\n",
      "Qubit  (2)\n",
      "ge fidelity (%): 82.00000000000006 \t angle (deg): 174.04889899006304 \t threshold ge: 79.36360939568002\n",
      "Qubit  (3)\n",
      "ge fidelity (%): 86.92929292929297 \t angle (deg): -176.85058938825867 \t threshold ge: 83.67594127207674\n",
      "thresholds=[227.37886190886178, 0, 79.36360939568002, 83.67594127207674],\n",
      "angles=[169.6226422526989, 0, 174.04889899006304, -176.85058938825867],\n",
      "ge_avgs=[array([-124.89426918,  -90.41691751, -307.86339363, -123.92329957]), [0, 0, 0, 0], array([  -4.71824742, -109.73406945, -126.86076506, -122.4663809 ]), array([ -54.68589193,   -7.10442383, -137.10299479,   -2.56958659])] ,\n",
      "counts_calib=[[80, 8, 7, 0, 3, 2, 0, 0], [7, 85, 0, 6, 1, 0, 0, 1], [11, 0, 77, 9, 1, 0, 2, 0], [4, 8, 11, 72, 0, 0, 0, 5], [5, 0, 0, 0, 74, 11, 9, 1], [2, 7, 0, 1, 6, 73, 0, 11], [0, 0, 8, 0, 10, 2, 70, 10], [4, 2, 0, 7, 1, 6, 13, 67]]\n",
      "\n"
     ]
    },
    {
     "data": {
      "application/vnd.jupyter.widget-view+json": {
       "model_id": "74a974a9ba794cf6ab045d5a43b5e6a0",
       "version_major": 2,
       "version_minor": 0
      },
      "text/plain": [
       "  0%|          | 0/1 [00:00<?, ?it/s]"
      ]
     },
     "metadata": {},
     "output_type": "display_data"
    },
    {
     "data": {
      "application/vnd.jupyter.widget-view+json": {
       "model_id": "25136d1af213499ea2e0d9ffd696901d",
       "version_major": 2,
       "version_minor": 0
      },
      "text/plain": [
       "  0%|          | 0/27 [00:00<?, ?it/s]"
      ]
     },
     "metadata": {},
     "output_type": "display_data"
    },
    {
     "name": "stdout",
     "output_type": "stream",
     "text": [
      "Saving S:\\QRAM\\qram_4QR2\\data\\data_250119\\00032_QramProtocol3QTomo.h5\n",
      "init_state |0+i>|1> play pulses [2, 1, 1, 2, 2, 1, 3, 4]\n",
      "timesteps [inf]\n"
     ]
    },
    {
     "data": {
      "application/vnd.jupyter.widget-view+json": {
       "model_id": "dd861311f8204e8aab2c60aeb620ae49",
       "version_major": 2,
       "version_minor": 0
      },
      "text/plain": [
       "  0%|          | 0/8 [00:00<?, ?it/s]"
      ]
     },
     "metadata": {},
     "output_type": "display_data"
    },
    {
     "name": "stdout",
     "output_type": "stream",
     "text": [
      "Qubit  (0)\n",
      "ge fidelity (%): 90.00000000000004 \t angle (deg): 167.6115765577805 \t threshold ge: 210.8315652909765\n",
      "Qubit  (2)\n",
      "ge fidelity (%): 78.00000000000004 \t angle (deg): 175.17786563904397 \t threshold ge: 73.45045219586115\n",
      "Qubit  (3)\n",
      "ge fidelity (%): 81.00000000000006 \t angle (deg): -177.15942986349367 \t threshold ge: 84.19400951429213\n",
      "thresholds=[210.8315652909765, 0, 73.45045219586115, 84.19400951429213],\n",
      "angles=[167.6115765577805, 0, 175.17786563904397, -177.15942986349367],\n",
      "ge_avgs=[array([-120.41913169,  -85.60420405, -305.50526773, -126.25882779]), [0, 0, 0, 0], array([ -11.67488334, -110.3052089 , -115.51963104, -119.06569723]), array([ -55.61689779,   -4.18419922, -130.4827474 ,   -0.46950846])] ,\n",
      "counts_calib=[[75, 7, 12, 1, 5, 0, 0, 0], [9, 77, 2, 6, 1, 5, 0, 0], [8, 0, 80, 9, 2, 0, 1, 0], [3, 9, 13, 67, 0, 1, 1, 6], [5, 0, 1, 0, 71, 11, 11, 1], [3, 8, 0, 2, 5, 75, 0, 7], [2, 1, 10, 0, 8, 4, 65, 10], [0, 2, 1, 5, 1, 9, 9, 73]]\n",
      "\n"
     ]
    },
    {
     "data": {
      "application/vnd.jupyter.widget-view+json": {
       "model_id": "d6fedc1246db452fa46f195cfaddbb54",
       "version_major": 2,
       "version_minor": 0
      },
      "text/plain": [
       "  0%|          | 0/1 [00:00<?, ?it/s]"
      ]
     },
     "metadata": {},
     "output_type": "display_data"
    },
    {
     "data": {
      "application/vnd.jupyter.widget-view+json": {
       "model_id": "2c322cbc194f4af591367a09f4d7cbf1",
       "version_major": 2,
       "version_minor": 0
      },
      "text/plain": [
       "  0%|          | 0/27 [00:00<?, ?it/s]"
      ]
     },
     "metadata": {},
     "output_type": "display_data"
    },
    {
     "name": "stdout",
     "output_type": "stream",
     "text": [
      "Saving S:\\QRAM\\qram_4QR2\\data\\data_250119\\00033_QramProtocol3QTomo.h5\n",
      "init_state |0+i>|0+1> play pulses [2, 1, 1, 2, 2, 1, 3, 4]\n",
      "timesteps [inf]\n"
     ]
    },
    {
     "data": {
      "application/vnd.jupyter.widget-view+json": {
       "model_id": "4e86ca65061a4942bf17e7d31a6872f7",
       "version_major": 2,
       "version_minor": 0
      },
      "text/plain": [
       "  0%|          | 0/8 [00:00<?, ?it/s]"
      ]
     },
     "metadata": {},
     "output_type": "display_data"
    },
    {
     "name": "stdout",
     "output_type": "stream",
     "text": [
      "Qubit  (0)\n",
      "ge fidelity (%): 82.00000000000006 \t angle (deg): 167.16529495390665 \t threshold ge: 227.44413332296736\n",
      "Qubit  (2)\n",
      "ge fidelity (%): 77.00000000000006 \t angle (deg): 169.9187202610458 \t threshold ge: 73.39748827997175\n",
      "Qubit  (3)\n",
      "ge fidelity (%): 75.83838383838389 \t angle (deg): -173.76146249642784 \t threshold ge: 90.24157255197993\n",
      "thresholds=[227.44413332296736, 0, 73.39748827997175, 90.24157255197993],\n",
      "angles=[167.16529495390665, 0, 169.9187202610458, -173.76146249642784],\n",
      "ge_avgs=[array([-130.1188712 ,  -86.07709117, -289.70386397, -122.43557887]), [0, 0, 0, 0], array([ -12.02163321, -109.32395008, -124.16106891, -129.26122626]), array([ -53.09193359,  -13.34230469, -130.66715169,   -4.86214193])] ,\n",
      "counts_calib=[[70, 9, 15, 0, 4, 1, 1, 0], [16, 66, 1, 7, 0, 9, 0, 1], [8, 1, 80, 5, 0, 0, 4, 2], [1, 8, 15, 72, 0, 0, 2, 2], [12, 0, 1, 0, 69, 3, 13, 2], [1, 7, 0, 0, 5, 78, 2, 7], [0, 0, 9, 0, 6, 1, 79, 5], [0, 2, 1, 3, 2, 15, 5, 72]]\n",
      "\n"
     ]
    },
    {
     "data": {
      "application/vnd.jupyter.widget-view+json": {
       "model_id": "386e6665a503433eb27d8c60fde36161",
       "version_major": 2,
       "version_minor": 0
      },
      "text/plain": [
       "  0%|          | 0/1 [00:00<?, ?it/s]"
      ]
     },
     "metadata": {},
     "output_type": "display_data"
    },
    {
     "data": {
      "application/vnd.jupyter.widget-view+json": {
       "model_id": "f11661d8e3124ff69ffbaedb8803851f",
       "version_major": 2,
       "version_minor": 0
      },
      "text/plain": [
       "  0%|          | 0/27 [00:00<?, ?it/s]"
      ]
     },
     "metadata": {},
     "output_type": "display_data"
    },
    {
     "name": "stdout",
     "output_type": "stream",
     "text": [
      "Saving S:\\QRAM\\qram_4QR2\\data\\data_250119\\00034_QramProtocol3QTomo.h5\n",
      "init_state |0+i>|0+i> play pulses [2, 1, 1, 2, 2, 1, 3, 4]\n",
      "timesteps [inf]\n"
     ]
    },
    {
     "data": {
      "application/vnd.jupyter.widget-view+json": {
       "model_id": "1619f88d530a417792e23165698ece7e",
       "version_major": 2,
       "version_minor": 0
      },
      "text/plain": [
       "  0%|          | 0/8 [00:00<?, ?it/s]"
      ]
     },
     "metadata": {},
     "output_type": "display_data"
    },
    {
     "name": "stdout",
     "output_type": "stream",
     "text": [
      "Qubit  (0)\n",
      "ge fidelity (%): 89.95959595959592 \t angle (deg): 168.6628647143577 \t threshold ge: 241.0493304478633\n",
      "Qubit  (2)\n",
      "ge fidelity (%): 80.00000000000004 \t angle (deg): 169.92894909433556 \t threshold ge: 70.1492912989448\n",
      "Qubit  (3)\n",
      "ge fidelity (%): 84.94949494949495 \t angle (deg): -177.04554377818363 \t threshold ge: 97.04342755787675\n",
      "thresholds=[241.0493304478633, 0, 70.1492912989448, 97.04342755787675],\n",
      "angles=[168.6628647143577, 0, 169.92894909433556, -177.04554377818363],\n",
      "ge_avgs=[array([-137.30711288,  -96.44386397, -308.13164255, -130.6931259 ]), [0, 0, 0, 0], array([  -6.37427021, -111.4918828 , -118.58116658, -131.42048833]), array([ -57.41936523,   -5.50079753, -136.52105469,   -1.41830078])] ,\n",
      "counts_calib=[[79, 3, 11, 2, 4, 1, 0, 0], [7, 65, 2, 21, 0, 5, 0, 0], [8, 0, 85, 3, 0, 0, 3, 1], [0, 4, 12, 81, 0, 0, 0, 3], [4, 0, 2, 0, 74, 1, 17, 2], [1, 13, 0, 1, 7, 66, 1, 11], [0, 0, 2, 0, 4, 1, 92, 1], [0, 0, 1, 8, 0, 9, 12, 70]]\n",
      "\n"
     ]
    },
    {
     "data": {
      "application/vnd.jupyter.widget-view+json": {
       "model_id": "09db62b2afc84847bc4bfdeb7cd64ddb",
       "version_major": 2,
       "version_minor": 0
      },
      "text/plain": [
       "  0%|          | 0/1 [00:00<?, ?it/s]"
      ]
     },
     "metadata": {},
     "output_type": "display_data"
    },
    {
     "data": {
      "application/vnd.jupyter.widget-view+json": {
       "model_id": "6aed12f8df0e4fdc8612b28e1cdab87b",
       "version_major": 2,
       "version_minor": 0
      },
      "text/plain": [
       "  0%|          | 0/27 [00:00<?, ?it/s]"
      ]
     },
     "metadata": {},
     "output_type": "display_data"
    },
    {
     "name": "stdout",
     "output_type": "stream",
     "text": [
      "Saving S:\\QRAM\\qram_4QR2\\data\\data_250119\\00035_QramProtocol3QTomo.h5\n",
      "For n_forward_backward 1 saved_files ['S:\\\\QRAM\\\\qram_4QR2\\\\data\\\\data_250119\\\\00004_QramProtocol3QTomo.h5', 'S:\\\\QRAM\\\\qram_4QR2\\\\data\\\\data_250119\\\\00005_QramProtocol3QTomo.h5', 'S:\\\\QRAM\\\\qram_4QR2\\\\data\\\\data_250119\\\\00006_QramProtocol3QTomo.h5', 'S:\\\\QRAM\\\\qram_4QR2\\\\data\\\\data_250119\\\\00007_QramProtocol3QTomo.h5', 'S:\\\\QRAM\\\\qram_4QR2\\\\data\\\\data_250119\\\\00008_QramProtocol3QTomo.h5', 'S:\\\\QRAM\\\\qram_4QR2\\\\data\\\\data_250119\\\\00009_QramProtocol3QTomo.h5', 'S:\\\\QRAM\\\\qram_4QR2\\\\data\\\\data_250119\\\\00010_QramProtocol3QTomo.h5', 'S:\\\\QRAM\\\\qram_4QR2\\\\data\\\\data_250119\\\\00011_QramProtocol3QTomo.h5', 'S:\\\\QRAM\\\\qram_4QR2\\\\data\\\\data_250119\\\\00012_QramProtocol3QTomo.h5', 'S:\\\\QRAM\\\\qram_4QR2\\\\data\\\\data_250119\\\\00013_QramProtocol3QTomo.h5', 'S:\\\\QRAM\\\\qram_4QR2\\\\data\\\\data_250119\\\\00014_QramProtocol3QTomo.h5', 'S:\\\\QRAM\\\\qram_4QR2\\\\data\\\\data_250119\\\\00015_QramProtocol3QTomo.h5', 'S:\\\\QRAM\\\\qram_4QR2\\\\data\\\\data_250119\\\\00016_QramProtocol3QTomo.h5', 'S:\\\\QRAM\\\\qram_4QR2\\\\data\\\\data_250119\\\\00017_QramProtocol3QTomo.h5', 'S:\\\\QRAM\\\\qram_4QR2\\\\data\\\\data_250119\\\\00018_QramProtocol3QTomo.h5', 'S:\\\\QRAM\\\\qram_4QR2\\\\data\\\\data_250119\\\\00019_QramProtocol3QTomo.h5', 'S:\\\\QRAM\\\\qram_4QR2\\\\data\\\\data_250119\\\\00020_QramProtocol3QTomo.h5', 'S:\\\\QRAM\\\\qram_4QR2\\\\data\\\\data_250119\\\\00021_QramProtocol3QTomo.h5', 'S:\\\\QRAM\\\\qram_4QR2\\\\data\\\\data_250119\\\\00022_QramProtocol3QTomo.h5', 'S:\\\\QRAM\\\\qram_4QR2\\\\data\\\\data_250119\\\\00023_QramProtocol3QTomo.h5', 'S:\\\\QRAM\\\\qram_4QR2\\\\data\\\\data_250119\\\\00024_QramProtocol3QTomo.h5', 'S:\\\\QRAM\\\\qram_4QR2\\\\data\\\\data_250119\\\\00025_QramProtocol3QTomo.h5', 'S:\\\\QRAM\\\\qram_4QR2\\\\data\\\\data_250119\\\\00026_QramProtocol3QTomo.h5', 'S:\\\\QRAM\\\\qram_4QR2\\\\data\\\\data_250119\\\\00027_QramProtocol3QTomo.h5', 'S:\\\\QRAM\\\\qram_4QR2\\\\data\\\\data_250119\\\\00028_QramProtocol3QTomo.h5', 'S:\\\\QRAM\\\\qram_4QR2\\\\data\\\\data_250119\\\\00029_QramProtocol3QTomo.h5', 'S:\\\\QRAM\\\\qram_4QR2\\\\data\\\\data_250119\\\\00030_QramProtocol3QTomo.h5', 'S:\\\\QRAM\\\\qram_4QR2\\\\data\\\\data_250119\\\\00031_QramProtocol3QTomo.h5', 'S:\\\\QRAM\\\\qram_4QR2\\\\data\\\\data_250119\\\\00032_QramProtocol3QTomo.h5', 'S:\\\\QRAM\\\\qram_4QR2\\\\data\\\\data_250119\\\\00033_QramProtocol3QTomo.h5', 'S:\\\\QRAM\\\\qram_4QR2\\\\data\\\\data_250119\\\\00034_QramProtocol3QTomo.h5', 'S:\\\\QRAM\\\\qram_4QR2\\\\data\\\\data_250119\\\\00035_QramProtocol3QTomo.h5']\n",
      "\n",
      "............\n",
      "Assembling n_tomo_corrected_dict\n"
     ]
    },
    {
     "name": "stderr",
     "output_type": "stream",
     "text": [
      "TqdmDeprecationWarning: This function will be removed in tqdm==5.0.0\n",
      "Please use `tqdm.notebook.tqdm` instead of `tqdm.tqdm_notebook`\n",
      " C:\\Users\\slab\\AppData\\Local\\Temp\\ipykernel_16456\\1342584075.py: 82"
     ]
    },
    {
     "data": {
      "application/vnd.jupyter.widget-view+json": {
       "model_id": "fd664704abc7455c92644c29c0d198a9",
       "version_major": 2,
       "version_minor": 0
      },
      "text/plain": [
       "  0%|          | 0/32 [00:00<?, ?it/s]"
      ]
     },
     "metadata": {},
     "output_type": "display_data"
    },
    {
     "name": "stdout",
     "output_type": "stream",
     "text": [
      "S:\\QRAM\\qram_4QR2\\data\\data_250119\\00004_QramProtocol3QTomo.h5\n",
      "S:\\QRAM\\qram_4QR2\\data\\data_250119\\00004_QramProtocol3QTomo.h5\n"
     ]
    },
    {
     "name": "stderr",
     "output_type": "stream",
     "text": [
      "DeprecationWarning: `product` is deprecated as of NumPy 1.25.0, and will be removed in NumPy 2.0. Please use `prod` instead.\n",
      " C:\\Users\\slab\\AppData\\Local\\Temp\\ipykernel_16456\\2316176076.py: 13"
     ]
    },
    {
     "name": "stdout",
     "output_type": "stream",
     "text": [
      "Extracted data and attrs ['calib_order', 'config', 'meas_order', 'pulse_dict']\n",
      "init state Q0 (switch) Q1 (input): |0>|0>\n",
      "S:\\QRAM\\qram_4QR2\\data\\data_250119\\00005_QramProtocol3QTomo.h5\n",
      "S:\\QRAM\\qram_4QR2\\data\\data_250119\\00005_QramProtocol3QTomo.h5\n",
      "Extracted data and attrs ['calib_order', 'config', 'meas_order', 'pulse_dict']\n",
      "init state Q0 (switch) Q1 (input): |0>|1>\n",
      "S:\\QRAM\\qram_4QR2\\data\\data_250119\\00006_QramProtocol3QTomo.h5\n",
      "S:\\QRAM\\qram_4QR2\\data\\data_250119\\00006_QramProtocol3QTomo.h5\n",
      "Extracted data and attrs ['calib_order', 'config', 'meas_order', 'pulse_dict']\n",
      "init state Q0 (switch) Q1 (input): |0>|0+1>\n",
      "S:\\QRAM\\qram_4QR2\\data\\data_250119\\00007_QramProtocol3QTomo.h5\n",
      "S:\\QRAM\\qram_4QR2\\data\\data_250119\\00007_QramProtocol3QTomo.h5\n",
      "Extracted data and attrs ['calib_order', 'config', 'meas_order', 'pulse_dict']\n",
      "init state Q0 (switch) Q1 (input): |0>|0+i>\n",
      "S:\\QRAM\\qram_4QR2\\data\\data_250119\\00008_QramProtocol3QTomo.h5\n",
      "S:\\QRAM\\qram_4QR2\\data\\data_250119\\00008_QramProtocol3QTomo.h5\n",
      "Extracted data and attrs ['calib_order', 'config', 'meas_order', 'pulse_dict']\n",
      "init state Q0 (switch) Q1 (input): |1>|0>\n",
      "S:\\QRAM\\qram_4QR2\\data\\data_250119\\00009_QramProtocol3QTomo.h5\n",
      "S:\\QRAM\\qram_4QR2\\data\\data_250119\\00009_QramProtocol3QTomo.h5\n",
      "Extracted data and attrs ['calib_order', 'config', 'meas_order', 'pulse_dict']\n",
      "init state Q0 (switch) Q1 (input): |1>|1>\n",
      "S:\\QRAM\\qram_4QR2\\data\\data_250119\\00010_QramProtocol3QTomo.h5\n",
      "S:\\QRAM\\qram_4QR2\\data\\data_250119\\00010_QramProtocol3QTomo.h5\n",
      "Extracted data and attrs ['calib_order', 'config', 'meas_order', 'pulse_dict']\n",
      "init state Q0 (switch) Q1 (input): |1>|0+1>\n",
      "S:\\QRAM\\qram_4QR2\\data\\data_250119\\00011_QramProtocol3QTomo.h5\n",
      "S:\\QRAM\\qram_4QR2\\data\\data_250119\\00011_QramProtocol3QTomo.h5\n",
      "Extracted data and attrs ['calib_order', 'config', 'meas_order', 'pulse_dict']\n",
      "init state Q0 (switch) Q1 (input): |1>|0+i>\n",
      "S:\\QRAM\\qram_4QR2\\data\\data_250119\\00012_QramProtocol3QTomo.h5\n",
      "S:\\QRAM\\qram_4QR2\\data\\data_250119\\00012_QramProtocol3QTomo.h5\n",
      "Extracted data and attrs ['calib_order', 'config', 'meas_order', 'pulse_dict']\n",
      "init state Q0 (switch) Q1 (input): |0+1>|0>\n",
      "S:\\QRAM\\qram_4QR2\\data\\data_250119\\00013_QramProtocol3QTomo.h5\n",
      "S:\\QRAM\\qram_4QR2\\data\\data_250119\\00013_QramProtocol3QTomo.h5\n",
      "Extracted data and attrs ['calib_order', 'config', 'meas_order', 'pulse_dict']\n",
      "init state Q0 (switch) Q1 (input): |0+1>|1>\n",
      "S:\\QRAM\\qram_4QR2\\data\\data_250119\\00014_QramProtocol3QTomo.h5\n",
      "S:\\QRAM\\qram_4QR2\\data\\data_250119\\00014_QramProtocol3QTomo.h5\n",
      "Extracted data and attrs ['calib_order', 'config', 'meas_order', 'pulse_dict']\n",
      "init state Q0 (switch) Q1 (input): |0+1>|0+1>\n",
      "S:\\QRAM\\qram_4QR2\\data\\data_250119\\00015_QramProtocol3QTomo.h5\n",
      "S:\\QRAM\\qram_4QR2\\data\\data_250119\\00015_QramProtocol3QTomo.h5\n",
      "Extracted data and attrs ['calib_order', 'config', 'meas_order', 'pulse_dict']\n",
      "init state Q0 (switch) Q1 (input): |0+1>|0+i>\n",
      "S:\\QRAM\\qram_4QR2\\data\\data_250119\\00016_QramProtocol3QTomo.h5\n",
      "S:\\QRAM\\qram_4QR2\\data\\data_250119\\00016_QramProtocol3QTomo.h5\n",
      "Extracted data and attrs ['calib_order', 'config', 'meas_order', 'pulse_dict']\n",
      "init state Q0 (switch) Q1 (input): |0+i>|0>\n",
      "S:\\QRAM\\qram_4QR2\\data\\data_250119\\00017_QramProtocol3QTomo.h5\n",
      "S:\\QRAM\\qram_4QR2\\data\\data_250119\\00017_QramProtocol3QTomo.h5\n",
      "Extracted data and attrs ['calib_order', 'config', 'meas_order', 'pulse_dict']\n",
      "init state Q0 (switch) Q1 (input): |0+i>|1>\n",
      "S:\\QRAM\\qram_4QR2\\data\\data_250119\\00018_QramProtocol3QTomo.h5\n",
      "S:\\QRAM\\qram_4QR2\\data\\data_250119\\00018_QramProtocol3QTomo.h5\n",
      "Extracted data and attrs ['calib_order', 'config', 'meas_order', 'pulse_dict']\n",
      "init state Q0 (switch) Q1 (input): |0+i>|0+1>\n",
      "S:\\QRAM\\qram_4QR2\\data\\data_250119\\00019_QramProtocol3QTomo.h5\n",
      "S:\\QRAM\\qram_4QR2\\data\\data_250119\\00019_QramProtocol3QTomo.h5\n",
      "Extracted data and attrs ['calib_order', 'config', 'meas_order', 'pulse_dict']\n",
      "init state Q0 (switch) Q1 (input): |0+i>|0+i>\n",
      "S:\\QRAM\\qram_4QR2\\data\\data_250119\\00020_QramProtocol3QTomo.h5\n",
      "S:\\QRAM\\qram_4QR2\\data\\data_250119\\00020_QramProtocol3QTomo.h5\n",
      "Extracted data and attrs ['calib_order', 'config', 'meas_order', 'pulse_dict']\n",
      "init state Q0 (switch) Q1 (input): |0>|0>\n",
      "S:\\QRAM\\qram_4QR2\\data\\data_250119\\00021_QramProtocol3QTomo.h5\n",
      "S:\\QRAM\\qram_4QR2\\data\\data_250119\\00021_QramProtocol3QTomo.h5\n",
      "Extracted data and attrs ['calib_order', 'config', 'meas_order', 'pulse_dict']\n",
      "init state Q0 (switch) Q1 (input): |0>|1>\n",
      "S:\\QRAM\\qram_4QR2\\data\\data_250119\\00022_QramProtocol3QTomo.h5\n",
      "S:\\QRAM\\qram_4QR2\\data\\data_250119\\00022_QramProtocol3QTomo.h5\n",
      "Extracted data and attrs ['calib_order', 'config', 'meas_order', 'pulse_dict']\n",
      "init state Q0 (switch) Q1 (input): |0>|0+1>\n",
      "S:\\QRAM\\qram_4QR2\\data\\data_250119\\00023_QramProtocol3QTomo.h5\n",
      "S:\\QRAM\\qram_4QR2\\data\\data_250119\\00023_QramProtocol3QTomo.h5\n",
      "Extracted data and attrs ['calib_order', 'config', 'meas_order', 'pulse_dict']\n",
      "init state Q0 (switch) Q1 (input): |0>|0+i>\n",
      "S:\\QRAM\\qram_4QR2\\data\\data_250119\\00024_QramProtocol3QTomo.h5\n",
      "S:\\QRAM\\qram_4QR2\\data\\data_250119\\00024_QramProtocol3QTomo.h5\n",
      "Extracted data and attrs ['calib_order', 'config', 'meas_order', 'pulse_dict']\n",
      "init state Q0 (switch) Q1 (input): |1>|0>\n",
      "S:\\QRAM\\qram_4QR2\\data\\data_250119\\00025_QramProtocol3QTomo.h5\n",
      "S:\\QRAM\\qram_4QR2\\data\\data_250119\\00025_QramProtocol3QTomo.h5\n",
      "Extracted data and attrs ['calib_order', 'config', 'meas_order', 'pulse_dict']\n",
      "init state Q0 (switch) Q1 (input): |1>|1>\n",
      "S:\\QRAM\\qram_4QR2\\data\\data_250119\\00026_QramProtocol3QTomo.h5\n",
      "S:\\QRAM\\qram_4QR2\\data\\data_250119\\00026_QramProtocol3QTomo.h5\n",
      "Extracted data and attrs ['calib_order', 'config', 'meas_order', 'pulse_dict']\n",
      "init state Q0 (switch) Q1 (input): |1>|0+1>\n",
      "S:\\QRAM\\qram_4QR2\\data\\data_250119\\00027_QramProtocol3QTomo.h5\n",
      "S:\\QRAM\\qram_4QR2\\data\\data_250119\\00027_QramProtocol3QTomo.h5\n",
      "Extracted data and attrs ['calib_order', 'config', 'meas_order', 'pulse_dict']\n",
      "init state Q0 (switch) Q1 (input): |1>|0+i>\n",
      "S:\\QRAM\\qram_4QR2\\data\\data_250119\\00028_QramProtocol3QTomo.h5\n",
      "S:\\QRAM\\qram_4QR2\\data\\data_250119\\00028_QramProtocol3QTomo.h5\n",
      "Extracted data and attrs ['calib_order', 'config', 'meas_order', 'pulse_dict']\n",
      "init state Q0 (switch) Q1 (input): |0+1>|0>\n",
      "S:\\QRAM\\qram_4QR2\\data\\data_250119\\00029_QramProtocol3QTomo.h5\n",
      "S:\\QRAM\\qram_4QR2\\data\\data_250119\\00029_QramProtocol3QTomo.h5\n",
      "Extracted data and attrs ['calib_order', 'config', 'meas_order', 'pulse_dict']\n",
      "init state Q0 (switch) Q1 (input): |0+1>|1>\n",
      "S:\\QRAM\\qram_4QR2\\data\\data_250119\\00030_QramProtocol3QTomo.h5\n",
      "S:\\QRAM\\qram_4QR2\\data\\data_250119\\00030_QramProtocol3QTomo.h5\n",
      "Extracted data and attrs ['calib_order', 'config', 'meas_order', 'pulse_dict']\n",
      "init state Q0 (switch) Q1 (input): |0+1>|0+1>\n",
      "S:\\QRAM\\qram_4QR2\\data\\data_250119\\00031_QramProtocol3QTomo.h5\n",
      "S:\\QRAM\\qram_4QR2\\data\\data_250119\\00031_QramProtocol3QTomo.h5\n",
      "Extracted data and attrs ['calib_order', 'config', 'meas_order', 'pulse_dict']\n",
      "init state Q0 (switch) Q1 (input): |0+1>|0+i>\n",
      "S:\\QRAM\\qram_4QR2\\data\\data_250119\\00032_QramProtocol3QTomo.h5\n",
      "S:\\QRAM\\qram_4QR2\\data\\data_250119\\00032_QramProtocol3QTomo.h5\n",
      "Extracted data and attrs ['calib_order', 'config', 'meas_order', 'pulse_dict']\n",
      "init state Q0 (switch) Q1 (input): |0+i>|0>\n",
      "S:\\QRAM\\qram_4QR2\\data\\data_250119\\00033_QramProtocol3QTomo.h5\n",
      "S:\\QRAM\\qram_4QR2\\data\\data_250119\\00033_QramProtocol3QTomo.h5\n",
      "Extracted data and attrs ['calib_order', 'config', 'meas_order', 'pulse_dict']\n",
      "init state Q0 (switch) Q1 (input): |0+i>|1>\n",
      "S:\\QRAM\\qram_4QR2\\data\\data_250119\\00034_QramProtocol3QTomo.h5\n",
      "S:\\QRAM\\qram_4QR2\\data\\data_250119\\00034_QramProtocol3QTomo.h5\n",
      "Extracted data and attrs ['calib_order', 'config', 'meas_order', 'pulse_dict']\n",
      "init state Q0 (switch) Q1 (input): |0+i>|0+1>\n",
      "S:\\QRAM\\qram_4QR2\\data\\data_250119\\00035_QramProtocol3QTomo.h5\n",
      "S:\\QRAM\\qram_4QR2\\data\\data_250119\\00035_QramProtocol3QTomo.h5\n",
      "Extracted data and attrs ['calib_order', 'config', 'meas_order', 'pulse_dict']\n",
      "init state Q0 (switch) Q1 (input): |0+i>|0+i>\n",
      "Saved n_tomo_corrected_dict for Q0 Q2 Q3 to file S:\\QRAM\\qram_4QR2\\data\\data_250119\\202502112235_ntomocorrected_3Q_023.npz\n",
      "############################################\n",
      "STARTING n_forward_backward 2\n",
      "init_states (16 states) ['|0>|0>' '|0>|1>' '|0>|0+1>' '|0>|0+i>' '|1>|0>' '|1>|1>' '|1>|0+1>'\n",
      " '|1>|0+i>' '|0+1>|0>' '|0+1>|1>' '|0+1>|0+1>' '|0+1>|0+i>' '|0+i>|0>'\n",
      " '|0+i>|1>' '|0+i>|0+1>' '|0+i>|0+i>']\n",
      "protocol_play [2, 1, 1, 2, 2, 1, 1, 2, 2, 1, 3, 4]\n",
      "-------------------\n",
      "Starting iteration 0 for n_forward_backward 2\n"
     ]
    },
    {
     "data": {
      "application/vnd.jupyter.widget-view+json": {
       "model_id": "57e3df713929473a8645392c09db3bcf",
       "version_major": 2,
       "version_minor": 0
      },
      "text/plain": [
       "  0%|          | 0/16 [00:00<?, ?it/s]"
      ]
     },
     "metadata": {},
     "output_type": "display_data"
    },
    {
     "name": "stdout",
     "output_type": "stream",
     "text": [
      "init_state |0>|0> play pulses [2, 1, 1, 2, 2, 1, 1, 2, 2, 1, 3, 4]\n",
      "timesteps [inf]\n"
     ]
    },
    {
     "data": {
      "application/vnd.jupyter.widget-view+json": {
       "model_id": "d391e17513e849f4b8c4bdc51795eacc",
       "version_major": 2,
       "version_minor": 0
      },
      "text/plain": [
       "  0%|          | 0/8 [00:00<?, ?it/s]"
      ]
     },
     "metadata": {},
     "output_type": "display_data"
    },
    {
     "name": "stdout",
     "output_type": "stream",
     "text": [
      "Qubit  (0)\n",
      "ge fidelity (%): 84.87878787878792 \t angle (deg): 166.3657145480592 \t threshold ge: 221.51054120493865\n",
      "Qubit  (2)\n",
      "ge fidelity (%): 70.00000000000004 \t angle (deg): 176.0983362424831 \t threshold ge: 61.080467747478124\n",
      "Qubit  (3)\n",
      "ge fidelity (%): 80.83838383838389 \t angle (deg): 178.16333539847403 \t threshold ge: 89.81353743782881\n",
      "thresholds=[221.51054120493865, 0, 61.080467747478124, 89.81353743782881],\n",
      "angles=[166.3657145480592, 0, 176.0983362424831, 178.16333539847403],\n",
      "ge_avgs=[array([-129.89283647,  -88.71526049, -292.4157453 , -128.13664978]), [0, 0, 0, 0], array([ -11.17841563, -110.71927835, -111.78256647, -117.58071622]), array([ -49.73073242,   -5.45443034, -132.25827148,   -8.10082682])] ,\n",
      "counts_calib=[[77, 3, 13, 2, 3, 0, 2, 0], [14, 70, 2, 9, 1, 4, 0, 0], [14, 0, 78, 6, 0, 0, 2, 0], [0, 6, 9, 77, 0, 0, 2, 6], [12, 1, 0, 0, 73, 2, 11, 1], [3, 3, 0, 3, 14, 61, 5, 11], [1, 0, 10, 1, 9, 1, 72, 6], [8, 2, 1, 5, 1, 5, 21, 57]]\n",
      "\n"
     ]
    },
    {
     "data": {
      "application/vnd.jupyter.widget-view+json": {
       "model_id": "9ce011111d554d9bafb977946ad5eff5",
       "version_major": 2,
       "version_minor": 0
      },
      "text/plain": [
       "  0%|          | 0/1 [00:00<?, ?it/s]"
      ]
     },
     "metadata": {},
     "output_type": "display_data"
    },
    {
     "data": {
      "application/vnd.jupyter.widget-view+json": {
       "model_id": "ef9a2600c9ad45cda166d4cd372dfc52",
       "version_major": 2,
       "version_minor": 0
      },
      "text/plain": [
       "  0%|          | 0/27 [00:00<?, ?it/s]"
      ]
     },
     "metadata": {},
     "output_type": "display_data"
    },
    {
     "name": "stdout",
     "output_type": "stream",
     "text": [
      "Saving S:\\QRAM\\qram_4QR2\\data\\data_250119\\00036_QramProtocol3QTomo.h5\n",
      "init_state |0>|1> play pulses [2, 1, 1, 2, 2, 1, 1, 2, 2, 1, 3, 4]\n",
      "timesteps [inf]\n"
     ]
    },
    {
     "data": {
      "application/vnd.jupyter.widget-view+json": {
       "model_id": "cf3865892fc240e38edd987bae6c8893",
       "version_major": 2,
       "version_minor": 0
      },
      "text/plain": [
       "  0%|          | 0/8 [00:00<?, ?it/s]"
      ]
     },
     "metadata": {},
     "output_type": "display_data"
    },
    {
     "name": "stdout",
     "output_type": "stream",
     "text": [
      "Qubit  (0)\n",
      "ge fidelity (%): 83.00000000000004 \t angle (deg): 167.36610599396673 \t threshold ge: 205.66872552718058\n",
      "Qubit  (2)\n",
      "ge fidelity (%): 78.85858585858583 \t angle (deg): 165.05481731708906 \t threshold ge: 78.96822010973753\n",
      "Qubit  (3)\n",
      "ge fidelity (%): 85.00000000000007 \t angle (deg): -179.2305791861532 \t threshold ge: 107.86467442229028\n",
      "thresholds=[205.66872552718058, 0, 78.96822010973753, 107.86467442229028],\n",
      "angles=[167.36610599396673, 0, 165.05481731708906, -179.2305791861532],\n",
      "ge_avgs=[array([-126.00232996,  -84.79036903, -291.43753256, -121.87228654]), [0, 0, 0, 0], array([ -19.05135106, -106.04092784, -117.46212154, -132.30912642]), array([ -49.37556966,   -4.62935872, -143.06925456,   -3.37107747])] ,\n",
      "counts_calib=[[76, 2, 14, 1, 5, 0, 2, 0], [9, 65, 0, 15, 4, 5, 0, 2], [7, 0, 84, 2, 0, 0, 7, 0], [3, 7, 10, 74, 0, 1, 3, 2], [8, 1, 2, 0, 73, 3, 13, 0], [2, 5, 0, 1, 11, 66, 0, 15], [1, 0, 6, 1, 7, 0, 84, 1], [3, 0, 2, 8, 0, 10, 11, 66]]\n",
      "\n"
     ]
    },
    {
     "data": {
      "application/vnd.jupyter.widget-view+json": {
       "model_id": "0465578705e54747b378017e97e16977",
       "version_major": 2,
       "version_minor": 0
      },
      "text/plain": [
       "  0%|          | 0/1 [00:00<?, ?it/s]"
      ]
     },
     "metadata": {},
     "output_type": "display_data"
    },
    {
     "data": {
      "application/vnd.jupyter.widget-view+json": {
       "model_id": "403c2a8755a5449aa3c4fffbe91de6af",
       "version_major": 2,
       "version_minor": 0
      },
      "text/plain": [
       "  0%|          | 0/27 [00:00<?, ?it/s]"
      ]
     },
     "metadata": {},
     "output_type": "display_data"
    },
    {
     "name": "stdout",
     "output_type": "stream",
     "text": [
      "Saving S:\\QRAM\\qram_4QR2\\data\\data_250119\\00037_QramProtocol3QTomo.h5\n",
      "init_state |0>|0+1> play pulses [2, 1, 1, 2, 2, 1, 1, 2, 2, 1, 3, 4]\n",
      "timesteps [inf]\n"
     ]
    },
    {
     "data": {
      "application/vnd.jupyter.widget-view+json": {
       "model_id": "7339da4a8f8449a89054f474b6c88c77",
       "version_major": 2,
       "version_minor": 0
      },
      "text/plain": [
       "  0%|          | 0/8 [00:00<?, ?it/s]"
      ]
     },
     "metadata": {},
     "output_type": "display_data"
    },
    {
     "name": "stdout",
     "output_type": "stream",
     "text": [
      "Qubit  (0)\n",
      "ge fidelity (%): 86.00000000000007 \t angle (deg): 171.37819170199364 \t threshold ge: 184.49478985990442\n",
      "Qubit  (2)\n",
      "ge fidelity (%): 76.00000000000006 \t angle (deg): 171.32947547944644 \t threshold ge: 103.76880161503306\n",
      "Qubit  (3)\n",
      "ge fidelity (%): 85.87878787878792 \t angle (deg): -179.65476458744865 \t threshold ge: 91.35728409847789\n",
      "thresholds=[184.49478985990442, 0, 103.76880161503306, 91.35728409847789],\n",
      "angles=[171.37819170199364, 0, 171.32947547944644, -179.65476458744865],\n",
      "ge_avgs=[array([-117.70176556,  -92.31787988, -297.30114327, -119.54965991]), [0, 0, 0, 0], array([ -10.78140532, -110.00335865, -121.52344004, -126.89097124]), array([ -49.38539062,   -3.6160319 , -134.23919271,   -3.10473958])] ,\n",
      "counts_calib=[[81, 3, 7, 0, 9, 0, 0, 0], [11, 77, 1, 3, 1, 6, 0, 1], [16, 1, 69, 4, 1, 0, 8, 1], [1, 14, 6, 71, 1, 2, 1, 4], [7, 1, 0, 0, 82, 8, 2, 0], [0, 4, 0, 0, 8, 85, 0, 3], [2, 0, 5, 1, 13, 0, 70, 9], [0, 0, 1, 3, 1, 16, 11, 68]]\n",
      "\n"
     ]
    },
    {
     "data": {
      "application/vnd.jupyter.widget-view+json": {
       "model_id": "049934a14b5f415899afe54c9cc75040",
       "version_major": 2,
       "version_minor": 0
      },
      "text/plain": [
       "  0%|          | 0/1 [00:00<?, ?it/s]"
      ]
     },
     "metadata": {},
     "output_type": "display_data"
    },
    {
     "data": {
      "application/vnd.jupyter.widget-view+json": {
       "model_id": "08302b6cb03044e5882ec914a8900a1a",
       "version_major": 2,
       "version_minor": 0
      },
      "text/plain": [
       "  0%|          | 0/27 [00:00<?, ?it/s]"
      ]
     },
     "metadata": {},
     "output_type": "display_data"
    },
    {
     "name": "stdout",
     "output_type": "stream",
     "text": [
      "Saving S:\\QRAM\\qram_4QR2\\data\\data_250119\\00038_QramProtocol3QTomo.h5\n",
      "init_state |0>|0+i> play pulses [2, 1, 1, 2, 2, 1, 1, 2, 2, 1, 3, 4]\n",
      "timesteps [inf]\n"
     ]
    },
    {
     "data": {
      "application/vnd.jupyter.widget-view+json": {
       "model_id": "e187cd5e030d4d67a5aa300304e3a965",
       "version_major": 2,
       "version_minor": 0
      },
      "text/plain": [
       "  0%|          | 0/8 [00:00<?, ?it/s]"
      ]
     },
     "metadata": {},
     "output_type": "display_data"
    },
    {
     "name": "stdout",
     "output_type": "stream",
     "text": [
      "Qubit  (0)\n",
      "ge fidelity (%): 87.00000000000006 \t angle (deg): 166.54851714413374 \t threshold ge: 220.42197383594896\n",
      "Qubit  (2)\n",
      "ge fidelity (%): 78.00000000000004 \t angle (deg): 173.1513273226484 \t threshold ge: 79.98111949418485\n",
      "Qubit  (3)\n",
      "ge fidelity (%): 82.92929292929291 \t angle (deg): 179.82341443542987 \t threshold ge: 89.95352048092398\n",
      "thresholds=[220.42197383594896, 0, 79.98111949418485, 89.95352048092398],\n",
      "angles=[166.54851714413374, 0, 173.1513273226484, 179.82341443542987],\n",
      "ge_avgs=[array([-125.20505065,  -93.46177279, -300.08034009, -135.28903039]), [0, 0, 0, 0], array([  -8.64941942, -109.26889853, -117.65279978, -122.36068909]), array([ -51.46572591,   -7.01578451, -142.88061523,   -7.29752604])] ,\n",
      "counts_calib=[[79, 7, 5, 1, 6, 0, 2, 0], [8, 68, 0, 14, 2, 8, 0, 0], [12, 2, 76, 5, 0, 0, 4, 1], [1, 7, 11, 78, 0, 1, 0, 2], [7, 0, 0, 0, 83, 3, 7, 0], [2, 4, 0, 0, 12, 73, 1, 8], [0, 0, 6, 1, 18, 0, 72, 3], [0, 0, 0, 7, 2, 8, 5, 78]]\n",
      "\n"
     ]
    },
    {
     "data": {
      "application/vnd.jupyter.widget-view+json": {
       "model_id": "1af8c877d71a4ed68db6ae532c25e480",
       "version_major": 2,
       "version_minor": 0
      },
      "text/plain": [
       "  0%|          | 0/1 [00:00<?, ?it/s]"
      ]
     },
     "metadata": {},
     "output_type": "display_data"
    },
    {
     "data": {
      "application/vnd.jupyter.widget-view+json": {
       "model_id": "4048d12c1891419e8bf555b3dfcb4f41",
       "version_major": 2,
       "version_minor": 0
      },
      "text/plain": [
       "  0%|          | 0/27 [00:00<?, ?it/s]"
      ]
     },
     "metadata": {},
     "output_type": "display_data"
    },
    {
     "name": "stdout",
     "output_type": "stream",
     "text": [
      "Saving S:\\QRAM\\qram_4QR2\\data\\data_250119\\00039_QramProtocol3QTomo.h5\n",
      "init_state |1>|0> play pulses [2, 1, 1, 2, 2, 1, 1, 2, 2, 1, 3, 4]\n",
      "timesteps [inf]\n"
     ]
    },
    {
     "data": {
      "application/vnd.jupyter.widget-view+json": {
       "model_id": "db673a2972e143e6b06be83bb7317a92",
       "version_major": 2,
       "version_minor": 0
      },
      "text/plain": [
       "  0%|          | 0/8 [00:00<?, ?it/s]"
      ]
     },
     "metadata": {},
     "output_type": "display_data"
    },
    {
     "name": "stdout",
     "output_type": "stream",
     "text": [
      "Qubit  (0)\n",
      "ge fidelity (%): 96.00000000000006 \t angle (deg): 167.88131070846828 \t threshold ge: 214.69767706932393\n",
      "Qubit  (2)\n",
      "ge fidelity (%): 75.92929292929288 \t angle (deg): 171.9204877833521 \t threshold ge: 81.4461580473617\n",
      "Qubit  (3)\n",
      "ge fidelity (%): 90.97979797979794 \t angle (deg): -176.1650833143308 \t threshold ge: 96.8427201882749\n",
      "thresholds=[214.69767706932393, 0, 81.4461580473617, 96.8427201882749],\n",
      "angles=[167.88131070846828, 0, 171.9204877833521, -176.1650833143308],\n",
      "ge_avgs=[array([-123.93678003,  -91.18368307, -312.61282923, -131.69670043]), [0, 0, 0, 0], array([  -9.76397179, -105.87759088, -115.56898535, -120.89727618]), array([ -52.9707194 ,   -7.62666016, -147.05385091,   -1.32007487])] ,\n",
      "counts_calib=[[85, 3, 9, 0, 3, 0, 0, 0], [7, 73, 0, 11, 0, 8, 0, 1], [17, 0, 75, 4, 0, 0, 4, 0], [2, 10, 12, 73, 0, 0, 2, 1], [1, 0, 1, 0, 88, 3, 6, 1], [0, 5, 0, 1, 9, 74, 1, 10], [1, 0, 6, 0, 4, 0, 84, 5], [0, 0, 0, 8, 1, 8, 13, 70]]\n",
      "\n"
     ]
    },
    {
     "data": {
      "application/vnd.jupyter.widget-view+json": {
       "model_id": "1c71454bd7324304ae2ce822a98c48a4",
       "version_major": 2,
       "version_minor": 0
      },
      "text/plain": [
       "  0%|          | 0/1 [00:00<?, ?it/s]"
      ]
     },
     "metadata": {},
     "output_type": "display_data"
    },
    {
     "data": {
      "application/vnd.jupyter.widget-view+json": {
       "model_id": "ebd2371c467641479dc426c497ebfade",
       "version_major": 2,
       "version_minor": 0
      },
      "text/plain": [
       "  0%|          | 0/27 [00:00<?, ?it/s]"
      ]
     },
     "metadata": {},
     "output_type": "display_data"
    },
    {
     "name": "stdout",
     "output_type": "stream",
     "text": [
      "Saving S:\\QRAM\\qram_4QR2\\data\\data_250119\\00040_QramProtocol3QTomo.h5\n",
      "init_state |1>|1> play pulses [2, 1, 1, 2, 2, 1, 1, 2, 2, 1, 3, 4]\n",
      "timesteps [inf]\n"
     ]
    },
    {
     "data": {
      "application/vnd.jupyter.widget-view+json": {
       "model_id": "69e62764c5c34fc4af17f0e577d19409",
       "version_major": 2,
       "version_minor": 0
      },
      "text/plain": [
       "  0%|          | 0/8 [00:00<?, ?it/s]"
      ]
     },
     "metadata": {},
     "output_type": "display_data"
    },
    {
     "name": "stdout",
     "output_type": "stream",
     "text": [
      "Qubit  (0)\n",
      "ge fidelity (%): 86.93939393939397 \t angle (deg): 167.92843154777526 \t threshold ge: 223.39070568956905\n",
      "Qubit  (2)\n",
      "ge fidelity (%): 83.00000000000006 \t angle (deg): 168.52009268647785 \t threshold ge: 93.43970623314034\n",
      "Qubit  (3)\n",
      "ge fidelity (%): 80.00000000000004 \t angle (deg): 179.0918579052529 \t threshold ge: 90.16076563429816\n",
      "thresholds=[223.39070568956905, 0, 93.43970623314034, 90.16076563429816],\n",
      "angles=[167.92843154777526, 0, 168.52009268647785, 179.0918579052529],\n",
      "ge_avgs=[array([-132.35801737,  -96.55596237, -298.24818379, -132.03363965]), [0, 0, 0, 0], array([ -10.03030928, -106.74938144, -126.14973413, -130.33174173]), array([ -53.09013346,   -3.03497721, -130.83839844,   -4.26739583])] ,\n",
      "counts_calib=[[81, 4, 5, 2, 8, 0, 0, 0], [11, 73, 4, 10, 0, 2, 0, 0], [10, 1, 81, 5, 0, 0, 3, 0], [0, 10, 9, 78, 0, 0, 0, 3], [6, 1, 0, 0, 79, 5, 8, 1], [2, 9, 0, 0, 6, 78, 1, 4], [6, 0, 10, 0, 11, 1, 68, 4], [1, 2, 0, 5, 1, 7, 5, 79]]\n",
      "\n"
     ]
    },
    {
     "data": {
      "application/vnd.jupyter.widget-view+json": {
       "model_id": "1144818f3c2c41f0aa227c7ef30b32c5",
       "version_major": 2,
       "version_minor": 0
      },
      "text/plain": [
       "  0%|          | 0/1 [00:00<?, ?it/s]"
      ]
     },
     "metadata": {},
     "output_type": "display_data"
    },
    {
     "data": {
      "application/vnd.jupyter.widget-view+json": {
       "model_id": "4504fe7c427345df9acb3fa26f2f5556",
       "version_major": 2,
       "version_minor": 0
      },
      "text/plain": [
       "  0%|          | 0/27 [00:00<?, ?it/s]"
      ]
     },
     "metadata": {},
     "output_type": "display_data"
    },
    {
     "name": "stdout",
     "output_type": "stream",
     "text": [
      "Saving S:\\QRAM\\qram_4QR2\\data\\data_250119\\00041_QramProtocol3QTomo.h5\n",
      "init_state |1>|0+1> play pulses [2, 1, 1, 2, 2, 1, 1, 2, 2, 1, 3, 4]\n",
      "timesteps [inf]\n"
     ]
    },
    {
     "data": {
      "application/vnd.jupyter.widget-view+json": {
       "model_id": "bcd34cc8f0744bc3a90d9864278b7dd5",
       "version_major": 2,
       "version_minor": 0
      },
      "text/plain": [
       "  0%|          | 0/8 [00:00<?, ?it/s]"
      ]
     },
     "metadata": {},
     "output_type": "display_data"
    },
    {
     "name": "stdout",
     "output_type": "stream",
     "text": [
      "Qubit  (0)\n",
      "ge fidelity (%): 92.00000000000004 \t angle (deg): 165.31747056481888 \t threshold ge: 224.19295056873074\n",
      "Qubit  (2)\n",
      "ge fidelity (%): 81.00000000000006 \t angle (deg): 172.41400486359564 \t threshold ge: 70.50584790229355\n",
      "Qubit  (3)\n",
      "ge fidelity (%): 80.00000000000004 \t angle (deg): 177.99662065875788 \t threshold ge: 95.38716162546453\n",
      "thresholds=[224.19295056873074, 0, 70.50584790229355, 95.38716162546453],\n",
      "angles=[165.31747056481888, 0, 172.41400486359564, 177.99662065875788],\n",
      "ge_avgs=[array([-124.13693198,  -84.08509407, -310.48267728, -132.91125904]), [0, 0, 0, 0], array([   1.3649159 , -115.33940857, -116.04247965, -130.97569181]), array([ -55.62828776,   -2.78468099, -140.83663737,   -5.76525391])] ,\n",
      "counts_calib=[[80, 6, 8, 1, 4, 1, 0, 0], [13, 77, 0, 6, 0, 3, 0, 1], [12, 0, 78, 3, 0, 0, 6, 1], [2, 4, 13, 79, 0, 0, 0, 2], [4, 0, 0, 0, 78, 5, 13, 0], [2, 10, 0, 0, 12, 70, 0, 6], [2, 0, 6, 0, 14, 0, 73, 5], [0, 1, 1, 8, 0, 12, 11, 67]]\n",
      "\n"
     ]
    },
    {
     "data": {
      "application/vnd.jupyter.widget-view+json": {
       "model_id": "1bbd980d7242477b921132ad401ae2bf",
       "version_major": 2,
       "version_minor": 0
      },
      "text/plain": [
       "  0%|          | 0/1 [00:00<?, ?it/s]"
      ]
     },
     "metadata": {},
     "output_type": "display_data"
    },
    {
     "data": {
      "application/vnd.jupyter.widget-view+json": {
       "model_id": "69de4835a8b94fde929519aa420d0217",
       "version_major": 2,
       "version_minor": 0
      },
      "text/plain": [
       "  0%|          | 0/27 [00:00<?, ?it/s]"
      ]
     },
     "metadata": {},
     "output_type": "display_data"
    },
    {
     "name": "stdout",
     "output_type": "stream",
     "text": [
      "Saving S:\\QRAM\\qram_4QR2\\data\\data_250119\\00042_QramProtocol3QTomo.h5\n",
      "init_state |1>|0+i> play pulses [2, 1, 1, 2, 2, 1, 1, 2, 2, 1, 3, 4]\n",
      "timesteps [inf]\n"
     ]
    },
    {
     "data": {
      "application/vnd.jupyter.widget-view+json": {
       "model_id": "8e33605266b44f0a9e9335b81edf1548",
       "version_major": 2,
       "version_minor": 0
      },
      "text/plain": [
       "  0%|          | 0/8 [00:00<?, ?it/s]"
      ]
     },
     "metadata": {},
     "output_type": "display_data"
    },
    {
     "name": "stdout",
     "output_type": "stream",
     "text": [
      "Qubit  (0)\n",
      "ge fidelity (%): 85.9393939393939 \t angle (deg): 167.91300960260972 \t threshold ge: 207.55735850024527\n",
      "Qubit  (2)\n",
      "ge fidelity (%): 87.00000000000006 \t angle (deg): 174.04201121963135 \t threshold ge: 77.0164179021888\n",
      "Qubit  (3)\n",
      "ge fidelity (%): 81.9696969696969 \t angle (deg): 179.29624208212388 \t threshold ge: 99.39168463307819\n",
      "thresholds=[207.55735850024527, 0, 77.0164179021888, 99.39168463307819],\n",
      "angles=[167.91300960260972, 0, 174.04201121963135, 179.29624208212388],\n",
      "ge_avgs=[array([-120.94595514,  -92.862178  , -296.28350941, -130.40965268]), [0, 0, 0, 0], array([  -3.9462127 , -109.58162778, -131.22026587, -122.86432447]), array([ -54.98334961,   -2.43407227, -139.82963867,   -3.47628255])] ,\n",
      "counts_calib=[[84, 2, 6, 1, 6, 1, 0, 0], [13, 68, 2, 6, 0, 10, 0, 1], [7, 0, 84, 2, 0, 0, 6, 1], [0, 9, 6, 73, 0, 0, 0, 12], [7, 0, 1, 0, 80, 2, 10, 0], [1, 6, 1, 0, 9, 72, 2, 9], [3, 1, 13, 0, 15, 0, 65, 3], [2, 3, 3, 9, 2, 8, 12, 61]]\n",
      "\n"
     ]
    },
    {
     "data": {
      "application/vnd.jupyter.widget-view+json": {
       "model_id": "58a37d7e9437402da0e2e77c5a378a91",
       "version_major": 2,
       "version_minor": 0
      },
      "text/plain": [
       "  0%|          | 0/1 [00:00<?, ?it/s]"
      ]
     },
     "metadata": {},
     "output_type": "display_data"
    },
    {
     "data": {
      "application/vnd.jupyter.widget-view+json": {
       "model_id": "e1f0567071ed4c8aba1052520be7b6fd",
       "version_major": 2,
       "version_minor": 0
      },
      "text/plain": [
       "  0%|          | 0/27 [00:00<?, ?it/s]"
      ]
     },
     "metadata": {},
     "output_type": "display_data"
    },
    {
     "name": "stdout",
     "output_type": "stream",
     "text": [
      "Saving S:\\QRAM\\qram_4QR2\\data\\data_250119\\00043_QramProtocol3QTomo.h5\n",
      "init_state |0+1>|0> play pulses [2, 1, 1, 2, 2, 1, 1, 2, 2, 1, 3, 4]\n",
      "timesteps [inf]\n"
     ]
    },
    {
     "data": {
      "application/vnd.jupyter.widget-view+json": {
       "model_id": "db217a1cc07a4503a9d6016309302eaf",
       "version_major": 2,
       "version_minor": 0
      },
      "text/plain": [
       "  0%|          | 0/8 [00:00<?, ?it/s]"
      ]
     },
     "metadata": {},
     "output_type": "display_data"
    },
    {
     "name": "stdout",
     "output_type": "stream",
     "text": [
      "Qubit  (0)\n",
      "ge fidelity (%): 83.94949494949489 \t angle (deg): 170.91128204218938 \t threshold ge: 199.3914900765922\n",
      "Qubit  (2)\n",
      "ge fidelity (%): 77.00000000000004 \t angle (deg): 174.8537829218232 \t threshold ge: 68.92243686584067\n",
      "Qubit  (3)\n",
      "ge fidelity (%): 81.97979797979794 \t angle (deg): -178.24813059389058 \t threshold ge: 103.53445256118988\n",
      "thresholds=[199.3914900765922, 0, 68.92243686584067, 103.53445256118988],\n",
      "angles=[170.91128204218938, 0, 174.8537829218232, -178.24813059389058],\n",
      "ge_avgs=[array([-121.86567294,  -91.34770622, -294.13427641, -118.90587554]), [0, 0, 0, 0], array([ -14.63703201, -115.37364623, -119.79858383, -124.84457406]), array([ -47.98634115,   -7.4249056 , -140.17414714,   -4.60530273])] ,\n",
      "counts_calib=[[82, 0, 11, 1, 4, 2, 0, 0], [11, 69, 5, 10, 0, 4, 0, 1], [12, 0, 81, 3, 0, 0, 4, 0], [1, 8, 11, 73, 1, 1, 1, 4], [10, 0, 1, 0, 72, 7, 10, 0], [1, 7, 0, 1, 11, 74, 2, 4], [0, 0, 10, 0, 9, 0, 80, 1], [0, 1, 0, 11, 1, 8, 12, 67]]\n",
      "\n"
     ]
    },
    {
     "data": {
      "application/vnd.jupyter.widget-view+json": {
       "model_id": "0a71d61d4a1841aa86f21fc08e1f6f25",
       "version_major": 2,
       "version_minor": 0
      },
      "text/plain": [
       "  0%|          | 0/1 [00:00<?, ?it/s]"
      ]
     },
     "metadata": {},
     "output_type": "display_data"
    },
    {
     "data": {
      "application/vnd.jupyter.widget-view+json": {
       "model_id": "a58c6ea6227a4cef8f05e42e7903b356",
       "version_major": 2,
       "version_minor": 0
      },
      "text/plain": [
       "  0%|          | 0/27 [00:00<?, ?it/s]"
      ]
     },
     "metadata": {},
     "output_type": "display_data"
    },
    {
     "name": "stdout",
     "output_type": "stream",
     "text": [
      "Saving S:\\QRAM\\qram_4QR2\\data\\data_250119\\00044_QramProtocol3QTomo.h5\n",
      "init_state |0+1>|1> play pulses [2, 1, 1, 2, 2, 1, 1, 2, 2, 1, 3, 4]\n",
      "timesteps [inf]\n"
     ]
    },
    {
     "data": {
      "application/vnd.jupyter.widget-view+json": {
       "model_id": "7e7268620ec2400091cf3dd6b0a1e33e",
       "version_major": 2,
       "version_minor": 0
      },
      "text/plain": [
       "  0%|          | 0/8 [00:00<?, ?it/s]"
      ]
     },
     "metadata": {},
     "output_type": "display_data"
    },
    {
     "name": "stdout",
     "output_type": "stream",
     "text": [
      "Qubit  (0)\n",
      "ge fidelity (%): 70.00000000000006 \t angle (deg): 165.4166849287761 \t threshold ge: 228.96702295239373\n",
      "Qubit  (2)\n",
      "ge fidelity (%): 78.00000000000004 \t angle (deg): 173.299912777609 \t threshold ge: 84.03678313445538\n",
      "Qubit  (3)\n",
      "ge fidelity (%): 80.00000000000004 \t angle (deg): -179.7073932732485 \t threshold ge: 107.08561437512803\n",
      "thresholds=[228.96702295239373, 0, 84.03678313445538, 107.08561437512803],\n",
      "angles=[165.4166849287761, 0, 173.299912777609, -179.7073932732485],\n",
      "ge_avgs=[array([-132.19774964,  -94.04765557, -254.70905933, -125.92136758]), [0, 0, 0, 0], array([ -19.20540423, -108.50688551, -122.49049919, -120.64025502]), array([ -57.63857422,   -7.6512207 , -141.19622396,   -7.22449219])] ,\n",
      "counts_calib=[[79, 3, 10, 1, 7, 0, 0, 0], [17, 71, 0, 4, 0, 7, 0, 1], [9, 1, 74, 4, 2, 0, 10, 0], [1, 9, 19, 62, 1, 1, 2, 5], [22, 0, 2, 0, 70, 0, 6, 0], [2, 8, 0, 1, 13, 66, 2, 8], [0, 0, 9, 0, 13, 1, 75, 2], [0, 2, 0, 9, 4, 15, 11, 59]]\n",
      "\n"
     ]
    },
    {
     "data": {
      "application/vnd.jupyter.widget-view+json": {
       "model_id": "9b4537531a4043469b2a2354f03132e7",
       "version_major": 2,
       "version_minor": 0
      },
      "text/plain": [
       "  0%|          | 0/1 [00:00<?, ?it/s]"
      ]
     },
     "metadata": {},
     "output_type": "display_data"
    },
    {
     "data": {
      "application/vnd.jupyter.widget-view+json": {
       "model_id": "242ca3d4daa64a0dae9f63f7f2ea82bf",
       "version_major": 2,
       "version_minor": 0
      },
      "text/plain": [
       "  0%|          | 0/27 [00:00<?, ?it/s]"
      ]
     },
     "metadata": {},
     "output_type": "display_data"
    },
    {
     "name": "stdout",
     "output_type": "stream",
     "text": [
      "Saving S:\\QRAM\\qram_4QR2\\data\\data_250119\\00045_QramProtocol3QTomo.h5\n",
      "init_state |0+1>|0+1> play pulses [2, 1, 1, 2, 2, 1, 1, 2, 2, 1, 3, 4]\n",
      "timesteps [inf]\n"
     ]
    },
    {
     "data": {
      "application/vnd.jupyter.widget-view+json": {
       "model_id": "bb69a3ae117e4adaa28e5ff9d5c9de20",
       "version_major": 2,
       "version_minor": 0
      },
      "text/plain": [
       "  0%|          | 0/8 [00:00<?, ?it/s]"
      ]
     },
     "metadata": {},
     "output_type": "display_data"
    },
    {
     "name": "stdout",
     "output_type": "stream",
     "text": [
      "Qubit  (0)\n",
      "ge fidelity (%): 85.00000000000007 \t angle (deg): 168.57135766823893 \t threshold ge: 219.99255696867544\n",
      "Qubit  (2)\n",
      "ge fidelity (%): 79.8989898989899 \t angle (deg): -178.11888853020548 \t threshold ge: 57.522296735032256\n",
      "Qubit  (3)\n",
      "ge fidelity (%): 79.00000000000004 \t angle (deg): -178.9138160320417 \t threshold ge: 93.19897530275522\n",
      "thresholds=[219.99255696867544, 0, 57.522296735032256, 93.19897530275522],\n",
      "angles=[168.57135766823893, 0, -178.11888853020548, -178.9138160320417],\n",
      "ge_avgs=[array([-127.59344428,  -90.04675832, -297.85316932, -124.46572359]), [0, 0, 0, 0], array([ -12.18677699, -119.47748237, -116.85935974, -116.03967987]), array([ -57.30391602,   -9.58903971, -139.29329102,   -8.03454102])] ,\n",
      "counts_calib=[[73, 10, 10, 1, 6, 0, 0, 0], [9, 70, 1, 13, 1, 6, 0, 0], [9, 1, 82, 2, 0, 0, 6, 0], [0, 7, 7, 82, 0, 0, 1, 3], [5, 2, 3, 0, 80, 3, 7, 0], [1, 9, 0, 2, 9, 66, 2, 11], [0, 0, 7, 0, 6, 2, 83, 2], [0, 1, 0, 2, 2, 11, 13, 71]]\n",
      "\n"
     ]
    },
    {
     "data": {
      "application/vnd.jupyter.widget-view+json": {
       "model_id": "8bbbd668ae944c8894c6e7e6d0ddb8a6",
       "version_major": 2,
       "version_minor": 0
      },
      "text/plain": [
       "  0%|          | 0/1 [00:00<?, ?it/s]"
      ]
     },
     "metadata": {},
     "output_type": "display_data"
    },
    {
     "data": {
      "application/vnd.jupyter.widget-view+json": {
       "model_id": "088b9e247e644c2aa0f23a091ee22e2f",
       "version_major": 2,
       "version_minor": 0
      },
      "text/plain": [
       "  0%|          | 0/27 [00:00<?, ?it/s]"
      ]
     },
     "metadata": {},
     "output_type": "display_data"
    },
    {
     "name": "stdout",
     "output_type": "stream",
     "text": [
      "Saving S:\\QRAM\\qram_4QR2\\data\\data_250119\\00046_QramProtocol3QTomo.h5\n",
      "init_state |0+1>|0+i> play pulses [2, 1, 1, 2, 2, 1, 1, 2, 2, 1, 3, 4]\n",
      "timesteps [inf]\n"
     ]
    },
    {
     "data": {
      "application/vnd.jupyter.widget-view+json": {
       "model_id": "f13777597b554cc0b5c7e7a904507c8f",
       "version_major": 2,
       "version_minor": 0
      },
      "text/plain": [
       "  0%|          | 0/8 [00:00<?, ?it/s]"
      ]
     },
     "metadata": {},
     "output_type": "display_data"
    },
    {
     "name": "stdout",
     "output_type": "stream",
     "text": [
      "Qubit  (0)\n",
      "ge fidelity (%): 84.00000000000004 \t angle (deg): 169.15519904671595 \t threshold ge: 204.97652640144432\n",
      "Qubit  (2)\n",
      "ge fidelity (%): 83.95959595959592 \t angle (deg): 169.38745921717583 \t threshold ge: 90.98528436869269\n",
      "Qubit  (3)\n",
      "ge fidelity (%): 81.94949494949486 \t angle (deg): 179.36238904179467 \t threshold ge: 103.18724309351529\n",
      "thresholds=[204.97652640144432, 0, 90.98528436869269, 103.18724309351529],\n",
      "angles=[169.15519904671595, 0, 169.38745921717583, 179.36238904179467],\n",
      "ge_avgs=[array([-113.75507236,  -94.30375543, -279.6240521 , -126.07939219]), [0, 0, 0, 0], array([  -6.36293543, -106.23520347, -129.82070537, -129.36766685]), array([ -52.86786784,   -6.99562174, -141.20850911,   -7.97875326])] ,\n",
      "counts_calib=[[84, 5, 4, 1, 5, 0, 1, 0], [11, 75, 1, 6, 1, 6, 0, 0], [7, 0, 79, 3, 4, 0, 7, 0], [1, 9, 6, 79, 0, 0, 1, 4], [11, 0, 0, 0, 72, 3, 14, 0], [2, 11, 1, 0, 12, 66, 2, 6], [0, 0, 13, 0, 8, 0, 75, 4], [0, 0, 0, 5, 1, 14, 11, 69]]\n",
      "\n"
     ]
    },
    {
     "data": {
      "application/vnd.jupyter.widget-view+json": {
       "model_id": "72fbc530d76049fab0b543aa13bd1380",
       "version_major": 2,
       "version_minor": 0
      },
      "text/plain": [
       "  0%|          | 0/1 [00:00<?, ?it/s]"
      ]
     },
     "metadata": {},
     "output_type": "display_data"
    },
    {
     "data": {
      "application/vnd.jupyter.widget-view+json": {
       "model_id": "5e6e90464af94c8ca04ef8dc7272f26f",
       "version_major": 2,
       "version_minor": 0
      },
      "text/plain": [
       "  0%|          | 0/27 [00:00<?, ?it/s]"
      ]
     },
     "metadata": {},
     "output_type": "display_data"
    },
    {
     "name": "stdout",
     "output_type": "stream",
     "text": [
      "Saving S:\\QRAM\\qram_4QR2\\data\\data_250119\\00047_QramProtocol3QTomo.h5\n",
      "init_state |0+i>|0> play pulses [2, 1, 1, 2, 2, 1, 1, 2, 2, 1, 3, 4]\n",
      "timesteps [inf]\n"
     ]
    },
    {
     "data": {
      "application/vnd.jupyter.widget-view+json": {
       "model_id": "a6c971794f3a481db382634753c98bc4",
       "version_major": 2,
       "version_minor": 0
      },
      "text/plain": [
       "  0%|          | 0/8 [00:00<?, ?it/s]"
      ]
     },
     "metadata": {},
     "output_type": "display_data"
    },
    {
     "name": "stdout",
     "output_type": "stream",
     "text": [
      "Qubit  (0)\n",
      "ge fidelity (%): 82.92929292929287 \t angle (deg): 167.75519740218095 \t threshold ge: 235.3482428969894\n",
      "Qubit  (2)\n",
      "ge fidelity (%): 79.00000000000004 \t angle (deg): 169.01299908491276 \t threshold ge: 83.68889605446049\n",
      "Qubit  (3)\n",
      "ge fidelity (%): 85.00000000000006 \t angle (deg): -176.97533340204228 \t threshold ge: 105.16046092030359\n",
      "thresholds=[235.3482428969894, 0, 83.68889605446049, 105.16046092030359],\n",
      "angles=[167.75519740218095, 0, 169.01299908491276, -176.97533340204228],\n",
      "ge_avgs=[array([-144.42401592,  -90.87884226, -301.11013025, -124.88384949]), [0, 0, 0, 0], array([ -11.33317417, -109.99130222, -123.92900163, -131.85120456]), array([ -55.04312826,   -9.77632161, -142.13958984,   -5.17418945])] ,\n",
      "counts_calib=[[79, 3, 9, 1, 7, 0, 1, 0], [8, 73, 3, 5, 1, 9, 0, 1], [12, 0, 76, 3, 0, 0, 9, 0], [1, 6, 15, 67, 0, 0, 1, 10], [7, 0, 3, 0, 72, 3, 15, 0], [3, 7, 0, 0, 12, 69, 3, 6], [1, 0, 6, 0, 13, 1, 76, 3], [1, 0, 2, 7, 2, 4, 16, 68]]\n",
      "\n"
     ]
    },
    {
     "data": {
      "application/vnd.jupyter.widget-view+json": {
       "model_id": "31f16be0ebfb499799aa8f359fb68b4c",
       "version_major": 2,
       "version_minor": 0
      },
      "text/plain": [
       "  0%|          | 0/1 [00:00<?, ?it/s]"
      ]
     },
     "metadata": {},
     "output_type": "display_data"
    },
    {
     "data": {
      "application/vnd.jupyter.widget-view+json": {
       "model_id": "dbaf534b4d154d0fa77e4c9e874d2110",
       "version_major": 2,
       "version_minor": 0
      },
      "text/plain": [
       "  0%|          | 0/27 [00:00<?, ?it/s]"
      ]
     },
     "metadata": {},
     "output_type": "display_data"
    },
    {
     "name": "stdout",
     "output_type": "stream",
     "text": [
      "Saving S:\\QRAM\\qram_4QR2\\data\\data_250119\\00048_QramProtocol3QTomo.h5\n",
      "init_state |0+i>|1> play pulses [2, 1, 1, 2, 2, 1, 1, 2, 2, 1, 3, 4]\n",
      "timesteps [inf]\n"
     ]
    },
    {
     "data": {
      "application/vnd.jupyter.widget-view+json": {
       "model_id": "68f5276676844db7a3097de4d2c9149f",
       "version_major": 2,
       "version_minor": 0
      },
      "text/plain": [
       "  0%|          | 0/8 [00:00<?, ?it/s]"
      ]
     },
     "metadata": {},
     "output_type": "display_data"
    },
    {
     "name": "stdout",
     "output_type": "stream",
     "text": [
      "Qubit  (0)\n",
      "ge fidelity (%): 87.00000000000003 \t angle (deg): 168.19264677929496 \t threshold ge: 209.3135006884668\n",
      "Qubit  (2)\n",
      "ge fidelity (%): 77.00000000000004 \t angle (deg): 170.24558397391175 \t threshold ge: 78.81488903759283\n",
      "Qubit  (3)\n",
      "ge fidelity (%): 81.96969696969688 \t angle (deg): 176.9087692773123 \t threshold ge: 100.19818726052742\n",
      "thresholds=[209.3135006884668, 0, 78.81488903759283, 100.19818726052742],\n",
      "angles=[168.19264677929496, 0, 170.24558397391175, 176.9087692773123],\n",
      "ge_avgs=[array([-130.53675832,  -95.06785818, -307.94561505, -132.15426194]), [0, 0, 0, 0], array([  -9.81796527, -113.30245795, -119.51546392, -132.16064026]), array([ -52.00889974,   -4.24047852, -136.13102214,   -8.78345703])] ,\n",
      "counts_calib=[[74, 3, 13, 1, 9, 0, 0, 0], [13, 72, 2, 9, 0, 4, 0, 0], [7, 2, 78, 3, 1, 0, 8, 1], [2, 10, 17, 67, 0, 0, 0, 4], [4, 0, 1, 0, 80, 1, 13, 1], [2, 7, 1, 0, 9, 64, 1, 16], [1, 0, 6, 0, 10, 0, 81, 2], [0, 1, 0, 4, 1, 6, 19, 69]]\n",
      "\n"
     ]
    },
    {
     "data": {
      "application/vnd.jupyter.widget-view+json": {
       "model_id": "ba81b7acc30d4abeaf9625b18d6a31fb",
       "version_major": 2,
       "version_minor": 0
      },
      "text/plain": [
       "  0%|          | 0/1 [00:00<?, ?it/s]"
      ]
     },
     "metadata": {},
     "output_type": "display_data"
    },
    {
     "data": {
      "application/vnd.jupyter.widget-view+json": {
       "model_id": "0f5232f7d19e449eba4bf95c480be68b",
       "version_major": 2,
       "version_minor": 0
      },
      "text/plain": [
       "  0%|          | 0/27 [00:00<?, ?it/s]"
      ]
     },
     "metadata": {},
     "output_type": "display_data"
    },
    {
     "name": "stdout",
     "output_type": "stream",
     "text": [
      "Saving S:\\QRAM\\qram_4QR2\\data\\data_250119\\00049_QramProtocol3QTomo.h5\n",
      "init_state |0+i>|0+1> play pulses [2, 1, 1, 2, 2, 1, 1, 2, 2, 1, 3, 4]\n",
      "timesteps [inf]\n"
     ]
    },
    {
     "data": {
      "application/vnd.jupyter.widget-view+json": {
       "model_id": "07a03c5b280544e1b2465324d699bf4a",
       "version_major": 2,
       "version_minor": 0
      },
      "text/plain": [
       "  0%|          | 0/8 [00:00<?, ?it/s]"
      ]
     },
     "metadata": {},
     "output_type": "display_data"
    },
    {
     "name": "stdout",
     "output_type": "stream",
     "text": [
      "Qubit  (0)\n",
      "ge fidelity (%): 84.95959595959596 \t angle (deg): 169.34374364955835 \t threshold ge: 219.2528845312973\n",
      "Qubit  (2)\n",
      "ge fidelity (%): 77.00000000000003 \t angle (deg): 175.45166586675 \t threshold ge: 76.8778591532037\n",
      "Qubit  (3)\n",
      "ge fidelity (%): 86.9494949494949 \t angle (deg): -179.0722887652758 \t threshold ge: 88.92909096686745\n",
      "thresholds=[219.2528845312973, 0, 76.8778591532037, 88.92909096686745],\n",
      "angles=[169.34374364955835, 0, 175.45166586675, -179.0722887652758],\n",
      "ge_avgs=[array([-114.04837916,  -90.17329957, -291.50554269, -123.56387844]), [0, 0, 0, 0], array([ -15.08488877, -105.40844818, -118.75607162, -113.65555073]), array([ -50.04238607,   -5.26015299, -141.70649089,   -3.77583333])] ,\n",
      "counts_calib=[[80, 6, 9, 0, 4, 0, 1, 0], [7, 81, 0, 6, 1, 5, 0, 0], [14, 0, 76, 5, 0, 0, 5, 0], [3, 8, 11, 70, 0, 1, 2, 5], [11, 0, 0, 0, 76, 3, 8, 2], [2, 12, 0, 0, 10, 67, 3, 6], [0, 0, 12, 1, 10, 1, 68, 8], [0, 0, 2, 7, 2, 7, 13, 69]]\n",
      "\n"
     ]
    },
    {
     "data": {
      "application/vnd.jupyter.widget-view+json": {
       "model_id": "b0ea72f6164544a88a332178b6a1b9e9",
       "version_major": 2,
       "version_minor": 0
      },
      "text/plain": [
       "  0%|          | 0/1 [00:00<?, ?it/s]"
      ]
     },
     "metadata": {},
     "output_type": "display_data"
    },
    {
     "data": {
      "application/vnd.jupyter.widget-view+json": {
       "model_id": "90b30f5f6ae24ca6abaad54738e2f412",
       "version_major": 2,
       "version_minor": 0
      },
      "text/plain": [
       "  0%|          | 0/27 [00:00<?, ?it/s]"
      ]
     },
     "metadata": {},
     "output_type": "display_data"
    },
    {
     "name": "stdout",
     "output_type": "stream",
     "text": [
      "Saving S:\\QRAM\\qram_4QR2\\data\\data_250119\\00050_QramProtocol3QTomo.h5\n",
      "init_state |0+i>|0+i> play pulses [2, 1, 1, 2, 2, 1, 1, 2, 2, 1, 3, 4]\n",
      "timesteps [inf]\n"
     ]
    },
    {
     "data": {
      "application/vnd.jupyter.widget-view+json": {
       "model_id": "0d1ead8772624d36904ea1013b132b32",
       "version_major": 2,
       "version_minor": 0
      },
      "text/plain": [
       "  0%|          | 0/8 [00:00<?, ?it/s]"
      ]
     },
     "metadata": {},
     "output_type": "display_data"
    },
    {
     "name": "stdout",
     "output_type": "stream",
     "text": [
      "Qubit  (0)\n",
      "ge fidelity (%): 88.91919191919186 \t angle (deg): 165.73507263142008 \t threshold ge: 207.56005792717642\n",
      "Qubit  (2)\n",
      "ge fidelity (%): 77.00000000000006 \t angle (deg): 172.2509635725807 \t threshold ge: 82.3989489931263\n",
      "Qubit  (3)\n",
      "ge fidelity (%): 81.00000000000006 \t angle (deg): 174.07115805540397 \t threshold ge: 95.11791176496956\n",
      "thresholds=[207.56005792717642, 0, 82.3989489931263, 95.11791176496956],\n",
      "angles=[165.73507263142008, 0, 172.2509635725807, 174.07115805540397],\n",
      "ge_avgs=[array([-127.23077424,  -96.30373372, -317.09486975, -144.57573082]), [0, 0, 0, 0], array([ -15.34920781, -101.44737927, -116.68079219, -115.23626696]), array([ -51.52025065,   -1.03859049, -130.35310872,   -9.2252832 ])] ,\n",
      "counts_calib=[[77, 5, 9, 0, 6, 0, 3, 0], [10, 74, 3, 4, 2, 7, 0, 0], [11, 0, 77, 2, 1, 0, 9, 0], [3, 8, 17, 65, 0, 1, 2, 4], [3, 0, 0, 0, 77, 12, 8, 0], [1, 12, 0, 1, 7, 65, 1, 13], [2, 0, 9, 0, 8, 0, 77, 4], [0, 2, 0, 10, 1, 9, 7, 71]]\n",
      "\n"
     ]
    },
    {
     "data": {
      "application/vnd.jupyter.widget-view+json": {
       "model_id": "2fc11242518a40289a884f852b941d64",
       "version_major": 2,
       "version_minor": 0
      },
      "text/plain": [
       "  0%|          | 0/1 [00:00<?, ?it/s]"
      ]
     },
     "metadata": {},
     "output_type": "display_data"
    },
    {
     "data": {
      "application/vnd.jupyter.widget-view+json": {
       "model_id": "27d2cc705a484ac294bb9cf2c039807a",
       "version_major": 2,
       "version_minor": 0
      },
      "text/plain": [
       "  0%|          | 0/27 [00:00<?, ?it/s]"
      ]
     },
     "metadata": {},
     "output_type": "display_data"
    },
    {
     "name": "stdout",
     "output_type": "stream",
     "text": [
      "Saving S:\\QRAM\\qram_4QR2\\data\\data_250119\\00051_QramProtocol3QTomo.h5\n",
      "-------------------\n",
      "Starting iteration 1 for n_forward_backward 2\n"
     ]
    },
    {
     "data": {
      "application/vnd.jupyter.widget-view+json": {
       "model_id": "f973ca5c22c34e939254e4441fdcd757",
       "version_major": 2,
       "version_minor": 0
      },
      "text/plain": [
       "  0%|          | 0/16 [00:00<?, ?it/s]"
      ]
     },
     "metadata": {},
     "output_type": "display_data"
    },
    {
     "name": "stdout",
     "output_type": "stream",
     "text": [
      "init_state |0>|0> play pulses [2, 1, 1, 2, 2, 1, 1, 2, 2, 1, 3, 4]\n",
      "timesteps [inf]\n"
     ]
    },
    {
     "data": {
      "application/vnd.jupyter.widget-view+json": {
       "model_id": "de963ff5f75a4cadb6bb763357bd9aea",
       "version_major": 2,
       "version_minor": 0
      },
      "text/plain": [
       "  0%|          | 0/8 [00:00<?, ?it/s]"
      ]
     },
     "metadata": {},
     "output_type": "display_data"
    },
    {
     "name": "stdout",
     "output_type": "stream",
     "text": [
      "Qubit  (0)\n",
      "ge fidelity (%): 83.96969696969694 \t angle (deg): 167.65913669457632 \t threshold ge: 225.85075112912654\n",
      "Qubit  (2)\n",
      "ge fidelity (%): 73.90909090909086 \t angle (deg): 173.4035708813841 \t threshold ge: 86.07149649522665\n",
      "Qubit  (3)\n",
      "ge fidelity (%): 87.96969696969693 \t angle (deg): 178.8402021001541 \t threshold ge: 106.41933296655806\n",
      "thresholds=[225.85075112912654, 0, 86.07149649522665, 106.41933296655806],\n",
      "angles=[167.65913669457632, 0, 173.4035708813841, 178.8402021001541],\n",
      "ge_avgs=[array([-111.07549928,  -88.90070188, -295.46877713, -129.24272069]), [0, 0, 0, 0], array([ -20.82040695,  -95.92595225, -119.25481823, -107.30898535]), array([ -53.20653646,   -5.68670247, -143.59093099,   -7.51653971])] ,\n",
      "counts_calib=[[82, 4, 10, 0, 3, 0, 1, 0], [9, 81, 0, 6, 0, 4, 0, 0], [16, 0, 82, 1, 0, 0, 1, 0], [2, 10, 11, 69, 0, 0, 1, 7], [13, 0, 0, 0, 76, 3, 7, 1], [2, 8, 0, 0, 9, 72, 1, 8], [2, 0, 5, 1, 16, 0, 75, 1], [1, 0, 5, 12, 3, 9, 14, 56]]\n",
      "\n"
     ]
    },
    {
     "data": {
      "application/vnd.jupyter.widget-view+json": {
       "model_id": "c9fbcb4940e646d59b62920cf88f82f1",
       "version_major": 2,
       "version_minor": 0
      },
      "text/plain": [
       "  0%|          | 0/1 [00:00<?, ?it/s]"
      ]
     },
     "metadata": {},
     "output_type": "display_data"
    },
    {
     "data": {
      "application/vnd.jupyter.widget-view+json": {
       "model_id": "903a4524a410417b80d7cdb7d935d295",
       "version_major": 2,
       "version_minor": 0
      },
      "text/plain": [
       "  0%|          | 0/27 [00:00<?, ?it/s]"
      ]
     },
     "metadata": {},
     "output_type": "display_data"
    },
    {
     "name": "stdout",
     "output_type": "stream",
     "text": [
      "Saving S:\\QRAM\\qram_4QR2\\data\\data_250119\\00052_QramProtocol3QTomo.h5\n",
      "init_state |0>|1> play pulses [2, 1, 1, 2, 2, 1, 1, 2, 2, 1, 3, 4]\n",
      "timesteps [inf]\n"
     ]
    },
    {
     "data": {
      "application/vnd.jupyter.widget-view+json": {
       "model_id": "21bfef7e6c2e43ad8bbe6e02ea9e226f",
       "version_major": 2,
       "version_minor": 0
      },
      "text/plain": [
       "  0%|          | 0/8 [00:00<?, ?it/s]"
      ]
     },
     "metadata": {},
     "output_type": "display_data"
    },
    {
     "name": "stdout",
     "output_type": "stream",
     "text": [
      "Qubit  (0)\n",
      "ge fidelity (%): 86.00000000000004 \t angle (deg): 166.9979541012785 \t threshold ge: 239.80694131424778\n",
      "Qubit  (2)\n",
      "ge fidelity (%): 80.96969696969694 \t angle (deg): 173.1069395208666 \t threshold ge: 94.7138590780677\n",
      "Qubit  (3)\n",
      "ge fidelity (%): 80.93939393939388 \t angle (deg): 177.86555141537622 \t threshold ge: 89.59425805684826\n",
      "thresholds=[239.80694131424778, 0, 94.7138590780677, 89.59425805684826],\n",
      "angles=[166.9979541012785, 0, 173.1069395208666, 177.86555141537622],\n",
      "ge_avgs=[array([-122.09239508,  -93.81065123, -300.98138205, -135.1171563 ]), [0, 0, 0, 0], array([ -11.20598481, -110.39839392, -125.25864894, -124.18626696]), array([ -54.40127279,   -1.76890299, -139.89861979,   -4.95542318])] ,\n",
      "counts_calib=[[85, 7, 5, 0, 3, 0, 0, 0], [11, 73, 0, 9, 1, 5, 1, 0], [14, 1, 62, 13, 1, 0, 7, 2], [2, 13, 12, 64, 0, 1, 1, 7], [10, 1, 1, 0, 76, 5, 6, 1], [0, 5, 1, 1, 7, 82, 1, 3], [4, 1, 7, 0, 12, 1, 70, 5], [0, 6, 2, 17, 0, 10, 11, 54]]\n",
      "\n"
     ]
    },
    {
     "data": {
      "application/vnd.jupyter.widget-view+json": {
       "model_id": "dee7828f3ac54137b58fa96139613921",
       "version_major": 2,
       "version_minor": 0
      },
      "text/plain": [
       "  0%|          | 0/1 [00:00<?, ?it/s]"
      ]
     },
     "metadata": {},
     "output_type": "display_data"
    },
    {
     "data": {
      "application/vnd.jupyter.widget-view+json": {
       "model_id": "ef7770360ba149af9170b9a50f91550f",
       "version_major": 2,
       "version_minor": 0
      },
      "text/plain": [
       "  0%|          | 0/27 [00:00<?, ?it/s]"
      ]
     },
     "metadata": {},
     "output_type": "display_data"
    },
    {
     "name": "stdout",
     "output_type": "stream",
     "text": [
      "Saving S:\\QRAM\\qram_4QR2\\data\\data_250119\\00053_QramProtocol3QTomo.h5\n",
      "init_state |0>|0+1> play pulses [2, 1, 1, 2, 2, 1, 1, 2, 2, 1, 3, 4]\n",
      "timesteps [inf]\n"
     ]
    },
    {
     "data": {
      "application/vnd.jupyter.widget-view+json": {
       "model_id": "b60013cc0e524c5d84f6b40079efe7b1",
       "version_major": 2,
       "version_minor": 0
      },
      "text/plain": [
       "  0%|          | 0/8 [00:00<?, ?it/s]"
      ]
     },
     "metadata": {},
     "output_type": "display_data"
    },
    {
     "name": "stdout",
     "output_type": "stream",
     "text": [
      "Qubit  (0)\n",
      "ge fidelity (%): 90.00000000000006 \t angle (deg): 165.3956835143971 \t threshold ge: 248.75511301927693\n",
      "Qubit  (2)\n",
      "ge fidelity (%): 83.00000000000006 \t angle (deg): -175.9906377133919 \t threshold ge: 50.60432693133146\n",
      "Qubit  (3)\n",
      "ge fidelity (%): 82.00000000000006 \t angle (deg): -179.88599959742587 \t threshold ge: 97.36658846388215\n",
      "thresholds=[248.75511301927693, 0, 50.60432693133146, 97.36658846388215],\n",
      "angles=[165.3956835143971, 0, -175.9906377133919, -179.88599959742587],\n",
      "ge_avgs=[array([-118.52507236,  -87.93465991, -296.68445007, -134.35603473]), [0, 0, 0, 0], array([  -4.07792729, -127.0575095 , -125.69291915, -118.53339121]), array([ -54.88087891,   -4.05231445, -140.61766276,   -3.88172526])] ,\n",
      "counts_calib=[[79, 5, 12, 0, 4, 0, 0, 0], [13, 70, 1, 11, 0, 4, 0, 1], [5, 0, 85, 4, 1, 0, 5, 0], [7, 4, 19, 65, 0, 1, 0, 4], [6, 0, 1, 0, 84, 2, 7, 0], [1, 5, 0, 7, 11, 64, 1, 11], [0, 1, 13, 0, 10, 0, 73, 3], [0, 0, 1, 7, 2, 9, 12, 69]]\n",
      "\n"
     ]
    },
    {
     "data": {
      "application/vnd.jupyter.widget-view+json": {
       "model_id": "5de97792af754325969fc571ae10cabf",
       "version_major": 2,
       "version_minor": 0
      },
      "text/plain": [
       "  0%|          | 0/1 [00:00<?, ?it/s]"
      ]
     },
     "metadata": {},
     "output_type": "display_data"
    },
    {
     "data": {
      "application/vnd.jupyter.widget-view+json": {
       "model_id": "ea49814a302f49e3b988f64a2de1bf8d",
       "version_major": 2,
       "version_minor": 0
      },
      "text/plain": [
       "  0%|          | 0/27 [00:00<?, ?it/s]"
      ]
     },
     "metadata": {},
     "output_type": "display_data"
    },
    {
     "name": "stdout",
     "output_type": "stream",
     "text": [
      "Saving S:\\QRAM\\qram_4QR2\\data\\data_250119\\00054_QramProtocol3QTomo.h5\n",
      "init_state |0>|0+i> play pulses [2, 1, 1, 2, 2, 1, 1, 2, 2, 1, 3, 4]\n",
      "timesteps [inf]\n"
     ]
    },
    {
     "data": {
      "application/vnd.jupyter.widget-view+json": {
       "model_id": "3e417b78f99e4b9b9993fdada62bbc4e",
       "version_major": 2,
       "version_minor": 0
      },
      "text/plain": [
       "  0%|          | 0/8 [00:00<?, ?it/s]"
      ]
     },
     "metadata": {},
     "output_type": "display_data"
    },
    {
     "name": "stdout",
     "output_type": "stream",
     "text": [
      "Qubit  (0)\n",
      "ge fidelity (%): 83.00000000000004 \t angle (deg): 164.3808088633465 \t threshold ge: 232.39805261040559\n",
      "Qubit  (2)\n",
      "ge fidelity (%): 77.95959595959592 \t angle (deg): 174.4244758717852 \t threshold ge: 98.27266425382852\n",
      "Qubit  (3)\n",
      "ge fidelity (%): 82.00000000000006 \t angle (deg): 178.13920017012654 \t threshold ge: 94.30254483476953\n",
      "thresholds=[232.39805261040559, 0, 98.27266425382852, 94.30254483476953],\n",
      "angles=[164.3808088633465, 0, 174.4244758717852, 178.13920017012654],\n",
      "ge_avgs=[array([-129.88919682,  -92.9823589 , -293.73465268, -138.78799566]), [0, 0, 0, 0], array([ -14.65654368, -112.39592512, -126.95355399, -123.35831253]), array([ -58.55974609,   -5.57621094, -143.48601237,   -8.33533854])] ,\n",
      "counts_calib=[[79, 9, 6, 0, 5, 1, 0, 0], [8, 80, 0, 5, 1, 6, 0, 0], [16, 1, 70, 6, 1, 0, 6, 0], [4, 12, 14, 68, 0, 1, 0, 1], [10, 1, 0, 1, 76, 5, 6, 1], [1, 10, 0, 0, 11, 70, 1, 7], [3, 0, 7, 2, 18, 1, 65, 4], [0, 4, 0, 9, 4, 15, 9, 59]]\n",
      "\n"
     ]
    },
    {
     "data": {
      "application/vnd.jupyter.widget-view+json": {
       "model_id": "094b7bde54ff4f428a3898091d91c190",
       "version_major": 2,
       "version_minor": 0
      },
      "text/plain": [
       "  0%|          | 0/1 [00:00<?, ?it/s]"
      ]
     },
     "metadata": {},
     "output_type": "display_data"
    },
    {
     "data": {
      "application/vnd.jupyter.widget-view+json": {
       "model_id": "cc740d10e6bf4ff3aedb53084eb47f64",
       "version_major": 2,
       "version_minor": 0
      },
      "text/plain": [
       "  0%|          | 0/27 [00:00<?, ?it/s]"
      ]
     },
     "metadata": {},
     "output_type": "display_data"
    },
    {
     "name": "stdout",
     "output_type": "stream",
     "text": [
      "Saving S:\\QRAM\\qram_4QR2\\data\\data_250119\\00055_QramProtocol3QTomo.h5\n",
      "init_state |1>|0> play pulses [2, 1, 1, 2, 2, 1, 1, 2, 2, 1, 3, 4]\n",
      "timesteps [inf]\n"
     ]
    },
    {
     "data": {
      "application/vnd.jupyter.widget-view+json": {
       "model_id": "392fa30fa6c74f9fa4c07ebc6de4dd73",
       "version_major": 2,
       "version_minor": 0
      },
      "text/plain": [
       "  0%|          | 0/8 [00:00<?, ?it/s]"
      ]
     },
     "metadata": {},
     "output_type": "display_data"
    },
    {
     "name": "stdout",
     "output_type": "stream",
     "text": [
      "Qubit  (0)\n",
      "ge fidelity (%): 86.00000000000004 \t angle (deg): 167.4403047910434 \t threshold ge: 215.84494540770922\n",
      "Qubit  (2)\n",
      "ge fidelity (%): 81.00000000000006 \t angle (deg): 175.44859558064869 \t threshold ge: 78.77799842165192\n",
      "Qubit  (3)\n",
      "ge fidelity (%): 75.00000000000004 \t angle (deg): -179.00056406032252 \t threshold ge: 85.0438945329961\n",
      "thresholds=[215.84494540770922, 0, 78.77799842165192, 85.0438945329961],\n",
      "angles=[167.4403047910434, 0, 175.44859558064869, -179.00056406032252],\n",
      "ge_avgs=[array([-119.92318379,  -93.49172214, -295.92347323, -132.70247467]), [0, 0, 0, 0], array([ -16.12730331, -114.67153554, -126.71716224, -123.47498644]), array([ -52.48992188,   -9.79741536, -128.97600911,   -8.46309896])] ,\n",
      "counts_calib=[[81, 3, 8, 2, 4, 1, 1, 0], [16, 70, 5, 4, 0, 5, 0, 0], [6, 1, 77, 9, 2, 0, 5, 0], [2, 8, 9, 75, 0, 1, 0, 5], [8, 1, 1, 0, 72, 9, 9, 0], [8, 14, 2, 0, 5, 59, 2, 10], [2, 0, 14, 1, 11, 0, 65, 7], [0, 1, 1, 9, 7, 11, 4, 67]]\n",
      "\n"
     ]
    },
    {
     "data": {
      "application/vnd.jupyter.widget-view+json": {
       "model_id": "4a58e2d6860a41e3a8fb2a5ad777653a",
       "version_major": 2,
       "version_minor": 0
      },
      "text/plain": [
       "  0%|          | 0/1 [00:00<?, ?it/s]"
      ]
     },
     "metadata": {},
     "output_type": "display_data"
    },
    {
     "data": {
      "application/vnd.jupyter.widget-view+json": {
       "model_id": "153fb8884e4c47e9853784453e5641bb",
       "version_major": 2,
       "version_minor": 0
      },
      "text/plain": [
       "  0%|          | 0/27 [00:00<?, ?it/s]"
      ]
     },
     "metadata": {},
     "output_type": "display_data"
    },
    {
     "name": "stdout",
     "output_type": "stream",
     "text": [
      "Saving S:\\QRAM\\qram_4QR2\\data\\data_250119\\00056_QramProtocol3QTomo.h5\n",
      "init_state |1>|1> play pulses [2, 1, 1, 2, 2, 1, 1, 2, 2, 1, 3, 4]\n",
      "timesteps [inf]\n"
     ]
    },
    {
     "data": {
      "application/vnd.jupyter.widget-view+json": {
       "model_id": "71169299c6074dc484655cb337637947",
       "version_major": 2,
       "version_minor": 0
      },
      "text/plain": [
       "  0%|          | 0/8 [00:00<?, ?it/s]"
      ]
     },
     "metadata": {},
     "output_type": "display_data"
    },
    {
     "name": "stdout",
     "output_type": "stream",
     "text": [
      "Qubit  (0)\n",
      "ge fidelity (%): 88.91919191919186 \t angle (deg): 164.512433613906 \t threshold ge: 211.14348065322062\n",
      "Qubit  (2)\n",
      "ge fidelity (%): 76.85858585858581 \t angle (deg): 172.63647735109973 \t threshold ge: 79.76672670556657\n",
      "Qubit  (3)\n",
      "ge fidelity (%): 84.00000000000006 \t angle (deg): 177.8262053789318 \t threshold ge: 105.78932645119922\n",
      "thresholds=[211.14348065322062, 0, 79.76672670556657, 105.78932645119922],\n",
      "angles=[164.512433613906, 0, 172.63647735109973, 177.8262053789318],\n",
      "ge_avgs=[array([-125.93198987,  -83.94136758, -308.93856729, -134.65081766]), [0, 0, 0, 0], array([ -11.08944655, -111.627949  , -119.84833966, -125.68285947]), array([ -54.58934896,   -1.82125977, -141.78581706,   -5.13107096])] ,\n",
      "counts_calib=[[74, 2, 14, 1, 9, 0, 0, 0], [12, 66, 2, 8, 0, 11, 0, 1], [7, 0, 85, 2, 2, 0, 4, 0], [1, 9, 9, 73, 0, 3, 1, 4], [3, 0, 0, 0, 84, 1, 12, 0], [2, 8, 0, 0, 15, 71, 1, 3], [0, 0, 9, 0, 7, 1, 82, 1], [0, 0, 0, 7, 1, 11, 10, 71]]\n",
      "\n"
     ]
    },
    {
     "data": {
      "application/vnd.jupyter.widget-view+json": {
       "model_id": "63557f8ccf7d49c5954ef70ed380c284",
       "version_major": 2,
       "version_minor": 0
      },
      "text/plain": [
       "  0%|          | 0/1 [00:00<?, ?it/s]"
      ]
     },
     "metadata": {},
     "output_type": "display_data"
    },
    {
     "data": {
      "application/vnd.jupyter.widget-view+json": {
       "model_id": "c8f5eb4515d847a68d02b850d163de64",
       "version_major": 2,
       "version_minor": 0
      },
      "text/plain": [
       "  0%|          | 0/27 [00:00<?, ?it/s]"
      ]
     },
     "metadata": {},
     "output_type": "display_data"
    },
    {
     "name": "stdout",
     "output_type": "stream",
     "text": [
      "Saving S:\\QRAM\\qram_4QR2\\data\\data_250119\\00057_QramProtocol3QTomo.h5\n",
      "init_state |1>|0+1> play pulses [2, 1, 1, 2, 2, 1, 1, 2, 2, 1, 3, 4]\n",
      "timesteps [inf]\n"
     ]
    },
    {
     "data": {
      "application/vnd.jupyter.widget-view+json": {
       "model_id": "a975869d77594dee9730567b25f07197",
       "version_major": 2,
       "version_minor": 0
      },
      "text/plain": [
       "  0%|          | 0/8 [00:00<?, ?it/s]"
      ]
     },
     "metadata": {},
     "output_type": "display_data"
    },
    {
     "name": "stdout",
     "output_type": "stream",
     "text": [
      "Qubit  (0)\n",
      "ge fidelity (%): 85.00000000000004 \t angle (deg): 165.17928623920739 \t threshold ge: 191.68910520051122\n",
      "Qubit  (2)\n",
      "ge fidelity (%): 73.84848484848483 \t angle (deg): 175.3089940854361 \t threshold ge: 70.58040410361774\n",
      "Qubit  (3)\n",
      "ge fidelity (%): 66.00000000000006 \t angle (deg): 176.04445669651065 \t threshold ge: 97.6438365256041\n",
      "thresholds=[191.68910520051122, 0, 70.58040410361774, 97.6438365256041],\n",
      "angles=[165.17928623920739, 0, 175.3089940854361, 176.04445669651065],\n",
      "ge_avgs=[array([-115.29400145,  -87.24200434, -287.48983357, -132.80471056]), [0, 0, 0, 0], array([ -20.20524145, -107.26507868, -121.03726533, -115.53904504]), array([ -50.31144857,   -7.00958984, -110.24237956,  -11.15364258])] ,\n",
      "counts_calib=[[75, 2, 14, 2, 7, 0, 0, 0], [26, 49, 3, 10, 2, 8, 0, 2], [9, 0, 74, 5, 2, 0, 10, 0], [22, 5, 19, 42, 0, 0, 2, 10], [8, 0, 1, 0, 79, 1, 11, 0], [0, 15, 2, 1, 8, 59, 3, 12], [6, 0, 7, 1, 10, 0, 75, 1], [9, 0, 2, 5, 2, 10, 9, 63]]\n",
      "\n"
     ]
    },
    {
     "data": {
      "application/vnd.jupyter.widget-view+json": {
       "model_id": "2b6f286e3b624a9c8d6411fc6859ee75",
       "version_major": 2,
       "version_minor": 0
      },
      "text/plain": [
       "  0%|          | 0/1 [00:00<?, ?it/s]"
      ]
     },
     "metadata": {},
     "output_type": "display_data"
    },
    {
     "data": {
      "application/vnd.jupyter.widget-view+json": {
       "model_id": "9a618c87fe6544c28ef2a6270e5d4256",
       "version_major": 2,
       "version_minor": 0
      },
      "text/plain": [
       "  0%|          | 0/27 [00:00<?, ?it/s]"
      ]
     },
     "metadata": {},
     "output_type": "display_data"
    },
    {
     "name": "stdout",
     "output_type": "stream",
     "text": [
      "Saving S:\\QRAM\\qram_4QR2\\data\\data_250119\\00058_QramProtocol3QTomo.h5\n",
      "init_state |1>|0+i> play pulses [2, 1, 1, 2, 2, 1, 1, 2, 2, 1, 3, 4]\n",
      "timesteps [inf]\n"
     ]
    },
    {
     "data": {
      "application/vnd.jupyter.widget-view+json": {
       "model_id": "53fbeb4507a542d9b1d75fa5032b4d42",
       "version_major": 2,
       "version_minor": 0
      },
      "text/plain": [
       "  0%|          | 0/8 [00:00<?, ?it/s]"
      ]
     },
     "metadata": {},
     "output_type": "display_data"
    },
    {
     "name": "stdout",
     "output_type": "stream",
     "text": [
      "Qubit  (0)\n",
      "ge fidelity (%): 74.00000000000004 \t angle (deg): 168.5180885514908 \t threshold ge: 215.08899406993305\n",
      "Qubit  (2)\n",
      "ge fidelity (%): 75.00000000000006 \t angle (deg): 179.2677404555397 \t threshold ge: 73.82071819233943\n",
      "Qubit  (3)\n",
      "ge fidelity (%): 85.00000000000006 \t angle (deg): -179.72024049904905 \t threshold ge: 96.79943757839037\n",
      "thresholds=[215.08899406993305, 0, 73.82071819233943, 96.79943757839037],\n",
      "angles=[168.5180885514908, 0, 179.2677404555397, -179.72024049904905],\n",
      "ge_avgs=[array([-107.84183792,  -97.74684515, -249.92997829, -126.60829233]), [0, 0, 0, 0], array([ -17.58690722, -113.88743353, -121.85365165, -115.22007054]), array([ -52.65688151,   -4.60132813, -137.4644043 ,   -4.18723307])] ,\n",
      "counts_calib=[[82, 3, 10, 2, 1, 1, 1, 0], [9, 72, 0, 11, 1, 6, 0, 1], [12, 0, 78, 5, 1, 0, 3, 1], [0, 12, 13, 74, 0, 0, 0, 1], [22, 1, 1, 0, 62, 1, 13, 0], [8, 9, 0, 0, 12, 68, 0, 3], [0, 0, 12, 0, 9, 0, 66, 13], [2, 0, 3, 9, 1, 6, 14, 65]]\n",
      "\n"
     ]
    },
    {
     "data": {
      "application/vnd.jupyter.widget-view+json": {
       "model_id": "63b35e43dfe846f180e3520d9dff8817",
       "version_major": 2,
       "version_minor": 0
      },
      "text/plain": [
       "  0%|          | 0/1 [00:00<?, ?it/s]"
      ]
     },
     "metadata": {},
     "output_type": "display_data"
    },
    {
     "data": {
      "application/vnd.jupyter.widget-view+json": {
       "model_id": "4798151a768e4722963dee35abdd3ff4",
       "version_major": 2,
       "version_minor": 0
      },
      "text/plain": [
       "  0%|          | 0/27 [00:00<?, ?it/s]"
      ]
     },
     "metadata": {},
     "output_type": "display_data"
    },
    {
     "name": "stdout",
     "output_type": "stream",
     "text": [
      "Saving S:\\QRAM\\qram_4QR2\\data\\data_250119\\00059_QramProtocol3QTomo.h5\n",
      "init_state |0+1>|0> play pulses [2, 1, 1, 2, 2, 1, 1, 2, 2, 1, 3, 4]\n",
      "timesteps [inf]\n"
     ]
    },
    {
     "data": {
      "application/vnd.jupyter.widget-view+json": {
       "model_id": "e14e43e56d2e4f09b90b01bb0e59533e",
       "version_major": 2,
       "version_minor": 0
      },
      "text/plain": [
       "  0%|          | 0/8 [00:00<?, ?it/s]"
      ]
     },
     "metadata": {},
     "output_type": "display_data"
    },
    {
     "name": "stdout",
     "output_type": "stream",
     "text": [
      "Qubit  (0)\n",
      "ge fidelity (%): 86.93939393939387 \t angle (deg): 168.32542096729426 \t threshold ge: 211.19499000659334\n",
      "Qubit  (2)\n",
      "ge fidelity (%): 76.00000000000006 \t angle (deg): 171.8498385173447 \t threshold ge: 71.32465257976975\n",
      "Qubit  (3)\n",
      "ge fidelity (%): 88.88888888888893 \t angle (deg): 179.43663290571328 \t threshold ge: 102.96189662177807\n",
      "thresholds=[211.19499000659334, 0, 71.32465257976975, 102.96189662177807],\n",
      "angles=[168.32542096729426, 0, 171.8498385173447, 179.43663290571328],\n",
      "ge_avgs=[array([-121.05835022,  -93.85002894, -309.31217077, -132.74842258]), [0, 0, 0, 0], array([ -20.87819859, -105.70861639, -119.87975041, -119.88706457]), array([ -47.34679687,   -6.3931901 , -144.31716471,   -7.34669271])] ,\n",
      "counts_calib=[[75, 1, 17, 0, 6, 0, 1, 0], [9, 67, 0, 17, 1, 4, 2, 0], [8, 0, 86, 3, 1, 0, 2, 0], [2, 7, 12, 73, 0, 0, 1, 5], [6, 0, 1, 0, 73, 6, 14, 0], [1, 4, 0, 1, 7, 69, 5, 13], [2, 0, 8, 0, 8, 0, 75, 7], [0, 0, 3, 5, 0, 6, 13, 73]]\n",
      "\n"
     ]
    },
    {
     "data": {
      "application/vnd.jupyter.widget-view+json": {
       "model_id": "369042f2cd4243508a28b065a903467d",
       "version_major": 2,
       "version_minor": 0
      },
      "text/plain": [
       "  0%|          | 0/1 [00:00<?, ?it/s]"
      ]
     },
     "metadata": {},
     "output_type": "display_data"
    },
    {
     "data": {
      "application/vnd.jupyter.widget-view+json": {
       "model_id": "5f90a0e2f9514041bbe40b1a2d3bb691",
       "version_major": 2,
       "version_minor": 0
      },
      "text/plain": [
       "  0%|          | 0/27 [00:00<?, ?it/s]"
      ]
     },
     "metadata": {},
     "output_type": "display_data"
    },
    {
     "name": "stdout",
     "output_type": "stream",
     "text": [
      "Saving S:\\QRAM\\qram_4QR2\\data\\data_250119\\00060_QramProtocol3QTomo.h5\n",
      "init_state |0+1>|1> play pulses [2, 1, 1, 2, 2, 1, 1, 2, 2, 1, 3, 4]\n",
      "timesteps [inf]\n"
     ]
    },
    {
     "data": {
      "application/vnd.jupyter.widget-view+json": {
       "model_id": "1516b6bfb55b40ef8d3269dc64982a37",
       "version_major": 2,
       "version_minor": 0
      },
      "text/plain": [
       "  0%|          | 0/8 [00:00<?, ?it/s]"
      ]
     },
     "metadata": {},
     "output_type": "display_data"
    },
    {
     "name": "stdout",
     "output_type": "stream",
     "text": [
      "Qubit  (0)\n",
      "ge fidelity (%): 77.93939393939388 \t angle (deg): 164.258596177042 \t threshold ge: 243.3827522843888\n",
      "Qubit  (2)\n",
      "ge fidelity (%): 79.92929292929287 \t angle (deg): 172.08886484001204 \t threshold ge: 88.48000082033886\n",
      "Qubit  (3)\n",
      "ge fidelity (%): 91.00000000000006 \t angle (deg): -178.23511329635207 \t threshold ge: 91.38278933789223\n",
      "thresholds=[243.3827522843888, 0, 88.48000082033886, 91.38278933789223],\n",
      "angles=[164.258596177042, 0, 172.08886484001204, -178.23511329635207],\n",
      "ge_avgs=[array([-121.42557887,  -94.83861071, -284.41731548, -140.78063676]), [0, 0, 0, 0], array([ -16.89318502, -111.40233315, -126.39123169, -126.61813348]), array([ -50.3146582 ,   -7.79176107, -151.70482096,   -4.66764323])] ,\n",
      "counts_calib=[[81, 3, 9, 0, 6, 0, 1, 0], [7, 79, 0, 9, 0, 5, 0, 0], [12, 0, 80, 4, 1, 0, 2, 1], [1, 4, 13, 76, 1, 0, 1, 4], [13, 2, 1, 0, 68, 5, 10, 1], [1, 11, 1, 1, 12, 67, 2, 5], [1, 0, 6, 1, 13, 1, 75, 3], [0, 0, 1, 7, 0, 10, 10, 72]]\n",
      "\n"
     ]
    },
    {
     "data": {
      "application/vnd.jupyter.widget-view+json": {
       "model_id": "df40177704bd432fb9f090577dbd5e27",
       "version_major": 2,
       "version_minor": 0
      },
      "text/plain": [
       "  0%|          | 0/1 [00:00<?, ?it/s]"
      ]
     },
     "metadata": {},
     "output_type": "display_data"
    },
    {
     "data": {
      "application/vnd.jupyter.widget-view+json": {
       "model_id": "11e23e45cf0e4bbdb3dafd2f8d9d22e2",
       "version_major": 2,
       "version_minor": 0
      },
      "text/plain": [
       "  0%|          | 0/27 [00:00<?, ?it/s]"
      ]
     },
     "metadata": {},
     "output_type": "display_data"
    },
    {
     "name": "stdout",
     "output_type": "stream",
     "text": [
      "Saving S:\\QRAM\\qram_4QR2\\data\\data_250119\\00061_QramProtocol3QTomo.h5\n",
      "init_state |0+1>|0+1> play pulses [2, 1, 1, 2, 2, 1, 1, 2, 2, 1, 3, 4]\n",
      "timesteps [inf]\n"
     ]
    },
    {
     "data": {
      "application/vnd.jupyter.widget-view+json": {
       "model_id": "9685dac00ba645198b812d1c4e9d4268",
       "version_major": 2,
       "version_minor": 0
      },
      "text/plain": [
       "  0%|          | 0/8 [00:00<?, ?it/s]"
      ]
     },
     "metadata": {},
     "output_type": "display_data"
    },
    {
     "name": "stdout",
     "output_type": "stream",
     "text": [
      "Qubit  (0)\n",
      "ge fidelity (%): 91.00000000000004 \t angle (deg): 162.27730040800466 \t threshold ge: 196.3810848341392\n",
      "Qubit  (2)\n",
      "ge fidelity (%): 80.9696969696969 \t angle (deg): 178.0838154212622 \t threshold ge: 92.33206547522727\n",
      "Qubit  (3)\n",
      "ge fidelity (%): 87.96969696969694 \t angle (deg): 175.9900635062415 \t threshold ge: 107.46873872213575\n",
      "thresholds=[196.3810848341392, 0, 92.33206547522727, 107.46873872213575],\n",
      "angles=[162.27730040800466, 0, 178.0838154212622, 175.9900635062415],\n",
      "ge_avgs=[array([-120.72609262,  -88.43794501, -295.70503618, -144.35724313]), [0, 0, 0, 0], array([  -7.93381443, -111.87355399, -131.16713511, -115.99647314]), array([ -58.17414062,   -4.17716797, -149.27635091,  -10.5635319 ])] ,\n",
      "counts_calib=[[87, 4, 4, 0, 5, 0, 0, 0], [9, 70, 0, 8, 0, 13, 0, 0], [14, 0, 70, 3, 2, 0, 11, 0], [4, 12, 14, 54, 0, 3, 3, 10], [2, 1, 2, 0, 89, 3, 2, 1], [1, 4, 0, 0, 12, 78, 1, 4], [4, 0, 8, 0, 20, 0, 66, 2], [3, 0, 2, 4, 2, 19, 17, 53]]\n",
      "\n"
     ]
    },
    {
     "data": {
      "application/vnd.jupyter.widget-view+json": {
       "model_id": "df22bd10a91d4131869db8734b7d32cc",
       "version_major": 2,
       "version_minor": 0
      },
      "text/plain": [
       "  0%|          | 0/1 [00:00<?, ?it/s]"
      ]
     },
     "metadata": {},
     "output_type": "display_data"
    },
    {
     "data": {
      "application/vnd.jupyter.widget-view+json": {
       "model_id": "8a7096aeb5f14868bd43661857a2ff10",
       "version_major": 2,
       "version_minor": 0
      },
      "text/plain": [
       "  0%|          | 0/27 [00:00<?, ?it/s]"
      ]
     },
     "metadata": {},
     "output_type": "display_data"
    },
    {
     "name": "stdout",
     "output_type": "stream",
     "text": [
      "Saving S:\\QRAM\\qram_4QR2\\data\\data_250119\\00062_QramProtocol3QTomo.h5\n",
      "init_state |0+1>|0+i> play pulses [2, 1, 1, 2, 2, 1, 1, 2, 2, 1, 3, 4]\n",
      "timesteps [inf]\n"
     ]
    },
    {
     "data": {
      "application/vnd.jupyter.widget-view+json": {
       "model_id": "89c1deeeea304d4d8d431f9820eb1e38",
       "version_major": 2,
       "version_minor": 0
      },
      "text/plain": [
       "  0%|          | 0/8 [00:00<?, ?it/s]"
      ]
     },
     "metadata": {},
     "output_type": "display_data"
    },
    {
     "name": "stdout",
     "output_type": "stream",
     "text": [
      "Qubit  (0)\n",
      "ge fidelity (%): 88.95959595959593 \t angle (deg): 162.5846679310736 \t threshold ge: 203.1743410417409\n",
      "Qubit  (2)\n",
      "ge fidelity (%): 78.00000000000004 \t angle (deg): 172.1413041202066 \t threshold ge: 75.03198882987888\n",
      "Qubit  (3)\n",
      "ge fidelity (%): 83.00000000000006 \t angle (deg): 179.11947979288786 \t threshold ge: 93.68770406422566\n",
      "thresholds=[203.1743410417409, 0, 75.03198882987888, 93.68770406422566],\n",
      "angles=[162.5846679310736, 0, 172.1413041202066, 179.11947979288786],\n",
      "ge_avgs=[array([-115.55497829,  -92.19270622, -298.23653401, -149.49532562]), [0, 0, 0, 0], array([ -10.24333695, -106.26330982, -120.39265328, -121.46686381]), array([ -50.97320964,   -8.0665918 , -138.12591146,   -9.40605794])] ,\n",
      "counts_calib=[[83, 2, 9, 1, 3, 1, 1, 0], [12, 72, 0, 8, 2, 5, 0, 1], [11, 1, 76, 4, 1, 0, 6, 1], [0, 5, 14, 73, 0, 1, 2, 5], [5, 0, 2, 0, 78, 6, 9, 0], [1, 10, 0, 0, 8, 70, 0, 11], [0, 0, 4, 0, 11, 0, 81, 4], [0, 0, 3, 7, 2, 9, 9, 70]]\n",
      "\n"
     ]
    },
    {
     "data": {
      "application/vnd.jupyter.widget-view+json": {
       "model_id": "d6f0fb2996604af7bfbaf318b3cc4803",
       "version_major": 2,
       "version_minor": 0
      },
      "text/plain": [
       "  0%|          | 0/1 [00:00<?, ?it/s]"
      ]
     },
     "metadata": {},
     "output_type": "display_data"
    },
    {
     "data": {
      "application/vnd.jupyter.widget-view+json": {
       "model_id": "532b1fe6fc124380af5d59fa073695f1",
       "version_major": 2,
       "version_minor": 0
      },
      "text/plain": [
       "  0%|          | 0/27 [00:00<?, ?it/s]"
      ]
     },
     "metadata": {},
     "output_type": "display_data"
    },
    {
     "name": "stdout",
     "output_type": "stream",
     "text": [
      "Saving S:\\QRAM\\qram_4QR2\\data\\data_250119\\00063_QramProtocol3QTomo.h5\n",
      "init_state |0+i>|0> play pulses [2, 1, 1, 2, 2, 1, 1, 2, 2, 1, 3, 4]\n",
      "timesteps [inf]\n"
     ]
    },
    {
     "data": {
      "application/vnd.jupyter.widget-view+json": {
       "model_id": "fa1f727de6fb44d7bb5145f150356fe1",
       "version_major": 2,
       "version_minor": 0
      },
      "text/plain": [
       "  0%|          | 0/8 [00:00<?, ?it/s]"
      ]
     },
     "metadata": {},
     "output_type": "display_data"
    },
    {
     "name": "stdout",
     "output_type": "stream",
     "text": [
      "Qubit  (0)\n",
      "ge fidelity (%): 88.93939393939391 \t angle (deg): 166.9703692156221 \t threshold ge: 224.14430127781233\n",
      "Qubit  (2)\n",
      "ge fidelity (%): 80.00000000000004 \t angle (deg): 173.57439506763467 \t threshold ge: 86.73735484680803\n",
      "Qubit  (3)\n",
      "ge fidelity (%): 80.84848484848489 \t angle (deg): 179.8833172214922 \t threshold ge: 84.78394486017062\n",
      "thresholds=[224.14430127781233, 0, 86.73735484680803, 84.78394486017062],\n",
      "angles=[166.9703692156221, 0, 173.57439506763467, 179.8833172214922],\n",
      "ge_avgs=[array([-119.89000724,  -96.2651809 , -293.36865412, -136.41039074]), [0, 0, 0, 0], array([ -10.55000543, -111.84295171, -129.15589257, -125.20040695]), array([ -52.68485352,  -10.9039681 , -134.72115885,  -11.07103516])] ,\n",
      "counts_calib=[[82, 6, 5, 0, 6, 0, 1, 0], [13, 67, 2, 8, 1, 9, 0, 0], [14, 1, 72, 9, 0, 0, 4, 0], [1, 8, 8, 73, 0, 1, 2, 7], [4, 1, 0, 0, 80, 6, 7, 2], [3, 10, 0, 0, 14, 66, 0, 7], [1, 0, 8, 1, 6, 0, 79, 5], [9, 0, 4, 11, 1, 14, 10, 51]]\n",
      "\n"
     ]
    },
    {
     "data": {
      "application/vnd.jupyter.widget-view+json": {
       "model_id": "3fdc974023f94ecabd9c2a59f1a5f7b9",
       "version_major": 2,
       "version_minor": 0
      },
      "text/plain": [
       "  0%|          | 0/1 [00:00<?, ?it/s]"
      ]
     },
     "metadata": {},
     "output_type": "display_data"
    },
    {
     "data": {
      "application/vnd.jupyter.widget-view+json": {
       "model_id": "a1d0d48b6c124c9d9462272da99a324d",
       "version_major": 2,
       "version_minor": 0
      },
      "text/plain": [
       "  0%|          | 0/27 [00:00<?, ?it/s]"
      ]
     },
     "metadata": {},
     "output_type": "display_data"
    },
    {
     "name": "stdout",
     "output_type": "stream",
     "text": [
      "Saving S:\\QRAM\\qram_4QR2\\data\\data_250119\\00064_QramProtocol3QTomo.h5\n",
      "init_state |0+i>|1> play pulses [2, 1, 1, 2, 2, 1, 1, 2, 2, 1, 3, 4]\n",
      "timesteps [inf]\n"
     ]
    },
    {
     "data": {
      "application/vnd.jupyter.widget-view+json": {
       "model_id": "e590c1e0d8be44ef954ced156e7fe478",
       "version_major": 2,
       "version_minor": 0
      },
      "text/plain": [
       "  0%|          | 0/8 [00:00<?, ?it/s]"
      ]
     },
     "metadata": {},
     "output_type": "display_data"
    },
    {
     "name": "stdout",
     "output_type": "stream",
     "text": [
      "Qubit  (0)\n",
      "ge fidelity (%): 81.94949494949493 \t angle (deg): 166.95191111145664 \t threshold ge: 238.24734716796652\n",
      "Qubit  (2)\n",
      "ge fidelity (%): 72.00000000000006 \t angle (deg): 170.3515096220193 \t threshold ge: 103.75587515124394\n",
      "Qubit  (3)\n",
      "ge fidelity (%): 86.95959595959586 \t angle (deg): -179.7412787468366 \t threshold ge: 93.81105588603108\n",
      "thresholds=[238.24734716796652, 0, 103.75587515124394, 93.81105588603108],\n",
      "angles=[166.95191111145664, 0, 170.3515096220193, -179.7412787468366],\n",
      "ge_avgs=[array([-118.42842981,  -96.83102026, -289.27605644, -136.42536903]), [0, 0, 0, 0], array([ -14.59570266, -109.46653825, -112.59431905, -126.12708627]), array([ -52.40875977,   -6.62022461, -140.64660156,   -6.2217806 ])] ,\n",
      "counts_calib=[[83, 4, 7, 0, 5, 1, 0, 0], [8, 79, 0, 9, 1, 3, 0, 0], [21, 0, 69, 3, 1, 0, 5, 1], [2, 13, 7, 69, 0, 0, 1, 8], [12, 0, 1, 0, 81, 3, 3, 0], [4, 12, 0, 0, 10, 71, 0, 3], [3, 0, 13, 0, 8, 1, 71, 4], [1, 2, 3, 8, 0, 11, 12, 63]]\n",
      "\n"
     ]
    },
    {
     "data": {
      "application/vnd.jupyter.widget-view+json": {
       "model_id": "80240c408a1e4ec88e8d1df43e1d5453",
       "version_major": 2,
       "version_minor": 0
      },
      "text/plain": [
       "  0%|          | 0/1 [00:00<?, ?it/s]"
      ]
     },
     "metadata": {},
     "output_type": "display_data"
    },
    {
     "data": {
      "application/vnd.jupyter.widget-view+json": {
       "model_id": "70769f60e18545f2959c222717b0eadb",
       "version_major": 2,
       "version_minor": 0
      },
      "text/plain": [
       "  0%|          | 0/27 [00:00<?, ?it/s]"
      ]
     },
     "metadata": {},
     "output_type": "display_data"
    },
    {
     "name": "stdout",
     "output_type": "stream",
     "text": [
      "Saving S:\\QRAM\\qram_4QR2\\data\\data_250119\\00065_QramProtocol3QTomo.h5\n",
      "init_state |0+i>|0+1> play pulses [2, 1, 1, 2, 2, 1, 1, 2, 2, 1, 3, 4]\n",
      "timesteps [inf]\n"
     ]
    },
    {
     "data": {
      "application/vnd.jupyter.widget-view+json": {
       "model_id": "3db20fb1e12848cd86c9468a4b9b5b1b",
       "version_major": 2,
       "version_minor": 0
      },
      "text/plain": [
       "  0%|          | 0/8 [00:00<?, ?it/s]"
      ]
     },
     "metadata": {},
     "output_type": "display_data"
    },
    {
     "name": "stdout",
     "output_type": "stream",
     "text": [
      "Qubit  (0)\n",
      "ge fidelity (%): 92.00000000000004 \t angle (deg): 163.16486443774318 \t threshold ge: 226.82089863414222\n",
      "Qubit  (2)\n",
      "ge fidelity (%): 80.83838383838382 \t angle (deg): 170.06778068566365 \t threshold ge: 66.08210680906478\n",
      "Qubit  (3)\n",
      "ge fidelity (%): 85.00000000000006 \t angle (deg): 177.30581062525224 \t threshold ge: 111.98068847183754\n",
      "thresholds=[226.82089863414222, 0, 66.08210680906478, 111.98068847183754],\n",
      "angles=[163.16486443774318, 0, 170.06778068566365, 177.30581062525224],\n",
      "ge_avgs=[array([-117.85821274,  -91.91649059, -321.38383502, -153.50070912]), [0, 0, 0, 0], array([ -10.95560499,  -99.49702659, -130.76712968, -120.47691807]), array([ -55.7205306 ,   -7.02869141, -143.58179688,  -11.16319336])] ,\n",
      "counts_calib=[[74, 3, 13, 3, 5, 1, 1, 0], [8, 65, 1, 20, 0, 5, 0, 1], [3, 0, 89, 3, 0, 0, 5, 0], [0, 3, 13, 71, 0, 0, 1, 12], [1, 0, 2, 0, 74, 2, 21, 0], [1, 5, 1, 1, 13, 63, 3, 13], [2, 0, 7, 0, 8, 1, 80, 2], [0, 0, 1, 7, 2, 7, 10, 73]]\n",
      "\n"
     ]
    },
    {
     "data": {
      "application/vnd.jupyter.widget-view+json": {
       "model_id": "4dab718c7a2b471eabb04e7044024149",
       "version_major": 2,
       "version_minor": 0
      },
      "text/plain": [
       "  0%|          | 0/1 [00:00<?, ?it/s]"
      ]
     },
     "metadata": {},
     "output_type": "display_data"
    },
    {
     "data": {
      "application/vnd.jupyter.widget-view+json": {
       "model_id": "bf0b5ce19b3247c8a1a7ab8a4234b74d",
       "version_major": 2,
       "version_minor": 0
      },
      "text/plain": [
       "  0%|          | 0/27 [00:00<?, ?it/s]"
      ]
     },
     "metadata": {},
     "output_type": "display_data"
    },
    {
     "name": "stdout",
     "output_type": "stream",
     "text": [
      "Saving S:\\QRAM\\qram_4QR2\\data\\data_250119\\00066_QramProtocol3QTomo.h5\n",
      "init_state |0+i>|0+i> play pulses [2, 1, 1, 2, 2, 1, 1, 2, 2, 1, 3, 4]\n",
      "timesteps [inf]\n"
     ]
    },
    {
     "data": {
      "application/vnd.jupyter.widget-view+json": {
       "model_id": "5eb1fd33bd26461cb277b8d70ee6b92a",
       "version_major": 2,
       "version_minor": 0
      },
      "text/plain": [
       "  0%|          | 0/8 [00:00<?, ?it/s]"
      ]
     },
     "metadata": {},
     "output_type": "display_data"
    },
    {
     "name": "stdout",
     "output_type": "stream",
     "text": [
      "Qubit  (0)\n",
      "ge fidelity (%): 91.00000000000004 \t angle (deg): 167.08254394240942 \t threshold ge: 235.50086086989725\n",
      "Qubit  (2)\n",
      "ge fidelity (%): 80.00000000000004 \t angle (deg): 169.82424079288634 \t threshold ge: 75.08176661038493\n",
      "Qubit  (3)\n",
      "ge fidelity (%): 74.9393939393939 \t angle (deg): 177.7509675849654 \t threshold ge: 101.41806454228991\n",
      "thresholds=[235.50086086989725, 0, 75.08176661038493, 101.41806454228991],\n",
      "angles=[167.08254394240942, 0, 169.82424079288634, 177.7509675849654],\n",
      "ge_avgs=[array([-125.00724313,  -96.12968162, -310.84222142, -138.75116498]), [0, 0, 0, 0], array([  -5.05106891, -105.23034726, -118.26342377, -125.55102008]), array([ -55.35958008,   -6.83420573, -133.25402018,   -9.89336914])] ,\n",
      "counts_calib=[[74, 7, 12, 0, 6, 0, 1, 0], [13, 67, 4, 10, 2, 3, 0, 1], [7, 1, 81, 3, 0, 0, 7, 1], [2, 8, 11, 77, 0, 0, 1, 1], [3, 0, 0, 0, 80, 4, 11, 2], [1, 5, 0, 1, 9, 76, 1, 7], [0, 0, 5, 0, 7, 1, 84, 3], [0, 0, 2, 15, 0, 8, 9, 66]]\n",
      "\n"
     ]
    },
    {
     "data": {
      "application/vnd.jupyter.widget-view+json": {
       "model_id": "a41dbe23a1de41fc8ecd3dd9ca7ba5ad",
       "version_major": 2,
       "version_minor": 0
      },
      "text/plain": [
       "  0%|          | 0/1 [00:00<?, ?it/s]"
      ]
     },
     "metadata": {},
     "output_type": "display_data"
    },
    {
     "data": {
      "application/vnd.jupyter.widget-view+json": {
       "model_id": "5526dff05fcf415eadb56d5f419dc7e2",
       "version_major": 2,
       "version_minor": 0
      },
      "text/plain": [
       "  0%|          | 0/27 [00:00<?, ?it/s]"
      ]
     },
     "metadata": {},
     "output_type": "display_data"
    },
    {
     "name": "stdout",
     "output_type": "stream",
     "text": [
      "Saving S:\\QRAM\\qram_4QR2\\data\\data_250119\\00067_QramProtocol3QTomo.h5\n",
      "For n_forward_backward 2 saved_files ['S:\\\\QRAM\\\\qram_4QR2\\\\data\\\\data_250119\\\\00036_QramProtocol3QTomo.h5', 'S:\\\\QRAM\\\\qram_4QR2\\\\data\\\\data_250119\\\\00037_QramProtocol3QTomo.h5', 'S:\\\\QRAM\\\\qram_4QR2\\\\data\\\\data_250119\\\\00038_QramProtocol3QTomo.h5', 'S:\\\\QRAM\\\\qram_4QR2\\\\data\\\\data_250119\\\\00039_QramProtocol3QTomo.h5', 'S:\\\\QRAM\\\\qram_4QR2\\\\data\\\\data_250119\\\\00040_QramProtocol3QTomo.h5', 'S:\\\\QRAM\\\\qram_4QR2\\\\data\\\\data_250119\\\\00041_QramProtocol3QTomo.h5', 'S:\\\\QRAM\\\\qram_4QR2\\\\data\\\\data_250119\\\\00042_QramProtocol3QTomo.h5', 'S:\\\\QRAM\\\\qram_4QR2\\\\data\\\\data_250119\\\\00043_QramProtocol3QTomo.h5', 'S:\\\\QRAM\\\\qram_4QR2\\\\data\\\\data_250119\\\\00044_QramProtocol3QTomo.h5', 'S:\\\\QRAM\\\\qram_4QR2\\\\data\\\\data_250119\\\\00045_QramProtocol3QTomo.h5', 'S:\\\\QRAM\\\\qram_4QR2\\\\data\\\\data_250119\\\\00046_QramProtocol3QTomo.h5', 'S:\\\\QRAM\\\\qram_4QR2\\\\data\\\\data_250119\\\\00047_QramProtocol3QTomo.h5', 'S:\\\\QRAM\\\\qram_4QR2\\\\data\\\\data_250119\\\\00048_QramProtocol3QTomo.h5', 'S:\\\\QRAM\\\\qram_4QR2\\\\data\\\\data_250119\\\\00049_QramProtocol3QTomo.h5', 'S:\\\\QRAM\\\\qram_4QR2\\\\data\\\\data_250119\\\\00050_QramProtocol3QTomo.h5', 'S:\\\\QRAM\\\\qram_4QR2\\\\data\\\\data_250119\\\\00051_QramProtocol3QTomo.h5', 'S:\\\\QRAM\\\\qram_4QR2\\\\data\\\\data_250119\\\\00052_QramProtocol3QTomo.h5', 'S:\\\\QRAM\\\\qram_4QR2\\\\data\\\\data_250119\\\\00053_QramProtocol3QTomo.h5', 'S:\\\\QRAM\\\\qram_4QR2\\\\data\\\\data_250119\\\\00054_QramProtocol3QTomo.h5', 'S:\\\\QRAM\\\\qram_4QR2\\\\data\\\\data_250119\\\\00055_QramProtocol3QTomo.h5', 'S:\\\\QRAM\\\\qram_4QR2\\\\data\\\\data_250119\\\\00056_QramProtocol3QTomo.h5', 'S:\\\\QRAM\\\\qram_4QR2\\\\data\\\\data_250119\\\\00057_QramProtocol3QTomo.h5', 'S:\\\\QRAM\\\\qram_4QR2\\\\data\\\\data_250119\\\\00058_QramProtocol3QTomo.h5', 'S:\\\\QRAM\\\\qram_4QR2\\\\data\\\\data_250119\\\\00059_QramProtocol3QTomo.h5', 'S:\\\\QRAM\\\\qram_4QR2\\\\data\\\\data_250119\\\\00060_QramProtocol3QTomo.h5', 'S:\\\\QRAM\\\\qram_4QR2\\\\data\\\\data_250119\\\\00061_QramProtocol3QTomo.h5', 'S:\\\\QRAM\\\\qram_4QR2\\\\data\\\\data_250119\\\\00062_QramProtocol3QTomo.h5', 'S:\\\\QRAM\\\\qram_4QR2\\\\data\\\\data_250119\\\\00063_QramProtocol3QTomo.h5', 'S:\\\\QRAM\\\\qram_4QR2\\\\data\\\\data_250119\\\\00064_QramProtocol3QTomo.h5', 'S:\\\\QRAM\\\\qram_4QR2\\\\data\\\\data_250119\\\\00065_QramProtocol3QTomo.h5', 'S:\\\\QRAM\\\\qram_4QR2\\\\data\\\\data_250119\\\\00066_QramProtocol3QTomo.h5', 'S:\\\\QRAM\\\\qram_4QR2\\\\data\\\\data_250119\\\\00067_QramProtocol3QTomo.h5']\n",
      "\n",
      "............\n",
      "Assembling n_tomo_corrected_dict\n"
     ]
    },
    {
     "data": {
      "application/vnd.jupyter.widget-view+json": {
       "model_id": "7f9c98c2a8d44846b13b3ff6b4073f9b",
       "version_major": 2,
       "version_minor": 0
      },
      "text/plain": [
       "  0%|          | 0/32 [00:00<?, ?it/s]"
      ]
     },
     "metadata": {},
     "output_type": "display_data"
    },
    {
     "name": "stdout",
     "output_type": "stream",
     "text": [
      "S:\\QRAM\\qram_4QR2\\data\\data_250119\\00036_QramProtocol3QTomo.h5\n",
      "S:\\QRAM\\qram_4QR2\\data\\data_250119\\00036_QramProtocol3QTomo.h5\n",
      "Extracted data and attrs ['calib_order', 'config', 'meas_order', 'pulse_dict']\n",
      "init state Q0 (switch) Q1 (input): |0>|0>\n",
      "S:\\QRAM\\qram_4QR2\\data\\data_250119\\00037_QramProtocol3QTomo.h5\n",
      "S:\\QRAM\\qram_4QR2\\data\\data_250119\\00037_QramProtocol3QTomo.h5\n",
      "Extracted data and attrs ['calib_order', 'config', 'meas_order', 'pulse_dict']\n",
      "init state Q0 (switch) Q1 (input): |0>|1>\n",
      "S:\\QRAM\\qram_4QR2\\data\\data_250119\\00038_QramProtocol3QTomo.h5\n",
      "S:\\QRAM\\qram_4QR2\\data\\data_250119\\00038_QramProtocol3QTomo.h5\n",
      "Extracted data and attrs ['calib_order', 'config', 'meas_order', 'pulse_dict']\n",
      "init state Q0 (switch) Q1 (input): |0>|0+1>\n",
      "S:\\QRAM\\qram_4QR2\\data\\data_250119\\00039_QramProtocol3QTomo.h5\n",
      "S:\\QRAM\\qram_4QR2\\data\\data_250119\\00039_QramProtocol3QTomo.h5\n",
      "Extracted data and attrs ['calib_order', 'config', 'meas_order', 'pulse_dict']\n",
      "init state Q0 (switch) Q1 (input): |0>|0+i>\n",
      "S:\\QRAM\\qram_4QR2\\data\\data_250119\\00040_QramProtocol3QTomo.h5\n",
      "S:\\QRAM\\qram_4QR2\\data\\data_250119\\00040_QramProtocol3QTomo.h5\n",
      "Extracted data and attrs ['calib_order', 'config', 'meas_order', 'pulse_dict']\n",
      "init state Q0 (switch) Q1 (input): |1>|0>\n",
      "S:\\QRAM\\qram_4QR2\\data\\data_250119\\00041_QramProtocol3QTomo.h5\n",
      "S:\\QRAM\\qram_4QR2\\data\\data_250119\\00041_QramProtocol3QTomo.h5\n",
      "Extracted data and attrs ['calib_order', 'config', 'meas_order', 'pulse_dict']\n",
      "init state Q0 (switch) Q1 (input): |1>|1>\n",
      "S:\\QRAM\\qram_4QR2\\data\\data_250119\\00042_QramProtocol3QTomo.h5\n",
      "S:\\QRAM\\qram_4QR2\\data\\data_250119\\00042_QramProtocol3QTomo.h5\n",
      "Extracted data and attrs ['calib_order', 'config', 'meas_order', 'pulse_dict']\n",
      "init state Q0 (switch) Q1 (input): |1>|0+1>\n",
      "S:\\QRAM\\qram_4QR2\\data\\data_250119\\00043_QramProtocol3QTomo.h5\n",
      "S:\\QRAM\\qram_4QR2\\data\\data_250119\\00043_QramProtocol3QTomo.h5\n",
      "Extracted data and attrs ['calib_order', 'config', 'meas_order', 'pulse_dict']\n",
      "init state Q0 (switch) Q1 (input): |1>|0+i>\n",
      "S:\\QRAM\\qram_4QR2\\data\\data_250119\\00044_QramProtocol3QTomo.h5\n",
      "S:\\QRAM\\qram_4QR2\\data\\data_250119\\00044_QramProtocol3QTomo.h5\n",
      "Extracted data and attrs ['calib_order', 'config', 'meas_order', 'pulse_dict']\n",
      "init state Q0 (switch) Q1 (input): |0+1>|0>\n",
      "S:\\QRAM\\qram_4QR2\\data\\data_250119\\00045_QramProtocol3QTomo.h5\n",
      "S:\\QRAM\\qram_4QR2\\data\\data_250119\\00045_QramProtocol3QTomo.h5\n",
      "Extracted data and attrs ['calib_order', 'config', 'meas_order', 'pulse_dict']\n",
      "init state Q0 (switch) Q1 (input): |0+1>|1>\n",
      "S:\\QRAM\\qram_4QR2\\data\\data_250119\\00046_QramProtocol3QTomo.h5\n",
      "S:\\QRAM\\qram_4QR2\\data\\data_250119\\00046_QramProtocol3QTomo.h5\n",
      "Extracted data and attrs ['calib_order', 'config', 'meas_order', 'pulse_dict']\n",
      "init state Q0 (switch) Q1 (input): |0+1>|0+1>\n",
      "S:\\QRAM\\qram_4QR2\\data\\data_250119\\00047_QramProtocol3QTomo.h5\n",
      "S:\\QRAM\\qram_4QR2\\data\\data_250119\\00047_QramProtocol3QTomo.h5\n",
      "Extracted data and attrs ['calib_order', 'config', 'meas_order', 'pulse_dict']\n",
      "init state Q0 (switch) Q1 (input): |0+1>|0+i>\n",
      "S:\\QRAM\\qram_4QR2\\data\\data_250119\\00048_QramProtocol3QTomo.h5\n",
      "S:\\QRAM\\qram_4QR2\\data\\data_250119\\00048_QramProtocol3QTomo.h5\n",
      "Extracted data and attrs ['calib_order', 'config', 'meas_order', 'pulse_dict']\n",
      "init state Q0 (switch) Q1 (input): |0+i>|0>\n",
      "S:\\QRAM\\qram_4QR2\\data\\data_250119\\00049_QramProtocol3QTomo.h5\n",
      "S:\\QRAM\\qram_4QR2\\data\\data_250119\\00049_QramProtocol3QTomo.h5\n",
      "Extracted data and attrs ['calib_order', 'config', 'meas_order', 'pulse_dict']\n",
      "init state Q0 (switch) Q1 (input): |0+i>|1>\n",
      "S:\\QRAM\\qram_4QR2\\data\\data_250119\\00050_QramProtocol3QTomo.h5\n",
      "S:\\QRAM\\qram_4QR2\\data\\data_250119\\00050_QramProtocol3QTomo.h5\n",
      "Extracted data and attrs ['calib_order', 'config', 'meas_order', 'pulse_dict']\n",
      "init state Q0 (switch) Q1 (input): |0+i>|0+1>\n",
      "S:\\QRAM\\qram_4QR2\\data\\data_250119\\00051_QramProtocol3QTomo.h5\n",
      "S:\\QRAM\\qram_4QR2\\data\\data_250119\\00051_QramProtocol3QTomo.h5\n",
      "Extracted data and attrs ['calib_order', 'config', 'meas_order', 'pulse_dict']\n",
      "init state Q0 (switch) Q1 (input): |0+i>|0+i>\n",
      "S:\\QRAM\\qram_4QR2\\data\\data_250119\\00052_QramProtocol3QTomo.h5\n",
      "S:\\QRAM\\qram_4QR2\\data\\data_250119\\00052_QramProtocol3QTomo.h5\n",
      "Extracted data and attrs ['calib_order', 'config', 'meas_order', 'pulse_dict']\n",
      "init state Q0 (switch) Q1 (input): |0>|0>\n",
      "S:\\QRAM\\qram_4QR2\\data\\data_250119\\00053_QramProtocol3QTomo.h5\n",
      "S:\\QRAM\\qram_4QR2\\data\\data_250119\\00053_QramProtocol3QTomo.h5\n",
      "Extracted data and attrs ['calib_order', 'config', 'meas_order', 'pulse_dict']\n",
      "init state Q0 (switch) Q1 (input): |0>|1>\n",
      "S:\\QRAM\\qram_4QR2\\data\\data_250119\\00054_QramProtocol3QTomo.h5\n",
      "S:\\QRAM\\qram_4QR2\\data\\data_250119\\00054_QramProtocol3QTomo.h5\n",
      "Extracted data and attrs ['calib_order', 'config', 'meas_order', 'pulse_dict']\n",
      "init state Q0 (switch) Q1 (input): |0>|0+1>\n",
      "S:\\QRAM\\qram_4QR2\\data\\data_250119\\00055_QramProtocol3QTomo.h5\n",
      "S:\\QRAM\\qram_4QR2\\data\\data_250119\\00055_QramProtocol3QTomo.h5\n",
      "Extracted data and attrs ['calib_order', 'config', 'meas_order', 'pulse_dict']\n",
      "init state Q0 (switch) Q1 (input): |0>|0+i>\n",
      "S:\\QRAM\\qram_4QR2\\data\\data_250119\\00056_QramProtocol3QTomo.h5\n",
      "S:\\QRAM\\qram_4QR2\\data\\data_250119\\00056_QramProtocol3QTomo.h5\n",
      "Extracted data and attrs ['calib_order', 'config', 'meas_order', 'pulse_dict']\n",
      "init state Q0 (switch) Q1 (input): |1>|0>\n",
      "S:\\QRAM\\qram_4QR2\\data\\data_250119\\00057_QramProtocol3QTomo.h5\n",
      "S:\\QRAM\\qram_4QR2\\data\\data_250119\\00057_QramProtocol3QTomo.h5\n",
      "Extracted data and attrs ['calib_order', 'config', 'meas_order', 'pulse_dict']\n",
      "init state Q0 (switch) Q1 (input): |1>|1>\n",
      "S:\\QRAM\\qram_4QR2\\data\\data_250119\\00058_QramProtocol3QTomo.h5\n",
      "S:\\QRAM\\qram_4QR2\\data\\data_250119\\00058_QramProtocol3QTomo.h5\n",
      "Extracted data and attrs ['calib_order', 'config', 'meas_order', 'pulse_dict']\n",
      "init state Q0 (switch) Q1 (input): |1>|0+1>\n",
      "S:\\QRAM\\qram_4QR2\\data\\data_250119\\00059_QramProtocol3QTomo.h5\n",
      "S:\\QRAM\\qram_4QR2\\data\\data_250119\\00059_QramProtocol3QTomo.h5\n",
      "Extracted data and attrs ['calib_order', 'config', 'meas_order', 'pulse_dict']\n",
      "init state Q0 (switch) Q1 (input): |1>|0+i>\n",
      "S:\\QRAM\\qram_4QR2\\data\\data_250119\\00060_QramProtocol3QTomo.h5\n",
      "S:\\QRAM\\qram_4QR2\\data\\data_250119\\00060_QramProtocol3QTomo.h5\n",
      "Extracted data and attrs ['calib_order', 'config', 'meas_order', 'pulse_dict']\n",
      "init state Q0 (switch) Q1 (input): |0+1>|0>\n",
      "S:\\QRAM\\qram_4QR2\\data\\data_250119\\00061_QramProtocol3QTomo.h5\n",
      "S:\\QRAM\\qram_4QR2\\data\\data_250119\\00061_QramProtocol3QTomo.h5\n",
      "Extracted data and attrs ['calib_order', 'config', 'meas_order', 'pulse_dict']\n",
      "init state Q0 (switch) Q1 (input): |0+1>|1>\n",
      "S:\\QRAM\\qram_4QR2\\data\\data_250119\\00062_QramProtocol3QTomo.h5\n",
      "S:\\QRAM\\qram_4QR2\\data\\data_250119\\00062_QramProtocol3QTomo.h5\n",
      "Extracted data and attrs ['calib_order', 'config', 'meas_order', 'pulse_dict']\n",
      "init state Q0 (switch) Q1 (input): |0+1>|0+1>\n",
      "S:\\QRAM\\qram_4QR2\\data\\data_250119\\00063_QramProtocol3QTomo.h5\n",
      "S:\\QRAM\\qram_4QR2\\data\\data_250119\\00063_QramProtocol3QTomo.h5\n",
      "Extracted data and attrs ['calib_order', 'config', 'meas_order', 'pulse_dict']\n",
      "init state Q0 (switch) Q1 (input): |0+1>|0+i>\n",
      "S:\\QRAM\\qram_4QR2\\data\\data_250119\\00064_QramProtocol3QTomo.h5\n",
      "S:\\QRAM\\qram_4QR2\\data\\data_250119\\00064_QramProtocol3QTomo.h5\n",
      "Extracted data and attrs ['calib_order', 'config', 'meas_order', 'pulse_dict']\n",
      "init state Q0 (switch) Q1 (input): |0+i>|0>\n",
      "S:\\QRAM\\qram_4QR2\\data\\data_250119\\00065_QramProtocol3QTomo.h5\n",
      "S:\\QRAM\\qram_4QR2\\data\\data_250119\\00065_QramProtocol3QTomo.h5\n",
      "Extracted data and attrs ['calib_order', 'config', 'meas_order', 'pulse_dict']\n",
      "init state Q0 (switch) Q1 (input): |0+i>|1>\n",
      "S:\\QRAM\\qram_4QR2\\data\\data_250119\\00066_QramProtocol3QTomo.h5\n",
      "S:\\QRAM\\qram_4QR2\\data\\data_250119\\00066_QramProtocol3QTomo.h5\n",
      "Extracted data and attrs ['calib_order', 'config', 'meas_order', 'pulse_dict']\n",
      "init state Q0 (switch) Q1 (input): |0+i>|0+1>\n",
      "S:\\QRAM\\qram_4QR2\\data\\data_250119\\00067_QramProtocol3QTomo.h5\n",
      "S:\\QRAM\\qram_4QR2\\data\\data_250119\\00067_QramProtocol3QTomo.h5\n",
      "Extracted data and attrs ['calib_order', 'config', 'meas_order', 'pulse_dict']\n",
      "init state Q0 (switch) Q1 (input): |0+i>|0+i>\n",
      "Saved n_tomo_corrected_dict for Q0 Q2 Q3 to file S:\\QRAM\\qram_4QR2\\data\\data_250119\\202502112239_ntomocorrected_3Q_023.npz\n",
      "############################################\n",
      "STARTING n_forward_backward 3\n",
      "init_states (16 states) ['|0>|0>' '|0>|1>' '|0>|0+1>' '|0>|0+i>' '|1>|0>' '|1>|1>' '|1>|0+1>'\n",
      " '|1>|0+i>' '|0+1>|0>' '|0+1>|1>' '|0+1>|0+1>' '|0+1>|0+i>' '|0+i>|0>'\n",
      " '|0+i>|1>' '|0+i>|0+1>' '|0+i>|0+i>']\n",
      "protocol_play [2, 1, 1, 2, 2, 1, 1, 2, 2, 1, 1, 2, 2, 1, 3, 4]\n",
      "-------------------\n",
      "Starting iteration 0 for n_forward_backward 3\n"
     ]
    },
    {
     "data": {
      "application/vnd.jupyter.widget-view+json": {
       "model_id": "dec33436baed4006968580ca88d1ce4e",
       "version_major": 2,
       "version_minor": 0
      },
      "text/plain": [
       "  0%|          | 0/16 [00:00<?, ?it/s]"
      ]
     },
     "metadata": {},
     "output_type": "display_data"
    },
    {
     "name": "stdout",
     "output_type": "stream",
     "text": [
      "init_state |0>|0> play pulses [2, 1, 1, 2, 2, 1, 1, 2, 2, 1, 1, 2, 2, 1, 3, 4]\n",
      "timesteps [inf]\n"
     ]
    },
    {
     "data": {
      "application/vnd.jupyter.widget-view+json": {
       "model_id": "147aa451e5f64a73b6726dd87a21b0b1",
       "version_major": 2,
       "version_minor": 0
      },
      "text/plain": [
       "  0%|          | 0/8 [00:00<?, ?it/s]"
      ]
     },
     "metadata": {},
     "output_type": "display_data"
    },
    {
     "name": "stdout",
     "output_type": "stream",
     "text": [
      "Qubit  (0)\n",
      "ge fidelity (%): 90.97979797979797 \t angle (deg): 162.98794945959372 \t threshold ge: 245.4902689366827\n",
      "Qubit  (2)\n",
      "ge fidelity (%): 80.00000000000004 \t angle (deg): 171.7251008151463 \t threshold ge: 76.52835064154816\n",
      "Qubit  (3)\n",
      "ge fidelity (%): 79.00000000000004 \t angle (deg): -177.64743746833375 \t threshold ge: 93.9728070798981\n",
      "thresholds=[245.4902689366827, 0, 76.52835064154816, 93.9728070798981],\n",
      "angles=[162.98794945959372, 0, 171.7251008151463, -177.64743746833375],\n",
      "ge_avgs=[array([-115.22684515,  -92.29839363, -307.96190304, -151.2677424 ]), [0, 0, 0, 0], array([ -17.14134021, -109.45580033, -132.7398318 , -126.26807922]), array([ -55.63663411,  -10.96589518, -136.77126953,   -7.63263672])] ,\n",
      "counts_calib=[[75, 12, 10, 0, 3, 0, 0, 0], [9, 70, 0, 16, 1, 4, 0, 0], [11, 0, 81, 4, 0, 0, 4, 0], [3, 14, 11, 64, 0, 1, 0, 7], [2, 1, 4, 0, 75, 3, 11, 4], [0, 6, 1, 1, 7, 78, 2, 5], [3, 0, 10, 0, 6, 0, 77, 4], [0, 0, 3, 11, 0, 6, 13, 67]]\n",
      "\n"
     ]
    },
    {
     "data": {
      "application/vnd.jupyter.widget-view+json": {
       "model_id": "261bd93d99d4438d8174b562f2064be9",
       "version_major": 2,
       "version_minor": 0
      },
      "text/plain": [
       "  0%|          | 0/1 [00:00<?, ?it/s]"
      ]
     },
     "metadata": {},
     "output_type": "display_data"
    },
    {
     "data": {
      "application/vnd.jupyter.widget-view+json": {
       "model_id": "e839fefeb9104747bca1899e200db73c",
       "version_major": 2,
       "version_minor": 0
      },
      "text/plain": [
       "  0%|          | 0/27 [00:00<?, ?it/s]"
      ]
     },
     "metadata": {},
     "output_type": "display_data"
    },
    {
     "name": "stdout",
     "output_type": "stream",
     "text": [
      "Saving S:\\QRAM\\qram_4QR2\\data\\data_250119\\00068_QramProtocol3QTomo.h5\n",
      "init_state |0>|1> play pulses [2, 1, 1, 2, 2, 1, 1, 2, 2, 1, 1, 2, 2, 1, 3, 4]\n",
      "timesteps [inf]\n"
     ]
    },
    {
     "data": {
      "application/vnd.jupyter.widget-view+json": {
       "model_id": "4a4c57f5c085484f8587eb58a071fb58",
       "version_major": 2,
       "version_minor": 0
      },
      "text/plain": [
       "  0%|          | 0/8 [00:00<?, ?it/s]"
      ]
     },
     "metadata": {},
     "output_type": "display_data"
    },
    {
     "name": "stdout",
     "output_type": "stream",
     "text": [
      "Qubit  (0)\n",
      "ge fidelity (%): 86.9494949494949 \t angle (deg): 167.629448795363 \t threshold ge: 234.61073069408084\n",
      "Qubit  (2)\n",
      "ge fidelity (%): 85.00000000000006 \t angle (deg): 174.49040277523082 \t threshold ge: 83.04358043619837\n",
      "Qubit  (3)\n",
      "ge fidelity (%): 79.00000000000004 \t angle (deg): -179.21996664814344 \t threshold ge: 96.93363319010633\n",
      "thresholds=[234.61073069408084, 0, 83.04358043619837, 96.93363319010633],\n",
      "angles=[167.629448795363, 0, 174.49040277523082, -179.21996664814344],\n",
      "ge_avgs=[array([-123.38299566, -103.68860347, -305.09446454, -143.54256151]), [0, 0, 0, 0], array([  -7.4340803 , -111.54094954, -133.19321758, -123.67143787]), array([ -57.51649414,   -8.1730957 , -135.07155273,   -7.11718424])] ,\n",
      "counts_calib=[[79, 5, 9, 1, 5, 1, 0, 0], [11, 76, 3, 5, 1, 3, 0, 1], [7, 0, 88, 3, 0, 0, 2, 0], [1, 15, 11, 66, 0, 1, 1, 5], [8, 0, 0, 0, 79, 5, 6, 2], [0, 10, 1, 0, 9, 72, 3, 5], [2, 0, 11, 0, 12, 0, 68, 7], [0, 2, 2, 4, 1, 10, 9, 72]]\n",
      "\n"
     ]
    },
    {
     "data": {
      "application/vnd.jupyter.widget-view+json": {
       "model_id": "baa3dc224a944510b29c282c5199cdb8",
       "version_major": 2,
       "version_minor": 0
      },
      "text/plain": [
       "  0%|          | 0/1 [00:00<?, ?it/s]"
      ]
     },
     "metadata": {},
     "output_type": "display_data"
    },
    {
     "data": {
      "application/vnd.jupyter.widget-view+json": {
       "model_id": "974158a285cc45708ef25d944a2d222e",
       "version_major": 2,
       "version_minor": 0
      },
      "text/plain": [
       "  0%|          | 0/27 [00:00<?, ?it/s]"
      ]
     },
     "metadata": {},
     "output_type": "display_data"
    },
    {
     "ename": "KeyboardInterrupt",
     "evalue": "",
     "output_type": "error",
     "traceback": [
      "\u001b[1;31m---------------------------------------------------------------------------\u001b[0m",
      "\u001b[1;31mKeyboardInterrupt\u001b[0m                         Traceback (most recent call last)",
      "\u001b[1;32m~\\AppData\\Local\\Temp\\ipykernel_16456\\1342584075.py\u001b[0m in \u001b[0;36m<module>\u001b[1;34m\u001b[0m\n\u001b[0;32m     65\u001b[0m \u001b[1;33m\u001b[0m\u001b[0m\n\u001b[0;32m     66\u001b[0m             \u001b[1;32mtry\u001b[0m\u001b[1;33m:\u001b[0m\u001b[1;33m\u001b[0m\u001b[1;33m\u001b[0m\u001b[0m\n\u001b[1;32m---> 67\u001b[1;33m                 \u001b[0mqramExpt\u001b[0m\u001b[1;33m.\u001b[0m\u001b[0macquire\u001b[0m\u001b[1;33m(\u001b[0m\u001b[0mprogress\u001b[0m\u001b[1;33m=\u001b[0m\u001b[1;32mTrue\u001b[0m\u001b[1;33m,\u001b[0m \u001b[0mdebug\u001b[0m\u001b[1;33m=\u001b[0m\u001b[1;32mFalse\u001b[0m\u001b[1;33m)\u001b[0m\u001b[1;33m\u001b[0m\u001b[1;33m\u001b[0m\u001b[0m\n\u001b[0m\u001b[0;32m     68\u001b[0m                 \u001b[0msuccess\u001b[0m \u001b[1;33m=\u001b[0m \u001b[1;32mTrue\u001b[0m\u001b[1;33m\u001b[0m\u001b[1;33m\u001b[0m\u001b[0m\n\u001b[0;32m     69\u001b[0m             \u001b[1;32mexcept\u001b[0m \u001b[0mException\u001b[0m\u001b[1;33m:\u001b[0m\u001b[1;33m\u001b[0m\u001b[1;33m\u001b[0m\u001b[0m\n",
      "\u001b[1;32ms:\\Connie\\experiments\\qram_tprocv1_expts\\experiments\\qram_protocol_timestepped.py\u001b[0m in \u001b[0;36macquire\u001b[1;34m(self, progress, debug)\u001b[0m\n\u001b[0;32m   1949\u001b[0m                     \u001b[1;31m# print(progs2json([tomo.dump_prog()]))\u001b[0m\u001b[1;33m\u001b[0m\u001b[1;33m\u001b[0m\u001b[0m\n\u001b[0;32m   1950\u001b[0m                     \u001b[1;31m# xpts, avgi, avgq = tomo.acquire(self.im[self.cfg.aliases.soc], load_pulses=True, progress=False)\u001b[0m\u001b[1;33m\u001b[0m\u001b[1;33m\u001b[0m\u001b[0m\n\u001b[1;32m-> 1951\u001b[1;33m                     \u001b[0mavgi\u001b[0m\u001b[1;33m,\u001b[0m \u001b[0mavgq\u001b[0m \u001b[1;33m=\u001b[0m \u001b[0mtomo\u001b[0m\u001b[1;33m.\u001b[0m\u001b[0macquire\u001b[0m\u001b[1;33m(\u001b[0m\u001b[0mself\u001b[0m\u001b[1;33m.\u001b[0m\u001b[0mim\u001b[0m\u001b[1;33m[\u001b[0m\u001b[0mself\u001b[0m\u001b[1;33m.\u001b[0m\u001b[0mcfg\u001b[0m\u001b[1;33m.\u001b[0m\u001b[0maliases\u001b[0m\u001b[1;33m.\u001b[0m\u001b[0msoc\u001b[0m\u001b[1;33m]\u001b[0m\u001b[1;33m,\u001b[0m \u001b[0mload_pulses\u001b[0m\u001b[1;33m=\u001b[0m\u001b[1;32mTrue\u001b[0m\u001b[1;33m,\u001b[0m \u001b[0mprogress\u001b[0m\u001b[1;33m=\u001b[0m\u001b[1;32mFalse\u001b[0m\u001b[1;33m)\u001b[0m\u001b[1;33m\u001b[0m\u001b[1;33m\u001b[0m\u001b[0m\n\u001b[0m\u001b[0;32m   1952\u001b[0m \u001b[1;33m\u001b[0m\u001b[0m\n\u001b[0;32m   1953\u001b[0m                     \u001b[1;31m# print(basis)\u001b[0m\u001b[1;33m\u001b[0m\u001b[1;33m\u001b[0m\u001b[0m\n",
      "\u001b[1;32ms:\\Connie\\experiments\\qram_tprocv1_expts\\experiments\\clifford_averager_program.py\u001b[0m in \u001b[0;36macquire\u001b[1;34m(self, soc, load_pulses, progress, save_experiments, **kwargs)\u001b[0m\n\u001b[0;32m   1809\u001b[0m             \u001b[0mself\u001b[0m\u001b[1;33m.\u001b[0m\u001b[0mcfg\u001b[0m\u001b[1;33m.\u001b[0m\u001b[0mexpt\u001b[0m\u001b[1;33m.\u001b[0m\u001b[0mn_trig\u001b[0m \u001b[1;33m=\u001b[0m \u001b[1;36m1\u001b[0m\u001b[1;33m\u001b[0m\u001b[1;33m\u001b[0m\u001b[0m\n\u001b[0;32m   1810\u001b[0m             \u001b[0mself\u001b[0m\u001b[1;33m.\u001b[0m\u001b[0mcfg\u001b[0m\u001b[1;33m.\u001b[0m\u001b[0mexpt\u001b[0m\u001b[1;33m.\u001b[0m\u001b[0mn_init_readout\u001b[0m \u001b[1;33m=\u001b[0m \u001b[1;36m0\u001b[0m\u001b[1;33m\u001b[0m\u001b[1;33m\u001b[0m\u001b[0m\n\u001b[1;32m-> 1811\u001b[1;33m         return super().acquire(\n\u001b[0m\u001b[0;32m   1812\u001b[0m             \u001b[0msoc\u001b[0m\u001b[1;33m,\u001b[0m\u001b[1;33m\u001b[0m\u001b[1;33m\u001b[0m\u001b[0m\n\u001b[0;32m   1813\u001b[0m             \u001b[0mload_pulses\u001b[0m\u001b[1;33m=\u001b[0m\u001b[0mload_pulses\u001b[0m\u001b[1;33m,\u001b[0m\u001b[1;33m\u001b[0m\u001b[1;33m\u001b[0m\u001b[0m\n",
      "\u001b[1;32m~\\AppData\\Roaming\\Python\\Python39\\site-packages\\qick\\averager_program.py\u001b[0m in \u001b[0;36macquire\u001b[1;34m(self, soc, threshold, angle, readouts_per_experiment, save_experiments, load_pulses, start_src, progress, remove_offset)\u001b[0m\n\u001b[0;32m    104\u001b[0m             \u001b[0mself\u001b[0m\u001b[1;33m.\u001b[0m\u001b[0mset_reads_per_shot\u001b[0m\u001b[1;33m(\u001b[0m\u001b[0mreadouts_per_experiment\u001b[0m\u001b[1;33m)\u001b[0m\u001b[1;33m\u001b[0m\u001b[1;33m\u001b[0m\u001b[0m\n\u001b[0;32m    105\u001b[0m \u001b[1;33m\u001b[0m\u001b[0m\n\u001b[1;32m--> 106\u001b[1;33m         \u001b[0mavg_d\u001b[0m \u001b[1;33m=\u001b[0m \u001b[0msuper\u001b[0m\u001b[1;33m(\u001b[0m\u001b[1;33m)\u001b[0m\u001b[1;33m.\u001b[0m\u001b[0macquire\u001b[0m\u001b[1;33m(\u001b[0m\u001b[0msoc\u001b[0m\u001b[1;33m,\u001b[0m \u001b[0msoft_avgs\u001b[0m\u001b[1;33m=\u001b[0m\u001b[0mself\u001b[0m\u001b[1;33m.\u001b[0m\u001b[0msoft_avgs\u001b[0m\u001b[1;33m,\u001b[0m \u001b[0mload_pulses\u001b[0m\u001b[1;33m=\u001b[0m\u001b[0mload_pulses\u001b[0m\u001b[1;33m,\u001b[0m \u001b[0mstart_src\u001b[0m\u001b[1;33m=\u001b[0m\u001b[0mstart_src\u001b[0m\u001b[1;33m,\u001b[0m \u001b[0mthreshold\u001b[0m\u001b[1;33m=\u001b[0m\u001b[0mthreshold\u001b[0m\u001b[1;33m,\u001b[0m \u001b[0mangle\u001b[0m\u001b[1;33m=\u001b[0m\u001b[0mangle\u001b[0m\u001b[1;33m,\u001b[0m \u001b[0mprogress\u001b[0m\u001b[1;33m=\u001b[0m\u001b[0mprogress\u001b[0m\u001b[1;33m,\u001b[0m \u001b[0mremove_offset\u001b[0m\u001b[1;33m=\u001b[0m\u001b[0mremove_offset\u001b[0m\u001b[1;33m)\u001b[0m\u001b[1;33m\u001b[0m\u001b[1;33m\u001b[0m\u001b[0m\n\u001b[0m\u001b[0;32m    107\u001b[0m \u001b[1;33m\u001b[0m\u001b[0m\n\u001b[0;32m    108\u001b[0m         \u001b[1;31m# reformat the data into separate I and Q arrays\u001b[0m\u001b[1;33m\u001b[0m\u001b[1;33m\u001b[0m\u001b[0m\n",
      "\u001b[1;32m~\\AppData\\Roaming\\Python\\Python39\\site-packages\\qick\\qick_asm.py\u001b[0m in \u001b[0;36macquire\u001b[1;34m(self, soc, soft_avgs, load_pulses, start_src, threshold, angle, progress, remove_offset)\u001b[0m\n\u001b[0;32m   1665\u001b[0m             \u001b[0mdimensions\u001b[0m \u001b[1;32mfor\u001b[0m \u001b[0ma\u001b[0m \u001b[0mprogram\u001b[0m \u001b[1;32mwith\u001b[0m \u001b[0mmultiple\u001b[0m \u001b[0mexpts\u001b[0m\u001b[1;33m/\u001b[0m\u001b[0msteps\u001b[0m\u001b[1;33m:\u001b[0m \u001b[1;33m(\u001b[0m\u001b[0mn_ch\u001b[0m\u001b[1;33m,\u001b[0m \u001b[0mn_reads\u001b[0m\u001b[1;33m,\u001b[0m \u001b[0mn_expts\u001b[0m\u001b[1;33m,\u001b[0m \u001b[1;36m2\u001b[0m\u001b[1;33m)\u001b[0m\u001b[1;33m\u001b[0m\u001b[1;33m\u001b[0m\u001b[0m\n\u001b[0;32m   1666\u001b[0m         \"\"\"\n\u001b[1;32m-> 1667\u001b[1;33m         \u001b[0mself\u001b[0m\u001b[1;33m.\u001b[0m\u001b[0mconfig_all\u001b[0m\u001b[1;33m(\u001b[0m\u001b[0msoc\u001b[0m\u001b[1;33m,\u001b[0m \u001b[0mload_pulses\u001b[0m\u001b[1;33m=\u001b[0m\u001b[0mload_pulses\u001b[0m\u001b[1;33m)\u001b[0m\u001b[1;33m\u001b[0m\u001b[1;33m\u001b[0m\u001b[0m\n\u001b[0m\u001b[0;32m   1668\u001b[0m \u001b[1;33m\u001b[0m\u001b[0m\n\u001b[0;32m   1669\u001b[0m         \u001b[1;32mif\u001b[0m \u001b[0many\u001b[0m\u001b[1;33m(\u001b[0m\u001b[1;33m[\u001b[0m\u001b[0mx\u001b[0m \u001b[1;32mis\u001b[0m \u001b[1;32mNone\u001b[0m \u001b[1;32mfor\u001b[0m \u001b[0mx\u001b[0m \u001b[1;32min\u001b[0m \u001b[1;33m[\u001b[0m\u001b[0mself\u001b[0m\u001b[1;33m.\u001b[0m\u001b[0mcounter_addr\u001b[0m\u001b[1;33m,\u001b[0m \u001b[0mself\u001b[0m\u001b[1;33m.\u001b[0m\u001b[0mloop_dims\u001b[0m\u001b[1;33m,\u001b[0m \u001b[0mself\u001b[0m\u001b[1;33m.\u001b[0m\u001b[0mavg_level\u001b[0m\u001b[1;33m]\u001b[0m\u001b[1;33m]\u001b[0m\u001b[1;33m)\u001b[0m\u001b[1;33m:\u001b[0m\u001b[1;33m\u001b[0m\u001b[1;33m\u001b[0m\u001b[0m\n",
      "\u001b[1;32m~\\AppData\\Roaming\\Python\\Python39\\site-packages\\qick\\qick_asm.py\u001b[0m in \u001b[0;36mconfig_all\u001b[1;34m(self, soc, load_pulses, reset)\u001b[0m\n\u001b[0;32m   1022\u001b[0m \u001b[1;33m\u001b[0m\u001b[0m\n\u001b[0;32m   1023\u001b[0m         \u001b[1;31m# Configure signal generators\u001b[0m\u001b[1;33m\u001b[0m\u001b[1;33m\u001b[0m\u001b[0m\n\u001b[1;32m-> 1024\u001b[1;33m         \u001b[0mself\u001b[0m\u001b[1;33m.\u001b[0m\u001b[0mconfig_gens\u001b[0m\u001b[1;33m(\u001b[0m\u001b[0msoc\u001b[0m\u001b[1;33m)\u001b[0m\u001b[1;33m\u001b[0m\u001b[1;33m\u001b[0m\u001b[0m\n\u001b[0m\u001b[0;32m   1025\u001b[0m \u001b[1;33m\u001b[0m\u001b[0m\n\u001b[0;32m   1026\u001b[0m         \u001b[1;31m# Configure the readout down converters\u001b[0m\u001b[1;33m\u001b[0m\u001b[1;33m\u001b[0m\u001b[0m\n",
      "\u001b[1;32m~\\AppData\\Roaming\\Python\\Python39\\site-packages\\qick\\qick_asm.py\u001b[0m in \u001b[0;36mconfig_gens\u001b[1;34m(self, soc)\u001b[0m\n\u001b[0;32m   1231\u001b[0m         \"\"\"\n\u001b[0;32m   1232\u001b[0m         \u001b[1;32mfor\u001b[0m \u001b[0mch\u001b[0m\u001b[1;33m,\u001b[0m \u001b[0mcfg\u001b[0m \u001b[1;32min\u001b[0m \u001b[0mself\u001b[0m\u001b[1;33m.\u001b[0m\u001b[0mgen_chs\u001b[0m\u001b[1;33m.\u001b[0m\u001b[0mitems\u001b[0m\u001b[1;33m(\u001b[0m\u001b[1;33m)\u001b[0m\u001b[1;33m:\u001b[0m\u001b[1;33m\u001b[0m\u001b[1;33m\u001b[0m\u001b[0m\n\u001b[1;32m-> 1233\u001b[1;33m             \u001b[0msoc\u001b[0m\u001b[1;33m.\u001b[0m\u001b[0mset_nyquist\u001b[0m\u001b[1;33m(\u001b[0m\u001b[0mch\u001b[0m\u001b[1;33m,\u001b[0m \u001b[0mcfg\u001b[0m\u001b[1;33m[\u001b[0m\u001b[1;34m'nqz'\u001b[0m\u001b[1;33m]\u001b[0m\u001b[1;33m)\u001b[0m\u001b[1;33m\u001b[0m\u001b[1;33m\u001b[0m\u001b[0m\n\u001b[0m\u001b[0;32m   1234\u001b[0m             \u001b[1;32mif\u001b[0m \u001b[1;34m'mixer_freq'\u001b[0m \u001b[1;32min\u001b[0m \u001b[0mcfg\u001b[0m\u001b[1;33m:\u001b[0m\u001b[1;33m\u001b[0m\u001b[1;33m\u001b[0m\u001b[0m\n\u001b[0;32m   1235\u001b[0m                 \u001b[0msoc\u001b[0m\u001b[1;33m.\u001b[0m\u001b[0mset_mixer_freq\u001b[0m\u001b[1;33m(\u001b[0m\u001b[0mch\u001b[0m\u001b[1;33m,\u001b[0m \u001b[0mcfg\u001b[0m\u001b[1;33m[\u001b[0m\u001b[1;34m'mixer_freq'\u001b[0m\u001b[1;33m]\u001b[0m\u001b[1;33m[\u001b[0m\u001b[1;34m'setval'\u001b[0m\u001b[1;33m]\u001b[0m\u001b[1;33m)\u001b[0m\u001b[1;33m\u001b[0m\u001b[1;33m\u001b[0m\u001b[0m\n",
      "\u001b[1;32mc:\\ProgramData\\Anaconda3\\lib\\site-packages\\Pyro4\\core.py\u001b[0m in \u001b[0;36m__call__\u001b[1;34m(self, *args, **kwargs)\u001b[0m\n\u001b[0;32m    183\u001b[0m         \u001b[1;32mfor\u001b[0m \u001b[0mattempt\u001b[0m \u001b[1;32min\u001b[0m \u001b[0mrange\u001b[0m\u001b[1;33m(\u001b[0m\u001b[0mself\u001b[0m\u001b[1;33m.\u001b[0m\u001b[0m__max_retries\u001b[0m \u001b[1;33m+\u001b[0m \u001b[1;36m1\u001b[0m\u001b[1;33m)\u001b[0m\u001b[1;33m:\u001b[0m\u001b[1;33m\u001b[0m\u001b[1;33m\u001b[0m\u001b[0m\n\u001b[0;32m    184\u001b[0m             \u001b[1;32mtry\u001b[0m\u001b[1;33m:\u001b[0m\u001b[1;33m\u001b[0m\u001b[1;33m\u001b[0m\u001b[0m\n\u001b[1;32m--> 185\u001b[1;33m                 \u001b[1;32mreturn\u001b[0m \u001b[0mself\u001b[0m\u001b[1;33m.\u001b[0m\u001b[0m__send\u001b[0m\u001b[1;33m(\u001b[0m\u001b[0mself\u001b[0m\u001b[1;33m.\u001b[0m\u001b[0m__name\u001b[0m\u001b[1;33m,\u001b[0m \u001b[0margs\u001b[0m\u001b[1;33m,\u001b[0m \u001b[0mkwargs\u001b[0m\u001b[1;33m)\u001b[0m\u001b[1;33m\u001b[0m\u001b[1;33m\u001b[0m\u001b[0m\n\u001b[0m\u001b[0;32m    186\u001b[0m             \u001b[1;32mexcept\u001b[0m \u001b[1;33m(\u001b[0m\u001b[0merrors\u001b[0m\u001b[1;33m.\u001b[0m\u001b[0mConnectionClosedError\u001b[0m\u001b[1;33m,\u001b[0m \u001b[0merrors\u001b[0m\u001b[1;33m.\u001b[0m\u001b[0mTimeoutError\u001b[0m\u001b[1;33m)\u001b[0m\u001b[1;33m:\u001b[0m\u001b[1;33m\u001b[0m\u001b[1;33m\u001b[0m\u001b[0m\n\u001b[0;32m    187\u001b[0m                 \u001b[1;31m# only retry for recoverable network errors\u001b[0m\u001b[1;33m\u001b[0m\u001b[1;33m\u001b[0m\u001b[0m\n",
      "\u001b[1;32mc:\\ProgramData\\Anaconda3\\lib\\site-packages\\Pyro4\\core.py\u001b[0m in \u001b[0;36m_pyroInvoke\u001b[1;34m(self, methodname, vargs, kwargs, flags, objectId)\u001b[0m\n\u001b[0;32m    451\u001b[0m                     \u001b[1;32mreturn\u001b[0m \u001b[1;32mNone\u001b[0m  \u001b[1;31m# oneway call, no response data\u001b[0m\u001b[1;33m\u001b[0m\u001b[1;33m\u001b[0m\u001b[0m\n\u001b[0;32m    452\u001b[0m                 \u001b[1;32melse\u001b[0m\u001b[1;33m:\u001b[0m\u001b[1;33m\u001b[0m\u001b[1;33m\u001b[0m\u001b[0m\n\u001b[1;32m--> 453\u001b[1;33m                     \u001b[0mmsg\u001b[0m \u001b[1;33m=\u001b[0m \u001b[0mmessage\u001b[0m\u001b[1;33m.\u001b[0m\u001b[0mMessage\u001b[0m\u001b[1;33m.\u001b[0m\u001b[0mrecv\u001b[0m\u001b[1;33m(\u001b[0m\u001b[0mself\u001b[0m\u001b[1;33m.\u001b[0m\u001b[0m_pyroConnection\u001b[0m\u001b[1;33m,\u001b[0m \u001b[1;33m[\u001b[0m\u001b[0mmessage\u001b[0m\u001b[1;33m.\u001b[0m\u001b[0mMSG_RESULT\u001b[0m\u001b[1;33m]\u001b[0m\u001b[1;33m,\u001b[0m \u001b[0mhmac_key\u001b[0m\u001b[1;33m=\u001b[0m\u001b[0mself\u001b[0m\u001b[1;33m.\u001b[0m\u001b[0m_pyroHmacKey\u001b[0m\u001b[1;33m)\u001b[0m\u001b[1;33m\u001b[0m\u001b[1;33m\u001b[0m\u001b[0m\n\u001b[0m\u001b[0;32m    454\u001b[0m                     \u001b[1;32mif\u001b[0m \u001b[0mconfig\u001b[0m\u001b[1;33m.\u001b[0m\u001b[0mLOGWIRE\u001b[0m\u001b[1;33m:\u001b[0m\u001b[1;33m\u001b[0m\u001b[1;33m\u001b[0m\u001b[0m\n\u001b[0;32m    455\u001b[0m                         \u001b[0m_log_wiredata\u001b[0m\u001b[1;33m(\u001b[0m\u001b[0mlog\u001b[0m\u001b[1;33m,\u001b[0m \u001b[1;34m\"proxy wiredata received\"\u001b[0m\u001b[1;33m,\u001b[0m \u001b[0mmsg\u001b[0m\u001b[1;33m)\u001b[0m\u001b[1;33m\u001b[0m\u001b[1;33m\u001b[0m\u001b[0m\n",
      "\u001b[1;32mc:\\ProgramData\\Anaconda3\\lib\\site-packages\\Pyro4\\message.py\u001b[0m in \u001b[0;36mrecv\u001b[1;34m(cls, connection, requiredMsgTypes, hmac_key)\u001b[0m\n\u001b[0;32m    166\u001b[0m         \u001b[0mValidates\u001b[0m \u001b[0ma\u001b[0m \u001b[0mHMAC\u001b[0m \u001b[0mchunk\u001b[0m \u001b[1;32mif\u001b[0m \u001b[0mpresent\u001b[0m\u001b[1;33m.\u001b[0m\u001b[1;33m\u001b[0m\u001b[1;33m\u001b[0m\u001b[0m\n\u001b[0;32m    167\u001b[0m         \"\"\"\n\u001b[1;32m--> 168\u001b[1;33m         \u001b[0mmsg\u001b[0m \u001b[1;33m=\u001b[0m \u001b[0mcls\u001b[0m\u001b[1;33m.\u001b[0m\u001b[0mfrom_header\u001b[0m\u001b[1;33m(\u001b[0m\u001b[0mconnection\u001b[0m\u001b[1;33m.\u001b[0m\u001b[0mrecv\u001b[0m\u001b[1;33m(\u001b[0m\u001b[0mcls\u001b[0m\u001b[1;33m.\u001b[0m\u001b[0mheader_size\u001b[0m\u001b[1;33m)\u001b[0m\u001b[1;33m)\u001b[0m\u001b[1;33m\u001b[0m\u001b[1;33m\u001b[0m\u001b[0m\n\u001b[0m\u001b[0;32m    169\u001b[0m         \u001b[0mmsg\u001b[0m\u001b[1;33m.\u001b[0m\u001b[0mhmac_key\u001b[0m \u001b[1;33m=\u001b[0m \u001b[0mhmac_key\u001b[0m\u001b[1;33m\u001b[0m\u001b[1;33m\u001b[0m\u001b[0m\n\u001b[0;32m    170\u001b[0m         \u001b[1;32mif\u001b[0m \u001b[1;36m0\u001b[0m \u001b[1;33m<\u001b[0m \u001b[0mconfig\u001b[0m\u001b[1;33m.\u001b[0m\u001b[0mMAX_MESSAGE_SIZE\u001b[0m \u001b[1;33m<\u001b[0m \u001b[1;33m(\u001b[0m\u001b[0mmsg\u001b[0m\u001b[1;33m.\u001b[0m\u001b[0mdata_size\u001b[0m \u001b[1;33m+\u001b[0m \u001b[0mmsg\u001b[0m\u001b[1;33m.\u001b[0m\u001b[0mannotations_size\u001b[0m\u001b[1;33m)\u001b[0m\u001b[1;33m:\u001b[0m\u001b[1;33m\u001b[0m\u001b[1;33m\u001b[0m\u001b[0m\n",
      "\u001b[1;32mc:\\ProgramData\\Anaconda3\\lib\\site-packages\\Pyro4\\socketutil.py\u001b[0m in \u001b[0;36mrecv\u001b[1;34m(self, size)\u001b[0m\n\u001b[0;32m    461\u001b[0m \u001b[1;33m\u001b[0m\u001b[0m\n\u001b[0;32m    462\u001b[0m     \u001b[1;32mdef\u001b[0m \u001b[0mrecv\u001b[0m\u001b[1;33m(\u001b[0m\u001b[0mself\u001b[0m\u001b[1;33m,\u001b[0m \u001b[0msize\u001b[0m\u001b[1;33m)\u001b[0m\u001b[1;33m:\u001b[0m\u001b[1;33m\u001b[0m\u001b[1;33m\u001b[0m\u001b[0m\n\u001b[1;32m--> 463\u001b[1;33m         \u001b[1;32mreturn\u001b[0m \u001b[0mreceiveData\u001b[0m\u001b[1;33m(\u001b[0m\u001b[0mself\u001b[0m\u001b[1;33m.\u001b[0m\u001b[0msock\u001b[0m\u001b[1;33m,\u001b[0m \u001b[0msize\u001b[0m\u001b[1;33m)\u001b[0m\u001b[1;33m\u001b[0m\u001b[1;33m\u001b[0m\u001b[0m\n\u001b[0m\u001b[0;32m    464\u001b[0m \u001b[1;33m\u001b[0m\u001b[0m\n\u001b[0;32m    465\u001b[0m     \u001b[1;32mdef\u001b[0m \u001b[0mclose\u001b[0m\u001b[1;33m(\u001b[0m\u001b[0mself\u001b[0m\u001b[1;33m)\u001b[0m\u001b[1;33m:\u001b[0m\u001b[1;33m\u001b[0m\u001b[1;33m\u001b[0m\u001b[0m\n",
      "\u001b[1;32mc:\\ProgramData\\Anaconda3\\lib\\site-packages\\Pyro4\\socketutil.py\u001b[0m in \u001b[0;36mreceiveData\u001b[1;34m(sock, size)\u001b[0m\n\u001b[0;32m    169\u001b[0m                 \u001b[1;32mwhile\u001b[0m \u001b[0mmsglen\u001b[0m \u001b[1;33m<\u001b[0m \u001b[0msize\u001b[0m\u001b[1;33m:\u001b[0m\u001b[1;33m\u001b[0m\u001b[1;33m\u001b[0m\u001b[0m\n\u001b[0;32m    170\u001b[0m                     \u001b[1;31m# 60k buffer limit avoids problems on certain OSes like VMS, Windows\u001b[0m\u001b[1;33m\u001b[0m\u001b[1;33m\u001b[0m\u001b[0m\n\u001b[1;32m--> 171\u001b[1;33m                     \u001b[0mchunk\u001b[0m \u001b[1;33m=\u001b[0m \u001b[0msock\u001b[0m\u001b[1;33m.\u001b[0m\u001b[0mrecv\u001b[0m\u001b[1;33m(\u001b[0m\u001b[0mmin\u001b[0m\u001b[1;33m(\u001b[0m\u001b[1;36m60000\u001b[0m\u001b[1;33m,\u001b[0m \u001b[0msize\u001b[0m \u001b[1;33m-\u001b[0m \u001b[0mmsglen\u001b[0m\u001b[1;33m)\u001b[0m\u001b[1;33m)\u001b[0m\u001b[1;33m\u001b[0m\u001b[1;33m\u001b[0m\u001b[0m\n\u001b[0m\u001b[0;32m    172\u001b[0m                     \u001b[1;32mif\u001b[0m \u001b[1;32mnot\u001b[0m \u001b[0mchunk\u001b[0m\u001b[1;33m:\u001b[0m\u001b[1;33m\u001b[0m\u001b[1;33m\u001b[0m\u001b[0m\n\u001b[0;32m    173\u001b[0m                         \u001b[1;32mbreak\u001b[0m\u001b[1;33m\u001b[0m\u001b[1;33m\u001b[0m\u001b[0m\n",
      "\u001b[1;31mKeyboardInterrupt\u001b[0m: "
     ]
    }
   ],
   "source": [
    "# n_forward_backward = 1\n",
    "for i_n, n_forward_backward in enumerate(n_sweep):\n",
    "    print(\"############################################\")\n",
    "    print(\"STARTING n_forward_backward\", n_forward_backward)\n",
    "    saved_files_nsweep.append([])\n",
    "    saved_files = saved_files_nsweep[-1]\n",
    "    protocol_play = []\n",
    "    for n in range(n_forward_backward):\n",
    "        protocol_play.append([2, 1, 1, 2])\n",
    "    protocol_play.append([2, 1, 3, 4])\n",
    "    protocol_play = np.array(protocol_play).flatten().tolist()\n",
    "\n",
    "    print(f'init_states ({len(init_states)} states)', init_states)\n",
    "    print('protocol_play', protocol_play)\n",
    "\n",
    "    play_pulses = protocol_play\n",
    "    for it in range(iterations):\n",
    "        print(\"-------------------\")\n",
    "        print(\"Starting iteration\", it, \"for n_forward_backward\", n_forward_backward)\n",
    "        for init_state in tqdm(init_states):\n",
    "            qramExpt = meas.QramProtocol3QTomoExperiment(\n",
    "                soccfg=soc,\n",
    "                path=expt_path,\n",
    "                config_file=config_path,\n",
    "                ns_address=ns_address,\n",
    "            )\n",
    "            print('init_state', init_state, 'play pulses', play_pulses)\n",
    "\n",
    "            span = np.inf\n",
    "            npts = 1\n",
    "            if span < np.inf: print('time step size [cycles]:', soc.us2cycles(span/npts))\n",
    "\n",
    "            qramExpt.cfg.expt = dict(\n",
    "                start=span,\n",
    "                step=0,\n",
    "                expts=1, # number of different time experiments\n",
    "\n",
    "                # reps=10000, # number of reps per tomo/time step,\n",
    "                # singleshot_reps=10000, # reps per state for singleshot calibration\n",
    "                reps=100, # number of reps per tomo/time step,\n",
    "                singleshot_reps=100, #000, # reps per state for singleshot calibration\n",
    "                post_process=None, # 'threshold', (uses single shot binning), 'scale' (scale by ge_avgs), or None\n",
    "                tomo_3q=True, # flag to perform tomo on last time step\n",
    "                tomo_qubits=tomo_qubits, # the qubits on which to do the 3q state tomo\n",
    "                init_state=init_state,\n",
    "                play_pulses=play_pulses, # [2, 1, 4, 3]\n",
    "                cool_qubits=cool_qubits,\n",
    "                sync_between_swaps=sync_between_swaps,\n",
    "                sync_between_efs=sync_between_efs,\n",
    "\n",
    "                use_IQ_pulse=use_IQ_pulse, # state transfer IQ pulses for the state prep\n",
    "                use_robust_pulses=use_robust_pulses, # use robust pulses for state prep + tomo\n",
    "                plot_IQ=False,\n",
    "\n",
    "                readout_cool=readout_cool,\n",
    "                n_init_readout=1,\n",
    "                n_trig=1,\n",
    "                init_read_wait_us=10,\n",
    "\n",
    "                full_mux_expt=full_mux_expt,\n",
    "                resonator_reset=resonator_reset,\n",
    "            )\n",
    "            if tomo_qubits == [0, 2, 3]:\n",
    "                qramExpt.cfg.device.readout.gain[1] = 1e-4\n",
    "\n",
    "            try:\n",
    "                qramExpt.acquire(progress=True, debug=False)\n",
    "                success = True\n",
    "            except Exception:\n",
    "                print(\"Pyro traceback:\")\n",
    "                print(\"\".join(Pyro4.util.getPyroTraceback()))\n",
    "\n",
    "            if save_data: saved_files.append(qramExpt.save_data())\n",
    "    print(\"For n_forward_backward\", n_forward_backward, \"saved_files\", saved_files)\n",
    "    print()\n",
    "\n",
    "\n",
    "    print(\"............\")\n",
    "    print(\"Assembling n_tomo_corrected_dict\")\n",
    "    n_tomo_corrected_dict = dict()\n",
    "    all_configs = dict()\n",
    "    for i_saved_file, saved_file in enumerate(tqdm(saved_files)):\n",
    "        print(saved_file)\n",
    "        data, attrs = prev_data(saved_file, None)\n",
    "        pulse_dict = attrs['pulse_dict']\n",
    "        cfg = AttrDict(attrs['config'])\n",
    "        init_state = cfg.expt.init_state\n",
    "        all_configs[init_state] = cfg\n",
    "        play_pulses = cfg.expt.play_pulses\n",
    "        print('init state Q0 (switch) Q1 (input):', init_state)\n",
    "\n",
    "        n_tomo_raw, n_calib = tomo_analysis.n_tomo_calib_from_data(data, cfg, ps_adjust=ps_adjust, ps_qubits=ps_qubits, apply_ps=apply_ps, verbose=False)\n",
    "        n_tomo_corrected = tomo_analysis.correct_readout_err(n_tomo_raw, n_calib)\n",
    "\n",
    "        if init_state not in n_tomo_corrected_dict.keys():\n",
    "            n_tomo_corrected_dict.update({init_state:[]})\n",
    "\n",
    "        n_tomo_corrected_dict[init_state].append(n_tomo_corrected)\n",
    "\n",
    "    init_states = np.copy(list(n_tomo_corrected_dict.keys()))\n",
    "    for init_state in init_states:\n",
    "        all_n_tomo_corrected = np.array(n_tomo_corrected_dict[init_state])\n",
    "        n_tomo_corrected_dict[init_state] = np.average(all_n_tomo_corrected, axis=0)\n",
    "\n",
    "    # SAVING MEASURED n_tomo_corrected\n",
    "    n_tomo_corrected_dict.update({\"saved_files\":saved_files})\n",
    "    n_tomo_corrected_dict.update({\"init_states\":list(init_states)})\n",
    "    n_tomo_corrected_dict.update({\"all_configs\":all_configs})\n",
    "\n",
    "    from datetime import datetime\n",
    "    timestamp = datetime.now().strftime(\"%Y%m%d%H%M\")\n",
    "    qA, qB, qC = tomo_qubits\n",
    "    n_tomo_corrected_filepath = os.path.join(expt_path, f'{timestamp}_ntomocorrected_3Q_{qA}{qB}{qC}.npz')\n",
    "    np.savez(n_tomo_corrected_filepath, **n_tomo_corrected_dict, allow_pickle=True)\n",
    "    print(f'Saved n_tomo_corrected_dict for Q{qA} Q{qB} Q{qC} to file {n_tomo_corrected_filepath}')\n",
    "    n_tomo_corrected_filepaths.append(n_tomo_corrected_filepath)"
   ]
  },
  {
   "cell_type": "code",
   "execution_count": 672,
   "metadata": {},
   "outputs": [
    {
     "name": "stdout",
     "output_type": "stream",
     "text": [
      "init_states = ['|0>|0>', '|0>|1>', '|0>|0+1>', '|0>|0+i>', '|1>|0>', '|1>|1>', '|1>|0+1>', '|1>|0+i>', '|0+1>|0>', '|0+1>|1>', '|0+1>|0+1>', '|0+1>|0+i>', '|0+i>|0>', '|0+i>|1>', '|0+i>|0+1>', '|0+i>|0+i>']\n",
      "['S:\\\\QRAM\\\\qram_4QR2\\\\data\\\\data_241025\\\\00860_QramProtocol3QTomo.h5', 'S:\\\\QRAM\\\\qram_4QR2\\\\data\\\\data_241025\\\\00861_QramProtocol3QTomo.h5', 'S:\\\\QRAM\\\\qram_4QR2\\\\data\\\\data_241025\\\\00862_QramProtocol3QTomo.h5', 'S:\\\\QRAM\\\\qram_4QR2\\\\data\\\\data_241025\\\\00863_QramProtocol3QTomo.h5', 'S:\\\\QRAM\\\\qram_4QR2\\\\data\\\\data_241025\\\\00864_QramProtocol3QTomo.h5', 'S:\\\\QRAM\\\\qram_4QR2\\\\data\\\\data_241025\\\\00865_QramProtocol3QTomo.h5', 'S:\\\\QRAM\\\\qram_4QR2\\\\data\\\\data_241025\\\\00866_QramProtocol3QTomo.h5', 'S:\\\\QRAM\\\\qram_4QR2\\\\data\\\\data_241025\\\\00867_QramProtocol3QTomo.h5', 'S:\\\\QRAM\\\\qram_4QR2\\\\data\\\\data_241025\\\\00868_QramProtocol3QTomo.h5', 'S:\\\\QRAM\\\\qram_4QR2\\\\data\\\\data_241025\\\\00869_QramProtocol3QTomo.h5', 'S:\\\\QRAM\\\\qram_4QR2\\\\data\\\\data_241025\\\\00870_QramProtocol3QTomo.h5', 'S:\\\\QRAM\\\\qram_4QR2\\\\data\\\\data_241025\\\\00871_QramProtocol3QTomo.h5', 'S:\\\\QRAM\\\\qram_4QR2\\\\data\\\\data_241025\\\\00872_QramProtocol3QTomo.h5', 'S:\\\\QRAM\\\\qram_4QR2\\\\data\\\\data_241025\\\\00873_QramProtocol3QTomo.h5', 'S:\\\\QRAM\\\\qram_4QR2\\\\data\\\\data_241025\\\\00874_QramProtocol3QTomo.h5', 'S:\\\\QRAM\\\\qram_4QR2\\\\data\\\\data_241025\\\\00875_QramProtocol3QTomo.h5', 'S:\\\\QRAM\\\\qram_4QR2\\\\data\\\\data_241025\\\\00876_QramProtocol3QTomo.h5', 'S:\\\\QRAM\\\\qram_4QR2\\\\data\\\\data_241025\\\\00877_QramProtocol3QTomo.h5', 'S:\\\\QRAM\\\\qram_4QR2\\\\data\\\\data_241025\\\\00878_QramProtocol3QTomo.h5', 'S:\\\\QRAM\\\\qram_4QR2\\\\data\\\\data_241025\\\\00879_QramProtocol3QTomo.h5', 'S:\\\\QRAM\\\\qram_4QR2\\\\data\\\\data_241025\\\\00880_QramProtocol3QTomo.h5', 'S:\\\\QRAM\\\\qram_4QR2\\\\data\\\\data_241025\\\\00881_QramProtocol3QTomo.h5', 'S:\\\\QRAM\\\\qram_4QR2\\\\data\\\\data_241025\\\\00882_QramProtocol3QTomo.h5', 'S:\\\\QRAM\\\\qram_4QR2\\\\data\\\\data_241025\\\\00883_QramProtocol3QTomo.h5', 'S:\\\\QRAM\\\\qram_4QR2\\\\data\\\\data_241025\\\\00884_QramProtocol3QTomo.h5', 'S:\\\\QRAM\\\\qram_4QR2\\\\data\\\\data_241025\\\\00885_QramProtocol3QTomo.h5', 'S:\\\\QRAM\\\\qram_4QR2\\\\data\\\\data_241025\\\\00886_QramProtocol3QTomo.h5', 'S:\\\\QRAM\\\\qram_4QR2\\\\data\\\\data_241025\\\\00887_QramProtocol3QTomo.h5', 'S:\\\\QRAM\\\\qram_4QR2\\\\data\\\\data_241025\\\\00888_QramProtocol3QTomo.h5', 'S:\\\\QRAM\\\\qram_4QR2\\\\data\\\\data_241025\\\\00889_QramProtocol3QTomo.h5', 'S:\\\\QRAM\\\\qram_4QR2\\\\data\\\\data_241025\\\\00890_QramProtocol3QTomo.h5', 'S:\\\\QRAM\\\\qram_4QR2\\\\data\\\\data_241025\\\\00891_QramProtocol3QTomo.h5', 'S:\\\\QRAM\\\\qram_4QR2\\\\data\\\\data_241025\\\\00892_QramProtocol3QTomo.h5', 'S:\\\\QRAM\\\\qram_4QR2\\\\data\\\\data_241025\\\\00893_QramProtocol3QTomo.h5', 'S:\\\\QRAM\\\\qram_4QR2\\\\data\\\\data_241025\\\\00894_QramProtocol3QTomo.h5', 'S:\\\\QRAM\\\\qram_4QR2\\\\data\\\\data_241025\\\\00895_QramProtocol3QTomo.h5', 'S:\\\\QRAM\\\\qram_4QR2\\\\data\\\\data_241025\\\\00896_QramProtocol3QTomo.h5', 'S:\\\\QRAM\\\\qram_4QR2\\\\data\\\\data_241025\\\\00897_QramProtocol3QTomo.h5', 'S:\\\\QRAM\\\\qram_4QR2\\\\data\\\\data_241025\\\\00898_QramProtocol3QTomo.h5', 'S:\\\\QRAM\\\\qram_4QR2\\\\data\\\\data_241025\\\\00899_QramProtocol3QTomo.h5', 'S:\\\\QRAM\\\\qram_4QR2\\\\data\\\\data_241025\\\\00900_QramProtocol3QTomo.h5', 'S:\\\\QRAM\\\\qram_4QR2\\\\data\\\\data_241025\\\\00901_QramProtocol3QTomo.h5', 'S:\\\\QRAM\\\\qram_4QR2\\\\data\\\\data_241025\\\\00902_QramProtocol3QTomo.h5', 'S:\\\\QRAM\\\\qram_4QR2\\\\data\\\\data_241025\\\\00903_QramProtocol3QTomo.h5', 'S:\\\\QRAM\\\\qram_4QR2\\\\data\\\\data_241025\\\\00904_QramProtocol3QTomo.h5', 'S:\\\\QRAM\\\\qram_4QR2\\\\data\\\\data_241025\\\\00905_QramProtocol3QTomo.h5', 'S:\\\\QRAM\\\\qram_4QR2\\\\data\\\\data_241025\\\\00906_QramProtocol3QTomo.h5', 'S:\\\\QRAM\\\\qram_4QR2\\\\data\\\\data_241025\\\\00907_QramProtocol3QTomo.h5', 'S:\\\\QRAM\\\\qram_4QR2\\\\data\\\\data_241025\\\\00908_QramProtocol3QTomo.h5', 'S:\\\\QRAM\\\\qram_4QR2\\\\data\\\\data_241025\\\\00909_QramProtocol3QTomo.h5', 'S:\\\\QRAM\\\\qram_4QR2\\\\data\\\\data_241025\\\\00910_QramProtocol3QTomo.h5', 'S:\\\\QRAM\\\\qram_4QR2\\\\data\\\\data_241025\\\\00911_QramProtocol3QTomo.h5', 'S:\\\\QRAM\\\\qram_4QR2\\\\data\\\\data_241025\\\\00912_QramProtocol3QTomo.h5', 'S:\\\\QRAM\\\\qram_4QR2\\\\data\\\\data_241025\\\\00913_QramProtocol3QTomo.h5', 'S:\\\\QRAM\\\\qram_4QR2\\\\data\\\\data_241025\\\\00914_QramProtocol3QTomo.h5', 'S:\\\\QRAM\\\\qram_4QR2\\\\data\\\\data_241025\\\\00915_QramProtocol3QTomo.h5', 'S:\\\\QRAM\\\\qram_4QR2\\\\data\\\\data_241025\\\\00916_QramProtocol3QTomo.h5', 'S:\\\\QRAM\\\\qram_4QR2\\\\data\\\\data_241025\\\\00917_QramProtocol3QTomo.h5', 'S:\\\\QRAM\\\\qram_4QR2\\\\data\\\\data_241025\\\\00918_QramProtocol3QTomo.h5', 'S:\\\\QRAM\\\\qram_4QR2\\\\data\\\\data_241025\\\\00919_QramProtocol3QTomo.h5', 'S:\\\\QRAM\\\\qram_4QR2\\\\data\\\\data_241025\\\\00920_QramProtocol3QTomo.h5', 'S:\\\\QRAM\\\\qram_4QR2\\\\data\\\\data_241025\\\\00921_QramProtocol3QTomo.h5', 'S:\\\\QRAM\\\\qram_4QR2\\\\data\\\\data_241025\\\\00922_QramProtocol3QTomo.h5', 'S:\\\\QRAM\\\\qram_4QR2\\\\data\\\\data_241025\\\\00923_QramProtocol3QTomo.h5', 'S:\\\\QRAM\\\\qram_4QR2\\\\data\\\\data_241025\\\\00924_QramProtocol3QTomo.h5', 'S:\\\\QRAM\\\\qram_4QR2\\\\data\\\\data_241025\\\\00925_QramProtocol3QTomo.h5', 'S:\\\\QRAM\\\\qram_4QR2\\\\data\\\\data_241025\\\\00926_QramProtocol3QTomo.h5', 'S:\\\\QRAM\\\\qram_4QR2\\\\data\\\\data_241025\\\\00927_QramProtocol3QTomo.h5', 'S:\\\\QRAM\\\\qram_4QR2\\\\data\\\\data_241025\\\\00928_QramProtocol3QTomo.h5', 'S:\\\\QRAM\\\\qram_4QR2\\\\data\\\\data_241025\\\\00929_QramProtocol3QTomo.h5', 'S:\\\\QRAM\\\\qram_4QR2\\\\data\\\\data_241025\\\\00930_QramProtocol3QTomo.h5', 'S:\\\\QRAM\\\\qram_4QR2\\\\data\\\\data_241025\\\\00931_QramProtocol3QTomo.h5', 'S:\\\\QRAM\\\\qram_4QR2\\\\data\\\\data_241025\\\\00932_QramProtocol3QTomo.h5', 'S:\\\\QRAM\\\\qram_4QR2\\\\data\\\\data_241025\\\\00933_QramProtocol3QTomo.h5', 'S:\\\\QRAM\\\\qram_4QR2\\\\data\\\\data_241025\\\\00934_QramProtocol3QTomo.h5', 'S:\\\\QRAM\\\\qram_4QR2\\\\data\\\\data_241025\\\\00935_QramProtocol3QTomo.h5', 'S:\\\\QRAM\\\\qram_4QR2\\\\data\\\\data_241025\\\\00936_QramProtocol3QTomo.h5', 'S:\\\\QRAM\\\\qram_4QR2\\\\data\\\\data_241025\\\\00937_QramProtocol3QTomo.h5', 'S:\\\\QRAM\\\\qram_4QR2\\\\data\\\\data_241025\\\\00938_QramProtocol3QTomo.h5', 'S:\\\\QRAM\\\\qram_4QR2\\\\data\\\\data_241025\\\\00939_QramProtocol3QTomo.h5']\n"
     ]
    }
   ],
   "source": [
    "print('init_states =', init_states)\n",
    "for i_n, n_forward_backward in enumerate(n_sweep):\n",
    "    print(\"n_forward_backward\", n_forward_backward)\n",
    "    print(\"saved_files\", saved_files_nsweep[i_n])\n",
    "    print(\"n_tomo_corrected_filepath\", n_tomo_corrected_filepaths[i_n])"
   ]
  },
  {
   "cell_type": "markdown",
   "metadata": {},
   "source": [
    "#### Retrieve saved files and put all the n_tomo_corrected into a more easily accessible file"
   ]
  },
  {
   "cell_type": "code",
   "execution_count": 21,
   "metadata": {
    "collapsed": true,
    "jupyter": {
     "outputs_hidden": true
    },
    "tags": []
   },
   "outputs": [
    {
     "name": "stderr",
     "output_type": "stream",
     "text": [
      "TqdmDeprecationWarning: This function will be removed in tqdm==5.0.0\n",
      "Please use `tqdm.notebook.tqdm` instead of `tqdm.tqdm_notebook`\n",
      " C:\\Users\\slab\\AppData\\Local\\Temp\\ipykernel_22060\\3499015544.py: 3"
     ]
    },
    {
     "data": {
      "application/vnd.jupyter.widget-view+json": {
       "model_id": "5357186cc7f0487ea78bdc336583fa49",
       "version_major": 2,
       "version_minor": 0
      },
      "text/plain": [
       "  0%|          | 0/80 [00:00<?, ?it/s]"
      ]
     },
     "metadata": {},
     "output_type": "display_data"
    },
    {
     "name": "stdout",
     "output_type": "stream",
     "text": [
      "S:\\QRAM\\qram_4QR2\\data\\data_241025\\01020_QramProtocol3QTomo.h5\n",
      "S:\\QRAM\\qram_4QR2\\data\\data_241025\\01020_QramProtocol3QTomo.h5\n"
     ]
    },
    {
     "name": "stderr",
     "output_type": "stream",
     "text": [
      "DeprecationWarning: `product` is deprecated as of NumPy 1.25.0, and will be removed in NumPy 2.0. Please use `prod` instead.\n",
      " C:\\Users\\slab\\AppData\\Local\\Temp\\ipykernel_22060\\1887187011.py: 13"
     ]
    },
    {
     "name": "stdout",
     "output_type": "stream",
     "text": [
      "Extracted data and attrs ['calib_order', 'config', 'meas_order', 'pulse_dict']\n",
      "init state Q0 (switch) Q1 (input): |0>|0>\n",
      "S:\\QRAM\\qram_4QR2\\data\\data_241025\\01021_QramProtocol3QTomo.h5\n",
      "S:\\QRAM\\qram_4QR2\\data\\data_241025\\01021_QramProtocol3QTomo.h5\n",
      "Extracted data and attrs ['calib_order', 'config', 'meas_order', 'pulse_dict']\n",
      "init state Q0 (switch) Q1 (input): |0>|1>\n",
      "S:\\QRAM\\qram_4QR2\\data\\data_241025\\01022_QramProtocol3QTomo.h5\n",
      "S:\\QRAM\\qram_4QR2\\data\\data_241025\\01022_QramProtocol3QTomo.h5\n",
      "Extracted data and attrs ['calib_order', 'config', 'meas_order', 'pulse_dict']\n",
      "init state Q0 (switch) Q1 (input): |0>|0+1>\n",
      "S:\\QRAM\\qram_4QR2\\data\\data_241025\\01023_QramProtocol3QTomo.h5\n",
      "S:\\QRAM\\qram_4QR2\\data\\data_241025\\01023_QramProtocol3QTomo.h5\n",
      "Extracted data and attrs ['calib_order', 'config', 'meas_order', 'pulse_dict']\n",
      "init state Q0 (switch) Q1 (input): |0>|0+i>\n",
      "S:\\QRAM\\qram_4QR2\\data\\data_241025\\01024_QramProtocol3QTomo.h5\n",
      "S:\\QRAM\\qram_4QR2\\data\\data_241025\\01024_QramProtocol3QTomo.h5\n",
      "Extracted data and attrs ['calib_order', 'config', 'meas_order', 'pulse_dict']\n",
      "init state Q0 (switch) Q1 (input): |1>|0>\n",
      "S:\\QRAM\\qram_4QR2\\data\\data_241025\\01025_QramProtocol3QTomo.h5\n",
      "S:\\QRAM\\qram_4QR2\\data\\data_241025\\01025_QramProtocol3QTomo.h5\n",
      "Extracted data and attrs ['calib_order', 'config', 'meas_order', 'pulse_dict']\n",
      "init state Q0 (switch) Q1 (input): |1>|1>\n",
      "S:\\QRAM\\qram_4QR2\\data\\data_241025\\01026_QramProtocol3QTomo.h5\n",
      "S:\\QRAM\\qram_4QR2\\data\\data_241025\\01026_QramProtocol3QTomo.h5\n",
      "Extracted data and attrs ['calib_order', 'config', 'meas_order', 'pulse_dict']\n",
      "init state Q0 (switch) Q1 (input): |1>|0+1>\n",
      "S:\\QRAM\\qram_4QR2\\data\\data_241025\\01027_QramProtocol3QTomo.h5\n",
      "S:\\QRAM\\qram_4QR2\\data\\data_241025\\01027_QramProtocol3QTomo.h5\n",
      "Extracted data and attrs ['calib_order', 'config', 'meas_order', 'pulse_dict']\n",
      "init state Q0 (switch) Q1 (input): |1>|0+i>\n",
      "S:\\QRAM\\qram_4QR2\\data\\data_241025\\01028_QramProtocol3QTomo.h5\n",
      "S:\\QRAM\\qram_4QR2\\data\\data_241025\\01028_QramProtocol3QTomo.h5\n",
      "Extracted data and attrs ['calib_order', 'config', 'meas_order', 'pulse_dict']\n",
      "init state Q0 (switch) Q1 (input): |0+1>|0>\n",
      "S:\\QRAM\\qram_4QR2\\data\\data_241025\\01029_QramProtocol3QTomo.h5\n",
      "S:\\QRAM\\qram_4QR2\\data\\data_241025\\01029_QramProtocol3QTomo.h5\n",
      "Extracted data and attrs ['calib_order', 'config', 'meas_order', 'pulse_dict']\n",
      "init state Q0 (switch) Q1 (input): |0+1>|1>\n",
      "S:\\QRAM\\qram_4QR2\\data\\data_241025\\01030_QramProtocol3QTomo.h5\n",
      "S:\\QRAM\\qram_4QR2\\data\\data_241025\\01030_QramProtocol3QTomo.h5\n",
      "Extracted data and attrs ['calib_order', 'config', 'meas_order', 'pulse_dict']\n",
      "init state Q0 (switch) Q1 (input): |0+1>|0+1>\n",
      "S:\\QRAM\\qram_4QR2\\data\\data_241025\\01031_QramProtocol3QTomo.h5\n",
      "S:\\QRAM\\qram_4QR2\\data\\data_241025\\01031_QramProtocol3QTomo.h5\n",
      "Extracted data and attrs ['calib_order', 'config', 'meas_order', 'pulse_dict']\n",
      "init state Q0 (switch) Q1 (input): |0+1>|0+i>\n",
      "S:\\QRAM\\qram_4QR2\\data\\data_241025\\01032_QramProtocol3QTomo.h5\n",
      "S:\\QRAM\\qram_4QR2\\data\\data_241025\\01032_QramProtocol3QTomo.h5\n",
      "Extracted data and attrs ['calib_order', 'config', 'meas_order', 'pulse_dict']\n",
      "init state Q0 (switch) Q1 (input): |0+i>|0>\n",
      "S:\\QRAM\\qram_4QR2\\data\\data_241025\\01033_QramProtocol3QTomo.h5\n",
      "S:\\QRAM\\qram_4QR2\\data\\data_241025\\01033_QramProtocol3QTomo.h5\n",
      "Extracted data and attrs ['calib_order', 'config', 'meas_order', 'pulse_dict']\n",
      "init state Q0 (switch) Q1 (input): |0+i>|1>\n",
      "S:\\QRAM\\qram_4QR2\\data\\data_241025\\01034_QramProtocol3QTomo.h5\n",
      "S:\\QRAM\\qram_4QR2\\data\\data_241025\\01034_QramProtocol3QTomo.h5\n",
      "Extracted data and attrs ['calib_order', 'config', 'meas_order', 'pulse_dict']\n",
      "init state Q0 (switch) Q1 (input): |0+i>|0+1>\n",
      "S:\\QRAM\\qram_4QR2\\data\\data_241025\\01035_QramProtocol3QTomo.h5\n",
      "S:\\QRAM\\qram_4QR2\\data\\data_241025\\01035_QramProtocol3QTomo.h5\n",
      "Extracted data and attrs ['calib_order', 'config', 'meas_order', 'pulse_dict']\n",
      "init state Q0 (switch) Q1 (input): |0+i>|0+i>\n",
      "S:\\QRAM\\qram_4QR2\\data\\data_241025\\01036_QramProtocol3QTomo.h5\n",
      "S:\\QRAM\\qram_4QR2\\data\\data_241025\\01036_QramProtocol3QTomo.h5\n",
      "Extracted data and attrs ['calib_order', 'config', 'meas_order', 'pulse_dict']\n",
      "init state Q0 (switch) Q1 (input): |0>|0>\n",
      "S:\\QRAM\\qram_4QR2\\data\\data_241025\\01037_QramProtocol3QTomo.h5\n",
      "S:\\QRAM\\qram_4QR2\\data\\data_241025\\01037_QramProtocol3QTomo.h5\n",
      "Extracted data and attrs ['calib_order', 'config', 'meas_order', 'pulse_dict']\n",
      "init state Q0 (switch) Q1 (input): |0>|1>\n",
      "S:\\QRAM\\qram_4QR2\\data\\data_241025\\01038_QramProtocol3QTomo.h5\n",
      "S:\\QRAM\\qram_4QR2\\data\\data_241025\\01038_QramProtocol3QTomo.h5\n",
      "Extracted data and attrs ['calib_order', 'config', 'meas_order', 'pulse_dict']\n",
      "init state Q0 (switch) Q1 (input): |0>|0+1>\n",
      "S:\\QRAM\\qram_4QR2\\data\\data_241025\\01039_QramProtocol3QTomo.h5\n",
      "S:\\QRAM\\qram_4QR2\\data\\data_241025\\01039_QramProtocol3QTomo.h5\n",
      "Extracted data and attrs ['calib_order', 'config', 'meas_order', 'pulse_dict']\n",
      "init state Q0 (switch) Q1 (input): |0>|0+i>\n",
      "S:\\QRAM\\qram_4QR2\\data\\data_241025\\01040_QramProtocol3QTomo.h5\n",
      "S:\\QRAM\\qram_4QR2\\data\\data_241025\\01040_QramProtocol3QTomo.h5\n",
      "Extracted data and attrs ['calib_order', 'config', 'meas_order', 'pulse_dict']\n",
      "init state Q0 (switch) Q1 (input): |1>|0>\n",
      "S:\\QRAM\\qram_4QR2\\data\\data_241025\\01041_QramProtocol3QTomo.h5\n",
      "S:\\QRAM\\qram_4QR2\\data\\data_241025\\01041_QramProtocol3QTomo.h5\n",
      "Extracted data and attrs ['calib_order', 'config', 'meas_order', 'pulse_dict']\n",
      "init state Q0 (switch) Q1 (input): |1>|1>\n",
      "S:\\QRAM\\qram_4QR2\\data\\data_241025\\01042_QramProtocol3QTomo.h5\n",
      "S:\\QRAM\\qram_4QR2\\data\\data_241025\\01042_QramProtocol3QTomo.h5\n",
      "Extracted data and attrs ['calib_order', 'config', 'meas_order', 'pulse_dict']\n",
      "init state Q0 (switch) Q1 (input): |1>|0+1>\n",
      "S:\\QRAM\\qram_4QR2\\data\\data_241025\\01043_QramProtocol3QTomo.h5\n",
      "S:\\QRAM\\qram_4QR2\\data\\data_241025\\01043_QramProtocol3QTomo.h5\n",
      "Extracted data and attrs ['calib_order', 'config', 'meas_order', 'pulse_dict']\n",
      "init state Q0 (switch) Q1 (input): |1>|0+i>\n",
      "S:\\QRAM\\qram_4QR2\\data\\data_241025\\01044_QramProtocol3QTomo.h5\n",
      "S:\\QRAM\\qram_4QR2\\data\\data_241025\\01044_QramProtocol3QTomo.h5\n",
      "Extracted data and attrs ['calib_order', 'config', 'meas_order', 'pulse_dict']\n",
      "init state Q0 (switch) Q1 (input): |0+1>|0>\n",
      "S:\\QRAM\\qram_4QR2\\data\\data_241025\\01045_QramProtocol3QTomo.h5\n",
      "S:\\QRAM\\qram_4QR2\\data\\data_241025\\01045_QramProtocol3QTomo.h5\n",
      "Extracted data and attrs ['calib_order', 'config', 'meas_order', 'pulse_dict']\n",
      "init state Q0 (switch) Q1 (input): |0+1>|1>\n",
      "S:\\QRAM\\qram_4QR2\\data\\data_241025\\01046_QramProtocol3QTomo.h5\n",
      "S:\\QRAM\\qram_4QR2\\data\\data_241025\\01046_QramProtocol3QTomo.h5\n",
      "Extracted data and attrs ['calib_order', 'config', 'meas_order', 'pulse_dict']\n",
      "init state Q0 (switch) Q1 (input): |0+1>|0+1>\n",
      "S:\\QRAM\\qram_4QR2\\data\\data_241025\\01047_QramProtocol3QTomo.h5\n",
      "S:\\QRAM\\qram_4QR2\\data\\data_241025\\01047_QramProtocol3QTomo.h5\n",
      "Extracted data and attrs ['calib_order', 'config', 'meas_order', 'pulse_dict']\n",
      "init state Q0 (switch) Q1 (input): |0+1>|0+i>\n",
      "S:\\QRAM\\qram_4QR2\\data\\data_241025\\01048_QramProtocol3QTomo.h5\n",
      "S:\\QRAM\\qram_4QR2\\data\\data_241025\\01048_QramProtocol3QTomo.h5\n",
      "Extracted data and attrs ['calib_order', 'config', 'meas_order', 'pulse_dict']\n",
      "init state Q0 (switch) Q1 (input): |0+i>|0>\n",
      "S:\\QRAM\\qram_4QR2\\data\\data_241025\\01049_QramProtocol3QTomo.h5\n",
      "S:\\QRAM\\qram_4QR2\\data\\data_241025\\01049_QramProtocol3QTomo.h5\n",
      "Extracted data and attrs ['calib_order', 'config', 'meas_order', 'pulse_dict']\n",
      "init state Q0 (switch) Q1 (input): |0+i>|1>\n",
      "S:\\QRAM\\qram_4QR2\\data\\data_241025\\01050_QramProtocol3QTomo.h5\n",
      "S:\\QRAM\\qram_4QR2\\data\\data_241025\\01050_QramProtocol3QTomo.h5\n",
      "Extracted data and attrs ['calib_order', 'config', 'meas_order', 'pulse_dict']\n",
      "init state Q0 (switch) Q1 (input): |0+i>|0+1>\n",
      "S:\\QRAM\\qram_4QR2\\data\\data_241025\\01051_QramProtocol3QTomo.h5\n",
      "S:\\QRAM\\qram_4QR2\\data\\data_241025\\01051_QramProtocol3QTomo.h5\n",
      "Extracted data and attrs ['calib_order', 'config', 'meas_order', 'pulse_dict']\n",
      "init state Q0 (switch) Q1 (input): |0+i>|0+i>\n",
      "S:\\QRAM\\qram_4QR2\\data\\data_241025\\01052_QramProtocol3QTomo.h5\n",
      "S:\\QRAM\\qram_4QR2\\data\\data_241025\\01052_QramProtocol3QTomo.h5\n",
      "Extracted data and attrs ['calib_order', 'config', 'meas_order', 'pulse_dict']\n",
      "init state Q0 (switch) Q1 (input): |0>|0>\n",
      "S:\\QRAM\\qram_4QR2\\data\\data_241025\\01053_QramProtocol3QTomo.h5\n",
      "S:\\QRAM\\qram_4QR2\\data\\data_241025\\01053_QramProtocol3QTomo.h5\n",
      "Extracted data and attrs ['calib_order', 'config', 'meas_order', 'pulse_dict']\n",
      "init state Q0 (switch) Q1 (input): |0>|1>\n",
      "S:\\QRAM\\qram_4QR2\\data\\data_241025\\01054_QramProtocol3QTomo.h5\n",
      "S:\\QRAM\\qram_4QR2\\data\\data_241025\\01054_QramProtocol3QTomo.h5\n",
      "Extracted data and attrs ['calib_order', 'config', 'meas_order', 'pulse_dict']\n",
      "init state Q0 (switch) Q1 (input): |0>|0+1>\n",
      "S:\\QRAM\\qram_4QR2\\data\\data_241025\\01055_QramProtocol3QTomo.h5\n",
      "S:\\QRAM\\qram_4QR2\\data\\data_241025\\01055_QramProtocol3QTomo.h5\n",
      "Extracted data and attrs ['calib_order', 'config', 'meas_order', 'pulse_dict']\n",
      "init state Q0 (switch) Q1 (input): |0>|0+i>\n",
      "S:\\QRAM\\qram_4QR2\\data\\data_241025\\01056_QramProtocol3QTomo.h5\n",
      "S:\\QRAM\\qram_4QR2\\data\\data_241025\\01056_QramProtocol3QTomo.h5\n",
      "Extracted data and attrs ['calib_order', 'config', 'meas_order', 'pulse_dict']\n",
      "init state Q0 (switch) Q1 (input): |1>|0>\n",
      "S:\\QRAM\\qram_4QR2\\data\\data_241025\\01057_QramProtocol3QTomo.h5\n",
      "S:\\QRAM\\qram_4QR2\\data\\data_241025\\01057_QramProtocol3QTomo.h5\n",
      "Extracted data and attrs ['calib_order', 'config', 'meas_order', 'pulse_dict']\n",
      "init state Q0 (switch) Q1 (input): |1>|1>\n",
      "S:\\QRAM\\qram_4QR2\\data\\data_241025\\01058_QramProtocol3QTomo.h5\n",
      "S:\\QRAM\\qram_4QR2\\data\\data_241025\\01058_QramProtocol3QTomo.h5\n",
      "Extracted data and attrs ['calib_order', 'config', 'meas_order', 'pulse_dict']\n",
      "init state Q0 (switch) Q1 (input): |1>|0+1>\n",
      "S:\\QRAM\\qram_4QR2\\data\\data_241025\\01059_QramProtocol3QTomo.h5\n",
      "S:\\QRAM\\qram_4QR2\\data\\data_241025\\01059_QramProtocol3QTomo.h5\n",
      "Extracted data and attrs ['calib_order', 'config', 'meas_order', 'pulse_dict']\n",
      "init state Q0 (switch) Q1 (input): |1>|0+i>\n",
      "S:\\QRAM\\qram_4QR2\\data\\data_241025\\01060_QramProtocol3QTomo.h5\n",
      "S:\\QRAM\\qram_4QR2\\data\\data_241025\\01060_QramProtocol3QTomo.h5\n",
      "Extracted data and attrs ['calib_order', 'config', 'meas_order', 'pulse_dict']\n",
      "init state Q0 (switch) Q1 (input): |0+1>|0>\n",
      "S:\\QRAM\\qram_4QR2\\data\\data_241025\\01061_QramProtocol3QTomo.h5\n",
      "S:\\QRAM\\qram_4QR2\\data\\data_241025\\01061_QramProtocol3QTomo.h5\n",
      "Extracted data and attrs ['calib_order', 'config', 'meas_order', 'pulse_dict']\n",
      "init state Q0 (switch) Q1 (input): |0+1>|1>\n",
      "S:\\QRAM\\qram_4QR2\\data\\data_241025\\01062_QramProtocol3QTomo.h5\n",
      "S:\\QRAM\\qram_4QR2\\data\\data_241025\\01062_QramProtocol3QTomo.h5\n",
      "Extracted data and attrs ['calib_order', 'config', 'meas_order', 'pulse_dict']\n",
      "init state Q0 (switch) Q1 (input): |0+1>|0+1>\n",
      "S:\\QRAM\\qram_4QR2\\data\\data_241025\\01063_QramProtocol3QTomo.h5\n",
      "S:\\QRAM\\qram_4QR2\\data\\data_241025\\01063_QramProtocol3QTomo.h5\n",
      "Extracted data and attrs ['calib_order', 'config', 'meas_order', 'pulse_dict']\n",
      "init state Q0 (switch) Q1 (input): |0+1>|0+i>\n",
      "S:\\QRAM\\qram_4QR2\\data\\data_241025\\01064_QramProtocol3QTomo.h5\n",
      "S:\\QRAM\\qram_4QR2\\data\\data_241025\\01064_QramProtocol3QTomo.h5\n",
      "Extracted data and attrs ['calib_order', 'config', 'meas_order', 'pulse_dict']\n",
      "init state Q0 (switch) Q1 (input): |0+i>|0>\n",
      "S:\\QRAM\\qram_4QR2\\data\\data_241025\\01065_QramProtocol3QTomo.h5\n",
      "S:\\QRAM\\qram_4QR2\\data\\data_241025\\01065_QramProtocol3QTomo.h5\n",
      "Extracted data and attrs ['calib_order', 'config', 'meas_order', 'pulse_dict']\n",
      "init state Q0 (switch) Q1 (input): |0+i>|1>\n",
      "S:\\QRAM\\qram_4QR2\\data\\data_241025\\01066_QramProtocol3QTomo.h5\n",
      "S:\\QRAM\\qram_4QR2\\data\\data_241025\\01066_QramProtocol3QTomo.h5\n",
      "Extracted data and attrs ['calib_order', 'config', 'meas_order', 'pulse_dict']\n",
      "init state Q0 (switch) Q1 (input): |0+i>|0+1>\n",
      "S:\\QRAM\\qram_4QR2\\data\\data_241025\\01067_QramProtocol3QTomo.h5\n",
      "S:\\QRAM\\qram_4QR2\\data\\data_241025\\01067_QramProtocol3QTomo.h5\n",
      "Extracted data and attrs ['calib_order', 'config', 'meas_order', 'pulse_dict']\n",
      "init state Q0 (switch) Q1 (input): |0+i>|0+i>\n",
      "S:\\QRAM\\qram_4QR2\\data\\data_241025\\01068_QramProtocol3QTomo.h5\n",
      "S:\\QRAM\\qram_4QR2\\data\\data_241025\\01068_QramProtocol3QTomo.h5\n",
      "Extracted data and attrs ['calib_order', 'config', 'meas_order', 'pulse_dict']\n",
      "init state Q0 (switch) Q1 (input): |0>|0>\n",
      "S:\\QRAM\\qram_4QR2\\data\\data_241025\\01069_QramProtocol3QTomo.h5\n",
      "S:\\QRAM\\qram_4QR2\\data\\data_241025\\01069_QramProtocol3QTomo.h5\n",
      "Extracted data and attrs ['calib_order', 'config', 'meas_order', 'pulse_dict']\n",
      "init state Q0 (switch) Q1 (input): |0>|1>\n",
      "S:\\QRAM\\qram_4QR2\\data\\data_241025\\01070_QramProtocol3QTomo.h5\n",
      "S:\\QRAM\\qram_4QR2\\data\\data_241025\\01070_QramProtocol3QTomo.h5\n",
      "Extracted data and attrs ['calib_order', 'config', 'meas_order', 'pulse_dict']\n",
      "init state Q0 (switch) Q1 (input): |0>|0+1>\n",
      "S:\\QRAM\\qram_4QR2\\data\\data_241025\\01071_QramProtocol3QTomo.h5\n",
      "S:\\QRAM\\qram_4QR2\\data\\data_241025\\01071_QramProtocol3QTomo.h5\n",
      "Extracted data and attrs ['calib_order', 'config', 'meas_order', 'pulse_dict']\n",
      "init state Q0 (switch) Q1 (input): |0>|0+i>\n",
      "S:\\QRAM\\qram_4QR2\\data\\data_241025\\01072_QramProtocol3QTomo.h5\n",
      "S:\\QRAM\\qram_4QR2\\data\\data_241025\\01072_QramProtocol3QTomo.h5\n",
      "Extracted data and attrs ['calib_order', 'config', 'meas_order', 'pulse_dict']\n",
      "init state Q0 (switch) Q1 (input): |1>|0>\n",
      "S:\\QRAM\\qram_4QR2\\data\\data_241025\\01073_QramProtocol3QTomo.h5\n",
      "S:\\QRAM\\qram_4QR2\\data\\data_241025\\01073_QramProtocol3QTomo.h5\n",
      "Extracted data and attrs ['calib_order', 'config', 'meas_order', 'pulse_dict']\n",
      "init state Q0 (switch) Q1 (input): |1>|1>\n",
      "S:\\QRAM\\qram_4QR2\\data\\data_241025\\01074_QramProtocol3QTomo.h5\n",
      "S:\\QRAM\\qram_4QR2\\data\\data_241025\\01074_QramProtocol3QTomo.h5\n",
      "Extracted data and attrs ['calib_order', 'config', 'meas_order', 'pulse_dict']\n",
      "init state Q0 (switch) Q1 (input): |1>|0+1>\n",
      "S:\\QRAM\\qram_4QR2\\data\\data_241025\\01075_QramProtocol3QTomo.h5\n",
      "S:\\QRAM\\qram_4QR2\\data\\data_241025\\01075_QramProtocol3QTomo.h5\n",
      "Extracted data and attrs ['calib_order', 'config', 'meas_order', 'pulse_dict']\n",
      "init state Q0 (switch) Q1 (input): |1>|0+i>\n",
      "S:\\QRAM\\qram_4QR2\\data\\data_241025\\01076_QramProtocol3QTomo.h5\n",
      "S:\\QRAM\\qram_4QR2\\data\\data_241025\\01076_QramProtocol3QTomo.h5\n",
      "Extracted data and attrs ['calib_order', 'config', 'meas_order', 'pulse_dict']\n",
      "init state Q0 (switch) Q1 (input): |0+1>|0>\n",
      "S:\\QRAM\\qram_4QR2\\data\\data_241025\\01077_QramProtocol3QTomo.h5\n",
      "S:\\QRAM\\qram_4QR2\\data\\data_241025\\01077_QramProtocol3QTomo.h5\n",
      "Extracted data and attrs ['calib_order', 'config', 'meas_order', 'pulse_dict']\n",
      "init state Q0 (switch) Q1 (input): |0+1>|1>\n",
      "S:\\QRAM\\qram_4QR2\\data\\data_241025\\01078_QramProtocol3QTomo.h5\n",
      "S:\\QRAM\\qram_4QR2\\data\\data_241025\\01078_QramProtocol3QTomo.h5\n",
      "Extracted data and attrs ['calib_order', 'config', 'meas_order', 'pulse_dict']\n",
      "init state Q0 (switch) Q1 (input): |0+1>|0+1>\n",
      "S:\\QRAM\\qram_4QR2\\data\\data_241025\\01079_QramProtocol3QTomo.h5\n",
      "S:\\QRAM\\qram_4QR2\\data\\data_241025\\01079_QramProtocol3QTomo.h5\n",
      "Extracted data and attrs ['calib_order', 'config', 'meas_order', 'pulse_dict']\n",
      "init state Q0 (switch) Q1 (input): |0+1>|0+i>\n",
      "S:\\QRAM\\qram_4QR2\\data\\data_241025\\01080_QramProtocol3QTomo.h5\n",
      "S:\\QRAM\\qram_4QR2\\data\\data_241025\\01080_QramProtocol3QTomo.h5\n",
      "Extracted data and attrs ['calib_order', 'config', 'meas_order', 'pulse_dict']\n",
      "init state Q0 (switch) Q1 (input): |0+i>|0>\n",
      "S:\\QRAM\\qram_4QR2\\data\\data_241025\\01081_QramProtocol3QTomo.h5\n",
      "S:\\QRAM\\qram_4QR2\\data\\data_241025\\01081_QramProtocol3QTomo.h5\n",
      "Extracted data and attrs ['calib_order', 'config', 'meas_order', 'pulse_dict']\n",
      "init state Q0 (switch) Q1 (input): |0+i>|1>\n",
      "S:\\QRAM\\qram_4QR2\\data\\data_241025\\01082_QramProtocol3QTomo.h5\n",
      "S:\\QRAM\\qram_4QR2\\data\\data_241025\\01082_QramProtocol3QTomo.h5\n",
      "Extracted data and attrs ['calib_order', 'config', 'meas_order', 'pulse_dict']\n",
      "init state Q0 (switch) Q1 (input): |0+i>|0+1>\n",
      "S:\\QRAM\\qram_4QR2\\data\\data_241025\\01083_QramProtocol3QTomo.h5\n",
      "S:\\QRAM\\qram_4QR2\\data\\data_241025\\01083_QramProtocol3QTomo.h5\n",
      "Extracted data and attrs ['calib_order', 'config', 'meas_order', 'pulse_dict']\n",
      "init state Q0 (switch) Q1 (input): |0+i>|0+i>\n",
      "S:\\QRAM\\qram_4QR2\\data\\data_241025\\01084_QramProtocol3QTomo.h5\n",
      "S:\\QRAM\\qram_4QR2\\data\\data_241025\\01084_QramProtocol3QTomo.h5\n",
      "Extracted data and attrs ['calib_order', 'config', 'meas_order', 'pulse_dict']\n",
      "init state Q0 (switch) Q1 (input): |0>|0>\n",
      "S:\\QRAM\\qram_4QR2\\data\\data_241025\\01085_QramProtocol3QTomo.h5\n",
      "S:\\QRAM\\qram_4QR2\\data\\data_241025\\01085_QramProtocol3QTomo.h5\n",
      "Extracted data and attrs ['calib_order', 'config', 'meas_order', 'pulse_dict']\n",
      "init state Q0 (switch) Q1 (input): |0>|1>\n",
      "S:\\QRAM\\qram_4QR2\\data\\data_241025\\01086_QramProtocol3QTomo.h5\n",
      "S:\\QRAM\\qram_4QR2\\data\\data_241025\\01086_QramProtocol3QTomo.h5\n",
      "Extracted data and attrs ['calib_order', 'config', 'meas_order', 'pulse_dict']\n",
      "init state Q0 (switch) Q1 (input): |0>|0+1>\n",
      "S:\\QRAM\\qram_4QR2\\data\\data_241025\\01087_QramProtocol3QTomo.h5\n",
      "S:\\QRAM\\qram_4QR2\\data\\data_241025\\01087_QramProtocol3QTomo.h5\n",
      "Extracted data and attrs ['calib_order', 'config', 'meas_order', 'pulse_dict']\n",
      "init state Q0 (switch) Q1 (input): |0>|0+i>\n",
      "S:\\QRAM\\qram_4QR2\\data\\data_241025\\01088_QramProtocol3QTomo.h5\n",
      "S:\\QRAM\\qram_4QR2\\data\\data_241025\\01088_QramProtocol3QTomo.h5\n",
      "Extracted data and attrs ['calib_order', 'config', 'meas_order', 'pulse_dict']\n",
      "init state Q0 (switch) Q1 (input): |1>|0>\n",
      "S:\\QRAM\\qram_4QR2\\data\\data_241025\\01089_QramProtocol3QTomo.h5\n",
      "S:\\QRAM\\qram_4QR2\\data\\data_241025\\01089_QramProtocol3QTomo.h5\n",
      "Extracted data and attrs ['calib_order', 'config', 'meas_order', 'pulse_dict']\n",
      "init state Q0 (switch) Q1 (input): |1>|1>\n",
      "S:\\QRAM\\qram_4QR2\\data\\data_241025\\01090_QramProtocol3QTomo.h5\n",
      "S:\\QRAM\\qram_4QR2\\data\\data_241025\\01090_QramProtocol3QTomo.h5\n",
      "Extracted data and attrs ['calib_order', 'config', 'meas_order', 'pulse_dict']\n",
      "init state Q0 (switch) Q1 (input): |1>|0+1>\n",
      "S:\\QRAM\\qram_4QR2\\data\\data_241025\\01091_QramProtocol3QTomo.h5\n",
      "S:\\QRAM\\qram_4QR2\\data\\data_241025\\01091_QramProtocol3QTomo.h5\n",
      "Extracted data and attrs ['calib_order', 'config', 'meas_order', 'pulse_dict']\n",
      "init state Q0 (switch) Q1 (input): |1>|0+i>\n",
      "S:\\QRAM\\qram_4QR2\\data\\data_241025\\01092_QramProtocol3QTomo.h5\n",
      "S:\\QRAM\\qram_4QR2\\data\\data_241025\\01092_QramProtocol3QTomo.h5\n",
      "Extracted data and attrs ['calib_order', 'config', 'meas_order', 'pulse_dict']\n",
      "init state Q0 (switch) Q1 (input): |0+1>|0>\n",
      "S:\\QRAM\\qram_4QR2\\data\\data_241025\\01093_QramProtocol3QTomo.h5\n",
      "S:\\QRAM\\qram_4QR2\\data\\data_241025\\01093_QramProtocol3QTomo.h5\n",
      "Extracted data and attrs ['calib_order', 'config', 'meas_order', 'pulse_dict']\n",
      "init state Q0 (switch) Q1 (input): |0+1>|1>\n",
      "S:\\QRAM\\qram_4QR2\\data\\data_241025\\01094_QramProtocol3QTomo.h5\n",
      "S:\\QRAM\\qram_4QR2\\data\\data_241025\\01094_QramProtocol3QTomo.h5\n",
      "Extracted data and attrs ['calib_order', 'config', 'meas_order', 'pulse_dict']\n",
      "init state Q0 (switch) Q1 (input): |0+1>|0+1>\n",
      "S:\\QRAM\\qram_4QR2\\data\\data_241025\\01095_QramProtocol3QTomo.h5\n",
      "S:\\QRAM\\qram_4QR2\\data\\data_241025\\01095_QramProtocol3QTomo.h5\n",
      "Extracted data and attrs ['calib_order', 'config', 'meas_order', 'pulse_dict']\n",
      "init state Q0 (switch) Q1 (input): |0+1>|0+i>\n",
      "S:\\QRAM\\qram_4QR2\\data\\data_241025\\01096_QramProtocol3QTomo.h5\n",
      "S:\\QRAM\\qram_4QR2\\data\\data_241025\\01096_QramProtocol3QTomo.h5\n",
      "Extracted data and attrs ['calib_order', 'config', 'meas_order', 'pulse_dict']\n",
      "init state Q0 (switch) Q1 (input): |0+i>|0>\n",
      "S:\\QRAM\\qram_4QR2\\data\\data_241025\\01097_QramProtocol3QTomo.h5\n",
      "S:\\QRAM\\qram_4QR2\\data\\data_241025\\01097_QramProtocol3QTomo.h5\n",
      "Extracted data and attrs ['calib_order', 'config', 'meas_order', 'pulse_dict']\n",
      "init state Q0 (switch) Q1 (input): |0+i>|1>\n",
      "S:\\QRAM\\qram_4QR2\\data\\data_241025\\01098_QramProtocol3QTomo.h5\n",
      "S:\\QRAM\\qram_4QR2\\data\\data_241025\\01098_QramProtocol3QTomo.h5\n",
      "Extracted data and attrs ['calib_order', 'config', 'meas_order', 'pulse_dict']\n",
      "init state Q0 (switch) Q1 (input): |0+i>|0+1>\n",
      "S:\\QRAM\\qram_4QR2\\data\\data_241025\\01099_QramProtocol3QTomo.h5\n",
      "S:\\QRAM\\qram_4QR2\\data\\data_241025\\01099_QramProtocol3QTomo.h5\n",
      "Extracted data and attrs ['calib_order', 'config', 'meas_order', 'pulse_dict']\n",
      "init state Q0 (switch) Q1 (input): |0+i>|0+i>\n"
     ]
    }
   ],
   "source": [
    "n_tomo_corrected_dict = dict()\n",
    "all_configs = dict()\n",
    "for i_saved_file, saved_file in enumerate(tqdm(saved_files)):\n",
    "    print(saved_file)\n",
    "    data, attrs = prev_data(saved_file, None)\n",
    "    pulse_dict = attrs['pulse_dict']\n",
    "    cfg = AttrDict(attrs['config'])\n",
    "    init_state = cfg.expt.init_state\n",
    "    all_configs[init_state] = cfg\n",
    "    play_pulses = cfg.expt.play_pulses\n",
    "    print('init state Q0 (switch) Q1 (input):', init_state)\n",
    "    \n",
    "    n_tomo_raw, n_calib = tomo_analysis.n_tomo_calib_from_data(data, cfg, ps_adjust=ps_adjust, ps_qubits=ps_qubits, apply_ps=apply_ps, verbose=False)\n",
    "    n_tomo_corrected = tomo_analysis.correct_readout_err(n_tomo_raw, n_calib)\n",
    "    \n",
    "    if init_state not in n_tomo_corrected_dict.keys():\n",
    "        n_tomo_corrected_dict.update({init_state:[]})\n",
    "    \n",
    "    n_tomo_corrected_dict[init_state].append(n_tomo_corrected)\n",
    "\n",
    "init_states = np.copy(list(n_tomo_corrected_dict.keys()))\n",
    "for init_state in init_states:\n",
    "    all_n_tomo_corrected = np.array(n_tomo_corrected_dict[init_state])\n",
    "    n_tomo_corrected_dict[init_state] = np.average(all_n_tomo_corrected, axis=0)"
   ]
  },
  {
   "cell_type": "code",
   "execution_count": 22,
   "metadata": {},
   "outputs": [
    {
     "name": "stdout",
     "output_type": "stream",
     "text": [
      "Saved n_tomo_corrected_dict for Q0 Q2 Q3 to file S:\\QRAM\\qram_4QR2\\data\\data_241025\\202412131029_ntomocorrected_3Q_023.npz\n"
     ]
    }
   ],
   "source": [
    "# SAVING MEASURED n_tomo_corrected\n",
    "n_tomo_corrected_dict.update({\"saved_files\":saved_files})\n",
    "n_tomo_corrected_dict.update({\"init_states\":list(init_states)})\n",
    "n_tomo_corrected_dict.update({\"all_configs\":all_configs})\n",
    "\n",
    "from datetime import datetime\n",
    "timestamp = datetime.now().strftime(\"%Y%m%d%H%M\")\n",
    "qA, qB, qC = tomo_qubits\n",
    "n_tomo_corrected_filepath = os.path.join(expt_path, f'{timestamp}_ntomocorrected_3Q_{qA}{qB}{qC}.npz')\n",
    "np.savez(n_tomo_corrected_filepath, **n_tomo_corrected_dict, allow_pickle=True)\n",
    "print(f'Saved n_tomo_corrected_dict for Q{qA} Q{qB} Q{qC} to file {n_tomo_corrected_filepath}')"
   ]
  },
  {
   "cell_type": "markdown",
   "metadata": {},
   "source": [
    "### Loop analysis"
   ]
  },
  {
   "cell_type": "code",
   "execution_count": 22,
   "metadata": {},
   "outputs": [],
   "source": [
    "# saved_files = ['S:\\\\QRAM\\\\qram_4QR2\\\\data\\\\data_241025\\\\00191_QramProtocol3QTomo.h5', 'S:\\\\QRAM\\\\qram_4QR2\\\\data\\\\data_241025\\\\00192_QramProtocol3QTomo.h5', 'S:\\\\QRAM\\\\qram_4QR2\\\\data\\\\data_241025\\\\00193_QramProtocol3QTomo.h5', 'S:\\\\QRAM\\\\qram_4QR2\\\\data\\\\data_241025\\\\00194_QramProtocol3QTomo.h5', 'S:\\\\QRAM\\\\qram_4QR2\\\\data\\\\data_241025\\\\00195_QramProtocol3QTomo.h5', 'S:\\\\QRAM\\\\qram_4QR2\\\\data\\\\data_241025\\\\00196_QramProtocol3QTomo.h5', 'S:\\\\QRAM\\\\qram_4QR2\\\\data\\\\data_241025\\\\00197_QramProtocol3QTomo.h5', 'S:\\\\QRAM\\\\qram_4QR2\\\\data\\\\data_241025\\\\00198_QramProtocol3QTomo.h5', 'S:\\\\QRAM\\\\qram_4QR2\\\\data\\\\data_241025\\\\00199_QramProtocol3QTomo.h5', 'S:\\\\QRAM\\\\qram_4QR2\\\\data\\\\data_241025\\\\00200_QramProtocol3QTomo.h5', 'S:\\\\QRAM\\\\qram_4QR2\\\\data\\\\data_241025\\\\00201_QramProtocol3QTomo.h5', 'S:\\\\QRAM\\\\qram_4QR2\\\\data\\\\data_241025\\\\00202_QramProtocol3QTomo.h5', 'S:\\\\QRAM\\\\qram_4QR2\\\\data\\\\data_241025\\\\00203_QramProtocol3QTomo.h5', 'S:\\\\QRAM\\\\qram_4QR2\\\\data\\\\data_241025\\\\00204_QramProtocol3QTomo.h5', 'S:\\\\QRAM\\\\qram_4QR2\\\\data\\\\data_241025\\\\00205_QramProtocol3QTomo.h5', 'S:\\\\QRAM\\\\qram_4QR2\\\\data\\\\data_241025\\\\00206_QramProtocol3QTomo.h5', 'S:\\\\QRAM\\\\qram_4QR2\\\\data\\\\data_241025\\\\00207_QramProtocol3QTomo.h5', 'S:\\\\QRAM\\\\qram_4QR2\\\\data\\\\data_241025\\\\00208_QramProtocol3QTomo.h5', 'S:\\\\QRAM\\\\qram_4QR2\\\\data\\\\data_241025\\\\00209_QramProtocol3QTomo.h5', 'S:\\\\QRAM\\\\qram_4QR2\\\\data\\\\data_241025\\\\00210_QramProtocol3QTomo.h5', 'S:\\\\QRAM\\\\qram_4QR2\\\\data\\\\data_241025\\\\00211_QramProtocol3QTomo.h5', 'S:\\\\QRAM\\\\qram_4QR2\\\\data\\\\data_241025\\\\00212_QramProtocol3QTomo.h5', 'S:\\\\QRAM\\\\qram_4QR2\\\\data\\\\data_241025\\\\00213_QramProtocol3QTomo.h5', 'S:\\\\QRAM\\\\qram_4QR2\\\\data\\\\data_241025\\\\00214_QramProtocol3QTomo.h5', 'S:\\\\QRAM\\\\qram_4QR2\\\\data\\\\data_241025\\\\00215_QramProtocol3QTomo.h5', 'S:\\\\QRAM\\\\qram_4QR2\\\\data\\\\data_241025\\\\00216_QramProtocol3QTomo.h5', 'S:\\\\QRAM\\\\qram_4QR2\\\\data\\\\data_241025\\\\00217_QramProtocol3QTomo.h5', 'S:\\\\QRAM\\\\qram_4QR2\\\\data\\\\data_241025\\\\00218_QramProtocol3QTomo.h5', 'S:\\\\QRAM\\\\qram_4QR2\\\\data\\\\data_241025\\\\00219_QramProtocol3QTomo.h5', 'S:\\\\QRAM\\\\qram_4QR2\\\\data\\\\data_241025\\\\00220_QramProtocol3QTomo.h5', 'S:\\\\QRAM\\\\qram_4QR2\\\\data\\\\data_241025\\\\00221_QramProtocol3QTomo.h5', 'S:\\\\QRAM\\\\qram_4QR2\\\\data\\\\data_241025\\\\00222_QramProtocol3QTomo.h5', 'S:\\\\QRAM\\\\qram_4QR2\\\\data\\\\data_241025\\\\00223_QramProtocol3QTomo.h5', 'S:\\\\QRAM\\\\qram_4QR2\\\\data\\\\data_241025\\\\00224_QramProtocol3QTomo.h5', 'S:\\\\QRAM\\\\qram_4QR2\\\\data\\\\data_241025\\\\00225_QramProtocol3QTomo.h5', 'S:\\\\QRAM\\\\qram_4QR2\\\\data\\\\data_241025\\\\00226_QramProtocol3QTomo.h5', 'S:\\\\QRAM\\\\qram_4QR2\\\\data\\\\data_241025\\\\00227_QramProtocol3QTomo.h5', 'S:\\\\QRAM\\\\qram_4QR2\\\\data\\\\data_241025\\\\00228_QramProtocol3QTomo.h5', 'S:\\\\QRAM\\\\qram_4QR2\\\\data\\\\data_241025\\\\00229_QramProtocol3QTomo.h5', 'S:\\\\QRAM\\\\qram_4QR2\\\\data\\\\data_241025\\\\00230_QramProtocol3QTomo.h5', 'S:\\\\QRAM\\\\qram_4QR2\\\\data\\\\data_241025\\\\00231_QramProtocol3QTomo.h5', 'S:\\\\QRAM\\\\qram_4QR2\\\\data\\\\data_241025\\\\00232_QramProtocol3QTomo.h5', 'S:\\\\QRAM\\\\qram_4QR2\\\\data\\\\data_241025\\\\00233_QramProtocol3QTomo.h5', 'S:\\\\QRAM\\\\qram_4QR2\\\\data\\\\data_241025\\\\00234_QramProtocol3QTomo.h5', 'S:\\\\QRAM\\\\qram_4QR2\\\\data\\\\data_241025\\\\00235_QramProtocol3QTomo.h5', 'S:\\\\QRAM\\\\qram_4QR2\\\\data\\\\data_241025\\\\00236_QramProtocol3QTomo.h5', 'S:\\\\QRAM\\\\qram_4QR2\\\\data\\\\data_241025\\\\00237_QramProtocol3QTomo.h5', 'S:\\\\QRAM\\\\qram_4QR2\\\\data\\\\data_241025\\\\00238_QramProtocol3QTomo.h5', 'S:\\\\QRAM\\\\qram_4QR2\\\\data\\\\data_241025\\\\00239_QramProtocol3QTomo.h5', 'S:\\\\QRAM\\\\qram_4QR2\\\\data\\\\data_241025\\\\00240_QramProtocol3QTomo.h5', 'S:\\\\QRAM\\\\qram_4QR2\\\\data\\\\data_241025\\\\00241_QramProtocol3QTomo.h5', 'S:\\\\QRAM\\\\qram_4QR2\\\\data\\\\data_241025\\\\00242_QramProtocol3QTomo.h5', 'S:\\\\QRAM\\\\qram_4QR2\\\\data\\\\data_241025\\\\00243_QramProtocol3QTomo.h5', 'S:\\\\QRAM\\\\qram_4QR2\\\\data\\\\data_241025\\\\00244_QramProtocol3QTomo.h5', 'S:\\\\QRAM\\\\qram_4QR2\\\\data\\\\data_241025\\\\00245_QramProtocol3QTomo.h5', 'S:\\\\QRAM\\\\qram_4QR2\\\\data\\\\data_241025\\\\00246_QramProtocol3QTomo.h5', 'S:\\\\QRAM\\\\qram_4QR2\\\\data\\\\data_241025\\\\00247_QramProtocol3QTomo.h5', 'S:\\\\QRAM\\\\qram_4QR2\\\\data\\\\data_241025\\\\00248_QramProtocol3QTomo.h5', 'S:\\\\QRAM\\\\qram_4QR2\\\\data\\\\data_241025\\\\00249_QramProtocol3QTomo.h5', 'S:\\\\QRAM\\\\qram_4QR2\\\\data\\\\data_241025\\\\00250_QramProtocol3QTomo.h5', 'S:\\\\QRAM\\\\qram_4QR2\\\\data\\\\data_241025\\\\00251_QramProtocol3QTomo.h5', 'S:\\\\QRAM\\\\qram_4QR2\\\\data\\\\data_241025\\\\00252_QramProtocol3QTomo.h5', 'S:\\\\QRAM\\\\qram_4QR2\\\\data\\\\data_241025\\\\00253_QramProtocol3QTomo.h5', 'S:\\\\QRAM\\\\qram_4QR2\\\\data\\\\data_241025\\\\00254_QramProtocol3QTomo.h5', 'S:\\\\QRAM\\\\qram_4QR2\\\\data\\\\data_241025\\\\00255_QramProtocol3QTomo.h5', 'S:\\\\QRAM\\\\qram_4QR2\\\\data\\\\data_241025\\\\00256_QramProtocol3QTomo.h5', 'S:\\\\QRAM\\\\qram_4QR2\\\\data\\\\data_241025\\\\00257_QramProtocol3QTomo.h5', 'S:\\\\QRAM\\\\qram_4QR2\\\\data\\\\data_241025\\\\00258_QramProtocol3QTomo.h5', 'S:\\\\QRAM\\\\qram_4QR2\\\\data\\\\data_241025\\\\00259_QramProtocol3QTomo.h5', 'S:\\\\QRAM\\\\qram_4QR2\\\\data\\\\data_241025\\\\00260_QramProtocol3QTomo.h5', 'S:\\\\QRAM\\\\qram_4QR2\\\\data\\\\data_241025\\\\00261_QramProtocol3QTomo.h5', 'S:\\\\QRAM\\\\qram_4QR2\\\\data\\\\data_241025\\\\00262_QramProtocol3QTomo.h5', 'S:\\\\QRAM\\\\qram_4QR2\\\\data\\\\data_241025\\\\00263_QramProtocol3QTomo.h5', 'S:\\\\QRAM\\\\qram_4QR2\\\\data\\\\data_241025\\\\00264_QramProtocol3QTomo.h5', 'S:\\\\QRAM\\\\qram_4QR2\\\\data\\\\data_241025\\\\00265_QramProtocol3QTomo.h5', 'S:\\\\QRAM\\\\qram_4QR2\\\\data\\\\data_241025\\\\00266_QramProtocol3QTomo.h5', 'S:\\\\QRAM\\\\qram_4QR2\\\\data\\\\data_241025\\\\00267_QramProtocol3QTomo.h5', 'S:\\\\QRAM\\\\qram_4QR2\\\\data\\\\data_241025\\\\00268_QramProtocol3QTomo.h5', 'S:\\\\QRAM\\\\qram_4QR2\\\\data\\\\data_241025\\\\00269_QramProtocol3QTomo.h5', 'S:\\\\QRAM\\\\qram_4QR2\\\\data\\\\data_241025\\\\00270_QramProtocol3QTomo.h5']"
   ]
  },
  {
   "cell_type": "code",
   "execution_count": 25,
   "metadata": {},
   "outputs": [
    {
     "name": "stdout",
     "output_type": "stream",
     "text": [
      "Using rho_MLE_ZZ for Q0/Q1 from file S:\\QRAM\\qram_4QR2\\data\\data_250119\\202502111059_init_rhoMLE_ZZ_2Q_01.npz\n",
      "rho_MLE_ZZ_dict retrieved with init_states dict_keys(['|0>|0>', '|0>|1>', '|0>|0+1>', '|0>|0+i>', '|1>|0>', '|1>|1>', '|1>|0+1>', '|1>|0+i>', '|0+1>|0>', '|0+1>|1>', '|0+1>|0+1>', '|0+1>|0+i>', '|0+i>|0>', '|0+i>|1>', '|0+i>|0+1>', '|0+i>|0+i>'])\n"
     ]
    }
   ],
   "source": [
    "# RETRIEVE SAVED 2Q TOMO INITIAL STATES FROM MEASUREMENT\n",
    "# rho_MLE_ZZ_2Q_filepath = 'S:\\QRAM\\qram_4QR2\\data\\data_241025\\\\202411051014_init_rhoMLE_ZZ_2Q_01.npz'\n",
    "rho_MLE_ZZ_2Q_filepath = 'S:\\QRAM\\qram_4QR2\\data\\data_250119\\\\202502111059_init_rhoMLE_ZZ_2Q_01.npz'\n",
    "\n",
    "print(f'Using rho_MLE_ZZ for Q0/Q1 from file {rho_MLE_ZZ_2Q_filepath}')\n",
    "\n",
    "rho_MLE_ZZ_dict = dict()\n",
    "with np.load(rho_MLE_ZZ_2Q_filepath) as npzfile:\n",
    "    for key in npzfile.keys():\n",
    "        rho_MLE_ZZ_dict.update({key:npzfile[key]})\n",
    "print(f'rho_MLE_ZZ_dict retrieved with init_states {rho_MLE_ZZ_dict.keys()}')"
   ]
  },
  {
   "cell_type": "code",
   "execution_count": 25,
   "metadata": {},
   "outputs": [],
   "source": [
    "apply_ps = False\n",
    "ps_adjust = [-0.3, -1.0, -0.3, -0.3]\n",
    "# ps_adjust = [np.inf]*4\n",
    "ps_qubits = [0, 1, 2, 3]"
   ]
  },
  {
   "cell_type": "markdown",
   "metadata": {},
   "source": [
    "Reopening 3q tomo data"
   ]
  },
  {
   "cell_type": "code",
   "execution_count": 124,
   "metadata": {},
   "outputs": [
    {
     "name": "stdout",
     "output_type": "stream",
     "text": [
      "Using n_tomo_corrected_dict from file S:\\QRAM\\qram_4QR2\\data\\data_241025\\202412090054_ntomocorrected_3Q_023.npz\n",
      "n_tomo_corrected_dict retrieved with init_states\n",
      "['|0>|0>' '|0>|1>' '|0>|0+1>' '|0>|0+i>' '|1>|0>' '|1>|1>' '|1>|0+1>'\n",
      " '|1>|0+i>' '|0+1>|0>' '|0+1>|1>' '|0+1>|0+1>' '|0+1>|0+i>' '|0+i>|0>'\n",
      " '|0+i>|1>' '|0+i>|0+1>' '|0+i>|0+i>']\n",
      "play_pulses [2, 1, 1, 2, 2, 1, 1, 2, 2, 1, 4, 3]\n"
     ]
    }
   ],
   "source": [
    "# RETRIEVING MEASURED n_tomo_corrected\n",
    "n_tomo_corrected_filepath = \"S:\\QRAM\\qram_4QR2\\data\\data_241025\\\\202412090054_ntomocorrected_3Q_023.npz\"\n",
    "# n_tomo_corrected_filepath = \"S:\\QRAM\\qram_4QR2\\data\\data_241025\\\\202412082023_ntomocorrected_3Q_023.npz\"\n",
    "# n_tomo_corrected_filepath = \"S:\\QRAM\\qram_4QR2\\data\\data_241025\\\\202412090054_ntomocorrected_3Q_023.npz\"\n",
    "print(f\"Using n_tomo_corrected_dict from file {n_tomo_corrected_filepath}\")\n",
    "n_tomo_corrected_dict = dict()\n",
    "\n",
    "with np.load(n_tomo_corrected_filepath, allow_pickle=True) as npzfile:\n",
    "    for key in npzfile.keys():\n",
    "        n_tomo_corrected_dict.update({key:npzfile[key]})\n",
    "\n",
    "init_states = n_tomo_corrected_dict[\"init_states\"]\n",
    "\n",
    "if 'saved_files' in init_states: init_states = init_states[:-1]\n",
    "\n",
    "print(f'n_tomo_corrected_dict retrieved with init_states\\n{init_states}')\n",
    "all_configs = n_tomo_corrected_dict[\"all_configs\"].item() #[0]\n",
    "# print(all_configs.keys())\n",
    "\n",
    "\n",
    "cfg = AttrDict(all_configs[init_states[0]])\n",
    "play_pulses = cfg.expt.play_pulses\n",
    "tomo_qubits = cfg.expt.tomo_qubits\n",
    "\n",
    "print(\"play_pulses\", play_pulses)"
   ]
  },
  {
   "cell_type": "markdown",
   "metadata": {},
   "source": [
    "Looping MLE"
   ]
  },
  {
   "cell_type": "code",
   "execution_count": 53,
   "metadata": {},
   "outputs": [],
   "source": [
    "use_init_2q_state = True"
   ]
  },
  {
   "cell_type": "code",
   "execution_count": 54,
   "metadata": {},
   "outputs": [],
   "source": [
    "rhos_base = []\n",
    "fidelities_base = []\n",
    "purities_base = []\n",
    "\n",
    "rhos_ZZ = []\n",
    "fidelities_ZZ = []\n",
    "purities_ZZ = []"
   ]
  },
  {
   "cell_type": "code",
   "execution_count": 55,
   "metadata": {
    "tags": []
   },
   "outputs": [
    {
     "name": "stdout",
     "output_type": "stream",
     "text": [
      "init state (Q0 (switch) Q1 (input)): |0+1>|1>\n"
     ]
    },
    {
     "name": "stderr",
     "output_type": "stream",
     "text": [
      "ComplexWarning: Casting complex values to real discards the imaginary part\n",
      " s:\\Connie\\experiments\\qram_tprocv1_expts\\TomoAnalysis.py: 1178ComplexWarning: Casting complex values to real discards the imaginary part\n",
      " s:\\Connie\\experiments\\qram_tprocv1_expts\\TomoAnalysis.py: 1183"
     ]
    },
    {
     "name": "stdout",
     "output_type": "stream",
     "text": [
      "init state (Q0 (switch) Q1 (input)): |1>|1>\n",
      "init state (Q0 (switch) Q1 (input)): |0>|1>\n",
      "init state (Q0 (switch) Q1 (input)): |0+1>|0+1>\n"
     ]
    }
   ],
   "source": [
    "for init_state in init_states:\n",
    "    print('init state (Q0 (switch) Q1 (input)):', init_state)\n",
    "    n_tomo_corrected = n_tomo_corrected_dict[init_state]\n",
    "    \n",
    "    if use_init_2q_state: init_rho = rho_MLE_ZZ_dict[init_state]\n",
    "    else: init_rho = qt.ket2dm(name_to_state_2q(init_state)).full()\n",
    "    rho_id = get_qram_qSLR_state_from_rho(init_rho)\n",
    "    \n",
    "    # ------------------------------ #\n",
    "    # Base MLE\n",
    "    # ------------------------------ #\n",
    "    \n",
    "    rho_MLE_base = tomo_analysis.get_rho_from_counts(\n",
    "        n_tomo_raw=n_tomo_corrected,\n",
    "        n_calib=None,\n",
    "        correct_readout=False,\n",
    "        correct_neg_counts=True,\n",
    "        method='analytical',\n",
    "        ZZ_correction=False,\n",
    "    )\n",
    " \n",
    "    fid_base = qt.fidelity(qt.Qobj(rho_MLE_base, dims=rho_id.dims), rho_id)**2 # qutip uses N&C fidelity which is \"sqrt fidelity\"\n",
    "    purity_base = np.real(np.trace(rho_MLE_base @ rho_MLE_base))\n",
    "    purity_id = np.real(np.trace(rho_id.full() @ rho_id.full()))\n",
    "    # print(f'Fidelity (base): {fid_base}')\n",
    "    # print(f'Purity (base): {purity_base}')\n",
    "    # print(f'Target purity: {purity_id}')\n",
    "    \n",
    "    # if saveplots: savetitle = saved_file[:-3]+f'_base{save_append}.svg'\n",
    "    # else: savetitle = None\n",
    "    # show_plot_rho_2d(rho_MLE_base, rho_id, title=f'Base MLE (Q{tomo_qubits[0]}, Q{tomo_qubits[1]}, Q{tomo_qubits[2]}), Init {init_state}, Play {play_pulses}', savetitle=savetitle, cmax=0.5)\n",
    "    \n",
    "    rhos_base.append(rho_MLE_base)\n",
    "    fidelities_base.append(fid_base)\n",
    "    purities_base.append(purity_base)\n",
    "    \n",
    "    rho_MLE = rho_MLE_base\n",
    "\n",
    "    # ------------------------------ #\n",
    "    # MLE with ZZ\n",
    "    # ------------------------------ #\n",
    "\n",
    "    rho_MLE_ZZ = tomo_analysis.get_rho_from_counts(\n",
    "        n_tomo_raw=n_tomo_corrected,\n",
    "        n_calib=None,\n",
    "        correct_readout=False,\n",
    "        correct_neg_counts=True,\n",
    "        method='analytical',\n",
    "        ZZ_correction=True,\n",
    "        evol_mats=evol_mats\n",
    "    )\n",
    "\n",
    "    fid_ZZ = qt.fidelity(qt.Qobj(rho_MLE_ZZ, dims=rho_id.dims), rho_id)**2 # qutip uses N&C fidelity which is \"sqrt fidelity\"\n",
    "    purity_ZZ = np.real(np.trace(rho_MLE_ZZ @ rho_MLE_ZZ))\n",
    "    purity_id = np.real(np.trace(rho_id.full() @ rho_id.full()))\n",
    "    # print(f'Fidelity (with ZZ correction): {fid_ZZ}')\n",
    "    # print(f'Purity (with ZZ correction): {purity_ZZ}')\n",
    "    # print(f'Target purity: {purity_id}')\n",
    "\n",
    "    # if saveplots: savetitle = saved_file[:-3]+f'_ZZcorrect{save_append}.svg'\n",
    "    # else: savetitle = None\n",
    "    # show_plot_rho_2d(rho_MLE_ZZ, rho_id, title=f'MLE with ZZ Correction (Q{tomo_qubits[0]}, Q{tomo_qubits[1]}, Q{tomo_qubits[2]}), Init {init_state}, Play {play_pulses}', savetitle=savetitle, cmax=0.5)\n",
    "\n",
    "    rhos_ZZ.append(rho_MLE_ZZ)\n",
    "    fidelities_ZZ.append(fid_ZZ)\n",
    "    purities_ZZ.append(purity_ZZ)"
   ]
  },
  {
   "cell_type": "code",
   "execution_count": 56,
   "metadata": {},
   "outputs": [
    {
     "name": "stdout",
     "output_type": "stream",
     "text": [
      "init_states= ['|0+1>|1>' '|1>|1>' '|0>|1>' '|0+1>|0+1>']\n",
      "4\n"
     ]
    }
   ],
   "source": [
    "print('init_states=', init_states)\n",
    "print(len(init_states))"
   ]
  },
  {
   "cell_type": "markdown",
   "metadata": {},
   "source": [
    "Run loop over virtual Z rotations"
   ]
  },
  {
   "cell_type": "code",
   "execution_count": 57,
   "metadata": {},
   "outputs": [],
   "source": [
    "fids_grids_base_vs_meas = []\n",
    "fids_grids_ZZ_vs_meas = []\n",
    "fids_grids_base_vs_ideal = []\n",
    "fids_grids_ZZ_vs_ideal = []"
   ]
  },
  {
   "cell_type": "code",
   "execution_count": 58,
   "metadata": {},
   "outputs": [],
   "source": [
    "show_fids_grid = False"
   ]
  },
  {
   "cell_type": "code",
   "execution_count": 59,
   "metadata": {},
   "outputs": [],
   "source": [
    "saveplots = False\n",
    "# save_append = '_compareMeas'\n",
    "save_append = ''\n",
    "\n",
    "phis = [None, None, None]"
   ]
  },
  {
   "cell_type": "code",
   "execution_count": 60,
   "metadata": {},
   "outputs": [],
   "source": [
    "phis[0] = np.linspace(0, 360, 20) # Q0\n",
    "phis[1] = np.linspace(0, 360, 20) # Q2\n",
    "phis[2] = np.linspace(0, 360, 20) # Q3"
   ]
  },
  {
   "cell_type": "code",
   "execution_count": 81,
   "metadata": {
    "tags": []
   },
   "outputs": [
    {
     "name": "stdout",
     "output_type": "stream",
     "text": [
      "STARTING use_init_2q_state: False, use_ZZ_correction: False\n"
     ]
    },
    {
     "name": "stderr",
     "output_type": "stream",
     "text": [
      "TqdmDeprecationWarning: This function will be removed in tqdm==5.0.0\n",
      "Please use `tqdm.notebook.tqdm` instead of `tqdm.tqdm_notebook`\n",
      " C:\\Users\\slab\\AppData\\Local\\Temp\\ipykernel_16456\\773695903.py: 9"
     ]
    },
    {
     "data": {
      "application/vnd.jupyter.widget-view+json": {
       "model_id": "b00107eb4f13441fa2f96cee4a30ab89",
       "version_major": 2,
       "version_minor": 0
      },
      "text/plain": [
       "  0%|          | 0/4 [00:00<?, ?it/s]"
      ]
     },
     "metadata": {},
     "output_type": "display_data"
    },
    {
     "name": "stdout",
     "output_type": "stream",
     "text": [
      "[[ 2.34710677e-02+5.09586290e-18j  8.08754057e-04+4.43733988e-04j\n",
      "  -6.78312688e-03+1.53644319e-02j -5.24133829e-03-2.17045939e-03j\n",
      "  -1.15631307e-02+5.30139087e-03j  3.44773199e-03-1.98659882e-03j\n",
      "   6.33171846e-04+1.08813811e-03j -4.84361995e-03-9.04216305e-03j]\n",
      " [ 8.08754057e-04-4.43733988e-04j  2.32172740e-03+9.02796964e-19j\n",
      "   1.25702604e-02-6.85578121e-03j -2.61627819e-03+6.46297137e-04j\n",
      "  -4.26929419e-03+9.95201400e-04j  7.26180888e-03-1.84442246e-02j\n",
      "   2.21421022e-03-6.35836027e-04j  1.58766402e-04+2.74869349e-04j]\n",
      " [-6.78312688e-03-1.53644319e-02j  1.25702604e-02+6.85578121e-03j\n",
      "   4.39745584e-01-4.49928465e-17j -1.19481123e-02+1.78303333e-02j\n",
      "  -2.32203422e-02-1.57689704e-02j  4.24891984e-01-1.51214719e-01j\n",
      "   1.98442897e-03-1.12603437e-02j -4.72327224e-03+1.09229266e-02j]\n",
      " [-5.24133829e-03+2.17045939e-03j -2.61627819e-03-6.46297137e-04j\n",
      "  -1.19481123e-02-1.78303333e-02j  5.07289080e-03+9.34473792e-19j\n",
      "   5.70088532e-03-1.56090601e-03j -1.40164849e-02-5.51114947e-04j\n",
      "  -3.58102180e-03+4.74212220e-04j  1.56352499e-03+9.95732977e-04j]\n",
      " [-1.15631307e-02-5.30139087e-03j -4.26929419e-03-9.95201400e-04j\n",
      "  -2.32203422e-02+1.57689704e-02j  5.70088532e-03+1.56090601e-03j\n",
      "   1.44990530e-02+6.33311910e-19j -2.29746138e-02+4.32879773e-02j\n",
      "  -3.26858103e-03-2.80660181e-04j -3.94435160e-04+4.49817588e-03j]\n",
      " [ 3.44773199e-03+1.98659882e-03j  7.26180888e-03+1.84442246e-02j\n",
      "   4.24891984e-01+1.51214719e-01j -1.40164849e-02+5.51114947e-04j\n",
      "  -2.29746138e-02-4.32879773e-02j  5.06796428e-01-5.28114716e-17j\n",
      "   2.83155750e-03-9.74932555e-04j -3.79396908e-03+4.29356316e-03j]\n",
      " [ 6.33171846e-04-1.08813811e-03j  2.21421022e-03+6.35836027e-04j\n",
      "   1.98442897e-03+1.12603437e-02j -3.58102180e-03-4.74212220e-04j\n",
      "  -3.26858103e-03+2.80660181e-04j  2.83155750e-03+9.74932555e-04j\n",
      "   3.38824129e-03+2.07995322e-18j -2.05761690e-04+5.10110033e-04j]\n",
      " [-4.84361995e-03+9.04216305e-03j  1.58766402e-04-2.74869349e-04j\n",
      "  -4.72327224e-03-1.09229266e-02j  1.56352499e-03-9.95732977e-04j\n",
      "  -3.94435160e-04-4.49817588e-03j -3.79396908e-03-4.29356316e-03j\n",
      "  -2.05761690e-04-5.10110033e-04j  4.70500765e-03+1.63858595e-18j]]\n",
      "[[ 1.90188997e-02-2.40009334e-18j -3.35231984e-03+4.45396839e-03j\n",
      "  -7.93860039e-03+1.61133228e-02j -1.81373572e-03-2.01500089e-03j\n",
      "  -1.71631393e-02+1.35292826e-02j -1.30047879e-03+9.15435717e-04j\n",
      "   2.24436248e-03-2.69079227e-03j  1.75269020e-03+6.40695713e-03j]\n",
      " [-3.35231984e-03-4.45396839e-03j  1.71391594e-03-2.05014875e-19j\n",
      "   6.08243539e-03-9.29323459e-04j -1.46260624e-04+8.15122826e-04j\n",
      "   5.49507361e-03+1.14194480e-03j  8.58221369e-03-2.45857875e-03j\n",
      "  -9.82237789e-04-3.04891142e-05j  1.07080225e-03-1.25373744e-03j]\n",
      " [-7.93860039e-03-1.61133228e-02j  6.08243539e-03+9.29323459e-04j\n",
      "   2.73457738e-02-2.06124029e-18j -8.59852647e-04+2.77429351e-03j\n",
      "   1.03619653e-02+3.74111450e-03j  9.22111087e-02-3.41409809e-02j\n",
      "  -2.70816698e-03-5.69606172e-04j  3.50881986e-03-8.27625016e-04j]\n",
      " [-1.81373572e-03+2.01500089e-03j -1.46260624e-04-8.15122826e-04j\n",
      "  -8.59852647e-04-2.77429351e-03j  4.02385860e-04-4.84614758e-20j\n",
      "  -6.53333782e-05-2.83767291e-03j -5.14572032e-04-4.00059747e-03j\n",
      "   8.34423571e-05+4.76784861e-04j -7.28991179e-04-3.50965539e-04j]\n",
      " [-1.71631393e-02-1.35292826e-02j  5.49507361e-03-1.14194480e-03j\n",
      "   1.03619653e-02-3.74111450e-03j -6.53333782e-05+2.83767291e-03j\n",
      "   3.42500726e-02-3.12808020e-18j -5.32346359e-02+7.29711507e-02j\n",
      "  -4.44782454e-03+9.17854840e-04j  2.26783126e-03-1.02706162e-02j]\n",
      " [-1.30047879e-03-9.15435717e-04j  8.58221369e-03+2.45857875e-03j\n",
      "   9.22111087e-02+3.41409809e-02j -5.14572032e-04+4.00059747e-03j\n",
      "  -5.32346359e-02-7.29711507e-02j  9.13069293e-01+5.54069953e-18j\n",
      "   3.46725722e-03+3.61077968e-03j -2.13998966e-02+2.46605723e-02j]\n",
      " [ 2.24436248e-03+2.69079227e-03j -9.82237789e-04+3.04891142e-05j\n",
      "  -2.70816698e-03+5.69606172e-04j  8.34423571e-05-4.76784861e-04j\n",
      "  -4.44782454e-03-9.17854840e-04j  3.46725722e-03-3.61077968e-03j\n",
      "   6.74635518e-04-8.14009851e-20j -6.90802273e-04+1.19107368e-03j]\n",
      " [ 1.75269020e-03-6.40695713e-03j  1.07080225e-03+1.25373744e-03j\n",
      "   3.50881986e-03+8.27625016e-04j -7.28991179e-04+3.50965539e-04j\n",
      "   2.26783126e-03+1.02706162e-02j -2.13998966e-02-2.46605723e-02j\n",
      "  -6.90802273e-04-1.19107368e-03j  3.52502386e-03-2.89644354e-19j]]\n",
      "[[ 9.29263355e-02+1.21377715e-17j -2.25005838e-03+1.90501253e-03j\n",
      "  -4.11958442e-03+1.99773787e-02j  6.14801616e-03+9.60244633e-03j\n",
      "   4.15093346e-03+7.55640112e-04j  1.41071775e-02+1.21690376e-02j\n",
      "  -2.82557351e-03+3.83309310e-03j  1.02159107e-03+8.91685517e-03j]\n",
      " [-2.25005838e-03-1.90501253e-03j  3.28830435e-03+3.22099384e-18j\n",
      "   1.97748172e-02-1.19719762e-02j  1.85058294e-03-2.72747419e-04j\n",
      "   1.70228174e-03+3.02252217e-04j -4.32387103e-03-5.88596492e-04j\n",
      "  -2.93707865e-03+5.92675677e-04j  4.43211132e-04+2.06085893e-04j]\n",
      " [-4.11958442e-03-1.99773787e-02j  1.97748172e-02+1.19719762e-02j\n",
      "   8.43093968e-01+8.85885939e-17j -1.74128677e-02+1.24024147e-02j\n",
      "  -1.32220587e-02-2.63780215e-03j  9.25535962e-03-8.15910119e-03j\n",
      "  -1.46629509e-02+6.62632334e-03j  2.51550144e-03+6.92523246e-03j]\n",
      " [ 6.14801616e-03-9.60244633e-03j  1.85058294e-03+2.72747419e-04j\n",
      "  -1.74128677e-02-1.24024147e-02j  6.96628278e-03+4.37330798e-18j\n",
      "   5.32960115e-03-3.60845501e-03j -1.87438641e-03+6.11992247e-03j\n",
      "  -2.28666280e-03-6.21074466e-04j  7.71966177e-04-3.06469056e-05j]\n",
      " [ 4.15093346e-03-7.55640112e-04j  1.70228174e-03-3.02252217e-04j\n",
      "  -1.32220587e-02+2.63780215e-03j  5.32960115e-03+3.60845501e-03j\n",
      "   1.19401227e-02+3.38922540e-18j -1.58799091e-02+9.42519909e-03j\n",
      "  -1.24408694e-03-6.75051929e-04j  7.22454022e-04-6.31822848e-04j]\n",
      " [ 1.41071775e-02-1.21690376e-02j -4.32387103e-03+5.88596492e-04j\n",
      "   9.25535962e-03+8.15910119e-03j -1.87438641e-03-6.11992247e-03j\n",
      "  -1.58799091e-02-9.42519909e-03j  3.62624457e-02+9.02299827e-18j\n",
      "   2.40918564e-03+9.34485703e-04j -5.32007075e-04+1.76690323e-03j]\n",
      " [-2.82557351e-03-3.83309310e-03j -2.93707865e-03-5.92675677e-04j\n",
      "  -1.46629509e-02-6.62632334e-03j -2.28666280e-03+6.21074466e-04j\n",
      "  -1.24408694e-03+6.75051929e-04j  2.40918564e-03-9.34485703e-04j\n",
      "   4.37934513e-03+5.34162700e-18j  5.07109820e-04-8.19313590e-04j]\n",
      " [ 1.02159107e-03-8.91685517e-03j  4.43211132e-04-2.06085893e-04j\n",
      "   2.51550144e-03-6.92523246e-03j  7.71966177e-04+3.06469056e-05j\n",
      "   7.22454022e-04+6.31822848e-04j -5.32007075e-04-1.76690323e-03j\n",
      "   5.07109820e-04+8.19313590e-04j  1.14319549e-03+3.43455370e-19j]]\n",
      "[[ 0.29057216-1.04104333e-17j -0.00524933-1.51798674e-02j\n",
      "  -0.21621635+8.18045991e-02j  0.00367453-1.09236272e-02j\n",
      "   0.23772176+3.38453960e-02j -0.06867849+2.40274663e-01j\n",
      "  -0.00652494+4.05081310e-03j -0.00411496-7.15606415e-04j]\n",
      " [-0.00524933+1.51798674e-02j  0.00585399+2.26388203e-18j\n",
      "   0.01017308-5.05083828e-03j  0.00177768-6.36702538e-04j\n",
      "  -0.01177651+3.64933316e-03j  0.00145405-9.52444234e-03j\n",
      "  -0.00119427-1.91242882e-03j  0.00078544-1.63611883e-03j]\n",
      " [-0.21621635-8.18045991e-02j  0.01017308+5.05083828e-03j\n",
      "   0.22066937+5.19901261e-18j -0.00411586+1.98182827e-03j\n",
      "  -0.19501669-1.00450878e-01j  0.14588806-1.86775185e-01j\n",
      "   0.0014103 -2.08460585e-03j  0.00205023-2.41837826e-03j]\n",
      " [ 0.00367453+1.09236272e-02j  0.00177768+6.36702538e-04j\n",
      "  -0.00411586-1.98182827e-03j  0.00152476+1.74400760e-18j\n",
      "   0.0012151 +4.97082720e-03j -0.0040299 +2.69185227e-03j\n",
      "  -0.00041359-6.34313743e-04j  0.00044857-4.00815473e-04j]\n",
      " [ 0.23772176-3.38453960e-02j -0.01177651-3.64933316e-03j\n",
      "  -0.19501669+1.00450878e-01j  0.0012151 -4.97082720e-03j\n",
      "   0.22181185+2.26841380e-18j -0.0434493 +2.32177265e-01j\n",
      "  -0.00121387+3.31381687e-03j -0.00185762+2.67242230e-03j]\n",
      " [-0.06867849-2.40274663e-01j  0.00145405+9.52444234e-03j\n",
      "   0.14588806+1.86775185e-01j -0.0040299 -2.69185227e-03j\n",
      "  -0.0434493 -2.32177265e-01j  0.25796737+5.73388323e-18j\n",
      "   0.00166293+9.70011721e-04j  0.00259344+6.53127475e-05j]\n",
      " [-0.00652494-4.05081310e-03j -0.00119427+1.91242882e-03j\n",
      "   0.0014103 +2.08460585e-03j -0.00041359+6.34313743e-04j\n",
      "  -0.00121387-3.31381687e-03j  0.00166293-9.70011721e-04j\n",
      "   0.00103476+1.80429882e-18j  0.00036123+5.96321175e-04j]\n",
      " [-0.00411496+7.15606415e-04j  0.00078544+1.63611883e-03j\n",
      "   0.00205023+2.41837826e-03j  0.00044857+4.00815473e-04j\n",
      "  -0.00185762-2.67242230e-03j  0.00259344-6.53127475e-05j\n",
      "   0.00036123-5.96321175e-04j  0.00056573+1.78972838e-19j]]\n"
     ]
    }
   ],
   "source": [
    "# for use_init_2q_state in [True, False]:\n",
    "    # for use_ZZ_correction in [True, False]:\n",
    "for use_init_2q_state in [False]:\n",
    "    for use_ZZ_correction in [False]:\n",
    "        print(f\"STARTING use_init_2q_state: {use_init_2q_state}, use_ZZ_correction: {use_ZZ_correction}\")\n",
    "        fids_grids = np.zeros((len(init_states), len(phis[0]), len(phis[1]), len(phis[2])))\n",
    "        fidelities_opt_rot = []\n",
    "        all_best_phis = []\n",
    "        for i_init_state, init_state in enumerate(tqdm(init_states)):\n",
    "            # print('init state (Q0 (switch) Q1 (input)):', init_state)\n",
    "            \n",
    "            if use_init_2q_state: init_rho = rho_MLE_ZZ_dict[init_state]\n",
    "            else: init_rho = qt.ket2dm(name_to_state_2q(init_state)).full()\n",
    "            rho_id = get_qram_qSLR_state_from_rho(init_rho)\n",
    "            # ------------------------------ #\n",
    "            # MLE with opt rot\n",
    "            # ------------------------------ #\n",
    "            if use_ZZ_correction:\n",
    "                rho_MLE = rhos_ZZ[i_init_state]\n",
    "            else:\n",
    "                rho_MLE = rhos_base[i_init_state]\n",
    "            print(rho_MLE)\n",
    "\n",
    "\n",
    "            # if init_state == '|0+1>|0+1>' or init_state == '|0+1>|1>': phis[0] = np.linspace(0, 360, 30)\n",
    "\n",
    "            rho_MLE_rot, best_phis, best_fid, fids_grid = tomo_analysis.opt_virtualZ_MLE(\n",
    "                qt.Qobj(rho_MLE, dims=rho_id.dims), rho_id, phis=phis, progress=False, verbose=False)\n",
    "            fids_grids[i_init_state] = fids_grid\n",
    "\n",
    "            inner_sweep = phis[2]\n",
    "            outer_sweep = phis[1]\n",
    "            y_sweep = outer_sweep\n",
    "            x_sweep = inner_sweep\n",
    "\n",
    "            # vmax = np.max(fids_grid)\n",
    "            vmax = 1.0\n",
    "            # for i_phi0, phi0 in enumerate(phis[0]):\n",
    "            if show_fids_grid:\n",
    "                for i_phi0, phi0 in enumerate([phis[0][0]]):\n",
    "                    print(fids_grid[i_phi0].shape)\n",
    "                    print(f'phi Q0 {phi0}')\n",
    "                    plt.figure()\n",
    "                    plt.title(f'Fidelities ($\\phi_0: ${phi0:0.4})')\n",
    "                    plt.xlabel(f'phis Q{tomo_qubits[2]}')\n",
    "                    plt.ylabel(f'phis Q{tomo_qubits[1]}')\n",
    "                    plt.pcolormesh(x_sweep, y_sweep, fids_grid[i_phi0], cmap='viridis', shading='auto')\n",
    "                    plt.colorbar()\n",
    "                    plt.clim(vmin=0, vmax=vmax)\n",
    "                    plt.show()\n",
    "        \n",
    "            z_phi123 = tomo_analysis.z_gate_nq(best_phis)\n",
    "            rho_MLE_rot = (z_phi123*qt.Qobj(rho_MLE, dims=rho_id.dims)*z_phi123.dag()).unit()\n",
    "            fid_rot = qt.fidelity(rho_MLE_rot, rho_id)**2\n",
    "            \n",
    "            purity_MLE = np.real(np.trace(rho_MLE @ rho_MLE))\n",
    "            purity_MLE_rot = np.real(np.trace(rho_MLE_rot.full() @ rho_MLE_rot.full()))\n",
    "            purity_id = np.real(np.trace(rho_id.full() @ rho_id.full()))\n",
    "            # print(f'Fidelity (after rotation): {fid_rot}')\n",
    "            # print(f'Purity (after rotation): {purity_MLE_rot}')\n",
    "            # print(f'Target purity: {purity_id}')\n",
    "            # print(f'Best rotation: {best_phis}')\n",
    "            \n",
    "            # if saveplots: savetitle=saved_file[:-3]+f'_ZZcorrect_optrot{save_append}.svg'\n",
    "            # else: savetitle = None\n",
    "            # show_plot_rho_2d(rho_MLE_rot, rho_id, title=f'MLE with ZZ Correction, Phase Optimized (Q{tomo_qubits[0]}, Q{tomo_qubits[1]}, Q{tomo_qubits[2]}), Init {init_state}, Play {play_pulses}', savetitle=savetitle, cmax=0.5)\n",
    "            \n",
    "            fidelities_opt_rot.append(best_fid)\n",
    "            all_best_phis.append(best_phis)\n",
    "            \n",
    "            # print('\\n\\n\\n')\n",
    "        if use_ZZ_correction and use_init_2q_state:\n",
    "            fids_grids_ZZ_vs_meas = fids_grids\n",
    "        elif use_ZZ_correction and not use_init_2q_state:\n",
    "            fids_grids_ZZ_vs_ideal = fids_grids\n",
    "        elif not use_ZZ_correction and use_init_2q_state:\n",
    "            fids_grids_base_vs_meas = fids_grids\n",
    "        elif not use_ZZ_correction and not use_init_2q_state:\n",
    "            fids_grids_base_vs_ideal = fids_grids"
   ]
  },
  {
   "cell_type": "markdown",
   "metadata": {},
   "source": [
    "#### Save fids grids"
   ]
  },
  {
   "cell_type": "code",
   "execution_count": 82,
   "metadata": {},
   "outputs": [],
   "source": [
    "fids_grids_dict = dict(\n",
    "    phis=phis,\n",
    "    fids_grids_base_vs_meas=fids_grids_base_vs_meas,\n",
    "    fids_grids_ZZ_vs_meas=fids_grids_ZZ_vs_meas,\n",
    "    fids_grids_base_vs_ideal=fids_grids_base_vs_ideal,\n",
    "    fids_grids_ZZ_vs_ideal=fids_grids_ZZ_vs_ideal, \n",
    ")\n",
    "fids_grids_dict.update(n_tomo_corrected_dict)\n",
    "if \"allow_pickle\" in fids_grids_dict: fids_grids_dict.pop(\"allow_pickle\")"
   ]
  },
  {
   "cell_type": "code",
   "execution_count": 137,
   "metadata": {},
   "outputs": [
    {
     "name": "stdout",
     "output_type": "stream",
     "text": [
      "Saved fids_grids_dict for Q0 Q2 Q3 to file S:\\QRAM\\qram_4QR2\\data\\data_241025\\202412090054_ntomocorrected_3Q_023_fids_grids.npz with keys\n",
      "dict_keys(['phis', 'fids_grids_base_vs_meas', 'fids_grids_ZZ_vs_meas', 'fids_grids_base_vs_ideal', 'fids_grids_ZZ_vs_ideal', '|0>|0>', '|0>|1>', '|0>|0+1>', '|0>|0+i>', '|1>|0>', '|1>|1>', '|1>|0+1>', '|1>|0+i>', '|0+1>|0>', '|0+1>|1>', '|0+1>|0+1>', '|0+1>|0+i>', '|0+i>|0>', '|0+i>|1>', '|0+i>|0+1>', '|0+i>|0+i>', 'saved_files', 'init_states', 'all_configs'])\n"
     ]
    }
   ],
   "source": [
    "# SAVING FIDS GRIDS\n",
    "# n_tomo_corrected_filepath = 'S:\\QRAM\\qram_4QR2\\data\\data_241025\\\\202412131029_ntomocorrected_3Q_023.npz'\n",
    "fids_grids_filepath = n_tomo_corrected_filepath[:-4] + '_fids_grids.npz'\n",
    "np.savez(fids_grids_filepath, **fids_grids_dict)\n",
    "print(f'Saved fids_grids_dict for Q{qA} Q{qB} Q{qC} to file {fids_grids_filepath} with keys\\n{fids_grids_dict.keys()}')"
   ]
  },
  {
   "cell_type": "markdown",
   "metadata": {},
   "source": [
    "Reopening fids grids and 3q tomo data"
   ]
  },
  {
   "cell_type": "code",
   "execution_count": 138,
   "metadata": {},
   "outputs": [
    {
     "name": "stdout",
     "output_type": "stream",
     "text": [
      "Using fids_grids_dict from file S:\\QRAM\\qram_4QR2\\data\\data_241025\\202412090054_ntomocorrected_3Q_023_fids_grids.npz\n",
      "fids_grids_dict retrieved with init_states\n",
      "['|0>|0>' '|0>|1>' '|0>|0+1>' '|0>|0+i>' '|1>|0>' '|1>|1>' '|1>|0+1>'\n",
      " '|1>|0+i>' '|0+1>|0>' '|0+1>|1>' '|0+1>|0+1>' '|0+1>|0+i>' '|0+i>|0>'\n",
      " '|0+i>|1>' '|0+i>|0+1>' '|0+i>|0+i>']\n",
      "play_pulses [2, 1, 1, 2, 2, 1, 1, 2, 2, 1, 4, 3]\n"
     ]
    }
   ],
   "source": [
    "# RETRIEVING MEASURED n_tomo_corrected and fids grids\n",
    "# fids_grids_filepath = \"S:\\QRAM\\qram_4QR2\\data\\data_241025\\\\202412131029_ntomocorrected_3Q_023_fids_grids.npz\"\n",
    "print(f\"Using fids_grids_dict from file {fids_grids_filepath}\")\n",
    "fids_grids_dict = dict()\n",
    "\n",
    "with np.load(fids_grids_filepath, allow_pickle=True) as npzfile:\n",
    "    for key in npzfile.keys():\n",
    "        fids_grids_dict.update({key:npzfile[key]})\n",
    "\n",
    "init_states = fids_grids_dict[\"init_states\"]\n",
    "\n",
    "if 'saved_files' in init_states: init_states = init_states[:-1]\n",
    "\n",
    "print(f'fids_grids_dict retrieved with init_states\\n{init_states}')\n",
    "all_configs = fids_grids_dict[\"all_configs\"].item() #[0]\n",
    "# print(all_configs.keys())\n",
    "\n",
    "\n",
    "cfg = AttrDict(all_configs[init_states[0]])\n",
    "play_pulses = cfg.expt.play_pulses\n",
    "tomo_qubits = cfg.expt.tomo_qubits\n",
    "\n",
    "print(\"play_pulses\", play_pulses)"
   ]
  },
  {
   "cell_type": "markdown",
   "metadata": {},
   "source": [
    "Select the fids grids you want to use to display/calculate best average fidelities"
   ]
  },
  {
   "cell_type": "code",
   "execution_count": 83,
   "metadata": {},
   "outputs": [],
   "source": [
    "use_init_2q_state = False\n",
    "use_ZZ_correction = False"
   ]
  },
  {
   "cell_type": "code",
   "execution_count": 84,
   "metadata": {},
   "outputs": [],
   "source": [
    "if use_ZZ_correction and use_init_2q_state:\n",
    "    fids_grids = fids_grids_dict[\"fids_grids_ZZ_vs_meas\"]\n",
    "elif use_ZZ_correction and not use_init_2q_state:\n",
    "    fids_grids = fids_grids_dict[\"fids_grids_ZZ_vs_ideal\"]\n",
    "elif not use_ZZ_correction and use_init_2q_state:\n",
    "    fids_grids = fids_grids_dict[\"fids_grids_base_vs_meas\"]\n",
    "elif not use_ZZ_correction and not use_init_2q_state:\n",
    "    fids_grids = fids_grids_dict[\"fids_grids_base_vs_ideal\"]"
   ]
  },
  {
   "cell_type": "code",
   "execution_count": 85,
   "metadata": {},
   "outputs": [
    {
     "name": "stdout",
     "output_type": "stream",
     "text": [
      "(4, 20, 20, 20)\n",
      "4\n"
     ]
    }
   ],
   "source": [
    "print(np.array(fids_grids).shape)\n",
    "print(len(init_states))"
   ]
  },
  {
   "cell_type": "markdown",
   "metadata": {},
   "source": [
    "Go through the fids grids and select the best overall phi"
   ]
  },
  {
   "cell_type": "code",
   "execution_count": 67,
   "metadata": {},
   "outputs": [],
   "source": [
    "check_init_states = init_states\n",
    "# check_init_states = ['|0+1>|1>', '|1>|0+1>', '|0>|0+1>']\n",
    "# check_init_states = ['|0+1>|1>', '|1>|0+1>', '|0>|0+1>', '|0+1>|0+1>']\n",
    "# check_init_states = ['|0>|0>', '|0>|1>', '|0>|0+1>', '|0>|0+i>', '|1>|0>', '|1>|1>', '|1>|0+1>', '|1>|0+i>', '|0+1>|0>', '|0+1>|1>', '|0+1>|0+1>', '|0+1>|0+i>', '|0+i>|0>', '|0+i>|1>', '|0+i>|0+i>']"
   ]
  },
  {
   "cell_type": "code",
   "execution_count": 86,
   "metadata": {},
   "outputs": [
    {
     "name": "stdout",
     "output_type": "stream",
     "text": [
      "(4, 20, 20, 20)\n",
      "check states ['|0+1>|1>' '|1>|1>' '|0>|1>' '|0+1>|0+1>']\n",
      "Best fids with individual rotations [0.9242451692503422, 0.913073817800782, 0.843099060611293, 0.9485592048510771]\n",
      "Avg of best fids with individual rotations 0.9072443131283736\n",
      "Phis for best fids with individual rotations [[113.68421052631578, 170.52631578947367, 37.89473684210526], [113.68421052631578, 246.3157894736842, 189.4736842105263], [0.0, 56.84210526315789, 360.0], [18.94736842105263, 75.78947368421052, 0.0]]\n",
      "Best avg fid with overall optimal phis 0.900690106353276\n",
      "Fids for check states using overall optimal phis [0.9014484775512833, 0.9130700238535333, 0.8430950033488206, 0.9451469206594667]\n",
      "Overall optimal phis [360.0, 56.84210526315789, 18.94736842105263]\n"
     ]
    }
   ],
   "source": [
    "# Pick best overall phi\n",
    "\n",
    "# check_init_states = ['|1>|0+1>', '|0>|0+1>', '|0+1>|1>', '|0+1>|0+1>', '|0+1>|0>']\n",
    "# check_init_states = ['|1>|0+1>', '|0>|0+1>', '|0+1>|1>', '|0+1>|0+1>', '|0+1>|0>']\n",
    "# check_init_states = ['|1>|0+1>', '|0>|0+1>', '|0+1>|1>', '|0+1>|0>', '|0+1>|0+1>']\n",
    "# check_init_states = ['|1>|0+1>', '|0>|0+1>', '|0+1>|1>']\n",
    "# check_init_states = ['|0+1>|0+1>']\n",
    "    \n",
    "\n",
    "fids_grids_reshaped = []\n",
    "for i_state in range(len(init_states)):\n",
    "    grid_shape = fids_grids[i_state].shape\n",
    "    # print(grid_shape)\n",
    "    fids_grid = np.copy(fids_grids[i_state]).tolist()\n",
    "    # print(init_states[i_state], grid_shape)\n",
    "    if grid_shape[0] == 1:\n",
    "        for i in range(grid_shape[1]-1):\n",
    "            fids_grid.append(fids_grid[0])\n",
    "    # print(np.array(fids_grid).shape)\n",
    "    fids_grids_reshaped.append(fids_grid)\n",
    "    \n",
    "fids_grids_reshaped = np.array(fids_grids_reshaped)\n",
    "print(fids_grids_reshaped.shape)\n",
    "\n",
    "\n",
    "best_avg_fid = 0\n",
    "best_fids = []\n",
    "best_phis = [0, 0, 0]\n",
    "best_phi_indices = [0, 0, 0]\n",
    "individual_best_fids = np.zeros((len(init_states)))\n",
    "individual_best_phis = np.zeros((len(init_states), 3))\n",
    "for iphi0, phi0 in enumerate(phis[0]):\n",
    "    for iphi1, phi1 in enumerate(phis[1]):\n",
    "        for iphi2, phi2 in enumerate(phis[2]):\n",
    "            avg_fid = 0\n",
    "            for i_state, init_state in enumerate(init_states):\n",
    "                if init_state not in check_init_states: continue\n",
    "                fid = fids_grids_reshaped[i_state][iphi0, iphi1, iphi2]\n",
    "                avg_fid += fid\n",
    "                if fid > individual_best_fids[i_state]:\n",
    "                    individual_best_fids[i_state] = fid\n",
    "                    individual_best_phis[i_state] = [phi0, phi1, phi2]\n",
    "            avg_fid /= len(check_init_states)\n",
    "            if avg_fid > best_avg_fid:\n",
    "                best_phis = [phi0, phi1, phi2]\n",
    "                best_phi_indices = [iphi0, iphi1, iphi2]\n",
    "                best_avg_fid = avg_fid\n",
    " \n",
    "vmax = 1.0\n",
    "for i_state in range(len(init_states)):\n",
    "    # print(init_states[i_state])\n",
    "    # print(f'best phi Q0 {best_phis[0]}')\n",
    "    plt.figure()\n",
    "    # plt.title(f'Fidelities {init_states[i_state]} ($\\phi_0: ${best_phis[0]:0.4})')\n",
    "    plt.xlabel(f'phis Q{tomo_qubits[2]}')\n",
    "    plt.ylabel(f'phis Q{tomo_qubits[1]}')\n",
    "    plt.pcolormesh(x_sweep, y_sweep, fids_grids_reshaped[i_state, best_phi_indices[0], :, :], cmap='viridis', shading='auto')\n",
    "    plt.colorbar()\n",
    "    plt.clim(vmin=0, vmax=vmax)\n",
    "    plt.show()\n",
    "\n",
    "\n",
    "for i_state, init_state in enumerate(init_states):\n",
    "    if init_state not in check_init_states: continue\n",
    "    best_fids.append(fids_grids_reshaped[i_state][best_phi_indices[0], best_phi_indices[1], best_phi_indices[2]])\n",
    "\n",
    "print('check states', check_init_states)\n",
    "print('Best fids with individual rotations', individual_best_fids.tolist())\n",
    "print('Avg of best fids with individual rotations', np.average(individual_best_fids))\n",
    "print('Phis for best fids with individual rotations', individual_best_phis.tolist())\n",
    "print('Best avg fid with overall optimal phis', best_avg_fid)\n",
    "print('Fids for check states using overall optimal phis', best_fids)\n",
    "print('Overall optimal phis', best_phis)"
   ]
  },
  {
   "cell_type": "markdown",
   "metadata": {},
   "source": [
    "Plot all the tomos for the best phis"
   ]
  },
  {
   "cell_type": "code",
   "execution_count": 713,
   "metadata": {},
   "outputs": [],
   "source": [
    "# best_phis = [360.0, 360.0, 235.86206896551724]\n",
    "# best_phis = [0]*3"
   ]
  },
  {
   "cell_type": "code",
   "execution_count": 70,
   "metadata": {},
   "outputs": [],
   "source": [
    "saveplots = False"
   ]
  },
  {
   "cell_type": "code",
   "execution_count": 87,
   "metadata": {},
   "outputs": [
    {
     "name": "stdout",
     "output_type": "stream",
     "text": [
      "\n",
      "init_state |0+1>|1>\n",
      "Quantum object: dims = [[2, 2, 2], [2, 2, 2]], shape = (8, 8), type = oper, isherm = True\n",
      "Qobj data =\n",
      "[[ 2.34710673e-02+0.00000000e+00j  9.09013707e-04+1.57089241e-04j\n",
      "   9.15256844e-03+1.40821539e-02j -3.39071634e-03+4.54813838e-03j\n",
      "  -1.15631305e-02+5.30139078e-03j  2.61587673e-03-2.99843611e-03j\n",
      "   1.25726491e-03+6.50848907e-05j -9.95451350e-03+2.47568662e-03j]\n",
      " [ 9.09013707e-04-1.57089241e-04j  2.32172736e-03+0.00000000e+00j\n",
      "   5.70879364e-03-1.31309882e-02j -8.89910224e-04+2.54375138e-03j\n",
      "  -4.36111335e-03-4.44958907e-04j  7.26180876e-03-1.84442243e-02j\n",
      "   1.35678439e-03-1.86176000e-03j  3.16948391e-04+1.74253748e-05j]\n",
      " [ 9.15256844e-03-1.40821539e-02j  5.70879364e-03+1.31309882e-02j\n",
      "   4.39745577e-01+0.00000000e+00j -5.51123079e-03+2.07437820e-02j\n",
      "   5.00929994e-04-2.80641009e-02j  4.28177472e-01+1.41644396e-01j\n",
      "   1.98442894e-03-1.12603435e-02j -9.20683826e-04+1.18647361e-02j]\n",
      " [-3.39071634e-03-4.54813838e-03j -8.89910224e-04-2.54375138e-03j\n",
      "  -5.51123079e-03-2.07437820e-02j  5.07289071e-03+0.00000000e+00j\n",
      "   2.91262727e-03+5.14325988e-03j -7.20491550e-03-1.20355624e-02j\n",
      "  -3.54096856e-03-7.14237773e-04j  1.56352496e-03+9.95732960e-04j]\n",
      " [-1.15631305e-02-5.30139078e-03j -4.36111335e-03+4.44958907e-04j\n",
      "   5.00929994e-04+2.80641009e-02j  2.91262727e-03-5.14325988e-03j\n",
      "   1.44990528e-02+0.00000000e+00j -7.67420247e-03+4.84023594e-02j\n",
      "  -2.02270364e-03+2.58283986e-03j  4.26370472e-03+1.48660242e-03j]\n",
      " [ 2.61587673e-03+2.99843611e-03j  7.26180876e-03+1.84442243e-02j\n",
      "   4.28177472e-01-1.41644396e-01j -7.20491550e-03+1.20355624e-02j\n",
      "  -7.67420247e-03-4.84023594e-02j  5.06796420e-01+0.00000000e+00j\n",
      "   1.63568073e-03-2.50853734e-03j  1.51932272e-03+5.52454010e-03j]\n",
      " [ 1.25726491e-03-6.50848907e-05j  1.35678439e-03+1.86176000e-03j\n",
      "   1.98442894e-03+1.12603435e-02j -3.54096856e-03+7.14237773e-04j\n",
      "  -2.02270364e-03-2.58283986e-03j  1.63568073e-03+2.50853734e-03j\n",
      "   3.38824123e-03+0.00000000e+00j -2.89804965e-05+5.49281566e-04j]\n",
      " [-9.95451350e-03-2.47568662e-03j  3.16948391e-04-1.74253748e-05j\n",
      "  -9.20683826e-04-1.18647361e-02j  1.56352496e-03-9.95732960e-04j\n",
      "   4.26370472e-03-1.48660242e-03j  1.51932272e-03-5.52454010e-03j\n",
      "  -2.89804965e-05-5.49281566e-04j  4.70500757e-03+0.00000000e+00j]] Quantum object: dims = [[2, 2, 2], [2, 2, 2]], shape = (8, 8), type = oper, isherm = True\n",
      "Qobj data =\n",
      "[[0.  0.  0.  0.  0.  0.  0.  0. ]\n",
      " [0.  0.  0.  0.  0.  0.  0.  0. ]\n",
      " [0.  0.  0.5 0.  0.  0.5 0.  0. ]\n",
      " [0.  0.  0.  0.  0.  0.  0.  0. ]\n",
      " [0.  0.  0.  0.  0.  0.  0.  0. ]\n",
      " [0.  0.  0.5 0.  0.  0.5 0.  0. ]\n",
      " [0.  0.  0.  0.  0.  0.  0.  0. ]\n",
      " [0.  0.  0.  0.  0.  0.  0.  0. ]]\n",
      "Fidelity (after rotation): 0.9014484775512833\n",
      "Purity (after rotation): 0.8687895636178882\n",
      "Target purity: 1.0\n",
      "\n",
      "init_state |1>|1>\n",
      "Quantum object: dims = [[2, 2, 2], [2, 2, 2]], shape = (8, 8), type = oper, isherm = True\n",
      "Qobj data =\n",
      "[[ 1.90188994e-02+0.j         -1.72448071e-03+0.00530114j\n",
      "   9.14753070e-03+0.01545908j -2.39858815e-03+0.00126358j\n",
      "  -1.71631390e-02+0.01352928j -9.32773758e-04+0.0012881j\n",
      "  -1.02509115e-03-0.00335063j  6.64116584e-03-0.00012624j]\n",
      " [-1.72448071e-03-0.00530114j  1.71391591e-03+0.j\n",
      "   4.22909381e-03-0.00446928j  6.02396517e-04+0.00056827j\n",
      "   4.82654642e-03+0.00286432j  8.58221356e-03-0.00245858j\n",
      "  -7.93850418e-04+0.00057924j -4.63913633e-04-0.00158217j]\n",
      " [ 9.14753070e-03-0.01545908j  4.22909381e-03+0.00446928j\n",
      "   2.73457733e-02+0.j          8.75481686e-05+0.00290317j\n",
      "   2.53552215e-03+0.01072089j  9.37373443e-02+0.0296952j\n",
      "  -2.70816694e-03-0.00056961j  3.04997287e-03-0.00192209j]\n",
      " [-2.39858815e-03-0.00126358j  6.02396517e-04-0.00056827j\n",
      "   8.75481686e-05-0.00290317j  4.02385854e-04+0.j\n",
      "   2.73480243e-03-0.00075994j  3.06772182e-03-0.0026189j\n",
      "  -7.58905701e-05+0.00047805j -7.28991167e-04-0.00035097j]\n",
      " [-1.71631390e-02-0.01352928j  4.82654642e-03-0.00286432j\n",
      "   2.53552215e-03-0.01072089j  2.73480243e-03+0.00075994j\n",
      "   3.42500721e-02+0.j         -2.66565422e-02+0.08630263j\n",
      "  -1.66433211e-03+0.00422559j -9.39961826e-03-0.00471972j]\n",
      " [-9.32773758e-04-0.0012881j   8.58221356e-03+0.00245858j\n",
      "   9.37373443e-02-0.0296952j   3.06772182e-03+0.0026189j\n",
      "  -2.66565422e-02-0.08630263j  9.13069278e-01+0.j\n",
      "   4.95393983e-03+0.00071978j  8.94037026e-03+0.03140333j]\n",
      " [-1.02509115e-03+0.00335063j -7.93850418e-04-0.00057924j\n",
      "  -2.70816694e-03+0.00056961j -7.58905701e-05-0.00047805j\n",
      "  -1.66433211e-03-0.00422559j  4.95393983e-03-0.00071978j\n",
      "   6.74635507e-04+0.j         -2.66631703e-04+0.00135084j]\n",
      " [ 6.64116584e-03+0.00012624j -4.63913633e-04+0.00158217j\n",
      "   3.04997287e-03+0.00192209j -7.28991167e-04+0.00035097j\n",
      "  -9.39961826e-03+0.00471972j  8.94037026e-03-0.03140333j\n",
      "  -2.66631703e-04-0.00135084j  3.52502381e-03+0.j        ]] Quantum object: dims = [[2, 2, 2], [2, 2, 2]], shape = (8, 8), type = oper, isherm = True\n",
      "Qobj data =\n",
      "[[0. 0. 0. 0. 0. 0. 0. 0.]\n",
      " [0. 0. 0. 0. 0. 0. 0. 0.]\n",
      " [0. 0. 0. 0. 0. 0. 0. 0.]\n",
      " [0. 0. 0. 0. 0. 0. 0. 0.]\n",
      " [0. 0. 0. 0. 0. 0. 0. 0.]\n",
      " [0. 0. 0. 0. 0. 1. 0. 0.]\n",
      " [0. 0. 0. 0. 0. 0. 0. 0.]\n",
      " [0. 0. 0. 0. 0. 0. 0. 0.]]\n",
      "Fidelity (after rotation): 0.9130700238535333\n",
      "Purity (after rotation): 0.8765505627333822\n",
      "Target purity: 1.0\n",
      "\n",
      "init_state |0>|1>\n",
      "Quantum object: dims = [[2, 2, 2], [2, 2, 2]], shape = (8, 8), type = oper, isherm = True\n",
      "Qobj data =\n",
      "[[ 9.29263347e-02+0.00000000e+00j -1.50958744e-03+2.53238643e-03j\n",
      "   1.44711925e-02+1.43753683e-02j  1.08178627e-02-3.60262725e-03j\n",
      "   4.15093342e-03+7.55640105e-04j  1.72940916e-02+6.92909250e-03j\n",
      "   1.66349481e-03+4.46197859e-03j  8.89478747e-03+1.19862787e-03j]\n",
      " [-1.50958744e-03-2.53238643e-03j  3.28830432e-03+0.00000000e+00j\n",
      "   8.25176926e-03-2.15935152e-02j  7.83837924e-04-1.69842468e-03j\n",
      "   1.51190627e-03+8.38605327e-04j -4.32387099e-03-5.88596486e-04j\n",
      "  -1.95373879e-03+2.27169541e-03j  4.14941710e-04-2.58323200e-04j]\n",
      " [ 1.44711925e-02-1.43753683e-02j  8.25176926e-03+2.15935152e-02j\n",
      "   8.43093960e-01+0.00000000e+00j -1.24423330e-02+1.73843664e-02j\n",
      "  -5.02350106e-03-1.25118052e-02j  1.23152028e-02-7.53917722e-04j\n",
      "  -1.46629508e-02+6.62632327e-03j  4.62782389e-03+5.73322223e-03j]\n",
      " [ 1.08178627e-02+3.60262725e-03j  7.83837924e-04+1.69842468e-03j\n",
      "  -1.24423330e-02-1.73843664e-02j  6.96628271e-03+0.00000000e+00j\n",
      "   4.80637693e-03+4.28069339e-03j -6.14858608e-03+1.77810684e-03j\n",
      "  -1.96110253e-03-1.32990112e-03j  7.71966169e-04-3.06469053e-05j]\n",
      " [ 4.15093342e-03-7.55640105e-04j  1.51190627e-03-8.38605327e-04j\n",
      "  -5.02350106e-03+1.25118052e-02j  4.80637693e-03-4.28069339e-03j\n",
      "   1.19401226e-02+0.00000000e+00j -1.19591346e-02+1.40707137e-02j\n",
      "  -1.24558189e-03+6.72289467e-04j -4.35137255e-04-8.55450452e-04j]\n",
      " [ 1.72940916e-02-6.92909250e-03j -4.32387099e-03+5.88596486e-04j\n",
      "   1.23152028e-02+7.53917722e-04j -6.14858608e-03-1.77810684e-03j\n",
      "  -1.19591346e-02-1.40707137e-02j  3.62624454e-02+0.00000000e+00j\n",
      "   2.47515896e-03-7.42311915e-04j  1.18821185e-03+1.41178294e-03j]\n",
      " [ 1.66349481e-03-4.46197859e-03j -1.95373879e-03-2.27169541e-03j\n",
      "  -1.46629508e-02-6.62632327e-03j -1.96110253e-03+1.32990112e-03j\n",
      "  -1.24558189e-03-6.72289467e-04j  2.47515896e-03+7.42311915e-04j\n",
      "   4.37934508e-03+0.00000000e+00j  2.13602521e-04-9.39579200e-04j]\n",
      " [ 8.89478747e-03-1.19862787e-03j  4.14941710e-04+2.58323200e-04j\n",
      "   4.62782389e-03-5.73322223e-03j  7.71966169e-04+3.06469053e-05j\n",
      "  -4.35137255e-04+8.55450452e-04j  1.18821185e-03-1.41178294e-03j\n",
      "   2.13602521e-04+9.39579200e-04j  1.14319548e-03+0.00000000e+00j]] Quantum object: dims = [[2, 2, 2], [2, 2, 2]], shape = (8, 8), type = oper, isherm = True\n",
      "Qobj data =\n",
      "[[0. 0. 0. 0. 0. 0. 0. 0.]\n",
      " [0. 0. 0. 0. 0. 0. 0. 0.]\n",
      " [0. 0. 1. 0. 0. 0. 0. 0.]\n",
      " [0. 0. 0. 0. 0. 0. 0. 0.]\n",
      " [0. 0. 0. 0. 0. 0. 0. 0.]\n",
      " [0. 0. 0. 0. 0. 0. 0. 0.]\n",
      " [0. 0. 0. 0. 0. 0. 0. 0.]\n",
      " [0. 0. 0. 0. 0. 0. 0. 0.]]\n",
      "Fidelity (after rotation): 0.8430950033488206\n",
      "Purity (after rotation): 0.7272596787712157\n",
      "Target purity: 1.0\n",
      "\n",
      "init_state |0+1>|0+1>\n",
      "Quantum object: dims = [[2, 2, 2], [2, 2, 2]], shape = (8, 8), type = oper, isherm = True\n",
      "Qobj data =\n",
      "[[ 2.90572151e-01+0.j         -9.89379782e-03-0.01265293j\n",
      "  -4.97750661e-02+0.22575195j -9.68732243e-03-0.00624369j\n",
      "   2.37721756e-01+0.0338454j   1.30597541e-02+0.24955578j\n",
      "  -1.77599639e-04+0.00767805j -1.70387141e-03+0.00381337j]\n",
      " [-9.89379782e-03+0.01265293j  5.85399346e-03+0.j\n",
      "   4.92569855e-03-0.01023425j  4.39274962e-04-0.00183646j\n",
      "  -1.23233614e-02-0.00037222j  1.45404628e-03-0.00952444j\n",
      "  -2.11708799e-03-0.00077564j -9.40109471e-04-0.00155242j]\n",
      " [-4.97750661e-02-0.22575195j  4.92569855e-03+0.01023425j\n",
      "   2.20669367e-01+0.j         -3.24935686e-03+0.00321087j\n",
      "  -2.25699104e-02-0.21820285j  2.29845866e-01-0.05778556j\n",
      "   1.41030393e-03-0.00208461j  1.15389767e-03-0.00295305j]\n",
      " [-9.68732243e-03+0.00624369j  4.39274962e-04+0.00183646j\n",
      "  -3.24935686e-03-0.00321087j  1.52476181e-03+0.j\n",
      "  -4.52043110e-03+0.00239819j -4.45767379e-03-0.00190139j\n",
      "  -1.85216859e-04-0.00073424j  4.48572920e-04-0.00040082j]\n",
      " [ 2.37721756e-01-0.0338454j  -1.23233614e-02+0.00037222j\n",
      "  -2.25699104e-02+0.21820285j -4.52043110e-03-0.00239819j\n",
      "   2.21811848e-01+0.j          3.42927340e-02+0.23370522j\n",
      "   2.11029150e-03+0.0028287j   2.13462858e-03+0.00245682j]\n",
      " [ 1.30597541e-02-0.24955578j  1.45404628e-03+0.00952444j\n",
      "   2.29845866e-01+0.05778556j -4.45767379e-03+0.00190139j\n",
      "   3.42927340e-02-0.23370522j  2.57967363e-01+0.j\n",
      "   1.90807987e-03-0.00025592j  1.47315747e-03-0.00213542j]\n",
      " [-1.77599639e-04-0.00767805j -2.11708799e-03+0.00077564j\n",
      "   1.41030393e-03+0.00208461j -1.85216859e-04+0.00073424j\n",
      "   2.11029150e-03-0.0028287j   1.90807987e-03+0.00025592j\n",
      "   1.03476480e-03+0.j          5.35280476e-04+0.00044672j]\n",
      " [-1.70387141e-03-0.00381337j -9.40109471e-04+0.00155242j\n",
      "   1.15389767e-03+0.00295305j  4.48572920e-04+0.00040082j\n",
      "   2.13462858e-03-0.00245682j  1.47315747e-03+0.00213542j\n",
      "   5.35280476e-04-0.00044672j  5.65731846e-04+0.j        ]] Quantum object: dims = [[2, 2, 2], [2, 2, 2]], shape = (8, 8), type = oper, isherm = True\n",
      "Qobj data =\n",
      "[[0.25+0.j   0.  +0.j   0.  +0.25j 0.  +0.j   0.25+0.j   0.  +0.25j\n",
      "  0.  +0.j   0.  +0.j  ]\n",
      " [0.  +0.j   0.  +0.j   0.  +0.j   0.  +0.j   0.  +0.j   0.  +0.j\n",
      "  0.  +0.j   0.  +0.j  ]\n",
      " [0.  -0.25j 0.  +0.j   0.25+0.j   0.  +0.j   0.  -0.25j 0.25+0.j\n",
      "  0.  +0.j   0.  +0.j  ]\n",
      " [0.  +0.j   0.  +0.j   0.  +0.j   0.  +0.j   0.  +0.j   0.  +0.j\n",
      "  0.  +0.j   0.  +0.j  ]\n",
      " [0.25+0.j   0.  +0.j   0.  +0.25j 0.  +0.j   0.25+0.j   0.  +0.25j\n",
      "  0.  +0.j   0.  +0.j  ]\n",
      " [0.  -0.25j 0.  +0.j   0.25+0.j   0.  +0.j   0.  -0.25j 0.25+0.j\n",
      "  0.  +0.j   0.  +0.j  ]\n",
      " [0.  +0.j   0.  +0.j   0.  +0.j   0.  +0.j   0.  +0.j   0.  +0.j\n",
      "  0.  +0.j   0.  +0.j  ]\n",
      " [0.  +0.j   0.  +0.j   0.  +0.j   0.  +0.j   0.  +0.j   0.  +0.j\n",
      "  0.  +0.j   0.  +0.j  ]]\n",
      "Fidelity (after rotation): 0.9451469206594667\n",
      "Purity (after rotation): 0.9181256729057137\n",
      "Target purity: 0.9999999607779394\n",
      "\n",
      "init_states = ['|0+1>|1>' '|1>|1>' '|0>|1>' '|0+1>|0+1>']\n",
      "best fids\n",
      "[0.9014484775512833, 0.9130700238535333, 0.8430950033488206, 0.9451469206594667]\n",
      "average best fid 0.900690106353276\n",
      "used best_phis [360.0, 56.84210526315789, 18.94736842105263]\n"
     ]
    }
   ],
   "source": [
    "z_phi123 = tomo_analysis.z_gate_nq(best_phis)\n",
    "best_fids = []\n",
    "\n",
    "print()\n",
    "for i_state, init_state in enumerate(init_states):\n",
    "    # if init_state not in check_init_states: continue\n",
    "    print('init_state', init_state)\n",
    "    if use_init_2q_state: init_rho = rho_MLE_ZZ_dict[init_state]\n",
    "    else: init_rho = qt.ket2dm(name_to_state_2q(init_state)).full()\n",
    "    rho_id = get_qram_qSLR_state_from_rho(init_rho)\n",
    "    \n",
    "    if use_ZZ_correction: rho_MLE_rot = (z_phi123*qt.Qobj(rhos_ZZ[i_state], dims=rho_id.dims)*z_phi123.dag()).unit()\n",
    "    else: rho_MLE_rot = (z_phi123*qt.Qobj(rhos_base[i_state], dims=rho_id.dims)*z_phi123.dag()).unit()\n",
    "    fid_rot = qt.fidelity(rho_MLE_rot, rho_id)**2\n",
    "    best_fids.append(fid_rot)\n",
    "\n",
    "    print(rho_MLE_rot, rho_id)\n",
    "    \n",
    "    purity_MLE_rot = np.real(np.trace(rho_MLE_rot.full() @ rho_MLE_rot.full()))\n",
    "    purity_id = np.real(np.trace(rho_id.full() @ rho_id.full()))\n",
    "    print(f'Fidelity (after rotation): {fid_rot}')\n",
    "    print(f'Purity (after rotation): {purity_MLE_rot}')\n",
    "    print(f'Target purity: {purity_id}')\n",
    "    \n",
    "    if saveplots: savetitle=saved_file[:-3]+f'{\"_ZZcorrect\" if use_ZZ_correction else \"\"}_optrot{save_append}.svg'\n",
    "    else: savetitle = None\n",
    "    \n",
    "    init_state_title = ''\n",
    "    for c in init_state:\n",
    "        if c != '>': init_state_title += c\n",
    "        else: init_state_title += '\\\\rangle'\n",
    "    tomo_analysis.show_plot_rho_2d(rho_MLE_rot, rho_id, title=f'MLE {\"with ZZ\" if use_ZZ_correction else \"Base\"}, Phase Corrected (Q{tomo_qubits[0]}, Q{tomo_qubits[1]}, Q{tomo_qubits[2]})\\nInit ${init_state_title}$, Play {play_pulses}', savetitle=savetitle, cmax=0.5)\n",
    "    print()\n",
    "print('init_states =', init_states)\n",
    "print('best fids')\n",
    "print(best_fids)\n",
    "print('average best fid', np.average(best_fids))\n",
    "print('used best_phis', best_phis)"
   ]
  },
  {
   "cell_type": "markdown",
   "metadata": {
    "tags": []
   },
   "source": [
    "## Run analysis"
   ]
  },
  {
   "cell_type": "markdown",
   "metadata": {
    "tags": []
   },
   "source": [
    "### Reopen old data"
   ]
  },
  {
   "cell_type": "code",
   "execution_count": 20,
   "metadata": {},
   "outputs": [],
   "source": [
    "apply_ps = False\n",
    "ps_adjust = [-0.3, -1.0, -0.3, -0.3]\n",
    "# ps_adjust = [np.inf]*4\n",
    "ps_qubits = [0, 1, 2, 3]"
   ]
  },
  {
   "cell_type": "code",
   "execution_count": 125,
   "metadata": {
    "tags": []
   },
   "outputs": [
    {
     "name": "stdout",
     "output_type": "stream",
     "text": [
      "S:\\QRAM\\qram_4QR2\\data\\data_241025\\00272_QramProtocol3QTomo.h5\n"
     ]
    },
    {
     "name": "stderr",
     "output_type": "stream",
     "text": [
      "DeprecationWarning: `product` is deprecated as of NumPy 1.25.0, and will be removed in NumPy 2.0. Please use `prod` instead.\n",
      " C:\\Users\\slab\\AppData\\Local\\Temp\\ipykernel_10520\\809401443.py: 13"
     ]
    },
    {
     "name": "stdout",
     "output_type": "stream",
     "text": [
      "Extracted data and attrs ['calib_order', 'config', 'meas_order', 'pulse_dict']\n",
      "calib_order ['ggg', 'gge', 'geg', 'gee', 'egg', 'ege', 'eeg', 'eee']\n",
      "meas_order ['ZZZ', 'ZZX', 'ZZY', 'ZXZ', 'ZXX', 'ZXY', 'ZYZ', 'ZYX', 'ZYY', 'XZZ', 'XZX', 'XZY', 'XXZ', 'XXX', 'XXY', 'XYZ', 'XYX', 'XYY', 'YZZ', 'YZX', 'YZY', 'YXZ', 'YXX', 'YXY', 'YYZ', 'YYX', 'YYY']\n",
      "dict_keys(['angles', 'calib_ishots_raw', 'calib_qshots_raw', 'counts_calib', 'counts_raw', 'counts_tomo', 'epop', 'fpop', 'ge_avgs', 'gpop', 'ishots_raw', 'qshots_raw', 'thresholds', 'xpts'])\n",
      "init_state |0>|1>\n",
      "play_pulses [2, 1, 2, 1, 2, 1, 4, 3]\n",
      "tomo_qubits [0, 2, 3]\n",
      "counts_calib\n",
      "[[0.7016 0.1161 0.0819 0.0124 0.063  0.0137 0.0091 0.0022]\n",
      " [0.1121 0.7027 0.0112 0.082  0.011  0.0682 0.0017 0.0111]\n",
      " [0.0973 0.016  0.6827 0.1121 0.0104 0.0017 0.0664 0.0134]\n",
      " [0.0204 0.1035 0.1189 0.6655 0.0014 0.0117 0.0131 0.0655]\n",
      " [0.0668 0.0141 0.007  0.0015 0.6385 0.1539 0.0918 0.0264]\n",
      " [0.0139 0.0545 0.0019 0.007  0.1474 0.6423 0.0267 0.1063]\n",
      " [0.0117 0.002  0.0554 0.0105 0.1591 0.0363 0.5758 0.1492]\n",
      " [0.0023 0.0128 0.0097 0.0576 0.02   0.1404 0.1018 0.6554]]\n",
      "['ggg', 'gge', 'geg', 'gee', 'egg', 'ege', 'eeg', 'eee']\n",
      "thresholds=[986.9831151419843, 0.0, 937.7982216365392, 783.396976866493],\n",
      "angles=[0.0, 0.0, 0.0, 0.0],\n",
      "ge_avgs=[[2.9575435313262792, -1.780154759967454, -5.218981366965011, 3.8784799837266064], [0.0, 0.0, 0.0, 0.0], [-2.032368104149715, 2.455471847030106, 5.2622135069161935, -1.1771836452400317], [2.1998591537835637, -4.503424735557365, -7.055907160292915, 4.4365082994304315]] ,\n",
      "counts_calib=[[7016, 1161, 819, 124, 630, 137, 91, 22], [1121, 7027, 112, 820, 110, 682, 17, 111], [973, 160, 6827, 1121, 104, 17, 664, 134], [204, 1035, 1189, 6655, 14, 117, 131, 655], [668, 141, 70, 15, 6385, 1539, 918, 264], [139, 545, 19, 70, 1474, 6423, 267, 1063], [117, 20, 554, 105, 1591, 363, 5758, 1492], [23, 128, 97, 576, 200, 1404, 1018, 6554]]\n"
     ]
    }
   ],
   "source": [
    "saved_files = []\n",
    "filename = 'S:\\QRAM\\qram_4QR2\\data\\data_241025\\\\00272_QramProtocol3QTomo.h5'\n",
    "# data, attrs = prev_data(expt_path, '00009_QramProtocol3QTomo.h5')\n",
    "saved_files.append(filename)\n",
    "data, attrs = prev_data(filename, None)\n",
    "pulse_dict = attrs['pulse_dict']\n",
    "print('calib_order', attrs['calib_order'])\n",
    "print('meas_order', attrs['meas_order'])\n",
    "\n",
    "print(data.keys())\n",
    "# # data = None\n",
    "# # style.use('default')\n",
    "# # qramExpt.analyze(data=data)\n",
    "# # qramExpt.display(data=data, err=False, saveplot=True)\n",
    "# # print(data)\n",
    "\n",
    "cfg = AttrDict(attrs['config'])\n",
    "init_state = cfg.expt.init_state\n",
    "play_pulses = cfg.expt.play_pulses\n",
    "tomo_qubits = cfg.expt.tomo_qubits\n",
    "print('init_state', init_state)\n",
    "print('play_pulses', play_pulses)\n",
    "print('tomo_qubits', tomo_qubits)\n",
    "\n",
    "np.set_printoptions(suppress=True)\n",
    "n_tomo_raw, n_calib = tomo_analysis.n_tomo_calib_from_data(data, cfg, ps_adjust=ps_adjust, ps_qubits=ps_qubits, apply_ps=apply_ps, verbose=True)\n",
    "print('counts_calib')\n",
    "n_calib = n_calib.astype(np.float64)\n",
    "for r in range(n_calib.shape[0]):\n",
    "    n_calib[r,:]/=np.sum(n_calib[r,:])\n",
    "print(n_calib)\n",
    "print(attrs['calib_order'])\n",
    "\n",
    "print(f'thresholds={data[\"thresholds\"].tolist()},')\n",
    "print(f'angles={data[\"angles\"].tolist()},')\n",
    "print(f'ge_avgs={data[\"ge_avgs\"].tolist()}',',')\n",
    "print(f'counts_calib={data[\"counts_calib\"].tolist()}')"
   ]
  },
  {
   "cell_type": "code",
   "execution_count": null,
   "metadata": {},
   "outputs": [],
   "source": [
    "# # counts_calib = data['counts_calib']\n",
    "# counts_calib=[array([3189,  426, 3176,  519, 1176,  198, 1110,  206]), array([ 580, 3047,  582, 3015,  207, 1148,  221, 1200]), array([1963,  289, 4456,  583,  721,   97, 1661,  230]), array([ 390, 1850,  812, 4372,  130,  683,  269, 1494]), array([1336,  209, 1293,  232, 2954,  473, 2981,  522]), array([ 256, 1341,  226, 1320,  512, 2924,  557, 2864]), array([ 809,  118, 1892,  295, 1810,  262, 4215,  599]), array([ 167,  796,  352, 1830,  325, 1776,  781, 3973])]\n",
    "\n",
    "\n",
    "# # introduce gaussian noise\n",
    "# np.random.seed(0)\n",
    "# noise = 2.0\n",
    "# n = np.copy([counts_calib[4]])\n",
    "# print(n, sum(n))\n",
    "# n0 = correct_readout_err(n, n_conf=counts_calib)\n",
    "# print('correct readout err', n0)\n",
    "# print('fix neg counts', fix_neg_counts(n0))\n",
    "\n",
    "# if noise is not None:\n",
    "#     for n_psi in n:\n",
    "#         n_meas = sum(n_psi)\n",
    "#         new_nlast = -1\n",
    "#         while new_nlast < 0:\n",
    "#                 new_n_uptolast = np.random.normal(loc=n_psi[:-1], scale=noise*np.sqrt(n_psi[:-1]))\n",
    "#                 # new_n_uptolast *= 1 - np.isnan(new_n_uptolast) # 0 out the nans\n",
    "#                 # print('here', new_n_uptolast)\n",
    "#                 # preserve original total count per measurement\n",
    "#                 new_nlast = n_meas - sum(new_n_uptolast)\n",
    "#                 n_psi[:-1] = np.round(new_n_uptolast)\n",
    "#                 n_psi[-1] = np.round(new_nlast)\n",
    "\n",
    "# print(1)\n",
    "# print(n, sum(n))\n",
    "# print(type(n))\n",
    "# print(np.shape(n))\n",
    "# print(n[0].dtype)\n",
    "# n = np.array(n, dtype=float)\n",
    "# n1 = correct_readout_err(n, n_conf=counts_calib)\n",
    "# print('correct readout err', n1)\n",
    "# print('fix neg counts', fix_neg_counts(n1))\n",
    "\n",
    "\n",
    "# # print('n1-n2')\n",
    "# # print(n1-n2)\n",
    "\n",
    "# print(3)\n",
    "# n = [[ 287, 1291,  675, 2954,  256, 1250,  554, 2733]]\n",
    "# print(n)\n",
    "# n = correct_readout_err(n, n_conf=counts_calib)\n",
    "# print(sum(n))\n",
    "# print(fix_neg_counts(n))\n",
    "\n",
    "# print(4)\n",
    "# correct_readout_err(counts_calib, counts_calib)"
   ]
  },
  {
   "cell_type": "markdown",
   "metadata": {},
   "source": [
    "### Set ideal rho"
   ]
  },
  {
   "cell_type": "markdown",
   "metadata": {},
   "source": [
    "Get ideal psi for fidelity calculation. Change this depending on what you want for ideal final state."
   ]
  },
  {
   "cell_type": "markdown",
   "metadata": {},
   "source": [
    "#### Get ideal final qram state from an arbitrary 2Q input density matrix"
   ]
  },
  {
   "cell_type": "code",
   "execution_count": 189,
   "metadata": {},
   "outputs": [
    {
     "name": "stdout",
     "output_type": "stream",
     "text": [
      "init state Q0 (switch) Q1 (input): |0+i>|1>\n",
      "constructing final state on |switch, out1, out2>\n"
     ]
    }
   ],
   "source": [
    "print('init state Q0 (switch) Q1 (input):', init_state)\n",
    "\n",
    "init_rho = qt.ket2dm(name_to_state_2q(init_state)).full()\n",
    "# if init_state == '|0+1>|0+1>':\n",
    "#     init_rho = np.array([[(0.23+0j), (0.057+0.233j), (0.18-0.099j), (-0.078+0.08j)], [(0.057-0.233j), (0.287+0j), (-0.016-0.171j), (-0.013+0.114j)], [(0.18+0.099j), (-0.016+0.171j), (0.266+0j), (-0.166+0.121j)], [(-0.078-0.08j), (-0.013-0.114j), (-0.166-0.121j), (0.217+0j)]])\n",
    "# init_rho = qt.ket2dm((name_to_state_2q('|1>|0>') + name_to_state_2q('|1>|1>') + name_to_state_2q('|0>|0>') + 1j*name_to_state_2q('|0>|1>')).unit())\n",
    "\n",
    "rho_id = get_qram_qSLR_state_from_rho(init_rho)\n",
    "# rho_id\n",
    "\n",
    "\n",
    "# # rho_MLE_ZZ_2Q_filepath = 'S:\\Connie\\experiments\\qramLL_4QR2\\data\\data_240218\\\\202402281619_init_rhoMLE_ZZ_2Q_01.npz'\n",
    "# rho_MLE_ZZ_2Q_filepath = 'S:\\Connie\\experiments\\qramLL_4QR2\\data\\data_240218\\\\202402291250_init_rhoMLE_ZZ_2Q_01.npz'\n",
    "\n",
    "# print(f'Using rho_MLE_ZZ for Q0/Q1 from file {rho_MLE_ZZ_2Q_filepath}')\n",
    "\n",
    "# rho_MLE_ZZ_dict = dict()\n",
    "# with np.load(rho_MLE_ZZ_2Q_filepath) as npzfile:\n",
    "#     for key in npzfile.keys():\n",
    "#         rho_MLE_ZZ_dict.update({key:npzfile[key]})\n",
    "# print(f'rho_MLE_ZZ retrieved with init_states {rho_MLE_ZZ_dict.keys()}')\n",
    "\n",
    "# init_rho = rho_MLE_ZZ_dict[init_state]\n",
    "# rho_id = get_qram_qSLR_state_from_rho(init_rho)"
   ]
  },
  {
   "cell_type": "code",
   "execution_count": 88,
   "metadata": {},
   "outputs": [],
   "source": [
    "# psi_id = qt.tensor(psiZ[1]+psiZ[0], psiZ[0], psiZ[1]+psiZ[0]).unit()\n",
    "# psi_id = qt.tensor(psiZ[1], psiZ[0], psiZ[1]).unit()\n",
    "# rho_id = qt.ket2dm(psi_id)\n",
    "# rho_id = qt.ket2dm(psis['010'] + psis['011']).unit()\n",
    "rho_id = qt.ket2dm(psis['010']).unit()\n",
    "# print(rho_id.dims)"
   ]
  },
  {
   "cell_type": "markdown",
   "metadata": {
    "tags": []
   },
   "source": [
    "### Generate test data"
   ]
  },
  {
   "cell_type": "code",
   "execution_count": null,
   "metadata": {},
   "outputs": [],
   "source": [
    "# rho_id = qt.ket2dm(psi10 + psi11).unit()\n",
    "\n",
    "# n_tomo = generate_counts(rho_id=rho_id, n_tot=8000, noise=None)\n",
    "n_tomo_sim = generate_counts(rho_id=rho_id, n_tot=100000, evol_mats=evol_mats, noise=None)\n",
    "# n_tomo = generate_counts(rho_id=rho_MLE_ZZ, n_tot=100000, evol_mats=evol_mats, noise=None)\n",
    "# n_tomo = n_tomo_sim\n",
    "print(n_tomo_sim)\n",
    "\n",
    "print(meas_order)\n",
    "print(calib_order)\n",
    "print('difference')\n",
    "print(np.round((n_tomo_sim - n_tomo)/100000, 2))"
   ]
  },
  {
   "cell_type": "code",
   "execution_count": null,
   "metadata": {},
   "outputs": [],
   "source": [
    "# n_tomo = generate_counts(rho_id=rho_id, n_tot=8000, noise=None)\n",
    "# n_tomo = generate_counts(rho_id=rho_id, n_tot=8000, evol_mats=evol_mats, noise=None)\n",
    "# n_calib = qt.qeye(4).full()\n",
    "# print(fix_neg_counts(n_tomo))"
   ]
  },
  {
   "cell_type": "markdown",
   "metadata": {
    "tags": []
   },
   "source": [
    "### Run MLE without ZZ correction"
   ]
  },
  {
   "cell_type": "code",
   "execution_count": 363,
   "metadata": {},
   "outputs": [
    {
     "name": "stdout",
     "output_type": "stream",
     "text": [
      "[[ 0.31285536-0.j         -0.02458826+0.00383627j -0.21223837-0.15402228j\n",
      "   0.00036948-0.01137754j  0.28455813+0.03151448j -0.11108474-0.14541526j\n",
      "   0.04233061+0.00954858j -0.00365875-0.00886387j]\n",
      " [-0.02458826-0.00383627j  0.01948968-0.j          0.01428835+0.00007306j\n",
      "   0.00248009-0.00156461j -0.01976387+0.01244095j -0.00152893-0.01149484j\n",
      "   0.00026836-0.00476889j -0.00094367+0.00272903j]\n",
      " [-0.21223837+0.15402228j  0.01428835-0.00007306j  0.23205322+0.j\n",
      "   0.00732569+0.01018456j -0.22400449+0.12003321j  0.16748949+0.03757418j\n",
      "  -0.03059293+0.01736975j  0.005217  +0.0032166j ]\n",
      " [ 0.00036948+0.01137754j  0.00248009+0.00156461j  0.00732569-0.01018456j\n",
      "   0.00115884-0.j         -0.0030551 +0.01348031j  0.00727887-0.00907311j\n",
      "   0.00071934+0.00150889j -0.00013035-0.00000022j]\n",
      " [ 0.28455813-0.03151448j -0.01976387-0.01244095j -0.22400449-0.12003321j\n",
      "  -0.0030551 -0.01348031j  0.28162467+0.j         -0.14228654-0.11523314j\n",
      "   0.0362249 +0.0003221j  -0.00227329-0.00626226j]\n",
      " [-0.11108474+0.14541526j -0.00152893+0.01149484j  0.16748949-0.03757418j\n",
      "   0.00727887+0.00907311j -0.14228654+0.11523314j  0.14481758-0.j\n",
      "  -0.01629869+0.02280289j  0.00320583-0.00107232j]\n",
      " [ 0.04233061-0.00954858j  0.00026836+0.00476889j -0.03059293-0.01736975j\n",
      "   0.00071934-0.00150889j  0.0362249 -0.0003221j  -0.01629869-0.02280289j\n",
      "   0.00740917-0.j         -0.00138575-0.00091719j]\n",
      " [-0.00365875+0.00886387j -0.00094367-0.00272903j  0.005217  -0.0032166j\n",
      "  -0.00013035+0.00000022j -0.00227329+0.00626226j  0.00320583+0.00107232j\n",
      "  -0.00138575+0.00091719j  0.00059148-0.j        ]]\n"
     ]
    }
   ],
   "source": [
    "# methods = 'Nelder-Mead' 'Powell' 'CG' 'BFGS' 'Newton-CG' 'L-BFGS-B' 'TNC' 'COBYLA' 'SLSQP' 'dogleg' 'trust-ncg'\n",
    "# rho_MLE_base = run_MLE(n=n_tomo, rho_id=rho_id, ZZ_correction=False, method='L-BFGS-B')\n",
    "rho_MLE_base = tomo_analysis.get_rho_from_counts(\n",
    "    n_tomo_raw=n_tomo_raw,\n",
    "    n_calib=n_calib,\n",
    "    correct_readout=True,\n",
    "    correct_neg_counts=True,\n",
    "    method='analytical',\n",
    "    ZZ_correction=False,\n",
    ")\n",
    "\n",
    "print(rho_MLE_base)"
   ]
  },
  {
   "cell_type": "code",
   "execution_count": 364,
   "metadata": {},
   "outputs": [
    {
     "name": "stdout",
     "output_type": "stream",
     "text": [
      "Fidelity (no ZZ correction): 0.04372193906305965\n",
      "Purity (no ZZ correction): 0.8911692474860778\n",
      "[[ 0.313-0.j    -0.025+0.004j -0.212-0.154j  0.   -0.011j  0.285+0.032j\n",
      "  -0.111-0.145j  0.042+0.01j  -0.004-0.009j]\n",
      " [-0.025-0.004j  0.019-0.j     0.014+0.j     0.002-0.002j -0.02 +0.012j\n",
      "  -0.002-0.011j  0.   -0.005j -0.001+0.003j]\n",
      " [-0.212+0.154j  0.014-0.j     0.232+0.j     0.007+0.01j  -0.224+0.12j\n",
      "   0.167+0.038j -0.031+0.017j  0.005+0.003j]\n",
      " [ 0.   +0.011j  0.002+0.002j  0.007-0.01j   0.001-0.j    -0.003+0.013j\n",
      "   0.007-0.009j  0.001+0.002j -0.   -0.j   ]\n",
      " [ 0.285-0.032j -0.02 -0.012j -0.224-0.12j  -0.003-0.013j  0.282+0.j\n",
      "  -0.142-0.115j  0.036+0.j    -0.002-0.006j]\n",
      " [-0.111+0.145j -0.002+0.011j  0.167-0.038j  0.007+0.009j -0.142+0.115j\n",
      "   0.145-0.j    -0.016+0.023j  0.003-0.001j]\n",
      " [ 0.042-0.01j   0.   +0.005j -0.031-0.017j  0.001-0.002j  0.036-0.j\n",
      "  -0.016-0.023j  0.007-0.j    -0.001-0.001j]\n",
      " [-0.004+0.009j -0.001-0.003j  0.005-0.003j -0.   +0.j    -0.002+0.006j\n",
      "   0.003+0.001j -0.001+0.001j  0.001-0.j   ]]\n",
      "Saved data:\n",
      "\n"
     ]
    }
   ],
   "source": [
    "fid_base = qt.fidelity(qt.Qobj(rho_MLE_base, dims=rho_id.dims), rho_id)**2 # qutip uses N&C fidelity which is \"sqrt fidelity\"\n",
    "purity_base = np.real(np.trace(rho_MLE_base @ rho_MLE_base))\n",
    "print(f'Fidelity (no ZZ correction): {fid_base}')\n",
    "print(f'Purity (no ZZ correction): {purity_base}')\n",
    "print(np.around(rho_MLE_base, decimals=3))\n",
    "\n",
    "init_state_title = ''\n",
    "for c in init_state:\n",
    "    if c != '>': init_state_title += c\n",
    "    else: init_state_title += '\\\\rangle'\n",
    "tomo_analysis.show_plot_rho_2d(rho_MLE_base, rho_id, title=f'Base MLE (Q{tomo_qubits[0]}, Q{tomo_qubits[1]}, Q{tomo_qubits[2]})\\nInit ${init_state_title}$, Play {play_pulses}', savetitle=None, cmax=0.5)\n",
    "\n",
    "print('Saved data:')\n",
    "print(*saved_files)"
   ]
  },
  {
   "cell_type": "code",
   "execution_count": 129,
   "metadata": {},
   "outputs": [
    {
     "name": "stdout",
     "output_type": "stream",
     "text": [
      "\n"
     ]
    }
   ],
   "source": [
    "print()"
   ]
  },
  {
   "cell_type": "markdown",
   "metadata": {},
   "source": [
    "### Run MLE with ZZ"
   ]
  },
  {
   "cell_type": "markdown",
   "metadata": {},
   "source": [
    "#### Get evol mats for ZZ"
   ]
  },
  {
   "cell_type": "code",
   "execution_count": 21,
   "metadata": {},
   "outputs": [],
   "source": [
    "# Recover old config\n",
    "yaml_cfg = AttrDict(attrs['config'])"
   ]
  },
  {
   "cell_type": "code",
   "execution_count": 88,
   "metadata": {},
   "outputs": [],
   "source": [
    "import yaml\n",
    "with open(config_path, 'r') as cfg_file:\n",
    "    yaml_cfg = yaml.safe_load(cfg_file)\n",
    "yaml_cfg = AttrDict(yaml_cfg)"
   ]
  },
  {
   "cell_type": "code",
   "execution_count": 89,
   "metadata": {},
   "outputs": [],
   "source": [
    "tomo_qubits = [0, 2, 3]"
   ]
  },
  {
   "cell_type": "code",
   "execution_count": 90,
   "metadata": {},
   "outputs": [
    {
     "name": "stdout",
     "output_type": "stream",
     "text": [
      "Will save evol mats to path S:\\QRAM\\qram_4QR2\\evol_mats\n",
      "Will save to filename evol_mats_023.npz\n"
     ]
    }
   ],
   "source": [
    "# evol_mats_path = os.path.join(os.getcwd(), 'evol_mats')\n",
    "evol_mats_path = \"S:\\\\QRAM\\\\qram_4QR2\\\\evol_mats\"\n",
    "print('Will save evol mats to path', evol_mats_path)\n",
    "\n",
    "qA, qB, qC = tomo_qubits\n",
    "evol_mats_filename = f'evol_mats_{qA}{qB}{qC}.npz'\n",
    "# evol_mats_filename = f'evol_mats_{qA}{qB}{qC}_old.npz'\n",
    "print('Will save to filename', evol_mats_filename)"
   ]
  },
  {
   "cell_type": "code",
   "execution_count": 91,
   "metadata": {
    "tags": []
   },
   "outputs": [
    {
     "name": "stdout",
     "output_type": "stream",
     "text": [
      "TOMO QUBITS [0, 2, 3]\n",
      "HAMILTONIAN QUBITS [0 2 3]\n",
      "qubit freqs [4108.77329807 4761.05616783 4378.55753183]\n",
      "alphas [-226.09720167 -187.99613902 -172.80388987]\n",
      "ZZs (MHz) [[ 0.         -0.12392578 -0.54079452]\n",
      " [-0.14432869  0.         -0.59515139]\n",
      " [-0.56121286 -0.56176744  0.        ]]\n",
      "Will save to filename evol_mats_023.npz\n"
     ]
    },
    {
     "data": {
      "application/vnd.jupyter.widget-view+json": {
       "model_id": "f870b3474c3c4a58b7fc5d5d5729e752",
       "version_major": 2,
       "version_minor": 0
      },
      "text/plain": [
       "  0%|          | 0/27 [00:00<?, ?it/s]"
      ]
     },
     "metadata": {},
     "output_type": "display_data"
    },
    {
     "name": "stdout",
     "output_type": "stream",
     "text": [
      "Y_robust_half_q3\n",
      "X_robust_half_q3\n",
      "Y_robust_half_q2\n",
      "Y_robust_half_q2\n",
      "Y_robust_half_q3\n",
      "Y_robust_half_q2\n",
      "Y_robust_half_q3\n",
      "X_robust_half_q3\n",
      "Y_robust_half_q2\n",
      "X_robust_half_q3\n",
      "Y_robust_half_q2\n",
      "X_robust_half_q2\n",
      "X_robust_half_q2\n",
      "Y_robust_half_q3\n",
      "X_robust_half_q2\n",
      "Y_robust_half_q3\n",
      "X_robust_half_q2\n",
      "X_robust_half_q3\n",
      "X_robust_half_q2\n",
      "X_robust_half_q3\n",
      "Y_robust_half_q0\n",
      "Y_robust_half_q0\n",
      "Y_robust_half_q3\n",
      "Y_robust_half_q0\n",
      "Y_robust_half_q3\n",
      "X_robust_half_q3\n",
      "Y_robust_half_q0\n",
      "X_robust_half_q3\n",
      "Y_robust_half_q0\n",
      "Y_robust_half_q0\n",
      "Y_robust_half_q2\n",
      "Y_robust_half_q0\n",
      "Y_robust_half_q2\n",
      "Y_robust_half_q0\n",
      "Y_robust_half_q2\n",
      "Y_robust_half_q3\n",
      "Y_robust_half_q0\n",
      "Y_robust_half_q2\n",
      "Y_robust_half_q3\n",
      "Y_robust_half_q0\n",
      "Y_robust_half_q2\n",
      "Y_robust_half_q3\n",
      "X_robust_half_q3\n",
      "Y_robust_half_q0\n",
      "Y_robust_half_q2\n",
      "X_robust_half_q3\n",
      "Y_robust_half_q0\n",
      "Y_robust_half_q2\n",
      "X_robust_half_q3\n",
      "Y_robust_half_q0\n",
      "Y_robust_half_q2\n",
      "X_robust_half_q2\n",
      "Y_robust_half_q0\n",
      "X_robust_half_q2\n",
      "Y_robust_half_q0\n",
      "X_robust_half_q2\n",
      "Y_robust_half_q0\n",
      "Y_robust_half_q3\n",
      "X_robust_half_q2\n",
      "Y_robust_half_q0\n",
      "Y_robust_half_q3\n",
      "X_robust_half_q2\n",
      "Y_robust_half_q0\n",
      "Y_robust_half_q3\n",
      "X_robust_half_q2\n",
      "X_robust_half_q3\n",
      "Y_robust_half_q0\n",
      "X_robust_half_q2\n",
      "X_robust_half_q3\n",
      "Y_robust_half_q0\n",
      "X_robust_half_q2\n",
      "X_robust_half_q3\n",
      "Y_robust_half_q0\n",
      "X_robust_half_q0\n",
      "X_robust_half_q0\n",
      "Y_robust_half_q3\n",
      "X_robust_half_q0\n",
      "Y_robust_half_q3\n",
      "X_robust_half_q0\n",
      "X_robust_half_q3\n",
      "X_robust_half_q0\n",
      "X_robust_half_q3\n",
      "X_robust_half_q0\n",
      "Y_robust_half_q2\n",
      "X_robust_half_q0\n",
      "Y_robust_half_q2\n",
      "X_robust_half_q0\n",
      "Y_robust_half_q2\n",
      "Y_robust_half_q3\n",
      "X_robust_half_q0\n",
      "Y_robust_half_q2\n",
      "Y_robust_half_q3\n",
      "X_robust_half_q0\n",
      "Y_robust_half_q2\n",
      "Y_robust_half_q3\n",
      "X_robust_half_q0\n",
      "X_robust_half_q3\n",
      "Y_robust_half_q2\n",
      "X_robust_half_q0\n",
      "X_robust_half_q3\n",
      "Y_robust_half_q2\n",
      "X_robust_half_q0\n",
      "X_robust_half_q3\n",
      "Y_robust_half_q2\n",
      "X_robust_half_q0\n",
      "X_robust_half_q2\n",
      "X_robust_half_q0\n",
      "X_robust_half_q2\n",
      "X_robust_half_q0\n",
      "X_robust_half_q2\n",
      "Y_robust_half_q3\n",
      "X_robust_half_q0\n",
      "X_robust_half_q2\n",
      "Y_robust_half_q3\n",
      "X_robust_half_q0\n",
      "X_robust_half_q2\n",
      "Y_robust_half_q3\n",
      "X_robust_half_q0\n",
      "X_robust_half_q2\n",
      "X_robust_half_q3\n",
      "X_robust_half_q0\n",
      "X_robust_half_q2\n",
      "X_robust_half_q3\n",
      "X_robust_half_q0\n",
      "X_robust_half_q2\n",
      "X_robust_half_q3\n",
      "Saved evol mats to file S:\\QRAM\\qram_4QR2\\evol_mats\\evol_mats_023.npz\n"
     ]
    }
   ],
   "source": [
    "evol_mats = tomo_analysis.get_evol_mats_from_yaml(\n",
    "    tomo_qubits=tomo_qubits,\n",
    "    yaml_cfg=yaml_cfg,\n",
    "    pulse_dict=pulse_dict,\n",
    "    cutoffs=[4]*(len(tomo_qubits)),\n",
    "    soccfg=soc,\n",
    "    debug=False,\n",
    "    evol_mats_path=evol_mats_path,\n",
    "    evol_mats_filename=evol_mats_filename,\n",
    ")"
   ]
  },
  {
   "cell_type": "markdown",
   "metadata": {},
   "source": [
    "#### Reload evol mats"
   ]
  },
  {
   "cell_type": "code",
   "execution_count": 32,
   "metadata": {},
   "outputs": [
    {
     "name": "stdout",
     "output_type": "stream",
     "text": [
      "Using evol mats from file S:\\QRAM\\qram_4QR2\\evol_mats\\evol_mats_023.npz\n"
     ]
    }
   ],
   "source": [
    "qA, qB, qC = tomo_qubits\n",
    "evol_mats_file_path = os.path.join(evol_mats_path, evol_mats_filename)\n",
    "# evol_mats_file_path = os.path.join(evol_mats_path, f'evol_mats_{qA}{qB}{qC}_test.npz')\n",
    "print(f'Using evol mats from file {evol_mats_file_path}')\n",
    "\n",
    "evol_mats = dict()\n",
    "with np.load(evol_mats_file_path) as npzfile:\n",
    "    for key in npzfile.keys():\n",
    "        evol_mats.update({key:npzfile[key]})\n",
    "# print(evol_mats)"
   ]
  },
  {
   "cell_type": "markdown",
   "metadata": {},
   "source": [
    "#### (Actually) run MLE with ZZ correction"
   ]
  },
  {
   "cell_type": "code",
   "execution_count": 192,
   "metadata": {},
   "outputs": [],
   "source": [
    "rho_MLE_ZZ = tomo_analysis.get_rho_from_counts(\n",
    "    n_tomo_raw=n_tomo_raw,\n",
    "    n_calib=n_calib,\n",
    "    correct_readout=True,\n",
    "    correct_neg_counts=True,\n",
    "    method='analytical',\n",
    "    ZZ_correction=True,\n",
    "    evol_mats=evol_mats\n",
    ")"
   ]
  },
  {
   "cell_type": "code",
   "execution_count": 25,
   "metadata": {},
   "outputs": [
    {
     "name": "stdout",
     "output_type": "stream",
     "text": [
      "init state to get ideal rho |0+1>|1>\n",
      "constructing final state on |switch, out1, out2>\n"
     ]
    }
   ],
   "source": [
    "# GET IDEAL RHO FROM DICTIONARY\n",
    "print('init state to get ideal rho', init_state)\n",
    "init_rho = rho_MLE_ZZ_dict[init_state]\n",
    "rho_id = get_qram_qSLR_state_from_rho(init_rho)"
   ]
  },
  {
   "cell_type": "code",
   "execution_count": 193,
   "metadata": {},
   "outputs": [
    {
     "name": "stdout",
     "output_type": "stream",
     "text": [
      "[[ 0.002-0.j    -0.   +0.004j -0.014+0.004j -0.   +0.j    -0.003+0.003j\n",
      "   0.013-0.013j -0.004-0.001j -0.   +0.j   ]\n",
      " [-0.   -0.004j  0.014-0.j    -0.   +0.032j  0.   +0.001j  0.011+0.008j\n",
      "  -0.026-0.03j  -0.005+0.01j   0.002+0.001j]\n",
      " [-0.014-0.004j -0.   -0.032j  0.485-0.j    -0.004+0.001j  0.022-0.001j\n",
      "  -0.445+0.115j  0.077+0.045j  0.001+0.001j]\n",
      " [-0.   -0.j     0.   -0.001j -0.004-0.001j  0.   -0.j     0.001-0.001j\n",
      "   0.003+0.002j -0.   -0.j     0.   -0.j   ]\n",
      " [-0.003-0.003j  0.011-0.008j  0.022+0.001j  0.001+0.001j  0.016-0.j\n",
      "  -0.038+0.014j  0.004+0.008j  0.002-0.001j]\n",
      " [ 0.013+0.013j -0.026+0.03j  -0.445-0.115j  0.003-0.002j -0.038-0.014j\n",
      "   0.465-0.j    -0.057-0.067j -0.003-0.002j]\n",
      " [-0.004+0.001j -0.005-0.01j   0.077-0.045j -0.   +0.j     0.004-0.008j\n",
      "  -0.057+0.067j  0.019-0.j     0.   -0.001j]\n",
      " [-0.   -0.j     0.002-0.001j  0.001-0.001j  0.   +0.j     0.002+0.001j\n",
      "  -0.003+0.002j  0.   +0.001j  0.   -0.j   ]]\n",
      "Fidelity (with ZZ correction): 0.3599306274893872\n",
      "Purity (with ZZ correction): 0.918466145386383\n",
      "Target purity: 1.0\n",
      "init state |0+i>|1>\n"
     ]
    }
   ],
   "source": [
    "print(np.around(rho_MLE_ZZ, decimals=3))\n",
    "fid_ZZ = qt.fidelity(qt.Qobj(rho_MLE_ZZ, dims=rho_id.dims), rho_id)**2 # qutip uses N&C fidelity which is \"sqrt fidelity\"\n",
    "purity_ZZ = np.real(np.trace(rho_MLE_ZZ @ rho_MLE_ZZ))\n",
    "purity_id = np.real(np.trace(rho_id.full() @ rho_id.full()))\n",
    "print(f'Fidelity (with ZZ correction): {fid_ZZ}')\n",
    "print(f'Purity (with ZZ correction): {purity_ZZ}')\n",
    "print(f'Target purity: {purity_id}')\n",
    "# savetitle = '1_0+1_ideal.png'\n",
    "# savetitle = 'test.png'\n",
    "savetitle=None\n",
    "\n",
    "# if savetitle is None: plt.style.use('default')\n",
    "# show_plot_rho_2d(rho_id, rho_id, title='MLE with ZZ Correction', savetitle=savetitle) #, cmax=1.0)\n",
    "print('init state', init_state)\n",
    "init_state_title = ''\n",
    "for c in init_state:\n",
    "    if c != '>': init_state_title += c\n",
    "    else: init_state_title += '\\\\rangle'\n",
    "tomo_analysis.show_plot_rho_2d(rho_MLE_ZZ, rho_id, title=f'MLE with ZZ Correction (Q{tomo_qubits[0]}, Q{tomo_qubits[1]}, Q{tomo_qubits[2]}), Init ${init_state_title}$, Play {play_pulses}', savetitle=savetitle, cmax=0.5)\n",
    "\n",
    "if save_data:\n",
    "    print('Saved data:')\n",
    "    print(saved_files[-1])"
   ]
  },
  {
   "cell_type": "markdown",
   "metadata": {
    "tags": []
   },
   "source": [
    "### Optimize over virtual Z gates on ideal rho "
   ]
  },
  {
   "cell_type": "markdown",
   "metadata": {},
   "source": [
    "Optimize over virtual Z gates on ideal rho "
   ]
  },
  {
   "cell_type": "code",
   "execution_count": 741,
   "metadata": {},
   "outputs": [],
   "source": [
    "# rho_MLE = rho_MLE_base\n",
    "rho_MLE = rho_MLE_ZZ"
   ]
  },
  {
   "cell_type": "code",
   "execution_count": 742,
   "metadata": {},
   "outputs": [
    {
     "ename": "NameError",
     "evalue": "name 'opt_virtualZ_MLE' is not defined",
     "output_type": "error",
     "traceback": [
      "\u001b[1;31m---------------------------------------------------------------------------\u001b[0m",
      "\u001b[1;31mNameError\u001b[0m                                 Traceback (most recent call last)",
      "\u001b[1;32m~\\AppData\\Local\\Temp\\ipykernel_10520\\2541755921.py\u001b[0m in \u001b[0;36m<module>\u001b[1;34m\u001b[0m\n\u001b[0;32m      7\u001b[0m \u001b[1;31m# phis[2] = np.linspace(0, 360, 100)\u001b[0m\u001b[1;33m\u001b[0m\u001b[1;33m\u001b[0m\u001b[0m\n\u001b[0;32m      8\u001b[0m \u001b[1;33m\u001b[0m\u001b[0m\n\u001b[1;32m----> 9\u001b[1;33m \u001b[0mrho_MLE_rot\u001b[0m\u001b[1;33m,\u001b[0m \u001b[0mbest_phis\u001b[0m\u001b[1;33m,\u001b[0m \u001b[0mbest_fid\u001b[0m\u001b[1;33m,\u001b[0m \u001b[0mfids_grid\u001b[0m \u001b[1;33m=\u001b[0m \u001b[0mopt_virtualZ_MLE\u001b[0m\u001b[1;33m(\u001b[0m\u001b[0mqt\u001b[0m\u001b[1;33m.\u001b[0m\u001b[0mQobj\u001b[0m\u001b[1;33m(\u001b[0m\u001b[0mrho_MLE\u001b[0m\u001b[1;33m,\u001b[0m \u001b[0mdims\u001b[0m\u001b[1;33m=\u001b[0m\u001b[0mrho_id\u001b[0m\u001b[1;33m.\u001b[0m\u001b[0mdims\u001b[0m\u001b[1;33m)\u001b[0m\u001b[1;33m,\u001b[0m \u001b[0mrho_id\u001b[0m\u001b[1;33m,\u001b[0m \u001b[0mphis\u001b[0m\u001b[1;33m=\u001b[0m\u001b[0mphis\u001b[0m\u001b[1;33m)\u001b[0m\u001b[1;33m\u001b[0m\u001b[1;33m\u001b[0m\u001b[0m\n\u001b[0m\u001b[0;32m     10\u001b[0m \u001b[0mprint\u001b[0m\u001b[1;33m(\u001b[0m\u001b[1;34m'Rotation:'\u001b[0m\u001b[1;33m,\u001b[0m \u001b[0mbest_phis\u001b[0m\u001b[1;33m)\u001b[0m\u001b[1;33m\u001b[0m\u001b[1;33m\u001b[0m\u001b[0m\n",
      "\u001b[1;31mNameError\u001b[0m: name 'opt_virtualZ_MLE' is not defined"
     ]
    }
   ],
   "source": [
    "phis = [None, None, None]\n",
    "phis[0] = np.linspace(0, 360, 30)\n",
    "phis[1] = np.linspace(0, 360, 30)\n",
    "phis[2] = np.linspace(0, 360, 30)\n",
    "# phis[0] = np.linspace(0, 360, 1)\n",
    "# phis[1] = np.linspace(0, 360, 100)\n",
    "# phis[2] = np.linspace(0, 360, 100)\n",
    "\n",
    "rho_MLE_rot, best_phis, best_fid, fids_grid = opt_virtualZ_MLE(qt.Qobj(rho_MLE, dims=rho_id.dims), rho_id, phis=phis)\n",
    "print('Rotation:', best_phis)"
   ]
  },
  {
   "cell_type": "code",
   "execution_count": null,
   "metadata": {},
   "outputs": [],
   "source": [
    "inner_sweep = phis[2]\n",
    "outer_sweep = phis[1]\n",
    "y_sweep = outer_sweep\n",
    "x_sweep = inner_sweep\n",
    "\n",
    "# vmax = np.max(fids_grid)\n",
    "vmax = 1.0\n",
    "\n",
    "# best_phis =  [350.7692307692307, 304.6153846153846, 138.46153846153845]\n",
    "# best_phis =  [115, 350, 203]\n",
    "# best_phis = [350.7692307692307, 18.46153846153846, 258.46153846153845]\n",
    "\n",
    "saveplot = True\n",
    "plot_filename = filename[:-3]+'.svg'\n",
    "if saveplot: plt.style.use('dark_background')\n",
    "best_phi_inds = [np.argmin(np.abs(phis[i]-best_phis[i])) for i in range(3)]\n",
    "\n",
    "for i_phi0, phi0 in enumerate(phis[0]):\n",
    "    if i_phi0 != best_phi_inds[0]: continue \n",
    "    print(f'phi Q0 {phi0}')\n",
    "    plt.figure()\n",
    "    plt.title(f'Fidelities ($\\phi_0: ${phi0:0.4})', fontsize=18)\n",
    "    plt.xlabel(f'$\\phi_{tomo_qubits[2]}$', fontsize=18)\n",
    "    plt.xticks(fontsize=14)\n",
    "    plt.ylabel(f'$\\phi_{tomo_qubits[1]}$', fontsize=18)\n",
    "    plt.yticks(fontsize=14)\n",
    "    plt.pcolormesh(y_sweep, x_sweep, fids_grid[i_phi0], cmap='viridis', shading='auto')\n",
    "    \n",
    "    plt.plot([best_phis[2]], [best_phis[1]], 'r', marker='*', markersize=15)\n",
    "    print(f'fid at phi2={best_phis[1]}, phi3={best_phis[2]}:', fids_grid[i_phi0][best_phi_inds[1]][best_phi_inds[2]])\n",
    "    \n",
    "    # old_best_phis = [0.0, 94.54545454545455, 349.09090909090907]\n",
    "    # old_best_phis = [0.0, 196.36363636363635, 341.8181818181818]\n",
    "    # plt.plot([old_best_phis[2]], [old_best_phis[1]], 'r', marker='o')\n",
    "    \n",
    "    divider = make_axes_locatable(plt.gca())\n",
    "    cax = divider.append_axes(\"right\", size=\"5%\", pad=0.05)\n",
    "    cbar = plt.colorbar(cax=cax, ticks=[0, 0.5, vmax])\n",
    "    # cbar.ax.set_title(f'Fidelity')\n",
    "    cbar.ax.tick_params(labelsize=12)\n",
    "    plt.clim(vmin=0, vmax=vmax)\n",
    "    \n",
    "    if saveplot:\n",
    "        plt.savefig(plot_filename, format='svg', bbox_inches='tight', transparent=True)\n",
    "        print('Saved', plot_filename)\n",
    "        \n",
    "    plt.show()\n",
    "    \n",
    "# print(f'Difference between phi0[0] and phi0[1]')\n",
    "# plt.figure()\n",
    "# plt.title(f'Difference in fidelities ($\\phi_0: $0 vs 30)')\n",
    "# plt.xlabel(f'phis Q{tomo_qubits[2]}')\n",
    "# plt.ylabel(f'phis Q{tomo_qubits[1]}')\n",
    "# plt.pcolormesh(y_sweep, x_sweep, fids_grid[0]-fids_grid[1], cmap='viridis', shading='auto')\n",
    "\n",
    "# # plt.plot([best_phis[2]], [best_phis[1]], 'r', marker='o')\n",
    "\n",
    "# # old_best_phis = [0.0, 94.54545454545455, 349.09090909090907]\n",
    "# # old_best_phis = [0.0, 196.36363636363635, 341.8181818181818]\n",
    "# # plt.plot([old_best_phis[2]], [old_best_phis[1]], 'r', marker='o')\n",
    "\n",
    "# plt.colorbar()\n",
    "# # plt.clim(vmin=0, vmax=1)\n",
    "# plt.show()"
   ]
  },
  {
   "cell_type": "code",
   "execution_count": null,
   "metadata": {},
   "outputs": [],
   "source": [
    "best_phis = [360.0, 360.0, 235.86206896551724]\n",
    "# best_phis = old_best_phis\n",
    "\n",
    "# rho_MLE = rho_MLE_ZZ\n",
    "\n",
    "z_phi123 = tomo_analysis.z_gate_nq(best_phis)\n",
    "rho_MLE_rot = (z_phi123*qt.Qobj(rho_MLE, dims=rho_id.dims)*z_phi123.dag()).unit()\n",
    "fid_rot = qt.fidelity(rho_MLE_rot, rho_id)**2\n",
    "\n",
    "purity_MLE = np.real(np.trace(rho_MLE @ rho_MLE))\n",
    "purity_MLE_rot = np.real(np.trace(rho_MLE_rot.full() @ rho_MLE_rot.full()))\n",
    "purity_id = np.real(np.trace(rho_id.full() @ rho_id.full()))\n",
    "print(f'Fidelity (after rotation): {fid_rot}')\n",
    "print(f'Purity (after rotation): {purity_MLE_rot}')\n",
    "print(f'Target purity: {purity_id}')\n",
    "print(f'Best rotation: {best_phis}')\n",
    "\n",
    "# print(np.around(rho_MLE_rot, decimals=3))\n",
    "savetitle=None\n",
    "# savetitle=saved_file[:-3]+f'_ZZcorrect_optrot.svg'\n",
    "tomo_analysis.show_plot_rho_2d(rho_MLE_rot, rho_id, title=f'MLE with ZZ Correction, Phase Optimized (Q{tomo_qubits[0]}, Q{tomo_qubits[1]}, Q{tomo_qubits[2]})', savetitle=savetitle, cmax=0.5)\n",
    "print('Saved data')\n",
    "print(saved_files[-1])"
   ]
  },
  {
   "cell_type": "markdown",
   "metadata": {},
   "source": [
    "# Loop over 2Q sweep parameters"
   ]
  },
  {
   "cell_type": "code",
   "execution_count": null,
   "metadata": {},
   "outputs": [],
   "source": [
    "# gain_sweep = np.linspace(2000, 25000, 11)\n",
    "# opt_lens = 1e3*np.array([2.4201237152470587, 1.1987019004033739, 0.7868408797215013, 0.5851160587684981, 0.4716335769416996, 0.3999234927074055, 0.34781134410506404, 0.3089041362621608, 0.2818412962269934, 0.2636215545192442, 0.2512183319921639])\n",
    "# opt_freqs = [5891.5, 5891.325, 5890.9, 5890.35, 5889.675, 5888.875, 5887.95, 5887.15, 5886.1, 5885.55, 5884.5]\n",
    "\n",
    "\n",
    "gain_sweep = np.linspace(18000, 32000, 11)\n",
    "opt_freqs = [5887.35, 5886.616666666667, 5885.883333333333, 5885.616666666667, 5885.116666666667, 5884.383333333333, 5884.116666666667, 5883.616666666667, 5882.883333333333, 5882.383333333333, 5882.583333333333]\n",
    "opt_lens = [0.30514258121790533, 0.28952631508344284, 0.27703044436306967, 0.2646698856191053, 0.25368901625658447, 0.24735611563570364, 0.23874769989670325, 0.23044507614293083, 0.22816368954972915, 0.22170985331767395, 0.20962837376879714]\n",
    "\n",
    "save_data = True\n",
    "sweep2Q_q = 2\n",
    "qubit = 2\n",
    "play_pulses=[1,3]"
   ]
  },
  {
   "cell_type": "code",
   "execution_count": null,
   "metadata": {},
   "outputs": [],
   "source": [
    "saved_files = []\n",
    "\n",
    "init_state = '|0+1>|1>'\n",
    "\n",
    "opt_phis = [None]\n",
    "\n",
    "thresholds = None\n",
    "angles = None\n",
    "ge_avgs = None\n",
    "counts_calib = None\n",
    "\n",
    "\n",
    "for i_gain, gain in enumerate(gain_sweep):\n",
    "    \n",
    "    tomo = meas.QramProtocol3QTomoExperiment(\n",
    "        soccfg=soc,\n",
    "        path=expt_path,\n",
    "        config_file=config_path,\n",
    "    )\n",
    "    \n",
    "    span = np.inf\n",
    "    npts = 1\n",
    "    if span < np.inf: print('time step size [cycles]:', soc.us2cycles(span/npts))\n",
    "    \n",
    "    tomo.cfg.expt = dict(\n",
    "        start=span,\n",
    "        step=0,\n",
    "        expts=1, # number of different time experiments\n",
    "        reps=30000, # number of reps per tomo/time step,\n",
    "        singleshot_reps=30000, # reps per state for singleshot calibration\n",
    "        post_process='scale', # 'threshold', (uses single shot binning), 'scale' (scale by ge_avgs), or None\n",
    "        tomo_3q=True,\n",
    "        tomo_qubits=tomo_qubits,\n",
    "        init_state=init_state,\n",
    "        play_pulses=play_pulses,\n",
    "        thresholds=thresholds,\n",
    "        angles=angles,\n",
    "        ge_avgs=ge_avgs,\n",
    "        counts_calib=counts_calib,\n",
    "    )\n",
    "    tomo.cfg.device.qubit.pulses.pi_EgGf_Q.gain[sweep2Q_q] = int(gain)\n",
    "    tomo.cfg.device.qubit.pulses.pi_EgGf_Q.sigma[sweep2Q_q] = opt_lens[i_gain]\n",
    "    tomo.cfg.device.qubit.f_EgGf_Q[sweep2Q_q] = opt_freqs[i_gain]\n",
    "    print('gain', tomo.cfg.device.qubit.pulses.pi_EgGf_Q.gain[sweep2Q_q],\n",
    "          'len', tomo.cfg.device.qubit.pulses.pi_EgGf_Q.sigma[sweep2Q_q],\n",
    "          'freq', tomo.cfg.device.qubit.f_EgGf_Q[sweep2Q_q])\n",
    "    try:\n",
    "        tomo.go(analyze=False, display=False, progress=False, save=False)\n",
    "    except Exception:\n",
    "        print(\"Pyro traceback:\")\n",
    "        print(\"\".join(Pyro4.util.getPyroTraceback()))\n",
    "    \n",
    "    if save_data: saved_files.append(tomo.save_data())\n",
    "    data = tomo.data\n",
    "    if i_gain == 0:\n",
    "        thresholds = data['thresholds']\n",
    "        angles = data['angles']\n",
    "        ge_avgs = data['ge_avgs']\n",
    "        counts_calib = data['counts_calib']\n",
    "    \n",
    "    print()"
   ]
  },
  {
   "cell_type": "code",
   "execution_count": null,
   "metadata": {},
   "outputs": [],
   "source": [
    "print(saved_files)"
   ]
  },
  {
   "cell_type": "code",
   "execution_count": null,
   "metadata": {},
   "outputs": [],
   "source": [
    "print(saved_files)"
   ]
  },
  {
   "cell_type": "markdown",
   "metadata": {},
   "source": [
    "### Calculate fidelities with ZZ correction and phase optimization"
   ]
  },
  {
   "cell_type": "code",
   "execution_count": null,
   "metadata": {},
   "outputs": [],
   "source": [
    "apply_ps = True\n",
    "ps_adjust = [-0.3, -1.0, -0.3, -0.3]\n",
    "# ps_adjust = [np.inf]*4\n",
    "ps_qubits = [0, 1, 2, 3]"
   ]
  },
  {
   "cell_type": "code",
   "execution_count": null,
   "metadata": {},
   "outputs": [],
   "source": [
    "all_n_tomo = []\n",
    "all_n_calib = []\n",
    "all_fids = []\n",
    "all_fids_rot = []\n",
    "\n",
    "rho_id = qt.ket2dm(psis['001'] + psis['110']).unit()\n",
    "\n",
    "for saved_file in saved_files:\n",
    "    saved_file = saved_file.split('\\\\')\n",
    "    # print(saved_file)\n",
    "    data, attrs = prev_data(expt_path, saved_file[-1])\n",
    "    pulse_dict = attrs['pulse_dict']\n",
    "    cfg = AttrDict(attrs['config'])\n",
    "    \n",
    "    n_tomo_raw, n_calib = tomo_analysis.n_tomo_calib_from_data(data, cfg, ps_adjust=ps_adjust, ps_qubits=ps_qubits, apply_ps=apply_ps, verbose=True)\n",
    "\n",
    "    all_n_tomo.append(n_tomo_raw)\n",
    "    all_n_calib.append(n_calib)\n",
    "\n",
    "    rho_MLE = tomo_analysis.get_rho_from_counts(\n",
    "        n_tomo_raw=n_tomo_raw,\n",
    "        n_calib=n_calib,\n",
    "        correct_readout=True,\n",
    "        correct_neg_counts=True,\n",
    "        method='analytical',\n",
    "        ZZ_correction=True,\n",
    "        evol_mats=evol_mats,\n",
    "    )\n",
    "    \n",
    "    # show_plot_rho_2d(rho_MLE_ZZ, rho_id, title=f'MLE with ZZ Correction (Q{tomo_qubits[0]}, Q{tomo_qubits[1]}, Q{tomo_qubits[2]})', savetitle=savetitle, cmax=0.5)\n",
    "    fid_base = qt.fidelity(qt.Qobj(rho_MLE, dims=rho_id.dims), rho_id)**2 # qutip uses N&C fidelity which is \"sqrt fidelity\"\n",
    "\n",
    "    all_fids.append(fid_base)\n",
    "    print('fid base', fid_base)\n",
    "    \n",
    "    rho_MLE_rot, best_phis, fid_rot = opt_virtualZ_MLE(qt.Qobj(rho_MLE, dims=rho_id.dims), rho_id, phis=phis)\n",
    "    all_fids_rot.append(fid_rot)\n",
    "    tomo_analysis.show_plot_rho_2d(rho_MLE_rot, rho_id, title=f'MLE with ZZ Correction, Phase Optimized (Q{tomo_qubits[0]}, Q{tomo_qubits[1]}, Q{tomo_qubits[2]})', savetitle=None, cmax=0.5)\n",
    "    print('fid rot', fid_rot)\n",
    "    \n"
   ]
  },
  {
   "cell_type": "code",
   "execution_count": null,
   "metadata": {},
   "outputs": [],
   "source": [
    "# print(all_n_tomo)\n",
    "# print(all_n_calib)\n",
    "# print(all_fids)\n",
    "print('fidelity with optimized rotation\\n', all_fids_rot)\n",
    "print('saved files\\n', saved_files)"
   ]
  },
  {
   "cell_type": "code",
   "execution_count": null,
   "metadata": {},
   "outputs": [],
   "source": [
    "plt.plot(opt_lens, all_fids_rot, label='Q2 measured fidelity')\n",
    "\n",
    "# decay_time = 10e3 # ns\n",
    "# max_fid_times = np.linspace(0, max(opt_lens), 100)\n",
    "# max_fids = np.exp(-max_fid_times/decay_time)\n",
    "# plt.plot(max_fid_times, max_fids, '--', label=f'{decay_time/1e3} us decay')\n",
    "\n",
    "# decay_time = 1e3 # ns\n",
    "# max_fid_times = np.linspace(0, max(opt_lens), 100)\n",
    "# max_fids = np.exp(-max_fid_times/decay_time)\n",
    "# plt.plot(max_fid_times, max_fids, '--', label=f'{decay_time/1e3} us decay')\n",
    "\n",
    "plt.xlabel(f'Length of 2Q swap in full protocol (ns)')\n",
    "plt.ylabel(f'Q{sweep2Q_q} Fidelity')\n",
    "plt.title(f'Q{sweep2Q_q}/Q1 parameter sweep from initial state {init_state}')\n",
    "plt.legend()\n",
    "plt.show()"
   ]
  },
  {
   "cell_type": "code",
   "execution_count": null,
   "metadata": {},
   "outputs": [],
   "source": []
  }
 ],
 "metadata": {
  "kernelspec": {
   "display_name": "base",
   "language": "python",
   "name": "python3"
  },
  "language_info": {
   "codemirror_mode": {
    "name": "ipython",
    "version": 3
   },
   "file_extension": ".py",
   "mimetype": "text/x-python",
   "name": "python",
   "nbconvert_exporter": "python",
   "pygments_lexer": "ipython3",
   "version": "3.9.13"
  }
 },
 "nbformat": 4,
 "nbformat_minor": 4
}
